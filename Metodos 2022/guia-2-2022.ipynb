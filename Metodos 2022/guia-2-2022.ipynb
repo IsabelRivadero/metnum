{
 "cells": [
  {
   "cell_type": "markdown",
   "metadata": {},
   "source": [
    "# Métodos Numéricos \n",
    "\n",
    "## Guía 2: Solución de ecuaciones de una variable (Abril 2022)"
   ]
  },
  {
   "cell_type": "code",
   "execution_count": null,
   "metadata": {},
   "outputs": [],
   "source": [
    "using Plots\n",
    "using LaTeXStrings\n",
    "using DataFrames # Recuerde instalar este paquete ingresando en una celda: using Pkg; Pkg.add(\"DataFrames\")"
   ]
  },
  {
   "cell_type": "markdown",
   "metadata": {},
   "source": [
    "### Problema 1.A\n",
    "\n",
    "Desarrolle un programa para encontrar la raíz de una función $f$ utilizando el método de la **bisección**.\n",
    "El programa debe tomar como datos de entrada:\n",
    "\n",
    "* la función $f:\\mathbb{R}\\to \\mathbb{R}$, \n",
    "\n",
    "* el intervalo inicial $[a,b]$, \n",
    "\n",
    "* la máxima tolerancia permitida $\\varepsilon_x$ del error relativo a la aproximación de la única raíz $x$ en $[a,b]$,\n",
    "\n",
    "* la máxima tolerancia permitida $\\varepsilon_f$ al valor de $|f(p)|$ para la presupuesta mejor aproximación $p$ que el algoritmo genere,\n",
    "\n",
    "* y el número máximo $n_{\\max}$ de iteraciones permitidas.\n",
    "\n",
    "En cada iteración, el programa debe imprimir la siguiente información:\n",
    "\n",
    "* un booleano indicando si el algoritmo convergió o no dentro de las tolerancias máximas permitidas,\n",
    "\n",
    "* el número de iteración $i$,\n",
    "\n",
    "* la correspondiente aproximación de la raíz $p_i$,\n",
    "\n",
    "* el valor $f_i:=f(p_i)$,\n",
    "\n",
    "* las cota $c_i:=|b_i-a_i|/2$ del correspondiente error absoluto $|x-p_i|$,\n",
    "\n",
    "* y la estimación $r_i:=c_i/|p_{i}|$ del correspondiente error relativo $|x-p_i|/|x|$.\n",
    "\n",
    "El programa debe deternerse si se cumple:\n",
    "\n",
    "$$\n",
    "(r_i<\\varepsilon_x \\;\\; \\text{AND} \\;\\; |f_i|<\\varepsilon_f) \\;\\; \\text{OR} \\;\\; n=n_{\\max}\n",
    "$$\n",
    "\n",
    "Tambien debe trabajar con números de precisión suficientemente alta como para obtener resultados con 12 cifras significativas en los reales (ej. `Float64`)."
   ]
  },
  {
   "cell_type": "code",
   "execution_count": null,
   "metadata": {},
   "outputs": [],
   "source": []
  },
  {
   "cell_type": "markdown",
   "metadata": {},
   "source": [
    "### Problema 1.B\n",
    "\n",
    "1. Encontrar una aproximación a $\\sqrt{3}$ con un error (relativo en $x$ y absoluto en $y$) menor a $10^{-5}$. Para ello, \n",
    "\n",
    "    a. Note que $\\sqrt{3}$ es la raíz positiva de la ecuación $f(x)=x^2-3$.\n",
    "\n",
    "    b. Grafique $f(x)$ vs $x$ en el intervalo para determinar que tiene una raíz $x\\in [1,2]$.\n",
    "    \n",
    "    d. Utilice el programa desarrollado en **1.A** y responda: Cuanto vale la presunta mejor aproximación $p_n$? Cuántas iteraciones fueron necesarias?\n",
    "    \n",
    "    e. Calcule los valores exactos del error absolutos y del error relativo comparando el resultado $p_n$ con el \"analítico\".\n",
    "\n",
    "2. Encontrar la menor solución positiva de la ecuación $f(x)=\\tan(x)-2x$ con un error (relativo en $x$ y absoluto en $y$) menor a $10^{-5}$. Para ello, repita lo realizado en el inciso 1. (con excepción del inciso e., ya que no podemos calcular el valor analítico) considerando el intérvalo $x\\in [0.8,1.4]$."
   ]
  },
  {
   "cell_type": "code",
   "execution_count": null,
   "metadata": {},
   "outputs": [],
   "source": []
  },
  {
   "cell_type": "markdown",
   "metadata": {},
   "source": [
    "### Problema 1.C\n",
    "\n",
    "Modique al programa desarrollado en el inciso **1.A** de manera tal que, en vez de imprimir los valores obtenidos a lo largo de las diferentes iteraciones, retorne una tupla con las siguientes componentes:\n",
    "\n",
    "* un booleano indicando si el algoritmo convergió o no dentro de las tolerancias máximas permitidas,\n",
    "\n",
    "* un vector de componentes $p_i$ para $i=1,2,...,n$, donde $n$ es el número de iteraciones realizadas por el algoritmo y, por ende, $p_n$ es la presunta mejor aproximación obtenida.\n",
    "\n",
    "* un vector $f$ de componentes $f_i$,\n",
    "\n",
    "* un vector $c$ de componentes $c_i$,\n",
    "\n",
    "* y un vector $r$ de componentes $r_i$."
   ]
  },
  {
   "cell_type": "code",
   "execution_count": null,
   "metadata": {},
   "outputs": [],
   "source": []
  },
  {
   "cell_type": "markdown",
   "metadata": {},
   "source": [
    "### Problema 1.D\n",
    "\n",
    "Utilize el programa desarrollado en el inciso **1.C** para:\n",
    "\n",
    "1. Encontrar nuevamente la a $\\sqrt{3}$. Luego:\n",
    "  \n",
    "    a. Imprima una lista con los valores $i$, $p_i$, $f_i$, $d_i$ y $r_i$  para $i=1,...,n$. Utilice el paquete `DataFrames`.\n",
    "    \n",
    "    b. Grafique $p_i$ vs $i$ usando puntos (en vez de una línea contínua).\n",
    "    \n",
    "    c. Grafique $f(p_i)$ vs $i$ usando puntos y escala logarítmica en el eje de las ordenadas. Recuerde, la abscisa es el eje $x$ y la ordenada el eje $y$.\n",
    "    \n",
    "    d. Grafique, con puntos de un color los errores absolutos, y con puntos de otro color los errores relativos, ambos vs $i$ y con escala logarítimica en el eje de las ordenadas.\n",
    "\n",
    "Recuerde de poner título, nombre a los ejes y leyendas para las distintas curvas.\n",
    "\n",
    "2. Encontrar nuevamente la menor solución positiva de la ecuación $f(x)=\\tan(x)-2x$ y repita los incisos items del inciso anterior."
   ]
  },
  {
   "cell_type": "code",
   "execution_count": null,
   "metadata": {},
   "outputs": [],
   "source": []
  },
  {
   "cell_type": "markdown",
   "metadata": {},
   "source": [
    "### Problema 2\n",
    "\n",
    "Desarrolle un programa para encontrar la raíz de una función $f$ utilizando el método de Newton (también conocido como Newton-Raphson).\n",
    "El programa debe tomar como datos de entrada la función $f:\\mathbb{R}\\to \\mathbb{R}$, su derivada $f':\\mathbb{R}\\to \\mathbb{R}$, una estimación inicial $p_1$ de la raíz $x$, la tolerancia $\\varepsilon_x$ a la estimación $r_i:=\\frac{|p_{i+1} - p_{i}|}{|p_{i+1}|}$ del error relativo $|x-p_i|/|x|$ en la iteración $i$ para $i=1,2,...,n$, la tolerancia en $\\varepsilon_f$ al valor absoluto de $f_i:=f(p_{i})$ y el número máximo de iteraciones permitido $n_{\\max}$.\n",
    "El programa debe retornar una tupla con las siguientes componentes:\n",
    "\n",
    "* Un booleano indicando si el algoritmo convergió.\n",
    "\n",
    "* Un vector de componentes $p_i$ para $i=1,2,...,n$, donde $n$ es el número de iteraciones realizado por el programa.\n",
    "\n",
    "* Un vector de valores $f_i:=f(p_i)$.\n",
    "\n",
    "* Un vector de estimaciones $c_i:=|p_{i+1}-p_i|$ de errores absolutos $|x-p_i|$.\n",
    "\n",
    "* Un vector de estimaciones $r_i:=c_i/|p_{i+1}|$ de errores relativos $|x-p_i|/|x|$.\n",
    "\n",
    "El programa debe finalizar en la iteración $n$-ésima que satisfaga por vez primera:\n",
    "$$\n",
    "\\left( r_n < \\varepsilon_x \\qquad \\text{AND} \\qquad \n",
    "f_n < \\varepsilon_f \\right) \\qquad \\text{OR} \\qquad\n",
    "n = n_{\\max}\n",
    "$$\n",
    "y debe poder utlizar 13 cifras significativas para las variables reales (ej. `Float64`).\n",
    "\n",
    "Utilice este programa para resolver los incisos 1 y 2 del problema **1.B** usando $p_1=1$ en ambos casos. No hace falta graficar $f(x)$ vs $x$. Compare la cantidad de iteraciones $n$, la cantidad de evaluaciones de la función $f$ y su derivada $f'$ en los dos métodos."
   ]
  },
  {
   "cell_type": "code",
   "execution_count": null,
   "metadata": {},
   "outputs": [],
   "source": []
  },
  {
   "cell_type": "markdown",
   "metadata": {},
   "source": [
    "### Problema 3\n",
    "\n",
    "Compute y grafique en escala log-lineal el error relativo estimado $r_i:=|p_{i+1}-p_i|/|p_{i+1}|$ vs $i$ de las aproximaciones de $\\sqrt{3}$ con los métodos de la bisección y Newton, partiendo del intervalo $[0,2.5]$ y del valor inicial $p_1=2.5$, respectivamente. \n",
    "Utilice en ambos casos tolerancias $\\varepsilon_x=\\varepsilon_f=10^{-10}$."
   ]
  },
  {
   "cell_type": "code",
   "execution_count": null,
   "metadata": {},
   "outputs": [],
   "source": []
  },
  {
   "cell_type": "markdown",
   "metadata": {},
   "source": [
    "### Problema 4\n",
    "\n",
    "Un objeto en caída vertical en el aire está sujeto a la fuerza de gravedad y a la resistencia del aire. Si un objeto de masa $m$ es dejado caer desde una altura $h_0$, su altura luego de $t$ segundos está dada por:\n",
    "$$\n",
    "h(t) = h_0 - \\frac{mg}{k} t + \\frac{m^2 g}{k^2} \\left( 1 - e^{-kt/m}\\right)\n",
    "$$\n",
    "donde $g=9.8\\, m/s^2$ y $k$ representa el coeficiente de resistencia del aire en $kg / s$.\n",
    "Suponga que $h_0 = 10\\,m$, $m=0.1\\,kg$, y $k=0.149\\,kg/s$.\n",
    "Grafique $h(t)$ para analizar su comportamiento.\n",
    "Encuentre, con una precisión de $0.01\\,s$, el tiempo que le toma a este objeto llegar al suelo. \n",
    "Utilice el método de bisección y el de Newton-Raphson."
   ]
  },
  {
   "cell_type": "code",
   "execution_count": null,
   "metadata": {},
   "outputs": [],
   "source": []
  },
  {
   "cell_type": "markdown",
   "metadata": {},
   "source": [
    "### Problema 5\n",
    "\n",
    "Encuentre la solución a la ecuación \n",
    "$$\n",
    "x - \\cos x = 0 \n",
    "$$\n",
    "en el intervalo $[0, \\pi/2]$ con un error relativo $\\varepsilon_x=10^{-10}$ utilizando:\n",
    "\n",
    "1. el método de la **secante** con $p_1=0.0$ y $p_2=\\pi/2$,\n",
    "\n",
    "2. el método de **regula falsi** con $a=0.0$ y $b=\\pi/2$,\n",
    "\n",
    "3. el método de **bisección** con $a=0.0$ y $b=\\pi/2$ y\n",
    "\n",
    "4. el método de **Newton** con $p_1=1$.\n",
    "\n",
    "Graficar el error relativo $r_i$ retornado por cada método vs el número de iteración $i$ para los cuatro casos. Utilice escala log-lineal (es decir, logarítmica en el eje $y$ y lineal en el eje $x$)."
   ]
  },
  {
   "cell_type": "code",
   "execution_count": null,
   "metadata": {},
   "outputs": [],
   "source": []
  },
  {
   "cell_type": "markdown",
   "metadata": {},
   "source": [
    "## Problema 6\n",
    "\n",
    "Dado el siguiente polinomio $p(x) = -10 + 5 x - 12 x^2  + 6 x^3  - 2 x^4  + x^5$, grafique el mismo y observe que posee una única raíz real positiva, encuentre la misma utilizando:\n",
    "\n",
    "1. El método de bisección. Elija el intervalo $[a,b]$ utilizando el **Teorema de las cotas de Cauchy** que acota la región del espacio complejo donde se encuentran las raíces. Evalúe el polinomio utilizando el algoritmo de Horner.\n",
    "\n",
    "2. El método de Newton-Raphson. Elija el valor inicial utilizando los teoremas que acotan la región del espacio complejo donde se encuentran las raíces. Evalúe el polinomio y su derivada utilizando el algoritmo de Horner."
   ]
  },
  {
   "cell_type": "markdown",
   "metadata": {},
   "source": [
    "**Teorema de las cotas de Cauchy**\n",
    "\n",
    "Sea $p(x) = a_0 + a_1x + a_2x^2+...+a_nx^n$ un polinomio sobre $\\mathbb{C}$ de grado $n\\geq 1$ y coeficientes $a_i\\in \\mathbb{C}$ para $i=0,1,...,n$. Luego, todas las raices de $p$ se encuentran en el intervalo $[-(M+1),M+1]$ para $M = \\max\\left\\{\\frac{|a_0|}{|a_n|},\\frac{|a_0|}{|a_n|},...,\\frac{|a_{n-1}|}{|a_n|}\\right\\}$."
   ]
  },
  {
   "cell_type": "markdown",
   "metadata": {},
   "source": [
    "**Algoritmo de Horner**\n",
    "\n",
    "Cualquier polinomio\n",
    "$$\n",
    "p(x)=a_0+a_1x+a_2x^2+...+a_{n-1}x^{n-1}+a_nx^n\n",
    "$$\n",
    "puede ser reescrito como\n",
    "$$\n",
    "p(x)=a_0+x(a_1+x(a_2+...+x(a_{n-1}+xa_n)...))\n",
    "$$\n",
    "El algoritmo de Horner consiste en calcular $p(x)$ para un valor dado de $x$ sacando ventaja de la anterior expresión, ya que nos evita tener que calcular potencias $x^2, x^3, ..., x^n$ lo cual resulta numericamente costozo y tendiente a introducir errores numéricos indeseables.\n",
    "Notar que\n",
    "$$\n",
    "p'(x)=a_1+2a_2x+3a_3x^2+...+(n-1)a_{n-1}x^{n-2}+na_nx^{n-1}\n",
    "$$\n",
    "lo cual se reduce a\n",
    "$$\n",
    "p'(x)=a_1+x(2a_2+x(3a_3+...+x((n-1)a_{n-1}+xna_n))+...)))\n",
    "$$"
   ]
  },
  {
   "cell_type": "code",
   "execution_count": null,
   "metadata": {},
   "outputs": [],
   "source": []
  },
  {
   "cell_type": "markdown",
   "metadata": {},
   "source": [
    "## Ejercicios Complementarios"
   ]
  },
  {
   "cell_type": "markdown",
   "metadata": {},
   "source": [
    "### Problema C.1\n",
    "\n",
    "Adapte el programa de Newton-Raphson para calcular una aproximación a la raíz cúbica de un número \n",
    "$R$ positivo."
   ]
  },
  {
   "cell_type": "code",
   "execution_count": null,
   "metadata": {},
   "outputs": [],
   "source": []
  }
 ],
 "metadata": {
  "@webio": {
   "lastCommId": null,
   "lastKernelId": null
  },
  "kernelspec": {
   "display_name": "Julia 1.6.1",
   "language": "julia",
   "name": "julia-1.6"
  },
  "language_info": {
   "file_extension": ".jl",
   "mimetype": "application/julia",
   "name": "julia",
   "version": "1.6.1"
  }
 },
 "nbformat": 4,
 "nbformat_minor": 4
}
