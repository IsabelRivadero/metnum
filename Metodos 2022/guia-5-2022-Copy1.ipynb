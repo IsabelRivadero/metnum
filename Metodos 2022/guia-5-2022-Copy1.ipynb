{
 "cells": [
  {
   "cell_type": "markdown",
   "metadata": {},
   "source": [
    "# Métodos Numéricos (2022)\n",
    "\n",
    "## Guía 5: Integración Numérica"
   ]
  },
  {
   "cell_type": "code",
   "execution_count": 1,
   "metadata": {},
   "outputs": [],
   "source": [
    "using Plots"
   ]
  },
  {
   "cell_type": "markdown",
   "metadata": {},
   "source": [
    "## Problema 1\n",
    "1. Haciendo los calculos a mano y trabajando con 7 cifras significativas, encuentre las aproximaciones a las integrales definidas:\n",
    "\n",
    "    a. $I_1 = \\int_0^1 x^4 dx$\n",
    "\n",
    "    b. $I_2 = \\int_0^{\\pi} \\sin{(x)} dx$\n",
    "\n",
    "utilizando las reglas simples de *i) punto medio*, *ii) trapecio* y *iii) Simpson*. \n",
    "\n",
    "2. Calcule el error absoluto y el error relativo en cada caso y para cada método."
   ]
  },
  {
   "cell_type": "markdown",
   "metadata": {},
   "source": [
    "*Integral valor exacto I1*"
   ]
  },
  {
   "cell_type": "code",
   "execution_count": 2,
   "metadata": {},
   "outputs": [
    {
     "data": {
      "text/plain": [
       "0.2f0"
      ]
     },
     "execution_count": 2,
     "metadata": {},
     "output_type": "execute_result"
    }
   ],
   "source": [
    "f(x)=x^4\n",
    "F(x)=1/5*x^5\n",
    "a=0\n",
    "b=1\n",
    "I=Float32(F(b)-F(a))"
   ]
  },
  {
   "cell_type": "markdown",
   "metadata": {},
   "source": [
    "***1.a.i)***"
   ]
  },
  {
   "cell_type": "code",
   "execution_count": 3,
   "metadata": {},
   "outputs": [
    {
     "data": {
      "text/plain": [
       "0.0625f0"
      ]
     },
     "execution_count": 3,
     "metadata": {},
     "output_type": "execute_result"
    }
   ],
   "source": [
    "I1=(b-a)f((a+b)/Float32(2))"
   ]
  },
  {
   "cell_type": "markdown",
   "metadata": {},
   "source": [
    "***2.***"
   ]
  },
  {
   "cell_type": "code",
   "execution_count": 4,
   "metadata": {},
   "outputs": [
    {
     "data": {
      "text/plain": [
       "0.1375f0"
      ]
     },
     "execution_count": 4,
     "metadata": {},
     "output_type": "execute_result"
    }
   ],
   "source": [
    "Eabs=abs(I-I1)"
   ]
  },
  {
   "cell_type": "code",
   "execution_count": 5,
   "metadata": {},
   "outputs": [
    {
     "data": {
      "text/plain": [
       "0.6875f0"
      ]
     },
     "execution_count": 5,
     "metadata": {},
     "output_type": "execute_result"
    }
   ],
   "source": [
    "Er=abs(I-I1)/I"
   ]
  },
  {
   "cell_type": "markdown",
   "metadata": {},
   "source": [
    "***1.a.ii)***"
   ]
  },
  {
   "cell_type": "code",
   "execution_count": 6,
   "metadata": {},
   "outputs": [
    {
     "data": {
      "text/plain": [
       "0.5f0"
      ]
     },
     "execution_count": 6,
     "metadata": {},
     "output_type": "execute_result"
    }
   ],
   "source": [
    "I1=(b-a)*(f(a)+f(b))/Float32(2)"
   ]
  },
  {
   "cell_type": "markdown",
   "metadata": {},
   "source": [
    "***2.***"
   ]
  },
  {
   "cell_type": "code",
   "execution_count": 7,
   "metadata": {},
   "outputs": [
    {
     "data": {
      "text/plain": [
       "0.3f0"
      ]
     },
     "execution_count": 7,
     "metadata": {},
     "output_type": "execute_result"
    }
   ],
   "source": [
    "Eabs=abs(I-I1)"
   ]
  },
  {
   "cell_type": "code",
   "execution_count": 8,
   "metadata": {},
   "outputs": [
    {
     "data": {
      "text/plain": [
       "1.5f0"
      ]
     },
     "execution_count": 8,
     "metadata": {},
     "output_type": "execute_result"
    }
   ],
   "source": [
    "Er=abs(I-I1)/I"
   ]
  },
  {
   "cell_type": "markdown",
   "metadata": {},
   "source": [
    "***1.a.iii)***"
   ]
  },
  {
   "cell_type": "code",
   "execution_count": 9,
   "metadata": {},
   "outputs": [
    {
     "data": {
      "text/plain": [
       "0.20833333f0"
      ]
     },
     "execution_count": 9,
     "metadata": {},
     "output_type": "execute_result"
    }
   ],
   "source": [
    "x0=a\n",
    "x1=(a+b)/2\n",
    "x2=b\n",
    "h=(b-a)/2\n",
    "I1=Float32((h/3)*(f(x0)+4f(x1)+f(x2)))"
   ]
  },
  {
   "cell_type": "markdown",
   "metadata": {},
   "source": [
    "***2.***"
   ]
  },
  {
   "cell_type": "code",
   "execution_count": 10,
   "metadata": {},
   "outputs": [
    {
     "data": {
      "text/plain": [
       "0.008333325f0"
      ]
     },
     "execution_count": 10,
     "metadata": {},
     "output_type": "execute_result"
    }
   ],
   "source": [
    "Eabs=abs(I-I1)"
   ]
  },
  {
   "cell_type": "code",
   "execution_count": 11,
   "metadata": {},
   "outputs": [
    {
     "data": {
      "text/plain": [
       "0.041666627f0"
      ]
     },
     "execution_count": 11,
     "metadata": {},
     "output_type": "execute_result"
    }
   ],
   "source": [
    "Er=abs(I-I1)/I"
   ]
  },
  {
   "cell_type": "code",
   "execution_count": null,
   "metadata": {},
   "outputs": [],
   "source": []
  },
  {
   "cell_type": "code",
   "execution_count": null,
   "metadata": {},
   "outputs": [],
   "source": []
  },
  {
   "cell_type": "markdown",
   "metadata": {},
   "source": [
    "*Integral valor exacto I2*"
   ]
  },
  {
   "cell_type": "code",
   "execution_count": 12,
   "metadata": {
    "scrolled": true
   },
   "outputs": [
    {
     "data": {
      "text/plain": [
       "2.0f0"
      ]
     },
     "execution_count": 12,
     "metadata": {},
     "output_type": "execute_result"
    }
   ],
   "source": [
    "f(x)=sin(x)\n",
    "F(x)=-cos(x)\n",
    "a=0\n",
    "b=pi\n",
    "I=Float32(F(b)-F(a))"
   ]
  },
  {
   "cell_type": "markdown",
   "metadata": {},
   "source": [
    "***1.b.i)***"
   ]
  },
  {
   "cell_type": "code",
   "execution_count": 13,
   "metadata": {},
   "outputs": [
    {
     "data": {
      "text/plain": [
       "3.141592653589793"
      ]
     },
     "execution_count": 13,
     "metadata": {},
     "output_type": "execute_result"
    }
   ],
   "source": [
    "I2=(b-a)f((a+b)/Float32(2))"
   ]
  },
  {
   "cell_type": "code",
   "execution_count": 14,
   "metadata": {},
   "outputs": [
    {
     "data": {
      "text/plain": [
       "1.1415926535897931"
      ]
     },
     "execution_count": 14,
     "metadata": {},
     "output_type": "execute_result"
    }
   ],
   "source": [
    "Eabs=abs(I-I2)"
   ]
  },
  {
   "cell_type": "code",
   "execution_count": 15,
   "metadata": {},
   "outputs": [
    {
     "data": {
      "text/plain": [
       "0.5707963267948966"
      ]
     },
     "execution_count": 15,
     "metadata": {},
     "output_type": "execute_result"
    }
   ],
   "source": [
    "Er=abs(I-I2)/I"
   ]
  },
  {
   "cell_type": "markdown",
   "metadata": {},
   "source": [
    "***1.b.ii)***"
   ]
  },
  {
   "cell_type": "code",
   "execution_count": 16,
   "metadata": {},
   "outputs": [
    {
     "data": {
      "text/plain": [
       "1.9236707f-16"
      ]
     },
     "execution_count": 16,
     "metadata": {},
     "output_type": "execute_result"
    }
   ],
   "source": [
    "I2=Float32((b-a)*(f(a)+f(b))/2)     ### sin(a)=0  y  sin(b)~0"
   ]
  },
  {
   "cell_type": "code",
   "execution_count": 17,
   "metadata": {},
   "outputs": [
    {
     "data": {
      "text/plain": [
       "1.2246467991473532e-16"
      ]
     },
     "execution_count": 17,
     "metadata": {},
     "output_type": "execute_result"
    }
   ],
   "source": [
    "sin(pi)"
   ]
  },
  {
   "cell_type": "code",
   "execution_count": 18,
   "metadata": {},
   "outputs": [
    {
     "data": {
      "text/plain": [
       "2.0f0"
      ]
     },
     "execution_count": 18,
     "metadata": {},
     "output_type": "execute_result"
    }
   ],
   "source": [
    "Eabs=abs(I-I2)"
   ]
  },
  {
   "cell_type": "code",
   "execution_count": 19,
   "metadata": {},
   "outputs": [
    {
     "data": {
      "text/plain": [
       "1.0f0"
      ]
     },
     "execution_count": 19,
     "metadata": {},
     "output_type": "execute_result"
    }
   ],
   "source": [
    "Er=abs(I-I2)/I"
   ]
  },
  {
   "cell_type": "markdown",
   "metadata": {},
   "source": [
    "***1.b.iii)***"
   ]
  },
  {
   "cell_type": "code",
   "execution_count": 20,
   "metadata": {},
   "outputs": [
    {
     "data": {
      "text/plain": [
       "2.0943952f0"
      ]
     },
     "execution_count": 20,
     "metadata": {},
     "output_type": "execute_result"
    }
   ],
   "source": [
    "x0=a\n",
    "x1=(a+b)/2\n",
    "x2=b\n",
    "h=(b-a)/2\n",
    "I2=Float32((h/3)*(f(x0)+4f(x1)+f(x2)))"
   ]
  },
  {
   "cell_type": "code",
   "execution_count": 21,
   "metadata": {},
   "outputs": [
    {
     "data": {
      "text/plain": [
       "0.09439516f0"
      ]
     },
     "execution_count": 21,
     "metadata": {},
     "output_type": "execute_result"
    }
   ],
   "source": [
    "Eabs=abs(I-I2)"
   ]
  },
  {
   "cell_type": "code",
   "execution_count": 22,
   "metadata": {},
   "outputs": [
    {
     "data": {
      "text/plain": [
       "0.04719758f0"
      ]
     },
     "execution_count": 22,
     "metadata": {},
     "output_type": "execute_result"
    }
   ],
   "source": [
    "Er=abs(I-I2)/I"
   ]
  },
  {
   "cell_type": "code",
   "execution_count": null,
   "metadata": {},
   "outputs": [],
   "source": []
  },
  {
   "cell_type": "code",
   "execution_count": null,
   "metadata": {},
   "outputs": [],
   "source": []
  },
  {
   "cell_type": "markdown",
   "metadata": {},
   "source": [
    "## Problema 2\n",
    "\n",
    "1. Repita el problema 1 dividiendo el intervalo de integración en dos subintervalos de igual tamaño. Es decir:\n",
    "\n",
    "    a. $I_1=\\int_0^{1/2} x^4 dx+ \\int_{1/2}^1 x^4 dx$\n",
    "\n",
    "    b. $I_2=\\int_0^{\\pi/2}\\sin{(x)}dx+\\int_{\\pi/2}^{\\pi}\\sin{(x)} dx$\n",
    "\n",
    "2. Compare resultados con lo obtenido en el problema 1."
   ]
  },
  {
   "cell_type": "markdown",
   "metadata": {},
   "source": [
    "*Valor I1*"
   ]
  },
  {
   "cell_type": "code",
   "execution_count": 23,
   "metadata": {},
   "outputs": [
    {
     "data": {
      "text/plain": [
       "0.2f0"
      ]
     },
     "execution_count": 23,
     "metadata": {},
     "output_type": "execute_result"
    }
   ],
   "source": [
    "f(x)=x^4\n",
    "F(x)=1/5*x^5\n",
    "a=0\n",
    "b=0.5\n",
    "c=1\n",
    "I=Float32(F(c)-F(a))"
   ]
  },
  {
   "cell_type": "markdown",
   "metadata": {},
   "source": [
    "***2.a.i)***"
   ]
  },
  {
   "cell_type": "code",
   "execution_count": 24,
   "metadata": {},
   "outputs": [
    {
     "data": {
      "text/plain": [
       "0.16015625"
      ]
     },
     "execution_count": 24,
     "metadata": {},
     "output_type": "execute_result"
    }
   ],
   "source": [
    "I1=(b-a)f((a+b)/Float32(2))\n",
    "I1+=(c-b)f((b+c)/Float32(2))"
   ]
  },
  {
   "cell_type": "code",
   "execution_count": 25,
   "metadata": {},
   "outputs": [
    {
     "data": {
      "text/plain": [
       "0.03984375298023224"
      ]
     },
     "execution_count": 25,
     "metadata": {},
     "output_type": "execute_result"
    }
   ],
   "source": [
    "Eabs=abs(I-I1)"
   ]
  },
  {
   "cell_type": "code",
   "execution_count": 26,
   "metadata": {},
   "outputs": [
    {
     "data": {
      "text/plain": [
       "0.19921876193257032"
      ]
     },
     "execution_count": 26,
     "metadata": {},
     "output_type": "execute_result"
    }
   ],
   "source": [
    "Er=abs(I-I1)/I"
   ]
  },
  {
   "cell_type": "markdown",
   "metadata": {},
   "source": [
    "***2.a.ii)***"
   ]
  },
  {
   "cell_type": "code",
   "execution_count": 27,
   "metadata": {},
   "outputs": [
    {
     "data": {
      "text/plain": [
       "0.28125"
      ]
     },
     "execution_count": 27,
     "metadata": {},
     "output_type": "execute_result"
    }
   ],
   "source": [
    "I1=(b-a)*(f(a)+f(b))/Float32(2)\n",
    "I1+=(c-b)*(f(b)+f(c))/Float32(2)"
   ]
  },
  {
   "cell_type": "code",
   "execution_count": 28,
   "metadata": {},
   "outputs": [
    {
     "data": {
      "text/plain": [
       "0.08124999701976776"
      ]
     },
     "execution_count": 28,
     "metadata": {},
     "output_type": "execute_result"
    }
   ],
   "source": [
    "Eabs=abs(I-I1)"
   ]
  },
  {
   "cell_type": "code",
   "execution_count": 29,
   "metadata": {},
   "outputs": [
    {
     "data": {
      "text/plain": [
       "0.4062499790452424"
      ]
     },
     "execution_count": 29,
     "metadata": {},
     "output_type": "execute_result"
    }
   ],
   "source": [
    "Er=abs(I-I1)/I"
   ]
  },
  {
   "cell_type": "markdown",
   "metadata": {},
   "source": [
    "***2.a.iii)***"
   ]
  },
  {
   "cell_type": "code",
   "execution_count": 30,
   "metadata": {},
   "outputs": [
    {
     "data": {
      "text/plain": [
       "0.20052084f0"
      ]
     },
     "execution_count": 30,
     "metadata": {},
     "output_type": "execute_result"
    }
   ],
   "source": [
    "x0=a\n",
    "x1=(a+b)/2\n",
    "x2=b\n",
    "h=(b-a)/2\n",
    "I1=Float32((h/3)*(f(x0)+4f(x1)+f(x2)))\n",
    "x0=b\n",
    "x1=(b+c)/2\n",
    "x2=c\n",
    "h=(c-b)/2\n",
    "I1+=Float32((h/3)*(f(x0)+4f(x1)+f(x2)))"
   ]
  },
  {
   "cell_type": "code",
   "execution_count": 31,
   "metadata": {},
   "outputs": [
    {
     "data": {
      "text/plain": [
       "0.0005208403f0"
      ]
     },
     "execution_count": 31,
     "metadata": {},
     "output_type": "execute_result"
    }
   ],
   "source": [
    "Eabs=abs(I-I1)"
   ]
  },
  {
   "cell_type": "code",
   "execution_count": 32,
   "metadata": {},
   "outputs": [
    {
     "data": {
      "text/plain": [
       "0.0026042014f0"
      ]
     },
     "execution_count": 32,
     "metadata": {},
     "output_type": "execute_result"
    }
   ],
   "source": [
    "Er=abs(I-I1)/I"
   ]
  },
  {
   "cell_type": "markdown",
   "metadata": {},
   "source": [
    "*Valor I2*"
   ]
  },
  {
   "cell_type": "code",
   "execution_count": 33,
   "metadata": {},
   "outputs": [
    {
     "data": {
      "text/plain": [
       "2.0f0"
      ]
     },
     "execution_count": 33,
     "metadata": {},
     "output_type": "execute_result"
    }
   ],
   "source": [
    "f(x)=sin(x)\n",
    "F(x)=-cos(x)\n",
    "a=0\n",
    "b=pi/2\n",
    "c=pi\n",
    "I=Float32(F(c)-F(a))"
   ]
  },
  {
   "cell_type": "markdown",
   "metadata": {},
   "source": [
    "***2.b.i)***"
   ]
  },
  {
   "cell_type": "code",
   "execution_count": 34,
   "metadata": {},
   "outputs": [
    {
     "data": {
      "text/plain": [
       "2.221441469079183"
      ]
     },
     "execution_count": 34,
     "metadata": {},
     "output_type": "execute_result"
    }
   ],
   "source": [
    "I2=(b-a)f((a+b)/Float32(2))\n",
    "I2+=(c-b)f((b+c)/Float32(2))"
   ]
  },
  {
   "cell_type": "code",
   "execution_count": 35,
   "metadata": {},
   "outputs": [
    {
     "data": {
      "text/plain": [
       "0.22144146907918305"
      ]
     },
     "execution_count": 35,
     "metadata": {},
     "output_type": "execute_result"
    }
   ],
   "source": [
    "Eabs=abs(I-I2)"
   ]
  },
  {
   "cell_type": "code",
   "execution_count": 36,
   "metadata": {},
   "outputs": [
    {
     "data": {
      "text/plain": [
       "0.11072073453959153"
      ]
     },
     "execution_count": 36,
     "metadata": {},
     "output_type": "execute_result"
    }
   ],
   "source": [
    "Er=abs(I-I2)/I"
   ]
  },
  {
   "cell_type": "markdown",
   "metadata": {},
   "source": [
    "***2.b.ii)***"
   ]
  },
  {
   "cell_type": "code",
   "execution_count": 37,
   "metadata": {},
   "outputs": [
    {
     "data": {
      "text/plain": [
       "1.5707963267948968"
      ]
     },
     "execution_count": 37,
     "metadata": {},
     "output_type": "execute_result"
    }
   ],
   "source": [
    "I2=(b-a)*(f(a)+f(b))/Float32(2)\n",
    "I2+=(c-b)*(f(b)+f(c))/Float32(2)"
   ]
  },
  {
   "cell_type": "code",
   "execution_count": 38,
   "metadata": {},
   "outputs": [
    {
     "data": {
      "text/plain": [
       "0.4292036732051032"
      ]
     },
     "execution_count": 38,
     "metadata": {},
     "output_type": "execute_result"
    }
   ],
   "source": [
    "Eabs=abs(I-I2)"
   ]
  },
  {
   "cell_type": "code",
   "execution_count": 39,
   "metadata": {},
   "outputs": [
    {
     "data": {
      "text/plain": [
       "0.2146018366025516"
      ]
     },
     "execution_count": 39,
     "metadata": {},
     "output_type": "execute_result"
    }
   ],
   "source": [
    "Er=abs(I-I2)/I"
   ]
  },
  {
   "cell_type": "markdown",
   "metadata": {},
   "source": [
    "***2.b.iii)***"
   ]
  },
  {
   "cell_type": "code",
   "execution_count": 40,
   "metadata": {},
   "outputs": [
    {
     "data": {
      "text/plain": [
       "2.0045598f0"
      ]
     },
     "execution_count": 40,
     "metadata": {},
     "output_type": "execute_result"
    }
   ],
   "source": [
    "x0=a\n",
    "x1=(a+b)/2\n",
    "x2=b\n",
    "h=(b-a)/2\n",
    "I2=Float32((h/3)*(f(x0)+4f(x1)+f(x2)))\n",
    "x0=b\n",
    "x1=(b+c)/2\n",
    "x2=c\n",
    "h=(c-b)/2\n",
    "I2+=Float32((h/3)*(f(x0)+4f(x1)+f(x2)))"
   ]
  },
  {
   "cell_type": "code",
   "execution_count": 41,
   "metadata": {},
   "outputs": [
    {
     "data": {
      "text/plain": [
       "0.0045597553f0"
      ]
     },
     "execution_count": 41,
     "metadata": {},
     "output_type": "execute_result"
    }
   ],
   "source": [
    "Eabs=abs(I-I2)"
   ]
  },
  {
   "cell_type": "code",
   "execution_count": 42,
   "metadata": {},
   "outputs": [
    {
     "data": {
      "text/plain": [
       "0.0022798777f0"
      ]
     },
     "execution_count": 42,
     "metadata": {},
     "output_type": "execute_result"
    }
   ],
   "source": [
    "Er=abs(I-I2)/I"
   ]
  },
  {
   "cell_type": "markdown",
   "metadata": {},
   "source": [
    "## Problema 3\n",
    "1. Construya funciones que dada una función arbitraria, retornen  las aproximaciones numéricas $S_M$, $S_T$ y $S_S$ a una integral de la forma\n",
    "$$\n",
    "I = \\int_a ^b f(x) dx\n",
    "$$\n",
    "utilizando las reglas compuestas del *punto medio*, del *trapecio* y de *Simpson*, respectivamente.\n",
    "Las funciones deben evaluar el integrando $f(x)$ en $n+1$ puntos equiespaciados $x_i$ para $i=0,1,2,...,n$ y con espaciamiento $h=(b-a)/n$.\n",
    "En el caso del punto medio, se evalúa en los $x_i+h/2$ para $i=0,1,...,n-1$.\n",
    "\n",
    "2. Calcule $S_M$, $S_T$ y $S_S$ para la integral:\n",
    "$$\n",
    "I = \\int _0 ^1 e^{-x} dx\n",
    "$$\n",
    "Utilice un espaciamiento $h_1=0.05$ em ambos casos. Luego repita el procedimiento disminuyendo su \n",
    "espaciamiento a la mitad, $h_2=h_1/2=0.025$.\n",
    "\n",
    "3. Teniendo en cuenta que es posible conocer el resultado exacto de la integral en cuestión, evalúe el error\n",
    "$\\varepsilon(h)=|S-I|$, para $h=0.05$ y $h=0.025$ para los tres métodos de aproximación.\n",
    "Verifique que el cociente de precisión, definido como \n",
    "$$\n",
    "Q = \\frac{\\varepsilon(h)}{\\varepsilon(h/2)}\n",
    "$$\n",
    "toma un valor aproximado a $4$ cuando se usa la regla del *punto medio* y del *trapecio*, y un valor aproximado a $16$ cuando se usa la regla de *Simpson*. \n",
    "Teniendo en cuenta la expresión del error de truncamiento en cada caso, justifique este resultado.\n",
    "\n",
    "**Consejo:** tener cuidado con *Simpson* en elegir siempre un número par de intervalos, i.e, un número impar de puntos. Pruebe con una integral conocida, qué resultados da cuando usa un número impar de intervalos. Incluya en la función para dicho método un chequeo de que el número de puntos sea par."
   ]
  },
  {
   "cell_type": "markdown",
   "metadata": {},
   "source": [
    "***3.1.***"
   ]
  },
  {
   "cell_type": "code",
   "execution_count": 43,
   "metadata": {},
   "outputs": [
    {
     "data": {
      "text/plain": [
       "punto_medio (generic function with 1 method)"
      ]
     },
     "execution_count": 43,
     "metadata": {},
     "output_type": "execute_result"
    }
   ],
   "source": [
    "function punto_medio(f,a,b,n)\n",
    "    Sm=0\n",
    "    h=(b-a)/(n-1)                       ### n puntos y n-1 intervalos\n",
    "    x0=a\n",
    "    for i=1:n-1                       \n",
    "        x1=a+i*h\n",
    "        Sm+=(x1-x0)f((x0+x1)/2)        ### Sm+=h*f(x0+h/2)\n",
    "        x0=x1\n",
    "        #println(\"$i, $Sm, $x1\")\n",
    "    end\n",
    "    return Sm\n",
    "end"
   ]
  },
  {
   "cell_type": "code",
   "execution_count": 44,
   "metadata": {},
   "outputs": [
    {
     "data": {
      "text/plain": [
       "2.01019011595042"
      ]
     },
     "execution_count": 44,
     "metadata": {},
     "output_type": "execute_result"
    }
   ],
   "source": [
    "f(x)=sin(x)\n",
    "a=0\n",
    "b=pi\n",
    "n=10\n",
    "Sm=punto_medio(f,a,b,n)"
   ]
  },
  {
   "cell_type": "code",
   "execution_count": 45,
   "metadata": {},
   "outputs": [
    {
     "data": {
      "text/plain": [
       "2.0"
      ]
     },
     "execution_count": 45,
     "metadata": {},
     "output_type": "execute_result"
    }
   ],
   "source": [
    "f(x)=sin(x)\n",
    "F(x)=-cos(x)\n",
    "a=0\n",
    "b=pi\n",
    "I=F(b)-F(a)"
   ]
  },
  {
   "cell_type": "code",
   "execution_count": 46,
   "metadata": {},
   "outputs": [
    {
     "data": {
      "text/plain": [
       "trapecio (generic function with 1 method)"
      ]
     },
     "execution_count": 46,
     "metadata": {},
     "output_type": "execute_result"
    }
   ],
   "source": [
    "function trapecio(f,a,b,n)\n",
    "    St=0\n",
    "    h=(b-a)/(n-1)\n",
    "    x0=a\n",
    "    for i=1:n-1\n",
    "        x1=a+i*h\n",
    "        St+=(x1-x0)*(f(x0)+f(x1))/2\n",
    "        x0=x1\n",
    "        #println(\"$i, $St, $x1\")\n",
    "    end\n",
    "    return St\n",
    "end"
   ]
  },
  {
   "cell_type": "code",
   "execution_count": 47,
   "metadata": {},
   "outputs": [
    {
     "data": {
      "text/plain": [
       "1.9796508112164835"
      ]
     },
     "execution_count": 47,
     "metadata": {},
     "output_type": "execute_result"
    }
   ],
   "source": [
    "f(x)=sin(x)\n",
    "a=0\n",
    "b=pi\n",
    "n=10\n",
    "St=trapecio(f,a,b,n)"
   ]
  },
  {
   "cell_type": "code",
   "execution_count": 48,
   "metadata": {},
   "outputs": [
    {
     "data": {
      "text/plain": [
       "Simpson (generic function with 1 method)"
      ]
     },
     "execution_count": 48,
     "metadata": {},
     "output_type": "execute_result"
    }
   ],
   "source": [
    "function Simpson(f,a,b,n)\n",
    "    Ss=0\n",
    "    h=(b-a)/(n-1)\n",
    "    x0=a\n",
    "    for i=1:n-1\n",
    "        x2=a+i*h\n",
    "        x1=(x0+x2)/2\n",
    "        Ss+=h/6*(f(x0)+4f(x1)+f(x2))\n",
    "        x0=x2\n",
    "        #println(\"$i, $Ss, $x2\")\n",
    "    end\n",
    "    return Ss\n",
    "end"
   ]
  },
  {
   "cell_type": "code",
   "execution_count": 49,
   "metadata": {},
   "outputs": [
    {
     "data": {
      "text/plain": [
       "2.0000103477057745"
      ]
     },
     "execution_count": 49,
     "metadata": {},
     "output_type": "execute_result"
    }
   ],
   "source": [
    "f(x)=sin(x)\n",
    "a=0\n",
    "b=pi\n",
    "n=10\n",
    "Ss=Simpson(f,a,b,n)"
   ]
  },
  {
   "cell_type": "markdown",
   "metadata": {},
   "source": [
    "***3.2. y 3.3.***"
   ]
  },
  {
   "cell_type": "code",
   "execution_count": 50,
   "metadata": {},
   "outputs": [
    {
     "data": {
      "text/plain": [
       "0.6321205588285577"
      ]
     },
     "execution_count": 50,
     "metadata": {},
     "output_type": "execute_result"
    }
   ],
   "source": [
    "f(x)=exp(-x)\n",
    "F(x)=-exp(-x)\n",
    "a=0\n",
    "b=1\n",
    "I=F(b)-F(a)"
   ]
  },
  {
   "cell_type": "code",
   "execution_count": 51,
   "metadata": {},
   "outputs": [
    {
     "data": {
      "text/plain": [
       "20.0"
      ]
     },
     "execution_count": 51,
     "metadata": {},
     "output_type": "execute_result"
    }
   ],
   "source": [
    "h1=0.05\n",
    "n1=(b-a)/h1"
   ]
  },
  {
   "cell_type": "code",
   "execution_count": 52,
   "metadata": {},
   "outputs": [
    {
     "data": {
      "text/plain": [
       "0.6320476052862041"
      ]
     },
     "execution_count": 52,
     "metadata": {},
     "output_type": "execute_result"
    }
   ],
   "source": [
    "Sm=punto_medio(f,a,b,n1)"
   ]
  },
  {
   "cell_type": "code",
   "execution_count": 53,
   "metadata": {},
   "outputs": [
    {
     "data": {
      "text/plain": [
       "7.295354235359319e-5"
      ]
     },
     "execution_count": 53,
     "metadata": {},
     "output_type": "execute_result"
    }
   ],
   "source": [
    "e_h1=abs(Sm-I)"
   ]
  },
  {
   "cell_type": "code",
   "execution_count": 54,
   "metadata": {},
   "outputs": [
    {
     "data": {
      "text/plain": [
       "40.0"
      ]
     },
     "execution_count": 54,
     "metadata": {},
     "output_type": "execute_result"
    }
   ],
   "source": [
    "h2=0.025\n",
    "n2=(b-a)/h2"
   ]
  },
  {
   "cell_type": "code",
   "execution_count": 55,
   "metadata": {},
   "outputs": [
    {
     "data": {
      "text/plain": [
       "0.6321032426868333"
      ]
     },
     "execution_count": 55,
     "metadata": {},
     "output_type": "execute_result"
    }
   ],
   "source": [
    "Sm=punto_medio(f,a,b,n2)"
   ]
  },
  {
   "cell_type": "code",
   "execution_count": 56,
   "metadata": {},
   "outputs": [
    {
     "data": {
      "text/plain": [
       "1.7316141724399436e-5"
      ]
     },
     "execution_count": 56,
     "metadata": {},
     "output_type": "execute_result"
    }
   ],
   "source": [
    "e_h2=abs(Sm-I)"
   ]
  },
  {
   "cell_type": "code",
   "execution_count": 57,
   "metadata": {},
   "outputs": [
    {
     "data": {
      "text/plain": [
       "4.213036802002923"
      ]
     },
     "execution_count": 57,
     "metadata": {},
     "output_type": "execute_result"
    }
   ],
   "source": [
    "Q=e_h1/e_h2"
   ]
  },
  {
   "cell_type": "code",
   "execution_count": null,
   "metadata": {},
   "outputs": [],
   "source": []
  },
  {
   "cell_type": "code",
   "execution_count": 58,
   "metadata": {},
   "outputs": [
    {
     "ename": "LoadError",
     "evalue": "UndefVarError: trapacio not defined",
     "output_type": "error",
     "traceback": [
      "UndefVarError: trapacio not defined",
      "",
      "Stacktrace:",
      " [1] top-level scope",
      "   @ In[58]:1",
      " [2] eval",
      "   @ ./boot.jl:373 [inlined]",
      " [3] include_string(mapexpr::typeof(REPL.softscope), mod::Module, code::String, filename::String)",
      "   @ Base ./loading.jl:1196"
     ]
    }
   ],
   "source": [
    "St=trapacio(f,a,b,n1)"
   ]
  },
  {
   "cell_type": "code",
   "execution_count": 59,
   "metadata": {},
   "outputs": [
    {
     "data": {
      "text/plain": [
       "1.3475302523879258"
      ]
     },
     "execution_count": 59,
     "metadata": {},
     "output_type": "execute_result"
    }
   ],
   "source": [
    "e_h1=abs(St-I)"
   ]
  },
  {
   "cell_type": "code",
   "execution_count": 60,
   "metadata": {},
   "outputs": [
    {
     "ename": "LoadError",
     "evalue": "UndefVarError: trapacio not defined",
     "output_type": "error",
     "traceback": [
      "UndefVarError: trapacio not defined",
      "",
      "Stacktrace:",
      " [1] top-level scope",
      "   @ In[60]:1",
      " [2] eval",
      "   @ ./boot.jl:373 [inlined]",
      " [3] include_string(mapexpr::typeof(REPL.softscope), mod::Module, code::String, filename::String)",
      "   @ Base ./loading.jl:1196"
     ]
    }
   ],
   "source": [
    "St=trapacio(f,a,b,n2)"
   ]
  },
  {
   "cell_type": "code",
   "execution_count": 61,
   "metadata": {},
   "outputs": [
    {
     "data": {
      "text/plain": [
       "1.3475302523879258"
      ]
     },
     "execution_count": 61,
     "metadata": {},
     "output_type": "execute_result"
    }
   ],
   "source": [
    "e_h2=abs(St-I)"
   ]
  },
  {
   "cell_type": "code",
   "execution_count": 62,
   "metadata": {},
   "outputs": [
    {
     "data": {
      "text/plain": [
       "1.0"
      ]
     },
     "execution_count": 62,
     "metadata": {},
     "output_type": "execute_result"
    }
   ],
   "source": [
    "Q=e_h1/e_h2"
   ]
  },
  {
   "cell_type": "code",
   "execution_count": null,
   "metadata": {},
   "outputs": [],
   "source": []
  },
  {
   "cell_type": "code",
   "execution_count": 63,
   "metadata": {},
   "outputs": [
    {
     "data": {
      "text/plain": [
       "0.6321205605126164"
      ]
     },
     "execution_count": 63,
     "metadata": {},
     "output_type": "execute_result"
    }
   ],
   "source": [
    "Ss=Simpson(f,a,b,n1)"
   ]
  },
  {
   "cell_type": "code",
   "execution_count": 64,
   "metadata": {},
   "outputs": [
    {
     "data": {
      "text/plain": [
       "1.6840587813149455e-9"
      ]
     },
     "execution_count": 64,
     "metadata": {},
     "output_type": "execute_result"
    }
   ],
   "source": [
    "e_h1=abs(Ss-I)"
   ]
  },
  {
   "cell_type": "code",
   "execution_count": 65,
   "metadata": {},
   "outputs": [
    {
     "data": {
      "text/plain": [
       "0.6321205589234302"
      ]
     },
     "execution_count": 65,
     "metadata": {},
     "output_type": "execute_result"
    }
   ],
   "source": [
    "Ss=Simpson(f,a,b,n2)"
   ]
  },
  {
   "cell_type": "code",
   "execution_count": 66,
   "metadata": {},
   "outputs": [
    {
     "data": {
      "text/plain": [
       "9.487255425710828e-11"
      ]
     },
     "execution_count": 66,
     "metadata": {},
     "output_type": "execute_result"
    }
   ],
   "source": [
    "e_h2=abs(Ss-I)"
   ]
  },
  {
   "cell_type": "code",
   "execution_count": 67,
   "metadata": {},
   "outputs": [
    {
     "data": {
      "text/plain": [
       "17.750747774230692"
      ]
     },
     "execution_count": 67,
     "metadata": {},
     "output_type": "execute_result"
    }
   ],
   "source": [
    "Q=e_h1/e_h2"
   ]
  },
  {
   "cell_type": "code",
   "execution_count": 68,
   "metadata": {},
   "outputs": [
    {
     "data": {
      "text/plain": [
       "Float64"
      ]
     },
     "execution_count": 68,
     "metadata": {},
     "output_type": "execute_result"
    }
   ],
   "source": [
    "typeof(1/3)"
   ]
  },
  {
   "cell_type": "code",
   "execution_count": 69,
   "metadata": {},
   "outputs": [
    {
     "data": {
      "text/plain": [
       "Float16(0.3333)"
      ]
     },
     "execution_count": 69,
     "metadata": {},
     "output_type": "execute_result"
    }
   ],
   "source": [
    "x=Float16(1/3)"
   ]
  },
  {
   "cell_type": "code",
   "execution_count": 70,
   "metadata": {},
   "outputs": [
    {
     "data": {
      "text/plain": [
       "0.3333333333333333"
      ]
     },
     "execution_count": 70,
     "metadata": {},
     "output_type": "execute_result"
    }
   ],
   "source": [
    "1/3"
   ]
  },
  {
   "cell_type": "markdown",
   "metadata": {},
   "source": [
    "***Respuesta: \n",
    "    Para la regla del trapecio y del punto medio comparando los resultados con h1 y h2 obtenemos un coeficiente Q=h1/h2~4, es decir, que usando h2 obtenemos un error con 4 cifras significativas (Float16) con respecto a usar h1.\n",
    "    En Simpon obtenemos q~16 por lo tanto usando h2 obtenemos un error con 16 cifras significativas (Float64) con respecto a usar h1."
   ]
  },
  {
   "cell_type": "code",
   "execution_count": null,
   "metadata": {},
   "outputs": [],
   "source": []
  },
  {
   "cell_type": "markdown",
   "metadata": {},
   "source": [
    "***Consejo***"
   ]
  },
  {
   "cell_type": "code",
   "execution_count": 71,
   "metadata": {},
   "outputs": [
    {
     "data": {
      "text/plain": [
       "0.2928932188134524"
      ]
     },
     "execution_count": 71,
     "metadata": {},
     "output_type": "execute_result"
    }
   ],
   "source": [
    "f(x)=sin(x)\n",
    "F(x)=-cos(x)\n",
    "a=0\n",
    "b=pi/4\n",
    "I=F(b)-F(a)"
   ]
  },
  {
   "cell_type": "code",
   "execution_count": 72,
   "metadata": {},
   "outputs": [
    {
     "data": {
      "text/plain": [
       "0.2928932226838546"
      ]
     },
     "execution_count": 72,
     "metadata": {},
     "output_type": "execute_result"
    }
   ],
   "source": [
    "n=11                      ### n impar e intervalos pares\n",
    "S_par=Simpson(f,a,b,n)"
   ]
  },
  {
   "cell_type": "code",
   "execution_count": 73,
   "metadata": {},
   "outputs": [
    {
     "data": {
      "text/plain": [
       "3.870402165428999e-9"
      ]
     },
     "execution_count": 73,
     "metadata": {},
     "output_type": "execute_result"
    }
   ],
   "source": [
    "e_par=abs(S_par-I)"
   ]
  },
  {
   "cell_type": "code",
   "execution_count": 74,
   "metadata": {},
   "outputs": [
    {
     "data": {
      "text/plain": [
       "0.29289322471281054"
      ]
     },
     "execution_count": 74,
     "metadata": {},
     "output_type": "execute_result"
    }
   ],
   "source": [
    "n=10                      ### n par e intervalos impares\n",
    "S_impar=Simpson(f,a,b,n)"
   ]
  },
  {
   "cell_type": "code",
   "execution_count": 75,
   "metadata": {},
   "outputs": [
    {
     "data": {
      "text/plain": [
       "5.899358113126141e-9"
      ]
     },
     "execution_count": 75,
     "metadata": {},
     "output_type": "execute_result"
    }
   ],
   "source": [
    "e_impar=abs(S_impar-I)"
   ]
  },
  {
   "cell_type": "markdown",
   "metadata": {},
   "source": [
    "***Respuesta:\n",
    "Con n impar i.e intervalos pares obtenemos una mejor aproximación que con n par e intervalos impares.***"
   ]
  },
  {
   "cell_type": "code",
   "execution_count": 76,
   "metadata": {},
   "outputs": [
    {
     "data": {
      "text/plain": [
       "Simpson (generic function with 1 method)"
      ]
     },
     "execution_count": 76,
     "metadata": {},
     "output_type": "execute_result"
    }
   ],
   "source": [
    "function Simpson(f,a,b,n)\n",
    "    @assert n%2==1\n",
    "    Ss=0\n",
    "    h=(b-a)/(n-1)\n",
    "    x0=a\n",
    "    for i=1:n-1\n",
    "        x2=a+i*h\n",
    "        x1=(x0+x2)/2\n",
    "        Ss+=h/6*(f(x0)+4f(x1)+f(x2))\n",
    "        x0=x2\n",
    "        #println(\"$i, $Ss, $x2\")\n",
    "    end\n",
    "    return Ss\n",
    "end"
   ]
  },
  {
   "cell_type": "code",
   "execution_count": null,
   "metadata": {},
   "outputs": [],
   "source": []
  },
  {
   "cell_type": "code",
   "execution_count": null,
   "metadata": {},
   "outputs": [],
   "source": []
  },
  {
   "cell_type": "markdown",
   "metadata": {},
   "source": [
    "## Problema 4\n",
    "1. Para los métodos de integración numérica del problema 3, implemente fórmulas de estimación del error en función de el número de puntos $n$, una cota máxima $M$ asociada a $f(x)$ o alguna de sus derivadas, y los extremos $a$ y $b$ del intérvalo de integración.\n",
    "\n",
    "2. Indique, para cada método, el mínimo $n$ necesario para alcanzar un error relativo menor a $10^{-7}$ de las siguientes integrales\n",
    "\n",
    "    a. $\\int_0^{1/2} \\frac{2}{x-4} \\; dx$\n",
    "\n",
    "    b. $\\int_1^{3/2} x^2 \\log x \\; dx$\n",
    "\n",
    "3. Compruebe usando los métodos del problema 3 si las estimaciones de $n$ son adecuadas."
   ]
  },
  {
   "cell_type": "markdown",
   "metadata": {},
   "source": [
    "***4.1.***"
   ]
  },
  {
   "cell_type": "code",
   "execution_count": 77,
   "metadata": {},
   "outputs": [
    {
     "data": {
      "text/plain": [
       "E_pm (generic function with 1 method)"
      ]
     },
     "execution_count": 77,
     "metadata": {},
     "output_type": "execute_result"
    }
   ],
   "source": [
    "function E_pm(N,M,a,b)               ### M=max[a,b]{|f''(e)|}\n",
    "    c2=M\n",
    "    E_pm=(b-a)^3*c2/(24(N-1)^2)\n",
    "    return E_pm\n",
    "end "
   ]
  },
  {
   "cell_type": "code",
   "execution_count": 78,
   "metadata": {},
   "outputs": [
    {
     "data": {
      "text/plain": [
       "E_t (generic function with 1 method)"
      ]
     },
     "execution_count": 78,
     "metadata": {},
     "output_type": "execute_result"
    }
   ],
   "source": [
    "function E_t(N,M,a,b)               ### M=max[a,b]{|f''(e)|}\n",
    "    c2=M\n",
    "    E_t=(b-a)^3*c2/(12(N-1)^2)\n",
    "    return E_t\n",
    "end "
   ]
  },
  {
   "cell_type": "code",
   "execution_count": 79,
   "metadata": {},
   "outputs": [
    {
     "data": {
      "text/plain": [
       "E_s (generic function with 1 method)"
      ]
     },
     "execution_count": 79,
     "metadata": {},
     "output_type": "execute_result"
    }
   ],
   "source": [
    "function E_s(N,M,a,b)               ### M=max[a,b]{|f''''(e)|}\n",
    "    c4=M\n",
    "    E_s=(b-a)^5*c4/(90*2^5(N-1)^4)\n",
    "    return E_s\n",
    "end "
   ]
  },
  {
   "cell_type": "markdown",
   "metadata": {},
   "source": [
    "***4.2.a.***"
   ]
  },
  {
   "cell_type": "markdown",
   "metadata": {},
   "source": [
    "***M = max[0,0.5]{|f''(e)|}= |f(0.5)|***"
   ]
  },
  {
   "cell_type": "code",
   "execution_count": 80,
   "metadata": {},
   "outputs": [
    {
     "data": {
      "image/svg+xml": [
       "<?xml version=\"1.0\" encoding=\"utf-8\"?>\n",
       "<svg xmlns=\"http://www.w3.org/2000/svg\" xmlns:xlink=\"http://www.w3.org/1999/xlink\" width=\"600\" height=\"400\" viewBox=\"0 0 2400 1600\">\n",
       "<defs>\n",
       "  <clipPath id=\"clip310\">\n",
       "    <rect x=\"0\" y=\"0\" width=\"2400\" height=\"1600\"/>\n",
       "  </clipPath>\n",
       "</defs>\n",
       "<path clip-path=\"url(#clip310)\" d=\"\n",
       "M0 1600 L2400 1600 L2400 0 L0 0  Z\n",
       "  \" fill=\"#ffffff\" fill-rule=\"evenodd\" fill-opacity=\"1\"/>\n",
       "<defs>\n",
       "  <clipPath id=\"clip311\">\n",
       "    <rect x=\"480\" y=\"0\" width=\"1681\" height=\"1600\"/>\n",
       "  </clipPath>\n",
       "</defs>\n",
       "<path clip-path=\"url(#clip310)\" d=\"\n",
       "M239.19 686.448 L1145.22 686.448 L1145.22 47.2441 L239.19 47.2441  Z\n",
       "  \" fill=\"#ffffff\" fill-rule=\"evenodd\" fill-opacity=\"1\"/>\n",
       "<defs>\n",
       "  <clipPath id=\"clip312\">\n",
       "    <rect x=\"239\" y=\"47\" width=\"907\" height=\"640\"/>\n",
       "  </clipPath>\n",
       "</defs>\n",
       "<polyline clip-path=\"url(#clip312)\" style=\"stroke:#000000; stroke-linecap:butt; stroke-linejoin:round; stroke-width:2; stroke-opacity:0.1; fill:none\" points=\"\n",
       "  264.833,686.448 264.833,47.2441 \n",
       "  \"/>\n",
       "<polyline clip-path=\"url(#clip312)\" style=\"stroke:#000000; stroke-linecap:butt; stroke-linejoin:round; stroke-width:2; stroke-opacity:0.1; fill:none\" points=\"\n",
       "  478.519,686.448 478.519,47.2441 \n",
       "  \"/>\n",
       "<polyline clip-path=\"url(#clip312)\" style=\"stroke:#000000; stroke-linecap:butt; stroke-linejoin:round; stroke-width:2; stroke-opacity:0.1; fill:none\" points=\"\n",
       "  692.206,686.448 692.206,47.2441 \n",
       "  \"/>\n",
       "<polyline clip-path=\"url(#clip312)\" style=\"stroke:#000000; stroke-linecap:butt; stroke-linejoin:round; stroke-width:2; stroke-opacity:0.1; fill:none\" points=\"\n",
       "  905.892,686.448 905.892,47.2441 \n",
       "  \"/>\n",
       "<polyline clip-path=\"url(#clip312)\" style=\"stroke:#000000; stroke-linecap:butt; stroke-linejoin:round; stroke-width:2; stroke-opacity:0.1; fill:none\" points=\"\n",
       "  1119.58,686.448 1119.58,47.2441 \n",
       "  \"/>\n",
       "<polyline clip-path=\"url(#clip310)\" style=\"stroke:#000000; stroke-linecap:butt; stroke-linejoin:round; stroke-width:4; stroke-opacity:1; fill:none\" points=\"\n",
       "  239.19,686.448 1145.22,686.448 \n",
       "  \"/>\n",
       "<polyline clip-path=\"url(#clip310)\" style=\"stroke:#000000; stroke-linecap:butt; stroke-linejoin:round; stroke-width:4; stroke-opacity:1; fill:none\" points=\"\n",
       "  264.833,686.448 264.833,667.55 \n",
       "  \"/>\n",
       "<polyline clip-path=\"url(#clip310)\" style=\"stroke:#000000; stroke-linecap:butt; stroke-linejoin:round; stroke-width:4; stroke-opacity:1; fill:none\" points=\"\n",
       "  478.519,686.448 478.519,667.55 \n",
       "  \"/>\n",
       "<polyline clip-path=\"url(#clip310)\" style=\"stroke:#000000; stroke-linecap:butt; stroke-linejoin:round; stroke-width:4; stroke-opacity:1; fill:none\" points=\"\n",
       "  692.206,686.448 692.206,667.55 \n",
       "  \"/>\n",
       "<polyline clip-path=\"url(#clip310)\" style=\"stroke:#000000; stroke-linecap:butt; stroke-linejoin:round; stroke-width:4; stroke-opacity:1; fill:none\" points=\"\n",
       "  905.892,686.448 905.892,667.55 \n",
       "  \"/>\n",
       "<polyline clip-path=\"url(#clip310)\" style=\"stroke:#000000; stroke-linecap:butt; stroke-linejoin:round; stroke-width:4; stroke-opacity:1; fill:none\" points=\"\n",
       "  1119.58,686.448 1119.58,667.55 \n",
       "  \"/>\n",
       "<path clip-path=\"url(#clip310)\" d=\"M259.486 744.913 L275.805 744.913 L275.805 748.848 L253.861 748.848 L253.861 744.913 Q256.523 742.158 261.106 737.528 Q265.712 732.876 266.893 731.533 Q269.138 729.01 270.018 727.274 Q270.921 725.515 270.921 723.825 Q270.921 721.07 268.976 719.334 Q267.055 717.598 263.953 717.598 Q261.754 717.598 259.3 718.362 Q256.87 719.126 254.092 720.677 L254.092 715.955 Q256.916 714.82 259.37 714.242 Q261.824 713.663 263.861 713.663 Q269.231 713.663 272.425 716.348 Q275.62 719.033 275.62 723.524 Q275.62 725.654 274.81 727.575 Q274.023 729.473 271.916 732.066 Q271.337 732.737 268.236 735.954 Q265.134 739.149 259.486 744.913 Z\" fill=\"#000000\" fill-rule=\"evenodd\" fill-opacity=\"1\" /><path clip-path=\"url(#clip310)\" d=\"M482.767 730.214 Q486.123 730.931 487.998 733.2 Q489.897 735.468 489.897 738.802 Q489.897 743.917 486.378 746.718 Q482.86 749.519 476.378 749.519 Q474.202 749.519 471.887 749.079 Q469.596 748.663 467.142 747.806 L467.142 743.292 Q469.086 744.427 471.401 745.005 Q473.716 745.584 476.239 745.584 Q480.637 745.584 482.929 743.848 Q485.244 742.112 485.244 738.802 Q485.244 735.746 483.091 734.033 Q480.961 732.297 477.142 732.297 L473.114 732.297 L473.114 728.454 L477.327 728.454 Q480.776 728.454 482.605 727.089 Q484.434 725.7 484.434 723.107 Q484.434 720.445 482.535 719.033 Q480.66 717.598 477.142 717.598 Q475.221 717.598 473.022 718.015 Q470.823 718.431 468.184 719.311 L468.184 715.144 Q470.846 714.404 473.161 714.033 Q475.498 713.663 477.559 713.663 Q482.883 713.663 485.985 716.093 Q489.086 718.501 489.086 722.621 Q489.086 725.492 487.443 727.482 Q485.799 729.45 482.767 730.214 Z\" fill=\"#000000\" fill-rule=\"evenodd\" fill-opacity=\"1\" /><path clip-path=\"url(#clip310)\" d=\"M695.215 718.362 L683.41 736.811 L695.215 736.811 L695.215 718.362 M693.988 714.288 L699.868 714.288 L699.868 736.811 L704.798 736.811 L704.798 740.7 L699.868 740.7 L699.868 748.848 L695.215 748.848 L695.215 740.7 L679.613 740.7 L679.613 736.186 L693.988 714.288 Z\" fill=\"#000000\" fill-rule=\"evenodd\" fill-opacity=\"1\" /><path clip-path=\"url(#clip310)\" d=\"M896.17 714.288 L914.527 714.288 L914.527 718.223 L900.453 718.223 L900.453 726.695 Q901.471 726.348 902.49 726.186 Q903.508 726.001 904.527 726.001 Q910.314 726.001 913.693 729.172 Q917.073 732.343 917.073 737.76 Q917.073 743.339 913.601 746.44 Q910.128 749.519 903.809 749.519 Q901.633 749.519 899.365 749.149 Q897.119 748.778 894.712 748.038 L894.712 743.339 Q896.795 744.473 899.017 745.028 Q901.24 745.584 903.716 745.584 Q907.721 745.584 910.059 743.478 Q912.397 741.371 912.397 737.76 Q912.397 734.149 910.059 732.042 Q907.721 729.936 903.716 729.936 Q901.841 729.936 899.966 730.353 Q898.115 730.769 896.17 731.649 L896.17 714.288 Z\" fill=\"#000000\" fill-rule=\"evenodd\" fill-opacity=\"1\" /><path clip-path=\"url(#clip310)\" d=\"M1119.98 729.704 Q1116.84 729.704 1114.98 731.857 Q1113.16 734.01 1113.16 737.76 Q1113.16 741.487 1114.98 743.663 Q1116.84 745.815 1119.98 745.815 Q1123.13 745.815 1124.96 743.663 Q1126.81 741.487 1126.81 737.76 Q1126.81 734.01 1124.96 731.857 Q1123.13 729.704 1119.98 729.704 M1129.27 715.052 L1129.27 719.311 Q1127.51 718.478 1125.7 718.038 Q1123.92 717.598 1122.16 717.598 Q1117.53 717.598 1115.08 720.723 Q1112.65 723.848 1112.3 730.167 Q1113.66 728.154 1115.72 727.089 Q1117.78 726.001 1120.26 726.001 Q1125.47 726.001 1128.48 729.172 Q1131.51 732.32 1131.51 737.76 Q1131.51 743.084 1128.36 746.302 Q1125.22 749.519 1119.98 749.519 Q1113.99 749.519 1110.82 744.936 Q1107.65 740.329 1107.65 731.603 Q1107.65 723.408 1111.53 718.547 Q1115.42 713.663 1121.97 713.663 Q1123.73 713.663 1125.52 714.01 Q1127.32 714.357 1129.27 715.052 Z\" fill=\"#000000\" fill-rule=\"evenodd\" fill-opacity=\"1\" /><polyline clip-path=\"url(#clip312)\" style=\"stroke:#000000; stroke-linecap:butt; stroke-linejoin:round; stroke-width:2; stroke-opacity:0.1; fill:none\" points=\"\n",
       "  239.19,668.357 1145.22,668.357 \n",
       "  \"/>\n",
       "<polyline clip-path=\"url(#clip312)\" style=\"stroke:#000000; stroke-linecap:butt; stroke-linejoin:round; stroke-width:2; stroke-opacity:0.1; fill:none\" points=\"\n",
       "  239.19,517.602 1145.22,517.602 \n",
       "  \"/>\n",
       "<polyline clip-path=\"url(#clip312)\" style=\"stroke:#000000; stroke-linecap:butt; stroke-linejoin:round; stroke-width:2; stroke-opacity:0.1; fill:none\" points=\"\n",
       "  239.19,366.846 1145.22,366.846 \n",
       "  \"/>\n",
       "<polyline clip-path=\"url(#clip312)\" style=\"stroke:#000000; stroke-linecap:butt; stroke-linejoin:round; stroke-width:2; stroke-opacity:0.1; fill:none\" points=\"\n",
       "  239.19,216.09 1145.22,216.09 \n",
       "  \"/>\n",
       "<polyline clip-path=\"url(#clip312)\" style=\"stroke:#000000; stroke-linecap:butt; stroke-linejoin:round; stroke-width:2; stroke-opacity:0.1; fill:none\" points=\"\n",
       "  239.19,65.3348 1145.22,65.3348 \n",
       "  \"/>\n",
       "<polyline clip-path=\"url(#clip310)\" style=\"stroke:#000000; stroke-linecap:butt; stroke-linejoin:round; stroke-width:4; stroke-opacity:1; fill:none\" points=\"\n",
       "  239.19,686.448 239.19,47.2441 \n",
       "  \"/>\n",
       "<polyline clip-path=\"url(#clip310)\" style=\"stroke:#000000; stroke-linecap:butt; stroke-linejoin:round; stroke-width:4; stroke-opacity:1; fill:none\" points=\"\n",
       "  239.19,668.357 258.088,668.357 \n",
       "  \"/>\n",
       "<polyline clip-path=\"url(#clip310)\" style=\"stroke:#000000; stroke-linecap:butt; stroke-linejoin:round; stroke-width:4; stroke-opacity:1; fill:none\" points=\"\n",
       "  239.19,517.602 258.088,517.602 \n",
       "  \"/>\n",
       "<polyline clip-path=\"url(#clip310)\" style=\"stroke:#000000; stroke-linecap:butt; stroke-linejoin:round; stroke-width:4; stroke-opacity:1; fill:none\" points=\"\n",
       "  239.19,366.846 258.088,366.846 \n",
       "  \"/>\n",
       "<polyline clip-path=\"url(#clip310)\" style=\"stroke:#000000; stroke-linecap:butt; stroke-linejoin:round; stroke-width:4; stroke-opacity:1; fill:none\" points=\"\n",
       "  239.19,216.09 258.088,216.09 \n",
       "  \"/>\n",
       "<polyline clip-path=\"url(#clip310)\" style=\"stroke:#000000; stroke-linecap:butt; stroke-linejoin:round; stroke-width:4; stroke-opacity:1; fill:none\" points=\"\n",
       "  239.19,65.3348 258.088,65.3348 \n",
       "  \"/>\n",
       "<path clip-path=\"url(#clip310)\" d=\"M50.9921 668.809 L80.6679 668.809 L80.6679 672.744 L50.9921 672.744 L50.9921 668.809 Z\" fill=\"#000000\" fill-rule=\"evenodd\" fill-opacity=\"1\" /><path clip-path=\"url(#clip310)\" d=\"M94.7882 681.702 L111.108 681.702 L111.108 685.637 L89.1632 685.637 L89.1632 681.702 Q91.8252 678.947 96.4085 674.318 Q101.015 669.665 102.196 668.322 Q104.441 665.799 105.321 664.063 Q106.223 662.304 106.223 660.614 Q106.223 657.86 104.279 656.123 Q102.358 654.387 99.2558 654.387 Q97.0567 654.387 94.603 655.151 Q92.1725 655.915 89.3947 657.466 L89.3947 652.744 Q92.2188 651.61 94.6724 651.031 Q97.1261 650.452 99.1632 650.452 Q104.534 650.452 107.728 653.137 Q110.922 655.823 110.922 660.313 Q110.922 662.443 110.112 664.364 Q109.325 666.262 107.219 668.855 Q106.64 669.526 103.538 672.744 Q100.436 675.938 94.7882 681.702 Z\" fill=\"#000000\" fill-rule=\"evenodd\" fill-opacity=\"1\" /><path clip-path=\"url(#clip310)\" d=\"M130.922 654.156 Q127.311 654.156 125.482 657.721 Q123.677 661.262 123.677 668.392 Q123.677 675.498 125.482 679.063 Q127.311 682.605 130.922 682.605 Q134.556 682.605 136.362 679.063 Q138.191 675.498 138.191 668.392 Q138.191 661.262 136.362 657.721 Q134.556 654.156 130.922 654.156 M130.922 650.452 Q136.732 650.452 139.788 655.059 Q142.867 659.642 142.867 668.392 Q142.867 677.119 139.788 681.725 Q136.732 686.308 130.922 686.308 Q125.112 686.308 122.033 681.725 Q118.978 677.119 118.978 668.392 Q118.978 659.642 122.033 655.059 Q125.112 650.452 130.922 650.452 Z\" fill=\"#000000\" fill-rule=\"evenodd\" fill-opacity=\"1\" /><path clip-path=\"url(#clip310)\" d=\"M161.084 654.156 Q157.473 654.156 155.644 657.721 Q153.839 661.262 153.839 668.392 Q153.839 675.498 155.644 679.063 Q157.473 682.605 161.084 682.605 Q164.718 682.605 166.524 679.063 Q168.353 675.498 168.353 668.392 Q168.353 661.262 166.524 657.721 Q164.718 654.156 161.084 654.156 M161.084 650.452 Q166.894 650.452 169.95 655.059 Q173.029 659.642 173.029 668.392 Q173.029 677.119 169.95 681.725 Q166.894 686.308 161.084 686.308 Q155.274 686.308 152.195 681.725 Q149.14 677.119 149.14 668.392 Q149.14 659.642 152.195 655.059 Q155.274 650.452 161.084 650.452 Z\" fill=\"#000000\" fill-rule=\"evenodd\" fill-opacity=\"1\" /><path clip-path=\"url(#clip310)\" d=\"M191.246 654.156 Q187.635 654.156 185.806 657.721 Q184.001 661.262 184.001 668.392 Q184.001 675.498 185.806 679.063 Q187.635 682.605 191.246 682.605 Q194.88 682.605 196.686 679.063 Q198.514 675.498 198.514 668.392 Q198.514 661.262 196.686 657.721 Q194.88 654.156 191.246 654.156 M191.246 650.452 Q197.056 650.452 200.112 655.059 Q203.19 659.642 203.19 668.392 Q203.19 677.119 200.112 681.725 Q197.056 686.308 191.246 686.308 Q185.436 686.308 182.357 681.725 Q179.302 677.119 179.302 668.392 Q179.302 659.642 182.357 655.059 Q185.436 650.452 191.246 650.452 Z\" fill=\"#000000\" fill-rule=\"evenodd\" fill-opacity=\"1\" /><path clip-path=\"url(#clip310)\" d=\"M50.9921 518.053 L80.6679 518.053 L80.6679 521.988 L50.9921 521.988 L50.9921 518.053 Z\" fill=\"#000000\" fill-rule=\"evenodd\" fill-opacity=\"1\" /><path clip-path=\"url(#clip310)\" d=\"M91.5706 530.946 L99.2095 530.946 L99.2095 504.581 L90.8993 506.247 L90.8993 501.988 L99.1632 500.322 L103.839 500.322 L103.839 530.946 L111.478 530.946 L111.478 534.882 L91.5706 534.882 L91.5706 530.946 Z\" fill=\"#000000\" fill-rule=\"evenodd\" fill-opacity=\"1\" /><path clip-path=\"url(#clip310)\" d=\"M130.922 503.4 Q127.311 503.4 125.482 506.965 Q123.677 510.507 123.677 517.636 Q123.677 524.743 125.482 528.308 Q127.311 531.849 130.922 531.849 Q134.556 531.849 136.362 528.308 Q138.191 524.743 138.191 517.636 Q138.191 510.507 136.362 506.965 Q134.556 503.4 130.922 503.4 M130.922 499.697 Q136.732 499.697 139.788 504.303 Q142.867 508.886 142.867 517.636 Q142.867 526.363 139.788 530.97 Q136.732 535.553 130.922 535.553 Q125.112 535.553 122.033 530.97 Q118.978 526.363 118.978 517.636 Q118.978 508.886 122.033 504.303 Q125.112 499.697 130.922 499.697 Z\" fill=\"#000000\" fill-rule=\"evenodd\" fill-opacity=\"1\" /><path clip-path=\"url(#clip310)\" d=\"M161.084 503.4 Q157.473 503.4 155.644 506.965 Q153.839 510.507 153.839 517.636 Q153.839 524.743 155.644 528.308 Q157.473 531.849 161.084 531.849 Q164.718 531.849 166.524 528.308 Q168.353 524.743 168.353 517.636 Q168.353 510.507 166.524 506.965 Q164.718 503.4 161.084 503.4 M161.084 499.697 Q166.894 499.697 169.95 504.303 Q173.029 508.886 173.029 517.636 Q173.029 526.363 169.95 530.97 Q166.894 535.553 161.084 535.553 Q155.274 535.553 152.195 530.97 Q149.14 526.363 149.14 517.636 Q149.14 508.886 152.195 504.303 Q155.274 499.697 161.084 499.697 Z\" fill=\"#000000\" fill-rule=\"evenodd\" fill-opacity=\"1\" /><path clip-path=\"url(#clip310)\" d=\"M191.246 503.4 Q187.635 503.4 185.806 506.965 Q184.001 510.507 184.001 517.636 Q184.001 524.743 185.806 528.308 Q187.635 531.849 191.246 531.849 Q194.88 531.849 196.686 528.308 Q198.514 524.743 198.514 517.636 Q198.514 510.507 196.686 506.965 Q194.88 503.4 191.246 503.4 M191.246 499.697 Q197.056 499.697 200.112 504.303 Q203.19 508.886 203.19 517.636 Q203.19 526.363 200.112 530.97 Q197.056 535.553 191.246 535.553 Q185.436 535.553 182.357 530.97 Q179.302 526.363 179.302 517.636 Q179.302 508.886 182.357 504.303 Q185.436 499.697 191.246 499.697 Z\" fill=\"#000000\" fill-rule=\"evenodd\" fill-opacity=\"1\" /><path clip-path=\"url(#clip310)\" d=\"M191.246 352.645 Q187.635 352.645 185.806 356.209 Q184.001 359.751 184.001 366.881 Q184.001 373.987 185.806 377.552 Q187.635 381.094 191.246 381.094 Q194.88 381.094 196.686 377.552 Q198.514 373.987 198.514 366.881 Q198.514 359.751 196.686 356.209 Q194.88 352.645 191.246 352.645 M191.246 348.941 Q197.056 348.941 200.112 353.547 Q203.19 358.131 203.19 366.881 Q203.19 375.608 200.112 380.214 Q197.056 384.797 191.246 384.797 Q185.436 384.797 182.357 380.214 Q179.302 375.608 179.302 366.881 Q179.302 358.131 182.357 353.547 Q185.436 348.941 191.246 348.941 Z\" fill=\"#000000\" fill-rule=\"evenodd\" fill-opacity=\"1\" /><path clip-path=\"url(#clip310)\" d=\"M91.5706 229.435 L99.2095 229.435 L99.2095 203.07 L90.8993 204.736 L90.8993 200.477 L99.1632 198.81 L103.839 198.81 L103.839 229.435 L111.478 229.435 L111.478 233.37 L91.5706 233.37 L91.5706 229.435 Z\" fill=\"#000000\" fill-rule=\"evenodd\" fill-opacity=\"1\" /><path clip-path=\"url(#clip310)\" d=\"M130.922 201.889 Q127.311 201.889 125.482 205.454 Q123.677 208.996 123.677 216.125 Q123.677 223.232 125.482 226.796 Q127.311 230.338 130.922 230.338 Q134.556 230.338 136.362 226.796 Q138.191 223.232 138.191 216.125 Q138.191 208.996 136.362 205.454 Q134.556 201.889 130.922 201.889 M130.922 198.185 Q136.732 198.185 139.788 202.792 Q142.867 207.375 142.867 216.125 Q142.867 224.852 139.788 229.458 Q136.732 234.042 130.922 234.042 Q125.112 234.042 122.033 229.458 Q118.978 224.852 118.978 216.125 Q118.978 207.375 122.033 202.792 Q125.112 198.185 130.922 198.185 Z\" fill=\"#000000\" fill-rule=\"evenodd\" fill-opacity=\"1\" /><path clip-path=\"url(#clip310)\" d=\"M161.084 201.889 Q157.473 201.889 155.644 205.454 Q153.839 208.996 153.839 216.125 Q153.839 223.232 155.644 226.796 Q157.473 230.338 161.084 230.338 Q164.718 230.338 166.524 226.796 Q168.353 223.232 168.353 216.125 Q168.353 208.996 166.524 205.454 Q164.718 201.889 161.084 201.889 M161.084 198.185 Q166.894 198.185 169.95 202.792 Q173.029 207.375 173.029 216.125 Q173.029 224.852 169.95 229.458 Q166.894 234.042 161.084 234.042 Q155.274 234.042 152.195 229.458 Q149.14 224.852 149.14 216.125 Q149.14 207.375 152.195 202.792 Q155.274 198.185 161.084 198.185 Z\" fill=\"#000000\" fill-rule=\"evenodd\" fill-opacity=\"1\" /><path clip-path=\"url(#clip310)\" d=\"M191.246 201.889 Q187.635 201.889 185.806 205.454 Q184.001 208.996 184.001 216.125 Q184.001 223.232 185.806 226.796 Q187.635 230.338 191.246 230.338 Q194.88 230.338 196.686 226.796 Q198.514 223.232 198.514 216.125 Q198.514 208.996 196.686 205.454 Q194.88 201.889 191.246 201.889 M191.246 198.185 Q197.056 198.185 200.112 202.792 Q203.19 207.375 203.19 216.125 Q203.19 224.852 200.112 229.458 Q197.056 234.042 191.246 234.042 Q185.436 234.042 182.357 229.458 Q179.302 224.852 179.302 216.125 Q179.302 207.375 182.357 202.792 Q185.436 198.185 191.246 198.185 Z\" fill=\"#000000\" fill-rule=\"evenodd\" fill-opacity=\"1\" /><path clip-path=\"url(#clip310)\" d=\"M94.7882 78.6796 L111.108 78.6796 L111.108 82.6148 L89.1632 82.6148 L89.1632 78.6796 Q91.8252 75.925 96.4085 71.2954 Q101.015 66.6426 102.196 65.3 Q104.441 62.7769 105.321 61.0408 Q106.223 59.2816 106.223 57.5918 Q106.223 54.8371 104.279 53.101 Q102.358 51.3649 99.2558 51.3649 Q97.0567 51.3649 94.603 52.1288 Q92.1725 52.8927 89.3947 54.4436 L89.3947 49.7214 Q92.2188 48.5872 94.6724 48.0085 Q97.1261 47.4298 99.1632 47.4298 Q104.534 47.4298 107.728 50.1149 Q110.922 52.8001 110.922 57.2908 Q110.922 59.4204 110.112 61.3417 Q109.325 63.2399 107.219 65.8325 Q106.64 66.5037 103.538 69.7213 Q100.436 72.9157 94.7882 78.6796 Z\" fill=\"#000000\" fill-rule=\"evenodd\" fill-opacity=\"1\" /><path clip-path=\"url(#clip310)\" d=\"M130.922 51.1335 Q127.311 51.1335 125.482 54.6983 Q123.677 58.2399 123.677 65.3695 Q123.677 72.4759 125.482 76.0407 Q127.311 79.5824 130.922 79.5824 Q134.556 79.5824 136.362 76.0407 Q138.191 72.4759 138.191 65.3695 Q138.191 58.2399 136.362 54.6983 Q134.556 51.1335 130.922 51.1335 M130.922 47.4298 Q136.732 47.4298 139.788 52.0362 Q142.867 56.6195 142.867 65.3695 Q142.867 74.0963 139.788 78.7028 Q136.732 83.2861 130.922 83.2861 Q125.112 83.2861 122.033 78.7028 Q118.978 74.0963 118.978 65.3695 Q118.978 56.6195 122.033 52.0362 Q125.112 47.4298 130.922 47.4298 Z\" fill=\"#000000\" fill-rule=\"evenodd\" fill-opacity=\"1\" /><path clip-path=\"url(#clip310)\" d=\"M161.084 51.1335 Q157.473 51.1335 155.644 54.6983 Q153.839 58.2399 153.839 65.3695 Q153.839 72.4759 155.644 76.0407 Q157.473 79.5824 161.084 79.5824 Q164.718 79.5824 166.524 76.0407 Q168.353 72.4759 168.353 65.3695 Q168.353 58.2399 166.524 54.6983 Q164.718 51.1335 161.084 51.1335 M161.084 47.4298 Q166.894 47.4298 169.95 52.0362 Q173.029 56.6195 173.029 65.3695 Q173.029 74.0963 169.95 78.7028 Q166.894 83.2861 161.084 83.2861 Q155.274 83.2861 152.195 78.7028 Q149.14 74.0963 149.14 65.3695 Q149.14 56.6195 152.195 52.0362 Q155.274 47.4298 161.084 47.4298 Z\" fill=\"#000000\" fill-rule=\"evenodd\" fill-opacity=\"1\" /><path clip-path=\"url(#clip310)\" d=\"M191.246 51.1335 Q187.635 51.1335 185.806 54.6983 Q184.001 58.2399 184.001 65.3695 Q184.001 72.4759 185.806 76.0407 Q187.635 79.5824 191.246 79.5824 Q194.88 79.5824 196.686 76.0407 Q198.514 72.4759 198.514 65.3695 Q198.514 58.2399 196.686 54.6983 Q194.88 51.1335 191.246 51.1335 M191.246 47.4298 Q197.056 47.4298 200.112 52.0362 Q203.19 56.6195 203.19 65.3695 Q203.19 74.0963 200.112 78.7028 Q197.056 83.2861 191.246 83.2861 Q185.436 83.2861 182.357 78.7028 Q179.302 74.0963 179.302 65.3695 Q179.302 56.6195 182.357 52.0362 Q185.436 47.4298 191.246 47.4298 Z\" fill=\"#000000\" fill-rule=\"evenodd\" fill-opacity=\"1\" /><polyline clip-path=\"url(#clip312)\" style=\"stroke:#009af9; stroke-linecap:butt; stroke-linejoin:round; stroke-width:4; stroke-opacity:1; fill:none\" points=\"\n",
       "  264.833,366.997 265.046,366.997 265.26,366.997 265.474,366.997 265.688,366.997 265.901,366.997 266.115,366.997 266.329,366.997 266.542,366.997 266.756,366.997 \n",
       "  266.97,366.997 267.183,366.998 267.397,366.998 267.611,366.998 267.824,366.998 268.038,366.998 268.252,366.998 268.465,366.998 268.679,366.998 268.893,366.998 \n",
       "  269.106,366.998 269.32,366.998 269.534,366.998 269.748,366.998 269.961,366.999 270.175,366.999 270.389,366.999 270.602,366.999 270.816,366.999 271.03,366.999 \n",
       "  271.243,366.999 271.457,366.999 271.671,366.999 271.884,366.999 272.098,366.999 272.312,366.999 272.525,367 272.739,367 272.953,367 273.167,367 \n",
       "  273.38,367 273.594,367 273.808,367 274.021,367 274.235,367 274.449,367 274.662,367 274.876,367 275.09,367 275.303,367.001 \n",
       "  275.517,367.001 275.731,367.001 275.944,367.001 276.158,367.001 276.372,367.001 276.586,367.001 276.799,367.001 277.013,367.001 277.227,367.001 277.44,367.001 \n",
       "  277.654,367.001 277.868,367.001 278.081,367.002 278.295,367.002 278.509,367.002 278.722,367.002 278.936,367.002 279.15,367.002 279.363,367.002 279.577,367.002 \n",
       "  279.791,367.002 280.005,367.002 280.218,367.002 280.432,367.002 280.646,367.003 280.859,367.003 281.073,367.003 281.287,367.003 281.5,367.003 281.714,367.003 \n",
       "  281.928,367.003 282.141,367.003 282.355,367.003 282.569,367.003 282.782,367.003 282.996,367.003 283.21,367.004 283.423,367.004 283.637,367.004 283.851,367.004 \n",
       "  284.065,367.004 284.278,367.004 284.492,367.004 284.706,367.004 284.919,367.004 285.133,367.004 285.347,367.004 285.56,367.004 285.774,367.005 285.988,367.005 \n",
       "  286.201,367.005 286.415,367.005 286.629,367.005 286.842,367.005 287.056,367.005 287.27,367.005 287.484,367.005 287.697,367.005 287.911,367.005 288.125,367.005 \n",
       "  288.338,367.006 288.552,367.006 288.766,367.006 288.979,367.006 289.193,367.006 289.407,367.006 289.62,367.006 289.834,367.006 290.048,367.006 290.261,367.006 \n",
       "  290.475,367.006 290.689,367.006 290.903,367.007 291.116,367.007 291.33,367.007 291.544,367.007 291.757,367.007 291.971,367.007 292.185,367.007 292.398,367.007 \n",
       "  292.612,367.007 292.826,367.007 293.039,367.007 293.253,367.007 293.467,367.008 293.68,367.008 293.894,367.008 294.108,367.008 294.322,367.008 294.535,367.008 \n",
       "  294.749,367.008 294.963,367.008 295.176,367.008 295.39,367.008 295.604,367.008 295.817,367.009 296.031,367.009 296.245,367.009 296.458,367.009 296.672,367.009 \n",
       "  296.886,367.009 297.099,367.009 297.313,367.009 297.527,367.009 297.74,367.009 297.954,367.009 298.168,367.009 298.382,367.01 298.595,367.01 298.809,367.01 \n",
       "  299.023,367.01 299.236,367.01 299.45,367.01 299.664,367.01 299.877,367.01 300.091,367.01 300.305,367.01 300.518,367.01 300.732,367.011 300.946,367.011 \n",
       "  301.159,367.011 301.373,367.011 301.587,367.011 301.801,367.011 302.014,367.011 302.228,367.011 302.442,367.011 302.655,367.011 302.869,367.011 303.083,367.012 \n",
       "  303.296,367.012 303.51,367.012 303.724,367.012 303.937,367.012 304.151,367.012 304.365,367.012 304.578,367.012 304.792,367.012 305.006,367.012 305.22,367.012 \n",
       "  305.433,367.013 305.647,367.013 305.861,367.013 306.074,367.013 306.288,367.013 306.502,367.013 306.715,367.013 306.929,367.013 307.143,367.013 307.356,367.013 \n",
       "  307.57,367.013 307.784,367.014 307.997,367.014 308.211,367.014 308.425,367.014 308.639,367.014 308.852,367.014 309.066,367.014 309.28,367.014 309.493,367.014 \n",
       "  309.707,367.014 309.921,367.015 310.134,367.015 310.348,367.015 310.562,367.015 310.775,367.015 310.989,367.015 311.203,367.015 311.416,367.015 311.63,367.015 \n",
       "  311.844,367.015 312.057,367.015 312.271,367.016 312.485,367.016 312.699,367.016 312.912,367.016 313.126,367.016 313.34,367.016 313.553,367.016 313.767,367.016 \n",
       "  313.981,367.016 314.194,367.016 314.408,367.017 314.622,367.017 314.835,367.017 315.049,367.017 315.263,367.017 315.476,367.017 315.69,367.017 315.904,367.017 \n",
       "  316.118,367.017 316.331,367.017 316.545,367.017 316.759,367.018 316.972,367.018 317.186,367.018 317.4,367.018 317.613,367.018 317.827,367.018 318.041,367.018 \n",
       "  318.254,367.018 318.468,367.018 318.682,367.018 318.895,367.019 319.109,367.019 319.323,367.019 319.537,367.019 319.75,367.019 319.964,367.019 320.178,367.019 \n",
       "  320.391,367.019 320.605,367.019 320.819,367.019 321.032,367.02 321.246,367.02 321.46,367.02 321.673,367.02 321.887,367.02 322.101,367.02 322.314,367.02 \n",
       "  322.528,367.02 322.742,367.02 322.955,367.02 323.169,367.021 323.383,367.021 323.597,367.021 323.81,367.021 324.024,367.021 324.238,367.021 324.451,367.021 \n",
       "  324.665,367.021 324.879,367.021 325.092,367.021 325.306,367.022 325.52,367.022 325.733,367.022 325.947,367.022 326.161,367.022 326.374,367.022 326.588,367.022 \n",
       "  326.802,367.022 327.016,367.022 327.229,367.023 327.443,367.023 327.657,367.023 327.87,367.023 328.084,367.023 328.298,367.023 328.511,367.023 328.725,367.023 \n",
       "  328.939,367.023 329.152,367.023 329.366,367.024 329.58,367.024 329.793,367.024 330.007,367.024 330.221,367.024 330.435,367.024 330.648,367.024 330.862,367.024 \n",
       "  331.076,367.024 331.289,367.024 331.503,367.025 331.717,367.025 331.93,367.025 332.144,367.025 332.358,367.025 332.571,367.025 332.785,367.025 332.999,367.025 \n",
       "  333.212,367.025 333.426,367.026 333.64,367.026 333.854,367.026 334.067,367.026 334.281,367.026 334.495,367.026 334.708,367.026 334.922,367.026 335.136,367.026 \n",
       "  335.349,367.027 335.563,367.027 335.777,367.027 335.99,367.027 336.204,367.027 336.418,367.027 336.631,367.027 336.845,367.027 337.059,367.027 337.272,367.028 \n",
       "  337.486,367.028 337.7,367.028 337.914,367.028 338.127,367.028 338.341,367.028 338.555,367.028 338.768,367.028 338.982,367.028 339.196,367.028 339.409,367.029 \n",
       "  339.623,367.029 339.837,367.029 340.05,367.029 340.264,367.029 340.478,367.029 340.691,367.029 340.905,367.029 341.119,367.029 341.333,367.03 341.546,367.03 \n",
       "  341.76,367.03 341.974,367.03 342.187,367.03 342.401,367.03 342.615,367.03 342.828,367.03 343.042,367.031 343.256,367.031 343.469,367.031 343.683,367.031 \n",
       "  343.897,367.031 344.11,367.031 344.324,367.031 344.538,367.031 344.752,367.031 344.965,367.032 345.179,367.032 345.393,367.032 345.606,367.032 345.82,367.032 \n",
       "  346.034,367.032 346.247,367.032 346.461,367.032 346.675,367.032 346.888,367.033 347.102,367.033 347.316,367.033 347.529,367.033 347.743,367.033 347.957,367.033 \n",
       "  348.171,367.033 348.384,367.033 348.598,367.033 348.812,367.034 349.025,367.034 349.239,367.034 349.453,367.034 349.666,367.034 349.88,367.034 350.094,367.034 \n",
       "  350.307,367.034 350.521,367.035 350.735,367.035 350.948,367.035 351.162,367.035 351.376,367.035 351.589,367.035 351.803,367.035 352.017,367.035 352.231,367.035 \n",
       "  352.444,367.036 352.658,367.036 352.872,367.036 353.085,367.036 353.299,367.036 353.513,367.036 353.726,367.036 353.94,367.036 354.154,367.037 354.367,367.037 \n",
       "  354.581,367.037 354.795,367.037 355.008,367.037 355.222,367.037 355.436,367.037 355.65,367.037 355.863,367.038 356.077,367.038 356.291,367.038 356.504,367.038 \n",
       "  356.718,367.038 356.932,367.038 357.145,367.038 357.359,367.038 357.573,367.039 357.786,367.039 358,367.039 358.214,367.039 358.427,367.039 358.641,367.039 \n",
       "  358.855,367.039 359.069,367.039 359.282,367.04 359.496,367.04 359.71,367.04 359.923,367.04 360.137,367.04 360.351,367.04 360.564,367.04 360.778,367.04 \n",
       "  360.992,367.041 361.205,367.041 361.419,367.041 361.633,367.041 361.846,367.041 362.06,367.041 362.274,367.041 362.488,367.041 362.701,367.042 362.915,367.042 \n",
       "  363.129,367.042 363.342,367.042 363.556,367.042 363.77,367.042 363.983,367.042 364.197,367.042 364.411,367.043 364.624,367.043 364.838,367.043 365.052,367.043 \n",
       "  365.265,367.043 365.479,367.043 365.693,367.043 365.906,367.043 366.12,367.044 366.334,367.044 366.548,367.044 366.761,367.044 366.975,367.044 367.189,367.044 \n",
       "  367.402,367.044 367.616,367.044 367.83,367.045 368.043,367.045 368.257,367.045 368.471,367.045 368.684,367.045 368.898,367.045 369.112,367.045 369.325,367.046 \n",
       "  369.539,367.046 369.753,367.046 369.967,367.046 370.18,367.046 370.394,367.046 370.608,367.046 370.821,367.046 371.035,367.047 371.249,367.047 371.462,367.047 \n",
       "  371.676,367.047 371.89,367.047 372.103,367.047 372.317,367.047 372.531,367.048 372.744,367.048 372.958,367.048 373.172,367.048 373.386,367.048 373.599,367.048 \n",
       "  373.813,367.048 374.027,367.048 374.24,367.049 374.454,367.049 374.668,367.049 374.881,367.049 375.095,367.049 375.309,367.049 375.522,367.049 375.736,367.05 \n",
       "  375.95,367.05 376.163,367.05 376.377,367.05 376.591,367.05 376.805,367.05 377.018,367.05 377.232,367.051 377.446,367.051 377.659,367.051 377.873,367.051 \n",
       "  378.087,367.051 378.3,367.051 378.514,367.051 378.728,367.052 378.941,367.052 379.155,367.052 379.369,367.052 379.582,367.052 379.796,367.052 380.01,367.052 \n",
       "  380.223,367.052 380.437,367.053 380.651,367.053 380.865,367.053 381.078,367.053 381.292,367.053 381.506,367.053 381.719,367.053 381.933,367.054 382.147,367.054 \n",
       "  382.36,367.054 382.574,367.054 382.788,367.054 383.001,367.054 383.215,367.054 383.429,367.055 383.642,367.055 383.856,367.055 384.07,367.055 384.284,367.055 \n",
       "  384.497,367.055 384.711,367.056 384.925,367.056 385.138,367.056 385.352,367.056 385.566,367.056 385.779,367.056 385.993,367.056 386.207,367.057 386.42,367.057 \n",
       "  386.634,367.057 386.848,367.057 387.061,367.057 387.275,367.057 387.489,367.057 387.703,367.058 387.916,367.058 388.13,367.058 388.344,367.058 388.557,367.058 \n",
       "  388.771,367.058 388.985,367.058 389.198,367.059 389.412,367.059 389.626,367.059 389.839,367.059 390.053,367.059 390.267,367.059 390.48,367.06 390.694,367.06 \n",
       "  390.908,367.06 391.121,367.06 391.335,367.06 391.549,367.06 391.763,367.06 391.976,367.061 392.19,367.061 392.404,367.061 392.617,367.061 392.831,367.061 \n",
       "  393.045,367.061 393.258,367.062 393.472,367.062 393.686,367.062 393.899,367.062 394.113,367.062 394.327,367.062 394.54,367.062 394.754,367.063 394.968,367.063 \n",
       "  395.182,367.063 395.395,367.063 395.609,367.063 395.823,367.063 396.036,367.064 396.25,367.064 396.464,367.064 396.677,367.064 396.891,367.064 397.105,367.064 \n",
       "  397.318,367.064 397.532,367.065 397.746,367.065 397.959,367.065 398.173,367.065 398.387,367.065 398.601,367.065 398.814,367.066 399.028,367.066 399.242,367.066 \n",
       "  399.455,367.066 399.669,367.066 399.883,367.066 400.096,367.067 400.31,367.067 400.524,367.067 400.737,367.067 400.951,367.067 401.165,367.067 401.378,367.068 \n",
       "  401.592,367.068 401.806,367.068 402.02,367.068 402.233,367.068 402.447,367.068 402.661,367.069 402.874,367.069 403.088,367.069 403.302,367.069 403.515,367.069 \n",
       "  403.729,367.069 403.943,367.069 404.156,367.07 404.37,367.07 404.584,367.07 404.797,367.07 405.011,367.07 405.225,367.07 405.438,367.071 405.652,367.071 \n",
       "  405.866,367.071 406.08,367.071 406.293,367.071 406.507,367.071 406.721,367.072 406.934,367.072 407.148,367.072 407.362,367.072 407.575,367.072 407.789,367.073 \n",
       "  408.003,367.073 408.216,367.073 408.43,367.073 408.644,367.073 408.857,367.073 409.071,367.074 409.285,367.074 409.499,367.074 409.712,367.074 409.926,367.074 \n",
       "  410.14,367.074 410.353,367.075 410.567,367.075 410.781,367.075 410.994,367.075 411.208,367.075 411.422,367.075 411.635,367.076 411.849,367.076 412.063,367.076 \n",
       "  412.276,367.076 412.49,367.076 412.704,367.076 412.918,367.077 413.131,367.077 413.345,367.077 413.559,367.077 413.772,367.077 413.986,367.078 414.2,367.078 \n",
       "  414.413,367.078 414.627,367.078 414.841,367.078 415.054,367.078 415.268,367.079 415.482,367.079 415.695,367.079 415.909,367.079 416.123,367.079 416.337,367.08 \n",
       "  416.55,367.08 416.764,367.08 416.978,367.08 417.191,367.08 417.405,367.08 417.619,367.081 417.832,367.081 418.046,367.081 418.26,367.081 418.473,367.081 \n",
       "  418.687,367.082 418.901,367.082 419.114,367.082 419.328,367.082 419.542,367.082 419.755,367.082 419.969,367.083 420.183,367.083 420.397,367.083 420.61,367.083 \n",
       "  420.824,367.083 421.038,367.084 421.251,367.084 421.465,367.084 421.679,367.084 421.892,367.084 422.106,367.085 422.32,367.085 422.533,367.085 422.747,367.085 \n",
       "  422.961,367.085 423.174,367.085 423.388,367.086 423.602,367.086 423.816,367.086 424.029,367.086 424.243,367.086 424.457,367.087 424.67,367.087 424.884,367.087 \n",
       "  425.098,367.087 425.311,367.087 425.525,367.088 425.739,367.088 425.952,367.088 426.166,367.088 426.38,367.088 426.593,367.089 426.807,367.089 427.021,367.089 \n",
       "  427.235,367.089 427.448,367.089 427.662,367.09 427.876,367.09 428.089,367.09 428.303,367.09 428.517,367.09 428.73,367.091 428.944,367.091 429.158,367.091 \n",
       "  429.371,367.091 429.585,367.091 429.799,367.092 430.012,367.092 430.226,367.092 430.44,367.092 430.654,367.092 430.867,367.093 431.081,367.093 431.295,367.093 \n",
       "  431.508,367.093 431.722,367.093 431.936,367.094 432.149,367.094 432.363,367.094 432.577,367.094 432.79,367.094 433.004,367.095 433.218,367.095 433.431,367.095 \n",
       "  433.645,367.095 433.859,367.095 434.072,367.096 434.286,367.096 434.5,367.096 434.714,367.096 434.927,367.096 435.141,367.097 435.355,367.097 435.568,367.097 \n",
       "  435.782,367.097 435.996,367.097 436.209,367.098 436.423,367.098 436.637,367.098 436.85,367.098 437.064,367.099 437.278,367.099 437.491,367.099 437.705,367.099 \n",
       "  437.919,367.099 438.133,367.1 438.346,367.1 438.56,367.1 438.774,367.1 438.987,367.1 439.201,367.101 439.415,367.101 439.628,367.101 439.842,367.101 \n",
       "  440.056,367.102 440.269,367.102 440.483,367.102 440.697,367.102 440.91,367.102 441.124,367.103 441.338,367.103 441.552,367.103 441.765,367.103 441.979,367.103 \n",
       "  442.193,367.104 442.406,367.104 442.62,367.104 442.834,367.104 443.047,367.105 443.261,367.105 443.475,367.105 443.688,367.105 443.902,367.105 444.116,367.106 \n",
       "  444.329,367.106 444.543,367.106 444.757,367.106 444.971,367.107 445.184,367.107 445.398,367.107 445.612,367.107 445.825,367.107 446.039,367.108 446.253,367.108 \n",
       "  446.466,367.108 446.68,367.108 446.894,367.109 447.107,367.109 447.321,367.109 447.535,367.109 447.748,367.11 447.962,367.11 448.176,367.11 448.389,367.11 \n",
       "  448.603,367.11 448.817,367.111 449.031,367.111 449.244,367.111 449.458,367.111 449.672,367.112 449.885,367.112 450.099,367.112 450.313,367.112 450.526,367.113 \n",
       "  450.74,367.113 450.954,367.113 451.167,367.113 451.381,367.114 451.595,367.114 451.808,367.114 452.022,367.114 452.236,367.114 452.45,367.115 452.663,367.115 \n",
       "  452.877,367.115 453.091,367.115 453.304,367.116 453.518,367.116 453.732,367.116 453.945,367.116 454.159,367.117 454.373,367.117 454.586,367.117 454.8,367.117 \n",
       "  455.014,367.118 455.227,367.118 455.441,367.118 455.655,367.118 455.869,367.119 456.082,367.119 456.296,367.119 456.51,367.119 456.723,367.12 456.937,367.12 \n",
       "  457.151,367.12 457.364,367.12 457.578,367.121 457.792,367.121 458.005,367.121 458.219,367.121 458.433,367.122 458.646,367.122 458.86,367.122 459.074,367.122 \n",
       "  459.287,367.123 459.501,367.123 459.715,367.123 459.929,367.123 460.142,367.124 460.356,367.124 460.57,367.124 460.783,367.124 460.997,367.125 461.211,367.125 \n",
       "  461.424,367.125 461.638,367.125 461.852,367.126 462.065,367.126 462.279,367.126 462.493,367.126 462.706,367.127 462.92,367.127 463.134,367.127 463.348,367.128 \n",
       "  463.561,367.128 463.775,367.128 463.989,367.128 464.202,367.129 464.416,367.129 464.63,367.129 464.843,367.129 465.057,367.13 465.271,367.13 465.484,367.13 \n",
       "  465.698,367.13 465.912,367.131 466.125,367.131 466.339,367.131 466.553,367.132 466.767,367.132 466.98,367.132 467.194,367.132 467.408,367.133 467.621,367.133 \n",
       "  467.835,367.133 468.049,367.133 468.262,367.134 468.476,367.134 468.69,367.134 468.903,367.135 469.117,367.135 469.331,367.135 469.544,367.135 469.758,367.136 \n",
       "  469.972,367.136 470.186,367.136 470.399,367.136 470.613,367.137 470.827,367.137 471.04,367.137 471.254,367.138 471.468,367.138 471.681,367.138 471.895,367.138 \n",
       "  472.109,367.139 472.322,367.139 472.536,367.139 472.75,367.14 472.963,367.14 473.177,367.14 473.391,367.14 473.604,367.141 473.818,367.141 474.032,367.141 \n",
       "  474.246,367.142 474.459,367.142 474.673,367.142 474.887,367.142 475.1,367.143 475.314,367.143 475.528,367.143 475.741,367.144 475.955,367.144 476.169,367.144 \n",
       "  476.382,367.145 476.596,367.145 476.81,367.145 477.023,367.145 477.237,367.146 477.451,367.146 477.665,367.146 477.878,367.147 478.092,367.147 478.306,367.147 \n",
       "  478.519,367.147 478.733,367.148 478.947,367.148 479.16,367.148 479.374,367.149 479.588,367.149 479.801,367.149 480.015,367.15 480.229,367.15 480.442,367.15 \n",
       "  480.656,367.151 480.87,367.151 481.084,367.151 481.297,367.151 481.511,367.152 481.725,367.152 481.938,367.152 482.152,367.153 482.366,367.153 482.579,367.153 \n",
       "  482.793,367.154 483.007,367.154 483.22,367.154 483.434,367.155 483.648,367.155 483.861,367.155 484.075,367.156 484.289,367.156 484.503,367.156 484.716,367.157 \n",
       "  484.93,367.157 485.144,367.157 485.357,367.157 485.571,367.158 485.785,367.158 485.998,367.158 486.212,367.159 486.426,367.159 486.639,367.159 486.853,367.16 \n",
       "  487.067,367.16 487.28,367.16 487.494,367.161 487.708,367.161 487.921,367.161 488.135,367.162 488.349,367.162 488.563,367.162 488.776,367.163 488.99,367.163 \n",
       "  489.204,367.163 489.417,367.164 489.631,367.164 489.845,367.164 490.058,367.165 490.272,367.165 490.486,367.165 490.699,367.166 490.913,367.166 491.127,367.166 \n",
       "  491.34,367.167 491.554,367.167 491.768,367.167 491.982,367.168 492.195,367.168 492.409,367.168 492.623,367.169 492.836,367.169 493.05,367.169 493.264,367.17 \n",
       "  493.477,367.17 493.691,367.171 493.905,367.171 494.118,367.171 494.332,367.172 494.546,367.172 494.759,367.172 494.973,367.173 495.187,367.173 495.401,367.173 \n",
       "  495.614,367.174 495.828,367.174 496.042,367.174 496.255,367.175 496.469,367.175 496.683,367.176 496.896,367.176 497.11,367.176 497.324,367.177 497.537,367.177 \n",
       "  497.751,367.177 497.965,367.178 498.178,367.178 498.392,367.178 498.606,367.179 498.82,367.179 499.033,367.18 499.247,367.18 499.461,367.18 499.674,367.181 \n",
       "  499.888,367.181 500.102,367.181 500.315,367.182 500.529,367.182 500.743,367.182 500.956,367.183 501.17,367.183 501.384,367.184 501.597,367.184 501.811,367.184 \n",
       "  502.025,367.185 502.238,367.185 502.452,367.186 502.666,367.186 502.88,367.186 503.093,367.187 503.307,367.187 503.521,367.187 503.734,367.188 503.948,367.188 \n",
       "  504.162,367.189 504.375,367.189 504.589,367.189 504.803,367.19 505.016,367.19 505.23,367.191 505.444,367.191 505.657,367.191 505.871,367.192 506.085,367.192 \n",
       "  506.299,367.193 506.512,367.193 506.726,367.193 506.94,367.194 507.153,367.194 507.367,367.195 507.581,367.195 507.794,367.195 508.008,367.196 508.222,367.196 \n",
       "  508.435,367.197 508.649,367.197 508.863,367.197 509.076,367.198 509.29,367.198 509.504,367.199 509.718,367.199 509.931,367.199 510.145,367.2 510.359,367.2 \n",
       "  510.572,367.201 510.786,367.201 511,367.202 511.213,367.202 511.427,367.202 511.641,367.203 511.854,367.203 512.068,367.204 512.282,367.204 512.495,367.204 \n",
       "  512.709,367.205 512.923,367.205 513.137,367.206 513.35,367.206 513.564,367.207 513.778,367.207 513.991,367.208 514.205,367.208 514.419,367.208 514.632,367.209 \n",
       "  514.846,367.209 515.06,367.21 515.273,367.21 515.487,367.211 515.701,367.211 515.914,367.211 516.128,367.212 516.342,367.212 516.555,367.213 516.769,367.213 \n",
       "  516.983,367.214 517.197,367.214 517.41,367.215 517.624,367.215 517.838,367.215 518.051,367.216 518.265,367.216 518.479,367.217 518.692,367.217 518.906,367.218 \n",
       "  519.12,367.218 519.333,367.219 519.547,367.219 519.761,367.22 519.974,367.22 520.188,367.221 520.402,367.221 520.616,367.221 520.829,367.222 521.043,367.222 \n",
       "  521.257,367.223 521.47,367.223 521.684,367.224 521.898,367.224 522.111,367.225 522.325,367.225 522.539,367.226 522.752,367.226 522.966,367.227 523.18,367.227 \n",
       "  523.393,367.228 523.607,367.228 523.821,367.229 524.035,367.229 524.248,367.23 524.462,367.23 524.676,367.231 524.889,367.231 525.103,367.232 525.317,367.232 \n",
       "  525.53,367.233 525.744,367.233 525.958,367.234 526.171,367.234 526.385,367.235 526.599,367.235 526.812,367.236 527.026,367.236 527.24,367.237 527.453,367.237 \n",
       "  527.667,367.238 527.881,367.238 528.095,367.239 528.308,367.239 528.522,367.24 528.736,367.24 528.949,367.241 529.163,367.241 529.377,367.242 529.59,367.242 \n",
       "  529.804,367.243 530.018,367.243 530.231,367.244 530.445,367.244 530.659,367.245 530.872,367.245 531.086,367.246 531.3,367.246 531.514,367.247 531.727,367.247 \n",
       "  531.941,367.248 532.155,367.249 532.368,367.249 532.582,367.25 532.796,367.25 533.009,367.251 533.223,367.251 533.437,367.252 533.65,367.252 533.864,367.253 \n",
       "  534.078,367.253 534.291,367.254 534.505,367.255 534.719,367.255 534.933,367.256 535.146,367.256 535.36,367.257 535.574,367.257 535.787,367.258 536.001,367.258 \n",
       "  536.215,367.259 536.428,367.26 536.642,367.26 536.856,367.261 537.069,367.261 537.283,367.262 537.497,367.262 537.71,367.263 537.924,367.264 538.138,367.264 \n",
       "  538.352,367.265 538.565,367.265 538.779,367.266 538.993,367.267 539.206,367.267 539.42,367.268 539.634,367.268 539.847,367.269 540.061,367.269 540.275,367.27 \n",
       "  540.488,367.271 540.702,367.271 540.916,367.272 541.129,367.272 541.343,367.273 541.557,367.274 541.77,367.274 541.984,367.275 542.198,367.275 542.412,367.276 \n",
       "  542.625,367.277 542.839,367.277 543.053,367.278 543.266,367.279 543.48,367.279 543.694,367.28 543.907,367.28 544.121,367.281 544.335,367.282 544.548,367.282 \n",
       "  544.762,367.283 544.976,367.284 545.189,367.284 545.403,367.285 545.617,367.286 545.831,367.286 546.044,367.287 546.258,367.287 546.472,367.288 546.685,367.289 \n",
       "  546.899,367.289 547.113,367.29 547.326,367.291 547.54,367.291 547.754,367.292 547.967,367.293 548.181,367.293 548.395,367.294 548.608,367.295 548.822,367.295 \n",
       "  549.036,367.296 549.25,367.297 549.463,367.297 549.677,367.298 549.891,367.299 550.104,367.299 550.318,367.3 550.532,367.301 550.745,367.301 550.959,367.302 \n",
       "  551.173,367.303 551.386,367.304 551.6,367.304 551.814,367.305 552.027,367.306 552.241,367.306 552.455,367.307 552.669,367.308 552.882,367.308 553.096,367.309 \n",
       "  553.31,367.31 553.523,367.311 553.737,367.311 553.951,367.312 554.164,367.313 554.378,367.313 554.592,367.314 554.805,367.315 555.019,367.316 555.233,367.316 \n",
       "  555.446,367.317 555.66,367.318 555.874,367.319 556.087,367.319 556.301,367.32 556.515,367.321 556.729,367.322 556.942,367.322 557.156,367.323 557.37,367.324 \n",
       "  557.583,367.325 557.797,367.325 558.011,367.326 558.224,367.327 558.438,367.328 558.652,367.328 558.865,367.329 559.079,367.33 559.293,367.331 559.506,367.332 \n",
       "  559.72,367.332 559.934,367.333 560.148,367.334 560.361,367.335 560.575,367.335 560.789,367.336 561.002,367.337 561.216,367.338 561.43,367.339 561.643,367.339 \n",
       "  561.857,367.34 562.071,367.341 562.284,367.342 562.498,367.343 562.712,367.344 562.925,367.344 563.139,367.345 563.353,367.346 563.567,367.347 563.78,367.348 \n",
       "  563.994,367.349 564.208,367.349 564.421,367.35 564.635,367.351 564.849,367.352 565.062,367.353 565.276,367.354 565.49,367.354 565.703,367.355 565.917,367.356 \n",
       "  566.131,367.357 566.344,367.358 566.558,367.359 566.772,367.36 566.986,367.361 567.199,367.361 567.413,367.362 567.627,367.363 567.84,367.364 568.054,367.365 \n",
       "  568.268,367.366 568.481,367.367 568.695,367.368 568.909,367.369 569.122,367.369 569.336,367.37 569.55,367.371 569.763,367.372 569.977,367.373 570.191,367.374 \n",
       "  570.404,367.375 570.618,367.376 570.832,367.377 571.046,367.378 571.259,367.379 571.473,367.38 571.687,367.381 571.9,367.382 572.114,367.382 572.328,367.383 \n",
       "  572.541,367.384 572.755,367.385 572.969,367.386 573.182,367.387 573.396,367.388 573.61,367.389 573.823,367.39 574.037,367.391 574.251,367.392 574.465,367.393 \n",
       "  574.678,367.394 574.892,367.395 575.106,367.396 575.319,367.397 575.533,367.398 575.747,367.399 575.96,367.4 576.174,367.401 576.388,367.402 576.601,367.403 \n",
       "  576.815,367.404 577.029,367.405 577.242,367.406 577.456,367.407 577.67,367.409 577.884,367.41 578.097,367.411 578.311,367.412 578.525,367.413 578.738,367.414 \n",
       "  578.952,367.415 579.166,367.416 579.379,367.417 579.593,367.418 579.807,367.419 580.02,367.42 580.234,367.421 580.448,367.422 580.661,367.424 580.875,367.425 \n",
       "  581.089,367.426 581.303,367.427 581.516,367.428 581.73,367.429 581.944,367.43 582.157,367.431 582.371,367.433 582.585,367.434 582.798,367.435 583.012,367.436 \n",
       "  583.226,367.437 583.439,367.438 583.653,367.44 583.867,367.441 584.08,367.442 584.294,367.443 584.508,367.444 584.721,367.445 584.935,367.447 585.149,367.448 \n",
       "  585.363,367.449 585.576,367.45 585.79,367.451 586.004,367.453 586.217,367.454 586.431,367.455 586.645,367.456 586.858,367.458 587.072,367.459 587.286,367.46 \n",
       "  587.499,367.461 587.713,367.463 587.927,367.464 588.14,367.465 588.354,367.466 588.568,367.468 588.782,367.469 588.995,367.47 589.209,367.472 589.423,367.473 \n",
       "  589.636,367.474 589.85,367.475 590.064,367.477 590.277,367.478 590.491,367.479 590.705,367.481 590.918,367.482 591.132,367.483 591.346,367.485 591.559,367.486 \n",
       "  591.773,367.487 591.987,367.489 592.201,367.49 592.414,367.492 592.628,367.493 592.842,367.494 593.055,367.496 593.269,367.497 593.483,367.499 593.696,367.5 \n",
       "  593.91,367.501 594.124,367.503 594.337,367.504 594.551,367.506 594.765,367.507 594.978,367.509 595.192,367.51 595.406,367.512 595.619,367.513 595.833,367.515 \n",
       "  596.047,367.516 596.261,367.518 596.474,367.519 596.688,367.521 596.902,367.522 597.115,367.524 597.329,367.525 597.543,367.527 597.756,367.528 597.97,367.53 \n",
       "  598.184,367.531 598.397,367.533 598.611,367.534 598.825,367.536 599.038,367.538 599.252,367.539 599.466,367.541 599.68,367.542 599.893,367.544 600.107,367.546 \n",
       "  600.321,367.547 600.534,367.549 600.748,367.55 600.962,367.552 601.175,367.554 601.389,367.555 601.603,367.557 601.816,367.559 602.03,367.56 602.244,367.562 \n",
       "  602.457,367.564 602.671,367.566 602.885,367.567 603.099,367.569 603.312,367.571 603.526,367.573 603.74,367.574 603.953,367.576 604.167,367.578 604.381,367.58 \n",
       "  604.594,367.581 604.808,367.583 605.022,367.585 605.235,367.587 605.449,367.589 605.663,367.59 605.876,367.592 606.09,367.594 606.304,367.596 606.518,367.598 \n",
       "  606.731,367.6 606.945,367.602 607.159,367.604 607.372,367.605 607.586,367.607 607.8,367.609 608.013,367.611 608.227,367.613 608.441,367.615 608.654,367.617 \n",
       "  608.868,367.619 609.082,367.621 609.295,367.623 609.509,367.625 609.723,367.627 609.936,367.629 610.15,367.631 610.364,367.633 610.578,367.635 610.791,367.637 \n",
       "  611.005,367.639 611.219,367.642 611.432,367.644 611.646,367.646 611.86,367.648 612.073,367.65 612.287,367.652 612.501,367.654 612.714,367.656 612.928,367.659 \n",
       "  613.142,367.661 613.355,367.663 613.569,367.665 613.783,367.668 613.997,367.67 614.21,367.672 614.424,367.674 614.638,367.677 614.851,367.679 615.065,367.681 \n",
       "  615.279,367.684 615.492,367.686 615.706,367.688 615.92,367.691 616.133,367.693 616.347,367.695 616.561,367.698 616.774,367.7 616.988,367.703 617.202,367.705 \n",
       "  617.416,367.707 617.629,367.71 617.843,367.712 618.057,367.715 618.27,367.717 618.484,367.72 618.698,367.722 618.911,367.725 619.125,367.728 619.339,367.73 \n",
       "  619.552,367.733 619.766,367.735 619.98,367.738 620.193,367.741 620.407,367.743 620.621,367.746 620.835,367.749 621.048,367.751 621.262,367.754 621.476,367.757 \n",
       "  621.689,367.76 621.903,367.762 622.117,367.765 622.33,367.768 622.544,367.771 622.758,367.774 622.971,367.777 623.185,367.779 623.399,367.782 623.612,367.785 \n",
       "  623.826,367.788 624.04,367.791 624.253,367.794 624.467,367.797 624.681,367.8 624.895,367.803 625.108,367.806 625.322,367.809 625.536,367.812 625.749,367.815 \n",
       "  625.963,367.819 626.177,367.822 626.39,367.825 626.604,367.828 626.818,367.831 627.031,367.835 627.245,367.838 627.459,367.841 627.672,367.844 627.886,367.848 \n",
       "  628.1,367.851 628.314,367.854 628.527,367.858 628.741,367.861 628.955,367.865 629.168,367.868 629.382,367.872 629.596,367.875 629.809,367.879 630.023,367.882 \n",
       "  630.237,367.886 630.45,367.889 630.664,367.893 630.878,367.897 631.091,367.9 631.305,367.904 631.519,367.908 631.733,367.911 631.946,367.915 632.16,367.919 \n",
       "  632.374,367.923 632.587,367.927 632.801,367.931 633.015,367.934 633.228,367.938 633.442,367.942 633.656,367.946 633.869,367.95 634.083,367.954 634.297,367.959 \n",
       "  634.51,367.963 634.724,367.967 634.938,367.971 635.152,367.975 635.365,367.979 635.579,367.984 635.793,367.988 636.006,367.992 636.22,367.997 636.434,368.001 \n",
       "  636.647,368.006 636.861,368.01 637.075,368.015 637.288,368.019 637.502,368.024 637.716,368.028 637.929,368.033 638.143,368.038 638.357,368.042 638.57,368.047 \n",
       "  638.784,368.052 638.998,368.057 639.212,368.062 639.425,368.067 639.639,368.072 639.853,368.077 640.066,368.082 640.28,368.087 640.494,368.092 640.707,368.097 \n",
       "  640.921,368.102 641.135,368.108 641.348,368.113 641.562,368.118 641.776,368.124 641.989,368.129 642.203,368.134 642.417,368.14 642.631,368.146 642.844,368.151 \n",
       "  643.058,368.157 643.272,368.163 643.485,368.168 643.699,368.174 643.913,368.18 644.126,368.186 644.34,368.192 644.554,368.198 644.767,368.204 644.981,368.21 \n",
       "  645.195,368.216 645.408,368.223 645.622,368.229 645.836,368.235 646.05,368.242 646.263,368.248 646.477,368.255 646.691,368.262 646.904,368.268 647.118,368.275 \n",
       "  647.332,368.282 647.545,368.289 647.759,368.296 647.973,368.303 648.186,368.31 648.4,368.317 648.614,368.324 648.827,368.331 649.041,368.339 649.255,368.346 \n",
       "  649.469,368.354 649.682,368.361 649.896,368.369 650.11,368.376 650.323,368.384 650.537,368.392 650.751,368.4 650.964,368.408 651.178,368.416 651.392,368.425 \n",
       "  651.605,368.433 651.819,368.441 652.033,368.45 652.246,368.458 652.46,368.467 652.674,368.476 652.887,368.485 653.101,368.494 653.315,368.503 653.529,368.512 \n",
       "  653.742,368.521 653.956,368.53 654.17,368.54 654.383,368.549 654.597,368.559 654.811,368.569 655.024,368.579 655.238,368.589 655.452,368.599 655.665,368.609 \n",
       "  655.879,368.62 656.093,368.63 656.306,368.641 656.52,368.651 656.734,368.662 656.948,368.673 657.161,368.684 657.375,368.696 657.589,368.707 657.802,368.719 \n",
       "  658.016,368.73 658.23,368.742 658.443,368.754 658.657,368.766 658.871,368.779 659.084,368.791 659.298,368.804 659.512,368.817 659.725,368.83 659.939,368.843 \n",
       "  660.153,368.856 660.367,368.87 660.58,368.883 660.794,368.897 661.008,368.911 661.221,368.925 661.435,368.94 661.649,368.954 661.862,368.969 662.076,368.984 \n",
       "  662.29,369 662.503,369.015 662.717,369.031 662.931,369.047 663.144,369.063 663.358,369.079 663.572,369.096 663.785,369.113 663.999,369.13 664.213,369.148 \n",
       "  664.427,369.165 664.64,369.183 664.854,369.202 665.068,369.22 665.281,369.239 665.495,369.258 665.709,369.278 665.922,369.297 666.136,369.317 666.35,369.338 \n",
       "  666.563,369.359 666.777,369.38 666.991,369.401 667.204,369.423 667.418,369.445 667.632,369.468 667.846,369.491 668.059,369.514 668.273,369.538 668.487,369.562 \n",
       "  668.7,369.587 668.914,369.612 669.128,369.638 669.341,369.664 669.555,369.69 669.769,369.718 669.982,369.745 670.196,369.773 670.41,369.802 670.623,369.831 \n",
       "  670.837,369.861 671.051,369.892 671.265,369.923 671.478,369.954 671.692,369.987 671.906,370.02 672.119,370.054 672.333,370.088 672.547,370.123 672.76,370.159 \n",
       "  672.974,370.196 673.188,370.234 673.401,370.272 673.615,370.312 673.829,370.352 674.042,370.393 674.256,370.435 674.47,370.479 674.684,370.523 674.897,370.568 \n",
       "  675.111,370.615 675.325,370.663 675.538,370.712 675.752,370.762 675.966,370.813 676.179,370.866 676.393,370.92 676.607,370.976 676.82,371.034 677.034,371.093 \n",
       "  677.248,371.153 677.461,371.216 677.675,371.28 677.889,371.346 678.102,371.414 678.316,371.485 678.53,371.557 678.744,371.632 678.957,371.709 679.171,371.789 \n",
       "  679.385,371.871 679.598,371.956 679.812,372.044 680.026,372.136 680.239,372.23 680.453,372.328 680.667,372.43 680.88,372.535 681.094,372.644 681.308,372.758 \n",
       "  681.521,372.876 681.735,372.999 681.949,373.127 682.163,373.261 682.376,373.401 682.59,373.546 682.804,373.699 683.017,373.858 683.231,374.025 683.445,374.2 \n",
       "  683.658,374.384 683.872,374.577 684.086,374.78 684.299,374.995 684.513,375.221 684.727,375.461 684.94,375.714 685.154,375.983 685.368,376.268 685.582,376.572 \n",
       "  685.795,376.896 686.009,377.243 686.223,377.614 686.436,378.013 686.65,378.443 686.864,378.906 687.077,379.409 687.291,379.955 687.505,380.551 687.718,381.204 \n",
       "  687.932,381.922 688.146,382.715 688.359,383.597 688.573,384.582 688.787,385.69 689.001,386.947 689.214,388.382 689.428,390.039 689.642,391.972 689.855,394.256 \n",
       "  690.069,396.997 690.283,400.347 690.496,404.535 690.71,409.919 690.924,417.098 691.137,427.148 691.351,442.224 691.565,467.35 691.778,517.602 691.992,668.357 \n",
       "  \n",
       "  \"/>\n",
       "<polyline clip-path=\"url(#clip312)\" style=\"stroke:#009af9; stroke-linecap:butt; stroke-linejoin:round; stroke-width:4; stroke-opacity:1; fill:none\" points=\"\n",
       "  692.419,65.3348 692.633,216.09 692.847,266.342 693.061,291.468 693.274,306.544 693.488,316.594 693.702,323.773 693.915,329.157 694.129,333.345 694.343,336.695 \n",
       "  694.556,339.436 694.77,341.72 694.984,343.653 695.197,345.309 695.411,346.745 695.625,348.002 695.838,349.11 696.052,350.095 696.266,350.977 696.48,351.77 \n",
       "  696.693,352.488 696.907,353.141 697.121,353.737 697.334,354.283 697.548,354.786 697.762,355.249 697.975,355.679 698.189,356.078 698.403,356.449 698.616,356.796 \n",
       "  698.83,357.12 699.044,357.424 699.257,357.709 699.471,357.978 699.685,358.231 699.899,358.471 700.112,358.697 700.326,358.911 700.54,359.115 700.753,359.308 \n",
       "  700.967,359.492 701.181,359.667 701.394,359.834 701.608,359.993 701.822,360.146 702.035,360.291 702.249,360.431 702.463,360.565 702.676,360.693 702.89,360.816 \n",
       "  703.104,360.934 703.318,361.048 703.531,361.157 703.745,361.262 703.959,361.364 704.172,361.462 704.386,361.556 704.6,361.648 704.813,361.736 705.027,361.821 \n",
       "  705.241,361.903 705.454,361.983 705.668,362.06 705.882,362.135 706.095,362.207 706.309,362.278 706.523,362.346 706.736,362.412 706.95,362.476 707.164,362.539 \n",
       "  707.378,362.599 707.591,362.658 707.805,362.716 708.019,362.772 708.232,362.826 708.446,362.879 708.66,362.93 708.873,362.98 709.087,363.029 709.301,363.077 \n",
       "  709.514,363.124 709.728,363.169 709.942,363.213 710.155,363.257 710.369,363.299 710.583,363.34 710.797,363.38 711.01,363.42 711.224,363.458 711.438,363.496 \n",
       "  711.651,363.533 711.865,363.569 712.079,363.604 712.292,363.638 712.506,363.672 712.72,363.705 712.933,363.738 713.147,363.769 713.361,363.8 713.574,363.831 \n",
       "  713.788,363.861 714.002,363.89 714.216,363.919 714.429,363.947 714.643,363.974 714.857,364.002 715.07,364.028 715.284,364.054 715.498,364.08 715.711,364.105 \n",
       "  715.925,364.13 716.139,364.154 716.352,364.178 716.566,364.201 716.78,364.224 716.993,364.247 717.207,364.269 717.421,364.291 717.634,364.312 717.848,364.333 \n",
       "  718.062,364.354 718.276,364.375 718.489,364.395 718.703,364.414 718.917,364.434 719.13,364.453 719.344,364.472 719.558,364.49 719.771,364.509 719.985,364.527 \n",
       "  720.199,364.544 720.412,364.562 720.626,364.579 720.84,364.596 721.053,364.613 721.267,364.629 721.481,364.645 721.695,364.661 721.908,364.677 722.122,364.692 \n",
       "  722.336,364.708 722.549,364.723 722.763,364.738 722.977,364.752 723.19,364.767 723.404,364.781 723.618,364.795 723.831,364.809 724.045,364.822 724.259,364.836 \n",
       "  724.472,364.849 724.686,364.862 724.9,364.875 725.114,364.888 725.327,364.901 725.541,364.913 725.755,364.926 725.968,364.938 726.182,364.95 726.396,364.962 \n",
       "  726.609,364.973 726.823,364.985 727.037,364.996 727.25,365.008 727.464,365.019 727.678,365.03 727.891,365.041 728.105,365.051 728.319,365.062 728.533,365.072 \n",
       "  728.746,365.083 728.96,365.093 729.174,365.103 729.387,365.113 729.601,365.123 729.815,365.133 730.028,365.143 730.242,365.152 730.456,365.162 730.669,365.171 \n",
       "  730.883,365.18 731.097,365.189 731.31,365.198 731.524,365.207 731.738,365.216 731.951,365.225 732.165,365.234 732.379,365.242 732.593,365.251 732.806,365.259 \n",
       "  733.02,365.267 733.234,365.276 733.447,365.284 733.661,365.292 733.875,365.3 734.088,365.308 734.302,365.315 734.516,365.323 734.729,365.331 734.943,365.338 \n",
       "  735.157,365.346 735.37,365.353 735.584,365.361 735.798,365.368 736.012,365.375 736.225,365.382 736.439,365.389 736.653,365.396 736.866,365.403 737.08,365.41 \n",
       "  737.294,365.417 737.507,365.424 737.721,365.43 737.935,365.437 738.148,365.444 738.362,365.45 738.576,365.457 738.789,365.463 739.003,365.469 739.217,365.475 \n",
       "  739.431,365.482 739.644,365.488 739.858,365.494 740.072,365.5 740.285,365.506 740.499,365.512 740.713,365.518 740.926,365.524 741.14,365.529 741.354,365.535 \n",
       "  741.567,365.541 741.781,365.546 741.995,365.552 742.208,365.557 742.422,365.563 742.636,365.568 742.85,365.574 743.063,365.579 743.277,365.584 743.491,365.59 \n",
       "  743.704,365.595 743.918,365.6 744.132,365.605 744.345,365.61 744.559,365.615 744.773,365.62 744.986,365.625 745.2,365.63 745.414,365.635 745.627,365.64 \n",
       "  745.841,365.645 746.055,365.65 746.268,365.654 746.482,365.659 746.696,365.664 746.91,365.668 747.123,365.673 747.337,365.677 747.551,365.682 747.764,365.686 \n",
       "  747.978,365.691 748.192,365.695 748.405,365.7 748.619,365.704 748.833,365.708 749.046,365.712 749.26,365.717 749.474,365.721 749.687,365.725 749.901,365.729 \n",
       "  750.115,365.733 750.329,365.737 750.542,365.742 750.756,365.746 750.97,365.75 751.183,365.754 751.397,365.757 751.611,365.761 751.824,365.765 752.038,365.769 \n",
       "  752.252,365.773 752.465,365.777 752.679,365.781 752.893,365.784 753.106,365.788 753.32,365.792 753.534,365.795 753.748,365.799 753.961,365.803 754.175,365.806 \n",
       "  754.389,365.81 754.602,365.813 754.816,365.817 755.03,365.82 755.243,365.824 755.457,365.827 755.671,365.831 755.884,365.834 756.098,365.838 756.312,365.841 \n",
       "  756.525,365.844 756.739,365.848 756.953,365.851 757.167,365.854 757.38,365.857 757.594,365.861 757.808,365.864 758.021,365.867 758.235,365.87 758.449,365.873 \n",
       "  758.662,365.876 758.876,365.88 759.09,365.883 759.303,365.886 759.517,365.889 759.731,365.892 759.944,365.895 760.158,365.898 760.372,365.901 760.585,365.904 \n",
       "  760.799,365.907 761.013,365.91 761.227,365.913 761.44,365.915 761.654,365.918 761.868,365.921 762.081,365.924 762.295,365.927 762.509,365.93 762.722,365.932 \n",
       "  762.936,365.935 763.15,365.938 763.363,365.941 763.577,365.943 763.791,365.946 764.004,365.949 764.218,365.951 764.432,365.954 764.646,365.957 764.859,365.959 \n",
       "  765.073,365.962 765.287,365.964 765.5,365.967 765.714,365.969 765.928,365.972 766.141,365.975 766.355,365.977 766.569,365.98 766.782,365.982 766.996,365.985 \n",
       "  767.21,365.987 767.423,365.989 767.637,365.992 767.851,365.994 768.065,365.997 768.278,365.999 768.492,366.001 768.706,366.004 768.919,366.006 769.133,366.008 \n",
       "  769.347,366.011 769.56,366.013 769.774,366.015 769.988,366.018 770.201,366.02 770.415,366.022 770.629,366.024 770.842,366.027 771.056,366.029 771.27,366.031 \n",
       "  771.484,366.033 771.697,366.035 771.911,366.038 772.125,366.04 772.338,366.042 772.552,366.044 772.766,366.046 772.979,366.048 773.193,366.05 773.407,366.053 \n",
       "  773.62,366.055 773.834,366.057 774.048,366.059 774.261,366.061 774.475,366.063 774.689,366.065 774.902,366.067 775.116,366.069 775.33,366.071 775.544,366.073 \n",
       "  775.757,366.075 775.971,366.077 776.185,366.079 776.398,366.081 776.612,366.083 776.826,366.085 777.039,366.087 777.253,366.088 777.467,366.09 777.68,366.092 \n",
       "  777.894,366.094 778.108,366.096 778.321,366.098 778.535,366.1 778.749,366.102 778.963,366.103 779.176,366.105 779.39,366.107 779.604,366.109 779.817,366.111 \n",
       "  780.031,366.112 780.245,366.114 780.458,366.116 780.672,366.118 780.886,366.119 781.099,366.121 781.313,366.123 781.527,366.125 781.74,366.126 781.954,366.128 \n",
       "  782.168,366.13 782.382,366.132 782.595,366.133 782.809,366.135 783.023,366.137 783.236,366.138 783.45,366.14 783.664,366.142 783.877,366.143 784.091,366.145 \n",
       "  784.305,366.146 784.518,366.148 784.732,366.15 784.946,366.151 785.159,366.153 785.373,366.154 785.587,366.156 785.8,366.158 786.014,366.159 786.228,366.161 \n",
       "  786.442,366.162 786.655,366.164 786.869,366.165 787.083,366.167 787.296,366.168 787.51,366.17 787.724,366.171 787.937,366.173 788.151,366.174 788.365,366.176 \n",
       "  788.578,366.177 788.792,366.179 789.006,366.18 789.219,366.182 789.433,366.183 789.647,366.185 789.861,366.186 790.074,366.188 790.288,366.189 790.502,366.191 \n",
       "  790.715,366.192 790.929,366.193 791.143,366.195 791.356,366.196 791.57,366.198 791.784,366.199 791.997,366.2 792.211,366.202 792.425,366.203 792.638,366.204 \n",
       "  792.852,366.206 793.066,366.207 793.28,366.209 793.493,366.21 793.707,366.211 793.921,366.213 794.134,366.214 794.348,366.215 794.562,366.217 794.775,366.218 \n",
       "  794.989,366.219 795.203,366.22 795.416,366.222 795.63,366.223 795.844,366.224 796.057,366.226 796.271,366.227 796.485,366.228 796.699,366.229 796.912,366.231 \n",
       "  797.126,366.232 797.34,366.233 797.553,366.234 797.767,366.236 797.981,366.237 798.194,366.238 798.408,366.239 798.622,366.241 798.835,366.242 799.049,366.243 \n",
       "  799.263,366.244 799.476,366.245 799.69,366.247 799.904,366.248 800.117,366.249 800.331,366.25 800.545,366.251 800.759,366.252 800.972,366.254 801.186,366.255 \n",
       "  801.4,366.256 801.613,366.257 801.827,366.258 802.041,366.259 802.254,366.261 802.468,366.262 802.682,366.263 802.895,366.264 803.109,366.265 803.323,366.266 \n",
       "  803.536,366.267 803.75,366.268 803.964,366.269 804.178,366.271 804.391,366.272 804.605,366.273 804.819,366.274 805.032,366.275 805.246,366.276 805.46,366.277 \n",
       "  805.673,366.278 805.887,366.279 806.101,366.28 806.314,366.281 806.528,366.282 806.742,366.283 806.955,366.285 807.169,366.286 807.383,366.287 807.597,366.288 \n",
       "  807.81,366.289 808.024,366.29 808.238,366.291 808.451,366.292 808.665,366.293 808.879,366.294 809.092,366.295 809.306,366.296 809.52,366.297 809.733,366.298 \n",
       "  809.947,366.299 810.161,366.3 810.374,366.301 810.588,366.302 810.802,366.303 811.016,366.304 811.229,366.305 811.443,366.306 811.657,366.307 811.87,366.308 \n",
       "  812.084,366.309 812.298,366.309 812.511,366.31 812.725,366.311 812.939,366.312 813.152,366.313 813.366,366.314 813.58,366.315 813.793,366.316 814.007,366.317 \n",
       "  814.221,366.318 814.434,366.319 814.648,366.32 814.862,366.321 815.076,366.322 815.289,366.323 815.503,366.323 815.717,366.324 815.93,366.325 816.144,366.326 \n",
       "  816.358,366.327 816.571,366.328 816.785,366.329 816.999,366.33 817.212,366.331 817.426,366.331 817.64,366.332 817.853,366.333 818.067,366.334 818.281,366.335 \n",
       "  818.495,366.336 818.708,366.337 818.922,366.338 819.136,366.338 819.349,366.339 819.563,366.34 819.777,366.341 819.99,366.342 820.204,366.343 820.418,366.343 \n",
       "  820.631,366.344 820.845,366.345 821.059,366.346 821.272,366.347 821.486,366.348 821.7,366.348 821.914,366.349 822.127,366.35 822.341,366.351 822.555,366.352 \n",
       "  822.768,366.353 822.982,366.353 823.196,366.354 823.409,366.355 823.623,366.356 823.837,366.357 824.05,366.357 824.264,366.358 824.478,366.359 824.691,366.36 \n",
       "  824.905,366.36 825.119,366.361 825.333,366.362 825.546,366.363 825.76,366.364 825.974,366.364 826.187,366.365 826.401,366.366 826.615,366.367 826.828,366.367 \n",
       "  827.042,366.368 827.256,366.369 827.469,366.37 827.683,366.37 827.897,366.371 828.11,366.372 828.324,366.373 828.538,366.373 828.751,366.374 828.965,366.375 \n",
       "  829.179,366.376 829.393,366.376 829.606,366.377 829.82,366.378 830.034,366.379 830.247,366.379 830.461,366.38 830.675,366.381 830.888,366.381 831.102,366.382 \n",
       "  831.316,366.383 831.529,366.384 831.743,366.384 831.957,366.385 832.17,366.386 832.384,366.386 832.598,366.387 832.812,366.388 833.025,366.388 833.239,366.389 \n",
       "  833.453,366.39 833.666,366.391 833.88,366.391 834.094,366.392 834.307,366.393 834.521,366.393 834.735,366.394 834.948,366.395 835.162,366.395 835.376,366.396 \n",
       "  835.589,366.397 835.803,366.397 836.017,366.398 836.231,366.399 836.444,366.399 836.658,366.4 836.872,366.401 837.085,366.401 837.299,366.402 837.513,366.403 \n",
       "  837.726,366.403 837.94,366.404 838.154,366.405 838.367,366.405 838.581,366.406 838.795,366.406 839.008,366.407 839.222,366.408 839.436,366.408 839.65,366.409 \n",
       "  839.863,366.41 840.077,366.41 840.291,366.411 840.504,366.412 840.718,366.412 840.932,366.413 841.145,366.413 841.359,366.414 841.573,366.415 841.786,366.415 \n",
       "  842,366.416 842.214,366.416 842.427,366.417 842.641,366.418 842.855,366.418 843.068,366.419 843.282,366.42 843.496,366.42 843.71,366.421 843.923,366.421 \n",
       "  844.137,366.422 844.351,366.423 844.564,366.423 844.778,366.424 844.992,366.424 845.205,366.425 845.419,366.425 845.633,366.426 845.846,366.427 846.06,366.427 \n",
       "  846.274,366.428 846.487,366.428 846.701,366.429 846.915,366.43 847.129,366.43 847.342,366.431 847.556,366.431 847.77,366.432 847.983,366.432 848.197,366.433 \n",
       "  848.411,366.434 848.624,366.434 848.838,366.435 849.052,366.435 849.265,366.436 849.479,366.436 849.693,366.437 849.906,366.437 850.12,366.438 850.334,366.439 \n",
       "  850.548,366.439 850.761,366.44 850.975,366.44 851.189,366.441 851.402,366.441 851.616,366.442 851.83,366.442 852.043,366.443 852.257,366.443 852.471,366.444 \n",
       "  852.684,366.445 852.898,366.445 853.112,366.446 853.325,366.446 853.539,366.447 853.753,366.447 853.966,366.448 854.18,366.448 854.394,366.449 854.608,366.449 \n",
       "  854.821,366.45 855.035,366.45 855.249,366.451 855.462,366.451 855.676,366.452 855.89,366.452 856.103,366.453 856.317,366.453 856.531,366.454 856.744,366.454 \n",
       "  856.958,366.455 857.172,366.455 857.385,366.456 857.599,366.456 857.813,366.457 858.027,366.457 858.24,366.458 858.454,366.458 858.668,366.459 858.881,366.459 \n",
       "  859.095,366.46 859.309,366.46 859.522,366.461 859.736,366.461 859.95,366.462 860.163,366.462 860.377,366.463 860.591,366.463 860.804,366.464 861.018,366.464 \n",
       "  861.232,366.465 861.446,366.465 861.659,366.466 861.873,366.466 862.087,366.467 862.3,366.467 862.514,366.468 862.728,366.468 862.941,366.469 863.155,366.469 \n",
       "  863.369,366.47 863.582,366.47 863.796,366.471 864.01,366.471 864.223,366.471 864.437,366.472 864.651,366.472 864.865,366.473 865.078,366.473 865.292,366.474 \n",
       "  865.506,366.474 865.719,366.475 865.933,366.475 866.147,366.476 866.36,366.476 866.574,366.476 866.788,366.477 867.001,366.477 867.215,366.478 867.429,366.478 \n",
       "  867.642,366.479 867.856,366.479 868.07,366.48 868.283,366.48 868.497,366.481 868.711,366.481 868.925,366.481 869.138,366.482 869.352,366.482 869.566,366.483 \n",
       "  869.779,366.483 869.993,366.484 870.207,366.484 870.42,366.484 870.634,366.485 870.848,366.485 871.061,366.486 871.275,366.486 871.489,366.487 871.702,366.487 \n",
       "  871.916,366.487 872.13,366.488 872.344,366.488 872.557,366.489 872.771,366.489 872.985,366.49 873.198,366.49 873.412,366.49 873.626,366.491 873.839,366.491 \n",
       "  874.053,366.492 874.267,366.492 874.48,366.493 874.694,366.493 874.908,366.493 875.121,366.494 875.335,366.494 875.549,366.495 875.763,366.495 875.976,366.495 \n",
       "  876.19,366.496 876.404,366.496 876.617,366.497 876.831,366.497 877.045,366.497 877.258,366.498 877.472,366.498 877.686,366.499 877.899,366.499 878.113,366.499 \n",
       "  878.327,366.5 878.54,366.5 878.754,366.501 878.968,366.501 879.182,366.501 879.395,366.502 879.609,366.502 879.823,366.503 880.036,366.503 880.25,366.503 \n",
       "  880.464,366.504 880.677,366.504 880.891,366.505 881.105,366.505 881.318,366.505 881.532,366.506 881.746,366.506 881.959,366.506 882.173,366.507 882.387,366.507 \n",
       "  882.6,366.508 882.814,366.508 883.028,366.508 883.242,366.509 883.455,366.509 883.669,366.509 883.883,366.51 884.096,366.51 884.31,366.511 884.524,366.511 \n",
       "  884.737,366.511 884.951,366.512 885.165,366.512 885.378,366.512 885.592,366.513 885.806,366.513 886.019,366.514 886.233,366.514 886.447,366.514 886.661,366.515 \n",
       "  886.874,366.515 887.088,366.515 887.302,366.516 887.515,366.516 887.729,366.516 887.943,366.517 888.156,366.517 888.37,366.518 888.584,366.518 888.797,366.518 \n",
       "  889.011,366.519 889.225,366.519 889.438,366.519 889.652,366.52 889.866,366.52 890.08,366.52 890.293,366.521 890.507,366.521 890.721,366.521 890.934,366.522 \n",
       "  891.148,366.522 891.362,366.522 891.575,366.523 891.789,366.523 892.003,366.524 892.216,366.524 892.43,366.524 892.644,366.525 892.857,366.525 893.071,366.525 \n",
       "  893.285,366.526 893.499,366.526 893.712,366.526 893.926,366.527 894.14,366.527 894.353,366.527 894.567,366.528 894.781,366.528 894.994,366.528 895.208,366.529 \n",
       "  895.422,366.529 895.635,366.529 895.849,366.53 896.063,366.53 896.276,366.53 896.49,366.531 896.704,366.531 896.917,366.531 897.131,366.532 897.345,366.532 \n",
       "  897.559,366.532 897.772,366.533 897.986,366.533 898.2,366.533 898.413,366.534 898.627,366.534 898.841,366.534 899.054,366.535 899.268,366.535 899.482,366.535 \n",
       "  899.695,366.535 899.909,366.536 900.123,366.536 900.336,366.536 900.55,366.537 900.764,366.537 900.978,366.537 901.191,366.538 901.405,366.538 901.619,366.538 \n",
       "  901.832,366.539 902.046,366.539 902.26,366.539 902.473,366.54 902.687,366.54 902.901,366.54 903.114,366.541 903.328,366.541 903.542,366.541 903.755,366.541 \n",
       "  903.969,366.542 904.183,366.542 904.397,366.542 904.61,366.543 904.824,366.543 905.038,366.543 905.251,366.544 905.465,366.544 905.679,366.544 905.892,366.544 \n",
       "  906.106,366.545 906.32,366.545 906.533,366.545 906.747,366.546 906.961,366.546 907.174,366.546 907.388,366.547 907.602,366.547 907.816,366.547 908.029,366.547 \n",
       "  908.243,366.548 908.457,366.548 908.67,366.548 908.884,366.549 909.098,366.549 909.311,366.549 909.525,366.55 909.739,366.55 909.952,366.55 910.166,366.55 \n",
       "  910.38,366.551 910.593,366.551 910.807,366.551 911.021,366.552 911.234,366.552 911.448,366.552 911.662,366.552 911.876,366.553 912.089,366.553 912.303,366.553 \n",
       "  912.517,366.554 912.73,366.554 912.944,366.554 913.158,366.554 913.371,366.555 913.585,366.555 913.799,366.555 914.012,366.556 914.226,366.556 914.44,366.556 \n",
       "  914.653,366.556 914.867,366.557 915.081,366.557 915.295,366.557 915.508,366.557 915.722,366.558 915.936,366.558 916.149,366.558 916.363,366.559 916.577,366.559 \n",
       "  916.79,366.559 917.004,366.559 917.218,366.56 917.431,366.56 917.645,366.56 917.859,366.56 918.072,366.561 918.286,366.561 918.5,366.561 918.714,366.562 \n",
       "  918.927,366.562 919.141,366.562 919.355,366.562 919.568,366.563 919.782,366.563 919.996,366.563 920.209,366.563 920.423,366.564 920.637,366.564 920.85,366.564 \n",
       "  921.064,366.564 921.278,366.565 921.491,366.565 921.705,366.565 921.919,366.566 922.132,366.566 922.346,366.566 922.56,366.566 922.774,366.567 922.987,366.567 \n",
       "  923.201,366.567 923.415,366.567 923.628,366.568 923.842,366.568 924.056,366.568 924.269,366.568 924.483,366.569 924.697,366.569 924.91,366.569 925.124,366.569 \n",
       "  925.338,366.57 925.551,366.57 925.765,366.57 925.979,366.57 926.193,366.571 926.406,366.571 926.62,366.571 926.834,366.571 927.047,366.572 927.261,366.572 \n",
       "  927.475,366.572 927.688,366.572 927.902,366.573 928.116,366.573 928.329,366.573 928.543,366.573 928.757,366.574 928.97,366.574 929.184,366.574 929.398,366.574 \n",
       "  929.612,366.575 929.825,366.575 930.039,366.575 930.253,366.575 930.466,366.576 930.68,366.576 930.894,366.576 931.107,366.576 931.321,366.577 931.535,366.577 \n",
       "  931.748,366.577 931.962,366.577 932.176,366.577 932.389,366.578 932.603,366.578 932.817,366.578 933.031,366.578 933.244,366.579 933.458,366.579 933.672,366.579 \n",
       "  933.885,366.579 934.099,366.58 934.313,366.58 934.526,366.58 934.74,366.58 934.954,366.581 935.167,366.581 935.381,366.581 935.595,366.581 935.808,366.582 \n",
       "  936.022,366.582 936.236,366.582 936.449,366.582 936.663,366.582 936.877,366.583 937.091,366.583 937.304,366.583 937.518,366.583 937.732,366.584 937.945,366.584 \n",
       "  938.159,366.584 938.373,366.584 938.586,366.584 938.8,366.585 939.014,366.585 939.227,366.585 939.441,366.585 939.655,366.586 939.868,366.586 940.082,366.586 \n",
       "  940.296,366.586 940.51,366.587 940.723,366.587 940.937,366.587 941.151,366.587 941.364,366.587 941.578,366.588 941.792,366.588 942.005,366.588 942.219,366.588 \n",
       "  942.433,366.589 942.646,366.589 942.86,366.589 943.074,366.589 943.287,366.589 943.501,366.59 943.715,366.59 943.929,366.59 944.142,366.59 944.356,366.59 \n",
       "  944.57,366.591 944.783,366.591 944.997,366.591 945.211,366.591 945.424,366.592 945.638,366.592 945.852,366.592 946.065,366.592 946.279,366.592 946.493,366.593 \n",
       "  946.706,366.593 946.92,366.593 947.134,366.593 947.348,366.593 947.561,366.594 947.775,366.594 947.989,366.594 948.202,366.594 948.416,366.595 948.63,366.595 \n",
       "  948.843,366.595 949.057,366.595 949.271,366.595 949.484,366.596 949.698,366.596 949.912,366.596 950.125,366.596 950.339,366.596 950.553,366.597 950.766,366.597 \n",
       "  950.98,366.597 951.194,366.597 951.408,366.597 951.621,366.598 951.835,366.598 952.049,366.598 952.262,366.598 952.476,366.598 952.69,366.599 952.903,366.599 \n",
       "  953.117,366.599 953.331,366.599 953.544,366.599 953.758,366.6 953.972,366.6 954.185,366.6 954.399,366.6 954.613,366.6 954.827,366.601 955.04,366.601 \n",
       "  955.254,366.601 955.468,366.601 955.681,366.601 955.895,366.602 956.109,366.602 956.322,366.602 956.536,366.602 956.75,366.602 956.963,366.603 957.177,366.603 \n",
       "  957.391,366.603 957.604,366.603 957.818,366.603 958.032,366.604 958.246,366.604 958.459,366.604 958.673,366.604 958.887,366.604 959.1,366.605 959.314,366.605 \n",
       "  959.528,366.605 959.741,366.605 959.955,366.605 960.169,366.606 960.382,366.606 960.596,366.606 960.81,366.606 961.023,366.606 961.237,366.606 961.451,366.607 \n",
       "  961.665,366.607 961.878,366.607 962.092,366.607 962.306,366.607 962.519,366.608 962.733,366.608 962.947,366.608 963.16,366.608 963.374,366.608 963.588,366.609 \n",
       "  963.801,366.609 964.015,366.609 964.229,366.609 964.442,366.609 964.656,366.61 964.87,366.61 965.083,366.61 965.297,366.61 965.511,366.61 965.725,366.61 \n",
       "  965.938,366.611 966.152,366.611 966.366,366.611 966.579,366.611 966.793,366.611 967.007,366.612 967.22,366.612 967.434,366.612 967.648,366.612 967.861,366.612 \n",
       "  968.075,366.612 968.289,366.613 968.502,366.613 968.716,366.613 968.93,366.613 969.144,366.613 969.357,366.614 969.571,366.614 969.785,366.614 969.998,366.614 \n",
       "  970.212,366.614 970.426,366.614 970.639,366.615 970.853,366.615 971.067,366.615 971.28,366.615 971.494,366.615 971.708,366.615 971.921,366.616 972.135,366.616 \n",
       "  972.349,366.616 972.563,366.616 972.776,366.616 972.99,366.617 973.204,366.617 973.417,366.617 973.631,366.617 973.845,366.617 974.058,366.617 974.272,366.618 \n",
       "  974.486,366.618 974.699,366.618 974.913,366.618 975.127,366.618 975.34,366.618 975.554,366.619 975.768,366.619 975.982,366.619 976.195,366.619 976.409,366.619 \n",
       "  976.623,366.619 976.836,366.62 977.05,366.62 977.264,366.62 977.477,366.62 977.691,366.62 977.905,366.62 978.118,366.621 978.332,366.621 978.546,366.621 \n",
       "  978.759,366.621 978.973,366.621 979.187,366.621 979.4,366.622 979.614,366.622 979.828,366.622 980.042,366.622 980.255,366.622 980.469,366.622 980.683,366.623 \n",
       "  980.896,366.623 981.11,366.623 981.324,366.623 981.537,366.623 981.751,366.623 981.965,366.624 982.178,366.624 982.392,366.624 982.606,366.624 982.819,366.624 \n",
       "  983.033,366.624 983.247,366.625 983.461,366.625 983.674,366.625 983.888,366.625 984.102,366.625 984.315,366.625 984.529,366.626 984.743,366.626 984.956,366.626 \n",
       "  985.17,366.626 985.384,366.626 985.597,366.626 985.811,366.627 986.025,366.627 986.238,366.627 986.452,366.627 986.666,366.627 986.88,366.627 987.093,366.627 \n",
       "  987.307,366.628 987.521,366.628 987.734,366.628 987.948,366.628 988.162,366.628 988.375,366.628 988.589,366.629 988.803,366.629 989.016,366.629 989.23,366.629 \n",
       "  989.444,366.629 989.657,366.629 989.871,366.63 990.085,366.63 990.298,366.63 990.512,366.63 990.726,366.63 990.94,366.63 991.153,366.63 991.367,366.631 \n",
       "  991.581,366.631 991.794,366.631 992.008,366.631 992.222,366.631 992.435,366.631 992.649,366.632 992.863,366.632 993.076,366.632 993.29,366.632 993.504,366.632 \n",
       "  993.717,366.632 993.931,366.632 994.145,366.633 994.359,366.633 994.572,366.633 994.786,366.633 995,366.633 995.213,366.633 995.427,366.634 995.641,366.634 \n",
       "  995.854,366.634 996.068,366.634 996.282,366.634 996.495,366.634 996.709,366.634 996.923,366.635 997.136,366.635 997.35,366.635 997.564,366.635 997.778,366.635 \n",
       "  997.991,366.635 998.205,366.635 998.419,366.636 998.632,366.636 998.846,366.636 999.06,366.636 999.273,366.636 999.487,366.636 999.701,366.636 999.914,366.637 \n",
       "  1000.13,366.637 1000.34,366.637 1000.56,366.637 1000.77,366.637 1000.98,366.637 1001.2,366.637 1001.41,366.638 1001.62,366.638 1001.84,366.638 1002.05,366.638 \n",
       "  1002.26,366.638 1002.48,366.638 1002.69,366.638 1002.91,366.639 1003.12,366.639 1003.33,366.639 1003.55,366.639 1003.76,366.639 1003.97,366.639 1004.19,366.639 \n",
       "  1004.4,366.64 1004.62,366.64 1004.83,366.64 1005.04,366.64 1005.26,366.64 1005.47,366.64 1005.68,366.64 1005.9,366.641 1006.11,366.641 1006.32,366.641 \n",
       "  1006.54,366.641 1006.75,366.641 1006.97,366.641 1007.18,366.641 1007.39,366.642 1007.61,366.642 1007.82,366.642 1008.03,366.642 1008.25,366.642 1008.46,366.642 \n",
       "  1008.68,366.642 1008.89,366.643 1009.1,366.643 1009.32,366.643 1009.53,366.643 1009.74,366.643 1009.96,366.643 1010.17,366.643 1010.39,366.643 1010.6,366.644 \n",
       "  1010.81,366.644 1011.03,366.644 1011.24,366.644 1011.45,366.644 1011.67,366.644 1011.88,366.644 1012.09,366.645 1012.31,366.645 1012.52,366.645 1012.74,366.645 \n",
       "  1012.95,366.645 1013.16,366.645 1013.38,366.645 1013.59,366.646 1013.8,366.646 1014.02,366.646 1014.23,366.646 1014.45,366.646 1014.66,366.646 1014.87,366.646 \n",
       "  1015.09,366.646 1015.3,366.647 1015.51,366.647 1015.73,366.647 1015.94,366.647 1016.15,366.647 1016.37,366.647 1016.58,366.647 1016.8,366.647 1017.01,366.648 \n",
       "  1017.22,366.648 1017.44,366.648 1017.65,366.648 1017.86,366.648 1018.08,366.648 1018.29,366.648 1018.51,366.649 1018.72,366.649 1018.93,366.649 1019.15,366.649 \n",
       "  1019.36,366.649 1019.57,366.649 1019.79,366.649 1020,366.649 1020.21,366.65 1020.43,366.65 1020.64,366.65 1020.86,366.65 1021.07,366.65 1021.28,366.65 \n",
       "  1021.5,366.65 1021.71,366.65 1021.92,366.651 1022.14,366.651 1022.35,366.651 1022.57,366.651 1022.78,366.651 1022.99,366.651 1023.21,366.651 1023.42,366.651 \n",
       "  1023.63,366.652 1023.85,366.652 1024.06,366.652 1024.27,366.652 1024.49,366.652 1024.7,366.652 1024.92,366.652 1025.13,366.652 1025.34,366.653 1025.56,366.653 \n",
       "  1025.77,366.653 1025.98,366.653 1026.2,366.653 1026.41,366.653 1026.63,366.653 1026.84,366.653 1027.05,366.654 1027.27,366.654 1027.48,366.654 1027.69,366.654 \n",
       "  1027.91,366.654 1028.12,366.654 1028.33,366.654 1028.55,366.654 1028.76,366.655 1028.98,366.655 1029.19,366.655 1029.4,366.655 1029.62,366.655 1029.83,366.655 \n",
       "  1030.04,366.655 1030.26,366.655 1030.47,366.656 1030.69,366.656 1030.9,366.656 1031.11,366.656 1031.33,366.656 1031.54,366.656 1031.75,366.656 1031.97,366.656 \n",
       "  1032.18,366.656 1032.39,366.657 1032.61,366.657 1032.82,366.657 1033.04,366.657 1033.25,366.657 1033.46,366.657 1033.68,366.657 1033.89,366.657 1034.1,366.658 \n",
       "  1034.32,366.658 1034.53,366.658 1034.75,366.658 1034.96,366.658 1035.17,366.658 1035.39,366.658 1035.6,366.658 1035.81,366.658 1036.03,366.659 1036.24,366.659 \n",
       "  1036.45,366.659 1036.67,366.659 1036.88,366.659 1037.1,366.659 1037.31,366.659 1037.52,366.659 1037.74,366.66 1037.95,366.66 1038.16,366.66 1038.38,366.66 \n",
       "  1038.59,366.66 1038.81,366.66 1039.02,366.66 1039.23,366.66 1039.45,366.66 1039.66,366.661 1039.87,366.661 1040.09,366.661 1040.3,366.661 1040.51,366.661 \n",
       "  1040.73,366.661 1040.94,366.661 1041.16,366.661 1041.37,366.661 1041.58,366.662 1041.8,366.662 1042.01,366.662 1042.22,366.662 1042.44,366.662 1042.65,366.662 \n",
       "  1042.87,366.662 1043.08,366.662 1043.29,366.662 1043.51,366.663 1043.72,366.663 1043.93,366.663 1044.15,366.663 1044.36,366.663 1044.57,366.663 1044.79,366.663 \n",
       "  1045,366.663 1045.22,366.663 1045.43,366.664 1045.64,366.664 1045.86,366.664 1046.07,366.664 1046.28,366.664 1046.5,366.664 1046.71,366.664 1046.93,366.664 \n",
       "  1047.14,366.664 1047.35,366.665 1047.57,366.665 1047.78,366.665 1047.99,366.665 1048.21,366.665 1048.42,366.665 1048.63,366.665 1048.85,366.665 1049.06,366.665 \n",
       "  1049.28,366.666 1049.49,366.666 1049.7,366.666 1049.92,366.666 1050.13,366.666 1050.34,366.666 1050.56,366.666 1050.77,366.666 1050.99,366.666 1051.2,366.667 \n",
       "  1051.41,366.667 1051.63,366.667 1051.84,366.667 1052.05,366.667 1052.27,366.667 1052.48,366.667 1052.69,366.667 1052.91,366.667 1053.12,366.667 1053.34,366.668 \n",
       "  1053.55,366.668 1053.76,366.668 1053.98,366.668 1054.19,366.668 1054.4,366.668 1054.62,366.668 1054.83,366.668 1055.05,366.668 1055.26,366.669 1055.47,366.669 \n",
       "  1055.69,366.669 1055.9,366.669 1056.11,366.669 1056.33,366.669 1056.54,366.669 1056.76,366.669 1056.97,366.669 1057.18,366.669 1057.4,366.67 1057.61,366.67 \n",
       "  1057.82,366.67 1058.04,366.67 1058.25,366.67 1058.46,366.67 1058.68,366.67 1058.89,366.67 1059.11,366.67 1059.32,366.67 1059.53,366.671 1059.75,366.671 \n",
       "  1059.96,366.671 1060.17,366.671 1060.39,366.671 1060.6,366.671 1060.82,366.671 1061.03,366.671 1061.24,366.671 1061.46,366.671 1061.67,366.672 1061.88,366.672 \n",
       "  1062.1,366.672 1062.31,366.672 1062.52,366.672 1062.74,366.672 1062.95,366.672 1063.17,366.672 1063.38,366.672 1063.59,366.673 1063.81,366.673 1064.02,366.673 \n",
       "  1064.23,366.673 1064.45,366.673 1064.66,366.673 1064.88,366.673 1065.09,366.673 1065.3,366.673 1065.52,366.673 1065.73,366.673 1065.94,366.674 1066.16,366.674 \n",
       "  1066.37,366.674 1066.58,366.674 1066.8,366.674 1067.01,366.674 1067.23,366.674 1067.44,366.674 1067.65,366.674 1067.87,366.674 1068.08,366.675 1068.29,366.675 \n",
       "  1068.51,366.675 1068.72,366.675 1068.94,366.675 1069.15,366.675 1069.36,366.675 1069.58,366.675 1069.79,366.675 1070,366.675 1070.22,366.676 1070.43,366.676 \n",
       "  1070.64,366.676 1070.86,366.676 1071.07,366.676 1071.29,366.676 1071.5,366.676 1071.71,366.676 1071.93,366.676 1072.14,366.676 1072.35,366.677 1072.57,366.677 \n",
       "  1072.78,366.677 1073,366.677 1073.21,366.677 1073.42,366.677 1073.64,366.677 1073.85,366.677 1074.06,366.677 1074.28,366.677 1074.49,366.677 1074.7,366.678 \n",
       "  1074.92,366.678 1075.13,366.678 1075.35,366.678 1075.56,366.678 1075.77,366.678 1075.99,366.678 1076.2,366.678 1076.41,366.678 1076.63,366.678 1076.84,366.678 \n",
       "  1077.06,366.679 1077.27,366.679 1077.48,366.679 1077.7,366.679 1077.91,366.679 1078.12,366.679 1078.34,366.679 1078.55,366.679 1078.76,366.679 1078.98,366.679 \n",
       "  1079.19,366.679 1079.41,366.68 1079.62,366.68 1079.83,366.68 1080.05,366.68 1080.26,366.68 1080.47,366.68 1080.69,366.68 1080.9,366.68 1081.12,366.68 \n",
       "  1081.33,366.68 1081.54,366.681 1081.76,366.681 1081.97,366.681 1082.18,366.681 1082.4,366.681 1082.61,366.681 1082.82,366.681 1083.04,366.681 1083.25,366.681 \n",
       "  1083.47,366.681 1083.68,366.681 1083.89,366.681 1084.11,366.682 1084.32,366.682 1084.53,366.682 1084.75,366.682 1084.96,366.682 1085.18,366.682 1085.39,366.682 \n",
       "  1085.6,366.682 1085.82,366.682 1086.03,366.682 1086.24,366.682 1086.46,366.683 1086.67,366.683 1086.88,366.683 1087.1,366.683 1087.31,366.683 1087.53,366.683 \n",
       "  1087.74,366.683 1087.95,366.683 1088.17,366.683 1088.38,366.683 1088.59,366.683 1088.81,366.684 1089.02,366.684 1089.24,366.684 1089.45,366.684 1089.66,366.684 \n",
       "  1089.88,366.684 1090.09,366.684 1090.3,366.684 1090.52,366.684 1090.73,366.684 1090.94,366.684 1091.16,366.684 1091.37,366.685 1091.59,366.685 1091.8,366.685 \n",
       "  1092.01,366.685 1092.23,366.685 1092.44,366.685 1092.65,366.685 1092.87,366.685 1093.08,366.685 1093.3,366.685 1093.51,366.685 1093.72,366.686 1093.94,366.686 \n",
       "  1094.15,366.686 1094.36,366.686 1094.58,366.686 1094.79,366.686 1095,366.686 1095.22,366.686 1095.43,366.686 1095.65,366.686 1095.86,366.686 1096.07,366.686 \n",
       "  1096.29,366.687 1096.5,366.687 1096.71,366.687 1096.93,366.687 1097.14,366.687 1097.36,366.687 1097.57,366.687 1097.78,366.687 1098,366.687 1098.21,366.687 \n",
       "  1098.42,366.687 1098.64,366.687 1098.85,366.688 1099.06,366.688 1099.28,366.688 1099.49,366.688 1099.71,366.688 1099.92,366.688 1100.13,366.688 1100.35,366.688 \n",
       "  1100.56,366.688 1100.77,366.688 1100.99,366.688 1101.2,366.688 1101.42,366.689 1101.63,366.689 1101.84,366.689 1102.06,366.689 1102.27,366.689 1102.48,366.689 \n",
       "  1102.7,366.689 1102.91,366.689 1103.12,366.689 1103.34,366.689 1103.55,366.689 1103.77,366.689 1103.98,366.69 1104.19,366.69 1104.41,366.69 1104.62,366.69 \n",
       "  1104.83,366.69 1105.05,366.69 1105.26,366.69 1105.48,366.69 1105.69,366.69 1105.9,366.69 1106.12,366.69 1106.33,366.69 1106.54,366.69 1106.76,366.691 \n",
       "  1106.97,366.691 1107.19,366.691 1107.4,366.691 1107.61,366.691 1107.83,366.691 1108.04,366.691 1108.25,366.691 1108.47,366.691 1108.68,366.691 1108.89,366.691 \n",
       "  1109.11,366.691 1109.32,366.692 1109.54,366.692 1109.75,366.692 1109.96,366.692 1110.18,366.692 1110.39,366.692 1110.6,366.692 1110.82,366.692 1111.03,366.692 \n",
       "  1111.25,366.692 1111.46,366.692 1111.67,366.692 1111.89,366.692 1112.1,366.693 1112.31,366.693 1112.53,366.693 1112.74,366.693 1112.95,366.693 1113.17,366.693 \n",
       "  1113.38,366.693 1113.6,366.693 1113.81,366.693 1114.02,366.693 1114.24,366.693 1114.45,366.693 1114.66,366.693 1114.88,366.694 1115.09,366.694 1115.31,366.694 \n",
       "  1115.52,366.694 1115.73,366.694 1115.95,366.694 1116.16,366.694 1116.37,366.694 1116.59,366.694 1116.8,366.694 1117.01,366.694 1117.23,366.694 1117.44,366.694 \n",
       "  1117.66,366.695 1117.87,366.695 1118.08,366.695 1118.3,366.695 1118.51,366.695 1118.72,366.695 1118.94,366.695 1119.15,366.695 1119.37,366.695 1119.58,366.695 \n",
       "  \n",
       "  \"/>\n",
       "<path clip-path=\"url(#clip310)\" d=\"\n",
       "M739.606 172.231 L1115.02 172.231 L1115.02 68.5509 L739.606 68.5509  Z\n",
       "  \" fill=\"#ffffff\" fill-rule=\"evenodd\" fill-opacity=\"1\"/>\n",
       "<polyline clip-path=\"url(#clip310)\" style=\"stroke:#000000; stroke-linecap:butt; stroke-linejoin:round; stroke-width:4; stroke-opacity:1; fill:none\" points=\"\n",
       "  739.606,172.231 1115.02,172.231 1115.02,68.5509 739.606,68.5509 739.606,172.231 \n",
       "  \"/>\n",
       "<polyline clip-path=\"url(#clip310)\" style=\"stroke:#009af9; stroke-linecap:butt; stroke-linejoin:round; stroke-width:4; stroke-opacity:1; fill:none\" points=\"\n",
       "  749.673,120.391 810.075,120.391 \n",
       "  \"/>\n",
       "<path clip-path=\"url(#clip310)\" d=\"M836.647 101.653 L836.647 105.194 L832.573 105.194 Q830.281 105.194 829.378 106.12 Q828.499 107.046 828.499 109.453 L828.499 111.745 L835.513 111.745 L835.513 115.055 L828.499 115.055 L828.499 137.671 L824.216 137.671 L824.216 115.055 L820.142 115.055 L820.142 111.745 L824.216 111.745 L824.216 109.94 Q824.216 105.611 826.23 103.643 Q828.244 101.653 832.619 101.653 L836.647 101.653 Z\" fill=\"#000000\" fill-rule=\"evenodd\" fill-opacity=\"1\" /><path clip-path=\"url(#clip310)\" d=\"M850.443 101.699 Q847.341 107.023 845.837 112.231 Q844.332 117.44 844.332 122.787 Q844.332 128.134 845.837 133.389 Q847.364 138.62 850.443 143.921 L846.739 143.921 Q843.267 138.481 841.531 133.226 Q839.818 127.972 839.818 122.787 Q839.818 117.625 841.531 112.393 Q843.244 107.162 846.739 101.699 L850.443 101.699 Z\" fill=\"#000000\" fill-rule=\"evenodd\" fill-opacity=\"1\" /><path clip-path=\"url(#clip310)\" d=\"M880.258 111.745 L870.883 124.361 L880.744 137.671 L875.721 137.671 L868.174 127.486 L860.628 137.671 L855.605 137.671 L865.674 124.106 L856.462 111.745 L861.485 111.745 L868.36 120.981 L875.235 111.745 L880.258 111.745 Z\" fill=\"#000000\" fill-rule=\"evenodd\" fill-opacity=\"1\" /><path clip-path=\"url(#clip310)\" d=\"M886.091 101.699 L889.795 101.699 Q893.267 107.162 894.98 112.393 Q896.716 117.625 896.716 122.787 Q896.716 127.972 894.98 133.226 Q893.267 138.481 889.795 143.921 L886.091 143.921 Q889.17 138.62 890.674 133.389 Q892.202 128.134 892.202 122.787 Q892.202 117.44 890.674 112.231 Q889.17 107.023 886.091 101.699 Z\" fill=\"#000000\" fill-rule=\"evenodd\" fill-opacity=\"1\" /><path clip-path=\"url(#clip310)\" d=\"M905.813 116.143 L935.489 116.143 L935.489 120.032 L905.813 120.032 L905.813 116.143 M905.813 125.588 L935.489 125.588 L935.489 129.523 L905.813 129.523 L905.813 125.588 Z\" fill=\"#000000\" fill-rule=\"evenodd\" fill-opacity=\"1\" /><path clip-path=\"url(#clip310)\" d=\"M949.609 133.736 L965.929 133.736 L965.929 137.671 L943.984 137.671 L943.984 133.736 Q946.646 130.981 951.23 126.352 Q955.836 121.699 957.017 120.356 Q959.262 117.833 960.142 116.097 Q961.044 114.338 961.044 112.648 Q961.044 109.893 959.1 108.157 Q957.179 106.421 954.077 106.421 Q951.878 106.421 949.424 107.185 Q946.993 107.949 944.216 109.5 L944.216 104.778 Q947.04 103.643 949.493 103.065 Q951.947 102.486 953.984 102.486 Q959.354 102.486 962.549 105.171 Q965.743 107.856 965.743 112.347 Q965.743 114.477 964.933 116.398 Q964.146 118.296 962.04 120.889 Q961.461 121.56 958.359 124.777 Q955.257 127.972 949.609 133.736 Z\" fill=\"#000000\" fill-rule=\"evenodd\" fill-opacity=\"1\" /><path clip-path=\"url(#clip310)\" d=\"M982.711 103.111 L986.646 103.111 L974.609 142.069 L970.674 142.069 L982.711 103.111 Z\" fill=\"#000000\" fill-rule=\"evenodd\" fill-opacity=\"1\" /><path clip-path=\"url(#clip310)\" d=\"M1001.35 101.699 Q998.243 107.023 996.739 112.231 Q995.234 117.44 995.234 122.787 Q995.234 128.134 996.739 133.389 Q998.266 138.62 1001.35 143.921 L997.641 143.921 Q994.169 138.481 992.433 133.226 Q990.72 127.972 990.72 122.787 Q990.72 117.625 992.433 112.393 Q994.146 107.162 997.641 101.699 L1001.35 101.699 Z\" fill=\"#000000\" fill-rule=\"evenodd\" fill-opacity=\"1\" /><path clip-path=\"url(#clip310)\" d=\"M1031.16 111.745 L1021.78 124.361 L1031.65 137.671 L1026.62 137.671 L1019.08 127.486 L1011.53 137.671 L1006.51 137.671 L1016.58 124.106 L1007.36 111.745 L1012.39 111.745 L1019.26 120.981 L1026.14 111.745 L1031.16 111.745 Z\" fill=\"#000000\" fill-rule=\"evenodd\" fill-opacity=\"1\" /><path clip-path=\"url(#clip310)\" d=\"M1035.51 122.787 L1047.99 122.787 L1047.99 126.583 L1035.51 126.583 L1035.51 122.787 Z\" fill=\"#000000\" fill-rule=\"evenodd\" fill-opacity=\"1\" /><path clip-path=\"url(#clip310)\" d=\"M1068.22 107.185 L1056.41 125.634 L1068.22 125.634 L1068.22 107.185 M1066.99 103.111 L1072.87 103.111 L1072.87 125.634 L1077.8 125.634 L1077.8 129.523 L1072.87 129.523 L1072.87 137.671 L1068.22 137.671 L1068.22 129.523 L1052.62 129.523 L1052.62 125.009 L1066.99 103.111 Z\" fill=\"#000000\" fill-rule=\"evenodd\" fill-opacity=\"1\" /><path clip-path=\"url(#clip310)\" d=\"M1084.26 101.699 L1087.96 101.699 Q1091.44 107.162 1093.15 112.393 Q1094.89 117.625 1094.89 122.787 Q1094.89 127.972 1093.15 133.226 Q1091.44 138.481 1087.96 143.921 L1084.26 143.921 Q1087.34 138.62 1088.84 133.389 Q1090.37 128.134 1090.37 122.787 Q1090.37 117.44 1088.84 112.231 Q1087.34 107.023 1084.26 101.699 Z\" fill=\"#000000\" fill-rule=\"evenodd\" fill-opacity=\"1\" /><path clip-path=\"url(#clip310)\" d=\"\n",
       "M1446.73 686.448 L2352.76 686.448 L2352.76 47.2441 L1446.73 47.2441  Z\n",
       "  \" fill=\"#ffffff\" fill-rule=\"evenodd\" fill-opacity=\"1\"/>\n",
       "<defs>\n",
       "  <clipPath id=\"clip313\">\n",
       "    <rect x=\"1446\" y=\"47\" width=\"907\" height=\"640\"/>\n",
       "  </clipPath>\n",
       "</defs>\n",
       "<polyline clip-path=\"url(#clip313)\" style=\"stroke:#000000; stroke-linecap:butt; stroke-linejoin:round; stroke-width:2; stroke-opacity:0.1; fill:none\" points=\"\n",
       "  1472.37,686.448 1472.37,47.2441 \n",
       "  \"/>\n",
       "<polyline clip-path=\"url(#clip313)\" style=\"stroke:#000000; stroke-linecap:butt; stroke-linejoin:round; stroke-width:2; stroke-opacity:0.1; fill:none\" points=\"\n",
       "  1643.32,686.448 1643.32,47.2441 \n",
       "  \"/>\n",
       "<polyline clip-path=\"url(#clip313)\" style=\"stroke:#000000; stroke-linecap:butt; stroke-linejoin:round; stroke-width:2; stroke-opacity:0.1; fill:none\" points=\"\n",
       "  1814.27,686.448 1814.27,47.2441 \n",
       "  \"/>\n",
       "<polyline clip-path=\"url(#clip313)\" style=\"stroke:#000000; stroke-linecap:butt; stroke-linejoin:round; stroke-width:2; stroke-opacity:0.1; fill:none\" points=\"\n",
       "  1985.22,686.448 1985.22,47.2441 \n",
       "  \"/>\n",
       "<polyline clip-path=\"url(#clip313)\" style=\"stroke:#000000; stroke-linecap:butt; stroke-linejoin:round; stroke-width:2; stroke-opacity:0.1; fill:none\" points=\"\n",
       "  2156.16,686.448 2156.16,47.2441 \n",
       "  \"/>\n",
       "<polyline clip-path=\"url(#clip313)\" style=\"stroke:#000000; stroke-linecap:butt; stroke-linejoin:round; stroke-width:2; stroke-opacity:0.1; fill:none\" points=\"\n",
       "  2327.11,686.448 2327.11,47.2441 \n",
       "  \"/>\n",
       "<polyline clip-path=\"url(#clip310)\" style=\"stroke:#000000; stroke-linecap:butt; stroke-linejoin:round; stroke-width:4; stroke-opacity:1; fill:none\" points=\"\n",
       "  1446.73,686.448 2352.76,686.448 \n",
       "  \"/>\n",
       "<polyline clip-path=\"url(#clip310)\" style=\"stroke:#000000; stroke-linecap:butt; stroke-linejoin:round; stroke-width:4; stroke-opacity:1; fill:none\" points=\"\n",
       "  1472.37,686.448 1472.37,667.55 \n",
       "  \"/>\n",
       "<polyline clip-path=\"url(#clip310)\" style=\"stroke:#000000; stroke-linecap:butt; stroke-linejoin:round; stroke-width:4; stroke-opacity:1; fill:none\" points=\"\n",
       "  1643.32,686.448 1643.32,667.55 \n",
       "  \"/>\n",
       "<polyline clip-path=\"url(#clip310)\" style=\"stroke:#000000; stroke-linecap:butt; stroke-linejoin:round; stroke-width:4; stroke-opacity:1; fill:none\" points=\"\n",
       "  1814.27,686.448 1814.27,667.55 \n",
       "  \"/>\n",
       "<polyline clip-path=\"url(#clip310)\" style=\"stroke:#000000; stroke-linecap:butt; stroke-linejoin:round; stroke-width:4; stroke-opacity:1; fill:none\" points=\"\n",
       "  1985.22,686.448 1985.22,667.55 \n",
       "  \"/>\n",
       "<polyline clip-path=\"url(#clip310)\" style=\"stroke:#000000; stroke-linecap:butt; stroke-linejoin:round; stroke-width:4; stroke-opacity:1; fill:none\" points=\"\n",
       "  2156.16,686.448 2156.16,667.55 \n",
       "  \"/>\n",
       "<polyline clip-path=\"url(#clip310)\" style=\"stroke:#000000; stroke-linecap:butt; stroke-linejoin:round; stroke-width:4; stroke-opacity:1; fill:none\" points=\"\n",
       "  2327.11,686.448 2327.11,667.55 \n",
       "  \"/>\n",
       "<path clip-path=\"url(#clip310)\" d=\"M1449.75 717.367 Q1446.14 717.367 1444.31 720.931 Q1442.51 724.473 1442.51 731.603 Q1442.51 738.709 1444.31 742.274 Q1446.14 745.815 1449.75 745.815 Q1453.39 745.815 1455.19 742.274 Q1457.02 738.709 1457.02 731.603 Q1457.02 724.473 1455.19 720.931 Q1453.39 717.367 1449.75 717.367 M1449.75 713.663 Q1455.56 713.663 1458.62 718.269 Q1461.7 722.853 1461.7 731.603 Q1461.7 740.329 1458.62 744.936 Q1455.56 749.519 1449.75 749.519 Q1443.94 749.519 1440.86 744.936 Q1437.81 740.329 1437.81 731.603 Q1437.81 722.853 1440.86 718.269 Q1443.94 713.663 1449.75 713.663 Z\" fill=\"#000000\" fill-rule=\"evenodd\" fill-opacity=\"1\" /><path clip-path=\"url(#clip310)\" d=\"M1469.91 742.968 L1474.8 742.968 L1474.8 748.848 L1469.91 748.848 L1469.91 742.968 Z\" fill=\"#000000\" fill-rule=\"evenodd\" fill-opacity=\"1\" /><path clip-path=\"url(#clip310)\" d=\"M1494.98 717.367 Q1491.37 717.367 1489.54 720.931 Q1487.74 724.473 1487.74 731.603 Q1487.74 738.709 1489.54 742.274 Q1491.37 745.815 1494.98 745.815 Q1498.62 745.815 1500.42 742.274 Q1502.25 738.709 1502.25 731.603 Q1502.25 724.473 1500.42 720.931 Q1498.62 717.367 1494.98 717.367 M1494.98 713.663 Q1500.79 713.663 1503.85 718.269 Q1506.93 722.853 1506.93 731.603 Q1506.93 740.329 1503.85 744.936 Q1500.79 749.519 1494.98 749.519 Q1489.17 749.519 1486.09 744.936 Q1483.04 740.329 1483.04 731.603 Q1483.04 722.853 1486.09 718.269 Q1489.17 713.663 1494.98 713.663 Z\" fill=\"#000000\" fill-rule=\"evenodd\" fill-opacity=\"1\" /><path clip-path=\"url(#clip310)\" d=\"M1621.31 717.367 Q1617.7 717.367 1615.87 720.931 Q1614.07 724.473 1614.07 731.603 Q1614.07 738.709 1615.87 742.274 Q1617.7 745.815 1621.31 745.815 Q1624.95 745.815 1626.75 742.274 Q1628.58 738.709 1628.58 731.603 Q1628.58 724.473 1626.75 720.931 Q1624.95 717.367 1621.31 717.367 M1621.31 713.663 Q1627.12 713.663 1630.18 718.269 Q1633.26 722.853 1633.26 731.603 Q1633.26 740.329 1630.18 744.936 Q1627.12 749.519 1621.31 749.519 Q1615.5 749.519 1612.43 744.936 Q1609.37 740.329 1609.37 731.603 Q1609.37 722.853 1612.43 718.269 Q1615.5 713.663 1621.31 713.663 Z\" fill=\"#000000\" fill-rule=\"evenodd\" fill-opacity=\"1\" /><path clip-path=\"url(#clip310)\" d=\"M1641.48 742.968 L1646.36 742.968 L1646.36 748.848 L1641.48 748.848 L1641.48 742.968 Z\" fill=\"#000000\" fill-rule=\"evenodd\" fill-opacity=\"1\" /><path clip-path=\"url(#clip310)\" d=\"M1657.36 744.913 L1664.99 744.913 L1664.99 718.547 L1656.68 720.214 L1656.68 715.955 L1664.95 714.288 L1669.62 714.288 L1669.62 744.913 L1677.26 744.913 L1677.26 748.848 L1657.36 748.848 L1657.36 744.913 Z\" fill=\"#000000\" fill-rule=\"evenodd\" fill-opacity=\"1\" /><path clip-path=\"url(#clip310)\" d=\"M1792.45 717.367 Q1788.84 717.367 1787.01 720.931 Q1785.2 724.473 1785.2 731.603 Q1785.2 738.709 1787.01 742.274 Q1788.84 745.815 1792.45 745.815 Q1796.08 745.815 1797.89 742.274 Q1799.72 738.709 1799.72 731.603 Q1799.72 724.473 1797.89 720.931 Q1796.08 717.367 1792.45 717.367 M1792.45 713.663 Q1798.26 713.663 1801.31 718.269 Q1804.39 722.853 1804.39 731.603 Q1804.39 740.329 1801.31 744.936 Q1798.26 749.519 1792.45 749.519 Q1786.64 749.519 1783.56 744.936 Q1780.5 740.329 1780.5 731.603 Q1780.5 722.853 1783.56 718.269 Q1786.64 713.663 1792.45 713.663 Z\" fill=\"#000000\" fill-rule=\"evenodd\" fill-opacity=\"1\" /><path clip-path=\"url(#clip310)\" d=\"M1812.61 742.968 L1817.5 742.968 L1817.5 748.848 L1812.61 748.848 L1812.61 742.968 Z\" fill=\"#000000\" fill-rule=\"evenodd\" fill-opacity=\"1\" /><path clip-path=\"url(#clip310)\" d=\"M1831.71 744.913 L1848.03 744.913 L1848.03 748.848 L1826.08 748.848 L1826.08 744.913 Q1828.74 742.158 1833.33 737.528 Q1837.93 732.876 1839.12 731.533 Q1841.36 729.01 1842.24 727.274 Q1843.14 725.515 1843.14 723.825 Q1843.14 721.07 1841.2 719.334 Q1839.28 717.598 1836.18 717.598 Q1833.98 717.598 1831.52 718.362 Q1829.09 719.126 1826.31 720.677 L1826.31 715.955 Q1829.14 714.82 1831.59 714.242 Q1834.05 713.663 1836.08 713.663 Q1841.45 713.663 1844.65 716.348 Q1847.84 719.033 1847.84 723.524 Q1847.84 725.654 1847.03 727.575 Q1846.24 729.473 1844.14 732.066 Q1843.56 732.737 1840.46 735.954 Q1837.36 739.149 1831.71 744.913 Z\" fill=\"#000000\" fill-rule=\"evenodd\" fill-opacity=\"1\" /><path clip-path=\"url(#clip310)\" d=\"M1962.92 717.367 Q1959.31 717.367 1957.48 720.931 Q1955.68 724.473 1955.68 731.603 Q1955.68 738.709 1957.48 742.274 Q1959.31 745.815 1962.92 745.815 Q1966.56 745.815 1968.36 742.274 Q1970.19 738.709 1970.19 731.603 Q1970.19 724.473 1968.36 720.931 Q1966.56 717.367 1962.92 717.367 M1962.92 713.663 Q1968.73 713.663 1971.79 718.269 Q1974.87 722.853 1974.87 731.603 Q1974.87 740.329 1971.79 744.936 Q1968.73 749.519 1962.92 749.519 Q1957.11 749.519 1954.03 744.936 Q1950.98 740.329 1950.98 731.603 Q1950.98 722.853 1954.03 718.269 Q1957.11 713.663 1962.92 713.663 Z\" fill=\"#000000\" fill-rule=\"evenodd\" fill-opacity=\"1\" /><path clip-path=\"url(#clip310)\" d=\"M1983.09 742.968 L1987.97 742.968 L1987.97 748.848 L1983.09 748.848 L1983.09 742.968 Z\" fill=\"#000000\" fill-rule=\"evenodd\" fill-opacity=\"1\" /><path clip-path=\"url(#clip310)\" d=\"M2012.32 730.214 Q2015.68 730.931 2017.55 733.2 Q2019.45 735.468 2019.45 738.802 Q2019.45 743.917 2015.93 746.718 Q2012.41 749.519 2005.93 749.519 Q2003.76 749.519 2001.44 749.079 Q1999.15 748.663 1996.7 747.806 L1996.7 743.292 Q1998.64 744.427 2000.96 745.005 Q2003.27 745.584 2005.79 745.584 Q2010.19 745.584 2012.48 743.848 Q2014.8 742.112 2014.8 738.802 Q2014.8 735.746 2012.65 734.033 Q2010.52 732.297 2006.7 732.297 L2002.67 732.297 L2002.67 728.454 L2006.88 728.454 Q2010.33 728.454 2012.16 727.089 Q2013.99 725.7 2013.99 723.107 Q2013.99 720.445 2012.09 719.033 Q2010.21 717.598 2006.7 717.598 Q2004.78 717.598 2002.58 718.015 Q2000.38 718.431 1997.74 719.311 L1997.74 715.144 Q2000.4 714.404 2002.71 714.033 Q2005.05 713.663 2007.11 713.663 Q2012.44 713.663 2015.54 716.093 Q2018.64 718.501 2018.64 722.621 Q2018.64 725.492 2017 727.482 Q2015.35 729.45 2012.32 730.214 Z\" fill=\"#000000\" fill-rule=\"evenodd\" fill-opacity=\"1\" /><path clip-path=\"url(#clip310)\" d=\"M2133.31 717.367 Q2129.69 717.367 2127.87 720.931 Q2126.06 724.473 2126.06 731.603 Q2126.06 738.709 2127.87 742.274 Q2129.69 745.815 2133.31 745.815 Q2136.94 745.815 2138.75 742.274 Q2140.57 738.709 2140.57 731.603 Q2140.57 724.473 2138.75 720.931 Q2136.94 717.367 2133.31 717.367 M2133.31 713.663 Q2139.12 713.663 2142.17 718.269 Q2145.25 722.853 2145.25 731.603 Q2145.25 740.329 2142.17 744.936 Q2139.12 749.519 2133.31 749.519 Q2127.5 749.519 2124.42 744.936 Q2121.36 740.329 2121.36 731.603 Q2121.36 722.853 2124.42 718.269 Q2127.5 713.663 2133.31 713.663 Z\" fill=\"#000000\" fill-rule=\"evenodd\" fill-opacity=\"1\" /><path clip-path=\"url(#clip310)\" d=\"M2153.47 742.968 L2158.35 742.968 L2158.35 748.848 L2153.47 748.848 L2153.47 742.968 Z\" fill=\"#000000\" fill-rule=\"evenodd\" fill-opacity=\"1\" /><path clip-path=\"url(#clip310)\" d=\"M2181.38 718.362 L2169.58 736.811 L2181.38 736.811 L2181.38 718.362 M2180.16 714.288 L2186.04 714.288 L2186.04 736.811 L2190.97 736.811 L2190.97 740.7 L2186.04 740.7 L2186.04 748.848 L2181.38 748.848 L2181.38 740.7 L2165.78 740.7 L2165.78 736.186 L2180.16 714.288 Z\" fill=\"#000000\" fill-rule=\"evenodd\" fill-opacity=\"1\" /><path clip-path=\"url(#clip310)\" d=\"M2305 717.367 Q2301.38 717.367 2299.56 720.931 Q2297.75 724.473 2297.75 731.603 Q2297.75 738.709 2299.56 742.274 Q2301.38 745.815 2305 745.815 Q2308.63 745.815 2310.44 742.274 Q2312.26 738.709 2312.26 731.603 Q2312.26 724.473 2310.44 720.931 Q2308.63 717.367 2305 717.367 M2305 713.663 Q2310.81 713.663 2313.86 718.269 Q2316.94 722.853 2316.94 731.603 Q2316.94 740.329 2313.86 744.936 Q2310.81 749.519 2305 749.519 Q2299.19 749.519 2296.11 744.936 Q2293.05 740.329 2293.05 731.603 Q2293.05 722.853 2296.11 718.269 Q2299.19 713.663 2305 713.663 Z\" fill=\"#000000\" fill-rule=\"evenodd\" fill-opacity=\"1\" /><path clip-path=\"url(#clip310)\" d=\"M2325.16 742.968 L2330.04 742.968 L2330.04 748.848 L2325.16 748.848 L2325.16 742.968 Z\" fill=\"#000000\" fill-rule=\"evenodd\" fill-opacity=\"1\" /><path clip-path=\"url(#clip310)\" d=\"M2340.27 714.288 L2358.63 714.288 L2358.63 718.223 L2344.56 718.223 L2344.56 726.695 Q2345.57 726.348 2346.59 726.186 Q2347.61 726.001 2348.63 726.001 Q2354.42 726.001 2357.8 729.172 Q2361.18 732.343 2361.18 737.76 Q2361.18 743.339 2357.7 746.44 Q2354.23 749.519 2347.91 749.519 Q2345.74 749.519 2343.47 749.149 Q2341.22 748.778 2338.81 748.038 L2338.81 743.339 Q2340.9 744.473 2343.12 745.028 Q2345.34 745.584 2347.82 745.584 Q2351.82 745.584 2354.16 743.478 Q2356.5 741.371 2356.5 737.76 Q2356.5 734.149 2354.16 732.042 Q2351.82 729.936 2347.82 729.936 Q2345.94 729.936 2344.07 730.353 Q2342.22 730.769 2340.27 731.649 L2340.27 714.288 Z\" fill=\"#000000\" fill-rule=\"evenodd\" fill-opacity=\"1\" /><polyline clip-path=\"url(#clip313)\" style=\"stroke:#000000; stroke-linecap:butt; stroke-linejoin:round; stroke-width:2; stroke-opacity:0.1; fill:none\" points=\"\n",
       "  1446.73,603.845 2352.76,603.845 \n",
       "  \"/>\n",
       "<polyline clip-path=\"url(#clip313)\" style=\"stroke:#000000; stroke-linecap:butt; stroke-linejoin:round; stroke-width:2; stroke-opacity:0.1; fill:none\" points=\"\n",
       "  1446.73,505.934 2352.76,505.934 \n",
       "  \"/>\n",
       "<polyline clip-path=\"url(#clip313)\" style=\"stroke:#000000; stroke-linecap:butt; stroke-linejoin:round; stroke-width:2; stroke-opacity:0.1; fill:none\" points=\"\n",
       "  1446.73,408.023 2352.76,408.023 \n",
       "  \"/>\n",
       "<polyline clip-path=\"url(#clip313)\" style=\"stroke:#000000; stroke-linecap:butt; stroke-linejoin:round; stroke-width:2; stroke-opacity:0.1; fill:none\" points=\"\n",
       "  1446.73,310.112 2352.76,310.112 \n",
       "  \"/>\n",
       "<polyline clip-path=\"url(#clip313)\" style=\"stroke:#000000; stroke-linecap:butt; stroke-linejoin:round; stroke-width:2; stroke-opacity:0.1; fill:none\" points=\"\n",
       "  1446.73,212.201 2352.76,212.201 \n",
       "  \"/>\n",
       "<polyline clip-path=\"url(#clip313)\" style=\"stroke:#000000; stroke-linecap:butt; stroke-linejoin:round; stroke-width:2; stroke-opacity:0.1; fill:none\" points=\"\n",
       "  1446.73,114.29 2352.76,114.29 \n",
       "  \"/>\n",
       "<polyline clip-path=\"url(#clip310)\" style=\"stroke:#000000; stroke-linecap:butt; stroke-linejoin:round; stroke-width:4; stroke-opacity:1; fill:none\" points=\"\n",
       "  1446.73,686.448 1446.73,47.2441 \n",
       "  \"/>\n",
       "<polyline clip-path=\"url(#clip310)\" style=\"stroke:#000000; stroke-linecap:butt; stroke-linejoin:round; stroke-width:4; stroke-opacity:1; fill:none\" points=\"\n",
       "  1446.73,603.845 1465.62,603.845 \n",
       "  \"/>\n",
       "<polyline clip-path=\"url(#clip310)\" style=\"stroke:#000000; stroke-linecap:butt; stroke-linejoin:round; stroke-width:4; stroke-opacity:1; fill:none\" points=\"\n",
       "  1446.73,505.934 1465.62,505.934 \n",
       "  \"/>\n",
       "<polyline clip-path=\"url(#clip310)\" style=\"stroke:#000000; stroke-linecap:butt; stroke-linejoin:round; stroke-width:4; stroke-opacity:1; fill:none\" points=\"\n",
       "  1446.73,408.023 1465.62,408.023 \n",
       "  \"/>\n",
       "<polyline clip-path=\"url(#clip310)\" style=\"stroke:#000000; stroke-linecap:butt; stroke-linejoin:round; stroke-width:4; stroke-opacity:1; fill:none\" points=\"\n",
       "  1446.73,310.112 1465.62,310.112 \n",
       "  \"/>\n",
       "<polyline clip-path=\"url(#clip310)\" style=\"stroke:#000000; stroke-linecap:butt; stroke-linejoin:round; stroke-width:4; stroke-opacity:1; fill:none\" points=\"\n",
       "  1446.73,212.201 1465.62,212.201 \n",
       "  \"/>\n",
       "<polyline clip-path=\"url(#clip310)\" style=\"stroke:#000000; stroke-linecap:butt; stroke-linejoin:round; stroke-width:4; stroke-opacity:1; fill:none\" points=\"\n",
       "  1446.73,114.29 1465.62,114.29 \n",
       "  \"/>\n",
       "<path clip-path=\"url(#clip310)\" d=\"M1243.46 604.296 L1273.13 604.296 L1273.13 608.231 L1243.46 608.231 L1243.46 604.296 Z\" fill=\"#000000\" fill-rule=\"evenodd\" fill-opacity=\"1\" /><path clip-path=\"url(#clip310)\" d=\"M1293.23 589.643 Q1289.61 589.643 1287.79 593.208 Q1285.98 596.75 1285.98 603.879 Q1285.98 610.986 1287.79 614.55 Q1289.61 618.092 1293.23 618.092 Q1296.86 618.092 1298.67 614.55 Q1300.49 610.986 1300.49 603.879 Q1300.49 596.75 1298.67 593.208 Q1296.86 589.643 1293.23 589.643 M1293.23 585.94 Q1299.04 585.94 1302.09 590.546 Q1305.17 595.129 1305.17 603.879 Q1305.17 612.606 1302.09 617.212 Q1299.04 621.796 1293.23 621.796 Q1287.42 621.796 1284.34 617.212 Q1281.28 612.606 1281.28 603.879 Q1281.28 595.129 1284.34 590.546 Q1287.42 585.94 1293.23 585.94 Z\" fill=\"#000000\" fill-rule=\"evenodd\" fill-opacity=\"1\" /><path clip-path=\"url(#clip310)\" d=\"M1313.39 615.245 L1318.27 615.245 L1318.27 621.125 L1313.39 621.125 L1313.39 615.245 Z\" fill=\"#000000\" fill-rule=\"evenodd\" fill-opacity=\"1\" /><path clip-path=\"url(#clip310)\" d=\"M1338.46 589.643 Q1334.85 589.643 1333.02 593.208 Q1331.21 596.75 1331.21 603.879 Q1331.21 610.986 1333.02 614.55 Q1334.85 618.092 1338.46 618.092 Q1342.09 618.092 1343.9 614.55 Q1345.73 610.986 1345.73 603.879 Q1345.73 596.75 1343.9 593.208 Q1342.09 589.643 1338.46 589.643 M1338.46 585.94 Q1344.27 585.94 1347.32 590.546 Q1350.4 595.129 1350.4 603.879 Q1350.4 612.606 1347.32 617.212 Q1344.27 621.796 1338.46 621.796 Q1332.65 621.796 1329.57 617.212 Q1326.51 612.606 1326.51 603.879 Q1326.51 595.129 1329.57 590.546 Q1332.65 585.94 1338.46 585.94 Z\" fill=\"#000000\" fill-rule=\"evenodd\" fill-opacity=\"1\" /><path clip-path=\"url(#clip310)\" d=\"M1358.76 620.407 L1358.76 616.148 Q1360.52 616.981 1362.32 617.421 Q1364.13 617.861 1365.86 617.861 Q1370.49 617.861 1372.92 614.759 Q1375.38 611.634 1375.73 605.291 Q1374.38 607.282 1372.32 608.347 Q1370.26 609.412 1367.76 609.412 Q1362.58 609.412 1359.54 606.287 Q1356.54 603.138 1356.54 597.699 Q1356.54 592.375 1359.68 589.157 Q1362.83 585.94 1368.06 585.94 Q1374.06 585.94 1377.21 590.546 Q1380.38 595.129 1380.38 603.879 Q1380.38 612.05 1376.49 616.935 Q1372.62 621.796 1366.07 621.796 Q1364.31 621.796 1362.51 621.449 Q1360.7 621.101 1358.76 620.407 M1368.06 605.754 Q1371.21 605.754 1373.04 603.601 Q1374.89 601.449 1374.89 597.699 Q1374.89 593.972 1373.04 591.819 Q1371.21 589.643 1368.06 589.643 Q1364.92 589.643 1363.06 591.819 Q1361.23 593.972 1361.23 597.699 Q1361.23 601.449 1363.06 603.601 Q1364.92 605.754 1368.06 605.754 Z\" fill=\"#000000\" fill-rule=\"evenodd\" fill-opacity=\"1\" /><path clip-path=\"url(#clip310)\" d=\"M1398.78 589.643 Q1395.17 589.643 1393.34 593.208 Q1391.54 596.75 1391.54 603.879 Q1391.54 610.986 1393.34 614.55 Q1395.17 618.092 1398.78 618.092 Q1402.41 618.092 1404.22 614.55 Q1406.05 610.986 1406.05 603.879 Q1406.05 596.75 1404.22 593.208 Q1402.41 589.643 1398.78 589.643 M1398.78 585.94 Q1404.59 585.94 1407.65 590.546 Q1410.73 595.129 1410.73 603.879 Q1410.73 612.606 1407.65 617.212 Q1404.59 621.796 1398.78 621.796 Q1392.97 621.796 1389.89 617.212 Q1386.84 612.606 1386.84 603.879 Q1386.84 595.129 1389.89 590.546 Q1392.97 585.94 1398.78 585.94 Z\" fill=\"#000000\" fill-rule=\"evenodd\" fill-opacity=\"1\" /><path clip-path=\"url(#clip310)\" d=\"M1244.45 506.385 L1274.13 506.385 L1274.13 510.32 L1244.45 510.32 L1244.45 506.385 Z\" fill=\"#000000\" fill-rule=\"evenodd\" fill-opacity=\"1\" /><path clip-path=\"url(#clip310)\" d=\"M1294.22 491.732 Q1290.61 491.732 1288.78 495.297 Q1286.98 498.839 1286.98 505.968 Q1286.98 513.075 1288.78 516.64 Q1290.61 520.181 1294.22 520.181 Q1297.86 520.181 1299.66 516.64 Q1301.49 513.075 1301.49 505.968 Q1301.49 498.839 1299.66 495.297 Q1297.86 491.732 1294.22 491.732 M1294.22 488.029 Q1300.03 488.029 1303.09 492.635 Q1306.17 497.218 1306.17 505.968 Q1306.17 514.695 1303.09 519.302 Q1300.03 523.885 1294.22 523.885 Q1288.41 523.885 1285.33 519.302 Q1282.28 514.695 1282.28 505.968 Q1282.28 497.218 1285.33 492.635 Q1288.41 488.029 1294.22 488.029 Z\" fill=\"#000000\" fill-rule=\"evenodd\" fill-opacity=\"1\" /><path clip-path=\"url(#clip310)\" d=\"M1314.38 517.334 L1319.27 517.334 L1319.27 523.214 L1314.38 523.214 L1314.38 517.334 Z\" fill=\"#000000\" fill-rule=\"evenodd\" fill-opacity=\"1\" /><path clip-path=\"url(#clip310)\" d=\"M1339.45 491.732 Q1335.84 491.732 1334.01 495.297 Q1332.21 498.839 1332.21 505.968 Q1332.21 513.075 1334.01 516.64 Q1335.84 520.181 1339.45 520.181 Q1343.09 520.181 1344.89 516.64 Q1346.72 513.075 1346.72 505.968 Q1346.72 498.839 1344.89 495.297 Q1343.09 491.732 1339.45 491.732 M1339.45 488.029 Q1345.26 488.029 1348.32 492.635 Q1351.4 497.218 1351.4 505.968 Q1351.4 514.695 1348.32 519.302 Q1345.26 523.885 1339.45 523.885 Q1333.64 523.885 1330.56 519.302 Q1327.51 514.695 1327.51 505.968 Q1327.51 497.218 1330.56 492.635 Q1333.64 488.029 1339.45 488.029 Z\" fill=\"#000000\" fill-rule=\"evenodd\" fill-opacity=\"1\" /><path clip-path=\"url(#clip310)\" d=\"M1369.61 506.802 Q1366.28 506.802 1364.36 508.584 Q1362.46 510.366 1362.46 513.491 Q1362.46 516.616 1364.36 518.399 Q1366.28 520.181 1369.61 520.181 Q1372.95 520.181 1374.87 518.399 Q1376.79 516.593 1376.79 513.491 Q1376.79 510.366 1374.87 508.584 Q1372.97 506.802 1369.61 506.802 M1364.94 504.811 Q1361.93 504.07 1360.24 502.01 Q1358.57 499.95 1358.57 496.987 Q1358.57 492.843 1361.51 490.436 Q1364.48 488.029 1369.61 488.029 Q1374.78 488.029 1377.72 490.436 Q1380.66 492.843 1380.66 496.987 Q1380.66 499.95 1378.97 502.01 Q1377.3 504.07 1374.31 504.811 Q1377.69 505.598 1379.57 507.89 Q1381.47 510.181 1381.47 513.491 Q1381.47 518.515 1378.39 521.2 Q1375.33 523.885 1369.61 523.885 Q1363.9 523.885 1360.82 521.2 Q1357.76 518.515 1357.76 513.491 Q1357.76 510.181 1359.66 507.89 Q1361.56 505.598 1364.94 504.811 M1363.23 497.427 Q1363.23 500.112 1364.89 501.617 Q1366.58 503.121 1369.61 503.121 Q1372.62 503.121 1374.31 501.617 Q1376.03 500.112 1376.03 497.427 Q1376.03 494.742 1374.31 493.237 Q1372.62 491.732 1369.61 491.732 Q1366.58 491.732 1364.89 493.237 Q1363.23 494.742 1363.23 497.427 Z\" fill=\"#000000\" fill-rule=\"evenodd\" fill-opacity=\"1\" /><path clip-path=\"url(#clip310)\" d=\"M1389.82 488.654 L1408.18 488.654 L1408.18 492.589 L1394.1 492.589 L1394.1 501.061 Q1395.12 500.714 1396.14 500.552 Q1397.16 500.367 1398.18 500.367 Q1403.97 500.367 1407.35 503.538 Q1410.73 506.709 1410.73 512.126 Q1410.73 517.704 1407.25 520.806 Q1403.78 523.885 1397.46 523.885 Q1395.29 523.885 1393.02 523.515 Q1390.77 523.144 1388.36 522.403 L1388.36 517.704 Q1390.45 518.839 1392.67 519.394 Q1394.89 519.95 1397.37 519.95 Q1401.37 519.95 1403.71 517.843 Q1406.05 515.737 1406.05 512.126 Q1406.05 508.515 1403.71 506.408 Q1401.37 504.302 1397.37 504.302 Q1395.49 504.302 1393.62 504.718 Q1391.77 505.135 1389.82 506.015 L1389.82 488.654 Z\" fill=\"#000000\" fill-rule=\"evenodd\" fill-opacity=\"1\" /><path clip-path=\"url(#clip310)\" d=\"M1243.46 408.474 L1273.13 408.474 L1273.13 412.409 L1243.46 412.409 L1243.46 408.474 Z\" fill=\"#000000\" fill-rule=\"evenodd\" fill-opacity=\"1\" /><path clip-path=\"url(#clip310)\" d=\"M1293.23 393.821 Q1289.61 393.821 1287.79 397.386 Q1285.98 400.928 1285.98 408.058 Q1285.98 415.164 1287.79 418.729 Q1289.61 422.27 1293.23 422.27 Q1296.86 422.27 1298.67 418.729 Q1300.49 415.164 1300.49 408.058 Q1300.49 400.928 1298.67 397.386 Q1296.86 393.821 1293.23 393.821 M1293.23 390.118 Q1299.04 390.118 1302.09 394.724 Q1305.17 399.308 1305.17 408.058 Q1305.17 416.784 1302.09 421.391 Q1299.04 425.974 1293.23 425.974 Q1287.42 425.974 1284.34 421.391 Q1281.28 416.784 1281.28 408.058 Q1281.28 399.308 1284.34 394.724 Q1287.42 390.118 1293.23 390.118 Z\" fill=\"#000000\" fill-rule=\"evenodd\" fill-opacity=\"1\" /><path clip-path=\"url(#clip310)\" d=\"M1313.39 419.423 L1318.27 419.423 L1318.27 425.303 L1313.39 425.303 L1313.39 419.423 Z\" fill=\"#000000\" fill-rule=\"evenodd\" fill-opacity=\"1\" /><path clip-path=\"url(#clip310)\" d=\"M1338.46 393.821 Q1334.85 393.821 1333.02 397.386 Q1331.21 400.928 1331.21 408.058 Q1331.21 415.164 1333.02 418.729 Q1334.85 422.27 1338.46 422.27 Q1342.09 422.27 1343.9 418.729 Q1345.73 415.164 1345.73 408.058 Q1345.73 400.928 1343.9 397.386 Q1342.09 393.821 1338.46 393.821 M1338.46 390.118 Q1344.27 390.118 1347.32 394.724 Q1350.4 399.308 1350.4 408.058 Q1350.4 416.784 1347.32 421.391 Q1344.27 425.974 1338.46 425.974 Q1332.65 425.974 1329.57 421.391 Q1326.51 416.784 1326.51 408.058 Q1326.51 399.308 1329.57 394.724 Q1332.65 390.118 1338.46 390.118 Z\" fill=\"#000000\" fill-rule=\"evenodd\" fill-opacity=\"1\" /><path clip-path=\"url(#clip310)\" d=\"M1368.62 408.891 Q1365.29 408.891 1363.36 410.673 Q1361.47 412.456 1361.47 415.581 Q1361.47 418.706 1363.36 420.488 Q1365.29 422.27 1368.62 422.27 Q1371.95 422.27 1373.87 420.488 Q1375.79 418.682 1375.79 415.581 Q1375.79 412.456 1373.87 410.673 Q1371.98 408.891 1368.62 408.891 M1363.94 406.9 Q1360.93 406.159 1359.24 404.099 Q1357.58 402.039 1357.58 399.076 Q1357.58 394.933 1360.52 392.525 Q1363.48 390.118 1368.62 390.118 Q1373.78 390.118 1376.72 392.525 Q1379.66 394.933 1379.66 399.076 Q1379.66 402.039 1377.97 404.099 Q1376.3 406.159 1373.32 406.9 Q1376.7 407.687 1378.57 409.979 Q1380.47 412.27 1380.47 415.581 Q1380.47 420.604 1377.39 423.289 Q1374.34 425.974 1368.62 425.974 Q1362.9 425.974 1359.82 423.289 Q1356.77 420.604 1356.77 415.581 Q1356.77 412.27 1358.67 409.979 Q1360.56 407.687 1363.94 406.9 M1362.23 399.516 Q1362.23 402.201 1363.9 403.706 Q1365.59 405.21 1368.62 405.21 Q1371.63 405.21 1373.32 403.706 Q1375.03 402.201 1375.03 399.516 Q1375.03 396.831 1373.32 395.326 Q1371.63 393.821 1368.62 393.821 Q1365.59 393.821 1363.9 395.326 Q1362.23 396.831 1362.23 399.516 Z\" fill=\"#000000\" fill-rule=\"evenodd\" fill-opacity=\"1\" /><path clip-path=\"url(#clip310)\" d=\"M1398.78 393.821 Q1395.17 393.821 1393.34 397.386 Q1391.54 400.928 1391.54 408.058 Q1391.54 415.164 1393.34 418.729 Q1395.17 422.27 1398.78 422.27 Q1402.41 422.27 1404.22 418.729 Q1406.05 415.164 1406.05 408.058 Q1406.05 400.928 1404.22 397.386 Q1402.41 393.821 1398.78 393.821 M1398.78 390.118 Q1404.59 390.118 1407.65 394.724 Q1410.73 399.308 1410.73 408.058 Q1410.73 416.784 1407.65 421.391 Q1404.59 425.974 1398.78 425.974 Q1392.97 425.974 1389.89 421.391 Q1386.84 416.784 1386.84 408.058 Q1386.84 399.308 1389.89 394.724 Q1392.97 390.118 1398.78 390.118 Z\" fill=\"#000000\" fill-rule=\"evenodd\" fill-opacity=\"1\" /><path clip-path=\"url(#clip310)\" d=\"M1244.45 310.563 L1274.13 310.563 L1274.13 314.498 L1244.45 314.498 L1244.45 310.563 Z\" fill=\"#000000\" fill-rule=\"evenodd\" fill-opacity=\"1\" /><path clip-path=\"url(#clip310)\" d=\"M1294.22 295.911 Q1290.61 295.911 1288.78 299.475 Q1286.98 303.017 1286.98 310.147 Q1286.98 317.253 1288.78 320.818 Q1290.61 324.36 1294.22 324.36 Q1297.86 324.36 1299.66 320.818 Q1301.49 317.253 1301.49 310.147 Q1301.49 303.017 1299.66 299.475 Q1297.86 295.911 1294.22 295.911 M1294.22 292.207 Q1300.03 292.207 1303.09 296.813 Q1306.17 301.397 1306.17 310.147 Q1306.17 318.873 1303.09 323.48 Q1300.03 328.063 1294.22 328.063 Q1288.41 328.063 1285.33 323.48 Q1282.28 318.873 1282.28 310.147 Q1282.28 301.397 1285.33 296.813 Q1288.41 292.207 1294.22 292.207 Z\" fill=\"#000000\" fill-rule=\"evenodd\" fill-opacity=\"1\" /><path clip-path=\"url(#clip310)\" d=\"M1314.38 321.512 L1319.27 321.512 L1319.27 327.392 L1314.38 327.392 L1314.38 321.512 Z\" fill=\"#000000\" fill-rule=\"evenodd\" fill-opacity=\"1\" /><path clip-path=\"url(#clip310)\" d=\"M1339.45 295.911 Q1335.84 295.911 1334.01 299.475 Q1332.21 303.017 1332.21 310.147 Q1332.21 317.253 1334.01 320.818 Q1335.84 324.36 1339.45 324.36 Q1343.09 324.36 1344.89 320.818 Q1346.72 317.253 1346.72 310.147 Q1346.72 303.017 1344.89 299.475 Q1343.09 295.911 1339.45 295.911 M1339.45 292.207 Q1345.26 292.207 1348.32 296.813 Q1351.4 301.397 1351.4 310.147 Q1351.4 318.873 1348.32 323.48 Q1345.26 328.063 1339.45 328.063 Q1333.64 328.063 1330.56 323.48 Q1327.51 318.873 1327.51 310.147 Q1327.51 301.397 1330.56 296.813 Q1333.64 292.207 1339.45 292.207 Z\" fill=\"#000000\" fill-rule=\"evenodd\" fill-opacity=\"1\" /><path clip-path=\"url(#clip310)\" d=\"M1358.43 292.832 L1380.66 292.832 L1380.66 294.823 L1368.11 327.392 L1363.23 327.392 L1375.03 296.767 L1358.43 296.767 L1358.43 292.832 Z\" fill=\"#000000\" fill-rule=\"evenodd\" fill-opacity=\"1\" /><path clip-path=\"url(#clip310)\" d=\"M1389.82 292.832 L1408.18 292.832 L1408.18 296.767 L1394.1 296.767 L1394.1 305.239 Q1395.12 304.892 1396.14 304.73 Q1397.16 304.545 1398.18 304.545 Q1403.97 304.545 1407.35 307.716 Q1410.73 310.887 1410.73 316.304 Q1410.73 321.883 1407.25 324.985 Q1403.78 328.063 1397.46 328.063 Q1395.29 328.063 1393.02 327.693 Q1390.77 327.322 1388.36 326.582 L1388.36 321.883 Q1390.45 323.017 1392.67 323.572 Q1394.89 324.128 1397.37 324.128 Q1401.37 324.128 1403.71 322.022 Q1406.05 319.915 1406.05 316.304 Q1406.05 312.693 1403.71 310.586 Q1401.37 308.48 1397.37 308.48 Q1395.49 308.48 1393.62 308.897 Q1391.77 309.313 1389.82 310.193 L1389.82 292.832 Z\" fill=\"#000000\" fill-rule=\"evenodd\" fill-opacity=\"1\" /><path clip-path=\"url(#clip310)\" d=\"M1243.46 212.652 L1273.13 212.652 L1273.13 216.588 L1243.46 216.588 L1243.46 212.652 Z\" fill=\"#000000\" fill-rule=\"evenodd\" fill-opacity=\"1\" /><path clip-path=\"url(#clip310)\" d=\"M1293.23 198 Q1289.61 198 1287.79 201.565 Q1285.98 205.106 1285.98 212.236 Q1285.98 219.342 1287.79 222.907 Q1289.61 226.449 1293.23 226.449 Q1296.86 226.449 1298.67 222.907 Q1300.49 219.342 1300.49 212.236 Q1300.49 205.106 1298.67 201.565 Q1296.86 198 1293.23 198 M1293.23 194.296 Q1299.04 194.296 1302.09 198.903 Q1305.17 203.486 1305.17 212.236 Q1305.17 220.963 1302.09 225.569 Q1299.04 230.152 1293.23 230.152 Q1287.42 230.152 1284.34 225.569 Q1281.28 220.963 1281.28 212.236 Q1281.28 203.486 1284.34 198.903 Q1287.42 194.296 1293.23 194.296 Z\" fill=\"#000000\" fill-rule=\"evenodd\" fill-opacity=\"1\" /><path clip-path=\"url(#clip310)\" d=\"M1313.39 223.601 L1318.27 223.601 L1318.27 229.481 L1313.39 229.481 L1313.39 223.601 Z\" fill=\"#000000\" fill-rule=\"evenodd\" fill-opacity=\"1\" /><path clip-path=\"url(#clip310)\" d=\"M1338.46 198 Q1334.85 198 1333.02 201.565 Q1331.21 205.106 1331.21 212.236 Q1331.21 219.342 1333.02 222.907 Q1334.85 226.449 1338.46 226.449 Q1342.09 226.449 1343.9 222.907 Q1345.73 219.342 1345.73 212.236 Q1345.73 205.106 1343.9 201.565 Q1342.09 198 1338.46 198 M1338.46 194.296 Q1344.27 194.296 1347.32 198.903 Q1350.4 203.486 1350.4 212.236 Q1350.4 220.963 1347.32 225.569 Q1344.27 230.152 1338.46 230.152 Q1332.65 230.152 1329.57 225.569 Q1326.51 220.963 1326.51 212.236 Q1326.51 203.486 1329.57 198.903 Q1332.65 194.296 1338.46 194.296 Z\" fill=\"#000000\" fill-rule=\"evenodd\" fill-opacity=\"1\" /><path clip-path=\"url(#clip310)\" d=\"M1357.44 194.921 L1379.66 194.921 L1379.66 196.912 L1367.11 229.481 L1362.23 229.481 L1374.04 198.856 L1357.44 198.856 L1357.44 194.921 Z\" fill=\"#000000\" fill-rule=\"evenodd\" fill-opacity=\"1\" /><path clip-path=\"url(#clip310)\" d=\"M1398.78 198 Q1395.17 198 1393.34 201.565 Q1391.54 205.106 1391.54 212.236 Q1391.54 219.342 1393.34 222.907 Q1395.17 226.449 1398.78 226.449 Q1402.41 226.449 1404.22 222.907 Q1406.05 219.342 1406.05 212.236 Q1406.05 205.106 1404.22 201.565 Q1402.41 198 1398.78 198 M1398.78 194.296 Q1404.59 194.296 1407.65 198.903 Q1410.73 203.486 1410.73 212.236 Q1410.73 220.963 1407.65 225.569 Q1404.59 230.152 1398.78 230.152 Q1392.97 230.152 1389.89 225.569 Q1386.84 220.963 1386.84 212.236 Q1386.84 203.486 1389.89 198.903 Q1392.97 194.296 1398.78 194.296 Z\" fill=\"#000000\" fill-rule=\"evenodd\" fill-opacity=\"1\" /><path clip-path=\"url(#clip310)\" d=\"M1244.45 114.742 L1274.13 114.742 L1274.13 118.677 L1244.45 118.677 L1244.45 114.742 Z\" fill=\"#000000\" fill-rule=\"evenodd\" fill-opacity=\"1\" /><path clip-path=\"url(#clip310)\" d=\"M1294.22 100.089 Q1290.61 100.089 1288.78 103.654 Q1286.98 107.195 1286.98 114.325 Q1286.98 121.431 1288.78 124.996 Q1290.61 128.538 1294.22 128.538 Q1297.86 128.538 1299.66 124.996 Q1301.49 121.431 1301.49 114.325 Q1301.49 107.195 1299.66 103.654 Q1297.86 100.089 1294.22 100.089 M1294.22 96.3852 Q1300.03 96.3852 1303.09 100.992 Q1306.17 105.575 1306.17 114.325 Q1306.17 123.052 1303.09 127.658 Q1300.03 132.241 1294.22 132.241 Q1288.41 132.241 1285.33 127.658 Q1282.28 123.052 1282.28 114.325 Q1282.28 105.575 1285.33 100.992 Q1288.41 96.3852 1294.22 96.3852 Z\" fill=\"#000000\" fill-rule=\"evenodd\" fill-opacity=\"1\" /><path clip-path=\"url(#clip310)\" d=\"M1314.38 125.691 L1319.27 125.691 L1319.27 131.57 L1314.38 131.57 L1314.38 125.691 Z\" fill=\"#000000\" fill-rule=\"evenodd\" fill-opacity=\"1\" /><path clip-path=\"url(#clip310)\" d=\"M1339.45 100.089 Q1335.84 100.089 1334.01 103.654 Q1332.21 107.195 1332.21 114.325 Q1332.21 121.431 1334.01 124.996 Q1335.84 128.538 1339.45 128.538 Q1343.09 128.538 1344.89 124.996 Q1346.72 121.431 1346.72 114.325 Q1346.72 107.195 1344.89 103.654 Q1343.09 100.089 1339.45 100.089 M1339.45 96.3852 Q1345.26 96.3852 1348.32 100.992 Q1351.4 105.575 1351.4 114.325 Q1351.4 123.052 1348.32 127.658 Q1345.26 132.241 1339.45 132.241 Q1333.64 132.241 1330.56 127.658 Q1327.51 123.052 1327.51 114.325 Q1327.51 105.575 1330.56 100.992 Q1333.64 96.3852 1339.45 96.3852 Z\" fill=\"#000000\" fill-rule=\"evenodd\" fill-opacity=\"1\" /><path clip-path=\"url(#clip310)\" d=\"M1370.19 112.427 Q1367.04 112.427 1365.19 114.58 Q1363.36 116.732 1363.36 120.482 Q1363.36 124.209 1365.19 126.385 Q1367.04 128.538 1370.19 128.538 Q1373.34 128.538 1375.17 126.385 Q1377.02 124.209 1377.02 120.482 Q1377.02 116.732 1375.17 114.58 Q1373.34 112.427 1370.19 112.427 M1379.48 97.7741 L1379.48 102.033 Q1377.72 101.2 1375.91 100.76 Q1374.13 100.32 1372.37 100.32 Q1367.74 100.32 1365.29 103.445 Q1362.85 106.57 1362.51 112.89 Q1363.87 110.876 1365.93 109.811 Q1367.99 108.723 1370.47 108.723 Q1375.68 108.723 1378.69 111.894 Q1381.72 115.043 1381.72 120.482 Q1381.72 125.806 1378.57 129.024 Q1375.42 132.241 1370.19 132.241 Q1364.2 132.241 1361.03 127.658 Q1357.85 123.052 1357.85 114.325 Q1357.85 106.131 1361.74 101.269 Q1365.63 96.3852 1372.18 96.3852 Q1373.94 96.3852 1375.73 96.7324 Q1377.53 97.0796 1379.48 97.7741 Z\" fill=\"#000000\" fill-rule=\"evenodd\" fill-opacity=\"1\" /><path clip-path=\"url(#clip310)\" d=\"M1389.82 97.0102 L1408.18 97.0102 L1408.18 100.945 L1394.1 100.945 L1394.1 109.418 Q1395.12 109.07 1396.14 108.908 Q1397.16 108.723 1398.18 108.723 Q1403.97 108.723 1407.35 111.894 Q1410.73 115.066 1410.73 120.482 Q1410.73 126.061 1407.25 129.163 Q1403.78 132.241 1397.46 132.241 Q1395.29 132.241 1393.02 131.871 Q1390.77 131.501 1388.36 130.76 L1388.36 126.061 Q1390.45 127.195 1392.67 127.751 Q1394.89 128.306 1397.37 128.306 Q1401.37 128.306 1403.71 126.2 Q1406.05 124.093 1406.05 120.482 Q1406.05 116.871 1403.71 114.765 Q1401.37 112.658 1397.37 112.658 Q1395.49 112.658 1393.62 113.075 Q1391.77 113.492 1389.82 114.371 L1389.82 97.0102 Z\" fill=\"#000000\" fill-rule=\"evenodd\" fill-opacity=\"1\" /><polyline clip-path=\"url(#clip313)\" style=\"stroke:#009af9; stroke-linecap:butt; stroke-linejoin:round; stroke-width:4; stroke-opacity:1; fill:none\" points=\"\n",
       "  1472.37,65.3348 1489.46,74.56 1506.56,83.8782 1523.65,93.2905 1540.75,102.798 1557.84,112.402 1574.94,122.104 1592.03,131.905 1609.13,141.806 1626.22,151.809 \n",
       "  1643.32,161.914 1660.41,172.124 1677.51,182.439 1694.6,192.862 1711.7,203.392 1728.79,214.032 1745.89,224.783 1762.98,235.647 1780.08,246.625 1797.17,257.719 \n",
       "  1814.27,268.929 1831.36,280.258 1848.46,291.708 1865.55,303.279 1882.65,314.973 1899.74,326.793 1916.84,338.739 1933.93,350.814 1951.03,363.019 1968.12,375.356 \n",
       "  1985.22,387.827 2002.31,400.433 2019.4,413.177 2036.5,426.06 2053.59,439.084 2070.69,452.251 2087.78,465.564 2104.88,479.023 2121.97,492.632 2139.07,506.392 \n",
       "  2156.16,520.305 2173.26,534.373 2190.35,548.599 2207.45,562.985 2224.54,577.534 2241.64,592.246 2258.73,607.125 2275.83,622.174 2292.92,637.393 2310.02,652.787 \n",
       "  2327.11,668.357 \n",
       "  \"/>\n",
       "<path clip-path=\"url(#clip310)\" d=\"\n",
       "M2119.25 172.231 L2322.55 172.231 L2322.55 68.5509 L2119.25 68.5509  Z\n",
       "  \" fill=\"#ffffff\" fill-rule=\"evenodd\" fill-opacity=\"1\"/>\n",
       "<polyline clip-path=\"url(#clip310)\" style=\"stroke:#000000; stroke-linecap:butt; stroke-linejoin:round; stroke-width:4; stroke-opacity:1; fill:none\" points=\"\n",
       "  2119.25,172.231 2322.55,172.231 2322.55,68.5509 2119.25,68.5509 2119.25,172.231 \n",
       "  \"/>\n",
       "<polyline clip-path=\"url(#clip310)\" style=\"stroke:#009af9; stroke-linecap:butt; stroke-linejoin:round; stroke-width:4; stroke-opacity:1; fill:none\" points=\"\n",
       "  2129.31,120.391 2189.72,120.391 \n",
       "  \"/>\n",
       "<path clip-path=\"url(#clip310)\" d=\"M2216.29 101.653 L2216.29 105.194 L2212.21 105.194 Q2209.92 105.194 2209.02 106.12 Q2208.14 107.046 2208.14 109.453 L2208.14 111.745 L2215.15 111.745 L2215.15 115.055 L2208.14 115.055 L2208.14 137.671 L2203.86 137.671 L2203.86 115.055 L2199.78 115.055 L2199.78 111.745 L2203.86 111.745 L2203.86 109.94 Q2203.86 105.611 2205.87 103.643 Q2207.88 101.653 2212.26 101.653 L2216.29 101.653 Z\" fill=\"#000000\" fill-rule=\"evenodd\" fill-opacity=\"1\" /><path clip-path=\"url(#clip310)\" d=\"M2223.88 103.111 L2223.88 115.958 L2219.94 115.958 L2219.94 103.111 L2223.88 103.111 Z\" fill=\"#000000\" fill-rule=\"evenodd\" fill-opacity=\"1\" /><path clip-path=\"url(#clip310)\" d=\"M2236.91 103.111 L2236.91 115.958 L2232.98 115.958 L2232.98 103.111 L2236.91 103.111 Z\" fill=\"#000000\" fill-rule=\"evenodd\" fill-opacity=\"1\" /><path clip-path=\"url(#clip310)\" d=\"M2256.15 101.699 Q2253.05 107.023 2251.54 112.231 Q2250.04 117.44 2250.04 122.787 Q2250.04 128.134 2251.54 133.389 Q2253.07 138.62 2256.15 143.921 L2252.44 143.921 Q2248.97 138.481 2247.24 133.226 Q2245.52 127.972 2245.52 122.787 Q2245.52 117.625 2247.24 112.393 Q2248.95 107.162 2252.44 101.699 L2256.15 101.699 Z\" fill=\"#000000\" fill-rule=\"evenodd\" fill-opacity=\"1\" /><path clip-path=\"url(#clip310)\" d=\"M2285.96 111.745 L2276.59 124.361 L2286.45 137.671 L2281.43 137.671 L2273.88 127.486 L2266.33 137.671 L2261.31 137.671 L2271.38 124.106 L2262.17 111.745 L2267.19 111.745 L2274.06 120.981 L2280.94 111.745 L2285.96 111.745 Z\" fill=\"#000000\" fill-rule=\"evenodd\" fill-opacity=\"1\" /><path clip-path=\"url(#clip310)\" d=\"M2291.8 101.699 L2295.5 101.699 Q2298.97 107.162 2300.68 112.393 Q2302.42 117.625 2302.42 122.787 Q2302.42 127.972 2300.68 133.226 Q2298.97 138.481 2295.5 143.921 L2291.8 143.921 Q2294.87 138.62 2296.38 133.389 Q2297.91 128.134 2297.91 122.787 Q2297.91 117.44 2296.38 112.231 Q2294.87 107.023 2291.8 101.699 Z\" fill=\"#000000\" fill-rule=\"evenodd\" fill-opacity=\"1\" /><path clip-path=\"url(#clip310)\" d=\"\n",
       "M239.19 1486.45 L1145.22 1486.45 L1145.22 847.244 L239.19 847.244  Z\n",
       "  \" fill=\"#ffffff\" fill-rule=\"evenodd\" fill-opacity=\"1\"/>\n",
       "<defs>\n",
       "  <clipPath id=\"clip314\">\n",
       "    <rect x=\"239\" y=\"847\" width=\"907\" height=\"640\"/>\n",
       "  </clipPath>\n",
       "</defs>\n",
       "<polyline clip-path=\"url(#clip314)\" style=\"stroke:#000000; stroke-linecap:butt; stroke-linejoin:round; stroke-width:2; stroke-opacity:0.1; fill:none\" points=\"\n",
       "  264.833,1486.45 264.833,847.244 \n",
       "  \"/>\n",
       "<polyline clip-path=\"url(#clip314)\" style=\"stroke:#000000; stroke-linecap:butt; stroke-linejoin:round; stroke-width:2; stroke-opacity:0.1; fill:none\" points=\"\n",
       "  435.782,1486.45 435.782,847.244 \n",
       "  \"/>\n",
       "<polyline clip-path=\"url(#clip314)\" style=\"stroke:#000000; stroke-linecap:butt; stroke-linejoin:round; stroke-width:2; stroke-opacity:0.1; fill:none\" points=\"\n",
       "  606.731,1486.45 606.731,847.244 \n",
       "  \"/>\n",
       "<polyline clip-path=\"url(#clip314)\" style=\"stroke:#000000; stroke-linecap:butt; stroke-linejoin:round; stroke-width:2; stroke-opacity:0.1; fill:none\" points=\"\n",
       "  777.68,1486.45 777.68,847.244 \n",
       "  \"/>\n",
       "<polyline clip-path=\"url(#clip314)\" style=\"stroke:#000000; stroke-linecap:butt; stroke-linejoin:round; stroke-width:2; stroke-opacity:0.1; fill:none\" points=\"\n",
       "  948.63,1486.45 948.63,847.244 \n",
       "  \"/>\n",
       "<polyline clip-path=\"url(#clip314)\" style=\"stroke:#000000; stroke-linecap:butt; stroke-linejoin:round; stroke-width:2; stroke-opacity:0.1; fill:none\" points=\"\n",
       "  1119.58,1486.45 1119.58,847.244 \n",
       "  \"/>\n",
       "<polyline clip-path=\"url(#clip310)\" style=\"stroke:#000000; stroke-linecap:butt; stroke-linejoin:round; stroke-width:4; stroke-opacity:1; fill:none\" points=\"\n",
       "  239.19,1486.45 1145.22,1486.45 \n",
       "  \"/>\n",
       "<polyline clip-path=\"url(#clip310)\" style=\"stroke:#000000; stroke-linecap:butt; stroke-linejoin:round; stroke-width:4; stroke-opacity:1; fill:none\" points=\"\n",
       "  264.833,1486.45 264.833,1467.55 \n",
       "  \"/>\n",
       "<polyline clip-path=\"url(#clip310)\" style=\"stroke:#000000; stroke-linecap:butt; stroke-linejoin:round; stroke-width:4; stroke-opacity:1; fill:none\" points=\"\n",
       "  435.782,1486.45 435.782,1467.55 \n",
       "  \"/>\n",
       "<polyline clip-path=\"url(#clip310)\" style=\"stroke:#000000; stroke-linecap:butt; stroke-linejoin:round; stroke-width:4; stroke-opacity:1; fill:none\" points=\"\n",
       "  606.731,1486.45 606.731,1467.55 \n",
       "  \"/>\n",
       "<polyline clip-path=\"url(#clip310)\" style=\"stroke:#000000; stroke-linecap:butt; stroke-linejoin:round; stroke-width:4; stroke-opacity:1; fill:none\" points=\"\n",
       "  777.68,1486.45 777.68,1467.55 \n",
       "  \"/>\n",
       "<polyline clip-path=\"url(#clip310)\" style=\"stroke:#000000; stroke-linecap:butt; stroke-linejoin:round; stroke-width:4; stroke-opacity:1; fill:none\" points=\"\n",
       "  948.63,1486.45 948.63,1467.55 \n",
       "  \"/>\n",
       "<polyline clip-path=\"url(#clip310)\" style=\"stroke:#000000; stroke-linecap:butt; stroke-linejoin:round; stroke-width:4; stroke-opacity:1; fill:none\" points=\"\n",
       "  1119.58,1486.45 1119.58,1467.55 \n",
       "  \"/>\n",
       "<path clip-path=\"url(#clip310)\" d=\"M242.217 1517.37 Q238.606 1517.37 236.777 1520.93 Q234.972 1524.47 234.972 1531.6 Q234.972 1538.71 236.777 1542.27 Q238.606 1545.82 242.217 1545.82 Q245.851 1545.82 247.657 1542.27 Q249.486 1538.71 249.486 1531.6 Q249.486 1524.47 247.657 1520.93 Q245.851 1517.37 242.217 1517.37 M242.217 1513.66 Q248.027 1513.66 251.083 1518.27 Q254.162 1522.85 254.162 1531.6 Q254.162 1540.33 251.083 1544.94 Q248.027 1549.52 242.217 1549.52 Q236.407 1549.52 233.328 1544.94 Q230.273 1540.33 230.273 1531.6 Q230.273 1522.85 233.328 1518.27 Q236.407 1513.66 242.217 1513.66 Z\" fill=\"#000000\" fill-rule=\"evenodd\" fill-opacity=\"1\" /><path clip-path=\"url(#clip310)\" d=\"M262.379 1542.97 L267.263 1542.97 L267.263 1548.85 L262.379 1548.85 L262.379 1542.97 Z\" fill=\"#000000\" fill-rule=\"evenodd\" fill-opacity=\"1\" /><path clip-path=\"url(#clip310)\" d=\"M287.448 1517.37 Q283.837 1517.37 282.009 1520.93 Q280.203 1524.47 280.203 1531.6 Q280.203 1538.71 282.009 1542.27 Q283.837 1545.82 287.448 1545.82 Q291.083 1545.82 292.888 1542.27 Q294.717 1538.71 294.717 1531.6 Q294.717 1524.47 292.888 1520.93 Q291.083 1517.37 287.448 1517.37 M287.448 1513.66 Q293.259 1513.66 296.314 1518.27 Q299.393 1522.85 299.393 1531.6 Q299.393 1540.33 296.314 1544.94 Q293.259 1549.52 287.448 1549.52 Q281.638 1549.52 278.56 1544.94 Q275.504 1540.33 275.504 1531.6 Q275.504 1522.85 278.56 1518.27 Q281.638 1513.66 287.448 1513.66 Z\" fill=\"#000000\" fill-rule=\"evenodd\" fill-opacity=\"1\" /><path clip-path=\"url(#clip310)\" d=\"M413.78 1517.37 Q410.169 1517.37 408.34 1520.93 Q406.534 1524.47 406.534 1531.6 Q406.534 1538.71 408.34 1542.27 Q410.169 1545.82 413.78 1545.82 Q417.414 1545.82 419.22 1542.27 Q421.048 1538.71 421.048 1531.6 Q421.048 1524.47 419.22 1520.93 Q417.414 1517.37 413.78 1517.37 M413.78 1513.66 Q419.59 1513.66 422.645 1518.27 Q425.724 1522.85 425.724 1531.6 Q425.724 1540.33 422.645 1544.94 Q419.59 1549.52 413.78 1549.52 Q407.97 1549.52 404.891 1544.94 Q401.835 1540.33 401.835 1531.6 Q401.835 1522.85 404.891 1518.27 Q407.97 1513.66 413.78 1513.66 Z\" fill=\"#000000\" fill-rule=\"evenodd\" fill-opacity=\"1\" /><path clip-path=\"url(#clip310)\" d=\"M433.942 1542.97 L438.826 1542.97 L438.826 1548.85 L433.942 1548.85 L433.942 1542.97 Z\" fill=\"#000000\" fill-rule=\"evenodd\" fill-opacity=\"1\" /><path clip-path=\"url(#clip310)\" d=\"M449.821 1544.91 L457.46 1544.91 L457.46 1518.55 L449.15 1520.21 L449.15 1515.95 L457.414 1514.29 L462.09 1514.29 L462.09 1544.91 L469.729 1544.91 L469.729 1548.85 L449.821 1548.85 L449.821 1544.91 Z\" fill=\"#000000\" fill-rule=\"evenodd\" fill-opacity=\"1\" /><path clip-path=\"url(#clip310)\" d=\"M584.914 1517.37 Q581.303 1517.37 579.474 1520.93 Q577.669 1524.47 577.669 1531.6 Q577.669 1538.71 579.474 1542.27 Q581.303 1545.82 584.914 1545.82 Q588.548 1545.82 590.354 1542.27 Q592.183 1538.71 592.183 1531.6 Q592.183 1524.47 590.354 1520.93 Q588.548 1517.37 584.914 1517.37 M584.914 1513.66 Q590.724 1513.66 593.78 1518.27 Q596.859 1522.85 596.859 1531.6 Q596.859 1540.33 593.78 1544.94 Q590.724 1549.52 584.914 1549.52 Q579.104 1549.52 576.025 1544.94 Q572.97 1540.33 572.97 1531.6 Q572.97 1522.85 576.025 1518.27 Q579.104 1513.66 584.914 1513.66 Z\" fill=\"#000000\" fill-rule=\"evenodd\" fill-opacity=\"1\" /><path clip-path=\"url(#clip310)\" d=\"M605.076 1542.97 L609.96 1542.97 L609.96 1548.85 L605.076 1548.85 L605.076 1542.97 Z\" fill=\"#000000\" fill-rule=\"evenodd\" fill-opacity=\"1\" /><path clip-path=\"url(#clip310)\" d=\"M624.173 1544.91 L640.493 1544.91 L640.493 1548.85 L618.548 1548.85 L618.548 1544.91 Q621.21 1542.16 625.794 1537.53 Q630.4 1532.88 631.581 1531.53 Q633.826 1529.01 634.706 1527.27 Q635.608 1525.51 635.608 1523.82 Q635.608 1521.07 633.664 1519.33 Q631.743 1517.6 628.641 1517.6 Q626.442 1517.6 623.988 1518.36 Q621.558 1519.13 618.78 1520.68 L618.78 1515.95 Q621.604 1514.82 624.057 1514.24 Q626.511 1513.66 628.548 1513.66 Q633.919 1513.66 637.113 1516.35 Q640.307 1519.03 640.307 1523.52 Q640.307 1525.65 639.497 1527.57 Q638.71 1529.47 636.604 1532.07 Q636.025 1532.74 632.923 1535.95 Q629.821 1539.15 624.173 1544.91 Z\" fill=\"#000000\" fill-rule=\"evenodd\" fill-opacity=\"1\" /><path clip-path=\"url(#clip310)\" d=\"M755.389 1517.37 Q751.778 1517.37 749.949 1520.93 Q748.144 1524.47 748.144 1531.6 Q748.144 1538.71 749.949 1542.27 Q751.778 1545.82 755.389 1545.82 Q759.023 1545.82 760.829 1542.27 Q762.657 1538.71 762.657 1531.6 Q762.657 1524.47 760.829 1520.93 Q759.023 1517.37 755.389 1517.37 M755.389 1513.66 Q761.199 1513.66 764.255 1518.27 Q767.333 1522.85 767.333 1531.6 Q767.333 1540.33 764.255 1544.94 Q761.199 1549.52 755.389 1549.52 Q749.579 1549.52 746.5 1544.94 Q743.444 1540.33 743.444 1531.6 Q743.444 1522.85 746.5 1518.27 Q749.579 1513.66 755.389 1513.66 Z\" fill=\"#000000\" fill-rule=\"evenodd\" fill-opacity=\"1\" /><path clip-path=\"url(#clip310)\" d=\"M775.551 1542.97 L780.435 1542.97 L780.435 1548.85 L775.551 1548.85 L775.551 1542.97 Z\" fill=\"#000000\" fill-rule=\"evenodd\" fill-opacity=\"1\" /><path clip-path=\"url(#clip310)\" d=\"M804.787 1530.21 Q808.143 1530.93 810.018 1533.2 Q811.916 1535.47 811.916 1538.8 Q811.916 1543.92 808.398 1546.72 Q804.879 1549.52 798.398 1549.52 Q796.222 1549.52 793.907 1549.08 Q791.616 1548.66 789.162 1547.81 L789.162 1543.29 Q791.106 1544.43 793.421 1545.01 Q795.736 1545.58 798.259 1545.58 Q802.657 1545.58 804.949 1543.85 Q807.264 1542.11 807.264 1538.8 Q807.264 1535.75 805.111 1534.03 Q802.981 1532.3 799.162 1532.3 L795.134 1532.3 L795.134 1528.45 L799.347 1528.45 Q802.796 1528.45 804.625 1527.09 Q806.453 1525.7 806.453 1523.11 Q806.453 1520.45 804.555 1519.03 Q802.68 1517.6 799.162 1517.6 Q797.24 1517.6 795.041 1518.01 Q792.842 1518.43 790.203 1519.31 L790.203 1515.14 Q792.866 1514.4 795.18 1514.03 Q797.518 1513.66 799.578 1513.66 Q804.902 1513.66 808.004 1516.09 Q811.106 1518.5 811.106 1522.62 Q811.106 1525.49 809.463 1527.48 Q807.819 1529.45 804.787 1530.21 Z\" fill=\"#000000\" fill-rule=\"evenodd\" fill-opacity=\"1\" /><path clip-path=\"url(#clip310)\" d=\"M925.771 1517.37 Q922.16 1517.37 920.331 1520.93 Q918.526 1524.47 918.526 1531.6 Q918.526 1538.71 920.331 1542.27 Q922.16 1545.82 925.771 1545.82 Q929.405 1545.82 931.211 1542.27 Q933.039 1538.71 933.039 1531.6 Q933.039 1524.47 931.211 1520.93 Q929.405 1517.37 925.771 1517.37 M925.771 1513.66 Q931.581 1513.66 934.637 1518.27 Q937.715 1522.85 937.715 1531.6 Q937.715 1540.33 934.637 1544.94 Q931.581 1549.52 925.771 1549.52 Q919.961 1549.52 916.882 1544.94 Q913.827 1540.33 913.827 1531.6 Q913.827 1522.85 916.882 1518.27 Q919.961 1513.66 925.771 1513.66 Z\" fill=\"#000000\" fill-rule=\"evenodd\" fill-opacity=\"1\" /><path clip-path=\"url(#clip310)\" d=\"M945.933 1542.97 L950.817 1542.97 L950.817 1548.85 L945.933 1548.85 L945.933 1542.97 Z\" fill=\"#000000\" fill-rule=\"evenodd\" fill-opacity=\"1\" /><path clip-path=\"url(#clip310)\" d=\"M973.849 1518.36 L962.044 1536.81 L973.849 1536.81 L973.849 1518.36 M972.623 1514.29 L978.502 1514.29 L978.502 1536.81 L983.433 1536.81 L983.433 1540.7 L978.502 1540.7 L978.502 1548.85 L973.849 1548.85 L973.849 1540.7 L958.248 1540.7 L958.248 1536.19 L972.623 1514.29 Z\" fill=\"#000000\" fill-rule=\"evenodd\" fill-opacity=\"1\" /><path clip-path=\"url(#clip310)\" d=\"M1097.46 1517.37 Q1093.85 1517.37 1092.02 1520.93 Q1090.22 1524.47 1090.22 1531.6 Q1090.22 1538.71 1092.02 1542.27 Q1093.85 1545.82 1097.46 1545.82 Q1101.1 1545.82 1102.9 1542.27 Q1104.73 1538.71 1104.73 1531.6 Q1104.73 1524.47 1102.9 1520.93 Q1101.1 1517.37 1097.46 1517.37 M1097.46 1513.66 Q1103.27 1513.66 1106.33 1518.27 Q1109.41 1522.85 1109.41 1531.6 Q1109.41 1540.33 1106.33 1544.94 Q1103.27 1549.52 1097.46 1549.52 Q1091.65 1549.52 1088.57 1544.94 Q1085.52 1540.33 1085.52 1531.6 Q1085.52 1522.85 1088.57 1518.27 Q1091.65 1513.66 1097.46 1513.66 Z\" fill=\"#000000\" fill-rule=\"evenodd\" fill-opacity=\"1\" /><path clip-path=\"url(#clip310)\" d=\"M1117.62 1542.97 L1122.51 1542.97 L1122.51 1548.85 L1117.62 1548.85 L1117.62 1542.97 Z\" fill=\"#000000\" fill-rule=\"evenodd\" fill-opacity=\"1\" /><path clip-path=\"url(#clip310)\" d=\"M1132.74 1514.29 L1151.09 1514.29 L1151.09 1518.22 L1137.02 1518.22 L1137.02 1526.7 Q1138.04 1526.35 1139.06 1526.19 Q1140.08 1526 1141.09 1526 Q1146.88 1526 1150.26 1529.17 Q1153.64 1532.34 1153.64 1537.76 Q1153.64 1543.34 1150.17 1546.44 Q1146.7 1549.52 1140.38 1549.52 Q1138.2 1549.52 1135.93 1549.15 Q1133.69 1548.78 1131.28 1548.04 L1131.28 1543.34 Q1133.36 1544.47 1135.59 1545.03 Q1137.81 1545.58 1140.28 1545.58 Q1144.29 1545.58 1146.63 1543.48 Q1148.97 1541.37 1148.97 1537.76 Q1148.97 1534.15 1146.63 1532.04 Q1144.29 1529.94 1140.28 1529.94 Q1138.41 1529.94 1136.53 1530.35 Q1134.68 1530.77 1132.74 1531.65 L1132.74 1514.29 Z\" fill=\"#000000\" fill-rule=\"evenodd\" fill-opacity=\"1\" /><polyline clip-path=\"url(#clip314)\" style=\"stroke:#000000; stroke-linecap:butt; stroke-linejoin:round; stroke-width:2; stroke-opacity:0.1; fill:none\" points=\"\n",
       "  239.19,1449.52 1145.22,1449.52 \n",
       "  \"/>\n",
       "<polyline clip-path=\"url(#clip314)\" style=\"stroke:#000000; stroke-linecap:butt; stroke-linejoin:round; stroke-width:2; stroke-opacity:0.1; fill:none\" points=\"\n",
       "  239.19,1314.06 1145.22,1314.06 \n",
       "  \"/>\n",
       "<polyline clip-path=\"url(#clip314)\" style=\"stroke:#000000; stroke-linecap:butt; stroke-linejoin:round; stroke-width:2; stroke-opacity:0.1; fill:none\" points=\"\n",
       "  239.19,1178.59 1145.22,1178.59 \n",
       "  \"/>\n",
       "<polyline clip-path=\"url(#clip314)\" style=\"stroke:#000000; stroke-linecap:butt; stroke-linejoin:round; stroke-width:2; stroke-opacity:0.1; fill:none\" points=\"\n",
       "  239.19,1043.13 1145.22,1043.13 \n",
       "  \"/>\n",
       "<polyline clip-path=\"url(#clip314)\" style=\"stroke:#000000; stroke-linecap:butt; stroke-linejoin:round; stroke-width:2; stroke-opacity:0.1; fill:none\" points=\"\n",
       "  239.19,907.667 1145.22,907.667 \n",
       "  \"/>\n",
       "<polyline clip-path=\"url(#clip310)\" style=\"stroke:#000000; stroke-linecap:butt; stroke-linejoin:round; stroke-width:4; stroke-opacity:1; fill:none\" points=\"\n",
       "  239.19,1486.45 239.19,847.244 \n",
       "  \"/>\n",
       "<polyline clip-path=\"url(#clip310)\" style=\"stroke:#000000; stroke-linecap:butt; stroke-linejoin:round; stroke-width:4; stroke-opacity:1; fill:none\" points=\"\n",
       "  239.19,1449.52 258.088,1449.52 \n",
       "  \"/>\n",
       "<polyline clip-path=\"url(#clip310)\" style=\"stroke:#000000; stroke-linecap:butt; stroke-linejoin:round; stroke-width:4; stroke-opacity:1; fill:none\" points=\"\n",
       "  239.19,1314.06 258.088,1314.06 \n",
       "  \"/>\n",
       "<polyline clip-path=\"url(#clip310)\" style=\"stroke:#000000; stroke-linecap:butt; stroke-linejoin:round; stroke-width:4; stroke-opacity:1; fill:none\" points=\"\n",
       "  239.19,1178.59 258.088,1178.59 \n",
       "  \"/>\n",
       "<polyline clip-path=\"url(#clip310)\" style=\"stroke:#000000; stroke-linecap:butt; stroke-linejoin:round; stroke-width:4; stroke-opacity:1; fill:none\" points=\"\n",
       "  239.19,1043.13 258.088,1043.13 \n",
       "  \"/>\n",
       "<polyline clip-path=\"url(#clip310)\" style=\"stroke:#000000; stroke-linecap:butt; stroke-linejoin:round; stroke-width:4; stroke-opacity:1; fill:none\" points=\"\n",
       "  239.19,907.667 258.088,907.667 \n",
       "  \"/>\n",
       "<path clip-path=\"url(#clip310)\" d=\"M66.2698 1449.97 L95.9456 1449.97 L95.9456 1453.91 L66.2698 1453.91 L66.2698 1449.97 Z\" fill=\"#000000\" fill-rule=\"evenodd\" fill-opacity=\"1\" /><path clip-path=\"url(#clip310)\" d=\"M116.038 1435.32 Q112.427 1435.32 110.598 1438.88 Q108.793 1442.43 108.793 1449.56 Q108.793 1456.66 110.598 1460.23 Q112.427 1463.77 116.038 1463.77 Q119.672 1463.77 121.478 1460.23 Q123.307 1456.66 123.307 1449.56 Q123.307 1442.43 121.478 1438.88 Q119.672 1435.32 116.038 1435.32 M116.038 1431.62 Q121.848 1431.62 124.904 1436.22 Q127.982 1440.81 127.982 1449.56 Q127.982 1458.28 124.904 1462.89 Q121.848 1467.47 116.038 1467.47 Q110.228 1467.47 107.149 1462.89 Q104.094 1458.28 104.094 1449.56 Q104.094 1440.81 107.149 1436.22 Q110.228 1431.62 116.038 1431.62 Z\" fill=\"#000000\" fill-rule=\"evenodd\" fill-opacity=\"1\" /><path clip-path=\"url(#clip310)\" d=\"M136.2 1460.92 L141.084 1460.92 L141.084 1466.8 L136.2 1466.8 L136.2 1460.92 Z\" fill=\"#000000\" fill-rule=\"evenodd\" fill-opacity=\"1\" /><path clip-path=\"url(#clip310)\" d=\"M161.269 1435.32 Q157.658 1435.32 155.83 1438.88 Q154.024 1442.43 154.024 1449.56 Q154.024 1456.66 155.83 1460.23 Q157.658 1463.77 161.269 1463.77 Q164.904 1463.77 166.709 1460.23 Q168.538 1456.66 168.538 1449.56 Q168.538 1442.43 166.709 1438.88 Q164.904 1435.32 161.269 1435.32 M161.269 1431.62 Q167.079 1431.62 170.135 1436.22 Q173.214 1440.81 173.214 1449.56 Q173.214 1458.28 170.135 1462.89 Q167.079 1467.47 161.269 1467.47 Q155.459 1467.47 152.38 1462.89 Q149.325 1458.28 149.325 1449.56 Q149.325 1440.81 152.38 1436.22 Q155.459 1431.62 161.269 1431.62 Z\" fill=\"#000000\" fill-rule=\"evenodd\" fill-opacity=\"1\" /><path clip-path=\"url(#clip310)\" d=\"M181.57 1466.08 L181.57 1461.82 Q183.329 1462.66 185.135 1463.1 Q186.94 1463.54 188.677 1463.54 Q193.306 1463.54 195.737 1460.44 Q198.19 1457.31 198.538 1450.97 Q197.195 1452.96 195.135 1454.02 Q193.075 1455.09 190.575 1455.09 Q185.39 1455.09 182.357 1451.96 Q179.348 1448.82 179.348 1443.38 Q179.348 1438.05 182.496 1434.83 Q185.644 1431.62 190.876 1431.62 Q196.871 1431.62 200.019 1436.22 Q203.19 1440.81 203.19 1449.56 Q203.19 1457.73 199.302 1462.61 Q195.436 1467.47 188.885 1467.47 Q187.126 1467.47 185.32 1467.13 Q183.515 1466.78 181.57 1466.08 M190.876 1451.43 Q194.024 1451.43 195.852 1449.28 Q197.704 1447.13 197.704 1443.38 Q197.704 1439.65 195.852 1437.5 Q194.024 1435.32 190.876 1435.32 Q187.728 1435.32 185.876 1437.5 Q184.047 1439.65 184.047 1443.38 Q184.047 1447.13 185.876 1449.28 Q187.728 1451.43 190.876 1451.43 Z\" fill=\"#000000\" fill-rule=\"evenodd\" fill-opacity=\"1\" /><path clip-path=\"url(#clip310)\" d=\"M66.1772 1314.51 L95.853 1314.51 L95.853 1318.44 L66.1772 1318.44 L66.1772 1314.51 Z\" fill=\"#000000\" fill-rule=\"evenodd\" fill-opacity=\"1\" /><path clip-path=\"url(#clip310)\" d=\"M115.945 1299.86 Q112.334 1299.86 110.506 1303.42 Q108.7 1306.96 108.7 1314.09 Q108.7 1321.2 110.506 1324.76 Q112.334 1328.31 115.945 1328.31 Q119.58 1328.31 121.385 1324.76 Q123.214 1321.2 123.214 1314.09 Q123.214 1306.96 121.385 1303.42 Q119.58 1299.86 115.945 1299.86 M115.945 1296.15 Q121.756 1296.15 124.811 1300.76 Q127.89 1305.34 127.89 1314.09 Q127.89 1322.82 124.811 1327.43 Q121.756 1332.01 115.945 1332.01 Q110.135 1332.01 107.057 1327.43 Q104.001 1322.82 104.001 1314.09 Q104.001 1305.34 107.057 1300.76 Q110.135 1296.15 115.945 1296.15 Z\" fill=\"#000000\" fill-rule=\"evenodd\" fill-opacity=\"1\" /><path clip-path=\"url(#clip310)\" d=\"M136.107 1325.46 L140.992 1325.46 L140.992 1331.34 L136.107 1331.34 L136.107 1325.46 Z\" fill=\"#000000\" fill-rule=\"evenodd\" fill-opacity=\"1\" /><path clip-path=\"url(#clip310)\" d=\"M161.177 1299.86 Q157.566 1299.86 155.737 1303.42 Q153.931 1306.96 153.931 1314.09 Q153.931 1321.2 155.737 1324.76 Q157.566 1328.31 161.177 1328.31 Q164.811 1328.31 166.617 1324.76 Q168.445 1321.2 168.445 1314.09 Q168.445 1306.96 166.617 1303.42 Q164.811 1299.86 161.177 1299.86 M161.177 1296.15 Q166.987 1296.15 170.042 1300.76 Q173.121 1305.34 173.121 1314.09 Q173.121 1322.82 170.042 1327.43 Q166.987 1332.01 161.177 1332.01 Q155.367 1332.01 152.288 1327.43 Q149.232 1322.82 149.232 1314.09 Q149.232 1305.34 152.288 1300.76 Q155.367 1296.15 161.177 1296.15 Z\" fill=\"#000000\" fill-rule=\"evenodd\" fill-opacity=\"1\" /><path clip-path=\"url(#clip310)\" d=\"M191.339 1314.93 Q188.005 1314.93 186.084 1316.71 Q184.186 1318.49 184.186 1321.62 Q184.186 1324.74 186.084 1326.52 Q188.005 1328.31 191.339 1328.31 Q194.672 1328.31 196.593 1326.52 Q198.514 1324.72 198.514 1321.62 Q198.514 1318.49 196.593 1316.71 Q194.695 1314.93 191.339 1314.93 M186.663 1312.93 Q183.653 1312.19 181.964 1310.13 Q180.297 1308.07 180.297 1305.11 Q180.297 1300.97 183.237 1298.56 Q186.2 1296.15 191.339 1296.15 Q196.501 1296.15 199.44 1298.56 Q202.38 1300.97 202.38 1305.11 Q202.38 1308.07 200.69 1310.13 Q199.024 1312.19 196.038 1312.93 Q199.417 1313.72 201.292 1316.01 Q203.19 1318.31 203.19 1321.62 Q203.19 1326.64 200.112 1329.32 Q197.056 1332.01 191.339 1332.01 Q185.621 1332.01 182.542 1329.32 Q179.487 1326.64 179.487 1321.62 Q179.487 1318.31 181.385 1316.01 Q183.283 1313.72 186.663 1312.93 M184.95 1305.55 Q184.95 1308.24 186.616 1309.74 Q188.306 1311.25 191.339 1311.25 Q194.348 1311.25 196.038 1309.74 Q197.751 1308.24 197.751 1305.55 Q197.751 1302.87 196.038 1301.36 Q194.348 1299.86 191.339 1299.86 Q188.306 1299.86 186.616 1301.36 Q184.95 1302.87 184.95 1305.55 Z\" fill=\"#000000\" fill-rule=\"evenodd\" fill-opacity=\"1\" /><path clip-path=\"url(#clip310)\" d=\"M66.9874 1179.05 L96.6632 1179.05 L96.6632 1182.98 L66.9874 1182.98 L66.9874 1179.05 Z\" fill=\"#000000\" fill-rule=\"evenodd\" fill-opacity=\"1\" /><path clip-path=\"url(#clip310)\" d=\"M116.756 1164.39 Q113.145 1164.39 111.316 1167.96 Q109.51 1171.5 109.51 1178.63 Q109.51 1185.74 111.316 1189.3 Q113.145 1192.84 116.756 1192.84 Q120.39 1192.84 122.195 1189.3 Q124.024 1185.74 124.024 1178.63 Q124.024 1171.5 122.195 1167.96 Q120.39 1164.39 116.756 1164.39 M116.756 1160.69 Q122.566 1160.69 125.621 1165.3 Q128.7 1169.88 128.7 1178.63 Q128.7 1187.36 125.621 1191.96 Q122.566 1196.55 116.756 1196.55 Q110.946 1196.55 107.867 1191.96 Q104.811 1187.36 104.811 1178.63 Q104.811 1169.88 107.867 1165.3 Q110.946 1160.69 116.756 1160.69 Z\" fill=\"#000000\" fill-rule=\"evenodd\" fill-opacity=\"1\" /><path clip-path=\"url(#clip310)\" d=\"M136.918 1189.99 L141.802 1189.99 L141.802 1195.87 L136.918 1195.87 L136.918 1189.99 Z\" fill=\"#000000\" fill-rule=\"evenodd\" fill-opacity=\"1\" /><path clip-path=\"url(#clip310)\" d=\"M161.987 1164.39 Q158.376 1164.39 156.547 1167.96 Q154.742 1171.5 154.742 1178.63 Q154.742 1185.74 156.547 1189.3 Q158.376 1192.84 161.987 1192.84 Q165.621 1192.84 167.427 1189.3 Q169.255 1185.74 169.255 1178.63 Q169.255 1171.5 167.427 1167.96 Q165.621 1164.39 161.987 1164.39 M161.987 1160.69 Q167.797 1160.69 170.853 1165.3 Q173.931 1169.88 173.931 1178.63 Q173.931 1187.36 170.853 1191.96 Q167.797 1196.55 161.987 1196.55 Q156.177 1196.55 153.098 1191.96 Q150.043 1187.36 150.043 1178.63 Q150.043 1169.88 153.098 1165.3 Q156.177 1160.69 161.987 1160.69 Z\" fill=\"#000000\" fill-rule=\"evenodd\" fill-opacity=\"1\" /><path clip-path=\"url(#clip310)\" d=\"M180.968 1161.31 L203.19 1161.31 L203.19 1163.3 L190.644 1195.87 L185.76 1195.87 L197.565 1165.25 L180.968 1165.25 L180.968 1161.31 Z\" fill=\"#000000\" fill-rule=\"evenodd\" fill-opacity=\"1\" /><path clip-path=\"url(#clip310)\" d=\"M65.9226 1043.58 L95.5984 1043.58 L95.5984 1047.52 L65.9226 1047.52 L65.9226 1043.58 Z\" fill=\"#000000\" fill-rule=\"evenodd\" fill-opacity=\"1\" /><path clip-path=\"url(#clip310)\" d=\"M115.691 1028.93 Q112.08 1028.93 110.251 1032.49 Q108.446 1036.04 108.446 1043.17 Q108.446 1050.27 110.251 1053.84 Q112.08 1057.38 115.691 1057.38 Q119.325 1057.38 121.131 1053.84 Q122.959 1050.27 122.959 1043.17 Q122.959 1036.04 121.131 1032.49 Q119.325 1028.93 115.691 1028.93 M115.691 1025.23 Q121.501 1025.23 124.557 1029.83 Q127.635 1034.42 127.635 1043.17 Q127.635 1051.89 124.557 1056.5 Q121.501 1061.08 115.691 1061.08 Q109.881 1061.08 106.802 1056.5 Q103.746 1051.89 103.746 1043.17 Q103.746 1034.42 106.802 1029.83 Q109.881 1025.23 115.691 1025.23 Z\" fill=\"#000000\" fill-rule=\"evenodd\" fill-opacity=\"1\" /><path clip-path=\"url(#clip310)\" d=\"M135.853 1054.53 L140.737 1054.53 L140.737 1060.41 L135.853 1060.41 L135.853 1054.53 Z\" fill=\"#000000\" fill-rule=\"evenodd\" fill-opacity=\"1\" /><path clip-path=\"url(#clip310)\" d=\"M160.922 1028.93 Q157.311 1028.93 155.482 1032.49 Q153.677 1036.04 153.677 1043.17 Q153.677 1050.27 155.482 1053.84 Q157.311 1057.38 160.922 1057.38 Q164.556 1057.38 166.362 1053.84 Q168.191 1050.27 168.191 1043.17 Q168.191 1036.04 166.362 1032.49 Q164.556 1028.93 160.922 1028.93 M160.922 1025.23 Q166.732 1025.23 169.788 1029.83 Q172.866 1034.42 172.866 1043.17 Q172.866 1051.89 169.788 1056.5 Q166.732 1061.08 160.922 1061.08 Q155.112 1061.08 152.033 1056.5 Q148.978 1051.89 148.978 1043.17 Q148.978 1034.42 152.033 1029.83 Q155.112 1025.23 160.922 1025.23 Z\" fill=\"#000000\" fill-rule=\"evenodd\" fill-opacity=\"1\" /><path clip-path=\"url(#clip310)\" d=\"M191.663 1041.27 Q188.515 1041.27 186.663 1043.42 Q184.834 1045.57 184.834 1049.32 Q184.834 1053.05 186.663 1055.23 Q188.515 1057.38 191.663 1057.38 Q194.811 1057.38 196.639 1055.23 Q198.491 1053.05 198.491 1049.32 Q198.491 1045.57 196.639 1043.42 Q194.811 1041.27 191.663 1041.27 M200.945 1026.61 L200.945 1030.87 Q199.186 1030.04 197.38 1029.6 Q195.598 1029.16 193.839 1029.16 Q189.209 1029.16 186.755 1032.29 Q184.325 1035.41 183.978 1041.73 Q185.343 1039.72 187.403 1038.65 Q189.464 1037.56 191.94 1037.56 Q197.149 1037.56 200.158 1040.73 Q203.19 1043.88 203.19 1049.32 Q203.19 1054.65 200.042 1057.86 Q196.894 1061.08 191.663 1061.08 Q185.667 1061.08 182.496 1056.5 Q179.325 1051.89 179.325 1043.17 Q179.325 1034.97 183.214 1030.11 Q187.103 1025.23 193.653 1025.23 Q195.413 1025.23 197.195 1025.57 Q199.001 1025.92 200.945 1026.61 Z\" fill=\"#000000\" fill-rule=\"evenodd\" fill-opacity=\"1\" /><path clip-path=\"url(#clip310)\" d=\"M67.08 908.118 L96.7558 908.118 L96.7558 912.054 L67.08 912.054 L67.08 908.118 Z\" fill=\"#000000\" fill-rule=\"evenodd\" fill-opacity=\"1\" /><path clip-path=\"url(#clip310)\" d=\"M116.848 893.466 Q113.237 893.466 111.408 897.031 Q109.603 900.572 109.603 907.702 Q109.603 914.808 111.408 918.373 Q113.237 921.915 116.848 921.915 Q120.482 921.915 122.288 918.373 Q124.117 914.808 124.117 907.702 Q124.117 900.572 122.288 897.031 Q120.482 893.466 116.848 893.466 M116.848 889.762 Q122.658 889.762 125.714 894.369 Q128.793 898.952 128.793 907.702 Q128.793 916.429 125.714 921.035 Q122.658 925.618 116.848 925.618 Q111.038 925.618 107.959 921.035 Q104.904 916.429 104.904 907.702 Q104.904 898.952 107.959 894.369 Q111.038 889.762 116.848 889.762 Z\" fill=\"#000000\" fill-rule=\"evenodd\" fill-opacity=\"1\" /><path clip-path=\"url(#clip310)\" d=\"M137.01 919.068 L141.894 919.068 L141.894 924.947 L137.01 924.947 L137.01 919.068 Z\" fill=\"#000000\" fill-rule=\"evenodd\" fill-opacity=\"1\" /><path clip-path=\"url(#clip310)\" d=\"M162.079 893.466 Q158.468 893.466 156.64 897.031 Q154.834 900.572 154.834 907.702 Q154.834 914.808 156.64 918.373 Q158.468 921.915 162.079 921.915 Q165.714 921.915 167.519 918.373 Q169.348 914.808 169.348 907.702 Q169.348 900.572 167.519 897.031 Q165.714 893.466 162.079 893.466 M162.079 889.762 Q167.89 889.762 170.945 894.369 Q174.024 898.952 174.024 907.702 Q174.024 916.429 170.945 921.035 Q167.89 925.618 162.079 925.618 Q156.269 925.618 153.191 921.035 Q150.135 916.429 150.135 907.702 Q150.135 898.952 153.191 894.369 Q156.269 889.762 162.079 889.762 Z\" fill=\"#000000\" fill-rule=\"evenodd\" fill-opacity=\"1\" /><path clip-path=\"url(#clip310)\" d=\"M182.288 890.387 L200.644 890.387 L200.644 894.322 L186.57 894.322 L186.57 902.794 Q187.589 902.447 188.607 902.285 Q189.626 902.1 190.644 902.1 Q196.431 902.1 199.811 905.271 Q203.19 908.443 203.19 913.859 Q203.19 919.438 199.718 922.54 Q196.246 925.618 189.927 925.618 Q187.751 925.618 185.482 925.248 Q183.237 924.878 180.829 924.137 L180.829 919.438 Q182.913 920.572 185.135 921.128 Q187.357 921.683 189.834 921.683 Q193.839 921.683 196.177 919.577 Q198.514 917.47 198.514 913.859 Q198.514 910.248 196.177 908.142 Q193.839 906.035 189.834 906.035 Q187.959 906.035 186.084 906.452 Q184.232 906.869 182.288 907.748 L182.288 890.387 Z\" fill=\"#000000\" fill-rule=\"evenodd\" fill-opacity=\"1\" /><polyline clip-path=\"url(#clip314)\" style=\"stroke:#009af9; stroke-linecap:butt; stroke-linejoin:round; stroke-width:4; stroke-opacity:1; fill:none\" points=\"\n",
       "  264.833,865.335 281.928,873.332 299.023,881.45 316.118,889.692 333.212,898.059 350.307,906.554 367.402,915.179 384.497,923.936 401.592,932.828 418.687,941.858 \n",
       "  435.782,951.026 452.877,960.337 469.972,969.793 487.067,979.396 504.162,989.149 521.257,999.055 538.352,1009.12 555.446,1019.34 572.541,1029.72 589.636,1040.26 \n",
       "  606.731,1050.98 623.826,1061.86 640.921,1072.92 658.016,1084.15 675.111,1095.57 692.206,1107.16 709.301,1118.95 726.396,1130.92 743.491,1143.09 760.585,1155.46 \n",
       "  777.68,1168.03 794.775,1180.8 811.87,1193.79 828.965,1206.99 846.06,1220.4 863.155,1234.04 880.25,1247.9 897.345,1261.99 914.44,1276.32 931.535,1290.89 \n",
       "  948.63,1305.7 965.725,1320.76 982.819,1336.08 999.914,1351.65 1017.01,1367.49 1034.1,1383.6 1051.2,1399.98 1068.29,1416.64 1085.39,1433.58 1102.48,1450.82 \n",
       "  1119.58,1468.36 \n",
       "  \"/>\n",
       "<path clip-path=\"url(#clip310)\" d=\"\n",
       "M885.647 972.231 L1115.02 972.231 L1115.02 868.551 L885.647 868.551  Z\n",
       "  \" fill=\"#ffffff\" fill-rule=\"evenodd\" fill-opacity=\"1\"/>\n",
       "<polyline clip-path=\"url(#clip310)\" style=\"stroke:#000000; stroke-linecap:butt; stroke-linejoin:round; stroke-width:4; stroke-opacity:1; fill:none\" points=\"\n",
       "  885.647,972.231 1115.02,972.231 1115.02,868.551 885.647,868.551 885.647,972.231 \n",
       "  \"/>\n",
       "<polyline clip-path=\"url(#clip310)\" style=\"stroke:#009af9; stroke-linecap:butt; stroke-linejoin:round; stroke-width:4; stroke-opacity:1; fill:none\" points=\"\n",
       "  895.714,920.391 956.116,920.391 \n",
       "  \"/>\n",
       "<path clip-path=\"url(#clip310)\" d=\"M982.688 901.653 L982.688 905.194 L978.614 905.194 Q976.322 905.194 975.419 906.12 Q974.54 907.046 974.54 909.453 L974.54 911.745 L981.553 911.745 L981.553 915.055 L974.54 915.055 L974.54 937.671 L970.257 937.671 L970.257 915.055 L966.183 915.055 L966.183 911.745 L970.257 911.745 L970.257 909.94 Q970.257 905.611 972.271 903.643 Q974.285 901.653 978.66 901.653 L982.688 901.653 Z\" fill=\"#000000\" fill-rule=\"evenodd\" fill-opacity=\"1\" /><path clip-path=\"url(#clip310)\" d=\"M990.28 903.111 L990.28 915.958 L986.345 915.958 L986.345 903.111 L990.28 903.111 Z\" fill=\"#000000\" fill-rule=\"evenodd\" fill-opacity=\"1\" /><path clip-path=\"url(#clip310)\" d=\"M1003.31 903.111 L1003.31 915.958 L999.377 915.958 L999.377 903.111 L1003.31 903.111 Z\" fill=\"#000000\" fill-rule=\"evenodd\" fill-opacity=\"1\" /><path clip-path=\"url(#clip310)\" d=\"M1016.34 903.111 L1016.34 915.958 L1012.41 915.958 L1012.41 903.111 L1016.34 903.111 Z\" fill=\"#000000\" fill-rule=\"evenodd\" fill-opacity=\"1\" /><path clip-path=\"url(#clip310)\" d=\"M1029.38 903.111 L1029.38 915.958 L1025.44 915.958 L1025.44 903.111 L1029.38 903.111 Z\" fill=\"#000000\" fill-rule=\"evenodd\" fill-opacity=\"1\" /><path clip-path=\"url(#clip310)\" d=\"M1048.61 901.699 Q1045.51 907.023 1044.01 912.231 Q1042.5 917.44 1042.5 922.787 Q1042.5 928.134 1044.01 933.389 Q1045.53 938.62 1048.61 943.921 L1044.91 943.921 Q1041.44 938.481 1039.7 933.226 Q1037.99 927.972 1037.99 922.787 Q1037.99 917.625 1039.7 912.393 Q1041.41 907.162 1044.91 901.699 L1048.61 901.699 Z\" fill=\"#000000\" fill-rule=\"evenodd\" fill-opacity=\"1\" /><path clip-path=\"url(#clip310)\" d=\"M1078.43 911.745 L1069.05 924.361 L1078.91 937.671 L1073.89 937.671 L1066.34 927.486 L1058.8 937.671 L1053.78 937.671 L1063.84 924.106 L1054.63 911.745 L1059.65 911.745 L1066.53 920.981 L1073.4 911.745 L1078.43 911.745 Z\" fill=\"#000000\" fill-rule=\"evenodd\" fill-opacity=\"1\" /><path clip-path=\"url(#clip310)\" d=\"M1084.26 901.699 L1087.96 901.699 Q1091.44 907.162 1093.15 912.393 Q1094.89 917.625 1094.89 922.787 Q1094.89 927.972 1093.15 933.226 Q1091.44 938.481 1087.96 943.921 L1084.26 943.921 Q1087.34 938.62 1088.84 933.389 Q1090.37 928.134 1090.37 922.787 Q1090.37 917.44 1088.84 912.231 Q1087.34 907.023 1084.26 901.699 Z\" fill=\"#000000\" fill-rule=\"evenodd\" fill-opacity=\"1\" /></svg>\n"
      ]
     },
     "execution_count": 80,
     "metadata": {},
     "output_type": "execute_result"
    }
   ],
   "source": [
    "f(x)=2/(x-4)\n",
    "df(x)=-2/(x-4)^(2)\n",
    "d2f(x)=4/(x-4)^(3)\n",
    "d3f(x)=-12/(x-4)^(4)\n",
    "d4f(x)=48/(x-4)^(5)\n",
    "a=0\n",
    "b=0.5\n",
    "p1 = plot(2:0.001:6,f,label=\"f(x)=2/(x-4)\")\n",
    "p2 = plot(0:0.01:0.5,d2f,label=\"f''(x)\")\n",
    "p3 = plot(0:0.01:0.5,d4f,label=\"f''''(x)\")\n",
    "plot(p1,p2,p3)"
   ]
  },
  {
   "cell_type": "code",
   "execution_count": 81,
   "metadata": {},
   "outputs": [
    {
     "data": {
      "text/plain": [
       "N_pm (generic function with 1 method)"
      ]
     },
     "execution_count": 81,
     "metadata": {},
     "output_type": "execute_result"
    }
   ],
   "source": [
    "function N_pm(error,M,a,b)               ### M=max[a,b]{|f''(e)|}\n",
    "    c2=M\n",
    "    N=sqrt((b-a)^3*c2/(24*error))+1\n",
    "    return N\n",
    "end "
   ]
  },
  {
   "cell_type": "code",
   "execution_count": 82,
   "metadata": {},
   "outputs": [
    {
     "data": {
      "text/plain": [
       "70.70714806775237"
      ]
     },
     "execution_count": 82,
     "metadata": {},
     "output_type": "execute_result"
    }
   ],
   "source": [
    "error=1e-7\n",
    "M=abs(d2f(b))\n",
    "N_pm(error,M,a,b) "
   ]
  },
  {
   "cell_type": "code",
   "execution_count": 83,
   "metadata": {},
   "outputs": [
    {
     "data": {
      "text/plain": [
       "N_t (generic function with 1 method)"
      ]
     },
     "execution_count": 83,
     "metadata": {},
     "output_type": "execute_result"
    }
   ],
   "source": [
    "function N_t(error,M,a,b)               ### M=max[a,b]{|f''(e)|}\n",
    "    c2=M\n",
    "    N=sqrt((b-a)^3*c2/(12*error))+1\n",
    "    return N\n",
    "end "
   ]
  },
  {
   "cell_type": "code",
   "execution_count": 84,
   "metadata": {},
   "outputs": [
    {
     "data": {
      "text/plain": [
       "99.5807941917649"
      ]
     },
     "execution_count": 84,
     "metadata": {},
     "output_type": "execute_result"
    }
   ],
   "source": [
    "M=abs(d2f(b))\n",
    "N_t(error,M,a,b) "
   ]
  },
  {
   "cell_type": "code",
   "execution_count": 85,
   "metadata": {},
   "outputs": [
    {
     "data": {
      "text/plain": [
       "N_s (generic function with 1 method)"
      ]
     },
     "execution_count": 85,
     "metadata": {},
     "output_type": "execute_result"
    }
   ],
   "source": [
    "function N_s(error,M,a,b)               ### M=max[a,b]{|f''(e)|}\n",
    "    c4=M\n",
    "    N=((b-a)^5*c4/(90*2^5*error))^(1.0/4)+1\n",
    "    return Int64(ceil(N))            #### Int64(floor(N+1))\n",
    "end     "
   ]
  },
  {
   "cell_type": "code",
   "execution_count": 86,
   "metadata": {},
   "outputs": [
    {
     "data": {
      "text/plain": [
       "3"
      ]
     },
     "execution_count": 86,
     "metadata": {},
     "output_type": "execute_result"
    }
   ],
   "source": [
    "error1=1e-7\n",
    "M=abs(d4f(b))\n",
    "N_s(error1,M,a,b) "
   ]
  },
  {
   "cell_type": "code",
   "execution_count": null,
   "metadata": {},
   "outputs": [],
   "source": []
  },
  {
   "cell_type": "markdown",
   "metadata": {},
   "source": [
    "***4.2.b.***"
   ]
  },
  {
   "cell_type": "code",
   "execution_count": 87,
   "metadata": {},
   "outputs": [
    {
     "data": {
      "image/svg+xml": [
       "<?xml version=\"1.0\" encoding=\"utf-8\"?>\n",
       "<svg xmlns=\"http://www.w3.org/2000/svg\" xmlns:xlink=\"http://www.w3.org/1999/xlink\" width=\"600\" height=\"400\" viewBox=\"0 0 2400 1600\">\n",
       "<defs>\n",
       "  <clipPath id=\"clip350\">\n",
       "    <rect x=\"0\" y=\"0\" width=\"2400\" height=\"1600\"/>\n",
       "  </clipPath>\n",
       "</defs>\n",
       "<path clip-path=\"url(#clip350)\" d=\"\n",
       "M0 1600 L2400 1600 L2400 0 L0 0  Z\n",
       "  \" fill=\"#ffffff\" fill-rule=\"evenodd\" fill-opacity=\"1\"/>\n",
       "<defs>\n",
       "  <clipPath id=\"clip351\">\n",
       "    <rect x=\"480\" y=\"0\" width=\"1681\" height=\"1600\"/>\n",
       "  </clipPath>\n",
       "</defs>\n",
       "<path clip-path=\"url(#clip350)\" d=\"\n",
       "M224.098 686.448 L1186.75 686.448 L1186.75 47.2441 L224.098 47.2441  Z\n",
       "  \" fill=\"#ffffff\" fill-rule=\"evenodd\" fill-opacity=\"1\"/>\n",
       "<defs>\n",
       "  <clipPath id=\"clip352\">\n",
       "    <rect x=\"224\" y=\"47\" width=\"964\" height=\"640\"/>\n",
       "  </clipPath>\n",
       "</defs>\n",
       "<polyline clip-path=\"url(#clip352)\" style=\"stroke:#000000; stroke-linecap:butt; stroke-linejoin:round; stroke-width:2; stroke-opacity:0.1; fill:none\" points=\"\n",
       "  251.343,686.448 251.343,47.2441 \n",
       "  \"/>\n",
       "<polyline clip-path=\"url(#clip352)\" style=\"stroke:#000000; stroke-linecap:butt; stroke-linejoin:round; stroke-width:2; stroke-opacity:0.1; fill:none\" points=\"\n",
       "  478.383,686.448 478.383,47.2441 \n",
       "  \"/>\n",
       "<polyline clip-path=\"url(#clip352)\" style=\"stroke:#000000; stroke-linecap:butt; stroke-linejoin:round; stroke-width:2; stroke-opacity:0.1; fill:none\" points=\"\n",
       "  705.423,686.448 705.423,47.2441 \n",
       "  \"/>\n",
       "<polyline clip-path=\"url(#clip352)\" style=\"stroke:#000000; stroke-linecap:butt; stroke-linejoin:round; stroke-width:2; stroke-opacity:0.1; fill:none\" points=\"\n",
       "  932.464,686.448 932.464,47.2441 \n",
       "  \"/>\n",
       "<polyline clip-path=\"url(#clip352)\" style=\"stroke:#000000; stroke-linecap:butt; stroke-linejoin:round; stroke-width:2; stroke-opacity:0.1; fill:none\" points=\"\n",
       "  1159.5,686.448 1159.5,47.2441 \n",
       "  \"/>\n",
       "<polyline clip-path=\"url(#clip350)\" style=\"stroke:#000000; stroke-linecap:butt; stroke-linejoin:round; stroke-width:4; stroke-opacity:1; fill:none\" points=\"\n",
       "  224.098,686.448 1186.75,686.448 \n",
       "  \"/>\n",
       "<polyline clip-path=\"url(#clip350)\" style=\"stroke:#000000; stroke-linecap:butt; stroke-linejoin:round; stroke-width:4; stroke-opacity:1; fill:none\" points=\"\n",
       "  251.343,686.448 251.343,667.55 \n",
       "  \"/>\n",
       "<polyline clip-path=\"url(#clip350)\" style=\"stroke:#000000; stroke-linecap:butt; stroke-linejoin:round; stroke-width:4; stroke-opacity:1; fill:none\" points=\"\n",
       "  478.383,686.448 478.383,667.55 \n",
       "  \"/>\n",
       "<polyline clip-path=\"url(#clip350)\" style=\"stroke:#000000; stroke-linecap:butt; stroke-linejoin:round; stroke-width:4; stroke-opacity:1; fill:none\" points=\"\n",
       "  705.423,686.448 705.423,667.55 \n",
       "  \"/>\n",
       "<polyline clip-path=\"url(#clip350)\" style=\"stroke:#000000; stroke-linecap:butt; stroke-linejoin:round; stroke-width:4; stroke-opacity:1; fill:none\" points=\"\n",
       "  932.464,686.448 932.464,667.55 \n",
       "  \"/>\n",
       "<polyline clip-path=\"url(#clip350)\" style=\"stroke:#000000; stroke-linecap:butt; stroke-linejoin:round; stroke-width:4; stroke-opacity:1; fill:none\" points=\"\n",
       "  1159.5,686.448 1159.5,667.55 \n",
       "  \"/>\n",
       "<path clip-path=\"url(#clip350)\" d=\"M245.996 744.913 L262.315 744.913 L262.315 748.848 L240.371 748.848 L240.371 744.913 Q243.033 742.158 247.616 737.528 Q252.222 732.876 253.403 731.533 Q255.648 729.01 256.528 727.274 Q257.431 725.515 257.431 723.825 Q257.431 721.07 255.486 719.334 Q253.565 717.598 250.463 717.598 Q248.264 717.598 245.81 718.362 Q243.38 719.126 240.602 720.677 L240.602 715.955 Q243.426 714.82 245.88 714.242 Q248.333 713.663 250.37 713.663 Q255.741 713.663 258.935 716.348 Q262.13 719.033 262.13 723.524 Q262.13 725.654 261.32 727.575 Q260.532 729.473 258.426 732.066 Q257.847 732.737 254.745 735.954 Q251.644 739.149 245.996 744.913 Z\" fill=\"#000000\" fill-rule=\"evenodd\" fill-opacity=\"1\" /><path clip-path=\"url(#clip350)\" d=\"M482.631 730.214 Q485.987 730.931 487.862 733.2 Q489.76 735.468 489.76 738.802 Q489.76 743.917 486.242 746.718 Q482.723 749.519 476.242 749.519 Q474.066 749.519 471.751 749.079 Q469.459 748.663 467.006 747.806 L467.006 743.292 Q468.95 744.427 471.265 745.005 Q473.58 745.584 476.103 745.584 Q480.501 745.584 482.793 743.848 Q485.108 742.112 485.108 738.802 Q485.108 735.746 482.955 734.033 Q480.825 732.297 477.006 732.297 L472.978 732.297 L472.978 728.454 L477.191 728.454 Q480.64 728.454 482.469 727.089 Q484.297 725.7 484.297 723.107 Q484.297 720.445 482.399 719.033 Q480.524 717.598 477.006 717.598 Q475.084 717.598 472.885 718.015 Q470.686 718.431 468.047 719.311 L468.047 715.144 Q470.709 714.404 473.024 714.033 Q475.362 713.663 477.422 713.663 Q482.746 713.663 485.848 716.093 Q488.95 718.501 488.95 722.621 Q488.95 725.492 487.307 727.482 Q485.663 729.45 482.631 730.214 Z\" fill=\"#000000\" fill-rule=\"evenodd\" fill-opacity=\"1\" /><path clip-path=\"url(#clip350)\" d=\"M708.433 718.362 L696.627 736.811 L708.433 736.811 L708.433 718.362 M707.206 714.288 L713.085 714.288 L713.085 736.811 L718.016 736.811 L718.016 740.7 L713.085 740.7 L713.085 748.848 L708.433 748.848 L708.433 740.7 L692.831 740.7 L692.831 736.186 L707.206 714.288 Z\" fill=\"#000000\" fill-rule=\"evenodd\" fill-opacity=\"1\" /><path clip-path=\"url(#clip350)\" d=\"M922.741 714.288 L941.098 714.288 L941.098 718.223 L927.024 718.223 L927.024 726.695 Q928.042 726.348 929.061 726.186 Q930.079 726.001 931.098 726.001 Q936.885 726.001 940.265 729.172 Q943.644 732.343 943.644 737.76 Q943.644 743.339 940.172 746.44 Q936.7 749.519 930.38 749.519 Q928.204 749.519 925.936 749.149 Q923.691 748.778 921.283 748.038 L921.283 743.339 Q923.366 744.473 925.589 745.028 Q927.811 745.584 930.288 745.584 Q934.292 745.584 936.63 743.478 Q938.968 741.371 938.968 737.76 Q938.968 734.149 936.63 732.042 Q934.292 729.936 930.288 729.936 Q928.413 729.936 926.538 730.353 Q924.686 730.769 922.741 731.649 L922.741 714.288 Z\" fill=\"#000000\" fill-rule=\"evenodd\" fill-opacity=\"1\" /><path clip-path=\"url(#clip350)\" d=\"M1159.91 729.704 Q1156.76 729.704 1154.91 731.857 Q1153.08 734.01 1153.08 737.76 Q1153.08 741.487 1154.91 743.663 Q1156.76 745.815 1159.91 745.815 Q1163.06 745.815 1164.89 743.663 Q1166.74 741.487 1166.74 737.76 Q1166.74 734.01 1164.89 731.857 Q1163.06 729.704 1159.91 729.704 M1169.19 715.052 L1169.19 719.311 Q1167.43 718.478 1165.63 718.038 Q1163.84 717.598 1162.08 717.598 Q1157.46 717.598 1155 720.723 Q1152.57 723.848 1152.22 730.167 Q1153.59 728.154 1155.65 727.089 Q1157.71 726.001 1160.19 726.001 Q1165.4 726.001 1168.4 729.172 Q1171.44 732.32 1171.44 737.76 Q1171.44 743.084 1168.29 746.302 Q1165.14 749.519 1159.91 749.519 Q1153.91 749.519 1150.74 744.936 Q1147.57 740.329 1147.57 731.603 Q1147.57 723.408 1151.46 718.547 Q1155.35 713.663 1161.9 713.663 Q1163.66 713.663 1165.44 714.01 Q1167.25 714.357 1169.19 715.052 Z\" fill=\"#000000\" fill-rule=\"evenodd\" fill-opacity=\"1\" /><polyline clip-path=\"url(#clip352)\" style=\"stroke:#000000; stroke-linecap:butt; stroke-linejoin:round; stroke-width:2; stroke-opacity:0.1; fill:none\" points=\"\n",
       "  224.098,597.756 1186.75,597.756 \n",
       "  \"/>\n",
       "<polyline clip-path=\"url(#clip352)\" style=\"stroke:#000000; stroke-linecap:butt; stroke-linejoin:round; stroke-width:2; stroke-opacity:0.1; fill:none\" points=\"\n",
       "  224.098,500.07 1186.75,500.07 \n",
       "  \"/>\n",
       "<polyline clip-path=\"url(#clip352)\" style=\"stroke:#000000; stroke-linecap:butt; stroke-linejoin:round; stroke-width:2; stroke-opacity:0.1; fill:none\" points=\"\n",
       "  224.098,402.384 1186.75,402.384 \n",
       "  \"/>\n",
       "<polyline clip-path=\"url(#clip352)\" style=\"stroke:#000000; stroke-linecap:butt; stroke-linejoin:round; stroke-width:2; stroke-opacity:0.1; fill:none\" points=\"\n",
       "  224.098,304.698 1186.75,304.698 \n",
       "  \"/>\n",
       "<polyline clip-path=\"url(#clip352)\" style=\"stroke:#000000; stroke-linecap:butt; stroke-linejoin:round; stroke-width:2; stroke-opacity:0.1; fill:none\" points=\"\n",
       "  224.098,207.012 1186.75,207.012 \n",
       "  \"/>\n",
       "<polyline clip-path=\"url(#clip352)\" style=\"stroke:#000000; stroke-linecap:butt; stroke-linejoin:round; stroke-width:2; stroke-opacity:0.1; fill:none\" points=\"\n",
       "  224.098,109.326 1186.75,109.326 \n",
       "  \"/>\n",
       "<polyline clip-path=\"url(#clip350)\" style=\"stroke:#000000; stroke-linecap:butt; stroke-linejoin:round; stroke-width:4; stroke-opacity:1; fill:none\" points=\"\n",
       "  224.098,686.448 224.098,47.2441 \n",
       "  \"/>\n",
       "<polyline clip-path=\"url(#clip350)\" style=\"stroke:#000000; stroke-linecap:butt; stroke-linejoin:round; stroke-width:4; stroke-opacity:1; fill:none\" points=\"\n",
       "  224.098,597.756 242.996,597.756 \n",
       "  \"/>\n",
       "<polyline clip-path=\"url(#clip350)\" style=\"stroke:#000000; stroke-linecap:butt; stroke-linejoin:round; stroke-width:4; stroke-opacity:1; fill:none\" points=\"\n",
       "  224.098,500.07 242.996,500.07 \n",
       "  \"/>\n",
       "<polyline clip-path=\"url(#clip350)\" style=\"stroke:#000000; stroke-linecap:butt; stroke-linejoin:round; stroke-width:4; stroke-opacity:1; fill:none\" points=\"\n",
       "  224.098,402.384 242.996,402.384 \n",
       "  \"/>\n",
       "<polyline clip-path=\"url(#clip350)\" style=\"stroke:#000000; stroke-linecap:butt; stroke-linejoin:round; stroke-width:4; stroke-opacity:1; fill:none\" points=\"\n",
       "  224.098,304.698 242.996,304.698 \n",
       "  \"/>\n",
       "<polyline clip-path=\"url(#clip350)\" style=\"stroke:#000000; stroke-linecap:butt; stroke-linejoin:round; stroke-width:4; stroke-opacity:1; fill:none\" points=\"\n",
       "  224.098,207.012 242.996,207.012 \n",
       "  \"/>\n",
       "<polyline clip-path=\"url(#clip350)\" style=\"stroke:#000000; stroke-linecap:butt; stroke-linejoin:round; stroke-width:4; stroke-opacity:1; fill:none\" points=\"\n",
       "  224.098,109.326 242.996,109.326 \n",
       "  \"/>\n",
       "<path clip-path=\"url(#clip350)\" d=\"M136.802 611.1 L144.441 611.1 L144.441 584.735 L136.131 586.401 L136.131 582.142 L144.394 580.476 L149.07 580.476 L149.07 611.1 L156.709 611.1 L156.709 615.036 L136.802 615.036 L136.802 611.1 Z\" fill=\"#000000\" fill-rule=\"evenodd\" fill-opacity=\"1\" /><path clip-path=\"url(#clip350)\" d=\"M176.153 583.554 Q172.542 583.554 170.714 587.119 Q168.908 590.661 168.908 597.79 Q168.908 604.897 170.714 608.462 Q172.542 612.003 176.153 612.003 Q179.788 612.003 181.593 608.462 Q183.422 604.897 183.422 597.79 Q183.422 590.661 181.593 587.119 Q179.788 583.554 176.153 583.554 M176.153 579.851 Q181.964 579.851 185.019 584.457 Q188.098 589.04 188.098 597.79 Q188.098 606.517 185.019 611.124 Q181.964 615.707 176.153 615.707 Q170.343 615.707 167.265 611.124 Q164.209 606.517 164.209 597.79 Q164.209 589.04 167.265 584.457 Q170.343 579.851 176.153 579.851 Z\" fill=\"#000000\" fill-rule=\"evenodd\" fill-opacity=\"1\" /><path clip-path=\"url(#clip350)\" d=\"M140.019 513.415 L156.339 513.415 L156.339 517.35 L134.394 517.35 L134.394 513.415 Q137.056 510.66 141.64 506.03 Q146.246 501.378 147.427 500.035 Q149.672 497.512 150.552 495.776 Q151.455 494.016 151.455 492.327 Q151.455 489.572 149.51 487.836 Q147.589 486.1 144.487 486.1 Q142.288 486.1 139.834 486.864 Q137.404 487.628 134.626 489.179 L134.626 484.456 Q137.45 483.322 139.904 482.743 Q142.357 482.165 144.394 482.165 Q149.765 482.165 152.959 484.85 Q156.154 487.535 156.154 492.026 Q156.154 494.155 155.343 496.077 Q154.556 497.975 152.45 500.567 Q151.871 501.239 148.769 504.456 Q145.668 507.651 140.019 513.415 Z\" fill=\"#000000\" fill-rule=\"evenodd\" fill-opacity=\"1\" /><path clip-path=\"url(#clip350)\" d=\"M176.153 485.868 Q172.542 485.868 170.714 489.433 Q168.908 492.975 168.908 500.104 Q168.908 507.211 170.714 510.776 Q172.542 514.317 176.153 514.317 Q179.788 514.317 181.593 510.776 Q183.422 507.211 183.422 500.104 Q183.422 492.975 181.593 489.433 Q179.788 485.868 176.153 485.868 M176.153 482.165 Q181.964 482.165 185.019 486.771 Q188.098 491.354 188.098 500.104 Q188.098 508.831 185.019 513.438 Q181.964 518.021 176.153 518.021 Q170.343 518.021 167.265 513.438 Q164.209 508.831 164.209 500.104 Q164.209 491.354 167.265 486.771 Q170.343 482.165 176.153 482.165 Z\" fill=\"#000000\" fill-rule=\"evenodd\" fill-opacity=\"1\" /><path clip-path=\"url(#clip350)\" d=\"M150.158 401.03 Q153.515 401.747 155.39 404.016 Q157.288 406.284 157.288 409.618 Q157.288 414.733 153.769 417.534 Q150.251 420.335 143.769 420.335 Q141.593 420.335 139.279 419.895 Q136.987 419.479 134.533 418.622 L134.533 414.108 Q136.478 415.242 138.793 415.821 Q141.107 416.4 143.631 416.4 Q148.029 416.4 150.32 414.664 Q152.635 412.928 152.635 409.618 Q152.635 406.562 150.482 404.849 Q148.353 403.113 144.533 403.113 L140.506 403.113 L140.506 399.27 L144.718 399.27 Q148.168 399.27 149.996 397.905 Q151.825 396.516 151.825 393.923 Q151.825 391.261 149.927 389.849 Q148.052 388.414 144.533 388.414 Q142.612 388.414 140.413 388.831 Q138.214 389.247 135.575 390.127 L135.575 385.96 Q138.237 385.22 140.552 384.849 Q142.89 384.479 144.95 384.479 Q150.274 384.479 153.376 386.909 Q156.478 389.317 156.478 393.437 Q156.478 396.307 154.834 398.298 Q153.191 400.266 150.158 401.03 Z\" fill=\"#000000\" fill-rule=\"evenodd\" fill-opacity=\"1\" /><path clip-path=\"url(#clip350)\" d=\"M176.153 388.182 Q172.542 388.182 170.714 391.747 Q168.908 395.289 168.908 402.418 Q168.908 409.525 170.714 413.09 Q172.542 416.631 176.153 416.631 Q179.788 416.631 181.593 413.09 Q183.422 409.525 183.422 402.418 Q183.422 395.289 181.593 391.747 Q179.788 388.182 176.153 388.182 M176.153 384.479 Q181.964 384.479 185.019 389.085 Q188.098 393.669 188.098 402.418 Q188.098 411.145 185.019 415.752 Q181.964 420.335 176.153 420.335 Q170.343 420.335 167.265 415.752 Q164.209 411.145 164.209 402.418 Q164.209 393.669 167.265 389.085 Q170.343 384.479 176.153 384.479 Z\" fill=\"#000000\" fill-rule=\"evenodd\" fill-opacity=\"1\" /><path clip-path=\"url(#clip350)\" d=\"M148.839 291.492 L137.033 309.941 L148.839 309.941 L148.839 291.492 M147.612 287.418 L153.492 287.418 L153.492 309.941 L158.422 309.941 L158.422 313.83 L153.492 313.83 L153.492 321.978 L148.839 321.978 L148.839 313.83 L133.237 313.83 L133.237 309.316 L147.612 287.418 Z\" fill=\"#000000\" fill-rule=\"evenodd\" fill-opacity=\"1\" /><path clip-path=\"url(#clip350)\" d=\"M176.153 290.497 Q172.542 290.497 170.714 294.061 Q168.908 297.603 168.908 304.733 Q168.908 311.839 170.714 315.404 Q172.542 318.945 176.153 318.945 Q179.788 318.945 181.593 315.404 Q183.422 311.839 183.422 304.733 Q183.422 297.603 181.593 294.061 Q179.788 290.497 176.153 290.497 M176.153 286.793 Q181.964 286.793 185.019 291.399 Q188.098 295.983 188.098 304.733 Q188.098 313.459 185.019 318.066 Q181.964 322.649 176.153 322.649 Q170.343 322.649 167.265 318.066 Q164.209 313.459 164.209 304.733 Q164.209 295.983 167.265 291.399 Q170.343 286.793 176.153 286.793 Z\" fill=\"#000000\" fill-rule=\"evenodd\" fill-opacity=\"1\" /><path clip-path=\"url(#clip350)\" d=\"M136.038 189.732 L154.394 189.732 L154.394 193.667 L140.32 193.667 L140.32 202.139 Q141.339 201.792 142.357 201.63 Q143.376 201.445 144.394 201.445 Q150.181 201.445 153.561 204.616 Q156.941 207.787 156.941 213.204 Q156.941 218.783 153.468 221.885 Q149.996 224.963 143.677 224.963 Q141.501 224.963 139.232 224.593 Q136.987 224.223 134.58 223.482 L134.58 218.783 Q136.663 219.917 138.885 220.473 Q141.107 221.028 143.584 221.028 Q147.589 221.028 149.927 218.922 Q152.265 216.815 152.265 213.204 Q152.265 209.593 149.927 207.486 Q147.589 205.38 143.584 205.38 Q141.709 205.38 139.834 205.797 Q137.982 206.213 136.038 207.093 L136.038 189.732 Z\" fill=\"#000000\" fill-rule=\"evenodd\" fill-opacity=\"1\" /><path clip-path=\"url(#clip350)\" d=\"M176.153 192.811 Q172.542 192.811 170.714 196.375 Q168.908 199.917 168.908 207.047 Q168.908 214.153 170.714 217.718 Q172.542 221.26 176.153 221.26 Q179.788 221.26 181.593 217.718 Q183.422 214.153 183.422 207.047 Q183.422 199.917 181.593 196.375 Q179.788 192.811 176.153 192.811 M176.153 189.107 Q181.964 189.107 185.019 193.713 Q188.098 198.297 188.098 207.047 Q188.098 215.773 185.019 220.38 Q181.964 224.963 176.153 224.963 Q170.343 224.963 167.265 220.38 Q164.209 215.773 164.209 207.047 Q164.209 198.297 167.265 193.713 Q170.343 189.107 176.153 189.107 Z\" fill=\"#000000\" fill-rule=\"evenodd\" fill-opacity=\"1\" /><path clip-path=\"url(#clip350)\" d=\"M146.57 107.463 Q143.422 107.463 141.57 109.615 Q139.742 111.768 139.742 115.518 Q139.742 119.245 141.57 121.421 Q143.422 123.574 146.57 123.574 Q149.718 123.574 151.547 121.421 Q153.399 119.245 153.399 115.518 Q153.399 111.768 151.547 109.615 Q149.718 107.463 146.57 107.463 M155.853 92.8099 L155.853 97.0692 Q154.093 96.2359 152.288 95.796 Q150.505 95.3562 148.746 95.3562 Q144.117 95.3562 141.663 98.4812 Q139.232 101.606 138.885 107.926 Q140.251 105.912 142.311 104.847 Q144.371 103.759 146.848 103.759 Q152.056 103.759 155.066 106.93 Q158.098 110.078 158.098 115.518 Q158.098 120.842 154.95 124.06 Q151.802 127.277 146.57 127.277 Q140.575 127.277 137.404 122.694 Q134.232 118.088 134.232 109.361 Q134.232 101.166 138.121 96.3053 Q142.01 91.4211 148.561 91.4211 Q150.32 91.4211 152.103 91.7683 Q153.908 92.1155 155.853 92.8099 Z\" fill=\"#000000\" fill-rule=\"evenodd\" fill-opacity=\"1\" /><path clip-path=\"url(#clip350)\" d=\"M176.153 95.1247 Q172.542 95.1247 170.714 98.6895 Q168.908 102.231 168.908 109.361 Q168.908 116.467 170.714 120.032 Q172.542 123.574 176.153 123.574 Q179.788 123.574 181.593 120.032 Q183.422 116.467 183.422 109.361 Q183.422 102.231 181.593 98.6895 Q179.788 95.1247 176.153 95.1247 M176.153 91.4211 Q181.964 91.4211 185.019 96.0275 Q188.098 100.611 188.098 109.361 Q188.098 118.088 185.019 122.694 Q181.964 127.277 176.153 127.277 Q170.343 127.277 167.265 122.694 Q164.209 118.088 164.209 109.361 Q164.209 100.611 167.265 96.0275 Q170.343 91.4211 176.153 91.4211 Z\" fill=\"#000000\" fill-rule=\"evenodd\" fill-opacity=\"1\" /><polyline clip-path=\"url(#clip352)\" style=\"stroke:#009af9; stroke-linecap:butt; stroke-linejoin:round; stroke-width:4; stroke-opacity:1; fill:none\" points=\"\n",
       "  251.343,668.357 251.57,668.311 251.797,668.264 252.024,668.217 252.251,668.17 252.478,668.124 252.705,668.077 252.932,668.03 253.159,667.983 253.386,667.936 \n",
       "  253.613,667.889 253.84,667.842 254.067,667.795 254.294,667.747 254.521,667.7 254.748,667.653 254.975,667.606 255.202,667.558 255.429,667.511 255.656,667.464 \n",
       "  255.884,667.416 256.111,667.369 256.338,667.321 256.565,667.274 256.792,667.226 257.019,667.178 257.246,667.131 257.473,667.083 257.7,667.035 257.927,666.987 \n",
       "  258.154,666.939 258.381,666.891 258.608,666.843 258.835,666.795 259.062,666.747 259.289,666.699 259.516,666.651 259.743,666.603 259.97,666.555 260.197,666.506 \n",
       "  260.424,666.458 260.651,666.41 260.878,666.361 261.105,666.313 261.332,666.264 261.56,666.216 261.787,666.167 262.014,666.118 262.241,666.07 262.468,666.021 \n",
       "  262.695,665.972 262.922,665.924 263.149,665.875 263.376,665.826 263.603,665.777 263.83,665.728 264.057,665.679 264.284,665.63 264.511,665.581 264.738,665.532 \n",
       "  264.965,665.482 265.192,665.433 265.419,665.384 265.646,665.335 265.873,665.285 266.1,665.236 266.327,665.186 266.554,665.137 266.781,665.087 267.008,665.038 \n",
       "  267.236,664.988 267.463,664.939 267.69,664.889 267.917,664.839 268.144,664.789 268.371,664.739 268.598,664.69 268.825,664.64 269.052,664.59 269.279,664.54 \n",
       "  269.506,664.49 269.733,664.439 269.96,664.389 270.187,664.339 270.414,664.289 270.641,664.239 270.868,664.188 271.095,664.138 271.322,664.088 271.549,664.037 \n",
       "  271.776,663.987 272.003,663.936 272.23,663.885 272.457,663.835 272.684,663.784 272.912,663.733 273.139,663.683 273.366,663.632 273.593,663.581 273.82,663.53 \n",
       "  274.047,663.479 274.274,663.428 274.501,663.377 274.728,663.326 274.955,663.275 275.182,663.224 275.409,663.173 275.636,663.121 275.863,663.07 276.09,663.019 \n",
       "  276.317,662.967 276.544,662.916 276.771,662.865 276.998,662.813 277.225,662.762 277.452,662.71 277.679,662.658 277.906,662.607 278.133,662.555 278.361,662.503 \n",
       "  278.588,662.451 278.815,662.399 279.042,662.348 279.269,662.296 279.496,662.244 279.723,662.192 279.95,662.14 280.177,662.087 280.404,662.035 280.631,661.983 \n",
       "  280.858,661.931 281.085,661.879 281.312,661.826 281.539,661.774 281.766,661.721 281.993,661.669 282.22,661.616 282.447,661.564 282.674,661.511 282.901,661.459 \n",
       "  283.128,661.406 283.355,661.353 283.582,661.3 283.809,661.248 284.037,661.195 284.264,661.142 284.491,661.089 284.718,661.036 284.945,660.983 285.172,660.93 \n",
       "  285.399,660.877 285.626,660.823 285.853,660.77 286.08,660.717 286.307,660.664 286.534,660.61 286.761,660.557 286.988,660.503 287.215,660.45 287.442,660.396 \n",
       "  287.669,660.343 287.896,660.289 288.123,660.235 288.35,660.182 288.577,660.128 288.804,660.074 289.031,660.02 289.258,659.966 289.485,659.913 289.713,659.859 \n",
       "  289.94,659.805 290.167,659.751 290.394,659.696 290.621,659.642 290.848,659.588 291.075,659.534 291.302,659.48 291.529,659.425 291.756,659.371 291.983,659.316 \n",
       "  292.21,659.262 292.437,659.207 292.664,659.153 292.891,659.098 293.118,659.044 293.345,658.989 293.572,658.934 293.799,658.879 294.026,658.825 294.253,658.77 \n",
       "  294.48,658.715 294.707,658.66 294.934,658.605 295.161,658.55 295.389,658.495 295.616,658.44 295.843,658.384 296.07,658.329 296.297,658.274 296.524,658.219 \n",
       "  296.751,658.163 296.978,658.108 297.205,658.052 297.432,657.997 297.659,657.941 297.886,657.886 298.113,657.83 298.34,657.774 298.567,657.719 298.794,657.663 \n",
       "  299.021,657.607 299.248,657.551 299.475,657.495 299.702,657.44 299.929,657.384 300.156,657.328 300.383,657.271 300.61,657.215 300.837,657.159 301.065,657.103 \n",
       "  301.292,657.047 301.519,656.99 301.746,656.934 301.973,656.878 302.2,656.821 302.427,656.765 302.654,656.708 302.881,656.652 303.108,656.595 303.335,656.538 \n",
       "  303.562,656.482 303.789,656.425 304.016,656.368 304.243,656.311 304.47,656.254 304.697,656.197 304.924,656.141 305.151,656.083 305.378,656.026 305.605,655.969 \n",
       "  305.832,655.912 306.059,655.855 306.286,655.798 306.514,655.74 306.741,655.683 306.968,655.626 307.195,655.568 307.422,655.511 307.649,655.453 307.876,655.396 \n",
       "  308.103,655.338 308.33,655.281 308.557,655.223 308.784,655.165 309.011,655.107 309.238,655.049 309.465,654.992 309.692,654.934 309.919,654.876 310.146,654.818 \n",
       "  310.373,654.76 310.6,654.702 310.827,654.643 311.054,654.585 311.281,654.527 311.508,654.469 311.735,654.41 311.962,654.352 312.19,654.294 312.417,654.235 \n",
       "  312.644,654.177 312.871,654.118 313.098,654.059 313.325,654.001 313.552,653.942 313.779,653.883 314.006,653.825 314.233,653.766 314.46,653.707 314.687,653.648 \n",
       "  314.914,653.589 315.141,653.53 315.368,653.471 315.595,653.412 315.822,653.353 316.049,653.294 316.276,653.234 316.503,653.175 316.73,653.116 316.957,653.056 \n",
       "  317.184,652.997 317.411,652.937 317.638,652.878 317.866,652.818 318.093,652.759 318.32,652.699 318.547,652.639 318.774,652.58 319.001,652.52 319.228,652.46 \n",
       "  319.455,652.4 319.682,652.34 319.909,652.28 320.136,652.22 320.363,652.16 320.59,652.1 320.817,652.04 321.044,651.98 321.271,651.92 321.498,651.859 \n",
       "  321.725,651.799 321.952,651.739 322.179,651.678 322.406,651.618 322.633,651.557 322.86,651.497 323.087,651.436 323.314,651.375 323.542,651.315 323.769,651.254 \n",
       "  323.996,651.193 324.223,651.132 324.45,651.071 324.677,651.011 324.904,650.95 325.131,650.889 325.358,650.828 325.585,650.766 325.812,650.705 326.039,650.644 \n",
       "  326.266,650.583 326.493,650.522 326.72,650.46 326.947,650.399 327.174,650.337 327.401,650.276 327.628,650.214 327.855,650.153 328.082,650.091 328.309,650.03 \n",
       "  328.536,649.968 328.763,649.906 328.99,649.844 329.218,649.782 329.445,649.721 329.672,649.659 329.899,649.597 330.126,649.535 330.353,649.473 330.58,649.41 \n",
       "  330.807,649.348 331.034,649.286 331.261,649.224 331.488,649.162 331.715,649.099 331.942,649.037 332.169,648.974 332.396,648.912 332.623,648.849 332.85,648.787 \n",
       "  333.077,648.724 333.304,648.661 333.531,648.599 333.758,648.536 333.985,648.473 334.212,648.41 334.439,648.347 334.667,648.285 334.894,648.222 335.121,648.158 \n",
       "  335.348,648.095 335.575,648.032 335.802,647.969 336.029,647.906 336.256,647.843 336.483,647.779 336.71,647.716 336.937,647.653 337.164,647.589 337.391,647.526 \n",
       "  337.618,647.462 337.845,647.398 338.072,647.335 338.299,647.271 338.526,647.207 338.753,647.144 338.98,647.08 339.207,647.016 339.434,646.952 339.661,646.888 \n",
       "  339.888,646.824 340.115,646.76 340.343,646.696 340.57,646.632 340.797,646.568 341.024,646.503 341.251,646.439 341.478,646.375 341.705,646.31 341.932,646.246 \n",
       "  342.159,646.181 342.386,646.117 342.613,646.052 342.84,645.988 343.067,645.923 343.294,645.858 343.521,645.794 343.748,645.729 343.975,645.664 344.202,645.599 \n",
       "  344.429,645.534 344.656,645.469 344.883,645.404 345.11,645.339 345.337,645.274 345.564,645.209 345.791,645.144 346.019,645.078 346.246,645.013 346.473,644.948 \n",
       "  346.7,644.882 346.927,644.817 347.154,644.751 347.381,644.686 347.608,644.62 347.835,644.555 348.062,644.489 348.289,644.423 348.516,644.357 348.743,644.292 \n",
       "  348.97,644.226 349.197,644.16 349.424,644.094 349.651,644.028 349.878,643.962 350.105,643.896 350.332,643.829 350.559,643.763 350.786,643.697 351.013,643.631 \n",
       "  351.24,643.564 351.467,643.498 351.695,643.432 351.922,643.365 352.149,643.299 352.376,643.232 352.603,643.165 352.83,643.099 353.057,643.032 353.284,642.965 \n",
       "  353.511,642.898 353.738,642.832 353.965,642.765 354.192,642.698 354.419,642.631 354.646,642.564 354.873,642.497 355.1,642.43 355.327,642.362 355.554,642.295 \n",
       "  355.781,642.228 356.008,642.161 356.235,642.093 356.462,642.026 356.689,641.958 356.916,641.891 357.143,641.823 357.371,641.756 357.598,641.688 357.825,641.62 \n",
       "  358.052,641.553 358.279,641.485 358.506,641.417 358.733,641.349 358.96,641.281 359.187,641.213 359.414,641.145 359.641,641.077 359.868,641.009 360.095,640.941 \n",
       "  360.322,640.873 360.549,640.804 360.776,640.736 361.003,640.668 361.23,640.599 361.457,640.531 361.684,640.462 361.911,640.394 362.138,640.325 362.365,640.257 \n",
       "  362.592,640.188 362.82,640.119 363.047,640.05 363.274,639.982 363.501,639.913 363.728,639.844 363.955,639.775 364.182,639.706 364.409,639.637 364.636,639.568 \n",
       "  364.863,639.499 365.09,639.429 365.317,639.36 365.544,639.291 365.771,639.221 365.998,639.152 366.225,639.083 366.452,639.013 366.679,638.944 366.906,638.874 \n",
       "  367.133,638.804 367.36,638.735 367.587,638.665 367.814,638.595 368.041,638.525 368.268,638.456 368.496,638.386 368.723,638.316 368.95,638.246 369.177,638.176 \n",
       "  369.404,638.106 369.631,638.035 369.858,637.965 370.085,637.895 370.312,637.825 370.539,637.754 370.766,637.684 370.993,637.614 371.22,637.543 371.447,637.473 \n",
       "  371.674,637.402 371.901,637.331 372.128,637.261 372.355,637.19 372.582,637.119 372.809,637.048 373.036,636.978 373.263,636.907 373.49,636.836 373.717,636.765 \n",
       "  373.944,636.694 374.172,636.623 374.399,636.551 374.626,636.48 374.853,636.409 375.08,636.338 375.307,636.266 375.534,636.195 375.761,636.124 375.988,636.052 \n",
       "  376.215,635.981 376.442,635.909 376.669,635.837 376.896,635.766 377.123,635.694 377.35,635.622 377.577,635.55 377.804,635.479 378.031,635.407 378.258,635.335 \n",
       "  378.485,635.263 378.712,635.191 378.939,635.119 379.166,635.046 379.393,634.974 379.62,634.902 379.848,634.83 380.075,634.757 380.302,634.685 380.529,634.613 \n",
       "  380.756,634.54 380.983,634.468 381.21,634.395 381.437,634.322 381.664,634.25 381.891,634.177 382.118,634.104 382.345,634.031 382.572,633.959 382.799,633.886 \n",
       "  383.026,633.813 383.253,633.74 383.48,633.667 383.707,633.594 383.934,633.52 384.161,633.447 384.388,633.374 384.615,633.301 384.842,633.227 385.069,633.154 \n",
       "  385.296,633.081 385.524,633.007 385.751,632.934 385.978,632.86 386.205,632.786 386.432,632.713 386.659,632.639 386.886,632.565 387.113,632.491 387.34,632.418 \n",
       "  387.567,632.344 387.794,632.27 388.021,632.196 388.248,632.122 388.475,632.048 388.702,631.973 388.929,631.899 389.156,631.825 389.383,631.751 389.61,631.676 \n",
       "  389.837,631.602 390.064,631.527 390.291,631.453 390.518,631.378 390.745,631.304 390.972,631.229 391.2,631.155 391.427,631.08 391.654,631.005 391.881,630.93 \n",
       "  392.108,630.855 392.335,630.78 392.562,630.705 392.789,630.63 393.016,630.555 393.243,630.48 393.47,630.405 393.697,630.33 393.924,630.255 394.151,630.179 \n",
       "  394.378,630.104 394.605,630.029 394.832,629.953 395.059,629.878 395.286,629.802 395.513,629.726 395.74,629.651 395.967,629.575 396.194,629.499 396.421,629.424 \n",
       "  396.649,629.348 396.876,629.272 397.103,629.196 397.33,629.12 397.557,629.044 397.784,628.968 398.011,628.892 398.238,628.816 398.465,628.739 398.692,628.663 \n",
       "  398.919,628.587 399.146,628.51 399.373,628.434 399.6,628.358 399.827,628.281 400.054,628.204 400.281,628.128 400.508,628.051 400.735,627.974 400.962,627.898 \n",
       "  401.189,627.821 401.416,627.744 401.643,627.667 401.87,627.59 402.097,627.513 402.325,627.436 402.552,627.359 402.779,627.282 403.006,627.205 403.233,627.128 \n",
       "  403.46,627.05 403.687,626.973 403.914,626.896 404.141,626.818 404.368,626.741 404.595,626.663 404.822,626.585 405.049,626.508 405.276,626.43 405.503,626.352 \n",
       "  405.73,626.275 405.957,626.197 406.184,626.119 406.411,626.041 406.638,625.963 406.865,625.885 407.092,625.807 407.319,625.729 407.546,625.651 407.773,625.573 \n",
       "  408.001,625.494 408.228,625.416 408.455,625.338 408.682,625.259 408.909,625.181 409.136,625.102 409.363,625.024 409.59,624.945 409.817,624.866 410.044,624.788 \n",
       "  410.271,624.709 410.498,624.63 410.725,624.551 410.952,624.472 411.179,624.394 411.406,624.315 411.633,624.236 411.86,624.156 412.087,624.077 412.314,623.998 \n",
       "  412.541,623.919 412.768,623.84 412.995,623.76 413.222,623.681 413.449,623.601 413.677,623.522 413.904,623.442 414.131,623.363 414.358,623.283 414.585,623.204 \n",
       "  414.812,623.124 415.039,623.044 415.266,622.964 415.493,622.884 415.72,622.805 415.947,622.725 416.174,622.645 416.401,622.564 416.628,622.484 416.855,622.404 \n",
       "  417.082,622.324 417.309,622.244 417.536,622.163 417.763,622.083 417.99,622.003 418.217,621.922 418.444,621.842 418.671,621.761 418.898,621.681 419.125,621.6 \n",
       "  419.353,621.519 419.58,621.438 419.807,621.358 420.034,621.277 420.261,621.196 420.488,621.115 420.715,621.034 420.942,620.953 421.169,620.872 421.396,620.791 \n",
       "  421.623,620.71 421.85,620.628 422.077,620.547 422.304,620.466 422.531,620.384 422.758,620.303 422.985,620.221 423.212,620.14 423.439,620.058 423.666,619.977 \n",
       "  423.893,619.895 424.12,619.813 424.347,619.731 424.574,619.65 424.802,619.568 425.029,619.486 425.256,619.404 425.483,619.322 425.71,619.24 425.937,619.158 \n",
       "  426.164,619.075 426.391,618.993 426.618,618.911 426.845,618.829 427.072,618.746 427.299,618.664 427.526,618.581 427.753,618.499 427.98,618.416 428.207,618.334 \n",
       "  428.434,618.251 428.661,618.168 428.888,618.085 429.115,618.003 429.342,617.92 429.569,617.837 429.796,617.754 430.023,617.671 430.25,617.588 430.478,617.505 \n",
       "  430.705,617.422 430.932,617.338 431.159,617.255 431.386,617.172 431.613,617.088 431.84,617.005 432.067,616.922 432.294,616.838 432.521,616.755 432.748,616.671 \n",
       "  432.975,616.587 433.202,616.504 433.429,616.42 433.656,616.336 433.883,616.252 434.11,616.168 434.337,616.084 434.564,616 434.791,615.916 435.018,615.832 \n",
       "  435.245,615.748 435.472,615.664 435.699,615.58 435.926,615.495 436.154,615.411 436.381,615.327 436.608,615.242 436.835,615.158 437.062,615.073 437.289,614.989 \n",
       "  437.516,614.904 437.743,614.819 437.97,614.734 438.197,614.65 438.424,614.565 438.651,614.48 438.878,614.395 439.105,614.31 439.332,614.225 439.559,614.14 \n",
       "  439.786,614.055 440.013,613.97 440.24,613.884 440.467,613.799 440.694,613.714 440.921,613.628 441.148,613.543 441.375,613.457 441.602,613.372 441.83,613.286 \n",
       "  442.057,613.201 442.284,613.115 442.511,613.029 442.738,612.943 442.965,612.858 443.192,612.772 443.419,612.686 443.646,612.6 443.873,612.514 444.1,612.428 \n",
       "  444.327,612.342 444.554,612.255 444.781,612.169 445.008,612.083 445.235,611.997 445.462,611.91 445.689,611.824 445.916,611.737 446.143,611.651 446.37,611.564 \n",
       "  446.597,611.478 446.824,611.391 447.051,611.304 447.278,611.217 447.506,611.13 447.733,611.044 447.96,610.957 448.187,610.87 448.414,610.783 448.641,610.696 \n",
       "  448.868,610.608 449.095,610.521 449.322,610.434 449.549,610.347 449.776,610.259 450.003,610.172 450.23,610.085 450.457,609.997 450.684,609.91 450.911,609.822 \n",
       "  451.138,609.734 451.365,609.647 451.592,609.559 451.819,609.471 452.046,609.383 452.273,609.296 452.5,609.208 452.727,609.12 452.955,609.032 453.182,608.944 \n",
       "  453.409,608.855 453.636,608.767 453.863,608.679 454.09,608.591 454.317,608.502 454.544,608.414 454.771,608.326 454.998,608.237 455.225,608.149 455.452,608.06 \n",
       "  455.679,607.971 455.906,607.883 456.133,607.794 456.36,607.705 456.587,607.616 456.814,607.528 457.041,607.439 457.268,607.35 457.495,607.261 457.722,607.171 \n",
       "  457.949,607.082 458.176,606.993 458.403,606.904 458.631,606.815 458.858,606.725 459.085,606.636 459.312,606.547 459.539,606.457 459.766,606.368 459.993,606.278 \n",
       "  460.22,606.188 460.447,606.099 460.674,606.009 460.901,605.919 461.128,605.829 461.355,605.739 461.582,605.649 461.809,605.559 462.036,605.469 462.263,605.379 \n",
       "  462.49,605.289 462.717,605.199 462.944,605.109 463.171,605.019 463.398,604.928 463.625,604.838 463.852,604.747 464.079,604.657 464.307,604.566 464.534,604.476 \n",
       "  464.761,604.385 464.988,604.294 465.215,604.204 465.442,604.113 465.669,604.022 465.896,603.931 466.123,603.84 466.35,603.749 466.577,603.658 466.804,603.567 \n",
       "  467.031,603.476 467.258,603.385 467.485,603.294 467.712,603.202 467.939,603.111 468.166,603.02 468.393,602.928 468.62,602.837 468.847,602.745 469.074,602.653 \n",
       "  469.301,602.562 469.528,602.47 469.755,602.378 469.983,602.287 470.21,602.195 470.437,602.103 470.664,602.011 470.891,601.919 471.118,601.827 471.345,601.735 \n",
       "  471.572,601.643 471.799,601.55 472.026,601.458 472.253,601.366 472.48,601.273 472.707,601.181 472.934,601.089 473.161,600.996 473.388,600.904 473.615,600.811 \n",
       "  473.842,600.718 474.069,600.626 474.296,600.533 474.523,600.44 474.75,600.347 474.977,600.254 475.204,600.161 475.431,600.068 475.659,599.975 475.886,599.882 \n",
       "  476.113,599.789 476.34,599.696 476.567,599.602 476.794,599.509 477.021,599.416 477.248,599.322 477.475,599.229 477.702,599.135 477.929,599.042 478.156,598.948 \n",
       "  478.383,598.854 478.61,598.761 478.837,598.667 479.064,598.573 479.291,598.479 479.518,598.385 479.745,598.291 479.972,598.197 480.199,598.103 480.426,598.009 \n",
       "  480.653,597.915 480.88,597.821 481.108,597.726 481.335,597.632 481.562,597.538 481.789,597.443 482.016,597.349 482.243,597.254 482.47,597.16 482.697,597.065 \n",
       "  482.924,596.97 483.151,596.876 483.378,596.781 483.605,596.686 483.832,596.591 484.059,596.496 484.286,596.401 484.513,596.306 484.74,596.211 484.967,596.116 \n",
       "  485.194,596.021 485.421,595.925 485.648,595.83 485.875,595.735 486.102,595.639 486.329,595.544 486.556,595.448 486.784,595.353 487.011,595.257 487.238,595.162 \n",
       "  487.465,595.066 487.692,594.97 487.919,594.874 488.146,594.778 488.373,594.683 488.6,594.587 488.827,594.491 489.054,594.394 489.281,594.298 489.508,594.202 \n",
       "  489.735,594.106 489.962,594.01 490.189,593.913 490.416,593.817 490.643,593.721 490.87,593.624 491.097,593.528 491.324,593.431 491.551,593.334 491.778,593.238 \n",
       "  492.005,593.141 492.232,593.044 492.46,592.947 492.687,592.851 492.914,592.754 493.141,592.657 493.368,592.56 493.595,592.462 493.822,592.365 494.049,592.268 \n",
       "  494.276,592.171 494.503,592.074 494.73,591.976 494.957,591.879 495.184,591.781 495.411,591.684 495.638,591.586 495.865,591.489 496.092,591.391 496.319,591.293 \n",
       "  496.546,591.196 496.773,591.098 497,591 497.227,590.902 497.454,590.804 497.681,590.706 497.908,590.608 498.136,590.51 498.363,590.412 498.59,590.314 \n",
       "  498.817,590.215 499.044,590.117 499.271,590.019 499.498,589.92 499.725,589.822 499.952,589.723 500.179,589.625 500.406,589.526 500.633,589.427 500.86,589.329 \n",
       "  501.087,589.23 501.314,589.131 501.541,589.032 501.768,588.933 501.995,588.834 502.222,588.735 502.449,588.636 502.676,588.537 502.903,588.438 503.13,588.338 \n",
       "  503.357,588.239 503.584,588.14 503.812,588.04 504.039,587.941 504.266,587.841 504.493,587.742 504.72,587.642 504.947,587.543 505.174,587.443 505.401,587.343 \n",
       "  505.628,587.243 505.855,587.144 506.082,587.044 506.309,586.944 506.536,586.844 506.763,586.744 506.99,586.643 507.217,586.543 507.444,586.443 507.671,586.343 \n",
       "  507.898,586.242 508.125,586.142 508.352,586.042 508.579,585.941 508.806,585.841 509.033,585.74 509.26,585.639 509.488,585.539 509.715,585.438 509.942,585.337 \n",
       "  510.169,585.236 510.396,585.135 510.623,585.035 510.85,584.934 511.077,584.832 511.304,584.731 511.531,584.63 511.758,584.529 511.985,584.428 512.212,584.326 \n",
       "  512.439,584.225 512.666,584.124 512.893,584.022 513.12,583.921 513.347,583.819 513.574,583.718 513.801,583.616 514.028,583.514 514.255,583.412 514.482,583.311 \n",
       "  514.709,583.209 514.937,583.107 515.164,583.005 515.391,582.903 515.618,582.801 515.845,582.699 516.072,582.596 516.299,582.494 516.526,582.392 516.753,582.289 \n",
       "  516.98,582.187 517.207,582.085 517.434,581.982 517.661,581.88 517.888,581.777 518.115,581.674 518.342,581.572 518.569,581.469 518.796,581.366 519.023,581.263 \n",
       "  519.25,581.16 519.477,581.057 519.704,580.954 519.931,580.851 520.158,580.748 520.385,580.645 520.613,580.542 520.84,580.438 521.067,580.335 521.294,580.232 \n",
       "  521.521,580.128 521.748,580.025 521.975,579.921 522.202,579.818 522.429,579.714 522.656,579.61 522.883,579.507 523.11,579.403 523.337,579.299 523.564,579.195 \n",
       "  523.791,579.091 524.018,578.987 524.245,578.883 524.472,578.779 524.699,578.675 524.926,578.571 525.153,578.466 525.38,578.362 525.607,578.258 525.834,578.153 \n",
       "  526.061,578.049 526.289,577.944 526.516,577.84 526.743,577.735 526.97,577.63 527.197,577.526 527.424,577.421 527.651,577.316 527.878,577.211 528.105,577.106 \n",
       "  528.332,577.001 528.559,576.896 528.786,576.791 529.013,576.686 529.24,576.581 529.467,576.475 529.694,576.37 529.921,576.265 530.148,576.159 530.375,576.054 \n",
       "  530.602,575.948 530.829,575.843 531.056,575.737 531.283,575.631 531.51,575.526 531.737,575.42 531.965,575.314 532.192,575.208 532.419,575.102 532.646,574.996 \n",
       "  532.873,574.89 533.1,574.784 533.327,574.678 533.554,574.572 533.781,574.466 534.008,574.359 534.235,574.253 534.462,574.147 534.689,574.04 534.916,573.934 \n",
       "  535.143,573.827 535.37,573.72 535.597,573.614 535.824,573.507 536.051,573.4 536.278,573.293 536.505,573.187 536.732,573.08 536.959,572.973 537.186,572.866 \n",
       "  537.413,572.759 537.641,572.651 537.868,572.544 538.095,572.437 538.322,572.33 538.549,572.222 538.776,572.115 539.003,572.007 539.23,571.9 539.457,571.792 \n",
       "  539.684,571.685 539.911,571.577 540.138,571.469 540.365,571.362 540.592,571.254 540.819,571.146 541.046,571.038 541.273,570.93 541.5,570.822 541.727,570.714 \n",
       "  541.954,570.606 542.181,570.498 542.408,570.389 542.635,570.281 542.862,570.173 543.09,570.064 543.317,569.956 543.544,569.847 543.771,569.739 543.998,569.63 \n",
       "  544.225,569.522 544.452,569.413 544.679,569.304 544.906,569.195 545.133,569.086 545.36,568.977 545.587,568.868 545.814,568.759 546.041,568.65 546.268,568.541 \n",
       "  546.495,568.432 546.722,568.323 546.949,568.214 547.176,568.104 547.403,567.995 547.63,567.885 547.857,567.776 548.084,567.666 548.311,567.557 548.538,567.447 \n",
       "  548.766,567.337 548.993,567.228 549.22,567.118 549.447,567.008 549.674,566.898 549.901,566.788 550.128,566.678 550.355,566.568 550.582,566.458 550.809,566.348 \n",
       "  551.036,566.237 551.263,566.127 551.49,566.017 551.717,565.906 551.944,565.796 552.171,565.685 552.398,565.575 552.625,565.464 552.852,565.353 553.079,565.243 \n",
       "  553.306,565.132 553.533,565.021 553.76,564.91 553.987,564.799 554.214,564.688 554.442,564.577 554.669,564.466 554.896,564.355 555.123,564.244 555.35,564.133 \n",
       "  555.577,564.021 555.804,563.91 556.031,563.799 556.258,563.687 556.485,563.576 556.712,563.464 556.939,563.353 557.166,563.241 557.393,563.129 557.62,563.017 \n",
       "  557.847,562.906 558.074,562.794 558.301,562.682 558.528,562.57 558.755,562.458 558.982,562.346 559.209,562.234 559.436,562.121 559.663,562.009 559.89,561.897 \n",
       "  560.118,561.784 560.345,561.672 560.572,561.56 560.799,561.447 561.026,561.334 561.253,561.222 561.48,561.109 561.707,560.996 561.934,560.884 562.161,560.771 \n",
       "  562.388,560.658 562.615,560.545 562.842,560.432 563.069,560.319 563.296,560.206 563.523,560.093 563.75,559.98 563.977,559.866 564.204,559.753 564.431,559.64 \n",
       "  564.658,559.526 564.885,559.413 565.112,559.299 565.339,559.186 565.566,559.072 565.794,558.958 566.021,558.845 566.248,558.731 566.475,558.617 566.702,558.503 \n",
       "  566.929,558.389 567.156,558.275 567.383,558.161 567.61,558.047 567.837,557.933 568.064,557.819 568.291,557.704 568.518,557.59 568.745,557.476 568.972,557.361 \n",
       "  569.199,557.247 569.426,557.132 569.653,557.018 569.88,556.903 570.107,556.788 570.334,556.674 570.561,556.559 570.788,556.444 571.015,556.329 571.243,556.214 \n",
       "  571.47,556.099 571.697,555.984 571.924,555.869 572.151,555.754 572.378,555.638 572.605,555.523 572.832,555.408 573.059,555.292 573.286,555.177 573.513,555.062 \n",
       "  573.74,554.946 573.967,554.83 574.194,554.715 574.421,554.599 574.648,554.483 574.875,554.368 575.102,554.252 575.329,554.136 575.556,554.02 575.783,553.904 \n",
       "  576.01,553.788 576.237,553.672 576.464,553.555 576.691,553.439 576.919,553.323 577.146,553.206 577.373,553.09 577.6,552.974 577.827,552.857 578.054,552.741 \n",
       "  578.281,552.624 578.508,552.507 578.735,552.391 578.962,552.274 579.189,552.157 579.416,552.04 579.643,551.923 579.87,551.806 580.097,551.689 580.324,551.572 \n",
       "  580.551,551.455 580.778,551.338 581.005,551.22 581.232,551.103 581.459,550.986 581.686,550.868 581.913,550.751 582.14,550.633 582.367,550.516 582.595,550.398 \n",
       "  582.822,550.281 583.049,550.163 583.276,550.045 583.503,549.927 583.73,549.809 583.957,549.691 584.184,549.573 584.411,549.455 584.638,549.337 584.865,549.219 \n",
       "  585.092,549.101 585.319,548.982 585.546,548.864 585.773,548.746 586,548.627 586.227,548.509 586.454,548.39 586.681,548.272 586.908,548.153 587.135,548.034 \n",
       "  587.362,547.916 587.589,547.797 587.816,547.678 588.043,547.559 588.271,547.44 588.498,547.321 588.725,547.202 588.952,547.083 589.179,546.964 589.406,546.844 \n",
       "  589.633,546.725 589.86,546.606 590.087,546.486 590.314,546.367 590.541,546.247 590.768,546.128 590.995,546.008 591.222,545.889 591.449,545.769 591.676,545.649 \n",
       "  591.903,545.529 592.13,545.409 592.357,545.289 592.584,545.17 592.811,545.049 593.038,544.929 593.265,544.809 593.492,544.689 593.719,544.569 593.947,544.448 \n",
       "  594.174,544.328 594.401,544.208 594.628,544.087 594.855,543.967 595.082,543.846 595.309,543.725 595.536,543.605 595.763,543.484 595.99,543.363 596.217,543.242 \n",
       "  596.444,543.121 596.671,543.001 596.898,542.879 597.125,542.758 597.352,542.637 597.579,542.516 597.806,542.395 598.033,542.274 598.26,542.152 598.487,542.031 \n",
       "  598.714,541.909 598.941,541.788 599.168,541.666 599.396,541.545 599.623,541.423 599.85,541.301 600.077,541.18 600.304,541.058 600.531,540.936 600.758,540.814 \n",
       "  600.985,540.692 601.212,540.57 601.439,540.448 601.666,540.326 601.893,540.204 602.12,540.081 602.347,539.959 602.574,539.837 602.801,539.714 603.028,539.592 \n",
       "  603.255,539.469 603.482,539.347 603.709,539.224 603.936,539.101 604.163,538.979 604.39,538.856 604.617,538.733 604.844,538.61 605.072,538.487 605.299,538.364 \n",
       "  605.526,538.241 605.753,538.118 605.98,537.995 606.207,537.872 606.434,537.748 606.661,537.625 606.888,537.502 607.115,537.378 607.342,537.255 607.569,537.131 \n",
       "  607.796,537.007 608.023,536.884 608.25,536.76 608.477,536.636 608.704,536.512 608.931,536.389 609.158,536.265 609.385,536.141 609.612,536.017 609.839,535.893 \n",
       "  610.066,535.768 610.293,535.644 610.52,535.52 610.748,535.396 610.975,535.271 611.202,535.147 611.429,535.022 611.656,534.898 611.883,534.773 612.11,534.649 \n",
       "  612.337,534.524 612.564,534.399 612.791,534.274 613.018,534.15 613.245,534.025 613.472,533.9 613.699,533.775 613.926,533.65 614.153,533.524 614.38,533.399 \n",
       "  614.607,533.274 614.834,533.149 615.061,533.023 615.288,532.898 615.515,532.773 615.742,532.647 615.969,532.522 616.196,532.396 616.424,532.27 616.651,532.145 \n",
       "  616.878,532.019 617.105,531.893 617.332,531.767 617.559,531.641 617.786,531.515 618.013,531.389 618.24,531.263 618.467,531.137 618.694,531.011 618.921,530.884 \n",
       "  619.148,530.758 619.375,530.632 619.602,530.505 619.829,530.379 620.056,530.252 620.283,530.126 620.51,529.999 620.737,529.872 620.964,529.745 621.191,529.619 \n",
       "  621.418,529.492 621.645,529.365 621.872,529.238 622.1,529.111 622.327,528.984 622.554,528.857 622.781,528.729 623.008,528.602 623.235,528.475 623.462,528.348 \n",
       "  623.689,528.22 623.916,528.093 624.143,527.965 624.37,527.838 624.597,527.71 624.824,527.582 625.051,527.455 625.278,527.327 625.505,527.199 625.732,527.071 \n",
       "  625.959,526.943 626.186,526.815 626.413,526.687 626.64,526.559 626.867,526.431 627.094,526.302 627.321,526.174 627.549,526.046 627.776,525.917 628.003,525.789 \n",
       "  628.23,525.66 628.457,525.532 628.684,525.403 628.911,525.275 629.138,525.146 629.365,525.017 629.592,524.888 629.819,524.759 630.046,524.63 630.273,524.501 \n",
       "  630.5,524.372 630.727,524.243 630.954,524.114 631.181,523.985 631.408,523.856 631.635,523.726 631.862,523.597 632.089,523.468 632.316,523.338 632.543,523.209 \n",
       "  632.77,523.079 632.997,522.949 633.225,522.82 633.452,522.69 633.679,522.56 633.906,522.43 634.133,522.3 634.36,522.17 634.587,522.04 634.814,521.91 \n",
       "  635.041,521.78 635.268,521.65 635.495,521.52 635.722,521.389 635.949,521.259 636.176,521.128 636.403,520.998 636.63,520.867 636.857,520.737 637.084,520.606 \n",
       "  637.311,520.476 637.538,520.345 637.765,520.214 637.992,520.083 638.219,519.952 638.446,519.821 638.673,519.69 638.901,519.559 639.128,519.428 639.355,519.297 \n",
       "  639.582,519.166 639.809,519.034 640.036,518.903 640.263,518.772 640.49,518.64 640.717,518.509 640.944,518.377 641.171,518.245 641.398,518.114 641.625,517.982 \n",
       "  641.852,517.85 642.079,517.718 642.306,517.586 642.533,517.454 642.76,517.322 642.987,517.19 643.214,517.058 643.441,516.926 643.668,516.794 643.895,516.662 \n",
       "  644.122,516.529 644.349,516.397 644.577,516.264 644.804,516.132 645.031,515.999 645.258,515.867 645.485,515.734 645.712,515.601 645.939,515.468 646.166,515.336 \n",
       "  646.393,515.203 646.62,515.07 646.847,514.937 647.074,514.804 647.301,514.671 647.528,514.537 647.755,514.404 647.982,514.271 648.209,514.138 648.436,514.004 \n",
       "  648.663,513.871 648.89,513.737 649.117,513.604 649.344,513.47 649.571,513.337 649.798,513.203 650.025,513.069 650.253,512.935 650.48,512.801 650.707,512.667 \n",
       "  650.934,512.533 651.161,512.399 651.388,512.265 651.615,512.131 651.842,511.997 652.069,511.863 652.296,511.728 652.523,511.594 652.75,511.459 652.977,511.325 \n",
       "  653.204,511.19 653.431,511.056 653.658,510.921 653.885,510.786 654.112,510.652 654.339,510.517 654.566,510.382 654.793,510.247 655.02,510.112 655.247,509.977 \n",
       "  655.474,509.842 655.701,509.707 655.929,509.572 656.156,509.436 656.383,509.301 656.61,509.166 656.837,509.03 657.064,508.895 657.291,508.759 657.518,508.624 \n",
       "  657.745,508.488 657.972,508.352 658.199,508.216 658.426,508.081 658.653,507.945 658.88,507.809 659.107,507.673 659.334,507.537 659.561,507.401 659.788,507.265 \n",
       "  660.015,507.128 660.242,506.992 660.469,506.856 660.696,506.719 660.923,506.583 661.15,506.446 661.378,506.31 661.605,506.173 661.832,506.037 662.059,505.9 \n",
       "  662.286,505.763 662.513,505.626 662.74,505.49 662.967,505.353 663.194,505.216 663.421,505.079 663.648,504.941 663.875,504.804 664.102,504.667 664.329,504.53 \n",
       "  664.556,504.393 664.783,504.255 665.01,504.118 665.237,503.98 665.464,503.843 665.691,503.705 665.918,503.568 666.145,503.43 666.372,503.292 666.599,503.154 \n",
       "  666.826,503.016 667.054,502.878 667.281,502.74 667.508,502.602 667.735,502.464 667.962,502.326 668.189,502.188 668.416,502.05 668.643,501.911 668.87,501.773 \n",
       "  669.097,501.635 669.324,501.496 669.551,501.358 669.778,501.219 670.005,501.08 670.232,500.942 670.459,500.803 670.686,500.664 670.913,500.525 671.14,500.386 \n",
       "  671.367,500.247 671.594,500.108 671.821,499.969 672.048,499.83 672.275,499.691 672.502,499.552 672.73,499.412 672.957,499.273 673.184,499.133 673.411,498.994 \n",
       "  673.638,498.854 673.865,498.715 674.092,498.575 674.319,498.436 674.546,498.296 674.773,498.156 675,498.016 675.227,497.876 675.454,497.736 675.681,497.596 \n",
       "  675.908,497.456 676.135,497.316 676.362,497.176 676.589,497.035 676.816,496.895 677.043,496.755 677.27,496.614 677.497,496.474 677.724,496.333 677.951,496.193 \n",
       "  678.178,496.052 678.406,495.911 678.633,495.771 678.86,495.63 679.087,495.489 679.314,495.348 679.541,495.207 679.768,495.066 679.995,494.925 680.222,494.784 \n",
       "  680.449,494.642 680.676,494.501 680.903,494.36 681.13,494.218 681.357,494.077 681.584,493.936 681.811,493.794 682.038,493.652 682.265,493.511 682.492,493.369 \n",
       "  682.719,493.227 682.946,493.085 683.173,492.944 683.4,492.802 683.627,492.66 683.854,492.518 684.082,492.375 684.309,492.233 684.536,492.091 684.763,491.949 \n",
       "  684.99,491.806 685.217,491.664 685.444,491.522 685.671,491.379 685.898,491.237 686.125,491.094 686.352,490.951 686.579,490.809 686.806,490.666 687.033,490.523 \n",
       "  687.26,490.38 687.487,490.237 687.714,490.094 687.941,489.951 688.168,489.808 688.395,489.665 688.622,489.522 688.849,489.378 689.076,489.235 689.303,489.092 \n",
       "  689.531,488.948 689.758,488.805 689.985,488.661 690.212,488.517 690.439,488.374 690.666,488.23 690.893,488.086 691.12,487.942 691.347,487.799 691.574,487.655 \n",
       "  691.801,487.511 692.028,487.367 692.255,487.222 692.482,487.078 692.709,486.934 692.936,486.79 693.163,486.645 693.39,486.501 693.617,486.356 693.844,486.212 \n",
       "  694.071,486.067 694.298,485.923 694.525,485.778 694.752,485.633 694.979,485.489 695.207,485.344 695.434,485.199 695.661,485.054 695.888,484.909 696.115,484.764 \n",
       "  696.342,484.619 696.569,484.473 696.796,484.328 697.023,484.183 697.25,484.038 697.477,483.892 697.704,483.747 697.931,483.601 698.158,483.456 698.385,483.31 \n",
       "  698.612,483.164 698.839,483.018 699.066,482.873 699.293,482.727 699.52,482.581 699.747,482.435 699.974,482.289 700.201,482.143 700.428,481.997 700.655,481.85 \n",
       "  700.883,481.704 701.11,481.558 701.337,481.411 701.564,481.265 701.791,481.119 702.018,480.972 702.245,480.825 702.472,480.679 702.699,480.532 702.926,480.385 \n",
       "  703.153,480.239 703.38,480.092 703.607,479.945 703.834,479.798 704.061,479.651 704.288,479.504 704.515,479.356 704.742,479.209 704.969,479.062 705.196,478.915 \n",
       "  705.423,478.767 705.65,478.62 705.877,478.472 706.104,478.325 706.331,478.177 706.559,478.029 706.786,477.882 707.013,477.734 707.24,477.586 707.467,477.438 \n",
       "  707.694,477.29 707.921,477.142 708.148,476.994 708.375,476.846 708.602,476.698 708.829,476.55 709.056,476.401 709.283,476.253 709.51,476.105 709.737,475.956 \n",
       "  709.964,475.808 710.191,475.659 710.418,475.511 710.645,475.362 710.872,475.213 711.099,475.064 711.326,474.915 711.553,474.767 711.78,474.618 712.007,474.469 \n",
       "  712.235,474.319 712.462,474.17 712.689,474.021 712.916,473.872 713.143,473.723 713.37,473.573 713.597,473.424 713.824,473.274 714.051,473.125 714.278,472.975 \n",
       "  714.505,472.826 714.732,472.676 714.959,472.526 715.186,472.376 715.413,472.226 715.64,472.077 715.867,471.927 716.094,471.777 716.321,471.626 716.548,471.476 \n",
       "  716.775,471.326 717.002,471.176 717.229,471.025 717.456,470.875 717.684,470.725 717.911,470.574 718.138,470.424 718.365,470.273 718.592,470.122 718.819,469.972 \n",
       "  719.046,469.821 719.273,469.67 719.5,469.519 719.727,469.368 719.954,469.217 720.181,469.066 720.408,468.915 720.635,468.764 720.862,468.613 721.089,468.461 \n",
       "  721.316,468.31 721.543,468.159 721.77,468.007 721.997,467.856 722.224,467.704 722.451,467.552 722.678,467.401 722.905,467.249 723.132,467.097 723.36,466.945 \n",
       "  723.587,466.793 723.814,466.641 724.041,466.489 724.268,466.337 724.495,466.185 724.722,466.033 724.949,465.881 725.176,465.728 725.403,465.576 725.63,465.424 \n",
       "  725.857,465.271 726.084,465.119 726.311,464.966 726.538,464.813 726.765,464.661 726.992,464.508 727.219,464.355 727.446,464.202 727.673,464.049 727.9,463.896 \n",
       "  728.127,463.743 728.354,463.59 728.581,463.437 728.808,463.284 729.036,463.131 729.263,462.977 729.49,462.824 729.717,462.67 729.944,462.517 730.171,462.363 \n",
       "  730.398,462.21 730.625,462.056 730.852,461.902 731.079,461.749 731.306,461.595 731.533,461.441 731.76,461.287 731.987,461.133 732.214,460.979 732.441,460.825 \n",
       "  732.668,460.67 732.895,460.516 733.122,460.362 733.349,460.208 733.576,460.053 733.803,459.899 734.03,459.744 734.257,459.59 734.484,459.435 734.712,459.28 \n",
       "  734.939,459.125 735.166,458.971 735.393,458.816 735.62,458.661 735.847,458.506 736.074,458.351 736.301,458.196 736.528,458.041 736.755,457.885 736.982,457.73 \n",
       "  737.209,457.575 737.436,457.419 737.663,457.264 737.89,457.108 738.117,456.953 738.344,456.797 738.571,456.642 738.798,456.486 739.025,456.33 739.252,456.174 \n",
       "  739.479,456.018 739.706,455.862 739.933,455.706 740.16,455.55 740.388,455.394 740.615,455.238 740.842,455.082 741.069,454.926 741.296,454.769 741.523,454.613 \n",
       "  741.75,454.456 741.977,454.3 742.204,454.143 742.431,453.987 742.658,453.83 742.885,453.673 743.112,453.516 743.339,453.359 743.566,453.202 743.793,453.046 \n",
       "  744.02,452.888 744.247,452.731 744.474,452.574 744.701,452.417 744.928,452.26 745.155,452.102 745.382,451.945 745.609,451.788 745.837,451.63 746.064,451.473 \n",
       "  746.291,451.315 746.518,451.157 746.745,451 746.972,450.842 747.199,450.684 747.426,450.526 747.653,450.368 747.88,450.21 748.107,450.052 748.334,449.894 \n",
       "  748.561,449.736 748.788,449.577 749.015,449.419 749.242,449.261 749.469,449.102 749.696,448.944 749.923,448.785 750.15,448.627 750.377,448.468 750.604,448.309 \n",
       "  750.831,448.151 751.058,447.992 751.285,447.833 751.513,447.674 751.74,447.515 751.967,447.356 752.194,447.197 752.421,447.038 752.648,446.879 752.875,446.719 \n",
       "  753.102,446.56 753.329,446.401 753.556,446.241 753.783,446.082 754.01,445.922 754.237,445.762 754.464,445.603 754.691,445.443 754.918,445.283 755.145,445.123 \n",
       "  755.372,444.963 755.599,444.804 755.826,444.644 756.053,444.483 756.28,444.323 756.507,444.163 756.734,444.003 756.961,443.843 757.189,443.682 757.416,443.522 \n",
       "  757.643,443.361 757.87,443.201 758.097,443.04 758.324,442.88 758.551,442.719 758.778,442.558 759.005,442.397 759.232,442.236 759.459,442.075 759.686,441.914 \n",
       "  759.913,441.753 760.14,441.592 760.367,441.431 760.594,441.27 760.821,441.109 761.048,440.947 761.275,440.786 761.502,440.624 761.729,440.463 761.956,440.301 \n",
       "  762.183,440.14 762.41,439.978 762.637,439.816 762.865,439.654 763.092,439.493 763.319,439.331 763.546,439.169 763.773,439.007 764,438.845 764.227,438.682 \n",
       "  764.454,438.52 764.681,438.358 764.908,438.196 765.135,438.033 765.362,437.871 765.589,437.708 765.816,437.546 766.043,437.383 766.27,437.22 766.497,437.058 \n",
       "  766.724,436.895 766.951,436.732 767.178,436.569 767.405,436.406 767.632,436.243 767.859,436.08 768.086,435.917 768.313,435.754 768.541,435.591 768.768,435.427 \n",
       "  768.995,435.264 769.222,435.101 769.449,434.937 769.676,434.774 769.903,434.61 770.13,434.446 770.357,434.283 770.584,434.119 770.811,433.955 771.038,433.791 \n",
       "  771.265,433.627 771.492,433.463 771.719,433.299 771.946,433.135 772.173,432.971 772.4,432.807 772.627,432.642 772.854,432.478 773.081,432.314 773.308,432.149 \n",
       "  773.535,431.985 773.762,431.82 773.989,431.655 774.217,431.491 774.444,431.326 774.671,431.161 774.898,430.996 775.125,430.831 775.352,430.666 775.579,430.501 \n",
       "  775.806,430.336 776.033,430.171 776.26,430.006 776.487,429.841 776.714,429.675 776.941,429.51 777.168,429.345 777.395,429.179 777.622,429.013 777.849,428.848 \n",
       "  778.076,428.682 778.303,428.516 778.53,428.351 778.757,428.185 778.984,428.019 779.211,427.853 779.438,427.687 779.666,427.521 779.893,427.355 780.12,427.189 \n",
       "  780.347,427.022 780.574,426.856 780.801,426.69 781.028,426.523 781.255,426.357 781.482,426.19 781.709,426.024 781.936,425.857 782.163,425.69 782.39,425.523 \n",
       "  782.617,425.357 782.844,425.19 783.071,425.023 783.298,424.856 783.525,424.689 783.752,424.522 783.979,424.354 784.206,424.187 784.433,424.02 784.66,423.853 \n",
       "  784.887,423.685 785.114,423.518 785.342,423.35 785.569,423.183 785.796,423.015 786.023,422.847 786.25,422.679 786.477,422.512 786.704,422.344 786.931,422.176 \n",
       "  787.158,422.008 787.385,421.84 787.612,421.672 787.839,421.504 788.066,421.335 788.293,421.167 788.52,420.999 788.747,420.83 788.974,420.662 789.201,420.493 \n",
       "  789.428,420.325 789.655,420.156 789.882,419.987 790.109,419.819 790.336,419.65 790.563,419.481 790.79,419.312 791.018,419.143 791.245,418.974 791.472,418.805 \n",
       "  791.699,418.636 791.926,418.467 792.153,418.297 792.38,418.128 792.607,417.959 792.834,417.789 793.061,417.62 793.288,417.45 793.515,417.281 793.742,417.111 \n",
       "  793.969,416.941 794.196,416.771 794.423,416.601 794.65,416.432 794.877,416.262 795.104,416.092 795.331,415.921 795.558,415.751 795.785,415.581 796.012,415.411 \n",
       "  796.239,415.241 796.466,415.07 796.694,414.9 796.921,414.729 797.148,414.559 797.375,414.388 797.602,414.217 797.829,414.047 798.056,413.876 798.283,413.705 \n",
       "  798.51,413.534 798.737,413.363 798.964,413.192 799.191,413.021 799.418,412.85 799.645,412.679 799.872,412.508 800.099,412.336 800.326,412.165 800.553,411.993 \n",
       "  800.78,411.822 801.007,411.65 801.234,411.479 801.461,411.307 801.688,411.135 801.915,410.964 802.142,410.792 802.37,410.62 802.597,410.448 802.824,410.276 \n",
       "  803.051,410.104 803.278,409.932 803.505,409.76 803.732,409.587 803.959,409.415 804.186,409.243 804.413,409.07 804.64,408.898 804.867,408.725 805.094,408.553 \n",
       "  805.321,408.38 805.548,408.207 805.775,408.035 806.002,407.862 806.229,407.689 806.456,407.516 806.683,407.343 806.91,407.17 807.137,406.997 807.364,406.824 \n",
       "  807.591,406.65 807.819,406.477 808.046,406.304 808.273,406.13 808.5,405.957 808.727,405.783 808.954,405.61 809.181,405.436 809.408,405.262 809.635,405.089 \n",
       "  809.862,404.915 810.089,404.741 810.316,404.567 810.543,404.393 810.77,404.219 810.997,404.045 811.224,403.871 811.451,403.696 811.678,403.522 811.905,403.348 \n",
       "  812.132,403.173 812.359,402.999 812.586,402.824 812.813,402.65 813.04,402.475 813.267,402.3 813.495,402.126 813.722,401.951 813.949,401.776 814.176,401.601 \n",
       "  814.403,401.426 814.63,401.251 814.857,401.076 815.084,400.901 815.311,400.726 815.538,400.55 815.765,400.375 815.992,400.2 816.219,400.024 816.446,399.849 \n",
       "  816.673,399.673 816.9,399.497 817.127,399.322 817.354,399.146 817.581,398.97 817.808,398.794 818.035,398.618 818.262,398.442 818.489,398.266 818.716,398.09 \n",
       "  818.943,397.914 819.171,397.738 819.398,397.561 819.625,397.385 819.852,397.209 820.079,397.032 820.306,396.856 820.533,396.679 820.76,396.503 820.987,396.326 \n",
       "  821.214,396.149 821.441,395.972 821.668,395.795 821.895,395.619 822.122,395.442 822.349,395.264 822.576,395.087 822.803,394.91 823.03,394.733 823.257,394.556 \n",
       "  823.484,394.378 823.711,394.201 823.938,394.024 824.165,393.846 824.392,393.668 824.619,393.491 824.847,393.313 825.074,393.135 825.301,392.958 825.528,392.78 \n",
       "  825.755,392.602 825.982,392.424 826.209,392.246 826.436,392.068 826.663,391.889 826.89,391.711 827.117,391.533 827.344,391.355 827.571,391.176 827.798,390.998 \n",
       "  828.025,390.819 828.252,390.641 828.479,390.462 828.706,390.283 828.933,390.105 829.16,389.926 829.387,389.747 829.614,389.568 829.841,389.389 830.068,389.21 \n",
       "  830.295,389.031 830.523,388.852 830.75,388.672 830.977,388.493 831.204,388.314 831.431,388.134 831.658,387.955 831.885,387.776 832.112,387.596 832.339,387.416 \n",
       "  832.566,387.237 832.793,387.057 833.02,386.877 833.247,386.697 833.474,386.517 833.701,386.337 833.928,386.157 834.155,385.977 834.382,385.797 834.609,385.617 \n",
       "  834.836,385.436 835.063,385.256 835.29,385.076 835.517,384.895 835.744,384.715 835.972,384.534 836.199,384.353 836.426,384.173 836.653,383.992 836.88,383.811 \n",
       "  837.107,383.63 837.334,383.449 837.561,383.268 837.788,383.087 838.015,382.906 838.242,382.725 838.469,382.544 838.696,382.363 838.923,382.181 839.15,382 \n",
       "  839.377,381.818 839.604,381.637 839.831,381.455 840.058,381.274 840.285,381.092 840.512,380.91 840.739,380.728 840.966,380.546 841.193,380.365 841.42,380.183 \n",
       "  841.648,380 841.875,379.818 842.102,379.636 842.329,379.454 842.556,379.272 842.783,379.089 843.01,378.907 843.237,378.724 843.464,378.542 843.691,378.359 \n",
       "  843.918,378.177 844.145,377.994 844.372,377.811 844.599,377.628 844.826,377.446 845.053,377.263 845.28,377.08 845.507,376.897 845.734,376.713 845.961,376.53 \n",
       "  846.188,376.347 846.415,376.164 846.642,375.98 846.869,375.797 847.096,375.613 847.324,375.43 847.551,375.246 847.778,375.063 848.005,374.879 848.232,374.695 \n",
       "  848.459,374.511 848.686,374.327 848.913,374.144 849.14,373.96 849.367,373.775 849.594,373.591 849.821,373.407 850.048,373.223 850.275,373.039 850.502,372.854 \n",
       "  850.729,372.67 850.956,372.485 851.183,372.301 851.41,372.116 851.637,371.932 851.864,371.747 852.091,371.562 852.318,371.377 852.545,371.192 852.772,371.007 \n",
       "  853,370.822 853.227,370.637 853.454,370.452 853.681,370.267 853.908,370.082 854.135,369.896 854.362,369.711 854.589,369.526 854.816,369.34 855.043,369.155 \n",
       "  855.27,368.969 855.497,368.783 855.724,368.598 855.951,368.412 856.178,368.226 856.405,368.04 856.632,367.854 856.859,367.668 857.086,367.482 857.313,367.296 \n",
       "  857.54,367.11 857.767,366.923 857.994,366.737 858.221,366.551 858.448,366.364 858.676,366.178 858.903,365.991 859.13,365.804 859.357,365.618 859.584,365.431 \n",
       "  859.811,365.244 860.038,365.057 860.265,364.87 860.492,364.684 860.719,364.496 860.946,364.309 861.173,364.122 861.4,363.935 861.627,363.748 861.854,363.56 \n",
       "  862.081,363.373 862.308,363.186 862.535,362.998 862.762,362.81 862.989,362.623 863.216,362.435 863.443,362.247 863.67,362.06 863.897,361.872 864.125,361.684 \n",
       "  864.352,361.496 864.579,361.308 864.806,361.12 865.033,360.931 865.26,360.743 865.487,360.555 865.714,360.367 865.941,360.178 866.168,359.99 866.395,359.801 \n",
       "  866.622,359.613 866.849,359.424 867.076,359.235 867.303,359.047 867.53,358.858 867.757,358.669 867.984,358.48 868.211,358.291 868.438,358.102 868.665,357.913 \n",
       "  868.892,357.724 869.119,357.534 869.346,357.345 869.573,357.156 869.801,356.966 870.028,356.777 870.255,356.587 870.482,356.398 870.709,356.208 870.936,356.018 \n",
       "  871.163,355.828 871.39,355.639 871.617,355.449 871.844,355.259 872.071,355.069 872.298,354.879 872.525,354.689 872.752,354.498 872.979,354.308 873.206,354.118 \n",
       "  873.433,353.927 873.66,353.737 873.887,353.547 874.114,353.356 874.341,353.165 874.568,352.975 874.795,352.784 875.022,352.593 875.249,352.402 875.477,352.211 \n",
       "  875.704,352.02 875.931,351.829 876.158,351.638 876.385,351.447 876.612,351.256 876.839,351.065 877.066,350.873 877.293,350.682 877.52,350.491 877.747,350.299 \n",
       "  877.974,350.107 878.201,349.916 878.428,349.724 878.655,349.532 878.882,349.341 879.109,349.149 879.336,348.957 879.563,348.765 879.79,348.573 880.017,348.381 \n",
       "  880.244,348.189 880.471,347.996 880.698,347.804 880.925,347.612 881.153,347.419 881.38,347.227 881.607,347.034 881.834,346.842 882.061,346.649 882.288,346.456 \n",
       "  882.515,346.264 882.742,346.071 882.969,345.878 883.196,345.685 883.423,345.492 883.65,345.299 883.877,345.106 884.104,344.913 884.331,344.719 884.558,344.526 \n",
       "  884.785,344.333 885.012,344.139 885.239,343.946 885.466,343.752 885.693,343.559 885.92,343.365 886.147,343.171 886.374,342.977 886.601,342.784 886.829,342.59 \n",
       "  887.056,342.396 887.283,342.202 887.51,342.008 887.737,341.813 887.964,341.619 888.191,341.425 888.418,341.231 888.645,341.036 888.872,340.842 889.099,340.647 \n",
       "  889.326,340.453 889.553,340.258 889.78,340.064 890.007,339.869 890.234,339.674 890.461,339.479 890.688,339.284 890.915,339.089 891.142,338.894 891.369,338.699 \n",
       "  891.596,338.504 891.823,338.309 892.05,338.113 892.277,337.918 892.505,337.723 892.732,337.527 892.959,337.332 893.186,337.136 893.413,336.94 893.64,336.745 \n",
       "  893.867,336.549 894.094,336.353 894.321,336.157 894.548,335.961 894.775,335.765 895.002,335.569 895.229,335.373 895.456,335.177 895.683,334.981 895.91,334.784 \n",
       "  896.137,334.588 896.364,334.392 896.591,334.195 896.818,333.999 897.045,333.802 897.272,333.605 897.499,333.409 897.726,333.212 897.954,333.015 898.181,332.818 \n",
       "  898.408,332.621 898.635,332.424 898.862,332.227 899.089,332.03 899.316,331.833 899.543,331.635 899.77,331.438 899.997,331.241 900.224,331.043 900.451,330.846 \n",
       "  900.678,330.648 900.905,330.451 901.132,330.253 901.359,330.055 901.586,329.857 901.813,329.659 902.04,329.462 902.267,329.264 902.494,329.065 902.721,328.867 \n",
       "  902.948,328.669 903.175,328.471 903.402,328.273 903.63,328.074 903.857,327.876 904.084,327.677 904.311,327.479 904.538,327.28 904.765,327.082 904.992,326.883 \n",
       "  905.219,326.684 905.446,326.485 905.673,326.286 905.9,326.088 906.127,325.889 906.354,325.689 906.581,325.49 906.808,325.291 907.035,325.092 907.262,324.893 \n",
       "  907.489,324.693 907.716,324.494 907.943,324.294 908.17,324.095 908.397,323.895 908.624,323.695 908.851,323.496 909.078,323.296 909.306,323.096 909.533,322.896 \n",
       "  909.76,322.696 909.987,322.496 910.214,322.296 910.441,322.096 910.668,321.896 910.895,321.695 911.122,321.495 911.349,321.295 911.576,321.094 911.803,320.894 \n",
       "  912.03,320.693 912.257,320.492 912.484,320.292 912.711,320.091 912.938,319.89 913.165,319.689 913.392,319.488 913.619,319.287 913.846,319.086 914.073,318.885 \n",
       "  914.3,318.684 914.527,318.483 914.754,318.281 914.982,318.08 915.209,317.879 915.436,317.677 915.663,317.476 915.89,317.274 916.117,317.072 916.344,316.871 \n",
       "  916.571,316.669 916.798,316.467 917.025,316.265 917.252,316.063 917.479,315.861 917.706,315.659 917.933,315.457 918.16,315.255 918.387,315.052 918.614,314.85 \n",
       "  918.841,314.648 919.068,314.445 919.295,314.243 919.522,314.04 919.749,313.837 919.976,313.635 920.203,313.432 920.43,313.229 920.658,313.026 920.885,312.823 \n",
       "  921.112,312.62 921.339,312.417 921.566,312.214 921.793,312.011 922.02,311.808 922.247,311.604 922.474,311.401 922.701,311.198 922.928,310.994 923.155,310.791 \n",
       "  923.382,310.587 923.609,310.383 923.836,310.18 924.063,309.976 924.29,309.772 924.517,309.568 924.744,309.364 924.971,309.16 925.198,308.956 925.425,308.752 \n",
       "  925.652,308.548 925.879,308.343 926.107,308.139 926.334,307.935 926.561,307.73 926.788,307.526 927.015,307.321 927.242,307.116 927.469,306.912 927.696,306.707 \n",
       "  927.923,306.502 928.15,306.297 928.377,306.092 928.604,305.887 928.831,305.682 929.058,305.477 929.285,305.272 929.512,305.067 929.739,304.861 929.966,304.656 \n",
       "  930.193,304.451 930.42,304.245 930.647,304.04 930.874,303.834 931.101,303.628 931.328,303.423 931.555,303.217 931.783,303.011 932.01,302.805 932.237,302.599 \n",
       "  932.464,302.393 932.691,302.187 932.918,301.981 933.145,301.775 933.372,301.568 933.599,301.362 933.826,301.156 934.053,300.949 934.28,300.743 934.507,300.536 \n",
       "  934.734,300.329 934.961,300.123 935.188,299.916 935.415,299.709 935.642,299.502 935.869,299.295 936.096,299.088 936.323,298.881 936.55,298.674 936.777,298.467 \n",
       "  937.004,298.26 937.231,298.052 937.459,297.845 937.686,297.637 937.913,297.43 938.14,297.222 938.367,297.015 938.594,296.807 938.821,296.599 939.048,296.392 \n",
       "  939.275,296.184 939.502,295.976 939.729,295.768 939.956,295.56 940.183,295.352 940.41,295.144 940.637,294.935 940.864,294.727 941.091,294.519 941.318,294.31 \n",
       "  941.545,294.102 941.772,293.893 941.999,293.685 942.226,293.476 942.453,293.267 942.68,293.059 942.907,292.85 943.135,292.641 943.362,292.432 943.589,292.223 \n",
       "  943.816,292.014 944.043,291.805 944.27,291.596 944.497,291.386 944.724,291.177 944.951,290.968 945.178,290.758 945.405,290.549 945.632,290.339 945.859,290.129 \n",
       "  946.086,289.92 946.313,289.71 946.54,289.5 946.767,289.29 946.994,289.08 947.221,288.87 947.448,288.66 947.675,288.45 947.902,288.24 948.129,288.03 \n",
       "  948.356,287.82 948.583,287.609 948.811,287.399 949.038,287.188 949.265,286.978 949.492,286.767 949.719,286.557 949.946,286.346 950.173,286.135 950.4,285.924 \n",
       "  950.627,285.713 950.854,285.502 951.081,285.291 951.308,285.08 951.535,284.869 951.762,284.658 951.989,284.447 952.216,284.235 952.443,284.024 952.67,283.812 \n",
       "  952.897,283.601 953.124,283.389 953.351,283.178 953.578,282.966 953.805,282.754 954.032,282.542 954.26,282.33 954.487,282.119 954.714,281.907 954.941,281.694 \n",
       "  955.168,281.482 955.395,281.27 955.622,281.058 955.849,280.846 956.076,280.633 956.303,280.421 956.53,280.208 956.757,279.996 956.984,279.783 957.211,279.57 \n",
       "  957.438,279.358 957.665,279.145 957.892,278.932 958.119,278.719 958.346,278.506 958.573,278.293 958.8,278.08 959.027,277.867 959.254,277.654 959.481,277.44 \n",
       "  959.708,277.227 959.936,277.014 960.163,276.8 960.39,276.587 960.617,276.373 960.844,276.159 961.071,275.946 961.298,275.732 961.525,275.518 961.752,275.304 \n",
       "  961.979,275.09 962.206,274.876 962.433,274.662 962.66,274.448 962.887,274.234 963.114,274.019 963.341,273.805 963.568,273.591 963.795,273.376 964.022,273.162 \n",
       "  964.249,272.947 964.476,272.733 964.703,272.518 964.93,272.303 965.157,272.088 965.384,271.873 965.612,271.658 965.839,271.443 966.066,271.228 966.293,271.013 \n",
       "  966.52,270.798 966.747,270.583 966.974,270.367 967.201,270.152 967.428,269.937 967.655,269.721 967.882,269.506 968.109,269.29 968.336,269.074 968.563,268.859 \n",
       "  968.79,268.643 969.017,268.427 969.244,268.211 969.471,267.995 969.698,267.779 969.925,267.563 970.152,267.347 970.379,267.13 970.606,266.914 970.833,266.698 \n",
       "  971.06,266.481 971.288,266.265 971.515,266.048 971.742,265.832 971.969,265.615 972.196,265.398 972.423,265.182 972.65,264.965 972.877,264.748 973.104,264.531 \n",
       "  973.331,264.314 973.558,264.097 973.785,263.88 974.012,263.662 974.239,263.445 974.466,263.228 974.693,263.01 974.92,262.793 975.147,262.575 975.374,262.358 \n",
       "  975.601,262.14 975.828,261.922 976.055,261.705 976.282,261.487 976.509,261.269 976.736,261.051 976.964,260.833 977.191,260.615 977.418,260.397 977.645,260.179 \n",
       "  977.872,259.96 978.099,259.742 978.326,259.524 978.553,259.305 978.78,259.087 979.007,258.868 979.234,258.65 979.461,258.431 979.688,258.212 979.915,257.993 \n",
       "  980.142,257.774 980.369,257.555 980.596,257.336 980.823,257.117 981.05,256.898 981.277,256.679 981.504,256.46 981.731,256.241 981.958,256.021 982.185,255.802 \n",
       "  982.413,255.582 982.64,255.363 982.867,255.143 983.094,254.923 983.321,254.704 983.548,254.484 983.775,254.264 984.002,254.044 984.229,253.824 984.456,253.604 \n",
       "  984.683,253.384 984.91,253.164 985.137,252.944 985.364,252.723 985.591,252.503 985.818,252.283 986.045,252.062 986.272,251.842 986.499,251.621 986.726,251.4 \n",
       "  986.953,251.18 987.18,250.959 987.407,250.738 987.634,250.517 987.861,250.296 988.089,250.075 988.316,249.854 988.543,249.633 988.77,249.412 988.997,249.19 \n",
       "  989.224,248.969 989.451,248.748 989.678,248.526 989.905,248.305 990.132,248.083 990.359,247.861 990.586,247.64 990.813,247.418 991.04,247.196 991.267,246.974 \n",
       "  991.494,246.752 991.721,246.53 991.948,246.308 992.175,246.086 992.402,245.864 992.629,245.641 992.856,245.419 993.083,245.197 993.31,244.974 993.537,244.752 \n",
       "  993.765,244.529 993.992,244.307 994.219,244.084 994.446,243.861 994.673,243.638 994.9,243.415 995.127,243.192 995.354,242.969 995.581,242.746 995.808,242.523 \n",
       "  996.035,242.3 996.262,242.077 996.489,241.853 996.716,241.63 996.943,241.407 997.17,241.183 997.397,240.96 997.624,240.736 997.851,240.512 998.078,240.289 \n",
       "  998.305,240.065 998.532,239.841 998.759,239.617 998.986,239.393 999.213,239.169 999.441,238.945 999.668,238.721 999.895,238.496 1000.12,238.272 1000.35,238.048 \n",
       "  1000.58,237.823 1000.8,237.599 1001.03,237.374 1001.26,237.15 1001.48,236.925 1001.71,236.7 1001.94,236.475 1002.17,236.25 1002.39,236.026 1002.62,235.801 \n",
       "  1002.85,235.576 1003.07,235.35 1003.3,235.125 1003.53,234.9 1003.75,234.675 1003.98,234.449 1004.21,234.224 1004.44,233.998 1004.66,233.773 1004.89,233.547 \n",
       "  1005.12,233.322 1005.34,233.096 1005.57,232.87 1005.8,232.644 1006.02,232.418 1006.25,232.192 1006.48,231.966 1006.71,231.74 1006.93,231.514 1007.16,231.288 \n",
       "  1007.39,231.062 1007.61,230.835 1007.84,230.609 1008.07,230.382 1008.3,230.156 1008.52,229.929 1008.75,229.703 1008.98,229.476 1009.2,229.249 1009.43,229.022 \n",
       "  1009.66,228.795 1009.88,228.568 1010.11,228.341 1010.34,228.114 1010.57,227.887 1010.79,227.66 1011.02,227.433 1011.25,227.205 1011.47,226.978 1011.7,226.75 \n",
       "  1011.93,226.523 1012.15,226.295 1012.38,226.068 1012.61,225.84 1012.84,225.612 1013.06,225.384 1013.29,225.156 1013.52,224.928 1013.74,224.7 1013.97,224.472 \n",
       "  1014.2,224.244 1014.43,224.016 1014.65,223.788 1014.88,223.559 1015.11,223.331 1015.33,223.102 1015.56,222.874 1015.79,222.645 1016.01,222.417 1016.24,222.188 \n",
       "  1016.47,221.959 1016.7,221.73 1016.92,221.501 1017.15,221.273 1017.38,221.044 1017.6,220.814 1017.83,220.585 1018.06,220.356 1018.28,220.127 1018.51,219.897 \n",
       "  1018.74,219.668 1018.97,219.439 1019.19,219.209 1019.42,218.98 1019.65,218.75 1019.87,218.52 1020.1,218.29 1020.33,218.061 1020.56,217.831 1020.78,217.601 \n",
       "  1021.01,217.371 1021.24,217.141 1021.46,216.911 1021.69,216.68 1021.92,216.45 1022.14,216.22 1022.37,215.989 1022.6,215.759 1022.83,215.528 1023.05,215.298 \n",
       "  1023.28,215.067 1023.51,214.837 1023.73,214.606 1023.96,214.375 1024.19,214.144 1024.41,213.913 1024.64,213.682 1024.87,213.451 1025.1,213.22 1025.32,212.989 \n",
       "  1025.55,212.757 1025.78,212.526 1026,212.295 1026.23,212.063 1026.46,211.832 1026.69,211.6 1026.91,211.369 1027.14,211.137 1027.37,210.905 1027.59,210.673 \n",
       "  1027.82,210.441 1028.05,210.209 1028.27,209.977 1028.5,209.745 1028.73,209.513 1028.96,209.281 1029.18,209.049 1029.41,208.817 1029.64,208.584 1029.86,208.352 \n",
       "  1030.09,208.119 1030.32,207.887 1030.55,207.654 1030.77,207.421 1031,207.189 1031.23,206.956 1031.45,206.723 1031.68,206.49 1031.91,206.257 1032.13,206.024 \n",
       "  1032.36,205.791 1032.59,205.558 1032.82,205.324 1033.04,205.091 1033.27,204.858 1033.5,204.624 1033.72,204.391 1033.95,204.157 1034.18,203.923 1034.4,203.69 \n",
       "  1034.63,203.456 1034.86,203.222 1035.09,202.988 1035.31,202.754 1035.54,202.52 1035.77,202.286 1035.99,202.052 1036.22,201.818 1036.45,201.584 1036.68,201.349 \n",
       "  1036.9,201.115 1037.13,200.881 1037.36,200.646 1037.58,200.412 1037.81,200.177 1038.04,199.942 1038.26,199.707 1038.49,199.473 1038.72,199.238 1038.95,199.003 \n",
       "  1039.17,198.768 1039.4,198.533 1039.63,198.298 1039.85,198.062 1040.08,197.827 1040.31,197.592 1040.53,197.356 1040.76,197.121 1040.99,196.886 1041.22,196.65 \n",
       "  1041.44,196.414 1041.67,196.179 1041.9,195.943 1042.12,195.707 1042.35,195.471 1042.58,195.235 1042.81,194.999 1043.03,194.763 1043.26,194.527 1043.49,194.291 \n",
       "  1043.71,194.055 1043.94,193.818 1044.17,193.582 1044.39,193.345 1044.62,193.109 1044.85,192.872 1045.08,192.636 1045.3,192.399 1045.53,192.162 1045.76,191.926 \n",
       "  1045.98,191.689 1046.21,191.452 1046.44,191.215 1046.66,190.978 1046.89,190.741 1047.12,190.503 1047.35,190.266 1047.57,190.029 1047.8,189.791 1048.03,189.554 \n",
       "  1048.25,189.316 1048.48,189.079 1048.71,188.841 1048.94,188.604 1049.16,188.366 1049.39,188.128 1049.62,187.89 1049.84,187.652 1050.07,187.414 1050.3,187.176 \n",
       "  1050.52,186.938 1050.75,186.7 1050.98,186.461 1051.21,186.223 1051.43,185.985 1051.66,185.746 1051.89,185.508 1052.11,185.269 1052.34,185.031 1052.57,184.792 \n",
       "  1052.79,184.553 1053.02,184.314 1053.25,184.075 1053.48,183.837 1053.7,183.598 1053.93,183.358 1054.16,183.119 1054.38,182.88 1054.61,182.641 1054.84,182.402 \n",
       "  1055.07,182.162 1055.29,181.923 1055.52,181.683 1055.75,181.444 1055.97,181.204 1056.2,180.964 1056.43,180.724 1056.65,180.485 1056.88,180.245 1057.11,180.005 \n",
       "  1057.34,179.765 1057.56,179.525 1057.79,179.285 1058.02,179.044 1058.24,178.804 1058.47,178.564 1058.7,178.323 1058.93,178.083 1059.15,177.842 1059.38,177.602 \n",
       "  1059.61,177.361 1059.83,177.121 1060.06,176.88 1060.29,176.639 1060.51,176.398 1060.74,176.157 1060.97,175.916 1061.2,175.675 1061.42,175.434 1061.65,175.193 \n",
       "  1061.88,174.951 1062.1,174.71 1062.33,174.469 1062.56,174.227 1062.78,173.986 1063.01,173.744 1063.24,173.502 1063.47,173.261 1063.69,173.019 1063.92,172.777 \n",
       "  1064.15,172.535 1064.37,172.293 1064.6,172.051 1064.83,171.809 1065.06,171.567 1065.28,171.325 1065.51,171.082 1065.74,170.84 1065.96,170.598 1066.19,170.355 \n",
       "  1066.42,170.113 1066.64,169.87 1066.87,169.628 1067.1,169.385 1067.33,169.142 1067.55,168.899 1067.78,168.656 1068.01,168.413 1068.23,168.17 1068.46,167.927 \n",
       "  1068.69,167.684 1068.91,167.441 1069.14,167.198 1069.37,166.954 1069.6,166.711 1069.82,166.467 1070.05,166.224 1070.28,165.98 1070.5,165.736 1070.73,165.493 \n",
       "  1070.96,165.249 1071.19,165.005 1071.41,164.761 1071.64,164.517 1071.87,164.273 1072.09,164.029 1072.32,163.785 1072.55,163.541 1072.77,163.296 1073,163.052 \n",
       "  1073.23,162.808 1073.46,162.563 1073.68,162.319 1073.91,162.074 1074.14,161.829 1074.36,161.585 1074.59,161.34 1074.82,161.095 1075.04,160.85 1075.27,160.605 \n",
       "  1075.5,160.36 1075.73,160.115 1075.95,159.87 1076.18,159.624 1076.41,159.379 1076.63,159.134 1076.86,158.888 1077.09,158.643 1077.32,158.397 1077.54,158.152 \n",
       "  1077.77,157.906 1078,157.66 1078.22,157.414 1078.45,157.169 1078.68,156.923 1078.9,156.677 1079.13,156.431 1079.36,156.185 1079.59,155.938 1079.81,155.692 \n",
       "  1080.04,155.446 1080.27,155.199 1080.49,154.953 1080.72,154.706 1080.95,154.46 1081.18,154.213 1081.4,153.967 1081.63,153.72 1081.86,153.473 1082.08,153.226 \n",
       "  1082.31,152.979 1082.54,152.732 1082.76,152.485 1082.99,152.238 1083.22,151.991 1083.45,151.744 1083.67,151.496 1083.9,151.249 1084.13,151.001 1084.35,150.754 \n",
       "  1084.58,150.506 1084.81,150.259 1085.03,150.011 1085.26,149.763 1085.49,149.515 1085.72,149.268 1085.94,149.02 1086.17,148.772 1086.4,148.523 1086.62,148.275 \n",
       "  1086.85,148.027 1087.08,147.779 1087.31,147.531 1087.53,147.282 1087.76,147.034 1087.99,146.785 1088.21,146.537 1088.44,146.288 1088.67,146.039 1088.89,145.79 \n",
       "  1089.12,145.542 1089.35,145.293 1089.58,145.044 1089.8,144.795 1090.03,144.546 1090.26,144.296 1090.48,144.047 1090.71,143.798 1090.94,143.549 1091.16,143.299 \n",
       "  1091.39,143.05 1091.62,142.8 1091.85,142.551 1092.07,142.301 1092.3,142.051 1092.53,141.801 1092.75,141.552 1092.98,141.302 1093.21,141.052 1093.44,140.802 \n",
       "  1093.66,140.552 1093.89,140.301 1094.12,140.051 1094.34,139.801 1094.57,139.55 1094.8,139.3 1095.02,139.05 1095.25,138.799 1095.48,138.548 1095.71,138.298 \n",
       "  1095.93,138.047 1096.16,137.796 1096.39,137.545 1096.61,137.294 1096.84,137.043 1097.07,136.792 1097.29,136.541 1097.52,136.29 1097.75,136.039 1097.98,135.788 \n",
       "  1098.2,135.536 1098.43,135.285 1098.66,135.033 1098.88,134.782 1099.11,134.53 1099.34,134.278 1099.57,134.027 1099.79,133.775 1100.02,133.523 1100.25,133.271 \n",
       "  1100.47,133.019 1100.7,132.767 1100.93,132.515 1101.15,132.263 1101.38,132.01 1101.61,131.758 1101.84,131.506 1102.06,131.253 1102.29,131.001 1102.52,130.748 \n",
       "  1102.74,130.495 1102.97,130.243 1103.2,129.99 1103.42,129.737 1103.65,129.484 1103.88,129.231 1104.11,128.978 1104.33,128.725 1104.56,128.472 1104.79,128.219 \n",
       "  1105.01,127.965 1105.24,127.712 1105.47,127.459 1105.7,127.205 1105.92,126.952 1106.15,126.698 1106.38,126.444 1106.6,126.191 1106.83,125.937 1107.06,125.683 \n",
       "  1107.28,125.429 1107.51,125.175 1107.74,124.921 1107.97,124.667 1108.19,124.413 1108.42,124.159 1108.65,123.904 1108.87,123.65 1109.1,123.396 1109.33,123.141 \n",
       "  1109.56,122.887 1109.78,122.632 1110.01,122.377 1110.24,122.123 1110.46,121.868 1110.69,121.613 1110.92,121.358 1111.14,121.103 1111.37,120.848 1111.6,120.593 \n",
       "  1111.83,120.338 1112.05,120.082 1112.28,119.827 1112.51,119.572 1112.73,119.316 1112.96,119.061 1113.19,118.805 1113.41,118.55 1113.64,118.294 1113.87,118.038 \n",
       "  1114.1,117.782 1114.32,117.526 1114.55,117.271 1114.78,117.014 1115,116.758 1115.23,116.502 1115.46,116.246 1115.69,115.99 1115.91,115.733 1116.14,115.477 \n",
       "  1116.37,115.221 1116.59,114.964 1116.82,114.708 1117.05,114.451 1117.27,114.194 1117.5,113.937 1117.73,113.681 1117.96,113.424 1118.18,113.167 1118.41,112.91 \n",
       "  1118.64,112.653 1118.86,112.395 1119.09,112.138 1119.32,111.881 1119.54,111.624 1119.77,111.366 1120,111.109 1120.23,110.851 1120.45,110.594 1120.68,110.336 \n",
       "  1120.91,110.078 1121.13,109.82 1121.36,109.563 1121.59,109.305 1121.82,109.047 1122.04,108.789 1122.27,108.53 1122.5,108.272 1122.72,108.014 1122.95,107.756 \n",
       "  1123.18,107.497 1123.4,107.239 1123.63,106.98 1123.86,106.722 1124.09,106.463 1124.31,106.205 1124.54,105.946 1124.77,105.687 1124.99,105.428 1125.22,105.169 \n",
       "  1125.45,104.91 1125.67,104.651 1125.9,104.392 1126.13,104.133 1126.36,103.874 1126.58,103.614 1126.81,103.355 1127.04,103.095 1127.26,102.836 1127.49,102.576 \n",
       "  1127.72,102.317 1127.95,102.057 1128.17,101.797 1128.4,101.537 1128.63,101.277 1128.85,101.017 1129.08,100.757 1129.31,100.497 1129.53,100.237 1129.76,99.9769 \n",
       "  1129.99,99.7167 1130.22,99.4563 1130.44,99.1959 1130.67,98.9354 1130.9,98.6749 1131.12,98.4143 1131.35,98.1536 1131.58,97.8929 1131.81,97.6321 1132.03,97.3712 \n",
       "  1132.26,97.1103 1132.49,96.8493 1132.71,96.5883 1132.94,96.3272 1133.17,96.066 1133.39,95.8048 1133.62,95.5434 1133.85,95.2821 1134.08,95.0206 1134.3,94.7592 \n",
       "  1134.53,94.4976 1134.76,94.236 1134.98,93.9743 1135.21,93.7125 1135.44,93.4507 1135.66,93.1888 1135.89,92.9269 1136.12,92.6649 1136.35,92.4028 1136.57,92.1407 \n",
       "  1136.8,91.8785 1137.03,91.6162 1137.25,91.3539 1137.48,91.0915 1137.71,90.829 1137.94,90.5665 1138.16,90.3039 1138.39,90.0413 1138.62,89.7786 1138.84,89.5158 \n",
       "  1139.07,89.2529 1139.3,88.99 1139.52,88.7271 1139.75,88.464 1139.98,88.2009 1140.21,87.9378 1140.43,87.6746 1140.66,87.4113 1140.89,87.1479 1141.11,86.8845 \n",
       "  1141.34,86.621 1141.57,86.3575 1141.79,86.0939 1142.02,85.8302 1142.25,85.5665 1142.48,85.3027 1142.7,85.0388 1142.93,84.7749 1143.16,84.5109 1143.38,84.2468 \n",
       "  1143.61,83.9827 1143.84,83.7185 1144.07,83.4543 1144.29,83.1899 1144.52,82.9256 1144.75,82.6611 1144.97,82.3966 1145.2,82.132 1145.43,81.8674 1145.65,81.6027 \n",
       "  1145.88,81.338 1146.11,81.0731 1146.34,80.8082 1146.56,80.5433 1146.79,80.2783 1147.02,80.0132 1147.24,79.748 1147.47,79.4828 1147.7,79.2175 1147.92,78.9522 \n",
       "  1148.15,78.6868 1148.38,78.4213 1148.61,78.1558 1148.83,77.8902 1149.06,77.6245 1149.29,77.3588 1149.51,77.093 1149.74,76.8272 1149.97,76.5613 1150.2,76.2953 \n",
       "  1150.42,76.0292 1150.65,75.7631 1150.88,75.497 1151.1,75.2307 1151.33,74.9644 1151.56,74.698 1151.78,74.4316 1152.01,74.1651 1152.24,73.8986 1152.47,73.6319 \n",
       "  1152.69,73.3653 1152.92,73.0985 1153.15,72.8317 1153.37,72.5648 1153.6,72.2979 1153.83,72.0309 1154.05,71.7638 1154.28,71.4966 1154.51,71.2294 1154.74,70.9622 \n",
       "  1154.96,70.6949 1155.19,70.4275 1155.42,70.16 1155.64,69.8925 1155.87,69.6249 1156.1,69.3572 1156.33,69.0895 1156.55,68.8217 1156.78,68.5539 1157.01,68.286 \n",
       "  1157.23,68.018 1157.46,67.75 1157.69,67.4819 1157.91,67.2137 1158.14,66.9455 1158.37,66.6772 1158.6,66.4088 1158.82,66.1404 1159.05,65.8719 1159.28,65.6034 \n",
       "  1159.5,65.3348 \n",
       "  \"/>\n",
       "<path clip-path=\"url(#clip350)\" d=\"\n",
       "M794.182 172.231 L1154.66 172.231 L1154.66 68.5509 L794.182 68.5509  Z\n",
       "  \" fill=\"#ffffff\" fill-rule=\"evenodd\" fill-opacity=\"1\"/>\n",
       "<polyline clip-path=\"url(#clip350)\" style=\"stroke:#000000; stroke-linecap:butt; stroke-linejoin:round; stroke-width:4; stroke-opacity:1; fill:none\" points=\"\n",
       "  794.182,172.231 1154.66,172.231 1154.66,68.5509 794.182,68.5509 794.182,172.231 \n",
       "  \"/>\n",
       "<polyline clip-path=\"url(#clip350)\" style=\"stroke:#009af9; stroke-linecap:butt; stroke-linejoin:round; stroke-width:4; stroke-opacity:1; fill:none\" points=\"\n",
       "  804.878,120.391 869.055,120.391 \n",
       "  \"/>\n",
       "<path clip-path=\"url(#clip350)\" d=\"M904.404 111.745 L895.029 124.361 L904.89 137.671 L899.867 137.671 L892.32 127.486 L884.774 137.671 L879.751 137.671 L889.82 124.106 L880.607 111.745 L885.631 111.745 L892.506 120.981 L899.381 111.745 L904.404 111.745 Z\" fill=\"#000000\" fill-rule=\"evenodd\" fill-opacity=\"1\" /><path clip-path=\"url(#clip350)\" d=\"M928.57 103.111 L941.14 116.004 L936.487 116.004 L926.302 106.861 L916.117 116.004 L911.464 116.004 L924.033 103.111 L928.57 103.111 Z\" fill=\"#000000\" fill-rule=\"evenodd\" fill-opacity=\"1\" /><path clip-path=\"url(#clip350)\" d=\"M955.26 133.736 L971.579 133.736 L971.579 137.671 L949.635 137.671 L949.635 133.736 Q952.297 130.981 956.88 126.352 Q961.487 121.699 962.667 120.356 Q964.913 117.833 965.792 116.097 Q966.695 114.338 966.695 112.648 Q966.695 109.893 964.751 108.157 Q962.829 106.421 959.727 106.421 Q957.528 106.421 955.075 107.185 Q952.644 107.949 949.866 109.5 L949.866 104.778 Q952.69 103.643 955.144 103.065 Q957.598 102.486 959.635 102.486 Q965.005 102.486 968.2 105.171 Q971.394 107.856 971.394 112.347 Q971.394 114.477 970.584 116.398 Q969.797 118.296 967.69 120.889 Q967.112 121.56 964.01 124.777 Q960.908 127.972 955.26 133.736 Z\" fill=\"#000000\" fill-rule=\"evenodd\" fill-opacity=\"1\" /><path clip-path=\"url(#clip350)\" d=\"M998.616 108.805 L990.306 113.296 L998.616 117.81 L997.274 120.078 L989.496 115.379 L989.496 124.106 L986.857 124.106 L986.857 115.379 L979.079 120.078 L977.737 117.81 L986.047 113.296 L977.737 108.805 L979.079 106.514 L986.857 111.213 L986.857 102.486 L989.496 102.486 L989.496 111.213 L997.274 106.514 L998.616 108.805 Z\" fill=\"#000000\" fill-rule=\"evenodd\" fill-opacity=\"1\" /><path clip-path=\"url(#clip350)\" d=\"M1004.5 101.653 L1008.75 101.653 L1008.75 137.671 L1004.5 137.671 L1004.5 101.653 Z\" fill=\"#000000\" fill-rule=\"evenodd\" fill-opacity=\"1\" /><path clip-path=\"url(#clip350)\" d=\"M1027.71 114.731 Q1024.29 114.731 1022.3 117.416 Q1020.31 120.078 1020.31 124.731 Q1020.31 129.384 1022.27 132.069 Q1024.26 134.731 1027.71 134.731 Q1031.12 134.731 1033.11 132.046 Q1035.1 129.361 1035.1 124.731 Q1035.1 120.125 1033.11 117.44 Q1031.12 114.731 1027.71 114.731 M1027.71 111.12 Q1033.27 111.12 1036.44 114.731 Q1039.61 118.342 1039.61 124.731 Q1039.61 131.097 1036.44 134.731 Q1033.27 138.342 1027.71 138.342 Q1022.13 138.342 1018.96 134.731 Q1015.82 131.097 1015.82 124.731 Q1015.82 118.342 1018.96 114.731 Q1022.13 111.12 1027.71 111.12 Z\" fill=\"#000000\" fill-rule=\"evenodd\" fill-opacity=\"1\" /><path clip-path=\"url(#clip350)\" d=\"M1063.73 124.407 Q1063.73 119.777 1061.81 117.231 Q1059.91 114.685 1056.46 114.685 Q1053.04 114.685 1051.12 117.231 Q1049.22 119.777 1049.22 124.407 Q1049.22 129.014 1051.12 131.56 Q1053.04 134.106 1056.46 134.106 Q1059.91 134.106 1061.81 131.56 Q1063.73 129.014 1063.73 124.407 M1067.99 134.453 Q1067.99 141.074 1065.05 144.291 Q1062.11 147.532 1056.05 147.532 Q1053.8 147.532 1051.81 147.185 Q1049.82 146.861 1047.94 146.166 L1047.94 142.023 Q1049.82 143.041 1051.65 143.527 Q1053.48 144.013 1055.38 144.013 Q1059.56 144.013 1061.65 141.814 Q1063.73 139.638 1063.73 135.217 L1063.73 133.111 Q1062.41 135.402 1060.35 136.537 Q1058.29 137.671 1055.42 137.671 Q1050.65 137.671 1047.74 134.037 Q1044.82 130.402 1044.82 124.407 Q1044.82 118.389 1047.74 114.754 Q1050.65 111.12 1055.42 111.12 Q1058.29 111.12 1060.35 112.254 Q1062.41 113.389 1063.73 115.68 L1063.73 111.745 L1067.99 111.745 L1067.99 134.453 Z\" fill=\"#000000\" fill-rule=\"evenodd\" fill-opacity=\"1\" /><path clip-path=\"url(#clip350)\" d=\"M1087 101.699 Q1083.89 107.023 1082.39 112.231 Q1080.88 117.44 1080.88 122.787 Q1080.88 128.134 1082.39 133.389 Q1083.92 138.62 1087 143.921 L1083.29 143.921 Q1079.82 138.481 1078.08 133.226 Q1076.37 127.972 1076.37 122.787 Q1076.37 117.625 1078.08 112.393 Q1079.8 107.162 1083.29 101.699 L1087 101.699 Z\" fill=\"#000000\" fill-rule=\"evenodd\" fill-opacity=\"1\" /><path clip-path=\"url(#clip350)\" d=\"M1116.81 111.745 L1107.43 124.361 L1117.3 137.671 L1112.27 137.671 L1104.73 127.486 L1097.18 137.671 L1092.16 137.671 L1102.23 124.106 L1093.01 111.745 L1098.04 111.745 L1104.91 120.981 L1111.79 111.745 L1116.81 111.745 Z\" fill=\"#000000\" fill-rule=\"evenodd\" fill-opacity=\"1\" /><path clip-path=\"url(#clip350)\" d=\"M1122.64 101.699 L1126.35 101.699 Q1129.82 107.162 1131.53 112.393 Q1133.27 117.625 1133.27 122.787 Q1133.27 127.972 1131.53 133.226 Q1129.82 138.481 1126.35 143.921 L1122.64 143.921 Q1125.72 138.62 1127.23 133.389 Q1128.75 128.134 1128.75 122.787 Q1128.75 117.44 1127.23 112.231 Q1125.72 107.023 1122.64 101.699 Z\" fill=\"#000000\" fill-rule=\"evenodd\" fill-opacity=\"1\" /><path clip-path=\"url(#clip350)\" d=\"\n",
       "M1390.1 686.448 L2352.76 686.448 L2352.76 47.2441 L1390.1 47.2441  Z\n",
       "  \" fill=\"#ffffff\" fill-rule=\"evenodd\" fill-opacity=\"1\"/>\n",
       "<defs>\n",
       "  <clipPath id=\"clip353\">\n",
       "    <rect x=\"1390\" y=\"47\" width=\"964\" height=\"640\"/>\n",
       "  </clipPath>\n",
       "</defs>\n",
       "<polyline clip-path=\"url(#clip353)\" style=\"stroke:#000000; stroke-linecap:butt; stroke-linejoin:round; stroke-width:2; stroke-opacity:0.1; fill:none\" points=\"\n",
       "  1417.35,686.448 1417.35,47.2441 \n",
       "  \"/>\n",
       "<polyline clip-path=\"url(#clip353)\" style=\"stroke:#000000; stroke-linecap:butt; stroke-linejoin:round; stroke-width:2; stroke-opacity:0.1; fill:none\" points=\"\n",
       "  1598.98,686.448 1598.98,47.2441 \n",
       "  \"/>\n",
       "<polyline clip-path=\"url(#clip353)\" style=\"stroke:#000000; stroke-linecap:butt; stroke-linejoin:round; stroke-width:2; stroke-opacity:0.1; fill:none\" points=\"\n",
       "  1780.61,686.448 1780.61,47.2441 \n",
       "  \"/>\n",
       "<polyline clip-path=\"url(#clip353)\" style=\"stroke:#000000; stroke-linecap:butt; stroke-linejoin:round; stroke-width:2; stroke-opacity:0.1; fill:none\" points=\"\n",
       "  1962.25,686.448 1962.25,47.2441 \n",
       "  \"/>\n",
       "<polyline clip-path=\"url(#clip353)\" style=\"stroke:#000000; stroke-linecap:butt; stroke-linejoin:round; stroke-width:2; stroke-opacity:0.1; fill:none\" points=\"\n",
       "  2143.88,686.448 2143.88,47.2441 \n",
       "  \"/>\n",
       "<polyline clip-path=\"url(#clip353)\" style=\"stroke:#000000; stroke-linecap:butt; stroke-linejoin:round; stroke-width:2; stroke-opacity:0.1; fill:none\" points=\"\n",
       "  2325.51,686.448 2325.51,47.2441 \n",
       "  \"/>\n",
       "<polyline clip-path=\"url(#clip350)\" style=\"stroke:#000000; stroke-linecap:butt; stroke-linejoin:round; stroke-width:4; stroke-opacity:1; fill:none\" points=\"\n",
       "  1390.1,686.448 2352.76,686.448 \n",
       "  \"/>\n",
       "<polyline clip-path=\"url(#clip350)\" style=\"stroke:#000000; stroke-linecap:butt; stroke-linejoin:round; stroke-width:4; stroke-opacity:1; fill:none\" points=\"\n",
       "  1417.35,686.448 1417.35,667.55 \n",
       "  \"/>\n",
       "<polyline clip-path=\"url(#clip350)\" style=\"stroke:#000000; stroke-linecap:butt; stroke-linejoin:round; stroke-width:4; stroke-opacity:1; fill:none\" points=\"\n",
       "  1598.98,686.448 1598.98,667.55 \n",
       "  \"/>\n",
       "<polyline clip-path=\"url(#clip350)\" style=\"stroke:#000000; stroke-linecap:butt; stroke-linejoin:round; stroke-width:4; stroke-opacity:1; fill:none\" points=\"\n",
       "  1780.61,686.448 1780.61,667.55 \n",
       "  \"/>\n",
       "<polyline clip-path=\"url(#clip350)\" style=\"stroke:#000000; stroke-linecap:butt; stroke-linejoin:round; stroke-width:4; stroke-opacity:1; fill:none\" points=\"\n",
       "  1962.25,686.448 1962.25,667.55 \n",
       "  \"/>\n",
       "<polyline clip-path=\"url(#clip350)\" style=\"stroke:#000000; stroke-linecap:butt; stroke-linejoin:round; stroke-width:4; stroke-opacity:1; fill:none\" points=\"\n",
       "  2143.88,686.448 2143.88,667.55 \n",
       "  \"/>\n",
       "<polyline clip-path=\"url(#clip350)\" style=\"stroke:#000000; stroke-linecap:butt; stroke-linejoin:round; stroke-width:4; stroke-opacity:1; fill:none\" points=\"\n",
       "  2325.51,686.448 2325.51,667.55 \n",
       "  \"/>\n",
       "<path clip-path=\"url(#clip350)\" d=\"M1384.5 744.913 L1392.14 744.913 L1392.14 718.547 L1383.83 720.214 L1383.83 715.955 L1392.1 714.288 L1396.77 714.288 L1396.77 744.913 L1404.41 744.913 L1404.41 748.848 L1384.5 748.848 L1384.5 744.913 Z\" fill=\"#000000\" fill-rule=\"evenodd\" fill-opacity=\"1\" /><path clip-path=\"url(#clip350)\" d=\"M1413.85 742.968 L1418.74 742.968 L1418.74 748.848 L1413.85 748.848 L1413.85 742.968 Z\" fill=\"#000000\" fill-rule=\"evenodd\" fill-opacity=\"1\" /><path clip-path=\"url(#clip350)\" d=\"M1438.92 717.367 Q1435.31 717.367 1433.48 720.931 Q1431.68 724.473 1431.68 731.603 Q1431.68 738.709 1433.48 742.274 Q1435.31 745.815 1438.92 745.815 Q1442.56 745.815 1444.36 742.274 Q1446.19 738.709 1446.19 731.603 Q1446.19 724.473 1444.36 720.931 Q1442.56 717.367 1438.92 717.367 M1438.92 713.663 Q1444.73 713.663 1447.79 718.269 Q1450.87 722.853 1450.87 731.603 Q1450.87 740.329 1447.79 744.936 Q1444.73 749.519 1438.92 749.519 Q1433.11 749.519 1430.03 744.936 Q1426.98 740.329 1426.98 731.603 Q1426.98 722.853 1430.03 718.269 Q1433.11 713.663 1438.92 713.663 Z\" fill=\"#000000\" fill-rule=\"evenodd\" fill-opacity=\"1\" /><path clip-path=\"url(#clip350)\" d=\"M1566.75 744.913 L1574.39 744.913 L1574.39 718.547 L1566.08 720.214 L1566.08 715.955 L1574.34 714.288 L1579.02 714.288 L1579.02 744.913 L1586.66 744.913 L1586.66 748.848 L1566.75 748.848 L1566.75 744.913 Z\" fill=\"#000000\" fill-rule=\"evenodd\" fill-opacity=\"1\" /><path clip-path=\"url(#clip350)\" d=\"M1596.1 742.968 L1600.98 742.968 L1600.98 748.848 L1596.1 748.848 L1596.1 742.968 Z\" fill=\"#000000\" fill-rule=\"evenodd\" fill-opacity=\"1\" /><path clip-path=\"url(#clip350)\" d=\"M1611.98 744.913 L1619.62 744.913 L1619.62 718.547 L1611.31 720.214 L1611.31 715.955 L1619.57 714.288 L1624.25 714.288 L1624.25 744.913 L1631.89 744.913 L1631.89 748.848 L1611.98 748.848 L1611.98 744.913 Z\" fill=\"#000000\" fill-rule=\"evenodd\" fill-opacity=\"1\" /><path clip-path=\"url(#clip350)\" d=\"M1748.57 744.913 L1756.2 744.913 L1756.2 718.547 L1747.89 720.214 L1747.89 715.955 L1756.16 714.288 L1760.83 714.288 L1760.83 744.913 L1768.47 744.913 L1768.47 748.848 L1748.57 748.848 L1748.57 744.913 Z\" fill=\"#000000\" fill-rule=\"evenodd\" fill-opacity=\"1\" /><path clip-path=\"url(#clip350)\" d=\"M1777.92 742.968 L1782.8 742.968 L1782.8 748.848 L1777.92 748.848 L1777.92 742.968 Z\" fill=\"#000000\" fill-rule=\"evenodd\" fill-opacity=\"1\" /><path clip-path=\"url(#clip350)\" d=\"M1797.01 744.913 L1813.33 744.913 L1813.33 748.848 L1791.39 748.848 L1791.39 744.913 Q1794.05 742.158 1798.64 737.528 Q1803.24 732.876 1804.42 731.533 Q1806.67 729.01 1807.55 727.274 Q1808.45 725.515 1808.45 723.825 Q1808.45 721.07 1806.51 719.334 Q1804.58 717.598 1801.48 717.598 Q1799.28 717.598 1796.83 718.362 Q1794.4 719.126 1791.62 720.677 L1791.62 715.955 Q1794.45 714.82 1796.9 714.242 Q1799.35 713.663 1801.39 713.663 Q1806.76 713.663 1809.95 716.348 Q1813.15 719.033 1813.15 723.524 Q1813.15 725.654 1812.34 727.575 Q1811.55 729.473 1809.45 732.066 Q1808.87 732.737 1805.76 735.954 Q1802.66 739.149 1797.01 744.913 Z\" fill=\"#000000\" fill-rule=\"evenodd\" fill-opacity=\"1\" /><path clip-path=\"url(#clip350)\" d=\"M1929.72 744.913 L1937.36 744.913 L1937.36 718.547 L1929.05 720.214 L1929.05 715.955 L1937.32 714.288 L1941.99 714.288 L1941.99 744.913 L1949.63 744.913 L1949.63 748.848 L1929.72 748.848 L1929.72 744.913 Z\" fill=\"#000000\" fill-rule=\"evenodd\" fill-opacity=\"1\" /><path clip-path=\"url(#clip350)\" d=\"M1959.08 742.968 L1963.96 742.968 L1963.96 748.848 L1959.08 748.848 L1959.08 742.968 Z\" fill=\"#000000\" fill-rule=\"evenodd\" fill-opacity=\"1\" /><path clip-path=\"url(#clip350)\" d=\"M1988.31 730.214 Q1991.67 730.931 1993.54 733.2 Q1995.44 735.468 1995.44 738.802 Q1995.44 743.917 1991.92 746.718 Q1988.4 749.519 1981.92 749.519 Q1979.75 749.519 1977.43 749.079 Q1975.14 748.663 1972.69 747.806 L1972.69 743.292 Q1974.63 744.427 1976.95 745.005 Q1979.26 745.584 1981.78 745.584 Q1986.18 745.584 1988.47 743.848 Q1990.79 742.112 1990.79 738.802 Q1990.79 735.746 1988.64 734.033 Q1986.51 732.297 1982.69 732.297 L1978.66 732.297 L1978.66 728.454 L1982.87 728.454 Q1986.32 728.454 1988.15 727.089 Q1989.98 725.7 1989.98 723.107 Q1989.98 720.445 1988.08 719.033 Q1986.2 717.598 1982.69 717.598 Q1980.76 717.598 1978.57 718.015 Q1976.37 718.431 1973.73 719.311 L1973.73 715.144 Q1976.39 714.404 1978.7 714.033 Q1981.04 713.663 1983.1 713.663 Q1988.43 713.663 1991.53 716.093 Q1994.63 718.501 1994.63 722.621 Q1994.63 725.492 1992.99 727.482 Q1991.34 729.45 1988.31 730.214 Z\" fill=\"#000000\" fill-rule=\"evenodd\" fill-opacity=\"1\" /><path clip-path=\"url(#clip350)\" d=\"M2110.79 744.913 L2118.43 744.913 L2118.43 718.547 L2110.12 720.214 L2110.12 715.955 L2118.38 714.288 L2123.06 714.288 L2123.06 744.913 L2130.7 744.913 L2130.7 748.848 L2110.79 748.848 L2110.79 744.913 Z\" fill=\"#000000\" fill-rule=\"evenodd\" fill-opacity=\"1\" /><path clip-path=\"url(#clip350)\" d=\"M2140.14 742.968 L2145.02 742.968 L2145.02 748.848 L2140.14 748.848 L2140.14 742.968 Z\" fill=\"#000000\" fill-rule=\"evenodd\" fill-opacity=\"1\" /><path clip-path=\"url(#clip350)\" d=\"M2168.06 718.362 L2156.25 736.811 L2168.06 736.811 L2168.06 718.362 M2166.83 714.288 L2172.71 714.288 L2172.71 736.811 L2177.64 736.811 L2177.64 740.7 L2172.71 740.7 L2172.71 748.848 L2168.06 748.848 L2168.06 740.7 L2152.46 740.7 L2152.46 736.186 L2166.83 714.288 Z\" fill=\"#000000\" fill-rule=\"evenodd\" fill-opacity=\"1\" /><path clip-path=\"url(#clip350)\" d=\"M2293.16 744.913 L2300.8 744.913 L2300.8 718.547 L2292.49 720.214 L2292.49 715.955 L2300.75 714.288 L2305.43 714.288 L2305.43 744.913 L2313.07 744.913 L2313.07 748.848 L2293.16 748.848 L2293.16 744.913 Z\" fill=\"#000000\" fill-rule=\"evenodd\" fill-opacity=\"1\" /><path clip-path=\"url(#clip350)\" d=\"M2322.51 742.968 L2327.4 742.968 L2327.4 748.848 L2322.51 748.848 L2322.51 742.968 Z\" fill=\"#000000\" fill-rule=\"evenodd\" fill-opacity=\"1\" /><path clip-path=\"url(#clip350)\" d=\"M2337.63 714.288 L2355.99 714.288 L2355.99 718.223 L2341.91 718.223 L2341.91 726.695 Q2342.93 726.348 2343.95 726.186 Q2344.97 726.001 2345.99 726.001 Q2351.77 726.001 2355.15 729.172 Q2358.53 732.343 2358.53 737.76 Q2358.53 743.339 2355.06 746.44 Q2351.59 749.519 2345.27 749.519 Q2343.09 749.519 2340.82 749.149 Q2338.58 748.778 2336.17 748.038 L2336.17 743.339 Q2338.25 744.473 2340.48 745.028 Q2342.7 745.584 2345.18 745.584 Q2349.18 745.584 2351.52 743.478 Q2353.86 741.371 2353.86 737.76 Q2353.86 734.149 2351.52 732.042 Q2349.18 729.936 2345.18 729.936 Q2343.3 729.936 2341.43 730.353 Q2339.57 730.769 2337.63 731.649 L2337.63 714.288 Z\" fill=\"#000000\" fill-rule=\"evenodd\" fill-opacity=\"1\" /><polyline clip-path=\"url(#clip353)\" style=\"stroke:#000000; stroke-linecap:butt; stroke-linejoin:round; stroke-width:2; stroke-opacity:0.1; fill:none\" points=\"\n",
       "  1390.1,668.357 2352.76,668.357 \n",
       "  \"/>\n",
       "<polyline clip-path=\"url(#clip353)\" style=\"stroke:#000000; stroke-linecap:butt; stroke-linejoin:round; stroke-width:2; stroke-opacity:0.1; fill:none\" points=\"\n",
       "  1390.1,519.634 2352.76,519.634 \n",
       "  \"/>\n",
       "<polyline clip-path=\"url(#clip353)\" style=\"stroke:#000000; stroke-linecap:butt; stroke-linejoin:round; stroke-width:2; stroke-opacity:0.1; fill:none\" points=\"\n",
       "  1390.1,370.91 2352.76,370.91 \n",
       "  \"/>\n",
       "<polyline clip-path=\"url(#clip353)\" style=\"stroke:#000000; stroke-linecap:butt; stroke-linejoin:round; stroke-width:2; stroke-opacity:0.1; fill:none\" points=\"\n",
       "  1390.1,222.186 2352.76,222.186 \n",
       "  \"/>\n",
       "<polyline clip-path=\"url(#clip353)\" style=\"stroke:#000000; stroke-linecap:butt; stroke-linejoin:round; stroke-width:2; stroke-opacity:0.1; fill:none\" points=\"\n",
       "  1390.1,73.4627 2352.76,73.4627 \n",
       "  \"/>\n",
       "<polyline clip-path=\"url(#clip350)\" style=\"stroke:#000000; stroke-linecap:butt; stroke-linejoin:round; stroke-width:4; stroke-opacity:1; fill:none\" points=\"\n",
       "  1390.1,686.448 1390.1,47.2441 \n",
       "  \"/>\n",
       "<polyline clip-path=\"url(#clip350)\" style=\"stroke:#000000; stroke-linecap:butt; stroke-linejoin:round; stroke-width:4; stroke-opacity:1; fill:none\" points=\"\n",
       "  1390.1,668.357 1409,668.357 \n",
       "  \"/>\n",
       "<polyline clip-path=\"url(#clip350)\" style=\"stroke:#000000; stroke-linecap:butt; stroke-linejoin:round; stroke-width:4; stroke-opacity:1; fill:none\" points=\"\n",
       "  1390.1,519.634 1409,519.634 \n",
       "  \"/>\n",
       "<polyline clip-path=\"url(#clip350)\" style=\"stroke:#000000; stroke-linecap:butt; stroke-linejoin:round; stroke-width:4; stroke-opacity:1; fill:none\" points=\"\n",
       "  1390.1,370.91 1409,370.91 \n",
       "  \"/>\n",
       "<polyline clip-path=\"url(#clip350)\" style=\"stroke:#000000; stroke-linecap:butt; stroke-linejoin:round; stroke-width:4; stroke-opacity:1; fill:none\" points=\"\n",
       "  1390.1,222.186 1409,222.186 \n",
       "  \"/>\n",
       "<polyline clip-path=\"url(#clip350)\" style=\"stroke:#000000; stroke-linecap:butt; stroke-linejoin:round; stroke-width:4; stroke-opacity:1; fill:none\" points=\"\n",
       "  1390.1,73.4627 1409,73.4627 \n",
       "  \"/>\n",
       "<path clip-path=\"url(#clip350)\" d=\"M1301.1 667.003 Q1304.45 667.721 1306.33 669.989 Q1308.23 672.258 1308.23 675.591 Q1308.23 680.707 1304.71 683.508 Q1301.19 686.308 1294.71 686.308 Q1292.53 686.308 1290.22 685.869 Q1287.92 685.452 1285.47 684.596 L1285.47 680.082 Q1287.42 681.216 1289.73 681.795 Q1292.05 682.373 1294.57 682.373 Q1298.97 682.373 1301.26 680.637 Q1303.57 678.901 1303.57 675.591 Q1303.57 672.535 1301.42 670.822 Q1299.29 669.086 1295.47 669.086 L1291.44 669.086 L1291.44 665.244 L1295.66 665.244 Q1299.11 665.244 1300.93 663.878 Q1302.76 662.489 1302.76 659.897 Q1302.76 657.235 1300.86 655.823 Q1298.99 654.387 1295.47 654.387 Q1293.55 654.387 1291.35 654.804 Q1289.15 655.221 1286.51 656.1 L1286.51 651.934 Q1289.17 651.193 1291.49 650.823 Q1293.83 650.452 1295.89 650.452 Q1301.21 650.452 1304.31 652.883 Q1307.42 655.29 1307.42 659.41 Q1307.42 662.281 1305.77 664.272 Q1304.13 666.239 1301.1 667.003 Z\" fill=\"#000000\" fill-rule=\"evenodd\" fill-opacity=\"1\" /><path clip-path=\"url(#clip350)\" d=\"M1317.09 679.758 L1321.98 679.758 L1321.98 685.637 L1317.09 685.637 L1317.09 679.758 Z\" fill=\"#000000\" fill-rule=\"evenodd\" fill-opacity=\"1\" /><path clip-path=\"url(#clip350)\" d=\"M1342.16 654.156 Q1338.55 654.156 1336.72 657.721 Q1334.92 661.262 1334.92 668.392 Q1334.92 675.498 1336.72 679.063 Q1338.55 682.605 1342.16 682.605 Q1345.79 682.605 1347.6 679.063 Q1349.43 675.498 1349.43 668.392 Q1349.43 661.262 1347.6 657.721 Q1345.79 654.156 1342.16 654.156 M1342.16 650.452 Q1347.97 650.452 1351.03 655.059 Q1354.1 659.642 1354.1 668.392 Q1354.1 677.119 1351.03 681.725 Q1347.97 686.308 1342.16 686.308 Q1336.35 686.308 1333.27 681.725 Q1330.22 677.119 1330.22 668.392 Q1330.22 659.642 1333.27 655.059 Q1336.35 650.452 1342.16 650.452 Z\" fill=\"#000000\" fill-rule=\"evenodd\" fill-opacity=\"1\" /><path clip-path=\"url(#clip350)\" d=\"M1302.69 518.279 Q1306.05 518.997 1307.92 521.266 Q1309.82 523.534 1309.82 526.867 Q1309.82 531.983 1306.3 534.784 Q1302.79 537.585 1296.3 537.585 Q1294.13 537.585 1291.81 537.145 Q1289.52 536.728 1287.07 535.872 L1287.07 531.358 Q1289.01 532.492 1291.33 533.071 Q1293.64 533.65 1296.17 533.65 Q1300.56 533.65 1302.86 531.914 Q1305.17 530.177 1305.17 526.867 Q1305.17 523.812 1303.02 522.099 Q1300.89 520.363 1297.07 520.363 L1293.04 520.363 L1293.04 516.52 L1297.25 516.52 Q1300.7 516.52 1302.53 515.154 Q1304.36 513.766 1304.36 511.173 Q1304.36 508.511 1302.46 507.099 Q1300.59 505.664 1297.07 505.664 Q1295.15 505.664 1292.95 506.08 Q1290.75 506.497 1288.11 507.377 L1288.11 503.21 Q1290.77 502.469 1293.09 502.099 Q1295.42 501.729 1297.48 501.729 Q1302.81 501.729 1305.91 504.159 Q1309.01 506.567 1309.01 510.687 Q1309.01 513.557 1307.37 515.548 Q1305.73 517.516 1302.69 518.279 Z\" fill=\"#000000\" fill-rule=\"evenodd\" fill-opacity=\"1\" /><path clip-path=\"url(#clip350)\" d=\"M1318.69 531.034 L1323.57 531.034 L1323.57 536.914 L1318.69 536.914 L1318.69 531.034 Z\" fill=\"#000000\" fill-rule=\"evenodd\" fill-opacity=\"1\" /><path clip-path=\"url(#clip350)\" d=\"M1337.79 532.978 L1354.1 532.978 L1354.1 536.914 L1332.16 536.914 L1332.16 532.978 Q1334.82 530.224 1339.41 525.594 Q1344.01 520.941 1345.19 519.599 Q1347.44 517.076 1348.32 515.34 Q1349.22 513.58 1349.22 511.891 Q1349.22 509.136 1347.28 507.4 Q1345.36 505.664 1342.25 505.664 Q1340.05 505.664 1337.6 506.428 Q1335.17 507.192 1332.39 508.742 L1332.39 504.02 Q1335.22 502.886 1337.67 502.307 Q1340.12 501.729 1342.16 501.729 Q1347.53 501.729 1350.73 504.414 Q1353.92 507.099 1353.92 511.59 Q1353.92 513.719 1353.11 515.641 Q1352.32 517.539 1350.22 520.131 Q1349.64 520.803 1346.54 524.02 Q1343.43 527.215 1337.79 532.978 Z\" fill=\"#000000\" fill-rule=\"evenodd\" fill-opacity=\"1\" /><path clip-path=\"url(#clip350)\" d=\"M1300.61 369.556 Q1303.97 370.273 1305.84 372.542 Q1307.74 374.81 1307.74 378.144 Q1307.74 383.259 1304.22 386.06 Q1300.7 388.861 1294.22 388.861 Q1292.05 388.861 1289.73 388.421 Q1287.44 388.005 1284.98 387.148 L1284.98 382.634 Q1286.93 383.769 1289.24 384.347 Q1291.56 384.926 1294.08 384.926 Q1298.48 384.926 1300.77 383.19 Q1303.09 381.454 1303.09 378.144 Q1303.09 375.088 1300.93 373.375 Q1298.8 371.639 1294.98 371.639 L1290.96 371.639 L1290.96 367.797 L1295.17 367.797 Q1298.62 367.797 1300.45 366.431 Q1302.28 365.042 1302.28 362.449 Q1302.28 359.787 1300.38 358.375 Q1298.5 356.94 1294.98 356.94 Q1293.06 356.94 1290.86 357.357 Q1288.67 357.773 1286.03 358.653 L1286.03 354.486 Q1288.69 353.746 1291 353.375 Q1293.34 353.005 1295.4 353.005 Q1300.73 353.005 1303.83 355.435 Q1306.93 357.843 1306.93 361.963 Q1306.93 364.834 1305.29 366.824 Q1303.64 368.792 1300.61 369.556 Z\" fill=\"#000000\" fill-rule=\"evenodd\" fill-opacity=\"1\" /><path clip-path=\"url(#clip350)\" d=\"M1316.61 382.31 L1321.49 382.31 L1321.49 388.19 L1316.61 388.19 L1316.61 382.31 Z\" fill=\"#000000\" fill-rule=\"evenodd\" fill-opacity=\"1\" /><path clip-path=\"url(#clip350)\" d=\"M1344.52 357.704 L1332.72 376.153 L1344.52 376.153 L1344.52 357.704 M1343.29 353.63 L1349.17 353.63 L1349.17 376.153 L1354.1 376.153 L1354.1 380.042 L1349.17 380.042 L1349.17 388.19 L1344.52 388.19 L1344.52 380.042 L1328.92 380.042 L1328.92 375.528 L1343.29 353.63 Z\" fill=\"#000000\" fill-rule=\"evenodd\" fill-opacity=\"1\" /><path clip-path=\"url(#clip350)\" d=\"M1300.93 220.832 Q1304.29 221.55 1306.17 223.818 Q1308.06 226.087 1308.06 229.42 Q1308.06 234.536 1304.55 237.337 Q1301.03 240.138 1294.55 240.138 Q1292.37 240.138 1290.05 239.698 Q1287.76 239.281 1285.31 238.425 L1285.31 233.911 Q1287.25 235.045 1289.57 235.624 Q1291.88 236.202 1294.41 236.202 Q1298.8 236.202 1301.1 234.466 Q1303.41 232.73 1303.41 229.42 Q1303.41 226.365 1301.26 224.652 Q1299.13 222.915 1295.31 222.915 L1291.28 222.915 L1291.28 219.073 L1295.49 219.073 Q1298.94 219.073 1300.77 217.707 Q1302.6 216.318 1302.6 213.726 Q1302.6 211.064 1300.7 209.652 Q1298.83 208.216 1295.31 208.216 Q1293.39 208.216 1291.19 208.633 Q1288.99 209.05 1286.35 209.929 L1286.35 205.763 Q1289.01 205.022 1291.33 204.652 Q1293.67 204.281 1295.73 204.281 Q1301.05 204.281 1304.15 206.712 Q1307.25 209.119 1307.25 213.24 Q1307.25 216.11 1305.61 218.101 Q1303.97 220.068 1300.93 220.832 Z\" fill=\"#000000\" fill-rule=\"evenodd\" fill-opacity=\"1\" /><path clip-path=\"url(#clip350)\" d=\"M1316.93 233.587 L1321.81 233.587 L1321.81 239.466 L1316.93 239.466 L1316.93 233.587 Z\" fill=\"#000000\" fill-rule=\"evenodd\" fill-opacity=\"1\" /><path clip-path=\"url(#clip350)\" d=\"M1342.58 220.323 Q1339.43 220.323 1337.58 222.476 Q1335.75 224.628 1335.75 228.378 Q1335.75 232.105 1337.58 234.281 Q1339.43 236.434 1342.58 236.434 Q1345.73 236.434 1347.55 234.281 Q1349.41 232.105 1349.41 228.378 Q1349.41 224.628 1347.55 222.476 Q1345.73 220.323 1342.58 220.323 M1351.86 205.67 L1351.86 209.929 Q1350.1 209.096 1348.29 208.656 Q1346.51 208.216 1344.75 208.216 Q1340.12 208.216 1337.67 211.341 Q1335.24 214.466 1334.89 220.786 Q1336.26 218.772 1338.32 217.707 Q1340.38 216.619 1342.86 216.619 Q1348.06 216.619 1351.07 219.79 Q1354.1 222.939 1354.1 228.378 Q1354.1 233.702 1350.96 236.92 Q1347.81 240.138 1342.58 240.138 Q1336.58 240.138 1333.41 235.554 Q1330.24 230.948 1330.24 222.221 Q1330.24 214.027 1334.13 209.166 Q1338.02 204.281 1344.57 204.281 Q1346.33 204.281 1348.11 204.629 Q1349.92 204.976 1351.86 205.67 Z\" fill=\"#000000\" fill-rule=\"evenodd\" fill-opacity=\"1\" /><path clip-path=\"url(#clip350)\" d=\"M1301.19 72.1085 Q1304.55 72.8261 1306.42 75.0946 Q1308.32 77.3631 1308.32 80.6964 Q1308.32 85.8121 1304.8 88.6131 Q1301.28 91.414 1294.8 91.414 Q1292.62 91.414 1290.31 90.9742 Q1288.02 90.5575 1285.56 89.701 L1285.56 85.1871 Q1287.51 86.3214 1289.82 86.9001 Q1292.14 87.4788 1294.66 87.4788 Q1299.06 87.4788 1301.35 85.7427 Q1303.67 84.0066 1303.67 80.6964 Q1303.67 77.6409 1301.51 75.9279 Q1299.38 74.1918 1295.56 74.1918 L1291.54 74.1918 L1291.54 70.3493 L1295.75 70.3493 Q1299.2 70.3493 1301.03 68.9835 Q1302.86 67.5947 1302.86 65.0021 Q1302.86 62.34 1300.96 60.928 Q1299.08 59.4928 1295.56 59.4928 Q1293.64 59.4928 1291.44 59.9095 Q1289.24 60.3262 1286.61 61.2058 L1286.61 57.0392 Q1289.27 56.2984 1291.58 55.928 Q1293.92 55.5577 1295.98 55.5577 Q1301.3 55.5577 1304.41 57.9882 Q1307.51 60.3956 1307.51 64.516 Q1307.51 67.3863 1305.86 69.377 Q1304.22 71.3446 1301.19 72.1085 Z\" fill=\"#000000\" fill-rule=\"evenodd\" fill-opacity=\"1\" /><path clip-path=\"url(#clip350)\" d=\"M1317.18 84.8631 L1322.07 84.8631 L1322.07 90.7427 L1317.18 90.7427 L1317.18 84.8631 Z\" fill=\"#000000\" fill-rule=\"evenodd\" fill-opacity=\"1\" /><path clip-path=\"url(#clip350)\" d=\"M1342.25 74.3307 Q1338.92 74.3307 1337 76.1131 Q1335.1 77.8955 1335.1 81.0205 Q1335.1 84.1455 1337 85.9279 Q1338.92 87.7103 1342.25 87.7103 Q1345.59 87.7103 1347.51 85.9279 Q1349.43 84.1223 1349.43 81.0205 Q1349.43 77.8955 1347.51 76.1131 Q1345.61 74.3307 1342.25 74.3307 M1337.58 72.34 Q1334.57 71.5993 1332.88 69.5391 Q1331.21 67.4789 1331.21 64.516 Q1331.21 60.3725 1334.15 57.9651 Q1337.11 55.5577 1342.25 55.5577 Q1347.42 55.5577 1350.36 57.9651 Q1353.29 60.3725 1353.29 64.516 Q1353.29 67.4789 1351.61 69.5391 Q1349.94 71.5993 1346.95 72.34 Q1350.33 73.127 1352.21 75.4187 Q1354.1 77.7103 1354.1 81.0205 Q1354.1 86.0436 1351.03 88.7288 Q1347.97 91.414 1342.25 91.414 Q1336.54 91.414 1333.46 88.7288 Q1330.4 86.0436 1330.4 81.0205 Q1330.4 77.7103 1332.3 75.4187 Q1334.2 73.127 1337.58 72.34 M1335.86 64.9558 Q1335.86 67.6409 1337.53 69.1456 Q1339.22 70.6502 1342.25 70.6502 Q1345.26 70.6502 1346.95 69.1456 Q1348.67 67.6409 1348.67 64.9558 Q1348.67 62.2706 1346.95 60.766 Q1345.26 59.2614 1342.25 59.2614 Q1339.22 59.2614 1337.53 60.766 Q1335.86 62.2706 1335.86 64.9558 Z\" fill=\"#000000\" fill-rule=\"evenodd\" fill-opacity=\"1\" /><polyline clip-path=\"url(#clip353)\" style=\"stroke:#009af9; stroke-linecap:butt; stroke-linejoin:round; stroke-width:4; stroke-opacity:1; fill:none\" points=\"\n",
       "  1417.35,668.357 1435.51,653.559 1453.68,638.906 1471.84,624.396 1490,610.027 1508.17,595.795 1526.33,581.698 1544.49,567.733 1562.66,553.898 1580.82,540.191 \n",
       "  1598.98,526.608 1617.15,513.149 1635.31,499.811 1653.47,486.591 1671.63,473.487 1689.8,460.498 1707.96,447.622 1726.12,434.856 1744.29,422.198 1762.45,409.648 \n",
       "  1780.61,397.202 1798.78,384.86 1816.94,372.619 1835.1,360.478 1853.27,348.436 1871.43,336.49 1889.59,324.639 1907.76,312.883 1925.92,301.218 1944.08,289.644 \n",
       "  1962.25,278.16 1980.41,266.763 1998.57,255.453 2016.74,244.229 2034.9,233.088 2053.06,222.031 2071.23,211.055 2089.39,200.159 2107.55,189.343 2125.72,178.605 \n",
       "  2143.88,167.943 2162.04,157.358 2180.21,146.848 2198.37,136.411 2216.53,126.047 2234.69,115.754 2252.86,105.533 2271.02,95.381 2289.18,85.298 2307.35,75.2829 \n",
       "  2325.51,65.3348 \n",
       "  \"/>\n",
       "<path clip-path=\"url(#clip350)\" d=\"\n",
       "M2111.07 172.231 L2320.67 172.231 L2320.67 68.5509 L2111.07 68.5509  Z\n",
       "  \" fill=\"#ffffff\" fill-rule=\"evenodd\" fill-opacity=\"1\"/>\n",
       "<polyline clip-path=\"url(#clip350)\" style=\"stroke:#000000; stroke-linecap:butt; stroke-linejoin:round; stroke-width:4; stroke-opacity:1; fill:none\" points=\"\n",
       "  2111.07,172.231 2320.67,172.231 2320.67,68.5509 2111.07,68.5509 2111.07,172.231 \n",
       "  \"/>\n",
       "<polyline clip-path=\"url(#clip350)\" style=\"stroke:#009af9; stroke-linecap:butt; stroke-linejoin:round; stroke-width:4; stroke-opacity:1; fill:none\" points=\"\n",
       "  2121.76,120.391 2185.94,120.391 \n",
       "  \"/>\n",
       "<path clip-path=\"url(#clip350)\" d=\"M2213.14 101.653 L2213.14 105.194 L2209.07 105.194 Q2206.78 105.194 2205.87 106.12 Q2204.99 107.046 2204.99 109.453 L2204.99 111.745 L2212.01 111.745 L2212.01 115.055 L2204.99 115.055 L2204.99 137.671 L2200.71 137.671 L2200.71 115.055 L2196.64 115.055 L2196.64 111.745 L2200.71 111.745 L2200.71 109.94 Q2200.71 105.611 2202.72 103.643 Q2204.74 101.653 2209.11 101.653 L2213.14 101.653 Z\" fill=\"#000000\" fill-rule=\"evenodd\" fill-opacity=\"1\" /><path clip-path=\"url(#clip350)\" d=\"M2220.73 103.111 L2220.73 115.958 L2216.8 115.958 L2216.8 103.111 L2220.73 103.111 Z\" fill=\"#000000\" fill-rule=\"evenodd\" fill-opacity=\"1\" /><path clip-path=\"url(#clip350)\" d=\"M2233.77 103.111 L2233.77 115.958 L2229.83 115.958 L2229.83 103.111 L2233.77 103.111 Z\" fill=\"#000000\" fill-rule=\"evenodd\" fill-opacity=\"1\" /><path clip-path=\"url(#clip350)\" d=\"M2253 101.699 Q2249.9 107.023 2248.4 112.231 Q2246.89 117.44 2246.89 122.787 Q2246.89 128.134 2248.4 133.389 Q2249.92 138.62 2253 143.921 L2249.3 143.921 Q2245.83 138.481 2244.09 133.226 Q2242.38 127.972 2242.38 122.787 Q2242.38 117.625 2244.09 112.393 Q2245.8 107.162 2249.3 101.699 L2253 101.699 Z\" fill=\"#000000\" fill-rule=\"evenodd\" fill-opacity=\"1\" /><path clip-path=\"url(#clip350)\" d=\"M2282.82 111.745 L2273.44 124.361 L2283.3 137.671 L2278.28 137.671 L2270.73 127.486 L2263.19 137.671 L2258.16 137.671 L2268.23 124.106 L2259.02 111.745 L2264.04 111.745 L2270.92 120.981 L2277.79 111.745 L2282.82 111.745 Z\" fill=\"#000000\" fill-rule=\"evenodd\" fill-opacity=\"1\" /><path clip-path=\"url(#clip350)\" d=\"M2288.65 101.699 L2292.35 101.699 Q2295.83 107.162 2297.54 112.393 Q2299.28 117.625 2299.28 122.787 Q2299.28 127.972 2297.54 133.226 Q2295.83 138.481 2292.35 143.921 L2288.65 143.921 Q2291.73 138.62 2293.23 133.389 Q2294.76 128.134 2294.76 122.787 Q2294.76 117.44 2293.23 112.231 Q2291.73 107.023 2288.65 101.699 Z\" fill=\"#000000\" fill-rule=\"evenodd\" fill-opacity=\"1\" /><path clip-path=\"url(#clip350)\" d=\"\n",
       "M224.098 1486.45 L1186.75 1486.45 L1186.75 847.244 L224.098 847.244  Z\n",
       "  \" fill=\"#ffffff\" fill-rule=\"evenodd\" fill-opacity=\"1\"/>\n",
       "<defs>\n",
       "  <clipPath id=\"clip354\">\n",
       "    <rect x=\"224\" y=\"847\" width=\"964\" height=\"640\"/>\n",
       "  </clipPath>\n",
       "</defs>\n",
       "<polyline clip-path=\"url(#clip354)\" style=\"stroke:#000000; stroke-linecap:butt; stroke-linejoin:round; stroke-width:2; stroke-opacity:0.1; fill:none\" points=\"\n",
       "  251.343,1486.45 251.343,847.244 \n",
       "  \"/>\n",
       "<polyline clip-path=\"url(#clip354)\" style=\"stroke:#000000; stroke-linecap:butt; stroke-linejoin:round; stroke-width:2; stroke-opacity:0.1; fill:none\" points=\"\n",
       "  432.975,1486.45 432.975,847.244 \n",
       "  \"/>\n",
       "<polyline clip-path=\"url(#clip354)\" style=\"stroke:#000000; stroke-linecap:butt; stroke-linejoin:round; stroke-width:2; stroke-opacity:0.1; fill:none\" points=\"\n",
       "  614.607,1486.45 614.607,847.244 \n",
       "  \"/>\n",
       "<polyline clip-path=\"url(#clip354)\" style=\"stroke:#000000; stroke-linecap:butt; stroke-linejoin:round; stroke-width:2; stroke-opacity:0.1; fill:none\" points=\"\n",
       "  796.239,1486.45 796.239,847.244 \n",
       "  \"/>\n",
       "<polyline clip-path=\"url(#clip354)\" style=\"stroke:#000000; stroke-linecap:butt; stroke-linejoin:round; stroke-width:2; stroke-opacity:0.1; fill:none\" points=\"\n",
       "  977.872,1486.45 977.872,847.244 \n",
       "  \"/>\n",
       "<polyline clip-path=\"url(#clip354)\" style=\"stroke:#000000; stroke-linecap:butt; stroke-linejoin:round; stroke-width:2; stroke-opacity:0.1; fill:none\" points=\"\n",
       "  1159.5,1486.45 1159.5,847.244 \n",
       "  \"/>\n",
       "<polyline clip-path=\"url(#clip350)\" style=\"stroke:#000000; stroke-linecap:butt; stroke-linejoin:round; stroke-width:4; stroke-opacity:1; fill:none\" points=\"\n",
       "  224.098,1486.45 1186.75,1486.45 \n",
       "  \"/>\n",
       "<polyline clip-path=\"url(#clip350)\" style=\"stroke:#000000; stroke-linecap:butt; stroke-linejoin:round; stroke-width:4; stroke-opacity:1; fill:none\" points=\"\n",
       "  251.343,1486.45 251.343,1467.55 \n",
       "  \"/>\n",
       "<polyline clip-path=\"url(#clip350)\" style=\"stroke:#000000; stroke-linecap:butt; stroke-linejoin:round; stroke-width:4; stroke-opacity:1; fill:none\" points=\"\n",
       "  432.975,1486.45 432.975,1467.55 \n",
       "  \"/>\n",
       "<polyline clip-path=\"url(#clip350)\" style=\"stroke:#000000; stroke-linecap:butt; stroke-linejoin:round; stroke-width:4; stroke-opacity:1; fill:none\" points=\"\n",
       "  614.607,1486.45 614.607,1467.55 \n",
       "  \"/>\n",
       "<polyline clip-path=\"url(#clip350)\" style=\"stroke:#000000; stroke-linecap:butt; stroke-linejoin:round; stroke-width:4; stroke-opacity:1; fill:none\" points=\"\n",
       "  796.239,1486.45 796.239,1467.55 \n",
       "  \"/>\n",
       "<polyline clip-path=\"url(#clip350)\" style=\"stroke:#000000; stroke-linecap:butt; stroke-linejoin:round; stroke-width:4; stroke-opacity:1; fill:none\" points=\"\n",
       "  977.872,1486.45 977.872,1467.55 \n",
       "  \"/>\n",
       "<polyline clip-path=\"url(#clip350)\" style=\"stroke:#000000; stroke-linecap:butt; stroke-linejoin:round; stroke-width:4; stroke-opacity:1; fill:none\" points=\"\n",
       "  1159.5,1486.45 1159.5,1467.55 \n",
       "  \"/>\n",
       "<path clip-path=\"url(#clip350)\" d=\"M218.496 1544.91 L226.135 1544.91 L226.135 1518.55 L217.824 1520.21 L217.824 1515.95 L226.088 1514.29 L230.764 1514.29 L230.764 1544.91 L238.403 1544.91 L238.403 1548.85 L218.496 1548.85 L218.496 1544.91 Z\" fill=\"#000000\" fill-rule=\"evenodd\" fill-opacity=\"1\" /><path clip-path=\"url(#clip350)\" d=\"M247.847 1542.97 L252.732 1542.97 L252.732 1548.85 L247.847 1548.85 L247.847 1542.97 Z\" fill=\"#000000\" fill-rule=\"evenodd\" fill-opacity=\"1\" /><path clip-path=\"url(#clip350)\" d=\"M272.917 1517.37 Q269.306 1517.37 267.477 1520.93 Q265.671 1524.47 265.671 1531.6 Q265.671 1538.71 267.477 1542.27 Q269.306 1545.82 272.917 1545.82 Q276.551 1545.82 278.356 1542.27 Q280.185 1538.71 280.185 1531.6 Q280.185 1524.47 278.356 1520.93 Q276.551 1517.37 272.917 1517.37 M272.917 1513.66 Q278.727 1513.66 281.782 1518.27 Q284.861 1522.85 284.861 1531.6 Q284.861 1540.33 281.782 1544.94 Q278.727 1549.52 272.917 1549.52 Q267.107 1549.52 264.028 1544.94 Q260.972 1540.33 260.972 1531.6 Q260.972 1522.85 264.028 1518.27 Q267.107 1513.66 272.917 1513.66 Z\" fill=\"#000000\" fill-rule=\"evenodd\" fill-opacity=\"1\" /><path clip-path=\"url(#clip350)\" d=\"M400.741 1544.91 L408.38 1544.91 L408.38 1518.55 L400.07 1520.21 L400.07 1515.95 L408.334 1514.29 L413.01 1514.29 L413.01 1544.91 L420.649 1544.91 L420.649 1548.85 L400.741 1548.85 L400.741 1544.91 Z\" fill=\"#000000\" fill-rule=\"evenodd\" fill-opacity=\"1\" /><path clip-path=\"url(#clip350)\" d=\"M430.093 1542.97 L434.977 1542.97 L434.977 1548.85 L430.093 1548.85 L430.093 1542.97 Z\" fill=\"#000000\" fill-rule=\"evenodd\" fill-opacity=\"1\" /><path clip-path=\"url(#clip350)\" d=\"M445.973 1544.91 L453.611 1544.91 L453.611 1518.55 L445.301 1520.21 L445.301 1515.95 L453.565 1514.29 L458.241 1514.29 L458.241 1544.91 L465.88 1544.91 L465.88 1548.85 L445.973 1548.85 L445.973 1544.91 Z\" fill=\"#000000\" fill-rule=\"evenodd\" fill-opacity=\"1\" /><path clip-path=\"url(#clip350)\" d=\"M582.559 1544.91 L590.198 1544.91 L590.198 1518.55 L581.887 1520.21 L581.887 1515.95 L590.151 1514.29 L594.827 1514.29 L594.827 1544.91 L602.466 1544.91 L602.466 1548.85 L582.559 1548.85 L582.559 1544.91 Z\" fill=\"#000000\" fill-rule=\"evenodd\" fill-opacity=\"1\" /><path clip-path=\"url(#clip350)\" d=\"M611.91 1542.97 L616.795 1542.97 L616.795 1548.85 L611.91 1548.85 L611.91 1542.97 Z\" fill=\"#000000\" fill-rule=\"evenodd\" fill-opacity=\"1\" /><path clip-path=\"url(#clip350)\" d=\"M631.008 1544.91 L647.327 1544.91 L647.327 1548.85 L625.383 1548.85 L625.383 1544.91 Q628.045 1542.16 632.628 1537.53 Q637.234 1532.88 638.415 1531.53 Q640.66 1529.01 641.54 1527.27 Q642.443 1525.51 642.443 1523.82 Q642.443 1521.07 640.498 1519.33 Q638.577 1517.6 635.475 1517.6 Q633.276 1517.6 630.822 1518.36 Q628.392 1519.13 625.614 1520.68 L625.614 1515.95 Q628.438 1514.82 630.892 1514.24 Q633.346 1513.66 635.383 1513.66 Q640.753 1513.66 643.947 1516.35 Q647.142 1519.03 647.142 1523.52 Q647.142 1525.65 646.332 1527.57 Q645.545 1529.47 643.438 1532.07 Q642.859 1532.74 639.758 1535.95 Q636.656 1539.15 631.008 1544.91 Z\" fill=\"#000000\" fill-rule=\"evenodd\" fill-opacity=\"1\" /><path clip-path=\"url(#clip350)\" d=\"M763.716 1544.91 L771.355 1544.91 L771.355 1518.55 L763.045 1520.21 L763.045 1515.95 L771.309 1514.29 L775.985 1514.29 L775.985 1544.91 L783.624 1544.91 L783.624 1548.85 L763.716 1548.85 L763.716 1544.91 Z\" fill=\"#000000\" fill-rule=\"evenodd\" fill-opacity=\"1\" /><path clip-path=\"url(#clip350)\" d=\"M793.068 1542.97 L797.952 1542.97 L797.952 1548.85 L793.068 1548.85 L793.068 1542.97 Z\" fill=\"#000000\" fill-rule=\"evenodd\" fill-opacity=\"1\" /><path clip-path=\"url(#clip350)\" d=\"M822.304 1530.21 Q825.661 1530.93 827.536 1533.2 Q829.434 1535.47 829.434 1538.8 Q829.434 1543.92 825.915 1546.72 Q822.397 1549.52 815.915 1549.52 Q813.739 1549.52 811.425 1549.08 Q809.133 1548.66 806.679 1547.81 L806.679 1543.29 Q808.624 1544.43 810.938 1545.01 Q813.253 1545.58 815.776 1545.58 Q820.175 1545.58 822.466 1543.85 Q824.781 1542.11 824.781 1538.8 Q824.781 1535.75 822.628 1534.03 Q820.499 1532.3 816.679 1532.3 L812.651 1532.3 L812.651 1528.45 L816.864 1528.45 Q820.313 1528.45 822.142 1527.09 Q823.971 1525.7 823.971 1523.11 Q823.971 1520.45 822.073 1519.03 Q820.198 1517.6 816.679 1517.6 Q814.758 1517.6 812.559 1518.01 Q810.36 1518.43 807.721 1519.31 L807.721 1515.14 Q810.383 1514.4 812.698 1514.03 Q815.036 1513.66 817.096 1513.66 Q822.42 1513.66 825.522 1516.09 Q828.624 1518.5 828.624 1522.62 Q828.624 1525.49 826.98 1527.48 Q825.337 1529.45 822.304 1530.21 Z\" fill=\"#000000\" fill-rule=\"evenodd\" fill-opacity=\"1\" /><path clip-path=\"url(#clip350)\" d=\"M944.782 1544.91 L952.42 1544.91 L952.42 1518.55 L944.11 1520.21 L944.11 1515.95 L952.374 1514.29 L957.05 1514.29 L957.05 1544.91 L964.689 1544.91 L964.689 1548.85 L944.782 1548.85 L944.782 1544.91 Z\" fill=\"#000000\" fill-rule=\"evenodd\" fill-opacity=\"1\" /><path clip-path=\"url(#clip350)\" d=\"M974.133 1542.97 L979.018 1542.97 L979.018 1548.85 L974.133 1548.85 L974.133 1542.97 Z\" fill=\"#000000\" fill-rule=\"evenodd\" fill-opacity=\"1\" /><path clip-path=\"url(#clip350)\" d=\"M1002.05 1518.36 L990.244 1536.81 L1002.05 1536.81 L1002.05 1518.36 M1000.82 1514.29 L1006.7 1514.29 L1006.7 1536.81 L1011.63 1536.81 L1011.63 1540.7 L1006.7 1540.7 L1006.7 1548.85 L1002.05 1548.85 L1002.05 1540.7 L986.448 1540.7 L986.448 1536.19 L1000.82 1514.29 Z\" fill=\"#000000\" fill-rule=\"evenodd\" fill-opacity=\"1\" /><path clip-path=\"url(#clip350)\" d=\"M1127.15 1544.91 L1134.79 1544.91 L1134.79 1518.55 L1126.48 1520.21 L1126.48 1515.95 L1134.75 1514.29 L1139.42 1514.29 L1139.42 1544.91 L1147.06 1544.91 L1147.06 1548.85 L1127.15 1548.85 L1127.15 1544.91 Z\" fill=\"#000000\" fill-rule=\"evenodd\" fill-opacity=\"1\" /><path clip-path=\"url(#clip350)\" d=\"M1156.51 1542.97 L1161.39 1542.97 L1161.39 1548.85 L1156.51 1548.85 L1156.51 1542.97 Z\" fill=\"#000000\" fill-rule=\"evenodd\" fill-opacity=\"1\" /><path clip-path=\"url(#clip350)\" d=\"M1171.62 1514.29 L1189.98 1514.29 L1189.98 1518.22 L1175.9 1518.22 L1175.9 1526.7 Q1176.92 1526.35 1177.94 1526.19 Q1178.96 1526 1179.98 1526 Q1185.77 1526 1189.14 1529.17 Q1192.52 1532.34 1192.52 1537.76 Q1192.52 1543.34 1189.05 1546.44 Q1185.58 1549.52 1179.26 1549.52 Q1177.08 1549.52 1174.82 1549.15 Q1172.57 1548.78 1170.16 1548.04 L1170.16 1543.34 Q1172.25 1544.47 1174.47 1545.03 Q1176.69 1545.58 1179.17 1545.58 Q1183.17 1545.58 1185.51 1543.48 Q1187.85 1541.37 1187.85 1537.76 Q1187.85 1534.15 1185.51 1532.04 Q1183.17 1529.94 1179.17 1529.94 Q1177.29 1529.94 1175.42 1530.35 Q1173.57 1530.77 1171.62 1531.65 L1171.62 1514.29 Z\" fill=\"#000000\" fill-rule=\"evenodd\" fill-opacity=\"1\" /><polyline clip-path=\"url(#clip354)\" style=\"stroke:#000000; stroke-linecap:butt; stroke-linejoin:round; stroke-width:2; stroke-opacity:0.1; fill:none\" points=\"\n",
       "  224.098,1468.36 1186.75,1468.36 \n",
       "  \"/>\n",
       "<polyline clip-path=\"url(#clip354)\" style=\"stroke:#000000; stroke-linecap:butt; stroke-linejoin:round; stroke-width:2; stroke-opacity:0.1; fill:none\" points=\"\n",
       "  224.098,1332.68 1186.75,1332.68 \n",
       "  \"/>\n",
       "<polyline clip-path=\"url(#clip354)\" style=\"stroke:#000000; stroke-linecap:butt; stroke-linejoin:round; stroke-width:2; stroke-opacity:0.1; fill:none\" points=\"\n",
       "  224.098,1197 1186.75,1197 \n",
       "  \"/>\n",
       "<polyline clip-path=\"url(#clip354)\" style=\"stroke:#000000; stroke-linecap:butt; stroke-linejoin:round; stroke-width:2; stroke-opacity:0.1; fill:none\" points=\"\n",
       "  224.098,1061.32 1186.75,1061.32 \n",
       "  \"/>\n",
       "<polyline clip-path=\"url(#clip354)\" style=\"stroke:#000000; stroke-linecap:butt; stroke-linejoin:round; stroke-width:2; stroke-opacity:0.1; fill:none\" points=\"\n",
       "  224.098,925.637 1186.75,925.637 \n",
       "  \"/>\n",
       "<polyline clip-path=\"url(#clip350)\" style=\"stroke:#000000; stroke-linecap:butt; stroke-linejoin:round; stroke-width:4; stroke-opacity:1; fill:none\" points=\"\n",
       "  224.098,1486.45 224.098,847.244 \n",
       "  \"/>\n",
       "<polyline clip-path=\"url(#clip350)\" style=\"stroke:#000000; stroke-linecap:butt; stroke-linejoin:round; stroke-width:4; stroke-opacity:1; fill:none\" points=\"\n",
       "  224.098,1468.36 242.996,1468.36 \n",
       "  \"/>\n",
       "<polyline clip-path=\"url(#clip350)\" style=\"stroke:#000000; stroke-linecap:butt; stroke-linejoin:round; stroke-width:4; stroke-opacity:1; fill:none\" points=\"\n",
       "  224.098,1332.68 242.996,1332.68 \n",
       "  \"/>\n",
       "<polyline clip-path=\"url(#clip350)\" style=\"stroke:#000000; stroke-linecap:butt; stroke-linejoin:round; stroke-width:4; stroke-opacity:1; fill:none\" points=\"\n",
       "  224.098,1197 242.996,1197 \n",
       "  \"/>\n",
       "<polyline clip-path=\"url(#clip350)\" style=\"stroke:#000000; stroke-linecap:butt; stroke-linejoin:round; stroke-width:4; stroke-opacity:1; fill:none\" points=\"\n",
       "  224.098,1061.32 242.996,1061.32 \n",
       "  \"/>\n",
       "<polyline clip-path=\"url(#clip350)\" style=\"stroke:#000000; stroke-linecap:butt; stroke-linejoin:round; stroke-width:4; stroke-opacity:1; fill:none\" points=\"\n",
       "  224.098,925.637 242.996,925.637 \n",
       "  \"/>\n",
       "<path clip-path=\"url(#clip350)\" d=\"M50.9921 1468.81 L80.6679 1468.81 L80.6679 1472.74 L50.9921 1472.74 L50.9921 1468.81 Z\" fill=\"#000000\" fill-rule=\"evenodd\" fill-opacity=\"1\" /><path clip-path=\"url(#clip350)\" d=\"M94.7882 1481.7 L111.108 1481.7 L111.108 1485.64 L89.1632 1485.64 L89.1632 1481.7 Q91.8252 1478.95 96.4085 1474.32 Q101.015 1469.67 102.196 1468.32 Q104.441 1465.8 105.321 1464.06 Q106.223 1462.3 106.223 1460.61 Q106.223 1457.86 104.279 1456.12 Q102.358 1454.39 99.2558 1454.39 Q97.0567 1454.39 94.603 1455.15 Q92.1725 1455.92 89.3947 1457.47 L89.3947 1452.74 Q92.2188 1451.61 94.6724 1451.03 Q97.1261 1450.45 99.1632 1450.45 Q104.534 1450.45 107.728 1453.14 Q110.922 1455.82 110.922 1460.31 Q110.922 1462.44 110.112 1464.36 Q109.325 1466.26 107.219 1468.85 Q106.64 1469.53 103.538 1472.74 Q100.436 1475.94 94.7882 1481.7 Z\" fill=\"#000000\" fill-rule=\"evenodd\" fill-opacity=\"1\" /><path clip-path=\"url(#clip350)\" d=\"M120.922 1479.76 L125.807 1479.76 L125.807 1485.64 L120.922 1485.64 L120.922 1479.76 Z\" fill=\"#000000\" fill-rule=\"evenodd\" fill-opacity=\"1\" /><path clip-path=\"url(#clip350)\" d=\"M145.992 1454.16 Q142.381 1454.16 140.552 1457.72 Q138.746 1461.26 138.746 1468.39 Q138.746 1475.5 140.552 1479.06 Q142.381 1482.6 145.992 1482.6 Q149.626 1482.6 151.431 1479.06 Q153.26 1475.5 153.26 1468.39 Q153.26 1461.26 151.431 1457.72 Q149.626 1454.16 145.992 1454.16 M145.992 1450.45 Q151.802 1450.45 154.857 1455.06 Q157.936 1459.64 157.936 1468.39 Q157.936 1477.12 154.857 1481.73 Q151.802 1486.31 145.992 1486.31 Q140.181 1486.31 137.103 1481.73 Q134.047 1477.12 134.047 1468.39 Q134.047 1459.64 137.103 1455.06 Q140.181 1450.45 145.992 1450.45 Z\" fill=\"#000000\" fill-rule=\"evenodd\" fill-opacity=\"1\" /><path clip-path=\"url(#clip350)\" d=\"M176.153 1454.16 Q172.542 1454.16 170.714 1457.72 Q168.908 1461.26 168.908 1468.39 Q168.908 1475.5 170.714 1479.06 Q172.542 1482.6 176.153 1482.6 Q179.788 1482.6 181.593 1479.06 Q183.422 1475.5 183.422 1468.39 Q183.422 1461.26 181.593 1457.72 Q179.788 1454.16 176.153 1454.16 M176.153 1450.45 Q181.964 1450.45 185.019 1455.06 Q188.098 1459.64 188.098 1468.39 Q188.098 1477.12 185.019 1481.73 Q181.964 1486.31 176.153 1486.31 Q170.343 1486.31 167.265 1481.73 Q164.209 1477.12 164.209 1468.39 Q164.209 1459.64 167.265 1455.06 Q170.343 1450.45 176.153 1450.45 Z\" fill=\"#000000\" fill-rule=\"evenodd\" fill-opacity=\"1\" /><path clip-path=\"url(#clip350)\" d=\"M51.9875 1333.13 L81.6633 1333.13 L81.6633 1337.06 L51.9875 1337.06 L51.9875 1333.13 Z\" fill=\"#000000\" fill-rule=\"evenodd\" fill-opacity=\"1\" /><path clip-path=\"url(#clip350)\" d=\"M92.566 1346.02 L100.205 1346.02 L100.205 1319.66 L91.8947 1321.32 L91.8947 1317.06 L100.159 1315.4 L104.834 1315.4 L104.834 1346.02 L112.473 1346.02 L112.473 1349.96 L92.566 1349.96 L92.566 1346.02 Z\" fill=\"#000000\" fill-rule=\"evenodd\" fill-opacity=\"1\" /><path clip-path=\"url(#clip350)\" d=\"M121.918 1344.08 L126.802 1344.08 L126.802 1349.96 L121.918 1349.96 L121.918 1344.08 Z\" fill=\"#000000\" fill-rule=\"evenodd\" fill-opacity=\"1\" /><path clip-path=\"url(#clip350)\" d=\"M135.806 1315.4 L158.029 1315.4 L158.029 1317.39 L145.482 1349.96 L140.598 1349.96 L152.404 1319.33 L135.806 1319.33 L135.806 1315.4 Z\" fill=\"#000000\" fill-rule=\"evenodd\" fill-opacity=\"1\" /><path clip-path=\"url(#clip350)\" d=\"M167.195 1315.4 L185.552 1315.4 L185.552 1319.33 L171.478 1319.33 L171.478 1327.8 Q172.496 1327.46 173.515 1327.3 Q174.533 1327.11 175.552 1327.11 Q181.339 1327.11 184.718 1330.28 Q188.098 1333.45 188.098 1338.87 Q188.098 1344.45 184.626 1347.55 Q181.153 1350.63 174.834 1350.63 Q172.658 1350.63 170.39 1350.26 Q168.144 1349.89 165.737 1349.15 L165.737 1344.45 Q167.82 1345.58 170.042 1346.14 Q172.265 1346.69 174.741 1346.69 Q178.746 1346.69 181.084 1344.59 Q183.422 1342.48 183.422 1338.87 Q183.422 1335.26 181.084 1333.15 Q178.746 1331.05 174.741 1331.05 Q172.866 1331.05 170.991 1331.46 Q169.14 1331.88 167.195 1332.76 L167.195 1315.4 Z\" fill=\"#000000\" fill-rule=\"evenodd\" fill-opacity=\"1\" /><path clip-path=\"url(#clip350)\" d=\"M50.9921 1197.45 L80.6679 1197.45 L80.6679 1201.38 L50.9921 1201.38 L50.9921 1197.45 Z\" fill=\"#000000\" fill-rule=\"evenodd\" fill-opacity=\"1\" /><path clip-path=\"url(#clip350)\" d=\"M91.5706 1210.34 L99.2095 1210.34 L99.2095 1183.98 L90.8993 1185.64 L90.8993 1181.38 L99.1632 1179.72 L103.839 1179.72 L103.839 1210.34 L111.478 1210.34 L111.478 1214.28 L91.5706 1214.28 L91.5706 1210.34 Z\" fill=\"#000000\" fill-rule=\"evenodd\" fill-opacity=\"1\" /><path clip-path=\"url(#clip350)\" d=\"M120.922 1208.4 L125.807 1208.4 L125.807 1214.28 L120.922 1214.28 L120.922 1208.4 Z\" fill=\"#000000\" fill-rule=\"evenodd\" fill-opacity=\"1\" /><path clip-path=\"url(#clip350)\" d=\"M136.038 1179.72 L154.394 1179.72 L154.394 1183.65 L140.32 1183.65 L140.32 1192.12 Q141.339 1191.78 142.357 1191.62 Q143.376 1191.43 144.394 1191.43 Q150.181 1191.43 153.561 1194.6 Q156.941 1197.77 156.941 1203.19 Q156.941 1208.77 153.468 1211.87 Q149.996 1214.95 143.677 1214.95 Q141.501 1214.95 139.232 1214.58 Q136.987 1214.21 134.58 1213.47 L134.58 1208.77 Q136.663 1209.9 138.885 1210.46 Q141.107 1211.01 143.584 1211.01 Q147.589 1211.01 149.927 1208.91 Q152.265 1206.8 152.265 1203.19 Q152.265 1199.58 149.927 1197.47 Q147.589 1195.37 143.584 1195.37 Q141.709 1195.37 139.834 1195.78 Q137.982 1196.2 136.038 1197.08 L136.038 1179.72 Z\" fill=\"#000000\" fill-rule=\"evenodd\" fill-opacity=\"1\" /><path clip-path=\"url(#clip350)\" d=\"M176.153 1182.8 Q172.542 1182.8 170.714 1186.36 Q168.908 1189.9 168.908 1197.03 Q168.908 1204.14 170.714 1207.7 Q172.542 1211.24 176.153 1211.24 Q179.788 1211.24 181.593 1207.7 Q183.422 1204.14 183.422 1197.03 Q183.422 1189.9 181.593 1186.36 Q179.788 1182.8 176.153 1182.8 M176.153 1179.09 Q181.964 1179.09 185.019 1183.7 Q188.098 1188.28 188.098 1197.03 Q188.098 1205.76 185.019 1210.37 Q181.964 1214.95 176.153 1214.95 Q170.343 1214.95 167.265 1210.37 Q164.209 1205.76 164.209 1197.03 Q164.209 1188.28 167.265 1183.7 Q170.343 1179.09 176.153 1179.09 Z\" fill=\"#000000\" fill-rule=\"evenodd\" fill-opacity=\"1\" /><path clip-path=\"url(#clip350)\" d=\"M51.9875 1061.77 L81.6633 1061.77 L81.6633 1065.7 L51.9875 1065.7 L51.9875 1061.77 Z\" fill=\"#000000\" fill-rule=\"evenodd\" fill-opacity=\"1\" /><path clip-path=\"url(#clip350)\" d=\"M92.566 1074.66 L100.205 1074.66 L100.205 1048.3 L91.8947 1049.96 L91.8947 1045.7 L100.159 1044.04 L104.834 1044.04 L104.834 1074.66 L112.473 1074.66 L112.473 1078.6 L92.566 1078.6 L92.566 1074.66 Z\" fill=\"#000000\" fill-rule=\"evenodd\" fill-opacity=\"1\" /><path clip-path=\"url(#clip350)\" d=\"M121.918 1072.72 L126.802 1072.72 L126.802 1078.6 L121.918 1078.6 L121.918 1072.72 Z\" fill=\"#000000\" fill-rule=\"evenodd\" fill-opacity=\"1\" /><path clip-path=\"url(#clip350)\" d=\"M141.015 1074.66 L157.334 1074.66 L157.334 1078.6 L135.39 1078.6 L135.39 1074.66 Q138.052 1071.91 142.635 1067.28 Q147.242 1062.62 148.422 1061.28 Q150.668 1058.76 151.547 1057.02 Q152.45 1055.26 152.45 1053.57 Q152.45 1050.82 150.505 1049.08 Q148.584 1047.35 145.482 1047.35 Q143.283 1047.35 140.83 1048.11 Q138.399 1048.87 135.621 1050.43 L135.621 1045.7 Q138.445 1044.57 140.899 1043.99 Q143.353 1043.41 145.39 1043.41 Q150.76 1043.41 153.955 1046.1 Q157.149 1048.78 157.149 1053.27 Q157.149 1055.4 156.339 1057.32 Q155.552 1059.22 153.445 1061.81 Q152.867 1062.49 149.765 1065.7 Q146.663 1068.9 141.015 1074.66 Z\" fill=\"#000000\" fill-rule=\"evenodd\" fill-opacity=\"1\" /><path clip-path=\"url(#clip350)\" d=\"M167.195 1044.04 L185.552 1044.04 L185.552 1047.97 L171.478 1047.97 L171.478 1056.44 Q172.496 1056.1 173.515 1055.94 Q174.533 1055.75 175.552 1055.75 Q181.339 1055.75 184.718 1058.92 Q188.098 1062.09 188.098 1067.51 Q188.098 1073.09 184.626 1076.19 Q181.153 1079.27 174.834 1079.27 Q172.658 1079.27 170.39 1078.9 Q168.144 1078.53 165.737 1077.79 L165.737 1073.09 Q167.82 1074.22 170.042 1074.78 Q172.265 1075.33 174.741 1075.33 Q178.746 1075.33 181.084 1073.23 Q183.422 1071.12 183.422 1067.51 Q183.422 1063.9 181.084 1061.79 Q178.746 1059.69 174.741 1059.69 Q172.866 1059.69 170.991 1060.1 Q169.14 1060.52 167.195 1061.4 L167.195 1044.04 Z\" fill=\"#000000\" fill-rule=\"evenodd\" fill-opacity=\"1\" /><path clip-path=\"url(#clip350)\" d=\"M50.9921 926.088 L80.6679 926.088 L80.6679 930.024 L50.9921 930.024 L50.9921 926.088 Z\" fill=\"#000000\" fill-rule=\"evenodd\" fill-opacity=\"1\" /><path clip-path=\"url(#clip350)\" d=\"M91.5706 938.982 L99.2095 938.982 L99.2095 912.616 L90.8993 914.283 L90.8993 910.024 L99.1632 908.357 L103.839 908.357 L103.839 938.982 L111.478 938.982 L111.478 942.917 L91.5706 942.917 L91.5706 938.982 Z\" fill=\"#000000\" fill-rule=\"evenodd\" fill-opacity=\"1\" /><path clip-path=\"url(#clip350)\" d=\"M120.922 937.037 L125.807 937.037 L125.807 942.917 L120.922 942.917 L120.922 937.037 Z\" fill=\"#000000\" fill-rule=\"evenodd\" fill-opacity=\"1\" /><path clip-path=\"url(#clip350)\" d=\"M145.992 911.436 Q142.381 911.436 140.552 915 Q138.746 918.542 138.746 925.672 Q138.746 932.778 140.552 936.343 Q142.381 939.885 145.992 939.885 Q149.626 939.885 151.431 936.343 Q153.26 932.778 153.26 925.672 Q153.26 918.542 151.431 915 Q149.626 911.436 145.992 911.436 M145.992 907.732 Q151.802 907.732 154.857 912.338 Q157.936 916.922 157.936 925.672 Q157.936 934.399 154.857 939.005 Q151.802 943.588 145.992 943.588 Q140.181 943.588 137.103 939.005 Q134.047 934.399 134.047 925.672 Q134.047 916.922 137.103 912.338 Q140.181 907.732 145.992 907.732 Z\" fill=\"#000000\" fill-rule=\"evenodd\" fill-opacity=\"1\" /><path clip-path=\"url(#clip350)\" d=\"M176.153 911.436 Q172.542 911.436 170.714 915 Q168.908 918.542 168.908 925.672 Q168.908 932.778 170.714 936.343 Q172.542 939.885 176.153 939.885 Q179.788 939.885 181.593 936.343 Q183.422 932.778 183.422 925.672 Q183.422 918.542 181.593 915 Q179.788 911.436 176.153 911.436 M176.153 907.732 Q181.964 907.732 185.019 912.338 Q188.098 916.922 188.098 925.672 Q188.098 934.399 185.019 939.005 Q181.964 943.588 176.153 943.588 Q170.343 943.588 167.265 939.005 Q164.209 934.399 164.209 925.672 Q164.209 916.922 167.265 912.338 Q170.343 907.732 176.153 907.732 Z\" fill=\"#000000\" fill-rule=\"evenodd\" fill-opacity=\"1\" /><polyline clip-path=\"url(#clip354)\" style=\"stroke:#009af9; stroke-linecap:butt; stroke-linejoin:round; stroke-width:4; stroke-opacity:1; fill:none\" points=\"\n",
       "  251.343,1468.36 269.506,1446.97 287.669,1426.21 305.832,1406.05 323.996,1386.47 342.159,1367.44 360.322,1348.95 378.485,1330.98 396.649,1313.51 414.812,1296.51 \n",
       "  432.975,1279.97 451.138,1263.88 469.301,1248.22 487.465,1232.98 505.628,1218.13 523.791,1203.67 541.954,1189.58 560.118,1175.85 578.281,1162.46 596.444,1149.42 \n",
       "  614.607,1136.69 632.77,1124.29 650.934,1112.18 669.097,1100.37 687.26,1088.85 705.423,1077.6 723.587,1066.62 741.75,1055.89 759.913,1045.42 778.076,1035.19 \n",
       "  796.239,1025.19 814.403,1015.42 832.566,1005.87 850.729,996.541 868.892,987.417 887.056,978.495 905.219,969.768 923.382,961.232 941.545,952.881 959.708,944.71 \n",
       "  977.872,936.713 996.035,928.886 1014.2,921.223 1032.36,913.72 1050.52,906.374 1068.69,899.179 1086.85,892.131 1105.01,885.226 1123.18,878.461 1141.34,871.832 \n",
       "  1159.5,865.335 \n",
       "  \"/>\n",
       "<path clip-path=\"url(#clip350)\" d=\"\n",
       "M918.996 972.231 L1154.66 972.231 L1154.66 868.551 L918.996 868.551  Z\n",
       "  \" fill=\"#ffffff\" fill-rule=\"evenodd\" fill-opacity=\"1\"/>\n",
       "<polyline clip-path=\"url(#clip350)\" style=\"stroke:#000000; stroke-linecap:butt; stroke-linejoin:round; stroke-width:4; stroke-opacity:1; fill:none\" points=\"\n",
       "  918.996,972.231 1154.66,972.231 1154.66,868.551 918.996,868.551 918.996,972.231 \n",
       "  \"/>\n",
       "<polyline clip-path=\"url(#clip350)\" style=\"stroke:#009af9; stroke-linecap:butt; stroke-linejoin:round; stroke-width:4; stroke-opacity:1; fill:none\" points=\"\n",
       "  929.692,920.391 993.869,920.391 \n",
       "  \"/>\n",
       "<path clip-path=\"url(#clip350)\" d=\"M1021.07 901.653 L1021.07 905.194 L1017 905.194 Q1014.7 905.194 1013.8 906.12 Q1012.92 907.046 1012.92 909.453 L1012.92 911.745 L1019.94 911.745 L1019.94 915.055 L1012.92 915.055 L1012.92 937.671 L1008.64 937.671 L1008.64 915.055 L1004.57 915.055 L1004.57 911.745 L1008.64 911.745 L1008.64 909.94 Q1008.64 905.611 1010.65 903.643 Q1012.67 901.653 1017.04 901.653 L1021.07 901.653 Z\" fill=\"#000000\" fill-rule=\"evenodd\" fill-opacity=\"1\" /><path clip-path=\"url(#clip350)\" d=\"M1028.66 903.111 L1028.66 915.958 L1024.73 915.958 L1024.73 903.111 L1028.66 903.111 Z\" fill=\"#000000\" fill-rule=\"evenodd\" fill-opacity=\"1\" /><path clip-path=\"url(#clip350)\" d=\"M1041.69 903.111 L1041.69 915.958 L1037.76 915.958 L1037.76 903.111 L1041.69 903.111 Z\" fill=\"#000000\" fill-rule=\"evenodd\" fill-opacity=\"1\" /><path clip-path=\"url(#clip350)\" d=\"M1054.73 903.111 L1054.73 915.958 L1050.79 915.958 L1050.79 903.111 L1054.73 903.111 Z\" fill=\"#000000\" fill-rule=\"evenodd\" fill-opacity=\"1\" /><path clip-path=\"url(#clip350)\" d=\"M1067.76 903.111 L1067.76 915.958 L1063.82 915.958 L1063.82 903.111 L1067.76 903.111 Z\" fill=\"#000000\" fill-rule=\"evenodd\" fill-opacity=\"1\" /><path clip-path=\"url(#clip350)\" d=\"M1087 901.699 Q1083.89 907.023 1082.39 912.231 Q1080.88 917.44 1080.88 922.787 Q1080.88 928.134 1082.39 933.389 Q1083.92 938.62 1087 943.921 L1083.29 943.921 Q1079.82 938.481 1078.08 933.226 Q1076.37 927.972 1076.37 922.787 Q1076.37 917.625 1078.08 912.393 Q1079.8 907.162 1083.29 901.699 L1087 901.699 Z\" fill=\"#000000\" fill-rule=\"evenodd\" fill-opacity=\"1\" /><path clip-path=\"url(#clip350)\" d=\"M1116.81 911.745 L1107.43 924.361 L1117.3 937.671 L1112.27 937.671 L1104.73 927.486 L1097.18 937.671 L1092.16 937.671 L1102.23 924.106 L1093.01 911.745 L1098.04 911.745 L1104.91 920.981 L1111.79 911.745 L1116.81 911.745 Z\" fill=\"#000000\" fill-rule=\"evenodd\" fill-opacity=\"1\" /><path clip-path=\"url(#clip350)\" d=\"M1122.64 901.699 L1126.35 901.699 Q1129.82 907.162 1131.53 912.393 Q1133.27 917.625 1133.27 922.787 Q1133.27 927.972 1131.53 933.226 Q1129.82 938.481 1126.35 943.921 L1122.64 943.921 Q1125.72 938.62 1127.23 933.389 Q1128.75 928.134 1128.75 922.787 Q1128.75 917.44 1127.23 912.231 Q1125.72 907.023 1122.64 901.699 Z\" fill=\"#000000\" fill-rule=\"evenodd\" fill-opacity=\"1\" /></svg>\n"
      ]
     },
     "execution_count": 87,
     "metadata": {},
     "output_type": "execute_result"
    }
   ],
   "source": [
    "f(x)=x^2*log(x)\n",
    "df(x)=x+2x*log(x)\n",
    "d2f(x)=2log(x)+3\n",
    "d3f(x)=2/x\n",
    "d4f(x)=-2/x^2\n",
    "a=1\n",
    "b=3/2\n",
    "p1 = plot(2:0.001:6,f,label=\"x^2*log(x)\")\n",
    "p2 = plot(a:0.01:b,d2f,label=\"f''(x)\")\n",
    "p3 = plot(a:0.01:b,d4f,label=\"f''''(x)\")\n",
    "plot(p1,p2,p3)"
   ]
  },
  {
   "cell_type": "code",
   "execution_count": 88,
   "metadata": {},
   "outputs": [
    {
     "data": {
      "text/plain": [
       "396.28470752104744"
      ]
     },
     "execution_count": 88,
     "metadata": {},
     "output_type": "execute_result"
    }
   ],
   "source": [
    "M=abs(d2f(a))\n",
    "N_pm(error,M,a,b) "
   ]
  },
  {
   "cell_type": "code",
   "execution_count": 89,
   "metadata": {},
   "outputs": [
    {
     "data": {
      "text/plain": [
       "560.0169943749474"
      ]
     },
     "execution_count": 89,
     "metadata": {},
     "output_type": "execute_result"
    }
   ],
   "source": [
    "M=abs(d2f(a))\n",
    "N_t(error,M,a,b) "
   ]
  },
  {
   "cell_type": "code",
   "execution_count": 90,
   "metadata": {},
   "outputs": [
    {
     "data": {
      "text/plain": [
       "5"
      ]
     },
     "execution_count": 90,
     "metadata": {},
     "output_type": "execute_result"
    }
   ],
   "source": [
    "M=abs(d4f(a))\n",
    "N_s(error,M,a,b) "
   ]
  },
  {
   "cell_type": "markdown",
   "metadata": {},
   "source": [
    "***3.***"
   ]
  },
  {
   "cell_type": "code",
   "execution_count": 91,
   "metadata": {},
   "outputs": [
    {
     "ename": "LoadError",
     "evalue": "DomainError with -3.5:\nlog will only return a complex result if called with a complex argument. Try log(Complex(x)).",
     "output_type": "error",
     "traceback": [
      "DomainError with -3.5:\nlog will only return a complex result if called with a complex argument. Try log(Complex(x)).",
      "",
      "Stacktrace:",
      " [1] throw_complex_domainerror(f::Symbol, x::Float64)",
      "   @ Base.Math ./math.jl:33",
      " [2] _log(x::Float64, base::Val{:ℯ}, func::Symbol)",
      "   @ Base.Math ./special/log.jl:304",
      " [3] log",
      "   @ ./special/log.jl:269 [inlined]",
      " [4] F(x::Float64)",
      "   @ Main ./In[91]:2",
      " [5] top-level scope",
      "   @ In[91]:5",
      " [6] eval",
      "   @ ./boot.jl:373 [inlined]",
      " [7] include_string(mapexpr::typeof(REPL.softscope), mod::Module, code::String, filename::String)",
      "   @ Base ./loading.jl:1196"
     ]
    }
   ],
   "source": [
    "f(x)=2/(x-4)\n",
    "F(x)=2*log(x-4)\n",
    "a=0\n",
    "b=0.5\n",
    "I=(F(b)-F(a))"
   ]
  },
  {
   "cell_type": "code",
   "execution_count": 92,
   "metadata": {},
   "outputs": [
    {
     "data": {
      "text/plain": [
       "-0.26706270390283576"
      ]
     },
     "execution_count": 92,
     "metadata": {},
     "output_type": "execute_result"
    }
   ],
   "source": [
    "f(x)=2/(x-4)\n",
    "a=0\n",
    "b=0.5\n",
    "n=71\n",
    "Sm=punto_medio(f,a,b,n)"
   ]
  },
  {
   "cell_type": "code",
   "execution_count": null,
   "metadata": {},
   "outputs": [],
   "source": []
  },
  {
   "cell_type": "code",
   "execution_count": 93,
   "metadata": {},
   "outputs": [
    {
     "data": {
      "text/plain": [
       "-0.2670628665870296"
      ]
     },
     "execution_count": 93,
     "metadata": {},
     "output_type": "execute_result"
    }
   ],
   "source": [
    "f(x)=2/(x-4)\n",
    "a=0\n",
    "b=0.5\n",
    "n=100\n",
    "St=trapecio(f,a,b,n)"
   ]
  },
  {
   "cell_type": "code",
   "execution_count": null,
   "metadata": {},
   "outputs": [],
   "source": []
  },
  {
   "cell_type": "code",
   "execution_count": 94,
   "metadata": {},
   "outputs": [
    {
     "data": {
      "text/plain": [
       "-0.2670627880514296"
      ]
     },
     "execution_count": 94,
     "metadata": {},
     "output_type": "execute_result"
    }
   ],
   "source": [
    "f(x)=2/(x-4)\n",
    "a=0\n",
    "b=0.5\n",
    "n=5\n",
    "Ss=Simpson(f,a,b,n)"
   ]
  },
  {
   "cell_type": "code",
   "execution_count": null,
   "metadata": {},
   "outputs": [],
   "source": []
  },
  {
   "cell_type": "code",
   "execution_count": 95,
   "metadata": {},
   "outputs": [
    {
     "data": {
      "text/plain": [
       "0"
      ]
     },
     "execution_count": 95,
     "metadata": {},
     "output_type": "execute_result"
    }
   ],
   "source": [
    "f(x)=x^2*log(x)\n",
    "F(x)=\n",
    "a=1\n",
    "b=3/4\n",
    "I=(F(b)-F(a))"
   ]
  },
  {
   "cell_type": "code",
   "execution_count": 96,
   "metadata": {},
   "outputs": [
    {
     "data": {
      "text/plain": [
       "0.02378083099030073"
      ]
     },
     "execution_count": 96,
     "metadata": {},
     "output_type": "execute_result"
    }
   ],
   "source": [
    "f(x)=x^2*log(x)\n",
    "a=1\n",
    "b=3/4\n",
    "n=397\n",
    "Sm=punto_medio(f,a,b,n)"
   ]
  },
  {
   "cell_type": "code",
   "execution_count": null,
   "metadata": {},
   "outputs": [],
   "source": []
  },
  {
   "cell_type": "code",
   "execution_count": 97,
   "metadata": {},
   "outputs": [
    {
     "data": {
      "text/plain": [
       "0.023780808353703338"
      ]
     },
     "execution_count": 97,
     "metadata": {},
     "output_type": "execute_result"
    }
   ],
   "source": [
    "f(x)=x^2*log(x)\n",
    "a=1\n",
    "b=3/4\n",
    "n=561\n",
    "St=trapecio(f,a,b,n)"
   ]
  },
  {
   "cell_type": "code",
   "execution_count": null,
   "metadata": {},
   "outputs": [],
   "source": []
  },
  {
   "cell_type": "code",
   "execution_count": 98,
   "metadata": {},
   "outputs": [
    {
     "data": {
      "text/plain": [
       "0.023780819686375965"
      ]
     },
     "execution_count": 98,
     "metadata": {},
     "output_type": "execute_result"
    }
   ],
   "source": [
    "f(x)=x^2*log(x)\n",
    "a=1\n",
    "b=3/4\n",
    "n=17\n",
    "Ss=Simpson(f,a,b,n)"
   ]
  },
  {
   "cell_type": "markdown",
   "metadata": {},
   "source": [
    "# Problema 5\n",
    "**Comparación de métodos.**\n",
    "\n",
    "1. Aproxime la integral\n",
    "\\begin{equation*}\n",
    "I = \\int_0^1 e^{-t} dt = 1 - e^{-1}  \\nonumber              \n",
    "\\end{equation*}\n",
    "empleando los algoritmos del problema 3.\n",
    "\n",
    "2. Calcule el error relativo $E$ para $n\\in [2,4,8,...,4096]$ ($n=2^i$ con $i=1,2,...$) y grafique $E$ vs $n$ en *log-log*. \n",
    "\n",
    "\n",
    "3. Verifique visualmente que se satisfacen leyes de potencia\n",
    "$$\n",
    "E = Cn^{-\\alpha}\n",
    "$$\n",
    "y estime visualmente los valores de $C>0$ y $\\alpha>0$.\n",
    "\n",
    "4. Use el gráfico para estimar, para cada método, el mínimo $n$ al cuál se alcanza una precisión $E<10^{-7}$.\n",
    "\n",
    "5. Repita los incisos anteriores en `Float16` y `Float32`.\n",
    "\n",
    "6. Determine si el error de redondeo es relevante en estos casos."
   ]
  },
  {
   "cell_type": "markdown",
   "metadata": {},
   "source": [
    "## Problema 6\n",
    "En el repositorio \n",
    "\n",
    "    https://github.com/reula/Metodos_Numericos_2022/tree/main/Guias \n",
    "    \n",
    "se encuentran dos archivos de datos, \n",
    "\n",
    "    mediciones1-c1-g6.dat \n",
    "    mediciones2-c1-g6.dat\n",
    "\n",
    "Los mismos almacenan mediciones de una función $f(t)$ sobre un mismo rango de $t$. El primero muestrea $n=629$ puntos y el segundo $n=10001$.\n",
    "\n",
    "1. Baje y grafique los datos.\n",
    "\n",
    "2. Copie y modifique los algoritmos del problema 3 para integrar muestreos de funciones.\n",
    "\n",
    "3. Integre los muestreos y compare."
   ]
  },
  {
   "cell_type": "markdown",
   "metadata": {},
   "source": [
    "**Ayuda:** Para bajar el archivo `mediciones1-c1-g6.dat` del repositorio de github desde julia realice:"
   ]
  },
  {
   "cell_type": "code",
   "execution_count": 99,
   "metadata": {},
   "outputs": [
    {
     "data": {
      "text/plain": [
       "\"/home/rdpaula/Metodos_Numericos_2022/Guias/mediciones1-c1-g6.dat\""
      ]
     },
     "execution_count": 99,
     "metadata": {},
     "output_type": "execute_result"
    }
   ],
   "source": [
    "# Ejemplo de como bajar un archivo.\n",
    "separador = \"/\" # En Linux\n",
    "#separador = \"\\\" # En Windows\n",
    "download(\n",
    "    \"https://raw.githubusercontent.com/reula/Metodos_Numericos_2022/main/Guias/mediciones1-c1-g6.dat\", # Bajamos el archivo mediciones1-c1-g6.dat del repositorio en el que están las guías.\n",
    "    pwd() * separador * \"mediciones1-c1-g6.dat\" # Guardamos lo bajado en un archivo llamado mediciones1-c1-g6.dat en el directorio local.\n",
    ")"
   ]
  },
  {
   "cell_type": "code",
   "execution_count": null,
   "metadata": {},
   "outputs": [],
   "source": []
  },
  {
   "cell_type": "markdown",
   "metadata": {},
   "source": [
    "1. **Notar que Windows usa `\"\\\"` en vez de `\"/\"`.**\n",
    "\n",
    "2. Cuando entre a github a ver los links a los archivos, seleccione primero el archivo, cuando se visualice selecione el botón **Raw**. Fíjese que el link debe comenzar con https://raw.githubusercontent.com"
   ]
  },
  {
   "cell_type": "markdown",
   "metadata": {},
   "source": [
    "# Ejercicios Complementarios"
   ]
  },
  {
   "cell_type": "markdown",
   "metadata": {},
   "source": [
    "## Problema C.1\n",
    "Idem problema 4, para las siguientes integrales: \n",
    "1. $\\int_{1/2}^1 x^4 dx$\n",
    "2. $\\int_0^{\\pi/4} x \\sin x dx$"
   ]
  },
  {
   "cell_type": "code",
   "execution_count": null,
   "metadata": {},
   "outputs": [],
   "source": []
  },
  {
   "cell_type": "markdown",
   "metadata": {},
   "source": [
    "## Problema C.2\n",
    "**Integración numérica en dos dimensiones**\n",
    "1. Haga un programa que integre funciones en la region $a\\le x \\le b\\,;\\;c \\le y \\le d$ siguiendo el código delineado en la clase teórica, usando el método de cuadratura de Simpson en cada coordenada.\n",
    "2. Evalue nume\n",
    "ricamente con no menos de 8 cifras significativas las integrales\n",
    "$$\n",
    "\\int_0^2\\,dx\\, \\int_0^1\\,dy\\, e^{-x\\,y} \\;\\;\\;\\;\\;\\;\\;\\;\\;\\;\\;\\;\\;\\;\n",
    "\\int_{7/5}^2\\,dx\\, \\int_1^{3/2}\\,dy\\, \\ln{(x+2 y)}\n",
    "$$\n",
    "3. Modifique el programa para permitir que los límites de integración en $y$ sean función de $x$ y evalue la integral\n",
    "$$\n",
    "\\int_0^1\\,dx\\, \\int_0^{\\sqrt{1-x^2}}\\,dy\\, e^{-x\\,y} \n",
    "$$"
   ]
  },
  {
   "cell_type": "code",
   "execution_count": null,
   "metadata": {},
   "outputs": [],
   "source": []
  }
 ],
 "metadata": {
  "@webio": {
   "lastCommId": null,
   "lastKernelId": null
  },
  "kernelspec": {
   "display_name": "Julia 1.7.2",
   "language": "julia",
   "name": "julia-1.7"
  },
  "language_info": {
   "file_extension": ".jl",
   "mimetype": "application/julia",
   "name": "julia",
   "version": "1.7.2"
  }
 },
 "nbformat": 4,
 "nbformat_minor": 4
}
