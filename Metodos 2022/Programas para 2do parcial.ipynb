{
 "cells": [
  {
   "cell_type": "code",
   "execution_count": null,
   "id": "a827f61c",
   "metadata": {},
   "outputs": [],
   "source": [
    "using Plots\n",
    "using LaTeXStrings\n",
    "using Calculus       ### Módulo en Julia que permite calcular derivadas, gradientes y jacobinas."
   ]
  },
  {
   "cell_type": "code",
   "execution_count": null,
   "id": "94ce5345",
   "metadata": {},
   "outputs": [],
   "source": [
    "\"\"\"\n",
    "i-esimo polinomios de Lagrange\n",
    "i perteneciente en {0,1,2,...,n}\n",
    "x es argumento de Li(x)\n",
    "Vx es un vector de componentes xi\n",
    "\"\"\"\n",
    "function Li(i,x,Vx)#Float64\n",
    "    L=1.\n",
    "    for j in 1:i-1\n",
    "        L*=(x-Vx[j])/(Vx[j]-Vx[i])      ###  L=(x-Vx[j])/(Vx[j]-Vx[i])*L\n",
    "    end\n",
    "    for j in i+1:length(Vx)\n",
    "        L*=(x-Vx[j])/(Vx[j]-Vx[i])\n",
    "    end\n",
    "    return L\n",
    "end"
   ]
  },
  {
   "cell_type": "code",
   "execution_count": null,
   "id": "ce97e4ff",
   "metadata": {},
   "outputs": [],
   "source": [
    "\"\"\"\n",
    "Polinomio interpolante de Lagrange\n",
    "x es argumento de P(x)\n",
    "V es un vector de componentes xi\n",
    "W es un vector de componentes yi\n",
    "\"\"\"\n",
    "function P(x,V,W)\n",
    "    @assert length(V) == length(W)\n",
    "    P=0.\n",
    "    for i in 1:length(V)\n",
    "        P += W[i]*Li(i,x,V)\n",
    "    end\n",
    "    return P\n",
    "end"
   ]
  },
  {
   "cell_type": "code",
   "execution_count": null,
   "id": "d41352d7",
   "metadata": {},
   "outputs": [],
   "source": [
    "Pf(x) = P(x,V,f.(V))    ### f.(V) f aplicado en todas las componentes de V"
   ]
  },
  {
   "cell_type": "code",
   "execution_count": null,
   "id": "ff491318",
   "metadata": {},
   "outputs": [],
   "source": [
    "N=200\n",
    "xrange=x0:(x2-x0)/(N-1):x2"
   ]
  },
  {
   "cell_type": "code",
   "execution_count": null,
   "id": "69768e5c",
   "metadata": {},
   "outputs": [],
   "source": [
    "plot(xrange,Pf,title=\"Polinomio interpolante de Lagrange\",label=\"Pf\")\n",
    "plot!(f,label=\"f(x)\",linestyle=:dash)\n",
    "scatter!(V,f.(V),label=\"Puntos\",legend=:topleft)"
   ]
  },
  {
   "cell_type": "code",
   "execution_count": null,
   "id": "872c21be",
   "metadata": {},
   "outputs": [],
   "source": [
    "function Polinomio_Newton(x,V,W)\n",
    "    @assert length(V) == length(W)\n",
    "    n = length(V)\n",
    "    Fxx = zeros(n)\n",
    "    a = zeros(n)\n",
    "    a[1] = W[1]\n",
    "    P = a[1]\n",
    "    Q = 1.\n",
    "    U = [W[i] for i in 1:n]\n",
    "    for j in 1:n-1\n",
    "        for i in 1:n-j\n",
    "            Fxx[i] = (U[i+1]-U[i])/(V[i+j]-V[i])     ### V = [x0,x1,x2,...,xn] , W = [y0,y1,y2,...,yn]\n",
    "            U[i] = Fxx[i]                              ### Uj[i] = [y_i - y_i-1]/(x_i - x_i-)                          \n",
    "        end\n",
    "        a[j+1] = U[1]\n",
    "    end\n",
    "    for k in 1:n-1\n",
    "        Q *= (x-V[k])\n",
    "        P += a[k+1]*Q\n",
    "    end\n",
    "    return P\n",
    "end"
   ]
  },
  {
   "cell_type": "code",
   "execution_count": null,
   "id": "fa51ca8c",
   "metadata": {},
   "outputs": [],
   "source": [
    "\"Formula de diferencias finitas centrada de tre puntos\"\n",
    "function derivada_centrada(f,x,h)\n",
    "    df=(f(x+h)-f(x-h))/(2h)\n",
    "    return df\n",
    "end"
   ]
  },
  {
   "cell_type": "code",
   "execution_count": null,
   "id": "87dae078",
   "metadata": {},
   "outputs": [],
   "source": [
    "e=eps(2.)   ### Epsilon de la maquina, es la distancia entre valores de punto flotante representables consecutivos en x"
   ]
  },
  {
   "cell_type": "code",
   "execution_count": null,
   "id": "c2987aca",
   "metadata": {},
   "outputs": [],
   "source": [
    "derivative(f,x0)   ### ***Calculado en Julia usando las funciones matemáticas incorporadas"
   ]
  },
  {
   "cell_type": "code",
   "execution_count": null,
   "id": "76c2d729",
   "metadata": {},
   "outputs": [],
   "source": [
    "diferencia(h)=abs(derivative(f,x0)-derivada_centrada(f,x0,h))\n",
    "h=[1/10^(k) for k=0:19]"
   ]
  },
  {
   "cell_type": "code",
   "execution_count": null,
   "id": "8c4cfab0",
   "metadata": {},
   "outputs": [],
   "source": [
    "scatter(h,diferencia,linestyle=:dash, yscale=:log10,xscale=:log10, xlim=(1e-17,1e-0),title=\"Error absoluto\")\n",
    "vline!([1e-5],label=\"k=5\")"
   ]
  },
  {
   "cell_type": "code",
   "execution_count": null,
   "id": "df8b678d",
   "metadata": {},
   "outputs": [],
   "source": [
    "\"Formula de diferencias finitas hacia adelante\"\n",
    "function derivada_adelante(f,x,h)\n",
    "    df=(f(x+h)-f(x))/h\n",
    "    return df\n",
    "end"
   ]
  },
  {
   "cell_type": "code",
   "execution_count": null,
   "id": "ddda4398",
   "metadata": {},
   "outputs": [],
   "source": [
    "\"Formula de diferencias finitas centrada de tres puntos\"\n",
    "function derivada_centrada_3p(f,x,h)\n",
    "    df=(f(x+h)-f(x-h))/(2h)\n",
    "    return df\n",
    "end"
   ]
  },
  {
   "cell_type": "code",
   "execution_count": null,
   "id": "7f60d498",
   "metadata": {},
   "outputs": [],
   "source": [
    "\"Formula de diferencias finitas centrada de cinco puntos\"\n",
    "function derivada_centrada_5p(f,x,h)\n",
    "    df=(f(x-2h)-8f(x-h)+8f(x+h)-f(x+2h))/(12h)       ### df=(f(x-2h)-8f(x-h)+8f(x+h)-f(x-2h))/(16h) esta mal pero da igual :p\n",
    "    return df\n",
    "end"
   ]
  },
  {
   "cell_type": "code",
   "execution_count": null,
   "id": "673a6186",
   "metadata": {},
   "outputs": [],
   "source": [
    "**Ayuda:** Para bajar el archivo `pos.dat` del repositorio de github desde julia realice:"
   ]
  },
  {
   "cell_type": "code",
   "execution_count": null,
   "id": "e8343e1f",
   "metadata": {},
   "outputs": [],
   "source": [
    "# Ejemplo de como bajar un archivo.\n",
    "separador = \"/\" # En Linux\n",
    "#separador = \"\\\" # En Windows\n",
    "download(\n",
    "    \"https://raw.githubusercontent.com/reula/Metodos_Numericos_2022/main/Guias/pos.dat\", # Bajamos el archivo pos.dat del repositorio en el que están las guías.\n",
    "    pwd() * separador * \"pos.dat\" # Guardamos lo bajado en un archivo llamado pos.dat en el directorio local.\n",
    ")"
   ]
  },
  {
   "cell_type": "code",
   "execution_count": null,
   "id": "66b62cab",
   "metadata": {},
   "outputs": [],
   "source": [
    "**Ayuda:** Para cargar los datos en `pos.dat` a vectores de Julia utilice:"
   ]
  },
  {
   "cell_type": "code",
   "execution_count": null,
   "id": "dcc2fd7c",
   "metadata": {},
   "outputs": [],
   "source": [
    "t = Vector{Float64}()\n",
    "x = Vector{Float64}()\n",
    "open(\"pos.dat\",\"r\") do fh\n",
    "    for line in readlines(fh) \n",
    "        cols = split(line)\n",
    "        push!(t,parse(Float64,cols[1]))\n",
    "        push!(x,parse(Float64,cols[2]))\n",
    "    end\n",
    "end"
   ]
  },
  {
   "cell_type": "code",
   "execution_count": null,
   "id": "19ba97d2",
   "metadata": {},
   "outputs": [],
   "source": []
  },
  {
   "cell_type": "code",
   "execution_count": null,
   "id": "5843b90b",
   "metadata": {},
   "outputs": [],
   "source": []
  },
  {
   "cell_type": "code",
   "execution_count": null,
   "id": "031d35fd",
   "metadata": {},
   "outputs": [],
   "source": [
    "function punto_medio(f,a,b,n)\n",
    "    Sm=0\n",
    "    h=(b-a)/(n-1)                       ### n puntos y n-1 intervalos\n",
    "    x0=a\n",
    "    for i=1:n-1                       \n",
    "        x1=a+i*h\n",
    "        Sm+=(x1-x0)f((x0+x1)/2)        ### Sm+=h*f(x0+h/2)\n",
    "        x0=x1\n",
    "        #println(\"$i, $Sm, $x1\")\n",
    "    end\n",
    "    return Sm\n",
    "end"
   ]
  },
  {
   "cell_type": "code",
   "execution_count": null,
   "id": "88e20c01",
   "metadata": {},
   "outputs": [],
   "source": [
    "function trapecio(f,a,b,n)\n",
    "    St=0\n",
    "    h=(b-a)/(n-1)\n",
    "    x0=a\n",
    "    for i=1:n-1\n",
    "        x1=a+i*h\n",
    "        St+=(x1-x0)*(f(x0)+f(x1))/2\n",
    "        x0=x1\n",
    "        #println(\"$i, $St, $x1\")\n",
    "    end\n",
    "    return St\n",
    "end"
   ]
  },
  {
   "cell_type": "code",
   "execution_count": null,
   "id": "1b02c854",
   "metadata": {},
   "outputs": [],
   "source": [
    "function Simpson(f,a,b,n)       ### Con n impar i.e intervalos pares \n",
    "    @assert n%2==1\n",
    "    Ss=0\n",
    "    h=(b-a)/(n-1)\n",
    "    x0=a\n",
    "    for i=1:n-1\n",
    "        x2=a+i*h\n",
    "        x1=(x0+x2)/2\n",
    "        Ss+=h/6*(f(x0)+4f(x1)+f(x2))\n",
    "        x0=x2\n",
    "        #println(\"$i, $Ss, $x2\")\n",
    "    end\n",
    "    return Ss\n",
    "end"
   ]
  },
  {
   "cell_type": "code",
   "execution_count": null,
   "id": "33aa506c",
   "metadata": {},
   "outputs": [],
   "source": []
  },
  {
   "cell_type": "code",
   "execution_count": null,
   "id": "f2fb90a0",
   "metadata": {},
   "outputs": [],
   "source": []
  },
  {
   "cell_type": "code",
   "execution_count": null,
   "id": "d6f68194",
   "metadata": {},
   "outputs": [],
   "source": []
  },
  {
   "cell_type": "code",
   "execution_count": null,
   "id": "e5844574",
   "metadata": {},
   "outputs": [],
   "source": []
  },
  {
   "cell_type": "code",
   "execution_count": null,
   "id": "56441c7d",
   "metadata": {},
   "outputs": [],
   "source": []
  },
  {
   "cell_type": "code",
   "execution_count": null,
   "id": "cfa456c6",
   "metadata": {},
   "outputs": [],
   "source": []
  },
  {
   "cell_type": "code",
   "execution_count": null,
   "id": "037e0be2",
   "metadata": {},
   "outputs": [],
   "source": [
    "\"1er paso metodo de Euler\"\n",
    "function Euler(f,t0,y0,h,p)\n",
    "    return y0 + h*f(t0, y0, p)                ### p: parametros o constantes de f\n",
    "end"
   ]
  },
  {
   "cell_type": "code",
   "execution_count": null,
   "id": "e836e787",
   "metadata": {},
   "outputs": [],
   "source": [
    "\"1er paso metodo Runge-Kutta 2\"\n",
    "function RK2(f,t0,y0,h,p)\n",
    "    k1 = f(t0, y0, p)\n",
    "    k2 = f(t0+h, y0+h*k1, p)\n",
    "    return y0 + (h/2)*(k1 + k2)               ### y0 + h/2*(k1 + k2) No anda\n",
    "end"
   ]
  },
  {
   "cell_type": "code",
   "execution_count": null,
   "id": "98971263",
   "metadata": {},
   "outputs": [],
   "source": [
    "\"1er paso metodo Runge-Kutta 4\"\n",
    "function RK4(f,t0,y0,h,p)\n",
    "    k1 = f(t0, y0, p)\n",
    "    k2 = f(t0+h/2, y0+h/2*k1, p)\n",
    "    k3 = f(t0+h/2, y0+h/2*k2, p)\n",
    "    k4 = f(t0+h, y0+h*k3, p)\n",
    "    return y0 + (h/6)*(k1 + 2*k2 + 2*k3 + k4)      ### y0 + h/6(k1 + 2*k2 + 2*k3 + k4) No anda\n",
    "end"
   ]
  },
  {
   "cell_type": "code",
   "execution_count": 1,
   "id": "13b1aced",
   "metadata": {},
   "outputs": [
    {
     "data": {
      "text/plain": [
       "iteracion_ODES (generic function with 1 method)"
      ]
     },
     "execution_count": 1,
     "metadata": {},
     "output_type": "execute_result"
    }
   ],
   "source": [
    "function iteracion_ODES(Metodo,f,y0,(a,b),N,p)\n",
    "    t = zeros(N)\n",
    "    w = zeros(N)\n",
    "    h = (b-a)/(N-1)\n",
    "    t[1] = a\n",
    "    w[1] = y0\n",
    "    for i in 2:N\n",
    "        t[i] = t[i-1]+h\n",
    "        w[i] = Metodo(f,t[i-1],w[i-1],h,p)\n",
    "    end\n",
    "    return t[:],w[:]\n",
    "end"
   ]
  },
  {
   "cell_type": "code",
   "execution_count": null,
   "id": "409ffebc",
   "metadata": {},
   "outputs": [],
   "source": [
    "f(t,y,p) = -y+sin(2pi*t)\n",
    "a = 0\n",
    "b = 1\n",
    "y0 = 1.0\n",
    "N = 10          ### h=0,1\n",
    "p = 0"
   ]
  },
  {
   "cell_type": "code",
   "execution_count": null,
   "id": "a7f14b80",
   "metadata": {},
   "outputs": [],
   "source": [
    "t1,w1=iteracion_ODES(Euler,f,y0,(a,b),N,p)"
   ]
  },
  {
   "cell_type": "code",
   "execution_count": null,
   "id": "3700b2c0",
   "metadata": {},
   "outputs": [],
   "source": [
    "y1 = [y(t1[n]) for n=1:N]\n",
    "plot(title=\"Error Global\",xlabel=\"t\",ylabel=\"e(t)\")\n",
    "plot!(t1,abs.(w1-y1),label=\"Euler\",linestyle=:dash)\n",
    "plot!(t2,abs.(w2-y1),label=\"RK2\",linestyle=:dash)\n",
    "plot!(t3,abs.(w3-y1),label=\"RK4\",linestyle=:dash)"
   ]
  },
  {
   "cell_type": "code",
   "execution_count": null,
   "id": "6c15f98b",
   "metadata": {},
   "outputs": [],
   "source": [
    "function iteracion_ODES_multidumencional(Metodo,f,y0,(a,b),N,p)\n",
    "    t = zeros(N)\n",
    "    w = zeros(length(y0),N)\n",
    "    h = (b-a)/(N-1)\n",
    "    t[1] = a\n",
    "    w[:,1] = y0\n",
    "    for i in 2:N\n",
    "        t[i] = t[i-1]+h\n",
    "        w[:,i] = Metodo(f,t[i-1],w[:,i-1],h,p)\n",
    "    end\n",
    "    return t[:],w[:,:]\n",
    "end"
   ]
  },
  {
   "cell_type": "code",
   "execution_count": null,
   "id": "c120b225",
   "metadata": {},
   "outputs": [],
   "source": [
    "function f(t,w,p)\n",
    "    (g,l)=p\n",
    "return [w[2];(-g/l)*sin(w[1])]\n",
    "end"
   ]
  },
  {
   "cell_type": "code",
   "execution_count": null,
   "id": "137880a1",
   "metadata": {},
   "outputs": [],
   "source": [
    "y0=[0.25,0]\n",
    "a=0\n",
    "b=10\n",
    "N=1000                                 ### h=0,01\n",
    "p=(10,1)\n",
    "t,w=iteracion_ODES_multidumencional(RK4,f,y0,(a,b),N,p)"
   ]
  },
  {
   "cell_type": "code",
   "execution_count": null,
   "id": "5c1c2267",
   "metadata": {},
   "outputs": [],
   "source": [
    "plot(t,w[1,:])\n",
    "plot!(t,w[2,:])"
   ]
  }
 ],
 "metadata": {
  "kernelspec": {
   "display_name": "Julia 1.7.2",
   "language": "julia",
   "name": "julia-1.7"
  },
  "language_info": {
   "file_extension": ".jl",
   "mimetype": "application/julia",
   "name": "julia",
   "version": "1.7.2"
  }
 },
 "nbformat": 4,
 "nbformat_minor": 5
}
