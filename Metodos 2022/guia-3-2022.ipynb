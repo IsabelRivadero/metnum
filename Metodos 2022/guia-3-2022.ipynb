{
 "cells": [
  {
   "cell_type": "markdown",
   "metadata": {},
   "source": [
    "# Métodos Numéricos \n",
    "\n",
    "## Guía 3: Interpolación y aproximación polinomial (Abril 2022)"
   ]
  },
  {
   "cell_type": "code",
   "execution_count": null,
   "metadata": {},
   "outputs": [],
   "source": [
    "using Plots\n",
    "using LaTeXStrings"
   ]
  },
  {
   "cell_type": "markdown",
   "metadata": {},
   "source": [
    "### Problema 1\n",
    "\n",
    "1. Usando los puntos interpolantes $x_0 = 0$, $x_1=0.6$ y $x_2=0.9$, construya analíticamente los polinomios interpolantes de Lagrange de grado 1 y 2 que aproximen las funciones\n",
    "  \n",
    "    **a.** $f(x) = \\ln (x+1)$ y \n",
    "    \n",
    "    **b.** $g(x) = \\sqrt{x+1}$ \n",
    "    \n",
    "    en $x=0.45$.\n",
    "\n",
    "2. Encuentre los errores absolutos y relativos correspondientes.\n",
    "\n",
    "3. En el rango dado $[x_0,x_2]$, grafique ambas funciones, sus polinomios interpolantes y correspondientes aproximaciones de Taylor de grado 2 entorno a $x_0$. Agregue al gráfico los puntos interpolantes $(x_i,f(x_i))$ (o $(x_i,g(x_i))$ según corresponda) usando símbolos en vez de curvas."
   ]
  },
  {
   "cell_type": "code",
   "execution_count": null,
   "metadata": {},
   "outputs": [],
   "source": []
  },
  {
   "cell_type": "markdown",
   "metadata": {},
   "source": [
    "### Problema 2\n",
    "\n",
    "1. Escriba una función que evalúe el **polinomio interpolante de Lagrange** $P$ en un punto $x$ con $x_0 < x < x_n$ siendo $(x_i,y_i)$ para $i=0,...,n$ los puntos a interpolar. La función debe tomar como argumentos de entrada: **i)** el valor $x$, **ii)** un arreglo $v$ de valores $x_i$ y **iii)** un arreglo $w$ de valores $y_i$, y debe retornal el valor $P(x)$.\n",
    "\n",
    "2. Para cada función del **Problema 1**, realice un gráfico de $P$ sobre $N=200$ puntos equidistantes en el intérvalo $[x_0,x_n]$ interpolando los puntos $(x_i,y_i) = (x_i,f(x_i))$ para $i=0,1,2$. Incluya en curvas punteadas la función y en símbolos para los puntos interpolantes. **Ayuda:** no confundir los $N$ puntos usados para graficar, con los $n$ puntos interpolación.\n",
    "\n",
    "3. Gráfique la diferencia entre los polinomios y las funciones."
   ]
  },
  {
   "cell_type": "code",
   "execution_count": null,
   "metadata": {},
   "outputs": [],
   "source": []
  },
  {
   "cell_type": "markdown",
   "metadata": {},
   "source": [
    "### Problema 3\n",
    "\n",
    "Se desea aproximar $\\cos(x)$ en el intervalo $[0,1]$ con un error absoluto menor a $1\\times 10^{-7}$ para todo $x \\in [0,1]$. \n",
    "\n",
    "1. Usando el teorema del error de la interpolación polinomial, estime el número de puntos de interpolación que son necesarios para conseguir el máximo error absoluto mencionado.\n",
    "\n",
    "2. Grafique el error absoluto en el intervalo en cuestión para tres casos particulares de $\\{x_i\\}$: *i)* puntos equidistantes $x_i=i/n$, **ii)** puntos al azar y **iii)** puntos distribuidos heterogéneamente $x_i=1/i$."
   ]
  },
  {
   "cell_type": "code",
   "execution_count": null,
   "metadata": {},
   "outputs": [],
   "source": []
  },
  {
   "cell_type": "markdown",
   "metadata": {},
   "source": [
    "### Problema 4\n",
    "\n",
    "Construya analíticamente el polinomio interpolante de Newton para las siguientes funciones. \n",
    "De una cota del error absoluto en el intervalo $[x_0,x_n]$.\n",
    "\n",
    "**a.** $f(x) = \\exp (2x) \\cos(3x)$ para $x_0=0$, $x_1=0.3$ y $x_2=0.6$.\n",
    "\n",
    "**b.** $g(x) = \\ln(x)$ para $x_0=1$, $x_1=1.1$, $x_2=1.3$ y $x_3=1.4$."
   ]
  },
  {
   "cell_type": "code",
   "execution_count": null,
   "metadata": {},
   "outputs": [],
   "source": []
  },
  {
   "cell_type": "markdown",
   "metadata": {},
   "source": [
    "### Problema 5\n",
    "\n",
    "1. Escriba una función que evalúe el **polinomio interpolante de Netwon** $P$ en un punto $x$ con $x_0 < x < x_n$ siendo $(x_i,y_i)$ para $i=0,...,n$ los puntos a interpolar. La función debe tomar como argumentos de entrada: **i)** el valor $x$, **ii)** un arreglo $v$ de valores $x_i$ y **iii)** un arreglo $w$ de valores $y_i$, y debe retornal el valor $P(x)$.\n",
    "\n",
    "2. Grafique los polinomios interpolantes de Newton para las funciones del **problema 4** en $N=200$ puntos equidistantes en el intervalo $[x_0,x_n]$ correspondiente. Incluya en el grafico las curvas de las funciones y, con símbolos, los puntos de interpolación.\n",
    "\n",
    "3. Repita 1. y 2. pero usando puntos de interpolación determinados por $n=80$ valores equidistantes de $x_i$ en $[0,0.6]$ para $f$ y $[1,1.4]$ para $g$.\n",
    "\n",
    "4. Repita 3. pero usando `BigFloat` en vez de `Float64`.\n",
    "\n",
    "5. Interprete lo observado."
   ]
  },
  {
   "cell_type": "code",
   "execution_count": null,
   "metadata": {},
   "outputs": [],
   "source": []
  },
  {
   "cell_type": "markdown",
   "metadata": {},
   "source": [
    "### Problema 6\n",
    "\n",
    "Considere la función definida por $f(x) = \\frac{1}{1 + 25 x^2}$.\n",
    "\n",
    "1. Grafique la función $f$ en el intervalo $[-1,1]$.\n",
    "\n",
    "Para cada valor de $n\\in \\{5, 10, 20\\}$:\n",
    "\n",
    "2. Calcule la interpolación de $f$ por el **método de Lagrange** usando $n+1$ valores equidistantes de $x$ en el intervalo mencionado.\n",
    "\n",
    "3. Añada al gráfico una curva del polinomio interpolante evaluandolo en 200 puntos equidistantes en los rangos $x=[-1,1]$ e $y=[-1.5,1.5]$.\n",
    "\n",
    "4. Calcule el error máximo para cada caso e incluya estos datos de errores máximos en el gráfico.\n",
    "\n",
    "**Nota:** En este problema se observa el llamado fenómeno de Runge, en el que la interpolación\n",
    "por polinomios usando puntos equiespaciados da resultados divergentes.\n",
    "\n",
    "5. ¿Por qué no hay contradicción con el teorema de aproximación de Weierstrass?\n",
    "\n",
    "6. En vez de puntos equiespaciados, pruebe usando el espaciamiento de Chebyshev dado por $ x_i = -\\cos( \\pi (i-1)/n )$, para $i=1,2,...,n+1$. ¿Disminuye significativamente el error en este caso?"
   ]
  },
  {
   "cell_type": "code",
   "execution_count": null,
   "metadata": {},
   "outputs": [],
   "source": []
  },
  {
   "cell_type": "markdown",
   "metadata": {},
   "source": [
    "## Ejercicios Complementarios"
   ]
  },
  {
   "cell_type": "markdown",
   "metadata": {},
   "source": [
    "### Problema C.1\n",
    "\n",
    "Considere el siguiente polinomio:\n",
    "$$\n",
    "p(x) = -10 + 5 x - 12 x^2  + 6 x^3  - 2 x^4  + x^5 \\ ,\n",
    "$$\n",
    "\n",
    "1. Grafíquelo y observe que posee una única raíz real positiva.\n",
    "\n",
    "2. Calcule a mano su derivada y grafíquela.\n",
    "\n",
    "3. Evalúe el polinomio y su derivada utilizando el algoritmo de Horner. Grafique nuevamente comparando con las versiones anteriores.\n",
    "\n",
    "4. Encuentre la raíz del polinomo utilizando el método de Newton-Raphson, eligiendo el valor inicial $p_1$ utilizando los teoremas que acotan la región del espacio complejo donde se encuentran las raíces."
   ]
  },
  {
   "cell_type": "code",
   "execution_count": null,
   "metadata": {},
   "outputs": [],
   "source": []
  },
  {
   "cell_type": "markdown",
   "metadata": {},
   "source": [
    "### Problema C.2: Error  de la interpolación polinomial para puntos equiespaciados\n",
    "\n",
    "Usando el teorema dado en el teórico, demuestre el siguiente corolario.\n",
    "\n",
    "**Corolario:** Sea $f \\varepsilon C_{[a,b]}^{(n+1)}$  tal que $\\exists M>0 / |f^{(n+1)}(x) |< M \\;\\forall \\,x\\varepsilon [a,b]$ (i.e. su $n+1$-ésima derivada es acotada en $[a,b]$). Sea $x_i=a + i \\;; i=0,\\cdots,n$ donde $ h=(b-a)/n$. Sea $P_n$ es el polinomio de grado $n$ interpolante a $f$ en los puntos $x_i$ (i.e. $P_n(x_i)=f(x_i)\\;,i=0,\\cdots ,n$). Entonces, $\\forall\\;x\\varepsilon [a,b]$ se tiene\n",
    "$$\n",
    "\\left| f(x) - P_n(x)\\right | \\leq \\frac{M}{4 (n+1)}\\;\\left(\\frac{b-a}{n}\\right)^{n+1}\n",
    "$$"
   ]
  },
  {
   "cell_type": "markdown",
   "metadata": {},
   "source": []
  }
 ],
 "metadata": {
  "@webio": {
   "lastCommId": null,
   "lastKernelId": null
  },
  "kernelspec": {
   "display_name": "Julia 1.7.2",
   "language": "julia",
   "name": "julia-1.7"
  },
  "language_info": {
   "file_extension": ".jl",
   "mimetype": "application/julia",
   "name": "julia",
   "version": "1.7.2"
  }
 },
 "nbformat": 4,
 "nbformat_minor": 4
}
