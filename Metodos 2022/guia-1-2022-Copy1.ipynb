{
 "cells": [
  {
   "cell_type": "markdown",
   "metadata": {},
   "source": [
    "# Métodos Numéricos \n",
    "\n",
    "## Guía 1\n",
    "\n",
    "### Problema 1\n",
    "\n",
    "Escribir símbolos especiales en Julia es muy parecido a escribir símbolos especiales en LaTeX. Para ello, se utiliza el sistema unicode \n",
    "\n",
    "https://docs.julialang.org/en/v1/manual/unicode-input/\n",
    "\n",
    "Por ejemplo, para escribir:"
   ]
  },
  {
   "cell_type": "code",
   "execution_count": null,
   "metadata": {},
   "outputs": [],
   "source": [
    "\"÷\"     # tiene que escribir \\div y luego presionar la tecla tab.\n",
    "\n",
    "\"α\"     # tiene que escribir \\alpha y luego presionar la tecla tab.\n",
    "\n",
    "\"⊗\"     # tiene que escribir \\otimes y luego presionar la tecla tab."
   ]
  },
  {
   "cell_type": "markdown",
   "metadata": {},
   "source": [
    "En una celda de código, escriba entre comillas los símbolos $\\pm$, $\\times$, $\\Delta$, $\\epsilon$, $\\backepsilon$, $\\leq$, $\\subseteq$  y $x^3$"
   ]
  },
  {
   "cell_type": "code",
   "execution_count": null,
   "metadata": {},
   "outputs": [],
   "source": [
    "±    # \\pm + tab\n",
    "×    # \\time + tab\n",
    "Δ    # \\Delta + tab\n",
    "ϵ    # \\epsilon + tab\n",
    "϶    # \\backepsilon + tab\n",
    "≤    # \\leq + tab\n",
    "⊆    # \\subseteq + tab\n",
    "x³   # x\\^3 + tab"
   ]
  },
  {
   "cell_type": "code",
   "execution_count": null,
   "metadata": {},
   "outputs": [],
   "source": [
    "\"± × Δ ϵ ϶ ≤ ⊆ x³\""
   ]
  },
  {
   "cell_type": "markdown",
   "metadata": {},
   "source": [
    "### Problema 2\n",
    "\n",
    "Evaluar las siguientes operaciones matemáticas, una por celda. Tenga en cuenta que, en Julia, la división entera se representa por el símbolo ÷.\n",
    "\n",
    "    A = 5 ÷ 2 + 20 ÷ 6\n",
    "    B = 4 * 6 ÷ 2 - 15 ÷ 2\n",
    "    C = 5 * 15 ÷ 2 ÷ (4 - 2)\n",
    "    D = 1 + 1 ÷ 4\n",
    "    E = 1. + 1 ÷ 4\n",
    "    F = 1 + 1. / 4\n",
    "    G = 1. + 1. / 4."
   ]
  },
  {
   "cell_type": "code",
   "execution_count": 7,
   "metadata": {},
   "outputs": [
    {
     "data": {
      "text/plain": [
       "5"
      ]
     },
     "execution_count": 7,
     "metadata": {},
     "output_type": "execute_result"
    }
   ],
   "source": [
    "5 ÷ 2 + 20 ÷ 6           ### ÷ es divicion entera"
   ]
  },
  {
   "cell_type": "code",
   "execution_count": 8,
   "metadata": {},
   "outputs": [
    {
     "data": {
      "text/plain": [
       "5"
      ]
     },
     "execution_count": 8,
     "metadata": {},
     "output_type": "execute_result"
    }
   ],
   "source": [
    "4 * 6 ÷ 2 - 15 ÷ 2"
   ]
  },
  {
   "cell_type": "code",
   "execution_count": 9,
   "metadata": {},
   "outputs": [
    {
     "data": {
      "text/plain": [
       "18"
      ]
     },
     "execution_count": 9,
     "metadata": {},
     "output_type": "execute_result"
    }
   ],
   "source": [
    "5 * 15 ÷ 2 ÷ (4 - 2)"
   ]
  },
  {
   "cell_type": "code",
   "execution_count": 14,
   "metadata": {},
   "outputs": [
    {
     "data": {
      "text/plain": [
       "1"
      ]
     },
     "execution_count": 14,
     "metadata": {},
     "output_type": "execute_result"
    }
   ],
   "source": [
    "1 + 1 ÷ 4   # 1 + (1 ÷ 4)"
   ]
  },
  {
   "cell_type": "code",
   "execution_count": 15,
   "metadata": {},
   "outputs": [
    {
     "data": {
      "text/plain": [
       "1.0"
      ]
     },
     "execution_count": 15,
     "metadata": {},
     "output_type": "execute_result"
    }
   ],
   "source": [
    "1. + 1 ÷ 4"
   ]
  },
  {
   "cell_type": "code",
   "execution_count": 17,
   "metadata": {},
   "outputs": [
    {
     "data": {
      "text/plain": [
       "1.25"
      ]
     },
     "execution_count": 17,
     "metadata": {},
     "output_type": "execute_result"
    }
   ],
   "source": [
    "1 + 1. / 4"
   ]
  },
  {
   "cell_type": "code",
   "execution_count": 18,
   "metadata": {},
   "outputs": [
    {
     "data": {
      "text/plain": [
       "1.25"
      ]
     },
     "execution_count": 18,
     "metadata": {},
     "output_type": "execute_result"
    }
   ],
   "source": [
    "1. + 1. / 4."
   ]
  },
  {
   "cell_type": "markdown",
   "metadata": {},
   "source": [
    "### Problema 3\n",
    "\n",
    "Implemente una función que pida dos numeros reales e imprima en la pantalla el mayor de ellos. \n",
    "La función debe indicar si los numeros son iguales.\n",
    "Testee la función con ejemplos."
   ]
  },
  {
   "cell_type": "code",
   "execution_count": 24,
   "metadata": {},
   "outputs": [
    {
     "data": {
      "text/plain": [
       "f (generic function with 1 method)"
      ]
     },
     "execution_count": 24,
     "metadata": {},
     "output_type": "execute_result"
    }
   ],
   "source": [
    "function f(x,y)\n",
    "    x == y          ### Una expresión booleana es una expresión que es verdadera o falsa\n",
    "end"
   ]
  },
  {
   "cell_type": "code",
   "execution_count": 21,
   "metadata": {},
   "outputs": [
    {
     "data": {
      "text/plain": [
       "true"
      ]
     },
     "execution_count": 21,
     "metadata": {},
     "output_type": "execute_result"
    }
   ],
   "source": [
    "f(11,11)"
   ]
  },
  {
   "cell_type": "markdown",
   "metadata": {},
   "source": [
    "### Problema 4\n",
    "\n",
    "Implemente una función que pida un número entero y retorne un booleano determinando si es multiplo de 2 y de 5.\n",
    "Testee la función con ejemplos."
   ]
  },
  {
   "cell_type": "markdown",
   "metadata": {},
   "source": []
  },
  {
   "cell_type": "markdown",
   "metadata": {},
   "source": [
    "*Markdown:* α²"
   ]
  },
  {
   "cell_type": "markdown",
   "metadata": {},
   "source": []
  },
  {
   "cell_type": "markdown",
   "metadata": {},
   "source": [
    "**LaTeX:** $α²$"
   ]
  },
  {
   "cell_type": "code",
   "execution_count": 34,
   "metadata": {},
   "outputs": [
    {
     "data": {
      "text/plain": [
       "f (generic function with 2 methods)"
      ]
     },
     "execution_count": 34,
     "metadata": {},
     "output_type": "execute_result"
    }
   ],
   "source": [
    "function f(x)\n",
    "    x%2 == 0  && x%5 == 0       ### operador lógico && (and)\n",
    "end\n",
    "\n",
    "### El operador porcentaje (%) se utiliza con enteros y devuelve el resto cuando un número se divide por otro"
   ]
  },
  {
   "cell_type": "code",
   "execution_count": 37,
   "metadata": {},
   "outputs": [
    {
     "data": {
      "text/plain": [
       "true"
      ]
     },
     "execution_count": 37,
     "metadata": {},
     "output_type": "execute_result"
    }
   ],
   "source": [
    "f(10)"
   ]
  },
  {
   "cell_type": "markdown",
   "metadata": {},
   "source": [
    "### Problema 5\n",
    "\n",
    "Implemente una función que pida los coeficientes $A$, $B$ y $C$ de un polinomio real de segundo grado ($A x^2 + B x + C$), calcule e imprima en pantalla las dos raíces del polinomio en formato complejo $a + i b$, sin\n",
    "utilizar algebra compleja.\n",
    "Testee la función con ejemplos."
   ]
  },
  {
   "cell_type": "code",
   "execution_count": 1,
   "metadata": {},
   "outputs": [
    {
     "data": {
      "text/plain": [
       "raiz_cuadratica (generic function with 1 method)"
      ]
     },
     "execution_count": 1,
     "metadata": {},
     "output_type": "execute_result"
    }
   ],
   "source": [
    "function raiz_cuadratica(a,b,c)\n",
    "    Δ = b^2 - 4*a*c\n",
    "    if Δ >= 0\n",
    "        r1 =(-b + sqrt(Δ))/(2*a)\n",
    "        r2 =(-b - sqrt(Δ))/(2*a)\n",
    "        println(\"r1=$r1, r2=$r2\")\n",
    "    else\n",
    "        d = -b/(2*a)\n",
    "        e = sqrt(-Δ)/(2*a)                ### abs(Δ)\n",
    "        println(\"r1=$d+i$e, r2=$d-i$e\")\n",
    "    end \n",
    "end"
   ]
  },
  {
   "cell_type": "code",
   "execution_count": 2,
   "metadata": {},
   "outputs": [
    {
     "name": "stdout",
     "output_type": "stream",
     "text": [
      "r1=-0.5+i0.8660254037844386, r2=-0.5-i0.8660254037844386\n"
     ]
    }
   ],
   "source": [
    "raiz_cuadratica(1,1,1)"
   ]
  },
  {
   "cell_type": "markdown",
   "metadata": {},
   "source": [
    "### Problema 6\n",
    "\n",
    "Implemente una función que compute la suma (en precisión simple, i.e. 32 bits)\n",
    "$$\n",
    "\\sum_{n=1}^{10\\,000\\,000} \\frac{1}{n}\n",
    "$$\n",
    "en el orden usual.\n",
    "Luego, implemente otra que compute la suma en el orden opuesto.\n",
    "Ejecute ambas funciones, observe los resultados y describa las diferencias obtenidas.\n",
    "En particular, indique cuál función es más precisa y explique porqué."
   ]
  },
  {
   "cell_type": "code",
   "execution_count": 89,
   "metadata": {},
   "outputs": [
    {
     "data": {
      "text/plain": [
       "sum_32 (generic function with 1 method)"
      ]
     },
     "execution_count": 89,
     "metadata": {},
     "output_type": "execute_result"
    }
   ],
   "source": [
    "function sum_32(n)\n",
    "sum = 0\n",
    "    for i in 1:n                  ### de 1 a n\n",
    "     sum = sum + Float32(1/i)     ### convert(Float32,1/i)\n",
    "    end\n",
    "  return sum    ### sentencia return hace que una función finalice de inmediato y que vuelva a la sentencia de llamada a función.\n",
    "end"
   ]
  },
  {
   "cell_type": "code",
   "execution_count": 90,
   "metadata": {},
   "outputs": [
    {
     "data": {
      "text/plain": [
       "15.403683f0"
      ]
     },
     "execution_count": 90,
     "metadata": {},
     "output_type": "execute_result"
    }
   ],
   "source": [
    "sum_32(10000000)"
   ]
  },
  {
   "cell_type": "code",
   "execution_count": 105,
   "metadata": {},
   "outputs": [
    {
     "data": {
      "text/plain": [
       "sum_64 (generic function with 1 method)"
      ]
     },
     "execution_count": 105,
     "metadata": {},
     "output_type": "execute_result"
    }
   ],
   "source": [
    "function sum_64(n)\n",
    "sum = 0\n",
    "    for i in 1:n\n",
    "     sum = sum + 1/i     ### Float64(1/i)\n",
    "    end\n",
    "  return sum    \n",
    "end"
   ]
  },
  {
   "cell_type": "code",
   "execution_count": 106,
   "metadata": {},
   "outputs": [
    {
     "data": {
      "text/plain": [
       "16.695311365857272"
      ]
     },
     "execution_count": 106,
     "metadata": {},
     "output_type": "execute_result"
    }
   ],
   "source": [
    "sum_64(10000000)"
   ]
  },
  {
   "cell_type": "code",
   "execution_count": 103,
   "metadata": {},
   "outputs": [
    {
     "data": {
      "text/plain": [
       "sum_invertida_32 (generic function with 1 method)"
      ]
     },
     "execution_count": 103,
     "metadata": {},
     "output_type": "execute_result"
    }
   ],
   "source": [
    "function sum_invertida_32(n)\n",
    "sum = 0\n",
    "    for i in 10000000:-1:n       ###  saltos de -1 hasta n\n",
    "     sum = sum + Float32(1/i)   \n",
    "    end\n",
    "  return sum    \n",
    "end"
   ]
  },
  {
   "cell_type": "code",
   "execution_count": 104,
   "metadata": {},
   "outputs": [
    {
     "data": {
      "text/plain": [
       "16.686031f0"
      ]
     },
     "execution_count": 104,
     "metadata": {},
     "output_type": "execute_result"
    }
   ],
   "source": [
    "sum_invertida_32(1)"
   ]
  },
  {
   "cell_type": "markdown",
   "metadata": {},
   "source": [
    "### Problema 7\n",
    "\n",
    "Escriba un programa que calcule la posición y la velocidad en función del tiempo para un problema de tiro oblicuo.\n",
    "El programa debe tomar como datos de entrada el ángulo $\\theta$ (en grados) y la rapidéz inicial $v_0$ (en m/seg.), asumiendo que el proyectil parte del origen.\n",
    "Elija el incremento temporal ($\\Delta t$) de manera que eventualmente pueda graficar una trajectoria con 600 puntos en el intervalo entre el disparo y el instante en que el proyectil vuelve a tener altura 0. \n",
    "El programa debe utilizar una función para calcular la posición y la velocidad.\n",
    "Calcule la trayectoria para $\\theta=°30$ y $v_0=50\\, m/s$.\n",
    "En una figura grafique $x(t)$, $y(t)$ y $v_y(t)$ en función de $t$.\n",
    "En otra figura grafique la trayectoria del proyectil.\n",
    "\n",
    "**Ayuda:** para plotear puntos o curvas, lea [https://docs.juliaplots.org/latest/tutorial/](https://docs.juliaplots.org/latest/tutorial/). Además, aquí le damos un ejemplo."
   ]
  },
  {
   "cell_type": "code",
   "execution_count": 29,
   "metadata": {},
   "outputs": [
    {
     "data": {
      "image/svg+xml": [
       "<?xml version=\"1.0\" encoding=\"utf-8\"?>\n",
       "<svg xmlns=\"http://www.w3.org/2000/svg\" xmlns:xlink=\"http://www.w3.org/1999/xlink\" width=\"600\" height=\"400\" viewBox=\"0 0 2400 1600\">\n",
       "<defs>\n",
       "  <clipPath id=\"clip670\">\n",
       "    <rect x=\"0\" y=\"0\" width=\"2400\" height=\"1600\"/>\n",
       "  </clipPath>\n",
       "</defs>\n",
       "<path clip-path=\"url(#clip670)\" d=\"\n",
       "M0 1600 L2400 1600 L2400 0 L0 0  Z\n",
       "  \" fill=\"#ffffff\" fill-rule=\"evenodd\" fill-opacity=\"1\"/>\n",
       "<defs>\n",
       "  <clipPath id=\"clip671\">\n",
       "    <rect x=\"480\" y=\"0\" width=\"1681\" height=\"1600\"/>\n",
       "  </clipPath>\n",
       "</defs>\n",
       "<path clip-path=\"url(#clip670)\" d=\"\n",
       "M210.746 1423.18 L2352.76 1423.18 L2352.76 123.472 L210.746 123.472  Z\n",
       "  \" fill=\"#ffffff\" fill-rule=\"evenodd\" fill-opacity=\"1\"/>\n",
       "<defs>\n",
       "  <clipPath id=\"clip672\">\n",
       "    <rect x=\"210\" y=\"123\" width=\"2143\" height=\"1301\"/>\n",
       "  </clipPath>\n",
       "</defs>\n",
       "<polyline clip-path=\"url(#clip672)\" style=\"stroke:#000000; stroke-linecap:butt; stroke-linejoin:round; stroke-width:2; stroke-opacity:0.1; fill:none\" points=\"\n",
       "  477.819,1423.18 477.819,123.472 \n",
       "  \"/>\n",
       "<polyline clip-path=\"url(#clip672)\" style=\"stroke:#000000; stroke-linecap:butt; stroke-linejoin:round; stroke-width:2; stroke-opacity:0.1; fill:none\" points=\"\n",
       "  880.041,1423.18 880.041,123.472 \n",
       "  \"/>\n",
       "<polyline clip-path=\"url(#clip672)\" style=\"stroke:#000000; stroke-linecap:butt; stroke-linejoin:round; stroke-width:2; stroke-opacity:0.1; fill:none\" points=\"\n",
       "  1282.26,1423.18 1282.26,123.472 \n",
       "  \"/>\n",
       "<polyline clip-path=\"url(#clip672)\" style=\"stroke:#000000; stroke-linecap:butt; stroke-linejoin:round; stroke-width:2; stroke-opacity:0.1; fill:none\" points=\"\n",
       "  1684.49,1423.18 1684.49,123.472 \n",
       "  \"/>\n",
       "<polyline clip-path=\"url(#clip672)\" style=\"stroke:#000000; stroke-linecap:butt; stroke-linejoin:round; stroke-width:2; stroke-opacity:0.1; fill:none\" points=\"\n",
       "  2086.71,1423.18 2086.71,123.472 \n",
       "  \"/>\n",
       "<polyline clip-path=\"url(#clip670)\" style=\"stroke:#000000; stroke-linecap:butt; stroke-linejoin:round; stroke-width:4; stroke-opacity:1; fill:none\" points=\"\n",
       "  210.746,1423.18 2352.76,1423.18 \n",
       "  \"/>\n",
       "<polyline clip-path=\"url(#clip670)\" style=\"stroke:#000000; stroke-linecap:butt; stroke-linejoin:round; stroke-width:4; stroke-opacity:1; fill:none\" points=\"\n",
       "  477.819,1423.18 477.819,1404.28 \n",
       "  \"/>\n",
       "<polyline clip-path=\"url(#clip670)\" style=\"stroke:#000000; stroke-linecap:butt; stroke-linejoin:round; stroke-width:4; stroke-opacity:1; fill:none\" points=\"\n",
       "  880.041,1423.18 880.041,1404.28 \n",
       "  \"/>\n",
       "<polyline clip-path=\"url(#clip670)\" style=\"stroke:#000000; stroke-linecap:butt; stroke-linejoin:round; stroke-width:4; stroke-opacity:1; fill:none\" points=\"\n",
       "  1282.26,1423.18 1282.26,1404.28 \n",
       "  \"/>\n",
       "<polyline clip-path=\"url(#clip670)\" style=\"stroke:#000000; stroke-linecap:butt; stroke-linejoin:round; stroke-width:4; stroke-opacity:1; fill:none\" points=\"\n",
       "  1684.49,1423.18 1684.49,1404.28 \n",
       "  \"/>\n",
       "<polyline clip-path=\"url(#clip670)\" style=\"stroke:#000000; stroke-linecap:butt; stroke-linejoin:round; stroke-width:4; stroke-opacity:1; fill:none\" points=\"\n",
       "  2086.71,1423.18 2086.71,1404.28 \n",
       "  \"/>\n",
       "<path clip-path=\"url(#clip670)\" d=\"M424.347 1468.75 L454.023 1468.75 L454.023 1472.69 L424.347 1472.69 L424.347 1468.75 Z\" fill=\"#000000\" fill-rule=\"evenodd\" fill-opacity=\"1\" /><path clip-path=\"url(#clip670)\" d=\"M464.162 1451.02 L482.518 1451.02 L482.518 1454.96 L468.444 1454.96 L468.444 1463.43 Q469.463 1463.08 470.481 1462.92 Q471.5 1462.73 472.518 1462.73 Q478.305 1462.73 481.685 1465.9 Q485.064 1469.08 485.064 1474.49 Q485.064 1480.07 481.592 1483.17 Q478.12 1486.25 471.801 1486.25 Q469.625 1486.25 467.356 1485.88 Q465.111 1485.51 462.703 1484.77 L462.703 1480.07 Q464.787 1481.2 467.009 1481.76 Q469.231 1482.32 471.708 1482.32 Q475.713 1482.32 478.051 1480.21 Q480.389 1478.1 480.389 1474.49 Q480.389 1470.88 478.051 1468.77 Q475.713 1466.67 471.708 1466.67 Q469.833 1466.67 467.958 1467.08 Q466.106 1467.5 464.162 1468.38 L464.162 1451.02 Z\" fill=\"#000000\" fill-rule=\"evenodd\" fill-opacity=\"1\" /><path clip-path=\"url(#clip670)\" d=\"M494.277 1479.7 L499.162 1479.7 L499.162 1485.58 L494.277 1485.58 L494.277 1479.7 Z\" fill=\"#000000\" fill-rule=\"evenodd\" fill-opacity=\"1\" /><path clip-path=\"url(#clip670)\" d=\"M519.347 1454.1 Q515.736 1454.1 513.907 1457.66 Q512.101 1461.2 512.101 1468.33 Q512.101 1475.44 513.907 1479.01 Q515.736 1482.55 519.347 1482.55 Q522.981 1482.55 524.786 1479.01 Q526.615 1475.44 526.615 1468.33 Q526.615 1461.2 524.786 1457.66 Q522.981 1454.1 519.347 1454.1 M519.347 1450.39 Q525.157 1450.39 528.212 1455 Q531.291 1459.58 531.291 1468.33 Q531.291 1477.06 528.212 1481.67 Q525.157 1486.25 519.347 1486.25 Q513.536 1486.25 510.458 1481.67 Q507.402 1477.06 507.402 1468.33 Q507.402 1459.58 510.458 1455 Q513.536 1450.39 519.347 1450.39 Z\" fill=\"#000000\" fill-rule=\"evenodd\" fill-opacity=\"1\" /><path clip-path=\"url(#clip670)\" d=\"M827.067 1468.75 L856.743 1468.75 L856.743 1472.69 L827.067 1472.69 L827.067 1468.75 Z\" fill=\"#000000\" fill-rule=\"evenodd\" fill-opacity=\"1\" /><path clip-path=\"url(#clip670)\" d=\"M870.863 1481.64 L887.182 1481.64 L887.182 1485.58 L865.238 1485.58 L865.238 1481.64 Q867.9 1478.89 872.483 1474.26 Q877.09 1469.61 878.27 1468.27 Q880.516 1465.74 881.395 1464.01 Q882.298 1462.25 882.298 1460.56 Q882.298 1457.8 880.354 1456.07 Q878.432 1454.33 875.331 1454.33 Q873.132 1454.33 870.678 1455.09 Q868.247 1455.86 865.47 1457.41 L865.47 1452.69 Q868.294 1451.55 870.747 1450.97 Q873.201 1450.39 875.238 1450.39 Q880.608 1450.39 883.803 1453.08 Q886.997 1455.77 886.997 1460.26 Q886.997 1462.39 886.187 1464.31 Q885.4 1466.2 883.294 1468.8 Q882.715 1469.47 879.613 1472.69 Q876.511 1475.88 870.863 1481.64 Z\" fill=\"#000000\" fill-rule=\"evenodd\" fill-opacity=\"1\" /><path clip-path=\"url(#clip670)\" d=\"M896.997 1479.7 L901.881 1479.7 L901.881 1485.58 L896.997 1485.58 L896.997 1479.7 Z\" fill=\"#000000\" fill-rule=\"evenodd\" fill-opacity=\"1\" /><path clip-path=\"url(#clip670)\" d=\"M912.113 1451.02 L930.469 1451.02 L930.469 1454.96 L916.395 1454.96 L916.395 1463.43 Q917.414 1463.08 918.432 1462.92 Q919.451 1462.73 920.469 1462.73 Q926.256 1462.73 929.636 1465.9 Q933.016 1469.08 933.016 1474.49 Q933.016 1480.07 929.543 1483.17 Q926.071 1486.25 919.752 1486.25 Q917.576 1486.25 915.307 1485.88 Q913.062 1485.51 910.655 1484.77 L910.655 1480.07 Q912.738 1481.2 914.96 1481.76 Q917.182 1482.32 919.659 1482.32 Q923.664 1482.32 926.002 1480.21 Q928.34 1478.1 928.34 1474.49 Q928.34 1470.88 926.002 1468.77 Q923.664 1466.67 919.659 1466.67 Q917.784 1466.67 915.909 1467.08 Q914.057 1467.5 912.113 1468.38 L912.113 1451.02 Z\" fill=\"#000000\" fill-rule=\"evenodd\" fill-opacity=\"1\" /><path clip-path=\"url(#clip670)\" d=\"M1259.65 1454.1 Q1256.04 1454.1 1254.21 1457.66 Q1252.4 1461.2 1252.4 1468.33 Q1252.4 1475.44 1254.21 1479.01 Q1256.04 1482.55 1259.65 1482.55 Q1263.28 1482.55 1265.09 1479.01 Q1266.92 1475.44 1266.92 1468.33 Q1266.92 1461.2 1265.09 1457.66 Q1263.28 1454.1 1259.65 1454.1 M1259.65 1450.39 Q1265.46 1450.39 1268.51 1455 Q1271.59 1459.58 1271.59 1468.33 Q1271.59 1477.06 1268.51 1481.67 Q1265.46 1486.25 1259.65 1486.25 Q1253.84 1486.25 1250.76 1481.67 Q1247.7 1477.06 1247.7 1468.33 Q1247.7 1459.58 1250.76 1455 Q1253.84 1450.39 1259.65 1450.39 Z\" fill=\"#000000\" fill-rule=\"evenodd\" fill-opacity=\"1\" /><path clip-path=\"url(#clip670)\" d=\"M1279.81 1479.7 L1284.69 1479.7 L1284.69 1485.58 L1279.81 1485.58 L1279.81 1479.7 Z\" fill=\"#000000\" fill-rule=\"evenodd\" fill-opacity=\"1\" /><path clip-path=\"url(#clip670)\" d=\"M1304.88 1454.1 Q1301.27 1454.1 1299.44 1457.66 Q1297.63 1461.2 1297.63 1468.33 Q1297.63 1475.44 1299.44 1479.01 Q1301.27 1482.55 1304.88 1482.55 Q1308.51 1482.55 1310.32 1479.01 Q1312.15 1475.44 1312.15 1468.33 Q1312.15 1461.2 1310.32 1457.66 Q1308.51 1454.1 1304.88 1454.1 M1304.88 1450.39 Q1310.69 1450.39 1313.74 1455 Q1316.82 1459.58 1316.82 1468.33 Q1316.82 1477.06 1313.74 1481.67 Q1310.69 1486.25 1304.88 1486.25 Q1299.07 1486.25 1295.99 1481.67 Q1292.93 1477.06 1292.93 1468.33 Q1292.93 1459.58 1295.99 1455 Q1299.07 1450.39 1304.88 1450.39 Z\" fill=\"#000000\" fill-rule=\"evenodd\" fill-opacity=\"1\" /><path clip-path=\"url(#clip670)\" d=\"M1656.22 1481.64 L1672.54 1481.64 L1672.54 1485.58 L1650.6 1485.58 L1650.6 1481.64 Q1653.26 1478.89 1657.84 1474.26 Q1662.45 1469.61 1663.63 1468.27 Q1665.87 1465.74 1666.75 1464.01 Q1667.66 1462.25 1667.66 1460.56 Q1667.66 1457.8 1665.71 1456.07 Q1663.79 1454.33 1660.69 1454.33 Q1658.49 1454.33 1656.04 1455.09 Q1653.61 1455.86 1650.83 1457.41 L1650.83 1452.69 Q1653.65 1451.55 1656.11 1450.97 Q1658.56 1450.39 1660.6 1450.39 Q1665.97 1450.39 1669.16 1453.08 Q1672.36 1455.77 1672.36 1460.26 Q1672.36 1462.39 1671.55 1464.31 Q1670.76 1466.2 1668.65 1468.8 Q1668.07 1469.47 1664.97 1472.69 Q1661.87 1475.88 1656.22 1481.64 Z\" fill=\"#000000\" fill-rule=\"evenodd\" fill-opacity=\"1\" /><path clip-path=\"url(#clip670)\" d=\"M1682.36 1479.7 L1687.24 1479.7 L1687.24 1485.58 L1682.36 1485.58 L1682.36 1479.7 Z\" fill=\"#000000\" fill-rule=\"evenodd\" fill-opacity=\"1\" /><path clip-path=\"url(#clip670)\" d=\"M1697.47 1451.02 L1715.83 1451.02 L1715.83 1454.96 L1701.75 1454.96 L1701.75 1463.43 Q1702.77 1463.08 1703.79 1462.92 Q1704.81 1462.73 1705.83 1462.73 Q1711.62 1462.73 1714.99 1465.9 Q1718.37 1469.08 1718.37 1474.49 Q1718.37 1480.07 1714.9 1483.17 Q1711.43 1486.25 1705.11 1486.25 Q1702.93 1486.25 1700.67 1485.88 Q1698.42 1485.51 1696.01 1484.77 L1696.01 1480.07 Q1698.1 1481.2 1700.32 1481.76 Q1702.54 1482.32 1705.02 1482.32 Q1709.02 1482.32 1711.36 1480.21 Q1713.7 1478.1 1713.7 1474.49 Q1713.7 1470.88 1711.36 1468.77 Q1709.02 1466.67 1705.02 1466.67 Q1703.14 1466.67 1701.27 1467.08 Q1699.42 1467.5 1697.47 1468.38 L1697.47 1451.02 Z\" fill=\"#000000\" fill-rule=\"evenodd\" fill-opacity=\"1\" /><path clip-path=\"url(#clip670)\" d=\"M2053.87 1451.02 L2072.23 1451.02 L2072.23 1454.96 L2058.15 1454.96 L2058.15 1463.43 Q2059.17 1463.08 2060.19 1462.92 Q2061.21 1462.73 2062.23 1462.73 Q2068.02 1462.73 2071.4 1465.9 Q2074.77 1469.08 2074.77 1474.49 Q2074.77 1480.07 2071.3 1483.17 Q2067.83 1486.25 2061.51 1486.25 Q2059.34 1486.25 2057.07 1485.88 Q2054.82 1485.51 2052.41 1484.77 L2052.41 1480.07 Q2054.5 1481.2 2056.72 1481.76 Q2058.94 1482.32 2061.42 1482.32 Q2065.42 1482.32 2067.76 1480.21 Q2070.1 1478.1 2070.1 1474.49 Q2070.1 1470.88 2067.76 1468.77 Q2065.42 1466.67 2061.42 1466.67 Q2059.54 1466.67 2057.67 1467.08 Q2055.82 1467.5 2053.87 1468.38 L2053.87 1451.02 Z\" fill=\"#000000\" fill-rule=\"evenodd\" fill-opacity=\"1\" /><path clip-path=\"url(#clip670)\" d=\"M2083.99 1479.7 L2088.87 1479.7 L2088.87 1485.58 L2083.99 1485.58 L2083.99 1479.7 Z\" fill=\"#000000\" fill-rule=\"evenodd\" fill-opacity=\"1\" /><path clip-path=\"url(#clip670)\" d=\"M2109.06 1454.1 Q2105.45 1454.1 2103.62 1457.66 Q2101.81 1461.2 2101.81 1468.33 Q2101.81 1475.44 2103.62 1479.01 Q2105.45 1482.55 2109.06 1482.55 Q2112.69 1482.55 2114.5 1479.01 Q2116.33 1475.44 2116.33 1468.33 Q2116.33 1461.2 2114.5 1457.66 Q2112.69 1454.1 2109.06 1454.1 M2109.06 1450.39 Q2114.87 1450.39 2117.92 1455 Q2121 1459.58 2121 1468.33 Q2121 1477.06 2117.92 1481.67 Q2114.87 1486.25 2109.06 1486.25 Q2103.25 1486.25 2100.17 1481.67 Q2097.11 1477.06 2097.11 1468.33 Q2097.11 1459.58 2100.17 1455 Q2103.25 1450.39 2109.06 1450.39 Z\" fill=\"#000000\" fill-rule=\"evenodd\" fill-opacity=\"1\" /><path clip-path=\"url(#clip670)\" d=\"M1295.92 1545.44 Q1295.92 1547.24 1294.8 1548.27 Q1293.67 1549.27 1292.38 1549.27 Q1291.16 1549.27 1290.51 1548.56 Q1289.87 1547.85 1289.87 1546.95 Q1289.87 1545.73 1290.77 1544.66 Q1291.67 1543.6 1293.03 1543.37 Q1291.71 1542.54 1289.74 1542.54 Q1288.45 1542.54 1287.33 1543.21 Q1286.23 1543.89 1285.55 1544.76 Q1284.91 1545.63 1284.33 1546.88 Q1283.78 1548.11 1283.56 1548.85 Q1283.36 1549.56 1283.2 1550.33 L1280.95 1559.35 Q1279.85 1563.63 1279.85 1565.15 Q1279.85 1567.01 1280.76 1568.27 Q1281.66 1569.49 1283.46 1569.49 Q1284.17 1569.49 1284.97 1569.3 Q1285.78 1569.07 1286.81 1568.5 Q1287.87 1567.88 1288.81 1566.98 Q1289.77 1566.05 1290.71 1564.47 Q1291.64 1562.89 1292.25 1560.86 Q1292.45 1560.15 1293.09 1560.15 Q1293.9 1560.15 1293.9 1560.8 Q1293.9 1561.35 1293.44 1562.5 Q1293.03 1563.63 1292.09 1565.11 Q1291.19 1566.56 1290 1567.88 Q1288.81 1569.17 1287.04 1570.07 Q1285.26 1570.97 1283.33 1570.97 Q1280.56 1570.97 1278.73 1569.49 Q1276.89 1568.01 1276.21 1565.95 Q1276.05 1566.24 1275.83 1566.63 Q1275.6 1567.01 1274.93 1567.88 Q1274.28 1568.72 1273.54 1569.36 Q1272.8 1569.98 1271.64 1570.46 Q1270.51 1570.97 1269.29 1570.97 Q1267.74 1570.97 1266.36 1570.52 Q1265.01 1570.07 1264.04 1569.04 Q1263.07 1568.01 1263.07 1566.59 Q1263.07 1565.02 1264.14 1563.92 Q1265.23 1562.79 1266.71 1562.79 Q1267.65 1562.79 1268.39 1563.34 Q1269.16 1563.89 1269.16 1565.08 Q1269.16 1566.4 1268.26 1567.4 Q1267.36 1568.4 1266.07 1568.66 Q1267.39 1569.49 1269.35 1569.49 Q1271.48 1569.49 1273.15 1567.63 Q1274.83 1565.76 1275.63 1562.63 Q1277.63 1555.13 1278.4 1551.78 Q1279.18 1548.4 1279.18 1546.95 Q1279.18 1545.6 1278.82 1544.66 Q1278.47 1543.73 1277.86 1543.31 Q1277.28 1542.86 1276.73 1542.7 Q1276.21 1542.54 1275.63 1542.54 Q1274.67 1542.54 1273.57 1542.92 Q1272.51 1543.31 1271.22 1544.21 Q1269.97 1545.08 1268.77 1546.88 Q1267.58 1548.69 1266.78 1551.17 Q1266.62 1551.91 1265.91 1551.91 Q1265.14 1551.88 1265.14 1551.23 Q1265.14 1550.69 1265.55 1549.56 Q1266.01 1548.4 1266.91 1546.95 Q1267.84 1545.5 1269.03 1544.21 Q1270.26 1542.89 1272.03 1541.99 Q1273.83 1541.09 1275.76 1541.09 Q1276.63 1541.09 1277.47 1541.28 Q1278.34 1541.44 1279.37 1541.93 Q1280.43 1542.41 1281.37 1543.47 Q1282.3 1544.53 1282.88 1546.08 Q1283.27 1545.34 1283.78 1544.63 Q1284.33 1543.92 1285.17 1543.05 Q1286.04 1542.15 1287.23 1541.64 Q1288.45 1541.09 1289.81 1541.09 Q1291.13 1541.09 1292.41 1541.44 Q1293.7 1541.76 1294.8 1542.83 Q1295.92 1543.86 1295.92 1545.44 Z\" fill=\"#000000\" fill-rule=\"evenodd\" fill-opacity=\"1\" /><polyline clip-path=\"url(#clip672)\" style=\"stroke:#000000; stroke-linecap:butt; stroke-linejoin:round; stroke-width:2; stroke-opacity:0.1; fill:none\" points=\"\n",
       "  210.746,1321.67 2352.76,1321.67 \n",
       "  \"/>\n",
       "<polyline clip-path=\"url(#clip672)\" style=\"stroke:#000000; stroke-linecap:butt; stroke-linejoin:round; stroke-width:2; stroke-opacity:0.1; fill:none\" points=\"\n",
       "  210.746,1047.5 2352.76,1047.5 \n",
       "  \"/>\n",
       "<polyline clip-path=\"url(#clip672)\" style=\"stroke:#000000; stroke-linecap:butt; stroke-linejoin:round; stroke-width:2; stroke-opacity:0.1; fill:none\" points=\"\n",
       "  210.746,773.327 2352.76,773.327 \n",
       "  \"/>\n",
       "<polyline clip-path=\"url(#clip672)\" style=\"stroke:#000000; stroke-linecap:butt; stroke-linejoin:round; stroke-width:2; stroke-opacity:0.1; fill:none\" points=\"\n",
       "  210.746,499.153 2352.76,499.153 \n",
       "  \"/>\n",
       "<polyline clip-path=\"url(#clip672)\" style=\"stroke:#000000; stroke-linecap:butt; stroke-linejoin:round; stroke-width:2; stroke-opacity:0.1; fill:none\" points=\"\n",
       "  210.746,224.979 2352.76,224.979 \n",
       "  \"/>\n",
       "<polyline clip-path=\"url(#clip670)\" style=\"stroke:#000000; stroke-linecap:butt; stroke-linejoin:round; stroke-width:4; stroke-opacity:1; fill:none\" points=\"\n",
       "  210.746,1423.18 210.746,123.472 \n",
       "  \"/>\n",
       "<polyline clip-path=\"url(#clip670)\" style=\"stroke:#000000; stroke-linecap:butt; stroke-linejoin:round; stroke-width:4; stroke-opacity:1; fill:none\" points=\"\n",
       "  210.746,1321.67 229.644,1321.67 \n",
       "  \"/>\n",
       "<polyline clip-path=\"url(#clip670)\" style=\"stroke:#000000; stroke-linecap:butt; stroke-linejoin:round; stroke-width:4; stroke-opacity:1; fill:none\" points=\"\n",
       "  210.746,1047.5 229.644,1047.5 \n",
       "  \"/>\n",
       "<polyline clip-path=\"url(#clip670)\" style=\"stroke:#000000; stroke-linecap:butt; stroke-linejoin:round; stroke-width:4; stroke-opacity:1; fill:none\" points=\"\n",
       "  210.746,773.327 229.644,773.327 \n",
       "  \"/>\n",
       "<polyline clip-path=\"url(#clip670)\" style=\"stroke:#000000; stroke-linecap:butt; stroke-linejoin:round; stroke-width:4; stroke-opacity:1; fill:none\" points=\"\n",
       "  210.746,499.153 229.644,499.153 \n",
       "  \"/>\n",
       "<polyline clip-path=\"url(#clip670)\" style=\"stroke:#000000; stroke-linecap:butt; stroke-linejoin:round; stroke-width:4; stroke-opacity:1; fill:none\" points=\"\n",
       "  210.746,224.979 229.644,224.979 \n",
       "  \"/>\n",
       "<path clip-path=\"url(#clip670)\" d=\"M114.631 1322.13 L144.306 1322.13 L144.306 1326.06 L114.631 1326.06 L114.631 1322.13 Z\" fill=\"#000000\" fill-rule=\"evenodd\" fill-opacity=\"1\" /><path clip-path=\"url(#clip670)\" d=\"M158.427 1335.02 L174.746 1335.02 L174.746 1338.95 L152.802 1338.95 L152.802 1335.02 Q155.464 1332.26 160.047 1327.64 Q164.653 1322.98 165.834 1321.64 Q168.079 1319.12 168.959 1317.38 Q169.862 1315.62 169.862 1313.93 Q169.862 1311.18 167.917 1309.44 Q165.996 1307.7 162.894 1307.7 Q160.695 1307.7 158.241 1308.47 Q155.811 1309.23 153.033 1310.78 L153.033 1306.06 Q155.857 1304.93 158.311 1304.35 Q160.765 1303.77 162.802 1303.77 Q168.172 1303.77 171.366 1306.45 Q174.561 1309.14 174.561 1313.63 Q174.561 1315.76 173.751 1317.68 Q172.964 1319.58 170.857 1322.17 Q170.278 1322.84 167.177 1326.06 Q164.075 1329.26 158.427 1335.02 Z\" fill=\"#000000\" fill-rule=\"evenodd\" fill-opacity=\"1\" /><path clip-path=\"url(#clip670)\" d=\"M114.26 1047.95 L143.936 1047.95 L143.936 1051.89 L114.26 1051.89 L114.26 1047.95 Z\" fill=\"#000000\" fill-rule=\"evenodd\" fill-opacity=\"1\" /><path clip-path=\"url(#clip670)\" d=\"M154.839 1060.85 L162.477 1060.85 L162.477 1034.48 L154.167 1036.15 L154.167 1031.89 L162.431 1030.22 L167.107 1030.22 L167.107 1060.85 L174.746 1060.85 L174.746 1064.78 L154.839 1064.78 L154.839 1060.85 Z\" fill=\"#000000\" fill-rule=\"evenodd\" fill-opacity=\"1\" /><path clip-path=\"url(#clip670)\" d=\"M162.802 759.126 Q159.19 759.126 157.362 762.69 Q155.556 766.232 155.556 773.362 Q155.556 780.468 157.362 784.033 Q159.19 787.575 162.802 787.575 Q166.436 787.575 168.241 784.033 Q170.07 780.468 170.07 773.362 Q170.07 766.232 168.241 762.69 Q166.436 759.126 162.802 759.126 M162.802 755.422 Q168.612 755.422 171.667 760.028 Q174.746 764.612 174.746 773.362 Q174.746 782.089 171.667 786.695 Q168.612 791.278 162.802 791.278 Q156.991 791.278 153.913 786.695 Q150.857 782.089 150.857 773.362 Q150.857 764.612 153.913 760.028 Q156.991 755.422 162.802 755.422 Z\" fill=\"#000000\" fill-rule=\"evenodd\" fill-opacity=\"1\" /><path clip-path=\"url(#clip670)\" d=\"M154.839 512.498 L162.477 512.498 L162.477 486.132 L154.167 487.799 L154.167 483.54 L162.431 481.873 L167.107 481.873 L167.107 512.498 L174.746 512.498 L174.746 516.433 L154.839 516.433 L154.839 512.498 Z\" fill=\"#000000\" fill-rule=\"evenodd\" fill-opacity=\"1\" /><path clip-path=\"url(#clip670)\" d=\"M158.427 238.324 L174.746 238.324 L174.746 242.259 L152.802 242.259 L152.802 238.324 Q155.464 235.57 160.047 230.94 Q164.653 226.287 165.834 224.945 Q168.079 222.422 168.959 220.686 Q169.862 218.926 169.862 217.236 Q169.862 214.482 167.917 212.746 Q165.996 211.01 162.894 211.01 Q160.695 211.01 158.241 211.774 Q155.811 212.537 153.033 214.088 L153.033 209.366 Q155.857 208.232 158.311 207.653 Q160.765 207.074 162.802 207.074 Q168.172 207.074 171.366 209.76 Q174.561 212.445 174.561 216.936 Q174.561 219.065 173.751 220.986 Q172.964 222.885 170.857 225.477 Q170.278 226.148 167.177 229.366 Q164.075 232.56 158.427 238.324 Z\" fill=\"#000000\" fill-rule=\"evenodd\" fill-opacity=\"1\" /><path clip-path=\"url(#clip670)\" d=\"M33.2321 758.889 Q33.683 758.889 34.7458 759.178 L59.9308 765.491 Q65.5346 766.876 69.4637 771.384 Q73.3928 775.861 73.3928 780.95 Q73.3928 784.009 71.7503 785.974 Q70.14 787.938 67.6602 787.938 Q65.4702 787.938 64.4074 786.779 Q63.3768 785.619 63.3768 784.235 Q63.3768 783.784 63.5056 783.301 Q63.6344 782.817 64.1819 782.302 Q64.7294 781.787 65.6634 781.787 Q67.1771 781.787 68.3687 783.107 Q68.9162 783.751 69.045 784.363 Q69.1738 784.943 69.1738 785.941 Q70.0756 785.555 70.6875 784.846 Q71.2994 784.138 71.5249 783.333 Q71.7825 782.528 71.8469 782.012 Q71.9435 781.465 71.9435 780.95 Q71.9435 776.827 67.789 773.671 Q66.533 772.737 65.2769 772.061 Q64.0531 771.352 62.5394 770.837 Q61.058 770.322 60.2528 770.096 Q59.4477 769.839 57.6119 769.388 Q60.6071 772.383 60.6071 776.054 Q60.6071 777.6 60.1884 778.985 Q59.7697 780.338 58.9002 781.529 Q57.9984 782.721 56.4203 783.429 Q54.8422 784.106 52.7488 784.106 Q50.5266 784.106 47.4993 783.236 Q44.4719 782.367 38.9003 780.273 Q35.7764 779.146 34.2627 779.146 Q33.522 779.146 33.0711 779.307 Q32.588 779.468 32.427 779.79 Q32.2337 780.112 32.2015 780.305 Q32.1693 780.466 32.1693 780.789 Q32.1693 782.689 34.1017 784.46 Q36.034 786.231 40.3496 787.455 Q41.1547 787.713 41.348 787.874 Q41.5412 788.035 41.5412 788.518 Q41.509 789.323 40.8649 789.323 Q40.6072 789.323 39.6089 789.033 Q38.5783 788.743 37.0646 788.067 Q35.5187 787.359 34.1339 786.392 Q32.7168 785.426 31.7184 783.912 Q30.72 782.367 30.72 780.595 Q30.72 778.18 32.2981 776.698 Q33.844 775.185 36.1306 775.185 Q37.0646 775.185 37.9019 775.442 Q38.7071 775.668 40.8649 776.505 Q49.5605 779.887 53.8116 779.887 Q54.8422 779.887 55.7118 779.726 Q56.5491 779.532 57.3865 779.114 Q58.1916 778.695 58.6747 777.858 Q59.1256 776.988 59.1256 775.797 Q59.1256 774.283 58.4171 772.866 Q57.6763 771.417 56.678 770.515 Q55.6796 769.581 54.8422 769.033 Q53.9727 768.454 53.5218 768.325 L41.67 765.362 L36.3883 764.041 Q33.522 763.43 32.8134 763.14 Q32.1371 762.753 31.7828 762.077 Q31.4286 761.401 31.4286 760.821 Q31.4286 760.016 31.9117 759.468 Q32.3947 758.889 33.2321 758.889 Z\" fill=\"#000000\" fill-rule=\"evenodd\" fill-opacity=\"1\" /><path clip-path=\"url(#clip670)\" d=\"M992.496 63.9476 L992.496 47.7034 L979.128 47.7034 L979.128 40.9789 L1000.6 40.9789 L1000.6 66.9452 Q995.858 70.3075 990.147 72.0494 Q984.435 73.7508 977.953 73.7508 Q963.775 73.7508 955.754 65.4869 Q947.774 57.1826 947.774 42.3968 Q947.774 27.5705 955.754 19.3066 Q963.775 11.0023 977.953 11.0023 Q983.868 11.0023 989.174 12.4606 Q994.522 13.9189 999.018 16.7545 L999.018 25.464 Q994.481 21.6156 989.377 19.6712 Q984.273 17.7268 978.642 17.7268 Q967.543 17.7268 961.952 23.9246 Q956.403 30.1225 956.403 42.3968 Q956.403 54.6305 961.952 60.8284 Q967.543 67.0263 978.642 67.0263 Q982.976 67.0263 986.379 66.2971 Q989.782 65.5274 992.496 63.9476 Z\" fill=\"#000000\" fill-rule=\"evenodd\" fill-opacity=\"1\" /><path clip-path=\"url(#clip670)\" d=\"M1041.51 34.1734 Q1040.26 33.4443 1038.76 33.1202 Q1037.3 32.7556 1035.52 32.7556 Q1029.2 32.7556 1025.79 36.8875 Q1022.43 40.9789 1022.43 48.6757 L1022.43 72.576 L1014.94 72.576 L1014.94 27.2059 L1022.43 27.2059 L1022.43 34.2544 Q1024.78 30.1225 1028.55 28.1376 Q1032.32 26.1121 1037.7 26.1121 Q1038.47 26.1121 1039.41 26.2337 Q1040.34 26.3147 1041.47 26.5172 L1041.51 34.1734 Z\" fill=\"#000000\" fill-rule=\"evenodd\" fill-opacity=\"1\" /><path clip-path=\"url(#clip670)\" d=\"M1069.95 49.7694 Q1060.92 49.7694 1057.43 51.8354 Q1053.95 53.9013 1053.95 58.8839 Q1053.95 62.8538 1056.54 65.2034 Q1059.17 67.5124 1063.67 67.5124 Q1069.87 67.5124 1073.6 63.1374 Q1077.36 58.7219 1077.36 51.4303 L1077.36 49.7694 L1069.95 49.7694 M1084.82 46.6907 L1084.82 72.576 L1077.36 72.576 L1077.36 65.6895 Q1074.81 69.8214 1071 71.8063 Q1067.19 73.7508 1061.69 73.7508 Q1054.72 73.7508 1050.59 69.8619 Q1046.49 65.9325 1046.49 59.3701 Q1046.49 51.7138 1051.6 47.825 Q1056.74 43.9361 1066.91 43.9361 L1077.36 43.9361 L1077.36 43.2069 Q1077.36 38.0623 1073.96 35.2672 Q1070.6 32.4315 1064.48 32.4315 Q1060.59 32.4315 1056.91 33.3632 Q1053.22 34.295 1049.82 36.1584 L1049.82 29.2718 Q1053.91 27.692 1057.76 26.9223 Q1061.6 26.1121 1065.25 26.1121 Q1075.09 26.1121 1079.96 31.2163 Q1084.82 36.3204 1084.82 46.6907 M1071.21 6.22219 L1079.27 6.22219 L1066.06 21.4536 L1059.86 21.4536 L1071.21 6.22219 Z\" fill=\"#000000\" fill-rule=\"evenodd\" fill-opacity=\"1\" /><path clip-path=\"url(#clip670)\" d=\"M1123.14 9.54393 L1123.14 15.7418 L1116.01 15.7418 Q1112 15.7418 1110.42 17.3622 Q1108.88 18.9825 1108.88 23.1955 L1108.88 27.2059 L1121.15 27.2059 L1121.15 32.9987 L1108.88 32.9987 L1108.88 72.576 L1101.38 72.576 L1101.38 32.9987 L1094.25 32.9987 L1094.25 27.2059 L1101.38 27.2059 L1101.38 24.0462 Q1101.38 16.471 1104.91 13.0277 Q1108.43 9.54393 1116.09 9.54393 L1123.14 9.54393 Z\" fill=\"#000000\" fill-rule=\"evenodd\" fill-opacity=\"1\" /><path clip-path=\"url(#clip670)\" d=\"M1129.38 27.2059 L1136.83 27.2059 L1136.83 72.576 L1129.38 72.576 L1129.38 27.2059 M1129.38 9.54393 L1136.83 9.54393 L1136.83 18.9825 L1129.38 18.9825 L1129.38 9.54393 Z\" fill=\"#000000\" fill-rule=\"evenodd\" fill-opacity=\"1\" /><path clip-path=\"url(#clip670)\" d=\"M1185.08 28.9478 L1185.08 35.9153 Q1181.92 34.1734 1178.72 33.3227 Q1175.56 32.4315 1172.32 32.4315 Q1165.06 32.4315 1161.05 37.0496 Q1157.04 41.6271 1157.04 49.9314 Q1157.04 58.2358 1161.05 62.8538 Q1165.06 67.4314 1172.32 67.4314 Q1175.56 67.4314 1178.72 66.5807 Q1181.92 65.6895 1185.08 63.9476 L1185.08 70.8341 Q1181.96 72.2924 1178.59 73.0216 Q1175.27 73.7508 1171.51 73.7508 Q1161.26 73.7508 1155.22 67.3098 Q1149.19 60.8689 1149.19 49.9314 Q1149.19 38.832 1155.26 32.472 Q1161.38 26.1121 1171.99 26.1121 Q1175.43 26.1121 1178.72 26.8413 Q1182 27.5299 1185.08 28.9478 Z\" fill=\"#000000\" fill-rule=\"evenodd\" fill-opacity=\"1\" /><path clip-path=\"url(#clip670)\" d=\"M1215.62 32.4315 Q1209.62 32.4315 1206.14 37.1306 Q1202.66 41.7891 1202.66 49.9314 Q1202.66 58.0738 1206.1 62.7728 Q1209.58 67.4314 1215.62 67.4314 Q1221.57 67.4314 1225.06 62.7323 Q1228.54 58.0333 1228.54 49.9314 Q1228.54 41.8701 1225.06 37.1711 Q1221.57 32.4315 1215.62 32.4315 M1215.62 26.1121 Q1225.34 26.1121 1230.89 32.4315 Q1236.44 38.7509 1236.44 49.9314 Q1236.44 61.0714 1230.89 67.4314 Q1225.34 73.7508 1215.62 73.7508 Q1205.86 73.7508 1200.31 67.4314 Q1194.8 61.0714 1194.8 49.9314 Q1194.8 38.7509 1200.31 32.4315 Q1205.86 26.1121 1215.62 26.1121 Z\" fill=\"#000000\" fill-rule=\"evenodd\" fill-opacity=\"1\" /><path clip-path=\"url(#clip670)\" d=\"M1313.98 48.0275 L1313.98 51.6733 L1279.71 51.6733 Q1280.19 59.3701 1284.32 63.421 Q1288.5 67.4314 1295.91 67.4314 Q1300.2 67.4314 1304.21 66.3781 Q1308.26 65.3249 1312.23 63.2184 L1312.23 70.267 Q1308.22 71.9684 1304.01 72.8596 Q1299.8 73.7508 1295.46 73.7508 Q1284.61 73.7508 1278.25 67.4314 Q1271.93 61.1119 1271.93 50.3365 Q1271.93 39.1965 1277.92 32.6746 Q1283.96 26.1121 1294.17 26.1121 Q1303.32 26.1121 1308.63 32.0264 Q1313.98 37.9003 1313.98 48.0275 M1306.52 45.84 Q1306.44 39.7232 1303.08 36.0774 Q1299.76 32.4315 1294.25 32.4315 Q1288.01 32.4315 1284.24 35.9558 Q1280.52 39.4801 1279.95 45.8805 L1306.52 45.84 Z\" fill=\"#000000\" fill-rule=\"evenodd\" fill-opacity=\"1\" /><path clip-path=\"url(#clip670)\" d=\"M1326.21 27.2059 L1333.66 27.2059 L1333.66 73.3862 Q1333.66 82.0551 1330.34 85.944 Q1327.06 89.8329 1319.73 89.8329 L1316.89 89.8329 L1316.89 83.5134 L1318.88 83.5134 Q1323.13 83.5134 1324.67 81.5285 Q1326.21 79.5841 1326.21 73.3862 L1326.21 27.2059 M1326.21 9.54393 L1333.66 9.54393 L1333.66 18.9825 L1326.21 18.9825 L1326.21 9.54393 Z\" fill=\"#000000\" fill-rule=\"evenodd\" fill-opacity=\"1\" /><path clip-path=\"url(#clip670)\" d=\"M1388.07 48.0275 L1388.07 51.6733 L1353.8 51.6733 Q1354.28 59.3701 1358.41 63.421 Q1362.59 67.4314 1370 67.4314 Q1374.29 67.4314 1378.3 66.3781 Q1382.36 65.3249 1386.33 63.2184 L1386.33 70.267 Q1382.31 71.9684 1378.1 72.8596 Q1373.89 73.7508 1369.55 73.7508 Q1358.7 73.7508 1352.34 67.4314 Q1346.02 61.1119 1346.02 50.3365 Q1346.02 39.1965 1352.01 32.6746 Q1358.05 26.1121 1368.26 26.1121 Q1377.41 26.1121 1382.72 32.0264 Q1388.07 37.9003 1388.07 48.0275 M1380.61 45.84 Q1380.53 39.7232 1377.17 36.0774 Q1373.85 32.4315 1368.34 32.4315 Q1362.1 32.4315 1358.33 35.9558 Q1354.61 39.4801 1354.04 45.8805 L1380.61 45.84 Z\" fill=\"#000000\" fill-rule=\"evenodd\" fill-opacity=\"1\" /><path clip-path=\"url(#clip670)\" d=\"M1435.62 35.9153 Q1438.42 30.8922 1442.31 28.5022 Q1446.2 26.1121 1451.46 26.1121 Q1458.55 26.1121 1462.4 31.0947 Q1466.25 36.0368 1466.25 45.1919 L1466.25 72.576 L1458.76 72.576 L1458.76 45.4349 Q1458.76 38.913 1456.45 35.7533 Q1454.14 32.5936 1449.4 32.5936 Q1443.6 32.5936 1440.24 36.4419 Q1436.88 40.2903 1436.88 46.9338 L1436.88 72.576 L1429.39 72.576 L1429.39 45.4349 Q1429.39 38.8725 1427.08 35.7533 Q1424.77 32.5936 1419.95 32.5936 Q1414.24 32.5936 1410.87 36.4824 Q1407.51 40.3308 1407.51 46.9338 L1407.51 72.576 L1400.02 72.576 L1400.02 27.2059 L1407.51 27.2059 L1407.51 34.2544 Q1410.06 30.082 1413.63 28.0971 Q1417.19 26.1121 1422.09 26.1121 Q1427.04 26.1121 1430.48 28.6237 Q1433.96 31.1352 1435.62 35.9153 Z\" fill=\"#000000\" fill-rule=\"evenodd\" fill-opacity=\"1\" /><path clip-path=\"url(#clip670)\" d=\"M1488.33 65.7705 L1488.33 89.8329 L1480.83 89.8329 L1480.83 27.2059 L1488.33 27.2059 L1488.33 34.0924 Q1490.68 30.0415 1494.24 28.0971 Q1497.85 26.1121 1502.83 26.1121 Q1511.09 26.1121 1516.24 32.6746 Q1521.42 39.2371 1521.42 49.9314 Q1521.42 60.6258 1516.24 67.1883 Q1511.09 73.7508 1502.83 73.7508 Q1497.85 73.7508 1494.24 71.8063 Q1490.68 69.8214 1488.33 65.7705 M1513.69 49.9314 Q1513.69 41.7081 1510.28 37.0496 Q1506.92 32.3505 1501.01 32.3505 Q1495.09 32.3505 1491.69 37.0496 Q1488.33 41.7081 1488.33 49.9314 Q1488.33 58.1548 1491.69 62.8538 Q1495.09 67.5124 1501.01 67.5124 Q1506.92 67.5124 1510.28 62.8538 Q1513.69 58.1548 1513.69 49.9314 Z\" fill=\"#000000\" fill-rule=\"evenodd\" fill-opacity=\"1\" /><path clip-path=\"url(#clip670)\" d=\"M1533.78 9.54393 L1541.23 9.54393 L1541.23 72.576 L1533.78 72.576 L1533.78 9.54393 Z\" fill=\"#000000\" fill-rule=\"evenodd\" fill-opacity=\"1\" /><path clip-path=\"url(#clip670)\" d=\"M1574.41 32.4315 Q1568.41 32.4315 1564.93 37.1306 Q1561.45 41.7891 1561.45 49.9314 Q1561.45 58.0738 1564.89 62.7728 Q1568.37 67.4314 1574.41 67.4314 Q1580.36 67.4314 1583.85 62.7323 Q1587.33 58.0333 1587.33 49.9314 Q1587.33 41.8701 1583.85 37.1711 Q1580.36 32.4315 1574.41 32.4315 M1574.41 26.1121 Q1584.13 26.1121 1589.68 32.4315 Q1595.23 38.7509 1595.23 49.9314 Q1595.23 61.0714 1589.68 67.4314 Q1584.13 73.7508 1574.41 73.7508 Q1564.65 73.7508 1559.1 67.4314 Q1553.59 61.0714 1553.59 49.9314 Q1553.59 38.7509 1559.1 32.4315 Q1564.65 26.1121 1574.41 26.1121 Z\" fill=\"#000000\" fill-rule=\"evenodd\" fill-opacity=\"1\" /><path clip-path=\"url(#clip670)\" d=\"M1607.18 62.2867 L1615.73 62.2867 L1615.73 72.576 L1607.18 72.576 L1607.18 62.2867 Z\" fill=\"#000000\" fill-rule=\"evenodd\" fill-opacity=\"1\" /><polyline clip-path=\"url(#clip672)\" style=\"stroke:#ff0000; stroke-linecap:butt; stroke-linejoin:round; stroke-width:10; stroke-opacity:1; fill:none\" stroke-dasharray=\"40, 25\" points=\"\n",
       "  776.816,1047.5 778.425,1052.97 780.034,1058.41 781.643,1063.83 783.252,1069.21 784.861,1074.56 786.469,1079.89 788.078,1085.18 789.687,1090.44 791.296,1095.68 \n",
       "  792.905,1100.87 794.514,1106.04 796.123,1111.17 797.732,1116.27 799.341,1121.34 800.949,1126.37 802.558,1131.36 804.167,1136.32 805.776,1141.24 807.385,1146.13 \n",
       "  808.994,1150.98 810.603,1155.79 812.212,1160.56 813.821,1165.29 815.429,1169.99 817.038,1174.64 818.647,1179.26 820.256,1183.83 821.865,1188.36 823.474,1192.85 \n",
       "  825.083,1197.3 826.692,1201.71 828.301,1206.07 829.909,1210.4 831.518,1214.67 833.127,1218.91 834.736,1223.09 836.345,1227.24 837.954,1231.34 839.563,1235.39 \n",
       "  841.172,1239.39 842.781,1243.35 844.389,1247.27 845.998,1251.13 847.607,1254.95 849.216,1258.72 850.825,1262.44 852.434,1266.11 854.043,1269.73 855.652,1273.31 \n",
       "  857.261,1276.83 858.869,1280.3 860.478,1283.72 862.087,1287.09 863.696,1290.41 865.305,1293.68 866.914,1296.9 868.523,1300.06 870.132,1303.17 871.741,1306.23 \n",
       "  873.349,1309.23 874.958,1312.18 876.567,1315.08 878.176,1317.92 879.785,1320.71 881.394,1323.44 883.003,1326.12 884.612,1328.75 886.221,1331.31 887.829,1333.83 \n",
       "  889.438,1336.28 891.047,1338.68 892.656,1341.02 894.265,1343.31 895.874,1345.54 897.483,1347.71 899.092,1349.83 900.701,1351.88 902.309,1353.88 903.918,1355.82 \n",
       "  905.527,1357.71 907.136,1359.53 908.745,1361.3 910.354,1363 911.963,1364.65 913.572,1366.24 915.181,1367.77 916.789,1369.24 918.398,1370.65 920.007,1372 \n",
       "  921.616,1373.29 923.225,1374.52 924.834,1375.69 926.443,1376.8 928.052,1377.85 929.661,1378.84 931.269,1379.77 932.878,1380.64 934.487,1381.45 936.096,1382.2 \n",
       "  937.705,1382.88 939.314,1383.51 940.923,1384.07 942.532,1384.57 944.141,1385.02 945.749,1385.4 947.358,1385.72 948.967,1385.98 950.576,1386.17 952.185,1386.31 \n",
       "  953.794,1386.38 955.403,1386.4 957.012,1386.35 958.621,1386.24 960.229,1386.07 961.838,1385.84 963.447,1385.54 965.056,1385.19 966.665,1384.77 968.274,1384.3 \n",
       "  969.883,1383.76 971.492,1383.16 973.101,1382.5 974.709,1381.78 976.318,1381 977.927,1380.15 979.536,1379.25 981.145,1378.29 982.754,1377.26 984.363,1376.18 \n",
       "  985.972,1375.03 987.581,1373.83 989.189,1372.56 990.798,1371.24 992.407,1369.85 994.016,1368.41 995.625,1366.9 997.234,1365.34 998.843,1363.72 1000.45,1362.04 \n",
       "  1002.06,1360.3 1003.67,1358.5 1005.28,1356.64 1006.89,1354.72 1008.5,1352.75 1010.1,1350.72 1011.71,1348.63 1013.32,1346.48 1014.93,1344.28 1016.54,1342.01 \n",
       "  1018.15,1339.7 1019.76,1337.32 1021.37,1334.89 1022.98,1332.4 1024.58,1329.86 1026.19,1327.26 1027.8,1324.6 1029.41,1321.89 1031.02,1319.13 1032.63,1316.31 \n",
       "  1034.24,1313.43 1035.85,1310.51 1037.46,1307.53 1039.06,1304.49 1040.67,1301.4 1042.28,1298.26 1043.89,1295.07 1045.5,1291.82 1047.11,1288.53 1048.72,1285.18 \n",
       "  1050.33,1281.78 1051.94,1278.33 1053.54,1274.83 1055.15,1271.27 1056.76,1267.67 1058.37,1264.02 1059.98,1260.32 1061.59,1256.57 1063.2,1252.78 1064.81,1248.93 \n",
       "  1066.42,1245.04 1068.02,1241.1 1069.63,1237.12 1071.24,1233.08 1072.85,1229 1074.46,1224.88 1076.07,1220.71 1077.68,1216.5 1079.29,1212.24 1080.9,1207.94 \n",
       "  1082.5,1203.59 1084.11,1199.2 1085.72,1194.77 1087.33,1190.3 1088.94,1185.78 1090.55,1181.23 1092.16,1176.63 1093.77,1171.99 1095.38,1167.31 1096.98,1162.6 \n",
       "  1098.59,1157.84 1100.2,1153.05 1101.81,1148.22 1103.42,1143.35 1105.03,1138.44 1106.64,1133.5 1108.25,1128.52 1109.86,1123.5 1111.46,1118.45 1113.07,1113.37 \n",
       "  1114.68,1108.25 1116.29,1103.1 1117.9,1097.91 1119.51,1092.7 1121.12,1087.45 1122.73,1082.17 1124.34,1076.86 1125.94,1071.51 1127.55,1066.14 1129.16,1060.74 \n",
       "  1130.77,1055.31 1132.38,1049.85 1133.99,1044.37 1135.6,1038.86 1137.21,1033.32 1138.82,1027.75 1140.42,1022.16 1142.03,1016.55 1143.64,1010.91 1145.25,1005.24 \n",
       "  1146.86,999.557 1148.47,993.848 1150.08,988.117 1151.69,982.364 1153.3,976.59 1154.9,970.796 1156.51,964.982 1158.12,959.149 1159.73,953.298 1161.34,947.428 \n",
       "  1162.95,941.542 1164.56,935.638 1166.17,929.718 1167.78,923.782 1169.38,917.832 1170.99,911.866 1172.6,905.888 1174.21,899.895 1175.82,893.89 1177.43,887.874 \n",
       "  1179.04,881.845 1180.65,875.806 1182.26,869.756 1183.86,863.697 1185.47,857.629 1187.08,851.553 1188.69,845.468 1190.3,839.377 1191.91,833.278 1193.52,827.174 \n",
       "  1195.13,821.064 1196.74,814.95 1198.34,808.832 1199.95,802.709 1201.56,796.584 1203.17,790.457 1204.78,784.328 1206.39,778.198 1208,772.067 1209.61,765.937 \n",
       "  1211.22,759.807 1212.82,753.678 1214.43,747.552 1216.04,741.428 1217.65,735.307 1219.26,729.19 1220.87,723.078 1222.48,716.97 1224.09,710.869 1225.7,704.773 \n",
       "  1227.3,698.684 1228.91,692.603 1230.52,686.53 1232.13,680.465 1233.74,674.41 1235.35,668.365 1236.96,662.33 1238.57,656.306 1240.18,650.294 1241.78,644.294 \n",
       "  1243.39,638.308 1245,632.334 1246.61,626.375 1248.22,620.43 1249.83,614.501 1251.44,608.588 1253.05,602.691 1254.66,596.811 1256.26,590.949 1257.87,585.105 \n",
       "  1259.48,579.28 1261.09,573.474 1262.7,567.688 1264.31,561.923 1265.92,556.179 1267.53,550.457 1269.14,544.757 1270.74,539.08 1272.35,533.426 1273.96,527.796 \n",
       "  1275.57,522.191 1277.18,516.611 1278.79,511.056 1280.4,505.528 1282.01,500.027 1283.62,494.553 1285.22,489.107 1286.83,483.689 1288.44,478.3 1290.05,472.941 \n",
       "  1291.66,467.611 1293.27,462.313 1294.88,457.045 1296.49,451.809 1298.1,446.605 1299.7,441.434 1301.31,436.296 1302.92,431.192 1304.53,426.122 1306.14,421.087 \n",
       "  1307.75,416.086 1309.36,411.122 1310.97,406.194 1312.58,401.303 1314.18,396.448 1315.79,391.632 1317.4,386.853 1319.01,382.114 1320.62,377.413 1322.23,372.752 \n",
       "  1323.84,368.131 1325.45,363.551 1327.06,359.011 1328.66,354.513 1330.27,350.057 1331.88,345.643 1333.49,341.272 1335.1,336.944 1336.71,332.66 1338.32,328.42 \n",
       "  1339.93,324.224 1341.54,320.073 1343.14,315.968 1344.75,311.908 1346.36,307.895 1347.97,303.928 1349.58,300.007 1351.19,296.135 1352.8,292.31 1354.41,288.533 \n",
       "  1356.02,284.804 1357.62,281.125 1359.23,277.494 1360.84,273.914 1362.45,270.383 1364.06,266.902 1365.67,263.472 1367.28,260.093 1368.89,256.766 1370.5,253.49 \n",
       "  1372.1,250.266 1373.71,247.094 1375.32,243.975 1376.93,240.909 1378.54,237.896 1380.15,234.937 1381.76,232.031 1383.37,229.18 1384.98,226.383 1386.58,223.641 \n",
       "  1388.19,220.954 1389.8,218.322 1391.41,215.745 1393.02,213.224 1394.63,210.76 1396.24,208.351 1397.85,205.999 1399.46,203.704 1401.06,201.465 1402.67,199.284 \n",
       "  1404.28,197.161 1405.89,195.094 1407.5,193.086 1409.11,191.136 1410.72,189.244 1412.33,187.41 1413.94,185.635 1415.54,183.919 1417.15,182.261 1418.76,180.663 \n",
       "  1420.37,179.124 1421.98,177.645 1423.59,176.225 1425.2,174.864 1426.81,173.564 1428.42,172.324 1430.02,171.143 1431.63,170.023 1433.24,168.963 1434.85,167.964 \n",
       "  1436.46,167.025 1438.07,166.147 1439.68,165.329 1441.29,164.573 1442.9,163.877 1444.5,163.242 1446.11,162.668 1447.72,162.155 1449.33,161.704 1450.94,161.313 \n",
       "  1452.55,160.984 1454.16,160.716 1455.77,160.509 1457.38,160.363 1458.98,160.279 1460.59,160.256 1462.2,160.295 1463.81,160.394 1465.42,160.555 1467.03,160.778 \n",
       "  1468.64,161.061 1470.25,161.406 1471.86,161.812 1473.46,162.279 1475.07,162.807 1476.68,163.396 1478.29,164.046 1479.9,164.757 1481.51,165.529 1483.12,166.362 \n",
       "  1484.73,167.256 1486.34,168.21 1487.94,169.224 1489.55,170.299 1491.16,171.435 1492.77,172.63 1494.38,173.886 1495.99,175.201 1497.6,176.577 1499.21,178.012 \n",
       "  1500.82,179.506 1502.42,181.06 1504.03,182.673 1505.64,184.345 1507.25,186.076 1508.86,187.866 1510.47,189.715 1512.08,191.621 1513.69,193.586 1515.3,195.609 \n",
       "  1516.9,197.69 1518.51,199.828 1520.12,202.023 1521.73,204.276 1523.34,206.586 1524.95,208.952 1526.56,211.375 1528.17,213.854 1529.78,216.388 1531.38,218.979 \n",
       "  1532.99,221.625 1534.6,224.326 1536.21,227.082 1537.82,229.893 1539.43,232.758 1541.04,235.677 1542.65,238.65 1544.26,241.676 1545.86,244.755 1547.47,247.888 \n",
       "  1549.08,251.073 1550.69,254.31 1552.3,257.599 1553.91,260.939 1555.52,264.331 1557.13,267.774 1558.74,271.267 1560.34,274.81 1561.95,278.404 1563.56,282.046 \n",
       "  1565.17,285.738 1566.78,289.479 1568.39,293.268 1570,297.105 1571.61,300.99 1573.22,304.922 1574.82,308.901 1576.43,312.926 1578.04,316.997 1579.65,321.114 \n",
       "  1581.26,325.276 1582.87,329.483 1584.48,333.734 1586.09,338.029 1587.7,342.368 1589.3,346.75 1590.91,351.175 1592.52,355.641 1594.13,360.15 1595.74,364.7 \n",
       "  1597.35,369.29 1598.96,373.921 1600.57,378.593 1602.18,383.303 1603.78,388.053 1605.39,392.841 1607,397.667 1608.61,402.53 1610.22,407.431 1611.83,412.368 \n",
       "  1613.44,417.342 1615.05,422.351 1616.66,427.395 1618.26,432.474 1619.87,437.586 1621.48,442.733 1623.09,447.912 1624.7,453.124 1626.31,458.368 1627.92,463.644 \n",
       "  1629.53,468.95 1631.14,474.287 1632.74,479.654 1634.35,485.05 1635.96,490.475 1637.57,495.928 1639.18,501.409 1640.79,506.917 1642.4,512.452 1644.01,518.013 \n",
       "  1645.62,523.6 1647.22,529.211 1648.83,534.847 1650.44,540.507 1652.05,546.19 1653.66,551.895 1655.27,557.623 1656.88,563.372 1658.49,569.143 1660.1,574.934 \n",
       "  1661.7,580.744 1663.31,586.574 1664.92,592.423 1666.53,598.29 1668.14,604.174 1669.75,610.075 1671.36,615.992 1672.97,621.925 1674.58,627.874 1676.18,633.837 \n",
       "  1677.79,639.813 1679.4,645.803 1681.01,651.806 1682.62,657.821 1684.23,663.848 1685.84,669.886 1687.45,675.933 1689.06,681.991 1690.66,688.058 1692.27,694.133 \n",
       "  1693.88,700.216 1695.49,706.307 1697.1,712.404 1698.71,718.507 1700.32,724.616 1701.93,730.73 1703.54,736.848 1705.14,742.969 1706.75,749.094 1708.36,755.221 \n",
       "  1709.97,761.35 1711.58,767.48 1713.19,773.61 1714.8,779.741 1716.41,785.871 1718.02,792 1719.62,798.126 1721.23,804.251 1722.84,810.372 1724.45,816.49 \n",
       "  1726.06,822.603 1727.67,828.711 1729.28,834.814 1730.89,840.911 1732.5,847 1734.1,853.083 1735.71,859.157 1737.32,865.223 1738.93,871.28 1740.54,877.327 \n",
       "  1742.15,883.364 1743.76,889.389 1745.37,895.403 1746.98,901.405 1748.58,907.394 1750.19,913.369 1751.8,919.331 1753.41,925.278 1755.02,931.21 1756.63,937.125 \n",
       "  1758.24,943.025 1759.85,948.908 1761.46,954.773 1763.06,960.62 1764.67,966.448 1766.28,972.257 1767.89,978.045 1769.5,983.814 1771.11,989.561 1772.72,995.287 \n",
       "  1774.33,1000.99 1775.94,1006.67 1777.54,1012.33 1779.15,1017.96 1780.76,1023.57 1782.37,1029.16 1783.98,1034.71 1785.59,1040.25 1787.2,1045.75 \n",
       "  \"/>\n",
       "<polyline clip-path=\"url(#clip672)\" style=\"stroke:#0000ff; stroke-linecap:butt; stroke-linejoin:round; stroke-width:10; stroke-opacity:1; fill:none\" points=\"\n",
       "  271.369,499.153 272.978,499.167 274.587,499.208 276.196,499.277 277.804,499.373 279.413,499.496 281.022,499.647 282.631,499.825 284.24,500.03 285.849,500.263 \n",
       "  287.458,500.523 289.067,500.81 290.676,501.125 292.284,501.467 293.893,501.836 295.502,502.232 297.111,502.655 298.72,503.106 300.329,503.583 301.938,504.087 \n",
       "  303.547,504.618 305.156,505.177 306.764,505.762 308.373,506.373 309.982,507.012 311.591,507.677 313.2,508.368 314.809,509.086 316.418,509.831 318.027,510.602 \n",
       "  319.636,511.399 321.244,512.222 322.853,513.072 324.462,513.947 326.071,514.848 327.68,515.776 329.289,516.729 330.898,517.707 332.507,518.712 334.116,519.741 \n",
       "  335.724,520.796 337.333,521.877 338.942,522.982 340.551,524.112 342.16,525.268 343.769,526.448 345.378,527.653 346.987,528.882 348.596,530.136 350.204,531.414 \n",
       "  351.813,532.717 353.422,534.043 355.031,535.394 356.64,536.768 358.249,538.166 359.858,539.587 361.467,541.032 363.076,542.5 364.684,543.991 366.293,545.505 \n",
       "  367.902,547.042 369.511,548.601 371.12,550.183 372.729,551.787 374.338,553.413 375.947,555.062 377.556,556.732 379.164,558.424 380.773,560.137 382.382,561.872 \n",
       "  383.991,563.627 385.6,565.404 387.209,567.202 388.818,569.02 390.427,570.858 392.036,572.717 393.644,574.596 395.253,576.495 396.862,578.413 398.471,580.351 \n",
       "  400.08,582.308 401.689,584.285 403.298,586.28 404.907,588.294 406.516,590.326 408.124,592.377 409.733,594.446 411.342,596.532 412.951,598.637 414.56,600.759 \n",
       "  416.169,602.898 417.778,605.054 419.387,607.227 420.996,609.417 422.604,611.623 424.213,613.845 425.822,616.083 427.431,618.337 429.04,620.606 430.649,622.891 \n",
       "  432.258,625.19 433.867,627.505 435.476,629.834 437.084,632.177 438.693,634.535 440.302,636.906 441.911,639.291 443.52,641.69 445.129,644.101 446.738,646.526 \n",
       "  448.347,648.963 449.956,651.412 451.564,653.874 453.173,656.348 454.782,658.834 456.391,661.33 458,663.839 459.609,666.358 461.218,668.887 462.827,671.428 \n",
       "  464.436,673.978 466.044,676.538 467.653,679.108 469.262,681.688 470.871,684.276 472.48,686.874 474.089,689.48 475.698,692.095 477.307,694.717 478.916,697.348 \n",
       "  480.524,699.986 482.133,702.631 483.742,705.284 485.351,707.943 486.96,710.609 488.569,713.281 490.178,715.959 491.787,718.643 493.395,721.332 495.004,724.027 \n",
       "  496.613,726.726 498.222,729.431 499.831,732.139 501.44,734.852 503.049,737.568 504.658,740.288 506.267,743.012 507.875,745.738 509.484,748.467 511.093,751.199 \n",
       "  512.702,753.933 514.311,756.668 515.92,759.406 517.529,762.145 519.138,764.885 520.747,767.626 522.355,770.367 523.964,773.109 525.573,770.804 527.182,768.062 \n",
       "  528.791,765.321 530.4,762.581 532.009,759.842 533.618,757.104 535.227,754.368 536.835,751.634 538.444,748.902 540.053,746.173 541.662,743.446 543.271,740.722 \n",
       "  544.88,738.001 546.489,735.284 548.098,732.571 549.707,729.862 551.315,727.157 552.924,724.457 554.533,721.761 556.142,719.071 557.751,716.386 559.36,713.707 \n",
       "  560.969,711.034 562.578,708.367 564.187,705.707 565.795,703.053 567.404,700.407 569.013,697.767 570.622,695.136 572.231,692.512 573.84,689.896 575.449,687.288 \n",
       "  577.058,684.689 578.667,682.099 580.275,679.519 581.884,676.947 583.493,674.385 585.102,671.833 586.711,669.291 588.32,666.76 589.929,664.239 591.538,661.729 \n",
       "  593.147,659.23 594.755,656.743 596.364,654.267 597.973,651.804 599.582,649.352 601.191,646.913 602.8,644.486 604.409,642.073 606.018,639.672 607.627,637.285 \n",
       "  609.235,634.911 610.844,632.552 612.453,630.206 614.062,627.875 615.671,625.558 617.28,623.256 618.889,620.969 620.498,618.697 622.107,616.441 623.715,614.2 \n",
       "  625.324,611.975 626.933,609.767 628.542,607.575 630.151,605.399 631.76,603.24 633.369,601.098 634.978,598.974 636.587,596.866 638.195,594.777 639.804,592.705 \n",
       "  641.413,590.652 643.022,588.616 644.631,586.599 646.24,584.601 647.849,582.622 649.458,580.662 651.067,578.72 652.675,576.799 654.284,574.897 655.893,573.015 \n",
       "  657.502,571.153 659.111,569.311 660.72,567.49 662.329,565.689 663.938,563.909 665.547,562.15 667.155,560.412 668.764,558.695 670.373,557 671.982,555.326 \n",
       "  673.591,553.674 675.2,552.045 676.809,550.437 678.418,548.851 680.027,547.288 681.635,545.748 683.244,544.23 684.853,542.736 686.462,541.264 688.071,539.816 \n",
       "  689.68,538.391 691.289,536.989 692.898,535.611 694.507,534.257 696.115,532.927 697.724,531.62 699.333,530.338 700.942,529.08 702.551,527.847 704.16,526.638 \n",
       "  705.769,525.454 707.378,524.295 708.987,523.16 710.595,522.051 712.204,520.967 713.813,519.908 715.422,518.874 717.031,517.866 718.64,516.883 720.249,515.926 \n",
       "  721.858,514.994 723.467,514.089 725.075,513.209 726.684,512.356 728.293,511.528 729.902,510.727 731.511,509.952 733.12,509.203 734.729,508.481 736.338,507.785 \n",
       "  737.947,507.116 739.555,506.473 741.164,505.857 742.773,505.268 744.382,504.706 745.991,504.17 747.6,503.661 749.209,503.18 750.818,502.725 752.427,502.298 \n",
       "  754.035,501.897 755.644,501.524 757.253,501.178 758.862,500.859 760.471,500.567 762.08,500.302 763.689,500.065 765.298,499.856 766.907,499.673 768.515,499.518 \n",
       "  770.124,499.39 771.733,499.29 773.342,499.217 774.951,499.172 776.56,499.154 778.169,499.163 779.778,499.2 781.387,499.264 782.995,499.355 784.604,499.474 \n",
       "  786.213,499.621 787.822,499.794 789.431,499.996 791.04,500.224 792.649,500.48 794.258,500.763 795.867,501.073 797.475,501.41 799.084,501.775 800.693,502.167 \n",
       "  802.302,502.586 803.911,503.032 805.52,503.505 807.129,504.005 808.738,504.532 810.347,505.086 811.955,505.667 813.564,506.274 815.173,506.908 816.782,507.569 \n",
       "  818.391,508.256 820,508.97 821.609,509.71 823.218,510.477 824.827,511.27 826.435,512.089 828.044,512.935 829.653,513.806 831.262,514.703 832.871,515.626 \n",
       "  834.48,516.575 836.089,517.55 837.698,518.55 839.307,519.575 840.915,520.627 842.524,521.703 844.133,522.804 845.742,523.931 847.351,525.082 848.96,526.258 \n",
       "  850.569,527.459 852.178,528.685 853.787,529.935 855.395,531.209 857.004,532.508 858.613,533.83 860.222,535.177 861.831,536.547 863.44,537.942 865.049,539.359 \n",
       "  866.658,540.8 868.267,542.264 869.875,543.752 871.484,545.262 873.093,546.795 874.702,548.351 876.311,549.929 877.92,551.53 879.529,553.153 881.138,554.798 \n",
       "  882.747,556.464 884.355,558.153 885.964,559.863 887.573,561.594 889.182,563.346 890.791,565.12 892.4,566.914 894.009,568.729 895.618,570.564 897.227,572.42 \n",
       "  898.835,574.295 900.444,576.191 902.053,578.106 903.662,580.041 905.271,581.995 906.88,583.969 908.489,585.961 910.098,587.972 911.707,590.001 913.315,592.049 \n",
       "  914.924,594.115 916.533,596.199 918.142,598.301 919.751,600.42 921.36,602.556 922.969,604.709 924.578,606.88 926.187,609.067 927.795,611.27 929.404,613.49 \n",
       "  931.013,615.725 932.622,617.977 934.231,620.244 935.84,622.526 937.449,624.823 939.058,627.135 940.667,629.462 942.275,631.803 943.884,634.158 945.493,636.527 \n",
       "  947.102,638.91 948.711,641.307 950.32,643.716 951.929,646.139 953.538,648.574 955.147,651.022 956.755,653.481 958.364,655.953 959.973,658.437 961.582,660.932 \n",
       "  963.191,663.438 964.8,665.956 966.409,668.484 968.018,671.022 969.627,673.571 971.235,676.13 972.844,678.698 974.453,681.276 976.062,683.863 977.671,686.46 \n",
       "  979.28,689.064 980.889,691.678 982.498,694.299 984.107,696.928 985.715,699.565 987.324,702.209 988.933,704.861 990.542,707.519 992.151,710.184 993.76,712.855 \n",
       "  995.369,715.532 996.978,718.215 998.587,720.904 1000.2,723.598 1001.8,726.296 1003.41,729 1005.02,731.707 1006.63,734.419 1008.24,737.135 1009.85,739.855 \n",
       "  1011.46,742.578 1013.07,745.304 1014.68,748.032 1016.28,750.764 1017.89,753.497 1019.5,756.233 1021.11,758.97 1022.72,761.709 1024.33,764.448 1025.94,767.189 \n",
       "  1027.55,769.93 1029.16,772.672 1030.76,771.24 1032.37,768.499 1033.98,765.758 1035.59,763.017 1037.2,760.278 1038.81,757.54 1040.42,754.804 1042.03,752.069 \n",
       "  1043.64,749.337 1045.24,746.607 1046.85,743.88 1048.46,741.155 1050.07,738.434 1051.68,735.717 1053.29,733.003 1054.9,730.293 1056.51,727.587 1058.12,724.886 \n",
       "  1059.72,722.19 1061.33,719.499 1062.94,716.814 1064.55,714.134 1066.16,711.459 1067.77,708.792 1069.38,706.13 1070.99,703.475 1072.6,700.828 1074.2,698.187 \n",
       "  1075.81,695.554 1077.42,692.929 1079.03,690.312 1080.64,687.703 1082.25,685.103 1083.86,682.511 1085.47,679.929 1087.08,677.356 1088.68,674.792 1090.29,672.239 \n",
       "  1091.9,669.695 1093.51,667.162 1095.12,664.64 1096.73,662.128 1098.34,659.628 1099.95,657.139 1101.56,654.661 1103.16,652.195 1104.77,649.742 1106.38,647.301 \n",
       "  1107.99,644.872 1109.6,642.456 1111.21,640.054 1112.82,637.664 1114.43,635.289 1116.04,632.927 1117.64,630.579 1119.25,628.245 1120.86,625.926 1122.47,623.622 \n",
       "  1124.08,621.332 1125.69,619.058 1127.3,616.799 1128.91,614.556 1130.52,612.329 1132.12,610.118 1133.73,607.923 1135.34,605.744 1136.95,603.583 1138.56,601.438 \n",
       "  1140.17,599.311 1141.78,597.201 1143.39,595.109 1145,593.034 1146.6,590.977 1148.21,588.939 1149.82,586.919 1151.43,584.918 1153.04,582.936 1154.65,580.972 \n",
       "  1156.26,579.028 1157.87,577.104 1159.48,575.199 1161.08,573.313 1162.69,571.448 1164.3,569.603 1165.91,567.778 1167.52,565.974 1169.13,564.191 1170.74,562.429 \n",
       "  1172.35,560.687 1173.96,558.967 1175.56,557.268 1177.17,555.591 1178.78,553.936 1180.39,552.303 1182,550.691 1183.61,549.102 1185.22,547.536 1186.83,545.992 \n",
       "  1188.44,544.471 1190.04,542.972 1191.65,541.497 1193.26,540.045 1194.87,538.616 1196.48,537.211 1198.09,535.829 1199.7,534.471 1201.31,533.137 1202.92,531.827 \n",
       "  1204.52,530.541 1206.13,529.279 1207.74,528.042 1209.35,526.829 1210.96,525.641 1212.57,524.478 1214.18,523.339 1215.79,522.226 1217.4,521.138 1219,520.075 \n",
       "  1220.61,519.037 1222.22,518.024 1223.83,517.038 1225.44,516.076 1227.05,515.141 1228.66,514.231 1230.27,513.348 1231.88,512.49 1233.48,511.658 1235.09,510.853 \n",
       "  1236.7,510.073 1238.31,509.321 1239.92,508.594 1241.53,507.894 1243.14,507.221 1244.75,506.574 1246.36,505.953 1247.96,505.36 1249.57,504.793 1251.18,504.253 \n",
       "  1252.79,503.741 1254.4,503.255 1256.01,502.796 1257.62,502.364 1259.23,501.959 1260.84,501.581 1262.44,501.231 1264.05,500.908 1265.66,500.612 1267.27,500.343 \n",
       "  1268.88,500.101 1270.49,499.887 1272.1,499.7 1273.71,499.541 1275.32,499.409 1276.92,499.304 1278.53,499.227 1280.14,499.177 1281.75,499.155 1283.36,499.16 \n",
       "  1284.97,499.192 1286.58,499.252 1288.19,499.339 1289.8,499.454 1291.4,499.596 1293.01,499.765 1294.62,499.962 1296.23,500.186 1297.84,500.437 1299.45,500.716 \n",
       "  1301.06,501.022 1302.67,501.355 1304.28,501.715 1305.88,502.103 1307.49,502.517 1309.1,502.959 1310.71,503.428 1312.32,503.924 1313.93,504.446 1315.54,504.996 \n",
       "  1317.15,505.572 1318.76,506.175 1320.36,506.805 1321.97,507.462 1323.58,508.145 1325.19,508.855 1326.8,509.591 1328.41,510.353 1330.02,511.142 1331.63,511.957 \n",
       "  1333.24,512.798 1334.84,513.665 1336.45,514.558 1338.06,515.477 1339.67,516.422 1341.28,517.393 1342.89,518.389 1344.5,519.41 1346.11,520.457 1347.72,521.53 \n",
       "  1349.32,522.627 1350.93,523.75 1352.54,524.897 1354.15,526.069 1355.76,527.266 1357.37,528.488 1358.98,529.734 1360.59,531.005 1362.2,532.299 1363.8,533.618 \n",
       "  1365.41,534.961 1367.02,536.328 1368.63,537.718 1370.24,539.132 1371.85,540.569 1373.46,542.03 1375.07,543.513 1376.68,545.02 1378.28,546.55 1379.89,548.102 \n",
       "  1381.5,549.677 1383.11,551.274 1384.72,552.893 1386.33,554.534 1387.94,556.197 1389.55,557.882 1391.16,559.589 1392.76,561.317 1394.37,563.066 1395.98,564.836 \n",
       "  1397.59,566.627 1399.2,568.438 1400.81,570.27 1402.42,572.123 1404.03,573.995 1405.64,575.888 1407.24,577.8 1408.85,579.732 1410.46,581.683 1412.07,583.653 \n",
       "  1413.68,585.642 1415.29,587.65 1416.9,589.677 1418.51,591.722 1420.12,593.785 1421.72,595.866 1423.33,597.965 1424.94,600.081 1426.55,602.215 1428.16,604.365 \n",
       "  1429.77,606.533 1431.38,608.717 1432.99,610.918 1434.6,613.135 1436.2,615.368 1437.81,617.617 1439.42,619.882 1441.03,622.161 1442.64,624.456 1444.25,626.766 \n",
       "  1445.86,629.09 1447.47,631.429 1449.08,633.782 1450.68,636.149 1452.29,638.53 1453.9,640.924 1455.51,643.332 1457.12,645.752 1458.73,648.185 1460.34,650.631 \n",
       "  1461.95,653.089 1463.56,655.559 1465.16,658.041 1466.77,660.534 1468.38,663.038 1469.99,665.554 1471.6,668.08 1473.21,670.617 1474.82,673.165 1476.43,675.722 \n",
       "  1478.04,678.289 1479.64,680.865 1481.25,683.451 1482.86,686.046 1484.47,688.649 1486.08,691.261 1487.69,693.881 1489.3,696.509 1490.91,699.145 1492.52,701.788 \n",
       "  1494.12,704.438 1495.73,707.095 1497.34,709.759 1498.95,712.429 1500.56,715.106 1502.17,717.788 1503.78,720.475 1505.39,723.168 1507,725.866 1508.6,728.569 \n",
       "  1510.21,731.276 1511.82,733.987 1513.43,736.703 1515.04,739.421 1516.65,742.144 1518.26,744.869 1519.87,747.598 1521.48,750.328 1523.08,753.062 1524.69,755.797 \n",
       "  1526.3,758.534 1527.91,761.272 1529.52,764.012 1531.13,766.752 1532.74,769.494 1534.35,772.235 1535.96,771.677 1537.56,768.935 1539.17,766.194 1540.78,763.454 \n",
       "  1542.39,760.714 1544,757.976 1545.61,755.24 1547.22,752.505 1548.83,749.772 1550.44,747.042 1552.04,744.314 1553.65,741.589 1555.26,738.867 1556.87,736.149 \n",
       "  1558.48,733.435 1560.09,730.724 1561.7,728.018 1563.31,725.316 1564.92,722.619 1566.52,719.927 1568.13,717.241 1569.74,714.56 1571.35,711.885 1572.96,709.216 \n",
       "  1574.57,706.554 1576.18,703.898 1577.79,701.249 1579.4,698.607 1581,695.973 1582.61,693.347 1584.22,690.728 1585.83,688.118 1587.44,685.516 1589.05,682.923 \n",
       "  1590.66,680.34 1592.27,677.765 1593.88,675.2 1595.48,672.645 1597.09,670.1 1598.7,667.565 1600.31,665.041 1601.92,662.527 1603.53,660.025 1605.14,657.534 \n",
       "  1606.75,655.055 1608.36,652.587 1609.96,650.132 1611.57,647.689 1613.18,645.258 1614.79,642.84 1616.4,640.435 1618.01,638.044 1619.62,635.666 1621.23,633.302 \n",
       "  1622.84,630.952 1624.44,628.616 1626.05,626.294 1627.66,623.988 1629.27,621.696 1630.88,619.419 1632.49,617.158 1634.1,614.912 1635.71,612.682 1637.32,610.469 \n",
       "  1638.92,608.271 1640.53,606.09 1642.14,603.926 1643.75,601.779 1645.36,599.649 1646.97,597.536 1648.58,595.441 1650.19,593.363 1651.8,591.304 1653.4,589.263 \n",
       "  1655.01,587.24 1656.62,585.236 1658.23,583.25 1659.84,581.284 1661.45,579.337 1663.06,577.409 1664.67,575.501 1666.28,573.612 1667.88,571.744 1669.49,569.896 \n",
       "  1671.1,568.068 1672.71,566.26 1674.32,564.474 1675.93,562.708 1677.54,560.963 1679.15,559.24 1680.76,557.537 1682.36,555.857 1683.97,554.198 1685.58,552.561 \n",
       "  1687.19,550.947 1688.8,549.354 1690.41,547.784 1692.02,546.236 1693.63,544.711 1695.24,543.209 1696.84,541.73 1698.45,540.275 1700.06,538.842 1701.67,537.433 \n",
       "  1703.28,536.047 1704.89,534.686 1706.5,533.348 1708.11,532.034 1709.72,530.744 1711.32,529.478 1712.93,528.237 1714.54,527.021 1716.15,525.829 1717.76,524.661 \n",
       "  1719.37,523.519 1720.98,522.402 1722.59,521.309 1724.2,520.242 1725.8,519.2 1727.41,518.184 1729.02,517.193 1730.63,516.228 1732.24,515.288 1733.85,514.374 \n",
       "  1735.46,513.487 1737.07,512.625 1738.68,511.789 1740.28,510.979 1741.89,510.196 1743.5,509.439 1745.11,508.708 1746.72,508.004 1748.33,507.326 1749.94,506.675 \n",
       "  1751.55,506.05 1753.16,505.453 1754.76,504.882 1756.37,504.338 1757.98,503.82 1759.59,503.33 1761.2,502.867 1762.81,502.431 1764.42,502.022 1766.03,501.64 \n",
       "  1767.64,501.285 1769.24,500.957 1770.85,500.657 1772.46,500.384 1774.07,500.138 1775.68,499.919 1777.29,499.728 1778.9,499.564 1780.51,499.428 1782.12,499.319 \n",
       "  1783.72,499.237 1785.33,499.183 1786.94,499.156 1788.55,499.157 1790.16,499.185 1791.77,499.24 1793.38,499.323 1794.99,499.434 1796.6,499.571 1798.2,499.736 \n",
       "  1799.81,499.929 1801.42,500.148 1803.03,500.395 1804.64,500.67 1806.25,500.971 1807.86,501.3 1809.47,501.656 1811.08,502.039 1812.68,502.45 1814.29,502.887 \n",
       "  1815.9,503.351 1817.51,503.843 1819.12,504.361 1820.73,504.907 1822.34,505.479 1823.95,506.078 1825.56,506.703 1827.16,507.356 1828.77,508.034 1830.38,508.74 \n",
       "  1831.99,509.472 1833.6,510.23 1835.21,511.015 1836.82,511.825 1838.43,512.662 1840.04,513.525 1841.64,514.414 1843.25,515.329 1844.86,516.27 1846.47,517.236 \n",
       "  1848.08,518.229 1849.69,519.246 1851.3,520.289 1852.91,521.357 1854.52,522.451 1856.12,523.569 1857.73,524.713 1859.34,525.881 1860.95,527.074 1862.56,528.292 \n",
       "  1864.17,529.534 1865.78,530.801 1867.39,532.092 1869,533.407 1870.6,534.746 1872.21,536.108 1873.82,537.495 1875.43,538.905 1877.04,540.339 1878.65,541.796 \n",
       "  1880.26,543.276 1881.87,544.779 1883.48,546.305 1885.08,547.853 1886.69,549.424 1888.3,551.018 1889.91,552.634 1891.52,554.271 1893.13,555.931 1894.74,557.613 \n",
       "  1896.35,559.316 1897.96,561.04 1899.56,562.786 1901.17,564.553 1902.78,566.34 1904.39,568.148 1906,569.977 1907.61,571.826 1909.22,573.696 1910.83,575.585 \n",
       "  1912.44,577.494 1914.04,579.423 1915.65,581.371 1917.26,583.338 1918.87,585.324 1920.48,587.329 1922.09,589.353 1923.7,591.395 1925.31,593.455 1926.92,595.533 \n",
       "  1928.52,597.629 1930.13,599.743 1931.74,601.874 1933.35,604.022 1934.96,606.187 1936.57,608.368 1938.18,610.567 1939.79,612.781 1941.4,615.012 1943,617.258 \n",
       "  1944.61,619.52 1946.22,621.797 1947.83,624.09 1949.44,626.397 1951.05,628.719 1952.66,631.056 1954.27,633.407 1955.88,635.771 1957.48,638.15 1959.09,640.542 \n",
       "  1960.7,642.947 1962.31,645.366 1963.92,647.797 1965.53,650.241 1967.14,652.697 1968.75,655.165 1970.36,657.645 1971.96,660.136 1973.57,662.639 1975.18,665.153 \n",
       "  1976.79,667.677 1978.4,670.213 1980.01,672.758 1981.62,675.314 1983.23,677.879 1984.84,680.454 1986.44,683.038 1988.05,685.632 1989.66,688.234 1991.27,690.844 \n",
       "  1992.88,693.463 1994.49,696.09 1996.1,698.724 1997.71,701.366 1999.32,704.016 2000.92,706.672 2002.53,709.334 2004.14,712.004 2005.75,714.679 2007.36,717.36 \n",
       "  2008.97,720.047 2010.58,722.739 2012.19,725.436 2013.8,728.138 2015.4,730.844 2017.01,733.555 2018.62,736.27 2020.23,738.988 2021.84,741.71 2023.45,744.435 \n",
       "  2025.06,747.163 2026.67,749.893 2028.28,752.626 2029.88,755.361 2031.49,758.098 2033.1,760.836 2034.71,763.576 2036.32,766.316 2037.93,769.057 2039.54,771.799 \n",
       "  2041.15,772.114 2042.76,769.372 2044.36,766.631 2045.97,763.89 2047.58,761.151 2049.19,758.412 2050.8,755.675 2052.41,752.94 2054.02,750.207 2055.63,747.476 \n",
       "  2057.24,744.748 2058.84,742.023 2060.45,739.301 2062.06,736.582 2063.67,733.867 2065.28,731.156 2066.89,728.449 2068.5,725.746 2070.11,723.048 2071.72,720.356 \n",
       "  2073.32,717.668 2074.93,714.987 2076.54,712.311 2078.15,709.641 2079.76,706.977 2081.37,704.32 2082.98,701.67 2084.59,699.027 2086.2,696.392 2087.8,693.764 \n",
       "  2089.41,691.145 2091.02,688.533 2092.63,685.93 2094.24,683.336 2095.85,680.751 2097.46,678.174 2099.07,675.608 2100.68,673.051 2102.28,670.504 2103.89,667.968 \n",
       "  2105.5,665.442 2107.11,662.927 2108.72,660.423 2110.33,657.93 2111.94,655.449 2113.55,652.979 2115.16,650.522 2116.76,648.077 2118.37,645.644 2119.98,643.224 \n",
       "  2121.59,640.818 2123.2,638.424 2124.81,636.044 2126.42,633.677 2128.03,631.325 2129.64,628.987 2131.24,626.663 2132.85,624.354 2134.46,622.06 2136.07,619.781 \n",
       "  2137.68,617.517 2139.29,615.269 2140.9,613.036 2142.51,610.82 2144.12,608.62 2145.72,606.436 2147.33,604.269 2148.94,602.119 2150.55,599.987 2152.16,597.871 \n",
       "  2153.77,595.773 2155.38,593.693 2156.99,591.631 2158.6,589.586 2160.2,587.561 2161.81,585.554 2163.42,583.565 2165.03,581.596 2166.64,579.645 2168.25,577.715 \n",
       "  2169.86,575.803 2171.47,573.912 2173.08,572.04 2174.68,570.189 2176.29,568.357 2177.9,566.547 2179.51,564.757 2181.12,562.988 2182.73,561.24 2184.34,559.513 \n",
       "  2185.95,557.807 2187.56,556.123 2189.16,554.461 2190.77,552.821 2192.38,551.202 2193.99,549.606 2195.6,548.032 2197.21,546.481 2198.82,544.953 2200.43,543.447 \n",
       "  2202.04,541.964 2203.64,540.505 2205.25,539.069 2206.86,537.656 2208.47,536.266 2210.08,534.901 2211.69,533.559 2213.3,532.241 2214.91,530.948 2216.52,529.678 \n",
       "  2218.12,528.433 2219.73,527.213 2221.34,526.017 2222.95,524.846 2224.56,523.699 2226.17,522.578 2227.78,521.482 2229.39,520.41 2231,519.365 2232.6,518.344 \n",
       "  2234.21,517.349 2235.82,516.38 2237.43,515.436 2239.04,514.518 2240.65,513.626 2242.26,512.76 2243.87,511.92 2245.48,511.106 2247.08,510.319 2248.69,509.558 \n",
       "  2250.3,508.823 2251.91,508.114 2253.52,507.432 2255.13,506.777 2256.74,506.148 2258.35,505.546 2259.96,504.971 2261.56,504.423 2263.17,503.901 2264.78,503.406 \n",
       "  2266.39,502.939 2268,502.498 2269.61,502.085 2271.22,501.699 2272.83,501.34 2274.44,501.008 2276.04,500.703 2277.65,500.425 2279.26,500.175 2280.87,499.952 \n",
       "  2282.48,499.757 2284.09,499.589 2285.7,499.448 2287.31,499.335 2288.92,499.249 2290.52,499.19 2292.13,499.159 \n",
       "  \"/>\n",
       "<path clip-path=\"url(#clip670)\" d=\"\n",
       "M2020.18 322.316 L2281.36 322.316 L2281.36 166.796 L2020.18 166.796  Z\n",
       "  \" fill=\"#ffffff\" fill-rule=\"evenodd\" fill-opacity=\"1\"/>\n",
       "<polyline clip-path=\"url(#clip670)\" style=\"stroke:#000000; stroke-linecap:butt; stroke-linejoin:round; stroke-width:4; stroke-opacity:1; fill:none\" points=\"\n",
       "  2020.18,322.316 2281.36,322.316 2281.36,166.796 2020.18,166.796 2020.18,322.316 \n",
       "  \"/>\n",
       "<polyline clip-path=\"url(#clip670)\" style=\"stroke:#ff0000; stroke-linecap:butt; stroke-linejoin:round; stroke-width:4; stroke-opacity:1; fill:none\" stroke-dasharray=\"16, 10\" points=\"\n",
       "  2043.98,218.636 2186.78,218.636 \n",
       "  \"/>\n",
       "<path clip-path=\"url(#clip670)\" d=\"M2227.09 199.897 L2227.09 203.439 L2223.01 203.439 Q2220.72 203.439 2219.82 204.365 Q2218.94 205.291 2218.94 207.698 L2218.94 209.99 L2225.95 209.99 L2225.95 213.3 L2218.94 213.3 L2218.94 235.916 L2214.66 235.916 L2214.66 213.3 L2210.58 213.3 L2210.58 209.99 L2214.66 209.99 L2214.66 208.184 Q2214.66 203.856 2216.67 201.888 Q2218.69 199.897 2223.06 199.897 L2227.09 199.897 Z\" fill=\"#000000\" fill-rule=\"evenodd\" fill-opacity=\"1\" /><polyline clip-path=\"url(#clip670)\" style=\"stroke:#0000ff; stroke-linecap:butt; stroke-linejoin:round; stroke-width:4; stroke-opacity:1; fill:none\" points=\"\n",
       "  2043.98,270.476 2186.78,270.476 \n",
       "  \"/>\n",
       "<path clip-path=\"url(#clip670)\" d=\"M2229.5 274.492 Q2229.5 269.862 2227.57 267.316 Q2225.68 264.77 2222.23 264.77 Q2218.8 264.77 2216.88 267.316 Q2214.98 269.862 2214.98 274.492 Q2214.98 279.098 2216.88 281.645 Q2218.8 284.191 2222.23 284.191 Q2225.68 284.191 2227.57 281.645 Q2229.5 279.098 2229.5 274.492 M2233.76 284.538 Q2233.76 291.158 2230.82 294.376 Q2227.88 297.617 2221.81 297.617 Q2219.57 297.617 2217.57 297.27 Q2215.58 296.945 2213.71 296.251 L2213.71 292.108 Q2215.58 293.126 2217.41 293.612 Q2219.24 294.098 2221.14 294.098 Q2225.33 294.098 2227.41 291.899 Q2229.5 289.723 2229.5 285.302 L2229.5 283.196 Q2228.18 285.487 2226.12 286.621 Q2224.06 287.756 2221.19 287.756 Q2216.42 287.756 2213.5 284.121 Q2210.58 280.487 2210.58 274.492 Q2210.58 268.473 2213.5 264.839 Q2216.42 261.205 2221.19 261.205 Q2224.06 261.205 2226.12 262.339 Q2228.18 263.473 2229.5 265.765 L2229.5 261.83 L2233.76 261.83 L2233.76 284.538 Z\" fill=\"#000000\" fill-rule=\"evenodd\" fill-opacity=\"1\" /></svg>\n"
      ]
     },
     "execution_count": 29,
     "metadata": {},
     "output_type": "execute_result"
    }
   ],
   "source": [
    "# importamos el paquete Plots.\n",
    "using Plots\n",
    "using LaTeXStrings # Esto sirve para incorporar LaTeX al gráfico (ej. en ejes, leyendas, etc.).\n",
    "# Definimos un rango de valores que comienza en -π, va de a pasos 0.01 y termina en π.\n",
    "x = -π:0.01:π\n",
    "# Definimos la función que queremos plotear en dicho rango\n",
    "f(x) = cos(x) + 2.0*sin(x)\n",
    "# Usando broadcasting (i.e. poniendo un punto detras del nombre de la función), aplicamos la función \"f\"\n",
    "# al rango previamente definido \"x\" para crear un vector \"y\".\n",
    "y = f.(x)\n",
    "# Ploteamos los valores de y vs x, usando una linea punteada de color rojo, ancho 2.5 y leyenda \"f\".\n",
    ".6plot(x,y,linestyle=:dash,linecolor=:red,linewidth=2.5,label=\"f\")\n",
    "# Agregamos al plot (por eso usamos plot! en vez de plot) título y nombres a los ejes.\n",
    "plot!(xlabel=L\"x\",ylabel=L\"y\",title=\"Gráfico ejemplo.\")\n",
    "# Definimos otra curva\n",
    "x = -2π:0.01:2π\n",
    "g(x) = abs(cos(x))\n",
    "y = g.(x)\n",
    "# y la agregamos al gráfico.\n",
    "plot!(x,y,linestyle=:solid,linecolor=:blue,linewidth=2.5,label=\"g\")"
   ]
  },
  {
   "cell_type": "code",
   "execution_count": 80,
   "metadata": {},
   "outputs": [
    {
     "data": {
      "image/svg+xml": [
       "<?xml version=\"1.0\" encoding=\"utf-8\"?>\n",
       "<svg xmlns=\"http://www.w3.org/2000/svg\" xmlns:xlink=\"http://www.w3.org/1999/xlink\" width=\"600\" height=\"400\" viewBox=\"0 0 2400 1600\">\n",
       "<defs>\n",
       "  <clipPath id=\"clip190\">\n",
       "    <rect x=\"0\" y=\"0\" width=\"2400\" height=\"1600\"/>\n",
       "  </clipPath>\n",
       "</defs>\n",
       "<path clip-path=\"url(#clip190)\" d=\"\n",
       "M0 1600 L2400 1600 L2400 0 L0 0  Z\n",
       "  \" fill=\"#ffffff\" fill-rule=\"evenodd\" fill-opacity=\"1\"/>\n",
       "<defs>\n",
       "  <clipPath id=\"clip191\">\n",
       "    <rect x=\"480\" y=\"0\" width=\"1681\" height=\"1600\"/>\n",
       "  </clipPath>\n",
       "</defs>\n",
       "<path clip-path=\"url(#clip190)\" d=\"\n",
       "M140.696 1486.45 L2352.76 1486.45 L2352.76 47.2441 L140.696 47.2441  Z\n",
       "  \" fill=\"#ffffff\" fill-rule=\"evenodd\" fill-opacity=\"1\"/>\n",
       "<defs>\n",
       "  <clipPath id=\"clip192\">\n",
       "    <rect x=\"140\" y=\"47\" width=\"2213\" height=\"1440\"/>\n",
       "  </clipPath>\n",
       "</defs>\n",
       "<polyline clip-path=\"url(#clip192)\" style=\"stroke:#000000; stroke-linecap:butt; stroke-linejoin:round; stroke-width:2; stroke-opacity:0.1; fill:none\" points=\"\n",
       "  203.301,1486.45 203.301,47.2441 \n",
       "  \"/>\n",
       "<polyline clip-path=\"url(#clip192)\" style=\"stroke:#000000; stroke-linecap:butt; stroke-linejoin:round; stroke-width:2; stroke-opacity:0.1; fill:none\" points=\"\n",
       "  551.109,1486.45 551.109,47.2441 \n",
       "  \"/>\n",
       "<polyline clip-path=\"url(#clip192)\" style=\"stroke:#000000; stroke-linecap:butt; stroke-linejoin:round; stroke-width:2; stroke-opacity:0.1; fill:none\" points=\"\n",
       "  898.917,1486.45 898.917,47.2441 \n",
       "  \"/>\n",
       "<polyline clip-path=\"url(#clip192)\" style=\"stroke:#000000; stroke-linecap:butt; stroke-linejoin:round; stroke-width:2; stroke-opacity:0.1; fill:none\" points=\"\n",
       "  1246.73,1486.45 1246.73,47.2441 \n",
       "  \"/>\n",
       "<polyline clip-path=\"url(#clip192)\" style=\"stroke:#000000; stroke-linecap:butt; stroke-linejoin:round; stroke-width:2; stroke-opacity:0.1; fill:none\" points=\"\n",
       "  1594.53,1486.45 1594.53,47.2441 \n",
       "  \"/>\n",
       "<polyline clip-path=\"url(#clip192)\" style=\"stroke:#000000; stroke-linecap:butt; stroke-linejoin:round; stroke-width:2; stroke-opacity:0.1; fill:none\" points=\"\n",
       "  1942.34,1486.45 1942.34,47.2441 \n",
       "  \"/>\n",
       "<polyline clip-path=\"url(#clip192)\" style=\"stroke:#000000; stroke-linecap:butt; stroke-linejoin:round; stroke-width:2; stroke-opacity:0.1; fill:none\" points=\"\n",
       "  2290.15,1486.45 2290.15,47.2441 \n",
       "  \"/>\n",
       "<polyline clip-path=\"url(#clip190)\" style=\"stroke:#000000; stroke-linecap:butt; stroke-linejoin:round; stroke-width:4; stroke-opacity:1; fill:none\" points=\"\n",
       "  140.696,1486.45 2352.76,1486.45 \n",
       "  \"/>\n",
       "<polyline clip-path=\"url(#clip190)\" style=\"stroke:#000000; stroke-linecap:butt; stroke-linejoin:round; stroke-width:4; stroke-opacity:1; fill:none\" points=\"\n",
       "  203.301,1486.45 203.301,1467.55 \n",
       "  \"/>\n",
       "<polyline clip-path=\"url(#clip190)\" style=\"stroke:#000000; stroke-linecap:butt; stroke-linejoin:round; stroke-width:4; stroke-opacity:1; fill:none\" points=\"\n",
       "  551.109,1486.45 551.109,1467.55 \n",
       "  \"/>\n",
       "<polyline clip-path=\"url(#clip190)\" style=\"stroke:#000000; stroke-linecap:butt; stroke-linejoin:round; stroke-width:4; stroke-opacity:1; fill:none\" points=\"\n",
       "  898.917,1486.45 898.917,1467.55 \n",
       "  \"/>\n",
       "<polyline clip-path=\"url(#clip190)\" style=\"stroke:#000000; stroke-linecap:butt; stroke-linejoin:round; stroke-width:4; stroke-opacity:1; fill:none\" points=\"\n",
       "  1246.73,1486.45 1246.73,1467.55 \n",
       "  \"/>\n",
       "<polyline clip-path=\"url(#clip190)\" style=\"stroke:#000000; stroke-linecap:butt; stroke-linejoin:round; stroke-width:4; stroke-opacity:1; fill:none\" points=\"\n",
       "  1594.53,1486.45 1594.53,1467.55 \n",
       "  \"/>\n",
       "<polyline clip-path=\"url(#clip190)\" style=\"stroke:#000000; stroke-linecap:butt; stroke-linejoin:round; stroke-width:4; stroke-opacity:1; fill:none\" points=\"\n",
       "  1942.34,1486.45 1942.34,1467.55 \n",
       "  \"/>\n",
       "<polyline clip-path=\"url(#clip190)\" style=\"stroke:#000000; stroke-linecap:butt; stroke-linejoin:round; stroke-width:4; stroke-opacity:1; fill:none\" points=\"\n",
       "  2290.15,1486.45 2290.15,1467.55 \n",
       "  \"/>\n",
       "<path clip-path=\"url(#clip190)\" d=\"M203.301 1517.37 Q199.69 1517.37 197.861 1520.93 Q196.056 1524.47 196.056 1531.6 Q196.056 1538.71 197.861 1542.27 Q199.69 1545.82 203.301 1545.82 Q206.935 1545.82 208.741 1542.27 Q210.57 1538.71 210.57 1531.6 Q210.57 1524.47 208.741 1520.93 Q206.935 1517.37 203.301 1517.37 M203.301 1513.66 Q209.111 1513.66 212.167 1518.27 Q215.245 1522.85 215.245 1531.6 Q215.245 1540.33 212.167 1544.94 Q209.111 1549.52 203.301 1549.52 Q197.491 1549.52 194.412 1544.94 Q191.357 1540.33 191.357 1531.6 Q191.357 1522.85 194.412 1518.27 Q197.491 1513.66 203.301 1513.66 Z\" fill=\"#000000\" fill-rule=\"evenodd\" fill-opacity=\"1\" /><path clip-path=\"url(#clip190)\" d=\"M541.491 1544.91 L549.13 1544.91 L549.13 1518.55 L540.82 1520.21 L540.82 1515.95 L549.084 1514.29 L553.76 1514.29 L553.76 1544.91 L561.399 1544.91 L561.399 1548.85 L541.491 1548.85 L541.491 1544.91 Z\" fill=\"#000000\" fill-rule=\"evenodd\" fill-opacity=\"1\" /><path clip-path=\"url(#clip190)\" d=\"M893.57 1544.91 L909.89 1544.91 L909.89 1548.85 L887.945 1548.85 L887.945 1544.91 Q890.607 1542.16 895.191 1537.53 Q899.797 1532.88 900.978 1531.53 Q903.223 1529.01 904.103 1527.27 Q905.005 1525.51 905.005 1523.82 Q905.005 1521.07 903.061 1519.33 Q901.14 1517.6 898.038 1517.6 Q895.839 1517.6 893.385 1518.36 Q890.955 1519.13 888.177 1520.68 L888.177 1515.95 Q891.001 1514.82 893.455 1514.24 Q895.908 1513.66 897.945 1513.66 Q903.316 1513.66 906.51 1516.35 Q909.704 1519.03 909.704 1523.52 Q909.704 1525.65 908.894 1527.57 Q908.107 1529.47 906.001 1532.07 Q905.422 1532.74 902.32 1535.95 Q899.218 1539.15 893.57 1544.91 Z\" fill=\"#000000\" fill-rule=\"evenodd\" fill-opacity=\"1\" /><path clip-path=\"url(#clip190)\" d=\"M1250.97 1530.21 Q1254.33 1530.93 1256.2 1533.2 Q1258.1 1535.47 1258.1 1538.8 Q1258.1 1543.92 1254.58 1546.72 Q1251.07 1549.52 1244.58 1549.52 Q1242.41 1549.52 1240.09 1549.08 Q1237.8 1548.66 1235.35 1547.81 L1235.35 1543.29 Q1237.29 1544.43 1239.61 1545.01 Q1241.92 1545.58 1244.45 1545.58 Q1248.84 1545.58 1251.14 1543.85 Q1253.45 1542.11 1253.45 1538.8 Q1253.45 1535.75 1251.3 1534.03 Q1249.17 1532.3 1245.35 1532.3 L1241.32 1532.3 L1241.32 1528.45 L1245.53 1528.45 Q1248.98 1528.45 1250.81 1527.09 Q1252.64 1525.7 1252.64 1523.11 Q1252.64 1520.45 1250.74 1519.03 Q1248.87 1517.6 1245.35 1517.6 Q1243.43 1517.6 1241.23 1518.01 Q1239.03 1518.43 1236.39 1519.31 L1236.39 1515.14 Q1239.05 1514.4 1241.37 1514.03 Q1243.7 1513.66 1245.77 1513.66 Q1251.09 1513.66 1254.19 1516.09 Q1257.29 1518.5 1257.29 1522.62 Q1257.29 1525.49 1255.65 1527.48 Q1254.01 1529.45 1250.97 1530.21 Z\" fill=\"#000000\" fill-rule=\"evenodd\" fill-opacity=\"1\" /><path clip-path=\"url(#clip190)\" d=\"M1597.54 1518.36 L1585.74 1536.81 L1597.54 1536.81 L1597.54 1518.36 M1596.32 1514.29 L1602.2 1514.29 L1602.2 1536.81 L1607.13 1536.81 L1607.13 1540.7 L1602.2 1540.7 L1602.2 1548.85 L1597.54 1548.85 L1597.54 1540.7 L1581.94 1540.7 L1581.94 1536.19 L1596.32 1514.29 Z\" fill=\"#000000\" fill-rule=\"evenodd\" fill-opacity=\"1\" /><path clip-path=\"url(#clip190)\" d=\"M1932.62 1514.29 L1950.98 1514.29 L1950.98 1518.22 L1936.9 1518.22 L1936.9 1526.7 Q1937.92 1526.35 1938.94 1526.19 Q1939.96 1526 1940.98 1526 Q1946.76 1526 1950.14 1529.17 Q1953.52 1532.34 1953.52 1537.76 Q1953.52 1543.34 1950.05 1546.44 Q1946.58 1549.52 1940.26 1549.52 Q1938.08 1549.52 1935.81 1549.15 Q1933.57 1548.78 1931.16 1548.04 L1931.16 1543.34 Q1933.25 1544.47 1935.47 1545.03 Q1937.69 1545.58 1940.17 1545.58 Q1944.17 1545.58 1946.51 1543.48 Q1948.85 1541.37 1948.85 1537.76 Q1948.85 1534.15 1946.51 1532.04 Q1944.17 1529.94 1940.17 1529.94 Q1938.29 1529.94 1936.42 1530.35 Q1934.56 1530.77 1932.62 1531.65 L1932.62 1514.29 Z\" fill=\"#000000\" fill-rule=\"evenodd\" fill-opacity=\"1\" /><path clip-path=\"url(#clip190)\" d=\"M2290.56 1529.7 Q2287.41 1529.7 2285.56 1531.86 Q2283.73 1534.01 2283.73 1537.76 Q2283.73 1541.49 2285.56 1543.66 Q2287.41 1545.82 2290.56 1545.82 Q2293.7 1545.82 2295.53 1543.66 Q2297.38 1541.49 2297.38 1537.76 Q2297.38 1534.01 2295.53 1531.86 Q2293.7 1529.7 2290.56 1529.7 M2299.84 1515.05 L2299.84 1519.31 Q2298.08 1518.48 2296.27 1518.04 Q2294.49 1517.6 2292.73 1517.6 Q2288.1 1517.6 2285.65 1520.72 Q2283.22 1523.85 2282.87 1530.17 Q2284.24 1528.15 2286.3 1527.09 Q2288.36 1526 2290.83 1526 Q2296.04 1526 2299.05 1529.17 Q2302.08 1532.32 2302.08 1537.76 Q2302.08 1543.08 2298.94 1546.3 Q2295.79 1549.52 2290.56 1549.52 Q2284.56 1549.52 2281.39 1544.94 Q2278.22 1540.33 2278.22 1531.6 Q2278.22 1523.41 2282.11 1518.55 Q2286 1513.66 2292.55 1513.66 Q2294.31 1513.66 2296.09 1514.01 Q2297.89 1514.36 2299.84 1515.05 Z\" fill=\"#000000\" fill-rule=\"evenodd\" fill-opacity=\"1\" /><polyline clip-path=\"url(#clip192)\" style=\"stroke:#000000; stroke-linecap:butt; stroke-linejoin:round; stroke-width:2; stroke-opacity:0.1; fill:none\" points=\"\n",
       "  140.696,1486.45 2352.76,1486.45 \n",
       "  \"/>\n",
       "<polyline clip-path=\"url(#clip192)\" style=\"stroke:#000000; stroke-linecap:butt; stroke-linejoin:round; stroke-width:2; stroke-opacity:0.1; fill:none\" points=\"\n",
       "  140.696,1280.85 2352.76,1280.85 \n",
       "  \"/>\n",
       "<polyline clip-path=\"url(#clip192)\" style=\"stroke:#000000; stroke-linecap:butt; stroke-linejoin:round; stroke-width:2; stroke-opacity:0.1; fill:none\" points=\"\n",
       "  140.696,1075.25 2352.76,1075.25 \n",
       "  \"/>\n",
       "<polyline clip-path=\"url(#clip192)\" style=\"stroke:#000000; stroke-linecap:butt; stroke-linejoin:round; stroke-width:2; stroke-opacity:0.1; fill:none\" points=\"\n",
       "  140.696,869.646 2352.76,869.646 \n",
       "  \"/>\n",
       "<polyline clip-path=\"url(#clip192)\" style=\"stroke:#000000; stroke-linecap:butt; stroke-linejoin:round; stroke-width:2; stroke-opacity:0.1; fill:none\" points=\"\n",
       "  140.696,664.046 2352.76,664.046 \n",
       "  \"/>\n",
       "<polyline clip-path=\"url(#clip192)\" style=\"stroke:#000000; stroke-linecap:butt; stroke-linejoin:round; stroke-width:2; stroke-opacity:0.1; fill:none\" points=\"\n",
       "  140.696,458.445 2352.76,458.445 \n",
       "  \"/>\n",
       "<polyline clip-path=\"url(#clip192)\" style=\"stroke:#000000; stroke-linecap:butt; stroke-linejoin:round; stroke-width:2; stroke-opacity:0.1; fill:none\" points=\"\n",
       "  140.696,252.845 2352.76,252.845 \n",
       "  \"/>\n",
       "<polyline clip-path=\"url(#clip192)\" style=\"stroke:#000000; stroke-linecap:butt; stroke-linejoin:round; stroke-width:2; stroke-opacity:0.1; fill:none\" points=\"\n",
       "  140.696,47.2441 2352.76,47.2441 \n",
       "  \"/>\n",
       "<polyline clip-path=\"url(#clip190)\" style=\"stroke:#000000; stroke-linecap:butt; stroke-linejoin:round; stroke-width:4; stroke-opacity:1; fill:none\" points=\"\n",
       "  140.696,1486.45 140.696,47.2441 \n",
       "  \"/>\n",
       "<polyline clip-path=\"url(#clip190)\" style=\"stroke:#000000; stroke-linecap:butt; stroke-linejoin:round; stroke-width:4; stroke-opacity:1; fill:none\" points=\"\n",
       "  140.696,1486.45 159.593,1486.45 \n",
       "  \"/>\n",
       "<polyline clip-path=\"url(#clip190)\" style=\"stroke:#000000; stroke-linecap:butt; stroke-linejoin:round; stroke-width:4; stroke-opacity:1; fill:none\" points=\"\n",
       "  140.696,1280.85 159.593,1280.85 \n",
       "  \"/>\n",
       "<polyline clip-path=\"url(#clip190)\" style=\"stroke:#000000; stroke-linecap:butt; stroke-linejoin:round; stroke-width:4; stroke-opacity:1; fill:none\" points=\"\n",
       "  140.696,1075.25 159.593,1075.25 \n",
       "  \"/>\n",
       "<polyline clip-path=\"url(#clip190)\" style=\"stroke:#000000; stroke-linecap:butt; stroke-linejoin:round; stroke-width:4; stroke-opacity:1; fill:none\" points=\"\n",
       "  140.696,869.646 159.593,869.646 \n",
       "  \"/>\n",
       "<polyline clip-path=\"url(#clip190)\" style=\"stroke:#000000; stroke-linecap:butt; stroke-linejoin:round; stroke-width:4; stroke-opacity:1; fill:none\" points=\"\n",
       "  140.696,664.046 159.593,664.046 \n",
       "  \"/>\n",
       "<polyline clip-path=\"url(#clip190)\" style=\"stroke:#000000; stroke-linecap:butt; stroke-linejoin:round; stroke-width:4; stroke-opacity:1; fill:none\" points=\"\n",
       "  140.696,458.445 159.593,458.445 \n",
       "  \"/>\n",
       "<polyline clip-path=\"url(#clip190)\" style=\"stroke:#000000; stroke-linecap:butt; stroke-linejoin:round; stroke-width:4; stroke-opacity:1; fill:none\" points=\"\n",
       "  140.696,252.845 159.593,252.845 \n",
       "  \"/>\n",
       "<polyline clip-path=\"url(#clip190)\" style=\"stroke:#000000; stroke-linecap:butt; stroke-linejoin:round; stroke-width:4; stroke-opacity:1; fill:none\" points=\"\n",
       "  140.696,47.2441 159.593,47.2441 \n",
       "  \"/>\n",
       "<path clip-path=\"url(#clip190)\" d=\"M92.7512 1472.25 Q89.1401 1472.25 87.3114 1475.81 Q85.5058 1479.35 85.5058 1486.48 Q85.5058 1493.59 87.3114 1497.15 Q89.1401 1500.7 92.7512 1500.7 Q96.3854 1500.7 98.1909 1497.15 Q100.02 1493.59 100.02 1486.48 Q100.02 1479.35 98.1909 1475.81 Q96.3854 1472.25 92.7512 1472.25 M92.7512 1468.54 Q98.5613 1468.54 101.617 1473.15 Q104.696 1477.73 104.696 1486.48 Q104.696 1495.21 101.617 1499.82 Q98.5613 1504.4 92.7512 1504.4 Q86.941 1504.4 83.8623 1499.82 Q80.8068 1495.21 80.8068 1486.48 Q80.8068 1477.73 83.8623 1473.15 Q86.941 1468.54 92.7512 1468.54 Z\" fill=\"#000000\" fill-rule=\"evenodd\" fill-opacity=\"1\" /><path clip-path=\"url(#clip190)\" d=\"M83.7929 1263.57 L102.149 1263.57 L102.149 1267.5 L88.0753 1267.5 L88.0753 1275.97 Q89.0938 1275.63 90.1123 1275.47 Q91.1308 1275.28 92.1493 1275.28 Q97.9363 1275.28 101.316 1278.45 Q104.696 1281.62 104.696 1287.04 Q104.696 1292.62 101.223 1295.72 Q97.7511 1298.8 91.4317 1298.8 Q89.2558 1298.8 86.9873 1298.43 Q84.7419 1298.06 82.3346 1297.32 L82.3346 1292.62 Q84.4179 1293.75 86.6401 1294.31 Q88.8623 1294.86 91.3391 1294.86 Q95.3437 1294.86 97.6817 1292.76 Q100.02 1290.65 100.02 1287.04 Q100.02 1283.43 97.6817 1281.32 Q95.3437 1279.22 91.3391 1279.22 Q89.4641 1279.22 87.5892 1279.63 Q85.7373 1280.05 83.7929 1280.93 L83.7929 1263.57 Z\" fill=\"#000000\" fill-rule=\"evenodd\" fill-opacity=\"1\" /><path clip-path=\"url(#clip190)\" d=\"M53.3995 1088.59 L61.0384 1088.59 L61.0384 1062.23 L52.7282 1063.89 L52.7282 1059.63 L60.9921 1057.97 L65.668 1057.97 L65.668 1088.59 L73.3068 1088.59 L73.3068 1092.53 L53.3995 1092.53 L53.3995 1088.59 Z\" fill=\"#000000\" fill-rule=\"evenodd\" fill-opacity=\"1\" /><path clip-path=\"url(#clip190)\" d=\"M92.7512 1061.05 Q89.1401 1061.05 87.3114 1064.61 Q85.5058 1068.15 85.5058 1075.28 Q85.5058 1082.39 87.3114 1085.95 Q89.1401 1089.49 92.7512 1089.49 Q96.3854 1089.49 98.1909 1085.95 Q100.02 1082.39 100.02 1075.28 Q100.02 1068.15 98.1909 1064.61 Q96.3854 1061.05 92.7512 1061.05 M92.7512 1057.34 Q98.5613 1057.34 101.617 1061.95 Q104.696 1066.53 104.696 1075.28 Q104.696 1084.01 101.617 1088.61 Q98.5613 1093.2 92.7512 1093.2 Q86.941 1093.2 83.8623 1088.61 Q80.8068 1084.01 80.8068 1075.28 Q80.8068 1066.53 83.8623 1061.95 Q86.941 1057.34 92.7512 1057.34 Z\" fill=\"#000000\" fill-rule=\"evenodd\" fill-opacity=\"1\" /><path clip-path=\"url(#clip190)\" d=\"M54.3949 882.991 L62.0337 882.991 L62.0337 856.625 L53.7236 858.292 L53.7236 854.033 L61.9874 852.366 L66.6633 852.366 L66.6633 882.991 L74.3022 882.991 L74.3022 886.926 L54.3949 886.926 L54.3949 882.991 Z\" fill=\"#000000\" fill-rule=\"evenodd\" fill-opacity=\"1\" /><path clip-path=\"url(#clip190)\" d=\"M83.7929 852.366 L102.149 852.366 L102.149 856.301 L88.0753 856.301 L88.0753 864.774 Q89.0938 864.426 90.1123 864.264 Q91.1308 864.079 92.1493 864.079 Q97.9363 864.079 101.316 867.25 Q104.696 870.422 104.696 875.838 Q104.696 881.417 101.223 884.519 Q97.7511 887.598 91.4317 887.598 Q89.2558 887.598 86.9873 887.227 Q84.7419 886.857 82.3346 886.116 L82.3346 881.417 Q84.4179 882.551 86.6401 883.107 Q88.8623 883.662 91.3391 883.662 Q95.3437 883.662 97.6817 881.556 Q100.02 879.449 100.02 875.838 Q100.02 872.227 97.6817 870.121 Q95.3437 868.014 91.3391 868.014 Q89.4641 868.014 87.5892 868.431 Q85.7373 868.848 83.7929 869.727 L83.7929 852.366 Z\" fill=\"#000000\" fill-rule=\"evenodd\" fill-opacity=\"1\" /><path clip-path=\"url(#clip190)\" d=\"M56.6171 677.391 L72.9365 677.391 L72.9365 681.326 L50.9921 681.326 L50.9921 677.391 Q53.6541 674.636 58.2375 670.006 Q62.8439 665.354 64.0245 664.011 Q66.2698 661.488 67.1494 659.752 Q68.0522 657.993 68.0522 656.303 Q68.0522 653.548 66.1078 651.812 Q64.1865 650.076 61.0847 650.076 Q58.8856 650.076 56.4319 650.84 Q54.0014 651.604 51.2236 653.155 L51.2236 648.432 Q54.0477 647.298 56.5014 646.719 Q58.955 646.141 60.9921 646.141 Q66.3624 646.141 69.5568 648.826 Q72.7513 651.511 72.7513 656.002 Q72.7513 658.131 71.9411 660.053 Q71.1541 661.951 69.0476 664.543 Q68.4689 665.215 65.367 668.432 Q62.2652 671.627 56.6171 677.391 Z\" fill=\"#000000\" fill-rule=\"evenodd\" fill-opacity=\"1\" /><path clip-path=\"url(#clip190)\" d=\"M92.7512 649.844 Q89.1401 649.844 87.3114 653.409 Q85.5058 656.951 85.5058 664.08 Q85.5058 671.187 87.3114 674.752 Q89.1401 678.293 92.7512 678.293 Q96.3854 678.293 98.1909 674.752 Q100.02 671.187 100.02 664.08 Q100.02 656.951 98.1909 653.409 Q96.3854 649.844 92.7512 649.844 M92.7512 646.141 Q98.5613 646.141 101.617 650.747 Q104.696 655.33 104.696 664.08 Q104.696 672.807 101.617 677.414 Q98.5613 681.997 92.7512 681.997 Q86.941 681.997 83.8623 677.414 Q80.8068 672.807 80.8068 664.08 Q80.8068 655.33 83.8623 650.747 Q86.941 646.141 92.7512 646.141 Z\" fill=\"#000000\" fill-rule=\"evenodd\" fill-opacity=\"1\" /><path clip-path=\"url(#clip190)\" d=\"M57.6125 471.79 L73.9318 471.79 L73.9318 475.725 L51.9875 475.725 L51.9875 471.79 Q54.6495 469.035 59.2328 464.406 Q63.8393 459.753 65.0198 458.41 Q67.2652 455.887 68.1448 454.151 Q69.0476 452.392 69.0476 450.702 Q69.0476 447.948 67.1032 446.211 Q65.1819 444.475 62.08 444.475 Q59.881 444.475 57.4273 445.239 Q54.9967 446.003 52.219 447.554 L52.219 442.832 Q55.043 441.698 57.4967 441.119 Q59.9504 440.54 61.9874 440.54 Q67.3578 440.54 70.5522 443.225 Q73.7466 445.911 73.7466 450.401 Q73.7466 452.531 72.9365 454.452 Q72.1494 456.35 70.0429 458.943 Q69.4642 459.614 66.3624 462.832 Q63.2606 466.026 57.6125 471.79 Z\" fill=\"#000000\" fill-rule=\"evenodd\" fill-opacity=\"1\" /><path clip-path=\"url(#clip190)\" d=\"M83.7929 441.165 L102.149 441.165 L102.149 445.1 L88.0753 445.1 L88.0753 453.573 Q89.0938 453.225 90.1123 453.063 Q91.1308 452.878 92.1493 452.878 Q97.9363 452.878 101.316 456.049 Q104.696 459.221 104.696 464.637 Q104.696 470.216 101.223 473.318 Q97.7511 476.396 91.4317 476.396 Q89.2558 476.396 86.9873 476.026 Q84.7419 475.656 82.3346 474.915 L82.3346 470.216 Q84.4179 471.35 86.6401 471.906 Q88.8623 472.461 91.3391 472.461 Q95.3437 472.461 97.6817 470.355 Q100.02 468.248 100.02 464.637 Q100.02 461.026 97.6817 458.92 Q95.3437 456.813 91.3391 456.813 Q89.4641 456.813 87.5892 457.23 Q85.7373 457.647 83.7929 458.526 L83.7929 441.165 Z\" fill=\"#000000\" fill-rule=\"evenodd\" fill-opacity=\"1\" /><path clip-path=\"url(#clip190)\" d=\"M66.7559 251.49 Q70.1124 252.208 71.9874 254.477 Q73.8855 256.745 73.8855 260.078 Q73.8855 265.194 70.367 267.995 Q66.8485 270.796 60.3671 270.796 Q58.1912 270.796 55.8764 270.356 Q53.5847 269.939 51.131 269.083 L51.131 264.569 Q53.0754 265.703 55.3903 266.282 Q57.7051 266.861 60.2282 266.861 Q64.6263 266.861 66.918 265.125 Q69.2328 263.389 69.2328 260.078 Q69.2328 257.023 67.08 255.31 Q64.9504 253.574 61.131 253.574 L57.1032 253.574 L57.1032 249.731 L61.3161 249.731 Q64.7652 249.731 66.5939 248.365 Q68.4226 246.977 68.4226 244.384 Q68.4226 241.722 66.5245 240.31 Q64.6495 238.875 61.131 238.875 Q59.2097 238.875 57.0106 239.291 Q54.8115 239.708 52.1727 240.588 L52.1727 236.421 Q54.8347 235.68 57.1495 235.31 Q59.4875 234.94 61.5476 234.94 Q66.8717 234.94 69.9735 237.37 Q73.0753 239.778 73.0753 243.898 Q73.0753 246.768 71.4318 248.759 Q69.7883 250.727 66.7559 251.49 Z\" fill=\"#000000\" fill-rule=\"evenodd\" fill-opacity=\"1\" /><path clip-path=\"url(#clip190)\" d=\"M92.7512 238.643 Q89.1401 238.643 87.3114 242.208 Q85.5058 245.75 85.5058 252.879 Q85.5058 259.986 87.3114 263.551 Q89.1401 267.092 92.7512 267.092 Q96.3854 267.092 98.1909 263.551 Q100.02 259.986 100.02 252.879 Q100.02 245.75 98.1909 242.208 Q96.3854 238.643 92.7512 238.643 M92.7512 234.94 Q98.5613 234.94 101.617 239.546 Q104.696 244.129 104.696 252.879 Q104.696 261.606 101.617 266.213 Q98.5613 270.796 92.7512 270.796 Q86.941 270.796 83.8623 266.213 Q80.8068 261.606 80.8068 252.879 Q80.8068 244.129 83.8623 239.546 Q86.941 234.94 92.7512 234.94 Z\" fill=\"#000000\" fill-rule=\"evenodd\" fill-opacity=\"1\" /><path clip-path=\"url(#clip190)\" d=\"M67.7513 45.8899 Q71.1078 46.6075 72.9827 48.876 Q74.8809 51.1445 74.8809 54.4779 Q74.8809 59.5936 71.3624 62.3945 Q67.8439 65.1954 61.3624 65.1954 Q59.1865 65.1954 56.8717 64.7556 Q54.5801 64.3389 52.1264 63.4824 L52.1264 58.9686 Q54.0708 60.1028 56.3856 60.6815 Q58.7004 61.2602 61.2236 61.2602 Q65.6217 61.2602 67.9133 59.5241 Q70.2281 57.788 70.2281 54.4779 Q70.2281 51.4223 68.0754 49.7094 Q65.9457 47.9733 62.1263 47.9733 L58.0986 47.9733 L58.0986 44.1307 L62.3115 44.1307 Q65.7606 44.1307 67.5893 42.765 Q69.418 41.3761 69.418 38.7835 Q69.418 36.1215 67.5198 34.7094 Q65.6448 33.2743 62.1263 33.2743 Q60.205 33.2743 58.006 33.6909 Q55.8069 34.1076 53.168 34.9872 L53.168 30.8206 Q55.8301 30.0798 58.1449 29.7095 Q60.4828 29.3391 62.543 29.3391 Q67.867 29.3391 70.9689 31.7696 Q74.0707 34.177 74.0707 38.2974 Q74.0707 41.1677 72.4272 43.1585 Q70.7837 45.1261 67.7513 45.8899 Z\" fill=\"#000000\" fill-rule=\"evenodd\" fill-opacity=\"1\" /><path clip-path=\"url(#clip190)\" d=\"M83.7929 29.9641 L102.149 29.9641 L102.149 33.8993 L88.0753 33.8993 L88.0753 42.3714 Q89.0938 42.0242 90.1123 41.8622 Q91.1308 41.677 92.1493 41.677 Q97.9363 41.677 101.316 44.8483 Q104.696 48.0196 104.696 53.4362 Q104.696 59.0149 101.223 62.1167 Q97.7511 65.1954 91.4317 65.1954 Q89.2558 65.1954 86.9873 64.825 Q84.7419 64.4547 82.3346 63.7139 L82.3346 59.0149 Q84.4179 60.1491 86.6401 60.7047 Q88.8623 61.2602 91.3391 61.2602 Q95.3437 61.2602 97.6817 59.1538 Q100.02 57.0473 100.02 53.4362 Q100.02 49.8251 97.6817 47.7186 Q95.3437 45.6122 91.3391 45.6122 Q89.4641 45.6122 87.5892 46.0288 Q85.7373 46.4455 83.7929 47.3251 L83.7929 29.9641 Z\" fill=\"#000000\" fill-rule=\"evenodd\" fill-opacity=\"1\" /><polyline clip-path=\"url(#clip192)\" style=\"stroke:#009af9; stroke-linecap:butt; stroke-linejoin:round; stroke-width:4; stroke-opacity:1; fill:none\" points=\"\n",
       "  203.301,1486.45 206.779,1476.19 210.257,1465.97 213.735,1455.79 217.213,1445.65 220.691,1435.55 224.17,1425.49 227.648,1415.47 231.126,1405.5 234.604,1395.56 \n",
       "  238.082,1385.66 241.56,1375.81 245.038,1365.99 248.516,1356.21 251.994,1346.48 255.472,1336.78 258.95,1327.13 262.428,1317.51 265.907,1307.94 269.385,1298.4 \n",
       "  272.863,1288.91 276.341,1279.45 279.819,1270.04 283.297,1260.67 286.775,1251.33 290.253,1242.04 293.731,1232.79 297.209,1223.58 300.687,1214.4 304.165,1205.27 \n",
       "  307.643,1196.18 311.122,1187.13 314.6,1178.12 318.078,1169.15 321.556,1160.22 325.034,1151.33 328.512,1142.48 331.99,1133.67 335.468,1124.9 338.946,1116.17 \n",
       "  342.424,1107.48 345.902,1098.84 349.38,1090.23 352.859,1081.66 356.337,1073.13 359.815,1064.65 363.293,1056.2 366.771,1047.8 370.249,1039.43 373.727,1031.1 \n",
       "  377.205,1022.82 380.683,1014.57 384.161,1006.37 387.639,998.205 391.117,990.08 394.596,981.997 398.074,973.953 401.552,965.95 405.03,957.987 408.508,950.064 \n",
       "  411.986,942.182 415.464,934.34 418.942,926.538 422.42,918.777 425.898,911.056 429.376,903.375 432.854,895.734 436.333,888.134 439.811,880.574 443.289,873.055 \n",
       "  446.767,865.575 450.245,858.136 453.723,850.738 457.201,843.379 460.679,836.061 464.157,828.783 467.635,821.546 471.113,814.348 474.591,807.191 478.07,800.075 \n",
       "  481.548,792.998 485.026,785.962 488.504,778.967 491.982,772.011 495.46,765.096 498.938,758.221 502.416,751.386 505.894,744.592 509.372,737.838 512.85,731.125 \n",
       "  516.328,724.451 519.807,717.818 523.285,711.225 526.763,704.673 530.241,698.161 533.719,691.689 537.197,685.257 540.675,678.866 544.153,672.515 547.631,666.204 \n",
       "  551.109,659.934 554.587,653.704 558.065,647.514 561.544,641.364 565.022,635.255 568.5,629.186 571.978,623.158 575.456,617.169 578.934,611.221 582.412,605.313 \n",
       "  585.89,599.446 589.368,593.619 592.846,587.832 596.324,582.086 599.802,576.379 603.28,570.713 606.759,565.088 610.237,559.502 613.715,553.957 617.193,548.453 \n",
       "  620.671,542.988 624.149,537.564 627.627,532.18 631.105,526.837 634.583,521.533 638.061,516.27 641.539,511.048 645.017,505.865 648.496,500.723 651.974,495.621 \n",
       "  655.452,490.56 658.93,485.539 662.408,480.558 665.886,475.617 669.364,470.717 672.842,465.857 676.32,461.037 679.798,456.258 683.276,451.519 686.754,446.82 \n",
       "  690.233,442.162 693.711,437.543 697.189,432.966 700.667,428.428 704.145,423.931 707.623,419.474 711.101,415.057 714.579,410.68 718.057,406.344 721.535,402.049 \n",
       "  725.013,397.793 728.491,393.578 731.97,389.403 735.448,385.268 738.926,381.174 742.404,377.12 745.882,373.106 749.36,369.133 752.838,365.2 756.316,361.307 \n",
       "  759.794,357.454 763.272,353.642 766.75,349.87 770.228,346.138 773.707,342.447 777.185,338.796 780.663,335.185 784.141,331.615 787.619,328.085 791.097,324.595 \n",
       "  794.575,321.145 798.053,317.736 801.531,314.367 805.009,311.038 808.487,307.75 811.965,304.502 815.444,301.294 818.922,298.127 822.4,294.999 825.878,291.912 \n",
       "  829.356,288.866 832.834,285.86 836.312,282.894 839.79,279.968 843.268,277.082 846.746,274.237 850.224,271.433 853.702,268.668 857.181,265.944 860.659,263.26 \n",
       "  864.137,260.616 867.615,258.013 871.093,255.45 874.571,252.927 878.049,250.445 881.527,248.003 885.005,245.601 888.483,243.239 891.961,240.918 895.439,238.637 \n",
       "  898.917,236.397 902.396,234.196 905.874,232.036 909.352,229.916 912.83,227.837 916.308,225.798 919.786,223.799 923.264,221.84 926.742,219.922 930.22,218.044 \n",
       "  933.698,216.207 937.176,214.409 940.654,212.652 944.133,210.935 947.611,209.259 951.089,207.623 954.567,206.027 958.045,204.471 961.523,202.956 965.001,201.481 \n",
       "  968.479,200.046 971.957,198.652 975.435,197.298 978.913,195.984 982.391,194.711 985.87,193.477 989.348,192.285 992.826,191.132 996.304,190.02 999.782,188.948 \n",
       "  1003.26,187.916 1006.74,186.925 1010.22,185.973 1013.69,185.063 1017.17,184.192 1020.65,183.362 1024.13,182.572 1027.61,181.822 1031.08,181.113 1034.56,180.444 \n",
       "  1038.04,179.815 1041.52,179.227 1045,178.679 1048.48,178.171 1051.95,177.703 1055.43,177.276 1058.91,176.889 1062.39,176.543 1065.87,176.236 1069.34,175.97 \n",
       "  1072.82,175.744 1076.3,175.559 1079.78,175.414 1083.26,175.309 1086.73,175.244 1090.21,175.22 1093.69,175.236 1097.17,175.293 1100.65,175.389 1104.12,175.526 \n",
       "  1107.6,175.703 1111.08,175.921 1114.56,176.179 1118.04,176.477 1121.51,176.815 1124.99,177.194 1128.47,177.613 1131.95,178.072 1135.43,178.572 1138.91,179.112 \n",
       "  1142.38,179.692 1145.86,180.312 1149.34,180.973 1152.82,181.674 1156.3,182.416 1159.77,183.197 1163.25,184.019 1166.73,184.882 1170.21,185.784 1173.69,186.727 \n",
       "  1177.16,187.71 1180.64,188.734 1184.12,189.798 1187.6,190.902 1191.08,192.046 1194.55,193.231 1198.03,194.456 1201.51,195.721 1204.99,197.027 1208.47,198.372 \n",
       "  1211.94,199.759 1215.42,201.185 1218.9,202.652 1222.38,204.159 1225.86,205.706 1229.34,207.294 1232.81,208.922 1236.29,210.59 1239.77,212.299 1243.25,214.047 \n",
       "  1246.73,215.837 1250.2,217.666 1253.68,219.536 1257.16,221.446 1260.64,223.396 1264.12,225.387 1267.59,227.418 1271.07,229.489 1274.55,231.6 1278.03,233.752 \n",
       "  1281.51,235.944 1284.98,238.177 1288.46,240.449 1291.94,242.762 1295.42,245.116 1298.9,247.509 1302.38,249.943 1305.85,252.417 1309.33,254.932 1312.81,257.487 \n",
       "  1316.29,260.082 1319.77,262.717 1323.24,265.393 1326.72,268.109 1330.2,270.865 1333.68,273.662 1337.16,276.499 1340.63,279.376 1344.11,282.293 1347.59,285.251 \n",
       "  1351.07,288.249 1354.55,291.287 1358.02,294.366 1361.5,297.485 1364.98,300.644 1368.46,303.844 1371.94,307.084 1375.41,310.364 1378.89,313.684 1382.37,317.045 \n",
       "  1385.85,320.446 1389.33,323.887 1392.81,327.369 1396.28,330.891 1399.76,334.453 1403.24,338.056 1406.72,341.699 1410.2,345.382 1413.67,349.105 1417.15,352.869 \n",
       "  1420.63,356.673 1424.11,360.517 1427.59,364.402 1431.06,368.327 1434.54,372.292 1438.02,376.297 1441.5,380.343 1444.98,384.429 1448.45,388.556 1451.93,392.722 \n",
       "  1455.41,396.929 1458.89,401.177 1462.37,405.464 1465.84,409.792 1469.32,414.16 1472.8,418.569 1476.28,423.018 1479.76,427.507 1483.24,432.036 1486.71,436.606 \n",
       "  1490.19,441.216 1493.67,445.866 1497.15,450.557 1500.63,455.288 1504.1,460.059 1507.58,464.87 1511.06,469.722 1514.54,474.614 1518.02,479.546 1521.49,484.519 \n",
       "  1524.97,489.532 1528.45,494.585 1531.93,499.679 1535.41,504.813 1538.88,509.987 1542.36,515.201 1545.84,520.456 1549.32,525.751 1552.8,531.086 1556.28,536.462 \n",
       "  1559.75,541.878 1563.23,547.334 1566.71,552.831 1570.19,558.367 1573.67,563.945 1577.14,569.562 1580.62,575.22 1584.1,580.918 1587.58,586.656 1591.06,592.435 \n",
       "  1594.53,598.254 1598.01,604.113 1601.49,610.012 1604.97,615.952 1608.45,621.932 1611.92,627.953 1615.4,634.013 1618.88,640.114 1622.36,646.256 1625.84,652.437 \n",
       "  1629.31,658.659 1632.79,664.921 1636.27,671.224 1639.75,677.566 1643.23,683.949 1646.71,690.373 1650.18,696.837 1653.66,703.341 1657.14,709.885 1660.62,716.469 \n",
       "  1664.1,723.094 1667.57,729.759 1671.05,736.465 1674.53,743.211 1678.01,749.997 1681.49,756.823 1684.96,763.69 1688.44,770.597 1691.92,777.544 1695.4,784.531 \n",
       "  1698.88,791.559 1702.35,798.627 1705.83,805.736 1709.31,812.884 1712.79,820.073 1716.27,827.303 1719.74,834.572 1723.22,841.882 1726.7,849.233 1730.18,856.623 \n",
       "  1733.66,864.054 1737.14,871.525 1740.61,879.036 1744.09,886.588 1747.57,894.18 1751.05,901.812 1754.53,909.485 1758,917.198 1761.48,924.951 1764.96,932.745 \n",
       "  1768.44,940.578 1771.92,948.453 1775.39,956.367 1778.87,964.322 1782.35,972.317 1785.83,980.352 1789.31,988.427 1792.78,996.543 1796.26,1004.7 1799.74,1012.9 \n",
       "  1803.22,1021.13 1806.7,1029.41 1810.18,1037.73 1813.65,1046.08 1817.13,1054.48 1820.61,1062.92 1824.09,1071.4 1827.57,1079.92 1831.04,1088.48 1834.52,1097.08 \n",
       "  1838,1105.72 1841.48,1114.4 1844.96,1123.12 1848.43,1131.88 1851.91,1140.68 1855.39,1149.52 1858.87,1158.4 1862.35,1167.32 1865.82,1176.29 1869.3,1185.29 \n",
       "  1872.78,1194.33 1876.26,1203.41 1879.74,1212.54 1883.21,1221.7 1886.69,1230.9 1890.17,1240.15 1893.65,1249.43 1897.13,1258.76 1900.61,1268.12 1904.08,1277.53 \n",
       "  1907.56,1286.97 1911.04,1296.46 1914.52,1305.99 1918,1315.55 1921.47,1325.16 1924.95,1334.81 1928.43,1344.49 1931.91,1354.22 1935.39,1363.99 1938.86,1373.8 \n",
       "  1942.34,1383.65 1945.82,1393.54 1949.3,1403.47 1952.78,1413.44 1956.25,1423.45 1959.73,1433.5 1963.21,1443.59 1966.69,1453.72 1970.17,1463.89 1973.64,1474.1 \n",
       "  1977.12,1484.35 1980.6,1494.64 1984.08,1504.97 1987.56,1515.35 1991.04,1525.76 1994.51,1536.21 1997.99,1546.71 2001.47,1557.24 2004.95,1567.81 2008.43,1578.43 \n",
       "  2011.9,1589.08 2015.38,1599.78 2018.86,1610.51 2022.34,1621.29 2025.82,1632.11 2029.29,1642.96 2032.77,1653.86 2036.25,1664.79 2039.73,1675.77 2043.21,1686.79 \n",
       "  2046.68,1697.85 2050.16,1708.94 2053.64,1720.08 2057.12,1731.26 2060.6,1742.48 2064.08,1753.74 2067.55,1765.04 2071.03,1776.38 2074.51,1787.76 2077.99,1799.18 \n",
       "  2081.47,1810.64 2084.94,1822.14 2088.42,1833.68 2091.9,1845.26 2095.38,1856.88 2098.86,1868.55 2102.33,1880.25 2105.81,1891.99 2109.29,1903.77 2112.77,1915.6 \n",
       "  2116.25,1927.46 2119.72,1939.36 2123.2,1951.31 2126.68,1963.29 2130.16,1975.32 2133.64,1987.38 2137.11,1999.49 2140.59,2011.63 2144.07,2023.82 2147.55,2036.05 \n",
       "  2151.03,2048.31 2154.51,2060.62 2157.98,2072.97 2161.46,2085.35 2164.94,2097.78 2168.42,2110.25 2171.9,2122.76 2175.37,2135.31 2178.85,2147.9 2182.33,2160.53 \n",
       "  2185.81,2173.19 2189.29,2185.9 2192.76,2198.65 2196.24,2211.45 2199.72,2224.28 2203.2,2237.15 2206.68,2250.06 2210.15,2263.01 2213.63,2276 2217.11,2289.03 \n",
       "  2220.59,2302.11 2224.07,2315.22 2227.54,2328.37 2231.02,2341.57 2234.5,2354.8 2237.98,2368.07 2241.46,2381.39 2244.94,2394.74 2248.41,2408.14 2251.89,2421.57 \n",
       "  2255.37,2435.05 2258.85,2448.56 2262.33,2462.12 2265.8,2475.72 2269.28,2489.35 2272.76,2503.03 2276.24,2516.75 2279.72,2530.5 2283.19,2544.3 2286.67,2558.14 \n",
       "  2290.15,2572.02 \n",
       "  \"/>\n",
       "<path clip-path=\"url(#clip190)\" d=\"\n",
       "M1980.81 198.898 L2279.02 198.898 L2279.02 95.2176 L1980.81 95.2176  Z\n",
       "  \" fill=\"#ffffff\" fill-rule=\"evenodd\" fill-opacity=\"1\"/>\n",
       "<polyline clip-path=\"url(#clip190)\" style=\"stroke:#000000; stroke-linecap:butt; stroke-linejoin:round; stroke-width:4; stroke-opacity:1; fill:none\" points=\"\n",
       "  1980.81,198.898 2279.02,198.898 2279.02,95.2176 1980.81,95.2176 1980.81,198.898 \n",
       "  \"/>\n",
       "<polyline clip-path=\"url(#clip190)\" style=\"stroke:#009af9; stroke-linecap:butt; stroke-linejoin:round; stroke-width:4; stroke-opacity:1; fill:none\" points=\"\n",
       "  2005.38,147.058 2152.85,147.058 \n",
       "  \"/>\n",
       "<path clip-path=\"url(#clip190)\" d=\"M2191.28 166.745 Q2189.47 171.375 2187.76 172.787 Q2186.04 174.199 2183.17 174.199 L2179.77 174.199 L2179.77 170.634 L2182.27 170.634 Q2184.03 170.634 2185 169.8 Q2185.98 168.967 2187.16 165.865 L2187.92 163.921 L2177.43 138.412 L2181.95 138.412 L2190.05 158.689 L2198.15 138.412 L2202.66 138.412 L2191.28 166.745 Z\" fill=\"#000000\" fill-rule=\"evenodd\" fill-opacity=\"1\" /><path clip-path=\"url(#clip190)\" d=\"M2209.96 160.402 L2217.6 160.402 L2217.6 134.037 L2209.29 135.703 L2209.29 131.444 L2217.55 129.778 L2222.22 129.778 L2222.22 160.402 L2229.86 160.402 L2229.86 164.338 L2209.96 164.338 L2209.96 160.402 Z\" fill=\"#000000\" fill-rule=\"evenodd\" fill-opacity=\"1\" /></svg>\n"
      ]
     },
     "execution_count": 80,
     "metadata": {},
     "output_type": "execute_result"
    }
   ],
   "source": [
    "f(t) = -9.8/2*t^2+50*sin(30*pi/180)*t\n",
    "plot(0:0.01:6,f,ylim=(0,35))"
   ]
  },
  {
   "cell_type": "code",
   "execution_count": 90,
   "metadata": {},
   "outputs": [
    {
     "data": {
      "text/plain": [
       "raiz_cuadratica (generic function with 1 method)"
      ]
     },
     "execution_count": 90,
     "metadata": {},
     "output_type": "execute_result"
    }
   ],
   "source": [
    "function raiz_cuadratica(a,b,c)\n",
    "    Δ = b^2 - 4*a*c\n",
    "    if Δ >= 0\n",
    "        r1 =(-b + sqrt(Δ))/(2*a)\n",
    "        r2 =(-b - sqrt(Δ))/(2*a)\n",
    "        return r1,r2\n",
    "    else\n",
    "        d = -b/(2*a)\n",
    "        e = sqrt(-Δ)/(2*a)                ### abs(Δ)\n",
    "        return print(\"no tiene raices reales\")\n",
    "    end \n",
    "end"
   ]
  },
  {
   "cell_type": "code",
   "execution_count": 21,
   "metadata": {},
   "outputs": [
    {
     "data": {
      "text/plain": [
       "1.0"
      ]
     },
     "execution_count": 21,
     "metadata": {},
     "output_type": "execute_result"
    }
   ],
   "source": [
    "sin(90*pi/180)       ### en radianes"
   ]
  },
  {
   "cell_type": "code",
   "execution_count": 96,
   "metadata": {},
   "outputs": [
    {
     "data": {
      "text/plain": [
       "(-0.0, 5.10204081632653)"
      ]
     },
     "execution_count": 96,
     "metadata": {},
     "output_type": "execute_result"
    }
   ],
   "source": [
    "r1,r2=raiz_cuadratica(-9.8/2,50*sin(30*pi/180),0)"
   ]
  },
  {
   "cell_type": "code",
   "execution_count": 97,
   "metadata": {},
   "outputs": [
    {
     "data": {
      "text/plain": [
       "tiro_oblicuo (generic function with 1 method)"
      ]
     },
     "execution_count": 97,
     "metadata": {},
     "output_type": "execute_result"
    }
   ],
   "source": [
    "function tiro_oblicuo(angulo,v0;x0=0,y0=0,puntos=600)\n",
    "    a=-9.8                      ### aceleracion\n",
    "    v0_x=v0*cos(angulo*pi/180)        ### velodidad inicial\n",
    "    v0_y=v0*sin(angulo*pi/180)\n",
    "    ###r1,r2=raiz_cuadratica(a/2,v0_y,y0)\n",
    "    ###return r1,r2\n",
    "    dt=(r2-r1)/puntos\n",
    "    t=0\n",
    "    Vx=zeros(puntos)\n",
    "    Vy=zeros(puntos)\n",
    "    Rx=zeros(puntos)\n",
    "    Ry=zeros(puntos)\n",
    "    t_=zeros(puntos)\n",
    "    for i in 1:puntos\n",
    "    v_x=v0_x\n",
    "    v_y=a*t+v0_y\n",
    "    r_x=v0_x*t+x0\n",
    "    r_y=a/2*t^2+v0_y*t+y0\n",
    "    t=t+dt\n",
    "    Vx[i]=v_x\n",
    "    Vy[i]=v_y\n",
    "    Rx[i]=r_x\n",
    "    Ry[i]=r_y\n",
    "    t_[i]=t\n",
    "    end\n",
    "    return Vx,Vy,Rx,Ry,t_\n",
    "end"
   ]
  },
  {
   "cell_type": "code",
   "execution_count": 98,
   "metadata": {},
   "outputs": [
    {
     "data": {
      "text/plain": [
       "([43.30127018922194, 43.30127018922194, 43.30127018922194, 43.30127018922194, 43.30127018922194, 43.30127018922194, 43.30127018922194, 43.30127018922194, 43.30127018922194, 43.30127018922194  …  43.30127018922194, 43.30127018922194, 43.30127018922194, 43.30127018922194, 43.30127018922194, 43.30127018922194, 43.30127018922194, 43.30127018922194, 43.30127018922194, 43.30127018922194], [24.999999999999996, 24.916666666666664, 24.83333333333333, 24.749999999999996, 24.666666666666664, 24.58333333333333, 24.499999999999996, 24.416666666666664, 24.33333333333333, 24.249999999999996  …  -24.166666666666185, -24.249999999999513, -24.33333333333285, -24.416666666666178, -24.499999999999513, -24.583333333332842, -24.666666666666178, -24.749999999999506, -24.833333333332835, -24.91666666666617], [0.0, 0.36820807984032256, 0.7364161596806451, 1.1046242395209678, 1.4728323193612902, 1.8410403992016127, 2.209248479041935, 2.5774565588822576, 2.94566463872258, 3.3138727185629024  …  217.24276710578818, 217.6109751856285, 217.9791832654688, 218.34739134530912, 218.71559942514943, 219.08380750498975, 219.45201558483006, 219.82022366467038, 220.1884317445107, 220.556639824351], [0.0, 0.21223072562358272, 0.4237528344671201, 0.6345663265306121, 0.8446712018140587, 1.05406746031746, 1.2627551020408159, 1.4707341269841263, 1.6780045351473916, 1.8845663265306114  …  2.09041950113496, 1.8845663265318109, 1.6780045351486024, 1.4707341269853345, 1.2627551020420356, 1.0540674603186773, 0.8446712018152738, 0.6345663265318535, 0.42375283446834544, 0.21223072562484901], [0.008503401360544217, 0.017006802721088433, 0.02551020408163265, 0.03401360544217687, 0.04251700680272108, 0.05102040816326529, 0.05952380952380951, 0.06802721088435372, 0.07653061224489793, 0.08503401360544215  …  5.025510204081582, 5.0340136054421265, 5.042517006802671, 5.051020408163215, 5.059523809523759, 5.068027210884303, 5.076530612244847, 5.085034013605391, 5.093537414965935, 5.102040816326479])"
      ]
     },
     "execution_count": 98,
     "metadata": {},
     "output_type": "execute_result"
    }
   ],
   "source": [
    "Vx,Vy,Rx,Ry,t=tiro_oblicuo(30,50)"
   ]
  },
  {
   "cell_type": "code",
   "execution_count": 94,
   "metadata": {},
   "outputs": [
    {
     "data": {
      "text/plain": [
       "600"
      ]
     },
     "execution_count": 94,
     "metadata": {},
     "output_type": "execute_result"
    }
   ],
   "source": [
    "n=length(t) "
   ]
  },
  {
   "cell_type": "code",
   "execution_count": 115,
   "metadata": {},
   "outputs": [
    {
     "data": {
      "image/svg+xml": [
       "<?xml version=\"1.0\" encoding=\"utf-8\"?>\n",
       "<svg xmlns=\"http://www.w3.org/2000/svg\" xmlns:xlink=\"http://www.w3.org/1999/xlink\" width=\"600\" height=\"400\" viewBox=\"0 0 2400 1600\">\n",
       "<defs>\n",
       "  <clipPath id=\"clip670\">\n",
       "    <rect x=\"0\" y=\"0\" width=\"2400\" height=\"1600\"/>\n",
       "  </clipPath>\n",
       "</defs>\n",
       "<path clip-path=\"url(#clip670)\" d=\"\n",
       "M0 1600 L2400 1600 L2400 0 L0 0  Z\n",
       "  \" fill=\"#ffffff\" fill-rule=\"evenodd\" fill-opacity=\"1\"/>\n",
       "<defs>\n",
       "  <clipPath id=\"clip671\">\n",
       "    <rect x=\"480\" y=\"0\" width=\"1681\" height=\"1600\"/>\n",
       "  </clipPath>\n",
       "</defs>\n",
       "<path clip-path=\"url(#clip670)\" d=\"\n",
       "M178.867 686.448 L1171.84 686.448 L1171.84 123.472 L178.867 123.472  Z\n",
       "  \" fill=\"#ffffff\" fill-rule=\"evenodd\" fill-opacity=\"1\"/>\n",
       "<defs>\n",
       "  <clipPath id=\"clip672\">\n",
       "    <rect x=\"178\" y=\"123\" width=\"994\" height=\"564\"/>\n",
       "  </clipPath>\n",
       "</defs>\n",
       "<polyline clip-path=\"url(#clip672)\" style=\"stroke:#000000; stroke-linecap:butt; stroke-linejoin:round; stroke-width:2; stroke-opacity:0.1; fill:none\" points=\"\n",
       "  205.406,686.448 205.406,123.472 \n",
       "  \"/>\n",
       "<polyline clip-path=\"url(#clip672)\" style=\"stroke:#000000; stroke-linecap:butt; stroke-linejoin:round; stroke-width:2; stroke-opacity:0.1; fill:none\" points=\"\n",
       "  389.319,686.448 389.319,123.472 \n",
       "  \"/>\n",
       "<polyline clip-path=\"url(#clip672)\" style=\"stroke:#000000; stroke-linecap:butt; stroke-linejoin:round; stroke-width:2; stroke-opacity:0.1; fill:none\" points=\"\n",
       "  573.232,686.448 573.232,123.472 \n",
       "  \"/>\n",
       "<polyline clip-path=\"url(#clip672)\" style=\"stroke:#000000; stroke-linecap:butt; stroke-linejoin:round; stroke-width:2; stroke-opacity:0.1; fill:none\" points=\"\n",
       "  757.145,686.448 757.145,123.472 \n",
       "  \"/>\n",
       "<polyline clip-path=\"url(#clip672)\" style=\"stroke:#000000; stroke-linecap:butt; stroke-linejoin:round; stroke-width:2; stroke-opacity:0.1; fill:none\" points=\"\n",
       "  941.059,686.448 941.059,123.472 \n",
       "  \"/>\n",
       "<polyline clip-path=\"url(#clip672)\" style=\"stroke:#000000; stroke-linecap:butt; stroke-linejoin:round; stroke-width:2; stroke-opacity:0.1; fill:none\" points=\"\n",
       "  1124.97,686.448 1124.97,123.472 \n",
       "  \"/>\n",
       "<polyline clip-path=\"url(#clip670)\" style=\"stroke:#000000; stroke-linecap:butt; stroke-linejoin:round; stroke-width:4; stroke-opacity:1; fill:none\" points=\"\n",
       "  178.867,686.448 1171.84,686.448 \n",
       "  \"/>\n",
       "<polyline clip-path=\"url(#clip670)\" style=\"stroke:#000000; stroke-linecap:butt; stroke-linejoin:round; stroke-width:4; stroke-opacity:1; fill:none\" points=\"\n",
       "  205.406,686.448 205.406,667.55 \n",
       "  \"/>\n",
       "<polyline clip-path=\"url(#clip670)\" style=\"stroke:#000000; stroke-linecap:butt; stroke-linejoin:round; stroke-width:4; stroke-opacity:1; fill:none\" points=\"\n",
       "  389.319,686.448 389.319,667.55 \n",
       "  \"/>\n",
       "<polyline clip-path=\"url(#clip670)\" style=\"stroke:#000000; stroke-linecap:butt; stroke-linejoin:round; stroke-width:4; stroke-opacity:1; fill:none\" points=\"\n",
       "  573.232,686.448 573.232,667.55 \n",
       "  \"/>\n",
       "<polyline clip-path=\"url(#clip670)\" style=\"stroke:#000000; stroke-linecap:butt; stroke-linejoin:round; stroke-width:4; stroke-opacity:1; fill:none\" points=\"\n",
       "  757.145,686.448 757.145,667.55 \n",
       "  \"/>\n",
       "<polyline clip-path=\"url(#clip670)\" style=\"stroke:#000000; stroke-linecap:butt; stroke-linejoin:round; stroke-width:4; stroke-opacity:1; fill:none\" points=\"\n",
       "  941.059,686.448 941.059,667.55 \n",
       "  \"/>\n",
       "<polyline clip-path=\"url(#clip670)\" style=\"stroke:#000000; stroke-linecap:butt; stroke-linejoin:round; stroke-width:4; stroke-opacity:1; fill:none\" points=\"\n",
       "  1124.97,686.448 1124.97,667.55 \n",
       "  \"/>\n",
       "<path clip-path=\"url(#clip670)\" d=\"M205.406 717.367 Q201.795 717.367 199.966 720.931 Q198.16 724.473 198.16 731.603 Q198.16 738.709 199.966 742.274 Q201.795 745.815 205.406 745.815 Q209.04 745.815 210.846 742.274 Q212.674 738.709 212.674 731.603 Q212.674 724.473 210.846 720.931 Q209.04 717.367 205.406 717.367 M205.406 713.663 Q211.216 713.663 214.272 718.269 Q217.35 722.853 217.35 731.603 Q217.35 740.329 214.272 744.936 Q211.216 749.519 205.406 749.519 Q199.596 749.519 196.517 744.936 Q193.461 740.329 193.461 731.603 Q193.461 722.853 196.517 718.269 Q199.596 713.663 205.406 713.663 Z\" fill=\"#000000\" fill-rule=\"evenodd\" fill-opacity=\"1\" /><path clip-path=\"url(#clip670)\" d=\"M379.701 744.913 L387.34 744.913 L387.34 718.547 L379.03 720.214 L379.03 715.955 L387.294 714.288 L391.969 714.288 L391.969 744.913 L399.608 744.913 L399.608 748.848 L379.701 748.848 L379.701 744.913 Z\" fill=\"#000000\" fill-rule=\"evenodd\" fill-opacity=\"1\" /><path clip-path=\"url(#clip670)\" d=\"M567.885 744.913 L584.204 744.913 L584.204 748.848 L562.26 748.848 L562.26 744.913 Q564.922 742.158 569.505 737.528 Q574.112 732.876 575.292 731.533 Q577.538 729.01 578.417 727.274 Q579.32 725.515 579.32 723.825 Q579.32 721.07 577.376 719.334 Q575.454 717.598 572.353 717.598 Q570.153 717.598 567.7 718.362 Q565.269 719.126 562.491 720.677 L562.491 715.955 Q565.316 714.82 567.769 714.242 Q570.223 713.663 572.26 713.663 Q577.63 713.663 580.825 716.348 Q584.019 719.033 584.019 723.524 Q584.019 725.654 583.209 727.575 Q582.422 729.473 580.315 732.066 Q579.737 732.737 576.635 735.954 Q573.533 739.149 567.885 744.913 Z\" fill=\"#000000\" fill-rule=\"evenodd\" fill-opacity=\"1\" /><path clip-path=\"url(#clip670)\" d=\"M761.393 730.214 Q764.749 730.931 766.624 733.2 Q768.523 735.468 768.523 738.802 Q768.523 743.917 765.004 746.718 Q761.486 749.519 755.004 749.519 Q752.828 749.519 750.513 749.079 Q748.222 748.663 745.768 747.806 L745.768 743.292 Q747.713 744.427 750.027 745.005 Q752.342 745.584 754.865 745.584 Q759.263 745.584 761.555 743.848 Q763.87 742.112 763.87 738.802 Q763.87 735.746 761.717 734.033 Q759.587 732.297 755.768 732.297 L751.74 732.297 L751.74 728.454 L755.953 728.454 Q759.402 728.454 761.231 727.089 Q763.06 725.7 763.06 723.107 Q763.06 720.445 761.162 719.033 Q759.287 717.598 755.768 717.598 Q753.847 717.598 751.648 718.015 Q749.449 718.431 746.81 719.311 L746.81 715.144 Q749.472 714.404 751.787 714.033 Q754.125 713.663 756.185 713.663 Q761.509 713.663 764.611 716.093 Q767.712 718.501 767.712 722.621 Q767.712 725.492 766.069 727.482 Q764.425 729.45 761.393 730.214 Z\" fill=\"#000000\" fill-rule=\"evenodd\" fill-opacity=\"1\" /><path clip-path=\"url(#clip670)\" d=\"M944.068 718.362 L932.262 736.811 L944.068 736.811 L944.068 718.362 M942.841 714.288 L948.721 714.288 L948.721 736.811 L953.651 736.811 L953.651 740.7 L948.721 740.7 L948.721 748.848 L944.068 748.848 L944.068 740.7 L928.466 740.7 L928.466 736.186 L942.841 714.288 Z\" fill=\"#000000\" fill-rule=\"evenodd\" fill-opacity=\"1\" /><path clip-path=\"url(#clip670)\" d=\"M1115.25 714.288 L1133.61 714.288 L1133.61 718.223 L1119.53 718.223 L1119.53 726.695 Q1120.55 726.348 1121.57 726.186 Q1122.59 726.001 1123.61 726.001 Q1129.39 726.001 1132.77 729.172 Q1136.15 732.343 1136.15 737.76 Q1136.15 743.339 1132.68 746.44 Q1129.21 749.519 1122.89 749.519 Q1120.71 749.519 1118.44 749.149 Q1116.2 748.778 1113.79 748.038 L1113.79 743.339 Q1115.87 744.473 1118.1 745.028 Q1120.32 745.584 1122.8 745.584 Q1126.8 745.584 1129.14 743.478 Q1131.48 741.371 1131.48 737.76 Q1131.48 734.149 1129.14 732.042 Q1126.8 729.936 1122.8 729.936 Q1120.92 729.936 1119.05 730.353 Q1117.19 730.769 1115.25 731.649 L1115.25 714.288 Z\" fill=\"#000000\" fill-rule=\"evenodd\" fill-opacity=\"1\" /><polyline clip-path=\"url(#clip672)\" style=\"stroke:#000000; stroke-linecap:butt; stroke-linejoin:round; stroke-width:2; stroke-opacity:0.1; fill:none\" points=\"\n",
       "  178.867,670.515 1171.84,670.515 \n",
       "  \"/>\n",
       "<polyline clip-path=\"url(#clip672)\" style=\"stroke:#000000; stroke-linecap:butt; stroke-linejoin:round; stroke-width:2; stroke-opacity:0.1; fill:none\" points=\"\n",
       "  178.867,550.113 1171.84,550.113 \n",
       "  \"/>\n",
       "<polyline clip-path=\"url(#clip672)\" style=\"stroke:#000000; stroke-linecap:butt; stroke-linejoin:round; stroke-width:2; stroke-opacity:0.1; fill:none\" points=\"\n",
       "  178.867,429.711 1171.84,429.711 \n",
       "  \"/>\n",
       "<polyline clip-path=\"url(#clip672)\" style=\"stroke:#000000; stroke-linecap:butt; stroke-linejoin:round; stroke-width:2; stroke-opacity:0.1; fill:none\" points=\"\n",
       "  178.867,309.309 1171.84,309.309 \n",
       "  \"/>\n",
       "<polyline clip-path=\"url(#clip672)\" style=\"stroke:#000000; stroke-linecap:butt; stroke-linejoin:round; stroke-width:2; stroke-opacity:0.1; fill:none\" points=\"\n",
       "  178.867,188.907 1171.84,188.907 \n",
       "  \"/>\n",
       "<polyline clip-path=\"url(#clip670)\" style=\"stroke:#000000; stroke-linecap:butt; stroke-linejoin:round; stroke-width:4; stroke-opacity:1; fill:none\" points=\"\n",
       "  178.867,686.448 178.867,123.472 \n",
       "  \"/>\n",
       "<polyline clip-path=\"url(#clip670)\" style=\"stroke:#000000; stroke-linecap:butt; stroke-linejoin:round; stroke-width:4; stroke-opacity:1; fill:none\" points=\"\n",
       "  178.867,670.515 197.764,670.515 \n",
       "  \"/>\n",
       "<polyline clip-path=\"url(#clip670)\" style=\"stroke:#000000; stroke-linecap:butt; stroke-linejoin:round; stroke-width:4; stroke-opacity:1; fill:none\" points=\"\n",
       "  178.867,550.113 197.764,550.113 \n",
       "  \"/>\n",
       "<polyline clip-path=\"url(#clip670)\" style=\"stroke:#000000; stroke-linecap:butt; stroke-linejoin:round; stroke-width:4; stroke-opacity:1; fill:none\" points=\"\n",
       "  178.867,429.711 197.764,429.711 \n",
       "  \"/>\n",
       "<polyline clip-path=\"url(#clip670)\" style=\"stroke:#000000; stroke-linecap:butt; stroke-linejoin:round; stroke-width:4; stroke-opacity:1; fill:none\" points=\"\n",
       "  178.867,309.309 197.764,309.309 \n",
       "  \"/>\n",
       "<polyline clip-path=\"url(#clip670)\" style=\"stroke:#000000; stroke-linecap:butt; stroke-linejoin:round; stroke-width:4; stroke-opacity:1; fill:none\" points=\"\n",
       "  178.867,188.907 197.764,188.907 \n",
       "  \"/>\n",
       "<path clip-path=\"url(#clip670)\" d=\"M130.922 656.313 Q127.311 656.313 125.482 659.878 Q123.677 663.42 123.677 670.549 Q123.677 677.656 125.482 681.221 Q127.311 684.762 130.922 684.762 Q134.556 684.762 136.362 681.221 Q138.191 677.656 138.191 670.549 Q138.191 663.42 136.362 659.878 Q134.556 656.313 130.922 656.313 M130.922 652.61 Q136.732 652.61 139.788 657.216 Q142.867 661.799 142.867 670.549 Q142.867 679.276 139.788 683.883 Q136.732 688.466 130.922 688.466 Q125.112 688.466 122.033 683.883 Q118.978 679.276 118.978 670.549 Q118.978 661.799 122.033 657.216 Q125.112 652.61 130.922 652.61 Z\" fill=\"#000000\" fill-rule=\"evenodd\" fill-opacity=\"1\" /><path clip-path=\"url(#clip670)\" d=\"M90.8067 532.833 L109.163 532.833 L109.163 536.768 L95.0891 536.768 L95.0891 545.24 Q96.1076 544.893 97.1261 544.731 Q98.1447 544.546 99.1632 544.546 Q104.95 544.546 108.33 547.717 Q111.709 550.888 111.709 556.305 Q111.709 561.883 108.237 564.985 Q104.765 568.064 98.4456 568.064 Q96.2697 568.064 94.0012 567.694 Q91.7558 567.323 89.3484 566.582 L89.3484 561.883 Q91.4317 563.018 93.6539 563.573 Q95.8761 564.129 98.353 564.129 Q102.358 564.129 104.696 562.022 Q107.033 559.916 107.033 556.305 Q107.033 552.694 104.696 550.587 Q102.358 548.481 98.353 548.481 Q96.478 548.481 94.603 548.897 Q92.7512 549.314 90.8067 550.194 L90.8067 532.833 Z\" fill=\"#000000\" fill-rule=\"evenodd\" fill-opacity=\"1\" /><path clip-path=\"url(#clip670)\" d=\"M130.922 535.911 Q127.311 535.911 125.482 539.476 Q123.677 543.018 123.677 550.147 Q123.677 557.254 125.482 560.819 Q127.311 564.36 130.922 564.36 Q134.556 564.36 136.362 560.819 Q138.191 557.254 138.191 550.147 Q138.191 543.018 136.362 539.476 Q134.556 535.911 130.922 535.911 M130.922 532.208 Q136.732 532.208 139.788 536.814 Q142.867 541.397 142.867 550.147 Q142.867 558.874 139.788 563.481 Q136.732 568.064 130.922 568.064 Q125.112 568.064 122.033 563.481 Q118.978 558.874 118.978 550.147 Q118.978 541.397 122.033 536.814 Q125.112 532.208 130.922 532.208 Z\" fill=\"#000000\" fill-rule=\"evenodd\" fill-opacity=\"1\" /><path clip-path=\"url(#clip670)\" d=\"M61.4087 443.055 L69.0476 443.055 L69.0476 416.69 L60.7374 418.356 L60.7374 414.097 L69.0013 412.431 L73.6772 412.431 L73.6772 443.055 L81.316 443.055 L81.316 446.991 L61.4087 446.991 L61.4087 443.055 Z\" fill=\"#000000\" fill-rule=\"evenodd\" fill-opacity=\"1\" /><path clip-path=\"url(#clip670)\" d=\"M100.76 415.509 Q97.1493 415.509 95.3206 419.074 Q93.515 422.616 93.515 429.745 Q93.515 436.852 95.3206 440.417 Q97.1493 443.958 100.76 443.958 Q104.395 443.958 106.2 440.417 Q108.029 436.852 108.029 429.745 Q108.029 422.616 106.2 419.074 Q104.395 415.509 100.76 415.509 M100.76 411.806 Q106.571 411.806 109.626 416.412 Q112.705 420.995 112.705 429.745 Q112.705 438.472 109.626 443.079 Q106.571 447.662 100.76 447.662 Q94.9502 447.662 91.8715 443.079 Q88.816 438.472 88.816 429.745 Q88.816 420.995 91.8715 416.412 Q94.9502 411.806 100.76 411.806 Z\" fill=\"#000000\" fill-rule=\"evenodd\" fill-opacity=\"1\" /><path clip-path=\"url(#clip670)\" d=\"M130.922 415.509 Q127.311 415.509 125.482 419.074 Q123.677 422.616 123.677 429.745 Q123.677 436.852 125.482 440.417 Q127.311 443.958 130.922 443.958 Q134.556 443.958 136.362 440.417 Q138.191 436.852 138.191 429.745 Q138.191 422.616 136.362 419.074 Q134.556 415.509 130.922 415.509 M130.922 411.806 Q136.732 411.806 139.788 416.412 Q142.867 420.995 142.867 429.745 Q142.867 438.472 139.788 443.079 Q136.732 447.662 130.922 447.662 Q125.112 447.662 122.033 443.079 Q118.978 438.472 118.978 429.745 Q118.978 420.995 122.033 416.412 Q125.112 411.806 130.922 411.806 Z\" fill=\"#000000\" fill-rule=\"evenodd\" fill-opacity=\"1\" /><path clip-path=\"url(#clip670)\" d=\"M61.4087 322.653 L69.0476 322.653 L69.0476 296.288 L60.7374 297.955 L60.7374 293.695 L69.0013 292.029 L73.6772 292.029 L73.6772 322.653 L81.316 322.653 L81.316 326.589 L61.4087 326.589 L61.4087 322.653 Z\" fill=\"#000000\" fill-rule=\"evenodd\" fill-opacity=\"1\" /><path clip-path=\"url(#clip670)\" d=\"M90.8067 292.029 L109.163 292.029 L109.163 295.964 L95.0891 295.964 L95.0891 304.436 Q96.1076 304.089 97.1261 303.927 Q98.1447 303.742 99.1632 303.742 Q104.95 303.742 108.33 306.913 Q111.709 310.084 111.709 315.501 Q111.709 321.079 108.237 324.181 Q104.765 327.26 98.4456 327.26 Q96.2697 327.26 94.0012 326.89 Q91.7558 326.519 89.3484 325.778 L89.3484 321.079 Q91.4317 322.214 93.6539 322.769 Q95.8761 323.325 98.353 323.325 Q102.358 323.325 104.696 321.218 Q107.033 319.112 107.033 315.501 Q107.033 311.89 104.696 309.783 Q102.358 307.677 98.353 307.677 Q96.478 307.677 94.603 308.093 Q92.7512 308.51 90.8067 309.39 L90.8067 292.029 Z\" fill=\"#000000\" fill-rule=\"evenodd\" fill-opacity=\"1\" /><path clip-path=\"url(#clip670)\" d=\"M130.922 295.107 Q127.311 295.107 125.482 298.672 Q123.677 302.214 123.677 309.343 Q123.677 316.45 125.482 320.015 Q127.311 323.556 130.922 323.556 Q134.556 323.556 136.362 320.015 Q138.191 316.45 138.191 309.343 Q138.191 302.214 136.362 298.672 Q134.556 295.107 130.922 295.107 M130.922 291.404 Q136.732 291.404 139.788 296.01 Q142.867 300.593 142.867 309.343 Q142.867 318.07 139.788 322.677 Q136.732 327.26 130.922 327.26 Q125.112 327.26 122.033 322.677 Q118.978 318.07 118.978 309.343 Q118.978 300.593 122.033 296.01 Q125.112 291.404 130.922 291.404 Z\" fill=\"#000000\" fill-rule=\"evenodd\" fill-opacity=\"1\" /><path clip-path=\"url(#clip670)\" d=\"M64.6263 202.251 L80.9457 202.251 L80.9457 206.187 L59.0013 206.187 L59.0013 202.251 Q61.6634 199.497 66.2467 194.867 Q70.8531 190.214 72.0337 188.872 Q74.279 186.349 75.1587 184.613 Q76.0614 182.853 76.0614 181.164 Q76.0614 178.409 74.117 176.673 Q72.1957 174.937 69.0939 174.937 Q66.8948 174.937 64.4411 175.701 Q62.0106 176.465 59.2328 178.015 L59.2328 173.293 Q62.0569 172.159 64.5106 171.58 Q66.9643 171.002 69.0013 171.002 Q74.3716 171.002 77.5661 173.687 Q80.7605 176.372 80.7605 180.863 Q80.7605 182.992 79.9503 184.914 Q79.1633 186.812 77.0568 189.404 Q76.4781 190.076 73.3763 193.293 Q70.2744 196.488 64.6263 202.251 Z\" fill=\"#000000\" fill-rule=\"evenodd\" fill-opacity=\"1\" /><path clip-path=\"url(#clip670)\" d=\"M100.76 174.705 Q97.1493 174.705 95.3206 178.27 Q93.515 181.812 93.515 188.941 Q93.515 196.048 95.3206 199.613 Q97.1493 203.154 100.76 203.154 Q104.395 203.154 106.2 199.613 Q108.029 196.048 108.029 188.941 Q108.029 181.812 106.2 178.27 Q104.395 174.705 100.76 174.705 M100.76 171.002 Q106.571 171.002 109.626 175.608 Q112.705 180.191 112.705 188.941 Q112.705 197.668 109.626 202.275 Q106.571 206.858 100.76 206.858 Q94.9502 206.858 91.8715 202.275 Q88.816 197.668 88.816 188.941 Q88.816 180.191 91.8715 175.608 Q94.9502 171.002 100.76 171.002 Z\" fill=\"#000000\" fill-rule=\"evenodd\" fill-opacity=\"1\" /><path clip-path=\"url(#clip670)\" d=\"M130.922 174.705 Q127.311 174.705 125.482 178.27 Q123.677 181.812 123.677 188.941 Q123.677 196.048 125.482 199.613 Q127.311 203.154 130.922 203.154 Q134.556 203.154 136.362 199.613 Q138.191 196.048 138.191 188.941 Q138.191 181.812 136.362 178.27 Q134.556 174.705 130.922 174.705 M130.922 171.002 Q136.732 171.002 139.788 175.608 Q142.867 180.191 142.867 188.941 Q142.867 197.668 139.788 202.275 Q136.732 206.858 130.922 206.858 Q125.112 206.858 122.033 202.275 Q118.978 197.668 118.978 188.941 Q118.978 180.191 122.033 175.608 Q125.112 171.002 130.922 171.002 Z\" fill=\"#000000\" fill-rule=\"evenodd\" fill-opacity=\"1\" /><path clip-path=\"url(#clip670)\" d=\"M650.076 27.2059 L633.67 49.2833 L650.927 72.576 L642.137 72.576 L628.931 54.752 L615.725 72.576 L606.934 72.576 L624.556 48.8377 L608.433 27.2059 L617.224 27.2059 L629.255 43.369 L641.286 27.2059 L650.076 27.2059 Z\" fill=\"#000000\" fill-rule=\"evenodd\" fill-opacity=\"1\" /><path clip-path=\"url(#clip670)\" d=\"M679.364 9.62495 Q673.936 18.942 671.303 28.0566 Q668.67 37.1711 668.67 46.5287 Q668.67 55.8863 671.303 65.0818 Q673.977 74.2369 679.364 83.5134 L672.883 83.5134 Q666.807 73.9938 663.768 64.7983 Q660.771 55.6027 660.771 46.5287 Q660.771 37.4952 663.768 28.3401 Q666.766 19.1851 672.883 9.62495 L679.364 9.62495 Z\" fill=\"#000000\" fill-rule=\"evenodd\" fill-opacity=\"1\" /><path clip-path=\"url(#clip670)\" d=\"M701.199 14.324 L701.199 27.2059 L716.552 27.2059 L716.552 32.9987 L701.199 32.9987 L701.199 57.6282 Q701.199 63.1779 702.698 64.7578 Q704.237 66.3376 708.896 66.3376 L716.552 66.3376 L716.552 72.576 L708.896 72.576 Q700.267 72.576 696.986 69.3758 Q693.705 66.1351 693.705 57.6282 L693.705 32.9987 L688.236 32.9987 L688.236 27.2059 L693.705 27.2059 L693.705 14.324 L701.199 14.324 Z\" fill=\"#000000\" fill-rule=\"evenodd\" fill-opacity=\"1\" /><path clip-path=\"url(#clip670)\" d=\"M725.18 9.62495 L731.662 9.62495 Q737.738 19.1851 740.736 28.3401 Q743.774 37.4952 743.774 46.5287 Q743.774 55.6027 740.736 64.7983 Q737.738 73.9938 731.662 83.5134 L725.18 83.5134 Q730.568 74.2369 733.201 65.0818 Q735.875 55.8863 735.875 46.5287 Q735.875 37.1711 733.201 28.0566 Q730.568 18.942 725.18 9.62495 Z\" fill=\"#000000\" fill-rule=\"evenodd\" fill-opacity=\"1\" /><path clip-path=\"url(#clip670)\" d=\"\n",
       "M975.981 245.918 L1138.74 245.918 L1138.74 142.238 L975.981 142.238  Z\n",
       "  \" fill=\"#ffffff\" fill-rule=\"evenodd\" fill-opacity=\"1\"/>\n",
       "<polyline clip-path=\"url(#clip670)\" style=\"stroke:#000000; stroke-linecap:butt; stroke-linejoin:round; stroke-width:4; stroke-opacity:1; fill:none\" points=\"\n",
       "  975.981,245.918 1138.74,245.918 1138.74,142.238 975.981,142.238 975.981,245.918 \n",
       "  \"/>\n",
       "<path clip-path=\"url(#clip670)\" d=\"M1078.09 213.765 Q1076.28 218.395 1074.57 219.807 Q1072.86 221.219 1069.99 221.219 L1066.58 221.219 L1066.58 217.654 L1069.08 217.654 Q1070.84 217.654 1071.82 216.821 Q1072.79 215.988 1073.97 212.886 L1074.73 210.941 L1064.25 185.432 L1068.76 185.432 L1076.86 205.71 L1084.96 185.432 L1089.48 185.432 L1078.09 213.765 Z\" fill=\"#000000\" fill-rule=\"evenodd\" fill-opacity=\"1\" /><path clip-path=\"url(#clip670)\" d=\"M1096.77 207.423 L1104.41 207.423 L1104.41 181.057 L1096.1 182.724 L1096.1 178.465 L1104.36 176.798 L1109.04 176.798 L1109.04 207.423 L1116.68 207.423 L1116.68 211.358 L1096.77 211.358 L1096.77 207.423 Z\" fill=\"#000000\" fill-rule=\"evenodd\" fill-opacity=\"1\" /><path clip-path=\"url(#clip670)\" d=\"\n",
       "M1359.78 686.448 L2352.76 686.448 L2352.76 123.472 L1359.78 123.472  Z\n",
       "  \" fill=\"#ffffff\" fill-rule=\"evenodd\" fill-opacity=\"1\"/>\n",
       "<defs>\n",
       "  <clipPath id=\"clip673\">\n",
       "    <rect x=\"1359\" y=\"123\" width=\"994\" height=\"564\"/>\n",
       "  </clipPath>\n",
       "</defs>\n",
       "<polyline clip-path=\"url(#clip673)\" style=\"stroke:#000000; stroke-linecap:butt; stroke-linejoin:round; stroke-width:2; stroke-opacity:0.1; fill:none\" points=\"\n",
       "  1386.32,686.448 1386.32,123.472 \n",
       "  \"/>\n",
       "<polyline clip-path=\"url(#clip673)\" style=\"stroke:#000000; stroke-linecap:butt; stroke-linejoin:round; stroke-width:2; stroke-opacity:0.1; fill:none\" points=\"\n",
       "  1570.23,686.448 1570.23,123.472 \n",
       "  \"/>\n",
       "<polyline clip-path=\"url(#clip673)\" style=\"stroke:#000000; stroke-linecap:butt; stroke-linejoin:round; stroke-width:2; stroke-opacity:0.1; fill:none\" points=\"\n",
       "  1754.15,686.448 1754.15,123.472 \n",
       "  \"/>\n",
       "<polyline clip-path=\"url(#clip673)\" style=\"stroke:#000000; stroke-linecap:butt; stroke-linejoin:round; stroke-width:2; stroke-opacity:0.1; fill:none\" points=\"\n",
       "  1938.06,686.448 1938.06,123.472 \n",
       "  \"/>\n",
       "<polyline clip-path=\"url(#clip673)\" style=\"stroke:#000000; stroke-linecap:butt; stroke-linejoin:round; stroke-width:2; stroke-opacity:0.1; fill:none\" points=\"\n",
       "  2121.97,686.448 2121.97,123.472 \n",
       "  \"/>\n",
       "<polyline clip-path=\"url(#clip673)\" style=\"stroke:#000000; stroke-linecap:butt; stroke-linejoin:round; stroke-width:2; stroke-opacity:0.1; fill:none\" points=\"\n",
       "  2305.89,686.448 2305.89,123.472 \n",
       "  \"/>\n",
       "<polyline clip-path=\"url(#clip670)\" style=\"stroke:#000000; stroke-linecap:butt; stroke-linejoin:round; stroke-width:4; stroke-opacity:1; fill:none\" points=\"\n",
       "  1359.78,686.448 2352.76,686.448 \n",
       "  \"/>\n",
       "<polyline clip-path=\"url(#clip670)\" style=\"stroke:#000000; stroke-linecap:butt; stroke-linejoin:round; stroke-width:4; stroke-opacity:1; fill:none\" points=\"\n",
       "  1386.32,686.448 1386.32,667.55 \n",
       "  \"/>\n",
       "<polyline clip-path=\"url(#clip670)\" style=\"stroke:#000000; stroke-linecap:butt; stroke-linejoin:round; stroke-width:4; stroke-opacity:1; fill:none\" points=\"\n",
       "  1570.23,686.448 1570.23,667.55 \n",
       "  \"/>\n",
       "<polyline clip-path=\"url(#clip670)\" style=\"stroke:#000000; stroke-linecap:butt; stroke-linejoin:round; stroke-width:4; stroke-opacity:1; fill:none\" points=\"\n",
       "  1754.15,686.448 1754.15,667.55 \n",
       "  \"/>\n",
       "<polyline clip-path=\"url(#clip670)\" style=\"stroke:#000000; stroke-linecap:butt; stroke-linejoin:round; stroke-width:4; stroke-opacity:1; fill:none\" points=\"\n",
       "  1938.06,686.448 1938.06,667.55 \n",
       "  \"/>\n",
       "<polyline clip-path=\"url(#clip670)\" style=\"stroke:#000000; stroke-linecap:butt; stroke-linejoin:round; stroke-width:4; stroke-opacity:1; fill:none\" points=\"\n",
       "  2121.97,686.448 2121.97,667.55 \n",
       "  \"/>\n",
       "<polyline clip-path=\"url(#clip670)\" style=\"stroke:#000000; stroke-linecap:butt; stroke-linejoin:round; stroke-width:4; stroke-opacity:1; fill:none\" points=\"\n",
       "  2305.89,686.448 2305.89,667.55 \n",
       "  \"/>\n",
       "<path clip-path=\"url(#clip670)\" d=\"M1386.32 717.367 Q1382.71 717.367 1380.88 720.931 Q1379.07 724.473 1379.07 731.603 Q1379.07 738.709 1380.88 742.274 Q1382.71 745.815 1386.32 745.815 Q1389.95 745.815 1391.76 742.274 Q1393.59 738.709 1393.59 731.603 Q1393.59 724.473 1391.76 720.931 Q1389.95 717.367 1386.32 717.367 M1386.32 713.663 Q1392.13 713.663 1395.19 718.269 Q1398.26 722.853 1398.26 731.603 Q1398.26 740.329 1395.19 744.936 Q1392.13 749.519 1386.32 749.519 Q1380.51 749.519 1377.43 744.936 Q1374.38 740.329 1374.38 731.603 Q1374.38 722.853 1377.43 718.269 Q1380.51 713.663 1386.32 713.663 Z\" fill=\"#000000\" fill-rule=\"evenodd\" fill-opacity=\"1\" /><path clip-path=\"url(#clip670)\" d=\"M1560.62 744.913 L1568.25 744.913 L1568.25 718.547 L1559.94 720.214 L1559.94 715.955 L1568.21 714.288 L1572.88 714.288 L1572.88 744.913 L1580.52 744.913 L1580.52 748.848 L1560.62 748.848 L1560.62 744.913 Z\" fill=\"#000000\" fill-rule=\"evenodd\" fill-opacity=\"1\" /><path clip-path=\"url(#clip670)\" d=\"M1748.8 744.913 L1765.12 744.913 L1765.12 748.848 L1743.17 748.848 L1743.17 744.913 Q1745.84 742.158 1750.42 737.528 Q1755.03 732.876 1756.21 731.533 Q1758.45 729.01 1759.33 727.274 Q1760.23 725.515 1760.23 723.825 Q1760.23 721.07 1758.29 719.334 Q1756.37 717.598 1753.27 717.598 Q1751.07 717.598 1748.61 718.362 Q1746.18 719.126 1743.41 720.677 L1743.41 715.955 Q1746.23 714.82 1748.68 714.242 Q1751.14 713.663 1753.17 713.663 Q1758.54 713.663 1761.74 716.348 Q1764.93 719.033 1764.93 723.524 Q1764.93 725.654 1764.12 727.575 Q1763.34 729.473 1761.23 732.066 Q1760.65 732.737 1757.55 735.954 Q1754.45 739.149 1748.8 744.913 Z\" fill=\"#000000\" fill-rule=\"evenodd\" fill-opacity=\"1\" /><path clip-path=\"url(#clip670)\" d=\"M1942.31 730.214 Q1945.66 730.931 1947.54 733.2 Q1949.44 735.468 1949.44 738.802 Q1949.44 743.917 1945.92 746.718 Q1942.4 749.519 1935.92 749.519 Q1933.74 749.519 1931.43 749.079 Q1929.14 748.663 1926.68 747.806 L1926.68 743.292 Q1928.63 744.427 1930.94 745.005 Q1933.26 745.584 1935.78 745.584 Q1940.18 745.584 1942.47 743.848 Q1944.78 742.112 1944.78 738.802 Q1944.78 735.746 1942.63 734.033 Q1940.5 732.297 1936.68 732.297 L1932.65 732.297 L1932.65 728.454 L1936.87 728.454 Q1940.32 728.454 1942.15 727.089 Q1943.97 725.7 1943.97 723.107 Q1943.97 720.445 1942.08 719.033 Q1940.2 717.598 1936.68 717.598 Q1934.76 717.598 1932.56 718.015 Q1930.36 718.431 1927.72 719.311 L1927.72 715.144 Q1930.39 714.404 1932.7 714.033 Q1935.04 713.663 1937.1 713.663 Q1942.42 713.663 1945.53 716.093 Q1948.63 718.501 1948.63 722.621 Q1948.63 725.492 1946.98 727.482 Q1945.34 729.45 1942.31 730.214 Z\" fill=\"#000000\" fill-rule=\"evenodd\" fill-opacity=\"1\" /><path clip-path=\"url(#clip670)\" d=\"M2124.98 718.362 L2113.18 736.811 L2124.98 736.811 L2124.98 718.362 M2123.76 714.288 L2129.64 714.288 L2129.64 736.811 L2134.57 736.811 L2134.57 740.7 L2129.64 740.7 L2129.64 748.848 L2124.98 748.848 L2124.98 740.7 L2109.38 740.7 L2109.38 736.186 L2123.76 714.288 Z\" fill=\"#000000\" fill-rule=\"evenodd\" fill-opacity=\"1\" /><path clip-path=\"url(#clip670)\" d=\"M2296.16 714.288 L2314.52 714.288 L2314.52 718.223 L2300.45 718.223 L2300.45 726.695 Q2301.46 726.348 2302.48 726.186 Q2303.5 726.001 2304.52 726.001 Q2310.31 726.001 2313.69 729.172 Q2317.07 732.343 2317.07 737.76 Q2317.07 743.339 2313.59 746.44 Q2310.12 749.519 2303.8 749.519 Q2301.63 749.519 2299.36 749.149 Q2297.11 748.778 2294.71 748.038 L2294.71 743.339 Q2296.79 744.473 2299.01 745.028 Q2301.23 745.584 2303.71 745.584 Q2307.71 745.584 2310.05 743.478 Q2312.39 741.371 2312.39 737.76 Q2312.39 734.149 2310.05 732.042 Q2307.71 729.936 2303.71 729.936 Q2301.84 729.936 2299.96 730.353 Q2298.11 730.769 2296.16 731.649 L2296.16 714.288 Z\" fill=\"#000000\" fill-rule=\"evenodd\" fill-opacity=\"1\" /><polyline clip-path=\"url(#clip673)\" style=\"stroke:#000000; stroke-linecap:butt; stroke-linejoin:round; stroke-width:2; stroke-opacity:0.1; fill:none\" points=\"\n",
       "  1359.78,670.515 2352.76,670.515 \n",
       "  \"/>\n",
       "<polyline clip-path=\"url(#clip673)\" style=\"stroke:#000000; stroke-linecap:butt; stroke-linejoin:round; stroke-width:2; stroke-opacity:0.1; fill:none\" points=\"\n",
       "  1359.78,503.959 2352.76,503.959 \n",
       "  \"/>\n",
       "<polyline clip-path=\"url(#clip673)\" style=\"stroke:#000000; stroke-linecap:butt; stroke-linejoin:round; stroke-width:2; stroke-opacity:0.1; fill:none\" points=\"\n",
       "  1359.78,337.403 2352.76,337.403 \n",
       "  \"/>\n",
       "<polyline clip-path=\"url(#clip673)\" style=\"stroke:#000000; stroke-linecap:butt; stroke-linejoin:round; stroke-width:2; stroke-opacity:0.1; fill:none\" points=\"\n",
       "  1359.78,170.847 2352.76,170.847 \n",
       "  \"/>\n",
       "<polyline clip-path=\"url(#clip670)\" style=\"stroke:#000000; stroke-linecap:butt; stroke-linejoin:round; stroke-width:4; stroke-opacity:1; fill:none\" points=\"\n",
       "  1359.78,686.448 1359.78,123.472 \n",
       "  \"/>\n",
       "<polyline clip-path=\"url(#clip670)\" style=\"stroke:#000000; stroke-linecap:butt; stroke-linejoin:round; stroke-width:4; stroke-opacity:1; fill:none\" points=\"\n",
       "  1359.78,670.515 1378.68,670.515 \n",
       "  \"/>\n",
       "<polyline clip-path=\"url(#clip670)\" style=\"stroke:#000000; stroke-linecap:butt; stroke-linejoin:round; stroke-width:4; stroke-opacity:1; fill:none\" points=\"\n",
       "  1359.78,503.959 1378.68,503.959 \n",
       "  \"/>\n",
       "<polyline clip-path=\"url(#clip670)\" style=\"stroke:#000000; stroke-linecap:butt; stroke-linejoin:round; stroke-width:4; stroke-opacity:1; fill:none\" points=\"\n",
       "  1359.78,337.403 1378.68,337.403 \n",
       "  \"/>\n",
       "<polyline clip-path=\"url(#clip670)\" style=\"stroke:#000000; stroke-linecap:butt; stroke-linejoin:round; stroke-width:4; stroke-opacity:1; fill:none\" points=\"\n",
       "  1359.78,170.847 1378.68,170.847 \n",
       "  \"/>\n",
       "<path clip-path=\"url(#clip670)\" d=\"M1311.84 656.313 Q1308.23 656.313 1306.4 659.878 Q1304.59 663.42 1304.59 670.549 Q1304.59 677.656 1306.4 681.221 Q1308.23 684.762 1311.84 684.762 Q1315.47 684.762 1317.28 681.221 Q1319.11 677.656 1319.11 670.549 Q1319.11 663.42 1317.28 659.878 Q1315.47 656.313 1311.84 656.313 M1311.84 652.61 Q1317.65 652.61 1320.7 657.216 Q1323.78 661.799 1323.78 670.549 Q1323.78 679.276 1320.7 683.883 Q1317.65 688.466 1311.84 688.466 Q1306.03 688.466 1302.95 683.883 Q1299.89 679.276 1299.89 670.549 Q1299.89 661.799 1302.95 657.216 Q1306.03 652.61 1311.84 652.61 Z\" fill=\"#000000\" fill-rule=\"evenodd\" fill-opacity=\"1\" /><path clip-path=\"url(#clip670)\" d=\"M1272.49 517.304 L1280.12 517.304 L1280.12 490.938 L1271.81 492.605 L1271.81 488.345 L1280.08 486.679 L1284.75 486.679 L1284.75 517.304 L1292.39 517.304 L1292.39 521.239 L1272.49 521.239 L1272.49 517.304 Z\" fill=\"#000000\" fill-rule=\"evenodd\" fill-opacity=\"1\" /><path clip-path=\"url(#clip670)\" d=\"M1311.84 489.757 Q1308.23 489.757 1306.4 493.322 Q1304.59 496.864 1304.59 503.993 Q1304.59 511.1 1306.4 514.665 Q1308.23 518.206 1311.84 518.206 Q1315.47 518.206 1317.28 514.665 Q1319.11 511.1 1319.11 503.993 Q1319.11 496.864 1317.28 493.322 Q1315.47 489.757 1311.84 489.757 M1311.84 486.054 Q1317.65 486.054 1320.7 490.66 Q1323.78 495.244 1323.78 503.993 Q1323.78 512.72 1320.7 517.327 Q1317.65 521.91 1311.84 521.91 Q1306.03 521.91 1302.95 517.327 Q1299.89 512.72 1299.89 503.993 Q1299.89 495.244 1302.95 490.66 Q1306.03 486.054 1311.84 486.054 Z\" fill=\"#000000\" fill-rule=\"evenodd\" fill-opacity=\"1\" /><path clip-path=\"url(#clip670)\" d=\"M1275.7 350.748 L1292.02 350.748 L1292.02 354.683 L1270.08 354.683 L1270.08 350.748 Q1272.74 347.993 1277.32 343.364 Q1281.93 338.711 1283.11 337.368 Q1285.36 334.845 1286.23 333.109 Q1287.14 331.35 1287.14 329.66 Q1287.14 326.905 1285.19 325.169 Q1283.27 323.433 1280.17 323.433 Q1277.97 323.433 1275.52 324.197 Q1273.09 324.961 1270.31 326.512 L1270.31 321.79 Q1273.13 320.655 1275.59 320.077 Q1278.04 319.498 1280.08 319.498 Q1285.45 319.498 1288.64 322.183 Q1291.84 324.868 1291.84 329.359 Q1291.84 331.489 1291.03 333.41 Q1290.24 335.308 1288.13 337.901 Q1287.55 338.572 1284.45 341.789 Q1281.35 344.984 1275.7 350.748 Z\" fill=\"#000000\" fill-rule=\"evenodd\" fill-opacity=\"1\" /><path clip-path=\"url(#clip670)\" d=\"M1311.84 323.202 Q1308.23 323.202 1306.4 326.766 Q1304.59 330.308 1304.59 337.438 Q1304.59 344.544 1306.4 348.109 Q1308.23 351.651 1311.84 351.651 Q1315.47 351.651 1317.28 348.109 Q1319.11 344.544 1319.11 337.438 Q1319.11 330.308 1317.28 326.766 Q1315.47 323.202 1311.84 323.202 M1311.84 319.498 Q1317.65 319.498 1320.7 324.104 Q1323.78 328.688 1323.78 337.438 Q1323.78 346.164 1320.7 350.771 Q1317.65 355.354 1311.84 355.354 Q1306.03 355.354 1302.95 350.771 Q1299.89 346.164 1299.89 337.438 Q1299.89 328.688 1302.95 324.104 Q1306.03 319.498 1311.84 319.498 Z\" fill=\"#000000\" fill-rule=\"evenodd\" fill-opacity=\"1\" /><path clip-path=\"url(#clip670)\" d=\"M1285.84 169.493 Q1289.2 170.21 1291.07 172.479 Q1292.97 174.748 1292.97 178.081 Q1292.97 183.197 1289.45 185.997 Q1285.93 188.798 1279.45 188.798 Q1277.28 188.798 1274.96 188.359 Q1272.67 187.942 1270.22 187.085 L1270.22 182.572 Q1272.16 183.706 1274.48 184.284 Q1276.79 184.863 1279.31 184.863 Q1283.71 184.863 1286 183.127 Q1288.32 181.391 1288.32 178.081 Q1288.32 175.025 1286.17 173.312 Q1284.04 171.576 1280.22 171.576 L1276.19 171.576 L1276.19 167.734 L1280.4 167.734 Q1283.85 167.734 1285.68 166.368 Q1287.51 164.979 1287.51 162.386 Q1287.51 159.724 1285.61 158.312 Q1283.74 156.877 1280.22 156.877 Q1278.3 156.877 1276.1 157.294 Q1273.9 157.711 1271.26 158.59 L1271.26 154.424 Q1273.92 153.683 1276.24 153.312 Q1278.57 152.942 1280.63 152.942 Q1285.96 152.942 1289.06 155.373 Q1292.16 157.78 1292.16 161.9 Q1292.16 164.771 1290.52 166.761 Q1288.87 168.729 1285.84 169.493 Z\" fill=\"#000000\" fill-rule=\"evenodd\" fill-opacity=\"1\" /><path clip-path=\"url(#clip670)\" d=\"M1311.84 156.646 Q1308.23 156.646 1306.4 160.211 Q1304.59 163.752 1304.59 170.882 Q1304.59 177.988 1306.4 181.553 Q1308.23 185.095 1311.84 185.095 Q1315.47 185.095 1317.28 181.553 Q1319.11 177.988 1319.11 170.882 Q1319.11 163.752 1317.28 160.211 Q1315.47 156.646 1311.84 156.646 M1311.84 152.942 Q1317.65 152.942 1320.7 157.549 Q1323.78 162.132 1323.78 170.882 Q1323.78 179.609 1320.7 184.215 Q1317.65 188.798 1311.84 188.798 Q1306.03 188.798 1302.95 184.215 Q1299.89 179.609 1299.89 170.882 Q1299.89 162.132 1302.95 157.549 Q1306.03 152.942 1311.84 152.942 Z\" fill=\"#000000\" fill-rule=\"evenodd\" fill-opacity=\"1\" /><path clip-path=\"url(#clip670)\" d=\"M1812.11 76.7889 Q1808.95 84.8907 1805.96 87.3618 Q1802.96 89.8329 1797.94 89.8329 L1791.98 89.8329 L1791.98 83.5945 L1796.36 83.5945 Q1799.43 83.5945 1801.14 82.1361 Q1802.84 80.6778 1804.9 75.2496 L1806.24 71.8468 L1787.89 27.2059 L1795.79 27.2059 L1809.97 62.6918 L1824.14 27.2059 L1832.04 27.2059 L1812.11 76.7889 Z\" fill=\"#000000\" fill-rule=\"evenodd\" fill-opacity=\"1\" /><path clip-path=\"url(#clip670)\" d=\"M1860.24 9.62495 Q1854.81 18.942 1852.18 28.0566 Q1849.54 37.1711 1849.54 46.5287 Q1849.54 55.8863 1852.18 65.0818 Q1854.85 74.2369 1860.24 83.5134 L1853.76 83.5134 Q1847.68 73.9938 1844.64 64.7983 Q1841.64 55.6027 1841.64 46.5287 Q1841.64 37.4952 1844.64 28.3401 Q1847.64 19.1851 1853.76 9.62495 L1860.24 9.62495 Z\" fill=\"#000000\" fill-rule=\"evenodd\" fill-opacity=\"1\" /><path clip-path=\"url(#clip670)\" d=\"M1882.07 14.324 L1882.07 27.2059 L1897.43 27.2059 L1897.43 32.9987 L1882.07 32.9987 L1882.07 57.6282 Q1882.07 63.1779 1883.57 64.7578 Q1885.11 66.3376 1889.77 66.3376 L1897.43 66.3376 L1897.43 72.576 L1889.77 72.576 Q1881.14 72.576 1877.86 69.3758 Q1874.58 66.1351 1874.58 57.6282 L1874.58 32.9987 L1869.11 32.9987 L1869.11 27.2059 L1874.58 27.2059 L1874.58 14.324 L1882.07 14.324 Z\" fill=\"#000000\" fill-rule=\"evenodd\" fill-opacity=\"1\" /><path clip-path=\"url(#clip670)\" d=\"M1906.05 9.62495 L1912.54 9.62495 Q1918.61 19.1851 1921.61 28.3401 Q1924.65 37.4952 1924.65 46.5287 Q1924.65 55.6027 1921.61 64.7983 Q1918.61 73.9938 1912.54 83.5134 L1906.05 83.5134 Q1911.44 74.2369 1914.07 65.0818 Q1916.75 55.8863 1916.75 46.5287 Q1916.75 37.1711 1914.07 28.0566 Q1911.44 18.942 1906.05 9.62495 Z\" fill=\"#000000\" fill-rule=\"evenodd\" fill-opacity=\"1\" /><path clip-path=\"url(#clip670)\" d=\"\n",
       "M2156.9 245.918 L2319.66 245.918 L2319.66 142.238 L2156.9 142.238  Z\n",
       "  \" fill=\"#ffffff\" fill-rule=\"evenodd\" fill-opacity=\"1\"/>\n",
       "<polyline clip-path=\"url(#clip670)\" style=\"stroke:#000000; stroke-linecap:butt; stroke-linejoin:round; stroke-width:4; stroke-opacity:1; fill:none\" points=\"\n",
       "  2156.9,245.918 2319.66,245.918 2319.66,142.238 2156.9,142.238 2156.9,245.918 \n",
       "  \"/>\n",
       "<path clip-path=\"url(#clip670)\" d=\"M2259 213.765 Q2257.2 218.395 2255.48 219.807 Q2253.77 221.219 2250.9 221.219 L2247.5 221.219 L2247.5 217.654 L2250 217.654 Q2251.76 217.654 2252.73 216.821 Q2253.7 215.988 2254.88 212.886 L2255.65 210.941 L2245.16 185.432 L2249.67 185.432 L2257.78 205.71 L2265.88 185.432 L2270.39 185.432 L2259 213.765 Z\" fill=\"#000000\" fill-rule=\"evenodd\" fill-opacity=\"1\" /><path clip-path=\"url(#clip670)\" d=\"M2277.68 207.423 L2285.32 207.423 L2285.32 181.057 L2277.01 182.724 L2277.01 178.465 L2285.28 176.798 L2289.95 176.798 L2289.95 207.423 L2297.59 207.423 L2297.59 211.358 L2277.68 211.358 L2277.68 207.423 Z\" fill=\"#000000\" fill-rule=\"evenodd\" fill-opacity=\"1\" /><path clip-path=\"url(#clip670)\" d=\"\n",
       "M178.867 1486.45 L1171.84 1486.45 L1171.84 923.472 L178.867 923.472  Z\n",
       "  \" fill=\"#ffffff\" fill-rule=\"evenodd\" fill-opacity=\"1\"/>\n",
       "<defs>\n",
       "  <clipPath id=\"clip674\">\n",
       "    <rect x=\"178\" y=\"923\" width=\"994\" height=\"564\"/>\n",
       "  </clipPath>\n",
       "</defs>\n",
       "<polyline clip-path=\"url(#clip674)\" style=\"stroke:#000000; stroke-linecap:butt; stroke-linejoin:round; stroke-width:2; stroke-opacity:0.1; fill:none\" points=\"\n",
       "  205.406,1486.45 205.406,923.472 \n",
       "  \"/>\n",
       "<polyline clip-path=\"url(#clip674)\" style=\"stroke:#000000; stroke-linecap:butt; stroke-linejoin:round; stroke-width:2; stroke-opacity:0.1; fill:none\" points=\"\n",
       "  389.319,1486.45 389.319,923.472 \n",
       "  \"/>\n",
       "<polyline clip-path=\"url(#clip674)\" style=\"stroke:#000000; stroke-linecap:butt; stroke-linejoin:round; stroke-width:2; stroke-opacity:0.1; fill:none\" points=\"\n",
       "  573.232,1486.45 573.232,923.472 \n",
       "  \"/>\n",
       "<polyline clip-path=\"url(#clip674)\" style=\"stroke:#000000; stroke-linecap:butt; stroke-linejoin:round; stroke-width:2; stroke-opacity:0.1; fill:none\" points=\"\n",
       "  757.145,1486.45 757.145,923.472 \n",
       "  \"/>\n",
       "<polyline clip-path=\"url(#clip674)\" style=\"stroke:#000000; stroke-linecap:butt; stroke-linejoin:round; stroke-width:2; stroke-opacity:0.1; fill:none\" points=\"\n",
       "  941.059,1486.45 941.059,923.472 \n",
       "  \"/>\n",
       "<polyline clip-path=\"url(#clip674)\" style=\"stroke:#000000; stroke-linecap:butt; stroke-linejoin:round; stroke-width:2; stroke-opacity:0.1; fill:none\" points=\"\n",
       "  1124.97,1486.45 1124.97,923.472 \n",
       "  \"/>\n",
       "<polyline clip-path=\"url(#clip670)\" style=\"stroke:#000000; stroke-linecap:butt; stroke-linejoin:round; stroke-width:4; stroke-opacity:1; fill:none\" points=\"\n",
       "  178.867,1486.45 1171.84,1486.45 \n",
       "  \"/>\n",
       "<polyline clip-path=\"url(#clip670)\" style=\"stroke:#000000; stroke-linecap:butt; stroke-linejoin:round; stroke-width:4; stroke-opacity:1; fill:none\" points=\"\n",
       "  205.406,1486.45 205.406,1467.55 \n",
       "  \"/>\n",
       "<polyline clip-path=\"url(#clip670)\" style=\"stroke:#000000; stroke-linecap:butt; stroke-linejoin:round; stroke-width:4; stroke-opacity:1; fill:none\" points=\"\n",
       "  389.319,1486.45 389.319,1467.55 \n",
       "  \"/>\n",
       "<polyline clip-path=\"url(#clip670)\" style=\"stroke:#000000; stroke-linecap:butt; stroke-linejoin:round; stroke-width:4; stroke-opacity:1; fill:none\" points=\"\n",
       "  573.232,1486.45 573.232,1467.55 \n",
       "  \"/>\n",
       "<polyline clip-path=\"url(#clip670)\" style=\"stroke:#000000; stroke-linecap:butt; stroke-linejoin:round; stroke-width:4; stroke-opacity:1; fill:none\" points=\"\n",
       "  757.145,1486.45 757.145,1467.55 \n",
       "  \"/>\n",
       "<polyline clip-path=\"url(#clip670)\" style=\"stroke:#000000; stroke-linecap:butt; stroke-linejoin:round; stroke-width:4; stroke-opacity:1; fill:none\" points=\"\n",
       "  941.059,1486.45 941.059,1467.55 \n",
       "  \"/>\n",
       "<polyline clip-path=\"url(#clip670)\" style=\"stroke:#000000; stroke-linecap:butt; stroke-linejoin:round; stroke-width:4; stroke-opacity:1; fill:none\" points=\"\n",
       "  1124.97,1486.45 1124.97,1467.55 \n",
       "  \"/>\n",
       "<path clip-path=\"url(#clip670)\" d=\"M205.406 1517.37 Q201.795 1517.37 199.966 1520.93 Q198.16 1524.47 198.16 1531.6 Q198.16 1538.71 199.966 1542.27 Q201.795 1545.82 205.406 1545.82 Q209.04 1545.82 210.846 1542.27 Q212.674 1538.71 212.674 1531.6 Q212.674 1524.47 210.846 1520.93 Q209.04 1517.37 205.406 1517.37 M205.406 1513.66 Q211.216 1513.66 214.272 1518.27 Q217.35 1522.85 217.35 1531.6 Q217.35 1540.33 214.272 1544.94 Q211.216 1549.52 205.406 1549.52 Q199.596 1549.52 196.517 1544.94 Q193.461 1540.33 193.461 1531.6 Q193.461 1522.85 196.517 1518.27 Q199.596 1513.66 205.406 1513.66 Z\" fill=\"#000000\" fill-rule=\"evenodd\" fill-opacity=\"1\" /><path clip-path=\"url(#clip670)\" d=\"M379.701 1544.91 L387.34 1544.91 L387.34 1518.55 L379.03 1520.21 L379.03 1515.95 L387.294 1514.29 L391.969 1514.29 L391.969 1544.91 L399.608 1544.91 L399.608 1548.85 L379.701 1548.85 L379.701 1544.91 Z\" fill=\"#000000\" fill-rule=\"evenodd\" fill-opacity=\"1\" /><path clip-path=\"url(#clip670)\" d=\"M567.885 1544.91 L584.204 1544.91 L584.204 1548.85 L562.26 1548.85 L562.26 1544.91 Q564.922 1542.16 569.505 1537.53 Q574.112 1532.88 575.292 1531.53 Q577.538 1529.01 578.417 1527.27 Q579.32 1525.51 579.32 1523.82 Q579.32 1521.07 577.376 1519.33 Q575.454 1517.6 572.353 1517.6 Q570.153 1517.6 567.7 1518.36 Q565.269 1519.13 562.491 1520.68 L562.491 1515.95 Q565.316 1514.82 567.769 1514.24 Q570.223 1513.66 572.26 1513.66 Q577.63 1513.66 580.825 1516.35 Q584.019 1519.03 584.019 1523.52 Q584.019 1525.65 583.209 1527.57 Q582.422 1529.47 580.315 1532.07 Q579.737 1532.74 576.635 1535.95 Q573.533 1539.15 567.885 1544.91 Z\" fill=\"#000000\" fill-rule=\"evenodd\" fill-opacity=\"1\" /><path clip-path=\"url(#clip670)\" d=\"M761.393 1530.21 Q764.749 1530.93 766.624 1533.2 Q768.523 1535.47 768.523 1538.8 Q768.523 1543.92 765.004 1546.72 Q761.486 1549.52 755.004 1549.52 Q752.828 1549.52 750.513 1549.08 Q748.222 1548.66 745.768 1547.81 L745.768 1543.29 Q747.713 1544.43 750.027 1545.01 Q752.342 1545.58 754.865 1545.58 Q759.263 1545.58 761.555 1543.85 Q763.87 1542.11 763.87 1538.8 Q763.87 1535.75 761.717 1534.03 Q759.587 1532.3 755.768 1532.3 L751.74 1532.3 L751.74 1528.45 L755.953 1528.45 Q759.402 1528.45 761.231 1527.09 Q763.06 1525.7 763.06 1523.11 Q763.06 1520.45 761.162 1519.03 Q759.287 1517.6 755.768 1517.6 Q753.847 1517.6 751.648 1518.01 Q749.449 1518.43 746.81 1519.31 L746.81 1515.14 Q749.472 1514.4 751.787 1514.03 Q754.125 1513.66 756.185 1513.66 Q761.509 1513.66 764.611 1516.09 Q767.712 1518.5 767.712 1522.62 Q767.712 1525.49 766.069 1527.48 Q764.425 1529.45 761.393 1530.21 Z\" fill=\"#000000\" fill-rule=\"evenodd\" fill-opacity=\"1\" /><path clip-path=\"url(#clip670)\" d=\"M944.068 1518.36 L932.262 1536.81 L944.068 1536.81 L944.068 1518.36 M942.841 1514.29 L948.721 1514.29 L948.721 1536.81 L953.651 1536.81 L953.651 1540.7 L948.721 1540.7 L948.721 1548.85 L944.068 1548.85 L944.068 1540.7 L928.466 1540.7 L928.466 1536.19 L942.841 1514.29 Z\" fill=\"#000000\" fill-rule=\"evenodd\" fill-opacity=\"1\" /><path clip-path=\"url(#clip670)\" d=\"M1115.25 1514.29 L1133.61 1514.29 L1133.61 1518.22 L1119.53 1518.22 L1119.53 1526.7 Q1120.55 1526.35 1121.57 1526.19 Q1122.59 1526 1123.61 1526 Q1129.39 1526 1132.77 1529.17 Q1136.15 1532.34 1136.15 1537.76 Q1136.15 1543.34 1132.68 1546.44 Q1129.21 1549.52 1122.89 1549.52 Q1120.71 1549.52 1118.44 1549.15 Q1116.2 1548.78 1113.79 1548.04 L1113.79 1543.34 Q1115.87 1544.47 1118.1 1545.03 Q1120.32 1545.58 1122.8 1545.58 Q1126.8 1545.58 1129.14 1543.48 Q1131.48 1541.37 1131.48 1537.76 Q1131.48 1534.15 1129.14 1532.04 Q1126.8 1529.94 1122.8 1529.94 Q1120.92 1529.94 1119.05 1530.35 Q1117.19 1530.77 1115.25 1531.65 L1115.25 1514.29 Z\" fill=\"#000000\" fill-rule=\"evenodd\" fill-opacity=\"1\" /><polyline clip-path=\"url(#clip674)\" style=\"stroke:#000000; stroke-linecap:butt; stroke-linejoin:round; stroke-width:2; stroke-opacity:0.1; fill:none\" points=\"\n",
       "  178.867,1418.2 1171.84,1418.2 \n",
       "  \"/>\n",
       "<polyline clip-path=\"url(#clip674)\" style=\"stroke:#000000; stroke-linecap:butt; stroke-linejoin:round; stroke-width:2; stroke-opacity:0.1; fill:none\" points=\"\n",
       "  178.867,1311.8 1171.84,1311.8 \n",
       "  \"/>\n",
       "<polyline clip-path=\"url(#clip674)\" style=\"stroke:#000000; stroke-linecap:butt; stroke-linejoin:round; stroke-width:2; stroke-opacity:0.1; fill:none\" points=\"\n",
       "  178.867,1205.4 1171.84,1205.4 \n",
       "  \"/>\n",
       "<polyline clip-path=\"url(#clip674)\" style=\"stroke:#000000; stroke-linecap:butt; stroke-linejoin:round; stroke-width:2; stroke-opacity:0.1; fill:none\" points=\"\n",
       "  178.867,1099 1171.84,1099 \n",
       "  \"/>\n",
       "<polyline clip-path=\"url(#clip674)\" style=\"stroke:#000000; stroke-linecap:butt; stroke-linejoin:round; stroke-width:2; stroke-opacity:0.1; fill:none\" points=\"\n",
       "  178.867,992.605 1171.84,992.605 \n",
       "  \"/>\n",
       "<polyline clip-path=\"url(#clip670)\" style=\"stroke:#000000; stroke-linecap:butt; stroke-linejoin:round; stroke-width:4; stroke-opacity:1; fill:none\" points=\"\n",
       "  178.867,1486.45 178.867,923.472 \n",
       "  \"/>\n",
       "<polyline clip-path=\"url(#clip670)\" style=\"stroke:#000000; stroke-linecap:butt; stroke-linejoin:round; stroke-width:4; stroke-opacity:1; fill:none\" points=\"\n",
       "  178.867,1418.2 197.764,1418.2 \n",
       "  \"/>\n",
       "<polyline clip-path=\"url(#clip670)\" style=\"stroke:#000000; stroke-linecap:butt; stroke-linejoin:round; stroke-width:4; stroke-opacity:1; fill:none\" points=\"\n",
       "  178.867,1311.8 197.764,1311.8 \n",
       "  \"/>\n",
       "<polyline clip-path=\"url(#clip670)\" style=\"stroke:#000000; stroke-linecap:butt; stroke-linejoin:round; stroke-width:4; stroke-opacity:1; fill:none\" points=\"\n",
       "  178.867,1205.4 197.764,1205.4 \n",
       "  \"/>\n",
       "<polyline clip-path=\"url(#clip670)\" style=\"stroke:#000000; stroke-linecap:butt; stroke-linejoin:round; stroke-width:4; stroke-opacity:1; fill:none\" points=\"\n",
       "  178.867,1099 197.764,1099 \n",
       "  \"/>\n",
       "<polyline clip-path=\"url(#clip670)\" style=\"stroke:#000000; stroke-linecap:butt; stroke-linejoin:round; stroke-width:4; stroke-opacity:1; fill:none\" points=\"\n",
       "  178.867,992.605 197.764,992.605 \n",
       "  \"/>\n",
       "<path clip-path=\"url(#clip670)\" d=\"M50.9921 1418.65 L80.6679 1418.65 L80.6679 1422.59 L50.9921 1422.59 L50.9921 1418.65 Z\" fill=\"#000000\" fill-rule=\"evenodd\" fill-opacity=\"1\" /><path clip-path=\"url(#clip670)\" d=\"M94.7882 1431.55 L111.108 1431.55 L111.108 1435.48 L89.1632 1435.48 L89.1632 1431.55 Q91.8252 1428.79 96.4085 1424.16 Q101.015 1419.51 102.196 1418.17 Q104.441 1415.64 105.321 1413.91 Q106.223 1412.15 106.223 1410.46 Q106.223 1407.7 104.279 1405.97 Q102.358 1404.23 99.2558 1404.23 Q97.0567 1404.23 94.603 1405 Q92.1725 1405.76 89.3947 1407.31 L89.3947 1402.59 Q92.2188 1401.45 94.6724 1400.88 Q97.1261 1400.3 99.1632 1400.3 Q104.534 1400.3 107.728 1402.98 Q110.922 1405.67 110.922 1410.16 Q110.922 1412.29 110.112 1414.21 Q109.325 1416.11 107.219 1418.7 Q106.64 1419.37 103.538 1422.59 Q100.436 1425.78 94.7882 1431.55 Z\" fill=\"#000000\" fill-rule=\"evenodd\" fill-opacity=\"1\" /><path clip-path=\"url(#clip670)\" d=\"M130.922 1404 Q127.311 1404 125.482 1407.57 Q123.677 1411.11 123.677 1418.24 Q123.677 1425.34 125.482 1428.91 Q127.311 1432.45 130.922 1432.45 Q134.556 1432.45 136.362 1428.91 Q138.191 1425.34 138.191 1418.24 Q138.191 1411.11 136.362 1407.57 Q134.556 1404 130.922 1404 M130.922 1400.3 Q136.732 1400.3 139.788 1404.9 Q142.867 1409.49 142.867 1418.24 Q142.867 1426.96 139.788 1431.57 Q136.732 1436.15 130.922 1436.15 Q125.112 1436.15 122.033 1431.57 Q118.978 1426.96 118.978 1418.24 Q118.978 1409.49 122.033 1404.9 Q125.112 1400.3 130.922 1400.3 Z\" fill=\"#000000\" fill-rule=\"evenodd\" fill-opacity=\"1\" /><path clip-path=\"url(#clip670)\" d=\"M50.9921 1312.25 L80.6679 1312.25 L80.6679 1316.19 L50.9921 1316.19 L50.9921 1312.25 Z\" fill=\"#000000\" fill-rule=\"evenodd\" fill-opacity=\"1\" /><path clip-path=\"url(#clip670)\" d=\"M91.5706 1325.15 L99.2095 1325.15 L99.2095 1298.78 L90.8993 1300.45 L90.8993 1296.19 L99.1632 1294.52 L103.839 1294.52 L103.839 1325.15 L111.478 1325.15 L111.478 1329.08 L91.5706 1329.08 L91.5706 1325.15 Z\" fill=\"#000000\" fill-rule=\"evenodd\" fill-opacity=\"1\" /><path clip-path=\"url(#clip670)\" d=\"M130.922 1297.6 Q127.311 1297.6 125.482 1301.17 Q123.677 1304.71 123.677 1311.84 Q123.677 1318.94 125.482 1322.51 Q127.311 1326.05 130.922 1326.05 Q134.556 1326.05 136.362 1322.51 Q138.191 1318.94 138.191 1311.84 Q138.191 1304.71 136.362 1301.17 Q134.556 1297.6 130.922 1297.6 M130.922 1293.9 Q136.732 1293.9 139.788 1298.5 Q142.867 1303.09 142.867 1311.84 Q142.867 1320.56 139.788 1325.17 Q136.732 1329.75 130.922 1329.75 Q125.112 1329.75 122.033 1325.17 Q118.978 1320.56 118.978 1311.84 Q118.978 1303.09 122.033 1298.5 Q125.112 1293.9 130.922 1293.9 Z\" fill=\"#000000\" fill-rule=\"evenodd\" fill-opacity=\"1\" /><path clip-path=\"url(#clip670)\" d=\"M130.922 1191.2 Q127.311 1191.2 125.482 1194.77 Q123.677 1198.31 123.677 1205.44 Q123.677 1212.54 125.482 1216.11 Q127.311 1219.65 130.922 1219.65 Q134.556 1219.65 136.362 1216.11 Q138.191 1212.54 138.191 1205.44 Q138.191 1198.31 136.362 1194.77 Q134.556 1191.2 130.922 1191.2 M130.922 1187.5 Q136.732 1187.5 139.788 1192.1 Q142.867 1196.69 142.867 1205.44 Q142.867 1214.16 139.788 1218.77 Q136.732 1223.35 130.922 1223.35 Q125.112 1223.35 122.033 1218.77 Q118.978 1214.16 118.978 1205.44 Q118.978 1196.69 122.033 1192.1 Q125.112 1187.5 130.922 1187.5 Z\" fill=\"#000000\" fill-rule=\"evenodd\" fill-opacity=\"1\" /><path clip-path=\"url(#clip670)\" d=\"M91.5706 1112.35 L99.2095 1112.35 L99.2095 1085.98 L90.8993 1087.65 L90.8993 1083.39 L99.1632 1081.72 L103.839 1081.72 L103.839 1112.35 L111.478 1112.35 L111.478 1116.28 L91.5706 1116.28 L91.5706 1112.35 Z\" fill=\"#000000\" fill-rule=\"evenodd\" fill-opacity=\"1\" /><path clip-path=\"url(#clip670)\" d=\"M130.922 1084.8 Q127.311 1084.8 125.482 1088.37 Q123.677 1091.91 123.677 1099.04 Q123.677 1106.15 125.482 1109.71 Q127.311 1113.25 130.922 1113.25 Q134.556 1113.25 136.362 1109.71 Q138.191 1106.15 138.191 1099.04 Q138.191 1091.91 136.362 1088.37 Q134.556 1084.8 130.922 1084.8 M130.922 1081.1 Q136.732 1081.1 139.788 1085.71 Q142.867 1090.29 142.867 1099.04 Q142.867 1107.77 139.788 1112.37 Q136.732 1116.96 130.922 1116.96 Q125.112 1116.96 122.033 1112.37 Q118.978 1107.77 118.978 1099.04 Q118.978 1090.29 122.033 1085.71 Q125.112 1081.1 130.922 1081.1 Z\" fill=\"#000000\" fill-rule=\"evenodd\" fill-opacity=\"1\" /><path clip-path=\"url(#clip670)\" d=\"M94.7882 1005.95 L111.108 1005.95 L111.108 1009.88 L89.1632 1009.88 L89.1632 1005.95 Q91.8252 1003.2 96.4085 998.566 Q101.015 993.913 102.196 992.57 Q104.441 990.047 105.321 988.311 Q106.223 986.552 106.223 984.862 Q106.223 982.107 104.279 980.371 Q102.358 978.635 99.2558 978.635 Q97.0567 978.635 94.603 979.399 Q92.1725 980.163 89.3947 981.714 L89.3947 976.992 Q92.2188 975.857 94.6724 975.279 Q97.1261 974.7 99.1632 974.7 Q104.534 974.7 107.728 977.385 Q110.922 980.07 110.922 984.561 Q110.922 986.691 110.112 988.612 Q109.325 990.51 107.219 993.103 Q106.64 993.774 103.538 996.992 Q100.436 1000.19 94.7882 1005.95 Z\" fill=\"#000000\" fill-rule=\"evenodd\" fill-opacity=\"1\" /><path clip-path=\"url(#clip670)\" d=\"M130.922 978.404 Q127.311 978.404 125.482 981.968 Q123.677 985.51 123.677 992.64 Q123.677 999.746 125.482 1003.31 Q127.311 1006.85 130.922 1006.85 Q134.556 1006.85 136.362 1003.31 Q138.191 999.746 138.191 992.64 Q138.191 985.51 136.362 981.968 Q134.556 978.404 130.922 978.404 M130.922 974.7 Q136.732 974.7 139.788 979.306 Q142.867 983.89 142.867 992.64 Q142.867 1001.37 139.788 1005.97 Q136.732 1010.56 130.922 1010.56 Q125.112 1010.56 122.033 1005.97 Q118.978 1001.37 118.978 992.64 Q118.978 983.89 122.033 979.306 Q125.112 974.7 130.922 974.7 Z\" fill=\"#000000\" fill-rule=\"evenodd\" fill-opacity=\"1\" /><path clip-path=\"url(#clip670)\" d=\"M582.426 827.206 L590.326 827.206 L604.504 865.284 L618.682 827.206 L626.581 827.206 L609.567 872.576 L599.44 872.576 L582.426 827.206 Z\" fill=\"#000000\" fill-rule=\"evenodd\" fill-opacity=\"1\" /><path clip-path=\"url(#clip670)\" d=\"M655.748 876.789 Q652.588 884.891 649.59 887.362 Q646.593 889.833 641.57 889.833 L635.615 889.833 L635.615 883.594 L639.99 883.594 Q643.068 883.594 644.77 882.136 Q646.471 880.678 648.537 875.25 L649.874 871.847 L631.523 827.206 L639.423 827.206 L653.601 862.692 L667.779 827.206 L675.678 827.206 L655.748 876.789 Z\" fill=\"#000000\" fill-rule=\"evenodd\" fill-opacity=\"1\" /><path clip-path=\"url(#clip670)\" d=\"M703.872 809.625 Q698.444 818.942 695.811 828.057 Q693.178 837.171 693.178 846.529 Q693.178 855.886 695.811 865.082 Q698.485 874.237 703.872 883.513 L697.391 883.513 Q691.315 873.994 688.276 864.798 Q685.279 855.603 685.279 846.529 Q685.279 837.495 688.276 828.34 Q691.274 819.185 697.391 809.625 L703.872 809.625 Z\" fill=\"#000000\" fill-rule=\"evenodd\" fill-opacity=\"1\" /><path clip-path=\"url(#clip670)\" d=\"M725.707 814.324 L725.707 827.206 L741.06 827.206 L741.06 832.999 L725.707 832.999 L725.707 857.628 Q725.707 863.178 727.206 864.758 Q728.745 866.338 733.404 866.338 L741.06 866.338 L741.06 872.576 L733.404 872.576 Q724.775 872.576 721.494 869.376 Q718.213 866.135 718.213 857.628 L718.213 832.999 L712.744 832.999 L712.744 827.206 L718.213 827.206 L718.213 814.324 L725.707 814.324 Z\" fill=\"#000000\" fill-rule=\"evenodd\" fill-opacity=\"1\" /><path clip-path=\"url(#clip670)\" d=\"M749.688 809.625 L756.17 809.625 Q762.246 819.185 765.244 828.34 Q768.282 837.495 768.282 846.529 Q768.282 855.603 765.244 864.798 Q762.246 873.994 756.17 883.513 L749.688 883.513 Q755.076 874.237 757.709 865.082 Q760.383 855.886 760.383 846.529 Q760.383 837.171 757.709 828.057 Q755.076 818.942 749.688 809.625 Z\" fill=\"#000000\" fill-rule=\"evenodd\" fill-opacity=\"1\" /><path clip-path=\"url(#clip670)\" d=\"\n",
       "M975.981 1045.92 L1138.74 1045.92 L1138.74 942.238 L975.981 942.238  Z\n",
       "  \" fill=\"#ffffff\" fill-rule=\"evenodd\" fill-opacity=\"1\"/>\n",
       "<polyline clip-path=\"url(#clip670)\" style=\"stroke:#000000; stroke-linecap:butt; stroke-linejoin:round; stroke-width:4; stroke-opacity:1; fill:none\" points=\"\n",
       "  975.981,1045.92 1138.74,1045.92 1138.74,942.238 975.981,942.238 975.981,1045.92 \n",
       "  \"/>\n",
       "<path clip-path=\"url(#clip670)\" d=\"M1078.09 1013.77 Q1076.28 1018.39 1074.57 1019.81 Q1072.86 1021.22 1069.99 1021.22 L1066.58 1021.22 L1066.58 1017.65 L1069.08 1017.65 Q1070.84 1017.65 1071.82 1016.82 Q1072.79 1015.99 1073.97 1012.89 L1074.73 1010.94 L1064.25 985.432 L1068.76 985.432 L1076.86 1005.71 L1084.96 985.432 L1089.48 985.432 L1078.09 1013.77 Z\" fill=\"#000000\" fill-rule=\"evenodd\" fill-opacity=\"1\" /><path clip-path=\"url(#clip670)\" d=\"M1096.77 1007.42 L1104.41 1007.42 L1104.41 981.057 L1096.1 982.724 L1096.1 978.465 L1104.36 976.798 L1109.04 976.798 L1109.04 1007.42 L1116.68 1007.42 L1116.68 1011.36 L1096.77 1011.36 L1096.77 1007.42 Z\" fill=\"#000000\" fill-rule=\"evenodd\" fill-opacity=\"1\" /><path clip-path=\"url(#clip670)\" d=\"\n",
       "M1359.78 1486.45 L2352.76 1486.45 L2352.76 923.472 L1359.78 923.472  Z\n",
       "  \" fill=\"#ffffff\" fill-rule=\"evenodd\" fill-opacity=\"1\"/>\n",
       "<defs>\n",
       "  <clipPath id=\"clip675\">\n",
       "    <rect x=\"1359\" y=\"923\" width=\"994\" height=\"564\"/>\n",
       "  </clipPath>\n",
       "</defs>\n",
       "<polyline clip-path=\"url(#clip675)\" style=\"stroke:#000000; stroke-linecap:butt; stroke-linejoin:round; stroke-width:2; stroke-opacity:0.1; fill:none\" points=\"\n",
       "  1387.88,1486.45 1387.88,923.472 \n",
       "  \"/>\n",
       "<polyline clip-path=\"url(#clip675)\" style=\"stroke:#000000; stroke-linecap:butt; stroke-linejoin:round; stroke-width:2; stroke-opacity:0.1; fill:none\" points=\"\n",
       "  1600.25,1486.45 1600.25,923.472 \n",
       "  \"/>\n",
       "<polyline clip-path=\"url(#clip675)\" style=\"stroke:#000000; stroke-linecap:butt; stroke-linejoin:round; stroke-width:2; stroke-opacity:0.1; fill:none\" points=\"\n",
       "  1812.61,1486.45 1812.61,923.472 \n",
       "  \"/>\n",
       "<polyline clip-path=\"url(#clip675)\" style=\"stroke:#000000; stroke-linecap:butt; stroke-linejoin:round; stroke-width:2; stroke-opacity:0.1; fill:none\" points=\"\n",
       "  2024.98,1486.45 2024.98,923.472 \n",
       "  \"/>\n",
       "<polyline clip-path=\"url(#clip675)\" style=\"stroke:#000000; stroke-linecap:butt; stroke-linejoin:round; stroke-width:2; stroke-opacity:0.1; fill:none\" points=\"\n",
       "  2237.34,1486.45 2237.34,923.472 \n",
       "  \"/>\n",
       "<polyline clip-path=\"url(#clip670)\" style=\"stroke:#000000; stroke-linecap:butt; stroke-linejoin:round; stroke-width:4; stroke-opacity:1; fill:none\" points=\"\n",
       "  1359.78,1486.45 2352.76,1486.45 \n",
       "  \"/>\n",
       "<polyline clip-path=\"url(#clip670)\" style=\"stroke:#000000; stroke-linecap:butt; stroke-linejoin:round; stroke-width:4; stroke-opacity:1; fill:none\" points=\"\n",
       "  1387.88,1486.45 1387.88,1467.55 \n",
       "  \"/>\n",
       "<polyline clip-path=\"url(#clip670)\" style=\"stroke:#000000; stroke-linecap:butt; stroke-linejoin:round; stroke-width:4; stroke-opacity:1; fill:none\" points=\"\n",
       "  1600.25,1486.45 1600.25,1467.55 \n",
       "  \"/>\n",
       "<polyline clip-path=\"url(#clip670)\" style=\"stroke:#000000; stroke-linecap:butt; stroke-linejoin:round; stroke-width:4; stroke-opacity:1; fill:none\" points=\"\n",
       "  1812.61,1486.45 1812.61,1467.55 \n",
       "  \"/>\n",
       "<polyline clip-path=\"url(#clip670)\" style=\"stroke:#000000; stroke-linecap:butt; stroke-linejoin:round; stroke-width:4; stroke-opacity:1; fill:none\" points=\"\n",
       "  2024.98,1486.45 2024.98,1467.55 \n",
       "  \"/>\n",
       "<polyline clip-path=\"url(#clip670)\" style=\"stroke:#000000; stroke-linecap:butt; stroke-linejoin:round; stroke-width:4; stroke-opacity:1; fill:none\" points=\"\n",
       "  2237.34,1486.45 2237.34,1467.55 \n",
       "  \"/>\n",
       "<path clip-path=\"url(#clip670)\" d=\"M1387.88 1517.37 Q1384.27 1517.37 1382.44 1520.93 Q1380.64 1524.47 1380.64 1531.6 Q1380.64 1538.71 1382.44 1542.27 Q1384.27 1545.82 1387.88 1545.82 Q1391.52 1545.82 1393.32 1542.27 Q1395.15 1538.71 1395.15 1531.6 Q1395.15 1524.47 1393.32 1520.93 Q1391.52 1517.37 1387.88 1517.37 M1387.88 1513.66 Q1393.69 1513.66 1396.75 1518.27 Q1399.83 1522.85 1399.83 1531.6 Q1399.83 1540.33 1396.75 1544.94 Q1393.69 1549.52 1387.88 1549.52 Q1382.07 1549.52 1379 1544.94 Q1375.94 1540.33 1375.94 1531.6 Q1375.94 1522.85 1379 1518.27 Q1382.07 1513.66 1387.88 1513.66 Z\" fill=\"#000000\" fill-rule=\"evenodd\" fill-opacity=\"1\" /><path clip-path=\"url(#clip670)\" d=\"M1574.95 1514.29 L1593.3 1514.29 L1593.3 1518.22 L1579.23 1518.22 L1579.23 1526.7 Q1580.25 1526.35 1581.27 1526.19 Q1582.29 1526 1583.3 1526 Q1589.09 1526 1592.47 1529.17 Q1595.85 1532.34 1595.85 1537.76 Q1595.85 1543.34 1592.38 1546.44 Q1588.91 1549.52 1582.59 1549.52 Q1580.41 1549.52 1578.14 1549.15 Q1575.9 1548.78 1573.49 1548.04 L1573.49 1543.34 Q1575.57 1544.47 1577.8 1545.03 Q1580.02 1545.58 1582.49 1545.58 Q1586.5 1545.58 1588.84 1543.48 Q1591.17 1541.37 1591.17 1537.76 Q1591.17 1534.15 1588.84 1532.04 Q1586.5 1529.94 1582.49 1529.94 Q1580.62 1529.94 1578.74 1530.35 Q1576.89 1530.77 1574.95 1531.65 L1574.95 1514.29 Z\" fill=\"#000000\" fill-rule=\"evenodd\" fill-opacity=\"1\" /><path clip-path=\"url(#clip670)\" d=\"M1615.06 1517.37 Q1611.45 1517.37 1609.62 1520.93 Q1607.82 1524.47 1607.82 1531.6 Q1607.82 1538.71 1609.62 1542.27 Q1611.45 1545.82 1615.06 1545.82 Q1618.7 1545.82 1620.5 1542.27 Q1622.33 1538.71 1622.33 1531.6 Q1622.33 1524.47 1620.5 1520.93 Q1618.7 1517.37 1615.06 1517.37 M1615.06 1513.66 Q1620.87 1513.66 1623.93 1518.27 Q1627.01 1522.85 1627.01 1531.6 Q1627.01 1540.33 1623.93 1544.94 Q1620.87 1549.52 1615.06 1549.52 Q1609.25 1549.52 1606.17 1544.94 Q1603.12 1540.33 1603.12 1531.6 Q1603.12 1522.85 1606.17 1518.27 Q1609.25 1513.66 1615.06 1513.66 Z\" fill=\"#000000\" fill-rule=\"evenodd\" fill-opacity=\"1\" /><path clip-path=\"url(#clip670)\" d=\"M1772.22 1544.91 L1779.86 1544.91 L1779.86 1518.55 L1771.55 1520.21 L1771.55 1515.95 L1779.81 1514.29 L1784.49 1514.29 L1784.49 1544.91 L1792.13 1544.91 L1792.13 1548.85 L1772.22 1548.85 L1772.22 1544.91 Z\" fill=\"#000000\" fill-rule=\"evenodd\" fill-opacity=\"1\" /><path clip-path=\"url(#clip670)\" d=\"M1811.57 1517.37 Q1807.96 1517.37 1806.13 1520.93 Q1804.33 1524.47 1804.33 1531.6 Q1804.33 1538.71 1806.13 1542.27 Q1807.96 1545.82 1811.57 1545.82 Q1815.21 1545.82 1817.01 1542.27 Q1818.84 1538.71 1818.84 1531.6 Q1818.84 1524.47 1817.01 1520.93 Q1815.21 1517.37 1811.57 1517.37 M1811.57 1513.66 Q1817.38 1513.66 1820.44 1518.27 Q1823.52 1522.85 1823.52 1531.6 Q1823.52 1540.33 1820.44 1544.94 Q1817.38 1549.52 1811.57 1549.52 Q1805.76 1549.52 1802.68 1544.94 Q1799.63 1540.33 1799.63 1531.6 Q1799.63 1522.85 1802.68 1518.27 Q1805.76 1513.66 1811.57 1513.66 Z\" fill=\"#000000\" fill-rule=\"evenodd\" fill-opacity=\"1\" /><path clip-path=\"url(#clip670)\" d=\"M1841.73 1517.37 Q1838.12 1517.37 1836.29 1520.93 Q1834.49 1524.47 1834.49 1531.6 Q1834.49 1538.71 1836.29 1542.27 Q1838.12 1545.82 1841.73 1545.82 Q1845.37 1545.82 1847.17 1542.27 Q1849 1538.71 1849 1531.6 Q1849 1524.47 1847.17 1520.93 Q1845.37 1517.37 1841.73 1517.37 M1841.73 1513.66 Q1847.54 1513.66 1850.6 1518.27 Q1853.68 1522.85 1853.68 1531.6 Q1853.68 1540.33 1850.6 1544.94 Q1847.54 1549.52 1841.73 1549.52 Q1835.92 1549.52 1832.84 1544.94 Q1829.79 1540.33 1829.79 1531.6 Q1829.79 1522.85 1832.84 1518.27 Q1835.92 1513.66 1841.73 1513.66 Z\" fill=\"#000000\" fill-rule=\"evenodd\" fill-opacity=\"1\" /><path clip-path=\"url(#clip670)\" d=\"M1984.58 1544.91 L1992.22 1544.91 L1992.22 1518.55 L1983.91 1520.21 L1983.91 1515.95 L1992.18 1514.29 L1996.85 1514.29 L1996.85 1544.91 L2004.49 1544.91 L2004.49 1548.85 L1984.58 1548.85 L1984.58 1544.91 Z\" fill=\"#000000\" fill-rule=\"evenodd\" fill-opacity=\"1\" /><path clip-path=\"url(#clip670)\" d=\"M2013.98 1514.29 L2032.34 1514.29 L2032.34 1518.22 L2018.27 1518.22 L2018.27 1526.7 Q2019.28 1526.35 2020.3 1526.19 Q2021.32 1526 2022.34 1526 Q2028.13 1526 2031.51 1529.17 Q2034.89 1532.34 2034.89 1537.76 Q2034.89 1543.34 2031.41 1546.44 Q2027.94 1549.52 2021.62 1549.52 Q2019.45 1549.52 2017.18 1549.15 Q2014.93 1548.78 2012.52 1548.04 L2012.52 1543.34 Q2014.61 1544.47 2016.83 1545.03 Q2019.05 1545.58 2021.53 1545.58 Q2025.53 1545.58 2027.87 1543.48 Q2030.21 1541.37 2030.21 1537.76 Q2030.21 1534.15 2027.87 1532.04 Q2025.53 1529.94 2021.53 1529.94 Q2019.65 1529.94 2017.78 1530.35 Q2015.93 1530.77 2013.98 1531.65 L2013.98 1514.29 Z\" fill=\"#000000\" fill-rule=\"evenodd\" fill-opacity=\"1\" /><path clip-path=\"url(#clip670)\" d=\"M2054.1 1517.37 Q2050.49 1517.37 2048.66 1520.93 Q2046.85 1524.47 2046.85 1531.6 Q2046.85 1538.71 2048.66 1542.27 Q2050.49 1545.82 2054.1 1545.82 Q2057.73 1545.82 2059.54 1542.27 Q2061.37 1538.71 2061.37 1531.6 Q2061.37 1524.47 2059.54 1520.93 Q2057.73 1517.37 2054.1 1517.37 M2054.1 1513.66 Q2059.91 1513.66 2062.96 1518.27 Q2066.04 1522.85 2066.04 1531.6 Q2066.04 1540.33 2062.96 1544.94 Q2059.91 1549.52 2054.1 1549.52 Q2048.29 1549.52 2045.21 1544.94 Q2042.15 1540.33 2042.15 1531.6 Q2042.15 1522.85 2045.21 1518.27 Q2048.29 1513.66 2054.1 1513.66 Z\" fill=\"#000000\" fill-rule=\"evenodd\" fill-opacity=\"1\" /><path clip-path=\"url(#clip670)\" d=\"M2201.04 1544.91 L2217.35 1544.91 L2217.35 1548.85 L2195.41 1548.85 L2195.41 1544.91 Q2198.07 1542.16 2202.66 1537.53 Q2207.26 1532.88 2208.44 1531.53 Q2210.69 1529.01 2211.57 1527.27 Q2212.47 1525.51 2212.47 1523.82 Q2212.47 1521.07 2210.53 1519.33 Q2208.6 1517.6 2205.5 1517.6 Q2203.3 1517.6 2200.85 1518.36 Q2198.42 1519.13 2195.64 1520.68 L2195.64 1515.95 Q2198.47 1514.82 2200.92 1514.24 Q2203.37 1513.66 2205.41 1513.66 Q2210.78 1513.66 2213.97 1516.35 Q2217.17 1519.03 2217.17 1523.52 Q2217.17 1525.65 2216.36 1527.57 Q2215.57 1529.47 2213.47 1532.07 Q2212.89 1532.74 2209.79 1535.95 Q2206.68 1539.15 2201.04 1544.91 Z\" fill=\"#000000\" fill-rule=\"evenodd\" fill-opacity=\"1\" /><path clip-path=\"url(#clip670)\" d=\"M2237.17 1517.37 Q2233.56 1517.37 2231.73 1520.93 Q2229.92 1524.47 2229.92 1531.6 Q2229.92 1538.71 2231.73 1542.27 Q2233.56 1545.82 2237.17 1545.82 Q2240.8 1545.82 2242.61 1542.27 Q2244.44 1538.71 2244.44 1531.6 Q2244.44 1524.47 2242.61 1520.93 Q2240.8 1517.37 2237.17 1517.37 M2237.17 1513.66 Q2242.98 1513.66 2246.03 1518.27 Q2249.11 1522.85 2249.11 1531.6 Q2249.11 1540.33 2246.03 1544.94 Q2242.98 1549.52 2237.17 1549.52 Q2231.36 1549.52 2228.28 1544.94 Q2225.22 1540.33 2225.22 1531.6 Q2225.22 1522.85 2228.28 1518.27 Q2231.36 1513.66 2237.17 1513.66 Z\" fill=\"#000000\" fill-rule=\"evenodd\" fill-opacity=\"1\" /><path clip-path=\"url(#clip670)\" d=\"M2267.33 1517.37 Q2263.72 1517.37 2261.89 1520.93 Q2260.09 1524.47 2260.09 1531.6 Q2260.09 1538.71 2261.89 1542.27 Q2263.72 1545.82 2267.33 1545.82 Q2270.97 1545.82 2272.77 1542.27 Q2274.6 1538.71 2274.6 1531.6 Q2274.6 1524.47 2272.77 1520.93 Q2270.97 1517.37 2267.33 1517.37 M2267.33 1513.66 Q2273.14 1513.66 2276.2 1518.27 Q2279.28 1522.85 2279.28 1531.6 Q2279.28 1540.33 2276.2 1544.94 Q2273.14 1549.52 2267.33 1549.52 Q2261.52 1549.52 2258.44 1544.94 Q2255.39 1540.33 2255.39 1531.6 Q2255.39 1522.85 2258.44 1518.27 Q2261.52 1513.66 2267.33 1513.66 Z\" fill=\"#000000\" fill-rule=\"evenodd\" fill-opacity=\"1\" /><polyline clip-path=\"url(#clip675)\" style=\"stroke:#000000; stroke-linecap:butt; stroke-linejoin:round; stroke-width:2; stroke-opacity:0.1; fill:none\" points=\"\n",
       "  1359.78,1470.51 2352.76,1470.51 \n",
       "  \"/>\n",
       "<polyline clip-path=\"url(#clip675)\" style=\"stroke:#000000; stroke-linecap:butt; stroke-linejoin:round; stroke-width:2; stroke-opacity:0.1; fill:none\" points=\"\n",
       "  1359.78,1303.96 2352.76,1303.96 \n",
       "  \"/>\n",
       "<polyline clip-path=\"url(#clip675)\" style=\"stroke:#000000; stroke-linecap:butt; stroke-linejoin:round; stroke-width:2; stroke-opacity:0.1; fill:none\" points=\"\n",
       "  1359.78,1137.4 2352.76,1137.4 \n",
       "  \"/>\n",
       "<polyline clip-path=\"url(#clip675)\" style=\"stroke:#000000; stroke-linecap:butt; stroke-linejoin:round; stroke-width:2; stroke-opacity:0.1; fill:none\" points=\"\n",
       "  1359.78,970.847 2352.76,970.847 \n",
       "  \"/>\n",
       "<polyline clip-path=\"url(#clip670)\" style=\"stroke:#000000; stroke-linecap:butt; stroke-linejoin:round; stroke-width:4; stroke-opacity:1; fill:none\" points=\"\n",
       "  1359.78,1486.45 1359.78,923.472 \n",
       "  \"/>\n",
       "<polyline clip-path=\"url(#clip670)\" style=\"stroke:#000000; stroke-linecap:butt; stroke-linejoin:round; stroke-width:4; stroke-opacity:1; fill:none\" points=\"\n",
       "  1359.78,1470.51 1378.68,1470.51 \n",
       "  \"/>\n",
       "<polyline clip-path=\"url(#clip670)\" style=\"stroke:#000000; stroke-linecap:butt; stroke-linejoin:round; stroke-width:4; stroke-opacity:1; fill:none\" points=\"\n",
       "  1359.78,1303.96 1378.68,1303.96 \n",
       "  \"/>\n",
       "<polyline clip-path=\"url(#clip670)\" style=\"stroke:#000000; stroke-linecap:butt; stroke-linejoin:round; stroke-width:4; stroke-opacity:1; fill:none\" points=\"\n",
       "  1359.78,1137.4 1378.68,1137.4 \n",
       "  \"/>\n",
       "<polyline clip-path=\"url(#clip670)\" style=\"stroke:#000000; stroke-linecap:butt; stroke-linejoin:round; stroke-width:4; stroke-opacity:1; fill:none\" points=\"\n",
       "  1359.78,970.847 1378.68,970.847 \n",
       "  \"/>\n",
       "<path clip-path=\"url(#clip670)\" d=\"M1311.84 1456.31 Q1308.23 1456.31 1306.4 1459.88 Q1304.59 1463.42 1304.59 1470.55 Q1304.59 1477.66 1306.4 1481.22 Q1308.23 1484.76 1311.84 1484.76 Q1315.47 1484.76 1317.28 1481.22 Q1319.11 1477.66 1319.11 1470.55 Q1319.11 1463.42 1317.28 1459.88 Q1315.47 1456.31 1311.84 1456.31 M1311.84 1452.61 Q1317.65 1452.61 1320.7 1457.22 Q1323.78 1461.8 1323.78 1470.55 Q1323.78 1479.28 1320.7 1483.88 Q1317.65 1488.47 1311.84 1488.47 Q1306.03 1488.47 1302.95 1483.88 Q1299.89 1479.28 1299.89 1470.55 Q1299.89 1461.8 1302.95 1457.22 Q1306.03 1452.61 1311.84 1452.61 Z\" fill=\"#000000\" fill-rule=\"evenodd\" fill-opacity=\"1\" /><path clip-path=\"url(#clip670)\" d=\"M1272.49 1317.3 L1280.12 1317.3 L1280.12 1290.94 L1271.81 1292.6 L1271.81 1288.35 L1280.08 1286.68 L1284.75 1286.68 L1284.75 1317.3 L1292.39 1317.3 L1292.39 1321.24 L1272.49 1321.24 L1272.49 1317.3 Z\" fill=\"#000000\" fill-rule=\"evenodd\" fill-opacity=\"1\" /><path clip-path=\"url(#clip670)\" d=\"M1311.84 1289.76 Q1308.23 1289.76 1306.4 1293.32 Q1304.59 1296.86 1304.59 1303.99 Q1304.59 1311.1 1306.4 1314.66 Q1308.23 1318.21 1311.84 1318.21 Q1315.47 1318.21 1317.28 1314.66 Q1319.11 1311.1 1319.11 1303.99 Q1319.11 1296.86 1317.28 1293.32 Q1315.47 1289.76 1311.84 1289.76 M1311.84 1286.05 Q1317.65 1286.05 1320.7 1290.66 Q1323.78 1295.24 1323.78 1303.99 Q1323.78 1312.72 1320.7 1317.33 Q1317.65 1321.91 1311.84 1321.91 Q1306.03 1321.91 1302.95 1317.33 Q1299.89 1312.72 1299.89 1303.99 Q1299.89 1295.24 1302.95 1290.66 Q1306.03 1286.05 1311.84 1286.05 Z\" fill=\"#000000\" fill-rule=\"evenodd\" fill-opacity=\"1\" /><path clip-path=\"url(#clip670)\" d=\"M1275.7 1150.75 L1292.02 1150.75 L1292.02 1154.68 L1270.08 1154.68 L1270.08 1150.75 Q1272.74 1147.99 1277.32 1143.36 Q1281.93 1138.71 1283.11 1137.37 Q1285.36 1134.85 1286.23 1133.11 Q1287.14 1131.35 1287.14 1129.66 Q1287.14 1126.91 1285.19 1125.17 Q1283.27 1123.43 1280.17 1123.43 Q1277.97 1123.43 1275.52 1124.2 Q1273.09 1124.96 1270.31 1126.51 L1270.31 1121.79 Q1273.13 1120.66 1275.59 1120.08 Q1278.04 1119.5 1280.08 1119.5 Q1285.45 1119.5 1288.64 1122.18 Q1291.84 1124.87 1291.84 1129.36 Q1291.84 1131.49 1291.03 1133.41 Q1290.24 1135.31 1288.13 1137.9 Q1287.55 1138.57 1284.45 1141.79 Q1281.35 1144.98 1275.7 1150.75 Z\" fill=\"#000000\" fill-rule=\"evenodd\" fill-opacity=\"1\" /><path clip-path=\"url(#clip670)\" d=\"M1311.84 1123.2 Q1308.23 1123.2 1306.4 1126.77 Q1304.59 1130.31 1304.59 1137.44 Q1304.59 1144.54 1306.4 1148.11 Q1308.23 1151.65 1311.84 1151.65 Q1315.47 1151.65 1317.28 1148.11 Q1319.11 1144.54 1319.11 1137.44 Q1319.11 1130.31 1317.28 1126.77 Q1315.47 1123.2 1311.84 1123.2 M1311.84 1119.5 Q1317.65 1119.5 1320.7 1124.1 Q1323.78 1128.69 1323.78 1137.44 Q1323.78 1146.16 1320.7 1150.77 Q1317.65 1155.35 1311.84 1155.35 Q1306.03 1155.35 1302.95 1150.77 Q1299.89 1146.16 1299.89 1137.44 Q1299.89 1128.69 1302.95 1124.1 Q1306.03 1119.5 1311.84 1119.5 Z\" fill=\"#000000\" fill-rule=\"evenodd\" fill-opacity=\"1\" /><path clip-path=\"url(#clip670)\" d=\"M1285.84 969.493 Q1289.2 970.21 1291.07 972.479 Q1292.97 974.748 1292.97 978.081 Q1292.97 983.197 1289.45 985.997 Q1285.93 988.798 1279.45 988.798 Q1277.28 988.798 1274.96 988.359 Q1272.67 987.942 1270.22 987.085 L1270.22 982.572 Q1272.16 983.706 1274.48 984.284 Q1276.79 984.863 1279.31 984.863 Q1283.71 984.863 1286 983.127 Q1288.32 981.391 1288.32 978.081 Q1288.32 975.025 1286.17 973.312 Q1284.04 971.576 1280.22 971.576 L1276.19 971.576 L1276.19 967.734 L1280.4 967.734 Q1283.85 967.734 1285.68 966.368 Q1287.51 964.979 1287.51 962.386 Q1287.51 959.724 1285.61 958.312 Q1283.74 956.877 1280.22 956.877 Q1278.3 956.877 1276.1 957.294 Q1273.9 957.711 1271.26 958.59 L1271.26 954.424 Q1273.92 953.683 1276.24 953.312 Q1278.57 952.942 1280.63 952.942 Q1285.96 952.942 1289.06 955.373 Q1292.16 957.78 1292.16 961.9 Q1292.16 964.771 1290.52 966.761 Q1288.87 968.729 1285.84 969.493 Z\" fill=\"#000000\" fill-rule=\"evenodd\" fill-opacity=\"1\" /><path clip-path=\"url(#clip670)\" d=\"M1311.84 956.646 Q1308.23 956.646 1306.4 960.211 Q1304.59 963.752 1304.59 970.882 Q1304.59 977.988 1306.4 981.553 Q1308.23 985.095 1311.84 985.095 Q1315.47 985.095 1317.28 981.553 Q1319.11 977.988 1319.11 970.882 Q1319.11 963.752 1317.28 960.211 Q1315.47 956.646 1311.84 956.646 M1311.84 952.942 Q1317.65 952.942 1320.7 957.549 Q1323.78 962.132 1323.78 970.882 Q1323.78 979.609 1320.7 984.215 Q1317.65 988.798 1311.84 988.798 Q1306.03 988.798 1302.95 984.215 Q1299.89 979.609 1299.89 970.882 Q1299.89 962.132 1302.95 957.549 Q1306.03 952.942 1311.84 952.942 Z\" fill=\"#000000\" fill-rule=\"evenodd\" fill-opacity=\"1\" /><path clip-path=\"url(#clip670)\" d=\"M1803.83 876.789 Q1800.67 884.891 1797.67 887.362 Q1794.67 889.833 1789.65 889.833 L1783.7 889.833 L1783.7 883.594 L1788.07 883.594 Q1791.15 883.594 1792.85 882.136 Q1794.55 880.678 1796.62 875.25 L1797.96 871.847 L1779.61 827.206 L1787.5 827.206 L1801.68 862.692 L1815.86 827.206 L1823.76 827.206 L1803.83 876.789 Z\" fill=\"#000000\" fill-rule=\"evenodd\" fill-opacity=\"1\" /><path clip-path=\"url(#clip670)\" d=\"M1851.95 809.625 Q1846.53 818.942 1843.89 828.057 Q1841.26 837.171 1841.26 846.529 Q1841.26 855.886 1843.89 865.082 Q1846.57 874.237 1851.95 883.513 L1845.47 883.513 Q1839.4 873.994 1836.36 864.798 Q1833.36 855.603 1833.36 846.529 Q1833.36 837.495 1836.36 828.34 Q1839.36 819.185 1845.47 809.625 L1851.95 809.625 Z\" fill=\"#000000\" fill-rule=\"evenodd\" fill-opacity=\"1\" /><path clip-path=\"url(#clip670)\" d=\"M1904.13 827.206 L1887.72 849.283 L1904.98 872.576 L1896.19 872.576 L1882.98 854.752 L1869.78 872.576 L1860.99 872.576 L1878.61 848.838 L1862.49 827.206 L1871.28 827.206 L1883.31 843.369 L1895.34 827.206 L1904.13 827.206 Z\" fill=\"#000000\" fill-rule=\"evenodd\" fill-opacity=\"1\" /><path clip-path=\"url(#clip670)\" d=\"M1914.34 809.625 L1920.82 809.625 Q1926.9 819.185 1929.89 828.34 Q1932.93 837.495 1932.93 846.529 Q1932.93 855.603 1929.89 864.798 Q1926.9 873.994 1920.82 883.513 L1914.34 883.513 Q1919.73 874.237 1922.36 865.082 Q1925.03 855.886 1925.03 846.529 Q1925.03 837.171 1922.36 828.057 Q1919.73 818.942 1914.34 809.625 Z\" fill=\"#000000\" fill-rule=\"evenodd\" fill-opacity=\"1\" /><path clip-path=\"url(#clip670)\" d=\"\n",
       "M2156.9 1045.92 L2319.66 1045.92 L2319.66 942.238 L2156.9 942.238  Z\n",
       "  \" fill=\"#ffffff\" fill-rule=\"evenodd\" fill-opacity=\"1\"/>\n",
       "<polyline clip-path=\"url(#clip670)\" style=\"stroke:#000000; stroke-linecap:butt; stroke-linejoin:round; stroke-width:4; stroke-opacity:1; fill:none\" points=\"\n",
       "  2156.9,1045.92 2319.66,1045.92 2319.66,942.238 2156.9,942.238 2156.9,1045.92 \n",
       "  \"/>\n",
       "<path clip-path=\"url(#clip670)\" d=\"M2259 1013.77 Q2257.2 1018.39 2255.48 1019.81 Q2253.77 1021.22 2250.9 1021.22 L2247.5 1021.22 L2247.5 1017.65 L2250 1017.65 Q2251.76 1017.65 2252.73 1016.82 Q2253.7 1015.99 2254.88 1012.89 L2255.65 1010.94 L2245.16 985.432 L2249.67 985.432 L2257.78 1005.71 L2265.88 985.432 L2270.39 985.432 L2259 1013.77 Z\" fill=\"#000000\" fill-rule=\"evenodd\" fill-opacity=\"1\" /><path clip-path=\"url(#clip670)\" d=\"M2277.68 1007.42 L2285.32 1007.42 L2285.32 981.057 L2277.01 982.724 L2277.01 978.465 L2285.28 976.798 L2289.95 976.798 L2289.95 1007.42 L2297.59 1007.42 L2297.59 1011.36 L2277.68 1011.36 L2277.68 1007.42 Z\" fill=\"#000000\" fill-rule=\"evenodd\" fill-opacity=\"1\" /></svg>\n"
      ]
     },
     "execution_count": 115,
     "metadata": {},
     "output_type": "execute_result"
    }
   ],
   "source": [
    "p1 = plot(t,Rx,title=\"x(t)\")\n",
    "p2 = plot(t,Ry,title=\"y(t)\")\n",
    "p3 = plot(t,Vy,title=\"vy(t)\")\n",
    "p4 = plot(Rx,Ry,title=\"y(x)\")\n",
    "scatter(p1,p2,p3,p4)"
   ]
  },
  {
   "cell_type": "code",
   "execution_count": 116,
   "metadata": {},
   "outputs": [
    {
     "data": {
      "image/svg+xml": [
       "<?xml version=\"1.0\" encoding=\"utf-8\"?>\n",
       "<svg xmlns=\"http://www.w3.org/2000/svg\" xmlns:xlink=\"http://www.w3.org/1999/xlink\" width=\"600\" height=\"400\" viewBox=\"0 0 2400 1600\">\n",
       "<defs>\n",
       "  <clipPath id=\"clip710\">\n",
       "    <rect x=\"0\" y=\"0\" width=\"2400\" height=\"1600\"/>\n",
       "  </clipPath>\n",
       "</defs>\n",
       "<path clip-path=\"url(#clip710)\" d=\"\n",
       "M0 1600 L2400 1600 L2400 0 L0 0  Z\n",
       "  \" fill=\"#ffffff\" fill-rule=\"evenodd\" fill-opacity=\"1\"/>\n",
       "<defs>\n",
       "  <clipPath id=\"clip711\">\n",
       "    <rect x=\"480\" y=\"0\" width=\"1681\" height=\"1600\"/>\n",
       "  </clipPath>\n",
       "</defs>\n",
       "<path clip-path=\"url(#clip710)\" d=\"\n",
       "M170.857 1486.45 L2352.76 1486.45 L2352.76 123.472 L170.857 123.472  Z\n",
       "  \" fill=\"#ffffff\" fill-rule=\"evenodd\" fill-opacity=\"1\"/>\n",
       "<defs>\n",
       "  <clipPath id=\"clip712\">\n",
       "    <rect x=\"170\" y=\"123\" width=\"2183\" height=\"1364\"/>\n",
       "  </clipPath>\n",
       "</defs>\n",
       "<polyline clip-path=\"url(#clip712)\" style=\"stroke:#000000; stroke-linecap:butt; stroke-linejoin:round; stroke-width:2; stroke-opacity:0.1; fill:none\" points=\"\n",
       "  229.173,1486.45 229.173,123.472 \n",
       "  \"/>\n",
       "<polyline clip-path=\"url(#clip712)\" style=\"stroke:#000000; stroke-linecap:butt; stroke-linejoin:round; stroke-width:2; stroke-opacity:0.1; fill:none\" points=\"\n",
       "  633.292,1486.45 633.292,123.472 \n",
       "  \"/>\n",
       "<polyline clip-path=\"url(#clip712)\" style=\"stroke:#000000; stroke-linecap:butt; stroke-linejoin:round; stroke-width:2; stroke-opacity:0.1; fill:none\" points=\"\n",
       "  1037.41,1486.45 1037.41,123.472 \n",
       "  \"/>\n",
       "<polyline clip-path=\"url(#clip712)\" style=\"stroke:#000000; stroke-linecap:butt; stroke-linejoin:round; stroke-width:2; stroke-opacity:0.1; fill:none\" points=\"\n",
       "  1441.53,1486.45 1441.53,123.472 \n",
       "  \"/>\n",
       "<polyline clip-path=\"url(#clip712)\" style=\"stroke:#000000; stroke-linecap:butt; stroke-linejoin:round; stroke-width:2; stroke-opacity:0.1; fill:none\" points=\"\n",
       "  1845.65,1486.45 1845.65,123.472 \n",
       "  \"/>\n",
       "<polyline clip-path=\"url(#clip712)\" style=\"stroke:#000000; stroke-linecap:butt; stroke-linejoin:round; stroke-width:2; stroke-opacity:0.1; fill:none\" points=\"\n",
       "  2249.77,1486.45 2249.77,123.472 \n",
       "  \"/>\n",
       "<polyline clip-path=\"url(#clip710)\" style=\"stroke:#000000; stroke-linecap:butt; stroke-linejoin:round; stroke-width:4; stroke-opacity:1; fill:none\" points=\"\n",
       "  170.857,1486.45 2352.76,1486.45 \n",
       "  \"/>\n",
       "<polyline clip-path=\"url(#clip710)\" style=\"stroke:#000000; stroke-linecap:butt; stroke-linejoin:round; stroke-width:4; stroke-opacity:1; fill:none\" points=\"\n",
       "  229.173,1486.45 229.173,1467.55 \n",
       "  \"/>\n",
       "<polyline clip-path=\"url(#clip710)\" style=\"stroke:#000000; stroke-linecap:butt; stroke-linejoin:round; stroke-width:4; stroke-opacity:1; fill:none\" points=\"\n",
       "  633.292,1486.45 633.292,1467.55 \n",
       "  \"/>\n",
       "<polyline clip-path=\"url(#clip710)\" style=\"stroke:#000000; stroke-linecap:butt; stroke-linejoin:round; stroke-width:4; stroke-opacity:1; fill:none\" points=\"\n",
       "  1037.41,1486.45 1037.41,1467.55 \n",
       "  \"/>\n",
       "<polyline clip-path=\"url(#clip710)\" style=\"stroke:#000000; stroke-linecap:butt; stroke-linejoin:round; stroke-width:4; stroke-opacity:1; fill:none\" points=\"\n",
       "  1441.53,1486.45 1441.53,1467.55 \n",
       "  \"/>\n",
       "<polyline clip-path=\"url(#clip710)\" style=\"stroke:#000000; stroke-linecap:butt; stroke-linejoin:round; stroke-width:4; stroke-opacity:1; fill:none\" points=\"\n",
       "  1845.65,1486.45 1845.65,1467.55 \n",
       "  \"/>\n",
       "<polyline clip-path=\"url(#clip710)\" style=\"stroke:#000000; stroke-linecap:butt; stroke-linejoin:round; stroke-width:4; stroke-opacity:1; fill:none\" points=\"\n",
       "  2249.77,1486.45 2249.77,1467.55 \n",
       "  \"/>\n",
       "<path clip-path=\"url(#clip710)\" d=\"M229.173 1517.37 Q225.562 1517.37 223.733 1520.93 Q221.928 1524.47 221.928 1531.6 Q221.928 1538.71 223.733 1542.27 Q225.562 1545.82 229.173 1545.82 Q232.807 1545.82 234.613 1542.27 Q236.441 1538.71 236.441 1531.6 Q236.441 1524.47 234.613 1520.93 Q232.807 1517.37 229.173 1517.37 M229.173 1513.66 Q234.983 1513.66 238.039 1518.27 Q241.117 1522.85 241.117 1531.6 Q241.117 1540.33 238.039 1544.94 Q234.983 1549.52 229.173 1549.52 Q223.363 1549.52 220.284 1544.94 Q217.228 1540.33 217.228 1531.6 Q217.228 1522.85 220.284 1518.27 Q223.363 1513.66 229.173 1513.66 Z\" fill=\"#000000\" fill-rule=\"evenodd\" fill-opacity=\"1\" /><path clip-path=\"url(#clip710)\" d=\"M623.674 1544.91 L631.313 1544.91 L631.313 1518.55 L623.002 1520.21 L623.002 1515.95 L631.266 1514.29 L635.942 1514.29 L635.942 1544.91 L643.581 1544.91 L643.581 1548.85 L623.674 1548.85 L623.674 1544.91 Z\" fill=\"#000000\" fill-rule=\"evenodd\" fill-opacity=\"1\" /><path clip-path=\"url(#clip710)\" d=\"M1032.06 1544.91 L1048.38 1544.91 L1048.38 1548.85 L1026.44 1548.85 L1026.44 1544.91 Q1029.1 1542.16 1033.68 1537.53 Q1038.29 1532.88 1039.47 1531.53 Q1041.72 1529.01 1042.6 1527.27 Q1043.5 1525.51 1043.5 1523.82 Q1043.5 1521.07 1041.55 1519.33 Q1039.63 1517.6 1036.53 1517.6 Q1034.33 1517.6 1031.88 1518.36 Q1029.45 1519.13 1026.67 1520.68 L1026.67 1515.95 Q1029.49 1514.82 1031.95 1514.24 Q1034.4 1513.66 1036.44 1513.66 Q1041.81 1513.66 1045 1516.35 Q1048.2 1519.03 1048.2 1523.52 Q1048.2 1525.65 1047.39 1527.57 Q1046.6 1529.47 1044.49 1532.07 Q1043.92 1532.74 1040.81 1535.95 Q1037.71 1539.15 1032.06 1544.91 Z\" fill=\"#000000\" fill-rule=\"evenodd\" fill-opacity=\"1\" /><path clip-path=\"url(#clip710)\" d=\"M1445.78 1530.21 Q1449.13 1530.93 1451.01 1533.2 Q1452.91 1535.47 1452.91 1538.8 Q1452.91 1543.92 1449.39 1546.72 Q1445.87 1549.52 1439.39 1549.52 Q1437.21 1549.52 1434.9 1549.08 Q1432.61 1548.66 1430.15 1547.81 L1430.15 1543.29 Q1432.1 1544.43 1434.41 1545.01 Q1436.73 1545.58 1439.25 1545.58 Q1443.65 1545.58 1445.94 1543.85 Q1448.25 1542.11 1448.25 1538.8 Q1448.25 1535.75 1446.1 1534.03 Q1443.97 1532.3 1440.15 1532.3 L1436.12 1532.3 L1436.12 1528.45 L1440.34 1528.45 Q1443.79 1528.45 1445.62 1527.09 Q1447.44 1525.7 1447.44 1523.11 Q1447.44 1520.45 1445.55 1519.03 Q1443.67 1517.6 1440.15 1517.6 Q1438.23 1517.6 1436.03 1518.01 Q1433.83 1518.43 1431.19 1519.31 L1431.19 1515.14 Q1433.86 1514.4 1436.17 1514.03 Q1438.51 1513.66 1440.57 1513.66 Q1445.89 1513.66 1448.99 1516.09 Q1452.1 1518.5 1452.1 1522.62 Q1452.1 1525.49 1450.45 1527.48 Q1448.81 1529.45 1445.78 1530.21 Z\" fill=\"#000000\" fill-rule=\"evenodd\" fill-opacity=\"1\" /><path clip-path=\"url(#clip710)\" d=\"M1848.66 1518.36 L1836.85 1536.81 L1848.66 1536.81 L1848.66 1518.36 M1847.43 1514.29 L1853.31 1514.29 L1853.31 1536.81 L1858.24 1536.81 L1858.24 1540.7 L1853.31 1540.7 L1853.31 1548.85 L1848.66 1548.85 L1848.66 1540.7 L1833.06 1540.7 L1833.06 1536.19 L1847.43 1514.29 Z\" fill=\"#000000\" fill-rule=\"evenodd\" fill-opacity=\"1\" /><path clip-path=\"url(#clip710)\" d=\"M2240.05 1514.29 L2258.4 1514.29 L2258.4 1518.22 L2244.33 1518.22 L2244.33 1526.7 Q2245.35 1526.35 2246.36 1526.19 Q2247.38 1526 2248.4 1526 Q2254.19 1526 2257.57 1529.17 Q2260.95 1532.34 2260.95 1537.76 Q2260.95 1543.34 2257.48 1546.44 Q2254 1549.52 2247.68 1549.52 Q2245.51 1549.52 2243.24 1549.15 Q2240.99 1548.78 2238.59 1548.04 L2238.59 1543.34 Q2240.67 1544.47 2242.89 1545.03 Q2245.11 1545.58 2247.59 1545.58 Q2251.6 1545.58 2253.93 1543.48 Q2256.27 1541.37 2256.27 1537.76 Q2256.27 1534.15 2253.93 1532.04 Q2251.6 1529.94 2247.59 1529.94 Q2245.72 1529.94 2243.84 1530.35 Q2241.99 1530.77 2240.05 1531.65 L2240.05 1514.29 Z\" fill=\"#000000\" fill-rule=\"evenodd\" fill-opacity=\"1\" /><polyline clip-path=\"url(#clip712)\" style=\"stroke:#000000; stroke-linecap:butt; stroke-linejoin:round; stroke-width:2; stroke-opacity:0.1; fill:none\" points=\"\n",
       "  170.857,1447.87 2352.76,1447.87 \n",
       "  \"/>\n",
       "<polyline clip-path=\"url(#clip712)\" style=\"stroke:#000000; stroke-linecap:butt; stroke-linejoin:round; stroke-width:2; stroke-opacity:0.1; fill:none\" points=\"\n",
       "  170.857,1156.38 2352.76,1156.38 \n",
       "  \"/>\n",
       "<polyline clip-path=\"url(#clip712)\" style=\"stroke:#000000; stroke-linecap:butt; stroke-linejoin:round; stroke-width:2; stroke-opacity:0.1; fill:none\" points=\"\n",
       "  170.857,864.882 2352.76,864.882 \n",
       "  \"/>\n",
       "<polyline clip-path=\"url(#clip712)\" style=\"stroke:#000000; stroke-linecap:butt; stroke-linejoin:round; stroke-width:2; stroke-opacity:0.1; fill:none\" points=\"\n",
       "  170.857,573.386 2352.76,573.386 \n",
       "  \"/>\n",
       "<polyline clip-path=\"url(#clip712)\" style=\"stroke:#000000; stroke-linecap:butt; stroke-linejoin:round; stroke-width:2; stroke-opacity:0.1; fill:none\" points=\"\n",
       "  170.857,281.89 2352.76,281.89 \n",
       "  \"/>\n",
       "<polyline clip-path=\"url(#clip710)\" style=\"stroke:#000000; stroke-linecap:butt; stroke-linejoin:round; stroke-width:4; stroke-opacity:1; fill:none\" points=\"\n",
       "  170.857,1486.45 170.857,123.472 \n",
       "  \"/>\n",
       "<polyline clip-path=\"url(#clip710)\" style=\"stroke:#000000; stroke-linecap:butt; stroke-linejoin:round; stroke-width:4; stroke-opacity:1; fill:none\" points=\"\n",
       "  170.857,1447.87 189.755,1447.87 \n",
       "  \"/>\n",
       "<polyline clip-path=\"url(#clip710)\" style=\"stroke:#000000; stroke-linecap:butt; stroke-linejoin:round; stroke-width:4; stroke-opacity:1; fill:none\" points=\"\n",
       "  170.857,1156.38 189.755,1156.38 \n",
       "  \"/>\n",
       "<polyline clip-path=\"url(#clip710)\" style=\"stroke:#000000; stroke-linecap:butt; stroke-linejoin:round; stroke-width:4; stroke-opacity:1; fill:none\" points=\"\n",
       "  170.857,864.882 189.755,864.882 \n",
       "  \"/>\n",
       "<polyline clip-path=\"url(#clip710)\" style=\"stroke:#000000; stroke-linecap:butt; stroke-linejoin:round; stroke-width:4; stroke-opacity:1; fill:none\" points=\"\n",
       "  170.857,573.386 189.755,573.386 \n",
       "  \"/>\n",
       "<polyline clip-path=\"url(#clip710)\" style=\"stroke:#000000; stroke-linecap:butt; stroke-linejoin:round; stroke-width:4; stroke-opacity:1; fill:none\" points=\"\n",
       "  170.857,281.89 189.755,281.89 \n",
       "  \"/>\n",
       "<path clip-path=\"url(#clip710)\" d=\"M122.913 1433.67 Q119.302 1433.67 117.473 1437.24 Q115.668 1440.78 115.668 1447.91 Q115.668 1455.01 117.473 1458.58 Q119.302 1462.12 122.913 1462.12 Q126.547 1462.12 128.353 1458.58 Q130.182 1455.01 130.182 1447.91 Q130.182 1440.78 128.353 1437.24 Q126.547 1433.67 122.913 1433.67 M122.913 1429.97 Q128.723 1429.97 131.779 1434.57 Q134.857 1439.16 134.857 1447.91 Q134.857 1456.63 131.779 1461.24 Q128.723 1465.82 122.913 1465.82 Q117.103 1465.82 114.024 1461.24 Q110.969 1456.63 110.969 1447.91 Q110.969 1439.16 114.024 1434.57 Q117.103 1429.97 122.913 1429.97 Z\" fill=\"#000000\" fill-rule=\"evenodd\" fill-opacity=\"1\" /><path clip-path=\"url(#clip710)\" d=\"M82.7975 1139.1 L101.154 1139.1 L101.154 1143.03 L87.0799 1143.03 L87.0799 1151.5 Q88.0984 1151.16 89.1169 1151 Q90.1354 1150.81 91.1539 1150.81 Q96.941 1150.81 100.321 1153.98 Q103.7 1157.15 103.7 1162.57 Q103.7 1168.15 100.228 1171.25 Q96.7558 1174.33 90.4364 1174.33 Q88.2604 1174.33 85.9919 1173.96 Q83.7466 1173.59 81.3392 1172.85 L81.3392 1168.15 Q83.4225 1169.28 85.6447 1169.84 Q87.8669 1170.39 90.3438 1170.39 Q94.3484 1170.39 96.6863 1168.29 Q99.0243 1166.18 99.0243 1162.57 Q99.0243 1158.96 96.6863 1156.85 Q94.3484 1154.75 90.3438 1154.75 Q88.4688 1154.75 86.5938 1155.16 Q84.7419 1155.58 82.7975 1156.46 L82.7975 1139.1 Z\" fill=\"#000000\" fill-rule=\"evenodd\" fill-opacity=\"1\" /><path clip-path=\"url(#clip710)\" d=\"M122.913 1142.18 Q119.302 1142.18 117.473 1145.74 Q115.668 1149.28 115.668 1156.41 Q115.668 1163.52 117.473 1167.08 Q119.302 1170.63 122.913 1170.63 Q126.547 1170.63 128.353 1167.08 Q130.182 1163.52 130.182 1156.41 Q130.182 1149.28 128.353 1145.74 Q126.547 1142.18 122.913 1142.18 M122.913 1138.47 Q128.723 1138.47 131.779 1143.08 Q134.857 1147.66 134.857 1156.41 Q134.857 1165.14 131.779 1169.75 Q128.723 1174.33 122.913 1174.33 Q117.103 1174.33 114.024 1169.75 Q110.969 1165.14 110.969 1156.41 Q110.969 1147.66 114.024 1143.08 Q117.103 1138.47 122.913 1138.47 Z\" fill=\"#000000\" fill-rule=\"evenodd\" fill-opacity=\"1\" /><path clip-path=\"url(#clip710)\" d=\"M53.3995 878.227 L61.0384 878.227 L61.0384 851.861 L52.7282 853.528 L52.7282 849.268 L60.9921 847.602 L65.668 847.602 L65.668 878.227 L73.3068 878.227 L73.3068 882.162 L53.3995 882.162 L53.3995 878.227 Z\" fill=\"#000000\" fill-rule=\"evenodd\" fill-opacity=\"1\" /><path clip-path=\"url(#clip710)\" d=\"M92.7512 850.68 Q89.1401 850.68 87.3114 854.245 Q85.5058 857.787 85.5058 864.916 Q85.5058 872.023 87.3114 875.588 Q89.1401 879.129 92.7512 879.129 Q96.3854 879.129 98.1909 875.588 Q100.02 872.023 100.02 864.916 Q100.02 857.787 98.1909 854.245 Q96.3854 850.68 92.7512 850.68 M92.7512 846.977 Q98.5613 846.977 101.617 851.583 Q104.696 856.166 104.696 864.916 Q104.696 873.643 101.617 878.25 Q98.5613 882.833 92.7512 882.833 Q86.941 882.833 83.8623 878.25 Q80.8068 873.643 80.8068 864.916 Q80.8068 856.166 83.8623 851.583 Q86.941 846.977 92.7512 846.977 Z\" fill=\"#000000\" fill-rule=\"evenodd\" fill-opacity=\"1\" /><path clip-path=\"url(#clip710)\" d=\"M122.913 850.68 Q119.302 850.68 117.473 854.245 Q115.668 857.787 115.668 864.916 Q115.668 872.023 117.473 875.588 Q119.302 879.129 122.913 879.129 Q126.547 879.129 128.353 875.588 Q130.182 872.023 130.182 864.916 Q130.182 857.787 128.353 854.245 Q126.547 850.68 122.913 850.68 M122.913 846.977 Q128.723 846.977 131.779 851.583 Q134.857 856.166 134.857 864.916 Q134.857 873.643 131.779 878.25 Q128.723 882.833 122.913 882.833 Q117.103 882.833 114.024 878.25 Q110.969 873.643 110.969 864.916 Q110.969 856.166 114.024 851.583 Q117.103 846.977 122.913 846.977 Z\" fill=\"#000000\" fill-rule=\"evenodd\" fill-opacity=\"1\" /><path clip-path=\"url(#clip710)\" d=\"M53.3995 586.731 L61.0384 586.731 L61.0384 560.365 L52.7282 562.032 L52.7282 557.773 L60.9921 556.106 L65.668 556.106 L65.668 586.731 L73.3068 586.731 L73.3068 590.666 L53.3995 590.666 L53.3995 586.731 Z\" fill=\"#000000\" fill-rule=\"evenodd\" fill-opacity=\"1\" /><path clip-path=\"url(#clip710)\" d=\"M82.7975 556.106 L101.154 556.106 L101.154 560.041 L87.0799 560.041 L87.0799 568.513 Q88.0984 568.166 89.1169 568.004 Q90.1354 567.819 91.1539 567.819 Q96.941 567.819 100.321 570.99 Q103.7 574.161 103.7 579.578 Q103.7 585.157 100.228 588.259 Q96.7558 591.337 90.4364 591.337 Q88.2604 591.337 85.9919 590.967 Q83.7466 590.597 81.3392 589.856 L81.3392 585.157 Q83.4225 586.291 85.6447 586.847 Q87.8669 587.402 90.3438 587.402 Q94.3484 587.402 96.6863 585.296 Q99.0243 583.189 99.0243 579.578 Q99.0243 575.967 96.6863 573.861 Q94.3484 571.754 90.3438 571.754 Q88.4688 571.754 86.5938 572.171 Q84.7419 572.587 82.7975 573.467 L82.7975 556.106 Z\" fill=\"#000000\" fill-rule=\"evenodd\" fill-opacity=\"1\" /><path clip-path=\"url(#clip710)\" d=\"M122.913 559.185 Q119.302 559.185 117.473 562.75 Q115.668 566.291 115.668 573.421 Q115.668 580.527 117.473 584.092 Q119.302 587.634 122.913 587.634 Q126.547 587.634 128.353 584.092 Q130.182 580.527 130.182 573.421 Q130.182 566.291 128.353 562.75 Q126.547 559.185 122.913 559.185 M122.913 555.481 Q128.723 555.481 131.779 560.087 Q134.857 564.671 134.857 573.421 Q134.857 582.148 131.779 586.754 Q128.723 591.337 122.913 591.337 Q117.103 591.337 114.024 586.754 Q110.969 582.148 110.969 573.421 Q110.969 564.671 114.024 560.087 Q117.103 555.481 122.913 555.481 Z\" fill=\"#000000\" fill-rule=\"evenodd\" fill-opacity=\"1\" /><path clip-path=\"url(#clip710)\" d=\"M56.6171 295.235 L72.9365 295.235 L72.9365 299.17 L50.9921 299.17 L50.9921 295.235 Q53.6541 292.481 58.2375 287.851 Q62.8439 283.198 64.0245 281.856 Q66.2698 279.332 67.1494 277.596 Q68.0522 275.837 68.0522 274.147 Q68.0522 271.393 66.1078 269.657 Q64.1865 267.921 61.0847 267.921 Q58.8856 267.921 56.4319 268.684 Q54.0014 269.448 51.2236 270.999 L51.2236 266.277 Q54.0477 265.143 56.5014 264.564 Q58.955 263.985 60.9921 263.985 Q66.3624 263.985 69.5568 266.671 Q72.7513 269.356 72.7513 273.846 Q72.7513 275.976 71.9411 277.897 Q71.1541 279.795 69.0476 282.388 Q68.4689 283.059 65.367 286.277 Q62.2652 289.471 56.6171 295.235 Z\" fill=\"#000000\" fill-rule=\"evenodd\" fill-opacity=\"1\" /><path clip-path=\"url(#clip710)\" d=\"M92.7512 267.689 Q89.1401 267.689 87.3114 271.254 Q85.5058 274.795 85.5058 281.925 Q85.5058 289.032 87.3114 292.596 Q89.1401 296.138 92.7512 296.138 Q96.3854 296.138 98.1909 292.596 Q100.02 289.032 100.02 281.925 Q100.02 274.795 98.1909 271.254 Q96.3854 267.689 92.7512 267.689 M92.7512 263.985 Q98.5613 263.985 101.617 268.592 Q104.696 273.175 104.696 281.925 Q104.696 290.652 101.617 295.258 Q98.5613 299.842 92.7512 299.842 Q86.941 299.842 83.8623 295.258 Q80.8068 290.652 80.8068 281.925 Q80.8068 273.175 83.8623 268.592 Q86.941 263.985 92.7512 263.985 Z\" fill=\"#000000\" fill-rule=\"evenodd\" fill-opacity=\"1\" /><path clip-path=\"url(#clip710)\" d=\"M122.913 267.689 Q119.302 267.689 117.473 271.254 Q115.668 274.795 115.668 281.925 Q115.668 289.032 117.473 292.596 Q119.302 296.138 122.913 296.138 Q126.547 296.138 128.353 292.596 Q130.182 289.032 130.182 281.925 Q130.182 274.795 128.353 271.254 Q126.547 267.689 122.913 267.689 M122.913 263.985 Q128.723 263.985 131.779 268.592 Q134.857 273.175 134.857 281.925 Q134.857 290.652 131.779 295.258 Q128.723 299.842 122.913 299.842 Q117.103 299.842 114.024 295.258 Q110.969 290.652 110.969 281.925 Q110.969 273.175 114.024 268.592 Q117.103 263.985 122.913 263.985 Z\" fill=\"#000000\" fill-rule=\"evenodd\" fill-opacity=\"1\" /><path clip-path=\"url(#clip710)\" d=\"M1236.53 27.2059 L1220.12 49.2833 L1237.38 72.576 L1228.59 72.576 L1215.38 54.752 L1202.18 72.576 L1193.39 72.576 L1211.01 48.8377 L1194.89 27.2059 L1203.68 27.2059 L1215.71 43.369 L1227.74 27.2059 L1236.53 27.2059 Z\" fill=\"#000000\" fill-rule=\"evenodd\" fill-opacity=\"1\" /><path clip-path=\"url(#clip710)\" d=\"M1265.82 9.62495 Q1260.39 18.942 1257.76 28.0566 Q1255.12 37.1711 1255.12 46.5287 Q1255.12 55.8863 1257.76 65.0818 Q1260.43 74.2369 1265.82 83.5134 L1259.34 83.5134 Q1253.26 73.9938 1250.22 64.7983 Q1247.22 55.6027 1247.22 46.5287 Q1247.22 37.4952 1250.22 28.3401 Q1253.22 19.1851 1259.34 9.62495 L1265.82 9.62495 Z\" fill=\"#000000\" fill-rule=\"evenodd\" fill-opacity=\"1\" /><path clip-path=\"url(#clip710)\" d=\"M1287.65 14.324 L1287.65 27.2059 L1303 27.2059 L1303 32.9987 L1287.65 32.9987 L1287.65 57.6282 Q1287.65 63.1779 1289.15 64.7578 Q1290.69 66.3376 1295.35 66.3376 L1303 66.3376 L1303 72.576 L1295.35 72.576 Q1286.72 72.576 1283.44 69.3758 Q1280.16 66.1351 1280.16 57.6282 L1280.16 32.9987 L1274.69 32.9987 L1274.69 27.2059 L1280.16 27.2059 L1280.16 14.324 L1287.65 14.324 Z\" fill=\"#000000\" fill-rule=\"evenodd\" fill-opacity=\"1\" /><path clip-path=\"url(#clip710)\" d=\"M1311.63 9.62495 L1318.11 9.62495 Q1324.19 19.1851 1327.19 28.3401 Q1330.23 37.4952 1330.23 46.5287 Q1330.23 55.6027 1327.19 64.7983 Q1324.19 73.9938 1318.11 83.5134 L1311.63 83.5134 Q1317.02 74.2369 1319.65 65.0818 Q1322.33 55.8863 1322.33 46.5287 Q1322.33 37.1711 1319.65 28.0566 Q1317.02 18.942 1311.63 9.62495 Z\" fill=\"#000000\" fill-rule=\"evenodd\" fill-opacity=\"1\" /><polyline clip-path=\"url(#clip712)\" style=\"stroke:#009af9; stroke-linecap:butt; stroke-linejoin:round; stroke-width:4; stroke-opacity:1; fill:none\" points=\"\n",
       "  232.609,1447.87 236.046,1445.73 239.482,1443.58 242.918,1441.43 246.355,1439.29 249.791,1437.14 253.228,1434.99 256.664,1432.85 260.1,1430.7 263.537,1428.55 \n",
       "  266.973,1426.41 270.409,1424.26 273.846,1422.11 277.282,1419.97 280.719,1417.82 284.155,1415.67 287.591,1413.53 291.028,1411.38 294.464,1409.23 297.901,1407.09 \n",
       "  301.337,1404.94 304.773,1402.79 308.21,1400.65 311.646,1398.5 315.083,1396.35 318.519,1394.21 321.955,1392.06 325.392,1389.91 328.828,1387.77 332.264,1385.62 \n",
       "  335.701,1383.47 339.137,1381.33 342.574,1379.18 346.01,1377.03 349.446,1374.89 352.883,1372.74 356.319,1370.59 359.756,1368.45 363.192,1366.3 366.628,1364.15 \n",
       "  370.065,1362.01 373.501,1359.86 376.937,1357.71 380.374,1355.57 383.81,1353.42 387.247,1351.28 390.683,1349.13 394.119,1346.98 397.556,1344.84 400.992,1342.69 \n",
       "  404.429,1340.54 407.865,1338.4 411.301,1336.25 414.738,1334.1 418.174,1331.96 421.61,1329.81 425.047,1327.66 428.483,1325.52 431.92,1323.37 435.356,1321.22 \n",
       "  438.792,1319.08 442.229,1316.93 445.665,1314.78 449.102,1312.64 452.538,1310.49 455.974,1308.34 459.411,1306.2 462.847,1304.05 466.283,1301.9 469.72,1299.76 \n",
       "  473.156,1297.61 476.593,1295.46 480.029,1293.32 483.465,1291.17 486.902,1289.02 490.338,1286.88 493.775,1284.73 497.211,1282.58 500.647,1280.44 504.084,1278.29 \n",
       "  507.52,1276.14 510.956,1274 514.393,1271.85 517.829,1269.7 521.266,1267.56 524.702,1265.41 528.138,1263.26 531.575,1261.12 535.011,1258.97 538.448,1256.82 \n",
       "  541.884,1254.68 545.32,1252.53 548.757,1250.38 552.193,1248.24 555.629,1246.09 559.066,1243.94 562.502,1241.8 565.939,1239.65 569.375,1237.5 572.811,1235.36 \n",
       "  576.248,1233.21 579.684,1231.06 583.121,1228.92 586.557,1226.77 589.993,1224.62 593.43,1222.48 596.866,1220.33 600.302,1218.18 603.739,1216.04 607.175,1213.89 \n",
       "  610.612,1211.74 614.048,1209.6 617.484,1207.45 620.921,1205.3 624.357,1203.16 627.794,1201.01 631.23,1198.87 634.666,1196.72 638.103,1194.57 641.539,1192.43 \n",
       "  644.975,1190.28 648.412,1188.13 651.848,1185.99 655.285,1183.84 658.721,1181.69 662.157,1179.55 665.594,1177.4 669.03,1175.25 672.467,1173.11 675.903,1170.96 \n",
       "  679.339,1168.81 682.776,1166.67 686.212,1164.52 689.649,1162.37 693.085,1160.23 696.521,1158.08 699.958,1155.93 703.394,1153.79 706.83,1151.64 710.267,1149.49 \n",
       "  713.703,1147.35 717.14,1145.2 720.576,1143.05 724.012,1140.91 727.449,1138.76 730.885,1136.61 734.322,1134.47 737.758,1132.32 741.194,1130.17 744.631,1128.03 \n",
       "  748.067,1125.88 751.503,1123.73 754.94,1121.59 758.376,1119.44 761.813,1117.29 765.249,1115.15 768.685,1113 772.122,1110.85 775.558,1108.71 778.995,1106.56 \n",
       "  782.431,1104.41 785.867,1102.27 789.304,1100.12 792.74,1097.97 796.176,1095.83 799.613,1093.68 803.049,1091.53 806.486,1089.39 809.922,1087.24 813.358,1085.09 \n",
       "  816.795,1082.95 820.231,1080.8 823.668,1078.65 827.104,1076.51 830.54,1074.36 833.977,1072.21 837.413,1070.07 840.849,1067.92 844.286,1065.77 847.722,1063.63 \n",
       "  851.159,1061.48 854.595,1059.33 858.031,1057.19 861.468,1055.04 864.904,1052.89 868.341,1050.75 871.777,1048.6 875.213,1046.45 878.65,1044.31 882.086,1042.16 \n",
       "  885.522,1040.02 888.959,1037.87 892.395,1035.72 895.832,1033.58 899.268,1031.43 902.704,1029.28 906.141,1027.14 909.577,1024.99 913.014,1022.84 916.45,1020.7 \n",
       "  919.886,1018.55 923.323,1016.4 926.759,1014.26 930.195,1012.11 933.632,1009.96 937.068,1007.82 940.505,1005.67 943.941,1003.52 947.377,1001.38 950.814,999.229 \n",
       "  954.25,997.083 957.687,994.936 961.123,992.789 964.559,990.643 967.996,988.496 971.432,986.35 974.868,984.203 978.305,982.056 981.741,979.91 985.178,977.763 \n",
       "  988.614,975.616 992.05,973.47 995.487,971.323 998.923,969.177 1002.36,967.03 1005.8,964.883 1009.23,962.737 1012.67,960.59 1016.11,958.443 1019.54,956.297 \n",
       "  1022.98,954.15 1026.41,952.004 1029.85,949.857 1033.29,947.71 1036.72,945.564 1040.16,943.417 1043.6,941.27 1047.03,939.124 1050.47,936.977 1053.91,934.831 \n",
       "  1057.34,932.684 1060.78,930.537 1064.21,928.391 1067.65,926.244 1071.09,924.097 1074.52,921.951 1077.96,919.804 1081.4,917.658 1084.83,915.511 1088.27,913.364 \n",
       "  1091.71,911.218 1095.14,909.071 1098.58,906.925 1102.01,904.778 1105.45,902.631 1108.89,900.485 1112.32,898.338 1115.76,896.191 1119.2,894.045 1122.63,891.898 \n",
       "  1126.07,889.752 1129.51,887.605 1132.94,885.458 1136.38,883.312 1139.81,881.165 1143.25,879.018 1146.69,876.872 1150.12,874.725 1153.56,872.579 1157,870.432 \n",
       "  1160.43,868.285 1163.87,866.139 1167.31,863.992 1170.74,861.845 1174.18,859.699 1177.62,857.552 1181.05,855.406 1184.49,853.259 1187.92,851.112 1191.36,848.966 \n",
       "  1194.8,846.819 1198.23,844.672 1201.67,842.526 1205.11,840.379 1208.54,838.233 1211.98,836.086 1215.42,833.939 1218.85,831.793 1222.29,829.646 1225.72,827.5 \n",
       "  1229.16,825.353 1232.6,823.206 1236.03,821.06 1239.47,818.913 1242.91,816.766 1246.34,814.62 1249.78,812.473 1253.22,810.327 1256.65,808.18 1260.09,806.033 \n",
       "  1263.52,803.887 1266.96,801.74 1270.4,799.593 1273.83,797.447 1277.27,795.3 1280.71,793.154 1284.14,791.007 1287.58,788.86 1291.02,786.714 1294.45,784.567 \n",
       "  1297.89,782.42 1301.33,780.274 1304.76,778.127 1308.2,775.981 1311.63,773.834 1315.07,771.687 1318.51,769.541 1321.94,767.394 1325.38,765.248 1328.82,763.101 \n",
       "  1332.25,760.954 1335.69,758.808 1339.13,756.661 1342.56,754.514 1346,752.368 1349.43,750.221 1352.87,748.075 1356.31,745.928 1359.74,743.781 1363.18,741.635 \n",
       "  1366.62,739.488 1370.05,737.341 1373.49,735.195 1376.93,733.048 1380.36,730.902 1383.8,728.755 1387.23,726.608 1390.67,724.462 1394.11,722.315 1397.54,720.168 \n",
       "  1400.98,718.022 1404.42,715.875 1407.85,713.729 1411.29,711.582 1414.73,709.435 1418.16,707.289 1421.6,705.142 1425.03,702.995 1428.47,700.849 1431.91,698.702 \n",
       "  1435.34,696.556 1438.78,694.409 1442.22,692.262 1445.65,690.116 1449.09,687.969 1452.53,685.823 1455.96,683.676 1459.4,681.529 1462.84,679.383 1466.27,677.236 \n",
       "  1469.71,675.089 1473.14,672.943 1476.58,670.796 1480.02,668.65 1483.45,666.503 1486.89,664.356 1490.33,662.21 1493.76,660.063 1497.2,657.916 1500.64,655.77 \n",
       "  1504.07,653.623 1507.51,651.477 1510.94,649.33 1514.38,647.183 1517.82,645.037 1521.25,642.89 1524.69,640.743 1528.13,638.597 1531.56,636.45 1535,634.304 \n",
       "  1538.44,632.157 1541.87,630.01 1545.31,627.864 1548.74,625.717 1552.18,623.57 1555.62,621.424 1559.05,619.277 1562.49,617.131 1565.93,614.984 1569.36,612.837 \n",
       "  1572.8,610.691 1576.24,608.544 1579.67,606.398 1583.11,604.251 1586.55,602.104 1589.98,599.958 1593.42,597.811 1596.85,595.664 1600.29,593.518 1603.73,591.371 \n",
       "  1607.16,589.225 1610.6,587.078 1614.04,584.931 1617.47,582.785 1620.91,580.638 1624.35,578.491 1627.78,576.345 1631.22,574.198 1634.65,572.052 1638.09,569.905 \n",
       "  1641.53,567.758 1644.96,565.612 1648.4,563.465 1651.84,561.318 1655.27,559.172 1658.71,557.025 1662.15,554.879 1665.58,552.732 1669.02,550.585 1672.45,548.439 \n",
       "  1675.89,546.292 1679.33,544.146 1682.76,541.999 1686.2,539.852 1689.64,537.706 1693.07,535.559 1696.51,533.412 1699.95,531.266 1703.38,529.119 1706.82,526.973 \n",
       "  1710.25,524.826 1713.69,522.679 1717.13,520.533 1720.56,518.386 1724,516.239 1727.44,514.093 1730.87,511.946 1734.31,509.8 1737.75,507.653 1741.18,505.506 \n",
       "  1744.62,503.36 1748.06,501.213 1751.49,499.066 1754.93,496.92 1758.36,494.773 1761.8,492.627 1765.24,490.48 1768.67,488.333 1772.11,486.187 1775.55,484.04 \n",
       "  1778.98,481.893 1782.42,479.747 1785.86,477.6 1789.29,475.454 1792.73,473.307 1796.16,471.16 1799.6,469.014 1803.04,466.867 1806.47,464.721 1809.91,462.574 \n",
       "  1813.35,460.427 1816.78,458.281 1820.22,456.134 1823.66,453.987 1827.09,451.841 1830.53,449.694 1833.96,447.548 1837.4,445.401 1840.84,443.254 1844.27,441.108 \n",
       "  1847.71,438.961 1851.15,436.814 1854.58,434.668 1858.02,432.521 1861.46,430.375 1864.89,428.228 1868.33,426.081 1871.77,423.935 1875.2,421.788 1878.64,419.641 \n",
       "  1882.07,417.495 1885.51,415.348 1888.95,413.202 1892.38,411.055 1895.82,408.908 1899.26,406.762 1902.69,404.615 1906.13,402.469 1909.57,400.322 1913,398.175 \n",
       "  1916.44,396.029 1919.87,393.882 1923.31,391.735 1926.75,389.589 1930.18,387.442 1933.62,385.296 1937.06,383.149 1940.49,381.002 1943.93,378.856 1947.37,376.709 \n",
       "  1950.8,374.562 1954.24,372.416 1957.67,370.269 1961.11,368.123 1964.55,365.976 1967.98,363.829 1971.42,361.683 1974.86,359.536 1978.29,357.389 1981.73,355.243 \n",
       "  1985.17,353.096 1988.6,350.95 1992.04,348.803 1995.47,346.656 1998.91,344.51 2002.35,342.363 2005.78,340.216 2009.22,338.07 2012.66,335.923 2016.09,333.777 \n",
       "  2019.53,331.63 2022.97,329.483 2026.4,327.337 2029.84,325.19 2033.28,323.044 2036.71,320.897 2040.15,318.75 2043.58,316.604 2047.02,314.457 2050.46,312.31 \n",
       "  2053.89,310.164 2057.33,308.017 2060.77,305.871 2064.2,303.724 2067.64,301.577 2071.08,299.431 2074.51,297.284 2077.95,295.137 2081.38,292.991 2084.82,290.844 \n",
       "  2088.26,288.698 2091.69,286.551 2095.13,284.404 2098.57,282.258 2102,280.111 2105.44,277.964 2108.88,275.818 2112.31,273.671 2115.75,271.525 2119.18,269.378 \n",
       "  2122.62,267.231 2126.06,265.085 2129.49,262.938 2132.93,260.791 2136.37,258.645 2139.8,256.498 2143.24,254.352 2146.68,252.205 2150.11,250.058 2153.55,247.912 \n",
       "  2156.99,245.765 2160.42,243.619 2163.86,241.472 2167.29,239.325 2170.73,237.179 2174.17,235.032 2177.6,232.885 2181.04,230.739 2184.48,228.592 2187.91,226.446 \n",
       "  2191.35,224.299 2194.79,222.152 2198.22,220.006 2201.66,217.859 2205.09,215.712 2208.53,213.566 2211.97,211.419 2215.4,209.273 2218.84,207.126 2222.28,204.979 \n",
       "  2225.71,202.833 2229.15,200.686 2232.59,198.539 2236.02,196.393 2239.46,194.246 2242.89,192.1 2246.33,189.953 2249.77,187.806 2253.2,185.66 2256.64,183.513 \n",
       "  2260.08,181.367 2263.51,179.22 2266.95,177.073 2270.39,174.927 2273.82,172.78 2277.26,170.633 2280.69,168.487 2284.13,166.34 2287.57,164.194 2291,162.047 \n",
       "  \n",
       "  \"/>\n",
       "<path clip-path=\"url(#clip710)\" d=\"\n",
       "M1985.16 272.585 L2280.03 272.585 L2280.03 168.905 L1985.16 168.905  Z\n",
       "  \" fill=\"#ffffff\" fill-rule=\"evenodd\" fill-opacity=\"1\"/>\n",
       "<polyline clip-path=\"url(#clip710)\" style=\"stroke:#000000; stroke-linecap:butt; stroke-linejoin:round; stroke-width:4; stroke-opacity:1; fill:none\" points=\"\n",
       "  1985.16,272.585 2280.03,272.585 2280.03,168.905 1985.16,168.905 1985.16,272.585 \n",
       "  \"/>\n",
       "<polyline clip-path=\"url(#clip710)\" style=\"stroke:#009af9; stroke-linecap:butt; stroke-linejoin:round; stroke-width:4; stroke-opacity:1; fill:none\" points=\"\n",
       "  2009.41,220.745 2154.87,220.745 \n",
       "  \"/>\n",
       "<path clip-path=\"url(#clip710)\" d=\"M2192.95 240.432 Q2191.15 245.062 2189.43 246.474 Q2187.72 247.886 2184.85 247.886 L2181.45 247.886 L2181.45 244.321 L2183.95 244.321 Q2185.71 244.321 2186.68 243.488 Q2187.65 242.654 2188.83 239.552 L2189.6 237.608 L2179.11 212.099 L2183.62 212.099 L2191.72 232.377 L2199.83 212.099 L2204.34 212.099 L2192.95 240.432 Z\" fill=\"#000000\" fill-rule=\"evenodd\" fill-opacity=\"1\" /><path clip-path=\"url(#clip710)\" d=\"M2211.63 234.089 L2219.27 234.089 L2219.27 207.724 L2210.96 209.391 L2210.96 205.131 L2219.22 203.465 L2223.9 203.465 L2223.9 234.089 L2231.54 234.089 L2231.54 238.025 L2211.63 238.025 L2211.63 234.089 Z\" fill=\"#000000\" fill-rule=\"evenodd\" fill-opacity=\"1\" /></svg>\n"
      ]
     },
     "execution_count": 116,
     "metadata": {},
     "output_type": "execute_result"
    }
   ],
   "source": [
    "scatter(p1)"
   ]
  },
  {
   "cell_type": "code",
   "execution_count": 117,
   "metadata": {},
   "outputs": [
    {
     "data": {
      "image/svg+xml": [
       "<?xml version=\"1.0\" encoding=\"utf-8\"?>\n",
       "<svg xmlns=\"http://www.w3.org/2000/svg\" xmlns:xlink=\"http://www.w3.org/1999/xlink\" width=\"600\" height=\"400\" viewBox=\"0 0 2400 1600\">\n",
       "<defs>\n",
       "  <clipPath id=\"clip750\">\n",
       "    <rect x=\"0\" y=\"0\" width=\"2400\" height=\"1600\"/>\n",
       "  </clipPath>\n",
       "</defs>\n",
       "<path clip-path=\"url(#clip750)\" d=\"\n",
       "M0 1600 L2400 1600 L2400 0 L0 0  Z\n",
       "  \" fill=\"#ffffff\" fill-rule=\"evenodd\" fill-opacity=\"1\"/>\n",
       "<defs>\n",
       "  <clipPath id=\"clip751\">\n",
       "    <rect x=\"480\" y=\"0\" width=\"1681\" height=\"1600\"/>\n",
       "  </clipPath>\n",
       "</defs>\n",
       "<path clip-path=\"url(#clip750)\" d=\"\n",
       "M140.696 1486.45 L2352.76 1486.45 L2352.76 123.472 L140.696 123.472  Z\n",
       "  \" fill=\"#ffffff\" fill-rule=\"evenodd\" fill-opacity=\"1\"/>\n",
       "<defs>\n",
       "  <clipPath id=\"clip752\">\n",
       "    <rect x=\"140\" y=\"123\" width=\"2213\" height=\"1364\"/>\n",
       "  </clipPath>\n",
       "</defs>\n",
       "<polyline clip-path=\"url(#clip752)\" style=\"stroke:#000000; stroke-linecap:butt; stroke-linejoin:round; stroke-width:2; stroke-opacity:0.1; fill:none\" points=\"\n",
       "  199.817,1486.45 199.817,123.472 \n",
       "  \"/>\n",
       "<polyline clip-path=\"url(#clip752)\" style=\"stroke:#000000; stroke-linecap:butt; stroke-linejoin:round; stroke-width:2; stroke-opacity:0.1; fill:none\" points=\"\n",
       "  609.522,1486.45 609.522,123.472 \n",
       "  \"/>\n",
       "<polyline clip-path=\"url(#clip752)\" style=\"stroke:#000000; stroke-linecap:butt; stroke-linejoin:round; stroke-width:2; stroke-opacity:0.1; fill:none\" points=\"\n",
       "  1019.23,1486.45 1019.23,123.472 \n",
       "  \"/>\n",
       "<polyline clip-path=\"url(#clip752)\" style=\"stroke:#000000; stroke-linecap:butt; stroke-linejoin:round; stroke-width:2; stroke-opacity:0.1; fill:none\" points=\"\n",
       "  1428.93,1486.45 1428.93,123.472 \n",
       "  \"/>\n",
       "<polyline clip-path=\"url(#clip752)\" style=\"stroke:#000000; stroke-linecap:butt; stroke-linejoin:round; stroke-width:2; stroke-opacity:0.1; fill:none\" points=\"\n",
       "  1838.64,1486.45 1838.64,123.472 \n",
       "  \"/>\n",
       "<polyline clip-path=\"url(#clip752)\" style=\"stroke:#000000; stroke-linecap:butt; stroke-linejoin:round; stroke-width:2; stroke-opacity:0.1; fill:none\" points=\"\n",
       "  2248.34,1486.45 2248.34,123.472 \n",
       "  \"/>\n",
       "<polyline clip-path=\"url(#clip750)\" style=\"stroke:#000000; stroke-linecap:butt; stroke-linejoin:round; stroke-width:4; stroke-opacity:1; fill:none\" points=\"\n",
       "  140.696,1486.45 2352.76,1486.45 \n",
       "  \"/>\n",
       "<polyline clip-path=\"url(#clip750)\" style=\"stroke:#000000; stroke-linecap:butt; stroke-linejoin:round; stroke-width:4; stroke-opacity:1; fill:none\" points=\"\n",
       "  199.817,1486.45 199.817,1467.55 \n",
       "  \"/>\n",
       "<polyline clip-path=\"url(#clip750)\" style=\"stroke:#000000; stroke-linecap:butt; stroke-linejoin:round; stroke-width:4; stroke-opacity:1; fill:none\" points=\"\n",
       "  609.522,1486.45 609.522,1467.55 \n",
       "  \"/>\n",
       "<polyline clip-path=\"url(#clip750)\" style=\"stroke:#000000; stroke-linecap:butt; stroke-linejoin:round; stroke-width:4; stroke-opacity:1; fill:none\" points=\"\n",
       "  1019.23,1486.45 1019.23,1467.55 \n",
       "  \"/>\n",
       "<polyline clip-path=\"url(#clip750)\" style=\"stroke:#000000; stroke-linecap:butt; stroke-linejoin:round; stroke-width:4; stroke-opacity:1; fill:none\" points=\"\n",
       "  1428.93,1486.45 1428.93,1467.55 \n",
       "  \"/>\n",
       "<polyline clip-path=\"url(#clip750)\" style=\"stroke:#000000; stroke-linecap:butt; stroke-linejoin:round; stroke-width:4; stroke-opacity:1; fill:none\" points=\"\n",
       "  1838.64,1486.45 1838.64,1467.55 \n",
       "  \"/>\n",
       "<polyline clip-path=\"url(#clip750)\" style=\"stroke:#000000; stroke-linecap:butt; stroke-linejoin:round; stroke-width:4; stroke-opacity:1; fill:none\" points=\"\n",
       "  2248.34,1486.45 2248.34,1467.55 \n",
       "  \"/>\n",
       "<path clip-path=\"url(#clip750)\" d=\"M199.817 1517.37 Q196.206 1517.37 194.377 1520.93 Q192.572 1524.47 192.572 1531.6 Q192.572 1538.71 194.377 1542.27 Q196.206 1545.82 199.817 1545.82 Q203.451 1545.82 205.257 1542.27 Q207.086 1538.71 207.086 1531.6 Q207.086 1524.47 205.257 1520.93 Q203.451 1517.37 199.817 1517.37 M199.817 1513.66 Q205.627 1513.66 208.683 1518.27 Q211.762 1522.85 211.762 1531.6 Q211.762 1540.33 208.683 1544.94 Q205.627 1549.52 199.817 1549.52 Q194.007 1549.52 190.928 1544.94 Q187.873 1540.33 187.873 1531.6 Q187.873 1522.85 190.928 1518.27 Q194.007 1513.66 199.817 1513.66 Z\" fill=\"#000000\" fill-rule=\"evenodd\" fill-opacity=\"1\" /><path clip-path=\"url(#clip750)\" d=\"M599.904 1544.91 L607.543 1544.91 L607.543 1518.55 L599.233 1520.21 L599.233 1515.95 L607.497 1514.29 L612.173 1514.29 L612.173 1544.91 L619.812 1544.91 L619.812 1548.85 L599.904 1548.85 L599.904 1544.91 Z\" fill=\"#000000\" fill-rule=\"evenodd\" fill-opacity=\"1\" /><path clip-path=\"url(#clip750)\" d=\"M1013.88 1544.91 L1030.2 1544.91 L1030.2 1548.85 L1008.26 1548.85 L1008.26 1544.91 Q1010.92 1542.16 1015.5 1537.53 Q1020.11 1532.88 1021.29 1531.53 Q1023.53 1529.01 1024.41 1527.27 Q1025.32 1525.51 1025.32 1523.82 Q1025.32 1521.07 1023.37 1519.33 Q1021.45 1517.6 1018.35 1517.6 Q1016.15 1517.6 1013.7 1518.36 Q1011.26 1519.13 1008.49 1520.68 L1008.49 1515.95 Q1011.31 1514.82 1013.76 1514.24 Q1016.22 1513.66 1018.26 1513.66 Q1023.63 1513.66 1026.82 1516.35 Q1030.01 1519.03 1030.01 1523.52 Q1030.01 1525.65 1029.2 1527.57 Q1028.42 1529.47 1026.31 1532.07 Q1025.73 1532.74 1022.63 1535.95 Q1019.53 1539.15 1013.88 1544.91 Z\" fill=\"#000000\" fill-rule=\"evenodd\" fill-opacity=\"1\" /><path clip-path=\"url(#clip750)\" d=\"M1433.18 1530.21 Q1436.54 1530.93 1438.41 1533.2 Q1440.31 1535.47 1440.31 1538.8 Q1440.31 1543.92 1436.79 1546.72 Q1433.27 1549.52 1426.79 1549.52 Q1424.62 1549.52 1422.3 1549.08 Q1420.01 1548.66 1417.56 1547.81 L1417.56 1543.29 Q1419.5 1544.43 1421.82 1545.01 Q1424.13 1545.58 1426.65 1545.58 Q1431.05 1545.58 1433.34 1543.85 Q1435.66 1542.11 1435.66 1538.8 Q1435.66 1535.75 1433.5 1534.03 Q1431.38 1532.3 1427.56 1532.3 L1423.53 1532.3 L1423.53 1528.45 L1427.74 1528.45 Q1431.19 1528.45 1433.02 1527.09 Q1434.85 1525.7 1434.85 1523.11 Q1434.85 1520.45 1432.95 1519.03 Q1431.07 1517.6 1427.56 1517.6 Q1425.63 1517.6 1423.44 1518.01 Q1421.24 1518.43 1418.6 1519.31 L1418.6 1515.14 Q1421.26 1514.4 1423.57 1514.03 Q1425.91 1513.66 1427.97 1513.66 Q1433.3 1513.66 1436.4 1516.09 Q1439.5 1518.5 1439.5 1522.62 Q1439.5 1525.49 1437.86 1527.48 Q1436.21 1529.45 1433.18 1530.21 Z\" fill=\"#000000\" fill-rule=\"evenodd\" fill-opacity=\"1\" /><path clip-path=\"url(#clip750)\" d=\"M1841.65 1518.36 L1829.84 1536.81 L1841.65 1536.81 L1841.65 1518.36 M1840.42 1514.29 L1846.3 1514.29 L1846.3 1536.81 L1851.23 1536.81 L1851.23 1540.7 L1846.3 1540.7 L1846.3 1548.85 L1841.65 1548.85 L1841.65 1540.7 L1826.05 1540.7 L1826.05 1536.19 L1840.42 1514.29 Z\" fill=\"#000000\" fill-rule=\"evenodd\" fill-opacity=\"1\" /><path clip-path=\"url(#clip750)\" d=\"M2238.62 1514.29 L2256.98 1514.29 L2256.98 1518.22 L2242.9 1518.22 L2242.9 1526.7 Q2243.92 1526.35 2244.94 1526.19 Q2245.96 1526 2246.98 1526 Q2252.77 1526 2256.14 1529.17 Q2259.52 1532.34 2259.52 1537.76 Q2259.52 1543.34 2256.05 1546.44 Q2252.58 1549.52 2246.26 1549.52 Q2244.08 1549.52 2241.82 1549.15 Q2239.57 1548.78 2237.16 1548.04 L2237.16 1543.34 Q2239.25 1544.47 2241.47 1545.03 Q2243.69 1545.58 2246.17 1545.58 Q2250.17 1545.58 2252.51 1543.48 Q2254.85 1541.37 2254.85 1537.76 Q2254.85 1534.15 2252.51 1532.04 Q2250.17 1529.94 2246.17 1529.94 Q2244.29 1529.94 2242.42 1530.35 Q2240.57 1530.77 2238.62 1531.65 L2238.62 1514.29 Z\" fill=\"#000000\" fill-rule=\"evenodd\" fill-opacity=\"1\" /><polyline clip-path=\"url(#clip752)\" style=\"stroke:#000000; stroke-linecap:butt; stroke-linejoin:round; stroke-width:2; stroke-opacity:0.1; fill:none\" points=\"\n",
       "  140.696,1447.87 2352.76,1447.87 \n",
       "  \"/>\n",
       "<polyline clip-path=\"url(#clip752)\" style=\"stroke:#000000; stroke-linecap:butt; stroke-linejoin:round; stroke-width:2; stroke-opacity:0.1; fill:none\" points=\"\n",
       "  140.696,1044.64 2352.76,1044.64 \n",
       "  \"/>\n",
       "<polyline clip-path=\"url(#clip752)\" style=\"stroke:#000000; stroke-linecap:butt; stroke-linejoin:round; stroke-width:2; stroke-opacity:0.1; fill:none\" points=\"\n",
       "  140.696,641.403 2352.76,641.403 \n",
       "  \"/>\n",
       "<polyline clip-path=\"url(#clip752)\" style=\"stroke:#000000; stroke-linecap:butt; stroke-linejoin:round; stroke-width:2; stroke-opacity:0.1; fill:none\" points=\"\n",
       "  140.696,238.168 2352.76,238.168 \n",
       "  \"/>\n",
       "<polyline clip-path=\"url(#clip750)\" style=\"stroke:#000000; stroke-linecap:butt; stroke-linejoin:round; stroke-width:4; stroke-opacity:1; fill:none\" points=\"\n",
       "  140.696,1486.45 140.696,123.472 \n",
       "  \"/>\n",
       "<polyline clip-path=\"url(#clip750)\" style=\"stroke:#000000; stroke-linecap:butt; stroke-linejoin:round; stroke-width:4; stroke-opacity:1; fill:none\" points=\"\n",
       "  140.696,1447.87 159.593,1447.87 \n",
       "  \"/>\n",
       "<polyline clip-path=\"url(#clip750)\" style=\"stroke:#000000; stroke-linecap:butt; stroke-linejoin:round; stroke-width:4; stroke-opacity:1; fill:none\" points=\"\n",
       "  140.696,1044.64 159.593,1044.64 \n",
       "  \"/>\n",
       "<polyline clip-path=\"url(#clip750)\" style=\"stroke:#000000; stroke-linecap:butt; stroke-linejoin:round; stroke-width:4; stroke-opacity:1; fill:none\" points=\"\n",
       "  140.696,641.403 159.593,641.403 \n",
       "  \"/>\n",
       "<polyline clip-path=\"url(#clip750)\" style=\"stroke:#000000; stroke-linecap:butt; stroke-linejoin:round; stroke-width:4; stroke-opacity:1; fill:none\" points=\"\n",
       "  140.696,238.168 159.593,238.168 \n",
       "  \"/>\n",
       "<path clip-path=\"url(#clip750)\" d=\"M92.7512 1433.67 Q89.1401 1433.67 87.3114 1437.24 Q85.5058 1440.78 85.5058 1447.91 Q85.5058 1455.01 87.3114 1458.58 Q89.1401 1462.12 92.7512 1462.12 Q96.3854 1462.12 98.1909 1458.58 Q100.02 1455.01 100.02 1447.91 Q100.02 1440.78 98.1909 1437.24 Q96.3854 1433.67 92.7512 1433.67 M92.7512 1429.97 Q98.5613 1429.97 101.617 1434.57 Q104.696 1439.16 104.696 1447.91 Q104.696 1456.63 101.617 1461.24 Q98.5613 1465.82 92.7512 1465.82 Q86.941 1465.82 83.8623 1461.24 Q80.8068 1456.63 80.8068 1447.91 Q80.8068 1439.16 83.8623 1434.57 Q86.941 1429.97 92.7512 1429.97 Z\" fill=\"#000000\" fill-rule=\"evenodd\" fill-opacity=\"1\" /><path clip-path=\"url(#clip750)\" d=\"M53.3995 1057.98 L61.0384 1057.98 L61.0384 1031.62 L52.7282 1033.28 L52.7282 1029.02 L60.9921 1027.36 L65.668 1027.36 L65.668 1057.98 L73.3068 1057.98 L73.3068 1061.92 L53.3995 1061.92 L53.3995 1057.98 Z\" fill=\"#000000\" fill-rule=\"evenodd\" fill-opacity=\"1\" /><path clip-path=\"url(#clip750)\" d=\"M92.7512 1030.44 Q89.1401 1030.44 87.3114 1034 Q85.5058 1037.54 85.5058 1044.67 Q85.5058 1051.78 87.3114 1055.34 Q89.1401 1058.89 92.7512 1058.89 Q96.3854 1058.89 98.1909 1055.34 Q100.02 1051.78 100.02 1044.67 Q100.02 1037.54 98.1909 1034 Q96.3854 1030.44 92.7512 1030.44 M92.7512 1026.73 Q98.5613 1026.73 101.617 1031.34 Q104.696 1035.92 104.696 1044.67 Q104.696 1053.4 101.617 1058.01 Q98.5613 1062.59 92.7512 1062.59 Q86.941 1062.59 83.8623 1058.01 Q80.8068 1053.4 80.8068 1044.67 Q80.8068 1035.92 83.8623 1031.34 Q86.941 1026.73 92.7512 1026.73 Z\" fill=\"#000000\" fill-rule=\"evenodd\" fill-opacity=\"1\" /><path clip-path=\"url(#clip750)\" d=\"M56.6171 654.748 L72.9365 654.748 L72.9365 658.683 L50.9921 658.683 L50.9921 654.748 Q53.6541 651.993 58.2375 647.364 Q62.8439 642.711 64.0245 641.368 Q66.2698 638.845 67.1494 637.109 Q68.0522 635.35 68.0522 633.66 Q68.0522 630.905 66.1078 629.169 Q64.1865 627.433 61.0847 627.433 Q58.8856 627.433 56.4319 628.197 Q54.0014 628.961 51.2236 630.512 L51.2236 625.79 Q54.0477 624.655 56.5014 624.077 Q58.955 623.498 60.9921 623.498 Q66.3624 623.498 69.5568 626.183 Q72.7513 628.868 72.7513 633.359 Q72.7513 635.489 71.9411 637.41 Q71.1541 639.308 69.0476 641.901 Q68.4689 642.572 65.367 645.789 Q62.2652 648.984 56.6171 654.748 Z\" fill=\"#000000\" fill-rule=\"evenodd\" fill-opacity=\"1\" /><path clip-path=\"url(#clip750)\" d=\"M92.7512 627.202 Q89.1401 627.202 87.3114 630.766 Q85.5058 634.308 85.5058 641.438 Q85.5058 648.544 87.3114 652.109 Q89.1401 655.651 92.7512 655.651 Q96.3854 655.651 98.1909 652.109 Q100.02 648.544 100.02 641.438 Q100.02 634.308 98.1909 630.766 Q96.3854 627.202 92.7512 627.202 M92.7512 623.498 Q98.5613 623.498 101.617 628.104 Q104.696 632.688 104.696 641.438 Q104.696 650.164 101.617 654.771 Q98.5613 659.354 92.7512 659.354 Q86.941 659.354 83.8623 654.771 Q80.8068 650.164 80.8068 641.438 Q80.8068 632.688 83.8623 628.104 Q86.941 623.498 92.7512 623.498 Z\" fill=\"#000000\" fill-rule=\"evenodd\" fill-opacity=\"1\" /><path clip-path=\"url(#clip750)\" d=\"M66.7559 236.814 Q70.1124 237.531 71.9874 239.8 Q73.8855 242.068 73.8855 245.402 Q73.8855 250.517 70.367 253.318 Q66.8485 256.119 60.3671 256.119 Q58.1912 256.119 55.8764 255.679 Q53.5847 255.263 51.131 254.406 L51.131 249.892 Q53.0754 251.027 55.3903 251.605 Q57.7051 252.184 60.2282 252.184 Q64.6263 252.184 66.918 250.448 Q69.2328 248.712 69.2328 245.402 Q69.2328 242.346 67.08 240.633 Q64.9504 238.897 61.131 238.897 L57.1032 238.897 L57.1032 235.054 L61.3161 235.054 Q64.7652 235.054 66.5939 233.689 Q68.4226 232.3 68.4226 229.707 Q68.4226 227.045 66.5245 225.633 Q64.6495 224.198 61.131 224.198 Q59.2097 224.198 57.0106 224.615 Q54.8115 225.031 52.1727 225.911 L52.1727 221.744 Q54.8347 221.004 57.1495 220.633 Q59.4875 220.263 61.5476 220.263 Q66.8717 220.263 69.9735 222.693 Q73.0753 225.101 73.0753 229.221 Q73.0753 232.091 71.4318 234.082 Q69.7883 236.05 66.7559 236.814 Z\" fill=\"#000000\" fill-rule=\"evenodd\" fill-opacity=\"1\" /><path clip-path=\"url(#clip750)\" d=\"M92.7512 223.967 Q89.1401 223.967 87.3114 227.531 Q85.5058 231.073 85.5058 238.203 Q85.5058 245.309 87.3114 248.874 Q89.1401 252.415 92.7512 252.415 Q96.3854 252.415 98.1909 248.874 Q100.02 245.309 100.02 238.203 Q100.02 231.073 98.1909 227.531 Q96.3854 223.967 92.7512 223.967 M92.7512 220.263 Q98.5613 220.263 101.617 224.869 Q104.696 229.453 104.696 238.203 Q104.696 246.929 101.617 251.536 Q98.5613 256.119 92.7512 256.119 Q86.941 256.119 83.8623 251.536 Q80.8068 246.929 80.8068 238.203 Q80.8068 229.453 83.8623 224.869 Q86.941 220.263 92.7512 220.263 Z\" fill=\"#000000\" fill-rule=\"evenodd\" fill-opacity=\"1\" /><path clip-path=\"url(#clip750)\" d=\"M1202.57 76.7889 Q1199.41 84.8907 1196.41 87.3618 Q1193.42 89.8329 1188.39 89.8329 L1182.44 89.8329 L1182.44 83.5945 L1186.81 83.5945 Q1189.89 83.5945 1191.59 82.1361 Q1193.29 80.6778 1195.36 75.2496 L1196.7 71.8468 L1178.35 27.2059 L1186.25 27.2059 L1200.42 62.6918 L1214.6 27.2059 L1222.5 27.2059 L1202.57 76.7889 Z\" fill=\"#000000\" fill-rule=\"evenodd\" fill-opacity=\"1\" /><path clip-path=\"url(#clip750)\" d=\"M1250.7 9.62495 Q1245.27 18.942 1242.63 28.0566 Q1240 37.1711 1240 46.5287 Q1240 55.8863 1242.63 65.0818 Q1245.31 74.2369 1250.7 83.5134 L1244.21 83.5134 Q1238.14 73.9938 1235.1 64.7983 Q1232.1 55.6027 1232.1 46.5287 Q1232.1 37.4952 1235.1 28.3401 Q1238.1 19.1851 1244.21 9.62495 L1250.7 9.62495 Z\" fill=\"#000000\" fill-rule=\"evenodd\" fill-opacity=\"1\" /><path clip-path=\"url(#clip750)\" d=\"M1272.53 14.324 L1272.53 27.2059 L1287.88 27.2059 L1287.88 32.9987 L1272.53 32.9987 L1272.53 57.6282 Q1272.53 63.1779 1274.03 64.7578 Q1275.57 66.3376 1280.23 66.3376 L1287.88 66.3376 L1287.88 72.576 L1280.23 72.576 Q1271.6 72.576 1268.32 69.3758 Q1265.04 66.1351 1265.04 57.6282 L1265.04 32.9987 L1259.57 32.9987 L1259.57 27.2059 L1265.04 27.2059 L1265.04 14.324 L1272.53 14.324 Z\" fill=\"#000000\" fill-rule=\"evenodd\" fill-opacity=\"1\" /><path clip-path=\"url(#clip750)\" d=\"M1296.51 9.62495 L1302.99 9.62495 Q1309.07 19.1851 1312.07 28.3401 Q1315.1 37.4952 1315.1 46.5287 Q1315.1 55.6027 1312.07 64.7983 Q1309.07 73.9938 1302.99 83.5134 L1296.51 83.5134 Q1301.9 74.2369 1304.53 65.0818 Q1307.21 55.8863 1307.21 46.5287 Q1307.21 37.1711 1304.53 28.0566 Q1301.9 18.942 1296.51 9.62495 Z\" fill=\"#000000\" fill-rule=\"evenodd\" fill-opacity=\"1\" /><polyline clip-path=\"url(#clip752)\" style=\"stroke:#009af9; stroke-linecap:butt; stroke-linejoin:round; stroke-width:4; stroke-opacity:1; fill:none\" points=\"\n",
       "  203.301,1447.87 206.785,1439.32 210.269,1430.79 213.753,1422.29 217.237,1413.81 220.72,1405.37 224.204,1396.95 227.688,1388.57 231.172,1380.21 234.656,1371.88 \n",
       "  238.14,1363.58 241.624,1355.31 245.108,1347.06 248.592,1338.85 252.075,1330.66 255.559,1322.51 259.043,1314.38 262.527,1306.28 266.011,1298.2 269.495,1290.16 \n",
       "  272.979,1282.14 276.463,1274.16 279.947,1266.2 283.43,1258.27 286.914,1250.37 290.398,1242.5 293.882,1234.65 297.366,1226.84 300.85,1219.05 304.334,1211.3 \n",
       "  307.818,1203.57 311.302,1195.87 314.785,1188.19 318.269,1180.55 321.753,1172.93 325.237,1165.35 328.721,1157.79 332.205,1150.26 335.689,1142.76 339.173,1135.29 \n",
       "  342.657,1127.85 346.14,1120.43 349.624,1113.04 353.108,1105.69 356.592,1098.36 360.076,1091.06 363.56,1083.78 367.044,1076.54 370.528,1069.33 374.012,1062.14 \n",
       "  377.495,1054.98 380.979,1047.85 384.463,1040.75 387.947,1033.68 391.431,1026.64 394.915,1019.62 398.399,1012.64 401.883,1005.68 405.367,998.748 408.85,991.848 \n",
       "  412.334,984.976 415.818,978.132 419.302,971.317 422.786,964.531 426.27,957.773 429.754,951.044 433.238,944.344 436.722,937.672 440.205,931.028 443.689,924.413 \n",
       "  447.173,917.827 450.657,911.269 454.141,904.74 457.625,898.24 461.109,891.768 464.593,885.324 468.077,878.909 471.56,872.523 475.044,866.165 478.528,859.836 \n",
       "  482.012,853.536 485.496,847.264 488.98,841.02 492.464,834.805 495.948,828.619 499.432,822.462 502.915,816.332 506.399,810.232 509.883,804.16 513.367,798.117 \n",
       "  516.851,792.102 520.335,786.116 523.819,780.158 527.303,774.229 530.787,768.328 534.27,762.456 537.754,756.613 541.238,750.798 544.722,745.012 548.206,739.254 \n",
       "  551.69,733.525 555.174,727.825 558.658,722.153 562.142,716.509 565.625,710.895 569.109,705.308 572.593,699.751 576.077,694.222 579.561,688.721 583.045,683.249 \n",
       "  586.529,677.806 590.013,672.391 593.497,667.005 596.98,661.648 600.464,656.318 603.948,651.018 607.432,645.746 610.916,640.503 614.4,635.288 617.884,630.102 \n",
       "  621.368,624.944 624.852,619.815 628.335,614.715 631.819,609.643 635.303,604.6 638.787,599.585 642.271,594.599 645.755,589.641 649.239,584.712 652.723,579.812 \n",
       "  656.207,574.94 659.69,570.097 663.174,565.282 666.658,560.496 670.142,555.738 673.626,551.009 677.11,546.309 680.594,541.637 684.078,536.994 687.562,532.379 \n",
       "  691.045,527.793 694.529,523.235 698.013,518.707 701.497,514.206 704.981,509.734 708.465,505.291 711.949,500.876 715.433,496.49 718.917,492.133 722.4,487.804 \n",
       "  725.884,483.503 729.368,479.232 732.852,474.988 736.336,470.774 739.82,466.588 743.304,462.43 746.788,458.301 750.272,454.201 753.755,450.129 757.239,446.086 \n",
       "  760.723,442.071 764.207,438.085 767.691,434.128 771.175,430.199 774.659,426.298 778.143,422.427 781.627,418.584 785.11,414.769 788.594,410.983 792.078,407.225 \n",
       "  795.562,403.496 799.046,399.796 802.53,396.124 806.014,392.481 809.498,388.867 812.982,385.281 816.465,381.723 819.949,378.194 823.433,374.694 826.917,371.222 \n",
       "  830.401,367.779 833.885,364.365 837.369,360.979 840.853,357.621 844.337,354.292 847.82,350.992 851.304,347.72 854.788,344.477 858.272,341.263 861.756,338.077 \n",
       "  865.24,334.919 868.724,331.79 872.208,328.69 875.692,325.618 879.175,322.575 882.659,319.561 886.143,316.575 889.627,313.617 893.111,310.688 896.595,307.788 \n",
       "  900.079,304.916 903.563,302.073 907.047,299.259 910.53,296.473 914.014,293.716 917.498,290.987 920.982,288.286 924.466,285.615 927.95,282.972 931.434,280.357 \n",
       "  934.918,277.771 938.402,275.214 941.885,272.685 945.369,270.185 948.853,267.713 952.337,265.27 955.821,262.856 959.305,260.47 962.789,258.112 966.273,255.784 \n",
       "  969.757,253.483 973.24,251.212 976.724,248.969 980.208,246.754 983.692,244.568 987.176,242.411 990.66,240.282 994.144,238.182 997.628,236.11 1001.11,234.067 \n",
       "  1004.6,232.053 1008.08,230.067 1011.56,228.11 1015.05,226.181 1018.53,224.281 1022.01,222.409 1025.5,220.566 1028.98,218.752 1032.47,216.966 1035.95,215.209 \n",
       "  1039.43,213.48 1042.92,211.78 1046.4,210.108 1049.89,208.465 1053.37,206.851 1056.85,205.265 1060.34,203.708 1063.82,202.179 1067.31,200.679 1070.79,199.207 \n",
       "  1074.27,197.764 1077.76,196.35 1081.24,194.964 1084.72,193.607 1088.21,192.278 1091.69,190.978 1095.18,189.706 1098.66,188.463 1102.14,187.249 1105.63,186.063 \n",
       "  1109.11,184.906 1112.6,183.777 1116.08,182.677 1119.56,181.606 1123.05,180.563 1126.53,179.548 1130.02,178.563 1133.5,177.605 1136.98,176.677 1140.47,175.777 \n",
       "  1143.95,174.905 1147.43,174.062 1150.92,173.248 1154.4,172.462 1157.89,171.705 1161.37,170.976 1164.85,170.276 1168.34,169.605 1171.82,168.962 1175.31,168.347 \n",
       "  1178.79,167.762 1182.27,167.205 1185.76,166.676 1189.24,166.176 1192.73,165.704 1196.21,165.261 1199.69,164.847 1203.18,164.461 1206.66,164.104 1210.14,163.776 \n",
       "  1213.63,163.476 1217.11,163.204 1220.6,162.961 1224.08,162.747 1227.56,162.561 1231.05,162.404 1234.53,162.276 1238.02,162.175 1241.5,162.104 1244.98,162.061 \n",
       "  1248.47,162.047 1251.95,162.061 1255.44,162.104 1258.92,162.175 1262.4,162.276 1265.89,162.404 1269.37,162.561 1272.85,162.747 1276.34,162.961 1279.82,163.204 \n",
       "  1283.31,163.476 1286.79,163.776 1290.27,164.104 1293.76,164.461 1297.24,164.847 1300.73,165.261 1304.21,165.704 1307.69,166.176 1311.18,166.676 1314.66,167.205 \n",
       "  1318.15,167.762 1321.63,168.347 1325.11,168.962 1328.6,169.605 1332.08,170.276 1335.56,170.976 1339.05,171.705 1342.53,172.462 1346.02,173.248 1349.5,174.062 \n",
       "  1352.98,174.905 1356.47,175.777 1359.95,176.677 1363.44,177.605 1366.92,178.563 1370.4,179.548 1373.89,180.563 1377.37,181.606 1380.86,182.677 1384.34,183.777 \n",
       "  1387.82,184.906 1391.31,186.063 1394.79,187.249 1398.27,188.463 1401.76,189.706 1405.24,190.978 1408.73,192.278 1412.21,193.607 1415.69,194.964 1419.18,196.35 \n",
       "  1422.66,197.764 1426.15,199.207 1429.63,200.679 1433.11,202.179 1436.6,203.708 1440.08,205.265 1443.57,206.851 1447.05,208.465 1450.53,210.108 1454.02,211.78 \n",
       "  1457.5,213.48 1460.98,215.209 1464.47,216.966 1467.95,218.752 1471.44,220.566 1474.92,222.409 1478.4,224.281 1481.89,226.181 1485.37,228.11 1488.86,230.067 \n",
       "  1492.34,232.053 1495.82,234.067 1499.31,236.11 1502.79,238.182 1506.28,240.282 1509.76,242.411 1513.24,244.568 1516.73,246.754 1520.21,248.969 1523.69,251.212 \n",
       "  1527.18,253.483 1530.66,255.784 1534.15,258.112 1537.63,260.47 1541.11,262.856 1544.6,265.27 1548.08,267.713 1551.57,270.185 1555.05,272.685 1558.53,275.214 \n",
       "  1562.02,277.771 1565.5,280.357 1568.99,282.972 1572.47,285.615 1575.95,288.286 1579.44,290.987 1582.92,293.716 1586.4,296.473 1589.89,299.259 1593.37,302.073 \n",
       "  1596.86,304.916 1600.34,307.788 1603.82,310.688 1607.31,313.617 1610.79,316.575 1614.28,319.561 1617.76,322.575 1621.24,325.618 1624.73,328.69 1628.21,331.79 \n",
       "  1631.7,334.919 1635.18,338.077 1638.66,341.263 1642.15,344.477 1645.63,347.72 1649.11,350.992 1652.6,354.292 1656.08,357.621 1659.57,360.979 1663.05,364.365 \n",
       "  1666.53,367.779 1670.02,371.222 1673.5,374.694 1676.99,378.194 1680.47,381.723 1683.95,385.281 1687.44,388.867 1690.92,392.481 1694.41,396.124 1697.89,399.796 \n",
       "  1701.37,403.496 1704.86,407.225 1708.34,410.983 1711.82,414.769 1715.31,418.584 1718.79,422.427 1722.28,426.298 1725.76,430.199 1729.24,434.128 1732.73,438.085 \n",
       "  1736.21,442.071 1739.7,446.086 1743.18,450.129 1746.66,454.201 1750.15,458.301 1753.63,462.43 1757.12,466.588 1760.6,470.774 1764.08,474.988 1767.57,479.232 \n",
       "  1771.05,483.503 1774.53,487.804 1778.02,492.133 1781.5,496.49 1784.99,500.876 1788.47,505.291 1791.95,509.734 1795.44,514.206 1798.92,518.707 1802.41,523.235 \n",
       "  1805.89,527.793 1809.37,532.379 1812.86,536.994 1816.34,541.637 1819.83,546.309 1823.31,551.009 1826.79,555.738 1830.28,560.496 1833.76,565.282 1837.24,570.097 \n",
       "  1840.73,574.94 1844.21,579.812 1847.7,584.712 1851.18,589.641 1854.66,594.599 1858.15,599.585 1861.63,604.6 1865.12,609.643 1868.6,614.715 1872.08,619.815 \n",
       "  1875.57,624.944 1879.05,630.102 1882.54,635.288 1886.02,640.503 1889.5,645.746 1892.99,651.018 1896.47,656.318 1899.95,661.648 1903.44,667.005 1906.92,672.391 \n",
       "  1910.41,677.806 1913.89,683.249 1917.37,688.721 1920.86,694.222 1924.34,699.751 1927.83,705.308 1931.31,710.895 1934.79,716.509 1938.28,722.153 1941.76,727.825 \n",
       "  1945.25,733.525 1948.73,739.254 1952.21,745.012 1955.7,750.798 1959.18,756.613 1962.66,762.456 1966.15,768.328 1969.63,774.229 1973.12,780.158 1976.6,786.116 \n",
       "  1980.08,792.102 1983.57,798.117 1987.05,804.16 1990.54,810.232 1994.02,816.332 1997.5,822.462 2000.99,828.619 2004.47,834.805 2007.96,841.02 2011.44,847.264 \n",
       "  2014.92,853.536 2018.41,859.836 2021.89,866.165 2025.37,872.523 2028.86,878.909 2032.34,885.324 2035.83,891.768 2039.31,898.24 2042.79,904.74 2046.28,911.269 \n",
       "  2049.76,917.827 2053.25,924.413 2056.73,931.028 2060.21,937.672 2063.7,944.344 2067.18,951.044 2070.67,957.773 2074.15,964.531 2077.63,971.317 2081.12,978.132 \n",
       "  2084.6,984.976 2088.08,991.848 2091.57,998.748 2095.05,1005.68 2098.54,1012.64 2102.02,1019.62 2105.5,1026.64 2108.99,1033.68 2112.47,1040.75 2115.96,1047.85 \n",
       "  2119.44,1054.98 2122.92,1062.14 2126.41,1069.33 2129.89,1076.54 2133.38,1083.78 2136.86,1091.06 2140.34,1098.36 2143.83,1105.69 2147.31,1113.04 2150.79,1120.43 \n",
       "  2154.28,1127.85 2157.76,1135.29 2161.25,1142.76 2164.73,1150.26 2168.21,1157.79 2171.7,1165.35 2175.18,1172.93 2178.67,1180.55 2182.15,1188.19 2185.63,1195.87 \n",
       "  2189.12,1203.57 2192.6,1211.3 2196.09,1219.05 2199.57,1226.84 2203.05,1234.65 2206.54,1242.5 2210.02,1250.37 2213.5,1258.27 2216.99,1266.2 2220.47,1274.16 \n",
       "  2223.96,1282.14 2227.44,1290.16 2230.92,1298.2 2234.41,1306.28 2237.89,1314.38 2241.38,1322.51 2244.86,1330.66 2248.34,1338.85 2251.83,1347.06 2255.31,1355.31 \n",
       "  2258.8,1363.58 2262.28,1371.88 2265.76,1380.21 2269.25,1388.57 2272.73,1396.95 2276.21,1405.37 2279.7,1413.81 2283.18,1422.29 2286.67,1430.79 2290.15,1439.32 \n",
       "  \n",
       "  \"/>\n",
       "<path clip-path=\"url(#clip750)\" d=\"\n",
       "M1980.81 272.585 L2279.02 272.585 L2279.02 168.905 L1980.81 168.905  Z\n",
       "  \" fill=\"#ffffff\" fill-rule=\"evenodd\" fill-opacity=\"1\"/>\n",
       "<polyline clip-path=\"url(#clip750)\" style=\"stroke:#000000; stroke-linecap:butt; stroke-linejoin:round; stroke-width:4; stroke-opacity:1; fill:none\" points=\"\n",
       "  1980.81,272.585 2279.02,272.585 2279.02,168.905 1980.81,168.905 1980.81,272.585 \n",
       "  \"/>\n",
       "<polyline clip-path=\"url(#clip750)\" style=\"stroke:#009af9; stroke-linecap:butt; stroke-linejoin:round; stroke-width:4; stroke-opacity:1; fill:none\" points=\"\n",
       "  2005.38,220.745 2152.85,220.745 \n",
       "  \"/>\n",
       "<path clip-path=\"url(#clip750)\" d=\"M2191.28 240.432 Q2189.47 245.062 2187.76 246.474 Q2186.04 247.886 2183.17 247.886 L2179.77 247.886 L2179.77 244.321 L2182.27 244.321 Q2184.03 244.321 2185 243.488 Q2185.98 242.654 2187.16 239.552 L2187.92 237.608 L2177.43 212.099 L2181.95 212.099 L2190.05 232.377 L2198.15 212.099 L2202.66 212.099 L2191.28 240.432 Z\" fill=\"#000000\" fill-rule=\"evenodd\" fill-opacity=\"1\" /><path clip-path=\"url(#clip750)\" d=\"M2209.96 234.089 L2217.6 234.089 L2217.6 207.724 L2209.29 209.391 L2209.29 205.131 L2217.55 203.465 L2222.22 203.465 L2222.22 234.089 L2229.86 234.089 L2229.86 238.025 L2209.96 238.025 L2209.96 234.089 Z\" fill=\"#000000\" fill-rule=\"evenodd\" fill-opacity=\"1\" /></svg>\n"
      ]
     },
     "execution_count": 117,
     "metadata": {},
     "output_type": "execute_result"
    }
   ],
   "source": [
    "scatter(p2)"
   ]
  },
  {
   "cell_type": "code",
   "execution_count": 118,
   "metadata": {},
   "outputs": [
    {
     "data": {
      "image/svg+xml": [
       "<?xml version=\"1.0\" encoding=\"utf-8\"?>\n",
       "<svg xmlns=\"http://www.w3.org/2000/svg\" xmlns:xlink=\"http://www.w3.org/1999/xlink\" width=\"600\" height=\"400\" viewBox=\"0 0 2400 1600\">\n",
       "<defs>\n",
       "  <clipPath id=\"clip790\">\n",
       "    <rect x=\"0\" y=\"0\" width=\"2400\" height=\"1600\"/>\n",
       "  </clipPath>\n",
       "</defs>\n",
       "<path clip-path=\"url(#clip790)\" d=\"\n",
       "M0 1600 L2400 1600 L2400 0 L0 0  Z\n",
       "  \" fill=\"#ffffff\" fill-rule=\"evenodd\" fill-opacity=\"1\"/>\n",
       "<defs>\n",
       "  <clipPath id=\"clip791\">\n",
       "    <rect x=\"480\" y=\"0\" width=\"1681\" height=\"1600\"/>\n",
       "  </clipPath>\n",
       "</defs>\n",
       "<path clip-path=\"url(#clip790)\" d=\"\n",
       "M178.867 1486.45 L2352.76 1486.45 L2352.76 123.472 L178.867 123.472  Z\n",
       "  \" fill=\"#ffffff\" fill-rule=\"evenodd\" fill-opacity=\"1\"/>\n",
       "<defs>\n",
       "  <clipPath id=\"clip792\">\n",
       "    <rect x=\"178\" y=\"123\" width=\"2175\" height=\"1364\"/>\n",
       "  </clipPath>\n",
       "</defs>\n",
       "<polyline clip-path=\"url(#clip792)\" style=\"stroke:#000000; stroke-linecap:butt; stroke-linejoin:round; stroke-width:2; stroke-opacity:0.1; fill:none\" points=\"\n",
       "  236.968,1486.45 236.968,123.472 \n",
       "  \"/>\n",
       "<polyline clip-path=\"url(#clip792)\" style=\"stroke:#000000; stroke-linecap:butt; stroke-linejoin:round; stroke-width:2; stroke-opacity:0.1; fill:none\" points=\"\n",
       "  639.604,1486.45 639.604,123.472 \n",
       "  \"/>\n",
       "<polyline clip-path=\"url(#clip792)\" style=\"stroke:#000000; stroke-linecap:butt; stroke-linejoin:round; stroke-width:2; stroke-opacity:0.1; fill:none\" points=\"\n",
       "  1042.24,1486.45 1042.24,123.472 \n",
       "  \"/>\n",
       "<polyline clip-path=\"url(#clip792)\" style=\"stroke:#000000; stroke-linecap:butt; stroke-linejoin:round; stroke-width:2; stroke-opacity:0.1; fill:none\" points=\"\n",
       "  1444.87,1486.45 1444.87,123.472 \n",
       "  \"/>\n",
       "<polyline clip-path=\"url(#clip792)\" style=\"stroke:#000000; stroke-linecap:butt; stroke-linejoin:round; stroke-width:2; stroke-opacity:0.1; fill:none\" points=\"\n",
       "  1847.51,1486.45 1847.51,123.472 \n",
       "  \"/>\n",
       "<polyline clip-path=\"url(#clip792)\" style=\"stroke:#000000; stroke-linecap:butt; stroke-linejoin:round; stroke-width:2; stroke-opacity:0.1; fill:none\" points=\"\n",
       "  2250.15,1486.45 2250.15,123.472 \n",
       "  \"/>\n",
       "<polyline clip-path=\"url(#clip790)\" style=\"stroke:#000000; stroke-linecap:butt; stroke-linejoin:round; stroke-width:4; stroke-opacity:1; fill:none\" points=\"\n",
       "  178.867,1486.45 2352.76,1486.45 \n",
       "  \"/>\n",
       "<polyline clip-path=\"url(#clip790)\" style=\"stroke:#000000; stroke-linecap:butt; stroke-linejoin:round; stroke-width:4; stroke-opacity:1; fill:none\" points=\"\n",
       "  236.968,1486.45 236.968,1467.55 \n",
       "  \"/>\n",
       "<polyline clip-path=\"url(#clip790)\" style=\"stroke:#000000; stroke-linecap:butt; stroke-linejoin:round; stroke-width:4; stroke-opacity:1; fill:none\" points=\"\n",
       "  639.604,1486.45 639.604,1467.55 \n",
       "  \"/>\n",
       "<polyline clip-path=\"url(#clip790)\" style=\"stroke:#000000; stroke-linecap:butt; stroke-linejoin:round; stroke-width:4; stroke-opacity:1; fill:none\" points=\"\n",
       "  1042.24,1486.45 1042.24,1467.55 \n",
       "  \"/>\n",
       "<polyline clip-path=\"url(#clip790)\" style=\"stroke:#000000; stroke-linecap:butt; stroke-linejoin:round; stroke-width:4; stroke-opacity:1; fill:none\" points=\"\n",
       "  1444.87,1486.45 1444.87,1467.55 \n",
       "  \"/>\n",
       "<polyline clip-path=\"url(#clip790)\" style=\"stroke:#000000; stroke-linecap:butt; stroke-linejoin:round; stroke-width:4; stroke-opacity:1; fill:none\" points=\"\n",
       "  1847.51,1486.45 1847.51,1467.55 \n",
       "  \"/>\n",
       "<polyline clip-path=\"url(#clip790)\" style=\"stroke:#000000; stroke-linecap:butt; stroke-linejoin:round; stroke-width:4; stroke-opacity:1; fill:none\" points=\"\n",
       "  2250.15,1486.45 2250.15,1467.55 \n",
       "  \"/>\n",
       "<path clip-path=\"url(#clip790)\" d=\"M236.968 1517.37 Q233.357 1517.37 231.528 1520.93 Q229.723 1524.47 229.723 1531.6 Q229.723 1538.71 231.528 1542.27 Q233.357 1545.82 236.968 1545.82 Q240.602 1545.82 242.408 1542.27 Q244.237 1538.71 244.237 1531.6 Q244.237 1524.47 242.408 1520.93 Q240.602 1517.37 236.968 1517.37 M236.968 1513.66 Q242.778 1513.66 245.834 1518.27 Q248.912 1522.85 248.912 1531.6 Q248.912 1540.33 245.834 1544.94 Q242.778 1549.52 236.968 1549.52 Q231.158 1549.52 228.079 1544.94 Q225.024 1540.33 225.024 1531.6 Q225.024 1522.85 228.079 1518.27 Q231.158 1513.66 236.968 1513.66 Z\" fill=\"#000000\" fill-rule=\"evenodd\" fill-opacity=\"1\" /><path clip-path=\"url(#clip790)\" d=\"M629.986 1544.91 L637.624 1544.91 L637.624 1518.55 L629.314 1520.21 L629.314 1515.95 L637.578 1514.29 L642.254 1514.29 L642.254 1544.91 L649.893 1544.91 L649.893 1548.85 L629.986 1548.85 L629.986 1544.91 Z\" fill=\"#000000\" fill-rule=\"evenodd\" fill-opacity=\"1\" /><path clip-path=\"url(#clip790)\" d=\"M1036.89 1544.91 L1053.21 1544.91 L1053.21 1548.85 L1031.27 1548.85 L1031.27 1544.91 Q1033.93 1542.16 1038.51 1537.53 Q1043.12 1532.88 1044.3 1531.53 Q1046.54 1529.01 1047.42 1527.27 Q1048.33 1525.51 1048.33 1523.82 Q1048.33 1521.07 1046.38 1519.33 Q1044.46 1517.6 1041.36 1517.6 Q1039.16 1517.6 1036.71 1518.36 Q1034.28 1519.13 1031.5 1520.68 L1031.5 1515.95 Q1034.32 1514.82 1036.78 1514.24 Q1039.23 1513.66 1041.27 1513.66 Q1046.64 1513.66 1049.83 1516.35 Q1053.03 1519.03 1053.03 1523.52 Q1053.03 1525.65 1052.22 1527.57 Q1051.43 1529.47 1049.32 1532.07 Q1048.74 1532.74 1045.64 1535.95 Q1042.54 1539.15 1036.89 1544.91 Z\" fill=\"#000000\" fill-rule=\"evenodd\" fill-opacity=\"1\" /><path clip-path=\"url(#clip790)\" d=\"M1449.12 1530.21 Q1452.48 1530.93 1454.35 1533.2 Q1456.25 1535.47 1456.25 1538.8 Q1456.25 1543.92 1452.73 1546.72 Q1449.21 1549.52 1442.73 1549.52 Q1440.56 1549.52 1438.24 1549.08 Q1435.95 1548.66 1433.5 1547.81 L1433.5 1543.29 Q1435.44 1544.43 1437.76 1545.01 Q1440.07 1545.58 1442.59 1545.58 Q1446.99 1545.58 1449.28 1543.85 Q1451.6 1542.11 1451.6 1538.8 Q1451.6 1535.75 1449.45 1534.03 Q1447.32 1532.3 1443.5 1532.3 L1439.47 1532.3 L1439.47 1528.45 L1443.68 1528.45 Q1447.13 1528.45 1448.96 1527.09 Q1450.79 1525.7 1450.79 1523.11 Q1450.79 1520.45 1448.89 1519.03 Q1447.02 1517.6 1443.5 1517.6 Q1441.58 1517.6 1439.38 1518.01 Q1437.18 1518.43 1434.54 1519.31 L1434.54 1515.14 Q1437.2 1514.4 1439.52 1514.03 Q1441.85 1513.66 1443.91 1513.66 Q1449.24 1513.66 1452.34 1516.09 Q1455.44 1518.5 1455.44 1522.62 Q1455.44 1525.49 1453.8 1527.48 Q1452.15 1529.45 1449.12 1530.21 Z\" fill=\"#000000\" fill-rule=\"evenodd\" fill-opacity=\"1\" /><path clip-path=\"url(#clip790)\" d=\"M1850.52 1518.36 L1838.71 1536.81 L1850.52 1536.81 L1850.52 1518.36 M1849.29 1514.29 L1855.17 1514.29 L1855.17 1536.81 L1860.1 1536.81 L1860.1 1540.7 L1855.17 1540.7 L1855.17 1548.85 L1850.52 1548.85 L1850.52 1540.7 L1834.92 1540.7 L1834.92 1536.19 L1849.29 1514.29 Z\" fill=\"#000000\" fill-rule=\"evenodd\" fill-opacity=\"1\" /><path clip-path=\"url(#clip790)\" d=\"M2240.42 1514.29 L2258.78 1514.29 L2258.78 1518.22 L2244.71 1518.22 L2244.71 1526.7 Q2245.72 1526.35 2246.74 1526.19 Q2247.76 1526 2248.78 1526 Q2254.57 1526 2257.95 1529.17 Q2261.33 1532.34 2261.33 1537.76 Q2261.33 1543.34 2257.85 1546.44 Q2254.38 1549.52 2248.06 1549.52 Q2245.89 1549.52 2243.62 1549.15 Q2241.37 1548.78 2238.96 1548.04 L2238.96 1543.34 Q2241.05 1544.47 2243.27 1545.03 Q2245.49 1545.58 2247.97 1545.58 Q2251.97 1545.58 2254.31 1543.48 Q2256.65 1541.37 2256.65 1537.76 Q2256.65 1534.15 2254.31 1532.04 Q2251.97 1529.94 2247.97 1529.94 Q2246.09 1529.94 2244.22 1530.35 Q2242.37 1530.77 2240.42 1531.65 L2240.42 1514.29 Z\" fill=\"#000000\" fill-rule=\"evenodd\" fill-opacity=\"1\" /><polyline clip-path=\"url(#clip792)\" style=\"stroke:#000000; stroke-linecap:butt; stroke-linejoin:round; stroke-width:2; stroke-opacity:0.1; fill:none\" points=\"\n",
       "  178.867,1321.22 2352.76,1321.22 \n",
       "  \"/>\n",
       "<polyline clip-path=\"url(#clip792)\" style=\"stroke:#000000; stroke-linecap:butt; stroke-linejoin:round; stroke-width:2; stroke-opacity:0.1; fill:none\" points=\"\n",
       "  178.867,1063.63 2352.76,1063.63 \n",
       "  \"/>\n",
       "<polyline clip-path=\"url(#clip792)\" style=\"stroke:#000000; stroke-linecap:butt; stroke-linejoin:round; stroke-width:2; stroke-opacity:0.1; fill:none\" points=\"\n",
       "  178.867,806.033 2352.76,806.033 \n",
       "  \"/>\n",
       "<polyline clip-path=\"url(#clip792)\" style=\"stroke:#000000; stroke-linecap:butt; stroke-linejoin:round; stroke-width:2; stroke-opacity:0.1; fill:none\" points=\"\n",
       "  178.867,548.439 2352.76,548.439 \n",
       "  \"/>\n",
       "<polyline clip-path=\"url(#clip792)\" style=\"stroke:#000000; stroke-linecap:butt; stroke-linejoin:round; stroke-width:2; stroke-opacity:0.1; fill:none\" points=\"\n",
       "  178.867,290.844 2352.76,290.844 \n",
       "  \"/>\n",
       "<polyline clip-path=\"url(#clip790)\" style=\"stroke:#000000; stroke-linecap:butt; stroke-linejoin:round; stroke-width:4; stroke-opacity:1; fill:none\" points=\"\n",
       "  178.867,1486.45 178.867,123.472 \n",
       "  \"/>\n",
       "<polyline clip-path=\"url(#clip790)\" style=\"stroke:#000000; stroke-linecap:butt; stroke-linejoin:round; stroke-width:4; stroke-opacity:1; fill:none\" points=\"\n",
       "  178.867,1321.22 197.764,1321.22 \n",
       "  \"/>\n",
       "<polyline clip-path=\"url(#clip790)\" style=\"stroke:#000000; stroke-linecap:butt; stroke-linejoin:round; stroke-width:4; stroke-opacity:1; fill:none\" points=\"\n",
       "  178.867,1063.63 197.764,1063.63 \n",
       "  \"/>\n",
       "<polyline clip-path=\"url(#clip790)\" style=\"stroke:#000000; stroke-linecap:butt; stroke-linejoin:round; stroke-width:4; stroke-opacity:1; fill:none\" points=\"\n",
       "  178.867,806.033 197.764,806.033 \n",
       "  \"/>\n",
       "<polyline clip-path=\"url(#clip790)\" style=\"stroke:#000000; stroke-linecap:butt; stroke-linejoin:round; stroke-width:4; stroke-opacity:1; fill:none\" points=\"\n",
       "  178.867,548.439 197.764,548.439 \n",
       "  \"/>\n",
       "<polyline clip-path=\"url(#clip790)\" style=\"stroke:#000000; stroke-linecap:butt; stroke-linejoin:round; stroke-width:4; stroke-opacity:1; fill:none\" points=\"\n",
       "  178.867,290.844 197.764,290.844 \n",
       "  \"/>\n",
       "<path clip-path=\"url(#clip790)\" d=\"M50.9921 1321.67 L80.6679 1321.67 L80.6679 1325.61 L50.9921 1325.61 L50.9921 1321.67 Z\" fill=\"#000000\" fill-rule=\"evenodd\" fill-opacity=\"1\" /><path clip-path=\"url(#clip790)\" d=\"M94.7882 1334.57 L111.108 1334.57 L111.108 1338.5 L89.1632 1338.5 L89.1632 1334.57 Q91.8252 1331.81 96.4085 1327.18 Q101.015 1322.53 102.196 1321.19 Q104.441 1318.66 105.321 1316.93 Q106.223 1315.17 106.223 1313.48 Q106.223 1310.72 104.279 1308.99 Q102.358 1307.25 99.2558 1307.25 Q97.0567 1307.25 94.603 1308.02 Q92.1725 1308.78 89.3947 1310.33 L89.3947 1305.61 Q92.2188 1304.47 94.6724 1303.9 Q97.1261 1303.32 99.1632 1303.32 Q104.534 1303.32 107.728 1306 Q110.922 1308.69 110.922 1313.18 Q110.922 1315.31 110.112 1317.23 Q109.325 1319.13 107.219 1321.72 Q106.64 1322.39 103.538 1325.61 Q100.436 1328.8 94.7882 1334.57 Z\" fill=\"#000000\" fill-rule=\"evenodd\" fill-opacity=\"1\" /><path clip-path=\"url(#clip790)\" d=\"M130.922 1307.02 Q127.311 1307.02 125.482 1310.59 Q123.677 1314.13 123.677 1321.26 Q123.677 1328.36 125.482 1331.93 Q127.311 1335.47 130.922 1335.47 Q134.556 1335.47 136.362 1331.93 Q138.191 1328.36 138.191 1321.26 Q138.191 1314.13 136.362 1310.59 Q134.556 1307.02 130.922 1307.02 M130.922 1303.32 Q136.732 1303.32 139.788 1307.92 Q142.867 1312.51 142.867 1321.26 Q142.867 1329.98 139.788 1334.59 Q136.732 1339.17 130.922 1339.17 Q125.112 1339.17 122.033 1334.59 Q118.978 1329.98 118.978 1321.26 Q118.978 1312.51 122.033 1307.92 Q125.112 1303.32 130.922 1303.32 Z\" fill=\"#000000\" fill-rule=\"evenodd\" fill-opacity=\"1\" /><path clip-path=\"url(#clip790)\" d=\"M50.9921 1064.08 L80.6679 1064.08 L80.6679 1068.01 L50.9921 1068.01 L50.9921 1064.08 Z\" fill=\"#000000\" fill-rule=\"evenodd\" fill-opacity=\"1\" /><path clip-path=\"url(#clip790)\" d=\"M91.5706 1076.97 L99.2095 1076.97 L99.2095 1050.61 L90.8993 1052.27 L90.8993 1048.01 L99.1632 1046.35 L103.839 1046.35 L103.839 1076.97 L111.478 1076.97 L111.478 1080.91 L91.5706 1080.91 L91.5706 1076.97 Z\" fill=\"#000000\" fill-rule=\"evenodd\" fill-opacity=\"1\" /><path clip-path=\"url(#clip790)\" d=\"M130.922 1049.43 Q127.311 1049.43 125.482 1052.99 Q123.677 1056.53 123.677 1063.66 Q123.677 1070.77 125.482 1074.33 Q127.311 1077.88 130.922 1077.88 Q134.556 1077.88 136.362 1074.33 Q138.191 1070.77 138.191 1063.66 Q138.191 1056.53 136.362 1052.99 Q134.556 1049.43 130.922 1049.43 M130.922 1045.72 Q136.732 1045.72 139.788 1050.33 Q142.867 1054.91 142.867 1063.66 Q142.867 1072.39 139.788 1077 Q136.732 1081.58 130.922 1081.58 Q125.112 1081.58 122.033 1077 Q118.978 1072.39 118.978 1063.66 Q118.978 1054.91 122.033 1050.33 Q125.112 1045.72 130.922 1045.72 Z\" fill=\"#000000\" fill-rule=\"evenodd\" fill-opacity=\"1\" /><path clip-path=\"url(#clip790)\" d=\"M130.922 791.832 Q127.311 791.832 125.482 795.397 Q123.677 798.938 123.677 806.068 Q123.677 813.174 125.482 816.739 Q127.311 820.281 130.922 820.281 Q134.556 820.281 136.362 816.739 Q138.191 813.174 138.191 806.068 Q138.191 798.938 136.362 795.397 Q134.556 791.832 130.922 791.832 M130.922 788.128 Q136.732 788.128 139.788 792.735 Q142.867 797.318 142.867 806.068 Q142.867 814.795 139.788 819.401 Q136.732 823.985 130.922 823.985 Q125.112 823.985 122.033 819.401 Q118.978 814.795 118.978 806.068 Q118.978 797.318 122.033 792.735 Q125.112 788.128 130.922 788.128 Z\" fill=\"#000000\" fill-rule=\"evenodd\" fill-opacity=\"1\" /><path clip-path=\"url(#clip790)\" d=\"M91.5706 561.784 L99.2095 561.784 L99.2095 535.418 L90.8993 537.085 L90.8993 532.825 L99.1632 531.159 L103.839 531.159 L103.839 561.784 L111.478 561.784 L111.478 565.719 L91.5706 565.719 L91.5706 561.784 Z\" fill=\"#000000\" fill-rule=\"evenodd\" fill-opacity=\"1\" /><path clip-path=\"url(#clip790)\" d=\"M130.922 534.237 Q127.311 534.237 125.482 537.802 Q123.677 541.344 123.677 548.473 Q123.677 555.58 125.482 559.145 Q127.311 562.686 130.922 562.686 Q134.556 562.686 136.362 559.145 Q138.191 555.58 138.191 548.473 Q138.191 541.344 136.362 537.802 Q134.556 534.237 130.922 534.237 M130.922 530.534 Q136.732 530.534 139.788 535.14 Q142.867 539.724 142.867 548.473 Q142.867 557.2 139.788 561.807 Q136.732 566.39 130.922 566.39 Q125.112 566.39 122.033 561.807 Q118.978 557.2 118.978 548.473 Q118.978 539.724 122.033 535.14 Q125.112 530.534 130.922 530.534 Z\" fill=\"#000000\" fill-rule=\"evenodd\" fill-opacity=\"1\" /><path clip-path=\"url(#clip790)\" d=\"M94.7882 304.189 L111.108 304.189 L111.108 308.124 L89.1632 308.124 L89.1632 304.189 Q91.8252 301.434 96.4085 296.805 Q101.015 292.152 102.196 290.809 Q104.441 288.286 105.321 286.55 Q106.223 284.791 106.223 283.101 Q106.223 280.347 104.279 278.61 Q102.358 276.874 99.2558 276.874 Q97.0567 276.874 94.603 277.638 Q92.1725 278.402 89.3947 279.953 L89.3947 275.231 Q92.2188 274.097 94.6724 273.518 Q97.1261 272.939 99.1632 272.939 Q104.534 272.939 107.728 275.624 Q110.922 278.31 110.922 282.8 Q110.922 284.93 110.112 286.851 Q109.325 288.749 107.219 291.342 Q106.64 292.013 103.538 295.231 Q100.436 298.425 94.7882 304.189 Z\" fill=\"#000000\" fill-rule=\"evenodd\" fill-opacity=\"1\" /><path clip-path=\"url(#clip790)\" d=\"M130.922 276.643 Q127.311 276.643 125.482 280.208 Q123.677 283.749 123.677 290.879 Q123.677 297.985 125.482 301.55 Q127.311 305.092 130.922 305.092 Q134.556 305.092 136.362 301.55 Q138.191 297.985 138.191 290.879 Q138.191 283.749 136.362 280.208 Q134.556 276.643 130.922 276.643 M130.922 272.939 Q136.732 272.939 139.788 277.546 Q142.867 282.129 142.867 290.879 Q142.867 299.606 139.788 304.212 Q136.732 308.795 130.922 308.795 Q125.112 308.795 122.033 304.212 Q118.978 299.606 118.978 290.879 Q118.978 282.129 122.033 277.546 Q125.112 272.939 130.922 272.939 Z\" fill=\"#000000\" fill-rule=\"evenodd\" fill-opacity=\"1\" /><path clip-path=\"url(#clip790)\" d=\"M1172.88 27.2059 L1180.78 27.2059 L1194.96 65.2844 L1209.14 27.2059 L1217.04 27.2059 L1200.02 72.576 L1189.9 72.576 L1172.88 27.2059 Z\" fill=\"#000000\" fill-rule=\"evenodd\" fill-opacity=\"1\" /><path clip-path=\"url(#clip790)\" d=\"M1246.2 76.7889 Q1243.05 84.8907 1240.05 87.3618 Q1237.05 89.8329 1232.03 89.8329 L1226.07 89.8329 L1226.07 83.5945 L1230.45 83.5945 Q1233.53 83.5945 1235.23 82.1361 Q1236.93 80.6778 1238.99 75.2496 L1240.33 71.8468 L1221.98 27.2059 L1229.88 27.2059 L1244.06 62.6918 L1258.24 27.2059 L1266.14 27.2059 L1246.2 76.7889 Z\" fill=\"#000000\" fill-rule=\"evenodd\" fill-opacity=\"1\" /><path clip-path=\"url(#clip790)\" d=\"M1294.33 9.62495 Q1288.9 18.942 1286.27 28.0566 Q1283.64 37.1711 1283.64 46.5287 Q1283.64 55.8863 1286.27 65.0818 Q1288.94 74.2369 1294.33 83.5134 L1287.85 83.5134 Q1281.77 73.9938 1278.73 64.7983 Q1275.74 55.6027 1275.74 46.5287 Q1275.74 37.4952 1278.73 28.3401 Q1281.73 19.1851 1287.85 9.62495 L1294.33 9.62495 Z\" fill=\"#000000\" fill-rule=\"evenodd\" fill-opacity=\"1\" /><path clip-path=\"url(#clip790)\" d=\"M1316.16 14.324 L1316.16 27.2059 L1331.52 27.2059 L1331.52 32.9987 L1316.16 32.9987 L1316.16 57.6282 Q1316.16 63.1779 1317.66 64.7578 Q1319.2 66.3376 1323.86 66.3376 L1331.52 66.3376 L1331.52 72.576 L1323.86 72.576 Q1315.23 72.576 1311.95 69.3758 Q1308.67 66.1351 1308.67 57.6282 L1308.67 32.9987 L1303.2 32.9987 L1303.2 27.2059 L1308.67 27.2059 L1308.67 14.324 L1316.16 14.324 Z\" fill=\"#000000\" fill-rule=\"evenodd\" fill-opacity=\"1\" /><path clip-path=\"url(#clip790)\" d=\"M1340.15 9.62495 L1346.63 9.62495 Q1352.7 19.1851 1355.7 28.3401 Q1358.74 37.4952 1358.74 46.5287 Q1358.74 55.6027 1355.7 64.7983 Q1352.7 73.9938 1346.63 83.5134 L1340.15 83.5134 Q1345.53 74.2369 1348.17 65.0818 Q1350.84 55.8863 1350.84 46.5287 Q1350.84 37.1711 1348.17 28.0566 Q1345.53 18.942 1340.15 9.62495 Z\" fill=\"#000000\" fill-rule=\"evenodd\" fill-opacity=\"1\" /><polyline clip-path=\"url(#clip792)\" style=\"stroke:#009af9; stroke-linecap:butt; stroke-linejoin:round; stroke-width:4; stroke-opacity:1; fill:none\" points=\"\n",
       "  240.392,162.047 243.816,164.194 247.239,166.34 250.663,168.487 254.087,170.633 257.511,172.78 260.934,174.927 264.358,177.073 267.782,179.22 271.206,181.367 \n",
       "  274.63,183.513 278.053,185.66 281.477,187.806 284.901,189.953 288.325,192.1 291.748,194.246 295.172,196.393 298.596,198.539 302.02,200.686 305.443,202.833 \n",
       "  308.867,204.979 312.291,207.126 315.715,209.273 319.139,211.419 322.562,213.566 325.986,215.712 329.41,217.859 332.834,220.006 336.257,222.152 339.681,224.299 \n",
       "  343.105,226.446 346.529,228.592 349.952,230.739 353.376,232.885 356.8,235.032 360.224,237.179 363.648,239.325 367.071,241.472 370.495,243.619 373.919,245.765 \n",
       "  377.343,247.912 380.766,250.058 384.19,252.205 387.614,254.352 391.038,256.498 394.462,258.645 397.885,260.791 401.309,262.938 404.733,265.085 408.157,267.231 \n",
       "  411.58,269.378 415.004,271.525 418.428,273.671 421.852,275.818 425.275,277.964 428.699,280.111 432.123,282.258 435.547,284.404 438.971,286.551 442.394,288.698 \n",
       "  445.818,290.844 449.242,292.991 452.666,295.137 456.089,297.284 459.513,299.431 462.937,301.577 466.361,303.724 469.784,305.871 473.208,308.017 476.632,310.164 \n",
       "  480.056,312.31 483.48,314.457 486.903,316.604 490.327,318.75 493.751,320.897 497.175,323.044 500.598,325.19 504.022,327.337 507.446,329.483 510.87,331.63 \n",
       "  514.293,333.777 517.717,335.923 521.141,338.07 524.565,340.216 527.989,342.363 531.412,344.51 534.836,346.656 538.26,348.803 541.684,350.95 545.107,353.096 \n",
       "  548.531,355.243 551.955,357.389 555.379,359.536 558.803,361.683 562.226,363.829 565.65,365.976 569.074,368.123 572.498,370.269 575.921,372.416 579.345,374.562 \n",
       "  582.769,376.709 586.193,378.856 589.616,381.002 593.04,383.149 596.464,385.296 599.888,387.442 603.312,389.589 606.735,391.735 610.159,393.882 613.583,396.029 \n",
       "  617.007,398.175 620.43,400.322 623.854,402.469 627.278,404.615 630.702,406.762 634.125,408.908 637.549,411.055 640.973,413.202 644.397,415.348 647.821,417.495 \n",
       "  651.244,419.641 654.668,421.788 658.092,423.935 661.516,426.081 664.939,428.228 668.363,430.375 671.787,432.521 675.211,434.668 678.635,436.814 682.058,438.961 \n",
       "  685.482,441.108 688.906,443.254 692.33,445.401 695.753,447.548 699.177,449.694 702.601,451.841 706.025,453.987 709.448,456.134 712.872,458.281 716.296,460.427 \n",
       "  719.72,462.574 723.144,464.721 726.567,466.867 729.991,469.014 733.415,471.16 736.839,473.307 740.262,475.454 743.686,477.6 747.11,479.747 750.534,481.893 \n",
       "  753.957,484.04 757.381,486.187 760.805,488.333 764.229,490.48 767.653,492.627 771.076,494.773 774.5,496.92 777.924,499.066 781.348,501.213 784.771,503.36 \n",
       "  788.195,505.506 791.619,507.653 795.043,509.8 798.467,511.946 801.89,514.093 805.314,516.239 808.738,518.386 812.162,520.533 815.585,522.679 819.009,524.826 \n",
       "  822.433,526.973 825.857,529.119 829.28,531.266 832.704,533.412 836.128,535.559 839.552,537.706 842.976,539.852 846.399,541.999 849.823,544.146 853.247,546.292 \n",
       "  856.671,548.439 860.094,550.585 863.518,552.732 866.942,554.879 870.366,557.025 873.789,559.172 877.213,561.318 880.637,563.465 884.061,565.612 887.485,567.758 \n",
       "  890.908,569.905 894.332,572.052 897.756,574.198 901.18,576.345 904.603,578.491 908.027,580.638 911.451,582.785 914.875,584.931 918.298,587.078 921.722,589.225 \n",
       "  925.146,591.371 928.57,593.518 931.994,595.664 935.417,597.811 938.841,599.958 942.265,602.104 945.689,604.251 949.112,606.398 952.536,608.544 955.96,610.691 \n",
       "  959.384,612.837 962.808,614.984 966.231,617.131 969.655,619.277 973.079,621.424 976.503,623.57 979.926,625.717 983.35,627.864 986.774,630.01 990.198,632.157 \n",
       "  993.621,634.304 997.045,636.45 1000.47,638.597 1003.89,640.743 1007.32,642.89 1010.74,645.037 1014.16,647.183 1017.59,649.33 1021.01,651.477 1024.44,653.623 \n",
       "  1027.86,655.77 1031.28,657.916 1034.71,660.063 1038.13,662.21 1041.55,664.356 1044.98,666.503 1048.4,668.65 1051.83,670.796 1055.25,672.943 1058.67,675.089 \n",
       "  1062.1,677.236 1065.52,679.383 1068.94,681.529 1072.37,683.676 1075.79,685.823 1079.22,687.969 1082.64,690.116 1086.06,692.262 1089.49,694.409 1092.91,696.556 \n",
       "  1096.33,698.702 1099.76,700.849 1103.18,702.995 1106.61,705.142 1110.03,707.289 1113.45,709.435 1116.88,711.582 1120.3,713.729 1123.72,715.875 1127.15,718.022 \n",
       "  1130.57,720.168 1134,722.315 1137.42,724.462 1140.84,726.608 1144.27,728.755 1147.69,730.902 1151.11,733.048 1154.54,735.195 1157.96,737.341 1161.39,739.488 \n",
       "  1164.81,741.635 1168.23,743.781 1171.66,745.928 1175.08,748.075 1178.51,750.221 1181.93,752.368 1185.35,754.514 1188.78,756.661 1192.2,758.808 1195.62,760.954 \n",
       "  1199.05,763.101 1202.47,765.248 1205.9,767.394 1209.32,769.541 1212.74,771.687 1216.17,773.834 1219.59,775.981 1223.01,778.127 1226.44,780.274 1229.86,782.42 \n",
       "  1233.29,784.567 1236.71,786.714 1240.13,788.86 1243.56,791.007 1246.98,793.154 1250.4,795.3 1253.83,797.447 1257.25,799.593 1260.68,801.74 1264.1,803.887 \n",
       "  1267.52,806.033 1270.95,808.18 1274.37,810.327 1277.79,812.473 1281.22,814.62 1284.64,816.766 1288.07,818.913 1291.49,821.06 1294.91,823.206 1298.34,825.353 \n",
       "  1301.76,827.5 1305.18,829.646 1308.61,831.793 1312.03,833.939 1315.46,836.086 1318.88,838.233 1322.3,840.379 1325.73,842.526 1329.15,844.672 1332.57,846.819 \n",
       "  1336,848.966 1339.42,851.112 1342.85,853.259 1346.27,855.406 1349.69,857.552 1353.12,859.699 1356.54,861.845 1359.96,863.992 1363.39,866.139 1366.81,868.285 \n",
       "  1370.24,870.432 1373.66,872.579 1377.08,874.725 1380.51,876.872 1383.93,879.018 1387.36,881.165 1390.78,883.312 1394.2,885.458 1397.63,887.605 1401.05,889.752 \n",
       "  1404.47,891.898 1407.9,894.045 1411.32,896.191 1414.75,898.338 1418.17,900.485 1421.59,902.631 1425.02,904.778 1428.44,906.925 1431.86,909.071 1435.29,911.218 \n",
       "  1438.71,913.364 1442.14,915.511 1445.56,917.658 1448.98,919.804 1452.41,921.951 1455.83,924.097 1459.25,926.244 1462.68,928.391 1466.1,930.537 1469.53,932.684 \n",
       "  1472.95,934.831 1476.37,936.977 1479.8,939.124 1483.22,941.27 1486.64,943.417 1490.07,945.564 1493.49,947.71 1496.92,949.857 1500.34,952.004 1503.76,954.15 \n",
       "  1507.19,956.297 1510.61,958.443 1514.03,960.59 1517.46,962.737 1520.88,964.883 1524.31,967.03 1527.73,969.177 1531.15,971.323 1534.58,973.47 1538,975.616 \n",
       "  1541.42,977.763 1544.85,979.91 1548.27,982.056 1551.7,984.203 1555.12,986.35 1558.54,988.496 1561.97,990.643 1565.39,992.789 1568.82,994.936 1572.24,997.083 \n",
       "  1575.66,999.229 1579.09,1001.38 1582.51,1003.52 1585.93,1005.67 1589.36,1007.82 1592.78,1009.96 1596.21,1012.11 1599.63,1014.26 1603.05,1016.4 1606.48,1018.55 \n",
       "  1609.9,1020.7 1613.32,1022.84 1616.75,1024.99 1620.17,1027.14 1623.6,1029.28 1627.02,1031.43 1630.44,1033.58 1633.87,1035.72 1637.29,1037.87 1640.71,1040.02 \n",
       "  1644.14,1042.16 1647.56,1044.31 1650.99,1046.45 1654.41,1048.6 1657.83,1050.75 1661.26,1052.89 1664.68,1055.04 1668.1,1057.19 1671.53,1059.33 1674.95,1061.48 \n",
       "  1678.38,1063.63 1681.8,1065.77 1685.22,1067.92 1688.65,1070.07 1692.07,1072.21 1695.49,1074.36 1698.92,1076.51 1702.34,1078.65 1705.77,1080.8 1709.19,1082.95 \n",
       "  1712.61,1085.09 1716.04,1087.24 1719.46,1089.39 1722.88,1091.53 1726.31,1093.68 1729.73,1095.83 1733.16,1097.97 1736.58,1100.12 1740,1102.27 1743.43,1104.41 \n",
       "  1746.85,1106.56 1750.27,1108.71 1753.7,1110.85 1757.12,1113 1760.55,1115.15 1763.97,1117.29 1767.39,1119.44 1770.82,1121.59 1774.24,1123.73 1777.67,1125.88 \n",
       "  1781.09,1128.03 1784.51,1130.17 1787.94,1132.32 1791.36,1134.47 1794.78,1136.61 1798.21,1138.76 1801.63,1140.91 1805.06,1143.05 1808.48,1145.2 1811.9,1147.35 \n",
       "  1815.33,1149.49 1818.75,1151.64 1822.17,1153.79 1825.6,1155.93 1829.02,1158.08 1832.45,1160.23 1835.87,1162.37 1839.29,1164.52 1842.72,1166.67 1846.14,1168.81 \n",
       "  1849.56,1170.96 1852.99,1173.11 1856.41,1175.25 1859.84,1177.4 1863.26,1179.55 1866.68,1181.69 1870.11,1183.84 1873.53,1185.99 1876.95,1188.13 1880.38,1190.28 \n",
       "  1883.8,1192.43 1887.23,1194.57 1890.65,1196.72 1894.07,1198.87 1897.5,1201.01 1900.92,1203.16 1904.34,1205.3 1907.77,1207.45 1911.19,1209.6 1914.62,1211.74 \n",
       "  1918.04,1213.89 1921.46,1216.04 1924.89,1218.18 1928.31,1220.33 1931.73,1222.48 1935.16,1224.62 1938.58,1226.77 1942.01,1228.92 1945.43,1231.06 1948.85,1233.21 \n",
       "  1952.28,1235.36 1955.7,1237.5 1959.12,1239.65 1962.55,1241.8 1965.97,1243.94 1969.4,1246.09 1972.82,1248.24 1976.24,1250.38 1979.67,1252.53 1983.09,1254.68 \n",
       "  1986.52,1256.82 1989.94,1258.97 1993.36,1261.12 1996.79,1263.26 2000.21,1265.41 2003.63,1267.56 2007.06,1269.7 2010.48,1271.85 2013.91,1274 2017.33,1276.14 \n",
       "  2020.75,1278.29 2024.18,1280.44 2027.6,1282.58 2031.02,1284.73 2034.45,1286.88 2037.87,1289.02 2041.3,1291.17 2044.72,1293.32 2048.14,1295.46 2051.57,1297.61 \n",
       "  2054.99,1299.76 2058.41,1301.9 2061.84,1304.05 2065.26,1306.2 2068.69,1308.34 2072.11,1310.49 2075.53,1312.64 2078.96,1314.78 2082.38,1316.93 2085.8,1319.08 \n",
       "  2089.23,1321.22 2092.65,1323.37 2096.08,1325.52 2099.5,1327.66 2102.92,1329.81 2106.35,1331.96 2109.77,1334.1 2113.19,1336.25 2116.62,1338.4 2120.04,1340.54 \n",
       "  2123.47,1342.69 2126.89,1344.84 2130.31,1346.98 2133.74,1349.13 2137.16,1351.28 2140.58,1353.42 2144.01,1355.57 2147.43,1357.71 2150.86,1359.86 2154.28,1362.01 \n",
       "  2157.7,1364.15 2161.13,1366.3 2164.55,1368.45 2167.97,1370.59 2171.4,1372.74 2174.82,1374.89 2178.25,1377.03 2181.67,1379.18 2185.09,1381.33 2188.52,1383.47 \n",
       "  2191.94,1385.62 2195.37,1387.77 2198.79,1389.91 2202.21,1392.06 2205.64,1394.21 2209.06,1396.35 2212.48,1398.5 2215.91,1400.65 2219.33,1402.79 2222.76,1404.94 \n",
       "  2226.18,1407.09 2229.6,1409.23 2233.03,1411.38 2236.45,1413.53 2239.87,1415.67 2243.3,1417.82 2246.72,1419.97 2250.15,1422.11 2253.57,1424.26 2256.99,1426.41 \n",
       "  2260.42,1428.55 2263.84,1430.7 2267.26,1432.85 2270.69,1434.99 2274.11,1437.14 2277.54,1439.29 2280.96,1441.43 2284.38,1443.58 2287.81,1445.73 2291.23,1447.87 \n",
       "  \n",
       "  \"/>\n",
       "<path clip-path=\"url(#clip790)\" d=\"\n",
       "M1986.32 272.585 L2280.29 272.585 L2280.29 168.905 L1986.32 168.905  Z\n",
       "  \" fill=\"#ffffff\" fill-rule=\"evenodd\" fill-opacity=\"1\"/>\n",
       "<polyline clip-path=\"url(#clip790)\" style=\"stroke:#000000; stroke-linecap:butt; stroke-linejoin:round; stroke-width:4; stroke-opacity:1; fill:none\" points=\"\n",
       "  1986.32,272.585 2280.29,272.585 2280.29,168.905 1986.32,168.905 1986.32,272.585 \n",
       "  \"/>\n",
       "<polyline clip-path=\"url(#clip790)\" style=\"stroke:#009af9; stroke-linecap:butt; stroke-linejoin:round; stroke-width:4; stroke-opacity:1; fill:none\" points=\"\n",
       "  2010.47,220.745 2155.4,220.745 \n",
       "  \"/>\n",
       "<path clip-path=\"url(#clip790)\" d=\"M2193.4 240.432 Q2191.59 245.062 2189.88 246.474 Q2188.17 247.886 2185.29 247.886 L2181.89 247.886 L2181.89 244.321 L2184.39 244.321 Q2186.15 244.321 2187.12 243.488 Q2188.1 242.654 2189.28 239.552 L2190.04 237.608 L2179.55 212.099 L2184.07 212.099 L2192.17 232.377 L2200.27 212.099 L2204.79 212.099 L2193.4 240.432 Z\" fill=\"#000000\" fill-rule=\"evenodd\" fill-opacity=\"1\" /><path clip-path=\"url(#clip790)\" d=\"M2212.08 234.089 L2219.72 234.089 L2219.72 207.724 L2211.41 209.391 L2211.41 205.131 L2219.67 203.465 L2224.35 203.465 L2224.35 234.089 L2231.98 234.089 L2231.98 238.025 L2212.08 238.025 L2212.08 234.089 Z\" fill=\"#000000\" fill-rule=\"evenodd\" fill-opacity=\"1\" /></svg>\n"
      ]
     },
     "execution_count": 118,
     "metadata": {},
     "output_type": "execute_result"
    }
   ],
   "source": [
    "scatter(p3)"
   ]
  },
  {
   "cell_type": "code",
   "execution_count": 119,
   "metadata": {},
   "outputs": [
    {
     "data": {
      "image/svg+xml": [
       "<?xml version=\"1.0\" encoding=\"utf-8\"?>\n",
       "<svg xmlns=\"http://www.w3.org/2000/svg\" xmlns:xlink=\"http://www.w3.org/1999/xlink\" width=\"600\" height=\"400\" viewBox=\"0 0 2400 1600\">\n",
       "<defs>\n",
       "  <clipPath id=\"clip830\">\n",
       "    <rect x=\"0\" y=\"0\" width=\"2400\" height=\"1600\"/>\n",
       "  </clipPath>\n",
       "</defs>\n",
       "<path clip-path=\"url(#clip830)\" d=\"\n",
       "M0 1600 L2400 1600 L2400 0 L0 0  Z\n",
       "  \" fill=\"#ffffff\" fill-rule=\"evenodd\" fill-opacity=\"1\"/>\n",
       "<defs>\n",
       "  <clipPath id=\"clip831\">\n",
       "    <rect x=\"480\" y=\"0\" width=\"1681\" height=\"1600\"/>\n",
       "  </clipPath>\n",
       "</defs>\n",
       "<path clip-path=\"url(#clip830)\" d=\"\n",
       "M140.696 1486.45 L2352.76 1486.45 L2352.76 123.472 L140.696 123.472  Z\n",
       "  \" fill=\"#ffffff\" fill-rule=\"evenodd\" fill-opacity=\"1\"/>\n",
       "<defs>\n",
       "  <clipPath id=\"clip832\">\n",
       "    <rect x=\"140\" y=\"123\" width=\"2213\" height=\"1364\"/>\n",
       "  </clipPath>\n",
       "</defs>\n",
       "<polyline clip-path=\"url(#clip832)\" style=\"stroke:#000000; stroke-linecap:butt; stroke-linejoin:round; stroke-width:2; stroke-opacity:0.1; fill:none\" points=\"\n",
       "  203.301,1486.45 203.301,123.472 \n",
       "  \"/>\n",
       "<polyline clip-path=\"url(#clip832)\" style=\"stroke:#000000; stroke-linecap:butt; stroke-linejoin:round; stroke-width:2; stroke-opacity:0.1; fill:none\" points=\"\n",
       "  676.388,1486.45 676.388,123.472 \n",
       "  \"/>\n",
       "<polyline clip-path=\"url(#clip832)\" style=\"stroke:#000000; stroke-linecap:butt; stroke-linejoin:round; stroke-width:2; stroke-opacity:0.1; fill:none\" points=\"\n",
       "  1149.47,1486.45 1149.47,123.472 \n",
       "  \"/>\n",
       "<polyline clip-path=\"url(#clip832)\" style=\"stroke:#000000; stroke-linecap:butt; stroke-linejoin:round; stroke-width:2; stroke-opacity:0.1; fill:none\" points=\"\n",
       "  1622.56,1486.45 1622.56,123.472 \n",
       "  \"/>\n",
       "<polyline clip-path=\"url(#clip832)\" style=\"stroke:#000000; stroke-linecap:butt; stroke-linejoin:round; stroke-width:2; stroke-opacity:0.1; fill:none\" points=\"\n",
       "  2095.65,1486.45 2095.65,123.472 \n",
       "  \"/>\n",
       "<polyline clip-path=\"url(#clip830)\" style=\"stroke:#000000; stroke-linecap:butt; stroke-linejoin:round; stroke-width:4; stroke-opacity:1; fill:none\" points=\"\n",
       "  140.696,1486.45 2352.76,1486.45 \n",
       "  \"/>\n",
       "<polyline clip-path=\"url(#clip830)\" style=\"stroke:#000000; stroke-linecap:butt; stroke-linejoin:round; stroke-width:4; stroke-opacity:1; fill:none\" points=\"\n",
       "  203.301,1486.45 203.301,1467.55 \n",
       "  \"/>\n",
       "<polyline clip-path=\"url(#clip830)\" style=\"stroke:#000000; stroke-linecap:butt; stroke-linejoin:round; stroke-width:4; stroke-opacity:1; fill:none\" points=\"\n",
       "  676.388,1486.45 676.388,1467.55 \n",
       "  \"/>\n",
       "<polyline clip-path=\"url(#clip830)\" style=\"stroke:#000000; stroke-linecap:butt; stroke-linejoin:round; stroke-width:4; stroke-opacity:1; fill:none\" points=\"\n",
       "  1149.47,1486.45 1149.47,1467.55 \n",
       "  \"/>\n",
       "<polyline clip-path=\"url(#clip830)\" style=\"stroke:#000000; stroke-linecap:butt; stroke-linejoin:round; stroke-width:4; stroke-opacity:1; fill:none\" points=\"\n",
       "  1622.56,1486.45 1622.56,1467.55 \n",
       "  \"/>\n",
       "<polyline clip-path=\"url(#clip830)\" style=\"stroke:#000000; stroke-linecap:butt; stroke-linejoin:round; stroke-width:4; stroke-opacity:1; fill:none\" points=\"\n",
       "  2095.65,1486.45 2095.65,1467.55 \n",
       "  \"/>\n",
       "<path clip-path=\"url(#clip830)\" d=\"M203.301 1517.37 Q199.69 1517.37 197.861 1520.93 Q196.056 1524.47 196.056 1531.6 Q196.056 1538.71 197.861 1542.27 Q199.69 1545.82 203.301 1545.82 Q206.935 1545.82 208.741 1542.27 Q210.57 1538.71 210.57 1531.6 Q210.57 1524.47 208.741 1520.93 Q206.935 1517.37 203.301 1517.37 M203.301 1513.66 Q209.111 1513.66 212.167 1518.27 Q215.245 1522.85 215.245 1531.6 Q215.245 1540.33 212.167 1544.94 Q209.111 1549.52 203.301 1549.52 Q197.491 1549.52 194.412 1544.94 Q191.357 1540.33 191.357 1531.6 Q191.357 1522.85 194.412 1518.27 Q197.491 1513.66 203.301 1513.66 Z\" fill=\"#000000\" fill-rule=\"evenodd\" fill-opacity=\"1\" /><path clip-path=\"url(#clip830)\" d=\"M651.087 1514.29 L669.444 1514.29 L669.444 1518.22 L655.37 1518.22 L655.37 1526.7 Q656.388 1526.35 657.407 1526.19 Q658.425 1526 659.444 1526 Q665.231 1526 668.61 1529.17 Q671.99 1532.34 671.99 1537.76 Q671.99 1543.34 668.518 1546.44 Q665.045 1549.52 658.726 1549.52 Q656.55 1549.52 654.282 1549.15 Q652.036 1548.78 649.629 1548.04 L649.629 1543.34 Q651.712 1544.47 653.934 1545.03 Q656.157 1545.58 658.633 1545.58 Q662.638 1545.58 664.976 1543.48 Q667.314 1541.37 667.314 1537.76 Q667.314 1534.15 664.976 1532.04 Q662.638 1529.94 658.633 1529.94 Q656.758 1529.94 654.883 1530.35 Q653.032 1530.77 651.087 1531.65 L651.087 1514.29 Z\" fill=\"#000000\" fill-rule=\"evenodd\" fill-opacity=\"1\" /><path clip-path=\"url(#clip830)\" d=\"M691.203 1517.37 Q687.592 1517.37 685.763 1520.93 Q683.957 1524.47 683.957 1531.6 Q683.957 1538.71 685.763 1542.27 Q687.592 1545.82 691.203 1545.82 Q694.837 1545.82 696.643 1542.27 Q698.471 1538.71 698.471 1531.6 Q698.471 1524.47 696.643 1520.93 Q694.837 1517.37 691.203 1517.37 M691.203 1513.66 Q697.013 1513.66 700.068 1518.27 Q703.147 1522.85 703.147 1531.6 Q703.147 1540.33 700.068 1544.94 Q697.013 1549.52 691.203 1549.52 Q685.393 1549.52 682.314 1544.94 Q679.258 1540.33 679.258 1531.6 Q679.258 1522.85 682.314 1518.27 Q685.393 1513.66 691.203 1513.66 Z\" fill=\"#000000\" fill-rule=\"evenodd\" fill-opacity=\"1\" /><path clip-path=\"url(#clip830)\" d=\"M1109.08 1544.91 L1116.72 1544.91 L1116.72 1518.55 L1108.41 1520.21 L1108.41 1515.95 L1116.67 1514.29 L1121.35 1514.29 L1121.35 1544.91 L1128.99 1544.91 L1128.99 1548.85 L1109.08 1548.85 L1109.08 1544.91 Z\" fill=\"#000000\" fill-rule=\"evenodd\" fill-opacity=\"1\" /><path clip-path=\"url(#clip830)\" d=\"M1148.43 1517.37 Q1144.82 1517.37 1142.99 1520.93 Q1141.19 1524.47 1141.19 1531.6 Q1141.19 1538.71 1142.99 1542.27 Q1144.82 1545.82 1148.43 1545.82 Q1152.07 1545.82 1153.87 1542.27 Q1155.7 1538.71 1155.7 1531.6 Q1155.7 1524.47 1153.87 1520.93 Q1152.07 1517.37 1148.43 1517.37 M1148.43 1513.66 Q1154.24 1513.66 1157.3 1518.27 Q1160.38 1522.85 1160.38 1531.6 Q1160.38 1540.33 1157.3 1544.94 Q1154.24 1549.52 1148.43 1549.52 Q1142.62 1549.52 1139.54 1544.94 Q1136.49 1540.33 1136.49 1531.6 Q1136.49 1522.85 1139.54 1518.27 Q1142.62 1513.66 1148.43 1513.66 Z\" fill=\"#000000\" fill-rule=\"evenodd\" fill-opacity=\"1\" /><path clip-path=\"url(#clip830)\" d=\"M1178.6 1517.37 Q1174.98 1517.37 1173.16 1520.93 Q1171.35 1524.47 1171.35 1531.6 Q1171.35 1538.71 1173.16 1542.27 Q1174.98 1545.82 1178.6 1545.82 Q1182.23 1545.82 1184.03 1542.27 Q1185.86 1538.71 1185.86 1531.6 Q1185.86 1524.47 1184.03 1520.93 Q1182.23 1517.37 1178.6 1517.37 M1178.6 1513.66 Q1184.41 1513.66 1187.46 1518.27 Q1190.54 1522.85 1190.54 1531.6 Q1190.54 1540.33 1187.46 1544.94 Q1184.41 1549.52 1178.6 1549.52 Q1172.79 1549.52 1169.71 1544.94 Q1166.65 1540.33 1166.65 1531.6 Q1166.65 1522.85 1169.71 1518.27 Q1172.79 1513.66 1178.6 1513.66 Z\" fill=\"#000000\" fill-rule=\"evenodd\" fill-opacity=\"1\" /><path clip-path=\"url(#clip830)\" d=\"M1582.17 1544.91 L1589.81 1544.91 L1589.81 1518.55 L1581.5 1520.21 L1581.5 1515.95 L1589.76 1514.29 L1594.44 1514.29 L1594.44 1544.91 L1602.08 1544.91 L1602.08 1548.85 L1582.17 1548.85 L1582.17 1544.91 Z\" fill=\"#000000\" fill-rule=\"evenodd\" fill-opacity=\"1\" /><path clip-path=\"url(#clip830)\" d=\"M1611.57 1514.29 L1629.92 1514.29 L1629.92 1518.22 L1615.85 1518.22 L1615.85 1526.7 Q1616.87 1526.35 1617.89 1526.19 Q1618.9 1526 1619.92 1526 Q1625.71 1526 1629.09 1529.17 Q1632.47 1532.34 1632.47 1537.76 Q1632.47 1543.34 1629 1546.44 Q1625.52 1549.52 1619.21 1549.52 Q1617.03 1549.52 1614.76 1549.15 Q1612.52 1548.78 1610.11 1548.04 L1610.11 1543.34 Q1612.19 1544.47 1614.41 1545.03 Q1616.64 1545.58 1619.11 1545.58 Q1623.12 1545.58 1625.46 1543.48 Q1627.79 1541.37 1627.79 1537.76 Q1627.79 1534.15 1625.46 1532.04 Q1623.12 1529.94 1619.11 1529.94 Q1617.24 1529.94 1615.36 1530.35 Q1613.51 1530.77 1611.57 1531.65 L1611.57 1514.29 Z\" fill=\"#000000\" fill-rule=\"evenodd\" fill-opacity=\"1\" /><path clip-path=\"url(#clip830)\" d=\"M1651.68 1517.37 Q1648.07 1517.37 1646.24 1520.93 Q1644.44 1524.47 1644.44 1531.6 Q1644.44 1538.71 1646.24 1542.27 Q1648.07 1545.82 1651.68 1545.82 Q1655.32 1545.82 1657.12 1542.27 Q1658.95 1538.71 1658.95 1531.6 Q1658.95 1524.47 1657.12 1520.93 Q1655.32 1517.37 1651.68 1517.37 M1651.68 1513.66 Q1657.49 1513.66 1660.55 1518.27 Q1663.63 1522.85 1663.63 1531.6 Q1663.63 1540.33 1660.55 1544.94 Q1657.49 1549.52 1651.68 1549.52 Q1645.87 1549.52 1642.79 1544.94 Q1639.74 1540.33 1639.74 1531.6 Q1639.74 1522.85 1642.79 1518.27 Q1645.87 1513.66 1651.68 1513.66 Z\" fill=\"#000000\" fill-rule=\"evenodd\" fill-opacity=\"1\" /><path clip-path=\"url(#clip830)\" d=\"M2059.34 1544.91 L2075.66 1544.91 L2075.66 1548.85 L2053.72 1548.85 L2053.72 1544.91 Q2056.38 1542.16 2060.96 1537.53 Q2065.57 1532.88 2066.75 1531.53 Q2068.99 1529.01 2069.87 1527.27 Q2070.78 1525.51 2070.78 1523.82 Q2070.78 1521.07 2068.83 1519.33 Q2066.91 1517.6 2063.81 1517.6 Q2061.61 1517.6 2059.16 1518.36 Q2056.73 1519.13 2053.95 1520.68 L2053.95 1515.95 Q2056.77 1514.82 2059.23 1514.24 Q2061.68 1513.66 2063.72 1513.66 Q2069.09 1513.66 2072.28 1516.35 Q2075.48 1519.03 2075.48 1523.52 Q2075.48 1525.65 2074.67 1527.57 Q2073.88 1529.47 2071.77 1532.07 Q2071.19 1532.74 2068.09 1535.95 Q2064.99 1539.15 2059.34 1544.91 Z\" fill=\"#000000\" fill-rule=\"evenodd\" fill-opacity=\"1\" /><path clip-path=\"url(#clip830)\" d=\"M2095.48 1517.37 Q2091.86 1517.37 2090.04 1520.93 Q2088.23 1524.47 2088.23 1531.6 Q2088.23 1538.71 2090.04 1542.27 Q2091.86 1545.82 2095.48 1545.82 Q2099.11 1545.82 2100.92 1542.27 Q2102.74 1538.71 2102.74 1531.6 Q2102.74 1524.47 2100.92 1520.93 Q2099.11 1517.37 2095.48 1517.37 M2095.48 1513.66 Q2101.29 1513.66 2104.34 1518.27 Q2107.42 1522.85 2107.42 1531.6 Q2107.42 1540.33 2104.34 1544.94 Q2101.29 1549.52 2095.48 1549.52 Q2089.67 1549.52 2086.59 1544.94 Q2083.53 1540.33 2083.53 1531.6 Q2083.53 1522.85 2086.59 1518.27 Q2089.67 1513.66 2095.48 1513.66 Z\" fill=\"#000000\" fill-rule=\"evenodd\" fill-opacity=\"1\" /><path clip-path=\"url(#clip830)\" d=\"M2125.64 1517.37 Q2122.03 1517.37 2120.2 1520.93 Q2118.39 1524.47 2118.39 1531.6 Q2118.39 1538.71 2120.2 1542.27 Q2122.03 1545.82 2125.64 1545.82 Q2129.27 1545.82 2131.08 1542.27 Q2132.91 1538.71 2132.91 1531.6 Q2132.91 1524.47 2131.08 1520.93 Q2129.27 1517.37 2125.64 1517.37 M2125.64 1513.66 Q2131.45 1513.66 2134.5 1518.27 Q2137.58 1522.85 2137.58 1531.6 Q2137.58 1540.33 2134.5 1544.94 Q2131.45 1549.52 2125.64 1549.52 Q2119.83 1549.52 2116.75 1544.94 Q2113.69 1540.33 2113.69 1531.6 Q2113.69 1522.85 2116.75 1518.27 Q2119.83 1513.66 2125.64 1513.66 Z\" fill=\"#000000\" fill-rule=\"evenodd\" fill-opacity=\"1\" /><polyline clip-path=\"url(#clip832)\" style=\"stroke:#000000; stroke-linecap:butt; stroke-linejoin:round; stroke-width:2; stroke-opacity:0.1; fill:none\" points=\"\n",
       "  140.696,1447.87 2352.76,1447.87 \n",
       "  \"/>\n",
       "<polyline clip-path=\"url(#clip832)\" style=\"stroke:#000000; stroke-linecap:butt; stroke-linejoin:round; stroke-width:2; stroke-opacity:0.1; fill:none\" points=\"\n",
       "  140.696,1044.64 2352.76,1044.64 \n",
       "  \"/>\n",
       "<polyline clip-path=\"url(#clip832)\" style=\"stroke:#000000; stroke-linecap:butt; stroke-linejoin:round; stroke-width:2; stroke-opacity:0.1; fill:none\" points=\"\n",
       "  140.696,641.403 2352.76,641.403 \n",
       "  \"/>\n",
       "<polyline clip-path=\"url(#clip832)\" style=\"stroke:#000000; stroke-linecap:butt; stroke-linejoin:round; stroke-width:2; stroke-opacity:0.1; fill:none\" points=\"\n",
       "  140.696,238.168 2352.76,238.168 \n",
       "  \"/>\n",
       "<polyline clip-path=\"url(#clip830)\" style=\"stroke:#000000; stroke-linecap:butt; stroke-linejoin:round; stroke-width:4; stroke-opacity:1; fill:none\" points=\"\n",
       "  140.696,1486.45 140.696,123.472 \n",
       "  \"/>\n",
       "<polyline clip-path=\"url(#clip830)\" style=\"stroke:#000000; stroke-linecap:butt; stroke-linejoin:round; stroke-width:4; stroke-opacity:1; fill:none\" points=\"\n",
       "  140.696,1447.87 159.593,1447.87 \n",
       "  \"/>\n",
       "<polyline clip-path=\"url(#clip830)\" style=\"stroke:#000000; stroke-linecap:butt; stroke-linejoin:round; stroke-width:4; stroke-opacity:1; fill:none\" points=\"\n",
       "  140.696,1044.64 159.593,1044.64 \n",
       "  \"/>\n",
       "<polyline clip-path=\"url(#clip830)\" style=\"stroke:#000000; stroke-linecap:butt; stroke-linejoin:round; stroke-width:4; stroke-opacity:1; fill:none\" points=\"\n",
       "  140.696,641.403 159.593,641.403 \n",
       "  \"/>\n",
       "<polyline clip-path=\"url(#clip830)\" style=\"stroke:#000000; stroke-linecap:butt; stroke-linejoin:round; stroke-width:4; stroke-opacity:1; fill:none\" points=\"\n",
       "  140.696,238.168 159.593,238.168 \n",
       "  \"/>\n",
       "<path clip-path=\"url(#clip830)\" d=\"M92.7512 1433.67 Q89.1401 1433.67 87.3114 1437.24 Q85.5058 1440.78 85.5058 1447.91 Q85.5058 1455.01 87.3114 1458.58 Q89.1401 1462.12 92.7512 1462.12 Q96.3854 1462.12 98.1909 1458.58 Q100.02 1455.01 100.02 1447.91 Q100.02 1440.78 98.1909 1437.24 Q96.3854 1433.67 92.7512 1433.67 M92.7512 1429.97 Q98.5613 1429.97 101.617 1434.57 Q104.696 1439.16 104.696 1447.91 Q104.696 1456.63 101.617 1461.24 Q98.5613 1465.82 92.7512 1465.82 Q86.941 1465.82 83.8623 1461.24 Q80.8068 1456.63 80.8068 1447.91 Q80.8068 1439.16 83.8623 1434.57 Q86.941 1429.97 92.7512 1429.97 Z\" fill=\"#000000\" fill-rule=\"evenodd\" fill-opacity=\"1\" /><path clip-path=\"url(#clip830)\" d=\"M53.3995 1057.98 L61.0384 1057.98 L61.0384 1031.62 L52.7282 1033.28 L52.7282 1029.02 L60.9921 1027.36 L65.668 1027.36 L65.668 1057.98 L73.3068 1057.98 L73.3068 1061.92 L53.3995 1061.92 L53.3995 1057.98 Z\" fill=\"#000000\" fill-rule=\"evenodd\" fill-opacity=\"1\" /><path clip-path=\"url(#clip830)\" d=\"M92.7512 1030.44 Q89.1401 1030.44 87.3114 1034 Q85.5058 1037.54 85.5058 1044.67 Q85.5058 1051.78 87.3114 1055.34 Q89.1401 1058.89 92.7512 1058.89 Q96.3854 1058.89 98.1909 1055.34 Q100.02 1051.78 100.02 1044.67 Q100.02 1037.54 98.1909 1034 Q96.3854 1030.44 92.7512 1030.44 M92.7512 1026.73 Q98.5613 1026.73 101.617 1031.34 Q104.696 1035.92 104.696 1044.67 Q104.696 1053.4 101.617 1058.01 Q98.5613 1062.59 92.7512 1062.59 Q86.941 1062.59 83.8623 1058.01 Q80.8068 1053.4 80.8068 1044.67 Q80.8068 1035.92 83.8623 1031.34 Q86.941 1026.73 92.7512 1026.73 Z\" fill=\"#000000\" fill-rule=\"evenodd\" fill-opacity=\"1\" /><path clip-path=\"url(#clip830)\" d=\"M56.6171 654.748 L72.9365 654.748 L72.9365 658.683 L50.9921 658.683 L50.9921 654.748 Q53.6541 651.993 58.2375 647.364 Q62.8439 642.711 64.0245 641.368 Q66.2698 638.845 67.1494 637.109 Q68.0522 635.35 68.0522 633.66 Q68.0522 630.905 66.1078 629.169 Q64.1865 627.433 61.0847 627.433 Q58.8856 627.433 56.4319 628.197 Q54.0014 628.961 51.2236 630.512 L51.2236 625.79 Q54.0477 624.655 56.5014 624.077 Q58.955 623.498 60.9921 623.498 Q66.3624 623.498 69.5568 626.183 Q72.7513 628.868 72.7513 633.359 Q72.7513 635.489 71.9411 637.41 Q71.1541 639.308 69.0476 641.901 Q68.4689 642.572 65.367 645.789 Q62.2652 648.984 56.6171 654.748 Z\" fill=\"#000000\" fill-rule=\"evenodd\" fill-opacity=\"1\" /><path clip-path=\"url(#clip830)\" d=\"M92.7512 627.202 Q89.1401 627.202 87.3114 630.766 Q85.5058 634.308 85.5058 641.438 Q85.5058 648.544 87.3114 652.109 Q89.1401 655.651 92.7512 655.651 Q96.3854 655.651 98.1909 652.109 Q100.02 648.544 100.02 641.438 Q100.02 634.308 98.1909 630.766 Q96.3854 627.202 92.7512 627.202 M92.7512 623.498 Q98.5613 623.498 101.617 628.104 Q104.696 632.688 104.696 641.438 Q104.696 650.164 101.617 654.771 Q98.5613 659.354 92.7512 659.354 Q86.941 659.354 83.8623 654.771 Q80.8068 650.164 80.8068 641.438 Q80.8068 632.688 83.8623 628.104 Q86.941 623.498 92.7512 623.498 Z\" fill=\"#000000\" fill-rule=\"evenodd\" fill-opacity=\"1\" /><path clip-path=\"url(#clip830)\" d=\"M66.7559 236.814 Q70.1124 237.531 71.9874 239.8 Q73.8855 242.068 73.8855 245.402 Q73.8855 250.517 70.367 253.318 Q66.8485 256.119 60.3671 256.119 Q58.1912 256.119 55.8764 255.679 Q53.5847 255.263 51.131 254.406 L51.131 249.892 Q53.0754 251.027 55.3903 251.605 Q57.7051 252.184 60.2282 252.184 Q64.6263 252.184 66.918 250.448 Q69.2328 248.712 69.2328 245.402 Q69.2328 242.346 67.08 240.633 Q64.9504 238.897 61.131 238.897 L57.1032 238.897 L57.1032 235.054 L61.3161 235.054 Q64.7652 235.054 66.5939 233.689 Q68.4226 232.3 68.4226 229.707 Q68.4226 227.045 66.5245 225.633 Q64.6495 224.198 61.131 224.198 Q59.2097 224.198 57.0106 224.615 Q54.8115 225.031 52.1727 225.911 L52.1727 221.744 Q54.8347 221.004 57.1495 220.633 Q59.4875 220.263 61.5476 220.263 Q66.8717 220.263 69.9735 222.693 Q73.0753 225.101 73.0753 229.221 Q73.0753 232.091 71.4318 234.082 Q69.7883 236.05 66.7559 236.814 Z\" fill=\"#000000\" fill-rule=\"evenodd\" fill-opacity=\"1\" /><path clip-path=\"url(#clip830)\" d=\"M92.7512 223.967 Q89.1401 223.967 87.3114 227.531 Q85.5058 231.073 85.5058 238.203 Q85.5058 245.309 87.3114 248.874 Q89.1401 252.415 92.7512 252.415 Q96.3854 252.415 98.1909 248.874 Q100.02 245.309 100.02 238.203 Q100.02 231.073 98.1909 227.531 Q96.3854 223.967 92.7512 223.967 M92.7512 220.263 Q98.5613 220.263 101.617 224.869 Q104.696 229.453 104.696 238.203 Q104.696 246.929 101.617 251.536 Q98.5613 256.119 92.7512 256.119 Q86.941 256.119 83.8623 251.536 Q80.8068 246.929 80.8068 238.203 Q80.8068 229.453 83.8623 224.869 Q86.941 220.263 92.7512 220.263 Z\" fill=\"#000000\" fill-rule=\"evenodd\" fill-opacity=\"1\" /><path clip-path=\"url(#clip830)\" d=\"M1194.29 76.7889 Q1191.13 84.8907 1188.13 87.3618 Q1185.13 89.8329 1180.11 89.8329 L1174.15 89.8329 L1174.15 83.5945 L1178.53 83.5945 Q1181.61 83.5945 1183.31 82.1361 Q1185.01 80.6778 1187.08 75.2496 L1188.41 71.8468 L1170.06 27.2059 L1177.96 27.2059 L1192.14 62.6918 L1206.32 27.2059 L1214.22 27.2059 L1194.29 76.7889 Z\" fill=\"#000000\" fill-rule=\"evenodd\" fill-opacity=\"1\" /><path clip-path=\"url(#clip830)\" d=\"M1242.41 9.62495 Q1236.98 18.942 1234.35 28.0566 Q1231.72 37.1711 1231.72 46.5287 Q1231.72 55.8863 1234.35 65.0818 Q1237.02 74.2369 1242.41 83.5134 L1235.93 83.5134 Q1229.85 73.9938 1226.82 64.7983 Q1223.82 55.6027 1223.82 46.5287 Q1223.82 37.4952 1226.82 28.3401 Q1229.81 19.1851 1235.93 9.62495 L1242.41 9.62495 Z\" fill=\"#000000\" fill-rule=\"evenodd\" fill-opacity=\"1\" /><path clip-path=\"url(#clip830)\" d=\"M1294.59 27.2059 L1278.18 49.2833 L1295.44 72.576 L1286.65 72.576 L1273.44 54.752 L1260.24 72.576 L1251.45 72.576 L1269.07 48.8377 L1252.94 27.2059 L1261.73 27.2059 L1273.77 43.369 L1285.8 27.2059 L1294.59 27.2059 Z\" fill=\"#000000\" fill-rule=\"evenodd\" fill-opacity=\"1\" /><path clip-path=\"url(#clip830)\" d=\"M1304.8 9.62495 L1311.28 9.62495 Q1317.35 19.1851 1320.35 28.3401 Q1323.39 37.4952 1323.39 46.5287 Q1323.39 55.6027 1320.35 64.7983 Q1317.35 73.9938 1311.28 83.5134 L1304.8 83.5134 Q1310.18 74.2369 1312.82 65.0818 Q1315.49 55.8863 1315.49 46.5287 Q1315.49 37.1711 1312.82 28.0566 Q1310.18 18.942 1304.8 9.62495 Z\" fill=\"#000000\" fill-rule=\"evenodd\" fill-opacity=\"1\" /><polyline clip-path=\"url(#clip832)\" style=\"stroke:#009af9; stroke-linecap:butt; stroke-linejoin:round; stroke-width:4; stroke-opacity:1; fill:none\" points=\"\n",
       "  203.301,1447.87 206.785,1439.32 210.269,1430.79 213.753,1422.29 217.237,1413.81 220.72,1405.37 224.204,1396.95 227.688,1388.57 231.172,1380.21 234.656,1371.88 \n",
       "  238.14,1363.58 241.624,1355.31 245.108,1347.06 248.592,1338.85 252.075,1330.66 255.559,1322.51 259.043,1314.38 262.527,1306.28 266.011,1298.2 269.495,1290.16 \n",
       "  272.979,1282.14 276.463,1274.16 279.947,1266.2 283.43,1258.27 286.914,1250.37 290.398,1242.5 293.882,1234.65 297.366,1226.84 300.85,1219.05 304.334,1211.3 \n",
       "  307.818,1203.57 311.302,1195.87 314.785,1188.19 318.269,1180.55 321.753,1172.93 325.237,1165.35 328.721,1157.79 332.205,1150.26 335.689,1142.76 339.173,1135.29 \n",
       "  342.657,1127.85 346.14,1120.43 349.624,1113.04 353.108,1105.69 356.592,1098.36 360.076,1091.06 363.56,1083.78 367.044,1076.54 370.528,1069.33 374.012,1062.14 \n",
       "  377.495,1054.98 380.979,1047.85 384.463,1040.75 387.947,1033.68 391.431,1026.64 394.915,1019.62 398.399,1012.64 401.883,1005.68 405.367,998.748 408.85,991.848 \n",
       "  412.334,984.976 415.818,978.132 419.302,971.317 422.786,964.531 426.27,957.773 429.754,951.044 433.238,944.344 436.722,937.672 440.205,931.028 443.689,924.413 \n",
       "  447.173,917.827 450.657,911.269 454.141,904.74 457.625,898.24 461.109,891.768 464.593,885.324 468.077,878.909 471.56,872.523 475.044,866.165 478.528,859.836 \n",
       "  482.012,853.536 485.496,847.264 488.98,841.02 492.464,834.805 495.948,828.619 499.432,822.462 502.915,816.332 506.399,810.232 509.883,804.16 513.367,798.117 \n",
       "  516.851,792.102 520.335,786.116 523.819,780.158 527.303,774.229 530.787,768.328 534.27,762.456 537.754,756.613 541.238,750.798 544.722,745.012 548.206,739.254 \n",
       "  551.69,733.525 555.174,727.825 558.658,722.153 562.142,716.509 565.625,710.895 569.109,705.308 572.593,699.751 576.077,694.222 579.561,688.721 583.045,683.249 \n",
       "  586.529,677.806 590.013,672.391 593.497,667.005 596.98,661.648 600.464,656.318 603.948,651.018 607.432,645.746 610.916,640.503 614.4,635.288 617.884,630.102 \n",
       "  621.368,624.944 624.852,619.815 628.335,614.715 631.819,609.643 635.303,604.6 638.787,599.585 642.271,594.599 645.755,589.641 649.239,584.712 652.723,579.812 \n",
       "  656.207,574.94 659.69,570.097 663.174,565.282 666.658,560.496 670.142,555.738 673.626,551.009 677.11,546.309 680.594,541.637 684.078,536.994 687.562,532.379 \n",
       "  691.045,527.793 694.529,523.235 698.013,518.707 701.497,514.206 704.981,509.734 708.465,505.291 711.949,500.876 715.433,496.49 718.917,492.133 722.4,487.804 \n",
       "  725.884,483.503 729.368,479.232 732.852,474.988 736.336,470.774 739.82,466.588 743.304,462.43 746.788,458.301 750.272,454.201 753.755,450.129 757.239,446.086 \n",
       "  760.723,442.071 764.207,438.085 767.691,434.128 771.175,430.199 774.659,426.298 778.143,422.427 781.627,418.584 785.11,414.769 788.594,410.983 792.078,407.225 \n",
       "  795.562,403.496 799.046,399.796 802.53,396.124 806.014,392.481 809.498,388.867 812.982,385.281 816.465,381.723 819.949,378.194 823.433,374.694 826.917,371.222 \n",
       "  830.401,367.779 833.885,364.365 837.369,360.979 840.853,357.621 844.337,354.292 847.82,350.992 851.304,347.72 854.788,344.477 858.272,341.263 861.756,338.077 \n",
       "  865.24,334.919 868.724,331.79 872.208,328.69 875.692,325.618 879.175,322.575 882.659,319.561 886.143,316.575 889.627,313.617 893.111,310.688 896.595,307.788 \n",
       "  900.079,304.916 903.563,302.073 907.047,299.259 910.53,296.473 914.014,293.716 917.498,290.987 920.982,288.286 924.466,285.615 927.95,282.972 931.434,280.357 \n",
       "  934.918,277.771 938.402,275.214 941.885,272.685 945.369,270.185 948.853,267.713 952.337,265.27 955.821,262.856 959.305,260.47 962.789,258.112 966.273,255.784 \n",
       "  969.757,253.483 973.24,251.212 976.724,248.969 980.208,246.754 983.692,244.568 987.176,242.411 990.66,240.282 994.144,238.182 997.628,236.11 1001.11,234.067 \n",
       "  1004.6,232.053 1008.08,230.067 1011.56,228.11 1015.05,226.181 1018.53,224.281 1022.01,222.409 1025.5,220.566 1028.98,218.752 1032.47,216.966 1035.95,215.209 \n",
       "  1039.43,213.48 1042.92,211.78 1046.4,210.108 1049.89,208.465 1053.37,206.851 1056.85,205.265 1060.34,203.708 1063.82,202.179 1067.31,200.679 1070.79,199.207 \n",
       "  1074.27,197.764 1077.76,196.35 1081.24,194.964 1084.72,193.607 1088.21,192.278 1091.69,190.978 1095.18,189.706 1098.66,188.463 1102.14,187.249 1105.63,186.063 \n",
       "  1109.11,184.906 1112.6,183.777 1116.08,182.677 1119.56,181.606 1123.05,180.563 1126.53,179.548 1130.02,178.563 1133.5,177.605 1136.98,176.677 1140.47,175.777 \n",
       "  1143.95,174.905 1147.43,174.062 1150.92,173.248 1154.4,172.462 1157.89,171.705 1161.37,170.976 1164.85,170.276 1168.34,169.605 1171.82,168.962 1175.31,168.347 \n",
       "  1178.79,167.762 1182.27,167.205 1185.76,166.676 1189.24,166.176 1192.73,165.704 1196.21,165.261 1199.69,164.847 1203.18,164.461 1206.66,164.104 1210.14,163.776 \n",
       "  1213.63,163.476 1217.11,163.204 1220.6,162.961 1224.08,162.747 1227.56,162.561 1231.05,162.404 1234.53,162.276 1238.02,162.175 1241.5,162.104 1244.98,162.061 \n",
       "  1248.47,162.047 1251.95,162.061 1255.44,162.104 1258.92,162.175 1262.4,162.276 1265.89,162.404 1269.37,162.561 1272.85,162.747 1276.34,162.961 1279.82,163.204 \n",
       "  1283.31,163.476 1286.79,163.776 1290.27,164.104 1293.76,164.461 1297.24,164.847 1300.73,165.261 1304.21,165.704 1307.69,166.176 1311.18,166.676 1314.66,167.205 \n",
       "  1318.15,167.762 1321.63,168.347 1325.11,168.962 1328.6,169.605 1332.08,170.276 1335.56,170.976 1339.05,171.705 1342.53,172.462 1346.02,173.248 1349.5,174.062 \n",
       "  1352.98,174.905 1356.47,175.777 1359.95,176.677 1363.44,177.605 1366.92,178.563 1370.4,179.548 1373.89,180.563 1377.37,181.606 1380.86,182.677 1384.34,183.777 \n",
       "  1387.82,184.906 1391.31,186.063 1394.79,187.249 1398.27,188.463 1401.76,189.706 1405.24,190.978 1408.73,192.278 1412.21,193.607 1415.69,194.964 1419.18,196.35 \n",
       "  1422.66,197.764 1426.15,199.207 1429.63,200.679 1433.11,202.179 1436.6,203.708 1440.08,205.265 1443.57,206.851 1447.05,208.465 1450.53,210.108 1454.02,211.78 \n",
       "  1457.5,213.48 1460.98,215.209 1464.47,216.966 1467.95,218.752 1471.44,220.566 1474.92,222.409 1478.4,224.281 1481.89,226.181 1485.37,228.11 1488.86,230.067 \n",
       "  1492.34,232.053 1495.82,234.067 1499.31,236.11 1502.79,238.182 1506.28,240.282 1509.76,242.411 1513.24,244.568 1516.73,246.754 1520.21,248.969 1523.69,251.212 \n",
       "  1527.18,253.483 1530.66,255.784 1534.15,258.112 1537.63,260.47 1541.11,262.856 1544.6,265.27 1548.08,267.713 1551.57,270.185 1555.05,272.685 1558.53,275.214 \n",
       "  1562.02,277.771 1565.5,280.357 1568.99,282.972 1572.47,285.615 1575.95,288.286 1579.44,290.987 1582.92,293.716 1586.4,296.473 1589.89,299.259 1593.37,302.073 \n",
       "  1596.86,304.916 1600.34,307.788 1603.82,310.688 1607.31,313.617 1610.79,316.575 1614.28,319.561 1617.76,322.575 1621.24,325.618 1624.73,328.69 1628.21,331.79 \n",
       "  1631.7,334.919 1635.18,338.077 1638.66,341.263 1642.15,344.477 1645.63,347.72 1649.11,350.992 1652.6,354.292 1656.08,357.621 1659.57,360.979 1663.05,364.365 \n",
       "  1666.53,367.779 1670.02,371.222 1673.5,374.694 1676.99,378.194 1680.47,381.723 1683.95,385.281 1687.44,388.867 1690.92,392.481 1694.41,396.124 1697.89,399.796 \n",
       "  1701.37,403.496 1704.86,407.225 1708.34,410.983 1711.82,414.769 1715.31,418.584 1718.79,422.427 1722.28,426.298 1725.76,430.199 1729.24,434.128 1732.73,438.085 \n",
       "  1736.21,442.071 1739.7,446.086 1743.18,450.129 1746.66,454.201 1750.15,458.301 1753.63,462.43 1757.12,466.588 1760.6,470.774 1764.08,474.988 1767.57,479.232 \n",
       "  1771.05,483.503 1774.53,487.804 1778.02,492.133 1781.5,496.49 1784.99,500.876 1788.47,505.291 1791.95,509.734 1795.44,514.206 1798.92,518.707 1802.41,523.235 \n",
       "  1805.89,527.793 1809.37,532.379 1812.86,536.994 1816.34,541.637 1819.83,546.309 1823.31,551.009 1826.79,555.738 1830.28,560.496 1833.76,565.282 1837.24,570.097 \n",
       "  1840.73,574.94 1844.21,579.812 1847.7,584.712 1851.18,589.641 1854.66,594.599 1858.15,599.585 1861.63,604.6 1865.12,609.643 1868.6,614.715 1872.08,619.815 \n",
       "  1875.57,624.944 1879.05,630.102 1882.54,635.288 1886.02,640.503 1889.5,645.746 1892.99,651.018 1896.47,656.318 1899.95,661.648 1903.44,667.005 1906.92,672.391 \n",
       "  1910.41,677.806 1913.89,683.249 1917.37,688.721 1920.86,694.222 1924.34,699.751 1927.83,705.308 1931.31,710.895 1934.79,716.509 1938.28,722.153 1941.76,727.825 \n",
       "  1945.25,733.525 1948.73,739.254 1952.21,745.012 1955.7,750.798 1959.18,756.613 1962.66,762.456 1966.15,768.328 1969.63,774.229 1973.12,780.158 1976.6,786.116 \n",
       "  1980.08,792.102 1983.57,798.117 1987.05,804.16 1990.54,810.232 1994.02,816.332 1997.5,822.462 2000.99,828.619 2004.47,834.805 2007.96,841.02 2011.44,847.264 \n",
       "  2014.92,853.536 2018.41,859.836 2021.89,866.165 2025.37,872.523 2028.86,878.909 2032.34,885.324 2035.83,891.768 2039.31,898.24 2042.79,904.74 2046.28,911.269 \n",
       "  2049.76,917.827 2053.25,924.413 2056.73,931.028 2060.21,937.672 2063.7,944.344 2067.18,951.044 2070.67,957.773 2074.15,964.531 2077.63,971.317 2081.12,978.132 \n",
       "  2084.6,984.976 2088.08,991.848 2091.57,998.748 2095.05,1005.68 2098.54,1012.64 2102.02,1019.62 2105.5,1026.64 2108.99,1033.68 2112.47,1040.75 2115.96,1047.85 \n",
       "  2119.44,1054.98 2122.92,1062.14 2126.41,1069.33 2129.89,1076.54 2133.38,1083.78 2136.86,1091.06 2140.34,1098.36 2143.83,1105.69 2147.31,1113.04 2150.79,1120.43 \n",
       "  2154.28,1127.85 2157.76,1135.29 2161.25,1142.76 2164.73,1150.26 2168.21,1157.79 2171.7,1165.35 2175.18,1172.93 2178.67,1180.55 2182.15,1188.19 2185.63,1195.87 \n",
       "  2189.12,1203.57 2192.6,1211.3 2196.09,1219.05 2199.57,1226.84 2203.05,1234.65 2206.54,1242.5 2210.02,1250.37 2213.5,1258.27 2216.99,1266.2 2220.47,1274.16 \n",
       "  2223.96,1282.14 2227.44,1290.16 2230.92,1298.2 2234.41,1306.28 2237.89,1314.38 2241.38,1322.51 2244.86,1330.66 2248.34,1338.85 2251.83,1347.06 2255.31,1355.31 \n",
       "  2258.8,1363.58 2262.28,1371.88 2265.76,1380.21 2269.25,1388.57 2272.73,1396.95 2276.21,1405.37 2279.7,1413.81 2283.18,1422.29 2286.67,1430.79 2290.15,1439.32 \n",
       "  \n",
       "  \"/>\n",
       "<path clip-path=\"url(#clip830)\" d=\"\n",
       "M1980.81 272.585 L2279.02 272.585 L2279.02 168.905 L1980.81 168.905  Z\n",
       "  \" fill=\"#ffffff\" fill-rule=\"evenodd\" fill-opacity=\"1\"/>\n",
       "<polyline clip-path=\"url(#clip830)\" style=\"stroke:#000000; stroke-linecap:butt; stroke-linejoin:round; stroke-width:4; stroke-opacity:1; fill:none\" points=\"\n",
       "  1980.81,272.585 2279.02,272.585 2279.02,168.905 1980.81,168.905 1980.81,272.585 \n",
       "  \"/>\n",
       "<polyline clip-path=\"url(#clip830)\" style=\"stroke:#009af9; stroke-linecap:butt; stroke-linejoin:round; stroke-width:4; stroke-opacity:1; fill:none\" points=\"\n",
       "  2005.38,220.745 2152.85,220.745 \n",
       "  \"/>\n",
       "<path clip-path=\"url(#clip830)\" d=\"M2191.28 240.432 Q2189.47 245.062 2187.76 246.474 Q2186.04 247.886 2183.17 247.886 L2179.77 247.886 L2179.77 244.321 L2182.27 244.321 Q2184.03 244.321 2185 243.488 Q2185.98 242.654 2187.16 239.552 L2187.92 237.608 L2177.43 212.099 L2181.95 212.099 L2190.05 232.377 L2198.15 212.099 L2202.66 212.099 L2191.28 240.432 Z\" fill=\"#000000\" fill-rule=\"evenodd\" fill-opacity=\"1\" /><path clip-path=\"url(#clip830)\" d=\"M2209.96 234.089 L2217.6 234.089 L2217.6 207.724 L2209.29 209.391 L2209.29 205.131 L2217.55 203.465 L2222.22 203.465 L2222.22 234.089 L2229.86 234.089 L2229.86 238.025 L2209.96 238.025 L2209.96 234.089 Z\" fill=\"#000000\" fill-rule=\"evenodd\" fill-opacity=\"1\" /></svg>\n"
      ]
     },
     "execution_count": 119,
     "metadata": {},
     "output_type": "execute_result"
    }
   ],
   "source": [
    "scatter(p4)"
   ]
  },
  {
   "cell_type": "markdown",
   "metadata": {},
   "source": [
    "### Problema 8\n",
    "\n",
    "Implemente una función que multiplique un vector $v$ de dimensión $N$ por una matriz $A$ de dimensión $N\\times N$, y retorne como resultado un vector de dimensión $N$.\n",
    "\n",
    "Escriba un programa que, dado el valor de $N$:\n",
    "\n",
    "1. cree los arreglos correspondientes para $v$ y $A$,\n",
    "\n",
    "2. inicie los valores de $A$ de modo que sea triangular superior, con todos sus elementos igual a 1, excepto los de la diagonal que deben tomar valor 3,\n",
    "\n",
    "3. inicie el vector con todos elementos pares igual a 2, y los impares igual a 3. \n",
    "\n",
    "Minimice el uso de loops (i.e. `for`) para las inicializar los valores del vector y de la matriz. Utilice, en cambio, *broadcasting* y *slicing*.\n",
    "\n",
    "**Ayuda:** Lea [https://docs.julialang.org/en/v1/base/arrays/](https://docs.julialang.org/en/v1/base/arrays/)."
   ]
  },
  {
   "cell_type": "code",
   "execution_count": 17,
   "metadata": {},
   "outputs": [
    {
     "data": {
      "text/plain": [
       "3×3 Matrix{Float64}:\n",
       " 1.0  2.0  3.0\n",
       " 2.0  4.0  6.0\n",
       " 3.0  6.0  9.0"
      ]
     },
     "metadata": {},
     "output_type": "display_data"
    }
   ],
   "source": [
    "N = 3\n",
    "V = ones(N)\n",
    "#V[1] = 5\n",
    "V\n",
    "#V_rand = rand(N)\n",
    "V_f = fill(3.0,N)\n",
    "\n",
    "V_it = [i^2 for i in 1:N]\n",
    "\n",
    "A_it = [i*j*(1.0) for i in 1:N, j in 1:N]"
   ]
  },
  {
   "cell_type": "code",
   "execution_count": 14,
   "metadata": {},
   "outputs": [
    {
     "data": {
      "text/plain": [
       "3×3 Matrix{Float64}:\n",
       " 1.0  2.0  3.0\n",
       " 2.0  4.0  6.0\n",
       " 3.0  6.0  9.0"
      ]
     },
     "metadata": {},
     "output_type": "display_data"
    }
   ],
   "source": [
    "A_alt = zeros(N,N)\n",
    "\n",
    "for i in 1:N\n",
    "    for j in 1:N\n",
    "        A_alt[i,j] = i*j\n",
    "    end\n",
    "end\n",
    "\n",
    "A_alt"
   ]
  },
  {
   "cell_type": "code",
   "execution_count": 16,
   "metadata": {},
   "outputs": [
    {
     "data": {
      "text/plain": [
       "3×3 Matrix{Float64}:\n",
       " 1.0  2.0  3.0\n",
       " 2.0  4.0  6.0\n",
       " 3.0  6.0  9.0"
      ]
     },
     "metadata": {},
     "output_type": "display_data"
    }
   ],
   "source": [
    "A_alt_alt = [1.0 2 3\n",
    "            2 4 6\n",
    "            3 6 9]"
   ]
  },
  {
   "cell_type": "code",
   "execution_count": 22,
   "metadata": {},
   "outputs": [
    {
     "data": {
      "text/plain": [
       "5×5 Matrix{Float64}:\n",
       " 3.0  1.0  1.0  1.0  1.0\n",
       " 0.0  3.0  1.0  1.0  1.0\n",
       " 0.0  0.0  3.0  1.0  1.0\n",
       " 0.0  0.0  0.0  3.0  1.0\n",
       " 0.0  0.0  0.0  0.0  3.0"
      ]
     },
     "metadata": {},
     "output_type": "display_data"
    }
   ],
   "source": [
    "N = 5\n",
    "A = zeros(N,N)\n",
    "for i in 1:N\n",
    "    A[i,i] = 3\n",
    "    A[i,i+1:N] .= 1\n",
    "end\n",
    "A"
   ]
  },
  {
   "cell_type": "code",
   "execution_count": 25,
   "metadata": {},
   "outputs": [
    {
     "data": {
      "text/plain": [
       "5-element Vector{Float64}:\n",
       " 3.0\n",
       " 2.0\n",
       " 3.0\n",
       " 2.0\n",
       " 3.0"
      ]
     },
     "metadata": {},
     "output_type": "display_data"
    }
   ],
   "source": [
    "N = 5\n",
    "v = fill(3.0,N)\n",
    "v[2:2:N] .= 2.0\n",
    "v"
   ]
  },
  {
   "cell_type": "markdown",
   "metadata": {},
   "source": [
    "### Problema 9\n",
    "\n",
    "Escriba una funcion que tome como entrada un número natural $n$ en base $10$ y un número natural $b \\in \\{2,3,...,16\\}$ también en base $10$, y que retorne un string representando a $n$ en base $b$. Testee la función con ejemplos. Chequee con [https://www.rapidtables.com/convert/number/base-converter.html](https://www.rapidtables.com/convert/number/base-converter.html)."
   ]
  },
  {
   "cell_type": "code",
   "execution_count": 132,
   "metadata": {},
   "outputs": [
    {
     "data": {
      "text/plain": [
       "cambio_de_base (generic function with 1 method)"
      ]
     },
     "execution_count": 132,
     "metadata": {},
     "output_type": "execute_result"
    }
   ],
   "source": [
    "function cambio_de_base(n,b)\n",
    "    @assert b>=2 && b<=16\n",
    "    digitos = \"0123456789ABCDEF\"\n",
    "    s = \"\"\n",
    "    while n>0\n",
    "    r = n%b\n",
    "    s = digitos[r+1] * s      ### digito N°1--->0  \n",
    "    n = n÷b\n",
    "    end\n",
    "    return s\n",
    "end"
   ]
  },
  {
   "cell_type": "code",
   "execution_count": 134,
   "metadata": {},
   "outputs": [
    {
     "data": {
      "text/plain": [
       "\"1011\""
      ]
     },
     "execution_count": 134,
     "metadata": {},
     "output_type": "execute_result"
    }
   ],
   "source": [
    "cambio_de_base(11,2)"
   ]
  },
  {
   "cell_type": "markdown",
   "metadata": {},
   "source": [
    "## Ejercicios Complementarios\n",
    "\n",
    "\n",
    "### Problema C.1\n",
    "\n",
    "Efectúe con un programa en Julia en simple precisión los siguientes cálculos matemáticamente equivalentes,\n",
    "\n",
    "a) $1\\,000\\,000 \\times 0.1$\n",
    "\n",
    "b) $\\sum_{n=1}^{1\\,000\\,000} 0.1$\n",
    "\n",
    "c) $\\sum_{n=1}^{1\\,000} \\left( \\sum_{m=1}^{1\\,000} 0.1\\right)$\n",
    "\n",
    "Explique las diferencias obtenidas entre resultados finales de a), b) y c) y muestre que el error relativo en b) es del orden del $1\\%$, pero es mucho menor en c). \n",
    "\n",
    "1. En los puntos b) y c), vaya guardando en un vector los errores parciales obtenidos para diferentes valores de $n$ entre 1 y 1,000,000. \n",
    "Cada 1000 iteraciones en el caso b), y en todas las iteraciones de la suma externa en c), de maner que cada suma parcial comprenda 1000 términos de la suma total.\n",
    "\n",
    "2. Grafique dichos vectores, comparando con el valor exacto $0.1\\times n$ de la correspondiente suma parcial a cada valor de $n$.\n",
    "Incluya en el gráfico nombres adecuados en los ejes y con leyendas adecuadas.\n",
    "Los datos de b) graficarlos con puntos de tamaño 0.75 (el default es 1), y los de c) con línea\n",
    "de grosor 1.6 (el default es también 1). \n",
    "\n",
    "3. Luego de ver cómo le queda la gráfica en escala lineal, vuelva a graficar con el eje $x$ en escala logarítmica. \n",
    "Segun su criterio, en qué escala se aprecia mejor el resultado del problema para su análisis? \n",
    "Puede al eje $y$ darle escala logarítmica? \n",
    "Pruebe qué pasa si lo hace.\n",
    "Analice la conveniencia en general del uso de escalas logarítmicas.\n",
    "\n",
    "Resalte la conclusión de este ejercicio."
   ]
  },
  {
   "cell_type": "markdown",
   "metadata": {},
   "source": [
    "### Problema C.2\n",
    "\n",
    "Baje el archivo `GlobalTemperatures.csv` de Kaggle:\n",
    "\n",
    "[https://www.kaggle.com/berkeleyearth/climate-change-earth-surface-temperature-data/version/2?select=GlobalTemperatures.csv](https://www.kaggle.com/berkeleyearth/climate-change-earth-surface-temperature-data/version/2?select=GlobalTemperatures.csv)\n",
    "\n",
    "Este archivo contiene la temperatura (promediada sobre el globo terrestre y a lo largo del día) de cada día (salvo algunos faltantes) desde 1 de Enero de 1750 hasta el año 2015.\n",
    "\n",
    "Escribir un programa que lea la tabla de números y grafique las columna `LandAverageTemperature` vs el número de fila, incluyendo una leyenda adecuada y títulos a los ejes. Finalmente, incluya una linea constante en la temperatura promedio. Tengan en cuenta que en los datos existen valores faltantes (missing values). \n",
    "\n",
    "Repita lo anterior, pero agregando a la figura una curva representando el *rolling average* de los datos usando una ventana de $v=365$ días. El rolling average se define como\n",
    "\n",
    "$$x_{ra}(t,v) = \\frac{1}{v}\\sum_{t'=t}^{t+v} x(t')$$\n",
    "\n",
    "i.e., para cada $t$, se promedian los valores de $x$ en $[t,t+v]$. Esto se usa para suavizar las fluctuaciones temporalmente locales de la señal.\n",
    "\n",
    "Saque ventaja de los paquetes `CSV`, `DataFrames` y `Statistics`.\n",
    "\n",
    "Puede concluirse que se observa calentamiento global?"
   ]
  },
  {
   "cell_type": "markdown",
   "metadata": {},
   "source": [
    "### Problema C.3\n",
    "\n",
    "Escribir un programa que, dado un año y el nombre de un mes, saque por pantalla el numero de días del mes.\n",
    "Tenga en cuenta que algunos años son bisiestos.\n",
    "\n",
    "**Ayuda:** Considere las siguientes afirmaciones. El año $a$ es:\n",
    "\n",
    "1. divisible por 4,\n",
    "\n",
    "2. divisible por 400.\n",
    "\n",
    "3. divisible por 100,\n",
    "\n",
    "Un año es bisiesto si: \n",
    "\n",
    "    1. & ( 2. or ( not 3. ) )\n",
    "    \n",
    "es verdadero. Fuente [https://es.wikipedia.org/wiki/A%C3%B1o_bisiesto](https://es.wikipedia.org/wiki/A%C3%B1o_bisiesto)."
   ]
  },
  {
   "cell_type": "markdown",
   "metadata": {},
   "source": [
    "### Problema C.4\n",
    "\n",
    "Escriba un programa para calcular un valor aproximado de $\\pi$ utilizando \n",
    "\n",
    "1. La fórmula recurrente de Arquímedes, que  acota $\\pi$ entre $P_n$ y $p_n$, con $p_n < \\pi < P_n$. \n",
    "Siendo $p_n$ y $P_n$ los perímetros de los polígonos regulares de $n$ lados inscriptos y circunscriptos, respectivamente, en la circunsferencia de radio $1/2$. \n",
    "\n",
    "La fórmula de recurrencia que encontró Arquímides es la siguiente:\n",
    "\n",
    "$$\n",
    "\\begin{align}\n",
    "P_{2n} &= \\frac{2 p_n P_n}{p_n + P_n} \\\\\n",
    "p_{2n} &= \\sqrt{P_{2n} p_n} \n",
    "\\end{align}\n",
    "$$\n",
    "\n",
    "\n",
    "Usando los valores $P_6=2\\sqrt{3}$ y $p_6 = 3$, correspondientes al hexágono, \n",
    "escriba un programa que realice 20 iteraciones, con $n = 6\\times 2^k$, y \n",
    "$k=1, \\cdots, 20$, y escriba los resultados en pantalla.\n",
    "\n",
    "2. La productoria de Wallis\n",
    "$$\n",
    "\\frac{\\pi}{2} = \\prod_{n=1}^\\infty \\frac{(2n)^2}{(2n)^2-1} =\n",
    "\\frac43\\frac{16}{15}\\frac{36}{35}\\frac{64}{63}\\dots \n",
    "%\\frac21\\frac23\\frac43\\frac45\\frac65\\frac67\\dots \n",
    "$$\n",
    "truncando la productoria a $10^6$ factores."
   ]
  },
  {
   "cell_type": "markdown",
   "metadata": {},
   "source": [
    "### Problema C.5\n",
    "\n",
    "Ejecute el siguiente programa y explique por qué los valores obtenidos no son iguales."
   ]
  },
  {
   "cell_type": "code",
   "execution_count": null,
   "metadata": {},
   "outputs": [],
   "source": [
    "sum0 = Float32(0.0)\n",
    "sum1 = Float32(1.0)\n",
    "for i in 1:10000\n",
    "    sum0 += Float32(1.e-8)\n",
    "    sum1 += Float32(1.e-8)\n",
    "end\n",
    "sum0 += Float32(1.0)\n",
    "println(\"sum0 = \",sum0)\n",
    "println(\"sum1 = \",sum1)"
   ]
  },
  {
   "cell_type": "markdown",
   "metadata": {},
   "source": [
    "### Ejercicio C.6\n",
    "\n",
    "**Creando un paquete de Julia**\n",
    "\n",
    "Importamos el administrador de paquetes."
   ]
  },
  {
   "cell_type": "code",
   "execution_count": null,
   "metadata": {},
   "outputs": [],
   "source": [
    "using Pkg"
   ]
  },
  {
   "cell_type": "markdown",
   "metadata": {},
   "source": [
    "Creamos un macro que nos permita ejecutar comandos de cónsola (Linux en este ejemplo, pero Uds. puede remplazarlos por comandos equivalentes de Windows)."
   ]
  },
  {
   "cell_type": "code",
   "execution_count": null,
   "metadata": {},
   "outputs": [],
   "source": [
    "macro bash_str(s) open(`bash`,\"w\",stdout) do io; print(io, s); end; end;"
   ]
  },
  {
   "cell_type": "markdown",
   "metadata": {},
   "source": [
    "Probemos el macro, ingresando el comando de bash `ls` que comunmente se usa para listar el contenido de la carpeta en la que estamos trabajando."
   ]
  },
  {
   "cell_type": "code",
   "execution_count": null,
   "metadata": {},
   "outputs": [],
   "source": [
    "@bash_str \"ls\""
   ]
  },
  {
   "cell_type": "markdown",
   "metadata": {},
   "source": [
    "En esta carpeta, generaremos nuestro primer paquete, al que llamaremos `MiPackage`."
   ]
  },
  {
   "cell_type": "code",
   "execution_count": null,
   "metadata": {},
   "outputs": [],
   "source": [
    "Pkg.generate(\"MiPackage\")"
   ]
  },
  {
   "cell_type": "markdown",
   "metadata": {},
   "source": [
    "Listando el contenido de la carpeta actual, deberiamos poder ver una carpeta nueva llamada `MiPackage` que contiene el paquete generado."
   ]
  },
  {
   "cell_type": "code",
   "execution_count": null,
   "metadata": {},
   "outputs": [],
   "source": [
    "@bash_str \"ls\""
   ]
  },
  {
   "cell_type": "markdown",
   "metadata": {},
   "source": [
    "Listamos el contenido de la carpeta `MiPackage`. Deberiamos ver el archivo `Project.toml` que declara los atributos del paquete que creamos y la carpeta `src` que está destianada a contener los módulos del paquete."
   ]
  },
  {
   "cell_type": "code",
   "execution_count": null,
   "metadata": {},
   "outputs": [],
   "source": [
    "@bash_str \"ls MiPackage\""
   ]
  },
  {
   "cell_type": "markdown",
   "metadata": {},
   "source": [
    "Listamos el contenido de la carpeta `MiPackage/src`. Deberiamos ver el archivo `MiPackage.jl` que es un módulo creado por defecto al crearse el paquete."
   ]
  },
  {
   "cell_type": "code",
   "execution_count": null,
   "metadata": {},
   "outputs": [],
   "source": [
    "@bash_str \"ls MiPackage/src\""
   ]
  },
  {
   "cell_type": "markdown",
   "metadata": {},
   "source": [
    "Inspeccionamos el contenido del archivo `MiPackage/src/MiPackage.jl`. Deberíamos ver:\n",
    "\n",
    "    module MiPackage\n",
    "\n",
    "    greet() = print(\"Hello World!\")\n",
    "\n",
    "    end # module"
   ]
  },
  {
   "cell_type": "code",
   "execution_count": null,
   "metadata": {},
   "outputs": [],
   "source": [
    "@bash_str \"cat MiPackage/src/MiPackage.jl\""
   ]
  },
  {
   "cell_type": "markdown",
   "metadata": {},
   "source": [
    "Ahora nos interesa agregar dependencias al paquete creado `MiPackage`, de manera que cuando instalemos/usemos `MiPackage` se instalen/importen automaticamente otros paquetes que deseemos.\n",
    "\n",
    "Para ello, activamos el paquete `MiPackage`,"
   ]
  },
  {
   "cell_type": "code",
   "execution_count": null,
   "metadata": {},
   "outputs": [],
   "source": [
    "Pkg.activate(\"MiPackage\")"
   ]
  },
  {
   "cell_type": "markdown",
   "metadata": {},
   "source": [
    "e instalamos el paquete `Random`"
   ]
  },
  {
   "cell_type": "code",
   "execution_count": null,
   "metadata": {},
   "outputs": [],
   "source": [
    "Pkg.add(\"Random\")"
   ]
  },
  {
   "cell_type": "markdown",
   "metadata": {},
   "source": [
    "Como `MiPackage` está activo, `Random` se instalará como dependencia de `MiPackage`. Para corroborar esto, inspeccionamos la carpeta `MiPackage`"
   ]
  },
  {
   "cell_type": "code",
   "execution_count": null,
   "metadata": {},
   "outputs": [],
   "source": [
    "@bash_str \"ls MiPackage\""
   ]
  },
  {
   "cell_type": "markdown",
   "metadata": {},
   "source": [
    "Deberíamos encontrar un nuevo archivo llamado `Manifest.toml`. En este archivo se declaran las dependencias de `MiPackage`. Para ver esto, lo inspeccionamos"
   ]
  },
  {
   "cell_type": "code",
   "execution_count": null,
   "metadata": {},
   "outputs": [],
   "source": [
    "@bash_str \"cat MiPackage/Manifest.toml\""
   ]
  },
  {
   "cell_type": "code",
   "execution_count": null,
   "metadata": {},
   "outputs": [],
   "source": [
    "Ahora nos interesa agregar una función al módulo `MiPackage/src/MiPackage.jl`. Para ello sobreescribimos el correspondiente archivo haciendo"
   ]
  },
  {
   "cell_type": "code",
   "execution_count": null,
   "metadata": {},
   "outputs": [],
   "source": [
    "s=\"\"\"module MiPackage\n",
    "\n",
    "export prn_rnd\n",
    "\n",
    "import Random\n",
    "\n",
    "greet() = print(\"Hello World!\")\n",
    "prn_rnd() = println(\"A continuación se imprimen 8 letras elegidas al azar: \",Random.randstring(8))\n",
    "\n",
    "end # module\"\"\"\n",
    "\n",
    "open(\"MiPackage/src/MiPackage.jl\", \"w\") do io\n",
    "    write(io,s)\n",
    "end;"
   ]
  },
  {
   "cell_type": "markdown",
   "metadata": {},
   "source": [
    "Chequeamos que todo haya salido bien"
   ]
  },
  {
   "cell_type": "code",
   "execution_count": null,
   "metadata": {},
   "outputs": [],
   "source": [
    "@bash_str \"cat MiPackage/src/MiPackage.jl\""
   ]
  },
  {
   "cell_type": "markdown",
   "metadata": {},
   "source": [
    "Ahora usamos el paquete `MiPackage` y testeamos que la nueva función exportada `prn_rnd()` (la cual utiliza la dependencia instalada `Random`) funciona al llamarla."
   ]
  },
  {
   "cell_type": "code",
   "execution_count": null,
   "metadata": {},
   "outputs": [],
   "source": [
    "using MiPackage"
   ]
  },
  {
   "cell_type": "code",
   "execution_count": null,
   "metadata": {},
   "outputs": [],
   "source": [
    "MiPackage.prn_rnd()"
   ]
  },
  {
   "cell_type": "code",
   "execution_count": null,
   "metadata": {},
   "outputs": [],
   "source": [
    "prn_rnd()"
   ]
  }
 ],
 "metadata": {
  "@webio": {
   "lastCommId": null,
   "lastKernelId": null
  },
  "kernelspec": {
   "display_name": "Julia 1.7.2",
   "language": "julia",
   "name": "julia-1.7"
  },
  "language_info": {
   "file_extension": ".jl",
   "mimetype": "application/julia",
   "name": "julia",
   "version": "1.7.2"
  }
 },
 "nbformat": 4,
 "nbformat_minor": 4
}
