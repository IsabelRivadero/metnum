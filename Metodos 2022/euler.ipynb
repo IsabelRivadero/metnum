{
 "cells": [
  {
   "cell_type": "code",
   "execution_count": null,
   "metadata": {},
   "outputs": [],
   "source": [
    "using Plots"
   ]
  },
  {
   "cell_type": "code",
   "execution_count": null,
   "metadata": {},
   "outputs": [],
   "source": [
    "using LaTeXStrings"
   ]
  },
  {
   "cell_type": "markdown",
   "metadata": {},
   "source": [
    "## Problema\n",
    "\n",
    "Utilizando el método de Euler resuelva el siguiente problema de valores iniciales:\n",
    "$$\n",
    "\\frac{dy}{dt} = -y+\\sin(2\\pi t), \\;\\;\\;\\;\\;\\; 0 \\le t \\le 1\\; , \n",
    "\\;\\;\\;\\;\\; y(0) = 1.0\n",
    "$$\n",
    "en el intervalo $0 \\le t \\le 1$ con un paso de integración $h=0.1$. \n",
    "\n",
    "Grafique tanto la solución obtenida y compare con la exacta: \n",
    "\n",
    "$$\n",
    "y_e(t)=\\Bigl(1+\\frac{2\\pi}{1+4\\pi^2}\\Bigr)e^{-t}+\\frac{\\sin(2\\pi t)-2\\pi\n",
    "    \\cos(2\\pi t)}{1+4\\pi^2},\n",
    "$$\n",
    "\n",
    "Grafique el error global, $\\epsilon(t) = |y(t)-y_e(t)|$"
   ]
  },
  {
   "cell_type": "code",
   "execution_count": null,
   "metadata": {},
   "outputs": [],
   "source": [
    "f(y,t,p) = -p[1]*y + sin(2π*t) + p[2]"
   ]
  },
  {
   "cell_type": "code",
   "execution_count": null,
   "metadata": {},
   "outputs": [],
   "source": [
    "t0 = 0\n",
    "w0 = 1\n",
    "h = 0.1\n",
    "p=[1,0]"
   ]
  },
  {
   "cell_type": "code",
   "execution_count": null,
   "metadata": {},
   "outputs": [],
   "source": [
    "t = t0\n",
    "w = w0\n",
    "i = 0\n",
    "@show i,t,w\n",
    "for i in 1:5\n",
    "    w += h*f(w,t,p)\n",
    "    t += h    \n",
    "    @show i,t,w\n",
    "end"
   ]
  },
  {
   "cell_type": "code",
   "execution_count": null,
   "metadata": {},
   "outputs": [],
   "source": [
    "function Euler(f,w,t,h,p)\n",
    "    return w + h*f(w,t,p)\n",
    "end"
   ]
  },
  {
   "cell_type": "code",
   "execution_count": null,
   "metadata": {},
   "outputs": [],
   "source": [
    "function ODEproblem(Method,f,w0,(a,b),N,p)\n",
    "    h = (b-a)/(N-1)\n",
    "    w = zeros(N)\n",
    "    t = zeros(N)\n",
    "    w[1] = w0\n",
    "    t[1] = a\n",
    "    for i in 2:N\n",
    "        t[i] = t[i-1] + h\n",
    "        w[i] = Method(f,w[i-1],t[i-1],h,p)\n",
    "    end\n",
    "    return (t[:],w[:])\n",
    "end"
   ]
  },
  {
   "cell_type": "code",
   "execution_count": null,
   "metadata": {},
   "outputs": [],
   "source": [
    "f(y,t,p) = -y + sin(2π*t)"
   ]
  },
  {
   "cell_type": "code",
   "execution_count": null,
   "metadata": {},
   "outputs": [],
   "source": [
    "y_e(t) = (1+2π/(1+4*π^2))*exp(-t) + (sin(2π*t) - 2π*cos(2π*t))/(1+4*π^2)"
   ]
  },
  {
   "cell_type": "code",
   "execution_count": null,
   "metadata": {},
   "outputs": [],
   "source": [
    "N=11\n",
    "w0 = 1.0\n",
    "intervalo = (0,1)\n",
    "t,w = ODEproblem(Euler,f,w0,intervalo,N,[])\n",
    "plot(intervalo[1]:0.01:intervalo[2],y_e,label=\"Exacta\")\n",
    "scatter!(t,w,label=\"Euler\",xlabel=L\"t\",ylabel=L\"y(t)\")"
   ]
  },
  {
   "cell_type": "code",
   "execution_count": null,
   "metadata": {},
   "outputs": [],
   "source": [
    "plot(xlabel=L\"t\",ylabel=\"|error|\",yscale=:log10)\n",
    "scatter!(t[2:end],abs.(w[2:end] - y_e.(t[2:end]))[2:end],label=\"Euler\")"
   ]
  },
  {
   "cell_type": "code",
   "execution_count": null,
   "metadata": {},
   "outputs": [],
   "source": []
  }
 ],
 "metadata": {
  "@webio": {
   "lastCommId": null,
   "lastKernelId": null
  },
  "kernelspec": {
   "display_name": "Julia 1.7.2",
   "language": "julia",
   "name": "julia-1.7"
  },
  "language_info": {
   "file_extension": ".jl",
   "mimetype": "application/julia",
   "name": "julia",
   "version": "1.7.2"
  }
 },
 "nbformat": 4,
 "nbformat_minor": 4
}
