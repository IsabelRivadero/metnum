{
 "cells": [
  {
   "cell_type": "markdown",
   "metadata": {},
   "source": [
    "# Métodos Numéricos \n",
    "\n",
    "## Guía 2: Solución de ecuaciones de una variable (Abril 2022)"
   ]
  },
  {
   "cell_type": "code",
   "execution_count": 5,
   "metadata": {},
   "outputs": [
    {
     "name": "stderr",
     "output_type": "stream",
     "text": [
      "\u001b[32m\u001b[1m    Updating\u001b[22m\u001b[39m registry at `~/.julia/registries/General.toml`\n",
      "\u001b[32m\u001b[1m   Resolving\u001b[22m\u001b[39m package versions...\n",
      "\u001b[32m\u001b[1m  No Changes\u001b[22m\u001b[39m to `~/.julia/environments/v1.7/Project.toml`\n",
      "\u001b[32m\u001b[1m  No Changes\u001b[22m\u001b[39m to `~/.julia/environments/v1.7/Manifest.toml`\n"
     ]
    }
   ],
   "source": [
    "using Pkg\n",
    "Pkg.add(\"Plots\")"
   ]
  },
  {
   "cell_type": "code",
   "execution_count": 6,
   "metadata": {},
   "outputs": [
    {
     "name": "stderr",
     "output_type": "stream",
     "text": [
      "\u001b[32m\u001b[1m   Resolving\u001b[22m\u001b[39m package versions...\n",
      "\u001b[32m\u001b[1m  No Changes\u001b[22m\u001b[39m to `~/.julia/environments/v1.7/Project.toml`\n",
      "\u001b[32m\u001b[1m  No Changes\u001b[22m\u001b[39m to `~/.julia/environments/v1.7/Manifest.toml`\n"
     ]
    }
   ],
   "source": [
    "Pkg.add(\"DataFrames\")"
   ]
  },
  {
   "cell_type": "code",
   "execution_count": 7,
   "metadata": {},
   "outputs": [
    {
     "name": "stderr",
     "output_type": "stream",
     "text": [
      "\u001b[32m\u001b[1m   Resolving\u001b[22m\u001b[39m package versions...\n",
      "\u001b[32m\u001b[1m  No Changes\u001b[22m\u001b[39m to `~/.julia/environments/v1.7/Project.toml`\n",
      "\u001b[32m\u001b[1m  No Changes\u001b[22m\u001b[39m to `~/.julia/environments/v1.7/Manifest.toml`\n"
     ]
    }
   ],
   "source": [
    "Pkg.add(\"LaTeXStrings\")"
   ]
  },
  {
   "cell_type": "code",
   "execution_count": 2,
   "metadata": {},
   "outputs": [],
   "source": [
    "using Plots\n",
    "using LaTeXStrings\n",
    "using DataFrames # Recuerde instalar este paquete ingresando en una celda: using Pkg; Pkg.add(\"DataFrames\")"
   ]
  },
  {
   "cell_type": "markdown",
   "metadata": {},
   "source": [
    "# Problema 1.A\n",
    "\n",
    "Desarrolle un programa para encontrar la raíz de una función $f$ utilizando el método de la **bisección**.\n",
    "El programa debe tomar como datos de entrada:\n",
    "\n",
    "* la función $f:\\mathbb{R}\\to \\mathbb{R}$, \n",
    "\n",
    "* el intervalo inicial $[a,b]$, \n",
    "\n",
    "* la máxima tolerancia permitida $\\varepsilon_x$ del error relativo a la aproximación de la única raíz $x$ en $[a,b]$,\n",
    "\n",
    "* la máxima tolerancia permitida $\\varepsilon_f$ al valor de $|f(p)|$ para la presupuesta mejor aproximación $p$ que el algoritmo genere,\n",
    "\n",
    "* y el número máximo $n_{\\max}$ de iteraciones permitidas.\n",
    "\n",
    "En cada iteración, el programa debe imprimir la siguiente información:\n",
    "\n",
    "* un booleano indicando si el algoritmo convergió o no dentro de las tolerancias máximas permitidas,\n",
    "\n",
    "* el número de iteración $i$,\n",
    "\n",
    "* la correspondiente aproximación de la raíz $p_i$,\n",
    "\n",
    "* el valor $f_i:=f(p_i)$,\n",
    "\n",
    "* las cota $c_i:=|b_i-a_i|/2$ del correspondiente error absoluto $|x-p_i|$,\n",
    "\n",
    "* y la estimación $r_i:=c_i/|p_{i}|$ del correspondiente error relativo $|x-p_i|/|x|$.\n",
    "\n",
    "El programa debe deternerse si se cumple:\n",
    "\n",
    "$$\n",
    "(r_i<\\varepsilon_x \\;\\; \\text{AND} \\;\\; |f_i|<\\varepsilon_f) \\;\\; \\text{OR} \\;\\; n=n_{\\max}\n",
    "$$\n",
    "\n",
    "Tambien debe trabajar con números de precisión suficientemente alta como para obtener resultados con 12 cifras significativas en los reales (ej. `Float64`)."
   ]
  },
  {
   "cell_type": "code",
   "execution_count": 3,
   "metadata": {},
   "outputs": [
    {
     "data": {
      "text/plain": [
       "biseccion (generic function with 1 method)"
      ]
     },
     "execution_count": 3,
     "metadata": {},
     "output_type": "execute_result"
    }
   ],
   "source": [
    "function biseccion(f,intervalo;tol_x=1e-5,tol_f=1e-5,nmax=100)       ### ; variables opcionales del punto y coma para la derecha \n",
    "    a,b = intervalo                  ### T Una tupla es una secuencia de valores, pueden ser de cualquier tipo y están indexados por enteros. Las tuplas son inmutables y que cada elemento puede tener su propio tipo. Una tupla es una lista de valores separados por comas\n",
    "        if b<a\n",
    "           a,b=b,a     ### El lado izquierdo es una tupla de variables y el lado derecho es una tupla de expresiones. Cada valor se asigna a su respectiva variable. Todas las expresiones del lado derecho se evalúan antes de las asignaciones.\n",
    "        end\n",
    "    fa = f(a)                    ### Para que quede guardado el valor de f(a) y no calcular de nuevo\n",
    "    @assert fa*f(b)<0.       ### Usar una macro @assert, que verifica un invariante dado y genera una excepción si falla\n",
    "    println(\"i p    f    c   r\")\n",
    "    for i in 1:nmax\n",
    "        p = a + 0.5*(b-a)\n",
    "        fp = f(p)\n",
    "        c = 0.5*(b-a)      ### cota error absoluto\n",
    "        r = abs(c/p)       ### cota error relativo\n",
    "        println(\"$i $p $fp $c $r\")\n",
    "        if  r<tol_x && abs(fp)<tol_f \n",
    "         return\n",
    "        end\n",
    "        if fa*fp<0.  b = p\n",
    "            else \n",
    "                a = p\n",
    "                fa = fp\n",
    "            end\n",
    "        end\n",
    "    end"
   ]
  },
  {
   "cell_type": "markdown",
   "metadata": {},
   "source": [
    "### Problema 1.B\n",
    "\n",
    "1. Encontrar una aproximación a $\\sqrt{3}$ con un error (relativo en $x$ y absoluto en $y$) menor a $10^{-5}$. Para ello, \n",
    "\n",
    "    a. Note que $\\sqrt{3}$ es la raíz positiva de la ecuación $f(x)=x^2-3$.\n",
    "\n",
    "    b. Grafique $f(x)$ vs $x$ en el intervalo para determinar que tiene una raíz $x\\in [1,2]$.\n",
    "    \n",
    "    d. Utilice el programa desarrollado en **1.A** y responda: Cuanto vale la presunta mejor aproximación $p_n$? Cuántas iteraciones fueron necesarias?\n",
    "    \n",
    "    e. Calcule los valores exactos del error absolutos y del error relativo comparando el resultado $p_n$ con el \"analítico\".\n",
    "\n",
    "2. Encontrar la menor solución positiva de la ecuación $f(x)=\\tan(x)-2x$ con un error (relativo en $x$ y absoluto en $y$) menor a $10^{-5}$. Para ello, repita lo realizado en el inciso 1. (con excepción del inciso e., ya que no podemos calcular el valor analítico) considerando el intérvalo $x\\in [0.8,1.4]$."
   ]
  },
  {
   "cell_type": "code",
   "execution_count": 645,
   "metadata": {},
   "outputs": [
    {
     "data": {
      "text/plain": [
       "f (generic function with 1 method)"
      ]
     },
     "execution_count": 645,
     "metadata": {},
     "output_type": "execute_result"
    }
   ],
   "source": [
    "f(x)=x^2-3"
   ]
  },
  {
   "cell_type": "code",
   "execution_count": 646,
   "metadata": {},
   "outputs": [
    {
     "data": {
      "image/svg+xml": [
       "<?xml version=\"1.0\" encoding=\"utf-8\"?>\n",
       "<svg xmlns=\"http://www.w3.org/2000/svg\" xmlns:xlink=\"http://www.w3.org/1999/xlink\" width=\"600\" height=\"400\" viewBox=\"0 0 2400 1600\">\n",
       "<defs>\n",
       "  <clipPath id=\"clip190\">\n",
       "    <rect x=\"0\" y=\"0\" width=\"2400\" height=\"1600\"/>\n",
       "  </clipPath>\n",
       "</defs>\n",
       "<path clip-path=\"url(#clip190)\" d=\"\n",
       "M0 1600 L2400 1600 L2400 0 L0 0  Z\n",
       "  \" fill=\"#ffffff\" fill-rule=\"evenodd\" fill-opacity=\"1\"/>\n",
       "<defs>\n",
       "  <clipPath id=\"clip191\">\n",
       "    <rect x=\"480\" y=\"0\" width=\"1681\" height=\"1600\"/>\n",
       "  </clipPath>\n",
       "</defs>\n",
       "<path clip-path=\"url(#clip190)\" d=\"\n",
       "M210.746 1423.18 L2352.76 1423.18 L2352.76 47.2441 L210.746 47.2441  Z\n",
       "  \" fill=\"#ffffff\" fill-rule=\"evenodd\" fill-opacity=\"1\"/>\n",
       "<defs>\n",
       "  <clipPath id=\"clip192\">\n",
       "    <rect x=\"210\" y=\"47\" width=\"2143\" height=\"1377\"/>\n",
       "  </clipPath>\n",
       "</defs>\n",
       "<polyline clip-path=\"url(#clip192)\" style=\"stroke:#000000; stroke-linecap:butt; stroke-linejoin:round; stroke-width:2; stroke-opacity:0.1; fill:none\" points=\"\n",
       "  271.369,1423.18 271.369,47.2441 \n",
       "  \"/>\n",
       "<polyline clip-path=\"url(#clip192)\" style=\"stroke:#000000; stroke-linecap:butt; stroke-linejoin:round; stroke-width:2; stroke-opacity:0.1; fill:none\" points=\"\n",
       "  776.56,1423.18 776.56,47.2441 \n",
       "  \"/>\n",
       "<polyline clip-path=\"url(#clip192)\" style=\"stroke:#000000; stroke-linecap:butt; stroke-linejoin:round; stroke-width:2; stroke-opacity:0.1; fill:none\" points=\"\n",
       "  1281.75,1423.18 1281.75,47.2441 \n",
       "  \"/>\n",
       "<polyline clip-path=\"url(#clip192)\" style=\"stroke:#000000; stroke-linecap:butt; stroke-linejoin:round; stroke-width:2; stroke-opacity:0.1; fill:none\" points=\"\n",
       "  1786.94,1423.18 1786.94,47.2441 \n",
       "  \"/>\n",
       "<polyline clip-path=\"url(#clip192)\" style=\"stroke:#000000; stroke-linecap:butt; stroke-linejoin:round; stroke-width:2; stroke-opacity:0.1; fill:none\" points=\"\n",
       "  2292.13,1423.18 2292.13,47.2441 \n",
       "  \"/>\n",
       "<polyline clip-path=\"url(#clip190)\" style=\"stroke:#000000; stroke-linecap:butt; stroke-linejoin:round; stroke-width:4; stroke-opacity:1; fill:none\" points=\"\n",
       "  210.746,1423.18 2352.76,1423.18 \n",
       "  \"/>\n",
       "<polyline clip-path=\"url(#clip190)\" style=\"stroke:#000000; stroke-linecap:butt; stroke-linejoin:round; stroke-width:4; stroke-opacity:1; fill:none\" points=\"\n",
       "  271.369,1423.18 271.369,1404.28 \n",
       "  \"/>\n",
       "<polyline clip-path=\"url(#clip190)\" style=\"stroke:#000000; stroke-linecap:butt; stroke-linejoin:round; stroke-width:4; stroke-opacity:1; fill:none\" points=\"\n",
       "  776.56,1423.18 776.56,1404.28 \n",
       "  \"/>\n",
       "<polyline clip-path=\"url(#clip190)\" style=\"stroke:#000000; stroke-linecap:butt; stroke-linejoin:round; stroke-width:4; stroke-opacity:1; fill:none\" points=\"\n",
       "  1281.75,1423.18 1281.75,1404.28 \n",
       "  \"/>\n",
       "<polyline clip-path=\"url(#clip190)\" style=\"stroke:#000000; stroke-linecap:butt; stroke-linejoin:round; stroke-width:4; stroke-opacity:1; fill:none\" points=\"\n",
       "  1786.94,1423.18 1786.94,1404.28 \n",
       "  \"/>\n",
       "<polyline clip-path=\"url(#clip190)\" style=\"stroke:#000000; stroke-linecap:butt; stroke-linejoin:round; stroke-width:4; stroke-opacity:1; fill:none\" points=\"\n",
       "  2292.13,1423.18 2292.13,1404.28 \n",
       "  \"/>\n",
       "<path clip-path=\"url(#clip190)\" d=\"M223.441 1481.64 L231.08 1481.64 L231.08 1455.28 L222.77 1456.95 L222.77 1452.69 L231.033 1451.02 L235.709 1451.02 L235.709 1481.64 L243.348 1481.64 L243.348 1485.58 L223.441 1485.58 L223.441 1481.64 Z\" fill=\"#000000\" fill-rule=\"evenodd\" fill-opacity=\"1\" /><path clip-path=\"url(#clip190)\" d=\"M252.793 1479.7 L257.677 1479.7 L257.677 1485.58 L252.793 1485.58 L252.793 1479.7 Z\" fill=\"#000000\" fill-rule=\"evenodd\" fill-opacity=\"1\" /><path clip-path=\"url(#clip190)\" d=\"M277.862 1454.1 Q274.251 1454.1 272.422 1457.66 Q270.617 1461.2 270.617 1468.33 Q270.617 1475.44 272.422 1479.01 Q274.251 1482.55 277.862 1482.55 Q281.496 1482.55 283.302 1479.01 Q285.13 1475.44 285.13 1468.33 Q285.13 1461.2 283.302 1457.66 Q281.496 1454.1 277.862 1454.1 M277.862 1450.39 Q283.672 1450.39 286.728 1455 Q289.806 1459.58 289.806 1468.33 Q289.806 1477.06 286.728 1481.67 Q283.672 1486.25 277.862 1486.25 Q272.052 1486.25 268.973 1481.67 Q265.918 1477.06 265.918 1468.33 Q265.918 1459.58 268.973 1455 Q272.052 1450.39 277.862 1450.39 Z\" fill=\"#000000\" fill-rule=\"evenodd\" fill-opacity=\"1\" /><path clip-path=\"url(#clip190)\" d=\"M308.024 1454.1 Q304.413 1454.1 302.584 1457.66 Q300.778 1461.2 300.778 1468.33 Q300.778 1475.44 302.584 1479.01 Q304.413 1482.55 308.024 1482.55 Q311.658 1482.55 313.464 1479.01 Q315.292 1475.44 315.292 1468.33 Q315.292 1461.2 313.464 1457.66 Q311.658 1454.1 308.024 1454.1 M308.024 1450.39 Q313.834 1450.39 316.889 1455 Q319.968 1459.58 319.968 1468.33 Q319.968 1477.06 316.889 1481.67 Q313.834 1486.25 308.024 1486.25 Q302.214 1486.25 299.135 1481.67 Q296.079 1477.06 296.079 1468.33 Q296.079 1459.58 299.135 1455 Q302.214 1450.39 308.024 1450.39 Z\" fill=\"#000000\" fill-rule=\"evenodd\" fill-opacity=\"1\" /><path clip-path=\"url(#clip190)\" d=\"M729.13 1481.64 L736.768 1481.64 L736.768 1455.28 L728.458 1456.95 L728.458 1452.69 L736.722 1451.02 L741.398 1451.02 L741.398 1481.64 L749.037 1481.64 L749.037 1485.58 L729.13 1485.58 L729.13 1481.64 Z\" fill=\"#000000\" fill-rule=\"evenodd\" fill-opacity=\"1\" /><path clip-path=\"url(#clip190)\" d=\"M758.481 1479.7 L763.366 1479.7 L763.366 1485.58 L758.481 1485.58 L758.481 1479.7 Z\" fill=\"#000000\" fill-rule=\"evenodd\" fill-opacity=\"1\" /><path clip-path=\"url(#clip190)\" d=\"M777.578 1481.64 L793.898 1481.64 L793.898 1485.58 L771.953 1485.58 L771.953 1481.64 Q774.615 1478.89 779.199 1474.26 Q783.805 1469.61 784.986 1468.27 Q787.231 1465.74 788.111 1464.01 Q789.014 1462.25 789.014 1460.56 Q789.014 1457.8 787.069 1456.07 Q785.148 1454.33 782.046 1454.33 Q779.847 1454.33 777.393 1455.09 Q774.963 1455.86 772.185 1457.41 L772.185 1452.69 Q775.009 1451.55 777.463 1450.97 Q779.916 1450.39 781.953 1450.39 Q787.324 1450.39 790.518 1453.08 Q793.713 1455.77 793.713 1460.26 Q793.713 1462.39 792.902 1464.31 Q792.115 1466.2 790.009 1468.8 Q789.43 1469.47 786.328 1472.69 Q783.227 1475.88 777.578 1481.64 Z\" fill=\"#000000\" fill-rule=\"evenodd\" fill-opacity=\"1\" /><path clip-path=\"url(#clip190)\" d=\"M803.759 1451.02 L822.115 1451.02 L822.115 1454.96 L808.041 1454.96 L808.041 1463.43 Q809.06 1463.08 810.078 1462.92 Q811.097 1462.73 812.115 1462.73 Q817.902 1462.73 821.282 1465.9 Q824.661 1469.08 824.661 1474.49 Q824.661 1480.07 821.189 1483.17 Q817.717 1486.25 811.398 1486.25 Q809.222 1486.25 806.953 1485.88 Q804.708 1485.51 802.3 1484.77 L802.3 1480.07 Q804.384 1481.2 806.606 1481.76 Q808.828 1482.32 811.305 1482.32 Q815.31 1482.32 817.648 1480.21 Q819.986 1478.1 819.986 1474.49 Q819.986 1470.88 817.648 1468.77 Q815.31 1466.67 811.305 1466.67 Q809.43 1466.67 807.555 1467.08 Q805.703 1467.5 803.759 1468.38 L803.759 1451.02 Z\" fill=\"#000000\" fill-rule=\"evenodd\" fill-opacity=\"1\" /><path clip-path=\"url(#clip190)\" d=\"M1233.82 1481.64 L1241.46 1481.64 L1241.46 1455.28 L1233.15 1456.95 L1233.15 1452.69 L1241.42 1451.02 L1246.09 1451.02 L1246.09 1481.64 L1253.73 1481.64 L1253.73 1485.58 L1233.82 1485.58 L1233.82 1481.64 Z\" fill=\"#000000\" fill-rule=\"evenodd\" fill-opacity=\"1\" /><path clip-path=\"url(#clip190)\" d=\"M1263.17 1479.7 L1268.06 1479.7 L1268.06 1485.58 L1263.17 1485.58 L1263.17 1479.7 Z\" fill=\"#000000\" fill-rule=\"evenodd\" fill-opacity=\"1\" /><path clip-path=\"url(#clip190)\" d=\"M1278.29 1451.02 L1296.65 1451.02 L1296.65 1454.96 L1282.57 1454.96 L1282.57 1463.43 Q1283.59 1463.08 1284.61 1462.92 Q1285.63 1462.73 1286.65 1462.73 Q1292.43 1462.73 1295.81 1465.9 Q1299.19 1469.08 1299.19 1474.49 Q1299.19 1480.07 1295.72 1483.17 Q1292.25 1486.25 1285.93 1486.25 Q1283.75 1486.25 1281.48 1485.88 Q1279.24 1485.51 1276.83 1484.77 L1276.83 1480.07 Q1278.92 1481.2 1281.14 1481.76 Q1283.36 1482.32 1285.84 1482.32 Q1289.84 1482.32 1292.18 1480.21 Q1294.52 1478.1 1294.52 1474.49 Q1294.52 1470.88 1292.18 1468.77 Q1289.84 1466.67 1285.84 1466.67 Q1283.96 1466.67 1282.09 1467.08 Q1280.23 1467.5 1278.29 1468.38 L1278.29 1451.02 Z\" fill=\"#000000\" fill-rule=\"evenodd\" fill-opacity=\"1\" /><path clip-path=\"url(#clip190)\" d=\"M1318.41 1454.1 Q1314.79 1454.1 1312.97 1457.66 Q1311.16 1461.2 1311.16 1468.33 Q1311.16 1475.44 1312.97 1479.01 Q1314.79 1482.55 1318.41 1482.55 Q1322.04 1482.55 1323.85 1479.01 Q1325.67 1475.44 1325.67 1468.33 Q1325.67 1461.2 1323.85 1457.66 Q1322.04 1454.1 1318.41 1454.1 M1318.41 1450.39 Q1324.22 1450.39 1327.27 1455 Q1330.35 1459.58 1330.35 1468.33 Q1330.35 1477.06 1327.27 1481.67 Q1324.22 1486.25 1318.41 1486.25 Q1312.6 1486.25 1309.52 1481.67 Q1306.46 1477.06 1306.46 1468.33 Q1306.46 1459.58 1309.52 1455 Q1312.6 1450.39 1318.41 1450.39 Z\" fill=\"#000000\" fill-rule=\"evenodd\" fill-opacity=\"1\" /><path clip-path=\"url(#clip190)\" d=\"M1739.51 1481.64 L1747.15 1481.64 L1747.15 1455.28 L1738.84 1456.95 L1738.84 1452.69 L1747.1 1451.02 L1751.78 1451.02 L1751.78 1481.64 L1759.42 1481.64 L1759.42 1485.58 L1739.51 1485.58 L1739.51 1481.64 Z\" fill=\"#000000\" fill-rule=\"evenodd\" fill-opacity=\"1\" /><path clip-path=\"url(#clip190)\" d=\"M1768.86 1479.7 L1773.75 1479.7 L1773.75 1485.58 L1768.86 1485.58 L1768.86 1479.7 Z\" fill=\"#000000\" fill-rule=\"evenodd\" fill-opacity=\"1\" /><path clip-path=\"url(#clip190)\" d=\"M1782.75 1451.02 L1804.97 1451.02 L1804.97 1453.01 L1792.43 1485.58 L1787.54 1485.58 L1799.35 1454.96 L1782.75 1454.96 L1782.75 1451.02 Z\" fill=\"#000000\" fill-rule=\"evenodd\" fill-opacity=\"1\" /><path clip-path=\"url(#clip190)\" d=\"M1814.14 1451.02 L1832.5 1451.02 L1832.5 1454.96 L1818.42 1454.96 L1818.42 1463.43 Q1819.44 1463.08 1820.46 1462.92 Q1821.48 1462.73 1822.5 1462.73 Q1828.28 1462.73 1831.66 1465.9 Q1835.04 1469.08 1835.04 1474.49 Q1835.04 1480.07 1831.57 1483.17 Q1828.1 1486.25 1821.78 1486.25 Q1819.6 1486.25 1817.34 1485.88 Q1815.09 1485.51 1812.68 1484.77 L1812.68 1480.07 Q1814.77 1481.2 1816.99 1481.76 Q1819.21 1482.32 1821.69 1482.32 Q1825.69 1482.32 1828.03 1480.21 Q1830.37 1478.1 1830.37 1474.49 Q1830.37 1470.88 1828.03 1468.77 Q1825.69 1466.67 1821.69 1466.67 Q1819.81 1466.67 1817.94 1467.08 Q1816.09 1467.5 1814.14 1468.38 L1814.14 1451.02 Z\" fill=\"#000000\" fill-rule=\"evenodd\" fill-opacity=\"1\" /><path clip-path=\"url(#clip190)\" d=\"M2248.29 1481.64 L2264.61 1481.64 L2264.61 1485.58 L2242.67 1485.58 L2242.67 1481.64 Q2245.33 1478.89 2249.91 1474.26 Q2254.52 1469.61 2255.7 1468.27 Q2257.94 1465.74 2258.82 1464.01 Q2259.73 1462.25 2259.73 1460.56 Q2259.73 1457.8 2257.78 1456.07 Q2255.86 1454.33 2252.76 1454.33 Q2250.56 1454.33 2248.11 1455.09 Q2245.67 1455.86 2242.9 1457.41 L2242.9 1452.69 Q2245.72 1451.55 2248.17 1450.97 Q2250.63 1450.39 2252.67 1450.39 Q2258.04 1450.39 2261.23 1453.08 Q2264.42 1455.77 2264.42 1460.26 Q2264.42 1462.39 2263.61 1464.31 Q2262.83 1466.2 2260.72 1468.8 Q2260.14 1469.47 2257.04 1472.69 Q2253.94 1475.88 2248.29 1481.64 Z\" fill=\"#000000\" fill-rule=\"evenodd\" fill-opacity=\"1\" /><path clip-path=\"url(#clip190)\" d=\"M2274.42 1479.7 L2279.31 1479.7 L2279.31 1485.58 L2274.42 1485.58 L2274.42 1479.7 Z\" fill=\"#000000\" fill-rule=\"evenodd\" fill-opacity=\"1\" /><path clip-path=\"url(#clip190)\" d=\"M2299.49 1454.1 Q2295.88 1454.1 2294.05 1457.66 Q2292.25 1461.2 2292.25 1468.33 Q2292.25 1475.44 2294.05 1479.01 Q2295.88 1482.55 2299.49 1482.55 Q2303.13 1482.55 2304.93 1479.01 Q2306.76 1475.44 2306.76 1468.33 Q2306.76 1461.2 2304.93 1457.66 Q2303.13 1454.1 2299.49 1454.1 M2299.49 1450.39 Q2305.3 1450.39 2308.36 1455 Q2311.44 1459.58 2311.44 1468.33 Q2311.44 1477.06 2308.36 1481.67 Q2305.3 1486.25 2299.49 1486.25 Q2293.68 1486.25 2290.61 1481.67 Q2287.55 1477.06 2287.55 1468.33 Q2287.55 1459.58 2290.61 1455 Q2293.68 1450.39 2299.49 1450.39 Z\" fill=\"#000000\" fill-rule=\"evenodd\" fill-opacity=\"1\" /><path clip-path=\"url(#clip190)\" d=\"M2329.66 1454.1 Q2326.04 1454.1 2324.22 1457.66 Q2322.41 1461.2 2322.41 1468.33 Q2322.41 1475.44 2324.22 1479.01 Q2326.04 1482.55 2329.66 1482.55 Q2333.29 1482.55 2335.1 1479.01 Q2336.92 1475.44 2336.92 1468.33 Q2336.92 1461.2 2335.1 1457.66 Q2333.29 1454.1 2329.66 1454.1 M2329.66 1450.39 Q2335.47 1450.39 2338.52 1455 Q2341.6 1459.58 2341.6 1468.33 Q2341.6 1477.06 2338.52 1481.67 Q2335.47 1486.25 2329.66 1486.25 Q2323.85 1486.25 2320.77 1481.67 Q2317.71 1477.06 2317.71 1468.33 Q2317.71 1459.58 2320.77 1455 Q2323.85 1450.39 2329.66 1450.39 Z\" fill=\"#000000\" fill-rule=\"evenodd\" fill-opacity=\"1\" /><path clip-path=\"url(#clip190)\" d=\"M1298.37 1532.4 L1285.47 1549.74 L1299.03 1568.04 L1292.13 1568.04 L1281.75 1554.04 L1271.37 1568.04 L1264.47 1568.04 L1278.31 1549.39 L1265.65 1532.4 L1272.55 1532.4 L1282.01 1545.1 L1291.46 1532.4 L1298.37 1532.4 Z\" fill=\"#000000\" fill-rule=\"evenodd\" fill-opacity=\"1\" /><polyline clip-path=\"url(#clip192)\" style=\"stroke:#000000; stroke-linecap:butt; stroke-linejoin:round; stroke-width:2; stroke-opacity:0.1; fill:none\" points=\"\n",
       "  210.746,1384.24 2352.76,1384.24 \n",
       "  \"/>\n",
       "<polyline clip-path=\"url(#clip192)\" style=\"stroke:#000000; stroke-linecap:butt; stroke-linejoin:round; stroke-width:2; stroke-opacity:0.1; fill:none\" points=\"\n",
       "  210.746,951.554 2352.76,951.554 \n",
       "  \"/>\n",
       "<polyline clip-path=\"url(#clip192)\" style=\"stroke:#000000; stroke-linecap:butt; stroke-linejoin:round; stroke-width:2; stroke-opacity:0.1; fill:none\" points=\"\n",
       "  210.746,518.87 2352.76,518.87 \n",
       "  \"/>\n",
       "<polyline clip-path=\"url(#clip192)\" style=\"stroke:#000000; stroke-linecap:butt; stroke-linejoin:round; stroke-width:2; stroke-opacity:0.1; fill:none\" points=\"\n",
       "  210.746,86.1857 2352.76,86.1857 \n",
       "  \"/>\n",
       "<polyline clip-path=\"url(#clip190)\" style=\"stroke:#000000; stroke-linecap:butt; stroke-linejoin:round; stroke-width:4; stroke-opacity:1; fill:none\" points=\"\n",
       "  210.746,1423.18 210.746,47.2441 \n",
       "  \"/>\n",
       "<polyline clip-path=\"url(#clip190)\" style=\"stroke:#000000; stroke-linecap:butt; stroke-linejoin:round; stroke-width:4; stroke-opacity:1; fill:none\" points=\"\n",
       "  210.746,1384.24 229.644,1384.24 \n",
       "  \"/>\n",
       "<polyline clip-path=\"url(#clip190)\" style=\"stroke:#000000; stroke-linecap:butt; stroke-linejoin:round; stroke-width:4; stroke-opacity:1; fill:none\" points=\"\n",
       "  210.746,951.554 229.644,951.554 \n",
       "  \"/>\n",
       "<polyline clip-path=\"url(#clip190)\" style=\"stroke:#000000; stroke-linecap:butt; stroke-linejoin:round; stroke-width:4; stroke-opacity:1; fill:none\" points=\"\n",
       "  210.746,518.87 229.644,518.87 \n",
       "  \"/>\n",
       "<polyline clip-path=\"url(#clip190)\" style=\"stroke:#000000; stroke-linecap:butt; stroke-linejoin:round; stroke-width:4; stroke-opacity:1; fill:none\" points=\"\n",
       "  210.746,86.1857 229.644,86.1857 \n",
       "  \"/>\n",
       "<path clip-path=\"url(#clip190)\" d=\"M114.631 1384.69 L144.306 1384.69 L144.306 1388.62 L114.631 1388.62 L114.631 1384.69 Z\" fill=\"#000000\" fill-rule=\"evenodd\" fill-opacity=\"1\" /><path clip-path=\"url(#clip190)\" d=\"M158.427 1397.58 L174.746 1397.58 L174.746 1401.52 L152.802 1401.52 L152.802 1397.58 Q155.464 1394.83 160.047 1390.2 Q164.653 1385.55 165.834 1384.2 Q168.079 1381.68 168.959 1379.94 Q169.862 1378.19 169.862 1376.5 Q169.862 1373.74 167.917 1372 Q165.996 1370.27 162.894 1370.27 Q160.695 1370.27 158.241 1371.03 Q155.811 1371.8 153.033 1373.35 L153.033 1368.62 Q155.857 1367.49 158.311 1366.91 Q160.765 1366.33 162.802 1366.33 Q168.172 1366.33 171.366 1369.02 Q174.561 1371.7 174.561 1376.19 Q174.561 1378.32 173.751 1380.25 Q172.964 1382.14 170.857 1384.74 Q170.278 1385.41 167.177 1388.62 Q164.075 1391.82 158.427 1397.58 Z\" fill=\"#000000\" fill-rule=\"evenodd\" fill-opacity=\"1\" /><path clip-path=\"url(#clip190)\" d=\"M114.26 952.005 L143.936 952.005 L143.936 955.941 L114.26 955.941 L114.26 952.005 Z\" fill=\"#000000\" fill-rule=\"evenodd\" fill-opacity=\"1\" /><path clip-path=\"url(#clip190)\" d=\"M154.839 964.899 L162.477 964.899 L162.477 938.533 L154.167 940.2 L154.167 935.941 L162.431 934.274 L167.107 934.274 L167.107 964.899 L174.746 964.899 L174.746 968.834 L154.839 968.834 L154.839 964.899 Z\" fill=\"#000000\" fill-rule=\"evenodd\" fill-opacity=\"1\" /><path clip-path=\"url(#clip190)\" d=\"M162.802 504.669 Q159.19 504.669 157.362 508.233 Q155.556 511.775 155.556 518.905 Q155.556 526.011 157.362 529.576 Q159.19 533.117 162.802 533.117 Q166.436 533.117 168.241 529.576 Q170.07 526.011 170.07 518.905 Q170.07 511.775 168.241 508.233 Q166.436 504.669 162.802 504.669 M162.802 500.965 Q168.612 500.965 171.667 505.571 Q174.746 510.155 174.746 518.905 Q174.746 527.631 171.667 532.238 Q168.612 536.821 162.802 536.821 Q156.991 536.821 153.913 532.238 Q150.857 527.631 150.857 518.905 Q150.857 510.155 153.913 505.571 Q156.991 500.965 162.802 500.965 Z\" fill=\"#000000\" fill-rule=\"evenodd\" fill-opacity=\"1\" /><path clip-path=\"url(#clip190)\" d=\"M154.839 99.5305 L162.477 99.5305 L162.477 73.1649 L154.167 74.8316 L154.167 70.5723 L162.431 68.9057 L167.107 68.9057 L167.107 99.5305 L174.746 99.5305 L174.746 103.466 L154.839 103.466 L154.839 99.5305 Z\" fill=\"#000000\" fill-rule=\"evenodd\" fill-opacity=\"1\" /><path clip-path=\"url(#clip190)\" d=\"M14.479 765.163 L19.3487 765.163 L19.3487 770.764 Q19.3487 773.915 20.6219 775.157 Q21.895 776.366 25.2052 776.366 L28.3562 776.366 L28.3562 766.722 L32.9077 766.722 L32.9077 776.366 L64.0042 776.366 L64.0042 782.255 L32.9077 782.255 L32.9077 787.856 L28.3562 787.856 L28.3562 782.255 L25.8736 782.255 Q19.9216 782.255 17.2162 779.485 Q14.479 776.716 14.479 770.701 L14.479 765.163 Z\" fill=\"#000000\" fill-rule=\"evenodd\" fill-opacity=\"1\" /><path clip-path=\"url(#clip190)\" d=\"M14.5426 746.193 Q21.8632 750.458 29.0246 752.527 Q36.186 754.596 43.5384 754.596 Q50.8908 754.596 58.1159 752.527 Q65.3091 750.426 72.5979 746.193 L72.5979 751.285 Q65.1182 756.06 57.8931 758.447 Q50.668 760.802 43.5384 760.802 Q36.4406 760.802 29.2474 758.447 Q22.0542 756.091 14.5426 751.285 L14.5426 746.193 Z\" fill=\"#000000\" fill-rule=\"evenodd\" fill-opacity=\"1\" /><path clip-path=\"url(#clip190)\" d=\"M28.3562 705.198 L45.7028 718.088 L64.0042 704.529 L64.0042 711.436 L49.9996 721.812 L64.0042 732.188 L64.0042 739.095 L45.3526 725.25 L28.3562 737.917 L28.3562 731.011 L41.0558 721.558 L28.3562 712.104 L28.3562 705.198 Z\" fill=\"#000000\" fill-rule=\"evenodd\" fill-opacity=\"1\" /><path clip-path=\"url(#clip190)\" d=\"M14.5426 697.177 L14.5426 692.084 Q22.0542 687.31 29.2474 684.955 Q36.4406 682.568 43.5384 682.568 Q50.668 682.568 57.8931 684.955 Q65.1182 687.31 72.5979 692.084 L72.5979 697.177 Q65.3091 692.944 58.1159 690.875 Q50.8908 688.774 43.5384 688.774 Q36.186 688.774 29.0246 690.875 Q21.8632 692.944 14.5426 697.177 Z\" fill=\"#000000\" fill-rule=\"evenodd\" fill-opacity=\"1\" /><polyline clip-path=\"url(#clip192)\" style=\"stroke:#009af9; stroke-linecap:butt; stroke-linejoin:round; stroke-width:4; stroke-opacity:1; fill:none\" points=\"\n",
       "  271.369,1384.24 291.577,1375.54 311.784,1366.76 331.992,1357.89 352.199,1348.93 372.407,1339.89 392.615,1330.76 412.822,1321.54 433.03,1312.24 453.238,1302.85 \n",
       "  473.445,1293.37 493.653,1283.81 513.861,1274.16 534.068,1264.43 554.276,1254.61 574.483,1244.7 594.691,1234.7 614.899,1224.62 635.106,1214.45 655.314,1204.2 \n",
       "  675.522,1193.86 695.729,1183.43 715.937,1172.92 736.145,1162.31 756.352,1151.63 776.56,1140.85 796.768,1129.99 816.975,1119.05 837.183,1108.01 857.39,1096.89 \n",
       "  877.598,1085.69 897.806,1074.39 918.013,1063.01 938.221,1051.55 958.429,1039.99 978.636,1028.36 998.844,1016.63 1019.05,1004.82 1039.26,992.919 1059.47,980.933 \n",
       "  1079.67,968.861 1099.88,956.703 1120.09,944.458 1140.3,932.127 1160.51,919.709 1180.71,907.204 1200.92,894.613 1221.13,881.935 1241.34,869.171 1261.54,856.32 \n",
       "  1281.75,843.383 1301.96,830.359 1322.17,817.249 1342.37,804.052 1362.58,790.769 1382.79,777.399 1403,763.942 1423.2,750.399 1443.41,736.77 1463.62,723.054 \n",
       "  1483.83,709.251 1504.03,695.362 1524.24,681.386 1544.45,667.324 1564.66,653.175 1584.87,638.94 1605.07,624.618 1625.28,610.21 1645.49,595.715 1665.7,581.133 \n",
       "  1685.9,566.465 1706.11,551.711 1726.32,536.87 1746.53,521.942 1766.73,506.928 1786.94,491.827 1807.15,476.64 1827.36,461.366 1847.56,446.006 1867.77,430.559 \n",
       "  1887.98,415.026 1908.19,399.406 1928.4,383.699 1948.6,367.906 1968.81,352.027 1989.02,336.061 2009.23,320.008 2029.43,303.869 2049.64,287.643 2069.85,271.331 \n",
       "  2090.06,254.933 2110.26,238.447 2130.47,221.875 2150.68,205.217 2170.89,188.472 2191.09,171.641 2211.3,154.723 2231.51,137.718 2251.72,120.627 2271.93,103.45 \n",
       "  2292.13,86.1857 \n",
       "  \"/>\n",
       "</svg>\n"
      ]
     },
     "execution_count": 646,
     "metadata": {},
     "output_type": "execute_result"
    }
   ],
   "source": [
    "a,b=1,2\n",
    "plot(a:0.01:b,f,xlabel=\"x\",ylabel=\"f(x)\",label=\"\")"
   ]
  },
  {
   "cell_type": "code",
   "execution_count": 647,
   "metadata": {},
   "outputs": [
    {
     "name": "stdout",
     "output_type": "stream",
     "text": [
      "i p    f    c   r\n",
      "1 1.5 -0.75 0.5 0.3333333333333333\n",
      "2 1.75 0.0625 0.25 0.14285714285714285\n",
      "3 1.625 -0.359375 0.125 0.07692307692307693\n",
      "4 1.6875 -0.15234375 0.0625 0.037037037037037035\n",
      "5 1.71875 -0.0458984375 0.03125 0.01818181818181818\n",
      "6 1.734375 0.008056640625 0.015625 0.009009009009009009\n",
      "7 1.7265625 -0.01898193359375 0.0078125 0.004524886877828055\n",
      "8 1.73046875 -0.0054779052734375 0.00390625 0.002257336343115124\n",
      "9 1.732421875 0.001285552978515625 0.001953125 0.0011273957158962795\n",
      "10 1.7314453125 -0.0020971298217773438 0.0009765625 0.0005640157924421884\n",
      "11 1.73193359375 -0.00040602684020996094 0.00048828125 0.000281928390188892\n",
      "12 1.732177734375 0.00043970346450805664 0.000244140625 0.00014094432699083862\n",
      "13 1.7320556640625 1.6823410987854004e-5 0.0001220703125 7.047713017125943e-5\n",
      "14 1.73199462890625 -0.00019460543990135193 6.103515625e-5 3.5239806885858265e-5\n",
      "15 1.732025146484375 -8.889194577932358e-5 3.0517578125e-5 1.761959298740199e-5\n",
      "16 1.7320404052734375 -3.603450022637844e-5 1.52587890625e-5 8.80971888187048e-6\n",
      "17 1.7320480346679688 -9.605602826923132e-6 7.62939453125e-6 4.404840038234012e-6\n"
     ]
    }
   ],
   "source": [
    "biseccion(f,(a,b))"
   ]
  },
  {
   "cell_type": "markdown",
   "metadata": {},
   "source": [
    "**Mejor aproximacion de pn = 1.7320480346679688 con n = 14**"
   ]
  },
  {
   "cell_type": "code",
   "execution_count": 648,
   "metadata": {},
   "outputs": [
    {
     "name": "stdout",
     "output_type": "stream",
     "text": [
      "Error absoluto exacto y Error relativo exaxto\n"
     ]
    },
    {
     "data": {
      "text/plain": [
       "2-element Vector{Float64}:\n",
       " 2.7729009084431766e-6\n",
       " 1.6009376489230785e-6"
      ]
     },
     "execution_count": 648,
     "metadata": {},
     "output_type": "execute_result"
    }
   ],
   "source": [
    "println(\"Error absoluto exacto y Error relativo exaxto\")\n",
    "exacto=[abs(sqrt(3)-1.7320480346679688), abs(sqrt(3)-1.7320480346679688)/1.7320480346679688]"
   ]
  },
  {
   "cell_type": "code",
   "execution_count": 649,
   "metadata": {},
   "outputs": [
    {
     "data": {
      "text/plain": [
       "2-element Vector{Float64}:\n",
       " -4.856493622806823e-6\n",
       " -2.8039023893109336e-6"
      ]
     },
     "execution_count": 649,
     "metadata": {},
     "output_type": "execute_result"
    }
   ],
   "source": [
    "error_metodo=[7.62939453125e-6, 4.404840038234012e-6]\n",
    "exacto-error_metodo"
   ]
  },
  {
   "cell_type": "markdown",
   "metadata": {},
   "source": [
    "**2.**"
   ]
  },
  {
   "cell_type": "code",
   "execution_count": 650,
   "metadata": {},
   "outputs": [
    {
     "data": {
      "image/svg+xml": [
       "<?xml version=\"1.0\" encoding=\"utf-8\"?>\n",
       "<svg xmlns=\"http://www.w3.org/2000/svg\" xmlns:xlink=\"http://www.w3.org/1999/xlink\" width=\"600\" height=\"400\" viewBox=\"0 0 2400 1600\">\n",
       "<defs>\n",
       "  <clipPath id=\"clip230\">\n",
       "    <rect x=\"0\" y=\"0\" width=\"2400\" height=\"1600\"/>\n",
       "  </clipPath>\n",
       "</defs>\n",
       "<path clip-path=\"url(#clip230)\" d=\"\n",
       "M0 1600 L2400 1600 L2400 0 L0 0  Z\n",
       "  \" fill=\"#ffffff\" fill-rule=\"evenodd\" fill-opacity=\"1\"/>\n",
       "<defs>\n",
       "  <clipPath id=\"clip231\">\n",
       "    <rect x=\"480\" y=\"0\" width=\"1681\" height=\"1600\"/>\n",
       "  </clipPath>\n",
       "</defs>\n",
       "<path clip-path=\"url(#clip230)\" d=\"\n",
       "M174.149 1423.18 L2352.76 1423.18 L2352.76 47.2441 L174.149 47.2441  Z\n",
       "  \" fill=\"#ffffff\" fill-rule=\"evenodd\" fill-opacity=\"1\"/>\n",
       "<defs>\n",
       "  <clipPath id=\"clip232\">\n",
       "    <rect x=\"174\" y=\"47\" width=\"2180\" height=\"1377\"/>\n",
       "  </clipPath>\n",
       "</defs>\n",
       "<polyline clip-path=\"url(#clip232)\" style=\"stroke:#000000; stroke-linecap:butt; stroke-linejoin:round; stroke-width:2; stroke-opacity:0.1; fill:none\" points=\"\n",
       "  235.808,1423.18 235.808,47.2441 \n",
       "  \"/>\n",
       "<polyline clip-path=\"url(#clip232)\" style=\"stroke:#000000; stroke-linecap:butt; stroke-linejoin:round; stroke-width:2; stroke-opacity:0.1; fill:none\" points=\"\n",
       "  578.356,1423.18 578.356,47.2441 \n",
       "  \"/>\n",
       "<polyline clip-path=\"url(#clip232)\" style=\"stroke:#000000; stroke-linecap:butt; stroke-linejoin:round; stroke-width:2; stroke-opacity:0.1; fill:none\" points=\"\n",
       "  920.904,1423.18 920.904,47.2441 \n",
       "  \"/>\n",
       "<polyline clip-path=\"url(#clip232)\" style=\"stroke:#000000; stroke-linecap:butt; stroke-linejoin:round; stroke-width:2; stroke-opacity:0.1; fill:none\" points=\"\n",
       "  1263.45,1423.18 1263.45,47.2441 \n",
       "  \"/>\n",
       "<polyline clip-path=\"url(#clip232)\" style=\"stroke:#000000; stroke-linecap:butt; stroke-linejoin:round; stroke-width:2; stroke-opacity:0.1; fill:none\" points=\"\n",
       "  1606,1423.18 1606,47.2441 \n",
       "  \"/>\n",
       "<polyline clip-path=\"url(#clip232)\" style=\"stroke:#000000; stroke-linecap:butt; stroke-linejoin:round; stroke-width:2; stroke-opacity:0.1; fill:none\" points=\"\n",
       "  1948.55,1423.18 1948.55,47.2441 \n",
       "  \"/>\n",
       "<polyline clip-path=\"url(#clip232)\" style=\"stroke:#000000; stroke-linecap:butt; stroke-linejoin:round; stroke-width:2; stroke-opacity:0.1; fill:none\" points=\"\n",
       "  2291.1,1423.18 2291.1,47.2441 \n",
       "  \"/>\n",
       "<polyline clip-path=\"url(#clip230)\" style=\"stroke:#000000; stroke-linecap:butt; stroke-linejoin:round; stroke-width:4; stroke-opacity:1; fill:none\" points=\"\n",
       "  174.149,1423.18 2352.76,1423.18 \n",
       "  \"/>\n",
       "<polyline clip-path=\"url(#clip230)\" style=\"stroke:#000000; stroke-linecap:butt; stroke-linejoin:round; stroke-width:4; stroke-opacity:1; fill:none\" points=\"\n",
       "  235.808,1423.18 235.808,1404.28 \n",
       "  \"/>\n",
       "<polyline clip-path=\"url(#clip230)\" style=\"stroke:#000000; stroke-linecap:butt; stroke-linejoin:round; stroke-width:4; stroke-opacity:1; fill:none\" points=\"\n",
       "  578.356,1423.18 578.356,1404.28 \n",
       "  \"/>\n",
       "<polyline clip-path=\"url(#clip230)\" style=\"stroke:#000000; stroke-linecap:butt; stroke-linejoin:round; stroke-width:4; stroke-opacity:1; fill:none\" points=\"\n",
       "  920.904,1423.18 920.904,1404.28 \n",
       "  \"/>\n",
       "<polyline clip-path=\"url(#clip230)\" style=\"stroke:#000000; stroke-linecap:butt; stroke-linejoin:round; stroke-width:4; stroke-opacity:1; fill:none\" points=\"\n",
       "  1263.45,1423.18 1263.45,1404.28 \n",
       "  \"/>\n",
       "<polyline clip-path=\"url(#clip230)\" style=\"stroke:#000000; stroke-linecap:butt; stroke-linejoin:round; stroke-width:4; stroke-opacity:1; fill:none\" points=\"\n",
       "  1606,1423.18 1606,1404.28 \n",
       "  \"/>\n",
       "<polyline clip-path=\"url(#clip230)\" style=\"stroke:#000000; stroke-linecap:butt; stroke-linejoin:round; stroke-width:4; stroke-opacity:1; fill:none\" points=\"\n",
       "  1948.55,1423.18 1948.55,1404.28 \n",
       "  \"/>\n",
       "<polyline clip-path=\"url(#clip230)\" style=\"stroke:#000000; stroke-linecap:butt; stroke-linejoin:round; stroke-width:4; stroke-opacity:1; fill:none\" points=\"\n",
       "  2291.1,1423.18 2291.1,1404.28 \n",
       "  \"/>\n",
       "<path clip-path=\"url(#clip230)\" d=\"M213.238 1454.1 Q209.627 1454.1 207.798 1457.66 Q205.993 1461.2 205.993 1468.33 Q205.993 1475.44 207.798 1479.01 Q209.627 1482.55 213.238 1482.55 Q216.873 1482.55 218.678 1479.01 Q220.507 1475.44 220.507 1468.33 Q220.507 1461.2 218.678 1457.66 Q216.873 1454.1 213.238 1454.1 M213.238 1450.39 Q219.048 1450.39 222.104 1455 Q225.183 1459.58 225.183 1468.33 Q225.183 1477.06 222.104 1481.67 Q219.048 1486.25 213.238 1486.25 Q207.428 1486.25 204.349 1481.67 Q201.294 1477.06 201.294 1468.33 Q201.294 1459.58 204.349 1455 Q207.428 1450.39 213.238 1450.39 Z\" fill=\"#000000\" fill-rule=\"evenodd\" fill-opacity=\"1\" /><path clip-path=\"url(#clip230)\" d=\"M233.4 1479.7 L238.284 1479.7 L238.284 1485.58 L233.4 1485.58 L233.4 1479.7 Z\" fill=\"#000000\" fill-rule=\"evenodd\" fill-opacity=\"1\" /><path clip-path=\"url(#clip230)\" d=\"M258.47 1469.17 Q255.136 1469.17 253.215 1470.95 Q251.317 1472.73 251.317 1475.86 Q251.317 1478.98 253.215 1480.77 Q255.136 1482.55 258.47 1482.55 Q261.803 1482.55 263.724 1480.77 Q265.645 1478.96 265.645 1475.86 Q265.645 1472.73 263.724 1470.95 Q261.826 1469.17 258.47 1469.17 M253.794 1467.18 Q250.784 1466.44 249.095 1464.38 Q247.428 1462.32 247.428 1459.35 Q247.428 1455.21 250.368 1452.8 Q253.331 1450.39 258.47 1450.39 Q263.632 1450.39 266.571 1452.8 Q269.511 1455.21 269.511 1459.35 Q269.511 1462.32 267.821 1464.38 Q266.155 1466.44 263.169 1467.18 Q266.548 1467.96 268.423 1470.26 Q270.321 1472.55 270.321 1475.86 Q270.321 1480.88 267.243 1483.57 Q264.187 1486.25 258.47 1486.25 Q252.752 1486.25 249.673 1483.57 Q246.618 1480.88 246.618 1475.86 Q246.618 1472.55 248.516 1470.26 Q250.414 1467.96 253.794 1467.18 M252.081 1459.79 Q252.081 1462.48 253.747 1463.98 Q255.437 1465.49 258.47 1465.49 Q261.479 1465.49 263.169 1463.98 Q264.882 1462.48 264.882 1459.79 Q264.882 1457.11 263.169 1455.6 Q261.479 1454.1 258.47 1454.1 Q255.437 1454.1 253.747 1455.6 Q252.081 1457.11 252.081 1459.79 Z\" fill=\"#000000\" fill-rule=\"evenodd\" fill-opacity=\"1\" /><path clip-path=\"url(#clip230)\" d=\"M555.833 1454.1 Q552.222 1454.1 550.393 1457.66 Q548.588 1461.2 548.588 1468.33 Q548.588 1475.44 550.393 1479.01 Q552.222 1482.55 555.833 1482.55 Q559.467 1482.55 561.273 1479.01 Q563.101 1475.44 563.101 1468.33 Q563.101 1461.2 561.273 1457.66 Q559.467 1454.1 555.833 1454.1 M555.833 1450.39 Q561.643 1450.39 564.699 1455 Q567.777 1459.58 567.777 1468.33 Q567.777 1477.06 564.699 1481.67 Q561.643 1486.25 555.833 1486.25 Q550.023 1486.25 546.944 1481.67 Q543.888 1477.06 543.888 1468.33 Q543.888 1459.58 546.944 1455 Q550.023 1450.39 555.833 1450.39 Z\" fill=\"#000000\" fill-rule=\"evenodd\" fill-opacity=\"1\" /><path clip-path=\"url(#clip230)\" d=\"M575.995 1479.7 L580.879 1479.7 L580.879 1485.58 L575.995 1485.58 L575.995 1479.7 Z\" fill=\"#000000\" fill-rule=\"evenodd\" fill-opacity=\"1\" /><path clip-path=\"url(#clip230)\" d=\"M591.203 1484.86 L591.203 1480.6 Q592.962 1481.44 594.768 1481.88 Q596.573 1482.32 598.309 1482.32 Q602.939 1482.32 605.37 1479.21 Q607.823 1476.09 608.171 1469.75 Q606.828 1471.74 604.768 1472.8 Q602.708 1473.87 600.208 1473.87 Q595.022 1473.87 591.99 1470.74 Q588.981 1467.59 588.981 1462.15 Q588.981 1456.83 592.129 1453.61 Q595.277 1450.39 600.509 1450.39 Q606.504 1450.39 609.652 1455 Q612.823 1459.58 612.823 1468.33 Q612.823 1476.51 608.934 1481.39 Q605.069 1486.25 598.518 1486.25 Q596.759 1486.25 594.953 1485.9 Q593.147 1485.56 591.203 1484.86 M600.509 1470.21 Q603.657 1470.21 605.485 1468.06 Q607.337 1465.9 607.337 1462.15 Q607.337 1458.43 605.485 1456.27 Q603.657 1454.1 600.509 1454.1 Q597.36 1454.1 595.509 1456.27 Q593.68 1458.43 593.68 1462.15 Q593.68 1465.9 595.509 1468.06 Q597.36 1470.21 600.509 1470.21 Z\" fill=\"#000000\" fill-rule=\"evenodd\" fill-opacity=\"1\" /><path clip-path=\"url(#clip230)\" d=\"M888.057 1481.64 L895.696 1481.64 L895.696 1455.28 L887.386 1456.95 L887.386 1452.69 L895.65 1451.02 L900.326 1451.02 L900.326 1481.64 L907.964 1481.64 L907.964 1485.58 L888.057 1485.58 L888.057 1481.64 Z\" fill=\"#000000\" fill-rule=\"evenodd\" fill-opacity=\"1\" /><path clip-path=\"url(#clip230)\" d=\"M917.409 1479.7 L922.293 1479.7 L922.293 1485.58 L917.409 1485.58 L917.409 1479.7 Z\" fill=\"#000000\" fill-rule=\"evenodd\" fill-opacity=\"1\" /><path clip-path=\"url(#clip230)\" d=\"M942.478 1454.1 Q938.867 1454.1 937.038 1457.66 Q935.233 1461.2 935.233 1468.33 Q935.233 1475.44 937.038 1479.01 Q938.867 1482.55 942.478 1482.55 Q946.112 1482.55 947.918 1479.01 Q949.747 1475.44 949.747 1468.33 Q949.747 1461.2 947.918 1457.66 Q946.112 1454.1 942.478 1454.1 M942.478 1450.39 Q948.288 1450.39 951.344 1455 Q954.422 1459.58 954.422 1468.33 Q954.422 1477.06 951.344 1481.67 Q948.288 1486.25 942.478 1486.25 Q936.668 1486.25 933.589 1481.67 Q930.534 1477.06 930.534 1468.33 Q930.534 1459.58 933.589 1455 Q936.668 1450.39 942.478 1450.39 Z\" fill=\"#000000\" fill-rule=\"evenodd\" fill-opacity=\"1\" /><path clip-path=\"url(#clip230)\" d=\"M1231.22 1481.64 L1238.86 1481.64 L1238.86 1455.28 L1230.55 1456.95 L1230.55 1452.69 L1238.81 1451.02 L1243.49 1451.02 L1243.49 1481.64 L1251.13 1481.64 L1251.13 1485.58 L1231.22 1485.58 L1231.22 1481.64 Z\" fill=\"#000000\" fill-rule=\"evenodd\" fill-opacity=\"1\" /><path clip-path=\"url(#clip230)\" d=\"M1260.57 1479.7 L1265.45 1479.7 L1265.45 1485.58 L1260.57 1485.58 L1260.57 1479.7 Z\" fill=\"#000000\" fill-rule=\"evenodd\" fill-opacity=\"1\" /><path clip-path=\"url(#clip230)\" d=\"M1276.45 1481.64 L1284.09 1481.64 L1284.09 1455.28 L1275.78 1456.95 L1275.78 1452.69 L1284.04 1451.02 L1288.72 1451.02 L1288.72 1481.64 L1296.36 1481.64 L1296.36 1485.58 L1276.45 1485.58 L1276.45 1481.64 Z\" fill=\"#000000\" fill-rule=\"evenodd\" fill-opacity=\"1\" /><path clip-path=\"url(#clip230)\" d=\"M1573.95 1481.64 L1581.59 1481.64 L1581.59 1455.28 L1573.28 1456.95 L1573.28 1452.69 L1581.54 1451.02 L1586.22 1451.02 L1586.22 1481.64 L1593.86 1481.64 L1593.86 1485.58 L1573.95 1485.58 L1573.95 1481.64 Z\" fill=\"#000000\" fill-rule=\"evenodd\" fill-opacity=\"1\" /><path clip-path=\"url(#clip230)\" d=\"M1603.3 1479.7 L1608.19 1479.7 L1608.19 1485.58 L1603.3 1485.58 L1603.3 1479.7 Z\" fill=\"#000000\" fill-rule=\"evenodd\" fill-opacity=\"1\" /><path clip-path=\"url(#clip230)\" d=\"M1622.4 1481.64 L1638.72 1481.64 L1638.72 1485.58 L1616.78 1485.58 L1616.78 1481.64 Q1619.44 1478.89 1624.02 1474.26 Q1628.63 1469.61 1629.81 1468.27 Q1632.05 1465.74 1632.93 1464.01 Q1633.84 1462.25 1633.84 1460.56 Q1633.84 1457.8 1631.89 1456.07 Q1629.97 1454.33 1626.87 1454.33 Q1624.67 1454.33 1622.22 1455.09 Q1619.79 1455.86 1617.01 1457.41 L1617.01 1452.69 Q1619.83 1451.55 1622.29 1450.97 Q1624.74 1450.39 1626.78 1450.39 Q1632.15 1450.39 1635.34 1453.08 Q1638.54 1455.77 1638.54 1460.26 Q1638.54 1462.39 1637.73 1464.31 Q1636.94 1466.2 1634.83 1468.8 Q1634.25 1469.47 1631.15 1472.69 Q1628.05 1475.88 1622.4 1481.64 Z\" fill=\"#000000\" fill-rule=\"evenodd\" fill-opacity=\"1\" /><path clip-path=\"url(#clip230)\" d=\"M1916.03 1481.64 L1923.66 1481.64 L1923.66 1455.28 L1915.35 1456.95 L1915.35 1452.69 L1923.62 1451.02 L1928.29 1451.02 L1928.29 1481.64 L1935.93 1481.64 L1935.93 1485.58 L1916.03 1485.58 L1916.03 1481.64 Z\" fill=\"#000000\" fill-rule=\"evenodd\" fill-opacity=\"1\" /><path clip-path=\"url(#clip230)\" d=\"M1945.38 1479.7 L1950.26 1479.7 L1950.26 1485.58 L1945.38 1485.58 L1945.38 1479.7 Z\" fill=\"#000000\" fill-rule=\"evenodd\" fill-opacity=\"1\" /><path clip-path=\"url(#clip230)\" d=\"M1974.61 1466.95 Q1977.97 1467.66 1979.85 1469.93 Q1981.74 1472.2 1981.74 1475.53 Q1981.74 1480.65 1978.22 1483.45 Q1974.71 1486.25 1968.22 1486.25 Q1966.05 1486.25 1963.73 1485.81 Q1961.44 1485.39 1958.99 1484.54 L1958.99 1480.02 Q1960.93 1481.16 1963.25 1481.74 Q1965.56 1482.32 1968.09 1482.32 Q1972.48 1482.32 1974.78 1480.58 Q1977.09 1478.84 1977.09 1475.53 Q1977.09 1472.48 1974.94 1470.77 Q1972.81 1469.03 1968.99 1469.03 L1964.96 1469.03 L1964.96 1465.19 L1969.17 1465.19 Q1972.62 1465.19 1974.45 1463.82 Q1976.28 1462.43 1976.28 1459.84 Q1976.28 1457.18 1974.38 1455.77 Q1972.51 1454.33 1968.99 1454.33 Q1967.07 1454.33 1964.87 1454.75 Q1962.67 1455.16 1960.03 1456.04 L1960.03 1451.88 Q1962.69 1451.14 1965.01 1450.77 Q1967.35 1450.39 1969.41 1450.39 Q1974.73 1450.39 1977.83 1452.83 Q1980.93 1455.23 1980.93 1459.35 Q1980.93 1462.22 1979.29 1464.21 Q1977.65 1466.18 1974.61 1466.95 Z\" fill=\"#000000\" fill-rule=\"evenodd\" fill-opacity=\"1\" /><path clip-path=\"url(#clip230)\" d=\"M2258.01 1481.64 L2265.65 1481.64 L2265.65 1455.28 L2257.34 1456.95 L2257.34 1452.69 L2265.6 1451.02 L2270.28 1451.02 L2270.28 1481.64 L2277.91 1481.64 L2277.91 1485.58 L2258.01 1485.58 L2258.01 1481.64 Z\" fill=\"#000000\" fill-rule=\"evenodd\" fill-opacity=\"1\" /><path clip-path=\"url(#clip230)\" d=\"M2287.36 1479.7 L2292.24 1479.7 L2292.24 1485.58 L2287.36 1485.58 L2287.36 1479.7 Z\" fill=\"#000000\" fill-rule=\"evenodd\" fill-opacity=\"1\" /><path clip-path=\"url(#clip230)\" d=\"M2315.28 1455.09 L2303.47 1473.54 L2315.28 1473.54 L2315.28 1455.09 M2314.05 1451.02 L2319.93 1451.02 L2319.93 1473.54 L2324.86 1473.54 L2324.86 1477.43 L2319.93 1477.43 L2319.93 1485.58 L2315.28 1485.58 L2315.28 1477.43 L2299.67 1477.43 L2299.67 1472.92 L2314.05 1451.02 Z\" fill=\"#000000\" fill-rule=\"evenodd\" fill-opacity=\"1\" /><path clip-path=\"url(#clip230)\" d=\"M1280.07 1532.4 L1267.18 1549.74 L1280.74 1568.04 L1273.83 1568.04 L1263.45 1554.04 L1253.08 1568.04 L1246.17 1568.04 L1260.01 1549.39 L1247.35 1532.4 L1254.25 1532.4 L1263.71 1545.1 L1273.16 1532.4 L1280.07 1532.4 Z\" fill=\"#000000\" fill-rule=\"evenodd\" fill-opacity=\"1\" /><polyline clip-path=\"url(#clip232)\" style=\"stroke:#000000; stroke-linecap:butt; stroke-linejoin:round; stroke-width:2; stroke-opacity:0.1; fill:none\" points=\"\n",
       "  174.149,1176.75 2352.76,1176.75 \n",
       "  \"/>\n",
       "<polyline clip-path=\"url(#clip232)\" style=\"stroke:#000000; stroke-linecap:butt; stroke-linejoin:round; stroke-width:2; stroke-opacity:0.1; fill:none\" points=\"\n",
       "  174.149,812.974 2352.76,812.974 \n",
       "  \"/>\n",
       "<polyline clip-path=\"url(#clip232)\" style=\"stroke:#000000; stroke-linecap:butt; stroke-linejoin:round; stroke-width:2; stroke-opacity:0.1; fill:none\" points=\"\n",
       "  174.149,449.195 2352.76,449.195 \n",
       "  \"/>\n",
       "<polyline clip-path=\"url(#clip232)\" style=\"stroke:#000000; stroke-linecap:butt; stroke-linejoin:round; stroke-width:2; stroke-opacity:0.1; fill:none\" points=\"\n",
       "  174.149,85.4158 2352.76,85.4158 \n",
       "  \"/>\n",
       "<polyline clip-path=\"url(#clip230)\" style=\"stroke:#000000; stroke-linecap:butt; stroke-linejoin:round; stroke-width:4; stroke-opacity:1; fill:none\" points=\"\n",
       "  174.149,1423.18 174.149,47.2441 \n",
       "  \"/>\n",
       "<polyline clip-path=\"url(#clip230)\" style=\"stroke:#000000; stroke-linecap:butt; stroke-linejoin:round; stroke-width:4; stroke-opacity:1; fill:none\" points=\"\n",
       "  174.149,1176.75 193.047,1176.75 \n",
       "  \"/>\n",
       "<polyline clip-path=\"url(#clip230)\" style=\"stroke:#000000; stroke-linecap:butt; stroke-linejoin:round; stroke-width:4; stroke-opacity:1; fill:none\" points=\"\n",
       "  174.149,812.974 193.047,812.974 \n",
       "  \"/>\n",
       "<polyline clip-path=\"url(#clip230)\" style=\"stroke:#000000; stroke-linecap:butt; stroke-linejoin:round; stroke-width:4; stroke-opacity:1; fill:none\" points=\"\n",
       "  174.149,449.195 193.047,449.195 \n",
       "  \"/>\n",
       "<polyline clip-path=\"url(#clip230)\" style=\"stroke:#000000; stroke-linecap:butt; stroke-linejoin:round; stroke-width:4; stroke-opacity:1; fill:none\" points=\"\n",
       "  174.149,85.4158 193.047,85.4158 \n",
       "  \"/>\n",
       "<path clip-path=\"url(#clip230)\" d=\"M126.205 1162.55 Q122.593 1162.55 120.765 1166.12 Q118.959 1169.66 118.959 1176.79 Q118.959 1183.89 120.765 1187.46 Q122.593 1191 126.205 1191 Q129.839 1191 131.644 1187.46 Q133.473 1183.89 133.473 1176.79 Q133.473 1169.66 131.644 1166.12 Q129.839 1162.55 126.205 1162.55 M126.205 1158.85 Q132.015 1158.85 135.07 1163.45 Q138.149 1168.04 138.149 1176.79 Q138.149 1185.51 135.07 1190.12 Q132.015 1194.7 126.205 1194.7 Q120.394 1194.7 117.316 1190.12 Q114.26 1185.51 114.26 1176.79 Q114.26 1168.04 117.316 1163.45 Q120.394 1158.85 126.205 1158.85 Z\" fill=\"#000000\" fill-rule=\"evenodd\" fill-opacity=\"1\" /><path clip-path=\"url(#clip230)\" d=\"M118.242 826.319 L125.88 826.319 L125.88 799.953 L117.57 801.62 L117.57 797.36 L125.834 795.694 L130.51 795.694 L130.51 826.319 L138.149 826.319 L138.149 830.254 L118.242 830.254 L118.242 826.319 Z\" fill=\"#000000\" fill-rule=\"evenodd\" fill-opacity=\"1\" /><path clip-path=\"url(#clip230)\" d=\"M121.83 462.54 L138.149 462.54 L138.149 466.475 L116.205 466.475 L116.205 462.54 Q118.867 459.785 123.45 455.155 Q128.056 450.503 129.237 449.16 Q131.482 446.637 132.362 444.901 Q133.265 443.142 133.265 441.452 Q133.265 438.697 131.32 436.961 Q129.399 435.225 126.297 435.225 Q124.098 435.225 121.644 435.989 Q119.214 436.753 116.436 438.304 L116.436 433.581 Q119.26 432.447 121.714 431.868 Q124.168 431.29 126.205 431.29 Q131.575 431.29 134.769 433.975 Q137.964 436.66 137.964 441.151 Q137.964 443.28 137.154 445.202 Q136.367 447.1 134.26 449.692 Q133.681 450.364 130.58 453.581 Q127.478 456.776 121.83 462.54 Z\" fill=\"#000000\" fill-rule=\"evenodd\" fill-opacity=\"1\" /><path clip-path=\"url(#clip230)\" d=\"M131.019 84.0617 Q134.376 84.7792 136.251 87.0477 Q138.149 89.3163 138.149 92.6496 Q138.149 97.7653 134.63 100.566 Q131.112 103.367 124.63 103.367 Q122.455 103.367 120.14 102.927 Q117.848 102.511 115.394 101.654 L115.394 97.1403 Q117.339 98.2745 119.654 98.8532 Q121.968 99.4319 124.492 99.4319 Q128.89 99.4319 131.181 97.6958 Q133.496 95.9597 133.496 92.6496 Q133.496 89.594 131.343 87.8811 Q129.214 86.145 125.394 86.145 L121.367 86.145 L121.367 82.3024 L125.58 82.3024 Q129.029 82.3024 130.857 80.9367 Q132.686 79.5478 132.686 76.9552 Q132.686 74.2932 130.788 72.8812 Q128.913 71.446 125.394 71.446 Q123.473 71.446 121.274 71.8626 Q119.075 72.2793 116.436 73.1589 L116.436 68.9923 Q119.098 68.2516 121.413 67.8812 Q123.751 67.5108 125.811 67.5108 Q131.135 67.5108 134.237 69.9414 Q137.339 72.3488 137.339 76.4691 Q137.339 79.3395 135.695 81.3302 Q134.052 83.2978 131.019 84.0617 Z\" fill=\"#000000\" fill-rule=\"evenodd\" fill-opacity=\"1\" /><path clip-path=\"url(#clip230)\" d=\"M14.479 765.163 L19.3487 765.163 L19.3487 770.764 Q19.3487 773.915 20.6219 775.157 Q21.895 776.366 25.2052 776.366 L28.3562 776.366 L28.3562 766.722 L32.9077 766.722 L32.9077 776.366 L64.0042 776.366 L64.0042 782.255 L32.9077 782.255 L32.9077 787.856 L28.3562 787.856 L28.3562 782.255 L25.8736 782.255 Q19.9216 782.255 17.2162 779.485 Q14.479 776.716 14.479 770.701 L14.479 765.163 Z\" fill=\"#000000\" fill-rule=\"evenodd\" fill-opacity=\"1\" /><path clip-path=\"url(#clip230)\" d=\"M14.5426 746.193 Q21.8632 750.458 29.0246 752.527 Q36.186 754.596 43.5384 754.596 Q50.8908 754.596 58.1159 752.527 Q65.3091 750.426 72.5979 746.193 L72.5979 751.285 Q65.1182 756.06 57.8931 758.447 Q50.668 760.802 43.5384 760.802 Q36.4406 760.802 29.2474 758.447 Q22.0542 756.091 14.5426 751.285 L14.5426 746.193 Z\" fill=\"#000000\" fill-rule=\"evenodd\" fill-opacity=\"1\" /><path clip-path=\"url(#clip230)\" d=\"M28.3562 705.198 L45.7028 718.088 L64.0042 704.529 L64.0042 711.436 L49.9996 721.812 L64.0042 732.188 L64.0042 739.095 L45.3526 725.25 L28.3562 737.917 L28.3562 731.011 L41.0558 721.558 L28.3562 712.104 L28.3562 705.198 Z\" fill=\"#000000\" fill-rule=\"evenodd\" fill-opacity=\"1\" /><path clip-path=\"url(#clip230)\" d=\"M14.5426 697.177 L14.5426 692.084 Q22.0542 687.31 29.2474 684.955 Q36.4406 682.568 43.5384 682.568 Q50.668 682.568 57.8931 684.955 Q65.1182 687.31 72.5979 692.084 L72.5979 697.177 Q65.3091 692.944 58.1159 690.875 Q50.8908 688.774 43.5384 688.774 Q36.186 688.774 29.0246 690.875 Q21.8632 692.944 14.5426 697.177 Z\" fill=\"#000000\" fill-rule=\"evenodd\" fill-opacity=\"1\" /><polyline clip-path=\"url(#clip232)\" style=\"stroke:#009af9; stroke-linecap:butt; stroke-linejoin:round; stroke-width:4; stroke-opacity:1; fill:none\" points=\"\n",
       "  235.808,1384.24 270.062,1383.94 304.317,1383.48 338.572,1382.86 372.827,1382.06 407.082,1381.08 441.337,1379.9 475.591,1378.53 509.846,1376.95 544.101,1375.16 \n",
       "  578.356,1373.14 612.611,1370.88 646.866,1368.37 681.12,1365.6 715.375,1362.56 749.63,1359.23 783.885,1355.6 818.14,1351.66 852.394,1347.38 886.649,1342.75 \n",
       "  920.904,1337.76 955.159,1332.38 989.414,1326.58 1023.67,1320.36 1057.92,1313.67 1092.18,1306.51 1126.43,1298.83 1160.69,1290.61 1194.94,1281.81 1229.2,1272.39 \n",
       "  1263.45,1262.33 1297.71,1251.57 1331.96,1240.07 1366.22,1227.77 1400.47,1214.63 1434.73,1200.58 1468.98,1185.56 1503.24,1169.48 1537.49,1152.28 1571.75,1133.86 \n",
       "  1606,1114.13 1640.26,1092.97 1674.51,1070.25 1708.77,1045.86 1743.02,1019.63 1777.27,991.382 1811.53,960.934 1845.78,928.061 1880.04,892.514 1914.29,854.006 \n",
       "  1948.55,812.209 1982.8,766.744 2017.06,717.173 2051.31,662.984 2085.57,603.576 2119.82,538.24 2154.08,466.132 2188.33,386.24 2222.59,297.34 2256.84,197.937 \n",
       "  2291.1,86.1857 \n",
       "  \"/>\n",
       "</svg>\n"
      ]
     },
     "execution_count": 650,
     "metadata": {},
     "output_type": "execute_result"
    }
   ],
   "source": [
    "f(x)=tan(x)-2x\n",
    "a,b=0.8,1.4\n",
    "plot(a:0.01:b,f,xlabel=\"x\",ylabel=\"f(x)\",label=\"\")"
   ]
  },
  {
   "cell_type": "code",
   "execution_count": 651,
   "metadata": {},
   "outputs": [
    {
     "name": "stdout",
     "output_type": "stream",
     "text": [
      "i p    f    c   r\n",
      "1 1.1 -0.23524034275134786 0.29999999999999993 0.27272727272727265\n",
      "2 1.25 0.5095696738628313 0.1499999999999999 0.11999999999999993\n",
      "3 1.175 0.04322115170504448 0.07499999999999996 0.0638297872340425\n",
      "4 1.1375000000000002 -0.11338341785151274 0.03749999999999998 0.03296703296703294\n",
      "5 1.15625 -0.0400159397525508 0.018749999999999933 0.016216216216216158\n",
      "6 1.165625 0.00028302427270565644 0.009375000000000022 0.008042895442359269\n",
      "7 1.1609375 -0.020185004783326743 0.004687499999999956 0.004037685060565238\n",
      "8 1.1632812499999998 -0.010032004802337458 0.002343749999999978 0.002014775016789773\n",
      "9 1.1644531249999999 -0.004894919598906977 0.0011718750000000444 0.0010063737001006756\n",
      "10 1.1650390625 -0.0023110771806220676 0.0005859375000000222 0.0005029337803856016\n",
      "11 1.16533203125 -0.0010153116203532875 0.0002929687499999556 0.0002514036704935511\n",
      "12 1.1654785156249998 -0.0003664653146806529 0.0001464843749999778 0.00012568603628135012\n",
      "13 1.1655517578124999 -4.1800974913908107e-5 7.324218750004441e-5 6.283906914396052e-5\n",
      "14 1.16558837890625 0.00012059152994714495 3.6621093750022204e-5 3.141854741584353e-5\n",
      "15 1.1655700683593748 3.939024846255634e-5 1.8310546875066613e-5 1.5709520493126638e-5\n",
      "16 1.1655609130859372 -1.2066204040372952e-6 9.155273437477796e-6 7.854821944258844e-6\n"
     ]
    }
   ],
   "source": [
    "biseccion(f,(a,b))"
   ]
  },
  {
   "cell_type": "code",
   "execution_count": 652,
   "metadata": {},
   "outputs": [
    {
     "name": "stdout",
     "output_type": "stream",
     "text": [
      "Error absoluto exacto y Error relativo exacto\n"
     ]
    },
    {
     "data": {
      "text/plain": [
       "2-element Vector{Float64}:\n",
       " 0.56648989448294\n",
       " 0.48602341424018947"
      ]
     },
     "execution_count": 652,
     "metadata": {},
     "output_type": "execute_result"
    }
   ],
   "source": [
    "println(\"Error absoluto exacto y Error relativo exacto\")\n",
    "exacto=[abs(sqrt(3)-1.1655609130859372), abs(sqrt(3)-1.1655609130859372)/1.1655609130859372]"
   ]
  },
  {
   "cell_type": "code",
   "execution_count": 653,
   "metadata": {},
   "outputs": [
    {
     "data": {
      "text/plain": [
       "2-element Vector{Float64}:\n",
       " 0.5664807392095025\n",
       " 0.4860155594182452"
      ]
     },
     "execution_count": 653,
     "metadata": {},
     "output_type": "execute_result"
    }
   ],
   "source": [
    "error_metodo=[9.155273437477796e-6, 7.854821944258844e-6]\n",
    "exacto-error_metodo"
   ]
  },
  {
   "cell_type": "code",
   "execution_count": 654,
   "metadata": {},
   "outputs": [
    {
     "data": {
      "text/plain": [
       "(-1.2066204040372952e-6, -9.611634775434377)"
      ]
     },
     "execution_count": 654,
     "metadata": {},
     "output_type": "execute_result"
    }
   ],
   "source": [
    "f(1.1655609130859372),f(sqrt(3))"
   ]
  },
  {
   "cell_type": "markdown",
   "metadata": {},
   "source": [
    "**sqrt(3) no es raiz de** $f(x)=tan(x)-2x$"
   ]
  },
  {
   "cell_type": "markdown",
   "metadata": {},
   "source": [
    "### Problema 1.C\n",
    "\n",
    "Modique al programa desarrollado en el inciso **1.A** de manera tal que, en vez de imprimir los valores obtenidos a lo largo de las diferentes iteraciones, retorne una tupla con las siguientes componentes:\n",
    "\n",
    "* un booleano indicando si el algoritmo convergió o no dentro de las tolerancias máximas permitidas,\n",
    "\n",
    "* un vector de componentes $p_i$ para $i=1,2,...,n$, donde $n$ es el número de iteraciones realizadas por el algoritmo y, por ende, $p_n$ es la presunta mejor aproximación obtenida.\n",
    "\n",
    "* un vector $f$ de componentes $f_i$,\n",
    "\n",
    "* un vector $c$ de componentes $c_i$,\n",
    "\n",
    "* y un vector $r$ de componentes $r_i$."
   ]
  },
  {
   "cell_type": "code",
   "execution_count": 4,
   "metadata": {},
   "outputs": [
    {
     "data": {
      "text/plain": [
       "biseccion (generic function with 1 method)"
      ]
     },
     "execution_count": 4,
     "metadata": {},
     "output_type": "execute_result"
    }
   ],
   "source": [
    "function biseccion(f,(a,b);tol_x=1e-10,tol_f=1e-10,nmax=100)      \n",
    "        if b<a              \n",
    "            a,b=b,a\n",
    "        end\n",
    "    Vp = zeros(nmax)\n",
    "    Vf = zeros(nmax)\n",
    "    Vc = zeros(nmax)\n",
    "    Vr = zeros(nmax)\n",
    "    fa = f(a)                    \n",
    "    @assert fa*f(b)<0.     \n",
    "    for i in 1:nmax\n",
    "        p = a + 0.5*(b-a)\n",
    "        fp = f(p)\n",
    "        c = 0.5*(b-a)      ### cota error absoluto\n",
    "        r = abs(c/p)       ### cota error relativo\n",
    "        Vp[i] = p\n",
    "        Vf[i] = fp\n",
    "        Vc[i] = c\n",
    "        Vr[i] = r\n",
    "        if  r<tol_x && abs(fp)<tol_f   \n",
    "             return (true,Vp[1:i],Vf[1:i],Vc[1:i],Vr[1:i])\n",
    "        end\n",
    "        if fa*fp<0.  \n",
    "            b = p\n",
    "        else \n",
    "                a = p\n",
    "                fa = fp\n",
    "        end\n",
    "    end\n",
    "    return false,Vp,Vf,Vc,Vr\n",
    "end"
   ]
  },
  {
   "cell_type": "markdown",
   "metadata": {},
   "source": [
    "### Problema 1.D\n",
    "\n",
    "Utilize el programa desarrollado en el inciso **1.C** para:\n",
    "\n",
    "1. Encontrar nuevamente la a $\\sqrt{3}$. Luego:\n",
    "  \n",
    "    a. Imprima una lista con los valores $i$, $p_i$, $f_i$, $d_i$ y $r_i$  para $i=1,...,n$. Utilice el paquete `DataFrames`.\n",
    "    \n",
    "    b. Grafique $p_i$ vs $i$ usando puntos (en vez de una línea contínua).\n",
    "    \n",
    "    c. Grafique $f(p_i)$ vs $i$ usando puntos y escala logarítmica en el eje de las ordenadas. Recuerde, la abscisa es el eje $x$ y la ordenada el eje $y$.\n",
    "    \n",
    "    d. Grafique, con puntos de un color los errores absolutos, y con puntos de otro color los errores relativos, ambos vs $i$ y con escala logarítimica en el eje de las ordenadas.\n",
    "\n",
    "Recuerde de poner título, nombre a los ejes y leyendas para las distintas curvas.\n",
    "\n",
    "2. Encontrar nuevamente la menor solución positiva de la ecuación $f(x)=\\tan(x)-2x$ y repita los incisos items del inciso anterior."
   ]
  },
  {
   "cell_type": "markdown",
   "metadata": {},
   "source": [
    "**1.a.**"
   ]
  },
  {
   "cell_type": "code",
   "execution_count": 661,
   "metadata": {},
   "outputs": [
    {
     "data": {
      "text/plain": [
       "(true, [1.5, 1.75, 1.625, 1.6875, 1.71875, 1.734375, 1.7265625, 1.73046875, 1.732421875, 1.7314453125, 1.73193359375, 1.732177734375, 1.7320556640625, 1.73199462890625, 1.732025146484375, 1.7320404052734375, 1.7320480346679688], [-0.75, 0.0625, -0.359375, -0.15234375, -0.0458984375, 0.008056640625, -0.01898193359375, -0.0054779052734375, 0.001285552978515625, -0.0020971298217773438, -0.00040602684020996094, 0.00043970346450805664, 1.6823410987854004e-5, -0.00019460543990135193, -8.889194577932358e-5, -3.603450022637844e-5, -9.605602826923132e-6], [0.5, 0.25, 0.125, 0.0625, 0.03125, 0.015625, 0.0078125, 0.00390625, 0.001953125, 0.0009765625, 0.00048828125, 0.000244140625, 0.0001220703125, 6.103515625e-5, 3.0517578125e-5, 1.52587890625e-5, 7.62939453125e-6], [0.3333333333333333, 0.14285714285714285, 0.07692307692307693, 0.037037037037037035, 0.01818181818181818, 0.009009009009009009, 0.004524886877828055, 0.002257336343115124, 0.0011273957158962795, 0.0005640157924421884, 0.000281928390188892, 0.00014094432699083862, 7.047713017125943e-5, 3.5239806885858265e-5, 1.761959298740199e-5, 8.80971888187048e-6, 4.404840038234012e-6])"
      ]
     },
     "execution_count": 661,
     "metadata": {},
     "output_type": "execute_result"
    }
   ],
   "source": [
    "f(x)=x^2-3\n",
    "a,b=1,2\n",
    "biseccion(f,(a,b))    ## Muestra en pantalla el resultado pero no queda guardado los vectores, despues de correr el programa elimina la variables \n",
    "conv,Vp,Vf,Vc,Vr = biseccion(f,(a,b))       ## le asigno una tupla a lo que me entrega el programa"
   ]
  },
  {
   "cell_type": "code",
   "execution_count": 662,
   "metadata": {},
   "outputs": [
    {
     "data": {
      "text/plain": [
       "17-element Vector{Float64}:\n",
       " 1.5\n",
       " 1.75\n",
       " 1.625\n",
       " 1.6875\n",
       " 1.71875\n",
       " 1.734375\n",
       " 1.7265625\n",
       " 1.73046875\n",
       " 1.732421875\n",
       " 1.7314453125\n",
       " 1.73193359375\n",
       " 1.732177734375\n",
       " 1.7320556640625\n",
       " 1.73199462890625\n",
       " 1.732025146484375\n",
       " 1.7320404052734375\n",
       " 1.7320480346679688"
      ]
     },
     "execution_count": 662,
     "metadata": {},
     "output_type": "execute_result"
    }
   ],
   "source": [
    "Vp"
   ]
  },
  {
   "cell_type": "code",
   "execution_count": 663,
   "metadata": {},
   "outputs": [
    {
     "data": {
      "text/plain": [
       "17"
      ]
     },
     "execution_count": 663,
     "metadata": {},
     "output_type": "execute_result"
    }
   ],
   "source": [
    "n=length(Vp)   ## numero de iteraciones"
   ]
  },
  {
   "cell_type": "code",
   "execution_count": 664,
   "metadata": {},
   "outputs": [
    {
     "data": {
      "text/html": [
       "<div class=\"data-frame\"><p>17 rows × 4 columns</p><table class=\"data-frame\"><thead><tr><th></th><th>p</th><th>f</th><th>e_x</th><th>e_r</th></tr><tr><th></th><th title=\"Float64\">Float64</th><th title=\"Float64\">Float64</th><th title=\"Float64\">Float64</th><th title=\"Float64\">Float64</th></tr></thead><tbody><tr><th>1</th><td>1.5</td><td>-0.75</td><td>0.5</td><td>0.333333</td></tr><tr><th>2</th><td>1.75</td><td>0.0625</td><td>0.25</td><td>0.142857</td></tr><tr><th>3</th><td>1.625</td><td>-0.359375</td><td>0.125</td><td>0.0769231</td></tr><tr><th>4</th><td>1.6875</td><td>-0.152344</td><td>0.0625</td><td>0.037037</td></tr><tr><th>5</th><td>1.71875</td><td>-0.0458984</td><td>0.03125</td><td>0.0181818</td></tr><tr><th>6</th><td>1.73438</td><td>0.00805664</td><td>0.015625</td><td>0.00900901</td></tr><tr><th>7</th><td>1.72656</td><td>-0.0189819</td><td>0.0078125</td><td>0.00452489</td></tr><tr><th>8</th><td>1.73047</td><td>-0.00547791</td><td>0.00390625</td><td>0.00225734</td></tr><tr><th>9</th><td>1.73242</td><td>0.00128555</td><td>0.00195312</td><td>0.0011274</td></tr><tr><th>10</th><td>1.73145</td><td>-0.00209713</td><td>0.000976562</td><td>0.000564016</td></tr><tr><th>11</th><td>1.73193</td><td>-0.000406027</td><td>0.000488281</td><td>0.000281928</td></tr><tr><th>12</th><td>1.73218</td><td>0.000439703</td><td>0.000244141</td><td>0.000140944</td></tr><tr><th>13</th><td>1.73206</td><td>1.68234e-5</td><td>0.00012207</td><td>7.04771e-5</td></tr><tr><th>14</th><td>1.73199</td><td>-0.000194605</td><td>6.10352e-5</td><td>3.52398e-5</td></tr><tr><th>15</th><td>1.73203</td><td>-8.88919e-5</td><td>3.05176e-5</td><td>1.76196e-5</td></tr><tr><th>16</th><td>1.73204</td><td>-3.60345e-5</td><td>1.52588e-5</td><td>8.80972e-6</td></tr><tr><th>17</th><td>1.73205</td><td>-9.6056e-6</td><td>7.62939e-6</td><td>4.40484e-6</td></tr></tbody></table></div>"
      ],
      "text/latex": [
       "\\begin{tabular}{r|cccc}\n",
       "\t& p & f & e\\_x & e\\_r\\\\\n",
       "\t\\hline\n",
       "\t& Float64 & Float64 & Float64 & Float64\\\\\n",
       "\t\\hline\n",
       "\t1 & 1.5 & -0.75 & 0.5 & 0.333333 \\\\\n",
       "\t2 & 1.75 & 0.0625 & 0.25 & 0.142857 \\\\\n",
       "\t3 & 1.625 & -0.359375 & 0.125 & 0.0769231 \\\\\n",
       "\t4 & 1.6875 & -0.152344 & 0.0625 & 0.037037 \\\\\n",
       "\t5 & 1.71875 & -0.0458984 & 0.03125 & 0.0181818 \\\\\n",
       "\t6 & 1.73438 & 0.00805664 & 0.015625 & 0.00900901 \\\\\n",
       "\t7 & 1.72656 & -0.0189819 & 0.0078125 & 0.00452489 \\\\\n",
       "\t8 & 1.73047 & -0.00547791 & 0.00390625 & 0.00225734 \\\\\n",
       "\t9 & 1.73242 & 0.00128555 & 0.00195312 & 0.0011274 \\\\\n",
       "\t10 & 1.73145 & -0.00209713 & 0.000976562 & 0.000564016 \\\\\n",
       "\t11 & 1.73193 & -0.000406027 & 0.000488281 & 0.000281928 \\\\\n",
       "\t12 & 1.73218 & 0.000439703 & 0.000244141 & 0.000140944 \\\\\n",
       "\t13 & 1.73206 & 1.68234e-5 & 0.00012207 & 7.04771e-5 \\\\\n",
       "\t14 & 1.73199 & -0.000194605 & 6.10352e-5 & 3.52398e-5 \\\\\n",
       "\t15 & 1.73203 & -8.88919e-5 & 3.05176e-5 & 1.76196e-5 \\\\\n",
       "\t16 & 1.73204 & -3.60345e-5 & 1.52588e-5 & 8.80972e-6 \\\\\n",
       "\t17 & 1.73205 & -9.6056e-6 & 7.62939e-6 & 4.40484e-6 \\\\\n",
       "\\end{tabular}\n"
      ],
      "text/plain": [
       "\u001b[1m17×4 DataFrame\u001b[0m\n",
       "\u001b[1m Row \u001b[0m│\u001b[1m p       \u001b[0m\u001b[1m f            \u001b[0m\u001b[1m e_x         \u001b[0m\u001b[1m e_r         \u001b[0m\n",
       "\u001b[1m     \u001b[0m│\u001b[90m Float64 \u001b[0m\u001b[90m Float64      \u001b[0m\u001b[90m Float64     \u001b[0m\u001b[90m Float64     \u001b[0m\n",
       "─────┼─────────────────────────────────────────────────\n",
       "   1 │ 1.5      -0.75         0.5          0.333333\n",
       "   2 │ 1.75      0.0625       0.25         0.142857\n",
       "   3 │ 1.625    -0.359375     0.125        0.0769231\n",
       "   4 │ 1.6875   -0.152344     0.0625       0.037037\n",
       "   5 │ 1.71875  -0.0458984    0.03125      0.0181818\n",
       "   6 │ 1.73438   0.00805664   0.015625     0.00900901\n",
       "   7 │ 1.72656  -0.0189819    0.0078125    0.00452489\n",
       "   8 │ 1.73047  -0.00547791   0.00390625   0.00225734\n",
       "   9 │ 1.73242   0.00128555   0.00195312   0.0011274\n",
       "  10 │ 1.73145  -0.00209713   0.000976562  0.000564016\n",
       "  11 │ 1.73193  -0.000406027  0.000488281  0.000281928\n",
       "  12 │ 1.73218   0.000439703  0.000244141  0.000140944\n",
       "  13 │ 1.73206   1.68234e-5   0.00012207   7.04771e-5\n",
       "  14 │ 1.73199  -0.000194605  6.10352e-5   3.52398e-5\n",
       "  15 │ 1.73203  -8.88919e-5   3.05176e-5   1.76196e-5\n",
       "  16 │ 1.73204  -3.60345e-5   1.52588e-5   8.80972e-6\n",
       "  17 │ 1.73205  -9.6056e-6    7.62939e-6   4.40484e-6"
      ]
     },
     "execution_count": 664,
     "metadata": {},
     "output_type": "execute_result"
    }
   ],
   "source": [
    "tabla = DataFrame(p=Vp,f=Vf,e_x=Vc,e_r=Vr)"
   ]
  },
  {
   "cell_type": "markdown",
   "metadata": {},
   "source": [
    "**1.b.**"
   ]
  },
  {
   "cell_type": "code",
   "execution_count": 665,
   "metadata": {},
   "outputs": [
    {
     "data": {
      "image/svg+xml": [
       "<?xml version=\"1.0\" encoding=\"utf-8\"?>\n",
       "<svg xmlns=\"http://www.w3.org/2000/svg\" xmlns:xlink=\"http://www.w3.org/1999/xlink\" width=\"600\" height=\"400\" viewBox=\"0 0 2400 1600\">\n",
       "<defs>\n",
       "  <clipPath id=\"clip270\">\n",
       "    <rect x=\"0\" y=\"0\" width=\"2400\" height=\"1600\"/>\n",
       "  </clipPath>\n",
       "</defs>\n",
       "<path clip-path=\"url(#clip270)\" d=\"\n",
       "M0 1600 L2400 1600 L2400 0 L0 0  Z\n",
       "  \" fill=\"#ffffff\" fill-rule=\"evenodd\" fill-opacity=\"1\"/>\n",
       "<defs>\n",
       "  <clipPath id=\"clip271\">\n",
       "    <rect x=\"480\" y=\"0\" width=\"1681\" height=\"1600\"/>\n",
       "  </clipPath>\n",
       "</defs>\n",
       "<path clip-path=\"url(#clip270)\" d=\"\n",
       "M247.459 1423.18 L2352.76 1423.18 L2352.76 123.472 L247.459 123.472  Z\n",
       "  \" fill=\"#ffffff\" fill-rule=\"evenodd\" fill-opacity=\"1\"/>\n",
       "<defs>\n",
       "  <clipPath id=\"clip272\">\n",
       "    <rect x=\"247\" y=\"123\" width=\"2106\" height=\"1301\"/>\n",
       "  </clipPath>\n",
       "</defs>\n",
       "<polyline clip-path=\"url(#clip272)\" style=\"stroke:#000000; stroke-linecap:butt; stroke-linejoin:round; stroke-width:2; stroke-opacity:0.1; fill:none\" points=\"\n",
       "  555.309,1423.18 555.309,123.472 \n",
       "  \"/>\n",
       "<polyline clip-path=\"url(#clip272)\" style=\"stroke:#000000; stroke-linecap:butt; stroke-linejoin:round; stroke-width:2; stroke-opacity:0.1; fill:none\" points=\"\n",
       "  927.708,1423.18 927.708,123.472 \n",
       "  \"/>\n",
       "<polyline clip-path=\"url(#clip272)\" style=\"stroke:#000000; stroke-linecap:butt; stroke-linejoin:round; stroke-width:2; stroke-opacity:0.1; fill:none\" points=\"\n",
       "  1300.11,1423.18 1300.11,123.472 \n",
       "  \"/>\n",
       "<polyline clip-path=\"url(#clip272)\" style=\"stroke:#000000; stroke-linecap:butt; stroke-linejoin:round; stroke-width:2; stroke-opacity:0.1; fill:none\" points=\"\n",
       "  1672.51,1423.18 1672.51,123.472 \n",
       "  \"/>\n",
       "<polyline clip-path=\"url(#clip272)\" style=\"stroke:#000000; stroke-linecap:butt; stroke-linejoin:round; stroke-width:2; stroke-opacity:0.1; fill:none\" points=\"\n",
       "  2044.91,1423.18 2044.91,123.472 \n",
       "  \"/>\n",
       "<polyline clip-path=\"url(#clip270)\" style=\"stroke:#000000; stroke-linecap:butt; stroke-linejoin:round; stroke-width:4; stroke-opacity:1; fill:none\" points=\"\n",
       "  247.459,1423.18 2352.76,1423.18 \n",
       "  \"/>\n",
       "<polyline clip-path=\"url(#clip270)\" style=\"stroke:#000000; stroke-linecap:butt; stroke-linejoin:round; stroke-width:4; stroke-opacity:1; fill:none\" points=\"\n",
       "  555.309,1423.18 555.309,1404.28 \n",
       "  \"/>\n",
       "<polyline clip-path=\"url(#clip270)\" style=\"stroke:#000000; stroke-linecap:butt; stroke-linejoin:round; stroke-width:4; stroke-opacity:1; fill:none\" points=\"\n",
       "  927.708,1423.18 927.708,1404.28 \n",
       "  \"/>\n",
       "<polyline clip-path=\"url(#clip270)\" style=\"stroke:#000000; stroke-linecap:butt; stroke-linejoin:round; stroke-width:4; stroke-opacity:1; fill:none\" points=\"\n",
       "  1300.11,1423.18 1300.11,1404.28 \n",
       "  \"/>\n",
       "<polyline clip-path=\"url(#clip270)\" style=\"stroke:#000000; stroke-linecap:butt; stroke-linejoin:round; stroke-width:4; stroke-opacity:1; fill:none\" points=\"\n",
       "  1672.51,1423.18 1672.51,1404.28 \n",
       "  \"/>\n",
       "<polyline clip-path=\"url(#clip270)\" style=\"stroke:#000000; stroke-linecap:butt; stroke-linejoin:round; stroke-width:4; stroke-opacity:1; fill:none\" points=\"\n",
       "  2044.91,1423.18 2044.91,1404.28 \n",
       "  \"/>\n",
       "<path clip-path=\"url(#clip270)\" d=\"M559.556 1466.95 Q562.913 1467.66 564.788 1469.93 Q566.686 1472.2 566.686 1475.53 Q566.686 1480.65 563.168 1483.45 Q559.649 1486.25 553.168 1486.25 Q550.992 1486.25 548.677 1485.81 Q546.385 1485.39 543.932 1484.54 L543.932 1480.02 Q545.876 1481.16 548.191 1481.74 Q550.506 1482.32 553.029 1482.32 Q557.427 1482.32 559.718 1480.58 Q562.033 1478.84 562.033 1475.53 Q562.033 1472.48 559.881 1470.77 Q557.751 1469.03 553.931 1469.03 L549.904 1469.03 L549.904 1465.19 L554.117 1465.19 Q557.566 1465.19 559.394 1463.82 Q561.223 1462.43 561.223 1459.84 Q561.223 1457.18 559.325 1455.77 Q557.45 1454.33 553.931 1454.33 Q552.01 1454.33 549.811 1454.75 Q547.612 1455.16 544.973 1456.04 L544.973 1451.88 Q547.635 1451.14 549.95 1450.77 Q552.288 1450.39 554.348 1450.39 Q559.672 1450.39 562.774 1452.83 Q565.876 1455.23 565.876 1459.35 Q565.876 1462.22 564.232 1464.21 Q562.589 1466.18 559.556 1466.95 Z\" fill=\"#000000\" fill-rule=\"evenodd\" fill-opacity=\"1\" /><path clip-path=\"url(#clip270)\" d=\"M928.113 1466.44 Q924.965 1466.44 923.113 1468.59 Q921.284 1470.74 921.284 1474.49 Q921.284 1478.22 923.113 1480.39 Q924.965 1482.55 928.113 1482.55 Q931.261 1482.55 933.09 1480.39 Q934.942 1478.22 934.942 1474.49 Q934.942 1470.74 933.09 1468.59 Q931.261 1466.44 928.113 1466.44 M937.395 1451.78 L937.395 1456.04 Q935.636 1455.21 933.831 1454.77 Q932.048 1454.33 930.289 1454.33 Q925.659 1454.33 923.206 1457.45 Q920.775 1460.58 920.428 1466.9 Q921.794 1464.89 923.854 1463.82 Q925.914 1462.73 928.391 1462.73 Q933.599 1462.73 936.608 1465.9 Q939.641 1469.05 939.641 1474.49 Q939.641 1479.82 936.493 1483.03 Q933.345 1486.25 928.113 1486.25 Q922.118 1486.25 918.947 1481.67 Q915.775 1477.06 915.775 1468.33 Q915.775 1460.14 919.664 1455.28 Q923.553 1450.39 930.104 1450.39 Q931.863 1450.39 933.646 1450.74 Q935.451 1451.09 937.395 1451.78 Z\" fill=\"#000000\" fill-rule=\"evenodd\" fill-opacity=\"1\" /><path clip-path=\"url(#clip270)\" d=\"M1290.41 1484.86 L1290.41 1480.6 Q1292.17 1481.44 1293.97 1481.88 Q1295.78 1482.32 1297.51 1482.32 Q1302.14 1482.32 1304.57 1479.21 Q1307.03 1476.09 1307.38 1469.75 Q1306.03 1471.74 1303.97 1472.8 Q1301.91 1473.87 1299.41 1473.87 Q1294.23 1473.87 1291.2 1470.74 Q1288.19 1467.59 1288.19 1462.15 Q1288.19 1456.83 1291.33 1453.61 Q1294.48 1450.39 1299.71 1450.39 Q1305.71 1450.39 1308.86 1455 Q1312.03 1459.58 1312.03 1468.33 Q1312.03 1476.51 1308.14 1481.39 Q1304.27 1486.25 1297.72 1486.25 Q1295.96 1486.25 1294.16 1485.9 Q1292.35 1485.56 1290.41 1484.86 M1299.71 1470.21 Q1302.86 1470.21 1304.69 1468.06 Q1306.54 1465.9 1306.54 1462.15 Q1306.54 1458.43 1304.69 1456.27 Q1302.86 1454.1 1299.71 1454.1 Q1296.57 1454.1 1294.71 1456.27 Q1292.89 1458.43 1292.89 1462.15 Q1292.89 1465.9 1294.71 1468.06 Q1296.57 1470.21 1299.71 1470.21 Z\" fill=\"#000000\" fill-rule=\"evenodd\" fill-opacity=\"1\" /><path clip-path=\"url(#clip270)\" d=\"M1647.99 1481.64 L1655.63 1481.64 L1655.63 1455.28 L1647.32 1456.95 L1647.32 1452.69 L1655.59 1451.02 L1660.26 1451.02 L1660.26 1481.64 L1667.9 1481.64 L1667.9 1485.58 L1647.99 1485.58 L1647.99 1481.64 Z\" fill=\"#000000\" fill-rule=\"evenodd\" fill-opacity=\"1\" /><path clip-path=\"url(#clip270)\" d=\"M1681.37 1481.64 L1697.69 1481.64 L1697.69 1485.58 L1675.75 1485.58 L1675.75 1481.64 Q1678.41 1478.89 1682.99 1474.26 Q1687.6 1469.61 1688.78 1468.27 Q1691.02 1465.74 1691.9 1464.01 Q1692.81 1462.25 1692.81 1460.56 Q1692.81 1457.8 1690.86 1456.07 Q1688.94 1454.33 1685.84 1454.33 Q1683.64 1454.33 1681.19 1455.09 Q1678.76 1455.86 1675.98 1457.41 L1675.98 1452.69 Q1678.8 1451.55 1681.26 1450.97 Q1683.71 1450.39 1685.75 1450.39 Q1691.12 1450.39 1694.31 1453.08 Q1697.51 1455.77 1697.51 1460.26 Q1697.51 1462.39 1696.7 1464.31 Q1695.91 1466.2 1693.8 1468.8 Q1693.22 1469.47 1690.12 1472.69 Q1687.02 1475.88 1681.37 1481.64 Z\" fill=\"#000000\" fill-rule=\"evenodd\" fill-opacity=\"1\" /><path clip-path=\"url(#clip270)\" d=\"M2020.09 1481.64 L2027.73 1481.64 L2027.73 1455.28 L2019.42 1456.95 L2019.42 1452.69 L2027.68 1451.02 L2032.36 1451.02 L2032.36 1481.64 L2040 1481.64 L2040 1485.58 L2020.09 1485.58 L2020.09 1481.64 Z\" fill=\"#000000\" fill-rule=\"evenodd\" fill-opacity=\"1\" /><path clip-path=\"url(#clip270)\" d=\"M2049.49 1451.02 L2067.85 1451.02 L2067.85 1454.96 L2053.77 1454.96 L2053.77 1463.43 Q2054.79 1463.08 2055.81 1462.92 Q2056.83 1462.73 2057.85 1462.73 Q2063.63 1462.73 2067.01 1465.9 Q2070.39 1469.08 2070.39 1474.49 Q2070.39 1480.07 2066.92 1483.17 Q2063.45 1486.25 2057.13 1486.25 Q2054.95 1486.25 2052.68 1485.88 Q2050.44 1485.51 2048.03 1484.77 L2048.03 1480.07 Q2050.11 1481.2 2052.34 1481.76 Q2054.56 1482.32 2057.04 1482.32 Q2061.04 1482.32 2063.38 1480.21 Q2065.72 1478.1 2065.72 1474.49 Q2065.72 1470.88 2063.38 1468.77 Q2061.04 1466.67 2057.04 1466.67 Q2055.16 1466.67 2053.29 1467.08 Q2051.43 1467.5 2049.49 1468.38 L2049.49 1451.02 Z\" fill=\"#000000\" fill-rule=\"evenodd\" fill-opacity=\"1\" /><path clip-path=\"url(#clip270)\" d=\"M1297.18 1532.4 L1303.04 1532.4 L1303.04 1568.04 L1297.18 1568.04 L1297.18 1532.4 M1297.18 1518.52 L1303.04 1518.52 L1303.04 1525.93 L1297.18 1525.93 L1297.18 1518.52 Z\" fill=\"#000000\" fill-rule=\"evenodd\" fill-opacity=\"1\" /><polyline clip-path=\"url(#clip272)\" style=\"stroke:#000000; stroke-linecap:butt; stroke-linejoin:round; stroke-width:2; stroke-opacity:0.1; fill:none\" points=\"\n",
       "  247.459,1386.4 2352.76,1386.4 \n",
       "  \"/>\n",
       "<polyline clip-path=\"url(#clip272)\" style=\"stroke:#000000; stroke-linecap:butt; stroke-linejoin:round; stroke-width:2; stroke-opacity:0.1; fill:none\" points=\"\n",
       "  247.459,1141.17 2352.76,1141.17 \n",
       "  \"/>\n",
       "<polyline clip-path=\"url(#clip272)\" style=\"stroke:#000000; stroke-linecap:butt; stroke-linejoin:round; stroke-width:2; stroke-opacity:0.1; fill:none\" points=\"\n",
       "  247.459,895.94 2352.76,895.94 \n",
       "  \"/>\n",
       "<polyline clip-path=\"url(#clip272)\" style=\"stroke:#000000; stroke-linecap:butt; stroke-linejoin:round; stroke-width:2; stroke-opacity:0.1; fill:none\" points=\"\n",
       "  247.459,650.712 2352.76,650.712 \n",
       "  \"/>\n",
       "<polyline clip-path=\"url(#clip272)\" style=\"stroke:#000000; stroke-linecap:butt; stroke-linejoin:round; stroke-width:2; stroke-opacity:0.1; fill:none\" points=\"\n",
       "  247.459,405.484 2352.76,405.484 \n",
       "  \"/>\n",
       "<polyline clip-path=\"url(#clip272)\" style=\"stroke:#000000; stroke-linecap:butt; stroke-linejoin:round; stroke-width:2; stroke-opacity:0.1; fill:none\" points=\"\n",
       "  247.459,160.256 2352.76,160.256 \n",
       "  \"/>\n",
       "<polyline clip-path=\"url(#clip270)\" style=\"stroke:#000000; stroke-linecap:butt; stroke-linejoin:round; stroke-width:4; stroke-opacity:1; fill:none\" points=\"\n",
       "  247.459,1423.18 247.459,123.472 \n",
       "  \"/>\n",
       "<polyline clip-path=\"url(#clip270)\" style=\"stroke:#000000; stroke-linecap:butt; stroke-linejoin:round; stroke-width:4; stroke-opacity:1; fill:none\" points=\"\n",
       "  247.459,1386.4 266.356,1386.4 \n",
       "  \"/>\n",
       "<polyline clip-path=\"url(#clip270)\" style=\"stroke:#000000; stroke-linecap:butt; stroke-linejoin:round; stroke-width:4; stroke-opacity:1; fill:none\" points=\"\n",
       "  247.459,1141.17 266.356,1141.17 \n",
       "  \"/>\n",
       "<polyline clip-path=\"url(#clip270)\" style=\"stroke:#000000; stroke-linecap:butt; stroke-linejoin:round; stroke-width:4; stroke-opacity:1; fill:none\" points=\"\n",
       "  247.459,895.94 266.356,895.94 \n",
       "  \"/>\n",
       "<polyline clip-path=\"url(#clip270)\" style=\"stroke:#000000; stroke-linecap:butt; stroke-linejoin:round; stroke-width:4; stroke-opacity:1; fill:none\" points=\"\n",
       "  247.459,650.712 266.356,650.712 \n",
       "  \"/>\n",
       "<polyline clip-path=\"url(#clip270)\" style=\"stroke:#000000; stroke-linecap:butt; stroke-linejoin:round; stroke-width:4; stroke-opacity:1; fill:none\" points=\"\n",
       "  247.459,405.484 266.356,405.484 \n",
       "  \"/>\n",
       "<polyline clip-path=\"url(#clip270)\" style=\"stroke:#000000; stroke-linecap:butt; stroke-linejoin:round; stroke-width:4; stroke-opacity:1; fill:none\" points=\"\n",
       "  247.459,160.256 266.356,160.256 \n",
       "  \"/>\n",
       "<path clip-path=\"url(#clip270)\" d=\"M114.931 1399.74 L122.57 1399.74 L122.57 1373.37 L114.26 1375.04 L114.26 1370.78 L122.524 1369.12 L127.2 1369.12 L127.2 1399.74 L134.839 1399.74 L134.839 1403.68 L114.931 1403.68 L114.931 1399.74 Z\" fill=\"#000000\" fill-rule=\"evenodd\" fill-opacity=\"1\" /><path clip-path=\"url(#clip270)\" d=\"M144.283 1397.8 L149.167 1397.8 L149.167 1403.68 L144.283 1403.68 L144.283 1397.8 Z\" fill=\"#000000\" fill-rule=\"evenodd\" fill-opacity=\"1\" /><path clip-path=\"url(#clip270)\" d=\"M159.399 1369.12 L177.755 1369.12 L177.755 1373.05 L163.681 1373.05 L163.681 1381.52 Q164.7 1381.18 165.718 1381.01 Q166.737 1380.83 167.755 1380.83 Q173.542 1380.83 176.922 1384 Q180.301 1387.17 180.301 1392.59 Q180.301 1398.17 176.829 1401.27 Q173.357 1404.35 167.038 1404.35 Q164.862 1404.35 162.593 1403.98 Q160.348 1403.61 157.94 1402.87 L157.94 1398.17 Q160.024 1399.3 162.246 1399.86 Q164.468 1400.41 166.945 1400.41 Q170.95 1400.41 173.288 1398.31 Q175.626 1396.2 175.626 1392.59 Q175.626 1388.98 173.288 1386.87 Q170.95 1384.76 166.945 1384.76 Q165.07 1384.76 163.195 1385.18 Q161.343 1385.6 159.399 1386.48 L159.399 1369.12 Z\" fill=\"#000000\" fill-rule=\"evenodd\" fill-opacity=\"1\" /><path clip-path=\"url(#clip270)\" d=\"M199.514 1372.19 Q195.903 1372.19 194.075 1375.76 Q192.269 1379.3 192.269 1386.43 Q192.269 1393.54 194.075 1397.1 Q195.903 1400.64 199.514 1400.64 Q203.149 1400.64 204.954 1397.1 Q206.783 1393.54 206.783 1386.43 Q206.783 1379.3 204.954 1375.76 Q203.149 1372.19 199.514 1372.19 M199.514 1368.49 Q205.324 1368.49 208.38 1373.1 Q211.459 1377.68 211.459 1386.43 Q211.459 1395.16 208.38 1399.76 Q205.324 1404.35 199.514 1404.35 Q193.704 1404.35 190.625 1399.76 Q187.57 1395.16 187.57 1386.43 Q187.57 1377.68 190.625 1373.1 Q193.704 1368.49 199.514 1368.49 Z\" fill=\"#000000\" fill-rule=\"evenodd\" fill-opacity=\"1\" /><path clip-path=\"url(#clip270)\" d=\"M115.927 1154.51 L123.566 1154.51 L123.566 1128.15 L115.256 1129.81 L115.256 1125.55 L123.519 1123.89 L128.195 1123.89 L128.195 1154.51 L135.834 1154.51 L135.834 1158.45 L115.927 1158.45 L115.927 1154.51 Z\" fill=\"#000000\" fill-rule=\"evenodd\" fill-opacity=\"1\" /><path clip-path=\"url(#clip270)\" d=\"M145.279 1152.57 L150.163 1152.57 L150.163 1158.45 L145.279 1158.45 L145.279 1152.57 Z\" fill=\"#000000\" fill-rule=\"evenodd\" fill-opacity=\"1\" /><path clip-path=\"url(#clip270)\" d=\"M160.394 1123.89 L178.751 1123.89 L178.751 1127.82 L164.677 1127.82 L164.677 1136.3 Q165.695 1135.95 166.714 1135.79 Q167.732 1135.6 168.751 1135.6 Q174.538 1135.6 177.917 1138.77 Q181.297 1141.94 181.297 1147.36 Q181.297 1152.94 177.825 1156.04 Q174.352 1159.12 168.033 1159.12 Q165.857 1159.12 163.589 1158.75 Q161.343 1158.38 158.936 1157.64 L158.936 1152.94 Q161.019 1154.07 163.241 1154.63 Q165.464 1155.18 167.94 1155.18 Q171.945 1155.18 174.283 1153.08 Q176.621 1150.97 176.621 1147.36 Q176.621 1143.75 174.283 1141.64 Q171.945 1139.54 167.94 1139.54 Q166.065 1139.54 164.19 1139.95 Q162.339 1140.37 160.394 1141.25 L160.394 1123.89 Z\" fill=\"#000000\" fill-rule=\"evenodd\" fill-opacity=\"1\" /><path clip-path=\"url(#clip270)\" d=\"M190.556 1123.89 L208.912 1123.89 L208.912 1127.82 L194.838 1127.82 L194.838 1136.3 Q195.857 1135.95 196.875 1135.79 Q197.894 1135.6 198.912 1135.6 Q204.699 1135.6 208.079 1138.77 Q211.459 1141.94 211.459 1147.36 Q211.459 1152.94 207.987 1156.04 Q204.514 1159.12 198.195 1159.12 Q196.019 1159.12 193.75 1158.75 Q191.505 1158.38 189.098 1157.64 L189.098 1152.94 Q191.181 1154.07 193.403 1154.63 Q195.625 1155.18 198.102 1155.18 Q202.107 1155.18 204.445 1153.08 Q206.783 1150.97 206.783 1147.36 Q206.783 1143.75 204.445 1141.64 Q202.107 1139.54 198.102 1139.54 Q196.227 1139.54 194.352 1139.95 Q192.5 1140.37 190.556 1141.25 L190.556 1123.89 Z\" fill=\"#000000\" fill-rule=\"evenodd\" fill-opacity=\"1\" /><path clip-path=\"url(#clip270)\" d=\"M114.931 909.285 L122.57 909.285 L122.57 882.919 L114.26 884.586 L114.26 880.327 L122.524 878.66 L127.2 878.66 L127.2 909.285 L134.839 909.285 L134.839 913.22 L114.931 913.22 L114.931 909.285 Z\" fill=\"#000000\" fill-rule=\"evenodd\" fill-opacity=\"1\" /><path clip-path=\"url(#clip270)\" d=\"M144.283 907.34 L149.167 907.34 L149.167 913.22 L144.283 913.22 L144.283 907.34 Z\" fill=\"#000000\" fill-rule=\"evenodd\" fill-opacity=\"1\" /><path clip-path=\"url(#clip270)\" d=\"M169.931 894.077 Q166.783 894.077 164.931 896.229 Q163.102 898.382 163.102 902.132 Q163.102 905.859 164.931 908.035 Q166.783 910.188 169.931 910.188 Q173.079 910.188 174.908 908.035 Q176.76 905.859 176.76 902.132 Q176.76 898.382 174.908 896.229 Q173.079 894.077 169.931 894.077 M179.214 879.424 L179.214 883.683 Q177.454 882.85 175.649 882.41 Q173.866 881.97 172.107 881.97 Q167.477 881.97 165.024 885.095 Q162.593 888.22 162.246 894.539 Q163.612 892.526 165.672 891.461 Q167.732 890.373 170.209 890.373 Q175.417 890.373 178.426 893.544 Q181.459 896.692 181.459 902.132 Q181.459 907.456 178.311 910.674 Q175.163 913.891 169.931 913.891 Q163.936 913.891 160.765 909.308 Q157.593 904.701 157.593 895.975 Q157.593 887.78 161.482 882.919 Q165.371 878.035 171.922 878.035 Q173.681 878.035 175.464 878.382 Q177.269 878.729 179.214 879.424 Z\" fill=\"#000000\" fill-rule=\"evenodd\" fill-opacity=\"1\" /><path clip-path=\"url(#clip270)\" d=\"M199.514 881.739 Q195.903 881.739 194.075 885.303 Q192.269 888.845 192.269 895.975 Q192.269 903.081 194.075 906.646 Q195.903 910.188 199.514 910.188 Q203.149 910.188 204.954 906.646 Q206.783 903.081 206.783 895.975 Q206.783 888.845 204.954 885.303 Q203.149 881.739 199.514 881.739 M199.514 878.035 Q205.324 878.035 208.38 882.641 Q211.459 887.225 211.459 895.975 Q211.459 904.701 208.38 909.308 Q205.324 913.891 199.514 913.891 Q193.704 913.891 190.625 909.308 Q187.57 904.701 187.57 895.975 Q187.57 887.225 190.625 882.641 Q193.704 878.035 199.514 878.035 Z\" fill=\"#000000\" fill-rule=\"evenodd\" fill-opacity=\"1\" /><path clip-path=\"url(#clip270)\" d=\"M115.927 664.057 L123.566 664.057 L123.566 637.691 L115.256 639.358 L115.256 635.099 L123.519 633.432 L128.195 633.432 L128.195 664.057 L135.834 664.057 L135.834 667.992 L115.927 667.992 L115.927 664.057 Z\" fill=\"#000000\" fill-rule=\"evenodd\" fill-opacity=\"1\" /><path clip-path=\"url(#clip270)\" d=\"M145.279 662.112 L150.163 662.112 L150.163 667.992 L145.279 667.992 L145.279 662.112 Z\" fill=\"#000000\" fill-rule=\"evenodd\" fill-opacity=\"1\" /><path clip-path=\"url(#clip270)\" d=\"M170.927 648.849 Q167.778 648.849 165.927 651.001 Q164.098 653.154 164.098 656.904 Q164.098 660.631 165.927 662.807 Q167.778 664.96 170.927 664.96 Q174.075 664.96 175.903 662.807 Q177.755 660.631 177.755 656.904 Q177.755 653.154 175.903 651.001 Q174.075 648.849 170.927 648.849 M180.209 634.196 L180.209 638.455 Q178.45 637.622 176.644 637.182 Q174.862 636.742 173.102 636.742 Q168.473 636.742 166.019 639.867 Q163.589 642.992 163.241 649.312 Q164.607 647.298 166.667 646.233 Q168.727 645.145 171.204 645.145 Q176.413 645.145 179.422 648.316 Q182.454 651.464 182.454 656.904 Q182.454 662.228 179.306 665.446 Q176.158 668.663 170.927 668.663 Q164.931 668.663 161.76 664.08 Q158.589 659.474 158.589 650.747 Q158.589 642.552 162.477 637.691 Q166.366 632.807 172.917 632.807 Q174.677 632.807 176.459 633.154 Q178.264 633.501 180.209 634.196 Z\" fill=\"#000000\" fill-rule=\"evenodd\" fill-opacity=\"1\" /><path clip-path=\"url(#clip270)\" d=\"M190.556 633.432 L208.912 633.432 L208.912 637.367 L194.838 637.367 L194.838 645.839 Q195.857 645.492 196.875 645.33 Q197.894 645.145 198.912 645.145 Q204.699 645.145 208.079 648.316 Q211.459 651.488 211.459 656.904 Q211.459 662.483 207.987 665.585 Q204.514 668.663 198.195 668.663 Q196.019 668.663 193.75 668.293 Q191.505 667.923 189.098 667.182 L189.098 662.483 Q191.181 663.617 193.403 664.173 Q195.625 664.728 198.102 664.728 Q202.107 664.728 204.445 662.622 Q206.783 660.515 206.783 656.904 Q206.783 653.293 204.445 651.187 Q202.107 649.08 198.102 649.08 Q196.227 649.08 194.352 649.497 Q192.5 649.913 190.556 650.793 L190.556 633.432 Z\" fill=\"#000000\" fill-rule=\"evenodd\" fill-opacity=\"1\" /><path clip-path=\"url(#clip270)\" d=\"M114.931 418.829 L122.57 418.829 L122.57 392.463 L114.26 394.13 L114.26 389.871 L122.524 388.204 L127.2 388.204 L127.2 418.829 L134.839 418.829 L134.839 422.764 L114.931 422.764 L114.931 418.829 Z\" fill=\"#000000\" fill-rule=\"evenodd\" fill-opacity=\"1\" /><path clip-path=\"url(#clip270)\" d=\"M144.283 416.885 L149.167 416.885 L149.167 422.764 L144.283 422.764 L144.283 416.885 Z\" fill=\"#000000\" fill-rule=\"evenodd\" fill-opacity=\"1\" /><path clip-path=\"url(#clip270)\" d=\"M158.172 388.204 L180.394 388.204 L180.394 390.195 L167.848 422.764 L162.964 422.764 L174.769 392.139 L158.172 392.139 L158.172 388.204 Z\" fill=\"#000000\" fill-rule=\"evenodd\" fill-opacity=\"1\" /><path clip-path=\"url(#clip270)\" d=\"M199.514 391.283 Q195.903 391.283 194.075 394.848 Q192.269 398.389 192.269 405.519 Q192.269 412.625 194.075 416.19 Q195.903 419.732 199.514 419.732 Q203.149 419.732 204.954 416.19 Q206.783 412.625 206.783 405.519 Q206.783 398.389 204.954 394.848 Q203.149 391.283 199.514 391.283 M199.514 387.579 Q205.324 387.579 208.38 392.186 Q211.459 396.769 211.459 405.519 Q211.459 414.246 208.38 418.852 Q205.324 423.435 199.514 423.435 Q193.704 423.435 190.625 418.852 Q187.57 414.246 187.57 405.519 Q187.57 396.769 190.625 392.186 Q193.704 387.579 199.514 387.579 Z\" fill=\"#000000\" fill-rule=\"evenodd\" fill-opacity=\"1\" /><path clip-path=\"url(#clip270)\" d=\"M115.927 173.601 L123.566 173.601 L123.566 147.236 L115.256 148.902 L115.256 144.643 L123.519 142.976 L128.195 142.976 L128.195 173.601 L135.834 173.601 L135.834 177.536 L115.927 177.536 L115.927 173.601 Z\" fill=\"#000000\" fill-rule=\"evenodd\" fill-opacity=\"1\" /><path clip-path=\"url(#clip270)\" d=\"M145.279 171.657 L150.163 171.657 L150.163 177.536 L145.279 177.536 L145.279 171.657 Z\" fill=\"#000000\" fill-rule=\"evenodd\" fill-opacity=\"1\" /><path clip-path=\"url(#clip270)\" d=\"M159.167 142.976 L181.389 142.976 L181.389 144.967 L168.843 177.536 L163.959 177.536 L175.764 146.911 L159.167 146.911 L159.167 142.976 Z\" fill=\"#000000\" fill-rule=\"evenodd\" fill-opacity=\"1\" /><path clip-path=\"url(#clip270)\" d=\"M190.556 142.976 L208.912 142.976 L208.912 146.911 L194.838 146.911 L194.838 155.384 Q195.857 155.036 196.875 154.874 Q197.894 154.689 198.912 154.689 Q204.699 154.689 208.079 157.86 Q211.459 161.032 211.459 166.448 Q211.459 172.027 207.987 175.129 Q204.514 178.208 198.195 178.208 Q196.019 178.208 193.75 177.837 Q191.505 177.467 189.098 176.726 L189.098 172.027 Q191.181 173.161 193.403 173.717 Q195.625 174.272 198.102 174.272 Q202.107 174.272 204.445 172.166 Q206.783 170.059 206.783 166.448 Q206.783 162.837 204.445 160.731 Q202.107 158.624 198.102 158.624 Q196.227 158.624 194.352 159.041 Q192.5 159.458 190.556 160.337 L190.556 142.976 Z\" fill=\"#000000\" fill-rule=\"evenodd\" fill-opacity=\"1\" /><path clip-path=\"url(#clip270)\" d=\"M28.3562 763.777 L45.7028 776.668 L64.0042 763.109 L64.0042 770.016 L49.9996 780.392 L64.0042 790.768 L64.0042 797.675 L45.3526 783.829 L28.3562 796.497 L28.3562 789.59 L41.0558 780.137 L28.3562 770.684 L28.3562 763.777 Z\" fill=\"#000000\" fill-rule=\"evenodd\" fill-opacity=\"1\" /><path clip-path=\"url(#clip270)\" d=\"M28.3562 754.834 L28.3562 748.977 L64.0042 748.977 L64.0042 754.834 L28.3562 754.834 M14.479 754.834 L14.479 748.977 L21.895 748.977 L21.895 754.834 L14.479 754.834 Z\" fill=\"#000000\" fill-rule=\"evenodd\" fill-opacity=\"1\" /><path clip-path=\"url(#clip270)\" d=\"M1137.16 27.2059 L1120.75 49.2833 L1138.01 72.576 L1129.22 72.576 L1116.01 54.752 L1102.81 72.576 L1094.02 72.576 L1111.64 48.8377 L1095.52 27.2059 L1104.31 27.2059 L1116.34 43.369 L1128.37 27.2059 L1137.16 27.2059 Z\" fill=\"#000000\" fill-rule=\"evenodd\" fill-opacity=\"1\" /><path clip-path=\"url(#clip270)\" d=\"M1148.54 27.2059 L1156 27.2059 L1156 72.576 L1148.54 72.576 L1148.54 27.2059 M1148.54 9.54393 L1156 9.54393 L1156 18.9825 L1148.54 18.9825 L1148.54 9.54393 Z\" fill=\"#000000\" fill-rule=\"evenodd\" fill-opacity=\"1\" /><path clip-path=\"url(#clip270)\" d=\"M1224.5 39.4801 L1224.5 46.6907 Q1220.24 49.8909 1216.6 51.2682 Q1212.99 52.6456 1209.06 52.6456 Q1204.61 52.6456 1198.69 50.2555 Q1198.25 50.0935 1198.04 50.0125 Q1197.76 49.8909 1197.15 49.6884 Q1190.87 47.1768 1187.07 47.1768 Q1183.5 47.1768 1180.02 48.7567 Q1176.53 50.296 1172.56 53.6583 L1172.56 46.4477 Q1176.82 43.2475 1180.42 41.8701 Q1184.07 40.4523 1188 40.4523 Q1192.45 40.4523 1198.41 42.8829 Q1198.81 43.0449 1199.02 43.1259 Q1199.34 43.2475 1199.91 43.45 Q1206.19 45.9616 1209.99 45.9616 Q1213.48 45.9616 1216.88 44.4222 Q1220.32 42.8829 1224.5 39.4801 Z\" fill=\"#000000\" fill-rule=\"evenodd\" fill-opacity=\"1\" /><path clip-path=\"url(#clip270)\" d=\"M1270.03 28.5427 L1270.03 35.5912 Q1266.87 33.9709 1263.47 33.1607 Q1260.06 32.3505 1256.42 32.3505 Q1250.87 32.3505 1248.07 34.0519 Q1245.32 35.7533 1245.32 39.156 Q1245.32 41.7486 1247.3 43.2475 Q1249.29 44.7058 1255.28 46.0426 L1257.84 46.6097 Q1265.78 48.3111 1269.1 51.4303 Q1272.46 54.509 1272.46 60.0587 Q1272.46 66.3781 1267.44 70.0644 Q1262.45 73.7508 1253.7 73.7508 Q1250.06 73.7508 1246.09 73.0216 Q1242.16 72.3329 1237.78 70.9151 L1237.78 63.2184 Q1241.92 65.3654 1245.93 66.4591 Q1249.94 67.5124 1253.87 67.5124 Q1259.13 67.5124 1261.97 65.73 Q1264.8 63.9071 1264.8 60.6258 Q1264.8 57.5877 1262.74 55.9673 Q1260.71 54.3469 1253.79 52.8481 L1251.19 52.2405 Q1244.27 50.7821 1241.19 47.7845 Q1238.11 44.7463 1238.11 39.4801 Q1238.11 33.0797 1242.65 29.5959 Q1247.18 26.1121 1255.53 26.1121 Q1259.66 26.1121 1263.3 26.7198 Q1266.95 27.3274 1270.03 28.5427 Z\" fill=\"#000000\" fill-rule=\"evenodd\" fill-opacity=\"1\" /><path clip-path=\"url(#clip270)\" d=\"M1288.79 49.9314 Q1288.79 58.1548 1292.15 62.8538 Q1295.55 67.5124 1301.46 67.5124 Q1307.38 67.5124 1310.78 62.8538 Q1314.18 58.1548 1314.18 49.9314 Q1314.18 41.7081 1310.78 37.0496 Q1307.38 32.3505 1301.46 32.3505 Q1295.55 32.3505 1292.15 37.0496 Q1288.79 41.7081 1288.79 49.9314 M1314.18 65.7705 Q1311.83 69.8214 1308.23 71.8063 Q1304.66 73.7508 1299.64 73.7508 Q1291.42 73.7508 1286.23 67.1883 Q1281.09 60.6258 1281.09 49.9314 Q1281.09 39.2371 1286.23 32.6746 Q1291.42 26.1121 1299.64 26.1121 Q1304.66 26.1121 1308.23 28.0971 Q1311.83 30.0415 1314.18 34.0924 L1314.18 27.2059 L1321.64 27.2059 L1321.64 89.8329 L1314.18 89.8329 L1314.18 65.7705 Z\" fill=\"#000000\" fill-rule=\"evenodd\" fill-opacity=\"1\" /><path clip-path=\"url(#clip270)\" d=\"M1363.28 34.1734 Q1362.03 33.4443 1360.53 33.1202 Q1359.07 32.7556 1357.29 32.7556 Q1350.97 32.7556 1347.56 36.8875 Q1344.2 40.9789 1344.2 48.6757 L1344.2 72.576 L1336.71 72.576 L1336.71 27.2059 L1344.2 27.2059 L1344.2 34.2544 Q1346.55 30.1225 1350.32 28.1376 Q1354.09 26.1121 1359.47 26.1121 Q1360.24 26.1121 1361.17 26.2337 Q1362.11 26.3147 1363.24 26.5172 L1363.28 34.1734 Z\" fill=\"#000000\" fill-rule=\"evenodd\" fill-opacity=\"1\" /><path clip-path=\"url(#clip270)\" d=\"M1378.47 14.324 L1378.47 27.2059 L1393.82 27.2059 L1393.82 32.9987 L1378.47 32.9987 L1378.47 57.6282 Q1378.47 63.1779 1379.97 64.7578 Q1381.51 66.3376 1386.17 66.3376 L1393.82 66.3376 L1393.82 72.576 L1386.17 72.576 Q1377.54 72.576 1374.26 69.3758 Q1370.98 66.1351 1370.98 57.6282 L1370.98 32.9987 L1365.51 32.9987 L1365.51 27.2059 L1370.98 27.2059 L1370.98 14.324 L1378.47 14.324 Z\" fill=\"#000000\" fill-rule=\"evenodd\" fill-opacity=\"1\" /><path clip-path=\"url(#clip270)\" d=\"M1421.53 9.62495 Q1416.1 18.942 1413.47 28.0566 Q1410.84 37.1711 1410.84 46.5287 Q1410.84 55.8863 1413.47 65.0818 Q1416.15 74.2369 1421.53 83.5134 L1415.05 83.5134 Q1408.98 73.9938 1405.94 64.7983 Q1402.94 55.6027 1402.94 46.5287 Q1402.94 37.4952 1405.94 28.3401 Q1408.93 19.1851 1415.05 9.62495 L1421.53 9.62495 Z\" fill=\"#000000\" fill-rule=\"evenodd\" fill-opacity=\"1\" /><path clip-path=\"url(#clip270)\" d=\"M1461.84 39.9662 Q1467.71 41.222 1470.99 45.1919 Q1474.32 49.1618 1474.32 54.9951 Q1474.32 63.9476 1468.16 68.8492 Q1462 73.7508 1450.66 73.7508 Q1446.85 73.7508 1442.8 72.9811 Q1438.79 72.2519 1434.5 70.7531 L1434.5 62.8538 Q1437.9 64.8388 1441.95 65.8515 Q1446 66.8642 1450.42 66.8642 Q1458.11 66.8642 1462.12 63.826 Q1466.17 60.7879 1466.17 54.9951 Q1466.17 49.6479 1462.41 46.6502 Q1458.68 43.612 1452 43.612 L1444.95 43.612 L1444.95 36.8875 L1452.32 36.8875 Q1458.36 36.8875 1461.56 34.4975 Q1464.76 32.067 1464.76 27.5299 Q1464.76 22.8714 1461.43 20.4004 Q1458.15 17.8888 1452 17.8888 Q1448.63 17.8888 1444.79 18.618 Q1440.94 19.3471 1436.32 20.8865 L1436.32 13.5948 Q1440.98 12.2985 1445.03 11.6504 Q1449.12 11.0023 1452.73 11.0023 Q1462.04 11.0023 1467.47 15.2557 Q1472.9 19.4686 1472.9 26.6793 Q1472.9 31.7024 1470.02 35.1862 Q1467.15 38.6294 1461.84 39.9662 Z\" fill=\"#000000\" fill-rule=\"evenodd\" fill-opacity=\"1\" /><path clip-path=\"url(#clip270)\" d=\"M1487.6 9.62495 L1494.08 9.62495 Q1500.16 19.1851 1503.16 28.3401 Q1506.2 37.4952 1506.2 46.5287 Q1506.2 55.6027 1503.16 64.7983 Q1500.16 73.9938 1494.08 83.5134 L1487.6 83.5134 Q1492.99 74.2369 1495.62 65.0818 Q1498.3 55.8863 1498.3 46.5287 Q1498.3 37.1711 1495.62 28.0566 Q1492.99 18.942 1487.6 9.62495 Z\" fill=\"#000000\" fill-rule=\"evenodd\" fill-opacity=\"1\" /><circle clip-path=\"url(#clip272)\" cx=\"307.043\" cy=\"1386.4\" r=\"14\" fill=\"#009af9\" fill-rule=\"evenodd\" fill-opacity=\"1\" stroke=\"#000000\" stroke-opacity=\"1\" stroke-width=\"3.2\"/>\n",
       "<circle clip-path=\"url(#clip272)\" cx=\"431.176\" cy=\"160.256\" r=\"14\" fill=\"#009af9\" fill-rule=\"evenodd\" fill-opacity=\"1\" stroke=\"#000000\" stroke-opacity=\"1\" stroke-width=\"3.2\"/>\n",
       "<circle clip-path=\"url(#clip272)\" cx=\"555.309\" cy=\"773.326\" r=\"14\" fill=\"#009af9\" fill-rule=\"evenodd\" fill-opacity=\"1\" stroke=\"#000000\" stroke-opacity=\"1\" stroke-width=\"3.2\"/>\n",
       "<circle clip-path=\"url(#clip272)\" cx=\"679.442\" cy=\"466.791\" r=\"14\" fill=\"#009af9\" fill-rule=\"evenodd\" fill-opacity=\"1\" stroke=\"#000000\" stroke-opacity=\"1\" stroke-width=\"3.2\"/>\n",
       "<circle clip-path=\"url(#clip272)\" cx=\"803.575\" cy=\"313.524\" r=\"14\" fill=\"#009af9\" fill-rule=\"evenodd\" fill-opacity=\"1\" stroke=\"#000000\" stroke-opacity=\"1\" stroke-width=\"3.2\"/>\n",
       "<circle clip-path=\"url(#clip272)\" cx=\"927.708\" cy=\"236.89\" r=\"14\" fill=\"#009af9\" fill-rule=\"evenodd\" fill-opacity=\"1\" stroke=\"#000000\" stroke-opacity=\"1\" stroke-width=\"3.2\"/>\n",
       "<circle clip-path=\"url(#clip272)\" cx=\"1051.84\" cy=\"275.207\" r=\"14\" fill=\"#009af9\" fill-rule=\"evenodd\" fill-opacity=\"1\" stroke=\"#000000\" stroke-opacity=\"1\" stroke-width=\"3.2\"/>\n",
       "<circle clip-path=\"url(#clip272)\" cx=\"1175.97\" cy=\"256.048\" r=\"14\" fill=\"#009af9\" fill-rule=\"evenodd\" fill-opacity=\"1\" stroke=\"#000000\" stroke-opacity=\"1\" stroke-width=\"3.2\"/>\n",
       "<circle clip-path=\"url(#clip272)\" cx=\"1300.11\" cy=\"246.469\" r=\"14\" fill=\"#009af9\" fill-rule=\"evenodd\" fill-opacity=\"1\" stroke=\"#000000\" stroke-opacity=\"1\" stroke-width=\"3.2\"/>\n",
       "<circle clip-path=\"url(#clip272)\" cx=\"1424.24\" cy=\"251.259\" r=\"14\" fill=\"#009af9\" fill-rule=\"evenodd\" fill-opacity=\"1\" stroke=\"#000000\" stroke-opacity=\"1\" stroke-width=\"3.2\"/>\n",
       "<circle clip-path=\"url(#clip272)\" cx=\"1548.37\" cy=\"248.864\" r=\"14\" fill=\"#009af9\" fill-rule=\"evenodd\" fill-opacity=\"1\" stroke=\"#000000\" stroke-opacity=\"1\" stroke-width=\"3.2\"/>\n",
       "<circle clip-path=\"url(#clip272)\" cx=\"1672.51\" cy=\"247.667\" r=\"14\" fill=\"#009af9\" fill-rule=\"evenodd\" fill-opacity=\"1\" stroke=\"#000000\" stroke-opacity=\"1\" stroke-width=\"3.2\"/>\n",
       "<circle clip-path=\"url(#clip272)\" cx=\"1796.64\" cy=\"248.265\" r=\"14\" fill=\"#009af9\" fill-rule=\"evenodd\" fill-opacity=\"1\" stroke=\"#000000\" stroke-opacity=\"1\" stroke-width=\"3.2\"/>\n",
       "<circle clip-path=\"url(#clip272)\" cx=\"1920.77\" cy=\"248.565\" r=\"14\" fill=\"#009af9\" fill-rule=\"evenodd\" fill-opacity=\"1\" stroke=\"#000000\" stroke-opacity=\"1\" stroke-width=\"3.2\"/>\n",
       "<circle clip-path=\"url(#clip272)\" cx=\"2044.91\" cy=\"248.415\" r=\"14\" fill=\"#009af9\" fill-rule=\"evenodd\" fill-opacity=\"1\" stroke=\"#000000\" stroke-opacity=\"1\" stroke-width=\"3.2\"/>\n",
       "<circle clip-path=\"url(#clip272)\" cx=\"2169.04\" cy=\"248.34\" r=\"14\" fill=\"#009af9\" fill-rule=\"evenodd\" fill-opacity=\"1\" stroke=\"#000000\" stroke-opacity=\"1\" stroke-width=\"3.2\"/>\n",
       "<circle clip-path=\"url(#clip272)\" cx=\"2293.17\" cy=\"248.303\" r=\"14\" fill=\"#009af9\" fill-rule=\"evenodd\" fill-opacity=\"1\" stroke=\"#000000\" stroke-opacity=\"1\" stroke-width=\"3.2\"/>\n",
       "<path clip-path=\"url(#clip270)\" d=\"\n",
       "M1996.23 270.476 L2282.58 270.476 L2282.58 166.796 L1996.23 166.796  Z\n",
       "  \" fill=\"#ffffff\" fill-rule=\"evenodd\" fill-opacity=\"1\"/>\n",
       "<polyline clip-path=\"url(#clip270)\" style=\"stroke:#000000; stroke-linecap:butt; stroke-linejoin:round; stroke-width:4; stroke-opacity:1; fill:none\" points=\"\n",
       "  1996.23,270.476 2282.58,270.476 2282.58,166.796 1996.23,166.796 1996.23,270.476 \n",
       "  \"/>\n",
       "<circle clip-path=\"url(#clip270)\" cx=\"2089.8\" cy=\"218.636\" r=\"23\" fill=\"#009af9\" fill-rule=\"evenodd\" fill-opacity=\"1\" stroke=\"#000000\" stroke-opacity=\"1\" stroke-width=\"5.12\"/>\n",
       "<path clip-path=\"url(#clip270)\" d=\"M2197.21 238.323 Q2195.4 242.953 2193.69 244.365 Q2191.98 245.777 2189.11 245.777 L2185.7 245.777 L2185.7 242.212 L2188.2 242.212 Q2189.96 242.212 2190.93 241.379 Q2191.91 240.545 2193.09 237.443 L2193.85 235.499 L2183.36 209.99 L2187.88 209.99 L2195.98 230.268 L2204.08 209.99 L2208.6 209.99 L2197.21 238.323 Z\" fill=\"#000000\" fill-rule=\"evenodd\" fill-opacity=\"1\" /><path clip-path=\"url(#clip270)\" d=\"M2215.89 231.981 L2223.53 231.981 L2223.53 205.615 L2215.22 207.282 L2215.22 203.022 L2223.48 201.356 L2228.16 201.356 L2228.16 231.981 L2235.79 231.981 L2235.79 235.916 L2215.89 235.916 L2215.89 231.981 Z\" fill=\"#000000\" fill-rule=\"evenodd\" fill-opacity=\"1\" /></svg>\n"
      ]
     },
     "execution_count": 665,
     "metadata": {},
     "output_type": "execute_result"
    }
   ],
   "source": [
    "scatter(Vp, title=\"xi~sqrt(3)\",xlabel=\"i\", ylabel=\"xi\")"
   ]
  },
  {
   "cell_type": "markdown",
   "metadata": {},
   "source": [
    "**1.c.**"
   ]
  },
  {
   "cell_type": "code",
   "execution_count": 666,
   "metadata": {},
   "outputs": [
    {
     "data": {
      "image/svg+xml": [
       "<?xml version=\"1.0\" encoding=\"utf-8\"?>\n",
       "<svg xmlns=\"http://www.w3.org/2000/svg\" xmlns:xlink=\"http://www.w3.org/1999/xlink\" width=\"600\" height=\"400\" viewBox=\"0 0 2400 1600\">\n",
       "<defs>\n",
       "  <clipPath id=\"clip310\">\n",
       "    <rect x=\"0\" y=\"0\" width=\"2400\" height=\"1600\"/>\n",
       "  </clipPath>\n",
       "</defs>\n",
       "<path clip-path=\"url(#clip310)\" d=\"\n",
       "M0 1600 L2400 1600 L2400 0 L0 0  Z\n",
       "  \" fill=\"#ffffff\" fill-rule=\"evenodd\" fill-opacity=\"1\"/>\n",
       "<defs>\n",
       "  <clipPath id=\"clip311\">\n",
       "    <rect x=\"480\" y=\"0\" width=\"1681\" height=\"1600\"/>\n",
       "  </clipPath>\n",
       "</defs>\n",
       "<path clip-path=\"url(#clip310)\" d=\"\n",
       "M386.619 1423.18 L2352.76 1423.18 L2352.76 123.472 L386.619 123.472  Z\n",
       "  \" fill=\"#ffffff\" fill-rule=\"evenodd\" fill-opacity=\"1\"/>\n",
       "<defs>\n",
       "  <clipPath id=\"clip312\">\n",
       "    <rect x=\"386\" y=\"123\" width=\"1967\" height=\"1301\"/>\n",
       "  </clipPath>\n",
       "</defs>\n",
       "<polyline clip-path=\"url(#clip312)\" style=\"stroke:#000000; stroke-linecap:butt; stroke-linejoin:round; stroke-width:2; stroke-opacity:0.1; fill:none\" points=\"\n",
       "  674.12,1423.18 674.12,123.472 \n",
       "  \"/>\n",
       "<polyline clip-path=\"url(#clip312)\" style=\"stroke:#000000; stroke-linecap:butt; stroke-linejoin:round; stroke-width:2; stroke-opacity:0.1; fill:none\" points=\"\n",
       "  1021.9,1423.18 1021.9,123.472 \n",
       "  \"/>\n",
       "<polyline clip-path=\"url(#clip312)\" style=\"stroke:#000000; stroke-linecap:butt; stroke-linejoin:round; stroke-width:2; stroke-opacity:0.1; fill:none\" points=\"\n",
       "  1369.69,1423.18 1369.69,123.472 \n",
       "  \"/>\n",
       "<polyline clip-path=\"url(#clip312)\" style=\"stroke:#000000; stroke-linecap:butt; stroke-linejoin:round; stroke-width:2; stroke-opacity:0.1; fill:none\" points=\"\n",
       "  1717.47,1423.18 1717.47,123.472 \n",
       "  \"/>\n",
       "<polyline clip-path=\"url(#clip312)\" style=\"stroke:#000000; stroke-linecap:butt; stroke-linejoin:round; stroke-width:2; stroke-opacity:0.1; fill:none\" points=\"\n",
       "  2065.25,1423.18 2065.25,123.472 \n",
       "  \"/>\n",
       "<polyline clip-path=\"url(#clip310)\" style=\"stroke:#000000; stroke-linecap:butt; stroke-linejoin:round; stroke-width:4; stroke-opacity:1; fill:none\" points=\"\n",
       "  386.619,1423.18 2352.76,1423.18 \n",
       "  \"/>\n",
       "<path clip-path=\"url(#clip310)\" d=\"M678.368 1466.95 Q681.724 1467.66 683.599 1469.93 Q685.497 1472.2 685.497 1475.53 Q685.497 1480.65 681.979 1483.45 Q678.46 1486.25 671.979 1486.25 Q669.803 1486.25 667.488 1485.81 Q665.196 1485.39 662.743 1484.54 L662.743 1480.02 Q664.687 1481.16 667.002 1481.74 Q669.317 1482.32 671.84 1482.32 Q676.238 1482.32 678.53 1480.58 Q680.845 1478.84 680.845 1475.53 Q680.845 1472.48 678.692 1470.77 Q676.562 1469.03 672.743 1469.03 L668.715 1469.03 L668.715 1465.19 L672.928 1465.19 Q676.377 1465.19 678.206 1463.82 Q680.034 1462.43 680.034 1459.84 Q680.034 1457.18 678.136 1455.77 Q676.261 1454.33 672.743 1454.33 Q670.821 1454.33 668.622 1454.75 Q666.423 1455.16 663.784 1456.04 L663.784 1451.88 Q666.446 1451.14 668.761 1450.77 Q671.099 1450.39 673.159 1450.39 Q678.483 1450.39 681.585 1452.83 Q684.687 1455.23 684.687 1459.35 Q684.687 1462.22 683.044 1464.21 Q681.4 1466.18 678.368 1466.95 Z\" fill=\"#000000\" fill-rule=\"evenodd\" fill-opacity=\"1\" /><path clip-path=\"url(#clip310)\" d=\"M1022.31 1466.44 Q1019.16 1466.44 1017.31 1468.59 Q1015.48 1470.74 1015.48 1474.49 Q1015.48 1478.22 1017.31 1480.39 Q1019.16 1482.55 1022.31 1482.55 Q1025.46 1482.55 1027.29 1480.39 Q1029.14 1478.22 1029.14 1474.49 Q1029.14 1470.74 1027.29 1468.59 Q1025.46 1466.44 1022.31 1466.44 M1031.59 1451.78 L1031.59 1456.04 Q1029.83 1455.21 1028.03 1454.77 Q1026.24 1454.33 1024.48 1454.33 Q1019.86 1454.33 1017.4 1457.45 Q1014.97 1460.58 1014.62 1466.9 Q1015.99 1464.89 1018.05 1463.82 Q1020.11 1462.73 1022.59 1462.73 Q1027.79 1462.73 1030.8 1465.9 Q1033.84 1469.05 1033.84 1474.49 Q1033.84 1479.82 1030.69 1483.03 Q1027.54 1486.25 1022.31 1486.25 Q1016.31 1486.25 1013.14 1481.67 Q1009.97 1477.06 1009.97 1468.33 Q1009.97 1460.14 1013.86 1455.28 Q1017.75 1450.39 1024.3 1450.39 Q1026.06 1450.39 1027.84 1450.74 Q1029.65 1451.09 1031.59 1451.78 Z\" fill=\"#000000\" fill-rule=\"evenodd\" fill-opacity=\"1\" /><path clip-path=\"url(#clip310)\" d=\"M1359.99 1484.86 L1359.99 1480.6 Q1361.75 1481.44 1363.55 1481.88 Q1365.36 1482.32 1367.09 1482.32 Q1371.72 1482.32 1374.15 1479.21 Q1376.61 1476.09 1376.96 1469.75 Q1375.61 1471.74 1373.55 1472.8 Q1371.49 1473.87 1368.99 1473.87 Q1363.81 1473.87 1360.78 1470.74 Q1357.77 1467.59 1357.77 1462.15 Q1357.77 1456.83 1360.91 1453.61 Q1364.06 1450.39 1369.29 1450.39 Q1375.29 1450.39 1378.44 1455 Q1381.61 1459.58 1381.61 1468.33 Q1381.61 1476.51 1377.72 1481.39 Q1373.85 1486.25 1367.3 1486.25 Q1365.54 1486.25 1363.74 1485.9 Q1361.93 1485.56 1359.99 1484.86 M1369.29 1470.21 Q1372.44 1470.21 1374.27 1468.06 Q1376.12 1465.9 1376.12 1462.15 Q1376.12 1458.43 1374.27 1456.27 Q1372.44 1454.1 1369.29 1454.1 Q1366.15 1454.1 1364.29 1456.27 Q1362.47 1458.43 1362.47 1462.15 Q1362.47 1465.9 1364.29 1468.06 Q1366.15 1470.21 1369.29 1470.21 Z\" fill=\"#000000\" fill-rule=\"evenodd\" fill-opacity=\"1\" /><path clip-path=\"url(#clip310)\" d=\"M1692.96 1481.64 L1700.6 1481.64 L1700.6 1455.28 L1692.29 1456.95 L1692.29 1452.69 L1700.55 1451.02 L1705.23 1451.02 L1705.23 1481.64 L1712.86 1481.64 L1712.86 1485.58 L1692.96 1485.58 L1692.96 1481.64 Z\" fill=\"#000000\" fill-rule=\"evenodd\" fill-opacity=\"1\" /><path clip-path=\"url(#clip310)\" d=\"M1726.34 1481.64 L1742.66 1481.64 L1742.66 1485.58 L1720.71 1485.58 L1720.71 1481.64 Q1723.37 1478.89 1727.96 1474.26 Q1732.56 1469.61 1733.74 1468.27 Q1735.99 1465.74 1736.87 1464.01 Q1737.77 1462.25 1737.77 1460.56 Q1737.77 1457.8 1735.83 1456.07 Q1733.91 1454.33 1730.8 1454.33 Q1728.61 1454.33 1726.15 1455.09 Q1723.72 1455.86 1720.94 1457.41 L1720.94 1452.69 Q1723.77 1451.55 1726.22 1450.97 Q1728.67 1450.39 1730.71 1450.39 Q1736.08 1450.39 1739.28 1453.08 Q1742.47 1455.77 1742.47 1460.26 Q1742.47 1462.39 1741.66 1464.31 Q1740.87 1466.2 1738.77 1468.8 Q1738.19 1469.47 1735.09 1472.69 Q1731.98 1475.88 1726.34 1481.64 Z\" fill=\"#000000\" fill-rule=\"evenodd\" fill-opacity=\"1\" /><path clip-path=\"url(#clip310)\" d=\"M2040.44 1481.64 L2048.08 1481.64 L2048.08 1455.28 L2039.77 1456.95 L2039.77 1452.69 L2048.03 1451.02 L2052.71 1451.02 L2052.71 1481.64 L2060.35 1481.64 L2060.35 1485.58 L2040.44 1485.58 L2040.44 1481.64 Z\" fill=\"#000000\" fill-rule=\"evenodd\" fill-opacity=\"1\" /><path clip-path=\"url(#clip310)\" d=\"M2069.84 1451.02 L2088.19 1451.02 L2088.19 1454.96 L2074.12 1454.96 L2074.12 1463.43 Q2075.14 1463.08 2076.16 1462.92 Q2077.18 1462.73 2078.19 1462.73 Q2083.98 1462.73 2087.36 1465.9 Q2090.74 1469.08 2090.74 1474.49 Q2090.74 1480.07 2087.27 1483.17 Q2083.8 1486.25 2077.48 1486.25 Q2075.3 1486.25 2073.03 1485.88 Q2070.79 1485.51 2068.38 1484.77 L2068.38 1480.07 Q2070.46 1481.2 2072.69 1481.76 Q2074.91 1482.32 2077.38 1482.32 Q2081.39 1482.32 2083.73 1480.21 Q2086.06 1478.1 2086.06 1474.49 Q2086.06 1470.88 2083.73 1468.77 Q2081.39 1466.67 2077.38 1466.67 Q2075.51 1466.67 2073.63 1467.08 Q2071.78 1467.5 2069.84 1468.38 L2069.84 1451.02 Z\" fill=\"#000000\" fill-rule=\"evenodd\" fill-opacity=\"1\" /><path clip-path=\"url(#clip310)\" d=\"M1366.76 1532.4 L1372.62 1532.4 L1372.62 1568.04 L1366.76 1568.04 L1366.76 1532.4 M1366.76 1518.52 L1372.62 1518.52 L1372.62 1525.93 L1366.76 1525.93 L1366.76 1518.52 Z\" fill=\"#000000\" fill-rule=\"evenodd\" fill-opacity=\"1\" /><polyline clip-path=\"url(#clip312)\" style=\"stroke:#000000; stroke-linecap:butt; stroke-linejoin:round; stroke-width:2; stroke-opacity:0.1; fill:none\" points=\"\n",
       "  386.619,123.472 2352.76,123.472 \n",
       "  \"/>\n",
       "<polyline clip-path=\"url(#clip310)\" style=\"stroke:#000000; stroke-linecap:butt; stroke-linejoin:round; stroke-width:4; stroke-opacity:1; fill:none\" points=\"\n",
       "  386.619,1423.18 386.619,123.472 \n",
       "  \"/>\n",
       "<polyline clip-path=\"url(#clip310)\" style=\"stroke:#000000; stroke-linecap:butt; stroke-linejoin:round; stroke-width:4; stroke-opacity:1; fill:none\" points=\"\n",
       "  386.619,123.472 405.516,123.472 \n",
       "  \"/>\n",
       "<path clip-path=\"url(#clip310)\" d=\"M-nan -nan L-nan -nan L-nan -nan L-nan -nan L-nan -nan L-nan -nan L-nan -nan L-nan -nan L-nan -nan L-nan -nan L-nan -nan L-nan -nan Z\" fill=\"#000000\" fill-rule=\"evenodd\" fill-opacity=\"1\" /><path clip-path=\"url(#clip310)\" d=\"M-nan -nan Q-nan -nan -nan -nan Q-nan -nan -nan -nan Q-nan -nan -nan -nan Q-nan -nan -nan -nan Q-nan -nan -nan -nan Q-nan -nan -nan -nan Q-nan -nan -nan -nan Q-nan -nan -nan -nan M-nan -nan Q-nan -nan -nan -nan Q-nan -nan -nan -nan Q-nan -nan -nan -nan Q-nan -nan -nan -nan Q-nan -nan -nan -nan Q-nan -nan -nan -nan Q-nan -nan -nan -nan Q-nan -nan -nan -nan Z\" fill=\"#000000\" fill-rule=\"evenodd\" fill-opacity=\"1\" /><path clip-path=\"url(#clip310)\" d=\"M-nan -nan L-nan -nan L-nan -nan L-nan -nan L-nan -nan L-nan -nan L-nan -nan L-nan -nan L-nan -nan L-nan -nan L-nan -nan Z\" fill=\"#000000\" fill-rule=\"evenodd\" fill-opacity=\"1\" /><path clip-path=\"url(#clip310)\" d=\"M-nan -nan Q-nan -nan -nan -nan Q-nan -nan -nan -nan Q-nan -nan -nan -nan Q-nan -nan -nan -nan Q-nan -nan -nan -nan Q-nan -nan -nan -nan L-nan -nan L-nan -nan M-nan -nan L-nan -nan L-nan -nan L-nan -nan Q-nan -nan -nan -nan Q-nan -nan -nan -nan Q-nan -nan -nan -nan Q-nan -nan -nan -nan Q-nan -nan -nan -nan Q-nan -nan -nan -nan L-nan -nan L-nan -nan Q-nan -nan -nan -nan Q-nan -nan -nan -nan Q-nan -nan -nan -nan Q-nan -nan -nan -nan L-nan -nan Q-nan -nan -nan -nan Q-nan -nan -nan -nan Q-nan -nan -nan -nan Q-nan -nan -nan -nan Z\" fill=\"#000000\" fill-rule=\"evenodd\" fill-opacity=\"1\" /><path clip-path=\"url(#clip310)\" d=\"M-nan -nan L-nan -nan L-nan -nan L-nan -nan L-nan -nan L-nan -nan L-nan -nan L-nan -nan L-nan -nan L-nan -nan L-nan -nan Z\" fill=\"#000000\" fill-rule=\"evenodd\" fill-opacity=\"1\" /><path clip-path=\"url(#clip310)\" d=\"M114.931 143.265 L122.57 143.265 L122.57 116.899 L114.26 118.566 L114.26 114.306 L122.524 112.64 L127.2 112.64 L127.2 143.265 L134.839 143.265 L134.839 147.2 L114.931 147.2 L114.931 143.265 Z\" fill=\"#000000\" fill-rule=\"evenodd\" fill-opacity=\"1\" /><path clip-path=\"url(#clip310)\" d=\"M154.283 115.718 Q150.672 115.718 148.843 119.283 Q147.038 122.825 147.038 129.954 Q147.038 137.061 148.843 140.626 Q150.672 144.167 154.283 144.167 Q157.917 144.167 159.723 140.626 Q161.552 137.061 161.552 129.954 Q161.552 122.825 159.723 119.283 Q157.917 115.718 154.283 115.718 M154.283 112.015 Q160.093 112.015 163.149 116.621 Q166.227 121.204 166.227 129.954 Q166.227 138.681 163.149 143.288 Q160.093 147.871 154.283 147.871 Q148.473 147.871 145.394 143.288 Q142.339 138.681 142.339 129.954 Q142.339 121.204 145.394 116.621 Q148.473 112.015 154.283 112.015 Z\" fill=\"#000000\" fill-rule=\"evenodd\" fill-opacity=\"1\" /><path clip-path=\"url(#clip310)\" d=\"M166.227 106.116 L190.339 106.116 L190.339 109.313 L166.227 109.313 L166.227 106.116 Z\" fill=\"#000000\" fill-rule=\"evenodd\" fill-opacity=\"1\" /><path clip-path=\"url(#clip310)\" d=\"M206.664 94.2108 Q203.73 94.2108 202.244 97.1072 Q200.777 99.9847 200.777 105.778 Q200.777 111.552 202.244 114.448 Q203.73 117.326 206.664 117.326 Q209.617 117.326 211.084 114.448 Q212.57 111.552 212.57 105.778 Q212.57 99.9847 211.084 97.1072 Q209.617 94.2108 206.664 94.2108 M206.664 91.2015 Q211.385 91.2015 213.868 94.9443 Q216.369 98.6682 216.369 105.778 Q216.369 112.868 213.868 116.611 Q211.385 120.335 206.664 120.335 Q201.943 120.335 199.442 116.611 Q196.959 112.868 196.959 105.778 Q196.959 98.6682 199.442 94.9443 Q201.943 91.2015 206.664 91.2015 Z\" fill=\"#000000\" fill-rule=\"evenodd\" fill-opacity=\"1\" /><path clip-path=\"url(#clip310)\" d=\"M223.046 115.012 L227.014 115.012 L227.014 119.789 L223.046 119.789 L223.046 115.012 Z\" fill=\"#000000\" fill-rule=\"evenodd\" fill-opacity=\"1\" /><path clip-path=\"url(#clip310)\" d=\"M246.8 104.649 Q249.527 105.232 251.051 107.075 Q252.593 108.918 252.593 111.627 Q252.593 115.783 249.734 118.059 Q246.875 120.335 241.609 120.335 Q239.841 120.335 237.96 119.977 Q236.098 119.639 234.105 118.943 L234.105 115.275 Q235.685 116.197 237.565 116.667 Q239.446 117.137 241.496 117.137 Q245.07 117.137 246.932 115.727 Q248.812 114.316 248.812 111.627 Q248.812 109.144 247.063 107.752 Q245.333 106.342 242.23 106.342 L238.957 106.342 L238.957 103.22 L242.38 103.22 Q245.182 103.22 246.668 102.11 Q248.154 100.982 248.154 98.8751 Q248.154 96.7122 246.612 95.5649 Q245.088 94.3988 242.23 94.3988 Q240.669 94.3988 238.882 94.7374 Q237.095 95.0759 234.951 95.7906 L234.951 92.4052 Q237.114 91.8034 238.995 91.5024 Q240.894 91.2015 242.568 91.2015 Q246.894 91.2015 249.414 93.1763 Q251.934 95.1323 251.934 98.4801 Q251.934 100.812 250.599 102.43 Q249.264 104.028 246.8 104.649 Z\" fill=\"#000000\" fill-rule=\"evenodd\" fill-opacity=\"1\" /><path clip-path=\"url(#clip310)\" d=\"M267.921 94.2108 Q264.987 94.2108 263.501 97.1072 Q262.034 99.9847 262.034 105.778 Q262.034 111.552 263.501 114.448 Q264.987 117.326 267.921 117.326 Q270.874 117.326 272.341 114.448 Q273.827 111.552 273.827 105.778 Q273.827 99.9847 272.341 97.1072 Q270.874 94.2108 267.921 94.2108 M267.921 91.2015 Q272.642 91.2015 275.124 94.9443 Q277.626 98.6682 277.626 105.778 Q277.626 112.868 275.124 116.611 Q272.642 120.335 267.921 120.335 Q263.2 120.335 260.699 116.611 Q258.216 112.868 258.216 105.778 Q258.216 98.6682 260.699 94.9443 Q263.2 91.2015 267.921 91.2015 Z\" fill=\"#000000\" fill-rule=\"evenodd\" fill-opacity=\"1\" /><path clip-path=\"url(#clip310)\" d=\"M284.961 116.592 L291.167 116.592 L291.167 95.17 L284.415 96.5241 L284.415 93.0635 L291.13 91.7093 L294.929 91.7093 L294.929 116.592 L301.136 116.592 L301.136 119.789 L284.961 119.789 L284.961 116.592 Z\" fill=\"#000000\" fill-rule=\"evenodd\" fill-opacity=\"1\" /><path clip-path=\"url(#clip310)\" d=\"M316.934 94.2108 Q314 94.2108 312.514 97.1072 Q311.047 99.9847 311.047 105.778 Q311.047 111.552 312.514 114.448 Q314 117.326 316.934 117.326 Q319.887 117.326 321.354 114.448 Q322.84 111.552 322.84 105.778 Q322.84 99.9847 321.354 97.1072 Q319.887 94.2108 316.934 94.2108 M316.934 91.2015 Q321.655 91.2015 324.138 94.9443 Q326.639 98.6682 326.639 105.778 Q326.639 112.868 324.138 116.611 Q321.655 120.335 316.934 120.335 Q312.213 120.335 309.712 116.611 Q307.229 112.868 307.229 105.778 Q307.229 98.6682 309.712 94.9443 Q312.213 91.2015 316.934 91.2015 Z\" fill=\"#000000\" fill-rule=\"evenodd\" fill-opacity=\"1\" /><path clip-path=\"url(#clip310)\" d=\"M344.826 104.649 Q347.553 105.232 349.077 107.075 Q350.619 108.918 350.619 111.627 Q350.619 115.783 347.76 118.059 Q344.901 120.335 339.635 120.335 Q337.867 120.335 335.986 119.977 Q334.124 119.639 332.131 118.943 L332.131 115.275 Q333.711 116.197 335.591 116.667 Q337.472 117.137 339.522 117.137 Q343.096 117.137 344.958 115.727 Q346.838 114.316 346.838 111.627 Q346.838 109.144 345.089 107.752 Q343.359 106.342 340.256 106.342 L336.983 106.342 L336.983 103.22 L340.406 103.22 Q343.209 103.22 344.694 102.11 Q346.18 100.982 346.18 98.8751 Q346.18 96.7122 344.638 95.5649 Q343.115 94.3988 340.256 94.3988 Q338.695 94.3988 336.908 94.7374 Q335.121 95.0759 332.977 95.7906 L332.977 92.4052 Q335.14 91.8034 337.021 91.5024 Q338.92 91.2015 340.594 91.2015 Q344.92 91.2015 347.44 93.1763 Q349.961 95.1323 349.961 98.4801 Q349.961 100.812 348.625 102.43 Q347.29 104.028 344.826 104.649 Z\" fill=\"#000000\" fill-rule=\"evenodd\" fill-opacity=\"1\" /><path clip-path=\"url(#clip310)\" d=\"M14.479 1126.78 L19.3487 1126.78 L19.3487 1132.38 Q19.3487 1135.53 20.6219 1136.78 Q21.895 1137.99 25.2052 1137.99 L28.3562 1137.99 L28.3562 1128.34 L32.9077 1128.34 L32.9077 1137.99 L64.0042 1137.99 L64.0042 1143.87 L32.9077 1143.87 L32.9077 1149.48 L28.3562 1149.48 L28.3562 1143.87 L25.8736 1143.87 Q19.9216 1143.87 17.2162 1141.1 Q14.479 1138.34 14.479 1132.32 L14.479 1126.78 Z\" fill=\"#000000\" fill-rule=\"evenodd\" fill-opacity=\"1\" /><path clip-path=\"url(#clip310)\" d=\"M28.3562 1121.88 L28.3562 1116.02 L64.0042 1116.02 L64.0042 1121.88 L28.3562 1121.88 M14.479 1121.88 L14.479 1116.02 L21.895 1116.02 L21.895 1121.88 L14.479 1121.88 Z\" fill=\"#000000\" fill-rule=\"evenodd\" fill-opacity=\"1\" /><path clip-path=\"url(#clip310)\" d=\"M44.7161 1052.56 L47.5806 1052.56 L47.5806 1079.48 Q53.6281 1079.1 56.8109 1075.86 Q59.9619 1072.58 59.9619 1066.75 Q59.9619 1063.38 59.1344 1060.23 Q58.3069 1057.05 56.6518 1053.93 L62.1899 1053.93 Q63.5267 1057.08 64.227 1060.39 Q64.9272 1063.7 64.9272 1067.1 Q64.9272 1075.63 59.9619 1080.63 Q54.9967 1085.6 46.5303 1085.6 Q37.7774 1085.6 32.6531 1080.89 Q27.4968 1076.14 27.4968 1068.12 Q27.4968 1060.93 32.1438 1056.76 Q36.7589 1052.56 44.7161 1052.56 M42.9973 1058.41 Q38.1912 1058.48 35.3266 1061.12 Q32.4621 1063.73 32.4621 1068.06 Q32.4621 1072.96 35.2312 1075.92 Q38.0002 1078.85 43.0292 1079.29 L42.9973 1058.41 Z\" fill=\"#000000\" fill-rule=\"evenodd\" fill-opacity=\"1\" /><path clip-path=\"url(#clip310)\" d=\"M42.4881 1013.31 L64.0042 1013.31 L64.0042 1019.17 L42.679 1019.17 Q37.6183 1019.17 35.1038 1021.14 Q32.5894 1023.12 32.5894 1027.06 Q32.5894 1031.81 35.6131 1034.54 Q38.6368 1037.28 43.8567 1037.28 L64.0042 1037.28 L64.0042 1043.17 L28.3562 1043.17 L28.3562 1037.28 L33.8944 1037.28 Q30.6797 1035.18 29.0883 1032.35 Q27.4968 1029.48 27.4968 1025.76 Q27.4968 1019.62 31.3163 1016.46 Q35.1038 1013.31 42.4881 1013.31 Z\" fill=\"#000000\" fill-rule=\"evenodd\" fill-opacity=\"1\" /><path clip-path=\"url(#clip310)\" d=\"M44.7161 950.42 L47.5806 950.42 L47.5806 977.347 Q53.6281 976.965 56.8109 973.718 Q59.9619 970.44 59.9619 964.615 Q59.9619 961.242 59.1344 958.091 Q58.3069 954.908 56.6518 951.789 L62.1899 951.789 Q63.5267 954.94 64.227 958.25 Q64.9272 961.56 64.9272 964.966 Q64.9272 973.496 59.9619 978.493 Q54.9967 983.458 46.5303 983.458 Q37.7774 983.458 32.6531 978.747 Q27.4968 974.005 27.4968 965.984 Q27.4968 958.791 32.1438 954.621 Q36.7589 950.42 44.7161 950.42 M42.9973 956.276 Q38.1912 956.34 35.3266 958.982 Q32.4621 961.592 32.4621 965.92 Q32.4621 970.822 35.2312 973.782 Q38.0002 976.71 43.0292 977.156 L42.9973 956.276 Z\" fill=\"#000000\" fill-rule=\"evenodd\" fill-opacity=\"1\" /><path clip-path=\"url(#clip310)\" d=\"M29.4065 918.082 L34.9447 918.082 Q33.6716 920.565 33.035 923.238 Q32.3984 925.912 32.3984 928.777 Q32.3984 933.137 33.7352 935.333 Q35.072 937.498 37.7456 937.498 Q39.7826 937.498 40.9603 935.938 Q42.1061 934.378 43.1565 929.668 L43.6021 927.663 Q44.9389 921.424 47.3897 918.814 Q49.8086 916.172 54.1691 916.172 Q59.1344 916.172 62.0308 920.119 Q64.9272 924.034 64.9272 930.909 Q64.9272 933.774 64.3543 936.893 Q63.8132 939.98 62.6992 943.418 L56.6518 943.418 Q58.3387 940.171 59.198 937.02 Q60.0256 933.869 60.0256 930.782 Q60.0256 926.644 58.6251 924.416 Q57.1929 922.188 54.6147 922.188 Q52.2276 922.188 50.9545 923.811 Q49.6813 925.403 48.5037 930.845 L48.0262 932.882 Q46.8804 938.325 44.5251 940.744 Q42.138 943.163 38.0002 943.163 Q32.9713 943.163 30.2341 939.598 Q27.4968 936.033 27.4968 929.477 Q27.4968 926.23 27.9743 923.366 Q28.4517 920.501 29.4065 918.082 Z\" fill=\"#000000\" fill-rule=\"evenodd\" fill-opacity=\"1\" /><path clip-path=\"url(#clip310)\" d=\"M29.7248 881.193 L35.1993 881.193 Q33.8307 883.676 33.1623 886.19 Q32.4621 888.673 32.4621 891.219 Q32.4621 896.916 36.0905 900.067 Q39.6872 903.218 46.212 903.218 Q52.7369 903.218 56.3653 900.067 Q59.9619 896.916 59.9619 891.219 Q59.9619 888.673 59.2935 886.19 Q58.5933 883.676 57.2247 881.193 L62.6355 881.193 Q63.7814 883.644 64.3543 886.285 Q64.9272 888.895 64.9272 891.855 Q64.9272 899.908 59.8664 904.651 Q54.8057 909.393 46.212 909.393 Q37.491 909.393 32.4939 904.619 Q27.4968 899.813 27.4968 891.473 Q27.4968 888.768 28.0697 886.19 Q28.6108 883.612 29.7248 881.193 Z\" fill=\"#000000\" fill-rule=\"evenodd\" fill-opacity=\"1\" /><path clip-path=\"url(#clip310)\" d=\"M46.0847 854.807 Q46.0847 861.905 47.7079 864.642 Q49.3312 867.379 53.2461 867.379 Q56.3653 867.379 58.2114 865.342 Q60.0256 863.273 60.0256 859.74 Q60.0256 854.871 56.5881 851.942 Q53.1188 848.982 47.3897 848.982 L46.0847 848.982 L46.0847 854.807 M43.6657 843.126 L64.0042 843.126 L64.0042 848.982 L58.5933 848.982 Q61.8398 850.988 63.3994 853.979 Q64.9272 856.971 64.9272 861.3 Q64.9272 866.775 61.8716 870.021 Q58.7843 873.236 53.6281 873.236 Q47.6125 873.236 44.5569 869.225 Q41.5014 865.183 41.5014 857.194 L41.5014 848.982 L40.9285 848.982 Q36.8862 848.982 34.6901 851.656 Q32.4621 854.298 32.4621 859.104 Q32.4621 862.159 33.1941 865.056 Q33.9262 867.952 35.3903 870.626 L29.9795 870.626 Q28.7381 867.411 28.1334 864.387 Q27.4968 861.364 27.4968 858.499 Q27.4968 850.765 31.5072 846.945 Q35.5176 843.126 43.6657 843.126 Z\" fill=\"#000000\" fill-rule=\"evenodd\" fill-opacity=\"1\" /><path clip-path=\"url(#clip310)\" d=\"M14.479 831.063 L14.479 825.206 L64.0042 825.206 L64.0042 831.063 L14.479 831.063 Z\" fill=\"#000000\" fill-rule=\"evenodd\" fill-opacity=\"1\" /><path clip-path=\"url(#clip310)\" d=\"M46.0847 796.752 Q46.0847 803.85 47.7079 806.587 Q49.3312 809.324 53.2461 809.324 Q56.3653 809.324 58.2114 807.287 Q60.0256 805.218 60.0256 801.685 Q60.0256 796.815 56.5881 793.887 Q53.1188 790.927 47.3897 790.927 L46.0847 790.927 L46.0847 796.752 M43.6657 785.071 L64.0042 785.071 L64.0042 790.927 L58.5933 790.927 Q61.8398 792.932 63.3994 795.924 Q64.9272 798.916 64.9272 803.245 Q64.9272 808.719 61.8716 811.966 Q58.7843 815.181 53.6281 815.181 Q47.6125 815.181 44.5569 811.17 Q41.5014 807.128 41.5014 799.139 L41.5014 790.927 L40.9285 790.927 Q36.8862 790.927 34.6901 793.601 Q32.4621 796.243 32.4621 801.049 Q32.4621 804.104 33.1941 807.001 Q33.9262 809.897 35.3903 812.571 L29.9795 812.571 Q28.7381 809.356 28.1334 806.332 Q27.4968 803.308 27.4968 800.444 Q27.4968 792.71 31.5072 788.89 Q35.5176 785.071 43.6657 785.071 Z\" fill=\"#000000\" fill-rule=\"evenodd\" fill-opacity=\"1\" /><path clip-path=\"url(#clip310)\" d=\"M14.479 752.287 L14.479 746.431 L64.0042 746.431 L64.0042 752.287 L14.479 752.287 Z\" fill=\"#000000\" fill-rule=\"evenodd\" fill-opacity=\"1\" /><path clip-path=\"url(#clip310)\" d=\"M32.4621 720.363 Q32.4621 725.074 36.1542 727.811 Q39.8145 730.548 46.212 730.548 Q52.6095 730.548 56.3017 727.843 Q59.9619 725.106 59.9619 720.363 Q59.9619 715.685 56.2698 712.947 Q52.5777 710.21 46.212 710.21 Q39.8781 710.21 36.186 712.947 Q32.4621 715.685 32.4621 720.363 M27.4968 720.363 Q27.4968 712.724 32.4621 708.364 Q37.4273 704.003 46.212 704.003 Q54.9649 704.003 59.9619 708.364 Q64.9272 712.724 64.9272 720.363 Q64.9272 728.034 59.9619 732.394 Q54.9649 736.723 46.212 736.723 Q37.4273 736.723 32.4621 732.394 Q27.4968 728.034 27.4968 720.363 Z\" fill=\"#000000\" fill-rule=\"evenodd\" fill-opacity=\"1\" /><path clip-path=\"url(#clip310)\" d=\"M45.7664 670.838 Q39.4007 670.838 35.8996 673.48 Q32.3984 676.09 32.3984 680.832 Q32.3984 685.543 35.8996 688.185 Q39.4007 690.795 45.7664 690.795 Q52.1003 690.795 55.6014 688.185 Q59.1026 685.543 59.1026 680.832 Q59.1026 676.09 55.6014 673.48 Q52.1003 670.838 45.7664 670.838 M59.58 664.982 Q68.683 664.982 73.1071 669.024 Q77.5631 673.066 77.5631 681.405 Q77.5631 684.493 77.0857 687.23 Q76.6401 689.967 75.6852 692.545 L69.9879 692.545 Q71.3884 689.967 72.0568 687.453 Q72.7252 684.938 72.7252 682.328 Q72.7252 676.567 69.7015 673.703 Q66.7096 670.838 60.6303 670.838 L57.7339 670.838 Q60.885 672.652 62.4446 675.485 Q64.0042 678.318 64.0042 682.265 Q64.0042 688.821 59.0071 692.832 Q54.01 696.842 45.7664 696.842 Q37.491 696.842 32.4939 692.832 Q27.4968 688.821 27.4968 682.265 Q27.4968 678.318 29.0564 675.485 Q30.616 672.652 33.7671 670.838 L28.3562 670.838 L28.3562 664.982 L59.58 664.982 Z\" fill=\"#000000\" fill-rule=\"evenodd\" fill-opacity=\"1\" /><path clip-path=\"url(#clip310)\" d=\"M46.0847 636.718 Q46.0847 643.816 47.7079 646.553 Q49.3312 649.29 53.2461 649.29 Q56.3653 649.29 58.2114 647.253 Q60.0256 645.184 60.0256 641.651 Q60.0256 636.782 56.5881 633.853 Q53.1188 630.893 47.3897 630.893 L46.0847 630.893 L46.0847 636.718 M43.6657 625.037 L64.0042 625.037 L64.0042 630.893 L58.5933 630.893 Q61.8398 632.898 63.3994 635.89 Q64.9272 638.882 64.9272 643.211 Q64.9272 648.685 61.8716 651.932 Q58.7843 655.147 53.6281 655.147 Q47.6125 655.147 44.5569 651.136 Q41.5014 647.094 41.5014 639.105 L41.5014 630.893 L40.9285 630.893 Q36.8862 630.893 34.6901 633.567 Q32.4621 636.209 32.4621 641.015 Q32.4621 644.07 33.1941 646.967 Q33.9262 649.863 35.3903 652.537 L29.9795 652.537 Q28.7381 649.322 28.1334 646.298 Q27.4968 643.275 27.4968 640.41 Q27.4968 632.676 31.5072 628.856 Q35.5176 625.037 43.6657 625.037 Z\" fill=\"#000000\" fill-rule=\"evenodd\" fill-opacity=\"1\" /><path clip-path=\"url(#clip310)\" d=\"M33.8307 592.317 Q33.2578 593.304 33.0032 594.481 Q32.7167 595.627 32.7167 597.028 Q32.7167 601.993 35.9632 604.667 Q39.1779 607.308 45.2253 607.308 L64.0042 607.308 L64.0042 613.197 L28.3562 613.197 L28.3562 607.308 L33.8944 607.308 Q30.6479 605.462 29.0883 602.502 Q27.4968 599.542 27.4968 595.309 Q27.4968 594.704 27.5923 593.972 Q27.656 593.24 27.8151 592.349 L33.8307 592.317 Z\" fill=\"#000000\" fill-rule=\"evenodd\" fill-opacity=\"1\" /><path clip-path=\"url(#clip310)\" d=\"M28.3562 586.174 L28.3562 580.318 L64.0042 580.318 L64.0042 586.174 L28.3562 586.174 M14.479 586.174 L14.479 580.318 L21.895 580.318 L21.895 586.174 L14.479 586.174 Z\" fill=\"#000000\" fill-rule=\"evenodd\" fill-opacity=\"1\" /><path clip-path=\"url(#clip310)\" d=\"M18.2347 562.271 L28.3562 562.271 L28.3562 550.208 L32.9077 550.208 L32.9077 562.271 L52.2594 562.271 Q56.6199 562.271 57.8613 561.093 Q59.1026 559.884 59.1026 556.224 L59.1026 550.208 L64.0042 550.208 L64.0042 556.224 Q64.0042 563.003 61.4897 565.581 Q58.9434 568.159 52.2594 568.159 L32.9077 568.159 L32.9077 572.456 L28.3562 572.456 L28.3562 568.159 L18.2347 568.159 L18.2347 562.271 Z\" fill=\"#000000\" fill-rule=\"evenodd\" fill-opacity=\"1\" /><path clip-path=\"url(#clip310)\" d=\"M35.1993 514.751 Q31.2526 512.555 29.3747 509.499 Q27.4968 506.444 27.4968 502.306 Q27.4968 496.736 31.4117 493.712 Q35.2948 490.689 42.4881 490.689 L64.0042 490.689 L64.0042 496.577 L42.679 496.577 Q37.5546 496.577 35.072 498.391 Q32.5894 500.205 32.5894 503.929 Q32.5894 508.481 35.6131 511.123 Q38.6368 513.764 43.8567 513.764 L64.0042 513.764 L64.0042 519.653 L42.679 519.653 Q37.5228 519.653 35.072 521.467 Q32.5894 523.281 32.5894 527.069 Q32.5894 531.556 35.6449 534.198 Q38.6686 536.84 43.8567 536.84 L64.0042 536.84 L64.0042 542.728 L28.3562 542.728 L28.3562 536.84 L33.8944 536.84 Q30.616 534.835 29.0564 532.034 Q27.4968 529.233 27.4968 525.382 Q27.4968 521.499 29.4702 518.793 Q31.4436 516.056 35.1993 514.751 Z\" fill=\"#000000\" fill-rule=\"evenodd\" fill-opacity=\"1\" /><path clip-path=\"url(#clip310)\" d=\"M28.3562 479.008 L28.3562 473.151 L64.0042 473.151 L64.0042 479.008 L28.3562 479.008 M14.479 479.008 L14.479 473.151 L21.895 473.151 L21.895 479.008 L14.479 479.008 Z\" fill=\"#000000\" fill-rule=\"evenodd\" fill-opacity=\"1\" /><path clip-path=\"url(#clip310)\" d=\"M29.7248 435.243 L35.1993 435.243 Q33.8307 437.726 33.1623 440.24 Q32.4621 442.723 32.4621 445.269 Q32.4621 450.967 36.0905 454.118 Q39.6872 457.269 46.212 457.269 Q52.7369 457.269 56.3653 454.118 Q59.9619 450.967 59.9619 445.269 Q59.9619 442.723 59.2935 440.24 Q58.5933 437.726 57.2247 435.243 L62.6355 435.243 Q63.7814 437.694 64.3543 440.336 Q64.9272 442.946 64.9272 445.906 Q64.9272 453.958 59.8664 458.701 Q54.8057 463.443 46.212 463.443 Q37.491 463.443 32.4939 458.669 Q27.4968 453.863 27.4968 445.524 Q27.4968 442.818 28.0697 440.24 Q28.6108 437.662 29.7248 435.243 Z\" fill=\"#000000\" fill-rule=\"evenodd\" fill-opacity=\"1\" /><path clip-path=\"url(#clip310)\" d=\"M46.0847 408.857 Q46.0847 415.955 47.7079 418.692 Q49.3312 421.43 53.2461 421.43 Q56.3653 421.43 58.2114 419.393 Q60.0256 417.324 60.0256 413.791 Q60.0256 408.921 56.5881 405.993 Q53.1188 403.033 47.3897 403.033 L46.0847 403.033 L46.0847 408.857 M43.6657 397.176 L64.0042 397.176 L64.0042 403.033 L58.5933 403.033 Q61.8398 405.038 63.3994 408.03 Q64.9272 411.022 64.9272 415.35 Q64.9272 420.825 61.8716 424.071 Q58.7843 427.286 53.6281 427.286 Q47.6125 427.286 44.5569 423.276 Q41.5014 419.234 41.5014 411.245 L41.5014 403.033 L40.9285 403.033 Q36.8862 403.033 34.6901 405.706 Q32.4621 408.348 32.4621 413.154 Q32.4621 416.21 33.1941 419.106 Q33.9262 422.003 35.3903 424.676 L29.9795 424.676 Q28.7381 421.462 28.1334 418.438 Q27.4968 415.414 27.4968 412.55 Q27.4968 404.815 31.5072 400.996 Q35.5176 397.176 43.6657 397.176 Z\" fill=\"#000000\" fill-rule=\"evenodd\" fill-opacity=\"1\" /><path clip-path=\"url(#clip310)\" d=\"M1293.23 9.54393 L1293.23 15.7418 L1286.1 15.7418 Q1282.09 15.7418 1280.51 17.3622 Q1278.97 18.9825 1278.97 23.1955 L1278.97 27.2059 L1291.24 27.2059 L1291.24 32.9987 L1278.97 32.9987 L1278.97 72.576 L1271.47 72.576 L1271.47 32.9987 L1264.34 32.9987 L1264.34 27.2059 L1271.47 27.2059 L1271.47 24.0462 Q1271.47 16.471 1275 13.0277 Q1278.52 9.54393 1286.18 9.54393 L1293.23 9.54393 Z\" fill=\"#000000\" fill-rule=\"evenodd\" fill-opacity=\"1\" /><path clip-path=\"url(#clip310)\" d=\"M1299.46 27.2059 L1306.92 27.2059 L1306.92 72.576 L1299.46 72.576 L1299.46 27.2059 M1299.46 9.54393 L1306.92 9.54393 L1306.92 18.9825 L1299.46 18.9825 L1299.46 9.54393 Z\" fill=\"#000000\" fill-rule=\"evenodd\" fill-opacity=\"1\" /><path clip-path=\"url(#clip310)\" d=\"M1343.54 27.2059 L1351.44 27.2059 L1365.62 65.2844 L1379.79 27.2059 L1387.69 27.2059 L1370.68 72.576 L1360.55 72.576 L1343.54 27.2059 Z\" fill=\"#000000\" fill-rule=\"evenodd\" fill-opacity=\"1\" /><path clip-path=\"url(#clip310)\" d=\"M1426.91 28.5427 L1426.91 35.5912 Q1423.75 33.9709 1420.34 33.1607 Q1416.94 32.3505 1413.3 32.3505 Q1407.75 32.3505 1404.95 34.0519 Q1402.2 35.7533 1402.2 39.156 Q1402.2 41.7486 1404.18 43.2475 Q1406.17 44.7058 1412.16 46.0426 L1414.71 46.6097 Q1422.65 48.3111 1425.97 51.4303 Q1429.34 54.509 1429.34 60.0587 Q1429.34 66.3781 1424.31 70.0644 Q1419.33 73.7508 1410.58 73.7508 Q1406.94 73.7508 1402.97 73.0216 Q1399.04 72.3329 1394.66 70.9151 L1394.66 63.2184 Q1398.79 65.3654 1402.8 66.4591 Q1406.81 67.5124 1410.74 67.5124 Q1416.01 67.5124 1418.85 65.73 Q1421.68 63.9071 1421.68 60.6258 Q1421.68 57.5877 1419.61 55.9673 Q1417.59 54.3469 1410.66 52.8481 L1408.07 52.2405 Q1401.14 50.7821 1398.06 47.7845 Q1394.99 44.7463 1394.99 39.4801 Q1394.99 33.0797 1399.52 29.5959 Q1404.06 26.1121 1412.4 26.1121 Q1416.54 26.1121 1420.18 26.7198 Q1423.83 27.3274 1426.91 28.5427 Z\" fill=\"#000000\" fill-rule=\"evenodd\" fill-opacity=\"1\" /><path clip-path=\"url(#clip310)\" d=\"M1467.58 27.2059 L1475.03 27.2059 L1475.03 72.576 L1467.58 72.576 L1467.58 27.2059 M1467.58 9.54393 L1475.03 9.54393 L1475.03 18.9825 L1467.58 18.9825 L1467.58 9.54393 Z\" fill=\"#000000\" fill-rule=\"evenodd\" fill-opacity=\"1\" /><circle clip-path=\"url(#clip312)\" cx=\"442.264\" cy=\"1206.56\" r=\"14\" fill=\"#009af9\" fill-rule=\"evenodd\" fill-opacity=\"1\" stroke=\"#000000\" stroke-opacity=\"1\" stroke-width=\"3.2\"/>\n",
       "<circle clip-path=\"url(#clip312)\" cx=\"558.192\" cy=\"502.554\" r=\"14\" fill=\"#009af9\" fill-rule=\"evenodd\" fill-opacity=\"1\" stroke=\"#000000\" stroke-opacity=\"1\" stroke-width=\"3.2\"/>\n",
       "<circle clip-path=\"url(#clip312)\" cx=\"674.12\" cy=\"868.096\" r=\"14\" fill=\"#009af9\" fill-rule=\"evenodd\" fill-opacity=\"1\" stroke=\"#000000\" stroke-opacity=\"1\" stroke-width=\"3.2\"/>\n",
       "<circle clip-path=\"url(#clip312)\" cx=\"790.048\" cy=\"688.71\" r=\"14\" fill=\"#009af9\" fill-rule=\"evenodd\" fill-opacity=\"1\" stroke=\"#000000\" stroke-opacity=\"1\" stroke-width=\"3.2\"/>\n",
       "<circle clip-path=\"url(#clip312)\" cx=\"905.976\" cy=\"596.478\" r=\"14\" fill=\"#009af9\" fill-rule=\"evenodd\" fill-opacity=\"1\" stroke=\"#000000\" stroke-opacity=\"1\" stroke-width=\"3.2\"/>\n",
       "<circle clip-path=\"url(#clip312)\" cx=\"1021.9\" cy=\"549.727\" r=\"14\" fill=\"#009af9\" fill-rule=\"evenodd\" fill-opacity=\"1\" stroke=\"#000000\" stroke-opacity=\"1\" stroke-width=\"3.2\"/>\n",
       "<circle clip-path=\"url(#clip312)\" cx=\"1137.83\" cy=\"573.155\" r=\"14\" fill=\"#009af9\" fill-rule=\"evenodd\" fill-opacity=\"1\" stroke=\"#000000\" stroke-opacity=\"1\" stroke-width=\"3.2\"/>\n",
       "<circle clip-path=\"url(#clip312)\" cx=\"1253.76\" cy=\"561.454\" r=\"14\" fill=\"#009af9\" fill-rule=\"evenodd\" fill-opacity=\"1\" stroke=\"#000000\" stroke-opacity=\"1\" stroke-width=\"3.2\"/>\n",
       "<circle clip-path=\"url(#clip312)\" cx=\"1369.69\" cy=\"555.594\" r=\"14\" fill=\"#009af9\" fill-rule=\"evenodd\" fill-opacity=\"1\" stroke=\"#000000\" stroke-opacity=\"1\" stroke-width=\"3.2\"/>\n",
       "<circle clip-path=\"url(#clip312)\" cx=\"1485.62\" cy=\"558.525\" r=\"14\" fill=\"#009af9\" fill-rule=\"evenodd\" fill-opacity=\"1\" stroke=\"#000000\" stroke-opacity=\"1\" stroke-width=\"3.2\"/>\n",
       "<circle clip-path=\"url(#clip312)\" cx=\"1601.54\" cy=\"557.06\" r=\"14\" fill=\"#009af9\" fill-rule=\"evenodd\" fill-opacity=\"1\" stroke=\"#000000\" stroke-opacity=\"1\" stroke-width=\"3.2\"/>\n",
       "<circle clip-path=\"url(#clip312)\" cx=\"1717.47\" cy=\"556.327\" r=\"14\" fill=\"#009af9\" fill-rule=\"evenodd\" fill-opacity=\"1\" stroke=\"#000000\" stroke-opacity=\"1\" stroke-width=\"3.2\"/>\n",
       "<circle clip-path=\"url(#clip312)\" cx=\"1833.4\" cy=\"556.693\" r=\"14\" fill=\"#009af9\" fill-rule=\"evenodd\" fill-opacity=\"1\" stroke=\"#000000\" stroke-opacity=\"1\" stroke-width=\"3.2\"/>\n",
       "<circle clip-path=\"url(#clip312)\" cx=\"1949.33\" cy=\"556.877\" r=\"14\" fill=\"#009af9\" fill-rule=\"evenodd\" fill-opacity=\"1\" stroke=\"#000000\" stroke-opacity=\"1\" stroke-width=\"3.2\"/>\n",
       "<circle clip-path=\"url(#clip312)\" cx=\"2065.25\" cy=\"556.785\" r=\"14\" fill=\"#009af9\" fill-rule=\"evenodd\" fill-opacity=\"1\" stroke=\"#000000\" stroke-opacity=\"1\" stroke-width=\"3.2\"/>\n",
       "<circle clip-path=\"url(#clip312)\" cx=\"2181.18\" cy=\"556.739\" r=\"14\" fill=\"#009af9\" fill-rule=\"evenodd\" fill-opacity=\"1\" stroke=\"#000000\" stroke-opacity=\"1\" stroke-width=\"3.2\"/>\n",
       "<circle clip-path=\"url(#clip312)\" cx=\"2297.11\" cy=\"556.716\" r=\"14\" fill=\"#009af9\" fill-rule=\"evenodd\" fill-opacity=\"1\" stroke=\"#000000\" stroke-opacity=\"1\" stroke-width=\"3.2\"/>\n",
       "<path clip-path=\"url(#clip310)\" d=\"\n",
       "M2016.33 270.476 L2287.22 270.476 L2287.22 166.796 L2016.33 166.796  Z\n",
       "  \" fill=\"#ffffff\" fill-rule=\"evenodd\" fill-opacity=\"1\"/>\n",
       "<polyline clip-path=\"url(#clip310)\" style=\"stroke:#000000; stroke-linecap:butt; stroke-linejoin:round; stroke-width:4; stroke-opacity:1; fill:none\" points=\"\n",
       "  2016.33,270.476 2287.22,270.476 2287.22,166.796 2016.33,166.796 2016.33,270.476 \n",
       "  \"/>\n",
       "<circle clip-path=\"url(#clip310)\" cx=\"2103.71\" cy=\"218.636\" r=\"23\" fill=\"#009af9\" fill-rule=\"evenodd\" fill-opacity=\"1\" stroke=\"#000000\" stroke-opacity=\"1\" stroke-width=\"5.12\"/>\n",
       "<path clip-path=\"url(#clip310)\" d=\"M2204.94 238.323 Q2203.13 242.953 2201.42 244.365 Q2199.71 245.777 2196.84 245.777 L2193.43 245.777 L2193.43 242.212 L2195.93 242.212 Q2197.69 242.212 2198.67 241.379 Q2199.64 240.545 2200.82 237.443 L2201.58 235.499 L2191.1 209.99 L2195.61 209.99 L2203.71 230.268 L2211.81 209.99 L2216.33 209.99 L2204.94 238.323 Z\" fill=\"#000000\" fill-rule=\"evenodd\" fill-opacity=\"1\" /><path clip-path=\"url(#clip310)\" d=\"M2223.62 231.981 L2231.26 231.981 L2231.26 205.615 L2222.95 207.282 L2222.95 203.022 L2231.21 201.356 L2235.89 201.356 L2235.89 231.981 L2243.53 231.981 L2243.53 235.916 L2223.62 235.916 L2223.62 231.981 Z\" fill=\"#000000\" fill-rule=\"evenodd\" fill-opacity=\"1\" /></svg>\n"
      ]
     },
     "execution_count": 666,
     "metadata": {},
     "output_type": "execute_result"
    },
    {
     "name": "stderr",
     "output_type": "stream",
     "text": [
      "┌ Warning: No strict ticks found\n",
      "└ @ PlotUtils /home/rdpaula/.julia/packages/PlotUtils/jNTYY/src/ticks.jl:191\n",
      "┌ Warning: No strict ticks found\n",
      "└ @ PlotUtils /home/rdpaula/.julia/packages/PlotUtils/jNTYY/src/ticks.jl:191\n",
      "┌ Warning: Invalid negative or zero value -0.75 found at series index 1 for log10 based yscale\n",
      "└ @ Plots /home/rdpaula/.julia/packages/Plots/dNEbX/src/utils.jl:95\n"
     ]
    }
   ],
   "source": [
    "scatter(Vf, yscale=:log10, ylim=(-1,0.5), title=\"fi vs i\", ylabel=\"fi en escala logaritmica\", xlabel=\"i\")"
   ]
  },
  {
   "cell_type": "markdown",
   "metadata": {},
   "source": [
    "**1.d.**"
   ]
  },
  {
   "cell_type": "code",
   "execution_count": 667,
   "metadata": {},
   "outputs": [
    {
     "data": {
      "image/svg+xml": [
       "<?xml version=\"1.0\" encoding=\"utf-8\"?>\n",
       "<svg xmlns=\"http://www.w3.org/2000/svg\" xmlns:xlink=\"http://www.w3.org/1999/xlink\" width=\"600\" height=\"400\" viewBox=\"0 0 2400 1600\">\n",
       "<defs>\n",
       "  <clipPath id=\"clip350\">\n",
       "    <rect x=\"0\" y=\"0\" width=\"2400\" height=\"1600\"/>\n",
       "  </clipPath>\n",
       "</defs>\n",
       "<path clip-path=\"url(#clip350)\" d=\"\n",
       "M0 1600 L2400 1600 L2400 0 L0 0  Z\n",
       "  \" fill=\"#ffffff\" fill-rule=\"evenodd\" fill-opacity=\"1\"/>\n",
       "<defs>\n",
       "  <clipPath id=\"clip351\">\n",
       "    <rect x=\"480\" y=\"0\" width=\"1681\" height=\"1600\"/>\n",
       "  </clipPath>\n",
       "</defs>\n",
       "<path clip-path=\"url(#clip350)\" d=\"\n",
       "M252.764 1423.18 L2352.76 1423.18 L2352.76 123.472 L252.764 123.472  Z\n",
       "  \" fill=\"#ffffff\" fill-rule=\"evenodd\" fill-opacity=\"1\"/>\n",
       "<defs>\n",
       "  <clipPath id=\"clip352\">\n",
       "    <rect x=\"252\" y=\"123\" width=\"2101\" height=\"1301\"/>\n",
       "  </clipPath>\n",
       "</defs>\n",
       "<polyline clip-path=\"url(#clip352)\" style=\"stroke:#000000; stroke-linecap:butt; stroke-linejoin:round; stroke-width:2; stroke-opacity:0.1; fill:none\" points=\"\n",
       "  559.838,1423.18 559.838,123.472 \n",
       "  \"/>\n",
       "<polyline clip-path=\"url(#clip352)\" style=\"stroke:#000000; stroke-linecap:butt; stroke-linejoin:round; stroke-width:2; stroke-opacity:0.1; fill:none\" points=\"\n",
       "  931.299,1423.18 931.299,123.472 \n",
       "  \"/>\n",
       "<polyline clip-path=\"url(#clip352)\" style=\"stroke:#000000; stroke-linecap:butt; stroke-linejoin:round; stroke-width:2; stroke-opacity:0.1; fill:none\" points=\"\n",
       "  1302.76,1423.18 1302.76,123.472 \n",
       "  \"/>\n",
       "<polyline clip-path=\"url(#clip352)\" style=\"stroke:#000000; stroke-linecap:butt; stroke-linejoin:round; stroke-width:2; stroke-opacity:0.1; fill:none\" points=\"\n",
       "  1674.22,1423.18 1674.22,123.472 \n",
       "  \"/>\n",
       "<polyline clip-path=\"url(#clip352)\" style=\"stroke:#000000; stroke-linecap:butt; stroke-linejoin:round; stroke-width:2; stroke-opacity:0.1; fill:none\" points=\"\n",
       "  2045.68,1423.18 2045.68,123.472 \n",
       "  \"/>\n",
       "<polyline clip-path=\"url(#clip350)\" style=\"stroke:#000000; stroke-linecap:butt; stroke-linejoin:round; stroke-width:4; stroke-opacity:1; fill:none\" points=\"\n",
       "  252.764,1423.18 2352.76,1423.18 \n",
       "  \"/>\n",
       "<polyline clip-path=\"url(#clip350)\" style=\"stroke:#000000; stroke-linecap:butt; stroke-linejoin:round; stroke-width:4; stroke-opacity:1; fill:none\" points=\"\n",
       "  559.838,1423.18 559.838,1404.28 \n",
       "  \"/>\n",
       "<polyline clip-path=\"url(#clip350)\" style=\"stroke:#000000; stroke-linecap:butt; stroke-linejoin:round; stroke-width:4; stroke-opacity:1; fill:none\" points=\"\n",
       "  931.299,1423.18 931.299,1404.28 \n",
       "  \"/>\n",
       "<polyline clip-path=\"url(#clip350)\" style=\"stroke:#000000; stroke-linecap:butt; stroke-linejoin:round; stroke-width:4; stroke-opacity:1; fill:none\" points=\"\n",
       "  1302.76,1423.18 1302.76,1404.28 \n",
       "  \"/>\n",
       "<polyline clip-path=\"url(#clip350)\" style=\"stroke:#000000; stroke-linecap:butt; stroke-linejoin:round; stroke-width:4; stroke-opacity:1; fill:none\" points=\"\n",
       "  1674.22,1423.18 1674.22,1404.28 \n",
       "  \"/>\n",
       "<polyline clip-path=\"url(#clip350)\" style=\"stroke:#000000; stroke-linecap:butt; stroke-linejoin:round; stroke-width:4; stroke-opacity:1; fill:none\" points=\"\n",
       "  2045.68,1423.18 2045.68,1404.28 \n",
       "  \"/>\n",
       "<path clip-path=\"url(#clip350)\" d=\"M564.086 1466.95 Q567.442 1467.66 569.317 1469.93 Q571.215 1472.2 571.215 1475.53 Q571.215 1480.65 567.697 1483.45 Q564.178 1486.25 557.697 1486.25 Q555.521 1486.25 553.206 1485.81 Q550.915 1485.39 548.461 1484.54 L548.461 1480.02 Q550.405 1481.16 552.72 1481.74 Q555.035 1482.32 557.558 1482.32 Q561.956 1482.32 564.248 1480.58 Q566.563 1478.84 566.563 1475.53 Q566.563 1472.48 564.41 1470.77 Q562.28 1469.03 558.461 1469.03 L554.433 1469.03 L554.433 1465.19 L558.646 1465.19 Q562.095 1465.19 563.924 1463.82 Q565.753 1462.43 565.753 1459.84 Q565.753 1457.18 563.854 1455.77 Q561.979 1454.33 558.461 1454.33 Q556.54 1454.33 554.341 1454.75 Q552.142 1455.16 549.503 1456.04 L549.503 1451.88 Q552.165 1451.14 554.479 1450.77 Q556.817 1450.39 558.878 1450.39 Q564.202 1450.39 567.303 1452.83 Q570.405 1455.23 570.405 1459.35 Q570.405 1462.22 568.762 1464.21 Q567.118 1466.18 564.086 1466.95 Z\" fill=\"#000000\" fill-rule=\"evenodd\" fill-opacity=\"1\" /><path clip-path=\"url(#clip350)\" d=\"M931.704 1466.44 Q928.556 1466.44 926.704 1468.59 Q924.876 1470.74 924.876 1474.49 Q924.876 1478.22 926.704 1480.39 Q928.556 1482.55 931.704 1482.55 Q934.852 1482.55 936.681 1480.39 Q938.533 1478.22 938.533 1474.49 Q938.533 1470.74 936.681 1468.59 Q934.852 1466.44 931.704 1466.44 M940.987 1451.78 L940.987 1456.04 Q939.227 1455.21 937.422 1454.77 Q935.639 1454.33 933.88 1454.33 Q929.25 1454.33 926.797 1457.45 Q924.366 1460.58 924.019 1466.9 Q925.385 1464.89 927.445 1463.82 Q929.505 1462.73 931.982 1462.73 Q937.19 1462.73 940.2 1465.9 Q943.232 1469.05 943.232 1474.49 Q943.232 1479.82 940.084 1483.03 Q936.936 1486.25 931.704 1486.25 Q925.709 1486.25 922.538 1481.67 Q919.366 1477.06 919.366 1468.33 Q919.366 1460.14 923.255 1455.28 Q927.144 1450.39 933.695 1450.39 Q935.454 1450.39 937.237 1450.74 Q939.042 1451.09 940.987 1451.78 Z\" fill=\"#000000\" fill-rule=\"evenodd\" fill-opacity=\"1\" /><path clip-path=\"url(#clip350)\" d=\"M1293.06 1484.86 L1293.06 1480.6 Q1294.82 1481.44 1296.63 1481.88 Q1298.43 1482.32 1300.17 1482.32 Q1304.8 1482.32 1307.23 1479.21 Q1309.68 1476.09 1310.03 1469.75 Q1308.69 1471.74 1306.63 1472.8 Q1304.57 1473.87 1302.07 1473.87 Q1296.88 1473.87 1293.85 1470.74 Q1290.84 1467.59 1290.84 1462.15 Q1290.84 1456.83 1293.99 1453.61 Q1297.13 1450.39 1302.37 1450.39 Q1308.36 1450.39 1311.51 1455 Q1314.68 1459.58 1314.68 1468.33 Q1314.68 1476.51 1310.79 1481.39 Q1306.93 1486.25 1300.38 1486.25 Q1298.62 1486.25 1296.81 1485.9 Q1295.01 1485.56 1293.06 1484.86 M1302.37 1470.21 Q1305.51 1470.21 1307.34 1468.06 Q1309.2 1465.9 1309.2 1462.15 Q1309.2 1458.43 1307.34 1456.27 Q1305.51 1454.1 1302.37 1454.1 Q1299.22 1454.1 1297.37 1456.27 Q1295.54 1458.43 1295.54 1462.15 Q1295.54 1465.9 1297.37 1468.06 Q1299.22 1470.21 1302.37 1470.21 Z\" fill=\"#000000\" fill-rule=\"evenodd\" fill-opacity=\"1\" /><path clip-path=\"url(#clip350)\" d=\"M1649.71 1481.64 L1657.35 1481.64 L1657.35 1455.28 L1649.04 1456.95 L1649.04 1452.69 L1657.3 1451.02 L1661.98 1451.02 L1661.98 1481.64 L1669.61 1481.64 L1669.61 1485.58 L1649.71 1485.58 L1649.71 1481.64 Z\" fill=\"#000000\" fill-rule=\"evenodd\" fill-opacity=\"1\" /><path clip-path=\"url(#clip350)\" d=\"M1683.09 1481.64 L1699.41 1481.64 L1699.41 1485.58 L1677.46 1485.58 L1677.46 1481.64 Q1680.12 1478.89 1684.71 1474.26 Q1689.31 1469.61 1690.49 1468.27 Q1692.74 1465.74 1693.62 1464.01 Q1694.52 1462.25 1694.52 1460.56 Q1694.52 1457.8 1692.58 1456.07 Q1690.66 1454.33 1687.55 1454.33 Q1685.35 1454.33 1682.9 1455.09 Q1680.47 1455.86 1677.69 1457.41 L1677.69 1452.69 Q1680.52 1451.55 1682.97 1450.97 Q1685.42 1450.39 1687.46 1450.39 Q1692.83 1450.39 1696.03 1453.08 Q1699.22 1455.77 1699.22 1460.26 Q1699.22 1462.39 1698.41 1464.31 Q1697.62 1466.2 1695.52 1468.8 Q1694.94 1469.47 1691.84 1472.69 Q1688.73 1475.88 1683.09 1481.64 Z\" fill=\"#000000\" fill-rule=\"evenodd\" fill-opacity=\"1\" /><path clip-path=\"url(#clip350)\" d=\"M2020.87 1481.64 L2028.51 1481.64 L2028.51 1455.28 L2020.2 1456.95 L2020.2 1452.69 L2028.46 1451.02 L2033.14 1451.02 L2033.14 1481.64 L2040.77 1481.64 L2040.77 1485.58 L2020.87 1485.58 L2020.87 1481.64 Z\" fill=\"#000000\" fill-rule=\"evenodd\" fill-opacity=\"1\" /><path clip-path=\"url(#clip350)\" d=\"M2050.26 1451.02 L2068.62 1451.02 L2068.62 1454.96 L2054.55 1454.96 L2054.55 1463.43 Q2055.57 1463.08 2056.58 1462.92 Q2057.6 1462.73 2058.62 1462.73 Q2064.41 1462.73 2067.79 1465.9 Q2071.17 1469.08 2071.17 1474.49 Q2071.17 1480.07 2067.7 1483.17 Q2064.22 1486.25 2057.9 1486.25 Q2055.73 1486.25 2053.46 1485.88 Q2051.21 1485.51 2048.81 1484.77 L2048.81 1480.07 Q2050.89 1481.2 2053.11 1481.76 Q2055.33 1482.32 2057.81 1482.32 Q2061.82 1482.32 2064.15 1480.21 Q2066.49 1478.1 2066.49 1474.49 Q2066.49 1470.88 2064.15 1468.77 Q2061.82 1466.67 2057.81 1466.67 Q2055.94 1466.67 2054.06 1467.08 Q2052.21 1467.5 2050.26 1468.38 L2050.26 1451.02 Z\" fill=\"#000000\" fill-rule=\"evenodd\" fill-opacity=\"1\" /><path clip-path=\"url(#clip350)\" d=\"M1299.83 1532.4 L1305.69 1532.4 L1305.69 1568.04 L1299.83 1568.04 L1299.83 1532.4 M1299.83 1518.52 L1305.69 1518.52 L1305.69 1525.93 L1299.83 1525.93 L1299.83 1518.52 Z\" fill=\"#000000\" fill-rule=\"evenodd\" fill-opacity=\"1\" /><polyline clip-path=\"url(#clip352)\" style=\"stroke:#000000; stroke-linecap:butt; stroke-linejoin:round; stroke-width:2; stroke-opacity:0.1; fill:none\" points=\"\n",
       "  252.764,1057.47 2352.76,1057.47 \n",
       "  \"/>\n",
       "<polyline clip-path=\"url(#clip352)\" style=\"stroke:#000000; stroke-linecap:butt; stroke-linejoin:round; stroke-width:2; stroke-opacity:0.1; fill:none\" points=\"\n",
       "  252.764,572.355 2352.76,572.355 \n",
       "  \"/>\n",
       "<polyline clip-path=\"url(#clip350)\" style=\"stroke:#000000; stroke-linecap:butt; stroke-linejoin:round; stroke-width:4; stroke-opacity:1; fill:none\" points=\"\n",
       "  252.764,1423.18 252.764,123.472 \n",
       "  \"/>\n",
       "<polyline clip-path=\"url(#clip350)\" style=\"stroke:#000000; stroke-linecap:butt; stroke-linejoin:round; stroke-width:4; stroke-opacity:1; fill:none\" points=\"\n",
       "  252.764,1057.47 271.662,1057.47 \n",
       "  \"/>\n",
       "<polyline clip-path=\"url(#clip350)\" style=\"stroke:#000000; stroke-linecap:butt; stroke-linejoin:round; stroke-width:4; stroke-opacity:1; fill:none\" points=\"\n",
       "  252.764,572.355 271.662,572.355 \n",
       "  \"/>\n",
       "<path clip-path=\"url(#clip350)\" d=\"M114.931 1077.26 L122.57 1077.26 L122.57 1050.9 L114.26 1052.56 L114.26 1048.3 L122.524 1046.64 L127.2 1046.64 L127.2 1077.26 L134.839 1077.26 L134.839 1081.2 L114.931 1081.2 L114.931 1077.26 Z\" fill=\"#000000\" fill-rule=\"evenodd\" fill-opacity=\"1\" /><path clip-path=\"url(#clip350)\" d=\"M154.283 1049.72 Q150.672 1049.72 148.843 1053.28 Q147.038 1056.82 147.038 1063.95 Q147.038 1071.06 148.843 1074.62 Q150.672 1078.17 154.283 1078.17 Q157.917 1078.17 159.723 1074.62 Q161.552 1071.06 161.552 1063.95 Q161.552 1056.82 159.723 1053.28 Q157.917 1049.72 154.283 1049.72 M154.283 1046.01 Q160.093 1046.01 163.149 1050.62 Q166.227 1055.2 166.227 1063.95 Q166.227 1072.68 163.149 1077.29 Q160.093 1081.87 154.283 1081.87 Q148.473 1081.87 145.394 1077.29 Q142.339 1072.68 142.339 1063.95 Q142.339 1055.2 145.394 1050.62 Q148.473 1046.01 154.283 1046.01 Z\" fill=\"#000000\" fill-rule=\"evenodd\" fill-opacity=\"1\" /><path clip-path=\"url(#clip350)\" d=\"M166.227 1040.11 L190.339 1040.11 L190.339 1043.31 L166.227 1043.31 L166.227 1040.11 Z\" fill=\"#000000\" fill-rule=\"evenodd\" fill-opacity=\"1\" /><path clip-path=\"url(#clip350)\" d=\"M208.978 1029.02 L199.386 1044.01 L208.978 1044.01 L208.978 1029.02 M207.981 1025.71 L212.758 1025.71 L212.758 1044.01 L216.764 1044.01 L216.764 1047.17 L212.758 1047.17 L212.758 1053.79 L208.978 1053.79 L208.978 1047.17 L196.301 1047.17 L196.301 1043.5 L207.981 1025.71 Z\" fill=\"#000000\" fill-rule=\"evenodd\" fill-opacity=\"1\" /><path clip-path=\"url(#clip350)\" d=\"M116.624 592.147 L124.263 592.147 L124.263 565.782 L115.953 567.448 L115.953 563.189 L124.217 561.522 L128.893 561.522 L128.893 592.147 L136.531 592.147 L136.531 596.082 L116.624 596.082 L116.624 592.147 Z\" fill=\"#000000\" fill-rule=\"evenodd\" fill-opacity=\"1\" /><path clip-path=\"url(#clip350)\" d=\"M155.976 564.601 Q152.365 564.601 150.536 568.166 Q148.73 571.707 148.73 578.837 Q148.73 585.944 150.536 589.508 Q152.365 593.05 155.976 593.05 Q159.61 593.05 161.416 589.508 Q163.244 585.944 163.244 578.837 Q163.244 571.707 161.416 568.166 Q159.61 564.601 155.976 564.601 M155.976 560.897 Q161.786 560.897 164.841 565.504 Q167.92 570.087 167.92 578.837 Q167.92 587.564 164.841 592.17 Q161.786 596.754 155.976 596.754 Q150.166 596.754 147.087 592.17 Q144.031 587.564 144.031 578.837 Q144.031 570.087 147.087 565.504 Q150.166 560.897 155.976 560.897 Z\" fill=\"#000000\" fill-rule=\"evenodd\" fill-opacity=\"1\" /><path clip-path=\"url(#clip350)\" d=\"M167.92 554.999 L192.032 554.999 L192.032 558.196 L167.92 558.196 L167.92 554.999 Z\" fill=\"#000000\" fill-rule=\"evenodd\" fill-opacity=\"1\" /><path clip-path=\"url(#clip350)\" d=\"M203.504 565.475 L216.764 565.475 L216.764 568.672 L198.934 568.672 L198.934 565.475 Q201.097 563.236 204.821 559.475 Q208.564 555.695 209.523 554.604 Q211.347 552.554 212.062 551.143 Q212.796 549.714 212.796 548.341 Q212.796 546.103 211.216 544.692 Q209.655 543.281 207.134 543.281 Q205.348 543.281 203.354 543.902 Q201.379 544.523 199.122 545.783 L199.122 541.946 Q201.417 541.025 203.41 540.554 Q205.404 540.084 207.059 540.084 Q211.423 540.084 214.018 542.266 Q216.613 544.448 216.613 548.096 Q216.613 549.827 215.955 551.388 Q215.316 552.93 213.604 555.036 Q213.134 555.582 210.614 558.196 Q208.094 560.791 203.504 565.475 Z\" fill=\"#000000\" fill-rule=\"evenodd\" fill-opacity=\"1\" /><path clip-path=\"url(#clip350)\" d=\"M16.4842 1242.26 L16.4842 1212.21 L21.895 1212.21 L21.895 1235.83 L35.9632 1235.83 L35.9632 1213.2 L41.3741 1213.2 L41.3741 1235.83 L58.5933 1235.83 L58.5933 1211.64 L64.0042 1211.64 L64.0042 1242.26 L16.4842 1242.26 Z\" fill=\"#000000\" fill-rule=\"evenodd\" fill-opacity=\"1\" /><path clip-path=\"url(#clip350)\" d=\"M33.8307 1180.67 Q33.2578 1181.65 33.0032 1182.83 Q32.7167 1183.98 32.7167 1185.38 Q32.7167 1190.34 35.9632 1193.02 Q39.1779 1195.66 45.2253 1195.66 L64.0042 1195.66 L64.0042 1201.55 L28.3562 1201.55 L28.3562 1195.66 L33.8944 1195.66 Q30.6479 1193.81 29.0883 1190.85 Q27.4968 1187.89 27.4968 1183.66 Q27.4968 1183.05 27.5923 1182.32 Q27.656 1181.59 27.8151 1180.7 L33.8307 1180.67 Z\" fill=\"#000000\" fill-rule=\"evenodd\" fill-opacity=\"1\" /><path clip-path=\"url(#clip350)\" d=\"M33.8307 1155.01 Q33.2578 1156 33.0032 1157.18 Q32.7167 1158.32 32.7167 1159.72 Q32.7167 1164.69 35.9632 1167.36 Q39.1779 1170 45.2253 1170 L64.0042 1170 L64.0042 1175.89 L28.3562 1175.89 L28.3562 1170 L33.8944 1170 Q30.6479 1168.16 29.0883 1165.2 Q27.4968 1162.24 27.4968 1158.01 Q27.4968 1157.4 27.5923 1156.67 Q27.656 1155.94 27.8151 1155.05 L33.8307 1155.01 Z\" fill=\"#000000\" fill-rule=\"evenodd\" fill-opacity=\"1\" /><path clip-path=\"url(#clip350)\" d=\"M32.4621 1136.49 Q32.4621 1141.2 36.1542 1143.94 Q39.8145 1146.67 46.212 1146.67 Q52.6095 1146.67 56.3017 1143.97 Q59.9619 1141.23 59.9619 1136.49 Q59.9619 1131.81 56.2698 1129.07 Q52.5777 1126.34 46.212 1126.34 Q39.8781 1126.34 36.186 1129.07 Q32.4621 1131.81 32.4621 1136.49 M27.4968 1136.49 Q27.4968 1128.85 32.4621 1124.49 Q37.4273 1120.13 46.212 1120.13 Q54.9649 1120.13 59.9619 1124.49 Q64.9272 1128.85 64.9272 1136.49 Q64.9272 1144.16 59.9619 1148.52 Q54.9649 1152.85 46.212 1152.85 Q37.4273 1152.85 32.4621 1148.52 Q27.4968 1144.16 27.4968 1136.49 Z\" fill=\"#000000\" fill-rule=\"evenodd\" fill-opacity=\"1\" /><path clip-path=\"url(#clip350)\" d=\"M33.8307 1089.77 Q33.2578 1090.75 33.0032 1091.93 Q32.7167 1093.08 32.7167 1094.48 Q32.7167 1099.44 35.9632 1102.11 Q39.1779 1104.76 45.2253 1104.76 L64.0042 1104.76 L64.0042 1110.64 L28.3562 1110.64 L28.3562 1104.76 L33.8944 1104.76 Q30.6479 1102.91 29.0883 1099.95 Q27.4968 1096.99 27.4968 1092.76 Q27.4968 1092.15 27.5923 1091.42 Q27.656 1090.69 27.8151 1089.8 L33.8307 1089.77 Z\" fill=\"#000000\" fill-rule=\"evenodd\" fill-opacity=\"1\" /><path clip-path=\"url(#clip350)\" d=\"M44.7161 1054.56 L47.5806 1054.56 L47.5806 1081.49 Q53.6281 1081.11 56.8109 1077.86 Q59.9619 1074.58 59.9619 1068.76 Q59.9619 1065.38 59.1344 1062.23 Q58.3069 1059.05 56.6518 1055.93 L62.1899 1055.93 Q63.5267 1059.08 64.227 1062.39 Q64.9272 1065.7 64.9272 1069.11 Q64.9272 1077.64 59.9619 1082.64 Q54.9967 1087.6 46.5303 1087.6 Q37.7774 1087.6 32.6531 1082.89 Q27.4968 1078.15 27.4968 1070.13 Q27.4968 1062.93 32.1438 1058.76 Q36.7589 1054.56 44.7161 1054.56 M42.9973 1060.42 Q38.1912 1060.48 35.3266 1063.12 Q32.4621 1065.73 32.4621 1070.06 Q32.4621 1074.96 35.2312 1077.93 Q38.0002 1080.85 43.0292 1081.3 L42.9973 1060.42 Z\" fill=\"#000000\" fill-rule=\"evenodd\" fill-opacity=\"1\" /><path clip-path=\"url(#clip350)\" d=\"M29.4065 1022.23 L34.9447 1022.23 Q33.6716 1024.71 33.035 1027.38 Q32.3984 1030.05 32.3984 1032.92 Q32.3984 1037.28 33.7352 1039.48 Q35.072 1041.64 37.7456 1041.64 Q39.7826 1041.64 40.9603 1040.08 Q42.1061 1038.52 43.1565 1033.81 L43.6021 1031.81 Q44.9389 1025.57 47.3897 1022.96 Q49.8086 1020.32 54.1691 1020.32 Q59.1344 1020.32 62.0308 1024.26 Q64.9272 1028.18 64.9272 1035.05 Q64.9272 1037.92 64.3543 1041.04 Q63.8132 1044.12 62.6992 1047.56 L56.6518 1047.56 Q58.3387 1044.31 59.198 1041.16 Q60.0256 1038.01 60.0256 1034.92 Q60.0256 1030.79 58.6251 1028.56 Q57.1929 1026.33 54.6147 1026.33 Q52.2276 1026.33 50.9545 1027.95 Q49.6813 1029.55 48.5037 1034.99 L48.0262 1037.03 Q46.8804 1042.47 44.5251 1044.89 Q42.138 1047.31 38.0002 1047.31 Q32.9713 1047.31 30.2341 1043.74 Q27.4968 1040.18 27.4968 1033.62 Q27.4968 1030.37 27.9743 1027.51 Q28.4517 1024.64 29.4065 1022.23 Z\" fill=\"#000000\" fill-rule=\"evenodd\" fill-opacity=\"1\" /><path clip-path=\"url(#clip350)\" d=\"M44.7161 959.778 L47.5806 959.778 L47.5806 986.704 Q53.6281 986.323 56.8109 983.076 Q59.9619 979.798 59.9619 973.973 Q59.9619 970.599 59.1344 967.448 Q58.3069 964.265 56.6518 961.146 L62.1899 961.146 Q63.5267 964.297 64.227 967.607 Q64.9272 970.918 64.9272 974.323 Q64.9272 982.853 59.9619 987.85 Q54.9967 992.816 46.5303 992.816 Q37.7774 992.816 32.6531 988.105 Q27.4968 983.362 27.4968 975.342 Q27.4968 968.148 32.1438 963.979 Q36.7589 959.778 44.7161 959.778 M42.9973 965.634 Q38.1912 965.698 35.3266 968.339 Q32.4621 970.949 32.4621 975.278 Q32.4621 980.18 35.2312 983.14 Q38.0002 986.068 43.0292 986.513 L42.9973 965.634 Z\" fill=\"#000000\" fill-rule=\"evenodd\" fill-opacity=\"1\" /><path clip-path=\"url(#clip350)\" d=\"M42.4881 920.533 L64.0042 920.533 L64.0042 926.389 L42.679 926.389 Q37.6183 926.389 35.1038 928.363 Q32.5894 930.336 32.5894 934.283 Q32.5894 939.025 35.6131 941.763 Q38.6368 944.5 43.8567 944.5 L64.0042 944.5 L64.0042 950.388 L28.3562 950.388 L28.3562 944.5 L33.8944 944.5 Q30.6797 942.399 29.0883 939.566 Q27.4968 936.702 27.4968 932.978 Q27.4968 926.835 31.3163 923.684 Q35.1038 920.533 42.4881 920.533 Z\" fill=\"#000000\" fill-rule=\"evenodd\" fill-opacity=\"1\" /><path clip-path=\"url(#clip350)\" d=\"M44.7161 857.64 L47.5806 857.64 L47.5806 884.567 Q53.6281 884.185 56.8109 880.938 Q59.9619 877.66 59.9619 871.835 Q59.9619 868.461 59.1344 865.31 Q58.3069 862.128 56.6518 859.008 L62.1899 859.008 Q63.5267 862.159 64.227 865.47 Q64.9272 868.78 64.9272 872.185 Q64.9272 880.715 59.9619 885.713 Q54.9967 890.678 46.5303 890.678 Q37.7774 890.678 32.6531 885.967 Q27.4968 881.225 27.4968 873.204 Q27.4968 866.011 32.1438 861.841 Q36.7589 857.64 44.7161 857.64 M42.9973 863.496 Q38.1912 863.56 35.3266 866.202 Q32.4621 868.812 32.4621 873.14 Q32.4621 878.042 35.2312 881.002 Q38.0002 883.93 43.0292 884.376 L42.9973 863.496 Z\" fill=\"#000000\" fill-rule=\"evenodd\" fill-opacity=\"1\" /><path clip-path=\"url(#clip350)\" d=\"M29.4065 825.302 L34.9447 825.302 Q33.6716 827.785 33.035 830.458 Q32.3984 833.132 32.3984 835.996 Q32.3984 840.357 33.7352 842.553 Q35.072 844.717 37.7456 844.717 Q39.7826 844.717 40.9603 843.158 Q42.1061 841.598 43.1565 836.888 L43.6021 834.882 Q44.9389 828.644 47.3897 826.034 Q49.8086 823.392 54.1691 823.392 Q59.1344 823.392 62.0308 827.339 Q64.9272 831.254 64.9272 838.129 Q64.9272 840.993 64.3543 844.113 Q63.8132 847.2 62.6992 850.637 L56.6518 850.637 Q58.3387 847.391 59.198 844.24 Q60.0256 841.089 60.0256 838.002 Q60.0256 833.864 58.6251 831.636 Q57.1929 829.408 54.6147 829.408 Q52.2276 829.408 50.9545 831.031 Q49.6813 832.623 48.5037 838.065 L48.0262 840.102 Q46.8804 845.545 44.5251 847.964 Q42.138 850.383 38.0002 850.383 Q32.9713 850.383 30.2341 846.818 Q27.4968 843.253 27.4968 836.697 Q27.4968 833.45 27.9743 830.586 Q28.4517 827.721 29.4065 825.302 Z\" fill=\"#000000\" fill-rule=\"evenodd\" fill-opacity=\"1\" /><path clip-path=\"url(#clip350)\" d=\"M29.7248 788.413 L35.1993 788.413 Q33.8307 790.895 33.1623 793.41 Q32.4621 795.892 32.4621 798.439 Q32.4621 804.136 36.0905 807.287 Q39.6872 810.438 46.212 810.438 Q52.7369 810.438 56.3653 807.287 Q59.9619 804.136 59.9619 798.439 Q59.9619 795.892 59.2935 793.41 Q58.5933 790.895 57.2247 788.413 L62.6355 788.413 Q63.7814 790.864 64.3543 793.505 Q64.9272 796.115 64.9272 799.075 Q64.9272 807.128 59.8664 811.87 Q54.8057 816.613 46.212 816.613 Q37.491 816.613 32.4939 811.839 Q27.4968 807.032 27.4968 798.693 Q27.4968 795.988 28.0697 793.41 Q28.6108 790.832 29.7248 788.413 Z\" fill=\"#000000\" fill-rule=\"evenodd\" fill-opacity=\"1\" /><path clip-path=\"url(#clip350)\" d=\"M46.0847 762.027 Q46.0847 769.125 47.7079 771.862 Q49.3312 774.599 53.2461 774.599 Q56.3653 774.599 58.2114 772.562 Q60.0256 770.493 60.0256 766.96 Q60.0256 762.091 56.5881 759.162 Q53.1188 756.202 47.3897 756.202 L46.0847 756.202 L46.0847 762.027 M43.6657 750.346 L64.0042 750.346 L64.0042 756.202 L58.5933 756.202 Q61.8398 758.207 63.3994 761.199 Q64.9272 764.191 64.9272 768.52 Q64.9272 773.994 61.8716 777.241 Q58.7843 780.456 53.6281 780.456 Q47.6125 780.456 44.5569 776.445 Q41.5014 772.403 41.5014 764.414 L41.5014 756.202 L40.9285 756.202 Q36.8862 756.202 34.6901 758.876 Q32.4621 761.518 32.4621 766.324 Q32.4621 769.379 33.1941 772.276 Q33.9262 775.172 35.3903 777.846 L29.9795 777.846 Q28.7381 774.631 28.1334 771.607 Q27.4968 768.584 27.4968 765.719 Q27.4968 757.985 31.5072 754.165 Q35.5176 750.346 43.6657 750.346 Z\" fill=\"#000000\" fill-rule=\"evenodd\" fill-opacity=\"1\" /><path clip-path=\"url(#clip350)\" d=\"M14.479 738.283 L14.479 732.426 L64.0042 732.426 L64.0042 738.283 L14.479 738.283 Z\" fill=\"#000000\" fill-rule=\"evenodd\" fill-opacity=\"1\" /><path clip-path=\"url(#clip350)\" d=\"M46.0847 703.972 Q46.0847 711.069 47.7079 713.807 Q49.3312 716.544 53.2461 716.544 Q56.3653 716.544 58.2114 714.507 Q60.0256 712.438 60.0256 708.905 Q60.0256 704.035 56.5881 701.107 Q53.1188 698.147 47.3897 698.147 L46.0847 698.147 L46.0847 703.972 M43.6657 692.291 L64.0042 692.291 L64.0042 698.147 L58.5933 698.147 Q61.8398 700.152 63.3994 703.144 Q64.9272 706.136 64.9272 710.465 Q64.9272 715.939 61.8716 719.186 Q58.7843 722.4 53.6281 722.4 Q47.6125 722.4 44.5569 718.39 Q41.5014 714.348 41.5014 706.359 L41.5014 698.147 L40.9285 698.147 Q36.8862 698.147 34.6901 700.821 Q32.4621 703.462 32.4621 708.268 Q32.4621 711.324 33.1941 714.22 Q33.9262 717.117 35.3903 719.79 L29.9795 719.79 Q28.7381 716.576 28.1334 713.552 Q27.4968 710.528 27.4968 707.664 Q27.4968 699.929 31.5072 696.11 Q35.5176 692.291 43.6657 692.291 Z\" fill=\"#000000\" fill-rule=\"evenodd\" fill-opacity=\"1\" /><path clip-path=\"url(#clip350)\" d=\"M14.479 659.507 L14.479 653.651 L64.0042 653.651 L64.0042 659.507 L14.479 659.507 Z\" fill=\"#000000\" fill-rule=\"evenodd\" fill-opacity=\"1\" /><path clip-path=\"url(#clip350)\" d=\"M32.4621 627.583 Q32.4621 632.294 36.1542 635.031 Q39.8145 637.768 46.212 637.768 Q52.6095 637.768 56.3017 635.063 Q59.9619 632.326 59.9619 627.583 Q59.9619 622.904 56.2698 620.167 Q52.5777 617.43 46.212 617.43 Q39.8781 617.43 36.186 620.167 Q32.4621 622.904 32.4621 627.583 M27.4968 627.583 Q27.4968 619.944 32.4621 615.584 Q37.4273 611.223 46.212 611.223 Q54.9649 611.223 59.9619 615.584 Q64.9272 619.944 64.9272 627.583 Q64.9272 635.254 59.9619 639.614 Q54.9649 643.943 46.212 643.943 Q37.4273 643.943 32.4621 639.614 Q27.4968 635.254 27.4968 627.583 Z\" fill=\"#000000\" fill-rule=\"evenodd\" fill-opacity=\"1\" /><path clip-path=\"url(#clip350)\" d=\"M45.7664 578.058 Q39.4007 578.058 35.8996 580.7 Q32.3984 583.31 32.3984 588.052 Q32.3984 592.763 35.8996 595.404 Q39.4007 598.014 45.7664 598.014 Q52.1003 598.014 55.6014 595.404 Q59.1026 592.763 59.1026 588.052 Q59.1026 583.31 55.6014 580.7 Q52.1003 578.058 45.7664 578.058 M59.58 572.201 Q68.683 572.201 73.1071 576.244 Q77.5631 580.286 77.5631 588.625 Q77.5631 591.712 77.0857 594.45 Q76.6401 597.187 75.6852 599.765 L69.9879 599.765 Q71.3884 597.187 72.0568 594.672 Q72.7252 592.158 72.7252 589.548 Q72.7252 583.787 69.7015 580.923 Q66.7096 578.058 60.6303 578.058 L57.7339 578.058 Q60.885 579.872 62.4446 582.705 Q64.0042 585.538 64.0042 589.484 Q64.0042 596.041 59.0071 600.051 Q54.01 604.062 45.7664 604.062 Q37.491 604.062 32.4939 600.051 Q27.4968 596.041 27.4968 589.484 Q27.4968 585.538 29.0564 582.705 Q30.616 579.872 33.7671 578.058 L28.3562 578.058 L28.3562 572.201 L59.58 572.201 Z\" fill=\"#000000\" fill-rule=\"evenodd\" fill-opacity=\"1\" /><path clip-path=\"url(#clip350)\" d=\"M46.0847 543.938 Q46.0847 551.036 47.7079 553.773 Q49.3312 556.51 53.2461 556.51 Q56.3653 556.51 58.2114 554.473 Q60.0256 552.404 60.0256 548.871 Q60.0256 544.001 56.5881 541.073 Q53.1188 538.113 47.3897 538.113 L46.0847 538.113 L46.0847 543.938 M43.6657 532.257 L64.0042 532.257 L64.0042 538.113 L58.5933 538.113 Q61.8398 540.118 63.3994 543.11 Q64.9272 546.102 64.9272 550.431 Q64.9272 555.905 61.8716 559.152 Q58.7843 562.366 53.6281 562.366 Q47.6125 562.366 44.5569 558.356 Q41.5014 554.314 41.5014 546.325 L41.5014 538.113 L40.9285 538.113 Q36.8862 538.113 34.6901 540.787 Q32.4621 543.428 32.4621 548.235 Q32.4621 551.29 33.1941 554.187 Q33.9262 557.083 35.3903 559.757 L29.9795 559.757 Q28.7381 556.542 28.1334 553.518 Q27.4968 550.494 27.4968 547.63 Q27.4968 539.896 31.5072 536.076 Q35.5176 532.257 43.6657 532.257 Z\" fill=\"#000000\" fill-rule=\"evenodd\" fill-opacity=\"1\" /><path clip-path=\"url(#clip350)\" d=\"M33.8307 499.537 Q33.2578 500.524 33.0032 501.701 Q32.7167 502.847 32.7167 504.248 Q32.7167 509.213 35.9632 511.886 Q39.1779 514.528 45.2253 514.528 L64.0042 514.528 L64.0042 520.416 L28.3562 520.416 L28.3562 514.528 L33.8944 514.528 Q30.6479 512.682 29.0883 509.722 Q27.4968 506.762 27.4968 502.529 Q27.4968 501.924 27.5923 501.192 Q27.656 500.46 27.8151 499.569 L33.8307 499.537 Z\" fill=\"#000000\" fill-rule=\"evenodd\" fill-opacity=\"1\" /><path clip-path=\"url(#clip350)\" d=\"M28.3562 493.394 L28.3562 487.538 L64.0042 487.538 L64.0042 493.394 L28.3562 493.394 M14.479 493.394 L14.479 487.538 L21.895 487.538 L21.895 493.394 L14.479 493.394 Z\" fill=\"#000000\" fill-rule=\"evenodd\" fill-opacity=\"1\" /><path clip-path=\"url(#clip350)\" d=\"M18.2347 469.491 L28.3562 469.491 L28.3562 457.428 L32.9077 457.428 L32.9077 469.491 L52.2594 469.491 Q56.6199 469.491 57.8613 468.313 Q59.1026 467.104 59.1026 463.443 L59.1026 457.428 L64.0042 457.428 L64.0042 463.443 Q64.0042 470.223 61.4897 472.801 Q58.9434 475.379 52.2594 475.379 L32.9077 475.379 L32.9077 479.676 L28.3562 479.676 L28.3562 475.379 L18.2347 475.379 L18.2347 469.491 Z\" fill=\"#000000\" fill-rule=\"evenodd\" fill-opacity=\"1\" /><path clip-path=\"url(#clip350)\" d=\"M35.1993 421.971 Q31.2526 419.775 29.3747 416.719 Q27.4968 413.664 27.4968 409.526 Q27.4968 403.956 31.4117 400.932 Q35.2948 397.908 42.4881 397.908 L64.0042 397.908 L64.0042 403.797 L42.679 403.797 Q37.5546 403.797 35.072 405.611 Q32.5894 407.425 32.5894 411.149 Q32.5894 415.701 35.6131 418.342 Q38.6368 420.984 43.8567 420.984 L64.0042 420.984 L64.0042 426.872 L42.679 426.872 Q37.5228 426.872 35.072 428.687 Q32.5894 430.501 32.5894 434.288 Q32.5894 438.776 35.6449 441.418 Q38.6686 444.06 43.8567 444.06 L64.0042 444.06 L64.0042 449.948 L28.3562 449.948 L28.3562 444.06 L33.8944 444.06 Q30.616 442.055 29.0564 439.254 Q27.4968 436.453 27.4968 432.602 Q27.4968 428.718 29.4702 426.013 Q31.4436 423.276 35.1993 421.971 Z\" fill=\"#000000\" fill-rule=\"evenodd\" fill-opacity=\"1\" /><path clip-path=\"url(#clip350)\" d=\"M28.3562 386.227 L28.3562 380.371 L64.0042 380.371 L64.0042 386.227 L28.3562 386.227 M14.479 386.227 L14.479 380.371 L21.895 380.371 L21.895 386.227 L14.479 386.227 Z\" fill=\"#000000\" fill-rule=\"evenodd\" fill-opacity=\"1\" /><path clip-path=\"url(#clip350)\" d=\"M29.7248 342.463 L35.1993 342.463 Q33.8307 344.946 33.1623 347.46 Q32.4621 349.943 32.4621 352.489 Q32.4621 358.186 36.0905 361.337 Q39.6872 364.488 46.212 364.488 Q52.7369 364.488 56.3653 361.337 Q59.9619 358.186 59.9619 352.489 Q59.9619 349.943 59.2935 347.46 Q58.5933 344.946 57.2247 342.463 L62.6355 342.463 Q63.7814 344.914 64.3543 347.556 Q64.9272 350.166 64.9272 353.126 Q64.9272 361.178 59.8664 365.921 Q54.8057 370.663 46.212 370.663 Q37.491 370.663 32.4939 365.889 Q27.4968 361.083 27.4968 352.744 Q27.4968 350.038 28.0697 347.46 Q28.6108 344.882 29.7248 342.463 Z\" fill=\"#000000\" fill-rule=\"evenodd\" fill-opacity=\"1\" /><path clip-path=\"url(#clip350)\" d=\"M46.0847 316.077 Q46.0847 323.175 47.7079 325.912 Q49.3312 328.65 53.2461 328.65 Q56.3653 328.65 58.2114 326.613 Q60.0256 324.544 60.0256 321.011 Q60.0256 316.141 56.5881 313.213 Q53.1188 310.253 47.3897 310.253 L46.0847 310.253 L46.0847 316.077 M43.6657 304.396 L64.0042 304.396 L64.0042 310.253 L58.5933 310.253 Q61.8398 312.258 63.3994 315.25 Q64.9272 318.242 64.9272 322.57 Q64.9272 328.045 61.8716 331.291 Q58.7843 334.506 53.6281 334.506 Q47.6125 334.506 44.5569 330.496 Q41.5014 326.453 41.5014 318.464 L41.5014 310.253 L40.9285 310.253 Q36.8862 310.253 34.6901 312.926 Q32.4621 315.568 32.4621 320.374 Q32.4621 323.43 33.1941 326.326 Q33.9262 329.222 35.3903 331.896 L29.9795 331.896 Q28.7381 328.681 28.1334 325.658 Q27.4968 322.634 27.4968 319.769 Q27.4968 312.035 31.5072 308.216 Q35.5176 304.396 43.6657 304.396 Z\" fill=\"#000000\" fill-rule=\"evenodd\" fill-opacity=\"1\" /><path clip-path=\"url(#clip350)\" d=\"M859.368 12.096 L897.609 12.096 L897.609 18.9825 L867.551 18.9825 L867.551 36.8875 L896.353 36.8875 L896.353 43.7741 L867.551 43.7741 L867.551 65.6895 L898.338 65.6895 L898.338 72.576 L859.368 72.576 L859.368 12.096 Z\" fill=\"#000000\" fill-rule=\"evenodd\" fill-opacity=\"1\" /><path clip-path=\"url(#clip350)\" d=\"M937.753 34.1734 Q936.497 33.4443 934.999 33.1202 Q933.54 32.7556 931.758 32.7556 Q925.438 32.7556 922.036 36.8875 Q918.673 40.9789 918.673 48.6757 L918.673 72.576 L911.179 72.576 L911.179 27.2059 L918.673 27.2059 L918.673 34.2544 Q921.023 30.1225 924.79 28.1376 Q928.558 26.1121 933.945 26.1121 Q934.715 26.1121 935.647 26.2337 Q936.578 26.3147 937.713 26.5172 L937.753 34.1734 Z\" fill=\"#000000\" fill-rule=\"evenodd\" fill-opacity=\"1\" /><path clip-path=\"url(#clip350)\" d=\"M970.403 34.1734 Q969.148 33.4443 967.649 33.1202 Q966.191 32.7556 964.408 32.7556 Q958.089 32.7556 954.686 36.8875 Q951.324 40.9789 951.324 48.6757 L951.324 72.576 L943.83 72.576 L943.83 27.2059 L951.324 27.2059 L951.324 34.2544 Q953.673 30.1225 957.441 28.1376 Q961.208 26.1121 966.596 26.1121 Q967.365 26.1121 968.297 26.2337 Q969.229 26.3147 970.363 26.5172 L970.403 34.1734 Z\" fill=\"#000000\" fill-rule=\"evenodd\" fill-opacity=\"1\" /><path clip-path=\"url(#clip350)\" d=\"M993.98 32.4315 Q987.984 32.4315 984.501 37.1306 Q981.017 41.7891 981.017 49.9314 Q981.017 58.0738 984.46 62.7728 Q987.944 67.4314 993.98 67.4314 Q999.935 67.4314 1003.42 62.7323 Q1006.9 58.0333 1006.9 49.9314 Q1006.9 41.8701 1003.42 37.1711 Q999.935 32.4315 993.98 32.4315 M993.98 26.1121 Q1003.7 26.1121 1009.25 32.4315 Q1014.8 38.7509 1014.8 49.9314 Q1014.8 61.0714 1009.25 67.4314 Q1003.7 73.7508 993.98 73.7508 Q984.217 73.7508 978.667 67.4314 Q973.158 61.0714 973.158 49.9314 Q973.158 38.7509 978.667 32.4315 Q984.217 26.1121 993.98 26.1121 Z\" fill=\"#000000\" fill-rule=\"evenodd\" fill-opacity=\"1\" /><path clip-path=\"url(#clip350)\" d=\"M1053.45 34.1734 Q1052.19 33.4443 1050.69 33.1202 Q1049.23 32.7556 1047.45 32.7556 Q1041.13 32.7556 1037.73 36.8875 Q1034.37 40.9789 1034.37 48.6757 L1034.37 72.576 L1026.87 72.576 L1026.87 27.2059 L1034.37 27.2059 L1034.37 34.2544 Q1036.72 30.1225 1040.48 28.1376 Q1044.25 26.1121 1049.64 26.1121 Q1050.41 26.1121 1051.34 26.2337 Q1052.27 26.3147 1053.41 26.5172 L1053.45 34.1734 Z\" fill=\"#000000\" fill-rule=\"evenodd\" fill-opacity=\"1\" /><path clip-path=\"url(#clip350)\" d=\"M1098.25 48.0275 L1098.25 51.6733 L1063.98 51.6733 Q1064.47 59.3701 1068.6 63.421 Q1072.77 67.4314 1080.18 67.4314 Q1084.48 67.4314 1088.49 66.3781 Q1092.54 65.3249 1096.51 63.2184 L1096.51 70.267 Q1092.5 71.9684 1088.28 72.8596 Q1084.07 73.7508 1079.74 73.7508 Q1068.88 73.7508 1062.52 67.4314 Q1056.2 61.1119 1056.2 50.3365 Q1056.2 39.1965 1062.2 32.6746 Q1068.23 26.1121 1078.44 26.1121 Q1087.6 26.1121 1092.9 32.0264 Q1098.25 37.9003 1098.25 48.0275 M1090.8 45.84 Q1090.72 39.7232 1087.35 36.0774 Q1084.03 32.4315 1078.52 32.4315 Q1072.28 32.4315 1068.52 35.9558 Q1064.79 39.4801 1064.22 45.8805 L1090.8 45.84 Z\" fill=\"#000000\" fill-rule=\"evenodd\" fill-opacity=\"1\" /><path clip-path=\"url(#clip350)\" d=\"M1139.41 28.5427 L1139.41 35.5912 Q1136.25 33.9709 1132.84 33.1607 Q1129.44 32.3505 1125.8 32.3505 Q1120.25 32.3505 1117.45 34.0519 Q1114.7 35.7533 1114.7 39.156 Q1114.7 41.7486 1116.68 43.2475 Q1118.67 44.7058 1124.66 46.0426 L1127.21 46.6097 Q1135.15 48.3111 1138.48 51.4303 Q1141.84 54.509 1141.84 60.0587 Q1141.84 66.3781 1136.81 70.0644 Q1131.83 73.7508 1123.08 73.7508 Q1119.44 73.7508 1115.47 73.0216 Q1111.54 72.3329 1107.16 70.9151 L1107.16 63.2184 Q1111.29 65.3654 1115.3 66.4591 Q1119.31 67.5124 1123.24 67.5124 Q1128.51 67.5124 1131.35 65.73 Q1134.18 63.9071 1134.18 60.6258 Q1134.18 57.5877 1132.12 55.9673 Q1130.09 54.3469 1123.16 52.8481 L1120.57 52.2405 Q1113.64 50.7821 1110.56 47.7845 Q1107.49 44.7463 1107.49 39.4801 Q1107.49 33.0797 1112.02 29.5959 Q1116.56 26.1121 1124.9 26.1121 Q1129.04 26.1121 1132.68 26.7198 Q1136.33 27.3274 1139.41 28.5427 Z\" fill=\"#000000\" fill-rule=\"evenodd\" fill-opacity=\"1\" /><path clip-path=\"url(#clip350)\" d=\"M1174.73 27.2059 L1182.63 27.2059 L1196.81 65.2844 L1210.99 27.2059 L1218.89 27.2059 L1201.87 72.576 L1191.74 72.576 L1174.73 27.2059 Z\" fill=\"#000000\" fill-rule=\"evenodd\" fill-opacity=\"1\" /><path clip-path=\"url(#clip350)\" d=\"M1258.1 28.5427 L1258.1 35.5912 Q1254.94 33.9709 1251.54 33.1607 Q1248.13 32.3505 1244.49 32.3505 Q1238.94 32.3505 1236.14 34.0519 Q1233.39 35.7533 1233.39 39.156 Q1233.39 41.7486 1235.37 43.2475 Q1237.36 44.7058 1243.35 46.0426 L1245.91 46.6097 Q1253.85 48.3111 1257.17 51.4303 Q1260.53 54.509 1260.53 60.0587 Q1260.53 66.3781 1255.51 70.0644 Q1250.52 73.7508 1241.77 73.7508 Q1238.13 73.7508 1234.16 73.0216 Q1230.23 72.3329 1225.85 70.9151 L1225.85 63.2184 Q1229.99 65.3654 1234 66.4591 Q1238.01 67.5124 1241.94 67.5124 Q1247.2 67.5124 1250.04 65.73 Q1252.87 63.9071 1252.87 60.6258 Q1252.87 57.5877 1250.81 55.9673 Q1248.78 54.3469 1241.85 52.8481 L1239.26 52.2405 Q1232.33 50.7821 1229.26 47.7845 Q1226.18 44.7463 1226.18 39.4801 Q1226.18 33.0797 1230.71 29.5959 Q1235.25 26.1121 1243.6 26.1121 Q1247.73 26.1121 1251.37 26.7198 Q1255.02 27.3274 1258.1 28.5427 Z\" fill=\"#000000\" fill-rule=\"evenodd\" fill-opacity=\"1\" /><path clip-path=\"url(#clip350)\" d=\"M1299.09 12.096 L1307.28 12.096 L1307.28 72.576 L1299.09 72.576 L1299.09 12.096 Z\" fill=\"#000000\" fill-rule=\"evenodd\" fill-opacity=\"1\" /><path clip-path=\"url(#clip350)\" d=\"M1330.61 14.324 L1330.61 27.2059 L1345.96 27.2059 L1345.96 32.9987 L1330.61 32.9987 L1330.61 57.6282 Q1330.61 63.1779 1332.11 64.7578 Q1333.65 66.3376 1338.31 66.3376 L1345.96 66.3376 L1345.96 72.576 L1338.31 72.576 Q1329.68 72.576 1326.4 69.3758 Q1323.12 66.1351 1323.12 57.6282 L1323.12 32.9987 L1317.65 32.9987 L1317.65 27.2059 L1323.12 27.2059 L1323.12 14.324 L1330.61 14.324 Z\" fill=\"#000000\" fill-rule=\"evenodd\" fill-opacity=\"1\" /><path clip-path=\"url(#clip350)\" d=\"M1394.57 48.0275 L1394.57 51.6733 L1360.3 51.6733 Q1360.79 59.3701 1364.92 63.421 Q1369.09 67.4314 1376.51 67.4314 Q1380.8 67.4314 1384.81 66.3781 Q1388.86 65.3249 1392.83 63.2184 L1392.83 70.267 Q1388.82 71.9684 1384.61 72.8596 Q1380.4 73.7508 1376.06 73.7508 Q1365.2 73.7508 1358.84 67.4314 Q1352.53 61.1119 1352.53 50.3365 Q1352.53 39.1965 1358.52 32.6746 Q1364.56 26.1121 1374.76 26.1121 Q1383.92 26.1121 1389.23 32.0264 Q1394.57 37.9003 1394.57 48.0275 M1387.12 45.84 Q1387.04 39.7232 1383.68 36.0774 Q1380.35 32.4315 1374.85 32.4315 Q1368.61 32.4315 1364.84 35.9558 Q1361.11 39.4801 1360.55 45.8805 L1387.12 45.84 Z\" fill=\"#000000\" fill-rule=\"evenodd\" fill-opacity=\"1\" /><path clip-path=\"url(#clip350)\" d=\"M1433.1 34.1734 Q1431.84 33.4443 1430.34 33.1202 Q1428.88 32.7556 1427.1 32.7556 Q1420.78 32.7556 1417.38 36.8875 Q1414.02 40.9789 1414.02 48.6757 L1414.02 72.576 L1406.52 72.576 L1406.52 27.2059 L1414.02 27.2059 L1414.02 34.2544 Q1416.37 30.1225 1420.13 28.1376 Q1423.9 26.1121 1429.29 26.1121 Q1430.06 26.1121 1430.99 26.2337 Q1431.92 26.3147 1433.06 26.5172 L1433.1 34.1734 Z\" fill=\"#000000\" fill-rule=\"evenodd\" fill-opacity=\"1\" /><path clip-path=\"url(#clip350)\" d=\"M1461.54 49.7694 Q1452.5 49.7694 1449.02 51.8354 Q1445.53 53.9013 1445.53 58.8839 Q1445.53 62.8538 1448.13 65.2034 Q1450.76 67.5124 1455.26 67.5124 Q1461.45 67.5124 1465.18 63.1374 Q1468.95 58.7219 1468.95 51.4303 L1468.95 49.7694 L1461.54 49.7694 M1476.4 46.6907 L1476.4 72.576 L1468.95 72.576 L1468.95 65.6895 Q1466.4 69.8214 1462.59 71.8063 Q1458.78 73.7508 1453.27 73.7508 Q1446.3 73.7508 1442.17 69.8619 Q1438.08 65.9325 1438.08 59.3701 Q1438.08 51.7138 1443.18 47.825 Q1448.33 43.9361 1458.5 43.9361 L1468.95 43.9361 L1468.95 43.2069 Q1468.95 38.0623 1465.55 35.2672 Q1462.18 32.4315 1456.07 32.4315 Q1452.18 32.4315 1448.49 33.3632 Q1444.8 34.295 1441.4 36.1584 L1441.4 29.2718 Q1445.49 27.692 1449.34 26.9223 Q1453.19 26.1121 1456.84 26.1121 Q1466.68 26.1121 1471.54 31.2163 Q1476.4 36.3204 1476.4 46.6907 Z\" fill=\"#000000\" fill-rule=\"evenodd\" fill-opacity=\"1\" /><path clip-path=\"url(#clip350)\" d=\"M1524.41 28.9478 L1524.41 35.9153 Q1521.25 34.1734 1518.05 33.3227 Q1514.89 32.4315 1511.64 32.4315 Q1504.39 32.4315 1500.38 37.0496 Q1496.37 41.6271 1496.37 49.9314 Q1496.37 58.2358 1500.38 62.8538 Q1504.39 67.4314 1511.64 67.4314 Q1514.89 67.4314 1518.05 66.5807 Q1521.25 65.6895 1524.41 63.9476 L1524.41 70.8341 Q1521.29 72.2924 1517.92 73.0216 Q1514.6 73.7508 1510.83 73.7508 Q1500.59 73.7508 1494.55 67.3098 Q1488.51 60.8689 1488.51 49.9314 Q1488.51 38.832 1494.59 32.472 Q1500.71 26.1121 1511.32 26.1121 Q1514.76 26.1121 1518.05 26.8413 Q1521.33 27.5299 1524.41 28.9478 Z\" fill=\"#000000\" fill-rule=\"evenodd\" fill-opacity=\"1\" /><path clip-path=\"url(#clip350)\" d=\"M1537.37 27.2059 L1544.82 27.2059 L1544.82 72.576 L1537.37 72.576 L1537.37 27.2059 M1537.37 9.54393 L1544.82 9.54393 L1544.82 18.9825 L1537.37 18.9825 L1537.37 9.54393 Z\" fill=\"#000000\" fill-rule=\"evenodd\" fill-opacity=\"1\" /><path clip-path=\"url(#clip350)\" d=\"M1578 32.4315 Q1572 32.4315 1568.52 37.1306 Q1565.04 41.7891 1565.04 49.9314 Q1565.04 58.0738 1568.48 62.7728 Q1571.96 67.4314 1578 67.4314 Q1583.95 67.4314 1587.44 62.7323 Q1590.92 58.0333 1590.92 49.9314 Q1590.92 41.8701 1587.44 37.1711 Q1583.95 32.4315 1578 32.4315 M1578 26.1121 Q1587.72 26.1121 1593.27 32.4315 Q1598.82 38.7509 1598.82 49.9314 Q1598.82 61.0714 1593.27 67.4314 Q1587.72 73.7508 1578 73.7508 Q1568.24 73.7508 1562.69 67.4314 Q1557.18 61.0714 1557.18 49.9314 Q1557.18 38.7509 1562.69 32.4315 Q1568.24 26.1121 1578 26.1121 Z\" fill=\"#000000\" fill-rule=\"evenodd\" fill-opacity=\"1\" /><path clip-path=\"url(#clip350)\" d=\"M1648.89 45.1919 L1648.89 72.576 L1641.44 72.576 L1641.44 45.4349 Q1641.44 38.994 1638.92 35.7938 Q1636.41 32.5936 1631.39 32.5936 Q1625.35 32.5936 1621.87 36.4419 Q1618.39 40.2903 1618.39 46.9338 L1618.39 72.576 L1610.89 72.576 L1610.89 27.2059 L1618.39 27.2059 L1618.39 34.2544 Q1621.06 30.163 1624.67 28.1376 Q1628.31 26.1121 1633.05 26.1121 Q1640.87 26.1121 1644.88 30.9732 Q1648.89 35.7938 1648.89 45.1919 Z\" fill=\"#000000\" fill-rule=\"evenodd\" fill-opacity=\"1\" /><path clip-path=\"url(#clip350)\" d=\"M1702.56 48.0275 L1702.56 51.6733 L1668.29 51.6733 Q1668.78 59.3701 1672.91 63.421 Q1677.08 67.4314 1684.5 67.4314 Q1688.79 67.4314 1692.8 66.3781 Q1696.85 65.3249 1700.82 63.2184 L1700.82 70.267 Q1696.81 71.9684 1692.6 72.8596 Q1688.39 73.7508 1684.05 73.7508 Q1673.19 73.7508 1666.83 67.4314 Q1660.52 61.1119 1660.52 50.3365 Q1660.52 39.1965 1666.51 32.6746 Q1672.55 26.1121 1682.75 26.1121 Q1691.91 26.1121 1697.22 32.0264 Q1702.56 37.9003 1702.56 48.0275 M1695.11 45.84 Q1695.03 39.7232 1691.67 36.0774 Q1688.35 32.4315 1682.84 32.4315 Q1676.6 32.4315 1672.83 35.9558 Q1669.1 39.4801 1668.54 45.8805 L1695.11 45.84 Z\" fill=\"#000000\" fill-rule=\"evenodd\" fill-opacity=\"1\" /><path clip-path=\"url(#clip350)\" d=\"M1743.72 28.5427 L1743.72 35.5912 Q1740.56 33.9709 1737.16 33.1607 Q1733.76 32.3505 1730.11 32.3505 Q1724.56 32.3505 1721.77 34.0519 Q1719.01 35.7533 1719.01 39.156 Q1719.01 41.7486 1721 43.2475 Q1722.98 44.7058 1728.98 46.0426 L1731.53 46.6097 Q1739.47 48.3111 1742.79 51.4303 Q1746.15 54.509 1746.15 60.0587 Q1746.15 66.3781 1741.13 70.0644 Q1736.15 73.7508 1727.4 73.7508 Q1723.75 73.7508 1719.78 73.0216 Q1715.85 72.3329 1711.48 70.9151 L1711.48 63.2184 Q1715.61 65.3654 1719.62 66.4591 Q1723.63 67.5124 1727.56 67.5124 Q1732.82 67.5124 1735.66 65.73 Q1738.5 63.9071 1738.5 60.6258 Q1738.5 57.5877 1736.43 55.9673 Q1734.4 54.3469 1727.48 52.8481 L1724.88 52.2405 Q1717.96 50.7821 1714.88 47.7845 Q1711.8 44.7463 1711.8 39.4801 Q1711.8 33.0797 1716.34 29.5959 Q1720.87 26.1121 1729.22 26.1121 Q1733.35 26.1121 1737 26.7198 Q1740.64 27.3274 1743.72 28.5427 Z\" fill=\"#000000\" fill-rule=\"evenodd\" fill-opacity=\"1\" /><circle clip-path=\"url(#clip352)\" cx=\"312.198\" cy=\"160.256\" r=\"14\" fill=\"#009af9\" fill-rule=\"evenodd\" fill-opacity=\"1\" stroke=\"#000000\" stroke-opacity=\"1\" stroke-width=\"3.2\"/>\n",
       "<circle clip-path=\"url(#clip352)\" cx=\"436.018\" cy=\"233.273\" r=\"14\" fill=\"#009af9\" fill-rule=\"evenodd\" fill-opacity=\"1\" stroke=\"#000000\" stroke-opacity=\"1\" stroke-width=\"3.2\"/>\n",
       "<circle clip-path=\"url(#clip352)\" cx=\"559.838\" cy=\"306.291\" r=\"14\" fill=\"#009af9\" fill-rule=\"evenodd\" fill-opacity=\"1\" stroke=\"#000000\" stroke-opacity=\"1\" stroke-width=\"3.2\"/>\n",
       "<circle clip-path=\"url(#clip352)\" cx=\"683.659\" cy=\"379.308\" r=\"14\" fill=\"#009af9\" fill-rule=\"evenodd\" fill-opacity=\"1\" stroke=\"#000000\" stroke-opacity=\"1\" stroke-width=\"3.2\"/>\n",
       "<circle clip-path=\"url(#clip352)\" cx=\"807.479\" cy=\"452.325\" r=\"14\" fill=\"#009af9\" fill-rule=\"evenodd\" fill-opacity=\"1\" stroke=\"#000000\" stroke-opacity=\"1\" stroke-width=\"3.2\"/>\n",
       "<circle clip-path=\"url(#clip352)\" cx=\"931.299\" cy=\"525.342\" r=\"14\" fill=\"#009af9\" fill-rule=\"evenodd\" fill-opacity=\"1\" stroke=\"#000000\" stroke-opacity=\"1\" stroke-width=\"3.2\"/>\n",
       "<circle clip-path=\"url(#clip352)\" cx=\"1055.12\" cy=\"598.359\" r=\"14\" fill=\"#009af9\" fill-rule=\"evenodd\" fill-opacity=\"1\" stroke=\"#000000\" stroke-opacity=\"1\" stroke-width=\"3.2\"/>\n",
       "<circle clip-path=\"url(#clip352)\" cx=\"1178.94\" cy=\"671.377\" r=\"14\" fill=\"#009af9\" fill-rule=\"evenodd\" fill-opacity=\"1\" stroke=\"#000000\" stroke-opacity=\"1\" stroke-width=\"3.2\"/>\n",
       "<circle clip-path=\"url(#clip352)\" cx=\"1302.76\" cy=\"744.394\" r=\"14\" fill=\"#009af9\" fill-rule=\"evenodd\" fill-opacity=\"1\" stroke=\"#000000\" stroke-opacity=\"1\" stroke-width=\"3.2\"/>\n",
       "<circle clip-path=\"url(#clip352)\" cx=\"1426.58\" cy=\"817.411\" r=\"14\" fill=\"#009af9\" fill-rule=\"evenodd\" fill-opacity=\"1\" stroke=\"#000000\" stroke-opacity=\"1\" stroke-width=\"3.2\"/>\n",
       "<circle clip-path=\"url(#clip352)\" cx=\"1550.4\" cy=\"890.428\" r=\"14\" fill=\"#009af9\" fill-rule=\"evenodd\" fill-opacity=\"1\" stroke=\"#000000\" stroke-opacity=\"1\" stroke-width=\"3.2\"/>\n",
       "<circle clip-path=\"url(#clip352)\" cx=\"1674.22\" cy=\"963.445\" r=\"14\" fill=\"#009af9\" fill-rule=\"evenodd\" fill-opacity=\"1\" stroke=\"#000000\" stroke-opacity=\"1\" stroke-width=\"3.2\"/>\n",
       "<circle clip-path=\"url(#clip352)\" cx=\"1798.04\" cy=\"1036.46\" r=\"14\" fill=\"#009af9\" fill-rule=\"evenodd\" fill-opacity=\"1\" stroke=\"#000000\" stroke-opacity=\"1\" stroke-width=\"3.2\"/>\n",
       "<circle clip-path=\"url(#clip352)\" cx=\"1921.86\" cy=\"1109.48\" r=\"14\" fill=\"#009af9\" fill-rule=\"evenodd\" fill-opacity=\"1\" stroke=\"#000000\" stroke-opacity=\"1\" stroke-width=\"3.2\"/>\n",
       "<circle clip-path=\"url(#clip352)\" cx=\"2045.68\" cy=\"1182.5\" r=\"14\" fill=\"#009af9\" fill-rule=\"evenodd\" fill-opacity=\"1\" stroke=\"#000000\" stroke-opacity=\"1\" stroke-width=\"3.2\"/>\n",
       "<circle clip-path=\"url(#clip352)\" cx=\"2169.5\" cy=\"1255.51\" r=\"14\" fill=\"#009af9\" fill-rule=\"evenodd\" fill-opacity=\"1\" stroke=\"#000000\" stroke-opacity=\"1\" stroke-width=\"3.2\"/>\n",
       "<circle clip-path=\"url(#clip352)\" cx=\"2293.32\" cy=\"1328.53\" r=\"14\" fill=\"#009af9\" fill-rule=\"evenodd\" fill-opacity=\"1\" stroke=\"#000000\" stroke-opacity=\"1\" stroke-width=\"3.2\"/>\n",
       "<circle clip-path=\"url(#clip352)\" cx=\"312.198\" cy=\"202.969\" r=\"14\" fill=\"#e26f46\" fill-rule=\"evenodd\" fill-opacity=\"1\" stroke=\"#000000\" stroke-opacity=\"1\" stroke-width=\"3.2\"/>\n",
       "<circle clip-path=\"url(#clip352)\" cx=\"436.018\" cy=\"292.224\" r=\"14\" fill=\"#e26f46\" fill-rule=\"evenodd\" fill-opacity=\"1\" stroke=\"#000000\" stroke-opacity=\"1\" stroke-width=\"3.2\"/>\n",
       "<circle clip-path=\"url(#clip352)\" cx=\"559.838\" cy=\"357.435\" r=\"14\" fill=\"#e26f46\" fill-rule=\"evenodd\" fill-opacity=\"1\" stroke=\"#000000\" stroke-opacity=\"1\" stroke-width=\"3.2\"/>\n",
       "<circle clip-path=\"url(#clip352)\" cx=\"683.659\" cy=\"434.428\" r=\"14\" fill=\"#e26f46\" fill-rule=\"evenodd\" fill-opacity=\"1\" stroke=\"#000000\" stroke-opacity=\"1\" stroke-width=\"3.2\"/>\n",
       "<circle clip-path=\"url(#clip352)\" cx=\"807.479\" cy=\"509.378\" r=\"14\" fill=\"#e26f46\" fill-rule=\"evenodd\" fill-opacity=\"1\" stroke=\"#000000\" stroke-opacity=\"1\" stroke-width=\"3.2\"/>\n",
       "<circle clip-path=\"url(#clip352)\" cx=\"931.299\" cy=\"583.348\" r=\"14\" fill=\"#e26f46\" fill-rule=\"evenodd\" fill-opacity=\"1\" stroke=\"#000000\" stroke-opacity=\"1\" stroke-width=\"3.2\"/>\n",
       "<circle clip-path=\"url(#clip352)\" cx=\"1055.12\" cy=\"655.89\" r=\"14\" fill=\"#e26f46\" fill-rule=\"evenodd\" fill-opacity=\"1\" stroke=\"#000000\" stroke-opacity=\"1\" stroke-width=\"3.2\"/>\n",
       "<circle clip-path=\"url(#clip352)\" cx=\"1178.94\" cy=\"729.145\" r=\"14\" fill=\"#e26f46\" fill-rule=\"evenodd\" fill-opacity=\"1\" stroke=\"#000000\" stroke-opacity=\"1\" stroke-width=\"3.2\"/>\n",
       "<circle clip-path=\"url(#clip352)\" cx=\"1302.76\" cy=\"802.281\" r=\"14\" fill=\"#e26f46\" fill-rule=\"evenodd\" fill-opacity=\"1\" stroke=\"#000000\" stroke-opacity=\"1\" stroke-width=\"3.2\"/>\n",
       "<circle clip-path=\"url(#clip352)\" cx=\"1426.58\" cy=\"875.239\" r=\"14\" fill=\"#e26f46\" fill-rule=\"evenodd\" fill-opacity=\"1\" stroke=\"#000000\" stroke-opacity=\"1\" stroke-width=\"3.2\"/>\n",
       "<circle clip-path=\"url(#clip352)\" cx=\"1550.4\" cy=\"948.286\" r=\"14\" fill=\"#e26f46\" fill-rule=\"evenodd\" fill-opacity=\"1\" stroke=\"#000000\" stroke-opacity=\"1\" stroke-width=\"3.2\"/>\n",
       "<circle clip-path=\"url(#clip352)\" cx=\"1674.22\" cy=\"1021.32\" r=\"14\" fill=\"#e26f46\" fill-rule=\"evenodd\" fill-opacity=\"1\" stroke=\"#000000\" stroke-opacity=\"1\" stroke-width=\"3.2\"/>\n",
       "<circle clip-path=\"url(#clip352)\" cx=\"1798.04\" cy=\"1094.33\" r=\"14\" fill=\"#e26f46\" fill-rule=\"evenodd\" fill-opacity=\"1\" stroke=\"#000000\" stroke-opacity=\"1\" stroke-width=\"3.2\"/>\n",
       "<circle clip-path=\"url(#clip352)\" cx=\"1921.86\" cy=\"1167.34\" r=\"14\" fill=\"#e26f46\" fill-rule=\"evenodd\" fill-opacity=\"1\" stroke=\"#000000\" stroke-opacity=\"1\" stroke-width=\"3.2\"/>\n",
       "<circle clip-path=\"url(#clip352)\" cx=\"2045.68\" cy=\"1240.36\" r=\"14\" fill=\"#e26f46\" fill-rule=\"evenodd\" fill-opacity=\"1\" stroke=\"#000000\" stroke-opacity=\"1\" stroke-width=\"3.2\"/>\n",
       "<circle clip-path=\"url(#clip352)\" cx=\"2169.5\" cy=\"1313.38\" r=\"14\" fill=\"#e26f46\" fill-rule=\"evenodd\" fill-opacity=\"1\" stroke=\"#000000\" stroke-opacity=\"1\" stroke-width=\"3.2\"/>\n",
       "<circle clip-path=\"url(#clip352)\" cx=\"2293.32\" cy=\"1386.4\" r=\"14\" fill=\"#e26f46\" fill-rule=\"evenodd\" fill-opacity=\"1\" stroke=\"#000000\" stroke-opacity=\"1\" stroke-width=\"3.2\"/>\n",
       "<path clip-path=\"url(#clip350)\" d=\"\n",
       "M1996.99 322.316 L2282.76 322.316 L2282.76 166.796 L1996.99 166.796  Z\n",
       "  \" fill=\"#ffffff\" fill-rule=\"evenodd\" fill-opacity=\"1\"/>\n",
       "<polyline clip-path=\"url(#clip350)\" style=\"stroke:#000000; stroke-linecap:butt; stroke-linejoin:round; stroke-width:4; stroke-opacity:1; fill:none\" points=\"\n",
       "  1996.99,322.316 2282.76,322.316 2282.76,166.796 1996.99,166.796 1996.99,322.316 \n",
       "  \"/>\n",
       "<circle clip-path=\"url(#clip350)\" cx=\"2090.33\" cy=\"218.636\" r=\"23\" fill=\"#009af9\" fill-rule=\"evenodd\" fill-opacity=\"1\" stroke=\"#000000\" stroke-opacity=\"1\" stroke-width=\"5.12\"/>\n",
       "<path clip-path=\"url(#clip350)\" d=\"M2197.5 238.323 Q2195.7 242.953 2193.98 244.365 Q2192.27 245.777 2189.4 245.777 L2186 245.777 L2186 242.212 L2188.5 242.212 Q2190.26 242.212 2191.23 241.379 Q2192.2 240.545 2193.38 237.443 L2194.15 235.499 L2183.66 209.99 L2188.17 209.99 L2196.28 230.268 L2204.38 209.99 L2208.89 209.99 L2197.5 238.323 Z\" fill=\"#000000\" fill-rule=\"evenodd\" fill-opacity=\"1\" /><path clip-path=\"url(#clip350)\" d=\"M2216.18 231.981 L2223.82 231.981 L2223.82 205.615 L2215.51 207.282 L2215.51 203.022 L2223.77 201.356 L2228.45 201.356 L2228.45 231.981 L2236.09 231.981 L2236.09 235.916 L2216.18 235.916 L2216.18 231.981 Z\" fill=\"#000000\" fill-rule=\"evenodd\" fill-opacity=\"1\" /><circle clip-path=\"url(#clip350)\" cx=\"2090.33\" cy=\"270.476\" r=\"23\" fill=\"#e26f46\" fill-rule=\"evenodd\" fill-opacity=\"1\" stroke=\"#000000\" stroke-opacity=\"1\" stroke-width=\"5.12\"/>\n",
       "<path clip-path=\"url(#clip350)\" d=\"M2197.5 290.163 Q2195.7 294.793 2193.98 296.205 Q2192.27 297.617 2189.4 297.617 L2186 297.617 L2186 294.052 L2188.5 294.052 Q2190.26 294.052 2191.23 293.219 Q2192.2 292.385 2193.38 289.283 L2194.15 287.339 L2183.66 261.83 L2188.17 261.83 L2196.28 282.108 L2204.38 261.83 L2208.89 261.83 L2197.5 290.163 Z\" fill=\"#000000\" fill-rule=\"evenodd\" fill-opacity=\"1\" /><path clip-path=\"url(#clip350)\" d=\"M2219.4 283.821 L2235.72 283.821 L2235.72 287.756 L2213.77 287.756 L2213.77 283.821 Q2216.44 281.066 2221.02 276.436 Q2225.63 271.784 2226.81 270.441 Q2229.05 267.918 2229.93 266.182 Q2230.84 264.423 2230.84 262.733 Q2230.84 259.978 2228.89 258.242 Q2226.97 256.506 2223.87 256.506 Q2221.67 256.506 2219.21 257.27 Q2216.78 258.034 2214.01 259.585 L2214.01 254.862 Q2216.83 253.728 2219.28 253.149 Q2221.74 252.571 2223.77 252.571 Q2229.15 252.571 2232.34 255.256 Q2235.53 257.941 2235.53 262.432 Q2235.53 264.561 2234.72 266.483 Q2233.94 268.381 2231.83 270.973 Q2231.25 271.645 2228.15 274.862 Q2225.05 278.057 2219.4 283.821 Z\" fill=\"#000000\" fill-rule=\"evenodd\" fill-opacity=\"1\" /></svg>\n"
      ]
     },
     "execution_count": 667,
     "metadata": {},
     "output_type": "execute_result"
    }
   ],
   "source": [
    "scatter(Vc, yscale=:log10, title=\"Errores vs Iteraciones\", ylabel=\"Errores en escala logaritmica\", xlabel=\"i\")\n",
    "scatter!(Vr)"
   ]
  },
  {
   "cell_type": "markdown",
   "metadata": {},
   "source": [
    "**2.a.**"
   ]
  },
  {
   "cell_type": "code",
   "execution_count": 668,
   "metadata": {},
   "outputs": [
    {
     "data": {
      "text/plain": [
       "(true, [1.1, 1.25, 1.175, 1.1375000000000002, 1.15625, 1.165625, 1.1609375, 1.1632812499999998, 1.1644531249999999, 1.1650390625, 1.16533203125, 1.1654785156249998, 1.1655517578124999, 1.16558837890625, 1.1655700683593748, 1.1655609130859372], [-0.23524034275134786, 0.5095696738628313, 0.04322115170504448, -0.11338341785151274, -0.0400159397525508, 0.00028302427270565644, -0.020185004783326743, -0.010032004802337458, -0.004894919598906977, -0.0023110771806220676, -0.0010153116203532875, -0.0003664653146806529, -4.1800974913908107e-5, 0.00012059152994714495, 3.939024846255634e-5, -1.2066204040372952e-6], [0.29999999999999993, 0.1499999999999999, 0.07499999999999996, 0.03749999999999998, 0.018749999999999933, 0.009375000000000022, 0.004687499999999956, 0.002343749999999978, 0.0011718750000000444, 0.0005859375000000222, 0.0002929687499999556, 0.0001464843749999778, 7.324218750004441e-5, 3.6621093750022204e-5, 1.8310546875066613e-5, 9.155273437477796e-6], [0.27272727272727265, 0.11999999999999993, 0.0638297872340425, 0.03296703296703294, 0.016216216216216158, 0.008042895442359269, 0.004037685060565238, 0.002014775016789773, 0.0010063737001006756, 0.0005029337803856016, 0.0002514036704935511, 0.00012568603628135012, 6.283906914396052e-5, 3.141854741584353e-5, 1.5709520493126638e-5, 7.854821944258844e-6])"
      ]
     },
     "execution_count": 668,
     "metadata": {},
     "output_type": "execute_result"
    }
   ],
   "source": [
    "f(x)=tan(x)-2x\n",
    "a,b=0.8,1.4\n",
    "conv,Vp,Vf,Vc,Vr = biseccion(f,(a,b))   "
   ]
  },
  {
   "cell_type": "code",
   "execution_count": 669,
   "metadata": {},
   "outputs": [
    {
     "data": {
      "text/html": [
       "<div class=\"data-frame\"><p>16 rows × 4 columns</p><table class=\"data-frame\"><thead><tr><th></th><th>p</th><th>f</th><th>e_x</th><th>e_r</th></tr><tr><th></th><th title=\"Float64\">Float64</th><th title=\"Float64\">Float64</th><th title=\"Float64\">Float64</th><th title=\"Float64\">Float64</th></tr></thead><tbody><tr><th>1</th><td>1.1</td><td>-0.23524</td><td>0.3</td><td>0.272727</td></tr><tr><th>2</th><td>1.25</td><td>0.50957</td><td>0.15</td><td>0.12</td></tr><tr><th>3</th><td>1.175</td><td>0.0432212</td><td>0.075</td><td>0.0638298</td></tr><tr><th>4</th><td>1.1375</td><td>-0.113383</td><td>0.0375</td><td>0.032967</td></tr><tr><th>5</th><td>1.15625</td><td>-0.0400159</td><td>0.01875</td><td>0.0162162</td></tr><tr><th>6</th><td>1.16562</td><td>0.000283024</td><td>0.009375</td><td>0.0080429</td></tr><tr><th>7</th><td>1.16094</td><td>-0.020185</td><td>0.0046875</td><td>0.00403769</td></tr><tr><th>8</th><td>1.16328</td><td>-0.010032</td><td>0.00234375</td><td>0.00201478</td></tr><tr><th>9</th><td>1.16445</td><td>-0.00489492</td><td>0.00117188</td><td>0.00100637</td></tr><tr><th>10</th><td>1.16504</td><td>-0.00231108</td><td>0.000585938</td><td>0.000502934</td></tr><tr><th>11</th><td>1.16533</td><td>-0.00101531</td><td>0.000292969</td><td>0.000251404</td></tr><tr><th>12</th><td>1.16548</td><td>-0.000366465</td><td>0.000146484</td><td>0.000125686</td></tr><tr><th>13</th><td>1.16555</td><td>-4.1801e-5</td><td>7.32422e-5</td><td>6.28391e-5</td></tr><tr><th>14</th><td>1.16559</td><td>0.000120592</td><td>3.66211e-5</td><td>3.14185e-5</td></tr><tr><th>15</th><td>1.16557</td><td>3.93902e-5</td><td>1.83105e-5</td><td>1.57095e-5</td></tr><tr><th>16</th><td>1.16556</td><td>-1.20662e-6</td><td>9.15527e-6</td><td>7.85482e-6</td></tr></tbody></table></div>"
      ],
      "text/latex": [
       "\\begin{tabular}{r|cccc}\n",
       "\t& p & f & e\\_x & e\\_r\\\\\n",
       "\t\\hline\n",
       "\t& Float64 & Float64 & Float64 & Float64\\\\\n",
       "\t\\hline\n",
       "\t1 & 1.1 & -0.23524 & 0.3 & 0.272727 \\\\\n",
       "\t2 & 1.25 & 0.50957 & 0.15 & 0.12 \\\\\n",
       "\t3 & 1.175 & 0.0432212 & 0.075 & 0.0638298 \\\\\n",
       "\t4 & 1.1375 & -0.113383 & 0.0375 & 0.032967 \\\\\n",
       "\t5 & 1.15625 & -0.0400159 & 0.01875 & 0.0162162 \\\\\n",
       "\t6 & 1.16562 & 0.000283024 & 0.009375 & 0.0080429 \\\\\n",
       "\t7 & 1.16094 & -0.020185 & 0.0046875 & 0.00403769 \\\\\n",
       "\t8 & 1.16328 & -0.010032 & 0.00234375 & 0.00201478 \\\\\n",
       "\t9 & 1.16445 & -0.00489492 & 0.00117188 & 0.00100637 \\\\\n",
       "\t10 & 1.16504 & -0.00231108 & 0.000585938 & 0.000502934 \\\\\n",
       "\t11 & 1.16533 & -0.00101531 & 0.000292969 & 0.000251404 \\\\\n",
       "\t12 & 1.16548 & -0.000366465 & 0.000146484 & 0.000125686 \\\\\n",
       "\t13 & 1.16555 & -4.1801e-5 & 7.32422e-5 & 6.28391e-5 \\\\\n",
       "\t14 & 1.16559 & 0.000120592 & 3.66211e-5 & 3.14185e-5 \\\\\n",
       "\t15 & 1.16557 & 3.93902e-5 & 1.83105e-5 & 1.57095e-5 \\\\\n",
       "\t16 & 1.16556 & -1.20662e-6 & 9.15527e-6 & 7.85482e-6 \\\\\n",
       "\\end{tabular}\n"
      ],
      "text/plain": [
       "\u001b[1m16×4 DataFrame\u001b[0m\n",
       "\u001b[1m Row \u001b[0m│\u001b[1m p       \u001b[0m\u001b[1m f            \u001b[0m\u001b[1m e_x         \u001b[0m\u001b[1m e_r         \u001b[0m\n",
       "\u001b[1m     \u001b[0m│\u001b[90m Float64 \u001b[0m\u001b[90m Float64      \u001b[0m\u001b[90m Float64     \u001b[0m\u001b[90m Float64     \u001b[0m\n",
       "─────┼─────────────────────────────────────────────────\n",
       "   1 │ 1.1      -0.23524      0.3          0.272727\n",
       "   2 │ 1.25      0.50957      0.15         0.12\n",
       "   3 │ 1.175     0.0432212    0.075        0.0638298\n",
       "   4 │ 1.1375   -0.113383     0.0375       0.032967\n",
       "   5 │ 1.15625  -0.0400159    0.01875      0.0162162\n",
       "   6 │ 1.16562   0.000283024  0.009375     0.0080429\n",
       "   7 │ 1.16094  -0.020185     0.0046875    0.00403769\n",
       "   8 │ 1.16328  -0.010032     0.00234375   0.00201478\n",
       "   9 │ 1.16445  -0.00489492   0.00117188   0.00100637\n",
       "  10 │ 1.16504  -0.00231108   0.000585938  0.000502934\n",
       "  11 │ 1.16533  -0.00101531   0.000292969  0.000251404\n",
       "  12 │ 1.16548  -0.000366465  0.000146484  0.000125686\n",
       "  13 │ 1.16555  -4.1801e-5    7.32422e-5   6.28391e-5\n",
       "  14 │ 1.16559   0.000120592  3.66211e-5   3.14185e-5\n",
       "  15 │ 1.16557   3.93902e-5   1.83105e-5   1.57095e-5\n",
       "  16 │ 1.16556  -1.20662e-6   9.15527e-6   7.85482e-6"
      ]
     },
     "execution_count": 669,
     "metadata": {},
     "output_type": "execute_result"
    }
   ],
   "source": [
    "DataFrame(p=Vp,f=Vf,e_x=Vc,e_r=Vr)"
   ]
  },
  {
   "cell_type": "markdown",
   "metadata": {},
   "source": [
    "**2.b.**"
   ]
  },
  {
   "cell_type": "code",
   "execution_count": 670,
   "metadata": {},
   "outputs": [
    {
     "data": {
      "image/svg+xml": [
       "<?xml version=\"1.0\" encoding=\"utf-8\"?>\n",
       "<svg xmlns=\"http://www.w3.org/2000/svg\" xmlns:xlink=\"http://www.w3.org/1999/xlink\" width=\"600\" height=\"400\" viewBox=\"0 0 2400 1600\">\n",
       "<defs>\n",
       "  <clipPath id=\"clip390\">\n",
       "    <rect x=\"0\" y=\"0\" width=\"2400\" height=\"1600\"/>\n",
       "  </clipPath>\n",
       "</defs>\n",
       "<path clip-path=\"url(#clip390)\" d=\"\n",
       "M0 1600 L2400 1600 L2400 0 L0 0  Z\n",
       "  \" fill=\"#ffffff\" fill-rule=\"evenodd\" fill-opacity=\"1\"/>\n",
       "<defs>\n",
       "  <clipPath id=\"clip391\">\n",
       "    <rect x=\"480\" y=\"0\" width=\"1681\" height=\"1600\"/>\n",
       "  </clipPath>\n",
       "</defs>\n",
       "<path clip-path=\"url(#clip390)\" d=\"\n",
       "M247.945 1423.18 L2352.76 1423.18 L2352.76 123.472 L247.945 123.472  Z\n",
       "  \" fill=\"#ffffff\" fill-rule=\"evenodd\" fill-opacity=\"1\"/>\n",
       "<defs>\n",
       "  <clipPath id=\"clip392\">\n",
       "    <rect x=\"247\" y=\"123\" width=\"2106\" height=\"1301\"/>\n",
       "  </clipPath>\n",
       "</defs>\n",
       "<polyline clip-path=\"url(#clip392)\" style=\"stroke:#000000; stroke-linecap:butt; stroke-linejoin:round; stroke-width:2; stroke-opacity:0.1; fill:none\" points=\"\n",
       "  572.271,1423.18 572.271,123.472 \n",
       "  \"/>\n",
       "<polyline clip-path=\"url(#clip392)\" style=\"stroke:#000000; stroke-linecap:butt; stroke-linejoin:round; stroke-width:2; stroke-opacity:0.1; fill:none\" points=\"\n",
       "  969.405,1423.18 969.405,123.472 \n",
       "  \"/>\n",
       "<polyline clip-path=\"url(#clip392)\" style=\"stroke:#000000; stroke-linecap:butt; stroke-linejoin:round; stroke-width:2; stroke-opacity:0.1; fill:none\" points=\"\n",
       "  1366.54,1423.18 1366.54,123.472 \n",
       "  \"/>\n",
       "<polyline clip-path=\"url(#clip392)\" style=\"stroke:#000000; stroke-linecap:butt; stroke-linejoin:round; stroke-width:2; stroke-opacity:0.1; fill:none\" points=\"\n",
       "  1763.67,1423.18 1763.67,123.472 \n",
       "  \"/>\n",
       "<polyline clip-path=\"url(#clip392)\" style=\"stroke:#000000; stroke-linecap:butt; stroke-linejoin:round; stroke-width:2; stroke-opacity:0.1; fill:none\" points=\"\n",
       "  2160.81,1423.18 2160.81,123.472 \n",
       "  \"/>\n",
       "<polyline clip-path=\"url(#clip390)\" style=\"stroke:#000000; stroke-linecap:butt; stroke-linejoin:round; stroke-width:4; stroke-opacity:1; fill:none\" points=\"\n",
       "  247.945,1423.18 2352.76,1423.18 \n",
       "  \"/>\n",
       "<polyline clip-path=\"url(#clip390)\" style=\"stroke:#000000; stroke-linecap:butt; stroke-linejoin:round; stroke-width:4; stroke-opacity:1; fill:none\" points=\"\n",
       "  572.271,1423.18 572.271,1404.28 \n",
       "  \"/>\n",
       "<polyline clip-path=\"url(#clip390)\" style=\"stroke:#000000; stroke-linecap:butt; stroke-linejoin:round; stroke-width:4; stroke-opacity:1; fill:none\" points=\"\n",
       "  969.405,1423.18 969.405,1404.28 \n",
       "  \"/>\n",
       "<polyline clip-path=\"url(#clip390)\" style=\"stroke:#000000; stroke-linecap:butt; stroke-linejoin:round; stroke-width:4; stroke-opacity:1; fill:none\" points=\"\n",
       "  1366.54,1423.18 1366.54,1404.28 \n",
       "  \"/>\n",
       "<polyline clip-path=\"url(#clip390)\" style=\"stroke:#000000; stroke-linecap:butt; stroke-linejoin:round; stroke-width:4; stroke-opacity:1; fill:none\" points=\"\n",
       "  1763.67,1423.18 1763.67,1404.28 \n",
       "  \"/>\n",
       "<polyline clip-path=\"url(#clip390)\" style=\"stroke:#000000; stroke-linecap:butt; stroke-linejoin:round; stroke-width:4; stroke-opacity:1; fill:none\" points=\"\n",
       "  2160.81,1423.18 2160.81,1404.28 \n",
       "  \"/>\n",
       "<path clip-path=\"url(#clip390)\" d=\"M576.519 1466.95 Q579.875 1467.66 581.75 1469.93 Q583.648 1472.2 583.648 1475.53 Q583.648 1480.65 580.13 1483.45 Q576.611 1486.25 570.13 1486.25 Q567.954 1486.25 565.639 1485.81 Q563.347 1485.39 560.894 1484.54 L560.894 1480.02 Q562.838 1481.16 565.153 1481.74 Q567.468 1482.32 569.991 1482.32 Q574.389 1482.32 576.681 1480.58 Q578.996 1478.84 578.996 1475.53 Q578.996 1472.48 576.843 1470.77 Q574.713 1469.03 570.894 1469.03 L566.866 1469.03 L566.866 1465.19 L571.079 1465.19 Q574.528 1465.19 576.357 1463.82 Q578.185 1462.43 578.185 1459.84 Q578.185 1457.18 576.287 1455.77 Q574.412 1454.33 570.894 1454.33 Q568.972 1454.33 566.773 1454.75 Q564.574 1455.16 561.935 1456.04 L561.935 1451.88 Q564.597 1451.14 566.912 1450.77 Q569.25 1450.39 571.31 1450.39 Q576.634 1450.39 579.736 1452.83 Q582.838 1455.23 582.838 1459.35 Q582.838 1462.22 581.195 1464.21 Q579.551 1466.18 576.519 1466.95 Z\" fill=\"#000000\" fill-rule=\"evenodd\" fill-opacity=\"1\" /><path clip-path=\"url(#clip390)\" d=\"M969.81 1466.44 Q966.662 1466.44 964.81 1468.59 Q962.982 1470.74 962.982 1474.49 Q962.982 1478.22 964.81 1480.39 Q966.662 1482.55 969.81 1482.55 Q972.958 1482.55 974.787 1480.39 Q976.639 1478.22 976.639 1474.49 Q976.639 1470.74 974.787 1468.59 Q972.958 1466.44 969.81 1466.44 M979.093 1451.78 L979.093 1456.04 Q977.333 1455.21 975.528 1454.77 Q973.745 1454.33 971.986 1454.33 Q967.357 1454.33 964.903 1457.45 Q962.472 1460.58 962.125 1466.9 Q963.491 1464.89 965.551 1463.82 Q967.611 1462.73 970.088 1462.73 Q975.296 1462.73 978.306 1465.9 Q981.338 1469.05 981.338 1474.49 Q981.338 1479.82 978.19 1483.03 Q975.042 1486.25 969.81 1486.25 Q963.815 1486.25 960.644 1481.67 Q957.472 1477.06 957.472 1468.33 Q957.472 1460.14 961.361 1455.28 Q965.25 1450.39 971.801 1450.39 Q973.56 1450.39 975.343 1450.74 Q977.148 1451.09 979.093 1451.78 Z\" fill=\"#000000\" fill-rule=\"evenodd\" fill-opacity=\"1\" /><path clip-path=\"url(#clip390)\" d=\"M1356.84 1484.86 L1356.84 1480.6 Q1358.6 1481.44 1360.41 1481.88 Q1362.21 1482.32 1363.95 1482.32 Q1368.58 1482.32 1371.01 1479.21 Q1373.46 1476.09 1373.81 1469.75 Q1372.47 1471.74 1370.41 1472.8 Q1368.34 1473.87 1365.84 1473.87 Q1360.66 1473.87 1357.63 1470.74 Q1354.62 1467.59 1354.62 1462.15 Q1354.62 1456.83 1357.77 1453.61 Q1360.91 1450.39 1366.15 1450.39 Q1372.14 1450.39 1375.29 1455 Q1378.46 1459.58 1378.46 1468.33 Q1378.46 1476.51 1374.57 1481.39 Q1370.71 1486.25 1364.16 1486.25 Q1362.4 1486.25 1360.59 1485.9 Q1358.78 1485.56 1356.84 1484.86 M1366.15 1470.21 Q1369.29 1470.21 1371.12 1468.06 Q1372.97 1465.9 1372.97 1462.15 Q1372.97 1458.43 1371.12 1456.27 Q1369.29 1454.1 1366.15 1454.1 Q1363 1454.1 1361.15 1456.27 Q1359.32 1458.43 1359.32 1462.15 Q1359.32 1465.9 1361.15 1468.06 Q1363 1470.21 1366.15 1470.21 Z\" fill=\"#000000\" fill-rule=\"evenodd\" fill-opacity=\"1\" /><path clip-path=\"url(#clip390)\" d=\"M1739.16 1481.64 L1746.8 1481.64 L1746.8 1455.28 L1738.49 1456.95 L1738.49 1452.69 L1746.75 1451.02 L1751.43 1451.02 L1751.43 1481.64 L1759.07 1481.64 L1759.07 1485.58 L1739.16 1485.58 L1739.16 1481.64 Z\" fill=\"#000000\" fill-rule=\"evenodd\" fill-opacity=\"1\" /><path clip-path=\"url(#clip390)\" d=\"M1772.54 1481.64 L1788.86 1481.64 L1788.86 1485.58 L1766.91 1485.58 L1766.91 1481.64 Q1769.58 1478.89 1774.16 1474.26 Q1778.77 1469.61 1779.95 1468.27 Q1782.19 1465.74 1783.07 1464.01 Q1783.97 1462.25 1783.97 1460.56 Q1783.97 1457.8 1782.03 1456.07 Q1780.11 1454.33 1777.01 1454.33 Q1774.81 1454.33 1772.35 1455.09 Q1769.92 1455.86 1767.15 1457.41 L1767.15 1452.69 Q1769.97 1451.55 1772.42 1450.97 Q1774.88 1450.39 1776.91 1450.39 Q1782.28 1450.39 1785.48 1453.08 Q1788.67 1455.77 1788.67 1460.26 Q1788.67 1462.39 1787.86 1464.31 Q1787.08 1466.2 1784.97 1468.8 Q1784.39 1469.47 1781.29 1472.69 Q1778.19 1475.88 1772.54 1481.64 Z\" fill=\"#000000\" fill-rule=\"evenodd\" fill-opacity=\"1\" /><path clip-path=\"url(#clip390)\" d=\"M2135.99 1481.64 L2143.63 1481.64 L2143.63 1455.28 L2135.32 1456.95 L2135.32 1452.69 L2143.59 1451.02 L2148.26 1451.02 L2148.26 1481.64 L2155.9 1481.64 L2155.9 1485.58 L2135.99 1485.58 L2135.99 1481.64 Z\" fill=\"#000000\" fill-rule=\"evenodd\" fill-opacity=\"1\" /><path clip-path=\"url(#clip390)\" d=\"M2165.39 1451.02 L2183.75 1451.02 L2183.75 1454.96 L2169.67 1454.96 L2169.67 1463.43 Q2170.69 1463.08 2171.71 1462.92 Q2172.73 1462.73 2173.75 1462.73 Q2179.53 1462.73 2182.91 1465.9 Q2186.29 1469.08 2186.29 1474.49 Q2186.29 1480.07 2182.82 1483.17 Q2179.35 1486.25 2173.03 1486.25 Q2170.85 1486.25 2168.59 1485.88 Q2166.34 1485.51 2163.93 1484.77 L2163.93 1480.07 Q2166.02 1481.2 2168.24 1481.76 Q2170.46 1482.32 2172.94 1482.32 Q2176.94 1482.32 2179.28 1480.21 Q2181.62 1478.1 2181.62 1474.49 Q2181.62 1470.88 2179.28 1468.77 Q2176.94 1466.67 2172.94 1466.67 Q2171.06 1466.67 2169.19 1467.08 Q2167.34 1467.5 2165.39 1468.38 L2165.39 1451.02 Z\" fill=\"#000000\" fill-rule=\"evenodd\" fill-opacity=\"1\" /><path clip-path=\"url(#clip390)\" d=\"M1297.42 1532.4 L1303.28 1532.4 L1303.28 1568.04 L1297.42 1568.04 L1297.42 1532.4 M1297.42 1518.52 L1303.28 1518.52 L1303.28 1525.93 L1297.42 1525.93 L1297.42 1518.52 Z\" fill=\"#000000\" fill-rule=\"evenodd\" fill-opacity=\"1\" /><polyline clip-path=\"url(#clip392)\" style=\"stroke:#000000; stroke-linecap:butt; stroke-linejoin:round; stroke-width:2; stroke-opacity:0.1; fill:none\" points=\"\n",
       "  247.945,1304.65 2352.76,1304.65 \n",
       "  \"/>\n",
       "<polyline clip-path=\"url(#clip392)\" style=\"stroke:#000000; stroke-linecap:butt; stroke-linejoin:round; stroke-width:2; stroke-opacity:0.1; fill:none\" points=\"\n",
       "  247.945,1059.43 2352.76,1059.43 \n",
       "  \"/>\n",
       "<polyline clip-path=\"url(#clip392)\" style=\"stroke:#000000; stroke-linecap:butt; stroke-linejoin:round; stroke-width:2; stroke-opacity:0.1; fill:none\" points=\"\n",
       "  247.945,814.197 2352.76,814.197 \n",
       "  \"/>\n",
       "<polyline clip-path=\"url(#clip392)\" style=\"stroke:#000000; stroke-linecap:butt; stroke-linejoin:round; stroke-width:2; stroke-opacity:0.1; fill:none\" points=\"\n",
       "  247.945,568.969 2352.76,568.969 \n",
       "  \"/>\n",
       "<polyline clip-path=\"url(#clip392)\" style=\"stroke:#000000; stroke-linecap:butt; stroke-linejoin:round; stroke-width:2; stroke-opacity:0.1; fill:none\" points=\"\n",
       "  247.945,323.742 2352.76,323.742 \n",
       "  \"/>\n",
       "<polyline clip-path=\"url(#clip390)\" style=\"stroke:#000000; stroke-linecap:butt; stroke-linejoin:round; stroke-width:4; stroke-opacity:1; fill:none\" points=\"\n",
       "  247.945,1423.18 247.945,123.472 \n",
       "  \"/>\n",
       "<polyline clip-path=\"url(#clip390)\" style=\"stroke:#000000; stroke-linecap:butt; stroke-linejoin:round; stroke-width:4; stroke-opacity:1; fill:none\" points=\"\n",
       "  247.945,1304.65 266.842,1304.65 \n",
       "  \"/>\n",
       "<polyline clip-path=\"url(#clip390)\" style=\"stroke:#000000; stroke-linecap:butt; stroke-linejoin:round; stroke-width:4; stroke-opacity:1; fill:none\" points=\"\n",
       "  247.945,1059.43 266.842,1059.43 \n",
       "  \"/>\n",
       "<polyline clip-path=\"url(#clip390)\" style=\"stroke:#000000; stroke-linecap:butt; stroke-linejoin:round; stroke-width:4; stroke-opacity:1; fill:none\" points=\"\n",
       "  247.945,814.197 266.842,814.197 \n",
       "  \"/>\n",
       "<polyline clip-path=\"url(#clip390)\" style=\"stroke:#000000; stroke-linecap:butt; stroke-linejoin:round; stroke-width:4; stroke-opacity:1; fill:none\" points=\"\n",
       "  247.945,568.969 266.842,568.969 \n",
       "  \"/>\n",
       "<polyline clip-path=\"url(#clip390)\" style=\"stroke:#000000; stroke-linecap:butt; stroke-linejoin:round; stroke-width:4; stroke-opacity:1; fill:none\" points=\"\n",
       "  247.945,323.742 266.842,323.742 \n",
       "  \"/>\n",
       "<path clip-path=\"url(#clip390)\" d=\"M116.644 1318 L124.283 1318 L124.283 1291.63 L115.973 1293.3 L115.973 1289.04 L124.237 1287.37 L128.913 1287.37 L128.913 1318 L136.552 1318 L136.552 1321.93 L116.644 1321.93 L116.644 1318 Z\" fill=\"#000000\" fill-rule=\"evenodd\" fill-opacity=\"1\" /><path clip-path=\"url(#clip390)\" d=\"M145.996 1316.05 L150.88 1316.05 L150.88 1321.93 L145.996 1321.93 L145.996 1316.05 Z\" fill=\"#000000\" fill-rule=\"evenodd\" fill-opacity=\"1\" /><path clip-path=\"url(#clip390)\" d=\"M161.876 1318 L169.514 1318 L169.514 1291.63 L161.204 1293.3 L161.204 1289.04 L169.468 1287.37 L174.144 1287.37 L174.144 1318 L181.783 1318 L181.783 1321.93 L161.876 1321.93 L161.876 1318 Z\" fill=\"#000000\" fill-rule=\"evenodd\" fill-opacity=\"1\" /><path clip-path=\"url(#clip390)\" d=\"M192.038 1318 L199.676 1318 L199.676 1291.63 L191.366 1293.3 L191.366 1289.04 L199.63 1287.37 L204.306 1287.37 L204.306 1318 L211.945 1318 L211.945 1321.93 L192.038 1321.93 L192.038 1318 Z\" fill=\"#000000\" fill-rule=\"evenodd\" fill-opacity=\"1\" /><path clip-path=\"url(#clip390)\" d=\"M114.931 1072.77 L122.57 1072.77 L122.57 1046.4 L114.26 1048.07 L114.26 1043.81 L122.524 1042.15 L127.2 1042.15 L127.2 1072.77 L134.839 1072.77 L134.839 1076.71 L114.931 1076.71 L114.931 1072.77 Z\" fill=\"#000000\" fill-rule=\"evenodd\" fill-opacity=\"1\" /><path clip-path=\"url(#clip390)\" d=\"M144.283 1070.83 L149.167 1070.83 L149.167 1076.71 L144.283 1076.71 L144.283 1070.83 Z\" fill=\"#000000\" fill-rule=\"evenodd\" fill-opacity=\"1\" /><path clip-path=\"url(#clip390)\" d=\"M160.163 1072.77 L167.802 1072.77 L167.802 1046.4 L159.491 1048.07 L159.491 1043.81 L167.755 1042.15 L172.431 1042.15 L172.431 1072.77 L180.07 1072.77 L180.07 1076.71 L160.163 1076.71 L160.163 1072.77 Z\" fill=\"#000000\" fill-rule=\"evenodd\" fill-opacity=\"1\" /><path clip-path=\"url(#clip390)\" d=\"M202.362 1046.22 L190.556 1064.67 L202.362 1064.67 L202.362 1046.22 M201.135 1042.15 L207.014 1042.15 L207.014 1064.67 L211.945 1064.67 L211.945 1068.56 L207.014 1068.56 L207.014 1076.71 L202.362 1076.71 L202.362 1068.56 L186.76 1068.56 L186.76 1064.04 L201.135 1042.15 Z\" fill=\"#000000\" fill-rule=\"evenodd\" fill-opacity=\"1\" /><path clip-path=\"url(#clip390)\" d=\"M116.32 827.542 L123.959 827.542 L123.959 801.177 L115.649 802.843 L115.649 798.584 L123.913 796.917 L128.589 796.917 L128.589 827.542 L136.228 827.542 L136.228 831.477 L116.32 831.477 L116.32 827.542 Z\" fill=\"#000000\" fill-rule=\"evenodd\" fill-opacity=\"1\" /><path clip-path=\"url(#clip390)\" d=\"M145.672 825.598 L150.556 825.598 L150.556 831.477 L145.672 831.477 L145.672 825.598 Z\" fill=\"#000000\" fill-rule=\"evenodd\" fill-opacity=\"1\" /><path clip-path=\"url(#clip390)\" d=\"M161.552 827.542 L169.19 827.542 L169.19 801.177 L160.88 802.843 L160.88 798.584 L169.144 796.917 L173.82 796.917 L173.82 827.542 L181.459 827.542 L181.459 831.477 L161.552 831.477 L161.552 827.542 Z\" fill=\"#000000\" fill-rule=\"evenodd\" fill-opacity=\"1\" /><path clip-path=\"url(#clip390)\" d=\"M189.723 796.917 L211.945 796.917 L211.945 798.908 L199.399 831.477 L194.514 831.477 L206.32 800.852 L189.723 800.852 L189.723 796.917 Z\" fill=\"#000000\" fill-rule=\"evenodd\" fill-opacity=\"1\" /><path clip-path=\"url(#clip390)\" d=\"M115.418 582.314 L123.056 582.314 L123.056 555.949 L114.746 557.615 L114.746 553.356 L123.01 551.689 L127.686 551.689 L127.686 582.314 L135.325 582.314 L135.325 586.249 L115.418 586.249 L115.418 582.314 Z\" fill=\"#000000\" fill-rule=\"evenodd\" fill-opacity=\"1\" /><path clip-path=\"url(#clip390)\" d=\"M144.769 580.37 L149.653 580.37 L149.653 586.249 L144.769 586.249 L144.769 580.37 Z\" fill=\"#000000\" fill-rule=\"evenodd\" fill-opacity=\"1\" /><path clip-path=\"url(#clip390)\" d=\"M163.866 582.314 L180.186 582.314 L180.186 586.249 L158.241 586.249 L158.241 582.314 Q160.903 579.56 165.487 574.93 Q170.093 570.277 171.274 568.935 Q173.519 566.412 174.399 564.675 Q175.301 562.916 175.301 561.226 Q175.301 558.472 173.357 556.736 Q171.436 555 168.334 555 Q166.135 555 163.681 555.763 Q161.251 556.527 158.473 558.078 L158.473 553.356 Q161.297 552.222 163.751 551.643 Q166.204 551.064 168.241 551.064 Q173.612 551.064 176.806 553.75 Q180.001 556.435 180.001 560.925 Q180.001 563.055 179.19 564.976 Q178.403 566.875 176.297 569.467 Q175.718 570.138 172.616 573.356 Q169.514 576.55 163.866 582.314 Z\" fill=\"#000000\" fill-rule=\"evenodd\" fill-opacity=\"1\" /><path clip-path=\"url(#clip390)\" d=\"M200 554.768 Q196.389 554.768 194.561 558.333 Q192.755 561.875 192.755 569.004 Q192.755 576.111 194.561 579.675 Q196.389 583.217 200 583.217 Q203.635 583.217 205.44 579.675 Q207.269 576.111 207.269 569.004 Q207.269 561.875 205.44 558.333 Q203.635 554.768 200 554.768 M200 551.064 Q205.811 551.064 208.866 555.671 Q211.945 560.254 211.945 569.004 Q211.945 577.731 208.866 582.337 Q205.811 586.921 200 586.921 Q194.19 586.921 191.112 582.337 Q188.056 577.731 188.056 569.004 Q188.056 560.254 191.112 555.671 Q194.19 551.064 200 551.064 Z\" fill=\"#000000\" fill-rule=\"evenodd\" fill-opacity=\"1\" /><path clip-path=\"url(#clip390)\" d=\"M116.066 337.086 L123.705 337.086 L123.705 310.721 L115.394 312.387 L115.394 308.128 L123.658 306.462 L128.334 306.462 L128.334 337.086 L135.973 337.086 L135.973 341.022 L116.066 341.022 L116.066 337.086 Z\" fill=\"#000000\" fill-rule=\"evenodd\" fill-opacity=\"1\" /><path clip-path=\"url(#clip390)\" d=\"M145.417 335.142 L150.302 335.142 L150.302 341.022 L145.417 341.022 L145.417 335.142 Z\" fill=\"#000000\" fill-rule=\"evenodd\" fill-opacity=\"1\" /><path clip-path=\"url(#clip390)\" d=\"M164.515 337.086 L180.834 337.086 L180.834 341.022 L158.89 341.022 L158.89 337.086 Q161.552 334.332 166.135 329.702 Q170.741 325.049 171.922 323.707 Q174.167 321.184 175.047 319.448 Q175.95 317.688 175.95 315.999 Q175.95 313.244 174.005 311.508 Q172.084 309.772 168.982 309.772 Q166.783 309.772 164.329 310.536 Q161.899 311.299 159.121 312.85 L159.121 308.128 Q161.945 306.994 164.399 306.415 Q166.852 305.837 168.889 305.837 Q174.26 305.837 177.454 308.522 Q180.649 311.207 180.649 315.698 Q180.649 317.827 179.839 319.749 Q179.051 321.647 176.945 324.239 Q176.366 324.911 173.264 328.128 Q170.163 331.323 164.515 337.086 Z\" fill=\"#000000\" fill-rule=\"evenodd\" fill-opacity=\"1\" /><path clip-path=\"url(#clip390)\" d=\"M204.815 322.387 Q208.172 323.105 210.047 325.373 Q211.945 327.642 211.945 330.975 Q211.945 336.091 208.426 338.892 Q204.908 341.693 198.426 341.693 Q196.25 341.693 193.936 341.253 Q191.644 340.836 189.19 339.98 L189.19 335.466 Q191.135 336.6 193.45 337.179 Q195.764 337.758 198.287 337.758 Q202.686 337.758 204.977 336.022 Q207.292 334.285 207.292 330.975 Q207.292 327.92 205.139 326.207 Q203.01 324.471 199.19 324.471 L195.163 324.471 L195.163 320.628 L199.375 320.628 Q202.824 320.628 204.653 319.262 Q206.482 317.874 206.482 315.281 Q206.482 312.619 204.584 311.207 Q202.709 309.772 199.19 309.772 Q197.269 309.772 195.07 310.188 Q192.871 310.605 190.232 311.485 L190.232 307.318 Q192.894 306.577 195.209 306.207 Q197.547 305.837 199.607 305.837 Q204.931 305.837 208.033 308.267 Q211.135 310.674 211.135 314.795 Q211.135 317.665 209.491 319.656 Q207.848 321.624 204.815 322.387 Z\" fill=\"#000000\" fill-rule=\"evenodd\" fill-opacity=\"1\" /><path clip-path=\"url(#clip390)\" d=\"M28.3562 763.777 L45.7028 776.668 L64.0042 763.109 L64.0042 770.016 L49.9996 780.392 L64.0042 790.768 L64.0042 797.675 L45.3526 783.829 L28.3562 796.497 L28.3562 789.59 L41.0558 780.137 L28.3562 770.684 L28.3562 763.777 Z\" fill=\"#000000\" fill-rule=\"evenodd\" fill-opacity=\"1\" /><path clip-path=\"url(#clip390)\" d=\"M28.3562 754.834 L28.3562 748.977 L64.0042 748.977 L64.0042 754.834 L28.3562 754.834 M14.479 754.834 L14.479 748.977 L21.895 748.977 L21.895 754.834 L14.479 754.834 Z\" fill=\"#000000\" fill-rule=\"evenodd\" fill-opacity=\"1\" /><path clip-path=\"url(#clip390)\" d=\"M1137.4 27.2059 L1121 49.2833 L1138.25 72.576 L1129.46 72.576 L1116.26 54.752 L1103.05 72.576 L1094.26 72.576 L1111.88 48.8377 L1095.76 27.2059 L1104.55 27.2059 L1116.58 43.369 L1128.61 27.2059 L1137.4 27.2059 Z\" fill=\"#000000\" fill-rule=\"evenodd\" fill-opacity=\"1\" /><path clip-path=\"url(#clip390)\" d=\"M1148.79 27.2059 L1156.24 27.2059 L1156.24 72.576 L1148.79 72.576 L1148.79 27.2059 M1148.79 9.54393 L1156.24 9.54393 L1156.24 18.9825 L1148.79 18.9825 L1148.79 9.54393 Z\" fill=\"#000000\" fill-rule=\"evenodd\" fill-opacity=\"1\" /><path clip-path=\"url(#clip390)\" d=\"M1224.74 39.4801 L1224.74 46.6907 Q1220.49 49.8909 1216.84 51.2682 Q1213.24 52.6456 1209.31 52.6456 Q1204.85 52.6456 1198.94 50.2555 Q1198.49 50.0935 1198.29 50.0125 Q1198 49.8909 1197.4 49.6884 Q1191.12 47.1768 1187.31 47.1768 Q1183.75 47.1768 1180.26 48.7567 Q1176.78 50.296 1172.81 53.6583 L1172.81 46.4477 Q1177.06 43.2475 1180.67 41.8701 Q1184.31 40.4523 1188.24 40.4523 Q1192.7 40.4523 1198.65 42.8829 Q1199.06 43.0449 1199.26 43.1259 Q1199.58 43.2475 1200.15 43.45 Q1206.43 45.9616 1210.24 45.9616 Q1213.72 45.9616 1217.12 44.4222 Q1220.57 42.8829 1224.74 39.4801 Z\" fill=\"#000000\" fill-rule=\"evenodd\" fill-opacity=\"1\" /><path clip-path=\"url(#clip390)\" d=\"M1270.27 28.5427 L1270.27 35.5912 Q1267.11 33.9709 1263.71 33.1607 Q1260.31 32.3505 1256.66 32.3505 Q1251.11 32.3505 1248.32 34.0519 Q1245.56 35.7533 1245.56 39.156 Q1245.56 41.7486 1247.55 43.2475 Q1249.53 44.7058 1255.53 46.0426 L1258.08 46.6097 Q1266.02 48.3111 1269.34 51.4303 Q1272.7 54.509 1272.7 60.0587 Q1272.7 66.3781 1267.68 70.0644 Q1262.7 73.7508 1253.95 73.7508 Q1250.3 73.7508 1246.33 73.0216 Q1242.4 72.3329 1238.03 70.9151 L1238.03 63.2184 Q1242.16 65.3654 1246.17 66.4591 Q1250.18 67.5124 1254.11 67.5124 Q1259.38 67.5124 1262.21 65.73 Q1265.05 63.9071 1265.05 60.6258 Q1265.05 57.5877 1262.98 55.9673 Q1260.96 54.3469 1254.03 52.8481 L1251.44 52.2405 Q1244.51 50.7821 1241.43 47.7845 Q1238.35 44.7463 1238.35 39.4801 Q1238.35 33.0797 1242.89 29.5959 Q1247.43 26.1121 1255.77 26.1121 Q1259.9 26.1121 1263.55 26.7198 Q1267.19 27.3274 1270.27 28.5427 Z\" fill=\"#000000\" fill-rule=\"evenodd\" fill-opacity=\"1\" /><path clip-path=\"url(#clip390)\" d=\"M1289.03 49.9314 Q1289.03 58.1548 1292.39 62.8538 Q1295.79 67.5124 1301.71 67.5124 Q1307.62 67.5124 1311.02 62.8538 Q1314.43 58.1548 1314.43 49.9314 Q1314.43 41.7081 1311.02 37.0496 Q1307.62 32.3505 1301.71 32.3505 Q1295.79 32.3505 1292.39 37.0496 Q1289.03 41.7081 1289.03 49.9314 M1314.43 65.7705 Q1312.08 69.8214 1308.47 71.8063 Q1304.91 73.7508 1299.88 73.7508 Q1291.66 73.7508 1286.48 67.1883 Q1281.33 60.6258 1281.33 49.9314 Q1281.33 39.2371 1286.48 32.6746 Q1291.66 26.1121 1299.88 26.1121 Q1304.91 26.1121 1308.47 28.0971 Q1312.08 30.0415 1314.43 34.0924 L1314.43 27.2059 L1321.88 27.2059 L1321.88 89.8329 L1314.43 89.8329 L1314.43 65.7705 Z\" fill=\"#000000\" fill-rule=\"evenodd\" fill-opacity=\"1\" /><path clip-path=\"url(#clip390)\" d=\"M1363.52 34.1734 Q1362.27 33.4443 1360.77 33.1202 Q1359.31 32.7556 1357.53 32.7556 Q1351.21 32.7556 1347.81 36.8875 Q1344.44 40.9789 1344.44 48.6757 L1344.44 72.576 L1336.95 72.576 L1336.95 27.2059 L1344.44 27.2059 L1344.44 34.2544 Q1346.79 30.1225 1350.56 28.1376 Q1354.33 26.1121 1359.72 26.1121 Q1360.49 26.1121 1361.42 26.2337 Q1362.35 26.3147 1363.48 26.5172 L1363.52 34.1734 Z\" fill=\"#000000\" fill-rule=\"evenodd\" fill-opacity=\"1\" /><path clip-path=\"url(#clip390)\" d=\"M1378.72 14.324 L1378.72 27.2059 L1394.07 27.2059 L1394.07 32.9987 L1378.72 32.9987 L1378.72 57.6282 Q1378.72 63.1779 1380.21 64.7578 Q1381.75 66.3376 1386.41 66.3376 L1394.07 66.3376 L1394.07 72.576 L1386.41 72.576 Q1377.78 72.576 1374.5 69.3758 Q1371.22 66.1351 1371.22 57.6282 L1371.22 32.9987 L1365.75 32.9987 L1365.75 27.2059 L1371.22 27.2059 L1371.22 14.324 L1378.72 14.324 Z\" fill=\"#000000\" fill-rule=\"evenodd\" fill-opacity=\"1\" /><path clip-path=\"url(#clip390)\" d=\"M1421.78 9.62495 Q1416.35 18.942 1413.71 28.0566 Q1411.08 37.1711 1411.08 46.5287 Q1411.08 55.8863 1413.71 65.0818 Q1416.39 74.2369 1421.78 83.5134 L1415.29 83.5134 Q1409.22 73.9938 1406.18 64.7983 Q1403.18 55.6027 1403.18 46.5287 Q1403.18 37.4952 1406.18 28.3401 Q1409.18 19.1851 1415.29 9.62495 L1421.78 9.62495 Z\" fill=\"#000000\" fill-rule=\"evenodd\" fill-opacity=\"1\" /><path clip-path=\"url(#clip390)\" d=\"M1462.08 39.9662 Q1467.96 41.222 1471.24 45.1919 Q1474.56 49.1618 1474.56 54.9951 Q1474.56 63.9476 1468.4 68.8492 Q1462.24 73.7508 1450.9 73.7508 Q1447.09 73.7508 1443.04 72.9811 Q1439.03 72.2519 1434.74 70.7531 L1434.74 62.8538 Q1438.14 64.8388 1442.19 65.8515 Q1446.24 66.8642 1450.66 66.8642 Q1458.36 66.8642 1462.37 63.826 Q1466.42 60.7879 1466.42 54.9951 Q1466.42 49.6479 1462.65 46.6502 Q1458.92 43.612 1452.24 43.612 L1445.19 43.612 L1445.19 36.8875 L1452.56 36.8875 Q1458.6 36.8875 1461.8 34.4975 Q1465 32.067 1465 27.5299 Q1465 22.8714 1461.68 20.4004 Q1458.4 17.8888 1452.24 17.8888 Q1448.88 17.8888 1445.03 18.618 Q1441.18 19.3471 1436.56 20.8865 L1436.56 13.5948 Q1441.22 12.2985 1445.27 11.6504 Q1449.36 11.0023 1452.97 11.0023 Q1462.29 11.0023 1467.71 15.2557 Q1473.14 19.4686 1473.14 26.6793 Q1473.14 31.7024 1470.27 35.1862 Q1467.39 38.6294 1462.08 39.9662 Z\" fill=\"#000000\" fill-rule=\"evenodd\" fill-opacity=\"1\" /><path clip-path=\"url(#clip390)\" d=\"M1487.85 9.62495 L1494.33 9.62495 Q1500.4 19.1851 1503.4 28.3401 Q1506.44 37.4952 1506.44 46.5287 Q1506.44 55.6027 1503.4 64.7983 Q1500.4 73.9938 1494.33 83.5134 L1487.85 83.5134 Q1493.23 74.2369 1495.87 65.0818 Q1498.54 55.8863 1498.54 46.5287 Q1498.54 37.1711 1495.87 28.0566 Q1493.23 18.942 1487.85 9.62495 Z\" fill=\"#000000\" fill-rule=\"evenodd\" fill-opacity=\"1\" /><circle clip-path=\"url(#clip392)\" cx=\"307.515\" cy=\"1386.4\" r=\"14\" fill=\"#009af9\" fill-rule=\"evenodd\" fill-opacity=\"1\" stroke=\"#000000\" stroke-opacity=\"1\" stroke-width=\"3.2\"/>\n",
       "<circle clip-path=\"url(#clip392)\" cx=\"439.893\" cy=\"160.256\" r=\"14\" fill=\"#009af9\" fill-rule=\"evenodd\" fill-opacity=\"1\" stroke=\"#000000\" stroke-opacity=\"1\" stroke-width=\"3.2\"/>\n",
       "<circle clip-path=\"url(#clip392)\" cx=\"572.271\" cy=\"773.326\" r=\"14\" fill=\"#009af9\" fill-rule=\"evenodd\" fill-opacity=\"1\" stroke=\"#000000\" stroke-opacity=\"1\" stroke-width=\"3.2\"/>\n",
       "<circle clip-path=\"url(#clip392)\" cx=\"704.649\" cy=\"1079.86\" r=\"14\" fill=\"#009af9\" fill-rule=\"evenodd\" fill-opacity=\"1\" stroke=\"#000000\" stroke-opacity=\"1\" stroke-width=\"3.2\"/>\n",
       "<circle clip-path=\"url(#clip392)\" cx=\"837.027\" cy=\"926.593\" r=\"14\" fill=\"#009af9\" fill-rule=\"evenodd\" fill-opacity=\"1\" stroke=\"#000000\" stroke-opacity=\"1\" stroke-width=\"3.2\"/>\n",
       "<circle clip-path=\"url(#clip392)\" cx=\"969.405\" cy=\"849.96\" r=\"14\" fill=\"#009af9\" fill-rule=\"evenodd\" fill-opacity=\"1\" stroke=\"#000000\" stroke-opacity=\"1\" stroke-width=\"3.2\"/>\n",
       "<circle clip-path=\"url(#clip392)\" cx=\"1101.78\" cy=\"888.277\" r=\"14\" fill=\"#009af9\" fill-rule=\"evenodd\" fill-opacity=\"1\" stroke=\"#000000\" stroke-opacity=\"1\" stroke-width=\"3.2\"/>\n",
       "<circle clip-path=\"url(#clip392)\" cx=\"1234.16\" cy=\"869.118\" r=\"14\" fill=\"#009af9\" fill-rule=\"evenodd\" fill-opacity=\"1\" stroke=\"#000000\" stroke-opacity=\"1\" stroke-width=\"3.2\"/>\n",
       "<circle clip-path=\"url(#clip392)\" cx=\"1366.54\" cy=\"859.539\" r=\"14\" fill=\"#009af9\" fill-rule=\"evenodd\" fill-opacity=\"1\" stroke=\"#000000\" stroke-opacity=\"1\" stroke-width=\"3.2\"/>\n",
       "<circle clip-path=\"url(#clip392)\" cx=\"1498.92\" cy=\"854.749\" r=\"14\" fill=\"#009af9\" fill-rule=\"evenodd\" fill-opacity=\"1\" stroke=\"#000000\" stroke-opacity=\"1\" stroke-width=\"3.2\"/>\n",
       "<circle clip-path=\"url(#clip392)\" cx=\"1631.3\" cy=\"852.354\" r=\"14\" fill=\"#009af9\" fill-rule=\"evenodd\" fill-opacity=\"1\" stroke=\"#000000\" stroke-opacity=\"1\" stroke-width=\"3.2\"/>\n",
       "<circle clip-path=\"url(#clip392)\" cx=\"1763.67\" cy=\"851.157\" r=\"14\" fill=\"#009af9\" fill-rule=\"evenodd\" fill-opacity=\"1\" stroke=\"#000000\" stroke-opacity=\"1\" stroke-width=\"3.2\"/>\n",
       "<circle clip-path=\"url(#clip392)\" cx=\"1896.05\" cy=\"850.558\" r=\"14\" fill=\"#009af9\" fill-rule=\"evenodd\" fill-opacity=\"1\" stroke=\"#000000\" stroke-opacity=\"1\" stroke-width=\"3.2\"/>\n",
       "<circle clip-path=\"url(#clip392)\" cx=\"2028.43\" cy=\"850.259\" r=\"14\" fill=\"#009af9\" fill-rule=\"evenodd\" fill-opacity=\"1\" stroke=\"#000000\" stroke-opacity=\"1\" stroke-width=\"3.2\"/>\n",
       "<circle clip-path=\"url(#clip392)\" cx=\"2160.81\" cy=\"850.409\" r=\"14\" fill=\"#009af9\" fill-rule=\"evenodd\" fill-opacity=\"1\" stroke=\"#000000\" stroke-opacity=\"1\" stroke-width=\"3.2\"/>\n",
       "<circle clip-path=\"url(#clip392)\" cx=\"2293.19\" cy=\"850.484\" r=\"14\" fill=\"#009af9\" fill-rule=\"evenodd\" fill-opacity=\"1\" stroke=\"#000000\" stroke-opacity=\"1\" stroke-width=\"3.2\"/>\n",
       "<path clip-path=\"url(#clip390)\" d=\"\n",
       "M1996.3 270.476 L2282.6 270.476 L2282.6 166.796 L1996.3 166.796  Z\n",
       "  \" fill=\"#ffffff\" fill-rule=\"evenodd\" fill-opacity=\"1\"/>\n",
       "<polyline clip-path=\"url(#clip390)\" style=\"stroke:#000000; stroke-linecap:butt; stroke-linejoin:round; stroke-width:4; stroke-opacity:1; fill:none\" points=\"\n",
       "  1996.3,270.476 2282.6,270.476 2282.6,166.796 1996.3,166.796 1996.3,270.476 \n",
       "  \"/>\n",
       "<circle clip-path=\"url(#clip390)\" cx=\"2089.84\" cy=\"218.636\" r=\"23\" fill=\"#009af9\" fill-rule=\"evenodd\" fill-opacity=\"1\" stroke=\"#000000\" stroke-opacity=\"1\" stroke-width=\"5.12\"/>\n",
       "<path clip-path=\"url(#clip390)\" d=\"M2197.23 238.323 Q2195.43 242.953 2193.72 244.365 Q2192 245.777 2189.13 245.777 L2185.73 245.777 L2185.73 242.212 L2188.23 242.212 Q2189.99 242.212 2190.96 241.379 Q2191.93 240.545 2193.11 237.443 L2193.88 235.499 L2183.39 209.99 L2187.91 209.99 L2196.01 230.268 L2204.11 209.99 L2208.62 209.99 L2197.23 238.323 Z\" fill=\"#000000\" fill-rule=\"evenodd\" fill-opacity=\"1\" /><path clip-path=\"url(#clip390)\" d=\"M2215.91 231.981 L2223.55 231.981 L2223.55 205.615 L2215.24 207.282 L2215.24 203.022 L2223.51 201.356 L2228.18 201.356 L2228.18 231.981 L2235.82 231.981 L2235.82 235.916 L2215.91 235.916 L2215.91 231.981 Z\" fill=\"#000000\" fill-rule=\"evenodd\" fill-opacity=\"1\" /></svg>\n"
      ]
     },
     "execution_count": 670,
     "metadata": {},
     "output_type": "execute_result"
    }
   ],
   "source": [
    "scatter(Vp, title=\"xi~sqrt(3)\",xlabel=\"i\", ylabel=\"xi\")"
   ]
  },
  {
   "cell_type": "markdown",
   "metadata": {},
   "source": [
    "**2.c**"
   ]
  },
  {
   "cell_type": "code",
   "execution_count": 672,
   "metadata": {},
   "outputs": [
    {
     "data": {
      "image/svg+xml": [
       "<?xml version=\"1.0\" encoding=\"utf-8\"?>\n",
       "<svg xmlns=\"http://www.w3.org/2000/svg\" xmlns:xlink=\"http://www.w3.org/1999/xlink\" width=\"600\" height=\"400\" viewBox=\"0 0 2400 1600\">\n",
       "<defs>\n",
       "  <clipPath id=\"clip470\">\n",
       "    <rect x=\"0\" y=\"0\" width=\"2400\" height=\"1600\"/>\n",
       "  </clipPath>\n",
       "</defs>\n",
       "<path clip-path=\"url(#clip470)\" d=\"\n",
       "M0 1600 L2400 1600 L2400 0 L0 0  Z\n",
       "  \" fill=\"#ffffff\" fill-rule=\"evenodd\" fill-opacity=\"1\"/>\n",
       "<defs>\n",
       "  <clipPath id=\"clip471\">\n",
       "    <rect x=\"480\" y=\"0\" width=\"1681\" height=\"1600\"/>\n",
       "  </clipPath>\n",
       "</defs>\n",
       "<path clip-path=\"url(#clip470)\" d=\"\n",
       "M193.936 1486.45 L2352.76 1486.45 L2352.76 47.2441 L193.936 47.2441  Z\n",
       "  \" fill=\"#ffffff\" fill-rule=\"evenodd\" fill-opacity=\"1\"/>\n",
       "<defs>\n",
       "  <clipPath id=\"clip472\">\n",
       "    <rect x=\"193\" y=\"47\" width=\"2160\" height=\"1440\"/>\n",
       "  </clipPath>\n",
       "</defs>\n",
       "<polyline clip-path=\"url(#clip472)\" style=\"stroke:#000000; stroke-linecap:butt; stroke-linejoin:round; stroke-width:2; stroke-opacity:0.1; fill:none\" points=\"\n",
       "  390.81,1486.45 390.81,47.2441 \n",
       "  \"/>\n",
       "<polyline clip-path=\"url(#clip472)\" style=\"stroke:#000000; stroke-linecap:butt; stroke-linejoin:round; stroke-width:2; stroke-opacity:0.1; fill:none\" points=\"\n",
       "  798.134,1486.45 798.134,47.2441 \n",
       "  \"/>\n",
       "<polyline clip-path=\"url(#clip472)\" style=\"stroke:#000000; stroke-linecap:butt; stroke-linejoin:round; stroke-width:2; stroke-opacity:0.1; fill:none\" points=\"\n",
       "  1205.46,1486.45 1205.46,47.2441 \n",
       "  \"/>\n",
       "<polyline clip-path=\"url(#clip472)\" style=\"stroke:#000000; stroke-linecap:butt; stroke-linejoin:round; stroke-width:2; stroke-opacity:0.1; fill:none\" points=\"\n",
       "  1612.78,1486.45 1612.78,47.2441 \n",
       "  \"/>\n",
       "<polyline clip-path=\"url(#clip472)\" style=\"stroke:#000000; stroke-linecap:butt; stroke-linejoin:round; stroke-width:2; stroke-opacity:0.1; fill:none\" points=\"\n",
       "  2020.11,1486.45 2020.11,47.2441 \n",
       "  \"/>\n",
       "<polyline clip-path=\"url(#clip470)\" style=\"stroke:#000000; stroke-linecap:butt; stroke-linejoin:round; stroke-width:4; stroke-opacity:1; fill:none\" points=\"\n",
       "  193.936,1486.45 2352.76,1486.45 \n",
       "  \"/>\n",
       "<polyline clip-path=\"url(#clip470)\" style=\"stroke:#000000; stroke-linecap:butt; stroke-linejoin:round; stroke-width:4; stroke-opacity:1; fill:none\" points=\"\n",
       "  390.81,1486.45 390.81,1467.55 \n",
       "  \"/>\n",
       "<polyline clip-path=\"url(#clip470)\" style=\"stroke:#000000; stroke-linecap:butt; stroke-linejoin:round; stroke-width:4; stroke-opacity:1; fill:none\" points=\"\n",
       "  798.134,1486.45 798.134,1467.55 \n",
       "  \"/>\n",
       "<polyline clip-path=\"url(#clip470)\" style=\"stroke:#000000; stroke-linecap:butt; stroke-linejoin:round; stroke-width:4; stroke-opacity:1; fill:none\" points=\"\n",
       "  1205.46,1486.45 1205.46,1467.55 \n",
       "  \"/>\n",
       "<polyline clip-path=\"url(#clip470)\" style=\"stroke:#000000; stroke-linecap:butt; stroke-linejoin:round; stroke-width:4; stroke-opacity:1; fill:none\" points=\"\n",
       "  1612.78,1486.45 1612.78,1467.55 \n",
       "  \"/>\n",
       "<polyline clip-path=\"url(#clip470)\" style=\"stroke:#000000; stroke-linecap:butt; stroke-linejoin:round; stroke-width:4; stroke-opacity:1; fill:none\" points=\"\n",
       "  2020.11,1486.45 2020.11,1467.55 \n",
       "  \"/>\n",
       "<path clip-path=\"url(#clip470)\" d=\"M343.495 1544.91 L351.134 1544.91 L351.134 1518.55 L342.824 1520.21 L342.824 1515.95 L351.088 1514.29 L355.763 1514.29 L355.763 1544.91 L363.402 1544.91 L363.402 1548.85 L343.495 1548.85 L343.495 1544.91 Z\" fill=\"#000000\" fill-rule=\"evenodd\" fill-opacity=\"1\" /><path clip-path=\"url(#clip470)\" d=\"M372.847 1542.97 L377.731 1542.97 L377.731 1548.85 L372.847 1548.85 L372.847 1542.97 Z\" fill=\"#000000\" fill-rule=\"evenodd\" fill-opacity=\"1\" /><path clip-path=\"url(#clip470)\" d=\"M388.726 1544.91 L396.365 1544.91 L396.365 1518.55 L388.055 1520.21 L388.055 1515.95 L396.319 1514.29 L400.995 1514.29 L400.995 1544.91 L408.633 1544.91 L408.633 1548.85 L388.726 1548.85 L388.726 1544.91 Z\" fill=\"#000000\" fill-rule=\"evenodd\" fill-opacity=\"1\" /><path clip-path=\"url(#clip470)\" d=\"M418.888 1544.91 L426.527 1544.91 L426.527 1518.55 L418.217 1520.21 L418.217 1515.95 L426.481 1514.29 L431.157 1514.29 L431.157 1544.91 L438.795 1544.91 L438.795 1548.85 L418.888 1548.85 L418.888 1544.91 Z\" fill=\"#000000\" fill-rule=\"evenodd\" fill-opacity=\"1\" /><path clip-path=\"url(#clip470)\" d=\"M749.963 1544.91 L757.602 1544.91 L757.602 1518.55 L749.292 1520.21 L749.292 1515.95 L757.556 1514.29 L762.231 1514.29 L762.231 1544.91 L769.87 1544.91 L769.87 1548.85 L749.963 1548.85 L749.963 1544.91 Z\" fill=\"#000000\" fill-rule=\"evenodd\" fill-opacity=\"1\" /><path clip-path=\"url(#clip470)\" d=\"M779.315 1542.97 L784.199 1542.97 L784.199 1548.85 L779.315 1548.85 L779.315 1542.97 Z\" fill=\"#000000\" fill-rule=\"evenodd\" fill-opacity=\"1\" /><path clip-path=\"url(#clip470)\" d=\"M795.194 1544.91 L802.833 1544.91 L802.833 1518.55 L794.523 1520.21 L794.523 1515.95 L802.787 1514.29 L807.463 1514.29 L807.463 1544.91 L815.102 1544.91 L815.102 1548.85 L795.194 1548.85 L795.194 1544.91 Z\" fill=\"#000000\" fill-rule=\"evenodd\" fill-opacity=\"1\" /><path clip-path=\"url(#clip470)\" d=\"M837.393 1518.36 L825.588 1536.81 L837.393 1536.81 L837.393 1518.36 M836.166 1514.29 L842.046 1514.29 L842.046 1536.81 L846.976 1536.81 L846.976 1540.7 L842.046 1540.7 L842.046 1548.85 L837.393 1548.85 L837.393 1540.7 L821.791 1540.7 L821.791 1536.19 L836.166 1514.29 Z\" fill=\"#000000\" fill-rule=\"evenodd\" fill-opacity=\"1\" /><path clip-path=\"url(#clip470)\" d=\"M1157.98 1544.91 L1165.62 1544.91 L1165.62 1518.55 L1157.31 1520.21 L1157.31 1515.95 L1165.57 1514.29 L1170.25 1514.29 L1170.25 1544.91 L1177.89 1544.91 L1177.89 1548.85 L1157.98 1548.85 L1157.98 1544.91 Z\" fill=\"#000000\" fill-rule=\"evenodd\" fill-opacity=\"1\" /><path clip-path=\"url(#clip470)\" d=\"M1187.33 1542.97 L1192.22 1542.97 L1192.22 1548.85 L1187.33 1548.85 L1187.33 1542.97 Z\" fill=\"#000000\" fill-rule=\"evenodd\" fill-opacity=\"1\" /><path clip-path=\"url(#clip470)\" d=\"M1203.21 1544.91 L1210.85 1544.91 L1210.85 1518.55 L1202.54 1520.21 L1202.54 1515.95 L1210.81 1514.29 L1215.48 1514.29 L1215.48 1544.91 L1223.12 1544.91 L1223.12 1548.85 L1203.21 1548.85 L1203.21 1544.91 Z\" fill=\"#000000\" fill-rule=\"evenodd\" fill-opacity=\"1\" /><path clip-path=\"url(#clip470)\" d=\"M1231.38 1514.29 L1253.61 1514.29 L1253.61 1516.28 L1241.06 1548.85 L1236.18 1548.85 L1247.98 1518.22 L1231.38 1518.22 L1231.38 1514.29 Z\" fill=\"#000000\" fill-rule=\"evenodd\" fill-opacity=\"1\" /><path clip-path=\"url(#clip470)\" d=\"M1564.86 1544.91 L1572.49 1544.91 L1572.49 1518.55 L1564.18 1520.21 L1564.18 1515.95 L1572.45 1514.29 L1577.12 1514.29 L1577.12 1544.91 L1584.76 1544.91 L1584.76 1548.85 L1564.86 1548.85 L1564.86 1544.91 Z\" fill=\"#000000\" fill-rule=\"evenodd\" fill-opacity=\"1\" /><path clip-path=\"url(#clip470)\" d=\"M1594.21 1542.97 L1599.09 1542.97 L1599.09 1548.85 L1594.21 1548.85 L1594.21 1542.97 Z\" fill=\"#000000\" fill-rule=\"evenodd\" fill-opacity=\"1\" /><path clip-path=\"url(#clip470)\" d=\"M1613.3 1544.91 L1629.62 1544.91 L1629.62 1548.85 L1607.68 1548.85 L1607.68 1544.91 Q1610.34 1542.16 1614.92 1537.53 Q1619.53 1532.88 1620.71 1531.53 Q1622.96 1529.01 1623.84 1527.27 Q1624.74 1525.51 1624.74 1523.82 Q1624.74 1521.07 1622.79 1519.33 Q1620.87 1517.6 1617.77 1517.6 Q1615.57 1517.6 1613.12 1518.36 Q1610.69 1519.13 1607.91 1520.68 L1607.91 1515.95 Q1610.73 1514.82 1613.19 1514.24 Q1615.64 1513.66 1617.68 1513.66 Q1623.05 1513.66 1626.24 1516.35 Q1629.44 1519.03 1629.44 1523.52 Q1629.44 1525.65 1628.63 1527.57 Q1627.84 1529.47 1625.73 1532.07 Q1625.16 1532.74 1622.05 1535.95 Q1618.95 1539.15 1613.3 1544.91 Z\" fill=\"#000000\" fill-rule=\"evenodd\" fill-opacity=\"1\" /><path clip-path=\"url(#clip470)\" d=\"M1649.44 1517.37 Q1645.83 1517.37 1644 1520.93 Q1642.19 1524.47 1642.19 1531.6 Q1642.19 1538.71 1644 1542.27 Q1645.83 1545.82 1649.44 1545.82 Q1653.07 1545.82 1654.88 1542.27 Q1656.71 1538.71 1656.71 1531.6 Q1656.71 1524.47 1654.88 1520.93 Q1653.07 1517.37 1649.44 1517.37 M1649.44 1513.66 Q1655.25 1513.66 1658.3 1518.27 Q1661.38 1522.85 1661.38 1531.6 Q1661.38 1540.33 1658.3 1544.94 Q1655.25 1549.52 1649.44 1549.52 Q1643.63 1549.52 1640.55 1544.94 Q1637.49 1540.33 1637.49 1531.6 Q1637.49 1522.85 1640.55 1518.27 Q1643.63 1513.66 1649.44 1513.66 Z\" fill=\"#000000\" fill-rule=\"evenodd\" fill-opacity=\"1\" /><path clip-path=\"url(#clip470)\" d=\"M1972.5 1544.91 L1980.14 1544.91 L1980.14 1518.55 L1971.83 1520.21 L1971.83 1515.95 L1980.1 1514.29 L1984.77 1514.29 L1984.77 1544.91 L1992.41 1544.91 L1992.41 1548.85 L1972.5 1548.85 L1972.5 1544.91 Z\" fill=\"#000000\" fill-rule=\"evenodd\" fill-opacity=\"1\" /><path clip-path=\"url(#clip470)\" d=\"M2001.86 1542.97 L2006.74 1542.97 L2006.74 1548.85 L2001.86 1548.85 L2001.86 1542.97 Z\" fill=\"#000000\" fill-rule=\"evenodd\" fill-opacity=\"1\" /><path clip-path=\"url(#clip470)\" d=\"M2020.95 1544.91 L2037.27 1544.91 L2037.27 1548.85 L2015.33 1548.85 L2015.33 1544.91 Q2017.99 1542.16 2022.57 1537.53 Q2027.18 1532.88 2028.36 1531.53 Q2030.61 1529.01 2031.48 1527.27 Q2032.39 1525.51 2032.39 1523.82 Q2032.39 1521.07 2030.44 1519.33 Q2028.52 1517.6 2025.42 1517.6 Q2023.22 1517.6 2020.77 1518.36 Q2018.34 1519.13 2015.56 1520.68 L2015.56 1515.95 Q2018.38 1514.82 2020.84 1514.24 Q2023.29 1513.66 2025.33 1513.66 Q2030.7 1513.66 2033.89 1516.35 Q2037.09 1519.03 2037.09 1523.52 Q2037.09 1525.65 2036.28 1527.57 Q2035.49 1529.47 2033.38 1532.07 Q2032.8 1532.74 2029.7 1535.95 Q2026.6 1539.15 2020.95 1544.91 Z\" fill=\"#000000\" fill-rule=\"evenodd\" fill-opacity=\"1\" /><path clip-path=\"url(#clip470)\" d=\"M2061.25 1530.21 Q2064.61 1530.93 2066.48 1533.2 Q2068.38 1535.47 2068.38 1538.8 Q2068.38 1543.92 2064.86 1546.72 Q2061.35 1549.52 2054.86 1549.52 Q2052.69 1549.52 2050.37 1549.08 Q2048.08 1548.66 2045.63 1547.81 L2045.63 1543.29 Q2047.57 1544.43 2049.89 1545.01 Q2052.2 1545.58 2054.73 1545.58 Q2059.12 1545.58 2061.42 1543.85 Q2063.73 1542.11 2063.73 1538.8 Q2063.73 1535.75 2061.58 1534.03 Q2059.45 1532.3 2055.63 1532.3 L2051.6 1532.3 L2051.6 1528.45 L2055.81 1528.45 Q2059.26 1528.45 2061.09 1527.09 Q2062.92 1525.7 2062.92 1523.11 Q2062.92 1520.45 2061.02 1519.03 Q2059.15 1517.6 2055.63 1517.6 Q2053.71 1517.6 2051.51 1518.01 Q2049.31 1518.43 2046.67 1519.31 L2046.67 1515.14 Q2049.33 1514.4 2051.65 1514.03 Q2053.98 1513.66 2056.04 1513.66 Q2061.37 1513.66 2064.47 1516.09 Q2067.57 1518.5 2067.57 1522.62 Q2067.57 1525.49 2065.93 1527.48 Q2064.29 1529.45 2061.25 1530.21 Z\" fill=\"#000000\" fill-rule=\"evenodd\" fill-opacity=\"1\" /><polyline clip-path=\"url(#clip472)\" style=\"stroke:#000000; stroke-linecap:butt; stroke-linejoin:round; stroke-width:2; stroke-opacity:0.1; fill:none\" points=\"\n",
       "  193.936,1486.45 2352.76,1486.45 \n",
       "  \"/>\n",
       "<polyline clip-path=\"url(#clip472)\" style=\"stroke:#000000; stroke-linecap:butt; stroke-linejoin:round; stroke-width:2; stroke-opacity:0.1; fill:none\" points=\"\n",
       "  193.936,1126.65 2352.76,1126.65 \n",
       "  \"/>\n",
       "<polyline clip-path=\"url(#clip472)\" style=\"stroke:#000000; stroke-linecap:butt; stroke-linejoin:round; stroke-width:2; stroke-opacity:0.1; fill:none\" points=\"\n",
       "  193.936,766.846 2352.76,766.846 \n",
       "  \"/>\n",
       "<polyline clip-path=\"url(#clip472)\" style=\"stroke:#000000; stroke-linecap:butt; stroke-linejoin:round; stroke-width:2; stroke-opacity:0.1; fill:none\" points=\"\n",
       "  193.936,407.045 2352.76,407.045 \n",
       "  \"/>\n",
       "<polyline clip-path=\"url(#clip472)\" style=\"stroke:#000000; stroke-linecap:butt; stroke-linejoin:round; stroke-width:2; stroke-opacity:0.1; fill:none\" points=\"\n",
       "  193.936,47.2441 2352.76,47.2441 \n",
       "  \"/>\n",
       "<polyline clip-path=\"url(#clip470)\" style=\"stroke:#000000; stroke-linecap:butt; stroke-linejoin:round; stroke-width:4; stroke-opacity:1; fill:none\" points=\"\n",
       "  193.936,1486.45 193.936,47.2441 \n",
       "  \"/>\n",
       "<polyline clip-path=\"url(#clip470)\" style=\"stroke:#000000; stroke-linecap:butt; stroke-linejoin:round; stroke-width:4; stroke-opacity:1; fill:none\" points=\"\n",
       "  193.936,1486.45 212.834,1486.45 \n",
       "  \"/>\n",
       "<polyline clip-path=\"url(#clip470)\" style=\"stroke:#000000; stroke-linecap:butt; stroke-linejoin:round; stroke-width:4; stroke-opacity:1; fill:none\" points=\"\n",
       "  193.936,1126.65 212.834,1126.65 \n",
       "  \"/>\n",
       "<polyline clip-path=\"url(#clip470)\" style=\"stroke:#000000; stroke-linecap:butt; stroke-linejoin:round; stroke-width:4; stroke-opacity:1; fill:none\" points=\"\n",
       "  193.936,766.846 212.834,766.846 \n",
       "  \"/>\n",
       "<polyline clip-path=\"url(#clip470)\" style=\"stroke:#000000; stroke-linecap:butt; stroke-linejoin:round; stroke-width:4; stroke-opacity:1; fill:none\" points=\"\n",
       "  193.936,407.045 212.834,407.045 \n",
       "  \"/>\n",
       "<polyline clip-path=\"url(#clip470)\" style=\"stroke:#000000; stroke-linecap:butt; stroke-linejoin:round; stroke-width:4; stroke-opacity:1; fill:none\" points=\"\n",
       "  193.936,47.2441 212.834,47.2441 \n",
       "  \"/>\n",
       "<path clip-path=\"url(#clip470)\" d=\"M50.9921 1486.9 L80.6679 1486.9 L80.6679 1490.83 L50.9921 1490.83 L50.9921 1486.9 Z\" fill=\"#000000\" fill-rule=\"evenodd\" fill-opacity=\"1\" /><path clip-path=\"url(#clip470)\" d=\"M91.5706 1499.79 L99.2095 1499.79 L99.2095 1473.43 L90.8993 1475.09 L90.8993 1470.83 L99.1632 1469.17 L103.839 1469.17 L103.839 1499.79 L111.478 1499.79 L111.478 1503.73 L91.5706 1503.73 L91.5706 1499.79 Z\" fill=\"#000000\" fill-rule=\"evenodd\" fill-opacity=\"1\" /><path clip-path=\"url(#clip470)\" d=\"M120.922 1497.85 L125.807 1497.85 L125.807 1503.73 L120.922 1503.73 L120.922 1497.85 Z\" fill=\"#000000\" fill-rule=\"evenodd\" fill-opacity=\"1\" /><path clip-path=\"url(#clip470)\" d=\"M145.992 1472.25 Q142.381 1472.25 140.552 1475.81 Q138.746 1479.35 138.746 1486.48 Q138.746 1493.59 140.552 1497.15 Q142.381 1500.7 145.992 1500.7 Q149.626 1500.7 151.431 1497.15 Q153.26 1493.59 153.26 1486.48 Q153.26 1479.35 151.431 1475.81 Q149.626 1472.25 145.992 1472.25 M145.992 1468.54 Q151.802 1468.54 154.857 1473.15 Q157.936 1477.73 157.936 1486.48 Q157.936 1495.21 154.857 1499.82 Q151.802 1504.4 145.992 1504.4 Q140.181 1504.4 137.103 1499.82 Q134.047 1495.21 134.047 1486.48 Q134.047 1477.73 137.103 1473.15 Q140.181 1468.54 145.992 1468.54 Z\" fill=\"#000000\" fill-rule=\"evenodd\" fill-opacity=\"1\" /><path clip-path=\"url(#clip470)\" d=\"M51.9875 1127.1 L81.6633 1127.1 L81.6633 1131.03 L51.9875 1131.03 L51.9875 1127.1 Z\" fill=\"#000000\" fill-rule=\"evenodd\" fill-opacity=\"1\" /><path clip-path=\"url(#clip470)\" d=\"M101.756 1112.45 Q98.1447 1112.45 96.316 1116.01 Q94.5104 1119.55 94.5104 1126.68 Q94.5104 1133.79 96.316 1137.35 Q98.1447 1140.89 101.756 1140.89 Q105.39 1140.89 107.196 1137.35 Q109.024 1133.79 109.024 1126.68 Q109.024 1119.55 107.196 1116.01 Q105.39 1112.45 101.756 1112.45 M101.756 1108.74 Q107.566 1108.74 110.621 1113.35 Q113.7 1117.93 113.7 1126.68 Q113.7 1135.41 110.621 1140.01 Q107.566 1144.6 101.756 1144.6 Q95.9456 1144.6 92.8669 1140.01 Q89.8114 1135.41 89.8114 1126.68 Q89.8114 1117.93 92.8669 1113.35 Q95.9456 1108.74 101.756 1108.74 Z\" fill=\"#000000\" fill-rule=\"evenodd\" fill-opacity=\"1\" /><path clip-path=\"url(#clip470)\" d=\"M121.918 1138.05 L126.802 1138.05 L126.802 1143.93 L121.918 1143.93 L121.918 1138.05 Z\" fill=\"#000000\" fill-rule=\"evenodd\" fill-opacity=\"1\" /><path clip-path=\"url(#clip470)\" d=\"M137.033 1109.37 L155.39 1109.37 L155.39 1113.3 L141.316 1113.3 L141.316 1121.77 Q142.334 1121.43 143.353 1121.27 Q144.371 1121.08 145.39 1121.08 Q151.177 1121.08 154.556 1124.25 Q157.936 1127.42 157.936 1132.84 Q157.936 1138.42 154.464 1141.52 Q150.992 1144.6 144.672 1144.6 Q142.496 1144.6 140.228 1144.23 Q137.982 1143.86 135.575 1143.12 L135.575 1138.42 Q137.658 1139.55 139.881 1140.11 Q142.103 1140.66 144.58 1140.66 Q148.584 1140.66 150.922 1138.56 Q153.26 1136.45 153.26 1132.84 Q153.26 1129.23 150.922 1127.12 Q148.584 1125.01 144.58 1125.01 Q142.705 1125.01 140.83 1125.43 Q138.978 1125.85 137.033 1126.73 L137.033 1109.37 Z\" fill=\"#000000\" fill-rule=\"evenodd\" fill-opacity=\"1\" /><path clip-path=\"url(#clip470)\" d=\"M100.76 752.645 Q97.1493 752.645 95.3206 756.209 Q93.515 759.751 93.515 766.881 Q93.515 773.987 95.3206 777.552 Q97.1493 781.094 100.76 781.094 Q104.395 781.094 106.2 777.552 Q108.029 773.987 108.029 766.881 Q108.029 759.751 106.2 756.209 Q104.395 752.645 100.76 752.645 M100.76 748.941 Q106.571 748.941 109.626 753.547 Q112.705 758.131 112.705 766.881 Q112.705 775.608 109.626 780.214 Q106.571 784.797 100.76 784.797 Q94.9502 784.797 91.8715 780.214 Q88.816 775.608 88.816 766.881 Q88.816 758.131 91.8715 753.547 Q94.9502 748.941 100.76 748.941 Z\" fill=\"#000000\" fill-rule=\"evenodd\" fill-opacity=\"1\" /><path clip-path=\"url(#clip470)\" d=\"M120.922 778.246 L125.807 778.246 L125.807 784.126 L120.922 784.126 L120.922 778.246 Z\" fill=\"#000000\" fill-rule=\"evenodd\" fill-opacity=\"1\" /><path clip-path=\"url(#clip470)\" d=\"M145.992 752.645 Q142.381 752.645 140.552 756.209 Q138.746 759.751 138.746 766.881 Q138.746 773.987 140.552 777.552 Q142.381 781.094 145.992 781.094 Q149.626 781.094 151.431 777.552 Q153.26 773.987 153.26 766.881 Q153.26 759.751 151.431 756.209 Q149.626 752.645 145.992 752.645 M145.992 748.941 Q151.802 748.941 154.857 753.547 Q157.936 758.131 157.936 766.881 Q157.936 775.608 154.857 780.214 Q151.802 784.797 145.992 784.797 Q140.181 784.797 137.103 780.214 Q134.047 775.608 134.047 766.881 Q134.047 758.131 137.103 753.547 Q140.181 748.941 145.992 748.941 Z\" fill=\"#000000\" fill-rule=\"evenodd\" fill-opacity=\"1\" /><path clip-path=\"url(#clip470)\" d=\"M101.756 392.844 Q98.1447 392.844 96.316 396.409 Q94.5104 399.95 94.5104 407.08 Q94.5104 414.186 96.316 417.751 Q98.1447 421.293 101.756 421.293 Q105.39 421.293 107.196 417.751 Q109.024 414.186 109.024 407.08 Q109.024 399.95 107.196 396.409 Q105.39 392.844 101.756 392.844 M101.756 389.14 Q107.566 389.14 110.621 393.746 Q113.7 398.33 113.7 407.08 Q113.7 415.807 110.621 420.413 Q107.566 424.996 101.756 424.996 Q95.9456 424.996 92.8669 420.413 Q89.8114 415.807 89.8114 407.08 Q89.8114 398.33 92.8669 393.746 Q95.9456 389.14 101.756 389.14 Z\" fill=\"#000000\" fill-rule=\"evenodd\" fill-opacity=\"1\" /><path clip-path=\"url(#clip470)\" d=\"M121.918 418.445 L126.802 418.445 L126.802 424.325 L121.918 424.325 L121.918 418.445 Z\" fill=\"#000000\" fill-rule=\"evenodd\" fill-opacity=\"1\" /><path clip-path=\"url(#clip470)\" d=\"M137.033 389.765 L155.39 389.765 L155.39 393.7 L141.316 393.7 L141.316 402.172 Q142.334 401.825 143.353 401.663 Q144.371 401.478 145.39 401.478 Q151.177 401.478 154.556 404.649 Q157.936 407.82 157.936 413.237 Q157.936 418.816 154.464 421.918 Q150.992 424.996 144.672 424.996 Q142.496 424.996 140.228 424.626 Q137.982 424.256 135.575 423.515 L135.575 418.816 Q137.658 419.95 139.881 420.506 Q142.103 421.061 144.58 421.061 Q148.584 421.061 150.922 418.955 Q153.26 416.848 153.26 413.237 Q153.26 409.626 150.922 407.52 Q148.584 405.413 144.58 405.413 Q142.705 405.413 140.83 405.83 Q138.978 406.246 137.033 407.126 L137.033 389.765 Z\" fill=\"#000000\" fill-rule=\"evenodd\" fill-opacity=\"1\" /><path clip-path=\"url(#clip470)\" d=\"M91.5706 60.5889 L99.2095 60.5889 L99.2095 34.2233 L90.8993 35.89 L90.8993 31.6308 L99.1632 29.9641 L103.839 29.9641 L103.839 60.5889 L111.478 60.5889 L111.478 64.5241 L91.5706 64.5241 L91.5706 60.5889 Z\" fill=\"#000000\" fill-rule=\"evenodd\" fill-opacity=\"1\" /><path clip-path=\"url(#clip470)\" d=\"M120.922 58.6445 L125.807 58.6445 L125.807 64.5241 L120.922 64.5241 L120.922 58.6445 Z\" fill=\"#000000\" fill-rule=\"evenodd\" fill-opacity=\"1\" /><path clip-path=\"url(#clip470)\" d=\"M145.992 33.0428 Q142.381 33.0428 140.552 36.6076 Q138.746 40.1492 138.746 47.2788 Q138.746 54.3853 140.552 57.9501 Q142.381 61.4917 145.992 61.4917 Q149.626 61.4917 151.431 57.9501 Q153.26 54.3853 153.26 47.2788 Q153.26 40.1492 151.431 36.6076 Q149.626 33.0428 145.992 33.0428 M145.992 29.3391 Q151.802 29.3391 154.857 33.9456 Q157.936 38.5289 157.936 47.2788 Q157.936 56.0056 154.857 60.6121 Q151.802 65.1954 145.992 65.1954 Q140.181 65.1954 137.103 60.6121 Q134.047 56.0056 134.047 47.2788 Q134.047 38.5289 137.103 33.9456 Q140.181 29.3391 145.992 29.3391 Z\" fill=\"#000000\" fill-rule=\"evenodd\" fill-opacity=\"1\" /><circle clip-path=\"url(#clip472)\" cx=\"255.035\" cy=\"936.125\" r=\"14\" fill=\"#009af9\" fill-rule=\"evenodd\" fill-opacity=\"1\" stroke=\"#000000\" stroke-opacity=\"1\" stroke-width=\"3.2\"/>\n",
       "<circle clip-path=\"url(#clip472)\" cx=\"2291.66\" cy=\"400.159\" r=\"14\" fill=\"#009af9\" fill-rule=\"evenodd\" fill-opacity=\"1\" stroke=\"#000000\" stroke-opacity=\"1\" stroke-width=\"3.2\"/>\n",
       "<circle clip-path=\"url(#clip472)\" cx=\"1273.35\" cy=\"735.744\" r=\"14\" fill=\"#009af9\" fill-rule=\"evenodd\" fill-opacity=\"1\" stroke=\"#000000\" stroke-opacity=\"1\" stroke-width=\"3.2\"/>\n",
       "<circle clip-path=\"url(#clip472)\" cx=\"764.19\" cy=\"848.437\" r=\"14\" fill=\"#009af9\" fill-rule=\"evenodd\" fill-opacity=\"1\" stroke=\"#000000\" stroke-opacity=\"1\" stroke-width=\"3.2\"/>\n",
       "<circle clip-path=\"url(#clip472)\" cx=\"1018.77\" cy=\"795.642\" r=\"14\" fill=\"#009af9\" fill-rule=\"evenodd\" fill-opacity=\"1\" stroke=\"#000000\" stroke-opacity=\"1\" stroke-width=\"3.2\"/>\n",
       "<circle clip-path=\"url(#clip472)\" cx=\"1146.06\" cy=\"766.642\" r=\"14\" fill=\"#009af9\" fill-rule=\"evenodd\" fill-opacity=\"1\" stroke=\"#000000\" stroke-opacity=\"1\" stroke-width=\"3.2\"/>\n",
       "<circle clip-path=\"url(#clip472)\" cx=\"1082.41\" cy=\"781.371\" r=\"14\" fill=\"#009af9\" fill-rule=\"evenodd\" fill-opacity=\"1\" stroke=\"#000000\" stroke-opacity=\"1\" stroke-width=\"3.2\"/>\n",
       "<circle clip-path=\"url(#clip472)\" cx=\"1114.23\" cy=\"774.065\" r=\"14\" fill=\"#009af9\" fill-rule=\"evenodd\" fill-opacity=\"1\" stroke=\"#000000\" stroke-opacity=\"1\" stroke-width=\"3.2\"/>\n",
       "<circle clip-path=\"url(#clip472)\" cx=\"1130.15\" cy=\"770.368\" r=\"14\" fill=\"#009af9\" fill-rule=\"evenodd\" fill-opacity=\"1\" stroke=\"#000000\" stroke-opacity=\"1\" stroke-width=\"3.2\"/>\n",
       "<circle clip-path=\"url(#clip472)\" cx=\"1138.1\" cy=\"768.509\" r=\"14\" fill=\"#009af9\" fill-rule=\"evenodd\" fill-opacity=\"1\" stroke=\"#000000\" stroke-opacity=\"1\" stroke-width=\"3.2\"/>\n",
       "<circle clip-path=\"url(#clip472)\" cx=\"1142.08\" cy=\"767.577\" r=\"14\" fill=\"#009af9\" fill-rule=\"evenodd\" fill-opacity=\"1\" stroke=\"#000000\" stroke-opacity=\"1\" stroke-width=\"3.2\"/>\n",
       "<circle clip-path=\"url(#clip472)\" cx=\"1144.07\" cy=\"767.11\" r=\"14\" fill=\"#009af9\" fill-rule=\"evenodd\" fill-opacity=\"1\" stroke=\"#000000\" stroke-opacity=\"1\" stroke-width=\"3.2\"/>\n",
       "<circle clip-path=\"url(#clip472)\" cx=\"1145.06\" cy=\"766.876\" r=\"14\" fill=\"#009af9\" fill-rule=\"evenodd\" fill-opacity=\"1\" stroke=\"#000000\" stroke-opacity=\"1\" stroke-width=\"3.2\"/>\n",
       "<circle clip-path=\"url(#clip472)\" cx=\"1145.56\" cy=\"766.759\" r=\"14\" fill=\"#009af9\" fill-rule=\"evenodd\" fill-opacity=\"1\" stroke=\"#000000\" stroke-opacity=\"1\" stroke-width=\"3.2\"/>\n",
       "<circle clip-path=\"url(#clip472)\" cx=\"1145.31\" cy=\"766.818\" r=\"14\" fill=\"#009af9\" fill-rule=\"evenodd\" fill-opacity=\"1\" stroke=\"#000000\" stroke-opacity=\"1\" stroke-width=\"3.2\"/>\n",
       "<circle clip-path=\"url(#clip472)\" cx=\"1145.19\" cy=\"766.847\" r=\"14\" fill=\"#009af9\" fill-rule=\"evenodd\" fill-opacity=\"1\" stroke=\"#000000\" stroke-opacity=\"1\" stroke-width=\"3.2\"/>\n",
       "<polyline clip-path=\"url(#clip472)\" style=\"stroke:#e26f46; stroke-linecap:butt; stroke-linejoin:round; stroke-width:4; stroke-opacity:1; fill:none\" points=\"\n",
       "  255.035,936.125 268.294,934.109 390.898,914.826 464.577,902.668 526.872,892.039 594.542,880.119 656.928,868.774 723.812,856.219 801.304,841.147 870.17,827.261 \n",
       "  930.558,814.691 996.398,800.551 1062.63,785.855 1135.86,769.034 1205.53,752.45 1277.98,734.583 1338.96,719.03 1413.41,699.383 1481.62,680.724 1544.61,662.907 \n",
       "  1608.42,644.264 1679.93,622.631 1744.73,602.325 1818.92,578.221 1887.62,555.053 1955.34,531.375 2021.1,507.556 2088.51,482.254 2162.36,453.455 2269.65,409.501 \n",
       "  2291.66,400.159 \n",
       "  \"/>\n",
       "<path clip-path=\"url(#clip470)\" d=\"\n",
       "M1988.5 250.738 L2280.8 250.738 L2280.8 95.2176 L1988.5 95.2176  Z\n",
       "  \" fill=\"#ffffff\" fill-rule=\"evenodd\" fill-opacity=\"1\"/>\n",
       "<polyline clip-path=\"url(#clip470)\" style=\"stroke:#000000; stroke-linecap:butt; stroke-linejoin:round; stroke-width:4; stroke-opacity:1; fill:none\" points=\"\n",
       "  1988.5,250.738 2280.8,250.738 2280.8,95.2176 1988.5,95.2176 1988.5,250.738 \n",
       "  \"/>\n",
       "<circle clip-path=\"url(#clip470)\" cx=\"2084.44\" cy=\"147.058\" r=\"23\" fill=\"#009af9\" fill-rule=\"evenodd\" fill-opacity=\"1\" stroke=\"#000000\" stroke-opacity=\"1\" stroke-width=\"5.12\"/>\n",
       "<path clip-path=\"url(#clip470)\" d=\"M2194.23 166.745 Q2192.43 171.375 2190.72 172.787 Q2189 174.199 2186.13 174.199 L2182.73 174.199 L2182.73 170.634 L2185.23 170.634 Q2186.99 170.634 2187.96 169.8 Q2188.93 168.967 2190.11 165.865 L2190.88 163.921 L2180.39 138.412 L2184.91 138.412 L2193.01 158.689 L2201.11 138.412 L2205.62 138.412 L2194.23 166.745 Z\" fill=\"#000000\" fill-rule=\"evenodd\" fill-opacity=\"1\" /><path clip-path=\"url(#clip470)\" d=\"M2212.91 160.402 L2220.55 160.402 L2220.55 134.037 L2212.24 135.703 L2212.24 131.444 L2220.51 129.778 L2225.18 129.778 L2225.18 160.402 L2232.82 160.402 L2232.82 164.338 L2212.91 164.338 L2212.91 160.402 Z\" fill=\"#000000\" fill-rule=\"evenodd\" fill-opacity=\"1\" /><polyline clip-path=\"url(#clip470)\" style=\"stroke:#e26f46; stroke-linecap:butt; stroke-linejoin:round; stroke-width:4; stroke-opacity:1; fill:none\" points=\"\n",
       "  2012.48,198.898 2156.4,198.898 \n",
       "  \"/>\n",
       "<path clip-path=\"url(#clip470)\" d=\"M2194.23 218.585 Q2192.43 223.215 2190.72 224.627 Q2189 226.039 2186.13 226.039 L2182.73 226.039 L2182.73 222.474 L2185.23 222.474 Q2186.99 222.474 2187.96 221.64 Q2188.93 220.807 2190.11 217.705 L2190.88 215.761 L2180.39 190.252 L2184.91 190.252 L2193.01 210.529 L2201.11 190.252 L2205.62 190.252 L2194.23 218.585 Z\" fill=\"#000000\" fill-rule=\"evenodd\" fill-opacity=\"1\" /><path clip-path=\"url(#clip470)\" d=\"M2216.13 212.242 L2232.45 212.242 L2232.45 216.178 L2210.51 216.178 L2210.51 212.242 Q2213.17 209.488 2217.75 204.858 Q2222.36 200.205 2223.54 198.863 Q2225.78 196.34 2226.66 194.604 Q2227.57 192.844 2227.57 191.155 Q2227.57 188.4 2225.62 186.664 Q2223.7 184.928 2220.6 184.928 Q2218.4 184.928 2215.95 185.692 Q2213.52 186.455 2210.74 188.006 L2210.74 183.284 Q2213.56 182.15 2216.02 181.571 Q2218.47 180.993 2220.51 180.993 Q2225.88 180.993 2229.07 183.678 Q2232.27 186.363 2232.27 190.854 Q2232.27 192.983 2231.46 194.905 Q2230.67 196.803 2228.56 199.395 Q2227.98 200.067 2224.88 203.284 Q2221.78 206.479 2216.13 212.242 Z\" fill=\"#000000\" fill-rule=\"evenodd\" fill-opacity=\"1\" /></svg>\n"
      ]
     },
     "execution_count": 672,
     "metadata": {},
     "output_type": "execute_result"
    }
   ],
   "source": [
    "scatter(Vp,Vf,ylim=(-1,1))     ### scatter(x,f(x))  ---> f(x) vs x\n",
    "plot!(f)"
   ]
  },
  {
   "cell_type": "code",
   "execution_count": 673,
   "metadata": {},
   "outputs": [
    {
     "data": {
      "image/svg+xml": [
       "<?xml version=\"1.0\" encoding=\"utf-8\"?>\n",
       "<svg xmlns=\"http://www.w3.org/2000/svg\" xmlns:xlink=\"http://www.w3.org/1999/xlink\" width=\"600\" height=\"400\" viewBox=\"0 0 2400 1600\">\n",
       "<defs>\n",
       "  <clipPath id=\"clip510\">\n",
       "    <rect x=\"0\" y=\"0\" width=\"2400\" height=\"1600\"/>\n",
       "  </clipPath>\n",
       "</defs>\n",
       "<path clip-path=\"url(#clip510)\" d=\"\n",
       "M0 1600 L2400 1600 L2400 0 L0 0  Z\n",
       "  \" fill=\"#ffffff\" fill-rule=\"evenodd\" fill-opacity=\"1\"/>\n",
       "<defs>\n",
       "  <clipPath id=\"clip511\">\n",
       "    <rect x=\"480\" y=\"0\" width=\"1681\" height=\"1600\"/>\n",
       "  </clipPath>\n",
       "</defs>\n",
       "<path clip-path=\"url(#clip510)\" d=\"\n",
       "M275.898 1423.18 L2352.76 1423.18 L2352.76 123.472 L275.898 123.472  Z\n",
       "  \" fill=\"#ffffff\" fill-rule=\"evenodd\" fill-opacity=\"1\"/>\n",
       "<defs>\n",
       "  <clipPath id=\"clip512\">\n",
       "    <rect x=\"275\" y=\"123\" width=\"2078\" height=\"1301\"/>\n",
       "  </clipPath>\n",
       "</defs>\n",
       "<polyline clip-path=\"url(#clip512)\" style=\"stroke:#000000; stroke-linecap:butt; stroke-linejoin:round; stroke-width:2; stroke-opacity:0.1; fill:none\" points=\"\n",
       "  595.917,1423.18 595.917,123.472 \n",
       "  \"/>\n",
       "<polyline clip-path=\"url(#clip512)\" style=\"stroke:#000000; stroke-linecap:butt; stroke-linejoin:round; stroke-width:2; stroke-opacity:0.1; fill:none\" points=\"\n",
       "  987.777,1423.18 987.777,123.472 \n",
       "  \"/>\n",
       "<polyline clip-path=\"url(#clip512)\" style=\"stroke:#000000; stroke-linecap:butt; stroke-linejoin:round; stroke-width:2; stroke-opacity:0.1; fill:none\" points=\"\n",
       "  1379.64,1423.18 1379.64,123.472 \n",
       "  \"/>\n",
       "<polyline clip-path=\"url(#clip512)\" style=\"stroke:#000000; stroke-linecap:butt; stroke-linejoin:round; stroke-width:2; stroke-opacity:0.1; fill:none\" points=\"\n",
       "  1771.5,1423.18 1771.5,123.472 \n",
       "  \"/>\n",
       "<polyline clip-path=\"url(#clip512)\" style=\"stroke:#000000; stroke-linecap:butt; stroke-linejoin:round; stroke-width:2; stroke-opacity:0.1; fill:none\" points=\"\n",
       "  2163.36,1423.18 2163.36,123.472 \n",
       "  \"/>\n",
       "<polyline clip-path=\"url(#clip510)\" style=\"stroke:#000000; stroke-linecap:butt; stroke-linejoin:round; stroke-width:4; stroke-opacity:1; fill:none\" points=\"\n",
       "  275.898,1423.18 2352.76,1423.18 \n",
       "  \"/>\n",
       "<path clip-path=\"url(#clip510)\" d=\"M600.164 1466.95 Q603.521 1467.66 605.396 1469.93 Q607.294 1472.2 607.294 1475.53 Q607.294 1480.65 603.775 1483.45 Q600.257 1486.25 593.775 1486.25 Q591.599 1486.25 589.285 1485.81 Q586.993 1485.39 584.539 1484.54 L584.539 1480.02 Q586.484 1481.16 588.799 1481.74 Q591.113 1482.32 593.636 1482.32 Q598.035 1482.32 600.326 1480.58 Q602.641 1478.84 602.641 1475.53 Q602.641 1472.48 600.488 1470.77 Q598.359 1469.03 594.539 1469.03 L590.512 1469.03 L590.512 1465.19 L594.724 1465.19 Q598.173 1465.19 600.002 1463.82 Q601.831 1462.43 601.831 1459.84 Q601.831 1457.18 599.933 1455.77 Q598.058 1454.33 594.539 1454.33 Q592.618 1454.33 590.419 1454.75 Q588.22 1455.16 585.581 1456.04 L585.581 1451.88 Q588.243 1451.14 590.558 1450.77 Q592.896 1450.39 594.956 1450.39 Q600.28 1450.39 603.382 1452.83 Q606.484 1455.23 606.484 1459.35 Q606.484 1462.22 604.84 1464.21 Q603.197 1466.18 600.164 1466.95 Z\" fill=\"#000000\" fill-rule=\"evenodd\" fill-opacity=\"1\" /><path clip-path=\"url(#clip510)\" d=\"M988.182 1466.44 Q985.034 1466.44 983.182 1468.59 Q981.353 1470.74 981.353 1474.49 Q981.353 1478.22 983.182 1480.39 Q985.034 1482.55 988.182 1482.55 Q991.33 1482.55 993.159 1480.39 Q995.01 1478.22 995.01 1474.49 Q995.01 1470.74 993.159 1468.59 Q991.33 1466.44 988.182 1466.44 M997.464 1451.78 L997.464 1456.04 Q995.705 1455.21 993.899 1454.77 Q992.117 1454.33 990.358 1454.33 Q985.728 1454.33 983.274 1457.45 Q980.844 1460.58 980.497 1466.9 Q981.862 1464.89 983.922 1463.82 Q985.983 1462.73 988.46 1462.73 Q993.668 1462.73 996.677 1465.9 Q999.709 1469.05 999.709 1474.49 Q999.709 1479.82 996.561 1483.03 Q993.413 1486.25 988.182 1486.25 Q982.186 1486.25 979.015 1481.67 Q975.844 1477.06 975.844 1468.33 Q975.844 1460.14 979.733 1455.28 Q983.622 1450.39 990.172 1450.39 Q991.932 1450.39 993.714 1450.74 Q995.52 1451.09 997.464 1451.78 Z\" fill=\"#000000\" fill-rule=\"evenodd\" fill-opacity=\"1\" /><path clip-path=\"url(#clip510)\" d=\"M1369.94 1484.86 L1369.94 1480.6 Q1371.7 1481.44 1373.5 1481.88 Q1375.31 1482.32 1377.04 1482.32 Q1381.67 1482.32 1384.1 1479.21 Q1386.56 1476.09 1386.91 1469.75 Q1385.56 1471.74 1383.5 1472.8 Q1381.44 1473.87 1378.94 1473.87 Q1373.76 1473.87 1370.72 1470.74 Q1367.72 1467.59 1367.72 1462.15 Q1367.72 1456.83 1370.86 1453.61 Q1374.01 1450.39 1379.24 1450.39 Q1385.24 1450.39 1388.39 1455 Q1391.56 1459.58 1391.56 1468.33 Q1391.56 1476.51 1387.67 1481.39 Q1383.8 1486.25 1377.25 1486.25 Q1375.49 1486.25 1373.69 1485.9 Q1371.88 1485.56 1369.94 1484.86 M1379.24 1470.21 Q1382.39 1470.21 1384.22 1468.06 Q1386.07 1465.9 1386.07 1462.15 Q1386.07 1458.43 1384.22 1456.27 Q1382.39 1454.1 1379.24 1454.1 Q1376.1 1454.1 1374.24 1456.27 Q1372.41 1458.43 1372.41 1462.15 Q1372.41 1465.9 1374.24 1468.06 Q1376.1 1470.21 1379.24 1470.21 Z\" fill=\"#000000\" fill-rule=\"evenodd\" fill-opacity=\"1\" /><path clip-path=\"url(#clip510)\" d=\"M1746.98 1481.64 L1754.62 1481.64 L1754.62 1455.28 L1746.31 1456.95 L1746.31 1452.69 L1754.58 1451.02 L1759.25 1451.02 L1759.25 1481.64 L1766.89 1481.64 L1766.89 1485.58 L1746.98 1485.58 L1746.98 1481.64 Z\" fill=\"#000000\" fill-rule=\"evenodd\" fill-opacity=\"1\" /><path clip-path=\"url(#clip510)\" d=\"M1780.36 1481.64 L1796.68 1481.64 L1796.68 1485.58 L1774.74 1485.58 L1774.74 1481.64 Q1777.4 1478.89 1781.98 1474.26 Q1786.59 1469.61 1787.77 1468.27 Q1790.02 1465.74 1790.89 1464.01 Q1791.8 1462.25 1791.8 1460.56 Q1791.8 1457.8 1789.85 1456.07 Q1787.93 1454.33 1784.83 1454.33 Q1782.63 1454.33 1780.18 1455.09 Q1777.75 1455.86 1774.97 1457.41 L1774.97 1452.69 Q1777.79 1451.55 1780.25 1450.97 Q1782.7 1450.39 1784.74 1450.39 Q1790.11 1450.39 1793.3 1453.08 Q1796.5 1455.77 1796.5 1460.26 Q1796.5 1462.39 1795.69 1464.31 Q1794.9 1466.2 1792.79 1468.8 Q1792.21 1469.47 1789.11 1472.69 Q1786.01 1475.88 1780.36 1481.64 Z\" fill=\"#000000\" fill-rule=\"evenodd\" fill-opacity=\"1\" /><path clip-path=\"url(#clip510)\" d=\"M2138.54 1481.64 L2146.18 1481.64 L2146.18 1455.28 L2137.87 1456.95 L2137.87 1452.69 L2146.13 1451.02 L2150.81 1451.02 L2150.81 1481.64 L2158.45 1481.64 L2158.45 1485.58 L2138.54 1485.58 L2138.54 1481.64 Z\" fill=\"#000000\" fill-rule=\"evenodd\" fill-opacity=\"1\" /><path clip-path=\"url(#clip510)\" d=\"M2167.94 1451.02 L2186.3 1451.02 L2186.3 1454.96 L2172.22 1454.96 L2172.22 1463.43 Q2173.24 1463.08 2174.26 1462.92 Q2175.28 1462.73 2176.3 1462.73 Q2182.08 1462.73 2185.46 1465.9 Q2188.84 1469.08 2188.84 1474.49 Q2188.84 1480.07 2185.37 1483.17 Q2181.9 1486.25 2175.58 1486.25 Q2173.4 1486.25 2171.13 1485.88 Q2168.89 1485.51 2166.48 1484.77 L2166.48 1480.07 Q2168.57 1481.2 2170.79 1481.76 Q2173.01 1482.32 2175.49 1482.32 Q2179.49 1482.32 2181.83 1480.21 Q2184.17 1478.1 2184.17 1474.49 Q2184.17 1470.88 2181.83 1468.77 Q2179.49 1466.67 2175.49 1466.67 Q2173.61 1466.67 2171.74 1467.08 Q2169.88 1467.5 2167.94 1468.38 L2167.94 1451.02 Z\" fill=\"#000000\" fill-rule=\"evenodd\" fill-opacity=\"1\" /><path clip-path=\"url(#clip510)\" d=\"M1311.4 1532.4 L1317.25 1532.4 L1317.25 1568.04 L1311.4 1568.04 L1311.4 1532.4 M1311.4 1518.52 L1317.25 1518.52 L1317.25 1525.93 L1311.4 1525.93 L1311.4 1518.52 Z\" fill=\"#000000\" fill-rule=\"evenodd\" fill-opacity=\"1\" /><polyline clip-path=\"url(#clip512)\" style=\"stroke:#000000; stroke-linecap:butt; stroke-linejoin:round; stroke-width:2; stroke-opacity:0.1; fill:none\" points=\"\n",
       "  275.898,123.472 2352.76,123.472 \n",
       "  \"/>\n",
       "<polyline clip-path=\"url(#clip510)\" style=\"stroke:#000000; stroke-linecap:butt; stroke-linejoin:round; stroke-width:4; stroke-opacity:1; fill:none\" points=\"\n",
       "  275.898,1423.18 275.898,123.472 \n",
       "  \"/>\n",
       "<polyline clip-path=\"url(#clip510)\" style=\"stroke:#000000; stroke-linecap:butt; stroke-linejoin:round; stroke-width:4; stroke-opacity:1; fill:none\" points=\"\n",
       "  275.898,123.472 294.795,123.472 \n",
       "  \"/>\n",
       "<path clip-path=\"url(#clip510)\" d=\"M-nan -nan L-nan -nan L-nan -nan L-nan -nan L-nan -nan L-nan -nan L-nan -nan L-nan -nan L-nan -nan L-nan -nan L-nan -nan L-nan -nan Z\" fill=\"#000000\" fill-rule=\"evenodd\" fill-opacity=\"1\" /><path clip-path=\"url(#clip510)\" d=\"M-nan -nan Q-nan -nan -nan -nan Q-nan -nan -nan -nan Q-nan -nan -nan -nan Q-nan -nan -nan -nan Q-nan -nan -nan -nan Q-nan -nan -nan -nan Q-nan -nan -nan -nan Q-nan -nan -nan -nan M-nan -nan Q-nan -nan -nan -nan Q-nan -nan -nan -nan Q-nan -nan -nan -nan Q-nan -nan -nan -nan Q-nan -nan -nan -nan Q-nan -nan -nan -nan Q-nan -nan -nan -nan Q-nan -nan -nan -nan Z\" fill=\"#000000\" fill-rule=\"evenodd\" fill-opacity=\"1\" /><path clip-path=\"url(#clip510)\" d=\"M-nan -nan L-nan -nan L-nan -nan L-nan -nan L-nan -nan L-nan -nan L-nan -nan L-nan -nan L-nan -nan L-nan -nan L-nan -nan Z\" fill=\"#000000\" fill-rule=\"evenodd\" fill-opacity=\"1\" /><path clip-path=\"url(#clip510)\" d=\"M-nan -nan Q-nan -nan -nan -nan Q-nan -nan -nan -nan Q-nan -nan -nan -nan Q-nan -nan -nan -nan Q-nan -nan -nan -nan Q-nan -nan -nan -nan L-nan -nan L-nan -nan M-nan -nan L-nan -nan L-nan -nan L-nan -nan Q-nan -nan -nan -nan Q-nan -nan -nan -nan Q-nan -nan -nan -nan Q-nan -nan -nan -nan Q-nan -nan -nan -nan Q-nan -nan -nan -nan L-nan -nan L-nan -nan Q-nan -nan -nan -nan Q-nan -nan -nan -nan Q-nan -nan -nan -nan Q-nan -nan -nan -nan L-nan -nan Q-nan -nan -nan -nan Q-nan -nan -nan -nan Q-nan -nan -nan -nan Q-nan -nan -nan -nan Z\" fill=\"#000000\" fill-rule=\"evenodd\" fill-opacity=\"1\" /><path clip-path=\"url(#clip510)\" d=\"M-nan -nan L-nan -nan L-nan -nan L-nan -nan L-nan -nan L-nan -nan L-nan -nan L-nan -nan L-nan -nan L-nan -nan L-nan -nan Z\" fill=\"#000000\" fill-rule=\"evenodd\" fill-opacity=\"1\" /><path clip-path=\"url(#clip510)\" d=\"M169.192 143.265 L176.831 143.265 L176.831 116.899 L168.521 118.566 L168.521 114.306 L176.784 112.64 L181.46 112.64 L181.46 143.265 L189.099 143.265 L189.099 147.2 L169.192 147.2 L169.192 143.265 Z\" fill=\"#000000\" fill-rule=\"evenodd\" fill-opacity=\"1\" /><path clip-path=\"url(#clip510)\" d=\"M208.544 115.718 Q204.932 115.718 203.104 119.283 Q201.298 122.825 201.298 129.954 Q201.298 137.061 203.104 140.626 Q204.932 144.167 208.544 144.167 Q212.178 144.167 213.983 140.626 Q215.812 137.061 215.812 129.954 Q215.812 122.825 213.983 119.283 Q212.178 115.718 208.544 115.718 M208.544 112.015 Q214.354 112.015 217.409 116.621 Q220.488 121.204 220.488 129.954 Q220.488 138.681 217.409 143.288 Q214.354 147.871 208.544 147.871 Q202.733 147.871 199.655 143.288 Q196.599 138.681 196.599 129.954 Q196.599 121.204 199.655 116.621 Q202.733 112.015 208.544 112.015 Z\" fill=\"#000000\" fill-rule=\"evenodd\" fill-opacity=\"1\" /><path clip-path=\"url(#clip510)\" d=\"M230.193 94.2108 Q227.259 94.2108 225.773 97.1072 Q224.306 99.9847 224.306 105.778 Q224.306 111.552 225.773 114.448 Q227.259 117.326 230.193 117.326 Q233.146 117.326 234.613 114.448 Q236.098 111.552 236.098 105.778 Q236.098 99.9847 234.613 97.1072 Q233.146 94.2108 230.193 94.2108 M230.193 91.2015 Q234.913 91.2015 237.396 94.9443 Q239.898 98.6682 239.898 105.778 Q239.898 112.868 237.396 116.611 Q234.913 120.335 230.193 120.335 Q225.472 120.335 222.971 116.611 Q220.488 112.868 220.488 105.778 Q220.488 98.6682 222.971 94.9443 Q225.472 91.2015 230.193 91.2015 Z\" fill=\"#000000\" fill-rule=\"evenodd\" fill-opacity=\"1\" /><path clip-path=\"url(#clip510)\" d=\"M14.479 1126.78 L19.3487 1126.78 L19.3487 1132.38 Q19.3487 1135.53 20.6219 1136.78 Q21.895 1137.99 25.2052 1137.99 L28.3562 1137.99 L28.3562 1128.34 L32.9077 1128.34 L32.9077 1137.99 L64.0042 1137.99 L64.0042 1143.87 L32.9077 1143.87 L32.9077 1149.48 L28.3562 1149.48 L28.3562 1143.87 L25.8736 1143.87 Q19.9216 1143.87 17.2162 1141.1 Q14.479 1138.34 14.479 1132.32 L14.479 1126.78 Z\" fill=\"#000000\" fill-rule=\"evenodd\" fill-opacity=\"1\" /><path clip-path=\"url(#clip510)\" d=\"M28.3562 1121.88 L28.3562 1116.02 L64.0042 1116.02 L64.0042 1121.88 L28.3562 1121.88 M14.479 1121.88 L14.479 1116.02 L21.895 1116.02 L21.895 1121.88 L14.479 1121.88 Z\" fill=\"#000000\" fill-rule=\"evenodd\" fill-opacity=\"1\" /><path clip-path=\"url(#clip510)\" d=\"M44.7161 1052.56 L47.5806 1052.56 L47.5806 1079.48 Q53.6281 1079.1 56.8109 1075.86 Q59.9619 1072.58 59.9619 1066.75 Q59.9619 1063.38 59.1344 1060.23 Q58.3069 1057.05 56.6518 1053.93 L62.1899 1053.93 Q63.5267 1057.08 64.227 1060.39 Q64.9272 1063.7 64.9272 1067.1 Q64.9272 1075.63 59.9619 1080.63 Q54.9967 1085.6 46.5303 1085.6 Q37.7774 1085.6 32.6531 1080.89 Q27.4968 1076.14 27.4968 1068.12 Q27.4968 1060.93 32.1438 1056.76 Q36.7589 1052.56 44.7161 1052.56 M42.9973 1058.41 Q38.1912 1058.48 35.3266 1061.12 Q32.4621 1063.73 32.4621 1068.06 Q32.4621 1072.96 35.2312 1075.92 Q38.0002 1078.85 43.0292 1079.29 L42.9973 1058.41 Z\" fill=\"#000000\" fill-rule=\"evenodd\" fill-opacity=\"1\" /><path clip-path=\"url(#clip510)\" d=\"M42.4881 1013.31 L64.0042 1013.31 L64.0042 1019.17 L42.679 1019.17 Q37.6183 1019.17 35.1038 1021.14 Q32.5894 1023.12 32.5894 1027.06 Q32.5894 1031.81 35.6131 1034.54 Q38.6368 1037.28 43.8567 1037.28 L64.0042 1037.28 L64.0042 1043.17 L28.3562 1043.17 L28.3562 1037.28 L33.8944 1037.28 Q30.6797 1035.18 29.0883 1032.35 Q27.4968 1029.48 27.4968 1025.76 Q27.4968 1019.62 31.3163 1016.46 Q35.1038 1013.31 42.4881 1013.31 Z\" fill=\"#000000\" fill-rule=\"evenodd\" fill-opacity=\"1\" /><path clip-path=\"url(#clip510)\" d=\"M44.7161 950.42 L47.5806 950.42 L47.5806 977.347 Q53.6281 976.965 56.8109 973.718 Q59.9619 970.44 59.9619 964.615 Q59.9619 961.242 59.1344 958.091 Q58.3069 954.908 56.6518 951.789 L62.1899 951.789 Q63.5267 954.94 64.227 958.25 Q64.9272 961.56 64.9272 964.966 Q64.9272 973.496 59.9619 978.493 Q54.9967 983.458 46.5303 983.458 Q37.7774 983.458 32.6531 978.747 Q27.4968 974.005 27.4968 965.984 Q27.4968 958.791 32.1438 954.621 Q36.7589 950.42 44.7161 950.42 M42.9973 956.276 Q38.1912 956.34 35.3266 958.982 Q32.4621 961.592 32.4621 965.92 Q32.4621 970.822 35.2312 973.782 Q38.0002 976.71 43.0292 977.156 L42.9973 956.276 Z\" fill=\"#000000\" fill-rule=\"evenodd\" fill-opacity=\"1\" /><path clip-path=\"url(#clip510)\" d=\"M29.4065 918.082 L34.9447 918.082 Q33.6716 920.565 33.035 923.238 Q32.3984 925.912 32.3984 928.777 Q32.3984 933.137 33.7352 935.333 Q35.072 937.498 37.7456 937.498 Q39.7826 937.498 40.9603 935.938 Q42.1061 934.378 43.1565 929.668 L43.6021 927.663 Q44.9389 921.424 47.3897 918.814 Q49.8086 916.172 54.1691 916.172 Q59.1344 916.172 62.0308 920.119 Q64.9272 924.034 64.9272 930.909 Q64.9272 933.774 64.3543 936.893 Q63.8132 939.98 62.6992 943.418 L56.6518 943.418 Q58.3387 940.171 59.198 937.02 Q60.0256 933.869 60.0256 930.782 Q60.0256 926.644 58.6251 924.416 Q57.1929 922.188 54.6147 922.188 Q52.2276 922.188 50.9545 923.811 Q49.6813 925.403 48.5037 930.845 L48.0262 932.882 Q46.8804 938.325 44.5251 940.744 Q42.138 943.163 38.0002 943.163 Q32.9713 943.163 30.2341 939.598 Q27.4968 936.033 27.4968 929.477 Q27.4968 926.23 27.9743 923.366 Q28.4517 920.501 29.4065 918.082 Z\" fill=\"#000000\" fill-rule=\"evenodd\" fill-opacity=\"1\" /><path clip-path=\"url(#clip510)\" d=\"M29.7248 881.193 L35.1993 881.193 Q33.8307 883.676 33.1623 886.19 Q32.4621 888.673 32.4621 891.219 Q32.4621 896.916 36.0905 900.067 Q39.6872 903.218 46.212 903.218 Q52.7369 903.218 56.3653 900.067 Q59.9619 896.916 59.9619 891.219 Q59.9619 888.673 59.2935 886.19 Q58.5933 883.676 57.2247 881.193 L62.6355 881.193 Q63.7814 883.644 64.3543 886.285 Q64.9272 888.895 64.9272 891.855 Q64.9272 899.908 59.8664 904.651 Q54.8057 909.393 46.212 909.393 Q37.491 909.393 32.4939 904.619 Q27.4968 899.813 27.4968 891.473 Q27.4968 888.768 28.0697 886.19 Q28.6108 883.612 29.7248 881.193 Z\" fill=\"#000000\" fill-rule=\"evenodd\" fill-opacity=\"1\" /><path clip-path=\"url(#clip510)\" d=\"M46.0847 854.807 Q46.0847 861.905 47.7079 864.642 Q49.3312 867.379 53.2461 867.379 Q56.3653 867.379 58.2114 865.342 Q60.0256 863.273 60.0256 859.74 Q60.0256 854.871 56.5881 851.942 Q53.1188 848.982 47.3897 848.982 L46.0847 848.982 L46.0847 854.807 M43.6657 843.126 L64.0042 843.126 L64.0042 848.982 L58.5933 848.982 Q61.8398 850.988 63.3994 853.979 Q64.9272 856.971 64.9272 861.3 Q64.9272 866.775 61.8716 870.021 Q58.7843 873.236 53.6281 873.236 Q47.6125 873.236 44.5569 869.225 Q41.5014 865.183 41.5014 857.194 L41.5014 848.982 L40.9285 848.982 Q36.8862 848.982 34.6901 851.656 Q32.4621 854.298 32.4621 859.104 Q32.4621 862.159 33.1941 865.056 Q33.9262 867.952 35.3903 870.626 L29.9795 870.626 Q28.7381 867.411 28.1334 864.387 Q27.4968 861.364 27.4968 858.499 Q27.4968 850.765 31.5072 846.945 Q35.5176 843.126 43.6657 843.126 Z\" fill=\"#000000\" fill-rule=\"evenodd\" fill-opacity=\"1\" /><path clip-path=\"url(#clip510)\" d=\"M14.479 831.063 L14.479 825.206 L64.0042 825.206 L64.0042 831.063 L14.479 831.063 Z\" fill=\"#000000\" fill-rule=\"evenodd\" fill-opacity=\"1\" /><path clip-path=\"url(#clip510)\" d=\"M46.0847 796.752 Q46.0847 803.85 47.7079 806.587 Q49.3312 809.324 53.2461 809.324 Q56.3653 809.324 58.2114 807.287 Q60.0256 805.218 60.0256 801.685 Q60.0256 796.815 56.5881 793.887 Q53.1188 790.927 47.3897 790.927 L46.0847 790.927 L46.0847 796.752 M43.6657 785.071 L64.0042 785.071 L64.0042 790.927 L58.5933 790.927 Q61.8398 792.932 63.3994 795.924 Q64.9272 798.916 64.9272 803.245 Q64.9272 808.719 61.8716 811.966 Q58.7843 815.181 53.6281 815.181 Q47.6125 815.181 44.5569 811.17 Q41.5014 807.128 41.5014 799.139 L41.5014 790.927 L40.9285 790.927 Q36.8862 790.927 34.6901 793.601 Q32.4621 796.243 32.4621 801.049 Q32.4621 804.104 33.1941 807.001 Q33.9262 809.897 35.3903 812.571 L29.9795 812.571 Q28.7381 809.356 28.1334 806.332 Q27.4968 803.308 27.4968 800.444 Q27.4968 792.71 31.5072 788.89 Q35.5176 785.071 43.6657 785.071 Z\" fill=\"#000000\" fill-rule=\"evenodd\" fill-opacity=\"1\" /><path clip-path=\"url(#clip510)\" d=\"M14.479 752.287 L14.479 746.431 L64.0042 746.431 L64.0042 752.287 L14.479 752.287 Z\" fill=\"#000000\" fill-rule=\"evenodd\" fill-opacity=\"1\" /><path clip-path=\"url(#clip510)\" d=\"M32.4621 720.363 Q32.4621 725.074 36.1542 727.811 Q39.8145 730.548 46.212 730.548 Q52.6095 730.548 56.3017 727.843 Q59.9619 725.106 59.9619 720.363 Q59.9619 715.685 56.2698 712.947 Q52.5777 710.21 46.212 710.21 Q39.8781 710.21 36.186 712.947 Q32.4621 715.685 32.4621 720.363 M27.4968 720.363 Q27.4968 712.724 32.4621 708.364 Q37.4273 704.003 46.212 704.003 Q54.9649 704.003 59.9619 708.364 Q64.9272 712.724 64.9272 720.363 Q64.9272 728.034 59.9619 732.394 Q54.9649 736.723 46.212 736.723 Q37.4273 736.723 32.4621 732.394 Q27.4968 728.034 27.4968 720.363 Z\" fill=\"#000000\" fill-rule=\"evenodd\" fill-opacity=\"1\" /><path clip-path=\"url(#clip510)\" d=\"M45.7664 670.838 Q39.4007 670.838 35.8996 673.48 Q32.3984 676.09 32.3984 680.832 Q32.3984 685.543 35.8996 688.185 Q39.4007 690.795 45.7664 690.795 Q52.1003 690.795 55.6014 688.185 Q59.1026 685.543 59.1026 680.832 Q59.1026 676.09 55.6014 673.48 Q52.1003 670.838 45.7664 670.838 M59.58 664.982 Q68.683 664.982 73.1071 669.024 Q77.5631 673.066 77.5631 681.405 Q77.5631 684.493 77.0857 687.23 Q76.6401 689.967 75.6852 692.545 L69.9879 692.545 Q71.3884 689.967 72.0568 687.453 Q72.7252 684.938 72.7252 682.328 Q72.7252 676.567 69.7015 673.703 Q66.7096 670.838 60.6303 670.838 L57.7339 670.838 Q60.885 672.652 62.4446 675.485 Q64.0042 678.318 64.0042 682.265 Q64.0042 688.821 59.0071 692.832 Q54.01 696.842 45.7664 696.842 Q37.491 696.842 32.4939 692.832 Q27.4968 688.821 27.4968 682.265 Q27.4968 678.318 29.0564 675.485 Q30.616 672.652 33.7671 670.838 L28.3562 670.838 L28.3562 664.982 L59.58 664.982 Z\" fill=\"#000000\" fill-rule=\"evenodd\" fill-opacity=\"1\" /><path clip-path=\"url(#clip510)\" d=\"M46.0847 636.718 Q46.0847 643.816 47.7079 646.553 Q49.3312 649.29 53.2461 649.29 Q56.3653 649.29 58.2114 647.253 Q60.0256 645.184 60.0256 641.651 Q60.0256 636.782 56.5881 633.853 Q53.1188 630.893 47.3897 630.893 L46.0847 630.893 L46.0847 636.718 M43.6657 625.037 L64.0042 625.037 L64.0042 630.893 L58.5933 630.893 Q61.8398 632.898 63.3994 635.89 Q64.9272 638.882 64.9272 643.211 Q64.9272 648.685 61.8716 651.932 Q58.7843 655.147 53.6281 655.147 Q47.6125 655.147 44.5569 651.136 Q41.5014 647.094 41.5014 639.105 L41.5014 630.893 L40.9285 630.893 Q36.8862 630.893 34.6901 633.567 Q32.4621 636.209 32.4621 641.015 Q32.4621 644.07 33.1941 646.967 Q33.9262 649.863 35.3903 652.537 L29.9795 652.537 Q28.7381 649.322 28.1334 646.298 Q27.4968 643.275 27.4968 640.41 Q27.4968 632.676 31.5072 628.856 Q35.5176 625.037 43.6657 625.037 Z\" fill=\"#000000\" fill-rule=\"evenodd\" fill-opacity=\"1\" /><path clip-path=\"url(#clip510)\" d=\"M33.8307 592.317 Q33.2578 593.304 33.0032 594.481 Q32.7167 595.627 32.7167 597.028 Q32.7167 601.993 35.9632 604.667 Q39.1779 607.308 45.2253 607.308 L64.0042 607.308 L64.0042 613.197 L28.3562 613.197 L28.3562 607.308 L33.8944 607.308 Q30.6479 605.462 29.0883 602.502 Q27.4968 599.542 27.4968 595.309 Q27.4968 594.704 27.5923 593.972 Q27.656 593.24 27.8151 592.349 L33.8307 592.317 Z\" fill=\"#000000\" fill-rule=\"evenodd\" fill-opacity=\"1\" /><path clip-path=\"url(#clip510)\" d=\"M28.3562 586.174 L28.3562 580.318 L64.0042 580.318 L64.0042 586.174 L28.3562 586.174 M14.479 586.174 L14.479 580.318 L21.895 580.318 L21.895 586.174 L14.479 586.174 Z\" fill=\"#000000\" fill-rule=\"evenodd\" fill-opacity=\"1\" /><path clip-path=\"url(#clip510)\" d=\"M18.2347 562.271 L28.3562 562.271 L28.3562 550.208 L32.9077 550.208 L32.9077 562.271 L52.2594 562.271 Q56.6199 562.271 57.8613 561.093 Q59.1026 559.884 59.1026 556.224 L59.1026 550.208 L64.0042 550.208 L64.0042 556.224 Q64.0042 563.003 61.4897 565.581 Q58.9434 568.159 52.2594 568.159 L32.9077 568.159 L32.9077 572.456 L28.3562 572.456 L28.3562 568.159 L18.2347 568.159 L18.2347 562.271 Z\" fill=\"#000000\" fill-rule=\"evenodd\" fill-opacity=\"1\" /><path clip-path=\"url(#clip510)\" d=\"M35.1993 514.751 Q31.2526 512.555 29.3747 509.499 Q27.4968 506.444 27.4968 502.306 Q27.4968 496.736 31.4117 493.712 Q35.2948 490.689 42.4881 490.689 L64.0042 490.689 L64.0042 496.577 L42.679 496.577 Q37.5546 496.577 35.072 498.391 Q32.5894 500.205 32.5894 503.929 Q32.5894 508.481 35.6131 511.123 Q38.6368 513.764 43.8567 513.764 L64.0042 513.764 L64.0042 519.653 L42.679 519.653 Q37.5228 519.653 35.072 521.467 Q32.5894 523.281 32.5894 527.069 Q32.5894 531.556 35.6449 534.198 Q38.6686 536.84 43.8567 536.84 L64.0042 536.84 L64.0042 542.728 L28.3562 542.728 L28.3562 536.84 L33.8944 536.84 Q30.616 534.835 29.0564 532.034 Q27.4968 529.233 27.4968 525.382 Q27.4968 521.499 29.4702 518.793 Q31.4436 516.056 35.1993 514.751 Z\" fill=\"#000000\" fill-rule=\"evenodd\" fill-opacity=\"1\" /><path clip-path=\"url(#clip510)\" d=\"M28.3562 479.008 L28.3562 473.151 L64.0042 473.151 L64.0042 479.008 L28.3562 479.008 M14.479 479.008 L14.479 473.151 L21.895 473.151 L21.895 479.008 L14.479 479.008 Z\" fill=\"#000000\" fill-rule=\"evenodd\" fill-opacity=\"1\" /><path clip-path=\"url(#clip510)\" d=\"M29.7248 435.243 L35.1993 435.243 Q33.8307 437.726 33.1623 440.24 Q32.4621 442.723 32.4621 445.269 Q32.4621 450.967 36.0905 454.118 Q39.6872 457.269 46.212 457.269 Q52.7369 457.269 56.3653 454.118 Q59.9619 450.967 59.9619 445.269 Q59.9619 442.723 59.2935 440.24 Q58.5933 437.726 57.2247 435.243 L62.6355 435.243 Q63.7814 437.694 64.3543 440.336 Q64.9272 442.946 64.9272 445.906 Q64.9272 453.958 59.8664 458.701 Q54.8057 463.443 46.212 463.443 Q37.491 463.443 32.4939 458.669 Q27.4968 453.863 27.4968 445.524 Q27.4968 442.818 28.0697 440.24 Q28.6108 437.662 29.7248 435.243 Z\" fill=\"#000000\" fill-rule=\"evenodd\" fill-opacity=\"1\" /><path clip-path=\"url(#clip510)\" d=\"M46.0847 408.857 Q46.0847 415.955 47.7079 418.692 Q49.3312 421.43 53.2461 421.43 Q56.3653 421.43 58.2114 419.393 Q60.0256 417.324 60.0256 413.791 Q60.0256 408.921 56.5881 405.993 Q53.1188 403.033 47.3897 403.033 L46.0847 403.033 L46.0847 408.857 M43.6657 397.176 L64.0042 397.176 L64.0042 403.033 L58.5933 403.033 Q61.8398 405.038 63.3994 408.03 Q64.9272 411.022 64.9272 415.35 Q64.9272 420.825 61.8716 424.071 Q58.7843 427.286 53.6281 427.286 Q47.6125 427.286 44.5569 423.276 Q41.5014 419.234 41.5014 411.245 L41.5014 403.033 L40.9285 403.033 Q36.8862 403.033 34.6901 405.706 Q32.4621 408.348 32.4621 413.154 Q32.4621 416.21 33.1941 419.106 Q33.9262 422.003 35.3903 424.676 L29.9795 424.676 Q28.7381 421.462 28.1334 418.438 Q27.4968 415.414 27.4968 412.55 Q27.4968 404.815 31.5072 400.996 Q35.5176 397.176 43.6657 397.176 Z\" fill=\"#000000\" fill-rule=\"evenodd\" fill-opacity=\"1\" /><path clip-path=\"url(#clip510)\" d=\"M1237.87 9.54393 L1237.87 15.7418 L1230.74 15.7418 Q1226.73 15.7418 1225.15 17.3622 Q1223.61 18.9825 1223.61 23.1955 L1223.61 27.2059 L1235.88 27.2059 L1235.88 32.9987 L1223.61 32.9987 L1223.61 72.576 L1216.11 72.576 L1216.11 32.9987 L1208.98 32.9987 L1208.98 27.2059 L1216.11 27.2059 L1216.11 24.0462 Q1216.11 16.471 1219.64 13.0277 Q1223.16 9.54393 1230.82 9.54393 L1237.87 9.54393 Z\" fill=\"#000000\" fill-rule=\"evenodd\" fill-opacity=\"1\" /><path clip-path=\"url(#clip510)\" d=\"M1244.1 27.2059 L1251.56 27.2059 L1251.56 72.576 L1244.1 72.576 L1244.1 27.2059 M1244.1 9.54393 L1251.56 9.54393 L1251.56 18.9825 L1244.1 18.9825 L1244.1 9.54393 Z\" fill=\"#000000\" fill-rule=\"evenodd\" fill-opacity=\"1\" /><path clip-path=\"url(#clip510)\" d=\"M1288.18 27.2059 L1296.08 27.2059 L1310.26 65.2844 L1324.43 27.2059 L1332.33 27.2059 L1315.32 72.576 L1305.19 72.576 L1288.18 27.2059 Z\" fill=\"#000000\" fill-rule=\"evenodd\" fill-opacity=\"1\" /><path clip-path=\"url(#clip510)\" d=\"M1371.55 28.5427 L1371.55 35.5912 Q1368.39 33.9709 1364.98 33.1607 Q1361.58 32.3505 1357.93 32.3505 Q1352.38 32.3505 1349.59 34.0519 Q1346.84 35.7533 1346.84 39.156 Q1346.84 41.7486 1348.82 43.2475 Q1350.81 44.7058 1356.8 46.0426 L1359.35 46.6097 Q1367.29 48.3111 1370.61 51.4303 Q1373.98 54.509 1373.98 60.0587 Q1373.98 66.3781 1368.95 70.0644 Q1363.97 73.7508 1355.22 73.7508 Q1351.57 73.7508 1347.6 73.0216 Q1343.68 72.3329 1339.3 70.9151 L1339.3 63.2184 Q1343.43 65.3654 1347.44 66.4591 Q1351.45 67.5124 1355.38 67.5124 Q1360.65 67.5124 1363.48 65.73 Q1366.32 63.9071 1366.32 60.6258 Q1366.32 57.5877 1364.25 55.9673 Q1362.23 54.3469 1355.3 52.8481 L1352.71 52.2405 Q1345.78 50.7821 1342.7 47.7845 Q1339.62 44.7463 1339.62 39.4801 Q1339.62 33.0797 1344.16 29.5959 Q1348.7 26.1121 1357.04 26.1121 Q1361.18 26.1121 1364.82 26.7198 Q1368.47 27.3274 1371.55 28.5427 Z\" fill=\"#000000\" fill-rule=\"evenodd\" fill-opacity=\"1\" /><path clip-path=\"url(#clip510)\" d=\"M1412.22 27.2059 L1419.67 27.2059 L1419.67 72.576 L1412.22 72.576 L1412.22 27.2059 M1412.22 9.54393 L1419.67 9.54393 L1419.67 18.9825 L1412.22 18.9825 L1412.22 9.54393 Z\" fill=\"#000000\" fill-rule=\"evenodd\" fill-opacity=\"1\" /><circle clip-path=\"url(#clip512)\" cx=\"334.677\" cy=\"926.198\" r=\"14\" fill=\"#009af9\" fill-rule=\"evenodd\" fill-opacity=\"1\" stroke=\"#000000\" stroke-opacity=\"1\" stroke-width=\"3.2\"/>\n",
       "<circle clip-path=\"url(#clip512)\" cx=\"465.297\" cy=\"442.18\" r=\"14\" fill=\"#009af9\" fill-rule=\"evenodd\" fill-opacity=\"1\" stroke=\"#000000\" stroke-opacity=\"1\" stroke-width=\"3.2\"/>\n",
       "<circle clip-path=\"url(#clip512)\" cx=\"595.917\" cy=\"745.239\" r=\"14\" fill=\"#009af9\" fill-rule=\"evenodd\" fill-opacity=\"1\" stroke=\"#000000\" stroke-opacity=\"1\" stroke-width=\"3.2\"/>\n",
       "<circle clip-path=\"url(#clip512)\" cx=\"726.537\" cy=\"847.009\" r=\"14\" fill=\"#009af9\" fill-rule=\"evenodd\" fill-opacity=\"1\" stroke=\"#000000\" stroke-opacity=\"1\" stroke-width=\"3.2\"/>\n",
       "<circle clip-path=\"url(#clip512)\" cx=\"857.157\" cy=\"799.33\" r=\"14\" fill=\"#009af9\" fill-rule=\"evenodd\" fill-opacity=\"1\" stroke=\"#000000\" stroke-opacity=\"1\" stroke-width=\"3.2\"/>\n",
       "<circle clip-path=\"url(#clip512)\" cx=\"987.777\" cy=\"773.142\" r=\"14\" fill=\"#009af9\" fill-rule=\"evenodd\" fill-opacity=\"1\" stroke=\"#000000\" stroke-opacity=\"1\" stroke-width=\"3.2\"/>\n",
       "<circle clip-path=\"url(#clip512)\" cx=\"1118.4\" cy=\"786.443\" r=\"14\" fill=\"#009af9\" fill-rule=\"evenodd\" fill-opacity=\"1\" stroke=\"#000000\" stroke-opacity=\"1\" stroke-width=\"3.2\"/>\n",
       "<circle clip-path=\"url(#clip512)\" cx=\"1249.02\" cy=\"779.845\" r=\"14\" fill=\"#009af9\" fill-rule=\"evenodd\" fill-opacity=\"1\" stroke=\"#000000\" stroke-opacity=\"1\" stroke-width=\"3.2\"/>\n",
       "<circle clip-path=\"url(#clip512)\" cx=\"1379.64\" cy=\"776.507\" r=\"14\" fill=\"#009af9\" fill-rule=\"evenodd\" fill-opacity=\"1\" stroke=\"#000000\" stroke-opacity=\"1\" stroke-width=\"3.2\"/>\n",
       "<circle clip-path=\"url(#clip512)\" cx=\"1510.26\" cy=\"774.828\" r=\"14\" fill=\"#009af9\" fill-rule=\"evenodd\" fill-opacity=\"1\" stroke=\"#000000\" stroke-opacity=\"1\" stroke-width=\"3.2\"/>\n",
       "<circle clip-path=\"url(#clip512)\" cx=\"1640.88\" cy=\"773.986\" r=\"14\" fill=\"#009af9\" fill-rule=\"evenodd\" fill-opacity=\"1\" stroke=\"#000000\" stroke-opacity=\"1\" stroke-width=\"3.2\"/>\n",
       "<circle clip-path=\"url(#clip512)\" cx=\"1771.5\" cy=\"773.564\" r=\"14\" fill=\"#009af9\" fill-rule=\"evenodd\" fill-opacity=\"1\" stroke=\"#000000\" stroke-opacity=\"1\" stroke-width=\"3.2\"/>\n",
       "<circle clip-path=\"url(#clip512)\" cx=\"1902.12\" cy=\"773.353\" r=\"14\" fill=\"#009af9\" fill-rule=\"evenodd\" fill-opacity=\"1\" stroke=\"#000000\" stroke-opacity=\"1\" stroke-width=\"3.2\"/>\n",
       "<circle clip-path=\"url(#clip512)\" cx=\"2032.74\" cy=\"773.248\" r=\"14\" fill=\"#009af9\" fill-rule=\"evenodd\" fill-opacity=\"1\" stroke=\"#000000\" stroke-opacity=\"1\" stroke-width=\"3.2\"/>\n",
       "<circle clip-path=\"url(#clip512)\" cx=\"2163.36\" cy=\"773.3\" r=\"14\" fill=\"#009af9\" fill-rule=\"evenodd\" fill-opacity=\"1\" stroke=\"#000000\" stroke-opacity=\"1\" stroke-width=\"3.2\"/>\n",
       "<circle clip-path=\"url(#clip512)\" cx=\"2293.98\" cy=\"773.327\" r=\"14\" fill=\"#009af9\" fill-rule=\"evenodd\" fill-opacity=\"1\" stroke=\"#000000\" stroke-opacity=\"1\" stroke-width=\"3.2\"/>\n",
       "<path clip-path=\"url(#clip510)\" d=\"\n",
       "M2000.33 270.476 L2283.53 270.476 L2283.53 166.796 L2000.33 166.796  Z\n",
       "  \" fill=\"#ffffff\" fill-rule=\"evenodd\" fill-opacity=\"1\"/>\n",
       "<polyline clip-path=\"url(#clip510)\" style=\"stroke:#000000; stroke-linecap:butt; stroke-linejoin:round; stroke-width:4; stroke-opacity:1; fill:none\" points=\"\n",
       "  2000.33,270.476 2283.53,270.476 2283.53,166.796 2000.33,166.796 2000.33,270.476 \n",
       "  \"/>\n",
       "<circle clip-path=\"url(#clip510)\" cx=\"2092.64\" cy=\"218.636\" r=\"23\" fill=\"#009af9\" fill-rule=\"evenodd\" fill-opacity=\"1\" stroke=\"#000000\" stroke-opacity=\"1\" stroke-width=\"5.12\"/>\n",
       "<path clip-path=\"url(#clip510)\" d=\"M2198.79 238.323 Q2196.98 242.953 2195.27 244.365 Q2193.56 245.777 2190.69 245.777 L2187.28 245.777 L2187.28 242.212 L2189.78 242.212 Q2191.54 242.212 2192.51 241.379 Q2193.49 240.545 2194.67 237.443 L2195.43 235.499 L2184.94 209.99 L2189.46 209.99 L2197.56 230.268 L2205.66 209.99 L2210.18 209.99 L2198.79 238.323 Z\" fill=\"#000000\" fill-rule=\"evenodd\" fill-opacity=\"1\" /><path clip-path=\"url(#clip510)\" d=\"M2217.47 231.981 L2225.11 231.981 L2225.11 205.615 L2216.8 207.282 L2216.8 203.022 L2225.06 201.356 L2229.74 201.356 L2229.74 231.981 L2237.37 231.981 L2237.37 235.916 L2217.47 235.916 L2217.47 231.981 Z\" fill=\"#000000\" fill-rule=\"evenodd\" fill-opacity=\"1\" /></svg>\n"
      ]
     },
     "execution_count": 673,
     "metadata": {},
     "output_type": "execute_result"
    },
    {
     "name": "stderr",
     "output_type": "stream",
     "text": [
      "┌ Warning: No strict ticks found\n",
      "└ @ PlotUtils /home/rdpaula/.julia/packages/PlotUtils/jNTYY/src/ticks.jl:191\n",
      "┌ Warning: No strict ticks found\n",
      "└ @ PlotUtils /home/rdpaula/.julia/packages/PlotUtils/jNTYY/src/ticks.jl:191\n",
      "┌ Warning: Invalid negative or zero value -0.23524034275134786 found at series index 1 for log10 based yscale\n",
      "└ @ Plots /home/rdpaula/.julia/packages/Plots/dNEbX/src/utils.jl:95\n"
     ]
    }
   ],
   "source": [
    "scatter(Vf, yscale=:log10, ylim=(-1,1), title=\"fi vs i\", ylabel=\"fi en escala logaritmica\", xlabel=\"i\")"
   ]
  },
  {
   "cell_type": "code",
   "execution_count": 17,
   "metadata": {},
   "outputs": [
    {
     "data": {
      "image/svg+xml": [
       "<?xml version=\"1.0\" encoding=\"utf-8\"?>\n",
       "<svg xmlns=\"http://www.w3.org/2000/svg\" xmlns:xlink=\"http://www.w3.org/1999/xlink\" width=\"600\" height=\"400\" viewBox=\"0 0 2400 1600\">\n",
       "<defs>\n",
       "  <clipPath id=\"clip770\">\n",
       "    <rect x=\"0\" y=\"0\" width=\"2400\" height=\"1600\"/>\n",
       "  </clipPath>\n",
       "</defs>\n",
       "<path clip-path=\"url(#clip770)\" d=\"\n",
       "M0 1600 L2400 1600 L2400 0 L0 0  Z\n",
       "  \" fill=\"#ffffff\" fill-rule=\"evenodd\" fill-opacity=\"1\"/>\n",
       "<defs>\n",
       "  <clipPath id=\"clip771\">\n",
       "    <rect x=\"480\" y=\"0\" width=\"1681\" height=\"1600\"/>\n",
       "  </clipPath>\n",
       "</defs>\n",
       "<path clip-path=\"url(#clip770)\" d=\"\n",
       "M219.866 1423.18 L2352.76 1423.18 L2352.76 123.472 L219.866 123.472  Z\n",
       "  \" fill=\"#ffffff\" fill-rule=\"evenodd\" fill-opacity=\"1\"/>\n",
       "<defs>\n",
       "  <clipPath id=\"clip772\">\n",
       "    <rect x=\"219\" y=\"123\" width=\"2134\" height=\"1301\"/>\n",
       "  </clipPath>\n",
       "</defs>\n",
       "<polyline clip-path=\"url(#clip772)\" style=\"stroke:#000000; stroke-linecap:butt; stroke-linejoin:round; stroke-width:2; stroke-opacity:0.1; fill:none\" points=\"\n",
       "  221.05,1423.18 221.05,123.472 \n",
       "  \"/>\n",
       "<polyline clip-path=\"url(#clip772)\" style=\"stroke:#000000; stroke-linecap:butt; stroke-linejoin:round; stroke-width:2; stroke-opacity:0.1; fill:none\" points=\"\n",
       "  812.862,1423.18 812.862,123.472 \n",
       "  \"/>\n",
       "<polyline clip-path=\"url(#clip772)\" style=\"stroke:#000000; stroke-linecap:butt; stroke-linejoin:round; stroke-width:2; stroke-opacity:0.1; fill:none\" points=\"\n",
       "  1404.67,1423.18 1404.67,123.472 \n",
       "  \"/>\n",
       "<polyline clip-path=\"url(#clip772)\" style=\"stroke:#000000; stroke-linecap:butt; stroke-linejoin:round; stroke-width:2; stroke-opacity:0.1; fill:none\" points=\"\n",
       "  1996.49,1423.18 1996.49,123.472 \n",
       "  \"/>\n",
       "<polyline clip-path=\"url(#clip770)\" style=\"stroke:#000000; stroke-linecap:butt; stroke-linejoin:round; stroke-width:4; stroke-opacity:1; fill:none\" points=\"\n",
       "  219.866,1423.18 2352.76,1423.18 \n",
       "  \"/>\n",
       "<polyline clip-path=\"url(#clip770)\" style=\"stroke:#000000; stroke-linecap:butt; stroke-linejoin:round; stroke-width:4; stroke-opacity:1; fill:none\" points=\"\n",
       "  221.05,1423.18 221.05,1404.28 \n",
       "  \"/>\n",
       "<polyline clip-path=\"url(#clip770)\" style=\"stroke:#000000; stroke-linecap:butt; stroke-linejoin:round; stroke-width:4; stroke-opacity:1; fill:none\" points=\"\n",
       "  812.862,1423.18 812.862,1404.28 \n",
       "  \"/>\n",
       "<polyline clip-path=\"url(#clip770)\" style=\"stroke:#000000; stroke-linecap:butt; stroke-linejoin:round; stroke-width:4; stroke-opacity:1; fill:none\" points=\"\n",
       "  1404.67,1423.18 1404.67,1404.28 \n",
       "  \"/>\n",
       "<polyline clip-path=\"url(#clip770)\" style=\"stroke:#000000; stroke-linecap:butt; stroke-linejoin:round; stroke-width:4; stroke-opacity:1; fill:none\" points=\"\n",
       "  1996.49,1423.18 1996.49,1404.28 \n",
       "  \"/>\n",
       "<path clip-path=\"url(#clip770)\" d=\"M221.05 1454.1 Q217.439 1454.1 215.61 1457.66 Q213.805 1461.2 213.805 1468.33 Q213.805 1475.44 215.61 1479.01 Q217.439 1482.55 221.05 1482.55 Q224.684 1482.55 226.49 1479.01 Q228.318 1475.44 228.318 1468.33 Q228.318 1461.2 226.49 1457.66 Q224.684 1454.1 221.05 1454.1 M221.05 1450.39 Q226.86 1450.39 229.916 1455 Q232.994 1459.58 232.994 1468.33 Q232.994 1477.06 229.916 1481.67 Q226.86 1486.25 221.05 1486.25 Q215.24 1486.25 212.161 1481.67 Q209.106 1477.06 209.106 1468.33 Q209.106 1459.58 212.161 1455 Q215.24 1450.39 221.05 1450.39 Z\" fill=\"#000000\" fill-rule=\"evenodd\" fill-opacity=\"1\" /><path clip-path=\"url(#clip770)\" d=\"M787.549 1481.64 L795.188 1481.64 L795.188 1455.28 L786.878 1456.95 L786.878 1452.69 L795.142 1451.02 L799.818 1451.02 L799.818 1481.64 L807.457 1481.64 L807.457 1485.58 L787.549 1485.58 L787.549 1481.64 Z\" fill=\"#000000\" fill-rule=\"evenodd\" fill-opacity=\"1\" /><path clip-path=\"url(#clip770)\" d=\"M826.901 1454.1 Q823.29 1454.1 821.461 1457.66 Q819.656 1461.2 819.656 1468.33 Q819.656 1475.44 821.461 1479.01 Q823.29 1482.55 826.901 1482.55 Q830.535 1482.55 832.341 1479.01 Q834.169 1475.44 834.169 1468.33 Q834.169 1461.2 832.341 1457.66 Q830.535 1454.1 826.901 1454.1 M826.901 1450.39 Q832.711 1450.39 835.767 1455 Q838.845 1459.58 838.845 1468.33 Q838.845 1477.06 835.767 1481.67 Q832.711 1486.25 826.901 1486.25 Q821.091 1486.25 818.012 1481.67 Q814.957 1477.06 814.957 1468.33 Q814.957 1459.58 818.012 1455 Q821.091 1450.39 826.901 1450.39 Z\" fill=\"#000000\" fill-rule=\"evenodd\" fill-opacity=\"1\" /><path clip-path=\"url(#clip770)\" d=\"M1383.45 1481.64 L1399.77 1481.64 L1399.77 1485.58 L1377.82 1485.58 L1377.82 1481.64 Q1380.48 1478.89 1385.07 1474.26 Q1389.67 1469.61 1390.85 1468.27 Q1393.1 1465.74 1393.98 1464.01 Q1394.88 1462.25 1394.88 1460.56 Q1394.88 1457.8 1392.94 1456.07 Q1391.02 1454.33 1387.91 1454.33 Q1385.72 1454.33 1383.26 1455.09 Q1380.83 1455.86 1378.05 1457.41 L1378.05 1452.69 Q1380.88 1451.55 1383.33 1450.97 Q1385.78 1450.39 1387.82 1450.39 Q1393.19 1450.39 1396.39 1453.08 Q1399.58 1455.77 1399.58 1460.26 Q1399.58 1462.39 1398.77 1464.31 Q1397.98 1466.2 1395.88 1468.8 Q1395.3 1469.47 1392.2 1472.69 Q1389.09 1475.88 1383.45 1481.64 Z\" fill=\"#000000\" fill-rule=\"evenodd\" fill-opacity=\"1\" /><path clip-path=\"url(#clip770)\" d=\"M1419.58 1454.1 Q1415.97 1454.1 1414.14 1457.66 Q1412.34 1461.2 1412.34 1468.33 Q1412.34 1475.44 1414.14 1479.01 Q1415.97 1482.55 1419.58 1482.55 Q1423.22 1482.55 1425.02 1479.01 Q1426.85 1475.44 1426.85 1468.33 Q1426.85 1461.2 1425.02 1457.66 Q1423.22 1454.1 1419.58 1454.1 M1419.58 1450.39 Q1425.39 1450.39 1428.45 1455 Q1431.53 1459.58 1431.53 1468.33 Q1431.53 1477.06 1428.45 1481.67 Q1425.39 1486.25 1419.58 1486.25 Q1413.77 1486.25 1410.69 1481.67 Q1407.64 1477.06 1407.64 1468.33 Q1407.64 1459.58 1410.69 1455 Q1413.77 1450.39 1419.58 1450.39 Z\" fill=\"#000000\" fill-rule=\"evenodd\" fill-opacity=\"1\" /><path clip-path=\"url(#clip770)\" d=\"M1985.33 1466.95 Q1988.68 1467.66 1990.56 1469.93 Q1992.46 1472.2 1992.46 1475.53 Q1992.46 1480.65 1988.94 1483.45 Q1985.42 1486.25 1978.94 1486.25 Q1976.76 1486.25 1974.45 1485.81 Q1972.16 1485.39 1969.7 1484.54 L1969.7 1480.02 Q1971.65 1481.16 1973.96 1481.74 Q1976.28 1482.32 1978.8 1482.32 Q1983.2 1482.32 1985.49 1480.58 Q1987.8 1478.84 1987.8 1475.53 Q1987.8 1472.48 1985.65 1470.77 Q1983.52 1469.03 1979.7 1469.03 L1975.68 1469.03 L1975.68 1465.19 L1979.89 1465.19 Q1983.34 1465.19 1985.17 1463.82 Q1986.99 1462.43 1986.99 1459.84 Q1986.99 1457.18 1985.1 1455.77 Q1983.22 1454.33 1979.7 1454.33 Q1977.78 1454.33 1975.58 1454.75 Q1973.38 1455.16 1970.74 1456.04 L1970.74 1451.88 Q1973.41 1451.14 1975.72 1450.77 Q1978.06 1450.39 1980.12 1450.39 Q1985.44 1450.39 1988.55 1452.83 Q1991.65 1455.23 1991.65 1459.35 Q1991.65 1462.22 1990 1464.21 Q1988.36 1466.18 1985.33 1466.95 Z\" fill=\"#000000\" fill-rule=\"evenodd\" fill-opacity=\"1\" /><path clip-path=\"url(#clip770)\" d=\"M2011.32 1454.1 Q2007.71 1454.1 2005.88 1457.66 Q2004.08 1461.2 2004.08 1468.33 Q2004.08 1475.44 2005.88 1479.01 Q2007.71 1482.55 2011.32 1482.55 Q2014.96 1482.55 2016.76 1479.01 Q2018.59 1475.44 2018.59 1468.33 Q2018.59 1461.2 2016.76 1457.66 Q2014.96 1454.1 2011.32 1454.1 M2011.32 1450.39 Q2017.13 1450.39 2020.19 1455 Q2023.27 1459.58 2023.27 1468.33 Q2023.27 1477.06 2020.19 1481.67 Q2017.13 1486.25 2011.32 1486.25 Q2005.51 1486.25 2002.43 1481.67 Q1999.38 1477.06 1999.38 1468.33 Q1999.38 1459.58 2002.43 1455 Q2005.51 1450.39 2011.32 1450.39 Z\" fill=\"#000000\" fill-rule=\"evenodd\" fill-opacity=\"1\" /><path clip-path=\"url(#clip770)\" d=\"M1283.38 1532.4 L1289.24 1532.4 L1289.24 1568.04 L1283.38 1568.04 L1283.38 1532.4 M1283.38 1518.52 L1289.24 1518.52 L1289.24 1525.93 L1283.38 1525.93 L1283.38 1518.52 Z\" fill=\"#000000\" fill-rule=\"evenodd\" fill-opacity=\"1\" /><polyline clip-path=\"url(#clip772)\" style=\"stroke:#000000; stroke-linecap:butt; stroke-linejoin:round; stroke-width:2; stroke-opacity:0.1; fill:none\" points=\"\n",
       "  219.866,1386.4 2352.76,1386.4 \n",
       "  \"/>\n",
       "<polyline clip-path=\"url(#clip772)\" style=\"stroke:#000000; stroke-linecap:butt; stroke-linejoin:round; stroke-width:2; stroke-opacity:0.1; fill:none\" points=\"\n",
       "  219.866,1190.21 2352.76,1190.21 \n",
       "  \"/>\n",
       "<polyline clip-path=\"url(#clip772)\" style=\"stroke:#000000; stroke-linecap:butt; stroke-linejoin:round; stroke-width:2; stroke-opacity:0.1; fill:none\" points=\"\n",
       "  219.866,994.031 2352.76,994.031 \n",
       "  \"/>\n",
       "<polyline clip-path=\"url(#clip772)\" style=\"stroke:#000000; stroke-linecap:butt; stroke-linejoin:round; stroke-width:2; stroke-opacity:0.1; fill:none\" points=\"\n",
       "  219.866,797.849 2352.76,797.849 \n",
       "  \"/>\n",
       "<polyline clip-path=\"url(#clip772)\" style=\"stroke:#000000; stroke-linecap:butt; stroke-linejoin:round; stroke-width:2; stroke-opacity:0.1; fill:none\" points=\"\n",
       "  219.866,601.666 2352.76,601.666 \n",
       "  \"/>\n",
       "<polyline clip-path=\"url(#clip772)\" style=\"stroke:#000000; stroke-linecap:butt; stroke-linejoin:round; stroke-width:2; stroke-opacity:0.1; fill:none\" points=\"\n",
       "  219.866,405.484 2352.76,405.484 \n",
       "  \"/>\n",
       "<polyline clip-path=\"url(#clip772)\" style=\"stroke:#000000; stroke-linecap:butt; stroke-linejoin:round; stroke-width:2; stroke-opacity:0.1; fill:none\" points=\"\n",
       "  219.866,209.302 2352.76,209.302 \n",
       "  \"/>\n",
       "<polyline clip-path=\"url(#clip770)\" style=\"stroke:#000000; stroke-linecap:butt; stroke-linejoin:round; stroke-width:4; stroke-opacity:1; fill:none\" points=\"\n",
       "  219.866,1423.18 219.866,123.472 \n",
       "  \"/>\n",
       "<polyline clip-path=\"url(#clip770)\" style=\"stroke:#000000; stroke-linecap:butt; stroke-linejoin:round; stroke-width:4; stroke-opacity:1; fill:none\" points=\"\n",
       "  219.866,1386.4 238.764,1386.4 \n",
       "  \"/>\n",
       "<polyline clip-path=\"url(#clip770)\" style=\"stroke:#000000; stroke-linecap:butt; stroke-linejoin:round; stroke-width:4; stroke-opacity:1; fill:none\" points=\"\n",
       "  219.866,1190.21 238.764,1190.21 \n",
       "  \"/>\n",
       "<polyline clip-path=\"url(#clip770)\" style=\"stroke:#000000; stroke-linecap:butt; stroke-linejoin:round; stroke-width:4; stroke-opacity:1; fill:none\" points=\"\n",
       "  219.866,994.031 238.764,994.031 \n",
       "  \"/>\n",
       "<polyline clip-path=\"url(#clip770)\" style=\"stroke:#000000; stroke-linecap:butt; stroke-linejoin:round; stroke-width:4; stroke-opacity:1; fill:none\" points=\"\n",
       "  219.866,797.849 238.764,797.849 \n",
       "  \"/>\n",
       "<polyline clip-path=\"url(#clip770)\" style=\"stroke:#000000; stroke-linecap:butt; stroke-linejoin:round; stroke-width:4; stroke-opacity:1; fill:none\" points=\"\n",
       "  219.866,601.666 238.764,601.666 \n",
       "  \"/>\n",
       "<polyline clip-path=\"url(#clip770)\" style=\"stroke:#000000; stroke-linecap:butt; stroke-linejoin:round; stroke-width:4; stroke-opacity:1; fill:none\" points=\"\n",
       "  219.866,405.484 238.764,405.484 \n",
       "  \"/>\n",
       "<polyline clip-path=\"url(#clip770)\" style=\"stroke:#000000; stroke-linecap:butt; stroke-linejoin:round; stroke-width:4; stroke-opacity:1; fill:none\" points=\"\n",
       "  219.866,209.302 238.764,209.302 \n",
       "  \"/>\n",
       "<path clip-path=\"url(#clip770)\" d=\"M126.691 1372.19 Q123.08 1372.19 121.251 1375.76 Q119.445 1379.3 119.445 1386.43 Q119.445 1393.54 121.251 1397.1 Q123.08 1400.64 126.691 1400.64 Q130.325 1400.64 132.13 1397.1 Q133.959 1393.54 133.959 1386.43 Q133.959 1379.3 132.13 1375.76 Q130.325 1372.19 126.691 1372.19 M126.691 1368.49 Q132.501 1368.49 135.556 1373.1 Q138.635 1377.68 138.635 1386.43 Q138.635 1395.16 135.556 1399.76 Q132.501 1404.35 126.691 1404.35 Q120.88 1404.35 117.802 1399.76 Q114.746 1395.16 114.746 1386.43 Q114.746 1377.68 117.802 1373.1 Q120.88 1368.49 126.691 1368.49 Z\" fill=\"#000000\" fill-rule=\"evenodd\" fill-opacity=\"1\" /><path clip-path=\"url(#clip770)\" d=\"M146.853 1397.8 L151.737 1397.8 L151.737 1403.68 L146.853 1403.68 L146.853 1397.8 Z\" fill=\"#000000\" fill-rule=\"evenodd\" fill-opacity=\"1\" /><path clip-path=\"url(#clip770)\" d=\"M171.922 1372.19 Q168.311 1372.19 166.482 1375.76 Q164.677 1379.3 164.677 1386.43 Q164.677 1393.54 166.482 1397.1 Q168.311 1400.64 171.922 1400.64 Q175.556 1400.64 177.362 1397.1 Q179.19 1393.54 179.19 1386.43 Q179.19 1379.3 177.362 1375.76 Q175.556 1372.19 171.922 1372.19 M171.922 1368.49 Q177.732 1368.49 180.788 1373.1 Q183.866 1377.68 183.866 1386.43 Q183.866 1395.16 180.788 1399.76 Q177.732 1404.35 171.922 1404.35 Q166.112 1404.35 163.033 1399.76 Q159.978 1395.16 159.978 1386.43 Q159.978 1377.68 163.033 1373.1 Q166.112 1368.49 171.922 1368.49 Z\" fill=\"#000000\" fill-rule=\"evenodd\" fill-opacity=\"1\" /><path clip-path=\"url(#clip770)\" d=\"M128.288 1176.01 Q124.677 1176.01 122.848 1179.58 Q121.043 1183.12 121.043 1190.25 Q121.043 1197.35 122.848 1200.92 Q124.677 1204.46 128.288 1204.46 Q131.922 1204.46 133.728 1200.92 Q135.556 1197.35 135.556 1190.25 Q135.556 1183.12 133.728 1179.58 Q131.922 1176.01 128.288 1176.01 M128.288 1172.31 Q134.098 1172.31 137.154 1176.91 Q140.232 1181.5 140.232 1190.25 Q140.232 1198.97 137.154 1203.58 Q134.098 1208.16 128.288 1208.16 Q122.478 1208.16 119.399 1203.58 Q116.343 1198.97 116.343 1190.25 Q116.343 1181.5 119.399 1176.91 Q122.478 1172.31 128.288 1172.31 Z\" fill=\"#000000\" fill-rule=\"evenodd\" fill-opacity=\"1\" /><path clip-path=\"url(#clip770)\" d=\"M148.45 1201.61 L153.334 1201.61 L153.334 1207.49 L148.45 1207.49 L148.45 1201.61 Z\" fill=\"#000000\" fill-rule=\"evenodd\" fill-opacity=\"1\" /><path clip-path=\"url(#clip770)\" d=\"M167.547 1203.56 L183.866 1203.56 L183.866 1207.49 L161.922 1207.49 L161.922 1203.56 Q164.584 1200.8 169.167 1196.17 Q173.774 1191.52 174.954 1190.18 Q177.2 1187.66 178.079 1185.92 Q178.982 1184.16 178.982 1182.47 Q178.982 1179.72 177.038 1177.98 Q175.116 1176.24 172.014 1176.24 Q169.815 1176.24 167.362 1177.01 Q164.931 1177.77 162.153 1179.32 L162.153 1174.6 Q164.977 1173.47 167.431 1172.89 Q169.885 1172.31 171.922 1172.31 Q177.292 1172.31 180.487 1174.99 Q183.681 1177.68 183.681 1182.17 Q183.681 1184.3 182.871 1186.22 Q182.084 1188.12 179.977 1190.71 Q179.399 1191.38 176.297 1194.6 Q173.195 1197.79 167.547 1203.56 Z\" fill=\"#000000\" fill-rule=\"evenodd\" fill-opacity=\"1\" /><path clip-path=\"url(#clip770)\" d=\"M126.205 979.83 Q122.593 979.83 120.765 983.395 Q118.959 986.936 118.959 994.066 Q118.959 1001.17 120.765 1004.74 Q122.593 1008.28 126.205 1008.28 Q129.839 1008.28 131.644 1004.74 Q133.473 1001.17 133.473 994.066 Q133.473 986.936 131.644 983.395 Q129.839 979.83 126.205 979.83 M126.205 976.126 Q132.015 976.126 135.07 980.733 Q138.149 985.316 138.149 994.066 Q138.149 1002.79 135.07 1007.4 Q132.015 1011.98 126.205 1011.98 Q120.394 1011.98 117.316 1007.4 Q114.26 1002.79 114.26 994.066 Q114.26 985.316 117.316 980.733 Q120.394 976.126 126.205 976.126 Z\" fill=\"#000000\" fill-rule=\"evenodd\" fill-opacity=\"1\" /><path clip-path=\"url(#clip770)\" d=\"M146.366 1005.43 L151.251 1005.43 L151.251 1011.31 L146.366 1011.31 L146.366 1005.43 Z\" fill=\"#000000\" fill-rule=\"evenodd\" fill-opacity=\"1\" /><path clip-path=\"url(#clip770)\" d=\"M174.283 980.825 L162.477 999.274 L174.283 999.274 L174.283 980.825 M173.056 976.751 L178.936 976.751 L178.936 999.274 L183.866 999.274 L183.866 1003.16 L178.936 1003.16 L178.936 1011.31 L174.283 1011.31 L174.283 1003.16 L158.681 1003.16 L158.681 998.649 L173.056 976.751 Z\" fill=\"#000000\" fill-rule=\"evenodd\" fill-opacity=\"1\" /><path clip-path=\"url(#clip770)\" d=\"M126.529 783.647 Q122.918 783.647 121.089 787.212 Q119.283 790.754 119.283 797.883 Q119.283 804.99 121.089 808.555 Q122.918 812.096 126.529 812.096 Q130.163 812.096 131.968 808.555 Q133.797 804.99 133.797 797.883 Q133.797 790.754 131.968 787.212 Q130.163 783.647 126.529 783.647 M126.529 779.944 Q132.339 779.944 135.394 784.55 Q138.473 789.134 138.473 797.883 Q138.473 806.61 135.394 811.217 Q132.339 815.8 126.529 815.8 Q120.718 815.8 117.64 811.217 Q114.584 806.61 114.584 797.883 Q114.584 789.134 117.64 784.55 Q120.718 779.944 126.529 779.944 Z\" fill=\"#000000\" fill-rule=\"evenodd\" fill-opacity=\"1\" /><path clip-path=\"url(#clip770)\" d=\"M146.691 809.249 L151.575 809.249 L151.575 815.129 L146.691 815.129 L146.691 809.249 Z\" fill=\"#000000\" fill-rule=\"evenodd\" fill-opacity=\"1\" /><path clip-path=\"url(#clip770)\" d=\"M172.339 795.985 Q169.19 795.985 167.339 798.138 Q165.51 800.291 165.51 804.041 Q165.51 807.768 167.339 809.944 Q169.19 812.096 172.339 812.096 Q175.487 812.096 177.315 809.944 Q179.167 807.768 179.167 804.041 Q179.167 800.291 177.315 798.138 Q175.487 795.985 172.339 795.985 M181.621 781.333 L181.621 785.592 Q179.862 784.759 178.056 784.319 Q176.274 783.879 174.514 783.879 Q169.885 783.879 167.431 787.004 Q165.001 790.129 164.653 796.448 Q166.019 794.434 168.079 793.37 Q170.139 792.282 172.616 792.282 Q177.825 792.282 180.834 795.453 Q183.866 798.601 183.866 804.041 Q183.866 809.365 180.718 812.582 Q177.57 815.8 172.339 815.8 Q166.343 815.8 163.172 811.217 Q160.001 806.61 160.001 797.883 Q160.001 789.689 163.89 784.828 Q167.778 779.944 174.329 779.944 Q176.089 779.944 177.871 780.291 Q179.676 780.638 181.621 781.333 Z\" fill=\"#000000\" fill-rule=\"evenodd\" fill-opacity=\"1\" /><path clip-path=\"url(#clip770)\" d=\"M126.783 587.465 Q123.172 587.465 121.343 591.03 Q119.538 594.572 119.538 601.701 Q119.538 608.808 121.343 612.372 Q123.172 615.914 126.783 615.914 Q130.417 615.914 132.223 612.372 Q134.052 608.808 134.052 601.701 Q134.052 594.572 132.223 591.03 Q130.417 587.465 126.783 587.465 M126.783 583.761 Q132.593 583.761 135.649 588.368 Q138.728 592.951 138.728 601.701 Q138.728 610.428 135.649 615.034 Q132.593 619.618 126.783 619.618 Q120.973 619.618 117.894 615.034 Q114.839 610.428 114.839 601.701 Q114.839 592.951 117.894 588.368 Q120.973 583.761 126.783 583.761 Z\" fill=\"#000000\" fill-rule=\"evenodd\" fill-opacity=\"1\" /><path clip-path=\"url(#clip770)\" d=\"M146.945 613.067 L151.829 613.067 L151.829 618.946 L146.945 618.946 L146.945 613.067 Z\" fill=\"#000000\" fill-rule=\"evenodd\" fill-opacity=\"1\" /><path clip-path=\"url(#clip770)\" d=\"M172.014 602.535 Q168.681 602.535 166.76 604.317 Q164.862 606.099 164.862 609.224 Q164.862 612.349 166.76 614.132 Q168.681 615.914 172.014 615.914 Q175.348 615.914 177.269 614.132 Q179.19 612.326 179.19 609.224 Q179.19 606.099 177.269 604.317 Q175.371 602.535 172.014 602.535 M167.339 600.544 Q164.329 599.803 162.64 597.743 Q160.973 595.683 160.973 592.72 Q160.973 588.576 163.913 586.169 Q166.876 583.761 172.014 583.761 Q177.176 583.761 180.116 586.169 Q183.056 588.576 183.056 592.72 Q183.056 595.683 181.366 597.743 Q179.7 599.803 176.714 600.544 Q180.093 601.331 181.968 603.622 Q183.866 605.914 183.866 609.224 Q183.866 614.247 180.788 616.933 Q177.732 619.618 172.014 619.618 Q166.297 619.618 163.218 616.933 Q160.163 614.247 160.163 609.224 Q160.163 605.914 162.061 603.622 Q163.959 601.331 167.339 600.544 M165.626 593.16 Q165.626 595.845 167.292 597.349 Q168.982 598.854 172.014 598.854 Q175.024 598.854 176.714 597.349 Q178.426 595.845 178.426 593.16 Q178.426 590.474 176.714 588.97 Q175.024 587.465 172.014 587.465 Q168.982 587.465 167.292 588.97 Q165.626 590.474 165.626 593.16 Z\" fill=\"#000000\" fill-rule=\"evenodd\" fill-opacity=\"1\" /><path clip-path=\"url(#clip770)\" d=\"M117.501 418.829 L125.14 418.829 L125.14 392.463 L116.83 394.13 L116.83 389.871 L125.093 388.204 L129.769 388.204 L129.769 418.829 L137.408 418.829 L137.408 422.764 L117.501 422.764 L117.501 418.829 Z\" fill=\"#000000\" fill-rule=\"evenodd\" fill-opacity=\"1\" /><path clip-path=\"url(#clip770)\" d=\"M146.853 416.885 L151.737 416.885 L151.737 422.764 L146.853 422.764 L146.853 416.885 Z\" fill=\"#000000\" fill-rule=\"evenodd\" fill-opacity=\"1\" /><path clip-path=\"url(#clip770)\" d=\"M171.922 391.283 Q168.311 391.283 166.482 394.848 Q164.677 398.389 164.677 405.519 Q164.677 412.625 166.482 416.19 Q168.311 419.732 171.922 419.732 Q175.556 419.732 177.362 416.19 Q179.19 412.625 179.19 405.519 Q179.19 398.389 177.362 394.848 Q175.556 391.283 171.922 391.283 M171.922 387.579 Q177.732 387.579 180.788 392.186 Q183.866 396.769 183.866 405.519 Q183.866 414.246 180.788 418.852 Q177.732 423.435 171.922 423.435 Q166.112 423.435 163.033 418.852 Q159.978 414.246 159.978 405.519 Q159.978 396.769 163.033 392.186 Q166.112 387.579 171.922 387.579 Z\" fill=\"#000000\" fill-rule=\"evenodd\" fill-opacity=\"1\" /><path clip-path=\"url(#clip770)\" d=\"M119.098 222.647 L126.737 222.647 L126.737 196.281 L118.427 197.948 L118.427 193.689 L126.691 192.022 L131.367 192.022 L131.367 222.647 L139.005 222.647 L139.005 226.582 L119.098 226.582 L119.098 222.647 Z\" fill=\"#000000\" fill-rule=\"evenodd\" fill-opacity=\"1\" /><path clip-path=\"url(#clip770)\" d=\"M148.45 220.702 L153.334 220.702 L153.334 226.582 L148.45 226.582 L148.45 220.702 Z\" fill=\"#000000\" fill-rule=\"evenodd\" fill-opacity=\"1\" /><path clip-path=\"url(#clip770)\" d=\"M167.547 222.647 L183.866 222.647 L183.866 226.582 L161.922 226.582 L161.922 222.647 Q164.584 219.892 169.167 215.262 Q173.774 210.61 174.954 209.267 Q177.2 206.744 178.079 205.008 Q178.982 203.249 178.982 201.559 Q178.982 198.804 177.038 197.068 Q175.116 195.332 172.014 195.332 Q169.815 195.332 167.362 196.096 Q164.931 196.86 162.153 198.411 L162.153 193.689 Q164.977 192.554 167.431 191.976 Q169.885 191.397 171.922 191.397 Q177.292 191.397 180.487 194.082 Q183.681 196.767 183.681 201.258 Q183.681 203.388 182.871 205.309 Q182.084 207.207 179.977 209.8 Q179.399 210.471 176.297 213.688 Q173.195 216.883 167.547 222.647 Z\" fill=\"#000000\" fill-rule=\"evenodd\" fill-opacity=\"1\" /><path clip-path=\"url(#clip770)\" d=\"M16.4842 884.296 L16.4842 854.25 L21.895 854.25 L21.895 877.867 L35.9632 877.867 L35.9632 855.237 L41.3741 855.237 L41.3741 877.867 L58.5933 877.867 L58.5933 853.677 L64.0042 853.677 L64.0042 884.296 L16.4842 884.296 Z\" fill=\"#000000\" fill-rule=\"evenodd\" fill-opacity=\"1\" /><path clip-path=\"url(#clip770)\" d=\"M33.8307 822.708 Q33.2578 823.695 33.0032 824.872 Q32.7167 826.018 32.7167 827.419 Q32.7167 832.384 35.9632 835.057 Q39.1779 837.699 45.2253 837.699 L64.0042 837.699 L64.0042 843.587 L28.3562 843.587 L28.3562 837.699 L33.8944 837.699 Q30.6479 835.853 29.0883 832.893 Q27.4968 829.933 27.4968 825.7 Q27.4968 825.095 27.5923 824.363 Q27.656 823.631 27.8151 822.74 L33.8307 822.708 Z\" fill=\"#000000\" fill-rule=\"evenodd\" fill-opacity=\"1\" /><path clip-path=\"url(#clip770)\" d=\"M33.8307 797.054 Q33.2578 798.041 33.0032 799.218 Q32.7167 800.364 32.7167 801.765 Q32.7167 806.73 35.9632 809.404 Q39.1779 812.045 45.2253 812.045 L64.0042 812.045 L64.0042 817.934 L28.3562 817.934 L28.3562 812.045 L33.8944 812.045 Q30.6479 810.199 29.0883 807.239 Q27.4968 804.279 27.4968 800.046 Q27.4968 799.441 27.5923 798.709 Q27.656 797.977 27.8151 797.086 L33.8307 797.054 Z\" fill=\"#000000\" fill-rule=\"evenodd\" fill-opacity=\"1\" /><path clip-path=\"url(#clip770)\" d=\"M32.4621 778.53 Q32.4621 783.241 36.1542 785.978 Q39.8145 788.715 46.212 788.715 Q52.6095 788.715 56.3017 786.01 Q59.9619 783.272 59.9619 778.53 Q59.9619 773.851 56.2698 771.114 Q52.5777 768.377 46.212 768.377 Q39.8781 768.377 36.186 771.114 Q32.4621 773.851 32.4621 778.53 M27.4968 778.53 Q27.4968 770.891 32.4621 766.531 Q37.4273 762.17 46.212 762.17 Q54.9649 762.17 59.9619 766.531 Q64.9272 770.891 64.9272 778.53 Q64.9272 786.201 59.9619 790.561 Q54.9649 794.89 46.212 794.89 Q37.4273 794.89 32.4621 790.561 Q27.4968 786.201 27.4968 778.53 Z\" fill=\"#000000\" fill-rule=\"evenodd\" fill-opacity=\"1\" /><path clip-path=\"url(#clip770)\" d=\"M33.8307 731.806 Q33.2578 732.792 33.0032 733.97 Q32.7167 735.116 32.7167 736.516 Q32.7167 741.482 35.9632 744.155 Q39.1779 746.797 45.2253 746.797 L64.0042 746.797 L64.0042 752.685 L28.3562 752.685 L28.3562 746.797 L33.8944 746.797 Q30.6479 744.951 29.0883 741.991 Q27.4968 739.031 27.4968 734.798 Q27.4968 734.193 27.5923 733.461 Q27.656 732.729 27.8151 731.837 L33.8307 731.806 Z\" fill=\"#000000\" fill-rule=\"evenodd\" fill-opacity=\"1\" /><path clip-path=\"url(#clip770)\" d=\"M44.7161 696.603 L47.5806 696.603 L47.5806 723.53 Q53.6281 723.148 56.8109 719.902 Q59.9619 716.623 59.9619 710.799 Q59.9619 707.425 59.1344 704.274 Q58.3069 701.091 56.6518 697.972 L62.1899 697.972 Q63.5267 701.123 64.227 704.433 Q64.9272 707.743 64.9272 711.149 Q64.9272 719.679 59.9619 724.676 Q54.9967 729.641 46.5303 729.641 Q37.7774 729.641 32.6531 724.931 Q27.4968 720.188 27.4968 712.167 Q27.4968 704.974 32.1438 700.805 Q36.7589 696.603 44.7161 696.603 M42.9973 702.46 Q38.1912 702.523 35.3266 705.165 Q32.4621 707.775 32.4621 712.104 Q32.4621 717.005 35.2312 719.965 Q38.0002 722.894 43.0292 723.339 L42.9973 702.46 Z\" fill=\"#000000\" fill-rule=\"evenodd\" fill-opacity=\"1\" /><path clip-path=\"url(#clip770)\" d=\"M29.4065 664.266 L34.9447 664.266 Q33.6716 666.748 33.035 669.422 Q32.3984 672.095 32.3984 674.96 Q32.3984 679.32 33.7352 681.517 Q35.072 683.681 37.7456 683.681 Q39.7826 683.681 40.9603 682.121 Q42.1061 680.562 43.1565 675.851 L43.6021 673.846 Q44.9389 667.608 47.3897 664.998 Q49.8086 662.356 54.1691 662.356 Q59.1344 662.356 62.0308 666.303 Q64.9272 670.217 64.9272 677.092 Q64.9272 679.957 64.3543 683.076 Q63.8132 686.164 62.6992 689.601 L56.6518 689.601 Q58.3387 686.355 59.198 683.203 Q60.0256 680.052 60.0256 676.965 Q60.0256 672.827 58.6251 670.599 Q57.1929 668.371 54.6147 668.371 Q52.2276 668.371 50.9545 669.995 Q49.6813 671.586 48.5037 677.029 L48.0262 679.066 Q46.8804 684.508 44.5251 686.927 Q42.138 689.346 38.0002 689.346 Q32.9713 689.346 30.2341 685.782 Q27.4968 682.217 27.4968 675.66 Q27.4968 672.414 27.9743 669.549 Q28.4517 666.684 29.4065 664.266 Z\" fill=\"#000000\" fill-rule=\"evenodd\" fill-opacity=\"1\" /><path clip-path=\"url(#clip770)\" d=\"M842.919 12.096 L881.16 12.096 L881.16 18.9825 L851.102 18.9825 L851.102 36.8875 L879.904 36.8875 L879.904 43.7741 L851.102 43.7741 L851.102 65.6895 L881.889 65.6895 L881.889 72.576 L842.919 72.576 L842.919 12.096 Z\" fill=\"#000000\" fill-rule=\"evenodd\" fill-opacity=\"1\" /><path clip-path=\"url(#clip770)\" d=\"M921.304 34.1734 Q920.049 33.4443 918.55 33.1202 Q917.091 32.7556 915.309 32.7556 Q908.99 32.7556 905.587 36.8875 Q902.225 40.9789 902.225 48.6757 L902.225 72.576 L894.73 72.576 L894.73 27.2059 L902.225 27.2059 L902.225 34.2544 Q904.574 30.1225 908.341 28.1376 Q912.109 26.1121 917.497 26.1121 Q918.266 26.1121 919.198 26.2337 Q920.13 26.3147 921.264 26.5172 L921.304 34.1734 Z\" fill=\"#000000\" fill-rule=\"evenodd\" fill-opacity=\"1\" /><path clip-path=\"url(#clip770)\" d=\"M953.955 34.1734 Q952.699 33.4443 951.2 33.1202 Q949.742 32.7556 947.959 32.7556 Q941.64 32.7556 938.237 36.8875 Q934.875 40.9789 934.875 48.6757 L934.875 72.576 L927.381 72.576 L927.381 27.2059 L934.875 27.2059 L934.875 34.2544 Q937.224 30.1225 940.992 28.1376 Q944.759 26.1121 950.147 26.1121 Q950.916 26.1121 951.848 26.2337 Q952.78 26.3147 953.914 26.5172 L953.955 34.1734 Z\" fill=\"#000000\" fill-rule=\"evenodd\" fill-opacity=\"1\" /><path clip-path=\"url(#clip770)\" d=\"M977.531 32.4315 Q971.536 32.4315 968.052 37.1306 Q964.568 41.7891 964.568 49.9314 Q964.568 58.0738 968.011 62.7728 Q971.495 67.4314 977.531 67.4314 Q983.486 67.4314 986.97 62.7323 Q990.453 58.0333 990.453 49.9314 Q990.453 41.8701 986.97 37.1711 Q983.486 32.4315 977.531 32.4315 M977.531 26.1121 Q987.253 26.1121 992.803 32.4315 Q998.353 38.7509 998.353 49.9314 Q998.353 61.0714 992.803 67.4314 Q987.253 73.7508 977.531 73.7508 Q967.768 73.7508 962.218 67.4314 Q956.709 61.0714 956.709 49.9314 Q956.709 38.7509 962.218 32.4315 Q967.768 26.1121 977.531 26.1121 Z\" fill=\"#000000\" fill-rule=\"evenodd\" fill-opacity=\"1\" /><path clip-path=\"url(#clip770)\" d=\"M1037 34.1734 Q1035.74 33.4443 1034.24 33.1202 Q1032.79 32.7556 1031 32.7556 Q1024.68 32.7556 1021.28 36.8875 Q1017.92 40.9789 1017.92 48.6757 L1017.92 72.576 L1010.42 72.576 L1010.42 27.2059 L1017.92 27.2059 L1017.92 34.2544 Q1020.27 30.1225 1024.04 28.1376 Q1027.8 26.1121 1033.19 26.1121 Q1033.96 26.1121 1034.89 26.2337 Q1035.82 26.3147 1036.96 26.5172 L1037 34.1734 Z\" fill=\"#000000\" fill-rule=\"evenodd\" fill-opacity=\"1\" /><path clip-path=\"url(#clip770)\" d=\"M1081.8 48.0275 L1081.8 51.6733 L1047.53 51.6733 Q1048.02 59.3701 1052.15 63.421 Q1056.32 67.4314 1063.73 67.4314 Q1068.03 67.4314 1072.04 66.3781 Q1076.09 65.3249 1080.06 63.2184 L1080.06 70.267 Q1076.05 71.9684 1071.84 72.8596 Q1067.62 73.7508 1063.29 73.7508 Q1052.43 73.7508 1046.07 67.4314 Q1039.75 61.1119 1039.75 50.3365 Q1039.75 39.1965 1045.75 32.6746 Q1051.78 26.1121 1061.99 26.1121 Q1071.15 26.1121 1076.45 32.0264 Q1081.8 37.9003 1081.8 48.0275 M1074.35 45.84 Q1074.27 39.7232 1070.9 36.0774 Q1067.58 32.4315 1062.07 32.4315 Q1055.83 32.4315 1052.07 35.9558 Q1048.34 39.4801 1047.77 45.8805 L1074.35 45.84 Z\" fill=\"#000000\" fill-rule=\"evenodd\" fill-opacity=\"1\" /><path clip-path=\"url(#clip770)\" d=\"M1122.96 28.5427 L1122.96 35.5912 Q1119.8 33.9709 1116.4 33.1607 Q1112.99 32.3505 1109.35 32.3505 Q1103.8 32.3505 1101 34.0519 Q1098.25 35.7533 1098.25 39.156 Q1098.25 41.7486 1100.23 43.2475 Q1102.22 44.7058 1108.21 46.0426 L1110.77 46.6097 Q1118.7 48.3111 1122.03 51.4303 Q1125.39 54.509 1125.39 60.0587 Q1125.39 66.3781 1120.37 70.0644 Q1115.38 73.7508 1106.63 73.7508 Q1102.99 73.7508 1099.02 73.0216 Q1095.09 72.3329 1090.71 70.9151 L1090.71 63.2184 Q1094.85 65.3654 1098.86 66.4591 Q1102.87 67.5124 1106.8 67.5124 Q1112.06 67.5124 1114.9 65.73 Q1117.73 63.9071 1117.73 60.6258 Q1117.73 57.5877 1115.67 55.9673 Q1113.64 54.3469 1106.71 52.8481 L1104.12 52.2405 Q1097.19 50.7821 1094.12 47.7845 Q1091.04 44.7463 1091.04 39.4801 Q1091.04 33.0797 1095.57 29.5959 Q1100.11 26.1121 1108.46 26.1121 Q1112.59 26.1121 1116.23 26.7198 Q1119.88 27.3274 1122.96 28.5427 Z\" fill=\"#000000\" fill-rule=\"evenodd\" fill-opacity=\"1\" /><path clip-path=\"url(#clip770)\" d=\"M1158.28 27.2059 L1166.18 27.2059 L1180.36 65.2844 L1194.54 27.2059 L1202.44 27.2059 L1185.42 72.576 L1175.3 72.576 L1158.28 27.2059 Z\" fill=\"#000000\" fill-rule=\"evenodd\" fill-opacity=\"1\" /><path clip-path=\"url(#clip770)\" d=\"M1241.65 28.5427 L1241.65 35.5912 Q1238.49 33.9709 1235.09 33.1607 Q1231.68 32.3505 1228.04 32.3505 Q1222.49 32.3505 1219.69 34.0519 Q1216.94 35.7533 1216.94 39.156 Q1216.94 41.7486 1218.92 43.2475 Q1220.91 44.7058 1226.9 46.0426 L1229.46 46.6097 Q1237.4 48.3111 1240.72 51.4303 Q1244.08 54.509 1244.08 60.0587 Q1244.08 66.3781 1239.06 70.0644 Q1234.07 73.7508 1225.32 73.7508 Q1221.68 73.7508 1217.71 73.0216 Q1213.78 72.3329 1209.4 70.9151 L1209.4 63.2184 Q1213.54 65.3654 1217.55 66.4591 Q1221.56 67.5124 1225.49 67.5124 Q1230.75 67.5124 1233.59 65.73 Q1236.42 63.9071 1236.42 60.6258 Q1236.42 57.5877 1234.36 55.9673 Q1232.33 54.3469 1225.41 52.8481 L1222.81 52.2405 Q1215.89 50.7821 1212.81 47.7845 Q1209.73 44.7463 1209.73 39.4801 Q1209.73 33.0797 1214.27 29.5959 Q1218.8 26.1121 1227.15 26.1121 Q1231.28 26.1121 1234.93 26.7198 Q1238.57 27.3274 1241.65 28.5427 Z\" fill=\"#000000\" fill-rule=\"evenodd\" fill-opacity=\"1\" /><path clip-path=\"url(#clip770)\" d=\"M1282.65 12.096 L1290.83 12.096 L1290.83 72.576 L1282.65 72.576 L1282.65 12.096 Z\" fill=\"#000000\" fill-rule=\"evenodd\" fill-opacity=\"1\" /><path clip-path=\"url(#clip770)\" d=\"M1314.16 14.324 L1314.16 27.2059 L1329.51 27.2059 L1329.51 32.9987 L1314.16 32.9987 L1314.16 57.6282 Q1314.16 63.1779 1315.66 64.7578 Q1317.2 66.3376 1321.86 66.3376 L1329.51 66.3376 L1329.51 72.576 L1321.86 72.576 Q1313.23 72.576 1309.95 69.3758 Q1306.67 66.1351 1306.67 57.6282 L1306.67 32.9987 L1301.2 32.9987 L1301.2 27.2059 L1306.67 27.2059 L1306.67 14.324 L1314.16 14.324 Z\" fill=\"#000000\" fill-rule=\"evenodd\" fill-opacity=\"1\" /><path clip-path=\"url(#clip770)\" d=\"M1378.12 48.0275 L1378.12 51.6733 L1343.85 51.6733 Q1344.34 59.3701 1348.47 63.421 Q1352.64 67.4314 1360.06 67.4314 Q1364.35 67.4314 1368.36 66.3781 Q1372.41 65.3249 1376.38 63.2184 L1376.38 70.267 Q1372.37 71.9684 1368.16 72.8596 Q1363.95 73.7508 1359.61 73.7508 Q1348.76 73.7508 1342.4 67.4314 Q1336.08 61.1119 1336.08 50.3365 Q1336.08 39.1965 1342.07 32.6746 Q1348.11 26.1121 1358.32 26.1121 Q1367.47 26.1121 1372.78 32.0264 Q1378.12 37.9003 1378.12 48.0275 M1370.67 45.84 Q1370.59 39.7232 1367.23 36.0774 Q1363.91 32.4315 1358.4 32.4315 Q1352.16 32.4315 1348.39 35.9558 Q1344.66 39.4801 1344.1 45.8805 L1370.67 45.84 Z\" fill=\"#000000\" fill-rule=\"evenodd\" fill-opacity=\"1\" /><path clip-path=\"url(#clip770)\" d=\"M1416.65 34.1734 Q1415.39 33.4443 1413.89 33.1202 Q1412.44 32.7556 1410.65 32.7556 Q1404.33 32.7556 1400.93 36.8875 Q1397.57 40.9789 1397.57 48.6757 L1397.57 72.576 L1390.07 72.576 L1390.07 27.2059 L1397.57 27.2059 L1397.57 34.2544 Q1399.92 30.1225 1403.69 28.1376 Q1407.45 26.1121 1412.84 26.1121 Q1413.61 26.1121 1414.54 26.2337 Q1415.47 26.3147 1416.61 26.5172 L1416.65 34.1734 Z\" fill=\"#000000\" fill-rule=\"evenodd\" fill-opacity=\"1\" /><path clip-path=\"url(#clip770)\" d=\"M1445.09 49.7694 Q1436.05 49.7694 1432.57 51.8354 Q1429.09 53.9013 1429.09 58.8839 Q1429.09 62.8538 1431.68 65.2034 Q1434.31 67.5124 1438.81 67.5124 Q1445.01 67.5124 1448.73 63.1374 Q1452.5 58.7219 1452.5 51.4303 L1452.5 49.7694 L1445.09 49.7694 M1459.95 46.6907 L1459.95 72.576 L1452.5 72.576 L1452.5 65.6895 Q1449.95 69.8214 1446.14 71.8063 Q1442.33 73.7508 1436.82 73.7508 Q1429.85 73.7508 1425.72 69.8619 Q1421.63 65.9325 1421.63 59.3701 Q1421.63 51.7138 1426.74 47.825 Q1431.88 43.9361 1442.05 43.9361 L1452.5 43.9361 L1452.5 43.2069 Q1452.5 38.0623 1449.1 35.2672 Q1445.73 32.4315 1439.62 32.4315 Q1435.73 32.4315 1432.04 33.3632 Q1428.36 34.295 1424.95 36.1584 L1424.95 29.2718 Q1429.04 27.692 1432.89 26.9223 Q1436.74 26.1121 1440.39 26.1121 Q1450.23 26.1121 1455.09 31.2163 Q1459.95 36.3204 1459.95 46.6907 Z\" fill=\"#000000\" fill-rule=\"evenodd\" fill-opacity=\"1\" /><path clip-path=\"url(#clip770)\" d=\"M1507.96 28.9478 L1507.96 35.9153 Q1504.8 34.1734 1501.6 33.3227 Q1498.44 32.4315 1495.2 32.4315 Q1487.94 32.4315 1483.93 37.0496 Q1479.92 41.6271 1479.92 49.9314 Q1479.92 58.2358 1483.93 62.8538 Q1487.94 67.4314 1495.2 67.4314 Q1498.44 67.4314 1501.6 66.5807 Q1504.8 65.6895 1507.96 63.9476 L1507.96 70.8341 Q1504.84 72.2924 1501.47 73.0216 Q1498.15 73.7508 1494.39 73.7508 Q1484.14 73.7508 1478.1 67.3098 Q1472.07 60.8689 1472.07 49.9314 Q1472.07 38.832 1478.14 32.472 Q1484.26 26.1121 1494.87 26.1121 Q1498.32 26.1121 1501.6 26.8413 Q1504.88 27.5299 1507.96 28.9478 Z\" fill=\"#000000\" fill-rule=\"evenodd\" fill-opacity=\"1\" /><path clip-path=\"url(#clip770)\" d=\"M1520.92 27.2059 L1528.37 27.2059 L1528.37 72.576 L1520.92 72.576 L1520.92 27.2059 M1520.92 9.54393 L1528.37 9.54393 L1528.37 18.9825 L1520.92 18.9825 L1520.92 9.54393 Z\" fill=\"#000000\" fill-rule=\"evenodd\" fill-opacity=\"1\" /><path clip-path=\"url(#clip770)\" d=\"M1561.55 32.4315 Q1555.55 32.4315 1552.07 37.1306 Q1548.59 41.7891 1548.59 49.9314 Q1548.59 58.0738 1552.03 62.7728 Q1555.51 67.4314 1561.55 67.4314 Q1567.5 67.4314 1570.99 62.7323 Q1574.47 58.0333 1574.47 49.9314 Q1574.47 41.8701 1570.99 37.1711 Q1567.5 32.4315 1561.55 32.4315 M1561.55 26.1121 Q1571.27 26.1121 1576.82 32.4315 Q1582.37 38.7509 1582.37 49.9314 Q1582.37 61.0714 1576.82 67.4314 Q1571.27 73.7508 1561.55 73.7508 Q1551.79 73.7508 1546.24 67.4314 Q1540.73 61.0714 1540.73 49.9314 Q1540.73 38.7509 1546.24 32.4315 Q1551.79 26.1121 1561.55 26.1121 Z\" fill=\"#000000\" fill-rule=\"evenodd\" fill-opacity=\"1\" /><path clip-path=\"url(#clip770)\" d=\"M1632.44 45.1919 L1632.44 72.576 L1624.99 72.576 L1624.99 45.4349 Q1624.99 38.994 1622.48 35.7938 Q1619.96 32.5936 1614.94 32.5936 Q1608.9 32.5936 1605.42 36.4419 Q1601.94 40.2903 1601.94 46.9338 L1601.94 72.576 L1594.44 72.576 L1594.44 27.2059 L1601.94 27.2059 L1601.94 34.2544 Q1604.61 30.163 1608.22 28.1376 Q1611.86 26.1121 1616.6 26.1121 Q1624.42 26.1121 1628.43 30.9732 Q1632.44 35.7938 1632.44 45.1919 Z\" fill=\"#000000\" fill-rule=\"evenodd\" fill-opacity=\"1\" /><path clip-path=\"url(#clip770)\" d=\"M1686.12 48.0275 L1686.12 51.6733 L1651.84 51.6733 Q1652.33 59.3701 1656.46 63.421 Q1660.63 67.4314 1668.05 67.4314 Q1672.34 67.4314 1676.35 66.3781 Q1680.4 65.3249 1684.37 63.2184 L1684.37 70.267 Q1680.36 71.9684 1676.15 72.8596 Q1671.94 73.7508 1667.6 73.7508 Q1656.75 73.7508 1650.39 67.4314 Q1644.07 61.1119 1644.07 50.3365 Q1644.07 39.1965 1650.06 32.6746 Q1656.1 26.1121 1666.31 26.1121 Q1675.46 26.1121 1680.77 32.0264 Q1686.12 37.9003 1686.12 48.0275 M1678.66 45.84 Q1678.58 39.7232 1675.22 36.0774 Q1671.9 32.4315 1666.39 32.4315 Q1660.15 32.4315 1656.38 35.9558 Q1652.65 39.4801 1652.09 45.8805 L1678.66 45.84 Z\" fill=\"#000000\" fill-rule=\"evenodd\" fill-opacity=\"1\" /><path clip-path=\"url(#clip770)\" d=\"M1727.27 28.5427 L1727.27 35.5912 Q1724.11 33.9709 1720.71 33.1607 Q1717.31 32.3505 1713.66 32.3505 Q1708.11 32.3505 1705.32 34.0519 Q1702.56 35.7533 1702.56 39.156 Q1702.56 41.7486 1704.55 43.2475 Q1706.53 44.7058 1712.53 46.0426 L1715.08 46.6097 Q1723.02 48.3111 1726.34 51.4303 Q1729.7 54.509 1729.7 60.0587 Q1729.7 66.3781 1724.68 70.0644 Q1719.7 73.7508 1710.95 73.7508 Q1707.3 73.7508 1703.33 73.0216 Q1699.4 72.3329 1695.03 70.9151 L1695.03 63.2184 Q1699.16 65.3654 1703.17 66.4591 Q1707.18 67.5124 1711.11 67.5124 Q1716.38 67.5124 1719.21 65.73 Q1722.05 63.9071 1722.05 60.6258 Q1722.05 57.5877 1719.98 55.9673 Q1717.96 54.3469 1711.03 52.8481 L1708.44 52.2405 Q1701.51 50.7821 1698.43 47.7845 Q1695.35 44.7463 1695.35 39.4801 Q1695.35 33.0797 1699.89 29.5959 Q1704.43 26.1121 1712.77 26.1121 Q1716.9 26.1121 1720.55 26.7198 Q1724.19 27.3274 1727.27 28.5427 Z\" fill=\"#000000\" fill-rule=\"evenodd\" fill-opacity=\"1\" /><circle clip-path=\"url(#clip772)\" cx=\"280.231\" cy=\"160.256\" r=\"14\" fill=\"#009af9\" fill-rule=\"evenodd\" fill-opacity=\"1\" stroke=\"#000000\" stroke-opacity=\"1\" stroke-width=\"3.2\"/>\n",
       "<circle clip-path=\"url(#clip772)\" cx=\"339.412\" cy=\"773.326\" r=\"14\" fill=\"#009af9\" fill-rule=\"evenodd\" fill-opacity=\"1\" stroke=\"#000000\" stroke-opacity=\"1\" stroke-width=\"3.2\"/>\n",
       "<circle clip-path=\"url(#clip772)\" cx=\"398.593\" cy=\"1079.86\" r=\"14\" fill=\"#009af9\" fill-rule=\"evenodd\" fill-opacity=\"1\" stroke=\"#000000\" stroke-opacity=\"1\" stroke-width=\"3.2\"/>\n",
       "<circle clip-path=\"url(#clip772)\" cx=\"457.775\" cy=\"1233.13\" r=\"14\" fill=\"#009af9\" fill-rule=\"evenodd\" fill-opacity=\"1\" stroke=\"#000000\" stroke-opacity=\"1\" stroke-width=\"3.2\"/>\n",
       "<circle clip-path=\"url(#clip772)\" cx=\"516.956\" cy=\"1309.76\" r=\"14\" fill=\"#009af9\" fill-rule=\"evenodd\" fill-opacity=\"1\" stroke=\"#000000\" stroke-opacity=\"1\" stroke-width=\"3.2\"/>\n",
       "<circle clip-path=\"url(#clip772)\" cx=\"576.137\" cy=\"1348.08\" r=\"14\" fill=\"#009af9\" fill-rule=\"evenodd\" fill-opacity=\"1\" stroke=\"#000000\" stroke-opacity=\"1\" stroke-width=\"3.2\"/>\n",
       "<circle clip-path=\"url(#clip772)\" cx=\"635.318\" cy=\"1367.24\" r=\"14\" fill=\"#009af9\" fill-rule=\"evenodd\" fill-opacity=\"1\" stroke=\"#000000\" stroke-opacity=\"1\" stroke-width=\"3.2\"/>\n",
       "<circle clip-path=\"url(#clip772)\" cx=\"694.499\" cy=\"1376.82\" r=\"14\" fill=\"#009af9\" fill-rule=\"evenodd\" fill-opacity=\"1\" stroke=\"#000000\" stroke-opacity=\"1\" stroke-width=\"3.2\"/>\n",
       "<circle clip-path=\"url(#clip772)\" cx=\"753.68\" cy=\"1381.61\" r=\"14\" fill=\"#009af9\" fill-rule=\"evenodd\" fill-opacity=\"1\" stroke=\"#000000\" stroke-opacity=\"1\" stroke-width=\"3.2\"/>\n",
       "<circle clip-path=\"url(#clip772)\" cx=\"812.862\" cy=\"1384\" r=\"14\" fill=\"#009af9\" fill-rule=\"evenodd\" fill-opacity=\"1\" stroke=\"#000000\" stroke-opacity=\"1\" stroke-width=\"3.2\"/>\n",
       "<circle clip-path=\"url(#clip772)\" cx=\"872.043\" cy=\"1385.2\" r=\"14\" fill=\"#009af9\" fill-rule=\"evenodd\" fill-opacity=\"1\" stroke=\"#000000\" stroke-opacity=\"1\" stroke-width=\"3.2\"/>\n",
       "<circle clip-path=\"url(#clip772)\" cx=\"931.224\" cy=\"1385.8\" r=\"14\" fill=\"#009af9\" fill-rule=\"evenodd\" fill-opacity=\"1\" stroke=\"#000000\" stroke-opacity=\"1\" stroke-width=\"3.2\"/>\n",
       "<circle clip-path=\"url(#clip772)\" cx=\"990.405\" cy=\"1386.1\" r=\"14\" fill=\"#009af9\" fill-rule=\"evenodd\" fill-opacity=\"1\" stroke=\"#000000\" stroke-opacity=\"1\" stroke-width=\"3.2\"/>\n",
       "<circle clip-path=\"url(#clip772)\" cx=\"1049.59\" cy=\"1386.25\" r=\"14\" fill=\"#009af9\" fill-rule=\"evenodd\" fill-opacity=\"1\" stroke=\"#000000\" stroke-opacity=\"1\" stroke-width=\"3.2\"/>\n",
       "<circle clip-path=\"url(#clip772)\" cx=\"1108.77\" cy=\"1386.32\" r=\"14\" fill=\"#009af9\" fill-rule=\"evenodd\" fill-opacity=\"1\" stroke=\"#000000\" stroke-opacity=\"1\" stroke-width=\"3.2\"/>\n",
       "<circle clip-path=\"url(#clip772)\" cx=\"1167.95\" cy=\"1386.36\" r=\"14\" fill=\"#009af9\" fill-rule=\"evenodd\" fill-opacity=\"1\" stroke=\"#000000\" stroke-opacity=\"1\" stroke-width=\"3.2\"/>\n",
       "<circle clip-path=\"url(#clip772)\" cx=\"1227.13\" cy=\"1386.38\" r=\"14\" fill=\"#009af9\" fill-rule=\"evenodd\" fill-opacity=\"1\" stroke=\"#000000\" stroke-opacity=\"1\" stroke-width=\"3.2\"/>\n",
       "<circle clip-path=\"url(#clip772)\" cx=\"1286.31\" cy=\"1386.39\" r=\"14\" fill=\"#009af9\" fill-rule=\"evenodd\" fill-opacity=\"1\" stroke=\"#000000\" stroke-opacity=\"1\" stroke-width=\"3.2\"/>\n",
       "<circle clip-path=\"url(#clip772)\" cx=\"1345.49\" cy=\"1386.39\" r=\"14\" fill=\"#009af9\" fill-rule=\"evenodd\" fill-opacity=\"1\" stroke=\"#000000\" stroke-opacity=\"1\" stroke-width=\"3.2\"/>\n",
       "<circle clip-path=\"url(#clip772)\" cx=\"1404.67\" cy=\"1386.39\" r=\"14\" fill=\"#009af9\" fill-rule=\"evenodd\" fill-opacity=\"1\" stroke=\"#000000\" stroke-opacity=\"1\" stroke-width=\"3.2\"/>\n",
       "<circle clip-path=\"url(#clip772)\" cx=\"1463.85\" cy=\"1386.39\" r=\"14\" fill=\"#009af9\" fill-rule=\"evenodd\" fill-opacity=\"1\" stroke=\"#000000\" stroke-opacity=\"1\" stroke-width=\"3.2\"/>\n",
       "<circle clip-path=\"url(#clip772)\" cx=\"1523.04\" cy=\"1386.4\" r=\"14\" fill=\"#009af9\" fill-rule=\"evenodd\" fill-opacity=\"1\" stroke=\"#000000\" stroke-opacity=\"1\" stroke-width=\"3.2\"/>\n",
       "<circle clip-path=\"url(#clip772)\" cx=\"1582.22\" cy=\"1386.4\" r=\"14\" fill=\"#009af9\" fill-rule=\"evenodd\" fill-opacity=\"1\" stroke=\"#000000\" stroke-opacity=\"1\" stroke-width=\"3.2\"/>\n",
       "<circle clip-path=\"url(#clip772)\" cx=\"1641.4\" cy=\"1386.4\" r=\"14\" fill=\"#009af9\" fill-rule=\"evenodd\" fill-opacity=\"1\" stroke=\"#000000\" stroke-opacity=\"1\" stroke-width=\"3.2\"/>\n",
       "<circle clip-path=\"url(#clip772)\" cx=\"1700.58\" cy=\"1386.4\" r=\"14\" fill=\"#009af9\" fill-rule=\"evenodd\" fill-opacity=\"1\" stroke=\"#000000\" stroke-opacity=\"1\" stroke-width=\"3.2\"/>\n",
       "<circle clip-path=\"url(#clip772)\" cx=\"1759.76\" cy=\"1386.4\" r=\"14\" fill=\"#009af9\" fill-rule=\"evenodd\" fill-opacity=\"1\" stroke=\"#000000\" stroke-opacity=\"1\" stroke-width=\"3.2\"/>\n",
       "<circle clip-path=\"url(#clip772)\" cx=\"1818.94\" cy=\"1386.4\" r=\"14\" fill=\"#009af9\" fill-rule=\"evenodd\" fill-opacity=\"1\" stroke=\"#000000\" stroke-opacity=\"1\" stroke-width=\"3.2\"/>\n",
       "<circle clip-path=\"url(#clip772)\" cx=\"1878.12\" cy=\"1386.4\" r=\"14\" fill=\"#009af9\" fill-rule=\"evenodd\" fill-opacity=\"1\" stroke=\"#000000\" stroke-opacity=\"1\" stroke-width=\"3.2\"/>\n",
       "<circle clip-path=\"url(#clip772)\" cx=\"1937.3\" cy=\"1386.4\" r=\"14\" fill=\"#009af9\" fill-rule=\"evenodd\" fill-opacity=\"1\" stroke=\"#000000\" stroke-opacity=\"1\" stroke-width=\"3.2\"/>\n",
       "<circle clip-path=\"url(#clip772)\" cx=\"1996.49\" cy=\"1386.4\" r=\"14\" fill=\"#009af9\" fill-rule=\"evenodd\" fill-opacity=\"1\" stroke=\"#000000\" stroke-opacity=\"1\" stroke-width=\"3.2\"/>\n",
       "<circle clip-path=\"url(#clip772)\" cx=\"2055.67\" cy=\"1386.4\" r=\"14\" fill=\"#009af9\" fill-rule=\"evenodd\" fill-opacity=\"1\" stroke=\"#000000\" stroke-opacity=\"1\" stroke-width=\"3.2\"/>\n",
       "<circle clip-path=\"url(#clip772)\" cx=\"2114.85\" cy=\"1386.4\" r=\"14\" fill=\"#009af9\" fill-rule=\"evenodd\" fill-opacity=\"1\" stroke=\"#000000\" stroke-opacity=\"1\" stroke-width=\"3.2\"/>\n",
       "<circle clip-path=\"url(#clip772)\" cx=\"2174.03\" cy=\"1386.4\" r=\"14\" fill=\"#009af9\" fill-rule=\"evenodd\" fill-opacity=\"1\" stroke=\"#000000\" stroke-opacity=\"1\" stroke-width=\"3.2\"/>\n",
       "<circle clip-path=\"url(#clip772)\" cx=\"2233.21\" cy=\"1386.4\" r=\"14\" fill=\"#009af9\" fill-rule=\"evenodd\" fill-opacity=\"1\" stroke=\"#000000\" stroke-opacity=\"1\" stroke-width=\"3.2\"/>\n",
       "<circle clip-path=\"url(#clip772)\" cx=\"2292.39\" cy=\"1386.4\" r=\"14\" fill=\"#009af9\" fill-rule=\"evenodd\" fill-opacity=\"1\" stroke=\"#000000\" stroke-opacity=\"1\" stroke-width=\"3.2\"/>\n",
       "<circle clip-path=\"url(#clip772)\" cx=\"280.231\" cy=\"405.484\" r=\"14\" fill=\"#e26f46\" fill-rule=\"evenodd\" fill-opacity=\"1\" stroke=\"#000000\" stroke-opacity=\"1\" stroke-width=\"3.2\"/>\n",
       "<circle clip-path=\"url(#clip772)\" cx=\"339.412\" cy=\"1059.43\" r=\"14\" fill=\"#e26f46\" fill-rule=\"evenodd\" fill-opacity=\"1\" stroke=\"#000000\" stroke-opacity=\"1\" stroke-width=\"3.2\"/>\n",
       "<circle clip-path=\"url(#clip772)\" cx=\"398.593\" cy=\"1190.21\" r=\"14\" fill=\"#e26f46\" fill-rule=\"evenodd\" fill-opacity=\"1\" stroke=\"#000000\" stroke-opacity=\"1\" stroke-width=\"3.2\"/>\n",
       "<circle clip-path=\"url(#clip772)\" cx=\"457.775\" cy=\"1297.22\" r=\"14\" fill=\"#e26f46\" fill-rule=\"evenodd\" fill-opacity=\"1\" stroke=\"#000000\" stroke-opacity=\"1\" stroke-width=\"3.2\"/>\n",
       "<circle clip-path=\"url(#clip772)\" cx=\"516.956\" cy=\"1343.75\" r=\"14\" fill=\"#e26f46\" fill-rule=\"evenodd\" fill-opacity=\"1\" stroke=\"#000000\" stroke-opacity=\"1\" stroke-width=\"3.2\"/>\n",
       "<circle clip-path=\"url(#clip772)\" cx=\"576.137\" cy=\"1364.6\" r=\"14\" fill=\"#e26f46\" fill-rule=\"evenodd\" fill-opacity=\"1\" stroke=\"#000000\" stroke-opacity=\"1\" stroke-width=\"3.2\"/>\n",
       "<circle clip-path=\"url(#clip772)\" cx=\"635.318\" cy=\"1375.37\" r=\"14\" fill=\"#e26f46\" fill-rule=\"evenodd\" fill-opacity=\"1\" stroke=\"#000000\" stroke-opacity=\"1\" stroke-width=\"3.2\"/>\n",
       "<circle clip-path=\"url(#clip772)\" cx=\"694.499\" cy=\"1380.85\" r=\"14\" fill=\"#e26f46\" fill-rule=\"evenodd\" fill-opacity=\"1\" stroke=\"#000000\" stroke-opacity=\"1\" stroke-width=\"3.2\"/>\n",
       "<circle clip-path=\"url(#clip772)\" cx=\"753.68\" cy=\"1383.63\" r=\"14\" fill=\"#e26f46\" fill-rule=\"evenodd\" fill-opacity=\"1\" stroke=\"#000000\" stroke-opacity=\"1\" stroke-width=\"3.2\"/>\n",
       "<circle clip-path=\"url(#clip772)\" cx=\"812.862\" cy=\"1385.01\" r=\"14\" fill=\"#e26f46\" fill-rule=\"evenodd\" fill-opacity=\"1\" stroke=\"#000000\" stroke-opacity=\"1\" stroke-width=\"3.2\"/>\n",
       "<circle clip-path=\"url(#clip772)\" cx=\"872.043\" cy=\"1385.7\" r=\"14\" fill=\"#e26f46\" fill-rule=\"evenodd\" fill-opacity=\"1\" stroke=\"#000000\" stroke-opacity=\"1\" stroke-width=\"3.2\"/>\n",
       "<circle clip-path=\"url(#clip772)\" cx=\"931.224\" cy=\"1386.05\" r=\"14\" fill=\"#e26f46\" fill-rule=\"evenodd\" fill-opacity=\"1\" stroke=\"#000000\" stroke-opacity=\"1\" stroke-width=\"3.2\"/>\n",
       "<circle clip-path=\"url(#clip772)\" cx=\"990.405\" cy=\"1386.22\" r=\"14\" fill=\"#e26f46\" fill-rule=\"evenodd\" fill-opacity=\"1\" stroke=\"#000000\" stroke-opacity=\"1\" stroke-width=\"3.2\"/>\n",
       "<circle clip-path=\"url(#clip772)\" cx=\"1049.59\" cy=\"1386.31\" r=\"14\" fill=\"#e26f46\" fill-rule=\"evenodd\" fill-opacity=\"1\" stroke=\"#000000\" stroke-opacity=\"1\" stroke-width=\"3.2\"/>\n",
       "<circle clip-path=\"url(#clip772)\" cx=\"1108.77\" cy=\"1386.35\" r=\"14\" fill=\"#e26f46\" fill-rule=\"evenodd\" fill-opacity=\"1\" stroke=\"#000000\" stroke-opacity=\"1\" stroke-width=\"3.2\"/>\n",
       "<circle clip-path=\"url(#clip772)\" cx=\"1167.95\" cy=\"1386.37\" r=\"14\" fill=\"#e26f46\" fill-rule=\"evenodd\" fill-opacity=\"1\" stroke=\"#000000\" stroke-opacity=\"1\" stroke-width=\"3.2\"/>\n",
       "<circle clip-path=\"url(#clip772)\" cx=\"1227.13\" cy=\"1386.38\" r=\"14\" fill=\"#e26f46\" fill-rule=\"evenodd\" fill-opacity=\"1\" stroke=\"#000000\" stroke-opacity=\"1\" stroke-width=\"3.2\"/>\n",
       "<circle clip-path=\"url(#clip772)\" cx=\"1286.31\" cy=\"1386.39\" r=\"14\" fill=\"#e26f46\" fill-rule=\"evenodd\" fill-opacity=\"1\" stroke=\"#000000\" stroke-opacity=\"1\" stroke-width=\"3.2\"/>\n",
       "<circle clip-path=\"url(#clip772)\" cx=\"1345.49\" cy=\"1386.39\" r=\"14\" fill=\"#e26f46\" fill-rule=\"evenodd\" fill-opacity=\"1\" stroke=\"#000000\" stroke-opacity=\"1\" stroke-width=\"3.2\"/>\n",
       "<circle clip-path=\"url(#clip772)\" cx=\"1404.67\" cy=\"1386.39\" r=\"14\" fill=\"#e26f46\" fill-rule=\"evenodd\" fill-opacity=\"1\" stroke=\"#000000\" stroke-opacity=\"1\" stroke-width=\"3.2\"/>\n",
       "<circle clip-path=\"url(#clip772)\" cx=\"1463.85\" cy=\"1386.39\" r=\"14\" fill=\"#e26f46\" fill-rule=\"evenodd\" fill-opacity=\"1\" stroke=\"#000000\" stroke-opacity=\"1\" stroke-width=\"3.2\"/>\n",
       "<circle clip-path=\"url(#clip772)\" cx=\"1523.04\" cy=\"1386.4\" r=\"14\" fill=\"#e26f46\" fill-rule=\"evenodd\" fill-opacity=\"1\" stroke=\"#000000\" stroke-opacity=\"1\" stroke-width=\"3.2\"/>\n",
       "<circle clip-path=\"url(#clip772)\" cx=\"1582.22\" cy=\"1386.4\" r=\"14\" fill=\"#e26f46\" fill-rule=\"evenodd\" fill-opacity=\"1\" stroke=\"#000000\" stroke-opacity=\"1\" stroke-width=\"3.2\"/>\n",
       "<circle clip-path=\"url(#clip772)\" cx=\"1641.4\" cy=\"1386.4\" r=\"14\" fill=\"#e26f46\" fill-rule=\"evenodd\" fill-opacity=\"1\" stroke=\"#000000\" stroke-opacity=\"1\" stroke-width=\"3.2\"/>\n",
       "<circle clip-path=\"url(#clip772)\" cx=\"1700.58\" cy=\"1386.4\" r=\"14\" fill=\"#e26f46\" fill-rule=\"evenodd\" fill-opacity=\"1\" stroke=\"#000000\" stroke-opacity=\"1\" stroke-width=\"3.2\"/>\n",
       "<circle clip-path=\"url(#clip772)\" cx=\"1759.76\" cy=\"1386.4\" r=\"14\" fill=\"#e26f46\" fill-rule=\"evenodd\" fill-opacity=\"1\" stroke=\"#000000\" stroke-opacity=\"1\" stroke-width=\"3.2\"/>\n",
       "<circle clip-path=\"url(#clip772)\" cx=\"1818.94\" cy=\"1386.4\" r=\"14\" fill=\"#e26f46\" fill-rule=\"evenodd\" fill-opacity=\"1\" stroke=\"#000000\" stroke-opacity=\"1\" stroke-width=\"3.2\"/>\n",
       "<circle clip-path=\"url(#clip772)\" cx=\"1878.12\" cy=\"1386.4\" r=\"14\" fill=\"#e26f46\" fill-rule=\"evenodd\" fill-opacity=\"1\" stroke=\"#000000\" stroke-opacity=\"1\" stroke-width=\"3.2\"/>\n",
       "<circle clip-path=\"url(#clip772)\" cx=\"1937.3\" cy=\"1386.4\" r=\"14\" fill=\"#e26f46\" fill-rule=\"evenodd\" fill-opacity=\"1\" stroke=\"#000000\" stroke-opacity=\"1\" stroke-width=\"3.2\"/>\n",
       "<circle clip-path=\"url(#clip772)\" cx=\"1996.49\" cy=\"1386.4\" r=\"14\" fill=\"#e26f46\" fill-rule=\"evenodd\" fill-opacity=\"1\" stroke=\"#000000\" stroke-opacity=\"1\" stroke-width=\"3.2\"/>\n",
       "<circle clip-path=\"url(#clip772)\" cx=\"2055.67\" cy=\"1386.4\" r=\"14\" fill=\"#e26f46\" fill-rule=\"evenodd\" fill-opacity=\"1\" stroke=\"#000000\" stroke-opacity=\"1\" stroke-width=\"3.2\"/>\n",
       "<circle clip-path=\"url(#clip772)\" cx=\"2114.85\" cy=\"1386.4\" r=\"14\" fill=\"#e26f46\" fill-rule=\"evenodd\" fill-opacity=\"1\" stroke=\"#000000\" stroke-opacity=\"1\" stroke-width=\"3.2\"/>\n",
       "<circle clip-path=\"url(#clip772)\" cx=\"2174.03\" cy=\"1386.4\" r=\"14\" fill=\"#e26f46\" fill-rule=\"evenodd\" fill-opacity=\"1\" stroke=\"#000000\" stroke-opacity=\"1\" stroke-width=\"3.2\"/>\n",
       "<circle clip-path=\"url(#clip772)\" cx=\"2233.21\" cy=\"1386.4\" r=\"14\" fill=\"#e26f46\" fill-rule=\"evenodd\" fill-opacity=\"1\" stroke=\"#000000\" stroke-opacity=\"1\" stroke-width=\"3.2\"/>\n",
       "<circle clip-path=\"url(#clip772)\" cx=\"2292.39\" cy=\"1386.4\" r=\"14\" fill=\"#e26f46\" fill-rule=\"evenodd\" fill-opacity=\"1\" stroke=\"#000000\" stroke-opacity=\"1\" stroke-width=\"3.2\"/>\n",
       "<path clip-path=\"url(#clip770)\" d=\"\n",
       "M1992.24 322.316 L2281.66 322.316 L2281.66 166.796 L1992.24 166.796  Z\n",
       "  \" fill=\"#ffffff\" fill-rule=\"evenodd\" fill-opacity=\"1\"/>\n",
       "<polyline clip-path=\"url(#clip770)\" style=\"stroke:#000000; stroke-linecap:butt; stroke-linejoin:round; stroke-width:4; stroke-opacity:1; fill:none\" points=\"\n",
       "  1992.24,322.316 2281.66,322.316 2281.66,166.796 1992.24,166.796 1992.24,322.316 \n",
       "  \"/>\n",
       "<circle clip-path=\"url(#clip770)\" cx=\"2087.04\" cy=\"218.636\" r=\"23\" fill=\"#009af9\" fill-rule=\"evenodd\" fill-opacity=\"1\" stroke=\"#000000\" stroke-opacity=\"1\" stroke-width=\"5.12\"/>\n",
       "<path clip-path=\"url(#clip770)\" d=\"M2195.67 238.323 Q2193.87 242.953 2192.16 244.365 Q2190.44 245.777 2187.57 245.777 L2184.17 245.777 L2184.17 242.212 L2186.67 242.212 Q2188.43 242.212 2189.4 241.379 Q2190.37 240.545 2191.55 237.443 L2192.32 235.499 L2181.83 209.99 L2186.35 209.99 L2194.45 230.268 L2202.55 209.99 L2207.06 209.99 L2195.67 238.323 Z\" fill=\"#000000\" fill-rule=\"evenodd\" fill-opacity=\"1\" /><path clip-path=\"url(#clip770)\" d=\"M2214.35 231.981 L2221.99 231.981 L2221.99 205.615 L2213.68 207.282 L2213.68 203.022 L2221.95 201.356 L2226.62 201.356 L2226.62 231.981 L2234.26 231.981 L2234.26 235.916 L2214.35 235.916 L2214.35 231.981 Z\" fill=\"#000000\" fill-rule=\"evenodd\" fill-opacity=\"1\" /><circle clip-path=\"url(#clip770)\" cx=\"2087.04\" cy=\"270.476\" r=\"23\" fill=\"#e26f46\" fill-rule=\"evenodd\" fill-opacity=\"1\" stroke=\"#000000\" stroke-opacity=\"1\" stroke-width=\"5.12\"/>\n",
       "<path clip-path=\"url(#clip770)\" d=\"M2195.67 290.163 Q2193.87 294.793 2192.16 296.205 Q2190.44 297.617 2187.57 297.617 L2184.17 297.617 L2184.17 294.052 L2186.67 294.052 Q2188.43 294.052 2189.4 293.219 Q2190.37 292.385 2191.55 289.283 L2192.32 287.339 L2181.83 261.83 L2186.35 261.83 L2194.45 282.108 L2202.55 261.83 L2207.06 261.83 L2195.67 290.163 Z\" fill=\"#000000\" fill-rule=\"evenodd\" fill-opacity=\"1\" /><path clip-path=\"url(#clip770)\" d=\"M2217.57 283.821 L2233.89 283.821 L2233.89 287.756 L2211.95 287.756 L2211.95 283.821 Q2214.61 281.066 2219.19 276.436 Q2223.8 271.784 2224.98 270.441 Q2227.23 267.918 2228.1 266.182 Q2229.01 264.423 2229.01 262.733 Q2229.01 259.978 2227.06 258.242 Q2225.14 256.506 2222.04 256.506 Q2219.84 256.506 2217.39 257.27 Q2214.96 258.034 2212.18 259.585 L2212.18 254.862 Q2215 253.728 2217.46 253.149 Q2219.91 252.571 2221.95 252.571 Q2227.32 252.571 2230.51 255.256 Q2233.71 257.941 2233.71 262.432 Q2233.71 264.561 2232.9 266.483 Q2232.11 268.381 2230 270.973 Q2229.42 271.645 2226.32 274.862 Q2223.22 278.057 2217.57 283.821 Z\" fill=\"#000000\" fill-rule=\"evenodd\" fill-opacity=\"1\" /></svg>\n"
      ]
     },
     "execution_count": 17,
     "metadata": {},
     "output_type": "execute_result"
    }
   ],
   "source": [
    "scatter(Vc, title=\"Errores vs Iteraciones\", ylabel=\"Errores\", xlabel=\"i\")\n",
    "scatter!(Vr)\n",
    "hline!(0)"
   ]
  },
  {
   "cell_type": "code",
   "execution_count": 675,
   "metadata": {},
   "outputs": [
    {
     "data": {
      "text/plain": [
       "16-element Vector{Float64}:\n",
       " 0.027272727272727282\n",
       " 0.029999999999999985\n",
       " 0.011170212765957449\n",
       " 0.004532967032967038\n",
       " 0.0025337837837837753\n",
       " 0.0013321045576407536\n",
       " 0.0006498149394347178\n",
       " 0.00032897498321020477\n",
       " 0.00016550129989936877\n",
       " 8.300371961442057e-5\n",
       " 4.156507950640447e-5\n",
       " 2.0798338718627676e-5\n",
       " 1.0403118356083887e-5\n",
       " 5.202546334178678e-6\n",
       " 2.6010263819399754e-6\n",
       " 1.3004514932189519e-6"
      ]
     },
     "execution_count": 675,
     "metadata": {},
     "output_type": "execute_result"
    }
   ],
   "source": [
    "Vc-Vr"
   ]
  },
  {
   "cell_type": "code",
   "execution_count": 676,
   "metadata": {},
   "outputs": [
    {
     "data": {
      "image/svg+xml": [
       "<?xml version=\"1.0\" encoding=\"utf-8\"?>\n",
       "<svg xmlns=\"http://www.w3.org/2000/svg\" xmlns:xlink=\"http://www.w3.org/1999/xlink\" width=\"600\" height=\"400\" viewBox=\"0 0 2400 1600\">\n",
       "<defs>\n",
       "  <clipPath id=\"clip590\">\n",
       "    <rect x=\"0\" y=\"0\" width=\"2400\" height=\"1600\"/>\n",
       "  </clipPath>\n",
       "</defs>\n",
       "<path clip-path=\"url(#clip590)\" d=\"\n",
       "M0 1600 L2400 1600 L2400 0 L0 0  Z\n",
       "  \" fill=\"#ffffff\" fill-rule=\"evenodd\" fill-opacity=\"1\"/>\n",
       "<defs>\n",
       "  <clipPath id=\"clip591\">\n",
       "    <rect x=\"480\" y=\"0\" width=\"1681\" height=\"1600\"/>\n",
       "  </clipPath>\n",
       "</defs>\n",
       "<path clip-path=\"url(#clip590)\" d=\"\n",
       "M252.764 1423.18 L2352.76 1423.18 L2352.76 123.472 L252.764 123.472  Z\n",
       "  \" fill=\"#ffffff\" fill-rule=\"evenodd\" fill-opacity=\"1\"/>\n",
       "<defs>\n",
       "  <clipPath id=\"clip592\">\n",
       "    <rect x=\"252\" y=\"123\" width=\"2101\" height=\"1301\"/>\n",
       "  </clipPath>\n",
       "</defs>\n",
       "<polyline clip-path=\"url(#clip592)\" style=\"stroke:#000000; stroke-linecap:butt; stroke-linejoin:round; stroke-width:2; stroke-opacity:0.1; fill:none\" points=\"\n",
       "  576.348,1423.18 576.348,123.472 \n",
       "  \"/>\n",
       "<polyline clip-path=\"url(#clip592)\" style=\"stroke:#000000; stroke-linecap:butt; stroke-linejoin:round; stroke-width:2; stroke-opacity:0.1; fill:none\" points=\"\n",
       "  972.573,1423.18 972.573,123.472 \n",
       "  \"/>\n",
       "<polyline clip-path=\"url(#clip592)\" style=\"stroke:#000000; stroke-linecap:butt; stroke-linejoin:round; stroke-width:2; stroke-opacity:0.1; fill:none\" points=\"\n",
       "  1368.8,1423.18 1368.8,123.472 \n",
       "  \"/>\n",
       "<polyline clip-path=\"url(#clip592)\" style=\"stroke:#000000; stroke-linecap:butt; stroke-linejoin:round; stroke-width:2; stroke-opacity:0.1; fill:none\" points=\"\n",
       "  1765.02,1423.18 1765.02,123.472 \n",
       "  \"/>\n",
       "<polyline clip-path=\"url(#clip592)\" style=\"stroke:#000000; stroke-linecap:butt; stroke-linejoin:round; stroke-width:2; stroke-opacity:0.1; fill:none\" points=\"\n",
       "  2161.25,1423.18 2161.25,123.472 \n",
       "  \"/>\n",
       "<polyline clip-path=\"url(#clip590)\" style=\"stroke:#000000; stroke-linecap:butt; stroke-linejoin:round; stroke-width:4; stroke-opacity:1; fill:none\" points=\"\n",
       "  252.764,1423.18 2352.76,1423.18 \n",
       "  \"/>\n",
       "<polyline clip-path=\"url(#clip590)\" style=\"stroke:#000000; stroke-linecap:butt; stroke-linejoin:round; stroke-width:4; stroke-opacity:1; fill:none\" points=\"\n",
       "  576.348,1423.18 576.348,1404.28 \n",
       "  \"/>\n",
       "<polyline clip-path=\"url(#clip590)\" style=\"stroke:#000000; stroke-linecap:butt; stroke-linejoin:round; stroke-width:4; stroke-opacity:1; fill:none\" points=\"\n",
       "  972.573,1423.18 972.573,1404.28 \n",
       "  \"/>\n",
       "<polyline clip-path=\"url(#clip590)\" style=\"stroke:#000000; stroke-linecap:butt; stroke-linejoin:round; stroke-width:4; stroke-opacity:1; fill:none\" points=\"\n",
       "  1368.8,1423.18 1368.8,1404.28 \n",
       "  \"/>\n",
       "<polyline clip-path=\"url(#clip590)\" style=\"stroke:#000000; stroke-linecap:butt; stroke-linejoin:round; stroke-width:4; stroke-opacity:1; fill:none\" points=\"\n",
       "  1765.02,1423.18 1765.02,1404.28 \n",
       "  \"/>\n",
       "<polyline clip-path=\"url(#clip590)\" style=\"stroke:#000000; stroke-linecap:butt; stroke-linejoin:round; stroke-width:4; stroke-opacity:1; fill:none\" points=\"\n",
       "  2161.25,1423.18 2161.25,1404.28 \n",
       "  \"/>\n",
       "<path clip-path=\"url(#clip590)\" d=\"M580.595 1466.95 Q583.952 1467.66 585.827 1469.93 Q587.725 1472.2 587.725 1475.53 Q587.725 1480.65 584.206 1483.45 Q580.688 1486.25 574.206 1486.25 Q572.031 1486.25 569.716 1485.81 Q567.424 1485.39 564.97 1484.54 L564.97 1480.02 Q566.915 1481.16 569.23 1481.74 Q571.544 1482.32 574.068 1482.32 Q578.466 1482.32 580.757 1480.58 Q583.072 1478.84 583.072 1475.53 Q583.072 1472.48 580.919 1470.77 Q578.79 1469.03 574.97 1469.03 L570.943 1469.03 L570.943 1465.19 L575.155 1465.19 Q578.605 1465.19 580.433 1463.82 Q582.262 1462.43 582.262 1459.84 Q582.262 1457.18 580.364 1455.77 Q578.489 1454.33 574.97 1454.33 Q573.049 1454.33 570.85 1454.75 Q568.651 1455.16 566.012 1456.04 L566.012 1451.88 Q568.674 1451.14 570.989 1450.77 Q573.327 1450.39 575.387 1450.39 Q580.711 1450.39 583.813 1452.83 Q586.915 1455.23 586.915 1459.35 Q586.915 1462.22 585.271 1464.21 Q583.628 1466.18 580.595 1466.95 Z\" fill=\"#000000\" fill-rule=\"evenodd\" fill-opacity=\"1\" /><path clip-path=\"url(#clip590)\" d=\"M972.978 1466.44 Q969.829 1466.44 967.978 1468.59 Q966.149 1470.74 966.149 1474.49 Q966.149 1478.22 967.978 1480.39 Q969.829 1482.55 972.978 1482.55 Q976.126 1482.55 977.954 1480.39 Q979.806 1478.22 979.806 1474.49 Q979.806 1470.74 977.954 1468.59 Q976.126 1466.44 972.978 1466.44 M982.26 1451.78 L982.26 1456.04 Q980.501 1455.21 978.695 1454.77 Q976.913 1454.33 975.154 1454.33 Q970.524 1454.33 968.07 1457.45 Q965.64 1460.58 965.292 1466.9 Q966.658 1464.89 968.718 1463.82 Q970.779 1462.73 973.255 1462.73 Q978.464 1462.73 981.473 1465.9 Q984.505 1469.05 984.505 1474.49 Q984.505 1479.82 981.357 1483.03 Q978.209 1486.25 972.978 1486.25 Q966.982 1486.25 963.811 1481.67 Q960.64 1477.06 960.64 1468.33 Q960.64 1460.14 964.529 1455.28 Q968.417 1450.39 974.968 1450.39 Q976.728 1450.39 978.51 1450.74 Q980.316 1451.09 982.26 1451.78 Z\" fill=\"#000000\" fill-rule=\"evenodd\" fill-opacity=\"1\" /><path clip-path=\"url(#clip590)\" d=\"M1359.1 1484.86 L1359.1 1480.6 Q1360.86 1481.44 1362.66 1481.88 Q1364.47 1482.32 1366.2 1482.32 Q1370.83 1482.32 1373.26 1479.21 Q1375.72 1476.09 1376.07 1469.75 Q1374.72 1471.74 1372.66 1472.8 Q1370.6 1473.87 1368.1 1473.87 Q1362.92 1473.87 1359.89 1470.74 Q1356.88 1467.59 1356.88 1462.15 Q1356.88 1456.83 1360.02 1453.61 Q1363.17 1450.39 1368.4 1450.39 Q1374.4 1450.39 1377.55 1455 Q1380.72 1459.58 1380.72 1468.33 Q1380.72 1476.51 1376.83 1481.39 Q1372.96 1486.25 1366.41 1486.25 Q1364.65 1486.25 1362.85 1485.9 Q1361.04 1485.56 1359.1 1484.86 M1368.4 1470.21 Q1371.55 1470.21 1373.38 1468.06 Q1375.23 1465.9 1375.23 1462.15 Q1375.23 1458.43 1373.38 1456.27 Q1371.55 1454.1 1368.4 1454.1 Q1365.26 1454.1 1363.4 1456.27 Q1361.58 1458.43 1361.58 1462.15 Q1361.58 1465.9 1363.4 1468.06 Q1365.26 1470.21 1368.4 1470.21 Z\" fill=\"#000000\" fill-rule=\"evenodd\" fill-opacity=\"1\" /><path clip-path=\"url(#clip590)\" d=\"M1740.51 1481.64 L1748.15 1481.64 L1748.15 1455.28 L1739.84 1456.95 L1739.84 1452.69 L1748.1 1451.02 L1752.78 1451.02 L1752.78 1481.64 L1760.42 1481.64 L1760.42 1485.58 L1740.51 1485.58 L1740.51 1481.64 Z\" fill=\"#000000\" fill-rule=\"evenodd\" fill-opacity=\"1\" /><path clip-path=\"url(#clip590)\" d=\"M1773.89 1481.64 L1790.21 1481.64 L1790.21 1485.58 L1768.26 1485.58 L1768.26 1481.64 Q1770.93 1478.89 1775.51 1474.26 Q1780.11 1469.61 1781.3 1468.27 Q1783.54 1465.74 1784.42 1464.01 Q1785.32 1462.25 1785.32 1460.56 Q1785.32 1457.8 1783.38 1456.07 Q1781.46 1454.33 1778.36 1454.33 Q1776.16 1454.33 1773.7 1455.09 Q1771.27 1455.86 1768.49 1457.41 L1768.49 1452.69 Q1771.32 1451.55 1773.77 1450.97 Q1776.23 1450.39 1778.26 1450.39 Q1783.63 1450.39 1786.83 1453.08 Q1790.02 1455.77 1790.02 1460.26 Q1790.02 1462.39 1789.21 1464.31 Q1788.42 1466.2 1786.32 1468.8 Q1785.74 1469.47 1782.64 1472.69 Q1779.54 1475.88 1773.89 1481.64 Z\" fill=\"#000000\" fill-rule=\"evenodd\" fill-opacity=\"1\" /><path clip-path=\"url(#clip590)\" d=\"M2136.43 1481.64 L2144.07 1481.64 L2144.07 1455.28 L2135.76 1456.95 L2135.76 1452.69 L2144.03 1451.02 L2148.7 1451.02 L2148.7 1481.64 L2156.34 1481.64 L2156.34 1485.58 L2136.43 1485.58 L2136.43 1481.64 Z\" fill=\"#000000\" fill-rule=\"evenodd\" fill-opacity=\"1\" /><path clip-path=\"url(#clip590)\" d=\"M2165.83 1451.02 L2184.19 1451.02 L2184.19 1454.96 L2170.11 1454.96 L2170.11 1463.43 Q2171.13 1463.08 2172.15 1462.92 Q2173.17 1462.73 2174.19 1462.73 Q2179.97 1462.73 2183.35 1465.9 Q2186.73 1469.08 2186.73 1474.49 Q2186.73 1480.07 2183.26 1483.17 Q2179.79 1486.25 2173.47 1486.25 Q2171.29 1486.25 2169.02 1485.88 Q2166.78 1485.51 2164.37 1484.77 L2164.37 1480.07 Q2166.46 1481.2 2168.68 1481.76 Q2170.9 1482.32 2173.38 1482.32 Q2177.38 1482.32 2179.72 1480.21 Q2182.06 1478.1 2182.06 1474.49 Q2182.06 1470.88 2179.72 1468.77 Q2177.38 1466.67 2173.38 1466.67 Q2171.5 1466.67 2169.63 1467.08 Q2167.77 1467.5 2165.83 1468.38 L2165.83 1451.02 Z\" fill=\"#000000\" fill-rule=\"evenodd\" fill-opacity=\"1\" /><path clip-path=\"url(#clip590)\" d=\"M1299.83 1532.4 L1305.69 1532.4 L1305.69 1568.04 L1299.83 1568.04 L1299.83 1532.4 M1299.83 1518.52 L1305.69 1518.52 L1305.69 1525.93 L1299.83 1525.93 L1299.83 1518.52 Z\" fill=\"#000000\" fill-rule=\"evenodd\" fill-opacity=\"1\" /><polyline clip-path=\"url(#clip592)\" style=\"stroke:#000000; stroke-linecap:butt; stroke-linejoin:round; stroke-width:2; stroke-opacity:0.1; fill:none\" points=\"\n",
       "  252.764,1090.73 2352.76,1090.73 \n",
       "  \"/>\n",
       "<polyline clip-path=\"url(#clip592)\" style=\"stroke:#000000; stroke-linecap:butt; stroke-linejoin:round; stroke-width:2; stroke-opacity:0.1; fill:none\" points=\"\n",
       "  252.764,555.534 2352.76,555.534 \n",
       "  \"/>\n",
       "<polyline clip-path=\"url(#clip590)\" style=\"stroke:#000000; stroke-linecap:butt; stroke-linejoin:round; stroke-width:4; stroke-opacity:1; fill:none\" points=\"\n",
       "  252.764,1423.18 252.764,123.472 \n",
       "  \"/>\n",
       "<polyline clip-path=\"url(#clip590)\" style=\"stroke:#000000; stroke-linecap:butt; stroke-linejoin:round; stroke-width:4; stroke-opacity:1; fill:none\" points=\"\n",
       "  252.764,1090.73 271.662,1090.73 \n",
       "  \"/>\n",
       "<polyline clip-path=\"url(#clip590)\" style=\"stroke:#000000; stroke-linecap:butt; stroke-linejoin:round; stroke-width:4; stroke-opacity:1; fill:none\" points=\"\n",
       "  252.764,555.534 271.662,555.534 \n",
       "  \"/>\n",
       "<path clip-path=\"url(#clip590)\" d=\"M114.931 1110.53 L122.57 1110.53 L122.57 1084.16 L114.26 1085.83 L114.26 1081.57 L122.524 1079.9 L127.2 1079.9 L127.2 1110.53 L134.839 1110.53 L134.839 1114.46 L114.931 1114.46 L114.931 1110.53 Z\" fill=\"#000000\" fill-rule=\"evenodd\" fill-opacity=\"1\" /><path clip-path=\"url(#clip590)\" d=\"M154.283 1082.98 Q150.672 1082.98 148.843 1086.55 Q147.038 1090.09 147.038 1097.22 Q147.038 1104.32 148.843 1107.89 Q150.672 1111.43 154.283 1111.43 Q157.917 1111.43 159.723 1107.89 Q161.552 1104.32 161.552 1097.22 Q161.552 1090.09 159.723 1086.55 Q157.917 1082.98 154.283 1082.98 M154.283 1079.28 Q160.093 1079.28 163.149 1083.88 Q166.227 1088.47 166.227 1097.22 Q166.227 1105.94 163.149 1110.55 Q160.093 1115.13 154.283 1115.13 Q148.473 1115.13 145.394 1110.55 Q142.339 1105.94 142.339 1097.22 Q142.339 1088.47 145.394 1083.88 Q148.473 1079.28 154.283 1079.28 Z\" fill=\"#000000\" fill-rule=\"evenodd\" fill-opacity=\"1\" /><path clip-path=\"url(#clip590)\" d=\"M166.227 1073.38 L190.339 1073.38 L190.339 1076.58 L166.227 1076.58 L166.227 1073.38 Z\" fill=\"#000000\" fill-rule=\"evenodd\" fill-opacity=\"1\" /><path clip-path=\"url(#clip590)\" d=\"M208.978 1062.28 L199.386 1077.27 L208.978 1077.27 L208.978 1062.28 M207.981 1058.97 L212.758 1058.97 L212.758 1077.27 L216.764 1077.27 L216.764 1080.43 L212.758 1080.43 L212.758 1087.05 L208.978 1087.05 L208.978 1080.43 L196.301 1080.43 L196.301 1076.76 L207.981 1058.97 Z\" fill=\"#000000\" fill-rule=\"evenodd\" fill-opacity=\"1\" /><path clip-path=\"url(#clip590)\" d=\"M116.624 575.326 L124.263 575.326 L124.263 548.961 L115.953 550.628 L115.953 546.368 L124.217 544.702 L128.893 544.702 L128.893 575.326 L136.531 575.326 L136.531 579.262 L116.624 579.262 L116.624 575.326 Z\" fill=\"#000000\" fill-rule=\"evenodd\" fill-opacity=\"1\" /><path clip-path=\"url(#clip590)\" d=\"M155.976 547.78 Q152.365 547.78 150.536 551.345 Q148.73 554.887 148.73 562.016 Q148.73 569.123 150.536 572.688 Q152.365 576.229 155.976 576.229 Q159.61 576.229 161.416 572.688 Q163.244 569.123 163.244 562.016 Q163.244 554.887 161.416 551.345 Q159.61 547.78 155.976 547.78 M155.976 544.077 Q161.786 544.077 164.841 548.683 Q167.92 553.266 167.92 562.016 Q167.92 570.743 164.841 575.35 Q161.786 579.933 155.976 579.933 Q150.166 579.933 147.087 575.35 Q144.031 570.743 144.031 562.016 Q144.031 553.266 147.087 548.683 Q150.166 544.077 155.976 544.077 Z\" fill=\"#000000\" fill-rule=\"evenodd\" fill-opacity=\"1\" /><path clip-path=\"url(#clip590)\" d=\"M167.92 538.178 L192.032 538.178 L192.032 541.375 L167.92 541.375 L167.92 538.178 Z\" fill=\"#000000\" fill-rule=\"evenodd\" fill-opacity=\"1\" /><path clip-path=\"url(#clip590)\" d=\"M203.504 548.654 L216.764 548.654 L216.764 551.851 L198.934 551.851 L198.934 548.654 Q201.097 546.416 204.821 542.654 Q208.564 538.874 209.523 537.783 Q211.347 535.733 212.062 534.322 Q212.796 532.893 212.796 531.52 Q212.796 529.282 211.216 527.871 Q209.655 526.461 207.134 526.461 Q205.348 526.461 203.354 527.081 Q201.379 527.702 199.122 528.962 L199.122 525.125 Q201.417 524.204 203.41 523.734 Q205.404 523.263 207.059 523.263 Q211.423 523.263 214.018 525.445 Q216.613 527.627 216.613 531.276 Q216.613 533.006 215.955 534.567 Q215.316 536.109 213.604 538.216 Q213.134 538.761 210.614 541.375 Q208.094 543.971 203.504 548.654 Z\" fill=\"#000000\" fill-rule=\"evenodd\" fill-opacity=\"1\" /><path clip-path=\"url(#clip590)\" d=\"M16.4842 1242.26 L16.4842 1212.21 L21.895 1212.21 L21.895 1235.83 L35.9632 1235.83 L35.9632 1213.2 L41.3741 1213.2 L41.3741 1235.83 L58.5933 1235.83 L58.5933 1211.64 L64.0042 1211.64 L64.0042 1242.26 L16.4842 1242.26 Z\" fill=\"#000000\" fill-rule=\"evenodd\" fill-opacity=\"1\" /><path clip-path=\"url(#clip590)\" d=\"M33.8307 1180.67 Q33.2578 1181.65 33.0032 1182.83 Q32.7167 1183.98 32.7167 1185.38 Q32.7167 1190.34 35.9632 1193.02 Q39.1779 1195.66 45.2253 1195.66 L64.0042 1195.66 L64.0042 1201.55 L28.3562 1201.55 L28.3562 1195.66 L33.8944 1195.66 Q30.6479 1193.81 29.0883 1190.85 Q27.4968 1187.89 27.4968 1183.66 Q27.4968 1183.05 27.5923 1182.32 Q27.656 1181.59 27.8151 1180.7 L33.8307 1180.67 Z\" fill=\"#000000\" fill-rule=\"evenodd\" fill-opacity=\"1\" /><path clip-path=\"url(#clip590)\" d=\"M33.8307 1155.01 Q33.2578 1156 33.0032 1157.18 Q32.7167 1158.32 32.7167 1159.72 Q32.7167 1164.69 35.9632 1167.36 Q39.1779 1170 45.2253 1170 L64.0042 1170 L64.0042 1175.89 L28.3562 1175.89 L28.3562 1170 L33.8944 1170 Q30.6479 1168.16 29.0883 1165.2 Q27.4968 1162.24 27.4968 1158.01 Q27.4968 1157.4 27.5923 1156.67 Q27.656 1155.94 27.8151 1155.05 L33.8307 1155.01 Z\" fill=\"#000000\" fill-rule=\"evenodd\" fill-opacity=\"1\" /><path clip-path=\"url(#clip590)\" d=\"M32.4621 1136.49 Q32.4621 1141.2 36.1542 1143.94 Q39.8145 1146.67 46.212 1146.67 Q52.6095 1146.67 56.3017 1143.97 Q59.9619 1141.23 59.9619 1136.49 Q59.9619 1131.81 56.2698 1129.07 Q52.5777 1126.34 46.212 1126.34 Q39.8781 1126.34 36.186 1129.07 Q32.4621 1131.81 32.4621 1136.49 M27.4968 1136.49 Q27.4968 1128.85 32.4621 1124.49 Q37.4273 1120.13 46.212 1120.13 Q54.9649 1120.13 59.9619 1124.49 Q64.9272 1128.85 64.9272 1136.49 Q64.9272 1144.16 59.9619 1148.52 Q54.9649 1152.85 46.212 1152.85 Q37.4273 1152.85 32.4621 1148.52 Q27.4968 1144.16 27.4968 1136.49 Z\" fill=\"#000000\" fill-rule=\"evenodd\" fill-opacity=\"1\" /><path clip-path=\"url(#clip590)\" d=\"M33.8307 1089.77 Q33.2578 1090.75 33.0032 1091.93 Q32.7167 1093.08 32.7167 1094.48 Q32.7167 1099.44 35.9632 1102.11 Q39.1779 1104.76 45.2253 1104.76 L64.0042 1104.76 L64.0042 1110.64 L28.3562 1110.64 L28.3562 1104.76 L33.8944 1104.76 Q30.6479 1102.91 29.0883 1099.95 Q27.4968 1096.99 27.4968 1092.76 Q27.4968 1092.15 27.5923 1091.42 Q27.656 1090.69 27.8151 1089.8 L33.8307 1089.77 Z\" fill=\"#000000\" fill-rule=\"evenodd\" fill-opacity=\"1\" /><path clip-path=\"url(#clip590)\" d=\"M44.7161 1054.56 L47.5806 1054.56 L47.5806 1081.49 Q53.6281 1081.11 56.8109 1077.86 Q59.9619 1074.58 59.9619 1068.76 Q59.9619 1065.38 59.1344 1062.23 Q58.3069 1059.05 56.6518 1055.93 L62.1899 1055.93 Q63.5267 1059.08 64.227 1062.39 Q64.9272 1065.7 64.9272 1069.11 Q64.9272 1077.64 59.9619 1082.64 Q54.9967 1087.6 46.5303 1087.6 Q37.7774 1087.6 32.6531 1082.89 Q27.4968 1078.15 27.4968 1070.13 Q27.4968 1062.93 32.1438 1058.76 Q36.7589 1054.56 44.7161 1054.56 M42.9973 1060.42 Q38.1912 1060.48 35.3266 1063.12 Q32.4621 1065.73 32.4621 1070.06 Q32.4621 1074.96 35.2312 1077.93 Q38.0002 1080.85 43.0292 1081.3 L42.9973 1060.42 Z\" fill=\"#000000\" fill-rule=\"evenodd\" fill-opacity=\"1\" /><path clip-path=\"url(#clip590)\" d=\"M29.4065 1022.23 L34.9447 1022.23 Q33.6716 1024.71 33.035 1027.38 Q32.3984 1030.05 32.3984 1032.92 Q32.3984 1037.28 33.7352 1039.48 Q35.072 1041.64 37.7456 1041.64 Q39.7826 1041.64 40.9603 1040.08 Q42.1061 1038.52 43.1565 1033.81 L43.6021 1031.81 Q44.9389 1025.57 47.3897 1022.96 Q49.8086 1020.32 54.1691 1020.32 Q59.1344 1020.32 62.0308 1024.26 Q64.9272 1028.18 64.9272 1035.05 Q64.9272 1037.92 64.3543 1041.04 Q63.8132 1044.12 62.6992 1047.56 L56.6518 1047.56 Q58.3387 1044.31 59.198 1041.16 Q60.0256 1038.01 60.0256 1034.92 Q60.0256 1030.79 58.6251 1028.56 Q57.1929 1026.33 54.6147 1026.33 Q52.2276 1026.33 50.9545 1027.95 Q49.6813 1029.55 48.5037 1034.99 L48.0262 1037.03 Q46.8804 1042.47 44.5251 1044.89 Q42.138 1047.31 38.0002 1047.31 Q32.9713 1047.31 30.2341 1043.74 Q27.4968 1040.18 27.4968 1033.62 Q27.4968 1030.37 27.9743 1027.51 Q28.4517 1024.64 29.4065 1022.23 Z\" fill=\"#000000\" fill-rule=\"evenodd\" fill-opacity=\"1\" /><path clip-path=\"url(#clip590)\" d=\"M44.7161 959.778 L47.5806 959.778 L47.5806 986.704 Q53.6281 986.323 56.8109 983.076 Q59.9619 979.798 59.9619 973.973 Q59.9619 970.599 59.1344 967.448 Q58.3069 964.265 56.6518 961.146 L62.1899 961.146 Q63.5267 964.297 64.227 967.607 Q64.9272 970.918 64.9272 974.323 Q64.9272 982.853 59.9619 987.85 Q54.9967 992.816 46.5303 992.816 Q37.7774 992.816 32.6531 988.105 Q27.4968 983.362 27.4968 975.342 Q27.4968 968.148 32.1438 963.979 Q36.7589 959.778 44.7161 959.778 M42.9973 965.634 Q38.1912 965.698 35.3266 968.339 Q32.4621 970.949 32.4621 975.278 Q32.4621 980.18 35.2312 983.14 Q38.0002 986.068 43.0292 986.513 L42.9973 965.634 Z\" fill=\"#000000\" fill-rule=\"evenodd\" fill-opacity=\"1\" /><path clip-path=\"url(#clip590)\" d=\"M42.4881 920.533 L64.0042 920.533 L64.0042 926.389 L42.679 926.389 Q37.6183 926.389 35.1038 928.363 Q32.5894 930.336 32.5894 934.283 Q32.5894 939.025 35.6131 941.763 Q38.6368 944.5 43.8567 944.5 L64.0042 944.5 L64.0042 950.388 L28.3562 950.388 L28.3562 944.5 L33.8944 944.5 Q30.6797 942.399 29.0883 939.566 Q27.4968 936.702 27.4968 932.978 Q27.4968 926.835 31.3163 923.684 Q35.1038 920.533 42.4881 920.533 Z\" fill=\"#000000\" fill-rule=\"evenodd\" fill-opacity=\"1\" /><path clip-path=\"url(#clip590)\" d=\"M44.7161 857.64 L47.5806 857.64 L47.5806 884.567 Q53.6281 884.185 56.8109 880.938 Q59.9619 877.66 59.9619 871.835 Q59.9619 868.461 59.1344 865.31 Q58.3069 862.128 56.6518 859.008 L62.1899 859.008 Q63.5267 862.159 64.227 865.47 Q64.9272 868.78 64.9272 872.185 Q64.9272 880.715 59.9619 885.713 Q54.9967 890.678 46.5303 890.678 Q37.7774 890.678 32.6531 885.967 Q27.4968 881.225 27.4968 873.204 Q27.4968 866.011 32.1438 861.841 Q36.7589 857.64 44.7161 857.64 M42.9973 863.496 Q38.1912 863.56 35.3266 866.202 Q32.4621 868.812 32.4621 873.14 Q32.4621 878.042 35.2312 881.002 Q38.0002 883.93 43.0292 884.376 L42.9973 863.496 Z\" fill=\"#000000\" fill-rule=\"evenodd\" fill-opacity=\"1\" /><path clip-path=\"url(#clip590)\" d=\"M29.4065 825.302 L34.9447 825.302 Q33.6716 827.785 33.035 830.458 Q32.3984 833.132 32.3984 835.996 Q32.3984 840.357 33.7352 842.553 Q35.072 844.717 37.7456 844.717 Q39.7826 844.717 40.9603 843.158 Q42.1061 841.598 43.1565 836.888 L43.6021 834.882 Q44.9389 828.644 47.3897 826.034 Q49.8086 823.392 54.1691 823.392 Q59.1344 823.392 62.0308 827.339 Q64.9272 831.254 64.9272 838.129 Q64.9272 840.993 64.3543 844.113 Q63.8132 847.2 62.6992 850.637 L56.6518 850.637 Q58.3387 847.391 59.198 844.24 Q60.0256 841.089 60.0256 838.002 Q60.0256 833.864 58.6251 831.636 Q57.1929 829.408 54.6147 829.408 Q52.2276 829.408 50.9545 831.031 Q49.6813 832.623 48.5037 838.065 L48.0262 840.102 Q46.8804 845.545 44.5251 847.964 Q42.138 850.383 38.0002 850.383 Q32.9713 850.383 30.2341 846.818 Q27.4968 843.253 27.4968 836.697 Q27.4968 833.45 27.9743 830.586 Q28.4517 827.721 29.4065 825.302 Z\" fill=\"#000000\" fill-rule=\"evenodd\" fill-opacity=\"1\" /><path clip-path=\"url(#clip590)\" d=\"M29.7248 788.413 L35.1993 788.413 Q33.8307 790.895 33.1623 793.41 Q32.4621 795.892 32.4621 798.439 Q32.4621 804.136 36.0905 807.287 Q39.6872 810.438 46.212 810.438 Q52.7369 810.438 56.3653 807.287 Q59.9619 804.136 59.9619 798.439 Q59.9619 795.892 59.2935 793.41 Q58.5933 790.895 57.2247 788.413 L62.6355 788.413 Q63.7814 790.864 64.3543 793.505 Q64.9272 796.115 64.9272 799.075 Q64.9272 807.128 59.8664 811.87 Q54.8057 816.613 46.212 816.613 Q37.491 816.613 32.4939 811.839 Q27.4968 807.032 27.4968 798.693 Q27.4968 795.988 28.0697 793.41 Q28.6108 790.832 29.7248 788.413 Z\" fill=\"#000000\" fill-rule=\"evenodd\" fill-opacity=\"1\" /><path clip-path=\"url(#clip590)\" d=\"M46.0847 762.027 Q46.0847 769.125 47.7079 771.862 Q49.3312 774.599 53.2461 774.599 Q56.3653 774.599 58.2114 772.562 Q60.0256 770.493 60.0256 766.96 Q60.0256 762.091 56.5881 759.162 Q53.1188 756.202 47.3897 756.202 L46.0847 756.202 L46.0847 762.027 M43.6657 750.346 L64.0042 750.346 L64.0042 756.202 L58.5933 756.202 Q61.8398 758.207 63.3994 761.199 Q64.9272 764.191 64.9272 768.52 Q64.9272 773.994 61.8716 777.241 Q58.7843 780.456 53.6281 780.456 Q47.6125 780.456 44.5569 776.445 Q41.5014 772.403 41.5014 764.414 L41.5014 756.202 L40.9285 756.202 Q36.8862 756.202 34.6901 758.876 Q32.4621 761.518 32.4621 766.324 Q32.4621 769.379 33.1941 772.276 Q33.9262 775.172 35.3903 777.846 L29.9795 777.846 Q28.7381 774.631 28.1334 771.607 Q27.4968 768.584 27.4968 765.719 Q27.4968 757.985 31.5072 754.165 Q35.5176 750.346 43.6657 750.346 Z\" fill=\"#000000\" fill-rule=\"evenodd\" fill-opacity=\"1\" /><path clip-path=\"url(#clip590)\" d=\"M14.479 738.283 L14.479 732.426 L64.0042 732.426 L64.0042 738.283 L14.479 738.283 Z\" fill=\"#000000\" fill-rule=\"evenodd\" fill-opacity=\"1\" /><path clip-path=\"url(#clip590)\" d=\"M46.0847 703.972 Q46.0847 711.069 47.7079 713.807 Q49.3312 716.544 53.2461 716.544 Q56.3653 716.544 58.2114 714.507 Q60.0256 712.438 60.0256 708.905 Q60.0256 704.035 56.5881 701.107 Q53.1188 698.147 47.3897 698.147 L46.0847 698.147 L46.0847 703.972 M43.6657 692.291 L64.0042 692.291 L64.0042 698.147 L58.5933 698.147 Q61.8398 700.152 63.3994 703.144 Q64.9272 706.136 64.9272 710.465 Q64.9272 715.939 61.8716 719.186 Q58.7843 722.4 53.6281 722.4 Q47.6125 722.4 44.5569 718.39 Q41.5014 714.348 41.5014 706.359 L41.5014 698.147 L40.9285 698.147 Q36.8862 698.147 34.6901 700.821 Q32.4621 703.462 32.4621 708.268 Q32.4621 711.324 33.1941 714.22 Q33.9262 717.117 35.3903 719.79 L29.9795 719.79 Q28.7381 716.576 28.1334 713.552 Q27.4968 710.528 27.4968 707.664 Q27.4968 699.929 31.5072 696.11 Q35.5176 692.291 43.6657 692.291 Z\" fill=\"#000000\" fill-rule=\"evenodd\" fill-opacity=\"1\" /><path clip-path=\"url(#clip590)\" d=\"M14.479 659.507 L14.479 653.651 L64.0042 653.651 L64.0042 659.507 L14.479 659.507 Z\" fill=\"#000000\" fill-rule=\"evenodd\" fill-opacity=\"1\" /><path clip-path=\"url(#clip590)\" d=\"M32.4621 627.583 Q32.4621 632.294 36.1542 635.031 Q39.8145 637.768 46.212 637.768 Q52.6095 637.768 56.3017 635.063 Q59.9619 632.326 59.9619 627.583 Q59.9619 622.904 56.2698 620.167 Q52.5777 617.43 46.212 617.43 Q39.8781 617.43 36.186 620.167 Q32.4621 622.904 32.4621 627.583 M27.4968 627.583 Q27.4968 619.944 32.4621 615.584 Q37.4273 611.223 46.212 611.223 Q54.9649 611.223 59.9619 615.584 Q64.9272 619.944 64.9272 627.583 Q64.9272 635.254 59.9619 639.614 Q54.9649 643.943 46.212 643.943 Q37.4273 643.943 32.4621 639.614 Q27.4968 635.254 27.4968 627.583 Z\" fill=\"#000000\" fill-rule=\"evenodd\" fill-opacity=\"1\" /><path clip-path=\"url(#clip590)\" d=\"M45.7664 578.058 Q39.4007 578.058 35.8996 580.7 Q32.3984 583.31 32.3984 588.052 Q32.3984 592.763 35.8996 595.404 Q39.4007 598.014 45.7664 598.014 Q52.1003 598.014 55.6014 595.404 Q59.1026 592.763 59.1026 588.052 Q59.1026 583.31 55.6014 580.7 Q52.1003 578.058 45.7664 578.058 M59.58 572.201 Q68.683 572.201 73.1071 576.244 Q77.5631 580.286 77.5631 588.625 Q77.5631 591.712 77.0857 594.45 Q76.6401 597.187 75.6852 599.765 L69.9879 599.765 Q71.3884 597.187 72.0568 594.672 Q72.7252 592.158 72.7252 589.548 Q72.7252 583.787 69.7015 580.923 Q66.7096 578.058 60.6303 578.058 L57.7339 578.058 Q60.885 579.872 62.4446 582.705 Q64.0042 585.538 64.0042 589.484 Q64.0042 596.041 59.0071 600.051 Q54.01 604.062 45.7664 604.062 Q37.491 604.062 32.4939 600.051 Q27.4968 596.041 27.4968 589.484 Q27.4968 585.538 29.0564 582.705 Q30.616 579.872 33.7671 578.058 L28.3562 578.058 L28.3562 572.201 L59.58 572.201 Z\" fill=\"#000000\" fill-rule=\"evenodd\" fill-opacity=\"1\" /><path clip-path=\"url(#clip590)\" d=\"M46.0847 543.938 Q46.0847 551.036 47.7079 553.773 Q49.3312 556.51 53.2461 556.51 Q56.3653 556.51 58.2114 554.473 Q60.0256 552.404 60.0256 548.871 Q60.0256 544.001 56.5881 541.073 Q53.1188 538.113 47.3897 538.113 L46.0847 538.113 L46.0847 543.938 M43.6657 532.257 L64.0042 532.257 L64.0042 538.113 L58.5933 538.113 Q61.8398 540.118 63.3994 543.11 Q64.9272 546.102 64.9272 550.431 Q64.9272 555.905 61.8716 559.152 Q58.7843 562.366 53.6281 562.366 Q47.6125 562.366 44.5569 558.356 Q41.5014 554.314 41.5014 546.325 L41.5014 538.113 L40.9285 538.113 Q36.8862 538.113 34.6901 540.787 Q32.4621 543.428 32.4621 548.235 Q32.4621 551.29 33.1941 554.187 Q33.9262 557.083 35.3903 559.757 L29.9795 559.757 Q28.7381 556.542 28.1334 553.518 Q27.4968 550.494 27.4968 547.63 Q27.4968 539.896 31.5072 536.076 Q35.5176 532.257 43.6657 532.257 Z\" fill=\"#000000\" fill-rule=\"evenodd\" fill-opacity=\"1\" /><path clip-path=\"url(#clip590)\" d=\"M33.8307 499.537 Q33.2578 500.524 33.0032 501.701 Q32.7167 502.847 32.7167 504.248 Q32.7167 509.213 35.9632 511.886 Q39.1779 514.528 45.2253 514.528 L64.0042 514.528 L64.0042 520.416 L28.3562 520.416 L28.3562 514.528 L33.8944 514.528 Q30.6479 512.682 29.0883 509.722 Q27.4968 506.762 27.4968 502.529 Q27.4968 501.924 27.5923 501.192 Q27.656 500.46 27.8151 499.569 L33.8307 499.537 Z\" fill=\"#000000\" fill-rule=\"evenodd\" fill-opacity=\"1\" /><path clip-path=\"url(#clip590)\" d=\"M28.3562 493.394 L28.3562 487.538 L64.0042 487.538 L64.0042 493.394 L28.3562 493.394 M14.479 493.394 L14.479 487.538 L21.895 487.538 L21.895 493.394 L14.479 493.394 Z\" fill=\"#000000\" fill-rule=\"evenodd\" fill-opacity=\"1\" /><path clip-path=\"url(#clip590)\" d=\"M18.2347 469.491 L28.3562 469.491 L28.3562 457.428 L32.9077 457.428 L32.9077 469.491 L52.2594 469.491 Q56.6199 469.491 57.8613 468.313 Q59.1026 467.104 59.1026 463.443 L59.1026 457.428 L64.0042 457.428 L64.0042 463.443 Q64.0042 470.223 61.4897 472.801 Q58.9434 475.379 52.2594 475.379 L32.9077 475.379 L32.9077 479.676 L28.3562 479.676 L28.3562 475.379 L18.2347 475.379 L18.2347 469.491 Z\" fill=\"#000000\" fill-rule=\"evenodd\" fill-opacity=\"1\" /><path clip-path=\"url(#clip590)\" d=\"M35.1993 421.971 Q31.2526 419.775 29.3747 416.719 Q27.4968 413.664 27.4968 409.526 Q27.4968 403.956 31.4117 400.932 Q35.2948 397.908 42.4881 397.908 L64.0042 397.908 L64.0042 403.797 L42.679 403.797 Q37.5546 403.797 35.072 405.611 Q32.5894 407.425 32.5894 411.149 Q32.5894 415.701 35.6131 418.342 Q38.6368 420.984 43.8567 420.984 L64.0042 420.984 L64.0042 426.872 L42.679 426.872 Q37.5228 426.872 35.072 428.687 Q32.5894 430.501 32.5894 434.288 Q32.5894 438.776 35.6449 441.418 Q38.6686 444.06 43.8567 444.06 L64.0042 444.06 L64.0042 449.948 L28.3562 449.948 L28.3562 444.06 L33.8944 444.06 Q30.616 442.055 29.0564 439.254 Q27.4968 436.453 27.4968 432.602 Q27.4968 428.718 29.4702 426.013 Q31.4436 423.276 35.1993 421.971 Z\" fill=\"#000000\" fill-rule=\"evenodd\" fill-opacity=\"1\" /><path clip-path=\"url(#clip590)\" d=\"M28.3562 386.227 L28.3562 380.371 L64.0042 380.371 L64.0042 386.227 L28.3562 386.227 M14.479 386.227 L14.479 380.371 L21.895 380.371 L21.895 386.227 L14.479 386.227 Z\" fill=\"#000000\" fill-rule=\"evenodd\" fill-opacity=\"1\" /><path clip-path=\"url(#clip590)\" d=\"M29.7248 342.463 L35.1993 342.463 Q33.8307 344.946 33.1623 347.46 Q32.4621 349.943 32.4621 352.489 Q32.4621 358.186 36.0905 361.337 Q39.6872 364.488 46.212 364.488 Q52.7369 364.488 56.3653 361.337 Q59.9619 358.186 59.9619 352.489 Q59.9619 349.943 59.2935 347.46 Q58.5933 344.946 57.2247 342.463 L62.6355 342.463 Q63.7814 344.914 64.3543 347.556 Q64.9272 350.166 64.9272 353.126 Q64.9272 361.178 59.8664 365.921 Q54.8057 370.663 46.212 370.663 Q37.491 370.663 32.4939 365.889 Q27.4968 361.083 27.4968 352.744 Q27.4968 350.038 28.0697 347.46 Q28.6108 344.882 29.7248 342.463 Z\" fill=\"#000000\" fill-rule=\"evenodd\" fill-opacity=\"1\" /><path clip-path=\"url(#clip590)\" d=\"M46.0847 316.077 Q46.0847 323.175 47.7079 325.912 Q49.3312 328.65 53.2461 328.65 Q56.3653 328.65 58.2114 326.613 Q60.0256 324.544 60.0256 321.011 Q60.0256 316.141 56.5881 313.213 Q53.1188 310.253 47.3897 310.253 L46.0847 310.253 L46.0847 316.077 M43.6657 304.396 L64.0042 304.396 L64.0042 310.253 L58.5933 310.253 Q61.8398 312.258 63.3994 315.25 Q64.9272 318.242 64.9272 322.57 Q64.9272 328.045 61.8716 331.291 Q58.7843 334.506 53.6281 334.506 Q47.6125 334.506 44.5569 330.496 Q41.5014 326.453 41.5014 318.464 L41.5014 310.253 L40.9285 310.253 Q36.8862 310.253 34.6901 312.926 Q32.4621 315.568 32.4621 320.374 Q32.4621 323.43 33.1941 326.326 Q33.9262 329.222 35.3903 331.896 L29.9795 331.896 Q28.7381 328.681 28.1334 325.658 Q27.4968 322.634 27.4968 319.769 Q27.4968 312.035 31.5072 308.216 Q35.5176 304.396 43.6657 304.396 Z\" fill=\"#000000\" fill-rule=\"evenodd\" fill-opacity=\"1\" /><path clip-path=\"url(#clip590)\" d=\"M859.368 12.096 L897.609 12.096 L897.609 18.9825 L867.551 18.9825 L867.551 36.8875 L896.353 36.8875 L896.353 43.7741 L867.551 43.7741 L867.551 65.6895 L898.338 65.6895 L898.338 72.576 L859.368 72.576 L859.368 12.096 Z\" fill=\"#000000\" fill-rule=\"evenodd\" fill-opacity=\"1\" /><path clip-path=\"url(#clip590)\" d=\"M937.753 34.1734 Q936.497 33.4443 934.999 33.1202 Q933.54 32.7556 931.758 32.7556 Q925.438 32.7556 922.036 36.8875 Q918.673 40.9789 918.673 48.6757 L918.673 72.576 L911.179 72.576 L911.179 27.2059 L918.673 27.2059 L918.673 34.2544 Q921.023 30.1225 924.79 28.1376 Q928.558 26.1121 933.945 26.1121 Q934.715 26.1121 935.647 26.2337 Q936.578 26.3147 937.713 26.5172 L937.753 34.1734 Z\" fill=\"#000000\" fill-rule=\"evenodd\" fill-opacity=\"1\" /><path clip-path=\"url(#clip590)\" d=\"M970.403 34.1734 Q969.148 33.4443 967.649 33.1202 Q966.191 32.7556 964.408 32.7556 Q958.089 32.7556 954.686 36.8875 Q951.324 40.9789 951.324 48.6757 L951.324 72.576 L943.83 72.576 L943.83 27.2059 L951.324 27.2059 L951.324 34.2544 Q953.673 30.1225 957.441 28.1376 Q961.208 26.1121 966.596 26.1121 Q967.365 26.1121 968.297 26.2337 Q969.229 26.3147 970.363 26.5172 L970.403 34.1734 Z\" fill=\"#000000\" fill-rule=\"evenodd\" fill-opacity=\"1\" /><path clip-path=\"url(#clip590)\" d=\"M993.98 32.4315 Q987.984 32.4315 984.501 37.1306 Q981.017 41.7891 981.017 49.9314 Q981.017 58.0738 984.46 62.7728 Q987.944 67.4314 993.98 67.4314 Q999.935 67.4314 1003.42 62.7323 Q1006.9 58.0333 1006.9 49.9314 Q1006.9 41.8701 1003.42 37.1711 Q999.935 32.4315 993.98 32.4315 M993.98 26.1121 Q1003.7 26.1121 1009.25 32.4315 Q1014.8 38.7509 1014.8 49.9314 Q1014.8 61.0714 1009.25 67.4314 Q1003.7 73.7508 993.98 73.7508 Q984.217 73.7508 978.667 67.4314 Q973.158 61.0714 973.158 49.9314 Q973.158 38.7509 978.667 32.4315 Q984.217 26.1121 993.98 26.1121 Z\" fill=\"#000000\" fill-rule=\"evenodd\" fill-opacity=\"1\" /><path clip-path=\"url(#clip590)\" d=\"M1053.45 34.1734 Q1052.19 33.4443 1050.69 33.1202 Q1049.23 32.7556 1047.45 32.7556 Q1041.13 32.7556 1037.73 36.8875 Q1034.37 40.9789 1034.37 48.6757 L1034.37 72.576 L1026.87 72.576 L1026.87 27.2059 L1034.37 27.2059 L1034.37 34.2544 Q1036.72 30.1225 1040.48 28.1376 Q1044.25 26.1121 1049.64 26.1121 Q1050.41 26.1121 1051.34 26.2337 Q1052.27 26.3147 1053.41 26.5172 L1053.45 34.1734 Z\" fill=\"#000000\" fill-rule=\"evenodd\" fill-opacity=\"1\" /><path clip-path=\"url(#clip590)\" d=\"M1098.25 48.0275 L1098.25 51.6733 L1063.98 51.6733 Q1064.47 59.3701 1068.6 63.421 Q1072.77 67.4314 1080.18 67.4314 Q1084.48 67.4314 1088.49 66.3781 Q1092.54 65.3249 1096.51 63.2184 L1096.51 70.267 Q1092.5 71.9684 1088.28 72.8596 Q1084.07 73.7508 1079.74 73.7508 Q1068.88 73.7508 1062.52 67.4314 Q1056.2 61.1119 1056.2 50.3365 Q1056.2 39.1965 1062.2 32.6746 Q1068.23 26.1121 1078.44 26.1121 Q1087.6 26.1121 1092.9 32.0264 Q1098.25 37.9003 1098.25 48.0275 M1090.8 45.84 Q1090.72 39.7232 1087.35 36.0774 Q1084.03 32.4315 1078.52 32.4315 Q1072.28 32.4315 1068.52 35.9558 Q1064.79 39.4801 1064.22 45.8805 L1090.8 45.84 Z\" fill=\"#000000\" fill-rule=\"evenodd\" fill-opacity=\"1\" /><path clip-path=\"url(#clip590)\" d=\"M1139.41 28.5427 L1139.41 35.5912 Q1136.25 33.9709 1132.84 33.1607 Q1129.44 32.3505 1125.8 32.3505 Q1120.25 32.3505 1117.45 34.0519 Q1114.7 35.7533 1114.7 39.156 Q1114.7 41.7486 1116.68 43.2475 Q1118.67 44.7058 1124.66 46.0426 L1127.21 46.6097 Q1135.15 48.3111 1138.48 51.4303 Q1141.84 54.509 1141.84 60.0587 Q1141.84 66.3781 1136.81 70.0644 Q1131.83 73.7508 1123.08 73.7508 Q1119.44 73.7508 1115.47 73.0216 Q1111.54 72.3329 1107.16 70.9151 L1107.16 63.2184 Q1111.29 65.3654 1115.3 66.4591 Q1119.31 67.5124 1123.24 67.5124 Q1128.51 67.5124 1131.35 65.73 Q1134.18 63.9071 1134.18 60.6258 Q1134.18 57.5877 1132.12 55.9673 Q1130.09 54.3469 1123.16 52.8481 L1120.57 52.2405 Q1113.64 50.7821 1110.56 47.7845 Q1107.49 44.7463 1107.49 39.4801 Q1107.49 33.0797 1112.02 29.5959 Q1116.56 26.1121 1124.9 26.1121 Q1129.04 26.1121 1132.68 26.7198 Q1136.33 27.3274 1139.41 28.5427 Z\" fill=\"#000000\" fill-rule=\"evenodd\" fill-opacity=\"1\" /><path clip-path=\"url(#clip590)\" d=\"M1174.73 27.2059 L1182.63 27.2059 L1196.81 65.2844 L1210.99 27.2059 L1218.89 27.2059 L1201.87 72.576 L1191.74 72.576 L1174.73 27.2059 Z\" fill=\"#000000\" fill-rule=\"evenodd\" fill-opacity=\"1\" /><path clip-path=\"url(#clip590)\" d=\"M1258.1 28.5427 L1258.1 35.5912 Q1254.94 33.9709 1251.54 33.1607 Q1248.13 32.3505 1244.49 32.3505 Q1238.94 32.3505 1236.14 34.0519 Q1233.39 35.7533 1233.39 39.156 Q1233.39 41.7486 1235.37 43.2475 Q1237.36 44.7058 1243.35 46.0426 L1245.91 46.6097 Q1253.85 48.3111 1257.17 51.4303 Q1260.53 54.509 1260.53 60.0587 Q1260.53 66.3781 1255.51 70.0644 Q1250.52 73.7508 1241.77 73.7508 Q1238.13 73.7508 1234.16 73.0216 Q1230.23 72.3329 1225.85 70.9151 L1225.85 63.2184 Q1229.99 65.3654 1234 66.4591 Q1238.01 67.5124 1241.94 67.5124 Q1247.2 67.5124 1250.04 65.73 Q1252.87 63.9071 1252.87 60.6258 Q1252.87 57.5877 1250.81 55.9673 Q1248.78 54.3469 1241.85 52.8481 L1239.26 52.2405 Q1232.33 50.7821 1229.26 47.7845 Q1226.18 44.7463 1226.18 39.4801 Q1226.18 33.0797 1230.71 29.5959 Q1235.25 26.1121 1243.6 26.1121 Q1247.73 26.1121 1251.37 26.7198 Q1255.02 27.3274 1258.1 28.5427 Z\" fill=\"#000000\" fill-rule=\"evenodd\" fill-opacity=\"1\" /><path clip-path=\"url(#clip590)\" d=\"M1299.09 12.096 L1307.28 12.096 L1307.28 72.576 L1299.09 72.576 L1299.09 12.096 Z\" fill=\"#000000\" fill-rule=\"evenodd\" fill-opacity=\"1\" /><path clip-path=\"url(#clip590)\" d=\"M1330.61 14.324 L1330.61 27.2059 L1345.96 27.2059 L1345.96 32.9987 L1330.61 32.9987 L1330.61 57.6282 Q1330.61 63.1779 1332.11 64.7578 Q1333.65 66.3376 1338.31 66.3376 L1345.96 66.3376 L1345.96 72.576 L1338.31 72.576 Q1329.68 72.576 1326.4 69.3758 Q1323.12 66.1351 1323.12 57.6282 L1323.12 32.9987 L1317.65 32.9987 L1317.65 27.2059 L1323.12 27.2059 L1323.12 14.324 L1330.61 14.324 Z\" fill=\"#000000\" fill-rule=\"evenodd\" fill-opacity=\"1\" /><path clip-path=\"url(#clip590)\" d=\"M1394.57 48.0275 L1394.57 51.6733 L1360.3 51.6733 Q1360.79 59.3701 1364.92 63.421 Q1369.09 67.4314 1376.51 67.4314 Q1380.8 67.4314 1384.81 66.3781 Q1388.86 65.3249 1392.83 63.2184 L1392.83 70.267 Q1388.82 71.9684 1384.61 72.8596 Q1380.4 73.7508 1376.06 73.7508 Q1365.2 73.7508 1358.84 67.4314 Q1352.53 61.1119 1352.53 50.3365 Q1352.53 39.1965 1358.52 32.6746 Q1364.56 26.1121 1374.76 26.1121 Q1383.92 26.1121 1389.23 32.0264 Q1394.57 37.9003 1394.57 48.0275 M1387.12 45.84 Q1387.04 39.7232 1383.68 36.0774 Q1380.35 32.4315 1374.85 32.4315 Q1368.61 32.4315 1364.84 35.9558 Q1361.11 39.4801 1360.55 45.8805 L1387.12 45.84 Z\" fill=\"#000000\" fill-rule=\"evenodd\" fill-opacity=\"1\" /><path clip-path=\"url(#clip590)\" d=\"M1433.1 34.1734 Q1431.84 33.4443 1430.34 33.1202 Q1428.88 32.7556 1427.1 32.7556 Q1420.78 32.7556 1417.38 36.8875 Q1414.02 40.9789 1414.02 48.6757 L1414.02 72.576 L1406.52 72.576 L1406.52 27.2059 L1414.02 27.2059 L1414.02 34.2544 Q1416.37 30.1225 1420.13 28.1376 Q1423.9 26.1121 1429.29 26.1121 Q1430.06 26.1121 1430.99 26.2337 Q1431.92 26.3147 1433.06 26.5172 L1433.1 34.1734 Z\" fill=\"#000000\" fill-rule=\"evenodd\" fill-opacity=\"1\" /><path clip-path=\"url(#clip590)\" d=\"M1461.54 49.7694 Q1452.5 49.7694 1449.02 51.8354 Q1445.53 53.9013 1445.53 58.8839 Q1445.53 62.8538 1448.13 65.2034 Q1450.76 67.5124 1455.26 67.5124 Q1461.45 67.5124 1465.18 63.1374 Q1468.95 58.7219 1468.95 51.4303 L1468.95 49.7694 L1461.54 49.7694 M1476.4 46.6907 L1476.4 72.576 L1468.95 72.576 L1468.95 65.6895 Q1466.4 69.8214 1462.59 71.8063 Q1458.78 73.7508 1453.27 73.7508 Q1446.3 73.7508 1442.17 69.8619 Q1438.08 65.9325 1438.08 59.3701 Q1438.08 51.7138 1443.18 47.825 Q1448.33 43.9361 1458.5 43.9361 L1468.95 43.9361 L1468.95 43.2069 Q1468.95 38.0623 1465.55 35.2672 Q1462.18 32.4315 1456.07 32.4315 Q1452.18 32.4315 1448.49 33.3632 Q1444.8 34.295 1441.4 36.1584 L1441.4 29.2718 Q1445.49 27.692 1449.34 26.9223 Q1453.19 26.1121 1456.84 26.1121 Q1466.68 26.1121 1471.54 31.2163 Q1476.4 36.3204 1476.4 46.6907 Z\" fill=\"#000000\" fill-rule=\"evenodd\" fill-opacity=\"1\" /><path clip-path=\"url(#clip590)\" d=\"M1524.41 28.9478 L1524.41 35.9153 Q1521.25 34.1734 1518.05 33.3227 Q1514.89 32.4315 1511.64 32.4315 Q1504.39 32.4315 1500.38 37.0496 Q1496.37 41.6271 1496.37 49.9314 Q1496.37 58.2358 1500.38 62.8538 Q1504.39 67.4314 1511.64 67.4314 Q1514.89 67.4314 1518.05 66.5807 Q1521.25 65.6895 1524.41 63.9476 L1524.41 70.8341 Q1521.29 72.2924 1517.92 73.0216 Q1514.6 73.7508 1510.83 73.7508 Q1500.59 73.7508 1494.55 67.3098 Q1488.51 60.8689 1488.51 49.9314 Q1488.51 38.832 1494.59 32.472 Q1500.71 26.1121 1511.32 26.1121 Q1514.76 26.1121 1518.05 26.8413 Q1521.33 27.5299 1524.41 28.9478 Z\" fill=\"#000000\" fill-rule=\"evenodd\" fill-opacity=\"1\" /><path clip-path=\"url(#clip590)\" d=\"M1537.37 27.2059 L1544.82 27.2059 L1544.82 72.576 L1537.37 72.576 L1537.37 27.2059 M1537.37 9.54393 L1544.82 9.54393 L1544.82 18.9825 L1537.37 18.9825 L1537.37 9.54393 Z\" fill=\"#000000\" fill-rule=\"evenodd\" fill-opacity=\"1\" /><path clip-path=\"url(#clip590)\" d=\"M1578 32.4315 Q1572 32.4315 1568.52 37.1306 Q1565.04 41.7891 1565.04 49.9314 Q1565.04 58.0738 1568.48 62.7728 Q1571.96 67.4314 1578 67.4314 Q1583.95 67.4314 1587.44 62.7323 Q1590.92 58.0333 1590.92 49.9314 Q1590.92 41.8701 1587.44 37.1711 Q1583.95 32.4315 1578 32.4315 M1578 26.1121 Q1587.72 26.1121 1593.27 32.4315 Q1598.82 38.7509 1598.82 49.9314 Q1598.82 61.0714 1593.27 67.4314 Q1587.72 73.7508 1578 73.7508 Q1568.24 73.7508 1562.69 67.4314 Q1557.18 61.0714 1557.18 49.9314 Q1557.18 38.7509 1562.69 32.4315 Q1568.24 26.1121 1578 26.1121 Z\" fill=\"#000000\" fill-rule=\"evenodd\" fill-opacity=\"1\" /><path clip-path=\"url(#clip590)\" d=\"M1648.89 45.1919 L1648.89 72.576 L1641.44 72.576 L1641.44 45.4349 Q1641.44 38.994 1638.92 35.7938 Q1636.41 32.5936 1631.39 32.5936 Q1625.35 32.5936 1621.87 36.4419 Q1618.39 40.2903 1618.39 46.9338 L1618.39 72.576 L1610.89 72.576 L1610.89 27.2059 L1618.39 27.2059 L1618.39 34.2544 Q1621.06 30.163 1624.67 28.1376 Q1628.31 26.1121 1633.05 26.1121 Q1640.87 26.1121 1644.88 30.9732 Q1648.89 35.7938 1648.89 45.1919 Z\" fill=\"#000000\" fill-rule=\"evenodd\" fill-opacity=\"1\" /><path clip-path=\"url(#clip590)\" d=\"M1702.56 48.0275 L1702.56 51.6733 L1668.29 51.6733 Q1668.78 59.3701 1672.91 63.421 Q1677.08 67.4314 1684.5 67.4314 Q1688.79 67.4314 1692.8 66.3781 Q1696.85 65.3249 1700.82 63.2184 L1700.82 70.267 Q1696.81 71.9684 1692.6 72.8596 Q1688.39 73.7508 1684.05 73.7508 Q1673.19 73.7508 1666.83 67.4314 Q1660.52 61.1119 1660.52 50.3365 Q1660.52 39.1965 1666.51 32.6746 Q1672.55 26.1121 1682.75 26.1121 Q1691.91 26.1121 1697.22 32.0264 Q1702.56 37.9003 1702.56 48.0275 M1695.11 45.84 Q1695.03 39.7232 1691.67 36.0774 Q1688.35 32.4315 1682.84 32.4315 Q1676.6 32.4315 1672.83 35.9558 Q1669.1 39.4801 1668.54 45.8805 L1695.11 45.84 Z\" fill=\"#000000\" fill-rule=\"evenodd\" fill-opacity=\"1\" /><path clip-path=\"url(#clip590)\" d=\"M1743.72 28.5427 L1743.72 35.5912 Q1740.56 33.9709 1737.16 33.1607 Q1733.76 32.3505 1730.11 32.3505 Q1724.56 32.3505 1721.77 34.0519 Q1719.01 35.7533 1719.01 39.156 Q1719.01 41.7486 1721 43.2475 Q1722.98 44.7058 1728.98 46.0426 L1731.53 46.6097 Q1739.47 48.3111 1742.79 51.4303 Q1746.15 54.509 1746.15 60.0587 Q1746.15 66.3781 1741.13 70.0644 Q1736.15 73.7508 1727.4 73.7508 Q1723.75 73.7508 1719.78 73.0216 Q1715.85 72.3329 1711.48 70.9151 L1711.48 63.2184 Q1715.61 65.3654 1719.62 66.4591 Q1723.63 67.5124 1727.56 67.5124 Q1732.82 67.5124 1735.66 65.73 Q1738.5 63.9071 1738.5 60.6258 Q1738.5 57.5877 1736.43 55.9673 Q1734.4 54.3469 1727.48 52.8481 L1724.88 52.2405 Q1717.96 50.7821 1714.88 47.7845 Q1711.8 44.7463 1711.8 39.4801 Q1711.8 33.0797 1716.34 29.5959 Q1720.87 26.1121 1729.22 26.1121 Q1733.35 26.1121 1737 26.7198 Q1740.64 27.3274 1743.72 28.5427 Z\" fill=\"#000000\" fill-rule=\"evenodd\" fill-opacity=\"1\" /><circle clip-path=\"url(#clip592)\" cx=\"312.198\" cy=\"160.256\" r=\"14\" fill=\"#009af9\" fill-rule=\"evenodd\" fill-opacity=\"1\" stroke=\"#000000\" stroke-opacity=\"1\" stroke-width=\"3.2\"/>\n",
       "<circle clip-path=\"url(#clip592)\" cx=\"444.273\" cy=\"240.812\" r=\"14\" fill=\"#009af9\" fill-rule=\"evenodd\" fill-opacity=\"1\" stroke=\"#000000\" stroke-opacity=\"1\" stroke-width=\"3.2\"/>\n",
       "<circle clip-path=\"url(#clip592)\" cx=\"576.348\" cy=\"321.368\" r=\"14\" fill=\"#009af9\" fill-rule=\"evenodd\" fill-opacity=\"1\" stroke=\"#000000\" stroke-opacity=\"1\" stroke-width=\"3.2\"/>\n",
       "<circle clip-path=\"url(#clip592)\" cx=\"708.423\" cy=\"401.923\" r=\"14\" fill=\"#009af9\" fill-rule=\"evenodd\" fill-opacity=\"1\" stroke=\"#000000\" stroke-opacity=\"1\" stroke-width=\"3.2\"/>\n",
       "<circle clip-path=\"url(#clip592)\" cx=\"840.498\" cy=\"482.479\" r=\"14\" fill=\"#009af9\" fill-rule=\"evenodd\" fill-opacity=\"1\" stroke=\"#000000\" stroke-opacity=\"1\" stroke-width=\"3.2\"/>\n",
       "<circle clip-path=\"url(#clip592)\" cx=\"972.573\" cy=\"563.035\" r=\"14\" fill=\"#009af9\" fill-rule=\"evenodd\" fill-opacity=\"1\" stroke=\"#000000\" stroke-opacity=\"1\" stroke-width=\"3.2\"/>\n",
       "<circle clip-path=\"url(#clip592)\" cx=\"1104.65\" cy=\"643.59\" r=\"14\" fill=\"#009af9\" fill-rule=\"evenodd\" fill-opacity=\"1\" stroke=\"#000000\" stroke-opacity=\"1\" stroke-width=\"3.2\"/>\n",
       "<circle clip-path=\"url(#clip592)\" cx=\"1236.72\" cy=\"724.146\" r=\"14\" fill=\"#009af9\" fill-rule=\"evenodd\" fill-opacity=\"1\" stroke=\"#000000\" stroke-opacity=\"1\" stroke-width=\"3.2\"/>\n",
       "<circle clip-path=\"url(#clip592)\" cx=\"1368.8\" cy=\"804.701\" r=\"14\" fill=\"#009af9\" fill-rule=\"evenodd\" fill-opacity=\"1\" stroke=\"#000000\" stroke-opacity=\"1\" stroke-width=\"3.2\"/>\n",
       "<circle clip-path=\"url(#clip592)\" cx=\"1500.87\" cy=\"885.257\" r=\"14\" fill=\"#009af9\" fill-rule=\"evenodd\" fill-opacity=\"1\" stroke=\"#000000\" stroke-opacity=\"1\" stroke-width=\"3.2\"/>\n",
       "<circle clip-path=\"url(#clip592)\" cx=\"1632.95\" cy=\"965.813\" r=\"14\" fill=\"#009af9\" fill-rule=\"evenodd\" fill-opacity=\"1\" stroke=\"#000000\" stroke-opacity=\"1\" stroke-width=\"3.2\"/>\n",
       "<circle clip-path=\"url(#clip592)\" cx=\"1765.02\" cy=\"1046.37\" r=\"14\" fill=\"#009af9\" fill-rule=\"evenodd\" fill-opacity=\"1\" stroke=\"#000000\" stroke-opacity=\"1\" stroke-width=\"3.2\"/>\n",
       "<circle clip-path=\"url(#clip592)\" cx=\"1897.1\" cy=\"1126.92\" r=\"14\" fill=\"#009af9\" fill-rule=\"evenodd\" fill-opacity=\"1\" stroke=\"#000000\" stroke-opacity=\"1\" stroke-width=\"3.2\"/>\n",
       "<circle clip-path=\"url(#clip592)\" cx=\"2029.17\" cy=\"1207.48\" r=\"14\" fill=\"#009af9\" fill-rule=\"evenodd\" fill-opacity=\"1\" stroke=\"#000000\" stroke-opacity=\"1\" stroke-width=\"3.2\"/>\n",
       "<circle clip-path=\"url(#clip592)\" cx=\"2161.25\" cy=\"1288.04\" r=\"14\" fill=\"#009af9\" fill-rule=\"evenodd\" fill-opacity=\"1\" stroke=\"#000000\" stroke-opacity=\"1\" stroke-width=\"3.2\"/>\n",
       "<circle clip-path=\"url(#clip592)\" cx=\"2293.32\" cy=\"1368.59\" r=\"14\" fill=\"#009af9\" fill-rule=\"evenodd\" fill-opacity=\"1\" stroke=\"#000000\" stroke-opacity=\"1\" stroke-width=\"3.2\"/>\n",
       "<circle clip-path=\"url(#clip592)\" cx=\"312.198\" cy=\"171.333\" r=\"14\" fill=\"#e26f46\" fill-rule=\"evenodd\" fill-opacity=\"1\" stroke=\"#000000\" stroke-opacity=\"1\" stroke-width=\"3.2\"/>\n",
       "<circle clip-path=\"url(#clip592)\" cx=\"444.273\" cy=\"266.745\" r=\"14\" fill=\"#e26f46\" fill-rule=\"evenodd\" fill-opacity=\"1\" stroke=\"#000000\" stroke-opacity=\"1\" stroke-width=\"3.2\"/>\n",
       "<circle clip-path=\"url(#clip592)\" cx=\"576.348\" cy=\"340.11\" r=\"14\" fill=\"#e26f46\" fill-rule=\"evenodd\" fill-opacity=\"1\" stroke=\"#000000\" stroke-opacity=\"1\" stroke-width=\"3.2\"/>\n",
       "<circle clip-path=\"url(#clip592)\" cx=\"708.423\" cy=\"416.896\" r=\"14\" fill=\"#e26f46\" fill-rule=\"evenodd\" fill-opacity=\"1\" stroke=\"#000000\" stroke-opacity=\"1\" stroke-width=\"3.2\"/>\n",
       "<circle clip-path=\"url(#clip592)\" cx=\"840.498\" cy=\"499.352\" r=\"14\" fill=\"#e26f46\" fill-rule=\"evenodd\" fill-opacity=\"1\" stroke=\"#000000\" stroke-opacity=\"1\" stroke-width=\"3.2\"/>\n",
       "<circle clip-path=\"url(#clip592)\" cx=\"972.573\" cy=\"580.846\" r=\"14\" fill=\"#e26f46\" fill-rule=\"evenodd\" fill-opacity=\"1\" stroke=\"#000000\" stroke-opacity=\"1\" stroke-width=\"3.2\"/>\n",
       "<circle clip-path=\"url(#clip592)\" cx=\"1104.65\" cy=\"660.933\" r=\"14\" fill=\"#e26f46\" fill-rule=\"evenodd\" fill-opacity=\"1\" stroke=\"#000000\" stroke-opacity=\"1\" stroke-width=\"3.2\"/>\n",
       "<circle clip-path=\"url(#clip592)\" cx=\"1236.72\" cy=\"741.723\" r=\"14\" fill=\"#e26f46\" fill-rule=\"evenodd\" fill-opacity=\"1\" stroke=\"#000000\" stroke-opacity=\"1\" stroke-width=\"3.2\"/>\n",
       "<circle clip-path=\"url(#clip592)\" cx=\"1368.8\" cy=\"822.396\" r=\"14\" fill=\"#e26f46\" fill-rule=\"evenodd\" fill-opacity=\"1\" stroke=\"#000000\" stroke-opacity=\"1\" stroke-width=\"3.2\"/>\n",
       "<circle clip-path=\"url(#clip592)\" cx=\"1500.87\" cy=\"903.01\" r=\"14\" fill=\"#e26f46\" fill-rule=\"evenodd\" fill-opacity=\"1\" stroke=\"#000000\" stroke-opacity=\"1\" stroke-width=\"3.2\"/>\n",
       "<circle clip-path=\"url(#clip592)\" cx=\"1632.95\" cy=\"983.595\" r=\"14\" fill=\"#e26f46\" fill-rule=\"evenodd\" fill-opacity=\"1\" stroke=\"#000000\" stroke-opacity=\"1\" stroke-width=\"3.2\"/>\n",
       "<circle clip-path=\"url(#clip592)\" cx=\"1765.02\" cy=\"1064.16\" r=\"14\" fill=\"#e26f46\" fill-rule=\"evenodd\" fill-opacity=\"1\" stroke=\"#000000\" stroke-opacity=\"1\" stroke-width=\"3.2\"/>\n",
       "<circle clip-path=\"url(#clip592)\" cx=\"1897.1\" cy=\"1144.73\" r=\"14\" fill=\"#e26f46\" fill-rule=\"evenodd\" fill-opacity=\"1\" stroke=\"#000000\" stroke-opacity=\"1\" stroke-width=\"3.2\"/>\n",
       "<circle clip-path=\"url(#clip592)\" cx=\"2029.17\" cy=\"1225.29\" r=\"14\" fill=\"#e26f46\" fill-rule=\"evenodd\" fill-opacity=\"1\" stroke=\"#000000\" stroke-opacity=\"1\" stroke-width=\"3.2\"/>\n",
       "<circle clip-path=\"url(#clip592)\" cx=\"2161.25\" cy=\"1305.84\" r=\"14\" fill=\"#e26f46\" fill-rule=\"evenodd\" fill-opacity=\"1\" stroke=\"#000000\" stroke-opacity=\"1\" stroke-width=\"3.2\"/>\n",
       "<circle clip-path=\"url(#clip592)\" cx=\"2293.32\" cy=\"1386.4\" r=\"14\" fill=\"#e26f46\" fill-rule=\"evenodd\" fill-opacity=\"1\" stroke=\"#000000\" stroke-opacity=\"1\" stroke-width=\"3.2\"/>\n",
       "<path clip-path=\"url(#clip590)\" d=\"\n",
       "M1996.99 322.316 L2282.76 322.316 L2282.76 166.796 L1996.99 166.796  Z\n",
       "  \" fill=\"#ffffff\" fill-rule=\"evenodd\" fill-opacity=\"1\"/>\n",
       "<polyline clip-path=\"url(#clip590)\" style=\"stroke:#000000; stroke-linecap:butt; stroke-linejoin:round; stroke-width:4; stroke-opacity:1; fill:none\" points=\"\n",
       "  1996.99,322.316 2282.76,322.316 2282.76,166.796 1996.99,166.796 1996.99,322.316 \n",
       "  \"/>\n",
       "<circle clip-path=\"url(#clip590)\" cx=\"2090.33\" cy=\"218.636\" r=\"23\" fill=\"#009af9\" fill-rule=\"evenodd\" fill-opacity=\"1\" stroke=\"#000000\" stroke-opacity=\"1\" stroke-width=\"5.12\"/>\n",
       "<path clip-path=\"url(#clip590)\" d=\"M2197.5 238.323 Q2195.7 242.953 2193.98 244.365 Q2192.27 245.777 2189.4 245.777 L2186 245.777 L2186 242.212 L2188.5 242.212 Q2190.26 242.212 2191.23 241.379 Q2192.2 240.545 2193.38 237.443 L2194.15 235.499 L2183.66 209.99 L2188.17 209.99 L2196.28 230.268 L2204.38 209.99 L2208.89 209.99 L2197.5 238.323 Z\" fill=\"#000000\" fill-rule=\"evenodd\" fill-opacity=\"1\" /><path clip-path=\"url(#clip590)\" d=\"M2216.18 231.981 L2223.82 231.981 L2223.82 205.615 L2215.51 207.282 L2215.51 203.022 L2223.77 201.356 L2228.45 201.356 L2228.45 231.981 L2236.09 231.981 L2236.09 235.916 L2216.18 235.916 L2216.18 231.981 Z\" fill=\"#000000\" fill-rule=\"evenodd\" fill-opacity=\"1\" /><circle clip-path=\"url(#clip590)\" cx=\"2090.33\" cy=\"270.476\" r=\"23\" fill=\"#e26f46\" fill-rule=\"evenodd\" fill-opacity=\"1\" stroke=\"#000000\" stroke-opacity=\"1\" stroke-width=\"5.12\"/>\n",
       "<path clip-path=\"url(#clip590)\" d=\"M2197.5 290.163 Q2195.7 294.793 2193.98 296.205 Q2192.27 297.617 2189.4 297.617 L2186 297.617 L2186 294.052 L2188.5 294.052 Q2190.26 294.052 2191.23 293.219 Q2192.2 292.385 2193.38 289.283 L2194.15 287.339 L2183.66 261.83 L2188.17 261.83 L2196.28 282.108 L2204.38 261.83 L2208.89 261.83 L2197.5 290.163 Z\" fill=\"#000000\" fill-rule=\"evenodd\" fill-opacity=\"1\" /><path clip-path=\"url(#clip590)\" d=\"M2219.4 283.821 L2235.72 283.821 L2235.72 287.756 L2213.77 287.756 L2213.77 283.821 Q2216.44 281.066 2221.02 276.436 Q2225.63 271.784 2226.81 270.441 Q2229.05 267.918 2229.93 266.182 Q2230.84 264.423 2230.84 262.733 Q2230.84 259.978 2228.89 258.242 Q2226.97 256.506 2223.87 256.506 Q2221.67 256.506 2219.21 257.27 Q2216.78 258.034 2214.01 259.585 L2214.01 254.862 Q2216.83 253.728 2219.28 253.149 Q2221.74 252.571 2223.77 252.571 Q2229.15 252.571 2232.34 255.256 Q2235.53 257.941 2235.53 262.432 Q2235.53 264.561 2234.72 266.483 Q2233.94 268.381 2231.83 270.973 Q2231.25 271.645 2228.15 274.862 Q2225.05 278.057 2219.4 283.821 Z\" fill=\"#000000\" fill-rule=\"evenodd\" fill-opacity=\"1\" /></svg>\n"
      ]
     },
     "execution_count": 676,
     "metadata": {},
     "output_type": "execute_result"
    }
   ],
   "source": [
    "scatter(Vc, yscale=:log10, title=\"Errores vs Iteraciones\", ylabel=\"Errores en escala logaritmica\", xlabel=\"i\")\n",
    "scatter!(Vr)"
   ]
  },
  {
   "cell_type": "markdown",
   "metadata": {},
   "source": [
    "### Problema 2\n",
    "\n",
    "Desarrolle un programa para encontrar la raíz de una función $f$ utilizando el método de Newton (también conocido como Newton-Raphson).\n",
    "El programa debe tomar como datos de entrada la función $f:\\mathbb{R}\\to \\mathbb{R}$, su derivada $f':\\mathbb{R}\\to \\mathbb{R}$, una estimación inicial $p_1$ de la raíz $x$, la tolerancia $\\varepsilon_x$ a la estimación $r_i:=\\frac{|p_{i+1} - p_{i}|}{|p_{i+1}|}$ del error relativo $|x-p_i|/|x|$ en la iteración $i$ para $i=1,2,...,n$, la tolerancia en $\\varepsilon_f$ al valor absoluto de $f_i:=f(p_{i})$ y el número máximo de iteraciones permitido $n_{\\max}$.\n",
    "El programa debe retornar una tupla con las siguientes componentes:\n",
    "\n",
    "* Un booleano indicando si el algoritmo convergió.\n",
    "\n",
    "* Un vector de componentes $p_i$ para $i=1,2,...,n$, donde $n$ es el número de iteraciones realizado por el programa.\n",
    "\n",
    "* Un vector de valores $f_i:=f(p_i)$.\n",
    "\n",
    "* Un vector de estimaciones $c_i:=|p_{i+1}-p_i|$ de errores absolutos $|x-p_i|$.\n",
    "\n",
    "* Un vector de estimaciones $r_i:=c_i/|p_{i+1}|$ de errores relativos $|x-p_i|/|x|$.\n",
    "\n",
    "El programa debe finalizar en la iteración $n$-ésima que satisfaga por vez primera:\n",
    "$$\n",
    "\\left( r_n < \\varepsilon_x \\qquad \\text{AND} \\qquad \n",
    "f_n < \\varepsilon_f \\right) \\qquad \\text{OR} \\qquad\n",
    "n = n_{\\max}\n",
    "$$\n",
    "y debe poder utlizar 13 cifras significativas para las variables reales (ej. `Float64`).\n",
    "\n",
    "Utilice este programa para resolver los incisos 1 y 2 del problema **1.B** usando $p_1=1$ en ambos casos. No hace falta graficar $f(x)$ vs $x$. Compare la cantidad de iteraciones $n$, la cantidad de evaluaciones de la función $f$ y su derivada $f'$ en los dos métodos."
   ]
  },
  {
   "cell_type": "code",
   "execution_count": 5,
   "metadata": {},
   "outputs": [
    {
     "data": {
      "text/plain": [
       "Newton_Raphson (generic function with 1 method)"
      ]
     },
     "execution_count": 5,
     "metadata": {},
     "output_type": "execute_result"
    }
   ],
   "source": [
    "function Newton_Raphson(f,df,p;tol_x=1e-10,tol_f=1e-10,n_max=50)\n",
    "    Vp=zeros(n_max)\n",
    "    Vf=zeros(n_max)\n",
    "    Vc=zeros(n_max)\n",
    "    Vr=zeros(n_max)\n",
    "    for i in 1:n_max\n",
    "        p1=p\n",
    "        p+=-f(p)/df(p)         ###  p=p-f(p)/df(p)\n",
    "        Vp[i]=p\n",
    "        Vf[i]=f(p)\n",
    "        Vc[i]=abs(p-p1)\n",
    "        Vr[i]=Vc[i]/abs(p)\n",
    "        if Vr[i]<tol_x && Vf[i]<tol_f         ### como entiente el programa (P ^ Q) v S ó P ^ (Q v S)\n",
    "            return (true,Vp[1:i],Vf[1:i],Vc[1:i],Vr[1:i])\n",
    "        end\n",
    "    end\n",
    "    return false,Vp,Vf,Vc,Vr\n",
    "end"
   ]
  },
  {
   "cell_type": "code",
   "execution_count": 6,
   "metadata": {},
   "outputs": [
    {
     "data": {
      "text/plain": [
       "(true, [2.0, 1.75, 1.7321428571428572, 1.7320508100147276, 1.7320508075688772, 1.7320508075688774], [1.0, 0.0625, 0.00031887755102077975, 8.47267411785424e-9, -4.440892098500626e-16, 4.440892098500626e-16], [1.0, 0.25, 0.017857142857142794, 9.204712812960203e-5, 2.445850411092465e-9, 2.220446049250313e-16], [0.5, 0.14285714285714285, 0.010309278350515427, 5.3143434128713205e-5, 1.4121123932417916e-9, 1.2819751242557092e-16])"
      ]
     },
     "execution_count": 6,
     "metadata": {},
     "output_type": "execute_result"
    }
   ],
   "source": [
    "f(x)=x^2-3\n",
    "df(x)=2x\n",
    "p=1\n",
    "comv,Vp,Vf,Vc,Vr = Newton_Raphson(f,df,p)"
   ]
  },
  {
   "cell_type": "code",
   "execution_count": 512,
   "metadata": {},
   "outputs": [
    {
     "data": {
      "text/plain": [
       "5-element Vector{Float64}:\n",
       " 2.0\n",
       " 1.75\n",
       " 1.7321428571428572\n",
       " 1.7320508100147276\n",
       " 1.7320508075688772"
      ]
     },
     "execution_count": 512,
     "metadata": {},
     "output_type": "execute_result"
    }
   ],
   "source": [
    "Vp"
   ]
  },
  {
   "cell_type": "markdown",
   "metadata": {},
   "source": [
    "**pn = 1.7320508075688772 con n = 5**"
   ]
  },
  {
   "cell_type": "code",
   "execution_count": 508,
   "metadata": {},
   "outputs": [
    {
     "name": "stdout",
     "output_type": "stream",
     "text": [
      "Error absoluto exacto y Error relativo exacto\n"
     ]
    },
    {
     "data": {
      "text/plain": [
       "(0.0, 0.0)"
      ]
     },
     "execution_count": 508,
     "metadata": {},
     "output_type": "execute_result"
    }
   ],
   "source": [
    "println(\"Error absoluto exacto y Error relativo exacto\")\n",
    "abs(sqrt(3)-1.7320508075688772), abs(sqrt(3)-1.7320508075688772)/1.7320508075688772"
   ]
  },
  {
   "cell_type": "code",
   "execution_count": 509,
   "metadata": {},
   "outputs": [
    {
     "data": {
      "text/plain": [
       "0.0"
      ]
     },
     "execution_count": 509,
     "metadata": {},
     "output_type": "execute_result"
    }
   ],
   "source": [
    "sqrt(3)-Vp[5]"
   ]
  },
  {
   "cell_type": "markdown",
   "metadata": {},
   "source": [
    "**Es igual a la aproximacion de Julia**"
   ]
  },
  {
   "cell_type": "code",
   "execution_count": null,
   "metadata": {},
   "outputs": [],
   "source": []
  },
  {
   "cell_type": "code",
   "execution_count": null,
   "metadata": {},
   "outputs": [],
   "source": []
  },
  {
   "cell_type": "code",
   "execution_count": 525,
   "metadata": {},
   "outputs": [
    {
     "data": {
      "text/plain": [
       "(true, [1.3104780300916217, 1.2239290964998213, 1.1760509000038353, 1.1659265083113628, 1.1655616363485986, 1.1655611852078998], [1.133327685248926, 0.31852867701817456, 0.048207117932219656, 0.001621894244293376, 2.000423291459441e-6, 3.0526692285093304e-12], [0.31047803009162167, 0.08654893359180038, 0.047878196495986014, 0.010124391692472479, 0.00036487196276424605, 4.5114069879836904e-7], [0.23691967584524457, 0.07071400936484969, 0.040710990056493195, 0.008683559058225598, 0.0003130439020859463, 3.8705878723809733e-7])"
      ]
     },
     "execution_count": 525,
     "metadata": {},
     "output_type": "execute_result"
    }
   ],
   "source": [
    "f(x)=tan(x)-2x\n",
    "df(x)=sec(x)^2-2\n",
    "p=1\n",
    "comv,Vp,Vf,Vc,Vr = Newton_Raphson(f,df,p)"
   ]
  },
  {
   "cell_type": "code",
   "execution_count": 526,
   "metadata": {},
   "outputs": [
    {
     "data": {
      "text/plain": [
       "6-element Vector{Float64}:\n",
       " 1.3104780300916217\n",
       " 1.2239290964998213\n",
       " 1.1760509000038353\n",
       " 1.1659265083113628\n",
       " 1.1655616363485986\n",
       " 1.1655611852078998"
      ]
     },
     "execution_count": 526,
     "metadata": {},
     "output_type": "execute_result"
    }
   ],
   "source": [
    "Vp"
   ]
  },
  {
   "cell_type": "code",
   "execution_count": 527,
   "metadata": {},
   "outputs": [
    {
     "name": "stdout",
     "output_type": "stream",
     "text": [
      "Error absoluto exacto y Error relativo exacto\n"
     ]
    },
    {
     "data": {
      "text/plain": [
       "(0.5664896223609774, 0.4860230673003523)"
      ]
     },
     "execution_count": 527,
     "metadata": {},
     "output_type": "execute_result"
    }
   ],
   "source": [
    "println(\"Error absoluto exacto y Error relativo exacto\")\n",
    "abs(sqrt(3)-1.1655611852078998), abs(sqrt(3)-1.1655611852078998)/1.1655611852078998"
   ]
  },
  {
   "cell_type": "code",
   "execution_count": 530,
   "metadata": {},
   "outputs": [
    {
     "name": "stdout",
     "output_type": "stream",
     "text": [
      "Error absoluto"
     ]
    },
    {
     "data": {
      "text/plain": [
       "3.8705878723809733e-7"
      ]
     },
     "execution_count": 530,
     "metadata": {},
     "output_type": "execute_result"
    }
   ],
   "source": [
    "print(\"Error absoluto\")\n",
    "Vr[6]"
   ]
  },
  {
   "cell_type": "code",
   "execution_count": 531,
   "metadata": {},
   "outputs": [
    {
     "name": "stdout",
     "output_type": "stream",
     "text": [
      "Error relativo"
     ]
    },
    {
     "data": {
      "text/plain": [
       "4.5114069879836904e-7"
      ]
     },
     "execution_count": 531,
     "metadata": {},
     "output_type": "execute_result"
    }
   ],
   "source": [
    "print(\"Error relativo\")\n",
    "Vc[6]"
   ]
  },
  {
   "cell_type": "code",
   "execution_count": null,
   "metadata": {},
   "outputs": [],
   "source": []
  },
  {
   "cell_type": "code",
   "execution_count": null,
   "metadata": {},
   "outputs": [],
   "source": []
  },
  {
   "cell_type": "markdown",
   "metadata": {},
   "source": [
    "### Problema 3\n",
    "\n",
    "Compute y grafique en escala log-lineal el error relativo estimado $r_i:=|p_{i+1}-p_i|/|p_{i+1}|$ vs $i$ de las aproximaciones de $\\sqrt{3}$ con los métodos de la bisección y Newton, partiendo del intervalo $[0,2.5]$ y del valor inicial $p_1=2.5$, respectivamente. \n",
    "Utilice en ambos casos tolerancias $\\varepsilon_x=\\varepsilon_f=10^{-10}$."
   ]
  },
  {
   "cell_type": "code",
   "execution_count": 7,
   "metadata": {},
   "outputs": [
    {
     "data": {
      "text/plain": [
       "(true, [1.25, 1.875, 1.5625, 1.71875, 1.796875, 1.7578125, 1.73828125, 1.728515625, 1.7333984375, 1.73095703125  …  1.7320508137345314, 1.73205079510808, 1.7320508044213057, 1.7320508090779185, 1.732050806749612, 1.7320508079137653, 1.7320508073316887, 1.732050807622727, 1.7320508074772079, 1.7320508075499674], [-1.4375, 0.515625, -0.55859375, -0.0458984375, 0.228759765625, 0.08990478515625, 0.0216217041015625, -0.012233734130859375, 0.004670143127441406, -0.0037877559661865234  …  2.1358452340081158e-8, -4.316546808880162e-8, -1.090350787436023e-8, 5.227472232860464e-9, -2.838017820749883e-9, 1.1947269840106856e-9, -8.216454183695987e-10, 1.8654100486514835e-10, -3.175522067522252e-10, -6.550582298814334e-11], [1.25, 0.625, 0.3125, 0.15625, 0.078125, 0.0390625, 0.01953125, 0.009765625, 0.0048828125, 0.00244140625  …  3.725290298461914e-8, 1.862645149230957e-8, 9.313225746154785e-9, 4.6566128730773926e-9, 2.3283064365386963e-9, 1.1641532182693481e-9, 5.820766091346741e-10, 2.9103830456733704e-10, 1.4551915228366852e-10, 7.275957614183426e-11], [1.0, 0.3333333333333333, 0.2, 0.09090909090909091, 0.043478260869565216, 0.022222222222222223, 0.011235955056179775, 0.005649717514124294, 0.0028169014084507044, 0.0014104372355430183  …  2.1507973489702038e-8, 1.075398686049925e-8, 5.376993401337567e-9, 2.688496693440769e-9, 1.344248348527388e-9, 6.721241738119432e-10, 3.360620870189093e-10, 1.680310434812202e-10, 8.401552174766872e-11, 4.2007760872069706e-11])"
      ]
     },
     "execution_count": 7,
     "metadata": {},
     "output_type": "execute_result"
    }
   ],
   "source": [
    "f(x)=x^2-3\n",
    "a,b=0,2.5\n",
    "conv,Vp,Vf,Vc,Vr = biseccion(f,(a,b))"
   ]
  },
  {
   "cell_type": "code",
   "execution_count": 683,
   "metadata": {
    "scrolled": true
   },
   "outputs": [
    {
     "data": {
      "image/svg+xml": [
       "<?xml version=\"1.0\" encoding=\"utf-8\"?>\n",
       "<svg xmlns=\"http://www.w3.org/2000/svg\" xmlns:xlink=\"http://www.w3.org/1999/xlink\" width=\"600\" height=\"400\" viewBox=\"0 0 2400 1600\">\n",
       "<defs>\n",
       "  <clipPath id=\"clip630\">\n",
       "    <rect x=\"0\" y=\"0\" width=\"2400\" height=\"1600\"/>\n",
       "  </clipPath>\n",
       "</defs>\n",
       "<path clip-path=\"url(#clip630)\" d=\"\n",
       "M0 1600 L2400 1600 L2400 0 L0 0  Z\n",
       "  \" fill=\"#ffffff\" fill-rule=\"evenodd\" fill-opacity=\"1\"/>\n",
       "<defs>\n",
       "  <clipPath id=\"clip631\">\n",
       "    <rect x=\"480\" y=\"0\" width=\"1681\" height=\"1600\"/>\n",
       "  </clipPath>\n",
       "</defs>\n",
       "<path clip-path=\"url(#clip630)\" d=\"\n",
       "M453.631 1423.18 L2352.76 1423.18 L2352.76 47.2441 L453.631 47.2441  Z\n",
       "  \" fill=\"#ffffff\" fill-rule=\"evenodd\" fill-opacity=\"1\"/>\n",
       "<defs>\n",
       "  <clipPath id=\"clip632\">\n",
       "    <rect x=\"453\" y=\"47\" width=\"1900\" height=\"1377\"/>\n",
       "  </clipPath>\n",
       "</defs>\n",
       "<polyline clip-path=\"url(#clip632)\" style=\"stroke:#000000; stroke-linecap:butt; stroke-linejoin:round; stroke-width:2; stroke-opacity:0.1; fill:none\" points=\"\n",
       "  507.38,1423.18 507.38,47.2441 \n",
       "  \"/>\n",
       "<polyline clip-path=\"url(#clip632)\" style=\"stroke:#000000; stroke-linecap:butt; stroke-linejoin:round; stroke-width:2; stroke-opacity:0.1; fill:none\" points=\"\n",
       "  1034.33,1423.18 1034.33,47.2441 \n",
       "  \"/>\n",
       "<polyline clip-path=\"url(#clip632)\" style=\"stroke:#000000; stroke-linecap:butt; stroke-linejoin:round; stroke-width:2; stroke-opacity:0.1; fill:none\" points=\"\n",
       "  1561.28,1423.18 1561.28,47.2441 \n",
       "  \"/>\n",
       "<polyline clip-path=\"url(#clip632)\" style=\"stroke:#000000; stroke-linecap:butt; stroke-linejoin:round; stroke-width:2; stroke-opacity:0.1; fill:none\" points=\"\n",
       "  2088.23,1423.18 2088.23,47.2441 \n",
       "  \"/>\n",
       "<polyline clip-path=\"url(#clip630)\" style=\"stroke:#000000; stroke-linecap:butt; stroke-linejoin:round; stroke-width:4; stroke-opacity:1; fill:none\" points=\"\n",
       "  453.631,1423.18 2352.76,1423.18 \n",
       "  \"/>\n",
       "<path clip-path=\"url(#clip630)\" d=\"M507.38 1454.1 Q503.769 1454.1 501.94 1457.66 Q500.134 1461.2 500.134 1468.33 Q500.134 1475.44 501.94 1479.01 Q503.769 1482.55 507.38 1482.55 Q511.014 1482.55 512.82 1479.01 Q514.648 1475.44 514.648 1468.33 Q514.648 1461.2 512.82 1457.66 Q511.014 1454.1 507.38 1454.1 M507.38 1450.39 Q513.19 1450.39 516.245 1455 Q519.324 1459.58 519.324 1468.33 Q519.324 1477.06 516.245 1481.67 Q513.19 1486.25 507.38 1486.25 Q501.57 1486.25 498.491 1481.67 Q495.435 1477.06 495.435 1468.33 Q495.435 1459.58 498.491 1455 Q501.57 1450.39 507.38 1450.39 Z\" fill=\"#000000\" fill-rule=\"evenodd\" fill-opacity=\"1\" /><path clip-path=\"url(#clip630)\" d=\"M1009.02 1481.64 L1016.66 1481.64 L1016.66 1455.28 L1008.35 1456.95 L1008.35 1452.69 L1016.61 1451.02 L1021.29 1451.02 L1021.29 1481.64 L1028.92 1481.64 L1028.92 1485.58 L1009.02 1485.58 L1009.02 1481.64 Z\" fill=\"#000000\" fill-rule=\"evenodd\" fill-opacity=\"1\" /><path clip-path=\"url(#clip630)\" d=\"M1048.37 1454.1 Q1044.76 1454.1 1042.93 1457.66 Q1041.12 1461.2 1041.12 1468.33 Q1041.12 1475.44 1042.93 1479.01 Q1044.76 1482.55 1048.37 1482.55 Q1052 1482.55 1053.81 1479.01 Q1055.64 1475.44 1055.64 1468.33 Q1055.64 1461.2 1053.81 1457.66 Q1052 1454.1 1048.37 1454.1 M1048.37 1450.39 Q1054.18 1450.39 1057.23 1455 Q1060.31 1459.58 1060.31 1468.33 Q1060.31 1477.06 1057.23 1481.67 Q1054.18 1486.25 1048.37 1486.25 Q1042.56 1486.25 1039.48 1481.67 Q1036.42 1477.06 1036.42 1468.33 Q1036.42 1459.58 1039.48 1455 Q1042.56 1450.39 1048.37 1450.39 Z\" fill=\"#000000\" fill-rule=\"evenodd\" fill-opacity=\"1\" /><path clip-path=\"url(#clip630)\" d=\"M1540.05 1481.64 L1556.37 1481.64 L1556.37 1485.58 L1534.43 1485.58 L1534.43 1481.64 Q1537.09 1478.89 1541.67 1474.26 Q1546.28 1469.61 1547.46 1468.27 Q1549.7 1465.74 1550.58 1464.01 Q1551.49 1462.25 1551.49 1460.56 Q1551.49 1457.8 1549.54 1456.07 Q1547.62 1454.33 1544.52 1454.33 Q1542.32 1454.33 1539.87 1455.09 Q1537.44 1455.86 1534.66 1457.41 L1534.66 1452.69 Q1537.48 1451.55 1539.94 1450.97 Q1542.39 1450.39 1544.43 1450.39 Q1549.8 1450.39 1552.99 1453.08 Q1556.19 1455.77 1556.19 1460.26 Q1556.19 1462.39 1555.38 1464.31 Q1554.59 1466.2 1552.48 1468.8 Q1551.9 1469.47 1548.8 1472.69 Q1545.7 1475.88 1540.05 1481.64 Z\" fill=\"#000000\" fill-rule=\"evenodd\" fill-opacity=\"1\" /><path clip-path=\"url(#clip630)\" d=\"M1576.19 1454.1 Q1572.57 1454.1 1570.75 1457.66 Q1568.94 1461.2 1568.94 1468.33 Q1568.94 1475.44 1570.75 1479.01 Q1572.57 1482.55 1576.19 1482.55 Q1579.82 1482.55 1581.63 1479.01 Q1583.45 1475.44 1583.45 1468.33 Q1583.45 1461.2 1581.63 1457.66 Q1579.82 1454.1 1576.19 1454.1 M1576.19 1450.39 Q1582 1450.39 1585.05 1455 Q1588.13 1459.58 1588.13 1468.33 Q1588.13 1477.06 1585.05 1481.67 Q1582 1486.25 1576.19 1486.25 Q1570.38 1486.25 1567.3 1481.67 Q1564.24 1477.06 1564.24 1468.33 Q1564.24 1459.58 1567.3 1455 Q1570.38 1450.39 1576.19 1450.39 Z\" fill=\"#000000\" fill-rule=\"evenodd\" fill-opacity=\"1\" /><path clip-path=\"url(#clip630)\" d=\"M2077.07 1466.95 Q2080.43 1467.66 2082.3 1469.93 Q2084.2 1472.2 2084.2 1475.53 Q2084.2 1480.65 2080.68 1483.45 Q2077.16 1486.25 2070.68 1486.25 Q2068.51 1486.25 2066.19 1485.81 Q2063.9 1485.39 2061.45 1484.54 L2061.45 1480.02 Q2063.39 1481.16 2065.7 1481.74 Q2068.02 1482.32 2070.54 1482.32 Q2074.94 1482.32 2077.23 1480.58 Q2079.55 1478.84 2079.55 1475.53 Q2079.55 1472.48 2077.39 1470.77 Q2075.26 1469.03 2071.45 1469.03 L2067.42 1469.03 L2067.42 1465.19 L2071.63 1465.19 Q2075.08 1465.19 2076.91 1463.82 Q2078.74 1462.43 2078.74 1459.84 Q2078.74 1457.18 2076.84 1455.77 Q2074.96 1454.33 2071.45 1454.33 Q2069.52 1454.33 2067.32 1454.75 Q2065.13 1455.16 2062.49 1456.04 L2062.49 1451.88 Q2065.15 1451.14 2067.46 1450.77 Q2069.8 1450.39 2071.86 1450.39 Q2077.19 1450.39 2080.29 1452.83 Q2083.39 1455.23 2083.39 1459.35 Q2083.39 1462.22 2081.75 1464.21 Q2080.1 1466.18 2077.07 1466.95 Z\" fill=\"#000000\" fill-rule=\"evenodd\" fill-opacity=\"1\" /><path clip-path=\"url(#clip630)\" d=\"M2103.07 1454.1 Q2099.45 1454.1 2097.63 1457.66 Q2095.82 1461.2 2095.82 1468.33 Q2095.82 1475.44 2097.63 1479.01 Q2099.45 1482.55 2103.07 1482.55 Q2106.7 1482.55 2108.51 1479.01 Q2110.33 1475.44 2110.33 1468.33 Q2110.33 1461.2 2108.51 1457.66 Q2106.7 1454.1 2103.07 1454.1 M2103.07 1450.39 Q2108.88 1450.39 2111.93 1455 Q2115.01 1459.58 2115.01 1468.33 Q2115.01 1477.06 2111.93 1481.67 Q2108.88 1486.25 2103.07 1486.25 Q2097.26 1486.25 2094.18 1481.67 Q2091.12 1477.06 2091.12 1468.33 Q2091.12 1459.58 2094.18 1455 Q2097.26 1450.39 2103.07 1450.39 Z\" fill=\"#000000\" fill-rule=\"evenodd\" fill-opacity=\"1\" /><path clip-path=\"url(#clip630)\" d=\"M1400.27 1532.4 L1406.12 1532.4 L1406.12 1568.04 L1400.27 1568.04 L1400.27 1532.4 M1400.27 1518.52 L1406.12 1518.52 L1406.12 1525.93 L1400.27 1525.93 L1400.27 1518.52 Z\" fill=\"#000000\" fill-rule=\"evenodd\" fill-opacity=\"1\" /><polyline clip-path=\"url(#clip632)\" style=\"stroke:#000000; stroke-linecap:butt; stroke-linejoin:round; stroke-width:2; stroke-opacity:0.1; fill:none\" points=\"\n",
       "  453.631,47.2441 2352.76,47.2441 \n",
       "  \"/>\n",
       "<polyline clip-path=\"url(#clip630)\" style=\"stroke:#000000; stroke-linecap:butt; stroke-linejoin:round; stroke-width:4; stroke-opacity:1; fill:none\" points=\"\n",
       "  453.631,1423.18 453.631,47.2441 \n",
       "  \"/>\n",
       "<polyline clip-path=\"url(#clip630)\" style=\"stroke:#000000; stroke-linecap:butt; stroke-linejoin:round; stroke-width:4; stroke-opacity:1; fill:none\" points=\"\n",
       "  453.631,47.2441 472.529,47.2441 \n",
       "  \"/>\n",
       "<path clip-path=\"url(#clip630)\" d=\"M-nan -nan L-nan -nan L-nan -nan L-nan -nan L-nan -nan L-nan -nan L-nan -nan L-nan -nan L-nan -nan L-nan -nan L-nan -nan L-nan -nan Z\" fill=\"#000000\" fill-rule=\"evenodd\" fill-opacity=\"1\" /><path clip-path=\"url(#clip630)\" d=\"M-nan -nan Q-nan -nan -nan -nan Q-nan -nan -nan -nan Q-nan -nan -nan -nan Q-nan -nan -nan -nan Q-nan -nan -nan -nan Q-nan -nan -nan -nan Q-nan -nan -nan -nan Q-nan -nan -nan -nan M-nan -nan Q-nan -nan -nan -nan Q-nan -nan -nan -nan Q-nan -nan -nan -nan Q-nan -nan -nan -nan Q-nan -nan -nan -nan Q-nan -nan -nan -nan Q-nan -nan -nan -nan Q-nan -nan -nan -nan Z\" fill=\"#000000\" fill-rule=\"evenodd\" fill-opacity=\"1\" /><path clip-path=\"url(#clip630)\" d=\"M-nan -nan L-nan -nan L-nan -nan L-nan -nan L-nan -nan L-nan -nan L-nan -nan L-nan -nan L-nan -nan L-nan -nan L-nan -nan Z\" fill=\"#000000\" fill-rule=\"evenodd\" fill-opacity=\"1\" /><path clip-path=\"url(#clip630)\" d=\"M-nan -nan Q-nan -nan -nan -nan Q-nan -nan -nan -nan Q-nan -nan -nan -nan Q-nan -nan -nan -nan Q-nan -nan -nan -nan Q-nan -nan -nan -nan L-nan -nan L-nan -nan M-nan -nan L-nan -nan L-nan -nan L-nan -nan Q-nan -nan -nan -nan Q-nan -nan -nan -nan Q-nan -nan -nan -nan Q-nan -nan -nan -nan Q-nan -nan -nan -nan Q-nan -nan -nan -nan L-nan -nan L-nan -nan Q-nan -nan -nan -nan Q-nan -nan -nan -nan Q-nan -nan -nan -nan Q-nan -nan -nan -nan L-nan -nan Q-nan -nan -nan -nan Q-nan -nan -nan -nan Q-nan -nan -nan -nan Q-nan -nan -nan -nan Z\" fill=\"#000000\" fill-rule=\"evenodd\" fill-opacity=\"1\" /><path clip-path=\"url(#clip630)\" d=\"M-nan -nan L-nan -nan L-nan -nan L-nan -nan L-nan -nan L-nan -nan L-nan -nan L-nan -nan L-nan -nan L-nan -nan L-nan -nan Z\" fill=\"#000000\" fill-rule=\"evenodd\" fill-opacity=\"1\" /><path clip-path=\"url(#clip630)\" d=\"M114.931 67.0365 L122.57 67.0365 L122.57 40.6709 L114.26 42.3376 L114.26 38.0784 L122.524 36.4117 L127.2 36.4117 L127.2 67.0365 L134.839 67.0365 L134.839 70.9717 L114.931 70.9717 L114.931 67.0365 Z\" fill=\"#000000\" fill-rule=\"evenodd\" fill-opacity=\"1\" /><path clip-path=\"url(#clip630)\" d=\"M154.283 39.4904 Q150.672 39.4904 148.843 43.0552 Q147.038 46.5968 147.038 53.7264 Q147.038 60.8329 148.843 64.3977 Q150.672 67.9393 154.283 67.9393 Q157.917 67.9393 159.723 64.3977 Q161.552 60.8329 161.552 53.7264 Q161.552 46.5968 159.723 43.0552 Q157.917 39.4904 154.283 39.4904 M154.283 35.7867 Q160.093 35.7867 163.149 40.3932 Q166.227 44.9765 166.227 53.7264 Q166.227 62.4532 163.149 67.0597 Q160.093 71.643 154.283 71.643 Q148.473 71.643 145.394 67.0597 Q142.339 62.4532 142.339 53.7264 Q142.339 44.9765 145.394 40.3932 Q148.473 35.7867 154.283 35.7867 Z\" fill=\"#000000\" fill-rule=\"evenodd\" fill-opacity=\"1\" /><path clip-path=\"url(#clip630)\" d=\"M175.932 17.9827 Q172.998 17.9827 171.512 20.8791 Q170.045 23.7567 170.045 29.5495 Q170.045 35.3235 171.512 38.2199 Q172.998 41.0975 175.932 41.0975 Q178.885 41.0975 180.352 38.2199 Q181.838 35.3235 181.838 29.5495 Q181.838 23.7567 180.352 20.8791 Q178.885 17.9827 175.932 17.9827 M175.932 14.9735 Q180.653 14.9735 183.136 18.7162 Q185.637 22.4402 185.637 29.5495 Q185.637 36.64 183.136 40.3828 Q180.653 44.1067 175.932 44.1067 Q171.212 44.1067 168.71 40.3828 Q166.227 36.64 166.227 29.5495 Q166.227 22.4402 168.71 18.7162 Q171.212 14.9735 175.932 14.9735 Z\" fill=\"#000000\" fill-rule=\"evenodd\" fill-opacity=\"1\" /><path clip-path=\"url(#clip630)\" d=\"M192.314 38.7841 L196.282 38.7841 L196.282 43.5613 L192.314 43.5613 L192.314 38.7841 Z\" fill=\"#000000\" fill-rule=\"evenodd\" fill-opacity=\"1\" /><path clip-path=\"url(#clip630)\" d=\"M212.683 17.9827 Q209.749 17.9827 208.263 20.8791 Q206.796 23.7567 206.796 29.5495 Q206.796 35.3235 208.263 38.2199 Q209.749 41.0975 212.683 41.0975 Q215.635 41.0975 217.102 38.2199 Q218.588 35.3235 218.588 29.5495 Q218.588 23.7567 217.102 20.8791 Q215.635 17.9827 212.683 17.9827 M212.683 14.9735 Q217.403 14.9735 219.886 18.7162 Q222.387 22.4402 222.387 29.5495 Q222.387 36.64 219.886 40.3828 Q217.403 44.1067 212.683 44.1067 Q207.962 44.1067 205.46 40.3828 Q202.978 36.64 202.978 29.5495 Q202.978 22.4402 205.46 18.7162 Q207.962 14.9735 212.683 14.9735 Z\" fill=\"#000000\" fill-rule=\"evenodd\" fill-opacity=\"1\" /><path clip-path=\"url(#clip630)\" d=\"M239.503 18.7915 L229.911 33.7813 L239.503 33.7813 L239.503 18.7915 M238.506 15.4813 L243.283 15.4813 L243.283 33.7813 L247.289 33.7813 L247.289 36.941 L243.283 36.941 L243.283 43.5613 L239.503 43.5613 L239.503 36.941 L226.826 36.941 L226.826 33.2734 L238.506 15.4813 Z\" fill=\"#000000\" fill-rule=\"evenodd\" fill-opacity=\"1\" /><path clip-path=\"url(#clip630)\" d=\"M254.229 40.364 L260.436 40.364 L260.436 18.9419 L253.684 20.2961 L253.684 16.8355 L260.398 15.4813 L264.197 15.4813 L264.197 40.364 L270.404 40.364 L270.404 43.5613 L254.229 43.5613 L254.229 40.364 Z\" fill=\"#000000\" fill-rule=\"evenodd\" fill-opacity=\"1\" /><path clip-path=\"url(#clip630)\" d=\"M289.588 28.421 Q292.315 29.0041 293.838 30.8472 Q295.38 32.6904 295.38 35.3987 Q295.38 39.5552 292.522 41.831 Q289.663 44.1067 284.397 44.1067 Q282.629 44.1067 280.748 43.7494 Q278.886 43.4108 276.892 42.7149 L276.892 39.0474 Q278.472 39.969 280.353 40.4392 Q282.234 40.9094 284.284 40.9094 Q287.857 40.9094 289.719 39.4988 Q291.6 38.0882 291.6 35.3987 Q291.6 32.9161 289.851 31.5243 Q288.121 30.1137 285.017 30.1137 L281.745 30.1137 L281.745 26.9916 L285.168 26.9916 Q287.97 26.9916 289.456 25.882 Q290.942 24.7535 290.942 22.6471 Q290.942 20.4842 289.4 19.3369 Q287.876 18.1708 285.017 18.1708 Q283.456 18.1708 281.67 18.5093 Q279.883 18.8479 277.739 19.5626 L277.739 16.1772 Q279.902 15.5753 281.782 15.2744 Q283.682 14.9735 285.356 14.9735 Q289.682 14.9735 292.202 16.9483 Q294.722 18.9043 294.722 22.2521 Q294.722 24.5843 293.387 26.2017 Q292.051 27.8004 289.588 28.421 Z\" fill=\"#000000\" fill-rule=\"evenodd\" fill-opacity=\"1\" /><path clip-path=\"url(#clip630)\" d=\"M302.697 42.9783 L302.697 39.5176 Q304.126 40.1947 305.593 40.5521 Q307.06 40.9094 308.471 40.9094 Q312.232 40.9094 314.207 38.3892 Q316.201 35.8501 316.483 30.6968 Q315.392 32.3142 313.718 33.1794 Q312.044 34.0446 310.013 34.0446 Q305.8 34.0446 303.336 31.5055 Q300.891 28.9477 300.891 24.5278 Q300.891 20.202 303.449 17.5878 Q306.007 14.9735 310.257 14.9735 Q315.129 14.9735 317.686 18.7162 Q320.263 22.4402 320.263 29.5495 Q320.263 36.1886 317.103 40.1571 Q313.963 44.1067 308.64 44.1067 Q307.211 44.1067 305.744 43.8246 Q304.277 43.5425 302.697 42.9783 M310.257 31.0729 Q312.815 31.0729 314.301 29.3238 Q315.806 27.5747 315.806 24.5278 Q315.806 21.4998 314.301 19.7507 Q312.815 17.9827 310.257 17.9827 Q307.7 17.9827 306.195 19.7507 Q304.709 21.4998 304.709 24.5278 Q304.709 27.5747 306.195 29.3238 Q307.7 31.0729 310.257 31.0729 Z\" fill=\"#000000\" fill-rule=\"evenodd\" fill-opacity=\"1\" /><path clip-path=\"url(#clip630)\" d=\"M330.363 40.364 L343.622 40.364 L343.622 43.5613 L325.793 43.5613 L325.793 40.364 Q327.955 38.1258 331.679 34.3643 Q335.422 30.5839 336.381 29.4931 Q338.206 27.443 338.92 26.0325 Q339.654 24.6031 339.654 23.2301 Q339.654 20.992 338.074 19.5814 Q336.513 18.1708 333.993 18.1708 Q332.206 18.1708 330.212 18.7915 Q328.238 19.4121 325.981 20.6722 L325.981 16.8355 Q328.275 15.9139 330.269 15.4437 Q332.262 14.9735 333.918 14.9735 Q338.281 14.9735 340.876 17.1552 Q343.472 19.3369 343.472 22.9856 Q343.472 24.7159 342.814 26.277 Q342.174 27.8192 340.463 29.9257 Q339.992 30.4711 337.472 33.0854 Q334.952 35.6808 330.363 40.364 Z\" fill=\"#000000\" fill-rule=\"evenodd\" fill-opacity=\"1\" /><path clip-path=\"url(#clip630)\" d=\"M360.192 28.0073 Q357.634 28.0073 356.13 29.7564 Q354.644 31.5055 354.644 34.5524 Q354.644 37.5804 356.13 39.3484 Q357.634 41.0975 360.192 41.0975 Q362.75 41.0975 364.236 39.3484 Q365.74 37.5804 365.74 34.5524 Q365.74 31.5055 364.236 29.7564 Q362.75 28.0073 360.192 28.0073 M367.734 16.102 L367.734 19.5626 Q366.305 18.8855 364.838 18.5282 Q363.389 18.1708 361.96 18.1708 Q358.198 18.1708 356.205 20.7099 Q354.23 23.2489 353.948 28.3834 Q355.057 26.7471 356.731 25.882 Q358.405 24.998 360.418 24.998 Q364.649 24.998 367.094 27.5747 Q369.558 30.1325 369.558 34.5524 Q369.558 38.8782 367 41.4924 Q364.443 44.1067 360.192 44.1067 Q355.321 44.1067 352.744 40.3828 Q350.167 36.64 350.167 29.5495 Q350.167 22.8916 353.327 18.9419 Q356.487 14.9735 361.809 14.9735 Q363.239 14.9735 364.687 15.2556 Q366.154 15.5377 367.734 16.102 Z\" fill=\"#000000\" fill-rule=\"evenodd\" fill-opacity=\"1\" /><path clip-path=\"url(#clip630)\" d=\"M384.228 30.2266 Q381.52 30.2266 379.959 31.6748 Q378.417 33.123 378.417 35.662 Q378.417 38.2011 379.959 39.6493 Q381.52 41.0975 384.228 41.0975 Q386.937 41.0975 388.498 39.6493 Q390.059 38.1823 390.059 35.662 Q390.059 33.123 388.498 31.6748 Q386.955 30.2266 384.228 30.2266 M380.429 28.6091 Q377.984 28.0073 376.611 26.3334 Q375.257 24.6595 375.257 22.2521 Q375.257 18.8855 377.646 16.9295 Q380.053 14.9735 384.228 14.9735 Q388.422 14.9735 390.811 16.9295 Q393.2 18.8855 393.2 22.2521 Q393.2 24.6595 391.827 26.3334 Q390.473 28.0073 388.046 28.6091 Q390.792 29.2486 392.316 31.1106 Q393.858 32.9725 393.858 35.662 Q393.858 39.7433 391.356 41.925 Q388.874 44.1067 384.228 44.1067 Q379.583 44.1067 377.081 41.925 Q374.599 39.7433 374.599 35.662 Q374.599 32.9725 376.141 31.1106 Q377.683 29.2486 380.429 28.6091 M379.037 22.6094 Q379.037 24.7911 380.392 26.0136 Q381.765 27.2362 384.228 27.2362 Q386.673 27.2362 388.046 26.0136 Q389.438 24.7911 389.438 22.6094 Q389.438 20.4277 388.046 19.2052 Q386.673 17.9827 384.228 17.9827 Q381.765 17.9827 380.392 19.2052 Q379.037 20.4277 379.037 22.6094 Z\" fill=\"#000000\" fill-rule=\"evenodd\" fill-opacity=\"1\" /><path clip-path=\"url(#clip630)\" d=\"M400.648 15.4813 L415.562 15.4813 L415.562 18.6786 L404.127 18.6786 L404.127 25.5623 Q404.954 25.2801 405.782 25.1485 Q406.61 24.998 407.437 24.998 Q412.139 24.998 414.885 27.5747 Q417.631 30.1514 417.631 34.5524 Q417.631 39.085 414.81 41.6053 Q411.989 44.1067 406.854 44.1067 Q405.086 44.1067 403.243 43.8058 Q401.419 43.5049 399.463 42.903 L399.463 39.085 Q401.155 40.0066 402.961 40.458 Q404.766 40.9094 406.779 40.9094 Q410.033 40.9094 411.932 39.1979 Q413.832 37.4864 413.832 34.5524 Q413.832 31.6184 411.932 29.9069 Q410.033 28.1953 406.779 28.1953 Q405.255 28.1953 403.732 28.5339 Q402.227 28.8724 400.648 29.5871 L400.648 15.4813 Z\" fill=\"#000000\" fill-rule=\"evenodd\" fill-opacity=\"1\" /><path clip-path=\"url(#clip630)\" d=\"M16.4842 960.415 L16.4842 930.369 L21.895 930.369 L21.895 953.985 L35.9632 953.985 L35.9632 931.355 L41.3741 931.355 L41.3741 953.985 L58.5933 953.985 L58.5933 929.796 L64.0042 929.796 L64.0042 960.415 L16.4842 960.415 Z\" fill=\"#000000\" fill-rule=\"evenodd\" fill-opacity=\"1\" /><path clip-path=\"url(#clip630)\" d=\"M33.8307 898.827 Q33.2578 899.813 33.0032 900.991 Q32.7167 902.137 32.7167 903.537 Q32.7167 908.502 35.9632 911.176 Q39.1779 913.818 45.2253 913.818 L64.0042 913.818 L64.0042 919.706 L28.3562 919.706 L28.3562 913.818 L33.8944 913.818 Q30.6479 911.972 29.0883 909.012 Q27.4968 906.052 27.4968 901.818 Q27.4968 901.214 27.5923 900.482 Q27.656 899.75 27.8151 898.858 L33.8307 898.827 Z\" fill=\"#000000\" fill-rule=\"evenodd\" fill-opacity=\"1\" /><path clip-path=\"url(#clip630)\" d=\"M33.8307 873.173 Q33.2578 874.159 33.0032 875.337 Q32.7167 876.483 32.7167 877.883 Q32.7167 882.849 35.9632 885.522 Q39.1779 888.164 45.2253 888.164 L64.0042 888.164 L64.0042 894.052 L28.3562 894.052 L28.3562 888.164 L33.8944 888.164 Q30.6479 886.318 29.0883 883.358 Q27.4968 880.398 27.4968 876.165 Q27.4968 875.56 27.5923 874.828 Q27.656 874.096 27.8151 873.205 L33.8307 873.173 Z\" fill=\"#000000\" fill-rule=\"evenodd\" fill-opacity=\"1\" /><path clip-path=\"url(#clip630)\" d=\"M32.4621 854.649 Q32.4621 859.359 36.1542 862.096 Q39.8145 864.834 46.212 864.834 Q52.6095 864.834 56.3017 862.128 Q59.9619 859.391 59.9619 854.649 Q59.9619 849.97 56.2698 847.232 Q52.5777 844.495 46.212 844.495 Q39.8781 844.495 36.186 847.232 Q32.4621 849.97 32.4621 854.649 M27.4968 854.649 Q27.4968 847.01 32.4621 842.649 Q37.4273 838.289 46.212 838.289 Q54.9649 838.289 59.9619 842.649 Q64.9272 847.01 64.9272 854.649 Q64.9272 862.319 59.9619 866.68 Q54.9649 871.008 46.212 871.008 Q37.4273 871.008 32.4621 866.68 Q27.4968 862.319 27.4968 854.649 Z\" fill=\"#000000\" fill-rule=\"evenodd\" fill-opacity=\"1\" /><path clip-path=\"url(#clip630)\" d=\"M33.8307 807.924 Q33.2578 808.911 33.0032 810.089 Q32.7167 811.234 32.7167 812.635 Q32.7167 817.6 35.9632 820.274 Q39.1779 822.915 45.2253 822.915 L64.0042 822.915 L64.0042 828.804 L28.3562 828.804 L28.3562 822.915 L33.8944 822.915 Q30.6479 821.069 29.0883 818.109 Q27.4968 815.149 27.4968 810.916 Q27.4968 810.311 27.5923 809.579 Q27.656 808.847 27.8151 807.956 L33.8307 807.924 Z\" fill=\"#000000\" fill-rule=\"evenodd\" fill-opacity=\"1\" /><path clip-path=\"url(#clip630)\" d=\"M41.7242 758.272 Q42.4244 756.203 44.7161 754.261 Q47.0077 752.288 51.0181 750.315 L64.0042 743.79 L64.0042 750.697 L51.8138 756.776 Q47.0395 759.131 45.48 761.359 Q43.9204 763.555 43.9204 767.375 L43.9204 774.377 L64.0042 774.377 L64.0042 780.806 L16.4842 780.806 L16.4842 766.293 Q16.4842 758.144 19.8898 754.134 Q23.2955 750.124 30.1704 750.124 Q34.6582 750.124 37.6183 752.224 Q40.5784 754.293 41.7242 758.272 M21.7677 774.377 L38.6368 774.377 L38.6368 766.293 Q38.6368 761.646 36.5043 759.29 Q34.34 756.903 30.1704 756.903 Q26.0009 756.903 23.9002 759.29 Q21.7677 761.646 21.7677 766.293 L21.7677 774.377 Z\" fill=\"#000000\" fill-rule=\"evenodd\" fill-opacity=\"1\" /><path clip-path=\"url(#clip630)\" d=\"M44.7161 708.205 L47.5806 708.205 L47.5806 735.132 Q53.6281 734.75 56.8109 731.504 Q59.9619 728.226 59.9619 722.401 Q59.9619 719.027 59.1344 715.876 Q58.3069 712.693 56.6518 709.574 L62.1899 709.574 Q63.5267 712.725 64.227 716.035 Q64.9272 719.345 64.9272 722.751 Q64.9272 731.281 59.9619 736.278 Q54.9967 741.243 46.5303 741.243 Q37.7774 741.243 32.6531 736.533 Q27.4968 731.79 27.4968 723.77 Q27.4968 716.576 32.1438 712.407 Q36.7589 708.205 44.7161 708.205 M42.9973 714.062 Q38.1912 714.126 35.3266 716.767 Q32.4621 719.377 32.4621 723.706 Q32.4621 728.608 35.2312 731.568 Q38.0002 734.496 43.0292 734.941 L42.9973 714.062 Z\" fill=\"#000000\" fill-rule=\"evenodd\" fill-opacity=\"1\" /><path clip-path=\"url(#clip630)\" d=\"M14.479 698.593 L14.479 692.737 L64.0042 692.737 L64.0042 698.593 L14.479 698.593 Z\" fill=\"#000000\" fill-rule=\"evenodd\" fill-opacity=\"1\" /><path clip-path=\"url(#clip630)\" d=\"M46.0847 664.282 Q46.0847 671.38 47.7079 674.117 Q49.3312 676.854 53.2461 676.854 Q56.3653 676.854 58.2114 674.817 Q60.0256 672.748 60.0256 669.216 Q60.0256 664.346 56.5881 661.418 Q53.1188 658.457 47.3897 658.457 L46.0847 658.457 L46.0847 664.282 M43.6657 652.601 L64.0042 652.601 L64.0042 658.457 L58.5933 658.457 Q61.8398 660.463 63.3994 663.455 Q64.9272 666.446 64.9272 670.775 Q64.9272 676.25 61.8716 679.496 Q58.7843 682.711 53.6281 682.711 Q47.6125 682.711 44.5569 678.7 Q41.5014 674.658 41.5014 666.669 L41.5014 658.457 L40.9285 658.457 Q36.8862 658.457 34.6901 661.131 Q32.4621 663.773 32.4621 668.579 Q32.4621 671.634 33.1941 674.531 Q33.9262 677.427 35.3903 680.101 L29.9795 680.101 Q28.7381 676.886 28.1334 673.862 Q27.4968 670.839 27.4968 667.974 Q27.4968 660.24 31.5072 656.42 Q35.5176 652.601 43.6657 652.601 Z\" fill=\"#000000\" fill-rule=\"evenodd\" fill-opacity=\"1\" /><path clip-path=\"url(#clip630)\" d=\"M18.2347 634.745 L28.3562 634.745 L28.3562 622.682 L32.9077 622.682 L32.9077 634.745 L52.2594 634.745 Q56.6199 634.745 57.8613 633.568 Q59.1026 632.358 59.1026 628.698 L59.1026 622.682 L64.0042 622.682 L64.0042 628.698 Q64.0042 635.477 61.4897 638.055 Q58.9434 640.633 52.2594 640.633 L32.9077 640.633 L32.9077 644.93 L28.3562 644.93 L28.3562 640.633 L18.2347 640.633 L18.2347 634.745 Z\" fill=\"#000000\" fill-rule=\"evenodd\" fill-opacity=\"1\" /><path clip-path=\"url(#clip630)\" d=\"M28.3562 614.98 L28.3562 609.123 L64.0042 609.123 L64.0042 614.98 L28.3562 614.98 M14.479 614.98 L14.479 609.123 L21.895 609.123 L21.895 614.98 L14.479 614.98 Z\" fill=\"#000000\" fill-rule=\"evenodd\" fill-opacity=\"1\" /><path clip-path=\"url(#clip630)\" d=\"M28.3562 596.869 L28.3562 591.013 L64.0042 591.013 L64.0042 596.869 L28.3562 596.869 M14.479 596.869 L14.479 591.013 L21.895 591.013 L21.895 596.869 L14.479 596.869 Z\" fill=\"#000000\" fill-rule=\"evenodd\" fill-opacity=\"1\" /><path clip-path=\"url(#clip630)\" d=\"M28.3562 582.96 L28.3562 576.754 L58.275 565.614 L28.3562 554.474 L28.3562 548.267 L64.0042 561.635 L64.0042 569.592 L28.3562 582.96 Z\" fill=\"#000000\" fill-rule=\"evenodd\" fill-opacity=\"1\" /><path clip-path=\"url(#clip630)\" d=\"M32.4621 526.369 Q32.4621 531.08 36.1542 533.817 Q39.8145 536.554 46.212 536.554 Q52.6095 536.554 56.3017 533.849 Q59.9619 531.111 59.9619 526.369 Q59.9619 521.69 56.2698 518.953 Q52.5777 516.216 46.212 516.216 Q39.8781 516.216 36.186 518.953 Q32.4621 521.69 32.4621 526.369 M27.4968 526.369 Q27.4968 518.73 32.4621 514.37 Q37.4273 510.009 46.212 510.009 Q54.9649 510.009 59.9619 514.37 Q64.9272 518.73 64.9272 526.369 Q64.9272 534.04 59.9619 538.4 Q54.9649 542.729 46.212 542.729 Q37.4273 542.729 32.4621 538.4 Q27.4968 534.04 27.4968 526.369 Z\" fill=\"#000000\" fill-rule=\"evenodd\" fill-opacity=\"1\" /><circle clip-path=\"url(#clip632)\" cx=\"507.38\" cy=\"161.905\" r=\"14\" fill=\"#009af9\" fill-rule=\"evenodd\" fill-opacity=\"1\" stroke=\"#000000\" stroke-opacity=\"1\" stroke-width=\"3.2\"/>\n",
       "<circle clip-path=\"url(#clip632)\" cx=\"560.075\" cy=\"926.314\" r=\"14\" fill=\"#009af9\" fill-rule=\"evenodd\" fill-opacity=\"1\" stroke=\"#000000\" stroke-opacity=\"1\" stroke-width=\"3.2\"/>\n",
       "<circle clip-path=\"url(#clip632)\" cx=\"612.77\" cy=\"1079.2\" r=\"14\" fill=\"#009af9\" fill-rule=\"evenodd\" fill-opacity=\"1\" stroke=\"#000000\" stroke-opacity=\"1\" stroke-width=\"3.2\"/>\n",
       "<circle clip-path=\"url(#clip632)\" cx=\"665.465\" cy=\"1204.28\" r=\"14\" fill=\"#009af9\" fill-rule=\"evenodd\" fill-opacity=\"1\" stroke=\"#000000\" stroke-opacity=\"1\" stroke-width=\"3.2\"/>\n",
       "<circle clip-path=\"url(#clip632)\" cx=\"718.159\" cy=\"1258.67\" r=\"14\" fill=\"#009af9\" fill-rule=\"evenodd\" fill-opacity=\"1\" stroke=\"#000000\" stroke-opacity=\"1\" stroke-width=\"3.2\"/>\n",
       "<circle clip-path=\"url(#clip632)\" cx=\"770.854\" cy=\"1283.04\" r=\"14\" fill=\"#009af9\" fill-rule=\"evenodd\" fill-opacity=\"1\" stroke=\"#000000\" stroke-opacity=\"1\" stroke-width=\"3.2\"/>\n",
       "<circle clip-path=\"url(#clip632)\" cx=\"823.549\" cy=\"1295.64\" r=\"14\" fill=\"#009af9\" fill-rule=\"evenodd\" fill-opacity=\"1\" stroke=\"#000000\" stroke-opacity=\"1\" stroke-width=\"3.2\"/>\n",
       "<circle clip-path=\"url(#clip632)\" cx=\"876.244\" cy=\"1302.04\" r=\"14\" fill=\"#009af9\" fill-rule=\"evenodd\" fill-opacity=\"1\" stroke=\"#000000\" stroke-opacity=\"1\" stroke-width=\"3.2\"/>\n",
       "<circle clip-path=\"url(#clip632)\" cx=\"928.939\" cy=\"1305.29\" r=\"14\" fill=\"#009af9\" fill-rule=\"evenodd\" fill-opacity=\"1\" stroke=\"#000000\" stroke-opacity=\"1\" stroke-width=\"3.2\"/>\n",
       "<circle clip-path=\"url(#clip632)\" cx=\"981.634\" cy=\"1306.9\" r=\"14\" fill=\"#009af9\" fill-rule=\"evenodd\" fill-opacity=\"1\" stroke=\"#000000\" stroke-opacity=\"1\" stroke-width=\"3.2\"/>\n",
       "<circle clip-path=\"url(#clip632)\" cx=\"1034.33\" cy=\"1307.71\" r=\"14\" fill=\"#009af9\" fill-rule=\"evenodd\" fill-opacity=\"1\" stroke=\"#000000\" stroke-opacity=\"1\" stroke-width=\"3.2\"/>\n",
       "<circle clip-path=\"url(#clip632)\" cx=\"1087.02\" cy=\"1308.11\" r=\"14\" fill=\"#009af9\" fill-rule=\"evenodd\" fill-opacity=\"1\" stroke=\"#000000\" stroke-opacity=\"1\" stroke-width=\"3.2\"/>\n",
       "<circle clip-path=\"url(#clip632)\" cx=\"1139.72\" cy=\"1308.32\" r=\"14\" fill=\"#009af9\" fill-rule=\"evenodd\" fill-opacity=\"1\" stroke=\"#000000\" stroke-opacity=\"1\" stroke-width=\"3.2\"/>\n",
       "<circle clip-path=\"url(#clip632)\" cx=\"1192.41\" cy=\"1308.42\" r=\"14\" fill=\"#009af9\" fill-rule=\"evenodd\" fill-opacity=\"1\" stroke=\"#000000\" stroke-opacity=\"1\" stroke-width=\"3.2\"/>\n",
       "<circle clip-path=\"url(#clip632)\" cx=\"1245.11\" cy=\"1308.47\" r=\"14\" fill=\"#009af9\" fill-rule=\"evenodd\" fill-opacity=\"1\" stroke=\"#000000\" stroke-opacity=\"1\" stroke-width=\"3.2\"/>\n",
       "<circle clip-path=\"url(#clip632)\" cx=\"1297.8\" cy=\"1308.49\" r=\"14\" fill=\"#009af9\" fill-rule=\"evenodd\" fill-opacity=\"1\" stroke=\"#000000\" stroke-opacity=\"1\" stroke-width=\"3.2\"/>\n",
       "<circle clip-path=\"url(#clip632)\" cx=\"1350.5\" cy=\"1308.51\" r=\"14\" fill=\"#009af9\" fill-rule=\"evenodd\" fill-opacity=\"1\" stroke=\"#000000\" stroke-opacity=\"1\" stroke-width=\"3.2\"/>\n",
       "<circle clip-path=\"url(#clip632)\" cx=\"1403.19\" cy=\"1308.51\" r=\"14\" fill=\"#009af9\" fill-rule=\"evenodd\" fill-opacity=\"1\" stroke=\"#000000\" stroke-opacity=\"1\" stroke-width=\"3.2\"/>\n",
       "<circle clip-path=\"url(#clip632)\" cx=\"1455.89\" cy=\"1308.52\" r=\"14\" fill=\"#009af9\" fill-rule=\"evenodd\" fill-opacity=\"1\" stroke=\"#000000\" stroke-opacity=\"1\" stroke-width=\"3.2\"/>\n",
       "<circle clip-path=\"url(#clip632)\" cx=\"1508.58\" cy=\"1308.52\" r=\"14\" fill=\"#009af9\" fill-rule=\"evenodd\" fill-opacity=\"1\" stroke=\"#000000\" stroke-opacity=\"1\" stroke-width=\"3.2\"/>\n",
       "<circle clip-path=\"url(#clip632)\" cx=\"1561.28\" cy=\"1308.52\" r=\"14\" fill=\"#009af9\" fill-rule=\"evenodd\" fill-opacity=\"1\" stroke=\"#000000\" stroke-opacity=\"1\" stroke-width=\"3.2\"/>\n",
       "<circle clip-path=\"url(#clip632)\" cx=\"1613.97\" cy=\"1308.52\" r=\"14\" fill=\"#009af9\" fill-rule=\"evenodd\" fill-opacity=\"1\" stroke=\"#000000\" stroke-opacity=\"1\" stroke-width=\"3.2\"/>\n",
       "<circle clip-path=\"url(#clip632)\" cx=\"1666.67\" cy=\"1308.52\" r=\"14\" fill=\"#009af9\" fill-rule=\"evenodd\" fill-opacity=\"1\" stroke=\"#000000\" stroke-opacity=\"1\" stroke-width=\"3.2\"/>\n",
       "<circle clip-path=\"url(#clip632)\" cx=\"1719.36\" cy=\"1308.52\" r=\"14\" fill=\"#009af9\" fill-rule=\"evenodd\" fill-opacity=\"1\" stroke=\"#000000\" stroke-opacity=\"1\" stroke-width=\"3.2\"/>\n",
       "<circle clip-path=\"url(#clip632)\" cx=\"1772.06\" cy=\"1308.52\" r=\"14\" fill=\"#009af9\" fill-rule=\"evenodd\" fill-opacity=\"1\" stroke=\"#000000\" stroke-opacity=\"1\" stroke-width=\"3.2\"/>\n",
       "<circle clip-path=\"url(#clip632)\" cx=\"1824.75\" cy=\"1308.52\" r=\"14\" fill=\"#009af9\" fill-rule=\"evenodd\" fill-opacity=\"1\" stroke=\"#000000\" stroke-opacity=\"1\" stroke-width=\"3.2\"/>\n",
       "<circle clip-path=\"url(#clip632)\" cx=\"1877.45\" cy=\"1308.52\" r=\"14\" fill=\"#009af9\" fill-rule=\"evenodd\" fill-opacity=\"1\" stroke=\"#000000\" stroke-opacity=\"1\" stroke-width=\"3.2\"/>\n",
       "<circle clip-path=\"url(#clip632)\" cx=\"1930.14\" cy=\"1308.52\" r=\"14\" fill=\"#009af9\" fill-rule=\"evenodd\" fill-opacity=\"1\" stroke=\"#000000\" stroke-opacity=\"1\" stroke-width=\"3.2\"/>\n",
       "<circle clip-path=\"url(#clip632)\" cx=\"1982.84\" cy=\"1308.52\" r=\"14\" fill=\"#009af9\" fill-rule=\"evenodd\" fill-opacity=\"1\" stroke=\"#000000\" stroke-opacity=\"1\" stroke-width=\"3.2\"/>\n",
       "<circle clip-path=\"url(#clip632)\" cx=\"2035.53\" cy=\"1308.52\" r=\"14\" fill=\"#009af9\" fill-rule=\"evenodd\" fill-opacity=\"1\" stroke=\"#000000\" stroke-opacity=\"1\" stroke-width=\"3.2\"/>\n",
       "<circle clip-path=\"url(#clip632)\" cx=\"2088.23\" cy=\"1308.52\" r=\"14\" fill=\"#009af9\" fill-rule=\"evenodd\" fill-opacity=\"1\" stroke=\"#000000\" stroke-opacity=\"1\" stroke-width=\"3.2\"/>\n",
       "<circle clip-path=\"url(#clip632)\" cx=\"2140.92\" cy=\"1308.52\" r=\"14\" fill=\"#009af9\" fill-rule=\"evenodd\" fill-opacity=\"1\" stroke=\"#000000\" stroke-opacity=\"1\" stroke-width=\"3.2\"/>\n",
       "<circle clip-path=\"url(#clip632)\" cx=\"2193.62\" cy=\"1308.52\" r=\"14\" fill=\"#009af9\" fill-rule=\"evenodd\" fill-opacity=\"1\" stroke=\"#000000\" stroke-opacity=\"1\" stroke-width=\"3.2\"/>\n",
       "<circle clip-path=\"url(#clip632)\" cx=\"2246.31\" cy=\"1308.52\" r=\"14\" fill=\"#009af9\" fill-rule=\"evenodd\" fill-opacity=\"1\" stroke=\"#000000\" stroke-opacity=\"1\" stroke-width=\"3.2\"/>\n",
       "<circle clip-path=\"url(#clip632)\" cx=\"2299.01\" cy=\"1308.52\" r=\"14\" fill=\"#009af9\" fill-rule=\"evenodd\" fill-opacity=\"1\" stroke=\"#000000\" stroke-opacity=\"1\" stroke-width=\"3.2\"/>\n",
       "<path clip-path=\"url(#clip630)\" d=\"\n",
       "M1863.21 196.789 L2289.45 196.789 L2289.45 93.1086 L1863.21 93.1086  Z\n",
       "  \" fill=\"#ffffff\" fill-rule=\"evenodd\" fill-opacity=\"1\"/>\n",
       "<polyline clip-path=\"url(#clip630)\" style=\"stroke:#000000; stroke-linecap:butt; stroke-linejoin:round; stroke-width:4; stroke-opacity:1; fill:none\" points=\"\n",
       "  1863.21,196.789 2289.45,196.789 2289.45,93.1086 1863.21,93.1086 1863.21,196.789 \n",
       "  \"/>\n",
       "<circle clip-path=\"url(#clip630)\" cx=\"1947.61\" cy=\"144.949\" r=\"23\" fill=\"#009af9\" fill-rule=\"evenodd\" fill-opacity=\"1\" stroke=\"#000000\" stroke-opacity=\"1\" stroke-width=\"5.12\"/>\n",
       "<path clip-path=\"url(#clip630)\" d=\"M2036.69 145.724 L2036.69 158.386 L2044.19 158.386 Q2047.97 158.386 2049.77 156.835 Q2051.6 155.261 2051.6 152.043 Q2051.6 148.803 2049.77 147.275 Q2047.97 145.724 2044.19 145.724 L2036.69 145.724 M2036.69 131.511 L2036.69 141.928 L2043.62 141.928 Q2047.04 141.928 2048.71 140.655 Q2050.4 139.358 2050.4 136.719 Q2050.4 134.104 2048.71 132.807 Q2047.04 131.511 2043.62 131.511 L2036.69 131.511 M2032.02 127.669 L2043.96 127.669 Q2049.31 127.669 2052.2 129.891 Q2055.1 132.113 2055.1 136.21 Q2055.1 139.382 2053.62 141.257 Q2052.13 143.131 2049.26 143.594 Q2052.71 144.335 2054.61 146.696 Q2056.53 149.034 2056.53 152.553 Q2056.53 157.182 2053.38 159.705 Q2050.24 162.229 2044.43 162.229 L2032.02 162.229 L2032.02 127.669 Z\" fill=\"#000000\" fill-rule=\"evenodd\" fill-opacity=\"1\" /><path clip-path=\"url(#clip630)\" d=\"M2064.36 136.303 L2068.62 136.303 L2068.62 162.229 L2064.36 162.229 L2064.36 136.303 M2064.36 126.21 L2068.62 126.21 L2068.62 131.604 L2064.36 131.604 L2064.36 126.21 Z\" fill=\"#000000\" fill-rule=\"evenodd\" fill-opacity=\"1\" /><path clip-path=\"url(#clip630)\" d=\"M2094.06 137.067 L2094.06 141.094 Q2092.25 140.169 2090.31 139.706 Q2088.36 139.243 2086.28 139.243 Q2083.11 139.243 2081.51 140.215 Q2079.94 141.187 2079.94 143.131 Q2079.94 144.613 2081.07 145.469 Q2082.2 146.303 2085.63 147.067 L2087.09 147.391 Q2091.62 148.363 2093.52 150.145 Q2095.44 151.905 2095.44 155.076 Q2095.44 158.687 2092.57 160.793 Q2089.73 162.9 2084.73 162.9 Q2082.64 162.9 2080.37 162.483 Q2078.13 162.09 2075.63 161.28 L2075.63 156.881 Q2077.99 158.108 2080.28 158.733 Q2082.57 159.335 2084.82 159.335 Q2087.83 159.335 2089.45 158.317 Q2091.07 157.275 2091.07 155.4 Q2091.07 153.664 2089.89 152.738 Q2088.73 151.812 2084.77 150.956 L2083.29 150.608 Q2079.33 149.775 2077.57 148.062 Q2075.81 146.326 2075.81 143.317 Q2075.81 139.659 2078.41 137.669 Q2081 135.678 2085.77 135.678 Q2088.13 135.678 2090.21 136.025 Q2092.3 136.372 2094.06 137.067 Z\" fill=\"#000000\" fill-rule=\"evenodd\" fill-opacity=\"1\" /><path clip-path=\"url(#clip630)\" d=\"M2124.4 148.201 L2124.4 150.284 L2104.82 150.284 Q2105.1 154.682 2107.46 156.997 Q2109.84 159.289 2114.08 159.289 Q2116.53 159.289 2118.82 158.687 Q2121.14 158.085 2123.41 156.881 L2123.41 160.909 Q2121.12 161.881 2118.71 162.391 Q2116.3 162.9 2113.82 162.9 Q2107.62 162.9 2103.99 159.289 Q2100.37 155.678 2100.37 149.52 Q2100.37 143.155 2103.8 139.428 Q2107.25 135.678 2113.08 135.678 Q2118.31 135.678 2121.35 139.057 Q2124.4 142.414 2124.4 148.201 M2120.14 146.951 Q2120.1 143.456 2118.18 141.372 Q2116.28 139.289 2113.13 139.289 Q2109.56 139.289 2107.41 141.303 Q2105.28 143.317 2104.96 146.974 L2120.14 146.951 Z\" fill=\"#000000\" fill-rule=\"evenodd\" fill-opacity=\"1\" /><path clip-path=\"url(#clip630)\" d=\"M2150.05 137.298 L2150.05 141.28 Q2148.24 140.284 2146.42 139.798 Q2144.61 139.289 2142.76 139.289 Q2138.62 139.289 2136.32 141.928 Q2134.03 144.544 2134.03 149.289 Q2134.03 154.034 2136.32 156.673 Q2138.62 159.289 2142.76 159.289 Q2144.61 159.289 2146.42 158.803 Q2148.24 158.293 2150.05 157.298 L2150.05 161.233 Q2148.27 162.067 2146.35 162.483 Q2144.45 162.9 2142.3 162.9 Q2136.44 162.9 2132.99 159.219 Q2129.54 155.539 2129.54 149.289 Q2129.54 142.946 2133.01 139.312 Q2136.51 135.678 2142.57 135.678 Q2144.54 135.678 2146.42 136.095 Q2148.29 136.488 2150.05 137.298 Z\" fill=\"#000000\" fill-rule=\"evenodd\" fill-opacity=\"1\" /><path clip-path=\"url(#clip630)\" d=\"M2176.12 137.298 L2176.12 141.28 Q2174.31 140.284 2172.48 139.798 Q2170.68 139.289 2168.82 139.289 Q2164.68 139.289 2162.39 141.928 Q2160.1 144.544 2160.1 149.289 Q2160.1 154.034 2162.39 156.673 Q2164.68 159.289 2168.82 159.289 Q2170.68 159.289 2172.48 158.803 Q2174.31 158.293 2176.12 157.298 L2176.12 161.233 Q2174.33 162.067 2172.41 162.483 Q2170.51 162.9 2168.36 162.9 Q2162.5 162.9 2159.05 159.219 Q2155.61 155.539 2155.61 149.289 Q2155.61 142.946 2159.08 139.312 Q2162.57 135.678 2168.64 135.678 Q2170.61 135.678 2172.48 136.095 Q2174.36 136.488 2176.12 137.298 Z\" fill=\"#000000\" fill-rule=\"evenodd\" fill-opacity=\"1\" /><path clip-path=\"url(#clip630)\" d=\"M2183.52 136.303 L2187.78 136.303 L2187.78 162.229 L2183.52 162.229 L2183.52 136.303 M2183.52 126.21 L2187.78 126.21 L2187.78 131.604 L2183.52 131.604 L2183.52 126.21 Z\" fill=\"#000000\" fill-rule=\"evenodd\" fill-opacity=\"1\" /><path clip-path=\"url(#clip630)\" d=\"M2206.74 139.289 Q2203.31 139.289 2201.32 141.974 Q2199.33 144.636 2199.33 149.289 Q2199.33 153.942 2201.3 156.627 Q2203.29 159.289 2206.74 159.289 Q2210.14 159.289 2212.13 156.604 Q2214.12 153.918 2214.12 149.289 Q2214.12 144.682 2212.13 141.997 Q2210.14 139.289 2206.74 139.289 M2206.74 135.678 Q2212.3 135.678 2215.47 139.289 Q2218.64 142.9 2218.64 149.289 Q2218.64 155.655 2215.47 159.289 Q2212.3 162.9 2206.74 162.9 Q2201.16 162.9 2197.99 159.289 Q2194.84 155.655 2194.84 149.289 Q2194.84 142.9 2197.99 139.289 Q2201.16 135.678 2206.74 135.678 Z\" fill=\"#000000\" fill-rule=\"evenodd\" fill-opacity=\"1\" /><path clip-path=\"url(#clip630)\" d=\"M2247.25 146.581 L2247.25 162.229 L2242.99 162.229 L2242.99 146.719 Q2242.99 143.039 2241.55 141.21 Q2240.12 139.382 2237.25 139.382 Q2233.8 139.382 2231.81 141.581 Q2229.82 143.78 2229.82 147.576 L2229.82 162.229 L2225.54 162.229 L2225.54 136.303 L2229.82 136.303 L2229.82 140.331 Q2231.35 137.993 2233.41 136.835 Q2235.49 135.678 2238.2 135.678 Q2242.67 135.678 2244.96 138.456 Q2247.25 141.21 2247.25 146.581 Z\" fill=\"#000000\" fill-rule=\"evenodd\" fill-opacity=\"1\" /></svg>\n"
      ]
     },
     "execution_count": 683,
     "metadata": {},
     "output_type": "execute_result"
    },
    {
     "name": "stderr",
     "output_type": "stream",
     "text": [
      "┌ Warning: No strict ticks found\n",
      "└ @ PlotUtils /home/rdpaula/.julia/packages/PlotUtils/jNTYY/src/ticks.jl:191\n",
      "┌ Warning: No strict ticks found\n",
      "└ @ PlotUtils /home/rdpaula/.julia/packages/PlotUtils/jNTYY/src/ticks.jl:191\n"
     ]
    }
   ],
   "source": [
    "scatter(0:34,Vr,xlabel=\"i\",ylabel=\"Error Relatiivo\",label=\"Biseccion\",yscale=:log10,ylim=(-0.1,1.1))"
   ]
  },
  {
   "cell_type": "code",
   "execution_count": 682,
   "metadata": {},
   "outputs": [
    {
     "data": {
      "text/plain": [
       "35-element Vector{Float64}:\n",
       " 1.0\n",
       " 0.3333333333333333\n",
       " 0.2\n",
       " 0.09090909090909091\n",
       " 0.043478260869565216\n",
       " 0.022222222222222223\n",
       " 0.011235955056179775\n",
       " 0.005649717514124294\n",
       " 0.0028169014084507044\n",
       " 0.0014104372355430183\n",
       " 0.0007047216349541931\n",
       " 0.00035248501938667606\n",
       " 0.0001762114537444934\n",
       " ⋮\n",
       " 8.603188840769342e-8\n",
       " 4.3015946054218244e-8\n",
       " 2.1507973489702038e-8\n",
       " 1.075398686049925e-8\n",
       " 5.376993401337567e-9\n",
       " 2.688496693440769e-9\n",
       " 1.344248348527388e-9\n",
       " 6.721241738119432e-10\n",
       " 3.360620870189093e-10\n",
       " 1.680310434812202e-10\n",
       " 8.401552174766872e-11\n",
       " 4.2007760872069706e-11"
      ]
     },
     "execution_count": 682,
     "metadata": {},
     "output_type": "execute_result"
    }
   ],
   "source": [
    "Vr"
   ]
  },
  {
   "cell_type": "code",
   "execution_count": 412,
   "metadata": {},
   "outputs": [
    {
     "data": {
      "text/plain": [
       "(true, [0.0, 1.85, 1.7358108108108108, 1.7320548799091033, 1.7320508075736647, 1.7320508075688772], [0.0, 0.4225000000000003, 0.013039170927684474, 1.4107016938602612e-5, 1.6584067452640738e-11, -4.440892098500626e-16], [0.0, 0.6499999999999999, 0.1141891891891893, 0.0037559309017074494, 4.072335438642938e-6, 4.7875037267886e-12], [0.0, 0.35135135135135126, 0.0657843518878942, 0.0021684826186942514, 2.3511639617244542e-6, 2.764066565407735e-12])"
      ]
     },
     "execution_count": 412,
     "metadata": {},
     "output_type": "execute_result"
    }
   ],
   "source": [
    "f(x)=x^2-3\n",
    "df(x)= 2x\n",
    "p=2.5\n",
    "conv,Vp,Vf,Vc,Vr = Newton_Raphson(f,df,p)"
   ]
  },
  {
   "cell_type": "code",
   "execution_count": 413,
   "metadata": {},
   "outputs": [
    {
     "data": {
      "image/svg+xml": [
       "<?xml version=\"1.0\" encoding=\"utf-8\"?>\n",
       "<svg xmlns=\"http://www.w3.org/2000/svg\" xmlns:xlink=\"http://www.w3.org/1999/xlink\" width=\"600\" height=\"400\" viewBox=\"0 0 2400 1600\">\n",
       "<defs>\n",
       "  <clipPath id=\"clip070\">\n",
       "    <rect x=\"0\" y=\"0\" width=\"2400\" height=\"1600\"/>\n",
       "  </clipPath>\n",
       "</defs>\n",
       "<path clip-path=\"url(#clip070)\" d=\"\n",
       "M0 1600 L2400 1600 L2400 0 L0 0  Z\n",
       "  \" fill=\"#ffffff\" fill-rule=\"evenodd\" fill-opacity=\"1\"/>\n",
       "<defs>\n",
       "  <clipPath id=\"clip071\">\n",
       "    <rect x=\"480\" y=\"0\" width=\"1681\" height=\"1600\"/>\n",
       "  </clipPath>\n",
       "</defs>\n",
       "<path clip-path=\"url(#clip070)\" d=\"\n",
       "M453.631 1423.18 L2352.76 1423.18 L2352.76 47.2441 L453.631 47.2441  Z\n",
       "  \" fill=\"#ffffff\" fill-rule=\"evenodd\" fill-opacity=\"1\"/>\n",
       "<defs>\n",
       "  <clipPath id=\"clip072\">\n",
       "    <rect x=\"453\" y=\"47\" width=\"1900\" height=\"1377\"/>\n",
       "  </clipPath>\n",
       "</defs>\n",
       "<polyline clip-path=\"url(#clip072)\" style=\"stroke:#000000; stroke-linecap:butt; stroke-linejoin:round; stroke-width:2; stroke-opacity:0.1; fill:none\" points=\"\n",
       "  507.38,1423.18 507.38,47.2441 \n",
       "  \"/>\n",
       "<polyline clip-path=\"url(#clip072)\" style=\"stroke:#000000; stroke-linecap:butt; stroke-linejoin:round; stroke-width:2; stroke-opacity:0.1; fill:none\" points=\"\n",
       "  1034.33,1423.18 1034.33,47.2441 \n",
       "  \"/>\n",
       "<polyline clip-path=\"url(#clip072)\" style=\"stroke:#000000; stroke-linecap:butt; stroke-linejoin:round; stroke-width:2; stroke-opacity:0.1; fill:none\" points=\"\n",
       "  1561.28,1423.18 1561.28,47.2441 \n",
       "  \"/>\n",
       "<polyline clip-path=\"url(#clip072)\" style=\"stroke:#000000; stroke-linecap:butt; stroke-linejoin:round; stroke-width:2; stroke-opacity:0.1; fill:none\" points=\"\n",
       "  2088.23,1423.18 2088.23,47.2441 \n",
       "  \"/>\n",
       "<polyline clip-path=\"url(#clip070)\" style=\"stroke:#000000; stroke-linecap:butt; stroke-linejoin:round; stroke-width:4; stroke-opacity:1; fill:none\" points=\"\n",
       "  453.631,1423.18 2352.76,1423.18 \n",
       "  \"/>\n",
       "<path clip-path=\"url(#clip070)\" d=\"M507.38 1454.1 Q503.769 1454.1 501.94 1457.66 Q500.134 1461.2 500.134 1468.33 Q500.134 1475.44 501.94 1479.01 Q503.769 1482.55 507.38 1482.55 Q511.014 1482.55 512.82 1479.01 Q514.648 1475.44 514.648 1468.33 Q514.648 1461.2 512.82 1457.66 Q511.014 1454.1 507.38 1454.1 M507.38 1450.39 Q513.19 1450.39 516.245 1455 Q519.324 1459.58 519.324 1468.33 Q519.324 1477.06 516.245 1481.67 Q513.19 1486.25 507.38 1486.25 Q501.57 1486.25 498.491 1481.67 Q495.435 1477.06 495.435 1468.33 Q495.435 1459.58 498.491 1455 Q501.57 1450.39 507.38 1450.39 Z\" fill=\"#000000\" fill-rule=\"evenodd\" fill-opacity=\"1\" /><path clip-path=\"url(#clip070)\" d=\"M1009.02 1481.64 L1016.66 1481.64 L1016.66 1455.28 L1008.35 1456.95 L1008.35 1452.69 L1016.61 1451.02 L1021.29 1451.02 L1021.29 1481.64 L1028.92 1481.64 L1028.92 1485.58 L1009.02 1485.58 L1009.02 1481.64 Z\" fill=\"#000000\" fill-rule=\"evenodd\" fill-opacity=\"1\" /><path clip-path=\"url(#clip070)\" d=\"M1048.37 1454.1 Q1044.76 1454.1 1042.93 1457.66 Q1041.12 1461.2 1041.12 1468.33 Q1041.12 1475.44 1042.93 1479.01 Q1044.76 1482.55 1048.37 1482.55 Q1052 1482.55 1053.81 1479.01 Q1055.64 1475.44 1055.64 1468.33 Q1055.64 1461.2 1053.81 1457.66 Q1052 1454.1 1048.37 1454.1 M1048.37 1450.39 Q1054.18 1450.39 1057.23 1455 Q1060.31 1459.58 1060.31 1468.33 Q1060.31 1477.06 1057.23 1481.67 Q1054.18 1486.25 1048.37 1486.25 Q1042.56 1486.25 1039.48 1481.67 Q1036.42 1477.06 1036.42 1468.33 Q1036.42 1459.58 1039.48 1455 Q1042.56 1450.39 1048.37 1450.39 Z\" fill=\"#000000\" fill-rule=\"evenodd\" fill-opacity=\"1\" /><path clip-path=\"url(#clip070)\" d=\"M1540.05 1481.64 L1556.37 1481.64 L1556.37 1485.58 L1534.43 1485.58 L1534.43 1481.64 Q1537.09 1478.89 1541.67 1474.26 Q1546.28 1469.61 1547.46 1468.27 Q1549.7 1465.74 1550.58 1464.01 Q1551.49 1462.25 1551.49 1460.56 Q1551.49 1457.8 1549.54 1456.07 Q1547.62 1454.33 1544.52 1454.33 Q1542.32 1454.33 1539.87 1455.09 Q1537.44 1455.86 1534.66 1457.41 L1534.66 1452.69 Q1537.48 1451.55 1539.94 1450.97 Q1542.39 1450.39 1544.43 1450.39 Q1549.8 1450.39 1552.99 1453.08 Q1556.19 1455.77 1556.19 1460.26 Q1556.19 1462.39 1555.38 1464.31 Q1554.59 1466.2 1552.48 1468.8 Q1551.9 1469.47 1548.8 1472.69 Q1545.7 1475.88 1540.05 1481.64 Z\" fill=\"#000000\" fill-rule=\"evenodd\" fill-opacity=\"1\" /><path clip-path=\"url(#clip070)\" d=\"M1576.19 1454.1 Q1572.57 1454.1 1570.75 1457.66 Q1568.94 1461.2 1568.94 1468.33 Q1568.94 1475.44 1570.75 1479.01 Q1572.57 1482.55 1576.19 1482.55 Q1579.82 1482.55 1581.63 1479.01 Q1583.45 1475.44 1583.45 1468.33 Q1583.45 1461.2 1581.63 1457.66 Q1579.82 1454.1 1576.19 1454.1 M1576.19 1450.39 Q1582 1450.39 1585.05 1455 Q1588.13 1459.58 1588.13 1468.33 Q1588.13 1477.06 1585.05 1481.67 Q1582 1486.25 1576.19 1486.25 Q1570.38 1486.25 1567.3 1481.67 Q1564.24 1477.06 1564.24 1468.33 Q1564.24 1459.58 1567.3 1455 Q1570.38 1450.39 1576.19 1450.39 Z\" fill=\"#000000\" fill-rule=\"evenodd\" fill-opacity=\"1\" /><path clip-path=\"url(#clip070)\" d=\"M2077.07 1466.95 Q2080.43 1467.66 2082.3 1469.93 Q2084.2 1472.2 2084.2 1475.53 Q2084.2 1480.65 2080.68 1483.45 Q2077.16 1486.25 2070.68 1486.25 Q2068.51 1486.25 2066.19 1485.81 Q2063.9 1485.39 2061.45 1484.54 L2061.45 1480.02 Q2063.39 1481.16 2065.7 1481.74 Q2068.02 1482.32 2070.54 1482.32 Q2074.94 1482.32 2077.23 1480.58 Q2079.55 1478.84 2079.55 1475.53 Q2079.55 1472.48 2077.39 1470.77 Q2075.26 1469.03 2071.45 1469.03 L2067.42 1469.03 L2067.42 1465.19 L2071.63 1465.19 Q2075.08 1465.19 2076.91 1463.82 Q2078.74 1462.43 2078.74 1459.84 Q2078.74 1457.18 2076.84 1455.77 Q2074.96 1454.33 2071.45 1454.33 Q2069.52 1454.33 2067.32 1454.75 Q2065.13 1455.16 2062.49 1456.04 L2062.49 1451.88 Q2065.15 1451.14 2067.46 1450.77 Q2069.8 1450.39 2071.86 1450.39 Q2077.19 1450.39 2080.29 1452.83 Q2083.39 1455.23 2083.39 1459.35 Q2083.39 1462.22 2081.75 1464.21 Q2080.1 1466.18 2077.07 1466.95 Z\" fill=\"#000000\" fill-rule=\"evenodd\" fill-opacity=\"1\" /><path clip-path=\"url(#clip070)\" d=\"M2103.07 1454.1 Q2099.45 1454.1 2097.63 1457.66 Q2095.82 1461.2 2095.82 1468.33 Q2095.82 1475.44 2097.63 1479.01 Q2099.45 1482.55 2103.07 1482.55 Q2106.7 1482.55 2108.51 1479.01 Q2110.33 1475.44 2110.33 1468.33 Q2110.33 1461.2 2108.51 1457.66 Q2106.7 1454.1 2103.07 1454.1 M2103.07 1450.39 Q2108.88 1450.39 2111.93 1455 Q2115.01 1459.58 2115.01 1468.33 Q2115.01 1477.06 2111.93 1481.67 Q2108.88 1486.25 2103.07 1486.25 Q2097.26 1486.25 2094.18 1481.67 Q2091.12 1477.06 2091.12 1468.33 Q2091.12 1459.58 2094.18 1455 Q2097.26 1450.39 2103.07 1450.39 Z\" fill=\"#000000\" fill-rule=\"evenodd\" fill-opacity=\"1\" /><path clip-path=\"url(#clip070)\" d=\"M1400.27 1532.4 L1406.12 1532.4 L1406.12 1568.04 L1400.27 1568.04 L1400.27 1532.4 M1400.27 1518.52 L1406.12 1518.52 L1406.12 1525.93 L1400.27 1525.93 L1400.27 1518.52 Z\" fill=\"#000000\" fill-rule=\"evenodd\" fill-opacity=\"1\" /><polyline clip-path=\"url(#clip072)\" style=\"stroke:#000000; stroke-linecap:butt; stroke-linejoin:round; stroke-width:2; stroke-opacity:0.1; fill:none\" points=\"\n",
       "  453.631,47.2441 2352.76,47.2441 \n",
       "  \"/>\n",
       "<polyline clip-path=\"url(#clip070)\" style=\"stroke:#000000; stroke-linecap:butt; stroke-linejoin:round; stroke-width:4; stroke-opacity:1; fill:none\" points=\"\n",
       "  453.631,1423.18 453.631,47.2441 \n",
       "  \"/>\n",
       "<polyline clip-path=\"url(#clip070)\" style=\"stroke:#000000; stroke-linecap:butt; stroke-linejoin:round; stroke-width:4; stroke-opacity:1; fill:none\" points=\"\n",
       "  453.631,47.2441 472.529,47.2441 \n",
       "  \"/>\n",
       "<path clip-path=\"url(#clip070)\" d=\"M-nan -nan L-nan -nan L-nan -nan L-nan -nan L-nan -nan L-nan -nan L-nan -nan L-nan -nan L-nan -nan L-nan -nan L-nan -nan L-nan -nan Z\" fill=\"#000000\" fill-rule=\"evenodd\" fill-opacity=\"1\" /><path clip-path=\"url(#clip070)\" d=\"M-nan -nan Q-nan -nan -nan -nan Q-nan -nan -nan -nan Q-nan -nan -nan -nan Q-nan -nan -nan -nan Q-nan -nan -nan -nan Q-nan -nan -nan -nan Q-nan -nan -nan -nan Q-nan -nan -nan -nan M-nan -nan Q-nan -nan -nan -nan Q-nan -nan -nan -nan Q-nan -nan -nan -nan Q-nan -nan -nan -nan Q-nan -nan -nan -nan Q-nan -nan -nan -nan Q-nan -nan -nan -nan Q-nan -nan -nan -nan Z\" fill=\"#000000\" fill-rule=\"evenodd\" fill-opacity=\"1\" /><path clip-path=\"url(#clip070)\" d=\"M-nan -nan L-nan -nan L-nan -nan L-nan -nan L-nan -nan L-nan -nan L-nan -nan L-nan -nan L-nan -nan L-nan -nan L-nan -nan Z\" fill=\"#000000\" fill-rule=\"evenodd\" fill-opacity=\"1\" /><path clip-path=\"url(#clip070)\" d=\"M-nan -nan Q-nan -nan -nan -nan Q-nan -nan -nan -nan Q-nan -nan -nan -nan Q-nan -nan -nan -nan Q-nan -nan -nan -nan Q-nan -nan -nan -nan L-nan -nan L-nan -nan M-nan -nan L-nan -nan L-nan -nan L-nan -nan Q-nan -nan -nan -nan Q-nan -nan -nan -nan Q-nan -nan -nan -nan Q-nan -nan -nan -nan Q-nan -nan -nan -nan Q-nan -nan -nan -nan L-nan -nan L-nan -nan Q-nan -nan -nan -nan Q-nan -nan -nan -nan Q-nan -nan -nan -nan Q-nan -nan -nan -nan L-nan -nan Q-nan -nan -nan -nan Q-nan -nan -nan -nan Q-nan -nan -nan -nan Q-nan -nan -nan -nan Z\" fill=\"#000000\" fill-rule=\"evenodd\" fill-opacity=\"1\" /><path clip-path=\"url(#clip070)\" d=\"M-nan -nan L-nan -nan L-nan -nan L-nan -nan L-nan -nan L-nan -nan L-nan -nan L-nan -nan L-nan -nan L-nan -nan L-nan -nan Z\" fill=\"#000000\" fill-rule=\"evenodd\" fill-opacity=\"1\" /><path clip-path=\"url(#clip070)\" d=\"M114.931 67.0365 L122.57 67.0365 L122.57 40.6709 L114.26 42.3376 L114.26 38.0784 L122.524 36.4117 L127.2 36.4117 L127.2 67.0365 L134.839 67.0365 L134.839 70.9717 L114.931 70.9717 L114.931 67.0365 Z\" fill=\"#000000\" fill-rule=\"evenodd\" fill-opacity=\"1\" /><path clip-path=\"url(#clip070)\" d=\"M154.283 39.4904 Q150.672 39.4904 148.843 43.0552 Q147.038 46.5968 147.038 53.7264 Q147.038 60.8329 148.843 64.3977 Q150.672 67.9393 154.283 67.9393 Q157.917 67.9393 159.723 64.3977 Q161.552 60.8329 161.552 53.7264 Q161.552 46.5968 159.723 43.0552 Q157.917 39.4904 154.283 39.4904 M154.283 35.7867 Q160.093 35.7867 163.149 40.3932 Q166.227 44.9765 166.227 53.7264 Q166.227 62.4532 163.149 67.0597 Q160.093 71.643 154.283 71.643 Q148.473 71.643 145.394 67.0597 Q142.339 62.4532 142.339 53.7264 Q142.339 44.9765 145.394 40.3932 Q148.473 35.7867 154.283 35.7867 Z\" fill=\"#000000\" fill-rule=\"evenodd\" fill-opacity=\"1\" /><path clip-path=\"url(#clip070)\" d=\"M175.932 17.9827 Q172.998 17.9827 171.512 20.8791 Q170.045 23.7567 170.045 29.5495 Q170.045 35.3235 171.512 38.2199 Q172.998 41.0975 175.932 41.0975 Q178.885 41.0975 180.352 38.2199 Q181.838 35.3235 181.838 29.5495 Q181.838 23.7567 180.352 20.8791 Q178.885 17.9827 175.932 17.9827 M175.932 14.9735 Q180.653 14.9735 183.136 18.7162 Q185.637 22.4402 185.637 29.5495 Q185.637 36.64 183.136 40.3828 Q180.653 44.1067 175.932 44.1067 Q171.212 44.1067 168.71 40.3828 Q166.227 36.64 166.227 29.5495 Q166.227 22.4402 168.71 18.7162 Q171.212 14.9735 175.932 14.9735 Z\" fill=\"#000000\" fill-rule=\"evenodd\" fill-opacity=\"1\" /><path clip-path=\"url(#clip070)\" d=\"M192.314 38.7841 L196.282 38.7841 L196.282 43.5613 L192.314 43.5613 L192.314 38.7841 Z\" fill=\"#000000\" fill-rule=\"evenodd\" fill-opacity=\"1\" /><path clip-path=\"url(#clip070)\" d=\"M212.683 17.9827 Q209.749 17.9827 208.263 20.8791 Q206.796 23.7567 206.796 29.5495 Q206.796 35.3235 208.263 38.2199 Q209.749 41.0975 212.683 41.0975 Q215.635 41.0975 217.102 38.2199 Q218.588 35.3235 218.588 29.5495 Q218.588 23.7567 217.102 20.8791 Q215.635 17.9827 212.683 17.9827 M212.683 14.9735 Q217.403 14.9735 219.886 18.7162 Q222.387 22.4402 222.387 29.5495 Q222.387 36.64 219.886 40.3828 Q217.403 44.1067 212.683 44.1067 Q207.962 44.1067 205.46 40.3828 Q202.978 36.64 202.978 29.5495 Q202.978 22.4402 205.46 18.7162 Q207.962 14.9735 212.683 14.9735 Z\" fill=\"#000000\" fill-rule=\"evenodd\" fill-opacity=\"1\" /><path clip-path=\"url(#clip070)\" d=\"M239.503 18.7915 L229.911 33.7813 L239.503 33.7813 L239.503 18.7915 M238.506 15.4813 L243.283 15.4813 L243.283 33.7813 L247.289 33.7813 L247.289 36.941 L243.283 36.941 L243.283 43.5613 L239.503 43.5613 L239.503 36.941 L226.826 36.941 L226.826 33.2734 L238.506 15.4813 Z\" fill=\"#000000\" fill-rule=\"evenodd\" fill-opacity=\"1\" /><path clip-path=\"url(#clip070)\" d=\"M254.229 40.364 L260.436 40.364 L260.436 18.9419 L253.684 20.2961 L253.684 16.8355 L260.398 15.4813 L264.197 15.4813 L264.197 40.364 L270.404 40.364 L270.404 43.5613 L254.229 43.5613 L254.229 40.364 Z\" fill=\"#000000\" fill-rule=\"evenodd\" fill-opacity=\"1\" /><path clip-path=\"url(#clip070)\" d=\"M289.588 28.421 Q292.315 29.0041 293.838 30.8472 Q295.38 32.6904 295.38 35.3987 Q295.38 39.5552 292.522 41.831 Q289.663 44.1067 284.397 44.1067 Q282.629 44.1067 280.748 43.7494 Q278.886 43.4108 276.892 42.7149 L276.892 39.0474 Q278.472 39.969 280.353 40.4392 Q282.234 40.9094 284.284 40.9094 Q287.857 40.9094 289.719 39.4988 Q291.6 38.0882 291.6 35.3987 Q291.6 32.9161 289.851 31.5243 Q288.121 30.1137 285.017 30.1137 L281.745 30.1137 L281.745 26.9916 L285.168 26.9916 Q287.97 26.9916 289.456 25.882 Q290.942 24.7535 290.942 22.6471 Q290.942 20.4842 289.4 19.3369 Q287.876 18.1708 285.017 18.1708 Q283.456 18.1708 281.67 18.5093 Q279.883 18.8479 277.739 19.5626 L277.739 16.1772 Q279.902 15.5753 281.782 15.2744 Q283.682 14.9735 285.356 14.9735 Q289.682 14.9735 292.202 16.9483 Q294.722 18.9043 294.722 22.2521 Q294.722 24.5843 293.387 26.2017 Q292.051 27.8004 289.588 28.421 Z\" fill=\"#000000\" fill-rule=\"evenodd\" fill-opacity=\"1\" /><path clip-path=\"url(#clip070)\" d=\"M302.697 42.9783 L302.697 39.5176 Q304.126 40.1947 305.593 40.5521 Q307.06 40.9094 308.471 40.9094 Q312.232 40.9094 314.207 38.3892 Q316.201 35.8501 316.483 30.6968 Q315.392 32.3142 313.718 33.1794 Q312.044 34.0446 310.013 34.0446 Q305.8 34.0446 303.336 31.5055 Q300.891 28.9477 300.891 24.5278 Q300.891 20.202 303.449 17.5878 Q306.007 14.9735 310.257 14.9735 Q315.129 14.9735 317.686 18.7162 Q320.263 22.4402 320.263 29.5495 Q320.263 36.1886 317.103 40.1571 Q313.963 44.1067 308.64 44.1067 Q307.211 44.1067 305.744 43.8246 Q304.277 43.5425 302.697 42.9783 M310.257 31.0729 Q312.815 31.0729 314.301 29.3238 Q315.806 27.5747 315.806 24.5278 Q315.806 21.4998 314.301 19.7507 Q312.815 17.9827 310.257 17.9827 Q307.7 17.9827 306.195 19.7507 Q304.709 21.4998 304.709 24.5278 Q304.709 27.5747 306.195 29.3238 Q307.7 31.0729 310.257 31.0729 Z\" fill=\"#000000\" fill-rule=\"evenodd\" fill-opacity=\"1\" /><path clip-path=\"url(#clip070)\" d=\"M330.363 40.364 L343.622 40.364 L343.622 43.5613 L325.793 43.5613 L325.793 40.364 Q327.955 38.1258 331.679 34.3643 Q335.422 30.5839 336.381 29.4931 Q338.206 27.443 338.92 26.0325 Q339.654 24.6031 339.654 23.2301 Q339.654 20.992 338.074 19.5814 Q336.513 18.1708 333.993 18.1708 Q332.206 18.1708 330.212 18.7915 Q328.238 19.4121 325.981 20.6722 L325.981 16.8355 Q328.275 15.9139 330.269 15.4437 Q332.262 14.9735 333.918 14.9735 Q338.281 14.9735 340.876 17.1552 Q343.472 19.3369 343.472 22.9856 Q343.472 24.7159 342.814 26.277 Q342.174 27.8192 340.463 29.9257 Q339.992 30.4711 337.472 33.0854 Q334.952 35.6808 330.363 40.364 Z\" fill=\"#000000\" fill-rule=\"evenodd\" fill-opacity=\"1\" /><path clip-path=\"url(#clip070)\" d=\"M360.192 28.0073 Q357.634 28.0073 356.13 29.7564 Q354.644 31.5055 354.644 34.5524 Q354.644 37.5804 356.13 39.3484 Q357.634 41.0975 360.192 41.0975 Q362.75 41.0975 364.236 39.3484 Q365.74 37.5804 365.74 34.5524 Q365.74 31.5055 364.236 29.7564 Q362.75 28.0073 360.192 28.0073 M367.734 16.102 L367.734 19.5626 Q366.305 18.8855 364.838 18.5282 Q363.389 18.1708 361.96 18.1708 Q358.198 18.1708 356.205 20.7099 Q354.23 23.2489 353.948 28.3834 Q355.057 26.7471 356.731 25.882 Q358.405 24.998 360.418 24.998 Q364.649 24.998 367.094 27.5747 Q369.558 30.1325 369.558 34.5524 Q369.558 38.8782 367 41.4924 Q364.443 44.1067 360.192 44.1067 Q355.321 44.1067 352.744 40.3828 Q350.167 36.64 350.167 29.5495 Q350.167 22.8916 353.327 18.9419 Q356.487 14.9735 361.809 14.9735 Q363.239 14.9735 364.687 15.2556 Q366.154 15.5377 367.734 16.102 Z\" fill=\"#000000\" fill-rule=\"evenodd\" fill-opacity=\"1\" /><path clip-path=\"url(#clip070)\" d=\"M384.228 30.2266 Q381.52 30.2266 379.959 31.6748 Q378.417 33.123 378.417 35.662 Q378.417 38.2011 379.959 39.6493 Q381.52 41.0975 384.228 41.0975 Q386.937 41.0975 388.498 39.6493 Q390.059 38.1823 390.059 35.662 Q390.059 33.123 388.498 31.6748 Q386.955 30.2266 384.228 30.2266 M380.429 28.6091 Q377.984 28.0073 376.611 26.3334 Q375.257 24.6595 375.257 22.2521 Q375.257 18.8855 377.646 16.9295 Q380.053 14.9735 384.228 14.9735 Q388.422 14.9735 390.811 16.9295 Q393.2 18.8855 393.2 22.2521 Q393.2 24.6595 391.827 26.3334 Q390.473 28.0073 388.046 28.6091 Q390.792 29.2486 392.316 31.1106 Q393.858 32.9725 393.858 35.662 Q393.858 39.7433 391.356 41.925 Q388.874 44.1067 384.228 44.1067 Q379.583 44.1067 377.081 41.925 Q374.599 39.7433 374.599 35.662 Q374.599 32.9725 376.141 31.1106 Q377.683 29.2486 380.429 28.6091 M379.037 22.6094 Q379.037 24.7911 380.392 26.0136 Q381.765 27.2362 384.228 27.2362 Q386.673 27.2362 388.046 26.0136 Q389.438 24.7911 389.438 22.6094 Q389.438 20.4277 388.046 19.2052 Q386.673 17.9827 384.228 17.9827 Q381.765 17.9827 380.392 19.2052 Q379.037 20.4277 379.037 22.6094 Z\" fill=\"#000000\" fill-rule=\"evenodd\" fill-opacity=\"1\" /><path clip-path=\"url(#clip070)\" d=\"M400.648 15.4813 L415.562 15.4813 L415.562 18.6786 L404.127 18.6786 L404.127 25.5623 Q404.954 25.2801 405.782 25.1485 Q406.61 24.998 407.437 24.998 Q412.139 24.998 414.885 27.5747 Q417.631 30.1514 417.631 34.5524 Q417.631 39.085 414.81 41.6053 Q411.989 44.1067 406.854 44.1067 Q405.086 44.1067 403.243 43.8058 Q401.419 43.5049 399.463 42.903 L399.463 39.085 Q401.155 40.0066 402.961 40.458 Q404.766 40.9094 406.779 40.9094 Q410.033 40.9094 411.932 39.1979 Q413.832 37.4864 413.832 34.5524 Q413.832 31.6184 411.932 29.9069 Q410.033 28.1953 406.779 28.1953 Q405.255 28.1953 403.732 28.5339 Q402.227 28.8724 400.648 29.5871 L400.648 15.4813 Z\" fill=\"#000000\" fill-rule=\"evenodd\" fill-opacity=\"1\" /><path clip-path=\"url(#clip070)\" d=\"M16.4842 960.415 L16.4842 930.369 L21.895 930.369 L21.895 953.985 L35.9632 953.985 L35.9632 931.355 L41.3741 931.355 L41.3741 953.985 L58.5933 953.985 L58.5933 929.796 L64.0042 929.796 L64.0042 960.415 L16.4842 960.415 Z\" fill=\"#000000\" fill-rule=\"evenodd\" fill-opacity=\"1\" /><path clip-path=\"url(#clip070)\" d=\"M33.8307 898.827 Q33.2578 899.813 33.0032 900.991 Q32.7167 902.137 32.7167 903.537 Q32.7167 908.502 35.9632 911.176 Q39.1779 913.818 45.2253 913.818 L64.0042 913.818 L64.0042 919.706 L28.3562 919.706 L28.3562 913.818 L33.8944 913.818 Q30.6479 911.972 29.0883 909.012 Q27.4968 906.052 27.4968 901.818 Q27.4968 901.214 27.5923 900.482 Q27.656 899.75 27.8151 898.858 L33.8307 898.827 Z\" fill=\"#000000\" fill-rule=\"evenodd\" fill-opacity=\"1\" /><path clip-path=\"url(#clip070)\" d=\"M33.8307 873.173 Q33.2578 874.159 33.0032 875.337 Q32.7167 876.483 32.7167 877.883 Q32.7167 882.849 35.9632 885.522 Q39.1779 888.164 45.2253 888.164 L64.0042 888.164 L64.0042 894.052 L28.3562 894.052 L28.3562 888.164 L33.8944 888.164 Q30.6479 886.318 29.0883 883.358 Q27.4968 880.398 27.4968 876.165 Q27.4968 875.56 27.5923 874.828 Q27.656 874.096 27.8151 873.205 L33.8307 873.173 Z\" fill=\"#000000\" fill-rule=\"evenodd\" fill-opacity=\"1\" /><path clip-path=\"url(#clip070)\" d=\"M32.4621 854.649 Q32.4621 859.359 36.1542 862.096 Q39.8145 864.834 46.212 864.834 Q52.6095 864.834 56.3017 862.128 Q59.9619 859.391 59.9619 854.649 Q59.9619 849.97 56.2698 847.232 Q52.5777 844.495 46.212 844.495 Q39.8781 844.495 36.186 847.232 Q32.4621 849.97 32.4621 854.649 M27.4968 854.649 Q27.4968 847.01 32.4621 842.649 Q37.4273 838.289 46.212 838.289 Q54.9649 838.289 59.9619 842.649 Q64.9272 847.01 64.9272 854.649 Q64.9272 862.319 59.9619 866.68 Q54.9649 871.008 46.212 871.008 Q37.4273 871.008 32.4621 866.68 Q27.4968 862.319 27.4968 854.649 Z\" fill=\"#000000\" fill-rule=\"evenodd\" fill-opacity=\"1\" /><path clip-path=\"url(#clip070)\" d=\"M33.8307 807.924 Q33.2578 808.911 33.0032 810.089 Q32.7167 811.234 32.7167 812.635 Q32.7167 817.6 35.9632 820.274 Q39.1779 822.915 45.2253 822.915 L64.0042 822.915 L64.0042 828.804 L28.3562 828.804 L28.3562 822.915 L33.8944 822.915 Q30.6479 821.069 29.0883 818.109 Q27.4968 815.149 27.4968 810.916 Q27.4968 810.311 27.5923 809.579 Q27.656 808.847 27.8151 807.956 L33.8307 807.924 Z\" fill=\"#000000\" fill-rule=\"evenodd\" fill-opacity=\"1\" /><path clip-path=\"url(#clip070)\" d=\"M41.7242 758.272 Q42.4244 756.203 44.7161 754.261 Q47.0077 752.288 51.0181 750.315 L64.0042 743.79 L64.0042 750.697 L51.8138 756.776 Q47.0395 759.131 45.48 761.359 Q43.9204 763.555 43.9204 767.375 L43.9204 774.377 L64.0042 774.377 L64.0042 780.806 L16.4842 780.806 L16.4842 766.293 Q16.4842 758.144 19.8898 754.134 Q23.2955 750.124 30.1704 750.124 Q34.6582 750.124 37.6183 752.224 Q40.5784 754.293 41.7242 758.272 M21.7677 774.377 L38.6368 774.377 L38.6368 766.293 Q38.6368 761.646 36.5043 759.29 Q34.34 756.903 30.1704 756.903 Q26.0009 756.903 23.9002 759.29 Q21.7677 761.646 21.7677 766.293 L21.7677 774.377 Z\" fill=\"#000000\" fill-rule=\"evenodd\" fill-opacity=\"1\" /><path clip-path=\"url(#clip070)\" d=\"M44.7161 708.205 L47.5806 708.205 L47.5806 735.132 Q53.6281 734.75 56.8109 731.504 Q59.9619 728.226 59.9619 722.401 Q59.9619 719.027 59.1344 715.876 Q58.3069 712.693 56.6518 709.574 L62.1899 709.574 Q63.5267 712.725 64.227 716.035 Q64.9272 719.345 64.9272 722.751 Q64.9272 731.281 59.9619 736.278 Q54.9967 741.243 46.5303 741.243 Q37.7774 741.243 32.6531 736.533 Q27.4968 731.79 27.4968 723.77 Q27.4968 716.576 32.1438 712.407 Q36.7589 708.205 44.7161 708.205 M42.9973 714.062 Q38.1912 714.126 35.3266 716.767 Q32.4621 719.377 32.4621 723.706 Q32.4621 728.608 35.2312 731.568 Q38.0002 734.496 43.0292 734.941 L42.9973 714.062 Z\" fill=\"#000000\" fill-rule=\"evenodd\" fill-opacity=\"1\" /><path clip-path=\"url(#clip070)\" d=\"M14.479 698.593 L14.479 692.737 L64.0042 692.737 L64.0042 698.593 L14.479 698.593 Z\" fill=\"#000000\" fill-rule=\"evenodd\" fill-opacity=\"1\" /><path clip-path=\"url(#clip070)\" d=\"M46.0847 664.282 Q46.0847 671.38 47.7079 674.117 Q49.3312 676.854 53.2461 676.854 Q56.3653 676.854 58.2114 674.817 Q60.0256 672.748 60.0256 669.216 Q60.0256 664.346 56.5881 661.418 Q53.1188 658.457 47.3897 658.457 L46.0847 658.457 L46.0847 664.282 M43.6657 652.601 L64.0042 652.601 L64.0042 658.457 L58.5933 658.457 Q61.8398 660.463 63.3994 663.455 Q64.9272 666.446 64.9272 670.775 Q64.9272 676.25 61.8716 679.496 Q58.7843 682.711 53.6281 682.711 Q47.6125 682.711 44.5569 678.7 Q41.5014 674.658 41.5014 666.669 L41.5014 658.457 L40.9285 658.457 Q36.8862 658.457 34.6901 661.131 Q32.4621 663.773 32.4621 668.579 Q32.4621 671.634 33.1941 674.531 Q33.9262 677.427 35.3903 680.101 L29.9795 680.101 Q28.7381 676.886 28.1334 673.862 Q27.4968 670.839 27.4968 667.974 Q27.4968 660.24 31.5072 656.42 Q35.5176 652.601 43.6657 652.601 Z\" fill=\"#000000\" fill-rule=\"evenodd\" fill-opacity=\"1\" /><path clip-path=\"url(#clip070)\" d=\"M18.2347 634.745 L28.3562 634.745 L28.3562 622.682 L32.9077 622.682 L32.9077 634.745 L52.2594 634.745 Q56.6199 634.745 57.8613 633.568 Q59.1026 632.358 59.1026 628.698 L59.1026 622.682 L64.0042 622.682 L64.0042 628.698 Q64.0042 635.477 61.4897 638.055 Q58.9434 640.633 52.2594 640.633 L32.9077 640.633 L32.9077 644.93 L28.3562 644.93 L28.3562 640.633 L18.2347 640.633 L18.2347 634.745 Z\" fill=\"#000000\" fill-rule=\"evenodd\" fill-opacity=\"1\" /><path clip-path=\"url(#clip070)\" d=\"M28.3562 614.98 L28.3562 609.123 L64.0042 609.123 L64.0042 614.98 L28.3562 614.98 M14.479 614.98 L14.479 609.123 L21.895 609.123 L21.895 614.98 L14.479 614.98 Z\" fill=\"#000000\" fill-rule=\"evenodd\" fill-opacity=\"1\" /><path clip-path=\"url(#clip070)\" d=\"M28.3562 596.869 L28.3562 591.013 L64.0042 591.013 L64.0042 596.869 L28.3562 596.869 M14.479 596.869 L14.479 591.013 L21.895 591.013 L21.895 596.869 L14.479 596.869 Z\" fill=\"#000000\" fill-rule=\"evenodd\" fill-opacity=\"1\" /><path clip-path=\"url(#clip070)\" d=\"M28.3562 582.96 L28.3562 576.754 L58.275 565.614 L28.3562 554.474 L28.3562 548.267 L64.0042 561.635 L64.0042 569.592 L28.3562 582.96 Z\" fill=\"#000000\" fill-rule=\"evenodd\" fill-opacity=\"1\" /><path clip-path=\"url(#clip070)\" d=\"M32.4621 526.369 Q32.4621 531.08 36.1542 533.817 Q39.8145 536.554 46.212 536.554 Q52.6095 536.554 56.3017 533.849 Q59.9619 531.111 59.9619 526.369 Q59.9619 521.69 56.2698 518.953 Q52.5777 516.216 46.212 516.216 Q39.8781 516.216 36.186 518.953 Q32.4621 521.69 32.4621 526.369 M27.4968 526.369 Q27.4968 518.73 32.4621 514.37 Q37.4273 510.009 46.212 510.009 Q54.9649 510.009 59.9619 514.37 Q64.9272 518.73 64.9272 526.369 Q64.9272 534.04 59.9619 538.4 Q54.9649 542.729 46.212 542.729 Q37.4273 542.729 32.4621 538.4 Q27.4968 534.04 27.4968 526.369 Z\" fill=\"#000000\" fill-rule=\"evenodd\" fill-opacity=\"1\" /><circle clip-path=\"url(#clip072)\" cx=\"507.38\" cy=\"161.905\" r=\"14\" fill=\"#009af9\" fill-rule=\"evenodd\" fill-opacity=\"1\" stroke=\"#000000\" stroke-opacity=\"1\" stroke-width=\"3.2\"/>\n",
       "<circle clip-path=\"url(#clip072)\" cx=\"560.075\" cy=\"926.314\" r=\"14\" fill=\"#009af9\" fill-rule=\"evenodd\" fill-opacity=\"1\" stroke=\"#000000\" stroke-opacity=\"1\" stroke-width=\"3.2\"/>\n",
       "<circle clip-path=\"url(#clip072)\" cx=\"612.77\" cy=\"1079.2\" r=\"14\" fill=\"#009af9\" fill-rule=\"evenodd\" fill-opacity=\"1\" stroke=\"#000000\" stroke-opacity=\"1\" stroke-width=\"3.2\"/>\n",
       "<circle clip-path=\"url(#clip072)\" cx=\"665.465\" cy=\"1204.28\" r=\"14\" fill=\"#009af9\" fill-rule=\"evenodd\" fill-opacity=\"1\" stroke=\"#000000\" stroke-opacity=\"1\" stroke-width=\"3.2\"/>\n",
       "<circle clip-path=\"url(#clip072)\" cx=\"718.159\" cy=\"1258.67\" r=\"14\" fill=\"#009af9\" fill-rule=\"evenodd\" fill-opacity=\"1\" stroke=\"#000000\" stroke-opacity=\"1\" stroke-width=\"3.2\"/>\n",
       "<circle clip-path=\"url(#clip072)\" cx=\"770.854\" cy=\"1283.04\" r=\"14\" fill=\"#009af9\" fill-rule=\"evenodd\" fill-opacity=\"1\" stroke=\"#000000\" stroke-opacity=\"1\" stroke-width=\"3.2\"/>\n",
       "<circle clip-path=\"url(#clip072)\" cx=\"823.549\" cy=\"1295.64\" r=\"14\" fill=\"#009af9\" fill-rule=\"evenodd\" fill-opacity=\"1\" stroke=\"#000000\" stroke-opacity=\"1\" stroke-width=\"3.2\"/>\n",
       "<circle clip-path=\"url(#clip072)\" cx=\"876.244\" cy=\"1302.04\" r=\"14\" fill=\"#009af9\" fill-rule=\"evenodd\" fill-opacity=\"1\" stroke=\"#000000\" stroke-opacity=\"1\" stroke-width=\"3.2\"/>\n",
       "<circle clip-path=\"url(#clip072)\" cx=\"928.939\" cy=\"1305.29\" r=\"14\" fill=\"#009af9\" fill-rule=\"evenodd\" fill-opacity=\"1\" stroke=\"#000000\" stroke-opacity=\"1\" stroke-width=\"3.2\"/>\n",
       "<circle clip-path=\"url(#clip072)\" cx=\"981.634\" cy=\"1306.9\" r=\"14\" fill=\"#009af9\" fill-rule=\"evenodd\" fill-opacity=\"1\" stroke=\"#000000\" stroke-opacity=\"1\" stroke-width=\"3.2\"/>\n",
       "<circle clip-path=\"url(#clip072)\" cx=\"1034.33\" cy=\"1307.71\" r=\"14\" fill=\"#009af9\" fill-rule=\"evenodd\" fill-opacity=\"1\" stroke=\"#000000\" stroke-opacity=\"1\" stroke-width=\"3.2\"/>\n",
       "<circle clip-path=\"url(#clip072)\" cx=\"1087.02\" cy=\"1308.11\" r=\"14\" fill=\"#009af9\" fill-rule=\"evenodd\" fill-opacity=\"1\" stroke=\"#000000\" stroke-opacity=\"1\" stroke-width=\"3.2\"/>\n",
       "<circle clip-path=\"url(#clip072)\" cx=\"1139.72\" cy=\"1308.32\" r=\"14\" fill=\"#009af9\" fill-rule=\"evenodd\" fill-opacity=\"1\" stroke=\"#000000\" stroke-opacity=\"1\" stroke-width=\"3.2\"/>\n",
       "<circle clip-path=\"url(#clip072)\" cx=\"1192.41\" cy=\"1308.42\" r=\"14\" fill=\"#009af9\" fill-rule=\"evenodd\" fill-opacity=\"1\" stroke=\"#000000\" stroke-opacity=\"1\" stroke-width=\"3.2\"/>\n",
       "<circle clip-path=\"url(#clip072)\" cx=\"1245.11\" cy=\"1308.47\" r=\"14\" fill=\"#009af9\" fill-rule=\"evenodd\" fill-opacity=\"1\" stroke=\"#000000\" stroke-opacity=\"1\" stroke-width=\"3.2\"/>\n",
       "<circle clip-path=\"url(#clip072)\" cx=\"1297.8\" cy=\"1308.49\" r=\"14\" fill=\"#009af9\" fill-rule=\"evenodd\" fill-opacity=\"1\" stroke=\"#000000\" stroke-opacity=\"1\" stroke-width=\"3.2\"/>\n",
       "<circle clip-path=\"url(#clip072)\" cx=\"1350.5\" cy=\"1308.51\" r=\"14\" fill=\"#009af9\" fill-rule=\"evenodd\" fill-opacity=\"1\" stroke=\"#000000\" stroke-opacity=\"1\" stroke-width=\"3.2\"/>\n",
       "<circle clip-path=\"url(#clip072)\" cx=\"1403.19\" cy=\"1308.51\" r=\"14\" fill=\"#009af9\" fill-rule=\"evenodd\" fill-opacity=\"1\" stroke=\"#000000\" stroke-opacity=\"1\" stroke-width=\"3.2\"/>\n",
       "<circle clip-path=\"url(#clip072)\" cx=\"1455.89\" cy=\"1308.52\" r=\"14\" fill=\"#009af9\" fill-rule=\"evenodd\" fill-opacity=\"1\" stroke=\"#000000\" stroke-opacity=\"1\" stroke-width=\"3.2\"/>\n",
       "<circle clip-path=\"url(#clip072)\" cx=\"1508.58\" cy=\"1308.52\" r=\"14\" fill=\"#009af9\" fill-rule=\"evenodd\" fill-opacity=\"1\" stroke=\"#000000\" stroke-opacity=\"1\" stroke-width=\"3.2\"/>\n",
       "<circle clip-path=\"url(#clip072)\" cx=\"1561.28\" cy=\"1308.52\" r=\"14\" fill=\"#009af9\" fill-rule=\"evenodd\" fill-opacity=\"1\" stroke=\"#000000\" stroke-opacity=\"1\" stroke-width=\"3.2\"/>\n",
       "<circle clip-path=\"url(#clip072)\" cx=\"1613.97\" cy=\"1308.52\" r=\"14\" fill=\"#009af9\" fill-rule=\"evenodd\" fill-opacity=\"1\" stroke=\"#000000\" stroke-opacity=\"1\" stroke-width=\"3.2\"/>\n",
       "<circle clip-path=\"url(#clip072)\" cx=\"1666.67\" cy=\"1308.52\" r=\"14\" fill=\"#009af9\" fill-rule=\"evenodd\" fill-opacity=\"1\" stroke=\"#000000\" stroke-opacity=\"1\" stroke-width=\"3.2\"/>\n",
       "<circle clip-path=\"url(#clip072)\" cx=\"1719.36\" cy=\"1308.52\" r=\"14\" fill=\"#009af9\" fill-rule=\"evenodd\" fill-opacity=\"1\" stroke=\"#000000\" stroke-opacity=\"1\" stroke-width=\"3.2\"/>\n",
       "<circle clip-path=\"url(#clip072)\" cx=\"1772.06\" cy=\"1308.52\" r=\"14\" fill=\"#009af9\" fill-rule=\"evenodd\" fill-opacity=\"1\" stroke=\"#000000\" stroke-opacity=\"1\" stroke-width=\"3.2\"/>\n",
       "<circle clip-path=\"url(#clip072)\" cx=\"1824.75\" cy=\"1308.52\" r=\"14\" fill=\"#009af9\" fill-rule=\"evenodd\" fill-opacity=\"1\" stroke=\"#000000\" stroke-opacity=\"1\" stroke-width=\"3.2\"/>\n",
       "<circle clip-path=\"url(#clip072)\" cx=\"1877.45\" cy=\"1308.52\" r=\"14\" fill=\"#009af9\" fill-rule=\"evenodd\" fill-opacity=\"1\" stroke=\"#000000\" stroke-opacity=\"1\" stroke-width=\"3.2\"/>\n",
       "<circle clip-path=\"url(#clip072)\" cx=\"1930.14\" cy=\"1308.52\" r=\"14\" fill=\"#009af9\" fill-rule=\"evenodd\" fill-opacity=\"1\" stroke=\"#000000\" stroke-opacity=\"1\" stroke-width=\"3.2\"/>\n",
       "<circle clip-path=\"url(#clip072)\" cx=\"1982.84\" cy=\"1308.52\" r=\"14\" fill=\"#009af9\" fill-rule=\"evenodd\" fill-opacity=\"1\" stroke=\"#000000\" stroke-opacity=\"1\" stroke-width=\"3.2\"/>\n",
       "<circle clip-path=\"url(#clip072)\" cx=\"2035.53\" cy=\"1308.52\" r=\"14\" fill=\"#009af9\" fill-rule=\"evenodd\" fill-opacity=\"1\" stroke=\"#000000\" stroke-opacity=\"1\" stroke-width=\"3.2\"/>\n",
       "<circle clip-path=\"url(#clip072)\" cx=\"2088.23\" cy=\"1308.52\" r=\"14\" fill=\"#009af9\" fill-rule=\"evenodd\" fill-opacity=\"1\" stroke=\"#000000\" stroke-opacity=\"1\" stroke-width=\"3.2\"/>\n",
       "<circle clip-path=\"url(#clip072)\" cx=\"2140.92\" cy=\"1308.52\" r=\"14\" fill=\"#009af9\" fill-rule=\"evenodd\" fill-opacity=\"1\" stroke=\"#000000\" stroke-opacity=\"1\" stroke-width=\"3.2\"/>\n",
       "<circle clip-path=\"url(#clip072)\" cx=\"2193.62\" cy=\"1308.52\" r=\"14\" fill=\"#009af9\" fill-rule=\"evenodd\" fill-opacity=\"1\" stroke=\"#000000\" stroke-opacity=\"1\" stroke-width=\"3.2\"/>\n",
       "<circle clip-path=\"url(#clip072)\" cx=\"2246.31\" cy=\"1308.52\" r=\"14\" fill=\"#009af9\" fill-rule=\"evenodd\" fill-opacity=\"1\" stroke=\"#000000\" stroke-opacity=\"1\" stroke-width=\"3.2\"/>\n",
       "<circle clip-path=\"url(#clip072)\" cx=\"2299.01\" cy=\"1308.52\" r=\"14\" fill=\"#009af9\" fill-rule=\"evenodd\" fill-opacity=\"1\" stroke=\"#000000\" stroke-opacity=\"1\" stroke-width=\"3.2\"/>\n",
       "<circle clip-path=\"url(#clip072)\" cx=\"560.075\" cy=\"1308.52\" r=\"14\" fill=\"#e26f46\" fill-rule=\"evenodd\" fill-opacity=\"1\" stroke=\"#000000\" stroke-opacity=\"1\" stroke-width=\"3.2\"/>\n",
       "<circle clip-path=\"url(#clip072)\" cx=\"612.77\" cy=\"905.654\" r=\"14\" fill=\"#e26f46\" fill-rule=\"evenodd\" fill-opacity=\"1\" stroke=\"#000000\" stroke-opacity=\"1\" stroke-width=\"3.2\"/>\n",
       "<circle clip-path=\"url(#clip072)\" cx=\"665.465\" cy=\"1233.09\" r=\"14\" fill=\"#e26f46\" fill-rule=\"evenodd\" fill-opacity=\"1\" stroke=\"#000000\" stroke-opacity=\"1\" stroke-width=\"3.2\"/>\n",
       "<circle clip-path=\"url(#clip072)\" cx=\"718.159\" cy=\"1306.03\" r=\"14\" fill=\"#e26f46\" fill-rule=\"evenodd\" fill-opacity=\"1\" stroke=\"#000000\" stroke-opacity=\"1\" stroke-width=\"3.2\"/>\n",
       "<circle clip-path=\"url(#clip072)\" cx=\"770.854\" cy=\"1308.52\" r=\"14\" fill=\"#e26f46\" fill-rule=\"evenodd\" fill-opacity=\"1\" stroke=\"#000000\" stroke-opacity=\"1\" stroke-width=\"3.2\"/>\n",
       "<circle clip-path=\"url(#clip072)\" cx=\"823.549\" cy=\"1308.52\" r=\"14\" fill=\"#e26f46\" fill-rule=\"evenodd\" fill-opacity=\"1\" stroke=\"#000000\" stroke-opacity=\"1\" stroke-width=\"3.2\"/>\n",
       "<polyline clip-path=\"url(#clip072)\" style=\"stroke:#3da44d; stroke-linecap:butt; stroke-linejoin:round; stroke-width:4; stroke-opacity:1; fill:none\" points=\"\n",
       "  507.38,1308.52 519.044,1308.52 626.899,1308.52 691.715,1308.52 746.517,1308.52 806.046,1308.52 860.927,1308.52 919.766,1308.52 987.936,1308.52 1048.52,1308.52 \n",
       "  1101.64,1308.52 1159.56,1308.52 1217.83,1308.52 1282.24,1308.52 1343.54,1308.52 1407.27,1308.52 1460.91,1308.52 1526.41,1308.52 1586.41,1308.52 1641.82,1308.52 \n",
       "  1697.96,1308.52 1760.87,1308.52 1817.87,1308.52 1883.14,1308.52 1943.57,1308.52 2003.15,1308.52 2061,1308.52 2120.3,1308.52 2185.27,1308.52 2279.64,1308.52 \n",
       "  2299.01,1308.52 \n",
       "  \"/>\n",
       "<path clip-path=\"url(#clip070)\" d=\"\n",
       "M1684.13 248.629 L2289.45 248.629 L2289.45 93.1086 L1684.13 93.1086  Z\n",
       "  \" fill=\"#ffffff\" fill-rule=\"evenodd\" fill-opacity=\"1\"/>\n",
       "<polyline clip-path=\"url(#clip070)\" style=\"stroke:#000000; stroke-linecap:butt; stroke-linejoin:round; stroke-width:4; stroke-opacity:1; fill:none\" points=\"\n",
       "  1684.13,248.629 2289.45,248.629 2289.45,93.1086 1684.13,93.1086 1684.13,248.629 \n",
       "  \"/>\n",
       "<circle clip-path=\"url(#clip070)\" cx=\"1768.54\" cy=\"144.949\" r=\"23\" fill=\"#009af9\" fill-rule=\"evenodd\" fill-opacity=\"1\" stroke=\"#000000\" stroke-opacity=\"1\" stroke-width=\"5.12\"/>\n",
       "<path clip-path=\"url(#clip070)\" d=\"M1857.62 145.724 L1857.62 158.386 L1865.12 158.386 Q1868.89 158.386 1870.7 156.835 Q1872.53 155.261 1872.53 152.043 Q1872.53 148.803 1870.7 147.275 Q1868.89 145.724 1865.12 145.724 L1857.62 145.724 M1857.62 131.511 L1857.62 141.928 L1864.54 141.928 Q1867.97 141.928 1869.64 140.655 Q1871.33 139.358 1871.33 136.719 Q1871.33 134.104 1869.64 132.807 Q1867.97 131.511 1864.54 131.511 L1857.62 131.511 M1852.95 127.669 L1864.89 127.669 Q1870.24 127.669 1873.13 129.891 Q1876.02 132.113 1876.02 136.21 Q1876.02 139.382 1874.54 141.257 Q1873.06 143.131 1870.19 143.594 Q1873.64 144.335 1875.54 146.696 Q1877.46 149.034 1877.46 152.553 Q1877.46 157.182 1874.31 159.705 Q1871.16 162.229 1865.35 162.229 L1852.95 162.229 L1852.95 127.669 Z\" fill=\"#000000\" fill-rule=\"evenodd\" fill-opacity=\"1\" /><path clip-path=\"url(#clip070)\" d=\"M1885.28 136.303 L1889.54 136.303 L1889.54 162.229 L1885.28 162.229 L1885.28 136.303 M1885.28 126.21 L1889.54 126.21 L1889.54 131.604 L1885.28 131.604 L1885.28 126.21 Z\" fill=\"#000000\" fill-rule=\"evenodd\" fill-opacity=\"1\" /><path clip-path=\"url(#clip070)\" d=\"M1914.98 137.067 L1914.98 141.094 Q1913.18 140.169 1911.23 139.706 Q1909.29 139.243 1907.2 139.243 Q1904.03 139.243 1902.44 140.215 Q1900.86 141.187 1900.86 143.131 Q1900.86 144.613 1902 145.469 Q1903.13 146.303 1906.56 147.067 L1908.01 147.391 Q1912.55 148.363 1914.45 150.145 Q1916.37 151.905 1916.37 155.076 Q1916.37 158.687 1913.5 160.793 Q1910.65 162.9 1905.65 162.9 Q1903.57 162.9 1901.3 162.483 Q1899.06 162.09 1896.56 161.28 L1896.56 156.881 Q1898.92 158.108 1901.21 158.733 Q1903.5 159.335 1905.75 159.335 Q1908.76 159.335 1910.38 158.317 Q1912 157.275 1912 155.4 Q1912 153.664 1910.82 152.738 Q1909.66 151.812 1905.7 150.956 L1904.22 150.608 Q1900.26 149.775 1898.5 148.062 Q1896.74 146.326 1896.74 143.317 Q1896.74 139.659 1899.33 137.669 Q1901.93 135.678 1906.7 135.678 Q1909.06 135.678 1911.14 136.025 Q1913.22 136.372 1914.98 137.067 Z\" fill=\"#000000\" fill-rule=\"evenodd\" fill-opacity=\"1\" /><path clip-path=\"url(#clip070)\" d=\"M1945.33 148.201 L1945.33 150.284 L1925.75 150.284 Q1926.02 154.682 1928.38 156.997 Q1930.77 159.289 1935.01 159.289 Q1937.46 159.289 1939.75 158.687 Q1942.07 158.085 1944.33 156.881 L1944.33 160.909 Q1942.04 161.881 1939.63 162.391 Q1937.23 162.9 1934.75 162.9 Q1928.55 162.9 1924.91 159.289 Q1921.3 155.678 1921.3 149.52 Q1921.3 143.155 1924.73 139.428 Q1928.18 135.678 1934.01 135.678 Q1939.24 135.678 1942.27 139.057 Q1945.33 142.414 1945.33 148.201 M1941.07 146.951 Q1941.02 143.456 1939.1 141.372 Q1937.2 139.289 1934.06 139.289 Q1930.49 139.289 1928.34 141.303 Q1926.21 143.317 1925.88 146.974 L1941.07 146.951 Z\" fill=\"#000000\" fill-rule=\"evenodd\" fill-opacity=\"1\" /><path clip-path=\"url(#clip070)\" d=\"M1970.98 137.298 L1970.98 141.28 Q1969.17 140.284 1967.34 139.798 Q1965.54 139.289 1963.69 139.289 Q1959.54 139.289 1957.25 141.928 Q1954.96 144.544 1954.96 149.289 Q1954.96 154.034 1957.25 156.673 Q1959.54 159.289 1963.69 159.289 Q1965.54 159.289 1967.34 158.803 Q1969.17 158.293 1970.98 157.298 L1970.98 161.233 Q1969.19 162.067 1967.27 162.483 Q1965.38 162.9 1963.22 162.9 Q1957.37 162.9 1953.92 159.219 Q1950.47 155.539 1950.47 149.289 Q1950.47 142.946 1953.94 139.312 Q1957.44 135.678 1963.5 135.678 Q1965.47 135.678 1967.34 136.095 Q1969.22 136.488 1970.98 137.298 Z\" fill=\"#000000\" fill-rule=\"evenodd\" fill-opacity=\"1\" /><path clip-path=\"url(#clip070)\" d=\"M1997.04 137.298 L1997.04 141.28 Q1995.24 140.284 1993.41 139.798 Q1991.6 139.289 1989.75 139.289 Q1985.61 139.289 1983.32 141.928 Q1981.02 144.544 1981.02 149.289 Q1981.02 154.034 1983.32 156.673 Q1985.61 159.289 1989.75 159.289 Q1991.6 159.289 1993.41 158.803 Q1995.24 158.293 1997.04 157.298 L1997.04 161.233 Q1995.26 162.067 1993.34 162.483 Q1991.44 162.9 1989.29 162.9 Q1983.43 162.9 1979.98 159.219 Q1976.53 155.539 1976.53 149.289 Q1976.53 142.946 1980.01 139.312 Q1983.5 135.678 1989.57 135.678 Q1991.53 135.678 1993.41 136.095 Q1995.28 136.488 1997.04 137.298 Z\" fill=\"#000000\" fill-rule=\"evenodd\" fill-opacity=\"1\" /><path clip-path=\"url(#clip070)\" d=\"M2004.45 136.303 L2008.71 136.303 L2008.71 162.229 L2004.45 162.229 L2004.45 136.303 M2004.45 126.21 L2008.71 126.21 L2008.71 131.604 L2004.45 131.604 L2004.45 126.21 Z\" fill=\"#000000\" fill-rule=\"evenodd\" fill-opacity=\"1\" /><path clip-path=\"url(#clip070)\" d=\"M2027.67 139.289 Q2024.24 139.289 2022.25 141.974 Q2020.26 144.636 2020.26 149.289 Q2020.26 153.942 2022.23 156.627 Q2024.22 159.289 2027.67 159.289 Q2031.07 159.289 2033.06 156.604 Q2035.05 153.918 2035.05 149.289 Q2035.05 144.682 2033.06 141.997 Q2031.07 139.289 2027.67 139.289 M2027.67 135.678 Q2033.22 135.678 2036.39 139.289 Q2039.56 142.9 2039.56 149.289 Q2039.56 155.655 2036.39 159.289 Q2033.22 162.9 2027.67 162.9 Q2022.09 162.9 2018.92 159.289 Q2015.77 155.655 2015.77 149.289 Q2015.77 142.9 2018.92 139.289 Q2022.09 135.678 2027.67 135.678 Z\" fill=\"#000000\" fill-rule=\"evenodd\" fill-opacity=\"1\" /><path clip-path=\"url(#clip070)\" d=\"M2068.18 146.581 L2068.18 162.229 L2063.92 162.229 L2063.92 146.719 Q2063.92 143.039 2062.48 141.21 Q2061.05 139.382 2058.18 139.382 Q2054.73 139.382 2052.74 141.581 Q2050.75 143.78 2050.75 147.576 L2050.75 162.229 L2046.46 162.229 L2046.46 136.303 L2050.75 136.303 L2050.75 140.331 Q2052.27 137.993 2054.33 136.835 Q2056.42 135.678 2059.12 135.678 Q2063.59 135.678 2065.88 138.456 Q2068.18 141.21 2068.18 146.581 Z\" fill=\"#000000\" fill-rule=\"evenodd\" fill-opacity=\"1\" /><circle clip-path=\"url(#clip070)\" cx=\"1768.54\" cy=\"196.789\" r=\"23\" fill=\"#e26f46\" fill-rule=\"evenodd\" fill-opacity=\"1\" stroke=\"#000000\" stroke-opacity=\"1\" stroke-width=\"5.12\"/>\n",
       "<path clip-path=\"url(#clip070)\" d=\"M1852.95 179.509 L1859.24 179.509 L1874.57 208.421 L1874.57 179.509 L1879.1 179.509 L1879.1 214.069 L1872.81 214.069 L1857.48 185.157 L1857.48 214.069 L1852.95 214.069 L1852.95 179.509 Z\" fill=\"#000000\" fill-rule=\"evenodd\" fill-opacity=\"1\" /><path clip-path=\"url(#clip070)\" d=\"M1910.4 200.041 L1910.4 202.124 L1890.82 202.124 Q1891.09 206.522 1893.45 208.837 Q1895.84 211.129 1900.07 211.129 Q1902.53 211.129 1904.82 210.527 Q1907.14 209.925 1909.4 208.721 L1909.4 212.749 Q1907.11 213.721 1904.7 214.231 Q1902.3 214.74 1899.82 214.74 Q1893.62 214.74 1889.98 211.129 Q1886.37 207.518 1886.37 201.36 Q1886.37 194.995 1889.8 191.268 Q1893.25 187.518 1899.08 187.518 Q1904.31 187.518 1907.34 190.897 Q1910.4 194.254 1910.4 200.041 M1906.14 198.791 Q1906.09 195.296 1904.17 193.212 Q1902.27 191.129 1899.13 191.129 Q1895.56 191.129 1893.41 193.143 Q1891.28 195.157 1890.95 198.814 L1906.14 198.791 Z\" fill=\"#000000\" fill-rule=\"evenodd\" fill-opacity=\"1\" /><path clip-path=\"url(#clip070)\" d=\"M1914.91 188.143 L1919.17 188.143 L1924.5 208.374 L1929.8 188.143 L1934.82 188.143 L1940.14 208.374 L1945.45 188.143 L1949.7 188.143 L1942.92 214.069 L1937.9 214.069 L1932.32 192.819 L1926.72 214.069 L1921.7 214.069 L1914.91 188.143 Z\" fill=\"#000000\" fill-rule=\"evenodd\" fill-opacity=\"1\" /><path clip-path=\"url(#clip070)\" d=\"M1960.38 180.782 L1960.38 188.143 L1969.15 188.143 L1969.15 191.453 L1960.38 191.453 L1960.38 205.527 Q1960.38 208.698 1961.23 209.601 Q1962.11 210.504 1964.77 210.504 L1969.15 210.504 L1969.15 214.069 L1964.77 214.069 Q1959.84 214.069 1957.97 212.24 Q1956.09 210.388 1956.09 205.527 L1956.09 191.453 L1952.97 191.453 L1952.97 188.143 L1956.09 188.143 L1956.09 180.782 L1960.38 180.782 Z\" fill=\"#000000\" fill-rule=\"evenodd\" fill-opacity=\"1\" /><path clip-path=\"url(#clip070)\" d=\"M1984.8 191.129 Q1981.37 191.129 1979.38 193.814 Q1977.39 196.476 1977.39 201.129 Q1977.39 205.782 1979.36 208.467 Q1981.35 211.129 1984.8 211.129 Q1988.2 211.129 1990.19 208.444 Q1992.18 205.758 1992.18 201.129 Q1992.18 196.522 1990.19 193.837 Q1988.2 191.129 1984.8 191.129 M1984.8 187.518 Q1990.35 187.518 1993.52 191.129 Q1996.69 194.74 1996.69 201.129 Q1996.69 207.495 1993.52 211.129 Q1990.35 214.74 1984.8 214.74 Q1979.22 214.74 1976.05 211.129 Q1972.9 207.495 1972.9 201.129 Q1972.9 194.74 1976.05 191.129 Q1979.22 187.518 1984.8 187.518 Z\" fill=\"#000000\" fill-rule=\"evenodd\" fill-opacity=\"1\" /><path clip-path=\"url(#clip070)\" d=\"M2025.31 198.421 L2025.31 214.069 L2021.05 214.069 L2021.05 198.559 Q2021.05 194.879 2019.61 193.05 Q2018.18 191.222 2015.31 191.222 Q2011.86 191.222 2009.87 193.421 Q2007.88 195.62 2007.88 199.416 L2007.88 214.069 L2003.59 214.069 L2003.59 188.143 L2007.88 188.143 L2007.88 192.171 Q2009.4 189.833 2011.46 188.675 Q2013.55 187.518 2016.25 187.518 Q2020.72 187.518 2023.01 190.296 Q2025.31 193.05 2025.31 198.421 Z\" fill=\"#000000\" fill-rule=\"evenodd\" fill-opacity=\"1\" /><path clip-path=\"url(#clip070)\" d=\"M2031.65 199.184 L2044.13 199.184 L2044.13 202.981 L2031.65 202.981 L2031.65 199.184 Z\" fill=\"#000000\" fill-rule=\"evenodd\" fill-opacity=\"1\" /><path clip-path=\"url(#clip070)\" d=\"M2067.48 197.865 Q2068.99 198.374 2070.4 200.041 Q2071.83 201.708 2073.27 204.624 L2078.01 214.069 L2072.99 214.069 L2068.57 205.203 Q2066.86 201.731 2065.24 200.596 Q2063.64 199.462 2060.86 199.462 L2055.77 199.462 L2055.77 214.069 L2051.09 214.069 L2051.09 179.509 L2061.65 179.509 Q2067.57 179.509 2070.49 181.985 Q2073.41 184.462 2073.41 189.462 Q2073.41 192.726 2071.88 194.879 Q2070.37 197.032 2067.48 197.865 M2055.77 183.351 L2055.77 195.62 L2061.65 195.62 Q2065.03 195.62 2066.74 194.069 Q2068.48 192.495 2068.48 189.462 Q2068.48 186.43 2066.74 184.902 Q2065.03 183.351 2061.65 183.351 L2055.77 183.351 Z\" fill=\"#000000\" fill-rule=\"evenodd\" fill-opacity=\"1\" /><path clip-path=\"url(#clip070)\" d=\"M2094.59 201.036 Q2089.43 201.036 2087.44 202.217 Q2085.44 203.397 2085.44 206.245 Q2085.44 208.513 2086.93 209.856 Q2088.43 211.175 2091 211.175 Q2094.54 211.175 2096.67 208.675 Q2098.82 206.152 2098.82 201.985 L2098.82 201.036 L2094.59 201.036 M2103.08 199.277 L2103.08 214.069 L2098.82 214.069 L2098.82 210.133 Q2097.37 212.495 2095.19 213.629 Q2093.01 214.74 2089.87 214.74 Q2085.88 214.74 2083.52 212.518 Q2081.19 210.272 2081.19 206.522 Q2081.19 202.147 2084.1 199.925 Q2087.04 197.703 2092.85 197.703 L2098.82 197.703 L2098.82 197.286 Q2098.82 194.347 2096.88 192.749 Q2094.96 191.129 2091.46 191.129 Q2089.24 191.129 2087.13 191.661 Q2085.03 192.194 2083.08 193.259 L2083.08 189.323 Q2085.42 188.421 2087.62 187.981 Q2089.82 187.518 2091.9 187.518 Q2097.53 187.518 2100.31 190.434 Q2103.08 193.351 2103.08 199.277 Z\" fill=\"#000000\" fill-rule=\"evenodd\" fill-opacity=\"1\" /><path clip-path=\"url(#clip070)\" d=\"M2115.98 210.18 L2115.98 223.93 L2111.69 223.93 L2111.69 188.143 L2115.98 188.143 L2115.98 192.078 Q2117.32 189.763 2119.36 188.652 Q2121.42 187.518 2124.26 187.518 Q2128.99 187.518 2131.93 191.268 Q2134.89 195.018 2134.89 201.129 Q2134.89 207.24 2131.93 210.99 Q2128.99 214.74 2124.26 214.74 Q2121.42 214.74 2119.36 213.629 Q2117.32 212.495 2115.98 210.18 M2130.47 201.129 Q2130.47 196.43 2128.52 193.768 Q2126.6 191.083 2123.22 191.083 Q2119.84 191.083 2117.9 193.768 Q2115.98 196.43 2115.98 201.129 Q2115.98 205.828 2117.9 208.513 Q2119.84 211.175 2123.22 211.175 Q2126.6 211.175 2128.52 208.513 Q2130.47 205.828 2130.47 201.129 Z\" fill=\"#000000\" fill-rule=\"evenodd\" fill-opacity=\"1\" /><path clip-path=\"url(#clip070)\" d=\"M2158.48 188.907 L2158.48 192.934 Q2156.67 192.009 2154.73 191.546 Q2152.78 191.083 2150.7 191.083 Q2147.53 191.083 2145.93 192.055 Q2144.36 193.027 2144.36 194.971 Q2144.36 196.453 2145.49 197.309 Q2146.62 198.143 2150.05 198.907 L2151.51 199.231 Q2156.05 200.203 2157.94 201.985 Q2159.87 203.745 2159.87 206.916 Q2159.87 210.527 2156.99 212.633 Q2154.15 214.74 2149.15 214.74 Q2147.06 214.74 2144.8 214.323 Q2142.55 213.93 2140.05 213.12 L2140.05 208.721 Q2142.41 209.948 2144.7 210.573 Q2146.99 211.175 2149.24 211.175 Q2152.25 211.175 2153.87 210.157 Q2155.49 209.115 2155.49 207.24 Q2155.49 205.504 2154.31 204.578 Q2153.15 203.652 2149.19 202.796 L2147.71 202.448 Q2143.75 201.615 2141.99 199.902 Q2140.24 198.166 2140.24 195.157 Q2140.24 191.499 2142.83 189.509 Q2145.42 187.518 2150.19 187.518 Q2152.55 187.518 2154.63 187.865 Q2156.72 188.212 2158.48 188.907 Z\" fill=\"#000000\" fill-rule=\"evenodd\" fill-opacity=\"1\" /><path clip-path=\"url(#clip070)\" d=\"M2188.2 198.421 L2188.2 214.069 L2183.94 214.069 L2183.94 198.559 Q2183.94 194.879 2182.5 193.05 Q2181.07 191.222 2178.2 191.222 Q2174.75 191.222 2172.76 193.421 Q2170.77 195.62 2170.77 199.416 L2170.77 214.069 L2166.49 214.069 L2166.49 178.05 L2170.77 178.05 L2170.77 192.171 Q2172.3 189.833 2174.36 188.675 Q2176.44 187.518 2179.15 187.518 Q2183.62 187.518 2185.91 190.296 Q2188.2 193.05 2188.2 198.421 Z\" fill=\"#000000\" fill-rule=\"evenodd\" fill-opacity=\"1\" /><path clip-path=\"url(#clip070)\" d=\"M2206.74 191.129 Q2203.31 191.129 2201.32 193.814 Q2199.33 196.476 2199.33 201.129 Q2199.33 205.782 2201.3 208.467 Q2203.29 211.129 2206.74 211.129 Q2210.14 211.129 2212.13 208.444 Q2214.12 205.758 2214.12 201.129 Q2214.12 196.522 2212.13 193.837 Q2210.14 191.129 2206.74 191.129 M2206.74 187.518 Q2212.3 187.518 2215.47 191.129 Q2218.64 194.74 2218.64 201.129 Q2218.64 207.495 2215.47 211.129 Q2212.3 214.74 2206.74 214.74 Q2201.16 214.74 2197.99 211.129 Q2194.84 207.495 2194.84 201.129 Q2194.84 194.74 2197.99 191.129 Q2201.16 187.518 2206.74 187.518 Z\" fill=\"#000000\" fill-rule=\"evenodd\" fill-opacity=\"1\" /><path clip-path=\"url(#clip070)\" d=\"M2247.25 198.421 L2247.25 214.069 L2242.99 214.069 L2242.99 198.559 Q2242.99 194.879 2241.55 193.05 Q2240.12 191.222 2237.25 191.222 Q2233.8 191.222 2231.81 193.421 Q2229.82 195.62 2229.82 199.416 L2229.82 214.069 L2225.54 214.069 L2225.54 188.143 L2229.82 188.143 L2229.82 192.171 Q2231.35 189.833 2233.41 188.675 Q2235.49 187.518 2238.2 187.518 Q2242.67 187.518 2244.96 190.296 Q2247.25 193.05 2247.25 198.421 Z\" fill=\"#000000\" fill-rule=\"evenodd\" fill-opacity=\"1\" /></svg>\n"
      ]
     },
     "execution_count": 413,
     "metadata": {},
     "output_type": "execute_result"
    },
    {
     "name": "stderr",
     "output_type": "stream",
     "text": [
      "┌ Warning: No strict ticks found\n",
      "└ @ PlotUtils /home/rdpaula/.julia/packages/PlotUtils/jNTYY/src/ticks.jl:191\n",
      "┌ Warning: No strict ticks found\n",
      "└ @ PlotUtils /home/rdpaula/.julia/packages/PlotUtils/jNTYY/src/ticks.jl:191\n"
     ]
    }
   ],
   "source": [
    "g(x)=0\n",
    "scatter!(Vr,label=\"Newton-Rapshon\")\n",
    "plot!(g,label=\"\")"
   ]
  },
  {
   "cell_type": "markdown",
   "metadata": {},
   "source": [
    "### Problema 4\n",
    "\n",
    "Un objeto en caída vertical en el aire está sujeto a la fuerza de gravedad y a la resistencia del aire. Si un objeto de masa $m$ es dejado caer desde una altura $h_0$, su altura luego de $t$ segundos está dada por:\n",
    "$$\n",
    "h(t) = h_0 - \\frac{mg}{k} t + \\frac{m^2 g}{k^2} \\left( 1 - e^{-kt/m}\\right)\n",
    "$$\n",
    "donde $g=9.8\\, m/s^2$ y $k$ representa el coeficiente de resistencia del aire en $kg / s$.\n",
    "Suponga que $h_0 = 10\\,m$, $m=0.1\\,kg$, y $k=0.149\\,kg/s$.\n",
    "Grafique $h(t)$ para analizar su comportamiento.\n",
    "Encuentre, con una precisión de $0.01\\,s$, el tiempo que le toma a este objeto llegar al suelo. \n",
    "Utilice el método de bisección y el de Newton-Raphson."
   ]
  },
  {
   "cell_type": "code",
   "execution_count": 684,
   "metadata": {},
   "outputs": [
    {
     "data": {
      "image/svg+xml": [
       "<?xml version=\"1.0\" encoding=\"utf-8\"?>\n",
       "<svg xmlns=\"http://www.w3.org/2000/svg\" xmlns:xlink=\"http://www.w3.org/1999/xlink\" width=\"600\" height=\"400\" viewBox=\"0 0 2400 1600\">\n",
       "<defs>\n",
       "  <clipPath id=\"clip670\">\n",
       "    <rect x=\"0\" y=\"0\" width=\"2400\" height=\"1600\"/>\n",
       "  </clipPath>\n",
       "</defs>\n",
       "<path clip-path=\"url(#clip670)\" d=\"\n",
       "M0 1600 L2400 1600 L2400 0 L0 0  Z\n",
       "  \" fill=\"#ffffff\" fill-rule=\"evenodd\" fill-opacity=\"1\"/>\n",
       "<defs>\n",
       "  <clipPath id=\"clip671\">\n",
       "    <rect x=\"480\" y=\"0\" width=\"1681\" height=\"1600\"/>\n",
       "  </clipPath>\n",
       "</defs>\n",
       "<path clip-path=\"url(#clip670)\" d=\"\n",
       "M202.227 1423.18 L2352.76 1423.18 L2352.76 47.2441 L202.227 47.2441  Z\n",
       "  \" fill=\"#ffffff\" fill-rule=\"evenodd\" fill-opacity=\"1\"/>\n",
       "<defs>\n",
       "  <clipPath id=\"clip672\">\n",
       "    <rect x=\"202\" y=\"47\" width=\"2152\" height=\"1377\"/>\n",
       "  </clipPath>\n",
       "</defs>\n",
       "<polyline clip-path=\"url(#clip672)\" style=\"stroke:#000000; stroke-linecap:butt; stroke-linejoin:round; stroke-width:2; stroke-opacity:0.1; fill:none\" points=\"\n",
       "  263.091,1423.18 263.091,47.2441 \n",
       "  \"/>\n",
       "<polyline clip-path=\"url(#clip672)\" style=\"stroke:#000000; stroke-linecap:butt; stroke-linejoin:round; stroke-width:2; stroke-opacity:0.1; fill:none\" points=\"\n",
       "  668.852,1423.18 668.852,47.2441 \n",
       "  \"/>\n",
       "<polyline clip-path=\"url(#clip672)\" style=\"stroke:#000000; stroke-linecap:butt; stroke-linejoin:round; stroke-width:2; stroke-opacity:0.1; fill:none\" points=\"\n",
       "  1074.61,1423.18 1074.61,47.2441 \n",
       "  \"/>\n",
       "<polyline clip-path=\"url(#clip672)\" style=\"stroke:#000000; stroke-linecap:butt; stroke-linejoin:round; stroke-width:2; stroke-opacity:0.1; fill:none\" points=\"\n",
       "  1480.37,1423.18 1480.37,47.2441 \n",
       "  \"/>\n",
       "<polyline clip-path=\"url(#clip672)\" style=\"stroke:#000000; stroke-linecap:butt; stroke-linejoin:round; stroke-width:2; stroke-opacity:0.1; fill:none\" points=\"\n",
       "  1886.13,1423.18 1886.13,47.2441 \n",
       "  \"/>\n",
       "<polyline clip-path=\"url(#clip672)\" style=\"stroke:#000000; stroke-linecap:butt; stroke-linejoin:round; stroke-width:2; stroke-opacity:0.1; fill:none\" points=\"\n",
       "  2291.89,1423.18 2291.89,47.2441 \n",
       "  \"/>\n",
       "<polyline clip-path=\"url(#clip670)\" style=\"stroke:#000000; stroke-linecap:butt; stroke-linejoin:round; stroke-width:4; stroke-opacity:1; fill:none\" points=\"\n",
       "  202.227,1423.18 2352.76,1423.18 \n",
       "  \"/>\n",
       "<polyline clip-path=\"url(#clip670)\" style=\"stroke:#000000; stroke-linecap:butt; stroke-linejoin:round; stroke-width:4; stroke-opacity:1; fill:none\" points=\"\n",
       "  263.091,1423.18 263.091,1404.28 \n",
       "  \"/>\n",
       "<polyline clip-path=\"url(#clip670)\" style=\"stroke:#000000; stroke-linecap:butt; stroke-linejoin:round; stroke-width:4; stroke-opacity:1; fill:none\" points=\"\n",
       "  668.852,1423.18 668.852,1404.28 \n",
       "  \"/>\n",
       "<polyline clip-path=\"url(#clip670)\" style=\"stroke:#000000; stroke-linecap:butt; stroke-linejoin:round; stroke-width:4; stroke-opacity:1; fill:none\" points=\"\n",
       "  1074.61,1423.18 1074.61,1404.28 \n",
       "  \"/>\n",
       "<polyline clip-path=\"url(#clip670)\" style=\"stroke:#000000; stroke-linecap:butt; stroke-linejoin:round; stroke-width:4; stroke-opacity:1; fill:none\" points=\"\n",
       "  1480.37,1423.18 1480.37,1404.28 \n",
       "  \"/>\n",
       "<polyline clip-path=\"url(#clip670)\" style=\"stroke:#000000; stroke-linecap:butt; stroke-linejoin:round; stroke-width:4; stroke-opacity:1; fill:none\" points=\"\n",
       "  1886.13,1423.18 1886.13,1404.28 \n",
       "  \"/>\n",
       "<polyline clip-path=\"url(#clip670)\" style=\"stroke:#000000; stroke-linecap:butt; stroke-linejoin:round; stroke-width:4; stroke-opacity:1; fill:none\" points=\"\n",
       "  2291.89,1423.18 2291.89,1404.28 \n",
       "  \"/>\n",
       "<path clip-path=\"url(#clip670)\" d=\"M263.091 1454.1 Q259.48 1454.1 257.652 1457.66 Q255.846 1461.2 255.846 1468.33 Q255.846 1475.44 257.652 1479.01 Q259.48 1482.55 263.091 1482.55 Q266.726 1482.55 268.531 1479.01 Q270.36 1475.44 270.36 1468.33 Q270.36 1461.2 268.531 1457.66 Q266.726 1454.1 263.091 1454.1 M263.091 1450.39 Q268.902 1450.39 271.957 1455 Q275.036 1459.58 275.036 1468.33 Q275.036 1477.06 271.957 1481.67 Q268.902 1486.25 263.091 1486.25 Q257.281 1486.25 254.203 1481.67 Q251.147 1477.06 251.147 1468.33 Q251.147 1459.58 254.203 1455 Q257.281 1450.39 263.091 1450.39 Z\" fill=\"#000000\" fill-rule=\"evenodd\" fill-opacity=\"1\" /><path clip-path=\"url(#clip670)\" d=\"M659.234 1481.64 L666.872 1481.64 L666.872 1455.28 L658.562 1456.95 L658.562 1452.69 L666.826 1451.02 L671.502 1451.02 L671.502 1481.64 L679.141 1481.64 L679.141 1485.58 L659.234 1485.58 L659.234 1481.64 Z\" fill=\"#000000\" fill-rule=\"evenodd\" fill-opacity=\"1\" /><path clip-path=\"url(#clip670)\" d=\"M1069.26 1481.64 L1085.58 1481.64 L1085.58 1485.58 L1063.64 1485.58 L1063.64 1481.64 Q1066.3 1478.89 1070.88 1474.26 Q1075.49 1469.61 1076.67 1468.27 Q1078.92 1465.74 1079.8 1464.01 Q1080.7 1462.25 1080.7 1460.56 Q1080.7 1457.8 1078.76 1456.07 Q1076.83 1454.33 1073.73 1454.33 Q1071.53 1454.33 1069.08 1455.09 Q1066.65 1455.86 1063.87 1457.41 L1063.87 1452.69 Q1066.7 1451.55 1069.15 1450.97 Q1071.6 1450.39 1073.64 1450.39 Q1079.01 1450.39 1082.2 1453.08 Q1085.4 1455.77 1085.4 1460.26 Q1085.4 1462.39 1084.59 1464.31 Q1083.8 1466.2 1081.69 1468.8 Q1081.12 1469.47 1078.01 1472.69 Q1074.91 1475.88 1069.26 1481.64 Z\" fill=\"#000000\" fill-rule=\"evenodd\" fill-opacity=\"1\" /><path clip-path=\"url(#clip670)\" d=\"M1484.62 1466.95 Q1487.98 1467.66 1489.85 1469.93 Q1491.75 1472.2 1491.75 1475.53 Q1491.75 1480.65 1488.23 1483.45 Q1484.71 1486.25 1478.23 1486.25 Q1476.05 1486.25 1473.74 1485.81 Q1471.45 1485.39 1468.99 1484.54 L1468.99 1480.02 Q1470.94 1481.16 1473.25 1481.74 Q1475.57 1482.32 1478.09 1482.32 Q1482.49 1482.32 1484.78 1480.58 Q1487.1 1478.84 1487.1 1475.53 Q1487.1 1472.48 1484.94 1470.77 Q1482.81 1469.03 1478.99 1469.03 L1474.97 1469.03 L1474.97 1465.19 L1479.18 1465.19 Q1482.63 1465.19 1484.46 1463.82 Q1486.29 1462.43 1486.29 1459.84 Q1486.29 1457.18 1484.39 1455.77 Q1482.51 1454.33 1478.99 1454.33 Q1477.07 1454.33 1474.87 1454.75 Q1472.68 1455.16 1470.04 1456.04 L1470.04 1451.88 Q1472.7 1451.14 1475.01 1450.77 Q1477.35 1450.39 1479.41 1450.39 Q1484.74 1450.39 1487.84 1452.83 Q1490.94 1455.23 1490.94 1459.35 Q1490.94 1462.22 1489.3 1464.21 Q1487.65 1466.18 1484.62 1466.95 Z\" fill=\"#000000\" fill-rule=\"evenodd\" fill-opacity=\"1\" /><path clip-path=\"url(#clip670)\" d=\"M1889.14 1455.09 L1877.34 1473.54 L1889.14 1473.54 L1889.14 1455.09 M1887.91 1451.02 L1893.79 1451.02 L1893.79 1473.54 L1898.72 1473.54 L1898.72 1477.43 L1893.79 1477.43 L1893.79 1485.58 L1889.14 1485.58 L1889.14 1477.43 L1873.54 1477.43 L1873.54 1472.92 L1887.91 1451.02 Z\" fill=\"#000000\" fill-rule=\"evenodd\" fill-opacity=\"1\" /><path clip-path=\"url(#clip670)\" d=\"M2282.17 1451.02 L2300.53 1451.02 L2300.53 1454.96 L2286.45 1454.96 L2286.45 1463.43 Q2287.47 1463.08 2288.49 1462.92 Q2289.51 1462.73 2290.53 1462.73 Q2296.31 1462.73 2299.69 1465.9 Q2303.07 1469.08 2303.07 1474.49 Q2303.07 1480.07 2299.6 1483.17 Q2296.13 1486.25 2289.81 1486.25 Q2287.63 1486.25 2285.36 1485.88 Q2283.12 1485.51 2280.71 1484.77 L2280.71 1480.07 Q2282.79 1481.2 2285.02 1481.76 Q2287.24 1482.32 2289.72 1482.32 Q2293.72 1482.32 2296.06 1480.21 Q2298.4 1478.1 2298.4 1474.49 Q2298.4 1470.88 2296.06 1468.77 Q2293.72 1466.67 2289.72 1466.67 Q2287.84 1466.67 2285.97 1467.08 Q2284.11 1467.5 2282.17 1468.38 L2282.17 1451.02 Z\" fill=\"#000000\" fill-rule=\"evenodd\" fill-opacity=\"1\" /><path clip-path=\"url(#clip670)\" d=\"M1107.03 1520.52 L1147.23 1520.52 L1147.23 1525.93 L1130.36 1525.93 L1130.36 1568.04 L1123.9 1568.04 L1123.9 1525.93 L1107.03 1525.93 L1107.03 1520.52 Z\" fill=\"#000000\" fill-rule=\"evenodd\" fill-opacity=\"1\" /><path clip-path=\"url(#clip670)\" d=\"M1151.18 1532.4 L1157.04 1532.4 L1157.04 1568.04 L1151.18 1568.04 L1151.18 1532.4 M1151.18 1518.52 L1157.04 1518.52 L1157.04 1525.93 L1151.18 1525.93 L1151.18 1518.52 Z\" fill=\"#000000\" fill-rule=\"evenodd\" fill-opacity=\"1\" /><path clip-path=\"url(#clip670)\" d=\"M1199.78 1548.76 L1199.78 1551.62 L1172.86 1551.62 Q1173.24 1557.67 1176.48 1560.85 Q1179.76 1564 1185.59 1564 Q1188.96 1564 1192.11 1563.17 Q1195.29 1562.35 1198.41 1560.69 L1198.41 1566.23 Q1195.26 1567.57 1191.95 1568.27 Q1188.64 1568.97 1185.24 1568.97 Q1176.71 1568.97 1171.71 1564 Q1166.74 1559.04 1166.74 1550.57 Q1166.74 1541.82 1171.45 1536.69 Q1176.2 1531.54 1184.22 1531.54 Q1191.41 1531.54 1195.58 1536.18 Q1199.78 1540.8 1199.78 1548.76 M1193.93 1547.04 Q1193.86 1542.23 1191.22 1539.37 Q1188.61 1536.5 1184.28 1536.5 Q1179.38 1536.5 1176.42 1539.27 Q1173.49 1542.04 1173.05 1547.07 L1193.93 1547.04 Z\" fill=\"#000000\" fill-rule=\"evenodd\" fill-opacity=\"1\" /><path clip-path=\"url(#clip670)\" d=\"M1237.15 1539.24 Q1239.35 1535.29 1242.4 1533.41 Q1245.46 1531.54 1249.59 1531.54 Q1255.16 1531.54 1258.19 1535.45 Q1261.21 1539.33 1261.21 1546.53 L1261.21 1568.04 L1255.32 1568.04 L1255.32 1546.72 Q1255.32 1541.59 1253.51 1539.11 Q1251.69 1536.63 1247.97 1536.63 Q1243.42 1536.63 1240.78 1539.65 Q1238.14 1542.68 1238.14 1547.9 L1238.14 1568.04 L1232.25 1568.04 L1232.25 1546.72 Q1232.25 1541.56 1230.43 1539.11 Q1228.62 1536.63 1224.83 1536.63 Q1220.34 1536.63 1217.7 1539.68 Q1215.06 1542.71 1215.06 1547.9 L1215.06 1568.04 L1209.17 1568.04 L1209.17 1532.4 L1215.06 1532.4 L1215.06 1537.93 Q1217.07 1534.66 1219.87 1533.1 Q1222.67 1531.54 1226.52 1531.54 Q1230.4 1531.54 1233.11 1533.51 Q1235.84 1535.48 1237.15 1539.24 Z\" fill=\"#000000\" fill-rule=\"evenodd\" fill-opacity=\"1\" /><path clip-path=\"url(#clip670)\" d=\"M1278.56 1562.7 L1278.56 1581.6 L1272.67 1581.6 L1272.67 1532.4 L1278.56 1532.4 L1278.56 1537.81 Q1280.4 1534.62 1283.2 1533.1 Q1286.04 1531.54 1289.95 1531.54 Q1296.45 1531.54 1300.49 1536.69 Q1304.56 1541.85 1304.56 1550.25 Q1304.56 1558.65 1300.49 1563.81 Q1296.45 1568.97 1289.95 1568.97 Q1286.04 1568.97 1283.2 1567.44 Q1280.4 1565.88 1278.56 1562.7 M1298.48 1550.25 Q1298.48 1543.79 1295.81 1540.13 Q1293.17 1536.44 1288.52 1536.44 Q1283.87 1536.44 1281.2 1540.13 Q1278.56 1543.79 1278.56 1550.25 Q1278.56 1556.71 1281.2 1560.4 Q1283.87 1564.07 1288.52 1564.07 Q1293.17 1564.07 1295.81 1560.4 Q1298.48 1556.71 1298.48 1550.25 Z\" fill=\"#000000\" fill-rule=\"evenodd\" fill-opacity=\"1\" /><path clip-path=\"url(#clip670)\" d=\"M1328.08 1536.5 Q1323.37 1536.5 1320.64 1540.19 Q1317.9 1543.85 1317.9 1550.25 Q1317.9 1556.65 1320.6 1560.34 Q1323.34 1564 1328.08 1564 Q1332.76 1564 1335.5 1560.31 Q1338.24 1556.62 1338.24 1550.25 Q1338.24 1543.92 1335.5 1540.23 Q1332.76 1536.5 1328.08 1536.5 M1328.08 1531.54 Q1335.72 1531.54 1340.08 1536.5 Q1344.44 1541.47 1344.44 1550.25 Q1344.44 1559 1340.08 1564 Q1335.72 1568.97 1328.08 1568.97 Q1320.41 1568.97 1316.05 1564 Q1311.72 1559 1311.72 1550.25 Q1311.72 1541.47 1316.05 1536.5 Q1320.41 1531.54 1328.08 1531.54 Z\" fill=\"#000000\" fill-rule=\"evenodd\" fill-opacity=\"1\" /><path clip-path=\"url(#clip670)\" d=\"M1374.33 1518.52 L1387.83 1518.52 L1387.83 1523.07 L1380.19 1523.07 L1380.19 1572.09 L1387.83 1572.09 L1387.83 1576.64 L1374.33 1576.64 L1374.33 1518.52 Z\" fill=\"#000000\" fill-rule=\"evenodd\" fill-opacity=\"1\" /><path clip-path=\"url(#clip670)\" d=\"M1423.03 1533.45 L1423.03 1538.98 Q1420.55 1537.71 1417.87 1537.07 Q1415.2 1536.44 1412.33 1536.44 Q1407.97 1536.44 1405.78 1537.77 Q1403.61 1539.11 1403.61 1541.79 Q1403.61 1543.82 1405.17 1545 Q1406.73 1546.15 1411.44 1547.2 L1413.45 1547.64 Q1419.69 1548.98 1422.3 1551.43 Q1424.94 1553.85 1424.94 1558.21 Q1424.94 1563.17 1420.99 1566.07 Q1417.08 1568.97 1410.2 1568.97 Q1407.34 1568.97 1404.22 1568.39 Q1401.13 1567.85 1397.69 1566.74 L1397.69 1560.69 Q1400.94 1562.38 1404.09 1563.24 Q1407.24 1564.07 1410.33 1564.07 Q1414.47 1564.07 1416.69 1562.66 Q1418.92 1561.23 1418.92 1558.65 Q1418.92 1556.27 1417.3 1554.99 Q1415.71 1553.72 1410.26 1552.54 L1408.23 1552.07 Q1402.78 1550.92 1400.37 1548.56 Q1397.95 1546.18 1397.95 1542.04 Q1397.95 1537.01 1401.51 1534.27 Q1405.08 1531.54 1411.63 1531.54 Q1414.88 1531.54 1417.74 1532.01 Q1420.61 1532.49 1423.03 1533.45 Z\" fill=\"#000000\" fill-rule=\"evenodd\" fill-opacity=\"1\" /><path clip-path=\"url(#clip670)\" d=\"M1447.95 1518.52 L1447.95 1576.64 L1434.45 1576.64 L1434.45 1572.09 L1442.06 1572.09 L1442.06 1523.07 L1434.45 1523.07 L1434.45 1518.52 L1447.95 1518.52 Z\" fill=\"#000000\" fill-rule=\"evenodd\" fill-opacity=\"1\" /><polyline clip-path=\"url(#clip672)\" style=\"stroke:#000000; stroke-linecap:butt; stroke-linejoin:round; stroke-width:2; stroke-opacity:0.1; fill:none\" points=\"\n",
       "  202.227,1423.18 2352.76,1423.18 \n",
       "  \"/>\n",
       "<polyline clip-path=\"url(#clip672)\" style=\"stroke:#000000; stroke-linecap:butt; stroke-linejoin:round; stroke-width:2; stroke-opacity:0.1; fill:none\" points=\"\n",
       "  202.227,1147.99 2352.76,1147.99 \n",
       "  \"/>\n",
       "<polyline clip-path=\"url(#clip672)\" style=\"stroke:#000000; stroke-linecap:butt; stroke-linejoin:round; stroke-width:2; stroke-opacity:0.1; fill:none\" points=\"\n",
       "  202.227,872.806 2352.76,872.806 \n",
       "  \"/>\n",
       "<polyline clip-path=\"url(#clip672)\" style=\"stroke:#000000; stroke-linecap:butt; stroke-linejoin:round; stroke-width:2; stroke-opacity:0.1; fill:none\" points=\"\n",
       "  202.227,597.618 2352.76,597.618 \n",
       "  \"/>\n",
       "<polyline clip-path=\"url(#clip672)\" style=\"stroke:#000000; stroke-linecap:butt; stroke-linejoin:round; stroke-width:2; stroke-opacity:0.1; fill:none\" points=\"\n",
       "  202.227,322.431 2352.76,322.431 \n",
       "  \"/>\n",
       "<polyline clip-path=\"url(#clip672)\" style=\"stroke:#000000; stroke-linecap:butt; stroke-linejoin:round; stroke-width:2; stroke-opacity:0.1; fill:none\" points=\"\n",
       "  202.227,47.2441 2352.76,47.2441 \n",
       "  \"/>\n",
       "<polyline clip-path=\"url(#clip670)\" style=\"stroke:#000000; stroke-linecap:butt; stroke-linejoin:round; stroke-width:4; stroke-opacity:1; fill:none\" points=\"\n",
       "  202.227,1423.18 202.227,47.2441 \n",
       "  \"/>\n",
       "<polyline clip-path=\"url(#clip670)\" style=\"stroke:#000000; stroke-linecap:butt; stroke-linejoin:round; stroke-width:4; stroke-opacity:1; fill:none\" points=\"\n",
       "  202.227,1423.18 221.125,1423.18 \n",
       "  \"/>\n",
       "<polyline clip-path=\"url(#clip670)\" style=\"stroke:#000000; stroke-linecap:butt; stroke-linejoin:round; stroke-width:4; stroke-opacity:1; fill:none\" points=\"\n",
       "  202.227,1147.99 221.125,1147.99 \n",
       "  \"/>\n",
       "<polyline clip-path=\"url(#clip670)\" style=\"stroke:#000000; stroke-linecap:butt; stroke-linejoin:round; stroke-width:4; stroke-opacity:1; fill:none\" points=\"\n",
       "  202.227,872.806 221.125,872.806 \n",
       "  \"/>\n",
       "<polyline clip-path=\"url(#clip670)\" style=\"stroke:#000000; stroke-linecap:butt; stroke-linejoin:round; stroke-width:4; stroke-opacity:1; fill:none\" points=\"\n",
       "  202.227,597.618 221.125,597.618 \n",
       "  \"/>\n",
       "<polyline clip-path=\"url(#clip670)\" style=\"stroke:#000000; stroke-linecap:butt; stroke-linejoin:round; stroke-width:4; stroke-opacity:1; fill:none\" points=\"\n",
       "  202.227,322.431 221.125,322.431 \n",
       "  \"/>\n",
       "<polyline clip-path=\"url(#clip670)\" style=\"stroke:#000000; stroke-linecap:butt; stroke-linejoin:round; stroke-width:4; stroke-opacity:1; fill:none\" points=\"\n",
       "  202.227,47.2441 221.125,47.2441 \n",
       "  \"/>\n",
       "<path clip-path=\"url(#clip670)\" d=\"M154.283 1408.98 Q150.672 1408.98 148.843 1412.54 Q147.038 1416.08 147.038 1423.21 Q147.038 1430.32 148.843 1433.89 Q150.672 1437.43 154.283 1437.43 Q157.917 1437.43 159.723 1433.89 Q161.552 1430.32 161.552 1423.21 Q161.552 1416.08 159.723 1412.54 Q157.917 1408.98 154.283 1408.98 M154.283 1405.27 Q160.093 1405.27 163.149 1409.88 Q166.227 1414.46 166.227 1423.21 Q166.227 1431.94 163.149 1436.55 Q160.093 1441.13 154.283 1441.13 Q148.473 1441.13 145.394 1436.55 Q142.339 1431.94 142.339 1423.21 Q142.339 1414.46 145.394 1409.88 Q148.473 1405.27 154.283 1405.27 Z\" fill=\"#000000\" fill-rule=\"evenodd\" fill-opacity=\"1\" /><path clip-path=\"url(#clip670)\" d=\"M149.908 1161.34 L166.227 1161.34 L166.227 1165.27 L144.283 1165.27 L144.283 1161.34 Q146.945 1158.58 151.528 1153.95 Q156.135 1149.3 157.315 1147.96 Q159.561 1145.43 160.44 1143.7 Q161.343 1141.94 161.343 1140.25 Q161.343 1137.5 159.399 1135.76 Q157.478 1134.02 154.376 1134.02 Q152.177 1134.02 149.723 1134.79 Q147.292 1135.55 144.515 1137.1 L144.515 1132.38 Q147.339 1131.25 149.792 1130.67 Q152.246 1130.09 154.283 1130.09 Q159.653 1130.09 162.848 1132.77 Q166.042 1135.46 166.042 1139.95 Q166.042 1142.08 165.232 1144 Q164.445 1145.9 162.339 1148.49 Q161.76 1149.16 158.658 1152.38 Q155.556 1155.57 149.908 1161.34 Z\" fill=\"#000000\" fill-rule=\"evenodd\" fill-opacity=\"1\" /><path clip-path=\"url(#clip670)\" d=\"M156.644 859.6 L144.839 878.049 L156.644 878.049 L156.644 859.6 M155.417 855.526 L161.297 855.526 L161.297 878.049 L166.227 878.049 L166.227 881.937 L161.297 881.937 L161.297 890.086 L156.644 890.086 L156.644 881.937 L141.042 881.937 L141.042 877.424 L155.417 855.526 Z\" fill=\"#000000\" fill-rule=\"evenodd\" fill-opacity=\"1\" /><path clip-path=\"url(#clip670)\" d=\"M154.7 595.755 Q151.552 595.755 149.7 597.908 Q147.871 600.061 147.871 603.81 Q147.871 607.537 149.7 609.713 Q151.552 611.866 154.7 611.866 Q157.848 611.866 159.677 609.713 Q161.528 607.537 161.528 603.81 Q161.528 600.061 159.677 597.908 Q157.848 595.755 154.7 595.755 M163.982 581.102 L163.982 585.362 Q162.223 584.528 160.417 584.088 Q158.635 583.649 156.876 583.649 Q152.246 583.649 149.792 586.774 Q147.362 589.899 147.015 596.218 Q148.38 594.204 150.441 593.139 Q152.501 592.051 154.978 592.051 Q160.186 592.051 163.195 595.223 Q166.227 598.371 166.227 603.81 Q166.227 609.135 163.079 612.352 Q159.931 615.57 154.7 615.57 Q148.704 615.57 145.533 610.986 Q142.362 606.38 142.362 597.653 Q142.362 589.459 146.251 584.598 Q150.14 579.713 156.69 579.713 Q158.45 579.713 160.232 580.061 Q162.038 580.408 163.982 581.102 Z\" fill=\"#000000\" fill-rule=\"evenodd\" fill-opacity=\"1\" /><path clip-path=\"url(#clip670)\" d=\"M154.376 323.299 Q151.042 323.299 149.121 325.082 Q147.223 326.864 147.223 329.989 Q147.223 333.114 149.121 334.896 Q151.042 336.679 154.376 336.679 Q157.709 336.679 159.63 334.896 Q161.552 333.091 161.552 329.989 Q161.552 326.864 159.63 325.082 Q157.732 323.299 154.376 323.299 M149.7 321.309 Q146.691 320.568 145.001 318.508 Q143.334 316.447 143.334 313.485 Q143.334 309.341 146.274 306.934 Q149.237 304.526 154.376 304.526 Q159.538 304.526 162.477 306.934 Q165.417 309.341 165.417 313.485 Q165.417 316.447 163.727 318.508 Q162.061 320.568 159.075 321.309 Q162.454 322.096 164.329 324.387 Q166.227 326.679 166.227 329.989 Q166.227 335.012 163.149 337.697 Q160.093 340.383 154.376 340.383 Q148.658 340.383 145.579 337.697 Q142.524 335.012 142.524 329.989 Q142.524 326.679 144.422 324.387 Q146.32 322.096 149.7 321.309 M147.987 313.924 Q147.987 316.61 149.653 318.114 Q151.343 319.619 154.376 319.619 Q157.385 319.619 159.075 318.114 Q160.788 316.61 160.788 313.924 Q160.788 311.239 159.075 309.735 Q157.385 308.23 154.376 308.23 Q151.343 308.23 149.653 309.735 Q147.987 311.239 147.987 313.924 Z\" fill=\"#000000\" fill-rule=\"evenodd\" fill-opacity=\"1\" /><path clip-path=\"url(#clip670)\" d=\"M114.931 60.5889 L122.57 60.5889 L122.57 34.2233 L114.26 35.89 L114.26 31.6308 L122.524 29.9641 L127.2 29.9641 L127.2 60.5889 L134.839 60.5889 L134.839 64.5241 L114.931 64.5241 L114.931 60.5889 Z\" fill=\"#000000\" fill-rule=\"evenodd\" fill-opacity=\"1\" /><path clip-path=\"url(#clip670)\" d=\"M154.283 33.0428 Q150.672 33.0428 148.843 36.6076 Q147.038 40.1492 147.038 47.2788 Q147.038 54.3853 148.843 57.9501 Q150.672 61.4917 154.283 61.4917 Q157.917 61.4917 159.723 57.9501 Q161.552 54.3853 161.552 47.2788 Q161.552 40.1492 159.723 36.6076 Q157.917 33.0428 154.283 33.0428 M154.283 29.3391 Q160.093 29.3391 163.149 33.9456 Q166.227 38.5289 166.227 47.2788 Q166.227 56.0056 163.149 60.6121 Q160.093 65.1954 154.283 65.1954 Q148.473 65.1954 145.394 60.6121 Q142.339 56.0056 142.339 47.2788 Q142.339 38.5289 145.394 33.9456 Q148.473 29.3391 154.283 29.3391 Z\" fill=\"#000000\" fill-rule=\"evenodd\" fill-opacity=\"1\" /><path clip-path=\"url(#clip670)\" d=\"M22.818 876.085 L46.4666 884.806 L46.4666 867.332 L22.818 876.085 M16.4842 879.714 L16.4842 872.425 L64.0042 854.314 L64.0042 860.998 L51.8138 865.327 L51.8138 886.748 L64.0042 891.076 L64.0042 897.856 L16.4842 879.714 Z\" fill=\"#000000\" fill-rule=\"evenodd\" fill-opacity=\"1\" /><path clip-path=\"url(#clip670)\" d=\"M14.479 847.63 L14.479 841.774 L64.0042 841.774 L64.0042 847.63 L14.479 847.63 Z\" fill=\"#000000\" fill-rule=\"evenodd\" fill-opacity=\"1\" /><path clip-path=\"url(#clip670)\" d=\"M18.2347 823.727 L28.3562 823.727 L28.3562 811.664 L32.9077 811.664 L32.9077 823.727 L52.2594 823.727 Q56.6199 823.727 57.8613 822.549 Q59.1026 821.34 59.1026 817.68 L59.1026 811.664 L64.0042 811.664 L64.0042 817.68 Q64.0042 824.459 61.4897 827.037 Q58.9434 829.615 52.2594 829.615 L32.9077 829.615 L32.9077 833.912 L28.3562 833.912 L28.3562 829.615 L18.2347 829.615 L18.2347 823.727 Z\" fill=\"#000000\" fill-rule=\"evenodd\" fill-opacity=\"1\" /><path clip-path=\"url(#clip670)\" d=\"M49.9359 804.566 L28.3562 804.566 L28.3562 798.71 L49.7131 798.71 Q54.7739 798.71 57.3202 796.737 Q59.8346 794.763 59.8346 790.816 Q59.8346 786.074 56.8109 783.337 Q53.7872 780.568 48.5673 780.568 L28.3562 780.568 L28.3562 774.711 L64.0042 774.711 L64.0042 780.568 L58.5296 780.568 Q61.7762 782.7 63.3676 785.533 Q64.9272 788.334 64.9272 792.058 Q64.9272 798.201 61.1078 801.383 Q57.2883 804.566 49.9359 804.566 M27.4968 789.83 L27.4968 789.83 Z\" fill=\"#000000\" fill-rule=\"evenodd\" fill-opacity=\"1\" /><path clip-path=\"url(#clip670)\" d=\"M33.8307 741.991 Q33.2578 742.978 33.0032 744.156 Q32.7167 745.302 32.7167 746.702 Q32.7167 751.667 35.9632 754.341 Q39.1779 756.983 45.2253 756.983 L64.0042 756.983 L64.0042 762.871 L28.3562 762.871 L28.3562 756.983 L33.8944 756.983 Q30.6479 755.137 29.0883 752.177 Q27.4968 749.217 27.4968 744.983 Q27.4968 744.379 27.5923 743.647 Q27.656 742.914 27.8151 742.023 L33.8307 741.991 Z\" fill=\"#000000\" fill-rule=\"evenodd\" fill-opacity=\"1\" /><path clip-path=\"url(#clip670)\" d=\"M46.0847 719.648 Q46.0847 726.746 47.7079 729.483 Q49.3312 732.22 53.2461 732.22 Q56.3653 732.22 58.2114 730.183 Q60.0256 728.114 60.0256 724.581 Q60.0256 719.711 56.5881 716.783 Q53.1188 713.823 47.3897 713.823 L46.0847 713.823 L46.0847 719.648 M43.6657 707.967 L64.0042 707.967 L64.0042 713.823 L58.5933 713.823 Q61.8398 715.828 63.3994 718.82 Q64.9272 721.812 64.9272 726.141 Q64.9272 731.615 61.8716 734.862 Q58.7843 738.077 53.6281 738.077 Q47.6125 738.077 44.5569 734.066 Q41.5014 730.024 41.5014 722.035 L41.5014 713.823 L40.9285 713.823 Q36.8862 713.823 34.6901 716.497 Q32.4621 719.139 32.4621 723.945 Q32.4621 727 33.1941 729.897 Q33.9262 732.793 35.3903 735.467 L29.9795 735.467 Q28.7381 732.252 28.1334 729.228 Q27.4968 726.204 27.4968 723.34 Q27.4968 715.606 31.5072 711.786 Q35.5176 707.967 43.6657 707.967 Z\" fill=\"#000000\" fill-rule=\"evenodd\" fill-opacity=\"1\" /><path clip-path=\"url(#clip670)\" d=\"M14.479 675.724 L14.479 662.229 L19.0304 662.229 L19.0304 669.868 L68.0464 669.868 L68.0464 662.229 L72.5979 662.229 L72.5979 675.724 L14.479 675.724 Z\" fill=\"#000000\" fill-rule=\"evenodd\" fill-opacity=\"1\" /><path clip-path=\"url(#clip670)\" d=\"M35.1993 621.998 Q31.2526 619.802 29.3747 616.746 Q27.4968 613.691 27.4968 609.553 Q27.4968 603.983 31.4117 600.959 Q35.2948 597.936 42.4881 597.936 L64.0042 597.936 L64.0042 603.824 L42.679 603.824 Q37.5546 603.824 35.072 605.638 Q32.5894 607.452 32.5894 611.176 Q32.5894 615.728 35.6131 618.369 Q38.6368 621.011 43.8567 621.011 L64.0042 621.011 L64.0042 626.899 L42.679 626.899 Q37.5228 626.899 35.072 628.714 Q32.5894 630.528 32.5894 634.316 Q32.5894 638.803 35.6449 641.445 Q38.6686 644.087 43.8567 644.087 L64.0042 644.087 L64.0042 649.975 L28.3562 649.975 L28.3562 644.087 L33.8944 644.087 Q30.616 642.082 29.0564 639.281 Q27.4968 636.48 27.4968 632.629 Q27.4968 628.746 29.4702 626.04 Q31.4436 623.303 35.1993 621.998 Z\" fill=\"#000000\" fill-rule=\"evenodd\" fill-opacity=\"1\" /><path clip-path=\"url(#clip670)\" d=\"M14.479 572.568 L72.5979 572.568 L72.5979 586.063 L68.0464 586.063 L68.0464 578.456 L19.0304 578.456 L19.0304 586.063 L14.479 586.063 L14.479 572.568 Z\" fill=\"#000000\" fill-rule=\"evenodd\" fill-opacity=\"1\" /><polyline clip-path=\"url(#clip672)\" style=\"stroke:#009af9; stroke-linecap:butt; stroke-linejoin:round; stroke-width:4; stroke-opacity:1; fill:none\" points=\"\n",
       "  263.091,47.2441 267.149,47.3112 271.207,47.5111 275.264,47.8419 279.322,48.3017 283.379,48.8885 287.437,49.6005 291.495,50.4358 295.552,51.3926 299.61,52.469 \n",
       "  303.667,53.6634 307.725,54.974 311.783,56.399 315.84,57.9368 319.898,59.5857 323.955,61.3441 328.013,63.2103 332.071,65.1827 336.128,67.2598 340.186,69.44 \n",
       "  344.244,71.7218 348.301,74.1037 352.359,76.5843 356.416,79.162 360.474,81.8354 364.532,84.6031 368.589,87.4637 372.647,90.4158 376.704,93.4582 380.762,96.5894 \n",
       "  384.82,99.8081 388.877,103.113 392.935,106.503 396.992,109.977 401.05,113.533 405.108,117.17 409.165,120.887 413.223,124.684 417.28,128.558 421.338,132.508 \n",
       "  425.396,136.534 429.453,140.634 433.511,144.808 437.568,149.053 441.626,153.37 445.684,157.756 449.741,162.212 453.799,166.735 457.856,171.326 461.914,175.982 \n",
       "  465.972,180.704 470.029,185.489 474.087,190.337 478.144,195.248 482.202,200.22 486.26,205.252 490.317,210.344 494.375,215.494 498.432,220.701 502.49,225.966 \n",
       "  506.548,231.286 510.605,236.662 514.663,242.092 518.72,247.576 522.778,253.112 526.836,258.7 530.893,264.34 534.951,270.03 539.008,275.769 543.066,281.558 \n",
       "  547.124,287.395 551.181,293.279 555.239,299.21 559.296,305.187 563.354,311.21 567.412,317.278 571.469,323.389 575.527,329.544 579.584,335.742 583.642,341.982 \n",
       "  587.7,348.264 591.757,354.586 595.815,360.949 599.872,367.352 603.93,373.793 607.988,380.274 612.045,386.792 616.103,393.348 620.16,399.94 624.218,406.569 \n",
       "  628.276,413.234 632.333,419.934 636.391,426.669 640.448,433.438 644.506,440.241 648.564,447.077 652.621,453.946 656.679,460.847 660.736,467.779 664.794,474.743 \n",
       "  668.852,481.738 672.909,488.764 676.967,495.819 681.024,502.904 685.082,510.018 689.14,517.16 693.197,524.331 697.255,531.529 701.312,538.755 705.37,546.008 \n",
       "  709.428,553.287 713.485,560.593 717.543,567.924 721.6,575.281 725.658,582.663 729.716,590.069 733.773,597.5 737.831,604.955 741.888,612.433 745.946,619.935 \n",
       "  750.004,627.459 754.061,635.006 758.119,642.575 762.176,650.166 766.234,657.779 770.292,665.413 774.349,673.068 778.407,680.744 782.464,688.439 786.522,696.155 \n",
       "  790.58,703.891 794.637,711.646 798.695,719.42 802.752,727.213 806.81,735.025 810.868,742.855 814.925,750.703 818.983,758.569 823.04,766.452 827.098,774.353 \n",
       "  831.156,782.27 835.213,790.204 839.271,798.155 843.328,806.122 847.386,814.105 851.444,822.104 855.501,830.118 859.559,838.148 863.616,846.193 867.674,854.252 \n",
       "  871.732,862.327 875.789,870.415 879.847,878.518 883.904,886.635 887.962,894.766 892.02,902.91 896.077,911.068 900.135,919.239 904.192,927.423 908.25,935.62 \n",
       "  912.308,943.829 916.365,952.051 920.423,960.285 924.48,968.531 928.538,976.789 932.596,985.058 936.653,993.339 940.711,1001.63 944.768,1009.94 948.826,1018.25 \n",
       "  952.884,1026.58 956.941,1034.91 960.999,1043.26 965.056,1051.62 969.114,1059.98 973.172,1068.36 977.229,1076.75 981.287,1085.15 985.344,1093.55 989.402,1101.97 \n",
       "  993.46,1110.4 997.517,1118.83 1001.57,1127.28 1005.63,1135.73 1009.69,1144.19 1013.75,1152.66 1017.81,1161.14 1021.86,1169.63 1025.92,1178.12 1029.98,1186.63 \n",
       "  1034.04,1195.14 1038.09,1203.66 1042.15,1212.19 1046.21,1220.73 1050.27,1229.27 1054.32,1237.82 1058.38,1246.38 1062.44,1254.94 1066.5,1263.52 1070.55,1272.1 \n",
       "  1074.61,1280.68 1078.67,1289.28 1082.73,1297.88 1086.78,1306.48 1090.84,1315.1 1094.9,1323.72 1098.96,1332.34 1103.01,1340.97 1107.07,1349.61 1111.13,1358.26 \n",
       "  1115.19,1366.91 1119.25,1375.57 1123.3,1384.23 1127.36,1392.9 1131.42,1401.57 1135.48,1410.25 1139.53,1418.93 1143.59,1427.63 1147.65,1436.32 1151.71,1445.02 \n",
       "  1155.76,1453.73 1159.82,1462.44 1163.88,1471.15 1167.94,1479.88 1171.99,1488.6 1176.05,1497.33 1180.11,1506.07 1184.17,1514.81 1188.22,1523.55 1192.28,1532.3 \n",
       "  1196.34,1541.06 1200.4,1549.81 1204.45,1558.58 1208.51,1567.34 1212.57,1576.11 1216.63,1584.89 1220.69,1593.67 1224.74,1602.45 1228.8,1611.24 1232.86,1620.03 \n",
       "  1236.92,1628.82 1240.97,1637.62 1245.03,1646.42 1249.09,1655.23 1253.15,1664.04 1257.2,1672.85 1261.26,1681.67 1265.32,1690.49 1269.38,1699.31 1273.43,1708.14 \n",
       "  1277.49,1716.97 1281.55,1725.8 1285.61,1734.64 1289.66,1743.48 1293.72,1752.32 1297.78,1761.16 1301.84,1770.01 1305.89,1778.86 1309.95,1787.72 1314.01,1796.58 \n",
       "  1318.07,1805.44 1322.13,1814.3 1326.18,1823.17 1330.24,1832.03 1334.3,1840.91 1338.36,1849.78 1342.41,1858.66 1346.47,1867.54 1350.53,1876.42 1354.59,1885.3 \n",
       "  1358.64,1894.19 1362.7,1903.08 1366.76,1911.97 1370.82,1920.86 1374.87,1929.76 1378.93,1938.66 1382.99,1947.56 1387.05,1956.46 1391.1,1965.36 1395.16,1974.27 \n",
       "  1399.22,1983.18 1403.28,1992.09 1407.33,2001.01 1411.39,2009.92 1415.45,2018.84 1419.51,2027.76 1423.57,2036.68 1427.62,2045.6 1431.68,2054.53 1435.74,2063.45 \n",
       "  1439.8,2072.38 1443.85,2081.31 1447.91,2090.24 1451.97,2099.18 1456.03,2108.11 1460.08,2117.05 1464.14,2125.99 1468.2,2134.93 1472.26,2143.87 1476.31,2152.82 \n",
       "  1480.37,2161.76 1484.43,2170.71 1488.49,2179.66 1492.54,2188.61 1496.6,2197.56 1500.66,2206.51 1504.72,2215.47 1508.77,2224.42 1512.83,2233.38 1516.89,2242.34 \n",
       "  1520.95,2251.3 1525.01,2260.26 1529.06,2269.22 1533.12,2278.19 1537.18,2287.15 1541.24,2296.12 1545.29,2305.08 1549.35,2314.05 1553.41,2323.02 1557.47,2331.99 \n",
       "  1561.52,2340.97 1565.58,2349.94 1569.64,2358.91 1573.7,2367.89 1577.75,2376.87 1581.81,2385.84 1585.87,2394.82 1589.93,2403.8 1593.98,2412.78 1598.04,2421.77 \n",
       "  1602.1,2430.75 1606.16,2439.73 1610.21,2448.72 1614.27,2457.7 1618.33,2466.69 1622.39,2475.68 1626.45,2484.67 1630.5,2493.66 1634.56,2502.65 1638.62,2511.64 \n",
       "  1642.68,2520.63 1646.73,2529.63 1650.79,2538.62 1654.85,2547.61 1658.91,2556.61 1662.96,2565.61 1667.02,2574.6 1671.08,2583.6 1675.14,2592.6 1679.19,2601.6 \n",
       "  1683.25,2610.6 1687.31,2619.6 1691.37,2628.6 1695.42,2637.6 1699.48,2646.61 1703.54,2655.61 1707.6,2664.62 1711.65,2673.62 1715.71,2682.63 1719.77,2691.63 \n",
       "  1723.83,2700.64 1727.89,2709.65 1731.94,2718.66 1736,2727.67 1740.06,2736.68 1744.12,2745.69 1748.17,2754.7 1752.23,2763.71 1756.29,2772.72 1760.35,2781.73 \n",
       "  1764.4,2790.74 1768.46,2799.76 1772.52,2808.77 1776.58,2817.79 1780.63,2826.8 1784.69,2835.82 1788.75,2844.83 1792.81,2853.85 1796.86,2862.87 1800.92,2871.89 \n",
       "  1804.98,2880.9 1809.04,2889.92 1813.09,2898.94 1817.15,2907.96 1821.21,2916.98 1825.27,2926 1829.33,2935.02 1833.38,2944.04 1837.44,2953.06 1841.5,2962.09 \n",
       "  1845.56,2971.11 1849.61,2980.13 1853.67,2989.15 1857.73,2998.18 1861.79,3007.2 1865.84,3016.23 1869.9,3025.25 1873.96,3034.28 1878.02,3043.3 1882.07,3052.33 \n",
       "  1886.13,3061.35 1890.19,3070.38 1894.25,3079.41 1898.3,3088.44 1902.36,3097.46 1906.42,3106.49 1910.48,3115.52 1914.54,3124.55 1918.59,3133.58 1922.65,3142.61 \n",
       "  1926.71,3151.64 1930.77,3160.67 1934.82,3169.7 1938.88,3178.73 1942.94,3187.76 1947,3196.79 1951.05,3205.82 1955.11,3214.85 1959.17,3223.88 1963.23,3232.91 \n",
       "  1967.28,3241.95 1971.34,3250.98 1975.4,3260.01 1979.46,3269.05 1983.51,3278.08 1987.57,3287.11 1991.63,3296.15 1995.69,3305.18 1999.74,3314.21 2003.8,3323.25 \n",
       "  2007.86,3332.28 2011.92,3341.32 2015.98,3350.35 2020.03,3359.39 2024.09,3368.42 2028.15,3377.46 2032.21,3386.5 2036.26,3395.53 2040.32,3404.57 2044.38,3413.61 \n",
       "  2048.44,3422.64 2052.49,3431.68 2056.55,3440.72 2060.61,3449.75 2064.67,3458.79 2068.72,3467.83 2072.78,3476.87 2076.84,3485.91 2080.9,3494.94 2084.95,3503.98 \n",
       "  2089.01,3513.02 2093.07,3522.06 2097.13,3531.1 2101.18,3540.14 2105.24,3549.18 2109.3,3558.22 2113.36,3567.26 2117.42,3576.3 2121.47,3585.34 2125.53,3594.38 \n",
       "  2129.59,3603.42 2133.65,3612.46 2137.7,3621.5 2141.76,3630.54 2145.82,3639.58 2149.88,3648.62 2153.93,3657.66 2157.99,3666.7 2162.05,3675.74 2166.11,3684.78 \n",
       "  2170.16,3693.82 2174.22,3702.87 2178.28,3711.91 2182.34,3720.95 2186.39,3729.99 2190.45,3739.03 2194.51,3748.08 2198.57,3757.12 2202.62,3766.16 2206.68,3775.2 \n",
       "  2210.74,3784.25 2214.8,3793.29 2218.86,3802.33 2222.91,3811.37 2226.97,3820.42 2231.03,3829.46 2235.09,3838.5 2239.14,3847.55 2243.2,3856.59 2247.26,3865.63 \n",
       "  2251.32,3874.68 2255.37,3883.72 2259.43,3892.77 2263.49,3901.81 2267.55,3910.85 2271.6,3919.9 2275.66,3928.94 2279.72,3937.99 2283.78,3947.03 2287.83,3956.07 \n",
       "  2291.89,3965.12 \n",
       "  \"/>\n",
       "<path clip-path=\"url(#clip670)\" d=\"\n",
       "M1989.69 196.789 L2281.07 196.789 L2281.07 93.1086 L1989.69 93.1086  Z\n",
       "  \" fill=\"#ffffff\" fill-rule=\"evenodd\" fill-opacity=\"1\"/>\n",
       "<polyline clip-path=\"url(#clip670)\" style=\"stroke:#000000; stroke-linecap:butt; stroke-linejoin:round; stroke-width:4; stroke-opacity:1; fill:none\" points=\"\n",
       "  1989.69,196.789 2281.07,196.789 2281.07,93.1086 1989.69,93.1086 1989.69,196.789 \n",
       "  \"/>\n",
       "<polyline clip-path=\"url(#clip670)\" style=\"stroke:#009af9; stroke-linecap:butt; stroke-linejoin:round; stroke-width:4; stroke-opacity:1; fill:none\" points=\"\n",
       "  2013.59,144.949 2156.96,144.949 \n",
       "  \"/>\n",
       "<path clip-path=\"url(#clip670)\" d=\"M2194.69 164.636 Q2192.89 169.266 2191.18 170.678 Q2189.46 172.09 2186.59 172.09 L2183.19 172.09 L2183.19 168.525 L2185.69 168.525 Q2187.45 168.525 2188.42 167.692 Q2189.39 166.858 2190.57 163.756 L2191.34 161.812 L2180.85 136.303 L2185.37 136.303 L2193.47 156.581 L2201.57 136.303 L2206.08 136.303 L2194.69 164.636 Z\" fill=\"#000000\" fill-rule=\"evenodd\" fill-opacity=\"1\" /><path clip-path=\"url(#clip670)\" d=\"M2213.37 158.293 L2221.01 158.293 L2221.01 131.928 L2212.7 133.595 L2212.7 129.335 L2220.97 127.669 L2225.64 127.669 L2225.64 158.293 L2233.28 158.293 L2233.28 162.229 L2213.37 162.229 L2213.37 158.293 Z\" fill=\"#000000\" fill-rule=\"evenodd\" fill-opacity=\"1\" /></svg>\n"
      ]
     },
     "execution_count": 684,
     "metadata": {},
     "output_type": "execute_result"
    }
   ],
   "source": [
    "g0= 9.8\n",
    "h0 = 10.\n",
    "m = 0.1\n",
    "k = 0.149\n",
    "h(t) = h0 - m*g0*t/k + m^2*g0/k^2*(1 - exp(-k*t/m))\n",
    "plot(0:0.01:5,h,ylim=(0,10),ylabel=\"Altura [m]\",xlabel=\"Tiempo [s]\")"
   ]
  },
  {
   "cell_type": "code",
   "execution_count": null,
   "metadata": {},
   "outputs": [],
   "source": []
  },
  {
   "cell_type": "code",
   "execution_count": 707,
   "metadata": {},
   "outputs": [
    {
     "data": {
      "text/plain": [
       "biseccion_V2 (generic function with 1 method)"
      ]
     },
     "execution_count": 707,
     "metadata": {},
     "output_type": "execute_result"
    }
   ],
   "source": [
    "function biseccion_V2(f,(a,b);tol_x=1e-10,tol_f=1e-10,nmax=100)      \n",
    "        if b<a              \n",
    "            a,b=b,a\n",
    "        end\n",
    "    Vp = zeros(nmax)\n",
    "    Vf = zeros(nmax)\n",
    "    Vc = zeros(nmax)\n",
    "    Vr = zeros(nmax)\n",
    "    fa = f(a)                    \n",
    "    @assert fa*f(b)<0.     \n",
    "    for i in 1:nmax\n",
    "        p = a + 0.5*(b-a)\n",
    "        fp = f(p)\n",
    "        c = 0.5*(b-a)      ### cota error absoluto\n",
    "        r = abs(c/p)       ### cota error relativo\n",
    "        Vp[i] = p\n",
    "        Vf[i] = fp\n",
    "        Vc[i] = c\n",
    "        Vr[i] = r\n",
    "        if  c<tol_x && abs(fp)<tol_f                        ### Con precision menor a c !!!  \n",
    "             return (true,Vp[1:i],Vf[1:i],Vc[1:i],Vr[1:i])\n",
    "        end\n",
    "        if fa*fp<0.  \n",
    "            b = p\n",
    "        else \n",
    "                a = p\n",
    "                fa = fp\n",
    "        end\n",
    "    end\n",
    "    return false,Vp,Vf,Vc,Vr\n",
    "end"
   ]
  },
  {
   "cell_type": "code",
   "execution_count": 708,
   "metadata": {},
   "outputs": [
    {
     "data": {
      "text/plain": [
       "(true, [2.0, 2.5, 2.25, 2.125, 2.1875, 2.15625, 2.171875, 2.1640625], [1.0356426413783142, -2.135177867745959, -0.5389253533968423, 0.2515959688264413, -0.1429289234732538, 0.05452612780503152, -0.04415436099929604, 0.00519777989290926], [1.0, 0.5, 0.25, 0.125, 0.0625, 0.03125, 0.015625, 0.0078125], [0.5, 0.2, 0.1111111111111111, 0.058823529411764705, 0.02857142857142857, 0.014492753623188406, 0.007194244604316547, 0.0036101083032490976])"
      ]
     },
     "execution_count": 708,
     "metadata": {},
     "output_type": "execute_result"
    }
   ],
   "source": [
    "a,b = 1,3\n",
    "comv,Vp,Vf,Vc,Vr = biseccion_V2(h,(a,b),tol_x=0.01,tol_f=1)"
   ]
  },
  {
   "cell_type": "code",
   "execution_count": 709,
   "metadata": {},
   "outputs": [
    {
     "data": {
      "text/html": [
       "<div class=\"data-frame\"><p>8 rows × 4 columns</p><table class=\"data-frame\"><thead><tr><th></th><th>t_i</th><th>h_i</th><th>error_abs</th><th>error_rel</th></tr><tr><th></th><th title=\"Float64\">Float64</th><th title=\"Float64\">Float64</th><th title=\"Float64\">Float64</th><th title=\"Float64\">Float64</th></tr></thead><tbody><tr><th>1</th><td>2.0</td><td>1.03564</td><td>1.0</td><td>0.5</td></tr><tr><th>2</th><td>2.5</td><td>-2.13518</td><td>0.5</td><td>0.2</td></tr><tr><th>3</th><td>2.25</td><td>-0.538925</td><td>0.25</td><td>0.111111</td></tr><tr><th>4</th><td>2.125</td><td>0.251596</td><td>0.125</td><td>0.0588235</td></tr><tr><th>5</th><td>2.1875</td><td>-0.142929</td><td>0.0625</td><td>0.0285714</td></tr><tr><th>6</th><td>2.15625</td><td>0.0545261</td><td>0.03125</td><td>0.0144928</td></tr><tr><th>7</th><td>2.17188</td><td>-0.0441544</td><td>0.015625</td><td>0.00719424</td></tr><tr><th>8</th><td>2.16406</td><td>0.00519778</td><td>0.0078125</td><td>0.00361011</td></tr></tbody></table></div>"
      ],
      "text/latex": [
       "\\begin{tabular}{r|cccc}\n",
       "\t& t\\_i & h\\_i & error\\_abs & error\\_rel\\\\\n",
       "\t\\hline\n",
       "\t& Float64 & Float64 & Float64 & Float64\\\\\n",
       "\t\\hline\n",
       "\t1 & 2.0 & 1.03564 & 1.0 & 0.5 \\\\\n",
       "\t2 & 2.5 & -2.13518 & 0.5 & 0.2 \\\\\n",
       "\t3 & 2.25 & -0.538925 & 0.25 & 0.111111 \\\\\n",
       "\t4 & 2.125 & 0.251596 & 0.125 & 0.0588235 \\\\\n",
       "\t5 & 2.1875 & -0.142929 & 0.0625 & 0.0285714 \\\\\n",
       "\t6 & 2.15625 & 0.0545261 & 0.03125 & 0.0144928 \\\\\n",
       "\t7 & 2.17188 & -0.0441544 & 0.015625 & 0.00719424 \\\\\n",
       "\t8 & 2.16406 & 0.00519778 & 0.0078125 & 0.00361011 \\\\\n",
       "\\end{tabular}\n"
      ],
      "text/plain": [
       "\u001b[1m8×4 DataFrame\u001b[0m\n",
       "\u001b[1m Row \u001b[0m│\u001b[1m t_i     \u001b[0m\u001b[1m h_i         \u001b[0m\u001b[1m error_abs \u001b[0m\u001b[1m error_rel  \u001b[0m\n",
       "\u001b[1m     \u001b[0m│\u001b[90m Float64 \u001b[0m\u001b[90m Float64     \u001b[0m\u001b[90m Float64   \u001b[0m\u001b[90m Float64    \u001b[0m\n",
       "─────┼─────────────────────────────────────────────\n",
       "   1 │ 2.0       1.03564     1.0        0.5\n",
       "   2 │ 2.5      -2.13518     0.5        0.2\n",
       "   3 │ 2.25     -0.538925    0.25       0.111111\n",
       "   4 │ 2.125     0.251596    0.125      0.0588235\n",
       "   5 │ 2.1875   -0.142929    0.0625     0.0285714\n",
       "   6 │ 2.15625   0.0545261   0.03125    0.0144928\n",
       "   7 │ 2.17188  -0.0441544   0.015625   0.00719424\n",
       "   8 │ 2.16406   0.00519778  0.0078125  0.00361011"
      ]
     },
     "execution_count": 709,
     "metadata": {},
     "output_type": "execute_result"
    }
   ],
   "source": [
    "tabla3 = DataFrame(t_i=Vp,h_i=Vf,error_abs=Vc,error_rel=Vr)"
   ]
  },
  {
   "cell_type": "markdown",
   "metadata": {},
   "source": [
    "**Tarda $2.16s$ en llegar al piso (8 iteracones método bisección)**"
   ]
  },
  {
   "cell_type": "code",
   "execution_count": null,
   "metadata": {},
   "outputs": [],
   "source": []
  },
  {
   "cell_type": "code",
   "execution_count": 714,
   "metadata": {},
   "outputs": [
    {
     "data": {
      "text/plain": [
       "Newton_Raphson2 (generic function with 1 method)"
      ]
     },
     "execution_count": 714,
     "metadata": {},
     "output_type": "execute_result"
    }
   ],
   "source": [
    "function Newton_Raphson2(f,df,p;tol_x=1e-10,tol_f=1e-10,n_max=50)\n",
    "    Vp=zeros(n_max)\n",
    "    Vf=zeros(n_max)\n",
    "    Vc=zeros(n_max)\n",
    "    Vr=zeros(n_max)\n",
    "    for i in 1:n_max\n",
    "        p1=p\n",
    "        p+=-f(p)/df(p)         ###  p=p-f(p)/df(p)\n",
    "        Vp[i]=p\n",
    "        Vf[i]=f(p)\n",
    "        Vc[i]=abs(p-p1)\n",
    "        Vr[i]=Vc[i]/abs(p)\n",
    "        if Vc[i]<tol_x && Vf[i]<tol_f         ### como entiente el programa (P ^ Q) v S ó P ^ (Q v S)\n",
    "            return (true,Vp[1:i],Vf[1:i],Vc[1:i],Vr[1:i])\n",
    "        end\n",
    "    end\n",
    "    return false,Vp,Vf,Vc,Vr\n",
    "end"
   ]
  },
  {
   "cell_type": "code",
   "execution_count": 715,
   "metadata": {},
   "outputs": [
    {
     "data": {
      "text/plain": [
       "(true, [2.342958384445858, 2.165698199268593, 2.164885511531038], [-1.130348061388001, -0.005133093447247994, -1.2846894126283814e-7], [1.3429583844458581, 0.17726018517726505, 0.0008126877375551622], [0.5731891754293733, 0.08184897842050659, 0.0003753952498764786])"
      ]
     },
     "execution_count": 715,
     "metadata": {},
     "output_type": "execute_result"
    }
   ],
   "source": [
    "p = 1.\n",
    "dh(t) = -m*g0/k + m*g0/k*exp(-k*t/m)\n",
    "comv,Vp,Vf,Vc,Vr = Newton_Raphson2(h,dh,p,tol_x=0.01,tol_f=1)"
   ]
  },
  {
   "cell_type": "code",
   "execution_count": 716,
   "metadata": {},
   "outputs": [
    {
     "data": {
      "text/html": [
       "<div class=\"data-frame\"><p>3 rows × 4 columns</p><table class=\"data-frame\"><thead><tr><th></th><th>t_i</th><th>h_i</th><th>error_abs</th><th>error_rel</th></tr><tr><th></th><th title=\"Float64\">Float64</th><th title=\"Float64\">Float64</th><th title=\"Float64\">Float64</th><th title=\"Float64\">Float64</th></tr></thead><tbody><tr><th>1</th><td>2.34296</td><td>-1.13035</td><td>1.34296</td><td>0.573189</td></tr><tr><th>2</th><td>2.1657</td><td>-0.00513309</td><td>0.17726</td><td>0.081849</td></tr><tr><th>3</th><td>2.16489</td><td>-1.28469e-7</td><td>0.000812688</td><td>0.000375395</td></tr></tbody></table></div>"
      ],
      "text/latex": [
       "\\begin{tabular}{r|cccc}\n",
       "\t& t\\_i & h\\_i & error\\_abs & error\\_rel\\\\\n",
       "\t\\hline\n",
       "\t& Float64 & Float64 & Float64 & Float64\\\\\n",
       "\t\\hline\n",
       "\t1 & 2.34296 & -1.13035 & 1.34296 & 0.573189 \\\\\n",
       "\t2 & 2.1657 & -0.00513309 & 0.17726 & 0.081849 \\\\\n",
       "\t3 & 2.16489 & -1.28469e-7 & 0.000812688 & 0.000375395 \\\\\n",
       "\\end{tabular}\n"
      ],
      "text/plain": [
       "\u001b[1m3×4 DataFrame\u001b[0m\n",
       "\u001b[1m Row \u001b[0m│\u001b[1m t_i     \u001b[0m\u001b[1m h_i         \u001b[0m\u001b[1m error_abs   \u001b[0m\u001b[1m error_rel   \u001b[0m\n",
       "\u001b[1m     \u001b[0m│\u001b[90m Float64 \u001b[0m\u001b[90m Float64     \u001b[0m\u001b[90m Float64     \u001b[0m\u001b[90m Float64     \u001b[0m\n",
       "─────┼────────────────────────────────────────────────\n",
       "   1 │ 2.34296  -1.13035     1.34296      0.573189\n",
       "   2 │ 2.1657   -0.00513309  0.17726      0.081849\n",
       "   3 │ 2.16489  -1.28469e-7  0.000812688  0.000375395"
      ]
     },
     "execution_count": 716,
     "metadata": {},
     "output_type": "execute_result"
    }
   ],
   "source": [
    "tabla3 = DataFrame(t_i=Vp,h_i=Vf,error_abs=Vc,error_rel=Vr)"
   ]
  },
  {
   "cell_type": "markdown",
   "metadata": {},
   "source": [
    "**Tarda $2.16s$ en llegar al piso (3 iteracones método Newton-Raphson)**"
   ]
  },
  {
   "cell_type": "markdown",
   "metadata": {},
   "source": [
    "### Problema 5\n",
    "\n",
    "Encuentre la solución a la ecuación \n",
    "$$\n",
    "x - \\cos x = 0 \n",
    "$$\n",
    "en el intervalo $[0, \\pi/2]$ con un error relativo $\\varepsilon_x=10^{-10}$ utilizando:\n",
    "\n",
    "1. el método de la **secante** con $p_1=0.0$ y $p_2=\\pi/2$,\n",
    "\n",
    "2. el método de **regula falsi** con $a=0.0$ y $b=\\pi/2$,\n",
    "\n",
    "3. el método de **bisección** con $a=0.0$ y $b=\\pi/2$ y\n",
    "\n",
    "4. el método de **Newton** con $p_1=1$.\n",
    "\n",
    "Graficar el error relativo $r_i$ retornado por cada método vs el número de iteración $i$ para los cuatro casos. Utilice escala log-lineal (es decir, logarítmica en el eje $y$ y lineal en el eje $x$)."
   ]
  },
  {
   "cell_type": "code",
   "execution_count": 63,
   "metadata": {},
   "outputs": [
    {
     "data": {
      "text/plain": [
       "secante (generic function with 1 method)"
      ]
     },
     "execution_count": 63,
     "metadata": {},
     "output_type": "execute_result"
    }
   ],
   "source": [
    "function secante(f,(p0,p1);tol_x=1e-10,tol_f=1e-10,n_max=50)\n",
    "###     if abs(f(p0))<abs(f(p1))      ### tomo a p1/ |f(p1)|>|f(p2)| para converger mas rápido?\n",
    "###        p0,p1=p1,p0\n",
    "###    end\n",
    "    Vp=zeros(n_max)\n",
    "    Vf=zeros(n_max)\n",
    "    Vc=zeros(n_max)\n",
    "    Vr=zeros(n_max)\n",
    "    for i in 1:n_max\n",
    "        fp1=f(p1)\n",
    "        p2=p1-fp1*(p1-p0)/(fp1-f(p0))\n",
    "        Vp[i]=p2\n",
    "        Vf[i]=f(p2)\n",
    "        Vc[i]=abs(p2-p1)\n",
    "        Vr[i]=Vc[i]/abs(p2)\n",
    "        if Vr[i]<tol_x && Vf[i]<tol_f\n",
    "            return true,Vp[1:i],Vf[1:i],Vc[1:i],Vr[1:i]     ### return false,Vp,Vf,Vc,Vr     devuelve vectores de dim(n_max) y V[n]=0 para todo n>i / en la iteracion i se cumple las tolerancias\n",
    "        end\n",
    "        p0=p1\n",
    "        p1=p2\n",
    "    end\n",
    "    return false,Vp,Vf,Vc,Vr\n",
    "end"
   ]
  },
  {
   "cell_type": "code",
   "execution_count": 1,
   "metadata": {},
   "outputs": [
    {
     "data": {
      "text/plain": [
       "secante (generic function with 1 method)"
      ]
     },
     "execution_count": 1,
     "metadata": {},
     "output_type": "execute_result"
    }
   ],
   "source": [
    "function secante(f,(p0,p1);tol_x=1e-5,tol_f=1e-5,n_max=50)\n",
    "    if abs(f(p0))>abs(f(p1))\n",
    "        p0,p1=p1,p0\n",
    "    end\n",
    "    Vp=zeros(n_max)\n",
    "    Vf=zeros(n_max)\n",
    "    Vc=zeros(n_max)\n",
    "    Vr=zeros(n_max)\n",
    "    for i in 1:n_max\n",
    "        p2=p1-f(p1)*(p1-p0)/(f(p1)-f(p0))\n",
    "        Vp[i]=p2\n",
    "        Vf[i]=f(p2)\n",
    "        Vc[i]=abs(p2-p1)\n",
    "        Vr[i]=Vc[i]/abs(p2)\n",
    "        while Vc[i]>tol_x || Vf[i]>tol_f\n",
    "            p0=p1\n",
    "            p1=p2\n",
    "            return p2\n",
    "        end\n",
    "        return true,Vp[1:i],Vf[1:i],Vc[1:i],Vr[1:i]\n",
    "    end\n",
    "    return false,Vp,Vf,Vc,Vr\n",
    "end"
   ]
  },
  {
   "cell_type": "code",
   "execution_count": 64,
   "metadata": {},
   "outputs": [
    {
     "data": {
      "text/plain": [
       "(true, [1.2, 1.6216216216216215, 1.752873563218391, 1.7313693901035672, 1.732046735238226, 1.732050808370097, 1.7320508075688763, 1.7320508075688774], [-1.56, -0.37034331628926287, 0.0725657286299386, -0.0023600350124017844, -1.4106950602332802e-5, 2.7755064913037586e-9, -3.552713678800501e-15, 4.440892098500626e-16], [1.3, 0.42162162162162153, 0.13125194159676945, 0.021504173114823777, 0.000677345134658891, 4.073131870896418e-6, 8.012206453855697e-10, 1.1102230246251565e-15], [1.0833333333333335, 0.25999999999999995, 0.07487815684537011, 0.012420326498632069, 0.00039106631528954027, 2.3516237810190665e-6, 4.6258495529364464e-10, 6.409875621278546e-16])"
      ]
     },
     "execution_count": 64,
     "metadata": {},
     "output_type": "execute_result"
    }
   ],
   "source": [
    "f(x)=x^2-3\n",
    "comv,Vp,Vf,Vc,Vr = secante(f,(0.,2.5))"
   ]
  },
  {
   "cell_type": "code",
   "execution_count": 65,
   "metadata": {},
   "outputs": [
    {
     "data": {
      "text/plain": [
       "8-element Vector{Float64}:\n",
       " 1.2\n",
       " 1.6216216216216215\n",
       " 1.752873563218391\n",
       " 1.7313693901035672\n",
       " 1.732046735238226\n",
       " 1.732050808370097\n",
       " 1.7320508075688763\n",
       " 1.7320508075688774"
      ]
     },
     "execution_count": 65,
     "metadata": {},
     "output_type": "execute_result"
    }
   ],
   "source": [
    "Vp"
   ]
  },
  {
   "cell_type": "code",
   "execution_count": null,
   "metadata": {},
   "outputs": [],
   "source": []
  },
  {
   "cell_type": "code",
   "execution_count": null,
   "metadata": {},
   "outputs": [],
   "source": []
  },
  {
   "cell_type": "code",
   "execution_count": 118,
   "metadata": {},
   "outputs": [
    {
     "data": {
      "text/plain": [
       "regula_falsi (generic function with 1 method)"
      ]
     },
     "execution_count": 118,
     "metadata": {},
     "output_type": "execute_result"
    }
   ],
   "source": [
    "function regula_falsi(f,(p0,p1);tol_x=1e-5,tol_f=1e-5,nmax=50)\n",
    "    if p1<p0\n",
    "        p0,p1=p1,p0 \n",
    "    end                  \n",
    "    @assert f(p0)*f(p1)<0.  \n",
    "    Vp=zeros(nmax)\n",
    "    Vf=zeros(nmax)\n",
    "    Vc=zeros(nmax)\n",
    "    Vr=zeros(nmax)\n",
    "    for i in 1:nmax\n",
    "        fp1=f(p1)\n",
    "        p2=p1-fp1*(p1-p0)/(fp1-f(p0))\n",
    "        fp2=f(p2)\n",
    "        Vp[i]=p2\n",
    "        Vf[i]=fp2\n",
    "        Vc[i]=abs(p2-p1)\n",
    "        Vr[i]=Vc[i]/abs(p2)\n",
    "        if Vr[i]<tol_x && Vf[i]<tol_f\n",
    "            return true,Vp[1:i],Vf[1:i],Vc[1:i],Vr[1:i]     ### return false,Vp,Vf,Vc,Vr     devuelve vectores de dim(n_max) y V[n]=0 para todo n>i / en la iteracion i se cumple las tolerancias\n",
    "        end\n",
    "        if fp2*fp1<0    ### la raiz está en [p1,p2]\n",
    "            p0=p1\n",
    "            p1=p2\n",
    "        else           ### la raiz está en [p0,p2]\n",
    "            p1=p2\n",
    "        end\n",
    "    end\n",
    "    return false,Vp,Vf,Vc,Vr\n",
    "end"
   ]
  },
  {
   "cell_type": "code",
   "execution_count": 119,
   "metadata": {},
   "outputs": [
    {
     "data": {
      "text/plain": [
       "(true, [1.2, 1.6216216216216215, 1.7114754098360656, 1.728298949007396, 1.7313693901035674, 1.7319271374413254, 1.732028365695117, 1.732046735238226, 1.7320500686018405], [-1.56, -0.37034331628926287, -0.07085192152647135, -0.012982742859930951, -0.002360035012400896, -0.0004283905942963351, -7.77404275020821e-5, -1.4106950602332802e-5, -2.5598563593298707e-6], [1.3, 0.42162162162162153, 0.08985378821444412, 0.016823539171330282, 0.0030704410961714945, 0.0005577473377580411, 0.00010122825379155209, 1.8369543109075792e-5, 3.3333636144661227e-6], [1.0833333333333335, 0.25999999999999995, 0.052500776638707766, 0.009734160389898085, 0.001773417685285418, 0.0003220385694643211, 5.8444916836524234e-5, 1.0605685594591789e-5, 1.9245192012012144e-6])"
      ]
     },
     "execution_count": 119,
     "metadata": {},
     "output_type": "execute_result"
    }
   ],
   "source": [
    "f(x)=x^2-3\n",
    "comv,Vp,Vf,Vc,Vr = regula_falsi(f,(0.,2.5))"
   ]
  },
  {
   "cell_type": "code",
   "execution_count": 120,
   "metadata": {},
   "outputs": [
    {
     "data": {
      "text/plain": [
       "9-element Vector{Float64}:\n",
       " 1.2\n",
       " 1.6216216216216215\n",
       " 1.7114754098360656\n",
       " 1.728298949007396\n",
       " 1.7313693901035674\n",
       " 1.7319271374413254\n",
       " 1.732028365695117\n",
       " 1.732046735238226\n",
       " 1.7320500686018405"
      ]
     },
     "execution_count": 120,
     "metadata": {},
     "output_type": "execute_result"
    }
   ],
   "source": [
    "Vp"
   ]
  },
  {
   "cell_type": "code",
   "execution_count": null,
   "metadata": {},
   "outputs": [],
   "source": []
  },
  {
   "cell_type": "markdown",
   "metadata": {},
   "source": [
    "## Problema 6\n",
    "\n",
    "Dado el siguiente polinomio $p(x) = -10 + 5 x - 12 x^2  + 6 x^3  - 2 x^4  + x^5$, grafique el mismo y observe que posee una única raíz real positiva, encuentre la misma utilizando:\n",
    "\n",
    "1. El método de bisección. Elija el intervalo $[a,b]$ utilizando el **Teorema de las cotas de Cauchy** que acota la región del espacio complejo donde se encuentran las raíces. Evalúe el polinomio utilizando el algoritmo de Horner.\n",
    "\n",
    "2. El método de Newton-Raphson. Elija el valor inicial utilizando los teoremas que acotan la región del espacio complejo donde se encuentran las raíces. Evalúe el polinomio y su derivada utilizando el algoritmo de Horner."
   ]
  },
  {
   "cell_type": "markdown",
   "metadata": {},
   "source": [
    "**Teorema de las cotas de Cauchy**\n",
    "\n",
    "Sea $p(x) = a_0 + a_1x + a_2x^2+...+a_nx^n$ un polinomio sobre $\\mathbb{C}$ de grado $n\\geq 1$ y coeficientes $a_i\\in \\mathbb{C}$ para $i=0,1,...,n$. Luego, todas las raices de $p$ se encuentran en el intervalo $[-(M+1),M+1]$ para $M = \\max\\left\\{\\frac{|a_0|}{|a_n|},\\frac{|a_0|}{|a_n|},...,\\frac{|a_{n-1}|}{|a_n|}\\right\\}$."
   ]
  },
  {
   "cell_type": "markdown",
   "metadata": {},
   "source": [
    "**Algoritmo de Horner**\n",
    "\n",
    "Cualquier polinomio\n",
    "$$\n",
    "p(x)=a_0+a_1x+a_2x^2+...+a_{n-1}x^{n-1}+a_nx^n\n",
    "$$\n",
    "puede ser reescrito como\n",
    "$$\n",
    "p(x)=a_0+x(a_1+x(a_2+...+x(a_{n-1}+xa_n)...))\n",
    "$$\n",
    "El algoritmo de Horner consiste en calcular $p(x)$ para un valor dado de $x$ sacando ventaja de la anterior expresión, ya que nos evita tener que calcular potencias $x^2, x^3, ..., x^n$ lo cual resulta numericamente costozo y tendiente a introducir errores numéricos indeseables.\n",
    "Notar que\n",
    "$$\n",
    "p'(x)=a_1+2a_2x+3a_3x^2+...+(n-1)a_{n-1}x^{n-2}+na_nx^{n-1}\n",
    "$$\n",
    "lo cual se reduce a\n",
    "$$\n",
    "p'(x)=a_1+x(2a_2+x(3a_3+...+x((n-1)a_{n-1}+xna_n))+...)))\n",
    "$$"
   ]
  },
  {
   "cell_type": "code",
   "execution_count": null,
   "metadata": {},
   "outputs": [],
   "source": []
  },
  {
   "cell_type": "markdown",
   "metadata": {},
   "source": [
    "## Ejercicios Complementarios"
   ]
  },
  {
   "cell_type": "markdown",
   "metadata": {},
   "source": [
    "### Problema C.1\n",
    "\n",
    "Adapte el programa de Newton-Raphson para calcular una aproximación a la raíz cúbica de un número \n",
    "$R$ positivo."
   ]
  },
  {
   "cell_type": "code",
   "execution_count": 205,
   "metadata": {},
   "outputs": [
    {
     "data": {
      "text/plain": [
       "raiz_cubica (generic function with 1 method)"
      ]
     },
     "execution_count": 205,
     "metadata": {},
     "output_type": "execute_result"
    }
   ],
   "source": [
    "function raiz_cubica(r)\n",
    "f(x)=x^3-r\n",
    "df(x)=3x^2\n",
    "p=1\n",
    "comv,V_p,V_f,V_c,V_r=Newton_Raphson(f,df,p)\n",
    "    return V_p\n",
    "end"
   ]
  },
  {
   "cell_type": "code",
   "execution_count": null,
   "metadata": {},
   "outputs": [],
   "source": [
    "raiz_cubica(exp(1))"
   ]
  }
 ],
 "metadata": {
  "@webio": {
   "lastCommId": null,
   "lastKernelId": null
  },
  "kernelspec": {
   "display_name": "Julia 1.7.2",
   "language": "julia",
   "name": "julia-1.7"
  },
  "language_info": {
   "file_extension": ".jl",
   "mimetype": "application/julia",
   "name": "julia",
   "version": "1.7.2"
  }
 },
 "nbformat": 4,
 "nbformat_minor": 4
}
