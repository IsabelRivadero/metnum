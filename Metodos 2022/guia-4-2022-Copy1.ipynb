{
 "cells": [
  {
   "cell_type": "markdown",
   "metadata": {},
   "source": [
    "# Métodos Numéricos (2022)\n",
    "\n",
    "## Guía 4: Derivadas"
   ]
  },
  {
   "cell_type": "code",
   "execution_count": 1,
   "metadata": {},
   "outputs": [
    {
     "name": "stderr",
     "output_type": "stream",
     "text": [
      "\u001b[32m\u001b[1m    Updating\u001b[22m\u001b[39m registry at `~/.julia/registries/General.toml`\n",
      "\u001b[32m\u001b[1m   Resolving\u001b[22m\u001b[39m package versions...\n",
      "\u001b[32m\u001b[1m  No Changes\u001b[22m\u001b[39m to `~/.julia/environments/v1.7/Project.toml`\n",
      "\u001b[32m\u001b[1m  No Changes\u001b[22m\u001b[39m to `~/.julia/environments/v1.7/Manifest.toml`\n"
     ]
    }
   ],
   "source": [
    "using Pkg\n",
    "Pkg.add(\"Calculus\")   "
   ]
  },
  {
   "cell_type": "code",
   "execution_count": 2,
   "metadata": {},
   "outputs": [],
   "source": [
    "using Plots\n",
    "using Calculus       ### Módulo en Julia que permite calcular derivadas, gradientes y jacobinas."
   ]
  },
  {
   "cell_type": "markdown",
   "metadata": {},
   "source": [
    "## Problema 1\n",
    "\n",
    "\n",
    "Defina una función, que, dada una función, un punto y un intervalo, retorne una aproximación a la derivada de la función dada, evaluada en el punto dado, utilizando la fórmula de diferencias finitas que se deriva de la siguiente aproximación (*fórmula centrada de tres puntos*): \n",
    "\n",
    "\n",
    "$$\n",
    "f^\\prime(x) = \\frac{f(x+h) - f(x-h)}{2h} + \\mathcal{O}(h^2)\n",
    "$$\n",
    "\n",
    "Utilize dicha función para evaluar la derivada de la función $f(x) = x e^x$ en el punto $x=2$\n",
    "para distintos valores de $h$ y calcule el incremento óptimo $h_o$ teniendo en cuenta los errores de truncamiento y redondeo. \n",
    "Usando la diferencia entre $f'(2)$ (calculado en Julia usando las funciones matemáticas incorporadas) y el valor de la aproximación mencionada, grafique en escala *log-log* el error versus $h$ para $h = 10^{-k}$ con $k$ entero."
   ]
  },
  {
   "cell_type": "code",
   "execution_count": 3,
   "metadata": {},
   "outputs": [
    {
     "data": {
      "text/plain": [
       "22.16716829679195"
      ]
     },
     "execution_count": 3,
     "metadata": {},
     "output_type": "execute_result"
    }
   ],
   "source": [
    "x0=2\n",
    "f(x)=x*exp(x)\n",
    "df(x)=exp(x)+x*exp(x)\n",
    "d2f(x)=2*exp(x)+x*exp(x)\n",
    "d3f(x)=3*exp(x)+x*exp(x)\n",
    "df(x0)"
   ]
  },
  {
   "cell_type": "code",
   "execution_count": 4,
   "metadata": {},
   "outputs": [
    {
     "data": {
      "text/plain": [
       "derivada_centrada"
      ]
     },
     "execution_count": 4,
     "metadata": {},
     "output_type": "execute_result"
    }
   ],
   "source": [
    "\"Formula de diferencias finitas centrada de tre puntos\"\n",
    "function derivada_centrada(f,x,h)\n",
    "    df=(f(x+h)-f(x-h))/(2h)\n",
    "    return df\n",
    "end"
   ]
  },
  {
   "cell_type": "markdown",
   "metadata": {},
   "source": [
    "***f'(2) para distintos valores de h***"
   ]
  },
  {
   "cell_type": "code",
   "execution_count": 5,
   "metadata": {},
   "outputs": [
    {
     "data": {
      "text/plain": [
       "22.22878688030728"
      ]
     },
     "execution_count": 5,
     "metadata": {},
     "output_type": "execute_result"
    }
   ],
   "source": [
    "h=1/10\n",
    "derivada_centrada(f,x0,h)"
   ]
  },
  {
   "cell_type": "code",
   "execution_count": 6,
   "metadata": {},
   "outputs": [
    {
     "data": {
      "text/plain": [
       "22.16717445433769"
      ]
     },
     "execution_count": 6,
     "metadata": {},
     "output_type": "execute_result"
    }
   ],
   "source": [
    "h=1e-3\n",
    "derivada_centrada(f,x0,h)"
   ]
  },
  {
   "cell_type": "code",
   "execution_count": 7,
   "metadata": {},
   "outputs": [
    {
     "data": {
      "text/plain": [
       "22.167168297393403"
      ]
     },
     "execution_count": 7,
     "metadata": {},
     "output_type": "execute_result"
    }
   ],
   "source": [
    "h=1e-6\n",
    "derivada_centrada(f,x0,h)"
   ]
  },
  {
   "cell_type": "code",
   "execution_count": 8,
   "metadata": {},
   "outputs": [
    {
     "data": {
      "text/plain": [
       "22.168933355715126"
      ]
     },
     "execution_count": 8,
     "metadata": {},
     "output_type": "execute_result"
    }
   ],
   "source": [
    "h=1e-12\n",
    "derivada_centrada(f,x0,h)"
   ]
  },
  {
   "cell_type": "markdown",
   "metadata": {},
   "source": [
    "***Incremento optimo $h_0$ teniendo en cuenta los errores de redondeo y truncamiento****"
   ]
  },
  {
   "cell_type": "code",
   "execution_count": 9,
   "metadata": {},
   "outputs": [
    {
     "data": {
      "text/plain": [
       "4.440892098500626e-16"
      ]
     },
     "execution_count": 9,
     "metadata": {},
     "output_type": "execute_result"
    }
   ],
   "source": [
    "M=d3f(x0)\n",
    "e=eps(2.)   ### Epsilon de la maquina, es la distancia entre valores de punto flotante representables consecutivos en x"
   ]
  },
  {
   "cell_type": "code",
   "execution_count": 10,
   "metadata": {},
   "outputs": [
    {
     "data": {
      "text/plain": [
       "3.3037778405548465e-6"
      ]
     },
     "execution_count": 10,
     "metadata": {},
     "output_type": "execute_result"
    }
   ],
   "source": [
    "h0=(3*e/M)^(1/3)"
   ]
  },
  {
   "cell_type": "code",
   "execution_count": 11,
   "metadata": {},
   "outputs": [
    {
     "data": {
      "text/plain": [
       "22.167168297413358"
      ]
     },
     "execution_count": 11,
     "metadata": {},
     "output_type": "execute_result"
    }
   ],
   "source": [
    "derivada_centrada(f,x0,h0)"
   ]
  },
  {
   "cell_type": "markdown",
   "metadata": {},
   "source": [
    "***Calculado en Julia usando las funciones matemáticas incorporadas***"
   ]
  },
  {
   "cell_type": "code",
   "execution_count": 12,
   "metadata": {},
   "outputs": [
    {
     "data": {
      "text/plain": [
       "22.167168297647287"
      ]
     },
     "execution_count": 12,
     "metadata": {},
     "output_type": "execute_result"
    }
   ],
   "source": [
    "derivative(f,x0)"
   ]
  },
  {
   "cell_type": "markdown",
   "metadata": {},
   "source": [
    "***Grafico en escala log-log del error versus ℎ para ℎ=10^−𝑘 con 𝑘 entero***"
   ]
  },
  {
   "cell_type": "code",
   "execution_count": 13,
   "metadata": {},
   "outputs": [
    {
     "data": {
      "text/plain": [
       "20-element Vector{Float64}:\n",
       "  1.0\n",
       "  0.1\n",
       "  0.01\n",
       "  0.001\n",
       "  0.0001\n",
       "  1.0e-5\n",
       "  1.0e-6\n",
       "  1.0e-7\n",
       "  1.0e-8\n",
       "  1.0e-9\n",
       "  1.0e-10\n",
       "  1.0e-11\n",
       "  1.0e-12\n",
       "  1.0e-13\n",
       "  1.0e-14\n",
       "  1.0e-15\n",
       "  1.0e-16\n",
       "  1.0e-17\n",
       "  1.0e-18\n",
       " -1.1838881245526248e-19"
      ]
     },
     "execution_count": 13,
     "metadata": {},
     "output_type": "execute_result"
    }
   ],
   "source": [
    "diferencia(h)=abs(derivative(f,x0)-derivada_centrada(f,x0,h))\n",
    "h=[1/10^(k) for k=0:19]"
   ]
  },
  {
   "cell_type": "code",
   "execution_count": 14,
   "metadata": {},
   "outputs": [
    {
     "data": {
      "image/svg+xml": [
       "<?xml version=\"1.0\" encoding=\"utf-8\"?>\n",
       "<svg xmlns=\"http://www.w3.org/2000/svg\" xmlns:xlink=\"http://www.w3.org/1999/xlink\" width=\"600\" height=\"400\" viewBox=\"0 0 2400 1600\">\n",
       "<defs>\n",
       "  <clipPath id=\"clip930\">\n",
       "    <rect x=\"0\" y=\"0\" width=\"2400\" height=\"1600\"/>\n",
       "  </clipPath>\n",
       "</defs>\n",
       "<path clip-path=\"url(#clip930)\" d=\"\n",
       "M0 1600 L2400 1600 L2400 0 L0 0  Z\n",
       "  \" fill=\"#ffffff\" fill-rule=\"evenodd\" fill-opacity=\"1\"/>\n",
       "<defs>\n",
       "  <clipPath id=\"clip931\">\n",
       "    <rect x=\"480\" y=\"0\" width=\"1681\" height=\"1600\"/>\n",
       "  </clipPath>\n",
       "</defs>\n",
       "<path clip-path=\"url(#clip930)\" d=\"\n",
       "M213.607 1474.16 L2352.76 1474.16 L2352.76 123.472 L213.607 123.472  Z\n",
       "  \" fill=\"#ffffff\" fill-rule=\"evenodd\" fill-opacity=\"1\"/>\n",
       "<defs>\n",
       "  <clipPath id=\"clip932\">\n",
       "    <rect x=\"213\" y=\"123\" width=\"2140\" height=\"1352\"/>\n",
       "  </clipPath>\n",
       "</defs>\n",
       "<polyline clip-path=\"url(#clip932)\" style=\"stroke:#000000; stroke-linecap:butt; stroke-linejoin:round; stroke-width:2; stroke-opacity:0.1; fill:none\" points=\"\n",
       "  1094.43,1474.16 1094.43,123.472 \n",
       "  \"/>\n",
       "<polyline clip-path=\"url(#clip932)\" style=\"stroke:#000000; stroke-linecap:butt; stroke-linejoin:round; stroke-width:2; stroke-opacity:0.1; fill:none\" points=\"\n",
       "  2352.76,1474.16 2352.76,123.472 \n",
       "  \"/>\n",
       "<polyline clip-path=\"url(#clip930)\" style=\"stroke:#000000; stroke-linecap:butt; stroke-linejoin:round; stroke-width:4; stroke-opacity:1; fill:none\" points=\"\n",
       "  213.607,1474.16 2352.76,1474.16 \n",
       "  \"/>\n",
       "<polyline clip-path=\"url(#clip930)\" style=\"stroke:#000000; stroke-linecap:butt; stroke-linejoin:round; stroke-width:4; stroke-opacity:1; fill:none\" points=\"\n",
       "  1094.43,1474.16 1094.43,1455.27 \n",
       "  \"/>\n",
       "<polyline clip-path=\"url(#clip930)\" style=\"stroke:#000000; stroke-linecap:butt; stroke-linejoin:round; stroke-width:4; stroke-opacity:1; fill:none\" points=\"\n",
       "  2352.76,1474.16 2352.76,1455.27 \n",
       "  \"/>\n",
       "<path clip-path=\"url(#clip930)\" d=\"M1031.8 1548.29 L1039.44 1548.29 L1039.44 1521.92 L1031.13 1523.59 L1031.13 1519.33 L1039.39 1517.66 L1044.07 1517.66 L1044.07 1548.29 L1051.7 1548.29 L1051.7 1552.22 L1031.8 1552.22 L1031.8 1548.29 Z\" fill=\"#000000\" fill-rule=\"evenodd\" fill-opacity=\"1\" /><path clip-path=\"url(#clip930)\" d=\"M1071.15 1520.74 Q1067.54 1520.74 1065.71 1524.31 Q1063.9 1527.85 1063.9 1534.98 Q1063.9 1542.09 1065.71 1545.65 Q1067.54 1549.19 1071.15 1549.19 Q1074.78 1549.19 1076.59 1545.65 Q1078.42 1542.09 1078.42 1534.98 Q1078.42 1527.85 1076.59 1524.31 Q1074.78 1520.74 1071.15 1520.74 M1071.15 1517.04 Q1076.96 1517.04 1080.01 1521.65 Q1083.09 1526.23 1083.09 1534.98 Q1083.09 1543.71 1080.01 1548.31 Q1076.96 1552.9 1071.15 1552.9 Q1065.34 1552.9 1062.26 1548.31 Q1059.2 1543.71 1059.2 1534.98 Q1059.2 1526.23 1062.26 1521.65 Q1065.34 1517.04 1071.15 1517.04 Z\" fill=\"#000000\" fill-rule=\"evenodd\" fill-opacity=\"1\" /><path clip-path=\"url(#clip930)\" d=\"M1083.09 1511.14 L1107.2 1511.14 L1107.2 1514.34 L1083.09 1514.34 L1083.09 1511.14 Z\" fill=\"#000000\" fill-rule=\"evenodd\" fill-opacity=\"1\" /><path clip-path=\"url(#clip930)\" d=\"M1116.06 1521.62 L1122.27 1521.62 L1122.27 1500.19 L1115.52 1501.55 L1115.52 1498.09 L1122.23 1496.73 L1126.03 1496.73 L1126.03 1521.62 L1132.24 1521.62 L1132.24 1524.81 L1116.06 1524.81 L1116.06 1521.62 Z\" fill=\"#000000\" fill-rule=\"evenodd\" fill-opacity=\"1\" /><path clip-path=\"url(#clip930)\" d=\"M1148.04 1499.24 Q1145.1 1499.24 1143.62 1502.13 Q1142.15 1505.01 1142.15 1510.8 Q1142.15 1516.58 1143.62 1519.47 Q1145.1 1522.35 1148.04 1522.35 Q1150.99 1522.35 1152.46 1519.47 Q1153.94 1516.58 1153.94 1510.8 Q1153.94 1505.01 1152.46 1502.13 Q1150.99 1499.24 1148.04 1499.24 M1148.04 1496.23 Q1152.76 1496.23 1155.24 1499.97 Q1157.74 1503.69 1157.74 1510.8 Q1157.74 1517.89 1155.24 1521.64 Q1152.76 1525.36 1148.04 1525.36 Q1143.32 1525.36 1140.81 1521.64 Q1138.33 1517.89 1138.33 1510.8 Q1138.33 1503.69 1140.81 1499.97 Q1143.32 1496.23 1148.04 1496.23 Z\" fill=\"#000000\" fill-rule=\"evenodd\" fill-opacity=\"1\" /><path clip-path=\"url(#clip930)\" d=\"M2317.74 1548.29 L2325.38 1548.29 L2325.38 1521.92 L2317.07 1523.59 L2317.07 1519.33 L2325.33 1517.66 L2330.01 1517.66 L2330.01 1548.29 L2337.65 1548.29 L2337.65 1552.22 L2317.74 1552.22 L2317.74 1548.29 Z\" fill=\"#000000\" fill-rule=\"evenodd\" fill-opacity=\"1\" /><path clip-path=\"url(#clip930)\" d=\"M2357.09 1520.74 Q2353.48 1520.74 2351.65 1524.31 Q2349.85 1527.85 2349.85 1534.98 Q2349.85 1542.09 2351.65 1545.65 Q2353.48 1549.19 2357.09 1549.19 Q2360.72 1549.19 2362.53 1545.65 Q2364.36 1542.09 2364.36 1534.98 Q2364.36 1527.85 2362.53 1524.31 Q2360.72 1520.74 2357.09 1520.74 M2357.09 1517.04 Q2362.9 1517.04 2365.96 1521.65 Q2369.03 1526.23 2369.03 1534.98 Q2369.03 1543.71 2365.96 1548.31 Q2362.9 1552.9 2357.09 1552.9 Q2351.28 1552.9 2348.2 1548.31 Q2345.15 1543.71 2345.15 1534.98 Q2345.15 1526.23 2348.2 1521.65 Q2351.28 1517.04 2357.09 1517.04 Z\" fill=\"#000000\" fill-rule=\"evenodd\" fill-opacity=\"1\" /><path clip-path=\"url(#clip930)\" d=\"M2378.74 1499.24 Q2375.81 1499.24 2374.32 1502.13 Q2372.85 1505.01 2372.85 1510.8 Q2372.85 1516.58 2374.32 1519.47 Q2375.81 1522.35 2378.74 1522.35 Q2381.69 1522.35 2383.16 1519.47 Q2384.65 1516.58 2384.65 1510.8 Q2384.65 1505.01 2383.16 1502.13 Q2381.69 1499.24 2378.74 1499.24 M2378.74 1496.23 Q2383.46 1496.23 2385.94 1499.97 Q2388.44 1503.69 2388.44 1510.8 Q2388.44 1517.89 2385.94 1521.64 Q2383.46 1525.36 2378.74 1525.36 Q2374.02 1525.36 2371.52 1521.64 Q2369.03 1517.89 2369.03 1510.8 Q2369.03 1503.69 2371.52 1499.97 Q2374.02 1496.23 2378.74 1496.23 Z\" fill=\"#000000\" fill-rule=\"evenodd\" fill-opacity=\"1\" /><polyline clip-path=\"url(#clip932)\" style=\"stroke:#000000; stroke-linecap:butt; stroke-linejoin:round; stroke-width:2; stroke-opacity:0.1; fill:none\" points=\"\n",
       "  213.607,1422.85 2352.76,1422.85 \n",
       "  \"/>\n",
       "<polyline clip-path=\"url(#clip932)\" style=\"stroke:#000000; stroke-linecap:butt; stroke-linejoin:round; stroke-width:2; stroke-opacity:0.1; fill:none\" points=\"\n",
       "  213.607,867.066 2352.76,867.066 \n",
       "  \"/>\n",
       "<polyline clip-path=\"url(#clip932)\" style=\"stroke:#000000; stroke-linecap:butt; stroke-linejoin:round; stroke-width:2; stroke-opacity:0.1; fill:none\" points=\"\n",
       "  213.607,311.284 2352.76,311.284 \n",
       "  \"/>\n",
       "<polyline clip-path=\"url(#clip930)\" style=\"stroke:#000000; stroke-linecap:butt; stroke-linejoin:round; stroke-width:4; stroke-opacity:1; fill:none\" points=\"\n",
       "  213.607,1474.16 213.607,123.472 \n",
       "  \"/>\n",
       "<polyline clip-path=\"url(#clip930)\" style=\"stroke:#000000; stroke-linecap:butt; stroke-linejoin:round; stroke-width:4; stroke-opacity:1; fill:none\" points=\"\n",
       "  213.607,1422.85 232.505,1422.85 \n",
       "  \"/>\n",
       "<polyline clip-path=\"url(#clip930)\" style=\"stroke:#000000; stroke-linecap:butt; stroke-linejoin:round; stroke-width:4; stroke-opacity:1; fill:none\" points=\"\n",
       "  213.607,867.066 232.505,867.066 \n",
       "  \"/>\n",
       "<polyline clip-path=\"url(#clip930)\" style=\"stroke:#000000; stroke-linecap:butt; stroke-linejoin:round; stroke-width:4; stroke-opacity:1; fill:none\" points=\"\n",
       "  213.607,311.284 232.505,311.284 \n",
       "  \"/>\n",
       "<path clip-path=\"url(#clip930)\" d=\"M51.6634 1442.64 L59.3023 1442.64 L59.3023 1416.28 L50.9921 1417.94 L50.9921 1413.68 L59.256 1412.02 L63.9319 1412.02 L63.9319 1442.64 L71.5707 1442.64 L71.5707 1446.58 L51.6634 1446.58 L51.6634 1442.64 Z\" fill=\"#000000\" fill-rule=\"evenodd\" fill-opacity=\"1\" /><path clip-path=\"url(#clip930)\" d=\"M91.0151 1415.1 Q87.404 1415.1 85.5753 1418.66 Q83.7697 1422.2 83.7697 1429.33 Q83.7697 1436.44 85.5753 1440 Q87.404 1443.54 91.0151 1443.54 Q94.6493 1443.54 96.4548 1440 Q98.2835 1436.44 98.2835 1429.33 Q98.2835 1422.2 96.4548 1418.66 Q94.6493 1415.1 91.0151 1415.1 M91.0151 1411.39 Q96.8252 1411.39 99.8808 1416 Q102.959 1420.58 102.959 1429.33 Q102.959 1438.06 99.8808 1442.66 Q96.8252 1447.25 91.0151 1447.25 Q85.2049 1447.25 82.1262 1442.66 Q79.0707 1438.06 79.0707 1429.33 Q79.0707 1420.58 82.1262 1416 Q85.2049 1411.39 91.0151 1411.39 Z\" fill=\"#000000\" fill-rule=\"evenodd\" fill-opacity=\"1\" /><path clip-path=\"url(#clip930)\" d=\"M102.959 1405.49 L127.071 1405.49 L127.071 1408.69 L102.959 1408.69 L102.959 1405.49 Z\" fill=\"#000000\" fill-rule=\"evenodd\" fill-opacity=\"1\" /><path clip-path=\"url(#clip930)\" d=\"M135.929 1415.97 L142.136 1415.97 L142.136 1394.55 L135.384 1395.9 L135.384 1392.44 L142.098 1391.09 L145.898 1391.09 L145.898 1415.97 L152.104 1415.97 L152.104 1419.17 L135.929 1419.17 L135.929 1415.97 Z\" fill=\"#000000\" fill-rule=\"evenodd\" fill-opacity=\"1\" /><path clip-path=\"url(#clip930)\" d=\"M167.903 1393.59 Q164.969 1393.59 163.483 1396.48 Q162.016 1399.36 162.016 1405.15 Q162.016 1410.93 163.483 1413.82 Q164.969 1416.7 167.903 1416.7 Q170.855 1416.7 172.322 1413.82 Q173.808 1410.93 173.808 1405.15 Q173.808 1399.36 172.322 1396.48 Q170.855 1393.59 167.903 1393.59 M167.903 1390.58 Q172.623 1390.58 175.106 1394.32 Q177.607 1398.04 177.607 1405.15 Q177.607 1412.24 175.106 1415.99 Q172.623 1419.71 167.903 1419.71 Q163.182 1419.71 160.68 1415.99 Q158.198 1412.24 158.198 1405.15 Q158.198 1398.04 160.68 1394.32 Q163.182 1390.58 167.903 1390.58 Z\" fill=\"#000000\" fill-rule=\"evenodd\" fill-opacity=\"1\" /><path clip-path=\"url(#clip930)\" d=\"M76.9787 886.859 L84.6175 886.859 L84.6175 860.493 L76.3074 862.16 L76.3074 857.901 L84.5712 856.234 L89.2471 856.234 L89.2471 886.859 L96.886 886.859 L96.886 890.794 L76.9787 890.794 L76.9787 886.859 Z\" fill=\"#000000\" fill-rule=\"evenodd\" fill-opacity=\"1\" /><path clip-path=\"url(#clip930)\" d=\"M116.33 859.313 Q112.719 859.313 110.891 862.877 Q109.085 866.419 109.085 873.549 Q109.085 880.655 110.891 884.22 Q112.719 887.762 116.33 887.762 Q119.965 887.762 121.77 884.22 Q123.599 880.655 123.599 873.549 Q123.599 866.419 121.77 862.877 Q119.965 859.313 116.33 859.313 M116.33 855.609 Q122.14 855.609 125.196 860.215 Q128.275 864.799 128.275 873.549 Q128.275 882.275 125.196 886.882 Q122.14 891.465 116.33 891.465 Q110.52 891.465 107.441 886.882 Q104.386 882.275 104.386 873.549 Q104.386 864.799 107.441 860.215 Q110.52 855.609 116.33 855.609 Z\" fill=\"#000000\" fill-rule=\"evenodd\" fill-opacity=\"1\" /><path clip-path=\"url(#clip930)\" d=\"M128.275 849.71 L152.386 849.71 L152.386 852.908 L128.275 852.908 L128.275 849.71 Z\" fill=\"#000000\" fill-rule=\"evenodd\" fill-opacity=\"1\" /><path clip-path=\"url(#clip930)\" d=\"M160.624 835.304 L175.539 835.304 L175.539 838.501 L164.103 838.501 L164.103 845.384 Q164.931 845.102 165.759 844.971 Q166.586 844.82 167.414 844.82 Q172.116 844.82 174.862 847.397 Q177.607 849.974 177.607 854.375 Q177.607 858.907 174.786 861.428 Q171.965 863.929 166.831 863.929 Q165.063 863.929 163.22 863.628 Q161.395 863.327 159.439 862.725 L159.439 858.907 Q161.132 859.829 162.937 860.28 Q164.743 860.732 166.755 860.732 Q170.009 860.732 171.909 859.02 Q173.808 857.309 173.808 854.375 Q173.808 851.441 171.909 849.729 Q170.009 848.018 166.755 848.018 Q165.232 848.018 163.709 848.356 Q162.204 848.695 160.624 849.409 L160.624 835.304 Z\" fill=\"#000000\" fill-rule=\"evenodd\" fill-opacity=\"1\" /><path clip-path=\"url(#clip930)\" d=\"M106.902 331.076 L114.541 331.076 L114.541 304.711 L106.231 306.377 L106.231 302.118 L114.494 300.451 L119.17 300.451 L119.17 331.076 L126.809 331.076 L126.809 335.011 L106.902 335.011 L106.902 331.076 Z\" fill=\"#000000\" fill-rule=\"evenodd\" fill-opacity=\"1\" /><path clip-path=\"url(#clip930)\" d=\"M146.253 303.53 Q142.642 303.53 140.814 307.095 Q139.008 310.636 139.008 317.766 Q139.008 324.873 140.814 328.437 Q142.642 331.979 146.253 331.979 Q149.888 331.979 151.693 328.437 Q153.522 324.873 153.522 317.766 Q153.522 310.636 151.693 307.095 Q149.888 303.53 146.253 303.53 M146.253 299.826 Q152.064 299.826 155.119 304.433 Q158.198 309.016 158.198 317.766 Q158.198 326.493 155.119 331.099 Q152.064 335.683 146.253 335.683 Q140.443 335.683 137.365 331.099 Q134.309 326.493 134.309 317.766 Q134.309 309.016 137.365 304.433 Q140.443 299.826 146.253 299.826 Z\" fill=\"#000000\" fill-rule=\"evenodd\" fill-opacity=\"1\" /><path clip-path=\"url(#clip930)\" d=\"M167.903 282.022 Q164.969 282.022 163.483 284.919 Q162.016 287.796 162.016 293.589 Q162.016 299.363 163.483 302.26 Q164.969 305.137 167.903 305.137 Q170.855 305.137 172.322 302.26 Q173.808 299.363 173.808 293.589 Q173.808 287.796 172.322 284.919 Q170.855 282.022 167.903 282.022 M167.903 279.013 Q172.623 279.013 175.106 282.756 Q177.607 286.48 177.607 293.589 Q177.607 300.68 175.106 304.422 Q172.623 308.146 167.903 308.146 Q163.182 308.146 160.68 304.422 Q158.198 300.68 158.198 293.589 Q158.198 286.48 160.68 282.756 Q163.182 279.013 167.903 279.013 Z\" fill=\"#000000\" fill-rule=\"evenodd\" fill-opacity=\"1\" /><path clip-path=\"url(#clip930)\" d=\"M997.026 12.096 L1035.27 12.096 L1035.27 18.9825 L1005.21 18.9825 L1005.21 36.8875 L1034.01 36.8875 L1034.01 43.7741 L1005.21 43.7741 L1005.21 65.6895 L1036 65.6895 L1036 72.576 L997.026 72.576 L997.026 12.096 Z\" fill=\"#000000\" fill-rule=\"evenodd\" fill-opacity=\"1\" /><path clip-path=\"url(#clip930)\" d=\"M1075.41 34.1734 Q1074.16 33.4443 1072.66 33.1202 Q1071.2 32.7556 1069.42 32.7556 Q1063.1 32.7556 1059.69 36.8875 Q1056.33 40.9789 1056.33 48.6757 L1056.33 72.576 L1048.84 72.576 L1048.84 27.2059 L1056.33 27.2059 L1056.33 34.2544 Q1058.68 30.1225 1062.45 28.1376 Q1066.22 26.1121 1071.6 26.1121 Q1072.37 26.1121 1073.3 26.2337 Q1074.24 26.3147 1075.37 26.5172 L1075.41 34.1734 Z\" fill=\"#000000\" fill-rule=\"evenodd\" fill-opacity=\"1\" /><path clip-path=\"url(#clip930)\" d=\"M1108.06 34.1734 Q1106.81 33.4443 1105.31 33.1202 Q1103.85 32.7556 1102.07 32.7556 Q1095.75 32.7556 1092.34 36.8875 Q1088.98 40.9789 1088.98 48.6757 L1088.98 72.576 L1081.49 72.576 L1081.49 27.2059 L1088.98 27.2059 L1088.98 34.2544 Q1091.33 30.1225 1095.1 28.1376 Q1098.87 26.1121 1104.25 26.1121 Q1105.02 26.1121 1105.95 26.2337 Q1106.89 26.3147 1108.02 26.5172 L1108.06 34.1734 Z\" fill=\"#000000\" fill-rule=\"evenodd\" fill-opacity=\"1\" /><path clip-path=\"url(#clip930)\" d=\"M1131.64 32.4315 Q1125.64 32.4315 1122.16 37.1306 Q1118.67 41.7891 1118.67 49.9314 Q1118.67 58.0738 1122.12 62.7728 Q1125.6 67.4314 1131.64 67.4314 Q1137.59 67.4314 1141.08 62.7323 Q1144.56 58.0333 1144.56 49.9314 Q1144.56 41.8701 1141.08 37.1711 Q1137.59 32.4315 1131.64 32.4315 M1131.64 26.1121 Q1141.36 26.1121 1146.91 32.4315 Q1152.46 38.7509 1152.46 49.9314 Q1152.46 61.0714 1146.91 67.4314 Q1141.36 73.7508 1131.64 73.7508 Q1121.87 73.7508 1116.32 67.4314 Q1110.82 61.0714 1110.82 49.9314 Q1110.82 38.7509 1116.32 32.4315 Q1121.87 26.1121 1131.64 26.1121 Z\" fill=\"#000000\" fill-rule=\"evenodd\" fill-opacity=\"1\" /><path clip-path=\"url(#clip930)\" d=\"M1191.1 34.1734 Q1189.85 33.4443 1188.35 33.1202 Q1186.89 32.7556 1185.11 32.7556 Q1178.79 32.7556 1175.39 36.8875 Q1172.02 40.9789 1172.02 48.6757 L1172.02 72.576 L1164.53 72.576 L1164.53 27.2059 L1172.02 27.2059 L1172.02 34.2544 Q1174.37 30.1225 1178.14 28.1376 Q1181.91 26.1121 1187.3 26.1121 Q1188.07 26.1121 1189 26.2337 Q1189.93 26.3147 1191.06 26.5172 L1191.1 34.1734 Z\" fill=\"#000000\" fill-rule=\"evenodd\" fill-opacity=\"1\" /><path clip-path=\"url(#clip930)\" d=\"M1245.91 49.7694 Q1236.88 49.7694 1233.4 51.8354 Q1229.91 53.9013 1229.91 58.8839 Q1229.91 62.8538 1232.5 65.2034 Q1235.14 67.5124 1239.63 67.5124 Q1245.83 67.5124 1249.56 63.1374 Q1253.33 58.7219 1253.33 51.4303 L1253.33 49.7694 L1245.91 49.7694 M1260.78 46.6907 L1260.78 72.576 L1253.33 72.576 L1253.33 65.6895 Q1250.77 69.8214 1246.97 71.8063 Q1243.16 73.7508 1237.65 73.7508 Q1230.68 73.7508 1226.55 69.8619 Q1222.46 65.9325 1222.46 59.3701 Q1222.46 51.7138 1227.56 47.825 Q1232.71 43.9361 1242.88 43.9361 L1253.33 43.9361 L1253.33 43.2069 Q1253.33 38.0623 1249.92 35.2672 Q1246.56 32.4315 1240.44 32.4315 Q1236.56 32.4315 1232.87 33.3632 Q1229.18 34.295 1225.78 36.1584 L1225.78 29.2718 Q1229.87 27.692 1233.72 26.9223 Q1237.57 26.1121 1241.21 26.1121 Q1251.06 26.1121 1255.92 31.2163 Q1260.78 36.3204 1260.78 46.6907 Z\" fill=\"#000000\" fill-rule=\"evenodd\" fill-opacity=\"1\" /><path clip-path=\"url(#clip930)\" d=\"M1308.7 49.9314 Q1308.7 41.7081 1305.3 37.0496 Q1301.94 32.3505 1296.02 32.3505 Q1290.11 32.3505 1286.71 37.0496 Q1283.34 41.7081 1283.34 49.9314 Q1283.34 58.1548 1286.71 62.8538 Q1290.11 67.5124 1296.02 67.5124 Q1301.94 67.5124 1305.3 62.8538 Q1308.7 58.1548 1308.7 49.9314 M1283.34 34.0924 Q1285.69 30.0415 1289.26 28.0971 Q1292.86 26.1121 1297.85 26.1121 Q1306.11 26.1121 1311.25 32.6746 Q1316.44 39.2371 1316.44 49.9314 Q1316.44 60.6258 1311.25 67.1883 Q1306.11 73.7508 1297.85 73.7508 Q1292.86 73.7508 1289.26 71.8063 Q1285.69 69.8214 1283.34 65.7705 L1283.34 72.576 L1275.85 72.576 L1275.85 9.54393 L1283.34 9.54393 L1283.34 34.0924 Z\" fill=\"#000000\" fill-rule=\"evenodd\" fill-opacity=\"1\" /><path clip-path=\"url(#clip930)\" d=\"M1357.72 28.5427 L1357.72 35.5912 Q1354.56 33.9709 1351.16 33.1607 Q1347.75 32.3505 1344.11 32.3505 Q1338.56 32.3505 1335.76 34.0519 Q1333.01 35.7533 1333.01 39.156 Q1333.01 41.7486 1334.99 43.2475 Q1336.98 44.7058 1342.97 46.0426 L1345.53 46.6097 Q1353.46 48.3111 1356.79 51.4303 Q1360.15 54.509 1360.15 60.0587 Q1360.15 66.3781 1355.13 70.0644 Q1350.14 73.7508 1341.39 73.7508 Q1337.75 73.7508 1333.78 73.0216 Q1329.85 72.3329 1325.47 70.9151 L1325.47 63.2184 Q1329.61 65.3654 1333.62 66.4591 Q1337.63 67.5124 1341.56 67.5124 Q1346.82 67.5124 1349.66 65.73 Q1352.49 63.9071 1352.49 60.6258 Q1352.49 57.5877 1350.43 55.9673 Q1348.4 54.3469 1341.47 52.8481 L1338.88 52.2405 Q1331.95 50.7821 1328.88 47.7845 Q1325.8 44.7463 1325.8 39.4801 Q1325.8 33.0797 1330.33 29.5959 Q1334.87 26.1121 1343.22 26.1121 Q1347.35 26.1121 1350.99 26.7198 Q1354.64 27.3274 1357.72 28.5427 Z\" fill=\"#000000\" fill-rule=\"evenodd\" fill-opacity=\"1\" /><path clip-path=\"url(#clip930)\" d=\"M1389.6 32.4315 Q1383.6 32.4315 1380.12 37.1306 Q1376.64 41.7891 1376.64 49.9314 Q1376.64 58.0738 1380.08 62.7728 Q1383.56 67.4314 1389.6 67.4314 Q1395.55 67.4314 1399.04 62.7323 Q1402.52 58.0333 1402.52 49.9314 Q1402.52 41.8701 1399.04 37.1711 Q1395.55 32.4315 1389.6 32.4315 M1389.6 26.1121 Q1399.32 26.1121 1404.87 32.4315 Q1410.42 38.7509 1410.42 49.9314 Q1410.42 61.0714 1404.87 67.4314 Q1399.32 73.7508 1389.6 73.7508 Q1379.84 73.7508 1374.29 67.4314 Q1368.78 61.0714 1368.78 49.9314 Q1368.78 38.7509 1374.29 32.4315 Q1379.84 26.1121 1389.6 26.1121 Z\" fill=\"#000000\" fill-rule=\"evenodd\" fill-opacity=\"1\" /><path clip-path=\"url(#clip930)\" d=\"M1422.78 9.54393 L1430.23 9.54393 L1430.23 72.576 L1422.78 72.576 L1422.78 9.54393 Z\" fill=\"#000000\" fill-rule=\"evenodd\" fill-opacity=\"1\" /><path clip-path=\"url(#clip930)\" d=\"M1445.06 54.671 L1445.06 27.2059 L1452.51 27.2059 L1452.51 54.3874 Q1452.51 60.8284 1455.02 64.0691 Q1457.53 67.2693 1462.56 67.2693 Q1468.59 67.2693 1472.08 63.421 Q1475.6 59.5726 1475.6 52.9291 L1475.6 27.2059 L1483.05 27.2059 L1483.05 72.576 L1475.6 72.576 L1475.6 65.6084 Q1472.89 69.7404 1469.28 71.7658 Q1465.72 73.7508 1460.98 73.7508 Q1453.16 73.7508 1449.11 68.8897 Q1445.06 64.0286 1445.06 54.671 M1463.81 26.1121 L1463.81 26.1121 Z\" fill=\"#000000\" fill-rule=\"evenodd\" fill-opacity=\"1\" /><path clip-path=\"url(#clip930)\" d=\"M1505.78 14.324 L1505.78 27.2059 L1521.13 27.2059 L1521.13 32.9987 L1505.78 32.9987 L1505.78 57.6282 Q1505.78 63.1779 1507.28 64.7578 Q1508.82 66.3376 1513.48 66.3376 L1521.13 66.3376 L1521.13 72.576 L1513.48 72.576 Q1504.85 72.576 1501.57 69.3758 Q1498.28 66.1351 1498.28 57.6282 L1498.28 32.9987 L1492.82 32.9987 L1492.82 27.2059 L1498.28 27.2059 L1498.28 14.324 L1505.78 14.324 Z\" fill=\"#000000\" fill-rule=\"evenodd\" fill-opacity=\"1\" /><path clip-path=\"url(#clip930)\" d=\"M1548.52 32.4315 Q1542.52 32.4315 1539.04 37.1306 Q1535.55 41.7891 1535.55 49.9314 Q1535.55 58.0738 1539 62.7728 Q1542.48 67.4314 1548.52 67.4314 Q1554.47 67.4314 1557.95 62.7323 Q1561.44 58.0333 1561.44 49.9314 Q1561.44 41.8701 1557.95 37.1711 Q1554.47 32.4315 1548.52 32.4315 M1548.52 26.1121 Q1558.24 26.1121 1563.79 32.4315 Q1569.34 38.7509 1569.34 49.9314 Q1569.34 61.0714 1563.79 67.4314 Q1558.24 73.7508 1548.52 73.7508 Q1538.75 73.7508 1533.2 67.4314 Q1527.69 61.0714 1527.69 49.9314 Q1527.69 38.7509 1533.2 32.4315 Q1538.75 26.1121 1548.52 26.1121 Z\" fill=\"#000000\" fill-rule=\"evenodd\" fill-opacity=\"1\" /><circle clip-path=\"url(#clip932)\" cx=\"2352.76\" cy=\"220.171\" r=\"14\" fill=\"#009af9\" fill-rule=\"evenodd\" fill-opacity=\"1\" stroke=\"#000000\" stroke-opacity=\"1\" stroke-width=\"3.2\"/>\n",
       "<circle clip-path=\"url(#clip932)\" cx=\"2226.92\" cy=\"445.815\" r=\"14\" fill=\"#009af9\" fill-rule=\"evenodd\" fill-opacity=\"1\" stroke=\"#000000\" stroke-opacity=\"1\" stroke-width=\"3.2\"/>\n",
       "<circle clip-path=\"url(#clip932)\" cx=\"2101.09\" cy=\"668.162\" r=\"14\" fill=\"#009af9\" fill-rule=\"evenodd\" fill-opacity=\"1\" stroke=\"#000000\" stroke-opacity=\"1\" stroke-width=\"3.2\"/>\n",
       "<circle clip-path=\"url(#clip932)\" cx=\"1975.26\" cy=\"890.482\" r=\"14\" fill=\"#009af9\" fill-rule=\"evenodd\" fill-opacity=\"1\" stroke=\"#000000\" stroke-opacity=\"1\" stroke-width=\"3.2\"/>\n",
       "<circle clip-path=\"url(#clip932)\" cx=\"1849.43\" cy=\"1113.44\" r=\"14\" fill=\"#009af9\" fill-rule=\"evenodd\" fill-opacity=\"1\" stroke=\"#000000\" stroke-opacity=\"1\" stroke-width=\"3.2\"/>\n",
       "<circle clip-path=\"url(#clip932)\" cx=\"1723.59\" cy=\"1435.94\" r=\"14\" fill=\"#009af9\" fill-rule=\"evenodd\" fill-opacity=\"1\" stroke=\"#000000\" stroke-opacity=\"1\" stroke-width=\"3.2\"/>\n",
       "<circle clip-path=\"url(#clip932)\" cx=\"1597.76\" cy=\"1377.87\" r=\"14\" fill=\"#009af9\" fill-rule=\"evenodd\" fill-opacity=\"1\" stroke=\"#000000\" stroke-opacity=\"1\" stroke-width=\"3.2\"/>\n",
       "<circle clip-path=\"url(#clip932)\" cx=\"1471.93\" cy=\"1169.79\" r=\"14\" fill=\"#009af9\" fill-rule=\"evenodd\" fill-opacity=\"1\" stroke=\"#000000\" stroke-opacity=\"1\" stroke-width=\"3.2\"/>\n",
       "<circle clip-path=\"url(#clip932)\" cx=\"1346.1\" cy=\"1056.76\" r=\"14\" fill=\"#009af9\" fill-rule=\"evenodd\" fill-opacity=\"1\" stroke=\"#000000\" stroke-opacity=\"1\" stroke-width=\"3.2\"/>\n",
       "<circle clip-path=\"url(#clip932)\" cx=\"1220.27\" cy=\"972.079\" r=\"14\" fill=\"#009af9\" fill-rule=\"evenodd\" fill-opacity=\"1\" stroke=\"#000000\" stroke-opacity=\"1\" stroke-width=\"3.2\"/>\n",
       "<circle clip-path=\"url(#clip932)\" cx=\"1094.43\" cy=\"888.124\" r=\"14\" fill=\"#009af9\" fill-rule=\"evenodd\" fill-opacity=\"1\" stroke=\"#000000\" stroke-opacity=\"1\" stroke-width=\"3.2\"/>\n",
       "<circle clip-path=\"url(#clip932)\" cx=\"968.601\" cy=\"768.203\" r=\"14\" fill=\"#009af9\" fill-rule=\"evenodd\" fill-opacity=\"1\" stroke=\"#000000\" stroke-opacity=\"1\" stroke-width=\"3.2\"/>\n",
       "<circle clip-path=\"url(#clip932)\" cx=\"842.769\" cy=\"617.324\" r=\"14\" fill=\"#009af9\" fill-rule=\"evenodd\" fill-opacity=\"1\" stroke=\"#000000\" stroke-opacity=\"1\" stroke-width=\"3.2\"/>\n",
       "<circle clip-path=\"url(#clip932)\" cx=\"716.937\" cy=\"510.912\" r=\"14\" fill=\"#009af9\" fill-rule=\"evenodd\" fill-opacity=\"1\" stroke=\"#000000\" stroke-opacity=\"1\" stroke-width=\"3.2\"/>\n",
       "<circle clip-path=\"url(#clip932)\" cx=\"591.104\" cy=\"385.504\" r=\"14\" fill=\"#009af9\" fill-rule=\"evenodd\" fill-opacity=\"1\" stroke=\"#000000\" stroke-opacity=\"1\" stroke-width=\"3.2\"/>\n",
       "<circle clip-path=\"url(#clip932)\" cx=\"465.272\" cy=\"470.058\" r=\"14\" fill=\"#009af9\" fill-rule=\"evenodd\" fill-opacity=\"1\" stroke=\"#000000\" stroke-opacity=\"1\" stroke-width=\"3.2\"/>\n",
       "<circle clip-path=\"url(#clip932)\" cx=\"339.44\" cy=\"161.699\" r=\"14\" fill=\"#009af9\" fill-rule=\"evenodd\" fill-opacity=\"1\" stroke=\"#000000\" stroke-opacity=\"1\" stroke-width=\"3.2\"/>\n",
       "<polyline clip-path=\"url(#clip932)\" style=\"stroke:#e26f46; stroke-linecap:butt; stroke-linejoin:round; stroke-width:4; stroke-opacity:1; fill:none\" points=\"\n",
       "  1723.59,2824.86 1723.59,-1227.22 \n",
       "  \"/>\n",
       "<path clip-path=\"url(#clip930)\" d=\"\n",
       "M1954.88 324.015 L2281.45 324.015 L2281.45 168.495 L1954.88 168.495  Z\n",
       "  \" fill=\"#ffffff\" fill-rule=\"evenodd\" fill-opacity=\"1\"/>\n",
       "<polyline clip-path=\"url(#clip930)\" style=\"stroke:#000000; stroke-linecap:butt; stroke-linejoin:round; stroke-width:4; stroke-opacity:1; fill:none\" points=\"\n",
       "  1954.88,324.015 2281.45,324.015 2281.45,168.495 1954.88,168.495 1954.88,324.015 \n",
       "  \"/>\n",
       "<circle clip-path=\"url(#clip930)\" cx=\"2049.95\" cy=\"220.335\" r=\"23\" fill=\"#009af9\" fill-rule=\"evenodd\" fill-opacity=\"1\" stroke=\"#000000\" stroke-opacity=\"1\" stroke-width=\"5.12\"/>\n",
       "<path clip-path=\"url(#clip930)\" d=\"M2158.87 240.023 Q2157.06 244.652 2155.35 246.064 Q2153.64 247.476 2150.77 247.476 L2147.36 247.476 L2147.36 243.911 L2149.86 243.911 Q2151.62 243.911 2152.6 243.078 Q2153.57 242.245 2154.75 239.143 L2155.51 237.199 L2145.03 211.689 L2149.54 211.689 L2157.64 231.967 L2165.74 211.689 L2170.26 211.689 L2158.87 240.023 Z\" fill=\"#000000\" fill-rule=\"evenodd\" fill-opacity=\"1\" /><path clip-path=\"url(#clip930)\" d=\"M2177.55 233.68 L2185.19 233.68 L2185.19 207.314 L2176.88 208.981 L2176.88 204.722 L2185.14 203.055 L2189.82 203.055 L2189.82 233.68 L2197.46 233.68 L2197.46 237.615 L2177.55 237.615 L2177.55 233.68 Z\" fill=\"#000000\" fill-rule=\"evenodd\" fill-opacity=\"1\" /><polyline clip-path=\"url(#clip930)\" style=\"stroke:#e26f46; stroke-linecap:butt; stroke-linejoin:round; stroke-width:4; stroke-opacity:1; fill:none\" points=\"\n",
       "  1978.65,272.175 2121.26,272.175 \n",
       "  \"/>\n",
       "<path clip-path=\"url(#clip930)\" d=\"M2145.03 253.437 L2149.31 253.437 L2149.31 274.71 L2162.02 263.529 L2167.46 263.529 L2153.71 275.659 L2168.04 289.455 L2162.48 289.455 L2149.31 276.793 L2149.31 289.455 L2145.03 289.455 L2145.03 253.437 Z\" fill=\"#000000\" fill-rule=\"evenodd\" fill-opacity=\"1\" /><path clip-path=\"url(#clip930)\" d=\"M2173.2 267.928 L2202.87 267.928 L2202.87 271.816 L2173.2 271.816 L2173.2 267.928 M2173.2 277.372 L2202.87 277.372 L2202.87 281.307 L2173.2 281.307 L2173.2 277.372 Z\" fill=\"#000000\" fill-rule=\"evenodd\" fill-opacity=\"1\" /><path clip-path=\"url(#clip930)\" d=\"M2213.01 254.895 L2231.37 254.895 L2231.37 258.83 L2217.29 258.83 L2217.29 267.303 Q2218.31 266.955 2219.33 266.793 Q2220.35 266.608 2221.37 266.608 Q2227.16 266.608 2230.53 269.779 Q2233.91 272.951 2233.91 278.367 Q2233.91 283.946 2230.44 287.048 Q2226.97 290.127 2220.65 290.127 Q2218.47 290.127 2216.21 289.756 Q2213.96 289.386 2211.55 288.645 L2211.55 283.946 Q2213.64 285.08 2215.86 285.636 Q2218.08 286.191 2220.56 286.191 Q2224.56 286.191 2226.9 284.085 Q2229.24 281.978 2229.24 278.367 Q2229.24 274.756 2226.9 272.65 Q2224.56 270.543 2220.56 270.543 Q2218.68 270.543 2216.81 270.96 Q2214.96 271.377 2213.01 272.256 L2213.01 254.895 Z\" fill=\"#000000\" fill-rule=\"evenodd\" fill-opacity=\"1\" /></svg>\n"
      ]
     },
     "execution_count": 14,
     "metadata": {},
     "output_type": "execute_result"
    },
    {
     "name": "stderr",
     "output_type": "stream",
     "text": [
      "┌ Warning: Invalid negative or zero value -1.1838881245526248e-19 found at series index 20 for log10 based xscale\n",
      "└ @ Plots /home/rdpaula/.julia/packages/Plots/dNEbX/src/utils.jl:95\n"
     ]
    }
   ],
   "source": [
    "scatter(h,diferencia,linestyle=:dash, yscale=:log10,xscale=:log10, xlim=(1e-17,1e-0),title=\"Error absoluto\")\n",
    "vline!([1e-5],label=\"k=5\")"
   ]
  },
  {
   "cell_type": "markdown",
   "metadata": {},
   "source": [
    "## Problema 2\n",
    "\n",
    "Para funciones $f(x)$ que son suficientemente diferenciables en $x=c$\n",
    "\n",
    "1. Muestre que se  puede aproximar $f'(c)$ con la *fórmula centrada de 5 puntos*\n",
    "$$\n",
    "D_5f(c) := \\,\\frac{1}{12 h} \\left(f(c-2 h)-8 f(c-h)+8 f(c+h)-f(c+2 h)\n",
    "\\right)\n",
    "$$\n",
    "\n",
    "\n",
    "2. Muestre que la aproximación es exacta para polinomios de grado $\\le 4$.\n",
    "*Ayuda:* calcule explícitamente el término expresado como $O(h^4)$ en la ecuación siguiente, usando una expansión en serie de Taylor alrededor de $x=c$ de todas las evaluaciones de la función que aparecen en la fórmula para $D_5f(c)$.\n",
    "\n",
    "$$\n",
    "f'(c)\\,=\\,\\frac{1}{12 h} \\left(f(c-2 h)-8 f(c-h)+8 f(c+h)-f(c+2 h)\n",
    "\\right)\\,+\\,O(h^4)\n",
    "$$"
   ]
  },
  {
   "cell_type": "code",
   "execution_count": null,
   "metadata": {},
   "outputs": [],
   "source": []
  },
  {
   "cell_type": "markdown",
   "metadata": {},
   "source": [
    "## Problema 3\n",
    "\n",
    "1. Implemente el cálculo aproximado de las derivadas de una función arbitraria utilizando las fórmulas *i) hacia adelante de 2 puntos*, *ii) centrada de 3 puntos* y *iii) centrada de 5 puntos*.\n",
    "\n",
    "2. Aplíquelas para obtener los valores aproximados de las derivadas de $f(x)=\\cos x$ y $g(x)=e^x$.\n",
    "\n",
    "3. Haga un gráfico *log-log* del error relativo $E$ vs $h$ para $h\\in [\\epsilon_m(x),0.1]$ y $x=0.1, 1, 100$. Aquí $\\epsilon_m(x)$ es la precisión de la máquina al valor $x$.\n",
    "\n",
    "4. Verifique si el número de cifras decimales que obtiene coincide con las estimaciones presentadas en el téorico.\n",
    "\n",
    "5. Identifique las regiones donde domina el error del algoritmo y el error de redondeo, respectivamente. Las pendientes que se observan, corresponden a las predichas en el teórico?"
   ]
  },
  {
   "cell_type": "markdown",
   "metadata": {},
   "source": [
    "***3.1.***"
   ]
  },
  {
   "cell_type": "code",
   "execution_count": 15,
   "metadata": {},
   "outputs": [
    {
     "data": {
      "text/plain": [
       "derivada_adelante"
      ]
     },
     "execution_count": 15,
     "metadata": {},
     "output_type": "execute_result"
    }
   ],
   "source": [
    "\"Formula de diferencias finitas hacia adelante\"\n",
    "function derivada_adelante(f,x,h)\n",
    "    df=(f(x+h)-f(x))/h\n",
    "    return df\n",
    "end"
   ]
  },
  {
   "cell_type": "code",
   "execution_count": 17,
   "metadata": {},
   "outputs": [
    {
     "data": {
      "text/plain": [
       "derivada_centrada_3p"
      ]
     },
     "execution_count": 17,
     "metadata": {},
     "output_type": "execute_result"
    }
   ],
   "source": [
    "\"Formula de diferencias finitas centrada de tres puntos\"\n",
    "function derivada_centrada_3p(f,x,h)\n",
    "    df=(f(x+h)-f(x-h))/(2h)\n",
    "    return df\n",
    "end"
   ]
  },
  {
   "cell_type": "code",
   "execution_count": 18,
   "metadata": {},
   "outputs": [
    {
     "data": {
      "text/plain": [
       "derivada_centrada_5p"
      ]
     },
     "execution_count": 18,
     "metadata": {},
     "output_type": "execute_result"
    }
   ],
   "source": [
    "\"Formula de diferencias finitas centrada de cinco puntos\"\n",
    "function derivada_centrada_5p(f,x,h)\n",
    "    df=(f(x-2h)-8f(x-h)+8f(x+h)-f(x+2h))/(12h)       ### df=(f(x-2h)-8f(x-h)+8f(x+h)-f(x-2h))/(16h) esta mal pero da igual :p\n",
    "    return df\n",
    "end"
   ]
  },
  {
   "cell_type": "markdown",
   "metadata": {},
   "source": [
    "***3.2.***"
   ]
  },
  {
   "cell_type": "code",
   "execution_count": 19,
   "metadata": {},
   "outputs": [
    {
     "data": {
      "text/plain": [
       "0.0:0.2:10.0"
      ]
     },
     "execution_count": 19,
     "metadata": {},
     "output_type": "execute_result"
    }
   ],
   "source": [
    "f(x)=cos(x)\n",
    "g(x)=exp(x)\n",
    "s(x)=x\n",
    "dx=0.2\n",
    "x=0:dx:10"
   ]
  },
  {
   "cell_type": "code",
   "execution_count": 22,
   "metadata": {},
   "outputs": [
    {
     "data": {
      "text/plain": [
       "d3 (generic function with 1 method)"
      ]
     },
     "execution_count": 22,
     "metadata": {},
     "output_type": "execute_result"
    }
   ],
   "source": [
    "d1(x)=derivada_adelante(f,x,dx)\n",
    "d2(x)=derivada_centrada_3p(f,x,dx)\n",
    "d3(x)=derivada_centrada_5p(f,x,dx)"
   ]
  },
  {
   "cell_type": "code",
   "execution_count": 23,
   "metadata": {},
   "outputs": [
    {
     "data": {
      "image/svg+xml": [
       "<?xml version=\"1.0\" encoding=\"utf-8\"?>\n",
       "<svg xmlns=\"http://www.w3.org/2000/svg\" xmlns:xlink=\"http://www.w3.org/1999/xlink\" width=\"600\" height=\"400\" viewBox=\"0 0 2400 1600\">\n",
       "<defs>\n",
       "  <clipPath id=\"clip970\">\n",
       "    <rect x=\"0\" y=\"0\" width=\"2400\" height=\"1600\"/>\n",
       "  </clipPath>\n",
       "</defs>\n",
       "<path clip-path=\"url(#clip970)\" d=\"\n",
       "M0 1600 L2400 1600 L2400 0 L0 0  Z\n",
       "  \" fill=\"#ffffff\" fill-rule=\"evenodd\" fill-opacity=\"1\"/>\n",
       "<defs>\n",
       "  <clipPath id=\"clip971\">\n",
       "    <rect x=\"480\" y=\"0\" width=\"1681\" height=\"1600\"/>\n",
       "  </clipPath>\n",
       "</defs>\n",
       "<path clip-path=\"url(#clip970)\" d=\"\n",
       "M193.936 1486.45 L2352.76 1486.45 L2352.76 47.2441 L193.936 47.2441  Z\n",
       "  \" fill=\"#ffffff\" fill-rule=\"evenodd\" fill-opacity=\"1\"/>\n",
       "<defs>\n",
       "  <clipPath id=\"clip972\">\n",
       "    <rect x=\"193\" y=\"47\" width=\"2160\" height=\"1440\"/>\n",
       "  </clipPath>\n",
       "</defs>\n",
       "<polyline clip-path=\"url(#clip972)\" style=\"stroke:#000000; stroke-linecap:butt; stroke-linejoin:round; stroke-width:2; stroke-opacity:0.1; fill:none\" points=\"\n",
       "  193.936,1486.45 193.936,47.2441 \n",
       "  \"/>\n",
       "<polyline clip-path=\"url(#clip972)\" style=\"stroke:#000000; stroke-linecap:butt; stroke-linejoin:round; stroke-width:2; stroke-opacity:0.1; fill:none\" points=\"\n",
       "  553.739,1486.45 553.739,47.2441 \n",
       "  \"/>\n",
       "<polyline clip-path=\"url(#clip972)\" style=\"stroke:#000000; stroke-linecap:butt; stroke-linejoin:round; stroke-width:2; stroke-opacity:0.1; fill:none\" points=\"\n",
       "  913.543,1486.45 913.543,47.2441 \n",
       "  \"/>\n",
       "<polyline clip-path=\"url(#clip972)\" style=\"stroke:#000000; stroke-linecap:butt; stroke-linejoin:round; stroke-width:2; stroke-opacity:0.1; fill:none\" points=\"\n",
       "  1273.35,1486.45 1273.35,47.2441 \n",
       "  \"/>\n",
       "<polyline clip-path=\"url(#clip972)\" style=\"stroke:#000000; stroke-linecap:butt; stroke-linejoin:round; stroke-width:2; stroke-opacity:0.1; fill:none\" points=\"\n",
       "  1633.15,1486.45 1633.15,47.2441 \n",
       "  \"/>\n",
       "<polyline clip-path=\"url(#clip972)\" style=\"stroke:#000000; stroke-linecap:butt; stroke-linejoin:round; stroke-width:2; stroke-opacity:0.1; fill:none\" points=\"\n",
       "  1992.95,1486.45 1992.95,47.2441 \n",
       "  \"/>\n",
       "<polyline clip-path=\"url(#clip972)\" style=\"stroke:#000000; stroke-linecap:butt; stroke-linejoin:round; stroke-width:2; stroke-opacity:0.1; fill:none\" points=\"\n",
       "  2352.76,1486.45 2352.76,47.2441 \n",
       "  \"/>\n",
       "<polyline clip-path=\"url(#clip970)\" style=\"stroke:#000000; stroke-linecap:butt; stroke-linejoin:round; stroke-width:4; stroke-opacity:1; fill:none\" points=\"\n",
       "  193.936,1486.45 2352.76,1486.45 \n",
       "  \"/>\n",
       "<polyline clip-path=\"url(#clip970)\" style=\"stroke:#000000; stroke-linecap:butt; stroke-linejoin:round; stroke-width:4; stroke-opacity:1; fill:none\" points=\"\n",
       "  193.936,1486.45 193.936,1467.55 \n",
       "  \"/>\n",
       "<polyline clip-path=\"url(#clip970)\" style=\"stroke:#000000; stroke-linecap:butt; stroke-linejoin:round; stroke-width:4; stroke-opacity:1; fill:none\" points=\"\n",
       "  553.739,1486.45 553.739,1467.55 \n",
       "  \"/>\n",
       "<polyline clip-path=\"url(#clip970)\" style=\"stroke:#000000; stroke-linecap:butt; stroke-linejoin:round; stroke-width:4; stroke-opacity:1; fill:none\" points=\"\n",
       "  913.543,1486.45 913.543,1467.55 \n",
       "  \"/>\n",
       "<polyline clip-path=\"url(#clip970)\" style=\"stroke:#000000; stroke-linecap:butt; stroke-linejoin:round; stroke-width:4; stroke-opacity:1; fill:none\" points=\"\n",
       "  1273.35,1486.45 1273.35,1467.55 \n",
       "  \"/>\n",
       "<polyline clip-path=\"url(#clip970)\" style=\"stroke:#000000; stroke-linecap:butt; stroke-linejoin:round; stroke-width:4; stroke-opacity:1; fill:none\" points=\"\n",
       "  1633.15,1486.45 1633.15,1467.55 \n",
       "  \"/>\n",
       "<polyline clip-path=\"url(#clip970)\" style=\"stroke:#000000; stroke-linecap:butt; stroke-linejoin:round; stroke-width:4; stroke-opacity:1; fill:none\" points=\"\n",
       "  1992.95,1486.45 1992.95,1467.55 \n",
       "  \"/>\n",
       "<polyline clip-path=\"url(#clip970)\" style=\"stroke:#000000; stroke-linecap:butt; stroke-linejoin:round; stroke-width:4; stroke-opacity:1; fill:none\" points=\"\n",
       "  2352.76,1486.45 2352.76,1467.55 \n",
       "  \"/>\n",
       "<path clip-path=\"url(#clip970)\" d=\"M193.936 1517.37 Q190.325 1517.37 188.496 1520.93 Q186.691 1524.47 186.691 1531.6 Q186.691 1538.71 188.496 1542.27 Q190.325 1545.82 193.936 1545.82 Q197.57 1545.82 199.376 1542.27 Q201.204 1538.71 201.204 1531.6 Q201.204 1524.47 199.376 1520.93 Q197.57 1517.37 193.936 1517.37 M193.936 1513.66 Q199.746 1513.66 202.802 1518.27 Q205.88 1522.85 205.88 1531.6 Q205.88 1540.33 202.802 1544.94 Q199.746 1549.52 193.936 1549.52 Q188.126 1549.52 185.047 1544.94 Q181.992 1540.33 181.992 1531.6 Q181.992 1522.85 185.047 1518.27 Q188.126 1513.66 193.936 1513.66 Z\" fill=\"#000000\" fill-rule=\"evenodd\" fill-opacity=\"1\" /><path clip-path=\"url(#clip970)\" d=\"M544.121 1544.91 L551.76 1544.91 L551.76 1518.55 L543.45 1520.21 L543.45 1515.95 L551.714 1514.29 L556.39 1514.29 L556.39 1544.91 L564.029 1544.91 L564.029 1548.85 L544.121 1548.85 L544.121 1544.91 Z\" fill=\"#000000\" fill-rule=\"evenodd\" fill-opacity=\"1\" /><path clip-path=\"url(#clip970)\" d=\"M908.195 1544.91 L924.515 1544.91 L924.515 1548.85 L902.57 1548.85 L902.57 1544.91 Q905.232 1542.16 909.816 1537.53 Q914.422 1532.88 915.603 1531.53 Q917.848 1529.01 918.728 1527.27 Q919.631 1525.51 919.631 1523.82 Q919.631 1521.07 917.686 1519.33 Q915.765 1517.6 912.663 1517.6 Q910.464 1517.6 908.01 1518.36 Q905.58 1519.13 902.802 1520.68 L902.802 1515.95 Q905.626 1514.82 908.08 1514.24 Q910.533 1513.66 912.57 1513.66 Q917.941 1513.66 921.135 1516.35 Q924.33 1519.03 924.33 1523.52 Q924.33 1525.65 923.519 1527.57 Q922.732 1529.47 920.626 1532.07 Q920.047 1532.74 916.945 1535.95 Q913.844 1539.15 908.195 1544.91 Z\" fill=\"#000000\" fill-rule=\"evenodd\" fill-opacity=\"1\" /><path clip-path=\"url(#clip970)\" d=\"M1277.59 1530.21 Q1280.95 1530.93 1282.83 1533.2 Q1284.72 1535.47 1284.72 1538.8 Q1284.72 1543.92 1281.2 1546.72 Q1277.69 1549.52 1271.2 1549.52 Q1269.03 1549.52 1266.71 1549.08 Q1264.42 1548.66 1261.97 1547.81 L1261.97 1543.29 Q1263.91 1544.43 1266.23 1545.01 Q1268.54 1545.58 1271.07 1545.58 Q1275.46 1545.58 1277.76 1543.85 Q1280.07 1542.11 1280.07 1538.8 Q1280.07 1535.75 1277.92 1534.03 Q1275.79 1532.3 1271.97 1532.3 L1267.94 1532.3 L1267.94 1528.45 L1272.15 1528.45 Q1275.6 1528.45 1277.43 1527.09 Q1279.26 1525.7 1279.26 1523.11 Q1279.26 1520.45 1277.36 1519.03 Q1275.49 1517.6 1271.97 1517.6 Q1270.05 1517.6 1267.85 1518.01 Q1265.65 1518.43 1263.01 1519.31 L1263.01 1515.14 Q1265.67 1514.4 1267.99 1514.03 Q1270.33 1513.66 1272.39 1513.66 Q1277.71 1513.66 1280.81 1516.09 Q1283.91 1518.5 1283.91 1522.62 Q1283.91 1525.49 1282.27 1527.48 Q1280.63 1529.45 1277.59 1530.21 Z\" fill=\"#000000\" fill-rule=\"evenodd\" fill-opacity=\"1\" /><path clip-path=\"url(#clip970)\" d=\"M1636.16 1518.36 L1624.35 1536.81 L1636.16 1536.81 L1636.16 1518.36 M1634.93 1514.29 L1640.81 1514.29 L1640.81 1536.81 L1645.74 1536.81 L1645.74 1540.7 L1640.81 1540.7 L1640.81 1548.85 L1636.16 1548.85 L1636.16 1540.7 L1620.56 1540.7 L1620.56 1536.19 L1634.93 1514.29 Z\" fill=\"#000000\" fill-rule=\"evenodd\" fill-opacity=\"1\" /><path clip-path=\"url(#clip970)\" d=\"M1983.23 1514.29 L2001.59 1514.29 L2001.59 1518.22 L1987.51 1518.22 L1987.51 1526.7 Q1988.53 1526.35 1989.55 1526.19 Q1990.57 1526 1991.59 1526 Q1997.37 1526 2000.75 1529.17 Q2004.13 1532.34 2004.13 1537.76 Q2004.13 1543.34 2000.66 1546.44 Q1997.19 1549.52 1990.87 1549.52 Q1988.69 1549.52 1986.42 1549.15 Q1984.18 1548.78 1981.77 1548.04 L1981.77 1543.34 Q1983.86 1544.47 1986.08 1545.03 Q1988.3 1545.58 1990.78 1545.58 Q1994.78 1545.58 1997.12 1543.48 Q1999.46 1541.37 1999.46 1537.76 Q1999.46 1534.15 1997.12 1532.04 Q1994.78 1529.94 1990.78 1529.94 Q1988.9 1529.94 1987.03 1530.35 Q1985.17 1530.77 1983.23 1531.65 L1983.23 1514.29 Z\" fill=\"#000000\" fill-rule=\"evenodd\" fill-opacity=\"1\" /><path clip-path=\"url(#clip970)\" d=\"M2353.16 1529.7 Q2350.01 1529.7 2348.16 1531.86 Q2346.33 1534.01 2346.33 1537.76 Q2346.33 1541.49 2348.16 1543.66 Q2350.01 1545.82 2353.16 1545.82 Q2356.31 1545.82 2358.14 1543.66 Q2359.99 1541.49 2359.99 1537.76 Q2359.99 1534.01 2358.14 1531.86 Q2356.31 1529.7 2353.16 1529.7 M2362.44 1515.05 L2362.44 1519.31 Q2360.68 1518.48 2358.88 1518.04 Q2357.1 1517.6 2355.34 1517.6 Q2350.71 1517.6 2348.25 1520.72 Q2345.82 1523.85 2345.48 1530.17 Q2346.84 1528.15 2348.9 1527.09 Q2350.96 1526 2353.44 1526 Q2358.65 1526 2361.66 1529.17 Q2364.69 1532.32 2364.69 1537.76 Q2364.69 1543.08 2361.54 1546.3 Q2358.39 1549.52 2353.16 1549.52 Q2347.17 1549.52 2343.99 1544.94 Q2340.82 1540.33 2340.82 1531.6 Q2340.82 1523.41 2344.71 1518.55 Q2348.6 1513.66 2355.15 1513.66 Q2356.91 1513.66 2358.69 1514.01 Q2360.5 1514.36 2362.44 1515.05 Z\" fill=\"#000000\" fill-rule=\"evenodd\" fill-opacity=\"1\" /><polyline clip-path=\"url(#clip972)\" style=\"stroke:#000000; stroke-linecap:butt; stroke-linejoin:round; stroke-width:2; stroke-opacity:0.1; fill:none\" points=\"\n",
       "  193.936,1445.83 2352.76,1445.83 \n",
       "  \"/>\n",
       "<polyline clip-path=\"url(#clip972)\" style=\"stroke:#000000; stroke-linecap:butt; stroke-linejoin:round; stroke-width:2; stroke-opacity:0.1; fill:none\" points=\"\n",
       "  193.936,1106.37 2352.76,1106.37 \n",
       "  \"/>\n",
       "<polyline clip-path=\"url(#clip972)\" style=\"stroke:#000000; stroke-linecap:butt; stroke-linejoin:round; stroke-width:2; stroke-opacity:0.1; fill:none\" points=\"\n",
       "  193.936,766.902 2352.76,766.902 \n",
       "  \"/>\n",
       "<polyline clip-path=\"url(#clip972)\" style=\"stroke:#000000; stroke-linecap:butt; stroke-linejoin:round; stroke-width:2; stroke-opacity:0.1; fill:none\" points=\"\n",
       "  193.936,427.436 2352.76,427.436 \n",
       "  \"/>\n",
       "<polyline clip-path=\"url(#clip972)\" style=\"stroke:#000000; stroke-linecap:butt; stroke-linejoin:round; stroke-width:2; stroke-opacity:0.1; fill:none\" points=\"\n",
       "  193.936,87.9711 2352.76,87.9711 \n",
       "  \"/>\n",
       "<polyline clip-path=\"url(#clip970)\" style=\"stroke:#000000; stroke-linecap:butt; stroke-linejoin:round; stroke-width:4; stroke-opacity:1; fill:none\" points=\"\n",
       "  193.936,1486.45 193.936,47.2441 \n",
       "  \"/>\n",
       "<polyline clip-path=\"url(#clip970)\" style=\"stroke:#000000; stroke-linecap:butt; stroke-linejoin:round; stroke-width:4; stroke-opacity:1; fill:none\" points=\"\n",
       "  193.936,1445.83 212.834,1445.83 \n",
       "  \"/>\n",
       "<polyline clip-path=\"url(#clip970)\" style=\"stroke:#000000; stroke-linecap:butt; stroke-linejoin:round; stroke-width:4; stroke-opacity:1; fill:none\" points=\"\n",
       "  193.936,1106.37 212.834,1106.37 \n",
       "  \"/>\n",
       "<polyline clip-path=\"url(#clip970)\" style=\"stroke:#000000; stroke-linecap:butt; stroke-linejoin:round; stroke-width:4; stroke-opacity:1; fill:none\" points=\"\n",
       "  193.936,766.902 212.834,766.902 \n",
       "  \"/>\n",
       "<polyline clip-path=\"url(#clip970)\" style=\"stroke:#000000; stroke-linecap:butt; stroke-linejoin:round; stroke-width:4; stroke-opacity:1; fill:none\" points=\"\n",
       "  193.936,427.436 212.834,427.436 \n",
       "  \"/>\n",
       "<polyline clip-path=\"url(#clip970)\" style=\"stroke:#000000; stroke-linecap:butt; stroke-linejoin:round; stroke-width:4; stroke-opacity:1; fill:none\" points=\"\n",
       "  193.936,87.9711 212.834,87.9711 \n",
       "  \"/>\n",
       "<path clip-path=\"url(#clip970)\" d=\"M50.9921 1446.28 L80.6679 1446.28 L80.6679 1450.22 L50.9921 1450.22 L50.9921 1446.28 Z\" fill=\"#000000\" fill-rule=\"evenodd\" fill-opacity=\"1\" /><path clip-path=\"url(#clip970)\" d=\"M91.5706 1459.18 L99.2095 1459.18 L99.2095 1432.81 L90.8993 1434.48 L90.8993 1430.22 L99.1632 1428.55 L103.839 1428.55 L103.839 1459.18 L111.478 1459.18 L111.478 1463.11 L91.5706 1463.11 L91.5706 1459.18 Z\" fill=\"#000000\" fill-rule=\"evenodd\" fill-opacity=\"1\" /><path clip-path=\"url(#clip970)\" d=\"M120.922 1457.23 L125.807 1457.23 L125.807 1463.11 L120.922 1463.11 L120.922 1457.23 Z\" fill=\"#000000\" fill-rule=\"evenodd\" fill-opacity=\"1\" /><path clip-path=\"url(#clip970)\" d=\"M145.992 1431.63 Q142.381 1431.63 140.552 1435.2 Q138.746 1438.74 138.746 1445.87 Q138.746 1452.97 140.552 1456.54 Q142.381 1460.08 145.992 1460.08 Q149.626 1460.08 151.431 1456.54 Q153.26 1452.97 153.26 1445.87 Q153.26 1438.74 151.431 1435.2 Q149.626 1431.63 145.992 1431.63 M145.992 1427.93 Q151.802 1427.93 154.857 1432.53 Q157.936 1437.12 157.936 1445.87 Q157.936 1454.59 154.857 1459.2 Q151.802 1463.78 145.992 1463.78 Q140.181 1463.78 137.103 1459.2 Q134.047 1454.59 134.047 1445.87 Q134.047 1437.12 137.103 1432.53 Q140.181 1427.93 145.992 1427.93 Z\" fill=\"#000000\" fill-rule=\"evenodd\" fill-opacity=\"1\" /><path clip-path=\"url(#clip970)\" d=\"M51.9875 1106.82 L81.6633 1106.82 L81.6633 1110.75 L51.9875 1110.75 L51.9875 1106.82 Z\" fill=\"#000000\" fill-rule=\"evenodd\" fill-opacity=\"1\" /><path clip-path=\"url(#clip970)\" d=\"M101.756 1092.17 Q98.1447 1092.17 96.316 1095.73 Q94.5104 1099.27 94.5104 1106.4 Q94.5104 1113.51 96.316 1117.07 Q98.1447 1120.61 101.756 1120.61 Q105.39 1120.61 107.196 1117.07 Q109.024 1113.51 109.024 1106.4 Q109.024 1099.27 107.196 1095.73 Q105.39 1092.17 101.756 1092.17 M101.756 1088.46 Q107.566 1088.46 110.621 1093.07 Q113.7 1097.65 113.7 1106.4 Q113.7 1115.13 110.621 1119.73 Q107.566 1124.32 101.756 1124.32 Q95.9456 1124.32 92.8669 1119.73 Q89.8114 1115.13 89.8114 1106.4 Q89.8114 1097.65 92.8669 1093.07 Q95.9456 1088.46 101.756 1088.46 Z\" fill=\"#000000\" fill-rule=\"evenodd\" fill-opacity=\"1\" /><path clip-path=\"url(#clip970)\" d=\"M121.918 1117.77 L126.802 1117.77 L126.802 1123.65 L121.918 1123.65 L121.918 1117.77 Z\" fill=\"#000000\" fill-rule=\"evenodd\" fill-opacity=\"1\" /><path clip-path=\"url(#clip970)\" d=\"M137.033 1089.09 L155.39 1089.09 L155.39 1093.02 L141.316 1093.02 L141.316 1101.49 Q142.334 1101.15 143.353 1100.99 Q144.371 1100.8 145.39 1100.8 Q151.177 1100.8 154.556 1103.97 Q157.936 1107.14 157.936 1112.56 Q157.936 1118.14 154.464 1121.24 Q150.992 1124.32 144.672 1124.32 Q142.496 1124.32 140.228 1123.95 Q137.982 1123.58 135.575 1122.84 L135.575 1118.14 Q137.658 1119.27 139.881 1119.83 Q142.103 1120.38 144.58 1120.38 Q148.584 1120.38 150.922 1118.28 Q153.26 1116.17 153.26 1112.56 Q153.26 1108.95 150.922 1106.84 Q148.584 1104.74 144.58 1104.74 Q142.705 1104.74 140.83 1105.15 Q138.978 1105.57 137.033 1106.45 L137.033 1089.09 Z\" fill=\"#000000\" fill-rule=\"evenodd\" fill-opacity=\"1\" /><path clip-path=\"url(#clip970)\" d=\"M100.76 752.7 Q97.1493 752.7 95.3206 756.265 Q93.515 759.807 93.515 766.936 Q93.515 774.043 95.3206 777.608 Q97.1493 781.149 100.76 781.149 Q104.395 781.149 106.2 777.608 Q108.029 774.043 108.029 766.936 Q108.029 759.807 106.2 756.265 Q104.395 752.7 100.76 752.7 M100.76 748.997 Q106.571 748.997 109.626 753.603 Q112.705 758.186 112.705 766.936 Q112.705 775.663 109.626 780.27 Q106.571 784.853 100.76 784.853 Q94.9502 784.853 91.8715 780.27 Q88.816 775.663 88.816 766.936 Q88.816 758.186 91.8715 753.603 Q94.9502 748.997 100.76 748.997 Z\" fill=\"#000000\" fill-rule=\"evenodd\" fill-opacity=\"1\" /><path clip-path=\"url(#clip970)\" d=\"M120.922 778.302 L125.807 778.302 L125.807 784.182 L120.922 784.182 L120.922 778.302 Z\" fill=\"#000000\" fill-rule=\"evenodd\" fill-opacity=\"1\" /><path clip-path=\"url(#clip970)\" d=\"M145.992 752.7 Q142.381 752.7 140.552 756.265 Q138.746 759.807 138.746 766.936 Q138.746 774.043 140.552 777.608 Q142.381 781.149 145.992 781.149 Q149.626 781.149 151.431 777.608 Q153.26 774.043 153.26 766.936 Q153.26 759.807 151.431 756.265 Q149.626 752.7 145.992 752.7 M145.992 748.997 Q151.802 748.997 154.857 753.603 Q157.936 758.186 157.936 766.936 Q157.936 775.663 154.857 780.27 Q151.802 784.853 145.992 784.853 Q140.181 784.853 137.103 780.27 Q134.047 775.663 134.047 766.936 Q134.047 758.186 137.103 753.603 Q140.181 748.997 145.992 748.997 Z\" fill=\"#000000\" fill-rule=\"evenodd\" fill-opacity=\"1\" /><path clip-path=\"url(#clip970)\" d=\"M101.756 413.235 Q98.1447 413.235 96.316 416.8 Q94.5104 420.342 94.5104 427.471 Q94.5104 434.578 96.316 438.142 Q98.1447 441.684 101.756 441.684 Q105.39 441.684 107.196 438.142 Q109.024 434.578 109.024 427.471 Q109.024 420.342 107.196 416.8 Q105.39 413.235 101.756 413.235 M101.756 409.531 Q107.566 409.531 110.621 414.138 Q113.7 418.721 113.7 427.471 Q113.7 436.198 110.621 440.804 Q107.566 445.388 101.756 445.388 Q95.9456 445.388 92.8669 440.804 Q89.8114 436.198 89.8114 427.471 Q89.8114 418.721 92.8669 414.138 Q95.9456 409.531 101.756 409.531 Z\" fill=\"#000000\" fill-rule=\"evenodd\" fill-opacity=\"1\" /><path clip-path=\"url(#clip970)\" d=\"M121.918 438.837 L126.802 438.837 L126.802 444.716 L121.918 444.716 L121.918 438.837 Z\" fill=\"#000000\" fill-rule=\"evenodd\" fill-opacity=\"1\" /><path clip-path=\"url(#clip970)\" d=\"M137.033 410.156 L155.39 410.156 L155.39 414.092 L141.316 414.092 L141.316 422.564 Q142.334 422.217 143.353 422.054 Q144.371 421.869 145.39 421.869 Q151.177 421.869 154.556 425.041 Q157.936 428.212 157.936 433.628 Q157.936 439.207 154.464 442.309 Q150.992 445.388 144.672 445.388 Q142.496 445.388 140.228 445.017 Q137.982 444.647 135.575 443.906 L135.575 439.207 Q137.658 440.341 139.881 440.897 Q142.103 441.453 144.58 441.453 Q148.584 441.453 150.922 439.346 Q153.26 437.24 153.26 433.628 Q153.26 430.017 150.922 427.911 Q148.584 425.804 144.58 425.804 Q142.705 425.804 140.83 426.221 Q138.978 426.638 137.033 427.517 L137.033 410.156 Z\" fill=\"#000000\" fill-rule=\"evenodd\" fill-opacity=\"1\" /><path clip-path=\"url(#clip970)\" d=\"M91.5706 101.316 L99.2095 101.316 L99.2095 74.9503 L90.8993 76.617 L90.8993 72.3578 L99.1632 70.6911 L103.839 70.6911 L103.839 101.316 L111.478 101.316 L111.478 105.251 L91.5706 105.251 L91.5706 101.316 Z\" fill=\"#000000\" fill-rule=\"evenodd\" fill-opacity=\"1\" /><path clip-path=\"url(#clip970)\" d=\"M120.922 99.3715 L125.807 99.3715 L125.807 105.251 L120.922 105.251 L120.922 99.3715 Z\" fill=\"#000000\" fill-rule=\"evenodd\" fill-opacity=\"1\" /><path clip-path=\"url(#clip970)\" d=\"M145.992 73.7698 Q142.381 73.7698 140.552 77.3346 Q138.746 80.8762 138.746 88.0058 Q138.746 95.1123 140.552 98.6771 Q142.381 102.219 145.992 102.219 Q149.626 102.219 151.431 98.6771 Q153.26 95.1123 153.26 88.0058 Q153.26 80.8762 151.431 77.3346 Q149.626 73.7698 145.992 73.7698 M145.992 70.0661 Q151.802 70.0661 154.857 74.6726 Q157.936 79.2559 157.936 88.0058 Q157.936 96.7326 154.857 101.339 Q151.802 105.922 145.992 105.922 Q140.181 105.922 137.103 101.339 Q134.047 96.7326 134.047 88.0058 Q134.047 79.2559 137.103 74.6726 Q140.181 70.0661 145.992 70.0661 Z\" fill=\"#000000\" fill-rule=\"evenodd\" fill-opacity=\"1\" /><polyline clip-path=\"url(#clip972)\" style=\"stroke:#009af9; stroke-linecap:butt; stroke-linejoin:round; stroke-width:4; stroke-opacity:1; fill:none\" points=\"\n",
       "  193.936,766.902 200.964,780.161 207.991,793.416 272.971,914.84 337.951,1031.45 357.476,1064.98 377.001,1097.62 396.526,1129.3 416.051,1159.9 449.068,1208.98 \n",
       "  482.084,1254.34 500.016,1277.28 517.949,1298.95 535.882,1319.3 553.814,1338.28 570.346,1354.52 586.879,1369.52 603.411,1383.25 619.943,1395.67 637.667,1407.52 \n",
       "  655.392,1417.82 673.116,1426.53 690.84,1433.65 711.375,1439.87 731.911,1443.89 752.446,1445.72 772.981,1445.33 791.231,1443.13 809.48,1439.19 827.73,1433.52 \n",
       "  845.979,1426.14 861.982,1418.27 877.985,1409.12 893.988,1398.69 909.991,1387.01 927.439,1372.88 944.886,1357.33 962.334,1340.39 979.782,1322.1 997.333,1302.38 \n",
       "  1014.88,1281.4 1032.44,1259.18 1049.99,1235.8 1069.39,1208.65 1088.8,1180.21 1108.2,1150.58 1127.61,1119.82 1164.54,1058.55 1201.46,994.199 1278.25,853.536 \n",
       "  1342.9,731.812 1382.36,657.812 1421.82,585.123 1457.96,520.43 1494.11,458.224 1527.5,403.523 1560.88,351.948 1577.79,327.162 1594.7,303.346 1611.61,280.555 \n",
       "  1628.52,258.837 1647.47,235.833 1666.42,214.301 1685.37,194.303 1704.32,175.892 1721.5,160.623 1738.67,146.735 1755.84,134.26 1773.01,123.225 1792.67,112.392 \n",
       "  1812.33,103.513 1831.99,96.6146 1851.66,91.717 1869.86,88.9791 1888.06,87.9763 1906.27,88.7111 1924.47,91.1816 1942.42,95.3102 1960.37,101.109 1978.32,108.565 \n",
       "  1996.26,117.658 2013.69,128.032 2031.11,139.905 2048.54,153.248 2065.96,168.03 2083.83,184.64 2101.69,202.686 2119.55,222.122 2137.42,242.901 2156.99,267.146 \n",
       "  2176.56,292.87 2196.13,319.997 2215.7,348.445 2244.13,391.952 2272.56,437.8 2300.99,485.701 2329.43,535.356 2335.26,545.732 2341.09,556.166 2346.92,566.656 \n",
       "  2352.76,577.198 \n",
       "  \"/>\n",
       "<circle clip-path=\"url(#clip972)\" cx=\"193.936\" cy=\"834.569\" r=\"14\" fill=\"#e26f46\" fill-rule=\"evenodd\" fill-opacity=\"1\" stroke=\"#000000\" stroke-opacity=\"1\" stroke-width=\"3.2\"/>\n",
       "<circle clip-path=\"url(#clip972)\" cx=\"265.897\" cy=\"967.205\" r=\"14\" fill=\"#e26f46\" fill-rule=\"evenodd\" fill-opacity=\"1\" stroke=\"#000000\" stroke-opacity=\"1\" stroke-width=\"3.2\"/>\n",
       "<circle clip-path=\"url(#clip972)\" cx=\"337.857\" cy=\"1091.86\" r=\"14\" fill=\"#e26f46\" fill-rule=\"evenodd\" fill-opacity=\"1\" stroke=\"#000000\" stroke-opacity=\"1\" stroke-width=\"3.2\"/>\n",
       "<circle clip-path=\"url(#clip972)\" cx=\"409.818\" cy=\"1203.55\" r=\"14\" fill=\"#e26f46\" fill-rule=\"evenodd\" fill-opacity=\"1\" stroke=\"#000000\" stroke-opacity=\"1\" stroke-width=\"3.2\"/>\n",
       "<circle clip-path=\"url(#clip972)\" cx=\"481.779\" cy=\"1297.84\" r=\"14\" fill=\"#e26f46\" fill-rule=\"evenodd\" fill-opacity=\"1\" stroke=\"#000000\" stroke-opacity=\"1\" stroke-width=\"3.2\"/>\n",
       "<circle clip-path=\"url(#clip972)\" cx=\"553.739\" cy=\"1370.96\" r=\"14\" fill=\"#e26f46\" fill-rule=\"evenodd\" fill-opacity=\"1\" stroke=\"#000000\" stroke-opacity=\"1\" stroke-width=\"3.2\"/>\n",
       "<circle clip-path=\"url(#clip972)\" cx=\"625.7\" cy=\"1420\" r=\"14\" fill=\"#e26f46\" fill-rule=\"evenodd\" fill-opacity=\"1\" stroke=\"#000000\" stroke-opacity=\"1\" stroke-width=\"3.2\"/>\n",
       "<circle clip-path=\"url(#clip972)\" cx=\"697.661\" cy=\"1443\" r=\"14\" fill=\"#e26f46\" fill-rule=\"evenodd\" fill-opacity=\"1\" stroke=\"#000000\" stroke-opacity=\"1\" stroke-width=\"3.2\"/>\n",
       "<circle clip-path=\"url(#clip972)\" cx=\"769.621\" cy=\"1439.05\" r=\"14\" fill=\"#e26f46\" fill-rule=\"evenodd\" fill-opacity=\"1\" stroke=\"#000000\" stroke-opacity=\"1\" stroke-width=\"3.2\"/>\n",
       "<circle clip-path=\"url(#clip972)\" cx=\"841.582\" cy=\"1408.3\" r=\"14\" fill=\"#e26f46\" fill-rule=\"evenodd\" fill-opacity=\"1\" stroke=\"#000000\" stroke-opacity=\"1\" stroke-width=\"3.2\"/>\n",
       "<circle clip-path=\"url(#clip972)\" cx=\"913.543\" cy=\"1351.98\" r=\"14\" fill=\"#e26f46\" fill-rule=\"evenodd\" fill-opacity=\"1\" stroke=\"#000000\" stroke-opacity=\"1\" stroke-width=\"3.2\"/>\n",
       "<circle clip-path=\"url(#clip972)\" cx=\"985.503\" cy=\"1272.34\" r=\"14\" fill=\"#e26f46\" fill-rule=\"evenodd\" fill-opacity=\"1\" stroke=\"#000000\" stroke-opacity=\"1\" stroke-width=\"3.2\"/>\n",
       "<circle clip-path=\"url(#clip972)\" cx=\"1057.46\" cy=\"1172.55\" r=\"14\" fill=\"#e26f46\" fill-rule=\"evenodd\" fill-opacity=\"1\" stroke=\"#000000\" stroke-opacity=\"1\" stroke-width=\"3.2\"/>\n",
       "<circle clip-path=\"url(#clip972)\" cx=\"1129.42\" cy=\"1056.58\" r=\"14\" fill=\"#e26f46\" fill-rule=\"evenodd\" fill-opacity=\"1\" stroke=\"#000000\" stroke-opacity=\"1\" stroke-width=\"3.2\"/>\n",
       "<circle clip-path=\"url(#clip972)\" cx=\"1201.39\" cy=\"929.065\" r=\"14\" fill=\"#e26f46\" fill-rule=\"evenodd\" fill-opacity=\"1\" stroke=\"#000000\" stroke-opacity=\"1\" stroke-width=\"3.2\"/>\n",
       "<circle clip-path=\"url(#clip972)\" cx=\"1273.35\" cy=\"795.085\" r=\"14\" fill=\"#e26f46\" fill-rule=\"evenodd\" fill-opacity=\"1\" stroke=\"#000000\" stroke-opacity=\"1\" stroke-width=\"3.2\"/>\n",
       "<circle clip-path=\"url(#clip972)\" cx=\"1345.31\" cy=\"659.982\" r=\"14\" fill=\"#e26f46\" fill-rule=\"evenodd\" fill-opacity=\"1\" stroke=\"#000000\" stroke-opacity=\"1\" stroke-width=\"3.2\"/>\n",
       "<circle clip-path=\"url(#clip972)\" cx=\"1417.27\" cy=\"529.141\" r=\"14\" fill=\"#e26f46\" fill-rule=\"evenodd\" fill-opacity=\"1\" stroke=\"#000000\" stroke-opacity=\"1\" stroke-width=\"3.2\"/>\n",
       "<circle clip-path=\"url(#clip972)\" cx=\"1489.23\" cy=\"407.779\" r=\"14\" fill=\"#e26f46\" fill-rule=\"evenodd\" fill-opacity=\"1\" stroke=\"#000000\" stroke-opacity=\"1\" stroke-width=\"3.2\"/>\n",
       "<circle clip-path=\"url(#clip972)\" cx=\"1561.19\" cy=\"300.734\" r=\"14\" fill=\"#e26f46\" fill-rule=\"evenodd\" fill-opacity=\"1\" stroke=\"#000000\" stroke-opacity=\"1\" stroke-width=\"3.2\"/>\n",
       "<circle clip-path=\"url(#clip972)\" cx=\"1633.15\" cy=\"212.274\" r=\"14\" fill=\"#e26f46\" fill-rule=\"evenodd\" fill-opacity=\"1\" stroke=\"#000000\" stroke-opacity=\"1\" stroke-width=\"3.2\"/>\n",
       "<circle clip-path=\"url(#clip972)\" cx=\"1705.11\" cy=\"145.925\" r=\"14\" fill=\"#e26f46\" fill-rule=\"evenodd\" fill-opacity=\"1\" stroke=\"#000000\" stroke-opacity=\"1\" stroke-width=\"3.2\"/>\n",
       "<circle clip-path=\"url(#clip972)\" cx=\"1777.07\" cy=\"104.332\" r=\"14\" fill=\"#e26f46\" fill-rule=\"evenodd\" fill-opacity=\"1\" stroke=\"#000000\" stroke-opacity=\"1\" stroke-width=\"3.2\"/>\n",
       "<circle clip-path=\"url(#clip972)\" cx=\"1849.03\" cy=\"89.1541\" r=\"14\" fill=\"#e26f46\" fill-rule=\"evenodd\" fill-opacity=\"1\" stroke=\"#000000\" stroke-opacity=\"1\" stroke-width=\"3.2\"/>\n",
       "<circle clip-path=\"url(#clip972)\" cx=\"1920.99\" cy=\"100.996\" r=\"14\" fill=\"#e26f46\" fill-rule=\"evenodd\" fill-opacity=\"1\" stroke=\"#000000\" stroke-opacity=\"1\" stroke-width=\"3.2\"/>\n",
       "<circle clip-path=\"url(#clip972)\" cx=\"1992.95\" cy=\"139.385\" r=\"14\" fill=\"#e26f46\" fill-rule=\"evenodd\" fill-opacity=\"1\" stroke=\"#000000\" stroke-opacity=\"1\" stroke-width=\"3.2\"/>\n",
       "<circle clip-path=\"url(#clip972)\" cx=\"2064.91\" cy=\"202.791\" r=\"14\" fill=\"#e26f46\" fill-rule=\"evenodd\" fill-opacity=\"1\" stroke=\"#000000\" stroke-opacity=\"1\" stroke-width=\"3.2\"/>\n",
       "<circle clip-path=\"url(#clip972)\" cx=\"2136.87\" cy=\"288.687\" r=\"14\" fill=\"#e26f46\" fill-rule=\"evenodd\" fill-opacity=\"1\" stroke=\"#000000\" stroke-opacity=\"1\" stroke-width=\"3.2\"/>\n",
       "<circle clip-path=\"url(#clip972)\" cx=\"2208.83\" cy=\"393.647\" r=\"14\" fill=\"#e26f46\" fill-rule=\"evenodd\" fill-opacity=\"1\" stroke=\"#000000\" stroke-opacity=\"1\" stroke-width=\"3.2\"/>\n",
       "<circle clip-path=\"url(#clip972)\" cx=\"2280.8\" cy=\"513.488\" r=\"14\" fill=\"#e26f46\" fill-rule=\"evenodd\" fill-opacity=\"1\" stroke=\"#000000\" stroke-opacity=\"1\" stroke-width=\"3.2\"/>\n",
       "<circle clip-path=\"url(#clip972)\" cx=\"2352.76\" cy=\"643.432\" r=\"14\" fill=\"#e26f46\" fill-rule=\"evenodd\" fill-opacity=\"1\" stroke=\"#000000\" stroke-opacity=\"1\" stroke-width=\"3.2\"/>\n",
       "<circle clip-path=\"url(#clip972)\" cx=\"193.936\" cy=\"766.902\" r=\"14\" fill=\"#3da44d\" fill-rule=\"evenodd\" fill-opacity=\"1\" stroke=\"#000000\" stroke-opacity=\"1\" stroke-width=\"3.2\"/>\n",
       "<circle clip-path=\"url(#clip972)\" cx=\"265.897\" cy=\"900.887\" r=\"14\" fill=\"#3da44d\" fill-rule=\"evenodd\" fill-opacity=\"1\" stroke=\"#000000\" stroke-opacity=\"1\" stroke-width=\"3.2\"/>\n",
       "<circle clip-path=\"url(#clip972)\" cx=\"337.857\" cy=\"1029.53\" r=\"14\" fill=\"#3da44d\" fill-rule=\"evenodd\" fill-opacity=\"1\" stroke=\"#000000\" stroke-opacity=\"1\" stroke-width=\"3.2\"/>\n",
       "<circle clip-path=\"url(#clip972)\" cx=\"409.818\" cy=\"1147.7\" r=\"14\" fill=\"#3da44d\" fill-rule=\"evenodd\" fill-opacity=\"1\" stroke=\"#000000\" stroke-opacity=\"1\" stroke-width=\"3.2\"/>\n",
       "<circle clip-path=\"url(#clip972)\" cx=\"481.779\" cy=\"1250.7\" r=\"14\" fill=\"#3da44d\" fill-rule=\"evenodd\" fill-opacity=\"1\" stroke=\"#000000\" stroke-opacity=\"1\" stroke-width=\"3.2\"/>\n",
       "<circle clip-path=\"url(#clip972)\" cx=\"553.739\" cy=\"1334.4\" r=\"14\" fill=\"#3da44d\" fill-rule=\"evenodd\" fill-opacity=\"1\" stroke=\"#000000\" stroke-opacity=\"1\" stroke-width=\"3.2\"/>\n",
       "<circle clip-path=\"url(#clip972)\" cx=\"625.7\" cy=\"1395.48\" r=\"14\" fill=\"#3da44d\" fill-rule=\"evenodd\" fill-opacity=\"1\" stroke=\"#000000\" stroke-opacity=\"1\" stroke-width=\"3.2\"/>\n",
       "<circle clip-path=\"url(#clip972)\" cx=\"697.661\" cy=\"1431.5\" r=\"14\" fill=\"#3da44d\" fill-rule=\"evenodd\" fill-opacity=\"1\" stroke=\"#000000\" stroke-opacity=\"1\" stroke-width=\"3.2\"/>\n",
       "<circle clip-path=\"url(#clip972)\" cx=\"769.621\" cy=\"1441.03\" r=\"14\" fill=\"#3da44d\" fill-rule=\"evenodd\" fill-opacity=\"1\" stroke=\"#000000\" stroke-opacity=\"1\" stroke-width=\"3.2\"/>\n",
       "<circle clip-path=\"url(#clip972)\" cx=\"841.582\" cy=\"1423.68\" r=\"14\" fill=\"#3da44d\" fill-rule=\"evenodd\" fill-opacity=\"1\" stroke=\"#000000\" stroke-opacity=\"1\" stroke-width=\"3.2\"/>\n",
       "<circle clip-path=\"url(#clip972)\" cx=\"913.543\" cy=\"1380.14\" r=\"14\" fill=\"#3da44d\" fill-rule=\"evenodd\" fill-opacity=\"1\" stroke=\"#000000\" stroke-opacity=\"1\" stroke-width=\"3.2\"/>\n",
       "<circle clip-path=\"url(#clip972)\" cx=\"985.503\" cy=\"1312.16\" r=\"14\" fill=\"#3da44d\" fill-rule=\"evenodd\" fill-opacity=\"1\" stroke=\"#000000\" stroke-opacity=\"1\" stroke-width=\"3.2\"/>\n",
       "<circle clip-path=\"url(#clip972)\" cx=\"1057.46\" cy=\"1222.44\" r=\"14\" fill=\"#3da44d\" fill-rule=\"evenodd\" fill-opacity=\"1\" stroke=\"#000000\" stroke-opacity=\"1\" stroke-width=\"3.2\"/>\n",
       "<circle clip-path=\"url(#clip972)\" cx=\"1129.42\" cy=\"1114.56\" r=\"14\" fill=\"#3da44d\" fill-rule=\"evenodd\" fill-opacity=\"1\" stroke=\"#000000\" stroke-opacity=\"1\" stroke-width=\"3.2\"/>\n",
       "<circle clip-path=\"url(#clip972)\" cx=\"1201.39\" cy=\"992.822\" r=\"14\" fill=\"#3da44d\" fill-rule=\"evenodd\" fill-opacity=\"1\" stroke=\"#000000\" stroke-opacity=\"1\" stroke-width=\"3.2\"/>\n",
       "<circle clip-path=\"url(#clip972)\" cx=\"1273.35\" cy=\"862.075\" r=\"14\" fill=\"#3da44d\" fill-rule=\"evenodd\" fill-opacity=\"1\" stroke=\"#000000\" stroke-opacity=\"1\" stroke-width=\"3.2\"/>\n",
       "<circle clip-path=\"url(#clip972)\" cx=\"1345.31\" cy=\"727.533\" r=\"14\" fill=\"#3da44d\" fill-rule=\"evenodd\" fill-opacity=\"1\" stroke=\"#000000\" stroke-opacity=\"1\" stroke-width=\"3.2\"/>\n",
       "<circle clip-path=\"url(#clip972)\" cx=\"1417.27\" cy=\"594.561\" r=\"14\" fill=\"#3da44d\" fill-rule=\"evenodd\" fill-opacity=\"1\" stroke=\"#000000\" stroke-opacity=\"1\" stroke-width=\"3.2\"/>\n",
       "<circle clip-path=\"url(#clip972)\" cx=\"1489.23\" cy=\"468.46\" r=\"14\" fill=\"#3da44d\" fill-rule=\"evenodd\" fill-opacity=\"1\" stroke=\"#000000\" stroke-opacity=\"1\" stroke-width=\"3.2\"/>\n",
       "<circle clip-path=\"url(#clip972)\" cx=\"1561.19\" cy=\"354.257\" r=\"14\" fill=\"#3da44d\" fill-rule=\"evenodd\" fill-opacity=\"1\" stroke=\"#000000\" stroke-opacity=\"1\" stroke-width=\"3.2\"/>\n",
       "<circle clip-path=\"url(#clip972)\" cx=\"1633.15\" cy=\"256.504\" r=\"14\" fill=\"#3da44d\" fill-rule=\"evenodd\" fill-opacity=\"1\" stroke=\"#000000\" stroke-opacity=\"1\" stroke-width=\"3.2\"/>\n",
       "<circle clip-path=\"url(#clip972)\" cx=\"1705.11\" cy=\"179.099\" r=\"14\" fill=\"#3da44d\" fill-rule=\"evenodd\" fill-opacity=\"1\" stroke=\"#000000\" stroke-opacity=\"1\" stroke-width=\"3.2\"/>\n",
       "<circle clip-path=\"url(#clip972)\" cx=\"1777.07\" cy=\"125.128\" r=\"14\" fill=\"#3da44d\" fill-rule=\"evenodd\" fill-opacity=\"1\" stroke=\"#000000\" stroke-opacity=\"1\" stroke-width=\"3.2\"/>\n",
       "<circle clip-path=\"url(#clip972)\" cx=\"1849.03\" cy=\"96.7431\" r=\"14\" fill=\"#3da44d\" fill-rule=\"evenodd\" fill-opacity=\"1\" stroke=\"#000000\" stroke-opacity=\"1\" stroke-width=\"3.2\"/>\n",
       "<circle clip-path=\"url(#clip972)\" cx=\"1920.99\" cy=\"95.0749\" r=\"14\" fill=\"#3da44d\" fill-rule=\"evenodd\" fill-opacity=\"1\" stroke=\"#000000\" stroke-opacity=\"1\" stroke-width=\"3.2\"/>\n",
       "<circle clip-path=\"url(#clip972)\" cx=\"1992.95\" cy=\"120.19\" r=\"14\" fill=\"#3da44d\" fill-rule=\"evenodd\" fill-opacity=\"1\" stroke=\"#000000\" stroke-opacity=\"1\" stroke-width=\"3.2\"/>\n",
       "<circle clip-path=\"url(#clip972)\" cx=\"2064.91\" cy=\"171.088\" r=\"14\" fill=\"#3da44d\" fill-rule=\"evenodd\" fill-opacity=\"1\" stroke=\"#000000\" stroke-opacity=\"1\" stroke-width=\"3.2\"/>\n",
       "<circle clip-path=\"url(#clip972)\" cx=\"2136.87\" cy=\"245.739\" r=\"14\" fill=\"#3da44d\" fill-rule=\"evenodd\" fill-opacity=\"1\" stroke=\"#000000\" stroke-opacity=\"1\" stroke-width=\"3.2\"/>\n",
       "<circle clip-path=\"url(#clip972)\" cx=\"2208.83\" cy=\"341.167\" r=\"14\" fill=\"#3da44d\" fill-rule=\"evenodd\" fill-opacity=\"1\" stroke=\"#000000\" stroke-opacity=\"1\" stroke-width=\"3.2\"/>\n",
       "<circle clip-path=\"url(#clip972)\" cx=\"2280.8\" cy=\"453.568\" r=\"14\" fill=\"#3da44d\" fill-rule=\"evenodd\" fill-opacity=\"1\" stroke=\"#000000\" stroke-opacity=\"1\" stroke-width=\"3.2\"/>\n",
       "<circle clip-path=\"url(#clip972)\" cx=\"2352.76\" cy=\"578.46\" r=\"14\" fill=\"#3da44d\" fill-rule=\"evenodd\" fill-opacity=\"1\" stroke=\"#000000\" stroke-opacity=\"1\" stroke-width=\"3.2\"/>\n",
       "<circle clip-path=\"url(#clip972)\" cx=\"193.936\" cy=\"766.902\" r=\"14\" fill=\"#c271d2\" fill-rule=\"evenodd\" fill-opacity=\"1\" stroke=\"#000000\" stroke-opacity=\"1\" stroke-width=\"3.2\"/>\n",
       "<circle clip-path=\"url(#clip972)\" cx=\"265.897\" cy=\"901.777\" r=\"14\" fill=\"#c271d2\" fill-rule=\"evenodd\" fill-opacity=\"1\" stroke=\"#000000\" stroke-opacity=\"1\" stroke-width=\"3.2\"/>\n",
       "<circle clip-path=\"url(#clip972)\" cx=\"337.857\" cy=\"1031.28\" r=\"14\" fill=\"#c271d2\" fill-rule=\"evenodd\" fill-opacity=\"1\" stroke=\"#000000\" stroke-opacity=\"1\" stroke-width=\"3.2\"/>\n",
       "<circle clip-path=\"url(#clip972)\" cx=\"409.818\" cy=\"1150.23\" r=\"14\" fill=\"#c271d2\" fill-rule=\"evenodd\" fill-opacity=\"1\" stroke=\"#000000\" stroke-opacity=\"1\" stroke-width=\"3.2\"/>\n",
       "<circle clip-path=\"url(#clip972)\" cx=\"481.779\" cy=\"1253.91\" r=\"14\" fill=\"#c271d2\" fill-rule=\"evenodd\" fill-opacity=\"1\" stroke=\"#000000\" stroke-opacity=\"1\" stroke-width=\"3.2\"/>\n",
       "<circle clip-path=\"url(#clip972)\" cx=\"553.739\" cy=\"1338.17\" r=\"14\" fill=\"#c271d2\" fill-rule=\"evenodd\" fill-opacity=\"1\" stroke=\"#000000\" stroke-opacity=\"1\" stroke-width=\"3.2\"/>\n",
       "<circle clip-path=\"url(#clip972)\" cx=\"625.7\" cy=\"1399.66\" r=\"14\" fill=\"#c271d2\" fill-rule=\"evenodd\" fill-opacity=\"1\" stroke=\"#000000\" stroke-opacity=\"1\" stroke-width=\"3.2\"/>\n",
       "<circle clip-path=\"url(#clip972)\" cx=\"697.661\" cy=\"1435.92\" r=\"14\" fill=\"#c271d2\" fill-rule=\"evenodd\" fill-opacity=\"1\" stroke=\"#000000\" stroke-opacity=\"1\" stroke-width=\"3.2\"/>\n",
       "<circle clip-path=\"url(#clip972)\" cx=\"769.621\" cy=\"1445.51\" r=\"14\" fill=\"#c271d2\" fill-rule=\"evenodd\" fill-opacity=\"1\" stroke=\"#000000\" stroke-opacity=\"1\" stroke-width=\"3.2\"/>\n",
       "<circle clip-path=\"url(#clip972)\" cx=\"841.582\" cy=\"1428.04\" r=\"14\" fill=\"#c271d2\" fill-rule=\"evenodd\" fill-opacity=\"1\" stroke=\"#000000\" stroke-opacity=\"1\" stroke-width=\"3.2\"/>\n",
       "<circle clip-path=\"url(#clip972)\" cx=\"913.543\" cy=\"1384.22\" r=\"14\" fill=\"#c271d2\" fill-rule=\"evenodd\" fill-opacity=\"1\" stroke=\"#000000\" stroke-opacity=\"1\" stroke-width=\"3.2\"/>\n",
       "<circle clip-path=\"url(#clip972)\" cx=\"985.503\" cy=\"1315.79\" r=\"14\" fill=\"#c271d2\" fill-rule=\"evenodd\" fill-opacity=\"1\" stroke=\"#000000\" stroke-opacity=\"1\" stroke-width=\"3.2\"/>\n",
       "<circle clip-path=\"url(#clip972)\" cx=\"1057.46\" cy=\"1225.47\" r=\"14\" fill=\"#c271d2\" fill-rule=\"evenodd\" fill-opacity=\"1\" stroke=\"#000000\" stroke-opacity=\"1\" stroke-width=\"3.2\"/>\n",
       "<circle clip-path=\"url(#clip972)\" cx=\"1129.42\" cy=\"1116.87\" r=\"14\" fill=\"#c271d2\" fill-rule=\"evenodd\" fill-opacity=\"1\" stroke=\"#000000\" stroke-opacity=\"1\" stroke-width=\"3.2\"/>\n",
       "<circle clip-path=\"url(#clip972)\" cx=\"1201.39\" cy=\"994.323\" r=\"14\" fill=\"#c271d2\" fill-rule=\"evenodd\" fill-opacity=\"1\" stroke=\"#000000\" stroke-opacity=\"1\" stroke-width=\"3.2\"/>\n",
       "<circle clip-path=\"url(#clip972)\" cx=\"1273.35\" cy=\"862.707\" r=\"14\" fill=\"#c271d2\" fill-rule=\"evenodd\" fill-opacity=\"1\" stroke=\"#000000\" stroke-opacity=\"1\" stroke-width=\"3.2\"/>\n",
       "<circle clip-path=\"url(#clip972)\" cx=\"1345.31\" cy=\"727.272\" r=\"14\" fill=\"#c271d2\" fill-rule=\"evenodd\" fill-opacity=\"1\" stroke=\"#000000\" stroke-opacity=\"1\" stroke-width=\"3.2\"/>\n",
       "<circle clip-path=\"url(#clip972)\" cx=\"1417.27\" cy=\"593.416\" r=\"14\" fill=\"#c271d2\" fill-rule=\"evenodd\" fill-opacity=\"1\" stroke=\"#000000\" stroke-opacity=\"1\" stroke-width=\"3.2\"/>\n",
       "<circle clip-path=\"url(#clip972)\" cx=\"1489.23\" cy=\"466.477\" r=\"14\" fill=\"#c271d2\" fill-rule=\"evenodd\" fill-opacity=\"1\" stroke=\"#000000\" stroke-opacity=\"1\" stroke-width=\"3.2\"/>\n",
       "<circle clip-path=\"url(#clip972)\" cx=\"1561.19\" cy=\"351.515\" r=\"14\" fill=\"#c271d2\" fill-rule=\"evenodd\" fill-opacity=\"1\" stroke=\"#000000\" stroke-opacity=\"1\" stroke-width=\"3.2\"/>\n",
       "<circle clip-path=\"url(#clip972)\" cx=\"1633.15\" cy=\"253.113\" r=\"14\" fill=\"#c271d2\" fill-rule=\"evenodd\" fill-opacity=\"1\" stroke=\"#000000\" stroke-opacity=\"1\" stroke-width=\"3.2\"/>\n",
       "<circle clip-path=\"url(#clip972)\" cx=\"1705.11\" cy=\"175.194\" r=\"14\" fill=\"#c271d2\" fill-rule=\"evenodd\" fill-opacity=\"1\" stroke=\"#000000\" stroke-opacity=\"1\" stroke-width=\"3.2\"/>\n",
       "<circle clip-path=\"url(#clip972)\" cx=\"1777.07\" cy=\"120.864\" r=\"14\" fill=\"#c271d2\" fill-rule=\"evenodd\" fill-opacity=\"1\" stroke=\"#000000\" stroke-opacity=\"1\" stroke-width=\"3.2\"/>\n",
       "<circle clip-path=\"url(#clip972)\" cx=\"1849.03\" cy=\"92.2903\" r=\"14\" fill=\"#c271d2\" fill-rule=\"evenodd\" fill-opacity=\"1\" stroke=\"#000000\" stroke-opacity=\"1\" stroke-width=\"3.2\"/>\n",
       "<circle clip-path=\"url(#clip972)\" cx=\"1920.99\" cy=\"90.611\" r=\"14\" fill=\"#c271d2\" fill-rule=\"evenodd\" fill-opacity=\"1\" stroke=\"#000000\" stroke-opacity=\"1\" stroke-width=\"3.2\"/>\n",
       "<circle clip-path=\"url(#clip972)\" cx=\"1992.95\" cy=\"115.893\" r=\"14\" fill=\"#c271d2\" fill-rule=\"evenodd\" fill-opacity=\"1\" stroke=\"#000000\" stroke-opacity=\"1\" stroke-width=\"3.2\"/>\n",
       "<circle clip-path=\"url(#clip972)\" cx=\"2064.91\" cy=\"167.129\" r=\"14\" fill=\"#c271d2\" fill-rule=\"evenodd\" fill-opacity=\"1\" stroke=\"#000000\" stroke-opacity=\"1\" stroke-width=\"3.2\"/>\n",
       "<circle clip-path=\"url(#clip972)\" cx=\"2136.87\" cy=\"242.276\" r=\"14\" fill=\"#c271d2\" fill-rule=\"evenodd\" fill-opacity=\"1\" stroke=\"#000000\" stroke-opacity=\"1\" stroke-width=\"3.2\"/>\n",
       "<circle clip-path=\"url(#clip972)\" cx=\"2208.83\" cy=\"338.338\" r=\"14\" fill=\"#c271d2\" fill-rule=\"evenodd\" fill-opacity=\"1\" stroke=\"#000000\" stroke-opacity=\"1\" stroke-width=\"3.2\"/>\n",
       "<circle clip-path=\"url(#clip972)\" cx=\"2280.8\" cy=\"451.486\" r=\"14\" fill=\"#c271d2\" fill-rule=\"evenodd\" fill-opacity=\"1\" stroke=\"#000000\" stroke-opacity=\"1\" stroke-width=\"3.2\"/>\n",
       "<circle clip-path=\"url(#clip972)\" cx=\"2352.76\" cy=\"577.208\" r=\"14\" fill=\"#c271d2\" fill-rule=\"evenodd\" fill-opacity=\"1\" stroke=\"#000000\" stroke-opacity=\"1\" stroke-width=\"3.2\"/>\n",
       "<path clip-path=\"url(#clip970)\" d=\"\n",
       "M1604.54 354.418 L2280.8 354.418 L2280.8 95.2176 L1604.54 95.2176  Z\n",
       "  \" fill=\"#ffffff\" fill-rule=\"evenodd\" fill-opacity=\"1\"/>\n",
       "<polyline clip-path=\"url(#clip970)\" style=\"stroke:#000000; stroke-linecap:butt; stroke-linejoin:round; stroke-width:4; stroke-opacity:1; fill:none\" points=\"\n",
       "  1604.54,354.418 2280.8,354.418 2280.8,95.2176 1604.54,95.2176 1604.54,354.418 \n",
       "  \"/>\n",
       "<polyline clip-path=\"url(#clip970)\" style=\"stroke:#009af9; stroke-linecap:butt; stroke-linejoin:round; stroke-width:4; stroke-opacity:1; fill:none\" points=\"\n",
       "  1628.53,147.058 1772.45,147.058 \n",
       "  \"/>\n",
       "<path clip-path=\"url(#clip970)\" d=\"M1812.94 128.319 L1812.94 131.861 L1808.87 131.861 Q1806.57 131.861 1805.67 132.787 Q1804.79 133.713 1804.79 136.12 L1804.79 138.412 L1811.81 138.412 L1811.81 141.722 L1804.79 141.722 L1804.79 164.338 L1800.51 164.338 L1800.51 141.722 L1796.43 141.722 L1796.43 138.412 L1800.51 138.412 L1800.51 136.606 Q1800.51 132.278 1802.52 130.31 Q1804.54 128.319 1808.91 128.319 L1812.94 128.319 Z\" fill=\"#000000\" fill-rule=\"evenodd\" fill-opacity=\"1\" /><path clip-path=\"url(#clip970)\" d=\"M1820.53 129.778 L1820.53 142.625 L1816.6 142.625 L1816.6 129.778 L1820.53 129.778 Z\" fill=\"#000000\" fill-rule=\"evenodd\" fill-opacity=\"1\" /><path clip-path=\"url(#clip970)\" d=\"M1839.77 128.366 Q1836.67 133.69 1835.16 138.898 Q1833.66 144.106 1833.66 149.453 Q1833.66 154.801 1835.16 160.055 Q1836.69 165.287 1839.77 170.588 L1836.06 170.588 Q1832.59 165.148 1830.86 159.893 Q1829.14 154.639 1829.14 149.453 Q1829.14 144.291 1830.86 139.06 Q1832.57 133.828 1836.06 128.366 L1839.77 128.366 Z\" fill=\"#000000\" fill-rule=\"evenodd\" fill-opacity=\"1\" /><path clip-path=\"url(#clip970)\" d=\"M1869.58 138.412 L1860.21 151.027 L1870.07 164.338 L1865.05 164.338 L1857.5 154.152 L1849.95 164.338 L1844.93 164.338 L1855 150.773 L1845.79 138.412 L1850.81 138.412 L1857.68 147.648 L1864.56 138.412 L1869.58 138.412 Z\" fill=\"#000000\" fill-rule=\"evenodd\" fill-opacity=\"1\" /><path clip-path=\"url(#clip970)\" d=\"M1875.42 128.366 L1879.12 128.366 Q1882.59 133.828 1884.3 139.06 Q1886.04 144.291 1886.04 149.453 Q1886.04 154.639 1884.3 159.893 Q1882.59 165.148 1879.12 170.588 L1875.42 170.588 Q1878.49 165.287 1880 160.055 Q1881.53 154.801 1881.53 149.453 Q1881.53 144.106 1880 138.898 Q1878.49 133.69 1875.42 128.366 Z\" fill=\"#000000\" fill-rule=\"evenodd\" fill-opacity=\"1\" /><circle clip-path=\"url(#clip970)\" cx=\"1700.49\" cy=\"198.898\" r=\"23\" fill=\"#e26f46\" fill-rule=\"evenodd\" fill-opacity=\"1\" stroke=\"#000000\" stroke-opacity=\"1\" stroke-width=\"5.12\"/>\n",
       "<path clip-path=\"url(#clip970)\" d=\"M1796.43 181.618 L1801.11 181.618 L1801.11 195.784 L1818.1 195.784 L1818.1 181.618 L1822.78 181.618 L1822.78 216.178 L1818.1 216.178 L1818.1 199.719 L1801.11 199.719 L1801.11 216.178 L1796.43 216.178 L1796.43 181.618 Z\" fill=\"#000000\" fill-rule=\"evenodd\" fill-opacity=\"1\" /><path clip-path=\"url(#clip970)\" d=\"M1843.68 203.145 Q1838.52 203.145 1836.53 204.326 Q1834.54 205.506 1834.54 208.354 Q1834.54 210.622 1836.02 211.965 Q1837.52 213.284 1840.09 213.284 Q1843.63 213.284 1845.76 210.784 Q1847.92 208.261 1847.92 204.094 L1847.92 203.145 L1843.68 203.145 M1852.18 201.386 L1852.18 216.178 L1847.92 216.178 L1847.92 212.242 Q1846.46 214.603 1844.28 215.738 Q1842.11 216.849 1838.96 216.849 Q1834.98 216.849 1832.62 214.627 Q1830.28 212.381 1830.28 208.631 Q1830.28 204.256 1833.19 202.034 Q1836.13 199.812 1841.94 199.812 L1847.92 199.812 L1847.92 199.395 Q1847.92 196.455 1845.97 194.858 Q1844.05 193.238 1840.56 193.238 Q1838.33 193.238 1836.23 193.77 Q1834.12 194.303 1832.18 195.367 L1832.18 191.432 Q1834.51 190.53 1836.71 190.09 Q1838.91 189.627 1840.99 189.627 Q1846.62 189.627 1849.4 192.543 Q1852.18 195.46 1852.18 201.386 Z\" fill=\"#000000\" fill-rule=\"evenodd\" fill-opacity=\"1\" /><path clip-path=\"url(#clip970)\" d=\"M1879.61 191.247 L1879.61 195.229 Q1877.8 194.233 1875.97 193.747 Q1874.17 193.238 1872.31 193.238 Q1868.17 193.238 1865.88 195.877 Q1863.59 198.492 1863.59 203.238 Q1863.59 207.983 1865.88 210.622 Q1868.17 213.238 1872.31 213.238 Q1874.17 213.238 1875.97 212.752 Q1877.8 212.242 1879.61 211.247 L1879.61 215.182 Q1877.82 216.016 1875.9 216.432 Q1874 216.849 1871.85 216.849 Q1865.99 216.849 1862.55 213.168 Q1859.1 209.488 1859.1 203.238 Q1859.1 196.895 1862.57 193.261 Q1866.06 189.627 1872.13 189.627 Q1874.1 189.627 1875.97 190.043 Q1877.85 190.437 1879.61 191.247 Z\" fill=\"#000000\" fill-rule=\"evenodd\" fill-opacity=\"1\" /><path clip-path=\"url(#clip970)\" d=\"M1887.01 190.252 L1891.27 190.252 L1891.27 216.178 L1887.01 216.178 L1887.01 190.252 M1887.01 180.159 L1891.27 180.159 L1891.27 185.553 L1887.01 185.553 L1887.01 180.159 Z\" fill=\"#000000\" fill-rule=\"evenodd\" fill-opacity=\"1\" /><path clip-path=\"url(#clip970)\" d=\"M1911.97 203.145 Q1906.8 203.145 1904.81 204.326 Q1902.82 205.506 1902.82 208.354 Q1902.82 210.622 1904.3 211.965 Q1905.81 213.284 1908.38 213.284 Q1911.92 213.284 1914.05 210.784 Q1916.2 208.261 1916.2 204.094 L1916.2 203.145 L1911.97 203.145 M1920.46 201.386 L1920.46 216.178 L1916.2 216.178 L1916.2 212.242 Q1914.74 214.603 1912.57 215.738 Q1910.39 216.849 1907.24 216.849 Q1903.26 216.849 1900.9 214.627 Q1898.56 212.381 1898.56 208.631 Q1898.56 204.256 1901.48 202.034 Q1904.42 199.812 1910.23 199.812 L1916.2 199.812 L1916.2 199.395 Q1916.2 196.455 1914.26 194.858 Q1912.34 193.238 1908.84 193.238 Q1906.62 193.238 1904.51 193.77 Q1902.41 194.303 1900.46 195.367 L1900.46 191.432 Q1902.8 190.53 1905 190.09 Q1907.2 189.627 1909.28 189.627 Q1914.91 189.627 1917.68 192.543 Q1920.46 195.46 1920.46 201.386 Z\" fill=\"#000000\" fill-rule=\"evenodd\" fill-opacity=\"1\" /><path clip-path=\"url(#clip970)\" d=\"M1956.09 203.145 Q1950.92 203.145 1948.93 204.326 Q1946.94 205.506 1946.94 208.354 Q1946.94 210.622 1948.42 211.965 Q1949.93 213.284 1952.5 213.284 Q1956.04 213.284 1958.17 210.784 Q1960.32 208.261 1960.32 204.094 L1960.32 203.145 L1956.09 203.145 M1964.58 201.386 L1964.58 216.178 L1960.32 216.178 L1960.32 212.242 Q1958.86 214.603 1956.69 215.738 Q1954.51 216.849 1951.36 216.849 Q1947.38 216.849 1945.02 214.627 Q1942.68 212.381 1942.68 208.631 Q1942.68 204.256 1945.6 202.034 Q1948.54 199.812 1954.35 199.812 L1960.32 199.812 L1960.32 199.395 Q1960.32 196.455 1958.38 194.858 Q1956.46 193.238 1952.96 193.238 Q1950.74 193.238 1948.63 193.77 Q1946.53 194.303 1944.58 195.367 L1944.58 191.432 Q1946.92 190.53 1949.12 190.09 Q1951.32 189.627 1953.4 189.627 Q1959.03 189.627 1961.8 192.543 Q1964.58 195.46 1964.58 201.386 Z\" fill=\"#000000\" fill-rule=\"evenodd\" fill-opacity=\"1\" /><path clip-path=\"url(#clip970)\" d=\"M1990.42 194.187 L1990.42 180.159 L1994.67 180.159 L1994.67 216.178 L1990.42 216.178 L1990.42 212.289 Q1989.07 214.603 1987.01 215.738 Q1984.98 216.849 1982.11 216.849 Q1977.41 216.849 1974.44 213.099 Q1971.5 209.349 1971.5 203.238 Q1971.5 197.127 1974.44 193.377 Q1977.41 189.627 1982.11 189.627 Q1984.98 189.627 1987.01 190.761 Q1989.07 191.872 1990.42 194.187 M1975.9 203.238 Q1975.9 207.937 1977.82 210.622 Q1979.77 213.284 1983.15 213.284 Q1986.53 213.284 1988.47 210.622 Q1990.42 207.937 1990.42 203.238 Q1990.42 198.539 1988.47 195.877 Q1986.53 193.192 1983.15 193.192 Q1979.77 193.192 1977.82 195.877 Q1975.9 198.539 1975.9 203.238 Z\" fill=\"#000000\" fill-rule=\"evenodd\" fill-opacity=\"1\" /><path clip-path=\"url(#clip970)\" d=\"M2025.62 202.15 L2025.62 204.233 L2006.04 204.233 Q2006.32 208.631 2008.68 210.946 Q2011.06 213.238 2015.3 213.238 Q2017.75 213.238 2020.04 212.636 Q2022.36 212.034 2024.63 210.83 L2024.63 214.858 Q2022.34 215.83 2019.93 216.34 Q2017.52 216.849 2015.04 216.849 Q2008.84 216.849 2005.21 213.238 Q2001.6 209.627 2001.6 203.469 Q2001.6 197.104 2005.02 193.377 Q2008.47 189.627 2014.3 189.627 Q2019.54 189.627 2022.57 193.006 Q2025.62 196.363 2025.62 202.15 M2021.36 200.9 Q2021.32 197.405 2019.4 195.321 Q2017.5 193.238 2014.35 193.238 Q2010.79 193.238 2008.63 195.252 Q2006.5 197.266 2006.18 200.923 L2021.36 200.9 Z\" fill=\"#000000\" fill-rule=\"evenodd\" fill-opacity=\"1\" /><path clip-path=\"url(#clip970)\" d=\"M2032.61 180.159 L2036.87 180.159 L2036.87 216.178 L2032.61 216.178 L2032.61 180.159 Z\" fill=\"#000000\" fill-rule=\"evenodd\" fill-opacity=\"1\" /><path clip-path=\"url(#clip970)\" d=\"M2057.57 203.145 Q2052.41 203.145 2050.42 204.326 Q2048.42 205.506 2048.42 208.354 Q2048.42 210.622 2049.91 211.965 Q2051.41 213.284 2053.98 213.284 Q2057.52 213.284 2059.65 210.784 Q2061.8 208.261 2061.8 204.094 L2061.8 203.145 L2057.57 203.145 M2066.06 201.386 L2066.06 216.178 L2061.8 216.178 L2061.8 212.242 Q2060.35 214.603 2058.17 215.738 Q2055.99 216.849 2052.85 216.849 Q2048.86 216.849 2046.5 214.627 Q2044.17 212.381 2044.17 208.631 Q2044.17 204.256 2047.08 202.034 Q2050.02 199.812 2055.83 199.812 L2061.8 199.812 L2061.8 199.395 Q2061.8 196.455 2059.86 194.858 Q2057.94 193.238 2054.44 193.238 Q2052.22 193.238 2050.11 193.77 Q2048.01 194.303 2046.06 195.367 L2046.06 191.432 Q2048.4 190.53 2050.6 190.09 Q2052.8 189.627 2054.88 189.627 Q2060.51 189.627 2063.29 192.543 Q2066.06 195.46 2066.06 201.386 Z\" fill=\"#000000\" fill-rule=\"evenodd\" fill-opacity=\"1\" /><path clip-path=\"url(#clip970)\" d=\"M2096.39 200.529 L2096.39 216.178 L2092.13 216.178 L2092.13 200.668 Q2092.13 196.988 2090.69 195.159 Q2089.26 193.33 2086.39 193.33 Q2082.94 193.33 2080.95 195.53 Q2078.96 197.729 2078.96 201.525 L2078.96 216.178 L2074.67 216.178 L2074.67 190.252 L2078.96 190.252 L2078.96 194.28 Q2080.48 191.942 2082.54 190.784 Q2084.63 189.627 2087.34 189.627 Q2091.8 189.627 2094.1 192.405 Q2096.39 195.159 2096.39 200.529 Z\" fill=\"#000000\" fill-rule=\"evenodd\" fill-opacity=\"1\" /><path clip-path=\"url(#clip970)\" d=\"M2109.1 182.891 L2109.1 190.252 L2117.87 190.252 L2117.87 193.562 L2109.1 193.562 L2109.1 207.636 Q2109.1 210.807 2109.95 211.71 Q2110.83 212.613 2113.49 212.613 L2117.87 212.613 L2117.87 216.178 L2113.49 216.178 Q2108.56 216.178 2106.69 214.349 Q2104.81 212.497 2104.81 207.636 L2104.81 193.562 L2101.69 193.562 L2101.69 190.252 L2104.81 190.252 L2104.81 182.891 L2109.1 182.891 Z\" fill=\"#000000\" fill-rule=\"evenodd\" fill-opacity=\"1\" /><path clip-path=\"url(#clip970)\" d=\"M2145.65 202.15 L2145.65 204.233 L2126.06 204.233 Q2126.34 208.631 2128.7 210.946 Q2131.09 213.238 2135.32 213.238 Q2137.78 213.238 2140.07 212.636 Q2142.38 212.034 2144.65 210.83 L2144.65 214.858 Q2142.36 215.83 2139.95 216.34 Q2137.54 216.849 2135.07 216.849 Q2128.86 216.849 2125.23 213.238 Q2121.62 209.627 2121.62 203.469 Q2121.62 197.104 2125.04 193.377 Q2128.49 189.627 2134.33 189.627 Q2139.56 189.627 2142.59 193.006 Q2145.65 196.363 2145.65 202.15 M2141.39 200.9 Q2141.34 197.405 2139.42 195.321 Q2137.52 193.238 2134.37 193.238 Q2130.81 193.238 2128.66 195.252 Q2126.53 197.266 2126.2 200.923 L2141.39 200.9 Z\" fill=\"#000000\" fill-rule=\"evenodd\" fill-opacity=\"1\" /><circle clip-path=\"url(#clip970)\" cx=\"1700.49\" cy=\"250.738\" r=\"23\" fill=\"#3da44d\" fill-rule=\"evenodd\" fill-opacity=\"1\" stroke=\"#000000\" stroke-opacity=\"1\" stroke-width=\"5.12\"/>\n",
       "<path clip-path=\"url(#clip970)\" d=\"M1824.31 236.12 L1824.31 241.05 Q1821.94 238.851 1819.26 237.763 Q1816.6 236.675 1813.59 236.675 Q1807.66 236.675 1804.51 240.309 Q1801.37 243.92 1801.37 250.772 Q1801.37 257.601 1804.51 261.235 Q1807.66 264.846 1813.59 264.846 Q1816.6 264.846 1819.26 263.758 Q1821.94 262.67 1824.31 260.471 L1824.31 265.356 Q1821.85 267.022 1819.1 267.856 Q1816.37 268.689 1813.31 268.689 Q1805.46 268.689 1800.95 263.897 Q1796.43 259.082 1796.43 250.772 Q1796.43 242.439 1800.95 237.647 Q1805.46 232.833 1813.31 232.833 Q1816.41 232.833 1819.14 233.666 Q1821.9 234.476 1824.31 236.12 Z\" fill=\"#000000\" fill-rule=\"evenodd\" fill-opacity=\"1\" /><path clip-path=\"url(#clip970)\" d=\"M1853.52 253.99 L1853.52 256.073 L1833.93 256.073 Q1834.21 260.471 1836.57 262.786 Q1838.96 265.078 1843.19 265.078 Q1845.65 265.078 1847.94 264.476 Q1850.25 263.874 1852.52 262.67 L1852.52 266.698 Q1850.23 267.67 1847.82 268.18 Q1845.42 268.689 1842.94 268.689 Q1836.74 268.689 1833.1 265.078 Q1829.49 261.467 1829.49 255.309 Q1829.49 248.944 1832.92 245.217 Q1836.37 241.467 1842.2 241.467 Q1847.43 241.467 1850.46 244.846 Q1853.52 248.203 1853.52 253.99 M1849.26 252.74 Q1849.21 249.245 1847.29 247.161 Q1845.39 245.078 1842.24 245.078 Q1838.68 245.078 1836.53 247.092 Q1834.4 249.106 1834.07 252.763 L1849.26 252.74 Z\" fill=\"#000000\" fill-rule=\"evenodd\" fill-opacity=\"1\" /><path clip-path=\"url(#clip970)\" d=\"M1882.06 252.369 L1882.06 268.018 L1877.8 268.018 L1877.8 252.508 Q1877.8 248.828 1876.37 246.999 Q1874.93 245.17 1872.06 245.17 Q1868.61 245.17 1866.62 247.37 Q1864.63 249.569 1864.63 253.365 L1864.63 268.018 L1860.35 268.018 L1860.35 242.092 L1864.63 242.092 L1864.63 246.12 Q1866.16 243.782 1868.22 242.624 Q1870.3 241.467 1873.01 241.467 Q1877.48 241.467 1879.77 244.245 Q1882.06 246.999 1882.06 252.369 Z\" fill=\"#000000\" fill-rule=\"evenodd\" fill-opacity=\"1\" /><path clip-path=\"url(#clip970)\" d=\"M1894.77 234.731 L1894.77 242.092 L1903.54 242.092 L1903.54 245.402 L1894.77 245.402 L1894.77 259.476 Q1894.77 262.647 1895.62 263.55 Q1896.5 264.453 1899.17 264.453 L1903.54 264.453 L1903.54 268.018 L1899.17 268.018 Q1894.24 268.018 1892.36 266.189 Q1890.49 264.337 1890.49 259.476 L1890.49 245.402 L1887.36 245.402 L1887.36 242.092 L1890.49 242.092 L1890.49 234.731 L1894.77 234.731 Z\" fill=\"#000000\" fill-rule=\"evenodd\" fill-opacity=\"1\" /><path clip-path=\"url(#clip970)\" d=\"M1924.17 246.073 Q1923.45 245.657 1922.59 245.471 Q1921.76 245.263 1920.74 245.263 Q1917.13 245.263 1915.18 247.624 Q1913.26 249.962 1913.26 254.36 L1913.26 268.018 L1908.98 268.018 L1908.98 242.092 L1913.26 242.092 L1913.26 246.12 Q1914.61 243.758 1916.76 242.624 Q1918.91 241.467 1921.99 241.467 Q1922.43 241.467 1922.96 241.536 Q1923.49 241.583 1924.14 241.698 L1924.17 246.073 Z\" fill=\"#000000\" fill-rule=\"evenodd\" fill-opacity=\"1\" /><path clip-path=\"url(#clip970)\" d=\"M1940.42 254.985 Q1935.25 254.985 1933.26 256.166 Q1931.27 257.346 1931.27 260.194 Q1931.27 262.462 1932.75 263.805 Q1934.26 265.124 1936.83 265.124 Q1940.37 265.124 1942.5 262.624 Q1944.65 260.101 1944.65 255.934 L1944.65 254.985 L1940.42 254.985 M1948.91 253.226 L1948.91 268.018 L1944.65 268.018 L1944.65 264.082 Q1943.19 266.443 1941.02 267.578 Q1938.84 268.689 1935.69 268.689 Q1931.71 268.689 1929.35 266.467 Q1927.01 264.221 1927.01 260.471 Q1927.01 256.096 1929.93 253.874 Q1932.87 251.652 1938.68 251.652 L1944.65 251.652 L1944.65 251.235 Q1944.65 248.295 1942.71 246.698 Q1940.79 245.078 1937.29 245.078 Q1935.07 245.078 1932.96 245.61 Q1930.86 246.143 1928.91 247.207 L1928.91 243.272 Q1931.25 242.37 1933.45 241.93 Q1935.65 241.467 1937.73 241.467 Q1943.36 241.467 1946.13 244.383 Q1948.91 247.3 1948.91 253.226 Z\" fill=\"#000000\" fill-rule=\"evenodd\" fill-opacity=\"1\" /><path clip-path=\"url(#clip970)\" d=\"M1974.74 246.027 L1974.74 231.999 L1979 231.999 L1979 268.018 L1974.74 268.018 L1974.74 264.129 Q1973.4 266.443 1971.34 267.578 Q1969.3 268.689 1966.43 268.689 Q1961.73 268.689 1958.77 264.939 Q1955.83 261.189 1955.83 255.078 Q1955.83 248.967 1958.77 245.217 Q1961.73 241.467 1966.43 241.467 Q1969.3 241.467 1971.34 242.601 Q1973.4 243.712 1974.74 246.027 M1960.23 255.078 Q1960.23 259.777 1962.15 262.462 Q1964.1 265.124 1967.48 265.124 Q1970.86 265.124 1972.8 262.462 Q1974.74 259.777 1974.74 255.078 Q1974.74 250.379 1972.8 247.717 Q1970.86 245.032 1967.48 245.032 Q1964.1 245.032 1962.15 247.717 Q1960.23 250.379 1960.23 255.078 Z\" fill=\"#000000\" fill-rule=\"evenodd\" fill-opacity=\"1\" /><path clip-path=\"url(#clip970)\" d=\"M1999.56 254.985 Q1994.4 254.985 1992.41 256.166 Q1990.42 257.346 1990.42 260.194 Q1990.42 262.462 1991.9 263.805 Q1993.4 265.124 1995.97 265.124 Q1999.51 265.124 2001.64 262.624 Q2003.79 260.101 2003.79 255.934 L2003.79 254.985 L1999.56 254.985 M2008.05 253.226 L2008.05 268.018 L2003.79 268.018 L2003.79 264.082 Q2002.34 266.443 2000.16 267.578 Q1997.98 268.689 1994.84 268.689 Q1990.86 268.689 1988.49 266.467 Q1986.16 264.221 1986.16 260.471 Q1986.16 256.096 1989.07 253.874 Q1992.01 251.652 1997.82 251.652 L2003.79 251.652 L2003.79 251.235 Q2003.79 248.295 2001.85 246.698 Q1999.93 245.078 1996.43 245.078 Q1994.21 245.078 1992.11 245.61 Q1990 246.143 1988.05 247.207 L1988.05 243.272 Q1990.39 242.37 1992.59 241.93 Q1994.79 241.467 1996.87 241.467 Q2002.5 241.467 2005.28 244.383 Q2008.05 247.3 2008.05 253.226 Z\" fill=\"#000000\" fill-rule=\"evenodd\" fill-opacity=\"1\" /><path clip-path=\"url(#clip970)\" d=\"M2046.67 249.383 Q2050.02 250.101 2051.9 252.369 Q2053.79 254.638 2053.79 257.971 Q2053.79 263.087 2050.28 265.888 Q2046.76 268.689 2040.28 268.689 Q2038.1 268.689 2035.79 268.249 Q2033.49 267.832 2031.04 266.976 L2031.04 262.462 Q2032.98 263.596 2035.3 264.175 Q2037.61 264.754 2040.14 264.754 Q2044.54 264.754 2046.83 263.018 Q2049.14 261.281 2049.14 257.971 Q2049.14 254.916 2046.99 253.203 Q2044.86 251.467 2041.04 251.467 L2037.01 251.467 L2037.01 247.624 L2041.23 247.624 Q2044.67 247.624 2046.5 246.258 Q2048.33 244.87 2048.33 242.277 Q2048.33 239.615 2046.43 238.203 Q2044.56 236.768 2041.04 236.768 Q2039.12 236.768 2036.92 237.184 Q2034.72 237.601 2032.08 238.481 L2032.08 234.314 Q2034.74 233.573 2037.06 233.203 Q2039.4 232.833 2041.46 232.833 Q2046.78 232.833 2049.88 235.263 Q2052.98 237.67 2052.98 241.791 Q2052.98 244.661 2051.34 246.652 Q2049.7 248.62 2046.67 249.383 Z\" fill=\"#000000\" fill-rule=\"evenodd\" fill-opacity=\"1\" /><path clip-path=\"url(#clip970)\" d=\"M2081.25 264.129 L2081.25 277.879 L2076.97 277.879 L2076.97 242.092 L2081.25 242.092 L2081.25 246.027 Q2082.59 243.712 2084.63 242.601 Q2086.69 241.467 2089.54 241.467 Q2094.26 241.467 2097.2 245.217 Q2100.16 248.967 2100.16 255.078 Q2100.16 261.189 2097.2 264.939 Q2094.26 268.689 2089.54 268.689 Q2086.69 268.689 2084.63 267.578 Q2082.59 266.443 2081.25 264.129 M2095.74 255.078 Q2095.74 250.379 2093.79 247.717 Q2091.87 245.032 2088.49 245.032 Q2085.11 245.032 2083.17 247.717 Q2081.25 250.379 2081.25 255.078 Q2081.25 259.777 2083.17 262.462 Q2085.11 265.124 2088.49 265.124 Q2091.87 265.124 2093.79 262.462 Q2095.74 259.777 2095.74 255.078 Z\" fill=\"#000000\" fill-rule=\"evenodd\" fill-opacity=\"1\" /><path clip-path=\"url(#clip970)\" d=\"M2106.78 257.786 L2106.78 242.092 L2111.04 242.092 L2111.04 257.624 Q2111.04 261.305 2112.47 263.156 Q2113.91 264.985 2116.78 264.985 Q2120.23 264.985 2122.22 262.786 Q2124.23 260.587 2124.23 256.791 L2124.23 242.092 L2128.49 242.092 L2128.49 268.018 L2124.23 268.018 L2124.23 264.036 Q2122.68 266.397 2120.62 267.555 Q2118.59 268.689 2115.88 268.689 Q2111.41 268.689 2109.1 265.911 Q2106.78 263.133 2106.78 257.786 M2117.5 241.467 L2117.5 241.467 Z\" fill=\"#000000\" fill-rule=\"evenodd\" fill-opacity=\"1\" /><path clip-path=\"url(#clip970)\" d=\"M2158.82 252.369 L2158.82 268.018 L2154.56 268.018 L2154.56 252.508 Q2154.56 248.828 2153.12 246.999 Q2151.69 245.17 2148.82 245.17 Q2145.37 245.17 2143.38 247.37 Q2141.39 249.569 2141.39 253.365 L2141.39 268.018 L2137.1 268.018 L2137.1 242.092 L2141.39 242.092 L2141.39 246.12 Q2142.91 243.782 2144.97 242.624 Q2147.06 241.467 2149.77 241.467 Q2154.23 241.467 2156.53 244.245 Q2158.82 246.999 2158.82 252.369 Z\" fill=\"#000000\" fill-rule=\"evenodd\" fill-opacity=\"1\" /><path clip-path=\"url(#clip970)\" d=\"M2171.53 234.731 L2171.53 242.092 L2180.3 242.092 L2180.3 245.402 L2171.53 245.402 L2171.53 259.476 Q2171.53 262.647 2172.38 263.55 Q2173.26 264.453 2175.92 264.453 L2180.3 264.453 L2180.3 268.018 L2175.92 268.018 Q2170.99 268.018 2169.12 266.189 Q2167.24 264.337 2167.24 259.476 L2167.24 245.402 L2164.12 245.402 L2164.12 242.092 L2167.24 242.092 L2167.24 234.731 L2171.53 234.731 Z\" fill=\"#000000\" fill-rule=\"evenodd\" fill-opacity=\"1\" /><path clip-path=\"url(#clip970)\" d=\"M2195.95 245.078 Q2192.52 245.078 2190.53 247.763 Q2188.54 250.425 2188.54 255.078 Q2188.54 259.731 2190.51 262.416 Q2192.5 265.078 2195.95 265.078 Q2199.35 265.078 2201.34 262.393 Q2203.33 259.707 2203.33 255.078 Q2203.33 250.471 2201.34 247.786 Q2199.35 245.078 2195.95 245.078 M2195.95 241.467 Q2201.5 241.467 2204.67 245.078 Q2207.84 248.689 2207.84 255.078 Q2207.84 261.444 2204.67 265.078 Q2201.5 268.689 2195.95 268.689 Q2190.37 268.689 2187.2 265.078 Q2184.05 261.444 2184.05 255.078 Q2184.05 248.689 2187.2 245.078 Q2190.37 241.467 2195.95 241.467 Z\" fill=\"#000000\" fill-rule=\"evenodd\" fill-opacity=\"1\" /><path clip-path=\"url(#clip970)\" d=\"M2231.43 242.856 L2231.43 246.883 Q2229.63 245.957 2227.68 245.495 Q2225.74 245.032 2223.65 245.032 Q2220.48 245.032 2218.89 246.004 Q2217.31 246.976 2217.31 248.92 Q2217.31 250.402 2218.45 251.258 Q2219.58 252.092 2223.01 252.856 L2224.47 253.18 Q2229 254.152 2230.9 255.934 Q2232.82 257.694 2232.82 260.865 Q2232.82 264.476 2229.95 266.582 Q2227.1 268.689 2222.1 268.689 Q2220.02 268.689 2217.75 268.272 Q2215.51 267.879 2213.01 267.068 L2213.01 262.67 Q2215.37 263.897 2217.66 264.522 Q2219.95 265.124 2222.2 265.124 Q2225.21 265.124 2226.83 264.106 Q2228.45 263.064 2228.45 261.189 Q2228.45 259.453 2227.27 258.527 Q2226.11 257.601 2222.15 256.744 L2220.67 256.397 Q2216.71 255.564 2214.95 253.851 Q2213.19 252.115 2213.19 249.106 Q2213.19 245.448 2215.78 243.458 Q2218.38 241.467 2223.15 241.467 Q2225.51 241.467 2227.59 241.814 Q2229.67 242.161 2231.43 242.856 Z\" fill=\"#000000\" fill-rule=\"evenodd\" fill-opacity=\"1\" /><circle clip-path=\"url(#clip970)\" cx=\"1700.49\" cy=\"302.578\" r=\"23\" fill=\"#c271d2\" fill-rule=\"evenodd\" fill-opacity=\"1\" stroke=\"#000000\" stroke-opacity=\"1\" stroke-width=\"5.12\"/>\n",
       "<path clip-path=\"url(#clip970)\" d=\"M1824.31 287.96 L1824.31 292.89 Q1821.94 290.691 1819.26 289.603 Q1816.6 288.515 1813.59 288.515 Q1807.66 288.515 1804.51 292.149 Q1801.37 295.76 1801.37 302.612 Q1801.37 309.441 1804.51 313.075 Q1807.66 316.686 1813.59 316.686 Q1816.6 316.686 1819.26 315.598 Q1821.94 314.51 1824.31 312.311 L1824.31 317.196 Q1821.85 318.862 1819.1 319.696 Q1816.37 320.529 1813.31 320.529 Q1805.46 320.529 1800.95 315.737 Q1796.43 310.922 1796.43 302.612 Q1796.43 294.279 1800.95 289.487 Q1805.46 284.673 1813.31 284.673 Q1816.41 284.673 1819.14 285.506 Q1821.9 286.316 1824.31 287.96 Z\" fill=\"#000000\" fill-rule=\"evenodd\" fill-opacity=\"1\" /><path clip-path=\"url(#clip970)\" d=\"M1853.52 305.83 L1853.52 307.913 L1833.93 307.913 Q1834.21 312.311 1836.57 314.626 Q1838.96 316.918 1843.19 316.918 Q1845.65 316.918 1847.94 316.316 Q1850.25 315.714 1852.52 314.51 L1852.52 318.538 Q1850.23 319.51 1847.82 320.02 Q1845.42 320.529 1842.94 320.529 Q1836.74 320.529 1833.1 316.918 Q1829.49 313.307 1829.49 307.149 Q1829.49 300.784 1832.92 297.057 Q1836.37 293.307 1842.2 293.307 Q1847.43 293.307 1850.46 296.686 Q1853.52 300.043 1853.52 305.83 M1849.26 304.58 Q1849.21 301.085 1847.29 299.001 Q1845.39 296.918 1842.24 296.918 Q1838.68 296.918 1836.53 298.932 Q1834.4 300.946 1834.07 304.603 L1849.26 304.58 Z\" fill=\"#000000\" fill-rule=\"evenodd\" fill-opacity=\"1\" /><path clip-path=\"url(#clip970)\" d=\"M1882.06 304.209 L1882.06 319.858 L1877.8 319.858 L1877.8 304.348 Q1877.8 300.668 1876.37 298.839 Q1874.93 297.01 1872.06 297.01 Q1868.61 297.01 1866.62 299.21 Q1864.63 301.409 1864.63 305.205 L1864.63 319.858 L1860.35 319.858 L1860.35 293.932 L1864.63 293.932 L1864.63 297.96 Q1866.16 295.622 1868.22 294.464 Q1870.3 293.307 1873.01 293.307 Q1877.48 293.307 1879.77 296.085 Q1882.06 298.839 1882.06 304.209 Z\" fill=\"#000000\" fill-rule=\"evenodd\" fill-opacity=\"1\" /><path clip-path=\"url(#clip970)\" d=\"M1894.77 286.571 L1894.77 293.932 L1903.54 293.932 L1903.54 297.242 L1894.77 297.242 L1894.77 311.316 Q1894.77 314.487 1895.62 315.39 Q1896.5 316.293 1899.17 316.293 L1903.54 316.293 L1903.54 319.858 L1899.17 319.858 Q1894.24 319.858 1892.36 318.029 Q1890.49 316.177 1890.49 311.316 L1890.49 297.242 L1887.36 297.242 L1887.36 293.932 L1890.49 293.932 L1890.49 286.571 L1894.77 286.571 Z\" fill=\"#000000\" fill-rule=\"evenodd\" fill-opacity=\"1\" /><path clip-path=\"url(#clip970)\" d=\"M1924.17 297.913 Q1923.45 297.497 1922.59 297.311 Q1921.76 297.103 1920.74 297.103 Q1917.13 297.103 1915.18 299.464 Q1913.26 301.802 1913.26 306.2 L1913.26 319.858 L1908.98 319.858 L1908.98 293.932 L1913.26 293.932 L1913.26 297.96 Q1914.61 295.598 1916.76 294.464 Q1918.91 293.307 1921.99 293.307 Q1922.43 293.307 1922.96 293.376 Q1923.49 293.423 1924.14 293.538 L1924.17 297.913 Z\" fill=\"#000000\" fill-rule=\"evenodd\" fill-opacity=\"1\" /><path clip-path=\"url(#clip970)\" d=\"M1940.42 306.825 Q1935.25 306.825 1933.26 308.006 Q1931.27 309.186 1931.27 312.034 Q1931.27 314.302 1932.75 315.645 Q1934.26 316.964 1936.83 316.964 Q1940.37 316.964 1942.5 314.464 Q1944.65 311.941 1944.65 307.774 L1944.65 306.825 L1940.42 306.825 M1948.91 305.066 L1948.91 319.858 L1944.65 319.858 L1944.65 315.922 Q1943.19 318.283 1941.02 319.418 Q1938.84 320.529 1935.69 320.529 Q1931.71 320.529 1929.35 318.307 Q1927.01 316.061 1927.01 312.311 Q1927.01 307.936 1929.93 305.714 Q1932.87 303.492 1938.68 303.492 L1944.65 303.492 L1944.65 303.075 Q1944.65 300.135 1942.71 298.538 Q1940.79 296.918 1937.29 296.918 Q1935.07 296.918 1932.96 297.45 Q1930.86 297.983 1928.91 299.047 L1928.91 295.112 Q1931.25 294.21 1933.45 293.77 Q1935.65 293.307 1937.73 293.307 Q1943.36 293.307 1946.13 296.223 Q1948.91 299.14 1948.91 305.066 Z\" fill=\"#000000\" fill-rule=\"evenodd\" fill-opacity=\"1\" /><path clip-path=\"url(#clip970)\" d=\"M1974.74 297.867 L1974.74 283.839 L1979 283.839 L1979 319.858 L1974.74 319.858 L1974.74 315.969 Q1973.4 318.283 1971.34 319.418 Q1969.3 320.529 1966.43 320.529 Q1961.73 320.529 1958.77 316.779 Q1955.83 313.029 1955.83 306.918 Q1955.83 300.807 1958.77 297.057 Q1961.73 293.307 1966.43 293.307 Q1969.3 293.307 1971.34 294.441 Q1973.4 295.552 1974.74 297.867 M1960.23 306.918 Q1960.23 311.617 1962.15 314.302 Q1964.1 316.964 1967.48 316.964 Q1970.86 316.964 1972.8 314.302 Q1974.74 311.617 1974.74 306.918 Q1974.74 302.219 1972.8 299.557 Q1970.86 296.872 1967.48 296.872 Q1964.1 296.872 1962.15 299.557 Q1960.23 302.219 1960.23 306.918 Z\" fill=\"#000000\" fill-rule=\"evenodd\" fill-opacity=\"1\" /><path clip-path=\"url(#clip970)\" d=\"M1999.56 306.825 Q1994.4 306.825 1992.41 308.006 Q1990.42 309.186 1990.42 312.034 Q1990.42 314.302 1991.9 315.645 Q1993.4 316.964 1995.97 316.964 Q1999.51 316.964 2001.64 314.464 Q2003.79 311.941 2003.79 307.774 L2003.79 306.825 L1999.56 306.825 M2008.05 305.066 L2008.05 319.858 L2003.79 319.858 L2003.79 315.922 Q2002.34 318.283 2000.16 319.418 Q1997.98 320.529 1994.84 320.529 Q1990.86 320.529 1988.49 318.307 Q1986.16 316.061 1986.16 312.311 Q1986.16 307.936 1989.07 305.714 Q1992.01 303.492 1997.82 303.492 L2003.79 303.492 L2003.79 303.075 Q2003.79 300.135 2001.85 298.538 Q1999.93 296.918 1996.43 296.918 Q1994.21 296.918 1992.11 297.45 Q1990 297.983 1988.05 299.047 L1988.05 295.112 Q1990.39 294.21 1992.59 293.77 Q1994.79 293.307 1996.87 293.307 Q2002.5 293.307 2005.28 296.223 Q2008.05 299.14 2008.05 305.066 Z\" fill=\"#000000\" fill-rule=\"evenodd\" fill-opacity=\"1\" /><path clip-path=\"url(#clip970)\" d=\"M2032.54 285.298 L2050.9 285.298 L2050.9 289.233 L2036.83 289.233 L2036.83 297.705 Q2037.85 297.358 2038.86 297.196 Q2039.88 297.01 2040.9 297.01 Q2046.69 297.01 2050.07 300.182 Q2053.45 303.353 2053.45 308.77 Q2053.45 314.348 2049.98 317.45 Q2046.5 320.529 2040.18 320.529 Q2038.01 320.529 2035.74 320.158 Q2033.49 319.788 2031.09 319.047 L2031.09 314.348 Q2033.17 315.483 2035.39 316.038 Q2037.61 316.594 2040.09 316.594 Q2044.1 316.594 2046.43 314.487 Q2048.77 312.381 2048.77 308.77 Q2048.77 305.159 2046.43 303.052 Q2044.1 300.946 2040.09 300.946 Q2038.22 300.946 2036.34 301.362 Q2034.49 301.779 2032.54 302.659 L2032.54 285.298 Z\" fill=\"#000000\" fill-rule=\"evenodd\" fill-opacity=\"1\" /><path clip-path=\"url(#clip970)\" d=\"M2081.25 315.969 L2081.25 329.719 L2076.97 329.719 L2076.97 293.932 L2081.25 293.932 L2081.25 297.867 Q2082.59 295.552 2084.63 294.441 Q2086.69 293.307 2089.54 293.307 Q2094.26 293.307 2097.2 297.057 Q2100.16 300.807 2100.16 306.918 Q2100.16 313.029 2097.2 316.779 Q2094.26 320.529 2089.54 320.529 Q2086.69 320.529 2084.63 319.418 Q2082.59 318.283 2081.25 315.969 M2095.74 306.918 Q2095.74 302.219 2093.79 299.557 Q2091.87 296.872 2088.49 296.872 Q2085.11 296.872 2083.17 299.557 Q2081.25 302.219 2081.25 306.918 Q2081.25 311.617 2083.17 314.302 Q2085.11 316.964 2088.49 316.964 Q2091.87 316.964 2093.79 314.302 Q2095.74 311.617 2095.74 306.918 Z\" fill=\"#000000\" fill-rule=\"evenodd\" fill-opacity=\"1\" /><path clip-path=\"url(#clip970)\" d=\"M2106.78 309.626 L2106.78 293.932 L2111.04 293.932 L2111.04 309.464 Q2111.04 313.145 2112.47 314.996 Q2113.91 316.825 2116.78 316.825 Q2120.23 316.825 2122.22 314.626 Q2124.23 312.427 2124.23 308.631 L2124.23 293.932 L2128.49 293.932 L2128.49 319.858 L2124.23 319.858 L2124.23 315.876 Q2122.68 318.237 2120.62 319.395 Q2118.59 320.529 2115.88 320.529 Q2111.41 320.529 2109.1 317.751 Q2106.78 314.973 2106.78 309.626 M2117.5 293.307 L2117.5 293.307 Z\" fill=\"#000000\" fill-rule=\"evenodd\" fill-opacity=\"1\" /><path clip-path=\"url(#clip970)\" d=\"M2158.82 304.209 L2158.82 319.858 L2154.56 319.858 L2154.56 304.348 Q2154.56 300.668 2153.12 298.839 Q2151.69 297.01 2148.82 297.01 Q2145.37 297.01 2143.38 299.21 Q2141.39 301.409 2141.39 305.205 L2141.39 319.858 L2137.1 319.858 L2137.1 293.932 L2141.39 293.932 L2141.39 297.96 Q2142.91 295.622 2144.97 294.464 Q2147.06 293.307 2149.77 293.307 Q2154.23 293.307 2156.53 296.085 Q2158.82 298.839 2158.82 304.209 Z\" fill=\"#000000\" fill-rule=\"evenodd\" fill-opacity=\"1\" /><path clip-path=\"url(#clip970)\" d=\"M2171.53 286.571 L2171.53 293.932 L2180.3 293.932 L2180.3 297.242 L2171.53 297.242 L2171.53 311.316 Q2171.53 314.487 2172.38 315.39 Q2173.26 316.293 2175.92 316.293 L2180.3 316.293 L2180.3 319.858 L2175.92 319.858 Q2170.99 319.858 2169.12 318.029 Q2167.24 316.177 2167.24 311.316 L2167.24 297.242 L2164.12 297.242 L2164.12 293.932 L2167.24 293.932 L2167.24 286.571 L2171.53 286.571 Z\" fill=\"#000000\" fill-rule=\"evenodd\" fill-opacity=\"1\" /><path clip-path=\"url(#clip970)\" d=\"M2195.95 296.918 Q2192.52 296.918 2190.53 299.603 Q2188.54 302.265 2188.54 306.918 Q2188.54 311.571 2190.51 314.256 Q2192.5 316.918 2195.95 316.918 Q2199.35 316.918 2201.34 314.233 Q2203.33 311.547 2203.33 306.918 Q2203.33 302.311 2201.34 299.626 Q2199.35 296.918 2195.95 296.918 M2195.95 293.307 Q2201.5 293.307 2204.67 296.918 Q2207.84 300.529 2207.84 306.918 Q2207.84 313.284 2204.67 316.918 Q2201.5 320.529 2195.95 320.529 Q2190.37 320.529 2187.2 316.918 Q2184.05 313.284 2184.05 306.918 Q2184.05 300.529 2187.2 296.918 Q2190.37 293.307 2195.95 293.307 Z\" fill=\"#000000\" fill-rule=\"evenodd\" fill-opacity=\"1\" /><path clip-path=\"url(#clip970)\" d=\"M2231.43 294.696 L2231.43 298.723 Q2229.63 297.797 2227.68 297.335 Q2225.74 296.872 2223.65 296.872 Q2220.48 296.872 2218.89 297.844 Q2217.31 298.816 2217.31 300.76 Q2217.31 302.242 2218.45 303.098 Q2219.58 303.932 2223.01 304.696 L2224.47 305.02 Q2229 305.992 2230.9 307.774 Q2232.82 309.534 2232.82 312.705 Q2232.82 316.316 2229.95 318.422 Q2227.1 320.529 2222.1 320.529 Q2220.02 320.529 2217.75 320.112 Q2215.51 319.719 2213.01 318.908 L2213.01 314.51 Q2215.37 315.737 2217.66 316.362 Q2219.95 316.964 2222.2 316.964 Q2225.21 316.964 2226.83 315.946 Q2228.45 314.904 2228.45 313.029 Q2228.45 311.293 2227.27 310.367 Q2226.11 309.441 2222.15 308.584 L2220.67 308.237 Q2216.71 307.404 2214.95 305.691 Q2213.19 303.955 2213.19 300.946 Q2213.19 297.288 2215.78 295.298 Q2218.38 293.307 2223.15 293.307 Q2225.51 293.307 2227.59 293.654 Q2229.67 294.001 2231.43 294.696 Z\" fill=\"#000000\" fill-rule=\"evenodd\" fill-opacity=\"1\" /></svg>\n"
      ]
     },
     "execution_count": 23,
     "metadata": {},
     "output_type": "execute_result"
    }
   ],
   "source": [
    "plot(x->-sin(x),label=\"f'(x)\",xlim=(0,6))\n",
    "scatter!(x,d1,label=\"Hacia adelante\")\n",
    "scatter!(x,d2,label=\"Centrada 3 puntos\")\n",
    "scatter!(x,d3,label=\"Centrada 5 puntos\")"
   ]
  },
  {
   "cell_type": "code",
   "execution_count": 24,
   "metadata": {},
   "outputs": [
    {
     "data": {
      "text/plain": [
       "d3 (generic function with 1 method)"
      ]
     },
     "execution_count": 24,
     "metadata": {},
     "output_type": "execute_result"
    }
   ],
   "source": [
    "d1(x)=derivada_adelante(g,x,dx)\n",
    "d2(x)=derivada_centrada_3p(g,x,dx)\n",
    "d3(x)=derivada_centrada_5p(g,x,dx)"
   ]
  },
  {
   "cell_type": "code",
   "execution_count": 25,
   "metadata": {},
   "outputs": [
    {
     "data": {
      "image/svg+xml": [
       "<?xml version=\"1.0\" encoding=\"utf-8\"?>\n",
       "<svg xmlns=\"http://www.w3.org/2000/svg\" xmlns:xlink=\"http://www.w3.org/1999/xlink\" width=\"600\" height=\"400\" viewBox=\"0 0 2400 1600\">\n",
       "<defs>\n",
       "  <clipPath id=\"clip010\">\n",
       "    <rect x=\"0\" y=\"0\" width=\"2400\" height=\"1600\"/>\n",
       "  </clipPath>\n",
       "</defs>\n",
       "<path clip-path=\"url(#clip010)\" d=\"\n",
       "M0 1600 L2400 1600 L2400 0 L0 0  Z\n",
       "  \" fill=\"#ffffff\" fill-rule=\"evenodd\" fill-opacity=\"1\"/>\n",
       "<defs>\n",
       "  <clipPath id=\"clip011\">\n",
       "    <rect x=\"480\" y=\"0\" width=\"1681\" height=\"1600\"/>\n",
       "  </clipPath>\n",
       "</defs>\n",
       "<path clip-path=\"url(#clip010)\" d=\"\n",
       "M306.435 1486.45 L2352.76 1486.45 L2352.76 47.2441 L306.435 47.2441  Z\n",
       "  \" fill=\"#ffffff\" fill-rule=\"evenodd\" fill-opacity=\"1\"/>\n",
       "<defs>\n",
       "  <clipPath id=\"clip012\">\n",
       "    <rect x=\"306\" y=\"47\" width=\"2047\" height=\"1440\"/>\n",
       "  </clipPath>\n",
       "</defs>\n",
       "<polyline clip-path=\"url(#clip012)\" style=\"stroke:#000000; stroke-linecap:butt; stroke-linejoin:round; stroke-width:2; stroke-opacity:0.1; fill:none\" points=\"\n",
       "  306.435,1486.45 306.435,47.2441 \n",
       "  \"/>\n",
       "<polyline clip-path=\"url(#clip012)\" style=\"stroke:#000000; stroke-linecap:butt; stroke-linejoin:round; stroke-width:2; stroke-opacity:0.1; fill:none\" points=\"\n",
       "  715.699,1486.45 715.699,47.2441 \n",
       "  \"/>\n",
       "<polyline clip-path=\"url(#clip012)\" style=\"stroke:#000000; stroke-linecap:butt; stroke-linejoin:round; stroke-width:2; stroke-opacity:0.1; fill:none\" points=\"\n",
       "  1124.96,1486.45 1124.96,47.2441 \n",
       "  \"/>\n",
       "<polyline clip-path=\"url(#clip012)\" style=\"stroke:#000000; stroke-linecap:butt; stroke-linejoin:round; stroke-width:2; stroke-opacity:0.1; fill:none\" points=\"\n",
       "  1534.23,1486.45 1534.23,47.2441 \n",
       "  \"/>\n",
       "<polyline clip-path=\"url(#clip012)\" style=\"stroke:#000000; stroke-linecap:butt; stroke-linejoin:round; stroke-width:2; stroke-opacity:0.1; fill:none\" points=\"\n",
       "  1943.49,1486.45 1943.49,47.2441 \n",
       "  \"/>\n",
       "<polyline clip-path=\"url(#clip012)\" style=\"stroke:#000000; stroke-linecap:butt; stroke-linejoin:round; stroke-width:2; stroke-opacity:0.1; fill:none\" points=\"\n",
       "  2352.76,1486.45 2352.76,47.2441 \n",
       "  \"/>\n",
       "<polyline clip-path=\"url(#clip010)\" style=\"stroke:#000000; stroke-linecap:butt; stroke-linejoin:round; stroke-width:4; stroke-opacity:1; fill:none\" points=\"\n",
       "  306.435,1486.45 2352.76,1486.45 \n",
       "  \"/>\n",
       "<polyline clip-path=\"url(#clip010)\" style=\"stroke:#000000; stroke-linecap:butt; stroke-linejoin:round; stroke-width:4; stroke-opacity:1; fill:none\" points=\"\n",
       "  306.435,1486.45 306.435,1467.55 \n",
       "  \"/>\n",
       "<polyline clip-path=\"url(#clip010)\" style=\"stroke:#000000; stroke-linecap:butt; stroke-linejoin:round; stroke-width:4; stroke-opacity:1; fill:none\" points=\"\n",
       "  715.699,1486.45 715.699,1467.55 \n",
       "  \"/>\n",
       "<polyline clip-path=\"url(#clip010)\" style=\"stroke:#000000; stroke-linecap:butt; stroke-linejoin:round; stroke-width:4; stroke-opacity:1; fill:none\" points=\"\n",
       "  1124.96,1486.45 1124.96,1467.55 \n",
       "  \"/>\n",
       "<polyline clip-path=\"url(#clip010)\" style=\"stroke:#000000; stroke-linecap:butt; stroke-linejoin:round; stroke-width:4; stroke-opacity:1; fill:none\" points=\"\n",
       "  1534.23,1486.45 1534.23,1467.55 \n",
       "  \"/>\n",
       "<polyline clip-path=\"url(#clip010)\" style=\"stroke:#000000; stroke-linecap:butt; stroke-linejoin:round; stroke-width:4; stroke-opacity:1; fill:none\" points=\"\n",
       "  1943.49,1486.45 1943.49,1467.55 \n",
       "  \"/>\n",
       "<polyline clip-path=\"url(#clip010)\" style=\"stroke:#000000; stroke-linecap:butt; stroke-linejoin:round; stroke-width:4; stroke-opacity:1; fill:none\" points=\"\n",
       "  2352.76,1486.45 2352.76,1467.55 \n",
       "  \"/>\n",
       "<path clip-path=\"url(#clip010)\" d=\"M306.435 1517.37 Q302.824 1517.37 300.996 1520.93 Q299.19 1524.47 299.19 1531.6 Q299.19 1538.71 300.996 1542.27 Q302.824 1545.82 306.435 1545.82 Q310.07 1545.82 311.875 1542.27 Q313.704 1538.71 313.704 1531.6 Q313.704 1524.47 311.875 1520.93 Q310.07 1517.37 306.435 1517.37 M306.435 1513.66 Q312.246 1513.66 315.301 1518.27 Q318.38 1522.85 318.38 1531.6 Q318.38 1540.33 315.301 1544.94 Q312.246 1549.52 306.435 1549.52 Q300.625 1549.52 297.547 1544.94 Q294.491 1540.33 294.491 1531.6 Q294.491 1522.85 297.547 1518.27 Q300.625 1513.66 306.435 1513.66 Z\" fill=\"#000000\" fill-rule=\"evenodd\" fill-opacity=\"1\" /><path clip-path=\"url(#clip010)\" d=\"M710.352 1544.91 L726.672 1544.91 L726.672 1548.85 L704.727 1548.85 L704.727 1544.91 Q707.389 1542.16 711.973 1537.53 Q716.579 1532.88 717.76 1531.53 Q720.005 1529.01 720.885 1527.27 Q721.787 1525.51 721.787 1523.82 Q721.787 1521.07 719.843 1519.33 Q717.922 1517.6 714.82 1517.6 Q712.621 1517.6 710.167 1518.36 Q707.737 1519.13 704.959 1520.68 L704.959 1515.95 Q707.783 1514.82 710.237 1514.24 Q712.69 1513.66 714.727 1513.66 Q720.098 1513.66 723.292 1516.35 Q726.486 1519.03 726.486 1523.52 Q726.486 1525.65 725.676 1527.57 Q724.889 1529.47 722.783 1532.07 Q722.204 1532.74 719.102 1535.95 Q716 1539.15 710.352 1544.91 Z\" fill=\"#000000\" fill-rule=\"evenodd\" fill-opacity=\"1\" /><path clip-path=\"url(#clip010)\" d=\"M1127.97 1518.36 L1116.17 1536.81 L1127.97 1536.81 L1127.97 1518.36 M1126.75 1514.29 L1132.63 1514.29 L1132.63 1536.81 L1137.56 1536.81 L1137.56 1540.7 L1132.63 1540.7 L1132.63 1548.85 L1127.97 1548.85 L1127.97 1540.7 L1112.37 1540.7 L1112.37 1536.19 L1126.75 1514.29 Z\" fill=\"#000000\" fill-rule=\"evenodd\" fill-opacity=\"1\" /><path clip-path=\"url(#clip010)\" d=\"M1534.63 1529.7 Q1531.48 1529.7 1529.63 1531.86 Q1527.8 1534.01 1527.8 1537.76 Q1527.8 1541.49 1529.63 1543.66 Q1531.48 1545.82 1534.63 1545.82 Q1537.78 1545.82 1539.61 1543.66 Q1541.46 1541.49 1541.46 1537.76 Q1541.46 1534.01 1539.61 1531.86 Q1537.78 1529.7 1534.63 1529.7 M1543.92 1515.05 L1543.92 1519.31 Q1542.16 1518.48 1540.35 1518.04 Q1538.57 1517.6 1536.81 1517.6 Q1532.18 1517.6 1529.73 1520.72 Q1527.29 1523.85 1526.95 1530.17 Q1528.31 1528.15 1530.37 1527.09 Q1532.43 1526 1534.91 1526 Q1540.12 1526 1543.13 1529.17 Q1546.16 1532.32 1546.16 1537.76 Q1546.16 1543.08 1543.01 1546.3 Q1539.86 1549.52 1534.63 1549.52 Q1528.64 1549.52 1525.47 1544.94 Q1522.29 1540.33 1522.29 1531.6 Q1522.29 1523.41 1526.18 1518.55 Q1530.07 1513.66 1536.62 1513.66 Q1538.38 1513.66 1540.17 1514.01 Q1541.97 1514.36 1543.92 1515.05 Z\" fill=\"#000000\" fill-rule=\"evenodd\" fill-opacity=\"1\" /><path clip-path=\"url(#clip010)\" d=\"M1943.49 1532.44 Q1940.16 1532.44 1938.24 1534.22 Q1936.34 1536 1936.34 1539.13 Q1936.34 1542.25 1938.24 1544.03 Q1940.16 1545.82 1943.49 1545.82 Q1946.83 1545.82 1948.75 1544.03 Q1950.67 1542.23 1950.67 1539.13 Q1950.67 1536 1948.75 1534.22 Q1946.85 1532.44 1943.49 1532.44 M1938.82 1530.45 Q1935.81 1529.7 1934.12 1527.64 Q1932.45 1525.58 1932.45 1522.62 Q1932.45 1518.48 1935.39 1516.07 Q1938.35 1513.66 1943.49 1513.66 Q1948.65 1513.66 1951.59 1516.07 Q1954.53 1518.48 1954.53 1522.62 Q1954.53 1525.58 1952.84 1527.64 Q1951.18 1529.7 1948.19 1530.45 Q1951.57 1531.23 1953.45 1533.52 Q1955.34 1535.82 1955.34 1539.13 Q1955.34 1544.15 1952.26 1546.83 Q1949.21 1549.52 1943.49 1549.52 Q1937.77 1549.52 1934.7 1546.83 Q1931.64 1544.15 1931.64 1539.13 Q1931.64 1535.82 1933.54 1533.52 Q1935.44 1531.23 1938.82 1530.45 M1937.1 1523.06 Q1937.1 1525.75 1938.77 1527.25 Q1940.46 1528.76 1943.49 1528.76 Q1946.5 1528.76 1948.19 1527.25 Q1949.9 1525.75 1949.9 1523.06 Q1949.9 1520.38 1948.19 1518.87 Q1946.5 1517.37 1943.49 1517.37 Q1940.46 1517.37 1938.77 1518.87 Q1937.1 1520.38 1937.1 1523.06 Z\" fill=\"#000000\" fill-rule=\"evenodd\" fill-opacity=\"1\" /><path clip-path=\"url(#clip010)\" d=\"M2327.44 1544.91 L2335.08 1544.91 L2335.08 1518.55 L2326.77 1520.21 L2326.77 1515.95 L2335.04 1514.29 L2339.71 1514.29 L2339.71 1544.91 L2347.35 1544.91 L2347.35 1548.85 L2327.44 1548.85 L2327.44 1544.91 Z\" fill=\"#000000\" fill-rule=\"evenodd\" fill-opacity=\"1\" /><path clip-path=\"url(#clip010)\" d=\"M2366.8 1517.37 Q2363.18 1517.37 2361.36 1520.93 Q2359.55 1524.47 2359.55 1531.6 Q2359.55 1538.71 2361.36 1542.27 Q2363.18 1545.82 2366.8 1545.82 Q2370.43 1545.82 2372.23 1542.27 Q2374.06 1538.71 2374.06 1531.6 Q2374.06 1524.47 2372.23 1520.93 Q2370.43 1517.37 2366.8 1517.37 M2366.8 1513.66 Q2372.61 1513.66 2375.66 1518.27 Q2378.74 1522.85 2378.74 1531.6 Q2378.74 1540.33 2375.66 1544.94 Q2372.61 1549.52 2366.8 1549.52 Q2360.99 1549.52 2357.91 1544.94 Q2354.85 1540.33 2354.85 1531.6 Q2354.85 1522.85 2357.91 1518.27 Q2360.99 1513.66 2366.8 1513.66 Z\" fill=\"#000000\" fill-rule=\"evenodd\" fill-opacity=\"1\" /><polyline clip-path=\"url(#clip012)\" style=\"stroke:#000000; stroke-linecap:butt; stroke-linejoin:round; stroke-width:2; stroke-opacity:0.1; fill:none\" points=\"\n",
       "  306.435,1445.77 2352.76,1445.77 \n",
       "  \"/>\n",
       "<polyline clip-path=\"url(#clip012)\" style=\"stroke:#000000; stroke-linecap:butt; stroke-linejoin:round; stroke-width:2; stroke-opacity:0.1; fill:none\" points=\"\n",
       "  306.435,1167.35 2352.76,1167.35 \n",
       "  \"/>\n",
       "<polyline clip-path=\"url(#clip012)\" style=\"stroke:#000000; stroke-linecap:butt; stroke-linejoin:round; stroke-width:2; stroke-opacity:0.1; fill:none\" points=\"\n",
       "  306.435,888.924 2352.76,888.924 \n",
       "  \"/>\n",
       "<polyline clip-path=\"url(#clip012)\" style=\"stroke:#000000; stroke-linecap:butt; stroke-linejoin:round; stroke-width:2; stroke-opacity:0.1; fill:none\" points=\"\n",
       "  306.435,610.5 2352.76,610.5 \n",
       "  \"/>\n",
       "<polyline clip-path=\"url(#clip012)\" style=\"stroke:#000000; stroke-linecap:butt; stroke-linejoin:round; stroke-width:2; stroke-opacity:0.1; fill:none\" points=\"\n",
       "  306.435,332.076 2352.76,332.076 \n",
       "  \"/>\n",
       "<polyline clip-path=\"url(#clip012)\" style=\"stroke:#000000; stroke-linecap:butt; stroke-linejoin:round; stroke-width:2; stroke-opacity:0.1; fill:none\" points=\"\n",
       "  306.435,53.6523 2352.76,53.6523 \n",
       "  \"/>\n",
       "<polyline clip-path=\"url(#clip010)\" style=\"stroke:#000000; stroke-linecap:butt; stroke-linejoin:round; stroke-width:4; stroke-opacity:1; fill:none\" points=\"\n",
       "  306.435,1486.45 306.435,47.2441 \n",
       "  \"/>\n",
       "<polyline clip-path=\"url(#clip010)\" style=\"stroke:#000000; stroke-linecap:butt; stroke-linejoin:round; stroke-width:4; stroke-opacity:1; fill:none\" points=\"\n",
       "  306.435,1445.77 325.333,1445.77 \n",
       "  \"/>\n",
       "<polyline clip-path=\"url(#clip010)\" style=\"stroke:#000000; stroke-linecap:butt; stroke-linejoin:round; stroke-width:4; stroke-opacity:1; fill:none\" points=\"\n",
       "  306.435,1167.35 325.333,1167.35 \n",
       "  \"/>\n",
       "<polyline clip-path=\"url(#clip010)\" style=\"stroke:#000000; stroke-linecap:butt; stroke-linejoin:round; stroke-width:4; stroke-opacity:1; fill:none\" points=\"\n",
       "  306.435,888.924 325.333,888.924 \n",
       "  \"/>\n",
       "<polyline clip-path=\"url(#clip010)\" style=\"stroke:#000000; stroke-linecap:butt; stroke-linejoin:round; stroke-width:4; stroke-opacity:1; fill:none\" points=\"\n",
       "  306.435,610.5 325.333,610.5 \n",
       "  \"/>\n",
       "<polyline clip-path=\"url(#clip010)\" style=\"stroke:#000000; stroke-linecap:butt; stroke-linejoin:round; stroke-width:4; stroke-opacity:1; fill:none\" points=\"\n",
       "  306.435,332.076 325.333,332.076 \n",
       "  \"/>\n",
       "<polyline clip-path=\"url(#clip010)\" style=\"stroke:#000000; stroke-linecap:butt; stroke-linejoin:round; stroke-width:4; stroke-opacity:1; fill:none\" points=\"\n",
       "  306.435,53.6523 325.333,53.6523 \n",
       "  \"/>\n",
       "<path clip-path=\"url(#clip010)\" d=\"M258.491 1431.57 Q254.88 1431.57 253.051 1435.13 Q251.246 1438.68 251.246 1445.81 Q251.246 1452.91 253.051 1456.48 Q254.88 1460.02 258.491 1460.02 Q262.125 1460.02 263.931 1456.48 Q265.759 1452.91 265.759 1445.81 Q265.759 1438.68 263.931 1435.13 Q262.125 1431.57 258.491 1431.57 M258.491 1427.87 Q264.301 1427.87 267.357 1432.47 Q270.435 1437.06 270.435 1445.81 Q270.435 1454.53 267.357 1459.14 Q264.301 1463.72 258.491 1463.72 Q252.681 1463.72 249.602 1459.14 Q246.547 1454.53 246.547 1445.81 Q246.547 1437.06 249.602 1432.47 Q252.681 1427.87 258.491 1427.87 Z\" fill=\"#000000\" fill-rule=\"evenodd\" fill-opacity=\"1\" /><path clip-path=\"url(#clip010)\" d=\"M54.6105 1156.52 L72.9668 1156.52 L72.9668 1160.45 L58.8928 1160.45 L58.8928 1168.92 Q59.9113 1168.58 60.9299 1168.41 Q61.9484 1168.23 62.9669 1168.23 Q68.7539 1168.23 72.1335 1171.4 Q75.5131 1174.57 75.5131 1179.99 Q75.5131 1185.57 72.0409 1188.67 Q68.5687 1191.75 62.2493 1191.75 Q60.0734 1191.75 57.8049 1191.38 Q55.5595 1191.01 53.1521 1190.26 L53.1521 1185.57 Q55.2354 1186.7 57.4577 1187.26 Q59.6799 1187.81 62.1567 1187.81 Q66.1613 1187.81 68.4993 1185.7 Q70.8372 1183.6 70.8372 1179.99 Q70.8372 1176.38 68.4993 1174.27 Q66.1613 1172.16 62.1567 1172.16 Q60.2817 1172.16 58.4067 1172.58 Q56.5549 1173 54.6105 1173.88 L54.6105 1156.52 Z\" fill=\"#000000\" fill-rule=\"evenodd\" fill-opacity=\"1\" /><path clip-path=\"url(#clip010)\" d=\"M84.726 1185.2 L89.6103 1185.2 L89.6103 1191.08 L84.726 1191.08 L84.726 1185.2 Z\" fill=\"#000000\" fill-rule=\"evenodd\" fill-opacity=\"1\" /><path clip-path=\"url(#clip010)\" d=\"M109.795 1159.59 Q106.184 1159.59 104.356 1163.16 Q102.55 1166.7 102.55 1173.83 Q102.55 1180.94 104.356 1184.5 Q106.184 1188.04 109.795 1188.04 Q113.43 1188.04 115.235 1184.5 Q117.064 1180.94 117.064 1173.83 Q117.064 1166.7 115.235 1163.16 Q113.43 1159.59 109.795 1159.59 M109.795 1155.89 Q115.605 1155.89 118.661 1160.5 Q121.74 1165.08 121.74 1173.83 Q121.74 1182.56 118.661 1187.16 Q115.605 1191.75 109.795 1191.75 Q103.985 1191.75 100.906 1187.16 Q97.851 1182.56 97.851 1173.83 Q97.851 1165.08 100.906 1160.5 Q103.985 1155.89 109.795 1155.89 Z\" fill=\"#000000\" fill-rule=\"evenodd\" fill-opacity=\"1\" /><path clip-path=\"url(#clip010)\" d=\"M139.957 1159.59 Q136.346 1159.59 134.517 1163.16 Q132.712 1166.7 132.712 1173.83 Q132.712 1180.94 134.517 1184.5 Q136.346 1188.04 139.957 1188.04 Q143.591 1188.04 145.397 1184.5 Q147.226 1180.94 147.226 1173.83 Q147.226 1166.7 145.397 1163.16 Q143.591 1159.59 139.957 1159.59 M139.957 1155.89 Q145.767 1155.89 148.823 1160.5 Q151.902 1165.08 151.902 1173.83 Q151.902 1182.56 148.823 1187.16 Q145.767 1191.75 139.957 1191.75 Q134.147 1191.75 131.068 1187.16 Q128.013 1182.56 128.013 1173.83 Q128.013 1165.08 131.068 1160.5 Q134.147 1155.89 139.957 1155.89 Z\" fill=\"#000000\" fill-rule=\"evenodd\" fill-opacity=\"1\" /><path clip-path=\"url(#clip010)\" d=\"M188.29 1165.61 L177.712 1176.24 L188.29 1186.82 L185.536 1189.62 L174.911 1178.99 L164.286 1189.62 L161.554 1186.82 L172.11 1176.24 L161.554 1165.61 L164.286 1162.81 L174.911 1173.44 L185.536 1162.81 L188.29 1165.61 Z\" fill=\"#000000\" fill-rule=\"evenodd\" fill-opacity=\"1\" /><path clip-path=\"url(#clip010)\" d=\"M200.651 1187.14 L208.29 1187.14 L208.29 1160.77 L199.98 1162.44 L199.98 1158.18 L208.244 1156.52 L212.92 1156.52 L212.92 1187.14 L220.559 1187.14 L220.559 1191.08 L200.651 1191.08 L200.651 1187.14 Z\" fill=\"#000000\" fill-rule=\"evenodd\" fill-opacity=\"1\" /><path clip-path=\"url(#clip010)\" d=\"M240.003 1159.59 Q236.392 1159.59 234.563 1163.16 Q232.758 1166.7 232.758 1173.83 Q232.758 1180.94 234.563 1184.5 Q236.392 1188.04 240.003 1188.04 Q243.637 1188.04 245.443 1184.5 Q247.271 1180.94 247.271 1173.83 Q247.271 1166.7 245.443 1163.16 Q243.637 1159.59 240.003 1159.59 M240.003 1155.89 Q245.813 1155.89 248.869 1160.5 Q251.947 1165.08 251.947 1173.83 Q251.947 1182.56 248.869 1187.16 Q245.813 1191.75 240.003 1191.75 Q234.193 1191.75 231.114 1187.16 Q228.059 1182.56 228.059 1173.83 Q228.059 1165.08 231.114 1160.5 Q234.193 1155.89 240.003 1155.89 Z\" fill=\"#000000\" fill-rule=\"evenodd\" fill-opacity=\"1\" /><path clip-path=\"url(#clip010)\" d=\"M264.643 1148.52 Q267.37 1149.11 268.893 1150.95 Q270.435 1152.79 270.435 1155.5 Q270.435 1159.66 267.577 1161.93 Q264.718 1164.21 259.452 1164.21 Q257.684 1164.21 255.803 1163.85 Q253.941 1163.51 251.947 1162.82 L251.947 1159.15 Q253.527 1160.07 255.408 1160.54 Q257.289 1161.01 259.339 1161.01 Q262.912 1161.01 264.774 1159.6 Q266.655 1158.19 266.655 1155.5 Q266.655 1153.02 264.906 1151.63 Q263.176 1150.22 260.072 1150.22 L256.8 1150.22 L256.8 1147.1 L260.223 1147.1 Q263.025 1147.1 264.511 1145.99 Q265.997 1144.86 265.997 1142.75 Q265.997 1140.59 264.455 1139.44 Q262.931 1138.27 260.072 1138.27 Q258.511 1138.27 256.725 1138.61 Q254.938 1138.95 252.794 1139.67 L252.794 1136.28 Q254.957 1135.68 256.837 1135.38 Q258.737 1135.08 260.411 1135.08 Q264.737 1135.08 267.257 1137.05 Q269.777 1139.01 269.777 1142.36 Q269.777 1144.69 268.442 1146.31 Q267.106 1147.9 264.643 1148.52 Z\" fill=\"#000000\" fill-rule=\"evenodd\" fill-opacity=\"1\" /><path clip-path=\"url(#clip010)\" d=\"M53.3995 908.716 L61.0384 908.716 L61.0384 882.351 L52.7282 884.017 L52.7282 879.758 L60.9921 878.091 L65.668 878.091 L65.668 908.716 L73.3068 908.716 L73.3068 912.651 L53.3995 912.651 L53.3995 908.716 Z\" fill=\"#000000\" fill-rule=\"evenodd\" fill-opacity=\"1\" /><path clip-path=\"url(#clip010)\" d=\"M82.7512 906.772 L87.6354 906.772 L87.6354 912.651 L82.7512 912.651 L82.7512 906.772 Z\" fill=\"#000000\" fill-rule=\"evenodd\" fill-opacity=\"1\" /><path clip-path=\"url(#clip010)\" d=\"M107.821 881.17 Q104.209 881.17 102.381 884.735 Q100.575 888.276 100.575 895.406 Q100.575 902.512 102.381 906.077 Q104.209 909.619 107.821 909.619 Q111.455 909.619 113.26 906.077 Q115.089 902.512 115.089 895.406 Q115.089 888.276 113.26 884.735 Q111.455 881.17 107.821 881.17 M107.821 877.466 Q113.631 877.466 116.686 882.073 Q119.765 886.656 119.765 895.406 Q119.765 904.133 116.686 908.739 Q113.631 913.323 107.821 913.323 Q102.01 913.323 98.9317 908.739 Q95.8761 904.133 95.8761 895.406 Q95.8761 886.656 98.9317 882.073 Q102.01 877.466 107.821 877.466 Z\" fill=\"#000000\" fill-rule=\"evenodd\" fill-opacity=\"1\" /><path clip-path=\"url(#clip010)\" d=\"M137.982 881.17 Q134.371 881.17 132.543 884.735 Q130.737 888.276 130.737 895.406 Q130.737 902.512 132.543 906.077 Q134.371 909.619 137.982 909.619 Q141.617 909.619 143.422 906.077 Q145.251 902.512 145.251 895.406 Q145.251 888.276 143.422 884.735 Q141.617 881.17 137.982 881.17 M137.982 877.466 Q143.793 877.466 146.848 882.073 Q149.927 886.656 149.927 895.406 Q149.927 904.133 146.848 908.739 Q143.793 913.323 137.982 913.323 Q132.172 913.323 129.094 908.739 Q126.038 904.133 126.038 895.406 Q126.038 886.656 129.094 882.073 Q132.172 877.466 137.982 877.466 Z\" fill=\"#000000\" fill-rule=\"evenodd\" fill-opacity=\"1\" /><path clip-path=\"url(#clip010)\" d=\"M186.315 887.189 L175.737 897.813 L186.315 908.392 L183.561 911.193 L172.936 900.568 L162.311 911.193 L159.58 908.392 L170.135 897.813 L159.58 887.189 L162.311 884.388 L172.936 895.013 L183.561 884.388 L186.315 887.189 Z\" fill=\"#000000\" fill-rule=\"evenodd\" fill-opacity=\"1\" /><path clip-path=\"url(#clip010)\" d=\"M198.677 908.716 L206.315 908.716 L206.315 882.351 L198.005 884.017 L198.005 879.758 L206.269 878.091 L210.945 878.091 L210.945 908.716 L218.584 908.716 L218.584 912.651 L198.677 912.651 L198.677 908.716 Z\" fill=\"#000000\" fill-rule=\"evenodd\" fill-opacity=\"1\" /><path clip-path=\"url(#clip010)\" d=\"M238.028 881.17 Q234.417 881.17 232.588 884.735 Q230.783 888.276 230.783 895.406 Q230.783 902.512 232.588 906.077 Q234.417 909.619 238.028 909.619 Q241.662 909.619 243.468 906.077 Q245.297 902.512 245.297 895.406 Q245.297 888.276 243.468 884.735 Q241.662 881.17 238.028 881.17 M238.028 877.466 Q243.838 877.466 246.894 882.073 Q249.973 886.656 249.973 895.406 Q249.973 904.133 246.894 908.739 Q243.838 913.323 238.028 913.323 Q232.218 913.323 229.139 908.739 Q226.084 904.133 226.084 895.406 Q226.084 886.656 229.139 882.073 Q232.218 877.466 238.028 877.466 Z\" fill=\"#000000\" fill-rule=\"evenodd\" fill-opacity=\"1\" /><path clip-path=\"url(#clip010)\" d=\"M262.649 860.471 L253.057 875.461 L262.649 875.461 L262.649 860.471 M261.652 857.161 L266.429 857.161 L266.429 875.461 L270.435 875.461 L270.435 878.621 L266.429 878.621 L266.429 885.241 L262.649 885.241 L262.649 878.621 L249.973 878.621 L249.973 874.953 L261.652 857.161 Z\" fill=\"#000000\" fill-rule=\"evenodd\" fill-opacity=\"1\" /><path clip-path=\"url(#clip010)\" d=\"M53.3995 630.292 L61.0384 630.292 L61.0384 603.927 L52.7282 605.593 L52.7282 601.334 L60.9921 599.668 L65.668 599.668 L65.668 630.292 L73.3068 630.292 L73.3068 634.228 L53.3995 634.228 L53.3995 630.292 Z\" fill=\"#000000\" fill-rule=\"evenodd\" fill-opacity=\"1\" /><path clip-path=\"url(#clip010)\" d=\"M82.7512 628.348 L87.6354 628.348 L87.6354 634.228 L82.7512 634.228 L82.7512 628.348 Z\" fill=\"#000000\" fill-rule=\"evenodd\" fill-opacity=\"1\" /><path clip-path=\"url(#clip010)\" d=\"M97.8669 599.668 L116.223 599.668 L116.223 603.603 L102.149 603.603 L102.149 612.075 Q103.168 611.728 104.186 611.566 Q105.205 611.38 106.223 611.38 Q112.01 611.38 115.39 614.552 Q118.77 617.723 118.77 623.14 Q118.77 628.718 115.297 631.82 Q111.825 634.899 105.506 634.899 Q103.33 634.899 101.061 634.528 Q98.8159 634.158 96.4085 633.417 L96.4085 628.718 Q98.4919 629.853 100.714 630.408 Q102.936 630.964 105.413 630.964 Q109.418 630.964 111.756 628.857 Q114.094 626.751 114.094 623.14 Q114.094 619.529 111.756 617.422 Q109.418 615.316 105.413 615.316 Q103.538 615.316 101.663 615.732 Q99.8113 616.149 97.8669 617.029 L97.8669 599.668 Z\" fill=\"#000000\" fill-rule=\"evenodd\" fill-opacity=\"1\" /><path clip-path=\"url(#clip010)\" d=\"M137.982 602.746 Q134.371 602.746 132.543 606.311 Q130.737 609.853 130.737 616.982 Q130.737 624.089 132.543 627.653 Q134.371 631.195 137.982 631.195 Q141.617 631.195 143.422 627.653 Q145.251 624.089 145.251 616.982 Q145.251 609.853 143.422 606.311 Q141.617 602.746 137.982 602.746 M137.982 599.043 Q143.793 599.043 146.848 603.649 Q149.927 608.232 149.927 616.982 Q149.927 625.709 146.848 630.315 Q143.793 634.899 137.982 634.899 Q132.172 634.899 129.094 630.315 Q126.038 625.709 126.038 616.982 Q126.038 608.232 129.094 603.649 Q132.172 599.043 137.982 599.043 Z\" fill=\"#000000\" fill-rule=\"evenodd\" fill-opacity=\"1\" /><path clip-path=\"url(#clip010)\" d=\"M186.315 608.765 L175.737 619.39 L186.315 629.968 L183.561 632.769 L172.936 622.144 L162.311 632.769 L159.58 629.968 L170.135 619.39 L159.58 608.765 L162.311 605.964 L172.936 616.589 L183.561 605.964 L186.315 608.765 Z\" fill=\"#000000\" fill-rule=\"evenodd\" fill-opacity=\"1\" /><path clip-path=\"url(#clip010)\" d=\"M198.677 630.292 L206.315 630.292 L206.315 603.927 L198.005 605.593 L198.005 601.334 L206.269 599.668 L210.945 599.668 L210.945 630.292 L218.584 630.292 L218.584 634.228 L198.677 634.228 L198.677 630.292 Z\" fill=\"#000000\" fill-rule=\"evenodd\" fill-opacity=\"1\" /><path clip-path=\"url(#clip010)\" d=\"M238.028 602.746 Q234.417 602.746 232.588 606.311 Q230.783 609.853 230.783 616.982 Q230.783 624.089 232.588 627.653 Q234.417 631.195 238.028 631.195 Q241.662 631.195 243.468 627.653 Q245.297 624.089 245.297 616.982 Q245.297 609.853 243.468 606.311 Q241.662 602.746 238.028 602.746 M238.028 599.043 Q243.838 599.043 246.894 603.649 Q249.973 608.232 249.973 616.982 Q249.973 625.709 246.894 630.315 Q243.838 634.899 238.028 634.899 Q232.218 634.899 229.139 630.315 Q226.084 625.709 226.084 616.982 Q226.084 608.232 229.139 603.649 Q232.218 599.043 238.028 599.043 Z\" fill=\"#000000\" fill-rule=\"evenodd\" fill-opacity=\"1\" /><path clip-path=\"url(#clip010)\" d=\"M262.649 582.047 L253.057 597.037 L262.649 597.037 L262.649 582.047 M261.652 578.737 L266.429 578.737 L266.429 597.037 L270.435 597.037 L270.435 600.197 L266.429 600.197 L266.429 606.817 L262.649 606.817 L262.649 600.197 L249.973 600.197 L249.973 596.529 L261.652 578.737 Z\" fill=\"#000000\" fill-rule=\"evenodd\" fill-opacity=\"1\" /><path clip-path=\"url(#clip010)\" d=\"M56.6171 351.869 L72.9365 351.869 L72.9365 355.804 L50.9921 355.804 L50.9921 351.869 Q53.6541 349.114 58.2375 344.484 Q62.8439 339.832 64.0245 338.489 Q66.2698 335.966 67.1494 334.23 Q68.0522 332.47 68.0522 330.781 Q68.0522 328.026 66.1078 326.29 Q64.1865 324.554 61.0847 324.554 Q58.8856 324.554 56.4319 325.318 Q54.0014 326.082 51.2236 327.633 L51.2236 322.91 Q54.0477 321.776 56.5014 321.197 Q58.955 320.619 60.9921 320.619 Q66.3624 320.619 69.5568 323.304 Q72.7513 325.989 72.7513 330.48 Q72.7513 332.609 71.9411 334.531 Q71.1541 336.429 69.0476 339.021 Q68.4689 339.693 65.367 342.91 Q62.2652 346.105 56.6171 351.869 Z\" fill=\"#000000\" fill-rule=\"evenodd\" fill-opacity=\"1\" /><path clip-path=\"url(#clip010)\" d=\"M82.7512 349.924 L87.6354 349.924 L87.6354 355.804 L82.7512 355.804 L82.7512 349.924 Z\" fill=\"#000000\" fill-rule=\"evenodd\" fill-opacity=\"1\" /><path clip-path=\"url(#clip010)\" d=\"M107.821 324.322 Q104.209 324.322 102.381 327.887 Q100.575 331.429 100.575 338.558 Q100.575 345.665 102.381 349.23 Q104.209 352.771 107.821 352.771 Q111.455 352.771 113.26 349.23 Q115.089 345.665 115.089 338.558 Q115.089 331.429 113.26 327.887 Q111.455 324.322 107.821 324.322 M107.821 320.619 Q113.631 320.619 116.686 325.225 Q119.765 329.808 119.765 338.558 Q119.765 347.285 116.686 351.892 Q113.631 356.475 107.821 356.475 Q102.01 356.475 98.9317 351.892 Q95.8761 347.285 95.8761 338.558 Q95.8761 329.808 98.9317 325.225 Q102.01 320.619 107.821 320.619 Z\" fill=\"#000000\" fill-rule=\"evenodd\" fill-opacity=\"1\" /><path clip-path=\"url(#clip010)\" d=\"M137.982 324.322 Q134.371 324.322 132.543 327.887 Q130.737 331.429 130.737 338.558 Q130.737 345.665 132.543 349.23 Q134.371 352.771 137.982 352.771 Q141.617 352.771 143.422 349.23 Q145.251 345.665 145.251 338.558 Q145.251 331.429 143.422 327.887 Q141.617 324.322 137.982 324.322 M137.982 320.619 Q143.793 320.619 146.848 325.225 Q149.927 329.808 149.927 338.558 Q149.927 347.285 146.848 351.892 Q143.793 356.475 137.982 356.475 Q132.172 356.475 129.094 351.892 Q126.038 347.285 126.038 338.558 Q126.038 329.808 129.094 325.225 Q132.172 320.619 137.982 320.619 Z\" fill=\"#000000\" fill-rule=\"evenodd\" fill-opacity=\"1\" /><path clip-path=\"url(#clip010)\" d=\"M186.315 330.341 L175.737 340.966 L186.315 351.544 L183.561 354.345 L172.936 343.72 L162.311 354.345 L159.58 351.544 L170.135 340.966 L159.58 330.341 L162.311 327.54 L172.936 338.165 L183.561 327.54 L186.315 330.341 Z\" fill=\"#000000\" fill-rule=\"evenodd\" fill-opacity=\"1\" /><path clip-path=\"url(#clip010)\" d=\"M198.677 351.869 L206.315 351.869 L206.315 325.503 L198.005 327.17 L198.005 322.91 L206.269 321.244 L210.945 321.244 L210.945 351.869 L218.584 351.869 L218.584 355.804 L198.677 355.804 L198.677 351.869 Z\" fill=\"#000000\" fill-rule=\"evenodd\" fill-opacity=\"1\" /><path clip-path=\"url(#clip010)\" d=\"M238.028 324.322 Q234.417 324.322 232.588 327.887 Q230.783 331.429 230.783 338.558 Q230.783 345.665 232.588 349.23 Q234.417 352.771 238.028 352.771 Q241.662 352.771 243.468 349.23 Q245.297 345.665 245.297 338.558 Q245.297 331.429 243.468 327.887 Q241.662 324.322 238.028 324.322 M238.028 320.619 Q243.838 320.619 246.894 325.225 Q249.973 329.808 249.973 338.558 Q249.973 347.285 246.894 351.892 Q243.838 356.475 238.028 356.475 Q232.218 356.475 229.139 351.892 Q226.084 347.285 226.084 338.558 Q226.084 329.808 229.139 325.225 Q232.218 320.619 238.028 320.619 Z\" fill=\"#000000\" fill-rule=\"evenodd\" fill-opacity=\"1\" /><path clip-path=\"url(#clip010)\" d=\"M262.649 303.623 L253.057 318.613 L262.649 318.613 L262.649 303.623 M261.652 300.313 L266.429 300.313 L266.429 318.613 L270.435 318.613 L270.435 321.773 L266.429 321.773 L266.429 328.393 L262.649 328.393 L262.649 321.773 L249.973 321.773 L249.973 318.105 L261.652 300.313 Z\" fill=\"#000000\" fill-rule=\"evenodd\" fill-opacity=\"1\" /><path clip-path=\"url(#clip010)\" d=\"M56.6171 73.4447 L72.9365 73.4447 L72.9365 77.3799 L50.9921 77.3799 L50.9921 73.4447 Q53.6541 70.6901 58.2375 66.0605 Q62.8439 61.4077 64.0245 60.0651 Q66.2698 57.542 67.1494 55.8059 Q68.0522 54.0467 68.0522 52.3569 Q68.0522 49.6022 66.1078 47.8661 Q64.1865 46.13 61.0847 46.13 Q58.8856 46.13 56.4319 46.8939 Q54.0014 47.6578 51.2236 49.2087 L51.2236 44.4865 Q54.0477 43.3523 56.5014 42.7736 Q58.955 42.1949 60.9921 42.1949 Q66.3624 42.1949 69.5568 44.88 Q72.7513 47.5652 72.7513 52.0559 Q72.7513 54.1855 71.9411 56.1068 Q71.1541 58.005 69.0476 60.5975 Q68.4689 61.2688 65.367 64.4864 Q62.2652 67.6808 56.6171 73.4447 Z\" fill=\"#000000\" fill-rule=\"evenodd\" fill-opacity=\"1\" /><path clip-path=\"url(#clip010)\" d=\"M82.7512 71.5003 L87.6354 71.5003 L87.6354 77.3799 L82.7512 77.3799 L82.7512 71.5003 Z\" fill=\"#000000\" fill-rule=\"evenodd\" fill-opacity=\"1\" /><path clip-path=\"url(#clip010)\" d=\"M97.8669 42.8199 L116.223 42.8199 L116.223 46.755 L102.149 46.755 L102.149 55.2272 Q103.168 54.88 104.186 54.718 Q105.205 54.5328 106.223 54.5328 Q112.01 54.5328 115.39 57.704 Q118.77 60.8753 118.77 66.292 Q118.77 71.8706 115.297 74.9725 Q111.825 78.0512 105.506 78.0512 Q103.33 78.0512 101.061 77.6808 Q98.8159 77.3104 96.4085 76.5697 L96.4085 71.8706 Q98.4919 73.0049 100.714 73.5604 Q102.936 74.116 105.413 74.116 Q109.418 74.116 111.756 72.0095 Q114.094 69.9031 114.094 66.292 Q114.094 62.6809 111.756 60.5744 Q109.418 58.4679 105.413 58.4679 Q103.538 58.4679 101.663 58.8846 Q99.8113 59.3013 97.8669 60.1809 L97.8669 42.8199 Z\" fill=\"#000000\" fill-rule=\"evenodd\" fill-opacity=\"1\" /><path clip-path=\"url(#clip010)\" d=\"M137.982 45.8986 Q134.371 45.8986 132.543 49.4633 Q130.737 53.005 130.737 60.1346 Q130.737 67.241 132.543 70.8058 Q134.371 74.3475 137.982 74.3475 Q141.617 74.3475 143.422 70.8058 Q145.251 67.241 145.251 60.1346 Q145.251 53.005 143.422 49.4633 Q141.617 45.8986 137.982 45.8986 M137.982 42.1949 Q143.793 42.1949 146.848 46.8013 Q149.927 51.3846 149.927 60.1346 Q149.927 68.8614 146.848 73.4678 Q143.793 78.0512 137.982 78.0512 Q132.172 78.0512 129.094 73.4678 Q126.038 68.8614 126.038 60.1346 Q126.038 51.3846 129.094 46.8013 Q132.172 42.1949 137.982 42.1949 Z\" fill=\"#000000\" fill-rule=\"evenodd\" fill-opacity=\"1\" /><path clip-path=\"url(#clip010)\" d=\"M186.315 51.917 L175.737 62.542 L186.315 73.1206 L183.561 75.9215 L172.936 65.2966 L162.311 75.9215 L159.58 73.1206 L170.135 62.542 L159.58 51.917 L162.311 49.1161 L172.936 59.7411 L183.561 49.1161 L186.315 51.917 Z\" fill=\"#000000\" fill-rule=\"evenodd\" fill-opacity=\"1\" /><path clip-path=\"url(#clip010)\" d=\"M198.677 73.4447 L206.315 73.4447 L206.315 47.0791 L198.005 48.7458 L198.005 44.4865 L206.269 42.8199 L210.945 42.8199 L210.945 73.4447 L218.584 73.4447 L218.584 77.3799 L198.677 77.3799 L198.677 73.4447 Z\" fill=\"#000000\" fill-rule=\"evenodd\" fill-opacity=\"1\" /><path clip-path=\"url(#clip010)\" d=\"M238.028 45.8986 Q234.417 45.8986 232.588 49.4633 Q230.783 53.005 230.783 60.1346 Q230.783 67.241 232.588 70.8058 Q234.417 74.3475 238.028 74.3475 Q241.662 74.3475 243.468 70.8058 Q245.297 67.241 245.297 60.1346 Q245.297 53.005 243.468 49.4633 Q241.662 45.8986 238.028 45.8986 M238.028 42.1949 Q243.838 42.1949 246.894 46.8013 Q249.973 51.3846 249.973 60.1346 Q249.973 68.8614 246.894 73.4678 Q243.838 78.0512 238.028 78.0512 Q232.218 78.0512 229.139 73.4678 Q226.084 68.8614 226.084 60.1346 Q226.084 51.3846 229.139 46.8013 Q232.218 42.1949 238.028 42.1949 Z\" fill=\"#000000\" fill-rule=\"evenodd\" fill-opacity=\"1\" /><path clip-path=\"url(#clip010)\" d=\"M262.649 25.1996 L253.057 40.1894 L262.649 40.1894 L262.649 25.1996 M261.652 21.8895 L266.429 21.8895 L266.429 40.1894 L270.435 40.1894 L270.435 43.3491 L266.429 43.3491 L266.429 49.9695 L262.649 49.9695 L262.649 43.3491 L249.973 43.3491 L249.973 39.6816 L261.652 21.8895 Z\" fill=\"#000000\" fill-rule=\"evenodd\" fill-opacity=\"1\" /><polyline clip-path=\"url(#clip012)\" style=\"stroke:#009af9; stroke-linecap:butt; stroke-linejoin:round; stroke-width:4; stroke-opacity:1; fill:none\" points=\"\n",
       "  306.435,1445.72 319.758,1445.71 442.945,1445.66 516.976,1445.62 579.568,1445.56 647.56,1445.48 710.243,1445.37 777.445,1445.21 855.306,1444.96 924.499,1444.63 \n",
       "  985.176,1444.24 1051.33,1443.65 1117.88,1442.83 1191.45,1441.56 1261.46,1439.85 1334.25,1437.32 1395.52,1434.37 1470.33,1429.33 1538.86,1422.79 1570.5,1418.95 \n",
       "  1602.15,1414.46 1634.21,1409.15 1666.26,1402.94 1702.19,1394.72 1738.11,1384.93 1770.67,1374.44 1803.22,1362.13 1821.86,1354.16 1840.5,1345.42 1859.13,1335.86 \n",
       "  1877.77,1325.38 1895.02,1314.78 1912.28,1303.26 1929.54,1290.72 1946.79,1277.08 1963.8,1262.45 1980.82,1246.56 1997.83,1229.29 2014.84,1210.53 2031.36,1190.75 \n",
       "  2047.88,1169.31 2064.39,1146.07 2080.91,1120.88 2097.84,1092.85 2114.77,1062.41 2131.71,1029.34 2148.64,993.414 2157.92,972.438 2167.19,950.488 2176.47,927.521 \n",
       "  2185.74,903.489 2195.02,878.342 2204.29,852.03 2213.57,824.497 2222.85,795.687 2236.32,751.44 2249.79,704.181 2256.53,679.359 2263.27,653.706 2270.01,627.194 \n",
       "  2276.74,599.795 2283.48,571.479 2290.22,542.215 2296.96,511.971 2303.69,480.715 2310.43,448.413 2317.17,415.03 2323.9,380.529 2330.64,344.874 2336.17,314.725 \n",
       "  2341.7,283.75 2347.23,251.927 2352.76,219.233 \n",
       "  \"/>\n",
       "<circle clip-path=\"url(#clip012)\" cx=\"306.435\" cy=\"1445.71\" r=\"14\" fill=\"#e26f46\" fill-rule=\"evenodd\" fill-opacity=\"1\" stroke=\"#000000\" stroke-opacity=\"1\" stroke-width=\"3.2\"/>\n",
       "<circle clip-path=\"url(#clip012)\" cx=\"347.362\" cy=\"1445.7\" r=\"14\" fill=\"#e26f46\" fill-rule=\"evenodd\" fill-opacity=\"1\" stroke=\"#000000\" stroke-opacity=\"1\" stroke-width=\"3.2\"/>\n",
       "<circle clip-path=\"url(#clip012)\" cx=\"388.288\" cy=\"1445.68\" r=\"14\" fill=\"#e26f46\" fill-rule=\"evenodd\" fill-opacity=\"1\" stroke=\"#000000\" stroke-opacity=\"1\" stroke-width=\"3.2\"/>\n",
       "<circle clip-path=\"url(#clip012)\" cx=\"429.215\" cy=\"1445.66\" r=\"14\" fill=\"#e26f46\" fill-rule=\"evenodd\" fill-opacity=\"1\" stroke=\"#000000\" stroke-opacity=\"1\" stroke-width=\"3.2\"/>\n",
       "<circle clip-path=\"url(#clip012)\" cx=\"470.141\" cy=\"1445.63\" r=\"14\" fill=\"#e26f46\" fill-rule=\"evenodd\" fill-opacity=\"1\" stroke=\"#000000\" stroke-opacity=\"1\" stroke-width=\"3.2\"/>\n",
       "<circle clip-path=\"url(#clip012)\" cx=\"511.067\" cy=\"1445.6\" r=\"14\" fill=\"#e26f46\" fill-rule=\"evenodd\" fill-opacity=\"1\" stroke=\"#000000\" stroke-opacity=\"1\" stroke-width=\"3.2\"/>\n",
       "<circle clip-path=\"url(#clip012)\" cx=\"551.994\" cy=\"1445.57\" r=\"14\" fill=\"#e26f46\" fill-rule=\"evenodd\" fill-opacity=\"1\" stroke=\"#000000\" stroke-opacity=\"1\" stroke-width=\"3.2\"/>\n",
       "<circle clip-path=\"url(#clip012)\" cx=\"592.92\" cy=\"1445.52\" r=\"14\" fill=\"#e26f46\" fill-rule=\"evenodd\" fill-opacity=\"1\" stroke=\"#000000\" stroke-opacity=\"1\" stroke-width=\"3.2\"/>\n",
       "<circle clip-path=\"url(#clip012)\" cx=\"633.847\" cy=\"1445.47\" r=\"14\" fill=\"#e26f46\" fill-rule=\"evenodd\" fill-opacity=\"1\" stroke=\"#000000\" stroke-opacity=\"1\" stroke-width=\"3.2\"/>\n",
       "<circle clip-path=\"url(#clip012)\" cx=\"674.773\" cy=\"1445.4\" r=\"14\" fill=\"#e26f46\" fill-rule=\"evenodd\" fill-opacity=\"1\" stroke=\"#000000\" stroke-opacity=\"1\" stroke-width=\"3.2\"/>\n",
       "<circle clip-path=\"url(#clip012)\" cx=\"715.699\" cy=\"1445.32\" r=\"14\" fill=\"#e26f46\" fill-rule=\"evenodd\" fill-opacity=\"1\" stroke=\"#000000\" stroke-opacity=\"1\" stroke-width=\"3.2\"/>\n",
       "<circle clip-path=\"url(#clip012)\" cx=\"756.626\" cy=\"1445.22\" r=\"14\" fill=\"#e26f46\" fill-rule=\"evenodd\" fill-opacity=\"1\" stroke=\"#000000\" stroke-opacity=\"1\" stroke-width=\"3.2\"/>\n",
       "<circle clip-path=\"url(#clip012)\" cx=\"797.552\" cy=\"1445.09\" r=\"14\" fill=\"#e26f46\" fill-rule=\"evenodd\" fill-opacity=\"1\" stroke=\"#000000\" stroke-opacity=\"1\" stroke-width=\"3.2\"/>\n",
       "<circle clip-path=\"url(#clip012)\" cx=\"838.479\" cy=\"1444.94\" r=\"14\" fill=\"#e26f46\" fill-rule=\"evenodd\" fill-opacity=\"1\" stroke=\"#000000\" stroke-opacity=\"1\" stroke-width=\"3.2\"/>\n",
       "<circle clip-path=\"url(#clip012)\" cx=\"879.405\" cy=\"1444.76\" r=\"14\" fill=\"#e26f46\" fill-rule=\"evenodd\" fill-opacity=\"1\" stroke=\"#000000\" stroke-opacity=\"1\" stroke-width=\"3.2\"/>\n",
       "<circle clip-path=\"url(#clip012)\" cx=\"920.332\" cy=\"1444.53\" r=\"14\" fill=\"#e26f46\" fill-rule=\"evenodd\" fill-opacity=\"1\" stroke=\"#000000\" stroke-opacity=\"1\" stroke-width=\"3.2\"/>\n",
       "<circle clip-path=\"url(#clip012)\" cx=\"961.258\" cy=\"1444.26\" r=\"14\" fill=\"#e26f46\" fill-rule=\"evenodd\" fill-opacity=\"1\" stroke=\"#000000\" stroke-opacity=\"1\" stroke-width=\"3.2\"/>\n",
       "<circle clip-path=\"url(#clip012)\" cx=\"1002.18\" cy=\"1443.92\" r=\"14\" fill=\"#e26f46\" fill-rule=\"evenodd\" fill-opacity=\"1\" stroke=\"#000000\" stroke-opacity=\"1\" stroke-width=\"3.2\"/>\n",
       "<circle clip-path=\"url(#clip012)\" cx=\"1043.11\" cy=\"1443.52\" r=\"14\" fill=\"#e26f46\" fill-rule=\"evenodd\" fill-opacity=\"1\" stroke=\"#000000\" stroke-opacity=\"1\" stroke-width=\"3.2\"/>\n",
       "<circle clip-path=\"url(#clip012)\" cx=\"1084.04\" cy=\"1443.02\" r=\"14\" fill=\"#e26f46\" fill-rule=\"evenodd\" fill-opacity=\"1\" stroke=\"#000000\" stroke-opacity=\"1\" stroke-width=\"3.2\"/>\n",
       "<circle clip-path=\"url(#clip012)\" cx=\"1124.96\" cy=\"1442.41\" r=\"14\" fill=\"#e26f46\" fill-rule=\"evenodd\" fill-opacity=\"1\" stroke=\"#000000\" stroke-opacity=\"1\" stroke-width=\"3.2\"/>\n",
       "<circle clip-path=\"url(#clip012)\" cx=\"1165.89\" cy=\"1441.66\" r=\"14\" fill=\"#e26f46\" fill-rule=\"evenodd\" fill-opacity=\"1\" stroke=\"#000000\" stroke-opacity=\"1\" stroke-width=\"3.2\"/>\n",
       "<circle clip-path=\"url(#clip012)\" cx=\"1206.82\" cy=\"1440.75\" r=\"14\" fill=\"#e26f46\" fill-rule=\"evenodd\" fill-opacity=\"1\" stroke=\"#000000\" stroke-opacity=\"1\" stroke-width=\"3.2\"/>\n",
       "<circle clip-path=\"url(#clip012)\" cx=\"1247.74\" cy=\"1439.64\" r=\"14\" fill=\"#e26f46\" fill-rule=\"evenodd\" fill-opacity=\"1\" stroke=\"#000000\" stroke-opacity=\"1\" stroke-width=\"3.2\"/>\n",
       "<circle clip-path=\"url(#clip012)\" cx=\"1288.67\" cy=\"1438.28\" r=\"14\" fill=\"#e26f46\" fill-rule=\"evenodd\" fill-opacity=\"1\" stroke=\"#000000\" stroke-opacity=\"1\" stroke-width=\"3.2\"/>\n",
       "<circle clip-path=\"url(#clip012)\" cx=\"1329.6\" cy=\"1436.62\" r=\"14\" fill=\"#e26f46\" fill-rule=\"evenodd\" fill-opacity=\"1\" stroke=\"#000000\" stroke-opacity=\"1\" stroke-width=\"3.2\"/>\n",
       "<circle clip-path=\"url(#clip012)\" cx=\"1370.52\" cy=\"1434.6\" r=\"14\" fill=\"#e26f46\" fill-rule=\"evenodd\" fill-opacity=\"1\" stroke=\"#000000\" stroke-opacity=\"1\" stroke-width=\"3.2\"/>\n",
       "<circle clip-path=\"url(#clip012)\" cx=\"1411.45\" cy=\"1432.12\" r=\"14\" fill=\"#e26f46\" fill-rule=\"evenodd\" fill-opacity=\"1\" stroke=\"#000000\" stroke-opacity=\"1\" stroke-width=\"3.2\"/>\n",
       "<circle clip-path=\"url(#clip012)\" cx=\"1452.37\" cy=\"1429.1\" r=\"14\" fill=\"#e26f46\" fill-rule=\"evenodd\" fill-opacity=\"1\" stroke=\"#000000\" stroke-opacity=\"1\" stroke-width=\"3.2\"/>\n",
       "<circle clip-path=\"url(#clip012)\" cx=\"1493.3\" cy=\"1425.41\" r=\"14\" fill=\"#e26f46\" fill-rule=\"evenodd\" fill-opacity=\"1\" stroke=\"#000000\" stroke-opacity=\"1\" stroke-width=\"3.2\"/>\n",
       "<circle clip-path=\"url(#clip012)\" cx=\"1534.23\" cy=\"1420.9\" r=\"14\" fill=\"#e26f46\" fill-rule=\"evenodd\" fill-opacity=\"1\" stroke=\"#000000\" stroke-opacity=\"1\" stroke-width=\"3.2\"/>\n",
       "<circle clip-path=\"url(#clip012)\" cx=\"1575.15\" cy=\"1415.4\" r=\"14\" fill=\"#e26f46\" fill-rule=\"evenodd\" fill-opacity=\"1\" stroke=\"#000000\" stroke-opacity=\"1\" stroke-width=\"3.2\"/>\n",
       "<circle clip-path=\"url(#clip012)\" cx=\"1616.08\" cy=\"1408.67\" r=\"14\" fill=\"#e26f46\" fill-rule=\"evenodd\" fill-opacity=\"1\" stroke=\"#000000\" stroke-opacity=\"1\" stroke-width=\"3.2\"/>\n",
       "<circle clip-path=\"url(#clip012)\" cx=\"1657.01\" cy=\"1400.46\" r=\"14\" fill=\"#e26f46\" fill-rule=\"evenodd\" fill-opacity=\"1\" stroke=\"#000000\" stroke-opacity=\"1\" stroke-width=\"3.2\"/>\n",
       "<circle clip-path=\"url(#clip012)\" cx=\"1697.93\" cy=\"1390.42\" r=\"14\" fill=\"#e26f46\" fill-rule=\"evenodd\" fill-opacity=\"1\" stroke=\"#000000\" stroke-opacity=\"1\" stroke-width=\"3.2\"/>\n",
       "<circle clip-path=\"url(#clip012)\" cx=\"1738.86\" cy=\"1378.17\" r=\"14\" fill=\"#e26f46\" fill-rule=\"evenodd\" fill-opacity=\"1\" stroke=\"#000000\" stroke-opacity=\"1\" stroke-width=\"3.2\"/>\n",
       "<circle clip-path=\"url(#clip012)\" cx=\"1779.79\" cy=\"1363.2\" r=\"14\" fill=\"#e26f46\" fill-rule=\"evenodd\" fill-opacity=\"1\" stroke=\"#000000\" stroke-opacity=\"1\" stroke-width=\"3.2\"/>\n",
       "<circle clip-path=\"url(#clip012)\" cx=\"1820.71\" cy=\"1344.92\" r=\"14\" fill=\"#e26f46\" fill-rule=\"evenodd\" fill-opacity=\"1\" stroke=\"#000000\" stroke-opacity=\"1\" stroke-width=\"3.2\"/>\n",
       "<circle clip-path=\"url(#clip012)\" cx=\"1861.64\" cy=\"1322.59\" r=\"14\" fill=\"#e26f46\" fill-rule=\"evenodd\" fill-opacity=\"1\" stroke=\"#000000\" stroke-opacity=\"1\" stroke-width=\"3.2\"/>\n",
       "<circle clip-path=\"url(#clip012)\" cx=\"1902.57\" cy=\"1295.32\" r=\"14\" fill=\"#e26f46\" fill-rule=\"evenodd\" fill-opacity=\"1\" stroke=\"#000000\" stroke-opacity=\"1\" stroke-width=\"3.2\"/>\n",
       "<circle clip-path=\"url(#clip012)\" cx=\"1943.49\" cy=\"1262.01\" r=\"14\" fill=\"#e26f46\" fill-rule=\"evenodd\" fill-opacity=\"1\" stroke=\"#000000\" stroke-opacity=\"1\" stroke-width=\"3.2\"/>\n",
       "<circle clip-path=\"url(#clip012)\" cx=\"1984.42\" cy=\"1221.33\" r=\"14\" fill=\"#e26f46\" fill-rule=\"evenodd\" fill-opacity=\"1\" stroke=\"#000000\" stroke-opacity=\"1\" stroke-width=\"3.2\"/>\n",
       "<circle clip-path=\"url(#clip012)\" cx=\"2025.34\" cy=\"1171.64\" r=\"14\" fill=\"#e26f46\" fill-rule=\"evenodd\" fill-opacity=\"1\" stroke=\"#000000\" stroke-opacity=\"1\" stroke-width=\"3.2\"/>\n",
       "<circle clip-path=\"url(#clip012)\" cx=\"2066.27\" cy=\"1110.94\" r=\"14\" fill=\"#e26f46\" fill-rule=\"evenodd\" fill-opacity=\"1\" stroke=\"#000000\" stroke-opacity=\"1\" stroke-width=\"3.2\"/>\n",
       "<circle clip-path=\"url(#clip012)\" cx=\"2107.2\" cy=\"1036.81\" r=\"14\" fill=\"#e26f46\" fill-rule=\"evenodd\" fill-opacity=\"1\" stroke=\"#000000\" stroke-opacity=\"1\" stroke-width=\"3.2\"/>\n",
       "<circle clip-path=\"url(#clip012)\" cx=\"2148.12\" cy=\"946.266\" r=\"14\" fill=\"#e26f46\" fill-rule=\"evenodd\" fill-opacity=\"1\" stroke=\"#000000\" stroke-opacity=\"1\" stroke-width=\"3.2\"/>\n",
       "<circle clip-path=\"url(#clip012)\" cx=\"2189.05\" cy=\"835.675\" r=\"14\" fill=\"#e26f46\" fill-rule=\"evenodd\" fill-opacity=\"1\" stroke=\"#000000\" stroke-opacity=\"1\" stroke-width=\"3.2\"/>\n",
       "<circle clip-path=\"url(#clip012)\" cx=\"2229.98\" cy=\"700.598\" r=\"14\" fill=\"#e26f46\" fill-rule=\"evenodd\" fill-opacity=\"1\" stroke=\"#000000\" stroke-opacity=\"1\" stroke-width=\"3.2\"/>\n",
       "<circle clip-path=\"url(#clip012)\" cx=\"2270.9\" cy=\"535.614\" r=\"14\" fill=\"#e26f46\" fill-rule=\"evenodd\" fill-opacity=\"1\" stroke=\"#000000\" stroke-opacity=\"1\" stroke-width=\"3.2\"/>\n",
       "<circle clip-path=\"url(#clip012)\" cx=\"2311.83\" cy=\"334.103\" r=\"14\" fill=\"#e26f46\" fill-rule=\"evenodd\" fill-opacity=\"1\" stroke=\"#000000\" stroke-opacity=\"1\" stroke-width=\"3.2\"/>\n",
       "<circle clip-path=\"url(#clip012)\" cx=\"2352.76\" cy=\"87.9763\" r=\"14\" fill=\"#e26f46\" fill-rule=\"evenodd\" fill-opacity=\"1\" stroke=\"#000000\" stroke-opacity=\"1\" stroke-width=\"3.2\"/>\n",
       "<circle clip-path=\"url(#clip012)\" cx=\"306.435\" cy=\"1445.72\" r=\"14\" fill=\"#3da44d\" fill-rule=\"evenodd\" fill-opacity=\"1\" stroke=\"#000000\" stroke-opacity=\"1\" stroke-width=\"3.2\"/>\n",
       "<circle clip-path=\"url(#clip012)\" cx=\"347.362\" cy=\"1445.7\" r=\"14\" fill=\"#3da44d\" fill-rule=\"evenodd\" fill-opacity=\"1\" stroke=\"#000000\" stroke-opacity=\"1\" stroke-width=\"3.2\"/>\n",
       "<circle clip-path=\"url(#clip012)\" cx=\"388.288\" cy=\"1445.69\" r=\"14\" fill=\"#3da44d\" fill-rule=\"evenodd\" fill-opacity=\"1\" stroke=\"#000000\" stroke-opacity=\"1\" stroke-width=\"3.2\"/>\n",
       "<circle clip-path=\"url(#clip012)\" cx=\"429.215\" cy=\"1445.67\" r=\"14\" fill=\"#3da44d\" fill-rule=\"evenodd\" fill-opacity=\"1\" stroke=\"#000000\" stroke-opacity=\"1\" stroke-width=\"3.2\"/>\n",
       "<circle clip-path=\"url(#clip012)\" cx=\"470.141\" cy=\"1445.65\" r=\"14\" fill=\"#3da44d\" fill-rule=\"evenodd\" fill-opacity=\"1\" stroke=\"#000000\" stroke-opacity=\"1\" stroke-width=\"3.2\"/>\n",
       "<circle clip-path=\"url(#clip012)\" cx=\"511.067\" cy=\"1445.62\" r=\"14\" fill=\"#3da44d\" fill-rule=\"evenodd\" fill-opacity=\"1\" stroke=\"#000000\" stroke-opacity=\"1\" stroke-width=\"3.2\"/>\n",
       "<circle clip-path=\"url(#clip012)\" cx=\"551.994\" cy=\"1445.59\" r=\"14\" fill=\"#3da44d\" fill-rule=\"evenodd\" fill-opacity=\"1\" stroke=\"#000000\" stroke-opacity=\"1\" stroke-width=\"3.2\"/>\n",
       "<circle clip-path=\"url(#clip012)\" cx=\"592.92\" cy=\"1445.54\" r=\"14\" fill=\"#3da44d\" fill-rule=\"evenodd\" fill-opacity=\"1\" stroke=\"#000000\" stroke-opacity=\"1\" stroke-width=\"3.2\"/>\n",
       "<circle clip-path=\"url(#clip012)\" cx=\"633.847\" cy=\"1445.49\" r=\"14\" fill=\"#3da44d\" fill-rule=\"evenodd\" fill-opacity=\"1\" stroke=\"#000000\" stroke-opacity=\"1\" stroke-width=\"3.2\"/>\n",
       "<circle clip-path=\"url(#clip012)\" cx=\"674.773\" cy=\"1445.43\" r=\"14\" fill=\"#3da44d\" fill-rule=\"evenodd\" fill-opacity=\"1\" stroke=\"#000000\" stroke-opacity=\"1\" stroke-width=\"3.2\"/>\n",
       "<circle clip-path=\"url(#clip012)\" cx=\"715.699\" cy=\"1445.36\" r=\"14\" fill=\"#3da44d\" fill-rule=\"evenodd\" fill-opacity=\"1\" stroke=\"#000000\" stroke-opacity=\"1\" stroke-width=\"3.2\"/>\n",
       "<circle clip-path=\"url(#clip012)\" cx=\"756.626\" cy=\"1445.27\" r=\"14\" fill=\"#3da44d\" fill-rule=\"evenodd\" fill-opacity=\"1\" stroke=\"#000000\" stroke-opacity=\"1\" stroke-width=\"3.2\"/>\n",
       "<circle clip-path=\"url(#clip012)\" cx=\"797.552\" cy=\"1445.15\" r=\"14\" fill=\"#3da44d\" fill-rule=\"evenodd\" fill-opacity=\"1\" stroke=\"#000000\" stroke-opacity=\"1\" stroke-width=\"3.2\"/>\n",
       "<circle clip-path=\"url(#clip012)\" cx=\"838.479\" cy=\"1445.02\" r=\"14\" fill=\"#3da44d\" fill-rule=\"evenodd\" fill-opacity=\"1\" stroke=\"#000000\" stroke-opacity=\"1\" stroke-width=\"3.2\"/>\n",
       "<circle clip-path=\"url(#clip012)\" cx=\"879.405\" cy=\"1444.85\" r=\"14\" fill=\"#3da44d\" fill-rule=\"evenodd\" fill-opacity=\"1\" stroke=\"#000000\" stroke-opacity=\"1\" stroke-width=\"3.2\"/>\n",
       "<circle clip-path=\"url(#clip012)\" cx=\"920.332\" cy=\"1444.65\" r=\"14\" fill=\"#3da44d\" fill-rule=\"evenodd\" fill-opacity=\"1\" stroke=\"#000000\" stroke-opacity=\"1\" stroke-width=\"3.2\"/>\n",
       "<circle clip-path=\"url(#clip012)\" cx=\"961.258\" cy=\"1444.4\" r=\"14\" fill=\"#3da44d\" fill-rule=\"evenodd\" fill-opacity=\"1\" stroke=\"#000000\" stroke-opacity=\"1\" stroke-width=\"3.2\"/>\n",
       "<circle clip-path=\"url(#clip012)\" cx=\"1002.18\" cy=\"1444.09\" r=\"14\" fill=\"#3da44d\" fill-rule=\"evenodd\" fill-opacity=\"1\" stroke=\"#000000\" stroke-opacity=\"1\" stroke-width=\"3.2\"/>\n",
       "<circle clip-path=\"url(#clip012)\" cx=\"1043.11\" cy=\"1443.72\" r=\"14\" fill=\"#3da44d\" fill-rule=\"evenodd\" fill-opacity=\"1\" stroke=\"#000000\" stroke-opacity=\"1\" stroke-width=\"3.2\"/>\n",
       "<circle clip-path=\"url(#clip012)\" cx=\"1084.04\" cy=\"1443.27\" r=\"14\" fill=\"#3da44d\" fill-rule=\"evenodd\" fill-opacity=\"1\" stroke=\"#000000\" stroke-opacity=\"1\" stroke-width=\"3.2\"/>\n",
       "<circle clip-path=\"url(#clip012)\" cx=\"1124.96\" cy=\"1442.71\" r=\"14\" fill=\"#3da44d\" fill-rule=\"evenodd\" fill-opacity=\"1\" stroke=\"#000000\" stroke-opacity=\"1\" stroke-width=\"3.2\"/>\n",
       "<circle clip-path=\"url(#clip012)\" cx=\"1165.89\" cy=\"1442.03\" r=\"14\" fill=\"#3da44d\" fill-rule=\"evenodd\" fill-opacity=\"1\" stroke=\"#000000\" stroke-opacity=\"1\" stroke-width=\"3.2\"/>\n",
       "<circle clip-path=\"url(#clip012)\" cx=\"1206.82\" cy=\"1441.21\" r=\"14\" fill=\"#3da44d\" fill-rule=\"evenodd\" fill-opacity=\"1\" stroke=\"#000000\" stroke-opacity=\"1\" stroke-width=\"3.2\"/>\n",
       "<circle clip-path=\"url(#clip012)\" cx=\"1247.74\" cy=\"1440.19\" r=\"14\" fill=\"#3da44d\" fill-rule=\"evenodd\" fill-opacity=\"1\" stroke=\"#000000\" stroke-opacity=\"1\" stroke-width=\"3.2\"/>\n",
       "<circle clip-path=\"url(#clip012)\" cx=\"1288.67\" cy=\"1438.96\" r=\"14\" fill=\"#3da44d\" fill-rule=\"evenodd\" fill-opacity=\"1\" stroke=\"#000000\" stroke-opacity=\"1\" stroke-width=\"3.2\"/>\n",
       "<circle clip-path=\"url(#clip012)\" cx=\"1329.6\" cy=\"1437.45\" r=\"14\" fill=\"#3da44d\" fill-rule=\"evenodd\" fill-opacity=\"1\" stroke=\"#000000\" stroke-opacity=\"1\" stroke-width=\"3.2\"/>\n",
       "<circle clip-path=\"url(#clip012)\" cx=\"1370.52\" cy=\"1435.61\" r=\"14\" fill=\"#3da44d\" fill-rule=\"evenodd\" fill-opacity=\"1\" stroke=\"#000000\" stroke-opacity=\"1\" stroke-width=\"3.2\"/>\n",
       "<circle clip-path=\"url(#clip012)\" cx=\"1411.45\" cy=\"1433.36\" r=\"14\" fill=\"#3da44d\" fill-rule=\"evenodd\" fill-opacity=\"1\" stroke=\"#000000\" stroke-opacity=\"1\" stroke-width=\"3.2\"/>\n",
       "<circle clip-path=\"url(#clip012)\" cx=\"1452.37\" cy=\"1430.61\" r=\"14\" fill=\"#3da44d\" fill-rule=\"evenodd\" fill-opacity=\"1\" stroke=\"#000000\" stroke-opacity=\"1\" stroke-width=\"3.2\"/>\n",
       "<circle clip-path=\"url(#clip012)\" cx=\"1493.3\" cy=\"1427.26\" r=\"14\" fill=\"#3da44d\" fill-rule=\"evenodd\" fill-opacity=\"1\" stroke=\"#000000\" stroke-opacity=\"1\" stroke-width=\"3.2\"/>\n",
       "<circle clip-path=\"url(#clip012)\" cx=\"1534.23\" cy=\"1423.16\" r=\"14\" fill=\"#3da44d\" fill-rule=\"evenodd\" fill-opacity=\"1\" stroke=\"#000000\" stroke-opacity=\"1\" stroke-width=\"3.2\"/>\n",
       "<circle clip-path=\"url(#clip012)\" cx=\"1575.15\" cy=\"1418.15\" r=\"14\" fill=\"#3da44d\" fill-rule=\"evenodd\" fill-opacity=\"1\" stroke=\"#000000\" stroke-opacity=\"1\" stroke-width=\"3.2\"/>\n",
       "<circle clip-path=\"url(#clip012)\" cx=\"1616.08\" cy=\"1412.03\" r=\"14\" fill=\"#3da44d\" fill-rule=\"evenodd\" fill-opacity=\"1\" stroke=\"#000000\" stroke-opacity=\"1\" stroke-width=\"3.2\"/>\n",
       "<circle clip-path=\"url(#clip012)\" cx=\"1657.01\" cy=\"1404.56\" r=\"14\" fill=\"#3da44d\" fill-rule=\"evenodd\" fill-opacity=\"1\" stroke=\"#000000\" stroke-opacity=\"1\" stroke-width=\"3.2\"/>\n",
       "<circle clip-path=\"url(#clip012)\" cx=\"1697.93\" cy=\"1395.44\" r=\"14\" fill=\"#3da44d\" fill-rule=\"evenodd\" fill-opacity=\"1\" stroke=\"#000000\" stroke-opacity=\"1\" stroke-width=\"3.2\"/>\n",
       "<circle clip-path=\"url(#clip012)\" cx=\"1738.86\" cy=\"1384.3\" r=\"14\" fill=\"#3da44d\" fill-rule=\"evenodd\" fill-opacity=\"1\" stroke=\"#000000\" stroke-opacity=\"1\" stroke-width=\"3.2\"/>\n",
       "<circle clip-path=\"url(#clip012)\" cx=\"1779.79\" cy=\"1370.69\" r=\"14\" fill=\"#3da44d\" fill-rule=\"evenodd\" fill-opacity=\"1\" stroke=\"#000000\" stroke-opacity=\"1\" stroke-width=\"3.2\"/>\n",
       "<circle clip-path=\"url(#clip012)\" cx=\"1820.71\" cy=\"1354.06\" r=\"14\" fill=\"#3da44d\" fill-rule=\"evenodd\" fill-opacity=\"1\" stroke=\"#000000\" stroke-opacity=\"1\" stroke-width=\"3.2\"/>\n",
       "<circle clip-path=\"url(#clip012)\" cx=\"1861.64\" cy=\"1333.76\" r=\"14\" fill=\"#3da44d\" fill-rule=\"evenodd\" fill-opacity=\"1\" stroke=\"#000000\" stroke-opacity=\"1\" stroke-width=\"3.2\"/>\n",
       "<circle clip-path=\"url(#clip012)\" cx=\"1902.57\" cy=\"1308.96\" r=\"14\" fill=\"#3da44d\" fill-rule=\"evenodd\" fill-opacity=\"1\" stroke=\"#000000\" stroke-opacity=\"1\" stroke-width=\"3.2\"/>\n",
       "<circle clip-path=\"url(#clip012)\" cx=\"1943.49\" cy=\"1278.67\" r=\"14\" fill=\"#3da44d\" fill-rule=\"evenodd\" fill-opacity=\"1\" stroke=\"#000000\" stroke-opacity=\"1\" stroke-width=\"3.2\"/>\n",
       "<circle clip-path=\"url(#clip012)\" cx=\"1984.42\" cy=\"1241.67\" r=\"14\" fill=\"#3da44d\" fill-rule=\"evenodd\" fill-opacity=\"1\" stroke=\"#000000\" stroke-opacity=\"1\" stroke-width=\"3.2\"/>\n",
       "<circle clip-path=\"url(#clip012)\" cx=\"2025.34\" cy=\"1196.48\" r=\"14\" fill=\"#3da44d\" fill-rule=\"evenodd\" fill-opacity=\"1\" stroke=\"#000000\" stroke-opacity=\"1\" stroke-width=\"3.2\"/>\n",
       "<circle clip-path=\"url(#clip012)\" cx=\"2066.27\" cy=\"1141.29\" r=\"14\" fill=\"#3da44d\" fill-rule=\"evenodd\" fill-opacity=\"1\" stroke=\"#000000\" stroke-opacity=\"1\" stroke-width=\"3.2\"/>\n",
       "<circle clip-path=\"url(#clip012)\" cx=\"2107.2\" cy=\"1073.88\" r=\"14\" fill=\"#3da44d\" fill-rule=\"evenodd\" fill-opacity=\"1\" stroke=\"#000000\" stroke-opacity=\"1\" stroke-width=\"3.2\"/>\n",
       "<circle clip-path=\"url(#clip012)\" cx=\"2148.12\" cy=\"991.539\" r=\"14\" fill=\"#3da44d\" fill-rule=\"evenodd\" fill-opacity=\"1\" stroke=\"#000000\" stroke-opacity=\"1\" stroke-width=\"3.2\"/>\n",
       "<circle clip-path=\"url(#clip012)\" cx=\"2189.05\" cy=\"890.971\" r=\"14\" fill=\"#3da44d\" fill-rule=\"evenodd\" fill-opacity=\"1\" stroke=\"#000000\" stroke-opacity=\"1\" stroke-width=\"3.2\"/>\n",
       "<circle clip-path=\"url(#clip012)\" cx=\"2229.98\" cy=\"768.136\" r=\"14\" fill=\"#3da44d\" fill-rule=\"evenodd\" fill-opacity=\"1\" stroke=\"#000000\" stroke-opacity=\"1\" stroke-width=\"3.2\"/>\n",
       "<circle clip-path=\"url(#clip012)\" cx=\"2270.9\" cy=\"618.106\" r=\"14\" fill=\"#3da44d\" fill-rule=\"evenodd\" fill-opacity=\"1\" stroke=\"#000000\" stroke-opacity=\"1\" stroke-width=\"3.2\"/>\n",
       "<circle clip-path=\"url(#clip012)\" cx=\"2311.83\" cy=\"434.858\" r=\"14\" fill=\"#3da44d\" fill-rule=\"evenodd\" fill-opacity=\"1\" stroke=\"#000000\" stroke-opacity=\"1\" stroke-width=\"3.2\"/>\n",
       "<circle clip-path=\"url(#clip012)\" cx=\"2352.76\" cy=\"211.04\" r=\"14\" fill=\"#3da44d\" fill-rule=\"evenodd\" fill-opacity=\"1\" stroke=\"#000000\" stroke-opacity=\"1\" stroke-width=\"3.2\"/>\n",
       "<circle clip-path=\"url(#clip012)\" cx=\"306.435\" cy=\"1445.72\" r=\"14\" fill=\"#c271d2\" fill-rule=\"evenodd\" fill-opacity=\"1\" stroke=\"#000000\" stroke-opacity=\"1\" stroke-width=\"3.2\"/>\n",
       "<circle clip-path=\"url(#clip012)\" cx=\"347.362\" cy=\"1445.7\" r=\"14\" fill=\"#c271d2\" fill-rule=\"evenodd\" fill-opacity=\"1\" stroke=\"#000000\" stroke-opacity=\"1\" stroke-width=\"3.2\"/>\n",
       "<circle clip-path=\"url(#clip012)\" cx=\"388.288\" cy=\"1445.69\" r=\"14\" fill=\"#c271d2\" fill-rule=\"evenodd\" fill-opacity=\"1\" stroke=\"#000000\" stroke-opacity=\"1\" stroke-width=\"3.2\"/>\n",
       "<circle clip-path=\"url(#clip012)\" cx=\"429.215\" cy=\"1445.67\" r=\"14\" fill=\"#c271d2\" fill-rule=\"evenodd\" fill-opacity=\"1\" stroke=\"#000000\" stroke-opacity=\"1\" stroke-width=\"3.2\"/>\n",
       "<circle clip-path=\"url(#clip012)\" cx=\"470.141\" cy=\"1445.65\" r=\"14\" fill=\"#c271d2\" fill-rule=\"evenodd\" fill-opacity=\"1\" stroke=\"#000000\" stroke-opacity=\"1\" stroke-width=\"3.2\"/>\n",
       "<circle clip-path=\"url(#clip012)\" cx=\"511.067\" cy=\"1445.62\" r=\"14\" fill=\"#c271d2\" fill-rule=\"evenodd\" fill-opacity=\"1\" stroke=\"#000000\" stroke-opacity=\"1\" stroke-width=\"3.2\"/>\n",
       "<circle clip-path=\"url(#clip012)\" cx=\"551.994\" cy=\"1445.59\" r=\"14\" fill=\"#c271d2\" fill-rule=\"evenodd\" fill-opacity=\"1\" stroke=\"#000000\" stroke-opacity=\"1\" stroke-width=\"3.2\"/>\n",
       "<circle clip-path=\"url(#clip012)\" cx=\"592.92\" cy=\"1445.55\" r=\"14\" fill=\"#c271d2\" fill-rule=\"evenodd\" fill-opacity=\"1\" stroke=\"#000000\" stroke-opacity=\"1\" stroke-width=\"3.2\"/>\n",
       "<circle clip-path=\"url(#clip012)\" cx=\"633.847\" cy=\"1445.5\" r=\"14\" fill=\"#c271d2\" fill-rule=\"evenodd\" fill-opacity=\"1\" stroke=\"#000000\" stroke-opacity=\"1\" stroke-width=\"3.2\"/>\n",
       "<circle clip-path=\"url(#clip012)\" cx=\"674.773\" cy=\"1445.43\" r=\"14\" fill=\"#c271d2\" fill-rule=\"evenodd\" fill-opacity=\"1\" stroke=\"#000000\" stroke-opacity=\"1\" stroke-width=\"3.2\"/>\n",
       "<circle clip-path=\"url(#clip012)\" cx=\"715.699\" cy=\"1445.36\" r=\"14\" fill=\"#c271d2\" fill-rule=\"evenodd\" fill-opacity=\"1\" stroke=\"#000000\" stroke-opacity=\"1\" stroke-width=\"3.2\"/>\n",
       "<circle clip-path=\"url(#clip012)\" cx=\"756.626\" cy=\"1445.27\" r=\"14\" fill=\"#c271d2\" fill-rule=\"evenodd\" fill-opacity=\"1\" stroke=\"#000000\" stroke-opacity=\"1\" stroke-width=\"3.2\"/>\n",
       "<circle clip-path=\"url(#clip012)\" cx=\"797.552\" cy=\"1445.16\" r=\"14\" fill=\"#c271d2\" fill-rule=\"evenodd\" fill-opacity=\"1\" stroke=\"#000000\" stroke-opacity=\"1\" stroke-width=\"3.2\"/>\n",
       "<circle clip-path=\"url(#clip012)\" cx=\"838.479\" cy=\"1445.02\" r=\"14\" fill=\"#c271d2\" fill-rule=\"evenodd\" fill-opacity=\"1\" stroke=\"#000000\" stroke-opacity=\"1\" stroke-width=\"3.2\"/>\n",
       "<circle clip-path=\"url(#clip012)\" cx=\"879.405\" cy=\"1444.86\" r=\"14\" fill=\"#c271d2\" fill-rule=\"evenodd\" fill-opacity=\"1\" stroke=\"#000000\" stroke-opacity=\"1\" stroke-width=\"3.2\"/>\n",
       "<circle clip-path=\"url(#clip012)\" cx=\"920.332\" cy=\"1444.65\" r=\"14\" fill=\"#c271d2\" fill-rule=\"evenodd\" fill-opacity=\"1\" stroke=\"#000000\" stroke-opacity=\"1\" stroke-width=\"3.2\"/>\n",
       "<circle clip-path=\"url(#clip012)\" cx=\"961.258\" cy=\"1444.41\" r=\"14\" fill=\"#c271d2\" fill-rule=\"evenodd\" fill-opacity=\"1\" stroke=\"#000000\" stroke-opacity=\"1\" stroke-width=\"3.2\"/>\n",
       "<circle clip-path=\"url(#clip012)\" cx=\"1002.18\" cy=\"1444.1\" r=\"14\" fill=\"#c271d2\" fill-rule=\"evenodd\" fill-opacity=\"1\" stroke=\"#000000\" stroke-opacity=\"1\" stroke-width=\"3.2\"/>\n",
       "<circle clip-path=\"url(#clip012)\" cx=\"1043.11\" cy=\"1443.73\" r=\"14\" fill=\"#c271d2\" fill-rule=\"evenodd\" fill-opacity=\"1\" stroke=\"#000000\" stroke-opacity=\"1\" stroke-width=\"3.2\"/>\n",
       "<circle clip-path=\"url(#clip012)\" cx=\"1084.04\" cy=\"1443.28\" r=\"14\" fill=\"#c271d2\" fill-rule=\"evenodd\" fill-opacity=\"1\" stroke=\"#000000\" stroke-opacity=\"1\" stroke-width=\"3.2\"/>\n",
       "<circle clip-path=\"url(#clip012)\" cx=\"1124.96\" cy=\"1442.73\" r=\"14\" fill=\"#c271d2\" fill-rule=\"evenodd\" fill-opacity=\"1\" stroke=\"#000000\" stroke-opacity=\"1\" stroke-width=\"3.2\"/>\n",
       "<circle clip-path=\"url(#clip012)\" cx=\"1165.89\" cy=\"1442.06\" r=\"14\" fill=\"#c271d2\" fill-rule=\"evenodd\" fill-opacity=\"1\" stroke=\"#000000\" stroke-opacity=\"1\" stroke-width=\"3.2\"/>\n",
       "<circle clip-path=\"url(#clip012)\" cx=\"1206.82\" cy=\"1441.24\" r=\"14\" fill=\"#c271d2\" fill-rule=\"evenodd\" fill-opacity=\"1\" stroke=\"#000000\" stroke-opacity=\"1\" stroke-width=\"3.2\"/>\n",
       "<circle clip-path=\"url(#clip012)\" cx=\"1247.74\" cy=\"1440.23\" r=\"14\" fill=\"#c271d2\" fill-rule=\"evenodd\" fill-opacity=\"1\" stroke=\"#000000\" stroke-opacity=\"1\" stroke-width=\"3.2\"/>\n",
       "<circle clip-path=\"url(#clip012)\" cx=\"1288.67\" cy=\"1439.01\" r=\"14\" fill=\"#c271d2\" fill-rule=\"evenodd\" fill-opacity=\"1\" stroke=\"#000000\" stroke-opacity=\"1\" stroke-width=\"3.2\"/>\n",
       "<circle clip-path=\"url(#clip012)\" cx=\"1329.6\" cy=\"1437.51\" r=\"14\" fill=\"#c271d2\" fill-rule=\"evenodd\" fill-opacity=\"1\" stroke=\"#000000\" stroke-opacity=\"1\" stroke-width=\"3.2\"/>\n",
       "<circle clip-path=\"url(#clip012)\" cx=\"1370.52\" cy=\"1435.68\" r=\"14\" fill=\"#c271d2\" fill-rule=\"evenodd\" fill-opacity=\"1\" stroke=\"#000000\" stroke-opacity=\"1\" stroke-width=\"3.2\"/>\n",
       "<circle clip-path=\"url(#clip012)\" cx=\"1411.45\" cy=\"1433.44\" r=\"14\" fill=\"#c271d2\" fill-rule=\"evenodd\" fill-opacity=\"1\" stroke=\"#000000\" stroke-opacity=\"1\" stroke-width=\"3.2\"/>\n",
       "<circle clip-path=\"url(#clip012)\" cx=\"1452.37\" cy=\"1430.71\" r=\"14\" fill=\"#c271d2\" fill-rule=\"evenodd\" fill-opacity=\"1\" stroke=\"#000000\" stroke-opacity=\"1\" stroke-width=\"3.2\"/>\n",
       "<circle clip-path=\"url(#clip012)\" cx=\"1493.3\" cy=\"1427.38\" r=\"14\" fill=\"#c271d2\" fill-rule=\"evenodd\" fill-opacity=\"1\" stroke=\"#000000\" stroke-opacity=\"1\" stroke-width=\"3.2\"/>\n",
       "<circle clip-path=\"url(#clip012)\" cx=\"1534.23\" cy=\"1423.31\" r=\"14\" fill=\"#c271d2\" fill-rule=\"evenodd\" fill-opacity=\"1\" stroke=\"#000000\" stroke-opacity=\"1\" stroke-width=\"3.2\"/>\n",
       "<circle clip-path=\"url(#clip012)\" cx=\"1575.15\" cy=\"1418.33\" r=\"14\" fill=\"#c271d2\" fill-rule=\"evenodd\" fill-opacity=\"1\" stroke=\"#000000\" stroke-opacity=\"1\" stroke-width=\"3.2\"/>\n",
       "<circle clip-path=\"url(#clip012)\" cx=\"1616.08\" cy=\"1412.26\" r=\"14\" fill=\"#c271d2\" fill-rule=\"evenodd\" fill-opacity=\"1\" stroke=\"#000000\" stroke-opacity=\"1\" stroke-width=\"3.2\"/>\n",
       "<circle clip-path=\"url(#clip012)\" cx=\"1657.01\" cy=\"1404.84\" r=\"14\" fill=\"#c271d2\" fill-rule=\"evenodd\" fill-opacity=\"1\" stroke=\"#000000\" stroke-opacity=\"1\" stroke-width=\"3.2\"/>\n",
       "<circle clip-path=\"url(#clip012)\" cx=\"1697.93\" cy=\"1395.78\" r=\"14\" fill=\"#c271d2\" fill-rule=\"evenodd\" fill-opacity=\"1\" stroke=\"#000000\" stroke-opacity=\"1\" stroke-width=\"3.2\"/>\n",
       "<circle clip-path=\"url(#clip012)\" cx=\"1738.86\" cy=\"1384.71\" r=\"14\" fill=\"#c271d2\" fill-rule=\"evenodd\" fill-opacity=\"1\" stroke=\"#000000\" stroke-opacity=\"1\" stroke-width=\"3.2\"/>\n",
       "<circle clip-path=\"url(#clip012)\" cx=\"1779.79\" cy=\"1371.19\" r=\"14\" fill=\"#c271d2\" fill-rule=\"evenodd\" fill-opacity=\"1\" stroke=\"#000000\" stroke-opacity=\"1\" stroke-width=\"3.2\"/>\n",
       "<circle clip-path=\"url(#clip012)\" cx=\"1820.71\" cy=\"1354.68\" r=\"14\" fill=\"#c271d2\" fill-rule=\"evenodd\" fill-opacity=\"1\" stroke=\"#000000\" stroke-opacity=\"1\" stroke-width=\"3.2\"/>\n",
       "<circle clip-path=\"url(#clip012)\" cx=\"1861.64\" cy=\"1334.51\" r=\"14\" fill=\"#c271d2\" fill-rule=\"evenodd\" fill-opacity=\"1\" stroke=\"#000000\" stroke-opacity=\"1\" stroke-width=\"3.2\"/>\n",
       "<circle clip-path=\"url(#clip012)\" cx=\"1902.57\" cy=\"1309.87\" r=\"14\" fill=\"#c271d2\" fill-rule=\"evenodd\" fill-opacity=\"1\" stroke=\"#000000\" stroke-opacity=\"1\" stroke-width=\"3.2\"/>\n",
       "<circle clip-path=\"url(#clip012)\" cx=\"1943.49\" cy=\"1279.79\" r=\"14\" fill=\"#c271d2\" fill-rule=\"evenodd\" fill-opacity=\"1\" stroke=\"#000000\" stroke-opacity=\"1\" stroke-width=\"3.2\"/>\n",
       "<circle clip-path=\"url(#clip012)\" cx=\"1984.42\" cy=\"1243.04\" r=\"14\" fill=\"#c271d2\" fill-rule=\"evenodd\" fill-opacity=\"1\" stroke=\"#000000\" stroke-opacity=\"1\" stroke-width=\"3.2\"/>\n",
       "<circle clip-path=\"url(#clip012)\" cx=\"2025.34\" cy=\"1198.15\" r=\"14\" fill=\"#c271d2\" fill-rule=\"evenodd\" fill-opacity=\"1\" stroke=\"#000000\" stroke-opacity=\"1\" stroke-width=\"3.2\"/>\n",
       "<circle clip-path=\"url(#clip012)\" cx=\"2066.27\" cy=\"1143.33\" r=\"14\" fill=\"#c271d2\" fill-rule=\"evenodd\" fill-opacity=\"1\" stroke=\"#000000\" stroke-opacity=\"1\" stroke-width=\"3.2\"/>\n",
       "<circle clip-path=\"url(#clip012)\" cx=\"2107.2\" cy=\"1076.36\" r=\"14\" fill=\"#c271d2\" fill-rule=\"evenodd\" fill-opacity=\"1\" stroke=\"#000000\" stroke-opacity=\"1\" stroke-width=\"3.2\"/>\n",
       "<circle clip-path=\"url(#clip012)\" cx=\"2148.12\" cy=\"994.577\" r=\"14\" fill=\"#c271d2\" fill-rule=\"evenodd\" fill-opacity=\"1\" stroke=\"#000000\" stroke-opacity=\"1\" stroke-width=\"3.2\"/>\n",
       "<circle clip-path=\"url(#clip012)\" cx=\"2189.05\" cy=\"894.682\" r=\"14\" fill=\"#c271d2\" fill-rule=\"evenodd\" fill-opacity=\"1\" stroke=\"#000000\" stroke-opacity=\"1\" stroke-width=\"3.2\"/>\n",
       "<circle clip-path=\"url(#clip012)\" cx=\"2229.98\" cy=\"772.669\" r=\"14\" fill=\"#c271d2\" fill-rule=\"evenodd\" fill-opacity=\"1\" stroke=\"#000000\" stroke-opacity=\"1\" stroke-width=\"3.2\"/>\n",
       "<circle clip-path=\"url(#clip012)\" cx=\"2270.9\" cy=\"623.642\" r=\"14\" fill=\"#c271d2\" fill-rule=\"evenodd\" fill-opacity=\"1\" stroke=\"#000000\" stroke-opacity=\"1\" stroke-width=\"3.2\"/>\n",
       "<circle clip-path=\"url(#clip012)\" cx=\"2311.83\" cy=\"441.62\" r=\"14\" fill=\"#c271d2\" fill-rule=\"evenodd\" fill-opacity=\"1\" stroke=\"#000000\" stroke-opacity=\"1\" stroke-width=\"3.2\"/>\n",
       "<circle clip-path=\"url(#clip012)\" cx=\"2352.76\" cy=\"219.299\" r=\"14\" fill=\"#c271d2\" fill-rule=\"evenodd\" fill-opacity=\"1\" stroke=\"#000000\" stroke-opacity=\"1\" stroke-width=\"3.2\"/>\n",
       "<path clip-path=\"url(#clip010)\" d=\"\n",
       "M1620.79 354.418 L2284.55 354.418 L2284.55 95.2176 L1620.79 95.2176  Z\n",
       "  \" fill=\"#ffffff\" fill-rule=\"evenodd\" fill-opacity=\"1\"/>\n",
       "<polyline clip-path=\"url(#clip010)\" style=\"stroke:#000000; stroke-linecap:butt; stroke-linejoin:round; stroke-width:4; stroke-opacity:1; fill:none\" points=\"\n",
       "  1620.79,354.418 2284.55,354.418 2284.55,95.2176 1620.79,95.2176 1620.79,354.418 \n",
       "  \"/>\n",
       "<polyline clip-path=\"url(#clip010)\" style=\"stroke:#009af9; stroke-linecap:butt; stroke-linejoin:round; stroke-width:4; stroke-opacity:1; fill:none\" points=\"\n",
       "  1643.53,147.058 1779.95,147.058 \n",
       "  \"/>\n",
       "<path clip-path=\"url(#clip010)\" d=\"M1821.6 151.074 Q1821.6 146.444 1819.68 143.898 Q1817.78 141.352 1814.33 141.352 Q1810.9 141.352 1808.98 143.898 Q1807.08 146.444 1807.08 151.074 Q1807.08 155.68 1808.98 158.226 Q1810.9 160.773 1814.33 160.773 Q1817.78 160.773 1819.68 158.226 Q1821.6 155.68 1821.6 151.074 M1825.86 161.12 Q1825.86 167.74 1822.92 170.958 Q1819.98 174.199 1813.91 174.199 Q1811.67 174.199 1809.68 173.851 Q1807.68 173.527 1805.81 172.833 L1805.81 168.689 Q1807.68 169.708 1809.51 170.194 Q1811.34 170.68 1813.24 170.68 Q1817.43 170.68 1819.51 168.481 Q1821.6 166.305 1821.6 161.884 L1821.6 159.777 Q1820.28 162.069 1818.22 163.203 Q1816.16 164.338 1813.29 164.338 Q1808.52 164.338 1805.6 160.703 Q1802.68 157.069 1802.68 151.074 Q1802.68 145.055 1805.6 141.421 Q1808.52 137.787 1813.29 137.787 Q1816.16 137.787 1818.22 138.921 Q1820.28 140.055 1821.6 142.347 L1821.6 138.412 L1825.86 138.412 L1825.86 161.12 Z\" fill=\"#000000\" fill-rule=\"evenodd\" fill-opacity=\"1\" /><path clip-path=\"url(#clip010)\" d=\"M1838.66 129.778 L1838.66 142.625 L1834.72 142.625 L1834.72 129.778 L1838.66 129.778 Z\" fill=\"#000000\" fill-rule=\"evenodd\" fill-opacity=\"1\" /><path clip-path=\"url(#clip010)\" d=\"M1857.89 128.366 Q1854.79 133.69 1853.29 138.898 Q1851.78 144.106 1851.78 149.453 Q1851.78 154.801 1853.29 160.055 Q1854.81 165.287 1857.89 170.588 L1854.19 170.588 Q1850.72 165.148 1848.98 159.893 Q1847.27 154.639 1847.27 149.453 Q1847.27 144.291 1848.98 139.06 Q1850.69 133.828 1854.19 128.366 L1857.89 128.366 Z\" fill=\"#000000\" fill-rule=\"evenodd\" fill-opacity=\"1\" /><path clip-path=\"url(#clip010)\" d=\"M1887.71 138.412 L1878.33 151.027 L1888.19 164.338 L1883.17 164.338 L1875.62 154.152 L1868.08 164.338 L1863.05 164.338 L1873.12 150.773 L1863.91 138.412 L1868.93 138.412 L1875.81 147.648 L1882.68 138.412 L1887.71 138.412 Z\" fill=\"#000000\" fill-rule=\"evenodd\" fill-opacity=\"1\" /><path clip-path=\"url(#clip010)\" d=\"M1893.54 128.366 L1897.24 128.366 Q1900.72 133.828 1902.43 139.06 Q1904.17 144.291 1904.17 149.453 Q1904.17 154.639 1902.43 159.893 Q1900.72 165.148 1897.24 170.588 L1893.54 170.588 Q1896.62 165.287 1898.12 160.055 Q1899.65 154.801 1899.65 149.453 Q1899.65 144.106 1898.12 138.898 Q1896.62 133.69 1893.54 128.366 Z\" fill=\"#000000\" fill-rule=\"evenodd\" fill-opacity=\"1\" /><circle clip-path=\"url(#clip010)\" cx=\"1711.74\" cy=\"198.898\" r=\"23\" fill=\"#e26f46\" fill-rule=\"evenodd\" fill-opacity=\"1\" stroke=\"#000000\" stroke-opacity=\"1\" stroke-width=\"5.12\"/>\n",
       "<path clip-path=\"url(#clip010)\" d=\"M1802.68 181.618 L1807.36 181.618 L1807.36 195.784 L1824.35 195.784 L1824.35 181.618 L1829.03 181.618 L1829.03 216.178 L1824.35 216.178 L1824.35 199.719 L1807.36 199.719 L1807.36 216.178 L1802.68 216.178 L1802.68 181.618 Z\" fill=\"#000000\" fill-rule=\"evenodd\" fill-opacity=\"1\" /><path clip-path=\"url(#clip010)\" d=\"M1849.93 203.145 Q1844.77 203.145 1842.78 204.326 Q1840.79 205.506 1840.79 208.354 Q1840.79 210.622 1842.27 211.965 Q1843.77 213.284 1846.34 213.284 Q1849.88 213.284 1852.01 210.784 Q1854.17 208.261 1854.17 204.094 L1854.17 203.145 L1849.93 203.145 M1858.43 201.386 L1858.43 216.178 L1854.17 216.178 L1854.17 212.242 Q1852.71 214.603 1850.53 215.738 Q1848.36 216.849 1845.21 216.849 Q1841.23 216.849 1838.87 214.627 Q1836.53 212.381 1836.53 208.631 Q1836.53 204.256 1839.44 202.034 Q1842.38 199.812 1848.19 199.812 L1854.17 199.812 L1854.17 199.395 Q1854.17 196.455 1852.22 194.858 Q1850.3 193.238 1846.81 193.238 Q1844.58 193.238 1842.48 193.77 Q1840.37 194.303 1838.43 195.367 L1838.43 191.432 Q1840.76 190.53 1842.96 190.09 Q1845.16 189.627 1847.24 189.627 Q1852.87 189.627 1855.65 192.543 Q1858.43 195.46 1858.43 201.386 Z\" fill=\"#000000\" fill-rule=\"evenodd\" fill-opacity=\"1\" /><path clip-path=\"url(#clip010)\" d=\"M1885.86 191.247 L1885.86 195.229 Q1884.05 194.233 1882.22 193.747 Q1880.42 193.238 1878.56 193.238 Q1874.42 193.238 1872.13 195.877 Q1869.84 198.492 1869.84 203.238 Q1869.84 207.983 1872.13 210.622 Q1874.42 213.238 1878.56 213.238 Q1880.42 213.238 1882.22 212.752 Q1884.05 212.242 1885.86 211.247 L1885.86 215.182 Q1884.07 216.016 1882.15 216.432 Q1880.25 216.849 1878.1 216.849 Q1872.24 216.849 1868.8 213.168 Q1865.35 209.488 1865.35 203.238 Q1865.35 196.895 1868.82 193.261 Q1872.31 189.627 1878.38 189.627 Q1880.35 189.627 1882.22 190.043 Q1884.1 190.437 1885.86 191.247 Z\" fill=\"#000000\" fill-rule=\"evenodd\" fill-opacity=\"1\" /><path clip-path=\"url(#clip010)\" d=\"M1893.26 190.252 L1897.52 190.252 L1897.52 216.178 L1893.26 216.178 L1893.26 190.252 M1893.26 180.159 L1897.52 180.159 L1897.52 185.553 L1893.26 185.553 L1893.26 180.159 Z\" fill=\"#000000\" fill-rule=\"evenodd\" fill-opacity=\"1\" /><path clip-path=\"url(#clip010)\" d=\"M1918.22 203.145 Q1913.05 203.145 1911.06 204.326 Q1909.07 205.506 1909.07 208.354 Q1909.07 210.622 1910.55 211.965 Q1912.06 213.284 1914.63 213.284 Q1918.17 213.284 1920.3 210.784 Q1922.45 208.261 1922.45 204.094 L1922.45 203.145 L1918.22 203.145 M1926.71 201.386 L1926.71 216.178 L1922.45 216.178 L1922.45 212.242 Q1920.99 214.603 1918.82 215.738 Q1916.64 216.849 1913.49 216.849 Q1909.51 216.849 1907.15 214.627 Q1904.81 212.381 1904.81 208.631 Q1904.81 204.256 1907.73 202.034 Q1910.67 199.812 1916.48 199.812 L1922.45 199.812 L1922.45 199.395 Q1922.45 196.455 1920.51 194.858 Q1918.59 193.238 1915.09 193.238 Q1912.87 193.238 1910.76 193.77 Q1908.66 194.303 1906.71 195.367 L1906.71 191.432 Q1909.05 190.53 1911.25 190.09 Q1913.45 189.627 1915.53 189.627 Q1921.16 189.627 1923.93 192.543 Q1926.71 195.46 1926.71 201.386 Z\" fill=\"#000000\" fill-rule=\"evenodd\" fill-opacity=\"1\" /><path clip-path=\"url(#clip010)\" d=\"M1962.34 203.145 Q1957.17 203.145 1955.18 204.326 Q1953.19 205.506 1953.19 208.354 Q1953.19 210.622 1954.67 211.965 Q1956.18 213.284 1958.75 213.284 Q1962.29 213.284 1964.42 210.784 Q1966.57 208.261 1966.57 204.094 L1966.57 203.145 L1962.34 203.145 M1970.83 201.386 L1970.83 216.178 L1966.57 216.178 L1966.57 212.242 Q1965.11 214.603 1962.94 215.738 Q1960.76 216.849 1957.61 216.849 Q1953.63 216.849 1951.27 214.627 Q1948.93 212.381 1948.93 208.631 Q1948.93 204.256 1951.85 202.034 Q1954.79 199.812 1960.6 199.812 L1966.57 199.812 L1966.57 199.395 Q1966.57 196.455 1964.63 194.858 Q1962.71 193.238 1959.21 193.238 Q1956.99 193.238 1954.88 193.77 Q1952.78 194.303 1950.83 195.367 L1950.83 191.432 Q1953.17 190.53 1955.37 190.09 Q1957.57 189.627 1959.65 189.627 Q1965.28 189.627 1968.05 192.543 Q1970.83 195.46 1970.83 201.386 Z\" fill=\"#000000\" fill-rule=\"evenodd\" fill-opacity=\"1\" /><path clip-path=\"url(#clip010)\" d=\"M1996.67 194.187 L1996.67 180.159 L2000.92 180.159 L2000.92 216.178 L1996.67 216.178 L1996.67 212.289 Q1995.32 214.603 1993.26 215.738 Q1991.23 216.849 1988.36 216.849 Q1983.66 216.849 1980.69 213.099 Q1977.75 209.349 1977.75 203.238 Q1977.75 197.127 1980.69 193.377 Q1983.66 189.627 1988.36 189.627 Q1991.23 189.627 1993.26 190.761 Q1995.32 191.872 1996.67 194.187 M1982.15 203.238 Q1982.15 207.937 1984.07 210.622 Q1986.02 213.284 1989.4 213.284 Q1992.78 213.284 1994.72 210.622 Q1996.67 207.937 1996.67 203.238 Q1996.67 198.539 1994.72 195.877 Q1992.78 193.192 1989.4 193.192 Q1986.02 193.192 1984.07 195.877 Q1982.15 198.539 1982.15 203.238 Z\" fill=\"#000000\" fill-rule=\"evenodd\" fill-opacity=\"1\" /><path clip-path=\"url(#clip010)\" d=\"M2031.87 202.15 L2031.87 204.233 L2012.29 204.233 Q2012.57 208.631 2014.93 210.946 Q2017.31 213.238 2021.55 213.238 Q2024 213.238 2026.29 212.636 Q2028.61 212.034 2030.88 210.83 L2030.88 214.858 Q2028.59 215.83 2026.18 216.34 Q2023.77 216.849 2021.29 216.849 Q2015.09 216.849 2011.46 213.238 Q2007.85 209.627 2007.85 203.469 Q2007.85 197.104 2011.27 193.377 Q2014.72 189.627 2020.55 189.627 Q2025.79 189.627 2028.82 193.006 Q2031.87 196.363 2031.87 202.15 M2027.61 200.9 Q2027.57 197.405 2025.65 195.321 Q2023.75 193.238 2020.6 193.238 Q2017.04 193.238 2014.88 195.252 Q2012.75 197.266 2012.43 200.923 L2027.61 200.9 Z\" fill=\"#000000\" fill-rule=\"evenodd\" fill-opacity=\"1\" /><path clip-path=\"url(#clip010)\" d=\"M2038.86 180.159 L2043.12 180.159 L2043.12 216.178 L2038.86 216.178 L2038.86 180.159 Z\" fill=\"#000000\" fill-rule=\"evenodd\" fill-opacity=\"1\" /><path clip-path=\"url(#clip010)\" d=\"M2063.82 203.145 Q2058.66 203.145 2056.67 204.326 Q2054.67 205.506 2054.67 208.354 Q2054.67 210.622 2056.16 211.965 Q2057.66 213.284 2060.23 213.284 Q2063.77 213.284 2065.9 210.784 Q2068.05 208.261 2068.05 204.094 L2068.05 203.145 L2063.82 203.145 M2072.31 201.386 L2072.31 216.178 L2068.05 216.178 L2068.05 212.242 Q2066.6 214.603 2064.42 215.738 Q2062.24 216.849 2059.1 216.849 Q2055.11 216.849 2052.75 214.627 Q2050.42 212.381 2050.42 208.631 Q2050.42 204.256 2053.33 202.034 Q2056.27 199.812 2062.08 199.812 L2068.05 199.812 L2068.05 199.395 Q2068.05 196.455 2066.11 194.858 Q2064.19 193.238 2060.69 193.238 Q2058.47 193.238 2056.36 193.77 Q2054.26 194.303 2052.31 195.367 L2052.31 191.432 Q2054.65 190.53 2056.85 190.09 Q2059.05 189.627 2061.13 189.627 Q2066.76 189.627 2069.54 192.543 Q2072.31 195.46 2072.31 201.386 Z\" fill=\"#000000\" fill-rule=\"evenodd\" fill-opacity=\"1\" /><path clip-path=\"url(#clip010)\" d=\"M2102.64 200.529 L2102.64 216.178 L2098.38 216.178 L2098.38 200.668 Q2098.38 196.988 2096.94 195.159 Q2095.51 193.33 2092.64 193.33 Q2089.19 193.33 2087.2 195.53 Q2085.21 197.729 2085.21 201.525 L2085.21 216.178 L2080.92 216.178 L2080.92 190.252 L2085.21 190.252 L2085.21 194.28 Q2086.73 191.942 2088.79 190.784 Q2090.88 189.627 2093.59 189.627 Q2098.05 189.627 2100.35 192.405 Q2102.64 195.159 2102.64 200.529 Z\" fill=\"#000000\" fill-rule=\"evenodd\" fill-opacity=\"1\" /><path clip-path=\"url(#clip010)\" d=\"M2115.35 182.891 L2115.35 190.252 L2124.12 190.252 L2124.12 193.562 L2115.35 193.562 L2115.35 207.636 Q2115.35 210.807 2116.2 211.71 Q2117.08 212.613 2119.74 212.613 L2124.12 212.613 L2124.12 216.178 L2119.74 216.178 Q2114.81 216.178 2112.94 214.349 Q2111.06 212.497 2111.06 207.636 L2111.06 193.562 L2107.94 193.562 L2107.94 190.252 L2111.06 190.252 L2111.06 182.891 L2115.35 182.891 Z\" fill=\"#000000\" fill-rule=\"evenodd\" fill-opacity=\"1\" /><path clip-path=\"url(#clip010)\" d=\"M2151.9 202.15 L2151.9 204.233 L2132.31 204.233 Q2132.59 208.631 2134.95 210.946 Q2137.34 213.238 2141.57 213.238 Q2144.03 213.238 2146.32 212.636 Q2148.63 212.034 2150.9 210.83 L2150.9 214.858 Q2148.61 215.83 2146.2 216.34 Q2143.79 216.849 2141.32 216.849 Q2135.11 216.849 2131.48 213.238 Q2127.87 209.627 2127.87 203.469 Q2127.87 197.104 2131.29 193.377 Q2134.74 189.627 2140.58 189.627 Q2145.81 189.627 2148.84 193.006 Q2151.9 196.363 2151.9 202.15 M2147.64 200.9 Q2147.59 197.405 2145.67 195.321 Q2143.77 193.238 2140.62 193.238 Q2137.06 193.238 2134.91 195.252 Q2132.78 197.266 2132.45 200.923 L2147.64 200.9 Z\" fill=\"#000000\" fill-rule=\"evenodd\" fill-opacity=\"1\" /><circle clip-path=\"url(#clip010)\" cx=\"1711.74\" cy=\"250.738\" r=\"23\" fill=\"#3da44d\" fill-rule=\"evenodd\" fill-opacity=\"1\" stroke=\"#000000\" stroke-opacity=\"1\" stroke-width=\"5.12\"/>\n",
       "<path clip-path=\"url(#clip010)\" d=\"M1830.56 236.12 L1830.56 241.05 Q1828.19 238.851 1825.51 237.763 Q1822.85 236.675 1819.84 236.675 Q1813.91 236.675 1810.76 240.309 Q1807.62 243.92 1807.62 250.772 Q1807.62 257.601 1810.76 261.235 Q1813.91 264.846 1819.84 264.846 Q1822.85 264.846 1825.51 263.758 Q1828.19 262.67 1830.56 260.471 L1830.56 265.356 Q1828.1 267.022 1825.35 267.856 Q1822.62 268.689 1819.56 268.689 Q1811.71 268.689 1807.2 263.897 Q1802.68 259.082 1802.68 250.772 Q1802.68 242.439 1807.2 237.647 Q1811.71 232.833 1819.56 232.833 Q1822.66 232.833 1825.39 233.666 Q1828.15 234.476 1830.56 236.12 Z\" fill=\"#000000\" fill-rule=\"evenodd\" fill-opacity=\"1\" /><path clip-path=\"url(#clip010)\" d=\"M1859.77 253.99 L1859.77 256.073 L1840.18 256.073 Q1840.46 260.471 1842.82 262.786 Q1845.21 265.078 1849.44 265.078 Q1851.9 265.078 1854.19 264.476 Q1856.5 263.874 1858.77 262.67 L1858.77 266.698 Q1856.48 267.67 1854.07 268.18 Q1851.67 268.689 1849.19 268.689 Q1842.99 268.689 1839.35 265.078 Q1835.74 261.467 1835.74 255.309 Q1835.74 248.944 1839.17 245.217 Q1842.62 241.467 1848.45 241.467 Q1853.68 241.467 1856.71 244.846 Q1859.77 248.203 1859.77 253.99 M1855.51 252.74 Q1855.46 249.245 1853.54 247.161 Q1851.64 245.078 1848.49 245.078 Q1844.93 245.078 1842.78 247.092 Q1840.65 249.106 1840.32 252.763 L1855.51 252.74 Z\" fill=\"#000000\" fill-rule=\"evenodd\" fill-opacity=\"1\" /><path clip-path=\"url(#clip010)\" d=\"M1888.31 252.369 L1888.31 268.018 L1884.05 268.018 L1884.05 252.508 Q1884.05 248.828 1882.62 246.999 Q1881.18 245.17 1878.31 245.17 Q1874.86 245.17 1872.87 247.37 Q1870.88 249.569 1870.88 253.365 L1870.88 268.018 L1866.6 268.018 L1866.6 242.092 L1870.88 242.092 L1870.88 246.12 Q1872.41 243.782 1874.47 242.624 Q1876.55 241.467 1879.26 241.467 Q1883.73 241.467 1886.02 244.245 Q1888.31 246.999 1888.31 252.369 Z\" fill=\"#000000\" fill-rule=\"evenodd\" fill-opacity=\"1\" /><path clip-path=\"url(#clip010)\" d=\"M1901.02 234.731 L1901.02 242.092 L1909.79 242.092 L1909.79 245.402 L1901.02 245.402 L1901.02 259.476 Q1901.02 262.647 1901.87 263.55 Q1902.75 264.453 1905.42 264.453 L1909.79 264.453 L1909.79 268.018 L1905.42 268.018 Q1900.49 268.018 1898.61 266.189 Q1896.74 264.337 1896.74 259.476 L1896.74 245.402 L1893.61 245.402 L1893.61 242.092 L1896.74 242.092 L1896.74 234.731 L1901.02 234.731 Z\" fill=\"#000000\" fill-rule=\"evenodd\" fill-opacity=\"1\" /><path clip-path=\"url(#clip010)\" d=\"M1930.42 246.073 Q1929.7 245.657 1928.84 245.471 Q1928.01 245.263 1926.99 245.263 Q1923.38 245.263 1921.43 247.624 Q1919.51 249.962 1919.51 254.36 L1919.51 268.018 L1915.23 268.018 L1915.23 242.092 L1919.51 242.092 L1919.51 246.12 Q1920.86 243.758 1923.01 242.624 Q1925.16 241.467 1928.24 241.467 Q1928.68 241.467 1929.21 241.536 Q1929.74 241.583 1930.39 241.698 L1930.42 246.073 Z\" fill=\"#000000\" fill-rule=\"evenodd\" fill-opacity=\"1\" /><path clip-path=\"url(#clip010)\" d=\"M1946.67 254.985 Q1941.5 254.985 1939.51 256.166 Q1937.52 257.346 1937.52 260.194 Q1937.52 262.462 1939 263.805 Q1940.51 265.124 1943.08 265.124 Q1946.62 265.124 1948.75 262.624 Q1950.9 260.101 1950.9 255.934 L1950.9 254.985 L1946.67 254.985 M1955.16 253.226 L1955.16 268.018 L1950.9 268.018 L1950.9 264.082 Q1949.44 266.443 1947.27 267.578 Q1945.09 268.689 1941.94 268.689 Q1937.96 268.689 1935.6 266.467 Q1933.26 264.221 1933.26 260.471 Q1933.26 256.096 1936.18 253.874 Q1939.12 251.652 1944.93 251.652 L1950.9 251.652 L1950.9 251.235 Q1950.9 248.295 1948.96 246.698 Q1947.04 245.078 1943.54 245.078 Q1941.32 245.078 1939.21 245.61 Q1937.11 246.143 1935.16 247.207 L1935.16 243.272 Q1937.5 242.37 1939.7 241.93 Q1941.9 241.467 1943.98 241.467 Q1949.61 241.467 1952.38 244.383 Q1955.16 247.3 1955.16 253.226 Z\" fill=\"#000000\" fill-rule=\"evenodd\" fill-opacity=\"1\" /><path clip-path=\"url(#clip010)\" d=\"M1980.99 246.027 L1980.99 231.999 L1985.25 231.999 L1985.25 268.018 L1980.99 268.018 L1980.99 264.129 Q1979.65 266.443 1977.59 267.578 Q1975.55 268.689 1972.68 268.689 Q1967.98 268.689 1965.02 264.939 Q1962.08 261.189 1962.08 255.078 Q1962.08 248.967 1965.02 245.217 Q1967.98 241.467 1972.68 241.467 Q1975.55 241.467 1977.59 242.601 Q1979.65 243.712 1980.99 246.027 M1966.48 255.078 Q1966.48 259.777 1968.4 262.462 Q1970.35 265.124 1973.73 265.124 Q1977.11 265.124 1979.05 262.462 Q1980.99 259.777 1980.99 255.078 Q1980.99 250.379 1979.05 247.717 Q1977.11 245.032 1973.73 245.032 Q1970.35 245.032 1968.4 247.717 Q1966.48 250.379 1966.48 255.078 Z\" fill=\"#000000\" fill-rule=\"evenodd\" fill-opacity=\"1\" /><path clip-path=\"url(#clip010)\" d=\"M2005.81 254.985 Q2000.65 254.985 1998.66 256.166 Q1996.67 257.346 1996.67 260.194 Q1996.67 262.462 1998.15 263.805 Q1999.65 265.124 2002.22 265.124 Q2005.76 265.124 2007.89 262.624 Q2010.04 260.101 2010.04 255.934 L2010.04 254.985 L2005.81 254.985 M2014.3 253.226 L2014.3 268.018 L2010.04 268.018 L2010.04 264.082 Q2008.59 266.443 2006.41 267.578 Q2004.23 268.689 2001.09 268.689 Q1997.11 268.689 1994.74 266.467 Q1992.41 264.221 1992.41 260.471 Q1992.41 256.096 1995.32 253.874 Q1998.26 251.652 2004.07 251.652 L2010.04 251.652 L2010.04 251.235 Q2010.04 248.295 2008.1 246.698 Q2006.18 245.078 2002.68 245.078 Q2000.46 245.078 1998.36 245.61 Q1996.25 246.143 1994.3 247.207 L1994.3 243.272 Q1996.64 242.37 1998.84 241.93 Q2001.04 241.467 2003.12 241.467 Q2008.75 241.467 2011.53 244.383 Q2014.3 247.3 2014.3 253.226 Z\" fill=\"#000000\" fill-rule=\"evenodd\" fill-opacity=\"1\" /><path clip-path=\"url(#clip010)\" d=\"M2052.92 249.383 Q2056.27 250.101 2058.15 252.369 Q2060.04 254.638 2060.04 257.971 Q2060.04 263.087 2056.53 265.888 Q2053.01 268.689 2046.53 268.689 Q2044.35 268.689 2042.04 268.249 Q2039.74 267.832 2037.29 266.976 L2037.29 262.462 Q2039.23 263.596 2041.55 264.175 Q2043.86 264.754 2046.39 264.754 Q2050.79 264.754 2053.08 263.018 Q2055.39 261.281 2055.39 257.971 Q2055.39 254.916 2053.24 253.203 Q2051.11 251.467 2047.29 251.467 L2043.26 251.467 L2043.26 247.624 L2047.48 247.624 Q2050.92 247.624 2052.75 246.258 Q2054.58 244.87 2054.58 242.277 Q2054.58 239.615 2052.68 238.203 Q2050.81 236.768 2047.29 236.768 Q2045.37 236.768 2043.17 237.184 Q2040.97 237.601 2038.33 238.481 L2038.33 234.314 Q2040.99 233.573 2043.31 233.203 Q2045.65 232.833 2047.71 232.833 Q2053.03 232.833 2056.13 235.263 Q2059.23 237.67 2059.23 241.791 Q2059.23 244.661 2057.59 246.652 Q2055.95 248.62 2052.92 249.383 Z\" fill=\"#000000\" fill-rule=\"evenodd\" fill-opacity=\"1\" /><path clip-path=\"url(#clip010)\" d=\"M2087.5 264.129 L2087.5 277.879 L2083.22 277.879 L2083.22 242.092 L2087.5 242.092 L2087.5 246.027 Q2088.84 243.712 2090.88 242.601 Q2092.94 241.467 2095.79 241.467 Q2100.51 241.467 2103.45 245.217 Q2106.41 248.967 2106.41 255.078 Q2106.41 261.189 2103.45 264.939 Q2100.51 268.689 2095.79 268.689 Q2092.94 268.689 2090.88 267.578 Q2088.84 266.443 2087.5 264.129 M2101.99 255.078 Q2101.99 250.379 2100.04 247.717 Q2098.12 245.032 2094.74 245.032 Q2091.36 245.032 2089.42 247.717 Q2087.5 250.379 2087.5 255.078 Q2087.5 259.777 2089.42 262.462 Q2091.36 265.124 2094.74 265.124 Q2098.12 265.124 2100.04 262.462 Q2101.99 259.777 2101.99 255.078 Z\" fill=\"#000000\" fill-rule=\"evenodd\" fill-opacity=\"1\" /><path clip-path=\"url(#clip010)\" d=\"M2113.03 257.786 L2113.03 242.092 L2117.29 242.092 L2117.29 257.624 Q2117.29 261.305 2118.72 263.156 Q2120.16 264.985 2123.03 264.985 Q2126.48 264.985 2128.47 262.786 Q2130.48 260.587 2130.48 256.791 L2130.48 242.092 L2134.74 242.092 L2134.74 268.018 L2130.48 268.018 L2130.48 264.036 Q2128.93 266.397 2126.87 267.555 Q2124.84 268.689 2122.13 268.689 Q2117.66 268.689 2115.35 265.911 Q2113.03 263.133 2113.03 257.786 M2123.75 241.467 L2123.75 241.467 Z\" fill=\"#000000\" fill-rule=\"evenodd\" fill-opacity=\"1\" /><path clip-path=\"url(#clip010)\" d=\"M2165.07 252.369 L2165.07 268.018 L2160.81 268.018 L2160.81 252.508 Q2160.81 248.828 2159.37 246.999 Q2157.94 245.17 2155.07 245.17 Q2151.62 245.17 2149.63 247.37 Q2147.64 249.569 2147.64 253.365 L2147.64 268.018 L2143.35 268.018 L2143.35 242.092 L2147.64 242.092 L2147.64 246.12 Q2149.16 243.782 2151.22 242.624 Q2153.31 241.467 2156.02 241.467 Q2160.48 241.467 2162.78 244.245 Q2165.07 246.999 2165.07 252.369 Z\" fill=\"#000000\" fill-rule=\"evenodd\" fill-opacity=\"1\" /><path clip-path=\"url(#clip010)\" d=\"M2177.78 234.731 L2177.78 242.092 L2186.55 242.092 L2186.55 245.402 L2177.78 245.402 L2177.78 259.476 Q2177.78 262.647 2178.63 263.55 Q2179.51 264.453 2182.17 264.453 L2186.55 264.453 L2186.55 268.018 L2182.17 268.018 Q2177.24 268.018 2175.37 266.189 Q2173.49 264.337 2173.49 259.476 L2173.49 245.402 L2170.37 245.402 L2170.37 242.092 L2173.49 242.092 L2173.49 234.731 L2177.78 234.731 Z\" fill=\"#000000\" fill-rule=\"evenodd\" fill-opacity=\"1\" /><path clip-path=\"url(#clip010)\" d=\"M2202.2 245.078 Q2198.77 245.078 2196.78 247.763 Q2194.79 250.425 2194.79 255.078 Q2194.79 259.731 2196.76 262.416 Q2198.75 265.078 2202.2 265.078 Q2205.6 265.078 2207.59 262.393 Q2209.58 259.707 2209.58 255.078 Q2209.58 250.471 2207.59 247.786 Q2205.6 245.078 2202.2 245.078 M2202.2 241.467 Q2207.75 241.467 2210.92 245.078 Q2214.09 248.689 2214.09 255.078 Q2214.09 261.444 2210.92 265.078 Q2207.75 268.689 2202.2 268.689 Q2196.62 268.689 2193.45 265.078 Q2190.3 261.444 2190.3 255.078 Q2190.3 248.689 2193.45 245.078 Q2196.62 241.467 2202.2 241.467 Z\" fill=\"#000000\" fill-rule=\"evenodd\" fill-opacity=\"1\" /><path clip-path=\"url(#clip010)\" d=\"M2237.68 242.856 L2237.68 246.883 Q2235.88 245.957 2233.93 245.495 Q2231.99 245.032 2229.9 245.032 Q2226.73 245.032 2225.14 246.004 Q2223.56 246.976 2223.56 248.92 Q2223.56 250.402 2224.7 251.258 Q2225.83 252.092 2229.26 252.856 L2230.71 253.18 Q2235.25 254.152 2237.15 255.934 Q2239.07 257.694 2239.07 260.865 Q2239.07 264.476 2236.2 266.582 Q2233.35 268.689 2228.35 268.689 Q2226.27 268.689 2224 268.272 Q2221.76 267.879 2219.26 267.068 L2219.26 262.67 Q2221.62 263.897 2223.91 264.522 Q2226.2 265.124 2228.45 265.124 Q2231.46 265.124 2233.08 264.106 Q2234.7 263.064 2234.7 261.189 Q2234.7 259.453 2233.52 258.527 Q2232.36 257.601 2228.4 256.744 L2226.92 256.397 Q2222.96 255.564 2221.2 253.851 Q2219.44 252.115 2219.44 249.106 Q2219.44 245.448 2222.03 243.458 Q2224.63 241.467 2229.4 241.467 Q2231.76 241.467 2233.84 241.814 Q2235.92 242.161 2237.68 242.856 Z\" fill=\"#000000\" fill-rule=\"evenodd\" fill-opacity=\"1\" /><circle clip-path=\"url(#clip010)\" cx=\"1711.74\" cy=\"302.578\" r=\"23\" fill=\"#c271d2\" fill-rule=\"evenodd\" fill-opacity=\"1\" stroke=\"#000000\" stroke-opacity=\"1\" stroke-width=\"5.12\"/>\n",
       "<path clip-path=\"url(#clip010)\" d=\"M1830.56 287.96 L1830.56 292.89 Q1828.19 290.691 1825.51 289.603 Q1822.85 288.515 1819.84 288.515 Q1813.91 288.515 1810.76 292.149 Q1807.62 295.76 1807.62 302.612 Q1807.62 309.441 1810.76 313.075 Q1813.91 316.686 1819.84 316.686 Q1822.85 316.686 1825.51 315.598 Q1828.19 314.51 1830.56 312.311 L1830.56 317.196 Q1828.1 318.862 1825.35 319.696 Q1822.62 320.529 1819.56 320.529 Q1811.71 320.529 1807.2 315.737 Q1802.68 310.922 1802.68 302.612 Q1802.68 294.279 1807.2 289.487 Q1811.71 284.673 1819.56 284.673 Q1822.66 284.673 1825.39 285.506 Q1828.15 286.316 1830.56 287.96 Z\" fill=\"#000000\" fill-rule=\"evenodd\" fill-opacity=\"1\" /><path clip-path=\"url(#clip010)\" d=\"M1859.77 305.83 L1859.77 307.913 L1840.18 307.913 Q1840.46 312.311 1842.82 314.626 Q1845.21 316.918 1849.44 316.918 Q1851.9 316.918 1854.19 316.316 Q1856.5 315.714 1858.77 314.51 L1858.77 318.538 Q1856.48 319.51 1854.07 320.02 Q1851.67 320.529 1849.19 320.529 Q1842.99 320.529 1839.35 316.918 Q1835.74 313.307 1835.74 307.149 Q1835.74 300.784 1839.17 297.057 Q1842.62 293.307 1848.45 293.307 Q1853.68 293.307 1856.71 296.686 Q1859.77 300.043 1859.77 305.83 M1855.51 304.58 Q1855.46 301.085 1853.54 299.001 Q1851.64 296.918 1848.49 296.918 Q1844.93 296.918 1842.78 298.932 Q1840.65 300.946 1840.32 304.603 L1855.51 304.58 Z\" fill=\"#000000\" fill-rule=\"evenodd\" fill-opacity=\"1\" /><path clip-path=\"url(#clip010)\" d=\"M1888.31 304.209 L1888.31 319.858 L1884.05 319.858 L1884.05 304.348 Q1884.05 300.668 1882.62 298.839 Q1881.18 297.01 1878.31 297.01 Q1874.86 297.01 1872.87 299.21 Q1870.88 301.409 1870.88 305.205 L1870.88 319.858 L1866.6 319.858 L1866.6 293.932 L1870.88 293.932 L1870.88 297.96 Q1872.41 295.622 1874.47 294.464 Q1876.55 293.307 1879.26 293.307 Q1883.73 293.307 1886.02 296.085 Q1888.31 298.839 1888.31 304.209 Z\" fill=\"#000000\" fill-rule=\"evenodd\" fill-opacity=\"1\" /><path clip-path=\"url(#clip010)\" d=\"M1901.02 286.571 L1901.02 293.932 L1909.79 293.932 L1909.79 297.242 L1901.02 297.242 L1901.02 311.316 Q1901.02 314.487 1901.87 315.39 Q1902.75 316.293 1905.42 316.293 L1909.79 316.293 L1909.79 319.858 L1905.42 319.858 Q1900.49 319.858 1898.61 318.029 Q1896.74 316.177 1896.74 311.316 L1896.74 297.242 L1893.61 297.242 L1893.61 293.932 L1896.74 293.932 L1896.74 286.571 L1901.02 286.571 Z\" fill=\"#000000\" fill-rule=\"evenodd\" fill-opacity=\"1\" /><path clip-path=\"url(#clip010)\" d=\"M1930.42 297.913 Q1929.7 297.497 1928.84 297.311 Q1928.01 297.103 1926.99 297.103 Q1923.38 297.103 1921.43 299.464 Q1919.51 301.802 1919.51 306.2 L1919.51 319.858 L1915.23 319.858 L1915.23 293.932 L1919.51 293.932 L1919.51 297.96 Q1920.86 295.598 1923.01 294.464 Q1925.16 293.307 1928.24 293.307 Q1928.68 293.307 1929.21 293.376 Q1929.74 293.423 1930.39 293.538 L1930.42 297.913 Z\" fill=\"#000000\" fill-rule=\"evenodd\" fill-opacity=\"1\" /><path clip-path=\"url(#clip010)\" d=\"M1946.67 306.825 Q1941.5 306.825 1939.51 308.006 Q1937.52 309.186 1937.52 312.034 Q1937.52 314.302 1939 315.645 Q1940.51 316.964 1943.08 316.964 Q1946.62 316.964 1948.75 314.464 Q1950.9 311.941 1950.9 307.774 L1950.9 306.825 L1946.67 306.825 M1955.16 305.066 L1955.16 319.858 L1950.9 319.858 L1950.9 315.922 Q1949.44 318.283 1947.27 319.418 Q1945.09 320.529 1941.94 320.529 Q1937.96 320.529 1935.6 318.307 Q1933.26 316.061 1933.26 312.311 Q1933.26 307.936 1936.18 305.714 Q1939.12 303.492 1944.93 303.492 L1950.9 303.492 L1950.9 303.075 Q1950.9 300.135 1948.96 298.538 Q1947.04 296.918 1943.54 296.918 Q1941.32 296.918 1939.21 297.45 Q1937.11 297.983 1935.16 299.047 L1935.16 295.112 Q1937.5 294.21 1939.7 293.77 Q1941.9 293.307 1943.98 293.307 Q1949.61 293.307 1952.38 296.223 Q1955.16 299.14 1955.16 305.066 Z\" fill=\"#000000\" fill-rule=\"evenodd\" fill-opacity=\"1\" /><path clip-path=\"url(#clip010)\" d=\"M1980.99 297.867 L1980.99 283.839 L1985.25 283.839 L1985.25 319.858 L1980.99 319.858 L1980.99 315.969 Q1979.65 318.283 1977.59 319.418 Q1975.55 320.529 1972.68 320.529 Q1967.98 320.529 1965.02 316.779 Q1962.08 313.029 1962.08 306.918 Q1962.08 300.807 1965.02 297.057 Q1967.98 293.307 1972.68 293.307 Q1975.55 293.307 1977.59 294.441 Q1979.65 295.552 1980.99 297.867 M1966.48 306.918 Q1966.48 311.617 1968.4 314.302 Q1970.35 316.964 1973.73 316.964 Q1977.11 316.964 1979.05 314.302 Q1980.99 311.617 1980.99 306.918 Q1980.99 302.219 1979.05 299.557 Q1977.11 296.872 1973.73 296.872 Q1970.35 296.872 1968.4 299.557 Q1966.48 302.219 1966.48 306.918 Z\" fill=\"#000000\" fill-rule=\"evenodd\" fill-opacity=\"1\" /><path clip-path=\"url(#clip010)\" d=\"M2005.81 306.825 Q2000.65 306.825 1998.66 308.006 Q1996.67 309.186 1996.67 312.034 Q1996.67 314.302 1998.15 315.645 Q1999.65 316.964 2002.22 316.964 Q2005.76 316.964 2007.89 314.464 Q2010.04 311.941 2010.04 307.774 L2010.04 306.825 L2005.81 306.825 M2014.3 305.066 L2014.3 319.858 L2010.04 319.858 L2010.04 315.922 Q2008.59 318.283 2006.41 319.418 Q2004.23 320.529 2001.09 320.529 Q1997.11 320.529 1994.74 318.307 Q1992.41 316.061 1992.41 312.311 Q1992.41 307.936 1995.32 305.714 Q1998.26 303.492 2004.07 303.492 L2010.04 303.492 L2010.04 303.075 Q2010.04 300.135 2008.1 298.538 Q2006.18 296.918 2002.68 296.918 Q2000.46 296.918 1998.36 297.45 Q1996.25 297.983 1994.3 299.047 L1994.3 295.112 Q1996.64 294.21 1998.84 293.77 Q2001.04 293.307 2003.12 293.307 Q2008.75 293.307 2011.53 296.223 Q2014.3 299.14 2014.3 305.066 Z\" fill=\"#000000\" fill-rule=\"evenodd\" fill-opacity=\"1\" /><path clip-path=\"url(#clip010)\" d=\"M2038.79 285.298 L2057.15 285.298 L2057.15 289.233 L2043.08 289.233 L2043.08 297.705 Q2044.1 297.358 2045.11 297.196 Q2046.13 297.01 2047.15 297.01 Q2052.94 297.01 2056.32 300.182 Q2059.7 303.353 2059.7 308.77 Q2059.7 314.348 2056.23 317.45 Q2052.75 320.529 2046.43 320.529 Q2044.26 320.529 2041.99 320.158 Q2039.74 319.788 2037.34 319.047 L2037.34 314.348 Q2039.42 315.483 2041.64 316.038 Q2043.86 316.594 2046.34 316.594 Q2050.35 316.594 2052.68 314.487 Q2055.02 312.381 2055.02 308.77 Q2055.02 305.159 2052.68 303.052 Q2050.35 300.946 2046.34 300.946 Q2044.47 300.946 2042.59 301.362 Q2040.74 301.779 2038.79 302.659 L2038.79 285.298 Z\" fill=\"#000000\" fill-rule=\"evenodd\" fill-opacity=\"1\" /><path clip-path=\"url(#clip010)\" d=\"M2087.5 315.969 L2087.5 329.719 L2083.22 329.719 L2083.22 293.932 L2087.5 293.932 L2087.5 297.867 Q2088.84 295.552 2090.88 294.441 Q2092.94 293.307 2095.79 293.307 Q2100.51 293.307 2103.45 297.057 Q2106.41 300.807 2106.41 306.918 Q2106.41 313.029 2103.45 316.779 Q2100.51 320.529 2095.79 320.529 Q2092.94 320.529 2090.88 319.418 Q2088.84 318.283 2087.5 315.969 M2101.99 306.918 Q2101.99 302.219 2100.04 299.557 Q2098.12 296.872 2094.74 296.872 Q2091.36 296.872 2089.42 299.557 Q2087.5 302.219 2087.5 306.918 Q2087.5 311.617 2089.42 314.302 Q2091.36 316.964 2094.74 316.964 Q2098.12 316.964 2100.04 314.302 Q2101.99 311.617 2101.99 306.918 Z\" fill=\"#000000\" fill-rule=\"evenodd\" fill-opacity=\"1\" /><path clip-path=\"url(#clip010)\" d=\"M2113.03 309.626 L2113.03 293.932 L2117.29 293.932 L2117.29 309.464 Q2117.29 313.145 2118.72 314.996 Q2120.16 316.825 2123.03 316.825 Q2126.48 316.825 2128.47 314.626 Q2130.48 312.427 2130.48 308.631 L2130.48 293.932 L2134.74 293.932 L2134.74 319.858 L2130.48 319.858 L2130.48 315.876 Q2128.93 318.237 2126.87 319.395 Q2124.84 320.529 2122.13 320.529 Q2117.66 320.529 2115.35 317.751 Q2113.03 314.973 2113.03 309.626 M2123.75 293.307 L2123.75 293.307 Z\" fill=\"#000000\" fill-rule=\"evenodd\" fill-opacity=\"1\" /><path clip-path=\"url(#clip010)\" d=\"M2165.07 304.209 L2165.07 319.858 L2160.81 319.858 L2160.81 304.348 Q2160.81 300.668 2159.37 298.839 Q2157.94 297.01 2155.07 297.01 Q2151.62 297.01 2149.63 299.21 Q2147.64 301.409 2147.64 305.205 L2147.64 319.858 L2143.35 319.858 L2143.35 293.932 L2147.64 293.932 L2147.64 297.96 Q2149.16 295.622 2151.22 294.464 Q2153.31 293.307 2156.02 293.307 Q2160.48 293.307 2162.78 296.085 Q2165.07 298.839 2165.07 304.209 Z\" fill=\"#000000\" fill-rule=\"evenodd\" fill-opacity=\"1\" /><path clip-path=\"url(#clip010)\" d=\"M2177.78 286.571 L2177.78 293.932 L2186.55 293.932 L2186.55 297.242 L2177.78 297.242 L2177.78 311.316 Q2177.78 314.487 2178.63 315.39 Q2179.51 316.293 2182.17 316.293 L2186.55 316.293 L2186.55 319.858 L2182.17 319.858 Q2177.24 319.858 2175.37 318.029 Q2173.49 316.177 2173.49 311.316 L2173.49 297.242 L2170.37 297.242 L2170.37 293.932 L2173.49 293.932 L2173.49 286.571 L2177.78 286.571 Z\" fill=\"#000000\" fill-rule=\"evenodd\" fill-opacity=\"1\" /><path clip-path=\"url(#clip010)\" d=\"M2202.2 296.918 Q2198.77 296.918 2196.78 299.603 Q2194.79 302.265 2194.79 306.918 Q2194.79 311.571 2196.76 314.256 Q2198.75 316.918 2202.2 316.918 Q2205.6 316.918 2207.59 314.233 Q2209.58 311.547 2209.58 306.918 Q2209.58 302.311 2207.59 299.626 Q2205.6 296.918 2202.2 296.918 M2202.2 293.307 Q2207.75 293.307 2210.92 296.918 Q2214.09 300.529 2214.09 306.918 Q2214.09 313.284 2210.92 316.918 Q2207.75 320.529 2202.2 320.529 Q2196.62 320.529 2193.45 316.918 Q2190.3 313.284 2190.3 306.918 Q2190.3 300.529 2193.45 296.918 Q2196.62 293.307 2202.2 293.307 Z\" fill=\"#000000\" fill-rule=\"evenodd\" fill-opacity=\"1\" /><path clip-path=\"url(#clip010)\" d=\"M2237.68 294.696 L2237.68 298.723 Q2235.88 297.797 2233.93 297.335 Q2231.99 296.872 2229.9 296.872 Q2226.73 296.872 2225.14 297.844 Q2223.56 298.816 2223.56 300.76 Q2223.56 302.242 2224.7 303.098 Q2225.83 303.932 2229.26 304.696 L2230.71 305.02 Q2235.25 305.992 2237.15 307.774 Q2239.07 309.534 2239.07 312.705 Q2239.07 316.316 2236.2 318.422 Q2233.35 320.529 2228.35 320.529 Q2226.27 320.529 2224 320.112 Q2221.76 319.719 2219.26 318.908 L2219.26 314.51 Q2221.62 315.737 2223.91 316.362 Q2226.2 316.964 2228.45 316.964 Q2231.46 316.964 2233.08 315.946 Q2234.7 314.904 2234.7 313.029 Q2234.7 311.293 2233.52 310.367 Q2232.36 309.441 2228.4 308.584 L2226.92 308.237 Q2222.96 307.404 2221.2 305.691 Q2219.44 303.955 2219.44 300.946 Q2219.44 297.288 2222.03 295.298 Q2224.63 293.307 2229.4 293.307 Q2231.76 293.307 2233.84 293.654 Q2235.92 294.001 2237.68 294.696 Z\" fill=\"#000000\" fill-rule=\"evenodd\" fill-opacity=\"1\" /></svg>\n"
      ]
     },
     "execution_count": 25,
     "metadata": {},
     "output_type": "execute_result"
    }
   ],
   "source": [
    "plot(x->exp(x),label=\"g'(x)\",xlim=(0,10))\n",
    "scatter!(x,d1,label=\"Hacia adelante\")\n",
    "scatter!(x,d2,label=\"Centrada 3 puntos\")\n",
    "scatter!(x,d3,label=\"Centrada 5 puntos\")"
   ]
  },
  {
   "cell_type": "markdown",
   "metadata": {},
   "source": [
    "***3.3***"
   ]
  },
  {
   "cell_type": "code",
   "execution_count": 26,
   "metadata": {},
   "outputs": [
    {
     "data": {
      "text/plain": [
       "E3_r (generic function with 1 method)"
      ]
     },
     "execution_count": 26,
     "metadata": {},
     "output_type": "execute_result"
    }
   ],
   "source": [
    "x0=0.1\n",
    "epsilon=eps(x0)\n",
    "h=[1/10^(k) for k=0:19]\n",
    "E1_r(h)=abs(derivada_adelante(g,x0,h)-sin(x0))/(-sin(x0))\n",
    "E2_r(h)=abs(derivada_centrada_3p(g,x0,h)-sin(x0))/(-sin(x0))\n",
    "E3_r(h)=abs(derivada_centrada_5p(g,x0,h)-sin(x0))/(-sin(x0))"
   ]
  },
  {
   "cell_type": "code",
   "execution_count": 51,
   "metadata": {},
   "outputs": [
    {
     "data": {
      "image/svg+xml": [
       "<?xml version=\"1.0\" encoding=\"utf-8\"?>\n",
       "<svg xmlns=\"http://www.w3.org/2000/svg\" xmlns:xlink=\"http://www.w3.org/1999/xlink\" width=\"600\" height=\"400\" viewBox=\"0 0 2400 1600\">\n",
       "<defs>\n",
       "  <clipPath id=\"clip970\">\n",
       "    <rect x=\"0\" y=\"0\" width=\"2400\" height=\"1600\"/>\n",
       "  </clipPath>\n",
       "</defs>\n",
       "<path clip-path=\"url(#clip970)\" d=\"\n",
       "M0 1600 L2400 1600 L2400 0 L0 0  Z\n",
       "  \" fill=\"#ffffff\" fill-rule=\"evenodd\" fill-opacity=\"1\"/>\n",
       "<defs>\n",
       "  <clipPath id=\"clip971\">\n",
       "    <rect x=\"480\" y=\"0\" width=\"1681\" height=\"1600\"/>\n",
       "  </clipPath>\n",
       "</defs>\n",
       "<path clip-path=\"url(#clip970)\" d=\"\n",
       "M217.219 1474.16 L2352.76 1474.16 L2352.76 123.472 L217.219 123.472  Z\n",
       "  \" fill=\"#ffffff\" fill-rule=\"evenodd\" fill-opacity=\"1\"/>\n",
       "<defs>\n",
       "  <clipPath id=\"clip972\">\n",
       "    <rect x=\"217\" y=\"123\" width=\"2137\" height=\"1352\"/>\n",
       "  </clipPath>\n",
       "</defs>\n",
       "<polyline clip-path=\"url(#clip972)\" style=\"stroke:#000000; stroke-linecap:butt; stroke-linejoin:round; stroke-width:2; stroke-opacity:0.1; fill:none\" points=\"\n",
       "  467.39,1474.16 467.39,123.472 \n",
       "  \"/>\n",
       "<polyline clip-path=\"url(#clip972)\" style=\"stroke:#000000; stroke-linecap:butt; stroke-linejoin:round; stroke-width:2; stroke-opacity:0.1; fill:none\" points=\"\n",
       "  1140.74,1474.16 1140.74,123.472 \n",
       "  \"/>\n",
       "<polyline clip-path=\"url(#clip972)\" style=\"stroke:#000000; stroke-linecap:butt; stroke-linejoin:round; stroke-width:2; stroke-opacity:0.1; fill:none\" points=\"\n",
       "  1814.08,1474.16 1814.08,123.472 \n",
       "  \"/>\n",
       "<polyline clip-path=\"url(#clip970)\" style=\"stroke:#000000; stroke-linecap:butt; stroke-linejoin:round; stroke-width:4; stroke-opacity:1; fill:none\" points=\"\n",
       "  217.219,1474.16 2352.76,1474.16 \n",
       "  \"/>\n",
       "<path clip-path=\"url(#clip970)\" d=\"M405.158 1548.29 L412.797 1548.29 L412.797 1521.92 L404.487 1523.59 L404.487 1519.33 L412.751 1517.66 L417.427 1517.66 L417.427 1548.29 L425.066 1548.29 L425.066 1552.22 L405.158 1552.22 L405.158 1548.29 Z\" fill=\"#000000\" fill-rule=\"evenodd\" fill-opacity=\"1\" /><path clip-path=\"url(#clip970)\" d=\"M444.51 1520.74 Q440.899 1520.74 439.07 1524.31 Q437.265 1527.85 437.265 1534.98 Q437.265 1542.09 439.07 1545.65 Q440.899 1549.19 444.51 1549.19 Q448.144 1549.19 449.95 1545.65 Q451.778 1542.09 451.778 1534.98 Q451.778 1527.85 449.95 1524.31 Q448.144 1520.74 444.51 1520.74 M444.51 1517.04 Q450.32 1517.04 453.376 1521.65 Q456.454 1526.23 456.454 1534.98 Q456.454 1543.71 453.376 1548.31 Q450.32 1552.9 444.51 1552.9 Q438.7 1552.9 435.621 1548.31 Q432.566 1543.71 432.566 1534.98 Q432.566 1526.23 435.621 1521.65 Q438.7 1517.04 444.51 1517.04 Z\" fill=\"#000000\" fill-rule=\"evenodd\" fill-opacity=\"1\" /><path clip-path=\"url(#clip970)\" d=\"M456.454 1511.14 L480.566 1511.14 L480.566 1514.34 L456.454 1514.34 L456.454 1511.14 Z\" fill=\"#000000\" fill-rule=\"evenodd\" fill-opacity=\"1\" /><path clip-path=\"url(#clip970)\" d=\"M489.424 1521.62 L495.631 1521.62 L495.631 1500.19 L488.879 1501.55 L488.879 1498.09 L495.593 1496.73 L499.393 1496.73 L499.393 1521.62 L505.599 1521.62 L505.599 1524.81 L489.424 1524.81 L489.424 1521.62 Z\" fill=\"#000000\" fill-rule=\"evenodd\" fill-opacity=\"1\" /><path clip-path=\"url(#clip970)\" d=\"M513.31 1496.73 L528.225 1496.73 L528.225 1499.93 L516.79 1499.93 L516.79 1506.82 Q517.617 1506.53 518.445 1506.4 Q519.272 1506.25 520.1 1506.25 Q524.802 1506.25 527.548 1508.83 Q530.294 1511.4 530.294 1515.81 Q530.294 1520.34 527.473 1522.86 Q524.651 1525.36 519.517 1525.36 Q517.749 1525.36 515.906 1525.06 Q514.081 1524.76 512.125 1524.16 L512.125 1520.34 Q513.818 1521.26 515.624 1521.71 Q517.429 1522.16 519.442 1522.16 Q522.695 1522.16 524.595 1520.45 Q526.495 1518.74 526.495 1515.81 Q526.495 1512.87 524.595 1511.16 Q522.695 1509.45 519.442 1509.45 Q517.918 1509.45 516.395 1509.79 Q514.89 1510.13 513.31 1510.84 L513.31 1496.73 Z\" fill=\"#000000\" fill-rule=\"evenodd\" fill-opacity=\"1\" /><path clip-path=\"url(#clip970)\" d=\"M1078.1 1548.29 L1085.74 1548.29 L1085.74 1521.92 L1077.43 1523.59 L1077.43 1519.33 L1085.69 1517.66 L1090.37 1517.66 L1090.37 1548.29 L1098.01 1548.29 L1098.01 1552.22 L1078.1 1552.22 L1078.1 1548.29 Z\" fill=\"#000000\" fill-rule=\"evenodd\" fill-opacity=\"1\" /><path clip-path=\"url(#clip970)\" d=\"M1117.45 1520.74 Q1113.84 1520.74 1112.01 1524.31 Q1110.21 1527.85 1110.21 1534.98 Q1110.21 1542.09 1112.01 1545.65 Q1113.84 1549.19 1117.45 1549.19 Q1121.08 1549.19 1122.89 1545.65 Q1124.72 1542.09 1124.72 1534.98 Q1124.72 1527.85 1122.89 1524.31 Q1121.08 1520.74 1117.45 1520.74 M1117.45 1517.04 Q1123.26 1517.04 1126.32 1521.65 Q1129.39 1526.23 1129.39 1534.98 Q1129.39 1543.71 1126.32 1548.31 Q1123.26 1552.9 1117.45 1552.9 Q1111.64 1552.9 1108.56 1548.31 Q1105.51 1543.71 1105.51 1534.98 Q1105.51 1526.23 1108.56 1521.65 Q1111.64 1517.04 1117.45 1517.04 Z\" fill=\"#000000\" fill-rule=\"evenodd\" fill-opacity=\"1\" /><path clip-path=\"url(#clip970)\" d=\"M1129.39 1511.14 L1153.51 1511.14 L1153.51 1514.34 L1129.39 1514.34 L1129.39 1511.14 Z\" fill=\"#000000\" fill-rule=\"evenodd\" fill-opacity=\"1\" /><path clip-path=\"url(#clip970)\" d=\"M1162.36 1521.62 L1168.57 1521.62 L1168.57 1500.19 L1161.82 1501.55 L1161.82 1498.09 L1168.53 1496.73 L1172.33 1496.73 L1172.33 1521.62 L1178.54 1521.62 L1178.54 1524.81 L1162.36 1524.81 L1162.36 1521.62 Z\" fill=\"#000000\" fill-rule=\"evenodd\" fill-opacity=\"1\" /><path clip-path=\"url(#clip970)\" d=\"M1194.34 1499.24 Q1191.4 1499.24 1189.92 1502.13 Q1188.45 1505.01 1188.45 1510.8 Q1188.45 1516.58 1189.92 1519.47 Q1191.4 1522.35 1194.34 1522.35 Q1197.29 1522.35 1198.76 1519.47 Q1200.24 1516.58 1200.24 1510.8 Q1200.24 1505.01 1198.76 1502.13 Q1197.29 1499.24 1194.34 1499.24 M1194.34 1496.23 Q1199.06 1496.23 1201.54 1499.97 Q1204.04 1503.69 1204.04 1510.8 Q1204.04 1517.89 1201.54 1521.64 Q1199.06 1525.36 1194.34 1525.36 Q1189.62 1525.36 1187.12 1521.64 Q1184.63 1517.89 1184.63 1510.8 Q1184.63 1503.69 1187.12 1499.97 Q1189.62 1496.23 1194.34 1496.23 Z\" fill=\"#000000\" fill-rule=\"evenodd\" fill-opacity=\"1\" /><path clip-path=\"url(#clip970)\" d=\"M1764.1 1548.29 L1771.74 1548.29 L1771.74 1521.92 L1763.43 1523.59 L1763.43 1519.33 L1771.69 1517.66 L1776.37 1517.66 L1776.37 1548.29 L1784.01 1548.29 L1784.01 1552.22 L1764.1 1552.22 L1764.1 1548.29 Z\" fill=\"#000000\" fill-rule=\"evenodd\" fill-opacity=\"1\" /><path clip-path=\"url(#clip970)\" d=\"M1803.45 1520.74 Q1799.84 1520.74 1798.01 1524.31 Q1796.21 1527.85 1796.21 1534.98 Q1796.21 1542.09 1798.01 1545.65 Q1799.84 1549.19 1803.45 1549.19 Q1807.09 1549.19 1808.89 1545.65 Q1810.72 1542.09 1810.72 1534.98 Q1810.72 1527.85 1808.89 1524.31 Q1807.09 1520.74 1803.45 1520.74 M1803.45 1517.04 Q1809.26 1517.04 1812.32 1521.65 Q1815.4 1526.23 1815.4 1534.98 Q1815.4 1543.71 1812.32 1548.31 Q1809.26 1552.9 1803.45 1552.9 Q1797.64 1552.9 1794.56 1548.31 Q1791.51 1543.71 1791.51 1534.98 Q1791.51 1526.23 1794.56 1521.65 Q1797.64 1517.04 1803.45 1517.04 Z\" fill=\"#000000\" fill-rule=\"evenodd\" fill-opacity=\"1\" /><path clip-path=\"url(#clip970)\" d=\"M1815.4 1511.14 L1839.51 1511.14 L1839.51 1514.34 L1815.4 1514.34 L1815.4 1511.14 Z\" fill=\"#000000\" fill-rule=\"evenodd\" fill-opacity=\"1\" /><path clip-path=\"url(#clip970)\" d=\"M1847.75 1496.73 L1862.66 1496.73 L1862.66 1499.93 L1851.23 1499.93 L1851.23 1506.82 Q1852.05 1506.53 1852.88 1506.4 Q1853.71 1506.25 1854.54 1506.25 Q1859.24 1506.25 1861.98 1508.83 Q1864.73 1511.4 1864.73 1515.81 Q1864.73 1520.34 1861.91 1522.86 Q1859.09 1525.36 1853.95 1525.36 Q1852.19 1525.36 1850.34 1525.06 Q1848.52 1524.76 1846.56 1524.16 L1846.56 1520.34 Q1848.25 1521.26 1850.06 1521.71 Q1851.87 1522.16 1853.88 1522.16 Q1857.13 1522.16 1859.03 1520.45 Q1860.93 1518.74 1860.93 1515.81 Q1860.93 1512.87 1859.03 1511.16 Q1857.13 1509.45 1853.88 1509.45 Q1852.35 1509.45 1850.83 1509.79 Q1849.33 1510.13 1847.75 1510.84 L1847.75 1496.73 Z\" fill=\"#000000\" fill-rule=\"evenodd\" fill-opacity=\"1\" /><polyline clip-path=\"url(#clip972)\" style=\"stroke:#000000; stroke-linecap:butt; stroke-linejoin:round; stroke-width:2; stroke-opacity:0.1; fill:none\" points=\"\n",
       "  217.219,123.472 2352.76,123.472 \n",
       "  \"/>\n",
       "<polyline clip-path=\"url(#clip970)\" style=\"stroke:#000000; stroke-linecap:butt; stroke-linejoin:round; stroke-width:4; stroke-opacity:1; fill:none\" points=\"\n",
       "  217.219,1474.16 217.219,123.472 \n",
       "  \"/>\n",
       "<polyline clip-path=\"url(#clip970)\" style=\"stroke:#000000; stroke-linecap:butt; stroke-linejoin:round; stroke-width:4; stroke-opacity:1; fill:none\" points=\"\n",
       "  217.219,123.472 236.116,123.472 \n",
       "  \"/>\n",
       "<path clip-path=\"url(#clip970)\" d=\"M-nan -nan L-nan -nan L-nan -nan L-nan -nan L-nan -nan L-nan -nan L-nan -nan L-nan -nan L-nan -nan L-nan -nan L-nan -nan L-nan -nan Z\" fill=\"#000000\" fill-rule=\"evenodd\" fill-opacity=\"1\" /><path clip-path=\"url(#clip970)\" d=\"M-nan -nan Q-nan -nan -nan -nan Q-nan -nan -nan -nan Q-nan -nan -nan -nan Q-nan -nan -nan -nan Q-nan -nan -nan -nan Q-nan -nan -nan -nan Q-nan -nan -nan -nan Q-nan -nan -nan -nan M-nan -nan Q-nan -nan -nan -nan Q-nan -nan -nan -nan Q-nan -nan -nan -nan Q-nan -nan -nan -nan Q-nan -nan -nan -nan Q-nan -nan -nan -nan Q-nan -nan -nan -nan Q-nan -nan -nan -nan Z\" fill=\"#000000\" fill-rule=\"evenodd\" fill-opacity=\"1\" /><path clip-path=\"url(#clip970)\" d=\"M-nan -nan L-nan -nan L-nan -nan L-nan -nan L-nan -nan L-nan -nan L-nan -nan L-nan -nan L-nan -nan L-nan -nan L-nan -nan Z\" fill=\"#000000\" fill-rule=\"evenodd\" fill-opacity=\"1\" /><path clip-path=\"url(#clip970)\" d=\"M-nan -nan Q-nan -nan -nan -nan Q-nan -nan -nan -nan Q-nan -nan -nan -nan Q-nan -nan -nan -nan Q-nan -nan -nan -nan Q-nan -nan -nan -nan L-nan -nan L-nan -nan M-nan -nan L-nan -nan L-nan -nan L-nan -nan Q-nan -nan -nan -nan Q-nan -nan -nan -nan Q-nan -nan -nan -nan Q-nan -nan -nan -nan Q-nan -nan -nan -nan Q-nan -nan -nan -nan L-nan -nan L-nan -nan Q-nan -nan -nan -nan Q-nan -nan -nan -nan Q-nan -nan -nan -nan Q-nan -nan -nan -nan L-nan -nan Q-nan -nan -nan -nan Q-nan -nan -nan -nan Q-nan -nan -nan -nan Q-nan -nan -nan -nan Z\" fill=\"#000000\" fill-rule=\"evenodd\" fill-opacity=\"1\" /><path clip-path=\"url(#clip970)\" d=\"M-nan -nan L-nan -nan L-nan -nan L-nan -nan L-nan -nan L-nan -nan L-nan -nan L-nan -nan L-nan -nan L-nan -nan L-nan -nan Z\" fill=\"#000000\" fill-rule=\"evenodd\" fill-opacity=\"1\" /><path clip-path=\"url(#clip970)\" d=\"M51.6634 143.265 L59.3023 143.265 L59.3023 116.899 L50.9921 118.566 L50.9921 114.306 L59.256 112.64 L63.9319 112.64 L63.9319 143.265 L71.5707 143.265 L71.5707 147.2 L51.6634 147.2 L51.6634 143.265 Z\" fill=\"#000000\" fill-rule=\"evenodd\" fill-opacity=\"1\" /><path clip-path=\"url(#clip970)\" d=\"M91.0151 115.718 Q87.404 115.718 85.5753 119.283 Q83.7697 122.825 83.7697 129.954 Q83.7697 137.061 85.5753 140.626 Q87.404 144.167 91.0151 144.167 Q94.6493 144.167 96.4548 140.626 Q98.2835 137.061 98.2835 129.954 Q98.2835 122.825 96.4548 119.283 Q94.6493 115.718 91.0151 115.718 M91.0151 112.015 Q96.8252 112.015 99.8808 116.621 Q102.959 121.204 102.959 129.954 Q102.959 138.681 99.8808 143.288 Q96.8252 147.871 91.0151 147.871 Q85.2049 147.871 82.1262 143.288 Q79.0707 138.681 79.0707 129.954 Q79.0707 121.204 82.1262 116.621 Q85.2049 112.015 91.0151 112.015 Z\" fill=\"#000000\" fill-rule=\"evenodd\" fill-opacity=\"1\" /><path clip-path=\"url(#clip970)\" d=\"M102.959 106.116 L127.071 106.116 L127.071 109.313 L102.959 109.313 L102.959 106.116 Z\" fill=\"#000000\" fill-rule=\"evenodd\" fill-opacity=\"1\" /><path clip-path=\"url(#clip970)\" d=\"M134.933 91.7093 L138.732 91.7093 L138.732 119.789 L134.933 119.789 L134.933 91.7093 Z\" fill=\"#000000\" fill-rule=\"evenodd\" fill-opacity=\"1\" /><path clip-path=\"url(#clip970)\" d=\"M163.652 107.075 L163.652 119.789 L160.191 119.789 L160.191 107.188 Q160.191 104.198 159.025 102.712 Q157.859 101.226 155.527 101.226 Q152.725 101.226 151.107 103.013 Q149.49 104.8 149.49 107.884 L149.49 119.789 L146.01 119.789 L146.01 98.7246 L149.49 98.7246 L149.49 101.997 Q150.731 100.098 152.405 99.1572 Q154.098 98.2168 156.298 98.2168 Q159.928 98.2168 161.79 100.474 Q163.652 102.712 163.652 107.075 Z\" fill=\"#000000\" fill-rule=\"evenodd\" fill-opacity=\"1\" /><path clip-path=\"url(#clip970)\" d=\"M181.219 90.5244 L181.219 93.402 L177.908 93.402 Q176.046 93.402 175.313 94.1543 Q174.598 94.9066 174.598 96.8627 L174.598 98.7246 L180.297 98.7246 L180.297 101.414 L174.598 101.414 L174.598 119.789 L171.119 119.789 L171.119 101.414 L167.809 101.414 L167.809 98.7246 L171.119 98.7246 L171.119 97.2576 Q171.119 93.7406 172.755 92.1419 Q174.391 90.5244 177.946 90.5244 L181.219 90.5244 Z\" fill=\"#000000\" fill-rule=\"evenodd\" fill-opacity=\"1\" /><path clip-path=\"url(#clip970)\" d=\"M856.989 49.3643 Q856.989 41.2625 853.627 36.8065 Q850.305 32.3505 844.269 32.3505 Q838.274 32.3505 834.912 36.8065 Q831.59 41.2625 831.59 49.3643 Q831.59 57.4256 834.912 61.8816 Q838.274 66.3376 844.269 66.3376 Q850.305 66.3376 853.627 61.8816 Q856.989 57.4256 856.989 49.3643 M864.443 66.9452 Q864.443 78.5308 859.298 84.1616 Q854.153 89.8329 843.54 89.8329 Q839.611 89.8329 836.127 89.2252 Q832.643 88.6581 829.362 87.4428 L829.362 80.1917 Q832.643 81.9741 835.843 82.8248 Q839.043 83.6755 842.365 83.6755 Q849.697 83.6755 853.343 79.8271 Q856.989 76.0193 856.989 68.282 L856.989 64.5957 Q854.68 68.6061 851.075 70.5911 Q847.469 72.576 842.446 72.576 Q834.101 72.576 828.997 66.2161 Q823.893 59.8562 823.893 49.3643 Q823.893 38.832 828.997 32.472 Q834.101 26.1121 842.446 26.1121 Q847.469 26.1121 851.075 28.0971 Q854.68 30.082 856.989 34.0924 L856.989 27.2059 L864.443 27.2059 L864.443 66.9452 Z\" fill=\"#000000\" fill-rule=\"evenodd\" fill-opacity=\"1\" /><path clip-path=\"url(#clip970)\" d=\"M906.086 34.1734 Q904.83 33.4443 903.331 33.1202 Q901.873 32.7556 900.091 32.7556 Q893.771 32.7556 890.368 36.8875 Q887.006 40.9789 887.006 48.6757 L887.006 72.576 L879.512 72.576 L879.512 27.2059 L887.006 27.2059 L887.006 34.2544 Q889.356 30.1225 893.123 28.1376 Q896.89 26.1121 902.278 26.1121 Q903.048 26.1121 903.979 26.2337 Q904.911 26.3147 906.045 26.5172 L906.086 34.1734 Z\" fill=\"#000000\" fill-rule=\"evenodd\" fill-opacity=\"1\" /><path clip-path=\"url(#clip970)\" d=\"M934.523 49.7694 Q925.49 49.7694 922.006 51.8354 Q918.522 53.9013 918.522 58.8839 Q918.522 62.8538 921.115 65.2034 Q923.748 67.5124 928.244 67.5124 Q934.442 67.5124 938.169 63.1374 Q941.936 58.7219 941.936 51.4303 L941.936 49.7694 L934.523 49.7694 M949.39 46.6907 L949.39 72.576 L941.936 72.576 L941.936 65.6895 Q939.384 69.8214 935.576 71.8063 Q931.769 73.7508 926.259 73.7508 Q919.292 73.7508 915.16 69.8619 Q911.069 65.9325 911.069 59.3701 Q911.069 51.7138 916.173 47.825 Q921.317 43.9361 931.485 43.9361 L941.936 43.9361 L941.936 43.2069 Q941.936 38.0623 938.534 35.2672 Q935.171 32.4315 929.055 32.4315 Q925.166 32.4315 921.479 33.3632 Q917.793 34.295 914.39 36.1584 L914.39 29.2718 Q918.482 27.692 922.33 26.9223 Q926.178 26.1121 929.824 26.1121 Q939.668 26.1121 944.529 31.2163 Q949.39 36.3204 949.39 46.6907 M935.779 6.22219 L943.84 6.22219 L930.634 21.4536 L924.437 21.4536 L935.779 6.22219 Z\" fill=\"#000000\" fill-rule=\"evenodd\" fill-opacity=\"1\" /><path clip-path=\"url(#clip970)\" d=\"M987.712 9.54393 L987.712 15.7418 L980.582 15.7418 Q976.572 15.7418 974.992 17.3622 Q973.452 18.9825 973.452 23.1955 L973.452 27.2059 L985.727 27.2059 L985.727 32.9987 L973.452 32.9987 L973.452 72.576 L965.958 72.576 L965.958 32.9987 L958.829 32.9987 L958.829 27.2059 L965.958 27.2059 L965.958 24.0462 Q965.958 16.471 969.483 13.0277 Q973.007 9.54393 980.663 9.54393 L987.712 9.54393 Z\" fill=\"#000000\" fill-rule=\"evenodd\" fill-opacity=\"1\" /><path clip-path=\"url(#clip970)\" d=\"M993.95 27.2059 L1001.4 27.2059 L1001.4 72.576 L993.95 72.576 L993.95 27.2059 M993.95 9.54393 L1001.4 9.54393 L1001.4 18.9825 L993.95 18.9825 L993.95 9.54393 Z\" fill=\"#000000\" fill-rule=\"evenodd\" fill-opacity=\"1\" /><path clip-path=\"url(#clip970)\" d=\"M1049.65 28.9478 L1049.65 35.9153 Q1046.49 34.1734 1043.29 33.3227 Q1040.13 32.4315 1036.89 32.4315 Q1029.64 32.4315 1025.63 37.0496 Q1021.62 41.6271 1021.62 49.9314 Q1021.62 58.2358 1025.63 62.8538 Q1029.64 67.4314 1036.89 67.4314 Q1040.13 67.4314 1043.29 66.5807 Q1046.49 65.6895 1049.65 63.9476 L1049.65 70.8341 Q1046.53 72.2924 1043.17 73.0216 Q1039.85 73.7508 1036.08 73.7508 Q1025.83 73.7508 1019.79 67.3098 Q1013.76 60.8689 1013.76 49.9314 Q1013.76 38.832 1019.84 32.472 Q1025.95 26.1121 1036.57 26.1121 Q1040.01 26.1121 1043.29 26.8413 Q1046.57 27.5299 1049.65 28.9478 Z\" fill=\"#000000\" fill-rule=\"evenodd\" fill-opacity=\"1\" /><path clip-path=\"url(#clip970)\" d=\"M1080.19 32.4315 Q1074.2 32.4315 1070.71 37.1306 Q1067.23 41.7891 1067.23 49.9314 Q1067.23 58.0738 1070.67 62.7728 Q1074.16 67.4314 1080.19 67.4314 Q1086.15 67.4314 1089.63 62.7323 Q1093.12 58.0333 1093.12 49.9314 Q1093.12 41.8701 1089.63 37.1711 Q1086.15 32.4315 1080.19 32.4315 M1080.19 26.1121 Q1089.92 26.1121 1095.47 32.4315 Q1101.02 38.7509 1101.02 49.9314 Q1101.02 61.0714 1095.47 67.4314 Q1089.92 73.7508 1080.19 73.7508 Q1070.43 73.7508 1064.88 67.4314 Q1059.37 61.0714 1059.37 49.9314 Q1059.37 38.7509 1064.88 32.4315 Q1070.43 26.1121 1080.19 26.1121 Z\" fill=\"#000000\" fill-rule=\"evenodd\" fill-opacity=\"1\" /><path clip-path=\"url(#clip970)\" d=\"M1139.74 9.54393 L1147.2 9.54393 L1147.2 72.576 L1139.74 72.576 L1139.74 9.54393 Z\" fill=\"#000000\" fill-rule=\"evenodd\" fill-opacity=\"1\" /><path clip-path=\"url(#clip970)\" d=\"M1180.37 32.4315 Q1174.38 32.4315 1170.89 37.1306 Q1167.41 41.7891 1167.41 49.9314 Q1167.41 58.0738 1170.85 62.7728 Q1174.34 67.4314 1180.37 67.4314 Q1186.33 67.4314 1189.81 62.7323 Q1193.3 58.0333 1193.3 49.9314 Q1193.3 41.8701 1189.81 37.1711 Q1186.33 32.4315 1180.37 32.4315 M1180.37 26.1121 Q1190.09 26.1121 1195.64 32.4315 Q1201.19 38.7509 1201.19 49.9314 Q1201.19 61.0714 1195.64 67.4314 Q1190.09 73.7508 1180.37 73.7508 Q1170.61 73.7508 1165.06 67.4314 Q1159.55 61.0714 1159.55 49.9314 Q1159.55 38.7509 1165.06 32.4315 Q1170.61 26.1121 1180.37 26.1121 Z\" fill=\"#000000\" fill-rule=\"evenodd\" fill-opacity=\"1\" /><path clip-path=\"url(#clip970)\" d=\"M1243.4 49.3643 Q1243.4 41.2625 1240.04 36.8065 Q1236.72 32.3505 1230.68 32.3505 Q1224.69 32.3505 1221.33 36.8065 Q1218.01 41.2625 1218.01 49.3643 Q1218.01 57.4256 1221.33 61.8816 Q1224.69 66.3376 1230.68 66.3376 Q1236.72 66.3376 1240.04 61.8816 Q1243.4 57.4256 1243.4 49.3643 M1250.86 66.9452 Q1250.86 78.5308 1245.71 84.1616 Q1240.57 89.8329 1229.96 89.8329 Q1226.03 89.8329 1222.54 89.2252 Q1219.06 88.6581 1215.78 87.4428 L1215.78 80.1917 Q1219.06 81.9741 1222.26 82.8248 Q1225.46 83.6755 1228.78 83.6755 Q1236.11 83.6755 1239.76 79.8271 Q1243.4 76.0193 1243.4 68.282 L1243.4 64.5957 Q1241.1 68.6061 1237.49 70.5911 Q1233.89 72.576 1228.86 72.576 Q1220.52 72.576 1215.41 66.2161 Q1210.31 59.8562 1210.31 49.3643 Q1210.31 38.832 1215.41 32.472 Q1220.52 26.1121 1228.86 26.1121 Q1233.89 26.1121 1237.49 28.0971 Q1241.1 30.082 1243.4 34.0924 L1243.4 27.2059 L1250.86 27.2059 L1250.86 66.9452 Z\" fill=\"#000000\" fill-rule=\"evenodd\" fill-opacity=\"1\" /><path clip-path=\"url(#clip970)\" d=\"M1262.44 46.5287 L1284.28 46.5287 L1284.28 53.1722 L1262.44 53.1722 L1262.44 46.5287 Z\" fill=\"#000000\" fill-rule=\"evenodd\" fill-opacity=\"1\" /><path clip-path=\"url(#clip970)\" d=\"M1296.15 9.54393 L1303.6 9.54393 L1303.6 72.576 L1296.15 72.576 L1296.15 9.54393 Z\" fill=\"#000000\" fill-rule=\"evenodd\" fill-opacity=\"1\" /><path clip-path=\"url(#clip970)\" d=\"M1336.78 32.4315 Q1330.78 32.4315 1327.3 37.1306 Q1323.82 41.7891 1323.82 49.9314 Q1323.82 58.0738 1327.26 62.7728 Q1330.74 67.4314 1336.78 67.4314 Q1342.73 67.4314 1346.22 62.7323 Q1349.7 58.0333 1349.7 49.9314 Q1349.7 41.8701 1346.22 37.1711 Q1342.73 32.4315 1336.78 32.4315 M1336.78 26.1121 Q1346.5 26.1121 1352.05 32.4315 Q1357.6 38.7509 1357.6 49.9314 Q1357.6 61.0714 1352.05 67.4314 Q1346.5 73.7508 1336.78 73.7508 Q1327.02 73.7508 1321.47 67.4314 Q1315.96 61.0714 1315.96 49.9314 Q1315.96 38.7509 1321.47 32.4315 Q1327.02 26.1121 1336.78 26.1121 Z\" fill=\"#000000\" fill-rule=\"evenodd\" fill-opacity=\"1\" /><path clip-path=\"url(#clip970)\" d=\"M1399.81 49.3643 Q1399.81 41.2625 1396.45 36.8065 Q1393.13 32.3505 1387.09 32.3505 Q1381.09 32.3505 1377.73 36.8065 Q1374.41 41.2625 1374.41 49.3643 Q1374.41 57.4256 1377.73 61.8816 Q1381.09 66.3376 1387.09 66.3376 Q1393.13 66.3376 1396.45 61.8816 Q1399.81 57.4256 1399.81 49.3643 M1407.26 66.9452 Q1407.26 78.5308 1402.12 84.1616 Q1396.97 89.8329 1386.36 89.8329 Q1382.43 89.8329 1378.95 89.2252 Q1375.46 88.6581 1372.18 87.4428 L1372.18 80.1917 Q1375.46 81.9741 1378.66 82.8248 Q1381.86 83.6755 1385.19 83.6755 Q1392.52 83.6755 1396.16 79.8271 Q1399.81 76.0193 1399.81 68.282 L1399.81 64.5957 Q1397.5 68.6061 1393.9 70.5911 Q1390.29 72.576 1385.27 72.576 Q1376.92 72.576 1371.82 66.2161 Q1366.71 59.8562 1366.71 49.3643 Q1366.71 38.832 1371.82 32.472 Q1376.92 26.1121 1385.27 26.1121 Q1390.29 26.1121 1393.9 28.0971 Q1397.5 30.082 1399.81 34.0924 L1399.81 27.2059 L1407.26 27.2059 L1407.26 66.9452 Z\" fill=\"#000000\" fill-rule=\"evenodd\" fill-opacity=\"1\" /><path clip-path=\"url(#clip970)\" d=\"M1424.52 62.2867 L1433.07 62.2867 L1433.07 69.2543 L1426.42 82.2172 L1421.2 82.2172 L1424.52 69.2543 L1424.52 62.2867 Z\" fill=\"#000000\" fill-rule=\"evenodd\" fill-opacity=\"1\" /><path clip-path=\"url(#clip970)\" d=\"M1475.68 12.096 L1513.92 12.096 L1513.92 18.9825 L1483.87 18.9825 L1483.87 36.8875 L1512.67 36.8875 L1512.67 43.7741 L1483.87 43.7741 L1483.87 65.6895 L1514.65 65.6895 L1514.65 72.576 L1475.68 72.576 L1475.68 12.096 Z\" fill=\"#000000\" fill-rule=\"evenodd\" fill-opacity=\"1\" /><path clip-path=\"url(#clip970)\" d=\"M1554.07 34.1734 Q1552.81 33.4443 1551.31 33.1202 Q1549.86 32.7556 1548.07 32.7556 Q1541.75 32.7556 1538.35 36.8875 Q1534.99 40.9789 1534.99 48.6757 L1534.99 72.576 L1527.49 72.576 L1527.49 27.2059 L1534.99 27.2059 L1534.99 34.2544 Q1537.34 30.1225 1541.11 28.1376 Q1544.87 26.1121 1550.26 26.1121 Q1551.03 26.1121 1551.96 26.2337 Q1552.89 26.3147 1554.03 26.5172 L1554.07 34.1734 Z\" fill=\"#000000\" fill-rule=\"evenodd\" fill-opacity=\"1\" /><path clip-path=\"url(#clip970)\" d=\"M1582.91 27.2059 L1590.81 27.2059 L1604.99 65.2844 L1619.17 27.2059 L1627.07 27.2059 L1610.05 72.576 L1599.92 72.576 L1582.91 27.2059 Z\" fill=\"#000000\" fill-rule=\"evenodd\" fill-opacity=\"1\" /><path clip-path=\"url(#clip970)\" d=\"M1666.28 28.5427 L1666.28 35.5912 Q1663.12 33.9709 1659.72 33.1607 Q1656.31 32.3505 1652.67 32.3505 Q1647.12 32.3505 1644.32 34.0519 Q1641.57 35.7533 1641.57 39.156 Q1641.57 41.7486 1643.55 43.2475 Q1645.54 44.7058 1651.53 46.0426 L1654.09 46.6097 Q1662.03 48.3111 1665.35 51.4303 Q1668.71 54.509 1668.71 60.0587 Q1668.71 66.3781 1663.69 70.0644 Q1658.7 73.7508 1649.95 73.7508 Q1646.31 73.7508 1642.34 73.0216 Q1638.41 72.3329 1634.03 70.9151 L1634.03 63.2184 Q1638.17 65.3654 1642.18 66.4591 Q1646.19 67.5124 1650.12 67.5124 Q1655.38 67.5124 1658.22 65.73 Q1661.05 63.9071 1661.05 60.6258 Q1661.05 57.5877 1658.99 55.9673 Q1656.96 54.3469 1650.03 52.8481 L1647.44 52.2405 Q1640.51 50.7821 1637.44 47.7845 Q1634.36 44.7463 1634.36 39.4801 Q1634.36 33.0797 1638.89 29.5959 Q1643.43 26.1121 1651.78 26.1121 Q1655.91 26.1121 1659.55 26.7198 Q1663.2 27.3274 1666.28 28.5427 Z\" fill=\"#000000\" fill-rule=\"evenodd\" fill-opacity=\"1\" /><path clip-path=\"url(#clip970)\" d=\"M1745.35 45.1919 L1740.05 72.576 L1732.55 72.576 L1737.86 45.4755 Q1738.22 43.5715 1738.43 42.1132 Q1738.63 40.6549 1738.63 39.8042 Q1738.63 36.4014 1736.48 34.4975 Q1734.33 32.5936 1730.49 32.5936 Q1724.49 32.5936 1720.07 36.6445 Q1715.7 40.6954 1714.4 47.4199 L1709.5 72.576 L1702.05 72.576 L1714.32 9.54393 L1721.78 9.54393 L1716.96 34.3355 Q1719.79 30.5276 1724.21 28.3401 Q1728.62 26.1121 1733.48 26.1121 Q1739.48 26.1121 1742.76 29.3529 Q1746.08 32.5936 1746.08 38.4674 Q1746.08 39.9257 1745.88 41.5866 Q1745.72 43.2475 1745.35 45.1919 Z\" fill=\"#000000\" fill-rule=\"evenodd\" fill-opacity=\"1\" /><polyline clip-path=\"url(#clip972)\" style=\"stroke:#009af9; stroke-linecap:butt; stroke-linejoin:round; stroke-width:4; stroke-opacity:1; fill:none\" points=\"\n",
       "  2487.42,2151.95 2352.76,1321.38 2218.09,1263.2 2083.42,1257.57 1948.75,1257.01 1814.08,1256.95 1679.41,1256.95 1544.74,1256.95 1410.07,1256.95 1275.4,1256.95 \n",
       "  1140.74,1256.94 1006.07,1256.93 871.397,1256.88 736.728,1255.13 602.059,1237.61 467.39,1262.64 332.721,236.03 198.052,236.03 63.3835,236.03 \n",
       "  \"/>\n",
       "<polyline clip-path=\"url(#clip972)\" style=\"stroke:#e26f46; stroke-linecap:butt; stroke-linejoin:round; stroke-width:4; stroke-opacity:1; fill:none\" points=\"\n",
       "  2487.42,1475.25 2352.76,1259.02 2218.09,1256.97 2083.42,1256.95 1948.75,1256.95 1814.08,1256.95 1679.41,1256.95 1544.74,1256.95 1410.07,1256.95 1275.4,1256.95 \n",
       "  1140.74,1256.94 1006.07,1256.95 871.397,1257.01 736.728,1256.38 602.059,1250.12 467.39,1262.64 332.721,1262.64 198.052,236.03 63.3835,236.03 \n",
       "  \"/>\n",
       "<polyline clip-path=\"url(#clip972)\" style=\"stroke:#3da44d; stroke-linecap:butt; stroke-linejoin:round; stroke-width:4; stroke-opacity:1; fill:none\" points=\"\n",
       "  2487.42,1210.17 2352.76,1256.94 2218.09,1256.95 2083.42,1256.95 1948.75,1256.95 1814.08,1256.95 1679.41,1256.95 1544.74,1256.95 1410.07,1256.95 1275.4,1256.95 \n",
       "  1140.74,1256.94 1006.07,1256.95 871.397,1257.01 736.728,1256.17 602.059,1248.04 467.39,1220.92 332.721,1471.26 198.052,236.03 63.3835,236.03 \n",
       "  \"/>\n",
       "<path clip-path=\"url(#clip970)\" d=\"\n",
       "M1991.28 375.855 L2281.57 375.855 L2281.57 168.495 L1991.28 168.495  Z\n",
       "  \" fill=\"#ffffff\" fill-rule=\"evenodd\" fill-opacity=\"1\"/>\n",
       "<polyline clip-path=\"url(#clip970)\" style=\"stroke:#000000; stroke-linecap:butt; stroke-linejoin:round; stroke-width:4; stroke-opacity:1; fill:none\" points=\"\n",
       "  1991.28,375.855 2281.57,375.855 2281.57,168.495 1991.28,168.495 1991.28,375.855 \n",
       "  \"/>\n",
       "<polyline clip-path=\"url(#clip970)\" style=\"stroke:#009af9; stroke-linecap:butt; stroke-linejoin:round; stroke-width:4; stroke-opacity:1; fill:none\" points=\"\n",
       "  2015.01,220.335 2157.38,220.335 \n",
       "  \"/>\n",
       "<path clip-path=\"url(#clip970)\" d=\"M2194.95 240.023 Q2193.14 244.652 2191.43 246.064 Q2189.72 247.476 2186.85 247.476 L2183.44 247.476 L2183.44 243.911 L2185.94 243.911 Q2187.7 243.911 2188.68 243.078 Q2189.65 242.245 2190.83 239.143 L2191.59 237.199 L2181.11 211.689 L2185.62 211.689 L2193.72 231.967 L2201.82 211.689 L2206.34 211.689 L2194.95 240.023 Z\" fill=\"#000000\" fill-rule=\"evenodd\" fill-opacity=\"1\" /><path clip-path=\"url(#clip970)\" d=\"M2213.63 233.68 L2221.27 233.68 L2221.27 207.314 L2212.96 208.981 L2212.96 204.722 L2221.22 203.055 L2225.9 203.055 L2225.9 233.68 L2233.54 233.68 L2233.54 237.615 L2213.63 237.615 L2213.63 233.68 Z\" fill=\"#000000\" fill-rule=\"evenodd\" fill-opacity=\"1\" /><polyline clip-path=\"url(#clip970)\" style=\"stroke:#e26f46; stroke-linecap:butt; stroke-linejoin:round; stroke-width:4; stroke-opacity:1; fill:none\" points=\"\n",
       "  2015.01,272.175 2157.38,272.175 \n",
       "  \"/>\n",
       "<path clip-path=\"url(#clip970)\" d=\"M2194.95 291.863 Q2193.14 296.492 2191.43 297.904 Q2189.72 299.316 2186.85 299.316 L2183.44 299.316 L2183.44 295.751 L2185.94 295.751 Q2187.7 295.751 2188.68 294.918 Q2189.65 294.085 2190.83 290.983 L2191.59 289.039 L2181.11 263.529 L2185.62 263.529 L2193.72 283.807 L2201.82 263.529 L2206.34 263.529 L2194.95 291.863 Z\" fill=\"#000000\" fill-rule=\"evenodd\" fill-opacity=\"1\" /><path clip-path=\"url(#clip970)\" d=\"M2216.85 285.52 L2233.17 285.52 L2233.17 289.455 L2211.22 289.455 L2211.22 285.52 Q2213.88 282.765 2218.47 278.136 Q2223.07 273.483 2224.25 272.14 Q2226.5 269.617 2227.38 267.881 Q2228.28 266.122 2228.28 264.432 Q2228.28 261.678 2226.34 259.941 Q2224.42 258.205 2221.31 258.205 Q2219.12 258.205 2216.66 258.969 Q2214.23 259.733 2211.45 261.284 L2211.45 256.562 Q2214.28 255.428 2216.73 254.849 Q2219.18 254.27 2221.22 254.27 Q2226.59 254.27 2229.79 256.955 Q2232.98 259.641 2232.98 264.131 Q2232.98 266.261 2232.17 268.182 Q2231.38 270.08 2229.28 272.673 Q2228.7 273.344 2225.6 276.562 Q2222.49 279.756 2216.85 285.52 Z\" fill=\"#000000\" fill-rule=\"evenodd\" fill-opacity=\"1\" /><polyline clip-path=\"url(#clip970)\" style=\"stroke:#3da44d; stroke-linecap:butt; stroke-linejoin:round; stroke-width:4; stroke-opacity:1; fill:none\" points=\"\n",
       "  2015.01,324.015 2157.38,324.015 \n",
       "  \"/>\n",
       "<path clip-path=\"url(#clip970)\" d=\"M2194.95 343.703 Q2193.14 348.332 2191.43 349.744 Q2189.72 351.156 2186.85 351.156 L2183.44 351.156 L2183.44 347.591 L2185.94 347.591 Q2187.7 347.591 2188.68 346.758 Q2189.65 345.925 2190.83 342.823 L2191.59 340.879 L2181.11 315.369 L2185.62 315.369 L2193.72 335.647 L2201.82 315.369 L2206.34 315.369 L2194.95 343.703 Z\" fill=\"#000000\" fill-rule=\"evenodd\" fill-opacity=\"1\" /><path clip-path=\"url(#clip970)\" d=\"M2226.99 322.661 Q2230.34 323.379 2232.22 325.647 Q2234.11 327.916 2234.11 331.249 Q2234.11 336.365 2230.6 339.166 Q2227.08 341.967 2220.6 341.967 Q2218.42 341.967 2216.11 341.527 Q2213.81 341.11 2211.36 340.254 L2211.36 335.74 Q2213.3 336.874 2215.62 337.453 Q2217.93 338.031 2220.46 338.031 Q2224.86 338.031 2227.15 336.295 Q2229.46 334.559 2229.46 331.249 Q2229.46 328.193 2227.31 326.48 Q2225.18 324.744 2221.36 324.744 L2217.33 324.744 L2217.33 320.902 L2221.55 320.902 Q2224.99 320.902 2226.82 319.536 Q2228.65 318.147 2228.65 315.555 Q2228.65 312.893 2226.75 311.481 Q2224.88 310.045 2221.36 310.045 Q2219.44 310.045 2217.24 310.462 Q2215.04 310.879 2212.4 311.758 L2212.4 307.592 Q2215.06 306.851 2217.38 306.481 Q2219.72 306.11 2221.78 306.11 Q2227.1 306.11 2230.2 308.541 Q2233.3 310.948 2233.3 315.068 Q2233.3 317.939 2231.66 319.93 Q2230.02 321.897 2226.99 322.661 Z\" fill=\"#000000\" fill-rule=\"evenodd\" fill-opacity=\"1\" /></svg>\n"
      ]
     },
     "execution_count": 51,
     "metadata": {},
     "output_type": "execute_result"
    },
    {
     "name": "stderr",
     "output_type": "stream",
     "text": [
      "┌ Warning: No strict ticks found\n",
      "└ @ PlotUtils /home/rdpaula/.julia/packages/PlotUtils/jNTYY/src/ticks.jl:191\n",
      "┌ Warning: No strict ticks found\n",
      "└ @ PlotUtils /home/rdpaula/.julia/packages/PlotUtils/jNTYY/src/ticks.jl:191\n"
     ]
    }
   ],
   "source": [
    "plot(title=\"gráfico log-log, Er vs ℎ\",xscale=:log10,yscale=:log10,xlim=(epsilon,x0),ylim=(-12,0),linestyle=:dash)\n",
    "plot!(h,E1_r)\n",
    "plot!(h,E2_r)\n",
    "plot!(h,E3_r)"
   ]
  },
  {
   "cell_type": "code",
   "execution_count": 55,
   "metadata": {},
   "outputs": [
    {
     "data": {
      "text/plain": [
       "E3_r (generic function with 1 method)"
      ]
     },
     "execution_count": 55,
     "metadata": {},
     "output_type": "execute_result"
    }
   ],
   "source": [
    "x0=1.0\n",
    "epsilon=eps(x0)\n",
    "h=[1/10^(k) for k=0:19]\n",
    "E1_r(h)=abs(derivada_adelante(g,x0,h)-sin(x0))/(-sin(x0))\n",
    "E2_r(h)=abs(derivada_centrada_3p(g,x0,h)-sin(x0))/(-sin(x0))\n",
    "E3_r(h)=abs(derivada_centrada_5p(g,x0,h)-sin(x0))/(-sin(x0))"
   ]
  },
  {
   "cell_type": "code",
   "execution_count": 69,
   "metadata": {},
   "outputs": [
    {
     "data": {
      "image/svg+xml": [
       "<?xml version=\"1.0\" encoding=\"utf-8\"?>\n",
       "<svg xmlns=\"http://www.w3.org/2000/svg\" xmlns:xlink=\"http://www.w3.org/1999/xlink\" width=\"600\" height=\"400\" viewBox=\"0 0 2400 1600\">\n",
       "<defs>\n",
       "  <clipPath id=\"clip570\">\n",
       "    <rect x=\"0\" y=\"0\" width=\"2400\" height=\"1600\"/>\n",
       "  </clipPath>\n",
       "</defs>\n",
       "<path clip-path=\"url(#clip570)\" d=\"\n",
       "M0 1600 L2400 1600 L2400 0 L0 0  Z\n",
       "  \" fill=\"#ffffff\" fill-rule=\"evenodd\" fill-opacity=\"1\"/>\n",
       "<defs>\n",
       "  <clipPath id=\"clip571\">\n",
       "    <rect x=\"480\" y=\"0\" width=\"1681\" height=\"1600\"/>\n",
       "  </clipPath>\n",
       "</defs>\n",
       "<path clip-path=\"url(#clip570)\" d=\"\n",
       "M212.629 1474.16 L2352.76 1474.16 L2352.76 123.472 L212.629 123.472  Z\n",
       "  \" fill=\"#ffffff\" fill-rule=\"evenodd\" fill-opacity=\"1\"/>\n",
       "<defs>\n",
       "  <clipPath id=\"clip572\">\n",
       "    <rect x=\"212\" y=\"123\" width=\"2141\" height=\"1352\"/>\n",
       "  </clipPath>\n",
       "</defs>\n",
       "<polyline clip-path=\"url(#clip572)\" style=\"stroke:#000000; stroke-linecap:butt; stroke-linejoin:round; stroke-width:2; stroke-opacity:0.1; fill:none\" points=\"\n",
       "  985.574,1474.16 985.574,123.472 \n",
       "  \"/>\n",
       "<polyline clip-path=\"url(#clip572)\" style=\"stroke:#000000; stroke-linecap:butt; stroke-linejoin:round; stroke-width:2; stroke-opacity:0.1; fill:none\" points=\"\n",
       "  2352.76,1474.16 2352.76,123.472 \n",
       "  \"/>\n",
       "<polyline clip-path=\"url(#clip570)\" style=\"stroke:#000000; stroke-linecap:butt; stroke-linejoin:round; stroke-width:4; stroke-opacity:1; fill:none\" points=\"\n",
       "  212.629,1474.16 2352.76,1474.16 \n",
       "  \"/>\n",
       "<path clip-path=\"url(#clip570)\" d=\"M922.938 1548.29 L930.576 1548.29 L930.576 1521.92 L922.266 1523.59 L922.266 1519.33 L930.53 1517.66 L935.206 1517.66 L935.206 1548.29 L942.845 1548.29 L942.845 1552.22 L922.938 1552.22 L922.938 1548.29 Z\" fill=\"#000000\" fill-rule=\"evenodd\" fill-opacity=\"1\" /><path clip-path=\"url(#clip570)\" d=\"M962.289 1520.74 Q958.678 1520.74 956.849 1524.31 Q955.044 1527.85 955.044 1534.98 Q955.044 1542.09 956.849 1545.65 Q958.678 1549.19 962.289 1549.19 Q965.923 1549.19 967.729 1545.65 Q969.558 1542.09 969.558 1534.98 Q969.558 1527.85 967.729 1524.31 Q965.923 1520.74 962.289 1520.74 M962.289 1517.04 Q968.099 1517.04 971.155 1521.65 Q974.234 1526.23 974.234 1534.98 Q974.234 1543.71 971.155 1548.31 Q968.099 1552.9 962.289 1552.9 Q956.479 1552.9 953.4 1548.31 Q950.345 1543.71 950.345 1534.98 Q950.345 1526.23 953.4 1521.65 Q956.479 1517.04 962.289 1517.04 Z\" fill=\"#000000\" fill-rule=\"evenodd\" fill-opacity=\"1\" /><path clip-path=\"url(#clip570)\" d=\"M974.234 1511.14 L998.345 1511.14 L998.345 1514.34 L974.234 1514.34 L974.234 1511.14 Z\" fill=\"#000000\" fill-rule=\"evenodd\" fill-opacity=\"1\" /><path clip-path=\"url(#clip570)\" d=\"M1007.2 1521.62 L1013.41 1521.62 L1013.41 1500.19 L1006.66 1501.55 L1006.66 1498.09 L1013.37 1496.73 L1017.17 1496.73 L1017.17 1521.62 L1023.38 1521.62 L1023.38 1524.81 L1007.2 1524.81 L1007.2 1521.62 Z\" fill=\"#000000\" fill-rule=\"evenodd\" fill-opacity=\"1\" /><path clip-path=\"url(#clip570)\" d=\"M1039.18 1499.24 Q1036.24 1499.24 1034.76 1502.13 Q1033.29 1505.01 1033.29 1510.8 Q1033.29 1516.58 1034.76 1519.47 Q1036.24 1522.35 1039.18 1522.35 Q1042.13 1522.35 1043.6 1519.47 Q1045.08 1516.58 1045.08 1510.8 Q1045.08 1505.01 1043.6 1502.13 Q1042.13 1499.24 1039.18 1499.24 M1039.18 1496.23 Q1043.9 1496.23 1046.38 1499.97 Q1048.88 1503.69 1048.88 1510.8 Q1048.88 1517.89 1046.38 1521.64 Q1043.9 1525.36 1039.18 1525.36 Q1034.46 1525.36 1031.95 1521.64 Q1029.47 1517.89 1029.47 1510.8 Q1029.47 1503.69 1031.95 1499.97 Q1034.46 1496.23 1039.18 1496.23 Z\" fill=\"#000000\" fill-rule=\"evenodd\" fill-opacity=\"1\" /><path clip-path=\"url(#clip570)\" d=\"M2317.74 1548.29 L2325.38 1548.29 L2325.38 1521.92 L2317.07 1523.59 L2317.07 1519.33 L2325.33 1517.66 L2330.01 1517.66 L2330.01 1548.29 L2337.65 1548.29 L2337.65 1552.22 L2317.74 1552.22 L2317.74 1548.29 Z\" fill=\"#000000\" fill-rule=\"evenodd\" fill-opacity=\"1\" /><path clip-path=\"url(#clip570)\" d=\"M2357.09 1520.74 Q2353.48 1520.74 2351.65 1524.31 Q2349.85 1527.85 2349.85 1534.98 Q2349.85 1542.09 2351.65 1545.65 Q2353.48 1549.19 2357.09 1549.19 Q2360.72 1549.19 2362.53 1545.65 Q2364.36 1542.09 2364.36 1534.98 Q2364.36 1527.85 2362.53 1524.31 Q2360.72 1520.74 2357.09 1520.74 M2357.09 1517.04 Q2362.9 1517.04 2365.96 1521.65 Q2369.03 1526.23 2369.03 1534.98 Q2369.03 1543.71 2365.96 1548.31 Q2362.9 1552.9 2357.09 1552.9 Q2351.28 1552.9 2348.2 1548.31 Q2345.15 1543.71 2345.15 1534.98 Q2345.15 1526.23 2348.2 1521.65 Q2351.28 1517.04 2357.09 1517.04 Z\" fill=\"#000000\" fill-rule=\"evenodd\" fill-opacity=\"1\" /><path clip-path=\"url(#clip570)\" d=\"M2378.74 1499.24 Q2375.81 1499.24 2374.32 1502.13 Q2372.85 1505.01 2372.85 1510.8 Q2372.85 1516.58 2374.32 1519.47 Q2375.81 1522.35 2378.74 1522.35 Q2381.69 1522.35 2383.16 1519.47 Q2384.65 1516.58 2384.65 1510.8 Q2384.65 1505.01 2383.16 1502.13 Q2381.69 1499.24 2378.74 1499.24 M2378.74 1496.23 Q2383.46 1496.23 2385.94 1499.97 Q2388.44 1503.69 2388.44 1510.8 Q2388.44 1517.89 2385.94 1521.64 Q2383.46 1525.36 2378.74 1525.36 Q2374.02 1525.36 2371.52 1521.64 Q2369.03 1517.89 2369.03 1510.8 Q2369.03 1503.69 2371.52 1499.97 Q2374.02 1496.23 2378.74 1496.23 Z\" fill=\"#000000\" fill-rule=\"evenodd\" fill-opacity=\"1\" /><polyline clip-path=\"url(#clip572)\" style=\"stroke:#000000; stroke-linecap:butt; stroke-linejoin:round; stroke-width:2; stroke-opacity:0.1; fill:none\" points=\"\n",
       "  212.629,123.472 2352.76,123.472 \n",
       "  \"/>\n",
       "<polyline clip-path=\"url(#clip570)\" style=\"stroke:#000000; stroke-linecap:butt; stroke-linejoin:round; stroke-width:4; stroke-opacity:1; fill:none\" points=\"\n",
       "  212.629,1474.16 212.629,123.472 \n",
       "  \"/>\n",
       "<polyline clip-path=\"url(#clip570)\" style=\"stroke:#000000; stroke-linecap:butt; stroke-linejoin:round; stroke-width:4; stroke-opacity:1; fill:none\" points=\"\n",
       "  212.629,123.472 231.527,123.472 \n",
       "  \"/>\n",
       "<path clip-path=\"url(#clip570)\" d=\"M-nan -nan L-nan -nan L-nan -nan L-nan -nan L-nan -nan L-nan -nan L-nan -nan L-nan -nan L-nan -nan L-nan -nan L-nan -nan L-nan -nan Z\" fill=\"#000000\" fill-rule=\"evenodd\" fill-opacity=\"1\" /><path clip-path=\"url(#clip570)\" d=\"M-nan -nan Q-nan -nan -nan -nan Q-nan -nan -nan -nan Q-nan -nan -nan -nan Q-nan -nan -nan -nan Q-nan -nan -nan -nan Q-nan -nan -nan -nan Q-nan -nan -nan -nan Q-nan -nan -nan -nan M-nan -nan Q-nan -nan -nan -nan Q-nan -nan -nan -nan Q-nan -nan -nan -nan Q-nan -nan -nan -nan Q-nan -nan -nan -nan Q-nan -nan -nan -nan Q-nan -nan -nan -nan Q-nan -nan -nan -nan Z\" fill=\"#000000\" fill-rule=\"evenodd\" fill-opacity=\"1\" /><path clip-path=\"url(#clip570)\" d=\"M-nan -nan L-nan -nan L-nan -nan L-nan -nan L-nan -nan L-nan -nan L-nan -nan L-nan -nan L-nan -nan L-nan -nan L-nan -nan Z\" fill=\"#000000\" fill-rule=\"evenodd\" fill-opacity=\"1\" /><path clip-path=\"url(#clip570)\" d=\"M-nan -nan Q-nan -nan -nan -nan Q-nan -nan -nan -nan Q-nan -nan -nan -nan Q-nan -nan -nan -nan Q-nan -nan -nan -nan Q-nan -nan -nan -nan L-nan -nan L-nan -nan M-nan -nan L-nan -nan L-nan -nan L-nan -nan Q-nan -nan -nan -nan Q-nan -nan -nan -nan Q-nan -nan -nan -nan Q-nan -nan -nan -nan Q-nan -nan -nan -nan Q-nan -nan -nan -nan L-nan -nan L-nan -nan Q-nan -nan -nan -nan Q-nan -nan -nan -nan Q-nan -nan -nan -nan Q-nan -nan -nan -nan L-nan -nan Q-nan -nan -nan -nan Q-nan -nan -nan -nan Q-nan -nan -nan -nan Q-nan -nan -nan -nan Z\" fill=\"#000000\" fill-rule=\"evenodd\" fill-opacity=\"1\" /><path clip-path=\"url(#clip570)\" d=\"M-nan -nan L-nan -nan L-nan -nan L-nan -nan L-nan -nan L-nan -nan L-nan -nan L-nan -nan L-nan -nan L-nan -nan L-nan -nan Z\" fill=\"#000000\" fill-rule=\"evenodd\" fill-opacity=\"1\" /><path clip-path=\"url(#clip570)\" d=\"M76.1888 143.265 L83.8276 143.265 L83.8276 116.899 L75.5175 118.566 L75.5175 114.306 L83.7813 112.64 L88.4572 112.64 L88.4572 143.265 L96.0961 143.265 L96.0961 147.2 L76.1888 147.2 L76.1888 143.265 Z\" fill=\"#000000\" fill-rule=\"evenodd\" fill-opacity=\"1\" /><path clip-path=\"url(#clip570)\" d=\"M115.54 115.718 Q111.929 115.718 110.101 119.283 Q108.295 122.825 108.295 129.954 Q108.295 137.061 110.101 140.626 Q111.929 144.167 115.54 144.167 Q119.175 144.167 120.98 140.626 Q122.809 137.061 122.809 129.954 Q122.809 122.825 120.98 119.283 Q119.175 115.718 115.54 115.718 M115.54 112.015 Q121.351 112.015 124.406 116.621 Q127.485 121.204 127.485 129.954 Q127.485 138.681 124.406 143.288 Q121.351 147.871 115.54 147.871 Q109.73 147.871 106.652 143.288 Q103.596 138.681 103.596 129.954 Q103.596 121.204 106.652 116.621 Q109.73 112.015 115.54 112.015 Z\" fill=\"#000000\" fill-rule=\"evenodd\" fill-opacity=\"1\" /><path clip-path=\"url(#clip570)\" d=\"M127.485 106.116 L151.596 106.116 L151.596 109.313 L127.485 109.313 L127.485 106.116 Z\" fill=\"#000000\" fill-rule=\"evenodd\" fill-opacity=\"1\" /><path clip-path=\"url(#clip570)\" d=\"M160.455 116.592 L166.661 116.592 L166.661 95.17 L159.909 96.5241 L159.909 93.0635 L166.624 91.7093 L170.423 91.7093 L170.423 116.592 L176.629 116.592 L176.629 119.789 L160.455 119.789 L160.455 116.592 Z\" fill=\"#000000\" fill-rule=\"evenodd\" fill-opacity=\"1\" /><path clip-path=\"url(#clip570)\" d=\"M854.694 49.3643 Q854.694 41.2625 851.332 36.8065 Q848.01 32.3505 841.975 32.3505 Q835.979 32.3505 832.617 36.8065 Q829.295 41.2625 829.295 49.3643 Q829.295 57.4256 832.617 61.8816 Q835.979 66.3376 841.975 66.3376 Q848.01 66.3376 851.332 61.8816 Q854.694 57.4256 854.694 49.3643 M862.148 66.9452 Q862.148 78.5308 857.003 84.1616 Q851.859 89.8329 841.245 89.8329 Q837.316 89.8329 833.832 89.2252 Q830.348 88.6581 827.067 87.4428 L827.067 80.1917 Q830.348 81.9741 833.549 82.8248 Q836.749 83.6755 840.071 83.6755 Q847.403 83.6755 851.049 79.8271 Q854.694 76.0193 854.694 68.282 L854.694 64.5957 Q852.385 68.6061 848.78 70.5911 Q845.175 72.576 840.152 72.576 Q831.807 72.576 826.703 66.2161 Q821.599 59.8562 821.599 49.3643 Q821.599 38.832 826.703 32.472 Q831.807 26.1121 840.152 26.1121 Q845.175 26.1121 848.78 28.0971 Q852.385 30.082 854.694 34.0924 L854.694 27.2059 L862.148 27.2059 L862.148 66.9452 Z\" fill=\"#000000\" fill-rule=\"evenodd\" fill-opacity=\"1\" /><path clip-path=\"url(#clip570)\" d=\"M903.791 34.1734 Q902.536 33.4443 901.037 33.1202 Q899.578 32.7556 897.796 32.7556 Q891.477 32.7556 888.074 36.8875 Q884.712 40.9789 884.712 48.6757 L884.712 72.576 L877.217 72.576 L877.217 27.2059 L884.712 27.2059 L884.712 34.2544 Q887.061 30.1225 890.828 28.1376 Q894.596 26.1121 899.984 26.1121 Q900.753 26.1121 901.685 26.2337 Q902.617 26.3147 903.751 26.5172 L903.791 34.1734 Z\" fill=\"#000000\" fill-rule=\"evenodd\" fill-opacity=\"1\" /><path clip-path=\"url(#clip570)\" d=\"M932.229 49.7694 Q923.195 49.7694 919.711 51.8354 Q916.228 53.9013 916.228 58.8839 Q916.228 62.8538 918.82 65.2034 Q921.453 67.5124 925.95 67.5124 Q932.148 67.5124 935.875 63.1374 Q939.642 58.7219 939.642 51.4303 L939.642 49.7694 L932.229 49.7694 M947.096 46.6907 L947.096 72.576 L939.642 72.576 L939.642 65.6895 Q937.09 69.8214 933.282 71.8063 Q929.474 73.7508 923.965 73.7508 Q916.997 73.7508 912.865 69.8619 Q908.774 65.9325 908.774 59.3701 Q908.774 51.7138 913.878 47.825 Q919.023 43.9361 929.191 43.9361 L939.642 43.9361 L939.642 43.2069 Q939.642 38.0623 936.239 35.2672 Q932.877 32.4315 926.76 32.4315 Q922.871 32.4315 919.185 33.3632 Q915.498 34.295 912.096 36.1584 L912.096 29.2718 Q916.187 27.692 920.035 26.9223 Q923.884 26.1121 927.53 26.1121 Q937.373 26.1121 942.234 31.2163 Q947.096 36.3204 947.096 46.6907 M933.484 6.22219 L941.546 6.22219 L928.34 21.4536 L922.142 21.4536 L933.484 6.22219 Z\" fill=\"#000000\" fill-rule=\"evenodd\" fill-opacity=\"1\" /><path clip-path=\"url(#clip570)\" d=\"M985.417 9.54393 L985.417 15.7418 L978.287 15.7418 Q974.277 15.7418 972.697 17.3622 Q971.158 18.9825 971.158 23.1955 L971.158 27.2059 L983.432 27.2059 L983.432 32.9987 L971.158 32.9987 L971.158 72.576 L963.664 72.576 L963.664 32.9987 L956.534 32.9987 L956.534 27.2059 L963.664 27.2059 L963.664 24.0462 Q963.664 16.471 967.188 13.0277 Q970.712 9.54393 978.369 9.54393 L985.417 9.54393 Z\" fill=\"#000000\" fill-rule=\"evenodd\" fill-opacity=\"1\" /><path clip-path=\"url(#clip570)\" d=\"M991.655 27.2059 L999.109 27.2059 L999.109 72.576 L991.655 72.576 L991.655 27.2059 M991.655 9.54393 L999.109 9.54393 L999.109 18.9825 L991.655 18.9825 L991.655 9.54393 Z\" fill=\"#000000\" fill-rule=\"evenodd\" fill-opacity=\"1\" /><path clip-path=\"url(#clip570)\" d=\"M1047.36 28.9478 L1047.36 35.9153 Q1044.2 34.1734 1041 33.3227 Q1037.84 32.4315 1034.6 32.4315 Q1027.34 32.4315 1023.33 37.0496 Q1019.32 41.6271 1019.32 49.9314 Q1019.32 58.2358 1023.33 62.8538 Q1027.34 67.4314 1034.6 67.4314 Q1037.84 67.4314 1041 66.5807 Q1044.2 65.6895 1047.36 63.9476 L1047.36 70.8341 Q1044.24 72.2924 1040.87 73.0216 Q1037.55 73.7508 1033.78 73.7508 Q1023.54 73.7508 1017.5 67.3098 Q1011.46 60.8689 1011.46 49.9314 Q1011.46 38.832 1017.54 32.472 Q1023.66 26.1121 1034.27 26.1121 Q1037.71 26.1121 1041 26.8413 Q1044.28 27.5299 1047.36 28.9478 Z\" fill=\"#000000\" fill-rule=\"evenodd\" fill-opacity=\"1\" /><path clip-path=\"url(#clip570)\" d=\"M1077.9 32.4315 Q1071.9 32.4315 1068.42 37.1306 Q1064.94 41.7891 1064.94 49.9314 Q1064.94 58.0738 1068.38 62.7728 Q1071.86 67.4314 1077.9 67.4314 Q1083.85 67.4314 1087.34 62.7323 Q1090.82 58.0333 1090.82 49.9314 Q1090.82 41.8701 1087.34 37.1711 Q1083.85 32.4315 1077.9 32.4315 M1077.9 26.1121 Q1087.62 26.1121 1093.17 32.4315 Q1098.72 38.7509 1098.72 49.9314 Q1098.72 61.0714 1093.17 67.4314 Q1087.62 73.7508 1077.9 73.7508 Q1068.14 73.7508 1062.59 67.4314 Q1057.08 61.0714 1057.08 49.9314 Q1057.08 38.7509 1062.59 32.4315 Q1068.14 26.1121 1077.9 26.1121 Z\" fill=\"#000000\" fill-rule=\"evenodd\" fill-opacity=\"1\" /><path clip-path=\"url(#clip570)\" d=\"M1137.45 9.54393 L1144.9 9.54393 L1144.9 72.576 L1137.45 72.576 L1137.45 9.54393 Z\" fill=\"#000000\" fill-rule=\"evenodd\" fill-opacity=\"1\" /><path clip-path=\"url(#clip570)\" d=\"M1178.08 32.4315 Q1172.08 32.4315 1168.6 37.1306 Q1165.12 41.7891 1165.12 49.9314 Q1165.12 58.0738 1168.56 62.7728 Q1172.04 67.4314 1178.08 67.4314 Q1184.03 67.4314 1187.52 62.7323 Q1191 58.0333 1191 49.9314 Q1191 41.8701 1187.52 37.1711 Q1184.03 32.4315 1178.08 32.4315 M1178.08 26.1121 Q1187.8 26.1121 1193.35 32.4315 Q1198.9 38.7509 1198.9 49.9314 Q1198.9 61.0714 1193.35 67.4314 Q1187.8 73.7508 1178.08 73.7508 Q1168.32 73.7508 1162.77 67.4314 Q1157.26 61.0714 1157.26 49.9314 Q1157.26 38.7509 1162.77 32.4315 Q1168.32 26.1121 1178.08 26.1121 Z\" fill=\"#000000\" fill-rule=\"evenodd\" fill-opacity=\"1\" /><path clip-path=\"url(#clip570)\" d=\"M1241.11 49.3643 Q1241.11 41.2625 1237.75 36.8065 Q1234.43 32.3505 1228.39 32.3505 Q1222.39 32.3505 1219.03 36.8065 Q1215.71 41.2625 1215.71 49.3643 Q1215.71 57.4256 1219.03 61.8816 Q1222.39 66.3376 1228.39 66.3376 Q1234.43 66.3376 1237.75 61.8816 Q1241.11 57.4256 1241.11 49.3643 M1248.56 66.9452 Q1248.56 78.5308 1243.42 84.1616 Q1238.27 89.8329 1227.66 89.8329 Q1223.73 89.8329 1220.25 89.2252 Q1216.76 88.6581 1213.48 87.4428 L1213.48 80.1917 Q1216.76 81.9741 1219.96 82.8248 Q1223.16 83.6755 1226.49 83.6755 Q1233.82 83.6755 1237.46 79.8271 Q1241.11 76.0193 1241.11 68.282 L1241.11 64.5957 Q1238.8 68.6061 1235.2 70.5911 Q1231.59 72.576 1226.57 72.576 Q1218.22 72.576 1213.12 66.2161 Q1208.01 59.8562 1208.01 49.3643 Q1208.01 38.832 1213.12 32.472 Q1218.22 26.1121 1226.57 26.1121 Q1231.59 26.1121 1235.2 28.0971 Q1238.8 30.082 1241.11 34.0924 L1241.11 27.2059 L1248.56 27.2059 L1248.56 66.9452 Z\" fill=\"#000000\" fill-rule=\"evenodd\" fill-opacity=\"1\" /><path clip-path=\"url(#clip570)\" d=\"M1260.15 46.5287 L1281.98 46.5287 L1281.98 53.1722 L1260.15 53.1722 L1260.15 46.5287 Z\" fill=\"#000000\" fill-rule=\"evenodd\" fill-opacity=\"1\" /><path clip-path=\"url(#clip570)\" d=\"M1293.85 9.54393 L1301.31 9.54393 L1301.31 72.576 L1293.85 72.576 L1293.85 9.54393 Z\" fill=\"#000000\" fill-rule=\"evenodd\" fill-opacity=\"1\" /><path clip-path=\"url(#clip570)\" d=\"M1334.48 32.4315 Q1328.49 32.4315 1325 37.1306 Q1321.52 41.7891 1321.52 49.9314 Q1321.52 58.0738 1324.96 62.7728 Q1328.45 67.4314 1334.48 67.4314 Q1340.44 67.4314 1343.92 62.7323 Q1347.41 58.0333 1347.41 49.9314 Q1347.41 41.8701 1343.92 37.1711 Q1340.44 32.4315 1334.48 32.4315 M1334.48 26.1121 Q1344.21 26.1121 1349.76 32.4315 Q1355.31 38.7509 1355.31 49.9314 Q1355.31 61.0714 1349.76 67.4314 Q1344.21 73.7508 1334.48 73.7508 Q1324.72 73.7508 1319.17 67.4314 Q1313.66 61.0714 1313.66 49.9314 Q1313.66 38.7509 1319.17 32.4315 Q1324.72 26.1121 1334.48 26.1121 Z\" fill=\"#000000\" fill-rule=\"evenodd\" fill-opacity=\"1\" /><path clip-path=\"url(#clip570)\" d=\"M1397.52 49.3643 Q1397.52 41.2625 1394.15 36.8065 Q1390.83 32.3505 1384.8 32.3505 Q1378.8 32.3505 1375.44 36.8065 Q1372.12 41.2625 1372.12 49.3643 Q1372.12 57.4256 1375.44 61.8816 Q1378.8 66.3376 1384.8 66.3376 Q1390.83 66.3376 1394.15 61.8816 Q1397.52 57.4256 1397.52 49.3643 M1404.97 66.9452 Q1404.97 78.5308 1399.82 84.1616 Q1394.68 89.8329 1384.07 89.8329 Q1380.14 89.8329 1376.65 89.2252 Q1373.17 88.6581 1369.89 87.4428 L1369.89 80.1917 Q1373.17 81.9741 1376.37 82.8248 Q1379.57 83.6755 1382.89 83.6755 Q1390.22 83.6755 1393.87 79.8271 Q1397.52 76.0193 1397.52 68.282 L1397.52 64.5957 Q1395.21 68.6061 1391.6 70.5911 Q1388 72.576 1382.97 72.576 Q1374.63 72.576 1369.52 66.2161 Q1364.42 59.8562 1364.42 49.3643 Q1364.42 38.832 1369.52 32.472 Q1374.63 26.1121 1382.97 26.1121 Q1388 26.1121 1391.6 28.0971 Q1395.21 30.082 1397.52 34.0924 L1397.52 27.2059 L1404.97 27.2059 L1404.97 66.9452 Z\" fill=\"#000000\" fill-rule=\"evenodd\" fill-opacity=\"1\" /><path clip-path=\"url(#clip570)\" d=\"M1422.23 62.2867 L1430.77 62.2867 L1430.77 69.2543 L1424.13 82.2172 L1418.9 82.2172 L1422.23 69.2543 L1422.23 62.2867 Z\" fill=\"#000000\" fill-rule=\"evenodd\" fill-opacity=\"1\" /><path clip-path=\"url(#clip570)\" d=\"M1473.39 12.096 L1511.63 12.096 L1511.63 18.9825 L1481.57 18.9825 L1481.57 36.8875 L1510.37 36.8875 L1510.37 43.7741 L1481.57 43.7741 L1481.57 65.6895 L1512.36 65.6895 L1512.36 72.576 L1473.39 72.576 L1473.39 12.096 Z\" fill=\"#000000\" fill-rule=\"evenodd\" fill-opacity=\"1\" /><path clip-path=\"url(#clip570)\" d=\"M1551.77 34.1734 Q1550.52 33.4443 1549.02 33.1202 Q1547.56 32.7556 1545.78 32.7556 Q1539.46 32.7556 1536.06 36.8875 Q1532.69 40.9789 1532.69 48.6757 L1532.69 72.576 L1525.2 72.576 L1525.2 27.2059 L1532.69 27.2059 L1532.69 34.2544 Q1535.04 30.1225 1538.81 28.1376 Q1542.58 26.1121 1547.97 26.1121 Q1548.74 26.1121 1549.67 26.2337 Q1550.6 26.3147 1551.73 26.5172 L1551.77 34.1734 Z\" fill=\"#000000\" fill-rule=\"evenodd\" fill-opacity=\"1\" /><path clip-path=\"url(#clip570)\" d=\"M1580.62 27.2059 L1588.52 27.2059 L1602.69 65.2844 L1616.87 27.2059 L1624.77 27.2059 L1607.76 72.576 L1597.63 72.576 L1580.62 27.2059 Z\" fill=\"#000000\" fill-rule=\"evenodd\" fill-opacity=\"1\" /><path clip-path=\"url(#clip570)\" d=\"M1663.98 28.5427 L1663.98 35.5912 Q1660.82 33.9709 1657.42 33.1607 Q1654.02 32.3505 1650.37 32.3505 Q1644.82 32.3505 1642.03 34.0519 Q1639.27 35.7533 1639.27 39.156 Q1639.27 41.7486 1641.26 43.2475 Q1643.24 44.7058 1649.24 46.0426 L1651.79 46.6097 Q1659.73 48.3111 1663.05 51.4303 Q1666.41 54.509 1666.41 60.0587 Q1666.41 66.3781 1661.39 70.0644 Q1656.41 73.7508 1647.66 73.7508 Q1644.01 73.7508 1640.04 73.0216 Q1636.11 72.3329 1631.74 70.9151 L1631.74 63.2184 Q1635.87 65.3654 1639.88 66.4591 Q1643.89 67.5124 1647.82 67.5124 Q1653.09 67.5124 1655.92 65.73 Q1658.76 63.9071 1658.76 60.6258 Q1658.76 57.5877 1656.69 55.9673 Q1654.67 54.3469 1647.74 52.8481 L1645.15 52.2405 Q1638.22 50.7821 1635.14 47.7845 Q1632.06 44.7463 1632.06 39.4801 Q1632.06 33.0797 1636.6 29.5959 Q1641.14 26.1121 1649.48 26.1121 Q1653.61 26.1121 1657.26 26.7198 Q1660.91 27.3274 1663.98 28.5427 Z\" fill=\"#000000\" fill-rule=\"evenodd\" fill-opacity=\"1\" /><path clip-path=\"url(#clip570)\" d=\"M1743.06 45.1919 L1737.75 72.576 L1730.26 72.576 L1735.56 45.4755 Q1735.93 43.5715 1736.13 42.1132 Q1736.33 40.6549 1736.33 39.8042 Q1736.33 36.4014 1734.19 34.4975 Q1732.04 32.5936 1728.19 32.5936 Q1722.2 32.5936 1717.78 36.6445 Q1713.41 40.6954 1712.11 47.4199 L1707.21 72.576 L1699.75 72.576 L1712.03 9.54393 L1719.48 9.54393 L1714.66 34.3355 Q1717.5 30.5276 1721.91 28.3401 Q1726.33 26.1121 1731.19 26.1121 Q1737.18 26.1121 1740.47 29.3529 Q1743.79 32.5936 1743.79 38.4674 Q1743.79 39.9257 1743.58 41.5866 Q1743.42 43.2475 1743.06 45.1919 Z\" fill=\"#000000\" fill-rule=\"evenodd\" fill-opacity=\"1\" /><polyline clip-path=\"url(#clip572)\" style=\"stroke:#009af9; stroke-linecap:butt; stroke-linejoin:round; stroke-width:4; stroke-opacity:1; fill:none\" points=\"\n",
       "  2352.76,1355.18 2216.04,784.897 2079.32,744.949 1942.6,741.085 1805.88,740.7 1669.16,740.662 1532.45,740.658 1395.73,740.657 1259.01,740.657 1122.29,740.657 \n",
       "  985.574,740.658 848.856,740.668 712.138,740.793 575.419,740.514 438.701,737.718 301.983,863.512 165.265,414.798 28.5466,414.798 -108.172,414.798 \n",
       "  \"/>\n",
       "<polyline clip-path=\"url(#clip572)\" style=\"stroke:#e26f46; stroke-linecap:butt; stroke-linejoin:round; stroke-width:4; stroke-opacity:1; fill:none\" points=\"\n",
       "  2352.76,890.549 2216.04,742.084 2079.32,740.672 1942.6,740.657 1805.88,740.657 1669.16,740.657 1532.45,740.657 1395.73,740.657 1259.01,740.657 1122.29,740.657 \n",
       "  985.574,740.657 848.856,740.661 712.138,740.723 575.419,740.514 438.701,737.718 301.983,793.627 165.265,414.798 28.5466,414.798 -108.172,414.798 \n",
       "  \"/>\n",
       "<polyline clip-path=\"url(#clip572)\" style=\"stroke:#3da44d; stroke-linecap:butt; stroke-linejoin:round; stroke-width:4; stroke-opacity:1; fill:none\" points=\"\n",
       "  2352.76,708.539 2216.04,740.654 2079.32,740.657 1942.6,740.657 1805.88,740.657 1669.16,740.657 1532.45,740.657 1395.73,740.657 1259.01,740.657 1122.29,740.657 \n",
       "  985.574,740.656 848.856,740.665 712.138,740.758 575.419,740.281 438.701,737.718 301.983,840.217 165.265,764.226 28.5466,1579.56 -108.172,12062.4 \n",
       "  \"/>\n",
       "<path clip-path=\"url(#clip570)\" d=\"\n",
       "M1990.62 375.855 L2281.42 375.855 L2281.42 168.495 L1990.62 168.495  Z\n",
       "  \" fill=\"#ffffff\" fill-rule=\"evenodd\" fill-opacity=\"1\"/>\n",
       "<polyline clip-path=\"url(#clip570)\" style=\"stroke:#000000; stroke-linecap:butt; stroke-linejoin:round; stroke-width:4; stroke-opacity:1; fill:none\" points=\"\n",
       "  1990.62,375.855 2281.42,375.855 2281.42,168.495 1990.62,168.495 1990.62,375.855 \n",
       "  \"/>\n",
       "<polyline clip-path=\"url(#clip570)\" style=\"stroke:#009af9; stroke-linecap:butt; stroke-linejoin:round; stroke-width:4; stroke-opacity:1; fill:none\" points=\"\n",
       "  2014.4,220.335 2157.07,220.335 \n",
       "  \"/>\n",
       "<path clip-path=\"url(#clip570)\" d=\"M2194.69 240.023 Q2192.89 244.652 2191.18 246.064 Q2189.46 247.476 2186.59 247.476 L2183.19 247.476 L2183.19 243.911 L2185.69 243.911 Q2187.45 243.911 2188.42 243.078 Q2189.39 242.245 2190.57 239.143 L2191.34 237.199 L2180.85 211.689 L2185.36 211.689 L2193.47 231.967 L2201.57 211.689 L2206.08 211.689 L2194.69 240.023 Z\" fill=\"#000000\" fill-rule=\"evenodd\" fill-opacity=\"1\" /><path clip-path=\"url(#clip570)\" d=\"M2213.37 233.68 L2221.01 233.68 L2221.01 207.314 L2212.7 208.981 L2212.7 204.722 L2220.97 203.055 L2225.64 203.055 L2225.64 233.68 L2233.28 233.68 L2233.28 237.615 L2213.37 237.615 L2213.37 233.68 Z\" fill=\"#000000\" fill-rule=\"evenodd\" fill-opacity=\"1\" /><polyline clip-path=\"url(#clip570)\" style=\"stroke:#e26f46; stroke-linecap:butt; stroke-linejoin:round; stroke-width:4; stroke-opacity:1; fill:none\" points=\"\n",
       "  2014.4,272.175 2157.07,272.175 \n",
       "  \"/>\n",
       "<path clip-path=\"url(#clip570)\" d=\"M2194.69 291.863 Q2192.89 296.492 2191.18 297.904 Q2189.46 299.316 2186.59 299.316 L2183.19 299.316 L2183.19 295.751 L2185.69 295.751 Q2187.45 295.751 2188.42 294.918 Q2189.39 294.085 2190.57 290.983 L2191.34 289.039 L2180.85 263.529 L2185.36 263.529 L2193.47 283.807 L2201.57 263.529 L2206.08 263.529 L2194.69 291.863 Z\" fill=\"#000000\" fill-rule=\"evenodd\" fill-opacity=\"1\" /><path clip-path=\"url(#clip570)\" d=\"M2216.59 285.52 L2232.91 285.52 L2232.91 289.455 L2210.97 289.455 L2210.97 285.52 Q2213.63 282.765 2218.21 278.136 Q2222.82 273.483 2224 272.14 Q2226.24 269.617 2227.12 267.881 Q2228.03 266.122 2228.03 264.432 Q2228.03 261.678 2226.08 259.941 Q2224.16 258.205 2221.06 258.205 Q2218.86 258.205 2216.41 258.969 Q2213.98 259.733 2211.2 261.284 L2211.2 256.562 Q2214.02 255.428 2216.48 254.849 Q2218.93 254.27 2220.97 254.27 Q2226.34 254.27 2229.53 256.955 Q2232.73 259.641 2232.73 264.131 Q2232.73 266.261 2231.92 268.182 Q2231.13 270.08 2229.02 272.673 Q2228.44 273.344 2225.34 276.562 Q2222.24 279.756 2216.59 285.52 Z\" fill=\"#000000\" fill-rule=\"evenodd\" fill-opacity=\"1\" /><polyline clip-path=\"url(#clip570)\" style=\"stroke:#3da44d; stroke-linecap:butt; stroke-linejoin:round; stroke-width:4; stroke-opacity:1; fill:none\" points=\"\n",
       "  2014.4,324.015 2157.07,324.015 \n",
       "  \"/>\n",
       "<path clip-path=\"url(#clip570)\" d=\"M2194.69 343.703 Q2192.89 348.332 2191.18 349.744 Q2189.46 351.156 2186.59 351.156 L2183.19 351.156 L2183.19 347.591 L2185.69 347.591 Q2187.45 347.591 2188.42 346.758 Q2189.39 345.925 2190.57 342.823 L2191.34 340.879 L2180.85 315.369 L2185.36 315.369 L2193.47 335.647 L2201.57 315.369 L2206.08 315.369 L2194.69 343.703 Z\" fill=\"#000000\" fill-rule=\"evenodd\" fill-opacity=\"1\" /><path clip-path=\"url(#clip570)\" d=\"M2226.73 322.661 Q2230.09 323.379 2231.96 325.647 Q2233.86 327.916 2233.86 331.249 Q2233.86 336.365 2230.34 339.166 Q2226.82 341.967 2220.34 341.967 Q2218.17 341.967 2215.85 341.527 Q2213.56 341.11 2211.11 340.254 L2211.11 335.74 Q2213.05 336.874 2215.36 337.453 Q2217.68 338.031 2220.2 338.031 Q2224.6 338.031 2226.89 336.295 Q2229.21 334.559 2229.21 331.249 Q2229.21 328.193 2227.05 326.48 Q2224.92 324.744 2221.11 324.744 L2217.08 324.744 L2217.08 320.902 L2221.29 320.902 Q2224.74 320.902 2226.57 319.536 Q2228.4 318.147 2228.4 315.555 Q2228.4 312.893 2226.5 311.481 Q2224.62 310.045 2221.11 310.045 Q2219.18 310.045 2216.99 310.462 Q2214.79 310.879 2212.15 311.758 L2212.15 307.592 Q2214.81 306.851 2217.12 306.481 Q2219.46 306.11 2221.52 306.11 Q2226.85 306.11 2229.95 308.541 Q2233.05 310.948 2233.05 315.068 Q2233.05 317.939 2231.41 319.93 Q2229.76 321.897 2226.73 322.661 Z\" fill=\"#000000\" fill-rule=\"evenodd\" fill-opacity=\"1\" /></svg>\n"
      ]
     },
     "execution_count": 69,
     "metadata": {},
     "output_type": "execute_result"
    },
    {
     "name": "stderr",
     "output_type": "stream",
     "text": [
      "┌ Warning: No strict ticks found\n",
      "└ @ PlotUtils /home/rdpaula/.julia/packages/PlotUtils/jNTYY/src/ticks.jl:191\n",
      "┌ Warning: No strict ticks found\n",
      "└ @ PlotUtils /home/rdpaula/.julia/packages/PlotUtils/jNTYY/src/ticks.jl:191\n"
     ]
    }
   ],
   "source": [
    "plot(title=\"gráfico log-log, Er vs ℎ\",xscale=:log10,yscale=:log10,xlim=(epsilon,x0),ylim=(-5,0.1),linestyle=:dash)\n",
    "plot!(h,E1_r)\n",
    "plot!(h,E2_r)\n",
    "plot!(h,E3_r)"
   ]
  },
  {
   "cell_type": "code",
   "execution_count": 75,
   "metadata": {},
   "outputs": [
    {
     "data": {
      "text/plain": [
       "E3_r (generic function with 1 method)"
      ]
     },
     "execution_count": 75,
     "metadata": {},
     "output_type": "execute_result"
    }
   ],
   "source": [
    "x0=100.0\n",
    "epsilon=eps(x0)\n",
    "h=[1/10^(k) for k=0:19]\n",
    "E1_r(h)=abs(derivada_adelante(g,x0,h)-sin(x0))/(-sin(x0))\n",
    "E2_r(h)=abs(derivada_centrada_3p(g,x0,h)-sin(x0))/(-sin(x0))\n",
    "E3_r(h)=abs(derivada_centrada_5p(g,x0,h)-sin(x0))/(-sin(x0))"
   ]
  },
  {
   "cell_type": "code",
   "execution_count": 85,
   "metadata": {},
   "outputs": [
    {
     "data": {
      "image/svg+xml": [
       "<?xml version=\"1.0\" encoding=\"utf-8\"?>\n",
       "<svg xmlns=\"http://www.w3.org/2000/svg\" xmlns:xlink=\"http://www.w3.org/1999/xlink\" width=\"600\" height=\"400\" viewBox=\"0 0 2400 1600\">\n",
       "<defs>\n",
       "  <clipPath id=\"clip090\">\n",
       "    <rect x=\"0\" y=\"0\" width=\"2400\" height=\"1600\"/>\n",
       "  </clipPath>\n",
       "</defs>\n",
       "<path clip-path=\"url(#clip090)\" d=\"\n",
       "M0 1600 L2400 1600 L2400 0 L0 0  Z\n",
       "  \" fill=\"#ffffff\" fill-rule=\"evenodd\" fill-opacity=\"1\"/>\n",
       "<defs>\n",
       "  <clipPath id=\"clip091\">\n",
       "    <rect x=\"480\" y=\"0\" width=\"1681\" height=\"1600\"/>\n",
       "  </clipPath>\n",
       "</defs>\n",
       "<path clip-path=\"url(#clip090)\" d=\"\n",
       "M183.929 1474.16 L2352.76 1474.16 L2352.76 123.472 L183.929 123.472  Z\n",
       "  \" fill=\"#ffffff\" fill-rule=\"evenodd\" fill-opacity=\"1\"/>\n",
       "<defs>\n",
       "  <clipPath id=\"clip092\">\n",
       "    <rect x=\"183\" y=\"123\" width=\"2170\" height=\"1352\"/>\n",
       "  </clipPath>\n",
       "</defs>\n",
       "<polyline clip-path=\"url(#clip092)\" style=\"stroke:#000000; stroke-linecap:butt; stroke-linejoin:round; stroke-width:2; stroke-opacity:0.1; fill:none\" points=\"\n",
       "  710.47,1474.16 710.47,123.472 \n",
       "  \"/>\n",
       "<polyline clip-path=\"url(#clip092)\" style=\"stroke:#000000; stroke-linecap:butt; stroke-linejoin:round; stroke-width:2; stroke-opacity:0.1; fill:none\" points=\"\n",
       "  1394.76,1474.16 1394.76,123.472 \n",
       "  \"/>\n",
       "<polyline clip-path=\"url(#clip092)\" style=\"stroke:#000000; stroke-linecap:butt; stroke-linejoin:round; stroke-width:2; stroke-opacity:0.1; fill:none\" points=\"\n",
       "  2079.04,1474.16 2079.04,123.472 \n",
       "  \"/>\n",
       "<polyline clip-path=\"url(#clip090)\" style=\"stroke:#000000; stroke-linecap:butt; stroke-linejoin:round; stroke-width:4; stroke-opacity:1; fill:none\" points=\"\n",
       "  183.929,1474.16 2352.76,1474.16 \n",
       "  \"/>\n",
       "<polyline clip-path=\"url(#clip090)\" style=\"stroke:#000000; stroke-linecap:butt; stroke-linejoin:round; stroke-width:4; stroke-opacity:1; fill:none\" points=\"\n",
       "  710.47,1474.16 710.47,1455.27 \n",
       "  \"/>\n",
       "<polyline clip-path=\"url(#clip090)\" style=\"stroke:#000000; stroke-linecap:butt; stroke-linejoin:round; stroke-width:4; stroke-opacity:1; fill:none\" points=\"\n",
       "  1394.76,1474.16 1394.76,1455.27 \n",
       "  \"/>\n",
       "<polyline clip-path=\"url(#clip090)\" style=\"stroke:#000000; stroke-linecap:butt; stroke-linejoin:round; stroke-width:4; stroke-opacity:1; fill:none\" points=\"\n",
       "  2079.04,1474.16 2079.04,1455.27 \n",
       "  \"/>\n",
       "<path clip-path=\"url(#clip090)\" d=\"M647.834 1548.29 L655.473 1548.29 L655.473 1521.92 L647.163 1523.59 L647.163 1519.33 L655.426 1517.66 L660.102 1517.66 L660.102 1548.29 L667.741 1548.29 L667.741 1552.22 L647.834 1552.22 L647.834 1548.29 Z\" fill=\"#000000\" fill-rule=\"evenodd\" fill-opacity=\"1\" /><path clip-path=\"url(#clip090)\" d=\"M687.185 1520.74 Q683.574 1520.74 681.746 1524.31 Q679.94 1527.85 679.94 1534.98 Q679.94 1542.09 681.746 1545.65 Q683.574 1549.19 687.185 1549.19 Q690.82 1549.19 692.625 1545.65 Q694.454 1542.09 694.454 1534.98 Q694.454 1527.85 692.625 1524.31 Q690.82 1520.74 687.185 1520.74 M687.185 1517.04 Q692.996 1517.04 696.051 1521.65 Q699.13 1526.23 699.13 1534.98 Q699.13 1543.71 696.051 1548.31 Q692.996 1552.9 687.185 1552.9 Q681.375 1552.9 678.297 1548.31 Q675.241 1543.71 675.241 1534.98 Q675.241 1526.23 678.297 1521.65 Q681.375 1517.04 687.185 1517.04 Z\" fill=\"#000000\" fill-rule=\"evenodd\" fill-opacity=\"1\" /><path clip-path=\"url(#clip090)\" d=\"M699.13 1511.14 L723.241 1511.14 L723.241 1514.34 L699.13 1514.34 L699.13 1511.14 Z\" fill=\"#000000\" fill-rule=\"evenodd\" fill-opacity=\"1\" /><path clip-path=\"url(#clip090)\" d=\"M732.1 1521.62 L738.306 1521.62 L738.306 1500.19 L731.554 1501.55 L731.554 1498.09 L738.269 1496.73 L742.068 1496.73 L742.068 1521.62 L748.275 1521.62 L748.275 1524.81 L732.1 1524.81 L732.1 1521.62 Z\" fill=\"#000000\" fill-rule=\"evenodd\" fill-opacity=\"1\" /><path clip-path=\"url(#clip090)\" d=\"M764.073 1499.24 Q761.139 1499.24 759.653 1502.13 Q758.186 1505.01 758.186 1510.8 Q758.186 1516.58 759.653 1519.47 Q761.139 1522.35 764.073 1522.35 Q767.026 1522.35 768.493 1519.47 Q769.979 1516.58 769.979 1510.8 Q769.979 1505.01 768.493 1502.13 Q767.026 1499.24 764.073 1499.24 M764.073 1496.23 Q768.794 1496.23 771.276 1499.97 Q773.778 1503.69 773.778 1510.8 Q773.778 1517.89 771.276 1521.64 Q768.794 1525.36 764.073 1525.36 Q759.352 1525.36 756.851 1521.64 Q754.368 1517.89 754.368 1510.8 Q754.368 1503.69 756.851 1499.97 Q759.352 1496.23 764.073 1496.23 Z\" fill=\"#000000\" fill-rule=\"evenodd\" fill-opacity=\"1\" /><path clip-path=\"url(#clip090)\" d=\"M1344.78 1548.29 L1352.42 1548.29 L1352.42 1521.92 L1344.11 1523.59 L1344.11 1519.33 L1352.37 1517.66 L1357.05 1517.66 L1357.05 1548.29 L1364.68 1548.29 L1364.68 1552.22 L1344.78 1552.22 L1344.78 1548.29 Z\" fill=\"#000000\" fill-rule=\"evenodd\" fill-opacity=\"1\" /><path clip-path=\"url(#clip090)\" d=\"M1384.13 1520.74 Q1380.52 1520.74 1378.69 1524.31 Q1376.88 1527.85 1376.88 1534.98 Q1376.88 1542.09 1378.69 1545.65 Q1380.52 1549.19 1384.13 1549.19 Q1387.76 1549.19 1389.57 1545.65 Q1391.4 1542.09 1391.4 1534.98 Q1391.4 1527.85 1389.57 1524.31 Q1387.76 1520.74 1384.13 1520.74 M1384.13 1517.04 Q1389.94 1517.04 1392.99 1521.65 Q1396.07 1526.23 1396.07 1534.98 Q1396.07 1543.71 1392.99 1548.31 Q1389.94 1552.9 1384.13 1552.9 Q1378.32 1552.9 1375.24 1548.31 Q1372.18 1543.71 1372.18 1534.98 Q1372.18 1526.23 1375.24 1521.65 Q1378.32 1517.04 1384.13 1517.04 Z\" fill=\"#000000\" fill-rule=\"evenodd\" fill-opacity=\"1\" /><path clip-path=\"url(#clip090)\" d=\"M1396.07 1511.14 L1420.18 1511.14 L1420.18 1514.34 L1396.07 1514.34 L1396.07 1511.14 Z\" fill=\"#000000\" fill-rule=\"evenodd\" fill-opacity=\"1\" /><path clip-path=\"url(#clip090)\" d=\"M1428.42 1496.73 L1443.34 1496.73 L1443.34 1499.93 L1431.9 1499.93 L1431.9 1506.82 Q1432.73 1506.53 1433.56 1506.4 Q1434.38 1506.25 1435.21 1506.25 Q1439.91 1506.25 1442.66 1508.83 Q1445.41 1511.4 1445.41 1515.81 Q1445.41 1520.34 1442.58 1522.86 Q1439.76 1525.36 1434.63 1525.36 Q1432.86 1525.36 1431.02 1525.06 Q1429.19 1524.76 1427.24 1524.16 L1427.24 1520.34 Q1428.93 1521.26 1430.74 1521.71 Q1432.54 1522.16 1434.55 1522.16 Q1437.81 1522.16 1439.71 1520.45 Q1441.61 1518.74 1441.61 1515.81 Q1441.61 1512.87 1439.71 1511.16 Q1437.81 1509.45 1434.55 1509.45 Q1433.03 1509.45 1431.51 1509.79 Q1430 1510.13 1428.42 1510.84 L1428.42 1496.73 Z\" fill=\"#000000\" fill-rule=\"evenodd\" fill-opacity=\"1\" /><path clip-path=\"url(#clip090)\" d=\"M2044.02 1548.29 L2051.66 1548.29 L2051.66 1521.92 L2043.35 1523.59 L2043.35 1519.33 L2051.62 1517.66 L2056.29 1517.66 L2056.29 1548.29 L2063.93 1548.29 L2063.93 1552.22 L2044.02 1552.22 L2044.02 1548.29 Z\" fill=\"#000000\" fill-rule=\"evenodd\" fill-opacity=\"1\" /><path clip-path=\"url(#clip090)\" d=\"M2083.38 1520.74 Q2079.76 1520.74 2077.94 1524.31 Q2076.13 1527.85 2076.13 1534.98 Q2076.13 1542.09 2077.94 1545.65 Q2079.76 1549.19 2083.38 1549.19 Q2087.01 1549.19 2088.82 1545.65 Q2090.64 1542.09 2090.64 1534.98 Q2090.64 1527.85 2088.82 1524.31 Q2087.01 1520.74 2083.38 1520.74 M2083.38 1517.04 Q2089.19 1517.04 2092.24 1521.65 Q2095.32 1526.23 2095.32 1534.98 Q2095.32 1543.71 2092.24 1548.31 Q2089.19 1552.9 2083.38 1552.9 Q2077.57 1552.9 2074.49 1548.31 Q2071.43 1543.71 2071.43 1534.98 Q2071.43 1526.23 2074.49 1521.65 Q2077.57 1517.04 2083.38 1517.04 Z\" fill=\"#000000\" fill-rule=\"evenodd\" fill-opacity=\"1\" /><path clip-path=\"url(#clip090)\" d=\"M2105.03 1499.24 Q2102.09 1499.24 2100.61 1502.13 Q2099.14 1505.01 2099.14 1510.8 Q2099.14 1516.58 2100.61 1519.47 Q2102.09 1522.35 2105.03 1522.35 Q2107.98 1522.35 2109.45 1519.47 Q2110.93 1516.58 2110.93 1510.8 Q2110.93 1505.01 2109.45 1502.13 Q2107.98 1499.24 2105.03 1499.24 M2105.03 1496.23 Q2109.75 1496.23 2112.23 1499.97 Q2114.73 1503.69 2114.73 1510.8 Q2114.73 1517.89 2112.23 1521.64 Q2109.75 1525.36 2105.03 1525.36 Q2100.3 1525.36 2097.8 1521.64 Q2095.32 1517.89 2095.32 1510.8 Q2095.32 1503.69 2097.8 1499.97 Q2100.3 1496.23 2105.03 1496.23 Z\" fill=\"#000000\" fill-rule=\"evenodd\" fill-opacity=\"1\" /><polyline clip-path=\"url(#clip092)\" style=\"stroke:#000000; stroke-linecap:butt; stroke-linejoin:round; stroke-width:2; stroke-opacity:0.1; fill:none\" points=\"\n",
       "  183.929,1474.16 2352.76,1474.16 \n",
       "  \"/>\n",
       "<polyline clip-path=\"url(#clip092)\" style=\"stroke:#000000; stroke-linecap:butt; stroke-linejoin:round; stroke-width:2; stroke-opacity:0.1; fill:none\" points=\"\n",
       "  183.929,798.818 2352.76,798.818 \n",
       "  \"/>\n",
       "<polyline clip-path=\"url(#clip092)\" style=\"stroke:#000000; stroke-linecap:butt; stroke-linejoin:round; stroke-width:2; stroke-opacity:0.1; fill:none\" points=\"\n",
       "  183.929,123.472 2352.76,123.472 \n",
       "  \"/>\n",
       "<polyline clip-path=\"url(#clip090)\" style=\"stroke:#000000; stroke-linecap:butt; stroke-linejoin:round; stroke-width:4; stroke-opacity:1; fill:none\" points=\"\n",
       "  183.929,1474.16 183.929,123.472 \n",
       "  \"/>\n",
       "<polyline clip-path=\"url(#clip090)\" style=\"stroke:#000000; stroke-linecap:butt; stroke-linejoin:round; stroke-width:4; stroke-opacity:1; fill:none\" points=\"\n",
       "  183.929,1474.16 202.826,1474.16 \n",
       "  \"/>\n",
       "<polyline clip-path=\"url(#clip090)\" style=\"stroke:#000000; stroke-linecap:butt; stroke-linejoin:round; stroke-width:4; stroke-opacity:1; fill:none\" points=\"\n",
       "  183.929,798.818 202.826,798.818 \n",
       "  \"/>\n",
       "<polyline clip-path=\"url(#clip090)\" style=\"stroke:#000000; stroke-linecap:butt; stroke-linejoin:round; stroke-width:4; stroke-opacity:1; fill:none\" points=\"\n",
       "  183.929,123.472 202.826,123.472 \n",
       "  \"/>\n",
       "<path clip-path=\"url(#clip090)\" d=\"M52.585 1493.96 L60.2238 1493.96 L60.2238 1467.59 L51.9137 1469.26 L51.9137 1465 L60.1776 1463.33 L64.8535 1463.33 L64.8535 1493.96 L72.4923 1493.96 L72.4923 1497.89 L52.585 1497.89 L52.585 1493.96 Z\" fill=\"#000000\" fill-rule=\"evenodd\" fill-opacity=\"1\" /><path clip-path=\"url(#clip090)\" d=\"M91.9366 1466.41 Q88.3255 1466.41 86.4969 1469.98 Q84.6913 1473.52 84.6913 1480.65 Q84.6913 1487.75 86.4969 1491.32 Q88.3255 1494.86 91.9366 1494.86 Q95.5709 1494.86 97.3764 1491.32 Q99.2051 1487.75 99.2051 1480.65 Q99.2051 1473.52 97.3764 1469.98 Q95.5709 1466.41 91.9366 1466.41 M91.9366 1462.71 Q97.7468 1462.71 100.802 1467.31 Q103.881 1471.9 103.881 1480.65 Q103.881 1489.37 100.802 1493.98 Q97.7468 1498.56 91.9366 1498.56 Q86.1265 1498.56 83.0478 1493.98 Q79.9923 1489.37 79.9923 1480.65 Q79.9923 1471.9 83.0478 1467.31 Q86.1265 1462.71 91.9366 1462.71 Z\" fill=\"#000000\" fill-rule=\"evenodd\" fill-opacity=\"1\" /><path clip-path=\"url(#clip090)\" d=\"M116.557 1445.71 L106.965 1460.7 L116.557 1460.7 L116.557 1445.71 M115.561 1442.4 L120.338 1442.4 L120.338 1460.7 L124.344 1460.7 L124.344 1463.86 L120.338 1463.86 L120.338 1470.48 L116.557 1470.48 L116.557 1463.86 L103.881 1463.86 L103.881 1460.19 L115.561 1442.4 Z\" fill=\"#000000\" fill-rule=\"evenodd\" fill-opacity=\"1\" /><path clip-path=\"url(#clip090)\" d=\"M142.136 1455.34 Q144.863 1455.92 146.387 1457.77 Q147.929 1459.61 147.929 1462.32 Q147.929 1466.48 145.07 1468.75 Q142.211 1471.03 136.945 1471.03 Q135.177 1471.03 133.296 1470.67 Q131.434 1470.33 129.441 1469.64 L129.441 1465.97 Q131.021 1466.89 132.901 1467.36 Q134.782 1467.83 136.832 1467.83 Q140.406 1467.83 142.268 1466.42 Q144.148 1465.01 144.148 1462.32 Q144.148 1459.84 142.399 1458.44 Q140.669 1457.03 137.566 1457.03 L134.293 1457.03 L134.293 1453.91 L137.716 1453.91 Q140.519 1453.91 142.004 1452.8 Q143.49 1451.67 143.49 1449.57 Q143.49 1447.4 141.948 1446.26 Q140.425 1445.09 137.566 1445.09 Q136.005 1445.09 134.218 1445.43 Q132.431 1445.77 130.287 1446.48 L130.287 1443.1 Q132.45 1442.5 134.331 1442.19 Q136.23 1441.89 137.904 1441.89 Q142.23 1441.89 144.75 1443.87 Q147.271 1445.82 147.271 1449.17 Q147.271 1451.5 145.935 1453.12 Q144.6 1454.72 142.136 1455.34 Z\" fill=\"#000000\" fill-rule=\"evenodd\" fill-opacity=\"1\" /><path clip-path=\"url(#clip090)\" d=\"M51.6634 818.611 L59.3023 818.611 L59.3023 792.245 L50.9921 793.912 L50.9921 789.653 L59.256 787.986 L63.9319 787.986 L63.9319 818.611 L71.5707 818.611 L71.5707 822.546 L51.6634 822.546 L51.6634 818.611 Z\" fill=\"#000000\" fill-rule=\"evenodd\" fill-opacity=\"1\" /><path clip-path=\"url(#clip090)\" d=\"M91.0151 791.065 Q87.404 791.065 85.5753 794.629 Q83.7697 798.171 83.7697 805.301 Q83.7697 812.407 85.5753 815.972 Q87.404 819.514 91.0151 819.514 Q94.6493 819.514 96.4548 815.972 Q98.2835 812.407 98.2835 805.301 Q98.2835 798.171 96.4548 794.629 Q94.6493 791.065 91.0151 791.065 M91.0151 787.361 Q96.8252 787.361 99.8808 791.967 Q102.959 796.551 102.959 805.301 Q102.959 814.028 99.8808 818.634 Q96.8252 823.217 91.0151 823.217 Q85.2049 823.217 82.1262 818.634 Q79.0707 814.028 79.0707 805.301 Q79.0707 796.551 82.1262 791.967 Q85.2049 787.361 91.0151 787.361 Z\" fill=\"#000000\" fill-rule=\"evenodd\" fill-opacity=\"1\" /><path clip-path=\"url(#clip090)\" d=\"M115.636 770.366 L106.044 785.356 L115.636 785.356 L115.636 770.366 M114.639 767.056 L119.416 767.056 L119.416 785.356 L123.422 785.356 L123.422 788.515 L119.416 788.515 L119.416 795.136 L115.636 795.136 L115.636 788.515 L102.959 788.515 L102.959 784.848 L114.639 767.056 Z\" fill=\"#000000\" fill-rule=\"evenodd\" fill-opacity=\"1\" /><path clip-path=\"url(#clip090)\" d=\"M140.142 770.366 L130.55 785.356 L140.142 785.356 L140.142 770.366 M139.146 767.056 L143.923 767.056 L143.923 785.356 L147.929 785.356 L147.929 788.515 L143.923 788.515 L143.923 795.136 L140.142 795.136 L140.142 788.515 L127.466 788.515 L127.466 784.848 L139.146 767.056 Z\" fill=\"#000000\" fill-rule=\"evenodd\" fill-opacity=\"1\" /><path clip-path=\"url(#clip090)\" d=\"M52.8671 143.265 L60.506 143.265 L60.506 116.899 L52.1958 118.566 L52.1958 114.306 L60.4597 112.64 L65.1356 112.64 L65.1356 143.265 L72.7744 143.265 L72.7744 147.2 L52.8671 147.2 L52.8671 143.265 Z\" fill=\"#000000\" fill-rule=\"evenodd\" fill-opacity=\"1\" /><path clip-path=\"url(#clip090)\" d=\"M92.2188 115.718 Q88.6077 115.718 86.779 119.283 Q84.9734 122.825 84.9734 129.954 Q84.9734 137.061 86.779 140.626 Q88.6077 144.167 92.2188 144.167 Q95.853 144.167 97.6585 140.626 Q99.4872 137.061 99.4872 129.954 Q99.4872 122.825 97.6585 119.283 Q95.853 115.718 92.2188 115.718 M92.2188 112.015 Q98.0289 112.015 101.084 116.621 Q104.163 121.204 104.163 129.954 Q104.163 138.681 101.084 143.288 Q98.0289 147.871 92.2188 147.871 Q86.4086 147.871 83.3299 143.288 Q80.2744 138.681 80.2744 129.954 Q80.2744 121.204 83.3299 116.621 Q86.4086 112.015 92.2188 112.015 Z\" fill=\"#000000\" fill-rule=\"evenodd\" fill-opacity=\"1\" /><path clip-path=\"url(#clip090)\" d=\"M116.84 95.0195 L107.248 110.009 L116.84 110.009 L116.84 95.0195 M115.843 91.7093 L120.62 91.7093 L120.62 110.009 L124.626 110.009 L124.626 113.169 L120.62 113.169 L120.62 119.789 L116.84 119.789 L116.84 113.169 L104.163 113.169 L104.163 109.501 L115.843 91.7093 Z\" fill=\"#000000\" fill-rule=\"evenodd\" fill-opacity=\"1\" /><path clip-path=\"url(#clip090)\" d=\"M130.945 91.7093 L145.86 91.7093 L145.86 94.9066 L134.425 94.9066 L134.425 101.79 Q135.252 101.508 136.08 101.377 Q136.907 101.226 137.735 101.226 Q142.437 101.226 145.183 103.803 Q147.929 106.379 147.929 110.78 Q147.929 115.313 145.108 117.833 Q142.286 120.335 137.152 120.335 Q135.384 120.335 133.541 120.034 Q131.717 119.733 129.761 119.131 L129.761 115.313 Q131.453 116.235 133.259 116.686 Q135.064 117.137 137.077 117.137 Q140.33 117.137 142.23 115.426 Q144.13 113.714 144.13 110.78 Q144.13 107.846 142.23 106.135 Q140.33 104.423 137.077 104.423 Q135.553 104.423 134.03 104.762 Q132.525 105.1 130.945 105.815 L130.945 91.7093 Z\" fill=\"#000000\" fill-rule=\"evenodd\" fill-opacity=\"1\" /><path clip-path=\"url(#clip090)\" d=\"M840.344 49.3643 Q840.344 41.2625 836.982 36.8065 Q833.66 32.3505 827.624 32.3505 Q821.629 32.3505 818.267 36.8065 Q814.945 41.2625 814.945 49.3643 Q814.945 57.4256 818.267 61.8816 Q821.629 66.3376 827.624 66.3376 Q833.66 66.3376 836.982 61.8816 Q840.344 57.4256 840.344 49.3643 M847.798 66.9452 Q847.798 78.5308 842.653 84.1616 Q837.508 89.8329 826.895 89.8329 Q822.966 89.8329 819.482 89.2252 Q815.998 88.6581 812.717 87.4428 L812.717 80.1917 Q815.998 81.9741 819.198 82.8248 Q822.399 83.6755 825.72 83.6755 Q833.052 83.6755 836.698 79.8271 Q840.344 76.0193 840.344 68.282 L840.344 64.5957 Q838.035 68.6061 834.43 70.5911 Q830.824 72.576 825.801 72.576 Q817.456 72.576 812.352 66.2161 Q807.248 59.8562 807.248 49.3643 Q807.248 38.832 812.352 32.472 Q817.456 26.1121 825.801 26.1121 Q830.824 26.1121 834.43 28.0971 Q838.035 30.082 840.344 34.0924 L840.344 27.2059 L847.798 27.2059 L847.798 66.9452 Z\" fill=\"#000000\" fill-rule=\"evenodd\" fill-opacity=\"1\" /><path clip-path=\"url(#clip090)\" d=\"M889.441 34.1734 Q888.185 33.4443 886.686 33.1202 Q885.228 32.7556 883.446 32.7556 Q877.126 32.7556 873.724 36.8875 Q870.361 40.9789 870.361 48.6757 L870.361 72.576 L862.867 72.576 L862.867 27.2059 L870.361 27.2059 L870.361 34.2544 Q872.711 30.1225 876.478 28.1376 Q880.245 26.1121 885.633 26.1121 Q886.403 26.1121 887.335 26.2337 Q888.266 26.3147 889.401 26.5172 L889.441 34.1734 Z\" fill=\"#000000\" fill-rule=\"evenodd\" fill-opacity=\"1\" /><path clip-path=\"url(#clip090)\" d=\"M917.878 49.7694 Q908.845 49.7694 905.361 51.8354 Q901.877 53.9013 901.877 58.8839 Q901.877 62.8538 904.47 65.2034 Q907.103 67.5124 911.599 67.5124 Q917.797 67.5124 921.524 63.1374 Q925.292 58.7219 925.292 51.4303 L925.292 49.7694 L917.878 49.7694 M932.745 46.6907 L932.745 72.576 L925.292 72.576 L925.292 65.6895 Q922.739 69.8214 918.932 71.8063 Q915.124 73.7508 909.615 73.7508 Q902.647 73.7508 898.515 69.8619 Q894.424 65.9325 894.424 59.3701 Q894.424 51.7138 899.528 47.825 Q904.672 43.9361 914.84 43.9361 L925.292 43.9361 L925.292 43.2069 Q925.292 38.0623 921.889 35.2672 Q918.527 32.4315 912.41 32.4315 Q908.521 32.4315 904.834 33.3632 Q901.148 34.295 897.745 36.1584 L897.745 29.2718 Q901.837 27.692 905.685 26.9223 Q909.534 26.1121 913.179 26.1121 Q923.023 26.1121 927.884 31.2163 Q932.745 36.3204 932.745 46.6907 M919.134 6.22219 L927.195 6.22219 L913.99 21.4536 L907.792 21.4536 L919.134 6.22219 Z\" fill=\"#000000\" fill-rule=\"evenodd\" fill-opacity=\"1\" /><path clip-path=\"url(#clip090)\" d=\"M971.067 9.54393 L971.067 15.7418 L963.937 15.7418 Q959.927 15.7418 958.347 17.3622 Q956.808 18.9825 956.808 23.1955 L956.808 27.2059 L969.082 27.2059 L969.082 32.9987 L956.808 32.9987 L956.808 72.576 L949.313 72.576 L949.313 32.9987 L942.184 32.9987 L942.184 27.2059 L949.313 27.2059 L949.313 24.0462 Q949.313 16.471 952.838 13.0277 Q956.362 9.54393 964.018 9.54393 L971.067 9.54393 Z\" fill=\"#000000\" fill-rule=\"evenodd\" fill-opacity=\"1\" /><path clip-path=\"url(#clip090)\" d=\"M977.305 27.2059 L984.759 27.2059 L984.759 72.576 L977.305 72.576 L977.305 27.2059 M977.305 9.54393 L984.759 9.54393 L984.759 18.9825 L977.305 18.9825 L977.305 9.54393 Z\" fill=\"#000000\" fill-rule=\"evenodd\" fill-opacity=\"1\" /><path clip-path=\"url(#clip090)\" d=\"M1033.01 28.9478 L1033.01 35.9153 Q1029.85 34.1734 1026.65 33.3227 Q1023.49 32.4315 1020.24 32.4315 Q1012.99 32.4315 1008.98 37.0496 Q1004.97 41.6271 1004.97 49.9314 Q1004.97 58.2358 1008.98 62.8538 Q1012.99 67.4314 1020.24 67.4314 Q1023.49 67.4314 1026.65 66.5807 Q1029.85 65.6895 1033.01 63.9476 L1033.01 70.8341 Q1029.89 72.2924 1026.52 73.0216 Q1023.2 73.7508 1019.43 73.7508 Q1009.19 73.7508 1003.15 67.3098 Q997.114 60.8689 997.114 49.9314 Q997.114 38.832 1003.19 32.472 Q1009.31 26.1121 1019.92 26.1121 Q1023.36 26.1121 1026.65 26.8413 Q1029.93 27.5299 1033.01 28.9478 Z\" fill=\"#000000\" fill-rule=\"evenodd\" fill-opacity=\"1\" /><path clip-path=\"url(#clip090)\" d=\"M1063.55 32.4315 Q1057.55 32.4315 1054.07 37.1306 Q1050.59 41.7891 1050.59 49.9314 Q1050.59 58.0738 1054.03 62.7728 Q1057.51 67.4314 1063.55 67.4314 Q1069.5 67.4314 1072.99 62.7323 Q1076.47 58.0333 1076.47 49.9314 Q1076.47 41.8701 1072.99 37.1711 Q1069.5 32.4315 1063.55 32.4315 M1063.55 26.1121 Q1073.27 26.1121 1078.82 32.4315 Q1084.37 38.7509 1084.37 49.9314 Q1084.37 61.0714 1078.82 67.4314 Q1073.27 73.7508 1063.55 73.7508 Q1053.79 73.7508 1048.24 67.4314 Q1042.73 61.0714 1042.73 49.9314 Q1042.73 38.7509 1048.24 32.4315 Q1053.79 26.1121 1063.55 26.1121 Z\" fill=\"#000000\" fill-rule=\"evenodd\" fill-opacity=\"1\" /><path clip-path=\"url(#clip090)\" d=\"M1123.1 9.54393 L1130.55 9.54393 L1130.55 72.576 L1123.1 72.576 L1123.1 9.54393 Z\" fill=\"#000000\" fill-rule=\"evenodd\" fill-opacity=\"1\" /><path clip-path=\"url(#clip090)\" d=\"M1163.73 32.4315 Q1157.73 32.4315 1154.25 37.1306 Q1150.76 41.7891 1150.76 49.9314 Q1150.76 58.0738 1154.21 62.7728 Q1157.69 67.4314 1163.73 67.4314 Q1169.68 67.4314 1173.17 62.7323 Q1176.65 58.0333 1176.65 49.9314 Q1176.65 41.8701 1173.17 37.1711 Q1169.68 32.4315 1163.73 32.4315 M1163.73 26.1121 Q1173.45 26.1121 1179 32.4315 Q1184.55 38.7509 1184.55 49.9314 Q1184.55 61.0714 1179 67.4314 Q1173.45 73.7508 1163.73 73.7508 Q1153.97 73.7508 1148.42 67.4314 Q1142.91 61.0714 1142.91 49.9314 Q1142.91 38.7509 1148.42 32.4315 Q1153.97 26.1121 1163.73 26.1121 Z\" fill=\"#000000\" fill-rule=\"evenodd\" fill-opacity=\"1\" /><path clip-path=\"url(#clip090)\" d=\"M1226.76 49.3643 Q1226.76 41.2625 1223.4 36.8065 Q1220.08 32.3505 1214.04 32.3505 Q1208.04 32.3505 1204.68 36.8065 Q1201.36 41.2625 1201.36 49.3643 Q1201.36 57.4256 1204.68 61.8816 Q1208.04 66.3376 1214.04 66.3376 Q1220.08 66.3376 1223.4 61.8816 Q1226.76 57.4256 1226.76 49.3643 M1234.21 66.9452 Q1234.21 78.5308 1229.07 84.1616 Q1223.92 89.8329 1213.31 89.8329 Q1209.38 89.8329 1205.9 89.2252 Q1202.41 88.6581 1199.13 87.4428 L1199.13 80.1917 Q1202.41 81.9741 1205.61 82.8248 Q1208.81 83.6755 1212.14 83.6755 Q1219.47 83.6755 1223.11 79.8271 Q1226.76 76.0193 1226.76 68.282 L1226.76 64.5957 Q1224.45 68.6061 1220.85 70.5911 Q1217.24 72.576 1212.22 72.576 Q1203.87 72.576 1198.77 66.2161 Q1193.66 59.8562 1193.66 49.3643 Q1193.66 38.832 1198.77 32.472 Q1203.87 26.1121 1212.22 26.1121 Q1217.24 26.1121 1220.85 28.0971 Q1224.45 30.082 1226.76 34.0924 L1226.76 27.2059 L1234.21 27.2059 L1234.21 66.9452 Z\" fill=\"#000000\" fill-rule=\"evenodd\" fill-opacity=\"1\" /><path clip-path=\"url(#clip090)\" d=\"M1245.8 46.5287 L1267.63 46.5287 L1267.63 53.1722 L1245.8 53.1722 L1245.8 46.5287 Z\" fill=\"#000000\" fill-rule=\"evenodd\" fill-opacity=\"1\" /><path clip-path=\"url(#clip090)\" d=\"M1279.5 9.54393 L1286.96 9.54393 L1286.96 72.576 L1279.5 72.576 L1279.5 9.54393 Z\" fill=\"#000000\" fill-rule=\"evenodd\" fill-opacity=\"1\" /><path clip-path=\"url(#clip090)\" d=\"M1320.13 32.4315 Q1314.14 32.4315 1310.65 37.1306 Q1307.17 41.7891 1307.17 49.9314 Q1307.17 58.0738 1310.61 62.7728 Q1314.1 67.4314 1320.13 67.4314 Q1326.09 67.4314 1329.57 62.7323 Q1333.06 58.0333 1333.06 49.9314 Q1333.06 41.8701 1329.57 37.1711 Q1326.09 32.4315 1320.13 32.4315 M1320.13 26.1121 Q1329.86 26.1121 1335.41 32.4315 Q1340.95 38.7509 1340.95 49.9314 Q1340.95 61.0714 1335.41 67.4314 Q1329.86 73.7508 1320.13 73.7508 Q1310.37 73.7508 1304.82 67.4314 Q1299.31 61.0714 1299.31 49.9314 Q1299.31 38.7509 1304.82 32.4315 Q1310.37 26.1121 1320.13 26.1121 Z\" fill=\"#000000\" fill-rule=\"evenodd\" fill-opacity=\"1\" /><path clip-path=\"url(#clip090)\" d=\"M1383.17 49.3643 Q1383.17 41.2625 1379.8 36.8065 Q1376.48 32.3505 1370.45 32.3505 Q1364.45 32.3505 1361.09 36.8065 Q1357.77 41.2625 1357.77 49.3643 Q1357.77 57.4256 1361.09 61.8816 Q1364.45 66.3376 1370.45 66.3376 Q1376.48 66.3376 1379.8 61.8816 Q1383.17 57.4256 1383.17 49.3643 M1390.62 66.9452 Q1390.62 78.5308 1385.47 84.1616 Q1380.33 89.8329 1369.72 89.8329 Q1365.79 89.8329 1362.3 89.2252 Q1358.82 88.6581 1355.54 87.4428 L1355.54 80.1917 Q1358.82 81.9741 1362.02 82.8248 Q1365.22 83.6755 1368.54 83.6755 Q1375.87 83.6755 1379.52 79.8271 Q1383.17 76.0193 1383.17 68.282 L1383.17 64.5957 Q1380.86 68.6061 1377.25 70.5911 Q1373.65 72.576 1368.62 72.576 Q1360.28 72.576 1355.17 66.2161 Q1350.07 59.8562 1350.07 49.3643 Q1350.07 38.832 1355.17 32.472 Q1360.28 26.1121 1368.62 26.1121 Q1373.65 26.1121 1377.25 28.0971 Q1380.86 30.082 1383.17 34.0924 L1383.17 27.2059 L1390.62 27.2059 L1390.62 66.9452 Z\" fill=\"#000000\" fill-rule=\"evenodd\" fill-opacity=\"1\" /><path clip-path=\"url(#clip090)\" d=\"M1407.88 62.2867 L1416.42 62.2867 L1416.42 69.2543 L1409.78 82.2172 L1404.55 82.2172 L1407.88 69.2543 L1407.88 62.2867 Z\" fill=\"#000000\" fill-rule=\"evenodd\" fill-opacity=\"1\" /><path clip-path=\"url(#clip090)\" d=\"M1459.04 12.096 L1497.28 12.096 L1497.28 18.9825 L1467.22 18.9825 L1467.22 36.8875 L1496.02 36.8875 L1496.02 43.7741 L1467.22 43.7741 L1467.22 65.6895 L1498.01 65.6895 L1498.01 72.576 L1459.04 72.576 L1459.04 12.096 Z\" fill=\"#000000\" fill-rule=\"evenodd\" fill-opacity=\"1\" /><path clip-path=\"url(#clip090)\" d=\"M1537.42 34.1734 Q1536.17 33.4443 1534.67 33.1202 Q1533.21 32.7556 1531.43 32.7556 Q1525.11 32.7556 1521.71 36.8875 Q1518.34 40.9789 1518.34 48.6757 L1518.34 72.576 L1510.85 72.576 L1510.85 27.2059 L1518.34 27.2059 L1518.34 34.2544 Q1520.69 30.1225 1524.46 28.1376 Q1528.23 26.1121 1533.62 26.1121 Q1534.39 26.1121 1535.32 26.2337 Q1536.25 26.3147 1537.38 26.5172 L1537.42 34.1734 Z\" fill=\"#000000\" fill-rule=\"evenodd\" fill-opacity=\"1\" /><path clip-path=\"url(#clip090)\" d=\"M1566.27 27.2059 L1574.17 27.2059 L1588.34 65.2844 L1602.52 27.2059 L1610.42 27.2059 L1593.41 72.576 L1583.28 72.576 L1566.27 27.2059 Z\" fill=\"#000000\" fill-rule=\"evenodd\" fill-opacity=\"1\" /><path clip-path=\"url(#clip090)\" d=\"M1649.63 28.5427 L1649.63 35.5912 Q1646.47 33.9709 1643.07 33.1607 Q1639.67 32.3505 1636.02 32.3505 Q1630.47 32.3505 1627.68 34.0519 Q1624.92 35.7533 1624.92 39.156 Q1624.92 41.7486 1626.91 43.2475 Q1628.89 44.7058 1634.89 46.0426 L1637.44 46.6097 Q1645.38 48.3111 1648.7 51.4303 Q1652.06 54.509 1652.06 60.0587 Q1652.06 66.3781 1647.04 70.0644 Q1642.06 73.7508 1633.31 73.7508 Q1629.66 73.7508 1625.69 73.0216 Q1621.76 72.3329 1617.39 70.9151 L1617.39 63.2184 Q1621.52 65.3654 1625.53 66.4591 Q1629.54 67.5124 1633.47 67.5124 Q1638.74 67.5124 1641.57 65.73 Q1644.41 63.9071 1644.41 60.6258 Q1644.41 57.5877 1642.34 55.9673 Q1640.32 54.3469 1633.39 52.8481 L1630.8 52.2405 Q1623.87 50.7821 1620.79 47.7845 Q1617.71 44.7463 1617.71 39.4801 Q1617.71 33.0797 1622.25 29.5959 Q1626.79 26.1121 1635.13 26.1121 Q1639.26 26.1121 1642.91 26.7198 Q1646.56 27.3274 1649.63 28.5427 Z\" fill=\"#000000\" fill-rule=\"evenodd\" fill-opacity=\"1\" /><path clip-path=\"url(#clip090)\" d=\"M1728.71 45.1919 L1723.4 72.576 L1715.91 72.576 L1721.21 45.4755 Q1721.58 43.5715 1721.78 42.1132 Q1721.98 40.6549 1721.98 39.8042 Q1721.98 36.4014 1719.84 34.4975 Q1717.69 32.5936 1713.84 32.5936 Q1707.85 32.5936 1703.43 36.6445 Q1699.05 40.6954 1697.76 47.4199 L1692.86 72.576 L1685.4 72.576 L1697.68 9.54393 L1705.13 9.54393 L1700.31 34.3355 Q1703.15 30.5276 1707.56 28.3401 Q1711.98 26.1121 1716.84 26.1121 Q1722.83 26.1121 1726.11 29.3529 Q1729.44 32.5936 1729.44 38.4674 Q1729.44 39.9257 1729.23 41.5866 Q1729.07 43.2475 1728.71 45.1919 Z\" fill=\"#000000\" fill-rule=\"evenodd\" fill-opacity=\"1\" /><polyline clip-path=\"url(#clip092)\" style=\"stroke:#009af9; stroke-linecap:butt; stroke-linejoin:round; stroke-width:4; stroke-opacity:1; fill:none\" points=\"\n",
       "  2079.04,825.779 1942.18,969.762 1805.33,983.082 1668.47,984.403 1531.61,984.535 1394.76,984.548 1257.9,984.549 1121.04,984.549 984.184,984.55 847.327,984.548 \n",
       "  710.47,984.545 573.613,984.42 436.756,986.099 299.899,986.099 163.042,882.03 26.1845,30514.1 -110.673,30514.1 -247.53,30514.1 -384.387,30514.1 \n",
       "  \"/>\n",
       "<polyline clip-path=\"url(#clip092)\" style=\"stroke:#e26f46; stroke-linecap:butt; stroke-linejoin:round; stroke-width:4; stroke-opacity:1; fill:none\" points=\"\n",
       "  2079.04,937.199 1942.18,984.061 1805.33,984.545 1668.47,984.549 1531.61,984.549 1394.76,984.549 1257.9,984.549 1121.04,984.549 984.184,984.55 847.327,984.548 \n",
       "  710.47,984.544 573.613,984.418 436.756,986.099 299.899,986.099 163.042,882.03 26.1845,30514.1 -110.673,30514.1 -247.53,30514.1 -384.387,30514.1 \n",
       "  \"/>\n",
       "<polyline clip-path=\"url(#clip092)\" style=\"stroke:#3da44d; stroke-linecap:butt; stroke-linejoin:round; stroke-width:4; stroke-opacity:1; fill:none\" points=\"\n",
       "  2079.04,995.772 1942.18,984.55 1805.33,984.549 1668.47,984.549 1531.61,984.549 1394.76,984.549 1257.9,984.549 1121.04,984.549 984.184,984.55 847.327,984.548 \n",
       "  710.47,984.544 573.613,984.347 436.756,986.797 299.899,985.964 163.042,836.818 26.1845,1887.32 -110.673,1211.97 -247.53,536.625 -384.387,-138.721 \n",
       "  \"/>\n",
       "<path clip-path=\"url(#clip090)\" d=\"\n",
       "M1986.47 375.855 L2280.46 375.855 L2280.46 168.495 L1986.47 168.495  Z\n",
       "  \" fill=\"#ffffff\" fill-rule=\"evenodd\" fill-opacity=\"1\"/>\n",
       "<polyline clip-path=\"url(#clip090)\" style=\"stroke:#000000; stroke-linecap:butt; stroke-linejoin:round; stroke-width:4; stroke-opacity:1; fill:none\" points=\"\n",
       "  1986.47,375.855 2280.46,375.855 2280.46,168.495 1986.47,168.495 1986.47,375.855 \n",
       "  \"/>\n",
       "<polyline clip-path=\"url(#clip090)\" style=\"stroke:#009af9; stroke-linecap:butt; stroke-linejoin:round; stroke-width:4; stroke-opacity:1; fill:none\" points=\"\n",
       "  2010.57,220.335 2155.16,220.335 \n",
       "  \"/>\n",
       "<path clip-path=\"url(#clip090)\" d=\"M2193.1 240.023 Q2191.29 244.652 2189.58 246.064 Q2187.87 247.476 2185 247.476 L2181.59 247.476 L2181.59 243.911 L2184.09 243.911 Q2185.85 243.911 2186.83 243.078 Q2187.8 242.245 2188.98 239.143 L2189.74 237.199 L2179.26 211.689 L2183.77 211.689 L2191.87 231.967 L2199.97 211.689 L2204.49 211.689 L2193.1 240.023 Z\" fill=\"#000000\" fill-rule=\"evenodd\" fill-opacity=\"1\" /><path clip-path=\"url(#clip090)\" d=\"M2211.78 233.68 L2219.42 233.68 L2219.42 207.314 L2211.11 208.981 L2211.11 204.722 L2219.37 203.055 L2224.05 203.055 L2224.05 233.68 L2231.69 233.68 L2231.69 237.615 L2211.78 237.615 L2211.78 233.68 Z\" fill=\"#000000\" fill-rule=\"evenodd\" fill-opacity=\"1\" /><polyline clip-path=\"url(#clip090)\" style=\"stroke:#e26f46; stroke-linecap:butt; stroke-linejoin:round; stroke-width:4; stroke-opacity:1; fill:none\" points=\"\n",
       "  2010.57,272.175 2155.16,272.175 \n",
       "  \"/>\n",
       "<path clip-path=\"url(#clip090)\" d=\"M2193.1 291.863 Q2191.29 296.492 2189.58 297.904 Q2187.87 299.316 2185 299.316 L2181.59 299.316 L2181.59 295.751 L2184.09 295.751 Q2185.85 295.751 2186.83 294.918 Q2187.8 294.085 2188.98 290.983 L2189.74 289.039 L2179.26 263.529 L2183.77 263.529 L2191.87 283.807 L2199.97 263.529 L2204.49 263.529 L2193.1 291.863 Z\" fill=\"#000000\" fill-rule=\"evenodd\" fill-opacity=\"1\" /><path clip-path=\"url(#clip090)\" d=\"M2215 285.52 L2231.32 285.52 L2231.32 289.455 L2209.37 289.455 L2209.37 285.52 Q2212.03 282.765 2216.62 278.136 Q2221.22 273.483 2222.4 272.14 Q2224.65 269.617 2225.53 267.881 Q2226.43 266.122 2226.43 264.432 Q2226.43 261.678 2224.49 259.941 Q2222.57 258.205 2219.46 258.205 Q2217.27 258.205 2214.81 258.969 Q2212.38 259.733 2209.6 261.284 L2209.6 256.562 Q2212.43 255.428 2214.88 254.849 Q2217.34 254.27 2219.37 254.27 Q2224.74 254.27 2227.94 256.955 Q2231.13 259.641 2231.13 264.131 Q2231.13 266.261 2230.32 268.182 Q2229.53 270.08 2227.43 272.673 Q2226.85 273.344 2223.75 276.562 Q2220.65 279.756 2215 285.52 Z\" fill=\"#000000\" fill-rule=\"evenodd\" fill-opacity=\"1\" /><polyline clip-path=\"url(#clip090)\" style=\"stroke:#3da44d; stroke-linecap:butt; stroke-linejoin:round; stroke-width:4; stroke-opacity:1; fill:none\" points=\"\n",
       "  2010.57,324.015 2155.16,324.015 \n",
       "  \"/>\n",
       "<path clip-path=\"url(#clip090)\" d=\"M2193.1 343.703 Q2191.29 348.332 2189.58 349.744 Q2187.87 351.156 2185 351.156 L2181.59 351.156 L2181.59 347.591 L2184.09 347.591 Q2185.85 347.591 2186.83 346.758 Q2187.8 345.925 2188.98 342.823 L2189.74 340.879 L2179.26 315.369 L2183.77 315.369 L2191.87 335.647 L2199.97 315.369 L2204.49 315.369 L2193.1 343.703 Z\" fill=\"#000000\" fill-rule=\"evenodd\" fill-opacity=\"1\" /><path clip-path=\"url(#clip090)\" d=\"M2225.14 322.661 Q2228.49 323.379 2230.37 325.647 Q2232.27 327.916 2232.27 331.249 Q2232.27 336.365 2228.75 339.166 Q2225.23 341.967 2218.75 341.967 Q2216.57 341.967 2214.26 341.527 Q2211.96 341.11 2209.51 340.254 L2209.51 335.74 Q2211.46 336.874 2213.77 337.453 Q2216.09 338.031 2218.61 338.031 Q2223.01 338.031 2225.3 336.295 Q2227.61 334.559 2227.61 331.249 Q2227.61 328.193 2225.46 326.48 Q2223.33 324.744 2219.51 324.744 L2215.48 324.744 L2215.48 320.902 L2219.7 320.902 Q2223.15 320.902 2224.97 319.536 Q2226.8 318.147 2226.8 315.555 Q2226.8 312.893 2224.9 311.481 Q2223.03 310.045 2219.51 310.045 Q2217.59 310.045 2215.39 310.462 Q2213.19 310.879 2210.55 311.758 L2210.55 307.592 Q2213.21 306.851 2215.53 306.481 Q2217.87 306.11 2219.93 306.11 Q2225.25 306.11 2228.35 308.541 Q2231.46 310.948 2231.46 315.068 Q2231.46 317.939 2229.81 319.93 Q2228.17 321.897 2225.14 322.661 Z\" fill=\"#000000\" fill-rule=\"evenodd\" fill-opacity=\"1\" /></svg>\n"
      ]
     },
     "execution_count": 85,
     "metadata": {},
     "output_type": "execute_result"
    }
   ],
   "source": [
    "plot(title=\"gráfico log-log, Er vs ℎ\",xscale=:log10,yscale=:log10,xlim=(epsilon,x0),ylim=(1e43,1e45),linestyle=:dash)\n",
    "plot!(h,E1_r)\n",
    "plot!(h,E2_r)\n",
    "plot!(h,E3_r)"
   ]
  },
  {
   "cell_type": "markdown",
   "metadata": {},
   "source": [
    "## Problema 4\n",
    "\n",
    "En el archivo `pos.dat` que se encuentra en el repositorio se dispone de un conjunto de datos experimentales de la posición de un móvil que se desplaza en línea recta. El mismo tiene dos columnas, siendo la primera el tiempo de la medición, $t_i$ y la segunda la posición, $x(t_i)$.\n",
    "\n",
    "1. Escriba un programa que lea los datos del archivo y calcule la velocidad del móvil para los mismos tiempos, $t_i$. Utilice la fórmula de 3 puntos. Preste especial atención a los puntos de los bordes del intervalo.\n",
    "2. Repita el punto 1. utilizando las fórmulas de 5 puntos."
   ]
  },
  {
   "cell_type": "markdown",
   "metadata": {},
   "source": [
    "**Ayuda:** Para bajar el archivo `pos.dat` del repositorio de github desde julia realice:"
   ]
  },
  {
   "cell_type": "code",
   "execution_count": 26,
   "metadata": {},
   "outputs": [
    {
     "data": {
      "text/plain": [
       "\"/home/rdpaula/Metodos_Numericos_2022/Guias/pos.dat\""
      ]
     },
     "execution_count": 26,
     "metadata": {},
     "output_type": "execute_result"
    }
   ],
   "source": [
    "# Ejemplo de como bajar un archivo.\n",
    "separador = \"/\" # En Linux\n",
    "#separador = \"\\\" # En Windows\n",
    "download(\n",
    "    \"https://raw.githubusercontent.com/reula/Metodos_Numericos_2022/main/Guias/pos.dat\", # Bajamos el archivo pos.dat del repositorio en el que están las guías.\n",
    "    pwd() * separador * \"pos.dat\" # Guardamos lo bajado en un archivo llamado pos.dat en el directorio local.\n",
    ")"
   ]
  },
  {
   "cell_type": "markdown",
   "metadata": {},
   "source": [
    "1. **Notar que Windows usa `\"\\\"` en vez de `\"/\"`.**\n",
    "\n",
    "2. Cuando entre a github a ver los links a los archivos, seleccione primero el archivo, cuando se visualice selecione el botón **Raw**. Fíjese que el link debe comenzar con https://raw.githubusercontent.com"
   ]
  },
  {
   "cell_type": "markdown",
   "metadata": {},
   "source": [
    "**Ayuda:** Para cargar los datos en `pos.dat` a vectores de Julia utilice:"
   ]
  },
  {
   "cell_type": "code",
   "execution_count": 27,
   "metadata": {},
   "outputs": [],
   "source": [
    "t = Vector{Float64}()\n",
    "x = Vector{Float64}()\n",
    "open(\"pos.dat\",\"r\") do fh\n",
    "    for line in readlines(fh) \n",
    "        cols = split(line)\n",
    "        push!(t,parse(Float64,cols[1]))\n",
    "        push!(x,parse(Float64,cols[2]))\n",
    "    end\n",
    "end"
   ]
  },
  {
   "cell_type": "code",
   "execution_count": null,
   "metadata": {},
   "outputs": [],
   "source": []
  },
  {
   "cell_type": "markdown",
   "metadata": {},
   "source": [
    "# Ejercicios Complementarios"
   ]
  },
  {
   "cell_type": "markdown",
   "metadata": {},
   "source": [
    "## Problema C.1\n",
    "\n",
    "**Derivada segunda:** Deduzca la fórmula centrada equiespaciada de tres puntos para la derivada segunda $f''(x_0)$. Incluya una cota para el error absoluto."
   ]
  },
  {
   "cell_type": "code",
   "execution_count": null,
   "metadata": {},
   "outputs": [],
   "source": []
  },
  {
   "cell_type": "markdown",
   "metadata": {},
   "source": [
    "## Problema C.2\n",
    "\n",
    "**Interpolación y diferenciación:** Se conoce el valor de $f(x)$ en tres puntos $x_0,x_1,x_2$. Escriba el polinomio interpolante $P_2(x)$ en la forma de Lagrange. Asuma que aproximamos $f'(x_i)$ por $P_2'(x_i)$,\n",
    "\n",
    "1. Muestre que si tomamos $x_0=c-h,\\,x_1=c,\\,x_2=c+h$ obtenemos la expresión del algoritmo centrado de tres\n",
    "puntos para $f'(c)$. \n",
    "2. Muestre que, en general, esta proximación arroja el algoritmo de tres puntos. Reobtenga la fórmula dada en el teórico para $x_0=c-h_1,\\,x_1=c,\\,x_2=c+h_2$. Obtenga una expresión para las derivadas en extremos del intervalo $[a,b]$, $f'(a)$ con $x_0=a,\\,x_1=a+h,\\,x_2=a+2 h$ y $f'(b)$ con $x_0=b,\\,x_1=b-h,\\,x_2=b-2h$.\n",
    "3. Generalice a 5 puntos y re-obtenga el algoritmo centrado y equiespaciado en este caso."
   ]
  },
  {
   "cell_type": "code",
   "execution_count": null,
   "metadata": {},
   "outputs": [],
   "source": []
  }
 ],
 "metadata": {
  "@webio": {
   "lastCommId": null,
   "lastKernelId": null
  },
  "kernelspec": {
   "display_name": "Julia 1.7.2",
   "language": "julia",
   "name": "julia-1.7"
  },
  "language_info": {
   "file_extension": ".jl",
   "mimetype": "application/julia",
   "name": "julia",
   "version": "1.7.2"
  },
  "latex_envs": {
   "LaTeX_envs_menu_present": true,
   "autoclose": false,
   "autocomplete": true,
   "bibliofile": "biblio.bib",
   "cite_by": "apalike",
   "current_citInitial": 1,
   "eqLabelWithNumbers": true,
   "eqNumInitial": 1,
   "hotkeys": {
    "equation": "Ctrl-E",
    "itemize": "Ctrl-I"
   },
   "labels_anchors": false,
   "latex_user_defs": false,
   "report_style_numbering": false,
   "user_envs_cfg": false
  }
 },
 "nbformat": 4,
 "nbformat_minor": 4
}
