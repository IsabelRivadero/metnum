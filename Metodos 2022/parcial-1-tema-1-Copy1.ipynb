{
 "cells": [
  {
   "cell_type": "markdown",
   "metadata": {},
   "source": [
    "# Métodos Numericos 2022\n",
    "\n",
    "## Parcial 1 - Tema 1 - 26 de Abril de 2022\n",
    "\n",
    "### Nota sobre la programación en Julia\n",
    "\n",
    "Recuerde que su notebook tiene que poder ser entendida por otra persona. Para ello:\n",
    "\n",
    "* Cuando crea conveniente, use texto Markdown para desarrollar o comentar una idea.\n",
    "\n",
    "* Agregue comentarios a su código de ser necesario.\n",
    "\n",
    "* Realice gráficos que tengan etiquetas en los ejes y leyendas para cada curva o serie de puntos graficados, como así también un título apropiado.\n",
    "\n",
    "* Procure respetar reglas de buena programación:\n",
    "\n",
    "    * Use sangrías adecuadamente.\n",
    "\n",
    "    * Cuando sea posible, implemente funciones de caracter general, en vez de código específico a cada problema, facilitando así la reutilización de código.\n",
    "\n",
    "    * Implemente funciones que tengan los argumentos necesarios para su buen funcionamiento."
   ]
  },
  {
   "cell_type": "markdown",
   "metadata": {},
   "source": [
    "### Problema 1\n",
    "\n",
    "Aproxime $\\mathrm{sen}(x)$ utlizando la suma truncada \n",
    "\n",
    "$$\n",
    "S_N(x) = \\sum_{n=0}^{N} \\frac{(-1)^n}{(2n+1)!} x^{2n+1} \n",
    "$$\n",
    "\n",
    "de su serie de Taylor\n",
    "\n",
    "$$\n",
    "\\mathrm{sen}(x) = \\sum_{n=0}^{\\infty} \\frac{(-1)^n}{(2n+1)!} x^{2n+1} \n",
    "$$\n",
    "\n",
    "Para ello:\n",
    "\n",
    "* Implemente una función `suma` que tome como argumentos $x$ y $N$.\n",
    "\n",
    "* Las función deberá poder aplicarse a valores de $x$ tanto en **precisión simple** (es decir, `Float32`) como en **precisión doble** (es decir, `Float64`), y deberá calcular las suma y retornarla en la misma precisión que $x$.\n",
    "\n",
    "**Ayuda 1:** Existe una funcion `factorial` en Julia.\n",
    "\n",
    "**Ayuda 2:** Implemente una función `termino` de $x$ y $n$ que calcule el $n$-ésimo término de la suma en la misma precisión que $x$. Verifique que dicha función opera correctamente. Por ejemplo, `termino(Float32(1.0),1)` tiene que retornar `-0.16666667f0`, i.e. un número en precisión simple (`Float32`). Luego utilice dicha función `termino` en la implementación de `suma`.\n",
    "\n",
    "Con esta función `suma`, y tanto para **precisión simple** como para **precisión doble**:\n",
    "\n",
    "1. Calcule un vector de aproximaciones parciales vs $N \\in \\{0,1,2,...,8\\}$ usando $x=0.1$.\n",
    "\n",
    "2. Correspondientemente, calcule un vector de errores vs $N$, comparando resultados con el valor **\"verdadero\"** `sin(Float32(x))` o `sin(Float64(x))` según corresponda.\n",
    "\n",
    "3. Liste en pantalla, usando `DataFrames`, el resultado arrojado y también el valor **\"verdadero\"** para cada valor de $N$.\n",
    "\n",
    "4. Utilizando **escala logarítmica** para el eje de las ordenadas (eje $y$), grafique con símbolos ambos vectores de errores en función de $N$. De ser necesario, use en la función `plot` la opción `ylim=(10^(-20),1)` para filtrar posible valores nulos de los errores y evitar problemas con los logaritmos.\n",
    "\n",
    "Sólo para el caso en precisión doble:\n",
    "\n",
    "6. Grafique con líneas entrecortadas (usar `linestyle=:dash`) las sumas parciales $S_N(x)$ en función de $x$ para los valores de $N\\in \\{0,1,2,3,4\\}$ en el rango $x\\in [0,3]$. Agregue además, una curva de línea sólida negra para `sin(x)` vs `x`. \n",
    "\n",
    "No olvide agregar a todos los gráficos un título, etiquetas en los ejes y una leyenda."
   ]
  },
  {
   "cell_type": "markdown",
   "metadata": {},
   "source": [
    "**Rta.** Implementamos y testeamos las funciones pertinentes."
   ]
  },
  {
   "cell_type": "code",
   "execution_count": 1,
   "metadata": {},
   "outputs": [],
   "source": [
    "using Plots\n",
    "using LaTeXStrings\n",
    "using DataFrames"
   ]
  },
  {
   "cell_type": "code",
   "execution_count": 104,
   "metadata": {},
   "outputs": [
    {
     "data": {
      "text/plain": [
       "5040"
      ]
     },
     "execution_count": 104,
     "metadata": {},
     "output_type": "execute_result"
    }
   ],
   "source": [
    "factorial(7)"
   ]
  },
  {
   "cell_type": "code",
   "execution_count": 269,
   "metadata": {},
   "outputs": [
    {
     "data": {
      "text/plain": [
       "termino (generic function with 1 method)"
      ]
     },
     "execution_count": 269,
     "metadata": {},
     "output_type": "execute_result"
    }
   ],
   "source": [
    "function termino(x,n)\n",
    "    if typeof(x) == Float64                           ### presición doble\n",
    "        Sn = (-1)^n*x^(2*n+1)/factorial(2*n+1)\n",
    "        return Sn \n",
    "    end\n",
    "    if typeof(x) == Float32                          ### presición simple\n",
    "        Sn = (-1)^n*x^(2*n+1)/factorial(2*n+1)\n",
    "        return Sn    ### sentencia return hace que una función finalice de inmediato y que vuelva a la sentencia de llamada a función.\n",
    "    end\n",
    "end"
   ]
  },
  {
   "cell_type": "code",
   "execution_count": 110,
   "metadata": {},
   "outputs": [
    {
     "data": {
      "text/plain": [
       "-0.0001984127f0"
      ]
     },
     "execution_count": 110,
     "metadata": {},
     "output_type": "execute_result"
    }
   ],
   "source": [
    "Sn=termino(Float32(1),3)"
   ]
  },
  {
   "cell_type": "code",
   "execution_count": 111,
   "metadata": {},
   "outputs": [
    {
     "data": {
      "text/plain": [
       "Float32"
      ]
     },
     "execution_count": 111,
     "metadata": {},
     "output_type": "execute_result"
    }
   ],
   "source": [
    "typeof(Sn)"
   ]
  },
  {
   "cell_type": "code",
   "execution_count": 117,
   "metadata": {},
   "outputs": [
    {
     "data": {
      "text/plain": [
       "-0.0001984126984126984"
      ]
     },
     "execution_count": 117,
     "metadata": {},
     "output_type": "execute_result"
    }
   ],
   "source": [
    "Sn=termino(1.,3)      ### Sn=termino(Float64(1),3)"
   ]
  },
  {
   "cell_type": "code",
   "execution_count": 118,
   "metadata": {
    "scrolled": true
   },
   "outputs": [
    {
     "data": {
      "text/plain": [
       "Float64"
      ]
     },
     "execution_count": 118,
     "metadata": {},
     "output_type": "execute_result"
    }
   ],
   "source": [
    "typeof(Sn)"
   ]
  },
  {
   "cell_type": "markdown",
   "metadata": {},
   "source": [
    "## 1."
   ]
  },
  {
   "cell_type": "code",
   "execution_count": 268,
   "metadata": {},
   "outputs": [
    {
     "data": {
      "text/plain": [
       "suma (generic function with 1 method)"
      ]
     },
     "execution_count": 268,
     "metadata": {},
     "output_type": "execute_result"
    }
   ],
   "source": [
    "function suma(x,N)\n",
    "sum=0\n",
    "#Vsum=zeros(N)\n",
    "    for i in 0:N                  ### de 1 a N\n",
    "        sum+=termino(x,i)     ### sum = sum + Float32(1/i)\n",
    "        i+=1\n",
    "        #Vsum[i]=sum\n",
    "        #if i==N\n",
    "         #  return Vsum[1:N]\n",
    "        #end\n",
    "    end\n",
    "   return sum\n",
    "end"
   ]
  },
  {
   "cell_type": "code",
   "execution_count": 209,
   "metadata": {},
   "outputs": [
    {
     "data": {
      "text/plain": [
       "0.09983341664682817"
      ]
     },
     "execution_count": 209,
     "metadata": {},
     "output_type": "execute_result"
    }
   ],
   "source": [
    "sum=suma(0.1,8)"
   ]
  },
  {
   "cell_type": "code",
   "execution_count": 210,
   "metadata": {},
   "outputs": [
    {
     "data": {
      "text/plain": [
       "Float64"
      ]
     },
     "execution_count": 210,
     "metadata": {},
     "output_type": "execute_result"
    }
   ],
   "source": [
    "typeof(sum)"
   ]
  },
  {
   "cell_type": "markdown",
   "metadata": {},
   "source": [
    "## 2."
   ]
  },
  {
   "cell_type": "code",
   "execution_count": 272,
   "metadata": {},
   "outputs": [
    {
     "data": {
      "text/plain": [
       "suma (generic function with 1 method)"
      ]
     },
     "execution_count": 272,
     "metadata": {},
     "output_type": "execute_result"
    }
   ],
   "source": [
    "function suma(x,N)\n",
    "sum=0\n",
    "V_er=Vector{typeof(x)}(undef,N)\n",
    "senx=sin(x)\n",
    "    for i in 0:N                  ### de 1 a N\n",
    "        sum+=termino(x,i)     ### sum = sum + Float32(1/i)\n",
    "        i+=1\n",
    "        V_er[i]=abs(sum-senx)\n",
    "        if i==N\n",
    "           return sum,V_er[1:N]\n",
    "        end\n",
    "    end\n",
    "   # return sum\n",
    "end"
   ]
  },
  {
   "cell_type": "markdown",
   "metadata": {},
   "source": [
    "### **Precisión doble**"
   ]
  },
  {
   "cell_type": "code",
   "execution_count": 226,
   "metadata": {},
   "outputs": [
    {
     "data": {
      "text/plain": [
       "(0.09983341664682817, [0.0001665833531718508, 8.331349481138783e-8, 1.983851971587569e-11, 2.7478019859472624e-15, 1.3877787807814457e-17, 1.3877787807814457e-17, 1.3877787807814457e-17, 1.3877787807814457e-17])"
      ]
     },
     "execution_count": 226,
     "metadata": {},
     "output_type": "execute_result"
    }
   ],
   "source": [
    "sum2,V_er2=suma(0.1,8)"
   ]
  },
  {
   "cell_type": "code",
   "execution_count": 234,
   "metadata": {},
   "outputs": [
    {
     "data": {
      "text/plain": [
       "0.09983341664682817"
      ]
     },
     "execution_count": 234,
     "metadata": {},
     "output_type": "execute_result"
    }
   ],
   "source": [
    "sum2"
   ]
  },
  {
   "cell_type": "code",
   "execution_count": 227,
   "metadata": {},
   "outputs": [
    {
     "data": {
      "text/plain": [
       "Float64"
      ]
     },
     "execution_count": 227,
     "metadata": {},
     "output_type": "execute_result"
    }
   ],
   "source": [
    "typeof(sum2)"
   ]
  },
  {
   "cell_type": "code",
   "execution_count": 228,
   "metadata": {},
   "outputs": [
    {
     "data": {
      "text/plain": [
       "8-element Vector{Float64}:\n",
       " 0.0001665833531718508\n",
       " 8.331349481138783e-8\n",
       " 1.983851971587569e-11\n",
       " 2.7478019859472624e-15\n",
       " 1.3877787807814457e-17\n",
       " 1.3877787807814457e-17\n",
       " 1.3877787807814457e-17\n",
       " 1.3877787807814457e-17"
      ]
     },
     "execution_count": 228,
     "metadata": {},
     "output_type": "execute_result"
    }
   ],
   "source": [
    "V_er2"
   ]
  },
  {
   "cell_type": "markdown",
   "metadata": {},
   "source": [
    "### **Precisión simple**"
   ]
  },
  {
   "cell_type": "code",
   "execution_count": 273,
   "metadata": {},
   "outputs": [
    {
     "data": {
      "text/plain": [
       "(0.099833414f0, Float32[0.00016658008, 8.940697f-8, 7.450581f-9, 7.450581f-9, 7.450581f-9, 7.450581f-9, 7.450581f-9, 7.450581f-9])"
      ]
     },
     "execution_count": 273,
     "metadata": {},
     "output_type": "execute_result"
    }
   ],
   "source": [
    "sum1,V_er1=suma(Float32(0.1),8)"
   ]
  },
  {
   "cell_type": "code",
   "execution_count": 235,
   "metadata": {},
   "outputs": [
    {
     "data": {
      "text/plain": [
       "0.099833414f0"
      ]
     },
     "execution_count": 235,
     "metadata": {},
     "output_type": "execute_result"
    }
   ],
   "source": [
    "sum1"
   ]
  },
  {
   "cell_type": "code",
   "execution_count": 231,
   "metadata": {},
   "outputs": [
    {
     "data": {
      "text/plain": [
       "Float32"
      ]
     },
     "execution_count": 231,
     "metadata": {},
     "output_type": "execute_result"
    }
   ],
   "source": [
    "typeof(sum1)"
   ]
  },
  {
   "cell_type": "code",
   "execution_count": 274,
   "metadata": {},
   "outputs": [
    {
     "data": {
      "text/plain": [
       "8-element Vector{Float32}:\n",
       " 0.00016658008\n",
       " 8.940697f-8\n",
       " 7.450581f-9\n",
       " 7.450581f-9\n",
       " 7.450581f-9\n",
       " 7.450581f-9\n",
       " 7.450581f-9\n",
       " 7.450581f-9"
      ]
     },
     "execution_count": 274,
     "metadata": {},
     "output_type": "execute_result"
    }
   ],
   "source": [
    "V_er1"
   ]
  },
  {
   "cell_type": "markdown",
   "metadata": {},
   "source": [
    "## 3."
   ]
  },
  {
   "cell_type": "code",
   "execution_count": 275,
   "metadata": {},
   "outputs": [
    {
     "data": {
      "text/plain": [
       "suma (generic function with 1 method)"
      ]
     },
     "execution_count": 275,
     "metadata": {},
     "output_type": "execute_result"
    }
   ],
   "source": [
    "function suma(x,N)\n",
    "sum=0\n",
    "Vsum=Vector{typeof(x)}(undef,N)\n",
    "    if typeof(x) == Float64 \n",
    "        senx=fill(sin(x),N)\n",
    "    else\n",
    "        senx=fill(Float32(sin(x)),N) \n",
    "    end\n",
    "    for i in 0:N                  ### de 1 a N\n",
    "        sum+=termino(x,i)     ### sum = sum + Float32(1/i)\n",
    "        i+=1\n",
    "        Vsum[i]=sum\n",
    "        if i==N\n",
    "           return Vsum[1:N],senx\n",
    "        end\n",
    "    end\n",
    "  #return sum\n",
    "end"
   ]
  },
  {
   "cell_type": "code",
   "execution_count": 256,
   "metadata": {},
   "outputs": [
    {
     "data": {
      "text/plain": [
       "([0.1, 0.09983333333333334, 0.09983341666666667, 0.09983341664682541, 0.09983341664682817, 0.09983341664682817, 0.09983341664682817, 0.09983341664682817], [0.09983341664682815, 0.09983341664682815, 0.09983341664682815, 0.09983341664682815, 0.09983341664682815, 0.09983341664682815, 0.09983341664682815, 0.09983341664682815])"
      ]
     },
     "execution_count": 256,
     "metadata": {},
     "output_type": "execute_result"
    }
   ],
   "source": [
    "Vsum,senx=suma(0.1,8)"
   ]
  },
  {
   "cell_type": "code",
   "execution_count": 257,
   "metadata": {},
   "outputs": [
    {
     "data": {
      "text/html": [
       "<div class=\"data-frame\"><p>8 rows × 2 columns</p><table class=\"data-frame\"><thead><tr><th></th><th>SN</th><th>aproxJulia</th></tr><tr><th></th><th title=\"Float64\">Float64</th><th title=\"Float64\">Float64</th></tr></thead><tbody><tr><th>1</th><td>0.1</td><td>0.0998334</td></tr><tr><th>2</th><td>0.0998333</td><td>0.0998334</td></tr><tr><th>3</th><td>0.0998334</td><td>0.0998334</td></tr><tr><th>4</th><td>0.0998334</td><td>0.0998334</td></tr><tr><th>5</th><td>0.0998334</td><td>0.0998334</td></tr><tr><th>6</th><td>0.0998334</td><td>0.0998334</td></tr><tr><th>7</th><td>0.0998334</td><td>0.0998334</td></tr><tr><th>8</th><td>0.0998334</td><td>0.0998334</td></tr></tbody></table></div>"
      ],
      "text/latex": [
       "\\begin{tabular}{r|cc}\n",
       "\t& SN & aproxJulia\\\\\n",
       "\t\\hline\n",
       "\t& Float64 & Float64\\\\\n",
       "\t\\hline\n",
       "\t1 & 0.1 & 0.0998334 \\\\\n",
       "\t2 & 0.0998333 & 0.0998334 \\\\\n",
       "\t3 & 0.0998334 & 0.0998334 \\\\\n",
       "\t4 & 0.0998334 & 0.0998334 \\\\\n",
       "\t5 & 0.0998334 & 0.0998334 \\\\\n",
       "\t6 & 0.0998334 & 0.0998334 \\\\\n",
       "\t7 & 0.0998334 & 0.0998334 \\\\\n",
       "\t8 & 0.0998334 & 0.0998334 \\\\\n",
       "\\end{tabular}\n"
      ],
      "text/plain": [
       "\u001b[1m8×2 DataFrame\u001b[0m\n",
       "\u001b[1m Row \u001b[0m│\u001b[1m SN        \u001b[0m\u001b[1m aproxJulia \u001b[0m\n",
       "\u001b[1m     \u001b[0m│\u001b[90m Float64   \u001b[0m\u001b[90m Float64    \u001b[0m\n",
       "─────┼───────────────────────\n",
       "   1 │ 0.1         0.0998334\n",
       "   2 │ 0.0998333   0.0998334\n",
       "   3 │ 0.0998334   0.0998334\n",
       "   4 │ 0.0998334   0.0998334\n",
       "   5 │ 0.0998334   0.0998334\n",
       "   6 │ 0.0998334   0.0998334\n",
       "   7 │ 0.0998334   0.0998334\n",
       "   8 │ 0.0998334   0.0998334"
      ]
     },
     "execution_count": 257,
     "metadata": {},
     "output_type": "execute_result"
    }
   ],
   "source": [
    "tabla = DataFrame(SN=Vsum,aproxJulia=senx)"
   ]
  },
  {
   "cell_type": "markdown",
   "metadata": {},
   "source": [
    "### **Precisión simple**"
   ]
  },
  {
   "cell_type": "code",
   "execution_count": 276,
   "metadata": {},
   "outputs": [
    {
     "data": {
      "text/plain": [
       "(Float32[0.1, 0.09983333, 0.099833414, 0.099833414, 0.099833414, 0.099833414, 0.099833414, 0.099833414], Float32[0.09983342, 0.09983342, 0.09983342, 0.09983342, 0.09983342, 0.09983342, 0.09983342, 0.09983342])"
      ]
     },
     "execution_count": 276,
     "metadata": {},
     "output_type": "execute_result"
    }
   ],
   "source": [
    "Vsum,senx=suma(Float32(0.1),8)"
   ]
  },
  {
   "cell_type": "code",
   "execution_count": 277,
   "metadata": {},
   "outputs": [
    {
     "data": {
      "text/html": [
       "<div class=\"data-frame\"><p>8 rows × 2 columns</p><table class=\"data-frame\"><thead><tr><th></th><th>SN</th><th>aproxJulia</th></tr><tr><th></th><th title=\"Float32\">Float32</th><th title=\"Float32\">Float32</th></tr></thead><tbody><tr><th>1</th><td>0.1</td><td>0.0998334</td></tr><tr><th>2</th><td>0.0998333</td><td>0.0998334</td></tr><tr><th>3</th><td>0.0998334</td><td>0.0998334</td></tr><tr><th>4</th><td>0.0998334</td><td>0.0998334</td></tr><tr><th>5</th><td>0.0998334</td><td>0.0998334</td></tr><tr><th>6</th><td>0.0998334</td><td>0.0998334</td></tr><tr><th>7</th><td>0.0998334</td><td>0.0998334</td></tr><tr><th>8</th><td>0.0998334</td><td>0.0998334</td></tr></tbody></table></div>"
      ],
      "text/latex": [
       "\\begin{tabular}{r|cc}\n",
       "\t& SN & aproxJulia\\\\\n",
       "\t\\hline\n",
       "\t& Float32 & Float32\\\\\n",
       "\t\\hline\n",
       "\t1 & 0.1 & 0.0998334 \\\\\n",
       "\t2 & 0.0998333 & 0.0998334 \\\\\n",
       "\t3 & 0.0998334 & 0.0998334 \\\\\n",
       "\t4 & 0.0998334 & 0.0998334 \\\\\n",
       "\t5 & 0.0998334 & 0.0998334 \\\\\n",
       "\t6 & 0.0998334 & 0.0998334 \\\\\n",
       "\t7 & 0.0998334 & 0.0998334 \\\\\n",
       "\t8 & 0.0998334 & 0.0998334 \\\\\n",
       "\\end{tabular}\n"
      ],
      "text/plain": [
       "\u001b[1m8×2 DataFrame\u001b[0m\n",
       "\u001b[1m Row \u001b[0m│\u001b[1m SN        \u001b[0m\u001b[1m aproxJulia \u001b[0m\n",
       "\u001b[1m     \u001b[0m│\u001b[90m Float32   \u001b[0m\u001b[90m Float32    \u001b[0m\n",
       "─────┼───────────────────────\n",
       "   1 │ 0.1         0.0998334\n",
       "   2 │ 0.0998333   0.0998334\n",
       "   3 │ 0.0998334   0.0998334\n",
       "   4 │ 0.0998334   0.0998334\n",
       "   5 │ 0.0998334   0.0998334\n",
       "   6 │ 0.0998334   0.0998334\n",
       "   7 │ 0.0998334   0.0998334\n",
       "   8 │ 0.0998334   0.0998334"
      ]
     },
     "execution_count": 277,
     "metadata": {},
     "output_type": "execute_result"
    }
   ],
   "source": [
    "tabla = DataFrame(SN=Vsum,aproxJulia=senx)"
   ]
  },
  {
   "cell_type": "markdown",
   "metadata": {},
   "source": [
    "## 4."
   ]
  },
  {
   "cell_type": "code",
   "execution_count": 287,
   "metadata": {},
   "outputs": [
    {
     "data": {
      "image/svg+xml": [
       "<?xml version=\"1.0\" encoding=\"utf-8\"?>\n",
       "<svg xmlns=\"http://www.w3.org/2000/svg\" xmlns:xlink=\"http://www.w3.org/1999/xlink\" width=\"600\" height=\"400\" viewBox=\"0 0 2400 1600\">\n",
       "<defs>\n",
       "  <clipPath id=\"clip960\">\n",
       "    <rect x=\"0\" y=\"0\" width=\"2400\" height=\"1600\"/>\n",
       "  </clipPath>\n",
       "</defs>\n",
       "<path clip-path=\"url(#clip960)\" d=\"\n",
       "M0 1600 L2400 1600 L2400 0 L0 0  Z\n",
       "  \" fill=\"#ffffff\" fill-rule=\"evenodd\" fill-opacity=\"1\"/>\n",
       "<defs>\n",
       "  <clipPath id=\"clip961\">\n",
       "    <rect x=\"480\" y=\"0\" width=\"1681\" height=\"1600\"/>\n",
       "  </clipPath>\n",
       "</defs>\n",
       "<path clip-path=\"url(#clip960)\" d=\"\n",
       "M252.764 1423.18 L2352.76 1423.18 L2352.76 123.472 L252.764 123.472  Z\n",
       "  \" fill=\"#ffffff\" fill-rule=\"evenodd\" fill-opacity=\"1\"/>\n",
       "<defs>\n",
       "  <clipPath id=\"clip962\">\n",
       "    <rect x=\"252\" y=\"123\" width=\"2101\" height=\"1301\"/>\n",
       "  </clipPath>\n",
       "</defs>\n",
       "<polyline clip-path=\"url(#clip962)\" style=\"stroke:#000000; stroke-linecap:butt; stroke-linejoin:round; stroke-width:2; stroke-opacity:0.1; fill:none\" points=\"\n",
       "  595.215,1423.18 595.215,123.472 \n",
       "  \"/>\n",
       "<polyline clip-path=\"url(#clip962)\" style=\"stroke:#000000; stroke-linecap:butt; stroke-linejoin:round; stroke-width:2; stroke-opacity:0.1; fill:none\" points=\"\n",
       "  1161.25,1423.18 1161.25,123.472 \n",
       "  \"/>\n",
       "<polyline clip-path=\"url(#clip962)\" style=\"stroke:#000000; stroke-linecap:butt; stroke-linejoin:round; stroke-width:2; stroke-opacity:0.1; fill:none\" points=\"\n",
       "  1727.29,1423.18 1727.29,123.472 \n",
       "  \"/>\n",
       "<polyline clip-path=\"url(#clip962)\" style=\"stroke:#000000; stroke-linecap:butt; stroke-linejoin:round; stroke-width:2; stroke-opacity:0.1; fill:none\" points=\"\n",
       "  2293.32,1423.18 2293.32,123.472 \n",
       "  \"/>\n",
       "<polyline clip-path=\"url(#clip960)\" style=\"stroke:#000000; stroke-linecap:butt; stroke-linejoin:round; stroke-width:4; stroke-opacity:1; fill:none\" points=\"\n",
       "  252.764,1423.18 2352.76,1423.18 \n",
       "  \"/>\n",
       "<polyline clip-path=\"url(#clip960)\" style=\"stroke:#000000; stroke-linecap:butt; stroke-linejoin:round; stroke-width:4; stroke-opacity:1; fill:none\" points=\"\n",
       "  595.215,1423.18 595.215,1404.28 \n",
       "  \"/>\n",
       "<polyline clip-path=\"url(#clip960)\" style=\"stroke:#000000; stroke-linecap:butt; stroke-linejoin:round; stroke-width:4; stroke-opacity:1; fill:none\" points=\"\n",
       "  1161.25,1423.18 1161.25,1404.28 \n",
       "  \"/>\n",
       "<polyline clip-path=\"url(#clip960)\" style=\"stroke:#000000; stroke-linecap:butt; stroke-linejoin:round; stroke-width:4; stroke-opacity:1; fill:none\" points=\"\n",
       "  1727.29,1423.18 1727.29,1404.28 \n",
       "  \"/>\n",
       "<polyline clip-path=\"url(#clip960)\" style=\"stroke:#000000; stroke-linecap:butt; stroke-linejoin:round; stroke-width:4; stroke-opacity:1; fill:none\" points=\"\n",
       "  2293.32,1423.18 2293.32,1404.28 \n",
       "  \"/>\n",
       "<path clip-path=\"url(#clip960)\" d=\"M589.868 1481.64 L606.188 1481.64 L606.188 1485.58 L584.243 1485.58 L584.243 1481.64 Q586.905 1478.89 591.489 1474.26 Q596.095 1469.61 597.276 1468.27 Q599.521 1465.74 600.401 1464.01 Q601.303 1462.25 601.303 1460.56 Q601.303 1457.8 599.359 1456.07 Q597.438 1454.33 594.336 1454.33 Q592.137 1454.33 589.683 1455.09 Q587.253 1455.86 584.475 1457.41 L584.475 1452.69 Q587.299 1451.55 589.753 1450.97 Q592.206 1450.39 594.243 1450.39 Q599.614 1450.39 602.808 1453.08 Q606.002 1455.77 606.002 1460.26 Q606.002 1462.39 605.192 1464.31 Q604.405 1466.2 602.299 1468.8 Q601.72 1469.47 598.618 1472.69 Q595.516 1475.88 589.868 1481.64 Z\" fill=\"#000000\" fill-rule=\"evenodd\" fill-opacity=\"1\" /><path clip-path=\"url(#clip960)\" d=\"M1164.26 1455.09 L1152.45 1473.54 L1164.26 1473.54 L1164.26 1455.09 M1163.03 1451.02 L1168.91 1451.02 L1168.91 1473.54 L1173.84 1473.54 L1173.84 1477.43 L1168.91 1477.43 L1168.91 1485.58 L1164.26 1485.58 L1164.26 1477.43 L1148.66 1477.43 L1148.66 1472.92 L1163.03 1451.02 Z\" fill=\"#000000\" fill-rule=\"evenodd\" fill-opacity=\"1\" /><path clip-path=\"url(#clip960)\" d=\"M1727.69 1466.44 Q1724.54 1466.44 1722.69 1468.59 Q1720.86 1470.74 1720.86 1474.49 Q1720.86 1478.22 1722.69 1480.39 Q1724.54 1482.55 1727.69 1482.55 Q1730.84 1482.55 1732.67 1480.39 Q1734.52 1478.22 1734.52 1474.49 Q1734.52 1470.74 1732.67 1468.59 Q1730.84 1466.44 1727.69 1466.44 M1736.97 1451.78 L1736.97 1456.04 Q1735.21 1455.21 1733.41 1454.77 Q1731.63 1454.33 1729.87 1454.33 Q1725.24 1454.33 1722.78 1457.45 Q1720.35 1460.58 1720.01 1466.9 Q1721.37 1464.89 1723.43 1463.82 Q1725.49 1462.73 1727.97 1462.73 Q1733.18 1462.73 1736.19 1465.9 Q1739.22 1469.05 1739.22 1474.49 Q1739.22 1479.82 1736.07 1483.03 Q1732.92 1486.25 1727.69 1486.25 Q1721.7 1486.25 1718.53 1481.67 Q1715.35 1477.06 1715.35 1468.33 Q1715.35 1460.14 1719.24 1455.28 Q1723.13 1450.39 1729.68 1450.39 Q1731.44 1450.39 1733.22 1450.74 Q1735.03 1451.09 1736.97 1451.78 Z\" fill=\"#000000\" fill-rule=\"evenodd\" fill-opacity=\"1\" /><path clip-path=\"url(#clip960)\" d=\"M2293.32 1469.17 Q2289.99 1469.17 2288.07 1470.95 Q2286.17 1472.73 2286.17 1475.86 Q2286.17 1478.98 2288.07 1480.77 Q2289.99 1482.55 2293.32 1482.55 Q2296.66 1482.55 2298.58 1480.77 Q2300.5 1478.96 2300.5 1475.86 Q2300.5 1472.73 2298.58 1470.95 Q2296.68 1469.17 2293.32 1469.17 M2288.65 1467.18 Q2285.64 1466.44 2283.95 1464.38 Q2282.28 1462.32 2282.28 1459.35 Q2282.28 1455.21 2285.22 1452.8 Q2288.18 1450.39 2293.32 1450.39 Q2298.48 1450.39 2301.42 1452.8 Q2304.36 1455.21 2304.36 1459.35 Q2304.36 1462.32 2302.67 1464.38 Q2301.01 1466.44 2298.02 1467.18 Q2301.4 1467.96 2303.28 1470.26 Q2305.17 1472.55 2305.17 1475.86 Q2305.17 1480.88 2302.1 1483.57 Q2299.04 1486.25 2293.32 1486.25 Q2287.6 1486.25 2284.53 1483.57 Q2281.47 1480.88 2281.47 1475.86 Q2281.47 1472.55 2283.37 1470.26 Q2285.27 1467.96 2288.65 1467.18 M2286.93 1459.79 Q2286.93 1462.48 2288.6 1463.98 Q2290.29 1465.49 2293.32 1465.49 Q2296.33 1465.49 2298.02 1463.98 Q2299.73 1462.48 2299.73 1459.79 Q2299.73 1457.11 2298.02 1455.6 Q2296.33 1454.1 2293.32 1454.1 Q2290.29 1454.1 2288.6 1455.6 Q2286.93 1457.11 2286.93 1459.79 Z\" fill=\"#000000\" fill-rule=\"evenodd\" fill-opacity=\"1\" /><path clip-path=\"url(#clip960)\" d=\"M1299.83 1532.4 L1305.69 1532.4 L1305.69 1568.04 L1299.83 1568.04 L1299.83 1532.4 M1299.83 1518.52 L1305.69 1518.52 L1305.69 1525.93 L1299.83 1525.93 L1299.83 1518.52 Z\" fill=\"#000000\" fill-rule=\"evenodd\" fill-opacity=\"1\" /><polyline clip-path=\"url(#clip962)\" style=\"stroke:#000000; stroke-linecap:butt; stroke-linejoin:round; stroke-width:2; stroke-opacity:0.1; fill:none\" points=\"\n",
       "  252.764,1350.37 2352.76,1350.37 \n",
       "  \"/>\n",
       "<polyline clip-path=\"url(#clip962)\" style=\"stroke:#000000; stroke-linecap:butt; stroke-linejoin:round; stroke-width:2; stroke-opacity:0.1; fill:none\" points=\"\n",
       "  252.764,1068.46 2352.76,1068.46 \n",
       "  \"/>\n",
       "<polyline clip-path=\"url(#clip962)\" style=\"stroke:#000000; stroke-linecap:butt; stroke-linejoin:round; stroke-width:2; stroke-opacity:0.1; fill:none\" points=\"\n",
       "  252.764,786.549 2352.76,786.549 \n",
       "  \"/>\n",
       "<polyline clip-path=\"url(#clip962)\" style=\"stroke:#000000; stroke-linecap:butt; stroke-linejoin:round; stroke-width:2; stroke-opacity:0.1; fill:none\" points=\"\n",
       "  252.764,504.641 2352.76,504.641 \n",
       "  \"/>\n",
       "<polyline clip-path=\"url(#clip962)\" style=\"stroke:#000000; stroke-linecap:butt; stroke-linejoin:round; stroke-width:2; stroke-opacity:0.1; fill:none\" points=\"\n",
       "  252.764,222.734 2352.76,222.734 \n",
       "  \"/>\n",
       "<polyline clip-path=\"url(#clip960)\" style=\"stroke:#000000; stroke-linecap:butt; stroke-linejoin:round; stroke-width:4; stroke-opacity:1; fill:none\" points=\"\n",
       "  252.764,1423.18 252.764,123.472 \n",
       "  \"/>\n",
       "<polyline clip-path=\"url(#clip960)\" style=\"stroke:#000000; stroke-linecap:butt; stroke-linejoin:round; stroke-width:4; stroke-opacity:1; fill:none\" points=\"\n",
       "  252.764,1350.37 271.662,1350.37 \n",
       "  \"/>\n",
       "<polyline clip-path=\"url(#clip960)\" style=\"stroke:#000000; stroke-linecap:butt; stroke-linejoin:round; stroke-width:4; stroke-opacity:1; fill:none\" points=\"\n",
       "  252.764,1068.46 271.662,1068.46 \n",
       "  \"/>\n",
       "<polyline clip-path=\"url(#clip960)\" style=\"stroke:#000000; stroke-linecap:butt; stroke-linejoin:round; stroke-width:4; stroke-opacity:1; fill:none\" points=\"\n",
       "  252.764,786.549 271.662,786.549 \n",
       "  \"/>\n",
       "<polyline clip-path=\"url(#clip960)\" style=\"stroke:#000000; stroke-linecap:butt; stroke-linejoin:round; stroke-width:4; stroke-opacity:1; fill:none\" points=\"\n",
       "  252.764,504.641 271.662,504.641 \n",
       "  \"/>\n",
       "<polyline clip-path=\"url(#clip960)\" style=\"stroke:#000000; stroke-linecap:butt; stroke-linejoin:round; stroke-width:4; stroke-opacity:1; fill:none\" points=\"\n",
       "  252.764,222.734 271.662,222.734 \n",
       "  \"/>\n",
       "<path clip-path=\"url(#clip960)\" d=\"M115.402 1370.16 L123.04 1370.16 L123.04 1343.79 L114.73 1345.46 L114.73 1341.2 L122.994 1339.53 L127.67 1339.53 L127.67 1370.16 L135.309 1370.16 L135.309 1374.09 L115.402 1374.09 L115.402 1370.16 Z\" fill=\"#000000\" fill-rule=\"evenodd\" fill-opacity=\"1\" /><path clip-path=\"url(#clip960)\" d=\"M154.753 1342.61 Q151.142 1342.61 149.313 1346.18 Q147.508 1349.72 147.508 1356.85 Q147.508 1363.95 149.313 1367.52 Q151.142 1371.06 154.753 1371.06 Q158.388 1371.06 160.193 1367.52 Q162.022 1363.95 162.022 1356.85 Q162.022 1349.72 160.193 1346.18 Q158.388 1342.61 154.753 1342.61 M154.753 1338.91 Q160.563 1338.91 163.619 1343.51 Q166.698 1348.1 166.698 1356.85 Q166.698 1365.57 163.619 1370.18 Q160.563 1374.76 154.753 1374.76 Q148.943 1374.76 145.864 1370.18 Q142.809 1365.57 142.809 1356.85 Q142.809 1348.1 145.864 1343.51 Q148.943 1338.91 154.753 1338.91 Z\" fill=\"#000000\" fill-rule=\"evenodd\" fill-opacity=\"1\" /><path clip-path=\"url(#clip960)\" d=\"M166.698 1333.01 L190.809 1333.01 L190.809 1336.21 L166.698 1336.21 L166.698 1333.01 Z\" fill=\"#000000\" fill-rule=\"evenodd\" fill-opacity=\"1\" /><path clip-path=\"url(#clip960)\" d=\"M207.134 1333.35 Q204.426 1333.35 202.865 1334.8 Q201.323 1336.24 201.323 1338.78 Q201.323 1341.32 202.865 1342.77 Q204.426 1344.22 207.134 1344.22 Q209.843 1344.22 211.404 1342.77 Q212.965 1341.3 212.965 1338.78 Q212.965 1336.24 211.404 1334.8 Q209.861 1333.35 207.134 1333.35 M203.335 1331.73 Q200.89 1331.13 199.517 1329.45 Q198.163 1327.78 198.163 1325.37 Q198.163 1322.01 200.552 1320.05 Q202.959 1318.09 207.134 1318.09 Q211.329 1318.09 213.717 1320.05 Q216.106 1322.01 216.106 1325.37 Q216.106 1327.78 214.733 1329.45 Q213.379 1331.13 210.952 1331.73 Q213.698 1332.37 215.222 1334.23 Q216.764 1336.09 216.764 1338.78 Q216.764 1342.86 214.263 1345.05 Q211.78 1347.23 207.134 1347.23 Q202.489 1347.23 199.987 1345.05 Q197.505 1342.86 197.505 1338.78 Q197.505 1336.09 199.047 1334.23 Q200.589 1332.37 203.335 1331.73 M201.943 1325.73 Q201.943 1327.91 203.298 1329.13 Q204.671 1330.36 207.134 1330.36 Q209.579 1330.36 210.952 1329.13 Q212.344 1327.91 212.344 1325.73 Q212.344 1323.55 210.952 1322.33 Q209.579 1321.1 207.134 1321.1 Q204.671 1321.1 203.298 1322.33 Q201.943 1323.55 201.943 1325.73 Z\" fill=\"#000000\" fill-rule=\"evenodd\" fill-opacity=\"1\" /><path clip-path=\"url(#clip960)\" d=\"M116.06 1088.25 L123.699 1088.25 L123.699 1061.88 L115.389 1063.55 L115.389 1059.29 L123.652 1057.62 L128.328 1057.62 L128.328 1088.25 L135.967 1088.25 L135.967 1092.18 L116.06 1092.18 L116.06 1088.25 Z\" fill=\"#000000\" fill-rule=\"evenodd\" fill-opacity=\"1\" /><path clip-path=\"url(#clip960)\" d=\"M155.412 1060.7 Q151.8 1060.7 149.972 1064.27 Q148.166 1067.81 148.166 1074.94 Q148.166 1082.05 149.972 1085.61 Q151.8 1089.15 155.412 1089.15 Q159.046 1089.15 160.851 1085.61 Q162.68 1082.05 162.68 1074.94 Q162.68 1067.81 160.851 1064.27 Q159.046 1060.7 155.412 1060.7 M155.412 1057 Q161.222 1057 164.277 1061.61 Q167.356 1066.19 167.356 1074.94 Q167.356 1083.67 164.277 1088.27 Q161.222 1092.86 155.412 1092.86 Q149.601 1092.86 146.523 1088.27 Q143.467 1083.67 143.467 1074.94 Q143.467 1066.19 146.523 1061.61 Q149.601 1057 155.412 1057 Z\" fill=\"#000000\" fill-rule=\"evenodd\" fill-opacity=\"1\" /><path clip-path=\"url(#clip960)\" d=\"M167.356 1051.1 L191.467 1051.1 L191.467 1054.3 L167.356 1054.3 L167.356 1051.1 Z\" fill=\"#000000\" fill-rule=\"evenodd\" fill-opacity=\"1\" /><path clip-path=\"url(#clip960)\" d=\"M198.708 1036.69 L216.764 1036.69 L216.764 1038.31 L206.57 1064.77 L202.602 1064.77 L212.194 1039.89 L198.708 1039.89 L198.708 1036.69 Z\" fill=\"#000000\" fill-rule=\"evenodd\" fill-opacity=\"1\" /><path clip-path=\"url(#clip960)\" d=\"M115.195 806.342 L122.834 806.342 L122.834 779.976 L114.523 781.643 L114.523 777.384 L122.787 775.717 L127.463 775.717 L127.463 806.342 L135.102 806.342 L135.102 810.277 L115.195 810.277 L115.195 806.342 Z\" fill=\"#000000\" fill-rule=\"evenodd\" fill-opacity=\"1\" /><path clip-path=\"url(#clip960)\" d=\"M154.546 778.796 Q150.935 778.796 149.107 782.36 Q147.301 785.902 147.301 793.032 Q147.301 800.138 149.107 803.703 Q150.935 807.245 154.546 807.245 Q158.181 807.245 159.986 803.703 Q161.815 800.138 161.815 793.032 Q161.815 785.902 159.986 782.36 Q158.181 778.796 154.546 778.796 M154.546 775.092 Q160.357 775.092 163.412 779.698 Q166.491 784.282 166.491 793.032 Q166.491 801.758 163.412 806.365 Q160.357 810.948 154.546 810.948 Q148.736 810.948 145.658 806.365 Q142.602 801.758 142.602 793.032 Q142.602 784.282 145.658 779.698 Q148.736 775.092 154.546 775.092 Z\" fill=\"#000000\" fill-rule=\"evenodd\" fill-opacity=\"1\" /><path clip-path=\"url(#clip960)\" d=\"M166.491 769.193 L190.602 769.193 L190.602 772.391 L166.491 772.391 L166.491 769.193 Z\" fill=\"#000000\" fill-rule=\"evenodd\" fill-opacity=\"1\" /><path clip-path=\"url(#clip960)\" d=\"M207.398 767.312 Q204.84 767.312 203.335 769.062 Q201.849 770.811 201.849 773.858 Q201.849 776.886 203.335 778.654 Q204.84 780.403 207.398 780.403 Q209.956 780.403 211.441 778.654 Q212.946 776.886 212.946 773.858 Q212.946 770.811 211.441 769.062 Q209.956 767.312 207.398 767.312 M214.94 755.407 L214.94 758.868 Q213.51 758.191 212.043 757.833 Q210.595 757.476 209.166 757.476 Q205.404 757.476 203.41 760.015 Q201.436 762.554 201.153 767.689 Q202.263 766.052 203.937 765.187 Q205.611 764.303 207.623 764.303 Q211.855 764.303 214.3 766.88 Q216.764 769.438 216.764 773.858 Q216.764 778.183 214.206 780.798 Q211.648 783.412 207.398 783.412 Q202.526 783.412 199.95 779.688 Q197.373 775.945 197.373 768.855 Q197.373 762.197 200.533 758.247 Q203.693 754.279 209.015 754.279 Q210.445 754.279 211.893 754.561 Q213.36 754.843 214.94 755.407 Z\" fill=\"#000000\" fill-rule=\"evenodd\" fill-opacity=\"1\" /><path clip-path=\"url(#clip960)\" d=\"M116.135 524.434 L123.774 524.434 L123.774 498.068 L115.464 499.735 L115.464 495.476 L123.728 493.809 L128.404 493.809 L128.404 524.434 L136.042 524.434 L136.042 528.369 L116.135 528.369 L116.135 524.434 Z\" fill=\"#000000\" fill-rule=\"evenodd\" fill-opacity=\"1\" /><path clip-path=\"url(#clip960)\" d=\"M155.487 496.888 Q151.876 496.888 150.047 500.453 Q148.241 503.994 148.241 511.124 Q148.241 518.23 150.047 521.795 Q151.876 525.337 155.487 525.337 Q159.121 525.337 160.927 521.795 Q162.755 518.23 162.755 511.124 Q162.755 503.994 160.927 500.453 Q159.121 496.888 155.487 496.888 M155.487 493.184 Q161.297 493.184 164.352 497.791 Q167.431 502.374 167.431 511.124 Q167.431 519.851 164.352 524.457 Q161.297 529.04 155.487 529.04 Q149.677 529.04 146.598 524.457 Q143.542 519.851 143.542 511.124 Q143.542 502.374 146.598 497.791 Q149.677 493.184 155.487 493.184 Z\" fill=\"#000000\" fill-rule=\"evenodd\" fill-opacity=\"1\" /><path clip-path=\"url(#clip960)\" d=\"M167.431 487.285 L191.543 487.285 L191.543 490.483 L167.431 490.483 L167.431 487.285 Z\" fill=\"#000000\" fill-rule=\"evenodd\" fill-opacity=\"1\" /><path clip-path=\"url(#clip960)\" d=\"M199.781 472.879 L214.695 472.879 L214.695 476.076 L203.26 476.076 L203.26 482.96 Q204.088 482.678 204.915 482.546 Q205.743 482.395 206.57 482.395 Q211.272 482.395 214.018 484.972 Q216.764 487.549 216.764 491.95 Q216.764 496.482 213.943 499.003 Q211.122 501.504 205.987 501.504 Q204.219 501.504 202.376 501.203 Q200.552 500.902 198.596 500.3 L198.596 496.482 Q200.288 497.404 202.094 497.855 Q203.899 498.307 205.912 498.307 Q209.166 498.307 211.065 496.595 Q212.965 494.884 212.965 491.95 Q212.965 489.016 211.065 487.304 Q209.166 485.593 205.912 485.593 Q204.388 485.593 202.865 485.931 Q201.36 486.27 199.781 486.984 L199.781 472.879 Z\" fill=\"#000000\" fill-rule=\"evenodd\" fill-opacity=\"1\" /><path clip-path=\"url(#clip960)\" d=\"M114.931 242.526 L122.57 242.526 L122.57 216.16 L114.26 217.827 L114.26 213.568 L122.524 211.901 L127.2 211.901 L127.2 242.526 L134.839 242.526 L134.839 246.461 L114.931 246.461 L114.931 242.526 Z\" fill=\"#000000\" fill-rule=\"evenodd\" fill-opacity=\"1\" /><path clip-path=\"url(#clip960)\" d=\"M154.283 214.98 Q150.672 214.98 148.843 218.545 Q147.038 222.086 147.038 229.216 Q147.038 236.322 148.843 239.887 Q150.672 243.429 154.283 243.429 Q157.917 243.429 159.723 239.887 Q161.552 236.322 161.552 229.216 Q161.552 222.086 159.723 218.545 Q157.917 214.98 154.283 214.98 M154.283 211.276 Q160.093 211.276 163.149 215.883 Q166.227 220.466 166.227 229.216 Q166.227 237.943 163.149 242.549 Q160.093 247.132 154.283 247.132 Q148.473 247.132 145.394 242.549 Q142.339 237.943 142.339 229.216 Q142.339 220.466 145.394 215.883 Q148.473 211.276 154.283 211.276 Z\" fill=\"#000000\" fill-rule=\"evenodd\" fill-opacity=\"1\" /><path clip-path=\"url(#clip960)\" d=\"M166.227 205.378 L190.339 205.378 L190.339 208.575 L166.227 208.575 L166.227 205.378 Z\" fill=\"#000000\" fill-rule=\"evenodd\" fill-opacity=\"1\" /><path clip-path=\"url(#clip960)\" d=\"M208.978 194.281 L199.386 209.271 L208.978 209.271 L208.978 194.281 M207.981 190.971 L212.758 190.971 L212.758 209.271 L216.764 209.271 L216.764 212.43 L212.758 212.43 L212.758 219.051 L208.978 219.051 L208.978 212.43 L196.301 212.43 L196.301 208.763 L207.981 190.971 Z\" fill=\"#000000\" fill-rule=\"evenodd\" fill-opacity=\"1\" /><path clip-path=\"url(#clip960)\" d=\"M14.479 918.942 L14.479 905.446 L19.0304 905.446 L19.0304 913.085 L68.0464 913.085 L68.0464 905.446 L72.5979 905.446 L72.5979 918.942 L14.479 918.942 Z\" fill=\"#000000\" fill-rule=\"evenodd\" fill-opacity=\"1\" /><path clip-path=\"url(#clip960)\" d=\"M16.4842 892.715 L16.4842 862.669 L21.895 862.669 L21.895 886.285 L35.9632 886.285 L35.9632 863.655 L41.3741 863.655 L41.3741 886.285 L58.5933 886.285 L58.5933 862.096 L64.0042 862.096 L64.0042 892.715 L16.4842 892.715 Z\" fill=\"#000000\" fill-rule=\"evenodd\" fill-opacity=\"1\" /><path clip-path=\"url(#clip960)\" d=\"M33.8307 831.127 Q33.2578 832.113 33.0032 833.291 Q32.7167 834.437 32.7167 835.837 Q32.7167 840.802 35.9632 843.476 Q39.1779 846.118 45.2253 846.118 L64.0042 846.118 L64.0042 852.006 L28.3562 852.006 L28.3562 846.118 L33.8944 846.118 Q30.6479 844.272 29.0883 841.312 Q27.4968 838.352 27.4968 834.118 Q27.4968 833.514 27.5923 832.782 Q27.656 832.05 27.8151 831.158 L33.8307 831.127 Z\" fill=\"#000000\" fill-rule=\"evenodd\" fill-opacity=\"1\" /><path clip-path=\"url(#clip960)\" d=\"M14.479 811.297 L72.5979 811.297 L72.5979 824.793 L68.0464 824.793 L68.0464 817.186 L19.0304 817.186 L19.0304 824.793 L14.479 824.793 L14.479 811.297 Z\" fill=\"#000000\" fill-rule=\"evenodd\" fill-opacity=\"1\" /><path clip-path=\"url(#clip960)\" d=\"M14.479 799.553 L14.479 793.696 L64.0042 793.696 L64.0042 799.553 L14.479 799.553 Z\" fill=\"#000000\" fill-rule=\"evenodd\" fill-opacity=\"1\" /><path clip-path=\"url(#clip960)\" d=\"M32.4621 767.629 Q32.4621 772.339 36.1542 775.077 Q39.8145 777.814 46.212 777.814 Q52.6095 777.814 56.3017 775.108 Q59.9619 772.371 59.9619 767.629 Q59.9619 762.95 56.2698 760.213 Q52.5777 757.475 46.212 757.475 Q39.8781 757.475 36.186 760.213 Q32.4621 762.95 32.4621 767.629 M27.4968 767.629 Q27.4968 759.99 32.4621 755.629 Q37.4273 751.269 46.212 751.269 Q54.9649 751.269 59.9619 755.629 Q64.9272 759.99 64.9272 767.629 Q64.9272 775.299 59.9619 779.66 Q54.9649 783.989 46.212 783.989 Q37.4273 783.989 32.4621 779.66 Q27.4968 775.299 27.4968 767.629 Z\" fill=\"#000000\" fill-rule=\"evenodd\" fill-opacity=\"1\" /><path clip-path=\"url(#clip960)\" d=\"M45.7664 718.103 Q39.4007 718.103 35.8996 720.745 Q32.3984 723.355 32.3984 728.098 Q32.3984 732.808 35.8996 735.45 Q39.4007 738.06 45.7664 738.06 Q52.1003 738.06 55.6014 735.45 Q59.1026 732.808 59.1026 728.098 Q59.1026 723.355 55.6014 720.745 Q52.1003 718.103 45.7664 718.103 M59.58 712.247 Q68.683 712.247 73.1071 716.289 Q77.5631 720.331 77.5631 728.671 Q77.5631 731.758 77.0857 734.495 Q76.6401 737.232 75.6852 739.811 L69.9879 739.811 Q71.3884 737.232 72.0568 734.718 Q72.7252 732.204 72.7252 729.594 Q72.7252 723.833 69.7015 720.968 Q66.7096 718.103 60.6303 718.103 L57.7339 718.103 Q60.885 719.918 62.4446 722.75 Q64.0042 725.583 64.0042 729.53 Q64.0042 736.087 59.0071 740.097 Q54.01 744.107 45.7664 744.107 Q37.491 744.107 32.4939 740.097 Q27.4968 736.087 27.4968 729.53 Q27.4968 725.583 29.0564 722.75 Q30.616 719.918 33.7671 718.103 L28.3562 718.103 L28.3562 712.247 L59.58 712.247 Z\" fill=\"#000000\" fill-rule=\"evenodd\" fill-opacity=\"1\" /><path clip-path=\"url(#clip960)\" d=\"M58.5933 698.242 L58.5933 687.739 L22.3406 687.739 L24.6323 699.166 L18.7758 699.166 L16.4842 687.803 L16.4842 681.373 L58.5933 681.373 L58.5933 670.87 L64.0042 670.87 L64.0042 698.242 L58.5933 698.242 Z\" fill=\"#000000\" fill-rule=\"evenodd\" fill-opacity=\"1\" /><path clip-path=\"url(#clip960)\" d=\"M20.7174 644.134 Q20.7174 649.099 25.6189 651.614 Q30.4887 654.096 40.2919 654.096 Q50.0633 654.096 54.9649 651.614 Q59.8346 649.099 59.8346 644.134 Q59.8346 639.137 54.9649 636.654 Q50.0633 634.14 40.2919 634.14 Q30.4887 634.14 25.6189 636.654 Q20.7174 639.137 20.7174 644.134 M15.6248 644.134 Q15.6248 636.145 21.9587 631.944 Q28.2607 627.71 40.2919 627.71 Q52.2913 627.71 58.6251 631.944 Q64.9272 636.145 64.9272 644.134 Q64.9272 652.123 58.6251 656.356 Q52.2913 660.557 40.2919 660.557 Q28.2607 660.557 21.9587 656.356 Q15.6248 652.123 15.6248 644.134 Z\" fill=\"#000000\" fill-rule=\"evenodd\" fill-opacity=\"1\" /><path clip-path=\"url(#clip960)\" d=\"M894.044 12.096 L932.284 12.096 L932.284 18.9825 L902.227 18.9825 L902.227 36.8875 L931.029 36.8875 L931.029 43.7741 L902.227 43.7741 L902.227 65.6895 L933.014 65.6895 L933.014 72.576 L894.044 72.576 L894.044 12.096 Z\" fill=\"#000000\" fill-rule=\"evenodd\" fill-opacity=\"1\" /><path clip-path=\"url(#clip960)\" d=\"M983.852 45.1919 L983.852 72.576 L976.399 72.576 L976.399 45.4349 Q976.399 38.994 973.887 35.7938 Q971.376 32.5936 966.353 32.5936 Q960.317 32.5936 956.833 36.4419 Q953.349 40.2903 953.349 46.9338 L953.349 72.576 L945.855 72.576 L945.855 27.2059 L953.349 27.2059 L953.349 34.2544 Q956.023 30.163 959.628 28.1376 Q963.274 26.1121 968.013 26.1121 Q975.832 26.1121 979.842 30.9732 Q983.852 35.7938 983.852 45.1919 Z\" fill=\"#000000\" fill-rule=\"evenodd\" fill-opacity=\"1\" /><path clip-path=\"url(#clip960)\" d=\"M1033.6 18.8205 L1033.6 41.5461 L1043.89 41.5461 Q1049.6 41.5461 1052.72 38.5889 Q1055.84 35.6318 1055.84 30.163 Q1055.84 24.7348 1052.72 21.7777 Q1049.6 18.8205 1043.89 18.8205 L1033.6 18.8205 M1025.41 12.096 L1043.89 12.096 Q1054.05 12.096 1059.24 16.714 Q1064.47 21.2916 1064.47 30.163 Q1064.47 39.1155 1059.24 43.6931 Q1054.05 48.2706 1043.89 48.2706 L1033.6 48.2706 L1033.6 72.576 L1025.41 72.576 L1025.41 12.096 Z\" fill=\"#000000\" fill-rule=\"evenodd\" fill-opacity=\"1\" /><path clip-path=\"url(#clip960)\" d=\"M1099.95 34.1734 Q1098.7 33.4443 1097.2 33.1202 Q1095.74 32.7556 1093.96 32.7556 Q1087.64 32.7556 1084.23 36.8875 Q1080.87 40.9789 1080.87 48.6757 L1080.87 72.576 L1073.38 72.576 L1073.38 27.2059 L1080.87 27.2059 L1080.87 34.2544 Q1083.22 30.1225 1086.99 28.1376 Q1090.76 26.1121 1096.14 26.1121 Q1096.91 26.1121 1097.84 26.2337 Q1098.78 26.3147 1099.91 26.5172 L1099.95 34.1734 Z\" fill=\"#000000\" fill-rule=\"evenodd\" fill-opacity=\"1\" /><path clip-path=\"url(#clip960)\" d=\"M1144.75 48.0275 L1144.75 51.6733 L1110.48 51.6733 Q1110.97 59.3701 1115.1 63.421 Q1119.27 67.4314 1126.69 67.4314 Q1130.98 67.4314 1134.99 66.3781 Q1139.04 65.3249 1143.01 63.2184 L1143.01 70.267 Q1139 71.9684 1134.79 72.8596 Q1130.58 73.7508 1126.24 73.7508 Q1115.39 73.7508 1109.03 67.4314 Q1102.71 61.1119 1102.71 50.3365 Q1102.71 39.1965 1108.7 32.6746 Q1114.74 26.1121 1124.95 26.1121 Q1134.1 26.1121 1139.41 32.0264 Q1144.75 37.9003 1144.75 48.0275 M1137.3 45.84 Q1137.22 39.7232 1133.86 36.0774 Q1130.54 32.4315 1125.03 32.4315 Q1118.79 32.4315 1115.02 35.9558 Q1111.29 39.4801 1110.73 45.8805 L1137.3 45.84 Z\" fill=\"#000000\" fill-rule=\"evenodd\" fill-opacity=\"1\" /><path clip-path=\"url(#clip960)\" d=\"M1189.64 28.9478 L1189.64 35.9153 Q1186.48 34.1734 1183.28 33.3227 Q1180.12 32.4315 1176.88 32.4315 Q1169.63 32.4315 1165.62 37.0496 Q1161.61 41.6271 1161.61 49.9314 Q1161.61 58.2358 1165.62 62.8538 Q1169.63 67.4314 1176.88 67.4314 Q1180.12 67.4314 1183.28 66.5807 Q1186.48 65.6895 1189.64 63.9476 L1189.64 70.8341 Q1186.52 72.2924 1183.16 73.0216 Q1179.84 73.7508 1176.07 73.7508 Q1165.82 73.7508 1159.78 67.3098 Q1153.75 60.8689 1153.75 49.9314 Q1153.75 38.832 1159.82 32.472 Q1165.94 26.1121 1176.55 26.1121 Q1180 26.1121 1183.28 26.8413 Q1186.56 27.5299 1189.64 28.9478 Z\" fill=\"#000000\" fill-rule=\"evenodd\" fill-opacity=\"1\" /><path clip-path=\"url(#clip960)\" d=\"M1202.6 27.2059 L1210.05 27.2059 L1210.05 72.576 L1202.6 72.576 L1202.6 27.2059 M1202.6 9.54393 L1210.05 9.54393 L1210.05 18.9825 L1202.6 18.9825 L1202.6 9.54393 Z\" fill=\"#000000\" fill-rule=\"evenodd\" fill-opacity=\"1\" /><path clip-path=\"url(#clip960)\" d=\"M1254.57 28.5427 L1254.57 35.5912 Q1251.41 33.9709 1248.01 33.1607 Q1244.61 32.3505 1240.96 32.3505 Q1235.41 32.3505 1232.62 34.0519 Q1229.86 35.7533 1229.86 39.156 Q1229.86 41.7486 1231.85 43.2475 Q1233.83 44.7058 1239.83 46.0426 L1242.38 46.6097 Q1250.32 48.3111 1253.64 51.4303 Q1257 54.509 1257 60.0587 Q1257 66.3781 1251.98 70.0644 Q1247 73.7508 1238.25 73.7508 Q1234.6 73.7508 1230.63 73.0216 Q1226.7 72.3329 1222.33 70.9151 L1222.33 63.2184 Q1226.46 65.3654 1230.47 66.4591 Q1234.48 67.5124 1238.41 67.5124 Q1243.68 67.5124 1246.51 65.73 Q1249.35 63.9071 1249.35 60.6258 Q1249.35 57.5877 1247.28 55.9673 Q1245.26 54.3469 1238.33 52.8481 L1235.74 52.2405 Q1228.81 50.7821 1225.73 47.7845 Q1222.65 44.7463 1222.65 39.4801 Q1222.65 33.0797 1227.19 29.5959 Q1231.73 26.1121 1240.07 26.1121 Q1244.2 26.1121 1247.85 26.7198 Q1251.5 27.3274 1254.57 28.5427 Z\" fill=\"#000000\" fill-rule=\"evenodd\" fill-opacity=\"1\" /><path clip-path=\"url(#clip960)\" d=\"M1268.87 27.2059 L1276.33 27.2059 L1276.33 72.576 L1268.87 72.576 L1268.87 27.2059 M1268.87 9.54393 L1276.33 9.54393 L1276.33 18.9825 L1268.87 18.9825 L1268.87 9.54393 Z\" fill=\"#000000\" fill-rule=\"evenodd\" fill-opacity=\"1\" /><path clip-path=\"url(#clip960)\" d=\"M1309.5 32.4315 Q1303.51 32.4315 1300.03 37.1306 Q1296.54 41.7891 1296.54 49.9314 Q1296.54 58.0738 1299.99 62.7728 Q1303.47 67.4314 1309.5 67.4314 Q1315.46 67.4314 1318.94 62.7323 Q1322.43 58.0333 1322.43 49.9314 Q1322.43 41.8701 1318.94 37.1711 Q1315.46 32.4315 1309.5 32.4315 M1309.5 26.1121 Q1319.23 26.1121 1324.78 32.4315 Q1330.33 38.7509 1330.33 49.9314 Q1330.33 61.0714 1324.78 67.4314 Q1319.23 73.7508 1309.5 73.7508 Q1299.74 73.7508 1294.19 67.4314 Q1288.68 61.0714 1288.68 49.9314 Q1288.68 38.7509 1294.19 32.4315 Q1299.74 26.1121 1309.5 26.1121 M1315.14 6.22219 L1323.2 6.22219 L1309.99 21.4536 L1303.79 21.4536 L1315.14 6.22219 Z\" fill=\"#000000\" fill-rule=\"evenodd\" fill-opacity=\"1\" /><path clip-path=\"url(#clip960)\" d=\"M1378.01 35.9153 Q1380.8 30.8922 1384.69 28.5022 Q1388.58 26.1121 1393.84 26.1121 Q1400.93 26.1121 1404.78 31.0947 Q1408.63 36.0368 1408.63 45.1919 L1408.63 72.576 L1401.14 72.576 L1401.14 45.4349 Q1401.14 38.913 1398.83 35.7533 Q1396.52 32.5936 1391.78 32.5936 Q1385.99 32.5936 1382.62 36.4419 Q1379.26 40.2903 1379.26 46.9338 L1379.26 72.576 L1371.77 72.576 L1371.77 45.4349 Q1371.77 38.8725 1369.46 35.7533 Q1367.15 32.5936 1362.33 32.5936 Q1356.62 32.5936 1353.25 36.4824 Q1349.89 40.3308 1349.89 46.9338 L1349.89 72.576 L1342.4 72.576 L1342.4 27.2059 L1349.89 27.2059 L1349.89 34.2544 Q1352.44 30.082 1356.01 28.0971 Q1359.57 26.1121 1364.48 26.1121 Q1369.42 26.1121 1372.86 28.6237 Q1376.34 31.1352 1378.01 35.9153 Z\" fill=\"#000000\" fill-rule=\"evenodd\" fill-opacity=\"1\" /><path clip-path=\"url(#clip960)\" d=\"M1478.79 28.5427 L1478.79 35.5912 Q1475.63 33.9709 1472.23 33.1607 Q1468.83 32.3505 1465.18 32.3505 Q1459.63 32.3505 1456.84 34.0519 Q1454.08 35.7533 1454.08 39.156 Q1454.08 41.7486 1456.07 43.2475 Q1458.05 44.7058 1464.05 46.0426 L1466.6 46.6097 Q1474.54 48.3111 1477.86 51.4303 Q1481.22 54.509 1481.22 60.0587 Q1481.22 66.3781 1476.2 70.0644 Q1471.22 73.7508 1462.47 73.7508 Q1458.82 73.7508 1454.85 73.0216 Q1450.92 72.3329 1446.55 70.9151 L1446.55 63.2184 Q1450.68 65.3654 1454.69 66.4591 Q1458.7 67.5124 1462.63 67.5124 Q1467.9 67.5124 1470.73 65.73 Q1473.57 63.9071 1473.57 60.6258 Q1473.57 57.5877 1471.5 55.9673 Q1469.47 54.3469 1462.55 52.8481 L1459.96 52.2405 Q1453.03 50.7821 1449.95 47.7845 Q1446.87 44.7463 1446.87 39.4801 Q1446.87 33.0797 1451.41 29.5959 Q1455.94 26.1121 1464.29 26.1121 Q1468.42 26.1121 1472.07 26.7198 Q1475.71 27.3274 1478.79 28.5427 Z\" fill=\"#000000\" fill-rule=\"evenodd\" fill-opacity=\"1\" /><path clip-path=\"url(#clip960)\" d=\"M1493.09 27.2059 L1500.55 27.2059 L1500.55 72.576 L1493.09 72.576 L1493.09 27.2059 M1493.09 9.54393 L1500.55 9.54393 L1500.55 18.9825 L1493.09 18.9825 L1493.09 9.54393 Z\" fill=\"#000000\" fill-rule=\"evenodd\" fill-opacity=\"1\" /><path clip-path=\"url(#clip960)\" d=\"M1551.47 35.9153 Q1554.26 30.8922 1558.15 28.5022 Q1562.04 26.1121 1567.3 26.1121 Q1574.39 26.1121 1578.24 31.0947 Q1582.09 36.0368 1582.09 45.1919 L1582.09 72.576 L1574.6 72.576 L1574.6 45.4349 Q1574.6 38.913 1572.29 35.7533 Q1569.98 32.5936 1565.24 32.5936 Q1559.45 32.5936 1556.08 36.4419 Q1552.72 40.2903 1552.72 46.9338 L1552.72 72.576 L1545.23 72.576 L1545.23 45.4349 Q1545.23 38.8725 1542.92 35.7533 Q1540.61 32.5936 1535.79 32.5936 Q1530.08 32.5936 1526.71 36.4824 Q1523.35 40.3308 1523.35 46.9338 L1523.35 72.576 L1515.86 72.576 L1515.86 27.2059 L1523.35 27.2059 L1523.35 34.2544 Q1525.9 30.082 1529.47 28.0971 Q1533.03 26.1121 1537.94 26.1121 Q1542.88 26.1121 1546.32 28.6237 Q1549.8 31.1352 1551.47 35.9153 Z\" fill=\"#000000\" fill-rule=\"evenodd\" fill-opacity=\"1\" /><path clip-path=\"url(#clip960)\" d=\"M1604.17 65.7705 L1604.17 89.8329 L1596.67 89.8329 L1596.67 27.2059 L1604.17 27.2059 L1604.17 34.0924 Q1606.52 30.0415 1610.08 28.0971 Q1613.69 26.1121 1618.67 26.1121 Q1626.93 26.1121 1632.08 32.6746 Q1637.26 39.2371 1637.26 49.9314 Q1637.26 60.6258 1632.08 67.1883 Q1626.93 73.7508 1618.67 73.7508 Q1613.69 73.7508 1610.08 71.8063 Q1606.52 69.8214 1604.17 65.7705 M1629.53 49.9314 Q1629.53 41.7081 1626.12 37.0496 Q1622.76 32.3505 1616.85 32.3505 Q1610.93 32.3505 1607.53 37.0496 Q1604.17 41.7081 1604.17 49.9314 Q1604.17 58.1548 1607.53 62.8538 Q1610.93 67.5124 1616.85 67.5124 Q1622.76 67.5124 1626.12 62.8538 Q1629.53 58.1548 1629.53 49.9314 Z\" fill=\"#000000\" fill-rule=\"evenodd\" fill-opacity=\"1\" /><path clip-path=\"url(#clip960)\" d=\"M1649.62 9.54393 L1657.07 9.54393 L1657.07 72.576 L1649.62 72.576 L1649.62 9.54393 Z\" fill=\"#000000\" fill-rule=\"evenodd\" fill-opacity=\"1\" /><path clip-path=\"url(#clip960)\" d=\"M1711.48 48.0275 L1711.48 51.6733 L1677.21 51.6733 Q1677.69 59.3701 1681.82 63.421 Q1686 67.4314 1693.41 67.4314 Q1697.7 67.4314 1701.71 66.3781 Q1705.76 65.3249 1709.73 63.2184 L1709.73 70.267 Q1705.72 71.9684 1701.51 72.8596 Q1697.3 73.7508 1692.96 73.7508 Q1682.11 73.7508 1675.75 67.4314 Q1669.43 61.1119 1669.43 50.3365 Q1669.43 39.1965 1675.42 32.6746 Q1681.46 26.1121 1691.67 26.1121 Q1700.82 26.1121 1706.13 32.0264 Q1711.48 37.9003 1711.48 48.0275 M1704.02 45.84 Q1703.94 39.7232 1700.58 36.0774 Q1697.26 32.4315 1691.75 32.4315 Q1685.51 32.4315 1681.74 35.9558 Q1678.02 39.4801 1677.45 45.8805 L1704.02 45.84 Z\" fill=\"#000000\" fill-rule=\"evenodd\" fill-opacity=\"1\" /><circle clip-path=\"url(#clip962)\" cx=\"312.198\" cy=\"160.256\" r=\"14\" fill=\"#009af9\" fill-rule=\"evenodd\" fill-opacity=\"1\" stroke=\"#000000\" stroke-opacity=\"1\" stroke-width=\"3.2\"/>\n",
       "<circle clip-path=\"url(#clip962)\" cx=\"595.215\" cy=\"1082.17\" r=\"14\" fill=\"#009af9\" fill-rule=\"evenodd\" fill-opacity=\"1\" stroke=\"#000000\" stroke-opacity=\"1\" stroke-width=\"3.2\"/>\n",
       "<circle clip-path=\"url(#clip962)\" cx=\"878.233\" cy=\"1386.4\" r=\"14\" fill=\"#009af9\" fill-rule=\"evenodd\" fill-opacity=\"1\" stroke=\"#000000\" stroke-opacity=\"1\" stroke-width=\"3.2\"/>\n",
       "<circle clip-path=\"url(#clip962)\" cx=\"1161.25\" cy=\"1386.4\" r=\"14\" fill=\"#009af9\" fill-rule=\"evenodd\" fill-opacity=\"1\" stroke=\"#000000\" stroke-opacity=\"1\" stroke-width=\"3.2\"/>\n",
       "<circle clip-path=\"url(#clip962)\" cx=\"1444.27\" cy=\"1386.4\" r=\"14\" fill=\"#009af9\" fill-rule=\"evenodd\" fill-opacity=\"1\" stroke=\"#000000\" stroke-opacity=\"1\" stroke-width=\"3.2\"/>\n",
       "<circle clip-path=\"url(#clip962)\" cx=\"1727.29\" cy=\"1386.4\" r=\"14\" fill=\"#009af9\" fill-rule=\"evenodd\" fill-opacity=\"1\" stroke=\"#000000\" stroke-opacity=\"1\" stroke-width=\"3.2\"/>\n",
       "<circle clip-path=\"url(#clip962)\" cx=\"2010.3\" cy=\"1386.4\" r=\"14\" fill=\"#009af9\" fill-rule=\"evenodd\" fill-opacity=\"1\" stroke=\"#000000\" stroke-opacity=\"1\" stroke-width=\"3.2\"/>\n",
       "<circle clip-path=\"url(#clip962)\" cx=\"2293.32\" cy=\"1386.4\" r=\"14\" fill=\"#009af9\" fill-rule=\"evenodd\" fill-opacity=\"1\" stroke=\"#000000\" stroke-opacity=\"1\" stroke-width=\"3.2\"/>\n",
       "<path clip-path=\"url(#clip960)\" d=\"\n",
       "M1722.39 270.476 L2282.76 270.476 L2282.76 166.796 L1722.39 166.796  Z\n",
       "  \" fill=\"#ffffff\" fill-rule=\"evenodd\" fill-opacity=\"1\"/>\n",
       "<polyline clip-path=\"url(#clip960)\" style=\"stroke:#000000; stroke-linecap:butt; stroke-linejoin:round; stroke-width:4; stroke-opacity:1; fill:none\" points=\"\n",
       "  1722.39,270.476 2282.76,270.476 2282.76,166.796 1722.39,166.796 1722.39,270.476 \n",
       "  \"/>\n",
       "<circle clip-path=\"url(#clip960)\" cx=\"1815.72\" cy=\"218.636\" r=\"23\" fill=\"#009af9\" fill-rule=\"evenodd\" fill-opacity=\"1\" stroke=\"#000000\" stroke-opacity=\"1\" stroke-width=\"5.12\"/>\n",
       "<path clip-path=\"url(#clip960)\" d=\"M1909.05 201.356 L1930.91 201.356 L1930.91 205.291 L1913.73 205.291 L1913.73 215.522 L1930.19 215.522 L1930.19 219.457 L1913.73 219.457 L1913.73 231.981 L1931.32 231.981 L1931.32 235.916 L1909.05 235.916 L1909.05 201.356 Z\" fill=\"#000000\" fill-rule=\"evenodd\" fill-opacity=\"1\" /><path clip-path=\"url(#clip960)\" d=\"M1953.85 213.971 Q1953.13 213.555 1952.27 213.37 Q1951.44 213.161 1950.42 213.161 Q1946.81 213.161 1944.86 215.522 Q1942.94 217.86 1942.94 222.258 L1942.94 235.916 L1938.66 235.916 L1938.66 209.99 L1942.94 209.99 L1942.94 214.018 Q1944.29 211.657 1946.44 210.522 Q1948.59 209.365 1951.67 209.365 Q1952.11 209.365 1952.64 209.434 Q1953.17 209.481 1953.82 209.596 L1953.85 213.971 Z\" fill=\"#000000\" fill-rule=\"evenodd\" fill-opacity=\"1\" /><path clip-path=\"url(#clip960)\" d=\"M1972.5 213.971 Q1971.79 213.555 1970.93 213.37 Q1970.1 213.161 1969.08 213.161 Q1965.47 213.161 1963.52 215.522 Q1961.6 217.86 1961.6 222.258 L1961.6 235.916 L1957.32 235.916 L1957.32 209.99 L1961.6 209.99 L1961.6 214.018 Q1962.94 211.657 1965.1 210.522 Q1967.25 209.365 1970.33 209.365 Q1970.77 209.365 1971.3 209.434 Q1971.83 209.481 1972.48 209.596 L1972.5 213.971 Z\" fill=\"#000000\" fill-rule=\"evenodd\" fill-opacity=\"1\" /><path clip-path=\"url(#clip960)\" d=\"M1985.98 212.976 Q1982.55 212.976 1980.56 215.661 Q1978.57 218.323 1978.57 222.976 Q1978.57 227.629 1980.54 230.314 Q1982.53 232.976 1985.98 232.976 Q1989.38 232.976 1991.37 230.291 Q1993.36 227.606 1993.36 222.976 Q1993.36 218.37 1991.37 215.684 Q1989.38 212.976 1985.98 212.976 M1985.98 209.365 Q1991.53 209.365 1994.7 212.976 Q1997.87 216.587 1997.87 222.976 Q1997.87 229.342 1994.7 232.976 Q1991.53 236.587 1985.98 236.587 Q1980.4 236.587 1977.23 232.976 Q1974.08 229.342 1974.08 222.976 Q1974.08 216.587 1977.23 212.976 Q1980.4 209.365 1985.98 209.365 Z\" fill=\"#000000\" fill-rule=\"evenodd\" fill-opacity=\"1\" /><path clip-path=\"url(#clip960)\" d=\"M2019.96 213.971 Q2019.24 213.555 2018.38 213.37 Q2017.55 213.161 2016.53 213.161 Q2012.92 213.161 2010.98 215.522 Q2009.05 217.86 2009.05 222.258 L2009.05 235.916 L2004.77 235.916 L2004.77 209.99 L2009.05 209.99 L2009.05 214.018 Q2010.4 211.657 2012.55 210.522 Q2014.7 209.365 2017.78 209.365 Q2018.22 209.365 2018.75 209.434 Q2019.29 209.481 2019.93 209.596 L2019.96 213.971 Z\" fill=\"#000000\" fill-rule=\"evenodd\" fill-opacity=\"1\" /><path clip-path=\"url(#clip960)\" d=\"M2051.28 222.883 Q2046.11 222.883 2044.12 224.064 Q2042.13 225.244 2042.13 228.092 Q2042.13 230.36 2043.61 231.703 Q2045.12 233.022 2047.69 233.022 Q2051.23 233.022 2053.36 230.522 Q2055.51 227.999 2055.51 223.832 L2055.51 222.883 L2051.28 222.883 M2059.77 221.124 L2059.77 235.916 L2055.51 235.916 L2055.51 231.981 Q2054.05 234.342 2051.88 235.476 Q2049.7 236.587 2046.55 236.587 Q2042.57 236.587 2040.21 234.365 Q2037.87 232.119 2037.87 228.369 Q2037.87 223.994 2040.79 221.772 Q2043.73 219.55 2049.54 219.55 L2055.51 219.55 L2055.51 219.133 Q2055.51 216.194 2053.57 214.596 Q2051.65 212.976 2048.15 212.976 Q2045.93 212.976 2043.82 213.508 Q2041.72 214.041 2039.77 215.106 L2039.77 211.17 Q2042.11 210.268 2044.31 209.828 Q2046.51 209.365 2048.59 209.365 Q2054.22 209.365 2056.99 212.282 Q2059.77 215.198 2059.77 221.124 Z\" fill=\"#000000\" fill-rule=\"evenodd\" fill-opacity=\"1\" /><path clip-path=\"url(#clip960)\" d=\"M2087.16 222.976 Q2087.16 218.277 2085.21 215.615 Q2083.29 212.93 2079.91 212.93 Q2076.53 212.93 2074.59 215.615 Q2072.66 218.277 2072.66 222.976 Q2072.66 227.675 2074.59 230.36 Q2076.53 233.022 2079.91 233.022 Q2083.29 233.022 2085.21 230.36 Q2087.16 227.675 2087.16 222.976 M2072.66 213.925 Q2074.01 211.61 2076.04 210.499 Q2078.1 209.365 2080.95 209.365 Q2085.67 209.365 2088.61 213.115 Q2091.58 216.865 2091.58 222.976 Q2091.58 229.087 2088.61 232.837 Q2085.67 236.587 2080.95 236.587 Q2078.1 236.587 2076.04 235.476 Q2074.01 234.342 2072.66 232.027 L2072.66 235.916 L2068.38 235.916 L2068.38 199.897 L2072.66 199.897 L2072.66 213.925 Z\" fill=\"#000000\" fill-rule=\"evenodd\" fill-opacity=\"1\" /><path clip-path=\"url(#clip960)\" d=\"M2115.16 210.754 L2115.16 214.782 Q2113.36 213.856 2111.41 213.393 Q2109.47 212.93 2107.39 212.93 Q2104.22 212.93 2102.62 213.902 Q2101.04 214.874 2101.04 216.819 Q2101.04 218.3 2102.18 219.157 Q2103.31 219.99 2106.74 220.754 L2108.2 221.078 Q2112.73 222.05 2114.63 223.832 Q2116.55 225.592 2116.55 228.763 Q2116.55 232.374 2113.68 234.481 Q2110.84 236.587 2105.84 236.587 Q2103.75 236.587 2101.48 236.17 Q2099.24 235.777 2096.74 234.967 L2096.74 230.569 Q2099.1 231.795 2101.39 232.42 Q2103.68 233.022 2105.93 233.022 Q2108.94 233.022 2110.56 232.004 Q2112.18 230.962 2112.18 229.087 Q2112.18 227.351 2111 226.425 Q2109.84 225.499 2105.88 224.643 L2104.4 224.295 Q2100.44 223.462 2098.68 221.749 Q2096.92 220.013 2096.92 217.004 Q2096.92 213.346 2099.52 211.356 Q2102.11 209.365 2106.88 209.365 Q2109.24 209.365 2111.32 209.712 Q2113.41 210.059 2115.16 210.754 Z\" fill=\"#000000\" fill-rule=\"evenodd\" fill-opacity=\"1\" /><path clip-path=\"url(#clip960)\" d=\"M2133.38 212.976 Q2129.96 212.976 2127.97 215.661 Q2125.97 218.323 2125.97 222.976 Q2125.97 227.629 2127.94 230.314 Q2129.93 232.976 2133.38 232.976 Q2136.78 232.976 2138.78 230.291 Q2140.77 227.606 2140.77 222.976 Q2140.77 218.37 2138.78 215.684 Q2136.78 212.976 2133.38 212.976 M2133.38 209.365 Q2138.94 209.365 2142.11 212.976 Q2145.28 216.587 2145.28 222.976 Q2145.28 229.342 2142.11 232.976 Q2138.94 236.587 2133.38 236.587 Q2127.8 236.587 2124.63 232.976 Q2121.48 229.342 2121.48 222.976 Q2121.48 216.587 2124.63 212.976 Q2127.8 209.365 2133.38 209.365 Z\" fill=\"#000000\" fill-rule=\"evenodd\" fill-opacity=\"1\" /><path clip-path=\"url(#clip960)\" d=\"M2152.34 199.897 L2156.6 199.897 L2156.6 235.916 L2152.34 235.916 L2152.34 199.897 Z\" fill=\"#000000\" fill-rule=\"evenodd\" fill-opacity=\"1\" /><path clip-path=\"url(#clip960)\" d=\"M2165.07 225.684 L2165.07 209.99 L2169.33 209.99 L2169.33 225.522 Q2169.33 229.203 2170.77 231.055 Q2172.2 232.883 2175.07 232.883 Q2178.52 232.883 2180.51 230.684 Q2182.53 228.485 2182.53 224.689 L2182.53 209.99 L2186.78 209.99 L2186.78 235.916 L2182.53 235.916 L2182.53 231.934 Q2180.97 234.295 2178.91 235.453 Q2176.88 236.587 2174.17 236.587 Q2169.7 236.587 2167.39 233.809 Q2165.07 231.031 2165.07 225.684 M2175.79 209.365 L2175.79 209.365 Z\" fill=\"#000000\" fill-rule=\"evenodd\" fill-opacity=\"1\" /><path clip-path=\"url(#clip960)\" d=\"M2199.77 202.629 L2199.77 209.99 L2208.54 209.99 L2208.54 213.3 L2199.77 213.3 L2199.77 227.374 Q2199.77 230.545 2200.63 231.448 Q2201.51 232.351 2204.17 232.351 L2208.54 232.351 L2208.54 235.916 L2204.17 235.916 Q2199.24 235.916 2197.36 234.087 Q2195.49 232.235 2195.49 227.374 L2195.49 213.3 L2192.36 213.3 L2192.36 209.99 L2195.49 209.99 L2195.49 202.629 L2199.77 202.629 Z\" fill=\"#000000\" fill-rule=\"evenodd\" fill-opacity=\"1\" /><path clip-path=\"url(#clip960)\" d=\"M2224.19 212.976 Q2220.77 212.976 2218.77 215.661 Q2216.78 218.323 2216.78 222.976 Q2216.78 227.629 2218.75 230.314 Q2220.74 232.976 2224.19 232.976 Q2227.59 232.976 2229.59 230.291 Q2231.58 227.606 2231.58 222.976 Q2231.58 218.37 2229.59 215.684 Q2227.59 212.976 2224.19 212.976 M2224.19 209.365 Q2229.75 209.365 2232.92 212.976 Q2236.09 216.587 2236.09 222.976 Q2236.09 229.342 2232.92 232.976 Q2229.75 236.587 2224.19 236.587 Q2218.61 236.587 2215.44 232.976 Q2212.29 229.342 2212.29 222.976 Q2212.29 216.587 2215.44 212.976 Q2218.61 209.365 2224.19 209.365 Z\" fill=\"#000000\" fill-rule=\"evenodd\" fill-opacity=\"1\" /></svg>\n"
      ]
     },
     "execution_count": 287,
     "metadata": {},
     "output_type": "execute_result"
    }
   ],
   "source": [
    "scatter(V_er1,yscale=:log10,title=\"En Precisióm simple\",xlabel=\"i\",ylabel=\"[Er]log10\",label=\"Error absoluto\")"
   ]
  },
  {
   "cell_type": "code",
   "execution_count": 285,
   "metadata": {},
   "outputs": [
    {
     "data": {
      "image/svg+xml": [
       "<?xml version=\"1.0\" encoding=\"utf-8\"?>\n",
       "<svg xmlns=\"http://www.w3.org/2000/svg\" xmlns:xlink=\"http://www.w3.org/1999/xlink\" width=\"600\" height=\"400\" viewBox=\"0 0 2400 1600\">\n",
       "<defs>\n",
       "  <clipPath id=\"clip880\">\n",
       "    <rect x=\"0\" y=\"0\" width=\"2400\" height=\"1600\"/>\n",
       "  </clipPath>\n",
       "</defs>\n",
       "<path clip-path=\"url(#clip880)\" d=\"\n",
       "M0 1600 L2400 1600 L2400 0 L0 0  Z\n",
       "  \" fill=\"#ffffff\" fill-rule=\"evenodd\" fill-opacity=\"1\"/>\n",
       "<defs>\n",
       "  <clipPath id=\"clip881\">\n",
       "    <rect x=\"480\" y=\"0\" width=\"1681\" height=\"1600\"/>\n",
       "  </clipPath>\n",
       "</defs>\n",
       "<path clip-path=\"url(#clip880)\" d=\"\n",
       "M276.876 1423.18 L2352.76 1423.18 L2352.76 123.472 L276.876 123.472  Z\n",
       "  \" fill=\"#ffffff\" fill-rule=\"evenodd\" fill-opacity=\"1\"/>\n",
       "<defs>\n",
       "  <clipPath id=\"clip882\">\n",
       "    <rect x=\"276\" y=\"123\" width=\"2077\" height=\"1301\"/>\n",
       "  </clipPath>\n",
       "</defs>\n",
       "<polyline clip-path=\"url(#clip882)\" style=\"stroke:#000000; stroke-linecap:butt; stroke-linejoin:round; stroke-width:2; stroke-opacity:0.1; fill:none\" points=\"\n",
       "  615.395,1423.18 615.395,123.472 \n",
       "  \"/>\n",
       "<polyline clip-path=\"url(#clip882)\" style=\"stroke:#000000; stroke-linecap:butt; stroke-linejoin:round; stroke-width:2; stroke-opacity:0.1; fill:none\" points=\"\n",
       "  1174.93,1423.18 1174.93,123.472 \n",
       "  \"/>\n",
       "<polyline clip-path=\"url(#clip882)\" style=\"stroke:#000000; stroke-linecap:butt; stroke-linejoin:round; stroke-width:2; stroke-opacity:0.1; fill:none\" points=\"\n",
       "  1734.47,1423.18 1734.47,123.472 \n",
       "  \"/>\n",
       "<polyline clip-path=\"url(#clip882)\" style=\"stroke:#000000; stroke-linecap:butt; stroke-linejoin:round; stroke-width:2; stroke-opacity:0.1; fill:none\" points=\"\n",
       "  2294,1423.18 2294,123.472 \n",
       "  \"/>\n",
       "<polyline clip-path=\"url(#clip880)\" style=\"stroke:#000000; stroke-linecap:butt; stroke-linejoin:round; stroke-width:4; stroke-opacity:1; fill:none\" points=\"\n",
       "  276.876,1423.18 2352.76,1423.18 \n",
       "  \"/>\n",
       "<polyline clip-path=\"url(#clip880)\" style=\"stroke:#000000; stroke-linecap:butt; stroke-linejoin:round; stroke-width:4; stroke-opacity:1; fill:none\" points=\"\n",
       "  615.395,1423.18 615.395,1404.28 \n",
       "  \"/>\n",
       "<polyline clip-path=\"url(#clip880)\" style=\"stroke:#000000; stroke-linecap:butt; stroke-linejoin:round; stroke-width:4; stroke-opacity:1; fill:none\" points=\"\n",
       "  1174.93,1423.18 1174.93,1404.28 \n",
       "  \"/>\n",
       "<polyline clip-path=\"url(#clip880)\" style=\"stroke:#000000; stroke-linecap:butt; stroke-linejoin:round; stroke-width:4; stroke-opacity:1; fill:none\" points=\"\n",
       "  1734.47,1423.18 1734.47,1404.28 \n",
       "  \"/>\n",
       "<polyline clip-path=\"url(#clip880)\" style=\"stroke:#000000; stroke-linecap:butt; stroke-linejoin:round; stroke-width:4; stroke-opacity:1; fill:none\" points=\"\n",
       "  2294,1423.18 2294,1404.28 \n",
       "  \"/>\n",
       "<path clip-path=\"url(#clip880)\" d=\"M610.048 1481.64 L626.367 1481.64 L626.367 1485.58 L604.423 1485.58 L604.423 1481.64 Q607.085 1478.89 611.668 1474.26 Q616.275 1469.61 617.455 1468.27 Q619.701 1465.74 620.58 1464.01 Q621.483 1462.25 621.483 1460.56 Q621.483 1457.8 619.539 1456.07 Q617.617 1454.33 614.515 1454.33 Q612.316 1454.33 609.863 1455.09 Q607.432 1455.86 604.654 1457.41 L604.654 1452.69 Q607.478 1451.55 609.932 1450.97 Q612.386 1450.39 614.423 1450.39 Q619.793 1450.39 622.988 1453.08 Q626.182 1455.77 626.182 1460.26 Q626.182 1462.39 625.372 1464.31 Q624.585 1466.2 622.478 1468.8 Q621.9 1469.47 618.798 1472.69 Q615.696 1475.88 610.048 1481.64 Z\" fill=\"#000000\" fill-rule=\"evenodd\" fill-opacity=\"1\" /><path clip-path=\"url(#clip880)\" d=\"M1177.94 1455.09 L1166.14 1473.54 L1177.94 1473.54 L1177.94 1455.09 M1176.71 1451.02 L1182.59 1451.02 L1182.59 1473.54 L1187.52 1473.54 L1187.52 1477.43 L1182.59 1477.43 L1182.59 1485.58 L1177.94 1485.58 L1177.94 1477.43 L1162.34 1477.43 L1162.34 1472.92 L1176.71 1451.02 Z\" fill=\"#000000\" fill-rule=\"evenodd\" fill-opacity=\"1\" /><path clip-path=\"url(#clip880)\" d=\"M1734.87 1466.44 Q1731.73 1466.44 1729.87 1468.59 Q1728.04 1470.74 1728.04 1474.49 Q1728.04 1478.22 1729.87 1480.39 Q1731.73 1482.55 1734.87 1482.55 Q1738.02 1482.55 1739.85 1480.39 Q1741.7 1478.22 1741.7 1474.49 Q1741.7 1470.74 1739.85 1468.59 Q1738.02 1466.44 1734.87 1466.44 M1744.16 1451.78 L1744.16 1456.04 Q1742.4 1455.21 1740.59 1454.77 Q1738.81 1454.33 1737.05 1454.33 Q1732.42 1454.33 1729.97 1457.45 Q1727.54 1460.58 1727.19 1466.9 Q1728.55 1464.89 1730.61 1463.82 Q1732.67 1462.73 1735.15 1462.73 Q1740.36 1462.73 1743.37 1465.9 Q1746.4 1469.05 1746.4 1474.49 Q1746.4 1479.82 1743.25 1483.03 Q1740.1 1486.25 1734.87 1486.25 Q1728.88 1486.25 1725.71 1481.67 Q1722.54 1477.06 1722.54 1468.33 Q1722.54 1460.14 1726.42 1455.28 Q1730.31 1450.39 1736.86 1450.39 Q1738.62 1450.39 1740.41 1450.74 Q1742.21 1451.09 1744.16 1451.78 Z\" fill=\"#000000\" fill-rule=\"evenodd\" fill-opacity=\"1\" /><path clip-path=\"url(#clip880)\" d=\"M2294 1469.17 Q2290.67 1469.17 2288.75 1470.95 Q2286.85 1472.73 2286.85 1475.86 Q2286.85 1478.98 2288.75 1480.77 Q2290.67 1482.55 2294 1482.55 Q2297.34 1482.55 2299.26 1480.77 Q2301.18 1478.96 2301.18 1475.86 Q2301.18 1472.73 2299.26 1470.95 Q2297.36 1469.17 2294 1469.17 M2289.33 1467.18 Q2286.32 1466.44 2284.63 1464.38 Q2282.96 1462.32 2282.96 1459.35 Q2282.96 1455.21 2285.9 1452.8 Q2288.87 1450.39 2294 1450.39 Q2299.17 1450.39 2302.11 1452.8 Q2305.05 1455.21 2305.05 1459.35 Q2305.05 1462.32 2303.36 1464.38 Q2301.69 1466.44 2298.7 1467.18 Q2302.08 1467.96 2303.96 1470.26 Q2305.86 1472.55 2305.86 1475.86 Q2305.86 1480.88 2302.78 1483.57 Q2299.72 1486.25 2294 1486.25 Q2288.29 1486.25 2285.21 1483.57 Q2282.15 1480.88 2282.15 1475.86 Q2282.15 1472.55 2284.05 1470.26 Q2285.95 1467.96 2289.33 1467.18 M2287.62 1459.79 Q2287.62 1462.48 2289.28 1463.98 Q2290.97 1465.49 2294 1465.49 Q2297.01 1465.49 2298.7 1463.98 Q2300.42 1462.48 2300.42 1459.79 Q2300.42 1457.11 2298.7 1455.6 Q2297.01 1454.1 2294 1454.1 Q2290.97 1454.1 2289.28 1455.6 Q2287.62 1457.11 2287.62 1459.79 Z\" fill=\"#000000\" fill-rule=\"evenodd\" fill-opacity=\"1\" /><path clip-path=\"url(#clip880)\" d=\"M1311.89 1532.4 L1317.74 1532.4 L1317.74 1568.04 L1311.89 1568.04 L1311.89 1532.4 M1311.89 1518.52 L1317.74 1518.52 L1317.74 1525.93 L1311.89 1525.93 L1311.89 1518.52 Z\" fill=\"#000000\" fill-rule=\"evenodd\" fill-opacity=\"1\" /><polyline clip-path=\"url(#clip882)\" style=\"stroke:#000000; stroke-linecap:butt; stroke-linejoin:round; stroke-width:2; stroke-opacity:0.1; fill:none\" points=\"\n",
       "  276.876,1212.24 2352.76,1212.24 \n",
       "  \"/>\n",
       "<polyline clip-path=\"url(#clip882)\" style=\"stroke:#000000; stroke-linecap:butt; stroke-linejoin:round; stroke-width:2; stroke-opacity:0.1; fill:none\" points=\"\n",
       "  276.876,743.512 2352.76,743.512 \n",
       "  \"/>\n",
       "<polyline clip-path=\"url(#clip882)\" style=\"stroke:#000000; stroke-linecap:butt; stroke-linejoin:round; stroke-width:2; stroke-opacity:0.1; fill:none\" points=\"\n",
       "  276.876,274.78 2352.76,274.78 \n",
       "  \"/>\n",
       "<polyline clip-path=\"url(#clip880)\" style=\"stroke:#000000; stroke-linecap:butt; stroke-linejoin:round; stroke-width:4; stroke-opacity:1; fill:none\" points=\"\n",
       "  276.876,1423.18 276.876,123.472 \n",
       "  \"/>\n",
       "<polyline clip-path=\"url(#clip880)\" style=\"stroke:#000000; stroke-linecap:butt; stroke-linejoin:round; stroke-width:4; stroke-opacity:1; fill:none\" points=\"\n",
       "  276.876,1212.24 295.773,1212.24 \n",
       "  \"/>\n",
       "<polyline clip-path=\"url(#clip880)\" style=\"stroke:#000000; stroke-linecap:butt; stroke-linejoin:round; stroke-width:4; stroke-opacity:1; fill:none\" points=\"\n",
       "  276.876,743.512 295.773,743.512 \n",
       "  \"/>\n",
       "<polyline clip-path=\"url(#clip880)\" style=\"stroke:#000000; stroke-linecap:butt; stroke-linejoin:round; stroke-width:4; stroke-opacity:1; fill:none\" points=\"\n",
       "  276.876,274.78 295.773,274.78 \n",
       "  \"/>\n",
       "<path clip-path=\"url(#clip880)\" d=\"M115.74 1232.04 L123.379 1232.04 L123.379 1205.67 L115.069 1207.34 L115.069 1203.08 L123.333 1201.41 L128.009 1201.41 L128.009 1232.04 L135.647 1232.04 L135.647 1235.97 L115.74 1235.97 L115.74 1232.04 Z\" fill=\"#000000\" fill-rule=\"evenodd\" fill-opacity=\"1\" /><path clip-path=\"url(#clip880)\" d=\"M155.092 1204.49 Q151.481 1204.49 149.652 1208.06 Q147.846 1211.6 147.846 1218.73 Q147.846 1225.83 149.652 1229.4 Q151.481 1232.94 155.092 1232.94 Q158.726 1232.94 160.532 1229.4 Q162.36 1225.83 162.36 1218.73 Q162.36 1211.6 160.532 1208.06 Q158.726 1204.49 155.092 1204.49 M155.092 1200.79 Q160.902 1200.79 163.958 1205.39 Q167.036 1209.98 167.036 1218.73 Q167.036 1227.45 163.958 1232.06 Q160.902 1236.64 155.092 1236.64 Q149.282 1236.64 146.203 1232.06 Q143.147 1227.45 143.147 1218.73 Q143.147 1209.98 146.203 1205.39 Q149.282 1200.79 155.092 1200.79 Z\" fill=\"#000000\" fill-rule=\"evenodd\" fill-opacity=\"1\" /><path clip-path=\"url(#clip880)\" d=\"M167.036 1194.89 L191.148 1194.89 L191.148 1198.09 L167.036 1198.09 L167.036 1194.89 Z\" fill=\"#000000\" fill-rule=\"evenodd\" fill-opacity=\"1\" /><path clip-path=\"url(#clip880)\" d=\"M200.006 1205.36 L206.213 1205.36 L206.213 1183.94 L199.461 1185.3 L199.461 1181.84 L206.175 1180.48 L209.974 1180.48 L209.974 1205.36 L216.181 1205.36 L216.181 1208.56 L200.006 1208.56 L200.006 1205.36 Z\" fill=\"#000000\" fill-rule=\"evenodd\" fill-opacity=\"1\" /><path clip-path=\"url(#clip880)\" d=\"M223.892 1180.48 L238.807 1180.48 L238.807 1183.68 L227.372 1183.68 L227.372 1190.56 Q228.199 1190.28 229.027 1190.15 Q229.854 1190 230.682 1190 Q235.384 1190 238.13 1192.58 Q240.876 1195.15 240.876 1199.55 Q240.876 1204.09 238.054 1206.61 Q235.233 1209.11 230.099 1209.11 Q228.331 1209.11 226.488 1208.81 Q224.663 1208.51 222.707 1207.9 L222.707 1204.09 Q224.4 1205.01 226.205 1205.46 Q228.011 1205.91 230.023 1205.91 Q233.277 1205.91 235.177 1204.2 Q237.076 1202.49 237.076 1199.55 Q237.076 1196.62 235.177 1194.91 Q233.277 1193.2 230.023 1193.2 Q228.5 1193.2 226.977 1193.53 Q225.472 1193.87 223.892 1194.59 L223.892 1180.48 Z\" fill=\"#000000\" fill-rule=\"evenodd\" fill-opacity=\"1\" /><path clip-path=\"url(#clip880)\" d=\"M114.931 763.305 L122.57 763.305 L122.57 736.939 L114.26 738.606 L114.26 734.347 L122.524 732.68 L127.2 732.68 L127.2 763.305 L134.839 763.305 L134.839 767.24 L114.931 767.24 L114.931 763.305 Z\" fill=\"#000000\" fill-rule=\"evenodd\" fill-opacity=\"1\" /><path clip-path=\"url(#clip880)\" d=\"M154.283 735.759 Q150.672 735.759 148.843 739.323 Q147.038 742.865 147.038 749.995 Q147.038 757.101 148.843 760.666 Q150.672 764.208 154.283 764.208 Q157.917 764.208 159.723 760.666 Q161.552 757.101 161.552 749.995 Q161.552 742.865 159.723 739.323 Q157.917 735.759 154.283 735.759 M154.283 732.055 Q160.093 732.055 163.149 736.661 Q166.227 741.245 166.227 749.995 Q166.227 758.721 163.149 763.328 Q160.093 767.911 154.283 767.911 Q148.473 767.911 145.394 763.328 Q142.339 758.721 142.339 749.995 Q142.339 741.245 145.394 736.661 Q148.473 732.055 154.283 732.055 Z\" fill=\"#000000\" fill-rule=\"evenodd\" fill-opacity=\"1\" /><path clip-path=\"url(#clip880)\" d=\"M166.227 726.156 L190.339 726.156 L190.339 729.354 L166.227 729.354 L166.227 726.156 Z\" fill=\"#000000\" fill-rule=\"evenodd\" fill-opacity=\"1\" /><path clip-path=\"url(#clip880)\" d=\"M199.197 736.632 L205.404 736.632 L205.404 715.21 L198.652 716.564 L198.652 713.104 L205.366 711.75 L209.166 711.75 L209.166 736.632 L215.372 736.632 L215.372 739.83 L199.197 739.83 L199.197 736.632 Z\" fill=\"#000000\" fill-rule=\"evenodd\" fill-opacity=\"1\" /><path clip-path=\"url(#clip880)\" d=\"M231.171 714.251 Q228.237 714.251 226.751 717.147 Q225.284 720.025 225.284 725.818 Q225.284 731.592 226.751 734.488 Q228.237 737.366 231.171 737.366 Q234.124 737.366 235.591 734.488 Q237.076 731.592 237.076 725.818 Q237.076 720.025 235.591 717.147 Q234.124 714.251 231.171 714.251 M231.171 711.242 Q235.891 711.242 238.374 714.984 Q240.876 718.708 240.876 725.818 Q240.876 732.908 238.374 736.651 Q235.891 740.375 231.171 740.375 Q226.45 740.375 223.949 736.651 Q221.466 732.908 221.466 725.818 Q221.466 718.708 223.949 714.984 Q226.45 711.242 231.171 711.242 Z\" fill=\"#000000\" fill-rule=\"evenodd\" fill-opacity=\"1\" /><path clip-path=\"url(#clip880)\" d=\"M140.247 294.572 L147.886 294.572 L147.886 268.207 L139.575 269.873 L139.575 265.614 L147.839 263.948 L152.515 263.948 L152.515 294.572 L160.154 294.572 L160.154 298.508 L140.247 298.508 L140.247 294.572 Z\" fill=\"#000000\" fill-rule=\"evenodd\" fill-opacity=\"1\" /><path clip-path=\"url(#clip880)\" d=\"M179.598 267.026 Q175.987 267.026 174.159 270.591 Q172.353 274.133 172.353 281.262 Q172.353 288.369 174.159 291.934 Q175.987 295.475 179.598 295.475 Q183.233 295.475 185.038 291.934 Q186.867 288.369 186.867 281.262 Q186.867 274.133 185.038 270.591 Q183.233 267.026 179.598 267.026 M179.598 263.323 Q185.409 263.323 188.464 267.929 Q191.543 272.512 191.543 281.262 Q191.543 289.989 188.464 294.596 Q185.409 299.179 179.598 299.179 Q173.788 299.179 170.71 294.596 Q167.654 289.989 167.654 281.262 Q167.654 272.512 170.71 267.929 Q173.788 263.323 179.598 263.323 Z\" fill=\"#000000\" fill-rule=\"evenodd\" fill-opacity=\"1\" /><path clip-path=\"url(#clip880)\" d=\"M191.543 257.424 L215.654 257.424 L215.654 260.621 L191.543 260.621 L191.543 257.424 Z\" fill=\"#000000\" fill-rule=\"evenodd\" fill-opacity=\"1\" /><path clip-path=\"url(#clip880)\" d=\"M223.892 243.017 L238.807 243.017 L238.807 246.214 L227.372 246.214 L227.372 253.098 Q228.199 252.816 229.027 252.684 Q229.854 252.534 230.682 252.534 Q235.384 252.534 238.13 255.111 Q240.876 257.687 240.876 262.088 Q240.876 266.621 238.054 269.141 Q235.233 271.643 230.099 271.643 Q228.331 271.643 226.488 271.342 Q224.663 271.041 222.707 270.439 L222.707 266.621 Q224.4 267.542 226.205 267.994 Q228.011 268.445 230.023 268.445 Q233.277 268.445 235.177 266.734 Q237.076 265.022 237.076 262.088 Q237.076 259.154 235.177 257.443 Q233.277 255.731 230.023 255.731 Q228.5 255.731 226.977 256.07 Q225.472 256.408 223.892 257.123 L223.892 243.017 Z\" fill=\"#000000\" fill-rule=\"evenodd\" fill-opacity=\"1\" /><path clip-path=\"url(#clip880)\" d=\"M14.479 918.942 L14.479 905.446 L19.0304 905.446 L19.0304 913.085 L68.0464 913.085 L68.0464 905.446 L72.5979 905.446 L72.5979 918.942 L14.479 918.942 Z\" fill=\"#000000\" fill-rule=\"evenodd\" fill-opacity=\"1\" /><path clip-path=\"url(#clip880)\" d=\"M16.4842 892.715 L16.4842 862.669 L21.895 862.669 L21.895 886.285 L35.9632 886.285 L35.9632 863.655 L41.3741 863.655 L41.3741 886.285 L58.5933 886.285 L58.5933 862.096 L64.0042 862.096 L64.0042 892.715 L16.4842 892.715 Z\" fill=\"#000000\" fill-rule=\"evenodd\" fill-opacity=\"1\" /><path clip-path=\"url(#clip880)\" d=\"M33.8307 831.127 Q33.2578 832.113 33.0032 833.291 Q32.7167 834.437 32.7167 835.837 Q32.7167 840.802 35.9632 843.476 Q39.1779 846.118 45.2253 846.118 L64.0042 846.118 L64.0042 852.006 L28.3562 852.006 L28.3562 846.118 L33.8944 846.118 Q30.6479 844.272 29.0883 841.312 Q27.4968 838.352 27.4968 834.118 Q27.4968 833.514 27.5923 832.782 Q27.656 832.05 27.8151 831.158 L33.8307 831.127 Z\" fill=\"#000000\" fill-rule=\"evenodd\" fill-opacity=\"1\" /><path clip-path=\"url(#clip880)\" d=\"M14.479 811.297 L72.5979 811.297 L72.5979 824.793 L68.0464 824.793 L68.0464 817.186 L19.0304 817.186 L19.0304 824.793 L14.479 824.793 L14.479 811.297 Z\" fill=\"#000000\" fill-rule=\"evenodd\" fill-opacity=\"1\" /><path clip-path=\"url(#clip880)\" d=\"M14.479 799.553 L14.479 793.696 L64.0042 793.696 L64.0042 799.553 L14.479 799.553 Z\" fill=\"#000000\" fill-rule=\"evenodd\" fill-opacity=\"1\" /><path clip-path=\"url(#clip880)\" d=\"M32.4621 767.629 Q32.4621 772.339 36.1542 775.077 Q39.8145 777.814 46.212 777.814 Q52.6095 777.814 56.3017 775.108 Q59.9619 772.371 59.9619 767.629 Q59.9619 762.95 56.2698 760.213 Q52.5777 757.475 46.212 757.475 Q39.8781 757.475 36.186 760.213 Q32.4621 762.95 32.4621 767.629 M27.4968 767.629 Q27.4968 759.99 32.4621 755.629 Q37.4273 751.269 46.212 751.269 Q54.9649 751.269 59.9619 755.629 Q64.9272 759.99 64.9272 767.629 Q64.9272 775.299 59.9619 779.66 Q54.9649 783.989 46.212 783.989 Q37.4273 783.989 32.4621 779.66 Q27.4968 775.299 27.4968 767.629 Z\" fill=\"#000000\" fill-rule=\"evenodd\" fill-opacity=\"1\" /><path clip-path=\"url(#clip880)\" d=\"M45.7664 718.103 Q39.4007 718.103 35.8996 720.745 Q32.3984 723.355 32.3984 728.098 Q32.3984 732.808 35.8996 735.45 Q39.4007 738.06 45.7664 738.06 Q52.1003 738.06 55.6014 735.45 Q59.1026 732.808 59.1026 728.098 Q59.1026 723.355 55.6014 720.745 Q52.1003 718.103 45.7664 718.103 M59.58 712.247 Q68.683 712.247 73.1071 716.289 Q77.5631 720.331 77.5631 728.671 Q77.5631 731.758 77.0857 734.495 Q76.6401 737.232 75.6852 739.811 L69.9879 739.811 Q71.3884 737.232 72.0568 734.718 Q72.7252 732.204 72.7252 729.594 Q72.7252 723.833 69.7015 720.968 Q66.7096 718.103 60.6303 718.103 L57.7339 718.103 Q60.885 719.918 62.4446 722.75 Q64.0042 725.583 64.0042 729.53 Q64.0042 736.087 59.0071 740.097 Q54.01 744.107 45.7664 744.107 Q37.491 744.107 32.4939 740.097 Q27.4968 736.087 27.4968 729.53 Q27.4968 725.583 29.0564 722.75 Q30.616 719.918 33.7671 718.103 L28.3562 718.103 L28.3562 712.247 L59.58 712.247 Z\" fill=\"#000000\" fill-rule=\"evenodd\" fill-opacity=\"1\" /><path clip-path=\"url(#clip880)\" d=\"M58.5933 698.242 L58.5933 687.739 L22.3406 687.739 L24.6323 699.166 L18.7758 699.166 L16.4842 687.803 L16.4842 681.373 L58.5933 681.373 L58.5933 670.87 L64.0042 670.87 L64.0042 698.242 L58.5933 698.242 Z\" fill=\"#000000\" fill-rule=\"evenodd\" fill-opacity=\"1\" /><path clip-path=\"url(#clip880)\" d=\"M20.7174 644.134 Q20.7174 649.099 25.6189 651.614 Q30.4887 654.096 40.2919 654.096 Q50.0633 654.096 54.9649 651.614 Q59.8346 649.099 59.8346 644.134 Q59.8346 639.137 54.9649 636.654 Q50.0633 634.14 40.2919 634.14 Q30.4887 634.14 25.6189 636.654 Q20.7174 639.137 20.7174 644.134 M15.6248 644.134 Q15.6248 636.145 21.9587 631.944 Q28.2607 627.71 40.2919 627.71 Q52.2913 627.71 58.6251 631.944 Q64.9272 636.145 64.9272 644.134 Q64.9272 652.123 58.6251 656.356 Q52.2913 660.557 40.2919 660.557 Q28.2607 660.557 21.9587 656.356 Q15.6248 652.123 15.6248 644.134 Z\" fill=\"#000000\" fill-rule=\"evenodd\" fill-opacity=\"1\" /><path clip-path=\"url(#clip880)\" d=\"M927.934 12.096 L966.175 12.096 L966.175 18.9825 L936.117 18.9825 L936.117 36.8875 L964.919 36.8875 L964.919 43.7741 L936.117 43.7741 L936.117 65.6895 L966.904 65.6895 L966.904 72.576 L927.934 72.576 L927.934 12.096 Z\" fill=\"#000000\" fill-rule=\"evenodd\" fill-opacity=\"1\" /><path clip-path=\"url(#clip880)\" d=\"M1017.74 45.1919 L1017.74 72.576 L1010.29 72.576 L1010.29 45.4349 Q1010.29 38.994 1007.78 35.7938 Q1005.27 32.5936 1000.24 32.5936 Q994.207 32.5936 990.723 36.4419 Q987.239 40.2903 987.239 46.9338 L987.239 72.576 L979.745 72.576 L979.745 27.2059 L987.239 27.2059 L987.239 34.2544 Q989.913 30.163 993.518 28.1376 Q997.164 26.1121 1001.9 26.1121 Q1009.72 26.1121 1013.73 30.9732 Q1017.74 35.7938 1017.74 45.1919 Z\" fill=\"#000000\" fill-rule=\"evenodd\" fill-opacity=\"1\" /><path clip-path=\"url(#clip880)\" d=\"M1067.49 18.8205 L1067.49 41.5461 L1077.78 41.5461 Q1083.49 41.5461 1086.61 38.5889 Q1089.73 35.6318 1089.73 30.163 Q1089.73 24.7348 1086.61 21.7777 Q1083.49 18.8205 1077.78 18.8205 L1067.49 18.8205 M1059.3 12.096 L1077.78 12.096 Q1087.94 12.096 1093.13 16.714 Q1098.36 21.2916 1098.36 30.163 Q1098.36 39.1155 1093.13 43.6931 Q1087.94 48.2706 1077.78 48.2706 L1067.49 48.2706 L1067.49 72.576 L1059.3 72.576 L1059.3 12.096 Z\" fill=\"#000000\" fill-rule=\"evenodd\" fill-opacity=\"1\" /><path clip-path=\"url(#clip880)\" d=\"M1133.84 34.1734 Q1132.59 33.4443 1131.09 33.1202 Q1129.63 32.7556 1127.85 32.7556 Q1121.53 32.7556 1118.12 36.8875 Q1114.76 40.9789 1114.76 48.6757 L1114.76 72.576 L1107.27 72.576 L1107.27 27.2059 L1114.76 27.2059 L1114.76 34.2544 Q1117.11 30.1225 1120.88 28.1376 Q1124.65 26.1121 1130.03 26.1121 Q1130.8 26.1121 1131.74 26.2337 Q1132.67 26.3147 1133.8 26.5172 L1133.84 34.1734 Z\" fill=\"#000000\" fill-rule=\"evenodd\" fill-opacity=\"1\" /><path clip-path=\"url(#clip880)\" d=\"M1178.64 48.0275 L1178.64 51.6733 L1144.37 51.6733 Q1144.86 59.3701 1148.99 63.421 Q1153.16 67.4314 1160.58 67.4314 Q1164.87 67.4314 1168.88 66.3781 Q1172.93 65.3249 1176.9 63.2184 L1176.9 70.267 Q1172.89 71.9684 1168.68 72.8596 Q1164.47 73.7508 1160.13 73.7508 Q1149.28 73.7508 1142.92 67.4314 Q1136.6 61.1119 1136.6 50.3365 Q1136.6 39.1965 1142.59 32.6746 Q1148.63 26.1121 1158.84 26.1121 Q1167.99 26.1121 1173.3 32.0264 Q1178.64 37.9003 1178.64 48.0275 M1171.19 45.84 Q1171.11 39.7232 1167.75 36.0774 Q1164.43 32.4315 1158.92 32.4315 Q1152.68 32.4315 1148.91 35.9558 Q1145.18 39.4801 1144.62 45.8805 L1171.19 45.84 Z\" fill=\"#000000\" fill-rule=\"evenodd\" fill-opacity=\"1\" /><path clip-path=\"url(#clip880)\" d=\"M1223.53 28.9478 L1223.53 35.9153 Q1220.37 34.1734 1217.17 33.3227 Q1214.01 32.4315 1210.77 32.4315 Q1203.52 32.4315 1199.51 37.0496 Q1195.5 41.6271 1195.5 49.9314 Q1195.5 58.2358 1199.51 62.8538 Q1203.52 67.4314 1210.77 67.4314 Q1214.01 67.4314 1217.17 66.5807 Q1220.37 65.6895 1223.53 63.9476 L1223.53 70.8341 Q1220.41 72.2924 1217.05 73.0216 Q1213.73 73.7508 1209.96 73.7508 Q1199.71 73.7508 1193.67 67.3098 Q1187.64 60.8689 1187.64 49.9314 Q1187.64 38.832 1193.71 32.472 Q1199.83 26.1121 1210.44 26.1121 Q1213.89 26.1121 1217.17 26.8413 Q1220.45 27.5299 1223.53 28.9478 Z\" fill=\"#000000\" fill-rule=\"evenodd\" fill-opacity=\"1\" /><path clip-path=\"url(#clip880)\" d=\"M1236.49 27.2059 L1243.95 27.2059 L1243.95 72.576 L1236.49 72.576 L1236.49 27.2059 M1236.49 9.54393 L1243.95 9.54393 L1243.95 18.9825 L1236.49 18.9825 L1236.49 9.54393 Z\" fill=\"#000000\" fill-rule=\"evenodd\" fill-opacity=\"1\" /><path clip-path=\"url(#clip880)\" d=\"M1288.46 28.5427 L1288.46 35.5912 Q1285.3 33.9709 1281.9 33.1607 Q1278.5 32.3505 1274.85 32.3505 Q1269.3 32.3505 1266.51 34.0519 Q1263.75 35.7533 1263.75 39.156 Q1263.75 41.7486 1265.74 43.2475 Q1267.72 44.7058 1273.72 46.0426 L1276.27 46.6097 Q1284.21 48.3111 1287.53 51.4303 Q1290.9 54.509 1290.9 60.0587 Q1290.9 66.3781 1285.87 70.0644 Q1280.89 73.7508 1272.14 73.7508 Q1268.49 73.7508 1264.52 73.0216 Q1260.59 72.3329 1256.22 70.9151 L1256.22 63.2184 Q1260.35 65.3654 1264.36 66.4591 Q1268.37 67.5124 1272.3 67.5124 Q1277.57 67.5124 1280.4 65.73 Q1283.24 63.9071 1283.24 60.6258 Q1283.24 57.5877 1281.17 55.9673 Q1279.15 54.3469 1272.22 52.8481 L1269.63 52.2405 Q1262.7 50.7821 1259.62 47.7845 Q1256.54 44.7463 1256.54 39.4801 Q1256.54 33.0797 1261.08 29.5959 Q1265.62 26.1121 1273.96 26.1121 Q1278.09 26.1121 1281.74 26.7198 Q1285.39 27.3274 1288.46 28.5427 Z\" fill=\"#000000\" fill-rule=\"evenodd\" fill-opacity=\"1\" /><path clip-path=\"url(#clip880)\" d=\"M1302.76 27.2059 L1310.22 27.2059 L1310.22 72.576 L1302.76 72.576 L1302.76 27.2059 M1302.76 9.54393 L1310.22 9.54393 L1310.22 18.9825 L1302.76 18.9825 L1302.76 9.54393 Z\" fill=\"#000000\" fill-rule=\"evenodd\" fill-opacity=\"1\" /><path clip-path=\"url(#clip880)\" d=\"M1343.39 32.4315 Q1337.4 32.4315 1333.92 37.1306 Q1330.43 41.7891 1330.43 49.9314 Q1330.43 58.0738 1333.88 62.7728 Q1337.36 67.4314 1343.39 67.4314 Q1349.35 67.4314 1352.83 62.7323 Q1356.32 58.0333 1356.32 49.9314 Q1356.32 41.8701 1352.83 37.1711 Q1349.35 32.4315 1343.39 32.4315 M1343.39 26.1121 Q1353.12 26.1121 1358.67 32.4315 Q1364.22 38.7509 1364.22 49.9314 Q1364.22 61.0714 1358.67 67.4314 Q1353.12 73.7508 1343.39 73.7508 Q1333.63 73.7508 1328.08 67.4314 Q1322.57 61.0714 1322.57 49.9314 Q1322.57 38.7509 1328.08 32.4315 Q1333.63 26.1121 1343.39 26.1121 M1349.03 6.22219 L1357.09 6.22219 L1343.88 21.4536 L1337.68 21.4536 L1349.03 6.22219 Z\" fill=\"#000000\" fill-rule=\"evenodd\" fill-opacity=\"1\" /><path clip-path=\"url(#clip880)\" d=\"M1411.9 35.9153 Q1414.69 30.8922 1418.58 28.5022 Q1422.47 26.1121 1427.73 26.1121 Q1434.82 26.1121 1438.67 31.0947 Q1442.52 36.0368 1442.52 45.1919 L1442.52 72.576 L1435.03 72.576 L1435.03 45.4349 Q1435.03 38.913 1432.72 35.7533 Q1430.41 32.5936 1425.67 32.5936 Q1419.88 32.5936 1416.51 36.4419 Q1413.15 40.2903 1413.15 46.9338 L1413.15 72.576 L1405.66 72.576 L1405.66 45.4349 Q1405.66 38.8725 1403.35 35.7533 Q1401.04 32.5936 1396.22 32.5936 Q1390.51 32.5936 1387.14 36.4824 Q1383.78 40.3308 1383.78 46.9338 L1383.78 72.576 L1376.29 72.576 L1376.29 27.2059 L1383.78 27.2059 L1383.78 34.2544 Q1386.33 30.082 1389.9 28.0971 Q1393.46 26.1121 1398.37 26.1121 Q1403.31 26.1121 1406.75 28.6237 Q1410.23 31.1352 1411.9 35.9153 Z\" fill=\"#000000\" fill-rule=\"evenodd\" fill-opacity=\"1\" /><path clip-path=\"url(#clip880)\" d=\"M1513.61 34.0924 L1513.61 9.54393 L1521.07 9.54393 L1521.07 72.576 L1513.61 72.576 L1513.61 65.7705 Q1511.26 69.8214 1507.66 71.8063 Q1504.09 73.7508 1499.07 73.7508 Q1490.85 73.7508 1485.66 67.1883 Q1480.52 60.6258 1480.52 49.9314 Q1480.52 39.2371 1485.66 32.6746 Q1490.85 26.1121 1499.07 26.1121 Q1504.09 26.1121 1507.66 28.0971 Q1511.26 30.0415 1513.61 34.0924 M1488.21 49.9314 Q1488.21 58.1548 1491.58 62.8538 Q1494.98 67.5124 1500.89 67.5124 Q1506.81 67.5124 1510.21 62.8538 Q1513.61 58.1548 1513.61 49.9314 Q1513.61 41.7081 1510.21 37.0496 Q1506.81 32.3505 1500.89 32.3505 Q1494.98 32.3505 1491.58 37.0496 Q1488.21 41.7081 1488.21 49.9314 Z\" fill=\"#000000\" fill-rule=\"evenodd\" fill-opacity=\"1\" /><path clip-path=\"url(#clip880)\" d=\"M1554 32.4315 Q1548.01 32.4315 1544.52 37.1306 Q1541.04 41.7891 1541.04 49.9314 Q1541.04 58.0738 1544.48 62.7728 Q1547.97 67.4314 1554 67.4314 Q1559.96 67.4314 1563.44 62.7323 Q1566.92 58.0333 1566.92 49.9314 Q1566.92 41.8701 1563.44 37.1711 Q1559.96 32.4315 1554 32.4315 M1554 26.1121 Q1563.72 26.1121 1569.27 32.4315 Q1574.82 38.7509 1574.82 49.9314 Q1574.82 61.0714 1569.27 67.4314 Q1563.72 73.7508 1554 73.7508 Q1544.24 73.7508 1538.69 67.4314 Q1533.18 61.0714 1533.18 49.9314 Q1533.18 38.7509 1538.69 32.4315 Q1544.24 26.1121 1554 26.1121 Z\" fill=\"#000000\" fill-rule=\"evenodd\" fill-opacity=\"1\" /><path clip-path=\"url(#clip880)\" d=\"M1619.75 49.9314 Q1619.75 41.7081 1616.34 37.0496 Q1612.98 32.3505 1607.07 32.3505 Q1601.15 32.3505 1597.75 37.0496 Q1594.39 41.7081 1594.39 49.9314 Q1594.39 58.1548 1597.75 62.8538 Q1601.15 67.5124 1607.07 67.5124 Q1612.98 67.5124 1616.34 62.8538 Q1619.75 58.1548 1619.75 49.9314 M1594.39 34.0924 Q1596.74 30.0415 1600.3 28.0971 Q1603.91 26.1121 1608.89 26.1121 Q1617.15 26.1121 1622.3 32.6746 Q1627.48 39.2371 1627.48 49.9314 Q1627.48 60.6258 1622.3 67.1883 Q1617.15 73.7508 1608.89 73.7508 Q1603.91 73.7508 1600.3 71.8063 Q1596.74 69.8214 1594.39 65.7705 L1594.39 72.576 L1586.89 72.576 L1586.89 9.54393 L1594.39 9.54393 L1594.39 34.0924 Z\" fill=\"#000000\" fill-rule=\"evenodd\" fill-opacity=\"1\" /><path clip-path=\"url(#clip880)\" d=\"M1639.84 9.54393 L1647.29 9.54393 L1647.29 72.576 L1639.84 72.576 L1639.84 9.54393 Z\" fill=\"#000000\" fill-rule=\"evenodd\" fill-opacity=\"1\" /><path clip-path=\"url(#clip880)\" d=\"M1701.7 48.0275 L1701.7 51.6733 L1667.43 51.6733 Q1667.91 59.3701 1672.04 63.421 Q1676.22 67.4314 1683.63 67.4314 Q1687.92 67.4314 1691.93 66.3781 Q1695.99 65.3249 1699.96 63.2184 L1699.96 70.267 Q1695.95 71.9684 1691.73 72.8596 Q1687.52 73.7508 1683.18 73.7508 Q1672.33 73.7508 1665.97 67.4314 Q1659.65 61.1119 1659.65 50.3365 Q1659.65 39.1965 1665.64 32.6746 Q1671.68 26.1121 1681.89 26.1121 Q1691.04 26.1121 1696.35 32.0264 Q1701.7 37.9003 1701.7 48.0275 M1694.24 45.84 Q1694.16 39.7232 1690.8 36.0774 Q1687.48 32.4315 1681.97 32.4315 Q1675.73 32.4315 1671.96 35.9558 Q1668.24 39.4801 1667.67 45.8805 L1694.24 45.84 Z\" fill=\"#000000\" fill-rule=\"evenodd\" fill-opacity=\"1\" /><circle clip-path=\"url(#clip882)\" cx=\"335.627\" cy=\"160.256\" r=\"14\" fill=\"#009af9\" fill-rule=\"evenodd\" fill-opacity=\"1\" stroke=\"#000000\" stroke-opacity=\"1\" stroke-width=\"3.2\"/>\n",
       "<circle clip-path=\"url(#clip882)\" cx=\"615.395\" cy=\"469.706\" r=\"14\" fill=\"#009af9\" fill-rule=\"evenodd\" fill-opacity=\"1\" stroke=\"#000000\" stroke-opacity=\"1\" stroke-width=\"3.2\"/>\n",
       "<circle clip-path=\"url(#clip882)\" cx=\"895.163\" cy=\"809.368\" r=\"14\" fill=\"#009af9\" fill-rule=\"evenodd\" fill-opacity=\"1\" stroke=\"#000000\" stroke-opacity=\"1\" stroke-width=\"3.2\"/>\n",
       "<circle clip-path=\"url(#clip882)\" cx=\"1174.93\" cy=\"1171.09\" r=\"14\" fill=\"#009af9\" fill-rule=\"evenodd\" fill-opacity=\"1\" stroke=\"#000000\" stroke-opacity=\"1\" stroke-width=\"3.2\"/>\n",
       "<circle clip-path=\"url(#clip882)\" cx=\"1454.7\" cy=\"1386.4\" r=\"14\" fill=\"#009af9\" fill-rule=\"evenodd\" fill-opacity=\"1\" stroke=\"#000000\" stroke-opacity=\"1\" stroke-width=\"3.2\"/>\n",
       "<circle clip-path=\"url(#clip882)\" cx=\"1734.47\" cy=\"1386.4\" r=\"14\" fill=\"#009af9\" fill-rule=\"evenodd\" fill-opacity=\"1\" stroke=\"#000000\" stroke-opacity=\"1\" stroke-width=\"3.2\"/>\n",
       "<circle clip-path=\"url(#clip882)\" cx=\"2014.24\" cy=\"1386.4\" r=\"14\" fill=\"#009af9\" fill-rule=\"evenodd\" fill-opacity=\"1\" stroke=\"#000000\" stroke-opacity=\"1\" stroke-width=\"3.2\"/>\n",
       "<circle clip-path=\"url(#clip882)\" cx=\"2294\" cy=\"1386.4\" r=\"14\" fill=\"#009af9\" fill-rule=\"evenodd\" fill-opacity=\"1\" stroke=\"#000000\" stroke-opacity=\"1\" stroke-width=\"3.2\"/>\n",
       "<path clip-path=\"url(#clip880)\" d=\"\n",
       "M1725.87 270.476 L2283.56 270.476 L2283.56 166.796 L1725.87 166.796  Z\n",
       "  \" fill=\"#ffffff\" fill-rule=\"evenodd\" fill-opacity=\"1\"/>\n",
       "<polyline clip-path=\"url(#clip880)\" style=\"stroke:#000000; stroke-linecap:butt; stroke-linejoin:round; stroke-width:4; stroke-opacity:1; fill:none\" points=\"\n",
       "  1725.87,270.476 2283.56,270.476 2283.56,166.796 1725.87,166.796 1725.87,270.476 \n",
       "  \"/>\n",
       "<circle clip-path=\"url(#clip880)\" cx=\"1818.13\" cy=\"218.636\" r=\"23\" fill=\"#009af9\" fill-rule=\"evenodd\" fill-opacity=\"1\" stroke=\"#000000\" stroke-opacity=\"1\" stroke-width=\"5.12\"/>\n",
       "<path clip-path=\"url(#clip880)\" d=\"M1910.39 201.356 L1932.25 201.356 L1932.25 205.291 L1915.07 205.291 L1915.07 215.522 L1931.53 215.522 L1931.53 219.457 L1915.07 219.457 L1915.07 231.981 L1932.66 231.981 L1932.66 235.916 L1910.39 235.916 L1910.39 201.356 Z\" fill=\"#000000\" fill-rule=\"evenodd\" fill-opacity=\"1\" /><path clip-path=\"url(#clip880)\" d=\"M1955.19 213.971 Q1954.47 213.555 1953.61 213.37 Q1952.78 213.161 1951.76 213.161 Q1948.15 213.161 1946.2 215.522 Q1944.28 217.86 1944.28 222.258 L1944.28 235.916 L1940 235.916 L1940 209.99 L1944.28 209.99 L1944.28 214.018 Q1945.63 211.657 1947.78 210.522 Q1949.93 209.365 1953.01 209.365 Q1953.45 209.365 1953.98 209.434 Q1954.51 209.481 1955.16 209.596 L1955.19 213.971 Z\" fill=\"#000000\" fill-rule=\"evenodd\" fill-opacity=\"1\" /><path clip-path=\"url(#clip880)\" d=\"M1973.84 213.971 Q1973.13 213.555 1972.27 213.37 Q1971.44 213.161 1970.42 213.161 Q1966.81 213.161 1964.86 215.522 Q1962.94 217.86 1962.94 222.258 L1962.94 235.916 L1958.66 235.916 L1958.66 209.99 L1962.94 209.99 L1962.94 214.018 Q1964.28 211.657 1966.44 210.522 Q1968.59 209.365 1971.67 209.365 Q1972.11 209.365 1972.64 209.434 Q1973.17 209.481 1973.82 209.596 L1973.84 213.971 Z\" fill=\"#000000\" fill-rule=\"evenodd\" fill-opacity=\"1\" /><path clip-path=\"url(#clip880)\" d=\"M1987.31 212.976 Q1983.89 212.976 1981.9 215.661 Q1979.91 218.323 1979.91 222.976 Q1979.91 227.629 1981.88 230.314 Q1983.87 232.976 1987.31 232.976 Q1990.72 232.976 1992.71 230.291 Q1994.7 227.606 1994.7 222.976 Q1994.7 218.37 1992.71 215.684 Q1990.72 212.976 1987.31 212.976 M1987.31 209.365 Q1992.87 209.365 1996.04 212.976 Q1999.21 216.587 1999.21 222.976 Q1999.21 229.342 1996.04 232.976 Q1992.87 236.587 1987.31 236.587 Q1981.74 236.587 1978.56 232.976 Q1975.42 229.342 1975.42 222.976 Q1975.42 216.587 1978.56 212.976 Q1981.74 209.365 1987.31 209.365 Z\" fill=\"#000000\" fill-rule=\"evenodd\" fill-opacity=\"1\" /><path clip-path=\"url(#clip880)\" d=\"M2021.3 213.971 Q2020.58 213.555 2019.72 213.37 Q2018.89 213.161 2017.87 213.161 Q2014.26 213.161 2012.31 215.522 Q2010.39 217.86 2010.39 222.258 L2010.39 235.916 L2006.11 235.916 L2006.11 209.99 L2010.39 209.99 L2010.39 214.018 Q2011.74 211.657 2013.89 210.522 Q2016.04 209.365 2019.12 209.365 Q2019.56 209.365 2020.09 209.434 Q2020.62 209.481 2021.27 209.596 L2021.3 213.971 Z\" fill=\"#000000\" fill-rule=\"evenodd\" fill-opacity=\"1\" /><path clip-path=\"url(#clip880)\" d=\"M2052.62 222.883 Q2047.45 222.883 2045.46 224.064 Q2043.47 225.244 2043.47 228.092 Q2043.47 230.36 2044.95 231.703 Q2046.46 233.022 2049.03 233.022 Q2052.57 233.022 2054.7 230.522 Q2056.85 227.999 2056.85 223.832 L2056.85 222.883 L2052.62 222.883 M2061.11 221.124 L2061.11 235.916 L2056.85 235.916 L2056.85 231.981 Q2055.39 234.342 2053.22 235.476 Q2051.04 236.587 2047.89 236.587 Q2043.91 236.587 2041.55 234.365 Q2039.21 232.119 2039.21 228.369 Q2039.21 223.994 2042.13 221.772 Q2045.07 219.55 2050.88 219.55 L2056.85 219.55 L2056.85 219.133 Q2056.85 216.194 2054.91 214.596 Q2052.99 212.976 2049.49 212.976 Q2047.27 212.976 2045.16 213.508 Q2043.06 214.041 2041.11 215.106 L2041.11 211.17 Q2043.45 210.268 2045.65 209.828 Q2047.85 209.365 2049.93 209.365 Q2055.56 209.365 2058.33 212.282 Q2061.11 215.198 2061.11 221.124 Z\" fill=\"#000000\" fill-rule=\"evenodd\" fill-opacity=\"1\" /><path clip-path=\"url(#clip880)\" d=\"M2088.49 222.976 Q2088.49 218.277 2086.55 215.615 Q2084.63 212.93 2081.25 212.93 Q2077.87 212.93 2075.93 215.615 Q2074 218.277 2074 222.976 Q2074 227.675 2075.93 230.36 Q2077.87 233.022 2081.25 233.022 Q2084.63 233.022 2086.55 230.36 Q2088.49 227.675 2088.49 222.976 M2074 213.925 Q2075.35 211.61 2077.38 210.499 Q2079.44 209.365 2082.29 209.365 Q2087.01 209.365 2089.95 213.115 Q2092.92 216.865 2092.92 222.976 Q2092.92 229.087 2089.95 232.837 Q2087.01 236.587 2082.29 236.587 Q2079.44 236.587 2077.38 235.476 Q2075.35 234.342 2074 232.027 L2074 235.916 L2069.72 235.916 L2069.72 199.897 L2074 199.897 L2074 213.925 Z\" fill=\"#000000\" fill-rule=\"evenodd\" fill-opacity=\"1\" /><path clip-path=\"url(#clip880)\" d=\"M2116.5 210.754 L2116.5 214.782 Q2114.7 213.856 2112.75 213.393 Q2110.81 212.93 2108.73 212.93 Q2105.55 212.93 2103.96 213.902 Q2102.38 214.874 2102.38 216.819 Q2102.38 218.3 2103.52 219.157 Q2104.65 219.99 2108.08 220.754 L2109.54 221.078 Q2114.07 222.05 2115.97 223.832 Q2117.89 225.592 2117.89 228.763 Q2117.89 232.374 2115.02 234.481 Q2112.18 236.587 2107.18 236.587 Q2105.09 236.587 2102.82 236.17 Q2100.58 235.777 2098.08 234.967 L2098.08 230.569 Q2100.44 231.795 2102.73 232.42 Q2105.02 233.022 2107.27 233.022 Q2110.28 233.022 2111.9 232.004 Q2113.52 230.962 2113.52 229.087 Q2113.52 227.351 2112.34 226.425 Q2111.18 225.499 2107.22 224.643 L2105.74 224.295 Q2101.78 223.462 2100.02 221.749 Q2098.26 220.013 2098.26 217.004 Q2098.26 213.346 2100.86 211.356 Q2103.45 209.365 2108.22 209.365 Q2110.58 209.365 2112.66 209.712 Q2114.74 210.059 2116.5 210.754 Z\" fill=\"#000000\" fill-rule=\"evenodd\" fill-opacity=\"1\" /><path clip-path=\"url(#clip880)\" d=\"M2134.72 212.976 Q2131.3 212.976 2129.3 215.661 Q2127.31 218.323 2127.31 222.976 Q2127.31 227.629 2129.28 230.314 Q2131.27 232.976 2134.72 232.976 Q2138.12 232.976 2140.11 230.291 Q2142.11 227.606 2142.11 222.976 Q2142.11 218.37 2140.11 215.684 Q2138.12 212.976 2134.72 212.976 M2134.72 209.365 Q2140.28 209.365 2143.45 212.976 Q2146.62 216.587 2146.62 222.976 Q2146.62 229.342 2143.45 232.976 Q2140.28 236.587 2134.72 236.587 Q2129.14 236.587 2125.97 232.976 Q2122.82 229.342 2122.82 222.976 Q2122.82 216.587 2125.97 212.976 Q2129.14 209.365 2134.72 209.365 Z\" fill=\"#000000\" fill-rule=\"evenodd\" fill-opacity=\"1\" /><path clip-path=\"url(#clip880)\" d=\"M2153.68 199.897 L2157.94 199.897 L2157.94 235.916 L2153.68 235.916 L2153.68 199.897 Z\" fill=\"#000000\" fill-rule=\"evenodd\" fill-opacity=\"1\" /><path clip-path=\"url(#clip880)\" d=\"M2166.41 225.684 L2166.41 209.99 L2170.67 209.99 L2170.67 225.522 Q2170.67 229.203 2172.11 231.055 Q2173.54 232.883 2176.41 232.883 Q2179.86 232.883 2181.85 230.684 Q2183.86 228.485 2183.86 224.689 L2183.86 209.99 L2188.12 209.99 L2188.12 235.916 L2183.86 235.916 L2183.86 231.934 Q2182.31 234.295 2180.25 235.453 Q2178.22 236.587 2175.51 236.587 Q2171.04 236.587 2168.73 233.809 Q2166.41 231.031 2166.41 225.684 M2177.13 209.365 L2177.13 209.365 Z\" fill=\"#000000\" fill-rule=\"evenodd\" fill-opacity=\"1\" /><path clip-path=\"url(#clip880)\" d=\"M2201.11 202.629 L2201.11 209.99 L2209.88 209.99 L2209.88 213.3 L2201.11 213.3 L2201.11 227.374 Q2201.11 230.545 2201.97 231.448 Q2202.85 232.351 2205.51 232.351 L2209.88 232.351 L2209.88 235.916 L2205.51 235.916 Q2200.58 235.916 2198.7 234.087 Q2196.83 232.235 2196.83 227.374 L2196.83 213.3 L2193.7 213.3 L2193.7 209.99 L2196.83 209.99 L2196.83 202.629 L2201.11 202.629 Z\" fill=\"#000000\" fill-rule=\"evenodd\" fill-opacity=\"1\" /><path clip-path=\"url(#clip880)\" d=\"M2225.53 212.976 Q2222.11 212.976 2220.11 215.661 Q2218.12 218.323 2218.12 222.976 Q2218.12 227.629 2220.09 230.314 Q2222.08 232.976 2225.53 232.976 Q2228.93 232.976 2230.92 230.291 Q2232.92 227.606 2232.92 222.976 Q2232.92 218.37 2230.92 215.684 Q2228.93 212.976 2225.53 212.976 M2225.53 209.365 Q2231.09 209.365 2234.26 212.976 Q2237.43 216.587 2237.43 222.976 Q2237.43 229.342 2234.26 232.976 Q2231.09 236.587 2225.53 236.587 Q2219.95 236.587 2216.78 232.976 Q2213.63 229.342 2213.63 222.976 Q2213.63 216.587 2216.78 212.976 Q2219.95 209.365 2225.53 209.365 Z\" fill=\"#000000\" fill-rule=\"evenodd\" fill-opacity=\"1\" /></svg>\n"
      ]
     },
     "execution_count": 285,
     "metadata": {},
     "output_type": "execute_result"
    }
   ],
   "source": [
    "scatter(V_er2,yscale=:log10,title=\"En Precisióm doble\",xlabel=\"i\",ylabel=\"[Er]log10\",label=\"Error absoluto\")"
   ]
  },
  {
   "cell_type": "markdown",
   "metadata": {},
   "source": [
    "## 6."
   ]
  },
  {
   "cell_type": "code",
   "execution_count": 302,
   "metadata": {},
   "outputs": [
    {
     "data": {
      "text/plain": [
       "suma_parcial (generic function with 1 method)"
      ]
     },
     "execution_count": 302,
     "metadata": {},
     "output_type": "execute_result"
    }
   ],
   "source": [
    "function suma_parcial(x,N;a=0,b=3,n=500)\n",
    "    x=(b-a)/n\n",
    "    sump=zeros(n,N)\n",
    "        for i in 1:n\n",
    "        sump[i,N]=suma(x,N)\n",
    "        if i==N\n",
    "            return sump[1:N]\n",
    "        end\n",
    "    end\n",
    "end"
   ]
  },
  {
   "cell_type": "code",
   "execution_count": 303,
   "metadata": {},
   "outputs": [
    {
     "ename": "LoadError",
     "evalue": "MethodError: \u001b[0mCannot `convert` an object of type \u001b[92mTuple{Vector{Float64}, Vector{Float64}}\u001b[39m\u001b[0m to an object of type \u001b[91mFloat64\u001b[39m\n\u001b[0mClosest candidates are:\n\u001b[0m  convert(::Type{T}, \u001b[91m::Gray24\u001b[39m) where T<:Real at ~/.julia/packages/ColorTypes/6m8P7/src/conversions.jl:114\n\u001b[0m  convert(::Type{T}, \u001b[91m::Gray\u001b[39m) where T<:Real at ~/.julia/packages/ColorTypes/6m8P7/src/conversions.jl:113\n\u001b[0m  convert(::Type{T}, \u001b[91m::Base.TwicePrecision\u001b[39m) where T<:Number at /opt/julias/julia-1.7/share/julia/base/twiceprecision.jl:262\n\u001b[0m  ...",
     "output_type": "error",
     "traceback": [
      "MethodError: \u001b[0mCannot `convert` an object of type \u001b[92mTuple{Vector{Float64}, Vector{Float64}}\u001b[39m\u001b[0m to an object of type \u001b[91mFloat64\u001b[39m\n\u001b[0mClosest candidates are:\n\u001b[0m  convert(::Type{T}, \u001b[91m::Gray24\u001b[39m) where T<:Real at ~/.julia/packages/ColorTypes/6m8P7/src/conversions.jl:114\n\u001b[0m  convert(::Type{T}, \u001b[91m::Gray\u001b[39m) where T<:Real at ~/.julia/packages/ColorTypes/6m8P7/src/conversions.jl:113\n\u001b[0m  convert(::Type{T}, \u001b[91m::Base.TwicePrecision\u001b[39m) where T<:Number at /opt/julias/julia-1.7/share/julia/base/twiceprecision.jl:262\n\u001b[0m  ...",
      "",
      "Stacktrace:",
      " [1] setindex!",
      "   @ ./array.jl:905 [inlined]",
      " [2] suma_parcial(x::Float64, N::Int64; a::Int64, b::Int64, n::Int64)",
      "   @ Main ./In[302]:5",
      " [3] suma_parcial(x::Float64, N::Int64)",
      "   @ Main ./In[302]:2",
      " [4] top-level scope",
      "   @ In[303]:1",
      " [5] eval",
      "   @ ./boot.jl:373 [inlined]",
      " [6] include_string(mapexpr::typeof(REPL.softscope), mod::Module, code::String, filename::String)",
      "   @ Base ./loading.jl:1196"
     ]
    }
   ],
   "source": [
    "sumo=suma_parcial(0.1,1)"
   ]
  },
  {
   "cell_type": "code",
   "execution_count": 289,
   "metadata": {},
   "outputs": [
    {
     "data": {
      "image/svg+xml": [
       "<?xml version=\"1.0\" encoding=\"utf-8\"?>\n",
       "<svg xmlns=\"http://www.w3.org/2000/svg\" xmlns:xlink=\"http://www.w3.org/1999/xlink\" width=\"600\" height=\"400\" viewBox=\"0 0 2400 1600\">\n",
       "<defs>\n",
       "  <clipPath id=\"clip040\">\n",
       "    <rect x=\"0\" y=\"0\" width=\"2400\" height=\"1600\"/>\n",
       "  </clipPath>\n",
       "</defs>\n",
       "<path clip-path=\"url(#clip040)\" d=\"\n",
       "M0 1600 L2400 1600 L2400 0 L0 0  Z\n",
       "  \" fill=\"#ffffff\" fill-rule=\"evenodd\" fill-opacity=\"1\"/>\n",
       "<defs>\n",
       "  <clipPath id=\"clip041\">\n",
       "    <rect x=\"480\" y=\"0\" width=\"1681\" height=\"1600\"/>\n",
       "  </clipPath>\n",
       "</defs>\n",
       "<path clip-path=\"url(#clip040)\" d=\"\n",
       "M276.876 1423.18 L2352.76 1423.18 L2352.76 123.472 L276.876 123.472  Z\n",
       "  \" fill=\"#ffffff\" fill-rule=\"evenodd\" fill-opacity=\"1\"/>\n",
       "<defs>\n",
       "  <clipPath id=\"clip042\">\n",
       "    <rect x=\"276\" y=\"123\" width=\"2077\" height=\"1301\"/>\n",
       "  </clipPath>\n",
       "</defs>\n",
       "<polyline clip-path=\"url(#clip042)\" style=\"stroke:#000000; stroke-linecap:butt; stroke-linejoin:round; stroke-width:2; stroke-opacity:0.1; fill:none\" points=\"\n",
       "  615.395,1423.18 615.395,123.472 \n",
       "  \"/>\n",
       "<polyline clip-path=\"url(#clip042)\" style=\"stroke:#000000; stroke-linecap:butt; stroke-linejoin:round; stroke-width:2; stroke-opacity:0.1; fill:none\" points=\"\n",
       "  1174.93,1423.18 1174.93,123.472 \n",
       "  \"/>\n",
       "<polyline clip-path=\"url(#clip042)\" style=\"stroke:#000000; stroke-linecap:butt; stroke-linejoin:round; stroke-width:2; stroke-opacity:0.1; fill:none\" points=\"\n",
       "  1734.47,1423.18 1734.47,123.472 \n",
       "  \"/>\n",
       "<polyline clip-path=\"url(#clip042)\" style=\"stroke:#000000; stroke-linecap:butt; stroke-linejoin:round; stroke-width:2; stroke-opacity:0.1; fill:none\" points=\"\n",
       "  2294,1423.18 2294,123.472 \n",
       "  \"/>\n",
       "<polyline clip-path=\"url(#clip040)\" style=\"stroke:#000000; stroke-linecap:butt; stroke-linejoin:round; stroke-width:4; stroke-opacity:1; fill:none\" points=\"\n",
       "  276.876,1423.18 2352.76,1423.18 \n",
       "  \"/>\n",
       "<polyline clip-path=\"url(#clip040)\" style=\"stroke:#000000; stroke-linecap:butt; stroke-linejoin:round; stroke-width:4; stroke-opacity:1; fill:none\" points=\"\n",
       "  615.395,1423.18 615.395,1404.28 \n",
       "  \"/>\n",
       "<polyline clip-path=\"url(#clip040)\" style=\"stroke:#000000; stroke-linecap:butt; stroke-linejoin:round; stroke-width:4; stroke-opacity:1; fill:none\" points=\"\n",
       "  1174.93,1423.18 1174.93,1404.28 \n",
       "  \"/>\n",
       "<polyline clip-path=\"url(#clip040)\" style=\"stroke:#000000; stroke-linecap:butt; stroke-linejoin:round; stroke-width:4; stroke-opacity:1; fill:none\" points=\"\n",
       "  1734.47,1423.18 1734.47,1404.28 \n",
       "  \"/>\n",
       "<polyline clip-path=\"url(#clip040)\" style=\"stroke:#000000; stroke-linecap:butt; stroke-linejoin:round; stroke-width:4; stroke-opacity:1; fill:none\" points=\"\n",
       "  2294,1423.18 2294,1404.28 \n",
       "  \"/>\n",
       "<path clip-path=\"url(#clip040)\" d=\"M610.048 1481.64 L626.367 1481.64 L626.367 1485.58 L604.423 1485.58 L604.423 1481.64 Q607.085 1478.89 611.668 1474.26 Q616.275 1469.61 617.455 1468.27 Q619.701 1465.74 620.58 1464.01 Q621.483 1462.25 621.483 1460.56 Q621.483 1457.8 619.539 1456.07 Q617.617 1454.33 614.515 1454.33 Q612.316 1454.33 609.863 1455.09 Q607.432 1455.86 604.654 1457.41 L604.654 1452.69 Q607.478 1451.55 609.932 1450.97 Q612.386 1450.39 614.423 1450.39 Q619.793 1450.39 622.988 1453.08 Q626.182 1455.77 626.182 1460.26 Q626.182 1462.39 625.372 1464.31 Q624.585 1466.2 622.478 1468.8 Q621.9 1469.47 618.798 1472.69 Q615.696 1475.88 610.048 1481.64 Z\" fill=\"#000000\" fill-rule=\"evenodd\" fill-opacity=\"1\" /><path clip-path=\"url(#clip040)\" d=\"M1177.94 1455.09 L1166.14 1473.54 L1177.94 1473.54 L1177.94 1455.09 M1176.71 1451.02 L1182.59 1451.02 L1182.59 1473.54 L1187.52 1473.54 L1187.52 1477.43 L1182.59 1477.43 L1182.59 1485.58 L1177.94 1485.58 L1177.94 1477.43 L1162.34 1477.43 L1162.34 1472.92 L1176.71 1451.02 Z\" fill=\"#000000\" fill-rule=\"evenodd\" fill-opacity=\"1\" /><path clip-path=\"url(#clip040)\" d=\"M1734.87 1466.44 Q1731.73 1466.44 1729.87 1468.59 Q1728.04 1470.74 1728.04 1474.49 Q1728.04 1478.22 1729.87 1480.39 Q1731.73 1482.55 1734.87 1482.55 Q1738.02 1482.55 1739.85 1480.39 Q1741.7 1478.22 1741.7 1474.49 Q1741.7 1470.74 1739.85 1468.59 Q1738.02 1466.44 1734.87 1466.44 M1744.16 1451.78 L1744.16 1456.04 Q1742.4 1455.21 1740.59 1454.77 Q1738.81 1454.33 1737.05 1454.33 Q1732.42 1454.33 1729.97 1457.45 Q1727.54 1460.58 1727.19 1466.9 Q1728.55 1464.89 1730.61 1463.82 Q1732.67 1462.73 1735.15 1462.73 Q1740.36 1462.73 1743.37 1465.9 Q1746.4 1469.05 1746.4 1474.49 Q1746.4 1479.82 1743.25 1483.03 Q1740.1 1486.25 1734.87 1486.25 Q1728.88 1486.25 1725.71 1481.67 Q1722.54 1477.06 1722.54 1468.33 Q1722.54 1460.14 1726.42 1455.28 Q1730.31 1450.39 1736.86 1450.39 Q1738.62 1450.39 1740.41 1450.74 Q1742.21 1451.09 1744.16 1451.78 Z\" fill=\"#000000\" fill-rule=\"evenodd\" fill-opacity=\"1\" /><path clip-path=\"url(#clip040)\" d=\"M2294 1469.17 Q2290.67 1469.17 2288.75 1470.95 Q2286.85 1472.73 2286.85 1475.86 Q2286.85 1478.98 2288.75 1480.77 Q2290.67 1482.55 2294 1482.55 Q2297.34 1482.55 2299.26 1480.77 Q2301.18 1478.96 2301.18 1475.86 Q2301.18 1472.73 2299.26 1470.95 Q2297.36 1469.17 2294 1469.17 M2289.33 1467.18 Q2286.32 1466.44 2284.63 1464.38 Q2282.96 1462.32 2282.96 1459.35 Q2282.96 1455.21 2285.9 1452.8 Q2288.87 1450.39 2294 1450.39 Q2299.17 1450.39 2302.11 1452.8 Q2305.05 1455.21 2305.05 1459.35 Q2305.05 1462.32 2303.36 1464.38 Q2301.69 1466.44 2298.7 1467.18 Q2302.08 1467.96 2303.96 1470.26 Q2305.86 1472.55 2305.86 1475.86 Q2305.86 1480.88 2302.78 1483.57 Q2299.72 1486.25 2294 1486.25 Q2288.29 1486.25 2285.21 1483.57 Q2282.15 1480.88 2282.15 1475.86 Q2282.15 1472.55 2284.05 1470.26 Q2285.95 1467.96 2289.33 1467.18 M2287.62 1459.79 Q2287.62 1462.48 2289.28 1463.98 Q2290.97 1465.49 2294 1465.49 Q2297.01 1465.49 2298.7 1463.98 Q2300.42 1462.48 2300.42 1459.79 Q2300.42 1457.11 2298.7 1455.6 Q2297.01 1454.1 2294 1454.1 Q2290.97 1454.1 2289.28 1455.6 Q2287.62 1457.11 2287.62 1459.79 Z\" fill=\"#000000\" fill-rule=\"evenodd\" fill-opacity=\"1\" /><path clip-path=\"url(#clip040)\" d=\"M1311.89 1532.4 L1317.74 1532.4 L1317.74 1568.04 L1311.89 1568.04 L1311.89 1532.4 M1311.89 1518.52 L1317.74 1518.52 L1317.74 1525.93 L1311.89 1525.93 L1311.89 1518.52 Z\" fill=\"#000000\" fill-rule=\"evenodd\" fill-opacity=\"1\" /><polyline clip-path=\"url(#clip042)\" style=\"stroke:#000000; stroke-linecap:butt; stroke-linejoin:round; stroke-width:2; stroke-opacity:0.1; fill:none\" points=\"\n",
       "  276.876,1212.24 2352.76,1212.24 \n",
       "  \"/>\n",
       "<polyline clip-path=\"url(#clip042)\" style=\"stroke:#000000; stroke-linecap:butt; stroke-linejoin:round; stroke-width:2; stroke-opacity:0.1; fill:none\" points=\"\n",
       "  276.876,743.512 2352.76,743.512 \n",
       "  \"/>\n",
       "<polyline clip-path=\"url(#clip042)\" style=\"stroke:#000000; stroke-linecap:butt; stroke-linejoin:round; stroke-width:2; stroke-opacity:0.1; fill:none\" points=\"\n",
       "  276.876,274.78 2352.76,274.78 \n",
       "  \"/>\n",
       "<polyline clip-path=\"url(#clip040)\" style=\"stroke:#000000; stroke-linecap:butt; stroke-linejoin:round; stroke-width:4; stroke-opacity:1; fill:none\" points=\"\n",
       "  276.876,1423.18 276.876,123.472 \n",
       "  \"/>\n",
       "<polyline clip-path=\"url(#clip040)\" style=\"stroke:#000000; stroke-linecap:butt; stroke-linejoin:round; stroke-width:4; stroke-opacity:1; fill:none\" points=\"\n",
       "  276.876,1212.24 295.773,1212.24 \n",
       "  \"/>\n",
       "<polyline clip-path=\"url(#clip040)\" style=\"stroke:#000000; stroke-linecap:butt; stroke-linejoin:round; stroke-width:4; stroke-opacity:1; fill:none\" points=\"\n",
       "  276.876,743.512 295.773,743.512 \n",
       "  \"/>\n",
       "<polyline clip-path=\"url(#clip040)\" style=\"stroke:#000000; stroke-linecap:butt; stroke-linejoin:round; stroke-width:4; stroke-opacity:1; fill:none\" points=\"\n",
       "  276.876,274.78 295.773,274.78 \n",
       "  \"/>\n",
       "<path clip-path=\"url(#clip040)\" d=\"M115.74 1232.04 L123.379 1232.04 L123.379 1205.67 L115.069 1207.34 L115.069 1203.08 L123.333 1201.41 L128.009 1201.41 L128.009 1232.04 L135.647 1232.04 L135.647 1235.97 L115.74 1235.97 L115.74 1232.04 Z\" fill=\"#000000\" fill-rule=\"evenodd\" fill-opacity=\"1\" /><path clip-path=\"url(#clip040)\" d=\"M155.092 1204.49 Q151.481 1204.49 149.652 1208.06 Q147.846 1211.6 147.846 1218.73 Q147.846 1225.83 149.652 1229.4 Q151.481 1232.94 155.092 1232.94 Q158.726 1232.94 160.532 1229.4 Q162.36 1225.83 162.36 1218.73 Q162.36 1211.6 160.532 1208.06 Q158.726 1204.49 155.092 1204.49 M155.092 1200.79 Q160.902 1200.79 163.958 1205.39 Q167.036 1209.98 167.036 1218.73 Q167.036 1227.45 163.958 1232.06 Q160.902 1236.64 155.092 1236.64 Q149.282 1236.64 146.203 1232.06 Q143.147 1227.45 143.147 1218.73 Q143.147 1209.98 146.203 1205.39 Q149.282 1200.79 155.092 1200.79 Z\" fill=\"#000000\" fill-rule=\"evenodd\" fill-opacity=\"1\" /><path clip-path=\"url(#clip040)\" d=\"M167.036 1194.89 L191.148 1194.89 L191.148 1198.09 L167.036 1198.09 L167.036 1194.89 Z\" fill=\"#000000\" fill-rule=\"evenodd\" fill-opacity=\"1\" /><path clip-path=\"url(#clip040)\" d=\"M200.006 1205.36 L206.213 1205.36 L206.213 1183.94 L199.461 1185.3 L199.461 1181.84 L206.175 1180.48 L209.974 1180.48 L209.974 1205.36 L216.181 1205.36 L216.181 1208.56 L200.006 1208.56 L200.006 1205.36 Z\" fill=\"#000000\" fill-rule=\"evenodd\" fill-opacity=\"1\" /><path clip-path=\"url(#clip040)\" d=\"M223.892 1180.48 L238.807 1180.48 L238.807 1183.68 L227.372 1183.68 L227.372 1190.56 Q228.199 1190.28 229.027 1190.15 Q229.854 1190 230.682 1190 Q235.384 1190 238.13 1192.58 Q240.876 1195.15 240.876 1199.55 Q240.876 1204.09 238.054 1206.61 Q235.233 1209.11 230.099 1209.11 Q228.331 1209.11 226.488 1208.81 Q224.663 1208.51 222.707 1207.9 L222.707 1204.09 Q224.4 1205.01 226.205 1205.46 Q228.011 1205.91 230.023 1205.91 Q233.277 1205.91 235.177 1204.2 Q237.076 1202.49 237.076 1199.55 Q237.076 1196.62 235.177 1194.91 Q233.277 1193.2 230.023 1193.2 Q228.5 1193.2 226.977 1193.53 Q225.472 1193.87 223.892 1194.59 L223.892 1180.48 Z\" fill=\"#000000\" fill-rule=\"evenodd\" fill-opacity=\"1\" /><path clip-path=\"url(#clip040)\" d=\"M114.931 763.305 L122.57 763.305 L122.57 736.939 L114.26 738.606 L114.26 734.347 L122.524 732.68 L127.2 732.68 L127.2 763.305 L134.839 763.305 L134.839 767.24 L114.931 767.24 L114.931 763.305 Z\" fill=\"#000000\" fill-rule=\"evenodd\" fill-opacity=\"1\" /><path clip-path=\"url(#clip040)\" d=\"M154.283 735.759 Q150.672 735.759 148.843 739.323 Q147.038 742.865 147.038 749.995 Q147.038 757.101 148.843 760.666 Q150.672 764.208 154.283 764.208 Q157.917 764.208 159.723 760.666 Q161.552 757.101 161.552 749.995 Q161.552 742.865 159.723 739.323 Q157.917 735.759 154.283 735.759 M154.283 732.055 Q160.093 732.055 163.149 736.661 Q166.227 741.245 166.227 749.995 Q166.227 758.721 163.149 763.328 Q160.093 767.911 154.283 767.911 Q148.473 767.911 145.394 763.328 Q142.339 758.721 142.339 749.995 Q142.339 741.245 145.394 736.661 Q148.473 732.055 154.283 732.055 Z\" fill=\"#000000\" fill-rule=\"evenodd\" fill-opacity=\"1\" /><path clip-path=\"url(#clip040)\" d=\"M166.227 726.156 L190.339 726.156 L190.339 729.354 L166.227 729.354 L166.227 726.156 Z\" fill=\"#000000\" fill-rule=\"evenodd\" fill-opacity=\"1\" /><path clip-path=\"url(#clip040)\" d=\"M199.197 736.632 L205.404 736.632 L205.404 715.21 L198.652 716.564 L198.652 713.104 L205.366 711.75 L209.166 711.75 L209.166 736.632 L215.372 736.632 L215.372 739.83 L199.197 739.83 L199.197 736.632 Z\" fill=\"#000000\" fill-rule=\"evenodd\" fill-opacity=\"1\" /><path clip-path=\"url(#clip040)\" d=\"M231.171 714.251 Q228.237 714.251 226.751 717.147 Q225.284 720.025 225.284 725.818 Q225.284 731.592 226.751 734.488 Q228.237 737.366 231.171 737.366 Q234.124 737.366 235.591 734.488 Q237.076 731.592 237.076 725.818 Q237.076 720.025 235.591 717.147 Q234.124 714.251 231.171 714.251 M231.171 711.242 Q235.891 711.242 238.374 714.984 Q240.876 718.708 240.876 725.818 Q240.876 732.908 238.374 736.651 Q235.891 740.375 231.171 740.375 Q226.45 740.375 223.949 736.651 Q221.466 732.908 221.466 725.818 Q221.466 718.708 223.949 714.984 Q226.45 711.242 231.171 711.242 Z\" fill=\"#000000\" fill-rule=\"evenodd\" fill-opacity=\"1\" /><path clip-path=\"url(#clip040)\" d=\"M140.247 294.572 L147.886 294.572 L147.886 268.207 L139.575 269.873 L139.575 265.614 L147.839 263.948 L152.515 263.948 L152.515 294.572 L160.154 294.572 L160.154 298.508 L140.247 298.508 L140.247 294.572 Z\" fill=\"#000000\" fill-rule=\"evenodd\" fill-opacity=\"1\" /><path clip-path=\"url(#clip040)\" d=\"M179.598 267.026 Q175.987 267.026 174.159 270.591 Q172.353 274.133 172.353 281.262 Q172.353 288.369 174.159 291.934 Q175.987 295.475 179.598 295.475 Q183.233 295.475 185.038 291.934 Q186.867 288.369 186.867 281.262 Q186.867 274.133 185.038 270.591 Q183.233 267.026 179.598 267.026 M179.598 263.323 Q185.409 263.323 188.464 267.929 Q191.543 272.512 191.543 281.262 Q191.543 289.989 188.464 294.596 Q185.409 299.179 179.598 299.179 Q173.788 299.179 170.71 294.596 Q167.654 289.989 167.654 281.262 Q167.654 272.512 170.71 267.929 Q173.788 263.323 179.598 263.323 Z\" fill=\"#000000\" fill-rule=\"evenodd\" fill-opacity=\"1\" /><path clip-path=\"url(#clip040)\" d=\"M191.543 257.424 L215.654 257.424 L215.654 260.621 L191.543 260.621 L191.543 257.424 Z\" fill=\"#000000\" fill-rule=\"evenodd\" fill-opacity=\"1\" /><path clip-path=\"url(#clip040)\" d=\"M223.892 243.017 L238.807 243.017 L238.807 246.214 L227.372 246.214 L227.372 253.098 Q228.199 252.816 229.027 252.684 Q229.854 252.534 230.682 252.534 Q235.384 252.534 238.13 255.111 Q240.876 257.687 240.876 262.088 Q240.876 266.621 238.054 269.141 Q235.233 271.643 230.099 271.643 Q228.331 271.643 226.488 271.342 Q224.663 271.041 222.707 270.439 L222.707 266.621 Q224.4 267.542 226.205 267.994 Q228.011 268.445 230.023 268.445 Q233.277 268.445 235.177 266.734 Q237.076 265.022 237.076 262.088 Q237.076 259.154 235.177 257.443 Q233.277 255.731 230.023 255.731 Q228.5 255.731 226.977 256.07 Q225.472 256.408 223.892 257.123 L223.892 243.017 Z\" fill=\"#000000\" fill-rule=\"evenodd\" fill-opacity=\"1\" /><path clip-path=\"url(#clip040)\" d=\"M14.479 918.942 L14.479 905.446 L19.0304 905.446 L19.0304 913.085 L68.0464 913.085 L68.0464 905.446 L72.5979 905.446 L72.5979 918.942 L14.479 918.942 Z\" fill=\"#000000\" fill-rule=\"evenodd\" fill-opacity=\"1\" /><path clip-path=\"url(#clip040)\" d=\"M16.4842 892.715 L16.4842 862.669 L21.895 862.669 L21.895 886.285 L35.9632 886.285 L35.9632 863.655 L41.3741 863.655 L41.3741 886.285 L58.5933 886.285 L58.5933 862.096 L64.0042 862.096 L64.0042 892.715 L16.4842 892.715 Z\" fill=\"#000000\" fill-rule=\"evenodd\" fill-opacity=\"1\" /><path clip-path=\"url(#clip040)\" d=\"M33.8307 831.127 Q33.2578 832.113 33.0032 833.291 Q32.7167 834.437 32.7167 835.837 Q32.7167 840.802 35.9632 843.476 Q39.1779 846.118 45.2253 846.118 L64.0042 846.118 L64.0042 852.006 L28.3562 852.006 L28.3562 846.118 L33.8944 846.118 Q30.6479 844.272 29.0883 841.312 Q27.4968 838.352 27.4968 834.118 Q27.4968 833.514 27.5923 832.782 Q27.656 832.05 27.8151 831.158 L33.8307 831.127 Z\" fill=\"#000000\" fill-rule=\"evenodd\" fill-opacity=\"1\" /><path clip-path=\"url(#clip040)\" d=\"M14.479 811.297 L72.5979 811.297 L72.5979 824.793 L68.0464 824.793 L68.0464 817.186 L19.0304 817.186 L19.0304 824.793 L14.479 824.793 L14.479 811.297 Z\" fill=\"#000000\" fill-rule=\"evenodd\" fill-opacity=\"1\" /><path clip-path=\"url(#clip040)\" d=\"M14.479 799.553 L14.479 793.696 L64.0042 793.696 L64.0042 799.553 L14.479 799.553 Z\" fill=\"#000000\" fill-rule=\"evenodd\" fill-opacity=\"1\" /><path clip-path=\"url(#clip040)\" d=\"M32.4621 767.629 Q32.4621 772.339 36.1542 775.077 Q39.8145 777.814 46.212 777.814 Q52.6095 777.814 56.3017 775.108 Q59.9619 772.371 59.9619 767.629 Q59.9619 762.95 56.2698 760.213 Q52.5777 757.475 46.212 757.475 Q39.8781 757.475 36.186 760.213 Q32.4621 762.95 32.4621 767.629 M27.4968 767.629 Q27.4968 759.99 32.4621 755.629 Q37.4273 751.269 46.212 751.269 Q54.9649 751.269 59.9619 755.629 Q64.9272 759.99 64.9272 767.629 Q64.9272 775.299 59.9619 779.66 Q54.9649 783.989 46.212 783.989 Q37.4273 783.989 32.4621 779.66 Q27.4968 775.299 27.4968 767.629 Z\" fill=\"#000000\" fill-rule=\"evenodd\" fill-opacity=\"1\" /><path clip-path=\"url(#clip040)\" d=\"M45.7664 718.103 Q39.4007 718.103 35.8996 720.745 Q32.3984 723.355 32.3984 728.098 Q32.3984 732.808 35.8996 735.45 Q39.4007 738.06 45.7664 738.06 Q52.1003 738.06 55.6014 735.45 Q59.1026 732.808 59.1026 728.098 Q59.1026 723.355 55.6014 720.745 Q52.1003 718.103 45.7664 718.103 M59.58 712.247 Q68.683 712.247 73.1071 716.289 Q77.5631 720.331 77.5631 728.671 Q77.5631 731.758 77.0857 734.495 Q76.6401 737.232 75.6852 739.811 L69.9879 739.811 Q71.3884 737.232 72.0568 734.718 Q72.7252 732.204 72.7252 729.594 Q72.7252 723.833 69.7015 720.968 Q66.7096 718.103 60.6303 718.103 L57.7339 718.103 Q60.885 719.918 62.4446 722.75 Q64.0042 725.583 64.0042 729.53 Q64.0042 736.087 59.0071 740.097 Q54.01 744.107 45.7664 744.107 Q37.491 744.107 32.4939 740.097 Q27.4968 736.087 27.4968 729.53 Q27.4968 725.583 29.0564 722.75 Q30.616 719.918 33.7671 718.103 L28.3562 718.103 L28.3562 712.247 L59.58 712.247 Z\" fill=\"#000000\" fill-rule=\"evenodd\" fill-opacity=\"1\" /><path clip-path=\"url(#clip040)\" d=\"M58.5933 698.242 L58.5933 687.739 L22.3406 687.739 L24.6323 699.166 L18.7758 699.166 L16.4842 687.803 L16.4842 681.373 L58.5933 681.373 L58.5933 670.87 L64.0042 670.87 L64.0042 698.242 L58.5933 698.242 Z\" fill=\"#000000\" fill-rule=\"evenodd\" fill-opacity=\"1\" /><path clip-path=\"url(#clip040)\" d=\"M20.7174 644.134 Q20.7174 649.099 25.6189 651.614 Q30.4887 654.096 40.2919 654.096 Q50.0633 654.096 54.9649 651.614 Q59.8346 649.099 59.8346 644.134 Q59.8346 639.137 54.9649 636.654 Q50.0633 634.14 40.2919 634.14 Q30.4887 634.14 25.6189 636.654 Q20.7174 639.137 20.7174 644.134 M15.6248 644.134 Q15.6248 636.145 21.9587 631.944 Q28.2607 627.71 40.2919 627.71 Q52.2913 627.71 58.6251 631.944 Q64.9272 636.145 64.9272 644.134 Q64.9272 652.123 58.6251 656.356 Q52.2913 660.557 40.2919 660.557 Q28.2607 660.557 21.9587 656.356 Q15.6248 652.123 15.6248 644.134 Z\" fill=\"#000000\" fill-rule=\"evenodd\" fill-opacity=\"1\" /><path clip-path=\"url(#clip040)\" d=\"M927.934 12.096 L966.175 12.096 L966.175 18.9825 L936.117 18.9825 L936.117 36.8875 L964.919 36.8875 L964.919 43.7741 L936.117 43.7741 L936.117 65.6895 L966.904 65.6895 L966.904 72.576 L927.934 72.576 L927.934 12.096 Z\" fill=\"#000000\" fill-rule=\"evenodd\" fill-opacity=\"1\" /><path clip-path=\"url(#clip040)\" d=\"M1017.74 45.1919 L1017.74 72.576 L1010.29 72.576 L1010.29 45.4349 Q1010.29 38.994 1007.78 35.7938 Q1005.27 32.5936 1000.24 32.5936 Q994.207 32.5936 990.723 36.4419 Q987.239 40.2903 987.239 46.9338 L987.239 72.576 L979.745 72.576 L979.745 27.2059 L987.239 27.2059 L987.239 34.2544 Q989.913 30.163 993.518 28.1376 Q997.164 26.1121 1001.9 26.1121 Q1009.72 26.1121 1013.73 30.9732 Q1017.74 35.7938 1017.74 45.1919 Z\" fill=\"#000000\" fill-rule=\"evenodd\" fill-opacity=\"1\" /><path clip-path=\"url(#clip040)\" d=\"M1067.49 18.8205 L1067.49 41.5461 L1077.78 41.5461 Q1083.49 41.5461 1086.61 38.5889 Q1089.73 35.6318 1089.73 30.163 Q1089.73 24.7348 1086.61 21.7777 Q1083.49 18.8205 1077.78 18.8205 L1067.49 18.8205 M1059.3 12.096 L1077.78 12.096 Q1087.94 12.096 1093.13 16.714 Q1098.36 21.2916 1098.36 30.163 Q1098.36 39.1155 1093.13 43.6931 Q1087.94 48.2706 1077.78 48.2706 L1067.49 48.2706 L1067.49 72.576 L1059.3 72.576 L1059.3 12.096 Z\" fill=\"#000000\" fill-rule=\"evenodd\" fill-opacity=\"1\" /><path clip-path=\"url(#clip040)\" d=\"M1133.84 34.1734 Q1132.59 33.4443 1131.09 33.1202 Q1129.63 32.7556 1127.85 32.7556 Q1121.53 32.7556 1118.12 36.8875 Q1114.76 40.9789 1114.76 48.6757 L1114.76 72.576 L1107.27 72.576 L1107.27 27.2059 L1114.76 27.2059 L1114.76 34.2544 Q1117.11 30.1225 1120.88 28.1376 Q1124.65 26.1121 1130.03 26.1121 Q1130.8 26.1121 1131.74 26.2337 Q1132.67 26.3147 1133.8 26.5172 L1133.84 34.1734 Z\" fill=\"#000000\" fill-rule=\"evenodd\" fill-opacity=\"1\" /><path clip-path=\"url(#clip040)\" d=\"M1178.64 48.0275 L1178.64 51.6733 L1144.37 51.6733 Q1144.86 59.3701 1148.99 63.421 Q1153.16 67.4314 1160.58 67.4314 Q1164.87 67.4314 1168.88 66.3781 Q1172.93 65.3249 1176.9 63.2184 L1176.9 70.267 Q1172.89 71.9684 1168.68 72.8596 Q1164.47 73.7508 1160.13 73.7508 Q1149.28 73.7508 1142.92 67.4314 Q1136.6 61.1119 1136.6 50.3365 Q1136.6 39.1965 1142.59 32.6746 Q1148.63 26.1121 1158.84 26.1121 Q1167.99 26.1121 1173.3 32.0264 Q1178.64 37.9003 1178.64 48.0275 M1171.19 45.84 Q1171.11 39.7232 1167.75 36.0774 Q1164.43 32.4315 1158.92 32.4315 Q1152.68 32.4315 1148.91 35.9558 Q1145.18 39.4801 1144.62 45.8805 L1171.19 45.84 Z\" fill=\"#000000\" fill-rule=\"evenodd\" fill-opacity=\"1\" /><path clip-path=\"url(#clip040)\" d=\"M1223.53 28.9478 L1223.53 35.9153 Q1220.37 34.1734 1217.17 33.3227 Q1214.01 32.4315 1210.77 32.4315 Q1203.52 32.4315 1199.51 37.0496 Q1195.5 41.6271 1195.5 49.9314 Q1195.5 58.2358 1199.51 62.8538 Q1203.52 67.4314 1210.77 67.4314 Q1214.01 67.4314 1217.17 66.5807 Q1220.37 65.6895 1223.53 63.9476 L1223.53 70.8341 Q1220.41 72.2924 1217.05 73.0216 Q1213.73 73.7508 1209.96 73.7508 Q1199.71 73.7508 1193.67 67.3098 Q1187.64 60.8689 1187.64 49.9314 Q1187.64 38.832 1193.71 32.472 Q1199.83 26.1121 1210.44 26.1121 Q1213.89 26.1121 1217.17 26.8413 Q1220.45 27.5299 1223.53 28.9478 Z\" fill=\"#000000\" fill-rule=\"evenodd\" fill-opacity=\"1\" /><path clip-path=\"url(#clip040)\" d=\"M1236.49 27.2059 L1243.95 27.2059 L1243.95 72.576 L1236.49 72.576 L1236.49 27.2059 M1236.49 9.54393 L1243.95 9.54393 L1243.95 18.9825 L1236.49 18.9825 L1236.49 9.54393 Z\" fill=\"#000000\" fill-rule=\"evenodd\" fill-opacity=\"1\" /><path clip-path=\"url(#clip040)\" d=\"M1288.46 28.5427 L1288.46 35.5912 Q1285.3 33.9709 1281.9 33.1607 Q1278.5 32.3505 1274.85 32.3505 Q1269.3 32.3505 1266.51 34.0519 Q1263.75 35.7533 1263.75 39.156 Q1263.75 41.7486 1265.74 43.2475 Q1267.72 44.7058 1273.72 46.0426 L1276.27 46.6097 Q1284.21 48.3111 1287.53 51.4303 Q1290.9 54.509 1290.9 60.0587 Q1290.9 66.3781 1285.87 70.0644 Q1280.89 73.7508 1272.14 73.7508 Q1268.49 73.7508 1264.52 73.0216 Q1260.59 72.3329 1256.22 70.9151 L1256.22 63.2184 Q1260.35 65.3654 1264.36 66.4591 Q1268.37 67.5124 1272.3 67.5124 Q1277.57 67.5124 1280.4 65.73 Q1283.24 63.9071 1283.24 60.6258 Q1283.24 57.5877 1281.17 55.9673 Q1279.15 54.3469 1272.22 52.8481 L1269.63 52.2405 Q1262.7 50.7821 1259.62 47.7845 Q1256.54 44.7463 1256.54 39.4801 Q1256.54 33.0797 1261.08 29.5959 Q1265.62 26.1121 1273.96 26.1121 Q1278.09 26.1121 1281.74 26.7198 Q1285.39 27.3274 1288.46 28.5427 Z\" fill=\"#000000\" fill-rule=\"evenodd\" fill-opacity=\"1\" /><path clip-path=\"url(#clip040)\" d=\"M1302.76 27.2059 L1310.22 27.2059 L1310.22 72.576 L1302.76 72.576 L1302.76 27.2059 M1302.76 9.54393 L1310.22 9.54393 L1310.22 18.9825 L1302.76 18.9825 L1302.76 9.54393 Z\" fill=\"#000000\" fill-rule=\"evenodd\" fill-opacity=\"1\" /><path clip-path=\"url(#clip040)\" d=\"M1343.39 32.4315 Q1337.4 32.4315 1333.92 37.1306 Q1330.43 41.7891 1330.43 49.9314 Q1330.43 58.0738 1333.88 62.7728 Q1337.36 67.4314 1343.39 67.4314 Q1349.35 67.4314 1352.83 62.7323 Q1356.32 58.0333 1356.32 49.9314 Q1356.32 41.8701 1352.83 37.1711 Q1349.35 32.4315 1343.39 32.4315 M1343.39 26.1121 Q1353.12 26.1121 1358.67 32.4315 Q1364.22 38.7509 1364.22 49.9314 Q1364.22 61.0714 1358.67 67.4314 Q1353.12 73.7508 1343.39 73.7508 Q1333.63 73.7508 1328.08 67.4314 Q1322.57 61.0714 1322.57 49.9314 Q1322.57 38.7509 1328.08 32.4315 Q1333.63 26.1121 1343.39 26.1121 M1349.03 6.22219 L1357.09 6.22219 L1343.88 21.4536 L1337.68 21.4536 L1349.03 6.22219 Z\" fill=\"#000000\" fill-rule=\"evenodd\" fill-opacity=\"1\" /><path clip-path=\"url(#clip040)\" d=\"M1411.9 35.9153 Q1414.69 30.8922 1418.58 28.5022 Q1422.47 26.1121 1427.73 26.1121 Q1434.82 26.1121 1438.67 31.0947 Q1442.52 36.0368 1442.52 45.1919 L1442.52 72.576 L1435.03 72.576 L1435.03 45.4349 Q1435.03 38.913 1432.72 35.7533 Q1430.41 32.5936 1425.67 32.5936 Q1419.88 32.5936 1416.51 36.4419 Q1413.15 40.2903 1413.15 46.9338 L1413.15 72.576 L1405.66 72.576 L1405.66 45.4349 Q1405.66 38.8725 1403.35 35.7533 Q1401.04 32.5936 1396.22 32.5936 Q1390.51 32.5936 1387.14 36.4824 Q1383.78 40.3308 1383.78 46.9338 L1383.78 72.576 L1376.29 72.576 L1376.29 27.2059 L1383.78 27.2059 L1383.78 34.2544 Q1386.33 30.082 1389.9 28.0971 Q1393.46 26.1121 1398.37 26.1121 Q1403.31 26.1121 1406.75 28.6237 Q1410.23 31.1352 1411.9 35.9153 Z\" fill=\"#000000\" fill-rule=\"evenodd\" fill-opacity=\"1\" /><path clip-path=\"url(#clip040)\" d=\"M1513.61 34.0924 L1513.61 9.54393 L1521.07 9.54393 L1521.07 72.576 L1513.61 72.576 L1513.61 65.7705 Q1511.26 69.8214 1507.66 71.8063 Q1504.09 73.7508 1499.07 73.7508 Q1490.85 73.7508 1485.66 67.1883 Q1480.52 60.6258 1480.52 49.9314 Q1480.52 39.2371 1485.66 32.6746 Q1490.85 26.1121 1499.07 26.1121 Q1504.09 26.1121 1507.66 28.0971 Q1511.26 30.0415 1513.61 34.0924 M1488.21 49.9314 Q1488.21 58.1548 1491.58 62.8538 Q1494.98 67.5124 1500.89 67.5124 Q1506.81 67.5124 1510.21 62.8538 Q1513.61 58.1548 1513.61 49.9314 Q1513.61 41.7081 1510.21 37.0496 Q1506.81 32.3505 1500.89 32.3505 Q1494.98 32.3505 1491.58 37.0496 Q1488.21 41.7081 1488.21 49.9314 Z\" fill=\"#000000\" fill-rule=\"evenodd\" fill-opacity=\"1\" /><path clip-path=\"url(#clip040)\" d=\"M1554 32.4315 Q1548.01 32.4315 1544.52 37.1306 Q1541.04 41.7891 1541.04 49.9314 Q1541.04 58.0738 1544.48 62.7728 Q1547.97 67.4314 1554 67.4314 Q1559.96 67.4314 1563.44 62.7323 Q1566.92 58.0333 1566.92 49.9314 Q1566.92 41.8701 1563.44 37.1711 Q1559.96 32.4315 1554 32.4315 M1554 26.1121 Q1563.72 26.1121 1569.27 32.4315 Q1574.82 38.7509 1574.82 49.9314 Q1574.82 61.0714 1569.27 67.4314 Q1563.72 73.7508 1554 73.7508 Q1544.24 73.7508 1538.69 67.4314 Q1533.18 61.0714 1533.18 49.9314 Q1533.18 38.7509 1538.69 32.4315 Q1544.24 26.1121 1554 26.1121 Z\" fill=\"#000000\" fill-rule=\"evenodd\" fill-opacity=\"1\" /><path clip-path=\"url(#clip040)\" d=\"M1619.75 49.9314 Q1619.75 41.7081 1616.34 37.0496 Q1612.98 32.3505 1607.07 32.3505 Q1601.15 32.3505 1597.75 37.0496 Q1594.39 41.7081 1594.39 49.9314 Q1594.39 58.1548 1597.75 62.8538 Q1601.15 67.5124 1607.07 67.5124 Q1612.98 67.5124 1616.34 62.8538 Q1619.75 58.1548 1619.75 49.9314 M1594.39 34.0924 Q1596.74 30.0415 1600.3 28.0971 Q1603.91 26.1121 1608.89 26.1121 Q1617.15 26.1121 1622.3 32.6746 Q1627.48 39.2371 1627.48 49.9314 Q1627.48 60.6258 1622.3 67.1883 Q1617.15 73.7508 1608.89 73.7508 Q1603.91 73.7508 1600.3 71.8063 Q1596.74 69.8214 1594.39 65.7705 L1594.39 72.576 L1586.89 72.576 L1586.89 9.54393 L1594.39 9.54393 L1594.39 34.0924 Z\" fill=\"#000000\" fill-rule=\"evenodd\" fill-opacity=\"1\" /><path clip-path=\"url(#clip040)\" d=\"M1639.84 9.54393 L1647.29 9.54393 L1647.29 72.576 L1639.84 72.576 L1639.84 9.54393 Z\" fill=\"#000000\" fill-rule=\"evenodd\" fill-opacity=\"1\" /><path clip-path=\"url(#clip040)\" d=\"M1701.7 48.0275 L1701.7 51.6733 L1667.43 51.6733 Q1667.91 59.3701 1672.04 63.421 Q1676.22 67.4314 1683.63 67.4314 Q1687.92 67.4314 1691.93 66.3781 Q1695.99 65.3249 1699.96 63.2184 L1699.96 70.267 Q1695.95 71.9684 1691.73 72.8596 Q1687.52 73.7508 1683.18 73.7508 Q1672.33 73.7508 1665.97 67.4314 Q1659.65 61.1119 1659.65 50.3365 Q1659.65 39.1965 1665.64 32.6746 Q1671.68 26.1121 1681.89 26.1121 Q1691.04 26.1121 1696.35 32.0264 Q1701.7 37.9003 1701.7 48.0275 M1694.24 45.84 Q1694.16 39.7232 1690.8 36.0774 Q1687.48 32.4315 1681.97 32.4315 Q1675.73 32.4315 1671.96 35.9558 Q1668.24 39.4801 1667.67 45.8805 L1694.24 45.84 Z\" fill=\"#000000\" fill-rule=\"evenodd\" fill-opacity=\"1\" /><polyline clip-path=\"url(#clip042)\" style=\"stroke:#009af9; stroke-linecap:butt; stroke-linejoin:round; stroke-width:4; stroke-opacity:1; fill:none\" stroke-dasharray=\"16, 10\" points=\"\n",
       "  335.627,160.256 615.395,469.706 895.163,809.368 1174.93,1171.09 1454.7,1386.4 1734.47,1386.4 2014.24,1386.4 2294,1386.4 \n",
       "  \"/>\n",
       "<path clip-path=\"url(#clip040)\" d=\"\n",
       "M1725.87 270.476 L2283.56 270.476 L2283.56 166.796 L1725.87 166.796  Z\n",
       "  \" fill=\"#ffffff\" fill-rule=\"evenodd\" fill-opacity=\"1\"/>\n",
       "<polyline clip-path=\"url(#clip040)\" style=\"stroke:#000000; stroke-linecap:butt; stroke-linejoin:round; stroke-width:4; stroke-opacity:1; fill:none\" points=\"\n",
       "  1725.87,270.476 2283.56,270.476 2283.56,166.796 1725.87,166.796 1725.87,270.476 \n",
       "  \"/>\n",
       "<polyline clip-path=\"url(#clip040)\" style=\"stroke:#009af9; stroke-linecap:butt; stroke-linejoin:round; stroke-width:4; stroke-opacity:1; fill:none\" stroke-dasharray=\"16, 10\" points=\"\n",
       "  1748.94,218.636 1887.33,218.636 \n",
       "  \"/>\n",
       "<path clip-path=\"url(#clip040)\" d=\"M1910.39 201.356 L1932.25 201.356 L1932.25 205.291 L1915.07 205.291 L1915.07 215.522 L1931.53 215.522 L1931.53 219.457 L1915.07 219.457 L1915.07 231.981 L1932.66 231.981 L1932.66 235.916 L1910.39 235.916 L1910.39 201.356 Z\" fill=\"#000000\" fill-rule=\"evenodd\" fill-opacity=\"1\" /><path clip-path=\"url(#clip040)\" d=\"M1955.19 213.971 Q1954.47 213.555 1953.61 213.37 Q1952.78 213.161 1951.76 213.161 Q1948.15 213.161 1946.2 215.522 Q1944.28 217.86 1944.28 222.258 L1944.28 235.916 L1940 235.916 L1940 209.99 L1944.28 209.99 L1944.28 214.018 Q1945.63 211.657 1947.78 210.522 Q1949.93 209.365 1953.01 209.365 Q1953.45 209.365 1953.98 209.434 Q1954.51 209.481 1955.16 209.596 L1955.19 213.971 Z\" fill=\"#000000\" fill-rule=\"evenodd\" fill-opacity=\"1\" /><path clip-path=\"url(#clip040)\" d=\"M1973.84 213.971 Q1973.13 213.555 1972.27 213.37 Q1971.44 213.161 1970.42 213.161 Q1966.81 213.161 1964.86 215.522 Q1962.94 217.86 1962.94 222.258 L1962.94 235.916 L1958.66 235.916 L1958.66 209.99 L1962.94 209.99 L1962.94 214.018 Q1964.28 211.657 1966.44 210.522 Q1968.59 209.365 1971.67 209.365 Q1972.11 209.365 1972.64 209.434 Q1973.17 209.481 1973.82 209.596 L1973.84 213.971 Z\" fill=\"#000000\" fill-rule=\"evenodd\" fill-opacity=\"1\" /><path clip-path=\"url(#clip040)\" d=\"M1987.31 212.976 Q1983.89 212.976 1981.9 215.661 Q1979.91 218.323 1979.91 222.976 Q1979.91 227.629 1981.88 230.314 Q1983.87 232.976 1987.31 232.976 Q1990.72 232.976 1992.71 230.291 Q1994.7 227.606 1994.7 222.976 Q1994.7 218.37 1992.71 215.684 Q1990.72 212.976 1987.31 212.976 M1987.31 209.365 Q1992.87 209.365 1996.04 212.976 Q1999.21 216.587 1999.21 222.976 Q1999.21 229.342 1996.04 232.976 Q1992.87 236.587 1987.31 236.587 Q1981.74 236.587 1978.56 232.976 Q1975.42 229.342 1975.42 222.976 Q1975.42 216.587 1978.56 212.976 Q1981.74 209.365 1987.31 209.365 Z\" fill=\"#000000\" fill-rule=\"evenodd\" fill-opacity=\"1\" /><path clip-path=\"url(#clip040)\" d=\"M2021.3 213.971 Q2020.58 213.555 2019.72 213.37 Q2018.89 213.161 2017.87 213.161 Q2014.26 213.161 2012.31 215.522 Q2010.39 217.86 2010.39 222.258 L2010.39 235.916 L2006.11 235.916 L2006.11 209.99 L2010.39 209.99 L2010.39 214.018 Q2011.74 211.657 2013.89 210.522 Q2016.04 209.365 2019.12 209.365 Q2019.56 209.365 2020.09 209.434 Q2020.62 209.481 2021.27 209.596 L2021.3 213.971 Z\" fill=\"#000000\" fill-rule=\"evenodd\" fill-opacity=\"1\" /><path clip-path=\"url(#clip040)\" d=\"M2052.62 222.883 Q2047.45 222.883 2045.46 224.064 Q2043.47 225.244 2043.47 228.092 Q2043.47 230.36 2044.95 231.703 Q2046.46 233.022 2049.03 233.022 Q2052.57 233.022 2054.7 230.522 Q2056.85 227.999 2056.85 223.832 L2056.85 222.883 L2052.62 222.883 M2061.11 221.124 L2061.11 235.916 L2056.85 235.916 L2056.85 231.981 Q2055.39 234.342 2053.22 235.476 Q2051.04 236.587 2047.89 236.587 Q2043.91 236.587 2041.55 234.365 Q2039.21 232.119 2039.21 228.369 Q2039.21 223.994 2042.13 221.772 Q2045.07 219.55 2050.88 219.55 L2056.85 219.55 L2056.85 219.133 Q2056.85 216.194 2054.91 214.596 Q2052.99 212.976 2049.49 212.976 Q2047.27 212.976 2045.16 213.508 Q2043.06 214.041 2041.11 215.106 L2041.11 211.17 Q2043.45 210.268 2045.65 209.828 Q2047.85 209.365 2049.93 209.365 Q2055.56 209.365 2058.33 212.282 Q2061.11 215.198 2061.11 221.124 Z\" fill=\"#000000\" fill-rule=\"evenodd\" fill-opacity=\"1\" /><path clip-path=\"url(#clip040)\" d=\"M2088.49 222.976 Q2088.49 218.277 2086.55 215.615 Q2084.63 212.93 2081.25 212.93 Q2077.87 212.93 2075.93 215.615 Q2074 218.277 2074 222.976 Q2074 227.675 2075.93 230.36 Q2077.87 233.022 2081.25 233.022 Q2084.63 233.022 2086.55 230.36 Q2088.49 227.675 2088.49 222.976 M2074 213.925 Q2075.35 211.61 2077.38 210.499 Q2079.44 209.365 2082.29 209.365 Q2087.01 209.365 2089.95 213.115 Q2092.92 216.865 2092.92 222.976 Q2092.92 229.087 2089.95 232.837 Q2087.01 236.587 2082.29 236.587 Q2079.44 236.587 2077.38 235.476 Q2075.35 234.342 2074 232.027 L2074 235.916 L2069.72 235.916 L2069.72 199.897 L2074 199.897 L2074 213.925 Z\" fill=\"#000000\" fill-rule=\"evenodd\" fill-opacity=\"1\" /><path clip-path=\"url(#clip040)\" d=\"M2116.5 210.754 L2116.5 214.782 Q2114.7 213.856 2112.75 213.393 Q2110.81 212.93 2108.73 212.93 Q2105.55 212.93 2103.96 213.902 Q2102.38 214.874 2102.38 216.819 Q2102.38 218.3 2103.52 219.157 Q2104.65 219.99 2108.08 220.754 L2109.54 221.078 Q2114.07 222.05 2115.97 223.832 Q2117.89 225.592 2117.89 228.763 Q2117.89 232.374 2115.02 234.481 Q2112.18 236.587 2107.18 236.587 Q2105.09 236.587 2102.82 236.17 Q2100.58 235.777 2098.08 234.967 L2098.08 230.569 Q2100.44 231.795 2102.73 232.42 Q2105.02 233.022 2107.27 233.022 Q2110.28 233.022 2111.9 232.004 Q2113.52 230.962 2113.52 229.087 Q2113.52 227.351 2112.34 226.425 Q2111.18 225.499 2107.22 224.643 L2105.74 224.295 Q2101.78 223.462 2100.02 221.749 Q2098.26 220.013 2098.26 217.004 Q2098.26 213.346 2100.86 211.356 Q2103.45 209.365 2108.22 209.365 Q2110.58 209.365 2112.66 209.712 Q2114.74 210.059 2116.5 210.754 Z\" fill=\"#000000\" fill-rule=\"evenodd\" fill-opacity=\"1\" /><path clip-path=\"url(#clip040)\" d=\"M2134.72 212.976 Q2131.3 212.976 2129.3 215.661 Q2127.31 218.323 2127.31 222.976 Q2127.31 227.629 2129.28 230.314 Q2131.27 232.976 2134.72 232.976 Q2138.12 232.976 2140.11 230.291 Q2142.11 227.606 2142.11 222.976 Q2142.11 218.37 2140.11 215.684 Q2138.12 212.976 2134.72 212.976 M2134.72 209.365 Q2140.28 209.365 2143.45 212.976 Q2146.62 216.587 2146.62 222.976 Q2146.62 229.342 2143.45 232.976 Q2140.28 236.587 2134.72 236.587 Q2129.14 236.587 2125.97 232.976 Q2122.82 229.342 2122.82 222.976 Q2122.82 216.587 2125.97 212.976 Q2129.14 209.365 2134.72 209.365 Z\" fill=\"#000000\" fill-rule=\"evenodd\" fill-opacity=\"1\" /><path clip-path=\"url(#clip040)\" d=\"M2153.68 199.897 L2157.94 199.897 L2157.94 235.916 L2153.68 235.916 L2153.68 199.897 Z\" fill=\"#000000\" fill-rule=\"evenodd\" fill-opacity=\"1\" /><path clip-path=\"url(#clip040)\" d=\"M2166.41 225.684 L2166.41 209.99 L2170.67 209.99 L2170.67 225.522 Q2170.67 229.203 2172.11 231.055 Q2173.54 232.883 2176.41 232.883 Q2179.86 232.883 2181.85 230.684 Q2183.86 228.485 2183.86 224.689 L2183.86 209.99 L2188.12 209.99 L2188.12 235.916 L2183.86 235.916 L2183.86 231.934 Q2182.31 234.295 2180.25 235.453 Q2178.22 236.587 2175.51 236.587 Q2171.04 236.587 2168.73 233.809 Q2166.41 231.031 2166.41 225.684 M2177.13 209.365 L2177.13 209.365 Z\" fill=\"#000000\" fill-rule=\"evenodd\" fill-opacity=\"1\" /><path clip-path=\"url(#clip040)\" d=\"M2201.11 202.629 L2201.11 209.99 L2209.88 209.99 L2209.88 213.3 L2201.11 213.3 L2201.11 227.374 Q2201.11 230.545 2201.97 231.448 Q2202.85 232.351 2205.51 232.351 L2209.88 232.351 L2209.88 235.916 L2205.51 235.916 Q2200.58 235.916 2198.7 234.087 Q2196.83 232.235 2196.83 227.374 L2196.83 213.3 L2193.7 213.3 L2193.7 209.99 L2196.83 209.99 L2196.83 202.629 L2201.11 202.629 Z\" fill=\"#000000\" fill-rule=\"evenodd\" fill-opacity=\"1\" /><path clip-path=\"url(#clip040)\" d=\"M2225.53 212.976 Q2222.11 212.976 2220.11 215.661 Q2218.12 218.323 2218.12 222.976 Q2218.12 227.629 2220.09 230.314 Q2222.08 232.976 2225.53 232.976 Q2228.93 232.976 2230.92 230.291 Q2232.92 227.606 2232.92 222.976 Q2232.92 218.37 2230.92 215.684 Q2228.93 212.976 2225.53 212.976 M2225.53 209.365 Q2231.09 209.365 2234.26 212.976 Q2237.43 216.587 2237.43 222.976 Q2237.43 229.342 2234.26 232.976 Q2231.09 236.587 2225.53 236.587 Q2219.95 236.587 2216.78 232.976 Q2213.63 229.342 2213.63 222.976 Q2213.63 216.587 2216.78 212.976 Q2219.95 209.365 2225.53 209.365 Z\" fill=\"#000000\" fill-rule=\"evenodd\" fill-opacity=\"1\" /></svg>\n"
      ]
     },
     "execution_count": 289,
     "metadata": {},
     "output_type": "execute_result"
    }
   ],
   "source": [
    "plot(V_er2,yscale=:log10,title=\"En Precisióm doble\",xlabel=\"i\",ylabel=\"[Er]log10\",label=\"Error absoluto\",linestyle=:dash)"
   ]
  },
  {
   "cell_type": "code",
   "execution_count": null,
   "metadata": {},
   "outputs": [],
   "source": []
  },
  {
   "cell_type": "code",
   "execution_count": null,
   "metadata": {},
   "outputs": [],
   "source": []
  },
  {
   "cell_type": "code",
   "execution_count": null,
   "metadata": {},
   "outputs": [],
   "source": []
  },
  {
   "cell_type": "code",
   "execution_count": null,
   "metadata": {},
   "outputs": [],
   "source": []
  },
  {
   "cell_type": "code",
   "execution_count": null,
   "metadata": {},
   "outputs": [],
   "source": []
  },
  {
   "cell_type": "markdown",
   "metadata": {},
   "source": [
    "### Problema 2\n",
    "\n",
    "#### Parte A.\n",
    "\n",
    "Una variación muy utilizada de método de Newton-Raphson para encontrar raíces múltiples viene dada por la siguiente iteración:\n",
    "$$\n",
    "p_{n+1} = p_{n} - \\, m \\, \\frac{f(p_n)}{f^{\\prime}(p_n)},\n",
    "$$\n",
    "donde, $p_n$ es la $n$-ésima aproximación a la raíz $x$ y $m$ es el orden de la raíz. Note que para el caso de raíces simples ($m=1$) se recupera la fórmula usual del método.\n",
    "\n",
    "Escriba una función que permita utilizar este método en el caso donde conocemos el órden de la raíz.\n",
    "\n",
    "Los argumentos de dicha función deberán ser:\n",
    "\n",
    "* la función a la que queremos encontrar su raíz,\n",
    "\n",
    "* su derivada, \n",
    "\n",
    "* la aproximación inicial $p_1$ a la raíz buscada,\n",
    "\n",
    "* el orden presupuesto de la raíz buscada,\n",
    "\n",
    "* la tolerancia en $x$, `tol_x`, con un valor por defecto de `1e-4`,\n",
    "\n",
    "* la tolerancia en $f$, `tol_f`, con un valor por defecto de `1e-5`,\n",
    "\n",
    "* el número máximo de iteraciones $n_{\\max}$, con un valor por defecto de `10`.\n",
    "\n",
    "El algoritmo debe detenerse cuando el error relativo en $x$ sea menor que `tol_x` **y** el error absoluto en $f(x)$ sea menor a `tol_f`, o cuando el número de iteraciones alcance el valor $n_{\\max}$. \n",
    "\n",
    "El programa retornar los siguiente valores:\n",
    "\n",
    "* un booleano indicando si convergió (`true`) o no (`false`).\n",
    "\n",
    "* un vector con las aproximaciones $p_n$,\n",
    "\n",
    "* un vector con los valores $f(p_n)$ de $f$ en las aproximaciones, \n",
    "\n",
    "* un vector de estimaciones $|p_n - p_{n+1}|/|p_{n+1}|$ de errores relativos $\\varepsilon_x^n = |p_n - p_{n+1}|/|p_{n+1}|$ de $x$, \n",
    "\n",
    "* y un vector de errores absolutos $\\varepsilon_f^n = |f(p_n)|$ de $f(x)$.\n",
    "\n",
    "#### Parte B\n",
    "\n",
    "Con la función así definida encuentre una raíz de la siguiente función:\n",
    "\n",
    "$$\n",
    "f(x)= 2 e^{x-2} - 2x + 2 \n",
    "$$\n",
    "\n",
    "1. Grafique dicha función en el intervalo $[0,3]$. \n",
    "\n",
    "2. Grafique también la primera derivada $f^{\\prime}$ y la segunda derivada $f^{\\prime\\prime}$ todas en un mismo gráfico. \n",
    "\n",
    "3. Observando el gráfico, deduzca el orden de la raíz. Explique.\n",
    "\n",
    "4. Encuentre una estimación a  la raíz de la función usando $m=1$, $p_1=1$, `tol_x`$=10^{-6}$, `tol_f`$=10^{-7}$ y $n_{\\max}=100$.\n",
    " \n",
    "5. Encuentre una estimación a  la raíz de la función usando $m=2$, $p_1=1$, `tol_x`$=10^{-6}$, `tol_x`$=10^{-7}$ y $n_{\\max}=100$.\n",
    "\n",
    "6. Grafique el error relativo en $x$, $\\varepsilon_x$ en función del número de iteración $n$, para ambos valores de $m$, con escala lineal en $x$ y logarítmica en $y$. \n",
    "\n",
    "7. Comente los resultados obtenidos. Explique en particular en detalle porqué se observan diferentes comportamientos para $m=1$ y $m=2$."
   ]
  },
  {
   "cell_type": "code",
   "execution_count": 27,
   "metadata": {},
   "outputs": [
    {
     "data": {
      "text/plain": [
       "Newton_Raphson_Raices_Multiples (generic function with 1 method)"
      ]
     },
     "execution_count": 27,
     "metadata": {},
     "output_type": "execute_result"
    }
   ],
   "source": [
    "function Newton_Raphson_Raices_Multiples(f,df,p,m;tol_x=1e-4,tol_f=1e-5,n_max=10)\n",
    "    Vp=zeros(n_max)\n",
    "    Vf=zeros(n_max)\n",
    "    Vc=zeros(n_max)\n",
    "    Vr=zeros(n_max)\n",
    "    for i in 1:n_max\n",
    "        p1=p\n",
    "        p+=-m*f(p)/df(p)         ###  p=p-f(p)/df(p)\n",
    "        Vp[i]=p\n",
    "        Vf[i]=f(p)\n",
    "        Vc[i]=abs(p-p1)\n",
    "        Vr[i]=Vc[i]/abs(p)\n",
    "        if Vr[i]<tol_x && Vf[i]<tol_f\n",
    "            return (true,Vp[1:i],Vf[1:i],Vc[1:i],Vr[1:i])  ### retorna los vectores de dim=i\n",
    "        end\n",
    "    end\n",
    "    return false,Vp,Vf,Vc,Vr ### retorna los valores de la última itaracion\n",
    "end"
   ]
  },
  {
   "cell_type": "code",
   "execution_count": 19,
   "metadata": {},
   "outputs": [
    {
     "data": {
      "text/plain": [
       "d2f (generic function with 1 method)"
      ]
     },
     "execution_count": 19,
     "metadata": {},
     "output_type": "execute_result"
    }
   ],
   "source": [
    "f(x)=2*exp(x-2)-2*x+2\n",
    "df(x)=2*exp(x-2)-2\n",
    "d2f(x)=2*exp(x-2)"
   ]
  },
  {
   "cell_type": "code",
   "execution_count": 25,
   "metadata": {},
   "outputs": [
    {
     "data": {
      "image/svg+xml": [
       "<?xml version=\"1.0\" encoding=\"utf-8\"?>\n",
       "<svg xmlns=\"http://www.w3.org/2000/svg\" xmlns:xlink=\"http://www.w3.org/1999/xlink\" width=\"600\" height=\"400\" viewBox=\"0 0 2400 1600\">\n",
       "<defs>\n",
       "  <clipPath id=\"clip840\">\n",
       "    <rect x=\"0\" y=\"0\" width=\"2400\" height=\"1600\"/>\n",
       "  </clipPath>\n",
       "</defs>\n",
       "<path clip-path=\"url(#clip840)\" d=\"\n",
       "M0 1600 L2400 1600 L2400 0 L0 0  Z\n",
       "  \" fill=\"#ffffff\" fill-rule=\"evenodd\" fill-opacity=\"1\"/>\n",
       "<defs>\n",
       "  <clipPath id=\"clip841\">\n",
       "    <rect x=\"480\" y=\"0\" width=\"1681\" height=\"1600\"/>\n",
       "  </clipPath>\n",
       "</defs>\n",
       "<path clip-path=\"url(#clip840)\" d=\"\n",
       "M210.746 1423.18 L2352.76 1423.18 L2352.76 123.472 L210.746 123.472  Z\n",
       "  \" fill=\"#ffffff\" fill-rule=\"evenodd\" fill-opacity=\"1\"/>\n",
       "<defs>\n",
       "  <clipPath id=\"clip842\">\n",
       "    <rect x=\"210\" y=\"123\" width=\"2143\" height=\"1301\"/>\n",
       "  </clipPath>\n",
       "</defs>\n",
       "<polyline clip-path=\"url(#clip842)\" style=\"stroke:#000000; stroke-linecap:butt; stroke-linejoin:round; stroke-width:2; stroke-opacity:0.1; fill:none\" points=\"\n",
       "  271.369,1423.18 271.369,123.472 \n",
       "  \"/>\n",
       "<polyline clip-path=\"url(#clip842)\" style=\"stroke:#000000; stroke-linecap:butt; stroke-linejoin:round; stroke-width:2; stroke-opacity:0.1; fill:none\" points=\"\n",
       "  944.957,1423.18 944.957,123.472 \n",
       "  \"/>\n",
       "<polyline clip-path=\"url(#clip842)\" style=\"stroke:#000000; stroke-linecap:butt; stroke-linejoin:round; stroke-width:2; stroke-opacity:0.1; fill:none\" points=\"\n",
       "  1618.54,1423.18 1618.54,123.472 \n",
       "  \"/>\n",
       "<polyline clip-path=\"url(#clip842)\" style=\"stroke:#000000; stroke-linecap:butt; stroke-linejoin:round; stroke-width:2; stroke-opacity:0.1; fill:none\" points=\"\n",
       "  2292.13,1423.18 2292.13,123.472 \n",
       "  \"/>\n",
       "<polyline clip-path=\"url(#clip840)\" style=\"stroke:#000000; stroke-linecap:butt; stroke-linejoin:round; stroke-width:4; stroke-opacity:1; fill:none\" points=\"\n",
       "  210.746,1423.18 2352.76,1423.18 \n",
       "  \"/>\n",
       "<polyline clip-path=\"url(#clip840)\" style=\"stroke:#000000; stroke-linecap:butt; stroke-linejoin:round; stroke-width:4; stroke-opacity:1; fill:none\" points=\"\n",
       "  271.369,1423.18 271.369,1404.28 \n",
       "  \"/>\n",
       "<polyline clip-path=\"url(#clip840)\" style=\"stroke:#000000; stroke-linecap:butt; stroke-linejoin:round; stroke-width:4; stroke-opacity:1; fill:none\" points=\"\n",
       "  944.957,1423.18 944.957,1404.28 \n",
       "  \"/>\n",
       "<polyline clip-path=\"url(#clip840)\" style=\"stroke:#000000; stroke-linecap:butt; stroke-linejoin:round; stroke-width:4; stroke-opacity:1; fill:none\" points=\"\n",
       "  1618.54,1423.18 1618.54,1404.28 \n",
       "  \"/>\n",
       "<polyline clip-path=\"url(#clip840)\" style=\"stroke:#000000; stroke-linecap:butt; stroke-linejoin:round; stroke-width:4; stroke-opacity:1; fill:none\" points=\"\n",
       "  2292.13,1423.18 2292.13,1404.28 \n",
       "  \"/>\n",
       "<path clip-path=\"url(#clip840)\" d=\"M271.369 1454.1 Q267.758 1454.1 265.929 1457.66 Q264.124 1461.2 264.124 1468.33 Q264.124 1475.44 265.929 1479.01 Q267.758 1482.55 271.369 1482.55 Q275.003 1482.55 276.809 1479.01 Q278.637 1475.44 278.637 1468.33 Q278.637 1461.2 276.809 1457.66 Q275.003 1454.1 271.369 1454.1 M271.369 1450.39 Q277.179 1450.39 280.235 1455 Q283.313 1459.58 283.313 1468.33 Q283.313 1477.06 280.235 1481.67 Q277.179 1486.25 271.369 1486.25 Q265.559 1486.25 262.48 1481.67 Q259.424 1477.06 259.424 1468.33 Q259.424 1459.58 262.48 1455 Q265.559 1450.39 271.369 1450.39 Z\" fill=\"#000000\" fill-rule=\"evenodd\" fill-opacity=\"1\" /><path clip-path=\"url(#clip840)\" d=\"M935.339 1481.64 L942.978 1481.64 L942.978 1455.28 L934.668 1456.95 L934.668 1452.69 L942.931 1451.02 L947.607 1451.02 L947.607 1481.64 L955.246 1481.64 L955.246 1485.58 L935.339 1485.58 L935.339 1481.64 Z\" fill=\"#000000\" fill-rule=\"evenodd\" fill-opacity=\"1\" /><path clip-path=\"url(#clip840)\" d=\"M1613.2 1481.64 L1629.52 1481.64 L1629.52 1485.58 L1607.57 1485.58 L1607.57 1481.64 Q1610.23 1478.89 1614.82 1474.26 Q1619.42 1469.61 1620.61 1468.27 Q1622.85 1465.74 1623.73 1464.01 Q1624.63 1462.25 1624.63 1460.56 Q1624.63 1457.8 1622.69 1456.07 Q1620.77 1454.33 1617.67 1454.33 Q1615.47 1454.33 1613.01 1455.09 Q1610.58 1455.86 1607.8 1457.41 L1607.8 1452.69 Q1610.63 1451.55 1613.08 1450.97 Q1615.54 1450.39 1617.57 1450.39 Q1622.94 1450.39 1626.14 1453.08 Q1629.33 1455.77 1629.33 1460.26 Q1629.33 1462.39 1628.52 1464.31 Q1627.73 1466.2 1625.63 1468.8 Q1625.05 1469.47 1621.95 1472.69 Q1618.85 1475.88 1613.2 1481.64 Z\" fill=\"#000000\" fill-rule=\"evenodd\" fill-opacity=\"1\" /><path clip-path=\"url(#clip840)\" d=\"M2296.38 1466.95 Q2299.74 1467.66 2301.61 1469.93 Q2303.51 1472.2 2303.51 1475.53 Q2303.51 1480.65 2299.99 1483.45 Q2296.47 1486.25 2289.99 1486.25 Q2287.82 1486.25 2285.5 1485.81 Q2283.21 1485.39 2280.76 1484.54 L2280.76 1480.02 Q2282.7 1481.16 2285.01 1481.74 Q2287.33 1482.32 2289.85 1482.32 Q2294.25 1482.32 2296.54 1480.58 Q2298.86 1478.84 2298.86 1475.53 Q2298.86 1472.48 2296.7 1470.77 Q2294.58 1469.03 2290.76 1469.03 L2286.73 1469.03 L2286.73 1465.19 L2290.94 1465.19 Q2294.39 1465.19 2296.22 1463.82 Q2298.05 1462.43 2298.05 1459.84 Q2298.05 1457.18 2296.15 1455.77 Q2294.27 1454.33 2290.76 1454.33 Q2288.83 1454.33 2286.64 1454.75 Q2284.44 1455.16 2281.8 1456.04 L2281.8 1451.88 Q2284.46 1451.14 2286.77 1450.77 Q2289.11 1450.39 2291.17 1450.39 Q2296.5 1450.39 2299.6 1452.83 Q2302.7 1455.23 2302.7 1459.35 Q2302.7 1462.22 2301.06 1464.21 Q2299.41 1466.18 2296.38 1466.95 Z\" fill=\"#000000\" fill-rule=\"evenodd\" fill-opacity=\"1\" /><path clip-path=\"url(#clip840)\" d=\"M1298.37 1532.4 L1285.47 1549.74 L1299.03 1568.04 L1292.13 1568.04 L1281.75 1554.04 L1271.37 1568.04 L1264.47 1568.04 L1278.31 1549.39 L1265.65 1532.4 L1272.55 1532.4 L1282.01 1545.1 L1291.46 1532.4 L1298.37 1532.4 Z\" fill=\"#000000\" fill-rule=\"evenodd\" fill-opacity=\"1\" /><polyline clip-path=\"url(#clip842)\" style=\"stroke:#000000; stroke-linecap:butt; stroke-linejoin:round; stroke-width:2; stroke-opacity:0.1; fill:none\" points=\"\n",
       "  210.746,1261.6 2352.76,1261.6 \n",
       "  \"/>\n",
       "<polyline clip-path=\"url(#clip842)\" style=\"stroke:#000000; stroke-linecap:butt; stroke-linejoin:round; stroke-width:2; stroke-opacity:0.1; fill:none\" points=\"\n",
       "  210.746,1090.49 2352.76,1090.49 \n",
       "  \"/>\n",
       "<polyline clip-path=\"url(#clip842)\" style=\"stroke:#000000; stroke-linecap:butt; stroke-linejoin:round; stroke-width:2; stroke-opacity:0.1; fill:none\" points=\"\n",
       "  210.746,919.386 2352.76,919.386 \n",
       "  \"/>\n",
       "<polyline clip-path=\"url(#clip842)\" style=\"stroke:#000000; stroke-linecap:butt; stroke-linejoin:round; stroke-width:2; stroke-opacity:0.1; fill:none\" points=\"\n",
       "  210.746,748.279 2352.76,748.279 \n",
       "  \"/>\n",
       "<polyline clip-path=\"url(#clip842)\" style=\"stroke:#000000; stroke-linecap:butt; stroke-linejoin:round; stroke-width:2; stroke-opacity:0.1; fill:none\" points=\"\n",
       "  210.746,577.171 2352.76,577.171 \n",
       "  \"/>\n",
       "<polyline clip-path=\"url(#clip842)\" style=\"stroke:#000000; stroke-linecap:butt; stroke-linejoin:round; stroke-width:2; stroke-opacity:0.1; fill:none\" points=\"\n",
       "  210.746,406.063 2352.76,406.063 \n",
       "  \"/>\n",
       "<polyline clip-path=\"url(#clip842)\" style=\"stroke:#000000; stroke-linecap:butt; stroke-linejoin:round; stroke-width:2; stroke-opacity:0.1; fill:none\" points=\"\n",
       "  210.746,234.956 2352.76,234.956 \n",
       "  \"/>\n",
       "<polyline clip-path=\"url(#clip840)\" style=\"stroke:#000000; stroke-linecap:butt; stroke-linejoin:round; stroke-width:4; stroke-opacity:1; fill:none\" points=\"\n",
       "  210.746,1423.18 210.746,123.472 \n",
       "  \"/>\n",
       "<polyline clip-path=\"url(#clip840)\" style=\"stroke:#000000; stroke-linecap:butt; stroke-linejoin:round; stroke-width:4; stroke-opacity:1; fill:none\" points=\"\n",
       "  210.746,1261.6 229.644,1261.6 \n",
       "  \"/>\n",
       "<polyline clip-path=\"url(#clip840)\" style=\"stroke:#000000; stroke-linecap:butt; stroke-linejoin:round; stroke-width:4; stroke-opacity:1; fill:none\" points=\"\n",
       "  210.746,1090.49 229.644,1090.49 \n",
       "  \"/>\n",
       "<polyline clip-path=\"url(#clip840)\" style=\"stroke:#000000; stroke-linecap:butt; stroke-linejoin:round; stroke-width:4; stroke-opacity:1; fill:none\" points=\"\n",
       "  210.746,919.386 229.644,919.386 \n",
       "  \"/>\n",
       "<polyline clip-path=\"url(#clip840)\" style=\"stroke:#000000; stroke-linecap:butt; stroke-linejoin:round; stroke-width:4; stroke-opacity:1; fill:none\" points=\"\n",
       "  210.746,748.279 229.644,748.279 \n",
       "  \"/>\n",
       "<polyline clip-path=\"url(#clip840)\" style=\"stroke:#000000; stroke-linecap:butt; stroke-linejoin:round; stroke-width:4; stroke-opacity:1; fill:none\" points=\"\n",
       "  210.746,577.171 229.644,577.171 \n",
       "  \"/>\n",
       "<polyline clip-path=\"url(#clip840)\" style=\"stroke:#000000; stroke-linecap:butt; stroke-linejoin:round; stroke-width:4; stroke-opacity:1; fill:none\" points=\"\n",
       "  210.746,406.063 229.644,406.063 \n",
       "  \"/>\n",
       "<polyline clip-path=\"url(#clip840)\" style=\"stroke:#000000; stroke-linecap:butt; stroke-linejoin:round; stroke-width:4; stroke-opacity:1; fill:none\" points=\"\n",
       "  210.746,234.956 229.644,234.956 \n",
       "  \"/>\n",
       "<path clip-path=\"url(#clip840)\" d=\"M114.26 1262.05 L143.936 1262.05 L143.936 1265.99 L114.26 1265.99 L114.26 1262.05 Z\" fill=\"#000000\" fill-rule=\"evenodd\" fill-opacity=\"1\" /><path clip-path=\"url(#clip840)\" d=\"M154.839 1274.95 L162.477 1274.95 L162.477 1248.58 L154.167 1250.25 L154.167 1245.99 L162.431 1244.32 L167.107 1244.32 L167.107 1274.95 L174.746 1274.95 L174.746 1278.88 L154.839 1278.88 L154.839 1274.95 Z\" fill=\"#000000\" fill-rule=\"evenodd\" fill-opacity=\"1\" /><path clip-path=\"url(#clip840)\" d=\"M162.802 1076.29 Q159.19 1076.29 157.362 1079.86 Q155.556 1083.4 155.556 1090.53 Q155.556 1097.64 157.362 1101.2 Q159.19 1104.74 162.802 1104.74 Q166.436 1104.74 168.241 1101.2 Q170.07 1097.64 170.07 1090.53 Q170.07 1083.4 168.241 1079.86 Q166.436 1076.29 162.802 1076.29 M162.802 1072.59 Q168.612 1072.59 171.667 1077.2 Q174.746 1081.78 174.746 1090.53 Q174.746 1099.26 171.667 1103.86 Q168.612 1108.45 162.802 1108.45 Q156.991 1108.45 153.913 1103.86 Q150.857 1099.26 150.857 1090.53 Q150.857 1081.78 153.913 1077.2 Q156.991 1072.59 162.802 1072.59 Z\" fill=\"#000000\" fill-rule=\"evenodd\" fill-opacity=\"1\" /><path clip-path=\"url(#clip840)\" d=\"M154.839 932.731 L162.477 932.731 L162.477 906.366 L154.167 908.032 L154.167 903.773 L162.431 902.106 L167.107 902.106 L167.107 932.731 L174.746 932.731 L174.746 936.666 L154.839 936.666 L154.839 932.731 Z\" fill=\"#000000\" fill-rule=\"evenodd\" fill-opacity=\"1\" /><path clip-path=\"url(#clip840)\" d=\"M158.427 761.624 L174.746 761.624 L174.746 765.559 L152.802 765.559 L152.802 761.624 Q155.464 758.869 160.047 754.239 Q164.653 749.587 165.834 748.244 Q168.079 745.721 168.959 743.985 Q169.862 742.226 169.862 740.536 Q169.862 737.781 167.917 736.045 Q165.996 734.309 162.894 734.309 Q160.695 734.309 158.241 735.073 Q155.811 735.837 153.033 737.388 L153.033 732.665 Q155.857 731.531 158.311 730.952 Q160.765 730.374 162.802 730.374 Q168.172 730.374 171.366 733.059 Q174.561 735.744 174.561 740.235 Q174.561 742.364 173.751 744.286 Q172.964 746.184 170.857 748.776 Q170.278 749.448 167.177 752.665 Q164.075 755.86 158.427 761.624 Z\" fill=\"#000000\" fill-rule=\"evenodd\" fill-opacity=\"1\" /><path clip-path=\"url(#clip840)\" d=\"M167.616 575.817 Q170.973 576.534 172.848 578.803 Q174.746 581.072 174.746 584.405 Q174.746 589.521 171.227 592.321 Q167.709 595.122 161.227 595.122 Q159.052 595.122 156.737 594.683 Q154.445 594.266 151.991 593.409 L151.991 588.896 Q153.936 590.03 156.251 590.608 Q158.565 591.187 161.089 591.187 Q165.487 591.187 167.778 589.451 Q170.093 587.715 170.093 584.405 Q170.093 581.349 167.94 579.636 Q165.811 577.9 161.991 577.9 L157.964 577.9 L157.964 574.058 L162.177 574.058 Q165.626 574.058 167.454 572.692 Q169.283 571.303 169.283 568.71 Q169.283 566.048 167.385 564.636 Q165.51 563.201 161.991 563.201 Q160.07 563.201 157.871 563.618 Q155.672 564.035 153.033 564.914 L153.033 560.748 Q155.695 560.007 158.01 559.636 Q160.348 559.266 162.408 559.266 Q167.732 559.266 170.834 561.697 Q173.936 564.104 173.936 568.224 Q173.936 571.095 172.292 573.085 Q170.649 575.053 167.616 575.817 Z\" fill=\"#000000\" fill-rule=\"evenodd\" fill-opacity=\"1\" /><path clip-path=\"url(#clip840)\" d=\"M165.163 392.857 L153.357 411.306 L165.163 411.306 L165.163 392.857 M163.936 388.783 L169.815 388.783 L169.815 411.306 L174.746 411.306 L174.746 415.195 L169.815 415.195 L169.815 423.343 L165.163 423.343 L165.163 415.195 L149.561 415.195 L149.561 410.681 L163.936 388.783 Z\" fill=\"#000000\" fill-rule=\"evenodd\" fill-opacity=\"1\" /><path clip-path=\"url(#clip840)\" d=\"M153.843 217.676 L172.2 217.676 L172.2 221.611 L158.126 221.611 L158.126 230.083 Q159.144 229.736 160.163 229.574 Q161.181 229.389 162.2 229.389 Q167.987 229.389 171.366 232.56 Q174.746 235.731 174.746 241.148 Q174.746 246.726 171.274 249.828 Q167.802 252.907 161.482 252.907 Q159.306 252.907 157.038 252.537 Q154.792 252.166 152.385 251.426 L152.385 246.726 Q154.468 247.861 156.69 248.416 Q158.913 248.972 161.39 248.972 Q165.394 248.972 167.732 246.865 Q170.07 244.759 170.07 241.148 Q170.07 237.537 167.732 235.43 Q165.394 233.324 161.39 233.324 Q159.515 233.324 157.64 233.74 Q155.788 234.157 153.843 235.037 L153.843 217.676 Z\" fill=\"#000000\" fill-rule=\"evenodd\" fill-opacity=\"1\" /><path clip-path=\"url(#clip840)\" d=\"M67.3143 771.639 Q73.68 774.122 75.6216 776.477 Q77.5631 778.832 77.5631 782.779 L77.5631 787.458 L72.6615 787.458 L72.6615 784.02 Q72.6615 781.601 71.5157 780.265 Q70.3699 778.928 66.1048 777.305 L63.4312 776.254 L28.3562 790.673 L28.3562 784.466 L56.238 773.326 L28.3562 762.186 L28.3562 755.979 L67.3143 771.639 Z\" fill=\"#000000\" fill-rule=\"evenodd\" fill-opacity=\"1\" /><path clip-path=\"url(#clip840)\" d=\"M1040.01 9.54393 L1040.01 15.7418 L1032.88 15.7418 Q1028.87 15.7418 1027.29 17.3622 Q1025.75 18.9825 1025.75 23.1955 L1025.75 27.2059 L1038.03 27.2059 L1038.03 32.9987 L1025.75 32.9987 L1025.75 72.576 L1018.26 72.576 L1018.26 32.9987 L1011.13 32.9987 L1011.13 27.2059 L1018.26 27.2059 L1018.26 24.0462 Q1018.26 16.471 1021.78 13.0277 Q1025.31 9.54393 1032.96 9.54393 L1040.01 9.54393 Z\" fill=\"#000000\" fill-rule=\"evenodd\" fill-opacity=\"1\" /><path clip-path=\"url(#clip840)\" d=\"M1064.16 9.62495 Q1058.73 18.942 1056.1 28.0566 Q1053.46 37.1711 1053.46 46.5287 Q1053.46 55.8863 1056.1 65.0818 Q1058.77 74.2369 1064.16 83.5134 L1057.68 83.5134 Q1051.6 73.9938 1048.56 64.7983 Q1045.56 55.6027 1045.56 46.5287 Q1045.56 37.4952 1048.56 28.3401 Q1051.56 19.1851 1057.68 9.62495 L1064.16 9.62495 Z\" fill=\"#000000\" fill-rule=\"evenodd\" fill-opacity=\"1\" /><path clip-path=\"url(#clip840)\" d=\"M1116.33 27.2059 L1099.93 49.2833 L1117.18 72.576 L1108.39 72.576 L1095.19 54.752 L1081.98 72.576 L1073.19 72.576 L1090.81 48.8377 L1074.69 27.2059 L1083.48 27.2059 L1095.51 43.369 L1107.54 27.2059 L1116.33 27.2059 Z\" fill=\"#000000\" fill-rule=\"evenodd\" fill-opacity=\"1\" /><path clip-path=\"url(#clip840)\" d=\"M1126.54 9.62495 L1133.02 9.62495 Q1139.1 19.1851 1142.1 28.3401 Q1145.13 37.4952 1145.13 46.5287 Q1145.13 55.6027 1142.1 64.7983 Q1139.1 73.9938 1133.02 83.5134 L1126.54 83.5134 Q1131.93 74.2369 1134.56 65.0818 Q1137.23 55.8863 1137.23 46.5287 Q1137.23 37.1711 1134.56 28.0566 Q1131.93 18.942 1126.54 9.62495 Z\" fill=\"#000000\" fill-rule=\"evenodd\" fill-opacity=\"1\" /><path clip-path=\"url(#clip840)\" d=\"M1161.99 62.2867 L1170.53 62.2867 L1170.53 69.2543 L1163.89 82.2172 L1158.66 82.2172 L1161.99 69.2543 L1161.99 62.2867 Z\" fill=\"#000000\" fill-rule=\"evenodd\" fill-opacity=\"1\" /><path clip-path=\"url(#clip840)\" d=\"M1209.42 9.54393 L1209.42 15.7418 L1202.29 15.7418 Q1198.28 15.7418 1196.7 17.3622 Q1195.16 18.9825 1195.16 23.1955 L1195.16 27.2059 L1207.44 27.2059 L1207.44 32.9987 L1195.16 32.9987 L1195.16 72.576 L1187.67 72.576 L1187.67 32.9987 L1180.54 32.9987 L1180.54 27.2059 L1187.67 27.2059 L1187.67 24.0462 Q1187.67 16.471 1191.19 13.0277 Q1194.72 9.54393 1202.37 9.54393 L1209.42 9.54393 Z\" fill=\"#000000\" fill-rule=\"evenodd\" fill-opacity=\"1\" /><path clip-path=\"url(#clip840)\" d=\"M1222.71 12.096 L1222.71 34.5785 L1215.82 34.5785 L1215.82 12.096 L1222.71 12.096 Z\" fill=\"#000000\" fill-rule=\"evenodd\" fill-opacity=\"1\" /><path clip-path=\"url(#clip840)\" d=\"M1256.37 9.62495 Q1250.94 18.942 1248.31 28.0566 Q1245.68 37.1711 1245.68 46.5287 Q1245.68 55.8863 1248.31 65.0818 Q1250.98 74.2369 1256.37 83.5134 L1249.89 83.5134 Q1243.81 73.9938 1240.78 64.7983 Q1237.78 55.6027 1237.78 46.5287 Q1237.78 37.4952 1240.78 28.3401 Q1243.77 19.1851 1249.89 9.62495 L1256.37 9.62495 Z\" fill=\"#000000\" fill-rule=\"evenodd\" fill-opacity=\"1\" /><path clip-path=\"url(#clip840)\" d=\"M1308.55 27.2059 L1292.14 49.2833 L1309.4 72.576 L1300.61 72.576 L1287.4 54.752 L1274.2 72.576 L1265.41 72.576 L1283.03 48.8377 L1266.9 27.2059 L1275.69 27.2059 L1287.73 43.369 L1299.76 27.2059 L1308.55 27.2059 Z\" fill=\"#000000\" fill-rule=\"evenodd\" fill-opacity=\"1\" /><path clip-path=\"url(#clip840)\" d=\"M1318.76 9.62495 L1325.24 9.62495 Q1331.31 19.1851 1334.31 28.3401 Q1337.35 37.4952 1337.35 46.5287 Q1337.35 55.6027 1334.31 64.7983 Q1331.31 73.9938 1325.24 83.5134 L1318.76 83.5134 Q1324.14 74.2369 1326.78 65.0818 Q1329.45 55.8863 1329.45 46.5287 Q1329.45 37.1711 1326.78 28.0566 Q1324.14 18.942 1318.76 9.62495 Z\" fill=\"#000000\" fill-rule=\"evenodd\" fill-opacity=\"1\" /><path clip-path=\"url(#clip840)\" d=\"M1354.2 62.2867 L1362.75 62.2867 L1362.75 69.2543 L1356.11 82.2172 L1350.88 82.2172 L1354.2 69.2543 L1354.2 62.2867 Z\" fill=\"#000000\" fill-rule=\"evenodd\" fill-opacity=\"1\" /><path clip-path=\"url(#clip840)\" d=\"M1401.64 9.54393 L1401.64 15.7418 L1394.51 15.7418 Q1390.5 15.7418 1388.92 17.3622 Q1387.38 18.9825 1387.38 23.1955 L1387.38 27.2059 L1399.65 27.2059 L1399.65 32.9987 L1387.38 32.9987 L1387.38 72.576 L1379.88 72.576 L1379.88 32.9987 L1372.75 32.9987 L1372.75 27.2059 L1379.88 27.2059 L1379.88 24.0462 Q1379.88 16.471 1383.41 13.0277 Q1386.93 9.54393 1394.59 9.54393 L1401.64 9.54393 Z\" fill=\"#000000\" fill-rule=\"evenodd\" fill-opacity=\"1\" /><path clip-path=\"url(#clip840)\" d=\"M1414.92 12.096 L1414.92 34.5785 L1408.04 34.5785 L1408.04 12.096 L1414.92 12.096 Z\" fill=\"#000000\" fill-rule=\"evenodd\" fill-opacity=\"1\" /><path clip-path=\"url(#clip840)\" d=\"M1437.73 12.096 L1437.73 34.5785 L1430.84 34.5785 L1430.84 12.096 L1437.73 12.096 Z\" fill=\"#000000\" fill-rule=\"evenodd\" fill-opacity=\"1\" /><path clip-path=\"url(#clip840)\" d=\"M1471.39 9.62495 Q1465.97 18.942 1463.33 28.0566 Q1460.7 37.1711 1460.7 46.5287 Q1460.7 55.8863 1463.33 65.0818 Q1466.01 74.2369 1471.39 83.5134 L1464.91 83.5134 Q1458.84 73.9938 1455.8 64.7983 Q1452.8 55.6027 1452.8 46.5287 Q1452.8 37.4952 1455.8 28.3401 Q1458.8 19.1851 1464.91 9.62495 L1471.39 9.62495 Z\" fill=\"#000000\" fill-rule=\"evenodd\" fill-opacity=\"1\" /><path clip-path=\"url(#clip840)\" d=\"M1523.57 27.2059 L1507.16 49.2833 L1524.42 72.576 L1515.63 72.576 L1502.42 54.752 L1489.22 72.576 L1480.43 72.576 L1498.05 48.8377 L1481.93 27.2059 L1490.72 27.2059 L1502.75 43.369 L1514.78 27.2059 L1523.57 27.2059 Z\" fill=\"#000000\" fill-rule=\"evenodd\" fill-opacity=\"1\" /><path clip-path=\"url(#clip840)\" d=\"M1533.78 9.62495 L1540.26 9.62495 Q1546.34 19.1851 1549.33 28.3401 Q1552.37 37.4952 1552.37 46.5287 Q1552.37 55.6027 1549.33 64.7983 Q1546.34 73.9938 1540.26 83.5134 L1533.78 83.5134 Q1539.17 74.2369 1541.8 65.0818 Q1544.47 55.8863 1544.47 46.5287 Q1544.47 37.1711 1541.8 28.0566 Q1539.17 18.942 1533.78 9.62495 Z\" fill=\"#000000\" fill-rule=\"evenodd\" fill-opacity=\"1\" /><polyline clip-path=\"url(#clip842)\" style=\"stroke:#009af9; stroke-linecap:butt; stroke-linejoin:round; stroke-width:4; stroke-opacity:1; fill:none\" points=\"\n",
       "  271.369,701.965 272.042,702.261 272.716,702.557 273.39,702.852 274.063,703.148 274.737,703.444 275.41,703.74 276.084,704.035 276.758,704.331 277.431,704.626 \n",
       "  278.105,704.922 278.778,705.217 279.452,705.512 280.126,705.808 280.799,706.103 281.473,706.398 282.146,706.693 282.82,706.989 283.493,707.284 284.167,707.579 \n",
       "  284.841,707.874 285.514,708.169 286.188,708.463 286.861,708.758 287.535,709.053 288.209,709.348 288.882,709.643 289.556,709.937 290.229,710.232 290.903,710.526 \n",
       "  291.577,710.821 292.25,711.115 292.924,711.41 293.597,711.704 294.271,711.999 294.944,712.293 295.618,712.587 296.292,712.881 296.965,713.175 297.639,713.469 \n",
       "  298.312,713.763 298.986,714.057 299.66,714.351 300.333,714.645 301.007,714.939 301.68,715.233 302.354,715.527 303.028,715.82 303.701,716.114 304.375,716.408 \n",
       "  305.048,716.701 305.722,716.995 306.395,717.288 307.069,717.582 307.743,717.875 308.416,718.168 309.09,718.461 309.763,718.755 310.437,719.048 311.111,719.341 \n",
       "  311.784,719.634 312.458,719.927 313.131,720.22 313.805,720.513 314.479,720.806 315.152,721.099 315.826,721.391 316.499,721.684 317.173,721.977 317.846,722.269 \n",
       "  318.52,722.562 319.194,722.854 319.867,723.147 320.541,723.439 321.214,723.732 321.888,724.024 322.562,724.316 323.235,724.608 323.909,724.901 324.582,725.193 \n",
       "  325.256,725.485 325.929,725.777 326.603,726.069 327.277,726.361 327.95,726.653 328.624,726.944 329.297,727.236 329.971,727.528 330.645,727.82 331.318,728.111 \n",
       "  331.992,728.403 332.665,728.694 333.339,728.986 334.013,729.277 334.686,729.569 335.36,729.86 336.033,730.151 336.707,730.442 337.38,730.733 338.054,731.025 \n",
       "  338.728,731.316 339.401,731.607 340.075,731.898 340.748,732.188 341.422,732.479 342.096,732.77 342.769,733.061 343.443,733.352 344.116,733.642 344.79,733.933 \n",
       "  345.464,734.223 346.137,734.514 346.811,734.804 347.484,735.095 348.158,735.385 348.831,735.675 349.505,735.966 350.179,736.256 350.852,736.546 351.526,736.836 \n",
       "  352.199,737.126 352.873,737.416 353.547,737.706 354.22,737.996 354.894,738.285 355.567,738.575 356.241,738.865 356.915,739.155 357.588,739.444 358.262,739.734 \n",
       "  358.935,740.023 359.609,740.313 360.282,740.602 360.956,740.891 361.63,741.181 362.303,741.47 362.977,741.759 363.65,742.048 364.324,742.337 364.998,742.626 \n",
       "  365.671,742.915 366.345,743.204 367.018,743.493 367.692,743.782 368.366,744.071 369.039,744.359 369.713,744.648 370.386,744.937 371.06,745.225 371.733,745.514 \n",
       "  372.407,745.802 373.081,746.09 373.754,746.379 374.428,746.667 375.101,746.955 375.775,747.243 376.449,747.532 377.122,747.82 377.796,748.108 378.469,748.396 \n",
       "  379.143,748.683 379.817,748.971 380.49,749.259 381.164,749.547 381.837,749.834 382.511,750.122 383.184,750.41 383.858,750.697 384.532,750.985 385.205,751.272 \n",
       "  385.879,751.559 386.552,751.847 387.226,752.134 387.9,752.421 388.573,752.708 389.247,752.995 389.92,753.282 390.594,753.569 391.268,753.856 391.941,754.143 \n",
       "  392.615,754.43 393.288,754.717 393.962,755.003 394.635,755.29 395.309,755.576 395.983,755.863 396.656,756.149 397.33,756.436 398.003,756.722 398.677,757.008 \n",
       "  399.351,757.295 400.024,757.581 400.698,757.867 401.371,758.153 402.045,758.439 402.719,758.725 403.392,759.011 404.066,759.297 404.739,759.583 405.413,759.868 \n",
       "  406.086,760.154 406.76,760.44 407.434,760.725 408.107,761.011 408.781,761.296 409.454,761.582 410.128,761.867 410.802,762.152 411.475,762.437 412.149,762.723 \n",
       "  412.822,763.008 413.496,763.293 414.17,763.578 414.843,763.863 415.517,764.147 416.19,764.432 416.864,764.717 417.537,765.002 418.211,765.286 418.885,765.571 \n",
       "  419.558,765.856 420.232,766.14 420.905,766.424 421.579,766.709 422.253,766.993 422.926,767.277 423.6,767.562 424.273,767.846 424.947,768.13 425.621,768.414 \n",
       "  426.294,768.698 426.968,768.982 427.641,769.265 428.315,769.549 428.988,769.833 429.662,770.117 430.336,770.4 431.009,770.684 431.683,770.967 432.356,771.251 \n",
       "  433.03,771.534 433.704,771.817 434.377,772.101 435.051,772.384 435.724,772.667 436.398,772.95 437.072,773.233 437.745,773.516 438.419,773.799 439.092,774.082 \n",
       "  439.766,774.364 440.439,774.647 441.113,774.93 441.787,775.212 442.46,775.495 443.134,775.777 443.807,776.06 444.481,776.342 445.155,776.625 445.828,776.907 \n",
       "  446.502,777.189 447.175,777.471 447.849,777.753 448.523,778.035 449.196,778.317 449.87,778.599 450.543,778.881 451.217,779.163 451.89,779.444 452.564,779.726 \n",
       "  453.238,780.007 453.911,780.289 454.585,780.57 455.258,780.852 455.932,781.133 456.606,781.414 457.279,781.696 457.953,781.977 458.626,782.258 459.3,782.539 \n",
       "  459.974,782.82 460.647,783.101 461.321,783.382 461.994,783.662 462.668,783.943 463.341,784.224 464.015,784.504 464.689,784.785 465.362,785.065 466.036,785.346 \n",
       "  466.709,785.626 467.383,785.906 468.057,786.187 468.73,786.467 469.404,786.747 470.077,787.027 470.751,787.307 471.425,787.587 472.098,787.867 472.772,788.147 \n",
       "  473.445,788.426 474.119,788.706 474.792,788.986 475.466,789.265 476.14,789.545 476.813,789.824 477.487,790.103 478.16,790.383 478.834,790.662 479.508,790.941 \n",
       "  480.181,791.22 480.855,791.499 481.528,791.778 482.202,792.057 482.876,792.336 483.549,792.615 484.223,792.893 484.896,793.172 485.57,793.451 486.243,793.729 \n",
       "  486.917,794.008 487.591,794.286 488.264,794.564 488.938,794.843 489.611,795.121 490.285,795.399 490.959,795.677 491.632,795.955 492.306,796.233 492.979,796.511 \n",
       "  493.653,796.789 494.327,797.067 495,797.344 495.674,797.622 496.347,797.899 497.021,798.177 497.694,798.454 498.368,798.732 499.042,799.009 499.715,799.286 \n",
       "  500.389,799.563 501.062,799.841 501.736,800.118 502.41,800.395 503.083,800.672 503.757,800.948 504.43,801.225 505.104,801.502 505.778,801.779 506.451,802.055 \n",
       "  507.125,802.332 507.798,802.608 508.472,802.885 509.145,803.161 509.819,803.437 510.493,803.713 511.166,803.989 511.84,804.266 512.513,804.542 513.187,804.817 \n",
       "  513.861,805.093 514.534,805.369 515.208,805.645 515.881,805.921 516.555,806.196 517.229,806.472 517.902,806.747 518.576,807.023 519.249,807.298 519.923,807.573 \n",
       "  520.596,807.848 521.27,808.123 521.944,808.399 522.617,808.674 523.291,808.948 523.964,809.223 524.638,809.498 525.312,809.773 525.985,810.047 526.659,810.322 \n",
       "  527.332,810.597 528.006,810.871 528.679,811.145 529.353,811.42 530.027,811.694 530.7,811.968 531.374,812.242 532.047,812.516 532.721,812.79 533.395,813.064 \n",
       "  534.068,813.338 534.742,813.612 535.415,813.886 536.089,814.159 536.763,814.433 537.436,814.706 538.11,814.98 538.783,815.253 539.457,815.526 540.13,815.8 \n",
       "  540.804,816.073 541.478,816.346 542.151,816.619 542.825,816.892 543.498,817.165 544.172,817.438 544.846,817.71 545.519,817.983 546.193,818.256 546.866,818.528 \n",
       "  547.54,818.801 548.214,819.073 548.887,819.345 549.561,819.618 550.234,819.89 550.908,820.162 551.581,820.434 552.255,820.706 552.929,820.978 553.602,821.25 \n",
       "  554.276,821.521 554.949,821.793 555.623,822.065 556.297,822.336 556.97,822.608 557.644,822.879 558.317,823.15 558.991,823.422 559.665,823.693 560.338,823.964 \n",
       "  561.012,824.235 561.685,824.506 562.359,824.777 563.032,825.048 563.706,825.319 564.38,825.589 565.053,825.86 565.727,826.13 566.4,826.401 567.074,826.671 \n",
       "  567.748,826.942 568.421,827.212 569.095,827.482 569.768,827.752 570.442,828.022 571.116,828.292 571.789,828.562 572.463,828.832 573.136,829.102 573.81,829.372 \n",
       "  574.483,829.641 575.157,829.911 575.831,830.18 576.504,830.45 577.178,830.719 577.851,830.988 578.525,831.257 579.199,831.526 579.872,831.795 580.546,832.064 \n",
       "  581.219,832.333 581.893,832.602 582.567,832.871 583.24,833.14 583.914,833.408 584.587,833.677 585.261,833.945 585.934,834.213 586.608,834.482 587.282,834.75 \n",
       "  587.955,835.018 588.629,835.286 589.302,835.554 589.976,835.822 590.65,836.09 591.323,836.358 591.997,836.625 592.67,836.893 593.344,837.161 594.018,837.428 \n",
       "  594.691,837.696 595.365,837.963 596.038,838.23 596.712,838.497 597.385,838.764 598.059,839.031 598.733,839.298 599.406,839.565 600.08,839.832 600.753,840.099 \n",
       "  601.427,840.365 602.101,840.632 602.774,840.899 603.448,841.165 604.121,841.431 604.795,841.698 605.469,841.964 606.142,842.23 606.816,842.496 607.489,842.762 \n",
       "  608.163,843.028 608.836,843.294 609.51,843.559 610.184,843.825 610.857,844.091 611.531,844.356 612.204,844.622 612.878,844.887 613.552,845.152 614.225,845.417 \n",
       "  614.899,845.683 615.572,845.948 616.246,846.213 616.92,846.478 617.593,846.742 618.267,847.007 618.94,847.272 619.614,847.536 620.287,847.801 620.961,848.065 \n",
       "  621.635,848.33 622.308,848.594 622.982,848.858 623.655,849.122 624.329,849.386 625.003,849.65 625.676,849.914 626.35,850.178 627.023,850.442 627.697,850.705 \n",
       "  628.371,850.969 629.044,851.232 629.718,851.496 630.391,851.759 631.065,852.022 631.738,852.286 632.412,852.549 633.086,852.812 633.759,853.075 634.433,853.337 \n",
       "  635.106,853.6 635.78,853.863 636.454,854.126 637.127,854.388 637.801,854.651 638.474,854.913 639.148,855.175 639.822,855.437 640.495,855.7 641.169,855.962 \n",
       "  641.842,856.224 642.516,856.486 643.189,856.747 643.863,857.009 644.537,857.271 645.21,857.532 645.884,857.794 646.557,858.055 647.231,858.317 647.905,858.578 \n",
       "  648.578,858.839 649.252,859.1 649.925,859.361 650.599,859.622 651.273,859.883 651.946,860.144 652.62,860.404 653.293,860.665 653.967,860.926 654.64,861.186 \n",
       "  655.314,861.446 655.988,861.707 656.661,861.967 657.335,862.227 658.008,862.487 658.682,862.747 659.356,863.007 660.029,863.267 660.703,863.526 661.376,863.786 \n",
       "  662.05,864.045 662.724,864.305 663.397,864.564 664.071,864.824 664.744,865.083 665.418,865.342 666.091,865.601 666.765,865.86 667.439,866.119 668.112,866.378 \n",
       "  668.786,866.636 669.459,866.895 670.133,867.153 670.807,867.412 671.48,867.67 672.154,867.929 672.827,868.187 673.501,868.445 674.175,868.703 674.848,868.961 \n",
       "  675.522,869.219 676.195,869.476 676.869,869.734 677.542,869.992 678.216,870.249 678.89,870.507 679.563,870.764 680.237,871.021 680.91,871.279 681.584,871.536 \n",
       "  682.258,871.793 682.931,872.05 683.605,872.307 684.278,872.563 684.952,872.82 685.626,873.077 686.299,873.333 686.973,873.589 687.646,873.846 688.32,874.102 \n",
       "  688.993,874.358 689.667,874.614 690.341,874.87 691.014,875.126 691.688,875.382 692.361,875.638 693.035,875.893 693.709,876.149 694.382,876.404 695.056,876.66 \n",
       "  695.729,876.915 696.403,877.17 697.077,877.425 697.75,877.68 698.424,877.935 699.097,878.19 699.771,878.445 700.444,878.7 701.118,878.954 701.792,879.209 \n",
       "  702.465,879.463 703.139,879.718 703.812,879.972 704.486,880.226 705.16,880.48 705.833,880.734 706.507,880.988 707.18,881.242 707.854,881.496 708.528,881.749 \n",
       "  709.201,882.003 709.875,882.256 710.548,882.51 711.222,882.763 711.895,883.016 712.569,883.269 713.243,883.522 713.916,883.775 714.59,884.028 715.263,884.281 \n",
       "  715.937,884.533 716.611,884.786 717.284,885.038 717.958,885.291 718.631,885.543 719.305,885.795 719.979,886.047 720.652,886.299 721.326,886.551 721.999,886.803 \n",
       "  722.673,887.055 723.346,887.307 724.02,887.558 724.694,887.81 725.367,888.061 726.041,888.312 726.714,888.563 727.388,888.815 728.062,889.066 728.735,889.317 \n",
       "  729.409,889.567 730.082,889.818 730.756,890.069 731.429,890.319 732.103,890.57 732.777,890.82 733.45,891.071 734.124,891.321 734.797,891.571 735.471,891.821 \n",
       "  736.145,892.071 736.818,892.321 737.492,892.57 738.165,892.82 738.839,893.07 739.513,893.319 740.186,893.568 740.86,893.818 741.533,894.067 742.207,894.316 \n",
       "  742.88,894.565 743.554,894.814 744.228,895.063 744.901,895.311 745.575,895.56 746.248,895.809 746.922,896.057 747.596,896.305 748.269,896.554 748.943,896.802 \n",
       "  749.616,897.05 750.29,897.298 750.964,897.546 751.637,897.793 752.311,898.041 752.984,898.289 753.658,898.536 754.331,898.784 755.005,899.031 755.679,899.278 \n",
       "  756.352,899.525 757.026,899.772 757.699,900.019 758.373,900.266 759.047,900.513 759.72,900.759 760.394,901.006 761.067,901.252 761.741,901.499 762.415,901.745 \n",
       "  763.088,901.991 763.762,902.237 764.435,902.483 765.109,902.729 765.782,902.975 766.456,903.22 767.13,903.466 767.803,903.711 768.477,903.957 769.15,904.202 \n",
       "  769.824,904.447 770.498,904.692 771.171,904.937 771.845,905.182 772.518,905.427 773.192,905.672 773.866,905.916 774.539,906.161 775.213,906.405 775.886,906.65 \n",
       "  776.56,906.894 777.233,907.138 777.907,907.382 778.581,907.626 779.254,907.87 779.928,908.114 780.601,908.357 781.275,908.601 781.949,908.844 782.622,909.087 \n",
       "  783.296,909.331 783.969,909.574 784.643,909.817 785.317,910.06 785.99,910.303 786.664,910.545 787.337,910.788 788.011,911.031 788.684,911.273 789.358,911.515 \n",
       "  790.032,911.758 790.705,912 791.379,912.242 792.052,912.484 792.726,912.726 793.4,912.967 794.073,913.209 794.747,913.45 795.42,913.692 796.094,913.933 \n",
       "  796.768,914.174 797.441,914.416 798.115,914.657 798.788,914.898 799.462,915.138 800.135,915.379 800.809,915.62 801.483,915.86 802.156,916.101 802.83,916.341 \n",
       "  803.503,916.581 804.177,916.821 804.851,917.061 805.524,917.301 806.198,917.541 806.871,917.781 807.545,918.02 808.219,918.26 808.892,918.499 809.566,918.739 \n",
       "  810.239,918.978 810.913,919.217 811.586,919.456 812.26,919.695 812.934,919.933 813.607,920.172 814.281,920.411 814.954,920.649 815.628,920.888 816.302,921.126 \n",
       "  816.975,921.364 817.649,921.602 818.322,921.84 818.996,922.078 819.67,922.316 820.343,922.553 821.017,922.791 821.69,923.028 822.364,923.266 823.037,923.503 \n",
       "  823.711,923.74 824.385,923.977 825.058,924.214 825.732,924.451 826.405,924.687 827.079,924.924 827.753,925.16 828.426,925.397 829.1,925.633 829.773,925.869 \n",
       "  830.447,926.105 831.121,926.341 831.794,926.577 832.468,926.813 833.141,927.048 833.815,927.284 834.488,927.519 835.162,927.755 835.836,927.99 836.509,928.225 \n",
       "  837.183,928.46 837.856,928.695 838.53,928.93 839.204,929.164 839.877,929.399 840.551,929.633 841.224,929.868 841.898,930.102 842.572,930.336 843.245,930.57 \n",
       "  843.919,930.804 844.592,931.038 845.266,931.271 845.939,931.505 846.613,931.738 847.287,931.972 847.96,932.205 848.634,932.438 849.307,932.671 849.981,932.904 \n",
       "  850.655,933.137 851.328,933.37 852.002,933.602 852.675,933.835 853.349,934.067 854.023,934.299 854.696,934.532 855.37,934.764 856.043,934.996 856.717,935.227 \n",
       "  857.39,935.459 858.064,935.691 858.738,935.922 859.411,936.154 860.085,936.385 860.758,936.616 861.432,936.847 862.106,937.078 862.779,937.309 863.453,937.54 \n",
       "  864.126,937.77 864.8,938.001 865.474,938.231 866.147,938.461 866.821,938.692 867.494,938.922 868.168,939.152 868.841,939.381 869.515,939.611 870.189,939.841 \n",
       "  870.862,940.07 871.536,940.3 872.209,940.529 872.883,940.758 873.557,940.987 874.23,941.216 874.904,941.445 875.577,941.674 876.251,941.902 876.925,942.131 \n",
       "  877.598,942.359 878.272,942.587 878.945,942.815 879.619,943.043 880.292,943.271 880.966,943.499 881.64,943.727 882.313,943.954 882.987,944.182 883.66,944.409 \n",
       "  884.334,944.636 885.008,944.863 885.681,945.09 886.355,945.317 887.028,945.544 887.702,945.771 888.376,945.997 889.049,946.224 889.723,946.45 890.396,946.676 \n",
       "  891.07,946.902 891.743,947.128 892.417,947.354 893.091,947.58 893.764,947.805 894.438,948.031 895.111,948.256 895.785,948.481 896.459,948.706 897.132,948.931 \n",
       "  897.806,949.156 898.479,949.381 899.153,949.606 899.827,949.83 900.5,950.055 901.174,950.279 901.847,950.503 902.521,950.727 903.194,950.951 903.868,951.175 \n",
       "  904.542,951.399 905.215,951.622 905.889,951.846 906.562,952.069 907.236,952.292 907.91,952.515 908.583,952.738 909.257,952.961 909.93,953.184 910.604,953.407 \n",
       "  911.278,953.629 911.951,953.852 912.625,954.074 913.298,954.296 913.972,954.518 914.645,954.74 915.319,954.962 915.993,955.184 916.666,955.405 917.34,955.627 \n",
       "  918.013,955.848 918.687,956.069 919.361,956.29 920.034,956.511 920.708,956.732 921.381,956.953 922.055,957.173 922.729,957.394 923.402,957.614 924.076,957.834 \n",
       "  924.749,958.054 925.423,958.274 926.096,958.494 926.77,958.714 927.444,958.934 928.117,959.153 928.791,959.372 929.464,959.592 930.138,959.811 930.812,960.03 \n",
       "  931.485,960.249 932.159,960.467 932.832,960.686 933.506,960.905 934.179,961.123 934.853,961.341 935.527,961.559 936.2,961.777 936.874,961.995 937.547,962.213 \n",
       "  938.221,962.431 938.895,962.648 939.568,962.866 940.242,963.083 940.915,963.3 941.589,963.517 942.263,963.734 942.936,963.951 943.61,964.167 944.283,964.384 \n",
       "  944.957,964.6 945.63,964.816 946.304,965.033 946.978,965.249 947.651,965.464 948.325,965.68 948.998,965.896 949.672,966.111 950.346,966.327 951.019,966.542 \n",
       "  951.693,966.757 952.366,966.972 953.04,967.187 953.714,967.402 954.387,967.616 955.061,967.831 955.734,968.045 956.408,968.259 957.081,968.473 957.755,968.687 \n",
       "  958.429,968.901 959.102,969.115 959.776,969.328 960.449,969.542 961.123,969.755 961.797,969.968 962.47,970.182 963.144,970.394 963.817,970.607 964.491,970.82 \n",
       "  965.165,971.033 965.838,971.245 966.512,971.457 967.185,971.669 967.859,971.881 968.532,972.093 969.206,972.305 969.88,972.517 970.553,972.728 971.227,972.94 \n",
       "  971.9,973.151 972.574,973.362 973.248,973.573 973.921,973.784 974.595,973.995 975.268,974.205 975.942,974.416 976.616,974.626 977.289,974.836 977.963,975.046 \n",
       "  978.636,975.256 979.31,975.466 979.983,975.676 980.657,975.885 981.331,976.095 982.004,976.304 982.678,976.513 983.351,976.722 984.025,976.931 984.699,977.14 \n",
       "  985.372,977.348 986.046,977.557 986.719,977.765 987.393,977.973 988.067,978.181 988.74,978.389 989.414,978.597 990.087,978.805 990.761,979.012 991.434,979.22 \n",
       "  992.108,979.427 992.782,979.634 993.455,979.841 994.129,980.048 994.802,980.255 995.476,980.461 996.15,980.668 996.823,980.874 997.497,981.08 998.17,981.286 \n",
       "  998.844,981.492 999.518,981.698 1000.19,981.903 1000.86,982.109 1001.54,982.314 1002.21,982.519 1002.89,982.725 1003.56,982.93 1004.23,983.134 1004.91,983.339 \n",
       "  1005.58,983.544 1006.25,983.748 1006.93,983.952 1007.6,984.156 1008.27,984.36 1008.95,984.564 1009.62,984.768 1010.29,984.971 1010.97,985.175 1011.64,985.378 \n",
       "  1012.32,985.581 1012.99,985.784 1013.66,985.987 1014.34,986.19 1015.01,986.392 1015.68,986.595 1016.36,986.797 1017.03,986.999 1017.7,987.201 1018.38,987.403 \n",
       "  1019.05,987.605 1019.73,987.807 1020.4,988.008 1021.07,988.21 1021.75,988.411 1022.42,988.612 1023.09,988.813 1023.77,989.013 1024.44,989.214 1025.11,989.415 \n",
       "  1025.79,989.615 1026.46,989.815 1027.13,990.015 1027.81,990.215 1028.48,990.415 1029.16,990.614 1029.83,990.814 1030.5,991.013 1031.18,991.212 1031.85,991.412 \n",
       "  1032.52,991.61 1033.2,991.809 1033.87,992.008 1034.54,992.206 1035.22,992.405 1035.89,992.603 1036.56,992.801 1037.24,992.999 1037.91,993.197 1038.59,993.394 \n",
       "  1039.26,993.592 1039.93,993.789 1040.61,993.986 1041.28,994.183 1041.95,994.38 1042.63,994.577 1043.3,994.774 1043.97,994.97 1044.65,995.166 1045.32,995.362 \n",
       "  1046,995.558 1046.67,995.754 1047.34,995.95 1048.02,996.146 1048.69,996.341 1049.36,996.536 1050.04,996.732 1050.71,996.926 1051.38,997.121 1052.06,997.316 \n",
       "  1052.73,997.511 1053.4,997.705 1054.08,997.899 1054.75,998.093 1055.43,998.287 1056.1,998.481 1056.77,998.675 1057.45,998.868 1058.12,999.062 1058.79,999.255 \n",
       "  1059.47,999.448 1060.14,999.641 1060.81,999.834 1061.49,1000.03 1062.16,1000.22 1062.83,1000.41 1063.51,1000.6 1064.18,1000.8 1064.86,1000.99 1065.53,1001.18 \n",
       "  1066.2,1001.37 1066.88,1001.56 1067.55,1001.75 1068.22,1001.94 1068.9,1002.14 1069.57,1002.33 1070.24,1002.52 1070.92,1002.71 1071.59,1002.9 1072.27,1003.09 \n",
       "  1072.94,1003.28 1073.61,1003.47 1074.29,1003.66 1074.96,1003.85 1075.63,1004.04 1076.31,1004.23 1076.98,1004.41 1077.65,1004.6 1078.33,1004.79 1079,1004.98 \n",
       "  1079.67,1005.17 1080.35,1005.36 1081.02,1005.55 1081.7,1005.73 1082.37,1005.92 1083.04,1006.11 1083.72,1006.3 1084.39,1006.49 1085.06,1006.67 1085.74,1006.86 \n",
       "  1086.41,1007.05 1087.08,1007.23 1087.76,1007.42 1088.43,1007.61 1089.1,1007.79 1089.78,1007.98 1090.45,1008.17 1091.13,1008.35 1091.8,1008.54 1092.47,1008.72 \n",
       "  1093.15,1008.91 1093.82,1009.09 1094.49,1009.28 1095.17,1009.46 1095.84,1009.65 1096.51,1009.83 1097.19,1010.02 1097.86,1010.2 1098.53,1010.39 1099.21,1010.57 \n",
       "  1099.88,1010.75 1100.56,1010.94 1101.23,1011.12 1101.9,1011.3 1102.58,1011.49 1103.25,1011.67 1103.92,1011.85 1104.6,1012.04 1105.27,1012.22 1105.94,1012.4 \n",
       "  1106.62,1012.58 1107.29,1012.77 1107.97,1012.95 1108.64,1013.13 1109.31,1013.31 1109.99,1013.49 1110.66,1013.67 1111.33,1013.85 1112.01,1014.04 1112.68,1014.22 \n",
       "  1113.35,1014.4 1114.03,1014.58 1114.7,1014.76 1115.37,1014.94 1116.05,1015.12 1116.72,1015.3 1117.4,1015.48 1118.07,1015.66 1118.74,1015.84 1119.42,1016.02 \n",
       "  1120.09,1016.19 1120.76,1016.37 1121.44,1016.55 1122.11,1016.73 1122.78,1016.91 1123.46,1017.09 1124.13,1017.27 1124.8,1017.44 1125.48,1017.62 1126.15,1017.8 \n",
       "  1126.83,1017.98 1127.5,1018.15 1128.17,1018.33 1128.85,1018.51 1129.52,1018.68 1130.19,1018.86 1130.87,1019.04 1131.54,1019.21 1132.21,1019.39 1132.89,1019.56 \n",
       "  1133.56,1019.74 1134.24,1019.92 1134.91,1020.09 1135.58,1020.27 1136.26,1020.44 1136.93,1020.62 1137.6,1020.79 1138.28,1020.97 1138.95,1021.14 1139.62,1021.31 \n",
       "  1140.3,1021.49 1140.97,1021.66 1141.64,1021.84 1142.32,1022.01 1142.99,1022.18 1143.67,1022.36 1144.34,1022.53 1145.01,1022.7 1145.69,1022.87 1146.36,1023.05 \n",
       "  1147.03,1023.22 1147.71,1023.39 1148.38,1023.56 1149.05,1023.74 1149.73,1023.91 1150.4,1024.08 1151.07,1024.25 1151.75,1024.42 1152.42,1024.59 1153.1,1024.76 \n",
       "  1153.77,1024.93 1154.44,1025.1 1155.12,1025.27 1155.79,1025.44 1156.46,1025.61 1157.14,1025.78 1157.81,1025.95 1158.48,1026.12 1159.16,1026.29 1159.83,1026.46 \n",
       "  1160.51,1026.63 1161.18,1026.8 1161.85,1026.97 1162.53,1027.14 1163.2,1027.3 1163.87,1027.47 1164.55,1027.64 1165.22,1027.81 1165.89,1027.98 1166.57,1028.14 \n",
       "  1167.24,1028.31 1167.91,1028.48 1168.59,1028.64 1169.26,1028.81 1169.94,1028.98 1170.61,1029.14 1171.28,1029.31 1171.96,1029.48 1172.63,1029.64 1173.3,1029.81 \n",
       "  1173.98,1029.97 1174.65,1030.14 1175.32,1030.3 1176,1030.47 1176.67,1030.63 1177.34,1030.8 1178.02,1030.96 1178.69,1031.13 1179.37,1031.29 1180.04,1031.45 \n",
       "  1180.71,1031.62 1181.39,1031.78 1182.06,1031.94 1182.73,1032.11 1183.41,1032.27 1184.08,1032.43 1184.75,1032.6 1185.43,1032.76 1186.1,1032.92 1186.78,1033.08 \n",
       "  1187.45,1033.24 1188.12,1033.41 1188.8,1033.57 1189.47,1033.73 1190.14,1033.89 1190.82,1034.05 1191.49,1034.21 1192.16,1034.37 1192.84,1034.53 1193.51,1034.69 \n",
       "  1194.18,1034.85 1194.86,1035.01 1195.53,1035.17 1196.21,1035.33 1196.88,1035.49 1197.55,1035.65 1198.23,1035.81 1198.9,1035.97 1199.57,1036.13 1200.25,1036.28 \n",
       "  1200.92,1036.44 1201.59,1036.6 1202.27,1036.76 1202.94,1036.92 1203.61,1037.07 1204.29,1037.23 1204.96,1037.39 1205.64,1037.55 1206.31,1037.7 1206.98,1037.86 \n",
       "  1207.66,1038.02 1208.33,1038.17 1209,1038.33 1209.68,1038.48 1210.35,1038.64 1211.02,1038.79 1211.7,1038.95 1212.37,1039.1 1213.04,1039.26 1213.72,1039.41 \n",
       "  1214.39,1039.57 1215.07,1039.72 1215.74,1039.88 1216.41,1040.03 1217.09,1040.18 1217.76,1040.34 1218.43,1040.49 1219.11,1040.64 1219.78,1040.8 1220.45,1040.95 \n",
       "  1221.13,1041.1 1221.8,1041.26 1222.48,1041.41 1223.15,1041.56 1223.82,1041.71 1224.5,1041.86 1225.17,1042.01 1225.84,1042.17 1226.52,1042.32 1227.19,1042.47 \n",
       "  1227.86,1042.62 1228.54,1042.77 1229.21,1042.92 1229.88,1043.07 1230.56,1043.22 1231.23,1043.37 1231.91,1043.52 1232.58,1043.67 1233.25,1043.82 1233.93,1043.97 \n",
       "  1234.6,1044.12 1235.27,1044.26 1235.95,1044.41 1236.62,1044.56 1237.29,1044.71 1237.97,1044.86 1238.64,1045 1239.31,1045.15 1239.99,1045.3 1240.66,1045.45 \n",
       "  1241.34,1045.59 1242.01,1045.74 1242.68,1045.89 1243.36,1046.03 1244.03,1046.18 1244.7,1046.32 1245.38,1046.47 1246.05,1046.61 1246.72,1046.76 1247.4,1046.91 \n",
       "  1248.07,1047.05 1248.75,1047.19 1249.42,1047.34 1250.09,1047.48 1250.77,1047.63 1251.44,1047.77 1252.11,1047.92 1252.79,1048.06 1253.46,1048.2 1254.13,1048.34 \n",
       "  1254.81,1048.49 1255.48,1048.63 1256.15,1048.77 1256.83,1048.92 1257.5,1049.06 1258.18,1049.2 1258.85,1049.34 1259.52,1049.48 1260.2,1049.62 1260.87,1049.76 \n",
       "  1261.54,1049.91 1262.22,1050.05 1262.89,1050.19 1263.56,1050.33 1264.24,1050.47 1264.91,1050.61 1265.58,1050.75 1266.26,1050.89 1266.93,1051.03 1267.61,1051.16 \n",
       "  1268.28,1051.3 1268.95,1051.44 1269.63,1051.58 1270.3,1051.72 1270.97,1051.86 1271.65,1051.99 1272.32,1052.13 1272.99,1052.27 1273.67,1052.41 1274.34,1052.54 \n",
       "  1275.02,1052.68 1275.69,1052.82 1276.36,1052.95 1277.04,1053.09 1277.71,1053.23 1278.38,1053.36 1279.06,1053.5 1279.73,1053.63 1280.4,1053.77 1281.08,1053.9 \n",
       "  1281.75,1054.04 1282.42,1054.17 1283.1,1054.31 1283.77,1054.44 1284.45,1054.57 1285.12,1054.71 1285.79,1054.84 1286.47,1054.98 1287.14,1055.11 1287.81,1055.24 \n",
       "  1288.49,1055.37 1289.16,1055.51 1289.83,1055.64 1290.51,1055.77 1291.18,1055.9 1291.85,1056.03 1292.53,1056.17 1293.2,1056.3 1293.88,1056.43 1294.55,1056.56 \n",
       "  1295.22,1056.69 1295.9,1056.82 1296.57,1056.95 1297.24,1057.08 1297.92,1057.21 1298.59,1057.34 1299.26,1057.47 1299.94,1057.6 1300.61,1057.73 1301.28,1057.85 \n",
       "  1301.96,1057.98 1302.63,1058.11 1303.31,1058.24 1303.98,1058.37 1304.65,1058.49 1305.33,1058.62 1306,1058.75 1306.67,1058.88 1307.35,1059 1308.02,1059.13 \n",
       "  1308.69,1059.26 1309.37,1059.38 1310.04,1059.51 1310.72,1059.63 1311.39,1059.76 1312.06,1059.88 1312.74,1060.01 1313.41,1060.13 1314.08,1060.26 1314.76,1060.38 \n",
       "  1315.43,1060.51 1316.1,1060.63 1316.78,1060.75 1317.45,1060.88 1318.12,1061 1318.8,1061.12 1319.47,1061.25 1320.15,1061.37 1320.82,1061.49 1321.49,1061.61 \n",
       "  1322.17,1061.74 1322.84,1061.86 1323.51,1061.98 1324.19,1062.1 1324.86,1062.22 1325.53,1062.34 1326.21,1062.46 1326.88,1062.58 1327.55,1062.7 1328.23,1062.82 \n",
       "  1328.9,1062.94 1329.58,1063.06 1330.25,1063.18 1330.92,1063.3 1331.6,1063.42 1332.27,1063.54 1332.94,1063.66 1333.62,1063.77 1334.29,1063.89 1334.96,1064.01 \n",
       "  1335.64,1064.13 1336.31,1064.24 1336.99,1064.36 1337.66,1064.48 1338.33,1064.6 1339.01,1064.71 1339.68,1064.83 1340.35,1064.94 1341.03,1065.06 1341.7,1065.17 \n",
       "  1342.37,1065.29 1343.05,1065.4 1343.72,1065.52 1344.39,1065.63 1345.07,1065.75 1345.74,1065.86 1346.42,1065.98 1347.09,1066.09 1347.76,1066.2 1348.44,1066.32 \n",
       "  1349.11,1066.43 1349.78,1066.54 1350.46,1066.65 1351.13,1066.77 1351.8,1066.88 1352.48,1066.99 1353.15,1067.1 1353.82,1067.21 1354.5,1067.32 1355.17,1067.44 \n",
       "  1355.85,1067.55 1356.52,1067.66 1357.19,1067.77 1357.87,1067.88 1358.54,1067.99 1359.21,1068.1 1359.89,1068.21 1360.56,1068.31 1361.23,1068.42 1361.91,1068.53 \n",
       "  1362.58,1068.64 1363.26,1068.75 1363.93,1068.86 1364.6,1068.96 1365.28,1069.07 1365.95,1069.18 1366.62,1069.28 1367.3,1069.39 1367.97,1069.5 1368.64,1069.6 \n",
       "  1369.32,1069.71 1369.99,1069.82 1370.66,1069.92 1371.34,1070.03 1372.01,1070.13 1372.69,1070.24 1373.36,1070.34 1374.03,1070.44 1374.71,1070.55 1375.38,1070.65 \n",
       "  1376.05,1070.76 1376.73,1070.86 1377.4,1070.96 1378.07,1071.07 1378.75,1071.17 1379.42,1071.27 1380.09,1071.37 1380.77,1071.47 1381.44,1071.58 1382.12,1071.68 \n",
       "  1382.79,1071.78 1383.46,1071.88 1384.14,1071.98 1384.81,1072.08 1385.48,1072.18 1386.16,1072.28 1386.83,1072.38 1387.5,1072.48 1388.18,1072.58 1388.85,1072.68 \n",
       "  1389.53,1072.78 1390.2,1072.88 1390.87,1072.97 1391.55,1073.07 1392.22,1073.17 1392.89,1073.27 1393.57,1073.36 1394.24,1073.46 1394.91,1073.56 1395.59,1073.66 \n",
       "  1396.26,1073.75 1396.93,1073.85 1397.61,1073.94 1398.28,1074.04 1398.96,1074.13 1399.63,1074.23 1400.3,1074.32 1400.98,1074.42 1401.65,1074.51 1402.32,1074.61 \n",
       "  1403,1074.7 1403.67,1074.79 1404.34,1074.89 1405.02,1074.98 1405.69,1075.07 1406.36,1075.17 1407.04,1075.26 1407.71,1075.35 1408.39,1075.44 1409.06,1075.53 \n",
       "  1409.73,1075.63 1410.41,1075.72 1411.08,1075.81 1411.75,1075.9 1412.43,1075.99 1413.1,1076.08 1413.77,1076.17 1414.45,1076.26 1415.12,1076.35 1415.79,1076.44 \n",
       "  1416.47,1076.53 1417.14,1076.61 1417.82,1076.7 1418.49,1076.79 1419.16,1076.88 1419.84,1076.97 1420.51,1077.05 1421.18,1077.14 1421.86,1077.23 1422.53,1077.31 \n",
       "  1423.2,1077.4 1423.88,1077.49 1424.55,1077.57 1425.23,1077.66 1425.9,1077.74 1426.57,1077.83 1427.25,1077.91 1427.92,1078 1428.59,1078.08 1429.27,1078.16 \n",
       "  1429.94,1078.25 1430.61,1078.33 1431.29,1078.41 1431.96,1078.5 1432.63,1078.58 1433.31,1078.66 1433.98,1078.75 1434.66,1078.83 1435.33,1078.91 1436,1078.99 \n",
       "  1436.68,1079.07 1437.35,1079.15 1438.02,1079.23 1438.7,1079.31 1439.37,1079.39 1440.04,1079.47 1440.72,1079.55 1441.39,1079.63 1442.06,1079.71 1442.74,1079.79 \n",
       "  1443.41,1079.87 1444.09,1079.95 1444.76,1080.02 1445.43,1080.1 1446.11,1080.18 1446.78,1080.26 1447.45,1080.33 1448.13,1080.41 1448.8,1080.49 1449.47,1080.56 \n",
       "  1450.15,1080.64 1450.82,1080.71 1451.5,1080.79 1452.17,1080.86 1452.84,1080.94 1453.52,1081.01 1454.19,1081.09 1454.86,1081.16 1455.54,1081.24 1456.21,1081.31 \n",
       "  1456.88,1081.38 1457.56,1081.45 1458.23,1081.53 1458.9,1081.6 1459.58,1081.67 1460.25,1081.74 1460.93,1081.81 1461.6,1081.89 1462.27,1081.96 1462.95,1082.03 \n",
       "  1463.62,1082.1 1464.29,1082.17 1464.97,1082.24 1465.64,1082.31 1466.31,1082.38 1466.99,1082.45 1467.66,1082.52 1468.33,1082.58 1469.01,1082.65 1469.68,1082.72 \n",
       "  1470.36,1082.79 1471.03,1082.86 1471.7,1082.92 1472.38,1082.99 1473.05,1083.06 1473.72,1083.12 1474.4,1083.19 1475.07,1083.25 1475.74,1083.32 1476.42,1083.38 \n",
       "  1477.09,1083.45 1477.77,1083.51 1478.44,1083.58 1479.11,1083.64 1479.79,1083.71 1480.46,1083.77 1481.13,1083.83 1481.81,1083.9 1482.48,1083.96 1483.15,1084.02 \n",
       "  1483.83,1084.08 1484.5,1084.15 1485.17,1084.21 1485.85,1084.27 1486.52,1084.33 1487.2,1084.39 1487.87,1084.45 1488.54,1084.51 1489.22,1084.57 1489.89,1084.63 \n",
       "  1490.56,1084.69 1491.24,1084.75 1491.91,1084.81 1492.58,1084.87 1493.26,1084.93 1493.93,1084.98 1494.6,1085.04 1495.28,1085.1 1495.95,1085.16 1496.63,1085.21 \n",
       "  1497.3,1085.27 1497.97,1085.32 1498.65,1085.38 1499.32,1085.44 1499.99,1085.49 1500.67,1085.55 1501.34,1085.6 1502.01,1085.66 1502.69,1085.71 1503.36,1085.76 \n",
       "  1504.03,1085.82 1504.71,1085.87 1505.38,1085.92 1506.06,1085.98 1506.73,1086.03 1507.4,1086.08 1508.08,1086.13 1508.75,1086.19 1509.42,1086.24 1510.1,1086.29 \n",
       "  1510.77,1086.34 1511.44,1086.39 1512.12,1086.44 1512.79,1086.49 1513.47,1086.54 1514.14,1086.59 1514.81,1086.64 1515.49,1086.69 1516.16,1086.73 1516.83,1086.78 \n",
       "  1517.51,1086.83 1518.18,1086.88 1518.85,1086.92 1519.53,1086.97 1520.2,1087.02 1520.87,1087.06 1521.55,1087.11 1522.22,1087.16 1522.9,1087.2 1523.57,1087.25 \n",
       "  1524.24,1087.29 1524.92,1087.34 1525.59,1087.38 1526.26,1087.42 1526.94,1087.47 1527.61,1087.51 1528.28,1087.55 1528.96,1087.6 1529.63,1087.64 1530.3,1087.68 \n",
       "  1530.98,1087.72 1531.65,1087.77 1532.33,1087.81 1533,1087.85 1533.67,1087.89 1534.35,1087.93 1535.02,1087.97 1535.69,1088.01 1536.37,1088.05 1537.04,1088.09 \n",
       "  1537.71,1088.13 1538.39,1088.16 1539.06,1088.2 1539.74,1088.24 1540.41,1088.28 1541.08,1088.32 1541.76,1088.35 1542.43,1088.39 1543.1,1088.43 1543.78,1088.46 \n",
       "  1544.45,1088.5 1545.12,1088.53 1545.8,1088.57 1546.47,1088.6 1547.14,1088.64 1547.82,1088.67 1548.49,1088.71 1549.17,1088.74 1549.84,1088.77 1550.51,1088.81 \n",
       "  1551.19,1088.84 1551.86,1088.87 1552.53,1088.9 1553.21,1088.93 1553.88,1088.97 1554.55,1089 1555.23,1089.03 1555.9,1089.06 1556.57,1089.09 1557.25,1089.12 \n",
       "  1557.92,1089.15 1558.6,1089.18 1559.27,1089.21 1559.94,1089.24 1560.62,1089.26 1561.29,1089.29 1561.96,1089.32 1562.64,1089.35 1563.31,1089.37 1563.98,1089.4 \n",
       "  1564.66,1089.43 1565.33,1089.45 1566.01,1089.48 1566.68,1089.51 1567.35,1089.53 1568.03,1089.56 1568.7,1089.58 1569.37,1089.6 1570.05,1089.63 1570.72,1089.65 \n",
       "  1571.39,1089.67 1572.07,1089.7 1572.74,1089.72 1573.41,1089.74 1574.09,1089.76 1574.76,1089.79 1575.44,1089.81 1576.11,1089.83 1576.78,1089.85 1577.46,1089.87 \n",
       "  1578.13,1089.89 1578.8,1089.91 1579.48,1089.93 1580.15,1089.95 1580.82,1089.97 1581.5,1089.99 1582.17,1090 1582.84,1090.02 1583.52,1090.04 1584.19,1090.06 \n",
       "  1584.87,1090.07 1585.54,1090.09 1586.21,1090.11 1586.89,1090.12 1587.56,1090.14 1588.23,1090.15 1588.91,1090.17 1589.58,1090.18 1590.25,1090.2 1590.93,1090.21 \n",
       "  1591.6,1090.22 1592.28,1090.24 1592.95,1090.25 1593.62,1090.26 1594.3,1090.27 1594.97,1090.29 1595.64,1090.3 1596.32,1090.31 1596.99,1090.32 1597.66,1090.33 \n",
       "  1598.34,1090.34 1599.01,1090.35 1599.68,1090.36 1600.36,1090.37 1601.03,1090.38 1601.71,1090.39 1602.38,1090.4 1603.05,1090.4 1603.73,1090.41 1604.4,1090.42 \n",
       "  1605.07,1090.43 1605.75,1090.43 1606.42,1090.44 1607.09,1090.44 1607.77,1090.45 1608.44,1090.46 1609.11,1090.46 1609.79,1090.47 1610.46,1090.47 1611.14,1090.47 \n",
       "  1611.81,1090.48 1612.48,1090.48 1613.16,1090.48 1613.83,1090.49 1614.5,1090.49 1615.18,1090.49 1615.85,1090.49 1616.52,1090.49 1617.2,1090.49 1617.87,1090.49 \n",
       "  1618.54,1090.49 1619.22,1090.49 1619.89,1090.49 1620.57,1090.49 1621.24,1090.49 1621.91,1090.49 1622.59,1090.49 1623.26,1090.49 1623.93,1090.48 1624.61,1090.48 \n",
       "  1625.28,1090.48 1625.95,1090.47 1626.63,1090.47 1627.3,1090.47 1627.98,1090.46 1628.65,1090.46 1629.32,1090.45 1630,1090.44 1630.67,1090.44 1631.34,1090.43 \n",
       "  1632.02,1090.43 1632.69,1090.42 1633.36,1090.41 1634.04,1090.4 1634.71,1090.39 1635.38,1090.39 1636.06,1090.38 1636.73,1090.37 1637.41,1090.36 1638.08,1090.35 \n",
       "  1638.75,1090.34 1639.43,1090.33 1640.1,1090.32 1640.77,1090.31 1641.45,1090.29 1642.12,1090.28 1642.79,1090.27 1643.47,1090.26 1644.14,1090.24 1644.81,1090.23 \n",
       "  1645.49,1090.22 1646.16,1090.2 1646.84,1090.19 1647.51,1090.17 1648.18,1090.16 1648.86,1090.14 1649.53,1090.13 1650.2,1090.11 1650.88,1090.09 1651.55,1090.08 \n",
       "  1652.22,1090.06 1652.9,1090.04 1653.57,1090.02 1654.25,1090 1654.92,1089.99 1655.59,1089.97 1656.27,1089.95 1656.94,1089.93 1657.61,1089.91 1658.29,1089.89 \n",
       "  1658.96,1089.87 1659.63,1089.84 1660.31,1089.82 1660.98,1089.8 1661.65,1089.78 1662.33,1089.76 1663,1089.73 1663.68,1089.71 1664.35,1089.68 1665.02,1089.66 \n",
       "  1665.7,1089.64 1666.37,1089.61 1667.04,1089.59 1667.72,1089.56 1668.39,1089.53 1669.06,1089.51 1669.74,1089.48 1670.41,1089.45 1671.08,1089.43 1671.76,1089.4 \n",
       "  1672.43,1089.37 1673.11,1089.34 1673.78,1089.31 1674.45,1089.28 1675.13,1089.25 1675.8,1089.22 1676.47,1089.19 1677.15,1089.16 1677.82,1089.13 1678.49,1089.1 \n",
       "  1679.17,1089.07 1679.84,1089.03 1680.52,1089 1681.19,1088.97 1681.86,1088.93 1682.54,1088.9 1683.21,1088.87 1683.88,1088.83 1684.56,1088.8 1685.23,1088.76 \n",
       "  1685.9,1088.72 1686.58,1088.69 1687.25,1088.65 1687.92,1088.61 1688.6,1088.58 1689.27,1088.54 1689.95,1088.5 1690.62,1088.46 1691.29,1088.42 1691.97,1088.39 \n",
       "  1692.64,1088.35 1693.31,1088.31 1693.99,1088.27 1694.66,1088.22 1695.33,1088.18 1696.01,1088.14 1696.68,1088.1 1697.35,1088.06 1698.03,1088.02 1698.7,1087.97 \n",
       "  1699.38,1087.93 1700.05,1087.88 1700.72,1087.84 1701.4,1087.8 1702.07,1087.75 1702.74,1087.71 1703.42,1087.66 1704.09,1087.61 1704.76,1087.57 1705.44,1087.52 \n",
       "  1706.11,1087.47 1706.78,1087.43 1707.46,1087.38 1708.13,1087.33 1708.81,1087.28 1709.48,1087.23 1710.15,1087.18 1710.83,1087.13 1711.5,1087.08 1712.17,1087.03 \n",
       "  1712.85,1086.98 1713.52,1086.93 1714.19,1086.87 1714.87,1086.82 1715.54,1086.77 1716.22,1086.72 1716.89,1086.66 1717.56,1086.61 1718.24,1086.55 1718.91,1086.5 \n",
       "  1719.58,1086.44 1720.26,1086.39 1720.93,1086.33 1721.6,1086.28 1722.28,1086.22 1722.95,1086.16 1723.62,1086.1 1724.3,1086.05 1724.97,1085.99 1725.65,1085.93 \n",
       "  1726.32,1085.87 1726.99,1085.81 1727.67,1085.75 1728.34,1085.69 1729.01,1085.63 1729.69,1085.57 1730.36,1085.51 1731.03,1085.44 1731.71,1085.38 1732.38,1085.32 \n",
       "  1733.05,1085.26 1733.73,1085.19 1734.4,1085.13 1735.08,1085.06 1735.75,1085 1736.42,1084.93 1737.1,1084.87 1737.77,1084.8 1738.44,1084.74 1739.12,1084.67 \n",
       "  1739.79,1084.6 1740.46,1084.53 1741.14,1084.47 1741.81,1084.4 1742.49,1084.33 1743.16,1084.26 1743.83,1084.19 1744.51,1084.12 1745.18,1084.05 1745.85,1083.98 \n",
       "  1746.53,1083.91 1747.2,1083.83 1747.87,1083.76 1748.55,1083.69 1749.22,1083.62 1749.89,1083.54 1750.57,1083.47 1751.24,1083.4 1751.92,1083.32 1752.59,1083.25 \n",
       "  1753.26,1083.17 1753.94,1083.09 1754.61,1083.02 1755.28,1082.94 1755.96,1082.86 1756.63,1082.79 1757.3,1082.71 1757.98,1082.63 1758.65,1082.55 1759.32,1082.47 \n",
       "  1760,1082.39 1760.67,1082.31 1761.35,1082.23 1762.02,1082.15 1762.69,1082.07 1763.37,1081.99 1764.04,1081.9 1764.71,1081.82 1765.39,1081.74 1766.06,1081.65 \n",
       "  1766.73,1081.57 1767.41,1081.49 1768.08,1081.4 1768.76,1081.32 1769.43,1081.23 1770.1,1081.14 1770.78,1081.06 1771.45,1080.97 1772.12,1080.88 1772.8,1080.8 \n",
       "  1773.47,1080.71 1774.14,1080.62 1774.82,1080.53 1775.49,1080.44 1776.16,1080.35 1776.84,1080.26 1777.51,1080.17 1778.19,1080.08 1778.86,1079.98 1779.53,1079.89 \n",
       "  1780.21,1079.8 1780.88,1079.71 1781.55,1079.61 1782.23,1079.52 1782.9,1079.43 1783.57,1079.33 1784.25,1079.24 1784.92,1079.14 1785.59,1079.04 1786.27,1078.95 \n",
       "  1786.94,1078.85 1787.62,1078.75 1788.29,1078.65 1788.96,1078.56 1789.64,1078.46 1790.31,1078.36 1790.98,1078.26 1791.66,1078.16 1792.33,1078.06 1793,1077.96 \n",
       "  1793.68,1077.86 1794.35,1077.75 1795.03,1077.65 1795.7,1077.55 1796.37,1077.45 1797.05,1077.34 1797.72,1077.24 1798.39,1077.13 1799.07,1077.03 1799.74,1076.92 \n",
       "  1800.41,1076.82 1801.09,1076.71 1801.76,1076.6 1802.43,1076.5 1803.11,1076.39 1803.78,1076.28 1804.46,1076.17 1805.13,1076.06 1805.8,1075.95 1806.48,1075.84 \n",
       "  1807.15,1075.73 1807.82,1075.62 1808.5,1075.51 1809.17,1075.4 1809.84,1075.29 1810.52,1075.18 1811.19,1075.06 1811.86,1074.95 1812.54,1074.84 1813.21,1074.72 \n",
       "  1813.89,1074.61 1814.56,1074.49 1815.23,1074.37 1815.91,1074.26 1816.58,1074.14 1817.25,1074.02 1817.93,1073.91 1818.6,1073.79 1819.27,1073.67 1819.95,1073.55 \n",
       "  1820.62,1073.43 1821.29,1073.31 1821.97,1073.19 1822.64,1073.07 1823.32,1072.95 1823.99,1072.83 1824.66,1072.7 1825.34,1072.58 1826.01,1072.46 1826.68,1072.34 \n",
       "  1827.36,1072.21 1828.03,1072.09 1828.7,1071.96 1829.38,1071.84 1830.05,1071.71 1830.73,1071.58 1831.4,1071.46 1832.07,1071.33 1832.75,1071.2 1833.42,1071.07 \n",
       "  1834.09,1070.94 1834.77,1070.81 1835.44,1070.69 1836.11,1070.55 1836.79,1070.42 1837.46,1070.29 1838.13,1070.16 1838.81,1070.03 1839.48,1069.9 1840.16,1069.76 \n",
       "  1840.83,1069.63 1841.5,1069.5 1842.18,1069.36 1842.85,1069.23 1843.52,1069.09 1844.2,1068.95 1844.87,1068.82 1845.54,1068.68 1846.22,1068.54 1846.89,1068.41 \n",
       "  1847.56,1068.27 1848.24,1068.13 1848.91,1067.99 1849.59,1067.85 1850.26,1067.71 1850.93,1067.57 1851.61,1067.43 1852.28,1067.29 1852.95,1067.14 1853.63,1067 \n",
       "  1854.3,1066.86 1854.97,1066.71 1855.65,1066.57 1856.32,1066.43 1857,1066.28 1857.67,1066.13 1858.34,1065.99 1859.02,1065.84 1859.69,1065.7 1860.36,1065.55 \n",
       "  1861.04,1065.4 1861.71,1065.25 1862.38,1065.1 1863.06,1064.95 1863.73,1064.8 1864.4,1064.65 1865.08,1064.5 1865.75,1064.35 1866.43,1064.2 1867.1,1064.05 \n",
       "  1867.77,1063.89 1868.45,1063.74 1869.12,1063.58 1869.79,1063.43 1870.47,1063.28 1871.14,1063.12 1871.81,1062.96 1872.49,1062.81 1873.16,1062.65 1873.83,1062.49 \n",
       "  1874.51,1062.34 1875.18,1062.18 1875.86,1062.02 1876.53,1061.86 1877.2,1061.7 1877.88,1061.54 1878.55,1061.38 1879.22,1061.22 1879.9,1061.05 1880.57,1060.89 \n",
       "  1881.24,1060.73 1881.92,1060.56 1882.59,1060.4 1883.27,1060.24 1883.94,1060.07 1884.61,1059.91 1885.29,1059.74 1885.96,1059.57 1886.63,1059.41 1887.31,1059.24 \n",
       "  1887.98,1059.07 1888.65,1058.9 1889.33,1058.73 1890,1058.56 1890.67,1058.39 1891.35,1058.22 1892.02,1058.05 1892.7,1057.88 1893.37,1057.71 1894.04,1057.53 \n",
       "  1894.72,1057.36 1895.39,1057.19 1896.06,1057.01 1896.74,1056.84 1897.41,1056.66 1898.08,1056.49 1898.76,1056.31 1899.43,1056.13 1900.1,1055.96 1900.78,1055.78 \n",
       "  1901.45,1055.6 1902.13,1055.42 1902.8,1055.24 1903.47,1055.06 1904.15,1054.88 1904.82,1054.7 1905.49,1054.52 1906.17,1054.34 1906.84,1054.16 1907.51,1053.97 \n",
       "  1908.19,1053.79 1908.86,1053.6 1909.53,1053.42 1910.21,1053.23 1910.88,1053.05 1911.56,1052.86 1912.23,1052.68 1912.9,1052.49 1913.58,1052.3 1914.25,1052.11 \n",
       "  1914.92,1051.92 1915.6,1051.73 1916.27,1051.54 1916.94,1051.35 1917.62,1051.16 1918.29,1050.97 1918.97,1050.78 1919.64,1050.59 1920.31,1050.39 1920.99,1050.2 \n",
       "  1921.66,1050.01 1922.33,1049.81 1923.01,1049.62 1923.68,1049.42 1924.35,1049.22 1925.03,1049.03 1925.7,1048.83 1926.37,1048.63 1927.05,1048.43 1927.72,1048.23 \n",
       "  1928.4,1048.03 1929.07,1047.83 1929.74,1047.63 1930.42,1047.43 1931.09,1047.23 1931.76,1047.03 1932.44,1046.83 1933.11,1046.62 1933.78,1046.42 1934.46,1046.21 \n",
       "  1935.13,1046.01 1935.8,1045.8 1936.48,1045.6 1937.15,1045.39 1937.83,1045.18 1938.5,1044.97 1939.17,1044.77 1939.85,1044.56 1940.52,1044.35 1941.19,1044.14 \n",
       "  1941.87,1043.93 1942.54,1043.72 1943.21,1043.5 1943.89,1043.29 1944.56,1043.08 1945.24,1042.87 1945.91,1042.65 1946.58,1042.44 1947.26,1042.22 1947.93,1042.01 \n",
       "  1948.6,1041.79 1949.28,1041.57 1949.95,1041.36 1950.62,1041.14 1951.3,1040.92 1951.97,1040.7 1952.64,1040.48 1953.32,1040.26 1953.99,1040.04 1954.67,1039.82 \n",
       "  1955.34,1039.6 1956.01,1039.38 1956.69,1039.15 1957.36,1038.93 1958.03,1038.71 1958.71,1038.48 1959.38,1038.26 1960.05,1038.03 1960.73,1037.81 1961.4,1037.58 \n",
       "  1962.07,1037.35 1962.75,1037.12 1963.42,1036.89 1964.1,1036.67 1964.77,1036.44 1965.44,1036.21 1966.12,1035.97 1966.79,1035.74 1967.46,1035.51 1968.14,1035.28 \n",
       "  1968.81,1035.05 1969.48,1034.81 1970.16,1034.58 1970.83,1034.34 1971.51,1034.11 1972.18,1033.87 1972.85,1033.63 1973.53,1033.4 1974.2,1033.16 1974.87,1032.92 \n",
       "  1975.55,1032.68 1976.22,1032.44 1976.89,1032.2 1977.57,1031.96 1978.24,1031.72 1978.91,1031.48 1979.59,1031.24 1980.26,1030.99 1980.94,1030.75 1981.61,1030.51 \n",
       "  1982.28,1030.26 1982.96,1030.02 1983.63,1029.77 1984.3,1029.52 1984.98,1029.28 1985.65,1029.03 1986.32,1028.78 1987,1028.53 1987.67,1028.28 1988.34,1028.03 \n",
       "  1989.02,1027.78 1989.69,1027.53 1990.37,1027.28 1991.04,1027.03 1991.71,1026.77 1992.39,1026.52 1993.06,1026.27 1993.73,1026.01 1994.41,1025.76 1995.08,1025.5 \n",
       "  1995.75,1025.24 1996.43,1024.99 1997.1,1024.73 1997.78,1024.47 1998.45,1024.21 1999.12,1023.95 1999.8,1023.69 2000.47,1023.43 2001.14,1023.17 2001.82,1022.91 \n",
       "  2002.49,1022.64 2003.16,1022.38 2003.84,1022.12 2004.51,1021.85 2005.18,1021.59 2005.86,1021.32 2006.53,1021.06 2007.21,1020.79 2007.88,1020.52 2008.55,1020.25 \n",
       "  2009.23,1019.98 2009.9,1019.72 2010.57,1019.45 2011.25,1019.17 2011.92,1018.9 2012.59,1018.63 2013.27,1018.36 2013.94,1018.09 2014.61,1017.81 2015.29,1017.54 \n",
       "  2015.96,1017.26 2016.64,1016.99 2017.31,1016.71 2017.98,1016.44 2018.66,1016.16 2019.33,1015.88 2020,1015.6 2020.68,1015.32 2021.35,1015.04 2022.02,1014.76 \n",
       "  2022.7,1014.48 2023.37,1014.2 2024.04,1013.92 2024.72,1013.63 2025.39,1013.35 2026.07,1013.07 2026.74,1012.78 2027.41,1012.5 2028.09,1012.21 2028.76,1011.92 \n",
       "  2029.43,1011.64 2030.11,1011.35 2030.78,1011.06 2031.45,1010.77 2032.13,1010.48 2032.8,1010.19 2033.48,1009.9 2034.15,1009.61 2034.82,1009.32 2035.5,1009.02 \n",
       "  2036.17,1008.73 2036.84,1008.44 2037.52,1008.14 2038.19,1007.84 2038.86,1007.55 2039.54,1007.25 2040.21,1006.95 2040.88,1006.66 2041.56,1006.36 2042.23,1006.06 \n",
       "  2042.91,1005.76 2043.58,1005.46 2044.25,1005.16 2044.93,1004.85 2045.6,1004.55 2046.27,1004.25 2046.95,1003.94 2047.62,1003.64 2048.29,1003.33 2048.97,1003.03 \n",
       "  2049.64,1002.72 2050.31,1002.42 2050.99,1002.11 2051.66,1001.8 2052.34,1001.49 2053.01,1001.18 2053.68,1000.87 2054.36,1000.56 2055.03,1000.25 2055.7,999.935 \n",
       "  2056.38,999.622 2057.05,999.308 2057.72,998.994 2058.4,998.679 2059.07,998.363 2059.75,998.047 2060.42,997.73 2061.09,997.413 2061.77,997.094 2062.44,996.776 \n",
       "  2063.11,996.456 2063.79,996.136 2064.46,995.815 2065.13,995.493 2065.81,995.171 2066.48,994.848 2067.15,994.525 2067.83,994.2 2068.5,993.876 2069.18,993.55 \n",
       "  2069.85,993.224 2070.52,992.897 2071.2,992.569 2071.87,992.241 2072.54,991.912 2073.22,991.583 2073.89,991.252 2074.56,990.921 2075.24,990.59 2075.91,990.258 \n",
       "  2076.58,989.925 2077.26,989.591 2077.93,989.257 2078.61,988.922 2079.28,988.586 2079.95,988.25 2080.63,987.913 2081.3,987.575 2081.97,987.237 2082.65,986.898 \n",
       "  2083.32,986.558 2083.99,986.218 2084.67,985.876 2085.34,985.535 2086.02,985.192 2086.69,984.849 2087.36,984.505 2088.04,984.161 2088.71,983.816 2089.38,983.47 \n",
       "  2090.06,983.123 2090.73,982.776 2091.4,982.428 2092.08,982.079 2092.75,981.73 2093.42,981.38 2094.1,981.029 2094.77,980.678 2095.45,980.326 2096.12,979.973 \n",
       "  2096.79,979.619 2097.47,979.265 2098.14,978.91 2098.81,978.555 2099.49,978.198 2100.16,977.841 2100.83,977.484 2101.51,977.125 2102.18,976.766 2102.85,976.406 \n",
       "  2103.53,976.046 2104.2,975.685 2104.88,975.323 2105.55,974.96 2106.22,974.597 2106.9,974.233 2107.57,973.868 2108.24,973.503 2108.92,973.137 2109.59,972.77 \n",
       "  2110.26,972.402 2110.94,972.034 2111.61,971.665 2112.28,971.295 2112.96,970.925 2113.63,970.554 2114.31,970.182 2114.98,969.809 2115.65,969.436 2116.33,969.062 \n",
       "  2117,968.688 2117.67,968.312 2118.35,967.936 2119.02,967.559 2119.69,967.182 2120.37,966.803 2121.04,966.424 2121.72,966.045 2122.39,965.664 2123.06,965.283 \n",
       "  2123.74,964.901 2124.41,964.518 2125.08,964.135 2125.76,963.751 2126.43,963.366 2127.1,962.981 2127.78,962.594 2128.45,962.207 2129.12,961.82 2129.8,961.431 \n",
       "  2130.47,961.042 2131.15,960.652 2131.82,960.262 2132.49,959.87 2133.17,959.478 2133.84,959.085 2134.51,958.692 2135.19,958.297 2135.86,957.902 2136.53,957.507 \n",
       "  2137.21,957.11 2137.88,956.713 2138.55,956.315 2139.23,955.916 2139.9,955.517 2140.58,955.116 2141.25,954.715 2141.92,954.314 2142.6,953.911 2143.27,953.508 \n",
       "  2143.94,953.104 2144.62,952.699 2145.29,952.294 2145.96,951.888 2146.64,951.481 2147.31,951.073 2147.99,950.665 2148.66,950.256 2149.33,949.846 2150.01,949.435 \n",
       "  2150.68,949.024 2151.35,948.611 2152.03,948.198 2152.7,947.785 2153.37,947.37 2154.05,946.955 2154.72,946.539 2155.39,946.122 2156.07,945.705 2156.74,945.286 \n",
       "  2157.42,944.867 2158.09,944.448 2158.76,944.027 2159.44,943.606 2160.11,943.184 2160.78,942.761 2161.46,942.337 2162.13,941.913 2162.8,941.488 2163.48,941.062 \n",
       "  2164.15,940.635 2164.82,940.208 2165.5,939.78 2166.17,939.351 2166.85,938.921 2167.52,938.49 2168.19,938.059 2168.87,937.627 2169.54,937.194 2170.21,936.761 \n",
       "  2170.89,936.326 2171.56,935.891 2172.23,935.455 2172.91,935.018 2173.58,934.581 2174.26,934.142 2174.93,933.703 2175.6,933.264 2176.28,932.823 2176.95,932.382 \n",
       "  2177.62,931.939 2178.3,931.496 2178.97,931.053 2179.64,930.608 2180.32,930.163 2180.99,929.717 2181.66,929.27 2182.34,928.822 2183.01,928.373 2183.69,927.924 \n",
       "  2184.36,927.474 2185.03,927.023 2185.71,926.571 2186.38,926.119 2187.05,925.666 2187.73,925.212 2188.4,924.757 2189.07,924.301 2189.75,923.845 2190.42,923.387 \n",
       "  2191.09,922.929 2191.77,922.471 2192.44,922.011 2193.12,921.55 2193.79,921.089 2194.46,920.627 2195.14,920.164 2195.81,919.701 2196.48,919.236 2197.16,918.771 \n",
       "  2197.83,918.305 2198.5,917.838 2199.18,917.37 2199.85,916.902 2200.53,916.432 2201.2,915.962 2201.87,915.491 2202.55,915.019 2203.22,914.547 2203.89,914.073 \n",
       "  2204.57,913.599 2205.24,913.124 2205.91,912.648 2206.59,912.172 2207.26,911.694 2207.93,911.216 2208.61,910.737 2209.28,910.257 2209.96,909.776 2210.63,909.294 \n",
       "  2211.3,908.812 2211.98,908.329 2212.65,907.845 2213.32,907.36 2214,906.874 2214.67,906.388 2215.34,905.9 2216.02,905.412 2216.69,904.923 2217.36,904.433 \n",
       "  2218.04,903.942 2218.71,903.451 2219.39,902.958 2220.06,902.465 2220.73,901.971 2221.41,901.476 2222.08,900.981 2222.75,900.484 2223.43,899.987 2224.1,899.488 \n",
       "  2224.77,898.989 2225.45,898.489 2226.12,897.989 2226.79,897.487 2227.47,896.985 2228.14,896.481 2228.82,895.977 2229.49,895.472 2230.16,894.966 2230.84,894.46 \n",
       "  2231.51,893.952 2232.18,893.444 2232.86,892.934 2233.53,892.424 2234.2,891.913 2234.88,891.402 2235.55,890.889 2236.23,890.376 2236.9,889.861 2237.57,889.346 \n",
       "  2238.25,888.83 2238.92,888.313 2239.59,887.795 2240.27,887.277 2240.94,886.757 2241.61,886.237 2242.29,885.715 2242.96,885.193 2243.63,884.67 2244.31,884.146 \n",
       "  2244.98,883.622 2245.66,883.096 2246.33,882.57 2247,882.042 2247.68,881.514 2248.35,880.985 2249.02,880.455 2249.7,879.925 2250.37,879.393 2251.04,878.86 \n",
       "  2251.72,878.327 2252.39,877.793 2253.06,877.257 2253.74,876.721 2254.41,876.185 2255.09,875.647 2255.76,875.108 2256.43,874.568 2257.11,874.028 2257.78,873.487 \n",
       "  2258.45,872.944 2259.13,872.401 2259.8,871.857 2260.47,871.313 2261.15,870.767 2261.82,870.22 2262.5,869.673 2263.17,869.124 2263.84,868.575 2264.52,868.025 \n",
       "  2265.19,867.474 2265.86,866.922 2266.54,866.369 2267.21,865.815 2267.88,865.26 2268.56,864.705 2269.23,864.148 2269.9,863.591 2270.58,863.033 2271.25,862.473 \n",
       "  2271.93,861.913 2272.6,861.352 2273.27,860.79 2273.95,860.228 2274.62,859.664 2275.29,859.099 2275.97,858.534 2276.64,857.967 2277.31,857.4 2277.99,856.832 \n",
       "  2278.66,856.263 2279.33,855.693 2280.01,855.122 2280.68,854.55 2281.36,853.977 2282.03,853.403 2282.7,852.829 2283.38,852.253 2284.05,851.677 2284.72,851.099 \n",
       "  2285.4,850.521 2286.07,849.942 2286.74,849.362 2287.42,848.78 2288.09,848.198 2288.77,847.616 2289.44,847.032 2290.11,846.447 2290.79,845.861 2291.46,845.275 \n",
       "  2292.13,844.687 \n",
       "  \"/>\n",
       "<polyline clip-path=\"url(#clip842)\" style=\"stroke:#e26f46; stroke-linecap:butt; stroke-linejoin:round; stroke-width:4; stroke-opacity:1; fill:none\" points=\"\n",
       "  271.369,1386.4 284.525,1385.48 406.174,1376.13 479.28,1369.65 541.09,1363.59 608.233,1356.34 670.133,1348.99 736.496,1340.32 813.385,1329.15 881.714,1318.1 \n",
       "  941.633,1307.44 1006.96,1294.68 1072.68,1280.53 1145.33,1263.2 1214.46,1244.88 1286.34,1223.72 1346.85,1204.08 1383.79,1191.2 1420.73,1177.58 1454.56,1164.44 \n",
       "  1488.4,1150.62 1519.65,1137.22 1550.9,1123.19 1582.56,1108.3 1614.21,1092.69 1649.69,1074.3 1685.17,1054.92 1717.32,1036.45 1749.46,1017.08 1786.27,993.734 \n",
       "  1823.08,969.079 1857.16,945.018 1891.24,919.708 1924.84,893.47 1958.44,865.89 1991.06,837.763 2023.68,808.241 2057.12,776.455 2090.57,743.051 2108.89,724.037 \n",
       "  2127.21,704.498 2145.53,684.421 2163.84,663.791 2190.46,632.804 2217.07,600.568 2243.68,567.033 2270.29,532.147 2275.75,524.818 2281.21,517.43 2286.67,509.981 \n",
       "  2292.13,502.472 \n",
       "  \"/>\n",
       "<polyline clip-path=\"url(#clip842)\" style=\"stroke:#3da44d; stroke-linecap:butt; stroke-linejoin:round; stroke-width:4; stroke-opacity:1; fill:none\" points=\"\n",
       "  271.369,1044.18 284.525,1043.27 406.174,1033.92 479.28,1027.43 541.09,1021.37 608.233,1014.13 670.133,1006.78 736.496,998.109 813.385,986.938 881.714,975.882 \n",
       "  941.633,965.22 1006.96,952.462 1072.68,938.316 1145.33,920.983 1214.46,902.662 1286.34,881.51 1346.85,861.868 1383.79,848.981 1420.73,835.367 1454.56,822.224 \n",
       "  1488.4,808.404 1519.65,795.008 1550.9,780.976 1582.56,766.083 1614.21,750.473 1649.69,732.084 1685.17,712.701 1717.32,694.233 1749.46,674.862 1786.27,651.519 \n",
       "  1823.08,626.864 1857.16,602.803 1891.24,577.493 1924.84,551.255 1958.44,523.675 1991.06,495.548 2023.68,466.025 2057.12,434.239 2090.57,400.836 2108.89,381.821 \n",
       "  2127.21,362.283 2145.53,342.206 2163.84,321.575 2190.46,290.588 2217.07,258.353 2243.68,224.818 2270.29,189.932 2275.75,182.603 2281.21,175.214 2286.67,167.766 \n",
       "  2292.13,160.256 \n",
       "  \"/>\n",
       "<path clip-path=\"url(#clip840)\" d=\"\n",
       "M1940.72 374.156 L2281.36 374.156 L2281.36 166.796 L1940.72 166.796  Z\n",
       "  \" fill=\"#ffffff\" fill-rule=\"evenodd\" fill-opacity=\"1\"/>\n",
       "<polyline clip-path=\"url(#clip840)\" style=\"stroke:#000000; stroke-linecap:butt; stroke-linejoin:round; stroke-width:4; stroke-opacity:1; fill:none\" points=\"\n",
       "  1940.72,374.156 2281.36,374.156 2281.36,166.796 1940.72,166.796 1940.72,374.156 \n",
       "  \"/>\n",
       "<polyline clip-path=\"url(#clip840)\" style=\"stroke:#009af9; stroke-linecap:butt; stroke-linejoin:round; stroke-width:4; stroke-opacity:1; fill:none\" points=\"\n",
       "  1964.52,218.636 2107.32,218.636 \n",
       "  \"/>\n",
       "<path clip-path=\"url(#clip840)\" d=\"M2147.62 199.897 L2147.62 203.439 L2143.55 203.439 Q2141.26 203.439 2140.35 204.365 Q2139.47 205.291 2139.47 207.698 L2139.47 209.99 L2146.49 209.99 L2146.49 213.3 L2139.47 213.3 L2139.47 235.916 L2135.19 235.916 L2135.19 213.3 L2131.12 213.3 L2131.12 209.99 L2135.19 209.99 L2135.19 208.184 Q2135.19 203.856 2137.2 201.888 Q2139.22 199.897 2143.59 199.897 L2147.62 199.897 Z\" fill=\"#000000\" fill-rule=\"evenodd\" fill-opacity=\"1\" /><path clip-path=\"url(#clip840)\" d=\"M2161.42 199.944 Q2158.32 205.268 2156.81 210.476 Q2155.31 215.684 2155.31 221.032 Q2155.31 226.379 2156.81 231.633 Q2158.34 236.865 2161.42 242.166 L2157.71 242.166 Q2154.24 236.726 2152.51 231.471 Q2150.79 226.217 2150.79 221.032 Q2150.79 215.87 2152.51 210.638 Q2154.22 205.407 2157.71 199.944 L2161.42 199.944 Z\" fill=\"#000000\" fill-rule=\"evenodd\" fill-opacity=\"1\" /><path clip-path=\"url(#clip840)\" d=\"M2191.23 209.99 L2181.86 222.606 L2191.72 235.916 L2186.7 235.916 L2179.15 225.731 L2171.6 235.916 L2166.58 235.916 L2176.65 222.351 L2167.44 209.99 L2172.46 209.99 L2179.33 219.226 L2186.21 209.99 L2191.23 209.99 Z\" fill=\"#000000\" fill-rule=\"evenodd\" fill-opacity=\"1\" /><path clip-path=\"url(#clip840)\" d=\"M2197.07 199.944 L2200.77 199.944 Q2204.24 205.407 2205.95 210.638 Q2207.69 215.87 2207.69 221.032 Q2207.69 226.217 2205.95 231.471 Q2204.24 236.726 2200.77 242.166 L2197.07 242.166 Q2200.14 236.865 2201.65 231.633 Q2203.18 226.379 2203.18 221.032 Q2203.18 215.684 2201.65 210.476 Q2200.14 205.268 2197.07 199.944 Z\" fill=\"#000000\" fill-rule=\"evenodd\" fill-opacity=\"1\" /><polyline clip-path=\"url(#clip840)\" style=\"stroke:#e26f46; stroke-linecap:butt; stroke-linejoin:round; stroke-width:4; stroke-opacity:1; fill:none\" points=\"\n",
       "  1964.52,270.476 2107.32,270.476 \n",
       "  \"/>\n",
       "<path clip-path=\"url(#clip840)\" d=\"M2147.62 251.737 L2147.62 255.279 L2143.55 255.279 Q2141.26 255.279 2140.35 256.205 Q2139.47 257.131 2139.47 259.538 L2139.47 261.83 L2146.49 261.83 L2146.49 265.14 L2139.47 265.14 L2139.47 287.756 L2135.19 287.756 L2135.19 265.14 L2131.12 265.14 L2131.12 261.83 L2135.19 261.83 L2135.19 260.024 Q2135.19 255.696 2137.2 253.728 Q2139.22 251.737 2143.59 251.737 L2147.62 251.737 Z\" fill=\"#000000\" fill-rule=\"evenodd\" fill-opacity=\"1\" /><path clip-path=\"url(#clip840)\" d=\"M2155.21 253.196 L2155.21 266.043 L2151.28 266.043 L2151.28 253.196 L2155.21 253.196 Z\" fill=\"#000000\" fill-rule=\"evenodd\" fill-opacity=\"1\" /><path clip-path=\"url(#clip840)\" d=\"M2174.45 251.784 Q2171.35 257.108 2169.84 262.316 Q2168.34 267.524 2168.34 272.872 Q2168.34 278.219 2169.84 283.473 Q2171.37 288.705 2174.45 294.006 L2170.75 294.006 Q2167.27 288.566 2165.54 283.311 Q2163.83 278.057 2163.83 272.872 Q2163.83 267.71 2165.54 262.478 Q2167.25 257.247 2170.75 251.784 L2174.45 251.784 Z\" fill=\"#000000\" fill-rule=\"evenodd\" fill-opacity=\"1\" /><path clip-path=\"url(#clip840)\" d=\"M2204.26 261.83 L2194.89 274.446 L2204.75 287.756 L2199.73 287.756 L2192.18 277.571 L2184.64 287.756 L2179.61 287.756 L2189.68 274.191 L2180.47 261.83 L2185.49 261.83 L2192.37 271.066 L2199.24 261.83 L2204.26 261.83 Z\" fill=\"#000000\" fill-rule=\"evenodd\" fill-opacity=\"1\" /><path clip-path=\"url(#clip840)\" d=\"M2210.1 251.784 L2213.8 251.784 Q2217.27 257.247 2218.99 262.478 Q2220.72 267.71 2220.72 272.872 Q2220.72 278.057 2218.99 283.311 Q2217.27 288.566 2213.8 294.006 L2210.1 294.006 Q2213.18 288.705 2214.68 283.473 Q2216.21 278.219 2216.21 272.872 Q2216.21 267.524 2214.68 262.316 Q2213.18 257.108 2210.1 251.784 Z\" fill=\"#000000\" fill-rule=\"evenodd\" fill-opacity=\"1\" /><polyline clip-path=\"url(#clip840)\" style=\"stroke:#3da44d; stroke-linecap:butt; stroke-linejoin:round; stroke-width:4; stroke-opacity:1; fill:none\" points=\"\n",
       "  1964.52,322.316 2107.32,322.316 \n",
       "  \"/>\n",
       "<path clip-path=\"url(#clip840)\" d=\"M2147.62 303.577 L2147.62 307.119 L2143.55 307.119 Q2141.26 307.119 2140.35 308.045 Q2139.47 308.971 2139.47 311.378 L2139.47 313.67 L2146.49 313.67 L2146.49 316.98 L2139.47 316.98 L2139.47 339.596 L2135.19 339.596 L2135.19 316.98 L2131.12 316.98 L2131.12 313.67 L2135.19 313.67 L2135.19 311.864 Q2135.19 307.536 2137.2 305.568 Q2139.22 303.577 2143.59 303.577 L2147.62 303.577 Z\" fill=\"#000000\" fill-rule=\"evenodd\" fill-opacity=\"1\" /><path clip-path=\"url(#clip840)\" d=\"M2155.21 305.036 L2155.21 317.883 L2151.28 317.883 L2151.28 305.036 L2155.21 305.036 Z\" fill=\"#000000\" fill-rule=\"evenodd\" fill-opacity=\"1\" /><path clip-path=\"url(#clip840)\" d=\"M2168.25 305.036 L2168.25 317.883 L2164.31 317.883 L2164.31 305.036 L2168.25 305.036 Z\" fill=\"#000000\" fill-rule=\"evenodd\" fill-opacity=\"1\" /><path clip-path=\"url(#clip840)\" d=\"M2187.48 303.624 Q2184.38 308.948 2182.88 314.156 Q2181.37 319.364 2181.37 324.712 Q2181.37 330.059 2182.88 335.313 Q2184.4 340.545 2187.48 345.846 L2183.78 345.846 Q2180.31 340.406 2178.57 335.151 Q2176.86 329.897 2176.86 324.712 Q2176.86 319.55 2178.57 314.318 Q2180.28 309.087 2183.78 303.624 L2187.48 303.624 Z\" fill=\"#000000\" fill-rule=\"evenodd\" fill-opacity=\"1\" /><path clip-path=\"url(#clip840)\" d=\"M2217.3 313.67 L2207.92 326.286 L2217.78 339.596 L2212.76 339.596 L2205.21 329.411 L2197.67 339.596 L2192.64 339.596 L2202.71 326.031 L2193.5 313.67 L2198.52 313.67 L2205.4 322.906 L2212.27 313.67 L2217.3 313.67 Z\" fill=\"#000000\" fill-rule=\"evenodd\" fill-opacity=\"1\" /><path clip-path=\"url(#clip840)\" d=\"M2223.13 303.624 L2226.83 303.624 Q2230.31 309.087 2232.02 314.318 Q2233.76 319.55 2233.76 324.712 Q2233.76 329.897 2232.02 335.151 Q2230.31 340.406 2226.83 345.846 L2223.13 345.846 Q2226.21 340.545 2227.71 335.313 Q2229.24 330.059 2229.24 324.712 Q2229.24 319.364 2227.71 314.156 Q2226.21 308.948 2223.13 303.624 Z\" fill=\"#000000\" fill-rule=\"evenodd\" fill-opacity=\"1\" /></svg>\n"
      ]
     },
     "execution_count": 25,
     "metadata": {},
     "output_type": "execute_result"
    }
   ],
   "source": [
    "plot(0:0.001:3,f,title=\"f(x),f'(x),f''(x)\",xlabel=\"x\",ylabel=\"y\",label=\"f(x)\")\n",
    "plot!(df,label=\"f'(x)\")\n",
    "plot!(d2f,label=\"f''(x)\")"
   ]
  },
  {
   "cell_type": "markdown",
   "metadata": {},
   "source": [
    "*El orden de la raíz $x1$ es $2$ ya que $f(x1)=0$, $f'(x1)=0$ y $f''(x1)≠0$*"
   ]
  },
  {
   "cell_type": "code",
   "execution_count": 43,
   "metadata": {},
   "outputs": [
    {
     "data": {
      "text/plain": [
       "(true, [2.270747041268399, 2.1414747338454063, 2.072404735819328, 2.0366392002240197, 2.018431466858568, 2.0092440431832075, 2.0046291426093337, 2.002316357050799, 2.001158625651214, 2.0005794246932975, 2.00028974032434, 2.0001448771579087, 2.000072440328148, 2.000036220600182, 2.0000181104071224, 2.000009055233071, 2.0000045276219103, 2.0000022637893715, 2.00000113188555], [0.08039274517416084, 0.020993328320545235, 0.005371295575529622, 0.0013589774763436147, 0.0003418157965175972, 8.57162523644206e-5, 2.146206550568408e-5, 5.369655199150003e-6, 1.3429320016022928e-6, 3.357978286544494e-7, 8.395756401213816e-8, 2.099040452563372e-8, 5.247728029900145e-9, 1.3119478836642884e-9, 3.279887472729115e-10, 8.199751988513526e-11, 2.049960201588874e-11, 5.1247894816697226e-12, 1.2811973704174306e-12], [0.229252958731601, 0.12927230742299267, 0.0690699980260785, 0.03576553559530815, 0.018207733365451784, 0.009187423675360407, 0.004614900573873815, 0.002312785558534536, 0.0011577313995849714, 0.0005792009579166368, 0.00028968436895748795, 0.00014486316643136377, 7.243682976065813e-5, 3.621972796619133e-5, 1.8110193059417412e-5, 9.05517405147549e-6, 4.5276111606540326e-6, 2.2638325387625002e-6, 1.1319038213386534e-6], [0.10095926783792895, 0.06036602037833096, 0.033328430895894275, 0.01756105626925679, 0.009020734002819431, 0.004572577286731653, 0.0023021218617358874, 0.001155055019348204, 0.0005785305496250824, 0.00028951660242403635, 0.00014482120420740479, 7.24263367547685e-5, 3.621710309091282e-5, 1.8109536013963943e-5, 9.055014534708844e-6, 4.527566526652673e-6, 2.2638004555107447e-6, 1.1319149881726902e-6, 5.65951590373113e-7])"
      ]
     },
     "execution_count": 43,
     "metadata": {},
     "output_type": "execute_result"
    }
   ],
   "source": [
    "p=2.5\n",
    "m=1\n",
    "comv1,Vp1,Vf1,Vc1,Vr1 = Newton_Raphson_Raices_Multiples(f,df,p,m;tol_x=1e-6,tol_f=1e-7,n_max=100)"
   ]
  },
  {
   "cell_type": "code",
   "execution_count": 44,
   "metadata": {},
   "outputs": [
    {
     "data": {
      "text/plain": [
       "19"
      ]
     },
     "execution_count": 44,
     "metadata": {},
     "output_type": "execute_result"
    }
   ],
   "source": [
    "n=length(Vp1)"
   ]
  },
  {
   "cell_type": "code",
   "execution_count": 71,
   "metadata": {},
   "outputs": [
    {
     "data": {
      "text/plain": [
       "(true, [2.041494082536798, 2.000286951580009, 2.0000000137236813, 2.0000000137236813], [0.0017458222561947956, 8.234908577264832e-8, 0.0, 0.0], [0.458505917463202, 0.04120713095678896, 0.00028693785632771807, 0.0], [0.22459331201854582, 0.02060060978963034, 0.00014346892717939812, 0.0])"
      ]
     },
     "execution_count": 71,
     "metadata": {},
     "output_type": "execute_result"
    }
   ],
   "source": [
    "p=2.5\n",
    "m=2\n",
    "comv2,Vp2,Vf2,Vc2,Vr2 = Newton_Raphson_Raices_Multiples(f,df,p,m;tol_x=1e-6,tol_f=1e-7,n_max=100)"
   ]
  },
  {
   "cell_type": "code",
   "execution_count": 72,
   "metadata": {},
   "outputs": [
    {
     "data": {
      "text/plain": [
       "4"
      ]
     },
     "execution_count": 72,
     "metadata": {},
     "output_type": "execute_result"
    }
   ],
   "source": [
    "n=length(Vp2)"
   ]
  },
  {
   "cell_type": "code",
   "execution_count": 66,
   "metadata": {},
   "outputs": [
    {
     "data": {
      "image/svg+xml": [
       "<?xml version=\"1.0\" encoding=\"utf-8\"?>\n",
       "<svg xmlns=\"http://www.w3.org/2000/svg\" xmlns:xlink=\"http://www.w3.org/1999/xlink\" width=\"600\" height=\"400\" viewBox=\"0 0 2400 1600\">\n",
       "<defs>\n",
       "  <clipPath id=\"clip560\">\n",
       "    <rect x=\"0\" y=\"0\" width=\"2400\" height=\"1600\"/>\n",
       "  </clipPath>\n",
       "</defs>\n",
       "<path clip-path=\"url(#clip560)\" d=\"\n",
       "M0 1600 L2400 1600 L2400 0 L0 0  Z\n",
       "  \" fill=\"#ffffff\" fill-rule=\"evenodd\" fill-opacity=\"1\"/>\n",
       "<defs>\n",
       "  <clipPath id=\"clip561\">\n",
       "    <rect x=\"480\" y=\"0\" width=\"1681\" height=\"1600\"/>\n",
       "  </clipPath>\n",
       "</defs>\n",
       "<path clip-path=\"url(#clip560)\" d=\"\n",
       "M387.277 1423.18 L2352.76 1423.18 L2352.76 123.472 L387.277 123.472  Z\n",
       "  \" fill=\"#ffffff\" fill-rule=\"evenodd\" fill-opacity=\"1\"/>\n",
       "<defs>\n",
       "  <clipPath id=\"clip562\">\n",
       "    <rect x=\"387\" y=\"123\" width=\"1966\" height=\"1301\"/>\n",
       "  </clipPath>\n",
       "</defs>\n",
       "<polyline clip-path=\"url(#clip562)\" style=\"stroke:#000000; stroke-linecap:butt; stroke-linejoin:round; stroke-width:2; stroke-opacity:0.1; fill:none\" points=\"\n",
       "  442.904,1423.18 442.904,123.472 \n",
       "  \"/>\n",
       "<polyline clip-path=\"url(#clip562)\" style=\"stroke:#000000; stroke-linecap:butt; stroke-linejoin:round; stroke-width:2; stroke-opacity:0.1; fill:none\" points=\"\n",
       "  957.966,1423.18 957.966,123.472 \n",
       "  \"/>\n",
       "<polyline clip-path=\"url(#clip562)\" style=\"stroke:#000000; stroke-linecap:butt; stroke-linejoin:round; stroke-width:2; stroke-opacity:0.1; fill:none\" points=\"\n",
       "  1473.03,1423.18 1473.03,123.472 \n",
       "  \"/>\n",
       "<polyline clip-path=\"url(#clip562)\" style=\"stroke:#000000; stroke-linecap:butt; stroke-linejoin:round; stroke-width:2; stroke-opacity:0.1; fill:none\" points=\"\n",
       "  1988.09,1423.18 1988.09,123.472 \n",
       "  \"/>\n",
       "<polyline clip-path=\"url(#clip560)\" style=\"stroke:#000000; stroke-linecap:butt; stroke-linejoin:round; stroke-width:4; stroke-opacity:1; fill:none\" points=\"\n",
       "  387.277,1423.18 2352.76,1423.18 \n",
       "  \"/>\n",
       "<path clip-path=\"url(#clip560)\" d=\"M442.904 1454.1 Q439.293 1454.1 437.464 1457.66 Q435.659 1461.2 435.659 1468.33 Q435.659 1475.44 437.464 1479.01 Q439.293 1482.55 442.904 1482.55 Q446.538 1482.55 448.344 1479.01 Q450.172 1475.44 450.172 1468.33 Q450.172 1461.2 448.344 1457.66 Q446.538 1454.1 442.904 1454.1 M442.904 1450.39 Q448.714 1450.39 451.77 1455 Q454.848 1459.58 454.848 1468.33 Q454.848 1477.06 451.77 1481.67 Q448.714 1486.25 442.904 1486.25 Q437.094 1486.25 434.015 1481.67 Q430.959 1477.06 430.959 1468.33 Q430.959 1459.58 434.015 1455 Q437.094 1450.39 442.904 1450.39 Z\" fill=\"#000000\" fill-rule=\"evenodd\" fill-opacity=\"1\" /><path clip-path=\"url(#clip560)\" d=\"M948.244 1451.02 L966.601 1451.02 L966.601 1454.96 L952.527 1454.96 L952.527 1463.43 Q953.545 1463.08 954.564 1462.92 Q955.582 1462.73 956.601 1462.73 Q962.388 1462.73 965.767 1465.9 Q969.147 1469.08 969.147 1474.49 Q969.147 1480.07 965.675 1483.17 Q962.203 1486.25 955.883 1486.25 Q953.707 1486.25 951.439 1485.88 Q949.193 1485.51 946.786 1484.77 L946.786 1480.07 Q948.869 1481.2 951.091 1481.76 Q953.314 1482.32 955.791 1482.32 Q959.795 1482.32 962.133 1480.21 Q964.471 1478.1 964.471 1474.49 Q964.471 1470.88 962.133 1468.77 Q959.795 1466.67 955.791 1466.67 Q953.916 1466.67 952.041 1467.08 Q950.189 1467.5 948.244 1468.38 L948.244 1451.02 Z\" fill=\"#000000\" fill-rule=\"evenodd\" fill-opacity=\"1\" /><path clip-path=\"url(#clip560)\" d=\"M1447.72 1481.64 L1455.36 1481.64 L1455.36 1455.28 L1447.05 1456.95 L1447.05 1452.69 L1455.31 1451.02 L1459.99 1451.02 L1459.99 1481.64 L1467.62 1481.64 L1467.62 1485.58 L1447.72 1485.58 L1447.72 1481.64 Z\" fill=\"#000000\" fill-rule=\"evenodd\" fill-opacity=\"1\" /><path clip-path=\"url(#clip560)\" d=\"M1487.07 1454.1 Q1483.46 1454.1 1481.63 1457.66 Q1479.82 1461.2 1479.82 1468.33 Q1479.82 1475.44 1481.63 1479.01 Q1483.46 1482.55 1487.07 1482.55 Q1490.7 1482.55 1492.51 1479.01 Q1494.34 1475.44 1494.34 1468.33 Q1494.34 1461.2 1492.51 1457.66 Q1490.7 1454.1 1487.07 1454.1 M1487.07 1450.39 Q1492.88 1450.39 1495.93 1455 Q1499.01 1459.58 1499.01 1468.33 Q1499.01 1477.06 1495.93 1481.67 Q1492.88 1486.25 1487.07 1486.25 Q1481.26 1486.25 1478.18 1481.67 Q1475.12 1477.06 1475.12 1468.33 Q1475.12 1459.58 1478.18 1455 Q1481.26 1450.39 1487.07 1450.39 Z\" fill=\"#000000\" fill-rule=\"evenodd\" fill-opacity=\"1\" /><path clip-path=\"url(#clip560)\" d=\"M1963.28 1481.64 L1970.92 1481.64 L1970.92 1455.28 L1962.61 1456.95 L1962.61 1452.69 L1970.87 1451.02 L1975.55 1451.02 L1975.55 1481.64 L1983.18 1481.64 L1983.18 1485.58 L1963.28 1485.58 L1963.28 1481.64 Z\" fill=\"#000000\" fill-rule=\"evenodd\" fill-opacity=\"1\" /><path clip-path=\"url(#clip560)\" d=\"M1992.67 1451.02 L2011.03 1451.02 L2011.03 1454.96 L1996.96 1454.96 L1996.96 1463.43 Q1997.98 1463.08 1998.99 1462.92 Q2000.01 1462.73 2001.03 1462.73 Q2006.82 1462.73 2010.2 1465.9 Q2013.58 1469.08 2013.58 1474.49 Q2013.58 1480.07 2010.11 1483.17 Q2006.63 1486.25 2000.31 1486.25 Q1998.14 1486.25 1995.87 1485.88 Q1993.62 1485.51 1991.22 1484.77 L1991.22 1480.07 Q1993.3 1481.2 1995.52 1481.76 Q1997.74 1482.32 2000.22 1482.32 Q2004.23 1482.32 2006.56 1480.21 Q2008.9 1478.1 2008.9 1474.49 Q2008.9 1470.88 2006.56 1468.77 Q2004.23 1466.67 2000.22 1466.67 Q1998.35 1466.67 1996.47 1467.08 Q1994.62 1467.5 1992.67 1468.38 L1992.67 1451.02 Z\" fill=\"#000000\" fill-rule=\"evenodd\" fill-opacity=\"1\" /><path clip-path=\"url(#clip560)\" d=\"M1367.09 1532.4 L1372.94 1532.4 L1372.94 1568.04 L1367.09 1568.04 L1367.09 1532.4 M1367.09 1518.52 L1372.94 1518.52 L1372.94 1525.93 L1367.09 1525.93 L1367.09 1518.52 Z\" fill=\"#000000\" fill-rule=\"evenodd\" fill-opacity=\"1\" /><polyline clip-path=\"url(#clip562)\" style=\"stroke:#000000; stroke-linecap:butt; stroke-linejoin:round; stroke-width:2; stroke-opacity:0.1; fill:none\" points=\"\n",
       "  387.277,123.472 2352.76,123.472 \n",
       "  \"/>\n",
       "<polyline clip-path=\"url(#clip560)\" style=\"stroke:#000000; stroke-linecap:butt; stroke-linejoin:round; stroke-width:4; stroke-opacity:1; fill:none\" points=\"\n",
       "  387.277,1423.18 387.277,123.472 \n",
       "  \"/>\n",
       "<polyline clip-path=\"url(#clip560)\" style=\"stroke:#000000; stroke-linecap:butt; stroke-linejoin:round; stroke-width:4; stroke-opacity:1; fill:none\" points=\"\n",
       "  387.277,123.472 406.175,123.472 \n",
       "  \"/>\n",
       "<path clip-path=\"url(#clip560)\" d=\"M-nan -nan L-nan -nan L-nan -nan L-nan -nan L-nan -nan L-nan -nan L-nan -nan L-nan -nan L-nan -nan L-nan -nan L-nan -nan L-nan -nan Z\" fill=\"#000000\" fill-rule=\"evenodd\" fill-opacity=\"1\" /><path clip-path=\"url(#clip560)\" d=\"M-nan -nan Q-nan -nan -nan -nan Q-nan -nan -nan -nan Q-nan -nan -nan -nan Q-nan -nan -nan -nan Q-nan -nan -nan -nan Q-nan -nan -nan -nan Q-nan -nan -nan -nan Q-nan -nan -nan -nan M-nan -nan Q-nan -nan -nan -nan Q-nan -nan -nan -nan Q-nan -nan -nan -nan Q-nan -nan -nan -nan Q-nan -nan -nan -nan Q-nan -nan -nan -nan Q-nan -nan -nan -nan Q-nan -nan -nan -nan Z\" fill=\"#000000\" fill-rule=\"evenodd\" fill-opacity=\"1\" /><path clip-path=\"url(#clip560)\" d=\"M-nan -nan L-nan -nan L-nan -nan L-nan -nan L-nan -nan L-nan -nan L-nan -nan L-nan -nan L-nan -nan L-nan -nan L-nan -nan Z\" fill=\"#000000\" fill-rule=\"evenodd\" fill-opacity=\"1\" /><path clip-path=\"url(#clip560)\" d=\"M-nan -nan Q-nan -nan -nan -nan Q-nan -nan -nan -nan Q-nan -nan -nan -nan Q-nan -nan -nan -nan Q-nan -nan -nan -nan Q-nan -nan -nan -nan L-nan -nan L-nan -nan M-nan -nan L-nan -nan L-nan -nan L-nan -nan Q-nan -nan -nan -nan Q-nan -nan -nan -nan Q-nan -nan -nan -nan Q-nan -nan -nan -nan Q-nan -nan -nan -nan Q-nan -nan -nan -nan L-nan -nan L-nan -nan Q-nan -nan -nan -nan Q-nan -nan -nan -nan Q-nan -nan -nan -nan Q-nan -nan -nan -nan L-nan -nan Q-nan -nan -nan -nan Q-nan -nan -nan -nan Q-nan -nan -nan -nan Q-nan -nan -nan -nan Z\" fill=\"#000000\" fill-rule=\"evenodd\" fill-opacity=\"1\" /><path clip-path=\"url(#clip560)\" d=\"M-nan -nan L-nan -nan L-nan -nan L-nan -nan L-nan -nan L-nan -nan L-nan -nan L-nan -nan L-nan -nan L-nan -nan L-nan -nan Z\" fill=\"#000000\" fill-rule=\"evenodd\" fill-opacity=\"1\" /><path clip-path=\"url(#clip560)\" d=\"M114.931 143.265 L122.57 143.265 L122.57 116.899 L114.26 118.566 L114.26 114.306 L122.524 112.64 L127.2 112.64 L127.2 143.265 L134.839 143.265 L134.839 147.2 L114.931 147.2 L114.931 143.265 Z\" fill=\"#000000\" fill-rule=\"evenodd\" fill-opacity=\"1\" /><path clip-path=\"url(#clip560)\" d=\"M154.283 115.718 Q150.672 115.718 148.843 119.283 Q147.038 122.825 147.038 129.954 Q147.038 137.061 148.843 140.626 Q150.672 144.167 154.283 144.167 Q157.917 144.167 159.723 140.626 Q161.552 137.061 161.552 129.954 Q161.552 122.825 159.723 119.283 Q157.917 115.718 154.283 115.718 M154.283 112.015 Q160.093 112.015 163.149 116.621 Q166.227 121.204 166.227 129.954 Q166.227 138.681 163.149 143.288 Q160.093 147.871 154.283 147.871 Q148.473 147.871 145.394 143.288 Q142.339 138.681 142.339 129.954 Q142.339 121.204 145.394 116.621 Q148.473 112.015 154.283 112.015 Z\" fill=\"#000000\" fill-rule=\"evenodd\" fill-opacity=\"1\" /><path clip-path=\"url(#clip560)\" d=\"M166.227 106.116 L190.339 106.116 L190.339 109.313 L166.227 109.313 L166.227 106.116 Z\" fill=\"#000000\" fill-rule=\"evenodd\" fill-opacity=\"1\" /><path clip-path=\"url(#clip560)\" d=\"M206.664 94.2108 Q203.73 94.2108 202.244 97.1072 Q200.777 99.9847 200.777 105.778 Q200.777 111.552 202.244 114.448 Q203.73 117.326 206.664 117.326 Q209.617 117.326 211.084 114.448 Q212.57 111.552 212.57 105.778 Q212.57 99.9847 211.084 97.1072 Q209.617 94.2108 206.664 94.2108 M206.664 91.2015 Q211.385 91.2015 213.868 94.9443 Q216.369 98.6682 216.369 105.778 Q216.369 112.868 213.868 116.611 Q211.385 120.335 206.664 120.335 Q201.943 120.335 199.442 116.611 Q196.959 112.868 196.959 105.778 Q196.959 98.6682 199.442 94.9443 Q201.943 91.2015 206.664 91.2015 Z\" fill=\"#000000\" fill-rule=\"evenodd\" fill-opacity=\"1\" /><path clip-path=\"url(#clip560)\" d=\"M223.046 115.012 L227.014 115.012 L227.014 119.789 L223.046 119.789 L223.046 115.012 Z\" fill=\"#000000\" fill-rule=\"evenodd\" fill-opacity=\"1\" /><path clip-path=\"url(#clip560)\" d=\"M243.885 104.235 Q241.327 104.235 239.822 105.984 Q238.336 107.734 238.336 110.78 Q238.336 113.808 239.822 115.576 Q241.327 117.326 243.885 117.326 Q246.443 117.326 247.928 115.576 Q249.433 113.808 249.433 110.78 Q249.433 107.734 247.928 105.984 Q246.443 104.235 243.885 104.235 M251.427 92.33 L251.427 95.7906 Q249.997 95.1135 248.53 94.7562 Q247.082 94.3988 245.653 94.3988 Q241.891 94.3988 239.898 96.9379 Q237.923 99.4769 237.641 104.611 Q238.75 102.975 240.424 102.11 Q242.098 101.226 244.11 101.226 Q248.342 101.226 250.787 103.803 Q253.251 106.361 253.251 110.78 Q253.251 115.106 250.693 117.72 Q248.135 120.335 243.885 120.335 Q239.014 120.335 236.437 116.611 Q233.86 112.868 233.86 105.778 Q233.86 99.1196 237.02 95.17 Q240.18 91.2015 245.502 91.2015 Q246.932 91.2015 248.38 91.4836 Q249.847 91.7657 251.427 92.33 Z\" fill=\"#000000\" fill-rule=\"evenodd\" fill-opacity=\"1\" /><path clip-path=\"url(#clip560)\" d=\"M267.921 94.2108 Q264.987 94.2108 263.501 97.1072 Q262.034 99.9847 262.034 105.778 Q262.034 111.552 263.501 114.448 Q264.987 117.326 267.921 117.326 Q270.874 117.326 272.341 114.448 Q273.827 111.552 273.827 105.778 Q273.827 99.9847 272.341 97.1072 Q270.874 94.2108 267.921 94.2108 M267.921 91.2015 Q272.642 91.2015 275.124 94.9443 Q277.626 98.6682 277.626 105.778 Q277.626 112.868 275.124 116.611 Q272.642 120.335 267.921 120.335 Q263.2 120.335 260.699 116.611 Q258.216 112.868 258.216 105.778 Q258.216 98.6682 260.699 94.9443 Q263.2 91.2015 267.921 91.2015 Z\" fill=\"#000000\" fill-rule=\"evenodd\" fill-opacity=\"1\" /><path clip-path=\"url(#clip560)\" d=\"M287.575 116.592 L300.835 116.592 L300.835 119.789 L283.005 119.789 L283.005 116.592 Q285.168 114.354 288.892 110.592 Q292.634 106.812 293.594 105.721 Q295.418 103.671 296.133 102.26 Q296.866 100.831 296.866 99.4581 Q296.866 97.22 295.286 95.8094 Q293.725 94.3988 291.205 94.3988 Q289.418 94.3988 287.425 95.0195 Q285.45 95.6401 283.193 96.9003 L283.193 93.0635 Q285.488 92.1419 287.481 91.6717 Q289.475 91.2015 291.13 91.2015 Q295.493 91.2015 298.089 93.3832 Q300.684 95.5649 300.684 99.2136 Q300.684 100.944 300.026 102.505 Q299.386 104.047 297.675 106.154 Q297.205 106.699 294.685 109.313 Q292.164 111.909 287.575 116.592 Z\" fill=\"#000000\" fill-rule=\"evenodd\" fill-opacity=\"1\" /><path clip-path=\"url(#clip560)\" d=\"M316.934 94.2108 Q314 94.2108 312.514 97.1072 Q311.047 99.9847 311.047 105.778 Q311.047 111.552 312.514 114.448 Q314 117.326 316.934 117.326 Q319.887 117.326 321.354 114.448 Q322.84 111.552 322.84 105.778 Q322.84 99.9847 321.354 97.1072 Q319.887 94.2108 316.934 94.2108 M316.934 91.2015 Q321.655 91.2015 324.138 94.9443 Q326.639 98.6682 326.639 105.778 Q326.639 112.868 324.138 116.611 Q321.655 120.335 316.934 120.335 Q312.213 120.335 309.712 116.611 Q307.229 112.868 307.229 105.778 Q307.229 98.6682 309.712 94.9443 Q312.213 91.2015 316.934 91.2015 Z\" fill=\"#000000\" fill-rule=\"evenodd\" fill-opacity=\"1\" /><path clip-path=\"url(#clip560)\" d=\"M341.911 104.235 Q339.353 104.235 337.848 105.984 Q336.363 107.734 336.363 110.78 Q336.363 113.808 337.848 115.576 Q339.353 117.326 341.911 117.326 Q344.469 117.326 345.955 115.576 Q347.459 113.808 347.459 110.78 Q347.459 107.734 345.955 105.984 Q344.469 104.235 341.911 104.235 M349.453 92.33 L349.453 95.7906 Q348.023 95.1135 346.556 94.7562 Q345.108 94.3988 343.679 94.3988 Q339.917 94.3988 337.924 96.9379 Q335.949 99.4769 335.667 104.611 Q336.776 102.975 338.45 102.11 Q340.124 101.226 342.137 101.226 Q346.368 101.226 348.813 103.803 Q351.277 106.361 351.277 110.78 Q351.277 115.106 348.719 117.72 Q346.161 120.335 341.911 120.335 Q337.04 120.335 334.463 116.611 Q331.886 112.868 331.886 105.778 Q331.886 99.1196 335.046 95.17 Q338.206 91.2015 343.528 91.2015 Q344.958 91.2015 346.406 91.4836 Q347.873 91.7657 349.453 92.33 Z\" fill=\"#000000\" fill-rule=\"evenodd\" fill-opacity=\"1\" /><path clip-path=\"url(#clip560)\" d=\"M14.479 918.942 L14.479 905.446 L19.0304 905.446 L19.0304 913.085 L68.0464 913.085 L68.0464 905.446 L72.5979 905.446 L72.5979 918.942 L14.479 918.942 Z\" fill=\"#000000\" fill-rule=\"evenodd\" fill-opacity=\"1\" /><path clip-path=\"url(#clip560)\" d=\"M16.4842 892.715 L16.4842 862.669 L21.895 862.669 L21.895 886.285 L35.9632 886.285 L35.9632 863.655 L41.3741 863.655 L41.3741 886.285 L58.5933 886.285 L58.5933 862.096 L64.0042 862.096 L64.0042 892.715 L16.4842 892.715 Z\" fill=\"#000000\" fill-rule=\"evenodd\" fill-opacity=\"1\" /><path clip-path=\"url(#clip560)\" d=\"M33.8307 831.127 Q33.2578 832.113 33.0032 833.291 Q32.7167 834.437 32.7167 835.837 Q32.7167 840.802 35.9632 843.476 Q39.1779 846.118 45.2253 846.118 L64.0042 846.118 L64.0042 852.006 L28.3562 852.006 L28.3562 846.118 L33.8944 846.118 Q30.6479 844.272 29.0883 841.312 Q27.4968 838.352 27.4968 834.118 Q27.4968 833.514 27.5923 832.782 Q27.656 832.05 27.8151 831.158 L33.8307 831.127 Z\" fill=\"#000000\" fill-rule=\"evenodd\" fill-opacity=\"1\" /><path clip-path=\"url(#clip560)\" d=\"M14.479 811.297 L72.5979 811.297 L72.5979 824.793 L68.0464 824.793 L68.0464 817.186 L19.0304 817.186 L19.0304 824.793 L14.479 824.793 L14.479 811.297 Z\" fill=\"#000000\" fill-rule=\"evenodd\" fill-opacity=\"1\" /><path clip-path=\"url(#clip560)\" d=\"M14.479 799.553 L14.479 793.696 L64.0042 793.696 L64.0042 799.553 L14.479 799.553 Z\" fill=\"#000000\" fill-rule=\"evenodd\" fill-opacity=\"1\" /><path clip-path=\"url(#clip560)\" d=\"M32.4621 767.629 Q32.4621 772.339 36.1542 775.077 Q39.8145 777.814 46.212 777.814 Q52.6095 777.814 56.3017 775.108 Q59.9619 772.371 59.9619 767.629 Q59.9619 762.95 56.2698 760.213 Q52.5777 757.475 46.212 757.475 Q39.8781 757.475 36.186 760.213 Q32.4621 762.95 32.4621 767.629 M27.4968 767.629 Q27.4968 759.99 32.4621 755.629 Q37.4273 751.269 46.212 751.269 Q54.9649 751.269 59.9619 755.629 Q64.9272 759.99 64.9272 767.629 Q64.9272 775.299 59.9619 779.66 Q54.9649 783.989 46.212 783.989 Q37.4273 783.989 32.4621 779.66 Q27.4968 775.299 27.4968 767.629 Z\" fill=\"#000000\" fill-rule=\"evenodd\" fill-opacity=\"1\" /><path clip-path=\"url(#clip560)\" d=\"M45.7664 718.103 Q39.4007 718.103 35.8996 720.745 Q32.3984 723.355 32.3984 728.098 Q32.3984 732.808 35.8996 735.45 Q39.4007 738.06 45.7664 738.06 Q52.1003 738.06 55.6014 735.45 Q59.1026 732.808 59.1026 728.098 Q59.1026 723.355 55.6014 720.745 Q52.1003 718.103 45.7664 718.103 M59.58 712.247 Q68.683 712.247 73.1071 716.289 Q77.5631 720.331 77.5631 728.671 Q77.5631 731.758 77.0857 734.495 Q76.6401 737.232 75.6852 739.811 L69.9879 739.811 Q71.3884 737.232 72.0568 734.718 Q72.7252 732.204 72.7252 729.594 Q72.7252 723.833 69.7015 720.968 Q66.7096 718.103 60.6303 718.103 L57.7339 718.103 Q60.885 719.918 62.4446 722.75 Q64.0042 725.583 64.0042 729.53 Q64.0042 736.087 59.0071 740.097 Q54.01 744.107 45.7664 744.107 Q37.491 744.107 32.4939 740.097 Q27.4968 736.087 27.4968 729.53 Q27.4968 725.583 29.0564 722.75 Q30.616 719.918 33.7671 718.103 L28.3562 718.103 L28.3562 712.247 L59.58 712.247 Z\" fill=\"#000000\" fill-rule=\"evenodd\" fill-opacity=\"1\" /><path clip-path=\"url(#clip560)\" d=\"M58.5933 698.242 L58.5933 687.739 L22.3406 687.739 L24.6323 699.166 L18.7758 699.166 L16.4842 687.803 L16.4842 681.373 L58.5933 681.373 L58.5933 670.87 L64.0042 670.87 L64.0042 698.242 L58.5933 698.242 Z\" fill=\"#000000\" fill-rule=\"evenodd\" fill-opacity=\"1\" /><path clip-path=\"url(#clip560)\" d=\"M20.7174 644.134 Q20.7174 649.099 25.6189 651.614 Q30.4887 654.096 40.2919 654.096 Q50.0633 654.096 54.9649 651.614 Q59.8346 649.099 59.8346 644.134 Q59.8346 639.137 54.9649 636.654 Q50.0633 634.14 40.2919 634.14 Q30.4887 634.14 25.6189 636.654 Q20.7174 639.137 20.7174 644.134 M15.6248 644.134 Q15.6248 636.145 21.9587 631.944 Q28.2607 627.71 40.2919 627.71 Q52.2913 627.71 58.6251 631.944 Q64.9272 636.145 64.9272 644.134 Q64.9272 652.123 58.6251 656.356 Q52.2913 660.557 40.2919 660.557 Q28.2607 660.557 21.9587 656.356 Q15.6248 652.123 15.6248 644.134 Z\" fill=\"#000000\" fill-rule=\"evenodd\" fill-opacity=\"1\" /><path clip-path=\"url(#clip560)\" d=\"M1083.39 12.096 L1121.64 12.096 L1121.64 18.9825 L1091.58 18.9825 L1091.58 36.8875 L1120.38 36.8875 L1120.38 43.7741 L1091.58 43.7741 L1091.58 65.6895 L1122.36 65.6895 L1122.36 72.576 L1083.39 72.576 L1083.39 12.096 Z\" fill=\"#000000\" fill-rule=\"evenodd\" fill-opacity=\"1\" /><path clip-path=\"url(#clip560)\" d=\"M1161.78 34.1734 Q1160.52 33.4443 1159.03 33.1202 Q1157.57 32.7556 1155.78 32.7556 Q1149.47 32.7556 1146.06 36.8875 Q1142.7 40.9789 1142.7 48.6757 L1142.7 72.576 L1135.21 72.576 L1135.21 27.2059 L1142.7 27.2059 L1142.7 34.2544 Q1145.05 30.1225 1148.82 28.1376 Q1152.58 26.1121 1157.97 26.1121 Q1158.74 26.1121 1159.67 26.2337 Q1160.61 26.3147 1161.74 26.5172 L1161.78 34.1734 Z\" fill=\"#000000\" fill-rule=\"evenodd\" fill-opacity=\"1\" /><path clip-path=\"url(#clip560)\" d=\"M1194.43 34.1734 Q1193.17 33.4443 1191.68 33.1202 Q1190.22 32.7556 1188.43 32.7556 Q1182.12 32.7556 1178.71 36.8875 Q1175.35 40.9789 1175.35 48.6757 L1175.35 72.576 L1167.86 72.576 L1167.86 27.2059 L1175.35 27.2059 L1175.35 34.2544 Q1177.7 30.1225 1181.47 28.1376 Q1185.23 26.1121 1190.62 26.1121 Q1191.39 26.1121 1192.32 26.2337 Q1193.26 26.3147 1194.39 26.5172 L1194.43 34.1734 Z\" fill=\"#000000\" fill-rule=\"evenodd\" fill-opacity=\"1\" /><path clip-path=\"url(#clip560)\" d=\"M1218.01 32.4315 Q1212.01 32.4315 1208.53 37.1306 Q1205.04 41.7891 1205.04 49.9314 Q1205.04 58.0738 1208.49 62.7728 Q1211.97 67.4314 1218.01 67.4314 Q1223.96 67.4314 1227.44 62.7323 Q1230.93 58.0333 1230.93 49.9314 Q1230.93 41.8701 1227.44 37.1711 Q1223.96 32.4315 1218.01 32.4315 M1218.01 26.1121 Q1227.73 26.1121 1233.28 32.4315 Q1238.83 38.7509 1238.83 49.9314 Q1238.83 61.0714 1233.28 67.4314 Q1227.73 73.7508 1218.01 73.7508 Q1208.24 73.7508 1202.69 67.4314 Q1197.18 61.0714 1197.18 49.9314 Q1197.18 38.7509 1202.69 32.4315 Q1208.24 26.1121 1218.01 26.1121 Z\" fill=\"#000000\" fill-rule=\"evenodd\" fill-opacity=\"1\" /><path clip-path=\"url(#clip560)\" d=\"M1277.47 34.1734 Q1276.22 33.4443 1274.72 33.1202 Q1273.26 32.7556 1271.48 32.7556 Q1265.16 32.7556 1261.76 36.8875 Q1258.39 40.9789 1258.39 48.6757 L1258.39 72.576 L1250.9 72.576 L1250.9 27.2059 L1258.39 27.2059 L1258.39 34.2544 Q1260.74 30.1225 1264.51 28.1376 Q1268.28 26.1121 1273.67 26.1121 Q1274.44 26.1121 1275.37 26.2337 Q1276.3 26.3147 1277.43 26.5172 L1277.47 34.1734 Z\" fill=\"#000000\" fill-rule=\"evenodd\" fill-opacity=\"1\" /><path clip-path=\"url(#clip560)\" d=\"M1340.67 44.2197 Q1343.3 45.1109 1345.77 48.0275 Q1348.28 50.9442 1350.79 56.0483 L1359.1 72.576 L1350.31 72.576 L1342.57 57.061 Q1339.57 50.9847 1336.74 48.9997 Q1333.94 47.0148 1329.08 47.0148 L1320.17 47.0148 L1320.17 72.576 L1311.99 72.576 L1311.99 12.096 L1330.46 12.096 Q1340.83 12.096 1345.93 16.4305 Q1351.04 20.7649 1351.04 29.5149 Q1351.04 35.2267 1348.36 38.994 Q1345.73 42.7613 1340.67 44.2197 M1320.17 18.8205 L1320.17 40.2903 L1330.46 40.2903 Q1336.37 40.2903 1339.37 37.5762 Q1342.41 34.8216 1342.41 29.5149 Q1342.41 24.2082 1339.37 21.5346 Q1336.37 18.8205 1330.46 18.8205 L1320.17 18.8205 Z\" fill=\"#000000\" fill-rule=\"evenodd\" fill-opacity=\"1\" /><path clip-path=\"url(#clip560)\" d=\"M1404.39 48.0275 L1404.39 51.6733 L1370.12 51.6733 Q1370.6 59.3701 1374.74 63.421 Q1378.91 67.4314 1386.32 67.4314 Q1390.62 67.4314 1394.63 66.3781 Q1398.68 65.3249 1402.65 63.2184 L1402.65 70.267 Q1398.64 71.9684 1394.42 72.8596 Q1390.21 73.7508 1385.88 73.7508 Q1375.02 73.7508 1368.66 67.4314 Q1362.34 61.1119 1362.34 50.3365 Q1362.34 39.1965 1368.34 32.6746 Q1374.37 26.1121 1384.58 26.1121 Q1393.73 26.1121 1399.04 32.0264 Q1404.39 37.9003 1404.39 48.0275 M1396.93 45.84 Q1396.85 39.7232 1393.49 36.0774 Q1390.17 32.4315 1384.66 32.4315 Q1378.42 32.4315 1374.65 35.9558 Q1370.93 39.4801 1370.36 45.8805 L1396.93 45.84 Z\" fill=\"#000000\" fill-rule=\"evenodd\" fill-opacity=\"1\" /><path clip-path=\"url(#clip560)\" d=\"M1416.62 9.54393 L1424.08 9.54393 L1424.08 72.576 L1416.62 72.576 L1416.62 9.54393 Z\" fill=\"#000000\" fill-rule=\"evenodd\" fill-opacity=\"1\" /><path clip-path=\"url(#clip560)\" d=\"M1460.29 49.7694 Q1451.26 49.7694 1447.77 51.8354 Q1444.29 53.9013 1444.29 58.8839 Q1444.29 62.8538 1446.88 65.2034 Q1449.52 67.5124 1454.01 67.5124 Q1460.21 67.5124 1463.94 63.1374 Q1467.7 58.7219 1467.7 51.4303 L1467.7 49.7694 L1460.29 49.7694 M1475.16 46.6907 L1475.16 72.576 L1467.7 72.576 L1467.7 65.6895 Q1465.15 69.8214 1461.34 71.8063 Q1457.54 73.7508 1452.03 73.7508 Q1445.06 73.7508 1440.93 69.8619 Q1436.84 65.9325 1436.84 59.3701 Q1436.84 51.7138 1441.94 47.825 Q1447.08 43.9361 1457.25 43.9361 L1467.7 43.9361 L1467.7 43.2069 Q1467.7 38.0623 1464.3 35.2672 Q1460.94 32.4315 1454.82 32.4315 Q1450.93 32.4315 1447.25 33.3632 Q1443.56 34.295 1440.16 36.1584 L1440.16 29.2718 Q1444.25 27.692 1448.1 26.9223 Q1451.95 26.1121 1455.59 26.1121 Q1465.44 26.1121 1470.3 31.2163 Q1475.16 36.3204 1475.16 46.6907 Z\" fill=\"#000000\" fill-rule=\"evenodd\" fill-opacity=\"1\" /><path clip-path=\"url(#clip560)\" d=\"M1497.88 14.324 L1497.88 27.2059 L1513.24 27.2059 L1513.24 32.9987 L1497.88 32.9987 L1497.88 57.6282 Q1497.88 63.1779 1499.38 64.7578 Q1500.92 66.3376 1505.58 66.3376 L1513.24 66.3376 L1513.24 72.576 L1505.58 72.576 Q1496.95 72.576 1493.67 69.3758 Q1490.39 66.1351 1490.39 57.6282 L1490.39 32.9987 L1484.92 32.9987 L1484.92 27.2059 L1490.39 27.2059 L1490.39 14.324 L1497.88 14.324 Z\" fill=\"#000000\" fill-rule=\"evenodd\" fill-opacity=\"1\" /><path clip-path=\"url(#clip560)\" d=\"M1523.04 27.2059 L1530.49 27.2059 L1530.49 72.576 L1523.04 72.576 L1523.04 27.2059 M1523.04 9.54393 L1530.49 9.54393 L1530.49 18.9825 L1523.04 18.9825 L1523.04 9.54393 Z\" fill=\"#000000\" fill-rule=\"evenodd\" fill-opacity=\"1\" /><path clip-path=\"url(#clip560)\" d=\"M1546.09 27.2059 L1553.54 27.2059 L1553.54 72.576 L1546.09 72.576 L1546.09 27.2059 M1546.09 9.54393 L1553.54 9.54393 L1553.54 18.9825 L1546.09 18.9825 L1546.09 9.54393 Z\" fill=\"#000000\" fill-rule=\"evenodd\" fill-opacity=\"1\" /><path clip-path=\"url(#clip560)\" d=\"M1563.79 27.2059 L1571.69 27.2059 L1585.87 65.2844 L1600.05 27.2059 L1607.95 27.2059 L1590.93 72.576 L1580.81 72.576 L1563.79 27.2059 Z\" fill=\"#000000\" fill-rule=\"evenodd\" fill-opacity=\"1\" /><path clip-path=\"url(#clip560)\" d=\"M1635.82 32.4315 Q1629.82 32.4315 1626.34 37.1306 Q1622.85 41.7891 1622.85 49.9314 Q1622.85 58.0738 1626.3 62.7728 Q1629.78 67.4314 1635.82 67.4314 Q1641.77 67.4314 1645.26 62.7323 Q1648.74 58.0333 1648.74 49.9314 Q1648.74 41.8701 1645.26 37.1711 Q1641.77 32.4315 1635.82 32.4315 M1635.82 26.1121 Q1645.54 26.1121 1651.09 32.4315 Q1656.64 38.7509 1656.64 49.9314 Q1656.64 61.0714 1651.09 67.4314 Q1645.54 73.7508 1635.82 73.7508 Q1626.05 73.7508 1620.5 67.4314 Q1614.99 61.0714 1614.99 49.9314 Q1614.99 38.7509 1620.5 32.4315 Q1626.05 26.1121 1635.82 26.1121 Z\" fill=\"#000000\" fill-rule=\"evenodd\" fill-opacity=\"1\" /><circle clip-path=\"url(#clip562)\" cx=\"442.904\" cy=\"868.508\" r=\"14\" fill=\"#009af9\" fill-rule=\"evenodd\" fill-opacity=\"1\" stroke=\"#000000\" stroke-opacity=\"1\" stroke-width=\"3.2\"/>\n",
       "<circle clip-path=\"url(#clip562)\" cx=\"545.916\" cy=\"1071.43\" r=\"14\" fill=\"#009af9\" fill-rule=\"evenodd\" fill-opacity=\"1\" stroke=\"#000000\" stroke-opacity=\"1\" stroke-width=\"3.2\"/>\n",
       "<circle clip-path=\"url(#clip562)\" cx=\"648.929\" cy=\"1206.59\" r=\"14\" fill=\"#009af9\" fill-rule=\"evenodd\" fill-opacity=\"1\" stroke=\"#000000\" stroke-opacity=\"1\" stroke-width=\"3.2\"/>\n",
       "<circle clip-path=\"url(#clip562)\" cx=\"751.941\" cy=\"1285.41\" r=\"14\" fill=\"#009af9\" fill-rule=\"evenodd\" fill-opacity=\"1\" stroke=\"#000000\" stroke-opacity=\"1\" stroke-width=\"3.2\"/>\n",
       "<circle clip-path=\"url(#clip562)\" cx=\"854.954\" cy=\"1328.1\" r=\"14\" fill=\"#009af9\" fill-rule=\"evenodd\" fill-opacity=\"1\" stroke=\"#000000\" stroke-opacity=\"1\" stroke-width=\"3.2\"/>\n",
       "<circle clip-path=\"url(#clip562)\" cx=\"957.966\" cy=\"1350.33\" r=\"14\" fill=\"#009af9\" fill-rule=\"evenodd\" fill-opacity=\"1\" stroke=\"#000000\" stroke-opacity=\"1\" stroke-width=\"3.2\"/>\n",
       "<circle clip-path=\"url(#clip562)\" cx=\"1060.98\" cy=\"1361.68\" r=\"14\" fill=\"#009af9\" fill-rule=\"evenodd\" fill-opacity=\"1\" stroke=\"#000000\" stroke-opacity=\"1\" stroke-width=\"3.2\"/>\n",
       "<circle clip-path=\"url(#clip562)\" cx=\"1163.99\" cy=\"1367.42\" r=\"14\" fill=\"#009af9\" fill-rule=\"evenodd\" fill-opacity=\"1\" stroke=\"#000000\" stroke-opacity=\"1\" stroke-width=\"3.2\"/>\n",
       "<circle clip-path=\"url(#clip562)\" cx=\"1267\" cy=\"1370.3\" r=\"14\" fill=\"#009af9\" fill-rule=\"evenodd\" fill-opacity=\"1\" stroke=\"#000000\" stroke-opacity=\"1\" stroke-width=\"3.2\"/>\n",
       "<circle clip-path=\"url(#clip562)\" cx=\"1370.02\" cy=\"1371.74\" r=\"14\" fill=\"#009af9\" fill-rule=\"evenodd\" fill-opacity=\"1\" stroke=\"#000000\" stroke-opacity=\"1\" stroke-width=\"3.2\"/>\n",
       "<circle clip-path=\"url(#clip562)\" cx=\"1473.03\" cy=\"1372.47\" r=\"14\" fill=\"#009af9\" fill-rule=\"evenodd\" fill-opacity=\"1\" stroke=\"#000000\" stroke-opacity=\"1\" stroke-width=\"3.2\"/>\n",
       "<circle clip-path=\"url(#clip562)\" cx=\"1576.04\" cy=\"1372.83\" r=\"14\" fill=\"#009af9\" fill-rule=\"evenodd\" fill-opacity=\"1\" stroke=\"#000000\" stroke-opacity=\"1\" stroke-width=\"3.2\"/>\n",
       "<circle clip-path=\"url(#clip562)\" cx=\"1679.05\" cy=\"1373.01\" r=\"14\" fill=\"#009af9\" fill-rule=\"evenodd\" fill-opacity=\"1\" stroke=\"#000000\" stroke-opacity=\"1\" stroke-width=\"3.2\"/>\n",
       "<circle clip-path=\"url(#clip562)\" cx=\"1782.07\" cy=\"1373.1\" r=\"14\" fill=\"#009af9\" fill-rule=\"evenodd\" fill-opacity=\"1\" stroke=\"#000000\" stroke-opacity=\"1\" stroke-width=\"3.2\"/>\n",
       "<circle clip-path=\"url(#clip562)\" cx=\"1885.08\" cy=\"1373.15\" r=\"14\" fill=\"#009af9\" fill-rule=\"evenodd\" fill-opacity=\"1\" stroke=\"#000000\" stroke-opacity=\"1\" stroke-width=\"3.2\"/>\n",
       "<circle clip-path=\"url(#clip562)\" cx=\"1988.09\" cy=\"1373.17\" r=\"14\" fill=\"#009af9\" fill-rule=\"evenodd\" fill-opacity=\"1\" stroke=\"#000000\" stroke-opacity=\"1\" stroke-width=\"3.2\"/>\n",
       "<circle clip-path=\"url(#clip562)\" cx=\"2091.1\" cy=\"1373.18\" r=\"14\" fill=\"#009af9\" fill-rule=\"evenodd\" fill-opacity=\"1\" stroke=\"#000000\" stroke-opacity=\"1\" stroke-width=\"3.2\"/>\n",
       "<circle clip-path=\"url(#clip562)\" cx=\"2194.12\" cy=\"1373.19\" r=\"14\" fill=\"#009af9\" fill-rule=\"evenodd\" fill-opacity=\"1\" stroke=\"#000000\" stroke-opacity=\"1\" stroke-width=\"3.2\"/>\n",
       "<circle clip-path=\"url(#clip562)\" cx=\"2297.13\" cy=\"1373.19\" r=\"14\" fill=\"#009af9\" fill-rule=\"evenodd\" fill-opacity=\"1\" stroke=\"#000000\" stroke-opacity=\"1\" stroke-width=\"3.2\"/>\n",
       "<circle clip-path=\"url(#clip562)\" cx=\"545.916\" cy=\"250.477\" r=\"14\" fill=\"#e26f46\" fill-rule=\"evenodd\" fill-opacity=\"1\" stroke=\"#000000\" stroke-opacity=\"1\" stroke-width=\"3.2\"/>\n",
       "<circle clip-path=\"url(#clip562)\" cx=\"648.929\" cy=\"1270.21\" r=\"14\" fill=\"#e26f46\" fill-rule=\"evenodd\" fill-opacity=\"1\" stroke=\"#000000\" stroke-opacity=\"1\" stroke-width=\"3.2\"/>\n",
       "<circle clip-path=\"url(#clip562)\" cx=\"751.941\" cy=\"1372.47\" r=\"14\" fill=\"#e26f46\" fill-rule=\"evenodd\" fill-opacity=\"1\" stroke=\"#000000\" stroke-opacity=\"1\" stroke-width=\"3.2\"/>\n",
       "<circle clip-path=\"url(#clip562)\" cx=\"854.954\" cy=\"1373.19\" r=\"14\" fill=\"#e26f46\" fill-rule=\"evenodd\" fill-opacity=\"1\" stroke=\"#000000\" stroke-opacity=\"1\" stroke-width=\"3.2\"/>\n",
       "<path clip-path=\"url(#clip560)\" d=\"\n",
       "M1961.47 322.316 L2287.24 322.316 L2287.24 166.796 L1961.47 166.796  Z\n",
       "  \" fill=\"#ffffff\" fill-rule=\"evenodd\" fill-opacity=\"1\"/>\n",
       "<polyline clip-path=\"url(#clip560)\" style=\"stroke:#000000; stroke-linecap:butt; stroke-linejoin:round; stroke-width:4; stroke-opacity:1; fill:none\" points=\"\n",
       "  1961.47,322.316 2287.24,322.316 2287.24,166.796 1961.47,166.796 1961.47,322.316 \n",
       "  \"/>\n",
       "<circle clip-path=\"url(#clip560)\" cx=\"2048.82\" cy=\"218.636\" r=\"23\" fill=\"#009af9\" fill-rule=\"evenodd\" fill-opacity=\"1\" stroke=\"#000000\" stroke-opacity=\"1\" stroke-width=\"5.12\"/>\n",
       "<path clip-path=\"url(#clip560)\" d=\"M2156.53 214.967 Q2158.12 212.096 2160.35 210.731 Q2162.57 209.365 2165.58 209.365 Q2169.63 209.365 2171.83 212.212 Q2174.03 215.036 2174.03 220.268 L2174.03 235.916 L2169.74 235.916 L2169.74 220.407 Q2169.74 216.68 2168.42 214.874 Q2167.1 213.069 2164.4 213.069 Q2161.09 213.069 2159.16 215.268 Q2157.24 217.467 2157.24 221.263 L2157.24 235.916 L2152.96 235.916 L2152.96 220.407 Q2152.96 216.657 2151.64 214.874 Q2150.32 213.069 2147.57 213.069 Q2144.3 213.069 2142.38 215.291 Q2140.46 217.49 2140.46 221.263 L2140.46 235.916 L2136.18 235.916 L2136.18 209.99 L2140.46 209.99 L2140.46 214.018 Q2141.92 211.633 2143.96 210.499 Q2145.99 209.365 2148.79 209.365 Q2151.62 209.365 2153.59 210.8 Q2155.58 212.235 2156.53 214.967 Z\" fill=\"#000000\" fill-rule=\"evenodd\" fill-opacity=\"1\" /><path clip-path=\"url(#clip560)\" d=\"M2183.08 214.388 L2212.75 214.388 L2212.75 218.277 L2183.08 218.277 L2183.08 214.388 M2183.08 223.832 L2212.75 223.832 L2212.75 227.768 L2183.08 227.768 L2183.08 223.832 Z\" fill=\"#000000\" fill-rule=\"evenodd\" fill-opacity=\"1\" /><path clip-path=\"url(#clip560)\" d=\"M2223.66 231.981 L2231.29 231.981 L2231.29 205.615 L2222.98 207.282 L2222.98 203.022 L2231.25 201.356 L2235.92 201.356 L2235.92 231.981 L2243.56 231.981 L2243.56 235.916 L2223.66 235.916 L2223.66 231.981 Z\" fill=\"#000000\" fill-rule=\"evenodd\" fill-opacity=\"1\" /><circle clip-path=\"url(#clip560)\" cx=\"2048.82\" cy=\"270.476\" r=\"23\" fill=\"#e26f46\" fill-rule=\"evenodd\" fill-opacity=\"1\" stroke=\"#000000\" stroke-opacity=\"1\" stroke-width=\"5.12\"/>\n",
       "<path clip-path=\"url(#clip560)\" d=\"M2156.53 266.807 Q2158.12 263.936 2160.35 262.571 Q2162.57 261.205 2165.58 261.205 Q2169.63 261.205 2171.83 264.052 Q2174.03 266.876 2174.03 272.108 L2174.03 287.756 L2169.74 287.756 L2169.74 272.247 Q2169.74 268.52 2168.42 266.714 Q2167.1 264.909 2164.4 264.909 Q2161.09 264.909 2159.16 267.108 Q2157.24 269.307 2157.24 273.103 L2157.24 287.756 L2152.96 287.756 L2152.96 272.247 Q2152.96 268.497 2151.64 266.714 Q2150.32 264.909 2147.57 264.909 Q2144.3 264.909 2142.38 267.131 Q2140.46 269.33 2140.46 273.103 L2140.46 287.756 L2136.18 287.756 L2136.18 261.83 L2140.46 261.83 L2140.46 265.858 Q2141.92 263.473 2143.96 262.339 Q2145.99 261.205 2148.79 261.205 Q2151.62 261.205 2153.59 262.64 Q2155.58 264.075 2156.53 266.807 Z\" fill=\"#000000\" fill-rule=\"evenodd\" fill-opacity=\"1\" /><path clip-path=\"url(#clip560)\" d=\"M2183.08 266.228 L2212.75 266.228 L2212.75 270.117 L2183.08 270.117 L2183.08 266.228 M2183.08 275.672 L2212.75 275.672 L2212.75 279.608 L2183.08 279.608 L2183.08 275.672 Z\" fill=\"#000000\" fill-rule=\"evenodd\" fill-opacity=\"1\" /><path clip-path=\"url(#clip560)\" d=\"M2226.87 283.821 L2243.19 283.821 L2243.19 287.756 L2221.25 287.756 L2221.25 283.821 Q2223.91 281.066 2228.49 276.436 Q2233.1 271.784 2234.28 270.441 Q2236.53 267.918 2237.41 266.182 Q2238.31 264.423 2238.31 262.733 Q2238.31 259.978 2236.36 258.242 Q2234.44 256.506 2231.34 256.506 Q2229.14 256.506 2226.69 257.27 Q2224.26 258.034 2221.48 259.585 L2221.48 254.862 Q2224.3 253.728 2226.76 253.149 Q2229.21 252.571 2231.25 252.571 Q2236.62 252.571 2239.81 255.256 Q2243.01 257.941 2243.01 262.432 Q2243.01 264.561 2242.2 266.483 Q2241.41 268.381 2239.3 270.973 Q2238.72 271.645 2235.62 274.862 Q2232.52 278.057 2226.87 283.821 Z\" fill=\"#000000\" fill-rule=\"evenodd\" fill-opacity=\"1\" /></svg>\n"
      ]
     },
     "execution_count": 66,
     "metadata": {},
     "output_type": "execute_result"
    },
    {
     "name": "stderr",
     "output_type": "stream",
     "text": [
      "┌ Warning: No strict ticks found\n",
      "└ @ PlotUtils /home/rdpaula/.julia/packages/PlotUtils/jNTYY/src/ticks.jl:191\n",
      "┌ Warning: No strict ticks found\n",
      "└ @ PlotUtils /home/rdpaula/.julia/packages/PlotUtils/jNTYY/src/ticks.jl:191\n"
     ]
    }
   ],
   "source": [
    "scatter(0:18,Vr1,yscale=:log10,xlabel=\"i\",ylabel=\"[Er]log10\",label=\"m=1\",title=\"Error Relatiivo\",ylim=(-0.01,0.25))\n",
    "scatter!(Vr2,label=\"m=2\")"
   ]
  },
  {
   "cell_type": "markdown",
   "metadata": {},
   "source": [
    "*En el caso donde m=1 el algoritmo opera con valores de $f(p)/f'(p)$ muy chicos y necesita mas iteraciones para \n",
    "para converger, o puede que no converga al sumar valores iguales o menores a la del punto flotante mas cercano \n",
    "a $0$.\n",
    "En el caso $m=2$, $m*f(p)/f'(p)$ contribuye para que el programa converga más rapido ($m$ depende del odern de la raiz).*"
   ]
  }
 ],
 "metadata": {
  "@webio": {
   "lastCommId": null,
   "lastKernelId": null
  },
  "kernelspec": {
   "display_name": "Julia 1.7.2",
   "language": "julia",
   "name": "julia-1.7"
  },
  "language_info": {
   "file_extension": ".jl",
   "mimetype": "application/julia",
   "name": "julia",
   "version": "1.7.2"
  }
 },
 "nbformat": 4,
 "nbformat_minor": 2
}
