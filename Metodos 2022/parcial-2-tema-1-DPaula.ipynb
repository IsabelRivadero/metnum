{
 "cells": [
  {
   "cell_type": "markdown",
   "metadata": {},
   "source": [
    "# Métodos Numericos 2022\n",
    "\n",
    "## Parcial 2 - Tema 1 - 7 de Junio de 2022"
   ]
  },
  {
   "cell_type": "markdown",
   "metadata": {},
   "source": [
    "### No olvide ingresar su(s):\n",
    "\n",
    "**APELLIDO(S):D'Paula**\n",
    "\n",
    "**NOMBRE(S):Roberto Renzo**"
   ]
  },
  {
   "cell_type": "markdown",
   "metadata": {},
   "source": [
    "Al **finalizar el examen**, Ud. tiene que **subir** la notebook al **Moodle** (aula virtual)\n",
    "\n",
    "https://famaf.aulavirtual.unc.edu.ar\n",
    "\n",
    "y enviar por email una copia de seguridad al profesor del teórico, Francisco A. Tamarit (Pancho)\n",
    "\n",
    "  [francisco.tamarit@unc.edu.ar](francisco.tamarit@unc.edu.ar)\n",
    "    \n",
    "Si por alguna eventualidad no puede subir el examen al Moodle, alternativamente, envíe el examen por email a los profesores del práctico de Julia, Oscar Reula `oreula@unc.edu.ar` y Juan I. Perotti `juan.perotti@unc.edu.ar`."
   ]
  },
  {
   "cell_type": "markdown",
   "metadata": {},
   "source": [
    "### Nota sobre la programación en Julia\n",
    "\n",
    "Recuerde que su notebook tiene que poder ser entendida por otra persona. Para ello:\n",
    "\n",
    "* Cuando crea conveniente, use texto Markdown para desarrollar o comentar una idea.\n",
    "\n",
    "* Si lo considera necesario, agregue comentarios a su código.\n",
    "\n",
    "* Realice gráficos que tengan etiquetas en los ejes y leyendas para cada curva o serie de puntos graficados, como así también un título apropiado.\n",
    "\n",
    "* Procure respetar reglas de buena programación:\n",
    "\n",
    "    * Use sangrías adecuadamente.\n",
    "\n",
    "    * Cuando sea posible, implemente funciones de caracter general, en vez de código específico a cada problema, facilitando así la reutilización de código.\n",
    "\n",
    "    * Implemente funciones que tengan los argumentos necesarios para su buen funcionamiento."
   ]
  },
  {
   "cell_type": "code",
   "execution_count": 1,
   "metadata": {},
   "outputs": [],
   "source": [
    "using Plots\n",
    "using LaTeXStrings"
   ]
  },
  {
   "cell_type": "markdown",
   "metadata": {},
   "source": [
    "## Problema 1\n",
    "\n",
    "Considere la integral definida\n",
    "$$\n",
    "I = \\int_a^b \\frac{1}{1 + x^2} dt = \\arctan(x)\\bigg|_a^b\n",
    "$$\n",
    "con $a=0$ y $b=4$.\n",
    "\n",
    "**a)** Grafique el integrando en el intervalo de interés.\n",
    "\n",
    "**b)** Escriba un programa que calcule aproximaciones $A(n)$ de la integral considerada, empleando la regla compuesta del **trapecio**.\n",
    "\n",
    "El programa debe tomar como entrada:\n",
    "\n",
    "* una función `f` que represente el integrando,\n",
    "* los extremos `a` y `b` del intervalo de integración, y\n",
    "* el número `n` de divisiones del intervalo de integración.\n",
    "\n",
    "**c)** Escriba otro programa que calcule la integral empleando la regla compuesta de **Simpson**.\n",
    "\n",
    "**d)** Siendo $\\varepsilon(n)=|A(n)-I|$ el error absoluto para una elección de $n$, y notando que $h=(b-a)/n$, verifique que el cociente de precisión, definido como \n",
    "$$\n",
    "Q(h) = \\frac{\\varepsilon(h)}{\\varepsilon(h/2)} \\, ,\n",
    "$$\n",
    "toma un valor aproximado a $4$ para todo $h$ cuando se usa la regla del **trapecio**, y un valor aproximado a $16$ para todo $h$ cuando se usa la regla de **Simpson**.\n",
    "Utilice para estos cálculos, los valores $n = 2^k$ para $k=1,...,12$.\n",
    "\n",
    "Teniendo en cuenta la expresión del error de truncamiento para cada caso, justifique estos resultados.\n",
    "\n",
    "**e)** En un mismo gráfico y para cada método, calcule y grafique el error relativo $\\varepsilon_r(n) = \\varepsilon(n)/|I|$ vs $n$ en escala *log-log*. Ud. debería observar que\n",
    "\\begin{eqnarray}\n",
    "\\varepsilon_r(n) & \\approx & Cn^{-\\alpha} \\\\\n",
    "\\end{eqnarray}\n",
    "o, equivalentemente,\n",
    "\\begin{eqnarray}\n",
    "\\ln \\varepsilon_r(n) & \\approx & -\\alpha \\ln n + C\n",
    "\\end{eqnarray}\n",
    "donde $\\alpha$ y $C$ son constantes.\n",
    "Esto significa que existe una dependencia tipo ley de potencia entre $\\varepsilon_r(n)$ y $n$, la cual se manifiesta como una recta de pendiente $\\alpha$ en un gráfico de escala *log-log*. \n",
    "\n",
    "**f)** Para cada uno de los métodos de integración, use el gráfico para estimar el exponente $\\alpha$. Para ello, incluya en el gráfico curvas de de la forma $f(n)=A n^{-\\beta}$ vs $n$, probando distintos valores de $\\beta$ hasta encontrar que las mismas solapan aproximadamente con las líneas de puntos $\\varepsilon_r(n)$ vs $n$. Justifique los valores de $\\beta$ hallados."
   ]
  },
  {
   "cell_type": "code",
   "execution_count": null,
   "metadata": {},
   "outputs": [],
   "source": []
  },
  {
   "cell_type": "markdown",
   "metadata": {},
   "source": [
    "***a)***"
   ]
  },
  {
   "cell_type": "code",
   "execution_count": 2,
   "metadata": {},
   "outputs": [
    {
     "data": {
      "text/plain": [
       "g (generic function with 1 method)"
      ]
     },
     "execution_count": 2,
     "metadata": {},
     "output_type": "execute_result"
    }
   ],
   "source": [
    "a=0\n",
    "b=4\n",
    "g(x)=1/(1+x^2)"
   ]
  },
  {
   "cell_type": "code",
   "execution_count": 3,
   "metadata": {},
   "outputs": [
    {
     "data": {
      "image/svg+xml": [
       "<?xml version=\"1.0\" encoding=\"utf-8\"?>\n",
       "<svg xmlns=\"http://www.w3.org/2000/svg\" xmlns:xlink=\"http://www.w3.org/1999/xlink\" width=\"600\" height=\"400\" viewBox=\"0 0 2400 1600\">\n",
       "<defs>\n",
       "  <clipPath id=\"clip780\">\n",
       "    <rect x=\"0\" y=\"0\" width=\"2400\" height=\"1600\"/>\n",
       "  </clipPath>\n",
       "</defs>\n",
       "<path clip-path=\"url(#clip780)\" d=\"\n",
       "M0 1600 L2400 1600 L2400 0 L0 0  Z\n",
       "  \" fill=\"#ffffff\" fill-rule=\"evenodd\" fill-opacity=\"1\"/>\n",
       "<defs>\n",
       "  <clipPath id=\"clip781\">\n",
       "    <rect x=\"480\" y=\"0\" width=\"1681\" height=\"1600\"/>\n",
       "  </clipPath>\n",
       "</defs>\n",
       "<path clip-path=\"url(#clip780)\" d=\"\n",
       "M219.866 1423.18 L2352.76 1423.18 L2352.76 123.472 L219.866 123.472  Z\n",
       "  \" fill=\"#ffffff\" fill-rule=\"evenodd\" fill-opacity=\"1\"/>\n",
       "<defs>\n",
       "  <clipPath id=\"clip782\">\n",
       "    <rect x=\"219\" y=\"123\" width=\"2134\" height=\"1301\"/>\n",
       "  </clipPath>\n",
       "</defs>\n",
       "<polyline clip-path=\"url(#clip782)\" style=\"stroke:#000000; stroke-linecap:butt; stroke-linejoin:round; stroke-width:2; stroke-opacity:0.1; fill:none\" points=\"\n",
       "  280.231,1423.18 280.231,123.472 \n",
       "  \"/>\n",
       "<polyline clip-path=\"url(#clip782)\" style=\"stroke:#000000; stroke-linecap:butt; stroke-linejoin:round; stroke-width:2; stroke-opacity:0.1; fill:none\" points=\"\n",
       "  783.271,1423.18 783.271,123.472 \n",
       "  \"/>\n",
       "<polyline clip-path=\"url(#clip782)\" style=\"stroke:#000000; stroke-linecap:butt; stroke-linejoin:round; stroke-width:2; stroke-opacity:0.1; fill:none\" points=\"\n",
       "  1286.31,1423.18 1286.31,123.472 \n",
       "  \"/>\n",
       "<polyline clip-path=\"url(#clip782)\" style=\"stroke:#000000; stroke-linecap:butt; stroke-linejoin:round; stroke-width:2; stroke-opacity:0.1; fill:none\" points=\"\n",
       "  1789.35,1423.18 1789.35,123.472 \n",
       "  \"/>\n",
       "<polyline clip-path=\"url(#clip782)\" style=\"stroke:#000000; stroke-linecap:butt; stroke-linejoin:round; stroke-width:2; stroke-opacity:0.1; fill:none\" points=\"\n",
       "  2292.39,1423.18 2292.39,123.472 \n",
       "  \"/>\n",
       "<polyline clip-path=\"url(#clip780)\" style=\"stroke:#000000; stroke-linecap:butt; stroke-linejoin:round; stroke-width:4; stroke-opacity:1; fill:none\" points=\"\n",
       "  219.866,1423.18 2352.76,1423.18 \n",
       "  \"/>\n",
       "<polyline clip-path=\"url(#clip780)\" style=\"stroke:#000000; stroke-linecap:butt; stroke-linejoin:round; stroke-width:4; stroke-opacity:1; fill:none\" points=\"\n",
       "  280.231,1423.18 280.231,1404.28 \n",
       "  \"/>\n",
       "<polyline clip-path=\"url(#clip780)\" style=\"stroke:#000000; stroke-linecap:butt; stroke-linejoin:round; stroke-width:4; stroke-opacity:1; fill:none\" points=\"\n",
       "  783.271,1423.18 783.271,1404.28 \n",
       "  \"/>\n",
       "<polyline clip-path=\"url(#clip780)\" style=\"stroke:#000000; stroke-linecap:butt; stroke-linejoin:round; stroke-width:4; stroke-opacity:1; fill:none\" points=\"\n",
       "  1286.31,1423.18 1286.31,1404.28 \n",
       "  \"/>\n",
       "<polyline clip-path=\"url(#clip780)\" style=\"stroke:#000000; stroke-linecap:butt; stroke-linejoin:round; stroke-width:4; stroke-opacity:1; fill:none\" points=\"\n",
       "  1789.35,1423.18 1789.35,1404.28 \n",
       "  \"/>\n",
       "<polyline clip-path=\"url(#clip780)\" style=\"stroke:#000000; stroke-linecap:butt; stroke-linejoin:round; stroke-width:4; stroke-opacity:1; fill:none\" points=\"\n",
       "  2292.39,1423.18 2292.39,1404.28 \n",
       "  \"/>\n",
       "<path clip-path=\"url(#clip780)\" d=\"M280.231 1454.1 Q276.62 1454.1 274.791 1457.66 Q272.986 1461.2 272.986 1468.33 Q272.986 1475.44 274.791 1479.01 Q276.62 1482.55 280.231 1482.55 Q283.865 1482.55 285.671 1479.01 Q287.5 1475.44 287.5 1468.33 Q287.5 1461.2 285.671 1457.66 Q283.865 1454.1 280.231 1454.1 M280.231 1450.39 Q286.041 1450.39 289.097 1455 Q292.175 1459.58 292.175 1468.33 Q292.175 1477.06 289.097 1481.67 Q286.041 1486.25 280.231 1486.25 Q274.421 1486.25 271.342 1481.67 Q268.287 1477.06 268.287 1468.33 Q268.287 1459.58 271.342 1455 Q274.421 1450.39 280.231 1450.39 Z\" fill=\"#000000\" fill-rule=\"evenodd\" fill-opacity=\"1\" /><path clip-path=\"url(#clip780)\" d=\"M773.653 1481.64 L781.292 1481.64 L781.292 1455.28 L772.982 1456.95 L772.982 1452.69 L781.246 1451.02 L785.922 1451.02 L785.922 1481.64 L793.56 1481.64 L793.56 1485.58 L773.653 1485.58 L773.653 1481.64 Z\" fill=\"#000000\" fill-rule=\"evenodd\" fill-opacity=\"1\" /><path clip-path=\"url(#clip780)\" d=\"M1280.96 1481.64 L1297.28 1481.64 L1297.28 1485.58 L1275.34 1485.58 L1275.34 1481.64 Q1278 1478.89 1282.58 1474.26 Q1287.19 1469.61 1288.37 1468.27 Q1290.62 1465.74 1291.5 1464.01 Q1292.4 1462.25 1292.4 1460.56 Q1292.4 1457.8 1290.45 1456.07 Q1288.53 1454.33 1285.43 1454.33 Q1283.23 1454.33 1280.78 1455.09 Q1278.35 1455.86 1275.57 1457.41 L1275.57 1452.69 Q1278.39 1451.55 1280.85 1450.97 Q1283.3 1450.39 1285.34 1450.39 Q1290.71 1450.39 1293.9 1453.08 Q1297.1 1455.77 1297.1 1460.26 Q1297.1 1462.39 1296.29 1464.31 Q1295.5 1466.2 1293.39 1468.8 Q1292.82 1469.47 1289.71 1472.69 Q1286.61 1475.88 1280.96 1481.64 Z\" fill=\"#000000\" fill-rule=\"evenodd\" fill-opacity=\"1\" /><path clip-path=\"url(#clip780)\" d=\"M1793.6 1466.95 Q1796.96 1467.66 1798.83 1469.93 Q1800.73 1472.2 1800.73 1475.53 Q1800.73 1480.65 1797.21 1483.45 Q1793.69 1486.25 1787.21 1486.25 Q1785.03 1486.25 1782.72 1485.81 Q1780.43 1485.39 1777.97 1484.54 L1777.97 1480.02 Q1779.92 1481.16 1782.23 1481.74 Q1784.55 1482.32 1787.07 1482.32 Q1791.47 1482.32 1793.76 1480.58 Q1796.08 1478.84 1796.08 1475.53 Q1796.08 1472.48 1793.92 1470.77 Q1791.79 1469.03 1787.97 1469.03 L1783.95 1469.03 L1783.95 1465.19 L1788.16 1465.19 Q1791.61 1465.19 1793.44 1463.82 Q1795.27 1462.43 1795.27 1459.84 Q1795.27 1457.18 1793.37 1455.77 Q1791.49 1454.33 1787.97 1454.33 Q1786.05 1454.33 1783.85 1454.75 Q1781.65 1455.16 1779.02 1456.04 L1779.02 1451.88 Q1781.68 1451.14 1783.99 1450.77 Q1786.33 1450.39 1788.39 1450.39 Q1793.71 1450.39 1796.82 1452.83 Q1799.92 1455.23 1799.92 1459.35 Q1799.92 1462.22 1798.27 1464.21 Q1796.63 1466.18 1793.6 1466.95 Z\" fill=\"#000000\" fill-rule=\"evenodd\" fill-opacity=\"1\" /><path clip-path=\"url(#clip780)\" d=\"M2295.4 1455.09 L2283.59 1473.54 L2295.4 1473.54 L2295.4 1455.09 M2294.17 1451.02 L2300.05 1451.02 L2300.05 1473.54 L2304.98 1473.54 L2304.98 1477.43 L2300.05 1477.43 L2300.05 1485.58 L2295.4 1485.58 L2295.4 1477.43 L2279.8 1477.43 L2279.8 1472.92 L2294.17 1451.02 Z\" fill=\"#000000\" fill-rule=\"evenodd\" fill-opacity=\"1\" /><path clip-path=\"url(#clip780)\" d=\"M1302.93 1532.4 L1290.04 1549.74 L1303.59 1568.04 L1296.69 1568.04 L1286.31 1554.04 L1275.93 1568.04 L1269.03 1568.04 L1282.87 1549.39 L1270.21 1532.4 L1277.11 1532.4 L1286.57 1545.1 L1296.02 1532.4 L1302.93 1532.4 Z\" fill=\"#000000\" fill-rule=\"evenodd\" fill-opacity=\"1\" /><polyline clip-path=\"url(#clip782)\" style=\"stroke:#000000; stroke-linecap:butt; stroke-linejoin:round; stroke-width:2; stroke-opacity:0.1; fill:none\" points=\"\n",
       "  219.866,1202.47 2352.76,1202.47 \n",
       "  \"/>\n",
       "<polyline clip-path=\"url(#clip782)\" style=\"stroke:#000000; stroke-linecap:butt; stroke-linejoin:round; stroke-width:2; stroke-opacity:0.1; fill:none\" points=\"\n",
       "  219.866,941.92 2352.76,941.92 \n",
       "  \"/>\n",
       "<polyline clip-path=\"url(#clip782)\" style=\"stroke:#000000; stroke-linecap:butt; stroke-linejoin:round; stroke-width:2; stroke-opacity:0.1; fill:none\" points=\"\n",
       "  219.866,681.366 2352.76,681.366 \n",
       "  \"/>\n",
       "<polyline clip-path=\"url(#clip782)\" style=\"stroke:#000000; stroke-linecap:butt; stroke-linejoin:round; stroke-width:2; stroke-opacity:0.1; fill:none\" points=\"\n",
       "  219.866,420.811 2352.76,420.811 \n",
       "  \"/>\n",
       "<polyline clip-path=\"url(#clip782)\" style=\"stroke:#000000; stroke-linecap:butt; stroke-linejoin:round; stroke-width:2; stroke-opacity:0.1; fill:none\" points=\"\n",
       "  219.866,160.256 2352.76,160.256 \n",
       "  \"/>\n",
       "<polyline clip-path=\"url(#clip780)\" style=\"stroke:#000000; stroke-linecap:butt; stroke-linejoin:round; stroke-width:4; stroke-opacity:1; fill:none\" points=\"\n",
       "  219.866,1423.18 219.866,123.472 \n",
       "  \"/>\n",
       "<polyline clip-path=\"url(#clip780)\" style=\"stroke:#000000; stroke-linecap:butt; stroke-linejoin:round; stroke-width:4; stroke-opacity:1; fill:none\" points=\"\n",
       "  219.866,1202.47 238.764,1202.47 \n",
       "  \"/>\n",
       "<polyline clip-path=\"url(#clip780)\" style=\"stroke:#000000; stroke-linecap:butt; stroke-linejoin:round; stroke-width:4; stroke-opacity:1; fill:none\" points=\"\n",
       "  219.866,941.92 238.764,941.92 \n",
       "  \"/>\n",
       "<polyline clip-path=\"url(#clip780)\" style=\"stroke:#000000; stroke-linecap:butt; stroke-linejoin:round; stroke-width:4; stroke-opacity:1; fill:none\" points=\"\n",
       "  219.866,681.366 238.764,681.366 \n",
       "  \"/>\n",
       "<polyline clip-path=\"url(#clip780)\" style=\"stroke:#000000; stroke-linecap:butt; stroke-linejoin:round; stroke-width:4; stroke-opacity:1; fill:none\" points=\"\n",
       "  219.866,420.811 238.764,420.811 \n",
       "  \"/>\n",
       "<polyline clip-path=\"url(#clip780)\" style=\"stroke:#000000; stroke-linecap:butt; stroke-linejoin:round; stroke-width:4; stroke-opacity:1; fill:none\" points=\"\n",
       "  219.866,160.256 238.764,160.256 \n",
       "  \"/>\n",
       "<path clip-path=\"url(#clip780)\" d=\"M128.288 1188.27 Q124.677 1188.27 122.848 1191.84 Q121.043 1195.38 121.043 1202.51 Q121.043 1209.62 122.848 1213.18 Q124.677 1216.72 128.288 1216.72 Q131.922 1216.72 133.728 1213.18 Q135.556 1209.62 135.556 1202.51 Q135.556 1195.38 133.728 1191.84 Q131.922 1188.27 128.288 1188.27 M128.288 1184.57 Q134.098 1184.57 137.154 1189.18 Q140.232 1193.76 140.232 1202.51 Q140.232 1211.24 137.154 1215.84 Q134.098 1220.43 128.288 1220.43 Q122.478 1220.43 119.399 1215.84 Q116.343 1211.24 116.343 1202.51 Q116.343 1193.76 119.399 1189.18 Q122.478 1184.57 128.288 1184.57 Z\" fill=\"#000000\" fill-rule=\"evenodd\" fill-opacity=\"1\" /><path clip-path=\"url(#clip780)\" d=\"M148.45 1213.88 L153.334 1213.88 L153.334 1219.75 L148.45 1219.75 L148.45 1213.88 Z\" fill=\"#000000\" fill-rule=\"evenodd\" fill-opacity=\"1\" /><path clip-path=\"url(#clip780)\" d=\"M167.547 1215.82 L183.866 1215.82 L183.866 1219.75 L161.922 1219.75 L161.922 1215.82 Q164.584 1213.06 169.167 1208.44 Q173.774 1203.78 174.954 1202.44 Q177.2 1199.92 178.079 1198.18 Q178.982 1196.42 178.982 1194.73 Q178.982 1191.98 177.038 1190.24 Q175.116 1188.5 172.014 1188.5 Q169.815 1188.5 167.362 1189.27 Q164.931 1190.03 162.153 1191.58 L162.153 1186.86 Q164.977 1185.73 167.431 1185.15 Q169.885 1184.57 171.922 1184.57 Q177.292 1184.57 180.487 1187.25 Q183.681 1189.94 183.681 1194.43 Q183.681 1196.56 182.871 1198.48 Q182.084 1200.38 179.977 1202.97 Q179.399 1203.64 176.297 1206.86 Q173.195 1210.06 167.547 1215.82 Z\" fill=\"#000000\" fill-rule=\"evenodd\" fill-opacity=\"1\" /><path clip-path=\"url(#clip780)\" d=\"M126.205 927.719 Q122.593 927.719 120.765 931.284 Q118.959 934.825 118.959 941.955 Q118.959 949.061 120.765 952.626 Q122.593 956.168 126.205 956.168 Q129.839 956.168 131.644 952.626 Q133.473 949.061 133.473 941.955 Q133.473 934.825 131.644 931.284 Q129.839 927.719 126.205 927.719 M126.205 924.015 Q132.015 924.015 135.07 928.622 Q138.149 933.205 138.149 941.955 Q138.149 950.682 135.07 955.288 Q132.015 959.871 126.205 959.871 Q120.394 959.871 117.316 955.288 Q114.26 950.682 114.26 941.955 Q114.26 933.205 117.316 928.622 Q120.394 924.015 126.205 924.015 Z\" fill=\"#000000\" fill-rule=\"evenodd\" fill-opacity=\"1\" /><path clip-path=\"url(#clip780)\" d=\"M146.366 953.321 L151.251 953.321 L151.251 959.2 L146.366 959.2 L146.366 953.321 Z\" fill=\"#000000\" fill-rule=\"evenodd\" fill-opacity=\"1\" /><path clip-path=\"url(#clip780)\" d=\"M174.283 928.714 L162.477 947.163 L174.283 947.163 L174.283 928.714 M173.056 924.64 L178.936 924.64 L178.936 947.163 L183.866 947.163 L183.866 951.052 L178.936 951.052 L178.936 959.2 L174.283 959.2 L174.283 951.052 L158.681 951.052 L158.681 946.538 L173.056 924.64 Z\" fill=\"#000000\" fill-rule=\"evenodd\" fill-opacity=\"1\" /><path clip-path=\"url(#clip780)\" d=\"M126.529 667.164 Q122.918 667.164 121.089 670.729 Q119.283 674.271 119.283 681.4 Q119.283 688.507 121.089 692.071 Q122.918 695.613 126.529 695.613 Q130.163 695.613 131.968 692.071 Q133.797 688.507 133.797 681.4 Q133.797 674.271 131.968 670.729 Q130.163 667.164 126.529 667.164 M126.529 663.461 Q132.339 663.461 135.394 668.067 Q138.473 672.65 138.473 681.4 Q138.473 690.127 135.394 694.734 Q132.339 699.317 126.529 699.317 Q120.718 699.317 117.64 694.734 Q114.584 690.127 114.584 681.4 Q114.584 672.65 117.64 668.067 Q120.718 663.461 126.529 663.461 Z\" fill=\"#000000\" fill-rule=\"evenodd\" fill-opacity=\"1\" /><path clip-path=\"url(#clip780)\" d=\"M146.691 692.766 L151.575 692.766 L151.575 698.646 L146.691 698.646 L146.691 692.766 Z\" fill=\"#000000\" fill-rule=\"evenodd\" fill-opacity=\"1\" /><path clip-path=\"url(#clip780)\" d=\"M172.339 679.502 Q169.19 679.502 167.339 681.655 Q165.51 683.808 165.51 687.558 Q165.51 691.284 167.339 693.46 Q169.19 695.613 172.339 695.613 Q175.487 695.613 177.315 693.46 Q179.167 691.284 179.167 687.558 Q179.167 683.808 177.315 681.655 Q175.487 679.502 172.339 679.502 M181.621 664.849 L181.621 669.109 Q179.862 668.275 178.056 667.836 Q176.274 667.396 174.514 667.396 Q169.885 667.396 167.431 670.521 Q165.001 673.646 164.653 679.965 Q166.019 677.951 168.079 676.886 Q170.139 675.798 172.616 675.798 Q177.825 675.798 180.834 678.97 Q183.866 682.118 183.866 687.558 Q183.866 692.882 180.718 696.099 Q177.57 699.317 172.339 699.317 Q166.343 699.317 163.172 694.734 Q160.001 690.127 160.001 681.4 Q160.001 673.206 163.89 668.345 Q167.778 663.461 174.329 663.461 Q176.089 663.461 177.871 663.808 Q179.676 664.155 181.621 664.849 Z\" fill=\"#000000\" fill-rule=\"evenodd\" fill-opacity=\"1\" /><path clip-path=\"url(#clip780)\" d=\"M126.783 406.61 Q123.172 406.61 121.343 410.174 Q119.538 413.716 119.538 420.846 Q119.538 427.952 121.343 431.517 Q123.172 435.059 126.783 435.059 Q130.417 435.059 132.223 431.517 Q134.052 427.952 134.052 420.846 Q134.052 413.716 132.223 410.174 Q130.417 406.61 126.783 406.61 M126.783 402.906 Q132.593 402.906 135.649 407.512 Q138.728 412.096 138.728 420.846 Q138.728 429.572 135.649 434.179 Q132.593 438.762 126.783 438.762 Q120.973 438.762 117.894 434.179 Q114.839 429.572 114.839 420.846 Q114.839 412.096 117.894 407.512 Q120.973 402.906 126.783 402.906 Z\" fill=\"#000000\" fill-rule=\"evenodd\" fill-opacity=\"1\" /><path clip-path=\"url(#clip780)\" d=\"M146.945 432.211 L151.829 432.211 L151.829 438.091 L146.945 438.091 L146.945 432.211 Z\" fill=\"#000000\" fill-rule=\"evenodd\" fill-opacity=\"1\" /><path clip-path=\"url(#clip780)\" d=\"M172.014 421.679 Q168.681 421.679 166.76 423.461 Q164.862 425.244 164.862 428.369 Q164.862 431.494 166.76 433.276 Q168.681 435.059 172.014 435.059 Q175.348 435.059 177.269 433.276 Q179.19 431.471 179.19 428.369 Q179.19 425.244 177.269 423.461 Q175.371 421.679 172.014 421.679 M167.339 419.688 Q164.329 418.948 162.64 416.887 Q160.973 414.827 160.973 411.864 Q160.973 407.721 163.913 405.313 Q166.876 402.906 172.014 402.906 Q177.176 402.906 180.116 405.313 Q183.056 407.721 183.056 411.864 Q183.056 414.827 181.366 416.887 Q179.7 418.948 176.714 419.688 Q180.093 420.475 181.968 422.767 Q183.866 425.059 183.866 428.369 Q183.866 433.392 180.788 436.077 Q177.732 438.762 172.014 438.762 Q166.297 438.762 163.218 436.077 Q160.163 433.392 160.163 428.369 Q160.163 425.059 162.061 422.767 Q163.959 420.475 167.339 419.688 M165.626 412.304 Q165.626 414.989 167.292 416.494 Q168.982 417.998 172.014 417.998 Q175.024 417.998 176.714 416.494 Q178.426 414.989 178.426 412.304 Q178.426 409.619 176.714 408.114 Q175.024 406.61 172.014 406.61 Q168.982 406.61 167.292 408.114 Q165.626 409.619 165.626 412.304 Z\" fill=\"#000000\" fill-rule=\"evenodd\" fill-opacity=\"1\" /><path clip-path=\"url(#clip780)\" d=\"M117.501 173.601 L125.14 173.601 L125.14 147.236 L116.83 148.902 L116.83 144.643 L125.093 142.976 L129.769 142.976 L129.769 173.601 L137.408 173.601 L137.408 177.536 L117.501 177.536 L117.501 173.601 Z\" fill=\"#000000\" fill-rule=\"evenodd\" fill-opacity=\"1\" /><path clip-path=\"url(#clip780)\" d=\"M146.853 171.657 L151.737 171.657 L151.737 177.536 L146.853 177.536 L146.853 171.657 Z\" fill=\"#000000\" fill-rule=\"evenodd\" fill-opacity=\"1\" /><path clip-path=\"url(#clip780)\" d=\"M171.922 146.055 Q168.311 146.055 166.482 149.62 Q164.677 153.161 164.677 160.291 Q164.677 167.397 166.482 170.962 Q168.311 174.504 171.922 174.504 Q175.556 174.504 177.362 170.962 Q179.19 167.397 179.19 160.291 Q179.19 153.161 177.362 149.62 Q175.556 146.055 171.922 146.055 M171.922 142.351 Q177.732 142.351 180.788 146.958 Q183.866 151.541 183.866 160.291 Q183.866 169.018 180.788 173.624 Q177.732 178.208 171.922 178.208 Q166.112 178.208 163.033 173.624 Q159.978 169.018 159.978 160.291 Q159.978 151.541 163.033 146.958 Q166.112 142.351 171.922 142.351 Z\" fill=\"#000000\" fill-rule=\"evenodd\" fill-opacity=\"1\" /><path clip-path=\"url(#clip780)\" d=\"M14.479 761.979 L19.3487 761.979 L19.3487 767.581 Q19.3487 770.732 20.6219 771.973 Q21.895 773.183 25.2052 773.183 L28.3562 773.183 L28.3562 763.539 L32.9077 763.539 L32.9077 773.183 L64.0042 773.183 L64.0042 779.071 L32.9077 779.071 L32.9077 784.673 L28.3562 784.673 L28.3562 779.071 L25.8736 779.071 Q19.9216 779.071 17.2162 776.302 Q14.479 773.533 14.479 767.517 L14.479 761.979 Z\" fill=\"#000000\" fill-rule=\"evenodd\" fill-opacity=\"1\" /><path clip-path=\"url(#clip780)\" d=\"M1248.19 9.54393 L1248.19 15.7418 L1241.06 15.7418 Q1237.05 15.7418 1235.47 17.3622 Q1233.93 18.9825 1233.93 23.1955 L1233.93 27.2059 L1246.21 27.2059 L1246.21 32.9987 L1233.93 32.9987 L1233.93 72.576 L1226.44 72.576 L1226.44 32.9987 L1219.31 32.9987 L1219.31 27.2059 L1226.44 27.2059 L1226.44 24.0462 Q1226.44 16.471 1229.96 13.0277 Q1233.49 9.54393 1241.14 9.54393 L1248.19 9.54393 Z\" fill=\"#000000\" fill-rule=\"evenodd\" fill-opacity=\"1\" /><path clip-path=\"url(#clip780)\" d=\"M1272.34 9.62495 Q1266.91 18.942 1264.27 28.0566 Q1261.64 37.1711 1261.64 46.5287 Q1261.64 55.8863 1264.27 65.0818 Q1266.95 74.2369 1272.34 83.5134 L1265.85 83.5134 Q1259.78 73.9938 1256.74 64.7983 Q1253.74 55.6027 1253.74 46.5287 Q1253.74 37.4952 1256.74 28.3401 Q1259.74 19.1851 1265.85 9.62495 L1272.34 9.62495 Z\" fill=\"#000000\" fill-rule=\"evenodd\" fill-opacity=\"1\" /><path clip-path=\"url(#clip780)\" d=\"M1324.51 27.2059 L1308.1 49.2833 L1325.36 72.576 L1316.57 72.576 L1303.37 54.752 L1290.16 72.576 L1281.37 72.576 L1298.99 48.8377 L1282.87 27.2059 L1291.66 27.2059 L1303.69 43.369 L1315.72 27.2059 L1324.51 27.2059 Z\" fill=\"#000000\" fill-rule=\"evenodd\" fill-opacity=\"1\" /><path clip-path=\"url(#clip780)\" d=\"M1334.72 9.62495 L1341.2 9.62495 Q1347.28 19.1851 1350.27 28.3401 Q1353.31 37.4952 1353.31 46.5287 Q1353.31 55.6027 1350.27 64.7983 Q1347.28 73.9938 1341.2 83.5134 L1334.72 83.5134 Q1340.11 74.2369 1342.74 65.0818 Q1345.41 55.8863 1345.41 46.5287 Q1345.41 37.1711 1342.74 28.0566 Q1340.11 18.942 1334.72 9.62495 Z\" fill=\"#000000\" fill-rule=\"evenodd\" fill-opacity=\"1\" /><polyline clip-path=\"url(#clip782)\" style=\"stroke:#009af9; stroke-linecap:butt; stroke-linejoin:round; stroke-width:4; stroke-opacity:1; fill:none\" points=\"\n",
       "  280.231,160.256 285.261,160.387 290.292,160.777 295.322,161.428 300.353,162.337 305.383,163.505 310.413,164.929 315.444,166.609 320.474,168.541 325.505,170.724 \n",
       "  330.535,173.155 335.565,175.831 340.596,178.75 345.626,181.907 350.657,185.3 355.687,188.924 360.717,192.775 365.748,196.849 370.778,201.141 375.809,205.648 \n",
       "  380.839,210.363 385.869,215.282 390.9,220.4 395.93,225.71 400.961,231.209 405.991,236.89 411.021,242.747 416.052,248.775 421.082,254.968 426.113,261.32 \n",
       "  431.143,267.825 436.173,274.476 441.204,281.269 446.234,288.196 451.265,295.251 456.295,302.43 461.325,309.725 466.356,317.13 471.386,324.64 476.417,332.248 \n",
       "  481.447,339.949 486.477,347.737 491.508,355.606 496.538,363.55 501.569,371.564 506.599,379.642 511.629,387.779 516.66,395.97 521.69,404.209 526.721,412.491 \n",
       "  531.751,420.811 536.781,429.165 541.812,437.547 546.842,445.953 551.873,454.379 556.903,462.82 561.933,471.272 566.964,479.73 571.994,488.192 577.025,496.652 \n",
       "  582.055,505.108 587.085,513.556 592.116,521.991 597.146,530.412 602.177,538.815 607.207,547.196 612.237,555.553 617.268,563.883 622.298,572.183 627.329,580.452 \n",
       "  632.359,588.685 637.389,596.881 642.42,605.039 647.45,613.155 652.481,621.227 657.511,629.255 662.541,637.235 667.572,645.167 672.602,653.049 677.633,660.879 \n",
       "  682.663,668.656 687.693,676.378 692.724,684.045 697.754,691.656 702.785,699.208 707.815,706.702 712.845,714.137 717.876,721.511 722.906,728.825 727.937,736.076 \n",
       "  732.967,743.265 737.997,750.392 743.028,757.455 748.058,764.454 753.089,771.389 758.119,778.26 763.149,785.067 768.18,791.808 773.21,798.485 778.241,805.096 \n",
       "  783.271,811.643 788.301,818.124 793.332,824.54 798.362,830.891 803.393,837.178 808.423,843.399 813.453,849.556 818.484,855.648 823.514,861.675 828.545,867.639 \n",
       "  833.575,873.539 838.605,879.376 843.636,885.149 848.666,890.86 853.697,896.508 858.727,902.094 863.757,907.618 868.788,913.081 873.818,918.483 878.849,923.824 \n",
       "  883.879,929.106 888.909,934.328 893.94,939.491 898.97,944.595 904.001,949.641 909.031,954.63 914.061,959.562 919.092,964.437 924.122,969.255 929.153,974.019 \n",
       "  934.183,978.727 939.213,983.381 944.244,987.981 949.274,992.527 954.305,997.021 959.335,1001.46 964.365,1005.85 969.396,1010.19 974.426,1014.48 979.457,1018.72 \n",
       "  984.487,1022.9 989.517,1027.04 994.548,1031.13 999.578,1035.18 1004.61,1039.17 1009.64,1043.12 1014.67,1047.02 1019.7,1050.88 1024.73,1054.69 1029.76,1058.45 \n",
       "  1034.79,1062.18 1039.82,1065.85 1044.85,1069.49 1049.88,1073.08 1054.91,1076.63 1059.94,1080.14 1064.97,1083.61 1070,1087.04 1075.03,1090.43 1080.06,1093.77 \n",
       "  1085.1,1097.08 1090.13,1100.35 1095.16,1103.58 1100.19,1106.78 1105.22,1109.94 1110.25,1113.06 1115.28,1116.14 1120.31,1119.19 1125.34,1122.2 1130.37,1125.18 \n",
       "  1135.4,1128.13 1140.43,1131.04 1145.46,1133.91 1150.49,1136.76 1155.52,1139.57 1160.55,1142.35 1165.58,1145.09 1170.61,1147.81 1175.64,1150.49 1180.67,1153.15 \n",
       "  1185.7,1155.77 1190.73,1158.37 1195.76,1160.93 1200.79,1163.47 1205.82,1165.97 1210.86,1168.45 1215.89,1170.9 1220.92,1173.32 1225.95,1175.72 1230.98,1178.09 \n",
       "  1236.01,1180.43 1241.04,1182.75 1246.07,1185.04 1251.1,1187.3 1256.13,1189.54 1261.16,1191.76 1266.19,1193.95 1271.22,1196.12 1276.25,1198.26 1281.28,1200.38 \n",
       "  1286.31,1202.47 1291.34,1204.55 1296.37,1206.6 1301.4,1208.63 1306.43,1210.63 1311.46,1212.62 1316.49,1214.58 1321.52,1216.52 1326.55,1218.44 1331.58,1220.34 \n",
       "  1336.62,1222.22 1341.65,1224.08 1346.68,1225.92 1351.71,1227.74 1356.74,1229.54 1361.77,1231.32 1366.8,1233.08 1371.83,1234.83 1376.86,1236.55 1381.89,1238.26 \n",
       "  1386.92,1239.95 1391.95,1241.62 1396.98,1243.28 1402.01,1244.92 1407.04,1246.54 1412.07,1248.14 1417.1,1249.73 1422.13,1251.3 1427.16,1252.85 1432.19,1254.39 \n",
       "  1437.22,1255.91 1442.25,1257.42 1447.28,1258.91 1452.31,1260.39 1457.34,1261.85 1462.38,1263.29 1467.41,1264.73 1472.44,1266.14 1477.47,1267.55 1482.5,1268.94 \n",
       "  1487.53,1270.31 1492.56,1271.67 1497.59,1273.02 1502.62,1274.36 1507.65,1275.68 1512.68,1276.99 1517.71,1278.28 1522.74,1279.56 1527.77,1280.83 1532.8,1282.09 \n",
       "  1537.83,1283.34 1542.86,1284.57 1547.89,1285.79 1552.92,1287 1557.95,1288.2 1562.98,1289.38 1568.01,1290.56 1573.04,1291.72 1578.07,1292.87 1583.1,1294.02 \n",
       "  1588.14,1295.15 1593.17,1296.27 1598.2,1297.37 1603.23,1298.47 1608.26,1299.56 1613.29,1300.64 1618.32,1301.71 1623.35,1302.76 1628.38,1303.81 1633.41,1304.85 \n",
       "  1638.44,1305.88 1643.47,1306.9 1648.5,1307.91 1653.53,1308.91 1658.56,1309.9 1663.59,1310.88 1668.62,1311.85 1673.65,1312.82 1678.68,1313.77 1683.71,1314.72 \n",
       "  1688.74,1315.66 1693.77,1316.59 1698.8,1317.51 1703.83,1318.42 1708.86,1319.32 1713.9,1320.22 1718.93,1321.11 1723.96,1321.99 1728.99,1322.86 1734.02,1323.73 \n",
       "  1739.05,1324.58 1744.08,1325.43 1749.11,1326.28 1754.14,1327.11 1759.17,1327.94 1764.2,1328.76 1769.23,1329.57 1774.26,1330.38 1779.29,1331.18 1784.32,1331.97 \n",
       "  1789.35,1332.75 1794.38,1333.53 1799.41,1334.3 1804.44,1335.07 1809.47,1335.83 1814.5,1336.58 1819.53,1337.32 1824.56,1338.06 1829.59,1338.79 1834.62,1339.52 \n",
       "  1839.66,1340.24 1844.69,1340.96 1849.72,1341.67 1854.75,1342.37 1859.78,1343.06 1864.81,1343.76 1869.84,1344.44 1874.87,1345.12 1879.9,1345.79 1884.93,1346.46 \n",
       "  1889.96,1347.12 1894.99,1347.78 1900.02,1348.43 1905.05,1349.08 1910.08,1349.72 1915.11,1350.36 1920.14,1350.99 1925.17,1351.61 1930.2,1352.23 1935.23,1352.85 \n",
       "  1940.26,1353.46 1945.29,1354.07 1950.32,1354.67 1955.35,1355.26 1960.38,1355.85 1965.42,1356.44 1970.45,1357.02 1975.48,1357.6 1980.51,1358.17 1985.54,1358.74 \n",
       "  1990.57,1359.31 1995.6,1359.86 2000.63,1360.42 2005.66,1360.97 2010.69,1361.52 2015.72,1362.06 2020.75,1362.6 2025.78,1363.13 2030.81,1363.66 2035.84,1364.19 \n",
       "  2040.87,1364.71 2045.9,1365.22 2050.93,1365.74 2055.96,1366.25 2060.99,1366.75 2066.02,1367.25 2071.05,1367.75 2076.08,1368.25 2081.11,1368.74 2086.14,1369.22 \n",
       "  2091.18,1369.71 2096.21,1370.19 2101.24,1370.66 2106.27,1371.14 2111.3,1371.6 2116.33,1372.07 2121.36,1372.53 2126.39,1372.99 2131.42,1373.44 2136.45,1373.9 \n",
       "  2141.48,1374.35 2146.51,1374.79 2151.54,1375.23 2156.57,1375.67 2161.6,1376.11 2166.63,1376.54 2171.66,1376.97 2176.69,1377.39 2181.72,1377.82 2186.75,1378.24 \n",
       "  2191.78,1378.65 2196.81,1379.07 2201.84,1379.48 2206.87,1379.89 2211.9,1380.29 2216.94,1380.69 2221.97,1381.09 2227,1381.49 2232.03,1381.88 2237.06,1382.27 \n",
       "  2242.09,1382.66 2247.12,1383.05 2252.15,1383.43 2257.18,1383.81 2262.21,1384.19 2267.24,1384.56 2272.27,1384.93 2277.3,1385.3 2282.33,1385.67 2287.36,1386.03 \n",
       "  2292.39,1386.4 \n",
       "  \"/>\n",
       "<path clip-path=\"url(#clip780)\" d=\"\n",
       "M1992.24 270.476 L2281.66 270.476 L2281.66 166.796 L1992.24 166.796  Z\n",
       "  \" fill=\"#ffffff\" fill-rule=\"evenodd\" fill-opacity=\"1\"/>\n",
       "<polyline clip-path=\"url(#clip780)\" style=\"stroke:#000000; stroke-linecap:butt; stroke-linejoin:round; stroke-width:4; stroke-opacity:1; fill:none\" points=\"\n",
       "  1992.24,270.476 2281.66,270.476 2281.66,166.796 1992.24,166.796 1992.24,270.476 \n",
       "  \"/>\n",
       "<polyline clip-path=\"url(#clip780)\" style=\"stroke:#009af9; stroke-linecap:butt; stroke-linejoin:round; stroke-width:4; stroke-opacity:1; fill:none\" points=\"\n",
       "  2015.94,218.636 2158.13,218.636 \n",
       "  \"/>\n",
       "<path clip-path=\"url(#clip780)\" d=\"M2195.67 238.323 Q2193.87 242.953 2192.16 244.365 Q2190.44 245.777 2187.57 245.777 L2184.17 245.777 L2184.17 242.212 L2186.67 242.212 Q2188.43 242.212 2189.4 241.379 Q2190.37 240.545 2191.55 237.443 L2192.32 235.499 L2181.83 209.99 L2186.35 209.99 L2194.45 230.268 L2202.55 209.99 L2207.06 209.99 L2195.67 238.323 Z\" fill=\"#000000\" fill-rule=\"evenodd\" fill-opacity=\"1\" /><path clip-path=\"url(#clip780)\" d=\"M2214.35 231.981 L2221.99 231.981 L2221.99 205.615 L2213.68 207.282 L2213.68 203.022 L2221.95 201.356 L2226.62 201.356 L2226.62 231.981 L2234.26 231.981 L2234.26 235.916 L2214.35 235.916 L2214.35 231.981 Z\" fill=\"#000000\" fill-rule=\"evenodd\" fill-opacity=\"1\" /></svg>\n"
      ]
     },
     "execution_count": 3,
     "metadata": {},
     "output_type": "execute_result"
    }
   ],
   "source": [
    "plot(a:0.01:b,g,\n",
    "title=\"f(x)\",\n",
    "xlabel=\"x\",\n",
    "ylabel=\"f\")"
   ]
  },
  {
   "cell_type": "markdown",
   "metadata": {},
   "source": [
    "***b)***"
   ]
  },
  {
   "cell_type": "code",
   "execution_count": 310,
   "metadata": {},
   "outputs": [
    {
     "data": {
      "text/plain": [
       "trapecio_compuesto (generic function with 1 method)"
      ]
     },
     "execution_count": 310,
     "metadata": {},
     "output_type": "execute_result"
    }
   ],
   "source": [
    "function trapecio_compuesto(f,a,b,n)\n",
    "    St=0\n",
    "    h=(b-a)/(n-1)\n",
    "    x0=a\n",
    "    for i=1:n-2\n",
    "        x1=a+i*h\n",
    "        St+=f(x1)\n",
    "        #println(\"$i, $St, $x1\")\n",
    "    end\n",
    "    return h*((f(a)+f(b))/2 + St)\n",
    "end"
   ]
  },
  {
   "cell_type": "code",
   "execution_count": 311,
   "metadata": {},
   "outputs": [
    {
     "data": {
      "text/plain": [
       "1.3256735817329137"
      ]
     },
     "execution_count": 311,
     "metadata": {},
     "output_type": "execute_result"
    }
   ],
   "source": [
    "n=17\n",
    "It1=trapecio_compuesto(g,a,b,n)"
   ]
  },
  {
   "cell_type": "code",
   "execution_count": null,
   "metadata": {},
   "outputs": [],
   "source": []
  },
  {
   "cell_type": "markdown",
   "metadata": {},
   "source": [
    "***c)***"
   ]
  },
  {
   "cell_type": "code",
   "execution_count": 347,
   "metadata": {},
   "outputs": [
    {
     "data": {
      "text/plain": [
       "Simpson_compuesto (generic function with 1 method)"
      ]
     },
     "execution_count": 347,
     "metadata": {},
     "output_type": "execute_result"
    }
   ],
   "source": [
    "function Simpson_compuesto(f,a,b,n)       ### Con n impar i.e intervalos pares \n",
    "    @assert n%2==1\n",
    "    Sp=0\n",
    "    Si=0\n",
    "    h=(b-a)/(n-1)\n",
    "    x0=a\n",
    "    for i=1:(n-1)/2\n",
    "        x1=a+(2*i-1)*h\n",
    "        Si+=f(x1)\n",
    "        #println(\"$i, $Ss, $x2\")\n",
    "    end\n",
    "    for i=1:(((n-1)/2)-1)\n",
    "        x2=a+2*i*h\n",
    "        Sp+=f(x2)\n",
    "        #println(\"$i, $Ss, $x2\")\n",
    "    end\n",
    "    return (h/3)*(f(a) + 2*Sp + 4*Si + f(b))\n",
    "end"
   ]
  },
  {
   "cell_type": "code",
   "execution_count": 348,
   "metadata": {},
   "outputs": [
    {
     "data": {
      "text/plain": [
       "1.325813641478192"
      ]
     },
     "execution_count": 348,
     "metadata": {},
     "output_type": "execute_result"
    }
   ],
   "source": [
    "n=17\n",
    "Is1=Simpson_compuesto(g,a,b,n)"
   ]
  },
  {
   "cell_type": "code",
   "execution_count": null,
   "metadata": {},
   "outputs": [],
   "source": []
  },
  {
   "cell_type": "markdown",
   "metadata": {},
   "source": [
    "***d)***"
   ]
  },
  {
   "cell_type": "markdown",
   "metadata": {},
   "source": [
    "**Solución exacta**"
   ]
  },
  {
   "cell_type": "code",
   "execution_count": 349,
   "metadata": {},
   "outputs": [
    {
     "data": {
      "text/plain": [
       "1.3258176636680326"
      ]
     },
     "execution_count": 349,
     "metadata": {},
     "output_type": "execute_result"
    }
   ],
   "source": [
    "k(x)=atan(x)\n",
    "I_exacta=k(b)-k(a)"
   ]
  },
  {
   "cell_type": "code",
   "execution_count": null,
   "metadata": {},
   "outputs": [],
   "source": []
  },
  {
   "cell_type": "markdown",
   "metadata": {},
   "source": [
    "***Coeficiente de precisión para el Trapecio***"
   ]
  },
  {
   "cell_type": "code",
   "execution_count": 376,
   "metadata": {},
   "outputs": [
    {
     "data": {
      "text/plain": [
       "39.0"
      ]
     },
     "execution_count": 376,
     "metadata": {},
     "output_type": "execute_result"
    }
   ],
   "source": [
    "h1=0.1\n",
    "n1=(b-a)/h1-1"
   ]
  },
  {
   "cell_type": "code",
   "execution_count": 377,
   "metadata": {},
   "outputs": [
    {
     "data": {
      "text/plain": [
       "1.3257921064398537"
      ]
     },
     "execution_count": 377,
     "metadata": {},
     "output_type": "execute_result"
    }
   ],
   "source": [
    "It1=trapecio_compuesto(g,a,b,n1)"
   ]
  },
  {
   "cell_type": "code",
   "execution_count": 378,
   "metadata": {},
   "outputs": [
    {
     "data": {
      "text/plain": [
       "2.555722817887407e-5"
      ]
     },
     "execution_count": 378,
     "metadata": {},
     "output_type": "execute_result"
    }
   ],
   "source": [
    "e_h1=abs(It1-I_exacta)"
   ]
  },
  {
   "cell_type": "code",
   "execution_count": null,
   "metadata": {},
   "outputs": [],
   "source": []
  },
  {
   "cell_type": "code",
   "execution_count": 379,
   "metadata": {},
   "outputs": [
    {
     "data": {
      "text/plain": [
       "79.0"
      ]
     },
     "execution_count": 379,
     "metadata": {},
     "output_type": "execute_result"
    }
   ],
   "source": [
    "h2=0.05\n",
    "n2=(b-a)/h2-1"
   ]
  },
  {
   "cell_type": "code",
   "execution_count": 380,
   "metadata": {},
   "outputs": [
    {
     "data": {
      "text/plain": [
       "1.3258115972851108"
      ]
     },
     "execution_count": 380,
     "metadata": {},
     "output_type": "execute_result"
    }
   ],
   "source": [
    "It2=trapecio_compuesto(g,a,b,n2)"
   ]
  },
  {
   "cell_type": "code",
   "execution_count": 381,
   "metadata": {},
   "outputs": [
    {
     "data": {
      "text/plain": [
       "6.066382921776636e-6"
      ]
     },
     "execution_count": 381,
     "metadata": {},
     "output_type": "execute_result"
    }
   ],
   "source": [
    "e_h2=abs(It2-I_exacta)"
   ]
  },
  {
   "cell_type": "code",
   "execution_count": 382,
   "metadata": {},
   "outputs": [
    {
     "data": {
      "text/plain": [
       "4.212926962973388"
      ]
     },
     "execution_count": 382,
     "metadata": {},
     "output_type": "execute_result"
    }
   ],
   "source": [
    "Q=e_h1/e_h2"
   ]
  },
  {
   "cell_type": "code",
   "execution_count": null,
   "metadata": {},
   "outputs": [],
   "source": []
  },
  {
   "cell_type": "markdown",
   "metadata": {},
   "source": [
    "***Coeficiente de precisión para Simpson***"
   ]
  },
  {
   "cell_type": "code",
   "execution_count": 383,
   "metadata": {},
   "outputs": [
    {
     "data": {
      "text/plain": [
       "1.3258176519299254"
      ]
     },
     "execution_count": 383,
     "metadata": {},
     "output_type": "execute_result"
    }
   ],
   "source": [
    "Is1=Simpson_compuesto(g,a,b,n1)"
   ]
  },
  {
   "cell_type": "code",
   "execution_count": 384,
   "metadata": {},
   "outputs": [
    {
     "data": {
      "text/plain": [
       "1.173810715293655e-8"
      ]
     },
     "execution_count": 384,
     "metadata": {},
     "output_type": "execute_result"
    }
   ],
   "source": [
    "e_h1=abs(Is1-I_exacta)"
   ]
  },
  {
   "cell_type": "code",
   "execution_count": 385,
   "metadata": {},
   "outputs": [
    {
     "data": {
      "text/plain": [
       "1.3258176630058702"
      ]
     },
     "execution_count": 385,
     "metadata": {},
     "output_type": "execute_result"
    }
   ],
   "source": [
    "Is2=Simpson_compuesto(g,a,b,n2)"
   ]
  },
  {
   "cell_type": "code",
   "execution_count": 386,
   "metadata": {},
   "outputs": [
    {
     "data": {
      "text/plain": [
       "6.621623249714048e-10"
      ]
     },
     "execution_count": 386,
     "metadata": {},
     "output_type": "execute_result"
    }
   ],
   "source": [
    "e_h2=abs(Is2-I_exacta)"
   ]
  },
  {
   "cell_type": "code",
   "execution_count": 388,
   "metadata": {},
   "outputs": [
    {
     "data": {
      "text/plain": [
       "17.726932974393332"
      ]
     },
     "execution_count": 388,
     "metadata": {},
     "output_type": "execute_result"
    }
   ],
   "source": [
    "Q=e_h1/e_h2"
   ]
  },
  {
   "cell_type": "code",
   "execution_count": null,
   "metadata": {},
   "outputs": [],
   "source": []
  },
  {
   "cell_type": "code",
   "execution_count": 399,
   "metadata": {},
   "outputs": [
    {
     "data": {
      "text/plain": [
       "12-element Vector{Int64}:\n",
       "    2\n",
       "    4\n",
       "    8\n",
       "   16\n",
       "   32\n",
       "   64\n",
       "  128\n",
       "  256\n",
       "  512\n",
       " 1024\n",
       " 2048\n",
       " 4096"
      ]
     },
     "execution_count": 399,
     "metadata": {},
     "output_type": "execute_result"
    }
   ],
   "source": [
    "n1=[2^k for k=1:12]"
   ]
  },
  {
   "cell_type": "code",
   "execution_count": 405,
   "metadata": {},
   "outputs": [
    {
     "data": {
      "text/plain": [
       "12-element Vector{Int64}:\n",
       "    4\n",
       "    8\n",
       "   16\n",
       "   32\n",
       "   64\n",
       "  128\n",
       "  256\n",
       "  512\n",
       " 1024\n",
       " 2048\n",
       " 4096\n",
       " 8192"
      ]
     },
     "execution_count": 405,
     "metadata": {},
     "output_type": "execute_result"
    }
   ],
   "source": [
    "n2=[2*2^k for k=1:12]"
   ]
  },
  {
   "cell_type": "code",
   "execution_count": 410,
   "metadata": {},
   "outputs": [],
   "source": [
    "It1=zeros(length(n))\n",
    "for i=1:length(n)\n",
    "    It1[i]=trapecio_compuesto(g,a,b,n1[i])\n",
    "end"
   ]
  },
  {
   "cell_type": "code",
   "execution_count": 412,
   "metadata": {},
   "outputs": [],
   "source": [
    "It2=zeros(length(n))\n",
    "for i=1:length(n)\n",
    "    It2[i]=trapecio_compuesto(g,a,b,n2[i])\n",
    "end"
   ]
  },
  {
   "cell_type": "code",
   "execution_count": 415,
   "metadata": {},
   "outputs": [
    {
     "data": {
      "text/plain": [
       "12-element Vector{Float64}:\n",
       " 0.02444825091697944\n",
       " 0.0006980131984557492\n",
       " 0.00016391848573160672\n",
       " 3.840011007838484e-5\n",
       " 9.298900703225144e-6\n",
       " 2.2883316466160153e-6\n",
       " 5.676091812123474e-7\n",
       " 1.4134771886276098e-7\n",
       " 3.526789593699675e-8\n",
       " 8.808363149981346e-9\n",
       " 2.2010178124531876e-9\n",
       " 5.501190614154439e-10"
      ]
     },
     "execution_count": 415,
     "metadata": {},
     "output_type": "execute_result"
    }
   ],
   "source": [
    "e_h1=[abs(It1[i]-I_exacta) for i=1:12]"
   ]
  },
  {
   "cell_type": "code",
   "execution_count": 418,
   "metadata": {},
   "outputs": [
    {
     "data": {
      "text/plain": [
       "12-element Vector{Float64}:\n",
       " 0.02444825091697944\n",
       " 0.0006980131984557492\n",
       " 0.00016391848573160672\n",
       " 3.840011007838484e-5\n",
       " 9.298900703225144e-6\n",
       " 2.2883316466160153e-6\n",
       " 5.676091812123474e-7\n",
       " 1.4134771886276098e-7\n",
       " 3.526789593699675e-8\n",
       " 8.808363149981346e-9\n",
       " 2.2010178124531876e-9\n",
       " 5.501190614154439e-10"
      ]
     },
     "execution_count": 418,
     "metadata": {},
     "output_type": "execute_result"
    }
   ],
   "source": [
    "e_h2=[abs(It2[i]-I_exacta) for i=1:12]"
   ]
  },
  {
   "cell_type": "markdown",
   "metadata": {},
   "source": [
    "**d)** Siendo $\\varepsilon(n)=|A(n)-I|$ el error absoluto para una elección de $n$, y notando que $h=(b-a)/n$, verifique que el cociente de precisión, definido como \n",
    "$$\n",
    "Q(h) = \\frac{\\varepsilon(h)}{\\varepsilon(h/2)} \\, ,\n",
    "$$\n",
    "toma un valor aproximado a $4$ para todo $h$ cuando se usa la regla del **trapecio**, y un valor aproximado a $16$ para todo $h$ cuando se usa la regla de **Simpson**.\n",
    "Utilice para estos cálculos, los valores $n = 2^k$ para $k=1,...,12$.\n",
    "\n",
    "Teniendo en cuenta la expresión del error de truncamiento para cada caso, justifique estos resultados.\n",
    "\n",
    "**e)** En un mismo gráfico y para cada método, calcule y grafique el error relativo $\\varepsilon_r(n) = \\varepsilon(n)/|I|$ vs $n$ en escala *log-log*. Ud. debería observar que\n",
    "\\begin{eqnarray}\n",
    "\\varepsilon_r(n) & \\approx & Cn^{-\\alpha} \\\\\n",
    "\\end{eqnarray}\n",
    "o, equivalentemente,\n",
    "\\begin{eqnarray}\n",
    "\\ln \\varepsilon_r(n) & \\approx & -\\alpha \\ln n + C\n",
    "\\end{eqnarray}\n",
    "donde $\\alpha$ y $C$ son constantes.\n",
    "Esto significa que existe una dependencia tipo ley de potencia entre $\\varepsilon_r(n)$ y $n$, la cual se manifiesta como una recta de pendiente $\\alpha$ en un gráfico de escala *log-log*. \n",
    "\n",
    "**f)** Para cada uno de los métodos de integración, use el gráfico para estimar el exponente $\\alpha$. Para ello, incluya en el gráfico curvas de de la forma $f(n)=A n^{-\\beta}$ vs $n$, probando distintos valores de $\\beta$ hasta encontrar que las mismas solapan aproximadamente con las líneas de puntos $\\varepsilon_r(n)$ vs $n$. Justifique los valores de $\\beta$ hallados."
   ]
  },
  {
   "cell_type": "code",
   "execution_count": null,
   "metadata": {},
   "outputs": [],
   "source": []
  },
  {
   "cell_type": "code",
   "execution_count": null,
   "metadata": {},
   "outputs": [],
   "source": []
  },
  {
   "cell_type": "markdown",
   "metadata": {},
   "source": [
    "***e)***"
   ]
  },
  {
   "cell_type": "code",
   "execution_count": null,
   "metadata": {},
   "outputs": [],
   "source": []
  },
  {
   "cell_type": "code",
   "execution_count": null,
   "metadata": {},
   "outputs": [],
   "source": []
  },
  {
   "cell_type": "code",
   "execution_count": null,
   "metadata": {},
   "outputs": [],
   "source": []
  },
  {
   "cell_type": "markdown",
   "metadata": {},
   "source": [
    "## Problema 2\n",
    "\n",
    "**a)** Escriba un programa a los fines de resolver el problema de valor inicial **multidimensional**:\n",
    "$$\n",
    "\\dot{y}(t) = f(y,t), \\qquad a\\le t\\le b, \\qquad y(a)=y_0\n",
    "$$\n",
    "que utilice el método de **Euler** \n",
    "\\begin{eqnarray}\n",
    "w_1 &=& y_0 \\\\\n",
    "t_{i+1} &=& t_i + h,\\;\\;\\;\\; i=1,2,...,n-1 \\\\\n",
    "w_{i+1} &=& w_i + hf(w_i,t_i) \\\\\n",
    "\\end{eqnarray}\n",
    "y el método de **Runge-Kutta de orden 4** \n",
    "\\begin{eqnarray}\n",
    "w_1 &=& y_0 \\\\\n",
    "t_{i+1} &=& t_i + h,\\;\\;\\;\\; i=1,2,...,n-1 \\\\\n",
    "k_1 &=& hf(w_i,t_i) \\\\\n",
    "k_2 &=& hf(w_i+k_1/2,t_i+h/2) \\\\\n",
    "k_3 &=& hf(w_i+k_2/2,t_i+h/2) \\\\\n",
    "k_4 &=& hf(w_i+k_3,t_i+h) \\\\\n",
    "w_{i+1} &=& w_i + \\frac{1}{6}(k_1+2k_2+2k_3+k_4) \\\\\n",
    "\\end{eqnarray}\n",
    "\n",
    "En el programa principal se deben proporcionar los siguientes valores:\n",
    "\n",
    "1. los límites $a$ y $b$ (inferior y superior) del intervalo temporal de integración,\n",
    "\n",
    "2. la condición inicial $y_0$, y\n",
    "\n",
    "3. el número de puntos de aproximación, $n$.\n",
    "\n",
    "**Ayuda:** les recomendamos implementar el programa en términos de las siguientes funciones:\n",
    "\n",
    "* Una función `Euler(f,w,t,h,p)` que calcule un paso de integración del método de Euler,\n",
    "* una función `RK4(f,w,t,h,p)` que calcule un paso de integración del método de RK4,\n",
    "* una función `ODEproblem(method,f,y0,(a,b),n)` que integre los pasos de integración del método `method`, y\n",
    "* una función `f(y,t,p)` que represente el lado derecho del sistema de ecuaciones diferenciales ordinarias en consideración.\n",
    "\n",
    "Aquí, `p` es un vector representanto los parámetros constantes del sistema, y la función `ODEproblem` es la que retorna el vector de tiempos $t_i$ y el vector de aproximaciones $w_i$.\n",
    "\n",
    "**b)**\n",
    "Utilice el programa del punto **a)** para resolver, **usando ambos métodos**, el siguiente problema de valor inicial\n",
    "\n",
    "\\begin{eqnarray}\n",
    "\\dot{y}(t) = t - ty(t), \\;\\;\\;\\; y_0=2\n",
    "\\end{eqnarray}\n",
    "\n",
    "para $a=0$, $b=4$, $y_0=2$, y los siguientes pasos de integración:\n",
    "\n",
    "* $h=0.1$,\n",
    "* $h=0.01$, y\n",
    "* $h=0.001$.\n",
    "\n",
    "La solución exacta del problema es\n",
    "\\begin{eqnarray}\n",
    "y_e(t) = 1+e^{-t^2/2}\n",
    "\\end{eqnarray}\n",
    "\n",
    "**Ayuda:** Note que $n$ puntos de aproximación corresponden a $n-1$ pasos de integración de longitud $h=(b-a)/(n-1)$.\n",
    "\n",
    "**c)** En un mismo gráfico, grafique la solución exacta y las aproximaciones calculadas con $h=0.1$ de las curva $y(t)$ vs $t$. Use una línea contínua negra para la solución exacta, y puntos de diferentes colores/estilos para las 2 aproximaciones.\n",
    "\n",
    "**d)** En un mismo gráfico, y en escala logarítmica vs lineal, grafique el error absoluto $|w_i-y_e(t_i)|$ vs $t_i$ para ambos métodos, y los valores de $h=0.1$ y $0.01$. Utilice **puntos** de distintos colores/estilos para diferenciar los diferentes casos.\n",
    "\n",
    "**Ayuda:** La escala logarítmica vs lineal, o log-lin, es logarítmica en $y$ y lineal en $x$.\n",
    "\n",
    "**e)** En un mismo gráfico, y en escala log-log, grafique el error absoluto global definido por $|w_n-f(t_n)|$ vs $h$ para ambos métodos.\n",
    "Incluya, para cada caso, una curva de la forma $Ah^{\\beta}$ vs $h$, ajustando a ojo los valores de $A$ y $\\beta$ para que la curva imite los datos numéricos.\n",
    "\n",
    "**Ayuda 1:** Una curva $y = Ah^{\\beta}$ vs $x = h$ en escala lin-lin, se convierte a una curva $y'=\\ln y = \\beta\\ln h + \\ln A = \\beta x' + C$ vs $x' = \\ln x = \\ln h$ en escala log-log. \n",
    "Es decir, en escala log-log, observaremos una recta de pendiente $\\beta$ y ordenada $C=\\ln A$.\n",
    "\n",
    "**Ayuda 2:** Recuerde que $\\beta$ está relacionado al orden del método de integración, por lo que conviene probar valores enteros $\\beta \\in \\mathbb{Z}$.\n",
    "Para la otra constante, pruebe valores espaciados exponencialmente, $A=10^k$ para $k\\in \\mathbb{Z}$.\n",
    "\n",
    "**f)** En una celda Markdown, comente los resultados obtenidos en los distintos gráficos."
   ]
  },
  {
   "cell_type": "code",
   "execution_count": null,
   "metadata": {},
   "outputs": [],
   "source": []
  },
  {
   "cell_type": "markdown",
   "metadata": {},
   "source": [
    "***a)***"
   ]
  },
  {
   "cell_type": "code",
   "execution_count": 6,
   "metadata": {},
   "outputs": [
    {
     "data": {
      "text/plain": [
       "iteracion_ODES_multidumencional (generic function with 1 method)"
      ]
     },
     "execution_count": 6,
     "metadata": {},
     "output_type": "execute_result"
    }
   ],
   "source": [
    "function iteracion_ODES_multidumencional(Metodo,f,y0,(a,b),N,p)\n",
    "    t = zeros(N)\n",
    "    w = zeros(length(y0),N)\n",
    "    h = (b-a)/(N-1)\n",
    "    t[1] = a\n",
    "    w[:,1] = y0\n",
    "    for i in 2:N\n",
    "        t[i] = t[i-1]+h\n",
    "        w[:,i] = Metodo(f,t[i-1],w[:,i-1],h,p)\n",
    "    end\n",
    "    return t[:],w[:,:]\n",
    "end"
   ]
  },
  {
   "cell_type": "code",
   "execution_count": 7,
   "metadata": {},
   "outputs": [
    {
     "data": {
      "text/plain": [
       "Euler"
      ]
     },
     "execution_count": 7,
     "metadata": {},
     "output_type": "execute_result"
    }
   ],
   "source": [
    "\"1er paso metodo de Euler\"\n",
    "function Euler(f,t0,y0,h,p)\n",
    "    return y0 + h*f(t0, y0, p)                ### p: parametros o constantes de f\n",
    "end"
   ]
  },
  {
   "cell_type": "code",
   "execution_count": 8,
   "metadata": {},
   "outputs": [
    {
     "data": {
      "text/plain": [
       "RK4"
      ]
     },
     "execution_count": 8,
     "metadata": {},
     "output_type": "execute_result"
    }
   ],
   "source": [
    "\"1er paso metodo Runge-Kutta 4\"\n",
    "function RK4(f,t0,y0,h,p)\n",
    "    k1 = f(t0, y0, p)\n",
    "    k2 = f(t0+h/2, y0+h/2*k1, p)\n",
    "    k3 = f(t0+h/2, y0+h/2*k2, p)\n",
    "    k4 = f(t0+h, y0+h*k3, p)\n",
    "    return y0 + (h/6)*(k1 + 2*k2 + 2*k3 + k4)      ### y0 + h/6(k1 + 2*k2 + 2*k3 + k4) No anda\n",
    "end"
   ]
  },
  {
   "cell_type": "code",
   "execution_count": 45,
   "metadata": {},
   "outputs": [
    {
     "data": {
      "text/plain": [
       "f (generic function with 1 method)"
      ]
     },
     "execution_count": 45,
     "metadata": {},
     "output_type": "execute_result"
    }
   ],
   "source": [
    "function f(t,w,p)\n",
    "return [t-t*w[1]]                                                  \n",
    "end"
   ]
  },
  {
   "cell_type": "markdown",
   "metadata": {},
   "source": [
    "***b)***"
   ]
  },
  {
   "cell_type": "code",
   "execution_count": 72,
   "metadata": {},
   "outputs": [
    {
     "data": {
      "text/plain": [
       "ye (generic function with 1 method)"
      ]
     },
     "execution_count": 72,
     "metadata": {},
     "output_type": "execute_result"
    }
   ],
   "source": [
    "ye(t)=1+exp(-(t^2)/2)"
   ]
  },
  {
   "cell_type": "markdown",
   "metadata": {},
   "source": [
    "***Con Euler***"
   ]
  },
  {
   "cell_type": "code",
   "execution_count": 103,
   "metadata": {},
   "outputs": [
    {
     "data": {
      "text/plain": [
       "([0.0, 0.10256410256410256, 0.20512820512820512, 0.3076923076923077, 0.41025641025641024, 0.5128205128205128, 0.6153846153846153, 0.7179487179487178, 0.8205128205128204, 0.9230769230769229  …  3.0769230769230784, 3.179487179487181, 3.2820512820512837, 3.3846153846153864, 3.487179487179489, 3.5897435897435916, 3.6923076923076943, 3.794871794871797, 3.8974358974358996, 4.000000000000002], [2.0 2.0 … 1.0001802062778613 1.000108171158243])"
      ]
     },
     "execution_count": 103,
     "metadata": {},
     "output_type": "execute_result"
    }
   ],
   "source": [
    "y0=[2.0]\n",
    "a=0\n",
    "b=4\n",
    "N=40          ### h=0,1\n",
    "p=0\n",
    "f(1,y0,p)\n",
    "te1,we1=iteracion_ODES_multidumencional(Euler,f,y0,(a,b),N,p)"
   ]
  },
  {
   "cell_type": "code",
   "execution_count": 104,
   "metadata": {},
   "outputs": [
    {
     "data": {
      "text/plain": [
       "([0.0, 0.010025062656641603, 0.020050125313283207, 0.03007518796992481, 0.040100250626566414, 0.05012531328320802, 0.06015037593984962, 0.07017543859649122, 0.08020050125313283, 0.09022556390977443  …  3.909774436090183, 3.9197994987468245, 3.929824561403466, 3.9398496240601073, 3.9498746867167487, 3.95989974937339, 3.9699248120300314, 3.979949874686673, 3.989974937343314, 3.9999999999999556], [2.0 2.0 … 1.000319789864678 1.0003069983504396])"
      ]
     },
     "execution_count": 104,
     "metadata": {},
     "output_type": "execute_result"
    }
   ],
   "source": [
    "N=400          ### h=0,01\n",
    "te2,we2=iteracion_ODES_multidumencional(Euler,f,y0,(a,b),N,p)"
   ]
  },
  {
   "cell_type": "code",
   "execution_count": 105,
   "metadata": {},
   "outputs": [
    {
     "data": {
      "text/plain": [
       "([0.0, 0.001000250062515629, 0.002000500125031258, 0.003000750187546887, 0.004001000250062516, 0.005001250312578145, 0.0060015003750937745, 0.007001750437609404, 0.008002000500125032, 0.009002250562640661  …  3.990997749437097, 3.9919979994996124, 3.992998249562128, 3.9939984996246434, 3.994998749687159, 3.9959989997496743, 3.99699924981219, 3.9979994998747053, 3.9989997499372207, 3.999999999999736], [2.0 2.0 … 1.0003338969332354 1.000332561345586])"
      ]
     },
     "execution_count": 105,
     "metadata": {},
     "output_type": "execute_result"
    }
   ],
   "source": [
    "N=4000          ### h=0,001\n",
    "te3,we3=iteracion_ODES_multidumencional(Euler,f,y0,(a,b),N,p)"
   ]
  },
  {
   "cell_type": "code",
   "execution_count": 106,
   "metadata": {},
   "outputs": [
    {
     "data": {
      "image/svg+xml": [
       "<?xml version=\"1.0\" encoding=\"utf-8\"?>\n",
       "<svg xmlns=\"http://www.w3.org/2000/svg\" xmlns:xlink=\"http://www.w3.org/1999/xlink\" width=\"600\" height=\"400\" viewBox=\"0 0 2400 1600\">\n",
       "<defs>\n",
       "  <clipPath id=\"clip620\">\n",
       "    <rect x=\"0\" y=\"0\" width=\"2400\" height=\"1600\"/>\n",
       "  </clipPath>\n",
       "</defs>\n",
       "<path clip-path=\"url(#clip620)\" d=\"\n",
       "M0 1600 L2400 1600 L2400 0 L0 0  Z\n",
       "  \" fill=\"#ffffff\" fill-rule=\"evenodd\" fill-opacity=\"1\"/>\n",
       "<defs>\n",
       "  <clipPath id=\"clip621\">\n",
       "    <rect x=\"480\" y=\"0\" width=\"1681\" height=\"1600\"/>\n",
       "  </clipPath>\n",
       "</defs>\n",
       "<path clip-path=\"url(#clip620)\" d=\"\n",
       "M185.927 1486.45 L2352.76 1486.45 L2352.76 123.472 L185.927 123.472  Z\n",
       "  \" fill=\"#ffffff\" fill-rule=\"evenodd\" fill-opacity=\"1\"/>\n",
       "<defs>\n",
       "  <clipPath id=\"clip622\">\n",
       "    <rect x=\"185\" y=\"123\" width=\"2168\" height=\"1364\"/>\n",
       "  </clipPath>\n",
       "</defs>\n",
       "<polyline clip-path=\"url(#clip622)\" style=\"stroke:#000000; stroke-linecap:butt; stroke-linejoin:round; stroke-width:2; stroke-opacity:0.1; fill:none\" points=\"\n",
       "  247.252,1486.45 247.252,123.472 \n",
       "  \"/>\n",
       "<polyline clip-path=\"url(#clip622)\" style=\"stroke:#000000; stroke-linecap:butt; stroke-linejoin:round; stroke-width:2; stroke-opacity:0.1; fill:none\" points=\"\n",
       "  758.297,1486.45 758.297,123.472 \n",
       "  \"/>\n",
       "<polyline clip-path=\"url(#clip622)\" style=\"stroke:#000000; stroke-linecap:butt; stroke-linejoin:round; stroke-width:2; stroke-opacity:0.1; fill:none\" points=\"\n",
       "  1269.34,1486.45 1269.34,123.472 \n",
       "  \"/>\n",
       "<polyline clip-path=\"url(#clip622)\" style=\"stroke:#000000; stroke-linecap:butt; stroke-linejoin:round; stroke-width:2; stroke-opacity:0.1; fill:none\" points=\"\n",
       "  1780.39,1486.45 1780.39,123.472 \n",
       "  \"/>\n",
       "<polyline clip-path=\"url(#clip622)\" style=\"stroke:#000000; stroke-linecap:butt; stroke-linejoin:round; stroke-width:2; stroke-opacity:0.1; fill:none\" points=\"\n",
       "  2291.43,1486.45 2291.43,123.472 \n",
       "  \"/>\n",
       "<polyline clip-path=\"url(#clip620)\" style=\"stroke:#000000; stroke-linecap:butt; stroke-linejoin:round; stroke-width:4; stroke-opacity:1; fill:none\" points=\"\n",
       "  185.927,1486.45 2352.76,1486.45 \n",
       "  \"/>\n",
       "<polyline clip-path=\"url(#clip620)\" style=\"stroke:#000000; stroke-linecap:butt; stroke-linejoin:round; stroke-width:4; stroke-opacity:1; fill:none\" points=\"\n",
       "  247.252,1486.45 247.252,1467.55 \n",
       "  \"/>\n",
       "<polyline clip-path=\"url(#clip620)\" style=\"stroke:#000000; stroke-linecap:butt; stroke-linejoin:round; stroke-width:4; stroke-opacity:1; fill:none\" points=\"\n",
       "  758.297,1486.45 758.297,1467.55 \n",
       "  \"/>\n",
       "<polyline clip-path=\"url(#clip620)\" style=\"stroke:#000000; stroke-linecap:butt; stroke-linejoin:round; stroke-width:4; stroke-opacity:1; fill:none\" points=\"\n",
       "  1269.34,1486.45 1269.34,1467.55 \n",
       "  \"/>\n",
       "<polyline clip-path=\"url(#clip620)\" style=\"stroke:#000000; stroke-linecap:butt; stroke-linejoin:round; stroke-width:4; stroke-opacity:1; fill:none\" points=\"\n",
       "  1780.39,1486.45 1780.39,1467.55 \n",
       "  \"/>\n",
       "<polyline clip-path=\"url(#clip620)\" style=\"stroke:#000000; stroke-linecap:butt; stroke-linejoin:round; stroke-width:4; stroke-opacity:1; fill:none\" points=\"\n",
       "  2291.43,1486.45 2291.43,1467.55 \n",
       "  \"/>\n",
       "<path clip-path=\"url(#clip620)\" d=\"M247.252 1517.37 Q243.641 1517.37 241.812 1520.93 Q240.007 1524.47 240.007 1531.6 Q240.007 1538.71 241.812 1542.27 Q243.641 1545.82 247.252 1545.82 Q250.886 1545.82 252.692 1542.27 Q254.521 1538.71 254.521 1531.6 Q254.521 1524.47 252.692 1520.93 Q250.886 1517.37 247.252 1517.37 M247.252 1513.66 Q253.062 1513.66 256.118 1518.27 Q259.197 1522.85 259.197 1531.6 Q259.197 1540.33 256.118 1544.94 Q253.062 1549.52 247.252 1549.52 Q241.442 1549.52 238.363 1544.94 Q235.308 1540.33 235.308 1531.6 Q235.308 1522.85 238.363 1518.27 Q241.442 1513.66 247.252 1513.66 Z\" fill=\"#000000\" fill-rule=\"evenodd\" fill-opacity=\"1\" /><path clip-path=\"url(#clip620)\" d=\"M748.679 1544.91 L756.318 1544.91 L756.318 1518.55 L748.007 1520.21 L748.007 1515.95 L756.271 1514.29 L760.947 1514.29 L760.947 1544.91 L768.586 1544.91 L768.586 1548.85 L748.679 1548.85 L748.679 1544.91 Z\" fill=\"#000000\" fill-rule=\"evenodd\" fill-opacity=\"1\" /><path clip-path=\"url(#clip620)\" d=\"M1263.99 1544.91 L1280.31 1544.91 L1280.31 1548.85 L1258.37 1548.85 L1258.37 1544.91 Q1261.03 1542.16 1265.61 1537.53 Q1270.22 1532.88 1271.4 1531.53 Q1273.65 1529.01 1274.53 1527.27 Q1275.43 1525.51 1275.43 1523.82 Q1275.43 1521.07 1273.48 1519.33 Q1271.56 1517.6 1268.46 1517.6 Q1266.26 1517.6 1263.81 1518.36 Q1261.38 1519.13 1258.6 1520.68 L1258.6 1515.95 Q1261.42 1514.82 1263.88 1514.24 Q1266.33 1513.66 1268.37 1513.66 Q1273.74 1513.66 1276.93 1516.35 Q1280.13 1519.03 1280.13 1523.52 Q1280.13 1525.65 1279.32 1527.57 Q1278.53 1529.47 1276.42 1532.07 Q1275.85 1532.74 1272.74 1535.95 Q1269.64 1539.15 1263.99 1544.91 Z\" fill=\"#000000\" fill-rule=\"evenodd\" fill-opacity=\"1\" /><path clip-path=\"url(#clip620)\" d=\"M1784.63 1530.21 Q1787.99 1530.93 1789.87 1533.2 Q1791.76 1535.47 1791.76 1538.8 Q1791.76 1543.92 1788.24 1546.72 Q1784.73 1549.52 1778.24 1549.52 Q1776.07 1549.52 1773.75 1549.08 Q1771.46 1548.66 1769.01 1547.81 L1769.01 1543.29 Q1770.95 1544.43 1773.27 1545.01 Q1775.58 1545.58 1778.11 1545.58 Q1782.5 1545.58 1784.8 1543.85 Q1787.11 1542.11 1787.11 1538.8 Q1787.11 1535.75 1784.96 1534.03 Q1782.83 1532.3 1779.01 1532.3 L1774.98 1532.3 L1774.98 1528.45 L1779.19 1528.45 Q1782.64 1528.45 1784.47 1527.09 Q1786.3 1525.7 1786.3 1523.11 Q1786.3 1520.45 1784.4 1519.03 Q1782.53 1517.6 1779.01 1517.6 Q1777.09 1517.6 1774.89 1518.01 Q1772.69 1518.43 1770.05 1519.31 L1770.05 1515.14 Q1772.71 1514.4 1775.03 1514.03 Q1777.37 1513.66 1779.43 1513.66 Q1784.75 1513.66 1787.85 1516.09 Q1790.95 1518.5 1790.95 1522.62 Q1790.95 1525.49 1789.31 1527.48 Q1787.67 1529.45 1784.63 1530.21 Z\" fill=\"#000000\" fill-rule=\"evenodd\" fill-opacity=\"1\" /><path clip-path=\"url(#clip620)\" d=\"M2294.44 1518.36 L2282.63 1536.81 L2294.44 1536.81 L2294.44 1518.36 M2293.21 1514.29 L2299.09 1514.29 L2299.09 1536.81 L2304.02 1536.81 L2304.02 1540.7 L2299.09 1540.7 L2299.09 1548.85 L2294.44 1548.85 L2294.44 1540.7 L2278.84 1540.7 L2278.84 1536.19 L2293.21 1514.29 Z\" fill=\"#000000\" fill-rule=\"evenodd\" fill-opacity=\"1\" /><polyline clip-path=\"url(#clip622)\" style=\"stroke:#000000; stroke-linecap:butt; stroke-linejoin:round; stroke-width:2; stroke-opacity:0.1; fill:none\" points=\"\n",
       "  185.927,1448.01 2352.76,1448.01 \n",
       "  \"/>\n",
       "<polyline clip-path=\"url(#clip622)\" style=\"stroke:#000000; stroke-linecap:butt; stroke-linejoin:round; stroke-width:2; stroke-opacity:0.1; fill:none\" points=\"\n",
       "  185.927,1126.52 2352.76,1126.52 \n",
       "  \"/>\n",
       "<polyline clip-path=\"url(#clip622)\" style=\"stroke:#000000; stroke-linecap:butt; stroke-linejoin:round; stroke-width:2; stroke-opacity:0.1; fill:none\" points=\"\n",
       "  185.927,805.03 2352.76,805.03 \n",
       "  \"/>\n",
       "<polyline clip-path=\"url(#clip622)\" style=\"stroke:#000000; stroke-linecap:butt; stroke-linejoin:round; stroke-width:2; stroke-opacity:0.1; fill:none\" points=\"\n",
       "  185.927,483.538 2352.76,483.538 \n",
       "  \"/>\n",
       "<polyline clip-path=\"url(#clip622)\" style=\"stroke:#000000; stroke-linecap:butt; stroke-linejoin:round; stroke-width:2; stroke-opacity:0.1; fill:none\" points=\"\n",
       "  185.927,162.047 2352.76,162.047 \n",
       "  \"/>\n",
       "<polyline clip-path=\"url(#clip620)\" style=\"stroke:#000000; stroke-linecap:butt; stroke-linejoin:round; stroke-width:4; stroke-opacity:1; fill:none\" points=\"\n",
       "  185.927,1486.45 185.927,123.472 \n",
       "  \"/>\n",
       "<polyline clip-path=\"url(#clip620)\" style=\"stroke:#000000; stroke-linecap:butt; stroke-linejoin:round; stroke-width:4; stroke-opacity:1; fill:none\" points=\"\n",
       "  185.927,1448.01 204.824,1448.01 \n",
       "  \"/>\n",
       "<polyline clip-path=\"url(#clip620)\" style=\"stroke:#000000; stroke-linecap:butt; stroke-linejoin:round; stroke-width:4; stroke-opacity:1; fill:none\" points=\"\n",
       "  185.927,1126.52 204.824,1126.52 \n",
       "  \"/>\n",
       "<polyline clip-path=\"url(#clip620)\" style=\"stroke:#000000; stroke-linecap:butt; stroke-linejoin:round; stroke-width:4; stroke-opacity:1; fill:none\" points=\"\n",
       "  185.927,805.03 204.824,805.03 \n",
       "  \"/>\n",
       "<polyline clip-path=\"url(#clip620)\" style=\"stroke:#000000; stroke-linecap:butt; stroke-linejoin:round; stroke-width:4; stroke-opacity:1; fill:none\" points=\"\n",
       "  185.927,483.538 204.824,483.538 \n",
       "  \"/>\n",
       "<polyline clip-path=\"url(#clip620)\" style=\"stroke:#000000; stroke-linecap:butt; stroke-linejoin:round; stroke-width:4; stroke-opacity:1; fill:none\" points=\"\n",
       "  185.927,162.047 204.824,162.047 \n",
       "  \"/>\n",
       "<path clip-path=\"url(#clip620)\" d=\"M53.3995 1461.36 L61.0384 1461.36 L61.0384 1434.99 L52.7282 1436.66 L52.7282 1432.4 L60.9921 1430.73 L65.668 1430.73 L65.668 1461.36 L73.3068 1461.36 L73.3068 1465.29 L53.3995 1465.29 L53.3995 1461.36 Z\" fill=\"#000000\" fill-rule=\"evenodd\" fill-opacity=\"1\" /><path clip-path=\"url(#clip620)\" d=\"M82.7512 1459.41 L87.6354 1459.41 L87.6354 1465.29 L82.7512 1465.29 L82.7512 1459.41 Z\" fill=\"#000000\" fill-rule=\"evenodd\" fill-opacity=\"1\" /><path clip-path=\"url(#clip620)\" d=\"M107.821 1433.81 Q104.209 1433.81 102.381 1437.38 Q100.575 1440.92 100.575 1448.05 Q100.575 1455.15 102.381 1458.72 Q104.209 1462.26 107.821 1462.26 Q111.455 1462.26 113.26 1458.72 Q115.089 1455.15 115.089 1448.05 Q115.089 1440.92 113.26 1437.38 Q111.455 1433.81 107.821 1433.81 M107.821 1430.11 Q113.631 1430.11 116.686 1434.71 Q119.765 1439.3 119.765 1448.05 Q119.765 1456.77 116.686 1461.38 Q113.631 1465.96 107.821 1465.96 Q102.01 1465.96 98.9317 1461.38 Q95.8761 1456.77 95.8761 1448.05 Q95.8761 1439.3 98.9317 1434.71 Q102.01 1430.11 107.821 1430.11 Z\" fill=\"#000000\" fill-rule=\"evenodd\" fill-opacity=\"1\" /><path clip-path=\"url(#clip620)\" d=\"M137.982 1433.81 Q134.371 1433.81 132.543 1437.38 Q130.737 1440.92 130.737 1448.05 Q130.737 1455.15 132.543 1458.72 Q134.371 1462.26 137.982 1462.26 Q141.617 1462.26 143.422 1458.72 Q145.251 1455.15 145.251 1448.05 Q145.251 1440.92 143.422 1437.38 Q141.617 1433.81 137.982 1433.81 M137.982 1430.11 Q143.793 1430.11 146.848 1434.71 Q149.927 1439.3 149.927 1448.05 Q149.927 1456.77 146.848 1461.38 Q143.793 1465.96 137.982 1465.96 Q132.172 1465.96 129.094 1461.38 Q126.038 1456.77 126.038 1448.05 Q126.038 1439.3 129.094 1434.71 Q132.172 1430.11 137.982 1430.11 Z\" fill=\"#000000\" fill-rule=\"evenodd\" fill-opacity=\"1\" /><path clip-path=\"url(#clip620)\" d=\"M54.3949 1139.87 L62.0337 1139.87 L62.0337 1113.5 L53.7236 1115.17 L53.7236 1110.91 L61.9874 1109.24 L66.6633 1109.24 L66.6633 1139.87 L74.3022 1139.87 L74.3022 1143.8 L54.3949 1143.8 L54.3949 1139.87 Z\" fill=\"#000000\" fill-rule=\"evenodd\" fill-opacity=\"1\" /><path clip-path=\"url(#clip620)\" d=\"M83.7466 1137.92 L88.6308 1137.92 L88.6308 1143.8 L83.7466 1143.8 L83.7466 1137.92 Z\" fill=\"#000000\" fill-rule=\"evenodd\" fill-opacity=\"1\" /><path clip-path=\"url(#clip620)\" d=\"M102.844 1139.87 L119.163 1139.87 L119.163 1143.8 L97.2187 1143.8 L97.2187 1139.87 Q99.8808 1137.11 104.464 1132.48 Q109.071 1127.83 110.251 1126.49 Q112.496 1123.96 113.376 1122.23 Q114.279 1120.47 114.279 1118.78 Q114.279 1116.02 112.334 1114.29 Q110.413 1112.55 107.311 1112.55 Q105.112 1112.55 102.659 1113.31 Q100.228 1114.08 97.4502 1115.63 L97.4502 1110.91 Q100.274 1109.77 102.728 1109.19 Q105.182 1108.62 107.219 1108.62 Q112.589 1108.62 115.783 1111.3 Q118.978 1113.99 118.978 1118.48 Q118.978 1120.61 118.168 1122.53 Q117.381 1124.43 115.274 1127.02 Q114.695 1127.69 111.594 1130.91 Q108.492 1134.1 102.844 1139.87 Z\" fill=\"#000000\" fill-rule=\"evenodd\" fill-opacity=\"1\" /><path clip-path=\"url(#clip620)\" d=\"M129.024 1109.24 L147.38 1109.24 L147.38 1113.18 L133.306 1113.18 L133.306 1121.65 Q134.325 1121.3 135.344 1121.14 Q136.362 1120.95 137.381 1120.95 Q143.168 1120.95 146.547 1124.13 Q149.927 1127.3 149.927 1132.71 Q149.927 1138.29 146.455 1141.39 Q142.982 1144.47 136.663 1144.47 Q134.487 1144.47 132.219 1144.1 Q129.973 1143.73 127.566 1142.99 L127.566 1138.29 Q129.649 1139.43 131.871 1139.98 Q134.094 1140.54 136.57 1140.54 Q140.575 1140.54 142.913 1138.43 Q145.251 1136.32 145.251 1132.71 Q145.251 1129.1 142.913 1127 Q140.575 1124.89 136.57 1124.89 Q134.695 1124.89 132.82 1125.31 Q130.969 1125.72 129.024 1126.6 L129.024 1109.24 Z\" fill=\"#000000\" fill-rule=\"evenodd\" fill-opacity=\"1\" /><path clip-path=\"url(#clip620)\" d=\"M53.3995 818.374 L61.0384 818.374 L61.0384 792.009 L52.7282 793.675 L52.7282 789.416 L60.9921 787.75 L65.668 787.75 L65.668 818.374 L73.3068 818.374 L73.3068 822.31 L53.3995 822.31 L53.3995 818.374 Z\" fill=\"#000000\" fill-rule=\"evenodd\" fill-opacity=\"1\" /><path clip-path=\"url(#clip620)\" d=\"M82.7512 816.43 L87.6354 816.43 L87.6354 822.31 L82.7512 822.31 L82.7512 816.43 Z\" fill=\"#000000\" fill-rule=\"evenodd\" fill-opacity=\"1\" /><path clip-path=\"url(#clip620)\" d=\"M97.8669 787.75 L116.223 787.75 L116.223 791.685 L102.149 791.685 L102.149 800.157 Q103.168 799.81 104.186 799.648 Q105.205 799.462 106.223 799.462 Q112.01 799.462 115.39 802.634 Q118.77 805.805 118.77 811.222 Q118.77 816.8 115.297 819.902 Q111.825 822.981 105.506 822.981 Q103.33 822.981 101.061 822.61 Q98.8159 822.24 96.4085 821.499 L96.4085 816.8 Q98.4919 817.935 100.714 818.49 Q102.936 819.046 105.413 819.046 Q109.418 819.046 111.756 816.939 Q114.094 814.833 114.094 811.222 Q114.094 807.611 111.756 805.504 Q109.418 803.398 105.413 803.398 Q103.538 803.398 101.663 803.814 Q99.8113 804.231 97.8669 805.111 L97.8669 787.75 Z\" fill=\"#000000\" fill-rule=\"evenodd\" fill-opacity=\"1\" /><path clip-path=\"url(#clip620)\" d=\"M137.982 790.828 Q134.371 790.828 132.543 794.393 Q130.737 797.935 130.737 805.064 Q130.737 812.171 132.543 815.736 Q134.371 819.277 137.982 819.277 Q141.617 819.277 143.422 815.736 Q145.251 812.171 145.251 805.064 Q145.251 797.935 143.422 794.393 Q141.617 790.828 137.982 790.828 M137.982 787.125 Q143.793 787.125 146.848 791.731 Q149.927 796.314 149.927 805.064 Q149.927 813.791 146.848 818.398 Q143.793 822.981 137.982 822.981 Q132.172 822.981 129.094 818.398 Q126.038 813.791 126.038 805.064 Q126.038 796.314 129.094 791.731 Q132.172 787.125 137.982 787.125 Z\" fill=\"#000000\" fill-rule=\"evenodd\" fill-opacity=\"1\" /><path clip-path=\"url(#clip620)\" d=\"M54.3949 496.883 L62.0337 496.883 L62.0337 470.517 L53.7236 472.184 L53.7236 467.925 L61.9874 466.258 L66.6633 466.258 L66.6633 496.883 L74.3022 496.883 L74.3022 500.818 L54.3949 500.818 L54.3949 496.883 Z\" fill=\"#000000\" fill-rule=\"evenodd\" fill-opacity=\"1\" /><path clip-path=\"url(#clip620)\" d=\"M83.7466 494.939 L88.6308 494.939 L88.6308 500.818 L83.7466 500.818 L83.7466 494.939 Z\" fill=\"#000000\" fill-rule=\"evenodd\" fill-opacity=\"1\" /><path clip-path=\"url(#clip620)\" d=\"M97.6354 466.258 L119.857 466.258 L119.857 468.249 L107.311 500.818 L102.427 500.818 L114.233 470.193 L97.6354 470.193 L97.6354 466.258 Z\" fill=\"#000000\" fill-rule=\"evenodd\" fill-opacity=\"1\" /><path clip-path=\"url(#clip620)\" d=\"M129.024 466.258 L147.38 466.258 L147.38 470.193 L133.306 470.193 L133.306 478.666 Q134.325 478.318 135.344 478.156 Q136.362 477.971 137.381 477.971 Q143.168 477.971 146.547 481.142 Q149.927 484.314 149.927 489.73 Q149.927 495.309 146.455 498.411 Q142.982 501.49 136.663 501.49 Q134.487 501.49 132.219 501.119 Q129.973 500.749 127.566 500.008 L127.566 495.309 Q129.649 496.443 131.871 496.999 Q134.094 497.554 136.57 497.554 Q140.575 497.554 142.913 495.448 Q145.251 493.341 145.251 489.73 Q145.251 486.119 142.913 484.013 Q140.575 481.906 136.57 481.906 Q134.695 481.906 132.82 482.323 Q130.969 482.74 129.024 483.619 L129.024 466.258 Z\" fill=\"#000000\" fill-rule=\"evenodd\" fill-opacity=\"1\" /><path clip-path=\"url(#clip620)\" d=\"M56.6171 175.392 L72.9365 175.392 L72.9365 179.327 L50.9921 179.327 L50.9921 175.392 Q53.6541 172.637 58.2375 168.008 Q62.8439 163.355 64.0245 162.012 Q66.2698 159.489 67.1494 157.753 Q68.0522 155.994 68.0522 154.304 Q68.0522 151.549 66.1078 149.813 Q64.1865 148.077 61.0847 148.077 Q58.8856 148.077 56.4319 148.841 Q54.0014 149.605 51.2236 151.156 L51.2236 146.434 Q54.0477 145.299 56.5014 144.721 Q58.955 144.142 60.9921 144.142 Q66.3624 144.142 69.5568 146.827 Q72.7513 149.512 72.7513 154.003 Q72.7513 156.133 71.9411 158.054 Q71.1541 159.952 69.0476 162.545 Q68.4689 163.216 65.367 166.433 Q62.2652 169.628 56.6171 175.392 Z\" fill=\"#000000\" fill-rule=\"evenodd\" fill-opacity=\"1\" /><path clip-path=\"url(#clip620)\" d=\"M82.7512 173.447 L87.6354 173.447 L87.6354 179.327 L82.7512 179.327 L82.7512 173.447 Z\" fill=\"#000000\" fill-rule=\"evenodd\" fill-opacity=\"1\" /><path clip-path=\"url(#clip620)\" d=\"M107.821 147.846 Q104.209 147.846 102.381 151.41 Q100.575 154.952 100.575 162.082 Q100.575 169.188 102.381 172.753 Q104.209 176.295 107.821 176.295 Q111.455 176.295 113.26 172.753 Q115.089 169.188 115.089 162.082 Q115.089 154.952 113.26 151.41 Q111.455 147.846 107.821 147.846 M107.821 144.142 Q113.631 144.142 116.686 148.748 Q119.765 153.332 119.765 162.082 Q119.765 170.808 116.686 175.415 Q113.631 179.998 107.821 179.998 Q102.01 179.998 98.9317 175.415 Q95.8761 170.808 95.8761 162.082 Q95.8761 153.332 98.9317 148.748 Q102.01 144.142 107.821 144.142 Z\" fill=\"#000000\" fill-rule=\"evenodd\" fill-opacity=\"1\" /><path clip-path=\"url(#clip620)\" d=\"M137.982 147.846 Q134.371 147.846 132.543 151.41 Q130.737 154.952 130.737 162.082 Q130.737 169.188 132.543 172.753 Q134.371 176.295 137.982 176.295 Q141.617 176.295 143.422 172.753 Q145.251 169.188 145.251 162.082 Q145.251 154.952 143.422 151.41 Q141.617 147.846 137.982 147.846 M137.982 144.142 Q143.793 144.142 146.848 148.748 Q149.927 153.332 149.927 162.082 Q149.927 170.808 146.848 175.415 Q143.793 179.998 137.982 179.998 Q132.172 179.998 129.094 175.415 Q126.038 170.808 126.038 162.082 Q126.038 153.332 129.094 148.748 Q132.172 144.142 137.982 144.142 Z\" fill=\"#000000\" fill-rule=\"evenodd\" fill-opacity=\"1\" /><path clip-path=\"url(#clip620)\" d=\"M245.901 16.7545 L245.901 25.383 Q241.769 21.5346 237.07 19.6307 Q232.411 17.7268 227.145 17.7268 Q216.775 17.7268 211.265 24.0867 Q205.756 30.4061 205.756 42.3968 Q205.756 54.3469 211.265 60.7069 Q216.775 67.0263 227.145 67.0263 Q232.411 67.0263 237.07 65.1223 Q241.769 63.2184 245.901 59.3701 L245.901 67.9175 Q241.607 70.8341 236.786 72.2924 Q232.006 73.7508 226.659 73.7508 Q212.926 73.7508 205.027 65.3654 Q197.128 56.9395 197.128 42.3968 Q197.128 27.8135 205.027 19.4281 Q212.926 11.0023 226.659 11.0023 Q232.087 11.0023 236.867 12.4606 Q241.688 13.8784 245.901 16.7545 Z\" fill=\"#000000\" fill-rule=\"evenodd\" fill-opacity=\"1\" /><path clip-path=\"url(#clip620)\" d=\"M275.796 32.4315 Q269.801 32.4315 266.317 37.1306 Q262.833 41.7891 262.833 49.9314 Q262.833 58.0738 266.277 62.7728 Q269.76 67.4314 275.796 67.4314 Q281.751 67.4314 285.235 62.7323 Q288.719 58.0333 288.719 49.9314 Q288.719 41.8701 285.235 37.1711 Q281.751 32.4315 275.796 32.4315 M275.796 26.1121 Q285.518 26.1121 291.068 32.4315 Q296.618 38.7509 296.618 49.9314 Q296.618 61.0714 291.068 67.4314 Q285.518 73.7508 275.796 73.7508 Q266.034 73.7508 260.484 67.4314 Q254.975 61.0714 254.975 49.9314 Q254.975 38.7509 260.484 32.4315 Q266.034 26.1121 275.796 26.1121 Z\" fill=\"#000000\" fill-rule=\"evenodd\" fill-opacity=\"1\" /><path clip-path=\"url(#clip620)\" d=\"M344.297 35.9153 Q347.092 30.8922 350.981 28.5022 Q354.87 26.1121 360.136 26.1121 Q367.225 26.1121 371.074 31.0947 Q374.922 36.0368 374.922 45.1919 L374.922 72.576 L367.428 72.576 L367.428 45.4349 Q367.428 38.913 365.119 35.7533 Q362.81 32.5936 358.07 32.5936 Q352.277 32.5936 348.915 36.4419 Q345.553 40.2903 345.553 46.9338 L345.553 72.576 L338.059 72.576 L338.059 45.4349 Q338.059 38.8725 335.75 35.7533 Q333.441 32.5936 328.62 32.5936 Q322.908 32.5936 319.546 36.4824 Q316.184 40.3308 316.184 46.9338 L316.184 72.576 L308.69 72.576 L308.69 27.2059 L316.184 27.2059 L316.184 34.2544 Q318.736 30.082 322.301 28.0971 Q325.865 26.1121 330.767 26.1121 Q335.709 26.1121 339.152 28.6237 Q342.636 31.1352 344.297 35.9153 Z\" fill=\"#000000\" fill-rule=\"evenodd\" fill-opacity=\"1\" /><path clip-path=\"url(#clip620)\" d=\"M396.999 65.7705 L396.999 89.8329 L389.505 89.8329 L389.505 27.2059 L396.999 27.2059 L396.999 34.0924 Q399.349 30.0415 402.914 28.0971 Q406.519 26.1121 411.502 26.1121 Q419.765 26.1121 424.91 32.6746 Q430.095 39.2371 430.095 49.9314 Q430.095 60.6258 424.91 67.1883 Q419.765 73.7508 411.502 73.7508 Q406.519 73.7508 402.914 71.8063 Q399.349 69.8214 396.999 65.7705 M422.358 49.9314 Q422.358 41.7081 418.955 37.0496 Q415.593 32.3505 409.679 32.3505 Q403.764 32.3505 400.362 37.0496 Q396.999 41.7081 396.999 49.9314 Q396.999 58.1548 400.362 62.8538 Q403.764 67.5124 409.679 67.5124 Q415.593 67.5124 418.955 62.8538 Q422.358 58.1548 422.358 49.9314 Z\" fill=\"#000000\" fill-rule=\"evenodd\" fill-opacity=\"1\" /><path clip-path=\"url(#clip620)\" d=\"M463.07 49.7694 Q454.036 49.7694 450.552 51.8354 Q447.069 53.9013 447.069 58.8839 Q447.069 62.8538 449.661 65.2034 Q452.294 67.5124 456.791 67.5124 Q462.989 67.5124 466.715 63.1374 Q470.483 58.7219 470.483 51.4303 L470.483 49.7694 L463.07 49.7694 M477.936 46.6907 L477.936 72.576 L470.483 72.576 L470.483 65.6895 Q467.931 69.8214 464.123 71.8063 Q460.315 73.7508 454.806 73.7508 Q447.838 73.7508 443.706 69.8619 Q439.615 65.9325 439.615 59.3701 Q439.615 51.7138 444.719 47.825 Q449.864 43.9361 460.031 43.9361 L470.483 43.9361 L470.483 43.2069 Q470.483 38.0623 467.08 35.2672 Q463.718 32.4315 457.601 32.4315 Q453.712 32.4315 450.026 33.3632 Q446.339 34.295 442.937 36.1584 L442.937 29.2718 Q447.028 27.692 450.876 26.9223 Q454.725 26.1121 458.371 26.1121 Q468.214 26.1121 473.075 31.2163 Q477.936 36.3204 477.936 46.6907 Z\" fill=\"#000000\" fill-rule=\"evenodd\" fill-opacity=\"1\" /><path clip-path=\"url(#clip620)\" d=\"M519.58 34.1734 Q518.324 33.4443 516.825 33.1202 Q515.367 32.7556 513.584 32.7556 Q507.265 32.7556 503.862 36.8875 Q500.5 40.9789 500.5 48.6757 L500.5 72.576 L493.006 72.576 L493.006 27.2059 L500.5 27.2059 L500.5 34.2544 Q502.85 30.1225 506.617 28.1376 Q510.384 26.1121 515.772 26.1121 Q516.542 26.1121 517.473 26.2337 Q518.405 26.3147 519.539 26.5172 L519.58 34.1734 Z\" fill=\"#000000\" fill-rule=\"evenodd\" fill-opacity=\"1\" /><path clip-path=\"url(#clip620)\" d=\"M548.017 49.7694 Q538.984 49.7694 535.5 51.8354 Q532.016 53.9013 532.016 58.8839 Q532.016 62.8538 534.609 65.2034 Q537.242 67.5124 541.738 67.5124 Q547.936 67.5124 551.663 63.1374 Q555.43 58.7219 555.43 51.4303 L555.43 49.7694 L548.017 49.7694 M562.884 46.6907 L562.884 72.576 L555.43 72.576 L555.43 65.6895 Q552.878 69.8214 549.07 71.8063 Q545.262 73.7508 539.753 73.7508 Q532.786 73.7508 528.654 69.8619 Q524.562 65.9325 524.562 59.3701 Q524.562 51.7138 529.666 47.825 Q534.811 43.9361 544.979 43.9361 L555.43 43.9361 L555.43 43.2069 Q555.43 38.0623 552.027 35.2672 Q548.665 32.4315 542.548 32.4315 Q538.659 32.4315 534.973 33.3632 Q531.287 34.295 527.884 36.1584 L527.884 29.2718 Q531.976 27.692 535.824 26.9223 Q539.672 26.1121 543.318 26.1121 Q553.162 26.1121 558.023 31.2163 Q562.884 36.3204 562.884 46.6907 Z\" fill=\"#000000\" fill-rule=\"evenodd\" fill-opacity=\"1\" /><path clip-path=\"url(#clip620)\" d=\"M615.951 45.1919 L615.951 72.576 L608.497 72.576 L608.497 45.4349 Q608.497 38.994 605.986 35.7938 Q603.474 32.5936 598.451 32.5936 Q592.415 32.5936 588.931 36.4419 Q585.447 40.2903 585.447 46.9338 L585.447 72.576 L577.953 72.576 L577.953 27.2059 L585.447 27.2059 L585.447 34.2544 Q588.121 30.163 591.726 28.1376 Q595.372 26.1121 600.112 26.1121 Q607.93 26.1121 611.94 30.9732 Q615.951 35.7938 615.951 45.1919 Z\" fill=\"#000000\" fill-rule=\"evenodd\" fill-opacity=\"1\" /><path clip-path=\"url(#clip620)\" d=\"M660.673 34.0924 L660.673 9.54393 L668.126 9.54393 L668.126 72.576 L660.673 72.576 L660.673 65.7705 Q658.323 69.8214 654.718 71.8063 Q651.153 73.7508 646.13 73.7508 Q637.907 73.7508 632.721 67.1883 Q627.577 60.6258 627.577 49.9314 Q627.577 39.2371 632.721 32.6746 Q637.907 26.1121 646.13 26.1121 Q651.153 26.1121 654.718 28.0971 Q658.323 30.0415 660.673 34.0924 M635.274 49.9314 Q635.274 58.1548 638.636 62.8538 Q642.039 67.5124 647.953 67.5124 Q653.867 67.5124 657.27 62.8538 Q660.673 58.1548 660.673 49.9314 Q660.673 41.7081 657.27 37.0496 Q653.867 32.3505 647.953 32.3505 Q642.039 32.3505 638.636 37.0496 Q635.274 41.7081 635.274 49.9314 Z\" fill=\"#000000\" fill-rule=\"evenodd\" fill-opacity=\"1\" /><path clip-path=\"url(#clip620)\" d=\"M701.06 32.4315 Q695.065 32.4315 691.581 37.1306 Q688.097 41.7891 688.097 49.9314 Q688.097 58.0738 691.541 62.7728 Q695.024 67.4314 701.06 67.4314 Q707.015 67.4314 710.499 62.7323 Q713.983 58.0333 713.983 49.9314 Q713.983 41.8701 710.499 37.1711 Q707.015 32.4315 701.06 32.4315 M701.06 26.1121 Q710.782 26.1121 716.332 32.4315 Q721.882 38.7509 721.882 49.9314 Q721.882 61.0714 716.332 67.4314 Q710.782 73.7508 701.06 73.7508 Q691.298 73.7508 685.748 67.4314 Q680.239 61.0714 680.239 49.9314 Q680.239 38.7509 685.748 32.4315 Q691.298 26.1121 701.06 26.1121 Z\" fill=\"#000000\" fill-rule=\"evenodd\" fill-opacity=\"1\" /><path clip-path=\"url(#clip620)\" d=\"M793.259 28.9478 L793.259 35.9153 Q790.099 34.1734 786.899 33.3227 Q783.739 32.4315 780.498 32.4315 Q773.247 32.4315 769.237 37.0496 Q765.227 41.6271 765.227 49.9314 Q765.227 58.2358 769.237 62.8538 Q773.247 67.4314 780.498 67.4314 Q783.739 67.4314 786.899 66.5807 Q790.099 65.6895 793.259 63.9476 L793.259 70.8341 Q790.14 72.2924 786.777 73.0216 Q783.456 73.7508 779.688 73.7508 Q769.44 73.7508 763.404 67.3098 Q757.368 60.8689 757.368 49.9314 Q757.368 38.832 763.444 32.472 Q769.561 26.1121 780.174 26.1121 Q783.618 26.1121 786.899 26.8413 Q790.18 27.5299 793.259 28.9478 Z\" fill=\"#000000\" fill-rule=\"evenodd\" fill-opacity=\"1\" /><path clip-path=\"url(#clip620)\" d=\"M823.803 32.4315 Q817.807 32.4315 814.324 37.1306 Q810.84 41.7891 810.84 49.9314 Q810.84 58.0738 814.283 62.7728 Q817.767 67.4314 823.803 67.4314 Q829.757 67.4314 833.241 62.7323 Q836.725 58.0333 836.725 49.9314 Q836.725 41.8701 833.241 37.1711 Q829.757 32.4315 823.803 32.4315 M823.803 26.1121 Q833.525 26.1121 839.075 32.4315 Q844.624 38.7509 844.624 49.9314 Q844.624 61.0714 839.075 67.4314 Q833.525 73.7508 823.803 73.7508 Q814.04 73.7508 808.49 67.4314 Q802.981 61.0714 802.981 49.9314 Q802.981 38.7509 808.49 32.4315 Q814.04 26.1121 823.803 26.1121 Z\" fill=\"#000000\" fill-rule=\"evenodd\" fill-opacity=\"1\" /><path clip-path=\"url(#clip620)\" d=\"M894.693 45.1919 L894.693 72.576 L887.24 72.576 L887.24 45.4349 Q887.24 38.994 884.728 35.7938 Q882.217 32.5936 877.194 32.5936 Q871.158 32.5936 867.674 36.4419 Q864.19 40.2903 864.19 46.9338 L864.19 72.576 L856.696 72.576 L856.696 27.2059 L864.19 27.2059 L864.19 34.2544 Q866.864 30.163 870.469 28.1376 Q874.115 26.1121 878.854 26.1121 Q886.673 26.1121 890.683 30.9732 Q894.693 35.7938 894.693 45.1919 Z\" fill=\"#000000\" fill-rule=\"evenodd\" fill-opacity=\"1\" /><path clip-path=\"url(#clip620)\" d=\"M935.932 9.54393 L943.385 9.54393 L943.385 72.576 L935.932 72.576 L935.932 9.54393 Z\" fill=\"#000000\" fill-rule=\"evenodd\" fill-opacity=\"1\" /><path clip-path=\"url(#clip620)\" d=\"M979.6 49.7694 Q970.567 49.7694 967.083 51.8354 Q963.599 53.9013 963.599 58.8839 Q963.599 62.8538 966.192 65.2034 Q968.825 67.5124 973.322 67.5124 Q979.519 67.5124 983.246 63.1374 Q987.014 58.7219 987.014 51.4303 L987.014 49.7694 L979.6 49.7694 M994.467 46.6907 L994.467 72.576 L987.014 72.576 L987.014 65.6895 Q984.462 69.8214 980.654 71.8063 Q976.846 73.7508 971.337 73.7508 Q964.369 73.7508 960.237 69.8619 Q956.146 65.9325 956.146 59.3701 Q956.146 51.7138 961.25 47.825 Q966.394 43.9361 976.562 43.9361 L987.014 43.9361 L987.014 43.2069 Q987.014 38.0623 983.611 35.2672 Q980.249 32.4315 974.132 32.4315 Q970.243 32.4315 966.557 33.3632 Q962.87 34.295 959.467 36.1584 L959.467 29.2718 Q963.559 27.692 967.407 26.9223 Q971.256 26.1121 974.901 26.1121 Q984.745 26.1121 989.606 31.2163 Q994.467 36.3204 994.467 46.6907 Z\" fill=\"#000000\" fill-rule=\"evenodd\" fill-opacity=\"1\" /><path clip-path=\"url(#clip620)\" d=\"M1065.12 28.5427 L1065.12 35.5912 Q1061.96 33.9709 1058.55 33.1607 Q1055.15 32.3505 1051.5 32.3505 Q1045.95 32.3505 1043.16 34.0519 Q1040.4 35.7533 1040.4 39.156 Q1040.4 41.7486 1042.39 43.2475 Q1044.37 44.7058 1050.37 46.0426 L1052.92 46.6097 Q1060.86 48.3111 1064.18 51.4303 Q1067.55 54.509 1067.55 60.0587 Q1067.55 66.3781 1062.52 70.0644 Q1057.54 73.7508 1048.79 73.7508 Q1045.14 73.7508 1041.17 73.0216 Q1037.24 72.3329 1032.87 70.9151 L1032.87 63.2184 Q1037 65.3654 1041.01 66.4591 Q1045.02 67.5124 1048.95 67.5124 Q1054.22 67.5124 1057.05 65.73 Q1059.89 63.9071 1059.89 60.6258 Q1059.89 57.5877 1057.82 55.9673 Q1055.8 54.3469 1048.87 52.8481 L1046.28 52.2405 Q1039.35 50.7821 1036.27 47.7845 Q1033.19 44.7463 1033.19 39.4801 Q1033.19 33.0797 1037.73 29.5959 Q1042.27 26.1121 1050.61 26.1121 Q1054.74 26.1121 1058.39 26.7198 Q1062.04 27.3274 1065.12 28.5427 Z\" fill=\"#000000\" fill-rule=\"evenodd\" fill-opacity=\"1\" /><path clip-path=\"url(#clip620)\" d=\"M1097 32.4315 Q1091 32.4315 1087.52 37.1306 Q1084.03 41.7891 1084.03 49.9314 Q1084.03 58.0738 1087.48 62.7728 Q1090.96 67.4314 1097 67.4314 Q1102.95 67.4314 1106.43 62.7323 Q1109.92 58.0333 1109.92 49.9314 Q1109.92 41.8701 1106.43 37.1711 Q1102.95 32.4315 1097 32.4315 M1097 26.1121 Q1106.72 26.1121 1112.27 32.4315 Q1117.82 38.7509 1117.82 49.9314 Q1117.82 61.0714 1112.27 67.4314 Q1106.72 73.7508 1097 73.7508 Q1087.23 73.7508 1081.68 67.4314 Q1076.17 61.0714 1076.17 49.9314 Q1076.17 38.7509 1081.68 32.4315 Q1087.23 26.1121 1097 26.1121 Z\" fill=\"#000000\" fill-rule=\"evenodd\" fill-opacity=\"1\" /><path clip-path=\"url(#clip620)\" d=\"M1130.17 9.54393 L1137.63 9.54393 L1137.63 72.576 L1130.17 72.576 L1130.17 9.54393 Z\" fill=\"#000000\" fill-rule=\"evenodd\" fill-opacity=\"1\" /><path clip-path=\"url(#clip620)\" d=\"M1152.45 54.671 L1152.45 27.2059 L1159.91 27.2059 L1159.91 54.3874 Q1159.91 60.8284 1162.42 64.0691 Q1164.93 67.2693 1169.95 67.2693 Q1175.99 67.2693 1179.47 63.421 Q1183 59.5726 1183 52.9291 L1183 27.2059 L1190.45 27.2059 L1190.45 72.576 L1183 72.576 L1183 65.6084 Q1180.28 69.7404 1176.68 71.7658 Q1173.11 73.7508 1168.37 73.7508 Q1160.55 73.7508 1156.5 68.8897 Q1152.45 64.0286 1152.45 54.671 M1171.21 26.1121 L1171.21 26.1121 Z\" fill=\"#000000\" fill-rule=\"evenodd\" fill-opacity=\"1\" /><path clip-path=\"url(#clip620)\" d=\"M1238.45 28.9478 L1238.45 35.9153 Q1235.29 34.1734 1232.09 33.3227 Q1228.93 32.4315 1225.69 32.4315 Q1218.44 32.4315 1214.43 37.0496 Q1210.42 41.6271 1210.42 49.9314 Q1210.42 58.2358 1214.43 62.8538 Q1218.44 67.4314 1225.69 67.4314 Q1228.93 67.4314 1232.09 66.5807 Q1235.29 65.6895 1238.45 63.9476 L1238.45 70.8341 Q1235.33 72.2924 1231.97 73.0216 Q1228.65 73.7508 1224.88 73.7508 Q1214.63 73.7508 1208.6 67.3098 Q1202.56 60.8689 1202.56 49.9314 Q1202.56 38.832 1208.64 32.472 Q1214.76 26.1121 1225.37 26.1121 Q1228.81 26.1121 1232.09 26.8413 Q1235.37 27.5299 1238.45 28.9478 Z\" fill=\"#000000\" fill-rule=\"evenodd\" fill-opacity=\"1\" /><path clip-path=\"url(#clip620)\" d=\"M1251.42 27.2059 L1258.87 27.2059 L1258.87 72.576 L1251.42 72.576 L1251.42 27.2059 M1251.42 9.54393 L1258.87 9.54393 L1258.87 18.9825 L1251.42 18.9825 L1251.42 9.54393 Z\" fill=\"#000000\" fill-rule=\"evenodd\" fill-opacity=\"1\" /><path clip-path=\"url(#clip620)\" d=\"M1292.05 32.4315 Q1286.05 32.4315 1282.57 37.1306 Q1279.08 41.7891 1279.08 49.9314 Q1279.08 58.0738 1282.53 62.7728 Q1286.01 67.4314 1292.05 67.4314 Q1298 67.4314 1301.49 62.7323 Q1304.97 58.0333 1304.97 49.9314 Q1304.97 41.8701 1301.49 37.1711 Q1298 32.4315 1292.05 32.4315 M1292.05 26.1121 Q1301.77 26.1121 1307.32 32.4315 Q1312.87 38.7509 1312.87 49.9314 Q1312.87 61.0714 1307.32 67.4314 Q1301.77 73.7508 1292.05 73.7508 Q1282.28 73.7508 1276.73 67.4314 Q1271.23 61.0714 1271.23 49.9314 Q1271.23 38.7509 1276.73 32.4315 Q1282.28 26.1121 1292.05 26.1121 M1297.68 6.22219 L1305.74 6.22219 L1292.53 21.4536 L1286.33 21.4536 L1297.68 6.22219 Z\" fill=\"#000000\" fill-rule=\"evenodd\" fill-opacity=\"1\" /><path clip-path=\"url(#clip620)\" d=\"M1362.94 45.1919 L1362.94 72.576 L1355.48 72.576 L1355.48 45.4349 Q1355.48 38.994 1352.97 35.7938 Q1350.46 32.5936 1345.44 32.5936 Q1339.4 32.5936 1335.92 36.4419 Q1332.43 40.2903 1332.43 46.9338 L1332.43 72.576 L1324.94 72.576 L1324.94 27.2059 L1332.43 27.2059 L1332.43 34.2544 Q1335.11 30.163 1338.71 28.1376 Q1342.36 26.1121 1347.1 26.1121 Q1354.92 26.1121 1358.93 30.9732 Q1362.94 35.7938 1362.94 45.1919 Z\" fill=\"#000000\" fill-rule=\"evenodd\" fill-opacity=\"1\" /><path clip-path=\"url(#clip620)\" d=\"M1442.98 48.0275 L1442.98 51.6733 L1408.71 51.6733 Q1409.2 59.3701 1413.33 63.421 Q1417.5 67.4314 1424.92 67.4314 Q1429.21 67.4314 1433.22 66.3781 Q1437.27 65.3249 1441.24 63.2184 L1441.24 70.267 Q1437.23 71.9684 1433.02 72.8596 Q1428.81 73.7508 1424.47 73.7508 Q1413.61 73.7508 1407.25 67.4314 Q1400.93 61.1119 1400.93 50.3365 Q1400.93 39.1965 1406.93 32.6746 Q1412.97 26.1121 1423.17 26.1121 Q1432.33 26.1121 1437.64 32.0264 Q1442.98 37.9003 1442.98 48.0275 M1435.53 45.84 Q1435.45 39.7232 1432.09 36.0774 Q1428.76 32.4315 1423.26 32.4315 Q1417.02 32.4315 1413.25 35.9558 Q1409.52 39.4801 1408.96 45.8805 L1435.53 45.84 Z\" fill=\"#000000\" fill-rule=\"evenodd\" fill-opacity=\"1\" /><path clip-path=\"url(#clip620)\" d=\"M1491.47 27.2059 L1475.07 49.2833 L1492.32 72.576 L1483.53 72.576 L1470.33 54.752 L1457.12 72.576 L1448.33 72.576 L1465.95 48.8377 L1449.83 27.2059 L1458.62 27.2059 L1470.65 43.369 L1482.68 27.2059 L1491.47 27.2059 Z\" fill=\"#000000\" fill-rule=\"evenodd\" fill-opacity=\"1\" /><path clip-path=\"url(#clip620)\" d=\"M1523.47 49.7694 Q1514.44 49.7694 1510.96 51.8354 Q1507.47 53.9013 1507.47 58.8839 Q1507.47 62.8538 1510.07 65.2034 Q1512.7 67.5124 1517.2 67.5124 Q1523.39 67.5124 1527.12 63.1374 Q1530.89 58.7219 1530.89 51.4303 L1530.89 49.7694 L1523.47 49.7694 M1538.34 46.6907 L1538.34 72.576 L1530.89 72.576 L1530.89 65.6895 Q1528.34 69.8214 1524.53 71.8063 Q1520.72 73.7508 1515.21 73.7508 Q1508.24 73.7508 1504.11 69.8619 Q1500.02 65.9325 1500.02 59.3701 Q1500.02 51.7138 1505.12 47.825 Q1510.27 43.9361 1520.44 43.9361 L1530.89 43.9361 L1530.89 43.2069 Q1530.89 38.0623 1527.49 35.2672 Q1524.12 32.4315 1518.01 32.4315 Q1514.12 32.4315 1510.43 33.3632 Q1506.74 34.295 1503.34 36.1584 L1503.34 29.2718 Q1507.43 27.692 1511.28 26.9223 Q1515.13 26.1121 1518.78 26.1121 Q1528.62 26.1121 1533.48 31.2163 Q1538.34 36.3204 1538.34 46.6907 Z\" fill=\"#000000\" fill-rule=\"evenodd\" fill-opacity=\"1\" /><path clip-path=\"url(#clip620)\" d=\"M1586.34 28.9478 L1586.34 35.9153 Q1583.19 34.1734 1579.98 33.3227 Q1576.83 32.4315 1573.58 32.4315 Q1566.33 32.4315 1562.32 37.0496 Q1558.31 41.6271 1558.31 49.9314 Q1558.31 58.2358 1562.32 62.8538 Q1566.33 67.4314 1573.58 67.4314 Q1576.83 67.4314 1579.98 66.5807 Q1583.19 65.6895 1586.34 63.9476 L1586.34 70.8341 Q1583.23 72.2924 1579.86 73.0216 Q1576.54 73.7508 1572.77 73.7508 Q1562.53 73.7508 1556.49 67.3098 Q1550.45 60.8689 1550.45 49.9314 Q1550.45 38.832 1556.53 32.472 Q1562.65 26.1121 1573.26 26.1121 Q1576.7 26.1121 1579.98 26.8413 Q1583.27 27.5299 1586.34 28.9478 Z\" fill=\"#000000\" fill-rule=\"evenodd\" fill-opacity=\"1\" /><path clip-path=\"url(#clip620)\" d=\"M1606.68 14.324 L1606.68 27.2059 L1622.03 27.2059 L1622.03 32.9987 L1606.68 32.9987 L1606.68 57.6282 Q1606.68 63.1779 1608.18 64.7578 Q1609.72 66.3376 1614.38 66.3376 L1622.03 66.3376 L1622.03 72.576 L1614.38 72.576 Q1605.75 72.576 1602.47 69.3758 Q1599.19 66.1351 1599.19 57.6282 L1599.19 32.9987 L1593.72 32.9987 L1593.72 27.2059 L1599.19 27.2059 L1599.19 14.324 L1606.68 14.324 Z\" fill=\"#000000\" fill-rule=\"evenodd\" fill-opacity=\"1\" /><path clip-path=\"url(#clip620)\" d=\"M1652.46 49.7694 Q1643.42 49.7694 1639.94 51.8354 Q1636.45 53.9013 1636.45 58.8839 Q1636.45 62.8538 1639.05 65.2034 Q1641.68 67.5124 1646.18 67.5124 Q1652.37 67.5124 1656.1 63.1374 Q1659.87 58.7219 1659.87 51.4303 L1659.87 49.7694 L1652.46 49.7694 M1667.32 46.6907 L1667.32 72.576 L1659.87 72.576 L1659.87 65.6895 Q1657.32 69.8214 1653.51 71.8063 Q1649.7 73.7508 1644.19 73.7508 Q1637.22 73.7508 1633.09 69.8619 Q1629 65.9325 1629 59.3701 Q1629 51.7138 1634.11 47.825 Q1639.25 43.9361 1649.42 43.9361 L1659.87 43.9361 L1659.87 43.2069 Q1659.87 38.0623 1656.47 35.2672 Q1653.1 32.4315 1646.99 32.4315 Q1643.1 32.4315 1639.41 33.3632 Q1635.73 34.295 1632.32 36.1584 L1632.32 29.2718 Q1636.41 27.692 1640.26 26.9223 Q1644.11 26.1121 1647.76 26.1121 Q1657.6 26.1121 1662.46 31.2163 Q1667.32 36.3204 1667.32 46.6907 Z\" fill=\"#000000\" fill-rule=\"evenodd\" fill-opacity=\"1\" /><path clip-path=\"url(#clip620)\" d=\"M1716.26 65.7705 L1716.26 89.8329 L1708.76 89.8329 L1708.76 27.2059 L1716.26 27.2059 L1716.26 34.0924 Q1718.61 30.0415 1722.17 28.0971 Q1725.78 26.1121 1730.76 26.1121 Q1739.02 26.1121 1744.17 32.6746 Q1749.35 39.2371 1749.35 49.9314 Q1749.35 60.6258 1744.17 67.1883 Q1739.02 73.7508 1730.76 73.7508 Q1725.78 73.7508 1722.17 71.8063 Q1718.61 69.8214 1716.26 65.7705 M1741.62 49.9314 Q1741.62 41.7081 1738.21 37.0496 Q1734.85 32.3505 1728.94 32.3505 Q1723.02 32.3505 1719.62 37.0496 Q1716.26 41.7081 1716.26 49.9314 Q1716.26 58.1548 1719.62 62.8538 Q1723.02 67.5124 1728.94 67.5124 Q1734.85 67.5124 1738.21 62.8538 Q1741.62 58.1548 1741.62 49.9314 Z\" fill=\"#000000\" fill-rule=\"evenodd\" fill-opacity=\"1\" /><path clip-path=\"url(#clip620)\" d=\"M1782.33 49.7694 Q1773.29 49.7694 1769.81 51.8354 Q1766.33 53.9013 1766.33 58.8839 Q1766.33 62.8538 1768.92 65.2034 Q1771.55 67.5124 1776.05 67.5124 Q1782.25 67.5124 1785.97 63.1374 Q1789.74 58.7219 1789.74 51.4303 L1789.74 49.7694 L1782.33 49.7694 M1797.19 46.6907 L1797.19 72.576 L1789.74 72.576 L1789.74 65.6895 Q1787.19 69.8214 1783.38 71.8063 Q1779.57 73.7508 1774.06 73.7508 Q1767.1 73.7508 1762.96 69.8619 Q1758.87 65.9325 1758.87 59.3701 Q1758.87 51.7138 1763.98 47.825 Q1769.12 43.9361 1779.29 43.9361 L1789.74 43.9361 L1789.74 43.2069 Q1789.74 38.0623 1786.34 35.2672 Q1782.98 32.4315 1776.86 32.4315 Q1772.97 32.4315 1769.28 33.3632 Q1765.6 34.295 1762.19 36.1584 L1762.19 29.2718 Q1766.29 27.692 1770.13 26.9223 Q1773.98 26.1121 1777.63 26.1121 Q1787.47 26.1121 1792.33 31.2163 Q1797.19 36.3204 1797.19 46.6907 Z\" fill=\"#000000\" fill-rule=\"evenodd\" fill-opacity=\"1\" /><path clip-path=\"url(#clip620)\" d=\"M1838.84 34.1734 Q1837.58 33.4443 1836.08 33.1202 Q1834.62 32.7556 1832.84 32.7556 Q1826.52 32.7556 1823.12 36.8875 Q1819.76 40.9789 1819.76 48.6757 L1819.76 72.576 L1812.26 72.576 L1812.26 27.2059 L1819.76 27.2059 L1819.76 34.2544 Q1822.11 30.1225 1825.87 28.1376 Q1829.64 26.1121 1835.03 26.1121 Q1835.8 26.1121 1836.73 26.2337 Q1837.66 26.3147 1838.8 26.5172 L1838.84 34.1734 Z\" fill=\"#000000\" fill-rule=\"evenodd\" fill-opacity=\"1\" /><path clip-path=\"url(#clip620)\" d=\"M1867.28 49.7694 Q1858.24 49.7694 1854.76 51.8354 Q1851.27 53.9013 1851.27 58.8839 Q1851.27 62.8538 1853.87 65.2034 Q1856.5 67.5124 1861 67.5124 Q1867.19 67.5124 1870.92 63.1374 Q1874.69 58.7219 1874.69 51.4303 L1874.69 49.7694 L1867.28 49.7694 M1882.14 46.6907 L1882.14 72.576 L1874.69 72.576 L1874.69 65.6895 Q1872.14 69.8214 1868.33 71.8063 Q1864.52 73.7508 1859.01 73.7508 Q1852.04 73.7508 1847.91 69.8619 Q1843.82 65.9325 1843.82 59.3701 Q1843.82 51.7138 1848.92 47.825 Q1854.07 43.9361 1864.24 43.9361 L1874.69 43.9361 L1874.69 43.2069 Q1874.69 38.0623 1871.29 35.2672 Q1867.92 32.4315 1861.81 32.4315 Q1857.92 32.4315 1854.23 33.3632 Q1850.54 34.295 1847.14 36.1584 L1847.14 29.2718 Q1851.23 27.692 1855.08 26.9223 Q1858.93 26.1121 1862.58 26.1121 Q1872.42 26.1121 1877.28 31.2163 Q1882.14 36.3204 1882.14 46.6907 Z\" fill=\"#000000\" fill-rule=\"evenodd\" fill-opacity=\"1\" /><path clip-path=\"url(#clip620)\" d=\"M1953.72 34.0924 L1953.72 9.54393 L1961.18 9.54393 L1961.18 72.576 L1953.72 72.576 L1953.72 65.7705 Q1951.37 69.8214 1947.77 71.8063 Q1944.2 73.7508 1939.18 73.7508 Q1930.96 73.7508 1925.77 67.1883 Q1920.63 60.6258 1920.63 49.9314 Q1920.63 39.2371 1925.77 32.6746 Q1930.96 26.1121 1939.18 26.1121 Q1944.2 26.1121 1947.77 28.0971 Q1951.37 30.0415 1953.72 34.0924 M1928.32 49.9314 Q1928.32 58.1548 1931.68 62.8538 Q1935.09 67.5124 1941 67.5124 Q1946.92 67.5124 1950.32 62.8538 Q1953.72 58.1548 1953.72 49.9314 Q1953.72 41.7081 1950.32 37.0496 Q1946.92 32.3505 1941 32.3505 Q1935.09 32.3505 1931.68 37.0496 Q1928.32 41.7081 1928.32 49.9314 Z\" fill=\"#000000\" fill-rule=\"evenodd\" fill-opacity=\"1\" /><path clip-path=\"url(#clip620)\" d=\"M1976.53 27.2059 L1983.98 27.2059 L1983.98 72.576 L1976.53 72.576 L1976.53 27.2059 M1976.53 9.54393 L1983.98 9.54393 L1983.98 18.9825 L1976.53 18.9825 L1976.53 9.54393 Z\" fill=\"#000000\" fill-rule=\"evenodd\" fill-opacity=\"1\" /><path clip-path=\"url(#clip620)\" d=\"M2028.5 28.5427 L2028.5 35.5912 Q2025.34 33.9709 2021.94 33.1607 Q2018.54 32.3505 2014.89 32.3505 Q2009.34 32.3505 2006.55 34.0519 Q2003.79 35.7533 2003.79 39.156 Q2003.79 41.7486 2005.78 43.2475 Q2007.76 44.7058 2013.76 46.0426 L2016.31 46.6097 Q2024.25 48.3111 2027.57 51.4303 Q2030.93 54.509 2030.93 60.0587 Q2030.93 66.3781 2025.91 70.0644 Q2020.93 73.7508 2012.18 73.7508 Q2008.53 73.7508 2004.56 73.0216 Q2000.63 72.3329 1996.26 70.9151 L1996.26 63.2184 Q2000.39 65.3654 2004.4 66.4591 Q2008.41 67.5124 2012.34 67.5124 Q2017.6 67.5124 2020.44 65.73 Q2023.28 63.9071 2023.28 60.6258 Q2023.28 57.5877 2021.21 55.9673 Q2019.18 54.3469 2012.26 52.8481 L2009.66 52.2405 Q2002.74 50.7821 1999.66 47.7845 Q1996.58 44.7463 1996.58 39.4801 Q1996.58 33.0797 2001.12 29.5959 Q2005.65 26.1121 2014 26.1121 Q2018.13 26.1121 2021.78 26.7198 Q2025.42 27.3274 2028.5 28.5427 Z\" fill=\"#000000\" fill-rule=\"evenodd\" fill-opacity=\"1\" /><path clip-path=\"url(#clip620)\" d=\"M2050.17 14.324 L2050.17 27.2059 L2065.53 27.2059 L2065.53 32.9987 L2050.17 32.9987 L2050.17 57.6282 Q2050.17 63.1779 2051.67 64.7578 Q2053.21 66.3376 2057.87 66.3376 L2065.53 66.3376 L2065.53 72.576 L2057.87 72.576 Q2049.24 72.576 2045.96 69.3758 Q2042.68 66.1351 2042.68 57.6282 L2042.68 32.9987 L2037.21 32.9987 L2037.21 27.2059 L2042.68 27.2059 L2042.68 14.324 L2050.17 14.324 Z\" fill=\"#000000\" fill-rule=\"evenodd\" fill-opacity=\"1\" /><path clip-path=\"url(#clip620)\" d=\"M2075.33 27.2059 L2082.78 27.2059 L2082.78 72.576 L2075.33 72.576 L2075.33 27.2059 M2075.33 9.54393 L2082.78 9.54393 L2082.78 18.9825 L2075.33 18.9825 L2075.33 9.54393 Z\" fill=\"#000000\" fill-rule=\"evenodd\" fill-opacity=\"1\" /><path clip-path=\"url(#clip620)\" d=\"M2136.09 45.1919 L2136.09 72.576 L2128.64 72.576 L2128.64 45.4349 Q2128.64 38.994 2126.13 35.7938 Q2123.62 32.5936 2118.59 32.5936 Q2112.56 32.5936 2109.07 36.4419 Q2105.59 40.2903 2105.59 46.9338 L2105.59 72.576 L2098.1 72.576 L2098.1 27.2059 L2105.59 27.2059 L2105.59 34.2544 Q2108.26 30.163 2111.87 28.1376 Q2115.51 26.1121 2120.25 26.1121 Q2128.07 26.1121 2132.08 30.9732 Q2136.09 35.7938 2136.09 45.1919 Z\" fill=\"#000000\" fill-rule=\"evenodd\" fill-opacity=\"1\" /><path clip-path=\"url(#clip620)\" d=\"M2158.33 14.324 L2158.33 27.2059 L2173.69 27.2059 L2173.69 32.9987 L2158.33 32.9987 L2158.33 57.6282 Q2158.33 63.1779 2159.83 64.7578 Q2161.37 66.3376 2166.03 66.3376 L2173.69 66.3376 L2173.69 72.576 L2166.03 72.576 Q2157.4 72.576 2154.12 69.3758 Q2150.84 66.1351 2150.84 57.6282 L2150.84 32.9987 L2145.37 32.9987 L2145.37 27.2059 L2150.84 27.2059 L2150.84 14.324 L2158.33 14.324 Z\" fill=\"#000000\" fill-rule=\"evenodd\" fill-opacity=\"1\" /><path clip-path=\"url(#clip620)\" d=\"M2201.07 32.4315 Q2195.07 32.4315 2191.59 37.1306 Q2188.11 41.7891 2188.11 49.9314 Q2188.11 58.0738 2191.55 62.7728 Q2195.03 67.4314 2201.07 67.4314 Q2207.02 67.4314 2210.51 62.7323 Q2213.99 58.0333 2213.99 49.9314 Q2213.99 41.8701 2210.51 37.1711 Q2207.02 32.4315 2201.07 32.4315 M2201.07 26.1121 Q2210.79 26.1121 2216.34 32.4315 Q2221.89 38.7509 2221.89 49.9314 Q2221.89 61.0714 2216.34 67.4314 Q2210.79 73.7508 2201.07 73.7508 Q2191.31 73.7508 2185.76 67.4314 Q2180.25 61.0714 2180.25 49.9314 Q2180.25 38.7509 2185.76 32.4315 Q2191.31 26.1121 2201.07 26.1121 Z\" fill=\"#000000\" fill-rule=\"evenodd\" fill-opacity=\"1\" /><path clip-path=\"url(#clip620)\" d=\"M2263.17 28.5427 L2263.17 35.5912 Q2260.01 33.9709 2256.61 33.1607 Q2253.2 32.3505 2249.56 32.3505 Q2244.01 32.3505 2241.21 34.0519 Q2238.46 35.7533 2238.46 39.156 Q2238.46 41.7486 2240.44 43.2475 Q2242.43 44.7058 2248.42 46.0426 L2250.98 46.6097 Q2258.92 48.3111 2262.24 51.4303 Q2265.6 54.509 2265.6 60.0587 Q2265.6 66.3781 2260.58 70.0644 Q2255.59 73.7508 2246.84 73.7508 Q2243.2 73.7508 2239.23 73.0216 Q2235.3 72.3329 2230.92 70.9151 L2230.92 63.2184 Q2235.06 65.3654 2239.07 66.4591 Q2243.08 67.5124 2247.01 67.5124 Q2252.27 67.5124 2255.11 65.73 Q2257.94 63.9071 2257.94 60.6258 Q2257.94 57.5877 2255.88 55.9673 Q2253.85 54.3469 2246.93 52.8481 L2244.33 52.2405 Q2237.41 50.7821 2234.33 47.7845 Q2231.25 44.7463 2231.25 39.4801 Q2231.25 33.0797 2235.79 29.5959 Q2240.32 26.1121 2248.67 26.1121 Q2252.8 26.1121 2256.45 26.7198 Q2260.09 27.3274 2263.17 28.5427 Z\" fill=\"#000000\" fill-rule=\"evenodd\" fill-opacity=\"1\" /><path clip-path=\"url(#clip620)\" d=\"M2341.55 45.1919 L2341.55 72.576 L2334.1 72.576 L2334.1 45.4349 Q2334.1 38.994 2331.59 35.7938 Q2329.08 32.5936 2324.06 32.5936 Q2318.02 32.5936 2314.54 36.4419 Q2311.05 40.2903 2311.05 46.9338 L2311.05 72.576 L2303.56 72.576 L2303.56 9.54393 L2311.05 9.54393 L2311.05 34.2544 Q2313.73 30.163 2317.33 28.1376 Q2320.98 26.1121 2325.72 26.1121 Q2333.53 26.1121 2337.54 30.9732 Q2341.55 35.7938 2341.55 45.1919 Z\" fill=\"#000000\" fill-rule=\"evenodd\" fill-opacity=\"1\" /><polyline clip-path=\"url(#clip622)\" style=\"stroke:#009af9; stroke-linecap:butt; stroke-linejoin:round; stroke-width:4; stroke-opacity:1; fill:none\" points=\"\n",
       "  247.252,162.047 252.363,162.111 257.473,162.304 262.583,162.625 267.694,163.075 272.804,163.653 277.915,164.36 283.025,165.194 288.136,166.155 293.246,167.245 \n",
       "  298.357,168.461 303.467,169.804 308.577,171.273 313.688,172.868 318.798,174.588 323.909,176.433 329.019,178.402 334.13,180.495 339.24,182.712 344.351,185.05 \n",
       "  349.461,187.511 354.572,190.092 359.682,192.794 364.792,195.615 369.903,198.554 375.013,201.612 380.124,204.786 385.234,208.076 390.345,211.482 395.455,215.001 \n",
       "  400.566,218.633 405.676,222.377 410.786,226.231 415.897,230.196 421.007,234.268 426.118,238.449 431.228,242.735 436.339,247.126 441.449,251.621 446.56,256.218 \n",
       "  451.67,260.917 456.78,265.715 461.891,270.611 467.001,275.604 472.112,280.693 477.222,285.876 482.333,291.152 487.443,296.519 492.554,301.976 497.664,307.52 \n",
       "  502.774,313.152 507.885,318.868 512.995,324.669 518.106,330.551 523.216,336.513 528.327,342.554 533.437,348.673 538.548,354.866 543.658,361.134 548.768,367.474 \n",
       "  553.879,373.884 558.989,380.363 564.1,386.908 569.21,393.52 574.321,400.194 579.431,406.931 584.542,413.728 589.652,420.583 594.762,427.495 599.873,434.462 \n",
       "  604.983,441.481 610.094,448.552 615.204,455.673 620.315,462.842 625.425,470.056 630.536,477.315 635.646,484.616 640.756,491.958 645.867,499.338 650.977,506.756 \n",
       "  656.088,514.21 661.198,521.697 666.309,529.215 671.419,536.764 676.53,544.342 681.64,551.945 686.75,559.574 691.861,567.226 696.971,574.899 702.082,582.592 \n",
       "  707.192,590.303 712.303,598.03 717.413,605.772 722.524,613.527 727.634,621.293 732.745,629.069 737.855,636.853 742.965,644.643 748.076,652.437 753.186,660.235 \n",
       "  758.297,668.035 763.407,675.834 768.518,683.632 773.628,691.427 778.739,699.217 783.849,707.002 788.959,714.778 794.07,722.546 799.18,730.303 804.291,738.048 \n",
       "  809.401,745.779 814.512,753.496 819.622,761.197 824.733,768.881 829.843,776.545 834.953,784.19 840.064,791.813 845.174,799.413 850.285,806.989 855.395,814.541 \n",
       "  860.506,822.066 865.616,829.563 870.727,837.032 875.837,844.471 880.947,851.879 886.058,859.254 891.168,866.597 896.279,873.906 901.389,881.179 906.5,888.416 \n",
       "  911.61,895.616 916.721,902.778 921.831,909.901 926.941,916.984 932.052,924.026 937.162,931.027 942.273,937.985 947.383,944.899 952.494,951.77 957.604,958.595 \n",
       "  962.715,965.375 967.825,972.109 972.935,978.795 978.046,985.434 983.156,992.025 988.267,998.567 993.377,1005.06 998.488,1011.5 1003.6,1017.89 1008.71,1024.23 \n",
       "  1013.82,1030.52 1018.93,1036.76 1024.04,1042.94 1029.15,1049.07 1034.26,1055.15 1039.37,1061.17 1044.48,1067.14 1049.59,1073.05 1054.7,1078.91 1059.81,1084.72 \n",
       "  1064.92,1090.47 1070.03,1096.16 1075.14,1101.8 1080.25,1107.38 1085.37,1112.9 1090.48,1118.37 1095.59,1123.78 1100.7,1129.13 1105.81,1134.43 1110.92,1139.67 \n",
       "  1116.03,1144.85 1121.14,1149.98 1126.25,1155.04 1131.36,1160.05 1136.47,1165.01 1141.58,1169.9 1146.69,1174.74 1151.8,1179.52 1156.91,1184.25 1162.02,1188.91 \n",
       "  1167.13,1193.52 1172.24,1198.07 1177.35,1202.57 1182.46,1207.01 1187.57,1211.39 1192.68,1215.72 1197.8,1219.98 1202.91,1224.2 1208.02,1228.36 1213.13,1232.46 \n",
       "  1218.24,1236.5 1223.35,1240.49 1228.46,1244.43 1233.57,1248.31 1238.68,1252.14 1243.79,1255.91 1248.9,1259.63 1254.01,1263.3 1259.12,1266.91 1264.23,1270.47 \n",
       "  1269.34,1273.98 1274.45,1277.43 1279.56,1280.83 1284.67,1284.18 1289.78,1287.48 1294.89,1290.73 1300,1293.93 1305.11,1297.08 1310.22,1300.18 1315.34,1303.23 \n",
       "  1320.45,1306.23 1325.56,1309.19 1330.67,1312.09 1335.78,1314.95 1340.89,1317.76 1346,1320.53 1351.11,1323.24 1356.22,1325.92 1361.33,1328.54 1366.44,1331.12 \n",
       "  1371.55,1333.66 1376.66,1336.16 1381.77,1338.61 1386.88,1341.01 1391.99,1343.38 1397.1,1345.7 1402.21,1347.98 1407.32,1350.22 1412.43,1352.42 1417.54,1354.58 \n",
       "  1422.65,1356.7 1427.77,1358.78 1432.88,1360.82 1437.99,1362.83 1443.1,1364.79 1448.21,1366.72 1453.32,1368.61 1458.43,1370.47 1463.54,1372.29 1468.65,1374.08 \n",
       "  1473.76,1375.82 1478.87,1377.54 1483.98,1379.22 1489.09,1380.87 1494.2,1382.49 1499.31,1384.07 1504.42,1385.62 1509.53,1387.14 1514.64,1388.63 1519.75,1390.08 \n",
       "  1524.86,1391.51 1529.97,1392.91 1535.08,1394.28 1540.19,1395.62 1545.31,1396.93 1550.42,1398.21 1555.53,1399.47 1560.64,1400.7 1565.75,1401.9 1570.86,1403.08 \n",
       "  1575.97,1404.23 1581.08,1405.35 1586.19,1406.46 1591.3,1407.53 1596.41,1408.58 1601.52,1409.61 1606.63,1410.62 1611.74,1411.6 1616.85,1412.56 1621.96,1413.5 \n",
       "  1627.07,1414.42 1632.18,1415.32 1637.29,1416.19 1642.4,1417.05 1647.51,1417.88 1652.62,1418.7 1657.74,1419.5 1662.85,1420.27 1667.96,1421.03 1673.07,1421.77 \n",
       "  1678.18,1422.5 1683.29,1423.2 1688.4,1423.89 1693.51,1424.56 1698.62,1425.22 1703.73,1425.86 1708.84,1426.48 1713.95,1427.09 1719.06,1427.68 1724.17,1428.26 \n",
       "  1729.28,1428.82 1734.39,1429.37 1739.5,1429.91 1744.61,1430.43 1749.72,1430.94 1754.83,1431.44 1759.94,1431.92 1765.05,1432.39 1770.17,1432.85 1775.28,1433.29 \n",
       "  1780.39,1433.73 1785.5,1434.15 1790.61,1434.56 1795.72,1434.96 1800.83,1435.35 1805.94,1435.73 1811.05,1436.1 1816.16,1436.46 1821.27,1436.81 1826.38,1437.15 \n",
       "  1831.49,1437.48 1836.6,1437.8 1841.71,1438.12 1846.82,1438.42 1851.93,1438.72 1857.04,1439.01 1862.15,1439.28 1867.26,1439.56 1872.37,1439.82 1877.48,1440.08 \n",
       "  1882.59,1440.33 1887.71,1440.57 1892.82,1440.81 1897.93,1441.03 1903.04,1441.26 1908.15,1441.47 1913.26,1441.68 1918.37,1441.88 1923.48,1442.08 1928.59,1442.27 \n",
       "  1933.7,1442.46 1938.81,1442.64 1943.92,1442.82 1949.03,1442.99 1954.14,1443.15 1959.25,1443.31 1964.36,1443.47 1969.47,1443.62 1974.58,1443.76 1979.69,1443.9 \n",
       "  1984.8,1444.04 1989.91,1444.17 1995.02,1444.3 2000.14,1444.43 2005.25,1444.55 2010.36,1444.67 2015.47,1444.78 2020.58,1444.89 2025.69,1445 2030.8,1445.1 \n",
       "  2035.91,1445.2 2041.02,1445.3 2046.13,1445.39 2051.24,1445.48 2056.35,1445.57 2061.46,1445.65 2066.57,1445.74 2071.68,1445.82 2076.79,1445.89 2081.9,1445.97 \n",
       "  2087.01,1446.04 2092.12,1446.11 2097.23,1446.18 2102.34,1446.24 2107.45,1446.31 2112.56,1446.37 2117.68,1446.43 2122.79,1446.48 2127.9,1446.54 2133.01,1446.59 \n",
       "  2138.12,1446.64 2143.23,1446.69 2148.34,1446.74 2153.45,1446.79 2158.56,1446.83 2163.67,1446.88 2168.78,1446.92 2173.89,1446.96 2179,1447 2184.11,1447.03 \n",
       "  2189.22,1447.07 2194.33,1447.11 2199.44,1447.14 2204.55,1447.17 2209.66,1447.2 2214.77,1447.23 2219.88,1447.26 2224.99,1447.29 2230.11,1447.32 2235.22,1447.35 \n",
       "  2240.33,1447.37 2245.44,1447.4 2250.55,1447.42 2255.66,1447.44 2260.77,1447.46 2265.88,1447.49 2270.99,1447.51 2276.1,1447.53 2281.21,1447.54 2286.32,1447.56 \n",
       "  2291.43,1447.58 \n",
       "  \"/>\n",
       "<polyline clip-path=\"url(#clip622)\" style=\"stroke:#e26f46; stroke-linecap:butt; stroke-linejoin:round; stroke-width:4; stroke-opacity:1; fill:none\" points=\"\n",
       "  247.252,162.047 299.667,162.047 352.082,175.574 404.497,202.345 456.911,241.656 509.326,292.417 561.741,353.197 614.156,422.298 666.571,497.827 718.986,577.79 \n",
       "  771.4,660.178 823.815,743.054 876.23,824.627 928.645,903.318 981.06,977.806 1033.47,1047.05 1085.89,1110.32 1138.3,1167.16 1190.72,1217.38 1243.13,1261.05 \n",
       "  1295.55,1298.42 1347.96,1329.89 1400.38,1355.99 1452.79,1377.28 1505.21,1394.4 1557.62,1407.93 1610.04,1418.47 1662.45,1426.55 1714.87,1432.65 1767.28,1437.17 \n",
       "  1819.7,1440.48 1872.11,1442.86 1924.53,1444.54 1976.94,1445.71 2029.36,1446.51 2081.77,1447.05 2134.19,1447.4 2186.6,1447.63 2239.02,1447.78 2291.43,1447.87 \n",
       "  \n",
       "  \"/>\n",
       "<polyline clip-path=\"url(#clip622)\" style=\"stroke:#3da44d; stroke-linecap:butt; stroke-linejoin:round; stroke-width:4; stroke-opacity:1; fill:none\" points=\"\n",
       "  247.252,162.047 252.375,162.047 257.499,162.176 262.622,162.435 267.745,162.822 272.868,163.339 277.992,163.984 283.115,164.759 288.238,165.662 293.361,166.693 \n",
       "  298.485,167.852 303.608,169.138 308.731,170.552 313.854,172.093 318.978,173.76 324.101,175.552 329.224,177.471 334.347,179.514 339.471,181.681 344.594,183.972 \n",
       "  349.717,186.386 354.84,188.922 359.964,191.579 365.087,194.357 370.21,197.255 375.333,200.272 380.457,203.407 385.58,206.659 390.703,210.027 395.827,213.511 \n",
       "  400.95,217.109 406.073,220.82 411.196,224.644 416.32,228.578 421.443,232.623 426.566,236.776 431.689,241.036 436.813,245.403 441.936,249.875 447.059,254.451 \n",
       "  452.182,259.129 457.306,263.909 462.429,268.788 467.552,273.765 472.675,278.84 477.799,284.01 482.922,289.274 488.045,294.631 493.168,300.079 498.292,305.617 \n",
       "  503.415,311.243 508.538,316.955 513.661,322.753 518.785,328.633 523.908,334.596 529.031,340.639 534.154,346.76 539.278,352.958 544.401,359.231 549.524,365.577 \n",
       "  554.647,371.996 559.771,378.484 564.894,385.041 570.017,391.665 575.14,398.353 580.264,405.105 585.387,411.918 590.51,418.79 595.633,425.72 600.757,432.707 \n",
       "  605.88,439.748 611.003,446.841 616.126,453.985 621.25,461.178 626.373,468.418 631.496,475.703 636.619,483.032 641.743,490.403 646.866,497.814 651.989,505.262 \n",
       "  657.112,512.747 662.236,520.267 667.359,527.819 672.482,535.403 677.605,543.016 682.729,550.656 687.852,558.322 692.975,566.011 698.099,573.723 703.222,581.456 \n",
       "  708.345,589.207 713.468,596.975 718.592,604.758 723.715,612.555 728.838,620.364 733.961,628.183 739.085,636.01 744.208,643.844 749.331,651.684 754.454,659.527 \n",
       "  759.578,667.372 764.701,675.218 769.824,683.062 774.947,690.904 780.071,698.741 785.194,706.573 790.317,714.397 795.44,722.212 800.564,730.017 805.687,737.811 \n",
       "  810.81,745.591 815.933,753.356 821.057,761.105 826.18,768.837 831.303,776.551 836.426,784.244 841.55,791.915 846.673,799.564 851.796,807.189 856.919,814.789 \n",
       "  862.043,822.362 867.166,829.908 872.289,837.424 877.412,844.911 882.536,852.366 887.659,859.789 892.782,867.179 897.905,874.534 903.029,881.854 908.152,889.137 \n",
       "  913.275,896.383 918.398,903.59 923.522,910.758 928.645,917.885 933.768,924.971 938.891,932.015 944.015,939.016 949.138,945.973 954.261,952.885 959.384,959.752 \n",
       "  964.508,966.573 969.631,973.347 974.754,980.074 979.877,986.752 985.001,993.381 990.124,999.96 995.247,1006.49 1000.37,1012.97 1005.49,1019.4 1010.62,1025.77 \n",
       "  1015.74,1032.09 1020.86,1038.36 1025.99,1044.58 1031.11,1050.74 1036.23,1056.85 1041.36,1062.91 1046.48,1068.91 1051.6,1074.85 1056.73,1080.74 1061.85,1086.57 \n",
       "  1066.97,1092.35 1072.1,1098.06 1077.22,1103.73 1082.34,1109.33 1087.47,1114.88 1092.59,1120.37 1097.71,1125.8 1102.84,1131.18 1107.96,1136.5 1113.08,1141.76 \n",
       "  1118.21,1146.96 1123.33,1152.1 1128.45,1157.19 1133.58,1162.22 1138.7,1167.18 1143.82,1172.1 1148.94,1176.95 1154.07,1181.74 1159.19,1186.48 1164.31,1191.16 \n",
       "  1169.44,1195.78 1174.56,1200.34 1179.68,1204.85 1184.81,1209.29 1189.93,1213.69 1195.05,1218.02 1200.18,1222.29 1205.3,1226.51 1210.42,1230.68 1215.55,1234.78 \n",
       "  1220.67,1238.83 1225.79,1242.83 1230.92,1246.77 1236.04,1250.65 1241.16,1254.48 1246.29,1258.25 1251.41,1261.97 1256.53,1265.64 1261.66,1269.25 1266.78,1272.8 \n",
       "  1271.9,1276.31 1277.03,1279.76 1282.15,1283.16 1287.27,1286.5 1292.4,1289.8 1297.52,1293.04 1302.64,1296.24 1307.77,1299.38 1312.89,1302.47 1318.01,1305.51 \n",
       "  1323.14,1308.51 1328.26,1311.45 1333.38,1314.35 1338.51,1317.19 1343.63,1319.99 1348.75,1322.75 1353.88,1325.45 1359,1328.12 1364.12,1330.73 1369.24,1333.3 \n",
       "  1374.37,1335.82 1379.49,1338.31 1384.61,1340.74 1389.74,1343.14 1394.86,1345.49 1399.98,1347.79 1405.11,1350.06 1410.23,1352.28 1415.35,1354.47 1420.48,1356.61 \n",
       "  1425.6,1358.72 1430.72,1360.78 1435.85,1362.81 1440.97,1364.79 1446.09,1366.74 1451.22,1368.65 1456.34,1370.53 1461.46,1372.36 1466.59,1374.17 1471.71,1375.93 \n",
       "  1476.83,1377.66 1481.96,1379.36 1487.08,1381.02 1492.2,1382.65 1497.33,1384.25 1502.45,1385.81 1507.57,1387.34 1512.7,1388.84 1517.82,1390.31 1522.94,1391.75 \n",
       "  1528.07,1393.16 1533.19,1394.54 1538.31,1395.89 1543.44,1397.21 1548.56,1398.5 1553.68,1399.76 1558.81,1401 1563.93,1402.21 1569.05,1403.39 1574.17,1404.55 \n",
       "  1579.3,1405.68 1584.42,1406.79 1589.54,1407.87 1594.67,1408.92 1599.79,1409.96 1604.91,1410.97 1610.04,1411.95 1615.16,1412.92 1620.28,1413.86 1625.41,1414.78 \n",
       "  1630.53,1415.68 1635.65,1416.56 1640.78,1417.41 1645.9,1418.25 1651.02,1419.07 1656.15,1419.86 1661.27,1420.64 1666.39,1421.4 1671.52,1422.14 1676.64,1422.86 \n",
       "  1681.76,1423.57 1686.89,1424.26 1692.01,1424.93 1697.13,1425.58 1702.26,1426.22 1707.38,1426.84 1712.5,1427.45 1717.63,1428.04 1722.75,1428.61 1727.87,1429.18 \n",
       "  1733,1429.72 1738.12,1430.26 1743.24,1430.78 1748.37,1431.28 1753.49,1431.77 1758.61,1432.25 1763.74,1432.72 1768.86,1433.18 1773.98,1433.62 1779.11,1434.05 \n",
       "  1784.23,1434.47 1789.35,1434.88 1794.47,1435.28 1799.6,1435.66 1804.72,1436.04 1809.84,1436.4 1814.97,1436.76 1820.09,1437.11 1825.21,1437.44 1830.34,1437.77 \n",
       "  1835.46,1438.09 1840.58,1438.4 1845.71,1438.7 1850.83,1438.99 1855.95,1439.27 1861.08,1439.55 1866.2,1439.82 1871.32,1440.08 1876.45,1440.33 1881.57,1440.58 \n",
       "  1886.69,1440.81 1891.82,1441.05 1896.94,1441.27 1902.06,1441.49 1907.19,1441.7 1912.31,1441.91 1917.43,1442.11 1922.56,1442.3 1927.68,1442.49 1932.8,1442.67 \n",
       "  1937.93,1442.85 1943.05,1443.02 1948.17,1443.18 1953.3,1443.34 1958.42,1443.5 1963.54,1443.65 1968.67,1443.8 1973.79,1443.94 1978.91,1444.08 1984.04,1444.21 \n",
       "  1989.16,1444.34 1994.28,1444.47 1999.41,1444.59 2004.53,1444.71 2009.65,1444.82 2014.77,1444.93 2019.9,1445.04 2025.02,1445.14 2030.14,1445.24 2035.27,1445.34 \n",
       "  2040.39,1445.43 2045.51,1445.52 2050.64,1445.61 2055.76,1445.7 2060.88,1445.78 2066.01,1445.86 2071.13,1445.93 2076.25,1446.01 2081.38,1446.08 2086.5,1446.15 \n",
       "  2091.62,1446.22 2096.75,1446.28 2101.87,1446.34 2106.99,1446.41 2112.12,1446.46 2117.24,1446.52 2122.36,1446.58 2127.49,1446.63 2132.61,1446.68 2137.73,1446.73 \n",
       "  2142.86,1446.78 2147.98,1446.82 2153.1,1446.87 2158.23,1446.91 2163.35,1446.95 2168.47,1446.99 2173.6,1447.03 2178.72,1447.07 2183.84,1447.1 2188.97,1447.14 \n",
       "  2194.09,1447.17 2199.21,1447.2 2204.34,1447.23 2209.46,1447.26 2214.58,1447.29 2219.7,1447.32 2224.83,1447.35 2229.95,1447.37 2235.07,1447.4 2240.2,1447.42 \n",
       "  2245.32,1447.44 2250.44,1447.47 2255.57,1447.49 2260.69,1447.51 2265.81,1447.53 2270.94,1447.55 2276.06,1447.57 2281.18,1447.58 2286.31,1447.6 2291.43,1447.62 \n",
       "  \n",
       "  \"/>\n",
       "<polyline clip-path=\"url(#clip622)\" style=\"stroke:#c271d2; stroke-linecap:butt; stroke-linejoin:round; stroke-width:4; stroke-opacity:1; fill:none\" points=\"\n",
       "  247.252,162.047 247.763,162.047 248.274,162.048 248.786,162.051 249.297,162.055 249.808,162.06 250.319,162.066 250.83,162.074 251.342,162.083 251.853,162.093 \n",
       "  252.364,162.105 252.875,162.118 253.386,162.132 253.897,162.147 254.409,162.164 254.92,162.182 255.431,162.201 255.942,162.222 256.453,162.244 256.964,162.267 \n",
       "  257.476,162.291 257.987,162.317 258.498,162.344 259.009,162.372 259.52,162.402 260.031,162.433 260.543,162.465 261.054,162.498 261.565,162.533 262.076,162.569 \n",
       "  262.587,162.606 263.098,162.645 263.61,162.685 264.121,162.726 264.632,162.769 265.143,162.812 265.654,162.857 266.166,162.904 266.677,162.951 267.188,163 \n",
       "  267.699,163.05 268.21,163.102 268.721,163.154 269.233,163.208 269.744,163.263 270.255,163.32 270.766,163.378 271.277,163.437 271.788,163.497 272.3,163.559 \n",
       "  272.811,163.622 273.322,163.686 273.833,163.752 274.344,163.819 274.855,163.887 275.367,163.956 275.878,164.027 276.389,164.099 276.9,164.172 277.411,164.246 \n",
       "  277.922,164.322 278.434,164.399 278.945,164.478 279.456,164.557 279.967,164.638 280.478,164.72 280.99,164.804 281.501,164.889 282.012,164.975 282.523,165.062 \n",
       "  283.034,165.15 283.545,165.24 284.057,165.331 284.568,165.424 285.079,165.517 285.59,165.612 286.101,165.709 286.612,165.806 287.124,165.905 287.635,166.005 \n",
       "  288.146,166.106 288.657,166.209 289.168,166.313 289.679,166.418 290.191,166.524 290.702,166.632 291.213,166.741 291.724,166.851 292.235,166.963 292.746,167.076 \n",
       "  293.258,167.19 293.769,167.305 294.28,167.422 294.791,167.539 295.302,167.659 295.814,167.779 296.325,167.901 296.836,168.024 297.347,168.148 297.858,168.273 \n",
       "  298.369,168.4 298.881,168.528 299.392,168.657 299.903,168.788 300.414,168.92 300.925,169.053 301.436,169.187 301.948,169.323 302.459,169.46 302.97,169.598 \n",
       "  303.481,169.737 303.992,169.878 304.503,170.02 305.015,170.163 305.526,170.308 306.037,170.453 306.548,170.6 307.059,170.749 307.57,170.898 308.082,171.049 \n",
       "  308.593,171.201 309.104,171.354 309.615,171.509 310.126,171.665 310.638,171.822 311.149,171.98 311.66,172.14 312.171,172.3 312.682,172.463 313.193,172.626 \n",
       "  313.705,172.79 314.216,172.956 314.727,173.123 315.238,173.292 315.749,173.461 316.26,173.632 316.772,173.804 317.283,173.978 317.794,174.152 318.305,174.328 \n",
       "  318.816,174.505 319.327,174.684 319.839,174.863 320.35,175.044 320.861,175.226 321.372,175.41 321.883,175.594 322.394,175.78 322.906,175.967 323.417,176.156 \n",
       "  323.928,176.345 324.439,176.536 324.95,176.728 325.462,176.922 325.973,177.116 326.484,177.312 326.995,177.509 327.506,177.707 328.017,177.907 328.529,178.108 \n",
       "  329.04,178.31 329.551,178.513 330.062,178.717 330.573,178.923 331.084,179.13 331.596,179.338 332.107,179.548 332.618,179.758 333.129,179.97 333.64,180.184 \n",
       "  334.151,180.398 334.663,180.613 335.174,180.83 335.685,181.048 336.196,181.268 336.707,181.488 337.218,181.71 337.73,181.933 338.241,182.157 338.752,182.383 \n",
       "  339.263,182.609 339.774,182.837 340.286,183.066 340.797,183.297 341.308,183.528 341.819,183.761 342.33,183.995 342.841,184.23 343.353,184.467 343.864,184.704 \n",
       "  344.375,184.943 344.886,185.183 345.397,185.425 345.908,185.667 346.42,185.911 346.931,186.156 347.442,186.402 347.953,186.649 348.464,186.898 348.975,187.148 \n",
       "  349.487,187.399 349.998,187.651 350.509,187.905 351.02,188.159 351.531,188.415 352.042,188.672 352.554,188.931 353.065,189.19 353.576,189.451 354.087,189.713 \n",
       "  354.598,189.976 355.11,190.24 355.621,190.506 356.132,190.772 356.643,191.04 357.154,191.309 357.665,191.58 358.177,191.851 358.688,192.124 359.199,192.398 \n",
       "  359.71,192.673 360.221,192.949 360.732,193.227 361.244,193.506 361.755,193.785 362.266,194.066 362.777,194.349 363.288,194.632 363.799,194.917 364.311,195.203 \n",
       "  364.822,195.49 365.333,195.778 365.844,196.067 366.355,196.358 366.866,196.65 367.378,196.943 367.889,197.237 368.4,197.532 368.911,197.829 369.422,198.126 \n",
       "  369.934,198.425 370.445,198.725 370.956,199.027 371.467,199.329 371.978,199.633 372.489,199.937 373.001,200.243 373.512,200.55 374.023,200.859 374.534,201.168 \n",
       "  375.045,201.479 375.556,201.791 376.068,202.103 376.579,202.418 377.09,202.733 377.601,203.049 378.112,203.367 378.623,203.686 379.135,204.006 379.646,204.327 \n",
       "  380.157,204.649 380.668,204.973 381.179,205.297 381.69,205.623 382.202,205.95 382.713,206.278 383.224,206.607 383.735,206.937 384.246,207.269 384.758,207.602 \n",
       "  385.269,207.936 385.78,208.271 386.291,208.607 386.802,208.944 387.313,209.282 387.825,209.622 388.336,209.963 388.847,210.305 389.358,210.648 389.869,210.992 \n",
       "  390.38,211.337 390.892,211.683 391.403,212.031 391.914,212.38 392.425,212.73 392.936,213.081 393.447,213.433 393.959,213.786 394.47,214.14 394.981,214.496 \n",
       "  395.492,214.853 396.003,215.21 396.514,215.569 397.026,215.929 397.537,216.291 398.048,216.653 398.559,217.016 399.07,217.381 399.582,217.747 400.093,218.113 \n",
       "  400.604,218.481 401.115,218.85 401.626,219.221 402.137,219.592 402.649,219.964 403.16,220.338 403.671,220.712 404.182,221.088 404.693,221.465 405.204,221.843 \n",
       "  405.716,222.222 406.227,222.602 406.738,222.983 407.249,223.366 407.76,223.749 408.271,224.134 408.783,224.52 409.294,224.906 409.805,225.294 410.316,225.683 \n",
       "  410.827,226.074 411.338,226.465 411.85,226.857 412.361,227.25 412.872,227.645 413.383,228.041 413.894,228.437 414.406,228.835 414.917,229.234 415.428,229.634 \n",
       "  415.939,230.035 416.45,230.437 416.961,230.84 417.473,231.245 417.984,231.65 418.495,232.056 419.006,232.464 419.517,232.873 420.028,233.282 420.54,233.693 \n",
       "  421.051,234.105 421.562,234.518 422.073,234.932 422.584,235.347 423.095,235.763 423.607,236.18 424.118,236.599 424.629,237.018 425.14,237.438 425.651,237.86 \n",
       "  426.162,238.282 426.674,238.706 427.185,239.131 427.696,239.557 428.207,239.983 428.718,240.411 429.23,240.84 429.741,241.27 430.252,241.701 430.763,242.133 \n",
       "  431.274,242.566 431.785,243 432.297,243.436 432.808,243.872 433.319,244.309 433.83,244.748 434.341,245.187 434.852,245.628 435.364,246.069 435.875,246.512 \n",
       "  436.386,246.955 436.897,247.4 437.408,247.845 437.919,248.292 438.431,248.74 438.942,249.189 439.453,249.638 439.964,250.089 440.475,250.541 440.986,250.994 \n",
       "  441.498,251.448 442.009,251.903 442.52,252.359 443.031,252.816 443.542,253.274 444.054,253.733 444.565,254.193 445.076,254.654 445.587,255.116 446.098,255.579 \n",
       "  446.609,256.043 447.121,256.508 447.632,256.974 448.143,257.441 448.654,257.909 449.165,258.378 449.676,258.849 450.188,259.32 450.699,259.792 451.21,260.265 \n",
       "  451.721,260.739 452.232,261.214 452.743,261.69 453.255,262.168 453.766,262.646 454.277,263.125 454.788,263.605 455.299,264.086 455.81,264.568 456.322,265.051 \n",
       "  456.833,265.535 457.344,266.02 457.855,266.506 458.366,266.994 458.878,267.482 459.389,267.97 459.9,268.46 460.411,268.951 460.922,269.443 461.433,269.936 \n",
       "  461.945,270.43 462.456,270.925 462.967,271.421 463.478,271.917 463.989,272.415 464.5,272.914 465.012,273.414 465.523,273.914 466.034,274.416 466.545,274.918 \n",
       "  467.056,275.422 467.567,275.926 468.079,276.432 468.59,276.938 469.101,277.445 469.612,277.954 470.123,278.463 470.634,278.973 471.146,279.484 471.657,279.996 \n",
       "  472.168,280.509 472.679,281.023 473.19,281.538 473.702,282.054 474.213,282.571 474.724,283.089 475.235,283.607 475.746,284.127 476.257,284.647 476.769,285.169 \n",
       "  477.28,285.691 477.791,286.214 478.302,286.739 478.813,287.264 479.324,287.79 479.836,288.317 480.347,288.845 480.858,289.374 481.369,289.903 481.88,290.434 \n",
       "  482.391,290.966 482.903,291.498 483.414,292.032 483.925,292.566 484.436,293.101 484.947,293.637 485.458,294.174 485.97,294.712 486.481,295.251 486.992,295.791 \n",
       "  487.503,296.332 488.014,296.873 488.526,297.416 489.037,297.959 489.548,298.503 490.059,299.048 490.57,299.594 491.081,300.141 491.593,300.689 492.104,301.238 \n",
       "  492.615,301.787 493.126,302.338 493.637,302.889 494.148,303.441 494.66,303.995 495.171,304.549 495.682,305.103 496.193,305.659 496.704,306.216 497.215,306.773 \n",
       "  497.727,307.332 498.238,307.891 498.749,308.451 499.26,309.012 499.771,309.574 500.282,310.136 500.794,310.7 501.305,311.264 501.816,311.829 502.327,312.396 \n",
       "  502.838,312.962 503.35,313.53 503.861,314.099 504.372,314.668 504.883,315.239 505.394,315.81 505.905,316.382 506.417,316.955 506.928,317.529 507.439,318.103 \n",
       "  507.95,318.679 508.461,319.255 508.972,319.832 509.484,320.41 509.995,320.989 510.506,321.568 511.017,322.149 511.528,322.73 512.039,323.312 512.551,323.895 \n",
       "  513.062,324.479 513.573,325.063 514.084,325.648 514.595,326.235 515.106,326.822 515.618,327.409 516.129,327.998 516.64,328.587 517.151,329.178 517.662,329.769 \n",
       "  518.174,330.361 518.685,330.953 519.196,331.547 519.707,332.141 520.218,332.736 520.729,333.332 521.241,333.928 521.752,334.526 522.263,335.124 522.774,335.723 \n",
       "  523.285,336.323 523.796,336.924 524.308,337.525 524.819,338.127 525.33,338.73 525.841,339.334 526.352,339.938 526.863,340.544 527.375,341.15 527.886,341.757 \n",
       "  528.397,342.364 528.908,342.973 529.419,343.582 529.93,344.192 530.442,344.803 530.953,345.414 531.464,346.026 531.975,346.639 532.486,347.253 532.998,347.868 \n",
       "  533.509,348.483 534.02,349.099 534.531,349.716 535.042,350.333 535.553,350.952 536.065,351.571 536.576,352.191 537.087,352.811 537.598,353.432 538.109,354.054 \n",
       "  538.62,354.677 539.132,355.301 539.643,355.925 540.154,356.55 540.665,357.176 541.176,357.802 541.687,358.429 542.199,359.057 542.71,359.686 543.221,360.315 \n",
       "  543.732,360.945 544.243,361.576 544.754,362.208 545.266,362.84 545.777,363.473 546.288,364.107 546.799,364.741 547.31,365.376 547.822,366.012 548.333,366.648 \n",
       "  548.844,367.286 549.355,367.924 549.866,368.562 550.377,369.202 550.889,369.842 551.4,370.482 551.911,371.124 552.422,371.766 552.933,372.409 553.444,373.052 \n",
       "  553.956,373.697 554.467,374.342 554.978,374.987 555.489,375.633 556,376.28 556.511,376.928 557.023,377.576 557.534,378.225 558.045,378.875 558.556,379.525 \n",
       "  559.067,380.176 559.578,380.828 560.09,381.481 560.601,382.134 561.112,382.787 561.623,383.442 562.134,384.097 562.646,384.752 563.157,385.409 563.668,386.066 \n",
       "  564.179,386.723 564.69,387.382 565.201,388.041 565.713,388.7 566.224,389.361 566.735,390.022 567.246,390.683 567.757,391.345 568.268,392.008 568.78,392.672 \n",
       "  569.291,393.336 569.802,394.001 570.313,394.666 570.824,395.332 571.335,395.999 571.847,396.666 572.358,397.334 572.869,398.003 573.38,398.672 573.891,399.342 \n",
       "  574.402,400.012 574.914,400.683 575.425,401.355 575.936,402.027 576.447,402.7 576.958,403.374 577.47,404.048 577.981,404.722 578.492,405.398 579.003,406.074 \n",
       "  579.514,406.75 580.025,407.427 580.537,408.105 581.048,408.784 581.559,409.462 582.07,410.142 582.581,410.822 583.092,411.503 583.604,412.184 584.115,412.866 \n",
       "  584.626,413.549 585.137,414.232 585.648,414.915 586.159,415.6 586.671,416.284 587.182,416.97 587.693,417.656 588.204,418.342 588.715,419.03 589.226,419.717 \n",
       "  589.738,420.406 590.249,421.094 590.76,421.784 591.271,422.474 591.782,423.164 592.294,423.855 592.805,424.547 593.316,425.239 593.827,425.932 594.338,426.625 \n",
       "  594.849,427.319 595.361,428.014 595.872,428.709 596.383,429.404 596.894,430.1 597.405,430.797 597.916,431.494 598.428,432.192 598.939,432.89 599.45,433.589 \n",
       "  599.961,434.288 600.472,434.988 600.983,435.688 601.495,436.389 602.006,437.09 602.517,437.792 603.028,438.495 603.539,439.198 604.05,439.901 604.562,440.605 \n",
       "  605.073,441.31 605.584,442.015 606.095,442.72 606.606,443.426 607.118,444.133 607.629,444.84 608.14,445.548 608.651,446.256 609.162,446.964 609.673,447.673 \n",
       "  610.185,448.383 610.696,449.093 611.207,449.804 611.718,450.515 612.229,451.226 612.74,451.938 613.252,452.651 613.763,453.364 614.274,454.077 614.785,454.791 \n",
       "  615.296,455.506 615.807,456.221 616.319,456.936 616.83,457.652 617.341,458.369 617.852,459.086 618.363,459.803 618.874,460.521 619.386,461.239 619.897,461.958 \n",
       "  620.408,462.677 620.919,463.397 621.43,464.117 621.942,464.837 622.453,465.558 622.964,466.28 623.475,467.002 623.986,467.724 624.497,468.447 625.009,469.17 \n",
       "  625.52,469.894 626.031,470.618 626.542,471.343 627.053,472.068 627.564,472.793 628.076,473.519 628.587,474.245 629.098,474.972 629.609,475.699 630.12,476.427 \n",
       "  630.631,477.155 631.143,477.884 631.654,478.613 632.165,479.342 632.676,480.072 633.187,480.802 633.698,481.533 634.21,482.264 634.721,482.995 635.232,483.727 \n",
       "  635.743,484.459 636.254,485.192 636.766,485.925 637.277,486.658 637.788,487.392 638.299,488.127 638.81,488.861 639.321,489.596 639.833,490.332 640.344,491.068 \n",
       "  640.855,491.804 641.366,492.541 641.877,493.278 642.388,494.015 642.9,494.753 643.411,495.491 643.922,496.23 644.433,496.969 644.944,497.708 645.455,498.448 \n",
       "  645.967,499.188 646.478,499.928 646.989,500.669 647.5,501.41 648.011,502.152 648.522,502.894 649.034,503.636 649.545,504.379 650.056,505.122 650.567,505.865 \n",
       "  651.078,506.609 651.59,507.353 652.101,508.097 652.612,508.842 653.123,509.587 653.634,510.333 654.145,511.078 654.657,511.825 655.168,512.571 655.679,513.318 \n",
       "  656.19,514.065 656.701,514.813 657.212,515.561 657.724,516.309 658.235,517.057 658.746,517.806 659.257,518.555 659.768,519.305 660.279,520.055 660.791,520.805 \n",
       "  661.302,521.555 661.813,522.306 662.324,523.057 662.835,523.809 663.346,524.56 663.858,525.313 664.369,526.065 664.88,526.818 665.391,527.571 665.902,528.324 \n",
       "  666.413,529.077 666.925,529.831 667.436,530.586 667.947,531.34 668.458,532.095 668.969,532.85 669.481,533.605 669.992,534.361 670.503,535.117 671.014,535.873 \n",
       "  671.525,536.63 672.036,537.387 672.548,538.144 673.059,538.901 673.57,539.659 674.081,540.417 674.592,541.175 675.103,541.933 675.615,542.692 676.126,543.451 \n",
       "  676.637,544.211 677.148,544.97 677.659,545.73 678.17,546.49 678.682,547.25 679.193,548.011 679.704,548.772 680.215,549.533 680.726,550.294 681.237,551.056 \n",
       "  681.749,551.818 682.26,552.58 682.771,553.343 683.282,554.105 683.793,554.868 684.305,555.631 684.816,556.395 685.327,557.158 685.838,557.922 686.349,558.686 \n",
       "  686.86,559.45 687.372,560.215 687.883,560.98 688.394,561.745 688.905,562.51 689.416,563.275 689.927,564.041 690.439,564.807 690.95,565.573 691.461,566.339 \n",
       "  691.972,567.106 692.483,567.873 692.994,568.64 693.506,569.407 694.017,570.174 694.528,570.942 695.039,571.71 695.55,572.478 696.061,573.246 696.573,574.015 \n",
       "  697.084,574.783 697.595,575.552 698.106,576.321 698.617,577.09 699.129,577.86 699.64,578.629 700.151,579.399 700.662,580.169 701.173,580.939 701.684,581.709 \n",
       "  702.196,582.48 702.707,583.251 703.218,584.022 703.729,584.793 704.24,585.564 704.751,586.335 705.263,587.107 705.774,587.879 706.285,588.651 706.796,589.423 \n",
       "  707.307,590.195 707.818,590.967 708.33,591.74 708.841,592.513 709.352,593.286 709.863,594.059 710.374,594.832 710.885,595.605 711.397,596.379 711.908,597.152 \n",
       "  712.419,597.926 712.93,598.7 713.441,599.474 713.953,600.249 714.464,601.023 714.975,601.798 715.486,602.572 715.997,603.347 716.508,604.122 717.02,604.897 \n",
       "  717.531,605.672 718.042,606.448 718.553,607.223 719.064,607.999 719.575,608.774 720.087,609.55 720.598,610.326 721.109,611.102 721.62,611.878 722.131,612.655 \n",
       "  722.642,613.431 723.154,614.208 723.665,614.984 724.176,615.761 724.687,616.538 725.198,617.315 725.709,618.092 726.221,618.869 726.732,619.647 727.243,620.424 \n",
       "  727.754,621.202 728.265,621.979 728.777,622.757 729.288,623.535 729.799,624.312 730.31,625.09 730.821,625.868 731.332,626.647 731.844,627.425 732.355,628.203 \n",
       "  732.866,628.982 733.377,629.76 733.888,630.539 734.399,631.317 734.911,632.096 735.422,632.875 735.933,633.653 736.444,634.432 736.955,635.211 737.466,635.99 \n",
       "  737.978,636.77 738.489,637.549 739,638.328 739.511,639.107 740.022,639.887 740.533,640.666 741.045,641.446 741.556,642.225 742.067,643.005 742.578,643.784 \n",
       "  743.089,644.564 743.601,645.344 744.112,646.123 744.623,646.903 745.134,647.683 745.645,648.463 746.156,649.243 746.668,650.023 747.179,650.803 747.69,651.583 \n",
       "  748.201,652.363 748.712,653.143 749.223,653.923 749.735,654.704 750.246,655.484 750.757,656.264 751.268,657.044 751.779,657.825 752.29,658.605 752.802,659.385 \n",
       "  753.313,660.166 753.824,660.946 754.335,661.726 754.846,662.507 755.357,663.287 755.869,664.068 756.38,664.848 756.891,665.628 757.402,666.409 757.913,667.189 \n",
       "  758.425,667.97 758.936,668.75 759.447,669.531 759.958,670.311 760.469,671.091 760.98,671.872 761.492,672.652 762.003,673.433 762.514,674.213 763.025,674.993 \n",
       "  763.536,675.774 764.047,676.554 764.559,677.334 765.07,678.115 765.581,678.895 766.092,679.675 766.603,680.456 767.114,681.236 767.626,682.016 768.137,682.796 \n",
       "  768.648,683.576 769.159,684.356 769.67,685.137 770.181,685.917 770.693,686.697 771.204,687.477 771.715,688.257 772.226,689.036 772.737,689.816 773.249,690.596 \n",
       "  773.76,691.376 774.271,692.156 774.782,692.935 775.293,693.715 775.804,694.494 776.316,695.274 776.827,696.053 777.338,696.833 777.849,697.612 778.36,698.392 \n",
       "  778.871,699.171 779.383,699.95 779.894,700.729 780.405,701.508 780.916,702.287 781.427,703.066 781.938,703.845 782.45,704.624 782.961,705.402 783.472,706.181 \n",
       "  783.983,706.96 784.494,707.738 785.005,708.517 785.517,709.295 786.028,710.073 786.539,710.851 787.05,711.629 787.561,712.407 788.073,713.185 788.584,713.963 \n",
       "  789.095,714.741 789.606,715.519 790.117,716.296 790.628,717.074 791.14,717.851 791.651,718.628 792.162,719.406 792.673,720.183 793.184,720.96 793.695,721.736 \n",
       "  794.207,722.513 794.718,723.29 795.229,724.066 795.74,724.843 796.251,725.619 796.762,726.396 797.274,727.172 797.785,727.948 798.296,728.724 798.807,729.499 \n",
       "  799.318,730.275 799.829,731.051 800.341,731.826 800.852,732.601 801.363,733.376 801.874,734.151 802.385,734.926 802.897,735.701 803.408,736.476 803.919,737.25 \n",
       "  804.43,738.025 804.941,738.799 805.452,739.573 805.964,740.347 806.475,741.121 806.986,741.895 807.497,742.668 808.008,743.442 808.519,744.215 809.031,744.988 \n",
       "  809.542,745.761 810.053,746.534 810.564,747.307 811.075,748.079 811.586,748.852 812.098,749.624 812.609,750.396 813.12,751.168 813.631,751.94 814.142,752.712 \n",
       "  814.653,753.483 815.165,754.254 815.676,755.026 816.187,755.797 816.698,756.567 817.209,757.338 817.721,758.109 818.232,758.879 818.743,759.649 819.254,760.419 \n",
       "  819.765,761.189 820.276,761.958 820.788,762.728 821.299,763.497 821.81,764.266 822.321,765.035 822.832,765.804 823.343,766.572 823.855,767.341 824.366,768.109 \n",
       "  824.877,768.877 825.388,769.645 825.899,770.412 826.41,771.18 826.922,771.947 827.433,772.714 827.944,773.481 828.455,774.248 828.966,775.014 829.477,775.78 \n",
       "  829.989,776.546 830.5,777.312 831.011,778.078 831.522,778.843 832.033,779.609 832.545,780.374 833.056,781.138 833.567,781.903 834.078,782.667 834.589,783.432 \n",
       "  835.1,784.196 835.612,784.959 836.123,785.723 836.634,786.486 837.145,787.249 837.656,788.012 838.167,788.775 838.679,789.537 839.19,790.3 839.701,791.062 \n",
       "  840.212,791.823 840.723,792.585 841.234,793.346 841.746,794.107 842.257,794.868 842.768,795.629 843.279,796.389 843.79,797.15 844.301,797.909 844.813,798.669 \n",
       "  845.324,799.429 845.835,800.188 846.346,800.947 846.857,801.706 847.369,802.464 847.88,803.222 848.391,803.98 848.902,804.738 849.413,805.496 849.924,806.253 \n",
       "  850.436,807.01 850.947,807.767 851.458,808.523 851.969,809.279 852.48,810.035 852.991,810.791 853.503,811.547 854.014,812.302 854.525,813.057 855.036,813.812 \n",
       "  855.547,814.566 856.058,815.32 856.57,816.074 857.081,816.828 857.592,817.581 858.103,818.334 858.614,819.087 859.125,819.84 859.637,820.592 860.148,821.344 \n",
       "  860.659,822.096 861.17,822.847 861.681,823.598 862.193,824.349 862.704,825.1 863.215,825.85 863.726,826.6 864.237,827.35 864.748,828.1 865.26,828.849 \n",
       "  865.771,829.598 866.282,830.347 866.793,831.095 867.304,831.843 867.815,832.591 868.327,833.338 868.838,834.085 869.349,834.832 869.86,835.579 870.371,836.325 \n",
       "  870.882,837.071 871.394,837.817 871.905,838.562 872.416,839.308 872.927,840.052 873.438,840.797 873.949,841.541 874.461,842.285 874.972,843.029 875.483,843.772 \n",
       "  875.994,844.515 876.505,845.258 877.017,846 877.528,846.742 878.039,847.484 878.55,848.225 879.061,848.966 879.572,849.707 880.084,850.448 880.595,851.188 \n",
       "  881.106,851.927 881.617,852.667 882.128,853.406 882.639,854.145 883.151,854.884 883.662,855.622 884.173,856.36 884.684,857.097 885.195,857.835 885.706,858.571 \n",
       "  886.218,859.308 886.729,860.044 887.24,860.78 887.751,861.516 888.262,862.251 888.773,862.986 889.285,863.721 889.796,864.455 890.307,865.189 890.818,865.922 \n",
       "  891.329,866.655 891.841,867.388 892.352,868.121 892.863,868.853 893.374,869.585 893.885,870.316 894.396,871.048 894.908,871.778 895.419,872.509 895.93,873.239 \n",
       "  896.441,873.969 896.952,874.698 897.463,875.427 897.975,876.156 898.486,876.884 898.997,877.612 899.508,878.34 900.019,879.067 900.53,879.794 901.042,880.52 \n",
       "  901.553,881.247 902.064,881.972 902.575,882.698 903.086,883.423 903.597,884.148 904.109,884.872 904.62,885.596 905.131,886.32 905.642,887.043 906.153,887.766 \n",
       "  906.665,888.488 907.176,889.211 907.687,889.932 908.198,890.654 908.709,891.375 909.22,892.095 909.732,892.816 910.243,893.536 910.754,894.255 911.265,894.974 \n",
       "  911.776,895.693 912.287,896.411 912.799,897.129 913.31,897.847 913.821,898.564 914.332,899.281 914.843,899.997 915.354,900.714 915.866,901.429 916.377,902.144 \n",
       "  916.888,902.859 917.399,903.574 917.91,904.288 918.421,905.002 918.933,905.715 919.444,906.428 919.955,907.141 920.466,907.853 920.977,908.564 921.489,909.276 \n",
       "  922,909.987 922.511,910.697 923.022,911.407 923.533,912.117 924.044,912.826 924.556,913.535 925.067,914.244 925.578,914.952 926.089,915.66 926.6,916.367 \n",
       "  927.111,917.074 927.623,917.781 928.134,918.487 928.645,919.192 929.156,919.898 929.667,920.602 930.178,921.307 930.69,922.011 931.201,922.715 931.712,923.418 \n",
       "  932.223,924.121 932.734,924.823 933.245,925.525 933.757,926.226 934.268,926.927 934.779,927.628 935.29,928.328 935.801,929.028 936.313,929.728 936.824,930.427 \n",
       "  937.335,931.125 937.846,931.823 938.357,932.521 938.868,933.218 939.38,933.915 939.891,934.612 940.402,935.308 940.913,936.003 941.424,936.698 941.935,937.393 \n",
       "  942.447,938.087 942.958,938.781 943.469,939.475 943.98,940.168 944.491,940.86 945.002,941.552 945.514,942.244 946.025,942.935 946.536,943.626 947.047,944.316 \n",
       "  947.558,945.006 948.069,945.696 948.581,946.385 949.092,947.073 949.603,947.761 950.114,948.449 950.625,949.136 951.137,949.823 951.648,950.509 952.159,951.195 \n",
       "  952.67,951.881 953.181,952.566 953.692,953.25 954.204,953.935 954.715,954.618 955.226,955.301 955.737,955.984 956.248,956.666 956.759,957.348 957.271,958.03 \n",
       "  957.782,958.711 958.293,959.391 958.804,960.071 959.315,960.751 959.826,961.43 960.338,962.108 960.849,962.786 961.36,963.464 961.871,964.141 962.382,964.818 \n",
       "  962.893,965.495 963.405,966.17 963.916,966.846 964.427,967.521 964.938,968.195 965.449,968.869 965.961,969.543 966.472,970.216 966.983,970.888 967.494,971.561 \n",
       "  968.005,972.232 968.516,972.903 969.028,973.574 969.539,974.244 970.05,974.914 970.561,975.583 971.072,976.252 971.583,976.921 972.095,977.588 972.606,978.256 \n",
       "  973.117,978.923 973.628,979.589 974.139,980.255 974.65,980.921 975.162,981.586 975.673,982.25 976.184,982.914 976.695,983.578 977.206,984.241 977.717,984.903 \n",
       "  978.229,985.566 978.74,986.227 979.251,986.888 979.762,987.549 980.273,988.209 980.785,988.869 981.296,989.528 981.807,990.187 982.318,990.845 982.829,991.503 \n",
       "  983.34,992.16 983.852,992.817 984.363,993.473 984.874,994.129 985.385,994.784 985.896,995.439 986.407,996.093 986.919,996.747 987.43,997.4 987.941,998.053 \n",
       "  988.452,998.705 988.963,999.357 989.474,1000.01 989.986,1000.66 990.497,1001.31 991.008,1001.96 991.519,1002.61 992.03,1003.26 992.541,1003.91 993.053,1004.55 \n",
       "  993.564,1005.2 994.075,1005.85 994.586,1006.49 995.097,1007.14 995.609,1007.79 996.12,1008.43 996.631,1009.07 997.142,1009.72 997.653,1010.36 998.164,1011 \n",
       "  998.676,1011.65 999.187,1012.29 999.698,1012.93 1000.21,1013.57 1000.72,1014.21 1001.23,1014.85 1001.74,1015.49 1002.25,1016.13 1002.76,1016.77 1003.28,1017.4 \n",
       "  1003.79,1018.04 1004.3,1018.68 1004.81,1019.31 1005.32,1019.95 1005.83,1020.59 1006.34,1021.22 1006.85,1021.85 1007.37,1022.49 1007.88,1023.12 1008.39,1023.75 \n",
       "  1008.9,1024.39 1009.41,1025.02 1009.92,1025.65 1010.43,1026.28 1010.94,1026.91 1011.45,1027.54 1011.97,1028.17 1012.48,1028.79 1012.99,1029.42 1013.5,1030.05 \n",
       "  1014.01,1030.68 1014.52,1031.3 1015.03,1031.93 1015.54,1032.55 1016.06,1033.18 1016.57,1033.8 1017.08,1034.43 1017.59,1035.05 1018.1,1035.67 1018.61,1036.3 \n",
       "  1019.12,1036.92 1019.63,1037.54 1020.14,1038.16 1020.66,1038.78 1021.17,1039.4 1021.68,1040.02 1022.19,1040.64 1022.7,1041.25 1023.21,1041.87 1023.72,1042.49 \n",
       "  1024.23,1043.1 1024.75,1043.72 1025.26,1044.33 1025.77,1044.95 1026.28,1045.56 1026.79,1046.18 1027.3,1046.79 1027.81,1047.4 1028.32,1048.01 1028.83,1048.63 \n",
       "  1029.35,1049.24 1029.86,1049.85 1030.37,1050.46 1030.88,1051.07 1031.39,1051.68 1031.9,1052.28 1032.41,1052.89 1032.92,1053.5 1033.44,1054.11 1033.95,1054.71 \n",
       "  1034.46,1055.32 1034.97,1055.92 1035.48,1056.53 1035.99,1057.13 1036.5,1057.73 1037.01,1058.34 1037.52,1058.94 1038.04,1059.54 1038.55,1060.14 1039.06,1060.74 \n",
       "  1039.57,1061.34 1040.08,1061.94 1040.59,1062.54 1041.1,1063.14 1041.61,1063.74 1042.13,1064.34 1042.64,1064.93 1043.15,1065.53 1043.66,1066.13 1044.17,1066.72 \n",
       "  1044.68,1067.32 1045.19,1067.91 1045.7,1068.5 1046.21,1069.1 1046.73,1069.69 1047.24,1070.28 1047.75,1070.87 1048.26,1071.46 1048.77,1072.05 1049.28,1072.64 \n",
       "  1049.79,1073.23 1050.3,1073.82 1050.82,1074.41 1051.33,1075 1051.84,1075.58 1052.35,1076.17 1052.86,1076.76 1053.37,1077.34 1053.88,1077.93 1054.39,1078.51 \n",
       "  1054.9,1079.09 1055.42,1079.68 1055.93,1080.26 1056.44,1080.84 1056.95,1081.42 1057.46,1082.01 1057.97,1082.59 1058.48,1083.17 1058.99,1083.74 1059.51,1084.32 \n",
       "  1060.02,1084.9 1060.53,1085.48 1061.04,1086.06 1061.55,1086.63 1062.06,1087.21 1062.57,1087.78 1063.08,1088.36 1063.59,1088.93 1064.11,1089.51 1064.62,1090.08 \n",
       "  1065.13,1090.65 1065.64,1091.22 1066.15,1091.8 1066.66,1092.37 1067.17,1092.94 1067.68,1093.51 1068.2,1094.08 1068.71,1094.65 1069.22,1095.21 1069.73,1095.78 \n",
       "  1070.24,1096.35 1070.75,1096.91 1071.26,1097.48 1071.77,1098.05 1072.28,1098.61 1072.8,1099.17 1073.31,1099.74 1073.82,1100.3 1074.33,1100.86 1074.84,1101.43 \n",
       "  1075.35,1101.99 1075.86,1102.55 1076.37,1103.11 1076.88,1103.67 1077.4,1104.23 1077.91,1104.79 1078.42,1105.34 1078.93,1105.9 1079.44,1106.46 1079.95,1107.01 \n",
       "  1080.46,1107.57 1080.97,1108.13 1081.49,1108.68 1082,1109.23 1082.51,1109.79 1083.02,1110.34 1083.53,1110.89 1084.04,1111.45 1084.55,1112 1085.06,1112.55 \n",
       "  1085.57,1113.1 1086.09,1113.65 1086.6,1114.2 1087.11,1114.74 1087.62,1115.29 1088.13,1115.84 1088.64,1116.39 1089.15,1116.93 1089.66,1117.48 1090.18,1118.02 \n",
       "  1090.69,1118.57 1091.2,1119.11 1091.71,1119.65 1092.22,1120.2 1092.73,1120.74 1093.24,1121.28 1093.75,1121.82 1094.26,1122.36 1094.78,1122.9 1095.29,1123.44 \n",
       "  1095.8,1123.98 1096.31,1124.52 1096.82,1125.06 1097.33,1125.59 1097.84,1126.13 1098.35,1126.67 1098.87,1127.2 1099.38,1127.74 1099.89,1128.27 1100.4,1128.8 \n",
       "  1100.91,1129.34 1101.42,1129.87 1101.93,1130.4 1102.44,1130.93 1102.95,1131.46 1103.47,1131.99 1103.98,1132.52 1104.49,1133.05 1105,1133.58 1105.51,1134.11 \n",
       "  1106.02,1134.63 1106.53,1135.16 1107.04,1135.69 1107.56,1136.21 1108.07,1136.74 1108.58,1137.26 1109.09,1137.79 1109.6,1138.31 1110.11,1138.83 1110.62,1139.35 \n",
       "  1111.13,1139.88 1111.64,1140.4 1112.16,1140.92 1112.67,1141.44 1113.18,1141.96 1113.69,1142.48 1114.2,1142.99 1114.71,1143.51 1115.22,1144.03 1115.73,1144.54 \n",
       "  1116.25,1145.06 1116.76,1145.58 1117.27,1146.09 1117.78,1146.6 1118.29,1147.12 1118.8,1147.63 1119.31,1148.14 1119.82,1148.66 1120.33,1149.17 1120.85,1149.68 \n",
       "  1121.36,1150.19 1121.87,1150.7 1122.38,1151.21 1122.89,1151.71 1123.4,1152.22 1123.91,1152.73 1124.42,1153.24 1124.94,1153.74 1125.45,1154.25 1125.96,1154.75 \n",
       "  1126.47,1155.26 1126.98,1155.76 1127.49,1156.26 1128,1156.77 1128.51,1157.27 1129.02,1157.77 1129.54,1158.27 1130.05,1158.77 1130.56,1159.27 1131.07,1159.77 \n",
       "  1131.58,1160.27 1132.09,1160.77 1132.6,1161.26 1133.11,1161.76 1133.63,1162.26 1134.14,1162.75 1134.65,1163.25 1135.16,1163.74 1135.67,1164.24 1136.18,1164.73 \n",
       "  1136.69,1165.22 1137.2,1165.72 1137.71,1166.21 1138.23,1166.7 1138.74,1167.19 1139.25,1167.68 1139.76,1168.17 1140.27,1168.66 1140.78,1169.15 1141.29,1169.63 \n",
       "  1141.8,1170.12 1142.32,1170.61 1142.83,1171.09 1143.34,1171.58 1143.85,1172.06 1144.36,1172.55 1144.87,1173.03 1145.38,1173.51 1145.89,1174 1146.4,1174.48 \n",
       "  1146.92,1174.96 1147.43,1175.44 1147.94,1175.92 1148.45,1176.4 1148.96,1176.88 1149.47,1177.36 1149.98,1177.84 1150.49,1178.31 1151,1178.79 1151.52,1179.27 \n",
       "  1152.03,1179.74 1152.54,1180.22 1153.05,1180.69 1153.56,1181.17 1154.07,1181.64 1154.58,1182.11 1155.09,1182.58 1155.61,1183.06 1156.12,1183.53 1156.63,1184 \n",
       "  1157.14,1184.47 1157.65,1184.94 1158.16,1185.41 1158.67,1185.87 1159.18,1186.34 1159.69,1186.81 1160.21,1187.28 1160.72,1187.74 1161.23,1188.21 1161.74,1188.67 \n",
       "  1162.25,1189.14 1162.76,1189.6 1163.27,1190.06 1163.78,1190.52 1164.3,1190.99 1164.81,1191.45 1165.32,1191.91 1165.83,1192.37 1166.34,1192.83 1166.85,1193.29 \n",
       "  1167.36,1193.75 1167.87,1194.2 1168.38,1194.66 1168.9,1195.12 1169.41,1195.57 1169.92,1196.03 1170.43,1196.48 1170.94,1196.94 1171.45,1197.39 1171.96,1197.85 \n",
       "  1172.47,1198.3 1172.99,1198.75 1173.5,1199.2 1174.01,1199.65 1174.52,1200.1 1175.03,1200.55 1175.54,1201 1176.05,1201.45 1176.56,1201.9 1177.07,1202.35 \n",
       "  1177.59,1202.8 1178.1,1203.24 1178.61,1203.69 1179.12,1204.13 1179.63,1204.58 1180.14,1205.02 1180.65,1205.47 1181.16,1205.91 1181.68,1206.35 1182.19,1206.79 \n",
       "  1182.7,1207.24 1183.21,1207.68 1183.72,1208.12 1184.23,1208.56 1184.74,1209 1185.25,1209.43 1185.76,1209.87 1186.28,1210.31 1186.79,1210.75 1187.3,1211.18 \n",
       "  1187.81,1211.62 1188.32,1212.05 1188.83,1212.49 1189.34,1212.92 1189.85,1213.36 1190.37,1213.79 1190.88,1214.22 1191.39,1214.65 1191.9,1215.08 1192.41,1215.51 \n",
       "  1192.92,1215.94 1193.43,1216.37 1193.94,1216.8 1194.45,1217.23 1194.97,1217.66 1195.48,1218.09 1195.99,1218.51 1196.5,1218.94 1197.01,1219.37 1197.52,1219.79 \n",
       "  1198.03,1220.21 1198.54,1220.64 1199.06,1221.06 1199.57,1221.48 1200.08,1221.91 1200.59,1222.33 1201.1,1222.75 1201.61,1223.17 1202.12,1223.59 1202.63,1224.01 \n",
       "  1203.14,1224.43 1203.66,1224.85 1204.17,1225.26 1204.68,1225.68 1205.19,1226.1 1205.7,1226.51 1206.21,1226.93 1206.72,1227.35 1207.23,1227.76 1207.75,1228.17 \n",
       "  1208.26,1228.59 1208.77,1229 1209.28,1229.41 1209.79,1229.82 1210.3,1230.23 1210.81,1230.64 1211.32,1231.05 1211.83,1231.46 1212.35,1231.87 1212.86,1232.28 \n",
       "  1213.37,1232.69 1213.88,1233.1 1214.39,1233.5 1214.9,1233.91 1215.41,1234.31 1215.92,1234.72 1216.44,1235.12 1216.95,1235.53 1217.46,1235.93 1217.97,1236.33 \n",
       "  1218.48,1236.74 1218.99,1237.14 1219.5,1237.54 1220.01,1237.94 1220.52,1238.34 1221.04,1238.74 1221.55,1239.14 1222.06,1239.54 1222.57,1239.93 1223.08,1240.33 \n",
       "  1223.59,1240.73 1224.1,1241.12 1224.61,1241.52 1225.12,1241.91 1225.64,1242.31 1226.15,1242.7 1226.66,1243.1 1227.17,1243.49 1227.68,1243.88 1228.19,1244.27 \n",
       "  1228.7,1244.66 1229.21,1245.05 1229.73,1245.44 1230.24,1245.83 1230.75,1246.22 1231.26,1246.61 1231.77,1247 1232.28,1247.39 1232.79,1247.77 1233.3,1248.16 \n",
       "  1233.81,1248.55 1234.33,1248.93 1234.84,1249.31 1235.35,1249.7 1235.86,1250.08 1236.37,1250.47 1236.88,1250.85 1237.39,1251.23 1237.9,1251.61 1238.42,1251.99 \n",
       "  1238.93,1252.37 1239.44,1252.75 1239.95,1253.13 1240.46,1253.51 1240.97,1253.89 1241.48,1254.27 1241.99,1254.64 1242.5,1255.02 1243.02,1255.39 1243.53,1255.77 \n",
       "  1244.04,1256.15 1244.55,1256.52 1245.06,1256.89 1245.57,1257.27 1246.08,1257.64 1246.59,1258.01 1247.11,1258.38 1247.62,1258.75 1248.13,1259.12 1248.64,1259.49 \n",
       "  1249.15,1259.86 1249.66,1260.23 1250.17,1260.6 1250.68,1260.97 1251.19,1261.34 1251.71,1261.7 1252.22,1262.07 1252.73,1262.44 1253.24,1262.8 1253.75,1263.17 \n",
       "  1254.26,1263.53 1254.77,1263.89 1255.28,1264.26 1255.8,1264.62 1256.31,1264.98 1256.82,1265.34 1257.33,1265.7 1257.84,1266.06 1258.35,1266.42 1258.86,1266.78 \n",
       "  1259.37,1267.14 1259.88,1267.5 1260.4,1267.86 1260.91,1268.22 1261.42,1268.57 1261.93,1268.93 1262.44,1269.28 1262.95,1269.64 1263.46,1269.99 1263.97,1270.35 \n",
       "  1264.49,1270.7 1265,1271.05 1265.51,1271.41 1266.02,1271.76 1266.53,1272.11 1267.04,1272.46 1267.55,1272.81 1268.06,1273.16 1268.57,1273.51 1269.09,1273.86 \n",
       "  1269.6,1274.21 1270.11,1274.56 1270.62,1274.9 1271.13,1275.25 1271.64,1275.6 1272.15,1275.94 1272.66,1276.29 1273.18,1276.63 1273.69,1276.98 1274.2,1277.32 \n",
       "  1274.71,1277.66 1275.22,1278 1275.73,1278.35 1276.24,1278.69 1276.75,1279.03 1277.26,1279.37 1277.78,1279.71 1278.29,1280.05 1278.8,1280.39 1279.31,1280.73 \n",
       "  1279.82,1281.06 1280.33,1281.4 1280.84,1281.74 1281.35,1282.08 1281.87,1282.41 1282.38,1282.75 1282.89,1283.08 1283.4,1283.42 1283.91,1283.75 1284.42,1284.08 \n",
       "  1284.93,1284.42 1285.44,1284.75 1285.95,1285.08 1286.47,1285.41 1286.98,1285.74 1287.49,1286.07 1288,1286.4 1288.51,1286.73 1289.02,1287.06 1289.53,1287.39 \n",
       "  1290.04,1287.72 1290.55,1288.04 1291.07,1288.37 1291.58,1288.7 1292.09,1289.02 1292.6,1289.35 1293.11,1289.67 1293.62,1289.99 1294.13,1290.32 1294.64,1290.64 \n",
       "  1295.16,1290.96 1295.67,1291.29 1296.18,1291.61 1296.69,1291.93 1297.2,1292.25 1297.71,1292.57 1298.22,1292.89 1298.73,1293.21 1299.24,1293.53 1299.76,1293.85 \n",
       "  1300.27,1294.16 1300.78,1294.48 1301.29,1294.8 1301.8,1295.11 1302.31,1295.43 1302.82,1295.74 1303.33,1296.06 1303.85,1296.37 1304.36,1296.69 1304.87,1297 \n",
       "  1305.38,1297.31 1305.89,1297.62 1306.4,1297.93 1306.91,1298.25 1307.42,1298.56 1307.93,1298.87 1308.45,1299.18 1308.96,1299.49 1309.47,1299.79 1309.98,1300.1 \n",
       "  1310.49,1300.41 1311,1300.72 1311.51,1301.02 1312.02,1301.33 1312.54,1301.64 1313.05,1301.94 1313.56,1302.25 1314.07,1302.55 1314.58,1302.85 1315.09,1303.16 \n",
       "  1315.6,1303.46 1316.11,1303.76 1316.62,1304.06 1317.14,1304.36 1317.65,1304.67 1318.16,1304.97 1318.67,1305.27 1319.18,1305.57 1319.69,1305.86 1320.2,1306.16 \n",
       "  1320.71,1306.46 1321.23,1306.76 1321.74,1307.05 1322.25,1307.35 1322.76,1307.65 1323.27,1307.94 1323.78,1308.24 1324.29,1308.53 1324.8,1308.83 1325.31,1309.12 \n",
       "  1325.83,1309.41 1326.34,1309.71 1326.85,1310 1327.36,1310.29 1327.87,1310.58 1328.38,1310.87 1328.89,1311.16 1329.4,1311.45 1329.92,1311.74 1330.43,1312.03 \n",
       "  1330.94,1312.32 1331.45,1312.6 1331.96,1312.89 1332.47,1313.18 1332.98,1313.47 1333.49,1313.75 1334,1314.04 1334.52,1314.32 1335.03,1314.61 1335.54,1314.89 \n",
       "  1336.05,1315.17 1336.56,1315.46 1337.07,1315.74 1337.58,1316.02 1338.09,1316.3 1338.61,1316.58 1339.12,1316.87 1339.63,1317.15 1340.14,1317.43 1340.65,1317.7 \n",
       "  1341.16,1317.98 1341.67,1318.26 1342.18,1318.54 1342.69,1318.82 1343.21,1319.09 1343.72,1319.37 1344.23,1319.65 1344.74,1319.92 1345.25,1320.2 1345.76,1320.47 \n",
       "  1346.27,1320.75 1346.78,1321.02 1347.3,1321.29 1347.81,1321.57 1348.32,1321.84 1348.83,1322.11 1349.34,1322.38 1349.85,1322.65 1350.36,1322.92 1350.87,1323.19 \n",
       "  1351.38,1323.46 1351.9,1323.73 1352.41,1324 1352.92,1324.27 1353.43,1324.54 1353.94,1324.8 1354.45,1325.07 1354.96,1325.34 1355.47,1325.6 1355.99,1325.87 \n",
       "  1356.5,1326.13 1357.01,1326.4 1357.52,1326.66 1358.03,1326.93 1358.54,1327.19 1359.05,1327.45 1359.56,1327.72 1360.07,1327.98 1360.59,1328.24 1361.1,1328.5 \n",
       "  1361.61,1328.76 1362.12,1329.02 1362.63,1329.28 1363.14,1329.54 1363.65,1329.8 1364.16,1330.06 1364.67,1330.31 1365.19,1330.57 1365.7,1330.83 1366.21,1331.09 \n",
       "  1366.72,1331.34 1367.23,1331.6 1367.74,1331.85 1368.25,1332.11 1368.76,1332.36 1369.28,1332.61 1369.79,1332.87 1370.3,1333.12 1370.81,1333.37 1371.32,1333.63 \n",
       "  1371.83,1333.88 1372.34,1334.13 1372.85,1334.38 1373.36,1334.63 1373.88,1334.88 1374.39,1335.13 1374.9,1335.38 1375.41,1335.63 1375.92,1335.88 1376.43,1336.12 \n",
       "  1376.94,1336.37 1377.45,1336.62 1377.97,1336.86 1378.48,1337.11 1378.99,1337.35 1379.5,1337.6 1380.01,1337.84 1380.52,1338.09 1381.03,1338.33 1381.54,1338.58 \n",
       "  1382.05,1338.82 1382.57,1339.06 1383.08,1339.3 1383.59,1339.55 1384.1,1339.79 1384.61,1340.03 1385.12,1340.27 1385.63,1340.51 1386.14,1340.75 1386.66,1340.99 \n",
       "  1387.17,1341.23 1387.68,1341.46 1388.19,1341.7 1388.7,1341.94 1389.21,1342.18 1389.72,1342.41 1390.23,1342.65 1390.74,1342.88 1391.26,1343.12 1391.77,1343.35 \n",
       "  1392.28,1343.59 1392.79,1343.82 1393.3,1344.06 1393.81,1344.29 1394.32,1344.52 1394.83,1344.75 1395.35,1344.99 1395.86,1345.22 1396.37,1345.45 1396.88,1345.68 \n",
       "  1397.39,1345.91 1397.9,1346.14 1398.41,1346.37 1398.92,1346.6 1399.43,1346.83 1399.95,1347.06 1400.46,1347.28 1400.97,1347.51 1401.48,1347.74 1401.99,1347.96 \n",
       "  1402.5,1348.19 1403.01,1348.42 1403.52,1348.64 1404.04,1348.87 1404.55,1349.09 1405.06,1349.31 1405.57,1349.54 1406.08,1349.76 1406.59,1349.98 1407.1,1350.21 \n",
       "  1407.61,1350.43 1408.12,1350.65 1408.64,1350.87 1409.15,1351.09 1409.66,1351.31 1410.17,1351.53 1410.68,1351.75 1411.19,1351.97 1411.7,1352.19 1412.21,1352.41 \n",
       "  1412.73,1352.63 1413.24,1352.84 1413.75,1353.06 1414.26,1353.28 1414.77,1353.49 1415.28,1353.71 1415.79,1353.93 1416.3,1354.14 1416.81,1354.36 1417.33,1354.57 \n",
       "  1417.84,1354.78 1418.35,1355 1418.86,1355.21 1419.37,1355.42 1419.88,1355.64 1420.39,1355.85 1420.9,1356.06 1421.42,1356.27 1421.93,1356.48 1422.44,1356.69 \n",
       "  1422.95,1356.9 1423.46,1357.11 1423.97,1357.32 1424.48,1357.53 1424.99,1357.74 1425.5,1357.95 1426.02,1358.15 1426.53,1358.36 1427.04,1358.57 1427.55,1358.78 \n",
       "  1428.06,1358.98 1428.57,1359.19 1429.08,1359.39 1429.59,1359.6 1430.11,1359.8 1430.62,1360.01 1431.13,1360.21 1431.64,1360.41 1432.15,1360.62 1432.66,1360.82 \n",
       "  1433.17,1361.02 1433.68,1361.22 1434.19,1361.43 1434.71,1361.63 1435.22,1361.83 1435.73,1362.03 1436.24,1362.23 1436.75,1362.43 1437.26,1362.63 1437.77,1362.83 \n",
       "  1438.28,1363.02 1438.79,1363.22 1439.31,1363.42 1439.82,1363.62 1440.33,1363.81 1440.84,1364.01 1441.35,1364.21 1441.86,1364.4 1442.37,1364.6 1442.88,1364.79 \n",
       "  1443.4,1364.99 1443.91,1365.18 1444.42,1365.38 1444.93,1365.57 1445.44,1365.76 1445.95,1365.96 1446.46,1366.15 1446.97,1366.34 1447.48,1366.53 1448,1366.72 \n",
       "  1448.51,1366.92 1449.02,1367.11 1449.53,1367.3 1450.04,1367.49 1450.55,1367.68 1451.06,1367.87 1451.57,1368.05 1452.09,1368.24 1452.6,1368.43 1453.11,1368.62 \n",
       "  1453.62,1368.81 1454.13,1368.99 1454.64,1369.18 1455.15,1369.37 1455.66,1369.55 1456.17,1369.74 1456.69,1369.92 1457.2,1370.11 1457.71,1370.29 1458.22,1370.48 \n",
       "  1458.73,1370.66 1459.24,1370.84 1459.75,1371.03 1460.26,1371.21 1460.78,1371.39 1461.29,1371.57 1461.8,1371.75 1462.31,1371.94 1462.82,1372.12 1463.33,1372.3 \n",
       "  1463.84,1372.48 1464.35,1372.66 1464.86,1372.84 1465.38,1373.02 1465.89,1373.2 1466.4,1373.37 1466.91,1373.55 1467.42,1373.73 1467.93,1373.91 1468.44,1374.08 \n",
       "  1468.95,1374.26 1469.47,1374.44 1469.98,1374.61 1470.49,1374.79 1471,1374.96 1471.51,1375.14 1472.02,1375.31 1472.53,1375.49 1473.04,1375.66 1473.55,1375.84 \n",
       "  1474.07,1376.01 1474.58,1376.18 1475.09,1376.35 1475.6,1376.53 1476.11,1376.7 1476.62,1376.87 1477.13,1377.04 1477.64,1377.21 1478.16,1377.38 1478.67,1377.55 \n",
       "  1479.18,1377.72 1479.69,1377.89 1480.2,1378.06 1480.71,1378.23 1481.22,1378.4 1481.73,1378.57 1482.24,1378.73 1482.76,1378.9 1483.27,1379.07 1483.78,1379.24 \n",
       "  1484.29,1379.4 1484.8,1379.57 1485.31,1379.73 1485.82,1379.9 1486.33,1380.06 1486.85,1380.23 1487.36,1380.39 1487.87,1380.56 1488.38,1380.72 1488.89,1380.88 \n",
       "  1489.4,1381.05 1489.91,1381.21 1490.42,1381.37 1490.93,1381.54 1491.45,1381.7 1491.96,1381.86 1492.47,1382.02 1492.98,1382.18 1493.49,1382.34 1494,1382.5 \n",
       "  1494.51,1382.66 1495.02,1382.82 1495.54,1382.98 1496.05,1383.14 1496.56,1383.3 1497.07,1383.46 1497.58,1383.61 1498.09,1383.77 1498.6,1383.93 1499.11,1384.09 \n",
       "  1499.62,1384.24 1500.14,1384.4 1500.65,1384.55 1501.16,1384.71 1501.67,1384.87 1502.18,1385.02 1502.69,1385.18 1503.2,1385.33 1503.71,1385.48 1504.23,1385.64 \n",
       "  1504.74,1385.79 1505.25,1385.94 1505.76,1386.1 1506.27,1386.25 1506.78,1386.4 1507.29,1386.55 1507.8,1386.71 1508.31,1386.86 1508.83,1387.01 1509.34,1387.16 \n",
       "  1509.85,1387.31 1510.36,1387.46 1510.87,1387.61 1511.38,1387.76 1511.89,1387.91 1512.4,1388.06 1512.91,1388.2 1513.43,1388.35 1513.94,1388.5 1514.45,1388.65 \n",
       "  1514.96,1388.79 1515.47,1388.94 1515.98,1389.09 1516.49,1389.23 1517,1389.38 1517.52,1389.53 1518.03,1389.67 1518.54,1389.82 1519.05,1389.96 1519.56,1390.11 \n",
       "  1520.07,1390.25 1520.58,1390.39 1521.09,1390.54 1521.6,1390.68 1522.12,1390.82 1522.63,1390.97 1523.14,1391.11 1523.65,1391.25 1524.16,1391.39 1524.67,1391.53 \n",
       "  1525.18,1391.68 1525.69,1391.82 1526.21,1391.96 1526.72,1392.1 1527.23,1392.24 1527.74,1392.38 1528.25,1392.52 1528.76,1392.66 1529.27,1392.79 1529.78,1392.93 \n",
       "  1530.29,1393.07 1530.81,1393.21 1531.32,1393.35 1531.83,1393.48 1532.34,1393.62 1532.85,1393.76 1533.36,1393.89 1533.87,1394.03 1534.38,1394.17 1534.9,1394.3 \n",
       "  1535.41,1394.44 1535.92,1394.57 1536.43,1394.71 1536.94,1394.84 1537.45,1394.98 1537.96,1395.11 1538.47,1395.24 1538.98,1395.38 1539.5,1395.51 1540.01,1395.64 \n",
       "  1540.52,1395.78 1541.03,1395.91 1541.54,1396.04 1542.05,1396.17 1542.56,1396.3 1543.07,1396.43 1543.59,1396.57 1544.1,1396.7 1544.61,1396.83 1545.12,1396.96 \n",
       "  1545.63,1397.09 1546.14,1397.21 1546.65,1397.34 1547.16,1397.47 1547.67,1397.6 1548.19,1397.73 1548.7,1397.86 1549.21,1397.99 1549.72,1398.11 1550.23,1398.24 \n",
       "  1550.74,1398.37 1551.25,1398.49 1551.76,1398.62 1552.28,1398.75 1552.79,1398.87 1553.3,1399 1553.81,1399.12 1554.32,1399.25 1554.83,1399.37 1555.34,1399.5 \n",
       "  1555.85,1399.62 1556.36,1399.75 1556.88,1399.87 1557.39,1399.99 1557.9,1400.12 1558.41,1400.24 1558.92,1400.36 1559.43,1400.48 1559.94,1400.61 1560.45,1400.73 \n",
       "  1560.97,1400.85 1561.48,1400.97 1561.99,1401.09 1562.5,1401.21 1563.01,1401.33 1563.52,1401.45 1564.03,1401.57 1564.54,1401.69 1565.05,1401.81 1565.57,1401.93 \n",
       "  1566.08,1402.05 1566.59,1402.17 1567.1,1402.29 1567.61,1402.4 1568.12,1402.52 1568.63,1402.64 1569.14,1402.76 1569.66,1402.87 1570.17,1402.99 1570.68,1403.11 \n",
       "  1571.19,1403.22 1571.7,1403.34 1572.21,1403.46 1572.72,1403.57 1573.23,1403.69 1573.74,1403.8 1574.26,1403.92 1574.77,1404.03 1575.28,1404.15 1575.79,1404.26 \n",
       "  1576.3,1404.37 1576.81,1404.49 1577.32,1404.6 1577.83,1404.71 1578.35,1404.83 1578.86,1404.94 1579.37,1405.05 1579.88,1405.16 1580.39,1405.27 1580.9,1405.39 \n",
       "  1581.41,1405.5 1581.92,1405.61 1582.43,1405.72 1582.95,1405.83 1583.46,1405.94 1583.97,1406.05 1584.48,1406.16 1584.99,1406.27 1585.5,1406.38 1586.01,1406.49 \n",
       "  1586.52,1406.6 1587.03,1406.71 1587.55,1406.81 1588.06,1406.92 1588.57,1407.03 1589.08,1407.14 1589.59,1407.24 1590.1,1407.35 1590.61,1407.46 1591.12,1407.56 \n",
       "  1591.64,1407.67 1592.15,1407.78 1592.66,1407.88 1593.17,1407.99 1593.68,1408.09 1594.19,1408.2 1594.7,1408.3 1595.21,1408.41 1595.72,1408.51 1596.24,1408.62 \n",
       "  1596.75,1408.72 1597.26,1408.83 1597.77,1408.93 1598.28,1409.03 1598.79,1409.14 1599.3,1409.24 1599.81,1409.34 1600.33,1409.44 1600.84,1409.55 1601.35,1409.65 \n",
       "  1601.86,1409.75 1602.37,1409.85 1602.88,1409.95 1603.39,1410.05 1603.9,1410.15 1604.41,1410.25 1604.93,1410.35 1605.44,1410.45 1605.95,1410.55 1606.46,1410.65 \n",
       "  1606.97,1410.75 1607.48,1410.85 1607.99,1410.95 1608.5,1411.05 1609.02,1411.15 1609.53,1411.25 1610.04,1411.35 1610.55,1411.44 1611.06,1411.54 1611.57,1411.64 \n",
       "  1612.08,1411.73 1612.59,1411.83 1613.1,1411.93 1613.62,1412.03 1614.13,1412.12 1614.64,1412.22 1615.15,1412.31 1615.66,1412.41 1616.17,1412.5 1616.68,1412.6 \n",
       "  1617.19,1412.69 1617.71,1412.79 1618.22,1412.88 1618.73,1412.98 1619.24,1413.07 1619.75,1413.17 1620.26,1413.26 1620.77,1413.35 1621.28,1413.45 1621.79,1413.54 \n",
       "  1622.31,1413.63 1622.82,1413.72 1623.33,1413.82 1623.84,1413.91 1624.35,1414 1624.86,1414.09 1625.37,1414.18 1625.88,1414.27 1626.4,1414.37 1626.91,1414.46 \n",
       "  1627.42,1414.55 1627.93,1414.64 1628.44,1414.73 1628.95,1414.82 1629.46,1414.91 1629.97,1415 1630.48,1415.09 1631,1415.18 1631.51,1415.26 1632.02,1415.35 \n",
       "  1632.53,1415.44 1633.04,1415.53 1633.55,1415.62 1634.06,1415.71 1634.57,1415.79 1635.09,1415.88 1635.6,1415.97 1636.11,1416.06 1636.62,1416.14 1637.13,1416.23 \n",
       "  1637.64,1416.32 1638.15,1416.4 1638.66,1416.49 1639.17,1416.57 1639.69,1416.66 1640.2,1416.74 1640.71,1416.83 1641.22,1416.91 1641.73,1417 1642.24,1417.08 \n",
       "  1642.75,1417.17 1643.26,1417.25 1643.78,1417.34 1644.29,1417.42 1644.8,1417.5 1645.31,1417.59 1645.82,1417.67 1646.33,1417.75 1646.84,1417.84 1647.35,1417.92 \n",
       "  1647.86,1418 1648.38,1418.08 1648.89,1418.17 1649.4,1418.25 1649.91,1418.33 1650.42,1418.41 1650.93,1418.49 1651.44,1418.57 1651.95,1418.66 1652.47,1418.74 \n",
       "  1652.98,1418.82 1653.49,1418.9 1654,1418.98 1654.51,1419.06 1655.02,1419.14 1655.53,1419.22 1656.04,1419.3 1656.55,1419.37 1657.07,1419.45 1657.58,1419.53 \n",
       "  1658.09,1419.61 1658.6,1419.69 1659.11,1419.77 1659.62,1419.85 1660.13,1419.92 1660.64,1420 1661.15,1420.08 1661.67,1420.16 1662.18,1420.23 1662.69,1420.31 \n",
       "  1663.2,1420.39 1663.71,1420.46 1664.22,1420.54 1664.73,1420.62 1665.24,1420.69 1665.76,1420.77 1666.27,1420.84 1666.78,1420.92 1667.29,1420.99 1667.8,1421.07 \n",
       "  1668.31,1421.14 1668.82,1421.22 1669.33,1421.29 1669.84,1421.37 1670.36,1421.44 1670.87,1421.52 1671.38,1421.59 1671.89,1421.66 1672.4,1421.74 1672.91,1421.81 \n",
       "  1673.42,1421.88 1673.93,1421.96 1674.45,1422.03 1674.96,1422.1 1675.47,1422.17 1675.98,1422.25 1676.49,1422.32 1677,1422.39 1677.51,1422.46 1678.02,1422.53 \n",
       "  1678.53,1422.6 1679.05,1422.68 1679.56,1422.75 1680.07,1422.82 1680.58,1422.89 1681.09,1422.96 1681.6,1423.03 1682.11,1423.1 1682.62,1423.17 1683.14,1423.24 \n",
       "  1683.65,1423.31 1684.16,1423.38 1684.67,1423.45 1685.18,1423.52 1685.69,1423.59 1686.2,1423.65 1686.71,1423.72 1687.22,1423.79 1687.74,1423.86 1688.25,1423.93 \n",
       "  1688.76,1424 1689.27,1424.06 1689.78,1424.13 1690.29,1424.2 1690.8,1424.27 1691.31,1424.33 1691.83,1424.4 1692.34,1424.47 1692.85,1424.53 1693.36,1424.6 \n",
       "  1693.87,1424.67 1694.38,1424.73 1694.89,1424.8 1695.4,1424.86 1695.91,1424.93 1696.43,1424.99 1696.94,1425.06 1697.45,1425.13 1697.96,1425.19 1698.47,1425.25 \n",
       "  1698.98,1425.32 1699.49,1425.38 1700,1425.45 1700.52,1425.51 1701.03,1425.58 1701.54,1425.64 1702.05,1425.7 1702.56,1425.77 1703.07,1425.83 1703.58,1425.89 \n",
       "  1704.09,1425.96 1704.6,1426.02 1705.12,1426.08 1705.63,1426.15 1706.14,1426.21 1706.65,1426.27 1707.16,1426.33 1707.67,1426.39 1708.18,1426.46 1708.69,1426.52 \n",
       "  1709.21,1426.58 1709.72,1426.64 1710.23,1426.7 1710.74,1426.76 1711.25,1426.82 1711.76,1426.88 1712.27,1426.94 1712.78,1427.01 1713.29,1427.07 1713.81,1427.13 \n",
       "  1714.32,1427.19 1714.83,1427.25 1715.34,1427.3 1715.85,1427.36 1716.36,1427.42 1716.87,1427.48 1717.38,1427.54 1717.9,1427.6 1718.41,1427.66 1718.92,1427.72 \n",
       "  1719.43,1427.78 1719.94,1427.83 1720.45,1427.89 1720.96,1427.95 1721.47,1428.01 1721.98,1428.07 1722.5,1428.12 1723.01,1428.18 1723.52,1428.24 1724.03,1428.3 \n",
       "  1724.54,1428.35 1725.05,1428.41 1725.56,1428.47 1726.07,1428.52 1726.59,1428.58 1727.1,1428.64 1727.61,1428.69 1728.12,1428.75 1728.63,1428.8 1729.14,1428.86 \n",
       "  1729.65,1428.92 1730.16,1428.97 1730.67,1429.03 1731.19,1429.08 1731.7,1429.14 1732.21,1429.19 1732.72,1429.25 1733.23,1429.3 1733.74,1429.35 1734.25,1429.41 \n",
       "  1734.76,1429.46 1735.27,1429.52 1735.79,1429.57 1736.3,1429.62 1736.81,1429.68 1737.32,1429.73 1737.83,1429.78 1738.34,1429.84 1738.85,1429.89 1739.36,1429.94 \n",
       "  1739.88,1430 1740.39,1430.05 1740.9,1430.1 1741.41,1430.15 1741.92,1430.21 1742.43,1430.26 1742.94,1430.31 1743.45,1430.36 1743.96,1430.41 1744.48,1430.47 \n",
       "  1744.99,1430.52 1745.5,1430.57 1746.01,1430.62 1746.52,1430.67 1747.03,1430.72 1747.54,1430.77 1748.05,1430.82 1748.57,1430.87 1749.08,1430.92 1749.59,1430.97 \n",
       "  1750.1,1431.02 1750.61,1431.07 1751.12,1431.12 1751.63,1431.17 1752.14,1431.22 1752.65,1431.27 1753.17,1431.32 1753.68,1431.37 1754.19,1431.42 1754.7,1431.47 \n",
       "  1755.21,1431.52 1755.72,1431.57 1756.23,1431.61 1756.74,1431.66 1757.26,1431.71 1757.77,1431.76 1758.28,1431.81 1758.79,1431.86 1759.3,1431.9 1759.81,1431.95 \n",
       "  1760.32,1432 1760.83,1432.05 1761.34,1432.09 1761.86,1432.14 1762.37,1432.19 1762.88,1432.23 1763.39,1432.28 1763.9,1432.33 1764.41,1432.37 1764.92,1432.42 \n",
       "  1765.43,1432.47 1765.95,1432.51 1766.46,1432.56 1766.97,1432.61 1767.48,1432.65 1767.99,1432.7 1768.5,1432.74 1769.01,1432.79 1769.52,1432.83 1770.03,1432.88 \n",
       "  1770.55,1432.92 1771.06,1432.97 1771.57,1433.01 1772.08,1433.06 1772.59,1433.1 1773.1,1433.15 1773.61,1433.19 1774.12,1433.24 1774.64,1433.28 1775.15,1433.32 \n",
       "  1775.66,1433.37 1776.17,1433.41 1776.68,1433.46 1777.19,1433.5 1777.7,1433.54 1778.21,1433.59 1778.72,1433.63 1779.24,1433.67 1779.75,1433.72 1780.26,1433.76 \n",
       "  1780.77,1433.8 1781.28,1433.84 1781.79,1433.89 1782.3,1433.93 1782.81,1433.97 1783.33,1434.01 1783.84,1434.06 1784.35,1434.1 1784.86,1434.14 1785.37,1434.18 \n",
       "  1785.88,1434.22 1786.39,1434.26 1786.9,1434.31 1787.41,1434.35 1787.93,1434.39 1788.44,1434.43 1788.95,1434.47 1789.46,1434.51 1789.97,1434.55 1790.48,1434.59 \n",
       "  1790.99,1434.63 1791.5,1434.67 1792.02,1434.71 1792.53,1434.75 1793.04,1434.79 1793.55,1434.83 1794.06,1434.87 1794.57,1434.91 1795.08,1434.95 1795.59,1434.99 \n",
       "  1796.1,1435.03 1796.62,1435.07 1797.13,1435.11 1797.64,1435.15 1798.15,1435.19 1798.66,1435.23 1799.17,1435.27 1799.68,1435.31 1800.19,1435.34 1800.71,1435.38 \n",
       "  1801.22,1435.42 1801.73,1435.46 1802.24,1435.5 1802.75,1435.54 1803.26,1435.57 1803.77,1435.61 1804.28,1435.65 1804.79,1435.69 1805.31,1435.72 1805.82,1435.76 \n",
       "  1806.33,1435.8 1806.84,1435.84 1807.35,1435.87 1807.86,1435.91 1808.37,1435.95 1808.88,1435.98 1809.39,1436.02 1809.91,1436.06 1810.42,1436.09 1810.93,1436.13 \n",
       "  1811.44,1436.17 1811.95,1436.2 1812.46,1436.24 1812.97,1436.28 1813.48,1436.31 1814,1436.35 1814.51,1436.38 1815.02,1436.42 1815.53,1436.45 1816.04,1436.49 \n",
       "  1816.55,1436.53 1817.06,1436.56 1817.57,1436.6 1818.08,1436.63 1818.6,1436.67 1819.11,1436.7 1819.62,1436.74 1820.13,1436.77 1820.64,1436.81 1821.15,1436.84 \n",
       "  1821.66,1436.87 1822.17,1436.91 1822.69,1436.94 1823.2,1436.98 1823.71,1437.01 1824.22,1437.04 1824.73,1437.08 1825.24,1437.11 1825.75,1437.15 1826.26,1437.18 \n",
       "  1826.77,1437.21 1827.29,1437.25 1827.8,1437.28 1828.31,1437.31 1828.82,1437.35 1829.33,1437.38 1829.84,1437.41 1830.35,1437.45 1830.86,1437.48 1831.38,1437.51 \n",
       "  1831.89,1437.54 1832.4,1437.58 1832.91,1437.61 1833.42,1437.64 1833.93,1437.67 1834.44,1437.7 1834.95,1437.74 1835.46,1437.77 1835.98,1437.8 1836.49,1437.83 \n",
       "  1837,1437.86 1837.51,1437.9 1838.02,1437.93 1838.53,1437.96 1839.04,1437.99 1839.55,1438.02 1840.07,1438.05 1840.58,1438.08 1841.09,1438.11 1841.6,1438.14 \n",
       "  1842.11,1438.18 1842.62,1438.21 1843.13,1438.24 1843.64,1438.27 1844.15,1438.3 1844.67,1438.33 1845.18,1438.36 1845.69,1438.39 1846.2,1438.42 1846.71,1438.45 \n",
       "  1847.22,1438.48 1847.73,1438.51 1848.24,1438.54 1848.76,1438.57 1849.27,1438.6 1849.78,1438.63 1850.29,1438.66 1850.8,1438.69 1851.31,1438.72 1851.82,1438.74 \n",
       "  1852.33,1438.77 1852.84,1438.8 1853.36,1438.83 1853.87,1438.86 1854.38,1438.89 1854.89,1438.92 1855.4,1438.95 1855.91,1438.97 1856.42,1439 1856.93,1439.03 \n",
       "  1857.45,1439.06 1857.96,1439.09 1858.47,1439.12 1858.98,1439.14 1859.49,1439.17 1860,1439.2 1860.51,1439.23 1861.02,1439.26 1861.53,1439.28 1862.05,1439.31 \n",
       "  1862.56,1439.34 1863.07,1439.37 1863.58,1439.39 1864.09,1439.42 1864.6,1439.45 1865.11,1439.47 1865.62,1439.5 1866.14,1439.53 1866.65,1439.56 1867.16,1439.58 \n",
       "  1867.67,1439.61 1868.18,1439.64 1868.69,1439.66 1869.2,1439.69 1869.71,1439.72 1870.22,1439.74 1870.74,1439.77 1871.25,1439.79 1871.76,1439.82 1872.27,1439.85 \n",
       "  1872.78,1439.87 1873.29,1439.9 1873.8,1439.92 1874.31,1439.95 1874.83,1439.98 1875.34,1440 1875.85,1440.03 1876.36,1440.05 1876.87,1440.08 1877.38,1440.1 \n",
       "  1877.89,1440.13 1878.4,1440.15 1878.91,1440.18 1879.43,1440.2 1879.94,1440.23 1880.45,1440.25 1880.96,1440.28 1881.47,1440.3 1881.98,1440.33 1882.49,1440.35 \n",
       "  1883,1440.38 1883.51,1440.4 1884.03,1440.43 1884.54,1440.45 1885.05,1440.47 1885.56,1440.5 1886.07,1440.52 1886.58,1440.55 1887.09,1440.57 1887.6,1440.59 \n",
       "  1888.12,1440.62 1888.63,1440.64 1889.14,1440.67 1889.65,1440.69 1890.16,1440.71 1890.67,1440.74 1891.18,1440.76 1891.69,1440.78 1892.2,1440.81 1892.72,1440.83 \n",
       "  1893.23,1440.85 1893.74,1440.88 1894.25,1440.9 1894.76,1440.92 1895.27,1440.94 1895.78,1440.97 1896.29,1440.99 1896.81,1441.01 1897.32,1441.03 1897.83,1441.06 \n",
       "  1898.34,1441.08 1898.85,1441.1 1899.36,1441.12 1899.87,1441.15 1900.38,1441.17 1900.89,1441.19 1901.41,1441.21 1901.92,1441.24 1902.43,1441.26 1902.94,1441.28 \n",
       "  1903.45,1441.3 1903.96,1441.32 1904.47,1441.34 1904.98,1441.37 1905.5,1441.39 1906.01,1441.41 1906.52,1441.43 1907.03,1441.45 1907.54,1441.47 1908.05,1441.49 \n",
       "  1908.56,1441.52 1909.07,1441.54 1909.58,1441.56 1910.1,1441.58 1910.61,1441.6 1911.12,1441.62 1911.63,1441.64 1912.14,1441.66 1912.65,1441.68 1913.16,1441.7 \n",
       "  1913.67,1441.72 1914.19,1441.74 1914.7,1441.77 1915.21,1441.79 1915.72,1441.81 1916.23,1441.83 1916.74,1441.85 1917.25,1441.87 1917.76,1441.89 1918.27,1441.91 \n",
       "  1918.79,1441.93 1919.3,1441.95 1919.81,1441.97 1920.32,1441.99 1920.83,1442.01 1921.34,1442.03 1921.85,1442.05 1922.36,1442.06 1922.88,1442.08 1923.39,1442.1 \n",
       "  1923.9,1442.12 1924.41,1442.14 1924.92,1442.16 1925.43,1442.18 1925.94,1442.2 1926.45,1442.22 1926.96,1442.24 1927.48,1442.26 1927.99,1442.28 1928.5,1442.29 \n",
       "  1929.01,1442.31 1929.52,1442.33 1930.03,1442.35 1930.54,1442.37 1931.05,1442.39 1931.57,1442.41 1932.08,1442.43 1932.59,1442.44 1933.1,1442.46 1933.61,1442.48 \n",
       "  1934.12,1442.5 1934.63,1442.52 1935.14,1442.54 1935.65,1442.55 1936.17,1442.57 1936.68,1442.59 1937.19,1442.61 1937.7,1442.63 1938.21,1442.64 1938.72,1442.66 \n",
       "  1939.23,1442.68 1939.74,1442.7 1940.26,1442.71 1940.77,1442.73 1941.28,1442.75 1941.79,1442.77 1942.3,1442.78 1942.81,1442.8 1943.32,1442.82 1943.83,1442.84 \n",
       "  1944.34,1442.85 1944.86,1442.87 1945.37,1442.89 1945.88,1442.9 1946.39,1442.92 1946.9,1442.94 1947.41,1442.95 1947.92,1442.97 1948.43,1442.99 1948.95,1443 \n",
       "  1949.46,1443.02 1949.97,1443.04 1950.48,1443.05 1950.99,1443.07 1951.5,1443.09 1952.01,1443.1 1952.52,1443.12 1953.03,1443.14 1953.55,1443.15 1954.06,1443.17 \n",
       "  1954.57,1443.19 1955.08,1443.2 1955.59,1443.22 1956.1,1443.23 1956.61,1443.25 1957.12,1443.27 1957.63,1443.28 1958.15,1443.3 1958.66,1443.31 1959.17,1443.33 \n",
       "  1959.68,1443.34 1960.19,1443.36 1960.7,1443.38 1961.21,1443.39 1961.72,1443.41 1962.24,1443.42 1962.75,1443.44 1963.26,1443.45 1963.77,1443.47 1964.28,1443.48 \n",
       "  1964.79,1443.5 1965.3,1443.51 1965.81,1443.53 1966.32,1443.54 1966.84,1443.56 1967.35,1443.57 1967.86,1443.59 1968.37,1443.6 1968.88,1443.62 1969.39,1443.63 \n",
       "  1969.9,1443.65 1970.41,1443.66 1970.93,1443.68 1971.44,1443.69 1971.95,1443.71 1972.46,1443.72 1972.97,1443.74 1973.48,1443.75 1973.99,1443.77 1974.5,1443.78 \n",
       "  1975.01,1443.79 1975.53,1443.81 1976.04,1443.82 1976.55,1443.84 1977.06,1443.85 1977.57,1443.86 1978.08,1443.88 1978.59,1443.89 1979.1,1443.91 1979.62,1443.92 \n",
       "  1980.13,1443.93 1980.64,1443.95 1981.15,1443.96 1981.66,1443.98 1982.17,1443.99 1982.68,1444 1983.19,1444.02 1983.7,1444.03 1984.22,1444.04 1984.73,1444.06 \n",
       "  1985.24,1444.07 1985.75,1444.08 1986.26,1444.1 1986.77,1444.11 1987.28,1444.12 1987.79,1444.14 1988.31,1444.15 1988.82,1444.16 1989.33,1444.18 1989.84,1444.19 \n",
       "  1990.35,1444.2 1990.86,1444.22 1991.37,1444.23 1991.88,1444.24 1992.39,1444.25 1992.91,1444.27 1993.42,1444.28 1993.93,1444.29 1994.44,1444.31 1994.95,1444.32 \n",
       "  1995.46,1444.33 1995.97,1444.34 1996.48,1444.36 1997,1444.37 1997.51,1444.38 1998.02,1444.39 1998.53,1444.41 1999.04,1444.42 1999.55,1444.43 2000.06,1444.44 \n",
       "  2000.57,1444.46 2001.08,1444.47 2001.6,1444.48 2002.11,1444.49 2002.62,1444.5 2003.13,1444.52 2003.64,1444.53 2004.15,1444.54 2004.66,1444.55 2005.17,1444.56 \n",
       "  2005.69,1444.58 2006.2,1444.59 2006.71,1444.6 2007.22,1444.61 2007.73,1444.62 2008.24,1444.63 2008.75,1444.65 2009.26,1444.66 2009.77,1444.67 2010.29,1444.68 \n",
       "  2010.8,1444.69 2011.31,1444.7 2011.82,1444.72 2012.33,1444.73 2012.84,1444.74 2013.35,1444.75 2013.86,1444.76 2014.38,1444.77 2014.89,1444.78 2015.4,1444.79 \n",
       "  2015.91,1444.81 2016.42,1444.82 2016.93,1444.83 2017.44,1444.84 2017.95,1444.85 2018.46,1444.86 2018.98,1444.87 2019.49,1444.88 2020,1444.89 2020.51,1444.9 \n",
       "  2021.02,1444.91 2021.53,1444.93 2022.04,1444.94 2022.55,1444.95 2023.07,1444.96 2023.58,1444.97 2024.09,1444.98 2024.6,1444.99 2025.11,1445 2025.62,1445.01 \n",
       "  2026.13,1445.02 2026.64,1445.03 2027.15,1445.04 2027.67,1445.05 2028.18,1445.06 2028.69,1445.07 2029.2,1445.08 2029.71,1445.09 2030.22,1445.1 2030.73,1445.11 \n",
       "  2031.24,1445.12 2031.75,1445.13 2032.27,1445.14 2032.78,1445.15 2033.29,1445.16 2033.8,1445.17 2034.31,1445.18 2034.82,1445.19 2035.33,1445.2 2035.84,1445.21 \n",
       "  2036.36,1445.22 2036.87,1445.23 2037.38,1445.24 2037.89,1445.25 2038.4,1445.26 2038.91,1445.27 2039.42,1445.28 2039.93,1445.29 2040.44,1445.3 2040.96,1445.31 \n",
       "  2041.47,1445.32 2041.98,1445.33 2042.49,1445.34 2043,1445.35 2043.51,1445.36 2044.02,1445.37 2044.53,1445.38 2045.05,1445.38 2045.56,1445.39 2046.07,1445.4 \n",
       "  2046.58,1445.41 2047.09,1445.42 2047.6,1445.43 2048.11,1445.44 2048.62,1445.45 2049.13,1445.46 2049.65,1445.47 2050.16,1445.48 2050.67,1445.48 2051.18,1445.49 \n",
       "  2051.69,1445.5 2052.2,1445.51 2052.71,1445.52 2053.22,1445.53 2053.74,1445.54 2054.25,1445.55 2054.76,1445.56 2055.27,1445.56 2055.78,1445.57 2056.29,1445.58 \n",
       "  2056.8,1445.59 2057.31,1445.6 2057.82,1445.61 2058.34,1445.62 2058.85,1445.62 2059.36,1445.63 2059.87,1445.64 2060.38,1445.65 2060.89,1445.66 2061.4,1445.67 \n",
       "  2061.91,1445.67 2062.43,1445.68 2062.94,1445.69 2063.45,1445.7 2063.96,1445.71 2064.47,1445.72 2064.98,1445.72 2065.49,1445.73 2066,1445.74 2066.51,1445.75 \n",
       "  2067.03,1445.76 2067.54,1445.76 2068.05,1445.77 2068.56,1445.78 2069.07,1445.79 2069.58,1445.8 2070.09,1445.8 2070.6,1445.81 2071.12,1445.82 2071.63,1445.83 \n",
       "  2072.14,1445.84 2072.65,1445.84 2073.16,1445.85 2073.67,1445.86 2074.18,1445.87 2074.69,1445.87 2075.2,1445.88 2075.72,1445.89 2076.23,1445.9 2076.74,1445.9 \n",
       "  2077.25,1445.91 2077.76,1445.92 2078.27,1445.93 2078.78,1445.93 2079.29,1445.94 2079.81,1445.95 2080.32,1445.96 2080.83,1445.96 2081.34,1445.97 2081.85,1445.98 \n",
       "  2082.36,1445.99 2082.87,1445.99 2083.38,1446 2083.89,1446.01 2084.41,1446.02 2084.92,1446.02 2085.43,1446.03 2085.94,1446.04 2086.45,1446.04 2086.96,1446.05 \n",
       "  2087.47,1446.06 2087.98,1446.06 2088.5,1446.07 2089.01,1446.08 2089.52,1446.09 2090.03,1446.09 2090.54,1446.1 2091.05,1446.11 2091.56,1446.11 2092.07,1446.12 \n",
       "  2092.58,1446.13 2093.1,1446.13 2093.61,1446.14 2094.12,1446.15 2094.63,1446.15 2095.14,1446.16 2095.65,1446.17 2096.16,1446.17 2096.67,1446.18 2097.19,1446.19 \n",
       "  2097.7,1446.19 2098.21,1446.2 2098.72,1446.21 2099.23,1446.21 2099.74,1446.22 2100.25,1446.23 2100.76,1446.23 2101.27,1446.24 2101.79,1446.25 2102.3,1446.25 \n",
       "  2102.81,1446.26 2103.32,1446.27 2103.83,1446.27 2104.34,1446.28 2104.85,1446.28 2105.36,1446.29 2105.87,1446.3 2106.39,1446.3 2106.9,1446.31 2107.41,1446.32 \n",
       "  2107.92,1446.32 2108.43,1446.33 2108.94,1446.33 2109.45,1446.34 2109.96,1446.35 2110.48,1446.35 2110.99,1446.36 2111.5,1446.36 2112.01,1446.37 2112.52,1446.38 \n",
       "  2113.03,1446.38 2113.54,1446.39 2114.05,1446.39 2114.56,1446.4 2115.08,1446.41 2115.59,1446.41 2116.1,1446.42 2116.61,1446.42 2117.12,1446.43 2117.63,1446.44 \n",
       "  2118.14,1446.44 2118.65,1446.45 2119.17,1446.45 2119.68,1446.46 2120.19,1446.46 2120.7,1446.47 2121.21,1446.48 2121.72,1446.48 2122.23,1446.49 2122.74,1446.49 \n",
       "  2123.25,1446.5 2123.77,1446.5 2124.28,1446.51 2124.79,1446.51 2125.3,1446.52 2125.81,1446.53 2126.32,1446.53 2126.83,1446.54 2127.34,1446.54 2127.86,1446.55 \n",
       "  2128.37,1446.55 2128.88,1446.56 2129.39,1446.56 2129.9,1446.57 2130.41,1446.57 2130.92,1446.58 2131.43,1446.58 2131.94,1446.59 2132.46,1446.6 2132.97,1446.6 \n",
       "  2133.48,1446.61 2133.99,1446.61 2134.5,1446.62 2135.01,1446.62 2135.52,1446.63 2136.03,1446.63 2136.55,1446.64 2137.06,1446.64 2137.57,1446.65 2138.08,1446.65 \n",
       "  2138.59,1446.66 2139.1,1446.66 2139.61,1446.67 2140.12,1446.67 2140.63,1446.68 2141.15,1446.68 2141.66,1446.69 2142.17,1446.69 2142.68,1446.7 2143.19,1446.7 \n",
       "  2143.7,1446.71 2144.21,1446.71 2144.72,1446.72 2145.24,1446.72 2145.75,1446.73 2146.26,1446.73 2146.77,1446.73 2147.28,1446.74 2147.79,1446.74 2148.3,1446.75 \n",
       "  2148.81,1446.75 2149.32,1446.76 2149.84,1446.76 2150.35,1446.77 2150.86,1446.77 2151.37,1446.78 2151.88,1446.78 2152.39,1446.79 2152.9,1446.79 2153.41,1446.8 \n",
       "  2153.93,1446.8 2154.44,1446.8 2154.95,1446.81 2155.46,1446.81 2155.97,1446.82 2156.48,1446.82 2156.99,1446.83 2157.5,1446.83 2158.01,1446.84 2158.53,1446.84 \n",
       "  2159.04,1446.84 2159.55,1446.85 2160.06,1446.85 2160.57,1446.86 2161.08,1446.86 2161.59,1446.87 2162.1,1446.87 2162.62,1446.87 2163.13,1446.88 2163.64,1446.88 \n",
       "  2164.15,1446.89 2164.66,1446.89 2165.17,1446.9 2165.68,1446.9 2166.19,1446.9 2166.7,1446.91 2167.22,1446.91 2167.73,1446.92 2168.24,1446.92 2168.75,1446.92 \n",
       "  2169.26,1446.93 2169.77,1446.93 2170.28,1446.94 2170.79,1446.94 2171.31,1446.95 2171.82,1446.95 2172.33,1446.95 2172.84,1446.96 2173.35,1446.96 2173.86,1446.97 \n",
       "  2174.37,1446.97 2174.88,1446.97 2175.39,1446.98 2175.91,1446.98 2176.42,1446.98 2176.93,1446.99 2177.44,1446.99 2177.95,1447 2178.46,1447 2178.97,1447 \n",
       "  2179.48,1447.01 2179.99,1447.01 2180.51,1447.02 2181.02,1447.02 2181.53,1447.02 2182.04,1447.03 2182.55,1447.03 2183.06,1447.03 2183.57,1447.04 2184.08,1447.04 \n",
       "  2184.6,1447.05 2185.11,1447.05 2185.62,1447.05 2186.13,1447.06 2186.64,1447.06 2187.15,1447.06 2187.66,1447.07 2188.17,1447.07 2188.68,1447.07 2189.2,1447.08 \n",
       "  2189.71,1447.08 2190.22,1447.08 2190.73,1447.09 2191.24,1447.09 2191.75,1447.1 2192.26,1447.1 2192.77,1447.1 2193.29,1447.11 2193.8,1447.11 2194.31,1447.11 \n",
       "  2194.82,1447.12 2195.33,1447.12 2195.84,1447.12 2196.35,1447.13 2196.86,1447.13 2197.37,1447.13 2197.89,1447.14 2198.4,1447.14 2198.91,1447.14 2199.42,1447.15 \n",
       "  2199.93,1447.15 2200.44,1447.15 2200.95,1447.16 2201.46,1447.16 2201.98,1447.16 2202.49,1447.17 2203,1447.17 2203.51,1447.17 2204.02,1447.18 2204.53,1447.18 \n",
       "  2205.04,1447.18 2205.55,1447.19 2206.06,1447.19 2206.58,1447.19 2207.09,1447.19 2207.6,1447.2 2208.11,1447.2 2208.62,1447.2 2209.13,1447.21 2209.64,1447.21 \n",
       "  2210.15,1447.21 2210.67,1447.22 2211.18,1447.22 2211.69,1447.22 2212.2,1447.23 2212.71,1447.23 2213.22,1447.23 2213.73,1447.23 2214.24,1447.24 2214.75,1447.24 \n",
       "  2215.27,1447.24 2215.78,1447.25 2216.29,1447.25 2216.8,1447.25 2217.31,1447.26 2217.82,1447.26 2218.33,1447.26 2218.84,1447.26 2219.36,1447.27 2219.87,1447.27 \n",
       "  2220.38,1447.27 2220.89,1447.28 2221.4,1447.28 2221.91,1447.28 2222.42,1447.28 2222.93,1447.29 2223.44,1447.29 2223.96,1447.29 2224.47,1447.3 2224.98,1447.3 \n",
       "  2225.49,1447.3 2226,1447.3 2226.51,1447.31 2227.02,1447.31 2227.53,1447.31 2228.05,1447.31 2228.56,1447.32 2229.07,1447.32 2229.58,1447.32 2230.09,1447.33 \n",
       "  2230.6,1447.33 2231.11,1447.33 2231.62,1447.33 2232.13,1447.34 2232.65,1447.34 2233.16,1447.34 2233.67,1447.34 2234.18,1447.35 2234.69,1447.35 2235.2,1447.35 \n",
       "  2235.71,1447.35 2236.22,1447.36 2236.74,1447.36 2237.25,1447.36 2237.76,1447.36 2238.27,1447.37 2238.78,1447.37 2239.29,1447.37 2239.8,1447.37 2240.31,1447.38 \n",
       "  2240.82,1447.38 2241.34,1447.38 2241.85,1447.38 2242.36,1447.39 2242.87,1447.39 2243.38,1447.39 2243.89,1447.39 2244.4,1447.4 2244.91,1447.4 2245.43,1447.4 \n",
       "  2245.94,1447.4 2246.45,1447.41 2246.96,1447.41 2247.47,1447.41 2247.98,1447.41 2248.49,1447.42 2249,1447.42 2249.51,1447.42 2250.03,1447.42 2250.54,1447.42 \n",
       "  2251.05,1447.43 2251.56,1447.43 2252.07,1447.43 2252.58,1447.43 2253.09,1447.44 2253.6,1447.44 2254.11,1447.44 2254.63,1447.44 2255.14,1447.45 2255.65,1447.45 \n",
       "  2256.16,1447.45 2256.67,1447.45 2257.18,1447.45 2257.69,1447.46 2258.2,1447.46 2258.72,1447.46 2259.23,1447.46 2259.74,1447.46 2260.25,1447.47 2260.76,1447.47 \n",
       "  2261.27,1447.47 2261.78,1447.47 2262.29,1447.48 2262.8,1447.48 2263.32,1447.48 2263.83,1447.48 2264.34,1447.48 2264.85,1447.49 2265.36,1447.49 2265.87,1447.49 \n",
       "  2266.38,1447.49 2266.89,1447.49 2267.41,1447.5 2267.92,1447.5 2268.43,1447.5 2268.94,1447.5 2269.45,1447.5 2269.96,1447.51 2270.47,1447.51 2270.98,1447.51 \n",
       "  2271.49,1447.51 2272.01,1447.51 2272.52,1447.52 2273.03,1447.52 2273.54,1447.52 2274.05,1447.52 2274.56,1447.52 2275.07,1447.53 2275.58,1447.53 2276.1,1447.53 \n",
       "  2276.61,1447.53 2277.12,1447.53 2277.63,1447.54 2278.14,1447.54 2278.65,1447.54 2279.16,1447.54 2279.67,1447.54 2280.18,1447.55 2280.7,1447.55 2281.21,1447.55 \n",
       "  2281.72,1447.55 2282.23,1447.55 2282.74,1447.55 2283.25,1447.56 2283.76,1447.56 2284.27,1447.56 2284.79,1447.56 2285.3,1447.56 2285.81,1447.57 2286.32,1447.57 \n",
       "  2286.83,1447.57 2287.34,1447.57 2287.85,1447.57 2288.36,1447.57 2288.87,1447.58 2289.39,1447.58 2289.9,1447.58 2290.41,1447.58 2290.92,1447.58 2291.43,1447.58 \n",
       "  \n",
       "  \"/>\n",
       "<path clip-path=\"url(#clip620)\" d=\"\n",
       "M1985.63 428.105 L2280.53 428.105 L2280.53 168.905 L1985.63 168.905  Z\n",
       "  \" fill=\"#ffffff\" fill-rule=\"evenodd\" fill-opacity=\"1\"/>\n",
       "<polyline clip-path=\"url(#clip620)\" style=\"stroke:#000000; stroke-linecap:butt; stroke-linejoin:round; stroke-width:4; stroke-opacity:1; fill:none\" points=\"\n",
       "  1985.63,428.105 2280.53,428.105 2280.53,168.905 1985.63,168.905 1985.63,428.105 \n",
       "  \"/>\n",
       "<polyline clip-path=\"url(#clip620)\" style=\"stroke:#009af9; stroke-linecap:butt; stroke-linejoin:round; stroke-width:4; stroke-opacity:1; fill:none\" points=\"\n",
       "  2009.7,220.745 2154.16,220.745 \n",
       "  \"/>\n",
       "<path clip-path=\"url(#clip620)\" d=\"M2192.08 240.432 Q2190.27 245.062 2188.56 246.474 Q2186.84 247.886 2183.97 247.886 L2180.57 247.886 L2180.57 244.321 L2183.07 244.321 Q2184.83 244.321 2185.8 243.488 Q2186.77 242.654 2187.96 239.552 L2188.72 237.608 L2178.23 212.099 L2182.75 212.099 L2190.85 232.377 L2198.95 212.099 L2203.46 212.099 L2192.08 240.432 Z\" fill=\"#000000\" fill-rule=\"evenodd\" fill-opacity=\"1\" /><path clip-path=\"url(#clip620)\" d=\"M2210.76 234.089 L2218.4 234.089 L2218.4 207.724 L2210.08 209.391 L2210.08 205.131 L2218.35 203.465 L2223.02 203.465 L2223.02 234.089 L2230.66 234.089 L2230.66 238.025 L2210.76 238.025 L2210.76 234.089 Z\" fill=\"#000000\" fill-rule=\"evenodd\" fill-opacity=\"1\" /><polyline clip-path=\"url(#clip620)\" style=\"stroke:#e26f46; stroke-linecap:butt; stroke-linejoin:round; stroke-width:4; stroke-opacity:1; fill:none\" points=\"\n",
       "  2009.7,272.585 2154.16,272.585 \n",
       "  \"/>\n",
       "<path clip-path=\"url(#clip620)\" d=\"M2192.08 292.272 Q2190.27 296.902 2188.56 298.314 Q2186.84 299.726 2183.97 299.726 L2180.57 299.726 L2180.57 296.161 L2183.07 296.161 Q2184.83 296.161 2185.8 295.328 Q2186.77 294.494 2187.96 291.392 L2188.72 289.448 L2178.23 263.939 L2182.75 263.939 L2190.85 284.217 L2198.95 263.939 L2203.46 263.939 L2192.08 292.272 Z\" fill=\"#000000\" fill-rule=\"evenodd\" fill-opacity=\"1\" /><path clip-path=\"url(#clip620)\" d=\"M2213.97 285.929 L2230.29 285.929 L2230.29 289.865 L2208.35 289.865 L2208.35 285.929 Q2211.01 283.175 2215.59 278.545 Q2220.2 273.893 2221.38 272.55 Q2223.63 270.027 2224.51 268.291 Q2225.41 266.531 2225.41 264.842 Q2225.41 262.087 2223.46 260.351 Q2221.54 258.615 2218.44 258.615 Q2216.24 258.615 2213.79 259.379 Q2211.36 260.143 2208.58 261.694 L2208.58 256.971 Q2211.4 255.837 2213.86 255.258 Q2216.31 254.68 2218.35 254.68 Q2223.72 254.68 2226.91 257.365 Q2230.11 260.05 2230.11 264.541 Q2230.11 266.67 2229.3 268.592 Q2228.51 270.49 2226.4 273.082 Q2225.83 273.754 2222.72 276.971 Q2219.62 280.166 2213.97 285.929 Z\" fill=\"#000000\" fill-rule=\"evenodd\" fill-opacity=\"1\" /><polyline clip-path=\"url(#clip620)\" style=\"stroke:#3da44d; stroke-linecap:butt; stroke-linejoin:round; stroke-width:4; stroke-opacity:1; fill:none\" points=\"\n",
       "  2009.7,324.425 2154.16,324.425 \n",
       "  \"/>\n",
       "<path clip-path=\"url(#clip620)\" d=\"M2192.08 344.112 Q2190.27 348.742 2188.56 350.154 Q2186.84 351.566 2183.97 351.566 L2180.57 351.566 L2180.57 348.001 L2183.07 348.001 Q2184.83 348.001 2185.8 347.168 Q2186.77 346.334 2187.96 343.232 L2188.72 341.288 L2178.23 315.779 L2182.75 315.779 L2190.85 336.057 L2198.95 315.779 L2203.46 315.779 L2192.08 344.112 Z\" fill=\"#000000\" fill-rule=\"evenodd\" fill-opacity=\"1\" /><path clip-path=\"url(#clip620)\" d=\"M2224.11 323.07 Q2227.47 323.788 2229.34 326.057 Q2231.24 328.325 2231.24 331.658 Q2231.24 336.774 2227.72 339.575 Q2224.21 342.376 2217.72 342.376 Q2215.55 342.376 2213.23 341.936 Q2210.94 341.519 2208.49 340.663 L2208.49 336.149 Q2210.43 337.283 2212.75 337.862 Q2215.06 338.441 2217.58 338.441 Q2221.98 338.441 2224.27 336.705 Q2226.59 334.969 2226.59 331.658 Q2226.59 328.603 2224.44 326.89 Q2222.31 325.154 2218.49 325.154 L2214.46 325.154 L2214.46 321.311 L2218.67 321.311 Q2222.12 321.311 2223.95 319.946 Q2225.78 318.557 2225.78 315.964 Q2225.78 313.302 2223.88 311.89 Q2222.01 310.455 2218.49 310.455 Q2216.57 310.455 2214.37 310.871 Q2212.17 311.288 2209.53 312.168 L2209.53 308.001 Q2212.19 307.26 2214.51 306.89 Q2216.84 306.52 2218.9 306.52 Q2224.23 306.52 2227.33 308.95 Q2230.43 311.358 2230.43 315.478 Q2230.43 318.348 2228.79 320.339 Q2227.15 322.307 2224.11 323.07 Z\" fill=\"#000000\" fill-rule=\"evenodd\" fill-opacity=\"1\" /><polyline clip-path=\"url(#clip620)\" style=\"stroke:#c271d2; stroke-linecap:butt; stroke-linejoin:round; stroke-width:4; stroke-opacity:1; fill:none\" points=\"\n",
       "  2009.7,376.265 2154.16,376.265 \n",
       "  \"/>\n",
       "<path clip-path=\"url(#clip620)\" d=\"M2192.08 395.952 Q2190.27 400.582 2188.56 401.994 Q2186.84 403.406 2183.97 403.406 L2180.57 403.406 L2180.57 399.841 L2183.07 399.841 Q2184.83 399.841 2185.8 399.008 Q2186.77 398.174 2187.96 395.072 L2188.72 393.128 L2178.23 367.619 L2182.75 367.619 L2190.85 387.897 L2198.95 367.619 L2203.46 367.619 L2192.08 395.952 Z\" fill=\"#000000\" fill-rule=\"evenodd\" fill-opacity=\"1\" /><path clip-path=\"url(#clip620)\" d=\"M2222.79 363.059 L2210.99 381.508 L2222.79 381.508 L2222.79 363.059 M2221.57 358.985 L2227.45 358.985 L2227.45 381.508 L2232.38 381.508 L2232.38 385.397 L2227.45 385.397 L2227.45 393.545 L2222.79 393.545 L2222.79 385.397 L2207.19 385.397 L2207.19 380.883 L2221.57 358.985 Z\" fill=\"#000000\" fill-rule=\"evenodd\" fill-opacity=\"1\" /></svg>\n"
      ]
     },
     "execution_count": 106,
     "metadata": {},
     "output_type": "execute_result"
    }
   ],
   "source": [
    "plot(a:0.01:b,ye,title=\"Comparando con la solución exacta para distintos h\")\n",
    "plot!(te1,we1[1,:])\n",
    "plot!(te2,we2[1,:])\n",
    "plot!(te3,we3[1,:])"
   ]
  },
  {
   "cell_type": "markdown",
   "metadata": {},
   "source": [
    "***Con Runge-Kutta 4***"
   ]
  },
  {
   "cell_type": "code",
   "execution_count": 102,
   "metadata": {},
   "outputs": [
    {
     "data": {
      "text/plain": [
       "([0.0, 0.10256410256410256, 0.20512820512820512, 0.3076923076923077, 0.41025641025641024, 0.5128205128205128, 0.6153846153846153, 0.7179487179487178, 0.8205128205128204, 0.9230769230769229  …  3.0769230769230784, 3.179487179487181, 3.2820512820512837, 3.3846153846153864, 3.487179487179489, 3.5897435897435916, 3.6923076923076943, 3.794871794871797, 3.8974358974358996, 4.000000000000002], [2.0 1.9947541103907813 … 1.0005033176688953 1.0003357450073658])"
      ]
     },
     "execution_count": 102,
     "metadata": {},
     "output_type": "execute_result"
    }
   ],
   "source": [
    "y0=[2.0]\n",
    "a=0\n",
    "b=4\n",
    "N=40          ### h=0,1\n",
    "p=0\n",
    "f(1,y0,p)\n",
    "t1,w1=iteracion_ODES_multidumencional(RK4,f,y0,(a,b),N,p)"
   ]
  },
  {
   "cell_type": "code",
   "execution_count": 101,
   "metadata": {},
   "outputs": [
    {
     "data": {
      "text/plain": [
       "([0.0, 0.010025062656641603, 0.020050125313283207, 0.03007518796992481, 0.040100250626566414, 0.05012531328320802, 0.06015037593984962, 0.07017543859649122, 0.08020050125313283, 0.09022556390977443  …  3.909774436090183, 3.9197994987468245, 3.929824561403466, 3.9398496240601073, 3.9498746867167487, 3.95989974937339, 3.9699248120300314, 3.979949874686673, 3.989974937343314, 3.9999999999999556], [2.0 1.9999497503219226 … 1.0003491705957717 1.0003354626477314])"
      ]
     },
     "execution_count": 101,
     "metadata": {},
     "output_type": "execute_result"
    }
   ],
   "source": [
    "N=400          ### h=0,01\n",
    "t2,w2=iteracion_ODES_multidumencional(RK4,f,y0,(a,b),N,p)"
   ]
  },
  {
   "cell_type": "code",
   "execution_count": 100,
   "metadata": {},
   "outputs": [
    {
     "data": {
      "text/plain": [
       "([0.0, 0.001000250062515629, 0.002000500125031258, 0.003000750187546887, 0.004001000250062516, 0.005001250312578145, 0.0060015003750937745, 0.007001750437609404, 0.008002000500125032, 0.009002250562640661  …  3.990997749437097, 3.9919979994996124, 3.992998249562128, 3.9939984996246434, 3.994998749687159, 3.9959989997496743, 3.99699924981219, 3.9979994998747053, 3.9989997499372207, 3.999999999999736], [2.0 1.9999994997500314 … 1.0003368073341024 1.0003354626279042])"
      ]
     },
     "execution_count": 100,
     "metadata": {},
     "output_type": "execute_result"
    }
   ],
   "source": [
    "N=4000          ### h=0,001\n",
    "t3,w3=iteracion_ODES_multidumencional(RK4,f,y0,(a,b),N,p)"
   ]
  },
  {
   "cell_type": "code",
   "execution_count": 99,
   "metadata": {},
   "outputs": [
    {
     "data": {
      "image/svg+xml": [
       "<?xml version=\"1.0\" encoding=\"utf-8\"?>\n",
       "<svg xmlns=\"http://www.w3.org/2000/svg\" xmlns:xlink=\"http://www.w3.org/1999/xlink\" width=\"600\" height=\"400\" viewBox=\"0 0 2400 1600\">\n",
       "<defs>\n",
       "  <clipPath id=\"clip580\">\n",
       "    <rect x=\"0\" y=\"0\" width=\"2400\" height=\"1600\"/>\n",
       "  </clipPath>\n",
       "</defs>\n",
       "<path clip-path=\"url(#clip580)\" d=\"\n",
       "M0 1600 L2400 1600 L2400 0 L0 0  Z\n",
       "  \" fill=\"#ffffff\" fill-rule=\"evenodd\" fill-opacity=\"1\"/>\n",
       "<defs>\n",
       "  <clipPath id=\"clip581\">\n",
       "    <rect x=\"480\" y=\"0\" width=\"1681\" height=\"1600\"/>\n",
       "  </clipPath>\n",
       "</defs>\n",
       "<path clip-path=\"url(#clip580)\" d=\"\n",
       "M185.927 1486.45 L2352.76 1486.45 L2352.76 123.472 L185.927 123.472  Z\n",
       "  \" fill=\"#ffffff\" fill-rule=\"evenodd\" fill-opacity=\"1\"/>\n",
       "<defs>\n",
       "  <clipPath id=\"clip582\">\n",
       "    <rect x=\"185\" y=\"123\" width=\"2168\" height=\"1364\"/>\n",
       "  </clipPath>\n",
       "</defs>\n",
       "<polyline clip-path=\"url(#clip582)\" style=\"stroke:#000000; stroke-linecap:butt; stroke-linejoin:round; stroke-width:2; stroke-opacity:0.1; fill:none\" points=\"\n",
       "  247.252,1486.45 247.252,123.472 \n",
       "  \"/>\n",
       "<polyline clip-path=\"url(#clip582)\" style=\"stroke:#000000; stroke-linecap:butt; stroke-linejoin:round; stroke-width:2; stroke-opacity:0.1; fill:none\" points=\"\n",
       "  758.297,1486.45 758.297,123.472 \n",
       "  \"/>\n",
       "<polyline clip-path=\"url(#clip582)\" style=\"stroke:#000000; stroke-linecap:butt; stroke-linejoin:round; stroke-width:2; stroke-opacity:0.1; fill:none\" points=\"\n",
       "  1269.34,1486.45 1269.34,123.472 \n",
       "  \"/>\n",
       "<polyline clip-path=\"url(#clip582)\" style=\"stroke:#000000; stroke-linecap:butt; stroke-linejoin:round; stroke-width:2; stroke-opacity:0.1; fill:none\" points=\"\n",
       "  1780.39,1486.45 1780.39,123.472 \n",
       "  \"/>\n",
       "<polyline clip-path=\"url(#clip582)\" style=\"stroke:#000000; stroke-linecap:butt; stroke-linejoin:round; stroke-width:2; stroke-opacity:0.1; fill:none\" points=\"\n",
       "  2291.43,1486.45 2291.43,123.472 \n",
       "  \"/>\n",
       "<polyline clip-path=\"url(#clip580)\" style=\"stroke:#000000; stroke-linecap:butt; stroke-linejoin:round; stroke-width:4; stroke-opacity:1; fill:none\" points=\"\n",
       "  185.927,1486.45 2352.76,1486.45 \n",
       "  \"/>\n",
       "<polyline clip-path=\"url(#clip580)\" style=\"stroke:#000000; stroke-linecap:butt; stroke-linejoin:round; stroke-width:4; stroke-opacity:1; fill:none\" points=\"\n",
       "  247.252,1486.45 247.252,1467.55 \n",
       "  \"/>\n",
       "<polyline clip-path=\"url(#clip580)\" style=\"stroke:#000000; stroke-linecap:butt; stroke-linejoin:round; stroke-width:4; stroke-opacity:1; fill:none\" points=\"\n",
       "  758.297,1486.45 758.297,1467.55 \n",
       "  \"/>\n",
       "<polyline clip-path=\"url(#clip580)\" style=\"stroke:#000000; stroke-linecap:butt; stroke-linejoin:round; stroke-width:4; stroke-opacity:1; fill:none\" points=\"\n",
       "  1269.34,1486.45 1269.34,1467.55 \n",
       "  \"/>\n",
       "<polyline clip-path=\"url(#clip580)\" style=\"stroke:#000000; stroke-linecap:butt; stroke-linejoin:round; stroke-width:4; stroke-opacity:1; fill:none\" points=\"\n",
       "  1780.39,1486.45 1780.39,1467.55 \n",
       "  \"/>\n",
       "<polyline clip-path=\"url(#clip580)\" style=\"stroke:#000000; stroke-linecap:butt; stroke-linejoin:round; stroke-width:4; stroke-opacity:1; fill:none\" points=\"\n",
       "  2291.43,1486.45 2291.43,1467.55 \n",
       "  \"/>\n",
       "<path clip-path=\"url(#clip580)\" d=\"M247.252 1517.37 Q243.641 1517.37 241.812 1520.93 Q240.007 1524.47 240.007 1531.6 Q240.007 1538.71 241.812 1542.27 Q243.641 1545.82 247.252 1545.82 Q250.886 1545.82 252.692 1542.27 Q254.521 1538.71 254.521 1531.6 Q254.521 1524.47 252.692 1520.93 Q250.886 1517.37 247.252 1517.37 M247.252 1513.66 Q253.062 1513.66 256.118 1518.27 Q259.197 1522.85 259.197 1531.6 Q259.197 1540.33 256.118 1544.94 Q253.062 1549.52 247.252 1549.52 Q241.442 1549.52 238.363 1544.94 Q235.308 1540.33 235.308 1531.6 Q235.308 1522.85 238.363 1518.27 Q241.442 1513.66 247.252 1513.66 Z\" fill=\"#000000\" fill-rule=\"evenodd\" fill-opacity=\"1\" /><path clip-path=\"url(#clip580)\" d=\"M748.679 1544.91 L756.318 1544.91 L756.318 1518.55 L748.007 1520.21 L748.007 1515.95 L756.271 1514.29 L760.947 1514.29 L760.947 1544.91 L768.586 1544.91 L768.586 1548.85 L748.679 1548.85 L748.679 1544.91 Z\" fill=\"#000000\" fill-rule=\"evenodd\" fill-opacity=\"1\" /><path clip-path=\"url(#clip580)\" d=\"M1263.99 1544.91 L1280.31 1544.91 L1280.31 1548.85 L1258.37 1548.85 L1258.37 1544.91 Q1261.03 1542.16 1265.61 1537.53 Q1270.22 1532.88 1271.4 1531.53 Q1273.65 1529.01 1274.53 1527.27 Q1275.43 1525.51 1275.43 1523.82 Q1275.43 1521.07 1273.48 1519.33 Q1271.56 1517.6 1268.46 1517.6 Q1266.26 1517.6 1263.81 1518.36 Q1261.38 1519.13 1258.6 1520.68 L1258.6 1515.95 Q1261.42 1514.82 1263.88 1514.24 Q1266.33 1513.66 1268.37 1513.66 Q1273.74 1513.66 1276.93 1516.35 Q1280.13 1519.03 1280.13 1523.52 Q1280.13 1525.65 1279.32 1527.57 Q1278.53 1529.47 1276.42 1532.07 Q1275.85 1532.74 1272.74 1535.95 Q1269.64 1539.15 1263.99 1544.91 Z\" fill=\"#000000\" fill-rule=\"evenodd\" fill-opacity=\"1\" /><path clip-path=\"url(#clip580)\" d=\"M1784.63 1530.21 Q1787.99 1530.93 1789.87 1533.2 Q1791.76 1535.47 1791.76 1538.8 Q1791.76 1543.92 1788.24 1546.72 Q1784.73 1549.52 1778.24 1549.52 Q1776.07 1549.52 1773.75 1549.08 Q1771.46 1548.66 1769.01 1547.81 L1769.01 1543.29 Q1770.95 1544.43 1773.27 1545.01 Q1775.58 1545.58 1778.11 1545.58 Q1782.5 1545.58 1784.8 1543.85 Q1787.11 1542.11 1787.11 1538.8 Q1787.11 1535.75 1784.96 1534.03 Q1782.83 1532.3 1779.01 1532.3 L1774.98 1532.3 L1774.98 1528.45 L1779.19 1528.45 Q1782.64 1528.45 1784.47 1527.09 Q1786.3 1525.7 1786.3 1523.11 Q1786.3 1520.45 1784.4 1519.03 Q1782.53 1517.6 1779.01 1517.6 Q1777.09 1517.6 1774.89 1518.01 Q1772.69 1518.43 1770.05 1519.31 L1770.05 1515.14 Q1772.71 1514.4 1775.03 1514.03 Q1777.37 1513.66 1779.43 1513.66 Q1784.75 1513.66 1787.85 1516.09 Q1790.95 1518.5 1790.95 1522.62 Q1790.95 1525.49 1789.31 1527.48 Q1787.67 1529.45 1784.63 1530.21 Z\" fill=\"#000000\" fill-rule=\"evenodd\" fill-opacity=\"1\" /><path clip-path=\"url(#clip580)\" d=\"M2294.44 1518.36 L2282.63 1536.81 L2294.44 1536.81 L2294.44 1518.36 M2293.21 1514.29 L2299.09 1514.29 L2299.09 1536.81 L2304.02 1536.81 L2304.02 1540.7 L2299.09 1540.7 L2299.09 1548.85 L2294.44 1548.85 L2294.44 1540.7 L2278.84 1540.7 L2278.84 1536.19 L2293.21 1514.29 Z\" fill=\"#000000\" fill-rule=\"evenodd\" fill-opacity=\"1\" /><polyline clip-path=\"url(#clip582)\" style=\"stroke:#000000; stroke-linecap:butt; stroke-linejoin:round; stroke-width:2; stroke-opacity:0.1; fill:none\" points=\"\n",
       "  185.927,1448.3 2352.76,1448.3 \n",
       "  \"/>\n",
       "<polyline clip-path=\"url(#clip582)\" style=\"stroke:#000000; stroke-linecap:butt; stroke-linejoin:round; stroke-width:2; stroke-opacity:0.1; fill:none\" points=\"\n",
       "  185.927,1126.74 2352.76,1126.74 \n",
       "  \"/>\n",
       "<polyline clip-path=\"url(#clip582)\" style=\"stroke:#000000; stroke-linecap:butt; stroke-linejoin:round; stroke-width:2; stroke-opacity:0.1; fill:none\" points=\"\n",
       "  185.927,805.176 2352.76,805.176 \n",
       "  \"/>\n",
       "<polyline clip-path=\"url(#clip582)\" style=\"stroke:#000000; stroke-linecap:butt; stroke-linejoin:round; stroke-width:2; stroke-opacity:0.1; fill:none\" points=\"\n",
       "  185.927,483.611 2352.76,483.611 \n",
       "  \"/>\n",
       "<polyline clip-path=\"url(#clip582)\" style=\"stroke:#000000; stroke-linecap:butt; stroke-linejoin:round; stroke-width:2; stroke-opacity:0.1; fill:none\" points=\"\n",
       "  185.927,162.047 2352.76,162.047 \n",
       "  \"/>\n",
       "<polyline clip-path=\"url(#clip580)\" style=\"stroke:#000000; stroke-linecap:butt; stroke-linejoin:round; stroke-width:4; stroke-opacity:1; fill:none\" points=\"\n",
       "  185.927,1486.45 185.927,123.472 \n",
       "  \"/>\n",
       "<polyline clip-path=\"url(#clip580)\" style=\"stroke:#000000; stroke-linecap:butt; stroke-linejoin:round; stroke-width:4; stroke-opacity:1; fill:none\" points=\"\n",
       "  185.927,1448.3 204.824,1448.3 \n",
       "  \"/>\n",
       "<polyline clip-path=\"url(#clip580)\" style=\"stroke:#000000; stroke-linecap:butt; stroke-linejoin:round; stroke-width:4; stroke-opacity:1; fill:none\" points=\"\n",
       "  185.927,1126.74 204.824,1126.74 \n",
       "  \"/>\n",
       "<polyline clip-path=\"url(#clip580)\" style=\"stroke:#000000; stroke-linecap:butt; stroke-linejoin:round; stroke-width:4; stroke-opacity:1; fill:none\" points=\"\n",
       "  185.927,805.176 204.824,805.176 \n",
       "  \"/>\n",
       "<polyline clip-path=\"url(#clip580)\" style=\"stroke:#000000; stroke-linecap:butt; stroke-linejoin:round; stroke-width:4; stroke-opacity:1; fill:none\" points=\"\n",
       "  185.927,483.611 204.824,483.611 \n",
       "  \"/>\n",
       "<polyline clip-path=\"url(#clip580)\" style=\"stroke:#000000; stroke-linecap:butt; stroke-linejoin:round; stroke-width:4; stroke-opacity:1; fill:none\" points=\"\n",
       "  185.927,162.047 204.824,162.047 \n",
       "  \"/>\n",
       "<path clip-path=\"url(#clip580)\" d=\"M53.3995 1461.65 L61.0384 1461.65 L61.0384 1435.28 L52.7282 1436.95 L52.7282 1432.69 L60.9921 1431.02 L65.668 1431.02 L65.668 1461.65 L73.3068 1461.65 L73.3068 1465.58 L53.3995 1465.58 L53.3995 1461.65 Z\" fill=\"#000000\" fill-rule=\"evenodd\" fill-opacity=\"1\" /><path clip-path=\"url(#clip580)\" d=\"M82.7512 1459.7 L87.6354 1459.7 L87.6354 1465.58 L82.7512 1465.58 L82.7512 1459.7 Z\" fill=\"#000000\" fill-rule=\"evenodd\" fill-opacity=\"1\" /><path clip-path=\"url(#clip580)\" d=\"M107.821 1434.1 Q104.209 1434.1 102.381 1437.67 Q100.575 1441.21 100.575 1448.34 Q100.575 1455.45 102.381 1459.01 Q104.209 1462.55 107.821 1462.55 Q111.455 1462.55 113.26 1459.01 Q115.089 1455.45 115.089 1448.34 Q115.089 1441.21 113.26 1437.67 Q111.455 1434.1 107.821 1434.1 M107.821 1430.4 Q113.631 1430.4 116.686 1435.01 Q119.765 1439.59 119.765 1448.34 Q119.765 1457.07 116.686 1461.67 Q113.631 1466.26 107.821 1466.26 Q102.01 1466.26 98.9317 1461.67 Q95.8761 1457.07 95.8761 1448.34 Q95.8761 1439.59 98.9317 1435.01 Q102.01 1430.4 107.821 1430.4 Z\" fill=\"#000000\" fill-rule=\"evenodd\" fill-opacity=\"1\" /><path clip-path=\"url(#clip580)\" d=\"M137.982 1434.1 Q134.371 1434.1 132.543 1437.67 Q130.737 1441.21 130.737 1448.34 Q130.737 1455.45 132.543 1459.01 Q134.371 1462.55 137.982 1462.55 Q141.617 1462.55 143.422 1459.01 Q145.251 1455.45 145.251 1448.34 Q145.251 1441.21 143.422 1437.67 Q141.617 1434.1 137.982 1434.1 M137.982 1430.4 Q143.793 1430.4 146.848 1435.01 Q149.927 1439.59 149.927 1448.34 Q149.927 1457.07 146.848 1461.67 Q143.793 1466.26 137.982 1466.26 Q132.172 1466.26 129.094 1461.67 Q126.038 1457.07 126.038 1448.34 Q126.038 1439.59 129.094 1435.01 Q132.172 1430.4 137.982 1430.4 Z\" fill=\"#000000\" fill-rule=\"evenodd\" fill-opacity=\"1\" /><path clip-path=\"url(#clip580)\" d=\"M54.3949 1140.08 L62.0337 1140.08 L62.0337 1113.72 L53.7236 1115.39 L53.7236 1111.13 L61.9874 1109.46 L66.6633 1109.46 L66.6633 1140.08 L74.3022 1140.08 L74.3022 1144.02 L54.3949 1144.02 L54.3949 1140.08 Z\" fill=\"#000000\" fill-rule=\"evenodd\" fill-opacity=\"1\" /><path clip-path=\"url(#clip580)\" d=\"M83.7466 1138.14 L88.6308 1138.14 L88.6308 1144.02 L83.7466 1144.02 L83.7466 1138.14 Z\" fill=\"#000000\" fill-rule=\"evenodd\" fill-opacity=\"1\" /><path clip-path=\"url(#clip580)\" d=\"M102.844 1140.08 L119.163 1140.08 L119.163 1144.02 L97.2187 1144.02 L97.2187 1140.08 Q99.8808 1137.33 104.464 1132.7 Q109.071 1128.05 110.251 1126.71 Q112.496 1124.18 113.376 1122.45 Q114.279 1120.69 114.279 1119 Q114.279 1116.24 112.334 1114.51 Q110.413 1112.77 107.311 1112.77 Q105.112 1112.77 102.659 1113.53 Q100.228 1114.3 97.4502 1115.85 L97.4502 1111.13 Q100.274 1109.99 102.728 1109.41 Q105.182 1108.84 107.219 1108.84 Q112.589 1108.84 115.783 1111.52 Q118.978 1114.21 118.978 1118.7 Q118.978 1120.83 118.168 1122.75 Q117.381 1124.65 115.274 1127.24 Q114.695 1127.91 111.594 1131.13 Q108.492 1134.32 102.844 1140.08 Z\" fill=\"#000000\" fill-rule=\"evenodd\" fill-opacity=\"1\" /><path clip-path=\"url(#clip580)\" d=\"M129.024 1109.46 L147.38 1109.46 L147.38 1113.4 L133.306 1113.4 L133.306 1121.87 Q134.325 1121.52 135.344 1121.36 Q136.362 1121.17 137.381 1121.17 Q143.168 1121.17 146.547 1124.34 Q149.927 1127.52 149.927 1132.93 Q149.927 1138.51 146.455 1141.61 Q142.982 1144.69 136.663 1144.69 Q134.487 1144.69 132.219 1144.32 Q129.973 1143.95 127.566 1143.21 L127.566 1138.51 Q129.649 1139.65 131.871 1140.2 Q134.094 1140.76 136.57 1140.76 Q140.575 1140.76 142.913 1138.65 Q145.251 1136.54 145.251 1132.93 Q145.251 1129.32 142.913 1127.21 Q140.575 1125.11 136.57 1125.11 Q134.695 1125.11 132.82 1125.52 Q130.969 1125.94 129.024 1126.82 L129.024 1109.46 Z\" fill=\"#000000\" fill-rule=\"evenodd\" fill-opacity=\"1\" /><path clip-path=\"url(#clip580)\" d=\"M53.3995 818.521 L61.0384 818.521 L61.0384 792.155 L52.7282 793.822 L52.7282 789.562 L60.9921 787.896 L65.668 787.896 L65.668 818.521 L73.3068 818.521 L73.3068 822.456 L53.3995 822.456 L53.3995 818.521 Z\" fill=\"#000000\" fill-rule=\"evenodd\" fill-opacity=\"1\" /><path clip-path=\"url(#clip580)\" d=\"M82.7512 816.576 L87.6354 816.576 L87.6354 822.456 L82.7512 822.456 L82.7512 816.576 Z\" fill=\"#000000\" fill-rule=\"evenodd\" fill-opacity=\"1\" /><path clip-path=\"url(#clip580)\" d=\"M97.8669 787.896 L116.223 787.896 L116.223 791.831 L102.149 791.831 L102.149 800.303 Q103.168 799.956 104.186 799.794 Q105.205 799.609 106.223 799.609 Q112.01 799.609 115.39 802.78 Q118.77 805.951 118.77 811.368 Q118.77 816.947 115.297 820.048 Q111.825 823.127 105.506 823.127 Q103.33 823.127 101.061 822.757 Q98.8159 822.386 96.4085 821.646 L96.4085 816.947 Q98.4919 818.081 100.714 818.636 Q102.936 819.192 105.413 819.192 Q109.418 819.192 111.756 817.085 Q114.094 814.979 114.094 811.368 Q114.094 807.757 111.756 805.65 Q109.418 803.544 105.413 803.544 Q103.538 803.544 101.663 803.96 Q99.8113 804.377 97.8669 805.257 L97.8669 787.896 Z\" fill=\"#000000\" fill-rule=\"evenodd\" fill-opacity=\"1\" /><path clip-path=\"url(#clip580)\" d=\"M137.982 790.974 Q134.371 790.974 132.543 794.539 Q130.737 798.081 130.737 805.21 Q130.737 812.317 132.543 815.882 Q134.371 819.423 137.982 819.423 Q141.617 819.423 143.422 815.882 Q145.251 812.317 145.251 805.21 Q145.251 798.081 143.422 794.539 Q141.617 790.974 137.982 790.974 M137.982 787.271 Q143.793 787.271 146.848 791.877 Q149.927 796.461 149.927 805.21 Q149.927 813.937 146.848 818.544 Q143.793 823.127 137.982 823.127 Q132.172 823.127 129.094 818.544 Q126.038 813.937 126.038 805.21 Q126.038 796.461 129.094 791.877 Q132.172 787.271 137.982 787.271 Z\" fill=\"#000000\" fill-rule=\"evenodd\" fill-opacity=\"1\" /><path clip-path=\"url(#clip580)\" d=\"M54.3949 496.956 L62.0337 496.956 L62.0337 470.591 L53.7236 472.257 L53.7236 467.998 L61.9874 466.331 L66.6633 466.331 L66.6633 496.956 L74.3022 496.956 L74.3022 500.891 L54.3949 500.891 L54.3949 496.956 Z\" fill=\"#000000\" fill-rule=\"evenodd\" fill-opacity=\"1\" /><path clip-path=\"url(#clip580)\" d=\"M83.7466 495.012 L88.6308 495.012 L88.6308 500.891 L83.7466 500.891 L83.7466 495.012 Z\" fill=\"#000000\" fill-rule=\"evenodd\" fill-opacity=\"1\" /><path clip-path=\"url(#clip580)\" d=\"M97.6354 466.331 L119.857 466.331 L119.857 468.322 L107.311 500.891 L102.427 500.891 L114.233 470.266 L97.6354 470.266 L97.6354 466.331 Z\" fill=\"#000000\" fill-rule=\"evenodd\" fill-opacity=\"1\" /><path clip-path=\"url(#clip580)\" d=\"M129.024 466.331 L147.38 466.331 L147.38 470.266 L133.306 470.266 L133.306 478.739 Q134.325 478.391 135.344 478.229 Q136.362 478.044 137.381 478.044 Q143.168 478.044 146.547 481.216 Q149.927 484.387 149.927 489.803 Q149.927 495.382 146.455 498.484 Q142.982 501.563 136.663 501.563 Q134.487 501.563 132.219 501.192 Q129.973 500.822 127.566 500.081 L127.566 495.382 Q129.649 496.516 131.871 497.072 Q134.094 497.627 136.57 497.627 Q140.575 497.627 142.913 495.521 Q145.251 493.415 145.251 489.803 Q145.251 486.192 142.913 484.086 Q140.575 481.979 136.57 481.979 Q134.695 481.979 132.82 482.396 Q130.969 482.813 129.024 483.692 L129.024 466.331 Z\" fill=\"#000000\" fill-rule=\"evenodd\" fill-opacity=\"1\" /><path clip-path=\"url(#clip580)\" d=\"M56.6171 175.392 L72.9365 175.392 L72.9365 179.327 L50.9921 179.327 L50.9921 175.392 Q53.6541 172.637 58.2375 168.008 Q62.8439 163.355 64.0245 162.012 Q66.2698 159.489 67.1494 157.753 Q68.0522 155.994 68.0522 154.304 Q68.0522 151.549 66.1078 149.813 Q64.1865 148.077 61.0847 148.077 Q58.8856 148.077 56.4319 148.841 Q54.0014 149.605 51.2236 151.156 L51.2236 146.434 Q54.0477 145.299 56.5014 144.721 Q58.955 144.142 60.9921 144.142 Q66.3624 144.142 69.5568 146.827 Q72.7513 149.512 72.7513 154.003 Q72.7513 156.133 71.9411 158.054 Q71.1541 159.952 69.0476 162.545 Q68.4689 163.216 65.367 166.433 Q62.2652 169.628 56.6171 175.392 Z\" fill=\"#000000\" fill-rule=\"evenodd\" fill-opacity=\"1\" /><path clip-path=\"url(#clip580)\" d=\"M82.7512 173.447 L87.6354 173.447 L87.6354 179.327 L82.7512 179.327 L82.7512 173.447 Z\" fill=\"#000000\" fill-rule=\"evenodd\" fill-opacity=\"1\" /><path clip-path=\"url(#clip580)\" d=\"M107.821 147.846 Q104.209 147.846 102.381 151.41 Q100.575 154.952 100.575 162.082 Q100.575 169.188 102.381 172.753 Q104.209 176.295 107.821 176.295 Q111.455 176.295 113.26 172.753 Q115.089 169.188 115.089 162.082 Q115.089 154.952 113.26 151.41 Q111.455 147.846 107.821 147.846 M107.821 144.142 Q113.631 144.142 116.686 148.748 Q119.765 153.332 119.765 162.082 Q119.765 170.808 116.686 175.415 Q113.631 179.998 107.821 179.998 Q102.01 179.998 98.9317 175.415 Q95.8761 170.808 95.8761 162.082 Q95.8761 153.332 98.9317 148.748 Q102.01 144.142 107.821 144.142 Z\" fill=\"#000000\" fill-rule=\"evenodd\" fill-opacity=\"1\" /><path clip-path=\"url(#clip580)\" d=\"M137.982 147.846 Q134.371 147.846 132.543 151.41 Q130.737 154.952 130.737 162.082 Q130.737 169.188 132.543 172.753 Q134.371 176.295 137.982 176.295 Q141.617 176.295 143.422 172.753 Q145.251 169.188 145.251 162.082 Q145.251 154.952 143.422 151.41 Q141.617 147.846 137.982 147.846 M137.982 144.142 Q143.793 144.142 146.848 148.748 Q149.927 153.332 149.927 162.082 Q149.927 170.808 146.848 175.415 Q143.793 179.998 137.982 179.998 Q132.172 179.998 129.094 175.415 Q126.038 170.808 126.038 162.082 Q126.038 153.332 129.094 148.748 Q132.172 144.142 137.982 144.142 Z\" fill=\"#000000\" fill-rule=\"evenodd\" fill-opacity=\"1\" /><path clip-path=\"url(#clip580)\" d=\"M245.901 16.7545 L245.901 25.383 Q241.769 21.5346 237.07 19.6307 Q232.411 17.7268 227.145 17.7268 Q216.775 17.7268 211.265 24.0867 Q205.756 30.4061 205.756 42.3968 Q205.756 54.3469 211.265 60.7069 Q216.775 67.0263 227.145 67.0263 Q232.411 67.0263 237.07 65.1223 Q241.769 63.2184 245.901 59.3701 L245.901 67.9175 Q241.607 70.8341 236.786 72.2924 Q232.006 73.7508 226.659 73.7508 Q212.926 73.7508 205.027 65.3654 Q197.128 56.9395 197.128 42.3968 Q197.128 27.8135 205.027 19.4281 Q212.926 11.0023 226.659 11.0023 Q232.087 11.0023 236.867 12.4606 Q241.688 13.8784 245.901 16.7545 Z\" fill=\"#000000\" fill-rule=\"evenodd\" fill-opacity=\"1\" /><path clip-path=\"url(#clip580)\" d=\"M275.796 32.4315 Q269.801 32.4315 266.317 37.1306 Q262.833 41.7891 262.833 49.9314 Q262.833 58.0738 266.277 62.7728 Q269.76 67.4314 275.796 67.4314 Q281.751 67.4314 285.235 62.7323 Q288.719 58.0333 288.719 49.9314 Q288.719 41.8701 285.235 37.1711 Q281.751 32.4315 275.796 32.4315 M275.796 26.1121 Q285.518 26.1121 291.068 32.4315 Q296.618 38.7509 296.618 49.9314 Q296.618 61.0714 291.068 67.4314 Q285.518 73.7508 275.796 73.7508 Q266.034 73.7508 260.484 67.4314 Q254.975 61.0714 254.975 49.9314 Q254.975 38.7509 260.484 32.4315 Q266.034 26.1121 275.796 26.1121 Z\" fill=\"#000000\" fill-rule=\"evenodd\" fill-opacity=\"1\" /><path clip-path=\"url(#clip580)\" d=\"M344.297 35.9153 Q347.092 30.8922 350.981 28.5022 Q354.87 26.1121 360.136 26.1121 Q367.225 26.1121 371.074 31.0947 Q374.922 36.0368 374.922 45.1919 L374.922 72.576 L367.428 72.576 L367.428 45.4349 Q367.428 38.913 365.119 35.7533 Q362.81 32.5936 358.07 32.5936 Q352.277 32.5936 348.915 36.4419 Q345.553 40.2903 345.553 46.9338 L345.553 72.576 L338.059 72.576 L338.059 45.4349 Q338.059 38.8725 335.75 35.7533 Q333.441 32.5936 328.62 32.5936 Q322.908 32.5936 319.546 36.4824 Q316.184 40.3308 316.184 46.9338 L316.184 72.576 L308.69 72.576 L308.69 27.2059 L316.184 27.2059 L316.184 34.2544 Q318.736 30.082 322.301 28.0971 Q325.865 26.1121 330.767 26.1121 Q335.709 26.1121 339.152 28.6237 Q342.636 31.1352 344.297 35.9153 Z\" fill=\"#000000\" fill-rule=\"evenodd\" fill-opacity=\"1\" /><path clip-path=\"url(#clip580)\" d=\"M396.999 65.7705 L396.999 89.8329 L389.505 89.8329 L389.505 27.2059 L396.999 27.2059 L396.999 34.0924 Q399.349 30.0415 402.914 28.0971 Q406.519 26.1121 411.502 26.1121 Q419.765 26.1121 424.91 32.6746 Q430.095 39.2371 430.095 49.9314 Q430.095 60.6258 424.91 67.1883 Q419.765 73.7508 411.502 73.7508 Q406.519 73.7508 402.914 71.8063 Q399.349 69.8214 396.999 65.7705 M422.358 49.9314 Q422.358 41.7081 418.955 37.0496 Q415.593 32.3505 409.679 32.3505 Q403.764 32.3505 400.362 37.0496 Q396.999 41.7081 396.999 49.9314 Q396.999 58.1548 400.362 62.8538 Q403.764 67.5124 409.679 67.5124 Q415.593 67.5124 418.955 62.8538 Q422.358 58.1548 422.358 49.9314 Z\" fill=\"#000000\" fill-rule=\"evenodd\" fill-opacity=\"1\" /><path clip-path=\"url(#clip580)\" d=\"M463.07 49.7694 Q454.036 49.7694 450.552 51.8354 Q447.069 53.9013 447.069 58.8839 Q447.069 62.8538 449.661 65.2034 Q452.294 67.5124 456.791 67.5124 Q462.989 67.5124 466.715 63.1374 Q470.483 58.7219 470.483 51.4303 L470.483 49.7694 L463.07 49.7694 M477.936 46.6907 L477.936 72.576 L470.483 72.576 L470.483 65.6895 Q467.931 69.8214 464.123 71.8063 Q460.315 73.7508 454.806 73.7508 Q447.838 73.7508 443.706 69.8619 Q439.615 65.9325 439.615 59.3701 Q439.615 51.7138 444.719 47.825 Q449.864 43.9361 460.031 43.9361 L470.483 43.9361 L470.483 43.2069 Q470.483 38.0623 467.08 35.2672 Q463.718 32.4315 457.601 32.4315 Q453.712 32.4315 450.026 33.3632 Q446.339 34.295 442.937 36.1584 L442.937 29.2718 Q447.028 27.692 450.876 26.9223 Q454.725 26.1121 458.371 26.1121 Q468.214 26.1121 473.075 31.2163 Q477.936 36.3204 477.936 46.6907 Z\" fill=\"#000000\" fill-rule=\"evenodd\" fill-opacity=\"1\" /><path clip-path=\"url(#clip580)\" d=\"M519.58 34.1734 Q518.324 33.4443 516.825 33.1202 Q515.367 32.7556 513.584 32.7556 Q507.265 32.7556 503.862 36.8875 Q500.5 40.9789 500.5 48.6757 L500.5 72.576 L493.006 72.576 L493.006 27.2059 L500.5 27.2059 L500.5 34.2544 Q502.85 30.1225 506.617 28.1376 Q510.384 26.1121 515.772 26.1121 Q516.542 26.1121 517.473 26.2337 Q518.405 26.3147 519.539 26.5172 L519.58 34.1734 Z\" fill=\"#000000\" fill-rule=\"evenodd\" fill-opacity=\"1\" /><path clip-path=\"url(#clip580)\" d=\"M548.017 49.7694 Q538.984 49.7694 535.5 51.8354 Q532.016 53.9013 532.016 58.8839 Q532.016 62.8538 534.609 65.2034 Q537.242 67.5124 541.738 67.5124 Q547.936 67.5124 551.663 63.1374 Q555.43 58.7219 555.43 51.4303 L555.43 49.7694 L548.017 49.7694 M562.884 46.6907 L562.884 72.576 L555.43 72.576 L555.43 65.6895 Q552.878 69.8214 549.07 71.8063 Q545.262 73.7508 539.753 73.7508 Q532.786 73.7508 528.654 69.8619 Q524.562 65.9325 524.562 59.3701 Q524.562 51.7138 529.666 47.825 Q534.811 43.9361 544.979 43.9361 L555.43 43.9361 L555.43 43.2069 Q555.43 38.0623 552.027 35.2672 Q548.665 32.4315 542.548 32.4315 Q538.659 32.4315 534.973 33.3632 Q531.287 34.295 527.884 36.1584 L527.884 29.2718 Q531.976 27.692 535.824 26.9223 Q539.672 26.1121 543.318 26.1121 Q553.162 26.1121 558.023 31.2163 Q562.884 36.3204 562.884 46.6907 Z\" fill=\"#000000\" fill-rule=\"evenodd\" fill-opacity=\"1\" /><path clip-path=\"url(#clip580)\" d=\"M615.951 45.1919 L615.951 72.576 L608.497 72.576 L608.497 45.4349 Q608.497 38.994 605.986 35.7938 Q603.474 32.5936 598.451 32.5936 Q592.415 32.5936 588.931 36.4419 Q585.447 40.2903 585.447 46.9338 L585.447 72.576 L577.953 72.576 L577.953 27.2059 L585.447 27.2059 L585.447 34.2544 Q588.121 30.163 591.726 28.1376 Q595.372 26.1121 600.112 26.1121 Q607.93 26.1121 611.94 30.9732 Q615.951 35.7938 615.951 45.1919 Z\" fill=\"#000000\" fill-rule=\"evenodd\" fill-opacity=\"1\" /><path clip-path=\"url(#clip580)\" d=\"M660.673 34.0924 L660.673 9.54393 L668.126 9.54393 L668.126 72.576 L660.673 72.576 L660.673 65.7705 Q658.323 69.8214 654.718 71.8063 Q651.153 73.7508 646.13 73.7508 Q637.907 73.7508 632.721 67.1883 Q627.577 60.6258 627.577 49.9314 Q627.577 39.2371 632.721 32.6746 Q637.907 26.1121 646.13 26.1121 Q651.153 26.1121 654.718 28.0971 Q658.323 30.0415 660.673 34.0924 M635.274 49.9314 Q635.274 58.1548 638.636 62.8538 Q642.039 67.5124 647.953 67.5124 Q653.867 67.5124 657.27 62.8538 Q660.673 58.1548 660.673 49.9314 Q660.673 41.7081 657.27 37.0496 Q653.867 32.3505 647.953 32.3505 Q642.039 32.3505 638.636 37.0496 Q635.274 41.7081 635.274 49.9314 Z\" fill=\"#000000\" fill-rule=\"evenodd\" fill-opacity=\"1\" /><path clip-path=\"url(#clip580)\" d=\"M701.06 32.4315 Q695.065 32.4315 691.581 37.1306 Q688.097 41.7891 688.097 49.9314 Q688.097 58.0738 691.541 62.7728 Q695.024 67.4314 701.06 67.4314 Q707.015 67.4314 710.499 62.7323 Q713.983 58.0333 713.983 49.9314 Q713.983 41.8701 710.499 37.1711 Q707.015 32.4315 701.06 32.4315 M701.06 26.1121 Q710.782 26.1121 716.332 32.4315 Q721.882 38.7509 721.882 49.9314 Q721.882 61.0714 716.332 67.4314 Q710.782 73.7508 701.06 73.7508 Q691.298 73.7508 685.748 67.4314 Q680.239 61.0714 680.239 49.9314 Q680.239 38.7509 685.748 32.4315 Q691.298 26.1121 701.06 26.1121 Z\" fill=\"#000000\" fill-rule=\"evenodd\" fill-opacity=\"1\" /><path clip-path=\"url(#clip580)\" d=\"M793.259 28.9478 L793.259 35.9153 Q790.099 34.1734 786.899 33.3227 Q783.739 32.4315 780.498 32.4315 Q773.247 32.4315 769.237 37.0496 Q765.227 41.6271 765.227 49.9314 Q765.227 58.2358 769.237 62.8538 Q773.247 67.4314 780.498 67.4314 Q783.739 67.4314 786.899 66.5807 Q790.099 65.6895 793.259 63.9476 L793.259 70.8341 Q790.14 72.2924 786.777 73.0216 Q783.456 73.7508 779.688 73.7508 Q769.44 73.7508 763.404 67.3098 Q757.368 60.8689 757.368 49.9314 Q757.368 38.832 763.444 32.472 Q769.561 26.1121 780.174 26.1121 Q783.618 26.1121 786.899 26.8413 Q790.18 27.5299 793.259 28.9478 Z\" fill=\"#000000\" fill-rule=\"evenodd\" fill-opacity=\"1\" /><path clip-path=\"url(#clip580)\" d=\"M823.803 32.4315 Q817.807 32.4315 814.324 37.1306 Q810.84 41.7891 810.84 49.9314 Q810.84 58.0738 814.283 62.7728 Q817.767 67.4314 823.803 67.4314 Q829.757 67.4314 833.241 62.7323 Q836.725 58.0333 836.725 49.9314 Q836.725 41.8701 833.241 37.1711 Q829.757 32.4315 823.803 32.4315 M823.803 26.1121 Q833.525 26.1121 839.075 32.4315 Q844.624 38.7509 844.624 49.9314 Q844.624 61.0714 839.075 67.4314 Q833.525 73.7508 823.803 73.7508 Q814.04 73.7508 808.49 67.4314 Q802.981 61.0714 802.981 49.9314 Q802.981 38.7509 808.49 32.4315 Q814.04 26.1121 823.803 26.1121 Z\" fill=\"#000000\" fill-rule=\"evenodd\" fill-opacity=\"1\" /><path clip-path=\"url(#clip580)\" d=\"M894.693 45.1919 L894.693 72.576 L887.24 72.576 L887.24 45.4349 Q887.24 38.994 884.728 35.7938 Q882.217 32.5936 877.194 32.5936 Q871.158 32.5936 867.674 36.4419 Q864.19 40.2903 864.19 46.9338 L864.19 72.576 L856.696 72.576 L856.696 27.2059 L864.19 27.2059 L864.19 34.2544 Q866.864 30.163 870.469 28.1376 Q874.115 26.1121 878.854 26.1121 Q886.673 26.1121 890.683 30.9732 Q894.693 35.7938 894.693 45.1919 Z\" fill=\"#000000\" fill-rule=\"evenodd\" fill-opacity=\"1\" /><path clip-path=\"url(#clip580)\" d=\"M935.932 9.54393 L943.385 9.54393 L943.385 72.576 L935.932 72.576 L935.932 9.54393 Z\" fill=\"#000000\" fill-rule=\"evenodd\" fill-opacity=\"1\" /><path clip-path=\"url(#clip580)\" d=\"M979.6 49.7694 Q970.567 49.7694 967.083 51.8354 Q963.599 53.9013 963.599 58.8839 Q963.599 62.8538 966.192 65.2034 Q968.825 67.5124 973.322 67.5124 Q979.519 67.5124 983.246 63.1374 Q987.014 58.7219 987.014 51.4303 L987.014 49.7694 L979.6 49.7694 M994.467 46.6907 L994.467 72.576 L987.014 72.576 L987.014 65.6895 Q984.462 69.8214 980.654 71.8063 Q976.846 73.7508 971.337 73.7508 Q964.369 73.7508 960.237 69.8619 Q956.146 65.9325 956.146 59.3701 Q956.146 51.7138 961.25 47.825 Q966.394 43.9361 976.562 43.9361 L987.014 43.9361 L987.014 43.2069 Q987.014 38.0623 983.611 35.2672 Q980.249 32.4315 974.132 32.4315 Q970.243 32.4315 966.557 33.3632 Q962.87 34.295 959.467 36.1584 L959.467 29.2718 Q963.559 27.692 967.407 26.9223 Q971.256 26.1121 974.901 26.1121 Q984.745 26.1121 989.606 31.2163 Q994.467 36.3204 994.467 46.6907 Z\" fill=\"#000000\" fill-rule=\"evenodd\" fill-opacity=\"1\" /><path clip-path=\"url(#clip580)\" d=\"M1065.12 28.5427 L1065.12 35.5912 Q1061.96 33.9709 1058.55 33.1607 Q1055.15 32.3505 1051.5 32.3505 Q1045.95 32.3505 1043.16 34.0519 Q1040.4 35.7533 1040.4 39.156 Q1040.4 41.7486 1042.39 43.2475 Q1044.37 44.7058 1050.37 46.0426 L1052.92 46.6097 Q1060.86 48.3111 1064.18 51.4303 Q1067.55 54.509 1067.55 60.0587 Q1067.55 66.3781 1062.52 70.0644 Q1057.54 73.7508 1048.79 73.7508 Q1045.14 73.7508 1041.17 73.0216 Q1037.24 72.3329 1032.87 70.9151 L1032.87 63.2184 Q1037 65.3654 1041.01 66.4591 Q1045.02 67.5124 1048.95 67.5124 Q1054.22 67.5124 1057.05 65.73 Q1059.89 63.9071 1059.89 60.6258 Q1059.89 57.5877 1057.82 55.9673 Q1055.8 54.3469 1048.87 52.8481 L1046.28 52.2405 Q1039.35 50.7821 1036.27 47.7845 Q1033.19 44.7463 1033.19 39.4801 Q1033.19 33.0797 1037.73 29.5959 Q1042.27 26.1121 1050.61 26.1121 Q1054.74 26.1121 1058.39 26.7198 Q1062.04 27.3274 1065.12 28.5427 Z\" fill=\"#000000\" fill-rule=\"evenodd\" fill-opacity=\"1\" /><path clip-path=\"url(#clip580)\" d=\"M1097 32.4315 Q1091 32.4315 1087.52 37.1306 Q1084.03 41.7891 1084.03 49.9314 Q1084.03 58.0738 1087.48 62.7728 Q1090.96 67.4314 1097 67.4314 Q1102.95 67.4314 1106.43 62.7323 Q1109.92 58.0333 1109.92 49.9314 Q1109.92 41.8701 1106.43 37.1711 Q1102.95 32.4315 1097 32.4315 M1097 26.1121 Q1106.72 26.1121 1112.27 32.4315 Q1117.82 38.7509 1117.82 49.9314 Q1117.82 61.0714 1112.27 67.4314 Q1106.72 73.7508 1097 73.7508 Q1087.23 73.7508 1081.68 67.4314 Q1076.17 61.0714 1076.17 49.9314 Q1076.17 38.7509 1081.68 32.4315 Q1087.23 26.1121 1097 26.1121 Z\" fill=\"#000000\" fill-rule=\"evenodd\" fill-opacity=\"1\" /><path clip-path=\"url(#clip580)\" d=\"M1130.17 9.54393 L1137.63 9.54393 L1137.63 72.576 L1130.17 72.576 L1130.17 9.54393 Z\" fill=\"#000000\" fill-rule=\"evenodd\" fill-opacity=\"1\" /><path clip-path=\"url(#clip580)\" d=\"M1152.45 54.671 L1152.45 27.2059 L1159.91 27.2059 L1159.91 54.3874 Q1159.91 60.8284 1162.42 64.0691 Q1164.93 67.2693 1169.95 67.2693 Q1175.99 67.2693 1179.47 63.421 Q1183 59.5726 1183 52.9291 L1183 27.2059 L1190.45 27.2059 L1190.45 72.576 L1183 72.576 L1183 65.6084 Q1180.28 69.7404 1176.68 71.7658 Q1173.11 73.7508 1168.37 73.7508 Q1160.55 73.7508 1156.5 68.8897 Q1152.45 64.0286 1152.45 54.671 M1171.21 26.1121 L1171.21 26.1121 Z\" fill=\"#000000\" fill-rule=\"evenodd\" fill-opacity=\"1\" /><path clip-path=\"url(#clip580)\" d=\"M1238.45 28.9478 L1238.45 35.9153 Q1235.29 34.1734 1232.09 33.3227 Q1228.93 32.4315 1225.69 32.4315 Q1218.44 32.4315 1214.43 37.0496 Q1210.42 41.6271 1210.42 49.9314 Q1210.42 58.2358 1214.43 62.8538 Q1218.44 67.4314 1225.69 67.4314 Q1228.93 67.4314 1232.09 66.5807 Q1235.29 65.6895 1238.45 63.9476 L1238.45 70.8341 Q1235.33 72.2924 1231.97 73.0216 Q1228.65 73.7508 1224.88 73.7508 Q1214.63 73.7508 1208.6 67.3098 Q1202.56 60.8689 1202.56 49.9314 Q1202.56 38.832 1208.64 32.472 Q1214.76 26.1121 1225.37 26.1121 Q1228.81 26.1121 1232.09 26.8413 Q1235.37 27.5299 1238.45 28.9478 Z\" fill=\"#000000\" fill-rule=\"evenodd\" fill-opacity=\"1\" /><path clip-path=\"url(#clip580)\" d=\"M1251.42 27.2059 L1258.87 27.2059 L1258.87 72.576 L1251.42 72.576 L1251.42 27.2059 M1251.42 9.54393 L1258.87 9.54393 L1258.87 18.9825 L1251.42 18.9825 L1251.42 9.54393 Z\" fill=\"#000000\" fill-rule=\"evenodd\" fill-opacity=\"1\" /><path clip-path=\"url(#clip580)\" d=\"M1292.05 32.4315 Q1286.05 32.4315 1282.57 37.1306 Q1279.08 41.7891 1279.08 49.9314 Q1279.08 58.0738 1282.53 62.7728 Q1286.01 67.4314 1292.05 67.4314 Q1298 67.4314 1301.49 62.7323 Q1304.97 58.0333 1304.97 49.9314 Q1304.97 41.8701 1301.49 37.1711 Q1298 32.4315 1292.05 32.4315 M1292.05 26.1121 Q1301.77 26.1121 1307.32 32.4315 Q1312.87 38.7509 1312.87 49.9314 Q1312.87 61.0714 1307.32 67.4314 Q1301.77 73.7508 1292.05 73.7508 Q1282.28 73.7508 1276.73 67.4314 Q1271.23 61.0714 1271.23 49.9314 Q1271.23 38.7509 1276.73 32.4315 Q1282.28 26.1121 1292.05 26.1121 M1297.68 6.22219 L1305.74 6.22219 L1292.53 21.4536 L1286.33 21.4536 L1297.68 6.22219 Z\" fill=\"#000000\" fill-rule=\"evenodd\" fill-opacity=\"1\" /><path clip-path=\"url(#clip580)\" d=\"M1362.94 45.1919 L1362.94 72.576 L1355.48 72.576 L1355.48 45.4349 Q1355.48 38.994 1352.97 35.7938 Q1350.46 32.5936 1345.44 32.5936 Q1339.4 32.5936 1335.92 36.4419 Q1332.43 40.2903 1332.43 46.9338 L1332.43 72.576 L1324.94 72.576 L1324.94 27.2059 L1332.43 27.2059 L1332.43 34.2544 Q1335.11 30.163 1338.71 28.1376 Q1342.36 26.1121 1347.1 26.1121 Q1354.92 26.1121 1358.93 30.9732 Q1362.94 35.7938 1362.94 45.1919 Z\" fill=\"#000000\" fill-rule=\"evenodd\" fill-opacity=\"1\" /><path clip-path=\"url(#clip580)\" d=\"M1442.98 48.0275 L1442.98 51.6733 L1408.71 51.6733 Q1409.2 59.3701 1413.33 63.421 Q1417.5 67.4314 1424.92 67.4314 Q1429.21 67.4314 1433.22 66.3781 Q1437.27 65.3249 1441.24 63.2184 L1441.24 70.267 Q1437.23 71.9684 1433.02 72.8596 Q1428.81 73.7508 1424.47 73.7508 Q1413.61 73.7508 1407.25 67.4314 Q1400.93 61.1119 1400.93 50.3365 Q1400.93 39.1965 1406.93 32.6746 Q1412.97 26.1121 1423.17 26.1121 Q1432.33 26.1121 1437.64 32.0264 Q1442.98 37.9003 1442.98 48.0275 M1435.53 45.84 Q1435.45 39.7232 1432.09 36.0774 Q1428.76 32.4315 1423.26 32.4315 Q1417.02 32.4315 1413.25 35.9558 Q1409.52 39.4801 1408.96 45.8805 L1435.53 45.84 Z\" fill=\"#000000\" fill-rule=\"evenodd\" fill-opacity=\"1\" /><path clip-path=\"url(#clip580)\" d=\"M1491.47 27.2059 L1475.07 49.2833 L1492.32 72.576 L1483.53 72.576 L1470.33 54.752 L1457.12 72.576 L1448.33 72.576 L1465.95 48.8377 L1449.83 27.2059 L1458.62 27.2059 L1470.65 43.369 L1482.68 27.2059 L1491.47 27.2059 Z\" fill=\"#000000\" fill-rule=\"evenodd\" fill-opacity=\"1\" /><path clip-path=\"url(#clip580)\" d=\"M1523.47 49.7694 Q1514.44 49.7694 1510.96 51.8354 Q1507.47 53.9013 1507.47 58.8839 Q1507.47 62.8538 1510.07 65.2034 Q1512.7 67.5124 1517.2 67.5124 Q1523.39 67.5124 1527.12 63.1374 Q1530.89 58.7219 1530.89 51.4303 L1530.89 49.7694 L1523.47 49.7694 M1538.34 46.6907 L1538.34 72.576 L1530.89 72.576 L1530.89 65.6895 Q1528.34 69.8214 1524.53 71.8063 Q1520.72 73.7508 1515.21 73.7508 Q1508.24 73.7508 1504.11 69.8619 Q1500.02 65.9325 1500.02 59.3701 Q1500.02 51.7138 1505.12 47.825 Q1510.27 43.9361 1520.44 43.9361 L1530.89 43.9361 L1530.89 43.2069 Q1530.89 38.0623 1527.49 35.2672 Q1524.12 32.4315 1518.01 32.4315 Q1514.12 32.4315 1510.43 33.3632 Q1506.74 34.295 1503.34 36.1584 L1503.34 29.2718 Q1507.43 27.692 1511.28 26.9223 Q1515.13 26.1121 1518.78 26.1121 Q1528.62 26.1121 1533.48 31.2163 Q1538.34 36.3204 1538.34 46.6907 Z\" fill=\"#000000\" fill-rule=\"evenodd\" fill-opacity=\"1\" /><path clip-path=\"url(#clip580)\" d=\"M1586.34 28.9478 L1586.34 35.9153 Q1583.19 34.1734 1579.98 33.3227 Q1576.83 32.4315 1573.58 32.4315 Q1566.33 32.4315 1562.32 37.0496 Q1558.31 41.6271 1558.31 49.9314 Q1558.31 58.2358 1562.32 62.8538 Q1566.33 67.4314 1573.58 67.4314 Q1576.83 67.4314 1579.98 66.5807 Q1583.19 65.6895 1586.34 63.9476 L1586.34 70.8341 Q1583.23 72.2924 1579.86 73.0216 Q1576.54 73.7508 1572.77 73.7508 Q1562.53 73.7508 1556.49 67.3098 Q1550.45 60.8689 1550.45 49.9314 Q1550.45 38.832 1556.53 32.472 Q1562.65 26.1121 1573.26 26.1121 Q1576.7 26.1121 1579.98 26.8413 Q1583.27 27.5299 1586.34 28.9478 Z\" fill=\"#000000\" fill-rule=\"evenodd\" fill-opacity=\"1\" /><path clip-path=\"url(#clip580)\" d=\"M1606.68 14.324 L1606.68 27.2059 L1622.03 27.2059 L1622.03 32.9987 L1606.68 32.9987 L1606.68 57.6282 Q1606.68 63.1779 1608.18 64.7578 Q1609.72 66.3376 1614.38 66.3376 L1622.03 66.3376 L1622.03 72.576 L1614.38 72.576 Q1605.75 72.576 1602.47 69.3758 Q1599.19 66.1351 1599.19 57.6282 L1599.19 32.9987 L1593.72 32.9987 L1593.72 27.2059 L1599.19 27.2059 L1599.19 14.324 L1606.68 14.324 Z\" fill=\"#000000\" fill-rule=\"evenodd\" fill-opacity=\"1\" /><path clip-path=\"url(#clip580)\" d=\"M1652.46 49.7694 Q1643.42 49.7694 1639.94 51.8354 Q1636.45 53.9013 1636.45 58.8839 Q1636.45 62.8538 1639.05 65.2034 Q1641.68 67.5124 1646.18 67.5124 Q1652.37 67.5124 1656.1 63.1374 Q1659.87 58.7219 1659.87 51.4303 L1659.87 49.7694 L1652.46 49.7694 M1667.32 46.6907 L1667.32 72.576 L1659.87 72.576 L1659.87 65.6895 Q1657.32 69.8214 1653.51 71.8063 Q1649.7 73.7508 1644.19 73.7508 Q1637.22 73.7508 1633.09 69.8619 Q1629 65.9325 1629 59.3701 Q1629 51.7138 1634.11 47.825 Q1639.25 43.9361 1649.42 43.9361 L1659.87 43.9361 L1659.87 43.2069 Q1659.87 38.0623 1656.47 35.2672 Q1653.1 32.4315 1646.99 32.4315 Q1643.1 32.4315 1639.41 33.3632 Q1635.73 34.295 1632.32 36.1584 L1632.32 29.2718 Q1636.41 27.692 1640.26 26.9223 Q1644.11 26.1121 1647.76 26.1121 Q1657.6 26.1121 1662.46 31.2163 Q1667.32 36.3204 1667.32 46.6907 Z\" fill=\"#000000\" fill-rule=\"evenodd\" fill-opacity=\"1\" /><path clip-path=\"url(#clip580)\" d=\"M1716.26 65.7705 L1716.26 89.8329 L1708.76 89.8329 L1708.76 27.2059 L1716.26 27.2059 L1716.26 34.0924 Q1718.61 30.0415 1722.17 28.0971 Q1725.78 26.1121 1730.76 26.1121 Q1739.02 26.1121 1744.17 32.6746 Q1749.35 39.2371 1749.35 49.9314 Q1749.35 60.6258 1744.17 67.1883 Q1739.02 73.7508 1730.76 73.7508 Q1725.78 73.7508 1722.17 71.8063 Q1718.61 69.8214 1716.26 65.7705 M1741.62 49.9314 Q1741.62 41.7081 1738.21 37.0496 Q1734.85 32.3505 1728.94 32.3505 Q1723.02 32.3505 1719.62 37.0496 Q1716.26 41.7081 1716.26 49.9314 Q1716.26 58.1548 1719.62 62.8538 Q1723.02 67.5124 1728.94 67.5124 Q1734.85 67.5124 1738.21 62.8538 Q1741.62 58.1548 1741.62 49.9314 Z\" fill=\"#000000\" fill-rule=\"evenodd\" fill-opacity=\"1\" /><path clip-path=\"url(#clip580)\" d=\"M1782.33 49.7694 Q1773.29 49.7694 1769.81 51.8354 Q1766.33 53.9013 1766.33 58.8839 Q1766.33 62.8538 1768.92 65.2034 Q1771.55 67.5124 1776.05 67.5124 Q1782.25 67.5124 1785.97 63.1374 Q1789.74 58.7219 1789.74 51.4303 L1789.74 49.7694 L1782.33 49.7694 M1797.19 46.6907 L1797.19 72.576 L1789.74 72.576 L1789.74 65.6895 Q1787.19 69.8214 1783.38 71.8063 Q1779.57 73.7508 1774.06 73.7508 Q1767.1 73.7508 1762.96 69.8619 Q1758.87 65.9325 1758.87 59.3701 Q1758.87 51.7138 1763.98 47.825 Q1769.12 43.9361 1779.29 43.9361 L1789.74 43.9361 L1789.74 43.2069 Q1789.74 38.0623 1786.34 35.2672 Q1782.98 32.4315 1776.86 32.4315 Q1772.97 32.4315 1769.28 33.3632 Q1765.6 34.295 1762.19 36.1584 L1762.19 29.2718 Q1766.29 27.692 1770.13 26.9223 Q1773.98 26.1121 1777.63 26.1121 Q1787.47 26.1121 1792.33 31.2163 Q1797.19 36.3204 1797.19 46.6907 Z\" fill=\"#000000\" fill-rule=\"evenodd\" fill-opacity=\"1\" /><path clip-path=\"url(#clip580)\" d=\"M1838.84 34.1734 Q1837.58 33.4443 1836.08 33.1202 Q1834.62 32.7556 1832.84 32.7556 Q1826.52 32.7556 1823.12 36.8875 Q1819.76 40.9789 1819.76 48.6757 L1819.76 72.576 L1812.26 72.576 L1812.26 27.2059 L1819.76 27.2059 L1819.76 34.2544 Q1822.11 30.1225 1825.87 28.1376 Q1829.64 26.1121 1835.03 26.1121 Q1835.8 26.1121 1836.73 26.2337 Q1837.66 26.3147 1838.8 26.5172 L1838.84 34.1734 Z\" fill=\"#000000\" fill-rule=\"evenodd\" fill-opacity=\"1\" /><path clip-path=\"url(#clip580)\" d=\"M1867.28 49.7694 Q1858.24 49.7694 1854.76 51.8354 Q1851.27 53.9013 1851.27 58.8839 Q1851.27 62.8538 1853.87 65.2034 Q1856.5 67.5124 1861 67.5124 Q1867.19 67.5124 1870.92 63.1374 Q1874.69 58.7219 1874.69 51.4303 L1874.69 49.7694 L1867.28 49.7694 M1882.14 46.6907 L1882.14 72.576 L1874.69 72.576 L1874.69 65.6895 Q1872.14 69.8214 1868.33 71.8063 Q1864.52 73.7508 1859.01 73.7508 Q1852.04 73.7508 1847.91 69.8619 Q1843.82 65.9325 1843.82 59.3701 Q1843.82 51.7138 1848.92 47.825 Q1854.07 43.9361 1864.24 43.9361 L1874.69 43.9361 L1874.69 43.2069 Q1874.69 38.0623 1871.29 35.2672 Q1867.92 32.4315 1861.81 32.4315 Q1857.92 32.4315 1854.23 33.3632 Q1850.54 34.295 1847.14 36.1584 L1847.14 29.2718 Q1851.23 27.692 1855.08 26.9223 Q1858.93 26.1121 1862.58 26.1121 Q1872.42 26.1121 1877.28 31.2163 Q1882.14 36.3204 1882.14 46.6907 Z\" fill=\"#000000\" fill-rule=\"evenodd\" fill-opacity=\"1\" /><path clip-path=\"url(#clip580)\" d=\"M1953.72 34.0924 L1953.72 9.54393 L1961.18 9.54393 L1961.18 72.576 L1953.72 72.576 L1953.72 65.7705 Q1951.37 69.8214 1947.77 71.8063 Q1944.2 73.7508 1939.18 73.7508 Q1930.96 73.7508 1925.77 67.1883 Q1920.63 60.6258 1920.63 49.9314 Q1920.63 39.2371 1925.77 32.6746 Q1930.96 26.1121 1939.18 26.1121 Q1944.2 26.1121 1947.77 28.0971 Q1951.37 30.0415 1953.72 34.0924 M1928.32 49.9314 Q1928.32 58.1548 1931.68 62.8538 Q1935.09 67.5124 1941 67.5124 Q1946.92 67.5124 1950.32 62.8538 Q1953.72 58.1548 1953.72 49.9314 Q1953.72 41.7081 1950.32 37.0496 Q1946.92 32.3505 1941 32.3505 Q1935.09 32.3505 1931.68 37.0496 Q1928.32 41.7081 1928.32 49.9314 Z\" fill=\"#000000\" fill-rule=\"evenodd\" fill-opacity=\"1\" /><path clip-path=\"url(#clip580)\" d=\"M1976.53 27.2059 L1983.98 27.2059 L1983.98 72.576 L1976.53 72.576 L1976.53 27.2059 M1976.53 9.54393 L1983.98 9.54393 L1983.98 18.9825 L1976.53 18.9825 L1976.53 9.54393 Z\" fill=\"#000000\" fill-rule=\"evenodd\" fill-opacity=\"1\" /><path clip-path=\"url(#clip580)\" d=\"M2028.5 28.5427 L2028.5 35.5912 Q2025.34 33.9709 2021.94 33.1607 Q2018.54 32.3505 2014.89 32.3505 Q2009.34 32.3505 2006.55 34.0519 Q2003.79 35.7533 2003.79 39.156 Q2003.79 41.7486 2005.78 43.2475 Q2007.76 44.7058 2013.76 46.0426 L2016.31 46.6097 Q2024.25 48.3111 2027.57 51.4303 Q2030.93 54.509 2030.93 60.0587 Q2030.93 66.3781 2025.91 70.0644 Q2020.93 73.7508 2012.18 73.7508 Q2008.53 73.7508 2004.56 73.0216 Q2000.63 72.3329 1996.26 70.9151 L1996.26 63.2184 Q2000.39 65.3654 2004.4 66.4591 Q2008.41 67.5124 2012.34 67.5124 Q2017.6 67.5124 2020.44 65.73 Q2023.28 63.9071 2023.28 60.6258 Q2023.28 57.5877 2021.21 55.9673 Q2019.18 54.3469 2012.26 52.8481 L2009.66 52.2405 Q2002.74 50.7821 1999.66 47.7845 Q1996.58 44.7463 1996.58 39.4801 Q1996.58 33.0797 2001.12 29.5959 Q2005.65 26.1121 2014 26.1121 Q2018.13 26.1121 2021.78 26.7198 Q2025.42 27.3274 2028.5 28.5427 Z\" fill=\"#000000\" fill-rule=\"evenodd\" fill-opacity=\"1\" /><path clip-path=\"url(#clip580)\" d=\"M2050.17 14.324 L2050.17 27.2059 L2065.53 27.2059 L2065.53 32.9987 L2050.17 32.9987 L2050.17 57.6282 Q2050.17 63.1779 2051.67 64.7578 Q2053.21 66.3376 2057.87 66.3376 L2065.53 66.3376 L2065.53 72.576 L2057.87 72.576 Q2049.24 72.576 2045.96 69.3758 Q2042.68 66.1351 2042.68 57.6282 L2042.68 32.9987 L2037.21 32.9987 L2037.21 27.2059 L2042.68 27.2059 L2042.68 14.324 L2050.17 14.324 Z\" fill=\"#000000\" fill-rule=\"evenodd\" fill-opacity=\"1\" /><path clip-path=\"url(#clip580)\" d=\"M2075.33 27.2059 L2082.78 27.2059 L2082.78 72.576 L2075.33 72.576 L2075.33 27.2059 M2075.33 9.54393 L2082.78 9.54393 L2082.78 18.9825 L2075.33 18.9825 L2075.33 9.54393 Z\" fill=\"#000000\" fill-rule=\"evenodd\" fill-opacity=\"1\" /><path clip-path=\"url(#clip580)\" d=\"M2136.09 45.1919 L2136.09 72.576 L2128.64 72.576 L2128.64 45.4349 Q2128.64 38.994 2126.13 35.7938 Q2123.62 32.5936 2118.59 32.5936 Q2112.56 32.5936 2109.07 36.4419 Q2105.59 40.2903 2105.59 46.9338 L2105.59 72.576 L2098.1 72.576 L2098.1 27.2059 L2105.59 27.2059 L2105.59 34.2544 Q2108.26 30.163 2111.87 28.1376 Q2115.51 26.1121 2120.25 26.1121 Q2128.07 26.1121 2132.08 30.9732 Q2136.09 35.7938 2136.09 45.1919 Z\" fill=\"#000000\" fill-rule=\"evenodd\" fill-opacity=\"1\" /><path clip-path=\"url(#clip580)\" d=\"M2158.33 14.324 L2158.33 27.2059 L2173.69 27.2059 L2173.69 32.9987 L2158.33 32.9987 L2158.33 57.6282 Q2158.33 63.1779 2159.83 64.7578 Q2161.37 66.3376 2166.03 66.3376 L2173.69 66.3376 L2173.69 72.576 L2166.03 72.576 Q2157.4 72.576 2154.12 69.3758 Q2150.84 66.1351 2150.84 57.6282 L2150.84 32.9987 L2145.37 32.9987 L2145.37 27.2059 L2150.84 27.2059 L2150.84 14.324 L2158.33 14.324 Z\" fill=\"#000000\" fill-rule=\"evenodd\" fill-opacity=\"1\" /><path clip-path=\"url(#clip580)\" d=\"M2201.07 32.4315 Q2195.07 32.4315 2191.59 37.1306 Q2188.11 41.7891 2188.11 49.9314 Q2188.11 58.0738 2191.55 62.7728 Q2195.03 67.4314 2201.07 67.4314 Q2207.02 67.4314 2210.51 62.7323 Q2213.99 58.0333 2213.99 49.9314 Q2213.99 41.8701 2210.51 37.1711 Q2207.02 32.4315 2201.07 32.4315 M2201.07 26.1121 Q2210.79 26.1121 2216.34 32.4315 Q2221.89 38.7509 2221.89 49.9314 Q2221.89 61.0714 2216.34 67.4314 Q2210.79 73.7508 2201.07 73.7508 Q2191.31 73.7508 2185.76 67.4314 Q2180.25 61.0714 2180.25 49.9314 Q2180.25 38.7509 2185.76 32.4315 Q2191.31 26.1121 2201.07 26.1121 Z\" fill=\"#000000\" fill-rule=\"evenodd\" fill-opacity=\"1\" /><path clip-path=\"url(#clip580)\" d=\"M2263.17 28.5427 L2263.17 35.5912 Q2260.01 33.9709 2256.61 33.1607 Q2253.2 32.3505 2249.56 32.3505 Q2244.01 32.3505 2241.21 34.0519 Q2238.46 35.7533 2238.46 39.156 Q2238.46 41.7486 2240.44 43.2475 Q2242.43 44.7058 2248.42 46.0426 L2250.98 46.6097 Q2258.92 48.3111 2262.24 51.4303 Q2265.6 54.509 2265.6 60.0587 Q2265.6 66.3781 2260.58 70.0644 Q2255.59 73.7508 2246.84 73.7508 Q2243.2 73.7508 2239.23 73.0216 Q2235.3 72.3329 2230.92 70.9151 L2230.92 63.2184 Q2235.06 65.3654 2239.07 66.4591 Q2243.08 67.5124 2247.01 67.5124 Q2252.27 67.5124 2255.11 65.73 Q2257.94 63.9071 2257.94 60.6258 Q2257.94 57.5877 2255.88 55.9673 Q2253.85 54.3469 2246.93 52.8481 L2244.33 52.2405 Q2237.41 50.7821 2234.33 47.7845 Q2231.25 44.7463 2231.25 39.4801 Q2231.25 33.0797 2235.79 29.5959 Q2240.32 26.1121 2248.67 26.1121 Q2252.8 26.1121 2256.45 26.7198 Q2260.09 27.3274 2263.17 28.5427 Z\" fill=\"#000000\" fill-rule=\"evenodd\" fill-opacity=\"1\" /><path clip-path=\"url(#clip580)\" d=\"M2341.55 45.1919 L2341.55 72.576 L2334.1 72.576 L2334.1 45.4349 Q2334.1 38.994 2331.59 35.7938 Q2329.08 32.5936 2324.06 32.5936 Q2318.02 32.5936 2314.54 36.4419 Q2311.05 40.2903 2311.05 46.9338 L2311.05 72.576 L2303.56 72.576 L2303.56 9.54393 L2311.05 9.54393 L2311.05 34.2544 Q2313.73 30.163 2317.33 28.1376 Q2320.98 26.1121 2325.72 26.1121 Q2333.53 26.1121 2337.54 30.9732 Q2341.55 35.7938 2341.55 45.1919 Z\" fill=\"#000000\" fill-rule=\"evenodd\" fill-opacity=\"1\" /><polyline clip-path=\"url(#clip582)\" style=\"stroke:#009af9; stroke-linecap:butt; stroke-linejoin:round; stroke-width:4; stroke-opacity:1; fill:none\" points=\"\n",
       "  247.252,162.047 252.363,162.111 257.473,162.304 262.583,162.626 267.694,163.076 272.804,163.654 277.915,164.36 283.025,165.194 288.136,166.156 293.246,167.246 \n",
       "  298.357,168.462 303.467,169.805 308.577,171.275 313.688,172.87 318.798,174.591 323.909,176.436 329.019,178.406 334.13,180.5 339.24,182.716 344.351,185.056 \n",
       "  349.461,187.517 354.572,190.098 359.682,192.801 364.792,195.622 369.903,198.563 375.013,201.621 380.124,204.796 385.234,208.087 390.345,211.493 395.455,215.013 \n",
       "  400.566,218.645 405.676,222.39 410.786,226.246 415.897,230.211 421.007,234.285 426.118,238.466 431.228,242.753 436.339,247.146 441.449,251.641 446.56,256.24 \n",
       "  451.67,260.939 456.78,265.738 461.891,270.636 467.001,275.63 472.112,280.72 477.222,285.904 482.333,291.181 487.443,296.549 492.554,302.007 497.664,307.553 \n",
       "  502.774,313.186 507.885,318.904 512.995,324.706 518.106,330.589 523.216,336.553 528.327,342.595 533.437,348.715 538.548,354.91 543.658,361.179 548.768,367.52 \n",
       "  553.879,373.932 558.989,380.412 564.1,386.96 569.21,393.572 574.321,400.249 579.431,406.987 584.542,413.785 589.652,420.642 594.762,427.555 599.873,434.524 \n",
       "  604.983,441.545 610.094,448.618 615.204,455.74 620.315,462.91 625.425,470.126 630.536,477.386 635.646,484.689 640.756,492.033 645.867,499.415 650.977,506.835 \n",
       "  656.088,514.29 661.198,521.778 666.309,529.299 671.419,536.85 676.53,544.429 681.64,552.034 686.75,559.665 691.861,567.318 696.971,574.993 702.082,582.688 \n",
       "  707.192,590.401 712.303,598.13 717.413,605.873 722.524,613.63 727.634,621.398 732.745,629.175 737.855,636.96 742.965,644.752 748.076,652.549 753.186,660.349 \n",
       "  758.297,668.15 763.407,675.951 768.518,683.751 773.628,691.548 778.739,699.34 783.849,707.126 788.959,714.904 794.07,722.673 799.18,730.432 804.291,738.179 \n",
       "  809.401,745.912 814.512,753.631 819.622,761.333 824.733,769.019 829.843,776.685 834.953,784.331 840.064,791.956 845.174,799.558 850.285,807.136 855.395,814.689 \n",
       "  860.506,822.216 865.616,829.715 870.727,837.185 875.837,844.626 880.947,852.035 886.058,859.413 891.168,866.757 896.279,874.068 901.389,881.343 906.5,888.581 \n",
       "  911.61,895.783 916.721,902.947 921.831,910.071 926.941,917.156 932.052,924.199 937.162,931.201 942.273,938.161 947.383,945.077 952.494,951.949 957.604,958.776 \n",
       "  962.715,965.558 967.825,972.293 972.935,978.981 978.046,985.622 983.156,992.214 988.267,998.757 993.377,1005.25 998.488,1011.69 1003.6,1018.09 1008.71,1024.43 \n",
       "  1013.82,1030.72 1018.93,1036.96 1024.04,1043.14 1029.15,1049.27 1034.26,1055.35 1039.37,1061.38 1044.48,1067.35 1049.59,1073.26 1054.7,1079.12 1059.81,1084.93 \n",
       "  1064.92,1090.68 1070.03,1096.37 1075.14,1102.01 1080.25,1107.59 1085.37,1113.12 1090.48,1118.59 1095.59,1124 1100.7,1129.35 1105.81,1134.65 1110.92,1139.89 \n",
       "  1116.03,1145.07 1121.14,1150.2 1126.25,1155.27 1131.36,1160.28 1136.47,1165.24 1141.58,1170.13 1146.69,1174.97 1151.8,1179.75 1156.91,1184.48 1162.02,1189.15 \n",
       "  1167.13,1193.76 1172.24,1198.31 1177.35,1202.81 1182.46,1207.25 1187.57,1211.63 1192.68,1215.96 1197.8,1220.23 1202.91,1224.44 1208.02,1228.6 1213.13,1232.7 \n",
       "  1218.24,1236.75 1223.35,1240.74 1228.46,1244.68 1233.57,1248.56 1238.68,1252.39 1243.79,1256.16 1248.9,1259.88 1254.01,1263.55 1259.12,1267.16 1264.23,1270.72 \n",
       "  1269.34,1274.23 1274.45,1277.68 1279.56,1281.09 1284.67,1284.44 1289.78,1287.74 1294.89,1290.99 1300,1294.19 1305.11,1297.34 1310.22,1300.44 1315.34,1303.49 \n",
       "  1320.45,1306.49 1325.56,1309.45 1330.67,1312.35 1335.78,1315.21 1340.89,1318.02 1346,1320.79 1351.11,1323.51 1356.22,1326.18 1361.33,1328.81 1366.44,1331.39 \n",
       "  1371.55,1333.93 1376.66,1336.42 1381.77,1338.87 1386.88,1341.28 1391.99,1343.65 1397.1,1345.97 1402.21,1348.25 1407.32,1350.49 1412.43,1352.69 1417.54,1354.85 \n",
       "  1422.65,1356.97 1427.77,1359.05 1432.88,1361.1 1437.99,1363.1 1443.1,1365.07 1448.21,1367 1453.32,1368.89 1458.43,1370.75 1463.54,1372.57 1468.65,1374.35 \n",
       "  1473.76,1376.1 1478.87,1377.82 1483.98,1379.5 1489.09,1381.15 1494.2,1382.76 1499.31,1384.35 1504.42,1385.9 1509.53,1387.42 1514.64,1388.9 1519.75,1390.36 \n",
       "  1524.86,1391.79 1529.97,1393.19 1535.08,1394.56 1540.19,1395.9 1545.31,1397.21 1550.42,1398.49 1555.53,1399.75 1560.64,1400.98 1565.75,1402.18 1570.86,1403.36 \n",
       "  1575.97,1404.51 1581.08,1405.64 1586.19,1406.74 1591.3,1407.82 1596.41,1408.87 1601.52,1409.9 1606.63,1410.9 1611.74,1411.89 1616.85,1412.85 1621.96,1413.79 \n",
       "  1627.07,1414.71 1632.18,1415.6 1637.29,1416.48 1642.4,1417.33 1647.51,1418.17 1652.62,1418.99 1657.74,1419.78 1662.85,1420.56 1667.96,1421.32 1673.07,1422.06 \n",
       "  1678.18,1422.78 1683.29,1423.49 1688.4,1424.18 1693.51,1424.85 1698.62,1425.51 1703.73,1426.15 1708.84,1426.77 1713.95,1427.38 1719.06,1427.97 1724.17,1428.55 \n",
       "  1729.28,1429.11 1734.39,1429.66 1739.5,1430.2 1744.61,1430.72 1749.72,1431.23 1754.83,1431.72 1759.94,1432.21 1765.05,1432.68 1770.17,1433.13 1775.28,1433.58 \n",
       "  1780.39,1434.02 1785.5,1434.44 1790.61,1434.85 1795.72,1435.25 1800.83,1435.64 1805.94,1436.02 1811.05,1436.39 1816.16,1436.75 1821.27,1437.1 1826.38,1437.44 \n",
       "  1831.49,1437.77 1836.6,1438.09 1841.71,1438.41 1846.82,1438.71 1851.93,1439.01 1857.04,1439.3 1862.15,1439.58 1867.26,1439.85 1872.37,1440.11 1877.48,1440.37 \n",
       "  1882.59,1440.62 1887.71,1440.86 1892.82,1441.1 1897.93,1441.32 1903.04,1441.55 1908.15,1441.76 1913.26,1441.97 1918.37,1442.18 1923.48,1442.37 1928.59,1442.56 \n",
       "  1933.7,1442.75 1938.81,1442.93 1943.92,1443.11 1949.03,1443.28 1954.14,1443.44 1959.25,1443.6 1964.36,1443.76 1969.47,1443.91 1974.58,1444.05 1979.69,1444.19 \n",
       "  1984.8,1444.33 1989.91,1444.46 1995.02,1444.59 2000.14,1444.72 2005.25,1444.84 2010.36,1444.96 2015.47,1445.07 2020.58,1445.18 2025.69,1445.29 2030.8,1445.39 \n",
       "  2035.91,1445.49 2041.02,1445.59 2046.13,1445.68 2051.24,1445.77 2056.35,1445.86 2061.46,1445.95 2066.57,1446.03 2071.68,1446.11 2076.79,1446.18 2081.9,1446.26 \n",
       "  2087.01,1446.33 2092.12,1446.4 2097.23,1446.47 2102.34,1446.53 2107.45,1446.6 2112.56,1446.66 2117.68,1446.72 2122.79,1446.77 2127.9,1446.83 2133.01,1446.88 \n",
       "  2138.12,1446.94 2143.23,1446.98 2148.34,1447.03 2153.45,1447.08 2158.56,1447.12 2163.67,1447.17 2168.78,1447.21 2173.89,1447.25 2179,1447.29 2184.11,1447.33 \n",
       "  2189.22,1447.36 2194.33,1447.4 2199.44,1447.43 2204.55,1447.47 2209.66,1447.5 2214.77,1447.53 2219.88,1447.56 2224.99,1447.58 2230.11,1447.61 2235.22,1447.64 \n",
       "  2240.33,1447.66 2245.44,1447.69 2250.55,1447.71 2255.66,1447.74 2260.77,1447.76 2265.88,1447.78 2270.99,1447.8 2276.1,1447.82 2281.21,1447.84 2286.32,1447.86 \n",
       "  2291.43,1447.87 \n",
       "  \"/>\n",
       "<polyline clip-path=\"url(#clip582)\" style=\"stroke:#e26f46; stroke-linecap:butt; stroke-linejoin:round; stroke-width:4; stroke-opacity:1; fill:none\" points=\"\n",
       "  247.252,162.047 299.667,168.794 352.082,188.826 404.497,221.516 456.911,265.863 509.326,320.532 561.741,383.929 614.156,454.275 666.571,529.685 718.986,608.258 \n",
       "  771.4,688.149 823.815,767.64 876.23,845.197 928.645,919.508 981.06,989.514 1033.47,1054.42 1085.89,1113.68 1138.3,1167 1190.72,1214.3 1243.13,1255.68 \n",
       "  1295.55,1291.4 1347.96,1321.84 1400.38,1347.44 1452.79,1368.69 1505.21,1386.13 1557.62,1400.26 1610.04,1411.56 1662.45,1420.5 1714.87,1427.48 1767.28,1432.88 \n",
       "  1819.7,1436.99 1872.11,1440.1 1924.53,1442.41 1976.94,1444.12 2029.36,1445.36 2081.77,1446.26 2134.19,1446.89 2186.6,1447.34 2239.02,1447.66 2291.43,1447.87 \n",
       "  \n",
       "  \"/>\n",
       "<polyline clip-path=\"url(#clip582)\" style=\"stroke:#3da44d; stroke-linecap:butt; stroke-linejoin:round; stroke-width:4; stroke-opacity:1; fill:none\" points=\"\n",
       "  247.252,162.047 252.375,162.112 257.499,162.305 262.622,162.629 267.745,163.081 272.868,163.662 277.992,164.372 283.115,165.21 288.238,166.177 293.361,167.272 \n",
       "  298.485,168.494 303.608,169.844 308.731,171.321 313.854,172.924 318.978,174.653 324.101,176.508 329.224,178.488 334.347,180.592 339.471,182.819 344.594,185.17 \n",
       "  349.717,187.643 354.84,190.238 359.964,192.953 365.087,195.789 370.21,198.743 375.333,201.816 380.457,205.007 385.58,208.314 390.703,211.736 395.827,215.273 \n",
       "  400.95,218.923 406.073,222.686 411.196,226.56 416.32,230.544 421.443,234.637 426.566,238.838 431.689,243.145 436.813,247.558 441.936,252.075 447.059,256.695 \n",
       "  452.182,261.416 457.306,266.237 462.429,271.157 467.552,276.174 472.675,281.287 477.799,286.495 482.922,291.796 488.045,297.188 493.168,302.67 498.292,308.241 \n",
       "  503.415,313.898 508.538,319.641 513.661,325.468 518.785,331.377 523.908,337.366 529.031,343.434 534.154,349.58 539.278,355.801 544.401,362.096 549.524,368.464 \n",
       "  554.647,374.902 559.771,381.409 564.894,387.983 570.017,394.622 575.14,401.325 580.264,408.09 585.387,414.915 590.51,421.799 595.633,428.739 600.757,435.734 \n",
       "  605.88,442.782 611.003,449.881 616.126,457.03 621.25,464.227 626.373,471.469 631.496,478.756 636.619,486.085 641.743,493.454 646.866,500.863 651.989,508.308 \n",
       "  657.112,515.789 662.236,523.303 667.359,530.848 672.482,538.424 677.605,546.028 682.729,553.658 687.852,561.312 692.975,568.99 698.099,576.689 703.222,584.407 \n",
       "  708.345,592.143 713.468,599.894 718.592,607.661 723.715,615.439 728.838,623.229 733.961,631.028 739.085,638.835 744.208,646.647 749.331,654.464 754.454,662.284 \n",
       "  759.578,670.105 764.701,677.926 769.824,685.744 774.947,693.56 780.071,701.37 785.194,709.173 790.317,716.969 795.44,724.755 800.564,732.53 805.687,740.293 \n",
       "  810.81,748.042 815.933,755.775 821.057,763.493 826.18,771.192 831.303,778.872 836.426,786.531 841.55,794.168 846.673,801.783 851.796,809.373 856.919,816.937 \n",
       "  862.043,824.474 867.166,831.983 872.289,839.464 877.412,846.913 882.536,854.332 887.659,861.717 892.782,869.07 897.905,876.387 903.029,883.669 908.152,890.914 \n",
       "  913.275,898.121 918.398,905.29 923.522,912.419 928.645,919.508 933.768,926.556 938.891,933.561 944.015,940.523 949.138,947.442 954.261,954.316 959.384,961.144 \n",
       "  964.508,967.926 969.631,974.662 974.754,981.35 979.877,987.99 985.001,994.581 990.124,1001.12 995.247,1007.61 1000.37,1014.05 1005.49,1020.44 1010.62,1026.78 \n",
       "  1015.74,1033.07 1020.86,1039.3 1025.99,1045.48 1031.11,1051.61 1036.23,1057.68 1041.36,1063.7 1046.48,1069.66 1051.6,1075.57 1056.73,1081.43 1061.85,1087.23 \n",
       "  1066.97,1092.97 1072.1,1098.65 1077.22,1104.28 1082.34,1109.86 1087.47,1115.37 1092.59,1120.83 1097.71,1126.23 1102.84,1131.58 1107.96,1136.86 1113.08,1142.09 \n",
       "  1118.21,1147.27 1123.33,1152.38 1128.45,1157.44 1133.58,1162.44 1138.7,1167.38 1143.82,1172.26 1148.94,1177.09 1154.07,1181.86 1159.19,1186.57 1164.31,1191.22 \n",
       "  1169.44,1195.82 1174.56,1200.36 1179.68,1204.84 1184.81,1209.26 1189.93,1213.63 1195.05,1217.94 1200.18,1222.2 1205.3,1226.4 1210.42,1230.54 1215.55,1234.62 \n",
       "  1220.67,1238.66 1225.79,1242.63 1230.92,1246.55 1236.04,1250.42 1241.16,1254.23 1246.29,1257.99 1251.41,1261.69 1256.53,1265.34 1261.66,1268.93 1266.78,1272.48 \n",
       "  1271.9,1275.97 1277.03,1279.41 1282.15,1282.79 1287.27,1286.13 1292.4,1289.41 1297.52,1292.64 1302.64,1295.82 1307.77,1298.96 1312.89,1302.04 1318.01,1305.07 \n",
       "  1323.14,1308.05 1328.26,1310.99 1333.38,1313.88 1338.51,1316.72 1343.63,1319.51 1348.75,1322.26 1353.88,1324.96 1359,1327.61 1364.12,1330.22 1369.24,1332.79 \n",
       "  1374.37,1335.31 1379.49,1337.79 1384.61,1340.22 1389.74,1342.61 1394.86,1344.96 1399.98,1347.26 1405.11,1349.53 1410.23,1351.75 1415.35,1353.93 1420.48,1356.07 \n",
       "  1425.6,1358.18 1430.72,1360.24 1435.85,1362.27 1440.97,1364.25 1446.09,1366.2 1451.22,1368.12 1456.34,1369.99 1461.46,1371.83 1466.59,1373.63 1471.71,1375.4 \n",
       "  1476.83,1377.14 1481.96,1378.84 1487.08,1380.5 1492.2,1382.13 1497.33,1383.73 1502.45,1385.3 1507.57,1386.84 1512.7,1388.34 1517.82,1389.81 1522.94,1391.26 \n",
       "  1528.07,1392.67 1533.19,1394.05 1538.31,1395.41 1543.44,1396.73 1548.56,1398.03 1553.68,1399.3 1558.81,1400.54 1563.93,1401.76 1569.05,1402.95 1574.17,1404.11 \n",
       "  1579.3,1405.25 1584.42,1406.36 1589.54,1407.45 1594.67,1408.51 1599.79,1409.55 1604.91,1410.57 1610.04,1411.56 1615.16,1412.53 1620.28,1413.48 1625.41,1414.41 \n",
       "  1630.53,1415.31 1635.65,1416.2 1640.78,1417.06 1645.9,1417.91 1651.02,1418.73 1656.15,1419.54 1661.27,1420.32 1666.39,1421.09 1671.52,1421.84 1676.64,1422.57 \n",
       "  1681.76,1423.28 1686.89,1423.98 1692.01,1424.66 1697.13,1425.32 1702.26,1425.96 1707.38,1426.59 1712.5,1427.21 1717.63,1427.81 1722.75,1428.39 1727.87,1428.96 \n",
       "  1733,1429.51 1738.12,1430.05 1743.24,1430.58 1748.37,1431.09 1753.49,1431.59 1758.61,1432.08 1763.74,1432.56 1768.86,1433.02 1773.98,1433.47 1779.11,1433.91 \n",
       "  1784.23,1434.33 1789.35,1434.75 1794.47,1435.15 1799.6,1435.55 1804.72,1435.93 1809.84,1436.3 1814.97,1436.67 1820.09,1437.02 1825.21,1437.36 1830.34,1437.7 \n",
       "  1835.46,1438.02 1840.58,1438.34 1845.71,1438.65 1850.83,1438.94 1855.95,1439.23 1861.08,1439.52 1866.2,1439.79 1871.32,1440.06 1876.45,1440.32 1881.57,1440.57 \n",
       "  1886.69,1440.81 1891.82,1441.05 1896.94,1441.28 1902.06,1441.5 1907.19,1441.72 1912.31,1441.93 1917.43,1442.14 1922.56,1442.34 1927.68,1442.53 1932.8,1442.72 \n",
       "  1937.93,1442.9 1943.05,1443.08 1948.17,1443.25 1953.3,1443.41 1958.42,1443.58 1963.54,1443.73 1968.67,1443.88 1973.79,1444.03 1978.91,1444.17 1984.04,1444.31 \n",
       "  1989.16,1444.45 1994.28,1444.58 1999.41,1444.7 2004.53,1444.82 2009.65,1444.94 2014.77,1445.06 2019.9,1445.17 2025.02,1445.27 2030.14,1445.38 2035.27,1445.48 \n",
       "  2040.39,1445.58 2045.51,1445.67 2050.64,1445.76 2055.76,1445.85 2060.88,1445.94 2066.01,1446.02 2071.13,1446.1 2076.25,1446.18 2081.38,1446.25 2086.5,1446.32 \n",
       "  2091.62,1446.39 2096.75,1446.46 2101.87,1446.53 2106.99,1446.59 2112.12,1446.65 2117.24,1446.71 2122.36,1446.77 2127.49,1446.83 2132.61,1446.88 2137.73,1446.93 \n",
       "  2142.86,1446.98 2147.98,1447.03 2153.1,1447.08 2158.23,1447.12 2163.35,1447.17 2168.47,1447.21 2173.6,1447.25 2178.72,1447.29 2183.84,1447.32 2188.97,1447.36 \n",
       "  2194.09,1447.4 2199.21,1447.43 2204.34,1447.46 2209.46,1447.5 2214.58,1447.53 2219.7,1447.56 2224.83,1447.58 2229.95,1447.61 2235.07,1447.64 2240.2,1447.66 \n",
       "  2245.32,1447.69 2250.44,1447.71 2255.57,1447.73 2260.69,1447.76 2265.81,1447.78 2270.94,1447.8 2276.06,1447.82 2281.18,1447.84 2286.31,1447.86 2291.43,1447.87 \n",
       "  \n",
       "  \"/>\n",
       "<polyline clip-path=\"url(#clip582)\" style=\"stroke:#c271d2; stroke-linecap:butt; stroke-linejoin:round; stroke-width:4; stroke-opacity:1; fill:none\" points=\"\n",
       "  247.252,162.047 247.763,162.048 248.274,162.049 248.786,162.053 249.297,162.057 249.808,162.063 250.319,162.07 250.83,162.078 251.342,162.088 251.853,162.099 \n",
       "  252.364,162.111 252.875,162.125 253.386,162.14 253.897,162.156 254.409,162.173 254.92,162.192 255.431,162.212 255.942,162.233 256.453,162.255 256.964,162.279 \n",
       "  257.476,162.304 257.987,162.331 258.498,162.358 259.009,162.387 259.52,162.417 260.031,162.449 260.543,162.482 261.054,162.516 261.565,162.551 262.076,162.588 \n",
       "  262.587,162.626 263.098,162.665 263.61,162.706 264.121,162.747 264.632,162.791 265.143,162.835 265.654,162.881 266.166,162.927 266.677,162.976 267.188,163.025 \n",
       "  267.699,163.076 268.21,163.128 268.721,163.181 269.233,163.236 269.744,163.292 270.255,163.349 270.766,163.408 271.277,163.468 271.788,163.529 272.3,163.591 \n",
       "  272.811,163.655 273.322,163.719 273.833,163.786 274.344,163.853 274.855,163.922 275.367,163.992 275.878,164.063 276.389,164.136 276.9,164.21 277.411,164.285 \n",
       "  277.922,164.361 278.434,164.439 278.945,164.518 279.456,164.598 279.967,164.68 280.478,164.763 280.99,164.847 281.501,164.932 282.012,165.019 282.523,165.107 \n",
       "  283.034,165.196 283.545,165.286 284.057,165.378 284.568,165.471 285.079,165.566 285.59,165.661 286.101,165.758 286.612,165.856 287.124,165.956 287.635,166.056 \n",
       "  288.146,166.158 288.657,166.262 289.168,166.366 289.679,166.472 290.191,166.579 290.702,166.687 291.213,166.797 291.724,166.908 292.235,167.02 292.746,167.134 \n",
       "  293.258,167.248 293.769,167.364 294.28,167.482 294.791,167.6 295.302,167.72 295.814,167.841 296.325,167.963 296.836,168.087 297.347,168.212 297.858,168.338 \n",
       "  298.369,168.465 298.881,168.594 299.392,168.724 299.903,168.855 300.414,168.988 300.925,169.121 301.436,169.256 301.948,169.393 302.459,169.53 302.97,169.669 \n",
       "  303.481,169.809 303.992,169.95 304.503,170.093 305.015,170.237 305.526,170.382 306.037,170.528 306.548,170.676 307.059,170.825 307.57,170.975 308.082,171.127 \n",
       "  308.593,171.279 309.104,171.433 309.615,171.588 310.126,171.745 310.638,171.903 311.149,172.062 311.66,172.222 312.171,172.383 312.682,172.546 313.193,172.71 \n",
       "  313.705,172.875 314.216,173.042 314.727,173.21 315.238,173.379 315.749,173.549 316.26,173.721 316.772,173.893 317.283,174.067 317.794,174.243 318.305,174.419 \n",
       "  318.816,174.597 319.327,174.776 319.839,174.956 320.35,175.138 320.861,175.321 321.372,175.505 321.883,175.69 322.394,175.876 322.906,176.064 323.417,176.253 \n",
       "  323.928,176.443 324.439,176.635 324.95,176.828 325.462,177.022 325.973,177.217 326.484,177.413 326.995,177.611 327.506,177.81 328.017,178.01 328.529,178.212 \n",
       "  329.04,178.414 329.551,178.618 330.062,178.823 330.573,179.03 331.084,179.237 331.596,179.446 332.107,179.656 332.618,179.868 333.129,180.08 333.64,180.294 \n",
       "  334.151,180.509 334.663,180.725 335.174,180.943 335.685,181.161 336.196,181.381 336.707,181.602 337.218,181.825 337.73,182.048 338.241,182.273 338.752,182.499 \n",
       "  339.263,182.727 339.774,182.955 340.286,183.185 340.797,183.416 341.308,183.648 341.819,183.882 342.33,184.116 342.841,184.352 343.353,184.589 343.864,184.827 \n",
       "  344.375,185.067 344.886,185.308 345.397,185.55 345.908,185.793 346.42,186.037 346.931,186.283 347.442,186.53 347.953,186.778 348.464,187.027 348.975,187.277 \n",
       "  349.487,187.529 349.998,187.782 350.509,188.036 351.02,188.291 351.531,188.548 352.042,188.806 352.554,189.065 353.065,189.325 353.576,189.586 354.087,189.849 \n",
       "  354.598,190.112 355.11,190.377 355.621,190.643 356.132,190.911 356.643,191.179 357.154,191.449 357.665,191.72 358.177,191.992 358.688,192.266 359.199,192.54 \n",
       "  359.71,192.816 360.221,193.093 360.732,193.371 361.244,193.65 361.755,193.931 362.266,194.213 362.777,194.495 363.288,194.78 363.799,195.065 364.311,195.351 \n",
       "  364.822,195.639 365.333,195.928 365.844,196.218 366.355,196.509 366.866,196.802 367.378,197.095 367.889,197.39 368.4,197.686 368.911,197.983 369.422,198.281 \n",
       "  369.934,198.581 370.445,198.881 370.956,199.183 371.467,199.486 371.978,199.791 372.489,200.096 373.001,200.402 373.512,200.71 374.023,201.019 374.534,201.329 \n",
       "  375.045,201.64 375.556,201.953 376.068,202.266 376.579,202.581 377.09,202.897 377.601,203.214 378.112,203.532 378.623,203.852 379.135,204.172 379.646,204.494 \n",
       "  380.157,204.817 380.668,205.141 381.179,205.466 381.69,205.793 382.202,206.12 382.713,206.449 383.224,206.779 383.735,207.11 384.246,207.442 384.758,207.775 \n",
       "  385.269,208.109 385.78,208.445 386.291,208.782 386.802,209.12 387.313,209.459 387.825,209.799 388.336,210.14 388.847,210.483 389.358,210.826 389.869,211.171 \n",
       "  390.38,211.517 390.892,211.864 391.403,212.212 391.914,212.562 392.425,212.912 392.936,213.264 393.447,213.616 393.959,213.97 394.47,214.325 394.981,214.681 \n",
       "  395.492,215.039 396.003,215.397 396.514,215.756 397.026,216.117 397.537,216.479 398.048,216.842 398.559,217.206 399.07,217.571 399.582,217.937 400.093,218.305 \n",
       "  400.604,218.673 401.115,219.043 401.626,219.414 402.137,219.785 402.649,220.158 403.16,220.533 403.671,220.908 404.182,221.284 404.693,221.661 405.204,222.04 \n",
       "  405.716,222.42 406.227,222.8 406.738,223.182 407.249,223.565 407.76,223.949 408.271,224.335 408.783,224.721 409.294,225.108 409.805,225.497 410.316,225.886 \n",
       "  410.827,226.277 411.338,226.669 411.85,227.062 412.361,227.456 412.872,227.851 413.383,228.247 413.894,228.644 414.406,229.043 414.917,229.442 415.428,229.843 \n",
       "  415.939,230.244 416.45,230.647 416.961,231.051 417.473,231.456 417.984,231.862 418.495,232.269 419.006,232.677 419.517,233.086 420.028,233.496 420.54,233.907 \n",
       "  421.051,234.32 421.562,234.733 422.073,235.148 422.584,235.564 423.095,235.98 423.607,236.398 424.118,236.817 424.629,237.237 425.14,237.658 425.651,238.08 \n",
       "  426.162,238.503 426.674,238.927 427.185,239.352 427.696,239.779 428.207,240.206 428.718,240.634 429.23,241.064 429.741,241.494 430.252,241.926 430.763,242.359 \n",
       "  431.274,242.792 431.785,243.227 432.297,243.663 432.808,244.1 433.319,244.538 433.83,244.976 434.341,245.416 434.852,245.857 435.364,246.299 435.875,246.743 \n",
       "  436.386,247.187 436.897,247.632 437.408,248.078 437.919,248.525 438.431,248.973 438.942,249.423 439.453,249.873 439.964,250.324 440.475,250.777 440.986,251.23 \n",
       "  441.498,251.685 442.009,252.14 442.52,252.597 443.031,253.054 443.542,253.513 444.054,253.972 444.565,254.433 445.076,254.894 445.587,255.357 446.098,255.82 \n",
       "  446.609,256.285 447.121,256.751 447.632,257.217 448.143,257.685 448.654,258.154 449.165,258.623 449.676,259.094 450.188,259.566 450.699,260.038 451.21,260.512 \n",
       "  451.721,260.987 452.232,261.462 452.743,261.939 453.255,262.417 453.766,262.895 454.277,263.375 454.788,263.856 455.299,264.337 455.81,264.82 456.322,265.303 \n",
       "  456.833,265.788 457.344,266.273 457.855,266.76 458.366,267.248 458.878,267.736 459.389,268.226 459.9,268.716 460.411,269.207 460.922,269.7 461.433,270.193 \n",
       "  461.945,270.688 462.456,271.183 462.967,271.679 463.478,272.177 463.989,272.675 464.5,273.174 465.012,273.674 465.523,274.175 466.034,274.677 466.545,275.18 \n",
       "  467.056,275.684 467.567,276.189 468.079,276.695 468.59,277.202 469.101,277.71 469.612,278.219 470.123,278.728 470.634,279.239 471.146,279.751 471.657,280.263 \n",
       "  472.168,280.777 472.679,281.291 473.19,281.807 473.702,282.323 474.213,282.84 474.724,283.358 475.235,283.877 475.746,284.398 476.257,284.919 476.769,285.44 \n",
       "  477.28,285.963 477.791,286.487 478.302,287.012 478.813,287.537 479.324,288.064 479.836,288.591 480.347,289.12 480.858,289.649 481.369,290.179 481.88,290.711 \n",
       "  482.391,291.243 482.903,291.776 483.414,292.309 483.925,292.844 484.436,293.38 484.947,293.917 485.458,294.454 485.97,294.992 486.481,295.532 486.992,296.072 \n",
       "  487.503,296.613 488.014,297.155 488.526,297.698 489.037,298.242 489.548,298.787 490.059,299.332 490.57,299.879 491.081,300.426 491.593,300.974 492.104,301.523 \n",
       "  492.615,302.073 493.126,302.624 493.637,303.176 494.148,303.729 494.66,304.282 495.171,304.837 495.682,305.392 496.193,305.948 496.704,306.505 497.215,307.063 \n",
       "  497.727,307.622 498.238,308.182 498.749,308.742 499.26,309.303 499.771,309.866 500.282,310.429 500.794,310.993 501.305,311.558 501.816,312.123 502.327,312.69 \n",
       "  502.838,313.257 503.35,313.825 503.861,314.394 504.372,314.964 504.883,315.535 505.394,316.107 505.905,316.679 506.417,317.253 506.928,317.827 507.439,318.402 \n",
       "  507.95,318.978 508.461,319.554 508.972,320.132 509.484,320.71 509.995,321.289 510.506,321.869 511.017,322.45 511.528,323.032 512.039,323.614 512.551,324.197 \n",
       "  513.062,324.782 513.573,325.366 514.084,325.952 514.595,326.539 515.106,327.126 515.618,327.714 516.129,328.303 516.64,328.893 517.151,329.484 517.662,330.075 \n",
       "  518.174,330.667 518.685,331.261 519.196,331.854 519.707,332.449 520.218,333.044 520.729,333.641 521.241,334.238 521.752,334.836 522.263,335.434 522.774,336.034 \n",
       "  523.285,336.634 523.796,337.235 524.308,337.837 524.819,338.439 525.33,339.043 525.841,339.647 526.352,340.252 526.863,340.857 527.375,341.464 527.886,342.071 \n",
       "  528.397,342.679 528.908,343.288 529.419,343.897 529.93,344.508 530.442,345.119 530.953,345.731 531.464,346.343 531.975,346.957 532.486,347.571 532.998,348.186 \n",
       "  533.509,348.801 534.02,349.418 534.531,350.035 535.042,350.653 535.553,351.271 536.065,351.891 536.576,352.511 537.087,353.132 537.598,353.754 538.109,354.376 \n",
       "  538.62,354.999 539.132,355.623 539.643,356.248 540.154,356.873 540.665,357.499 541.176,358.126 541.687,358.753 542.199,359.382 542.71,360.01 543.221,360.64 \n",
       "  543.732,361.271 544.243,361.902 544.754,362.534 545.266,363.166 545.777,363.8 546.288,364.434 546.799,365.068 547.31,365.704 547.822,366.34 548.333,366.977 \n",
       "  548.844,367.614 549.355,368.253 549.866,368.892 550.377,369.531 550.889,370.172 551.4,370.813 551.911,371.455 552.422,372.097 552.933,372.74 553.444,373.384 \n",
       "  553.956,374.029 554.467,374.674 554.978,375.32 555.489,375.966 556,376.614 556.511,377.262 557.023,377.91 557.534,378.56 558.045,379.21 558.556,379.86 \n",
       "  559.067,380.512 559.578,381.164 560.09,381.816 560.601,382.47 561.112,383.124 561.623,383.778 562.134,384.434 562.646,385.09 563.157,385.746 563.668,386.404 \n",
       "  564.179,387.062 564.69,387.72 565.201,388.38 565.713,389.039 566.224,389.7 566.735,390.361 567.246,391.023 567.757,391.686 568.268,392.349 568.78,393.013 \n",
       "  569.291,393.677 569.802,394.342 570.313,395.008 570.824,395.674 571.335,396.341 571.847,397.009 572.358,397.677 572.869,398.346 573.38,399.015 573.891,399.685 \n",
       "  574.402,400.356 574.914,401.027 575.425,401.699 575.936,402.372 576.447,403.045 576.958,403.719 577.47,404.393 577.981,405.068 578.492,405.744 579.003,406.42 \n",
       "  579.514,407.097 580.025,407.774 580.537,408.452 581.048,409.131 581.559,409.81 582.07,410.49 582.581,411.17 583.092,411.851 583.604,412.533 584.115,413.215 \n",
       "  584.626,413.898 585.137,414.581 585.648,415.265 586.159,415.95 586.671,416.635 587.182,417.32 587.693,418.007 588.204,418.693 588.715,419.381 589.226,420.069 \n",
       "  589.738,420.757 590.249,421.446 590.76,422.136 591.271,422.826 591.782,423.517 592.294,424.208 592.805,424.9 593.316,425.593 593.827,426.286 594.338,426.979 \n",
       "  594.849,427.673 595.361,428.368 595.872,429.063 596.383,429.759 596.894,430.455 597.405,431.152 597.916,431.849 598.428,432.547 598.939,433.246 599.45,433.945 \n",
       "  599.961,434.644 600.472,435.344 600.983,436.045 601.495,436.746 602.006,437.448 602.517,438.15 603.028,438.852 603.539,439.556 604.05,440.259 604.562,440.963 \n",
       "  605.073,441.668 605.584,442.373 606.095,443.079 606.606,443.786 607.118,444.492 607.629,445.2 608.14,445.907 608.651,446.616 609.162,447.324 609.673,448.034 \n",
       "  610.185,448.744 610.696,449.454 611.207,450.165 611.718,450.876 612.229,451.588 612.74,452.3 613.252,453.013 613.763,453.726 614.274,454.44 614.785,455.154 \n",
       "  615.296,455.869 615.807,456.584 616.319,457.299 616.83,458.015 617.341,458.732 617.852,459.449 618.363,460.167 618.874,460.884 619.386,461.603 619.897,462.322 \n",
       "  620.408,463.041 620.919,463.761 621.43,464.481 621.942,465.202 622.453,465.923 622.964,466.645 623.475,467.367 623.986,468.09 624.497,468.813 625.009,469.536 \n",
       "  625.52,470.26 626.031,470.984 626.542,471.709 627.053,472.434 627.564,473.16 628.076,473.886 628.587,474.613 629.098,475.339 629.609,476.067 630.12,476.795 \n",
       "  630.631,477.523 631.143,478.252 631.654,478.981 632.165,479.71 632.676,480.44 633.187,481.17 633.698,481.901 634.21,482.632 634.721,483.364 635.232,484.096 \n",
       "  635.743,484.828 636.254,485.561 636.766,486.294 637.277,487.028 637.788,487.762 638.299,488.496 638.81,489.231 639.321,489.966 639.833,490.702 640.344,491.438 \n",
       "  640.855,492.175 641.366,492.911 641.877,493.648 642.388,494.386 642.9,495.124 643.411,495.862 643.922,496.601 644.433,497.34 644.944,498.08 645.455,498.819 \n",
       "  645.967,499.56 646.478,500.3 646.989,501.041 647.5,501.782 648.011,502.524 648.522,503.266 649.034,504.009 649.545,504.751 650.056,505.494 650.567,506.238 \n",
       "  651.078,506.982 651.59,507.726 652.101,508.47 652.612,509.215 653.123,509.961 653.634,510.706 654.145,511.452 654.657,512.198 655.168,512.945 655.679,513.692 \n",
       "  656.19,514.439 656.701,515.187 657.212,515.935 657.724,516.683 658.235,517.432 658.746,518.181 659.257,518.93 659.768,519.68 660.279,520.43 660.791,521.18 \n",
       "  661.302,521.93 661.813,522.681 662.324,523.433 662.835,524.184 663.346,524.936 663.858,525.688 664.369,526.441 664.88,527.193 665.391,527.946 665.902,528.7 \n",
       "  666.413,529.453 666.925,530.207 667.436,530.962 667.947,531.716 668.458,532.471 668.969,533.226 669.481,533.982 669.992,534.738 670.503,535.494 671.014,536.25 \n",
       "  671.525,537.007 672.036,537.763 672.548,538.521 673.059,539.278 673.57,540.036 674.081,540.794 674.592,541.552 675.103,542.311 675.615,543.07 676.126,543.829 \n",
       "  676.637,544.588 677.148,545.348 677.659,546.108 678.17,546.868 678.682,547.628 679.193,548.389 679.704,549.15 680.215,549.911 680.726,550.672 681.237,551.434 \n",
       "  681.749,552.196 682.26,552.958 682.771,553.721 683.282,554.483 683.793,555.246 684.305,556.009 684.816,556.773 685.327,557.537 685.838,558.3 686.349,559.065 \n",
       "  686.86,559.829 687.372,560.593 687.883,561.358 688.394,562.123 688.905,562.889 689.416,563.654 689.927,564.42 690.439,565.186 690.95,565.952 691.461,566.718 \n",
       "  691.972,567.485 692.483,568.252 692.994,569.019 693.506,569.786 694.017,570.553 694.528,571.321 695.039,572.089 695.55,572.857 696.061,573.625 696.573,574.394 \n",
       "  697.084,575.162 697.595,575.931 698.106,576.7 698.617,577.469 699.129,578.239 699.64,579.008 700.151,579.778 700.662,580.548 701.173,581.318 701.684,582.089 \n",
       "  702.196,582.859 702.707,583.63 703.218,584.401 703.729,585.172 704.24,585.943 704.751,586.715 705.263,587.486 705.774,588.258 706.285,589.03 706.796,589.802 \n",
       "  707.307,590.574 707.818,591.347 708.33,592.119 708.841,592.892 709.352,593.665 709.863,594.438 710.374,595.211 710.885,595.985 711.397,596.758 711.908,597.532 \n",
       "  712.419,598.306 712.93,599.08 713.441,599.854 713.953,600.628 714.464,601.402 714.975,602.177 715.486,602.951 715.997,603.726 716.508,604.501 717.02,605.276 \n",
       "  717.531,606.051 718.042,606.827 718.553,607.602 719.064,608.378 719.575,609.154 720.087,609.929 720.598,610.705 721.109,611.481 721.62,612.258 722.131,613.034 \n",
       "  722.642,613.81 723.154,614.587 723.665,615.363 724.176,616.14 724.687,616.917 725.198,617.694 725.709,618.471 726.221,619.248 726.732,620.025 727.243,620.803 \n",
       "  727.754,621.58 728.265,622.358 728.777,623.135 729.288,623.913 729.799,624.691 730.31,625.469 730.821,626.247 731.332,627.025 731.844,627.803 732.355,628.582 \n",
       "  732.866,629.36 733.377,630.138 733.888,630.917 734.399,631.695 734.911,632.474 735.422,633.253 735.933,634.032 736.444,634.81 736.955,635.589 737.466,636.368 \n",
       "  737.978,637.147 738.489,637.927 739,638.706 739.511,639.485 740.022,640.264 740.533,641.044 741.045,641.823 741.556,642.603 742.067,643.382 742.578,644.162 \n",
       "  743.089,644.941 743.601,645.721 744.112,646.501 744.623,647.281 745.134,648.06 745.645,648.84 746.156,649.62 746.668,650.4 747.179,651.18 747.69,651.96 \n",
       "  748.201,652.74 748.712,653.52 749.223,654.3 749.735,655.08 750.246,655.86 750.757,656.641 751.268,657.421 751.779,658.201 752.29,658.981 752.802,659.761 \n",
       "  753.313,660.542 753.824,661.322 754.335,662.102 754.846,662.883 755.357,663.663 755.869,664.443 756.38,665.224 756.891,666.004 757.402,666.784 757.913,667.565 \n",
       "  758.425,668.345 758.936,669.125 759.447,669.906 759.958,670.686 760.469,671.466 760.98,672.247 761.492,673.027 762.003,673.807 762.514,674.588 763.025,675.368 \n",
       "  763.536,676.148 764.047,676.928 764.559,677.709 765.07,678.489 765.581,679.269 766.092,680.049 766.603,680.829 767.114,681.61 767.626,682.39 768.137,683.17 \n",
       "  768.648,683.95 769.159,684.73 769.67,685.51 770.181,686.29 770.693,687.07 771.204,687.85 771.715,688.629 772.226,689.409 772.737,690.189 773.249,690.969 \n",
       "  773.76,691.748 774.271,692.528 774.782,693.307 775.293,694.087 775.804,694.866 776.316,695.646 776.827,696.425 777.338,697.205 777.849,697.984 778.36,698.763 \n",
       "  778.871,699.542 779.383,700.321 779.894,701.1 780.405,701.879 780.916,702.658 781.427,703.437 781.938,704.216 782.45,704.994 782.961,705.773 783.472,706.551 \n",
       "  783.983,707.33 784.494,708.108 785.005,708.887 785.517,709.665 786.028,710.443 786.539,711.221 787.05,711.999 787.561,712.777 788.073,713.555 788.584,714.332 \n",
       "  789.095,715.11 789.606,715.887 790.117,716.665 790.628,717.442 791.14,718.219 791.651,718.997 792.162,719.774 792.673,720.551 793.184,721.327 793.695,722.104 \n",
       "  794.207,722.881 794.718,723.657 795.229,724.434 795.74,725.21 796.251,725.986 796.762,726.762 797.274,727.538 797.785,728.314 798.296,729.09 798.807,729.866 \n",
       "  799.318,730.641 799.829,731.417 800.341,732.192 800.852,732.967 801.363,733.742 801.874,734.517 802.385,735.292 802.897,736.066 803.408,736.841 803.919,737.615 \n",
       "  804.43,738.39 804.941,739.164 805.452,739.938 805.964,740.712 806.475,741.485 806.986,742.259 807.497,743.032 808.008,743.806 808.519,744.579 809.031,745.352 \n",
       "  809.542,746.125 810.053,746.897 810.564,747.67 811.075,748.442 811.586,749.215 812.098,749.987 812.609,750.759 813.12,751.53 813.631,752.302 814.142,753.074 \n",
       "  814.653,753.845 815.165,754.616 815.676,755.387 816.187,756.158 816.698,756.929 817.209,757.699 817.721,758.469 818.232,759.24 818.743,760.009 819.254,760.779 \n",
       "  819.765,761.549 820.276,762.318 820.788,763.088 821.299,763.857 821.81,764.626 822.321,765.394 822.832,766.163 823.343,766.931 823.855,767.7 824.366,768.468 \n",
       "  824.877,769.235 825.388,770.003 825.899,770.771 826.41,771.538 826.922,772.305 827.433,773.072 827.944,773.838 828.455,774.605 828.966,775.371 829.477,776.137 \n",
       "  829.989,776.903 830.5,777.669 831.011,778.434 831.522,779.2 832.033,779.965 832.545,780.729 833.056,781.494 833.567,782.259 834.078,783.023 834.589,783.787 \n",
       "  835.1,784.551 835.612,785.314 836.123,786.078 836.634,786.841 837.145,787.604 837.656,788.366 838.167,789.129 838.679,789.891 839.19,790.653 839.701,791.415 \n",
       "  840.212,792.177 840.723,792.938 841.234,793.699 841.746,794.46 842.257,795.221 842.768,795.981 843.279,796.741 843.79,797.501 844.301,798.261 844.813,799.021 \n",
       "  845.324,799.78 845.835,800.539 846.346,801.298 846.857,802.056 847.369,802.815 847.88,803.573 848.391,804.331 848.902,805.088 849.413,805.845 849.924,806.603 \n",
       "  850.436,807.359 850.947,808.116 851.458,808.872 851.969,809.628 852.48,810.384 852.991,811.14 853.503,811.895 854.014,812.65 854.525,813.405 855.036,814.159 \n",
       "  855.547,814.913 856.058,815.667 856.57,816.421 857.081,817.175 857.592,817.928 858.103,818.681 858.614,819.433 859.125,820.186 859.637,820.938 860.148,821.69 \n",
       "  860.659,822.441 861.17,823.192 861.681,823.943 862.193,824.694 862.704,825.445 863.215,826.195 863.726,826.945 864.237,827.694 864.748,828.444 865.26,829.193 \n",
       "  865.771,829.941 866.282,830.69 866.793,831.438 867.304,832.186 867.815,832.933 868.327,833.681 868.838,834.428 869.349,835.174 869.86,835.921 870.371,836.667 \n",
       "  870.882,837.413 871.394,838.158 871.905,838.903 872.416,839.648 872.927,840.393 873.438,841.137 873.949,841.881 874.461,842.625 874.972,843.368 875.483,844.111 \n",
       "  875.994,844.854 876.505,845.597 877.017,846.339 877.528,847.081 878.039,847.822 878.55,848.563 879.061,849.304 879.572,850.045 880.084,850.785 880.595,851.525 \n",
       "  881.106,852.265 881.617,853.004 882.128,853.743 882.639,854.482 883.151,855.22 883.662,855.958 884.173,856.696 884.684,857.433 885.195,858.17 885.706,858.907 \n",
       "  886.218,859.643 886.729,860.379 887.24,861.115 887.751,861.85 888.262,862.585 888.773,863.32 889.285,864.054 889.796,864.788 890.307,865.522 890.818,866.255 \n",
       "  891.329,866.988 891.841,867.721 892.352,868.453 892.863,869.185 893.374,869.917 893.885,870.648 894.396,871.379 894.908,872.11 895.419,872.84 895.93,873.57 \n",
       "  896.441,874.299 896.952,875.028 897.463,875.757 897.975,876.486 898.486,877.214 898.997,877.941 899.508,878.669 900.019,879.396 900.53,880.123 901.042,880.849 \n",
       "  901.553,881.575 902.064,882.3 902.575,883.026 903.086,883.751 903.597,884.475 904.109,885.199 904.62,885.923 905.131,886.646 905.642,887.369 906.153,888.092 \n",
       "  906.665,888.814 907.176,889.536 907.687,890.258 908.198,890.979 908.709,891.7 909.22,892.42 909.732,893.14 910.243,893.86 910.754,894.579 911.265,895.298 \n",
       "  911.776,896.017 912.287,896.735 912.799,897.453 913.31,898.17 913.821,898.887 914.332,899.603 914.843,900.32 915.354,901.036 915.866,901.751 916.377,902.466 \n",
       "  916.888,903.181 917.399,903.895 917.91,904.609 918.421,905.322 918.933,906.035 919.444,906.748 919.955,907.46 920.466,908.172 920.977,908.884 921.489,909.595 \n",
       "  922,910.306 922.511,911.016 923.022,911.726 923.533,912.435 924.044,913.145 924.556,913.853 925.067,914.562 925.578,915.269 926.089,915.977 926.6,916.684 \n",
       "  927.111,917.391 927.623,918.097 928.134,918.803 928.645,919.508 929.156,920.213 929.667,920.918 930.178,921.622 930.69,922.326 931.201,923.029 931.712,923.732 \n",
       "  932.223,924.435 932.734,925.137 933.245,925.839 933.757,926.54 934.268,927.241 934.779,927.941 935.29,928.641 935.801,929.341 936.313,930.04 936.824,930.739 \n",
       "  937.335,931.437 937.846,932.135 938.357,932.833 938.868,933.53 939.38,934.226 939.891,934.922 940.402,935.618 940.913,936.313 941.424,937.008 941.935,937.703 \n",
       "  942.447,938.397 942.958,939.091 943.469,939.784 943.98,940.476 944.491,941.169 945.002,941.861 945.514,942.552 946.025,943.243 946.536,943.934 947.047,944.624 \n",
       "  947.558,945.313 948.069,946.003 948.581,946.691 949.092,947.38 949.603,948.068 950.114,948.755 950.625,949.442 951.137,950.129 951.648,950.815 952.159,951.5 \n",
       "  952.67,952.186 953.181,952.87 953.692,953.555 954.204,954.238 954.715,954.922 955.226,955.605 955.737,956.287 956.248,956.969 956.759,957.651 957.271,958.332 \n",
       "  957.782,959.013 958.293,959.693 958.804,960.373 959.315,961.052 959.826,961.731 960.338,962.409 960.849,963.087 961.36,963.765 961.871,964.442 962.382,965.118 \n",
       "  962.893,965.794 963.405,966.47 963.916,967.145 964.427,967.82 964.938,968.494 965.449,969.168 965.961,969.841 966.472,970.514 966.983,971.186 967.494,971.858 \n",
       "  968.005,972.53 968.516,973.201 969.028,973.871 969.539,974.541 970.05,975.211 970.561,975.88 971.072,976.548 971.583,977.216 972.095,977.884 972.606,978.551 \n",
       "  973.117,979.218 973.628,979.884 974.139,980.55 974.65,981.215 975.162,981.88 975.673,982.544 976.184,983.208 976.695,983.871 977.206,984.534 977.717,985.196 \n",
       "  978.229,985.858 978.74,986.519 979.251,987.18 979.762,987.841 980.273,988.501 980.785,989.16 981.296,989.819 981.807,990.478 982.318,991.136 982.829,991.793 \n",
       "  983.34,992.45 983.852,993.107 984.363,993.763 984.874,994.418 985.385,995.073 985.896,995.728 986.407,996.382 986.919,997.035 987.43,997.688 987.941,998.341 \n",
       "  988.452,998.993 988.963,999.645 989.474,1000.3 989.986,1000.95 990.497,1001.6 991.008,1002.25 991.519,1002.9 992.03,1003.54 992.541,1004.19 993.053,1004.84 \n",
       "  993.564,1005.49 994.075,1006.13 994.586,1006.78 995.097,1007.42 995.609,1008.07 996.12,1008.71 996.631,1009.36 997.142,1010 997.653,1010.65 998.164,1011.29 \n",
       "  998.676,1011.93 999.187,1012.57 999.698,1013.21 1000.21,1013.85 1000.72,1014.49 1001.23,1015.13 1001.74,1015.77 1002.25,1016.41 1002.76,1017.05 1003.28,1017.69 \n",
       "  1003.79,1018.32 1004.3,1018.96 1004.81,1019.59 1005.32,1020.23 1005.83,1020.86 1006.34,1021.5 1006.85,1022.13 1007.37,1022.77 1007.88,1023.4 1008.39,1024.03 \n",
       "  1008.9,1024.66 1009.41,1025.29 1009.92,1025.93 1010.43,1026.56 1010.94,1027.19 1011.45,1027.81 1011.97,1028.44 1012.48,1029.07 1012.99,1029.7 1013.5,1030.33 \n",
       "  1014.01,1030.95 1014.52,1031.58 1015.03,1032.2 1015.54,1032.83 1016.06,1033.45 1016.57,1034.08 1017.08,1034.7 1017.59,1035.32 1018.1,1035.95 1018.61,1036.57 \n",
       "  1019.12,1037.19 1019.63,1037.81 1020.14,1038.43 1020.66,1039.05 1021.17,1039.67 1021.68,1040.29 1022.19,1040.91 1022.7,1041.52 1023.21,1042.14 1023.72,1042.76 \n",
       "  1024.23,1043.37 1024.75,1043.99 1025.26,1044.61 1025.77,1045.22 1026.28,1045.83 1026.79,1046.45 1027.3,1047.06 1027.81,1047.67 1028.32,1048.28 1028.83,1048.9 \n",
       "  1029.35,1049.51 1029.86,1050.12 1030.37,1050.73 1030.88,1051.33 1031.39,1051.94 1031.9,1052.55 1032.41,1053.16 1032.92,1053.77 1033.44,1054.37 1033.95,1054.98 \n",
       "  1034.46,1055.58 1034.97,1056.19 1035.48,1056.79 1035.99,1057.4 1036.5,1058 1037.01,1058.6 1037.52,1059.2 1038.04,1059.81 1038.55,1060.41 1039.06,1061.01 \n",
       "  1039.57,1061.61 1040.08,1062.21 1040.59,1062.81 1041.1,1063.4 1041.61,1064 1042.13,1064.6 1042.64,1065.2 1043.15,1065.79 1043.66,1066.39 1044.17,1066.98 \n",
       "  1044.68,1067.58 1045.19,1068.17 1045.7,1068.76 1046.21,1069.36 1046.73,1069.95 1047.24,1070.54 1047.75,1071.13 1048.26,1071.72 1048.77,1072.31 1049.28,1072.9 \n",
       "  1049.79,1073.49 1050.3,1074.08 1050.82,1074.67 1051.33,1075.26 1051.84,1075.84 1052.35,1076.43 1052.86,1077.01 1053.37,1077.6 1053.88,1078.18 1054.39,1078.77 \n",
       "  1054.9,1079.35 1055.42,1079.94 1055.93,1080.52 1056.44,1081.1 1056.95,1081.68 1057.46,1082.26 1057.97,1082.84 1058.48,1083.42 1058.99,1084 1059.51,1084.58 \n",
       "  1060.02,1085.16 1060.53,1085.73 1061.04,1086.31 1061.55,1086.89 1062.06,1087.46 1062.57,1088.04 1063.08,1088.61 1063.59,1089.19 1064.11,1089.76 1064.62,1090.33 \n",
       "  1065.13,1090.91 1065.64,1091.48 1066.15,1092.05 1066.66,1092.62 1067.17,1093.19 1067.68,1093.76 1068.2,1094.33 1068.71,1094.9 1069.22,1095.46 1069.73,1096.03 \n",
       "  1070.24,1096.6 1070.75,1097.17 1071.26,1097.73 1071.77,1098.3 1072.28,1098.86 1072.8,1099.42 1073.31,1099.99 1073.82,1100.55 1074.33,1101.11 1074.84,1101.68 \n",
       "  1075.35,1102.24 1075.86,1102.8 1076.37,1103.36 1076.88,1103.92 1077.4,1104.48 1077.91,1105.03 1078.42,1105.59 1078.93,1106.15 1079.44,1106.71 1079.95,1107.26 \n",
       "  1080.46,1107.82 1080.97,1108.37 1081.49,1108.93 1082,1109.48 1082.51,1110.03 1083.02,1110.59 1083.53,1111.14 1084.04,1111.69 1084.55,1112.24 1085.06,1112.79 \n",
       "  1085.57,1113.34 1086.09,1113.89 1086.6,1114.44 1087.11,1114.99 1087.62,1115.54 1088.13,1116.08 1088.64,1116.63 1089.15,1117.18 1089.66,1117.72 1090.18,1118.27 \n",
       "  1090.69,1118.81 1091.2,1119.35 1091.71,1119.9 1092.22,1120.44 1092.73,1120.98 1093.24,1121.52 1093.75,1122.06 1094.26,1122.6 1094.78,1123.14 1095.29,1123.68 \n",
       "  1095.8,1124.22 1096.31,1124.76 1096.82,1125.3 1097.33,1125.83 1097.84,1126.37 1098.35,1126.9 1098.87,1127.44 1099.38,1127.97 1099.89,1128.51 1100.4,1129.04 \n",
       "  1100.91,1129.57 1101.42,1130.11 1101.93,1130.64 1102.44,1131.17 1102.95,1131.7 1103.47,1132.23 1103.98,1132.76 1104.49,1133.29 1105,1133.82 1105.51,1134.34 \n",
       "  1106.02,1134.87 1106.53,1135.4 1107.04,1135.92 1107.56,1136.45 1108.07,1136.97 1108.58,1137.5 1109.09,1138.02 1109.6,1138.55 1110.11,1139.07 1110.62,1139.59 \n",
       "  1111.13,1140.11 1111.64,1140.63 1112.16,1141.15 1112.67,1141.67 1113.18,1142.19 1113.69,1142.71 1114.2,1143.23 1114.71,1143.74 1115.22,1144.26 1115.73,1144.78 \n",
       "  1116.25,1145.29 1116.76,1145.81 1117.27,1146.32 1117.78,1146.84 1118.29,1147.35 1118.8,1147.86 1119.31,1148.38 1119.82,1148.89 1120.33,1149.4 1120.85,1149.91 \n",
       "  1121.36,1150.42 1121.87,1150.93 1122.38,1151.44 1122.89,1151.94 1123.4,1152.45 1123.91,1152.96 1124.42,1153.47 1124.94,1153.97 1125.45,1154.48 1125.96,1154.98 \n",
       "  1126.47,1155.49 1126.98,1155.99 1127.49,1156.49 1128,1157 1128.51,1157.5 1129.02,1158 1129.54,1158.5 1130.05,1159 1130.56,1159.5 1131.07,1160 \n",
       "  1131.58,1160.5 1132.09,1160.99 1132.6,1161.49 1133.11,1161.99 1133.63,1162.48 1134.14,1162.98 1134.65,1163.48 1135.16,1163.97 1135.67,1164.46 1136.18,1164.96 \n",
       "  1136.69,1165.45 1137.2,1165.94 1137.71,1166.43 1138.23,1166.92 1138.74,1167.41 1139.25,1167.9 1139.76,1168.39 1140.27,1168.88 1140.78,1169.37 1141.29,1169.86 \n",
       "  1141.8,1170.34 1142.32,1170.83 1142.83,1171.32 1143.34,1171.8 1143.85,1172.29 1144.36,1172.77 1144.87,1173.25 1145.38,1173.74 1145.89,1174.22 1146.4,1174.7 \n",
       "  1146.92,1175.18 1147.43,1175.66 1147.94,1176.14 1148.45,1176.62 1148.96,1177.1 1149.47,1177.58 1149.98,1178.06 1150.49,1178.54 1151,1179.01 1151.52,1179.49 \n",
       "  1152.03,1179.96 1152.54,1180.44 1153.05,1180.91 1153.56,1181.39 1154.07,1181.86 1154.58,1182.33 1155.09,1182.8 1155.61,1183.28 1156.12,1183.75 1156.63,1184.22 \n",
       "  1157.14,1184.69 1157.65,1185.16 1158.16,1185.62 1158.67,1186.09 1159.18,1186.56 1159.69,1187.03 1160.21,1187.49 1160.72,1187.96 1161.23,1188.42 1161.74,1188.89 \n",
       "  1162.25,1189.35 1162.76,1189.82 1163.27,1190.28 1163.78,1190.74 1164.3,1191.2 1164.81,1191.66 1165.32,1192.13 1165.83,1192.59 1166.34,1193.04 1166.85,1193.5 \n",
       "  1167.36,1193.96 1167.87,1194.42 1168.38,1194.88 1168.9,1195.33 1169.41,1195.79 1169.92,1196.25 1170.43,1196.7 1170.94,1197.15 1171.45,1197.61 1171.96,1198.06 \n",
       "  1172.47,1198.51 1172.99,1198.97 1173.5,1199.42 1174.01,1199.87 1174.52,1200.32 1175.03,1200.77 1175.54,1201.22 1176.05,1201.67 1176.56,1202.11 1177.07,1202.56 \n",
       "  1177.59,1203.01 1178.1,1203.46 1178.61,1203.9 1179.12,1204.35 1179.63,1204.79 1180.14,1205.24 1180.65,1205.68 1181.16,1206.12 1181.68,1206.56 1182.19,1207.01 \n",
       "  1182.7,1207.45 1183.21,1207.89 1183.72,1208.33 1184.23,1208.77 1184.74,1209.21 1185.25,1209.65 1185.76,1210.08 1186.28,1210.52 1186.79,1210.96 1187.3,1211.39 \n",
       "  1187.81,1211.83 1188.32,1212.26 1188.83,1212.7 1189.34,1213.13 1189.85,1213.57 1190.37,1214 1190.88,1214.43 1191.39,1214.86 1191.9,1215.29 1192.41,1215.72 \n",
       "  1192.92,1216.15 1193.43,1216.58 1193.94,1217.01 1194.45,1217.44 1194.97,1217.87 1195.48,1218.3 1195.99,1218.72 1196.5,1219.15 1197.01,1219.57 1197.52,1220 \n",
       "  1198.03,1220.42 1198.54,1220.85 1199.06,1221.27 1199.57,1221.69 1200.08,1222.11 1200.59,1222.54 1201.1,1222.96 1201.61,1223.38 1202.12,1223.8 1202.63,1224.22 \n",
       "  1203.14,1224.64 1203.66,1225.05 1204.17,1225.47 1204.68,1225.89 1205.19,1226.3 1205.7,1226.72 1206.21,1227.14 1206.72,1227.55 1207.23,1227.97 1207.75,1228.38 \n",
       "  1208.26,1228.79 1208.77,1229.2 1209.28,1229.62 1209.79,1230.03 1210.3,1230.44 1210.81,1230.85 1211.32,1231.26 1211.83,1231.67 1212.35,1232.08 1212.86,1232.49 \n",
       "  1213.37,1232.89 1213.88,1233.3 1214.39,1233.71 1214.9,1234.11 1215.41,1234.52 1215.92,1234.92 1216.44,1235.33 1216.95,1235.73 1217.46,1236.13 1217.97,1236.54 \n",
       "  1218.48,1236.94 1218.99,1237.34 1219.5,1237.74 1220.01,1238.14 1220.52,1238.54 1221.04,1238.94 1221.55,1239.34 1222.06,1239.74 1222.57,1240.14 1223.08,1240.53 \n",
       "  1223.59,1240.93 1224.1,1241.33 1224.61,1241.72 1225.12,1242.12 1225.64,1242.51 1226.15,1242.9 1226.66,1243.3 1227.17,1243.69 1227.68,1244.08 1228.19,1244.47 \n",
       "  1228.7,1244.86 1229.21,1245.26 1229.73,1245.65 1230.24,1246.03 1230.75,1246.42 1231.26,1246.81 1231.77,1247.2 1232.28,1247.59 1232.79,1247.97 1233.3,1248.36 \n",
       "  1233.81,1248.75 1234.33,1249.13 1234.84,1249.52 1235.35,1249.9 1235.86,1250.28 1236.37,1250.67 1236.88,1251.05 1237.39,1251.43 1237.9,1251.81 1238.42,1252.19 \n",
       "  1238.93,1252.57 1239.44,1252.95 1239.95,1253.33 1240.46,1253.71 1240.97,1254.09 1241.48,1254.46 1241.99,1254.84 1242.5,1255.22 1243.02,1255.59 1243.53,1255.97 \n",
       "  1244.04,1256.34 1244.55,1256.72 1245.06,1257.09 1245.57,1257.46 1246.08,1257.84 1246.59,1258.21 1247.11,1258.58 1247.62,1258.95 1248.13,1259.32 1248.64,1259.69 \n",
       "  1249.15,1260.06 1249.66,1260.43 1250.17,1260.8 1250.68,1261.17 1251.19,1261.53 1251.71,1261.9 1252.22,1262.27 1252.73,1262.63 1253.24,1263 1253.75,1263.36 \n",
       "  1254.26,1263.73 1254.77,1264.09 1255.28,1264.45 1255.8,1264.82 1256.31,1265.18 1256.82,1265.54 1257.33,1265.9 1257.84,1266.26 1258.35,1266.62 1258.86,1266.98 \n",
       "  1259.37,1267.34 1259.88,1267.7 1260.4,1268.05 1260.91,1268.41 1261.42,1268.77 1261.93,1269.12 1262.44,1269.48 1262.95,1269.83 1263.46,1270.19 1263.97,1270.54 \n",
       "  1264.49,1270.9 1265,1271.25 1265.51,1271.6 1266.02,1271.95 1266.53,1272.31 1267.04,1272.66 1267.55,1273.01 1268.06,1273.36 1268.57,1273.71 1269.09,1274.05 \n",
       "  1269.6,1274.4 1270.11,1274.75 1270.62,1275.1 1271.13,1275.44 1271.64,1275.79 1272.15,1276.14 1272.66,1276.48 1273.18,1276.83 1273.69,1277.17 1274.2,1277.51 \n",
       "  1274.71,1277.86 1275.22,1278.2 1275.73,1278.54 1276.24,1278.88 1276.75,1279.22 1277.26,1279.56 1277.78,1279.9 1278.29,1280.24 1278.8,1280.58 1279.31,1280.92 \n",
       "  1279.82,1281.26 1280.33,1281.6 1280.84,1281.93 1281.35,1282.27 1281.87,1282.6 1282.38,1282.94 1282.89,1283.27 1283.4,1283.61 1283.91,1283.94 1284.42,1284.28 \n",
       "  1284.93,1284.61 1285.44,1284.94 1285.95,1285.27 1286.47,1285.6 1286.98,1285.93 1287.49,1286.26 1288,1286.59 1288.51,1286.92 1289.02,1287.25 1289.53,1287.58 \n",
       "  1290.04,1287.91 1290.55,1288.23 1291.07,1288.56 1291.58,1288.89 1292.09,1289.21 1292.6,1289.54 1293.11,1289.86 1293.62,1290.19 1294.13,1290.51 1294.64,1290.83 \n",
       "  1295.16,1291.16 1295.67,1291.48 1296.18,1291.8 1296.69,1292.12 1297.2,1292.44 1297.71,1292.76 1298.22,1293.08 1298.73,1293.4 1299.24,1293.72 1299.76,1294.04 \n",
       "  1300.27,1294.35 1300.78,1294.67 1301.29,1294.99 1301.8,1295.3 1302.31,1295.62 1302.82,1295.93 1303.33,1296.25 1303.85,1296.56 1304.36,1296.88 1304.87,1297.19 \n",
       "  1305.38,1297.5 1305.89,1297.81 1306.4,1298.13 1306.91,1298.44 1307.42,1298.75 1307.93,1299.06 1308.45,1299.37 1308.96,1299.68 1309.47,1299.98 1309.98,1300.29 \n",
       "  1310.49,1300.6 1311,1300.91 1311.51,1301.21 1312.02,1301.52 1312.54,1301.83 1313.05,1302.13 1313.56,1302.44 1314.07,1302.74 1314.58,1303.04 1315.09,1303.35 \n",
       "  1315.6,1303.65 1316.11,1303.95 1316.62,1304.25 1317.14,1304.56 1317.65,1304.86 1318.16,1305.16 1318.67,1305.46 1319.18,1305.76 1319.69,1306.05 1320.2,1306.35 \n",
       "  1320.71,1306.65 1321.23,1306.95 1321.74,1307.24 1322.25,1307.54 1322.76,1307.84 1323.27,1308.13 1323.78,1308.43 1324.29,1308.72 1324.8,1309.02 1325.31,1309.31 \n",
       "  1325.83,1309.6 1326.34,1309.9 1326.85,1310.19 1327.36,1310.48 1327.87,1310.77 1328.38,1311.06 1328.89,1311.35 1329.4,1311.64 1329.92,1311.93 1330.43,1312.22 \n",
       "  1330.94,1312.51 1331.45,1312.79 1331.96,1313.08 1332.47,1313.37 1332.98,1313.65 1333.49,1313.94 1334,1314.23 1334.52,1314.51 1335.03,1314.8 1335.54,1315.08 \n",
       "  1336.05,1315.36 1336.56,1315.65 1337.07,1315.93 1337.58,1316.21 1338.09,1316.49 1338.61,1316.77 1339.12,1317.05 1339.63,1317.33 1340.14,1317.61 1340.65,1317.89 \n",
       "  1341.16,1318.17 1341.67,1318.45 1342.18,1318.73 1342.69,1319.01 1343.21,1319.28 1343.72,1319.56 1344.23,1319.84 1344.74,1320.11 1345.25,1320.39 1345.76,1320.66 \n",
       "  1346.27,1320.94 1346.78,1321.21 1347.3,1321.48 1347.81,1321.76 1348.32,1322.03 1348.83,1322.3 1349.34,1322.57 1349.85,1322.84 1350.36,1323.11 1350.87,1323.38 \n",
       "  1351.38,1323.65 1351.9,1323.92 1352.41,1324.19 1352.92,1324.46 1353.43,1324.73 1353.94,1324.99 1354.45,1325.26 1354.96,1325.53 1355.47,1325.79 1355.99,1326.06 \n",
       "  1356.5,1326.32 1357.01,1326.59 1357.52,1326.85 1358.03,1327.12 1358.54,1327.38 1359.05,1327.64 1359.56,1327.9 1360.07,1328.17 1360.59,1328.43 1361.1,1328.69 \n",
       "  1361.61,1328.95 1362.12,1329.21 1362.63,1329.47 1363.14,1329.73 1363.65,1329.99 1364.16,1330.25 1364.67,1330.5 1365.19,1330.76 1365.7,1331.02 1366.21,1331.27 \n",
       "  1366.72,1331.53 1367.23,1331.79 1367.74,1332.04 1368.25,1332.3 1368.76,1332.55 1369.28,1332.8 1369.79,1333.06 1370.3,1333.31 1370.81,1333.56 1371.32,1333.82 \n",
       "  1371.83,1334.07 1372.34,1334.32 1372.85,1334.57 1373.36,1334.82 1373.88,1335.07 1374.39,1335.32 1374.9,1335.57 1375.41,1335.82 1375.92,1336.06 1376.43,1336.31 \n",
       "  1376.94,1336.56 1377.45,1336.81 1377.97,1337.05 1378.48,1337.3 1378.99,1337.54 1379.5,1337.79 1380.01,1338.03 1380.52,1338.28 1381.03,1338.52 1381.54,1338.77 \n",
       "  1382.05,1339.01 1382.57,1339.25 1383.08,1339.49 1383.59,1339.73 1384.1,1339.98 1384.61,1340.22 1385.12,1340.46 1385.63,1340.7 1386.14,1340.94 1386.66,1341.18 \n",
       "  1387.17,1341.41 1387.68,1341.65 1388.19,1341.89 1388.7,1342.13 1389.21,1342.37 1389.72,1342.6 1390.23,1342.84 1390.74,1343.07 1391.26,1343.31 1391.77,1343.54 \n",
       "  1392.28,1343.78 1392.79,1344.01 1393.3,1344.25 1393.81,1344.48 1394.32,1344.71 1394.83,1344.94 1395.35,1345.18 1395.86,1345.41 1396.37,1345.64 1396.88,1345.87 \n",
       "  1397.39,1346.1 1397.9,1346.33 1398.41,1346.56 1398.92,1346.79 1399.43,1347.02 1399.95,1347.25 1400.46,1347.47 1400.97,1347.7 1401.48,1347.93 1401.99,1348.15 \n",
       "  1402.5,1348.38 1403.01,1348.61 1403.52,1348.83 1404.04,1349.06 1404.55,1349.28 1405.06,1349.5 1405.57,1349.73 1406.08,1349.95 1406.59,1350.17 1407.1,1350.4 \n",
       "  1407.61,1350.62 1408.12,1350.84 1408.64,1351.06 1409.15,1351.28 1409.66,1351.5 1410.17,1351.72 1410.68,1351.94 1411.19,1352.16 1411.7,1352.38 1412.21,1352.6 \n",
       "  1412.73,1352.82 1413.24,1353.04 1413.75,1353.25 1414.26,1353.47 1414.77,1353.69 1415.28,1353.9 1415.79,1354.12 1416.3,1354.33 1416.81,1354.55 1417.33,1354.76 \n",
       "  1417.84,1354.98 1418.35,1355.19 1418.86,1355.4 1419.37,1355.62 1419.88,1355.83 1420.39,1356.04 1420.9,1356.25 1421.42,1356.46 1421.93,1356.67 1422.44,1356.88 \n",
       "  1422.95,1357.09 1423.46,1357.3 1423.97,1357.51 1424.48,1357.72 1424.99,1357.93 1425.5,1358.14 1426.02,1358.35 1426.53,1358.55 1427.04,1358.76 1427.55,1358.97 \n",
       "  1428.06,1359.17 1428.57,1359.38 1429.08,1359.58 1429.59,1359.79 1430.11,1359.99 1430.62,1360.2 1431.13,1360.4 1431.64,1360.61 1432.15,1360.81 1432.66,1361.01 \n",
       "  1433.17,1361.21 1433.68,1361.42 1434.19,1361.62 1434.71,1361.82 1435.22,1362.02 1435.73,1362.22 1436.24,1362.42 1436.75,1362.62 1437.26,1362.82 1437.77,1363.02 \n",
       "  1438.28,1363.22 1438.79,1363.41 1439.31,1363.61 1439.82,1363.81 1440.33,1364.01 1440.84,1364.2 1441.35,1364.4 1441.86,1364.6 1442.37,1364.79 1442.88,1364.99 \n",
       "  1443.4,1365.18 1443.91,1365.38 1444.42,1365.57 1444.93,1365.76 1445.44,1365.96 1445.95,1366.15 1446.46,1366.34 1446.97,1366.53 1447.48,1366.73 1448,1366.92 \n",
       "  1448.51,1367.11 1449.02,1367.3 1449.53,1367.49 1450.04,1367.68 1450.55,1367.87 1451.06,1368.06 1451.57,1368.25 1452.09,1368.44 1452.6,1368.62 1453.11,1368.81 \n",
       "  1453.62,1369 1454.13,1369.19 1454.64,1369.37 1455.15,1369.56 1455.66,1369.75 1456.17,1369.93 1456.69,1370.12 1457.2,1370.3 1457.71,1370.49 1458.22,1370.67 \n",
       "  1458.73,1370.85 1459.24,1371.04 1459.75,1371.22 1460.26,1371.4 1460.78,1371.59 1461.29,1371.77 1461.8,1371.95 1462.31,1372.13 1462.82,1372.31 1463.33,1372.49 \n",
       "  1463.84,1372.67 1464.35,1372.85 1464.86,1373.03 1465.38,1373.21 1465.89,1373.39 1466.4,1373.57 1466.91,1373.75 1467.42,1373.92 1467.93,1374.1 1468.44,1374.28 \n",
       "  1468.95,1374.46 1469.47,1374.63 1469.98,1374.81 1470.49,1374.98 1471,1375.16 1471.51,1375.33 1472.02,1375.51 1472.53,1375.68 1473.04,1375.86 1473.55,1376.03 \n",
       "  1474.07,1376.2 1474.58,1376.38 1475.09,1376.55 1475.6,1376.72 1476.11,1376.89 1476.62,1377.07 1477.13,1377.24 1477.64,1377.41 1478.16,1377.58 1478.67,1377.75 \n",
       "  1479.18,1377.92 1479.69,1378.09 1480.2,1378.26 1480.71,1378.43 1481.22,1378.6 1481.73,1378.76 1482.24,1378.93 1482.76,1379.1 1483.27,1379.27 1483.78,1379.43 \n",
       "  1484.29,1379.6 1484.8,1379.77 1485.31,1379.93 1485.82,1380.1 1486.33,1380.26 1486.85,1380.43 1487.36,1380.59 1487.87,1380.76 1488.38,1380.92 1488.89,1381.08 \n",
       "  1489.4,1381.25 1489.91,1381.41 1490.42,1381.57 1490.93,1381.73 1491.45,1381.9 1491.96,1382.06 1492.47,1382.22 1492.98,1382.38 1493.49,1382.54 1494,1382.7 \n",
       "  1494.51,1382.86 1495.02,1383.02 1495.54,1383.18 1496.05,1383.34 1496.56,1383.5 1497.07,1383.65 1497.58,1383.81 1498.09,1383.97 1498.6,1384.13 1499.11,1384.28 \n",
       "  1499.62,1384.44 1500.14,1384.6 1500.65,1384.75 1501.16,1384.91 1501.67,1385.07 1502.18,1385.22 1502.69,1385.38 1503.2,1385.53 1503.71,1385.68 1504.23,1385.84 \n",
       "  1504.74,1385.99 1505.25,1386.14 1505.76,1386.3 1506.27,1386.45 1506.78,1386.6 1507.29,1386.75 1507.8,1386.91 1508.31,1387.06 1508.83,1387.21 1509.34,1387.36 \n",
       "  1509.85,1387.51 1510.36,1387.66 1510.87,1387.81 1511.38,1387.96 1511.89,1388.11 1512.4,1388.26 1512.91,1388.4 1513.43,1388.55 1513.94,1388.7 1514.45,1388.85 \n",
       "  1514.96,1389 1515.47,1389.14 1515.98,1389.29 1516.49,1389.44 1517,1389.58 1517.52,1389.73 1518.03,1389.87 1518.54,1390.02 1519.05,1390.16 1519.56,1390.31 \n",
       "  1520.07,1390.45 1520.58,1390.6 1521.09,1390.74 1521.6,1390.88 1522.12,1391.03 1522.63,1391.17 1523.14,1391.31 1523.65,1391.45 1524.16,1391.6 1524.67,1391.74 \n",
       "  1525.18,1391.88 1525.69,1392.02 1526.21,1392.16 1526.72,1392.3 1527.23,1392.44 1527.74,1392.58 1528.25,1392.72 1528.76,1392.86 1529.27,1393 1529.78,1393.14 \n",
       "  1530.29,1393.28 1530.81,1393.41 1531.32,1393.55 1531.83,1393.69 1532.34,1393.83 1532.85,1393.96 1533.36,1394.1 1533.87,1394.24 1534.38,1394.37 1534.9,1394.51 \n",
       "  1535.41,1394.64 1535.92,1394.78 1536.43,1394.91 1536.94,1395.05 1537.45,1395.18 1537.96,1395.32 1538.47,1395.45 1538.98,1395.58 1539.5,1395.72 1540.01,1395.85 \n",
       "  1540.52,1395.98 1541.03,1396.11 1541.54,1396.25 1542.05,1396.38 1542.56,1396.51 1543.07,1396.64 1543.59,1396.77 1544.1,1396.9 1544.61,1397.03 1545.12,1397.16 \n",
       "  1545.63,1397.29 1546.14,1397.42 1546.65,1397.55 1547.16,1397.68 1547.67,1397.81 1548.19,1397.94 1548.7,1398.06 1549.21,1398.19 1549.72,1398.32 1550.23,1398.45 \n",
       "  1550.74,1398.57 1551.25,1398.7 1551.76,1398.83 1552.28,1398.95 1552.79,1399.08 1553.3,1399.21 1553.81,1399.33 1554.32,1399.46 1554.83,1399.58 1555.34,1399.71 \n",
       "  1555.85,1399.83 1556.36,1399.95 1556.88,1400.08 1557.39,1400.2 1557.9,1400.32 1558.41,1400.45 1558.92,1400.57 1559.43,1400.69 1559.94,1400.81 1560.45,1400.94 \n",
       "  1560.97,1401.06 1561.48,1401.18 1561.99,1401.3 1562.5,1401.42 1563.01,1401.54 1563.52,1401.66 1564.03,1401.78 1564.54,1401.9 1565.05,1402.02 1565.57,1402.14 \n",
       "  1566.08,1402.26 1566.59,1402.38 1567.1,1402.5 1567.61,1402.61 1568.12,1402.73 1568.63,1402.85 1569.14,1402.97 1569.66,1403.08 1570.17,1403.2 1570.68,1403.32 \n",
       "  1571.19,1403.43 1571.7,1403.55 1572.21,1403.67 1572.72,1403.78 1573.23,1403.9 1573.74,1404.01 1574.26,1404.13 1574.77,1404.24 1575.28,1404.36 1575.79,1404.47 \n",
       "  1576.3,1404.58 1576.81,1404.7 1577.32,1404.81 1577.83,1404.92 1578.35,1405.04 1578.86,1405.15 1579.37,1405.26 1579.88,1405.37 1580.39,1405.49 1580.9,1405.6 \n",
       "  1581.41,1405.71 1581.92,1405.82 1582.43,1405.93 1582.95,1406.04 1583.46,1406.15 1583.97,1406.26 1584.48,1406.37 1584.99,1406.48 1585.5,1406.59 1586.01,1406.7 \n",
       "  1586.52,1406.81 1587.03,1406.92 1587.55,1407.03 1588.06,1407.13 1588.57,1407.24 1589.08,1407.35 1589.59,1407.46 1590.1,1407.56 1590.61,1407.67 1591.12,1407.78 \n",
       "  1591.64,1407.89 1592.15,1407.99 1592.66,1408.1 1593.17,1408.2 1593.68,1408.31 1594.19,1408.41 1594.7,1408.52 1595.21,1408.62 1595.72,1408.73 1596.24,1408.83 \n",
       "  1596.75,1408.94 1597.26,1409.04 1597.77,1409.14 1598.28,1409.25 1598.79,1409.35 1599.3,1409.45 1599.81,1409.56 1600.33,1409.66 1600.84,1409.76 1601.35,1409.86 \n",
       "  1601.86,1409.96 1602.37,1410.07 1602.88,1410.17 1603.39,1410.27 1603.9,1410.37 1604.41,1410.47 1604.93,1410.57 1605.44,1410.67 1605.95,1410.77 1606.46,1410.87 \n",
       "  1606.97,1410.97 1607.48,1411.07 1607.99,1411.17 1608.5,1411.27 1609.02,1411.37 1609.53,1411.46 1610.04,1411.56 1610.55,1411.66 1611.06,1411.76 1611.57,1411.85 \n",
       "  1612.08,1411.95 1612.59,1412.05 1613.1,1412.15 1613.62,1412.24 1614.13,1412.34 1614.64,1412.43 1615.15,1412.53 1615.66,1412.63 1616.17,1412.72 1616.68,1412.82 \n",
       "  1617.19,1412.91 1617.71,1413.01 1618.22,1413.1 1618.73,1413.2 1619.24,1413.29 1619.75,1413.38 1620.26,1413.48 1620.77,1413.57 1621.28,1413.66 1621.79,1413.76 \n",
       "  1622.31,1413.85 1622.82,1413.94 1623.33,1414.04 1623.84,1414.13 1624.35,1414.22 1624.86,1414.31 1625.37,1414.4 1625.88,1414.49 1626.4,1414.59 1626.91,1414.68 \n",
       "  1627.42,1414.77 1627.93,1414.86 1628.44,1414.95 1628.95,1415.04 1629.46,1415.13 1629.97,1415.22 1630.48,1415.31 1631,1415.4 1631.51,1415.48 1632.02,1415.57 \n",
       "  1632.53,1415.66 1633.04,1415.75 1633.55,1415.84 1634.06,1415.93 1634.57,1416.01 1635.09,1416.1 1635.6,1416.19 1636.11,1416.28 1636.62,1416.36 1637.13,1416.45 \n",
       "  1637.64,1416.54 1638.15,1416.62 1638.66,1416.71 1639.17,1416.8 1639.69,1416.88 1640.2,1416.97 1640.71,1417.05 1641.22,1417.14 1641.73,1417.22 1642.24,1417.31 \n",
       "  1642.75,1417.39 1643.26,1417.48 1643.78,1417.56 1644.29,1417.64 1644.8,1417.73 1645.31,1417.81 1645.82,1417.89 1646.33,1417.98 1646.84,1418.06 1647.35,1418.14 \n",
       "  1647.86,1418.23 1648.38,1418.31 1648.89,1418.39 1649.4,1418.47 1649.91,1418.55 1650.42,1418.64 1650.93,1418.72 1651.44,1418.8 1651.95,1418.88 1652.47,1418.96 \n",
       "  1652.98,1419.04 1653.49,1419.12 1654,1419.2 1654.51,1419.28 1655.02,1419.36 1655.53,1419.44 1656.04,1419.52 1656.55,1419.6 1657.07,1419.68 1657.58,1419.76 \n",
       "  1658.09,1419.84 1658.6,1419.91 1659.11,1419.99 1659.62,1420.07 1660.13,1420.15 1660.64,1420.23 1661.15,1420.3 1661.67,1420.38 1662.18,1420.46 1662.69,1420.54 \n",
       "  1663.2,1420.61 1663.71,1420.69 1664.22,1420.77 1664.73,1420.84 1665.24,1420.92 1665.76,1420.99 1666.27,1421.07 1666.78,1421.15 1667.29,1421.22 1667.8,1421.3 \n",
       "  1668.31,1421.37 1668.82,1421.45 1669.33,1421.52 1669.84,1421.6 1670.36,1421.67 1670.87,1421.74 1671.38,1421.82 1671.89,1421.89 1672.4,1421.96 1672.91,1422.04 \n",
       "  1673.42,1422.11 1673.93,1422.18 1674.45,1422.26 1674.96,1422.33 1675.47,1422.4 1675.98,1422.47 1676.49,1422.55 1677,1422.62 1677.51,1422.69 1678.02,1422.76 \n",
       "  1678.53,1422.83 1679.05,1422.91 1679.56,1422.98 1680.07,1423.05 1680.58,1423.12 1681.09,1423.19 1681.6,1423.26 1682.11,1423.33 1682.62,1423.4 1683.14,1423.47 \n",
       "  1683.65,1423.54 1684.16,1423.61 1684.67,1423.68 1685.18,1423.75 1685.69,1423.82 1686.2,1423.88 1686.71,1423.95 1687.22,1424.02 1687.74,1424.09 1688.25,1424.16 \n",
       "  1688.76,1424.23 1689.27,1424.29 1689.78,1424.36 1690.29,1424.43 1690.8,1424.5 1691.31,1424.56 1691.83,1424.63 1692.34,1424.7 1692.85,1424.76 1693.36,1424.83 \n",
       "  1693.87,1424.9 1694.38,1424.96 1694.89,1425.03 1695.4,1425.1 1695.91,1425.16 1696.43,1425.23 1696.94,1425.29 1697.45,1425.36 1697.96,1425.42 1698.47,1425.49 \n",
       "  1698.98,1425.55 1699.49,1425.62 1700,1425.68 1700.52,1425.75 1701.03,1425.81 1701.54,1425.87 1702.05,1425.94 1702.56,1426 1703.07,1426.06 1703.58,1426.13 \n",
       "  1704.09,1426.19 1704.6,1426.25 1705.12,1426.32 1705.63,1426.38 1706.14,1426.44 1706.65,1426.5 1707.16,1426.57 1707.67,1426.63 1708.18,1426.69 1708.69,1426.75 \n",
       "  1709.21,1426.81 1709.72,1426.87 1710.23,1426.94 1710.74,1427 1711.25,1427.06 1711.76,1427.12 1712.27,1427.18 1712.78,1427.24 1713.29,1427.3 1713.81,1427.36 \n",
       "  1714.32,1427.42 1714.83,1427.48 1715.34,1427.54 1715.85,1427.6 1716.36,1427.66 1716.87,1427.72 1717.38,1427.78 1717.9,1427.84 1718.41,1427.9 1718.92,1427.95 \n",
       "  1719.43,1428.01 1719.94,1428.07 1720.45,1428.13 1720.96,1428.19 1721.47,1428.25 1721.98,1428.3 1722.5,1428.36 1723.01,1428.42 1723.52,1428.48 1724.03,1428.53 \n",
       "  1724.54,1428.59 1725.05,1428.65 1725.56,1428.7 1726.07,1428.76 1726.59,1428.82 1727.1,1428.87 1727.61,1428.93 1728.12,1428.99 1728.63,1429.04 1729.14,1429.1 \n",
       "  1729.65,1429.15 1730.16,1429.21 1730.67,1429.26 1731.19,1429.32 1731.7,1429.37 1732.21,1429.43 1732.72,1429.48 1733.23,1429.54 1733.74,1429.59 1734.25,1429.65 \n",
       "  1734.76,1429.7 1735.27,1429.76 1735.79,1429.81 1736.3,1429.86 1736.81,1429.92 1737.32,1429.97 1737.83,1430.02 1738.34,1430.08 1738.85,1430.13 1739.36,1430.18 \n",
       "  1739.88,1430.24 1740.39,1430.29 1740.9,1430.34 1741.41,1430.39 1741.92,1430.45 1742.43,1430.5 1742.94,1430.55 1743.45,1430.6 1743.96,1430.65 1744.48,1430.71 \n",
       "  1744.99,1430.76 1745.5,1430.81 1746.01,1430.86 1746.52,1430.91 1747.03,1430.96 1747.54,1431.01 1748.05,1431.06 1748.57,1431.11 1749.08,1431.16 1749.59,1431.21 \n",
       "  1750.1,1431.27 1750.61,1431.32 1751.12,1431.37 1751.63,1431.41 1752.14,1431.46 1752.65,1431.51 1753.17,1431.56 1753.68,1431.61 1754.19,1431.66 1754.7,1431.71 \n",
       "  1755.21,1431.76 1755.72,1431.81 1756.23,1431.86 1756.74,1431.91 1757.26,1431.95 1757.77,1432 1758.28,1432.05 1758.79,1432.1 1759.3,1432.15 1759.81,1432.19 \n",
       "  1760.32,1432.24 1760.83,1432.29 1761.34,1432.34 1761.86,1432.38 1762.37,1432.43 1762.88,1432.48 1763.39,1432.53 1763.9,1432.57 1764.41,1432.62 1764.92,1432.66 \n",
       "  1765.43,1432.71 1765.95,1432.76 1766.46,1432.8 1766.97,1432.85 1767.48,1432.9 1767.99,1432.94 1768.5,1432.99 1769.01,1433.03 1769.52,1433.08 1770.03,1433.12 \n",
       "  1770.55,1433.17 1771.06,1433.21 1771.57,1433.26 1772.08,1433.3 1772.59,1433.35 1773.1,1433.39 1773.61,1433.44 1774.12,1433.48 1774.64,1433.53 1775.15,1433.57 \n",
       "  1775.66,1433.61 1776.17,1433.66 1776.68,1433.7 1777.19,1433.75 1777.7,1433.79 1778.21,1433.83 1778.72,1433.88 1779.24,1433.92 1779.75,1433.96 1780.26,1434 \n",
       "  1780.77,1434.05 1781.28,1434.09 1781.79,1434.13 1782.3,1434.18 1782.81,1434.22 1783.33,1434.26 1783.84,1434.3 1784.35,1434.34 1784.86,1434.39 1785.37,1434.43 \n",
       "  1785.88,1434.47 1786.39,1434.51 1786.9,1434.55 1787.41,1434.59 1787.93,1434.64 1788.44,1434.68 1788.95,1434.72 1789.46,1434.76 1789.97,1434.8 1790.48,1434.84 \n",
       "  1790.99,1434.88 1791.5,1434.92 1792.02,1434.96 1792.53,1435 1793.04,1435.04 1793.55,1435.08 1794.06,1435.12 1794.57,1435.16 1795.08,1435.2 1795.59,1435.24 \n",
       "  1796.1,1435.28 1796.62,1435.32 1797.13,1435.36 1797.64,1435.4 1798.15,1435.44 1798.66,1435.48 1799.17,1435.52 1799.68,1435.55 1800.19,1435.59 1800.71,1435.63 \n",
       "  1801.22,1435.67 1801.73,1435.71 1802.24,1435.75 1802.75,1435.79 1803.26,1435.82 1803.77,1435.86 1804.28,1435.9 1804.79,1435.94 1805.31,1435.97 1805.82,1436.01 \n",
       "  1806.33,1436.05 1806.84,1436.09 1807.35,1436.12 1807.86,1436.16 1808.37,1436.2 1808.88,1436.24 1809.39,1436.27 1809.91,1436.31 1810.42,1436.35 1810.93,1436.38 \n",
       "  1811.44,1436.42 1811.95,1436.46 1812.46,1436.49 1812.97,1436.53 1813.48,1436.56 1814,1436.6 1814.51,1436.64 1815.02,1436.67 1815.53,1436.71 1816.04,1436.74 \n",
       "  1816.55,1436.78 1817.06,1436.81 1817.57,1436.85 1818.08,1436.88 1818.6,1436.92 1819.11,1436.95 1819.62,1436.99 1820.13,1437.02 1820.64,1437.06 1821.15,1437.09 \n",
       "  1821.66,1437.13 1822.17,1437.16 1822.69,1437.2 1823.2,1437.23 1823.71,1437.26 1824.22,1437.3 1824.73,1437.33 1825.24,1437.37 1825.75,1437.4 1826.26,1437.43 \n",
       "  1826.77,1437.47 1827.29,1437.5 1827.8,1437.53 1828.31,1437.57 1828.82,1437.6 1829.33,1437.63 1829.84,1437.67 1830.35,1437.7 1830.86,1437.73 1831.38,1437.76 \n",
       "  1831.89,1437.8 1832.4,1437.83 1832.91,1437.86 1833.42,1437.89 1833.93,1437.93 1834.44,1437.96 1834.95,1437.99 1835.46,1438.02 1835.98,1438.05 1836.49,1438.09 \n",
       "  1837,1438.12 1837.51,1438.15 1838.02,1438.18 1838.53,1438.21 1839.04,1438.24 1839.55,1438.28 1840.07,1438.31 1840.58,1438.34 1841.09,1438.37 1841.6,1438.4 \n",
       "  1842.11,1438.43 1842.62,1438.46 1843.13,1438.49 1843.64,1438.52 1844.15,1438.55 1844.67,1438.58 1845.18,1438.61 1845.69,1438.64 1846.2,1438.67 1846.71,1438.7 \n",
       "  1847.22,1438.73 1847.73,1438.76 1848.24,1438.79 1848.76,1438.82 1849.27,1438.85 1849.78,1438.88 1850.29,1438.91 1850.8,1438.94 1851.31,1438.97 1851.82,1439 \n",
       "  1852.33,1439.03 1852.84,1439.06 1853.36,1439.09 1853.87,1439.12 1854.38,1439.15 1854.89,1439.18 1855.4,1439.2 1855.91,1439.23 1856.42,1439.26 1856.93,1439.29 \n",
       "  1857.45,1439.32 1857.96,1439.35 1858.47,1439.37 1858.98,1439.4 1859.49,1439.43 1860,1439.46 1860.51,1439.49 1861.02,1439.51 1861.53,1439.54 1862.05,1439.57 \n",
       "  1862.56,1439.6 1863.07,1439.62 1863.58,1439.65 1864.09,1439.68 1864.6,1439.71 1865.11,1439.73 1865.62,1439.76 1866.14,1439.79 1866.65,1439.81 1867.16,1439.84 \n",
       "  1867.67,1439.87 1868.18,1439.9 1868.69,1439.92 1869.2,1439.95 1869.71,1439.97 1870.22,1440 1870.74,1440.03 1871.25,1440.05 1871.76,1440.08 1872.27,1440.11 \n",
       "  1872.78,1440.13 1873.29,1440.16 1873.8,1440.18 1874.31,1440.21 1874.83,1440.24 1875.34,1440.26 1875.85,1440.29 1876.36,1440.31 1876.87,1440.34 1877.38,1440.36 \n",
       "  1877.89,1440.39 1878.4,1440.41 1878.91,1440.44 1879.43,1440.46 1879.94,1440.49 1880.45,1440.51 1880.96,1440.54 1881.47,1440.56 1881.98,1440.59 1882.49,1440.61 \n",
       "  1883,1440.64 1883.51,1440.66 1884.03,1440.69 1884.54,1440.71 1885.05,1440.74 1885.56,1440.76 1886.07,1440.78 1886.58,1440.81 1887.09,1440.83 1887.6,1440.86 \n",
       "  1888.12,1440.88 1888.63,1440.9 1889.14,1440.93 1889.65,1440.95 1890.16,1440.97 1890.67,1441 1891.18,1441.02 1891.69,1441.04 1892.2,1441.07 1892.72,1441.09 \n",
       "  1893.23,1441.11 1893.74,1441.14 1894.25,1441.16 1894.76,1441.18 1895.27,1441.21 1895.78,1441.23 1896.29,1441.25 1896.81,1441.28 1897.32,1441.3 1897.83,1441.32 \n",
       "  1898.34,1441.34 1898.85,1441.37 1899.36,1441.39 1899.87,1441.41 1900.38,1441.43 1900.89,1441.45 1901.41,1441.48 1901.92,1441.5 1902.43,1441.52 1902.94,1441.54 \n",
       "  1903.45,1441.56 1903.96,1441.59 1904.47,1441.61 1904.98,1441.63 1905.5,1441.65 1906.01,1441.67 1906.52,1441.69 1907.03,1441.72 1907.54,1441.74 1908.05,1441.76 \n",
       "  1908.56,1441.78 1909.07,1441.8 1909.58,1441.82 1910.1,1441.84 1910.61,1441.86 1911.12,1441.89 1911.63,1441.91 1912.14,1441.93 1912.65,1441.95 1913.16,1441.97 \n",
       "  1913.67,1441.99 1914.19,1442.01 1914.7,1442.03 1915.21,1442.05 1915.72,1442.07 1916.23,1442.09 1916.74,1442.11 1917.25,1442.13 1917.76,1442.15 1918.27,1442.17 \n",
       "  1918.79,1442.19 1919.3,1442.21 1919.81,1442.23 1920.32,1442.25 1920.83,1442.27 1921.34,1442.29 1921.85,1442.31 1922.36,1442.33 1922.88,1442.35 1923.39,1442.37 \n",
       "  1923.9,1442.39 1924.41,1442.41 1924.92,1442.43 1925.43,1442.45 1925.94,1442.47 1926.45,1442.49 1926.96,1442.5 1927.48,1442.52 1927.99,1442.54 1928.5,1442.56 \n",
       "  1929.01,1442.58 1929.52,1442.6 1930.03,1442.62 1930.54,1442.64 1931.05,1442.66 1931.57,1442.67 1932.08,1442.69 1932.59,1442.71 1933.1,1442.73 1933.61,1442.75 \n",
       "  1934.12,1442.77 1934.63,1442.78 1935.14,1442.8 1935.65,1442.82 1936.17,1442.84 1936.68,1442.86 1937.19,1442.87 1937.7,1442.89 1938.21,1442.91 1938.72,1442.93 \n",
       "  1939.23,1442.95 1939.74,1442.96 1940.26,1442.98 1940.77,1443 1941.28,1443.02 1941.79,1443.03 1942.3,1443.05 1942.81,1443.07 1943.32,1443.09 1943.83,1443.1 \n",
       "  1944.34,1443.12 1944.86,1443.14 1945.37,1443.16 1945.88,1443.17 1946.39,1443.19 1946.9,1443.21 1947.41,1443.22 1947.92,1443.24 1948.43,1443.26 1948.95,1443.27 \n",
       "  1949.46,1443.29 1949.97,1443.31 1950.48,1443.32 1950.99,1443.34 1951.5,1443.36 1952.01,1443.37 1952.52,1443.39 1953.03,1443.41 1953.55,1443.42 1954.06,1443.44 \n",
       "  1954.57,1443.45 1955.08,1443.47 1955.59,1443.49 1956.1,1443.5 1956.61,1443.52 1957.12,1443.54 1957.63,1443.55 1958.15,1443.57 1958.66,1443.58 1959.17,1443.6 \n",
       "  1959.68,1443.61 1960.19,1443.63 1960.7,1443.65 1961.21,1443.66 1961.72,1443.68 1962.24,1443.69 1962.75,1443.71 1963.26,1443.72 1963.77,1443.74 1964.28,1443.75 \n",
       "  1964.79,1443.77 1965.3,1443.78 1965.81,1443.8 1966.32,1443.81 1966.84,1443.83 1967.35,1443.85 1967.86,1443.86 1968.37,1443.87 1968.88,1443.89 1969.39,1443.9 \n",
       "  1969.9,1443.92 1970.41,1443.93 1970.93,1443.95 1971.44,1443.96 1971.95,1443.98 1972.46,1443.99 1972.97,1444.01 1973.48,1444.02 1973.99,1444.04 1974.5,1444.05 \n",
       "  1975.01,1444.07 1975.53,1444.08 1976.04,1444.09 1976.55,1444.11 1977.06,1444.12 1977.57,1444.14 1978.08,1444.15 1978.59,1444.16 1979.1,1444.18 1979.62,1444.19 \n",
       "  1980.13,1444.21 1980.64,1444.22 1981.15,1444.23 1981.66,1444.25 1982.17,1444.26 1982.68,1444.28 1983.19,1444.29 1983.7,1444.3 1984.22,1444.32 1984.73,1444.33 \n",
       "  1985.24,1444.34 1985.75,1444.36 1986.26,1444.37 1986.77,1444.38 1987.28,1444.4 1987.79,1444.41 1988.31,1444.42 1988.82,1444.44 1989.33,1444.45 1989.84,1444.46 \n",
       "  1990.35,1444.48 1990.86,1444.49 1991.37,1444.5 1991.88,1444.51 1992.39,1444.53 1992.91,1444.54 1993.42,1444.55 1993.93,1444.57 1994.44,1444.58 1994.95,1444.59 \n",
       "  1995.46,1444.6 1995.97,1444.62 1996.48,1444.63 1997,1444.64 1997.51,1444.65 1998.02,1444.67 1998.53,1444.68 1999.04,1444.69 1999.55,1444.7 2000.06,1444.72 \n",
       "  2000.57,1444.73 2001.08,1444.74 2001.6,1444.75 2002.11,1444.77 2002.62,1444.78 2003.13,1444.79 2003.64,1444.8 2004.15,1444.81 2004.66,1444.83 2005.17,1444.84 \n",
       "  2005.69,1444.85 2006.2,1444.86 2006.71,1444.87 2007.22,1444.89 2007.73,1444.9 2008.24,1444.91 2008.75,1444.92 2009.26,1444.93 2009.77,1444.94 2010.29,1444.96 \n",
       "  2010.8,1444.97 2011.31,1444.98 2011.82,1444.99 2012.33,1445 2012.84,1445.01 2013.35,1445.02 2013.86,1445.04 2014.38,1445.05 2014.89,1445.06 2015.4,1445.07 \n",
       "  2015.91,1445.08 2016.42,1445.09 2016.93,1445.1 2017.44,1445.11 2017.95,1445.12 2018.46,1445.14 2018.98,1445.15 2019.49,1445.16 2020,1445.17 2020.51,1445.18 \n",
       "  2021.02,1445.19 2021.53,1445.2 2022.04,1445.21 2022.55,1445.22 2023.07,1445.23 2023.58,1445.24 2024.09,1445.25 2024.6,1445.27 2025.11,1445.28 2025.62,1445.29 \n",
       "  2026.13,1445.3 2026.64,1445.31 2027.15,1445.32 2027.67,1445.33 2028.18,1445.34 2028.69,1445.35 2029.2,1445.36 2029.71,1445.37 2030.22,1445.38 2030.73,1445.39 \n",
       "  2031.24,1445.4 2031.75,1445.41 2032.27,1445.42 2032.78,1445.43 2033.29,1445.44 2033.8,1445.45 2034.31,1445.46 2034.82,1445.47 2035.33,1445.48 2035.84,1445.49 \n",
       "  2036.36,1445.5 2036.87,1445.51 2037.38,1445.52 2037.89,1445.53 2038.4,1445.54 2038.91,1445.55 2039.42,1445.56 2039.93,1445.57 2040.44,1445.58 2040.96,1445.59 \n",
       "  2041.47,1445.6 2041.98,1445.61 2042.49,1445.62 2043,1445.62 2043.51,1445.63 2044.02,1445.64 2044.53,1445.65 2045.05,1445.66 2045.56,1445.67 2046.07,1445.68 \n",
       "  2046.58,1445.69 2047.09,1445.7 2047.6,1445.71 2048.11,1445.72 2048.62,1445.73 2049.13,1445.74 2049.65,1445.74 2050.16,1445.75 2050.67,1445.76 2051.18,1445.77 \n",
       "  2051.69,1445.78 2052.2,1445.79 2052.71,1445.8 2053.22,1445.81 2053.74,1445.82 2054.25,1445.82 2054.76,1445.83 2055.27,1445.84 2055.78,1445.85 2056.29,1445.86 \n",
       "  2056.8,1445.87 2057.31,1445.88 2057.82,1445.89 2058.34,1445.89 2058.85,1445.9 2059.36,1445.91 2059.87,1445.92 2060.38,1445.93 2060.89,1445.94 2061.4,1445.94 \n",
       "  2061.91,1445.95 2062.43,1445.96 2062.94,1445.97 2063.45,1445.98 2063.96,1445.99 2064.47,1445.99 2064.98,1446 2065.49,1446.01 2066,1446.02 2066.51,1446.03 \n",
       "  2067.03,1446.04 2067.54,1446.04 2068.05,1446.05 2068.56,1446.06 2069.07,1446.07 2069.58,1446.08 2070.09,1446.08 2070.6,1446.09 2071.12,1446.1 2071.63,1446.11 \n",
       "  2072.14,1446.11 2072.65,1446.12 2073.16,1446.13 2073.67,1446.14 2074.18,1446.15 2074.69,1446.15 2075.2,1446.16 2075.72,1446.17 2076.23,1446.18 2076.74,1446.18 \n",
       "  2077.25,1446.19 2077.76,1446.2 2078.27,1446.21 2078.78,1446.21 2079.29,1446.22 2079.81,1446.23 2080.32,1446.24 2080.83,1446.24 2081.34,1446.25 2081.85,1446.26 \n",
       "  2082.36,1446.27 2082.87,1446.27 2083.38,1446.28 2083.89,1446.29 2084.41,1446.3 2084.92,1446.3 2085.43,1446.31 2085.94,1446.32 2086.45,1446.32 2086.96,1446.33 \n",
       "  2087.47,1446.34 2087.98,1446.35 2088.5,1446.35 2089.01,1446.36 2089.52,1446.37 2090.03,1446.37 2090.54,1446.38 2091.05,1446.39 2091.56,1446.39 2092.07,1446.4 \n",
       "  2092.58,1446.41 2093.1,1446.41 2093.61,1446.42 2094.12,1446.43 2094.63,1446.43 2095.14,1446.44 2095.65,1446.45 2096.16,1446.46 2096.67,1446.46 2097.19,1446.47 \n",
       "  2097.7,1446.48 2098.21,1446.48 2098.72,1446.49 2099.23,1446.49 2099.74,1446.5 2100.25,1446.51 2100.76,1446.51 2101.27,1446.52 2101.79,1446.53 2102.3,1446.53 \n",
       "  2102.81,1446.54 2103.32,1446.55 2103.83,1446.55 2104.34,1446.56 2104.85,1446.57 2105.36,1446.57 2105.87,1446.58 2106.39,1446.58 2106.9,1446.59 2107.41,1446.6 \n",
       "  2107.92,1446.6 2108.43,1446.61 2108.94,1446.62 2109.45,1446.62 2109.96,1446.63 2110.48,1446.63 2110.99,1446.64 2111.5,1446.65 2112.01,1446.65 2112.52,1446.66 \n",
       "  2113.03,1446.66 2113.54,1446.67 2114.05,1446.68 2114.56,1446.68 2115.08,1446.69 2115.59,1446.69 2116.1,1446.7 2116.61,1446.71 2117.12,1446.71 2117.63,1446.72 \n",
       "  2118.14,1446.72 2118.65,1446.73 2119.17,1446.73 2119.68,1446.74 2120.19,1446.75 2120.7,1446.75 2121.21,1446.76 2121.72,1446.76 2122.23,1446.77 2122.74,1446.77 \n",
       "  2123.25,1446.78 2123.77,1446.79 2124.28,1446.79 2124.79,1446.8 2125.3,1446.8 2125.81,1446.81 2126.32,1446.81 2126.83,1446.82 2127.34,1446.82 2127.86,1446.83 \n",
       "  2128.37,1446.84 2128.88,1446.84 2129.39,1446.85 2129.9,1446.85 2130.41,1446.86 2130.92,1446.86 2131.43,1446.87 2131.94,1446.87 2132.46,1446.88 2132.97,1446.88 \n",
       "  2133.48,1446.89 2133.99,1446.89 2134.5,1446.9 2135.01,1446.9 2135.52,1446.91 2136.03,1446.91 2136.55,1446.92 2137.06,1446.92 2137.57,1446.93 2138.08,1446.93 \n",
       "  2138.59,1446.94 2139.1,1446.94 2139.61,1446.95 2140.12,1446.95 2140.63,1446.96 2141.15,1446.96 2141.66,1446.97 2142.17,1446.97 2142.68,1446.98 2143.19,1446.98 \n",
       "  2143.7,1446.99 2144.21,1446.99 2144.72,1447 2145.24,1447 2145.75,1447.01 2146.26,1447.01 2146.77,1447.02 2147.28,1447.02 2147.79,1447.03 2148.3,1447.03 \n",
       "  2148.81,1447.04 2149.32,1447.04 2149.84,1447.05 2150.35,1447.05 2150.86,1447.06 2151.37,1447.06 2151.88,1447.07 2152.39,1447.07 2152.9,1447.07 2153.41,1447.08 \n",
       "  2153.93,1447.08 2154.44,1447.09 2154.95,1447.09 2155.46,1447.1 2155.97,1447.1 2156.48,1447.11 2156.99,1447.11 2157.5,1447.12 2158.01,1447.12 2158.53,1447.12 \n",
       "  2159.04,1447.13 2159.55,1447.13 2160.06,1447.14 2160.57,1447.14 2161.08,1447.15 2161.59,1447.15 2162.1,1447.15 2162.62,1447.16 2163.13,1447.16 2163.64,1447.17 \n",
       "  2164.15,1447.17 2164.66,1447.18 2165.17,1447.18 2165.68,1447.18 2166.19,1447.19 2166.7,1447.19 2167.22,1447.2 2167.73,1447.2 2168.24,1447.21 2168.75,1447.21 \n",
       "  2169.26,1447.21 2169.77,1447.22 2170.28,1447.22 2170.79,1447.23 2171.31,1447.23 2171.82,1447.23 2172.33,1447.24 2172.84,1447.24 2173.35,1447.25 2173.86,1447.25 \n",
       "  2174.37,1447.25 2174.88,1447.26 2175.39,1447.26 2175.91,1447.27 2176.42,1447.27 2176.93,1447.27 2177.44,1447.28 2177.95,1447.28 2178.46,1447.29 2178.97,1447.29 \n",
       "  2179.48,1447.29 2179.99,1447.3 2180.51,1447.3 2181.02,1447.3 2181.53,1447.31 2182.04,1447.31 2182.55,1447.32 2183.06,1447.32 2183.57,1447.32 2184.08,1447.33 \n",
       "  2184.6,1447.33 2185.11,1447.33 2185.62,1447.34 2186.13,1447.34 2186.64,1447.35 2187.15,1447.35 2187.66,1447.35 2188.17,1447.36 2188.68,1447.36 2189.2,1447.36 \n",
       "  2189.71,1447.37 2190.22,1447.37 2190.73,1447.37 2191.24,1447.38 2191.75,1447.38 2192.26,1447.38 2192.77,1447.39 2193.29,1447.39 2193.8,1447.39 2194.31,1447.4 \n",
       "  2194.82,1447.4 2195.33,1447.41 2195.84,1447.41 2196.35,1447.41 2196.86,1447.42 2197.37,1447.42 2197.89,1447.42 2198.4,1447.43 2198.91,1447.43 2199.42,1447.43 \n",
       "  2199.93,1447.44 2200.44,1447.44 2200.95,1447.44 2201.46,1447.45 2201.98,1447.45 2202.49,1447.45 2203,1447.46 2203.51,1447.46 2204.02,1447.46 2204.53,1447.46 \n",
       "  2205.04,1447.47 2205.55,1447.47 2206.06,1447.47 2206.58,1447.48 2207.09,1447.48 2207.6,1447.48 2208.11,1447.49 2208.62,1447.49 2209.13,1447.49 2209.64,1447.5 \n",
       "  2210.15,1447.5 2210.67,1447.5 2211.18,1447.51 2211.69,1447.51 2212.2,1447.51 2212.71,1447.51 2213.22,1447.52 2213.73,1447.52 2214.24,1447.52 2214.75,1447.53 \n",
       "  2215.27,1447.53 2215.78,1447.53 2216.29,1447.54 2216.8,1447.54 2217.31,1447.54 2217.82,1447.54 2218.33,1447.55 2218.84,1447.55 2219.36,1447.55 2219.87,1447.56 \n",
       "  2220.38,1447.56 2220.89,1447.56 2221.4,1447.57 2221.91,1447.57 2222.42,1447.57 2222.93,1447.57 2223.44,1447.58 2223.96,1447.58 2224.47,1447.58 2224.98,1447.58 \n",
       "  2225.49,1447.59 2226,1447.59 2226.51,1447.59 2227.02,1447.6 2227.53,1447.6 2228.05,1447.6 2228.56,1447.6 2229.07,1447.61 2229.58,1447.61 2230.09,1447.61 \n",
       "  2230.6,1447.61 2231.11,1447.62 2231.62,1447.62 2232.13,1447.62 2232.65,1447.63 2233.16,1447.63 2233.67,1447.63 2234.18,1447.63 2234.69,1447.64 2235.2,1447.64 \n",
       "  2235.71,1447.64 2236.22,1447.64 2236.74,1447.65 2237.25,1447.65 2237.76,1447.65 2238.27,1447.65 2238.78,1447.66 2239.29,1447.66 2239.8,1447.66 2240.31,1447.66 \n",
       "  2240.82,1447.67 2241.34,1447.67 2241.85,1447.67 2242.36,1447.67 2242.87,1447.68 2243.38,1447.68 2243.89,1447.68 2244.4,1447.68 2244.91,1447.69 2245.43,1447.69 \n",
       "  2245.94,1447.69 2246.45,1447.69 2246.96,1447.7 2247.47,1447.7 2247.98,1447.7 2248.49,1447.7 2249,1447.71 2249.51,1447.71 2250.03,1447.71 2250.54,1447.71 \n",
       "  2251.05,1447.71 2251.56,1447.72 2252.07,1447.72 2252.58,1447.72 2253.09,1447.72 2253.6,1447.73 2254.11,1447.73 2254.63,1447.73 2255.14,1447.73 2255.65,1447.74 \n",
       "  2256.16,1447.74 2256.67,1447.74 2257.18,1447.74 2257.69,1447.74 2258.2,1447.75 2258.72,1447.75 2259.23,1447.75 2259.74,1447.75 2260.25,1447.75 2260.76,1447.76 \n",
       "  2261.27,1447.76 2261.78,1447.76 2262.29,1447.76 2262.8,1447.77 2263.32,1447.77 2263.83,1447.77 2264.34,1447.77 2264.85,1447.77 2265.36,1447.78 2265.87,1447.78 \n",
       "  2266.38,1447.78 2266.89,1447.78 2267.41,1447.78 2267.92,1447.79 2268.43,1447.79 2268.94,1447.79 2269.45,1447.79 2269.96,1447.79 2270.47,1447.8 2270.98,1447.8 \n",
       "  2271.49,1447.8 2272.01,1447.8 2272.52,1447.8 2273.03,1447.81 2273.54,1447.81 2274.05,1447.81 2274.56,1447.81 2275.07,1447.81 2275.58,1447.82 2276.1,1447.82 \n",
       "  2276.61,1447.82 2277.12,1447.82 2277.63,1447.82 2278.14,1447.83 2278.65,1447.83 2279.16,1447.83 2279.67,1447.83 2280.18,1447.83 2280.7,1447.84 2281.21,1447.84 \n",
       "  2281.72,1447.84 2282.23,1447.84 2282.74,1447.84 2283.25,1447.84 2283.76,1447.85 2284.27,1447.85 2284.79,1447.85 2285.3,1447.85 2285.81,1447.85 2286.32,1447.86 \n",
       "  2286.83,1447.86 2287.34,1447.86 2287.85,1447.86 2288.36,1447.86 2288.87,1447.86 2289.39,1447.87 2289.9,1447.87 2290.41,1447.87 2290.92,1447.87 2291.43,1447.87 \n",
       "  \n",
       "  \"/>\n",
       "<path clip-path=\"url(#clip580)\" d=\"\n",
       "M1985.63 428.105 L2280.53 428.105 L2280.53 168.905 L1985.63 168.905  Z\n",
       "  \" fill=\"#ffffff\" fill-rule=\"evenodd\" fill-opacity=\"1\"/>\n",
       "<polyline clip-path=\"url(#clip580)\" style=\"stroke:#000000; stroke-linecap:butt; stroke-linejoin:round; stroke-width:4; stroke-opacity:1; fill:none\" points=\"\n",
       "  1985.63,428.105 2280.53,428.105 2280.53,168.905 1985.63,168.905 1985.63,428.105 \n",
       "  \"/>\n",
       "<polyline clip-path=\"url(#clip580)\" style=\"stroke:#009af9; stroke-linecap:butt; stroke-linejoin:round; stroke-width:4; stroke-opacity:1; fill:none\" points=\"\n",
       "  2009.7,220.745 2154.16,220.745 \n",
       "  \"/>\n",
       "<path clip-path=\"url(#clip580)\" d=\"M2192.08 240.432 Q2190.27 245.062 2188.56 246.474 Q2186.84 247.886 2183.97 247.886 L2180.57 247.886 L2180.57 244.321 L2183.07 244.321 Q2184.83 244.321 2185.8 243.488 Q2186.77 242.654 2187.96 239.552 L2188.72 237.608 L2178.23 212.099 L2182.75 212.099 L2190.85 232.377 L2198.95 212.099 L2203.46 212.099 L2192.08 240.432 Z\" fill=\"#000000\" fill-rule=\"evenodd\" fill-opacity=\"1\" /><path clip-path=\"url(#clip580)\" d=\"M2210.76 234.089 L2218.4 234.089 L2218.4 207.724 L2210.08 209.391 L2210.08 205.131 L2218.35 203.465 L2223.02 203.465 L2223.02 234.089 L2230.66 234.089 L2230.66 238.025 L2210.76 238.025 L2210.76 234.089 Z\" fill=\"#000000\" fill-rule=\"evenodd\" fill-opacity=\"1\" /><polyline clip-path=\"url(#clip580)\" style=\"stroke:#e26f46; stroke-linecap:butt; stroke-linejoin:round; stroke-width:4; stroke-opacity:1; fill:none\" points=\"\n",
       "  2009.7,272.585 2154.16,272.585 \n",
       "  \"/>\n",
       "<path clip-path=\"url(#clip580)\" d=\"M2192.08 292.272 Q2190.27 296.902 2188.56 298.314 Q2186.84 299.726 2183.97 299.726 L2180.57 299.726 L2180.57 296.161 L2183.07 296.161 Q2184.83 296.161 2185.8 295.328 Q2186.77 294.494 2187.96 291.392 L2188.72 289.448 L2178.23 263.939 L2182.75 263.939 L2190.85 284.217 L2198.95 263.939 L2203.46 263.939 L2192.08 292.272 Z\" fill=\"#000000\" fill-rule=\"evenodd\" fill-opacity=\"1\" /><path clip-path=\"url(#clip580)\" d=\"M2213.97 285.929 L2230.29 285.929 L2230.29 289.865 L2208.35 289.865 L2208.35 285.929 Q2211.01 283.175 2215.59 278.545 Q2220.2 273.893 2221.38 272.55 Q2223.63 270.027 2224.51 268.291 Q2225.41 266.531 2225.41 264.842 Q2225.41 262.087 2223.46 260.351 Q2221.54 258.615 2218.44 258.615 Q2216.24 258.615 2213.79 259.379 Q2211.36 260.143 2208.58 261.694 L2208.58 256.971 Q2211.4 255.837 2213.86 255.258 Q2216.31 254.68 2218.35 254.68 Q2223.72 254.68 2226.91 257.365 Q2230.11 260.05 2230.11 264.541 Q2230.11 266.67 2229.3 268.592 Q2228.51 270.49 2226.4 273.082 Q2225.83 273.754 2222.72 276.971 Q2219.62 280.166 2213.97 285.929 Z\" fill=\"#000000\" fill-rule=\"evenodd\" fill-opacity=\"1\" /><polyline clip-path=\"url(#clip580)\" style=\"stroke:#3da44d; stroke-linecap:butt; stroke-linejoin:round; stroke-width:4; stroke-opacity:1; fill:none\" points=\"\n",
       "  2009.7,324.425 2154.16,324.425 \n",
       "  \"/>\n",
       "<path clip-path=\"url(#clip580)\" d=\"M2192.08 344.112 Q2190.27 348.742 2188.56 350.154 Q2186.84 351.566 2183.97 351.566 L2180.57 351.566 L2180.57 348.001 L2183.07 348.001 Q2184.83 348.001 2185.8 347.168 Q2186.77 346.334 2187.96 343.232 L2188.72 341.288 L2178.23 315.779 L2182.75 315.779 L2190.85 336.057 L2198.95 315.779 L2203.46 315.779 L2192.08 344.112 Z\" fill=\"#000000\" fill-rule=\"evenodd\" fill-opacity=\"1\" /><path clip-path=\"url(#clip580)\" d=\"M2224.11 323.07 Q2227.47 323.788 2229.34 326.057 Q2231.24 328.325 2231.24 331.658 Q2231.24 336.774 2227.72 339.575 Q2224.21 342.376 2217.72 342.376 Q2215.55 342.376 2213.23 341.936 Q2210.94 341.519 2208.49 340.663 L2208.49 336.149 Q2210.43 337.283 2212.75 337.862 Q2215.06 338.441 2217.58 338.441 Q2221.98 338.441 2224.27 336.705 Q2226.59 334.969 2226.59 331.658 Q2226.59 328.603 2224.44 326.89 Q2222.31 325.154 2218.49 325.154 L2214.46 325.154 L2214.46 321.311 L2218.67 321.311 Q2222.12 321.311 2223.95 319.946 Q2225.78 318.557 2225.78 315.964 Q2225.78 313.302 2223.88 311.89 Q2222.01 310.455 2218.49 310.455 Q2216.57 310.455 2214.37 310.871 Q2212.17 311.288 2209.53 312.168 L2209.53 308.001 Q2212.19 307.26 2214.51 306.89 Q2216.84 306.52 2218.9 306.52 Q2224.23 306.52 2227.33 308.95 Q2230.43 311.358 2230.43 315.478 Q2230.43 318.348 2228.79 320.339 Q2227.15 322.307 2224.11 323.07 Z\" fill=\"#000000\" fill-rule=\"evenodd\" fill-opacity=\"1\" /><polyline clip-path=\"url(#clip580)\" style=\"stroke:#c271d2; stroke-linecap:butt; stroke-linejoin:round; stroke-width:4; stroke-opacity:1; fill:none\" points=\"\n",
       "  2009.7,376.265 2154.16,376.265 \n",
       "  \"/>\n",
       "<path clip-path=\"url(#clip580)\" d=\"M2192.08 395.952 Q2190.27 400.582 2188.56 401.994 Q2186.84 403.406 2183.97 403.406 L2180.57 403.406 L2180.57 399.841 L2183.07 399.841 Q2184.83 399.841 2185.8 399.008 Q2186.77 398.174 2187.96 395.072 L2188.72 393.128 L2178.23 367.619 L2182.75 367.619 L2190.85 387.897 L2198.95 367.619 L2203.46 367.619 L2192.08 395.952 Z\" fill=\"#000000\" fill-rule=\"evenodd\" fill-opacity=\"1\" /><path clip-path=\"url(#clip580)\" d=\"M2222.79 363.059 L2210.99 381.508 L2222.79 381.508 L2222.79 363.059 M2221.57 358.985 L2227.45 358.985 L2227.45 381.508 L2232.38 381.508 L2232.38 385.397 L2227.45 385.397 L2227.45 393.545 L2222.79 393.545 L2222.79 385.397 L2207.19 385.397 L2207.19 380.883 L2221.57 358.985 Z\" fill=\"#000000\" fill-rule=\"evenodd\" fill-opacity=\"1\" /></svg>\n"
      ]
     },
     "execution_count": 99,
     "metadata": {},
     "output_type": "execute_result"
    }
   ],
   "source": [
    "plot(a:0.01:b,ye,title=\"Comparando con la solución exacta para distintos h\")\n",
    "plot!(t1,w1[1,:])\n",
    "plot!(t2,w2[1,:])\n",
    "plot!(t3,w3[1,:])"
   ]
  },
  {
   "cell_type": "markdown",
   "metadata": {},
   "source": [
    "***c)***"
   ]
  },
  {
   "cell_type": "code",
   "execution_count": 143,
   "metadata": {},
   "outputs": [
    {
     "data": {
      "image/svg+xml": [
       "<?xml version=\"1.0\" encoding=\"utf-8\"?>\n",
       "<svg xmlns=\"http://www.w3.org/2000/svg\" xmlns:xlink=\"http://www.w3.org/1999/xlink\" width=\"600\" height=\"400\" viewBox=\"0 0 2400 1600\">\n",
       "<defs>\n",
       "  <clipPath id=\"clip960\">\n",
       "    <rect x=\"0\" y=\"0\" width=\"2400\" height=\"1600\"/>\n",
       "  </clipPath>\n",
       "</defs>\n",
       "<path clip-path=\"url(#clip960)\" d=\"\n",
       "M0 1600 L2400 1600 L2400 0 L0 0  Z\n",
       "  \" fill=\"#ffffff\" fill-rule=\"evenodd\" fill-opacity=\"1\"/>\n",
       "<defs>\n",
       "  <clipPath id=\"clip961\">\n",
       "    <rect x=\"480\" y=\"0\" width=\"1681\" height=\"1600\"/>\n",
       "  </clipPath>\n",
       "</defs>\n",
       "<defs>\n",
       "  <clipPath id=\"clip962\">\n",
       "    <rect x=\"249\" y=\"123\" width=\"2105\" height=\"1301\"/>\n",
       "  </clipPath>\n",
       "</defs>\n",
       "<path clip-path=\"url(#clip960)\" d=\"\n",
       "M249.195 1423.18 L2352.76 1423.18 L2352.76 123.472 L249.195 123.472  Z\n",
       "  \" fill=\"#ffffff\" fill-rule=\"evenodd\" fill-opacity=\"1\"/>\n",
       "<polyline clip-path=\"url(#clip962)\" style=\"stroke:#000000; stroke-linecap:butt; stroke-linejoin:round; stroke-width:2; stroke-opacity:0.1; fill:none\" points=\"\n",
       "  308.73,1423.18 308.73,123.472 \n",
       "  \"/>\n",
       "<polyline clip-path=\"url(#clip962)\" style=\"stroke:#000000; stroke-linecap:butt; stroke-linejoin:round; stroke-width:2; stroke-opacity:0.1; fill:none\" points=\"\n",
       "  804.852,1423.18 804.852,123.472 \n",
       "  \"/>\n",
       "<polyline clip-path=\"url(#clip962)\" style=\"stroke:#000000; stroke-linecap:butt; stroke-linejoin:round; stroke-width:2; stroke-opacity:0.1; fill:none\" points=\"\n",
       "  1300.98,1423.18 1300.98,123.472 \n",
       "  \"/>\n",
       "<polyline clip-path=\"url(#clip962)\" style=\"stroke:#000000; stroke-linecap:butt; stroke-linejoin:round; stroke-width:2; stroke-opacity:0.1; fill:none\" points=\"\n",
       "  1797.1,1423.18 1797.1,123.472 \n",
       "  \"/>\n",
       "<polyline clip-path=\"url(#clip962)\" style=\"stroke:#000000; stroke-linecap:butt; stroke-linejoin:round; stroke-width:2; stroke-opacity:0.1; fill:none\" points=\"\n",
       "  2293.22,1423.18 2293.22,123.472 \n",
       "  \"/>\n",
       "<polyline clip-path=\"url(#clip960)\" style=\"stroke:#000000; stroke-linecap:butt; stroke-linejoin:round; stroke-width:4; stroke-opacity:1; fill:none\" points=\"\n",
       "  249.195,1423.18 2352.76,1423.18 \n",
       "  \"/>\n",
       "<polyline clip-path=\"url(#clip960)\" style=\"stroke:#000000; stroke-linecap:butt; stroke-linejoin:round; stroke-width:4; stroke-opacity:1; fill:none\" points=\"\n",
       "  308.73,1423.18 308.73,1404.28 \n",
       "  \"/>\n",
       "<polyline clip-path=\"url(#clip960)\" style=\"stroke:#000000; stroke-linecap:butt; stroke-linejoin:round; stroke-width:4; stroke-opacity:1; fill:none\" points=\"\n",
       "  804.852,1423.18 804.852,1404.28 \n",
       "  \"/>\n",
       "<polyline clip-path=\"url(#clip960)\" style=\"stroke:#000000; stroke-linecap:butt; stroke-linejoin:round; stroke-width:4; stroke-opacity:1; fill:none\" points=\"\n",
       "  1300.98,1423.18 1300.98,1404.28 \n",
       "  \"/>\n",
       "<polyline clip-path=\"url(#clip960)\" style=\"stroke:#000000; stroke-linecap:butt; stroke-linejoin:round; stroke-width:4; stroke-opacity:1; fill:none\" points=\"\n",
       "  1797.1,1423.18 1797.1,1404.28 \n",
       "  \"/>\n",
       "<polyline clip-path=\"url(#clip960)\" style=\"stroke:#000000; stroke-linecap:butt; stroke-linejoin:round; stroke-width:4; stroke-opacity:1; fill:none\" points=\"\n",
       "  2293.22,1423.18 2293.22,1404.28 \n",
       "  \"/>\n",
       "<path clip-path=\"url(#clip960)\" d=\"M308.73 1454.1 Q305.118 1454.1 303.29 1457.66 Q301.484 1461.2 301.484 1468.33 Q301.484 1475.44 303.29 1479.01 Q305.118 1482.55 308.73 1482.55 Q312.364 1482.55 314.169 1479.01 Q315.998 1475.44 315.998 1468.33 Q315.998 1461.2 314.169 1457.66 Q312.364 1454.1 308.73 1454.1 M308.73 1450.39 Q314.54 1450.39 317.595 1455 Q320.674 1459.58 320.674 1468.33 Q320.674 1477.06 317.595 1481.67 Q314.54 1486.25 308.73 1486.25 Q302.919 1486.25 299.841 1481.67 Q296.785 1477.06 296.785 1468.33 Q296.785 1459.58 299.841 1455 Q302.919 1450.39 308.73 1450.39 Z\" fill=\"#000000\" fill-rule=\"evenodd\" fill-opacity=\"1\" /><path clip-path=\"url(#clip960)\" d=\"M795.234 1481.64 L802.873 1481.64 L802.873 1455.28 L794.563 1456.95 L794.563 1452.69 L802.827 1451.02 L807.503 1451.02 L807.503 1481.64 L815.142 1481.64 L815.142 1485.58 L795.234 1485.58 L795.234 1481.64 Z\" fill=\"#000000\" fill-rule=\"evenodd\" fill-opacity=\"1\" /><path clip-path=\"url(#clip960)\" d=\"M1295.63 1481.64 L1311.95 1481.64 L1311.95 1485.58 L1290 1485.58 L1290 1481.64 Q1292.67 1478.89 1297.25 1474.26 Q1301.85 1469.61 1303.04 1468.27 Q1305.28 1465.74 1306.16 1464.01 Q1307.06 1462.25 1307.06 1460.56 Q1307.06 1457.8 1305.12 1456.07 Q1303.2 1454.33 1300.1 1454.33 Q1297.9 1454.33 1295.44 1455.09 Q1293.01 1455.86 1290.23 1457.41 L1290.23 1452.69 Q1293.06 1451.55 1295.51 1450.97 Q1297.97 1450.39 1300 1450.39 Q1305.37 1450.39 1308.57 1453.08 Q1311.76 1455.77 1311.76 1460.26 Q1311.76 1462.39 1310.95 1464.31 Q1310.17 1466.2 1308.06 1468.8 Q1307.48 1469.47 1304.38 1472.69 Q1301.28 1475.88 1295.63 1481.64 Z\" fill=\"#000000\" fill-rule=\"evenodd\" fill-opacity=\"1\" /><path clip-path=\"url(#clip960)\" d=\"M1801.35 1466.95 Q1804.7 1467.66 1806.58 1469.93 Q1808.48 1472.2 1808.48 1475.53 Q1808.48 1480.65 1804.96 1483.45 Q1801.44 1486.25 1794.96 1486.25 Q1792.78 1486.25 1790.47 1485.81 Q1788.17 1485.39 1785.72 1484.54 L1785.72 1480.02 Q1787.67 1481.16 1789.98 1481.74 Q1792.3 1482.32 1794.82 1482.32 Q1799.22 1482.32 1801.51 1480.58 Q1803.82 1478.84 1803.82 1475.53 Q1803.82 1472.48 1801.67 1470.77 Q1799.54 1469.03 1795.72 1469.03 L1791.69 1469.03 L1791.69 1465.19 L1795.91 1465.19 Q1799.36 1465.19 1801.18 1463.82 Q1803.01 1462.43 1803.01 1459.84 Q1803.01 1457.18 1801.11 1455.77 Q1799.24 1454.33 1795.72 1454.33 Q1793.8 1454.33 1791.6 1454.75 Q1789.4 1455.16 1786.76 1456.04 L1786.76 1451.88 Q1789.42 1451.14 1791.74 1450.77 Q1794.08 1450.39 1796.14 1450.39 Q1801.46 1450.39 1804.56 1452.83 Q1807.67 1455.23 1807.67 1459.35 Q1807.67 1462.22 1806.02 1464.21 Q1804.38 1466.18 1801.35 1466.95 Z\" fill=\"#000000\" fill-rule=\"evenodd\" fill-opacity=\"1\" /><path clip-path=\"url(#clip960)\" d=\"M2296.23 1455.09 L2284.42 1473.54 L2296.23 1473.54 L2296.23 1455.09 M2295 1451.02 L2300.88 1451.02 L2300.88 1473.54 L2305.81 1473.54 L2305.81 1477.43 L2300.88 1477.43 L2300.88 1485.58 L2296.23 1485.58 L2296.23 1477.43 L2280.63 1477.43 L2280.63 1472.92 L2295 1451.02 Z\" fill=\"#000000\" fill-rule=\"evenodd\" fill-opacity=\"1\" /><path clip-path=\"url(#clip960)\" d=\"M1300.04 1522.27 L1300.04 1532.4 L1312.1 1532.4 L1312.1 1536.95 L1300.04 1536.95 L1300.04 1556.3 Q1300.04 1560.66 1301.21 1561.9 Q1302.42 1563.14 1306.08 1563.14 L1312.1 1563.14 L1312.1 1568.04 L1306.08 1568.04 Q1299.3 1568.04 1296.73 1565.53 Q1294.15 1562.98 1294.15 1556.3 L1294.15 1536.95 L1289.85 1536.95 L1289.85 1532.4 L1294.15 1532.4 L1294.15 1522.27 L1300.04 1522.27 Z\" fill=\"#000000\" fill-rule=\"evenodd\" fill-opacity=\"1\" /><polyline clip-path=\"url(#clip962)\" style=\"stroke:#000000; stroke-linecap:butt; stroke-linejoin:round; stroke-width:2; stroke-opacity:0.1; fill:none\" points=\"\n",
       "  249.195,1386.53 2352.76,1386.53 \n",
       "  \"/>\n",
       "<polyline clip-path=\"url(#clip962)\" style=\"stroke:#000000; stroke-linecap:butt; stroke-linejoin:round; stroke-width:2; stroke-opacity:0.1; fill:none\" points=\"\n",
       "  249.195,1079.96 2352.76,1079.96 \n",
       "  \"/>\n",
       "<polyline clip-path=\"url(#clip962)\" style=\"stroke:#000000; stroke-linecap:butt; stroke-linejoin:round; stroke-width:2; stroke-opacity:0.1; fill:none\" points=\"\n",
       "  249.195,773.392 2352.76,773.392 \n",
       "  \"/>\n",
       "<polyline clip-path=\"url(#clip962)\" style=\"stroke:#000000; stroke-linecap:butt; stroke-linejoin:round; stroke-width:2; stroke-opacity:0.1; fill:none\" points=\"\n",
       "  249.195,466.824 2352.76,466.824 \n",
       "  \"/>\n",
       "<polyline clip-path=\"url(#clip962)\" style=\"stroke:#000000; stroke-linecap:butt; stroke-linejoin:round; stroke-width:2; stroke-opacity:0.1; fill:none\" points=\"\n",
       "  249.195,160.256 2352.76,160.256 \n",
       "  \"/>\n",
       "<polyline clip-path=\"url(#clip960)\" style=\"stroke:#000000; stroke-linecap:butt; stroke-linejoin:round; stroke-width:4; stroke-opacity:1; fill:none\" points=\"\n",
       "  249.195,1423.18 249.195,123.472 \n",
       "  \"/>\n",
       "<polyline clip-path=\"url(#clip960)\" style=\"stroke:#000000; stroke-linecap:butt; stroke-linejoin:round; stroke-width:4; stroke-opacity:1; fill:none\" points=\"\n",
       "  249.195,1386.53 268.092,1386.53 \n",
       "  \"/>\n",
       "<polyline clip-path=\"url(#clip960)\" style=\"stroke:#000000; stroke-linecap:butt; stroke-linejoin:round; stroke-width:4; stroke-opacity:1; fill:none\" points=\"\n",
       "  249.195,1079.96 268.092,1079.96 \n",
       "  \"/>\n",
       "<polyline clip-path=\"url(#clip960)\" style=\"stroke:#000000; stroke-linecap:butt; stroke-linejoin:round; stroke-width:4; stroke-opacity:1; fill:none\" points=\"\n",
       "  249.195,773.392 268.092,773.392 \n",
       "  \"/>\n",
       "<polyline clip-path=\"url(#clip960)\" style=\"stroke:#000000; stroke-linecap:butt; stroke-linejoin:round; stroke-width:4; stroke-opacity:1; fill:none\" points=\"\n",
       "  249.195,466.824 268.092,466.824 \n",
       "  \"/>\n",
       "<polyline clip-path=\"url(#clip960)\" style=\"stroke:#000000; stroke-linecap:butt; stroke-linejoin:round; stroke-width:4; stroke-opacity:1; fill:none\" points=\"\n",
       "  249.195,160.256 268.092,160.256 \n",
       "  \"/>\n",
       "<path clip-path=\"url(#clip960)\" d=\"M116.668 1399.87 L124.306 1399.87 L124.306 1373.51 L115.996 1375.17 L115.996 1370.91 L124.26 1369.25 L128.936 1369.25 L128.936 1399.87 L136.575 1399.87 L136.575 1403.81 L116.668 1403.81 L116.668 1399.87 Z\" fill=\"#000000\" fill-rule=\"evenodd\" fill-opacity=\"1\" /><path clip-path=\"url(#clip960)\" d=\"M146.019 1397.93 L150.903 1397.93 L150.903 1403.81 L146.019 1403.81 L146.019 1397.93 Z\" fill=\"#000000\" fill-rule=\"evenodd\" fill-opacity=\"1\" /><path clip-path=\"url(#clip960)\" d=\"M171.089 1372.33 Q167.477 1372.33 165.649 1375.89 Q163.843 1379.43 163.843 1386.56 Q163.843 1393.67 165.649 1397.23 Q167.477 1400.78 171.089 1400.78 Q174.723 1400.78 176.528 1397.23 Q178.357 1393.67 178.357 1386.56 Q178.357 1379.43 176.528 1375.89 Q174.723 1372.33 171.089 1372.33 M171.089 1368.62 Q176.899 1368.62 179.954 1373.23 Q183.033 1377.81 183.033 1386.56 Q183.033 1395.29 179.954 1399.9 Q176.899 1404.48 171.089 1404.48 Q165.278 1404.48 162.2 1399.9 Q159.144 1395.29 159.144 1386.56 Q159.144 1377.81 162.2 1373.23 Q165.278 1368.62 171.089 1368.62 Z\" fill=\"#000000\" fill-rule=\"evenodd\" fill-opacity=\"1\" /><path clip-path=\"url(#clip960)\" d=\"M201.25 1372.33 Q197.639 1372.33 195.811 1375.89 Q194.005 1379.43 194.005 1386.56 Q194.005 1393.67 195.811 1397.23 Q197.639 1400.78 201.25 1400.78 Q204.885 1400.78 206.69 1397.23 Q208.519 1393.67 208.519 1386.56 Q208.519 1379.43 206.69 1375.89 Q204.885 1372.33 201.25 1372.33 M201.25 1368.62 Q207.061 1368.62 210.116 1373.23 Q213.195 1377.81 213.195 1386.56 Q213.195 1395.29 210.116 1399.9 Q207.061 1404.48 201.25 1404.48 Q195.44 1404.48 192.362 1399.9 Q189.306 1395.29 189.306 1386.56 Q189.306 1377.81 192.362 1373.23 Q195.44 1368.62 201.25 1368.62 Z\" fill=\"#000000\" fill-rule=\"evenodd\" fill-opacity=\"1\" /><path clip-path=\"url(#clip960)\" d=\"M117.663 1093.31 L125.302 1093.31 L125.302 1066.94 L116.992 1068.61 L116.992 1064.35 L125.255 1062.68 L129.931 1062.68 L129.931 1093.31 L137.57 1093.31 L137.57 1097.24 L117.663 1097.24 L117.663 1093.31 Z\" fill=\"#000000\" fill-rule=\"evenodd\" fill-opacity=\"1\" /><path clip-path=\"url(#clip960)\" d=\"M147.015 1091.36 L151.899 1091.36 L151.899 1097.24 L147.015 1097.24 L147.015 1091.36 Z\" fill=\"#000000\" fill-rule=\"evenodd\" fill-opacity=\"1\" /><path clip-path=\"url(#clip960)\" d=\"M166.112 1093.31 L182.431 1093.31 L182.431 1097.24 L160.487 1097.24 L160.487 1093.31 Q163.149 1090.55 167.732 1085.92 Q172.339 1081.27 173.519 1079.93 Q175.764 1077.4 176.644 1075.67 Q177.547 1073.91 177.547 1072.22 Q177.547 1069.46 175.602 1067.73 Q173.681 1065.99 170.579 1065.99 Q168.38 1065.99 165.927 1066.75 Q163.496 1067.52 160.718 1069.07 L160.718 1064.35 Q163.542 1063.21 165.996 1062.63 Q168.45 1062.06 170.487 1062.06 Q175.857 1062.06 179.051 1064.74 Q182.246 1067.43 182.246 1071.92 Q182.246 1074.05 181.436 1075.97 Q180.649 1077.87 178.542 1080.46 Q177.964 1081.13 174.862 1084.35 Q171.76 1087.54 166.112 1093.31 Z\" fill=\"#000000\" fill-rule=\"evenodd\" fill-opacity=\"1\" /><path clip-path=\"url(#clip960)\" d=\"M192.292 1062.68 L210.649 1062.68 L210.649 1066.62 L196.575 1066.62 L196.575 1075.09 Q197.593 1074.74 198.612 1074.58 Q199.63 1074.39 200.649 1074.39 Q206.436 1074.39 209.815 1077.56 Q213.195 1080.74 213.195 1086.15 Q213.195 1091.73 209.723 1094.83 Q206.25 1097.91 199.931 1097.91 Q197.755 1097.91 195.487 1097.54 Q193.241 1097.17 190.834 1096.43 L190.834 1091.73 Q192.917 1092.87 195.139 1093.42 Q197.362 1093.98 199.838 1093.98 Q203.843 1093.98 206.181 1091.87 Q208.519 1089.76 208.519 1086.15 Q208.519 1082.54 206.181 1080.43 Q203.843 1078.33 199.838 1078.33 Q197.963 1078.33 196.088 1078.75 Q194.237 1079.16 192.292 1080.04 L192.292 1062.68 Z\" fill=\"#000000\" fill-rule=\"evenodd\" fill-opacity=\"1\" /><path clip-path=\"url(#clip960)\" d=\"M116.668 786.737 L124.306 786.737 L124.306 760.372 L115.996 762.038 L115.996 757.779 L124.26 756.112 L128.936 756.112 L128.936 786.737 L136.575 786.737 L136.575 790.672 L116.668 790.672 L116.668 786.737 Z\" fill=\"#000000\" fill-rule=\"evenodd\" fill-opacity=\"1\" /><path clip-path=\"url(#clip960)\" d=\"M146.019 784.793 L150.903 784.793 L150.903 790.672 L146.019 790.672 L146.019 784.793 Z\" fill=\"#000000\" fill-rule=\"evenodd\" fill-opacity=\"1\" /><path clip-path=\"url(#clip960)\" d=\"M161.135 756.112 L179.491 756.112 L179.491 760.047 L165.417 760.047 L165.417 768.52 Q166.436 768.172 167.454 768.01 Q168.473 767.825 169.491 767.825 Q175.278 767.825 178.658 770.996 Q182.038 774.168 182.038 779.584 Q182.038 785.163 178.565 788.265 Q175.093 791.344 168.774 791.344 Q166.598 791.344 164.329 790.973 Q162.084 790.603 159.677 789.862 L159.677 785.163 Q161.76 786.297 163.982 786.853 Q166.204 787.408 168.681 787.408 Q172.686 787.408 175.024 785.302 Q177.362 783.195 177.362 779.584 Q177.362 775.973 175.024 773.867 Q172.686 771.76 168.681 771.76 Q166.806 771.76 164.931 772.177 Q163.079 772.594 161.135 773.473 L161.135 756.112 Z\" fill=\"#000000\" fill-rule=\"evenodd\" fill-opacity=\"1\" /><path clip-path=\"url(#clip960)\" d=\"M201.25 759.191 Q197.639 759.191 195.811 762.756 Q194.005 766.297 194.005 773.427 Q194.005 780.533 195.811 784.098 Q197.639 787.64 201.25 787.64 Q204.885 787.64 206.69 784.098 Q208.519 780.533 208.519 773.427 Q208.519 766.297 206.69 762.756 Q204.885 759.191 201.25 759.191 M201.25 755.487 Q207.061 755.487 210.116 760.094 Q213.195 764.677 213.195 773.427 Q213.195 782.154 210.116 786.76 Q207.061 791.344 201.25 791.344 Q195.44 791.344 192.362 786.76 Q189.306 782.154 189.306 773.427 Q189.306 764.677 192.362 760.094 Q195.44 755.487 201.25 755.487 Z\" fill=\"#000000\" fill-rule=\"evenodd\" fill-opacity=\"1\" /><path clip-path=\"url(#clip960)\" d=\"M117.663 480.169 L125.302 480.169 L125.302 453.804 L116.992 455.47 L116.992 451.211 L125.255 449.544 L129.931 449.544 L129.931 480.169 L137.57 480.169 L137.57 484.104 L117.663 484.104 L117.663 480.169 Z\" fill=\"#000000\" fill-rule=\"evenodd\" fill-opacity=\"1\" /><path clip-path=\"url(#clip960)\" d=\"M147.015 478.225 L151.899 478.225 L151.899 484.104 L147.015 484.104 L147.015 478.225 Z\" fill=\"#000000\" fill-rule=\"evenodd\" fill-opacity=\"1\" /><path clip-path=\"url(#clip960)\" d=\"M160.903 449.544 L183.126 449.544 L183.126 451.535 L170.579 484.104 L165.695 484.104 L177.501 453.479 L160.903 453.479 L160.903 449.544 Z\" fill=\"#000000\" fill-rule=\"evenodd\" fill-opacity=\"1\" /><path clip-path=\"url(#clip960)\" d=\"M192.292 449.544 L210.649 449.544 L210.649 453.479 L196.575 453.479 L196.575 461.952 Q197.593 461.604 198.612 461.442 Q199.63 461.257 200.649 461.257 Q206.436 461.257 209.815 464.428 Q213.195 467.6 213.195 473.016 Q213.195 478.595 209.723 481.697 Q206.25 484.776 199.931 484.776 Q197.755 484.776 195.487 484.405 Q193.241 484.035 190.834 483.294 L190.834 478.595 Q192.917 479.729 195.139 480.285 Q197.362 480.84 199.838 480.84 Q203.843 480.84 206.181 478.734 Q208.519 476.627 208.519 473.016 Q208.519 469.405 206.181 467.299 Q203.843 465.192 199.838 465.192 Q197.963 465.192 196.088 465.609 Q194.237 466.026 192.292 466.905 L192.292 449.544 Z\" fill=\"#000000\" fill-rule=\"evenodd\" fill-opacity=\"1\" /><path clip-path=\"url(#clip960)\" d=\"M119.885 173.601 L136.204 173.601 L136.204 177.536 L114.26 177.536 L114.26 173.601 Q116.922 170.847 121.505 166.217 Q126.112 161.564 127.292 160.222 Q129.538 157.698 130.417 155.962 Q131.32 154.203 131.32 152.513 Q131.32 149.759 129.376 148.023 Q127.455 146.286 124.353 146.286 Q122.154 146.286 119.7 147.05 Q117.269 147.814 114.492 149.365 L114.492 144.643 Q117.316 143.509 119.769 142.93 Q122.223 142.351 124.26 142.351 Q129.63 142.351 132.825 145.036 Q136.019 147.722 136.019 152.212 Q136.019 154.342 135.209 156.263 Q134.422 158.161 132.316 160.754 Q131.737 161.425 128.635 164.643 Q125.533 167.837 119.885 173.601 Z\" fill=\"#000000\" fill-rule=\"evenodd\" fill-opacity=\"1\" /><path clip-path=\"url(#clip960)\" d=\"M146.019 171.657 L150.903 171.657 L150.903 177.536 L146.019 177.536 L146.019 171.657 Z\" fill=\"#000000\" fill-rule=\"evenodd\" fill-opacity=\"1\" /><path clip-path=\"url(#clip960)\" d=\"M171.089 146.055 Q167.477 146.055 165.649 149.62 Q163.843 153.161 163.843 160.291 Q163.843 167.397 165.649 170.962 Q167.477 174.504 171.089 174.504 Q174.723 174.504 176.528 170.962 Q178.357 167.397 178.357 160.291 Q178.357 153.161 176.528 149.62 Q174.723 146.055 171.089 146.055 M171.089 142.351 Q176.899 142.351 179.954 146.958 Q183.033 151.541 183.033 160.291 Q183.033 169.018 179.954 173.624 Q176.899 178.208 171.089 178.208 Q165.278 178.208 162.2 173.624 Q159.144 169.018 159.144 160.291 Q159.144 151.541 162.2 146.958 Q165.278 142.351 171.089 142.351 Z\" fill=\"#000000\" fill-rule=\"evenodd\" fill-opacity=\"1\" /><path clip-path=\"url(#clip960)\" d=\"M201.25 146.055 Q197.639 146.055 195.811 149.62 Q194.005 153.161 194.005 160.291 Q194.005 167.397 195.811 170.962 Q197.639 174.504 201.25 174.504 Q204.885 174.504 206.69 170.962 Q208.519 167.397 208.519 160.291 Q208.519 153.161 206.69 149.62 Q204.885 146.055 201.25 146.055 M201.25 142.351 Q207.061 142.351 210.116 146.958 Q213.195 151.541 213.195 160.291 Q213.195 169.018 210.116 173.624 Q207.061 178.208 201.25 178.208 Q195.44 178.208 192.362 173.624 Q189.306 169.018 189.306 160.291 Q189.306 151.541 192.362 146.958 Q195.44 142.351 201.25 142.351 Z\" fill=\"#000000\" fill-rule=\"evenodd\" fill-opacity=\"1\" /><path clip-path=\"url(#clip960)\" d=\"M67.3143 808.019 Q73.68 810.502 75.6216 812.857 Q77.5631 815.212 77.5631 819.159 L77.5631 823.838 L72.6615 823.838 L72.6615 820.4 Q72.6615 817.981 71.5157 816.645 Q70.3699 815.308 66.1048 813.685 L63.4312 812.634 L28.3562 827.053 L28.3562 820.846 L56.238 809.706 L28.3562 798.566 L28.3562 792.359 L67.3143 808.019 Z\" fill=\"#000000\" fill-rule=\"evenodd\" fill-opacity=\"1\" /><path clip-path=\"url(#clip960)\" d=\"M14.5426 770.207 Q21.8632 774.472 29.0246 776.541 Q36.186 778.61 43.5384 778.61 Q50.8908 778.61 58.1159 776.541 Q65.3091 774.44 72.5979 770.207 L72.5979 775.299 Q65.1182 780.074 57.8931 782.461 Q50.668 784.816 43.5384 784.816 Q36.4406 784.816 29.2474 782.461 Q22.0542 780.105 14.5426 775.299 L14.5426 770.207 Z\" fill=\"#000000\" fill-rule=\"evenodd\" fill-opacity=\"1\" /><path clip-path=\"url(#clip960)\" d=\"M18.2347 753.051 L28.3562 753.051 L28.3562 740.988 L32.9077 740.988 L32.9077 753.051 L52.2594 753.051 Q56.6199 753.051 57.8613 751.874 Q59.1026 750.664 59.1026 747.004 L59.1026 740.988 L64.0042 740.988 L64.0042 747.004 Q64.0042 753.783 61.4897 756.361 Q58.9434 758.939 52.2594 758.939 L32.9077 758.939 L32.9077 763.236 L28.3562 763.236 L28.3562 758.939 L18.2347 758.939 L18.2347 753.051 Z\" fill=\"#000000\" fill-rule=\"evenodd\" fill-opacity=\"1\" /><path clip-path=\"url(#clip960)\" d=\"M14.5426 734.209 L14.5426 729.116 Q22.0542 724.342 29.2474 721.987 Q36.4406 719.599 43.5384 719.599 Q50.668 719.599 57.8931 721.987 Q65.1182 724.342 72.5979 729.116 L72.5979 734.209 Q65.3091 729.976 58.1159 727.907 Q50.8908 725.806 43.5384 725.806 Q36.186 725.806 29.0246 727.907 Q21.8632 729.976 14.5426 734.209 Z\" fill=\"#000000\" fill-rule=\"evenodd\" fill-opacity=\"1\" /><path clip-path=\"url(#clip960)\" d=\"M412.693 14.0809 L412.693 22.0612 Q408.035 19.8332 403.903 18.7395 Q399.771 17.6457 395.922 17.6457 Q389.238 17.6457 385.593 20.2383 Q381.987 22.8309 381.987 27.611 Q381.987 31.6214 384.377 33.6873 Q386.808 35.7128 393.532 36.9686 L398.474 37.9813 Q407.629 39.7232 411.964 44.1387 Q416.339 48.5136 416.339 55.8863 Q416.339 64.6767 410.425 69.2137 Q404.551 73.7508 393.168 73.7508 Q388.874 73.7508 384.013 72.7785 Q379.192 71.8063 374.007 69.9024 L374.007 61.4765 Q378.99 64.2716 383.77 65.6895 Q388.55 67.1073 393.168 67.1073 Q400.176 67.1073 403.984 64.3527 Q407.791 61.598 407.791 56.4939 Q407.791 52.0379 405.037 49.5264 Q402.323 47.0148 396.084 45.759 L391.102 44.7868 Q381.947 42.9639 377.855 39.075 Q373.764 35.1862 373.764 28.2591 Q373.764 20.2383 379.395 15.6203 Q385.066 11.0023 394.991 11.0023 Q399.244 11.0023 403.66 11.7719 Q408.075 12.5416 412.693 14.0809 Z\" fill=\"#000000\" fill-rule=\"evenodd\" fill-opacity=\"1\" /><path clip-path=\"url(#clip960)\" d=\"M446.356 32.4315 Q440.361 32.4315 436.877 37.1306 Q433.393 41.7891 433.393 49.9314 Q433.393 58.0738 436.836 62.7728 Q440.32 67.4314 446.356 67.4314 Q452.311 67.4314 455.795 62.7323 Q459.278 58.0333 459.278 49.9314 Q459.278 41.8701 455.795 37.1711 Q452.311 32.4315 446.356 32.4315 M446.356 26.1121 Q456.078 26.1121 461.628 32.4315 Q467.178 38.7509 467.178 49.9314 Q467.178 61.0714 461.628 67.4314 Q456.078 73.7508 446.356 73.7508 Q436.593 73.7508 431.044 67.4314 Q425.534 61.0714 425.534 49.9314 Q425.534 38.7509 431.044 32.4315 Q436.593 26.1121 446.356 26.1121 Z\" fill=\"#000000\" fill-rule=\"evenodd\" fill-opacity=\"1\" /><path clip-path=\"url(#clip960)\" d=\"M479.533 9.54393 L486.987 9.54393 L486.987 72.576 L479.533 72.576 L479.533 9.54393 Z\" fill=\"#000000\" fill-rule=\"evenodd\" fill-opacity=\"1\" /><path clip-path=\"url(#clip960)\" d=\"M501.813 54.671 L501.813 27.2059 L509.267 27.2059 L509.267 54.3874 Q509.267 60.8284 511.778 64.0691 Q514.29 67.2693 519.313 67.2693 Q525.349 67.2693 528.833 63.421 Q532.357 59.5726 532.357 52.9291 L532.357 27.2059 L539.81 27.2059 L539.81 72.576 L532.357 72.576 L532.357 65.6084 Q529.643 69.7404 526.037 71.7658 Q522.473 73.7508 517.733 73.7508 Q509.915 73.7508 505.864 68.8897 Q501.813 64.0286 501.813 54.671 M520.569 26.1121 L520.569 26.1121 Z\" fill=\"#000000\" fill-rule=\"evenodd\" fill-opacity=\"1\" /><path clip-path=\"url(#clip960)\" d=\"M587.814 28.9478 L587.814 35.9153 Q584.654 34.1734 581.454 33.3227 Q578.294 32.4315 575.053 32.4315 Q567.802 32.4315 563.792 37.0496 Q559.781 41.6271 559.781 49.9314 Q559.781 58.2358 563.792 62.8538 Q567.802 67.4314 575.053 67.4314 Q578.294 67.4314 581.454 66.5807 Q584.654 65.6895 587.814 63.9476 L587.814 70.8341 Q584.694 72.2924 581.332 73.0216 Q578.01 73.7508 574.243 73.7508 Q563.994 73.7508 557.959 67.3098 Q551.923 60.8689 551.923 49.9314 Q551.923 38.832 557.999 32.472 Q564.116 26.1121 574.729 26.1121 Q578.173 26.1121 581.454 26.8413 Q584.735 27.5299 587.814 28.9478 Z\" fill=\"#000000\" fill-rule=\"evenodd\" fill-opacity=\"1\" /><path clip-path=\"url(#clip960)\" d=\"M600.777 27.2059 L608.23 27.2059 L608.23 72.576 L600.777 72.576 L600.777 27.2059 M600.777 9.54393 L608.23 9.54393 L608.23 18.9825 L600.777 18.9825 L600.777 9.54393 Z\" fill=\"#000000\" fill-rule=\"evenodd\" fill-opacity=\"1\" /><path clip-path=\"url(#clip960)\" d=\"M641.407 32.4315 Q635.412 32.4315 631.928 37.1306 Q628.444 41.7891 628.444 49.9314 Q628.444 58.0738 631.888 62.7728 Q635.371 67.4314 641.407 67.4314 Q647.362 67.4314 650.846 62.7323 Q654.33 58.0333 654.33 49.9314 Q654.33 41.8701 650.846 37.1711 Q647.362 32.4315 641.407 32.4315 M641.407 26.1121 Q651.129 26.1121 656.679 32.4315 Q662.229 38.7509 662.229 49.9314 Q662.229 61.0714 656.679 67.4314 Q651.129 73.7508 641.407 73.7508 Q631.644 73.7508 626.095 67.4314 Q620.585 61.0714 620.585 49.9314 Q620.585 38.7509 626.095 32.4315 Q631.644 26.1121 641.407 26.1121 M647.038 6.22219 L655.099 6.22219 L641.893 21.4536 L635.695 21.4536 L647.038 6.22219 Z\" fill=\"#000000\" fill-rule=\"evenodd\" fill-opacity=\"1\" /><path clip-path=\"url(#clip960)\" d=\"M712.298 45.1919 L712.298 72.576 L704.844 72.576 L704.844 45.4349 Q704.844 38.994 702.333 35.7938 Q699.821 32.5936 694.798 32.5936 Q688.762 32.5936 685.278 36.4419 Q681.795 40.2903 681.795 46.9338 L681.795 72.576 L674.3 72.576 L674.3 27.2059 L681.795 27.2059 L681.795 34.2544 Q684.468 30.163 688.074 28.1376 Q691.719 26.1121 696.459 26.1121 Q704.277 26.1121 708.288 30.9732 Q712.298 35.7938 712.298 45.1919 Z\" fill=\"#000000\" fill-rule=\"evenodd\" fill-opacity=\"1\" /><path clip-path=\"url(#clip960)\" d=\"M792.344 48.0275 L792.344 51.6733 L758.073 51.6733 Q758.559 59.3701 762.691 63.421 Q766.864 67.4314 774.277 67.4314 Q778.571 67.4314 782.581 66.3781 Q786.632 65.3249 790.602 63.2184 L790.602 70.267 Q786.592 71.9684 782.379 72.8596 Q778.166 73.7508 773.831 73.7508 Q762.975 73.7508 756.615 67.4314 Q750.295 61.1119 750.295 50.3365 Q750.295 39.1965 756.291 32.6746 Q762.327 26.1121 772.535 26.1121 Q781.69 26.1121 786.997 32.0264 Q792.344 37.9003 792.344 48.0275 M784.89 45.84 Q784.809 39.7232 781.447 36.0774 Q778.125 32.4315 772.616 32.4315 Q766.378 32.4315 762.61 35.9558 Q758.883 39.4801 758.316 45.8805 L784.89 45.84 Z\" fill=\"#000000\" fill-rule=\"evenodd\" fill-opacity=\"1\" /><path clip-path=\"url(#clip960)\" d=\"M840.833 27.2059 L824.427 49.2833 L841.684 72.576 L832.893 72.576 L819.687 54.752 L806.481 72.576 L797.691 72.576 L815.312 48.8377 L799.19 27.2059 L807.98 27.2059 L820.012 43.369 L832.043 27.2059 L840.833 27.2059 Z\" fill=\"#000000\" fill-rule=\"evenodd\" fill-opacity=\"1\" /><path clip-path=\"url(#clip960)\" d=\"M872.835 49.7694 Q863.802 49.7694 860.318 51.8354 Q856.834 53.9013 856.834 58.8839 Q856.834 62.8538 859.427 65.2034 Q862.06 67.5124 866.556 67.5124 Q872.754 67.5124 876.481 63.1374 Q880.248 58.7219 880.248 51.4303 L880.248 49.7694 L872.835 49.7694 M887.702 46.6907 L887.702 72.576 L880.248 72.576 L880.248 65.6895 Q877.696 69.8214 873.889 71.8063 Q870.081 73.7508 864.571 73.7508 Q857.604 73.7508 853.472 69.8619 Q849.381 65.9325 849.381 59.3701 Q849.381 51.7138 854.485 47.825 Q859.629 43.9361 869.797 43.9361 L880.248 43.9361 L880.248 43.2069 Q880.248 38.0623 876.846 35.2672 Q873.483 32.4315 867.367 32.4315 Q863.478 32.4315 859.791 33.3632 Q856.105 34.295 852.702 36.1584 L852.702 29.2718 Q856.794 27.692 860.642 26.9223 Q864.49 26.1121 868.136 26.1121 Q877.98 26.1121 882.841 31.2163 Q887.702 36.3204 887.702 46.6907 Z\" fill=\"#000000\" fill-rule=\"evenodd\" fill-opacity=\"1\" /><path clip-path=\"url(#clip960)\" d=\"M935.705 28.9478 L935.705 35.9153 Q932.546 34.1734 929.345 33.3227 Q926.186 32.4315 922.945 32.4315 Q915.694 32.4315 911.683 37.0496 Q907.673 41.6271 907.673 49.9314 Q907.673 58.2358 911.683 62.8538 Q915.694 67.4314 922.945 67.4314 Q926.186 67.4314 929.345 66.5807 Q932.546 65.6895 935.705 63.9476 L935.705 70.8341 Q932.586 72.2924 929.224 73.0216 Q925.902 73.7508 922.135 73.7508 Q911.886 73.7508 905.85 67.3098 Q899.814 60.8689 899.814 49.9314 Q899.814 38.832 905.891 32.472 Q912.008 26.1121 922.621 26.1121 Q926.064 26.1121 929.345 26.8413 Q932.627 27.5299 935.705 28.9478 Z\" fill=\"#000000\" fill-rule=\"evenodd\" fill-opacity=\"1\" /><path clip-path=\"url(#clip960)\" d=\"M956.041 14.324 L956.041 27.2059 L971.394 27.2059 L971.394 32.9987 L956.041 32.9987 L956.041 57.6282 Q956.041 63.1779 957.54 64.7578 Q959.079 66.3376 963.738 66.3376 L971.394 66.3376 L971.394 72.576 L963.738 72.576 Q955.109 72.576 951.828 69.3758 Q948.547 66.1351 948.547 57.6282 L948.547 32.9987 L943.078 32.9987 L943.078 27.2059 L948.547 27.2059 L948.547 14.324 L956.041 14.324 Z\" fill=\"#000000\" fill-rule=\"evenodd\" fill-opacity=\"1\" /><path clip-path=\"url(#clip960)\" d=\"M1001.82 49.7694 Q992.783 49.7694 989.299 51.8354 Q985.815 53.9013 985.815 58.8839 Q985.815 62.8538 988.408 65.2034 Q991.041 67.5124 995.537 67.5124 Q1001.74 67.5124 1005.46 63.1374 Q1009.23 58.7219 1009.23 51.4303 L1009.23 49.7694 L1001.82 49.7694 M1016.68 46.6907 L1016.68 72.576 L1009.23 72.576 L1009.23 65.6895 Q1006.68 69.8214 1002.87 71.8063 Q999.061 73.7508 993.552 73.7508 Q986.585 73.7508 982.453 69.8619 Q978.361 65.9325 978.361 59.3701 Q978.361 51.7138 983.465 47.825 Q988.61 43.9361 998.778 43.9361 L1009.23 43.9361 L1009.23 43.2069 Q1009.23 38.0623 1005.83 35.2672 Q1002.46 32.4315 996.347 32.4315 Q992.458 32.4315 988.772 33.3632 Q985.086 34.295 981.683 36.1584 L981.683 29.2718 Q985.775 27.692 989.623 26.9223 Q993.471 26.1121 997.117 26.1121 Q1006.96 26.1121 1011.82 31.2163 Q1016.68 36.3204 1016.68 46.6907 Z\" fill=\"#000000\" fill-rule=\"evenodd\" fill-opacity=\"1\" /><path clip-path=\"url(#clip960)\" d=\"M1077.28 76.7889 Q1074.12 84.8907 1071.13 87.3618 Q1068.13 89.8329 1063.11 89.8329 L1057.15 89.8329 L1057.15 83.5945 L1061.53 83.5945 Q1064.61 83.5945 1066.31 82.1361 Q1068.01 80.6778 1070.07 75.2496 L1071.41 71.8468 L1053.06 27.2059 L1060.96 27.2059 L1075.14 62.6918 L1089.32 27.2059 L1097.21 27.2059 L1077.28 76.7889 Z\" fill=\"#000000\" fill-rule=\"evenodd\" fill-opacity=\"1\" /><path clip-path=\"url(#clip960)\" d=\"M1154.49 49.7694 Q1145.46 49.7694 1141.98 51.8354 Q1138.49 53.9013 1138.49 58.8839 Q1138.49 62.8538 1141.09 65.2034 Q1143.72 67.5124 1148.22 67.5124 Q1154.41 67.5124 1158.14 63.1374 Q1161.91 58.7219 1161.91 51.4303 L1161.91 49.7694 L1154.49 49.7694 M1169.36 46.6907 L1169.36 72.576 L1161.91 72.576 L1161.91 65.6895 Q1159.36 69.8214 1155.55 71.8063 Q1151.74 73.7508 1146.23 73.7508 Q1139.26 73.7508 1135.13 69.8619 Q1131.04 65.9325 1131.04 59.3701 Q1131.04 51.7138 1136.14 47.825 Q1141.29 43.9361 1151.46 43.9361 L1161.91 43.9361 L1161.91 43.2069 Q1161.91 38.0623 1158.51 35.2672 Q1155.14 32.4315 1149.03 32.4315 Q1145.14 32.4315 1141.45 33.3632 Q1137.76 34.295 1134.36 36.1584 L1134.36 29.2718 Q1138.45 27.692 1142.3 26.9223 Q1146.15 26.1121 1149.8 26.1121 Q1159.64 26.1121 1164.5 31.2163 Q1169.36 36.3204 1169.36 46.6907 Z\" fill=\"#000000\" fill-rule=\"evenodd\" fill-opacity=\"1\" /><path clip-path=\"url(#clip960)\" d=\"M1191.93 65.7705 L1191.93 89.8329 L1184.43 89.8329 L1184.43 27.2059 L1191.93 27.2059 L1191.93 34.0924 Q1194.27 30.0415 1197.84 28.0971 Q1201.44 26.1121 1206.43 26.1121 Q1214.69 26.1121 1219.84 32.6746 Q1225.02 39.2371 1225.02 49.9314 Q1225.02 60.6258 1219.84 67.1883 Q1214.69 73.7508 1206.43 73.7508 Q1201.44 73.7508 1197.84 71.8063 Q1194.27 69.8214 1191.93 65.7705 M1217.28 49.9314 Q1217.28 41.7081 1213.88 37.0496 Q1210.52 32.3505 1204.6 32.3505 Q1198.69 32.3505 1195.29 37.0496 Q1191.93 41.7081 1191.93 49.9314 Q1191.93 58.1548 1195.29 62.8538 Q1198.69 67.5124 1204.6 67.5124 Q1210.52 67.5124 1213.88 62.8538 Q1217.28 58.1548 1217.28 49.9314 Z\" fill=\"#000000\" fill-rule=\"evenodd\" fill-opacity=\"1\" /><path clip-path=\"url(#clip960)\" d=\"M1263.67 34.1734 Q1262.41 33.4443 1260.91 33.1202 Q1259.45 32.7556 1257.67 32.7556 Q1251.35 32.7556 1247.95 36.8875 Q1244.59 40.9789 1244.59 48.6757 L1244.59 72.576 L1237.09 72.576 L1237.09 27.2059 L1244.59 27.2059 L1244.59 34.2544 Q1246.94 30.1225 1250.7 28.1376 Q1254.47 26.1121 1259.86 26.1121 Q1260.63 26.1121 1261.56 26.2337 Q1262.49 26.3147 1263.63 26.5172 L1263.67 34.1734 Z\" fill=\"#000000\" fill-rule=\"evenodd\" fill-opacity=\"1\" /><path clip-path=\"url(#clip960)\" d=\"M1287.24 32.4315 Q1281.25 32.4315 1277.76 37.1306 Q1274.28 41.7891 1274.28 49.9314 Q1274.28 58.0738 1277.72 62.7728 Q1281.21 67.4314 1287.24 67.4314 Q1293.2 67.4314 1296.68 62.7323 Q1300.17 58.0333 1300.17 49.9314 Q1300.17 41.8701 1296.68 37.1711 Q1293.2 32.4315 1287.24 32.4315 M1287.24 26.1121 Q1296.96 26.1121 1302.51 32.4315 Q1308.06 38.7509 1308.06 49.9314 Q1308.06 61.0714 1302.51 67.4314 Q1296.96 73.7508 1287.24 73.7508 Q1277.48 73.7508 1271.93 67.4314 Q1266.42 61.0714 1266.42 49.9314 Q1266.42 38.7509 1271.93 32.4315 Q1277.48 26.1121 1287.24 26.1121 Z\" fill=\"#000000\" fill-rule=\"evenodd\" fill-opacity=\"1\" /><path clip-path=\"url(#clip960)\" d=\"M1355.58 27.2059 L1339.18 49.2833 L1356.43 72.576 L1347.64 72.576 L1334.44 54.752 L1321.23 72.576 L1312.44 72.576 L1330.06 48.8377 L1313.94 27.2059 L1322.73 27.2059 L1334.76 43.369 L1346.79 27.2059 L1355.58 27.2059 Z\" fill=\"#000000\" fill-rule=\"evenodd\" fill-opacity=\"1\" /><path clip-path=\"url(#clip960)\" d=\"M1366.96 27.2059 L1374.42 27.2059 L1374.42 72.576 L1366.96 72.576 L1366.96 27.2059 M1366.96 9.54393 L1374.42 9.54393 L1374.42 18.9825 L1366.96 18.9825 L1366.96 9.54393 Z\" fill=\"#000000\" fill-rule=\"evenodd\" fill-opacity=\"1\" /><path clip-path=\"url(#clip960)\" d=\"M1425.34 35.9153 Q1428.13 30.8922 1432.02 28.5022 Q1435.91 26.1121 1441.18 26.1121 Q1448.27 26.1121 1452.11 31.0947 Q1455.96 36.0368 1455.96 45.1919 L1455.96 72.576 L1448.47 72.576 L1448.47 45.4349 Q1448.47 38.913 1446.16 35.7533 Q1443.85 32.5936 1439.11 32.5936 Q1433.32 32.5936 1429.96 36.4419 Q1426.59 40.2903 1426.59 46.9338 L1426.59 72.576 L1419.1 72.576 L1419.1 45.4349 Q1419.1 38.8725 1416.79 35.7533 Q1414.48 32.5936 1409.66 32.5936 Q1403.95 32.5936 1400.59 36.4824 Q1397.22 40.3308 1397.22 46.9338 L1397.22 72.576 L1389.73 72.576 L1389.73 27.2059 L1397.22 27.2059 L1397.22 34.2544 Q1399.78 30.082 1403.34 28.0971 Q1406.91 26.1121 1411.81 26.1121 Q1416.75 26.1121 1420.19 28.6237 Q1423.68 31.1352 1425.34 35.9153 Z\" fill=\"#000000\" fill-rule=\"evenodd\" fill-opacity=\"1\" /><path clip-path=\"url(#clip960)\" d=\"M1491.45 49.7694 Q1482.42 49.7694 1478.93 51.8354 Q1475.45 53.9013 1475.45 58.8839 Q1475.45 62.8538 1478.04 65.2034 Q1480.67 67.5124 1485.17 67.5124 Q1491.37 67.5124 1495.09 63.1374 Q1498.86 58.7219 1498.86 51.4303 L1498.86 49.7694 L1491.45 49.7694 M1506.32 46.6907 L1506.32 72.576 L1498.86 72.576 L1498.86 65.6895 Q1496.31 69.8214 1492.5 71.8063 Q1488.69 73.7508 1483.19 73.7508 Q1476.22 73.7508 1472.09 69.8619 Q1467.99 65.9325 1467.99 59.3701 Q1467.99 51.7138 1473.1 47.825 Q1478.24 43.9361 1488.41 43.9361 L1498.86 43.9361 L1498.86 43.2069 Q1498.86 38.0623 1495.46 35.2672 Q1492.1 32.4315 1485.98 32.4315 Q1482.09 32.4315 1478.4 33.3632 Q1474.72 34.295 1471.32 36.1584 L1471.32 29.2718 Q1475.41 27.692 1479.26 26.9223 Q1483.1 26.1121 1486.75 26.1121 Q1496.59 26.1121 1501.45 31.2163 Q1506.32 36.3204 1506.32 46.6907 Z\" fill=\"#000000\" fill-rule=\"evenodd\" fill-opacity=\"1\" /><path clip-path=\"url(#clip960)\" d=\"M1554.32 28.9478 L1554.32 35.9153 Q1551.16 34.1734 1547.96 33.3227 Q1544.8 32.4315 1541.56 32.4315 Q1534.31 32.4315 1530.3 37.0496 Q1526.29 41.6271 1526.29 49.9314 Q1526.29 58.2358 1530.3 62.8538 Q1534.31 67.4314 1541.56 67.4314 Q1544.8 67.4314 1547.96 66.5807 Q1551.16 65.6895 1554.32 63.9476 L1554.32 70.8341 Q1551.2 72.2924 1547.84 73.0216 Q1544.52 73.7508 1540.75 73.7508 Q1530.5 73.7508 1524.46 67.3098 Q1518.43 60.8689 1518.43 49.9314 Q1518.43 38.832 1524.5 32.472 Q1530.62 26.1121 1541.23 26.1121 Q1544.68 26.1121 1547.96 26.8413 Q1551.24 27.5299 1554.32 28.9478 Z\" fill=\"#000000\" fill-rule=\"evenodd\" fill-opacity=\"1\" /><path clip-path=\"url(#clip960)\" d=\"M1567.28 27.2059 L1574.74 27.2059 L1574.74 72.576 L1567.28 72.576 L1567.28 27.2059 M1567.28 9.54393 L1574.74 9.54393 L1574.74 18.9825 L1567.28 18.9825 L1567.28 9.54393 Z\" fill=\"#000000\" fill-rule=\"evenodd\" fill-opacity=\"1\" /><path clip-path=\"url(#clip960)\" d=\"M1607.91 32.4315 Q1601.92 32.4315 1598.43 37.1306 Q1594.95 41.7891 1594.95 49.9314 Q1594.95 58.0738 1598.39 62.7728 Q1601.88 67.4314 1607.91 67.4314 Q1613.87 67.4314 1617.35 62.7323 Q1620.83 58.0333 1620.83 49.9314 Q1620.83 41.8701 1617.35 37.1711 Q1613.87 32.4315 1607.91 32.4315 M1607.91 26.1121 Q1617.63 26.1121 1623.18 32.4315 Q1628.73 38.7509 1628.73 49.9314 Q1628.73 61.0714 1623.18 67.4314 Q1617.63 73.7508 1607.91 73.7508 Q1598.15 73.7508 1592.6 67.4314 Q1587.09 61.0714 1587.09 49.9314 Q1587.09 38.7509 1592.6 32.4315 Q1598.15 26.1121 1607.91 26.1121 Z\" fill=\"#000000\" fill-rule=\"evenodd\" fill-opacity=\"1\" /><path clip-path=\"url(#clip960)\" d=\"M1678.8 45.1919 L1678.8 72.576 L1671.35 72.576 L1671.35 45.4349 Q1671.35 38.994 1668.84 35.7938 Q1666.33 32.5936 1661.3 32.5936 Q1655.27 32.5936 1651.78 36.4419 Q1648.3 40.2903 1648.3 46.9338 L1648.3 72.576 L1640.81 72.576 L1640.81 27.2059 L1648.3 27.2059 L1648.3 34.2544 Q1650.97 30.163 1654.58 28.1376 Q1658.22 26.1121 1662.96 26.1121 Q1670.78 26.1121 1674.79 30.9732 Q1678.8 35.7938 1678.8 45.1919 Z\" fill=\"#000000\" fill-rule=\"evenodd\" fill-opacity=\"1\" /><path clip-path=\"url(#clip960)\" d=\"M1732.48 48.0275 L1732.48 51.6733 L1698.21 51.6733 Q1698.69 59.3701 1702.83 63.421 Q1707 67.4314 1714.41 67.4314 Q1718.7 67.4314 1722.71 66.3781 Q1726.77 65.3249 1730.74 63.2184 L1730.74 70.267 Q1726.73 71.9684 1722.51 72.8596 Q1718.3 73.7508 1713.97 73.7508 Q1703.11 73.7508 1696.75 67.4314 Q1690.43 61.1119 1690.43 50.3365 Q1690.43 39.1965 1696.42 32.6746 Q1702.46 26.1121 1712.67 26.1121 Q1721.82 26.1121 1727.13 32.0264 Q1732.48 37.9003 1732.48 48.0275 M1725.02 45.84 Q1724.94 39.7232 1721.58 36.0774 Q1718.26 32.4315 1712.75 32.4315 Q1706.51 32.4315 1702.74 35.9558 Q1699.02 39.4801 1698.45 45.8805 L1725.02 45.84 Z\" fill=\"#000000\" fill-rule=\"evenodd\" fill-opacity=\"1\" /><path clip-path=\"url(#clip960)\" d=\"M1773.63 28.5427 L1773.63 35.5912 Q1770.48 33.9709 1767.07 33.1607 Q1763.67 32.3505 1760.02 32.3505 Q1754.47 32.3505 1751.68 34.0519 Q1748.92 35.7533 1748.92 39.156 Q1748.92 41.7486 1750.91 43.2475 Q1752.89 44.7058 1758.89 46.0426 L1761.44 46.6097 Q1769.38 48.3111 1772.7 51.4303 Q1776.07 54.509 1776.07 60.0587 Q1776.07 66.3781 1771.04 70.0644 Q1766.06 73.7508 1757.31 73.7508 Q1753.66 73.7508 1749.69 73.0216 Q1745.76 72.3329 1741.39 70.9151 L1741.39 63.2184 Q1745.52 65.3654 1749.53 66.4591 Q1753.54 67.5124 1757.47 67.5124 Q1762.74 67.5124 1765.57 65.73 Q1768.41 63.9071 1768.41 60.6258 Q1768.41 57.5877 1766.34 55.9673 Q1764.32 54.3469 1757.39 52.8481 L1754.8 52.2405 Q1747.87 50.7821 1744.79 47.7845 Q1741.71 44.7463 1741.71 39.4801 Q1741.71 33.0797 1746.25 29.5959 Q1750.79 26.1121 1759.13 26.1121 Q1763.26 26.1121 1766.91 26.7198 Q1770.56 27.3274 1773.63 28.5427 Z\" fill=\"#000000\" fill-rule=\"evenodd\" fill-opacity=\"1\" /><path clip-path=\"url(#clip960)\" d=\"M1846.96 28.9478 L1846.96 35.9153 Q1843.8 34.1734 1840.6 33.3227 Q1837.44 32.4315 1834.2 32.4315 Q1826.94 32.4315 1822.93 37.0496 Q1818.92 41.6271 1818.92 49.9314 Q1818.92 58.2358 1822.93 62.8538 Q1826.94 67.4314 1834.2 67.4314 Q1837.44 67.4314 1840.6 66.5807 Q1843.8 65.6895 1846.96 63.9476 L1846.96 70.8341 Q1843.84 72.2924 1840.47 73.0216 Q1837.15 73.7508 1833.39 73.7508 Q1823.14 73.7508 1817.1 67.3098 Q1811.07 60.8689 1811.07 49.9314 Q1811.07 38.832 1817.14 32.472 Q1823.26 26.1121 1833.87 26.1121 Q1837.32 26.1121 1840.6 26.8413 Q1843.88 27.5299 1846.96 28.9478 Z\" fill=\"#000000\" fill-rule=\"evenodd\" fill-opacity=\"1\" /><path clip-path=\"url(#clip960)\" d=\"M1877.5 32.4315 Q1871.5 32.4315 1868.02 37.1306 Q1864.54 41.7891 1864.54 49.9314 Q1864.54 58.0738 1867.98 62.7728 Q1871.46 67.4314 1877.5 67.4314 Q1883.45 67.4314 1886.94 62.7323 Q1890.42 58.0333 1890.42 49.9314 Q1890.42 41.8701 1886.94 37.1711 Q1883.45 32.4315 1877.5 32.4315 M1877.5 26.1121 Q1887.22 26.1121 1892.77 32.4315 Q1898.32 38.7509 1898.32 49.9314 Q1898.32 61.0714 1892.77 67.4314 Q1887.22 73.7508 1877.5 73.7508 Q1867.74 73.7508 1862.19 67.4314 Q1856.68 61.0714 1856.68 49.9314 Q1856.68 38.7509 1862.19 32.4315 Q1867.74 26.1121 1877.5 26.1121 Z\" fill=\"#000000\" fill-rule=\"evenodd\" fill-opacity=\"1\" /><path clip-path=\"url(#clip960)\" d=\"M1948.39 45.1919 L1948.39 72.576 L1940.94 72.576 L1940.94 45.4349 Q1940.94 38.994 1938.43 35.7938 Q1935.91 32.5936 1930.89 32.5936 Q1924.86 32.5936 1921.37 36.4419 Q1917.89 40.2903 1917.89 46.9338 L1917.89 72.576 L1910.39 72.576 L1910.39 27.2059 L1917.89 27.2059 L1917.89 34.2544 Q1920.56 30.163 1924.17 28.1376 Q1927.81 26.1121 1932.55 26.1121 Q1940.37 26.1121 1944.38 30.9732 Q1948.39 35.7938 1948.39 45.1919 Z\" fill=\"#000000\" fill-rule=\"evenodd\" fill-opacity=\"1\" /><path clip-path=\"url(#clip960)\" d=\"M2027.34 45.1919 L2027.34 72.576 L2019.89 72.576 L2019.89 45.4349 Q2019.89 38.994 2017.38 35.7938 Q2014.87 32.5936 2009.84 32.5936 Q2003.81 32.5936 2000.32 36.4419 Q1996.84 40.2903 1996.84 46.9338 L1996.84 72.576 L1989.35 72.576 L1989.35 9.54393 L1996.84 9.54393 L1996.84 34.2544 Q1999.51 30.163 2003.12 28.1376 Q2006.76 26.1121 2011.5 26.1121 Q2019.32 26.1121 2023.33 30.9732 Q2027.34 35.7938 2027.34 45.1919 Z\" fill=\"#000000\" fill-rule=\"evenodd\" fill-opacity=\"1\" /><path clip-path=\"url(#clip960)\" d=\"M2043.18 34.9026 L2095.11 34.9026 L2095.11 41.7081 L2043.18 41.7081 L2043.18 34.9026 M2043.18 51.4303 L2095.11 51.4303 L2095.11 58.3168 L2043.18 58.3168 L2043.18 51.4303 Z\" fill=\"#000000\" fill-rule=\"evenodd\" fill-opacity=\"1\" /><path clip-path=\"url(#clip960)\" d=\"M2130.28 17.4837 Q2123.96 17.4837 2120.76 23.7221 Q2117.6 29.92 2117.6 42.3968 Q2117.6 54.833 2120.76 61.0714 Q2123.96 67.2693 2130.28 67.2693 Q2136.64 67.2693 2139.8 61.0714 Q2143 54.833 2143 42.3968 Q2143 29.92 2139.8 23.7221 Q2136.64 17.4837 2130.28 17.4837 M2130.28 11.0023 Q2140.44 11.0023 2145.79 19.0636 Q2151.18 27.0843 2151.18 42.3968 Q2151.18 57.6687 2145.79 65.73 Q2140.44 73.7508 2130.28 73.7508 Q2120.11 73.7508 2114.72 65.73 Q2109.37 57.6687 2109.37 42.3968 Q2109.37 27.0843 2114.72 19.0636 Q2120.11 11.0023 2130.28 11.0023 Z\" fill=\"#000000\" fill-rule=\"evenodd\" fill-opacity=\"1\" /><path clip-path=\"url(#clip960)\" d=\"M2166.41 62.2867 L2174.96 62.2867 L2174.96 69.2543 L2168.31 82.2172 L2163.09 82.2172 L2166.41 69.2543 L2166.41 62.2867 Z\" fill=\"#000000\" fill-rule=\"evenodd\" fill-opacity=\"1\" /><path clip-path=\"url(#clip960)\" d=\"M2193.35 65.6895 L2206.72 65.6895 L2206.72 19.5497 L2192.17 22.4663 L2192.17 15.0127 L2206.64 12.096 L2214.82 12.096 L2214.82 65.6895 L2228.19 65.6895 L2228.19 72.576 L2193.35 72.576 L2193.35 65.6895 Z\" fill=\"#000000\" fill-rule=\"evenodd\" fill-opacity=\"1\" /><polyline clip-path=\"url(#clip962)\" style=\"stroke:#000000; stroke-linecap:butt; stroke-linejoin:round; stroke-width:10; stroke-opacity:1; fill:none\" points=\"\n",
       "  308.73,160.256 358.342,166.372 407.954,184.538 457.566,214.215 507.179,254.537 556.791,304.347 606.403,362.26 656.016,426.72 705.628,496.072 755.24,568.633 \n",
       "  804.852,642.757 854.465,716.893 904.077,789.638 953.689,859.774 1003.3,926.295 1052.91,988.416 1102.53,1045.58 1152.14,1097.44 1201.75,1143.85 1251.36,1184.84 \n",
       "  1300.98,1220.57 1350.59,1251.33 1400.2,1277.49 1449.81,1299.46 1499.42,1317.69 1549.04,1332.65 1598.65,1344.78 1648.26,1354.5 1697.87,1362.2 1747.49,1368.23 \n",
       "  1797.1,1372.91 1846.71,1376.49 1896.32,1379.2 1945.94,1381.23 1995.55,1382.74 2045.16,1383.85 2094.77,1384.65 2144.38,1385.22 2194,1385.63 2243.61,1385.92 \n",
       "  2293.22,1386.12 \n",
       "  \"/>\n",
       "<polyline clip-path=\"url(#clip962)\" style=\"stroke:#800080; stroke-linecap:butt; stroke-linejoin:round; stroke-width:10; stroke-opacity:1; fill:none\" stroke-dasharray=\"40, 25\" points=\"\n",
       "  308.73,160.256 359.614,160.256 410.498,173.156 461.383,198.684 512.267,236.17 563.152,284.574 614.036,342.534 664.92,408.427 715.805,480.45 766.689,556.701 \n",
       "  817.574,635.265 868.458,714.293 919.342,792.08 970.227,867.119 1021.11,938.149 1072,1004.18 1122.88,1064.51 1173.76,1118.71 1224.65,1166.61 1275.53,1208.25 \n",
       "  1326.42,1243.88 1377.3,1273.89 1428.19,1298.77 1479.07,1319.08 1529.96,1335.4 1580.84,1348.31 1631.72,1358.36 1682.61,1366.06 1733.49,1371.88 1784.38,1376.19 \n",
       "  1835.26,1379.35 1886.15,1381.61 1937.03,1383.22 1987.91,1384.33 2038.8,1385.09 2089.68,1385.61 2140.57,1385.95 2191.45,1386.17 2242.34,1386.31 2293.22,1386.4 \n",
       "  \n",
       "  \"/>\n",
       "<polyline clip-path=\"url(#clip962)\" style=\"stroke:#00ffff; stroke-linecap:butt; stroke-linejoin:round; stroke-width:10; stroke-opacity:1; fill:none\" stroke-dasharray=\"5, 10\" points=\"\n",
       "  308.73,160.256 359.614,166.689 410.498,185.786 461.383,216.952 512.267,259.23 563.152,311.35 614.036,371.791 664.92,438.856 715.805,510.75 766.689,585.658 \n",
       "  817.574,661.824 868.458,737.607 919.342,811.547 970.227,882.392 1021.11,949.134 1072,1011.01 1122.88,1067.51 1173.76,1118.34 1224.65,1163.43 1275.53,1202.89 \n",
       "  1326.42,1236.94 1377.3,1265.96 1428.19,1290.36 1479.07,1310.63 1529.96,1327.25 1580.84,1340.72 1631.72,1351.5 1682.61,1360.02 1733.49,1366.68 1784.38,1371.82 \n",
       "  1835.26,1375.74 1886.15,1378.7 1937.03,1380.91 1987.91,1382.54 2038.8,1383.72 2089.68,1384.58 2140.57,1385.18 2191.45,1385.61 2242.34,1385.91 2293.22,1386.12 \n",
       "  \n",
       "  \"/>\n",
       "<path clip-path=\"url(#clip960)\" d=\"\n",
       "M1528.75 423.428 L2282.64 423.428 L2282.64 166.796 L1528.75 166.796  Z\n",
       "  \" fill=\"#ffffff\" fill-rule=\"evenodd\" fill-opacity=\"1\"/>\n",
       "<polyline clip-path=\"url(#clip960)\" style=\"stroke:#000000; stroke-linecap:butt; stroke-linejoin:round; stroke-width:4; stroke-opacity:1; fill:none\" points=\"\n",
       "  1528.75,423.428 2282.64,423.428 2282.64,166.796 1528.75,166.796 1528.75,423.428 \n",
       "  \"/>\n",
       "<polyline clip-path=\"url(#clip960)\" style=\"stroke:#000000; stroke-linecap:butt; stroke-linejoin:round; stroke-width:4; stroke-opacity:1; fill:none\" points=\"\n",
       "  1552.12,230.954 1692.36,230.954 \n",
       "  \"/>\n",
       "<path clip-path=\"url(#clip960)\" d=\"M1737.86 231.655 Q1737.86 231.983 1737.65 232.755 L1733.06 251.072 Q1732.05 255.147 1728.78 258.005 Q1725.52 260.862 1721.82 260.862 Q1719.59 260.862 1718.16 259.668 Q1716.74 258.497 1716.74 256.693 Q1716.74 255.1 1717.58 254.328 Q1718.42 253.578 1719.43 253.578 Q1719.76 253.578 1720.11 253.672 Q1720.46 253.765 1720.84 254.164 Q1721.21 254.562 1721.21 255.241 Q1721.21 256.342 1720.25 257.209 Q1719.78 257.607 1719.34 257.7 Q1718.91 257.794 1718.19 257.794 Q1718.47 258.45 1718.98 258.895 Q1719.5 259.34 1720.09 259.504 Q1720.67 259.691 1721.05 259.738 Q1721.44 259.808 1721.82 259.808 Q1724.82 259.808 1727.11 256.787 Q1727.79 255.873 1728.28 254.96 Q1728.8 254.07 1729.17 252.969 Q1729.55 251.892 1729.71 251.306 Q1729.9 250.72 1730.23 249.385 Q1728.05 251.564 1725.38 251.564 Q1724.25 251.564 1723.25 251.259 Q1722.26 250.955 1721.4 250.322 Q1720.53 249.666 1720.02 248.519 Q1719.52 247.371 1719.52 245.849 Q1719.52 244.232 1720.16 242.031 Q1720.79 239.829 1722.31 235.777 Q1723.13 233.505 1723.13 232.404 Q1723.13 231.865 1723.01 231.538 Q1722.9 231.186 1722.66 231.069 Q1722.43 230.929 1722.29 230.905 Q1722.17 230.882 1721.94 230.882 Q1720.55 230.882 1719.27 232.287 Q1717.98 233.692 1717.09 236.831 Q1716.9 237.417 1716.78 237.557 Q1716.67 237.698 1716.31 237.698 Q1715.73 237.674 1715.73 237.206 Q1715.73 237.018 1715.94 236.292 Q1716.15 235.543 1716.64 234.442 Q1717.16 233.318 1717.86 232.31 Q1718.56 231.28 1719.66 230.554 Q1720.79 229.828 1722.08 229.828 Q1723.83 229.828 1724.91 230.975 Q1726.01 232.1 1726.01 233.763 Q1726.01 234.442 1725.82 235.051 Q1725.66 235.636 1725.05 237.206 Q1722.59 243.53 1722.59 246.622 Q1722.59 247.371 1722.71 248.003 Q1722.85 248.612 1723.15 249.221 Q1723.46 249.807 1724.07 250.158 Q1724.7 250.486 1725.57 250.486 Q1726.67 250.486 1727.7 249.971 Q1728.75 249.432 1729.41 248.706 Q1730.09 247.98 1730.49 247.371 Q1730.91 246.739 1731 246.411 L1733.16 237.791 L1734.12 233.95 Q1734.56 231.865 1734.77 231.35 Q1735.05 230.858 1735.54 230.601 Q1736.04 230.343 1736.46 230.343 Q1737.04 230.343 1737.44 230.694 Q1737.86 231.046 1737.86 231.655 Z\" fill=\"#000000\" fill-rule=\"evenodd\" fill-opacity=\"1\" /><path clip-path=\"url(#clip960)\" d=\"M1755.53 265.687 Q1755.66 265.835 1755.66 265.982 Q1755.66 266.13 1755.33 266.556 Q1755.02 266.982 1754.35 267.556 Q1753.67 268.13 1752.81 268.671 Q1751.94 269.212 1750.66 269.573 Q1749.38 269.95 1748.03 269.95 Q1745.62 269.95 1744.18 268.228 Q1742.76 266.507 1742.76 263.867 Q1742.76 262.178 1743.31 260.686 Q1743.87 259.178 1744.77 258.112 Q1745.69 257.046 1746.84 256.276 Q1748 255.489 1749.22 255.112 Q1750.43 254.735 1751.56 254.735 Q1753.22 254.735 1754.18 255.571 Q1755.15 256.407 1755.15 257.588 Q1755.15 257.866 1755.07 258.211 Q1755 258.555 1754.77 259.096 Q1754.56 259.637 1754 260.178 Q1753.45 260.703 1752.63 261.047 Q1750.81 261.818 1747.49 261.818 L1745.71 261.818 Q1745.18 263.933 1745.18 265.31 Q1745.18 265.851 1745.28 266.408 Q1745.38 266.949 1745.64 267.638 Q1745.92 268.327 1746.54 268.769 Q1747.18 269.196 1748.1 269.196 Q1748.4 269.196 1748.71 269.179 Q1749.03 269.163 1749.85 268.983 Q1750.69 268.802 1751.43 268.491 Q1752.17 268.179 1753.1 267.507 Q1754.05 266.818 1754.81 265.884 Q1755.07 265.539 1755.25 265.539 Q1755.4 265.539 1755.53 265.687 M1754.04 257.588 Q1754.04 256.686 1753.36 256.079 Q1752.71 255.472 1751.56 255.472 Q1751.2 255.472 1750.76 255.554 Q1750.31 255.636 1749.58 255.981 Q1748.85 256.325 1748.21 256.899 Q1747.58 257.456 1746.94 258.555 Q1746.3 259.637 1745.92 261.08 L1747.3 261.08 Q1747.77 261.08 1748.12 261.08 Q1748.46 261.063 1749.22 260.998 Q1749.99 260.932 1750.54 260.817 Q1751.1 260.686 1751.81 260.424 Q1752.51 260.162 1752.95 259.817 Q1753.41 259.457 1753.72 258.883 Q1754.04 258.309 1754.04 257.588 Z\" fill=\"#000000\" fill-rule=\"evenodd\" fill-opacity=\"1\" /><path clip-path=\"url(#clip960)\" d=\"M1760.65 239.033 Q1760.65 230.929 1763.67 224.394 Q1764.96 221.653 1766.76 219.358 Q1768.57 217.062 1769.76 216.055 Q1770.96 215.048 1771.28 215.048 Q1771.75 215.048 1771.78 215.517 Q1771.78 215.751 1771.14 216.336 Q1763.41 224.206 1763.44 239.033 Q1763.44 253.906 1770.96 261.471 Q1771.78 262.291 1771.78 262.549 Q1771.78 263.017 1771.28 263.017 Q1770.96 263.017 1769.81 262.057 Q1768.66 261.097 1766.88 258.895 Q1765.1 256.693 1763.81 254 Q1760.65 247.465 1760.65 239.033 Z\" fill=\"#000000\" fill-rule=\"evenodd\" fill-opacity=\"1\" /><path clip-path=\"url(#clip960)\" d=\"M1790.15 230.882 Q1790.15 231.538 1789.85 231.701 Q1789.54 231.842 1788.7 231.842 L1784.2 231.842 L1780.64 245.989 Q1780.36 247.231 1780.36 248.285 Q1780.36 249.456 1780.71 249.971 Q1781.09 250.486 1781.86 250.486 Q1783.38 250.486 1785.02 249.104 Q1786.68 247.722 1788.09 244.35 Q1788.28 243.905 1788.37 243.811 Q1788.49 243.694 1788.79 243.694 Q1789.38 243.694 1789.38 244.162 Q1789.38 244.326 1789.05 245.076 Q1788.75 245.825 1788.07 246.926 Q1787.41 248.027 1786.54 249.057 Q1785.7 250.088 1784.41 250.838 Q1783.12 251.564 1781.74 251.564 Q1779.8 251.564 1778.56 250.322 Q1777.34 249.081 1777.34 247.137 Q1777.34 246.504 1777.83 244.49 Q1778.32 242.452 1780.99 231.842 L1776.75 231.842 Q1776.17 231.842 1775.93 231.819 Q1775.72 231.795 1775.56 231.678 Q1775.42 231.538 1775.42 231.256 Q1775.42 230.811 1775.61 230.624 Q1775.79 230.413 1776.03 230.39 Q1776.28 230.343 1776.87 230.343 L1781.37 230.343 L1783.24 222.731 Q1783.43 221.981 1783.9 221.56 Q1784.39 221.115 1784.67 221.068 Q1784.95 220.997 1785.16 220.997 Q1785.79 220.997 1786.17 221.349 Q1786.54 221.677 1786.54 222.286 Q1786.54 222.614 1784.58 230.343 L1788.79 230.343 Q1789.33 230.343 1789.54 230.366 Q1789.78 230.39 1789.96 230.507 Q1790.15 230.624 1790.15 230.882 Z\" fill=\"#000000\" fill-rule=\"evenodd\" fill-opacity=\"1\" /><path clip-path=\"url(#clip960)\" d=\"M1793.9 262.549 Q1793.9 262.315 1794.51 261.729 Q1802.24 253.859 1802.24 239.033 Q1802.24 224.159 1794.82 216.641 Q1793.9 215.774 1793.9 215.517 Q1793.9 215.048 1794.37 215.048 Q1794.7 215.048 1795.85 216.008 Q1797.02 216.969 1798.77 219.17 Q1800.55 221.372 1801.87 224.066 Q1805.03 230.601 1805.03 239.033 Q1805.03 247.137 1802.01 253.672 Q1800.72 256.412 1798.91 258.708 Q1797.11 261.003 1795.92 262.01 Q1794.72 263.017 1794.37 263.017 Q1793.9 263.017 1793.9 262.549 Z\" fill=\"#000000\" fill-rule=\"evenodd\" fill-opacity=\"1\" /><path clip-path=\"url(#clip960)\" d=\"M1825.62 243.741 Q1825.67 243.155 1826.58 243.155 L1855.98 243.155 Q1857.36 243.155 1857.38 243.694 Q1857.38 244.279 1856.07 244.256 L1826.91 244.256 Q1825.62 244.279 1825.62 243.741 M1825.62 234.372 Q1825.62 233.786 1826.63 233.809 L1855.93 233.809 Q1857.36 233.809 1857.38 234.372 Q1857.38 234.91 1856.16 234.91 L1826.58 234.91 Q1825.62 234.91 1825.62 234.372 Z\" fill=\"#000000\" fill-rule=\"evenodd\" fill-opacity=\"1\" /><path clip-path=\"url(#clip960)\" d=\"M1875.87 223.644 L1875.87 222.145 Q1881.64 222.145 1884.61 219.077 Q1885.43 219.077 1885.57 219.264 Q1885.71 219.452 1885.71 220.318 L1885.71 247.231 Q1885.71 248.659 1886.41 249.104 Q1887.12 249.549 1890.18 249.549 L1891.71 249.549 L1891.71 251.025 Q1890.02 250.884 1883.93 250.884 Q1877.84 250.884 1876.18 251.025 L1876.18 249.549 L1877.7 249.549 Q1880.72 249.549 1881.45 249.128 Q1882.17 248.683 1882.17 247.231 L1882.17 222.379 Q1879.67 223.644 1875.87 223.644 Z\" fill=\"#000000\" fill-rule=\"evenodd\" fill-opacity=\"1\" /><path clip-path=\"url(#clip960)\" d=\"M1914.03 239.618 Q1912.93 239.618 1912.93 239.033 Q1912.93 238.447 1914.08 238.447 Q1914.22 238.447 1914.45 238.471 Q1914.71 238.494 1914.76 238.494 L1928.27 238.494 L1928.27 224.932 Q1928.27 224.886 1928.25 224.675 Q1928.22 224.441 1928.22 224.3 Q1928.22 223.152 1928.79 223.152 Q1929.37 223.152 1929.37 224.3 L1929.37 238.494 L1942.91 238.494 Q1942.96 238.494 1943.19 238.471 Q1943.42 238.447 1943.56 238.447 Q1944.67 238.447 1944.67 239.033 Q1944.69 239.618 1943.52 239.618 Q1943.38 239.618 1943.17 239.595 Q1942.96 239.571 1942.91 239.571 L1929.37 239.571 L1929.37 253.812 Q1929.37 254.913 1928.79 254.913 Q1928.22 254.913 1928.22 253.765 Q1928.22 253.625 1928.25 253.391 Q1928.27 253.18 1928.27 253.133 L1928.27 239.571 L1914.76 239.571 Q1914.71 239.571 1914.43 239.595 Q1914.17 239.618 1914.03 239.618 Z\" fill=\"#000000\" fill-rule=\"evenodd\" fill-opacity=\"1\" /><path clip-path=\"url(#clip960)\" d=\"M1981.43 245.474 Q1981.61 245.685 1981.61 245.895 Q1981.61 246.106 1981.14 246.715 Q1980.7 247.324 1979.74 248.144 Q1978.78 248.964 1977.54 249.737 Q1976.3 250.51 1974.47 251.025 Q1972.64 251.564 1970.72 251.564 Q1967.28 251.564 1965.22 249.104 Q1963.18 246.645 1963.18 242.874 Q1963.18 240.461 1963.98 238.33 Q1964.77 236.175 1966.06 234.653 Q1967.37 233.13 1969.01 232.029 Q1970.68 230.905 1972.41 230.366 Q1974.14 229.828 1975.76 229.828 Q1978.12 229.828 1979.51 231.022 Q1980.89 232.217 1980.89 233.903 Q1980.89 234.301 1980.77 234.793 Q1980.68 235.285 1980.35 236.058 Q1980.04 236.831 1979.25 237.604 Q1978.45 238.353 1977.28 238.845 Q1974.68 239.946 1969.95 239.946 L1967.4 239.946 Q1966.65 242.968 1966.65 244.935 Q1966.65 245.708 1966.79 246.504 Q1966.93 247.277 1967.3 248.261 Q1967.7 249.245 1968.59 249.877 Q1969.5 250.486 1970.82 250.486 Q1971.24 250.486 1971.68 250.463 Q1972.15 250.439 1973.32 250.182 Q1974.52 249.924 1975.57 249.479 Q1976.62 249.034 1977.96 248.074 Q1979.32 247.09 1980.4 245.755 Q1980.77 245.263 1981.03 245.263 Q1981.24 245.263 1981.43 245.474 M1979.29 233.903 Q1979.29 232.615 1978.33 231.748 Q1977.4 230.882 1975.76 230.882 Q1975.24 230.882 1974.61 230.999 Q1973.98 231.116 1972.92 231.608 Q1971.89 232.1 1970.98 232.919 Q1970.07 233.716 1969.15 235.285 Q1968.24 236.831 1967.7 238.892 L1969.67 238.892 Q1970.35 238.892 1970.84 238.892 Q1971.33 238.869 1972.41 238.775 Q1973.51 238.681 1974.31 238.517 Q1975.1 238.33 1976.11 237.955 Q1977.12 237.58 1977.75 237.089 Q1978.4 236.573 1978.85 235.754 Q1979.29 234.934 1979.29 233.903 Z\" fill=\"#000000\" fill-rule=\"evenodd\" fill-opacity=\"1\" /><path clip-path=\"url(#clip960)\" d=\"M2008.11 232.99 Q2008.11 234.301 2007.29 235.051 Q2006.47 235.777 2005.54 235.777 Q2004.65 235.777 2004.18 235.262 Q2003.71 234.746 2003.71 234.091 Q2003.71 233.201 2004.36 232.428 Q2005.02 231.655 2006 231.491 Q2005.04 230.882 2003.62 230.882 Q2002.68 230.882 2001.86 231.374 Q2001.06 231.865 2000.57 232.498 Q2000.1 233.13 1999.68 234.044 Q1999.28 234.934 1999.12 235.472 Q1998.98 235.988 1998.86 236.55 L1997.22 243.108 Q1996.42 246.223 1996.42 247.324 Q1996.42 248.683 1997.08 249.596 Q1997.74 250.486 1999.05 250.486 Q1999.56 250.486 2000.15 250.346 Q2000.73 250.182 2001.48 249.76 Q2002.26 249.315 2002.94 248.659 Q2003.64 247.98 2004.32 246.832 Q2005 245.685 2005.44 244.209 Q2005.58 243.694 2006.05 243.694 Q2006.64 243.694 2006.64 244.162 Q2006.64 244.56 2006.31 245.404 Q2006 246.223 2005.33 247.301 Q2004.67 248.355 2003.8 249.315 Q2002.94 250.252 2001.65 250.908 Q2000.36 251.564 1998.95 251.564 Q1996.94 251.564 1995.6 250.486 Q1994.27 249.409 1993.78 247.91 Q1993.66 248.121 1993.5 248.402 Q1993.33 248.683 1992.84 249.315 Q1992.37 249.924 1991.83 250.393 Q1991.3 250.838 1990.45 251.189 Q1989.63 251.564 1988.74 251.564 Q1987.62 251.564 1986.61 251.236 Q1985.63 250.908 1984.92 250.158 Q1984.22 249.409 1984.22 248.378 Q1984.22 247.231 1984.99 246.434 Q1985.79 245.614 1986.87 245.614 Q1987.55 245.614 1988.09 246.013 Q1988.65 246.411 1988.65 247.277 Q1988.65 248.238 1987.99 248.964 Q1987.34 249.69 1986.4 249.877 Q1987.36 250.486 1988.79 250.486 Q1990.33 250.486 1991.55 249.128 Q1992.77 247.769 1993.36 245.497 Q1994.81 240.04 1995.37 237.604 Q1995.93 235.145 1995.93 234.091 Q1995.93 233.107 1995.68 232.428 Q1995.42 231.748 1994.97 231.444 Q1994.55 231.116 1994.15 230.999 Q1993.78 230.882 1993.36 230.882 Q1992.65 230.882 1991.86 231.163 Q1991.08 231.444 1990.15 232.1 Q1989.23 232.732 1988.37 234.044 Q1987.5 235.355 1986.92 237.159 Q1986.8 237.698 1986.28 237.698 Q1985.72 237.674 1985.72 237.206 Q1985.72 236.808 1986.02 235.988 Q1986.35 235.145 1987.01 234.091 Q1987.69 233.037 1988.55 232.1 Q1989.44 231.139 1990.73 230.483 Q1992.04 229.828 1993.45 229.828 Q1994.08 229.828 1994.69 229.968 Q1995.32 230.085 1996.07 230.437 Q1996.85 230.788 1997.53 231.561 Q1998.2 232.334 1998.63 233.458 Q1998.91 232.919 1999.28 232.404 Q1999.68 231.889 2000.29 231.256 Q2000.92 230.601 2001.79 230.226 Q2002.68 229.828 2003.66 229.828 Q2004.62 229.828 2005.56 230.085 Q2006.5 230.32 2007.29 231.092 Q2008.11 231.842 2008.11 232.99 Z\" fill=\"#000000\" fill-rule=\"evenodd\" fill-opacity=\"1\" /><path clip-path=\"url(#clip960)\" d=\"M2033.18 237.487 Q2033.18 240.906 2031.45 244.209 Q2029.74 247.512 2027.04 249.549 Q2024.35 251.564 2021.61 251.564 Q2019.97 251.564 2018.87 250.674 Q2017.79 249.76 2017.2 248.472 Q2016.76 250.065 2015.8 253.883 Q2014.84 257.7 2014.84 258.075 Q2014.84 258.286 2014.89 258.38 Q2014.93 258.473 2015.14 258.59 Q2015.35 258.731 2015.87 258.778 Q2016.38 258.848 2017.25 258.848 Q2017.7 258.848 2017.86 258.848 Q2018.05 258.872 2018.21 258.989 Q2018.4 259.106 2018.4 259.363 Q2018.4 260.324 2017.53 260.324 Q2016.76 260.324 2015.17 260.253 Q2013.57 260.183 2012.78 260.183 Q2012.1 260.183 2010.74 260.253 Q2009.38 260.324 2008.75 260.324 Q2008.12 260.324 2008.12 259.762 Q2008.12 259.434 2008.21 259.223 Q2008.28 259.035 2008.47 258.942 Q2008.66 258.872 2008.82 258.848 Q2008.96 258.848 2009.24 258.848 Q2010.32 258.848 2010.79 258.661 Q2011.26 258.497 2011.42 258.145 Q2011.61 257.817 2011.82 256.881 L2017.2 235.519 Q2017.53 234.091 2017.53 233.083 Q2017.53 231.819 2017.13 231.35 Q2016.74 230.882 2016.03 230.882 Q2014.82 230.882 2014.02 232.334 Q2013.22 233.786 2012.54 236.597 Q2012.33 237.37 2012.19 237.534 Q2012.08 237.698 2011.72 237.698 Q2011.14 237.674 2011.14 237.206 Q2011.14 237.089 2011.33 236.339 Q2011.51 235.566 2011.86 234.442 Q2012.24 233.294 2012.64 232.568 Q2012.87 232.076 2013.08 231.748 Q2013.29 231.42 2013.71 230.905 Q2014.16 230.39 2014.79 230.109 Q2015.42 229.828 2016.2 229.828 Q2017.7 229.828 2018.94 230.718 Q2020.18 231.608 2020.51 233.411 Q2021.84 231.842 2023.48 230.835 Q2025.12 229.828 2026.78 229.828 Q2029.55 229.828 2031.35 231.983 Q2033.18 234.114 2033.18 237.487 M2029.71 235.379 Q2029.71 233.247 2028.89 232.076 Q2028.1 230.882 2026.64 230.882 Q2024.84 230.882 2022.76 232.709 Q2020.69 234.442 2020.27 236.058 L2017.91 245.45 L2017.77 246.223 Q2017.77 246.364 2017.84 246.786 Q2017.93 247.184 2018.19 247.84 Q2018.47 248.495 2018.84 249.081 Q2019.24 249.643 2019.95 250.065 Q2020.67 250.486 2021.56 250.486 Q2022.99 250.486 2024.54 249.221 Q2026.11 247.957 2027.28 245.568 Q2028 244.022 2028.85 240.696 Q2029.71 237.346 2029.71 235.379 Z\" fill=\"#000000\" fill-rule=\"evenodd\" fill-opacity=\"1\" /><path clip-path=\"url(#clip960)\" d=\"M2038.53 239.033 Q2038.53 230.929 2041.56 224.394 Q2042.84 221.653 2044.65 219.358 Q2046.45 217.062 2047.65 216.055 Q2048.84 215.048 2049.17 215.048 Q2049.64 215.048 2049.66 215.517 Q2049.66 215.751 2049.03 216.336 Q2041.3 224.206 2041.32 239.033 Q2041.32 253.906 2048.84 261.471 Q2049.66 262.291 2049.66 262.549 Q2049.66 263.017 2049.17 263.017 Q2048.84 263.017 2047.69 262.057 Q2046.54 261.097 2044.76 258.895 Q2042.98 256.693 2041.7 254 Q2038.53 247.465 2038.53 239.033 Z\" fill=\"#000000\" fill-rule=\"evenodd\" fill-opacity=\"1\" /><path clip-path=\"url(#clip960)\" d=\"M2088.62 238.353 Q2088.9 238.635 2088.9 239.033 Q2088.9 239.431 2088.62 239.712 Q2088.34 239.993 2087.94 239.993 L2057.91 239.993 Q2057.51 239.993 2057.23 239.712 Q2056.95 239.431 2056.95 239.033 Q2056.95 238.635 2057.23 238.353 Q2057.51 238.072 2057.91 238.072 L2087.94 238.072 Q2088.34 238.072 2088.62 238.353 Z\" fill=\"#000000\" fill-rule=\"evenodd\" fill-opacity=\"1\" /><path clip-path=\"url(#clip960)\" d=\"M2093.9 239.033 Q2093.9 230.929 2096.92 224.394 Q2098.21 221.653 2100.01 219.358 Q2101.81 217.062 2103.01 216.055 Q2104.2 215.048 2104.53 215.048 Q2105 215.048 2105.02 215.517 Q2105.02 215.751 2104.39 216.336 Q2096.66 224.206 2096.68 239.033 Q2096.68 253.906 2104.2 261.471 Q2105.02 262.291 2105.02 262.549 Q2105.02 263.017 2104.53 263.017 Q2104.2 263.017 2103.05 262.057 Q2101.91 261.097 2100.13 258.895 Q2098.35 256.693 2097.06 254 Q2093.9 247.465 2093.9 239.033 Z\" fill=\"#000000\" fill-rule=\"evenodd\" fill-opacity=\"1\" /><path clip-path=\"url(#clip960)\" d=\"M2127.04 230.882 Q2127.04 231.538 2126.74 231.701 Q2126.44 231.842 2125.59 231.842 L2121.1 231.842 L2117.54 245.989 Q2117.25 247.231 2117.25 248.285 Q2117.25 249.456 2117.61 249.971 Q2117.98 250.486 2118.75 250.486 Q2120.28 250.486 2121.92 249.104 Q2123.58 247.722 2124.98 244.35 Q2125.17 243.905 2125.26 243.811 Q2125.38 243.694 2125.69 243.694 Q2126.27 243.694 2126.27 244.162 Q2126.27 244.326 2125.94 245.076 Q2125.64 245.825 2124.96 246.926 Q2124.3 248.027 2123.44 249.057 Q2122.59 250.088 2121.31 250.838 Q2120.02 251.564 2118.64 251.564 Q2116.69 251.564 2115.45 250.322 Q2114.23 249.081 2114.23 247.137 Q2114.23 246.504 2114.72 244.49 Q2115.22 242.452 2117.89 231.842 L2113.65 231.842 Q2113.06 231.842 2112.83 231.819 Q2112.62 231.795 2112.45 231.678 Q2112.31 231.538 2112.31 231.256 Q2112.31 230.811 2112.5 230.624 Q2112.69 230.413 2112.92 230.39 Q2113.18 230.343 2113.76 230.343 L2118.26 230.343 L2120.14 222.731 Q2120.32 221.981 2120.79 221.56 Q2121.28 221.115 2121.56 221.068 Q2121.85 220.997 2122.06 220.997 Q2122.69 220.997 2123.06 221.349 Q2123.44 221.677 2123.44 222.286 Q2123.44 222.614 2121.47 230.343 L2125.69 230.343 Q2126.23 230.343 2126.44 230.366 Q2126.67 230.39 2126.86 230.507 Q2127.04 230.624 2127.04 230.882 Z\" fill=\"#000000\" fill-rule=\"evenodd\" fill-opacity=\"1\" /><path clip-path=\"url(#clip960)\" d=\"M2132.01 227.935 Q2132.01 227.328 2132.06 227.148 Q2132.12 226.968 2132.39 226.689 L2138.83 219.508 Q2142.36 215.54 2142.36 212.08 Q2142.36 209.834 2141.18 208.227 Q2140.01 206.621 2137.86 206.621 Q2136.39 206.621 2135.14 207.522 Q2133.9 208.424 2133.32 210.031 Q2133.42 209.998 2133.76 209.998 Q2134.6 209.998 2135.06 210.523 Q2135.54 211.048 2135.54 211.753 Q2135.54 212.654 2134.95 213.097 Q2134.37 213.523 2133.8 213.523 Q2133.57 213.523 2133.26 213.474 Q2132.96 213.425 2132.49 212.966 Q2132.01 212.49 2132.01 211.654 Q2132.01 209.31 2133.78 207.44 Q2135.57 205.571 2138.29 205.571 Q2141.37 205.571 2143.39 207.408 Q2145.42 209.228 2145.42 212.08 Q2145.42 213.081 2145.11 213.999 Q2144.82 214.901 2144.41 215.606 Q2144.01 216.311 2142.93 217.442 Q2141.85 218.573 2140.98 219.377 Q2140.11 220.18 2138.16 221.885 L2134.6 225.345 L2140.65 225.345 Q2143.6 225.345 2143.83 225.082 Q2144.16 224.607 2144.57 222.098 L2145.42 222.098 L2144.47 227.935 L2132.01 227.935 Z\" fill=\"#000000\" fill-rule=\"evenodd\" fill-opacity=\"1\" /><path clip-path=\"url(#clip960)\" d=\"M2150.41 262.549 Q2150.41 262.315 2151.02 261.729 Q2158.75 253.859 2158.75 239.033 Q2158.75 224.159 2151.32 216.641 Q2150.41 215.774 2150.41 215.517 Q2150.41 215.048 2150.88 215.048 Q2151.2 215.048 2152.35 216.008 Q2153.52 216.969 2155.28 219.17 Q2157.06 221.372 2158.37 224.066 Q2161.53 230.601 2161.53 239.033 Q2161.53 247.137 2158.51 253.672 Q2157.22 256.412 2155.42 258.708 Q2153.62 261.003 2152.42 262.01 Q2151.23 263.017 2150.88 263.017 Q2150.41 263.017 2150.41 262.549 Z\" fill=\"#000000\" fill-rule=\"evenodd\" fill-opacity=\"1\" /><path clip-path=\"url(#clip960)\" d=\"M2168.82 262.338 Q2168.82 262.104 2169.01 261.589 L2185.95 216.336 Q2185.95 216.289 2186.06 216.032 Q2186.18 215.774 2186.25 215.61 Q2186.32 215.423 2186.46 215.282 Q2186.62 215.142 2186.81 215.142 Q2187.28 215.142 2187.28 215.727 Q2187.28 215.774 2187.14 216.336 L2170.16 261.635 Q2169.88 262.455 2169.69 262.689 Q2169.53 262.924 2169.25 262.924 Q2168.82 262.924 2168.82 262.338 Z\" fill=\"#000000\" fill-rule=\"evenodd\" fill-opacity=\"1\" /><path clip-path=\"url(#clip960)\" d=\"M2192.57 251.025 Q2192.57 250.158 2192.64 249.901 Q2192.74 249.643 2193.11 249.245 L2202.32 238.986 Q2207.35 233.318 2207.35 228.375 Q2207.35 225.167 2205.67 222.871 Q2204 220.576 2200.94 220.576 Q2198.83 220.576 2197.05 221.864 Q2195.27 223.152 2194.45 225.448 Q2194.59 225.401 2195.08 225.401 Q2196.27 225.401 2196.93 226.15 Q2197.61 226.9 2197.61 227.907 Q2197.61 229.195 2196.77 229.828 Q2195.95 230.437 2195.13 230.437 Q2194.8 230.437 2194.35 230.366 Q2193.93 230.296 2193.25 229.64 Q2192.57 228.961 2192.57 227.766 Q2192.57 224.417 2195.1 221.747 Q2197.66 219.077 2201.54 219.077 Q2205.95 219.077 2208.83 221.7 Q2211.73 224.3 2211.73 228.375 Q2211.73 229.804 2211.29 231.116 Q2210.87 232.404 2210.28 233.411 Q2209.72 234.418 2208.17 236.035 Q2206.63 237.651 2205.39 238.798 Q2204.14 239.946 2201.36 242.382 L2196.27 247.324 L2204.92 247.324 Q2209.13 247.324 2209.46 246.949 Q2209.93 246.27 2210.52 242.687 L2211.73 242.687 L2210.37 251.025 L2192.57 251.025 Z\" fill=\"#000000\" fill-rule=\"evenodd\" fill-opacity=\"1\" /><path clip-path=\"url(#clip960)\" d=\"M2217.48 262.549 Q2217.48 262.315 2218.08 261.729 Q2225.81 253.859 2225.81 239.033 Q2225.81 224.159 2218.39 216.641 Q2217.48 215.774 2217.48 215.517 Q2217.48 215.048 2217.94 215.048 Q2218.27 215.048 2219.42 216.008 Q2220.59 216.969 2222.35 219.17 Q2224.13 221.372 2225.44 224.066 Q2228.6 230.601 2228.6 239.033 Q2228.6 247.137 2225.58 253.672 Q2224.29 256.412 2222.49 258.708 Q2220.68 261.003 2219.49 262.01 Q2218.3 263.017 2217.94 263.017 Q2217.48 263.017 2217.48 262.549 Z\" fill=\"#000000\" fill-rule=\"evenodd\" fill-opacity=\"1\" /><polyline clip-path=\"url(#clip960)\" style=\"stroke:#800080; stroke-linecap:butt; stroke-linejoin:round; stroke-width:4; stroke-opacity:1; fill:none\" stroke-dasharray=\"16, 10\" points=\"\n",
       "  1552.12,295.112 1692.36,295.112 \n",
       "  \"/>\n",
       "<path clip-path=\"url(#clip960)\" d=\"M1715.73 277.832 L1737.58 277.832 L1737.58 281.767 L1720.4 281.767 L1720.4 291.998 L1736.86 291.998 L1736.86 295.933 L1720.4 295.933 L1720.4 308.456 L1738 308.456 L1738 312.392 L1715.73 312.392 L1715.73 277.832 Z\" fill=\"#000000\" fill-rule=\"evenodd\" fill-opacity=\"1\" /><path clip-path=\"url(#clip960)\" d=\"M1745.06 302.16 L1745.06 286.466 L1749.32 286.466 L1749.32 301.998 Q1749.32 305.679 1750.75 307.531 Q1752.19 309.359 1755.06 309.359 Q1758.51 309.359 1760.5 307.16 Q1762.51 304.961 1762.51 301.165 L1762.51 286.466 L1766.77 286.466 L1766.77 312.392 L1762.51 312.392 L1762.51 308.41 Q1760.96 310.771 1758.9 311.929 Q1756.86 313.063 1754.15 313.063 Q1749.69 313.063 1747.37 310.285 Q1745.06 307.507 1745.06 302.16 M1755.78 285.841 L1755.78 285.841 Z\" fill=\"#000000\" fill-rule=\"evenodd\" fill-opacity=\"1\" /><path clip-path=\"url(#clip960)\" d=\"M1775.54 276.373 L1779.8 276.373 L1779.8 312.392 L1775.54 312.392 L1775.54 276.373 Z\" fill=\"#000000\" fill-rule=\"evenodd\" fill-opacity=\"1\" /><path clip-path=\"url(#clip960)\" d=\"M1810.89 298.364 L1810.89 300.447 L1791.31 300.447 Q1791.59 304.845 1793.95 307.16 Q1796.33 309.452 1800.57 309.452 Q1803.02 309.452 1805.31 308.85 Q1807.63 308.248 1809.9 307.044 L1809.9 311.072 Q1807.6 312.044 1805.2 312.554 Q1802.79 313.063 1800.31 313.063 Q1794.11 313.063 1790.47 309.452 Q1786.86 305.841 1786.86 299.683 Q1786.86 293.318 1790.29 289.591 Q1793.74 285.841 1799.57 285.841 Q1804.8 285.841 1807.83 289.22 Q1810.89 292.577 1810.89 298.364 M1806.63 297.114 Q1806.58 293.619 1804.66 291.535 Q1802.77 289.452 1799.62 289.452 Q1796.05 289.452 1793.9 291.466 Q1791.77 293.48 1791.45 297.137 L1806.63 297.114 Z\" fill=\"#000000\" fill-rule=\"evenodd\" fill-opacity=\"1\" /><path clip-path=\"url(#clip960)\" d=\"M1832.9 290.447 Q1832.19 290.031 1831.33 289.845 Q1830.5 289.637 1829.48 289.637 Q1825.87 289.637 1823.92 291.998 Q1822 294.336 1822 298.734 L1822 312.392 L1817.72 312.392 L1817.72 286.466 L1822 286.466 L1822 290.494 Q1823.34 288.133 1825.5 286.998 Q1827.65 285.841 1830.73 285.841 Q1831.17 285.841 1831.7 285.91 Q1832.23 285.957 1832.88 286.072 L1832.9 290.447 Z\" fill=\"#000000\" fill-rule=\"evenodd\" fill-opacity=\"1\" /><polyline clip-path=\"url(#clip960)\" style=\"stroke:#00ffff; stroke-linecap:butt; stroke-linejoin:round; stroke-width:4; stroke-opacity:1; fill:none\" stroke-dasharray=\"2, 4\" points=\"\n",
       "  1552.12,359.27 1692.36,359.27 \n",
       "  \"/>\n",
       "<path clip-path=\"url(#clip960)\" d=\"M1732.12 360.346 Q1733.62 360.855 1735.03 362.522 Q1736.47 364.189 1737.9 367.105 L1742.65 376.55 L1737.63 376.55 L1733.21 367.684 Q1731.49 364.212 1729.87 363.077 Q1728.28 361.943 1725.5 361.943 L1720.4 361.943 L1720.4 376.55 L1715.73 376.55 L1715.73 341.99 L1726.28 341.99 Q1732.21 341.99 1735.13 344.466 Q1738.04 346.943 1738.04 351.943 Q1738.04 355.207 1736.52 357.36 Q1735.01 359.513 1732.12 360.346 M1720.4 345.832 L1720.4 358.101 L1726.28 358.101 Q1729.66 358.101 1731.38 356.55 Q1733.11 354.976 1733.11 351.943 Q1733.11 348.911 1731.38 347.383 Q1729.66 345.832 1726.28 345.832 L1720.4 345.832 Z\" fill=\"#000000\" fill-rule=\"evenodd\" fill-opacity=\"1\" /><path clip-path=\"url(#clip960)\" d=\"M1748.67 341.99 L1753.34 341.99 L1753.34 356.596 L1768.85 341.99 L1774.87 341.99 L1757.72 358.101 L1776.1 376.55 L1769.94 376.55 L1753.34 359.906 L1753.34 376.55 L1748.67 376.55 L1748.67 341.99 Z\" fill=\"#000000\" fill-rule=\"evenodd\" fill-opacity=\"1\" /><path clip-path=\"url(#clip960)\" d=\"M1793.02 346.064 L1781.21 364.513 L1793.02 364.513 L1793.02 346.064 M1791.79 341.99 L1797.67 341.99 L1797.67 364.513 L1802.6 364.513 L1802.6 368.402 L1797.67 368.402 L1797.67 376.55 L1793.02 376.55 L1793.02 368.402 L1777.42 368.402 L1777.42 363.888 L1791.79 341.99 Z\" fill=\"#000000\" fill-rule=\"evenodd\" fill-opacity=\"1\" /></svg>\n"
      ]
     },
     "execution_count": 143,
     "metadata": {},
     "output_type": "execute_result"
    }
   ],
   "source": [
    "plot(title=\"Solución exacta y aproximaciones con h=0,1\",xlabel=\"t\",ylabel=\"y(t)\")\n",
    "plot!(a:0.1:b,ye,linecolor=:black,linewidth=2.5,label=L\"y_e(t)=1+exp(-(t^2)/2)\")\n",
    "plot!(te1,we1[1,:],label=\"Euler\",linestyle=:dash,linecolor=:purple,linewidth=2.5)\n",
    "plot!(t1,w1[1,:],label=\"RK4\",linestyle=:dot,linecolor=:cyan,linewidth=2.5)"
   ]
  },
  {
   "cell_type": "markdown",
   "metadata": {},
   "source": [
    "***d)***"
   ]
  },
  {
   "cell_type": "code",
   "execution_count": 207,
   "metadata": {},
   "outputs": [
    {
     "data": {
      "image/svg+xml": [
       "<?xml version=\"1.0\" encoding=\"utf-8\"?>\n",
       "<svg xmlns=\"http://www.w3.org/2000/svg\" xmlns:xlink=\"http://www.w3.org/1999/xlink\" width=\"600\" height=\"400\" viewBox=\"0 0 2400 1600\">\n",
       "<defs>\n",
       "  <clipPath id=\"clip920\">\n",
       "    <rect x=\"0\" y=\"0\" width=\"2400\" height=\"1600\"/>\n",
       "  </clipPath>\n",
       "</defs>\n",
       "<path clip-path=\"url(#clip920)\" d=\"\n",
       "M0 1600 L2400 1600 L2400 0 L0 0  Z\n",
       "  \" fill=\"#ffffff\" fill-rule=\"evenodd\" fill-opacity=\"1\"/>\n",
       "<defs>\n",
       "  <clipPath id=\"clip921\">\n",
       "    <rect x=\"480\" y=\"0\" width=\"1681\" height=\"1600\"/>\n",
       "  </clipPath>\n",
       "</defs>\n",
       "<path clip-path=\"url(#clip920)\" d=\"\n",
       "M276.876 1423.18 L2352.76 1423.18 L2352.76 123.472 L276.876 123.472  Z\n",
       "  \" fill=\"#ffffff\" fill-rule=\"evenodd\" fill-opacity=\"1\"/>\n",
       "<defs>\n",
       "  <clipPath id=\"clip922\">\n",
       "    <rect x=\"276\" y=\"123\" width=\"2077\" height=\"1301\"/>\n",
       "  </clipPath>\n",
       "</defs>\n",
       "<polyline clip-path=\"url(#clip922)\" style=\"stroke:#000000; stroke-linecap:butt; stroke-linejoin:round; stroke-width:2; stroke-opacity:0.1; fill:none\" points=\"\n",
       "  335.627,1423.18 335.627,123.472 \n",
       "  \"/>\n",
       "<polyline clip-path=\"url(#clip922)\" style=\"stroke:#000000; stroke-linecap:butt; stroke-linejoin:round; stroke-width:2; stroke-opacity:0.1; fill:none\" points=\"\n",
       "  825.221,1423.18 825.221,123.472 \n",
       "  \"/>\n",
       "<polyline clip-path=\"url(#clip922)\" style=\"stroke:#000000; stroke-linecap:butt; stroke-linejoin:round; stroke-width:2; stroke-opacity:0.1; fill:none\" points=\"\n",
       "  1314.82,1423.18 1314.82,123.472 \n",
       "  \"/>\n",
       "<polyline clip-path=\"url(#clip922)\" style=\"stroke:#000000; stroke-linecap:butt; stroke-linejoin:round; stroke-width:2; stroke-opacity:0.1; fill:none\" points=\"\n",
       "  1804.41,1423.18 1804.41,123.472 \n",
       "  \"/>\n",
       "<polyline clip-path=\"url(#clip922)\" style=\"stroke:#000000; stroke-linecap:butt; stroke-linejoin:round; stroke-width:2; stroke-opacity:0.1; fill:none\" points=\"\n",
       "  2294,1423.18 2294,123.472 \n",
       "  \"/>\n",
       "<polyline clip-path=\"url(#clip920)\" style=\"stroke:#000000; stroke-linecap:butt; stroke-linejoin:round; stroke-width:4; stroke-opacity:1; fill:none\" points=\"\n",
       "  276.876,1423.18 2352.76,1423.18 \n",
       "  \"/>\n",
       "<polyline clip-path=\"url(#clip920)\" style=\"stroke:#000000; stroke-linecap:butt; stroke-linejoin:round; stroke-width:4; stroke-opacity:1; fill:none\" points=\"\n",
       "  335.627,1423.18 335.627,1404.28 \n",
       "  \"/>\n",
       "<polyline clip-path=\"url(#clip920)\" style=\"stroke:#000000; stroke-linecap:butt; stroke-linejoin:round; stroke-width:4; stroke-opacity:1; fill:none\" points=\"\n",
       "  825.221,1423.18 825.221,1404.28 \n",
       "  \"/>\n",
       "<polyline clip-path=\"url(#clip920)\" style=\"stroke:#000000; stroke-linecap:butt; stroke-linejoin:round; stroke-width:4; stroke-opacity:1; fill:none\" points=\"\n",
       "  1314.82,1423.18 1314.82,1404.28 \n",
       "  \"/>\n",
       "<polyline clip-path=\"url(#clip920)\" style=\"stroke:#000000; stroke-linecap:butt; stroke-linejoin:round; stroke-width:4; stroke-opacity:1; fill:none\" points=\"\n",
       "  1804.41,1423.18 1804.41,1404.28 \n",
       "  \"/>\n",
       "<polyline clip-path=\"url(#clip920)\" style=\"stroke:#000000; stroke-linecap:butt; stroke-linejoin:round; stroke-width:4; stroke-opacity:1; fill:none\" points=\"\n",
       "  2294,1423.18 2294,1404.28 \n",
       "  \"/>\n",
       "<path clip-path=\"url(#clip920)\" d=\"M335.627 1454.1 Q332.016 1454.1 330.187 1457.66 Q328.382 1461.2 328.382 1468.33 Q328.382 1475.44 330.187 1479.01 Q332.016 1482.55 335.627 1482.55 Q339.261 1482.55 341.067 1479.01 Q342.895 1475.44 342.895 1468.33 Q342.895 1461.2 341.067 1457.66 Q339.261 1454.1 335.627 1454.1 M335.627 1450.39 Q341.437 1450.39 344.493 1455 Q347.571 1459.58 347.571 1468.33 Q347.571 1477.06 344.493 1481.67 Q341.437 1486.25 335.627 1486.25 Q329.817 1486.25 326.738 1481.67 Q323.682 1477.06 323.682 1468.33 Q323.682 1459.58 326.738 1455 Q329.817 1450.39 335.627 1450.39 Z\" fill=\"#000000\" fill-rule=\"evenodd\" fill-opacity=\"1\" /><path clip-path=\"url(#clip920)\" d=\"M815.603 1481.64 L823.242 1481.64 L823.242 1455.28 L814.932 1456.95 L814.932 1452.69 L823.196 1451.02 L827.872 1451.02 L827.872 1481.64 L835.511 1481.64 L835.511 1485.58 L815.603 1485.58 L815.603 1481.64 Z\" fill=\"#000000\" fill-rule=\"evenodd\" fill-opacity=\"1\" /><path clip-path=\"url(#clip920)\" d=\"M1309.47 1481.64 L1325.79 1481.64 L1325.79 1485.58 L1303.84 1485.58 L1303.84 1481.64 Q1306.51 1478.89 1311.09 1474.26 Q1315.7 1469.61 1316.88 1468.27 Q1319.12 1465.74 1320 1464.01 Q1320.9 1462.25 1320.9 1460.56 Q1320.9 1457.8 1318.96 1456.07 Q1317.04 1454.33 1313.94 1454.33 Q1311.74 1454.33 1309.28 1455.09 Q1306.85 1455.86 1304.08 1457.41 L1304.08 1452.69 Q1306.9 1451.55 1309.35 1450.97 Q1311.81 1450.39 1313.84 1450.39 Q1319.21 1450.39 1322.41 1453.08 Q1325.6 1455.77 1325.6 1460.26 Q1325.6 1462.39 1324.79 1464.31 Q1324.01 1466.2 1321.9 1468.8 Q1321.32 1469.47 1318.22 1472.69 Q1315.12 1475.88 1309.47 1481.64 Z\" fill=\"#000000\" fill-rule=\"evenodd\" fill-opacity=\"1\" /><path clip-path=\"url(#clip920)\" d=\"M1808.66 1466.95 Q1812.01 1467.66 1813.89 1469.93 Q1815.79 1472.2 1815.79 1475.53 Q1815.79 1480.65 1812.27 1483.45 Q1808.75 1486.25 1802.27 1486.25 Q1800.09 1486.25 1797.78 1485.81 Q1795.49 1485.39 1793.03 1484.54 L1793.03 1480.02 Q1794.98 1481.16 1797.29 1481.74 Q1799.61 1482.32 1802.13 1482.32 Q1806.53 1482.32 1808.82 1480.58 Q1811.13 1478.84 1811.13 1475.53 Q1811.13 1472.48 1808.98 1470.77 Q1806.85 1469.03 1803.03 1469.03 L1799.01 1469.03 L1799.01 1465.19 L1803.22 1465.19 Q1806.67 1465.19 1808.5 1463.82 Q1810.32 1462.43 1810.32 1459.84 Q1810.32 1457.18 1808.43 1455.77 Q1806.55 1454.33 1803.03 1454.33 Q1801.11 1454.33 1798.91 1454.75 Q1796.71 1455.16 1794.07 1456.04 L1794.07 1451.88 Q1796.74 1451.14 1799.05 1450.77 Q1801.39 1450.39 1803.45 1450.39 Q1808.77 1450.39 1811.88 1452.83 Q1814.98 1455.23 1814.98 1459.35 Q1814.98 1462.22 1813.33 1464.21 Q1811.69 1466.18 1808.66 1466.95 Z\" fill=\"#000000\" fill-rule=\"evenodd\" fill-opacity=\"1\" /><path clip-path=\"url(#clip920)\" d=\"M2297.01 1455.09 L2285.21 1473.54 L2297.01 1473.54 L2297.01 1455.09 M2295.79 1451.02 L2301.67 1451.02 L2301.67 1473.54 L2306.6 1473.54 L2306.6 1477.43 L2301.67 1477.43 L2301.67 1485.58 L2297.01 1485.58 L2297.01 1477.43 L2281.41 1477.43 L2281.41 1472.92 L2295.79 1451.02 Z\" fill=\"#000000\" fill-rule=\"evenodd\" fill-opacity=\"1\" /><path clip-path=\"url(#clip920)\" d=\"M1313.88 1522.27 L1313.88 1532.4 L1325.94 1532.4 L1325.94 1536.95 L1313.88 1536.95 L1313.88 1556.3 Q1313.88 1560.66 1315.05 1561.9 Q1316.26 1563.14 1319.92 1563.14 L1325.94 1563.14 L1325.94 1568.04 L1319.92 1568.04 Q1313.14 1568.04 1310.57 1565.53 Q1307.99 1562.98 1307.99 1556.3 L1307.99 1536.95 L1303.69 1536.95 L1303.69 1532.4 L1307.99 1532.4 L1307.99 1522.27 L1313.88 1522.27 Z\" fill=\"#000000\" fill-rule=\"evenodd\" fill-opacity=\"1\" /><polyline clip-path=\"url(#clip922)\" style=\"stroke:#000000; stroke-linecap:butt; stroke-linejoin:round; stroke-width:2; stroke-opacity:0.1; fill:none\" points=\"\n",
       "  276.876,1178 2352.76,1178 \n",
       "  \"/>\n",
       "<polyline clip-path=\"url(#clip922)\" style=\"stroke:#000000; stroke-linecap:butt; stroke-linejoin:round; stroke-width:2; stroke-opacity:0.1; fill:none\" points=\"\n",
       "  276.876,565.049 2352.76,565.049 \n",
       "  \"/>\n",
       "<polyline clip-path=\"url(#clip920)\" style=\"stroke:#000000; stroke-linecap:butt; stroke-linejoin:round; stroke-width:4; stroke-opacity:1; fill:none\" points=\"\n",
       "  276.876,1423.18 276.876,123.472 \n",
       "  \"/>\n",
       "<polyline clip-path=\"url(#clip920)\" style=\"stroke:#000000; stroke-linecap:butt; stroke-linejoin:round; stroke-width:4; stroke-opacity:1; fill:none\" points=\"\n",
       "  276.876,1178 295.773,1178 \n",
       "  \"/>\n",
       "<polyline clip-path=\"url(#clip920)\" style=\"stroke:#000000; stroke-linecap:butt; stroke-linejoin:round; stroke-width:4; stroke-opacity:1; fill:none\" points=\"\n",
       "  276.876,565.049 295.773,565.049 \n",
       "  \"/>\n",
       "<path clip-path=\"url(#clip920)\" d=\"M114.931 1197.79 L122.57 1197.79 L122.57 1171.43 L114.26 1173.09 L114.26 1168.83 L122.524 1167.17 L127.2 1167.17 L127.2 1197.79 L134.839 1197.79 L134.839 1201.73 L114.931 1201.73 L114.931 1197.79 Z\" fill=\"#000000\" fill-rule=\"evenodd\" fill-opacity=\"1\" /><path clip-path=\"url(#clip920)\" d=\"M154.283 1170.25 Q150.672 1170.25 148.843 1173.81 Q147.038 1177.35 147.038 1184.48 Q147.038 1191.59 148.843 1195.15 Q150.672 1198.69 154.283 1198.69 Q157.917 1198.69 159.723 1195.15 Q161.552 1191.59 161.552 1184.48 Q161.552 1177.35 159.723 1173.81 Q157.917 1170.25 154.283 1170.25 M154.283 1166.54 Q160.093 1166.54 163.149 1171.15 Q166.227 1175.73 166.227 1184.48 Q166.227 1193.21 163.149 1197.82 Q160.093 1202.4 154.283 1202.4 Q148.473 1202.4 145.394 1197.82 Q142.339 1193.21 142.339 1184.48 Q142.339 1175.73 145.394 1171.15 Q148.473 1166.54 154.283 1166.54 Z\" fill=\"#000000\" fill-rule=\"evenodd\" fill-opacity=\"1\" /><path clip-path=\"url(#clip920)\" d=\"M166.227 1160.64 L190.339 1160.64 L190.339 1163.84 L166.227 1163.84 L166.227 1160.64 Z\" fill=\"#000000\" fill-rule=\"evenodd\" fill-opacity=\"1\" /><path clip-path=\"url(#clip920)\" d=\"M199.197 1171.12 L205.404 1171.12 L205.404 1149.7 L198.652 1151.05 L198.652 1147.59 L205.366 1146.24 L209.166 1146.24 L209.166 1171.12 L215.372 1171.12 L215.372 1174.32 L199.197 1174.32 L199.197 1171.12 Z\" fill=\"#000000\" fill-rule=\"evenodd\" fill-opacity=\"1\" /><path clip-path=\"url(#clip920)\" d=\"M231.171 1148.74 Q228.237 1148.74 226.751 1151.63 Q225.284 1154.51 225.284 1160.31 Q225.284 1166.08 226.751 1168.98 Q228.237 1171.85 231.171 1171.85 Q234.124 1171.85 235.591 1168.98 Q237.076 1166.08 237.076 1160.31 Q237.076 1154.51 235.591 1151.63 Q234.124 1148.74 231.171 1148.74 M231.171 1145.73 Q235.891 1145.73 238.374 1149.47 Q240.876 1153.2 240.876 1160.31 Q240.876 1167.4 238.374 1171.14 Q235.891 1174.86 231.171 1174.86 Q226.45 1174.86 223.949 1171.14 Q221.466 1167.4 221.466 1160.31 Q221.466 1153.2 223.949 1149.47 Q226.45 1145.73 231.171 1145.73 Z\" fill=\"#000000\" fill-rule=\"evenodd\" fill-opacity=\"1\" /><path clip-path=\"url(#clip920)\" d=\"M140.247 584.841 L147.886 584.841 L147.886 558.476 L139.575 560.143 L139.575 555.883 L147.839 554.217 L152.515 554.217 L152.515 584.841 L160.154 584.841 L160.154 588.777 L140.247 588.777 L140.247 584.841 Z\" fill=\"#000000\" fill-rule=\"evenodd\" fill-opacity=\"1\" /><path clip-path=\"url(#clip920)\" d=\"M179.598 557.295 Q175.987 557.295 174.159 560.86 Q172.353 564.402 172.353 571.531 Q172.353 578.638 174.159 582.203 Q175.987 585.744 179.598 585.744 Q183.233 585.744 185.038 582.203 Q186.867 578.638 186.867 571.531 Q186.867 564.402 185.038 560.86 Q183.233 557.295 179.598 557.295 M179.598 553.592 Q185.409 553.592 188.464 558.198 Q191.543 562.781 191.543 571.531 Q191.543 580.258 188.464 584.865 Q185.409 589.448 179.598 589.448 Q173.788 589.448 170.71 584.865 Q167.654 580.258 167.654 571.531 Q167.654 562.781 170.71 558.198 Q173.788 553.592 179.598 553.592 Z\" fill=\"#000000\" fill-rule=\"evenodd\" fill-opacity=\"1\" /><path clip-path=\"url(#clip920)\" d=\"M191.543 547.693 L215.654 547.693 L215.654 550.89 L191.543 550.89 L191.543 547.693 Z\" fill=\"#000000\" fill-rule=\"evenodd\" fill-opacity=\"1\" /><path clip-path=\"url(#clip920)\" d=\"M223.892 533.286 L238.807 533.286 L238.807 536.484 L227.372 536.484 L227.372 543.367 Q228.199 543.085 229.027 542.953 Q229.854 542.803 230.682 542.803 Q235.384 542.803 238.13 545.38 Q240.876 547.956 240.876 552.357 Q240.876 556.89 238.054 559.41 Q235.233 561.912 230.099 561.912 Q228.331 561.912 226.488 561.611 Q224.663 561.31 222.707 560.708 L222.707 556.89 Q224.4 557.812 226.205 558.263 Q228.011 558.714 230.023 558.714 Q233.277 558.714 235.177 557.003 Q237.076 555.291 237.076 552.357 Q237.076 549.423 235.177 547.712 Q233.277 546 230.023 546 Q228.5 546 226.977 546.339 Q225.472 546.677 223.892 547.392 L223.892 533.286 Z\" fill=\"#000000\" fill-rule=\"evenodd\" fill-opacity=\"1\" /><path clip-path=\"url(#clip920)\" d=\"M44.7161 793.951 L47.5806 793.951 L47.5806 820.878 Q53.6281 820.496 56.8109 817.249 Q59.9619 813.971 59.9619 808.146 Q59.9619 804.773 59.1344 801.622 Q58.3069 798.439 56.6518 795.32 L62.1899 795.32 Q63.5267 798.471 64.227 801.781 Q64.9272 805.091 64.9272 808.497 Q64.9272 817.027 59.9619 822.024 Q54.9967 826.989 46.5303 826.989 Q37.7774 826.989 32.6531 822.278 Q27.4968 817.536 27.4968 809.515 Q27.4968 802.322 32.1438 798.152 Q36.7589 793.951 44.7161 793.951 M42.9973 799.807 Q38.1912 799.871 35.3266 802.513 Q32.4621 805.123 32.4621 809.451 Q32.4621 814.353 35.2312 817.313 Q38.0002 820.241 43.0292 820.687 L42.9973 799.807 Z\" fill=\"#000000\" fill-rule=\"evenodd\" fill-opacity=\"1\" /><path clip-path=\"url(#clip920)\" d=\"M14.5426 770.27 Q21.8632 774.535 29.0246 776.604 Q36.186 778.673 43.5384 778.673 Q50.8908 778.673 58.1159 776.604 Q65.3091 774.504 72.5979 770.27 L72.5979 775.363 Q65.1182 780.137 57.8931 782.524 Q50.668 784.88 43.5384 784.88 Q36.4406 784.88 29.2474 782.524 Q22.0542 780.169 14.5426 775.363 L14.5426 770.27 Z\" fill=\"#000000\" fill-rule=\"evenodd\" fill-opacity=\"1\" /><path clip-path=\"url(#clip920)\" d=\"M18.2347 753.115 L28.3562 753.115 L28.3562 741.052 L32.9077 741.052 L32.9077 753.115 L52.2594 753.115 Q56.6199 753.115 57.8613 751.937 Q59.1026 750.728 59.1026 747.067 L59.1026 741.052 L64.0042 741.052 L64.0042 747.067 Q64.0042 753.847 61.4897 756.425 Q58.9434 759.003 52.2594 759.003 L32.9077 759.003 L32.9077 763.3 L28.3562 763.3 L28.3562 759.003 L18.2347 759.003 L18.2347 753.115 Z\" fill=\"#000000\" fill-rule=\"evenodd\" fill-opacity=\"1\" /><path clip-path=\"url(#clip920)\" d=\"M14.5426 734.272 L14.5426 729.18 Q22.0542 724.406 29.2474 722.05 Q36.4406 719.663 43.5384 719.663 Q50.668 719.663 57.8931 722.05 Q65.1182 724.406 72.5979 729.18 L72.5979 734.272 Q65.3091 730.039 58.1159 727.97 Q50.8908 725.87 43.5384 725.87 Q36.186 725.87 29.0246 727.97 Q21.8632 730.039 14.5426 734.272 Z\" fill=\"#000000\" fill-rule=\"evenodd\" fill-opacity=\"1\" /><path clip-path=\"url(#clip920)\" d=\"M782.608 12.096 L820.848 12.096 L820.848 18.9825 L790.791 18.9825 L790.791 36.8875 L819.593 36.8875 L819.593 43.7741 L790.791 43.7741 L790.791 65.6895 L821.578 65.6895 L821.578 72.576 L782.608 72.576 L782.608 12.096 Z\" fill=\"#000000\" fill-rule=\"evenodd\" fill-opacity=\"1\" /><path clip-path=\"url(#clip920)\" d=\"M860.993 34.1734 Q859.737 33.4443 858.238 33.1202 Q856.78 32.7556 854.998 32.7556 Q848.678 32.7556 845.275 36.8875 Q841.913 40.9789 841.913 48.6757 L841.913 72.576 L834.419 72.576 L834.419 27.2059 L841.913 27.2059 L841.913 34.2544 Q844.263 30.1225 848.03 28.1376 Q851.797 26.1121 857.185 26.1121 Q857.955 26.1121 858.886 26.2337 Q859.818 26.3147 860.952 26.5172 L860.993 34.1734 Z\" fill=\"#000000\" fill-rule=\"evenodd\" fill-opacity=\"1\" /><path clip-path=\"url(#clip920)\" d=\"M893.643 34.1734 Q892.387 33.4443 890.889 33.1202 Q889.43 32.7556 887.648 32.7556 Q881.328 32.7556 877.926 36.8875 Q874.563 40.9789 874.563 48.6757 L874.563 72.576 L867.069 72.576 L867.069 27.2059 L874.563 27.2059 L874.563 34.2544 Q876.913 30.1225 880.68 28.1376 Q884.448 26.1121 889.835 26.1121 Q890.605 26.1121 891.537 26.2337 Q892.468 26.3147 893.603 26.5172 L893.643 34.1734 Z\" fill=\"#000000\" fill-rule=\"evenodd\" fill-opacity=\"1\" /><path clip-path=\"url(#clip920)\" d=\"M917.219 32.4315 Q911.224 32.4315 907.74 37.1306 Q904.257 41.7891 904.257 49.9314 Q904.257 58.0738 907.7 62.7728 Q911.184 67.4314 917.219 67.4314 Q923.174 67.4314 926.658 62.7323 Q930.142 58.0333 930.142 49.9314 Q930.142 41.8701 926.658 37.1711 Q923.174 32.4315 917.219 32.4315 M917.219 26.1121 Q926.942 26.1121 932.491 32.4315 Q938.041 38.7509 938.041 49.9314 Q938.041 61.0714 932.491 67.4314 Q926.942 73.7508 917.219 73.7508 Q907.457 73.7508 901.907 67.4314 Q896.398 61.0714 896.398 49.9314 Q896.398 38.7509 901.907 32.4315 Q907.457 26.1121 917.219 26.1121 Z\" fill=\"#000000\" fill-rule=\"evenodd\" fill-opacity=\"1\" /><path clip-path=\"url(#clip920)\" d=\"M976.687 34.1734 Q975.431 33.4443 973.932 33.1202 Q972.474 32.7556 970.691 32.7556 Q964.372 32.7556 960.969 36.8875 Q957.607 40.9789 957.607 48.6757 L957.607 72.576 L950.113 72.576 L950.113 27.2059 L957.607 27.2059 L957.607 34.2544 Q959.956 30.1225 963.724 28.1376 Q967.491 26.1121 972.879 26.1121 Q973.649 26.1121 974.58 26.2337 Q975.512 26.3147 976.646 26.5172 L976.687 34.1734 Z\" fill=\"#000000\" fill-rule=\"evenodd\" fill-opacity=\"1\" /><path clip-path=\"url(#clip920)\" d=\"M1031.5 49.7694 Q1022.46 49.7694 1018.98 51.8354 Q1015.49 53.9013 1015.49 58.8839 Q1015.49 62.8538 1018.09 65.2034 Q1020.72 67.5124 1025.22 67.5124 Q1031.41 67.5124 1035.14 63.1374 Q1038.91 58.7219 1038.91 51.4303 L1038.91 49.7694 L1031.5 49.7694 M1046.36 46.6907 L1046.36 72.576 L1038.91 72.576 L1038.91 65.6895 Q1036.36 69.8214 1032.55 71.8063 Q1028.74 73.7508 1023.23 73.7508 Q1016.26 73.7508 1012.13 69.8619 Q1008.04 65.9325 1008.04 59.3701 Q1008.04 51.7138 1013.14 47.825 Q1018.29 43.9361 1028.46 43.9361 L1038.91 43.9361 L1038.91 43.2069 Q1038.91 38.0623 1035.51 35.2672 Q1032.14 32.4315 1026.03 32.4315 Q1022.14 32.4315 1018.45 33.3632 Q1014.77 34.295 1011.36 36.1584 L1011.36 29.2718 Q1015.45 27.692 1019.3 26.9223 Q1023.15 26.1121 1026.8 26.1121 Q1036.64 26.1121 1041.5 31.2163 Q1046.36 36.3204 1046.36 46.6907 Z\" fill=\"#000000\" fill-rule=\"evenodd\" fill-opacity=\"1\" /><path clip-path=\"url(#clip920)\" d=\"M1094.28 49.9314 Q1094.28 41.7081 1090.88 37.0496 Q1087.52 32.3505 1081.61 32.3505 Q1075.69 32.3505 1072.29 37.0496 Q1068.93 41.7081 1068.93 49.9314 Q1068.93 58.1548 1072.29 62.8538 Q1075.69 67.5124 1081.61 67.5124 Q1087.52 67.5124 1090.88 62.8538 Q1094.28 58.1548 1094.28 49.9314 M1068.93 34.0924 Q1071.28 30.0415 1074.84 28.0971 Q1078.45 26.1121 1083.43 26.1121 Q1091.69 26.1121 1096.84 32.6746 Q1102.02 39.2371 1102.02 49.9314 Q1102.02 60.6258 1096.84 67.1883 Q1091.69 73.7508 1083.43 73.7508 Q1078.45 73.7508 1074.84 71.8063 Q1071.28 69.8214 1068.93 65.7705 L1068.93 72.576 L1061.43 72.576 L1061.43 9.54393 L1068.93 9.54393 L1068.93 34.0924 Z\" fill=\"#000000\" fill-rule=\"evenodd\" fill-opacity=\"1\" /><path clip-path=\"url(#clip920)\" d=\"M1143.3 28.5427 L1143.3 35.5912 Q1140.14 33.9709 1136.74 33.1607 Q1133.34 32.3505 1129.69 32.3505 Q1124.14 32.3505 1121.34 34.0519 Q1118.59 35.7533 1118.59 39.156 Q1118.59 41.7486 1120.57 43.2475 Q1122.56 44.7058 1128.56 46.0426 L1131.11 46.6097 Q1139.05 48.3111 1142.37 51.4303 Q1145.73 54.509 1145.73 60.0587 Q1145.73 66.3781 1140.71 70.0644 Q1135.73 73.7508 1126.98 73.7508 Q1123.33 73.7508 1119.36 73.0216 Q1115.43 72.3329 1111.06 70.9151 L1111.06 63.2184 Q1115.19 65.3654 1119.2 66.4591 Q1123.21 67.5124 1127.14 67.5124 Q1132.4 67.5124 1135.24 65.73 Q1138.07 63.9071 1138.07 60.6258 Q1138.07 57.5877 1136.01 55.9673 Q1133.98 54.3469 1127.06 52.8481 L1124.46 52.2405 Q1117.54 50.7821 1114.46 47.7845 Q1111.38 44.7463 1111.38 39.4801 Q1111.38 33.0797 1115.92 29.5959 Q1120.45 26.1121 1128.8 26.1121 Q1132.93 26.1121 1136.58 26.7198 Q1140.22 27.3274 1143.3 28.5427 Z\" fill=\"#000000\" fill-rule=\"evenodd\" fill-opacity=\"1\" /><path clip-path=\"url(#clip920)\" d=\"M1175.18 32.4315 Q1169.19 32.4315 1165.7 37.1306 Q1162.22 41.7891 1162.22 49.9314 Q1162.22 58.0738 1165.66 62.7728 Q1169.15 67.4314 1175.18 67.4314 Q1181.14 67.4314 1184.62 62.7323 Q1188.1 58.0333 1188.1 49.9314 Q1188.1 41.8701 1184.62 37.1711 Q1181.14 32.4315 1175.18 32.4315 M1175.18 26.1121 Q1184.9 26.1121 1190.45 32.4315 Q1196 38.7509 1196 49.9314 Q1196 61.0714 1190.45 67.4314 Q1184.9 73.7508 1175.18 73.7508 Q1165.42 73.7508 1159.87 67.4314 Q1154.36 61.0714 1154.36 49.9314 Q1154.36 38.7509 1159.87 32.4315 Q1165.42 26.1121 1175.18 26.1121 Z\" fill=\"#000000\" fill-rule=\"evenodd\" fill-opacity=\"1\" /><path clip-path=\"url(#clip920)\" d=\"M1208.36 9.54393 L1215.81 9.54393 L1215.81 72.576 L1208.36 72.576 L1208.36 9.54393 Z\" fill=\"#000000\" fill-rule=\"evenodd\" fill-opacity=\"1\" /><path clip-path=\"url(#clip920)\" d=\"M1230.64 54.671 L1230.64 27.2059 L1238.09 27.2059 L1238.09 54.3874 Q1238.09 60.8284 1240.6 64.0691 Q1243.11 67.2693 1248.14 67.2693 Q1254.17 67.2693 1257.66 63.421 Q1261.18 59.5726 1261.18 52.9291 L1261.18 27.2059 L1268.64 27.2059 L1268.64 72.576 L1261.18 72.576 L1261.18 65.6084 Q1258.47 69.7404 1254.86 71.7658 Q1251.3 73.7508 1246.56 73.7508 Q1238.74 73.7508 1234.69 68.8897 Q1230.64 64.0286 1230.64 54.671 M1249.39 26.1121 L1249.39 26.1121 Z\" fill=\"#000000\" fill-rule=\"evenodd\" fill-opacity=\"1\" /><path clip-path=\"url(#clip920)\" d=\"M1291.36 14.324 L1291.36 27.2059 L1306.71 27.2059 L1306.71 32.9987 L1291.36 32.9987 L1291.36 57.6282 Q1291.36 63.1779 1292.86 64.7578 Q1294.4 66.3376 1299.06 66.3376 L1306.71 66.3376 L1306.71 72.576 L1299.06 72.576 Q1290.43 72.576 1287.15 69.3758 Q1283.87 66.1351 1283.87 57.6282 L1283.87 32.9987 L1278.4 32.9987 L1278.4 27.2059 L1283.87 27.2059 L1283.87 14.324 L1291.36 14.324 Z\" fill=\"#000000\" fill-rule=\"evenodd\" fill-opacity=\"1\" /><path clip-path=\"url(#clip920)\" d=\"M1334.1 32.4315 Q1328.1 32.4315 1324.62 37.1306 Q1321.14 41.7891 1321.14 49.9314 Q1321.14 58.0738 1324.58 62.7728 Q1328.06 67.4314 1334.1 67.4314 Q1340.05 67.4314 1343.54 62.7323 Q1347.02 58.0333 1347.02 49.9314 Q1347.02 41.8701 1343.54 37.1711 Q1340.05 32.4315 1334.1 32.4315 M1334.1 26.1121 Q1343.82 26.1121 1349.37 32.4315 Q1354.92 38.7509 1354.92 49.9314 Q1354.92 61.0714 1349.37 67.4314 Q1343.82 73.7508 1334.1 73.7508 Q1324.34 73.7508 1318.79 67.4314 Q1313.28 61.0714 1313.28 49.9314 Q1313.28 38.7509 1318.79 32.4315 Q1324.34 26.1121 1334.1 26.1121 Z\" fill=\"#000000\" fill-rule=\"evenodd\" fill-opacity=\"1\" /><path clip-path=\"url(#clip920)\" d=\"M1400.86 65.7705 L1400.86 89.8329 L1393.36 89.8329 L1393.36 27.2059 L1400.86 27.2059 L1400.86 34.0924 Q1403.21 30.0415 1406.77 28.0971 Q1410.38 26.1121 1415.36 26.1121 Q1423.62 26.1121 1428.77 32.6746 Q1433.95 39.2371 1433.95 49.9314 Q1433.95 60.6258 1428.77 67.1883 Q1423.62 73.7508 1415.36 73.7508 Q1410.38 73.7508 1406.77 71.8063 Q1403.21 69.8214 1400.86 65.7705 M1426.22 49.9314 Q1426.22 41.7081 1422.81 37.0496 Q1419.45 32.3505 1413.54 32.3505 Q1407.62 32.3505 1404.22 37.0496 Q1400.86 41.7081 1400.86 49.9314 Q1400.86 58.1548 1404.22 62.8538 Q1407.62 67.5124 1413.54 67.5124 Q1419.45 67.5124 1422.81 62.8538 Q1426.22 58.1548 1426.22 49.9314 Z\" fill=\"#000000\" fill-rule=\"evenodd\" fill-opacity=\"1\" /><path clip-path=\"url(#clip920)\" d=\"M1466.93 49.7694 Q1457.89 49.7694 1454.41 51.8354 Q1450.93 53.9013 1450.93 58.8839 Q1450.93 62.8538 1453.52 65.2034 Q1456.15 67.5124 1460.65 67.5124 Q1466.85 67.5124 1470.57 63.1374 Q1474.34 58.7219 1474.34 51.4303 L1474.34 49.7694 L1466.93 49.7694 M1481.79 46.6907 L1481.79 72.576 L1474.34 72.576 L1474.34 65.6895 Q1471.79 69.8214 1467.98 71.8063 Q1464.17 73.7508 1458.66 73.7508 Q1451.7 73.7508 1447.56 69.8619 Q1443.47 65.9325 1443.47 59.3701 Q1443.47 51.7138 1448.58 47.825 Q1453.72 43.9361 1463.89 43.9361 L1474.34 43.9361 L1474.34 43.2069 Q1474.34 38.0623 1470.94 35.2672 Q1467.58 32.4315 1461.46 32.4315 Q1457.57 32.4315 1453.88 33.3632 Q1450.2 34.295 1446.79 36.1584 L1446.79 29.2718 Q1450.89 27.692 1454.73 26.9223 Q1458.58 26.1121 1462.23 26.1121 Q1472.07 26.1121 1476.93 31.2163 Q1481.79 36.3204 1481.79 46.6907 Z\" fill=\"#000000\" fill-rule=\"evenodd\" fill-opacity=\"1\" /><path clip-path=\"url(#clip920)\" d=\"M1523.44 34.1734 Q1522.18 33.4443 1520.68 33.1202 Q1519.22 32.7556 1517.44 32.7556 Q1511.12 32.7556 1507.72 36.8875 Q1504.36 40.9789 1504.36 48.6757 L1504.36 72.576 L1496.86 72.576 L1496.86 27.2059 L1504.36 27.2059 L1504.36 34.2544 Q1506.71 30.1225 1510.47 28.1376 Q1514.24 26.1121 1519.63 26.1121 Q1520.4 26.1121 1521.33 26.2337 Q1522.26 26.3147 1523.4 26.5172 L1523.44 34.1734 Z\" fill=\"#000000\" fill-rule=\"evenodd\" fill-opacity=\"1\" /><path clip-path=\"url(#clip920)\" d=\"M1551.87 49.7694 Q1542.84 49.7694 1539.36 51.8354 Q1535.87 53.9013 1535.87 58.8839 Q1535.87 62.8538 1538.47 65.2034 Q1541.1 67.5124 1545.6 67.5124 Q1551.79 67.5124 1555.52 63.1374 Q1559.29 58.7219 1559.29 51.4303 L1559.29 49.7694 L1551.87 49.7694 M1566.74 46.6907 L1566.74 72.576 L1559.29 72.576 L1559.29 65.6895 Q1556.74 69.8214 1552.93 71.8063 Q1549.12 73.7508 1543.61 73.7508 Q1536.64 73.7508 1532.51 69.8619 Q1528.42 65.9325 1528.42 59.3701 Q1528.42 51.7138 1533.52 47.825 Q1538.67 43.9361 1548.84 43.9361 L1559.29 43.9361 L1559.29 43.2069 Q1559.29 38.0623 1555.89 35.2672 Q1552.52 32.4315 1546.41 32.4315 Q1542.52 32.4315 1538.83 33.3632 Q1535.14 34.295 1531.74 36.1584 L1531.74 29.2718 Q1535.83 27.692 1539.68 26.9223 Q1543.53 26.1121 1547.18 26.1121 Q1557.02 26.1121 1561.88 31.2163 Q1566.74 36.3204 1566.74 46.6907 Z\" fill=\"#000000\" fill-rule=\"evenodd\" fill-opacity=\"1\" /><path clip-path=\"url(#clip920)\" d=\"M1646.18 45.1919 L1646.18 72.576 L1638.73 72.576 L1638.73 45.4349 Q1638.73 38.994 1636.21 35.7938 Q1633.7 32.5936 1628.68 32.5936 Q1622.64 32.5936 1619.16 36.4419 Q1615.68 40.2903 1615.68 46.9338 L1615.68 72.576 L1608.18 72.576 L1608.18 9.54393 L1615.68 9.54393 L1615.68 34.2544 Q1618.35 30.163 1621.96 28.1376 Q1625.6 26.1121 1630.34 26.1121 Q1638.16 26.1121 1642.17 30.9732 Q1646.18 35.7938 1646.18 45.1919 Z\" fill=\"#000000\" fill-rule=\"evenodd\" fill-opacity=\"1\" /><path clip-path=\"url(#clip920)\" d=\"M1662.02 34.9026 L1713.95 34.9026 L1713.95 41.7081 L1662.02 41.7081 L1662.02 34.9026 M1662.02 51.4303 L1713.95 51.4303 L1713.95 58.3168 L1662.02 58.3168 L1662.02 51.4303 Z\" fill=\"#000000\" fill-rule=\"evenodd\" fill-opacity=\"1\" /><path clip-path=\"url(#clip920)\" d=\"M1749.11 17.4837 Q1742.79 17.4837 1739.59 23.7221 Q1736.43 29.92 1736.43 42.3968 Q1736.43 54.833 1739.59 61.0714 Q1742.79 67.2693 1749.11 67.2693 Q1755.47 67.2693 1758.63 61.0714 Q1761.83 54.833 1761.83 42.3968 Q1761.83 29.92 1758.63 23.7221 Q1755.47 17.4837 1749.11 17.4837 M1749.11 11.0023 Q1759.28 11.0023 1764.63 19.0636 Q1770.02 27.0843 1770.02 42.3968 Q1770.02 57.6687 1764.63 65.73 Q1759.28 73.7508 1749.11 73.7508 Q1738.95 73.7508 1733.56 65.73 Q1728.21 57.6687 1728.21 42.3968 Q1728.21 27.0843 1733.56 19.0636 Q1738.95 11.0023 1749.11 11.0023 Z\" fill=\"#000000\" fill-rule=\"evenodd\" fill-opacity=\"1\" /><path clip-path=\"url(#clip920)\" d=\"M1785.25 62.2867 L1793.79 62.2867 L1793.79 69.2543 L1787.15 82.2172 L1781.93 82.2172 L1785.25 69.2543 L1785.25 62.2867 Z\" fill=\"#000000\" fill-rule=\"evenodd\" fill-opacity=\"1\" /><path clip-path=\"url(#clip920)\" d=\"M1812.19 65.6895 L1825.55 65.6895 L1825.55 19.5497 L1811.01 22.4663 L1811.01 15.0127 L1825.47 12.096 L1833.66 12.096 L1833.66 65.6895 L1847.02 65.6895 L1847.02 72.576 L1812.19 72.576 L1812.19 65.6895 Z\" fill=\"#000000\" fill-rule=\"evenodd\" fill-opacity=\"1\" /><polyline clip-path=\"url(#clip922)\" style=\"stroke:#800080; stroke-linecap:butt; stroke-linejoin:round; stroke-width:10; stroke-opacity:1; fill:none\" stroke-dasharray=\"40, 25\" points=\"\n",
       "  385.842,231.626 436.056,195.707 486.271,176.057 536.486,163.655 586.701,155.701 636.916,150.983 687.131,148.892 737.345,149.119 787.56,151.532 837.775,156.135 \n",
       "  887.99,163.072 938.205,172.673 988.419,185.587 1038.63,203.133 1088.85,228.441 1139.06,272.312 1189.28,383.73 1239.49,269.293 1289.71,241.338 1339.92,227.621 \n",
       "  1390.14,220.483 1440.35,217.369 1490.57,217.108 1540.78,219.061 1591,222.842 1641.21,228.198 1691.43,234.955 1741.64,242.988 1791.86,252.202 1842.07,262.527 \n",
       "  1892.29,273.905 1942.5,286.292 1992.72,299.65 2042.93,313.949 2093.15,329.163 2143.36,345.268 2193.57,362.245 2243.79,380.077 2294,398.745 \n",
       "  \"/>\n",
       "<polyline clip-path=\"url(#clip922)\" style=\"stroke:#00ffff; stroke-linecap:butt; stroke-linejoin:round; stroke-width:10; stroke-opacity:1; fill:none\" stroke-dasharray=\"40, 25\" points=\"\n",
       "  385.842,1238.91 436.056,1117.98 486.271,1056.53 536.486,1021.25 586.701,1009.25 636.916,1058.85 687.131,971.289 737.345,900.437 787.56,854.262 837.775,818.625 \n",
       "  887.99,789.477 938.205,764.989 988.419,744.139 1038.63,726.279 1088.85,710.966 1139.06,697.878 1189.28,686.771 1239.49,677.456 1289.71,669.78 1339.92,663.62 \n",
       "  1390.14,658.873 1440.35,655.452 1490.57,653.285 1540.78,652.308 1591,652.468 1641.21,653.716 1691.43,656.011 1741.64,659.316 1791.86,663.598 1842.07,668.829 \n",
       "  1892.29,674.981 1942.5,682.031 1992.72,689.959 2042.93,698.743 2093.15,708.368 2143.36,718.816 2193.57,730.073 2243.79,742.126 2294,754.962 \n",
       "  \"/>\n",
       "<polyline clip-path=\"url(#clip922)\" style=\"stroke:#3da44d; stroke-linecap:butt; stroke-linejoin:round; stroke-width:4; stroke-opacity:1; fill:none\" points=\"\n",
       "  -1799,650.736 4428.64,650.736 \n",
       "  \"/>\n",
       "<polyline clip-path=\"url(#clip922)\" style=\"stroke:#c271d2; stroke-linecap:butt; stroke-linejoin:round; stroke-width:4; stroke-opacity:1; fill:none\" points=\"\n",
       "  -1799,138.788 4428.64,138.788 \n",
       "  \"/>\n",
       "<path clip-path=\"url(#clip920)\" d=\"\n",
       "M1935.73 322.316 L2283.56 322.316 L2283.56 166.796 L1935.73 166.796  Z\n",
       "  \" fill=\"#ffffff\" fill-rule=\"evenodd\" fill-opacity=\"1\"/>\n",
       "<polyline clip-path=\"url(#clip920)\" style=\"stroke:#000000; stroke-linecap:butt; stroke-linejoin:round; stroke-width:4; stroke-opacity:1; fill:none\" points=\"\n",
       "  1935.73,322.316 2283.56,322.316 2283.56,166.796 1935.73,166.796 1935.73,322.316 \n",
       "  \"/>\n",
       "<polyline clip-path=\"url(#clip920)\" style=\"stroke:#800080; stroke-linecap:butt; stroke-linejoin:round; stroke-width:4; stroke-opacity:1; fill:none\" stroke-dasharray=\"16, 10\" points=\"\n",
       "  1958.8,218.636 2097.19,218.636 \n",
       "  \"/>\n",
       "<path clip-path=\"url(#clip920)\" d=\"M2120.25 201.356 L2142.11 201.356 L2142.11 205.291 L2124.93 205.291 L2124.93 215.522 L2141.39 215.522 L2141.39 219.457 L2124.93 219.457 L2124.93 231.981 L2142.52 231.981 L2142.52 235.916 L2120.25 235.916 L2120.25 201.356 Z\" fill=\"#000000\" fill-rule=\"evenodd\" fill-opacity=\"1\" /><path clip-path=\"url(#clip920)\" d=\"M2149.58 225.684 L2149.58 209.99 L2153.84 209.99 L2153.84 225.522 Q2153.84 229.203 2155.28 231.055 Q2156.71 232.883 2159.58 232.883 Q2163.03 232.883 2165.02 230.684 Q2167.04 228.485 2167.04 224.689 L2167.04 209.99 L2171.3 209.99 L2171.3 235.916 L2167.04 235.916 L2167.04 231.934 Q2165.49 234.295 2163.42 235.453 Q2161.39 236.587 2158.68 236.587 Q2154.21 236.587 2151.9 233.809 Q2149.58 231.031 2149.58 225.684 M2160.3 209.365 L2160.3 209.365 Z\" fill=\"#000000\" fill-rule=\"evenodd\" fill-opacity=\"1\" /><path clip-path=\"url(#clip920)\" d=\"M2180.07 199.897 L2184.33 199.897 L2184.33 235.916 L2180.07 235.916 L2180.07 199.897 Z\" fill=\"#000000\" fill-rule=\"evenodd\" fill-opacity=\"1\" /><path clip-path=\"url(#clip920)\" d=\"M2215.42 221.888 L2215.42 223.971 L2195.83 223.971 Q2196.11 228.369 2198.47 230.684 Q2200.86 232.976 2205.09 232.976 Q2207.55 232.976 2209.84 232.374 Q2212.15 231.772 2214.42 230.569 L2214.42 234.596 Q2212.13 235.568 2209.72 236.078 Q2207.31 236.587 2204.84 236.587 Q2198.63 236.587 2195 232.976 Q2191.39 229.365 2191.39 223.207 Q2191.39 216.842 2194.81 213.115 Q2198.26 209.365 2204.1 209.365 Q2209.33 209.365 2212.36 212.745 Q2215.42 216.101 2215.42 221.888 M2211.16 220.638 Q2211.11 217.143 2209.19 215.059 Q2207.29 212.976 2204.14 212.976 Q2200.58 212.976 2198.42 214.99 Q2196.3 217.004 2195.97 220.661 L2211.16 220.638 Z\" fill=\"#000000\" fill-rule=\"evenodd\" fill-opacity=\"1\" /><path clip-path=\"url(#clip920)\" d=\"M2237.43 213.971 Q2236.71 213.555 2235.86 213.37 Q2235.02 213.161 2234 213.161 Q2230.39 213.161 2228.45 215.522 Q2226.53 217.86 2226.53 222.258 L2226.53 235.916 L2222.24 235.916 L2222.24 209.99 L2226.53 209.99 L2226.53 214.018 Q2227.87 211.657 2230.02 210.522 Q2232.17 209.365 2235.25 209.365 Q2235.69 209.365 2236.23 209.434 Q2236.76 209.481 2237.41 209.596 L2237.43 213.971 Z\" fill=\"#000000\" fill-rule=\"evenodd\" fill-opacity=\"1\" /><polyline clip-path=\"url(#clip920)\" style=\"stroke:#00ffff; stroke-linecap:butt; stroke-linejoin:round; stroke-width:4; stroke-opacity:1; fill:none\" stroke-dasharray=\"16, 10\" points=\"\n",
       "  1958.8,270.476 2097.19,270.476 \n",
       "  \"/>\n",
       "<path clip-path=\"url(#clip920)\" d=\"M2136.64 271.552 Q2138.15 272.061 2139.56 273.728 Q2140.99 275.395 2142.43 278.311 L2147.18 287.756 L2142.15 287.756 L2137.73 278.89 Q2136.02 275.418 2134.4 274.284 Q2132.8 273.149 2130.02 273.149 L2124.93 273.149 L2124.93 287.756 L2120.25 287.756 L2120.25 253.196 L2130.81 253.196 Q2136.74 253.196 2139.65 255.673 Q2142.57 258.149 2142.57 263.149 Q2142.57 266.413 2141.04 268.566 Q2139.54 270.719 2136.64 271.552 M2124.93 257.038 L2124.93 269.307 L2130.81 269.307 Q2134.19 269.307 2135.9 267.756 Q2137.64 266.182 2137.64 263.149 Q2137.64 260.117 2135.9 258.589 Q2134.19 257.038 2130.81 257.038 L2124.93 257.038 Z\" fill=\"#000000\" fill-rule=\"evenodd\" fill-opacity=\"1\" /><path clip-path=\"url(#clip920)\" d=\"M2153.19 253.196 L2157.87 253.196 L2157.87 267.802 L2173.38 253.196 L2179.4 253.196 L2162.24 269.307 L2180.62 287.756 L2174.47 287.756 L2157.87 271.112 L2157.87 287.756 L2153.19 287.756 L2153.19 253.196 Z\" fill=\"#000000\" fill-rule=\"evenodd\" fill-opacity=\"1\" /><path clip-path=\"url(#clip920)\" d=\"M2197.55 257.27 L2185.74 275.719 L2197.55 275.719 L2197.55 257.27 M2196.32 253.196 L2202.2 253.196 L2202.2 275.719 L2207.13 275.719 L2207.13 279.608 L2202.2 279.608 L2202.2 287.756 L2197.55 287.756 L2197.55 279.608 L2181.94 279.608 L2181.94 275.094 L2196.32 253.196 Z\" fill=\"#000000\" fill-rule=\"evenodd\" fill-opacity=\"1\" /></svg>\n"
      ]
     },
     "execution_count": 207,
     "metadata": {},
     "output_type": "execute_result"
    }
   ],
   "source": [
    "N=40\n",
    "y1 = [ye(t1[n]) for n=1:N]\n",
    "plot(title=\"Error absoluto para h=0,1\",xlabel=\"t\",ylabel=\"e(t)\",yscale=:log10,ylim=(1e-12,0.04))\n",
    "plot!(te1,abs.(we1[1,:]-y1),label=\"Euler\",linestyle=:dash,linecolor=:purple,linewidth=2.5)\n",
    "plot!(t1,abs.(w1[1,:]-y1),label=\"RK4\",linestyle=:dash,linecolor=:cyan,linewidth=2.5)\n",
    "hline!([2e-6],label=\"\")\n",
    "hline!([3e-2],label=\"\")"
   ]
  },
  {
   "cell_type": "code",
   "execution_count": 224,
   "metadata": {},
   "outputs": [
    {
     "data": {
      "image/svg+xml": [
       "<?xml version=\"1.0\" encoding=\"utf-8\"?>\n",
       "<svg xmlns=\"http://www.w3.org/2000/svg\" xmlns:xlink=\"http://www.w3.org/1999/xlink\" width=\"600\" height=\"400\" viewBox=\"0 0 2400 1600\">\n",
       "<defs>\n",
       "  <clipPath id=\"clip520\">\n",
       "    <rect x=\"0\" y=\"0\" width=\"2400\" height=\"1600\"/>\n",
       "  </clipPath>\n",
       "</defs>\n",
       "<path clip-path=\"url(#clip520)\" d=\"\n",
       "M0 1600 L2400 1600 L2400 0 L0 0  Z\n",
       "  \" fill=\"#ffffff\" fill-rule=\"evenodd\" fill-opacity=\"1\"/>\n",
       "<defs>\n",
       "  <clipPath id=\"clip521\">\n",
       "    <rect x=\"480\" y=\"0\" width=\"1681\" height=\"1600\"/>\n",
       "  </clipPath>\n",
       "</defs>\n",
       "<path clip-path=\"url(#clip520)\" d=\"\n",
       "M276.876 1423.18 L2352.76 1423.18 L2352.76 123.472 L276.876 123.472  Z\n",
       "  \" fill=\"#ffffff\" fill-rule=\"evenodd\" fill-opacity=\"1\"/>\n",
       "<defs>\n",
       "  <clipPath id=\"clip522\">\n",
       "    <rect x=\"276\" y=\"123\" width=\"2077\" height=\"1301\"/>\n",
       "  </clipPath>\n",
       "</defs>\n",
       "<polyline clip-path=\"url(#clip522)\" style=\"stroke:#000000; stroke-linecap:butt; stroke-linejoin:round; stroke-width:2; stroke-opacity:0.1; fill:none\" points=\"\n",
       "  335.627,1423.18 335.627,123.472 \n",
       "  \"/>\n",
       "<polyline clip-path=\"url(#clip522)\" style=\"stroke:#000000; stroke-linecap:butt; stroke-linejoin:round; stroke-width:2; stroke-opacity:0.1; fill:none\" points=\"\n",
       "  825.221,1423.18 825.221,123.472 \n",
       "  \"/>\n",
       "<polyline clip-path=\"url(#clip522)\" style=\"stroke:#000000; stroke-linecap:butt; stroke-linejoin:round; stroke-width:2; stroke-opacity:0.1; fill:none\" points=\"\n",
       "  1314.82,1423.18 1314.82,123.472 \n",
       "  \"/>\n",
       "<polyline clip-path=\"url(#clip522)\" style=\"stroke:#000000; stroke-linecap:butt; stroke-linejoin:round; stroke-width:2; stroke-opacity:0.1; fill:none\" points=\"\n",
       "  1804.41,1423.18 1804.41,123.472 \n",
       "  \"/>\n",
       "<polyline clip-path=\"url(#clip522)\" style=\"stroke:#000000; stroke-linecap:butt; stroke-linejoin:round; stroke-width:2; stroke-opacity:0.1; fill:none\" points=\"\n",
       "  2294,1423.18 2294,123.472 \n",
       "  \"/>\n",
       "<polyline clip-path=\"url(#clip520)\" style=\"stroke:#000000; stroke-linecap:butt; stroke-linejoin:round; stroke-width:4; stroke-opacity:1; fill:none\" points=\"\n",
       "  276.876,1423.18 2352.76,1423.18 \n",
       "  \"/>\n",
       "<polyline clip-path=\"url(#clip520)\" style=\"stroke:#000000; stroke-linecap:butt; stroke-linejoin:round; stroke-width:4; stroke-opacity:1; fill:none\" points=\"\n",
       "  335.627,1423.18 335.627,1404.28 \n",
       "  \"/>\n",
       "<polyline clip-path=\"url(#clip520)\" style=\"stroke:#000000; stroke-linecap:butt; stroke-linejoin:round; stroke-width:4; stroke-opacity:1; fill:none\" points=\"\n",
       "  825.221,1423.18 825.221,1404.28 \n",
       "  \"/>\n",
       "<polyline clip-path=\"url(#clip520)\" style=\"stroke:#000000; stroke-linecap:butt; stroke-linejoin:round; stroke-width:4; stroke-opacity:1; fill:none\" points=\"\n",
       "  1314.82,1423.18 1314.82,1404.28 \n",
       "  \"/>\n",
       "<polyline clip-path=\"url(#clip520)\" style=\"stroke:#000000; stroke-linecap:butt; stroke-linejoin:round; stroke-width:4; stroke-opacity:1; fill:none\" points=\"\n",
       "  1804.41,1423.18 1804.41,1404.28 \n",
       "  \"/>\n",
       "<polyline clip-path=\"url(#clip520)\" style=\"stroke:#000000; stroke-linecap:butt; stroke-linejoin:round; stroke-width:4; stroke-opacity:1; fill:none\" points=\"\n",
       "  2294,1423.18 2294,1404.28 \n",
       "  \"/>\n",
       "<path clip-path=\"url(#clip520)\" d=\"M335.627 1454.1 Q332.016 1454.1 330.187 1457.66 Q328.382 1461.2 328.382 1468.33 Q328.382 1475.44 330.187 1479.01 Q332.016 1482.55 335.627 1482.55 Q339.261 1482.55 341.067 1479.01 Q342.895 1475.44 342.895 1468.33 Q342.895 1461.2 341.067 1457.66 Q339.261 1454.1 335.627 1454.1 M335.627 1450.39 Q341.437 1450.39 344.493 1455 Q347.571 1459.58 347.571 1468.33 Q347.571 1477.06 344.493 1481.67 Q341.437 1486.25 335.627 1486.25 Q329.817 1486.25 326.738 1481.67 Q323.682 1477.06 323.682 1468.33 Q323.682 1459.58 326.738 1455 Q329.817 1450.39 335.627 1450.39 Z\" fill=\"#000000\" fill-rule=\"evenodd\" fill-opacity=\"1\" /><path clip-path=\"url(#clip520)\" d=\"M815.603 1481.64 L823.242 1481.64 L823.242 1455.28 L814.932 1456.95 L814.932 1452.69 L823.196 1451.02 L827.872 1451.02 L827.872 1481.64 L835.511 1481.64 L835.511 1485.58 L815.603 1485.58 L815.603 1481.64 Z\" fill=\"#000000\" fill-rule=\"evenodd\" fill-opacity=\"1\" /><path clip-path=\"url(#clip520)\" d=\"M1309.47 1481.64 L1325.79 1481.64 L1325.79 1485.58 L1303.84 1485.58 L1303.84 1481.64 Q1306.51 1478.89 1311.09 1474.26 Q1315.7 1469.61 1316.88 1468.27 Q1319.12 1465.74 1320 1464.01 Q1320.9 1462.25 1320.9 1460.56 Q1320.9 1457.8 1318.96 1456.07 Q1317.04 1454.33 1313.94 1454.33 Q1311.74 1454.33 1309.28 1455.09 Q1306.85 1455.86 1304.08 1457.41 L1304.08 1452.69 Q1306.9 1451.55 1309.35 1450.97 Q1311.81 1450.39 1313.84 1450.39 Q1319.21 1450.39 1322.41 1453.08 Q1325.6 1455.77 1325.6 1460.26 Q1325.6 1462.39 1324.79 1464.31 Q1324.01 1466.2 1321.9 1468.8 Q1321.32 1469.47 1318.22 1472.69 Q1315.12 1475.88 1309.47 1481.64 Z\" fill=\"#000000\" fill-rule=\"evenodd\" fill-opacity=\"1\" /><path clip-path=\"url(#clip520)\" d=\"M1808.66 1466.95 Q1812.01 1467.66 1813.89 1469.93 Q1815.79 1472.2 1815.79 1475.53 Q1815.79 1480.65 1812.27 1483.45 Q1808.75 1486.25 1802.27 1486.25 Q1800.09 1486.25 1797.78 1485.81 Q1795.49 1485.39 1793.03 1484.54 L1793.03 1480.02 Q1794.98 1481.16 1797.29 1481.74 Q1799.61 1482.32 1802.13 1482.32 Q1806.53 1482.32 1808.82 1480.58 Q1811.13 1478.84 1811.13 1475.53 Q1811.13 1472.48 1808.98 1470.77 Q1806.85 1469.03 1803.03 1469.03 L1799.01 1469.03 L1799.01 1465.19 L1803.22 1465.19 Q1806.67 1465.19 1808.5 1463.82 Q1810.32 1462.43 1810.32 1459.84 Q1810.32 1457.18 1808.43 1455.77 Q1806.55 1454.33 1803.03 1454.33 Q1801.11 1454.33 1798.91 1454.75 Q1796.71 1455.16 1794.07 1456.04 L1794.07 1451.88 Q1796.74 1451.14 1799.05 1450.77 Q1801.39 1450.39 1803.45 1450.39 Q1808.77 1450.39 1811.88 1452.83 Q1814.98 1455.23 1814.98 1459.35 Q1814.98 1462.22 1813.33 1464.21 Q1811.69 1466.18 1808.66 1466.95 Z\" fill=\"#000000\" fill-rule=\"evenodd\" fill-opacity=\"1\" /><path clip-path=\"url(#clip520)\" d=\"M2297.01 1455.09 L2285.21 1473.54 L2297.01 1473.54 L2297.01 1455.09 M2295.79 1451.02 L2301.67 1451.02 L2301.67 1473.54 L2306.6 1473.54 L2306.6 1477.43 L2301.67 1477.43 L2301.67 1485.58 L2297.01 1485.58 L2297.01 1477.43 L2281.41 1477.43 L2281.41 1472.92 L2295.79 1451.02 Z\" fill=\"#000000\" fill-rule=\"evenodd\" fill-opacity=\"1\" /><path clip-path=\"url(#clip520)\" d=\"M1313.88 1522.27 L1313.88 1532.4 L1325.94 1532.4 L1325.94 1536.95 L1313.88 1536.95 L1313.88 1556.3 Q1313.88 1560.66 1315.05 1561.9 Q1316.26 1563.14 1319.92 1563.14 L1325.94 1563.14 L1325.94 1568.04 L1319.92 1568.04 Q1313.14 1568.04 1310.57 1565.53 Q1307.99 1562.98 1307.99 1556.3 L1307.99 1536.95 L1303.69 1536.95 L1303.69 1532.4 L1307.99 1532.4 L1307.99 1522.27 L1313.88 1522.27 Z\" fill=\"#000000\" fill-rule=\"evenodd\" fill-opacity=\"1\" /><polyline clip-path=\"url(#clip522)\" style=\"stroke:#000000; stroke-linecap:butt; stroke-linejoin:round; stroke-width:2; stroke-opacity:0.1; fill:none\" points=\"\n",
       "  276.876,1334.17 2352.76,1334.17 \n",
       "  \"/>\n",
       "<polyline clip-path=\"url(#clip522)\" style=\"stroke:#000000; stroke-linecap:butt; stroke-linejoin:round; stroke-width:2; stroke-opacity:0.1; fill:none\" points=\"\n",
       "  276.876,889.129 2352.76,889.129 \n",
       "  \"/>\n",
       "<polyline clip-path=\"url(#clip522)\" style=\"stroke:#000000; stroke-linecap:butt; stroke-linejoin:round; stroke-width:2; stroke-opacity:0.1; fill:none\" points=\"\n",
       "  276.876,444.086 2352.76,444.086 \n",
       "  \"/>\n",
       "<polyline clip-path=\"url(#clip520)\" style=\"stroke:#000000; stroke-linecap:butt; stroke-linejoin:round; stroke-width:4; stroke-opacity:1; fill:none\" points=\"\n",
       "  276.876,1423.18 276.876,123.472 \n",
       "  \"/>\n",
       "<polyline clip-path=\"url(#clip520)\" style=\"stroke:#000000; stroke-linecap:butt; stroke-linejoin:round; stroke-width:4; stroke-opacity:1; fill:none\" points=\"\n",
       "  276.876,1334.17 295.773,1334.17 \n",
       "  \"/>\n",
       "<polyline clip-path=\"url(#clip520)\" style=\"stroke:#000000; stroke-linecap:butt; stroke-linejoin:round; stroke-width:4; stroke-opacity:1; fill:none\" points=\"\n",
       "  276.876,889.129 295.773,889.129 \n",
       "  \"/>\n",
       "<polyline clip-path=\"url(#clip520)\" style=\"stroke:#000000; stroke-linecap:butt; stroke-linejoin:round; stroke-width:4; stroke-opacity:1; fill:none\" points=\"\n",
       "  276.876,444.086 295.773,444.086 \n",
       "  \"/>\n",
       "<path clip-path=\"url(#clip520)\" d=\"M115.74 1353.96 L123.379 1353.96 L123.379 1327.6 L115.069 1329.26 L115.069 1325.01 L123.333 1323.34 L128.009 1323.34 L128.009 1353.96 L135.647 1353.96 L135.647 1357.9 L115.74 1357.9 L115.74 1353.96 Z\" fill=\"#000000\" fill-rule=\"evenodd\" fill-opacity=\"1\" /><path clip-path=\"url(#clip520)\" d=\"M155.092 1326.42 Q151.481 1326.42 149.652 1329.98 Q147.846 1333.52 147.846 1340.65 Q147.846 1347.76 149.652 1351.32 Q151.481 1354.87 155.092 1354.87 Q158.726 1354.87 160.532 1351.32 Q162.36 1347.76 162.36 1340.65 Q162.36 1333.52 160.532 1329.98 Q158.726 1326.42 155.092 1326.42 M155.092 1322.71 Q160.902 1322.71 163.958 1327.32 Q167.036 1331.9 167.036 1340.65 Q167.036 1349.38 163.958 1353.99 Q160.902 1358.57 155.092 1358.57 Q149.282 1358.57 146.203 1353.99 Q143.147 1349.38 143.147 1340.65 Q143.147 1331.9 146.203 1327.32 Q149.282 1322.71 155.092 1322.71 Z\" fill=\"#000000\" fill-rule=\"evenodd\" fill-opacity=\"1\" /><path clip-path=\"url(#clip520)\" d=\"M167.036 1316.82 L191.148 1316.82 L191.148 1320.01 L167.036 1320.01 L167.036 1316.82 Z\" fill=\"#000000\" fill-rule=\"evenodd\" fill-opacity=\"1\" /><path clip-path=\"url(#clip520)\" d=\"M200.006 1327.29 L206.213 1327.29 L206.213 1305.87 L199.461 1307.22 L199.461 1303.76 L206.175 1302.41 L209.974 1302.41 L209.974 1327.29 L216.181 1327.29 L216.181 1330.49 L200.006 1330.49 L200.006 1327.29 Z\" fill=\"#000000\" fill-rule=\"evenodd\" fill-opacity=\"1\" /><path clip-path=\"url(#clip520)\" d=\"M223.892 1302.41 L238.807 1302.41 L238.807 1305.61 L227.372 1305.61 L227.372 1312.49 Q228.199 1312.21 229.027 1312.08 Q229.854 1311.93 230.682 1311.93 Q235.384 1311.93 238.13 1314.5 Q240.876 1317.08 240.876 1321.48 Q240.876 1326.01 238.054 1328.53 Q235.233 1331.03 230.099 1331.03 Q228.331 1331.03 226.488 1330.73 Q224.663 1330.43 222.707 1329.83 L222.707 1326.01 Q224.4 1326.93 226.205 1327.39 Q228.011 1327.84 230.023 1327.84 Q233.277 1327.84 235.177 1326.13 Q237.076 1324.41 237.076 1321.48 Q237.076 1318.55 235.177 1316.83 Q233.277 1315.12 230.023 1315.12 Q228.5 1315.12 226.977 1315.46 Q225.472 1315.8 223.892 1316.51 L223.892 1302.41 Z\" fill=\"#000000\" fill-rule=\"evenodd\" fill-opacity=\"1\" /><path clip-path=\"url(#clip520)\" d=\"M114.931 908.921 L122.57 908.921 L122.57 882.556 L114.26 884.222 L114.26 879.963 L122.524 878.296 L127.2 878.296 L127.2 908.921 L134.839 908.921 L134.839 912.856 L114.931 912.856 L114.931 908.921 Z\" fill=\"#000000\" fill-rule=\"evenodd\" fill-opacity=\"1\" /><path clip-path=\"url(#clip520)\" d=\"M154.283 881.375 Q150.672 881.375 148.843 884.94 Q147.038 888.481 147.038 895.611 Q147.038 902.718 148.843 906.282 Q150.672 909.824 154.283 909.824 Q157.917 909.824 159.723 906.282 Q161.552 902.718 161.552 895.611 Q161.552 888.481 159.723 884.94 Q157.917 881.375 154.283 881.375 M154.283 877.671 Q160.093 877.671 163.149 882.278 Q166.227 886.861 166.227 895.611 Q166.227 904.338 163.149 908.944 Q160.093 913.528 154.283 913.528 Q148.473 913.528 145.394 908.944 Q142.339 904.338 142.339 895.611 Q142.339 886.861 145.394 882.278 Q148.473 877.671 154.283 877.671 Z\" fill=\"#000000\" fill-rule=\"evenodd\" fill-opacity=\"1\" /><path clip-path=\"url(#clip520)\" d=\"M166.227 871.773 L190.339 871.773 L190.339 874.97 L166.227 874.97 L166.227 871.773 Z\" fill=\"#000000\" fill-rule=\"evenodd\" fill-opacity=\"1\" /><path clip-path=\"url(#clip520)\" d=\"M199.197 882.249 L205.404 882.249 L205.404 860.827 L198.652 862.181 L198.652 858.72 L205.366 857.366 L209.166 857.366 L209.166 882.249 L215.372 882.249 L215.372 885.446 L199.197 885.446 L199.197 882.249 Z\" fill=\"#000000\" fill-rule=\"evenodd\" fill-opacity=\"1\" /><path clip-path=\"url(#clip520)\" d=\"M231.171 859.867 Q228.237 859.867 226.751 862.764 Q225.284 865.641 225.284 871.434 Q225.284 877.208 226.751 880.105 Q228.237 882.982 231.171 882.982 Q234.124 882.982 235.591 880.105 Q237.076 877.208 237.076 871.434 Q237.076 865.641 235.591 862.764 Q234.124 859.867 231.171 859.867 M231.171 856.858 Q235.891 856.858 238.374 860.601 Q240.876 864.325 240.876 871.434 Q240.876 878.525 238.374 882.267 Q235.891 885.991 231.171 885.991 Q226.45 885.991 223.949 882.267 Q221.466 878.525 221.466 871.434 Q221.466 864.325 223.949 860.601 Q226.45 856.858 231.171 856.858 Z\" fill=\"#000000\" fill-rule=\"evenodd\" fill-opacity=\"1\" /><path clip-path=\"url(#clip520)\" d=\"M140.247 463.879 L147.886 463.879 L147.886 437.513 L139.575 439.18 L139.575 434.92 L147.839 433.254 L152.515 433.254 L152.515 463.879 L160.154 463.879 L160.154 467.814 L140.247 467.814 L140.247 463.879 Z\" fill=\"#000000\" fill-rule=\"evenodd\" fill-opacity=\"1\" /><path clip-path=\"url(#clip520)\" d=\"M179.598 436.332 Q175.987 436.332 174.159 439.897 Q172.353 443.439 172.353 450.568 Q172.353 457.675 174.159 461.24 Q175.987 464.781 179.598 464.781 Q183.233 464.781 185.038 461.24 Q186.867 457.675 186.867 450.568 Q186.867 443.439 185.038 439.897 Q183.233 436.332 179.598 436.332 M179.598 432.629 Q185.409 432.629 188.464 437.235 Q191.543 441.819 191.543 450.568 Q191.543 459.295 188.464 463.902 Q185.409 468.485 179.598 468.485 Q173.788 468.485 170.71 463.902 Q167.654 459.295 167.654 450.568 Q167.654 441.819 170.71 437.235 Q173.788 432.629 179.598 432.629 Z\" fill=\"#000000\" fill-rule=\"evenodd\" fill-opacity=\"1\" /><path clip-path=\"url(#clip520)\" d=\"M191.543 426.73 L215.654 426.73 L215.654 429.927 L191.543 429.927 L191.543 426.73 Z\" fill=\"#000000\" fill-rule=\"evenodd\" fill-opacity=\"1\" /><path clip-path=\"url(#clip520)\" d=\"M223.892 412.323 L238.807 412.323 L238.807 415.521 L227.372 415.521 L227.372 422.404 Q228.199 422.122 229.027 421.991 Q229.854 421.84 230.682 421.84 Q235.384 421.84 238.13 424.417 Q240.876 426.993 240.876 431.394 Q240.876 435.927 238.054 438.447 Q235.233 440.949 230.099 440.949 Q228.331 440.949 226.488 440.648 Q224.663 440.347 222.707 439.745 L222.707 435.927 Q224.4 436.849 226.205 437.3 Q228.011 437.751 230.023 437.751 Q233.277 437.751 235.177 436.04 Q237.076 434.328 237.076 431.394 Q237.076 428.46 235.177 426.749 Q233.277 425.037 230.023 425.037 Q228.5 425.037 226.977 425.376 Q225.472 425.714 223.892 426.429 L223.892 412.323 Z\" fill=\"#000000\" fill-rule=\"evenodd\" fill-opacity=\"1\" /><path clip-path=\"url(#clip520)\" d=\"M44.7161 793.951 L47.5806 793.951 L47.5806 820.878 Q53.6281 820.496 56.8109 817.249 Q59.9619 813.971 59.9619 808.146 Q59.9619 804.773 59.1344 801.622 Q58.3069 798.439 56.6518 795.32 L62.1899 795.32 Q63.5267 798.471 64.227 801.781 Q64.9272 805.091 64.9272 808.497 Q64.9272 817.027 59.9619 822.024 Q54.9967 826.989 46.5303 826.989 Q37.7774 826.989 32.6531 822.278 Q27.4968 817.536 27.4968 809.515 Q27.4968 802.322 32.1438 798.152 Q36.7589 793.951 44.7161 793.951 M42.9973 799.807 Q38.1912 799.871 35.3266 802.513 Q32.4621 805.123 32.4621 809.451 Q32.4621 814.353 35.2312 817.313 Q38.0002 820.241 43.0292 820.687 L42.9973 799.807 Z\" fill=\"#000000\" fill-rule=\"evenodd\" fill-opacity=\"1\" /><path clip-path=\"url(#clip520)\" d=\"M14.5426 770.27 Q21.8632 774.535 29.0246 776.604 Q36.186 778.673 43.5384 778.673 Q50.8908 778.673 58.1159 776.604 Q65.3091 774.504 72.5979 770.27 L72.5979 775.363 Q65.1182 780.137 57.8931 782.524 Q50.668 784.88 43.5384 784.88 Q36.4406 784.88 29.2474 782.524 Q22.0542 780.169 14.5426 775.363 L14.5426 770.27 Z\" fill=\"#000000\" fill-rule=\"evenodd\" fill-opacity=\"1\" /><path clip-path=\"url(#clip520)\" d=\"M18.2347 753.115 L28.3562 753.115 L28.3562 741.052 L32.9077 741.052 L32.9077 753.115 L52.2594 753.115 Q56.6199 753.115 57.8613 751.937 Q59.1026 750.728 59.1026 747.067 L59.1026 741.052 L64.0042 741.052 L64.0042 747.067 Q64.0042 753.847 61.4897 756.425 Q58.9434 759.003 52.2594 759.003 L32.9077 759.003 L32.9077 763.3 L28.3562 763.3 L28.3562 759.003 L18.2347 759.003 L18.2347 753.115 Z\" fill=\"#000000\" fill-rule=\"evenodd\" fill-opacity=\"1\" /><path clip-path=\"url(#clip520)\" d=\"M14.5426 734.272 L14.5426 729.18 Q22.0542 724.406 29.2474 722.05 Q36.4406 719.663 43.5384 719.663 Q50.668 719.663 57.8931 722.05 Q65.1182 724.406 72.5979 729.18 L72.5979 734.272 Q65.3091 730.039 58.1159 727.97 Q50.8908 725.87 43.5384 725.87 Q36.186 725.87 29.0246 727.97 Q21.8632 730.039 14.5426 734.272 Z\" fill=\"#000000\" fill-rule=\"evenodd\" fill-opacity=\"1\" /><path clip-path=\"url(#clip520)\" d=\"M756.216 12.096 L794.457 12.096 L794.457 18.9825 L764.399 18.9825 L764.399 36.8875 L793.201 36.8875 L793.201 43.7741 L764.399 43.7741 L764.399 65.6895 L795.186 65.6895 L795.186 72.576 L756.216 72.576 L756.216 12.096 Z\" fill=\"#000000\" fill-rule=\"evenodd\" fill-opacity=\"1\" /><path clip-path=\"url(#clip520)\" d=\"M834.601 34.1734 Q833.345 33.4443 831.847 33.1202 Q830.388 32.7556 828.606 32.7556 Q822.287 32.7556 818.884 36.8875 Q815.522 40.9789 815.522 48.6757 L815.522 72.576 L808.027 72.576 L808.027 27.2059 L815.522 27.2059 L815.522 34.2544 Q817.871 30.1225 821.638 28.1376 Q825.406 26.1121 830.793 26.1121 Q831.563 26.1121 832.495 26.2337 Q833.427 26.3147 834.561 26.5172 L834.601 34.1734 Z\" fill=\"#000000\" fill-rule=\"evenodd\" fill-opacity=\"1\" /><path clip-path=\"url(#clip520)\" d=\"M867.252 34.1734 Q865.996 33.4443 864.497 33.1202 Q863.039 32.7556 861.256 32.7556 Q854.937 32.7556 851.534 36.8875 Q848.172 40.9789 848.172 48.6757 L848.172 72.576 L840.678 72.576 L840.678 27.2059 L848.172 27.2059 L848.172 34.2544 Q850.521 30.1225 854.289 28.1376 Q858.056 26.1121 863.444 26.1121 Q864.213 26.1121 865.145 26.2337 Q866.077 26.3147 867.211 26.5172 L867.252 34.1734 Z\" fill=\"#000000\" fill-rule=\"evenodd\" fill-opacity=\"1\" /><path clip-path=\"url(#clip520)\" d=\"M890.828 32.4315 Q884.832 32.4315 881.349 37.1306 Q877.865 41.7891 877.865 49.9314 Q877.865 58.0738 881.308 62.7728 Q884.792 67.4314 890.828 67.4314 Q896.783 67.4314 900.266 62.7323 Q903.75 58.0333 903.75 49.9314 Q903.75 41.8701 900.266 37.1711 Q896.783 32.4315 890.828 32.4315 M890.828 26.1121 Q900.55 26.1121 906.1 32.4315 Q911.649 38.7509 911.649 49.9314 Q911.649 61.0714 906.1 67.4314 Q900.55 73.7508 890.828 73.7508 Q881.065 73.7508 875.515 67.4314 Q870.006 61.0714 870.006 49.9314 Q870.006 38.7509 875.515 32.4315 Q881.065 26.1121 890.828 26.1121 Z\" fill=\"#000000\" fill-rule=\"evenodd\" fill-opacity=\"1\" /><path clip-path=\"url(#clip520)\" d=\"M950.295 34.1734 Q949.039 33.4443 947.54 33.1202 Q946.082 32.7556 944.3 32.7556 Q937.98 32.7556 934.578 36.8875 Q931.215 40.9789 931.215 48.6757 L931.215 72.576 L923.721 72.576 L923.721 27.2059 L931.215 27.2059 L931.215 34.2544 Q933.565 30.1225 937.332 28.1376 Q941.1 26.1121 946.487 26.1121 Q947.257 26.1121 948.189 26.2337 Q949.12 26.3147 950.255 26.5172 L950.295 34.1734 Z\" fill=\"#000000\" fill-rule=\"evenodd\" fill-opacity=\"1\" /><path clip-path=\"url(#clip520)\" d=\"M1005.1 49.7694 Q996.07 49.7694 992.587 51.8354 Q989.103 53.9013 989.103 58.8839 Q989.103 62.8538 991.695 65.2034 Q994.328 67.5124 998.825 67.5124 Q1005.02 67.5124 1008.75 63.1374 Q1012.52 58.7219 1012.52 51.4303 L1012.52 49.7694 L1005.1 49.7694 M1019.97 46.6907 L1019.97 72.576 L1012.52 72.576 L1012.52 65.6895 Q1009.96 69.8214 1006.16 71.8063 Q1002.35 73.7508 996.84 73.7508 Q989.872 73.7508 985.741 69.8619 Q981.649 65.9325 981.649 59.3701 Q981.649 51.7138 986.753 47.825 Q991.898 43.9361 1002.07 43.9361 L1012.52 43.9361 L1012.52 43.2069 Q1012.52 38.0623 1009.11 35.2672 Q1005.75 32.4315 999.635 32.4315 Q995.746 32.4315 992.06 33.3632 Q988.374 34.295 984.971 36.1584 L984.971 29.2718 Q989.062 27.692 992.911 26.9223 Q996.759 26.1121 1000.4 26.1121 Q1010.25 26.1121 1015.11 31.2163 Q1019.97 36.3204 1019.97 46.6907 Z\" fill=\"#000000\" fill-rule=\"evenodd\" fill-opacity=\"1\" /><path clip-path=\"url(#clip520)\" d=\"M1067.89 49.9314 Q1067.89 41.7081 1064.49 37.0496 Q1061.13 32.3505 1055.21 32.3505 Q1049.3 32.3505 1045.9 37.0496 Q1042.53 41.7081 1042.53 49.9314 Q1042.53 58.1548 1045.9 62.8538 Q1049.3 67.5124 1055.21 67.5124 Q1061.13 67.5124 1064.49 62.8538 Q1067.89 58.1548 1067.89 49.9314 M1042.53 34.0924 Q1044.88 30.0415 1048.45 28.0971 Q1052.05 26.1121 1057.04 26.1121 Q1065.3 26.1121 1070.44 32.6746 Q1075.63 39.2371 1075.63 49.9314 Q1075.63 60.6258 1070.44 67.1883 Q1065.3 73.7508 1057.04 73.7508 Q1052.05 73.7508 1048.45 71.8063 Q1044.88 69.8214 1042.53 65.7705 L1042.53 72.576 L1035.04 72.576 L1035.04 9.54393 L1042.53 9.54393 L1042.53 34.0924 Z\" fill=\"#000000\" fill-rule=\"evenodd\" fill-opacity=\"1\" /><path clip-path=\"url(#clip520)\" d=\"M1116.91 28.5427 L1116.91 35.5912 Q1113.75 33.9709 1110.35 33.1607 Q1106.94 32.3505 1103.3 32.3505 Q1097.75 32.3505 1094.95 34.0519 Q1092.2 35.7533 1092.2 39.156 Q1092.2 41.7486 1094.18 43.2475 Q1096.17 44.7058 1102.16 46.0426 L1104.72 46.6097 Q1112.66 48.3111 1115.98 51.4303 Q1119.34 54.509 1119.34 60.0587 Q1119.34 66.3781 1114.32 70.0644 Q1109.33 73.7508 1100.58 73.7508 Q1096.94 73.7508 1092.97 73.0216 Q1089.04 72.3329 1084.66 70.9151 L1084.66 63.2184 Q1088.8 65.3654 1092.81 66.4591 Q1096.82 67.5124 1100.75 67.5124 Q1106.01 67.5124 1108.85 65.73 Q1111.68 63.9071 1111.68 60.6258 Q1111.68 57.5877 1109.62 55.9673 Q1107.59 54.3469 1100.66 52.8481 L1098.07 52.2405 Q1091.15 50.7821 1088.07 47.7845 Q1084.99 44.7463 1084.99 39.4801 Q1084.99 33.0797 1089.52 29.5959 Q1094.06 26.1121 1102.41 26.1121 Q1106.54 26.1121 1110.18 26.7198 Q1113.83 27.3274 1116.91 28.5427 Z\" fill=\"#000000\" fill-rule=\"evenodd\" fill-opacity=\"1\" /><path clip-path=\"url(#clip520)\" d=\"M1148.79 32.4315 Q1142.79 32.4315 1139.31 37.1306 Q1135.83 41.7891 1135.83 49.9314 Q1135.83 58.0738 1139.27 62.7728 Q1142.75 67.4314 1148.79 67.4314 Q1154.74 67.4314 1158.23 62.7323 Q1161.71 58.0333 1161.71 49.9314 Q1161.71 41.8701 1158.23 37.1711 Q1154.74 32.4315 1148.79 32.4315 M1148.79 26.1121 Q1158.51 26.1121 1164.06 32.4315 Q1169.61 38.7509 1169.61 49.9314 Q1169.61 61.0714 1164.06 67.4314 Q1158.51 73.7508 1148.79 73.7508 Q1139.03 73.7508 1133.48 67.4314 Q1127.97 61.0714 1127.97 49.9314 Q1127.97 38.7509 1133.48 32.4315 Q1139.03 26.1121 1148.79 26.1121 Z\" fill=\"#000000\" fill-rule=\"evenodd\" fill-opacity=\"1\" /><path clip-path=\"url(#clip520)\" d=\"M1181.97 9.54393 L1189.42 9.54393 L1189.42 72.576 L1181.97 72.576 L1181.97 9.54393 Z\" fill=\"#000000\" fill-rule=\"evenodd\" fill-opacity=\"1\" /><path clip-path=\"url(#clip520)\" d=\"M1204.25 54.671 L1204.25 27.2059 L1211.7 27.2059 L1211.7 54.3874 Q1211.7 60.8284 1214.21 64.0691 Q1216.72 67.2693 1221.75 67.2693 Q1227.78 67.2693 1231.27 63.421 Q1234.79 59.5726 1234.79 52.9291 L1234.79 27.2059 L1242.24 27.2059 L1242.24 72.576 L1234.79 72.576 L1234.79 65.6084 Q1232.08 69.7404 1228.47 71.7658 Q1224.91 73.7508 1220.17 73.7508 Q1212.35 73.7508 1208.3 68.8897 Q1204.25 64.0286 1204.25 54.671 M1223 26.1121 L1223 26.1121 Z\" fill=\"#000000\" fill-rule=\"evenodd\" fill-opacity=\"1\" /><path clip-path=\"url(#clip520)\" d=\"M1264.97 14.324 L1264.97 27.2059 L1280.32 27.2059 L1280.32 32.9987 L1264.97 32.9987 L1264.97 57.6282 Q1264.97 63.1779 1266.47 64.7578 Q1268.01 66.3376 1272.67 66.3376 L1280.32 66.3376 L1280.32 72.576 L1272.67 72.576 Q1264.04 72.576 1260.76 69.3758 Q1257.48 66.1351 1257.48 57.6282 L1257.48 32.9987 L1252.01 32.9987 L1252.01 27.2059 L1257.48 27.2059 L1257.48 14.324 L1264.97 14.324 Z\" fill=\"#000000\" fill-rule=\"evenodd\" fill-opacity=\"1\" /><path clip-path=\"url(#clip520)\" d=\"M1307.71 32.4315 Q1301.71 32.4315 1298.23 37.1306 Q1294.74 41.7891 1294.74 49.9314 Q1294.74 58.0738 1298.19 62.7728 Q1301.67 67.4314 1307.71 67.4314 Q1313.66 67.4314 1317.14 62.7323 Q1320.63 58.0333 1320.63 49.9314 Q1320.63 41.8701 1317.14 37.1711 Q1313.66 32.4315 1307.71 32.4315 M1307.71 26.1121 Q1317.43 26.1121 1322.98 32.4315 Q1328.53 38.7509 1328.53 49.9314 Q1328.53 61.0714 1322.98 67.4314 Q1317.43 73.7508 1307.71 73.7508 Q1297.94 73.7508 1292.39 67.4314 Q1286.88 61.0714 1286.88 49.9314 Q1286.88 38.7509 1292.39 32.4315 Q1297.94 26.1121 1307.71 26.1121 Z\" fill=\"#000000\" fill-rule=\"evenodd\" fill-opacity=\"1\" /><path clip-path=\"url(#clip520)\" d=\"M1374.47 65.7705 L1374.47 89.8329 L1366.97 89.8329 L1366.97 27.2059 L1374.47 27.2059 L1374.47 34.0924 Q1376.81 30.0415 1380.38 28.0971 Q1383.98 26.1121 1388.97 26.1121 Q1397.23 26.1121 1402.38 32.6746 Q1407.56 39.2371 1407.56 49.9314 Q1407.56 60.6258 1402.38 67.1883 Q1397.23 73.7508 1388.97 73.7508 Q1383.98 73.7508 1380.38 71.8063 Q1376.81 69.8214 1374.47 65.7705 M1399.82 49.9314 Q1399.82 41.7081 1396.42 37.0496 Q1393.06 32.3505 1387.14 32.3505 Q1381.23 32.3505 1377.83 37.0496 Q1374.47 41.7081 1374.47 49.9314 Q1374.47 58.1548 1377.83 62.8538 Q1381.23 67.5124 1387.14 67.5124 Q1393.06 67.5124 1396.42 62.8538 Q1399.82 58.1548 1399.82 49.9314 Z\" fill=\"#000000\" fill-rule=\"evenodd\" fill-opacity=\"1\" /><path clip-path=\"url(#clip520)\" d=\"M1440.54 49.7694 Q1431.5 49.7694 1428.02 51.8354 Q1424.53 53.9013 1424.53 58.8839 Q1424.53 62.8538 1427.13 65.2034 Q1429.76 67.5124 1434.26 67.5124 Q1440.45 67.5124 1444.18 63.1374 Q1447.95 58.7219 1447.95 51.4303 L1447.95 49.7694 L1440.54 49.7694 M1455.4 46.6907 L1455.4 72.576 L1447.95 72.576 L1447.95 65.6895 Q1445.4 69.8214 1441.59 71.8063 Q1437.78 73.7508 1432.27 73.7508 Q1425.3 73.7508 1421.17 69.8619 Q1417.08 65.9325 1417.08 59.3701 Q1417.08 51.7138 1422.18 47.825 Q1427.33 43.9361 1437.5 43.9361 L1447.95 43.9361 L1447.95 43.2069 Q1447.95 38.0623 1444.55 35.2672 Q1441.18 32.4315 1435.07 32.4315 Q1431.18 32.4315 1427.49 33.3632 Q1423.81 34.295 1420.4 36.1584 L1420.4 29.2718 Q1424.49 27.692 1428.34 26.9223 Q1432.19 26.1121 1435.84 26.1121 Q1445.68 26.1121 1450.54 31.2163 Q1455.4 36.3204 1455.4 46.6907 Z\" fill=\"#000000\" fill-rule=\"evenodd\" fill-opacity=\"1\" /><path clip-path=\"url(#clip520)\" d=\"M1497.05 34.1734 Q1495.79 33.4443 1494.29 33.1202 Q1492.83 32.7556 1491.05 32.7556 Q1484.73 32.7556 1481.33 36.8875 Q1477.97 40.9789 1477.97 48.6757 L1477.97 72.576 L1470.47 72.576 L1470.47 27.2059 L1477.97 27.2059 L1477.97 34.2544 Q1480.32 30.1225 1484.08 28.1376 Q1487.85 26.1121 1493.24 26.1121 Q1494.01 26.1121 1494.94 26.2337 Q1495.87 26.3147 1497.01 26.5172 L1497.05 34.1734 Z\" fill=\"#000000\" fill-rule=\"evenodd\" fill-opacity=\"1\" /><path clip-path=\"url(#clip520)\" d=\"M1525.48 49.7694 Q1516.45 49.7694 1512.97 51.8354 Q1509.48 53.9013 1509.48 58.8839 Q1509.48 62.8538 1512.07 65.2034 Q1514.71 67.5124 1519.2 67.5124 Q1525.4 67.5124 1529.13 63.1374 Q1532.9 58.7219 1532.9 51.4303 L1532.9 49.7694 L1525.48 49.7694 M1540.35 46.6907 L1540.35 72.576 L1532.9 72.576 L1532.9 65.6895 Q1530.34 69.8214 1526.54 71.8063 Q1522.73 73.7508 1517.22 73.7508 Q1510.25 73.7508 1506.12 69.8619 Q1502.03 65.9325 1502.03 59.3701 Q1502.03 51.7138 1507.13 47.825 Q1512.28 43.9361 1522.44 43.9361 L1532.9 43.9361 L1532.9 43.2069 Q1532.9 38.0623 1529.49 35.2672 Q1526.13 32.4315 1520.01 32.4315 Q1516.13 32.4315 1512.44 33.3632 Q1508.75 34.295 1505.35 36.1584 L1505.35 29.2718 Q1509.44 27.692 1513.29 26.9223 Q1517.14 26.1121 1520.78 26.1121 Q1530.63 26.1121 1535.49 31.2163 Q1540.35 36.3204 1540.35 46.6907 Z\" fill=\"#000000\" fill-rule=\"evenodd\" fill-opacity=\"1\" /><path clip-path=\"url(#clip520)\" d=\"M1619.79 45.1919 L1619.79 72.576 L1612.33 72.576 L1612.33 45.4349 Q1612.33 38.994 1609.82 35.7938 Q1607.31 32.5936 1602.29 32.5936 Q1596.25 32.5936 1592.77 36.4419 Q1589.28 40.2903 1589.28 46.9338 L1589.28 72.576 L1581.79 72.576 L1581.79 9.54393 L1589.28 9.54393 L1589.28 34.2544 Q1591.96 30.163 1595.56 28.1376 Q1599.21 26.1121 1603.95 26.1121 Q1611.77 26.1121 1615.78 30.9732 Q1619.79 35.7938 1619.79 45.1919 Z\" fill=\"#000000\" fill-rule=\"evenodd\" fill-opacity=\"1\" /><path clip-path=\"url(#clip520)\" d=\"M1635.63 34.9026 L1687.56 34.9026 L1687.56 41.7081 L1635.63 41.7081 L1635.63 34.9026 M1635.63 51.4303 L1687.56 51.4303 L1687.56 58.3168 L1635.63 58.3168 L1635.63 51.4303 Z\" fill=\"#000000\" fill-rule=\"evenodd\" fill-opacity=\"1\" /><path clip-path=\"url(#clip520)\" d=\"M1722.72 17.4837 Q1716.4 17.4837 1713.2 23.7221 Q1710.04 29.92 1710.04 42.3968 Q1710.04 54.833 1713.2 61.0714 Q1716.4 67.2693 1722.72 67.2693 Q1729.08 67.2693 1732.24 61.0714 Q1735.44 54.833 1735.44 42.3968 Q1735.44 29.92 1732.24 23.7221 Q1729.08 17.4837 1722.72 17.4837 M1722.72 11.0023 Q1732.89 11.0023 1738.24 19.0636 Q1743.62 27.0843 1743.62 42.3968 Q1743.62 57.6687 1738.24 65.73 Q1732.89 73.7508 1722.72 73.7508 Q1712.55 73.7508 1707.17 65.73 Q1701.82 57.6687 1701.82 42.3968 Q1701.82 27.0843 1707.17 19.0636 Q1712.55 11.0023 1722.72 11.0023 Z\" fill=\"#000000\" fill-rule=\"evenodd\" fill-opacity=\"1\" /><path clip-path=\"url(#clip520)\" d=\"M1758.86 62.2867 L1767.4 62.2867 L1767.4 69.2543 L1760.76 82.2172 L1755.53 82.2172 L1758.86 69.2543 L1758.86 62.2867 Z\" fill=\"#000000\" fill-rule=\"evenodd\" fill-opacity=\"1\" /><path clip-path=\"url(#clip520)\" d=\"M1801.88 17.4837 Q1795.56 17.4837 1792.36 23.7221 Q1789.2 29.92 1789.2 42.3968 Q1789.2 54.833 1792.36 61.0714 Q1795.56 67.2693 1801.88 67.2693 Q1808.24 67.2693 1811.4 61.0714 Q1814.6 54.833 1814.6 42.3968 Q1814.6 29.92 1811.4 23.7221 Q1808.24 17.4837 1801.88 17.4837 M1801.88 11.0023 Q1812.04 11.0023 1817.39 19.0636 Q1822.78 27.0843 1822.78 42.3968 Q1822.78 57.6687 1817.39 65.73 Q1812.04 73.7508 1801.88 73.7508 Q1791.71 73.7508 1786.32 65.73 Q1780.97 57.6687 1780.97 42.3968 Q1780.97 27.0843 1786.32 19.0636 Q1791.71 11.0023 1801.88 11.0023 Z\" fill=\"#000000\" fill-rule=\"evenodd\" fill-opacity=\"1\" /><path clip-path=\"url(#clip520)\" d=\"M1838.58 65.6895 L1851.95 65.6895 L1851.95 19.5497 L1837.4 22.4663 L1837.4 15.0127 L1851.86 12.096 L1860.05 12.096 L1860.05 65.6895 L1873.42 65.6895 L1873.42 72.576 L1838.58 72.576 L1838.58 65.6895 Z\" fill=\"#000000\" fill-rule=\"evenodd\" fill-opacity=\"1\" /><polyline clip-path=\"url(#clip522)\" style=\"stroke:#800080; stroke-linecap:butt; stroke-linejoin:round; stroke-width:10; stroke-opacity:1; fill:none\" stroke-dasharray=\"40, 25\" points=\"\n",
       "  340.535,381.679 345.443,354.892 350.351,339.232 355.26,328.131 360.168,319.531 365.076,312.516 369.984,306.596 374.893,301.48 379.801,296.979 384.709,292.965 \n",
       "  389.617,289.346 394.525,286.054 399.434,283.038 404.342,280.258 409.25,277.683 414.158,275.286 419.066,273.047 423.975,270.948 428.883,268.975 433.791,267.117 \n",
       "  438.699,265.361 443.608,263.7 448.516,262.126 453.424,260.631 458.332,259.21 463.24,257.858 468.149,256.569 473.057,255.34 477.965,254.168 482.873,253.048 \n",
       "  487.782,251.977 492.69,250.954 497.598,249.975 502.506,249.039 507.414,248.142 512.323,247.285 517.231,246.463 522.139,245.677 527.047,244.925 531.955,244.205 \n",
       "  536.864,243.516 541.772,242.857 546.68,242.227 551.588,241.625 556.497,241.05 561.405,240.501 566.313,239.977 571.221,239.478 576.129,239.003 581.038,238.552 \n",
       "  585.946,238.123 590.854,237.716 595.762,237.331 600.67,236.967 605.579,236.623 610.487,236.3 615.395,235.996 620.303,235.712 625.212,235.447 630.12,235.201 \n",
       "  635.028,234.973 639.936,234.763 644.844,234.572 649.753,234.397 654.661,234.24 659.569,234.1 664.477,233.977 669.385,233.87 674.294,233.78 679.202,233.706 \n",
       "  684.11,233.648 689.018,233.606 693.927,233.58 698.835,233.57 703.743,233.575 708.651,233.596 713.559,233.632 718.468,233.683 723.376,233.749 728.284,233.831 \n",
       "  733.192,233.927 738.1,234.039 743.009,234.165 747.917,234.307 752.825,234.463 757.733,234.634 762.642,234.82 767.55,235.021 772.458,235.236 777.366,235.467 \n",
       "  782.274,235.712 787.183,235.973 792.091,236.248 796.999,236.538 801.907,236.843 806.815,237.164 811.724,237.499 816.632,237.85 821.54,238.216 826.448,238.598 \n",
       "  831.357,238.995 836.265,239.408 841.173,239.837 846.081,240.282 850.989,240.743 855.898,241.22 860.806,241.714 865.714,242.225 870.622,242.752 875.53,243.297 \n",
       "  880.439,243.859 885.347,244.439 890.255,245.036 895.163,245.652 900.072,246.286 904.98,246.94 909.888,247.612 914.796,248.304 919.704,249.017 924.613,249.749 \n",
       "  929.521,250.503 934.429,251.278 939.337,252.075 944.245,252.894 949.154,253.737 954.062,254.603 958.97,255.494 963.878,256.41 968.787,257.352 973.695,258.321 \n",
       "  978.603,259.317 983.511,260.342 988.419,261.397 993.328,262.484 998.236,263.602 1003.14,264.754 1008.05,265.94 1012.96,267.164 1017.87,268.426 1022.78,269.728 \n",
       "  1027.69,271.072 1032.59,272.461 1037.5,273.896 1042.41,275.382 1047.32,276.921 1052.23,278.516 1057.13,280.171 1062.04,281.89 1066.95,283.678 1071.86,285.541 \n",
       "  1076.77,287.485 1081.68,289.516 1086.58,291.643 1091.49,293.874 1096.4,296.222 1101.31,298.698 1106.22,301.317 1111.12,304.098 1116.03,307.063 1120.94,310.237 \n",
       "  1125.85,313.655 1130.76,317.359 1135.67,321.403 1140.57,325.86 1145.48,330.829 1150.39,336.448 1155.3,342.925 1160.21,350.587 1165.12,359.99 1170.02,372.217 \n",
       "  1174.93,389.84 1179.84,422.302 1184.75,469.671 1189.66,404.992 1194.56,382.316 1199.47,368.337 1204.38,358.263 1209.29,350.419 1214.2,344.021 1219.11,338.637 \n",
       "  1224.01,334.007 1228.92,329.956 1233.83,326.368 1238.74,323.157 1243.65,320.258 1248.55,317.624 1253.46,315.218 1258.37,313.008 1263.28,310.97 1268.19,309.084 \n",
       "  1273.1,307.335 1278,305.707 1282.91,304.189 1287.82,302.771 1292.73,301.444 1297.64,300.201 1302.55,299.034 1307.45,297.939 1312.36,296.909 1317.27,295.941 \n",
       "  1322.18,295.031 1327.09,294.174 1331.99,293.367 1336.9,292.608 1341.81,291.894 1346.72,291.222 1351.63,290.59 1356.54,289.997 1361.44,289.439 1366.35,288.916 \n",
       "  1371.26,288.426 1376.17,287.968 1381.08,287.54 1385.98,287.14 1390.89,286.769 1395.8,286.424 1400.71,286.105 1405.62,285.811 1410.53,285.54 1415.43,285.293 \n",
       "  1420.34,285.068 1425.25,284.864 1430.16,284.682 1435.07,284.52 1439.98,284.377 1444.88,284.253 1449.79,284.149 1454.7,284.062 1459.61,283.992 1464.52,283.94 \n",
       "  1469.42,283.905 1474.33,283.886 1479.24,283.883 1484.15,283.895 1489.06,283.922 1493.97,283.965 1498.87,284.022 1503.78,284.093 1508.69,284.178 1513.6,284.277 \n",
       "  1518.51,284.389 1523.41,284.514 1528.32,284.652 1533.23,284.803 1538.14,284.966 1543.05,285.141 1547.96,285.329 1552.86,285.528 1557.77,285.738 1562.68,285.961 \n",
       "  1567.59,286.194 1572.5,286.439 1577.41,286.694 1582.31,286.96 1587.22,287.237 1592.13,287.524 1597.04,287.822 1601.95,288.13 1606.85,288.448 1611.76,288.775 \n",
       "  1616.67,289.113 1621.58,289.46 1626.49,289.817 1631.4,290.183 1636.3,290.559 1641.21,290.944 1646.12,291.338 1651.03,291.741 1655.94,292.152 1660.84,292.573 \n",
       "  1665.75,293.003 1670.66,293.441 1675.57,293.888 1680.48,294.343 1685.39,294.807 1690.29,295.279 1695.2,295.759 1700.11,296.247 1705.02,296.744 1709.93,297.249 \n",
       "  1714.84,297.761 1719.74,298.282 1724.65,298.81 1729.56,299.346 1734.47,299.89 1739.38,300.442 1744.28,301.001 1749.19,301.568 1754.1,302.142 1759.01,302.724 \n",
       "  1763.92,303.313 1768.83,303.909 1773.73,304.513 1778.64,305.124 1783.55,305.742 1788.46,306.368 1793.37,307 1798.27,307.64 1803.18,308.286 1808.09,308.94 \n",
       "  1813,309.6 1817.91,310.268 1822.82,310.942 1827.72,311.623 1832.63,312.311 1837.54,313.005 1842.45,313.706 1847.36,314.414 1852.27,315.129 1857.17,315.85 \n",
       "  1862.08,316.578 1866.99,317.312 1871.9,318.053 1876.81,318.8 1881.71,319.554 1886.62,320.314 1891.53,321.08 1896.44,321.853 1901.35,322.632 1906.26,323.417 \n",
       "  1911.16,324.209 1916.07,325.007 1920.98,325.811 1925.89,326.621 1930.8,327.438 1935.7,328.261 1940.61,329.089 1945.52,329.924 1950.43,330.765 1955.34,331.612 \n",
       "  1960.25,332.465 1965.15,333.324 1970.06,334.189 1974.97,335.06 1979.88,335.937 1984.79,336.819 1989.7,337.708 1994.6,338.603 1999.51,339.503 2004.42,340.409 \n",
       "  2009.33,341.321 2014.24,342.239 2019.14,343.163 2024.05,344.092 2028.96,345.027 2033.87,345.968 2038.78,346.915 2043.69,347.867 2048.59,348.825 2053.5,349.788 \n",
       "  2058.41,350.757 2063.32,351.732 2068.23,352.713 2073.13,353.699 2078.04,354.69 2082.95,355.688 2087.86,356.69 2092.77,357.699 2097.68,358.712 2102.58,359.732 \n",
       "  2107.49,360.756 2112.4,361.787 2117.31,362.822 2122.22,363.864 2127.13,364.91 2132.03,365.962 2136.94,367.02 2141.85,368.083 2146.76,369.151 2151.67,370.224 \n",
       "  2156.57,371.303 2161.48,372.388 2166.39,373.478 2171.3,374.573 2176.21,375.673 2181.12,376.779 2186.02,377.889 2190.93,379.006 2195.84,380.127 2200.75,381.254 \n",
       "  2205.66,382.386 2210.56,383.523 2215.47,384.666 2220.38,385.813 2225.29,386.966 2230.2,388.125 2235.11,389.288 2240.01,390.456 2244.92,391.63 2249.83,392.809 \n",
       "  2254.74,393.993 2259.65,395.182 2264.56,396.376 2269.46,397.576 2274.37,398.78 2279.28,399.99 2284.19,401.205 2289.1,402.425 2294,403.65 \n",
       "  \"/>\n",
       "<polyline clip-path=\"url(#clip522)\" style=\"stroke:#00ffff; stroke-linecap:butt; stroke-linejoin:round; stroke-width:10; stroke-opacity:1; fill:none\" stroke-dasharray=\"40, 25\" points=\"\n",
       "  345.443,1392.34 350.351,1392.34 355.26,1392.34 \n",
       "  \"/>\n",
       "<polyline clip-path=\"url(#clip522)\" style=\"stroke:#00ffff; stroke-linecap:butt; stroke-linejoin:round; stroke-width:10; stroke-opacity:1; fill:none\" stroke-dasharray=\"40, 25\" points=\"\n",
       "  365.076,1392.34 369.984,1392.34 374.893,1392.34 379.801,1365.55 384.709,1349.88 389.617,1349.88 394.525,1338.76 399.434,1338.76 404.342,1330.13 409.25,1323.08 \n",
       "  414.158,1323.08 419.066,1317.12 423.975,1311.96 428.883,1307.41 433.791,1307.41 438.699,1303.34 443.608,1303.34 448.516,1307.41 453.424,1307.41 458.332,1307.41 \n",
       "  463.24,1311.96 468.149,1323.08 473.057,1338.76 \n",
       "  \"/>\n",
       "<polyline clip-path=\"url(#clip522)\" style=\"stroke:#00ffff; stroke-linecap:butt; stroke-linejoin:round; stroke-width:10; stroke-opacity:1; fill:none\" stroke-dasharray=\"40, 25\" points=\"\n",
       "  482.873,1338.76 487.782,1303.34 492.69,1282.82 497.598,1266.4 502.506,1253.82 507.414,1243.51 512.323,1232.81 517.231,1223.93 522.139,1214.72 527.047,1206.32 \n",
       "  531.955,1198.65 536.864,1191.39 541.772,1184.38 546.68,1177.99 551.588,1171.73 556.497,1165.79 561.405,1159.97 566.313,1154.34 571.221,1148.92 576.129,1143.67 \n",
       "  581.038,1138.56 585.946,1133.56 590.854,1128.79 595.762,1124.1 600.67,1119.55 605.579,1115.12 610.487,1110.8 615.395,1106.6 620.303,1102.49 625.212,1098.47 \n",
       "  630.12,1094.54 635.028,1090.68 639.936,1086.91 644.844,1083.24 649.753,1079.63 654.661,1076.09 659.569,1072.63 664.477,1069.23 669.385,1065.91 674.294,1062.64 \n",
       "  679.202,1059.44 684.11,1056.3 689.018,1053.21 693.927,1050.18 698.835,1047.19 703.743,1044.27 708.651,1041.39 713.559,1038.57 718.468,1035.79 723.376,1033.06 \n",
       "  728.284,1030.37 733.192,1027.72 738.1,1025.13 743.009,1022.56 747.917,1020.05 752.825,1017.57 757.733,1015.13 762.642,1012.73 767.55,1010.36 772.458,1008.03 \n",
       "  777.366,1005.74 782.274,1003.48 787.183,1001.26 792.091,999.065 796.999,996.907 801.907,994.778 806.815,992.682 811.724,990.616 816.632,988.581 821.54,986.573 \n",
       "  826.448,984.596 831.357,982.648 836.265,980.726 841.173,978.832 846.081,976.964 850.989,975.122 855.898,973.308 860.806,971.518 865.714,969.753 870.622,968.013 \n",
       "  875.53,966.297 880.439,964.605 885.347,962.936 890.255,961.29 895.163,959.667 900.072,958.066 904.98,956.488 909.888,954.93 914.796,953.395 919.704,951.881 \n",
       "  924.613,950.386 929.521,948.913 934.429,947.46 939.337,946.027 944.245,944.614 949.154,943.219 954.062,941.844 958.97,940.488 963.878,939.15 968.787,937.831 \n",
       "  973.695,936.53 978.603,935.247 983.511,933.981 988.419,932.733 993.328,931.502 998.236,930.289 1003.14,929.092 1008.05,927.912 1012.96,926.749 1017.87,925.601 \n",
       "  1022.78,924.47 1027.69,923.355 1032.59,922.255 1037.5,921.171 1042.41,920.103 1047.32,919.05 1052.23,918.012 1057.13,916.989 1062.04,915.98 1066.95,914.987 \n",
       "  1071.86,914.007 1076.77,913.042 1081.68,912.092 1086.58,911.155 1091.49,910.232 1096.4,909.324 1101.31,908.428 1106.22,907.547 1111.12,906.679 1116.03,905.824 \n",
       "  1120.94,904.982 1125.85,904.153 1130.76,903.337 1135.67,902.535 1140.57,901.744 1145.48,900.967 1150.39,900.201 1155.3,899.449 1160.21,898.708 1165.12,897.98 \n",
       "  1170.02,897.264 1174.93,896.56 1179.84,895.867 1184.75,895.187 1189.66,894.518 1194.56,893.861 1199.47,893.215 1204.38,892.581 1209.29,891.958 1214.2,891.347 \n",
       "  1219.11,890.747 1224.01,890.157 1228.92,889.579 1233.83,889.012 1238.74,888.456 1243.65,887.91 1248.55,887.375 1253.46,886.851 1258.37,886.337 1263.28,885.834 \n",
       "  1268.19,885.341 1273.1,884.859 1278,884.387 1282.91,883.925 1287.82,883.473 1292.73,883.031 1297.64,882.599 1302.55,882.178 1307.45,881.766 1312.36,881.364 \n",
       "  1317.27,880.972 1322.18,880.59 1327.09,880.217 1331.99,879.854 1336.9,879.5 1341.81,879.156 1346.72,878.821 1351.63,878.496 1356.54,878.18 1361.44,877.873 \n",
       "  1366.35,877.576 1371.26,877.288 1376.17,877.008 1381.08,876.738 1385.98,876.477 1390.89,876.225 1395.8,875.982 1400.71,875.748 1405.62,875.522 1410.53,875.305 \n",
       "  1415.43,875.098 1420.34,874.898 1425.25,874.708 1430.16,874.526 1435.07,874.352 1439.98,874.188 1444.88,874.031 1449.79,873.883 1454.7,873.744 1459.61,873.613 \n",
       "  1464.52,873.49 1469.42,873.375 1474.33,873.269 1479.24,873.171 1484.15,873.081 1489.06,872.999 1493.97,872.926 1498.87,872.86 1503.78,872.802 1508.69,872.753 \n",
       "  1513.6,872.711 1518.51,872.677 1523.41,872.652 1528.32,872.634 1533.23,872.623 1538.14,872.621 1543.05,872.627 1547.96,872.64 1552.86,872.661 1557.77,872.689 \n",
       "  1562.68,872.725 1567.59,872.769 1572.5,872.82 1577.41,872.879 1582.31,872.946 1587.22,873.02 1592.13,873.101 1597.04,873.19 1601.95,873.286 1606.85,873.39 \n",
       "  1611.76,873.501 1616.67,873.619 1621.58,873.744 1626.49,873.877 1631.4,874.017 1636.3,874.165 1641.21,874.319 1646.12,874.481 1651.03,874.65 1655.94,874.826 \n",
       "  1660.84,875.009 1665.75,875.199 1670.66,875.396 1675.57,875.6 1680.48,875.812 1685.39,876.03 1690.29,876.255 1695.2,876.487 1700.11,876.726 1705.02,876.972 \n",
       "  1709.93,877.225 1714.84,877.484 1719.74,877.751 1724.65,878.024 1729.56,878.304 1734.47,878.591 1739.38,878.885 1744.28,879.185 1749.19,879.492 1754.1,879.805 \n",
       "  1759.01,880.126 1763.92,880.453 1768.83,880.787 1773.73,881.127 1778.64,881.474 1783.55,881.827 1788.46,882.187 1793.37,882.553 1798.27,882.926 1803.18,883.306 \n",
       "  1808.09,883.692 1813,884.084 1817.91,884.483 1822.82,884.889 1827.72,885.3 1832.63,885.719 1837.54,886.143 1842.45,886.574 1847.36,887.011 1852.27,887.455 \n",
       "  1857.17,887.905 1862.08,888.361 1866.99,888.824 1871.9,889.292 1876.81,889.767 1881.71,890.249 1886.62,890.736 1891.53,891.23 1896.44,891.73 1901.35,892.236 \n",
       "  1906.26,892.748 1911.16,893.267 1916.07,893.791 1920.98,894.322 1925.89,894.859 1930.8,895.402 1935.7,895.951 1940.61,896.506 1945.52,897.067 1950.43,897.634 \n",
       "  1955.34,898.207 1960.25,898.786 1965.15,899.371 1970.06,899.963 1974.97,900.56 1979.88,901.163 1984.79,901.772 1989.7,902.387 1994.6,903.008 1999.51,903.635 \n",
       "  2004.42,904.268 2009.33,904.906 2014.24,905.551 2019.14,906.201 2024.05,906.858 2028.96,907.52 2033.87,908.188 2038.78,908.861 2043.69,909.541 2048.59,910.226 \n",
       "  2053.5,910.918 2058.41,911.615 2063.32,912.317 2068.23,913.026 2073.13,913.74 2078.04,914.46 2082.95,915.186 2087.86,915.917 2092.77,916.654 2097.68,917.397 \n",
       "  2102.58,918.146 2107.49,918.9 2112.4,919.66 2117.31,920.426 2122.22,921.197 2127.13,921.974 2132.03,922.756 2136.94,923.544 2141.85,924.338 2146.76,925.137 \n",
       "  2151.67,925.942 2156.57,926.752 2161.48,927.568 2166.39,928.39 2171.3,929.217 2176.21,930.05 2181.12,930.888 2186.02,931.732 2190.93,932.581 2195.84,933.436 \n",
       "  2200.75,934.296 2205.66,935.162 2210.56,936.033 2215.47,936.91 2220.38,937.792 2225.29,938.68 2230.2,939.573 2235.11,940.471 2240.01,941.375 2244.92,942.285 \n",
       "  2249.83,943.199 2254.74,944.119 2259.65,945.045 2264.56,945.976 2269.46,946.913 2274.37,947.855 2279.28,948.802 2284.19,949.754 2289.1,950.712 2294,951.675 \n",
       "  \n",
       "  \"/>\n",
       "<polyline clip-path=\"url(#clip522)\" style=\"stroke:#3da44d; stroke-linecap:butt; stroke-linejoin:round; stroke-width:4; stroke-opacity:1; fill:none\" points=\"\n",
       "  -1799,862.335 4428.64,862.335 \n",
       "  \"/>\n",
       "<polyline clip-path=\"url(#clip522)\" style=\"stroke:#c271d2; stroke-linecap:butt; stroke-linejoin:round; stroke-width:4; stroke-opacity:1; fill:none\" points=\"\n",
       "  -1799,223.601 4428.64,223.601 \n",
       "  \"/>\n",
       "<path clip-path=\"url(#clip520)\" d=\"\n",
       "M1935.73 322.316 L2283.56 322.316 L2283.56 166.796 L1935.73 166.796  Z\n",
       "  \" fill=\"#ffffff\" fill-rule=\"evenodd\" fill-opacity=\"1\"/>\n",
       "<polyline clip-path=\"url(#clip520)\" style=\"stroke:#000000; stroke-linecap:butt; stroke-linejoin:round; stroke-width:4; stroke-opacity:1; fill:none\" points=\"\n",
       "  1935.73,322.316 2283.56,322.316 2283.56,166.796 1935.73,166.796 1935.73,322.316 \n",
       "  \"/>\n",
       "<polyline clip-path=\"url(#clip520)\" style=\"stroke:#800080; stroke-linecap:butt; stroke-linejoin:round; stroke-width:4; stroke-opacity:1; fill:none\" stroke-dasharray=\"16, 10\" points=\"\n",
       "  1958.8,218.636 2097.19,218.636 \n",
       "  \"/>\n",
       "<path clip-path=\"url(#clip520)\" d=\"M2120.25 201.356 L2142.11 201.356 L2142.11 205.291 L2124.93 205.291 L2124.93 215.522 L2141.39 215.522 L2141.39 219.457 L2124.93 219.457 L2124.93 231.981 L2142.52 231.981 L2142.52 235.916 L2120.25 235.916 L2120.25 201.356 Z\" fill=\"#000000\" fill-rule=\"evenodd\" fill-opacity=\"1\" /><path clip-path=\"url(#clip520)\" d=\"M2149.58 225.684 L2149.58 209.99 L2153.84 209.99 L2153.84 225.522 Q2153.84 229.203 2155.28 231.055 Q2156.71 232.883 2159.58 232.883 Q2163.03 232.883 2165.02 230.684 Q2167.04 228.485 2167.04 224.689 L2167.04 209.99 L2171.3 209.99 L2171.3 235.916 L2167.04 235.916 L2167.04 231.934 Q2165.49 234.295 2163.42 235.453 Q2161.39 236.587 2158.68 236.587 Q2154.21 236.587 2151.9 233.809 Q2149.58 231.031 2149.58 225.684 M2160.3 209.365 L2160.3 209.365 Z\" fill=\"#000000\" fill-rule=\"evenodd\" fill-opacity=\"1\" /><path clip-path=\"url(#clip520)\" d=\"M2180.07 199.897 L2184.33 199.897 L2184.33 235.916 L2180.07 235.916 L2180.07 199.897 Z\" fill=\"#000000\" fill-rule=\"evenodd\" fill-opacity=\"1\" /><path clip-path=\"url(#clip520)\" d=\"M2215.42 221.888 L2215.42 223.971 L2195.83 223.971 Q2196.11 228.369 2198.47 230.684 Q2200.86 232.976 2205.09 232.976 Q2207.55 232.976 2209.84 232.374 Q2212.15 231.772 2214.42 230.569 L2214.42 234.596 Q2212.13 235.568 2209.72 236.078 Q2207.31 236.587 2204.84 236.587 Q2198.63 236.587 2195 232.976 Q2191.39 229.365 2191.39 223.207 Q2191.39 216.842 2194.81 213.115 Q2198.26 209.365 2204.1 209.365 Q2209.33 209.365 2212.36 212.745 Q2215.42 216.101 2215.42 221.888 M2211.16 220.638 Q2211.11 217.143 2209.19 215.059 Q2207.29 212.976 2204.14 212.976 Q2200.58 212.976 2198.42 214.99 Q2196.3 217.004 2195.97 220.661 L2211.16 220.638 Z\" fill=\"#000000\" fill-rule=\"evenodd\" fill-opacity=\"1\" /><path clip-path=\"url(#clip520)\" d=\"M2237.43 213.971 Q2236.71 213.555 2235.86 213.37 Q2235.02 213.161 2234 213.161 Q2230.39 213.161 2228.45 215.522 Q2226.53 217.86 2226.53 222.258 L2226.53 235.916 L2222.24 235.916 L2222.24 209.99 L2226.53 209.99 L2226.53 214.018 Q2227.87 211.657 2230.02 210.522 Q2232.17 209.365 2235.25 209.365 Q2235.69 209.365 2236.23 209.434 Q2236.76 209.481 2237.41 209.596 L2237.43 213.971 Z\" fill=\"#000000\" fill-rule=\"evenodd\" fill-opacity=\"1\" /><polyline clip-path=\"url(#clip520)\" style=\"stroke:#00ffff; stroke-linecap:butt; stroke-linejoin:round; stroke-width:4; stroke-opacity:1; fill:none\" stroke-dasharray=\"16, 10\" points=\"\n",
       "  1958.8,270.476 2097.19,270.476 \n",
       "  \"/>\n",
       "<path clip-path=\"url(#clip520)\" d=\"M2136.64 271.552 Q2138.15 272.061 2139.56 273.728 Q2140.99 275.395 2142.43 278.311 L2147.18 287.756 L2142.15 287.756 L2137.73 278.89 Q2136.02 275.418 2134.4 274.284 Q2132.8 273.149 2130.02 273.149 L2124.93 273.149 L2124.93 287.756 L2120.25 287.756 L2120.25 253.196 L2130.81 253.196 Q2136.74 253.196 2139.65 255.673 Q2142.57 258.149 2142.57 263.149 Q2142.57 266.413 2141.04 268.566 Q2139.54 270.719 2136.64 271.552 M2124.93 257.038 L2124.93 269.307 L2130.81 269.307 Q2134.19 269.307 2135.9 267.756 Q2137.64 266.182 2137.64 263.149 Q2137.64 260.117 2135.9 258.589 Q2134.19 257.038 2130.81 257.038 L2124.93 257.038 Z\" fill=\"#000000\" fill-rule=\"evenodd\" fill-opacity=\"1\" /><path clip-path=\"url(#clip520)\" d=\"M2153.19 253.196 L2157.87 253.196 L2157.87 267.802 L2173.38 253.196 L2179.4 253.196 L2162.24 269.307 L2180.62 287.756 L2174.47 287.756 L2157.87 271.112 L2157.87 287.756 L2153.19 287.756 L2153.19 253.196 Z\" fill=\"#000000\" fill-rule=\"evenodd\" fill-opacity=\"1\" /><path clip-path=\"url(#clip520)\" d=\"M2197.55 257.27 L2185.74 275.719 L2197.55 275.719 L2197.55 257.27 M2196.32 253.196 L2202.2 253.196 L2202.2 275.719 L2207.13 275.719 L2207.13 279.608 L2202.2 279.608 L2202.2 287.756 L2197.55 287.756 L2197.55 279.608 L2181.94 279.608 L2181.94 275.094 L2196.32 253.196 Z\" fill=\"#000000\" fill-rule=\"evenodd\" fill-opacity=\"1\" /></svg>\n"
      ]
     },
     "execution_count": 224,
     "metadata": {},
     "output_type": "execute_result"
    }
   ],
   "source": [
    "N=400\n",
    "y1 = [ye(t2[n]) for n=1:N]\n",
    "plot(title=\"Error absoluto para h=0,01\",xlabel=\"t\",ylabel=\"e(t)\",yscale=:log10,ylim=(1e-16,0.04))\n",
    "plot!(te2,abs.(we2[1,:]-y1),label=\"Euler\",linestyle=:dash,linecolor=:purple,linewidth=2.5)\n",
    "plot!(t2,abs.(w2[1,:]-y1),label=\"RK4\",linestyle=:dash,linecolor=:cyan,linewidth=2.5)\n",
    "hline!([2e-10],label=\"\")\n",
    "hline!([3e-3],label=\"\")"
   ]
  },
  {
   "cell_type": "markdown",
   "metadata": {},
   "source": [
    "***e)***"
   ]
  },
  {
   "cell_type": "code",
   "execution_count": 238,
   "metadata": {},
   "outputs": [
    {
     "data": {
      "text/plain": [
       "1-element Vector{Vector{Float64}}:\n",
       " [0.0, -0.10256410256410256, -0.20512820512820512, -0.3076923076923077, -0.41025641025641024, -0.5128205128205128, -0.6153846153846153, -0.7179487179487178, -0.8205128205128204, -0.9230769230769229  …  -3.0769230769230784, -3.179487179487181, -3.2820512820512837, -3.3846153846153864, -3.487179487179489, -3.5897435897435916, -3.6923076923076943, -3.794871794871797, -3.8974358974358996, -4.000000000000002]"
      ]
     },
     "execution_count": 238,
     "metadata": {},
     "output_type": "execute_result"
    }
   ],
   "source": [
    "y=y0\n",
    "p=0\n",
    "ft=f(t1,y,p)"
   ]
  },
  {
   "cell_type": "code",
   "execution_count": 242,
   "metadata": {},
   "outputs": [
    {
     "data": {
      "text/plain": [
       "40"
      ]
     },
     "execution_count": 242,
     "metadata": {},
     "output_type": "execute_result"
    }
   ],
   "source": [
    "length(ft[1])"
   ]
  },
  {
   "cell_type": "code",
   "execution_count": 249,
   "metadata": {},
   "outputs": [
    {
     "data": {
      "text/plain": [
       "0.002475"
      ]
     },
     "execution_count": 249,
     "metadata": {},
     "output_type": "execute_result"
    }
   ],
   "source": [
    "(0.1-0.001)/40"
   ]
  },
  {
   "cell_type": "code",
   "execution_count": 254,
   "metadata": {},
   "outputs": [
    {
     "data": {
      "text/plain": [
       "4000-element Vector{Int64}:\n",
       "    1\n",
       "    2\n",
       "    3\n",
       "    4\n",
       "    5\n",
       "    6\n",
       "    7\n",
       "    8\n",
       "    9\n",
       "   10\n",
       "   11\n",
       "   12\n",
       "   13\n",
       "    ⋮\n",
       " 3989\n",
       " 3990\n",
       " 3991\n",
       " 3992\n",
       " 3993\n",
       " 3994\n",
       " 3995\n",
       " 3996\n",
       " 3997\n",
       " 3998\n",
       " 3999\n",
       " 4000"
      ]
     },
     "execution_count": 254,
     "metadata": {},
     "output_type": "execute_result"
    }
   ],
   "source": [
    "n=[i for i=1:4000]"
   ]
  },
  {
   "cell_type": "code",
   "execution_count": 263,
   "metadata": {},
   "outputs": [
    {
     "ename": "LoadError",
     "evalue": "MethodError: no method matching zeros(::Vector{Int64}, ::Int64)\n\u001b[0mClosest candidates are:\n\u001b[0m  zeros(\u001b[91m::Type{T}\u001b[39m, ::Union{Integer, AbstractUnitRange}...) where T at /opt/julias/julia-1.7/share/julia/base/array.jl:521\n\u001b[0m  zeros(\u001b[91m::Union{Integer, AbstractUnitRange}...\u001b[39m) at /opt/julias/julia-1.7/share/julia/base/array.jl:520",
     "output_type": "error",
     "traceback": [
      "MethodError: no method matching zeros(::Vector{Int64}, ::Int64)\n\u001b[0mClosest candidates are:\n\u001b[0m  zeros(\u001b[91m::Type{T}\u001b[39m, ::Union{Integer, AbstractUnitRange}...) where T at /opt/julias/julia-1.7/share/julia/base/array.jl:521\n\u001b[0m  zeros(\u001b[91m::Union{Integer, AbstractUnitRange}...\u001b[39m) at /opt/julias/julia-1.7/share/julia/base/array.jl:520",
      "",
      "Stacktrace:",
      " [1] top-level scope",
      "   @ In[263]:5",
      " [2] eval",
      "   @ ./boot.jl:373 [inlined]",
      " [3] include_string(mapexpr::typeof(REPL.softscope), mod::Module, code::String, filename::String)",
      "   @ Base ./loading.jl:1196"
     ]
    }
   ],
   "source": [
    "y0=[2.0]\n",
    "a=0\n",
    "b=4\n",
    "p=0\n",
    "t1=zeros(n,N)\n",
    "w1=zeros(n,N)\n",
    "for i=1:n\n",
    "    N=n[i]\n",
    "t1[i,:],w1[i,:]=iteracion_ODES_multidumencional(RK4,f,y0,(a,b),N,p)\n",
    "end"
   ]
  },
  {
   "cell_type": "code",
   "execution_count": null,
   "metadata": {},
   "outputs": [],
   "source": [
    "function h(Metodo,f,y0,(a,b),N,p)\n",
    "\n",
    "    return t[:],w[:,:]\n",
    "end"
   ]
  },
  {
   "cell_type": "code",
   "execution_count": 248,
   "metadata": {},
   "outputs": [
    {
     "data": {
      "image/svg+xml": [
       "<?xml version=\"1.0\" encoding=\"utf-8\"?>\n",
       "<svg xmlns=\"http://www.w3.org/2000/svg\" xmlns:xlink=\"http://www.w3.org/1999/xlink\" width=\"600\" height=\"400\" viewBox=\"0 0 2400 1600\">\n",
       "<defs>\n",
       "  <clipPath id=\"clip740\">\n",
       "    <rect x=\"0\" y=\"0\" width=\"2400\" height=\"1600\"/>\n",
       "  </clipPath>\n",
       "</defs>\n",
       "<path clip-path=\"url(#clip740)\" d=\"\n",
       "M0 1600 L2400 1600 L2400 0 L0 0  Z\n",
       "  \" fill=\"#ffffff\" fill-rule=\"evenodd\" fill-opacity=\"1\"/>\n",
       "<defs>\n",
       "  <clipPath id=\"clip741\">\n",
       "    <rect x=\"480\" y=\"0\" width=\"1681\" height=\"1600\"/>\n",
       "  </clipPath>\n",
       "</defs>\n",
       "<path clip-path=\"url(#clip740)\" d=\"\n",
       "M275.898 1423.18 L2352.76 1423.18 L2352.76 123.472 L275.898 123.472  Z\n",
       "  \" fill=\"#ffffff\" fill-rule=\"evenodd\" fill-opacity=\"1\"/>\n",
       "<defs>\n",
       "  <clipPath id=\"clip742\">\n",
       "    <rect x=\"275\" y=\"123\" width=\"2078\" height=\"1301\"/>\n",
       "  </clipPath>\n",
       "</defs>\n",
       "<polyline clip-path=\"url(#clip742)\" style=\"stroke:#000000; stroke-linecap:butt; stroke-linejoin:round; stroke-width:2; stroke-opacity:0.1; fill:none\" points=\"\n",
       "  334.677,1423.18 334.677,123.472 \n",
       "  \"/>\n",
       "<polyline clip-path=\"url(#clip742)\" style=\"stroke:#000000; stroke-linecap:butt; stroke-linejoin:round; stroke-width:2; stroke-opacity:0.1; fill:none\" points=\"\n",
       "  824.502,1423.18 824.502,123.472 \n",
       "  \"/>\n",
       "<polyline clip-path=\"url(#clip742)\" style=\"stroke:#000000; stroke-linecap:butt; stroke-linejoin:round; stroke-width:2; stroke-opacity:0.1; fill:none\" points=\"\n",
       "  1314.33,1423.18 1314.33,123.472 \n",
       "  \"/>\n",
       "<polyline clip-path=\"url(#clip742)\" style=\"stroke:#000000; stroke-linecap:butt; stroke-linejoin:round; stroke-width:2; stroke-opacity:0.1; fill:none\" points=\"\n",
       "  1804.15,1423.18 1804.15,123.472 \n",
       "  \"/>\n",
       "<polyline clip-path=\"url(#clip742)\" style=\"stroke:#000000; stroke-linecap:butt; stroke-linejoin:round; stroke-width:2; stroke-opacity:0.1; fill:none\" points=\"\n",
       "  2293.98,1423.18 2293.98,123.472 \n",
       "  \"/>\n",
       "<polyline clip-path=\"url(#clip740)\" style=\"stroke:#000000; stroke-linecap:butt; stroke-linejoin:round; stroke-width:4; stroke-opacity:1; fill:none\" points=\"\n",
       "  275.898,1423.18 2352.76,1423.18 \n",
       "  \"/>\n",
       "<path clip-path=\"url(#clip740)\" d=\"M296.98 1454.1 Q293.369 1454.1 291.54 1457.66 Q289.735 1461.2 289.735 1468.33 Q289.735 1475.44 291.54 1479.01 Q293.369 1482.55 296.98 1482.55 Q300.614 1482.55 302.42 1479.01 Q304.248 1475.44 304.248 1468.33 Q304.248 1461.2 302.42 1457.66 Q300.614 1454.1 296.98 1454.1 M296.98 1450.39 Q302.79 1450.39 305.846 1455 Q308.924 1459.58 308.924 1468.33 Q308.924 1477.06 305.846 1481.67 Q302.79 1486.25 296.98 1486.25 Q291.17 1486.25 288.091 1481.67 Q285.036 1477.06 285.036 1468.33 Q285.036 1459.58 288.091 1455 Q291.17 1450.39 296.98 1450.39 Z\" fill=\"#000000\" fill-rule=\"evenodd\" fill-opacity=\"1\" /><path clip-path=\"url(#clip740)\" d=\"M317.142 1479.7 L322.026 1479.7 L322.026 1485.58 L317.142 1485.58 L317.142 1479.7 Z\" fill=\"#000000\" fill-rule=\"evenodd\" fill-opacity=\"1\" /><path clip-path=\"url(#clip740)\" d=\"M342.211 1454.1 Q338.6 1454.1 336.771 1457.66 Q334.966 1461.2 334.966 1468.33 Q334.966 1475.44 336.771 1479.01 Q338.6 1482.55 342.211 1482.55 Q345.845 1482.55 347.651 1479.01 Q349.48 1475.44 349.48 1468.33 Q349.48 1461.2 347.651 1457.66 Q345.845 1454.1 342.211 1454.1 M342.211 1450.39 Q348.021 1450.39 351.077 1455 Q354.156 1459.58 354.156 1468.33 Q354.156 1477.06 351.077 1481.67 Q348.021 1486.25 342.211 1486.25 Q336.401 1486.25 333.322 1481.67 Q330.267 1477.06 330.267 1468.33 Q330.267 1459.58 333.322 1455 Q336.401 1450.39 342.211 1450.39 Z\" fill=\"#000000\" fill-rule=\"evenodd\" fill-opacity=\"1\" /><path clip-path=\"url(#clip740)\" d=\"M372.373 1454.1 Q368.762 1454.1 366.933 1457.66 Q365.128 1461.2 365.128 1468.33 Q365.128 1475.44 366.933 1479.01 Q368.762 1482.55 372.373 1482.55 Q376.007 1482.55 377.813 1479.01 Q379.642 1475.44 379.642 1468.33 Q379.642 1461.2 377.813 1457.66 Q376.007 1454.1 372.373 1454.1 M372.373 1450.39 Q378.183 1450.39 381.239 1455 Q384.317 1459.58 384.317 1468.33 Q384.317 1477.06 381.239 1481.67 Q378.183 1486.25 372.373 1486.25 Q366.563 1486.25 363.484 1481.67 Q360.429 1477.06 360.429 1468.33 Q360.429 1459.58 363.484 1455 Q366.563 1450.39 372.373 1450.39 Z\" fill=\"#000000\" fill-rule=\"evenodd\" fill-opacity=\"1\" /><path clip-path=\"url(#clip740)\" d=\"M787.303 1454.1 Q783.692 1454.1 781.863 1457.66 Q780.057 1461.2 780.057 1468.33 Q780.057 1475.44 781.863 1479.01 Q783.692 1482.55 787.303 1482.55 Q790.937 1482.55 792.743 1479.01 Q794.571 1475.44 794.571 1468.33 Q794.571 1461.2 792.743 1457.66 Q790.937 1454.1 787.303 1454.1 M787.303 1450.39 Q793.113 1450.39 796.168 1455 Q799.247 1459.58 799.247 1468.33 Q799.247 1477.06 796.168 1481.67 Q793.113 1486.25 787.303 1486.25 Q781.493 1486.25 778.414 1481.67 Q775.358 1477.06 775.358 1468.33 Q775.358 1459.58 778.414 1455 Q781.493 1450.39 787.303 1450.39 Z\" fill=\"#000000\" fill-rule=\"evenodd\" fill-opacity=\"1\" /><path clip-path=\"url(#clip740)\" d=\"M807.465 1479.7 L812.349 1479.7 L812.349 1485.58 L807.465 1485.58 L807.465 1479.7 Z\" fill=\"#000000\" fill-rule=\"evenodd\" fill-opacity=\"1\" /><path clip-path=\"url(#clip740)\" d=\"M826.562 1481.64 L842.881 1481.64 L842.881 1485.58 L820.937 1485.58 L820.937 1481.64 Q823.599 1478.89 828.182 1474.26 Q832.789 1469.61 833.969 1468.27 Q836.215 1465.74 837.094 1464.01 Q837.997 1462.25 837.997 1460.56 Q837.997 1457.8 836.052 1456.07 Q834.131 1454.33 831.029 1454.33 Q828.83 1454.33 826.377 1455.09 Q823.946 1455.86 821.168 1457.41 L821.168 1452.69 Q823.992 1451.55 826.446 1450.97 Q828.9 1450.39 830.937 1450.39 Q836.307 1450.39 839.502 1453.08 Q842.696 1455.77 842.696 1460.26 Q842.696 1462.39 841.886 1464.31 Q841.099 1466.2 838.992 1468.8 Q838.414 1469.47 835.312 1472.69 Q832.21 1475.88 826.562 1481.64 Z\" fill=\"#000000\" fill-rule=\"evenodd\" fill-opacity=\"1\" /><path clip-path=\"url(#clip740)\" d=\"M852.742 1451.02 L871.099 1451.02 L871.099 1454.96 L857.025 1454.96 L857.025 1463.43 Q858.043 1463.08 859.062 1462.92 Q860.08 1462.73 861.099 1462.73 Q866.886 1462.73 870.265 1465.9 Q873.645 1469.08 873.645 1474.49 Q873.645 1480.07 870.173 1483.17 Q866.7 1486.25 860.381 1486.25 Q858.205 1486.25 855.937 1485.88 Q853.691 1485.51 851.284 1484.77 L851.284 1480.07 Q853.367 1481.2 855.589 1481.76 Q857.812 1482.32 860.288 1482.32 Q864.293 1482.32 866.631 1480.21 Q868.969 1478.1 868.969 1474.49 Q868.969 1470.88 866.631 1468.77 Q864.293 1466.67 860.288 1466.67 Q858.413 1466.67 856.538 1467.08 Q854.687 1467.5 852.742 1468.38 L852.742 1451.02 Z\" fill=\"#000000\" fill-rule=\"evenodd\" fill-opacity=\"1\" /><path clip-path=\"url(#clip740)\" d=\"M1276.63 1454.1 Q1273.02 1454.1 1271.19 1457.66 Q1269.38 1461.2 1269.38 1468.33 Q1269.38 1475.44 1271.19 1479.01 Q1273.02 1482.55 1276.63 1482.55 Q1280.26 1482.55 1282.07 1479.01 Q1283.9 1475.44 1283.9 1468.33 Q1283.9 1461.2 1282.07 1457.66 Q1280.26 1454.1 1276.63 1454.1 M1276.63 1450.39 Q1282.44 1450.39 1285.5 1455 Q1288.57 1459.58 1288.57 1468.33 Q1288.57 1477.06 1285.5 1481.67 Q1282.44 1486.25 1276.63 1486.25 Q1270.82 1486.25 1267.74 1481.67 Q1264.69 1477.06 1264.69 1468.33 Q1264.69 1459.58 1267.74 1455 Q1270.82 1450.39 1276.63 1450.39 Z\" fill=\"#000000\" fill-rule=\"evenodd\" fill-opacity=\"1\" /><path clip-path=\"url(#clip740)\" d=\"M1296.79 1479.7 L1301.68 1479.7 L1301.68 1485.58 L1296.79 1485.58 L1296.79 1479.7 Z\" fill=\"#000000\" fill-rule=\"evenodd\" fill-opacity=\"1\" /><path clip-path=\"url(#clip740)\" d=\"M1311.91 1451.02 L1330.26 1451.02 L1330.26 1454.96 L1316.19 1454.96 L1316.19 1463.43 Q1317.21 1463.08 1318.23 1462.92 Q1319.25 1462.73 1320.26 1462.73 Q1326.05 1462.73 1329.43 1465.9 Q1332.81 1469.08 1332.81 1474.49 Q1332.81 1480.07 1329.34 1483.17 Q1325.87 1486.25 1319.55 1486.25 Q1317.37 1486.25 1315.1 1485.88 Q1312.86 1485.51 1310.45 1484.77 L1310.45 1480.07 Q1312.53 1481.2 1314.75 1481.76 Q1316.98 1482.32 1319.45 1482.32 Q1323.46 1482.32 1325.8 1480.21 Q1328.13 1478.1 1328.13 1474.49 Q1328.13 1470.88 1325.8 1468.77 Q1323.46 1466.67 1319.45 1466.67 Q1317.58 1466.67 1315.7 1467.08 Q1313.85 1467.5 1311.91 1468.38 L1311.91 1451.02 Z\" fill=\"#000000\" fill-rule=\"evenodd\" fill-opacity=\"1\" /><path clip-path=\"url(#clip740)\" d=\"M1352.02 1454.1 Q1348.41 1454.1 1346.58 1457.66 Q1344.78 1461.2 1344.78 1468.33 Q1344.78 1475.44 1346.58 1479.01 Q1348.41 1482.55 1352.02 1482.55 Q1355.66 1482.55 1357.46 1479.01 Q1359.29 1475.44 1359.29 1468.33 Q1359.29 1461.2 1357.46 1457.66 Q1355.66 1454.1 1352.02 1454.1 M1352.02 1450.39 Q1357.83 1450.39 1360.89 1455 Q1363.97 1459.58 1363.97 1468.33 Q1363.97 1477.06 1360.89 1481.67 Q1357.83 1486.25 1352.02 1486.25 Q1346.21 1486.25 1343.13 1481.67 Q1340.08 1477.06 1340.08 1468.33 Q1340.08 1459.58 1343.13 1455 Q1346.21 1450.39 1352.02 1450.39 Z\" fill=\"#000000\" fill-rule=\"evenodd\" fill-opacity=\"1\" /><path clip-path=\"url(#clip740)\" d=\"M1766.95 1454.1 Q1763.34 1454.1 1761.51 1457.66 Q1759.71 1461.2 1759.71 1468.33 Q1759.71 1475.44 1761.51 1479.01 Q1763.34 1482.55 1766.95 1482.55 Q1770.59 1482.55 1772.39 1479.01 Q1774.22 1475.44 1774.22 1468.33 Q1774.22 1461.2 1772.39 1457.66 Q1770.59 1454.1 1766.95 1454.1 M1766.95 1450.39 Q1772.76 1450.39 1775.82 1455 Q1778.9 1459.58 1778.9 1468.33 Q1778.9 1477.06 1775.82 1481.67 Q1772.76 1486.25 1766.95 1486.25 Q1761.14 1486.25 1758.06 1481.67 Q1755.01 1477.06 1755.01 1468.33 Q1755.01 1459.58 1758.06 1455 Q1761.14 1450.39 1766.95 1450.39 Z\" fill=\"#000000\" fill-rule=\"evenodd\" fill-opacity=\"1\" /><path clip-path=\"url(#clip740)\" d=\"M1787.11 1479.7 L1792 1479.7 L1792 1485.58 L1787.11 1485.58 L1787.11 1479.7 Z\" fill=\"#000000\" fill-rule=\"evenodd\" fill-opacity=\"1\" /><path clip-path=\"url(#clip740)\" d=\"M1801 1451.02 L1823.23 1451.02 L1823.23 1453.01 L1810.68 1485.58 L1805.8 1485.58 L1817.6 1454.96 L1801 1454.96 L1801 1451.02 Z\" fill=\"#000000\" fill-rule=\"evenodd\" fill-opacity=\"1\" /><path clip-path=\"url(#clip740)\" d=\"M1832.39 1451.02 L1850.75 1451.02 L1850.75 1454.96 L1836.67 1454.96 L1836.67 1463.43 Q1837.69 1463.08 1838.71 1462.92 Q1839.73 1462.73 1840.75 1462.73 Q1846.54 1462.73 1849.92 1465.9 Q1853.3 1469.08 1853.3 1474.49 Q1853.3 1480.07 1849.82 1483.17 Q1846.35 1486.25 1840.03 1486.25 Q1837.86 1486.25 1835.59 1485.88 Q1833.34 1485.51 1830.93 1484.77 L1830.93 1480.07 Q1833.02 1481.2 1835.24 1481.76 Q1837.46 1482.32 1839.94 1482.32 Q1843.94 1482.32 1846.28 1480.21 Q1848.62 1478.1 1848.62 1474.49 Q1848.62 1470.88 1846.28 1468.77 Q1843.94 1466.67 1839.94 1466.67 Q1838.06 1466.67 1836.19 1467.08 Q1834.34 1467.5 1832.39 1468.38 L1832.39 1451.02 Z\" fill=\"#000000\" fill-rule=\"evenodd\" fill-opacity=\"1\" /><path clip-path=\"url(#clip740)\" d=\"M2246.05 1481.64 L2253.69 1481.64 L2253.69 1455.28 L2245.38 1456.95 L2245.38 1452.69 L2253.64 1451.02 L2258.32 1451.02 L2258.32 1481.64 L2265.96 1481.64 L2265.96 1485.58 L2246.05 1485.58 L2246.05 1481.64 Z\" fill=\"#000000\" fill-rule=\"evenodd\" fill-opacity=\"1\" /><path clip-path=\"url(#clip740)\" d=\"M2275.4 1479.7 L2280.28 1479.7 L2280.28 1485.58 L2275.4 1485.58 L2275.4 1479.7 Z\" fill=\"#000000\" fill-rule=\"evenodd\" fill-opacity=\"1\" /><path clip-path=\"url(#clip740)\" d=\"M2300.47 1454.1 Q2296.86 1454.1 2295.03 1457.66 Q2293.22 1461.2 2293.22 1468.33 Q2293.22 1475.44 2295.03 1479.01 Q2296.86 1482.55 2300.47 1482.55 Q2304.1 1482.55 2305.91 1479.01 Q2307.74 1475.44 2307.74 1468.33 Q2307.74 1461.2 2305.91 1457.66 Q2304.1 1454.1 2300.47 1454.1 M2300.47 1450.39 Q2306.28 1450.39 2309.34 1455 Q2312.41 1459.58 2312.41 1468.33 Q2312.41 1477.06 2309.34 1481.67 Q2306.28 1486.25 2300.47 1486.25 Q2294.66 1486.25 2291.58 1481.67 Q2288.53 1477.06 2288.53 1468.33 Q2288.53 1459.58 2291.58 1455 Q2294.66 1450.39 2300.47 1450.39 Z\" fill=\"#000000\" fill-rule=\"evenodd\" fill-opacity=\"1\" /><path clip-path=\"url(#clip740)\" d=\"M2330.63 1454.1 Q2327.02 1454.1 2325.19 1457.66 Q2323.39 1461.2 2323.39 1468.33 Q2323.39 1475.44 2325.19 1479.01 Q2327.02 1482.55 2330.63 1482.55 Q2334.27 1482.55 2336.07 1479.01 Q2337.9 1475.44 2337.9 1468.33 Q2337.9 1461.2 2336.07 1457.66 Q2334.27 1454.1 2330.63 1454.1 M2330.63 1450.39 Q2336.44 1450.39 2339.5 1455 Q2342.58 1459.58 2342.58 1468.33 Q2342.58 1477.06 2339.5 1481.67 Q2336.44 1486.25 2330.63 1486.25 Q2324.82 1486.25 2321.74 1481.67 Q2318.69 1477.06 2318.69 1468.33 Q2318.69 1459.58 2321.74 1455 Q2324.82 1450.39 2330.63 1450.39 Z\" fill=\"#000000\" fill-rule=\"evenodd\" fill-opacity=\"1\" /><path clip-path=\"url(#clip740)\" d=\"M1313.39 1522.27 L1313.39 1532.4 L1325.45 1532.4 L1325.45 1536.95 L1313.39 1536.95 L1313.39 1556.3 Q1313.39 1560.66 1314.57 1561.9 Q1315.77 1563.14 1319.44 1563.14 L1325.45 1563.14 L1325.45 1568.04 L1319.44 1568.04 Q1312.66 1568.04 1310.08 1565.53 Q1307.5 1562.98 1307.5 1556.3 L1307.5 1536.95 L1303.2 1536.95 L1303.2 1532.4 L1307.5 1532.4 L1307.5 1522.27 L1313.39 1522.27 Z\" fill=\"#000000\" fill-rule=\"evenodd\" fill-opacity=\"1\" /><polyline clip-path=\"url(#clip742)\" style=\"stroke:#000000; stroke-linecap:butt; stroke-linejoin:round; stroke-width:2; stroke-opacity:0.1; fill:none\" points=\"\n",
       "  275.898,123.472 2352.76,123.472 \n",
       "  \"/>\n",
       "<polyline clip-path=\"url(#clip740)\" style=\"stroke:#000000; stroke-linecap:butt; stroke-linejoin:round; stroke-width:4; stroke-opacity:1; fill:none\" points=\"\n",
       "  275.898,1423.18 275.898,123.472 \n",
       "  \"/>\n",
       "<polyline clip-path=\"url(#clip740)\" style=\"stroke:#000000; stroke-linecap:butt; stroke-linejoin:round; stroke-width:4; stroke-opacity:1; fill:none\" points=\"\n",
       "  275.898,123.472 294.795,123.472 \n",
       "  \"/>\n",
       "<path clip-path=\"url(#clip740)\" d=\"M-nan -nan L-nan -nan L-nan -nan L-nan -nan L-nan -nan L-nan -nan L-nan -nan L-nan -nan L-nan -nan L-nan -nan L-nan -nan L-nan -nan Z\" fill=\"#000000\" fill-rule=\"evenodd\" fill-opacity=\"1\" /><path clip-path=\"url(#clip740)\" d=\"M-nan -nan Q-nan -nan -nan -nan Q-nan -nan -nan -nan Q-nan -nan -nan -nan Q-nan -nan -nan -nan Q-nan -nan -nan -nan Q-nan -nan -nan -nan Q-nan -nan -nan -nan Q-nan -nan -nan -nan M-nan -nan Q-nan -nan -nan -nan Q-nan -nan -nan -nan Q-nan -nan -nan -nan Q-nan -nan -nan -nan Q-nan -nan -nan -nan Q-nan -nan -nan -nan Q-nan -nan -nan -nan Q-nan -nan -nan -nan Z\" fill=\"#000000\" fill-rule=\"evenodd\" fill-opacity=\"1\" /><path clip-path=\"url(#clip740)\" d=\"M-nan -nan L-nan -nan L-nan -nan L-nan -nan L-nan -nan L-nan -nan L-nan -nan L-nan -nan L-nan -nan L-nan -nan L-nan -nan Z\" fill=\"#000000\" fill-rule=\"evenodd\" fill-opacity=\"1\" /><path clip-path=\"url(#clip740)\" d=\"M-nan -nan Q-nan -nan -nan -nan Q-nan -nan -nan -nan Q-nan -nan -nan -nan Q-nan -nan -nan -nan Q-nan -nan -nan -nan Q-nan -nan -nan -nan L-nan -nan L-nan -nan M-nan -nan L-nan -nan L-nan -nan L-nan -nan Q-nan -nan -nan -nan Q-nan -nan -nan -nan Q-nan -nan -nan -nan Q-nan -nan -nan -nan Q-nan -nan -nan -nan Q-nan -nan -nan -nan L-nan -nan L-nan -nan Q-nan -nan -nan -nan Q-nan -nan -nan -nan Q-nan -nan -nan -nan Q-nan -nan -nan -nan L-nan -nan Q-nan -nan -nan -nan Q-nan -nan -nan -nan Q-nan -nan -nan -nan Q-nan -nan -nan -nan Z\" fill=\"#000000\" fill-rule=\"evenodd\" fill-opacity=\"1\" /><path clip-path=\"url(#clip740)\" d=\"M-nan -nan L-nan -nan L-nan -nan L-nan -nan L-nan -nan L-nan -nan L-nan -nan L-nan -nan L-nan -nan L-nan -nan L-nan -nan Z\" fill=\"#000000\" fill-rule=\"evenodd\" fill-opacity=\"1\" /><path clip-path=\"url(#clip740)\" d=\"M170.433 143.265 L178.072 143.265 L178.072 116.899 L169.762 118.566 L169.762 114.306 L178.026 112.64 L182.702 112.64 L182.702 143.265 L190.34 143.265 L190.34 147.2 L170.433 147.2 L170.433 143.265 Z\" fill=\"#000000\" fill-rule=\"evenodd\" fill-opacity=\"1\" /><path clip-path=\"url(#clip740)\" d=\"M209.785 115.718 Q206.174 115.718 204.345 119.283 Q202.539 122.825 202.539 129.954 Q202.539 137.061 204.345 140.626 Q206.174 144.167 209.785 144.167 Q213.419 144.167 215.225 140.626 Q217.053 137.061 217.053 129.954 Q217.053 122.825 215.225 119.283 Q213.419 115.718 209.785 115.718 M209.785 112.015 Q215.595 112.015 218.651 116.621 Q221.729 121.204 221.729 129.954 Q221.729 138.681 218.651 143.288 Q215.595 147.871 209.785 147.871 Q203.975 147.871 200.896 143.288 Q197.84 138.681 197.84 129.954 Q197.84 121.204 200.896 116.621 Q203.975 112.015 209.785 112.015 Z\" fill=\"#000000\" fill-rule=\"evenodd\" fill-opacity=\"1\" /><path clip-path=\"url(#clip740)\" d=\"M222.914 91.7093 L237.829 91.7093 L237.829 94.9066 L226.394 94.9066 L226.394 101.79 Q227.221 101.508 228.049 101.377 Q228.876 101.226 229.704 101.226 Q234.406 101.226 237.152 103.803 Q239.898 106.379 239.898 110.78 Q239.898 115.313 237.076 117.833 Q234.255 120.335 229.121 120.335 Q227.353 120.335 225.51 120.034 Q223.685 119.733 221.729 119.131 L221.729 115.313 Q223.422 116.235 225.227 116.686 Q227.033 117.137 229.045 117.137 Q232.299 117.137 234.199 115.426 Q236.098 113.714 236.098 110.78 Q236.098 107.846 234.199 106.135 Q232.299 104.423 229.045 104.423 Q227.522 104.423 225.999 104.762 Q224.494 105.1 222.914 105.815 L222.914 91.7093 Z\" fill=\"#000000\" fill-rule=\"evenodd\" fill-opacity=\"1\" /><path clip-path=\"url(#clip740)\" d=\"M44.7161 793.951 L47.5806 793.951 L47.5806 820.878 Q53.6281 820.496 56.8109 817.249 Q59.9619 813.971 59.9619 808.146 Q59.9619 804.773 59.1344 801.622 Q58.3069 798.439 56.6518 795.32 L62.1899 795.32 Q63.5267 798.471 64.227 801.781 Q64.9272 805.091 64.9272 808.497 Q64.9272 817.027 59.9619 822.024 Q54.9967 826.989 46.5303 826.989 Q37.7774 826.989 32.6531 822.278 Q27.4968 817.536 27.4968 809.515 Q27.4968 802.322 32.1438 798.152 Q36.7589 793.951 44.7161 793.951 M42.9973 799.807 Q38.1912 799.871 35.3266 802.513 Q32.4621 805.123 32.4621 809.451 Q32.4621 814.353 35.2312 817.313 Q38.0002 820.241 43.0292 820.687 L42.9973 799.807 Z\" fill=\"#000000\" fill-rule=\"evenodd\" fill-opacity=\"1\" /><path clip-path=\"url(#clip740)\" d=\"M14.5426 770.27 Q21.8632 774.535 29.0246 776.604 Q36.186 778.673 43.5384 778.673 Q50.8908 778.673 58.1159 776.604 Q65.3091 774.504 72.5979 770.27 L72.5979 775.363 Q65.1182 780.137 57.8931 782.524 Q50.668 784.88 43.5384 784.88 Q36.4406 784.88 29.2474 782.524 Q22.0542 780.169 14.5426 775.363 L14.5426 770.27 Z\" fill=\"#000000\" fill-rule=\"evenodd\" fill-opacity=\"1\" /><path clip-path=\"url(#clip740)\" d=\"M18.2347 753.115 L28.3562 753.115 L28.3562 741.052 L32.9077 741.052 L32.9077 753.115 L52.2594 753.115 Q56.6199 753.115 57.8613 751.937 Q59.1026 750.728 59.1026 747.067 L59.1026 741.052 L64.0042 741.052 L64.0042 747.067 Q64.0042 753.847 61.4897 756.425 Q58.9434 759.003 52.2594 759.003 L32.9077 759.003 L32.9077 763.3 L28.3562 763.3 L28.3562 759.003 L18.2347 759.003 L18.2347 753.115 Z\" fill=\"#000000\" fill-rule=\"evenodd\" fill-opacity=\"1\" /><path clip-path=\"url(#clip740)\" d=\"M14.5426 734.272 L14.5426 729.18 Q22.0542 724.406 29.2474 722.05 Q36.4406 719.663 43.5384 719.663 Q50.668 719.663 57.8931 722.05 Q65.1182 724.406 72.5979 729.18 L72.5979 734.272 Q65.3091 730.039 58.1159 727.97 Q50.8908 725.87 43.5384 725.87 Q36.186 725.87 29.0246 727.97 Q21.8632 730.039 14.5426 734.272 Z\" fill=\"#000000\" fill-rule=\"evenodd\" fill-opacity=\"1\" /><path clip-path=\"url(#clip740)\" d=\"M1075.67 12.096 L1113.91 12.096 L1113.91 18.9825 L1083.85 18.9825 L1083.85 36.8875 L1112.65 36.8875 L1112.65 43.7741 L1083.85 43.7741 L1083.85 65.6895 L1114.64 65.6895 L1114.64 72.576 L1075.67 72.576 L1075.67 12.096 Z\" fill=\"#000000\" fill-rule=\"evenodd\" fill-opacity=\"1\" /><path clip-path=\"url(#clip740)\" d=\"M1154.05 34.1734 Q1152.8 33.4443 1151.3 33.1202 Q1149.84 32.7556 1148.06 32.7556 Q1141.74 32.7556 1138.34 36.8875 Q1134.97 40.9789 1134.97 48.6757 L1134.97 72.576 L1127.48 72.576 L1127.48 27.2059 L1134.97 27.2059 L1134.97 34.2544 Q1137.32 30.1225 1141.09 28.1376 Q1144.86 26.1121 1150.24 26.1121 Q1151.01 26.1121 1151.95 26.2337 Q1152.88 26.3147 1154.01 26.5172 L1154.05 34.1734 Z\" fill=\"#000000\" fill-rule=\"evenodd\" fill-opacity=\"1\" /><path clip-path=\"url(#clip740)\" d=\"M1186.7 34.1734 Q1185.45 33.4443 1183.95 33.1202 Q1182.49 32.7556 1180.71 32.7556 Q1174.39 32.7556 1170.99 36.8875 Q1167.62 40.9789 1167.62 48.6757 L1167.62 72.576 L1160.13 72.576 L1160.13 27.2059 L1167.62 27.2059 L1167.62 34.2544 Q1169.97 30.1225 1173.74 28.1376 Q1177.51 26.1121 1182.9 26.1121 Q1183.66 26.1121 1184.6 26.2337 Q1185.53 26.3147 1186.66 26.5172 L1186.7 34.1734 Z\" fill=\"#000000\" fill-rule=\"evenodd\" fill-opacity=\"1\" /><path clip-path=\"url(#clip740)\" d=\"M1210.28 32.4315 Q1204.28 32.4315 1200.8 37.1306 Q1197.32 41.7891 1197.32 49.9314 Q1197.32 58.0738 1200.76 62.7728 Q1204.24 67.4314 1210.28 67.4314 Q1216.23 67.4314 1219.72 62.7323 Q1223.2 58.0333 1223.2 49.9314 Q1223.2 41.8701 1219.72 37.1711 Q1216.23 32.4315 1210.28 32.4315 M1210.28 26.1121 Q1220 26.1121 1225.55 32.4315 Q1231.1 38.7509 1231.1 49.9314 Q1231.1 61.0714 1225.55 67.4314 Q1220 73.7508 1210.28 73.7508 Q1200.52 73.7508 1194.97 67.4314 Q1189.46 61.0714 1189.46 49.9314 Q1189.46 38.7509 1194.97 32.4315 Q1200.52 26.1121 1210.28 26.1121 Z\" fill=\"#000000\" fill-rule=\"evenodd\" fill-opacity=\"1\" /><path clip-path=\"url(#clip740)\" d=\"M1269.75 34.1734 Q1268.49 33.4443 1266.99 33.1202 Q1265.53 32.7556 1263.75 32.7556 Q1257.43 32.7556 1254.03 36.8875 Q1250.67 40.9789 1250.67 48.6757 L1250.67 72.576 L1243.17 72.576 L1243.17 27.2059 L1250.67 27.2059 L1250.67 34.2544 Q1253.02 30.1225 1256.78 28.1376 Q1260.55 26.1121 1265.94 26.1121 Q1266.71 26.1121 1267.64 26.2337 Q1268.57 26.3147 1269.71 26.5172 L1269.75 34.1734 Z\" fill=\"#000000\" fill-rule=\"evenodd\" fill-opacity=\"1\" /><path clip-path=\"url(#clip740)\" d=\"M1345.5 63.9476 L1345.5 47.7034 L1332.13 47.7034 L1332.13 40.9789 L1353.6 40.9789 L1353.6 66.9452 Q1348.86 70.3075 1343.15 72.0494 Q1337.44 73.7508 1330.96 73.7508 Q1316.78 73.7508 1308.76 65.4869 Q1300.78 57.1826 1300.78 42.3968 Q1300.78 27.5705 1308.76 19.3066 Q1316.78 11.0023 1330.96 11.0023 Q1336.87 11.0023 1342.18 12.4606 Q1347.52 13.9189 1352.02 16.7545 L1352.02 25.464 Q1347.48 21.6156 1342.38 19.6712 Q1337.28 17.7268 1331.64 17.7268 Q1320.54 17.7268 1314.95 23.9246 Q1309.4 30.1225 1309.4 42.3968 Q1309.4 54.6305 1314.95 60.8284 Q1320.54 67.0263 1331.64 67.0263 Q1335.98 67.0263 1339.38 66.2971 Q1342.78 65.5274 1345.5 63.9476 Z\" fill=\"#000000\" fill-rule=\"evenodd\" fill-opacity=\"1\" /><path clip-path=\"url(#clip740)\" d=\"M1368.22 9.54393 L1375.68 9.54393 L1375.68 72.576 L1368.22 72.576 L1368.22 9.54393 Z\" fill=\"#000000\" fill-rule=\"evenodd\" fill-opacity=\"1\" /><path clip-path=\"url(#clip740)\" d=\"M1408.85 32.4315 Q1402.86 32.4315 1399.38 37.1306 Q1395.89 41.7891 1395.89 49.9314 Q1395.89 58.0738 1399.33 62.7728 Q1402.82 67.4314 1408.85 67.4314 Q1414.81 67.4314 1418.29 62.7323 Q1421.78 58.0333 1421.78 49.9314 Q1421.78 41.8701 1418.29 37.1711 Q1414.81 32.4315 1408.85 32.4315 M1408.85 26.1121 Q1418.58 26.1121 1424.13 32.4315 Q1429.68 38.7509 1429.68 49.9314 Q1429.68 61.0714 1424.13 67.4314 Q1418.58 73.7508 1408.85 73.7508 Q1399.09 73.7508 1393.54 67.4314 Q1388.03 61.0714 1388.03 49.9314 Q1388.03 38.7509 1393.54 32.4315 Q1399.09 26.1121 1408.85 26.1121 Z\" fill=\"#000000\" fill-rule=\"evenodd\" fill-opacity=\"1\" /><path clip-path=\"url(#clip740)\" d=\"M1474.6 49.9314 Q1474.6 41.7081 1471.2 37.0496 Q1467.84 32.3505 1461.92 32.3505 Q1456.01 32.3505 1452.6 37.0496 Q1449.24 41.7081 1449.24 49.9314 Q1449.24 58.1548 1452.6 62.8538 Q1456.01 67.5124 1461.92 67.5124 Q1467.84 67.5124 1471.2 62.8538 Q1474.6 58.1548 1474.6 49.9314 M1449.24 34.0924 Q1451.59 30.0415 1455.16 28.0971 Q1458.76 26.1121 1463.74 26.1121 Q1472.01 26.1121 1477.15 32.6746 Q1482.34 39.2371 1482.34 49.9314 Q1482.34 60.6258 1477.15 67.1883 Q1472.01 73.7508 1463.74 73.7508 Q1458.76 73.7508 1455.16 71.8063 Q1451.59 69.8214 1449.24 65.7705 L1449.24 72.576 L1441.75 72.576 L1441.75 9.54393 L1449.24 9.54393 L1449.24 34.0924 Z\" fill=\"#000000\" fill-rule=\"evenodd\" fill-opacity=\"1\" /><path clip-path=\"url(#clip740)\" d=\"M1515.31 49.7694 Q1506.28 49.7694 1502.8 51.8354 Q1499.31 53.9013 1499.31 58.8839 Q1499.31 62.8538 1501.9 65.2034 Q1504.54 67.5124 1509.03 67.5124 Q1515.23 67.5124 1518.96 63.1374 Q1522.73 58.7219 1522.73 51.4303 L1522.73 49.7694 L1515.31 49.7694 M1530.18 46.6907 L1530.18 72.576 L1522.73 72.576 L1522.73 65.6895 Q1520.17 69.8214 1516.37 71.8063 Q1512.56 73.7508 1507.05 73.7508 Q1500.08 73.7508 1495.95 69.8619 Q1491.86 65.9325 1491.86 59.3701 Q1491.86 51.7138 1496.96 47.825 Q1502.11 43.9361 1512.27 43.9361 L1522.73 43.9361 L1522.73 43.2069 Q1522.73 38.0623 1519.32 35.2672 Q1515.96 32.4315 1509.84 32.4315 Q1505.95 32.4315 1502.27 33.3632 Q1498.58 34.295 1495.18 36.1584 L1495.18 29.2718 Q1499.27 27.692 1503.12 26.9223 Q1506.97 26.1121 1510.61 26.1121 Q1520.46 26.1121 1525.32 31.2163 Q1530.18 36.3204 1530.18 46.6907 Z\" fill=\"#000000\" fill-rule=\"evenodd\" fill-opacity=\"1\" /><path clip-path=\"url(#clip740)\" d=\"M1545.53 9.54393 L1552.99 9.54393 L1552.99 72.576 L1545.53 72.576 L1545.53 9.54393 Z\" fill=\"#000000\" fill-rule=\"evenodd\" fill-opacity=\"1\" /><path clip-path=\"url(#clip740)\" d=\"\n",
       "M1935.59 270.476 L2283.53 270.476 L2283.53 166.796 L1935.59 166.796  Z\n",
       "  \" fill=\"#ffffff\" fill-rule=\"evenodd\" fill-opacity=\"1\"/>\n",
       "<polyline clip-path=\"url(#clip740)\" style=\"stroke:#000000; stroke-linecap:butt; stroke-linejoin:round; stroke-width:4; stroke-opacity:1; fill:none\" points=\"\n",
       "  1935.59,270.476 2283.53,270.476 2283.53,166.796 1935.59,166.796 1935.59,270.476 \n",
       "  \"/>\n",
       "<polyline clip-path=\"url(#clip740)\" style=\"stroke:#800080; stroke-linecap:butt; stroke-linejoin:round; stroke-width:4; stroke-opacity:1; fill:none\" stroke-dasharray=\"16, 10\" points=\"\n",
       "  1958.67,218.636 2097.12,218.636 \n",
       "  \"/>\n",
       "<path clip-path=\"url(#clip740)\" d=\"M2120.2 201.356 L2142.05 201.356 L2142.05 205.291 L2124.88 205.291 L2124.88 215.522 L2141.33 215.522 L2141.33 219.457 L2124.88 219.457 L2124.88 231.981 L2142.47 231.981 L2142.47 235.916 L2120.2 235.916 L2120.2 201.356 Z\" fill=\"#000000\" fill-rule=\"evenodd\" fill-opacity=\"1\" /><path clip-path=\"url(#clip740)\" d=\"M2149.53 225.684 L2149.53 209.99 L2153.79 209.99 L2153.79 225.522 Q2153.79 229.203 2155.22 231.055 Q2156.66 232.883 2159.53 232.883 Q2162.98 232.883 2164.97 230.684 Q2166.98 228.485 2166.98 224.689 L2166.98 209.99 L2171.24 209.99 L2171.24 235.916 L2166.98 235.916 L2166.98 231.934 Q2165.43 234.295 2163.37 235.453 Q2161.33 236.587 2158.63 236.587 Q2154.16 236.587 2151.84 233.809 Q2149.53 231.031 2149.53 225.684 M2160.25 209.365 L2160.25 209.365 Z\" fill=\"#000000\" fill-rule=\"evenodd\" fill-opacity=\"1\" /><path clip-path=\"url(#clip740)\" d=\"M2180.01 199.897 L2184.27 199.897 L2184.27 235.916 L2180.01 235.916 L2180.01 199.897 Z\" fill=\"#000000\" fill-rule=\"evenodd\" fill-opacity=\"1\" /><path clip-path=\"url(#clip740)\" d=\"M2215.36 221.888 L2215.36 223.971 L2195.78 223.971 Q2196.06 228.369 2198.42 230.684 Q2200.8 232.976 2205.04 232.976 Q2207.49 232.976 2209.78 232.374 Q2212.1 231.772 2214.37 230.569 L2214.37 234.596 Q2212.07 235.568 2209.67 236.078 Q2207.26 236.587 2204.78 236.587 Q2198.58 236.587 2194.94 232.976 Q2191.33 229.365 2191.33 223.207 Q2191.33 216.842 2194.76 213.115 Q2198.21 209.365 2204.04 209.365 Q2209.27 209.365 2212.31 212.745 Q2215.36 216.101 2215.36 221.888 M2211.1 220.638 Q2211.06 217.143 2209.13 215.059 Q2207.24 212.976 2204.09 212.976 Q2200.52 212.976 2198.37 214.99 Q2196.24 217.004 2195.92 220.661 L2211.1 220.638 Z\" fill=\"#000000\" fill-rule=\"evenodd\" fill-opacity=\"1\" /><path clip-path=\"url(#clip740)\" d=\"M2237.37 213.971 Q2236.66 213.555 2235.8 213.37 Q2234.97 213.161 2233.95 213.161 Q2230.34 213.161 2228.39 215.522 Q2226.47 217.86 2226.47 222.258 L2226.47 235.916 L2222.19 235.916 L2222.19 209.99 L2226.47 209.99 L2226.47 214.018 Q2227.81 211.657 2229.97 210.522 Q2232.12 209.365 2235.2 209.365 Q2235.64 209.365 2236.17 209.434 Q2236.7 209.481 2237.35 209.596 L2237.37 213.971 Z\" fill=\"#000000\" fill-rule=\"evenodd\" fill-opacity=\"1\" /></svg>\n"
      ]
     },
     "execution_count": 248,
     "metadata": {},
     "output_type": "execute_result"
    },
    {
     "name": "stderr",
     "output_type": "stream",
     "text": [
      "┌ Warning: No strict ticks found\n",
      "└ @ PlotUtils /home/rdpaula/.julia/packages/PlotUtils/jNTYY/src/ticks.jl:191\n",
      "┌ Warning: No strict ticks found\n",
      "└ @ PlotUtils /home/rdpaula/.julia/packages/PlotUtils/jNTYY/src/ticks.jl:191\n"
     ]
    }
   ],
   "source": [
    "N=40\n",
    "y1 = [ye(t1[n]) for n=1:N]\n",
    "plot(title=\"Error Global\",xlabel=\"t\",ylabel=\"e(t)\",yscale=:log10,ylim=(-1000000,100000))\n",
    "plot!(0.1:0.002475:0.001,abs.(we1[1,:]-ft[1]),label=\"Euler\",linestyle=:dash,linecolor=:purple,linewidth=2.5)\n",
    "#plot!(t1,abs.(w1[1,:]-y1),label=\"RK4\",linestyle=:dash,linecolor=:cyan,linewidth=2.5)\n",
    "#hline!([2e-6],label=\"\")\n",
    "#hline!([3e-2],label=\"\")"
   ]
  },
  {
   "cell_type": "markdown",
   "metadata": {},
   "source": [
    "***f)***"
   ]
  },
  {
   "cell_type": "markdown",
   "metadata": {},
   "source": [
    "**El metodo de RK4 es más preciso que el método de Euler.\n",
    "En Euler la aproximacion se aleja de la solucion exacta si esta es creceinte, y si la solucion exacta decrece el metodo de Euler se estabiliza.**"
   ]
  },
  {
   "cell_type": "code",
   "execution_count": null,
   "metadata": {},
   "outputs": [],
   "source": []
  }
 ],
 "metadata": {
  "@webio": {
   "lastCommId": null,
   "lastKernelId": null
  },
  "kernelspec": {
   "display_name": "Julia 1.7.2",
   "language": "julia",
   "name": "julia-1.7"
  },
  "language_info": {
   "file_extension": ".jl",
   "mimetype": "application/julia",
   "name": "julia",
   "version": "1.7.2"
  }
 },
 "nbformat": 4,
 "nbformat_minor": 2
}
