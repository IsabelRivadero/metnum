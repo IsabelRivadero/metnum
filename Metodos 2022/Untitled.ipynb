{
 "cells": [
  {
   "cell_type": "code",
   "execution_count": 20,
   "id": "a768d9ed",
   "metadata": {},
   "outputs": [
    {
     "data": {
      "text/plain": [
       "f (generic function with 2 methods)"
      ]
     },
     "execution_count": 20,
     "metadata": {},
     "output_type": "execute_result"
    }
   ],
   "source": [
    "function f(x::Integer)\n",
    "    return (x%5==0) && (x%2==0)\n",
    "end"
   ]
  },
  {
   "cell_type": "code",
   "execution_count": 1,
   "id": "854dc1b7",
   "metadata": {
    "scrolled": true
   },
   "outputs": [
    {
     "ename": "LoadError",
     "evalue": "UndefVarError: f not defined",
     "output_type": "error",
     "traceback": [
      "UndefVarError: f not defined",
      "",
      "Stacktrace:",
      " [1] top-level scope",
      "   @ In[1]:1",
      " [2] eval",
      "   @ ./boot.jl:373 [inlined]",
      " [3] include_string(mapexpr::typeof(REPL.softscope), mod::Module, code::String, filename::String)",
      "   @ Base ./loading.jl:1196"
     ]
    }
   ],
   "source": [
    "f(5)"
   ]
  },
  {
   "cell_type": "code",
   "execution_count": 44,
   "id": "5e56e926",
   "metadata": {},
   "outputs": [
    {
     "data": {
      "text/plain": [
       "g (generic function with 1 method)"
      ]
     },
     "execution_count": 44,
     "metadata": {},
     "output_type": "execute_result"
    }
   ],
   "source": [
    "function g(a,b,c)\n",
    "   \n",
    "  #  r1=(-b+sqrt(b**2-4*a*c))/2*a\n",
    "   #  r2=(-b-sqrt(b**2-4*a*c))/2*a\n",
    "    dis=b^2-4*a*c\n",
    "     if dis>=0\n",
    "        r1=(-b+sqrt(dis))/(2*a)\n",
    "        r2=(-b-sqrt(dis))/(2*a)\n",
    "    print(\"r1=$r1, r2=$r2\")\n",
    "    else\n",
    "        d=-b/2/a \n",
    "        e=sqrt(-dis)/2/a\n",
    "    print(\"r1=$d+i$e, r2=$d-i$e\")\n",
    "    end\n",
    "end\n"
   ]
  },
  {
   "cell_type": "code",
   "execution_count": 50,
   "id": "d01b9c6a",
   "metadata": {},
   "outputs": [
    {
     "name": "stdout",
     "output_type": "stream",
     "text": [
      "r1=0.5+i0.8660254037844386, r2=0.5-i0.8660254037844386"
     ]
    }
   ],
   "source": [
    "g(1,-1,1)"
   ]
  },
  {
   "cell_type": "code",
   "execution_count": null,
   "id": "e6e4f857",
   "metadata": {},
   "outputs": [],
   "source": []
  },
  {
   "cell_type": "code",
   "execution_count": 10,
   "id": "6e9aa277",
   "metadata": {},
   "outputs": [
    {
     "data": {
      "text/plain": [
       "sum_32 (generic function with 1 method)"
      ]
     },
     "execution_count": 10,
     "metadata": {},
     "output_type": "execute_result"
    }
   ],
   "source": [
    "function sum_32(N)\n",
    "    sum = 0\n",
    "    for i in 1:N\n",
    "    sum = sum + convert(Float32,1/i)\n",
    "    end\n",
    "return sum\n",
    "end"
   ]
  },
  {
   "cell_type": "code",
   "execution_count": 11,
   "id": "2148f761",
   "metadata": {},
   "outputs": [
    {
     "data": {
      "text/plain": [
       "15.403683f0"
      ]
     },
     "execution_count": 11,
     "metadata": {},
     "output_type": "execute_result"
    }
   ],
   "source": [
    "sum_32(10000000)"
   ]
  },
  {
   "cell_type": "code",
   "execution_count": 118,
   "id": "c3dfe0fe",
   "metadata": {},
   "outputs": [
    {
     "data": {
      "text/plain": [
       "sum_64 (generic function with 1 method)"
      ]
     },
     "execution_count": 118,
     "metadata": {},
     "output_type": "execute_result"
    }
   ],
   "source": [
    "function sum_64(N)\n",
    "    sum = 0\n",
    "    for i in 1:N\n",
    "    sum = sum + 1/i   ### = sum + convert(Float64,1/i)\n",
    "    end\n",
    "return sum\n",
    "end"
   ]
  },
  {
   "cell_type": "code",
   "execution_count": 119,
   "id": "7a60e08c",
   "metadata": {},
   "outputs": [
    {
     "data": {
      "text/plain": [
       "16.695311365857272"
      ]
     },
     "execution_count": 119,
     "metadata": {},
     "output_type": "execute_result"
    }
   ],
   "source": [
    "sum_64(10000000)"
   ]
  },
  {
   "cell_type": "code",
   "execution_count": 94,
   "id": "133fe700",
   "metadata": {},
   "outputs": [
    {
     "ename": "LoadError",
     "evalue": "syntax: extra token \"of\" after end of expression",
     "output_type": "error",
     "traceback": [
      "syntax: extra token \"of\" after end of expression",
      "",
      "Stacktrace:",
      " [1] top-level scope",
      "   @ In[94]:1",
      " [2] eval",
      "   @ ./boot.jl:373 [inlined]",
      " [3] include_string(mapexpr::typeof(REPL.softscope), mod::Module, code::String, filename::String)",
      "   @ Base ./loading.jl:1196"
     ]
    }
   ],
   "source": [
    "typeof(sum)"
   ]
  },
  {
   "cell_type": "code",
   "execution_count": 146,
   "id": "03143809",
   "metadata": {},
   "outputs": [
    {
     "data": {
      "text/plain": [
       "sum_invertida_32 (generic function with 1 method)"
      ]
     },
     "execution_count": 146,
     "metadata": {},
     "output_type": "execute_result"
    }
   ],
   "source": [
    "\n",
    "function sum_invertida_32(N)\n",
    "    sum = Float32(0)\n",
    "    for i in 10000000:-1:N        ### for i in 10_000_000:-1:\n",
    "    sum = sum + 1/i    \n",
    "    end\n",
    "return sum\n",
    "end"
   ]
  },
  {
   "cell_type": "code",
   "execution_count": 147,
   "id": "87827831",
   "metadata": {},
   "outputs": [
    {
     "data": {
      "text/plain": [
       "16.695311365859965"
      ]
     },
     "execution_count": 147,
     "metadata": {},
     "output_type": "execute_result"
    }
   ],
   "source": [
    "sum_invertida_32(1)"
   ]
  },
  {
   "cell_type": "code",
   "execution_count": 7,
   "id": "ddf0ca79",
   "metadata": {},
   "outputs": [
    {
     "data": {
      "text/plain": [
       "sum_invertida_64 (generic function with 1 method)"
      ]
     },
     "execution_count": 7,
     "metadata": {},
     "output_type": "execute_result"
    }
   ],
   "source": [
    "function sum_invertida_64(N)\n",
    "    sum = 0\n",
    "    for i in 10000000:-1:1\n",
    "    sum = sum + 1/i                ### for i in 10_000_000:-1:1\n",
    "    end\n",
    "return sum\n",
    "end"
   ]
  },
  {
   "cell_type": "code",
   "execution_count": 8,
   "id": "f030a431",
   "metadata": {},
   "outputs": [
    {
     "data": {
      "text/plain": [
       "16.695311365859965"
      ]
     },
     "execution_count": 8,
     "metadata": {},
     "output_type": "execute_result"
    }
   ],
   "source": [
    "sum_invertida_64(1)"
   ]
  },
  {
   "cell_type": "code",
   "execution_count": 158,
   "id": "4fd56af2",
   "metadata": {},
   "outputs": [],
   "source": [
    "# Problema 8"
   ]
  },
  {
   "cell_type": "code",
   "execution_count": 173,
   "id": "cacd733b",
   "metadata": {},
   "outputs": [
    {
     "data": {
      "text/plain": [
       "4-element Vector{Float64}:\n",
       " 0.0\n",
       " 0.0\n",
       " 0.0\n",
       " 0.0"
      ]
     },
     "execution_count": 173,
     "metadata": {},
     "output_type": "execute_result"
    }
   ],
   "source": [
    "n=4\n",
    "v=zeros(n)\n"
   ]
  },
  {
   "cell_type": "code",
   "execution_count": 175,
   "id": "e18a43b5",
   "metadata": {},
   "outputs": [
    {
     "data": {
      "text/plain": [
       "4-element Vector{Float64}:\n",
       " 1.0\n",
       " 1.0\n",
       " 1.0\n",
       " 1.0"
      ]
     },
     "execution_count": 175,
     "metadata": {},
     "output_type": "execute_result"
    }
   ],
   "source": [
    "n=4\n",
    "v=ones(n)\n",
    "v"
   ]
  },
  {
   "cell_type": "code",
   "execution_count": 187,
   "id": "b0d5288b",
   "metadata": {},
   "outputs": [
    {
     "data": {
      "text/plain": [
       "3×3 Matrix{Float64}:\n",
       " 1.0  2.0  3.0\n",
       " 2.0  4.0  6.0\n",
       " 3.0  6.0  9.0"
      ]
     },
     "execution_count": 187,
     "metadata": {},
     "output_type": "execute_result"
    }
   ],
   "source": [
    "n=3\n",
    "v_f = zeros(n,n)\n",
    "for i in 1:n\n",
    "        for j in 1:n\n",
    "            v_f[i,j]=i*j\n",
    "        end\n",
    "    end\n",
    "v_f"
   ]
  },
  {
   "cell_type": "code",
   "execution_count": 205,
   "id": "6bbde68c",
   "metadata": {},
   "outputs": [
    {
     "name": "stdout",
     "output_type": "stream",
     "text": [
      "[1 2; 3 4], [1.0, 1.0]\n"
     ]
    },
    {
     "data": {
      "text/plain": [
       "2×2 Matrix{Float64}:\n",
       " 3.0  0.0\n",
       " 7.0  0.0"
      ]
     },
     "execution_count": 205,
     "metadata": {},
     "output_type": "execute_result"
    }
   ],
   "source": [
    "n = 2\n",
    "\n",
    "A = [1 2;3 4]\n",
    "B = zeros(n,n)\n",
    "v = ones(n)\n",
    "\n",
    "for i=1:n\n",
    "    for j=1:n\n",
    "        ### B[i]=B[i]+A[i,j]*v[j]   \n",
    "        B[i] += A[i,j]*v[j]\n",
    "    end\n",
    "end\n",
    "println(\"$A, $v\")\n",
    "\n",
    "B\n",
    "        "
   ]
  },
  {
   "cell_type": "code",
   "execution_count": 215,
   "id": "232ae054",
   "metadata": {},
   "outputs": [
    {
     "name": "stdout",
     "output_type": "stream",
     "text": [
      "[1 2; 3 4], [1.0, 1.0]\n"
     ]
    },
    {
     "data": {
      "text/plain": [
       "2-element Vector{Float64}:\n",
       " 3.0\n",
       " 7.0"
      ]
     },
     "execution_count": 215,
     "metadata": {},
     "output_type": "execute_result"
    }
   ],
   "source": [
    "n = 2\n",
    "\n",
    "A = [1 2;3 4]\n",
    "B = zeros(n)\n",
    "v = ones(n)\n",
    "\n",
    "\n",
    "\n",
    "for i=1:n\n",
    "    for j=1:n\n",
    "        ### B[i] = B[i]+A[i,j]*v[j]   \n",
    "        B[i] += A[i,j]*v[j]\n",
    "    end\n",
    "end\n",
    "println(\"$A, $v\")\n",
    "\n",
    "B \n",
    "        "
   ]
  },
  {
   "cell_type": "code",
   "execution_count": 216,
   "id": "5c5a72af",
   "metadata": {},
   "outputs": [
    {
     "name": "stdout",
     "output_type": "stream",
     "text": [
      "[1 2; 3 4], [1.0, 1.0]\n"
     ]
    },
    {
     "data": {
      "text/plain": [
       "2-element Vector{Float64}:\n",
       " 3.0\n",
       " 7.0"
      ]
     },
     "execution_count": 216,
     "metadata": {},
     "output_type": "execute_result"
    }
   ],
   "source": [
    "n = 2\n",
    "\n",
    "A = [1 2;3 4]\n",
    "B = zeros(n,n)\n",
    "v = ones(n)\n",
    "\n",
    "B = A*v\n",
    "\n",
    "\n",
    "println(\"$A, $V\")\n",
    "\n",
    "B "
   ]
  },
  {
   "cell_type": "code",
   "execution_count": 269,
   "id": "da1c974a",
   "metadata": {},
   "outputs": [
    {
     "data": {
      "text/plain": [
       "4×4 Matrix{Float64}:\n",
       " 3.0  1.0  1.0  1.0\n",
       " 0.0  3.0  1.0  1.0\n",
       " 0.0  0.0  3.0  1.0\n",
       " 0.0  0.0  0.0  3.0"
      ]
     },
     "execution_count": 269,
     "metadata": {},
     "output_type": "execute_result"
    }
   ],
   "source": [
    "n = 4\n",
    "\n",
    "A = [1 2;3 4]\n",
    "B = zeros(n,n)\n",
    "v = ones(n)\n",
    "\n",
    "for i=1:n  , j=i+1:n\n",
    "    B[i,j]=1\n",
    "end\n",
    "\n",
    "for i=1:n\n",
    "   B[i,i]=3\n",
    "    end\n",
    "B"
   ]
  },
  {
   "cell_type": "code",
   "execution_count": 270,
   "id": "1b85053c",
   "metadata": {},
   "outputs": [
    {
     "data": {
      "text/plain": [
       "4×4 Matrix{Float64}:\n",
       " 3.0  1.0  1.0  1.0\n",
       " 0.0  3.0  1.0  1.0\n",
       " 0.0  0.0  3.0  1.0\n",
       " 0.0  0.0  0.0  0.0"
      ]
     },
     "execution_count": 270,
     "metadata": {},
     "output_type": "execute_result"
    }
   ],
   "source": [
    "n = 4\n",
    "\n",
    "A = [1 2;3 4]\n",
    "B = zeros(n,n)\n",
    "v = ones(n)\n",
    "\n",
    "for i=1:n  , j=i+1:n\n",
    "    B[i,j]=1\n",
    "    B[i,i]=3\n",
    "end\n",
    "   \n",
    "B"
   ]
  },
  {
   "cell_type": "code",
   "execution_count": 279,
   "id": "46ad8d85",
   "metadata": {},
   "outputs": [
    {
     "data": {
      "text/plain": [
       "4×4 Matrix{Float64}:\n",
       " 3.0  1.0  1.0  1.0\n",
       " 0.0  3.0  1.0  1.0\n",
       " 0.0  0.0  3.0  1.0\n",
       " 0.0  0.0  0.0  3.0"
      ]
     },
     "execution_count": 279,
     "metadata": {},
     "output_type": "execute_result"
    }
   ],
   "source": [
    "n = 4\n",
    "\n",
    "A = [1 2;3 4]\n",
    "B = zeros(n,n)\n",
    "v = ones(n)\n",
    "\n",
    "for i=1:n  \n",
    "    B[i,i+0:n] .= 1 ### operacion punto a punto (a cada termino del vector) Vector .= escalar\n",
    "    B[i,i]=3\n",
    "end\n",
    "   \n",
    "B"
   ]
  },
  {
   "cell_type": "code",
   "execution_count": 288,
   "id": "0b368300",
   "metadata": {},
   "outputs": [
    {
     "data": {
      "text/plain": [
       "5-element Vector{Float64}:\n",
       " 3.0\n",
       " 2.0\n",
       " 3.0\n",
       " 2.0\n",
       " 3.0"
      ]
     },
     "execution_count": 288,
     "metadata": {},
     "output_type": "execute_result"
    }
   ],
   "source": [
    "n = 5\n",
    "v = fill(3.,n)    ### v[1:2:n].=3\n",
    "v[2:2:n].=2\n",
    "v"
   ]
  },
  {
   "cell_type": "code",
   "execution_count": 280,
   "id": "02621c49",
   "metadata": {},
   "outputs": [],
   "source": [
    "# Problema 9"
   ]
  },
  {
   "cell_type": "code",
   "execution_count": 301,
   "id": "194720c9",
   "metadata": {},
   "outputs": [
    {
     "data": {
      "text/plain": [
       "f (generic function with 4 methods)"
      ]
     },
     "execution_count": 301,
     "metadata": {},
     "output_type": "execute_result"
    }
   ],
   "source": [
    "i = 0\n",
    "n = n(i)\n",
    "function f(n,b)\n",
    "while n>b\n",
    "        n = n%b\n",
    "        i += 1\n",
    "    end\n",
    "i    \n",
    "Nb = zeros(n)\n",
    "for i=0:b\n",
    "    Nb[i] = n \n",
    "    f(n,b)=n\n",
    "end\n",
    "end"
   ]
  },
  {
   "cell_type": "code",
   "execution_count": 12,
   "id": "cb999c67",
   "metadata": {},
   "outputs": [],
   "source": [
    "n= 25\n",
    "b=5\n",
    "\n",
    "i = 0\n",
    "\n",
    "while n>b\n",
    "        n = n%b\n",
    "        i += 1\n",
    "    end"
   ]
  }
 ],
 "metadata": {
  "kernelspec": {
   "display_name": "Julia 1.7.2",
   "language": "julia",
   "name": "julia-1.7"
  },
  "language_info": {
   "file_extension": ".jl",
   "mimetype": "application/julia",
   "name": "julia",
   "version": "1.7.2"
  }
 },
 "nbformat": 4,
 "nbformat_minor": 5
}
