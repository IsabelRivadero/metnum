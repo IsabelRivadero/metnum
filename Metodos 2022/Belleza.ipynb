{
 "cells": [
  {
   "cell_type": "markdown",
   "metadata": {},
   "source": [
    "## Concurso de Belleza de Funciones\n",
    "\n",
    "\n",
    "### Bases:\n",
    "\n",
    "1. Se trata de crear la más bella función que aplique la **regla de Simpson compuesta** a una función en un intervalo y devuelva el valor obtenido. Los argumentos de la función serán: (función a *integrar*, intervalo, número de puntos de evaluación).\n",
    "\n",
    "2. Podrá participar en 3 categorias:\n",
    "\n",
    "    a. La más flaquita: la que utilize el menor número de caractéres (sin contar el nombre de la función).\n",
    "    \n",
    "    b. La más rápida: la que de el menor tiempo de ejecución cuando se aplique con argumentos:  y según el valor obtenido con el macro `@btime My_Simpson(sin,(0,\\pi),101)` de la librería `BenchmarkTools`\n",
    "    \n",
    "    c. La menos alocada: la que utilize (`aloc`) la menor cantidad de memoria posible según el resultado que arroje `@btime My_Simpson(sin,(0,\\pi),101)`\n",
    "    \n",
    "3. La participación será en grupos de al menos 3 estudiantes regulares del curso.\n",
    "\n",
    "4. La propuesta deberá ser entregada el **día martes 31 de mayo a las 9:00 horas**, vía correo electrónico a *oreula@unc.edu.ar* en un notebook con una presentación (en markdown) acorde. La presentación será tenida en cuenta en caso de empate.\n",
    "    "
   ]
  },
  {
   "cell_type": "raw",
   "metadata": {},
   "source": [
    "using Pkg; Pkg.add(\"BenchmarkTools\")"
   ]
  },
  {
   "cell_type": "code",
   "execution_count": null,
   "metadata": {},
   "outputs": [],
   "source": [
    "using BenchmarkTools"
   ]
  },
  {
   "cell_type": "code",
   "execution_count": null,
   "metadata": {},
   "outputs": [],
   "source": [
    "f(x) = sin(x)^2"
   ]
  },
  {
   "cell_type": "markdown",
   "metadata": {},
   "source": [
    "Chequeando: $\\int_0^{\\pi} sin^2(x) \\; dx = \\pi/2$"
   ]
  },
  {
   "cell_type": "code",
   "execution_count": null,
   "metadata": {},
   "outputs": [],
   "source": [
    "# Simpson del practico\n",
    "function My_Simpson_practico(f,(a,b),n)\n",
    "    @assert n%2==0\n",
    "    h=(b-a)/n    \n",
    "    suma_pares=0\n",
    "    for j=1:n÷2-1\n",
    "        suma_pares += f(a+2*j*h)\n",
    "    end\n",
    "    suma_impares=0\n",
    "    for j=1:n÷2      \n",
    "        suma_impares += f(a+(2*j-1)*h)\n",
    "    end\n",
    "    return (f(a)+f(b)+2*suma_pares+4*suma_impares)*h/3\n",
    "end\n",
    "# S_S(x->exp(x),0.0f0,1.0f0,6)"
   ]
  },
  {
   "cell_type": "code",
   "execution_count": null,
   "metadata": {},
   "outputs": [],
   "source": [
    "@btime My_Simpson_practico(f,(0,π+eps(3.)),100) - π/2"
   ]
  },
  {
   "cell_type": "code",
   "execution_count": null,
   "metadata": {},
   "outputs": [],
   "source": []
  }
 ],
 "metadata": {
  "kernelspec": {
   "display_name": "Julia 1.7.2",
   "language": "julia",
   "name": "julia-1.7"
  },
  "language_info": {
   "file_extension": ".jl",
   "mimetype": "application/julia",
   "name": "julia",
   "version": "1.7.2"
  }
 },
 "nbformat": 4,
 "nbformat_minor": 5
}
