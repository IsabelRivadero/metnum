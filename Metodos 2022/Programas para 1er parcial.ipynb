{
 "cells": [
  {
   "cell_type": "code",
   "execution_count": 1,
   "id": "2339c59c",
   "metadata": {},
   "outputs": [
    {
     "data": {
      "text/plain": [
       "biseccion (generic function with 1 method)"
      ]
     },
     "execution_count": 1,
     "metadata": {},
     "output_type": "execute_result"
    }
   ],
   "source": [
    "using Plots\n",
    "using LaTeXStrings\n",
    "using DataFrames"
   ]
  },
  {
   "cell_type": "code",
   "execution_count": null,
   "id": "4ac83344",
   "metadata": {},
   "outputs": [],
   "source": [
    "function biseccion(f,(a,b);tol_x=1e-10,tol_f=1e-10,nmax=100)      \n",
    "        if b<a              \n",
    "            a,b=b,a\n",
    "        end\n",
    "    Vp = zeros(nmax)\n",
    "    Vf = zeros(nmax)\n",
    "    Vc = zeros(nmax)\n",
    "    Vr = zeros(nmax)\n",
    "    fa = f(a)                    \n",
    "    @assert fa*f(b)<0.     \n",
    "    for i in 1:nmax\n",
    "        p = a + 0.5*(b-a)\n",
    "        fp = f(p)\n",
    "        c = 0.5*(b-a)      ### cota error absoluto\n",
    "        r = abs(c/p)       ### cota error relativo\n",
    "        Vp[i] = p\n",
    "        Vf[i] = fp\n",
    "        Vc[i] = c\n",
    "        Vr[i] = r\n",
    "        if  r<tol_x && abs(fp)<tol_f   \n",
    "             return (true,Vp[1:i],Vf[1:i],Vc[1:i],Vr[1:i])\n",
    "        end\n",
    "        if fa*fp<0.  \n",
    "            b = p\n",
    "        else \n",
    "                a = p\n",
    "                fa = fp\n",
    "        end\n",
    "    end\n",
    "    return false,Vp,Vf,Vc,Vr\n",
    "end"
   ]
  },
  {
   "cell_type": "code",
   "execution_count": null,
   "id": "0484ec75",
   "metadata": {},
   "outputs": [],
   "source": [
    "f(x)=\n",
    "a,b=\n",
    "conv,Vp,Vf,Vc,Vr = biseccion(f,(a,b))"
   ]
  },
  {
   "cell_type": "code",
   "execution_count": null,
   "id": "e73daa21",
   "metadata": {},
   "outputs": [],
   "source": [
    "function Newton_Raphson(f,df,p;tol_x=1e-10,tol_f=1e-10,n_max=50)\n",
    "    Vp=zeros(n_max)\n",
    "    Vf=zeros(n_max)\n",
    "    Vc=zeros(n_max)\n",
    "    Vr=zeros(n_max)\n",
    "    for i in 1:n_max\n",
    "        p1=p\n",
    "        p+=-f(p)/df(p)         ###  p=p-f(p)/df(p)\n",
    "        Vp[i]=p\n",
    "        Vf[i]=f(p)\n",
    "        Vc[i]=abs(p-p1)\n",
    "        Vr[i]=Vc[i]/abs(p)\n",
    "        if Vr[i]<tol_x && Vf[i]<tol_f         ### como entiente el programa (P ^ Q) v S ó P ^ (Q v S)\n",
    "            return (true,Vp[1:i],Vf[1:i],Vc[1:i],Vr[1:i])\n",
    "        end\n",
    "    end\n",
    "    return false,Vp,Vf,Vc,Vr\n",
    "end"
   ]
  },
  {
   "cell_type": "code",
   "execution_count": null,
   "id": "cbdc704a",
   "metadata": {},
   "outputs": [],
   "source": [
    "f(x)=\n",
    "df(x)=\n",
    "p=\n",
    "comv,Vp,Vf,Vc,Vr = Newton_Raphson(f,df,p)"
   ]
  },
  {
   "cell_type": "code",
   "execution_count": null,
   "id": "f7622286",
   "metadata": {},
   "outputs": [],
   "source": [
    "function secante(f,(p0,p1);tol_x=1e-10,tol_f=1e-10,n_max=50)\n",
    "###     if abs(f(p0))<abs(f(p1))      ### tomo a p1/ |f(p1)|>|f(p2)| para converger mas rápido?\n",
    "###        p0,p1=p1,p0\n",
    "###    end\n",
    "    Vp=zeros(n_max)\n",
    "    Vf=zeros(n_max)\n",
    "    Vc=zeros(n_max)\n",
    "    Vr=zeros(n_max)\n",
    "    for i in 1:n_max\n",
    "        fp1=f(p1)\n",
    "        p2=p1-fp1*(p1-p0)/(fp1-f(p0))\n",
    "        Vp[i]=p2\n",
    "        Vf[i]=f(p2)\n",
    "        Vc[i]=abs(p2-p1)\n",
    "        Vr[i]=Vc[i]/abs(p2)\n",
    "        if Vr[i]<tol_x && Vf[i]<tol_f\n",
    "            return true,Vp[1:i],Vf[1:i],Vc[1:i],Vr[1:i]     ### return false,Vp,Vf,Vc,Vr     devuelve vectores de dim(n_max) y V[n]=0 para todo n>i / en la iteracion i se cumple las tolerancias\n",
    "        end\n",
    "        p0=p1\n",
    "        p1=p2\n",
    "    end\n",
    "    return false,Vp,Vf,Vc,Vr\n",
    "end"
   ]
  },
  {
   "cell_type": "code",
   "execution_count": null,
   "id": "2bf6f210",
   "metadata": {},
   "outputs": [],
   "source": [
    "f(x)=\n",
    "p0,p1=\n",
    "comv,Vp,Vf,Vc,Vr = secante(f,(p0,p1))"
   ]
  },
  {
   "cell_type": "code",
   "execution_count": null,
   "id": "b3d8a62e",
   "metadata": {},
   "outputs": [],
   "source": [
    "function regula_falsi(f,(p0,p1);tol_x=1e-5,tol_f=1e-5,nmax=50)\n",
    "    if p1<p0\n",
    "        p0,p1=p1,p0 \n",
    "    end                  \n",
    "    @assert f(p0)*f(p1)<0.  \n",
    "    Vp=zeros(nmax)\n",
    "    Vf=zeros(nmax)\n",
    "    Vc=zeros(nmax)\n",
    "    Vr=zeros(nmax)\n",
    "    for i in 1:nmax\n",
    "        fp1=f(p1)\n",
    "        p2=p1-fp1*(p1-p0)/(fp1-f(p0))\n",
    "        fp2=f(p2)\n",
    "        Vp[i]=p2\n",
    "        Vf[i]=fp2\n",
    "        Vc[i]=abs(p2-p1)\n",
    "        Vr[i]=Vc[i]/abs(p2)\n",
    "        if Vr[i]<tol_x && Vf[i]<tol_f\n",
    "            return true,Vp[1:i],Vf[1:i],Vc[1:i],Vr[1:i]     ### return false,Vp,Vf,Vc,Vr     devuelve vectores de dim(n_max) y V[n]=0 para todo n>i / en la iteracion i se cumple las tolerancias\n",
    "        end\n",
    "        if fp2*fp1<0    ### la raiz está en [p1,p2]\n",
    "            p0=p1\n",
    "            p1=p2\n",
    "        else           ### la raiz está en [p0,p2]\n",
    "            p1=p2\n",
    "        end\n",
    "    end\n",
    "    return false,Vp,Vf,Vc,Vr\n",
    "end"
   ]
  },
  {
   "cell_type": "code",
   "execution_count": null,
   "id": "96d75045",
   "metadata": {},
   "outputs": [],
   "source": [
    "f(x)=\n",
    "p0,p1=\n",
    "comv,Vp,Vf,Vc,Vr = regula_falsi(f,(p0,p1))"
   ]
  },
  {
   "cell_type": "code",
   "execution_count": null,
   "id": "6a144f4f",
   "metadata": {},
   "outputs": [],
   "source": [
    "function raiz_cuadratica(a,b,c)\n",
    "    dis=b^2-4*a*c\n",
    "     if dis>=0\n",
    "        r1=(-b+sqrt(dis))/(2*a)\n",
    "        r2=(-b-sqrt(dis))/(2*a)\n",
    "    print(\"r1=$r1, r2=$r2\")\n",
    "    else\n",
    "        d=-b/2/a \n",
    "        e=sqrt(-dis)/2/a\n",
    "    print(\"r1=$d+i$e, r2=$d-i$e\")\n",
    "    end\n",
    "end"
   ]
  },
  {
   "cell_type": "code",
   "execution_count": null,
   "id": "d4c65c5a",
   "metadata": {},
   "outputs": [],
   "source": [
    "function tiro_oblicuo(angulo,v0;x0=0,y0=0,puntos=600)\n",
    "    a=-9.8                      ### aceleracion\n",
    "    v0_x=v0*cos(angulo*pi/180)        ### velodidad inicial\n",
    "    v0_y=v0*sin(angulo*pi/180)\n",
    "    ###r1,r2=raiz_cuadratica(a/2,v0_y,y0)\n",
    "    ###return r1,r2\n",
    "    dt=(r2-r1)/puntos\n",
    "    t=0\n",
    "    Vx=zeros(puntos)\n",
    "    Vy=zeros(puntos)\n",
    "    Rx=zeros(puntos)\n",
    "    Ry=zeros(puntos)\n",
    "    t_=zeros(puntos)\n",
    "    for i in 1:puntos\n",
    "    v_x=v0_x\n",
    "    v_y=a*t+v0_y\n",
    "    r_x=v0_x*t+x0\n",
    "    r_y=a/2*t^2+v0_y*t+y0\n",
    "    t=t+dt\n",
    "    Vx[i]=v_x\n",
    "    Vy[i]=v_y\n",
    "    Rx[i]=r_x\n",
    "    Ry[i]=r_y\n",
    "    t_[i]=t\n",
    "    end\n",
    "    return Vx,Vy,Rx,Ry,t_\n",
    "end"
   ]
  },
  {
   "cell_type": "code",
   "execution_count": null,
   "id": "879775fe",
   "metadata": {},
   "outputs": [],
   "source": [
    "function cambio_de_base(n,b)\n",
    "    @assert b>=2 && b<=16\n",
    "    digitos = \"0123456789ABCDEF\"\n",
    "    s = \"\"\n",
    "    while n>0\n",
    "    r = n%b\n",
    "    s = digitos[r+1] * s      ### digito N°1--->0  \n",
    "    n = n÷b\n",
    "    end\n",
    "    return s\n",
    "end"
   ]
  },
  {
   "cell_type": "markdown",
   "id": "3f121cb6",
   "metadata": {},
   "source": [
    "**Comandos de Plots**"
   ]
  },
  {
   "cell_type": "code",
   "execution_count": null,
   "id": "fae77afd",
   "metadata": {},
   "outputs": [],
   "source": [
    "using Plots"
   ]
  },
  {
   "cell_type": "code",
   "execution_count": null,
   "id": "151d464f",
   "metadata": {},
   "outputs": [],
   "source": [
    "plot(a:0.01:b,f,xlabel=\"x\",ylabel=\"f(x)\",label=\"\")"
   ]
  },
  {
   "cell_type": "code",
   "execution_count": null,
   "id": "08af5709",
   "metadata": {},
   "outputs": [],
   "source": [
    "scatter(Vc, yscale=:log10, title=\"Errores vs Iteraciones\", ylabel=\"Errores en escala logaritmica\", xlabel=\"i\")\n",
    "scatter!(Vr)"
   ]
  },
  {
   "cell_type": "code",
   "execution_count": null,
   "id": "650d93fa",
   "metadata": {},
   "outputs": [],
   "source": [
    "scatter(0:34,Vr,xlabel=\"i\",ylabel=\"Error Relatiivo\",label=\"Biseccion\",yscale=:log10,ylim=(-0.1,1.1))"
   ]
  },
  {
   "cell_type": "code",
   "execution_count": null,
   "id": "640483be",
   "metadata": {},
   "outputs": [],
   "source": [
    "p1 = plot(t,Rx,title=\"x(t)\")\n",
    "p2 = plot(t,Ry,title=\"y(t)\")\n",
    "p3 = plot(t,Vy,title=\"vy(t)\")\n",
    "p4 = plot(Rx,Ry,title=\"y(x)\")\n",
    "scatter(p1,p2,p3,p4)"
   ]
  },
  {
   "cell_type": "code",
   "execution_count": null,
   "id": "9dbafcd9",
   "metadata": {},
   "outputs": [],
   "source": [
    "scatter(Vp,Vf,ylim=(-1,1))     ### scatter(x,f(x))  ---> f(x) vs x"
   ]
  },
  {
   "cell_type": "code",
   "execution_count": null,
   "id": "6979295f",
   "metadata": {},
   "outputs": [],
   "source": [
    "# importamos el paquete Plots.\n",
    "using Plots\n",
    "using LaTeXStrings # Esto sirve para incorporar LaTeX al gráfico (ej. en ejes, leyendas, etc.).\n",
    "# Definimos un rango de valores que comienza en -π, va de a pasos 0.01 y termina en π.\n",
    "x = -π:0.01:π\n",
    "# Definimos la función que queremos plotear en dicho rango\n",
    "f(x) = cos(x) + 2.0*sin(x)\n",
    "# Usando broadcasting (i.e. poniendo un punto detras del nombre de la función), aplicamos la función \"f\"\n",
    "# al rango previamente definido \"x\" para crear un vector \"y\".\n",
    "y = f.(x)\n",
    "# Ploteamos los valores de y vs x, usando una linea punteada de color rojo, ancho 2.5 y leyenda \"f\".\n",
    ".6plot(x,y,linestyle=:dash,linecolor=:red,linewidth=2.5,label=\"f\")\n",
    "# Agregamos al plot (por eso usamos plot! en vez de plot) título y nombres a los ejes.\n",
    "plot!(xlabel=L\"x\",ylabel=L\"y\",title=\"Gráfico ejemplo.\")\n",
    "# Definimos otra curva\n",
    "x = -2π:0.01:2π\n",
    "g(x) = abs(cos(x))\n",
    "y = g.(x)\n",
    "# y la agregamos al gráfico.\n",
    "plot!(x,y,linestyle=:solid,linecolor=:blue,linewidth=2.5,label=\"g\")"
   ]
  },
  {
   "cell_type": "markdown",
   "id": "90ad149c",
   "metadata": {},
   "source": [
    "**Demas**"
   ]
  },
  {
   "cell_type": "code",
   "execution_count": null,
   "id": "16d0ebe3",
   "metadata": {},
   "outputs": [],
   "source": [
    "\"÷\"     # tiene que escribir \\div y luego presionar la tecla tab."
   ]
  },
  {
   "cell_type": "code",
   "execution_count": null,
   "id": "dc1816ec",
   "metadata": {},
   "outputs": [],
   "source": [
    "5 ÷ 2 + 20 ÷ 6           ### ÷ es divicion entera"
   ]
  },
  {
   "cell_type": "code",
   "execution_count": null,
   "id": "9e9c8c09",
   "metadata": {},
   "outputs": [],
   "source": [
    "function f(x,y)\n",
    "    x == y          ### Una expresión booleana es una expresión que es verdadera o falsa\n",
    "end"
   ]
  },
  {
   "cell_type": "code",
   "execution_count": null,
   "id": "f3441978",
   "metadata": {},
   "outputs": [],
   "source": [
    "function f(x)\n",
    "    x%2 == 0  && x%5 == 0       ### operador lógico && (and)\n",
    "end\n",
    "\n",
    "### El operador porcentaje (%) se utiliza con enteros y devuelve el resto cuando un número se divide por otro"
   ]
  },
  {
   "cell_type": "code",
   "execution_count": null,
   "id": "1b79f0ae",
   "metadata": {},
   "outputs": [],
   "source": [
    "function sum_32(n)\n",
    "sum = 0\n",
    "    for i in 1:n                  ### de 1 a n\n",
    "     sum = sum + Float32(1/i)     ### convert(Float32,1/i)\n",
    "    end\n",
    "  return sum    ### sentencia return hace que una función finalice de inmediato y que vuelva a la sentencia de llamada a función.\n",
    "end"
   ]
  },
  {
   "cell_type": "code",
   "execution_count": null,
   "id": "e47aa018",
   "metadata": {},
   "outputs": [],
   "source": [
    "function sum_invertida_32(n)\n",
    "sum = 0\n",
    "    for i in 10000000:-1:n       ###  saltos de -1 hasta n\n",
    "     sum = sum + Float32(1/i)   \n",
    "    end\n",
    "  return sum    \n",
    "end"
   ]
  },
  {
   "cell_type": "code",
   "execution_count": null,
   "id": "63d3cfc4",
   "metadata": {},
   "outputs": [],
   "source": [
    "sin(90*pi/180)       ### en radianes"
   ]
  },
  {
   "cell_type": "code",
   "execution_count": null,
   "id": "11a0c06d",
   "metadata": {},
   "outputs": [],
   "source": [
    "function biseccion(f,intervalo;tol_x=1e-5,tol_f=1e-5,nmax=100)       ### ; variables opcionales del punto y coma para la derecha \n",
    "    a,b = intervalo                  ### T Una tupla es una secuencia de valores, pueden ser de cualquier tipo y están indexados por enteros. Las tuplas son inmutables y que cada elemento puede tener su propio tipo. Una tupla es una lista de valores separados por comas\n",
    "        if b<a\n",
    "           a,b=b,a     ### El lado izquierdo es una tupla de variables y el lado derecho es una tupla de expresiones. Cada valor se asigna a su respectiva variable. Todas las expresiones del lado derecho se evalúan antes de las asignaciones.\n",
    "        end\n",
    "    fa = f(a)                    ### Para que quede guardado el valor de f(a) y no calcular de nuevo\n",
    "    @assert fa*f(b)<0.       ### Usar una macro @assert, que verifica un invariante dado y genera una excepción si falla\n",
    "    println(\"i p    f    c   r\")\n",
    "    for i in 1:nmax\n",
    "        p = a + 0.5*(b-a)\n",
    "        fp = f(p)\n",
    "        c = 0.5*(b-a)      ### cota error absoluto\n",
    "        r = abs(c/p)       ### cota error relativo\n",
    "        println(\"$i $p $fp $c $r\")\n",
    "        if  r<tol_x && abs(fp)<tol_f \n",
    "         return\n",
    "        end\n",
    "        if fa*fp<0.  b = p\n",
    "            else \n",
    "                a = p\n",
    "                fa = fp\n",
    "            end\n",
    "        end\n",
    "    end"
   ]
  },
  {
   "cell_type": "code",
   "execution_count": null,
   "id": "84109518",
   "metadata": {},
   "outputs": [],
   "source": [
    "f(x)=x^2-3\n",
    "a,b=1,2\n",
    "biseccion(f,(a,b))    ## Muestra en pantalla el resultado pero no queda guardado los vectores, despues de correr el programa elimina la variables \n",
    "conv,Vp,Vf,Vc,Vr = biseccion(f,(a,b))       ## le asigno una tupla a lo que me entrega el programa"
   ]
  },
  {
   "cell_type": "code",
   "execution_count": null,
   "id": "dd937d73",
   "metadata": {},
   "outputs": [],
   "source": [
    "n=length(Vp)   ## numero de iteraciones"
   ]
  },
  {
   "cell_type": "code",
   "execution_count": null,
   "id": "1bd07689",
   "metadata": {},
   "outputs": [],
   "source": [
    "tabla = DataFrame(p=Vp,f=Vf,e_x=Vc,e_r=Vr)"
   ]
  },
  {
   "cell_type": "code",
   "execution_count": null,
   "id": "cccb610a",
   "metadata": {},
   "outputs": [],
   "source": []
  },
  {
   "cell_type": "code",
   "execution_count": null,
   "id": "3e0deb79",
   "metadata": {},
   "outputs": [],
   "source": []
  },
  {
   "cell_type": "code",
   "execution_count": null,
   "id": "cbbca19d",
   "metadata": {},
   "outputs": [],
   "source": []
  },
  {
   "cell_type": "code",
   "execution_count": null,
   "id": "ee535270",
   "metadata": {},
   "outputs": [],
   "source": []
  }
 ],
 "metadata": {
  "kernelspec": {
   "display_name": "Julia 1.7.2",
   "language": "julia",
   "name": "julia-1.7"
  },
  "language_info": {
   "file_extension": ".jl",
   "mimetype": "application/julia",
   "name": "julia",
   "version": "1.7.2"
  }
 },
 "nbformat": 4,
 "nbformat_minor": 5
}
