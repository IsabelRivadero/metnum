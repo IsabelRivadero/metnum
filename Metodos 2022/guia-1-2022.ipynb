{
 "cells": [
  {
   "cell_type": "markdown",
   "metadata": {},
   "source": [
    "# Métodos Numéricos \n",
    "\n",
    "## Guía 1\n",
    "\n",
    "### Problema 1\n",
    "\n",
    "Escribir símbolos especiales en Julia es muy parecido a escribir símbolos especiales en LaTeX. Para ello, se utiliza el sistema unicode \n",
    "\n",
    "https://docs.julialang.org/en/v1/manual/unicode-input/\n",
    "\n",
    "Por ejemplo, para escribir:"
   ]
  },
  {
   "cell_type": "code",
   "execution_count": null,
   "metadata": {},
   "outputs": [],
   "source": [
    "\"÷\"     # tiene que escribir \\div y luego presionar la tecla tab.\n",
    "\n",
    "\"α\"     # tiene que escribir \\alpha y luego presionar la tecla tab.\n",
    "\n",
    "\"⊗\"     # tiene que escribir \\otimes y luego presionar la tecla tab."
   ]
  },
  {
   "cell_type": "markdown",
   "metadata": {},
   "source": [
    "En una celda de código, escriba entre comillas los símbolos $\\pm$, $\\times$, $\\Delta$, $\\epsilon$, $\\backepsilon$, $\\leq$, $\\subseteq$  y $x^3$"
   ]
  },
  {
   "cell_type": "code",
   "execution_count": null,
   "metadata": {},
   "outputs": [],
   "source": [
    "\"± × Δ ϵ ϶ ≤ ⊆ x³\""
   ]
  },
  {
   "cell_type": "markdown",
   "metadata": {},
   "source": [
    "### Problema 2\n",
    "\n",
    "Evaluar las siguientes operaciones matemáticas, una por celda. Tenga en cuenta que, en Julia, la división entera se representa por el símbolo ÷.\n",
    "\n",
    "    A = 5 ÷ 2 + 20 ÷ 6\n",
    "    B = 4 * 6 ÷ 2 - 15 ÷ 2\n",
    "    C = 5 * 15 ÷ 2 ÷ (4 - 2)\n",
    "    D = 1 + 1 ÷ 4\n",
    "    E = 1. + 1 ÷ 4\n",
    "    F = 1 + 1. / 4\n",
    "    G = 1. + 1. / 4."
   ]
  },
  {
   "cell_type": "code",
   "execution_count": null,
   "metadata": {},
   "outputs": [],
   "source": []
  },
  {
   "cell_type": "markdown",
   "metadata": {},
   "source": [
    "### Problema 3\n",
    "\n",
    "Implemente una función que pida dos numeros reales e imprima en la pantalla el mayor de ellos. \n",
    "La función debe indicar si los numeros son iguales.\n",
    "Testee la función con ejemplos."
   ]
  },
  {
   "cell_type": "code",
   "execution_count": null,
   "metadata": {},
   "outputs": [],
   "source": []
  },
  {
   "cell_type": "markdown",
   "metadata": {},
   "source": [
    "### Problema 4\n",
    "\n",
    "Implemente una función que pida un número entero y retorne un booleano determinando si es multiplo de 2 y de 5.\n",
    "Testee la función con ejemplos."
   ]
  },
  {
   "cell_type": "code",
   "execution_count": null,
   "metadata": {},
   "outputs": [],
   "source": []
  },
  {
   "cell_type": "markdown",
   "metadata": {},
   "source": [
    "### Problema 5\n",
    "\n",
    "Implemente una función que pida los coeficientes $A$, $B$ y $C$ de un polinomio real de segundo grado ($A x^2 + B x + C$), calcule e imprima en pantalla las dos raíces del polinomio en formato complejo $a + i b$, sin\n",
    "utilizar algebra compleja.\n",
    "Testee la función con ejemplos."
   ]
  },
  {
   "cell_type": "code",
   "execution_count": null,
   "metadata": {},
   "outputs": [],
   "source": []
  },
  {
   "cell_type": "markdown",
   "metadata": {},
   "source": [
    "### Problema 6\n",
    "\n",
    "Implemente una función que compute la suma (en precisión simple, i.e. 32 bits)\n",
    "$$\n",
    "\\sum_{n=1}^{10\\,000\\,000} \\frac{1}{n}\n",
    "$$\n",
    "en el orden usual.\n",
    "Luego, implemente otra que compute la suma en el orden opuesto.\n",
    "Ejecute ambas funciones, observe los resultados y describa las diferencias obtenidas.\n",
    "En particular, indique cuál función es más precisa y explique porqué."
   ]
  },
  {
   "cell_type": "code",
   "execution_count": null,
   "metadata": {},
   "outputs": [],
   "source": []
  },
  {
   "cell_type": "markdown",
   "metadata": {},
   "source": [
    "### Problema 7\n",
    "\n",
    "Escriba un programa que calcule la posición y la velocidad en función del tiempo para un problema de tiro oblicuo.\n",
    "El programa debe tomar como datos de entrada el ángulo $\\theta$ (en grados) y la rapidéz inicial $v_0$ (en m/seg.), asumiendo que el proyectil parte del origen.\n",
    "Elija el incremento temporal ($\\Delta t$) de manera que eventualmente pueda graficar una trajectoria con 600 puntos en el intervalo entre el disparo y el instante en que el proyectil vuelve a tener altura 0. \n",
    "El programa debe utilizar una función para calcular la posición y la velocidad.\n",
    "Calcule la trayectoria para $\\theta=°30$ y $v_0=50\\, m/s$.\n",
    "En una figura grafique $x(t)$, $y(t)$ y $v_y(t)$ en función de $t$.\n",
    "En otra figura grafique la trayectoria del proyectil.\n",
    "\n",
    "**Ayuda:** para plotear puntos o curvas, lea [https://docs.juliaplots.org/latest/tutorial/](https://docs.juliaplots.org/latest/tutorial/). Además, aquí le damos un ejemplo."
   ]
  },
  {
   "cell_type": "code",
   "execution_count": null,
   "metadata": {},
   "outputs": [],
   "source": [
    "# importamos el paquete Plots.\n",
    "using Plots\n",
    "using LaTeXStrings # Esto sirve para incorporar LaTeX al gráfico (ej. en ejes, leyendas, etc.).\n",
    "# Definimos un rango de valores que comienza en -π, va de a pasos 0.01 y termina en π.\n",
    "x = -π:0.01:π\n",
    "# Definimos la función que queremos plotear en dicho rango\n",
    "f(x) = cos(x) + 2.0*sin(x)\n",
    "# Usando broadcasting (i.e. poniendo un punto detras del nombre de la función), aplicamos la función \"f\"\n",
    "# al rango previamente definido \"x\" para crear un vector \"y\".\n",
    "y = f.(x)\n",
    "# Ploteamos los valores de y vs x, usando una linea punteada de color rojo, ancho 2.5 y leyenda \"f\".\n",
    "plot(x,y,linestyle=:dash,linecolor=:red,linewidth=2.5,label=\"f\")\n",
    "# Agregamos al plot (por eso usamos plot! en vez de plot) título y nombres a los ejes.\n",
    "plot!(xlabel=L\"x\",ylabel=L\"y\",title=\"Gráfico ejemplo.\")\n",
    "# Definimos otra curva\n",
    "x = -2π:0.01:2π\n",
    "g(x) = abs(cos(x))\n",
    "y = g.(x)\n",
    "# y la agregamos al gráfico.\n",
    "plot!(x,y,linestyle=:solid,linecolor=:blue,linewidth=2.5,label=\"g\")"
   ]
  },
  {
   "cell_type": "code",
   "execution_count": null,
   "metadata": {},
   "outputs": [],
   "source": []
  },
  {
   "cell_type": "markdown",
   "metadata": {},
   "source": [
    "### Problema 8\n",
    "\n",
    "Implemente una función que multiplique un vector $v$ de dimensión $N$ por una matriz $A$ de dimensión $N\\times N$, y retorne como resultado un vector de dimensión $N$.\n",
    "\n",
    "Escriba un programa que, dado el valor de $N$:\n",
    "\n",
    "1. cree los arreglos correspondientes para $v$ y $A$,\n",
    "\n",
    "2. inicie los valores de $A$ de modo que sea triangular superior, con todos sus elementos igual a 1, excepto los de la diagonal que deben tomar valor 3,\n",
    "\n",
    "3. inicie el vector con todos elementos pares igual a 2, y los impares igual a 3. \n",
    "\n",
    "Minimice el uso de loops (i.e. `for`) para las inicializar los valores del vector y de la matriz. Utilice, en cambio, *broadcasting* y *slicing*.\n",
    "\n",
    "**Ayuda:** Lea [https://docs.julialang.org/en/v1/base/arrays/](https://docs.julialang.org/en/v1/base/arrays/)."
   ]
  },
  {
   "cell_type": "code",
   "execution_count": null,
   "metadata": {},
   "outputs": [],
   "source": []
  },
  {
   "cell_type": "markdown",
   "metadata": {},
   "source": [
    "### Problema 9\n",
    "\n",
    "Escriba una funcion que tome como entrada un número natural $n$ en base $10$ y un número natural $b \\in \\{2,3,...,16\\}$ también en base $10$, y que retorne un string representando a $n$ en base $b$. Testee la función con ejemplos. Chequee con [https://www.rapidtables.com/convert/number/base-converter.html](https://www.rapidtables.com/convert/number/base-converter.html)."
   ]
  },
  {
   "cell_type": "code",
   "execution_count": null,
   "metadata": {},
   "outputs": [],
   "source": []
  },
  {
   "cell_type": "markdown",
   "metadata": {},
   "source": [
    "## Ejercicios Complementarios\n",
    "\n",
    "\n",
    "### Problema C.1\n",
    "\n",
    "Efectúe con un programa en Julia en simple precisión los siguientes cálculos matemáticamente equivalentes,\n",
    "\n",
    "a) $1\\,000\\,000 \\times 0.1$\n",
    "\n",
    "b) $\\sum_{n=1}^{1\\,000\\,000} 0.1$\n",
    "\n",
    "c) $\\sum_{n=1}^{1\\,000} \\left( \\sum_{m=1}^{1\\,000} 0.1\\right)$\n",
    "\n",
    "Explique las diferencias obtenidas entre resultados finales de a), b) y c) y muestre que el error relativo en b) es del orden del $1\\%$, pero es mucho menor en c). \n",
    "\n",
    "1. En los puntos b) y c), vaya guardando en un vector los errores parciales obtenidos para diferentes valores de $n$ entre 1 y 1,000,000. \n",
    "Cada 1000 iteraciones en el caso b), y en todas las iteraciones de la suma externa en c), de maner que cada suma parcial comprenda 1000 términos de la suma total.\n",
    "\n",
    "2. Grafique dichos vectores, comparando con el valor exacto $0.1\\times n$ de la correspondiente suma parcial a cada valor de $n$.\n",
    "Incluya en el gráfico nombres adecuados en los ejes y con leyendas adecuadas.\n",
    "Los datos de b) graficarlos con puntos de tamaño 0.75 (el default es 1), y los de c) con línea\n",
    "de grosor 1.6 (el default es también 1). \n",
    "\n",
    "3. Luego de ver cómo le queda la gráfica en escala lineal, vuelva a graficar con el eje $x$ en escala logarítmica. \n",
    "Segun su criterio, en qué escala se aprecia mejor el resultado del problema para su análisis? \n",
    "Puede al eje $y$ darle escala logarítmica? \n",
    "Pruebe qué pasa si lo hace.\n",
    "Analice la conveniencia en general del uso de escalas logarítmicas.\n",
    "\n",
    "Resalte la conclusión de este ejercicio."
   ]
  },
  {
   "cell_type": "code",
   "execution_count": null,
   "metadata": {},
   "outputs": [],
   "source": []
  },
  {
   "cell_type": "markdown",
   "metadata": {},
   "source": [
    "### Problema C.2\n",
    "\n",
    "Baje el archivo `GlobalTemperatures.csv` de Kaggle:\n",
    "\n",
    "[https://www.kaggle.com/berkeleyearth/climate-change-earth-surface-temperature-data/version/2?select=GlobalTemperatures.csv](https://www.kaggle.com/berkeleyearth/climate-change-earth-surface-temperature-data/version/2?select=GlobalTemperatures.csv)\n",
    "\n",
    "Este archivo contiene la temperatura (promediada sobre el globo terrestre y a lo largo del día) de cada día (salvo algunos faltantes) desde 1 de Enero de 1750 hasta el año 2015.\n",
    "\n",
    "Escribir un programa que lea la tabla de números y grafique las columna `LandAverageTemperature` vs el número de fila, incluyendo una leyenda adecuada y títulos a los ejes. Finalmente, incluya una linea constante en la temperatura promedio. Tengan en cuenta que en los datos existen valores faltantes (missing values). \n",
    "\n",
    "Repita lo anterior, pero agregando a la figura una curva representando el *rolling average* de los datos usando una ventana de $v=365$ días. El rolling average se define como\n",
    "\n",
    "$$x_{ra}(t,v) = \\frac{1}{v}\\sum_{t'=t}^{t+v} x(t')$$\n",
    "\n",
    "i.e., para cada $t$, se promedian los valores de $x$ en $[t,t+v]$. Esto se usa para suavizar las fluctuaciones temporalmente locales de la señal.\n",
    "\n",
    "Saque ventaja de los paquetes `CSV`, `DataFrames` y `Statistics`.\n",
    "\n",
    "Puede concluirse que se observa calentamiento global?"
   ]
  },
  {
   "cell_type": "code",
   "execution_count": null,
   "metadata": {},
   "outputs": [],
   "source": []
  },
  {
   "cell_type": "markdown",
   "metadata": {},
   "source": [
    "### Problema C.3\n",
    "\n",
    "Escribir un programa que, dado un año y el nombre de un mes, saque por pantalla el numero de días del mes.\n",
    "Tenga en cuenta que algunos años son bisiestos.\n",
    "\n",
    "**Ayuda:** Considere las siguientes afirmaciones. El año $a$ es:\n",
    "\n",
    "1. divisible por 4,\n",
    "\n",
    "2. divisible por 400.\n",
    "\n",
    "3. divisible por 100,\n",
    "\n",
    "Un año es bisiesto si: \n",
    "\n",
    "    1. & ( 2. or ( not 3. ) )\n",
    "    \n",
    "es verdadero. Fuente [https://es.wikipedia.org/wiki/A%C3%B1o_bisiesto](https://es.wikipedia.org/wiki/A%C3%B1o_bisiesto)."
   ]
  },
  {
   "cell_type": "code",
   "execution_count": null,
   "metadata": {},
   "outputs": [],
   "source": []
  },
  {
   "cell_type": "markdown",
   "metadata": {},
   "source": [
    "### Problema C.4\n",
    "\n",
    "Escriba un programa para calcular un valor aproximado de $\\pi$ utilizando \n",
    "\n",
    "1. La fórmula recurrente de Arquímedes, que  acota $\\pi$ entre $P_n$ y $p_n$, con $p_n < \\pi < P_n$. \n",
    "Siendo $p_n$ y $P_n$ los perímetros de los polígonos regulares de $n$ lados inscriptos y circunscriptos, respectivamente, en la circunsferencia de radio $1/2$. \n",
    "\n",
    "La fórmula de recurrencia que encontró Arquímides es la siguiente:\n",
    "\n",
    "$$\n",
    "\\begin{align}\n",
    "P_{2n} &= \\frac{2 p_n P_n}{p_n + P_n} \\\\\n",
    "p_{2n} &= \\sqrt{P_{2n} p_n} \n",
    "\\end{align}\n",
    "$$\n",
    "\n",
    "\n",
    "Usando los valores $P_6=2\\sqrt{3}$ y $p_6 = 3$, correspondientes al hexágono, \n",
    "escriba un programa que realice 20 iteraciones, con $n = 6\\times 2^k$, y \n",
    "$k=1, \\cdots, 20$, y escriba los resultados en pantalla.\n",
    "\n",
    "2. La productoria de Wallis\n",
    "$$\n",
    "\\frac{\\pi}{2} = \\prod_{n=1}^\\infty \\frac{(2n)^2}{(2n)^2-1} =\n",
    "\\frac43\\frac{16}{15}\\frac{36}{35}\\frac{64}{63}\\dots \n",
    "%\\frac21\\frac23\\frac43\\frac45\\frac65\\frac67\\dots \n",
    "$$\n",
    "truncando la productoria a $10^6$ factores."
   ]
  },
  {
   "cell_type": "code",
   "execution_count": null,
   "metadata": {},
   "outputs": [],
   "source": []
  },
  {
   "cell_type": "markdown",
   "metadata": {},
   "source": [
    "### Problema C.5\n",
    "\n",
    "Ejecute el siguiente programa y explique por qué los valores obtenidos no son iguales."
   ]
  },
  {
   "cell_type": "code",
   "execution_count": null,
   "metadata": {},
   "outputs": [],
   "source": [
    "sum0 = Float32(0.0)\n",
    "sum1 = Float32(1.0)\n",
    "for i in 1:10000\n",
    "    sum0 += Float32(1.e-8)\n",
    "    sum1 += Float32(1.e-8)\n",
    "end\n",
    "sum0 += Float32(1.0)\n",
    "println(\"sum0 = \",sum0)\n",
    "println(\"sum1 = \",sum1)"
   ]
  },
  {
   "cell_type": "markdown",
   "metadata": {},
   "source": [
    "### Ejercicio C.6\n",
    "\n",
    "**Creando un paquete de Julia**\n",
    "\n",
    "Importamos el administrador de paquetes."
   ]
  },
  {
   "cell_type": "code",
   "execution_count": null,
   "metadata": {},
   "outputs": [],
   "source": [
    "using Pkg"
   ]
  },
  {
   "cell_type": "markdown",
   "metadata": {},
   "source": [
    "Creamos un macro que nos permita ejecutar comandos de cónsola (Linux en este ejemplo, pero Uds. puede remplazarlos por comandos equivalentes de Windows)."
   ]
  },
  {
   "cell_type": "code",
   "execution_count": null,
   "metadata": {},
   "outputs": [],
   "source": [
    "macro bash_str(s) open(`bash`,\"w\",stdout) do io; print(io, s); end; end;"
   ]
  },
  {
   "cell_type": "markdown",
   "metadata": {},
   "source": [
    "Probemos el macro, ingresando el comando de bash `ls` que comunmente se usa para listar el contenido de la carpeta en la que estamos trabajando."
   ]
  },
  {
   "cell_type": "code",
   "execution_count": null,
   "metadata": {},
   "outputs": [],
   "source": [
    "@bash_str \"ls\""
   ]
  },
  {
   "cell_type": "markdown",
   "metadata": {},
   "source": [
    "En esta carpeta, generaremos nuestro primer paquete, al que llamaremos `MiPackage`."
   ]
  },
  {
   "cell_type": "code",
   "execution_count": null,
   "metadata": {},
   "outputs": [],
   "source": [
    "Pkg.generate(\"MiPackage\")"
   ]
  },
  {
   "cell_type": "markdown",
   "metadata": {},
   "source": [
    "Listando el contenido de la carpeta actual, deberiamos poder ver una carpeta nueva llamada `MiPackage` que contiene el paquete generado."
   ]
  },
  {
   "cell_type": "code",
   "execution_count": null,
   "metadata": {},
   "outputs": [],
   "source": [
    "@bash_str \"ls\""
   ]
  },
  {
   "cell_type": "markdown",
   "metadata": {},
   "source": [
    "Listamos el contenido de la carpeta `MiPackage`. Deberiamos ver el archivo `Project.toml` que declara los atributos del paquete que creamos y la carpeta `src` que está destianada a contener los módulos del paquete."
   ]
  },
  {
   "cell_type": "code",
   "execution_count": null,
   "metadata": {},
   "outputs": [],
   "source": [
    "@bash_str \"ls MiPackage\""
   ]
  },
  {
   "cell_type": "markdown",
   "metadata": {},
   "source": [
    "Listamos el contenido de la carpeta `MiPackage/src`. Deberiamos ver el archivo `MiPackage.jl` que es un módulo creado por defecto al crearse el paquete."
   ]
  },
  {
   "cell_type": "code",
   "execution_count": null,
   "metadata": {},
   "outputs": [],
   "source": [
    "@bash_str \"ls MiPackage/src\""
   ]
  },
  {
   "cell_type": "markdown",
   "metadata": {},
   "source": [
    "Inspeccionamos el contenido del archivo `MiPackage/src/MiPackage.jl`. Deberíamos ver:\n",
    "\n",
    "    module MiPackage\n",
    "\n",
    "    greet() = print(\"Hello World!\")\n",
    "\n",
    "    end # module"
   ]
  },
  {
   "cell_type": "code",
   "execution_count": null,
   "metadata": {},
   "outputs": [],
   "source": [
    "@bash_str \"cat MiPackage/src/MiPackage.jl\""
   ]
  },
  {
   "cell_type": "markdown",
   "metadata": {},
   "source": [
    "Ahora nos interesa agregar dependencias al paquete creado `MiPackage`, de manera que cuando instalemos/usemos `MiPackage` se instalen/importen automaticamente otros paquetes que deseemos.\n",
    "\n",
    "Para ello, activamos el paquete `MiPackage`,"
   ]
  },
  {
   "cell_type": "code",
   "execution_count": null,
   "metadata": {},
   "outputs": [],
   "source": [
    "Pkg.activate(\"MiPackage\")"
   ]
  },
  {
   "cell_type": "markdown",
   "metadata": {},
   "source": [
    "e instalamos el paquete `Random`"
   ]
  },
  {
   "cell_type": "code",
   "execution_count": null,
   "metadata": {},
   "outputs": [],
   "source": [
    "Pkg.add(\"Random\")"
   ]
  },
  {
   "cell_type": "markdown",
   "metadata": {},
   "source": [
    "Como `MiPackage` está activo, `Random` se instalará como dependencia de `MiPackage`. Para corroborar esto, inspeccionamos la carpeta `MiPackage`"
   ]
  },
  {
   "cell_type": "code",
   "execution_count": null,
   "metadata": {},
   "outputs": [],
   "source": [
    "@bash_str \"ls MiPackage\""
   ]
  },
  {
   "cell_type": "markdown",
   "metadata": {},
   "source": [
    "Deberíamos encontrar un nuevo archivo llamado `Manifest.toml`. En este archivo se declaran las dependencias de `MiPackage`. Para ver esto, lo inspeccionamos"
   ]
  },
  {
   "cell_type": "code",
   "execution_count": null,
   "metadata": {},
   "outputs": [],
   "source": [
    "@bash_str \"cat MiPackage/Manifest.toml\""
   ]
  },
  {
   "cell_type": "code",
   "execution_count": null,
   "metadata": {},
   "outputs": [],
   "source": [
    "Ahora nos interesa agregar una función al módulo `MiPackage/src/MiPackage.jl`. Para ello sobreescribimos el correspondiente archivo haciendo"
   ]
  },
  {
   "cell_type": "code",
   "execution_count": null,
   "metadata": {},
   "outputs": [],
   "source": [
    "s=\"\"\"module MiPackage\n",
    "\n",
    "export prn_rnd\n",
    "\n",
    "import Random\n",
    "\n",
    "greet() = print(\"Hello World!\")\n",
    "prn_rnd() = println(\"A continuación se imprimen 8 letras elegidas al azar: \",Random.randstring(8))\n",
    "\n",
    "end # module\"\"\"\n",
    "\n",
    "open(\"MiPackage/src/MiPackage.jl\", \"w\") do io\n",
    "    write(io,s)\n",
    "end;"
   ]
  },
  {
   "cell_type": "markdown",
   "metadata": {},
   "source": [
    "Chequeamos que todo haya salido bien"
   ]
  },
  {
   "cell_type": "code",
   "execution_count": null,
   "metadata": {},
   "outputs": [],
   "source": [
    "@bash_str \"cat MiPackage/src/MiPackage.jl\""
   ]
  },
  {
   "cell_type": "markdown",
   "metadata": {},
   "source": [
    "Ahora usamos el paquete `MiPackage` y testeamos que la nueva función exportada `prn_rnd()` (la cual utiliza la dependencia instalada `Random`) funciona al llamarla."
   ]
  },
  {
   "cell_type": "code",
   "execution_count": null,
   "metadata": {},
   "outputs": [],
   "source": [
    "using MiPackage"
   ]
  },
  {
   "cell_type": "code",
   "execution_count": null,
   "metadata": {},
   "outputs": [],
   "source": [
    "MiPackage.prn_rnd()"
   ]
  },
  {
   "cell_type": "code",
   "execution_count": null,
   "metadata": {},
   "outputs": [],
   "source": [
    "prn_rnd()"
   ]
  }
 ],
 "metadata": {
  "@webio": {
   "lastCommId": null,
   "lastKernelId": null
  },
  "kernelspec": {
   "display_name": "Julia 1.7.2",
   "language": "julia",
   "name": "julia-1.7"
  },
  "language_info": {
   "file_extension": ".jl",
   "mimetype": "application/julia",
   "name": "julia",
   "version": "1.7.2"
  }
 },
 "nbformat": 4,
 "nbformat_minor": 4
}
